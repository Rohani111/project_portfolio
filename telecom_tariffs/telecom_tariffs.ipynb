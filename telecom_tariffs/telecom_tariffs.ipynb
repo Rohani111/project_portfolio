{
 "cells": [
  {
   "cell_type": "markdown",
   "metadata": {},
   "source": [
    "<a id='section_id'></a>"
   ]
  },
  {
   "cell_type": "markdown",
   "metadata": {},
   "source": [
    "<h1> <div align=\"center\"><a> Проект «Определение перспективного тарифа для телеком-компании» </a></div>"
   ]
  },
  {
   "cell_type": "markdown",
   "metadata": {},
   "source": [
    "## Изучение данных из файла"
   ]
  },
  {
   "cell_type": "code",
   "execution_count": 1,
   "metadata": {},
   "outputs": [],
   "source": [
    "import pandas as pd\n",
    "import matplotlib.pyplot as plt\n",
    "import numpy as np\n",
    "from scipy import stats as st"
   ]
  },
  {
   "cell_type": "code",
   "execution_count": 2,
   "metadata": {},
   "outputs": [
    {
     "data": {
      "text/html": [
       "<div>\n",
       "<style scoped>\n",
       "    .dataframe tbody tr th:only-of-type {\n",
       "        vertical-align: middle;\n",
       "    }\n",
       "\n",
       "    .dataframe tbody tr th {\n",
       "        vertical-align: top;\n",
       "    }\n",
       "\n",
       "    .dataframe thead th {\n",
       "        text-align: right;\n",
       "    }\n",
       "</style>\n",
       "<table border=\"1\" class=\"dataframe\">\n",
       "  <thead>\n",
       "    <tr style=\"text-align: right;\">\n",
       "      <th></th>\n",
       "      <th>id</th>\n",
       "      <th>call_date</th>\n",
       "      <th>duration</th>\n",
       "      <th>user_id</th>\n",
       "    </tr>\n",
       "  </thead>\n",
       "  <tbody>\n",
       "    <tr>\n",
       "      <td>0</td>\n",
       "      <td>1000_0</td>\n",
       "      <td>2018-07-25</td>\n",
       "      <td>0.00</td>\n",
       "      <td>1000</td>\n",
       "    </tr>\n",
       "    <tr>\n",
       "      <td>1</td>\n",
       "      <td>1000_1</td>\n",
       "      <td>2018-08-17</td>\n",
       "      <td>0.00</td>\n",
       "      <td>1000</td>\n",
       "    </tr>\n",
       "    <tr>\n",
       "      <td>2</td>\n",
       "      <td>1000_2</td>\n",
       "      <td>2018-06-11</td>\n",
       "      <td>2.85</td>\n",
       "      <td>1000</td>\n",
       "    </tr>\n",
       "    <tr>\n",
       "      <td>3</td>\n",
       "      <td>1000_3</td>\n",
       "      <td>2018-09-21</td>\n",
       "      <td>13.80</td>\n",
       "      <td>1000</td>\n",
       "    </tr>\n",
       "    <tr>\n",
       "      <td>4</td>\n",
       "      <td>1000_4</td>\n",
       "      <td>2018-12-15</td>\n",
       "      <td>5.18</td>\n",
       "      <td>1000</td>\n",
       "    </tr>\n",
       "  </tbody>\n",
       "</table>\n",
       "</div>"
      ],
      "text/plain": [
       "       id   call_date  duration  user_id\n",
       "0  1000_0  2018-07-25      0.00     1000\n",
       "1  1000_1  2018-08-17      0.00     1000\n",
       "2  1000_2  2018-06-11      2.85     1000\n",
       "3  1000_3  2018-09-21     13.80     1000\n",
       "4  1000_4  2018-12-15      5.18     1000"
      ]
     },
     "metadata": {},
     "output_type": "display_data"
    },
    {
     "data": {
      "text/plain": [
       "0"
      ]
     },
     "metadata": {},
     "output_type": "display_data"
    },
    {
     "name": "stdout",
     "output_type": "stream",
     "text": [
      "<class 'pandas.core.frame.DataFrame'>\n",
      "RangeIndex: 202607 entries, 0 to 202606\n",
      "Data columns (total 4 columns):\n",
      "id           202607 non-null object\n",
      "call_date    202607 non-null object\n",
      "duration     202607 non-null float64\n",
      "user_id      202607 non-null int64\n",
      "dtypes: float64(1), int64(1), object(2)\n",
      "memory usage: 6.2+ MB\n"
     ]
    }
   ],
   "source": [
    "calls_data = pd.read_csv(\"/datasets/calls.csv\")\n",
    "display(calls_data.head())\n",
    "display(calls_data.duplicated().sum())\n",
    "calls_data.info()"
   ]
  },
  {
   "cell_type": "markdown",
   "metadata": {},
   "source": [
    "Таблица имеет около 200 тыс. строк. Пропущенных значений и дубликатов не обнаружено. Преобразовывать названия столбцов нет необходимости. Данные в столбце call_date представлены в формате object и требуют замены на формат datetime."
   ]
  },
  {
   "cell_type": "code",
   "execution_count": 3,
   "metadata": {},
   "outputs": [
    {
     "data": {
      "text/html": [
       "<div>\n",
       "<style scoped>\n",
       "    .dataframe tbody tr th:only-of-type {\n",
       "        vertical-align: middle;\n",
       "    }\n",
       "\n",
       "    .dataframe tbody tr th {\n",
       "        vertical-align: top;\n",
       "    }\n",
       "\n",
       "    .dataframe thead th {\n",
       "        text-align: right;\n",
       "    }\n",
       "</style>\n",
       "<table border=\"1\" class=\"dataframe\">\n",
       "  <thead>\n",
       "    <tr style=\"text-align: right;\">\n",
       "      <th></th>\n",
       "      <th>id</th>\n",
       "      <th>mb_used</th>\n",
       "      <th>session_date</th>\n",
       "      <th>user_id</th>\n",
       "    </tr>\n",
       "  </thead>\n",
       "  <tbody>\n",
       "    <tr>\n",
       "      <td>0</td>\n",
       "      <td>1000_0</td>\n",
       "      <td>112.95</td>\n",
       "      <td>2018-11-25</td>\n",
       "      <td>1000</td>\n",
       "    </tr>\n",
       "    <tr>\n",
       "      <td>1</td>\n",
       "      <td>1000_1</td>\n",
       "      <td>1052.81</td>\n",
       "      <td>2018-09-07</td>\n",
       "      <td>1000</td>\n",
       "    </tr>\n",
       "    <tr>\n",
       "      <td>2</td>\n",
       "      <td>1000_2</td>\n",
       "      <td>1197.26</td>\n",
       "      <td>2018-06-25</td>\n",
       "      <td>1000</td>\n",
       "    </tr>\n",
       "    <tr>\n",
       "      <td>3</td>\n",
       "      <td>1000_3</td>\n",
       "      <td>550.27</td>\n",
       "      <td>2018-08-22</td>\n",
       "      <td>1000</td>\n",
       "    </tr>\n",
       "    <tr>\n",
       "      <td>4</td>\n",
       "      <td>1000_4</td>\n",
       "      <td>302.56</td>\n",
       "      <td>2018-09-24</td>\n",
       "      <td>1000</td>\n",
       "    </tr>\n",
       "  </tbody>\n",
       "</table>\n",
       "</div>"
      ],
      "text/plain": [
       "       id  mb_used session_date  user_id\n",
       "0  1000_0   112.95   2018-11-25     1000\n",
       "1  1000_1  1052.81   2018-09-07     1000\n",
       "2  1000_2  1197.26   2018-06-25     1000\n",
       "3  1000_3   550.27   2018-08-22     1000\n",
       "4  1000_4   302.56   2018-09-24     1000"
      ]
     },
     "metadata": {},
     "output_type": "display_data"
    },
    {
     "data": {
      "text/plain": [
       "0"
      ]
     },
     "metadata": {},
     "output_type": "display_data"
    },
    {
     "name": "stdout",
     "output_type": "stream",
     "text": [
      "<class 'pandas.core.frame.DataFrame'>\n",
      "Int64Index: 149396 entries, 0 to 149395\n",
      "Data columns (total 4 columns):\n",
      "id              149396 non-null object\n",
      "mb_used         149396 non-null float64\n",
      "session_date    149396 non-null object\n",
      "user_id         149396 non-null int64\n",
      "dtypes: float64(1), int64(1), object(2)\n",
      "memory usage: 5.7+ MB\n"
     ]
    }
   ],
   "source": [
    "internet_data = pd.read_csv(\"/datasets/internet.csv\", index_col=0)\n",
    "display(internet_data.head())\n",
    "display(internet_data.duplicated().sum())\n",
    "internet_data.info()"
   ]
  },
  {
   "cell_type": "markdown",
   "metadata": {},
   "source": [
    "Таблица имеет около 150 тыс. строк. Пропущенных значений и дубликатов не обнаружено. Преобразовывать названия столбцов нет необходимости. Данные в столбце session_date представлены в формате object и требуют замены на формат datetime."
   ]
  },
  {
   "cell_type": "code",
   "execution_count": 4,
   "metadata": {
    "scrolled": true
   },
   "outputs": [
    {
     "data": {
      "text/html": [
       "<div>\n",
       "<style scoped>\n",
       "    .dataframe tbody tr th:only-of-type {\n",
       "        vertical-align: middle;\n",
       "    }\n",
       "\n",
       "    .dataframe tbody tr th {\n",
       "        vertical-align: top;\n",
       "    }\n",
       "\n",
       "    .dataframe thead th {\n",
       "        text-align: right;\n",
       "    }\n",
       "</style>\n",
       "<table border=\"1\" class=\"dataframe\">\n",
       "  <thead>\n",
       "    <tr style=\"text-align: right;\">\n",
       "      <th></th>\n",
       "      <th>id</th>\n",
       "      <th>message_date</th>\n",
       "      <th>user_id</th>\n",
       "    </tr>\n",
       "  </thead>\n",
       "  <tbody>\n",
       "    <tr>\n",
       "      <td>0</td>\n",
       "      <td>1000_0</td>\n",
       "      <td>2018-06-27</td>\n",
       "      <td>1000</td>\n",
       "    </tr>\n",
       "    <tr>\n",
       "      <td>1</td>\n",
       "      <td>1000_1</td>\n",
       "      <td>2018-10-08</td>\n",
       "      <td>1000</td>\n",
       "    </tr>\n",
       "    <tr>\n",
       "      <td>2</td>\n",
       "      <td>1000_2</td>\n",
       "      <td>2018-08-04</td>\n",
       "      <td>1000</td>\n",
       "    </tr>\n",
       "    <tr>\n",
       "      <td>3</td>\n",
       "      <td>1000_3</td>\n",
       "      <td>2018-06-16</td>\n",
       "      <td>1000</td>\n",
       "    </tr>\n",
       "    <tr>\n",
       "      <td>4</td>\n",
       "      <td>1000_4</td>\n",
       "      <td>2018-12-05</td>\n",
       "      <td>1000</td>\n",
       "    </tr>\n",
       "  </tbody>\n",
       "</table>\n",
       "</div>"
      ],
      "text/plain": [
       "       id message_date  user_id\n",
       "0  1000_0   2018-06-27     1000\n",
       "1  1000_1   2018-10-08     1000\n",
       "2  1000_2   2018-08-04     1000\n",
       "3  1000_3   2018-06-16     1000\n",
       "4  1000_4   2018-12-05     1000"
      ]
     },
     "metadata": {},
     "output_type": "display_data"
    },
    {
     "data": {
      "text/plain": [
       "0"
      ]
     },
     "metadata": {},
     "output_type": "display_data"
    },
    {
     "name": "stdout",
     "output_type": "stream",
     "text": [
      "<class 'pandas.core.frame.DataFrame'>\n",
      "RangeIndex: 123036 entries, 0 to 123035\n",
      "Data columns (total 3 columns):\n",
      "id              123036 non-null object\n",
      "message_date    123036 non-null object\n",
      "user_id         123036 non-null int64\n",
      "dtypes: int64(1), object(2)\n",
      "memory usage: 2.8+ MB\n"
     ]
    }
   ],
   "source": [
    "messages_data = pd.read_csv(\"/datasets/messages.csv\")\n",
    "display(messages_data.head())\n",
    "display(messages_data.duplicated().sum())\n",
    "messages_data.info()"
   ]
  },
  {
   "cell_type": "markdown",
   "metadata": {},
   "source": [
    "Таблица имеет около 120 тыс. строк. Пропущенных значений и дубликатов не обнаружено. Преобразовывать названия столбцов нет необходимости. Данные в столбце message_date представлены в формате object и требуют замены на формат datetime."
   ]
  },
  {
   "cell_type": "code",
   "execution_count": 5,
   "metadata": {
    "scrolled": true
   },
   "outputs": [
    {
     "data": {
      "text/html": [
       "<div>\n",
       "<style scoped>\n",
       "    .dataframe tbody tr th:only-of-type {\n",
       "        vertical-align: middle;\n",
       "    }\n",
       "\n",
       "    .dataframe tbody tr th {\n",
       "        vertical-align: top;\n",
       "    }\n",
       "\n",
       "    .dataframe thead th {\n",
       "        text-align: right;\n",
       "    }\n",
       "</style>\n",
       "<table border=\"1\" class=\"dataframe\">\n",
       "  <thead>\n",
       "    <tr style=\"text-align: right;\">\n",
       "      <th></th>\n",
       "      <th>messages_included</th>\n",
       "      <th>mb_per_month_included</th>\n",
       "      <th>minutes_included</th>\n",
       "      <th>rub_monthly_fee</th>\n",
       "      <th>rub_per_gb</th>\n",
       "      <th>rub_per_message</th>\n",
       "      <th>rub_per_minute</th>\n",
       "      <th>tariff_name</th>\n",
       "    </tr>\n",
       "  </thead>\n",
       "  <tbody>\n",
       "    <tr>\n",
       "      <td>0</td>\n",
       "      <td>50</td>\n",
       "      <td>15360</td>\n",
       "      <td>500</td>\n",
       "      <td>550</td>\n",
       "      <td>200</td>\n",
       "      <td>3</td>\n",
       "      <td>3</td>\n",
       "      <td>smart</td>\n",
       "    </tr>\n",
       "    <tr>\n",
       "      <td>1</td>\n",
       "      <td>1000</td>\n",
       "      <td>30720</td>\n",
       "      <td>3000</td>\n",
       "      <td>1950</td>\n",
       "      <td>150</td>\n",
       "      <td>1</td>\n",
       "      <td>1</td>\n",
       "      <td>ultra</td>\n",
       "    </tr>\n",
       "  </tbody>\n",
       "</table>\n",
       "</div>"
      ],
      "text/plain": [
       "   messages_included  mb_per_month_included  minutes_included  \\\n",
       "0                 50                  15360               500   \n",
       "1               1000                  30720              3000   \n",
       "\n",
       "   rub_monthly_fee  rub_per_gb  rub_per_message  rub_per_minute tariff_name  \n",
       "0              550         200                3               3       smart  \n",
       "1             1950         150                1               1       ultra  "
      ]
     },
     "metadata": {},
     "output_type": "display_data"
    },
    {
     "name": "stdout",
     "output_type": "stream",
     "text": [
      "<class 'pandas.core.frame.DataFrame'>\n",
      "RangeIndex: 2 entries, 0 to 1\n",
      "Data columns (total 8 columns):\n",
      "messages_included        2 non-null int64\n",
      "mb_per_month_included    2 non-null int64\n",
      "minutes_included         2 non-null int64\n",
      "rub_monthly_fee          2 non-null int64\n",
      "rub_per_gb               2 non-null int64\n",
      "rub_per_message          2 non-null int64\n",
      "rub_per_minute           2 non-null int64\n",
      "tariff_name              2 non-null object\n",
      "dtypes: int64(7), object(1)\n",
      "memory usage: 256.0+ bytes\n"
     ]
    }
   ],
   "source": [
    "tariffs_data = pd.read_csv(\"/datasets/tariffs.csv\")\n",
    "display(tariffs_data.head())\n",
    "tariffs_data.info()"
   ]
  },
  {
   "cell_type": "code",
   "execution_count": 6,
   "metadata": {},
   "outputs": [
    {
     "data": {
      "text/html": [
       "<div>\n",
       "<style scoped>\n",
       "    .dataframe tbody tr th:only-of-type {\n",
       "        vertical-align: middle;\n",
       "    }\n",
       "\n",
       "    .dataframe tbody tr th {\n",
       "        vertical-align: top;\n",
       "    }\n",
       "\n",
       "    .dataframe thead th {\n",
       "        text-align: right;\n",
       "    }\n",
       "</style>\n",
       "<table border=\"1\" class=\"dataframe\">\n",
       "  <thead>\n",
       "    <tr style=\"text-align: right;\">\n",
       "      <th></th>\n",
       "      <th>user_id</th>\n",
       "      <th>age</th>\n",
       "      <th>churn_date</th>\n",
       "      <th>city</th>\n",
       "      <th>first_name</th>\n",
       "      <th>last_name</th>\n",
       "      <th>reg_date</th>\n",
       "      <th>tariff</th>\n",
       "    </tr>\n",
       "  </thead>\n",
       "  <tbody>\n",
       "    <tr>\n",
       "      <td>0</td>\n",
       "      <td>1000</td>\n",
       "      <td>52</td>\n",
       "      <td>NaN</td>\n",
       "      <td>Краснодар</td>\n",
       "      <td>Рафаил</td>\n",
       "      <td>Верещагин</td>\n",
       "      <td>2018-05-25</td>\n",
       "      <td>ultra</td>\n",
       "    </tr>\n",
       "    <tr>\n",
       "      <td>1</td>\n",
       "      <td>1001</td>\n",
       "      <td>41</td>\n",
       "      <td>NaN</td>\n",
       "      <td>Москва</td>\n",
       "      <td>Иван</td>\n",
       "      <td>Ежов</td>\n",
       "      <td>2018-11-01</td>\n",
       "      <td>smart</td>\n",
       "    </tr>\n",
       "    <tr>\n",
       "      <td>2</td>\n",
       "      <td>1002</td>\n",
       "      <td>59</td>\n",
       "      <td>NaN</td>\n",
       "      <td>Стерлитамак</td>\n",
       "      <td>Евгений</td>\n",
       "      <td>Абрамович</td>\n",
       "      <td>2018-06-17</td>\n",
       "      <td>smart</td>\n",
       "    </tr>\n",
       "    <tr>\n",
       "      <td>3</td>\n",
       "      <td>1003</td>\n",
       "      <td>23</td>\n",
       "      <td>NaN</td>\n",
       "      <td>Москва</td>\n",
       "      <td>Белла</td>\n",
       "      <td>Белякова</td>\n",
       "      <td>2018-08-17</td>\n",
       "      <td>ultra</td>\n",
       "    </tr>\n",
       "    <tr>\n",
       "      <td>4</td>\n",
       "      <td>1004</td>\n",
       "      <td>68</td>\n",
       "      <td>NaN</td>\n",
       "      <td>Новокузнецк</td>\n",
       "      <td>Татьяна</td>\n",
       "      <td>Авдеенко</td>\n",
       "      <td>2018-05-14</td>\n",
       "      <td>ultra</td>\n",
       "    </tr>\n",
       "  </tbody>\n",
       "</table>\n",
       "</div>"
      ],
      "text/plain": [
       "   user_id  age churn_date         city first_name  last_name    reg_date  \\\n",
       "0     1000   52        NaN    Краснодар     Рафаил  Верещагин  2018-05-25   \n",
       "1     1001   41        NaN       Москва       Иван       Ежов  2018-11-01   \n",
       "2     1002   59        NaN  Стерлитамак    Евгений  Абрамович  2018-06-17   \n",
       "3     1003   23        NaN       Москва      Белла   Белякова  2018-08-17   \n",
       "4     1004   68        NaN  Новокузнецк    Татьяна   Авдеенко  2018-05-14   \n",
       "\n",
       "  tariff  \n",
       "0  ultra  \n",
       "1  smart  \n",
       "2  smart  \n",
       "3  ultra  \n",
       "4  ultra  "
      ]
     },
     "metadata": {},
     "output_type": "display_data"
    },
    {
     "data": {
      "text/plain": [
       "0"
      ]
     },
     "metadata": {},
     "output_type": "display_data"
    },
    {
     "name": "stdout",
     "output_type": "stream",
     "text": [
      "<class 'pandas.core.frame.DataFrame'>\n",
      "RangeIndex: 500 entries, 0 to 499\n",
      "Data columns (total 8 columns):\n",
      "user_id       500 non-null int64\n",
      "age           500 non-null int64\n",
      "churn_date    38 non-null object\n",
      "city          500 non-null object\n",
      "first_name    500 non-null object\n",
      "last_name     500 non-null object\n",
      "reg_date      500 non-null object\n",
      "tariff        500 non-null object\n",
      "dtypes: int64(2), object(6)\n",
      "memory usage: 31.4+ KB\n"
     ]
    }
   ],
   "source": [
    "users_data = pd.read_csv(\"/datasets/users.csv\")\n",
    "#display(users_data.dropna(subset=['churn_date']))\n",
    "display(users_data.head())\n",
    "display(users_data.duplicated().sum())\n",
    "users_data.info()"
   ]
  },
  {
   "cell_type": "markdown",
   "metadata": {},
   "source": [
    "Выборка представлена по 500 абонентам. Пропущенных значений и дубликатов не обнаружено. Преобразовывать названия столбцов нет необходимости. Данные в столбце reg_date представлены в формате object и требуют замены на формат datetime. Мы видим, что из 500 абонентов 38 уже прекратили пользоваться рассматриваемыми нами тарифами."
   ]
  },
  {
   "cell_type": "markdown",
   "metadata": {},
   "source": [
    "### Вывод\n",
    " - самые большие массивы по звонкам, сообщениями и интернет-сессиям (120 - 200 тысяч строк);\n",
    " - в исходных массивах данных столбцов с пропущенными значений и дубликатов не обнаружено;\n",
    " - преобразовывать названия столбцов нет необходимости;\n",
    " - столбцы с датами call_date, message_date и reg_date необходимо преобразовать в формат datetime;\n",
    " - 38 абонентов уже не используют рассматриваемые тарифы, что повлияет на расчет выручки по ним."
   ]
  },
  {
   "cell_type": "markdown",
   "metadata": {},
   "source": [
    "## Подготовка данных"
   ]
  },
  {
   "cell_type": "markdown",
   "metadata": {},
   "source": [
    "Посчитаем для каждого пользователя:\n",
    " - количество сделанных звонков и израсходованных минут разговора по месяцам, учитывая что каждый звонок округляется до полной минуты;\n",
    " - количество отправленных сообщений по месяцам;\n",
    " - объем израсходованного интернет-трафика по месяцам, с учетом что общая сумма мегабайт за месяц округляется до гигабайт;\n",
    " - помесячную выручку с каждого пользователя.\n",
    " \n",
    "Для этого столбцы с датами call_date, message_date и reg_date преобразуем в формат datetime, чтобы далее извлечь порядковый номер месяца."
   ]
  },
  {
   "cell_type": "code",
   "execution_count": 7,
   "metadata": {},
   "outputs": [
    {
     "data": {
      "text/html": [
       "<div>\n",
       "<style scoped>\n",
       "    .dataframe tbody tr th:only-of-type {\n",
       "        vertical-align: middle;\n",
       "    }\n",
       "\n",
       "    .dataframe tbody tr th {\n",
       "        vertical-align: top;\n",
       "    }\n",
       "\n",
       "    .dataframe thead tr th {\n",
       "        text-align: left;\n",
       "    }\n",
       "\n",
       "    .dataframe thead tr:last-of-type th {\n",
       "        text-align: right;\n",
       "    }\n",
       "</style>\n",
       "<table border=\"1\" class=\"dataframe\">\n",
       "  <thead>\n",
       "    <tr>\n",
       "      <th></th>\n",
       "      <th></th>\n",
       "      <th>count</th>\n",
       "      <th>sum</th>\n",
       "    </tr>\n",
       "    <tr>\n",
       "      <th></th>\n",
       "      <th></th>\n",
       "      <th>duration_round</th>\n",
       "      <th>duration_round</th>\n",
       "    </tr>\n",
       "    <tr>\n",
       "      <th>user_id</th>\n",
       "      <th>month</th>\n",
       "      <th></th>\n",
       "      <th></th>\n",
       "    </tr>\n",
       "  </thead>\n",
       "  <tbody>\n",
       "    <tr>\n",
       "      <td rowspan=\"5\" valign=\"top\">1000</td>\n",
       "      <td>5</td>\n",
       "      <td>22</td>\n",
       "      <td>159.0</td>\n",
       "    </tr>\n",
       "    <tr>\n",
       "      <td>6</td>\n",
       "      <td>43</td>\n",
       "      <td>172.0</td>\n",
       "    </tr>\n",
       "    <tr>\n",
       "      <td>7</td>\n",
       "      <td>47</td>\n",
       "      <td>340.0</td>\n",
       "    </tr>\n",
       "    <tr>\n",
       "      <td>8</td>\n",
       "      <td>52</td>\n",
       "      <td>408.0</td>\n",
       "    </tr>\n",
       "    <tr>\n",
       "      <td>9</td>\n",
       "      <td>58</td>\n",
       "      <td>466.0</td>\n",
       "    </tr>\n",
       "  </tbody>\n",
       "</table>\n",
       "</div>"
      ],
      "text/plain": [
       "                       count            sum\n",
       "              duration_round duration_round\n",
       "user_id month                              \n",
       "1000    5                 22          159.0\n",
       "        6                 43          172.0\n",
       "        7                 47          340.0\n",
       "        8                 52          408.0\n",
       "        9                 58          466.0"
      ]
     },
     "metadata": {},
     "output_type": "display_data"
    },
    {
     "name": "stdout",
     "output_type": "stream",
     "text": [
      "<class 'pandas.core.frame.DataFrame'>\n",
      "MultiIndex: 3174 entries, (1000, 5) to (1499, 12)\n",
      "Data columns (total 2 columns):\n",
      "(count, duration_round)    3174 non-null int64\n",
      "(sum, duration_round)      3174 non-null float64\n",
      "dtypes: float64(1), int64(1)\n",
      "memory usage: 62.9 KB\n"
     ]
    }
   ],
   "source": [
    "calls_data[\"month\"] = pd.DatetimeIndex(calls_data[\"call_date\"]).month\n",
    "calls_data[\"duration_round\"] = np.ceil(calls_data[\"duration\"])\n",
    "calls = calls_data.pivot_table(index=['user_id', 'month'],  values= ['duration_round'], aggfunc= ['count', 'sum'])\n",
    "calls_total_duration = calls[\"sum\", \"duration_round\"].sum()\n",
    "display(calls.head())\n",
    "calls.info()"
   ]
  },
  {
   "cell_type": "code",
   "execution_count": 8,
   "metadata": {},
   "outputs": [
    {
     "data": {
      "text/html": [
       "<div>\n",
       "<style scoped>\n",
       "    .dataframe tbody tr th:only-of-type {\n",
       "        vertical-align: middle;\n",
       "    }\n",
       "\n",
       "    .dataframe tbody tr th {\n",
       "        vertical-align: top;\n",
       "    }\n",
       "\n",
       "    .dataframe thead tr th {\n",
       "        text-align: left;\n",
       "    }\n",
       "\n",
       "    .dataframe thead tr:last-of-type th {\n",
       "        text-align: right;\n",
       "    }\n",
       "</style>\n",
       "<table border=\"1\" class=\"dataframe\">\n",
       "  <thead>\n",
       "    <tr>\n",
       "      <th></th>\n",
       "      <th></th>\n",
       "      <th>count</th>\n",
       "    </tr>\n",
       "    <tr>\n",
       "      <th></th>\n",
       "      <th></th>\n",
       "      <th>id</th>\n",
       "    </tr>\n",
       "    <tr>\n",
       "      <th>user_id</th>\n",
       "      <th>month</th>\n",
       "      <th></th>\n",
       "    </tr>\n",
       "  </thead>\n",
       "  <tbody>\n",
       "    <tr>\n",
       "      <td rowspan=\"5\" valign=\"top\">1000</td>\n",
       "      <td>5</td>\n",
       "      <td>22</td>\n",
       "    </tr>\n",
       "    <tr>\n",
       "      <td>6</td>\n",
       "      <td>60</td>\n",
       "    </tr>\n",
       "    <tr>\n",
       "      <td>7</td>\n",
       "      <td>75</td>\n",
       "    </tr>\n",
       "    <tr>\n",
       "      <td>8</td>\n",
       "      <td>81</td>\n",
       "    </tr>\n",
       "    <tr>\n",
       "      <td>9</td>\n",
       "      <td>57</td>\n",
       "    </tr>\n",
       "  </tbody>\n",
       "</table>\n",
       "</div>"
      ],
      "text/plain": [
       "              count\n",
       "                 id\n",
       "user_id month      \n",
       "1000    5        22\n",
       "        6        60\n",
       "        7        75\n",
       "        8        81\n",
       "        9        57"
      ]
     },
     "metadata": {},
     "output_type": "display_data"
    },
    {
     "name": "stdout",
     "output_type": "stream",
     "text": [
      "<class 'pandas.core.frame.DataFrame'>\n",
      "MultiIndex: 2717 entries, (1000, 5) to (1499, 12)\n",
      "Data columns (total 1 columns):\n",
      "(count, id)    2717 non-null int64\n",
      "dtypes: int64(1)\n",
      "memory usage: 32.7 KB\n"
     ]
    }
   ],
   "source": [
    "messages_data[\"month\"] = pd.DatetimeIndex(messages_data[\"message_date\"]).month\n",
    "messages = messages_data.pivot_table(index=['user_id', 'month'],  values= ['id'], aggfunc= ['count'])\n",
    "display(messages.head())\n",
    "messages.info()"
   ]
  },
  {
   "cell_type": "code",
   "execution_count": 9,
   "metadata": {},
   "outputs": [
    {
     "data": {
      "text/plain": [
       "55599.0"
      ]
     },
     "metadata": {},
     "output_type": "display_data"
    },
    {
     "name": "stdout",
     "output_type": "stream",
     "text": [
      "<class 'pandas.core.frame.DataFrame'>\n",
      "MultiIndex: 3203 entries, (1000, 5) to (1499, 12)\n",
      "Data columns (total 1 columns):\n",
      "(gb_used, )    3203 non-null float64\n",
      "dtypes: float64(1)\n",
      "memory usage: 38.5 KB\n"
     ]
    }
   ],
   "source": [
    "internet_data[\"month\"] = pd.DatetimeIndex(internet_data[\"session_date\"]).month\n",
    "internet = internet_data.pivot_table(index=['user_id', 'month'],  values= ['mb_used'], aggfunc= ['sum'])\n",
    "internet ['gb_used'] = np.ceil(internet['sum','mb_used']/1024)\n",
    "internet = internet.drop(('sum','mb_used'), axis = 1)\n",
    "internet_total = internet ['gb_used'].sum()\n",
    "display(internet_total)\n",
    "internet.info()"
   ]
  },
  {
   "cell_type": "markdown",
   "metadata": {},
   "source": [
    "После обработки мы получили сгруппированные данные по звонкам, сообщениям и интернет-сессиям в разрезе пользователей и месяцев, каждый порядка 3000 строк. Теперь последовательно объединим эти данные в единый датафрейм."
   ]
  },
  {
   "cell_type": "code",
   "execution_count": 10,
   "metadata": {},
   "outputs": [
    {
     "data": {
      "text/html": [
       "<div>\n",
       "<style scoped>\n",
       "    .dataframe tbody tr th:only-of-type {\n",
       "        vertical-align: middle;\n",
       "    }\n",
       "\n",
       "    .dataframe tbody tr th {\n",
       "        vertical-align: top;\n",
       "    }\n",
       "\n",
       "    .dataframe thead th {\n",
       "        text-align: right;\n",
       "    }\n",
       "</style>\n",
       "<table border=\"1\" class=\"dataframe\">\n",
       "  <thead>\n",
       "    <tr style=\"text-align: right;\">\n",
       "      <th></th>\n",
       "      <th></th>\n",
       "      <th>calls</th>\n",
       "      <th>calls_duration</th>\n",
       "      <th>messages</th>\n",
       "      <th>gb_used</th>\n",
       "    </tr>\n",
       "    <tr>\n",
       "      <th>user_id</th>\n",
       "      <th>month</th>\n",
       "      <th></th>\n",
       "      <th></th>\n",
       "      <th></th>\n",
       "      <th></th>\n",
       "    </tr>\n",
       "  </thead>\n",
       "  <tbody>\n",
       "    <tr>\n",
       "      <td rowspan=\"5\" valign=\"top\">1000</td>\n",
       "      <td>5</td>\n",
       "      <td>22.0</td>\n",
       "      <td>159.0</td>\n",
       "      <td>22.0</td>\n",
       "      <td>3.0</td>\n",
       "    </tr>\n",
       "    <tr>\n",
       "      <td>6</td>\n",
       "      <td>43.0</td>\n",
       "      <td>172.0</td>\n",
       "      <td>60.0</td>\n",
       "      <td>23.0</td>\n",
       "    </tr>\n",
       "    <tr>\n",
       "      <td>7</td>\n",
       "      <td>47.0</td>\n",
       "      <td>340.0</td>\n",
       "      <td>75.0</td>\n",
       "      <td>14.0</td>\n",
       "    </tr>\n",
       "    <tr>\n",
       "      <td>8</td>\n",
       "      <td>52.0</td>\n",
       "      <td>408.0</td>\n",
       "      <td>81.0</td>\n",
       "      <td>14.0</td>\n",
       "    </tr>\n",
       "    <tr>\n",
       "      <td>9</td>\n",
       "      <td>58.0</td>\n",
       "      <td>466.0</td>\n",
       "      <td>57.0</td>\n",
       "      <td>15.0</td>\n",
       "    </tr>\n",
       "  </tbody>\n",
       "</table>\n",
       "</div>"
      ],
      "text/plain": [
       "               calls  calls_duration  messages  gb_used\n",
       "user_id month                                          \n",
       "1000    5       22.0           159.0      22.0      3.0\n",
       "        6       43.0           172.0      60.0     23.0\n",
       "        7       47.0           340.0      75.0     14.0\n",
       "        8       52.0           408.0      81.0     14.0\n",
       "        9       58.0           466.0      57.0     15.0"
      ]
     },
     "execution_count": 10,
     "metadata": {},
     "output_type": "execute_result"
    }
   ],
   "source": [
    "df = calls.merge(messages, on= ['user_id', 'month'], how ='outer')\n",
    "df = df.merge(internet, on= ['user_id', 'month'], how ='outer')\n",
    "df.columns = ['calls', 'calls_duration', 'messages', 'gb_used']\n",
    "df.head()"
   ]
  },
  {
   "cell_type": "code",
   "execution_count": 11,
   "metadata": {
    "scrolled": true
   },
   "outputs": [
    {
     "name": "stdout",
     "output_type": "stream",
     "text": [
      "<class 'pandas.core.frame.DataFrame'>\n",
      "RangeIndex: 3214 entries, 0 to 3213\n",
      "Data columns (total 6 columns):\n",
      "user_id           3214 non-null int64\n",
      "month             3214 non-null int64\n",
      "calls             3174 non-null float64\n",
      "calls_duration    3174 non-null float64\n",
      "messages          2717 non-null float64\n",
      "gb_used           3203 non-null float64\n",
      "dtypes: float64(4), int64(2)\n",
      "memory usage: 150.8 KB\n"
     ]
    }
   ],
   "source": [
    "#для последующего расчета выручки переведем индексы полученной таблицы в столбцы\n",
    "df.reset_index(level=1, inplace=True)\n",
    "df.reset_index(level=0, inplace=True)\n",
    "df.head()\n",
    "df.info()"
   ]
  },
  {
   "cell_type": "markdown",
   "metadata": {},
   "source": [
    "**Из таблицы видно, что не все абоненты пользовались всеми видами услуг в каждом  месяце, поэтому пропуски можно заменить на 0.**"
   ]
  },
  {
   "cell_type": "code",
   "execution_count": 12,
   "metadata": {},
   "outputs": [
    {
     "data": {
      "text/plain": [
       "user_id           0\n",
       "month             0\n",
       "calls             0\n",
       "calls_duration    0\n",
       "messages          0\n",
       "gb_used           0\n",
       "dtype: int64"
      ]
     },
     "execution_count": 12,
     "metadata": {},
     "output_type": "execute_result"
    }
   ],
   "source": [
    "df =  df.fillna({\"calls\":0, \"calls_duration\":0, \"messages\":0, \"gb_used\":0})\n",
    "df.isna().sum()"
   ]
  },
  {
   "cell_type": "markdown",
   "metadata": {},
   "source": [
    "Для решения поставленных задач по каждому клиенту добавим данные по его тарифному плану и городу его проживания. "
   ]
  },
  {
   "cell_type": "code",
   "execution_count": 13,
   "metadata": {},
   "outputs": [
    {
     "data": {
      "text/html": [
       "<div>\n",
       "<style scoped>\n",
       "    .dataframe tbody tr th:only-of-type {\n",
       "        vertical-align: middle;\n",
       "    }\n",
       "\n",
       "    .dataframe tbody tr th {\n",
       "        vertical-align: top;\n",
       "    }\n",
       "\n",
       "    .dataframe thead th {\n",
       "        text-align: right;\n",
       "    }\n",
       "</style>\n",
       "<table border=\"1\" class=\"dataframe\">\n",
       "  <thead>\n",
       "    <tr style=\"text-align: right;\">\n",
       "      <th></th>\n",
       "      <th>user_id</th>\n",
       "      <th>month</th>\n",
       "      <th>calls</th>\n",
       "      <th>calls_duration</th>\n",
       "      <th>messages</th>\n",
       "      <th>gb_used</th>\n",
       "      <th>city</th>\n",
       "      <th>tariff</th>\n",
       "    </tr>\n",
       "  </thead>\n",
       "  <tbody>\n",
       "    <tr>\n",
       "      <td>0</td>\n",
       "      <td>1000</td>\n",
       "      <td>5</td>\n",
       "      <td>22.0</td>\n",
       "      <td>159.0</td>\n",
       "      <td>22.0</td>\n",
       "      <td>3.0</td>\n",
       "      <td>Краснодар</td>\n",
       "      <td>ultra</td>\n",
       "    </tr>\n",
       "    <tr>\n",
       "      <td>1</td>\n",
       "      <td>1000</td>\n",
       "      <td>6</td>\n",
       "      <td>43.0</td>\n",
       "      <td>172.0</td>\n",
       "      <td>60.0</td>\n",
       "      <td>23.0</td>\n",
       "      <td>Краснодар</td>\n",
       "      <td>ultra</td>\n",
       "    </tr>\n",
       "    <tr>\n",
       "      <td>2</td>\n",
       "      <td>1000</td>\n",
       "      <td>7</td>\n",
       "      <td>47.0</td>\n",
       "      <td>340.0</td>\n",
       "      <td>75.0</td>\n",
       "      <td>14.0</td>\n",
       "      <td>Краснодар</td>\n",
       "      <td>ultra</td>\n",
       "    </tr>\n",
       "    <tr>\n",
       "      <td>3</td>\n",
       "      <td>1000</td>\n",
       "      <td>8</td>\n",
       "      <td>52.0</td>\n",
       "      <td>408.0</td>\n",
       "      <td>81.0</td>\n",
       "      <td>14.0</td>\n",
       "      <td>Краснодар</td>\n",
       "      <td>ultra</td>\n",
       "    </tr>\n",
       "    <tr>\n",
       "      <td>4</td>\n",
       "      <td>1000</td>\n",
       "      <td>9</td>\n",
       "      <td>58.0</td>\n",
       "      <td>466.0</td>\n",
       "      <td>57.0</td>\n",
       "      <td>15.0</td>\n",
       "      <td>Краснодар</td>\n",
       "      <td>ultra</td>\n",
       "    </tr>\n",
       "  </tbody>\n",
       "</table>\n",
       "</div>"
      ],
      "text/plain": [
       "   user_id  month  calls  calls_duration  messages  gb_used       city tariff\n",
       "0     1000      5   22.0           159.0      22.0      3.0  Краснодар  ultra\n",
       "1     1000      6   43.0           172.0      60.0     23.0  Краснодар  ultra\n",
       "2     1000      7   47.0           340.0      75.0     14.0  Краснодар  ultra\n",
       "3     1000      8   52.0           408.0      81.0     14.0  Краснодар  ultra\n",
       "4     1000      9   58.0           466.0      57.0     15.0  Краснодар  ultra"
      ]
     },
     "execution_count": 13,
     "metadata": {},
     "output_type": "execute_result"
    }
   ],
   "source": [
    "users = users_data.drop(['age', 'churn_date', 'first_name', 'last_name','reg_date'], axis = 1)\n",
    "df = df.merge(users, on= 'user_id')\n",
    "df.head()"
   ]
  },
  {
   "cell_type": "markdown",
   "metadata": {},
   "source": [
    "Теперь расчитаем помесячную выручку для каждого пользователя: вычтем бесплатный лимит из суммарного количества звонков, сообщений и интернет-трафика; остаток умножим на значение из тарифного плана; прибавим абонентскую плату, соответствующую тарифному плану."
   ]
  },
  {
   "cell_type": "code",
   "execution_count": 14,
   "metadata": {},
   "outputs": [
    {
     "data": {
      "text/html": [
       "<div>\n",
       "<style scoped>\n",
       "    .dataframe tbody tr th:only-of-type {\n",
       "        vertical-align: middle;\n",
       "    }\n",
       "\n",
       "    .dataframe tbody tr th {\n",
       "        vertical-align: top;\n",
       "    }\n",
       "\n",
       "    .dataframe thead th {\n",
       "        text-align: right;\n",
       "    }\n",
       "</style>\n",
       "<table border=\"1\" class=\"dataframe\">\n",
       "  <thead>\n",
       "    <tr style=\"text-align: right;\">\n",
       "      <th></th>\n",
       "      <th>user_id</th>\n",
       "      <th>month</th>\n",
       "      <th>calls</th>\n",
       "      <th>calls_duration</th>\n",
       "      <th>messages</th>\n",
       "      <th>gb_used</th>\n",
       "      <th>city</th>\n",
       "      <th>tariff</th>\n",
       "      <th>calls_income</th>\n",
       "      <th>messages_income</th>\n",
       "      <th>internet_income</th>\n",
       "      <th>tariff_income</th>\n",
       "      <th>total_income</th>\n",
       "    </tr>\n",
       "  </thead>\n",
       "  <tbody>\n",
       "    <tr>\n",
       "      <td>0</td>\n",
       "      <td>1000</td>\n",
       "      <td>5</td>\n",
       "      <td>22.0</td>\n",
       "      <td>159.0</td>\n",
       "      <td>22.0</td>\n",
       "      <td>3.0</td>\n",
       "      <td>Краснодар</td>\n",
       "      <td>ultra</td>\n",
       "      <td>0.0</td>\n",
       "      <td>0.0</td>\n",
       "      <td>0.0</td>\n",
       "      <td>1950</td>\n",
       "      <td>1950.0</td>\n",
       "    </tr>\n",
       "    <tr>\n",
       "      <td>1</td>\n",
       "      <td>1000</td>\n",
       "      <td>6</td>\n",
       "      <td>43.0</td>\n",
       "      <td>172.0</td>\n",
       "      <td>60.0</td>\n",
       "      <td>23.0</td>\n",
       "      <td>Краснодар</td>\n",
       "      <td>ultra</td>\n",
       "      <td>0.0</td>\n",
       "      <td>0.0</td>\n",
       "      <td>0.0</td>\n",
       "      <td>1950</td>\n",
       "      <td>1950.0</td>\n",
       "    </tr>\n",
       "    <tr>\n",
       "      <td>2</td>\n",
       "      <td>1000</td>\n",
       "      <td>7</td>\n",
       "      <td>47.0</td>\n",
       "      <td>340.0</td>\n",
       "      <td>75.0</td>\n",
       "      <td>14.0</td>\n",
       "      <td>Краснодар</td>\n",
       "      <td>ultra</td>\n",
       "      <td>0.0</td>\n",
       "      <td>0.0</td>\n",
       "      <td>0.0</td>\n",
       "      <td>1950</td>\n",
       "      <td>1950.0</td>\n",
       "    </tr>\n",
       "    <tr>\n",
       "      <td>3</td>\n",
       "      <td>1000</td>\n",
       "      <td>8</td>\n",
       "      <td>52.0</td>\n",
       "      <td>408.0</td>\n",
       "      <td>81.0</td>\n",
       "      <td>14.0</td>\n",
       "      <td>Краснодар</td>\n",
       "      <td>ultra</td>\n",
       "      <td>0.0</td>\n",
       "      <td>0.0</td>\n",
       "      <td>0.0</td>\n",
       "      <td>1950</td>\n",
       "      <td>1950.0</td>\n",
       "    </tr>\n",
       "    <tr>\n",
       "      <td>4</td>\n",
       "      <td>1000</td>\n",
       "      <td>9</td>\n",
       "      <td>58.0</td>\n",
       "      <td>466.0</td>\n",
       "      <td>57.0</td>\n",
       "      <td>15.0</td>\n",
       "      <td>Краснодар</td>\n",
       "      <td>ultra</td>\n",
       "      <td>0.0</td>\n",
       "      <td>0.0</td>\n",
       "      <td>0.0</td>\n",
       "      <td>1950</td>\n",
       "      <td>1950.0</td>\n",
       "    </tr>\n",
       "  </tbody>\n",
       "</table>\n",
       "</div>"
      ],
      "text/plain": [
       "   user_id  month  calls  calls_duration  messages  gb_used       city tariff  \\\n",
       "0     1000      5   22.0           159.0      22.0      3.0  Краснодар  ultra   \n",
       "1     1000      6   43.0           172.0      60.0     23.0  Краснодар  ultra   \n",
       "2     1000      7   47.0           340.0      75.0     14.0  Краснодар  ultra   \n",
       "3     1000      8   52.0           408.0      81.0     14.0  Краснодар  ultra   \n",
       "4     1000      9   58.0           466.0      57.0     15.0  Краснодар  ultra   \n",
       "\n",
       "   calls_income  messages_income  internet_income  tariff_income  total_income  \n",
       "0           0.0              0.0              0.0           1950        1950.0  \n",
       "1           0.0              0.0              0.0           1950        1950.0  \n",
       "2           0.0              0.0              0.0           1950        1950.0  \n",
       "3           0.0              0.0              0.0           1950        1950.0  \n",
       "4           0.0              0.0              0.0           1950        1950.0  "
      ]
     },
     "execution_count": 14,
     "metadata": {},
     "output_type": "execute_result"
    }
   ],
   "source": [
    "def calls_income(row):\n",
    "    tariff = row['tariff']\n",
    "    calls_duration = row['calls_duration']\n",
    "    if tariff == \"smart\":\n",
    "        if row['calls_duration'] > 500:\n",
    "            return (calls_duration - 500) * 3\n",
    "    if tariff == \"ultra\":\n",
    "        if row['calls_duration'] > 3000:\n",
    "            return (calls_duration - 3000) * 1\n",
    "    return 0\n",
    "\n",
    "def messages_income(row):\n",
    "    tariff = row['tariff']\n",
    "    messages = row['messages']\n",
    "    if tariff == \"smart\":\n",
    "        if row['messages'] > 50:\n",
    "            return (messages - 50) * 3\n",
    "    if tariff == \"ultra\":\n",
    "        if row['messages'] > 1000:\n",
    "            return (messages - 3000) * 1\n",
    "    return 0\n",
    "\n",
    "\n",
    "def internet_income(row):\n",
    "    tariff = row['tariff']\n",
    "    gb_used = row['gb_used']\n",
    "    if tariff == \"smart\":\n",
    "        if row['gb_used'] > 15:\n",
    "            return (gb_used - 15) * 200\n",
    "    if tariff == \"ultra\":\n",
    "        if row['gb_used'] > 30:\n",
    "            return (gb_used - 30) * 150\n",
    "    return 0\n",
    "\n",
    "def tariff_income(row):\n",
    "    tariff = row['tariff']\n",
    "    if tariff == \"smart\":\n",
    "            return 550\n",
    "    if tariff == \"ultra\":\n",
    "            return 1950\n",
    "    return 0\n",
    "\n",
    "df['calls_income'] = df.apply(calls_income, axis=1)\n",
    "df['messages_income'] = df.apply(messages_income, axis=1)\n",
    "df['internet_income'] = df.apply(internet_income, axis=1)\n",
    "df['tariff_income'] = df.apply(tariff_income, axis=1)  \n",
    "df['total_income'] = (df['calls_income'] + df['messages_income'] \n",
    "                      + df['internet_income']+ df['tariff_income'])\n",
    "df.head()"
   ]
  },
  {
   "cell_type": "markdown",
   "metadata": {},
   "source": []
  },
  {
   "cell_type": "code",
   "execution_count": 15,
   "metadata": {},
   "outputs": [
    {
     "data": {
      "text/html": [
       "<div>\n",
       "<style scoped>\n",
       "    .dataframe tbody tr th:only-of-type {\n",
       "        vertical-align: middle;\n",
       "    }\n",
       "\n",
       "    .dataframe tbody tr th {\n",
       "        vertical-align: top;\n",
       "    }\n",
       "\n",
       "    .dataframe thead tr th {\n",
       "        text-align: left;\n",
       "    }\n",
       "\n",
       "    .dataframe thead tr:last-of-type th {\n",
       "        text-align: right;\n",
       "    }\n",
       "</style>\n",
       "<table border=\"1\" class=\"dataframe\">\n",
       "  <thead>\n",
       "    <tr>\n",
       "      <th></th>\n",
       "      <th colspan=\"12\" halign=\"left\">sum</th>\n",
       "    </tr>\n",
       "    <tr>\n",
       "      <th></th>\n",
       "      <th colspan=\"12\" halign=\"left\">total_income</th>\n",
       "    </tr>\n",
       "    <tr>\n",
       "      <th>month</th>\n",
       "      <th>1</th>\n",
       "      <th>2</th>\n",
       "      <th>3</th>\n",
       "      <th>4</th>\n",
       "      <th>5</th>\n",
       "      <th>6</th>\n",
       "      <th>7</th>\n",
       "      <th>8</th>\n",
       "      <th>9</th>\n",
       "      <th>10</th>\n",
       "      <th>11</th>\n",
       "      <th>12</th>\n",
       "    </tr>\n",
       "    <tr>\n",
       "      <th>user_id</th>\n",
       "      <th></th>\n",
       "      <th></th>\n",
       "      <th></th>\n",
       "      <th></th>\n",
       "      <th></th>\n",
       "      <th></th>\n",
       "      <th></th>\n",
       "      <th></th>\n",
       "      <th></th>\n",
       "      <th></th>\n",
       "      <th></th>\n",
       "      <th></th>\n",
       "    </tr>\n",
       "  </thead>\n",
       "  <tbody>\n",
       "    <tr>\n",
       "      <td>1000</td>\n",
       "      <td>nan</td>\n",
       "      <td>nan</td>\n",
       "      <td>nan</td>\n",
       "      <td>nan</td>\n",
       "      <td>1,950</td>\n",
       "      <td>1,950</td>\n",
       "      <td>1,950</td>\n",
       "      <td>1,950</td>\n",
       "      <td>1,950</td>\n",
       "      <td>1,950</td>\n",
       "      <td>1,950</td>\n",
       "      <td>1,950</td>\n",
       "    </tr>\n",
       "    <tr>\n",
       "      <td>1001</td>\n",
       "      <td>nan</td>\n",
       "      <td>nan</td>\n",
       "      <td>nan</td>\n",
       "      <td>nan</td>\n",
       "      <td>nan</td>\n",
       "      <td>nan</td>\n",
       "      <td>nan</td>\n",
       "      <td>nan</td>\n",
       "      <td>nan</td>\n",
       "      <td>nan</td>\n",
       "      <td>1,150</td>\n",
       "      <td>550</td>\n",
       "    </tr>\n",
       "    <tr>\n",
       "      <td>1002</td>\n",
       "      <td>nan</td>\n",
       "      <td>nan</td>\n",
       "      <td>nan</td>\n",
       "      <td>nan</td>\n",
       "      <td>nan</td>\n",
       "      <td>550</td>\n",
       "      <td>1,150</td>\n",
       "      <td>1,550</td>\n",
       "      <td>950</td>\n",
       "      <td>550</td>\n",
       "      <td>1,350</td>\n",
       "      <td>1,150</td>\n",
       "    </tr>\n",
       "    <tr>\n",
       "      <td>1003</td>\n",
       "      <td>nan</td>\n",
       "      <td>nan</td>\n",
       "      <td>nan</td>\n",
       "      <td>nan</td>\n",
       "      <td>nan</td>\n",
       "      <td>nan</td>\n",
       "      <td>nan</td>\n",
       "      <td>1,950</td>\n",
       "      <td>1,950</td>\n",
       "      <td>1,950</td>\n",
       "      <td>1,950</td>\n",
       "      <td>1,950</td>\n",
       "    </tr>\n",
       "    <tr>\n",
       "      <td>1004</td>\n",
       "      <td>nan</td>\n",
       "      <td>nan</td>\n",
       "      <td>nan</td>\n",
       "      <td>nan</td>\n",
       "      <td>1,950</td>\n",
       "      <td>1,950</td>\n",
       "      <td>1,950</td>\n",
       "      <td>1,950</td>\n",
       "      <td>1,950</td>\n",
       "      <td>1,950</td>\n",
       "      <td>1,950</td>\n",
       "      <td>1,950</td>\n",
       "    </tr>\n",
       "    <tr>\n",
       "      <td>...</td>\n",
       "      <td>...</td>\n",
       "      <td>...</td>\n",
       "      <td>...</td>\n",
       "      <td>...</td>\n",
       "      <td>...</td>\n",
       "      <td>...</td>\n",
       "      <td>...</td>\n",
       "      <td>...</td>\n",
       "      <td>...</td>\n",
       "      <td>...</td>\n",
       "      <td>...</td>\n",
       "      <td>...</td>\n",
       "    </tr>\n",
       "    <tr>\n",
       "      <td>1495</td>\n",
       "      <td>nan</td>\n",
       "      <td>nan</td>\n",
       "      <td>nan</td>\n",
       "      <td>nan</td>\n",
       "      <td>nan</td>\n",
       "      <td>nan</td>\n",
       "      <td>nan</td>\n",
       "      <td>1,950</td>\n",
       "      <td>2,400</td>\n",
       "      <td>1,950</td>\n",
       "      <td>3,300</td>\n",
       "      <td>1,950</td>\n",
       "    </tr>\n",
       "    <tr>\n",
       "      <td>1496</td>\n",
       "      <td>550</td>\n",
       "      <td>3,432</td>\n",
       "      <td>2,721</td>\n",
       "      <td>1,813</td>\n",
       "      <td>2,350</td>\n",
       "      <td>1,715</td>\n",
       "      <td>2,596</td>\n",
       "      <td>2,231</td>\n",
       "      <td>2,950</td>\n",
       "      <td>3,150</td>\n",
       "      <td>3,036</td>\n",
       "      <td>1,807</td>\n",
       "    </tr>\n",
       "    <tr>\n",
       "      <td>1497</td>\n",
       "      <td>nan</td>\n",
       "      <td>nan</td>\n",
       "      <td>nan</td>\n",
       "      <td>nan</td>\n",
       "      <td>nan</td>\n",
       "      <td>nan</td>\n",
       "      <td>nan</td>\n",
       "      <td>nan</td>\n",
       "      <td>nan</td>\n",
       "      <td>550</td>\n",
       "      <td>550</td>\n",
       "      <td>1,685</td>\n",
       "    </tr>\n",
       "    <tr>\n",
       "      <td>1498</td>\n",
       "      <td>nan</td>\n",
       "      <td>nan</td>\n",
       "      <td>nan</td>\n",
       "      <td>nan</td>\n",
       "      <td>nan</td>\n",
       "      <td>nan</td>\n",
       "      <td>550</td>\n",
       "      <td>2,386</td>\n",
       "      <td>1,950</td>\n",
       "      <td>1,750</td>\n",
       "      <td>nan</td>\n",
       "      <td>nan</td>\n",
       "    </tr>\n",
       "    <tr>\n",
       "      <td>1499</td>\n",
       "      <td>nan</td>\n",
       "      <td>nan</td>\n",
       "      <td>nan</td>\n",
       "      <td>nan</td>\n",
       "      <td>nan</td>\n",
       "      <td>nan</td>\n",
       "      <td>nan</td>\n",
       "      <td>nan</td>\n",
       "      <td>550</td>\n",
       "      <td>1,150</td>\n",
       "      <td>1,513</td>\n",
       "      <td>598</td>\n",
       "    </tr>\n",
       "  </tbody>\n",
       "</table>\n",
       "<p>498 rows × 12 columns</p>\n",
       "</div>"
      ],
      "text/plain": [
       "                 sum                                                        \\\n",
       "        total_income                                                         \n",
       "month             1     2     3     4     5     6     7     8     9     10   \n",
       "user_id                                                                      \n",
       "1000             nan   nan   nan   nan 1,950 1,950 1,950 1,950 1,950 1,950   \n",
       "1001             nan   nan   nan   nan   nan   nan   nan   nan   nan   nan   \n",
       "1002             nan   nan   nan   nan   nan   550 1,150 1,550   950   550   \n",
       "1003             nan   nan   nan   nan   nan   nan   nan 1,950 1,950 1,950   \n",
       "1004             nan   nan   nan   nan 1,950 1,950 1,950 1,950 1,950 1,950   \n",
       "...              ...   ...   ...   ...   ...   ...   ...   ...   ...   ...   \n",
       "1495             nan   nan   nan   nan   nan   nan   nan 1,950 2,400 1,950   \n",
       "1496             550 3,432 2,721 1,813 2,350 1,715 2,596 2,231 2,950 3,150   \n",
       "1497             nan   nan   nan   nan   nan   nan   nan   nan   nan   550   \n",
       "1498             nan   nan   nan   nan   nan   nan   550 2,386 1,950 1,750   \n",
       "1499             nan   nan   nan   nan   nan   nan   nan   nan   550 1,150   \n",
       "\n",
       "                     \n",
       "                     \n",
       "month      11    12  \n",
       "user_id              \n",
       "1000    1,950 1,950  \n",
       "1001    1,150   550  \n",
       "1002    1,350 1,150  \n",
       "1003    1,950 1,950  \n",
       "1004    1,950 1,950  \n",
       "...       ...   ...  \n",
       "1495    3,300 1,950  \n",
       "1496    3,036 1,807  \n",
       "1497      550 1,685  \n",
       "1498      nan   nan  \n",
       "1499    1,513   598  \n",
       "\n",
       "[498 rows x 12 columns]"
      ]
     },
     "execution_count": 15,
     "metadata": {},
     "output_type": "execute_result"
    }
   ],
   "source": [
    "#выведем сводную таблицу в разрезе пользователей и месяцев\n",
    "pd.set_option('display.float_format', '{:,.0f}'.format)\n",
    "df.pivot_table(index=['user_id'], columns = ['month'], values= ['total_income'], aggfunc= ['sum'])"
   ]
  },
  {
   "cell_type": "markdown",
   "metadata": {},
   "source": []
  },
  {
   "cell_type": "markdown",
   "metadata": {},
   "source": [
    "Мы видим, что два абонента не попали в нашу таблицу, т.к. не совершали никакой активности в этот период. Это случилось, поскольку они были подключены к тарифам всего несколько дней (см. ниже).\n",
    "Можно пренебречь этими пользователями для последующих расчетов, поскольку это менее 1% от нашей выборки абонентов."
   ]
  },
  {
   "cell_type": "code",
   "execution_count": 16,
   "metadata": {
    "scrolled": true
   },
   "outputs": [
    {
     "data": {
      "text/html": [
       "<div>\n",
       "<style scoped>\n",
       "    .dataframe tbody tr th:only-of-type {\n",
       "        vertical-align: middle;\n",
       "    }\n",
       "\n",
       "    .dataframe tbody tr th {\n",
       "        vertical-align: top;\n",
       "    }\n",
       "\n",
       "    .dataframe thead th {\n",
       "        text-align: right;\n",
       "    }\n",
       "</style>\n",
       "<table border=\"1\" class=\"dataframe\">\n",
       "  <thead>\n",
       "    <tr style=\"text-align: right;\">\n",
       "      <th></th>\n",
       "      <th>user_id</th>\n",
       "      <th>age</th>\n",
       "      <th>churn_date</th>\n",
       "      <th>city</th>\n",
       "      <th>first_name</th>\n",
       "      <th>last_name</th>\n",
       "      <th>reg_date</th>\n",
       "      <th>tariff</th>\n",
       "    </tr>\n",
       "  </thead>\n",
       "  <tbody>\n",
       "    <tr>\n",
       "      <td>128</td>\n",
       "      <td>1128</td>\n",
       "      <td>51</td>\n",
       "      <td>2018-12-23</td>\n",
       "      <td>Волжский</td>\n",
       "      <td>Ксения</td>\n",
       "      <td>Агаева</td>\n",
       "      <td>2018-12-15</td>\n",
       "      <td>ultra</td>\n",
       "    </tr>\n",
       "    <tr>\n",
       "      <td>371</td>\n",
       "      <td>1371</td>\n",
       "      <td>50</td>\n",
       "      <td>2018-12-30</td>\n",
       "      <td>Омск</td>\n",
       "      <td>Ириней</td>\n",
       "      <td>Трофимов</td>\n",
       "      <td>2018-12-25</td>\n",
       "      <td>smart</td>\n",
       "    </tr>\n",
       "  </tbody>\n",
       "</table>\n",
       "</div>"
      ],
      "text/plain": [
       "     user_id  age  churn_date      city first_name last_name    reg_date  \\\n",
       "128     1128   51  2018-12-23  Волжский     Ксения    Агаева  2018-12-15   \n",
       "371     1371   50  2018-12-30      Омск     Ириней  Трофимов  2018-12-25   \n",
       "\n",
       "    tariff  \n",
       "128  ultra  \n",
       "371  smart  "
      ]
     },
     "execution_count": 16,
     "metadata": {},
     "output_type": "execute_result"
    }
   ],
   "source": [
    "users_data[~users_data['user_id'].isin(list(df['user_id']))]"
   ]
  },
  {
   "cell_type": "markdown",
   "metadata": {},
   "source": [
    "**Сделаем итоговую проверку по итогам объединения таблиц:**\n",
    "- проверим количество уникальных пользователей за вычетом 2 человек, которые не пользовались услугами связи\n",
    "- проверим, совпадают ли количества минут, СМС, Гб из итоговой таблицы и из первичных."
   ]
  },
  {
   "cell_type": "code",
   "execution_count": 17,
   "metadata": {},
   "outputs": [
    {
     "name": "stdout",
     "output_type": "stream",
     "text": [
      "ИСТИНА\n"
     ]
    }
   ],
   "source": [
    "if len(df['user_id'].unique()) == len(users_data)-len(users_data[~users_data['user_id'].isin(list(df['user_id']))]) \\\n",
    "        and len(messages_data) == df['messages'].sum() \\\n",
    "        and len(calls_data) == df['calls'].sum() \\\n",
    "        and calls_total_duration == df['calls_duration'].sum() \\\n",
    "        and internet_total == df['gb_used'].sum():\n",
    "        print(\"ИСТИНА\")\n",
    "else:\n",
    "    print(\"ОШИБКА\")"
   ]
  },
  {
   "cell_type": "markdown",
   "metadata": {},
   "source": [
    "**Итак, для каждого абонента помесячно мы рассчитали количество сделанных звонков и израсходованных минут, отправленных сообщений, объем израсходованного интернет-трафика, а также помесячную выручку.** "
   ]
  },
  {
   "cell_type": "markdown",
   "metadata": {},
   "source": [
    "##  Анализ данных"
   ]
  },
  {
   "cell_type": "markdown",
   "metadata": {},
   "source": [
    "**Опишем для каждого тарифа cколько минут разговора, сколько сообщений и какой объём интернет-трафика требуется пользователям в месяц.**"
   ]
  },
  {
   "cell_type": "code",
   "execution_count": 18,
   "metadata": {},
   "outputs": [
    {
     "data": {
      "text/plain": [
       "417.9349484073576"
      ]
     },
     "metadata": {},
     "output_type": "display_data"
    },
    {
     "data": {
      "text/plain": [
       "526.6233502538071"
      ]
     },
     "metadata": {},
     "output_type": "display_data"
    },
    {
     "data": {
      "text/plain": [
       "190.31372988921288"
      ]
     },
     "metadata": {},
     "output_type": "display_data"
    },
    {
     "data": {
      "text/plain": [
       "317.6060978591264"
      ]
     },
     "metadata": {},
     "output_type": "display_data"
    },
    {
     "data": {
      "text/plain": [
       "36219.31578434428"
      ]
     },
     "metadata": {},
     "output_type": "display_data"
    },
    {
     "data": {
      "text/plain": [
       "100873.63339730098"
      ]
     },
     "metadata": {},
     "output_type": "display_data"
    }
   ],
   "source": [
    "#посчитаем среднее количество, дисперсию и стандартное отклонение для каждого тарифа с учетом того, \n",
    "#что мы анализируем выборки, а не генеральные совокупности \n",
    "df_smart = df.query('tariff == \"smart\"')\n",
    "df_ultra = df.query('tariff == \"ultra\"')\n",
    "\n",
    "#для звонков\n",
    "display(df_smart['calls_duration'].mean()\n",
    "        ,df_ultra['calls_duration'].mean()\n",
    "        ,np.std(df_smart['calls_duration'], ddof=1)\n",
    "        ,np.std(df_ultra['calls_duration'], ddof=1)\n",
    "        ,np.var(df_smart['calls_duration'], ddof=1)\n",
    "        ,np.var(df_ultra['calls_duration'], ddof=1))"
   ]
  },
  {
   "cell_type": "code",
   "execution_count": 19,
   "metadata": {
    "scrolled": true
   },
   "outputs": [
    {
     "data": {
      "text/plain": [
       "33.384028712427096"
      ]
     },
     "metadata": {},
     "output_type": "display_data"
    },
    {
     "data": {
      "text/plain": [
       "49.36345177664975"
      ]
     },
     "metadata": {},
     "output_type": "display_data"
    },
    {
     "data": {
      "text/plain": [
       "28.22787555676141"
      ]
     },
     "metadata": {},
     "output_type": "display_data"
    },
    {
     "data": {
      "text/plain": [
       "47.804457350174715"
      ]
     },
     "metadata": {},
     "output_type": "display_data"
    },
    {
     "data": {
      "text/plain": [
       "796.8129584480083"
      ]
     },
     "metadata": {},
     "output_type": "display_data"
    },
    {
     "data": {
      "text/plain": [
       "2285.2661425446736"
      ]
     },
     "metadata": {},
     "output_type": "display_data"
    }
   ],
   "source": [
    "#для сообщений\n",
    "display(df_smart['messages'].mean()\n",
    "        ,df_ultra['messages'].mean()\n",
    "        ,np.std(df_smart['messages'], ddof=1)\n",
    "        ,np.std(df_ultra['messages'], ddof=1)\n",
    "        ,np.var(df_smart['messages'], ddof=1)\n",
    "        ,np.var(df_ultra['messages'], ddof=1))"
   ]
  },
  {
   "cell_type": "code",
   "execution_count": 20,
   "metadata": {},
   "outputs": [
    {
     "data": {
      "text/plain": [
       "16.328847016599372"
      ]
     },
     "metadata": {},
     "output_type": "display_data"
    },
    {
     "data": {
      "text/plain": [
       "19.494416243654822"
      ]
     },
     "metadata": {},
     "output_type": "display_data"
    },
    {
     "data": {
      "text/plain": [
       "5.7470605685090534"
      ]
     },
     "metadata": {},
     "output_type": "display_data"
    },
    {
     "data": {
      "text/plain": [
       "9.853511367510293"
      ]
     },
     "metadata": {},
     "output_type": "display_data"
    },
    {
     "data": {
      "text/plain": [
       "33.02870517811161"
      ]
     },
     "metadata": {},
     "output_type": "display_data"
    },
    {
     "data": {
      "text/plain": [
       "97.09168626965459"
      ]
     },
     "metadata": {},
     "output_type": "display_data"
    }
   ],
   "source": [
    "#для интернета\n",
    "display(df_smart['gb_used'].mean()\n",
    "        ,df_ultra['gb_used'].mean()\n",
    "        ,np.std(df_smart['gb_used'], ddof=1)\n",
    "        ,np.std(df_ultra['gb_used'], ddof=1)\n",
    "        ,np.var(df_smart['gb_used'], ddof=1)\n",
    "        ,np.var(df_ultra['gb_used'], ddof=1))"
   ]
  },
  {
   "cell_type": "code",
   "execution_count": 21,
   "metadata": {},
   "outputs": [
    {
     "data": {
      "text/html": [
       "<div>\n",
       "<style scoped>\n",
       "    .dataframe tbody tr th:only-of-type {\n",
       "        vertical-align: middle;\n",
       "    }\n",
       "\n",
       "    .dataframe tbody tr th {\n",
       "        vertical-align: top;\n",
       "    }\n",
       "\n",
       "    .dataframe thead tr th {\n",
       "        text-align: left;\n",
       "    }\n",
       "\n",
       "    .dataframe thead tr:last-of-type th {\n",
       "        text-align: right;\n",
       "    }\n",
       "</style>\n",
       "<table border=\"1\" class=\"dataframe\">\n",
       "  <thead>\n",
       "    <tr>\n",
       "      <th></th>\n",
       "      <th colspan=\"3\" halign=\"left\">median</th>\n",
       "      <th colspan=\"3\" halign=\"left\">mean</th>\n",
       "      <th colspan=\"3\" halign=\"left\">std</th>\n",
       "      <th colspan=\"3\" halign=\"left\">var</th>\n",
       "    </tr>\n",
       "    <tr>\n",
       "      <th></th>\n",
       "      <th>calls_duration</th>\n",
       "      <th>gb_used</th>\n",
       "      <th>messages</th>\n",
       "      <th>calls_duration</th>\n",
       "      <th>gb_used</th>\n",
       "      <th>messages</th>\n",
       "      <th>calls_duration</th>\n",
       "      <th>gb_used</th>\n",
       "      <th>messages</th>\n",
       "      <th>calls_duration</th>\n",
       "      <th>gb_used</th>\n",
       "      <th>messages</th>\n",
       "    </tr>\n",
       "    <tr>\n",
       "      <th>tariff</th>\n",
       "      <th></th>\n",
       "      <th></th>\n",
       "      <th></th>\n",
       "      <th></th>\n",
       "      <th></th>\n",
       "      <th></th>\n",
       "      <th></th>\n",
       "      <th></th>\n",
       "      <th></th>\n",
       "      <th></th>\n",
       "      <th></th>\n",
       "      <th></th>\n",
       "    </tr>\n",
       "  </thead>\n",
       "  <tbody>\n",
       "    <tr>\n",
       "      <td>smart</td>\n",
       "      <td>422</td>\n",
       "      <td>17</td>\n",
       "      <td>28</td>\n",
       "      <td>418</td>\n",
       "      <td>16</td>\n",
       "      <td>33</td>\n",
       "      <td>190</td>\n",
       "      <td>6</td>\n",
       "      <td>28</td>\n",
       "      <td>36,219</td>\n",
       "      <td>33</td>\n",
       "      <td>797</td>\n",
       "    </tr>\n",
       "    <tr>\n",
       "      <td>ultra</td>\n",
       "      <td>518</td>\n",
       "      <td>19</td>\n",
       "      <td>38</td>\n",
       "      <td>527</td>\n",
       "      <td>19</td>\n",
       "      <td>49</td>\n",
       "      <td>318</td>\n",
       "      <td>10</td>\n",
       "      <td>48</td>\n",
       "      <td>100,874</td>\n",
       "      <td>97</td>\n",
       "      <td>2,285</td>\n",
       "    </tr>\n",
       "  </tbody>\n",
       "</table>\n",
       "</div>"
      ],
      "text/plain": [
       "               median                            mean                   \\\n",
       "       calls_duration gb_used messages calls_duration gb_used messages   \n",
       "tariff                                                                   \n",
       "smart             422      17       28            418      16       33   \n",
       "ultra             518      19       38            527      19       49   \n",
       "\n",
       "                  std                             var                   \n",
       "       calls_duration gb_used messages calls_duration gb_used messages  \n",
       "tariff                                                                  \n",
       "smart             190       6       28         36,219      33      797  \n",
       "ultra             318      10       48        100,874      97    2,285  "
      ]
     },
     "execution_count": 21,
     "metadata": {},
     "output_type": "execute_result"
    }
   ],
   "source": [
    "#в принципе, эти же показатели можно получить, просто используя сводную таблицу\n",
    "df.pivot_table(index=['tariff'], values= ['calls_duration','messages', 'gb_used'], aggfunc= ['median', 'mean', \"std\", \"var\"])"
   ]
  },
  {
   "cell_type": "code",
   "execution_count": 22,
   "metadata": {},
   "outputs": [
    {
     "data": {
      "text/html": [
       "<div>\n",
       "<style scoped>\n",
       "    .dataframe tbody tr th:only-of-type {\n",
       "        vertical-align: middle;\n",
       "    }\n",
       "\n",
       "    .dataframe tbody tr th {\n",
       "        vertical-align: top;\n",
       "    }\n",
       "\n",
       "    .dataframe thead th {\n",
       "        text-align: right;\n",
       "    }\n",
       "</style>\n",
       "<table border=\"1\" class=\"dataframe\">\n",
       "  <thead>\n",
       "    <tr style=\"text-align: right;\">\n",
       "      <th></th>\n",
       "      <th>user_id</th>\n",
       "      <th>month</th>\n",
       "      <th>calls</th>\n",
       "      <th>calls_duration</th>\n",
       "      <th>messages</th>\n",
       "      <th>gb_used</th>\n",
       "      <th>calls_income</th>\n",
       "      <th>messages_income</th>\n",
       "      <th>internet_income</th>\n",
       "      <th>tariff_income</th>\n",
       "      <th>total_income</th>\n",
       "    </tr>\n",
       "  </thead>\n",
       "  <tbody>\n",
       "    <tr>\n",
       "      <td>count</td>\n",
       "      <td>2,229</td>\n",
       "      <td>2,229</td>\n",
       "      <td>2,229</td>\n",
       "      <td>2,229</td>\n",
       "      <td>2,229</td>\n",
       "      <td>2,229</td>\n",
       "      <td>2,229</td>\n",
       "      <td>2,229</td>\n",
       "      <td>2,229</td>\n",
       "      <td>2,229</td>\n",
       "      <td>2,229</td>\n",
       "    </tr>\n",
       "    <tr>\n",
       "      <td>mean</td>\n",
       "      <td>1,247</td>\n",
       "      <td>8</td>\n",
       "      <td>58</td>\n",
       "      <td>418</td>\n",
       "      <td>33</td>\n",
       "      <td>16</td>\n",
       "      <td>125</td>\n",
       "      <td>17</td>\n",
       "      <td>598</td>\n",
       "      <td>550</td>\n",
       "      <td>1,290</td>\n",
       "    </tr>\n",
       "    <tr>\n",
       "      <td>std</td>\n",
       "      <td>146</td>\n",
       "      <td>3</td>\n",
       "      <td>26</td>\n",
       "      <td>190</td>\n",
       "      <td>28</td>\n",
       "      <td>6</td>\n",
       "      <td>254</td>\n",
       "      <td>40</td>\n",
       "      <td>737</td>\n",
       "      <td>0</td>\n",
       "      <td>818</td>\n",
       "    </tr>\n",
       "    <tr>\n",
       "      <td>min</td>\n",
       "      <td>1,001</td>\n",
       "      <td>1</td>\n",
       "      <td>0</td>\n",
       "      <td>0</td>\n",
       "      <td>0</td>\n",
       "      <td>0</td>\n",
       "      <td>0</td>\n",
       "      <td>0</td>\n",
       "      <td>0</td>\n",
       "      <td>550</td>\n",
       "      <td>550</td>\n",
       "    </tr>\n",
       "    <tr>\n",
       "      <td>25%</td>\n",
       "      <td>1,121</td>\n",
       "      <td>6</td>\n",
       "      <td>40</td>\n",
       "      <td>282</td>\n",
       "      <td>10</td>\n",
       "      <td>13</td>\n",
       "      <td>0</td>\n",
       "      <td>0</td>\n",
       "      <td>0</td>\n",
       "      <td>550</td>\n",
       "      <td>550</td>\n",
       "    </tr>\n",
       "    <tr>\n",
       "      <td>50%</td>\n",
       "      <td>1,239</td>\n",
       "      <td>9</td>\n",
       "      <td>60</td>\n",
       "      <td>422</td>\n",
       "      <td>28</td>\n",
       "      <td>17</td>\n",
       "      <td>0</td>\n",
       "      <td>0</td>\n",
       "      <td>400</td>\n",
       "      <td>550</td>\n",
       "      <td>1,023</td>\n",
       "    </tr>\n",
       "    <tr>\n",
       "      <td>75%</td>\n",
       "      <td>1,376</td>\n",
       "      <td>11</td>\n",
       "      <td>76</td>\n",
       "      <td>545</td>\n",
       "      <td>51</td>\n",
       "      <td>20</td>\n",
       "      <td>135</td>\n",
       "      <td>3</td>\n",
       "      <td>1,000</td>\n",
       "      <td>550</td>\n",
       "      <td>1,750</td>\n",
       "    </tr>\n",
       "    <tr>\n",
       "      <td>max</td>\n",
       "      <td>1,499</td>\n",
       "      <td>12</td>\n",
       "      <td>198</td>\n",
       "      <td>1,435</td>\n",
       "      <td>143</td>\n",
       "      <td>38</td>\n",
       "      <td>2,805</td>\n",
       "      <td>279</td>\n",
       "      <td>4,600</td>\n",
       "      <td>550</td>\n",
       "      <td>6,770</td>\n",
       "    </tr>\n",
       "  </tbody>\n",
       "</table>\n",
       "</div>"
      ],
      "text/plain": [
       "       user_id  month  calls  calls_duration  messages  gb_used  calls_income  \\\n",
       "count    2,229  2,229  2,229           2,229     2,229    2,229         2,229   \n",
       "mean     1,247      8     58             418        33       16           125   \n",
       "std        146      3     26             190        28        6           254   \n",
       "min      1,001      1      0               0         0        0             0   \n",
       "25%      1,121      6     40             282        10       13             0   \n",
       "50%      1,239      9     60             422        28       17             0   \n",
       "75%      1,376     11     76             545        51       20           135   \n",
       "max      1,499     12    198           1,435       143       38         2,805   \n",
       "\n",
       "       messages_income  internet_income  tariff_income  total_income  \n",
       "count            2,229            2,229          2,229         2,229  \n",
       "mean                17              598            550         1,290  \n",
       "std                 40              737              0           818  \n",
       "min                  0                0            550           550  \n",
       "25%                  0                0            550           550  \n",
       "50%                  0              400            550         1,023  \n",
       "75%                  3            1,000            550         1,750  \n",
       "max                279            4,600            550         6,770  "
      ]
     },
     "metadata": {},
     "output_type": "display_data"
    },
    {
     "data": {
      "text/html": [
       "<div>\n",
       "<style scoped>\n",
       "    .dataframe tbody tr th:only-of-type {\n",
       "        vertical-align: middle;\n",
       "    }\n",
       "\n",
       "    .dataframe tbody tr th {\n",
       "        vertical-align: top;\n",
       "    }\n",
       "\n",
       "    .dataframe thead th {\n",
       "        text-align: right;\n",
       "    }\n",
       "</style>\n",
       "<table border=\"1\" class=\"dataframe\">\n",
       "  <thead>\n",
       "    <tr style=\"text-align: right;\">\n",
       "      <th></th>\n",
       "      <th>user_id</th>\n",
       "      <th>month</th>\n",
       "      <th>calls</th>\n",
       "      <th>calls_duration</th>\n",
       "      <th>messages</th>\n",
       "      <th>gb_used</th>\n",
       "      <th>calls_income</th>\n",
       "      <th>messages_income</th>\n",
       "      <th>internet_income</th>\n",
       "      <th>tariff_income</th>\n",
       "      <th>total_income</th>\n",
       "    </tr>\n",
       "  </thead>\n",
       "  <tbody>\n",
       "    <tr>\n",
       "      <td>count</td>\n",
       "      <td>985</td>\n",
       "      <td>985</td>\n",
       "      <td>985</td>\n",
       "      <td>985</td>\n",
       "      <td>985</td>\n",
       "      <td>985</td>\n",
       "      <td>985</td>\n",
       "      <td>985</td>\n",
       "      <td>985</td>\n",
       "      <td>985</td>\n",
       "      <td>985</td>\n",
       "    </tr>\n",
       "    <tr>\n",
       "      <td>mean</td>\n",
       "      <td>1,263</td>\n",
       "      <td>8</td>\n",
       "      <td>73</td>\n",
       "      <td>527</td>\n",
       "      <td>49</td>\n",
       "      <td>19</td>\n",
       "      <td>0</td>\n",
       "      <td>0</td>\n",
       "      <td>120</td>\n",
       "      <td>1,950</td>\n",
       "      <td>2,070</td>\n",
       "    </tr>\n",
       "    <tr>\n",
       "      <td>std</td>\n",
       "      <td>141</td>\n",
       "      <td>3</td>\n",
       "      <td>44</td>\n",
       "      <td>318</td>\n",
       "      <td>48</td>\n",
       "      <td>10</td>\n",
       "      <td>0</td>\n",
       "      <td>0</td>\n",
       "      <td>376</td>\n",
       "      <td>0</td>\n",
       "      <td>376</td>\n",
       "    </tr>\n",
       "    <tr>\n",
       "      <td>min</td>\n",
       "      <td>1,000</td>\n",
       "      <td>1</td>\n",
       "      <td>0</td>\n",
       "      <td>0</td>\n",
       "      <td>0</td>\n",
       "      <td>0</td>\n",
       "      <td>0</td>\n",
       "      <td>0</td>\n",
       "      <td>0</td>\n",
       "      <td>1,950</td>\n",
       "      <td>1,950</td>\n",
       "    </tr>\n",
       "    <tr>\n",
       "      <td>25%</td>\n",
       "      <td>1,143</td>\n",
       "      <td>6</td>\n",
       "      <td>41</td>\n",
       "      <td>284</td>\n",
       "      <td>6</td>\n",
       "      <td>12</td>\n",
       "      <td>0</td>\n",
       "      <td>0</td>\n",
       "      <td>0</td>\n",
       "      <td>1,950</td>\n",
       "      <td>1,950</td>\n",
       "    </tr>\n",
       "    <tr>\n",
       "      <td>50%</td>\n",
       "      <td>1,277</td>\n",
       "      <td>9</td>\n",
       "      <td>74</td>\n",
       "      <td>518</td>\n",
       "      <td>38</td>\n",
       "      <td>19</td>\n",
       "      <td>0</td>\n",
       "      <td>0</td>\n",
       "      <td>0</td>\n",
       "      <td>1,950</td>\n",
       "      <td>1,950</td>\n",
       "    </tr>\n",
       "    <tr>\n",
       "      <td>75%</td>\n",
       "      <td>1,381</td>\n",
       "      <td>11</td>\n",
       "      <td>104</td>\n",
       "      <td>752</td>\n",
       "      <td>79</td>\n",
       "      <td>27</td>\n",
       "      <td>0</td>\n",
       "      <td>0</td>\n",
       "      <td>0</td>\n",
       "      <td>1,950</td>\n",
       "      <td>1,950</td>\n",
       "    </tr>\n",
       "    <tr>\n",
       "      <td>max</td>\n",
       "      <td>1,495</td>\n",
       "      <td>12</td>\n",
       "      <td>244</td>\n",
       "      <td>1,673</td>\n",
       "      <td>224</td>\n",
       "      <td>49</td>\n",
       "      <td>0</td>\n",
       "      <td>0</td>\n",
       "      <td>2,850</td>\n",
       "      <td>1,950</td>\n",
       "      <td>4,800</td>\n",
       "    </tr>\n",
       "  </tbody>\n",
       "</table>\n",
       "</div>"
      ],
      "text/plain": [
       "       user_id  month  calls  calls_duration  messages  gb_used  calls_income  \\\n",
       "count      985    985    985             985       985      985           985   \n",
       "mean     1,263      8     73             527        49       19             0   \n",
       "std        141      3     44             318        48       10             0   \n",
       "min      1,000      1      0               0         0        0             0   \n",
       "25%      1,143      6     41             284         6       12             0   \n",
       "50%      1,277      9     74             518        38       19             0   \n",
       "75%      1,381     11    104             752        79       27             0   \n",
       "max      1,495     12    244           1,673       224       49             0   \n",
       "\n",
       "       messages_income  internet_income  tariff_income  total_income  \n",
       "count              985              985            985           985  \n",
       "mean                 0              120          1,950         2,070  \n",
       "std                  0              376              0           376  \n",
       "min                  0                0          1,950         1,950  \n",
       "25%                  0                0          1,950         1,950  \n",
       "50%                  0                0          1,950         1,950  \n",
       "75%                  0                0          1,950         1,950  \n",
       "max                  0            2,850          1,950         4,800  "
      ]
     },
     "metadata": {},
     "output_type": "display_data"
    }
   ],
   "source": [
    "#выведем статистики по обеим выборкам для последующего анализа\n",
    "display(df_smart.describe())\n",
    "display(df_ultra.describe())"
   ]
  },
  {
   "cell_type": "code",
   "execution_count": 23,
   "metadata": {},
   "outputs": [
    {
     "data": {
      "image/png": "[encoded data removed]",
      "text/plain": [
       "<Figure size 432x288 with 1 Axes>"
      ]
     },
     "metadata": {
      "needs_background": "light"
     },
     "output_type": "display_data"
    }
   ],
   "source": [
    "#сравним гистограммы для каждой услуги по каждому из тарифов, сначала для звонков\n",
    "x = df_smart['calls_duration'].hist(bins=10, range=(0, 1500),label = 'smart')\n",
    "y = df_ultra['calls_duration'].hist(bins=10, range=(0, 1500), label = 'ultra', alpha=0.7 )\n",
    "plt.xlabel('длительность звонков, мин/мес')\n",
    "plt.ylabel('частота появления, шт.')\n",
    "plt.title(\"Частотное распределение длительности звонков\")\n",
    "x.legend()\n",
    "y.legend()\n",
    "plt.show()"
   ]
  },
  {
   "cell_type": "markdown",
   "metadata": {},
   "source": [
    "Распределение близко к нормальному (разница между медианой и средней незначительна) Для абонентов ultra лимит звонков 3000 минут в месяц явно избыточен: большая часть укладывается в 1300 минут в месяц. А вот примерно трети абонентам smart приходится доплачивать за звонки, поскольку включенных 500 минут им не хватает. "
   ]
  },
  {
   "cell_type": "code",
   "execution_count": 24,
   "metadata": {},
   "outputs": [
    {
     "data": {
      "image/png": "[encoded data removed]",
      "text/plain": [
       "<Figure size 432x288 with 1 Axes>"
      ]
     },
     "metadata": {
      "needs_background": "light"
     },
     "output_type": "display_data"
    }
   ],
   "source": [
    "#теперь посмотрим данные по сообщениям\n",
    "x = df_smart['messages'].hist(bins=10, range=(0, 200),label = 'smart')\n",
    "y = df_ultra['messages'].hist(bins=10, range=(0, 200), label = 'ultra', alpha=0.7)\n",
    "plt.xlabel('отправлено сообщений, шт/мес')\n",
    "plt.ylabel('частота появления, шт.')\n",
    "plt.title(\"Частотное распределение отправленных сообщений\")\n",
    "x.legend()\n",
    "y.legend()\n",
    "plt.show()"
   ]
  },
  {
   "cell_type": "markdown",
   "metadata": {},
   "source": [
    "Датасеты скошены вправо, в т.ч. это видно, поскольку медиана меньше среднего. Для абонентов ultra лимит сообщений 1000 шт в месяц избыточен: большая часть отправляет не более 150-160 сообщений в месяц. А вот примерно трети абонентам smart приходится доплачивать за смс, поскольку включенных 50 сообщений им не хватает. "
   ]
  },
  {
   "cell_type": "code",
   "execution_count": 25,
   "metadata": {},
   "outputs": [
    {
     "data": {
      "image/png": "[encoded data removed]",
      "text/plain": [
       "<Figure size 432x288 with 1 Axes>"
      ]
     },
     "metadata": {
      "needs_background": "light"
     },
     "output_type": "display_data"
    }
   ],
   "source": [
    "#изучим данные по интернет-трафику\n",
    "x = df_smart['gb_used'].hist(bins=10, range=(0, 50),label = 'smart')\n",
    "y = df_ultra['gb_used'].hist(bins=10, range=(0, 50), label = 'ultra', alpha=0.7)\n",
    "plt.xlabel('использованных данных, гб/мес')\n",
    "plt.ylabel('частота появления, шт.')\n",
    "plt.title(\"Частотное распределение выхода в интернет\")\n",
    "x.legend()\n",
    "y.legend()\n",
    "plt.show()"
   ]
  },
  {
   "cell_type": "markdown",
   "metadata": {},
   "source": [
    "Распределения данных в части использования интернета близко к нормальному для обоих тарифов.\n",
    "При этом видно, что более половины абонентов с тарифом smart не укладываются в предоставляемый лимит 15 гб и вынуждены оплачивать дополнительный интернет сверх абонентской платы. Для абонентов ultra доля тех, кто превышает лимит 30 гб, гораздо меньше."
   ]
  },
  {
   "cell_type": "markdown",
   "metadata": {},
   "source": [
    "##  Проверка гипотез"
   ]
  },
  {
   "cell_type": "markdown",
   "metadata": {},
   "source": [
    "Проверим гипотезу \"Средняя выручка пользователей тарифов «Ультра» и «Смарт» различаются\". Поскольку H₀ всегда формулируется так, чтобы использовать знак равенства, то это двусторонняя альтернативная гипотеза. **Нулевая гипотеза звучит так: \"Средняя выручка пользователей тарифов «Ультра» и «Смарт» одинаковые\"**. Для проверки проведем статистический тест на равенство среднего двух генеральных совокупностей по взятым из них выборкам."
   ]
  },
  {
   "cell_type": "code",
   "execution_count": 26,
   "metadata": {},
   "outputs": [
    {
     "data": {
      "text/html": [
       "<div>\n",
       "<style scoped>\n",
       "    .dataframe tbody tr th:only-of-type {\n",
       "        vertical-align: middle;\n",
       "    }\n",
       "\n",
       "    .dataframe tbody tr th {\n",
       "        vertical-align: top;\n",
       "    }\n",
       "\n",
       "    .dataframe thead tr th {\n",
       "        text-align: left;\n",
       "    }\n",
       "\n",
       "    .dataframe thead tr:last-of-type th {\n",
       "        text-align: right;\n",
       "    }\n",
       "</style>\n",
       "<table border=\"1\" class=\"dataframe\">\n",
       "  <thead>\n",
       "    <tr>\n",
       "      <th></th>\n",
       "      <th>count</th>\n",
       "      <th>mean</th>\n",
       "    </tr>\n",
       "    <tr>\n",
       "      <th></th>\n",
       "      <th>total_income</th>\n",
       "      <th>total_income</th>\n",
       "    </tr>\n",
       "    <tr>\n",
       "      <th>tariff</th>\n",
       "      <th></th>\n",
       "      <th></th>\n",
       "    </tr>\n",
       "  </thead>\n",
       "  <tbody>\n",
       "    <tr>\n",
       "      <td>smart</td>\n",
       "      <td>2229</td>\n",
       "      <td>1,290</td>\n",
       "    </tr>\n",
       "    <tr>\n",
       "      <td>ultra</td>\n",
       "      <td>985</td>\n",
       "      <td>2,070</td>\n",
       "    </tr>\n",
       "  </tbody>\n",
       "</table>\n",
       "</div>"
      ],
      "text/plain": [
       "              count         mean\n",
       "       total_income total_income\n",
       "tariff                          \n",
       "smart          2229        1,290\n",
       "ultra           985        2,070"
      ]
     },
     "execution_count": 26,
     "metadata": {},
     "output_type": "execute_result"
    }
   ],
   "source": [
    "df.pivot_table(index=['tariff'], values= ['total_income'], aggfunc= ['count','mean'])"
   ]
  },
  {
   "cell_type": "markdown",
   "metadata": {},
   "source": [
    "Мы видим, что наши выборки разного размера (985 абонентов с тарифом ultra vs 2229 абонентов с тарифом smart), а значит дисперсии одних и тех же показателей может сильно различаться. В связи с этим  при проведении статистического теста параметр equal_var нужно указать False, чтобы тест посчитал дисперсии выборок по отдельности."
   ]
  },
  {
   "cell_type": "code",
   "execution_count": 27,
   "metadata": {},
   "outputs": [
    {
     "name": "stdout",
     "output_type": "stream",
     "text": [
      "p-значение: 4.2606313931076085e-250\n",
      "Отвергаем нулевую гипотезу\n"
     ]
    }
   ],
   "source": [
    "ultra_income = df[df['tariff'] == \"ultra\"]['total_income']\n",
    "smart_income = df[df['tariff'] == \"smart\"]['total_income']\n",
    "alpha = .001\n",
    "results = st.ttest_ind(ultra_income, smart_income, equal_var = False)\n",
    "print('p-значение:', results.pvalue)\n",
    "if results.pvalue < alpha:\n",
    "    print(\"Отвергаем нулевую гипотезу\")\n",
    "else:\n",
    "    print(\"Не получилось отвергнуть нулевую гипотезу\") "
   ]
  },
  {
   "cell_type": "markdown",
   "metadata": {},
   "source": [
    "**По результатам проведения теста значение p-value стремится к нулю (10^-250). Таким образом, оснований отвергать гипотезу \"Средняя выручка пользователей тарифов «Ультра» и «Смарт» различаются\" нет**."
   ]
  },
  {
   "cell_type": "code",
   "execution_count": 28,
   "metadata": {
    "scrolled": true
   },
   "outputs": [
    {
     "data": {
      "text/html": [
       "<div>\n",
       "<style scoped>\n",
       "    .dataframe tbody tr th:only-of-type {\n",
       "        vertical-align: middle;\n",
       "    }\n",
       "\n",
       "    .dataframe tbody tr th {\n",
       "        vertical-align: top;\n",
       "    }\n",
       "\n",
       "    .dataframe thead tr th {\n",
       "        text-align: left;\n",
       "    }\n",
       "\n",
       "    .dataframe thead tr:last-of-type th {\n",
       "        text-align: right;\n",
       "    }\n",
       "</style>\n",
       "<table border=\"1\" class=\"dataframe\">\n",
       "  <thead>\n",
       "    <tr>\n",
       "      <th></th>\n",
       "      <th colspan=\"5\" halign=\"left\">mean</th>\n",
       "    </tr>\n",
       "    <tr>\n",
       "      <th></th>\n",
       "      <th>calls_income</th>\n",
       "      <th>internet_income</th>\n",
       "      <th>messages_income</th>\n",
       "      <th>tariff_income</th>\n",
       "      <th>total_income</th>\n",
       "    </tr>\n",
       "    <tr>\n",
       "      <th>tariff</th>\n",
       "      <th></th>\n",
       "      <th></th>\n",
       "      <th></th>\n",
       "      <th></th>\n",
       "      <th></th>\n",
       "    </tr>\n",
       "  </thead>\n",
       "  <tbody>\n",
       "    <tr>\n",
       "      <td>smart</td>\n",
       "      <td>125</td>\n",
       "      <td>598</td>\n",
       "      <td>17</td>\n",
       "      <td>550</td>\n",
       "      <td>1,290</td>\n",
       "    </tr>\n",
       "    <tr>\n",
       "      <td>ultra</td>\n",
       "      <td>0</td>\n",
       "      <td>120</td>\n",
       "      <td>0</td>\n",
       "      <td>1950</td>\n",
       "      <td>2,070</td>\n",
       "    </tr>\n",
       "  </tbody>\n",
       "</table>\n",
       "</div>"
      ],
      "text/plain": [
       "               mean                                                           \n",
       "       calls_income internet_income messages_income tariff_income total_income\n",
       "tariff                                                                        \n",
       "smart           125             598              17           550        1,290\n",
       "ultra             0             120               0          1950        2,070"
      ]
     },
     "execution_count": 28,
     "metadata": {},
     "output_type": "execute_result"
    }
   ],
   "source": [
    "#сравним структуру выручки по каждому из тарифов сначала по средней величине\n",
    "df.pivot_table(index=['tariff'], values= ['total_income', 'calls_income', 'messages_income', 'internet_income', 'tariff_income'], aggfunc= ['mean'])"
   ]
  },
  {
   "cell_type": "markdown",
   "metadata": {},
   "source": [
    "Мы видим, что среднестатистический абонент с тарифом ultra приносит больше денег - в среднем 2070 руб. мес. при абонентской плате 1950 руб. В то время как абонент с тарифом smart приносит порядка 1290 руб. в мес. при абонентской плате 550 руб. Очевидно, что абоненты smart не укладываются в предоставляемы лимиты и тратятся на дополнительныу услуги: в основном на интернет, доп.расходы по нему даже превышают размер абонентской платы. Однако общая сумма их выручки все равно уступает абонентам ultra. Стоит отметить, что включенного интернета не хватает пользователям обоих тарифов."
   ]
  },
  {
   "cell_type": "code",
   "execution_count": 29,
   "metadata": {},
   "outputs": [
    {
     "data": {
      "text/html": [
       "<div>\n",
       "<style scoped>\n",
       "    .dataframe tbody tr th:only-of-type {\n",
       "        vertical-align: middle;\n",
       "    }\n",
       "\n",
       "    .dataframe tbody tr th {\n",
       "        vertical-align: top;\n",
       "    }\n",
       "\n",
       "    .dataframe thead tr th {\n",
       "        text-align: left;\n",
       "    }\n",
       "\n",
       "    .dataframe thead tr:last-of-type th {\n",
       "        text-align: right;\n",
       "    }\n",
       "</style>\n",
       "<table border=\"1\" class=\"dataframe\">\n",
       "  <thead>\n",
       "    <tr>\n",
       "      <th></th>\n",
       "      <th colspan=\"5\" halign=\"left\">sum</th>\n",
       "    </tr>\n",
       "    <tr>\n",
       "      <th></th>\n",
       "      <th>calls_income</th>\n",
       "      <th>internet_income</th>\n",
       "      <th>messages_income</th>\n",
       "      <th>tariff_income</th>\n",
       "      <th>total_income</th>\n",
       "    </tr>\n",
       "    <tr>\n",
       "      <th>tariff</th>\n",
       "      <th></th>\n",
       "      <th></th>\n",
       "      <th></th>\n",
       "      <th></th>\n",
       "      <th></th>\n",
       "    </tr>\n",
       "  </thead>\n",
       "  <tbody>\n",
       "    <tr>\n",
       "      <td>smart</td>\n",
       "      <td>278,217</td>\n",
       "      <td>1,332,400</td>\n",
       "      <td>38,784</td>\n",
       "      <td>1225950</td>\n",
       "      <td>2,875,351</td>\n",
       "    </tr>\n",
       "    <tr>\n",
       "      <td>ultra</td>\n",
       "      <td>0</td>\n",
       "      <td>118,350</td>\n",
       "      <td>0</td>\n",
       "      <td>1920750</td>\n",
       "      <td>2,039,100</td>\n",
       "    </tr>\n",
       "  </tbody>\n",
       "</table>\n",
       "</div>"
      ],
      "text/plain": [
       "                sum                                                           \n",
       "       calls_income internet_income messages_income tariff_income total_income\n",
       "tariff                                                                        \n",
       "smart       278,217       1,332,400          38,784       1225950    2,875,351\n",
       "ultra             0         118,350               0       1920750    2,039,100"
      ]
     },
     "execution_count": 29,
     "metadata": {},
     "output_type": "execute_result"
    }
   ],
   "source": [
    "#а теперь в абсолютных значениях \n",
    "df.pivot_table(index=['tariff'], values= ['total_income', 'calls_income', 'messages_income', 'internet_income', 'tariff_income'], aggfunc= ['sum'])"
   ]
  },
  {
   "cell_type": "markdown",
   "metadata": {},
   "source": [
    "Хотя абонентская плата ultra практически в 4 раза выше абнентской платы по тарифу smart, за счет оплаты дополнительных услуг абоненты smart в итоге принесли большую выручку. В итоге доля тарифов в общей выручке распределилась примерно в пропорции 60 (smart)/40 (ultra). Поэтому сделать однозначный вывод, какой тариф лучше, нельзя, т.к. с точки зрения выручки на абонента это однозначно тариф ultra, однако за счет большей базы абонентов smart и их покупками дополнительных услуг они в итоге приносят выручку больше, чем все абоненты ultra. Поддерживать и развивать нужно сбалансировано оба тарифа."
   ]
  },
  {
   "cell_type": "markdown",
   "metadata": {},
   "source": [
    "Теперь проверим еще одну гипотезу - \"Средняя выручка пользователей из Москвы отличается от выручки пользователей из других регионов\". И вновь это альтернативная гипотеза в противовес нулевой, которая звучит так: **\"Средняя выручка пользователей из Москвы не отличается от выручки пользователей из других регионов\"**."
   ]
  },
  {
   "cell_type": "code",
   "execution_count": 30,
   "metadata": {
    "scrolled": true
   },
   "outputs": [
    {
     "data": {
      "text/plain": [
       "611"
      ]
     },
     "metadata": {},
     "output_type": "display_data"
    },
    {
     "data": {
      "text/plain": [
       "2603"
      ]
     },
     "execution_count": 30,
     "metadata": {},
     "output_type": "execute_result"
    }
   ],
   "source": [
    "display(df[df['city'] == \"Москва\"]['total_income'].count())\n",
    "df[df['city'] != \"Москва\"]['total_income'].count()"
   ]
  },
  {
   "cell_type": "markdown",
   "metadata": {},
   "source": [
    " Поскольку выборка по Москве значительно отличается от выборки по остальным городам (611 строк vs 2603 строк по остальным городам), в параметрах теста укажем equal_var = False."
   ]
  },
  {
   "cell_type": "code",
   "execution_count": 31,
   "metadata": {},
   "outputs": [
    {
     "name": "stdout",
     "output_type": "stream",
     "text": [
      "p-значение: 0.5257376663729298\n",
      "Не получилось отвергнуть нулевую гипотезу\n"
     ]
    }
   ],
   "source": [
    "moscow_income = df[df['city'] == \"Москва\"]['total_income']\n",
    "regions_income = df[df['city'] != \"Москва\"]['total_income']\n",
    "alpha = .001\n",
    "results = st.ttest_ind(moscow_income, regions_income, equal_var = False)\n",
    "print('p-значение:', results.pvalue)\n",
    "if results.pvalue < alpha:\n",
    "    print(\"Отвергаем нулевую гипотезу\")\n",
    "else:\n",
    "    print(\"Не получилось отвергнуть нулевую гипотезу\")"
   ]
  },
  {
   "cell_type": "markdown",
   "metadata": {},
   "source": [
    "Полученное значение p-value говорит о том, что вероятность получить такое или большее различие случайно свыше 50%, что значительно выше критического уровня значимости даже в 5%. Это явно слишком большая вероятность, чтобы делать вывод о значимом различии между средними выручками Москвы и остальными регионами. Таким образом, у нас есть **все основания отвергнуть нашу гипотезу \"Средняя выручка пользователей из Москвы отличается от выручки пользователей из других регионов\"**."
   ]
  },
  {
   "cell_type": "markdown",
   "metadata": {},
   "source": [
    "## Общий вывод"
   ]
  },
  {
   "cell_type": "markdown",
   "metadata": {},
   "source": [
    " - для каждого абонента помесячно мы рассчитали количество сделанных звонков и израсходованных минут, отправленных сообщений, объем израсходованного интернет-трафика, а также помесячную выручку;\n",
    " - для каждого тарифа мы определили cколько минут разговора, сколько сообщений и какой объём интернет-трафика требуется пользователям в месяц, сравнив поведение пользователей между собой;\n",
    " - на основании проведенного анализа мы узнали, что тариф ultra с точки зрения выручки на одного абонента более выгоден, чем тариф smart: 2070 руб./мес. vs 1290 руб./мес. Однако за счет большей базы абонентов smart и их покупок дополнительных услуг они в итоге приносят выручку больше, чем все абоненты ultra.  Поэтому сделать однозначный вывод, какой тариф лучше, нельзя. Поддерживать и развивать нужно сбалансировано оба тарифа;\n",
    " - мы проверили гипотезу \"Средняя выручка пользователей тарифов «Ультра» и «Смарт» различаются\" с помощью статистического теста по проверке равенства среднего двух генеральных совокупностей по взятым из них выборками и не нашли оснований ее отвергнуть;\n",
    " - что касается другой гипотезы \"Средняя выручка пользователей из Москвы отличается от выручки пользователей из других регионов\", то результаты теста показали высокое значение p-value, что дает нам все основания ее отвергнуть."
   ]
  }
 ],
 "metadata": {
  "ExecuteTimeLog": [
   {
    "duration": 355,
    "start_time": "2022-02-22T12:53:20.312Z"
   },
   {
    "duration": 977,
    "start_time": "2022-02-22T12:53:30.335Z"
   },
   {
    "duration": 235,
    "start_time": "2022-02-22T12:53:31.315Z"
   },
   {
    "duration": 249,
    "start_time": "2022-02-22T12:53:38.453Z"
   },
   {
    "duration": 1316,
    "start_time": "2022-02-22T12:56:19.236Z"
   },
   {
    "duration": 85,
    "start_time": "2022-02-22T12:56:20.470Z"
   },
   {
    "duration": 310,
    "start_time": "2022-02-22T12:57:36.572Z"
   },
   {
    "duration": 125,
    "start_time": "2022-02-22T12:57:56.410Z"
   },
   {
    "duration": 231,
    "start_time": "2022-02-22T12:57:59.889Z"
   },
   {
    "duration": 235,
    "start_time": "2022-02-22T12:58:55.563Z"
   },
   {
    "duration": 228,
    "start_time": "2022-02-22T15:13:07.563Z"
   },
   {
    "duration": 228,
    "start_time": "2022-02-22T15:14:25.942Z"
   },
   {
    "duration": 173,
    "start_time": "2022-02-22T15:15:05.862Z"
   },
   {
    "duration": 123,
    "start_time": "2022-02-22T15:20:19.693Z"
   },
   {
    "duration": 24,
    "start_time": "2022-02-22T15:21:13.065Z"
   },
   {
    "duration": 30,
    "start_time": "2022-02-22T15:21:43.702Z"
   },
   {
    "duration": 222,
    "start_time": "2022-02-23T11:16:35.080Z"
   },
   {
    "duration": 647,
    "start_time": "2022-02-23T11:17:31.745Z"
   },
   {
    "duration": 191,
    "start_time": "2022-02-23T11:17:32.394Z"
   },
   {
    "duration": 161,
    "start_time": "2022-02-23T11:17:32.587Z"
   },
   {
    "duration": 105,
    "start_time": "2022-02-23T11:17:32.749Z"
   },
   {
    "duration": 19,
    "start_time": "2022-02-23T11:17:32.856Z"
   },
   {
    "duration": 34,
    "start_time": "2022-02-23T11:17:32.877Z"
   },
   {
    "duration": 67,
    "start_time": "2022-02-23T11:25:07.086Z"
   },
   {
    "duration": 1353,
    "start_time": "2022-02-23T11:25:17.283Z"
   },
   {
    "duration": 200,
    "start_time": "2022-02-23T11:25:28.866Z"
   },
   {
    "duration": 192,
    "start_time": "2022-02-23T11:25:36.106Z"
   },
   {
    "duration": 34,
    "start_time": "2022-02-23T11:25:44.506Z"
   },
   {
    "duration": 61,
    "start_time": "2022-02-23T11:26:24.685Z"
   },
   {
    "duration": 76,
    "start_time": "2022-02-23T11:26:33.323Z"
   },
   {
    "duration": 121,
    "start_time": "2022-02-23T11:28:49.734Z"
   },
   {
    "duration": 107,
    "start_time": "2022-02-23T11:29:38.475Z"
   },
   {
    "duration": 107,
    "start_time": "2022-02-23T11:31:27.908Z"
   },
   {
    "duration": 35,
    "start_time": "2022-02-23T11:38:11.253Z"
   },
   {
    "duration": 205,
    "start_time": "2022-02-23T11:39:22.864Z"
   },
   {
    "duration": 609,
    "start_time": "2022-02-23T11:39:38.374Z"
   },
   {
    "duration": 191,
    "start_time": "2022-02-23T11:39:38.985Z"
   },
   {
    "duration": 153,
    "start_time": "2022-02-23T11:39:39.178Z"
   },
   {
    "duration": 105,
    "start_time": "2022-02-23T11:39:39.333Z"
   },
   {
    "duration": 19,
    "start_time": "2022-02-23T11:39:39.440Z"
   },
   {
    "duration": 327,
    "start_time": "2022-02-23T11:39:39.462Z"
   },
   {
    "duration": 31,
    "start_time": "2022-02-23T11:39:55.858Z"
   },
   {
    "duration": 654,
    "start_time": "2022-02-23T11:46:49.132Z"
   },
   {
    "duration": 178,
    "start_time": "2022-02-23T11:46:49.788Z"
   },
   {
    "duration": 154,
    "start_time": "2022-02-23T11:46:49.969Z"
   },
   {
    "duration": 101,
    "start_time": "2022-02-23T11:46:50.125Z"
   },
   {
    "duration": 18,
    "start_time": "2022-02-23T11:46:50.228Z"
   },
   {
    "duration": 27,
    "start_time": "2022-02-23T11:46:50.248Z"
   },
   {
    "duration": 624,
    "start_time": "2022-02-23T11:47:38.561Z"
   },
   {
    "duration": 193,
    "start_time": "2022-02-23T11:47:39.187Z"
   },
   {
    "duration": 157,
    "start_time": "2022-02-23T11:47:39.385Z"
   },
   {
    "duration": 106,
    "start_time": "2022-02-23T11:47:39.544Z"
   },
   {
    "duration": 19,
    "start_time": "2022-02-23T11:47:39.652Z"
   },
   {
    "duration": 29,
    "start_time": "2022-02-23T11:47:39.673Z"
   },
   {
    "duration": 158,
    "start_time": "2022-02-23T11:47:57.389Z"
   },
   {
    "duration": 145,
    "start_time": "2022-02-23T11:48:02.791Z"
   },
   {
    "duration": 137,
    "start_time": "2022-02-23T11:48:10.622Z"
   },
   {
    "duration": 157,
    "start_time": "2022-02-23T11:48:19.943Z"
   },
   {
    "duration": 165,
    "start_time": "2022-02-23T11:50:17.753Z"
   },
   {
    "duration": 155,
    "start_time": "2022-02-23T11:50:34.720Z"
   },
   {
    "duration": 27,
    "start_time": "2022-02-23T19:12:47.260Z"
   },
   {
    "duration": 23,
    "start_time": "2022-02-23T19:15:35.725Z"
   },
   {
    "duration": 35,
    "start_time": "2022-02-23T19:15:41.621Z"
   },
   {
    "duration": 33,
    "start_time": "2022-02-23T19:21:18.193Z"
   },
   {
    "duration": 26,
    "start_time": "2022-02-23T19:21:27.977Z"
   },
   {
    "duration": 22,
    "start_time": "2022-02-23T19:21:37.216Z"
   },
   {
    "duration": 7,
    "start_time": "2022-02-23T19:22:11.656Z"
   },
   {
    "duration": 287,
    "start_time": "2022-02-23T19:49:33.620Z"
   },
   {
    "duration": 6,
    "start_time": "2022-02-23T19:49:55.534Z"
   },
   {
    "duration": 259,
    "start_time": "2022-02-23T19:50:21.886Z"
   },
   {
    "duration": 173,
    "start_time": "2022-02-23T19:50:29.061Z"
   },
   {
    "duration": 208,
    "start_time": "2022-02-23T19:50:54.654Z"
   },
   {
    "duration": 134,
    "start_time": "2022-02-23T19:51:09.224Z"
   },
   {
    "duration": 205,
    "start_time": "2022-02-23T20:00:23.516Z"
   },
   {
    "duration": 48,
    "start_time": "2022-02-23T20:00:44.834Z"
   },
   {
    "duration": 149,
    "start_time": "2022-02-23T20:01:32.749Z"
   },
   {
    "duration": 161,
    "start_time": "2022-02-23T20:02:20.374Z"
   },
   {
    "duration": 157,
    "start_time": "2022-02-23T20:04:01.080Z"
   },
   {
    "duration": 133,
    "start_time": "2022-02-23T20:04:11.151Z"
   },
   {
    "duration": 1942,
    "start_time": "2022-02-23T20:11:22.596Z"
   },
   {
    "duration": 2049,
    "start_time": "2022-02-23T20:11:24.947Z"
   },
   {
    "duration": 157,
    "start_time": "2022-02-23T20:14:52.286Z"
   },
   {
    "duration": 2160,
    "start_time": "2022-02-23T20:16:14.072Z"
   },
   {
    "duration": 2238,
    "start_time": "2022-02-23T20:16:24.008Z"
   },
   {
    "duration": 2710,
    "start_time": "2022-02-23T20:16:37.675Z"
   },
   {
    "duration": 4,
    "start_time": "2022-02-23T20:16:44.150Z"
   },
   {
    "duration": 2327,
    "start_time": "2022-02-23T20:16:53.369Z"
   },
   {
    "duration": 729,
    "start_time": "2022-02-23T20:17:02.615Z"
   },
   {
    "duration": 179,
    "start_time": "2022-02-23T20:17:03.347Z"
   },
   {
    "duration": 153,
    "start_time": "2022-02-23T20:17:03.529Z"
   },
   {
    "duration": 104,
    "start_time": "2022-02-23T20:17:03.684Z"
   },
   {
    "duration": 31,
    "start_time": "2022-02-23T20:17:03.789Z"
   },
   {
    "duration": 29,
    "start_time": "2022-02-23T20:17:03.823Z"
   },
   {
    "duration": 8,
    "start_time": "2022-02-23T20:17:03.854Z"
   },
   {
    "duration": 8,
    "start_time": "2022-02-23T20:17:03.865Z"
   },
   {
    "duration": 195,
    "start_time": "2022-02-23T20:17:03.875Z"
   },
   {
    "duration": 711,
    "start_time": "2022-02-23T20:17:04.072Z"
   },
   {
    "duration": 690,
    "start_time": "2022-02-23T20:17:50.424Z"
   },
   {
    "duration": 770,
    "start_time": "2022-02-23T20:17:54.200Z"
   },
   {
    "duration": 844,
    "start_time": "2022-02-23T20:18:41.777Z"
   },
   {
    "duration": 852,
    "start_time": "2022-02-23T20:18:45.096Z"
   },
   {
    "duration": 952,
    "start_time": "2022-02-23T20:18:48.123Z"
   },
   {
    "duration": 4,
    "start_time": "2022-02-23T20:19:17.649Z"
   },
   {
    "duration": 1153,
    "start_time": "2022-02-23T20:19:23.225Z"
   },
   {
    "duration": 1103,
    "start_time": "2022-02-23T20:19:26.891Z"
   },
   {
    "duration": 1202,
    "start_time": "2022-02-23T20:21:00.818Z"
   },
   {
    "duration": 1494,
    "start_time": "2022-02-23T20:22:11.716Z"
   },
   {
    "duration": 1451,
    "start_time": "2022-02-23T21:23:20.932Z"
   },
   {
    "duration": 1398,
    "start_time": "2022-02-23T21:23:24.196Z"
   },
   {
    "duration": 1467,
    "start_time": "2022-02-23T21:23:27.706Z"
   },
   {
    "duration": 5,
    "start_time": "2022-02-23T21:23:34.668Z"
   },
   {
    "duration": 1512,
    "start_time": "2022-02-23T21:23:45.435Z"
   },
   {
    "duration": 1565,
    "start_time": "2022-02-23T21:25:47.419Z"
   },
   {
    "duration": 1838,
    "start_time": "2022-02-23T21:27:15.965Z"
   },
   {
    "duration": 2690,
    "start_time": "2022-02-23T21:28:01.202Z"
   },
   {
    "duration": 16,
    "start_time": "2022-02-23T21:30:56.776Z"
   },
   {
    "duration": 5,
    "start_time": "2022-02-24T07:49:28.759Z"
   },
   {
    "duration": 756,
    "start_time": "2022-02-24T07:49:36.370Z"
   },
   {
    "duration": 201,
    "start_time": "2022-02-24T07:49:37.128Z"
   },
   {
    "duration": 174,
    "start_time": "2022-02-24T07:49:37.334Z"
   },
   {
    "duration": 116,
    "start_time": "2022-02-24T07:49:37.510Z"
   },
   {
    "duration": 22,
    "start_time": "2022-02-24T07:49:37.628Z"
   },
   {
    "duration": 28,
    "start_time": "2022-02-24T07:49:37.652Z"
   },
   {
    "duration": 28,
    "start_time": "2022-02-24T07:49:37.683Z"
   },
   {
    "duration": 10,
    "start_time": "2022-02-24T07:49:37.714Z"
   },
   {
    "duration": 190,
    "start_time": "2022-02-24T07:49:37.726Z"
   },
   {
    "duration": 15,
    "start_time": "2022-02-24T07:49:37.918Z"
   },
   {
    "duration": 880,
    "start_time": "2022-02-24T07:49:37.935Z"
   },
   {
    "duration": 31,
    "start_time": "2022-02-24T07:54:18.842Z"
   },
   {
    "duration": 1060,
    "start_time": "2022-02-24T07:55:51.825Z"
   },
   {
    "duration": 350,
    "start_time": "2022-02-24T08:03:52.093Z"
   },
   {
    "duration": 177,
    "start_time": "2022-02-24T08:12:21.434Z"
   },
   {
    "duration": 274,
    "start_time": "2022-02-24T08:15:14.262Z"
   },
   {
    "duration": 740,
    "start_time": "2022-02-24T08:15:21.766Z"
   },
   {
    "duration": 202,
    "start_time": "2022-02-24T08:15:22.508Z"
   },
   {
    "duration": 167,
    "start_time": "2022-02-24T08:15:22.713Z"
   },
   {
    "duration": 121,
    "start_time": "2022-02-24T08:15:22.883Z"
   },
   {
    "duration": 21,
    "start_time": "2022-02-24T08:15:23.006Z"
   },
   {
    "duration": 43,
    "start_time": "2022-02-24T08:15:23.029Z"
   },
   {
    "duration": 10,
    "start_time": "2022-02-24T08:15:23.074Z"
   },
   {
    "duration": 19,
    "start_time": "2022-02-24T08:15:23.087Z"
   },
   {
    "duration": 199,
    "start_time": "2022-02-24T08:15:23.108Z"
   },
   {
    "duration": 370,
    "start_time": "2022-02-24T08:17:00.360Z"
   },
   {
    "duration": 756,
    "start_time": "2022-02-24T08:17:07.781Z"
   },
   {
    "duration": 198,
    "start_time": "2022-02-24T08:17:08.539Z"
   },
   {
    "duration": 161,
    "start_time": "2022-02-24T08:17:08.739Z"
   },
   {
    "duration": 112,
    "start_time": "2022-02-24T08:17:08.907Z"
   },
   {
    "duration": 22,
    "start_time": "2022-02-24T08:17:09.021Z"
   },
   {
    "duration": 36,
    "start_time": "2022-02-24T08:17:09.045Z"
   },
   {
    "duration": 20,
    "start_time": "2022-02-24T08:17:09.083Z"
   },
   {
    "duration": 57,
    "start_time": "2022-02-24T08:17:09.106Z"
   },
   {
    "duration": 204,
    "start_time": "2022-02-24T08:17:09.165Z"
   },
   {
    "duration": 281,
    "start_time": "2022-02-24T08:18:38.041Z"
   },
   {
    "duration": 749,
    "start_time": "2022-02-24T08:18:43.887Z"
   },
   {
    "duration": 206,
    "start_time": "2022-02-24T08:18:44.638Z"
   },
   {
    "duration": 172,
    "start_time": "2022-02-24T08:18:44.846Z"
   },
   {
    "duration": 115,
    "start_time": "2022-02-24T08:18:45.021Z"
   },
   {
    "duration": 21,
    "start_time": "2022-02-24T08:18:45.138Z"
   },
   {
    "duration": 27,
    "start_time": "2022-02-24T08:18:45.161Z"
   },
   {
    "duration": 21,
    "start_time": "2022-02-24T08:18:45.190Z"
   },
   {
    "duration": 9,
    "start_time": "2022-02-24T08:18:45.213Z"
   },
   {
    "duration": 195,
    "start_time": "2022-02-24T08:18:45.225Z"
   },
   {
    "duration": 330,
    "start_time": "2022-02-24T08:18:45.422Z"
   },
   {
    "duration": -20,
    "start_time": "2022-02-24T08:18:45.774Z"
   },
   {
    "duration": 201,
    "start_time": "2022-02-24T08:20:46.159Z"
   },
   {
    "duration": 258,
    "start_time": "2022-02-24T08:22:59.734Z"
   },
   {
    "duration": 242,
    "start_time": "2022-02-24T08:25:54.108Z"
   },
   {
    "duration": 167,
    "start_time": "2022-02-24T08:26:02.828Z"
   },
   {
    "duration": 86,
    "start_time": "2022-02-24T08:26:42.957Z"
   },
   {
    "duration": 71,
    "start_time": "2022-02-24T08:27:04.093Z"
   },
   {
    "duration": 247,
    "start_time": "2022-02-24T08:28:18.996Z"
   },
   {
    "duration": 73,
    "start_time": "2022-02-24T08:28:28.989Z"
   },
   {
    "duration": 235,
    "start_time": "2022-02-24T08:31:25.359Z"
   },
   {
    "duration": 99,
    "start_time": "2022-02-24T08:33:16.408Z"
   },
   {
    "duration": 183,
    "start_time": "2022-02-24T08:38:09.138Z"
   },
   {
    "duration": 92,
    "start_time": "2022-02-24T08:39:55.408Z"
   },
   {
    "duration": 69,
    "start_time": "2022-02-24T08:40:02.305Z"
   },
   {
    "duration": 676,
    "start_time": "2022-02-24T08:41:57.451Z"
   },
   {
    "duration": 198,
    "start_time": "2022-02-24T08:41:58.130Z"
   },
   {
    "duration": 160,
    "start_time": "2022-02-24T08:41:58.330Z"
   },
   {
    "duration": 121,
    "start_time": "2022-02-24T08:41:58.493Z"
   },
   {
    "duration": 22,
    "start_time": "2022-02-24T08:41:58.616Z"
   },
   {
    "duration": 24,
    "start_time": "2022-02-24T08:41:58.640Z"
   },
   {
    "duration": 7,
    "start_time": "2022-02-24T08:41:58.666Z"
   },
   {
    "duration": 10,
    "start_time": "2022-02-24T08:41:58.675Z"
   },
   {
    "duration": 239,
    "start_time": "2022-02-24T08:41:58.688Z"
   },
   {
    "duration": 6438,
    "start_time": "2022-02-24T08:41:58.930Z"
   },
   {
    "duration": -20,
    "start_time": "2022-02-24T08:42:05.390Z"
   },
   {
    "duration": 241,
    "start_time": "2022-02-24T08:43:41.050Z"
   },
   {
    "duration": 128,
    "start_time": "2022-02-24T08:44:03.241Z"
   },
   {
    "duration": 6064,
    "start_time": "2022-02-24T08:45:39.998Z"
   },
   {
    "duration": 60,
    "start_time": "2022-02-24T08:45:59.249Z"
   },
   {
    "duration": 194,
    "start_time": "2022-02-24T08:46:17.993Z"
   },
   {
    "duration": 140,
    "start_time": "2022-02-24T08:48:39.352Z"
   },
   {
    "duration": 404,
    "start_time": "2022-02-24T08:49:02.828Z"
   },
   {
    "duration": 77,
    "start_time": "2022-02-24T08:50:44.234Z"
   },
   {
    "duration": 79,
    "start_time": "2022-02-24T08:50:59.019Z"
   },
   {
    "duration": 690,
    "start_time": "2022-02-24T08:51:31.745Z"
   },
   {
    "duration": 313,
    "start_time": "2022-02-24T08:51:32.438Z"
   },
   {
    "duration": 170,
    "start_time": "2022-02-24T08:51:32.754Z"
   },
   {
    "duration": 113,
    "start_time": "2022-02-24T08:51:32.926Z"
   },
   {
    "duration": 21,
    "start_time": "2022-02-24T08:51:33.041Z"
   },
   {
    "duration": 30,
    "start_time": "2022-02-24T08:51:33.064Z"
   },
   {
    "duration": 13,
    "start_time": "2022-02-24T08:51:33.095Z"
   },
   {
    "duration": 7,
    "start_time": "2022-02-24T08:51:33.110Z"
   },
   {
    "duration": 269,
    "start_time": "2022-02-24T08:51:33.120Z"
   },
   {
    "duration": 270,
    "start_time": "2022-02-24T08:51:33.391Z"
   },
   {
    "duration": 3,
    "start_time": "2022-02-24T08:51:33.663Z"
   },
   {
    "duration": 88,
    "start_time": "2022-02-24T08:51:33.668Z"
   },
   {
    "duration": 82,
    "start_time": "2022-02-24T08:53:01.674Z"
   },
   {
    "duration": 86,
    "start_time": "2022-02-24T08:57:05.526Z"
   },
   {
    "duration": 95,
    "start_time": "2022-02-24T08:58:46.042Z"
   },
   {
    "duration": 88,
    "start_time": "2022-02-24T08:59:47.398Z"
   },
   {
    "duration": 57,
    "start_time": "2022-02-24T09:00:11.159Z"
   },
   {
    "duration": 79,
    "start_time": "2022-02-24T09:01:23.975Z"
   },
   {
    "duration": 53,
    "start_time": "2022-02-24T09:02:36.016Z"
   },
   {
    "duration": 126,
    "start_time": "2022-02-24T09:03:11.608Z"
   },
   {
    "duration": 126,
    "start_time": "2022-02-24T09:04:57.809Z"
   },
   {
    "duration": 167,
    "start_time": "2022-02-24T09:06:16.280Z"
   },
   {
    "duration": 194,
    "start_time": "2022-02-24T09:07:02.969Z"
   },
   {
    "duration": 229,
    "start_time": "2022-02-24T09:07:40.098Z"
   },
   {
    "duration": 473,
    "start_time": "2022-02-24T09:08:08.513Z"
   },
   {
    "duration": 743,
    "start_time": "2022-02-24T09:08:33.812Z"
   },
   {
    "duration": 208,
    "start_time": "2022-02-24T09:08:34.558Z"
   },
   {
    "duration": 171,
    "start_time": "2022-02-24T09:08:34.769Z"
   },
   {
    "duration": 119,
    "start_time": "2022-02-24T09:08:34.942Z"
   },
   {
    "duration": 20,
    "start_time": "2022-02-24T09:08:35.064Z"
   },
   {
    "duration": 97,
    "start_time": "2022-02-24T09:08:35.086Z"
   },
   {
    "duration": 7,
    "start_time": "2022-02-24T09:08:35.185Z"
   },
   {
    "duration": 30,
    "start_time": "2022-02-24T09:08:35.195Z"
   },
   {
    "duration": 217,
    "start_time": "2022-02-24T09:08:35.227Z"
   },
   {
    "duration": 283,
    "start_time": "2022-02-24T09:08:35.446Z"
   },
   {
    "duration": 3,
    "start_time": "2022-02-24T09:08:35.731Z"
   },
   {
    "duration": 3918,
    "start_time": "2022-02-24T09:08:35.736Z"
   },
   {
    "duration": 153,
    "start_time": "2022-02-24T09:08:39.656Z"
   },
   {
    "duration": 2861,
    "start_time": "2022-02-24T09:09:58.906Z"
   },
   {
    "duration": 801,
    "start_time": "2022-02-24T09:10:27.573Z"
   },
   {
    "duration": 208,
    "start_time": "2022-02-24T09:10:28.377Z"
   },
   {
    "duration": 174,
    "start_time": "2022-02-24T09:10:28.588Z"
   },
   {
    "duration": 125,
    "start_time": "2022-02-24T09:10:28.765Z"
   },
   {
    "duration": 27,
    "start_time": "2022-02-24T09:10:28.892Z"
   },
   {
    "duration": 25,
    "start_time": "2022-02-24T09:10:28.921Z"
   },
   {
    "duration": 7,
    "start_time": "2022-02-24T09:10:28.948Z"
   },
   {
    "duration": 14,
    "start_time": "2022-02-24T09:10:28.958Z"
   },
   {
    "duration": 253,
    "start_time": "2022-02-24T09:10:28.974Z"
   },
   {
    "duration": 353,
    "start_time": "2022-02-24T09:10:29.230Z"
   },
   {
    "duration": 2,
    "start_time": "2022-02-24T09:10:29.586Z"
   },
   {
    "duration": 3832,
    "start_time": "2022-02-24T09:10:29.590Z"
   },
   {
    "duration": 216,
    "start_time": "2022-02-24T09:10:33.424Z"
   },
   {
    "duration": 693,
    "start_time": "2022-02-24T09:15:09.740Z"
   },
   {
    "duration": 273,
    "start_time": "2022-02-24T09:15:21.411Z"
   },
   {
    "duration": 183,
    "start_time": "2022-02-24T09:15:35.155Z"
   },
   {
    "duration": 84,
    "start_time": "2022-02-24T09:19:01.758Z"
   },
   {
    "duration": 769,
    "start_time": "2022-02-24T12:00:16.733Z"
   },
   {
    "duration": 254,
    "start_time": "2022-02-24T12:00:17.507Z"
   },
   {
    "duration": 189,
    "start_time": "2022-02-24T12:00:17.764Z"
   },
   {
    "duration": 131,
    "start_time": "2022-02-24T12:00:17.956Z"
   },
   {
    "duration": 28,
    "start_time": "2022-02-24T12:00:18.089Z"
   },
   {
    "duration": 38,
    "start_time": "2022-02-24T12:00:18.119Z"
   },
   {
    "duration": 8,
    "start_time": "2022-02-24T12:00:18.159Z"
   },
   {
    "duration": 13,
    "start_time": "2022-02-24T12:00:18.170Z"
   },
   {
    "duration": 7,
    "start_time": "2022-02-24T12:00:18.185Z"
   },
   {
    "duration": 93,
    "start_time": "2022-02-24T12:00:18.194Z"
   },
   {
    "duration": 3,
    "start_time": "2022-02-24T12:00:18.289Z"
   },
   {
    "duration": 3,
    "start_time": "2022-02-24T12:00:18.308Z"
   },
   {
    "duration": 12,
    "start_time": "2022-02-24T12:00:18.313Z"
   },
   {
    "duration": 363,
    "start_time": "2022-02-24T12:00:18.328Z"
   },
   {
    "duration": 277,
    "start_time": "2022-02-24T12:01:36.982Z"
   },
   {
    "duration": 242,
    "start_time": "2022-02-24T12:01:45.543Z"
   },
   {
    "duration": 40,
    "start_time": "2022-02-24T12:01:53.071Z"
   },
   {
    "duration": 86,
    "start_time": "2022-02-24T12:03:03.273Z"
   },
   {
    "duration": 88,
    "start_time": "2022-02-24T12:03:07.390Z"
   },
   {
    "duration": 74,
    "start_time": "2022-02-24T12:03:50.017Z"
   },
   {
    "duration": 77,
    "start_time": "2022-02-24T12:06:15.727Z"
   },
   {
    "duration": 34,
    "start_time": "2022-02-24T12:06:20.961Z"
   },
   {
    "duration": 267,
    "start_time": "2022-02-24T12:08:56.955Z"
   },
   {
    "duration": 704,
    "start_time": "2022-02-24T12:11:15.834Z"
   },
   {
    "duration": 197,
    "start_time": "2022-02-24T12:11:16.540Z"
   },
   {
    "duration": 160,
    "start_time": "2022-02-24T12:11:16.740Z"
   },
   {
    "duration": 112,
    "start_time": "2022-02-24T12:11:16.907Z"
   },
   {
    "duration": 21,
    "start_time": "2022-02-24T12:11:17.021Z"
   },
   {
    "duration": 25,
    "start_time": "2022-02-24T12:11:17.044Z"
   },
   {
    "duration": 7,
    "start_time": "2022-02-24T12:11:17.071Z"
   },
   {
    "duration": 29,
    "start_time": "2022-02-24T12:11:17.080Z"
   },
   {
    "duration": 2,
    "start_time": "2022-02-24T12:11:17.111Z"
   },
   {
    "duration": 86,
    "start_time": "2022-02-24T12:11:17.115Z"
   },
   {
    "duration": 352,
    "start_time": "2022-02-24T12:11:17.208Z"
   },
   {
    "duration": 92,
    "start_time": "2022-02-24T12:11:17.470Z"
   },
   {
    "duration": 83,
    "start_time": "2022-02-24T12:11:17.481Z"
   },
   {
    "duration": 83,
    "start_time": "2022-02-24T12:11:17.482Z"
   },
   {
    "duration": 84,
    "start_time": "2022-02-24T12:11:17.483Z"
   },
   {
    "duration": 281,
    "start_time": "2022-02-24T12:12:45.565Z"
   },
   {
    "duration": 268,
    "start_time": "2022-02-24T12:13:04.190Z"
   },
   {
    "duration": 267,
    "start_time": "2022-02-24T12:13:20.503Z"
   },
   {
    "duration": 270,
    "start_time": "2022-02-24T12:15:02.167Z"
   },
   {
    "duration": 713,
    "start_time": "2022-02-24T12:15:10.325Z"
   },
   {
    "duration": 211,
    "start_time": "2022-02-24T12:15:11.040Z"
   },
   {
    "duration": 282,
    "start_time": "2022-02-24T12:15:11.257Z"
   },
   {
    "duration": 138,
    "start_time": "2022-02-24T12:15:11.543Z"
   },
   {
    "duration": 25,
    "start_time": "2022-02-24T12:15:11.683Z"
   },
   {
    "duration": 37,
    "start_time": "2022-02-24T12:15:11.710Z"
   },
   {
    "duration": 35,
    "start_time": "2022-02-24T12:15:11.749Z"
   },
   {
    "duration": 38,
    "start_time": "2022-02-24T12:15:11.786Z"
   },
   {
    "duration": 22,
    "start_time": "2022-02-24T12:15:11.827Z"
   },
   {
    "duration": 85,
    "start_time": "2022-02-24T12:15:11.852Z"
   },
   {
    "duration": 28,
    "start_time": "2022-02-24T12:15:11.939Z"
   },
   {
    "duration": 2,
    "start_time": "2022-02-24T12:15:11.970Z"
   },
   {
    "duration": 26,
    "start_time": "2022-02-24T12:15:11.974Z"
   },
   {
    "duration": 19,
    "start_time": "2022-02-24T12:15:12.002Z"
   },
   {
    "duration": 331,
    "start_time": "2022-02-24T12:15:12.023Z"
   },
   {
    "duration": 35,
    "start_time": "2022-02-24T12:15:48.755Z"
   },
   {
    "duration": 37,
    "start_time": "2022-02-24T12:16:05.714Z"
   },
   {
    "duration": 90,
    "start_time": "2022-02-24T12:17:46.052Z"
   },
   {
    "duration": 488,
    "start_time": "2022-02-24T12:18:03.308Z"
   },
   {
    "duration": 109,
    "start_time": "2022-02-24T12:18:25.620Z"
   },
   {
    "duration": 80,
    "start_time": "2022-02-24T12:18:38.636Z"
   },
   {
    "duration": 68,
    "start_time": "2022-02-24T15:15:03.010Z"
   },
   {
    "duration": 78,
    "start_time": "2022-02-24T15:15:54.496Z"
   },
   {
    "duration": 93,
    "start_time": "2022-02-24T15:16:18.192Z"
   },
   {
    "duration": 119,
    "start_time": "2022-02-24T15:16:52.163Z"
   },
   {
    "duration": 74,
    "start_time": "2022-02-24T15:17:17.721Z"
   },
   {
    "duration": 77,
    "start_time": "2022-02-24T15:17:47.402Z"
   },
   {
    "duration": 76,
    "start_time": "2022-02-24T15:18:29.161Z"
   },
   {
    "duration": 81,
    "start_time": "2022-02-24T15:18:51.259Z"
   },
   {
    "duration": 236,
    "start_time": "2022-02-24T15:19:04.561Z"
   },
   {
    "duration": 239,
    "start_time": "2022-02-24T15:19:16.417Z"
   },
   {
    "duration": 708,
    "start_time": "2022-02-24T15:19:24.965Z"
   },
   {
    "duration": 203,
    "start_time": "2022-02-24T15:19:25.675Z"
   },
   {
    "duration": 185,
    "start_time": "2022-02-24T15:19:25.883Z"
   },
   {
    "duration": 117,
    "start_time": "2022-02-24T15:19:26.070Z"
   },
   {
    "duration": 26,
    "start_time": "2022-02-24T15:19:26.189Z"
   },
   {
    "duration": 25,
    "start_time": "2022-02-24T15:19:26.217Z"
   },
   {
    "duration": 11,
    "start_time": "2022-02-24T15:19:26.245Z"
   },
   {
    "duration": 23,
    "start_time": "2022-02-24T15:19:26.258Z"
   },
   {
    "duration": 20,
    "start_time": "2022-02-24T15:19:26.283Z"
   },
   {
    "duration": 89,
    "start_time": "2022-02-24T15:19:26.305Z"
   },
   {
    "duration": 96,
    "start_time": "2022-02-24T15:19:26.396Z"
   },
   {
    "duration": 297,
    "start_time": "2022-02-24T15:19:26.494Z"
   },
   {
    "duration": 192,
    "start_time": "2022-02-24T15:19:26.602Z"
   },
   {
    "duration": 191,
    "start_time": "2022-02-24T15:19:26.604Z"
   },
   {
    "duration": 191,
    "start_time": "2022-02-24T15:19:26.605Z"
   },
   {
    "duration": 232,
    "start_time": "2022-02-24T15:19:54.570Z"
   },
   {
    "duration": 6173,
    "start_time": "2022-02-24T15:20:44.605Z"
   },
   {
    "duration": 707,
    "start_time": "2022-02-24T15:21:47.811Z"
   },
   {
    "duration": 203,
    "start_time": "2022-02-24T15:21:48.520Z"
   },
   {
    "duration": 170,
    "start_time": "2022-02-24T15:21:48.725Z"
   },
   {
    "duration": 119,
    "start_time": "2022-02-24T15:21:48.897Z"
   },
   {
    "duration": 20,
    "start_time": "2022-02-24T15:21:49.018Z"
   },
   {
    "duration": 49,
    "start_time": "2022-02-24T15:21:49.040Z"
   },
   {
    "duration": 19,
    "start_time": "2022-02-24T15:21:49.091Z"
   },
   {
    "duration": 30,
    "start_time": "2022-02-24T15:21:49.112Z"
   },
   {
    "duration": 32,
    "start_time": "2022-02-24T15:21:49.144Z"
   },
   {
    "duration": 34,
    "start_time": "2022-02-24T15:21:49.178Z"
   },
   {
    "duration": 207,
    "start_time": "2022-02-24T15:21:49.214Z"
   },
   {
    "duration": 6987,
    "start_time": "2022-02-24T15:21:49.424Z"
   },
   {
    "duration": 182,
    "start_time": "2022-02-24T15:21:56.231Z"
   },
   {
    "duration": 183,
    "start_time": "2022-02-24T15:21:56.232Z"
   },
   {
    "duration": 184,
    "start_time": "2022-02-24T15:21:56.232Z"
   },
   {
    "duration": 5951,
    "start_time": "2022-02-24T15:22:34.353Z"
   },
   {
    "duration": 42,
    "start_time": "2022-02-24T15:23:03.192Z"
   },
   {
    "duration": 71,
    "start_time": "2022-02-24T15:23:10.943Z"
   },
   {
    "duration": 84,
    "start_time": "2022-02-24T15:24:11.809Z"
   },
   {
    "duration": 268,
    "start_time": "2022-02-24T15:24:38.250Z"
   },
   {
    "duration": 70,
    "start_time": "2022-02-24T15:25:06.162Z"
   },
   {
    "duration": 74,
    "start_time": "2022-02-24T15:25:08.880Z"
   },
   {
    "duration": 6302,
    "start_time": "2022-02-24T15:32:28.147Z"
   },
   {
    "duration": 6013,
    "start_time": "2022-02-24T15:33:01.678Z"
   },
   {
    "duration": 72,
    "start_time": "2022-02-24T15:33:08.989Z"
   },
   {
    "duration": 289,
    "start_time": "2022-02-24T15:33:54.166Z"
   },
   {
    "duration": 6875,
    "start_time": "2022-02-24T15:34:13.652Z"
   },
   {
    "duration": 6455,
    "start_time": "2022-02-24T15:35:19.494Z"
   },
   {
    "duration": 5909,
    "start_time": "2022-02-24T15:35:55.335Z"
   },
   {
    "duration": 6077,
    "start_time": "2022-02-24T15:36:13.318Z"
   },
   {
    "duration": 6719,
    "start_time": "2022-02-24T15:36:48.623Z"
   },
   {
    "duration": 76,
    "start_time": "2022-02-24T15:37:08.527Z"
   },
   {
    "duration": 64,
    "start_time": "2022-02-24T15:41:56.704Z"
   },
   {
    "duration": 112,
    "start_time": "2022-02-24T15:49:39.173Z"
   },
   {
    "duration": 69,
    "start_time": "2022-02-24T15:49:46.060Z"
   },
   {
    "duration": 91,
    "start_time": "2022-02-24T15:50:11.011Z"
   },
   {
    "duration": 87,
    "start_time": "2022-02-24T15:50:23.061Z"
   },
   {
    "duration": 57,
    "start_time": "2022-02-24T15:50:33.468Z"
   },
   {
    "duration": 57,
    "start_time": "2022-02-24T15:51:16.772Z"
   },
   {
    "duration": 59,
    "start_time": "2022-02-24T15:51:51.237Z"
   },
   {
    "duration": 55,
    "start_time": "2022-02-24T15:53:03.645Z"
   },
   {
    "duration": 59,
    "start_time": "2022-02-24T15:53:11.445Z"
   },
   {
    "duration": 762,
    "start_time": "2022-02-24T15:53:21.047Z"
   },
   {
    "duration": 208,
    "start_time": "2022-02-24T15:53:21.811Z"
   },
   {
    "duration": 175,
    "start_time": "2022-02-24T15:53:22.022Z"
   },
   {
    "duration": 123,
    "start_time": "2022-02-24T15:53:22.199Z"
   },
   {
    "duration": 21,
    "start_time": "2022-02-24T15:53:22.324Z"
   },
   {
    "duration": 29,
    "start_time": "2022-02-24T15:53:22.347Z"
   },
   {
    "duration": 7,
    "start_time": "2022-02-24T15:53:22.377Z"
   },
   {
    "duration": 21,
    "start_time": "2022-02-24T15:53:22.387Z"
   },
   {
    "duration": 2,
    "start_time": "2022-02-24T15:53:22.411Z"
   },
   {
    "duration": 13,
    "start_time": "2022-02-24T15:53:22.415Z"
   },
   {
    "duration": 141,
    "start_time": "2022-02-24T15:53:22.430Z"
   },
   {
    "duration": 80,
    "start_time": "2022-02-24T15:53:22.573Z"
   },
   {
    "duration": 372,
    "start_time": "2022-02-24T15:53:22.656Z"
   },
   {
    "duration": 209,
    "start_time": "2022-02-24T15:53:22.822Z"
   },
   {
    "duration": 209,
    "start_time": "2022-02-24T15:53:22.823Z"
   },
   {
    "duration": 209,
    "start_time": "2022-02-24T15:53:22.823Z"
   },
   {
    "duration": 85,
    "start_time": "2022-02-24T15:53:57.507Z"
   },
   {
    "duration": 117,
    "start_time": "2022-02-25T07:56:07.958Z"
   },
   {
    "duration": 105,
    "start_time": "2022-02-25T07:56:23.608Z"
   },
   {
    "duration": 651,
    "start_time": "2022-02-25T07:56:30.563Z"
   },
   {
    "duration": 165,
    "start_time": "2022-02-25T07:56:31.216Z"
   },
   {
    "duration": 151,
    "start_time": "2022-02-25T07:56:31.383Z"
   },
   {
    "duration": 93,
    "start_time": "2022-02-25T07:56:31.536Z"
   },
   {
    "duration": 22,
    "start_time": "2022-02-25T07:56:31.630Z"
   },
   {
    "duration": 43,
    "start_time": "2022-02-25T07:56:31.654Z"
   },
   {
    "duration": 8,
    "start_time": "2022-02-25T07:56:31.699Z"
   },
   {
    "duration": 8,
    "start_time": "2022-02-25T07:56:31.709Z"
   },
   {
    "duration": 2,
    "start_time": "2022-02-25T07:56:31.719Z"
   },
   {
    "duration": 4,
    "start_time": "2022-02-25T07:56:31.723Z"
   },
   {
    "duration": 104,
    "start_time": "2022-02-25T07:56:31.729Z"
   },
   {
    "duration": 52,
    "start_time": "2022-02-25T07:56:31.835Z"
   },
   {
    "duration": 80,
    "start_time": "2022-02-25T07:56:31.889Z"
   },
   {
    "duration": 108,
    "start_time": "2022-02-25T07:56:31.970Z"
   },
   {
    "duration": 221,
    "start_time": "2022-02-25T07:56:31.859Z"
   },
   {
    "duration": 220,
    "start_time": "2022-02-25T07:56:31.860Z"
   },
   {
    "duration": 220,
    "start_time": "2022-02-25T07:56:31.861Z"
   },
   {
    "duration": 25,
    "start_time": "2022-02-25T07:56:55.294Z"
   },
   {
    "duration": 95,
    "start_time": "2022-02-25T08:02:54.905Z"
   },
   {
    "duration": 619,
    "start_time": "2022-02-25T08:03:07.887Z"
   },
   {
    "duration": 166,
    "start_time": "2022-02-25T08:03:08.508Z"
   },
   {
    "duration": 134,
    "start_time": "2022-02-25T08:03:08.676Z"
   },
   {
    "duration": 92,
    "start_time": "2022-02-25T08:03:08.812Z"
   },
   {
    "duration": 22,
    "start_time": "2022-02-25T08:03:08.906Z"
   },
   {
    "duration": 44,
    "start_time": "2022-02-25T08:03:08.929Z"
   },
   {
    "duration": 6,
    "start_time": "2022-02-25T08:03:08.974Z"
   },
   {
    "duration": 7,
    "start_time": "2022-02-25T08:03:08.983Z"
   },
   {
    "duration": 7,
    "start_time": "2022-02-25T08:03:08.991Z"
   },
   {
    "duration": 5,
    "start_time": "2022-02-25T08:03:08.999Z"
   },
   {
    "duration": 454,
    "start_time": "2022-02-25T08:03:09.006Z"
   },
   {
    "duration": 175,
    "start_time": "2022-02-25T08:03:09.287Z"
   },
   {
    "duration": 175,
    "start_time": "2022-02-25T08:03:09.288Z"
   },
   {
    "duration": 176,
    "start_time": "2022-02-25T08:03:09.289Z"
   },
   {
    "duration": 176,
    "start_time": "2022-02-25T08:03:09.290Z"
   },
   {
    "duration": 176,
    "start_time": "2022-02-25T08:03:09.291Z"
   },
   {
    "duration": 177,
    "start_time": "2022-02-25T08:03:09.292Z"
   },
   {
    "duration": 89,
    "start_time": "2022-02-25T08:03:52.215Z"
   },
   {
    "duration": 90,
    "start_time": "2022-02-25T08:04:08.479Z"
   },
   {
    "duration": 93,
    "start_time": "2022-02-25T08:04:26.055Z"
   },
   {
    "duration": 67,
    "start_time": "2022-02-25T08:06:00.936Z"
   },
   {
    "duration": 54,
    "start_time": "2022-02-25T08:06:42.438Z"
   },
   {
    "duration": 55,
    "start_time": "2022-02-25T08:06:56.558Z"
   },
   {
    "duration": 377,
    "start_time": "2022-02-25T08:07:35.208Z"
   },
   {
    "duration": 384,
    "start_time": "2022-02-25T08:07:41.765Z"
   },
   {
    "duration": 478,
    "start_time": "2022-02-25T08:07:51.097Z"
   },
   {
    "duration": 81,
    "start_time": "2022-02-25T08:09:02.994Z"
   },
   {
    "duration": 44,
    "start_time": "2022-02-25T08:09:25.226Z"
   },
   {
    "duration": 65,
    "start_time": "2022-02-25T08:09:45.674Z"
   },
   {
    "duration": 92,
    "start_time": "2022-02-25T08:12:59.500Z"
   },
   {
    "duration": 59,
    "start_time": "2022-02-25T08:13:26.622Z"
   },
   {
    "duration": 106,
    "start_time": "2022-02-25T08:13:43.116Z"
   },
   {
    "duration": 26,
    "start_time": "2022-02-25T08:19:57.445Z"
   },
   {
    "duration": 389,
    "start_time": "2022-02-25T08:20:41.574Z"
   },
   {
    "duration": 13,
    "start_time": "2022-02-25T08:20:57.431Z"
   },
   {
    "duration": 22,
    "start_time": "2022-02-25T08:21:07.637Z"
   },
   {
    "duration": 33,
    "start_time": "2022-02-25T08:21:32.295Z"
   },
   {
    "duration": 39,
    "start_time": "2022-02-25T08:27:33.055Z"
   },
   {
    "duration": 10876,
    "start_time": "2022-02-25T08:34:11.205Z"
   },
   {
    "duration": 106,
    "start_time": "2022-02-25T08:34:55.869Z"
   },
   {
    "duration": 102,
    "start_time": "2022-02-25T08:35:51.091Z"
   },
   {
    "duration": 476,
    "start_time": "2022-02-25T08:36:29.229Z"
   },
   {
    "duration": 99,
    "start_time": "2022-02-25T08:50:45.955Z"
   },
   {
    "duration": 401,
    "start_time": "2022-02-25T08:53:19.308Z"
   },
   {
    "duration": 37,
    "start_time": "2022-02-25T08:53:36.145Z"
   },
   {
    "duration": 35,
    "start_time": "2022-02-25T08:54:43.946Z"
   },
   {
    "duration": 34,
    "start_time": "2022-02-25T08:58:35.150Z"
   },
   {
    "duration": 22,
    "start_time": "2022-02-25T09:00:39.584Z"
   },
   {
    "duration": 348,
    "start_time": "2022-02-25T09:07:10.943Z"
   },
   {
    "duration": 70,
    "start_time": "2022-02-25T09:07:11.223Z"
   },
   {
    "duration": 342,
    "start_time": "2022-02-25T09:07:43.104Z"
   },
   {
    "duration": 349,
    "start_time": "2022-02-25T09:08:38.608Z"
   },
   {
    "duration": 19,
    "start_time": "2022-02-25T09:08:55.303Z"
   },
   {
    "duration": 29,
    "start_time": "2022-02-25T09:09:42.543Z"
   },
   {
    "duration": 660,
    "start_time": "2022-02-25T09:10:05.048Z"
   },
   {
    "duration": 163,
    "start_time": "2022-02-25T09:10:05.710Z"
   },
   {
    "duration": 132,
    "start_time": "2022-02-25T09:10:05.875Z"
   },
   {
    "duration": 90,
    "start_time": "2022-02-25T09:10:06.009Z"
   },
   {
    "duration": 24,
    "start_time": "2022-02-25T09:10:06.101Z"
   },
   {
    "duration": 33,
    "start_time": "2022-02-25T09:10:06.126Z"
   },
   {
    "duration": 6,
    "start_time": "2022-02-25T09:10:06.161Z"
   },
   {
    "duration": 7,
    "start_time": "2022-02-25T09:10:06.169Z"
   },
   {
    "duration": 117,
    "start_time": "2022-02-25T09:10:06.178Z"
   },
   {
    "duration": 65,
    "start_time": "2022-02-25T09:10:06.296Z"
   },
   {
    "duration": 72,
    "start_time": "2022-02-25T09:10:06.363Z"
   },
   {
    "duration": 41,
    "start_time": "2022-02-25T09:10:06.437Z"
   },
   {
    "duration": 21,
    "start_time": "2022-02-25T09:10:06.480Z"
   },
   {
    "duration": 3,
    "start_time": "2022-02-25T09:10:06.503Z"
   },
   {
    "duration": 4,
    "start_time": "2022-02-25T09:10:06.508Z"
   },
   {
    "duration": 8,
    "start_time": "2022-02-25T09:10:06.513Z"
   },
   {
    "duration": 376,
    "start_time": "2022-02-25T09:14:18.652Z"
   },
   {
    "duration": 119,
    "start_time": "2022-02-25T09:16:13.083Z"
   },
   {
    "duration": 367,
    "start_time": "2022-02-25T09:16:21.235Z"
   },
   {
    "duration": 365,
    "start_time": "2022-02-25T09:21:19.612Z"
   },
   {
    "duration": 4,
    "start_time": "2022-02-25T09:21:55.101Z"
   },
   {
    "duration": 5,
    "start_time": "2022-02-25T09:22:57.716Z"
   },
   {
    "duration": 345,
    "start_time": "2022-02-25T09:23:10.830Z"
   },
   {
    "duration": 357,
    "start_time": "2022-02-25T09:23:18.446Z"
   },
   {
    "duration": 339,
    "start_time": "2022-02-25T09:23:42.629Z"
   },
   {
    "duration": 321,
    "start_time": "2022-02-25T09:25:09.117Z"
   },
   {
    "duration": 8,
    "start_time": "2022-02-25T09:25:28.247Z"
   },
   {
    "duration": 655,
    "start_time": "2022-02-25T09:25:40.138Z"
   },
   {
    "duration": 175,
    "start_time": "2022-02-25T09:25:40.795Z"
   },
   {
    "duration": 134,
    "start_time": "2022-02-25T09:25:40.972Z"
   },
   {
    "duration": 92,
    "start_time": "2022-02-25T09:25:41.107Z"
   },
   {
    "duration": 23,
    "start_time": "2022-02-25T09:25:41.201Z"
   },
   {
    "duration": 62,
    "start_time": "2022-02-25T09:25:41.225Z"
   },
   {
    "duration": 6,
    "start_time": "2022-02-25T09:25:41.288Z"
   },
   {
    "duration": 14,
    "start_time": "2022-02-25T09:25:41.296Z"
   },
   {
    "duration": 112,
    "start_time": "2022-02-25T09:25:41.311Z"
   },
   {
    "duration": 67,
    "start_time": "2022-02-25T09:25:41.424Z"
   },
   {
    "duration": 84,
    "start_time": "2022-02-25T09:25:41.493Z"
   },
   {
    "duration": 32,
    "start_time": "2022-02-25T09:25:41.579Z"
   },
   {
    "duration": 9,
    "start_time": "2022-02-25T09:25:41.613Z"
   },
   {
    "duration": 4,
    "start_time": "2022-02-25T09:25:41.624Z"
   },
   {
    "duration": 17,
    "start_time": "2022-02-25T09:25:41.629Z"
   },
   {
    "duration": 5,
    "start_time": "2022-02-25T09:25:41.647Z"
   },
   {
    "duration": 5,
    "start_time": "2022-02-25T09:26:04.874Z"
   },
   {
    "duration": 451,
    "start_time": "2022-02-25T09:26:19.432Z"
   },
   {
    "duration": 9,
    "start_time": "2022-02-25T09:26:35.029Z"
   },
   {
    "duration": 9,
    "start_time": "2022-02-25T09:27:31.993Z"
   },
   {
    "duration": 669,
    "start_time": "2022-02-25T09:27:42.373Z"
   },
   {
    "duration": 162,
    "start_time": "2022-02-25T09:27:43.044Z"
   },
   {
    "duration": 130,
    "start_time": "2022-02-25T09:27:43.208Z"
   },
   {
    "duration": 94,
    "start_time": "2022-02-25T09:27:43.340Z"
   },
   {
    "duration": 23,
    "start_time": "2022-02-25T09:27:43.436Z"
   },
   {
    "duration": 42,
    "start_time": "2022-02-25T09:27:43.460Z"
   },
   {
    "duration": 7,
    "start_time": "2022-02-25T09:27:43.504Z"
   },
   {
    "duration": 10,
    "start_time": "2022-02-25T09:27:43.513Z"
   },
   {
    "duration": 150,
    "start_time": "2022-02-25T09:27:43.526Z"
   },
   {
    "duration": 59,
    "start_time": "2022-02-25T09:27:43.678Z"
   },
   {
    "duration": 75,
    "start_time": "2022-02-25T09:27:43.739Z"
   },
   {
    "duration": 44,
    "start_time": "2022-02-25T09:27:43.816Z"
   },
   {
    "duration": 10,
    "start_time": "2022-02-25T09:27:43.862Z"
   },
   {
    "duration": 11,
    "start_time": "2022-02-25T09:27:43.874Z"
   },
   {
    "duration": 23,
    "start_time": "2022-02-25T09:27:43.886Z"
   },
   {
    "duration": 5,
    "start_time": "2022-02-25T09:28:23.075Z"
   },
   {
    "duration": 648,
    "start_time": "2022-02-25T09:28:43.293Z"
   },
   {
    "duration": 163,
    "start_time": "2022-02-25T09:28:43.943Z"
   },
   {
    "duration": 141,
    "start_time": "2022-02-25T09:28:44.108Z"
   },
   {
    "duration": 91,
    "start_time": "2022-02-25T09:28:44.251Z"
   },
   {
    "duration": 21,
    "start_time": "2022-02-25T09:28:44.344Z"
   },
   {
    "duration": 45,
    "start_time": "2022-02-25T09:28:44.367Z"
   },
   {
    "duration": 5,
    "start_time": "2022-02-25T09:28:44.413Z"
   },
   {
    "duration": 9,
    "start_time": "2022-02-25T09:28:44.420Z"
   },
   {
    "duration": 114,
    "start_time": "2022-02-25T09:28:44.432Z"
   },
   {
    "duration": 64,
    "start_time": "2022-02-25T09:28:44.548Z"
   },
   {
    "duration": 89,
    "start_time": "2022-02-25T09:28:44.614Z"
   },
   {
    "duration": 42,
    "start_time": "2022-02-25T09:28:44.705Z"
   },
   {
    "duration": 5,
    "start_time": "2022-02-25T09:28:44.749Z"
   },
   {
    "duration": 7,
    "start_time": "2022-02-25T09:28:44.755Z"
   },
   {
    "duration": 7,
    "start_time": "2022-02-25T09:28:44.763Z"
   },
   {
    "duration": 478,
    "start_time": "2022-02-25T09:28:59.405Z"
   },
   {
    "duration": 336,
    "start_time": "2022-02-25T09:29:38.464Z"
   },
   {
    "duration": 344,
    "start_time": "2022-02-25T09:29:59.630Z"
   },
   {
    "duration": 618,
    "start_time": "2022-02-25T09:30:06.281Z"
   },
   {
    "duration": 165,
    "start_time": "2022-02-25T09:30:06.901Z"
   },
   {
    "duration": 127,
    "start_time": "2022-02-25T09:30:07.068Z"
   },
   {
    "duration": 89,
    "start_time": "2022-02-25T09:30:07.197Z"
   },
   {
    "duration": 22,
    "start_time": "2022-02-25T09:30:07.287Z"
   },
   {
    "duration": 40,
    "start_time": "2022-02-25T09:30:07.311Z"
   },
   {
    "duration": 5,
    "start_time": "2022-02-25T09:30:07.353Z"
   },
   {
    "duration": 8,
    "start_time": "2022-02-25T09:30:07.360Z"
   },
   {
    "duration": 117,
    "start_time": "2022-02-25T09:30:07.370Z"
   },
   {
    "duration": 67,
    "start_time": "2022-02-25T09:30:07.488Z"
   },
   {
    "duration": 73,
    "start_time": "2022-02-25T09:30:07.556Z"
   },
   {
    "duration": 45,
    "start_time": "2022-02-25T09:30:07.631Z"
   },
   {
    "duration": 4,
    "start_time": "2022-02-25T09:30:07.678Z"
   },
   {
    "duration": 4,
    "start_time": "2022-02-25T09:30:07.683Z"
   },
   {
    "duration": 4,
    "start_time": "2022-02-25T09:30:07.689Z"
   },
   {
    "duration": 402,
    "start_time": "2022-02-25T09:30:20.781Z"
   },
   {
    "duration": 336,
    "start_time": "2022-02-25T09:30:31.503Z"
   },
   {
    "duration": 353,
    "start_time": "2022-02-25T09:32:00.826Z"
   },
   {
    "duration": 329,
    "start_time": "2022-02-25T09:32:09.785Z"
   },
   {
    "duration": 426,
    "start_time": "2022-02-25T09:32:18.056Z"
   },
   {
    "duration": 42,
    "start_time": "2022-02-25T09:33:07.615Z"
   },
   {
    "duration": 39,
    "start_time": "2022-02-25T09:33:39.056Z"
   },
   {
    "duration": 399,
    "start_time": "2022-02-25T09:34:04.968Z"
   },
   {
    "duration": 39,
    "start_time": "2022-02-25T09:34:28.809Z"
   },
   {
    "duration": 35,
    "start_time": "2022-02-25T09:34:49.632Z"
   },
   {
    "duration": 35,
    "start_time": "2022-02-25T09:34:54.961Z"
   },
   {
    "duration": 337,
    "start_time": "2022-02-25T09:35:02.824Z"
   },
   {
    "duration": 46,
    "start_time": "2022-02-25T09:35:44.457Z"
   },
   {
    "duration": 40,
    "start_time": "2022-02-25T09:35:57.634Z"
   },
   {
    "duration": 414,
    "start_time": "2022-02-25T09:37:14.139Z"
   },
   {
    "duration": 687,
    "start_time": "2022-02-25T09:37:23.028Z"
   },
   {
    "duration": 159,
    "start_time": "2022-02-25T09:37:23.716Z"
   },
   {
    "duration": 126,
    "start_time": "2022-02-25T09:37:23.877Z"
   },
   {
    "duration": 88,
    "start_time": "2022-02-25T09:37:24.005Z"
   },
   {
    "duration": 23,
    "start_time": "2022-02-25T09:37:24.095Z"
   },
   {
    "duration": 50,
    "start_time": "2022-02-25T09:37:24.119Z"
   },
   {
    "duration": 5,
    "start_time": "2022-02-25T09:37:24.171Z"
   },
   {
    "duration": 7,
    "start_time": "2022-02-25T09:37:24.178Z"
   },
   {
    "duration": 106,
    "start_time": "2022-02-25T09:37:24.186Z"
   },
   {
    "duration": 66,
    "start_time": "2022-02-25T09:37:24.293Z"
   },
   {
    "duration": 72,
    "start_time": "2022-02-25T09:37:24.360Z"
   },
   {
    "duration": 40,
    "start_time": "2022-02-25T09:37:24.433Z"
   },
   {
    "duration": 14,
    "start_time": "2022-02-25T09:37:24.475Z"
   },
   {
    "duration": 4,
    "start_time": "2022-02-25T09:37:24.491Z"
   },
   {
    "duration": 5,
    "start_time": "2022-02-25T09:37:24.496Z"
   },
   {
    "duration": 43,
    "start_time": "2022-02-25T09:38:05.299Z"
   },
   {
    "duration": 791,
    "start_time": "2022-02-25T09:39:10.244Z"
   },
   {
    "duration": 9,
    "start_time": "2022-02-25T09:39:50.124Z"
   },
   {
    "duration": 664,
    "start_time": "2022-02-25T09:39:56.635Z"
   },
   {
    "duration": 167,
    "start_time": "2022-02-25T09:39:57.301Z"
   },
   {
    "duration": 132,
    "start_time": "2022-02-25T09:39:57.471Z"
   },
   {
    "duration": 88,
    "start_time": "2022-02-25T09:39:57.605Z"
   },
   {
    "duration": 21,
    "start_time": "2022-02-25T09:39:57.695Z"
   },
   {
    "duration": 59,
    "start_time": "2022-02-25T09:39:57.717Z"
   },
   {
    "duration": 5,
    "start_time": "2022-02-25T09:39:57.777Z"
   },
   {
    "duration": 9,
    "start_time": "2022-02-25T09:39:57.784Z"
   },
   {
    "duration": 103,
    "start_time": "2022-02-25T09:39:57.795Z"
   },
   {
    "duration": 61,
    "start_time": "2022-02-25T09:39:57.899Z"
   },
   {
    "duration": 71,
    "start_time": "2022-02-25T09:39:57.961Z"
   },
   {
    "duration": 44,
    "start_time": "2022-02-25T09:39:58.033Z"
   },
   {
    "duration": 10,
    "start_time": "2022-02-25T09:39:58.078Z"
   },
   {
    "duration": 6,
    "start_time": "2022-02-25T09:39:58.090Z"
   },
   {
    "duration": 4,
    "start_time": "2022-02-25T09:39:58.098Z"
   },
   {
    "duration": 1444,
    "start_time": "2022-02-25T09:40:16.538Z"
   },
   {
    "duration": 10,
    "start_time": "2022-02-25T09:40:32.444Z"
   },
   {
    "duration": 18,
    "start_time": "2022-02-25T09:40:53.835Z"
   },
   {
    "duration": 122,
    "start_time": "2022-02-25T09:51:00.106Z"
   },
   {
    "duration": 186,
    "start_time": "2022-02-25T09:51:13.872Z"
   },
   {
    "duration": 139,
    "start_time": "2022-02-25T09:51:21.209Z"
   },
   {
    "duration": 2381,
    "start_time": "2022-02-25T09:51:39.802Z"
   },
   {
    "duration": 68,
    "start_time": "2022-02-25T09:56:39.987Z"
   },
   {
    "duration": 70,
    "start_time": "2022-02-25T09:56:53.975Z"
   },
   {
    "duration": 120,
    "start_time": "2022-02-25T09:59:11.451Z"
   },
   {
    "duration": 66,
    "start_time": "2022-02-25T09:59:45.068Z"
   },
   {
    "duration": 67,
    "start_time": "2022-02-25T10:00:44.124Z"
   },
   {
    "duration": 76,
    "start_time": "2022-02-25T10:02:04.629Z"
   },
   {
    "duration": 29,
    "start_time": "2022-02-25T10:02:43.661Z"
   },
   {
    "duration": 635,
    "start_time": "2022-02-25T10:03:01.778Z"
   },
   {
    "duration": 182,
    "start_time": "2022-02-25T10:03:02.415Z"
   },
   {
    "duration": 139,
    "start_time": "2022-02-25T10:03:02.599Z"
   },
   {
    "duration": 94,
    "start_time": "2022-02-25T10:03:02.739Z"
   },
   {
    "duration": 22,
    "start_time": "2022-02-25T10:03:02.835Z"
   },
   {
    "duration": 78,
    "start_time": "2022-02-25T10:03:02.859Z"
   },
   {
    "duration": 6,
    "start_time": "2022-02-25T10:03:02.938Z"
   },
   {
    "duration": 9,
    "start_time": "2022-02-25T10:03:02.945Z"
   },
   {
    "duration": 113,
    "start_time": "2022-02-25T10:03:02.956Z"
   },
   {
    "duration": 57,
    "start_time": "2022-02-25T10:03:03.071Z"
   },
   {
    "duration": 85,
    "start_time": "2022-02-25T10:03:03.129Z"
   },
   {
    "duration": 44,
    "start_time": "2022-02-25T10:03:03.215Z"
   },
   {
    "duration": 15,
    "start_time": "2022-02-25T10:03:03.260Z"
   },
   {
    "duration": 82,
    "start_time": "2022-02-25T10:03:03.276Z"
   },
   {
    "duration": 2,
    "start_time": "2022-02-25T10:03:03.360Z"
   },
   {
    "duration": 58,
    "start_time": "2022-02-25T10:03:36.558Z"
   },
   {
    "duration": 172,
    "start_time": "2022-02-25T11:41:32.777Z"
   },
   {
    "duration": 79,
    "start_time": "2022-02-25T11:41:39.559Z"
   },
   {
    "duration": 80,
    "start_time": "2022-02-25T11:42:11.417Z"
   },
   {
    "duration": 76,
    "start_time": "2022-02-25T11:42:38.305Z"
   },
   {
    "duration": 79,
    "start_time": "2022-02-25T11:42:54.672Z"
   },
   {
    "duration": 703,
    "start_time": "2022-02-25T11:48:42.580Z"
   },
   {
    "duration": 151,
    "start_time": "2022-02-25T11:49:10.811Z"
   },
   {
    "duration": 215,
    "start_time": "2022-02-25T11:50:44.909Z"
   },
   {
    "duration": 113,
    "start_time": "2022-02-25T11:56:17.718Z"
   },
   {
    "duration": 124,
    "start_time": "2022-02-25T11:56:30.493Z"
   },
   {
    "duration": 250,
    "start_time": "2022-02-25T11:56:44.445Z"
   },
   {
    "duration": 239,
    "start_time": "2022-02-25T11:57:11.663Z"
   },
   {
    "duration": 392,
    "start_time": "2022-02-25T13:08:05.992Z"
   },
   {
    "duration": 19,
    "start_time": "2022-02-25T13:09:32.758Z"
   },
   {
    "duration": 637,
    "start_time": "2022-02-25T13:09:45.053Z"
   },
   {
    "duration": 175,
    "start_time": "2022-02-25T13:09:45.692Z"
   },
   {
    "duration": 140,
    "start_time": "2022-02-25T13:09:45.870Z"
   },
   {
    "duration": 95,
    "start_time": "2022-02-25T13:09:46.012Z"
   },
   {
    "duration": 23,
    "start_time": "2022-02-25T13:09:46.109Z"
   },
   {
    "duration": 72,
    "start_time": "2022-02-25T13:09:46.133Z"
   },
   {
    "duration": 5,
    "start_time": "2022-02-25T13:09:46.207Z"
   },
   {
    "duration": 7,
    "start_time": "2022-02-25T13:09:46.215Z"
   },
   {
    "duration": 490,
    "start_time": "2022-02-25T13:09:46.225Z"
   },
   {
    "duration": 107,
    "start_time": "2022-02-25T13:09:46.610Z"
   },
   {
    "duration": 89,
    "start_time": "2022-02-25T13:09:46.629Z"
   },
   {
    "duration": 89,
    "start_time": "2022-02-25T13:09:46.630Z"
   },
   {
    "duration": 89,
    "start_time": "2022-02-25T13:09:46.631Z"
   },
   {
    "duration": 89,
    "start_time": "2022-02-25T13:09:46.632Z"
   },
   {
    "duration": 90,
    "start_time": "2022-02-25T13:09:46.633Z"
   },
   {
    "duration": 90,
    "start_time": "2022-02-25T13:09:46.634Z"
   },
   {
    "duration": 103,
    "start_time": "2022-02-25T13:21:10.370Z"
   },
   {
    "duration": 50,
    "start_time": "2022-02-25T13:21:42.188Z"
   },
   {
    "duration": 60,
    "start_time": "2022-02-25T13:22:16.764Z"
   },
   {
    "duration": 101,
    "start_time": "2022-02-25T13:22:36.701Z"
   },
   {
    "duration": 59,
    "start_time": "2022-02-25T13:22:52.216Z"
   },
   {
    "duration": 70,
    "start_time": "2022-02-25T13:22:57.813Z"
   },
   {
    "duration": 34,
    "start_time": "2022-02-25T13:23:17.643Z"
   },
   {
    "duration": 14,
    "start_time": "2022-02-25T13:23:55.571Z"
   },
   {
    "duration": 18,
    "start_time": "2022-02-25T13:24:13.477Z"
   },
   {
    "duration": 20,
    "start_time": "2022-02-25T13:24:29.133Z"
   },
   {
    "duration": 290,
    "start_time": "2022-02-26T07:08:13.876Z"
   },
   {
    "duration": 901,
    "start_time": "2022-02-26T07:08:37.715Z"
   },
   {
    "duration": 255,
    "start_time": "2022-02-26T07:08:38.619Z"
   },
   {
    "duration": 202,
    "start_time": "2022-02-26T07:08:38.877Z"
   },
   {
    "duration": 138,
    "start_time": "2022-02-26T07:08:39.082Z"
   },
   {
    "duration": 26,
    "start_time": "2022-02-26T07:08:39.222Z"
   },
   {
    "duration": 44,
    "start_time": "2022-02-26T07:08:39.251Z"
   },
   {
    "duration": 10,
    "start_time": "2022-02-26T07:08:39.298Z"
   },
   {
    "duration": 9,
    "start_time": "2022-02-26T07:08:39.311Z"
   },
   {
    "duration": 201,
    "start_time": "2022-02-26T07:08:39.322Z"
   },
   {
    "duration": 106,
    "start_time": "2022-02-26T07:08:39.525Z"
   },
   {
    "duration": 129,
    "start_time": "2022-02-26T07:08:39.634Z"
   },
   {
    "duration": 70,
    "start_time": "2022-02-26T07:08:39.765Z"
   },
   {
    "duration": 23,
    "start_time": "2022-02-26T07:08:39.837Z"
   },
   {
    "duration": 54,
    "start_time": "2022-02-26T07:08:39.862Z"
   },
   {
    "duration": 479,
    "start_time": "2022-02-26T07:08:39.919Z"
   },
   {
    "duration": 345,
    "start_time": "2022-02-26T07:08:40.401Z"
   },
   {
    "duration": 169,
    "start_time": "2022-02-26T07:08:40.579Z"
   },
   {
    "duration": 17,
    "start_time": "2022-02-26T07:13:17.080Z"
   },
   {
    "duration": 46,
    "start_time": "2022-02-26T07:13:30.187Z"
   },
   {
    "duration": 17,
    "start_time": "2022-02-26T07:16:19.886Z"
   },
   {
    "duration": 39,
    "start_time": "2022-02-26T07:16:26.955Z"
   },
   {
    "duration": 33,
    "start_time": "2022-02-26T07:16:33.599Z"
   },
   {
    "duration": 31,
    "start_time": "2022-02-26T07:16:35.880Z"
   },
   {
    "duration": 62,
    "start_time": "2022-02-26T07:16:45.964Z"
   },
   {
    "duration": 24,
    "start_time": "2022-02-26T07:16:50.407Z"
   },
   {
    "duration": 6,
    "start_time": "2022-02-26T07:17:20.363Z"
   },
   {
    "duration": 18,
    "start_time": "2022-02-26T07:17:22.063Z"
   },
   {
    "duration": 4,
    "start_time": "2022-02-26T07:17:47.939Z"
   },
   {
    "duration": 21,
    "start_time": "2022-02-26T07:17:49.467Z"
   },
   {
    "duration": 59,
    "start_time": "2022-02-26T07:17:56.214Z"
   },
   {
    "duration": 5,
    "start_time": "2022-02-26T07:18:06.717Z"
   },
   {
    "duration": 18,
    "start_time": "2022-02-26T07:18:07.938Z"
   },
   {
    "duration": 5,
    "start_time": "2022-02-26T07:18:12.658Z"
   },
   {
    "duration": 21,
    "start_time": "2022-02-26T07:18:14.080Z"
   },
   {
    "duration": 33,
    "start_time": "2022-02-26T07:22:06.454Z"
   },
   {
    "duration": 4,
    "start_time": "2022-02-26T08:40:25.790Z"
   },
   {
    "duration": 339,
    "start_time": "2022-02-26T08:40:25.797Z"
   },
   {
    "duration": 296,
    "start_time": "2022-02-26T08:40:26.140Z"
   },
   {
    "duration": 157,
    "start_time": "2022-02-26T08:40:26.439Z"
   },
   {
    "duration": 26,
    "start_time": "2022-02-26T08:40:26.599Z"
   },
   {
    "duration": 30,
    "start_time": "2022-02-26T08:40:26.628Z"
   },
   {
    "duration": 9,
    "start_time": "2022-02-26T08:40:26.661Z"
   },
   {
    "duration": 31,
    "start_time": "2022-02-26T08:40:26.673Z"
   },
   {
    "duration": 176,
    "start_time": "2022-02-26T08:40:26.707Z"
   },
   {
    "duration": 123,
    "start_time": "2022-02-26T08:40:26.886Z"
   },
   {
    "duration": 123,
    "start_time": "2022-02-26T08:40:27.012Z"
   },
   {
    "duration": 80,
    "start_time": "2022-02-26T08:40:27.138Z"
   },
   {
    "duration": 6,
    "start_time": "2022-02-26T08:42:05.011Z"
   },
   {
    "duration": 19,
    "start_time": "2022-02-26T08:42:08.754Z"
   },
   {
    "duration": 19,
    "start_time": "2022-02-26T08:42:26.610Z"
   },
   {
    "duration": 3,
    "start_time": "2022-02-26T08:43:35.836Z"
   },
   {
    "duration": 19,
    "start_time": "2022-02-26T08:43:39.411Z"
   },
   {
    "duration": 829,
    "start_time": "2022-02-26T08:43:46.336Z"
   },
   {
    "duration": 258,
    "start_time": "2022-02-26T08:43:47.169Z"
   },
   {
    "duration": 214,
    "start_time": "2022-02-26T08:43:47.432Z"
   },
   {
    "duration": 155,
    "start_time": "2022-02-26T08:43:47.650Z"
   },
   {
    "duration": 27,
    "start_time": "2022-02-26T08:43:47.808Z"
   },
   {
    "duration": 45,
    "start_time": "2022-02-26T08:43:47.837Z"
   },
   {
    "duration": 16,
    "start_time": "2022-02-26T08:43:47.885Z"
   },
   {
    "duration": 15,
    "start_time": "2022-02-26T08:43:47.903Z"
   },
   {
    "duration": 190,
    "start_time": "2022-02-26T08:43:47.922Z"
   },
   {
    "duration": 107,
    "start_time": "2022-02-26T08:43:48.115Z"
   },
   {
    "duration": 121,
    "start_time": "2022-02-26T08:43:48.225Z"
   },
   {
    "duration": 66,
    "start_time": "2022-02-26T08:43:48.348Z"
   },
   {
    "duration": 3,
    "start_time": "2022-02-26T08:43:48.417Z"
   },
   {
    "duration": 28,
    "start_time": "2022-02-26T08:43:48.422Z"
   },
   {
    "duration": 54,
    "start_time": "2022-02-26T08:43:48.453Z"
   },
   {
    "duration": 586,
    "start_time": "2022-02-26T08:43:48.509Z"
   },
   {
    "duration": 356,
    "start_time": "2022-02-26T08:43:49.098Z"
   },
   {
    "duration": 225,
    "start_time": "2022-02-26T08:43:49.232Z"
   },
   {
    "duration": 20,
    "start_time": "2022-02-26T08:44:38.799Z"
   },
   {
    "duration": 31,
    "start_time": "2022-02-26T08:44:53.192Z"
   },
   {
    "duration": 253,
    "start_time": "2022-02-26T08:45:13.608Z"
   },
   {
    "duration": 917,
    "start_time": "2022-02-26T08:45:29.870Z"
   },
   {
    "duration": 256,
    "start_time": "2022-02-26T08:45:30.790Z"
   },
   {
    "duration": 210,
    "start_time": "2022-02-26T08:45:31.049Z"
   },
   {
    "duration": 144,
    "start_time": "2022-02-26T08:45:31.262Z"
   },
   {
    "duration": 26,
    "start_time": "2022-02-26T08:45:31.408Z"
   },
   {
    "duration": 29,
    "start_time": "2022-02-26T08:45:31.437Z"
   },
   {
    "duration": 31,
    "start_time": "2022-02-26T08:45:31.468Z"
   },
   {
    "duration": 14,
    "start_time": "2022-02-26T08:45:31.503Z"
   },
   {
    "duration": 195,
    "start_time": "2022-02-26T08:45:31.521Z"
   },
   {
    "duration": 116,
    "start_time": "2022-02-26T08:45:31.718Z"
   },
   {
    "duration": 134,
    "start_time": "2022-02-26T08:45:31.837Z"
   },
   {
    "duration": 72,
    "start_time": "2022-02-26T08:45:31.973Z"
   },
   {
    "duration": 5,
    "start_time": "2022-02-26T08:45:32.047Z"
   },
   {
    "duration": 40,
    "start_time": "2022-02-26T08:45:32.054Z"
   },
   {
    "duration": 36,
    "start_time": "2022-02-26T08:45:32.096Z"
   },
   {
    "duration": 494,
    "start_time": "2022-02-26T08:45:32.135Z"
   },
   {
    "duration": 46,
    "start_time": "2022-02-26T08:45:32.632Z"
   },
   {
    "duration": 4,
    "start_time": "2022-02-26T08:45:32.693Z"
   },
   {
    "duration": 638,
    "start_time": "2022-02-26T08:48:33.805Z"
   },
   {
    "duration": 947,
    "start_time": "2022-02-26T08:48:42.551Z"
   },
   {
    "duration": 272,
    "start_time": "2022-02-26T08:48:43.501Z"
   },
   {
    "duration": 284,
    "start_time": "2022-02-26T08:48:43.793Z"
   },
   {
    "duration": 146,
    "start_time": "2022-02-26T08:48:44.080Z"
   },
   {
    "duration": 25,
    "start_time": "2022-02-26T08:48:44.228Z"
   },
   {
    "duration": 30,
    "start_time": "2022-02-26T08:48:44.256Z"
   },
   {
    "duration": 9,
    "start_time": "2022-02-26T08:48:44.288Z"
   },
   {
    "duration": 10,
    "start_time": "2022-02-26T08:48:44.300Z"
   },
   {
    "duration": 185,
    "start_time": "2022-02-26T08:48:44.313Z"
   },
   {
    "duration": 101,
    "start_time": "2022-02-26T08:48:44.501Z"
   },
   {
    "duration": 121,
    "start_time": "2022-02-26T08:48:44.605Z"
   },
   {
    "duration": 82,
    "start_time": "2022-02-26T08:48:44.729Z"
   },
   {
    "duration": 379,
    "start_time": "2022-02-26T08:48:44.814Z"
   },
   {
    "duration": 227,
    "start_time": "2022-02-26T08:48:44.969Z"
   },
   {
    "duration": 224,
    "start_time": "2022-02-26T08:48:44.973Z"
   },
   {
    "duration": 223,
    "start_time": "2022-02-26T08:48:44.975Z"
   },
   {
    "duration": 223,
    "start_time": "2022-02-26T08:48:44.977Z"
   },
   {
    "duration": 218,
    "start_time": "2022-02-26T08:48:44.983Z"
   },
   {
    "duration": 251,
    "start_time": "2022-02-26T08:49:12.455Z"
   },
   {
    "duration": 3,
    "start_time": "2022-02-26T08:49:19.151Z"
   },
   {
    "duration": 951,
    "start_time": "2022-02-26T08:49:25.509Z"
   },
   {
    "duration": 252,
    "start_time": "2022-02-26T08:49:26.463Z"
   },
   {
    "duration": 209,
    "start_time": "2022-02-26T08:49:26.718Z"
   },
   {
    "duration": 151,
    "start_time": "2022-02-26T08:49:26.930Z"
   },
   {
    "duration": 38,
    "start_time": "2022-02-26T08:49:27.084Z"
   },
   {
    "duration": 33,
    "start_time": "2022-02-26T08:49:27.125Z"
   },
   {
    "duration": 9,
    "start_time": "2022-02-26T08:49:27.161Z"
   },
   {
    "duration": 11,
    "start_time": "2022-02-26T08:49:27.192Z"
   },
   {
    "duration": 210,
    "start_time": "2022-02-26T08:49:27.207Z"
   },
   {
    "duration": 123,
    "start_time": "2022-02-26T08:49:27.420Z"
   },
   {
    "duration": 147,
    "start_time": "2022-02-26T08:49:27.546Z"
   },
   {
    "duration": 61,
    "start_time": "2022-02-26T08:49:27.695Z"
   },
   {
    "duration": 5,
    "start_time": "2022-02-26T08:49:27.758Z"
   },
   {
    "duration": 28,
    "start_time": "2022-02-26T08:49:27.765Z"
   },
   {
    "duration": 348,
    "start_time": "2022-02-26T08:49:27.796Z"
   },
   {
    "duration": 124,
    "start_time": "2022-02-26T08:49:28.022Z"
   },
   {
    "duration": 121,
    "start_time": "2022-02-26T08:49:28.027Z"
   },
   {
    "duration": 118,
    "start_time": "2022-02-26T08:49:28.031Z"
   },
   {
    "duration": 3,
    "start_time": "2022-02-26T08:49:39.878Z"
   },
   {
    "duration": 280,
    "start_time": "2022-02-26T08:49:43.117Z"
   },
   {
    "duration": 244,
    "start_time": "2022-02-26T08:49:51.598Z"
   },
   {
    "duration": 868,
    "start_time": "2022-02-26T08:49:57.679Z"
   },
   {
    "duration": 248,
    "start_time": "2022-02-26T08:49:58.550Z"
   },
   {
    "duration": 202,
    "start_time": "2022-02-26T08:49:58.801Z"
   },
   {
    "duration": 130,
    "start_time": "2022-02-26T08:49:59.006Z"
   },
   {
    "duration": 26,
    "start_time": "2022-02-26T08:49:59.138Z"
   },
   {
    "duration": 40,
    "start_time": "2022-02-26T08:49:59.167Z"
   },
   {
    "duration": 8,
    "start_time": "2022-02-26T08:49:59.210Z"
   },
   {
    "duration": 11,
    "start_time": "2022-02-26T08:49:59.222Z"
   },
   {
    "duration": 200,
    "start_time": "2022-02-26T08:49:59.236Z"
   },
   {
    "duration": 105,
    "start_time": "2022-02-26T08:49:59.438Z"
   },
   {
    "duration": 129,
    "start_time": "2022-02-26T08:49:59.545Z"
   },
   {
    "duration": 72,
    "start_time": "2022-02-26T08:49:59.677Z"
   },
   {
    "duration": 5,
    "start_time": "2022-02-26T08:49:59.751Z"
   },
   {
    "duration": 37,
    "start_time": "2022-02-26T08:49:59.758Z"
   },
   {
    "duration": 36,
    "start_time": "2022-02-26T08:49:59.798Z"
   },
   {
    "duration": 614,
    "start_time": "2022-02-26T08:49:59.836Z"
   },
   {
    "duration": 71,
    "start_time": "2022-02-26T08:50:00.453Z"
   },
   {
    "duration": 3,
    "start_time": "2022-02-26T08:50:00.527Z"
   },
   {
    "duration": 441,
    "start_time": "2022-02-26T08:50:20.872Z"
   },
   {
    "duration": 838,
    "start_time": "2022-02-26T08:50:37.606Z"
   },
   {
    "duration": 255,
    "start_time": "2022-02-26T08:50:38.447Z"
   },
   {
    "duration": 210,
    "start_time": "2022-02-26T08:50:38.706Z"
   },
   {
    "duration": 135,
    "start_time": "2022-02-26T08:50:38.919Z"
   },
   {
    "duration": 38,
    "start_time": "2022-02-26T08:50:39.057Z"
   },
   {
    "duration": 30,
    "start_time": "2022-02-26T08:50:39.097Z"
   },
   {
    "duration": 11,
    "start_time": "2022-02-26T08:50:39.130Z"
   },
   {
    "duration": 10,
    "start_time": "2022-02-26T08:50:39.145Z"
   },
   {
    "duration": 202,
    "start_time": "2022-02-26T08:50:39.157Z"
   },
   {
    "duration": 104,
    "start_time": "2022-02-26T08:50:39.362Z"
   },
   {
    "duration": 136,
    "start_time": "2022-02-26T08:50:39.469Z"
   },
   {
    "duration": 61,
    "start_time": "2022-02-26T08:50:39.608Z"
   },
   {
    "duration": 27,
    "start_time": "2022-02-26T08:50:39.672Z"
   },
   {
    "duration": 28,
    "start_time": "2022-02-26T08:50:39.701Z"
   },
   {
    "duration": 37,
    "start_time": "2022-02-26T08:50:39.732Z"
   },
   {
    "duration": 518,
    "start_time": "2022-02-26T08:50:39.771Z"
   },
   {
    "duration": 51,
    "start_time": "2022-02-26T08:50:40.294Z"
   },
   {
    "duration": 4,
    "start_time": "2022-02-26T08:50:40.348Z"
   },
   {
    "duration": 323,
    "start_time": "2022-02-26T08:50:56.424Z"
   },
   {
    "duration": 837,
    "start_time": "2022-02-26T08:51:06.335Z"
   },
   {
    "duration": 273,
    "start_time": "2022-02-26T08:51:07.175Z"
   },
   {
    "duration": 230,
    "start_time": "2022-02-26T08:51:07.452Z"
   },
   {
    "duration": 152,
    "start_time": "2022-02-26T08:51:07.685Z"
   },
   {
    "duration": 26,
    "start_time": "2022-02-26T08:51:07.840Z"
   },
   {
    "duration": 38,
    "start_time": "2022-02-26T08:51:07.869Z"
   },
   {
    "duration": 9,
    "start_time": "2022-02-26T08:51:07.909Z"
   },
   {
    "duration": 13,
    "start_time": "2022-02-26T08:51:07.920Z"
   },
   {
    "duration": 196,
    "start_time": "2022-02-26T08:51:07.937Z"
   },
   {
    "duration": 106,
    "start_time": "2022-02-26T08:51:08.136Z"
   },
   {
    "duration": 129,
    "start_time": "2022-02-26T08:51:08.245Z"
   },
   {
    "duration": 76,
    "start_time": "2022-02-26T08:51:08.376Z"
   },
   {
    "duration": 40,
    "start_time": "2022-02-26T08:51:08.455Z"
   },
   {
    "duration": 37,
    "start_time": "2022-02-26T08:51:08.498Z"
   },
   {
    "duration": 540,
    "start_time": "2022-02-26T08:51:08.538Z"
   },
   {
    "duration": 57,
    "start_time": "2022-02-26T08:51:09.080Z"
   },
   {
    "duration": 3,
    "start_time": "2022-02-26T08:51:09.139Z"
   },
   {
    "duration": 62,
    "start_time": "2022-02-26T08:52:36.833Z"
   },
   {
    "duration": 25,
    "start_time": "2022-02-26T08:52:42.019Z"
   },
   {
    "duration": 7816,
    "start_time": "2022-02-26T08:55:09.869Z"
   },
   {
    "duration": 625,
    "start_time": "2022-02-26T12:15:27.091Z"
   },
   {
    "duration": 728,
    "start_time": "2022-02-26T12:15:27.718Z"
   },
   {
    "duration": 740,
    "start_time": "2022-02-26T12:15:28.448Z"
   },
   {
    "duration": 386,
    "start_time": "2022-02-26T12:15:29.190Z"
   },
   {
    "duration": 53,
    "start_time": "2022-02-26T12:15:29.577Z"
   },
   {
    "duration": 48,
    "start_time": "2022-02-26T12:15:29.631Z"
   },
   {
    "duration": 5,
    "start_time": "2022-02-26T12:15:29.680Z"
   },
   {
    "duration": 7,
    "start_time": "2022-02-26T12:15:29.687Z"
   },
   {
    "duration": 123,
    "start_time": "2022-02-26T12:15:29.697Z"
   },
   {
    "duration": 58,
    "start_time": "2022-02-26T12:15:29.822Z"
   },
   {
    "duration": 86,
    "start_time": "2022-02-26T12:15:29.881Z"
   },
   {
    "duration": 32,
    "start_time": "2022-02-26T12:15:29.936Z"
   },
   {
    "duration": 31,
    "start_time": "2022-02-26T12:15:29.938Z"
   },
   {
    "duration": 30,
    "start_time": "2022-02-26T12:15:29.940Z"
   },
   {
    "duration": 29,
    "start_time": "2022-02-26T12:15:29.942Z"
   },
   {
    "duration": 27,
    "start_time": "2022-02-26T12:15:29.945Z"
   },
   {
    "duration": 24,
    "start_time": "2022-02-26T12:15:29.948Z"
   },
   {
    "duration": 68,
    "start_time": "2022-02-26T12:16:04.016Z"
   },
   {
    "duration": 347,
    "start_time": "2022-02-26T12:16:12.618Z"
   },
   {
    "duration": 585,
    "start_time": "2022-02-26T12:16:20.438Z"
   },
   {
    "duration": 153,
    "start_time": "2022-02-26T12:16:21.025Z"
   },
   {
    "duration": 126,
    "start_time": "2022-02-26T12:16:21.180Z"
   },
   {
    "duration": 89,
    "start_time": "2022-02-26T12:16:21.308Z"
   },
   {
    "duration": 28,
    "start_time": "2022-02-26T12:16:21.399Z"
   },
   {
    "duration": 32,
    "start_time": "2022-02-26T12:16:21.428Z"
   },
   {
    "duration": 5,
    "start_time": "2022-02-26T12:16:21.461Z"
   },
   {
    "duration": 6,
    "start_time": "2022-02-26T12:16:21.468Z"
   },
   {
    "duration": 97,
    "start_time": "2022-02-26T12:16:21.476Z"
   },
   {
    "duration": 56,
    "start_time": "2022-02-26T12:16:21.575Z"
   },
   {
    "duration": 76,
    "start_time": "2022-02-26T12:16:21.633Z"
   },
   {
    "duration": 1223,
    "start_time": "2022-02-26T12:16:21.710Z"
   },
   {
    "duration": -191,
    "start_time": "2022-02-26T12:16:23.126Z"
   },
   {
    "duration": -194,
    "start_time": "2022-02-26T12:16:23.130Z"
   },
   {
    "duration": -195,
    "start_time": "2022-02-26T12:16:23.132Z"
   },
   {
    "duration": -198,
    "start_time": "2022-02-26T12:16:23.135Z"
   },
   {
    "duration": -200,
    "start_time": "2022-02-26T12:16:23.138Z"
   },
   {
    "duration": 32,
    "start_time": "2022-02-26T12:19:51.530Z"
   },
   {
    "duration": 12,
    "start_time": "2022-02-26T12:19:55.777Z"
   },
   {
    "duration": 25,
    "start_time": "2022-02-26T12:25:00.092Z"
   },
   {
    "duration": 17,
    "start_time": "2022-02-26T12:25:35.651Z"
   },
   {
    "duration": 8056,
    "start_time": "2022-02-26T12:25:51.739Z"
   },
   {
    "duration": 573,
    "start_time": "2022-02-26T12:26:08.645Z"
   },
   {
    "duration": 161,
    "start_time": "2022-02-26T12:26:09.219Z"
   },
   {
    "duration": 127,
    "start_time": "2022-02-26T12:26:09.382Z"
   },
   {
    "duration": 89,
    "start_time": "2022-02-26T12:26:09.511Z"
   },
   {
    "duration": 22,
    "start_time": "2022-02-26T12:26:09.601Z"
   },
   {
    "duration": 37,
    "start_time": "2022-02-26T12:26:09.624Z"
   },
   {
    "duration": 19,
    "start_time": "2022-02-26T12:26:09.662Z"
   },
   {
    "duration": 7,
    "start_time": "2022-02-26T12:26:09.683Z"
   },
   {
    "duration": 101,
    "start_time": "2022-02-26T12:26:09.692Z"
   },
   {
    "duration": 59,
    "start_time": "2022-02-26T12:26:09.795Z"
   },
   {
    "duration": 73,
    "start_time": "2022-02-26T12:26:09.855Z"
   },
   {
    "duration": 28,
    "start_time": "2022-02-26T12:26:09.930Z"
   },
   {
    "duration": 10,
    "start_time": "2022-02-26T12:26:09.960Z"
   },
   {
    "duration": 34,
    "start_time": "2022-02-26T12:26:09.971Z"
   },
   {
    "duration": 245,
    "start_time": "2022-02-26T12:26:10.007Z"
   },
   {
    "duration": 24,
    "start_time": "2022-02-26T12:26:10.253Z"
   },
   {
    "duration": 1,
    "start_time": "2022-02-26T12:26:10.279Z"
   },
   {
    "duration": 33,
    "start_time": "2022-02-26T13:02:32.159Z"
   },
   {
    "duration": 11,
    "start_time": "2022-02-26T13:06:06.528Z"
   },
   {
    "duration": 11,
    "start_time": "2022-02-26T13:07:45.201Z"
   },
   {
    "duration": 33,
    "start_time": "2022-02-26T13:10:42.630Z"
   },
   {
    "duration": 4,
    "start_time": "2022-02-26T13:15:00.212Z"
   },
   {
    "duration": 4,
    "start_time": "2022-02-26T13:15:18.972Z"
   },
   {
    "duration": 3,
    "start_time": "2022-02-26T13:15:57.677Z"
   },
   {
    "duration": 3,
    "start_time": "2022-02-26T13:16:16.294Z"
   },
   {
    "duration": 4,
    "start_time": "2022-02-26T13:16:31.255Z"
   },
   {
    "duration": 4,
    "start_time": "2022-02-26T13:16:59.357Z"
   },
   {
    "duration": 8,
    "start_time": "2022-02-26T13:18:16.353Z"
   },
   {
    "duration": 4,
    "start_time": "2022-02-26T13:18:32.736Z"
   },
   {
    "duration": 6,
    "start_time": "2022-02-26T13:20:27.150Z"
   },
   {
    "duration": 482,
    "start_time": "2022-02-26T13:20:49.040Z"
   },
   {
    "duration": 9,
    "start_time": "2022-02-26T13:20:55.937Z"
   },
   {
    "duration": 60,
    "start_time": "2022-02-26T13:31:38.569Z"
   },
   {
    "duration": 277,
    "start_time": "2022-02-26T13:32:17.302Z"
   },
   {
    "duration": 16,
    "start_time": "2022-02-26T13:32:28.327Z"
   },
   {
    "duration": 15,
    "start_time": "2022-02-26T13:32:44.499Z"
   },
   {
    "duration": 13,
    "start_time": "2022-02-26T13:33:14.026Z"
   },
   {
    "duration": 25,
    "start_time": "2022-02-26T13:44:05.565Z"
   },
   {
    "duration": 371,
    "start_time": "2022-02-26T13:45:37.949Z"
   },
   {
    "duration": 78,
    "start_time": "2022-02-26T13:46:31.926Z"
   },
   {
    "duration": 83,
    "start_time": "2022-02-26T13:46:39.612Z"
   },
   {
    "duration": 31,
    "start_time": "2022-02-26T13:52:25.631Z"
   },
   {
    "duration": 80,
    "start_time": "2022-02-26T13:53:43.769Z"
   },
   {
    "duration": 300,
    "start_time": "2022-02-26T13:54:04.937Z"
   },
   {
    "duration": 5,
    "start_time": "2022-02-26T13:54:18.457Z"
   },
   {
    "duration": 96,
    "start_time": "2022-02-26T13:54:42.649Z"
   },
   {
    "duration": 8,
    "start_time": "2022-02-26T13:54:48.971Z"
   },
   {
    "duration": 4,
    "start_time": "2022-02-26T13:55:35.780Z"
   },
   {
    "duration": 4,
    "start_time": "2022-02-26T13:56:07.179Z"
   },
   {
    "duration": 4,
    "start_time": "2022-02-26T14:04:31.839Z"
   },
   {
    "duration": 3,
    "start_time": "2022-02-26T14:05:32.793Z"
   },
   {
    "duration": 9,
    "start_time": "2022-02-26T14:05:37.383Z"
   },
   {
    "duration": 4,
    "start_time": "2022-02-26T14:06:31.352Z"
   },
   {
    "duration": 25,
    "start_time": "2022-02-26T14:07:32.120Z"
   },
   {
    "duration": 442,
    "start_time": "2022-02-26T14:10:09.197Z"
   },
   {
    "duration": 81,
    "start_time": "2022-02-26T14:11:34.252Z"
   },
   {
    "duration": 86,
    "start_time": "2022-02-26T14:12:09.827Z"
   },
   {
    "duration": 86,
    "start_time": "2022-02-26T14:12:18.147Z"
   },
   {
    "duration": 91,
    "start_time": "2022-02-26T14:16:08.566Z"
   },
   {
    "duration": 81,
    "start_time": "2022-02-26T14:16:24.358Z"
   },
   {
    "duration": 89,
    "start_time": "2022-02-26T14:16:35.653Z"
   },
   {
    "duration": 79,
    "start_time": "2022-02-26T14:17:29.382Z"
   },
   {
    "duration": 96,
    "start_time": "2022-02-26T14:21:14.999Z"
   },
   {
    "duration": 98,
    "start_time": "2022-02-26T14:21:31.232Z"
   },
   {
    "duration": 5,
    "start_time": "2022-02-26T14:23:23.937Z"
   },
   {
    "duration": 20,
    "start_time": "2022-02-26T14:23:38.000Z"
   },
   {
    "duration": 20,
    "start_time": "2022-02-26T14:24:09.345Z"
   },
   {
    "duration": 268,
    "start_time": "2022-02-26T14:27:28.812Z"
   },
   {
    "duration": 8,
    "start_time": "2022-02-26T14:27:44.676Z"
   },
   {
    "duration": 8,
    "start_time": "2022-02-26T14:29:12.204Z"
   },
   {
    "duration": 9,
    "start_time": "2022-02-26T14:33:52.718Z"
   },
   {
    "duration": 9,
    "start_time": "2022-02-26T14:35:39.008Z"
   },
   {
    "duration": 92,
    "start_time": "2022-02-26T14:36:34.471Z"
   },
   {
    "duration": 92,
    "start_time": "2022-02-26T14:36:55.367Z"
   },
   {
    "duration": 12,
    "start_time": "2022-02-26T14:37:09.744Z"
   },
   {
    "duration": 11,
    "start_time": "2022-02-26T14:38:25.200Z"
   },
   {
    "duration": 14,
    "start_time": "2022-02-26T14:41:09.451Z"
   },
   {
    "duration": 11,
    "start_time": "2022-02-26T14:42:45.643Z"
   },
   {
    "duration": 9,
    "start_time": "2022-02-26T14:43:41.716Z"
   },
   {
    "duration": 12,
    "start_time": "2022-02-26T14:46:17.724Z"
   },
   {
    "duration": 9,
    "start_time": "2022-02-26T14:46:35.060Z"
   },
   {
    "duration": 10,
    "start_time": "2022-02-26T14:46:59.045Z"
   },
   {
    "duration": 211,
    "start_time": "2022-02-26T15:00:27.047Z"
   },
   {
    "duration": 160,
    "start_time": "2022-02-26T15:00:43.835Z"
   },
   {
    "duration": 154,
    "start_time": "2022-02-26T15:00:51.907Z"
   },
   {
    "duration": 207,
    "start_time": "2022-02-26T15:02:02.747Z"
   },
   {
    "duration": 164,
    "start_time": "2022-02-26T15:02:16.892Z"
   },
   {
    "duration": 47,
    "start_time": "2022-02-26T15:03:05.565Z"
   },
   {
    "duration": 149,
    "start_time": "2022-02-26T15:03:25.612Z"
   },
   {
    "duration": 171,
    "start_time": "2022-02-26T15:03:37.516Z"
   },
   {
    "duration": 172,
    "start_time": "2022-02-26T15:04:55.684Z"
   },
   {
    "duration": 164,
    "start_time": "2022-02-26T15:05:11.989Z"
   },
   {
    "duration": 170,
    "start_time": "2022-02-26T15:05:26.821Z"
   },
   {
    "duration": 319,
    "start_time": "2022-02-26T15:09:38.613Z"
   },
   {
    "duration": 541,
    "start_time": "2022-02-26T15:11:52.426Z"
   },
   {
    "duration": 98,
    "start_time": "2022-02-26T15:12:40.018Z"
   },
   {
    "duration": 138,
    "start_time": "2022-02-26T15:12:49.171Z"
   },
   {
    "duration": 490,
    "start_time": "2022-02-26T15:13:04.665Z"
   },
   {
    "duration": 203,
    "start_time": "2022-02-26T15:13:13.540Z"
   },
   {
    "duration": 494,
    "start_time": "2022-02-26T15:13:33.154Z"
   },
   {
    "duration": 751,
    "start_time": "2022-02-26T15:14:40.938Z"
   },
   {
    "duration": 34,
    "start_time": "2022-02-26T15:15:04.996Z"
   },
   {
    "duration": 557,
    "start_time": "2022-02-26T15:15:33.979Z"
   },
   {
    "duration": 528,
    "start_time": "2022-02-26T15:15:54.666Z"
   },
   {
    "duration": 501,
    "start_time": "2022-02-26T15:17:16.614Z"
   },
   {
    "duration": 327,
    "start_time": "2022-02-26T15:18:36.460Z"
   },
   {
    "duration": 406,
    "start_time": "2022-02-26T15:19:04.316Z"
   },
   {
    "duration": 341,
    "start_time": "2022-02-26T15:19:13.541Z"
   },
   {
    "duration": 339,
    "start_time": "2022-02-26T15:19:44.133Z"
   },
   {
    "duration": 645,
    "start_time": "2022-02-26T15:19:51.607Z"
   },
   {
    "duration": 147,
    "start_time": "2022-02-26T15:19:52.253Z"
   },
   {
    "duration": 120,
    "start_time": "2022-02-26T15:19:52.404Z"
   },
   {
    "duration": 87,
    "start_time": "2022-02-26T15:19:52.525Z"
   },
   {
    "duration": 22,
    "start_time": "2022-02-26T15:19:52.614Z"
   },
   {
    "duration": 33,
    "start_time": "2022-02-26T15:19:52.637Z"
   },
   {
    "duration": 8,
    "start_time": "2022-02-26T15:19:52.671Z"
   },
   {
    "duration": 5,
    "start_time": "2022-02-26T15:19:52.682Z"
   },
   {
    "duration": 99,
    "start_time": "2022-02-26T15:19:52.689Z"
   },
   {
    "duration": 60,
    "start_time": "2022-02-26T15:19:52.789Z"
   },
   {
    "duration": 78,
    "start_time": "2022-02-26T15:19:52.850Z"
   },
   {
    "duration": 29,
    "start_time": "2022-02-26T15:19:52.930Z"
   },
   {
    "duration": 11,
    "start_time": "2022-02-26T15:19:52.960Z"
   },
   {
    "duration": 33,
    "start_time": "2022-02-26T15:19:52.972Z"
   },
   {
    "duration": 247,
    "start_time": "2022-02-26T15:19:53.006Z"
   },
   {
    "duration": 24,
    "start_time": "2022-02-26T15:19:53.255Z"
   },
   {
    "duration": 8,
    "start_time": "2022-02-26T15:19:53.280Z"
   },
   {
    "duration": 42,
    "start_time": "2022-02-26T15:19:53.290Z"
   },
   {
    "duration": 11,
    "start_time": "2022-02-26T15:19:53.334Z"
   },
   {
    "duration": 8,
    "start_time": "2022-02-26T15:19:53.347Z"
   },
   {
    "duration": 10,
    "start_time": "2022-02-26T15:19:53.356Z"
   },
   {
    "duration": 61,
    "start_time": "2022-02-26T15:19:53.367Z"
   },
   {
    "duration": 30,
    "start_time": "2022-02-26T15:19:53.430Z"
   },
   {
    "duration": 366,
    "start_time": "2022-02-26T15:19:53.461Z"
   },
   {
    "duration": 383,
    "start_time": "2022-02-26T15:19:53.829Z"
   },
   {
    "duration": 343,
    "start_time": "2022-02-26T15:19:54.215Z"
   },
   {
    "duration": 344,
    "start_time": "2022-02-26T15:26:41.422Z"
   },
   {
    "duration": 332,
    "start_time": "2022-02-26T15:27:00.446Z"
   },
   {
    "duration": 316,
    "start_time": "2022-02-26T15:27:15.650Z"
   },
   {
    "duration": 338,
    "start_time": "2022-02-26T15:27:27.338Z"
   },
   {
    "duration": 236,
    "start_time": "2022-02-26T15:27:42.567Z"
   },
   {
    "duration": 329,
    "start_time": "2022-02-26T15:28:32.719Z"
   },
   {
    "duration": 31,
    "start_time": "2022-02-26T15:30:25.528Z"
   },
   {
    "duration": 31,
    "start_time": "2022-02-26T21:37:02.472Z"
   },
   {
    "duration": 458,
    "start_time": "2022-02-26T21:43:23.186Z"
   },
   {
    "duration": 441,
    "start_time": "2022-02-26T21:43:38.983Z"
   },
   {
    "duration": 352,
    "start_time": "2022-02-26T22:10:11.749Z"
   },
   {
    "duration": 21,
    "start_time": "2022-02-26T22:11:16.621Z"
   },
   {
    "duration": 632,
    "start_time": "2022-02-26T22:11:27.785Z"
   },
   {
    "duration": 150,
    "start_time": "2022-02-26T22:11:28.418Z"
   },
   {
    "duration": 120,
    "start_time": "2022-02-26T22:11:28.570Z"
   },
   {
    "duration": 83,
    "start_time": "2022-02-26T22:11:28.692Z"
   },
   {
    "duration": 21,
    "start_time": "2022-02-26T22:11:28.776Z"
   },
   {
    "duration": 31,
    "start_time": "2022-02-26T22:11:28.799Z"
   },
   {
    "duration": 5,
    "start_time": "2022-02-26T22:11:28.831Z"
   },
   {
    "duration": 7,
    "start_time": "2022-02-26T22:11:28.838Z"
   },
   {
    "duration": 98,
    "start_time": "2022-02-26T22:11:28.846Z"
   },
   {
    "duration": 60,
    "start_time": "2022-02-26T22:11:28.945Z"
   },
   {
    "duration": 65,
    "start_time": "2022-02-26T22:11:29.007Z"
   },
   {
    "duration": 42,
    "start_time": "2022-02-26T22:11:29.074Z"
   },
   {
    "duration": 13,
    "start_time": "2022-02-26T22:11:29.117Z"
   },
   {
    "duration": 15,
    "start_time": "2022-02-26T22:11:29.131Z"
   },
   {
    "duration": 263,
    "start_time": "2022-02-26T22:11:29.147Z"
   },
   {
    "duration": 24,
    "start_time": "2022-02-26T22:11:29.412Z"
   },
   {
    "duration": 9,
    "start_time": "2022-02-26T22:11:29.438Z"
   },
   {
    "duration": 31,
    "start_time": "2022-02-26T22:11:29.448Z"
   },
   {
    "duration": 34,
    "start_time": "2022-02-26T22:11:29.481Z"
   },
   {
    "duration": 9,
    "start_time": "2022-02-26T22:11:29.516Z"
   },
   {
    "duration": 9,
    "start_time": "2022-02-26T22:11:29.526Z"
   },
   {
    "duration": 24,
    "start_time": "2022-02-26T22:11:29.536Z"
   },
   {
    "duration": 71,
    "start_time": "2022-02-26T22:11:29.562Z"
   },
   {
    "duration": 31,
    "start_time": "2022-02-26T22:11:29.634Z"
   },
   {
    "duration": 356,
    "start_time": "2022-02-26T22:11:29.666Z"
   },
   {
    "duration": 391,
    "start_time": "2022-02-26T22:11:30.024Z"
   },
   {
    "duration": 351,
    "start_time": "2022-02-26T22:11:30.417Z"
   },
   {
    "duration": 36,
    "start_time": "2022-02-26T22:13:16.374Z"
   },
   {
    "duration": 30,
    "start_time": "2022-02-26T22:13:52.767Z"
   },
   {
    "duration": 20,
    "start_time": "2022-02-26T22:15:28.488Z"
   },
   {
    "duration": 19,
    "start_time": "2022-02-26T22:16:22.560Z"
   },
   {
    "duration": 20,
    "start_time": "2022-02-26T22:16:44.235Z"
   },
   {
    "duration": 23,
    "start_time": "2022-02-26T22:17:00.275Z"
   },
   {
    "duration": 263,
    "start_time": "2022-02-27T09:09:13.017Z"
   },
   {
    "duration": 827,
    "start_time": "2022-02-27T09:09:19.845Z"
   },
   {
    "duration": 223,
    "start_time": "2022-02-27T09:09:20.675Z"
   },
   {
    "duration": 192,
    "start_time": "2022-02-27T09:09:20.901Z"
   },
   {
    "duration": 124,
    "start_time": "2022-02-27T09:09:21.096Z"
   },
   {
    "duration": 25,
    "start_time": "2022-02-27T09:09:21.222Z"
   },
   {
    "duration": 41,
    "start_time": "2022-02-27T09:09:21.250Z"
   },
   {
    "duration": 10,
    "start_time": "2022-02-27T09:09:21.293Z"
   },
   {
    "duration": 13,
    "start_time": "2022-02-27T09:09:21.305Z"
   },
   {
    "duration": 191,
    "start_time": "2022-02-27T09:09:21.322Z"
   },
   {
    "duration": 106,
    "start_time": "2022-02-27T09:09:21.516Z"
   },
   {
    "duration": 130,
    "start_time": "2022-02-27T09:09:21.625Z"
   },
   {
    "duration": 70,
    "start_time": "2022-02-27T09:09:21.758Z"
   },
   {
    "duration": 22,
    "start_time": "2022-02-27T09:09:21.831Z"
   },
   {
    "duration": 53,
    "start_time": "2022-02-27T09:09:21.856Z"
   },
   {
    "duration": 470,
    "start_time": "2022-02-27T09:09:21.912Z"
   },
   {
    "duration": 45,
    "start_time": "2022-02-27T09:09:22.385Z"
   },
   {
    "duration": 15,
    "start_time": "2022-02-27T09:09:22.433Z"
   },
   {
    "duration": 86,
    "start_time": "2022-02-27T09:09:22.451Z"
   },
   {
    "duration": 57,
    "start_time": "2022-02-27T09:09:22.540Z"
   },
   {
    "duration": 23,
    "start_time": "2022-02-27T09:09:22.599Z"
   },
   {
    "duration": 70,
    "start_time": "2022-02-27T09:09:22.624Z"
   },
   {
    "duration": 16,
    "start_time": "2022-02-27T09:09:22.696Z"
   },
   {
    "duration": 85,
    "start_time": "2022-02-27T09:09:22.714Z"
   },
   {
    "duration": 58,
    "start_time": "2022-02-27T09:09:22.803Z"
   },
   {
    "duration": 59,
    "start_time": "2022-02-27T09:09:22.883Z"
   },
   {
    "duration": 649,
    "start_time": "2022-02-27T09:09:22.945Z"
   },
   {
    "duration": 690,
    "start_time": "2022-02-27T09:09:23.600Z"
   },
   {
    "duration": 652,
    "start_time": "2022-02-27T09:09:24.293Z"
   },
   {
    "duration": 38,
    "start_time": "2022-02-27T09:09:24.947Z"
   },
   {
    "duration": 21,
    "start_time": "2022-02-27T09:09:32.419Z"
   },
   {
    "duration": 69,
    "start_time": "2022-02-27T09:33:35.685Z"
   },
   {
    "duration": 9,
    "start_time": "2022-02-27T09:33:50.767Z"
   },
   {
    "duration": 8,
    "start_time": "2022-02-27T09:34:20.224Z"
   },
   {
    "duration": 9,
    "start_time": "2022-02-27T09:34:23.039Z"
   },
   {
    "duration": 13,
    "start_time": "2022-02-27T09:34:46.337Z"
   },
   {
    "duration": 11,
    "start_time": "2022-02-27T09:38:58.610Z"
   },
   {
    "duration": 14,
    "start_time": "2022-02-27T09:39:11.064Z"
   },
   {
    "duration": 319,
    "start_time": "2022-02-27T09:40:28.744Z"
   },
   {
    "duration": 1252,
    "start_time": "2022-02-27T09:40:40.795Z"
   },
   {
    "duration": 219,
    "start_time": "2022-02-27T09:40:42.049Z"
   },
   {
    "duration": 183,
    "start_time": "2022-02-27T09:40:42.272Z"
   },
   {
    "duration": 137,
    "start_time": "2022-02-27T09:40:42.458Z"
   },
   {
    "duration": 26,
    "start_time": "2022-02-27T09:40:42.597Z"
   },
   {
    "duration": 29,
    "start_time": "2022-02-27T09:40:42.625Z"
   },
   {
    "duration": 27,
    "start_time": "2022-02-27T09:40:42.656Z"
   },
   {
    "duration": 11,
    "start_time": "2022-02-27T09:40:42.688Z"
   },
   {
    "duration": 179,
    "start_time": "2022-02-27T09:40:42.703Z"
   },
   {
    "duration": 98,
    "start_time": "2022-02-27T09:40:42.884Z"
   },
   {
    "duration": 116,
    "start_time": "2022-02-27T09:40:42.984Z"
   },
   {
    "duration": 53,
    "start_time": "2022-02-27T09:40:43.102Z"
   },
   {
    "duration": 38,
    "start_time": "2022-02-27T09:40:43.158Z"
   },
   {
    "duration": 27,
    "start_time": "2022-02-27T09:40:43.198Z"
   },
   {
    "duration": 480,
    "start_time": "2022-02-27T09:40:43.228Z"
   },
   {
    "duration": 52,
    "start_time": "2022-02-27T09:40:43.711Z"
   },
   {
    "duration": 23,
    "start_time": "2022-02-27T09:40:43.782Z"
   },
   {
    "duration": 82,
    "start_time": "2022-02-27T09:40:43.808Z"
   },
   {
    "duration": 37,
    "start_time": "2022-02-27T09:40:43.892Z"
   },
   {
    "duration": 55,
    "start_time": "2022-02-27T09:40:43.932Z"
   },
   {
    "duration": 18,
    "start_time": "2022-02-27T09:40:43.990Z"
   },
   {
    "duration": 17,
    "start_time": "2022-02-27T09:40:44.010Z"
   },
   {
    "duration": 95,
    "start_time": "2022-02-27T09:40:44.031Z"
   },
   {
    "duration": 88,
    "start_time": "2022-02-27T09:40:44.128Z"
   },
   {
    "duration": 74,
    "start_time": "2022-02-27T09:40:44.218Z"
   },
   {
    "duration": 708,
    "start_time": "2022-02-27T09:40:44.295Z"
   },
   {
    "duration": 677,
    "start_time": "2022-02-27T09:40:45.005Z"
   },
   {
    "duration": 837,
    "start_time": "2022-02-27T09:40:45.685Z"
   },
   {
    "duration": 20,
    "start_time": "2022-02-27T09:40:46.524Z"
   },
   {
    "duration": 37,
    "start_time": "2022-02-27T09:40:46.547Z"
   },
   {
    "duration": 16,
    "start_time": "2022-02-27T09:41:52.864Z"
   },
   {
    "duration": 17,
    "start_time": "2022-02-27T09:43:44.009Z"
   },
   {
    "duration": 29,
    "start_time": "2022-02-27T09:56:57.999Z"
   },
   {
    "duration": 36,
    "start_time": "2022-02-27T09:58:35.689Z"
   },
   {
    "duration": 16,
    "start_time": "2022-02-27T10:03:10.066Z"
   },
   {
    "duration": 19,
    "start_time": "2022-02-27T10:04:03.958Z"
   },
   {
    "duration": 18,
    "start_time": "2022-02-27T10:07:22.654Z"
   },
   {
    "duration": 25,
    "start_time": "2022-02-27T10:15:38.931Z"
   },
   {
    "duration": 46,
    "start_time": "2022-02-27T10:17:00.748Z"
   },
   {
    "duration": 12,
    "start_time": "2022-02-27T10:19:08.510Z"
   },
   {
    "duration": 3,
    "start_time": "2022-02-27T10:19:19.980Z"
   },
   {
    "duration": 12,
    "start_time": "2022-02-27T10:19:34.588Z"
   },
   {
    "duration": 345,
    "start_time": "2022-02-27T10:27:29.104Z"
   },
   {
    "duration": 8,
    "start_time": "2022-02-27T10:27:58.818Z"
   },
   {
    "duration": 9,
    "start_time": "2022-02-27T10:28:11.008Z"
   },
   {
    "duration": 11,
    "start_time": "2022-02-27T10:28:27.617Z"
   },
   {
    "duration": 11,
    "start_time": "2022-02-27T10:28:56.256Z"
   },
   {
    "duration": 67,
    "start_time": "2022-02-27T10:55:45.607Z"
   },
   {
    "duration": 25,
    "start_time": "2022-02-27T10:55:58.599Z"
   },
   {
    "duration": 29,
    "start_time": "2022-02-27T10:57:10.910Z"
   },
   {
    "duration": 42,
    "start_time": "2022-02-27T11:03:50.658Z"
   },
   {
    "duration": 31,
    "start_time": "2022-02-27T11:04:17.191Z"
   },
   {
    "duration": 1354,
    "start_time": "2022-02-27T11:07:21.965Z"
   },
   {
    "duration": 217,
    "start_time": "2022-02-27T11:07:23.322Z"
   },
   {
    "duration": 182,
    "start_time": "2022-02-27T11:07:23.543Z"
   },
   {
    "duration": 135,
    "start_time": "2022-02-27T11:07:23.727Z"
   },
   {
    "duration": 25,
    "start_time": "2022-02-27T11:07:23.865Z"
   },
   {
    "duration": 27,
    "start_time": "2022-02-27T11:07:23.892Z"
   },
   {
    "duration": 8,
    "start_time": "2022-02-27T11:07:23.922Z"
   },
   {
    "duration": 18,
    "start_time": "2022-02-27T11:07:23.934Z"
   },
   {
    "duration": 177,
    "start_time": "2022-02-27T11:07:23.955Z"
   },
   {
    "duration": 101,
    "start_time": "2022-02-27T11:07:24.135Z"
   },
   {
    "duration": 121,
    "start_time": "2022-02-27T11:07:24.239Z"
   },
   {
    "duration": 66,
    "start_time": "2022-02-27T11:07:24.362Z"
   },
   {
    "duration": 21,
    "start_time": "2022-02-27T11:07:24.431Z"
   },
   {
    "duration": 51,
    "start_time": "2022-02-27T11:07:24.454Z"
   },
   {
    "duration": 442,
    "start_time": "2022-02-27T11:07:24.508Z"
   },
   {
    "duration": 56,
    "start_time": "2022-02-27T11:07:24.952Z"
   },
   {
    "duration": 15,
    "start_time": "2022-02-27T11:07:25.011Z"
   },
   {
    "duration": 70,
    "start_time": "2022-02-27T11:07:25.028Z"
   },
   {
    "duration": 33,
    "start_time": "2022-02-27T11:07:25.100Z"
   },
   {
    "duration": 50,
    "start_time": "2022-02-27T11:07:25.136Z"
   },
   {
    "duration": 16,
    "start_time": "2022-02-27T11:07:25.188Z"
   },
   {
    "duration": 23,
    "start_time": "2022-02-27T11:07:25.206Z"
   },
   {
    "duration": 82,
    "start_time": "2022-02-27T11:07:25.233Z"
   },
   {
    "duration": 74,
    "start_time": "2022-02-27T11:07:25.317Z"
   },
   {
    "duration": 57,
    "start_time": "2022-02-27T11:07:25.394Z"
   },
   {
    "duration": 663,
    "start_time": "2022-02-27T11:07:25.454Z"
   },
   {
    "duration": 638,
    "start_time": "2022-02-27T11:07:26.120Z"
   },
   {
    "duration": 622,
    "start_time": "2022-02-27T11:07:26.761Z"
   },
   {
    "duration": 38,
    "start_time": "2022-02-27T11:07:27.386Z"
   },
   {
    "duration": 56,
    "start_time": "2022-02-27T11:07:27.427Z"
   },
   {
    "duration": 17,
    "start_time": "2022-02-27T11:07:27.486Z"
   },
   {
    "duration": 11,
    "start_time": "2022-02-27T11:07:27.506Z"
   },
   {
    "duration": 11,
    "start_time": "2022-02-27T11:07:27.519Z"
   },
   {
    "duration": 326,
    "start_time": "2022-02-27T11:09:50.581Z"
   },
   {
    "duration": 215,
    "start_time": "2022-02-27T11:10:51.640Z"
   },
   {
    "duration": 106,
    "start_time": "2022-02-27T11:17:13.361Z"
   },
   {
    "duration": 100,
    "start_time": "2022-02-27T11:17:38.482Z"
   },
   {
    "duration": 333,
    "start_time": "2022-02-27T11:18:56.571Z"
   },
   {
    "duration": 278,
    "start_time": "2022-02-27T11:19:16.772Z"
   },
   {
    "duration": 174,
    "start_time": "2022-02-27T11:19:43.110Z"
   },
   {
    "duration": 1262,
    "start_time": "2022-02-27T11:20:42.472Z"
   },
   {
    "duration": 380,
    "start_time": "2022-02-27T11:20:43.737Z"
   },
   {
    "duration": 278,
    "start_time": "2022-02-27T11:20:44.120Z"
   },
   {
    "duration": 186,
    "start_time": "2022-02-27T11:20:44.401Z"
   },
   {
    "duration": 25,
    "start_time": "2022-02-27T11:20:44.590Z"
   },
   {
    "duration": 47,
    "start_time": "2022-02-27T11:20:44.618Z"
   },
   {
    "duration": 22,
    "start_time": "2022-02-27T11:20:44.667Z"
   },
   {
    "duration": 153,
    "start_time": "2022-02-27T11:20:44.692Z"
   },
   {
    "duration": 89,
    "start_time": "2022-02-27T11:20:44.849Z"
   },
   {
    "duration": 107,
    "start_time": "2022-02-27T11:20:44.941Z"
   },
   {
    "duration": 58,
    "start_time": "2022-02-27T11:20:45.051Z"
   },
   {
    "duration": 19,
    "start_time": "2022-02-27T11:20:45.111Z"
   },
   {
    "duration": 31,
    "start_time": "2022-02-27T11:20:45.132Z"
   },
   {
    "duration": 452,
    "start_time": "2022-02-27T11:20:45.165Z"
   },
   {
    "duration": 44,
    "start_time": "2022-02-27T11:20:45.620Z"
   },
   {
    "duration": 20,
    "start_time": "2022-02-27T11:20:45.667Z"
   },
   {
    "duration": 55,
    "start_time": "2022-02-27T11:20:45.690Z"
   },
   {
    "duration": 44,
    "start_time": "2022-02-27T11:20:45.747Z"
   },
   {
    "duration": 21,
    "start_time": "2022-02-27T11:20:45.794Z"
   },
   {
    "duration": 14,
    "start_time": "2022-02-27T11:20:45.817Z"
   },
   {
    "duration": 15,
    "start_time": "2022-02-27T11:20:45.833Z"
   },
   {
    "duration": 144,
    "start_time": "2022-02-27T11:20:45.851Z"
   },
   {
    "duration": 116,
    "start_time": "2022-02-27T11:20:45.998Z"
   },
   {
    "duration": 72,
    "start_time": "2022-02-27T11:20:46.116Z"
   },
   {
    "duration": 851,
    "start_time": "2022-02-27T11:20:46.190Z"
   },
   {
    "duration": 649,
    "start_time": "2022-02-27T11:20:47.044Z"
   },
   {
    "duration": 727,
    "start_time": "2022-02-27T11:20:47.697Z"
   },
   {
    "duration": 40,
    "start_time": "2022-02-27T11:20:48.426Z"
   },
   {
    "duration": 40,
    "start_time": "2022-02-27T11:20:48.482Z"
   },
   {
    "duration": 16,
    "start_time": "2022-02-27T11:20:48.525Z"
   },
   {
    "duration": 41,
    "start_time": "2022-02-27T11:20:48.544Z"
   },
   {
    "duration": 13,
    "start_time": "2022-02-27T11:20:48.588Z"
   },
   {
    "duration": 51,
    "start_time": "2022-02-27T11:32:11.757Z"
   },
   {
    "duration": 18,
    "start_time": "2022-02-27T11:32:37.039Z"
   },
   {
    "duration": 371,
    "start_time": "2022-02-27T19:05:34.322Z"
   },
   {
    "duration": 1409,
    "start_time": "2022-02-27T19:05:40.439Z"
   },
   {
    "duration": 382,
    "start_time": "2022-02-27T19:05:41.851Z"
   },
   {
    "duration": 312,
    "start_time": "2022-02-27T19:05:42.237Z"
   },
   {
    "duration": 200,
    "start_time": "2022-02-27T19:05:42.552Z"
   },
   {
    "duration": 35,
    "start_time": "2022-02-27T19:05:42.755Z"
   },
   {
    "duration": 73,
    "start_time": "2022-02-27T19:05:42.793Z"
   },
   {
    "duration": 174,
    "start_time": "2022-02-27T19:05:42.869Z"
   },
   {
    "duration": 113,
    "start_time": "2022-02-27T19:05:43.047Z"
   },
   {
    "duration": 116,
    "start_time": "2022-02-27T19:05:43.174Z"
   },
   {
    "duration": 55,
    "start_time": "2022-02-27T19:05:43.292Z"
   },
   {
    "duration": 37,
    "start_time": "2022-02-27T19:05:43.349Z"
   },
   {
    "duration": 30,
    "start_time": "2022-02-27T19:05:43.388Z"
   },
   {
    "duration": 512,
    "start_time": "2022-02-27T19:05:43.421Z"
   },
   {
    "duration": 59,
    "start_time": "2022-02-27T19:05:43.936Z"
   },
   {
    "duration": 17,
    "start_time": "2022-02-27T19:05:43.998Z"
   },
   {
    "duration": 83,
    "start_time": "2022-02-27T19:05:44.018Z"
   },
   {
    "duration": 38,
    "start_time": "2022-02-27T19:05:44.104Z"
   },
   {
    "duration": 45,
    "start_time": "2022-02-27T19:05:44.145Z"
   },
   {
    "duration": 21,
    "start_time": "2022-02-27T19:05:44.194Z"
   },
   {
    "duration": 67,
    "start_time": "2022-02-27T19:05:44.218Z"
   },
   {
    "duration": 47,
    "start_time": "2022-02-27T19:05:44.287Z"
   },
   {
    "duration": 94,
    "start_time": "2022-02-27T19:05:44.336Z"
   },
   {
    "duration": 81,
    "start_time": "2022-02-27T19:05:44.435Z"
   },
   {
    "duration": 699,
    "start_time": "2022-02-27T19:05:44.519Z"
   },
   {
    "duration": 801,
    "start_time": "2022-02-27T19:05:45.221Z"
   },
   {
    "duration": 671,
    "start_time": "2022-02-27T19:05:46.025Z"
   },
   {
    "duration": 41,
    "start_time": "2022-02-27T19:05:46.698Z"
   },
   {
    "duration": 51,
    "start_time": "2022-02-27T19:05:46.742Z"
   },
   {
    "duration": 18,
    "start_time": "2022-02-27T19:05:46.795Z"
   },
   {
    "duration": 13,
    "start_time": "2022-02-27T19:05:46.815Z"
   },
   {
    "duration": 52,
    "start_time": "2022-02-27T19:05:46.830Z"
   },
   {
    "duration": 159,
    "start_time": "2022-02-27T19:06:00.464Z"
   },
   {
    "duration": 88,
    "start_time": "2022-02-27T19:06:15.167Z"
   },
   {
    "duration": 32,
    "start_time": "2022-02-27T19:13:49.649Z"
   },
   {
    "duration": 1715,
    "start_time": "2022-02-27T19:14:01.119Z"
   },
   {
    "duration": 565,
    "start_time": "2022-02-27T19:14:02.838Z"
   },
   {
    "duration": 327,
    "start_time": "2022-02-27T19:14:03.409Z"
   },
   {
    "duration": 208,
    "start_time": "2022-02-27T19:14:03.739Z"
   },
   {
    "duration": 40,
    "start_time": "2022-02-27T19:14:03.949Z"
   },
   {
    "duration": 55,
    "start_time": "2022-02-27T19:14:03.991Z"
   },
   {
    "duration": 155,
    "start_time": "2022-02-27T19:14:04.050Z"
   },
   {
    "duration": 107,
    "start_time": "2022-02-27T19:14:04.208Z"
   },
   {
    "duration": 115,
    "start_time": "2022-02-27T19:14:04.318Z"
   },
   {
    "duration": 74,
    "start_time": "2022-02-27T19:14:04.436Z"
   },
   {
    "duration": 18,
    "start_time": "2022-02-27T19:14:04.513Z"
   },
   {
    "duration": 46,
    "start_time": "2022-02-27T19:14:04.533Z"
   },
   {
    "duration": 471,
    "start_time": "2022-02-27T19:14:04.581Z"
   },
   {
    "duration": 55,
    "start_time": "2022-02-27T19:14:05.054Z"
   },
   {
    "duration": 16,
    "start_time": "2022-02-27T19:14:05.111Z"
   },
   {
    "duration": 81,
    "start_time": "2022-02-27T19:14:05.130Z"
   },
   {
    "duration": 35,
    "start_time": "2022-02-27T19:14:05.214Z"
   },
   {
    "duration": 42,
    "start_time": "2022-02-27T19:14:05.252Z"
   },
   {
    "duration": 18,
    "start_time": "2022-02-27T19:14:05.296Z"
   },
   {
    "duration": 70,
    "start_time": "2022-02-27T19:14:05.316Z"
   },
   {
    "duration": 51,
    "start_time": "2022-02-27T19:14:05.389Z"
   },
   {
    "duration": 83,
    "start_time": "2022-02-27T19:14:05.442Z"
   },
   {
    "duration": 80,
    "start_time": "2022-02-27T19:14:05.527Z"
   },
   {
    "duration": 648,
    "start_time": "2022-02-27T19:14:05.609Z"
   },
   {
    "duration": 670,
    "start_time": "2022-02-27T19:14:06.262Z"
   },
   {
    "duration": 678,
    "start_time": "2022-02-27T19:14:06.934Z"
   },
   {
    "duration": 40,
    "start_time": "2022-02-27T19:14:07.615Z"
   },
   {
    "duration": 28,
    "start_time": "2022-02-27T19:14:07.675Z"
   },
   {
    "duration": 19,
    "start_time": "2022-02-27T19:14:07.706Z"
   },
   {
    "duration": 54,
    "start_time": "2022-02-27T19:14:07.728Z"
   },
   {
    "duration": 15,
    "start_time": "2022-02-27T19:14:07.785Z"
   },
   {
    "duration": 1446,
    "start_time": "2022-02-27T19:18:23.444Z"
   },
   {
    "duration": 406,
    "start_time": "2022-02-27T19:18:24.893Z"
   },
   {
    "duration": 345,
    "start_time": "2022-02-27T19:18:25.302Z"
   },
   {
    "duration": 224,
    "start_time": "2022-02-27T19:18:25.650Z"
   },
   {
    "duration": 25,
    "start_time": "2022-02-27T19:18:25.877Z"
   },
   {
    "duration": 64,
    "start_time": "2022-02-27T19:18:25.905Z"
   },
   {
    "duration": 157,
    "start_time": "2022-02-27T19:18:25.972Z"
   },
   {
    "duration": 97,
    "start_time": "2022-02-27T19:18:26.133Z"
   },
   {
    "duration": 125,
    "start_time": "2022-02-27T19:18:26.233Z"
   },
   {
    "duration": 57,
    "start_time": "2022-02-27T19:18:26.361Z"
   },
   {
    "duration": 17,
    "start_time": "2022-02-27T19:18:26.420Z"
   },
   {
    "duration": 52,
    "start_time": "2022-02-27T19:18:26.440Z"
   },
   {
    "duration": 518,
    "start_time": "2022-02-27T19:18:26.494Z"
   },
   {
    "duration": 72,
    "start_time": "2022-02-27T19:18:27.015Z"
   },
   {
    "duration": 17,
    "start_time": "2022-02-27T19:18:27.090Z"
   },
   {
    "duration": 82,
    "start_time": "2022-02-27T19:18:27.109Z"
   },
   {
    "duration": 46,
    "start_time": "2022-02-27T19:18:27.194Z"
   },
   {
    "duration": 48,
    "start_time": "2022-02-27T19:18:27.243Z"
   },
   {
    "duration": 16,
    "start_time": "2022-02-27T19:18:27.293Z"
   },
   {
    "duration": 71,
    "start_time": "2022-02-27T19:18:27.311Z"
   },
   {
    "duration": 48,
    "start_time": "2022-02-27T19:18:27.385Z"
   },
   {
    "duration": 92,
    "start_time": "2022-02-27T19:18:27.436Z"
   },
   {
    "duration": 88,
    "start_time": "2022-02-27T19:18:27.533Z"
   },
   {
    "duration": 752,
    "start_time": "2022-02-27T19:18:27.624Z"
   },
   {
    "duration": 721,
    "start_time": "2022-02-27T19:18:28.379Z"
   },
   {
    "duration": 719,
    "start_time": "2022-02-27T19:18:29.103Z"
   },
   {
    "duration": 56,
    "start_time": "2022-02-27T19:18:29.825Z"
   },
   {
    "duration": 29,
    "start_time": "2022-02-27T19:18:29.884Z"
   },
   {
    "duration": 16,
    "start_time": "2022-02-27T19:18:29.916Z"
   },
   {
    "duration": 50,
    "start_time": "2022-02-27T19:18:29.935Z"
   },
   {
    "duration": 13,
    "start_time": "2022-02-27T19:18:29.987Z"
   },
   {
    "duration": 490,
    "start_time": "2022-02-27T19:18:49.425Z"
   },
   {
    "duration": 462,
    "start_time": "2022-02-27T19:19:32.836Z"
   },
   {
    "duration": 1399,
    "start_time": "2022-02-27T19:20:43.258Z"
   },
   {
    "duration": 403,
    "start_time": "2022-02-27T19:20:44.659Z"
   },
   {
    "duration": 346,
    "start_time": "2022-02-27T19:20:45.073Z"
   },
   {
    "duration": 299,
    "start_time": "2022-02-27T19:20:45.423Z"
   },
   {
    "duration": 31,
    "start_time": "2022-02-27T19:20:45.725Z"
   },
   {
    "duration": 56,
    "start_time": "2022-02-27T19:20:45.775Z"
   },
   {
    "duration": 156,
    "start_time": "2022-02-27T19:20:45.833Z"
   },
   {
    "duration": 102,
    "start_time": "2022-02-27T19:20:45.991Z"
   },
   {
    "duration": 125,
    "start_time": "2022-02-27T19:20:46.098Z"
   },
   {
    "duration": 67,
    "start_time": "2022-02-27T19:20:46.226Z"
   },
   {
    "duration": 17,
    "start_time": "2022-02-27T19:20:46.295Z"
   },
   {
    "duration": 28,
    "start_time": "2022-02-27T19:20:46.314Z"
   },
   {
    "duration": 492,
    "start_time": "2022-02-27T19:20:46.344Z"
   },
   {
    "duration": 63,
    "start_time": "2022-02-27T19:20:46.839Z"
   },
   {
    "duration": 18,
    "start_time": "2022-02-27T19:20:46.904Z"
   },
   {
    "duration": 97,
    "start_time": "2022-02-27T19:20:46.925Z"
   },
   {
    "duration": 55,
    "start_time": "2022-02-27T19:20:47.025Z"
   },
   {
    "duration": 26,
    "start_time": "2022-02-27T19:20:47.082Z"
   },
   {
    "duration": 67,
    "start_time": "2022-02-27T19:20:47.111Z"
   },
   {
    "duration": 19,
    "start_time": "2022-02-27T19:20:47.181Z"
   },
   {
    "duration": 91,
    "start_time": "2022-02-27T19:20:47.203Z"
   },
   {
    "duration": 78,
    "start_time": "2022-02-27T19:20:47.296Z"
   },
   {
    "duration": 64,
    "start_time": "2022-02-27T19:20:47.377Z"
   },
   {
    "duration": 813,
    "start_time": "2022-02-27T19:20:47.443Z"
   },
   {
    "duration": 717,
    "start_time": "2022-02-27T19:20:48.259Z"
   },
   {
    "duration": 671,
    "start_time": "2022-02-27T19:20:48.979Z"
   },
   {
    "duration": 49,
    "start_time": "2022-02-27T19:20:49.654Z"
   },
   {
    "duration": 30,
    "start_time": "2022-02-27T19:20:49.706Z"
   },
   {
    "duration": 43,
    "start_time": "2022-02-27T19:20:49.738Z"
   },
   {
    "duration": 12,
    "start_time": "2022-02-27T19:20:49.784Z"
   },
   {
    "duration": 12,
    "start_time": "2022-02-27T19:20:49.799Z"
   },
   {
    "duration": 57,
    "start_time": "2022-02-27T19:21:31.655Z"
   },
   {
    "duration": 25,
    "start_time": "2022-02-27T19:22:07.935Z"
   },
   {
    "duration": 451,
    "start_time": "2022-02-27T19:22:41.270Z"
   },
   {
    "duration": 448,
    "start_time": "2022-02-27T19:23:09.599Z"
   },
   {
    "duration": 466,
    "start_time": "2022-02-27T19:23:26.111Z"
   },
   {
    "duration": 1390,
    "start_time": "2022-02-27T19:23:34.458Z"
   },
   {
    "duration": 390,
    "start_time": "2022-02-27T19:23:35.851Z"
   },
   {
    "duration": 341,
    "start_time": "2022-02-27T19:23:36.248Z"
   },
   {
    "duration": 208,
    "start_time": "2022-02-27T19:23:36.591Z"
   },
   {
    "duration": 28,
    "start_time": "2022-02-27T19:23:36.801Z"
   },
   {
    "duration": 54,
    "start_time": "2022-02-27T19:23:36.832Z"
   },
   {
    "duration": 172,
    "start_time": "2022-02-27T19:23:36.890Z"
   },
   {
    "duration": 92,
    "start_time": "2022-02-27T19:23:37.065Z"
   },
   {
    "duration": 112,
    "start_time": "2022-02-27T19:23:37.174Z"
   },
   {
    "duration": 52,
    "start_time": "2022-02-27T19:23:37.288Z"
   },
   {
    "duration": 37,
    "start_time": "2022-02-27T19:23:37.342Z"
   },
   {
    "duration": 22,
    "start_time": "2022-02-27T19:23:37.382Z"
   },
   {
    "duration": 499,
    "start_time": "2022-02-27T19:23:37.407Z"
   },
   {
    "duration": 65,
    "start_time": "2022-02-27T19:23:37.908Z"
   },
   {
    "duration": 17,
    "start_time": "2022-02-27T19:23:37.975Z"
   },
   {
    "duration": 78,
    "start_time": "2022-02-27T19:23:37.994Z"
   },
   {
    "duration": 38,
    "start_time": "2022-02-27T19:23:38.075Z"
   },
   {
    "duration": 60,
    "start_time": "2022-02-27T19:23:38.115Z"
   },
   {
    "duration": 19,
    "start_time": "2022-02-27T19:23:38.177Z"
   },
   {
    "duration": 19,
    "start_time": "2022-02-27T19:23:38.199Z"
   },
   {
    "duration": 102,
    "start_time": "2022-02-27T19:23:38.220Z"
   },
   {
    "duration": 84,
    "start_time": "2022-02-27T19:23:38.327Z"
   },
   {
    "duration": 74,
    "start_time": "2022-02-27T19:23:38.414Z"
   },
   {
    "duration": 699,
    "start_time": "2022-02-27T19:23:38.490Z"
   },
   {
    "duration": 714,
    "start_time": "2022-02-27T19:23:39.191Z"
   },
   {
    "duration": 674,
    "start_time": "2022-02-27T19:23:39.907Z"
   },
   {
    "duration": 38,
    "start_time": "2022-02-27T19:23:40.583Z"
   },
   {
    "duration": 57,
    "start_time": "2022-02-27T19:23:40.624Z"
   },
   {
    "duration": 20,
    "start_time": "2022-02-27T19:23:40.683Z"
   },
   {
    "duration": 25,
    "start_time": "2022-02-27T19:23:40.705Z"
   },
   {
    "duration": 26,
    "start_time": "2022-02-27T19:23:40.732Z"
   },
   {
    "duration": 35,
    "start_time": "2022-02-27T19:39:46.126Z"
   },
   {
    "duration": 34,
    "start_time": "2022-02-27T19:39:54.365Z"
   },
   {
    "duration": 61,
    "start_time": "2022-02-27T19:42:08.531Z"
   },
   {
    "duration": 475,
    "start_time": "2022-02-27T19:55:09.422Z"
   },
   {
    "duration": 1358,
    "start_time": "2022-02-27T19:55:19.990Z"
   },
   {
    "duration": 394,
    "start_time": "2022-02-27T19:55:21.351Z"
   },
   {
    "duration": 321,
    "start_time": "2022-02-27T19:55:21.754Z"
   },
   {
    "duration": 197,
    "start_time": "2022-02-27T19:55:22.077Z"
   },
   {
    "duration": 25,
    "start_time": "2022-02-27T19:55:22.277Z"
   },
   {
    "duration": 66,
    "start_time": "2022-02-27T19:55:22.304Z"
   },
   {
    "duration": 155,
    "start_time": "2022-02-27T19:55:22.374Z"
   },
   {
    "duration": 97,
    "start_time": "2022-02-27T19:55:22.532Z"
   },
   {
    "duration": 118,
    "start_time": "2022-02-27T19:55:22.632Z"
   },
   {
    "duration": 78,
    "start_time": "2022-02-27T19:55:22.753Z"
   },
   {
    "duration": 16,
    "start_time": "2022-02-27T19:55:22.833Z"
   },
   {
    "duration": 22,
    "start_time": "2022-02-27T19:55:22.873Z"
   },
   {
    "duration": 478,
    "start_time": "2022-02-27T19:55:22.897Z"
   },
   {
    "duration": 47,
    "start_time": "2022-02-27T19:55:23.378Z"
   },
   {
    "duration": 17,
    "start_time": "2022-02-27T19:55:23.428Z"
   },
   {
    "duration": 47,
    "start_time": "2022-02-27T19:55:23.475Z"
   },
   {
    "duration": 56,
    "start_time": "2022-02-27T19:55:23.525Z"
   },
   {
    "duration": 24,
    "start_time": "2022-02-27T19:55:23.584Z"
   },
   {
    "duration": 17,
    "start_time": "2022-02-27T19:55:23.611Z"
   },
   {
    "duration": 58,
    "start_time": "2022-02-27T19:55:23.630Z"
   },
   {
    "duration": 85,
    "start_time": "2022-02-27T19:55:23.690Z"
   },
   {
    "duration": 61,
    "start_time": "2022-02-27T19:55:23.779Z"
   },
   {
    "duration": 83,
    "start_time": "2022-02-27T19:55:23.843Z"
   },
   {
    "duration": 683,
    "start_time": "2022-02-27T19:55:23.929Z"
   },
   {
    "duration": 706,
    "start_time": "2022-02-27T19:55:24.615Z"
   },
   {
    "duration": 671,
    "start_time": "2022-02-27T19:55:25.325Z"
   },
   {
    "duration": 39,
    "start_time": "2022-02-27T19:55:25.998Z"
   },
   {
    "duration": 51,
    "start_time": "2022-02-27T19:55:26.039Z"
   },
   {
    "duration": 17,
    "start_time": "2022-02-27T19:55:26.092Z"
   },
   {
    "duration": 14,
    "start_time": "2022-02-27T19:55:26.111Z"
   },
   {
    "duration": 53,
    "start_time": "2022-02-27T19:55:26.129Z"
   },
   {
    "duration": 36,
    "start_time": "2022-02-27T19:58:33.539Z"
   },
   {
    "duration": 43,
    "start_time": "2022-02-27T19:59:14.250Z"
   },
   {
    "duration": 42,
    "start_time": "2022-02-27T19:59:24.489Z"
   },
   {
    "duration": 44,
    "start_time": "2022-02-27T19:59:38.401Z"
   },
   {
    "duration": 46,
    "start_time": "2022-02-27T19:59:52.554Z"
   },
   {
    "duration": 24,
    "start_time": "2022-02-27T20:07:11.479Z"
   },
   {
    "duration": 1416,
    "start_time": "2022-02-27T20:09:17.835Z"
   },
   {
    "duration": 393,
    "start_time": "2022-02-27T20:09:19.254Z"
   },
   {
    "duration": 333,
    "start_time": "2022-02-27T20:09:19.656Z"
   },
   {
    "duration": 204,
    "start_time": "2022-02-27T20:09:19.992Z"
   },
   {
    "duration": 26,
    "start_time": "2022-02-27T20:09:20.199Z"
   },
   {
    "duration": 64,
    "start_time": "2022-02-27T20:09:20.227Z"
   },
   {
    "duration": 171,
    "start_time": "2022-02-27T20:09:20.294Z"
   },
   {
    "duration": 98,
    "start_time": "2022-02-27T20:09:20.475Z"
   },
   {
    "duration": 122,
    "start_time": "2022-02-27T20:09:20.577Z"
   },
   {
    "duration": 79,
    "start_time": "2022-02-27T20:09:20.701Z"
   },
   {
    "duration": 17,
    "start_time": "2022-02-27T20:09:20.782Z"
   },
   {
    "duration": 24,
    "start_time": "2022-02-27T20:09:20.801Z"
   },
   {
    "duration": 496,
    "start_time": "2022-02-27T20:09:20.827Z"
   },
   {
    "duration": 66,
    "start_time": "2022-02-27T20:09:21.325Z"
   },
   {
    "duration": 24,
    "start_time": "2022-02-27T20:09:21.394Z"
   },
   {
    "duration": 57,
    "start_time": "2022-02-27T20:09:21.421Z"
   },
   {
    "duration": 21,
    "start_time": "2022-02-27T20:09:21.480Z"
   },
   {
    "duration": 21,
    "start_time": "2022-02-27T20:09:21.503Z"
   },
   {
    "duration": 85,
    "start_time": "2022-02-27T20:09:21.526Z"
   },
   {
    "duration": 71,
    "start_time": "2022-02-27T20:09:21.613Z"
   },
   {
    "duration": 53,
    "start_time": "2022-02-27T20:09:21.687Z"
   },
   {
    "duration": 695,
    "start_time": "2022-02-27T20:09:21.743Z"
   },
   {
    "duration": 704,
    "start_time": "2022-02-27T20:09:22.440Z"
   },
   {
    "duration": 693,
    "start_time": "2022-02-27T20:09:23.146Z"
   },
   {
    "duration": 42,
    "start_time": "2022-02-27T20:09:23.841Z"
   },
   {
    "duration": 26,
    "start_time": "2022-02-27T20:09:23.887Z"
   },
   {
    "duration": 17,
    "start_time": "2022-02-27T20:09:23.917Z"
   },
   {
    "duration": 25,
    "start_time": "2022-02-27T20:09:23.936Z"
   },
   {
    "duration": 13,
    "start_time": "2022-02-27T20:09:23.965Z"
   },
   {
    "duration": 28,
    "start_time": "2022-02-27T20:35:07.626Z"
   },
   {
    "duration": 112,
    "start_time": "2022-02-27T20:35:25.553Z"
   },
   {
    "duration": 53,
    "start_time": "2022-02-27T20:36:32.182Z"
   },
   {
    "duration": 110,
    "start_time": "2022-02-27T20:49:05.465Z"
   },
   {
    "duration": 30,
    "start_time": "2022-02-27T21:08:51.107Z"
   },
   {
    "duration": 28,
    "start_time": "2022-02-27T21:12:21.323Z"
   },
   {
    "duration": 13,
    "start_time": "2022-02-27T21:14:04.660Z"
   },
   {
    "duration": 26,
    "start_time": "2022-02-27T21:45:47.122Z"
   },
   {
    "duration": 1398,
    "start_time": "2022-02-27T22:06:28.757Z"
   },
   {
    "duration": 459,
    "start_time": "2022-02-27T22:06:30.158Z"
   },
   {
    "duration": 324,
    "start_time": "2022-02-27T22:06:30.620Z"
   },
   {
    "duration": 202,
    "start_time": "2022-02-27T22:06:30.947Z"
   },
   {
    "duration": 28,
    "start_time": "2022-02-27T22:06:31.151Z"
   },
   {
    "duration": 46,
    "start_time": "2022-02-27T22:06:31.182Z"
   },
   {
    "duration": 253,
    "start_time": "2022-02-27T22:06:31.230Z"
   },
   {
    "duration": 137,
    "start_time": "2022-02-27T22:06:31.488Z"
   },
   {
    "duration": 131,
    "start_time": "2022-02-27T22:06:31.629Z"
   },
   {
    "duration": 60,
    "start_time": "2022-02-27T22:06:31.774Z"
   },
   {
    "duration": 39,
    "start_time": "2022-02-27T22:06:31.836Z"
   },
   {
    "duration": 22,
    "start_time": "2022-02-27T22:06:31.877Z"
   },
   {
    "duration": 502,
    "start_time": "2022-02-27T22:06:31.902Z"
   },
   {
    "duration": 42,
    "start_time": "2022-02-27T22:06:32.407Z"
   },
   {
    "duration": 33,
    "start_time": "2022-02-27T22:06:32.452Z"
   },
   {
    "duration": 28,
    "start_time": "2022-02-27T22:06:32.488Z"
   },
   {
    "duration": 61,
    "start_time": "2022-02-27T22:06:32.518Z"
   },
   {
    "duration": 16,
    "start_time": "2022-02-27T22:06:32.581Z"
   },
   {
    "duration": 91,
    "start_time": "2022-02-27T22:06:32.600Z"
   },
   {
    "duration": 116,
    "start_time": "2022-02-27T22:06:32.693Z"
   },
   {
    "duration": 795,
    "start_time": "2022-02-27T22:06:32.811Z"
   },
   {
    "duration": 702,
    "start_time": "2022-02-27T22:06:33.608Z"
   },
   {
    "duration": 779,
    "start_time": "2022-02-27T22:06:34.317Z"
   },
   {
    "duration": 32,
    "start_time": "2022-02-27T22:06:35.099Z"
   },
   {
    "duration": 45,
    "start_time": "2022-02-27T22:06:35.134Z"
   },
   {
    "duration": 28,
    "start_time": "2022-02-27T22:06:35.182Z"
   },
   {
    "duration": 60,
    "start_time": "2022-02-27T22:06:35.213Z"
   },
   {
    "duration": 15,
    "start_time": "2022-02-27T22:06:35.276Z"
   },
   {
    "duration": 12,
    "start_time": "2022-02-27T22:06:35.293Z"
   },
   {
    "duration": 1368,
    "start_time": "2022-02-27T22:13:06.982Z"
   },
   {
    "duration": 385,
    "start_time": "2022-02-27T22:13:08.353Z"
   },
   {
    "duration": 329,
    "start_time": "2022-02-27T22:13:08.744Z"
   },
   {
    "duration": 210,
    "start_time": "2022-02-27T22:13:09.076Z"
   },
   {
    "duration": 26,
    "start_time": "2022-02-27T22:13:09.288Z"
   },
   {
    "duration": 45,
    "start_time": "2022-02-27T22:13:09.316Z"
   },
   {
    "duration": 157,
    "start_time": "2022-02-27T22:13:09.374Z"
   },
   {
    "duration": 100,
    "start_time": "2022-02-27T22:13:09.534Z"
   },
   {
    "duration": 114,
    "start_time": "2022-02-27T22:13:09.637Z"
   },
   {
    "duration": 67,
    "start_time": "2022-02-27T22:13:09.754Z"
   },
   {
    "duration": 17,
    "start_time": "2022-02-27T22:13:09.823Z"
   },
   {
    "duration": 45,
    "start_time": "2022-02-27T22:13:09.843Z"
   },
   {
    "duration": 484,
    "start_time": "2022-02-27T22:13:09.890Z"
   },
   {
    "duration": 40,
    "start_time": "2022-02-27T22:13:10.377Z"
   },
   {
    "duration": 17,
    "start_time": "2022-02-27T22:13:10.420Z"
   },
   {
    "duration": 50,
    "start_time": "2022-02-27T22:13:10.439Z"
   },
   {
    "duration": 15,
    "start_time": "2022-02-27T22:13:10.491Z"
   },
   {
    "duration": 16,
    "start_time": "2022-02-27T22:13:10.508Z"
   },
   {
    "duration": 55,
    "start_time": "2022-02-27T22:13:10.574Z"
   },
   {
    "duration": 130,
    "start_time": "2022-02-27T22:13:10.631Z"
   },
   {
    "duration": 672,
    "start_time": "2022-02-27T22:13:10.774Z"
   },
   {
    "duration": 695,
    "start_time": "2022-02-27T22:13:11.450Z"
   },
   {
    "duration": 665,
    "start_time": "2022-02-27T22:13:12.148Z"
   },
   {
    "duration": 31,
    "start_time": "2022-02-27T22:13:12.816Z"
   },
   {
    "duration": 34,
    "start_time": "2022-02-27T22:13:12.850Z"
   },
   {
    "duration": 28,
    "start_time": "2022-02-27T22:13:12.886Z"
   },
   {
    "duration": 73,
    "start_time": "2022-02-27T22:13:12.918Z"
   },
   {
    "duration": 14,
    "start_time": "2022-02-27T22:13:12.994Z"
   },
   {
    "duration": 16,
    "start_time": "2022-02-27T22:13:13.011Z"
   },
   {
    "duration": 1027,
    "start_time": "2022-02-28T03:47:22.267Z"
   },
   {
    "duration": 268,
    "start_time": "2022-02-28T03:47:23.296Z"
   },
   {
    "duration": 221,
    "start_time": "2022-02-28T03:47:23.566Z"
   },
   {
    "duration": 160,
    "start_time": "2022-02-28T03:47:23.790Z"
   },
   {
    "duration": 19,
    "start_time": "2022-02-28T03:47:23.952Z"
   },
   {
    "duration": 39,
    "start_time": "2022-02-28T03:47:23.973Z"
   },
   {
    "duration": 102,
    "start_time": "2022-02-28T03:47:24.014Z"
   },
   {
    "duration": 74,
    "start_time": "2022-02-28T03:47:24.118Z"
   },
   {
    "duration": 78,
    "start_time": "2022-02-28T03:47:24.195Z"
   },
   {
    "duration": 32,
    "start_time": "2022-02-28T03:47:24.276Z"
   },
   {
    "duration": 33,
    "start_time": "2022-02-28T03:47:24.310Z"
   },
   {
    "duration": 15,
    "start_time": "2022-02-28T03:47:24.345Z"
   },
   {
    "duration": 271,
    "start_time": "2022-02-28T03:47:24.362Z"
   },
   {
    "duration": 25,
    "start_time": "2022-02-28T03:47:24.635Z"
   },
   {
    "duration": 11,
    "start_time": "2022-02-28T03:47:24.662Z"
   },
   {
    "duration": 17,
    "start_time": "2022-02-28T03:47:24.674Z"
   },
   {
    "duration": 50,
    "start_time": "2022-02-28T03:47:24.693Z"
   },
   {
    "duration": 13,
    "start_time": "2022-02-28T03:47:24.745Z"
   },
   {
    "duration": 31,
    "start_time": "2022-02-28T03:47:24.760Z"
   },
   {
    "duration": 102,
    "start_time": "2022-02-28T03:47:24.793Z"
   },
   {
    "duration": 417,
    "start_time": "2022-02-28T03:47:24.897Z"
   },
   {
    "duration": 413,
    "start_time": "2022-02-28T03:47:25.316Z"
   },
   {
    "duration": 395,
    "start_time": "2022-02-28T03:47:25.731Z"
   },
   {
    "duration": 26,
    "start_time": "2022-02-28T03:47:26.128Z"
   },
   {
    "duration": 8,
    "start_time": "2022-02-28T03:47:26.156Z"
   },
   {
    "duration": 15,
    "start_time": "2022-02-28T03:47:26.166Z"
   },
   {
    "duration": 16,
    "start_time": "2022-02-28T03:47:26.185Z"
   },
   {
    "duration": 41,
    "start_time": "2022-02-28T03:47:26.203Z"
   },
   {
    "duration": 7,
    "start_time": "2022-02-28T03:47:26.245Z"
   },
   {
    "duration": 6,
    "start_time": "2022-02-28T04:11:00.955Z"
   },
   {
    "duration": 270,
    "start_time": "2022-02-28T04:35:33.410Z"
   },
   {
    "duration": 7,
    "start_time": "2022-02-28T04:35:37.436Z"
   },
   {
    "duration": 56,
    "start_time": "2022-02-28T04:37:48.046Z"
   },
   {
    "duration": 251,
    "start_time": "2022-02-28T04:41:03.964Z"
   },
   {
    "duration": 247,
    "start_time": "2022-02-28T04:41:58.178Z"
   },
   {
    "duration": 8,
    "start_time": "2022-02-28T04:46:23.618Z"
   },
   {
    "duration": 973,
    "start_time": "2022-02-28T05:07:54.551Z"
   },
   {
    "duration": 272,
    "start_time": "2022-02-28T05:07:55.526Z"
   },
   {
    "duration": 204,
    "start_time": "2022-02-28T05:07:55.801Z"
   },
   {
    "duration": 150,
    "start_time": "2022-02-28T05:07:56.007Z"
   },
   {
    "duration": 18,
    "start_time": "2022-02-28T05:07:56.159Z"
   },
   {
    "duration": 33,
    "start_time": "2022-02-28T05:07:56.179Z"
   },
   {
    "duration": 106,
    "start_time": "2022-02-28T05:07:56.213Z"
   },
   {
    "duration": 68,
    "start_time": "2022-02-28T05:07:56.322Z"
   },
   {
    "duration": 80,
    "start_time": "2022-02-28T05:07:56.392Z"
   },
   {
    "duration": 32,
    "start_time": "2022-02-28T05:07:56.474Z"
   },
   {
    "duration": 31,
    "start_time": "2022-02-28T05:07:56.508Z"
   },
   {
    "duration": 15,
    "start_time": "2022-02-28T05:07:56.540Z"
   },
   {
    "duration": 266,
    "start_time": "2022-02-28T05:07:56.556Z"
   },
   {
    "duration": 34,
    "start_time": "2022-02-28T05:07:56.824Z"
   },
   {
    "duration": 10,
    "start_time": "2022-02-28T05:07:56.860Z"
   },
   {
    "duration": 16,
    "start_time": "2022-02-28T05:07:56.872Z"
   },
   {
    "duration": 50,
    "start_time": "2022-02-28T05:07:56.889Z"
   },
   {
    "duration": 10,
    "start_time": "2022-02-28T05:07:56.940Z"
   },
   {
    "duration": 31,
    "start_time": "2022-02-28T05:07:56.952Z"
   },
   {
    "duration": 88,
    "start_time": "2022-02-28T05:07:56.985Z"
   },
   {
    "duration": 422,
    "start_time": "2022-02-28T05:07:57.074Z"
   },
   {
    "duration": 419,
    "start_time": "2022-02-28T05:07:57.498Z"
   },
   {
    "duration": 413,
    "start_time": "2022-02-28T05:07:57.920Z"
   },
   {
    "duration": 19,
    "start_time": "2022-02-28T05:07:58.334Z"
   },
   {
    "duration": 8,
    "start_time": "2022-02-28T05:07:58.354Z"
   },
   {
    "duration": 16,
    "start_time": "2022-02-28T05:07:58.363Z"
   },
   {
    "duration": 16,
    "start_time": "2022-02-28T05:07:58.381Z"
   },
   {
    "duration": 44,
    "start_time": "2022-02-28T05:07:58.399Z"
   },
   {
    "duration": 8,
    "start_time": "2022-02-28T05:07:58.444Z"
   },
   {
    "duration": 1025,
    "start_time": "2022-02-28T19:25:42.212Z"
   },
   {
    "duration": 263,
    "start_time": "2022-02-28T19:25:43.239Z"
   },
   {
    "duration": 190,
    "start_time": "2022-02-28T19:25:43.504Z"
   },
   {
    "duration": 124,
    "start_time": "2022-02-28T19:25:43.695Z"
   },
   {
    "duration": 25,
    "start_time": "2022-02-28T19:25:43.821Z"
   },
   {
    "duration": 33,
    "start_time": "2022-02-28T19:25:43.848Z"
   },
   {
    "duration": 99,
    "start_time": "2022-02-28T19:25:43.883Z"
   },
   {
    "duration": 66,
    "start_time": "2022-02-28T19:25:43.984Z"
   },
   {
    "duration": 64,
    "start_time": "2022-02-28T19:25:44.052Z"
   },
   {
    "duration": 47,
    "start_time": "2022-02-28T19:25:44.118Z"
   },
   {
    "duration": 11,
    "start_time": "2022-02-28T19:25:44.166Z"
   },
   {
    "duration": 15,
    "start_time": "2022-02-28T19:25:44.178Z"
   },
   {
    "duration": 277,
    "start_time": "2022-02-28T19:25:44.194Z"
   },
   {
    "duration": 23,
    "start_time": "2022-02-28T19:25:44.473Z"
   },
   {
    "duration": 10,
    "start_time": "2022-02-28T19:25:44.498Z"
   },
   {
    "duration": 35,
    "start_time": "2022-02-28T19:25:44.509Z"
   },
   {
    "duration": 11,
    "start_time": "2022-02-28T19:25:44.545Z"
   },
   {
    "duration": 10,
    "start_time": "2022-02-28T19:25:44.558Z"
   },
   {
    "duration": 68,
    "start_time": "2022-02-28T19:25:44.570Z"
   },
   {
    "duration": 61,
    "start_time": "2022-02-28T19:25:44.640Z"
   },
   {
    "duration": 441,
    "start_time": "2022-02-28T19:25:44.702Z"
   },
   {
    "duration": 428,
    "start_time": "2022-02-28T19:25:45.145Z"
   },
   {
    "duration": 409,
    "start_time": "2022-02-28T19:25:45.576Z"
   },
   {
    "duration": 19,
    "start_time": "2022-02-28T19:25:45.987Z"
   },
   {
    "duration": 9,
    "start_time": "2022-02-28T19:25:46.007Z"
   },
   {
    "duration": 17,
    "start_time": "2022-02-28T19:25:46.038Z"
   },
   {
    "duration": 17,
    "start_time": "2022-02-28T19:25:46.057Z"
   },
   {
    "duration": 8,
    "start_time": "2022-02-28T19:25:46.076Z"
   },
   {
    "duration": 8,
    "start_time": "2022-02-28T19:25:46.086Z"
   },
   {
    "duration": 945,
    "start_time": "2022-02-28T21:35:24.870Z"
   },
   {
    "duration": 267,
    "start_time": "2022-02-28T21:35:25.817Z"
   },
   {
    "duration": 196,
    "start_time": "2022-02-28T21:35:26.086Z"
   },
   {
    "duration": 138,
    "start_time": "2022-02-28T21:35:26.284Z"
   },
   {
    "duration": 20,
    "start_time": "2022-02-28T21:35:26.424Z"
   },
   {
    "duration": 32,
    "start_time": "2022-02-28T21:35:26.445Z"
   },
   {
    "duration": 102,
    "start_time": "2022-02-28T21:35:26.479Z"
   },
   {
    "duration": 69,
    "start_time": "2022-02-28T21:35:26.583Z"
   },
   {
    "duration": 63,
    "start_time": "2022-02-28T21:35:26.654Z"
   },
   {
    "duration": 39,
    "start_time": "2022-02-28T21:35:26.719Z"
   },
   {
    "duration": 10,
    "start_time": "2022-02-28T21:35:26.759Z"
   },
   {
    "duration": 13,
    "start_time": "2022-02-28T21:35:26.770Z"
   },
   {
    "duration": 280,
    "start_time": "2022-02-28T21:35:26.785Z"
   },
   {
    "duration": 24,
    "start_time": "2022-02-28T21:35:27.066Z"
   },
   {
    "duration": 10,
    "start_time": "2022-02-28T21:35:27.092Z"
   },
   {
    "duration": 37,
    "start_time": "2022-02-28T21:35:27.104Z"
   },
   {
    "duration": 9,
    "start_time": "2022-02-28T21:35:27.143Z"
   },
   {
    "duration": 11,
    "start_time": "2022-02-28T21:35:27.154Z"
   },
   {
    "duration": 30,
    "start_time": "2022-02-28T21:35:27.167Z"
   },
   {
    "duration": 60,
    "start_time": "2022-02-28T21:35:27.233Z"
   },
   {
    "duration": 392,
    "start_time": "2022-02-28T21:35:27.295Z"
   },
   {
    "duration": 387,
    "start_time": "2022-02-28T21:35:27.689Z"
   },
   {
    "duration": 389,
    "start_time": "2022-02-28T21:35:28.079Z"
   },
   {
    "duration": 19,
    "start_time": "2022-02-28T21:35:28.469Z"
   },
   {
    "duration": 7,
    "start_time": "2022-02-28T21:35:28.489Z"
   },
   {
    "duration": 36,
    "start_time": "2022-02-28T21:35:28.498Z"
   },
   {
    "duration": 17,
    "start_time": "2022-02-28T21:35:28.536Z"
   },
   {
    "duration": 8,
    "start_time": "2022-02-28T21:35:28.555Z"
   },
   {
    "duration": 7,
    "start_time": "2022-02-28T21:35:28.565Z"
   },
   {
    "duration": 16,
    "start_time": "2022-02-28T21:35:44.224Z"
   },
   {
    "duration": 9,
    "start_time": "2022-02-28T21:35:49.742Z"
   },
   {
    "duration": 5,
    "start_time": "2022-02-28T21:40:34.365Z"
   },
   {
    "duration": 8,
    "start_time": "2022-02-28T21:44:04.630Z"
   },
   {
    "duration": 9,
    "start_time": "2022-02-28T21:44:08.215Z"
   },
   {
    "duration": 1097,
    "start_time": "2022-03-01T12:05:49.357Z"
   },
   {
    "duration": 278,
    "start_time": "2022-03-01T12:05:50.456Z"
   },
   {
    "duration": 211,
    "start_time": "2022-03-01T12:05:50.737Z"
   },
   {
    "duration": 144,
    "start_time": "2022-03-01T12:05:50.959Z"
   },
   {
    "duration": 20,
    "start_time": "2022-03-01T12:05:51.106Z"
   },
   {
    "duration": 55,
    "start_time": "2022-03-01T12:05:51.128Z"
   },
   {
    "duration": 103,
    "start_time": "2022-03-01T12:05:51.184Z"
   },
   {
    "duration": 76,
    "start_time": "2022-03-01T12:05:51.290Z"
   },
   {
    "duration": 72,
    "start_time": "2022-03-01T12:05:51.368Z"
   },
   {
    "duration": 48,
    "start_time": "2022-03-01T12:05:51.442Z"
   },
   {
    "duration": 12,
    "start_time": "2022-03-01T12:05:51.492Z"
   },
   {
    "duration": 15,
    "start_time": "2022-03-01T12:05:51.505Z"
   },
   {
    "duration": 317,
    "start_time": "2022-03-01T12:05:51.522Z"
   },
   {
    "duration": 34,
    "start_time": "2022-03-01T12:05:51.840Z"
   },
   {
    "duration": 9,
    "start_time": "2022-03-01T12:05:51.876Z"
   },
   {
    "duration": 15,
    "start_time": "2022-03-01T12:05:51.887Z"
   },
   {
    "duration": 10,
    "start_time": "2022-03-01T12:05:51.904Z"
   },
   {
    "duration": 47,
    "start_time": "2022-03-01T12:05:51.915Z"
   },
   {
    "duration": 34,
    "start_time": "2022-03-01T12:05:51.963Z"
   },
   {
    "duration": 87,
    "start_time": "2022-03-01T12:05:51.999Z"
   },
   {
    "duration": 477,
    "start_time": "2022-03-01T12:05:52.088Z"
   },
   {
    "duration": 469,
    "start_time": "2022-03-01T12:05:52.567Z"
   },
   {
    "duration": 448,
    "start_time": "2022-03-01T12:05:53.039Z"
   },
   {
    "duration": 18,
    "start_time": "2022-03-01T12:05:53.488Z"
   },
   {
    "duration": 8,
    "start_time": "2022-03-01T12:05:53.508Z"
   },
   {
    "duration": 18,
    "start_time": "2022-03-01T12:05:53.517Z"
   },
   {
    "duration": 18,
    "start_time": "2022-03-01T12:05:53.559Z"
   },
   {
    "duration": 8,
    "start_time": "2022-03-01T12:05:53.578Z"
   },
   {
    "duration": 7,
    "start_time": "2022-03-01T12:05:53.587Z"
   },
   {
    "duration": 8,
    "start_time": "2022-03-01T12:24:04.112Z"
   },
   {
    "duration": 242,
    "start_time": "2022-03-01T12:24:28.011Z"
   },
   {
    "duration": 499,
    "start_time": "2022-03-01T12:27:32.711Z"
   },
   {
    "duration": 252,
    "start_time": "2022-03-01T12:27:39.492Z"
   },
   {
    "duration": 558,
    "start_time": "2022-03-01T12:31:02.113Z"
   },
   {
    "duration": 660,
    "start_time": "2022-03-01T12:31:24.679Z"
   },
   {
    "duration": 233,
    "start_time": "2022-03-01T12:32:53.707Z"
   },
   {
    "duration": 252,
    "start_time": "2022-03-01T12:33:06.480Z"
   },
   {
    "duration": 236,
    "start_time": "2022-03-01T12:33:35.302Z"
   },
   {
    "duration": 1079,
    "start_time": "2022-03-01T12:37:31.861Z"
   },
   {
    "duration": 259,
    "start_time": "2022-03-01T12:37:32.942Z"
   },
   {
    "duration": 202,
    "start_time": "2022-03-01T12:37:33.203Z"
   },
   {
    "duration": 146,
    "start_time": "2022-03-01T12:37:33.407Z"
   },
   {
    "duration": 19,
    "start_time": "2022-03-01T12:37:33.558Z"
   },
   {
    "duration": 45,
    "start_time": "2022-03-01T12:37:33.579Z"
   },
   {
    "duration": 101,
    "start_time": "2022-03-01T12:37:33.625Z"
   },
   {
    "duration": 66,
    "start_time": "2022-03-01T12:37:33.729Z"
   },
   {
    "duration": 84,
    "start_time": "2022-03-01T12:37:33.797Z"
   },
   {
    "duration": 34,
    "start_time": "2022-03-01T12:37:33.882Z"
   },
   {
    "duration": 11,
    "start_time": "2022-03-01T12:37:33.918Z"
   },
   {
    "duration": 35,
    "start_time": "2022-03-01T12:37:33.931Z"
   },
   {
    "duration": 301,
    "start_time": "2022-03-01T12:37:33.968Z"
   },
   {
    "duration": 30,
    "start_time": "2022-03-01T12:37:34.271Z"
   },
   {
    "duration": 10,
    "start_time": "2022-03-01T12:37:34.303Z"
   },
   {
    "duration": 16,
    "start_time": "2022-03-01T12:37:34.315Z"
   },
   {
    "duration": 11,
    "start_time": "2022-03-01T12:37:34.360Z"
   },
   {
    "duration": 11,
    "start_time": "2022-03-01T12:37:34.373Z"
   },
   {
    "duration": 35,
    "start_time": "2022-03-01T12:37:34.386Z"
   },
   {
    "duration": 100,
    "start_time": "2022-03-01T12:37:34.422Z"
   },
   {
    "duration": 272,
    "start_time": "2022-03-01T12:37:34.523Z"
   },
   {
    "duration": 488,
    "start_time": "2022-03-01T12:37:34.797Z"
   },
   {
    "duration": 259,
    "start_time": "2022-03-01T12:37:35.288Z"
   },
   {
    "duration": 20,
    "start_time": "2022-03-01T12:37:35.549Z"
   },
   {
    "duration": 8,
    "start_time": "2022-03-01T12:37:35.571Z"
   },
   {
    "duration": 18,
    "start_time": "2022-03-01T12:37:35.581Z"
   },
   {
    "duration": 18,
    "start_time": "2022-03-01T12:37:35.601Z"
   },
   {
    "duration": 45,
    "start_time": "2022-03-01T12:37:35.621Z"
   },
   {
    "duration": 9,
    "start_time": "2022-03-01T12:37:35.668Z"
   },
   {
    "duration": 541,
    "start_time": "2022-03-01T12:37:47.621Z"
   },
   {
    "duration": 455,
    "start_time": "2022-03-01T12:38:27.427Z"
   },
   {
    "duration": 461,
    "start_time": "2022-03-01T12:38:59.272Z"
   },
   {
    "duration": 424,
    "start_time": "2022-03-01T12:39:40.582Z"
   },
   {
    "duration": 514,
    "start_time": "2022-03-01T12:39:45.507Z"
   },
   {
    "duration": 417,
    "start_time": "2022-03-01T12:39:56.963Z"
   },
   {
    "duration": 249,
    "start_time": "2022-03-01T12:41:40.682Z"
   },
   {
    "duration": 589,
    "start_time": "2022-03-01T12:41:55.421Z"
   },
   {
    "duration": 249,
    "start_time": "2022-03-01T12:42:04.451Z"
   },
   {
    "duration": 543,
    "start_time": "2022-03-01T12:42:11.063Z"
   },
   {
    "duration": 462,
    "start_time": "2022-03-01T12:42:20.596Z"
   },
   {
    "duration": 279,
    "start_time": "2022-03-01T12:42:46.651Z"
   },
   {
    "duration": 270,
    "start_time": "2022-03-01T12:43:08.716Z"
   },
   {
    "duration": 272,
    "start_time": "2022-03-01T12:44:09.844Z"
   },
   {
    "duration": 276,
    "start_time": "2022-03-01T12:44:37.928Z"
   },
   {
    "duration": 271,
    "start_time": "2022-03-01T12:44:55.988Z"
   },
   {
    "duration": 346,
    "start_time": "2022-03-01T12:45:20.228Z"
   },
   {
    "duration": 268,
    "start_time": "2022-03-01T12:48:17.863Z"
   },
   {
    "duration": 266,
    "start_time": "2022-03-01T12:48:30.093Z"
   },
   {
    "duration": 403,
    "start_time": "2022-03-01T12:49:10.670Z"
   },
   {
    "duration": 263,
    "start_time": "2022-03-01T12:49:59.295Z"
   },
   {
    "duration": 269,
    "start_time": "2022-03-01T12:50:21.931Z"
   },
   {
    "duration": 268,
    "start_time": "2022-03-01T13:48:03.443Z"
   },
   {
    "duration": 264,
    "start_time": "2022-03-01T13:50:11.526Z"
   },
   {
    "duration": 973,
    "start_time": "2022-03-02T15:53:53.774Z"
   },
   {
    "duration": 253,
    "start_time": "2022-03-02T15:53:54.749Z"
   },
   {
    "duration": 196,
    "start_time": "2022-03-02T15:53:55.004Z"
   },
   {
    "duration": 149,
    "start_time": "2022-03-02T15:53:55.202Z"
   },
   {
    "duration": 19,
    "start_time": "2022-03-02T15:53:55.353Z"
   },
   {
    "duration": 42,
    "start_time": "2022-03-02T15:53:55.374Z"
   },
   {
    "duration": 104,
    "start_time": "2022-03-02T15:53:55.418Z"
   },
   {
    "duration": 67,
    "start_time": "2022-03-02T15:53:55.524Z"
   },
   {
    "duration": 82,
    "start_time": "2022-03-02T15:53:55.594Z"
   },
   {
    "duration": 30,
    "start_time": "2022-03-02T15:53:55.678Z"
   },
   {
    "duration": 29,
    "start_time": "2022-03-02T15:53:55.710Z"
   },
   {
    "duration": 14,
    "start_time": "2022-03-02T15:53:55.740Z"
   },
   {
    "duration": 267,
    "start_time": "2022-03-02T15:53:55.756Z"
   },
   {
    "duration": 31,
    "start_time": "2022-03-02T15:53:56.025Z"
   },
   {
    "duration": 11,
    "start_time": "2022-03-02T15:53:56.058Z"
   },
   {
    "duration": 15,
    "start_time": "2022-03-02T15:53:56.071Z"
   },
   {
    "duration": 11,
    "start_time": "2022-03-02T15:53:56.088Z"
   },
   {
    "duration": 11,
    "start_time": "2022-03-02T15:53:56.137Z"
   },
   {
    "duration": 31,
    "start_time": "2022-03-02T15:53:56.150Z"
   },
   {
    "duration": 85,
    "start_time": "2022-03-02T15:53:56.183Z"
   },
   {
    "duration": 255,
    "start_time": "2022-03-02T15:53:56.269Z"
   },
   {
    "duration": 250,
    "start_time": "2022-03-02T15:53:56.526Z"
   },
   {
    "duration": 244,
    "start_time": "2022-03-02T15:53:56.778Z"
   },
   {
    "duration": 23,
    "start_time": "2022-03-02T15:53:57.024Z"
   },
   {
    "duration": 9,
    "start_time": "2022-03-02T15:53:57.049Z"
   },
   {
    "duration": 17,
    "start_time": "2022-03-02T15:53:57.060Z"
   },
   {
    "duration": 16,
    "start_time": "2022-03-02T15:53:57.080Z"
   },
   {
    "duration": 41,
    "start_time": "2022-03-02T15:53:57.098Z"
   },
   {
    "duration": 8,
    "start_time": "2022-03-02T15:53:57.141Z"
   },
   {
    "duration": 293,
    "start_time": "2022-03-04T09:12:12.593Z"
   },
   {
    "duration": 1320,
    "start_time": "2022-03-04T09:12:21.623Z"
   },
   {
    "duration": 365,
    "start_time": "2022-03-04T09:12:22.946Z"
   },
   {
    "duration": 281,
    "start_time": "2022-03-04T09:12:23.315Z"
   },
   {
    "duration": 188,
    "start_time": "2022-03-04T09:12:23.599Z"
   },
   {
    "duration": 27,
    "start_time": "2022-03-04T09:12:23.789Z"
   },
   {
    "duration": 42,
    "start_time": "2022-03-04T09:12:23.819Z"
   },
   {
    "duration": 170,
    "start_time": "2022-03-04T09:12:23.863Z"
   },
   {
    "duration": 105,
    "start_time": "2022-03-04T09:12:24.035Z"
   },
   {
    "duration": 109,
    "start_time": "2022-03-04T09:12:24.144Z"
   },
   {
    "duration": 61,
    "start_time": "2022-03-04T09:12:24.256Z"
   },
   {
    "duration": 15,
    "start_time": "2022-03-04T09:12:24.320Z"
   },
   {
    "duration": 28,
    "start_time": "2022-03-04T09:12:24.337Z"
   },
   {
    "duration": 464,
    "start_time": "2022-03-04T09:12:24.387Z"
   },
   {
    "duration": 9,
    "start_time": "2022-03-04T09:12:24.853Z"
   },
   {
    "duration": 56,
    "start_time": "2022-03-04T09:12:24.864Z"
   },
   {
    "duration": 16,
    "start_time": "2022-03-04T09:12:24.922Z"
   },
   {
    "duration": 50,
    "start_time": "2022-03-04T09:12:24.940Z"
   },
   {
    "duration": 16,
    "start_time": "2022-03-04T09:12:24.992Z"
   },
   {
    "duration": 15,
    "start_time": "2022-03-04T09:12:25.010Z"
   },
   {
    "duration": 106,
    "start_time": "2022-03-04T09:12:25.027Z"
   },
   {
    "duration": 120,
    "start_time": "2022-03-04T09:12:25.136Z"
   },
   {
    "duration": 409,
    "start_time": "2022-03-04T09:12:25.258Z"
   },
   {
    "duration": 408,
    "start_time": "2022-03-04T09:12:25.669Z"
   },
   {
    "duration": 405,
    "start_time": "2022-03-04T09:12:26.079Z"
   },
   {
    "duration": 28,
    "start_time": "2022-03-04T09:12:26.487Z"
   },
   {
    "duration": 12,
    "start_time": "2022-03-04T09:12:26.517Z"
   },
   {
    "duration": 61,
    "start_time": "2022-03-04T09:12:26.533Z"
   },
   {
    "duration": 27,
    "start_time": "2022-03-04T09:12:26.597Z"
   },
   {
    "duration": 12,
    "start_time": "2022-03-04T09:12:26.626Z"
   },
   {
    "duration": 12,
    "start_time": "2022-03-04T09:12:26.640Z"
   },
   {
    "duration": 273,
    "start_time": "2022-03-04T09:15:45.258Z"
   },
   {
    "duration": 449,
    "start_time": "2022-03-04T09:18:52.859Z"
   },
   {
    "duration": 295,
    "start_time": "2022-03-04T09:19:18.939Z"
   },
   {
    "duration": 90,
    "start_time": "2022-03-04T09:19:51.314Z"
   },
   {
    "duration": 1367,
    "start_time": "2022-03-04T09:20:04.484Z"
   },
   {
    "duration": 455,
    "start_time": "2022-03-04T09:20:05.854Z"
   },
   {
    "duration": 310,
    "start_time": "2022-03-04T09:20:06.313Z"
   },
   {
    "duration": 222,
    "start_time": "2022-03-04T09:20:06.627Z"
   },
   {
    "duration": 25,
    "start_time": "2022-03-04T09:20:06.852Z"
   },
   {
    "duration": 43,
    "start_time": "2022-03-04T09:20:06.888Z"
   },
   {
    "duration": 154,
    "start_time": "2022-03-04T09:20:06.934Z"
   },
   {
    "duration": 103,
    "start_time": "2022-03-04T09:20:07.092Z"
   },
   {
    "duration": 121,
    "start_time": "2022-03-04T09:20:07.199Z"
   },
   {
    "duration": 369,
    "start_time": "2022-03-04T09:20:07.322Z"
   },
   {
    "duration": -112,
    "start_time": "2022-03-04T09:20:07.806Z"
   },
   {
    "duration": -113,
    "start_time": "2022-03-04T09:20:07.809Z"
   },
   {
    "duration": -119,
    "start_time": "2022-03-04T09:20:07.817Z"
   },
   {
    "duration": -120,
    "start_time": "2022-03-04T09:20:07.819Z"
   },
   {
    "duration": -121,
    "start_time": "2022-03-04T09:20:07.821Z"
   },
   {
    "duration": -121,
    "start_time": "2022-03-04T09:20:07.823Z"
   },
   {
    "duration": -122,
    "start_time": "2022-03-04T09:20:07.825Z"
   },
   {
    "duration": -123,
    "start_time": "2022-03-04T09:20:07.827Z"
   },
   {
    "duration": -125,
    "start_time": "2022-03-04T09:20:07.831Z"
   },
   {
    "duration": -125,
    "start_time": "2022-03-04T09:20:07.833Z"
   },
   {
    "duration": -126,
    "start_time": "2022-03-04T09:20:07.835Z"
   },
   {
    "duration": -128,
    "start_time": "2022-03-04T09:20:07.838Z"
   },
   {
    "duration": -133,
    "start_time": "2022-03-04T09:20:07.845Z"
   },
   {
    "duration": -134,
    "start_time": "2022-03-04T09:20:07.847Z"
   },
   {
    "duration": -134,
    "start_time": "2022-03-04T09:20:07.849Z"
   },
   {
    "duration": -134,
    "start_time": "2022-03-04T09:20:07.850Z"
   },
   {
    "duration": -135,
    "start_time": "2022-03-04T09:20:07.852Z"
   },
   {
    "duration": -136,
    "start_time": "2022-03-04T09:20:07.854Z"
   },
   {
    "duration": -135,
    "start_time": "2022-03-04T09:20:07.855Z"
   },
   {
    "duration": -163,
    "start_time": "2022-03-04T09:20:07.885Z"
   },
   {
    "duration": 1310,
    "start_time": "2022-03-04T09:20:46.417Z"
   },
   {
    "duration": 375,
    "start_time": "2022-03-04T09:20:47.730Z"
   },
   {
    "duration": 264,
    "start_time": "2022-03-04T09:20:48.109Z"
   },
   {
    "duration": 188,
    "start_time": "2022-03-04T09:20:48.376Z"
   },
   {
    "duration": 34,
    "start_time": "2022-03-04T09:20:48.567Z"
   },
   {
    "duration": 52,
    "start_time": "2022-03-04T09:20:48.603Z"
   },
   {
    "duration": 206,
    "start_time": "2022-03-04T09:20:48.657Z"
   },
   {
    "duration": 122,
    "start_time": "2022-03-04T09:20:48.866Z"
   },
   {
    "duration": 106,
    "start_time": "2022-03-04T09:20:48.992Z"
   },
   {
    "duration": 50,
    "start_time": "2022-03-04T09:20:49.101Z"
   },
   {
    "duration": 35,
    "start_time": "2022-03-04T09:20:49.153Z"
   },
   {
    "duration": 22,
    "start_time": "2022-03-04T09:20:49.191Z"
   },
   {
    "duration": 497,
    "start_time": "2022-03-04T09:20:49.215Z"
   },
   {
    "duration": 9,
    "start_time": "2022-03-04T09:20:49.714Z"
   },
   {
    "duration": 67,
    "start_time": "2022-03-04T09:20:49.725Z"
   },
   {
    "duration": 15,
    "start_time": "2022-03-04T09:20:49.795Z"
   },
   {
    "duration": 24,
    "start_time": "2022-03-04T09:20:49.813Z"
   },
   {
    "duration": 20,
    "start_time": "2022-03-04T09:20:49.887Z"
   },
   {
    "duration": 16,
    "start_time": "2022-03-04T09:20:49.909Z"
   },
   {
    "duration": 101,
    "start_time": "2022-03-04T09:20:49.927Z"
   },
   {
    "duration": 122,
    "start_time": "2022-03-04T09:20:50.030Z"
   },
   {
    "duration": 413,
    "start_time": "2022-03-04T09:20:50.155Z"
   },
   {
    "duration": 404,
    "start_time": "2022-03-04T09:20:50.571Z"
   },
   {
    "duration": 653,
    "start_time": "2022-03-04T09:20:50.979Z"
   },
   {
    "duration": 51,
    "start_time": "2022-03-04T09:20:51.636Z"
   },
   {
    "duration": 14,
    "start_time": "2022-03-04T09:20:51.690Z"
   },
   {
    "duration": 27,
    "start_time": "2022-03-04T09:20:51.710Z"
   },
   {
    "duration": 67,
    "start_time": "2022-03-04T09:20:51.741Z"
   },
   {
    "duration": 16,
    "start_time": "2022-03-04T09:20:51.811Z"
   },
   {
    "duration": 14,
    "start_time": "2022-03-04T09:20:51.829Z"
   },
   {
    "duration": 93,
    "start_time": "2022-03-04T09:22:54.863Z"
   },
   {
    "duration": 2689,
    "start_time": "2022-03-04T09:23:03.961Z"
   },
   {
    "duration": 374,
    "start_time": "2022-03-04T09:23:06.653Z"
   },
   {
    "duration": 287,
    "start_time": "2022-03-04T09:23:07.031Z"
   },
   {
    "duration": 206,
    "start_time": "2022-03-04T09:23:07.321Z"
   },
   {
    "duration": 29,
    "start_time": "2022-03-04T09:23:07.530Z"
   },
   {
    "duration": 66,
    "start_time": "2022-03-04T09:23:07.562Z"
   },
   {
    "duration": 171,
    "start_time": "2022-03-04T09:23:07.631Z"
   },
   {
    "duration": 159,
    "start_time": "2022-03-04T09:23:07.808Z"
   },
   {
    "duration": 181,
    "start_time": "2022-03-04T09:23:07.972Z"
   },
   {
    "duration": 67,
    "start_time": "2022-03-04T09:23:08.157Z"
   },
   {
    "duration": 18,
    "start_time": "2022-03-04T09:23:08.227Z"
   },
   {
    "duration": 52,
    "start_time": "2022-03-04T09:23:08.248Z"
   },
   {
    "duration": 491,
    "start_time": "2022-03-04T09:23:08.303Z"
   },
   {
    "duration": 11,
    "start_time": "2022-03-04T09:23:08.797Z"
   },
   {
    "duration": 44,
    "start_time": "2022-03-04T09:23:08.811Z"
   },
   {
    "duration": 25,
    "start_time": "2022-03-04T09:23:08.886Z"
   },
   {
    "duration": 38,
    "start_time": "2022-03-04T09:23:08.914Z"
   },
   {
    "duration": 46,
    "start_time": "2022-03-04T09:23:08.955Z"
   },
   {
    "duration": 18,
    "start_time": "2022-03-04T09:23:09.004Z"
   },
   {
    "duration": 134,
    "start_time": "2022-03-04T09:23:09.025Z"
   },
   {
    "duration": 192,
    "start_time": "2022-03-04T09:23:09.162Z"
   },
   {
    "duration": 404,
    "start_time": "2022-03-04T09:23:09.356Z"
   },
   {
    "duration": 398,
    "start_time": "2022-03-04T09:23:09.764Z"
   },
   {
    "duration": 400,
    "start_time": "2022-03-04T09:23:10.165Z"
   },
   {
    "duration": 38,
    "start_time": "2022-03-04T09:23:10.568Z"
   },
   {
    "duration": 12,
    "start_time": "2022-03-04T09:23:10.608Z"
   },
   {
    "duration": 26,
    "start_time": "2022-03-04T09:23:10.622Z"
   },
   {
    "duration": 61,
    "start_time": "2022-03-04T09:23:10.651Z"
   },
   {
    "duration": 12,
    "start_time": "2022-03-04T09:23:10.714Z"
   },
   {
    "duration": 13,
    "start_time": "2022-03-04T09:23:10.728Z"
   },
   {
    "duration": 391,
    "start_time": "2022-03-04T09:32:06.582Z"
   },
   {
    "duration": 1334,
    "start_time": "2022-03-04T09:32:12.310Z"
   },
   {
    "duration": 378,
    "start_time": "2022-03-04T09:32:13.648Z"
   },
   {
    "duration": 282,
    "start_time": "2022-03-04T09:32:14.029Z"
   },
   {
    "duration": 197,
    "start_time": "2022-03-04T09:32:14.314Z"
   },
   {
    "duration": 27,
    "start_time": "2022-03-04T09:32:14.513Z"
   },
   {
    "duration": 57,
    "start_time": "2022-03-04T09:32:14.542Z"
   },
   {
    "duration": 162,
    "start_time": "2022-03-04T09:32:14.601Z"
   },
   {
    "duration": 94,
    "start_time": "2022-03-04T09:32:14.767Z"
   },
   {
    "duration": 127,
    "start_time": "2022-03-04T09:32:14.864Z"
   },
   {
    "duration": 55,
    "start_time": "2022-03-04T09:32:14.994Z"
   },
   {
    "duration": 37,
    "start_time": "2022-03-04T09:32:15.051Z"
   },
   {
    "duration": 23,
    "start_time": "2022-03-04T09:32:15.091Z"
   },
   {
    "duration": 641,
    "start_time": "2022-03-04T09:32:15.117Z"
   },
   {
    "duration": 25,
    "start_time": "2022-03-04T09:32:15.761Z"
   },
   {
    "duration": 42,
    "start_time": "2022-03-04T09:32:15.789Z"
   },
   {
    "duration": 16,
    "start_time": "2022-03-04T09:32:15.834Z"
   },
   {
    "duration": 51,
    "start_time": "2022-03-04T09:32:15.852Z"
   },
   {
    "duration": 18,
    "start_time": "2022-03-04T09:32:15.906Z"
   },
   {
    "duration": 66,
    "start_time": "2022-03-04T09:32:15.927Z"
   },
   {
    "duration": 101,
    "start_time": "2022-03-04T09:32:15.996Z"
   },
   {
    "duration": 121,
    "start_time": "2022-03-04T09:32:16.100Z"
   },
   {
    "duration": 420,
    "start_time": "2022-03-04T09:32:16.223Z"
   },
   {
    "duration": 434,
    "start_time": "2022-03-04T09:32:16.645Z"
   },
   {
    "duration": 392,
    "start_time": "2022-03-04T09:32:17.082Z"
   },
   {
    "duration": 38,
    "start_time": "2022-03-04T09:32:17.476Z"
   },
   {
    "duration": 12,
    "start_time": "2022-03-04T09:32:17.519Z"
   },
   {
    "duration": 60,
    "start_time": "2022-03-04T09:32:17.533Z"
   },
   {
    "duration": 29,
    "start_time": "2022-03-04T09:32:17.596Z"
   },
   {
    "duration": 12,
    "start_time": "2022-03-04T09:32:17.627Z"
   },
   {
    "duration": 48,
    "start_time": "2022-03-04T09:32:17.642Z"
   },
   {
    "duration": 33,
    "start_time": "2022-03-04T09:39:07.380Z"
   },
   {
    "duration": 11,
    "start_time": "2022-03-04T09:39:27.007Z"
   },
   {
    "duration": 1307,
    "start_time": "2022-03-04T09:39:34.140Z"
   },
   {
    "duration": 359,
    "start_time": "2022-03-04T09:39:35.450Z"
   },
   {
    "duration": 287,
    "start_time": "2022-03-04T09:39:35.812Z"
   },
   {
    "duration": 190,
    "start_time": "2022-03-04T09:39:36.102Z"
   },
   {
    "duration": 27,
    "start_time": "2022-03-04T09:39:36.295Z"
   },
   {
    "duration": 41,
    "start_time": "2022-03-04T09:39:36.324Z"
   },
   {
    "duration": 166,
    "start_time": "2022-03-04T09:39:36.367Z"
   },
   {
    "duration": 99,
    "start_time": "2022-03-04T09:39:36.536Z"
   },
   {
    "duration": 115,
    "start_time": "2022-03-04T09:39:36.638Z"
   },
   {
    "duration": 68,
    "start_time": "2022-03-04T09:39:36.755Z"
   },
   {
    "duration": 12,
    "start_time": "2022-03-04T09:39:36.826Z"
   },
   {
    "duration": 22,
    "start_time": "2022-03-04T09:39:36.841Z"
   },
   {
    "duration": 474,
    "start_time": "2022-03-04T09:39:36.886Z"
   },
   {
    "duration": 8,
    "start_time": "2022-03-04T09:39:37.362Z"
   },
   {
    "duration": 11,
    "start_time": "2022-03-04T09:39:37.387Z"
   },
   {
    "duration": 43,
    "start_time": "2022-03-04T09:39:37.400Z"
   },
   {
    "duration": 55,
    "start_time": "2022-03-04T09:39:37.447Z"
   },
   {
    "duration": 24,
    "start_time": "2022-03-04T09:39:37.505Z"
   },
   {
    "duration": 59,
    "start_time": "2022-03-04T09:39:37.531Z"
   },
   {
    "duration": 19,
    "start_time": "2022-03-04T09:39:37.592Z"
   },
   {
    "duration": 92,
    "start_time": "2022-03-04T09:39:37.614Z"
   },
   {
    "duration": 121,
    "start_time": "2022-03-04T09:39:37.709Z"
   },
   {
    "duration": 435,
    "start_time": "2022-03-04T09:39:37.837Z"
   },
   {
    "duration": 416,
    "start_time": "2022-03-04T09:39:38.274Z"
   },
   {
    "duration": 413,
    "start_time": "2022-03-04T09:39:38.692Z"
   },
   {
    "duration": 30,
    "start_time": "2022-03-04T09:39:39.108Z"
   },
   {
    "duration": 12,
    "start_time": "2022-03-04T09:39:39.141Z"
   },
   {
    "duration": 55,
    "start_time": "2022-03-04T09:39:39.155Z"
   },
   {
    "duration": 27,
    "start_time": "2022-03-04T09:39:39.213Z"
   },
   {
    "duration": 46,
    "start_time": "2022-03-04T09:39:39.242Z"
   },
   {
    "duration": 13,
    "start_time": "2022-03-04T09:39:39.291Z"
   },
   {
    "duration": 36,
    "start_time": "2022-03-04T09:42:07.321Z"
   },
   {
    "duration": 23,
    "start_time": "2022-03-04T09:43:03.712Z"
   },
   {
    "duration": 20,
    "start_time": "2022-03-04T09:43:22.790Z"
   },
   {
    "duration": 88,
    "start_time": "2022-03-04T09:44:03.370Z"
   },
   {
    "duration": 86,
    "start_time": "2022-03-04T09:44:17.428Z"
   },
   {
    "duration": 87,
    "start_time": "2022-03-04T09:44:26.357Z"
   },
   {
    "duration": 22,
    "start_time": "2022-03-04T09:45:42.893Z"
   },
   {
    "duration": 1401,
    "start_time": "2022-03-04T09:49:07.393Z"
   },
   {
    "duration": 359,
    "start_time": "2022-03-04T09:49:08.796Z"
   },
   {
    "duration": 280,
    "start_time": "2022-03-04T09:49:09.158Z"
   },
   {
    "duration": 191,
    "start_time": "2022-03-04T09:49:09.441Z"
   },
   {
    "duration": 28,
    "start_time": "2022-03-04T09:49:09.634Z"
   },
   {
    "duration": 47,
    "start_time": "2022-03-04T09:49:09.664Z"
   },
   {
    "duration": 165,
    "start_time": "2022-03-04T09:49:09.713Z"
   },
   {
    "duration": 101,
    "start_time": "2022-03-04T09:49:09.888Z"
   },
   {
    "duration": 112,
    "start_time": "2022-03-04T09:49:09.992Z"
   },
   {
    "duration": 54,
    "start_time": "2022-03-04T09:49:10.106Z"
   },
   {
    "duration": 35,
    "start_time": "2022-03-04T09:49:10.162Z"
   },
   {
    "duration": 22,
    "start_time": "2022-03-04T09:49:10.200Z"
   },
   {
    "duration": 512,
    "start_time": "2022-03-04T09:49:10.225Z"
   },
   {
    "duration": 9,
    "start_time": "2022-03-04T09:49:10.741Z"
   },
   {
    "duration": 53,
    "start_time": "2022-03-04T09:49:10.753Z"
   },
   {
    "duration": 43,
    "start_time": "2022-03-04T09:49:10.808Z"
   },
   {
    "duration": 41,
    "start_time": "2022-03-04T09:49:10.853Z"
   },
   {
    "duration": 24,
    "start_time": "2022-03-04T09:49:10.896Z"
   },
   {
    "duration": 18,
    "start_time": "2022-03-04T09:49:10.922Z"
   },
   {
    "duration": 17,
    "start_time": "2022-03-04T09:49:10.988Z"
   },
   {
    "duration": 92,
    "start_time": "2022-03-04T09:49:11.007Z"
   },
   {
    "duration": 120,
    "start_time": "2022-03-04T09:49:11.102Z"
   },
   {
    "duration": 417,
    "start_time": "2022-03-04T09:49:11.226Z"
   },
   {
    "duration": 416,
    "start_time": "2022-03-04T09:49:11.646Z"
   },
   {
    "duration": 408,
    "start_time": "2022-03-04T09:49:12.065Z"
   },
   {
    "duration": 36,
    "start_time": "2022-03-04T09:49:12.475Z"
   },
   {
    "duration": 11,
    "start_time": "2022-03-04T09:49:12.513Z"
   },
   {
    "duration": 61,
    "start_time": "2022-03-04T09:49:12.527Z"
   },
   {
    "duration": 28,
    "start_time": "2022-03-04T09:49:12.591Z"
   },
   {
    "duration": 15,
    "start_time": "2022-03-04T09:49:12.622Z"
   },
   {
    "duration": 50,
    "start_time": "2022-03-04T09:49:12.640Z"
   },
   {
    "duration": 87,
    "start_time": "2022-03-04T09:53:48.504Z"
   },
   {
    "duration": 87,
    "start_time": "2022-03-04T10:13:40.504Z"
   },
   {
    "duration": 685,
    "start_time": "2022-03-04T10:24:15.608Z"
   },
   {
    "duration": 353,
    "start_time": "2022-03-04T10:32:13.923Z"
   },
   {
    "duration": 94,
    "start_time": "2022-03-04T10:32:43.355Z"
   },
   {
    "duration": 859,
    "start_time": "2022-03-04T10:34:49.886Z"
   },
   {
    "duration": 317,
    "start_time": "2022-03-04T10:36:21.247Z"
   },
   {
    "duration": 1350,
    "start_time": "2022-03-04T10:36:31.351Z"
   },
   {
    "duration": 375,
    "start_time": "2022-03-04T10:36:32.704Z"
   },
   {
    "duration": 294,
    "start_time": "2022-03-04T10:36:33.081Z"
   },
   {
    "duration": 201,
    "start_time": "2022-03-04T10:36:33.387Z"
   },
   {
    "duration": 29,
    "start_time": "2022-03-04T10:36:33.590Z"
   },
   {
    "duration": 67,
    "start_time": "2022-03-04T10:36:33.622Z"
   },
   {
    "duration": 251,
    "start_time": "2022-03-04T10:36:33.692Z"
   },
   {
    "duration": 361,
    "start_time": "2022-03-04T10:36:33.947Z"
   },
   {
    "duration": -66,
    "start_time": "2022-03-04T10:36:34.377Z"
   },
   {
    "duration": -66,
    "start_time": "2022-03-04T10:36:34.379Z"
   },
   {
    "duration": -67,
    "start_time": "2022-03-04T10:36:34.381Z"
   },
   {
    "duration": -68,
    "start_time": "2022-03-04T10:36:34.383Z"
   },
   {
    "duration": -69,
    "start_time": "2022-03-04T10:36:34.386Z"
   },
   {
    "duration": -69,
    "start_time": "2022-03-04T10:36:34.388Z"
   },
   {
    "duration": -74,
    "start_time": "2022-03-04T10:36:34.394Z"
   },
   {
    "duration": -75,
    "start_time": "2022-03-04T10:36:34.396Z"
   },
   {
    "duration": -76,
    "start_time": "2022-03-04T10:36:34.398Z"
   },
   {
    "duration": -76,
    "start_time": "2022-03-04T10:36:34.400Z"
   },
   {
    "duration": -76,
    "start_time": "2022-03-04T10:36:34.401Z"
   },
   {
    "duration": -81,
    "start_time": "2022-03-04T10:36:34.407Z"
   },
   {
    "duration": -104,
    "start_time": "2022-03-04T10:36:34.431Z"
   },
   {
    "duration": -107,
    "start_time": "2022-03-04T10:36:34.436Z"
   },
   {
    "duration": -110,
    "start_time": "2022-03-04T10:36:34.440Z"
   },
   {
    "duration": -111,
    "start_time": "2022-03-04T10:36:34.442Z"
   },
   {
    "duration": -112,
    "start_time": "2022-03-04T10:36:34.444Z"
   },
   {
    "duration": -116,
    "start_time": "2022-03-04T10:36:34.450Z"
   },
   {
    "duration": -117,
    "start_time": "2022-03-04T10:36:34.452Z"
   },
   {
    "duration": -117,
    "start_time": "2022-03-04T10:36:34.454Z"
   },
   {
    "duration": -118,
    "start_time": "2022-03-04T10:36:34.456Z"
   },
   {
    "duration": -120,
    "start_time": "2022-03-04T10:36:34.460Z"
   },
   {
    "duration": -126,
    "start_time": "2022-03-04T10:36:34.467Z"
   },
   {
    "duration": 236,
    "start_time": "2022-03-04T10:38:20.860Z"
   },
   {
    "duration": 75,
    "start_time": "2022-03-04T10:38:48.836Z"
   },
   {
    "duration": 52,
    "start_time": "2022-03-04T10:39:18.157Z"
   },
   {
    "duration": 315,
    "start_time": "2022-03-04T10:42:48.198Z"
   },
   {
    "duration": 266,
    "start_time": "2022-03-04T10:43:19.661Z"
   },
   {
    "duration": 260,
    "start_time": "2022-03-04T10:43:31.837Z"
   },
   {
    "duration": 492,
    "start_time": "2022-03-04T10:45:49.261Z"
   },
   {
    "duration": 245,
    "start_time": "2022-03-04T10:46:09.196Z"
   },
   {
    "duration": -61,
    "start_time": "2022-03-04T10:46:09.504Z"
   },
   {
    "duration": 233,
    "start_time": "2022-03-04T10:47:23.077Z"
   },
   {
    "duration": 343,
    "start_time": "2022-03-04T10:47:37.682Z"
   },
   {
    "duration": 6225,
    "start_time": "2022-03-04T10:48:31.759Z"
   },
   {
    "duration": 1477,
    "start_time": "2022-03-04T10:48:43.053Z"
   },
   {
    "duration": 386,
    "start_time": "2022-03-04T10:48:44.533Z"
   },
   {
    "duration": 299,
    "start_time": "2022-03-04T10:48:44.922Z"
   },
   {
    "duration": 208,
    "start_time": "2022-03-04T10:48:45.224Z"
   },
   {
    "duration": 28,
    "start_time": "2022-03-04T10:48:45.434Z"
   },
   {
    "duration": 50,
    "start_time": "2022-03-04T10:48:45.464Z"
   },
   {
    "duration": 164,
    "start_time": "2022-03-04T10:48:45.516Z"
   },
   {
    "duration": 6356,
    "start_time": "2022-03-04T10:48:45.686Z"
   },
   {
    "duration": -64,
    "start_time": "2022-03-04T10:48:52.109Z"
   },
   {
    "duration": -65,
    "start_time": "2022-03-04T10:48:52.112Z"
   },
   {
    "duration": -68,
    "start_time": "2022-03-04T10:48:52.116Z"
   },
   {
    "duration": -69,
    "start_time": "2022-03-04T10:48:52.118Z"
   },
   {
    "duration": -70,
    "start_time": "2022-03-04T10:48:52.121Z"
   },
   {
    "duration": -72,
    "start_time": "2022-03-04T10:48:52.124Z"
   },
   {
    "duration": -73,
    "start_time": "2022-03-04T10:48:52.126Z"
   },
   {
    "duration": -73,
    "start_time": "2022-03-04T10:48:52.128Z"
   },
   {
    "duration": -74,
    "start_time": "2022-03-04T10:48:52.130Z"
   },
   {
    "duration": -75,
    "start_time": "2022-03-04T10:48:52.132Z"
   },
   {
    "duration": -76,
    "start_time": "2022-03-04T10:48:52.134Z"
   },
   {
    "duration": -77,
    "start_time": "2022-03-04T10:48:52.137Z"
   },
   {
    "duration": -78,
    "start_time": "2022-03-04T10:48:52.139Z"
   },
   {
    "duration": -78,
    "start_time": "2022-03-04T10:48:52.141Z"
   },
   {
    "duration": -79,
    "start_time": "2022-03-04T10:48:52.143Z"
   },
   {
    "duration": -80,
    "start_time": "2022-03-04T10:48:52.145Z"
   },
   {
    "duration": -80,
    "start_time": "2022-03-04T10:48:52.147Z"
   },
   {
    "duration": -81,
    "start_time": "2022-03-04T10:48:52.149Z"
   },
   {
    "duration": -81,
    "start_time": "2022-03-04T10:48:52.151Z"
   },
   {
    "duration": -82,
    "start_time": "2022-03-04T10:48:52.153Z"
   },
   {
    "duration": -87,
    "start_time": "2022-03-04T10:48:52.160Z"
   },
   {
    "duration": -89,
    "start_time": "2022-03-04T10:48:52.163Z"
   },
   {
    "duration": -89,
    "start_time": "2022-03-04T10:48:52.165Z"
   },
   {
    "duration": 89,
    "start_time": "2022-03-04T10:51:26.628Z"
   },
   {
    "duration": 1428,
    "start_time": "2022-03-04T10:51:32.362Z"
   },
   {
    "duration": 395,
    "start_time": "2022-03-04T10:51:33.792Z"
   },
   {
    "duration": 289,
    "start_time": "2022-03-04T10:51:34.190Z"
   },
   {
    "duration": 206,
    "start_time": "2022-03-04T10:51:34.481Z"
   },
   {
    "duration": 34,
    "start_time": "2022-03-04T10:51:34.690Z"
   },
   {
    "duration": 42,
    "start_time": "2022-03-04T10:51:34.726Z"
   },
   {
    "duration": 251,
    "start_time": "2022-03-04T10:51:34.787Z"
   },
   {
    "duration": 99,
    "start_time": "2022-03-04T10:51:35.042Z"
   },
   {
    "duration": 123,
    "start_time": "2022-03-04T10:51:35.144Z"
   },
   {
    "duration": 66,
    "start_time": "2022-03-04T10:51:35.270Z"
   },
   {
    "duration": 12,
    "start_time": "2022-03-04T10:51:35.338Z"
   },
   {
    "duration": 52,
    "start_time": "2022-03-04T10:51:35.353Z"
   },
   {
    "duration": 502,
    "start_time": "2022-03-04T10:51:35.408Z"
   },
   {
    "duration": 8,
    "start_time": "2022-03-04T10:51:35.912Z"
   },
   {
    "duration": 36,
    "start_time": "2022-03-04T10:51:35.923Z"
   },
   {
    "duration": 58,
    "start_time": "2022-03-04T10:51:35.961Z"
   },
   {
    "duration": 18,
    "start_time": "2022-03-04T10:51:36.021Z"
   },
   {
    "duration": 58,
    "start_time": "2022-03-04T10:51:36.042Z"
   },
   {
    "duration": 22,
    "start_time": "2022-03-04T10:51:36.103Z"
   },
   {
    "duration": 65,
    "start_time": "2022-03-04T10:51:36.127Z"
   },
   {
    "duration": 58,
    "start_time": "2022-03-04T10:51:36.195Z"
   },
   {
    "duration": 152,
    "start_time": "2022-03-04T10:51:36.256Z"
   },
   {
    "duration": 410,
    "start_time": "2022-03-04T10:51:36.414Z"
   },
   {
    "duration": 428,
    "start_time": "2022-03-04T10:51:36.828Z"
   },
   {
    "duration": 421,
    "start_time": "2022-03-04T10:51:37.258Z"
   },
   {
    "duration": 31,
    "start_time": "2022-03-04T10:51:37.686Z"
   },
   {
    "duration": 13,
    "start_time": "2022-03-04T10:51:37.719Z"
   },
   {
    "duration": 62,
    "start_time": "2022-03-04T10:51:37.734Z"
   },
   {
    "duration": 30,
    "start_time": "2022-03-04T10:51:37.799Z"
   },
   {
    "duration": 14,
    "start_time": "2022-03-04T10:51:37.832Z"
   },
   {
    "duration": 49,
    "start_time": "2022-03-04T10:51:37.848Z"
   },
   {
    "duration": 1412,
    "start_time": "2022-03-04T12:38:26.645Z"
   },
   {
    "duration": 383,
    "start_time": "2022-03-04T12:38:28.059Z"
   },
   {
    "duration": 285,
    "start_time": "2022-03-04T12:38:28.444Z"
   },
   {
    "duration": 201,
    "start_time": "2022-03-04T12:38:28.732Z"
   },
   {
    "duration": 37,
    "start_time": "2022-03-04T12:38:28.936Z"
   },
   {
    "duration": 55,
    "start_time": "2022-03-04T12:38:28.988Z"
   },
   {
    "duration": 169,
    "start_time": "2022-03-04T12:38:29.046Z"
   },
   {
    "duration": 104,
    "start_time": "2022-03-04T12:38:29.219Z"
   },
   {
    "duration": 113,
    "start_time": "2022-03-04T12:38:29.326Z"
   },
   {
    "duration": 64,
    "start_time": "2022-03-04T12:38:29.441Z"
   },
   {
    "duration": 13,
    "start_time": "2022-03-04T12:38:29.508Z"
   },
   {
    "duration": 24,
    "start_time": "2022-03-04T12:38:29.524Z"
   },
   {
    "duration": 503,
    "start_time": "2022-03-04T12:38:29.550Z"
   },
   {
    "duration": 9,
    "start_time": "2022-03-04T12:38:30.055Z"
   },
   {
    "duration": 39,
    "start_time": "2022-03-04T12:38:30.067Z"
   },
   {
    "duration": 43,
    "start_time": "2022-03-04T12:38:30.109Z"
   },
   {
    "duration": 39,
    "start_time": "2022-03-04T12:38:30.155Z"
   },
   {
    "duration": 29,
    "start_time": "2022-03-04T12:38:30.197Z"
   },
   {
    "duration": 59,
    "start_time": "2022-03-04T12:38:30.228Z"
   },
   {
    "duration": 16,
    "start_time": "2022-03-04T12:38:30.289Z"
   },
   {
    "duration": 87,
    "start_time": "2022-03-04T12:38:30.307Z"
   },
   {
    "duration": 127,
    "start_time": "2022-03-04T12:38:30.396Z"
   },
   {
    "duration": 414,
    "start_time": "2022-03-04T12:38:30.527Z"
   },
   {
    "duration": 447,
    "start_time": "2022-03-04T12:38:30.944Z"
   },
   {
    "duration": 408,
    "start_time": "2022-03-04T12:38:31.394Z"
   },
   {
    "duration": 30,
    "start_time": "2022-03-04T12:38:31.805Z"
   },
   {
    "duration": 12,
    "start_time": "2022-03-04T12:38:31.837Z"
   },
   {
    "duration": 60,
    "start_time": "2022-03-04T12:38:31.851Z"
   },
   {
    "duration": 54,
    "start_time": "2022-03-04T12:38:31.914Z"
   },
   {
    "duration": 18,
    "start_time": "2022-03-04T12:38:31.970Z"
   },
   {
    "duration": 14,
    "start_time": "2022-03-04T12:38:31.991Z"
   },
   {
    "duration": 1373,
    "start_time": "2022-03-04T12:45:36.083Z"
   },
   {
    "duration": 381,
    "start_time": "2022-03-04T12:45:37.459Z"
   },
   {
    "duration": 289,
    "start_time": "2022-03-04T12:45:37.843Z"
   },
   {
    "duration": 203,
    "start_time": "2022-03-04T12:45:38.135Z"
   },
   {
    "duration": 28,
    "start_time": "2022-03-04T12:45:38.341Z"
   },
   {
    "duration": 45,
    "start_time": "2022-03-04T12:45:38.387Z"
   },
   {
    "duration": 167,
    "start_time": "2022-03-04T12:45:38.435Z"
   },
   {
    "duration": 105,
    "start_time": "2022-03-04T12:45:38.604Z"
   },
   {
    "duration": 112,
    "start_time": "2022-03-04T12:45:38.713Z"
   },
   {
    "duration": 64,
    "start_time": "2022-03-04T12:45:38.827Z"
   },
   {
    "duration": 13,
    "start_time": "2022-03-04T12:45:38.894Z"
   },
   {
    "duration": 24,
    "start_time": "2022-03-04T12:45:38.910Z"
   },
   {
    "duration": 509,
    "start_time": "2022-03-04T12:45:38.936Z"
   },
   {
    "duration": 10,
    "start_time": "2022-03-04T12:45:39.447Z"
   },
   {
    "duration": 47,
    "start_time": "2022-03-04T12:45:39.459Z"
   },
   {
    "duration": 42,
    "start_time": "2022-03-04T12:45:39.509Z"
   },
   {
    "duration": 42,
    "start_time": "2022-03-04T12:45:39.554Z"
   },
   {
    "duration": 24,
    "start_time": "2022-03-04T12:45:39.599Z"
   },
   {
    "duration": 15,
    "start_time": "2022-03-04T12:45:39.626Z"
   },
   {
    "duration": 15,
    "start_time": "2022-03-04T12:45:39.688Z"
   },
   {
    "duration": 91,
    "start_time": "2022-03-04T12:45:39.705Z"
   },
   {
    "duration": 125,
    "start_time": "2022-03-04T12:45:39.799Z"
   },
   {
    "duration": 430,
    "start_time": "2022-03-04T12:45:39.926Z"
   },
   {
    "duration": 439,
    "start_time": "2022-03-04T12:45:40.358Z"
   },
   {
    "duration": 424,
    "start_time": "2022-03-04T12:45:40.799Z"
   },
   {
    "duration": 28,
    "start_time": "2022-03-04T12:45:41.225Z"
   },
   {
    "duration": 34,
    "start_time": "2022-03-04T12:45:41.258Z"
   },
   {
    "duration": 30,
    "start_time": "2022-03-04T12:45:41.294Z"
   },
   {
    "duration": 26,
    "start_time": "2022-03-04T12:45:41.327Z"
   },
   {
    "duration": 40,
    "start_time": "2022-03-04T12:45:41.356Z"
   },
   {
    "duration": 13,
    "start_time": "2022-03-04T12:45:41.398Z"
   },
   {
    "duration": 9,
    "start_time": "2022-03-04T12:53:33.908Z"
   },
   {
    "duration": 1319,
    "start_time": "2022-03-04T12:53:42.929Z"
   },
   {
    "duration": 376,
    "start_time": "2022-03-04T12:53:44.251Z"
   },
   {
    "duration": 278,
    "start_time": "2022-03-04T12:53:44.631Z"
   },
   {
    "duration": 196,
    "start_time": "2022-03-04T12:53:44.911Z"
   },
   {
    "duration": 24,
    "start_time": "2022-03-04T12:53:45.110Z"
   },
   {
    "duration": 52,
    "start_time": "2022-03-04T12:53:45.136Z"
   },
   {
    "duration": 161,
    "start_time": "2022-03-04T12:53:45.191Z"
   },
   {
    "duration": 96,
    "start_time": "2022-03-04T12:53:45.355Z"
   },
   {
    "duration": 116,
    "start_time": "2022-03-04T12:53:45.456Z"
   },
   {
    "duration": 59,
    "start_time": "2022-03-04T12:53:45.575Z"
   },
   {
    "duration": 13,
    "start_time": "2022-03-04T12:53:45.636Z"
   },
   {
    "duration": 37,
    "start_time": "2022-03-04T12:53:45.651Z"
   },
   {
    "duration": 27,
    "start_time": "2022-03-04T12:53:45.691Z"
   },
   {
    "duration": 492,
    "start_time": "2022-03-04T12:53:45.720Z"
   },
   {
    "duration": 8,
    "start_time": "2022-03-04T12:53:46.214Z"
   },
   {
    "duration": 34,
    "start_time": "2022-03-04T12:53:46.224Z"
   },
   {
    "duration": 62,
    "start_time": "2022-03-04T12:53:46.261Z"
   },
   {
    "duration": 17,
    "start_time": "2022-03-04T12:53:46.325Z"
   },
   {
    "duration": 56,
    "start_time": "2022-03-04T12:53:46.345Z"
   },
   {
    "duration": 17,
    "start_time": "2022-03-04T12:53:46.404Z"
   },
   {
    "duration": 66,
    "start_time": "2022-03-04T12:53:46.423Z"
   },
   {
    "duration": 55,
    "start_time": "2022-03-04T12:53:46.491Z"
   },
   {
    "duration": 141,
    "start_time": "2022-03-04T12:53:46.548Z"
   },
   {
    "duration": 416,
    "start_time": "2022-03-04T12:53:46.691Z"
   },
   {
    "duration": 430,
    "start_time": "2022-03-04T12:53:47.109Z"
   },
   {
    "duration": 422,
    "start_time": "2022-03-04T12:53:47.541Z"
   },
   {
    "duration": 36,
    "start_time": "2022-03-04T12:53:47.968Z"
   },
   {
    "duration": 12,
    "start_time": "2022-03-04T12:53:48.007Z"
   },
   {
    "duration": 28,
    "start_time": "2022-03-04T12:53:48.021Z"
   },
   {
    "duration": 58,
    "start_time": "2022-03-04T12:53:48.051Z"
   },
   {
    "duration": 12,
    "start_time": "2022-03-04T12:53:48.111Z"
   },
   {
    "duration": 11,
    "start_time": "2022-03-04T12:53:48.125Z"
   },
   {
    "duration": 23,
    "start_time": "2022-03-04T12:55:12.859Z"
   },
   {
    "duration": 13,
    "start_time": "2022-03-04T12:55:36.937Z"
   },
   {
    "duration": 1404,
    "start_time": "2022-03-04T12:55:45.754Z"
   },
   {
    "duration": 437,
    "start_time": "2022-03-04T12:55:47.161Z"
   },
   {
    "duration": 284,
    "start_time": "2022-03-04T12:55:47.603Z"
   },
   {
    "duration": 202,
    "start_time": "2022-03-04T12:55:47.890Z"
   },
   {
    "duration": 29,
    "start_time": "2022-03-04T12:55:48.095Z"
   },
   {
    "duration": 62,
    "start_time": "2022-03-04T12:55:48.127Z"
   },
   {
    "duration": 157,
    "start_time": "2022-03-04T12:55:48.192Z"
   },
   {
    "duration": 95,
    "start_time": "2022-03-04T12:55:48.352Z"
   },
   {
    "duration": 113,
    "start_time": "2022-03-04T12:55:48.450Z"
   },
   {
    "duration": 68,
    "start_time": "2022-03-04T12:55:48.565Z"
   },
   {
    "duration": 18,
    "start_time": "2022-03-04T12:55:48.636Z"
   },
   {
    "duration": 13,
    "start_time": "2022-03-04T12:55:48.657Z"
   },
   {
    "duration": 28,
    "start_time": "2022-03-04T12:55:48.689Z"
   },
   {
    "duration": 508,
    "start_time": "2022-03-04T12:55:48.720Z"
   },
   {
    "duration": 10,
    "start_time": "2022-03-04T12:55:49.232Z"
   },
   {
    "duration": 56,
    "start_time": "2022-03-04T12:55:49.246Z"
   },
   {
    "duration": 43,
    "start_time": "2022-03-04T12:55:49.305Z"
   },
   {
    "duration": 42,
    "start_time": "2022-03-04T12:55:49.351Z"
   },
   {
    "duration": 30,
    "start_time": "2022-03-04T12:55:49.396Z"
   },
   {
    "duration": 70,
    "start_time": "2022-03-04T12:55:49.429Z"
   },
   {
    "duration": 21,
    "start_time": "2022-03-04T12:55:49.502Z"
   },
   {
    "duration": 104,
    "start_time": "2022-03-04T12:55:49.526Z"
   },
   {
    "duration": 125,
    "start_time": "2022-03-04T12:55:49.637Z"
   },
   {
    "duration": 422,
    "start_time": "2022-03-04T12:55:49.765Z"
   },
   {
    "duration": 620,
    "start_time": "2022-03-04T12:55:50.190Z"
   },
   {
    "duration": 505,
    "start_time": "2022-03-04T12:55:50.813Z"
   },
   {
    "duration": 31,
    "start_time": "2022-03-04T12:55:51.321Z"
   },
   {
    "duration": 39,
    "start_time": "2022-03-04T12:55:51.355Z"
   },
   {
    "duration": 29,
    "start_time": "2022-03-04T12:55:51.397Z"
   },
   {
    "duration": 59,
    "start_time": "2022-03-04T12:55:51.429Z"
   },
   {
    "duration": 13,
    "start_time": "2022-03-04T12:55:51.491Z"
   },
   {
    "duration": 11,
    "start_time": "2022-03-04T12:55:51.506Z"
   },
   {
    "duration": 10,
    "start_time": "2022-03-04T12:59:23.100Z"
   },
   {
    "duration": 8,
    "start_time": "2022-03-04T13:00:57.746Z"
   },
   {
    "duration": 7,
    "start_time": "2022-03-04T13:01:18.121Z"
   },
   {
    "duration": 345,
    "start_time": "2022-03-04T13:01:54.457Z"
   },
   {
    "duration": 9,
    "start_time": "2022-03-04T13:02:02.641Z"
   },
   {
    "duration": 9,
    "start_time": "2022-03-04T13:02:11.783Z"
   },
   {
    "duration": 6,
    "start_time": "2022-03-04T13:04:19.163Z"
   },
   {
    "duration": 6,
    "start_time": "2022-03-04T13:06:01.946Z"
   },
   {
    "duration": 623,
    "start_time": "2022-03-04T13:07:40.522Z"
   },
   {
    "duration": 6,
    "start_time": "2022-03-04T13:07:46.276Z"
   },
   {
    "duration": 74,
    "start_time": "2022-03-04T13:08:51.245Z"
   },
   {
    "duration": 89,
    "start_time": "2022-03-04T13:09:02.372Z"
   },
   {
    "duration": 83,
    "start_time": "2022-03-04T13:09:12.819Z"
   },
   {
    "duration": 370,
    "start_time": "2022-03-04T13:09:24.491Z"
   },
   {
    "duration": 369,
    "start_time": "2022-03-04T13:09:39.093Z"
   },
   {
    "duration": 69,
    "start_time": "2022-03-04T13:09:55.995Z"
   },
   {
    "duration": 121,
    "start_time": "2022-03-04T13:12:00.091Z"
   },
   {
    "duration": 6,
    "start_time": "2022-03-04T13:12:07.164Z"
   },
   {
    "duration": 83,
    "start_time": "2022-03-04T13:14:09.045Z"
   },
   {
    "duration": 75,
    "start_time": "2022-03-04T13:15:41.270Z"
   },
   {
    "duration": 70,
    "start_time": "2022-03-04T13:16:36.430Z"
   },
   {
    "duration": 84,
    "start_time": "2022-03-04T13:16:45.590Z"
   },
   {
    "duration": 74,
    "start_time": "2022-03-04T13:16:52.726Z"
   },
   {
    "duration": 7,
    "start_time": "2022-03-04T13:17:03.605Z"
   },
   {
    "duration": 6,
    "start_time": "2022-03-04T13:17:09.566Z"
   },
   {
    "duration": 313,
    "start_time": "2022-03-04T13:17:21.510Z"
   },
   {
    "duration": 4,
    "start_time": "2022-03-04T13:17:31.391Z"
   },
   {
    "duration": 69,
    "start_time": "2022-03-04T13:17:37.566Z"
   },
   {
    "duration": 6,
    "start_time": "2022-03-04T13:26:27.100Z"
   },
   {
    "duration": 82,
    "start_time": "2022-03-04T13:29:38.387Z"
   },
   {
    "duration": 78,
    "start_time": "2022-03-04T13:30:39.724Z"
   },
   {
    "duration": 91,
    "start_time": "2022-03-04T13:31:17.117Z"
   },
   {
    "duration": 78,
    "start_time": "2022-03-04T13:31:38.812Z"
   },
   {
    "duration": 16,
    "start_time": "2022-03-04T13:31:53.470Z"
   },
   {
    "duration": 1303,
    "start_time": "2022-03-04T13:32:01.984Z"
   },
   {
    "duration": 385,
    "start_time": "2022-03-04T13:32:03.289Z"
   },
   {
    "duration": 312,
    "start_time": "2022-03-04T13:32:03.677Z"
   },
   {
    "duration": 203,
    "start_time": "2022-03-04T13:32:03.992Z"
   },
   {
    "duration": 25,
    "start_time": "2022-03-04T13:32:04.198Z"
   },
   {
    "duration": 43,
    "start_time": "2022-03-04T13:32:04.226Z"
   },
   {
    "duration": 155,
    "start_time": "2022-03-04T13:32:04.287Z"
   },
   {
    "duration": 101,
    "start_time": "2022-03-04T13:32:04.446Z"
   },
   {
    "duration": 113,
    "start_time": "2022-03-04T13:32:04.550Z"
   },
   {
    "duration": 68,
    "start_time": "2022-03-04T13:32:04.665Z"
   },
   {
    "duration": 12,
    "start_time": "2022-03-04T13:32:04.736Z"
   },
   {
    "duration": 15,
    "start_time": "2022-03-04T13:32:04.750Z"
   },
   {
    "duration": 22,
    "start_time": "2022-03-04T13:32:04.788Z"
   },
   {
    "duration": 73,
    "start_time": "2022-03-04T13:32:04.812Z"
   },
   {
    "duration": -1,
    "start_time": "2022-03-04T13:32:04.889Z"
   },
   {
    "duration": -2,
    "start_time": "2022-03-04T13:32:04.891Z"
   },
   {
    "duration": -3,
    "start_time": "2022-03-04T13:32:04.894Z"
   },
   {
    "duration": -5,
    "start_time": "2022-03-04T13:32:04.897Z"
   },
   {
    "duration": -6,
    "start_time": "2022-03-04T13:32:04.900Z"
   },
   {
    "duration": -7,
    "start_time": "2022-03-04T13:32:04.902Z"
   },
   {
    "duration": -8,
    "start_time": "2022-03-04T13:32:04.904Z"
   },
   {
    "duration": -8,
    "start_time": "2022-03-04T13:32:04.906Z"
   },
   {
    "duration": -9,
    "start_time": "2022-03-04T13:32:04.908Z"
   },
   {
    "duration": -10,
    "start_time": "2022-03-04T13:32:04.910Z"
   },
   {
    "duration": -12,
    "start_time": "2022-03-04T13:32:04.913Z"
   },
   {
    "duration": -19,
    "start_time": "2022-03-04T13:32:04.922Z"
   },
   {
    "duration": -20,
    "start_time": "2022-03-04T13:32:04.924Z"
   },
   {
    "duration": -21,
    "start_time": "2022-03-04T13:32:04.926Z"
   },
   {
    "duration": -23,
    "start_time": "2022-03-04T13:32:04.929Z"
   },
   {
    "duration": -25,
    "start_time": "2022-03-04T13:32:04.932Z"
   },
   {
    "duration": -25,
    "start_time": "2022-03-04T13:32:04.934Z"
   },
   {
    "duration": -26,
    "start_time": "2022-03-04T13:32:04.936Z"
   },
   {
    "duration": 18,
    "start_time": "2022-03-04T13:33:09.771Z"
   },
   {
    "duration": 11,
    "start_time": "2022-03-04T13:33:29.903Z"
   },
   {
    "duration": 8,
    "start_time": "2022-03-04T13:33:46.812Z"
   },
   {
    "duration": 73,
    "start_time": "2022-03-04T13:34:25.643Z"
   },
   {
    "duration": 86,
    "start_time": "2022-03-04T13:34:38.938Z"
   },
   {
    "duration": 85,
    "start_time": "2022-03-04T13:34:57.523Z"
   },
   {
    "duration": 10,
    "start_time": "2022-03-04T13:35:16.887Z"
   },
   {
    "duration": 8,
    "start_time": "2022-03-04T13:35:40.991Z"
   },
   {
    "duration": 78,
    "start_time": "2022-03-04T13:36:13.697Z"
   },
   {
    "duration": 91,
    "start_time": "2022-03-04T13:36:20.056Z"
   },
   {
    "duration": 6,
    "start_time": "2022-03-04T13:36:27.041Z"
   },
   {
    "duration": 73,
    "start_time": "2022-03-04T13:38:27.627Z"
   },
   {
    "duration": 75,
    "start_time": "2022-03-04T13:38:46.899Z"
   },
   {
    "duration": 9,
    "start_time": "2022-03-04T13:39:03.100Z"
   },
   {
    "duration": 73,
    "start_time": "2022-03-04T13:39:34.275Z"
   },
   {
    "duration": 83,
    "start_time": "2022-03-04T13:39:53.092Z"
   },
   {
    "duration": 72,
    "start_time": "2022-03-04T13:40:06.859Z"
   },
   {
    "duration": 70,
    "start_time": "2022-03-04T13:40:21.723Z"
   },
   {
    "duration": 10,
    "start_time": "2022-03-04T13:40:37.215Z"
   },
   {
    "duration": 89,
    "start_time": "2022-03-04T13:40:45.233Z"
   },
   {
    "duration": 1338,
    "start_time": "2022-03-04T13:41:09.008Z"
   },
   {
    "duration": 382,
    "start_time": "2022-03-04T13:41:10.349Z"
   },
   {
    "duration": 287,
    "start_time": "2022-03-04T13:41:10.734Z"
   },
   {
    "duration": 198,
    "start_time": "2022-03-04T13:41:11.023Z"
   },
   {
    "duration": 26,
    "start_time": "2022-03-04T13:41:11.224Z"
   },
   {
    "duration": 50,
    "start_time": "2022-03-04T13:41:11.252Z"
   },
   {
    "duration": 165,
    "start_time": "2022-03-04T13:41:11.304Z"
   },
   {
    "duration": 96,
    "start_time": "2022-03-04T13:41:11.472Z"
   },
   {
    "duration": 124,
    "start_time": "2022-03-04T13:41:11.573Z"
   },
   {
    "duration": 53,
    "start_time": "2022-03-04T13:41:11.701Z"
   },
   {
    "duration": 39,
    "start_time": "2022-03-04T13:41:11.757Z"
   },
   {
    "duration": 12,
    "start_time": "2022-03-04T13:41:11.799Z"
   },
   {
    "duration": 23,
    "start_time": "2022-03-04T13:41:11.814Z"
   },
   {
    "duration": 75,
    "start_time": "2022-03-04T13:41:11.840Z"
   },
   {
    "duration": 31,
    "start_time": "2022-03-04T13:41:11.887Z"
   },
   {
    "duration": 31,
    "start_time": "2022-03-04T13:41:11.889Z"
   },
   {
    "duration": 30,
    "start_time": "2022-03-04T13:41:11.891Z"
   },
   {
    "duration": 13,
    "start_time": "2022-03-04T13:41:11.910Z"
   },
   {
    "duration": 6,
    "start_time": "2022-03-04T13:41:11.918Z"
   },
   {
    "duration": 6,
    "start_time": "2022-03-04T13:41:11.920Z"
   },
   {
    "duration": 5,
    "start_time": "2022-03-04T13:41:11.922Z"
   },
   {
    "duration": 3,
    "start_time": "2022-03-04T13:41:11.925Z"
   },
   {
    "duration": 2,
    "start_time": "2022-03-04T13:41:11.928Z"
   },
   {
    "duration": 1,
    "start_time": "2022-03-04T13:41:11.930Z"
   },
   {
    "duration": -1,
    "start_time": "2022-03-04T13:41:11.933Z"
   },
   {
    "duration": -1,
    "start_time": "2022-03-04T13:41:11.935Z"
   },
   {
    "duration": -2,
    "start_time": "2022-03-04T13:41:11.937Z"
   },
   {
    "duration": -2,
    "start_time": "2022-03-04T13:41:11.939Z"
   },
   {
    "duration": -4,
    "start_time": "2022-03-04T13:41:11.942Z"
   },
   {
    "duration": -5,
    "start_time": "2022-03-04T13:41:11.944Z"
   },
   {
    "duration": -6,
    "start_time": "2022-03-04T13:41:11.947Z"
   },
   {
    "duration": -11,
    "start_time": "2022-03-04T13:41:11.954Z"
   },
   {
    "duration": 7,
    "start_time": "2022-03-04T13:43:14.404Z"
   },
   {
    "duration": 372,
    "start_time": "2022-03-04T13:43:24.414Z"
   },
   {
    "duration": 9,
    "start_time": "2022-03-04T13:43:44.111Z"
   },
   {
    "duration": 94,
    "start_time": "2022-03-04T13:44:51.736Z"
   },
   {
    "duration": 87,
    "start_time": "2022-03-04T13:45:03.713Z"
   },
   {
    "duration": 9,
    "start_time": "2022-03-04T13:45:10.694Z"
   },
   {
    "duration": 10,
    "start_time": "2022-03-04T13:45:59.910Z"
   },
   {
    "duration": 73,
    "start_time": "2022-03-04T13:46:42.051Z"
   },
   {
    "duration": 72,
    "start_time": "2022-03-04T13:46:57.662Z"
   },
   {
    "duration": 68,
    "start_time": "2022-03-04T13:47:22.342Z"
   },
   {
    "duration": 82,
    "start_time": "2022-03-04T13:47:29.551Z"
   },
   {
    "duration": 87,
    "start_time": "2022-03-04T13:47:36.349Z"
   },
   {
    "duration": 9,
    "start_time": "2022-03-04T13:47:47.951Z"
   },
   {
    "duration": 102,
    "start_time": "2022-03-04T13:48:09.273Z"
   },
   {
    "duration": 10,
    "start_time": "2022-03-04T13:48:15.690Z"
   },
   {
    "duration": 101,
    "start_time": "2022-03-04T13:52:14.904Z"
   },
   {
    "duration": 7,
    "start_time": "2022-03-04T13:53:06.681Z"
   },
   {
    "duration": 97,
    "start_time": "2022-03-04T13:53:50.434Z"
   },
   {
    "duration": 99,
    "start_time": "2022-03-04T13:54:16.906Z"
   },
   {
    "duration": 89,
    "start_time": "2022-03-04T13:54:41.031Z"
   },
   {
    "duration": 85,
    "start_time": "2022-03-04T13:54:47.648Z"
   },
   {
    "duration": 78,
    "start_time": "2022-03-04T13:55:35.607Z"
   },
   {
    "duration": 80,
    "start_time": "2022-03-04T13:56:22.683Z"
   },
   {
    "duration": 81,
    "start_time": "2022-03-04T13:56:30.458Z"
   },
   {
    "duration": 9,
    "start_time": "2022-03-04T13:56:50.371Z"
   },
   {
    "duration": 10,
    "start_time": "2022-03-04T13:57:08.015Z"
   },
   {
    "duration": 141,
    "start_time": "2022-03-04T13:58:17.569Z"
   },
   {
    "duration": 145,
    "start_time": "2022-03-04T13:58:28.680Z"
   },
   {
    "duration": 251,
    "start_time": "2022-03-04T14:00:23.099Z"
   },
   {
    "duration": 1552,
    "start_time": "2022-03-04T14:01:02.501Z"
   },
   {
    "duration": 372,
    "start_time": "2022-03-04T14:01:04.055Z"
   },
   {
    "duration": 285,
    "start_time": "2022-03-04T14:01:04.430Z"
   },
   {
    "duration": 229,
    "start_time": "2022-03-04T14:01:04.718Z"
   },
   {
    "duration": 55,
    "start_time": "2022-03-04T14:01:04.949Z"
   },
   {
    "duration": 39,
    "start_time": "2022-03-04T14:01:05.007Z"
   },
   {
    "duration": 147,
    "start_time": "2022-03-04T14:01:05.048Z"
   },
   {
    "duration": 94,
    "start_time": "2022-03-04T14:01:05.199Z"
   },
   {
    "duration": 101,
    "start_time": "2022-03-04T14:01:05.296Z"
   },
   {
    "duration": 53,
    "start_time": "2022-03-04T14:01:05.400Z"
   },
   {
    "duration": 13,
    "start_time": "2022-03-04T14:01:05.456Z"
   },
   {
    "duration": 22,
    "start_time": "2022-03-04T14:01:05.472Z"
   },
   {
    "duration": 23,
    "start_time": "2022-03-04T14:01:05.497Z"
   },
   {
    "duration": 11,
    "start_time": "2022-03-04T14:01:05.523Z"
   },
   {
    "duration": 8,
    "start_time": "2022-03-04T14:01:05.537Z"
   },
   {
    "duration": 578,
    "start_time": "2022-03-04T14:01:05.548Z"
   },
   {
    "duration": 86,
    "start_time": "2022-03-04T14:01:06.129Z"
   },
   {
    "duration": 17,
    "start_time": "2022-03-04T14:01:06.217Z"
   },
   {
    "duration": 63,
    "start_time": "2022-03-04T14:01:06.236Z"
   },
   {
    "duration": 24,
    "start_time": "2022-03-04T14:01:06.302Z"
   },
   {
    "duration": 70,
    "start_time": "2022-03-04T14:01:06.329Z"
   },
   {
    "duration": 109,
    "start_time": "2022-03-04T14:01:06.402Z"
   },
   {
    "duration": 215,
    "start_time": "2022-03-04T14:01:06.515Z"
   },
   {
    "duration": 424,
    "start_time": "2022-03-04T14:01:06.732Z"
   },
   {
    "duration": 434,
    "start_time": "2022-03-04T14:01:07.158Z"
   },
   {
    "duration": 399,
    "start_time": "2022-03-04T14:01:07.595Z"
   },
   {
    "duration": 29,
    "start_time": "2022-03-04T14:01:07.996Z"
   },
   {
    "duration": 11,
    "start_time": "2022-03-04T14:01:08.027Z"
   },
   {
    "duration": 63,
    "start_time": "2022-03-04T14:01:08.041Z"
   },
   {
    "duration": 28,
    "start_time": "2022-03-04T14:01:08.106Z"
   },
   {
    "duration": 15,
    "start_time": "2022-03-04T14:01:08.136Z"
   },
   {
    "duration": 39,
    "start_time": "2022-03-04T14:01:08.154Z"
   },
   {
    "duration": 21,
    "start_time": "2022-03-04T14:04:02.331Z"
   },
   {
    "duration": 31,
    "start_time": "2022-03-04T14:04:09.356Z"
   },
   {
    "duration": 13,
    "start_time": "2022-03-04T14:05:31.019Z"
   },
   {
    "duration": 1305,
    "start_time": "2022-03-04T14:17:13.045Z"
   },
   {
    "duration": 374,
    "start_time": "2022-03-04T14:17:14.353Z"
   },
   {
    "duration": 283,
    "start_time": "2022-03-04T14:17:14.730Z"
   },
   {
    "duration": 207,
    "start_time": "2022-03-04T14:17:15.016Z"
   },
   {
    "duration": 25,
    "start_time": "2022-03-04T14:17:15.225Z"
   },
   {
    "duration": 52,
    "start_time": "2022-03-04T14:17:15.253Z"
   },
   {
    "duration": 160,
    "start_time": "2022-03-04T14:17:15.308Z"
   },
   {
    "duration": 95,
    "start_time": "2022-03-04T14:17:15.471Z"
   },
   {
    "duration": 107,
    "start_time": "2022-03-04T14:17:15.569Z"
   },
   {
    "duration": 51,
    "start_time": "2022-03-04T14:17:15.686Z"
   },
   {
    "duration": 13,
    "start_time": "2022-03-04T14:17:15.739Z"
   },
   {
    "duration": 36,
    "start_time": "2022-03-04T14:17:15.754Z"
   },
   {
    "duration": 27,
    "start_time": "2022-03-04T14:17:15.793Z"
   },
   {
    "duration": 480,
    "start_time": "2022-03-04T14:17:15.822Z"
   },
   {
    "duration": 42,
    "start_time": "2022-03-04T14:17:16.304Z"
   },
   {
    "duration": 17,
    "start_time": "2022-03-04T14:17:16.349Z"
   },
   {
    "duration": 14,
    "start_time": "2022-03-04T14:17:16.388Z"
   },
   {
    "duration": 29,
    "start_time": "2022-03-04T14:17:16.405Z"
   },
   {
    "duration": 18,
    "start_time": "2022-03-04T14:17:16.488Z"
   },
   {
    "duration": 17,
    "start_time": "2022-03-04T14:17:16.509Z"
   },
   {
    "duration": 102,
    "start_time": "2022-03-04T14:17:16.529Z"
   },
   {
    "duration": 120,
    "start_time": "2022-03-04T14:17:16.633Z"
   },
   {
    "duration": 432,
    "start_time": "2022-03-04T14:17:16.757Z"
   },
   {
    "duration": 445,
    "start_time": "2022-03-04T14:17:17.191Z"
   },
   {
    "duration": 427,
    "start_time": "2022-03-04T14:17:17.638Z"
   },
   {
    "duration": 46,
    "start_time": "2022-03-04T14:17:18.068Z"
   },
   {
    "duration": 13,
    "start_time": "2022-03-04T14:17:18.117Z"
   },
   {
    "duration": 62,
    "start_time": "2022-03-04T14:17:18.133Z"
   },
   {
    "duration": 31,
    "start_time": "2022-03-04T14:17:18.198Z"
   },
   {
    "duration": 13,
    "start_time": "2022-03-04T14:17:18.231Z"
   },
   {
    "duration": 48,
    "start_time": "2022-03-04T14:17:18.247Z"
   },
   {
    "duration": 306,
    "start_time": "2022-03-04T14:28:55.586Z"
   },
   {
    "duration": 362,
    "start_time": "2022-03-04T14:29:17.274Z"
   },
   {
    "duration": 294,
    "start_time": "2022-03-04T14:29:53.098Z"
   },
   {
    "duration": 333,
    "start_time": "2022-03-04T14:30:12.783Z"
   },
   {
    "duration": 558,
    "start_time": "2022-03-04T14:38:06.942Z"
   },
   {
    "duration": 409,
    "start_time": "2022-03-04T14:38:23.684Z"
   },
   {
    "duration": 402,
    "start_time": "2022-03-04T14:38:54.261Z"
   },
   {
    "duration": 1405,
    "start_time": "2022-03-04T14:40:45.665Z"
   },
   {
    "duration": 394,
    "start_time": "2022-03-04T14:40:47.073Z"
   },
   {
    "duration": 289,
    "start_time": "2022-03-04T14:40:47.471Z"
   },
   {
    "duration": 205,
    "start_time": "2022-03-04T14:40:47.763Z"
   },
   {
    "duration": 33,
    "start_time": "2022-03-04T14:40:47.970Z"
   },
   {
    "duration": 42,
    "start_time": "2022-03-04T14:40:48.005Z"
   },
   {
    "duration": 211,
    "start_time": "2022-03-04T14:40:48.049Z"
   },
   {
    "duration": 95,
    "start_time": "2022-03-04T14:40:48.263Z"
   },
   {
    "duration": 112,
    "start_time": "2022-03-04T14:40:48.362Z"
   },
   {
    "duration": 49,
    "start_time": "2022-03-04T14:40:48.487Z"
   },
   {
    "duration": 12,
    "start_time": "2022-03-04T14:40:48.538Z"
   },
   {
    "duration": 40,
    "start_time": "2022-03-04T14:40:48.552Z"
   },
   {
    "duration": 22,
    "start_time": "2022-03-04T14:40:48.595Z"
   },
   {
    "duration": 489,
    "start_time": "2022-03-04T14:40:48.621Z"
   },
   {
    "duration": 76,
    "start_time": "2022-03-04T14:40:49.113Z"
   },
   {
    "duration": 26,
    "start_time": "2022-03-04T14:40:49.192Z"
   },
   {
    "duration": 19,
    "start_time": "2022-03-04T14:40:49.221Z"
   },
   {
    "duration": 59,
    "start_time": "2022-03-04T14:40:49.244Z"
   },
   {
    "duration": 23,
    "start_time": "2022-03-04T14:40:49.306Z"
   },
   {
    "duration": 63,
    "start_time": "2022-03-04T14:40:49.331Z"
   },
   {
    "duration": 112,
    "start_time": "2022-03-04T14:40:49.397Z"
   },
   {
    "duration": 175,
    "start_time": "2022-03-04T14:40:49.513Z"
   },
   {
    "duration": 419,
    "start_time": "2022-03-04T14:40:49.690Z"
   },
   {
    "duration": 524,
    "start_time": "2022-03-04T14:40:50.111Z"
   },
   {
    "duration": 420,
    "start_time": "2022-03-04T14:40:50.638Z"
   },
   {
    "duration": 47,
    "start_time": "2022-03-04T14:40:51.061Z"
   },
   {
    "duration": 28,
    "start_time": "2022-03-04T14:40:51.115Z"
   },
   {
    "duration": 29,
    "start_time": "2022-03-04T14:40:51.146Z"
   },
   {
    "duration": 29,
    "start_time": "2022-03-04T14:40:51.188Z"
   },
   {
    "duration": 13,
    "start_time": "2022-03-04T14:40:51.219Z"
   },
   {
    "duration": 14,
    "start_time": "2022-03-04T14:40:51.234Z"
   }
  ],
  "kernelspec": {
   "display_name": "Python 3 (ipykernel)",
   "language": "python",
   "name": "python3"
  },
  "language_info": {
   "codemirror_mode": {
    "name": "ipython",
    "version": 3
   },
   "file_extension": ".py",
   "mimetype": "text/x-python",
   "name": "python",
   "nbconvert_exporter": "python",
   "pygments_lexer": "ipython3",
   "version": "3.9.7"
  },
  "toc": {
   "base_numbering": 1,
   "nav_menu": {},
   "number_sections": true,
   "sideBar": true,
   "skip_h1_title": true,
   "title_cell": "Table of Contents",
   "title_sidebar": "Contents",
   "toc_cell": false,
   "toc_position": {},
   "toc_section_display": true,
   "toc_window_display": false
  }
 },
 "nbformat": 4,
 "nbformat_minor": 4
}

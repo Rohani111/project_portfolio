{
 "cells": [
  {
   "cell_type": "markdown",
   "metadata": {},
   "source": [
    "<a id='section_id'></a>"
   ]
  },
  {
   "cell_type": "markdown",
   "metadata": {},
   "source": [
    "<h1> <div align=\"center\"><a> Защита персональных данных клиентов </a></div>"
   ]
  },
  {
   "cell_type": "markdown",
   "metadata": {},
   "source": [
    "## Загрузка данных"
   ]
  },
  {
   "cell_type": "code",
   "execution_count": 1,
   "metadata": {},
   "outputs": [],
   "source": [
    "import pandas as pd\n",
    "import numpy as np\n",
    "import seaborn as sns\n",
    "import matplotlib.pyplot as plt\n",
    "from sklearn.linear_model import LinearRegression\n",
    "from sklearn.model_selection import cross_val_score"
   ]
  },
  {
   "cell_type": "code",
   "execution_count": 2,
   "metadata": {},
   "outputs": [
    {
     "data": {
      "text/html": [
       "<div>\n",
       "<style scoped>\n",
       "    .dataframe tbody tr th:only-of-type {\n",
       "        vertical-align: middle;\n",
       "    }\n",
       "\n",
       "    .dataframe tbody tr th {\n",
       "        vertical-align: top;\n",
       "    }\n",
       "\n",
       "    .dataframe thead th {\n",
       "        text-align: right;\n",
       "    }\n",
       "</style>\n",
       "<table border=\"1\" class=\"dataframe\">\n",
       "  <thead>\n",
       "    <tr style=\"text-align: right;\">\n",
       "      <th></th>\n",
       "      <th>Пол</th>\n",
       "      <th>Возраст</th>\n",
       "      <th>Зарплата</th>\n",
       "      <th>Члены семьи</th>\n",
       "      <th>Страховые выплаты</th>\n",
       "    </tr>\n",
       "  </thead>\n",
       "  <tbody>\n",
       "    <tr>\n",
       "      <th>0</th>\n",
       "      <td>1</td>\n",
       "      <td>41.0</td>\n",
       "      <td>49600.0</td>\n",
       "      <td>1</td>\n",
       "      <td>0</td>\n",
       "    </tr>\n",
       "    <tr>\n",
       "      <th>1</th>\n",
       "      <td>0</td>\n",
       "      <td>46.0</td>\n",
       "      <td>38000.0</td>\n",
       "      <td>1</td>\n",
       "      <td>1</td>\n",
       "    </tr>\n",
       "    <tr>\n",
       "      <th>2</th>\n",
       "      <td>0</td>\n",
       "      <td>29.0</td>\n",
       "      <td>21000.0</td>\n",
       "      <td>0</td>\n",
       "      <td>0</td>\n",
       "    </tr>\n",
       "    <tr>\n",
       "      <th>3</th>\n",
       "      <td>0</td>\n",
       "      <td>21.0</td>\n",
       "      <td>41700.0</td>\n",
       "      <td>2</td>\n",
       "      <td>0</td>\n",
       "    </tr>\n",
       "    <tr>\n",
       "      <th>4</th>\n",
       "      <td>1</td>\n",
       "      <td>28.0</td>\n",
       "      <td>26100.0</td>\n",
       "      <td>0</td>\n",
       "      <td>0</td>\n",
       "    </tr>\n",
       "  </tbody>\n",
       "</table>\n",
       "</div>"
      ],
      "text/plain": [
       "   Пол  Возраст  Зарплата  Члены семьи  Страховые выплаты\n",
       "0    1     41.0   49600.0            1                  0\n",
       "1    0     46.0   38000.0            1                  1\n",
       "2    0     29.0   21000.0            0                  0\n",
       "3    0     21.0   41700.0            2                  0\n",
       "4    1     28.0   26100.0            0                  0"
      ]
     },
     "metadata": {},
     "output_type": "display_data"
    },
    {
     "name": "stdout",
     "output_type": "stream",
     "text": [
      "<class 'pandas.core.frame.DataFrame'>\n",
      "RangeIndex: 5000 entries, 0 to 4999\n",
      "Data columns (total 5 columns):\n",
      " #   Column             Non-Null Count  Dtype  \n",
      "---  ------             --------------  -----  \n",
      " 0   Пол                5000 non-null   int64  \n",
      " 1   Возраст            5000 non-null   float64\n",
      " 2   Зарплата           5000 non-null   float64\n",
      " 3   Члены семьи        5000 non-null   int64  \n",
      " 4   Страховые выплаты  5000 non-null   int64  \n",
      "dtypes: float64(2), int64(3)\n",
      "memory usage: 195.4 KB\n"
     ]
    },
    {
     "data": {
      "text/html": [
       "<div>\n",
       "<style scoped>\n",
       "    .dataframe tbody tr th:only-of-type {\n",
       "        vertical-align: middle;\n",
       "    }\n",
       "\n",
       "    .dataframe tbody tr th {\n",
       "        vertical-align: top;\n",
       "    }\n",
       "\n",
       "    .dataframe thead th {\n",
       "        text-align: right;\n",
       "    }\n",
       "</style>\n",
       "<table border=\"1\" class=\"dataframe\">\n",
       "  <thead>\n",
       "    <tr style=\"text-align: right;\">\n",
       "      <th></th>\n",
       "      <th>Пол</th>\n",
       "      <th>Возраст</th>\n",
       "      <th>Зарплата</th>\n",
       "      <th>Члены семьи</th>\n",
       "      <th>Страховые выплаты</th>\n",
       "    </tr>\n",
       "  </thead>\n",
       "  <tbody>\n",
       "    <tr>\n",
       "      <th>count</th>\n",
       "      <td>5000.000000</td>\n",
       "      <td>5000.000000</td>\n",
       "      <td>5000.000000</td>\n",
       "      <td>5000.000000</td>\n",
       "      <td>5000.000000</td>\n",
       "    </tr>\n",
       "    <tr>\n",
       "      <th>mean</th>\n",
       "      <td>0.499000</td>\n",
       "      <td>30.952800</td>\n",
       "      <td>39916.360000</td>\n",
       "      <td>1.194200</td>\n",
       "      <td>0.148000</td>\n",
       "    </tr>\n",
       "    <tr>\n",
       "      <th>std</th>\n",
       "      <td>0.500049</td>\n",
       "      <td>8.440807</td>\n",
       "      <td>9900.083569</td>\n",
       "      <td>1.091387</td>\n",
       "      <td>0.463183</td>\n",
       "    </tr>\n",
       "    <tr>\n",
       "      <th>min</th>\n",
       "      <td>0.000000</td>\n",
       "      <td>18.000000</td>\n",
       "      <td>5300.000000</td>\n",
       "      <td>0.000000</td>\n",
       "      <td>0.000000</td>\n",
       "    </tr>\n",
       "    <tr>\n",
       "      <th>25%</th>\n",
       "      <td>0.000000</td>\n",
       "      <td>24.000000</td>\n",
       "      <td>33300.000000</td>\n",
       "      <td>0.000000</td>\n",
       "      <td>0.000000</td>\n",
       "    </tr>\n",
       "    <tr>\n",
       "      <th>50%</th>\n",
       "      <td>0.000000</td>\n",
       "      <td>30.000000</td>\n",
       "      <td>40200.000000</td>\n",
       "      <td>1.000000</td>\n",
       "      <td>0.000000</td>\n",
       "    </tr>\n",
       "    <tr>\n",
       "      <th>75%</th>\n",
       "      <td>1.000000</td>\n",
       "      <td>37.000000</td>\n",
       "      <td>46600.000000</td>\n",
       "      <td>2.000000</td>\n",
       "      <td>0.000000</td>\n",
       "    </tr>\n",
       "    <tr>\n",
       "      <th>max</th>\n",
       "      <td>1.000000</td>\n",
       "      <td>65.000000</td>\n",
       "      <td>79000.000000</td>\n",
       "      <td>6.000000</td>\n",
       "      <td>5.000000</td>\n",
       "    </tr>\n",
       "  </tbody>\n",
       "</table>\n",
       "</div>"
      ],
      "text/plain": [
       "               Пол      Возраст      Зарплата  Члены семьи  Страховые выплаты\n",
       "count  5000.000000  5000.000000   5000.000000  5000.000000        5000.000000\n",
       "mean      0.499000    30.952800  39916.360000     1.194200           0.148000\n",
       "std       0.500049     8.440807   9900.083569     1.091387           0.463183\n",
       "min       0.000000    18.000000   5300.000000     0.000000           0.000000\n",
       "25%       0.000000    24.000000  33300.000000     0.000000           0.000000\n",
       "50%       0.000000    30.000000  40200.000000     1.000000           0.000000\n",
       "75%       1.000000    37.000000  46600.000000     2.000000           0.000000\n",
       "max       1.000000    65.000000  79000.000000     6.000000           5.000000"
      ]
     },
     "metadata": {},
     "output_type": "display_data"
    },
    {
     "data": {
      "text/plain": [
       "'Количество дубликатов: 153'"
      ]
     },
     "metadata": {},
     "output_type": "display_data"
    }
   ],
   "source": [
    "df = pd.read_csv(\"/datasets/insurance.csv\")\n",
    "display(df.head())\n",
    "df.info()\n",
    "display(df.describe())\n",
    "display(f'Количество дубликатов: {df.duplicated().sum()}')"
   ]
  },
  {
   "cell_type": "markdown",
   "metadata": {},
   "source": [
    "**Основные выводы анализа исходных данных:**\n",
    "- Таблица имеет 5000 строк и 5 столбцов. Пропущенных значений нет.\n",
    "- В массиве представлены исключительно количественные признаки с типами данных int и float. Столбцы с типом данных float можно заменить на int, поскольку данные принимают только целочисленное значение.\n",
    "- Обнаружено 153 повторяющихся строк. \n",
    "- Статистических выбросов не обнаружено."
   ]
  },
  {
   "cell_type": "code",
   "execution_count": 3,
   "metadata": {},
   "outputs": [
    {
     "data": {
      "text/html": [
       "<div>\n",
       "<style scoped>\n",
       "    .dataframe tbody tr th:only-of-type {\n",
       "        vertical-align: middle;\n",
       "    }\n",
       "\n",
       "    .dataframe tbody tr th {\n",
       "        vertical-align: top;\n",
       "    }\n",
       "\n",
       "    .dataframe thead th {\n",
       "        text-align: right;\n",
       "    }\n",
       "</style>\n",
       "<table border=\"1\" class=\"dataframe\">\n",
       "  <thead>\n",
       "    <tr style=\"text-align: right;\">\n",
       "      <th></th>\n",
       "      <th>Пол</th>\n",
       "      <th>Возраст</th>\n",
       "      <th>Зарплата</th>\n",
       "      <th>Члены семьи</th>\n",
       "      <th>Страховые выплаты</th>\n",
       "    </tr>\n",
       "  </thead>\n",
       "  <tbody>\n",
       "    <tr>\n",
       "      <th>2955</th>\n",
       "      <td>1</td>\n",
       "      <td>32.0</td>\n",
       "      <td>21600.0</td>\n",
       "      <td>0</td>\n",
       "      <td>0</td>\n",
       "    </tr>\n",
       "    <tr>\n",
       "      <th>2988</th>\n",
       "      <td>1</td>\n",
       "      <td>32.0</td>\n",
       "      <td>21600.0</td>\n",
       "      <td>0</td>\n",
       "      <td>0</td>\n",
       "    </tr>\n",
       "    <tr>\n",
       "      <th>361</th>\n",
       "      <td>0</td>\n",
       "      <td>50.0</td>\n",
       "      <td>24700.0</td>\n",
       "      <td>1</td>\n",
       "      <td>2</td>\n",
       "    </tr>\n",
       "    <tr>\n",
       "      <th>2869</th>\n",
       "      <td>0</td>\n",
       "      <td>50.0</td>\n",
       "      <td>24700.0</td>\n",
       "      <td>1</td>\n",
       "      <td>2</td>\n",
       "    </tr>\n",
       "    <tr>\n",
       "      <th>333</th>\n",
       "      <td>0</td>\n",
       "      <td>32.0</td>\n",
       "      <td>25600.0</td>\n",
       "      <td>1</td>\n",
       "      <td>0</td>\n",
       "    </tr>\n",
       "    <tr>\n",
       "      <th>4230</th>\n",
       "      <td>0</td>\n",
       "      <td>32.0</td>\n",
       "      <td>25600.0</td>\n",
       "      <td>1</td>\n",
       "      <td>0</td>\n",
       "    </tr>\n",
       "    <tr>\n",
       "      <th>1378</th>\n",
       "      <td>0</td>\n",
       "      <td>36.0</td>\n",
       "      <td>26400.0</td>\n",
       "      <td>0</td>\n",
       "      <td>0</td>\n",
       "    </tr>\n",
       "    <tr>\n",
       "      <th>2723</th>\n",
       "      <td>0</td>\n",
       "      <td>36.0</td>\n",
       "      <td>26400.0</td>\n",
       "      <td>0</td>\n",
       "      <td>0</td>\n",
       "    </tr>\n",
       "    <tr>\n",
       "      <th>1002</th>\n",
       "      <td>1</td>\n",
       "      <td>34.0</td>\n",
       "      <td>26900.0</td>\n",
       "      <td>0</td>\n",
       "      <td>0</td>\n",
       "    </tr>\n",
       "    <tr>\n",
       "      <th>1140</th>\n",
       "      <td>1</td>\n",
       "      <td>34.0</td>\n",
       "      <td>26900.0</td>\n",
       "      <td>0</td>\n",
       "      <td>0</td>\n",
       "    </tr>\n",
       "  </tbody>\n",
       "</table>\n",
       "</div>"
      ],
      "text/plain": [
       "      Пол  Возраст  Зарплата  Члены семьи  Страховые выплаты\n",
       "2955    1     32.0   21600.0            0                  0\n",
       "2988    1     32.0   21600.0            0                  0\n",
       "361     0     50.0   24700.0            1                  2\n",
       "2869    0     50.0   24700.0            1                  2\n",
       "333     0     32.0   25600.0            1                  0\n",
       "4230    0     32.0   25600.0            1                  0\n",
       "1378    0     36.0   26400.0            0                  0\n",
       "2723    0     36.0   26400.0            0                  0\n",
       "1002    1     34.0   26900.0            0                  0\n",
       "1140    1     34.0   26900.0            0                  0"
      ]
     },
     "execution_count": 3,
     "metadata": {},
     "output_type": "execute_result"
    }
   ],
   "source": [
    "#выведем полный список строк, которые имеют дубликаты, для удобства отсортируем их по зарплате\n",
    "df[df.duplicated(keep=False)].sort_values(by='Зарплата').head(10)"
   ]
  },
  {
   "cell_type": "code",
   "execution_count": 4,
   "metadata": {
    "scrolled": true
   },
   "outputs": [
    {
     "name": "stdout",
     "output_type": "stream",
     "text": [
      "<class 'pandas.core.frame.DataFrame'>\n",
      "RangeIndex: 4847 entries, 0 to 4846\n",
      "Data columns (total 5 columns):\n",
      " #   Column             Non-Null Count  Dtype\n",
      "---  ------             --------------  -----\n",
      " 0   Пол                4847 non-null   int64\n",
      " 1   Возраст            4847 non-null   int64\n",
      " 2   Зарплата           4847 non-null   int64\n",
      " 3   Члены семьи        4847 non-null   int64\n",
      " 4   Страховые выплаты  4847 non-null   int64\n",
      "dtypes: int64(5)\n",
      "memory usage: 189.5 KB\n"
     ]
    },
    {
     "data": {
      "text/plain": [
       "'Количество дубликатов: 0'"
      ]
     },
     "metadata": {},
     "output_type": "display_data"
    }
   ],
   "source": [
    "#заменим тип данных и удалим дубликаты\n",
    "df['Возраст'] = df['Возраст'].astype(\"int\")\n",
    "df['Зарплата'] = df['Зарплата'].astype(\"int\")\n",
    "df = df.drop_duplicates().reset_index(drop=True)\n",
    "df.info()\n",
    "display(f'Количество дубликатов: {df.duplicated().sum()}')"
   ]
  },
  {
   "cell_type": "code",
   "execution_count": 5,
   "metadata": {
    "scrolled": true
   },
   "outputs": [
    {
     "data": {
      "image/png": "[encoded data removed]",
      "text/plain": [
       "<Figure size 432x288 with 2 Axes>"
      ]
     },
     "metadata": {
      "needs_background": "light"
     },
     "output_type": "display_data"
    }
   ],
   "source": [
    "g = sns.heatmap(df.corr(),annot=True)\n",
    "g.set_xticklabels(g.get_xticklabels(), rotation=10, horizontalalignment='right')\n",
    "g.set_yticklabels(g.get_yticklabels(), rotation=0, horizontalalignment='right')\n",
    "g.axes.set_title(\"Корреляционная матрица\", fontsize=16)\n",
    "plt.show()"
   ]
  },
  {
   "cell_type": "markdown",
   "metadata": {},
   "source": [
    "Мы наблюдаем довольно сильную связь между целевым признаком и возрастом, что вполне логично, принимая во внимание, что мы рассматриваем данные страховой компании. Мультиколлинеарности признаков не обнаружено. Изучим распределение признаков."
   ]
  },
  {
   "cell_type": "code",
   "execution_count": 6,
   "metadata": {},
   "outputs": [
    {
     "data": {
      "text/plain": [
       "0    0.501547\n",
       "1    0.498453\n",
       "Name: Пол, dtype: float64"
      ]
     },
     "execution_count": 6,
     "metadata": {},
     "output_type": "execute_result"
    }
   ],
   "source": [
    "df[\"Пол\"].value_counts(normalize=True)"
   ]
  },
  {
   "cell_type": "code",
   "execution_count": 7,
   "metadata": {
    "scrolled": true
   },
   "outputs": [
    {
     "data": {
      "image/png": "[encoded data removed]",
      "text/plain": [
       "<Figure size 432x288 with 1 Axes>"
      ]
     },
     "metadata": {
      "needs_background": "light"
     },
     "output_type": "display_data"
    }
   ],
   "source": [
    "x = df[\"Возраст\"].hist(bins=10, range=(10, 70), density=True)\n",
    "plt.xlabel('возраст')\n",
    "plt.title(\"Плотностное распределение возрастов\")\n",
    "plt.show()"
   ]
  },
  {
   "cell_type": "code",
   "execution_count": 8,
   "metadata": {},
   "outputs": [
    {
     "data": {
      "image/png": "[encoded data removed]",
      "text/plain": [
       "<Figure size 432x288 with 1 Axes>"
      ]
     },
     "metadata": {
      "needs_background": "light"
     },
     "output_type": "display_data"
    }
   ],
   "source": [
    "x = df[\"Зарплата\"].hist(bins=10, range=(5000, 80000), density=True)\n",
    "plt.xlabel('зарплата')\n",
    "plt.title(\"Плотностное распределение зарплат\")\n",
    "plt.show()"
   ]
  },
  {
   "cell_type": "code",
   "execution_count": 9,
   "metadata": {},
   "outputs": [
    {
     "data": {
      "text/plain": [
       "1    0.360635\n",
       "0    0.301424\n",
       "2    0.214153\n",
       "3    0.090159\n",
       "4    0.025583\n",
       "5    0.006602\n",
       "6    0.001444\n",
       "Name: Члены семьи, dtype: float64"
      ]
     },
     "execution_count": 9,
     "metadata": {},
     "output_type": "execute_result"
    },
    {
     "data": {
      "image/png": "[encoded data removed]",
      "text/plain": [
       "<Figure size 432x288 with 1 Axes>"
      ]
     },
     "metadata": {
      "needs_background": "light"
     },
     "output_type": "display_data"
    }
   ],
   "source": [
    "sns.histplot(df[\"Члены семьи\"], stat=\"density\")\n",
    "df[\"Члены семьи\"].value_counts(normalize=True)"
   ]
  },
  {
   "cell_type": "markdown",
   "metadata": {},
   "source": [
    "Основные выводы по анализу признаков:\n",
    " - обнаружена связь между целевым признаком и возрастом (коэффициент корреляции 0.65);\n",
    " - доля мужчин и женщин одинаковая;\n",
    " - большая часть клиентов имеет возраст в диапазоне от 22 до 40 лет;\n",
    " - распределение зарплат близко к нормальному со средним значением 40 000 руб;\n",
    " - топ-3 по количеству членов семьи это пары (36%), одиночки (30%) и, возможно, пары с одним ребенком (21%)"
   ]
  },
  {
   "cell_type": "markdown",
   "metadata": {},
   "source": [
    "## Умножение матриц"
   ]
  },
  {
   "cell_type": "markdown",
   "metadata": {},
   "source": [
    "Ответьте на вопрос и обоснуйте решение. \"Признаки умножают на **обратимую** матрицу. Изменится ли качество линейной регрессии?\" \n",
    "\n",
    "* Изменится. Приведите примеры матриц.\n",
    "* Не изменится. Укажите, как связаны параметры линейной регрессии в исходной задаче и в преобразованной."
   ]
  },
  {
   "cell_type": "markdown",
   "metadata": {},
   "source": [
    "Ответим на этот вопрос, используя алгоритм обучения модели линенейной регрессии.\n",
    "\n",
    "Обозначения:\n",
    "\n",
    "- $X$ — прямоугольная матрица признаков\n",
    "\n",
    "- $y$ — вектор целевого признака\n",
    "\n",
    "- $P$ — квадртаная матрица, на которую умножаются признаки\n",
    "\n",
    "- $w$ — вектор весов линейной регрессии\n",
    "________________________________________________________________________________________________________________________________"
   ]
  },
  {
   "cell_type": "markdown",
   "metadata": {},
   "source": [
    "Формула предсказания для исходной матрицы признаков X:\n",
    "$$ ȳ = Xw $$\n",
    "\n",
    "Формула обучения:\n",
    "$$ w = (X^T X)^{-1} X^T y $$\n",
    "\n",
    "\n",
    "Раскроем формулу предсказания:\n",
    "$$ ȳ = X(X^T X)^{-1} X^T y $$ \n",
    "________________________________________________________________________________________________________________________________"
   ]
  },
  {
   "cell_type": "markdown",
   "metadata": {},
   "source": [
    "Формула предсказания для преобразованной матрицы признаков XP:\n",
    "$$ ȳ* = XPw* $$\n",
    "\n",
    "Формула обучения:\n",
    "$$ w* = ((XP)^T (XP))^{-1} (XP)^T y $$\n",
    "\n",
    "\n",
    "Раскроем транспонирование матриц:\n",
    "$$ w* = (X^T P^T XP)^{-1} X^TP^T y $$\n",
    "\n",
    "Теперь раскроем скобки для произведения обратных матриц:\n",
    "$$ w* = (X^T X)^{-1} (P^T)^{-1} P^{-1} X^TP^T y $$\n",
    "\n",
    "Произведение матрицы на обратную к ней дает единичную матрицу, то есть можно сократить произведение матриц $(P^T)^{-1}P^T$:\n",
    "\n",
    "\n",
    "Получаем:\n",
    "$$ w* = (X^T X)^{-1} P^{-1} X^T y $$\n",
    "\n",
    "Распишем предсказания по новым признакам с учетом полученной формулы:\n",
    "\n",
    "$$ ȳ* = XP (X^T X)^{-1} P^{-1} X^T y $$\n",
    "\n",
    "По свойству единичной матрицы также сократим произведение матриц $P(P)^{-1}$:\n",
    "\n",
    "$$ ȳ* = X(X^TX)^{-1}  X^T y $$\n",
    "\n",
    "Мы получили формулу для $ȳ*$, которая полностью совпадает с формулой для $ȳ$. Таким образом можно сделать вывод, что **при умножении признаков на обратимую матрицов качество модели линейной регрессии никак не изменится**.\n",
    "\n",
    "Из формул выше можно также вывести **связь весовых коэффициентов для исходной и преобразованной матрицы**:\n",
    "$$ w* = P^{-1}w$$\n"
   ]
  },
  {
   "cell_type": "markdown",
   "metadata": {},
   "source": [
    "## Алгоритм преобразования"
   ]
  },
  {
   "cell_type": "markdown",
   "metadata": {},
   "source": [
    "Для защиты данных клиентов умножим матрицу признаков на обратимую матрицу, которая будет сгенерирована случайным образом\n",
    "  \n",
    "Этапы алгоритма:\n",
    "   1. Создание квадратной матрицы $R$ c необходимой рамерностью n, где n - количество признаков для регрессии;\n",
    "   2. Проверка матрицы на обратимость;\n",
    "   3. Получение преобразованной матрицы $M = X @ R$;\n",
    "   4. Расчет метрики R2 для модели линейной регрессии для исходной и преобразованной матрицы;\n",
    "   5. Восстановление исходной матрицы признаков. \n",
    " \n",
    "Выше было приведено доказательство, что при умножении признаков на обратимую матрицов качество модели линейной регрессии никак не изменится."
   ]
  },
  {
   "cell_type": "markdown",
   "metadata": {},
   "source": [
    "## Проверка алгоритма"
   ]
  },
  {
   "cell_type": "code",
   "execution_count": 10,
   "metadata": {},
   "outputs": [
    {
     "name": "stdout",
     "output_type": "stream",
     "text": [
      "Количество признаков исходной матрицы =  4\n"
     ]
    }
   ],
   "source": [
    "# объявим переменные с признаками и целевым признаком, определим количество признаков\n",
    "X = df.drop(['Страховые выплаты'], axis = 1)\n",
    "y = df['Страховые выплаты']\n",
    "print(\"Количество признаков исходной матрицы = \", X.shape[1])"
   ]
  },
  {
   "cell_type": "code",
   "execution_count": 11,
   "metadata": {},
   "outputs": [
    {
     "data": {
      "text/plain": [
       "array([[0.92961609, 0.31637555, 0.18391881, 0.20456028],\n",
       "       [0.56772503, 0.5955447 , 0.96451452, 0.6531771 ],\n",
       "       [0.74890664, 0.65356987, 0.74771481, 0.96130674],\n",
       "       [0.0083883 , 0.10644438, 0.29870371, 0.65641118]])"
      ]
     },
     "execution_count": 11,
     "metadata": {},
     "output_type": "execute_result"
    }
   ],
   "source": [
    "#сгенерируем случайную обратимую матрицу размерностью nxn, которую можно будет легко восстановить, зная seed\n",
    "np.random.seed(12345)\n",
    "R = np.random.random(size=(X.shape[1], X.shape[1]))\n",
    "R"
   ]
  },
  {
   "cell_type": "code",
   "execution_count": 12,
   "metadata": {},
   "outputs": [
    {
     "data": {
      "text/plain": [
       "array([[ 2.1336149 ,  0.5051926 , -1.71113385,  1.33832486],\n",
       "       [-3.76534462, -2.61352053,  6.72316006, -6.07193701],\n",
       "       [ 0.97426298,  2.9928115 , -3.49875049,  1.84220045],\n",
       "       [ 0.13998298, -0.94454066,  0.52375812,  1.652661  ]])"
      ]
     },
     "execution_count": 12,
     "metadata": {},
     "output_type": "execute_result"
    }
   ],
   "source": [
    "#убедимся, что полученная матрица обратима\n",
    "np.linalg.inv(R)"
   ]
  },
  {
   "cell_type": "code",
   "execution_count": 13,
   "metadata": {
    "scrolled": true
   },
   "outputs": [
    {
     "data": {
      "text/html": [
       "<div>\n",
       "<style scoped>\n",
       "    .dataframe tbody tr th:only-of-type {\n",
       "        vertical-align: middle;\n",
       "    }\n",
       "\n",
       "    .dataframe tbody tr th {\n",
       "        vertical-align: top;\n",
       "    }\n",
       "\n",
       "    .dataframe thead th {\n",
       "        text-align: right;\n",
       "    }\n",
       "</style>\n",
       "<table border=\"1\" class=\"dataframe\">\n",
       "  <thead>\n",
       "    <tr style=\"text-align: right;\">\n",
       "      <th></th>\n",
       "      <th>0</th>\n",
       "      <th>1</th>\n",
       "      <th>2</th>\n",
       "      <th>3</th>\n",
       "    </tr>\n",
       "  </thead>\n",
       "  <tbody>\n",
       "    <tr>\n",
       "      <th>0</th>\n",
       "      <td>37169.983952</td>\n",
       "      <td>32441.905747</td>\n",
       "      <td>37126.682258</td>\n",
       "      <td>47708.455342</td>\n",
       "    </tr>\n",
       "    <tr>\n",
       "      <th>1</th>\n",
       "      <td>28484.575966</td>\n",
       "      <td>24863.156593</td>\n",
       "      <td>28457.829124</td>\n",
       "      <td>36560.358528</td>\n",
       "    </tr>\n",
       "    <tr>\n",
       "      <th>2</th>\n",
       "      <td>15743.503414</td>\n",
       "      <td>13742.238084</td>\n",
       "      <td>15729.981916</td>\n",
       "      <td>20206.383593</td>\n",
       "    </tr>\n",
       "    <tr>\n",
       "      <th>3</th>\n",
       "      <td>31241.345787</td>\n",
       "      <td>27266.582942</td>\n",
       "      <td>31200.559759</td>\n",
       "      <td>40101.520436</td>\n",
       "    </tr>\n",
       "    <tr>\n",
       "      <th>4</th>\n",
       "      <td>19563.289157</td>\n",
       "      <td>17075.165256</td>\n",
       "      <td>19542.546847</td>\n",
       "      <td>25108.599330</td>\n",
       "    </tr>\n",
       "  </tbody>\n",
       "</table>\n",
       "</div>"
      ],
      "text/plain": [
       "              0             1             2             3\n",
       "0  37169.983952  32441.905747  37126.682258  47708.455342\n",
       "1  28484.575966  24863.156593  28457.829124  36560.358528\n",
       "2  15743.503414  13742.238084  15729.981916  20206.383593\n",
       "3  31241.345787  27266.582942  31200.559759  40101.520436\n",
       "4  19563.289157  17075.165256  19542.546847  25108.599330"
      ]
     },
     "execution_count": 13,
     "metadata": {},
     "output_type": "execute_result"
    }
   ],
   "source": [
    "#умножим исходную матрицу признаков на обратимую матрицу \n",
    "M = X @ R\n",
    "M.head()"
   ]
  },
  {
   "cell_type": "markdown",
   "metadata": {},
   "source": [
    "**Обновленная матрица полностью потеряла исходные признаки, данные клиентов защищены**"
   ]
  },
  {
   "cell_type": "code",
   "execution_count": 14,
   "metadata": {},
   "outputs": [
    {
     "name": "stdout",
     "output_type": "stream",
     "text": [
      "R2_score для исходной матрицы =  0.42779425809789445\n"
     ]
    }
   ],
   "source": [
    "#Поскольку в sklearn для всех моделей регрессии метрика по умолчанию R2,можно сразу получить ее значение,\n",
    "#не используя методы fit и predict. Рассчитаем коэффициент детерминации для исходной матрицы признаков.\n",
    "lr = LinearRegression()\n",
    "r2 = cross_val_score(lr, X, y, cv=5, n_jobs=-1).mean()\n",
    "print(\"R2_score для исходной матрицы = \", r2)"
   ]
  },
  {
   "cell_type": "code",
   "execution_count": 15,
   "metadata": {},
   "outputs": [
    {
     "name": "stdout",
     "output_type": "stream",
     "text": [
      "R2_score для  преобразованной матрицы =  0.42779425809786975\n"
     ]
    }
   ],
   "source": [
    "#Сравним данную метрику для преобразованной матрицы.\n",
    "lr = LinearRegression()\n",
    "r2 = cross_val_score(lr, M, y, cv=5, n_jobs=-1).mean()\n",
    "print(\"R2_score для  преобразованной матрицы = \", r2)"
   ]
  },
  {
   "cell_type": "markdown",
   "metadata": {},
   "source": [
    "**Метрики R2 для модели с исходной и преобразованной матрицы признаков совпадают вплоть до 12 знака после запятой. А чтобы получить исходную матрицу признаков достаточно преобразованную матрицу умножить на обратную матрицу к той, на которую умножались признаки.**"
   ]
  },
  {
   "cell_type": "code",
   "execution_count": 16,
   "metadata": {},
   "outputs": [
    {
     "data": {
      "text/plain": [
       "'Проверка идентичности обратимых матрицы: True'"
      ]
     },
     "metadata": {},
     "output_type": "display_data"
    },
    {
     "data": {
      "text/plain": [
       "'Исходная матрица признаков'"
      ]
     },
     "metadata": {},
     "output_type": "display_data"
    },
    {
     "data": {
      "text/html": [
       "<div>\n",
       "<style scoped>\n",
       "    .dataframe tbody tr th:only-of-type {\n",
       "        vertical-align: middle;\n",
       "    }\n",
       "\n",
       "    .dataframe tbody tr th {\n",
       "        vertical-align: top;\n",
       "    }\n",
       "\n",
       "    .dataframe thead th {\n",
       "        text-align: right;\n",
       "    }\n",
       "</style>\n",
       "<table border=\"1\" class=\"dataframe\">\n",
       "  <thead>\n",
       "    <tr style=\"text-align: right;\">\n",
       "      <th></th>\n",
       "      <th>Пол</th>\n",
       "      <th>Возраст</th>\n",
       "      <th>Зарплата</th>\n",
       "      <th>Члены семьи</th>\n",
       "    </tr>\n",
       "  </thead>\n",
       "  <tbody>\n",
       "    <tr>\n",
       "      <th>0</th>\n",
       "      <td>1</td>\n",
       "      <td>41</td>\n",
       "      <td>49600</td>\n",
       "      <td>1</td>\n",
       "    </tr>\n",
       "    <tr>\n",
       "      <th>1</th>\n",
       "      <td>0</td>\n",
       "      <td>46</td>\n",
       "      <td>38000</td>\n",
       "      <td>1</td>\n",
       "    </tr>\n",
       "    <tr>\n",
       "      <th>2</th>\n",
       "      <td>0</td>\n",
       "      <td>29</td>\n",
       "      <td>21000</td>\n",
       "      <td>0</td>\n",
       "    </tr>\n",
       "    <tr>\n",
       "      <th>3</th>\n",
       "      <td>0</td>\n",
       "      <td>21</td>\n",
       "      <td>41700</td>\n",
       "      <td>2</td>\n",
       "    </tr>\n",
       "    <tr>\n",
       "      <th>4</th>\n",
       "      <td>1</td>\n",
       "      <td>28</td>\n",
       "      <td>26100</td>\n",
       "      <td>0</td>\n",
       "    </tr>\n",
       "  </tbody>\n",
       "</table>\n",
       "</div>"
      ],
      "text/plain": [
       "   Пол  Возраст  Зарплата  Члены семьи\n",
       "0    1       41     49600            1\n",
       "1    0       46     38000            1\n",
       "2    0       29     21000            0\n",
       "3    0       21     41700            2\n",
       "4    1       28     26100            0"
      ]
     },
     "metadata": {},
     "output_type": "display_data"
    },
    {
     "data": {
      "text/plain": [
       "'Восстановленная матрица признаков'"
      ]
     },
     "metadata": {},
     "output_type": "display_data"
    },
    {
     "data": {
      "text/html": [
       "<div>\n",
       "<style scoped>\n",
       "    .dataframe tbody tr th:only-of-type {\n",
       "        vertical-align: middle;\n",
       "    }\n",
       "\n",
       "    .dataframe tbody tr th {\n",
       "        vertical-align: top;\n",
       "    }\n",
       "\n",
       "    .dataframe thead th {\n",
       "        text-align: right;\n",
       "    }\n",
       "</style>\n",
       "<table border=\"1\" class=\"dataframe\">\n",
       "  <thead>\n",
       "    <tr style=\"text-align: right;\">\n",
       "      <th></th>\n",
       "      <th>0</th>\n",
       "      <th>1</th>\n",
       "      <th>2</th>\n",
       "      <th>3</th>\n",
       "    </tr>\n",
       "  </thead>\n",
       "  <tbody>\n",
       "    <tr>\n",
       "      <th>0</th>\n",
       "      <td>1.0</td>\n",
       "      <td>41.0</td>\n",
       "      <td>49600.0</td>\n",
       "      <td>1.0</td>\n",
       "    </tr>\n",
       "    <tr>\n",
       "      <th>1</th>\n",
       "      <td>0.0</td>\n",
       "      <td>46.0</td>\n",
       "      <td>38000.0</td>\n",
       "      <td>1.0</td>\n",
       "    </tr>\n",
       "    <tr>\n",
       "      <th>2</th>\n",
       "      <td>0.0</td>\n",
       "      <td>29.0</td>\n",
       "      <td>21000.0</td>\n",
       "      <td>0.0</td>\n",
       "    </tr>\n",
       "    <tr>\n",
       "      <th>3</th>\n",
       "      <td>0.0</td>\n",
       "      <td>21.0</td>\n",
       "      <td>41700.0</td>\n",
       "      <td>2.0</td>\n",
       "    </tr>\n",
       "    <tr>\n",
       "      <th>4</th>\n",
       "      <td>1.0</td>\n",
       "      <td>28.0</td>\n",
       "      <td>26100.0</td>\n",
       "      <td>0.0</td>\n",
       "    </tr>\n",
       "  </tbody>\n",
       "</table>\n",
       "</div>"
      ],
      "text/plain": [
       "     0     1        2    3\n",
       "0  1.0  41.0  49600.0  1.0\n",
       "1  0.0  46.0  38000.0  1.0\n",
       "2  0.0  29.0  21000.0  0.0\n",
       "3  0.0  21.0  41700.0  2.0\n",
       "4  1.0  28.0  26100.0  0.0"
      ]
     },
     "metadata": {},
     "output_type": "display_data"
    },
    {
     "data": {
      "text/plain": [
       "'Проверка идентичности матрицы признаков: True'"
      ]
     },
     "metadata": {},
     "output_type": "display_data"
    }
   ],
   "source": [
    "#восстановим исходную матрицу, используя нужный seed\n",
    "np.random.seed(12345)\n",
    "Ṙ = np.random.random(size=(X.shape[1], X.shape[1]))\n",
    "display(f'Проверка идентичности обратимых матрицы: {np.array_equal(R, Ṙ)}')\n",
    "      \n",
    "Ẋ = M @ np.linalg.inv(Ṙ)\n",
    "display(\"Исходная матрица признаков\", \n",
    "        X.head(),\n",
    "        \"Восстановленная матрица признаков\",\n",
    "        np.around(Ẋ).head())\n",
    "\n",
    "display(f'Проверка идентичности матрицы признаков: {np.array_equal(X, np.around(Ẋ))}')"
   ]
  },
  {
   "cell_type": "markdown",
   "metadata": {},
   "source": [
    "**По итогам работы предложенного алгоритма мы убедились, что выполненые ключевые требования задачи:**\n",
    "  - после умножения на обратимую матрицу исходные признаки полностью утеряны (данные клиентов защищены);\n",
    "  - обновленная матрица признаков позволяет обучать модель линейной регрессии без потери качества;\n",
    "  - матрица исходных признаком может быть восстановлена при наличии правильного seed."
   ]
  }
 ],
 "metadata": {
  "ExecuteTimeLog": [
   {
    "duration": 1423,
    "start_time": "2022-05-11T08:17:21.394Z"
   },
   {
    "duration": 27,
    "start_time": "2022-05-11T08:18:15.275Z"
   },
   {
    "duration": 25,
    "start_time": "2022-05-11T08:19:03.003Z"
   },
   {
    "duration": 131,
    "start_time": "2022-05-11T08:19:17.354Z"
   },
   {
    "duration": 27,
    "start_time": "2022-05-11T08:19:45.931Z"
   },
   {
    "duration": 9,
    "start_time": "2022-05-11T08:22:15.652Z"
   },
   {
    "duration": 10,
    "start_time": "2022-05-11T08:25:17.525Z"
   },
   {
    "duration": 546,
    "start_time": "2022-05-11T08:25:23.253Z"
   },
   {
    "duration": 9,
    "start_time": "2022-05-11T08:25:34.654Z"
   },
   {
    "duration": 7,
    "start_time": "2022-05-11T08:25:49.601Z"
   },
   {
    "duration": 15,
    "start_time": "2022-05-11T08:29:56.328Z"
   },
   {
    "duration": 14,
    "start_time": "2022-05-11T08:30:04.952Z"
   },
   {
    "duration": 27,
    "start_time": "2022-05-11T08:31:19.944Z"
   },
   {
    "duration": 43,
    "start_time": "2022-05-11T08:34:05.697Z"
   },
   {
    "duration": 37,
    "start_time": "2022-05-11T08:34:19.649Z"
   },
   {
    "duration": 12,
    "start_time": "2022-05-11T08:35:16.213Z"
   },
   {
    "duration": 8,
    "start_time": "2022-05-11T08:39:22.428Z"
   },
   {
    "duration": 7,
    "start_time": "2022-05-11T08:39:26.947Z"
   },
   {
    "duration": 9,
    "start_time": "2022-05-11T08:41:20.461Z"
   },
   {
    "duration": 57,
    "start_time": "2022-05-11T08:42:07.304Z"
   },
   {
    "duration": 10,
    "start_time": "2022-05-11T08:42:27.109Z"
   },
   {
    "duration": 21,
    "start_time": "2022-05-11T08:42:57.814Z"
   },
   {
    "duration": 19,
    "start_time": "2022-05-11T08:43:04.630Z"
   },
   {
    "duration": 7,
    "start_time": "2022-05-11T08:43:11.725Z"
   },
   {
    "duration": 8,
    "start_time": "2022-05-11T08:43:54.639Z"
   },
   {
    "duration": 28,
    "start_time": "2022-05-11T08:44:01.174Z"
   },
   {
    "duration": 16,
    "start_time": "2022-05-11T08:45:05.039Z"
   },
   {
    "duration": 41,
    "start_time": "2022-05-11T08:45:31.927Z"
   },
   {
    "duration": 37,
    "start_time": "2022-05-11T08:45:48.095Z"
   },
   {
    "duration": 19,
    "start_time": "2022-05-11T08:47:09.344Z"
   },
   {
    "duration": 19,
    "start_time": "2022-05-11T08:49:02.361Z"
   },
   {
    "duration": 14,
    "start_time": "2022-05-11T08:49:57.615Z"
   },
   {
    "duration": 60,
    "start_time": "2022-05-11T08:51:59.771Z"
   },
   {
    "duration": 14,
    "start_time": "2022-05-11T08:54:51.531Z"
   },
   {
    "duration": 24,
    "start_time": "2022-05-11T08:58:12.868Z"
   },
   {
    "duration": 29,
    "start_time": "2022-05-11T09:04:16.697Z"
   },
   {
    "duration": 8,
    "start_time": "2022-05-11T09:04:30.344Z"
   },
   {
    "duration": 10,
    "start_time": "2022-05-11T09:04:40.224Z"
   },
   {
    "duration": 13,
    "start_time": "2022-05-11T09:04:49.322Z"
   },
   {
    "duration": 1679,
    "start_time": "2022-05-11T09:05:51.600Z"
   },
   {
    "duration": 64,
    "start_time": "2022-05-11T09:05:53.285Z"
   },
   {
    "duration": 21,
    "start_time": "2022-05-11T09:05:53.351Z"
   },
   {
    "duration": 19,
    "start_time": "2022-05-11T09:05:53.374Z"
   },
   {
    "duration": 43,
    "start_time": "2022-05-11T09:05:53.396Z"
   },
   {
    "duration": 31,
    "start_time": "2022-05-11T09:14:51.169Z"
   },
   {
    "duration": 1692,
    "start_time": "2022-05-11T09:14:59.295Z"
   },
   {
    "duration": 68,
    "start_time": "2022-05-11T09:15:00.990Z"
   },
   {
    "duration": 37,
    "start_time": "2022-05-11T09:15:01.060Z"
   },
   {
    "duration": 7,
    "start_time": "2022-05-11T09:19:57.334Z"
   },
   {
    "duration": 120,
    "start_time": "2022-05-11T09:20:52.042Z"
   },
   {
    "duration": 41,
    "start_time": "2022-05-11T09:20:59.554Z"
   },
   {
    "duration": 12,
    "start_time": "2022-05-11T09:30:47.853Z"
   },
   {
    "duration": 14,
    "start_time": "2022-05-11T09:31:21.199Z"
   },
   {
    "duration": 4,
    "start_time": "2022-05-11T09:31:38.045Z"
   },
   {
    "duration": 5,
    "start_time": "2022-05-11T09:31:42.957Z"
   },
   {
    "duration": 12,
    "start_time": "2022-05-11T09:32:20.300Z"
   },
   {
    "duration": 10,
    "start_time": "2022-05-11T09:32:39.720Z"
   },
   {
    "duration": 4,
    "start_time": "2022-05-11T09:33:26.846Z"
   },
   {
    "duration": 11,
    "start_time": "2022-05-11T09:34:18.230Z"
   },
   {
    "duration": 8,
    "start_time": "2022-05-11T09:38:35.944Z"
   },
   {
    "duration": 14,
    "start_time": "2022-05-11T09:38:55.515Z"
   },
   {
    "duration": 21,
    "start_time": "2022-05-11T09:39:25.001Z"
   },
   {
    "duration": 59,
    "start_time": "2022-05-11T09:39:45.841Z"
   },
   {
    "duration": 5,
    "start_time": "2022-05-11T10:21:58.313Z"
   },
   {
    "duration": 4,
    "start_time": "2022-05-11T10:28:45.545Z"
   },
   {
    "duration": 9,
    "start_time": "2022-05-11T10:29:04.106Z"
   },
   {
    "duration": 446,
    "start_time": "2022-05-11T10:29:24.641Z"
   },
   {
    "duration": 1453,
    "start_time": "2022-05-11T11:07:05.025Z"
   },
   {
    "duration": 40,
    "start_time": "2022-05-11T11:07:06.482Z"
   },
   {
    "duration": 24,
    "start_time": "2022-05-11T11:07:06.523Z"
   },
   {
    "duration": 4,
    "start_time": "2022-05-11T11:07:06.549Z"
   },
   {
    "duration": 169,
    "start_time": "2022-05-11T11:07:06.555Z"
   },
   {
    "duration": 0,
    "start_time": "2022-05-11T11:07:06.725Z"
   },
   {
    "duration": 0,
    "start_time": "2022-05-11T11:07:06.726Z"
   },
   {
    "duration": 0,
    "start_time": "2022-05-11T11:07:06.727Z"
   },
   {
    "duration": 0,
    "start_time": "2022-05-11T11:07:06.727Z"
   },
   {
    "duration": 0,
    "start_time": "2022-05-11T11:07:06.729Z"
   },
   {
    "duration": 0,
    "start_time": "2022-05-11T11:07:06.730Z"
   },
   {
    "duration": 0,
    "start_time": "2022-05-11T11:07:06.731Z"
   },
   {
    "duration": 1526,
    "start_time": "2022-05-11T11:07:28.212Z"
   },
   {
    "duration": 40,
    "start_time": "2022-05-11T11:07:29.740Z"
   },
   {
    "duration": 27,
    "start_time": "2022-05-11T11:07:29.782Z"
   },
   {
    "duration": 4,
    "start_time": "2022-05-11T11:07:29.811Z"
   },
   {
    "duration": 19,
    "start_time": "2022-05-11T11:07:29.816Z"
   },
   {
    "duration": 138,
    "start_time": "2022-05-11T11:07:29.837Z"
   },
   {
    "duration": 0,
    "start_time": "2022-05-11T11:07:29.978Z"
   },
   {
    "duration": 0,
    "start_time": "2022-05-11T11:07:29.979Z"
   },
   {
    "duration": 0,
    "start_time": "2022-05-11T11:07:29.983Z"
   },
   {
    "duration": 0,
    "start_time": "2022-05-11T11:07:29.984Z"
   },
   {
    "duration": 0,
    "start_time": "2022-05-11T11:07:29.986Z"
   },
   {
    "duration": 0,
    "start_time": "2022-05-11T11:07:29.988Z"
   },
   {
    "duration": 19,
    "start_time": "2022-05-11T11:07:42.685Z"
   },
   {
    "duration": 13,
    "start_time": "2022-05-11T11:07:52.981Z"
   },
   {
    "duration": 4,
    "start_time": "2022-05-11T11:08:11.397Z"
   },
   {
    "duration": 156,
    "start_time": "2022-05-11T11:08:15.839Z"
   },
   {
    "duration": 1506,
    "start_time": "2022-05-11T11:08:43.859Z"
   },
   {
    "duration": 41,
    "start_time": "2022-05-11T11:08:45.367Z"
   },
   {
    "duration": 25,
    "start_time": "2022-05-11T11:08:45.410Z"
   },
   {
    "duration": 4,
    "start_time": "2022-05-11T11:08:45.437Z"
   },
   {
    "duration": 39,
    "start_time": "2022-05-11T11:08:45.443Z"
   },
   {
    "duration": 122,
    "start_time": "2022-05-11T11:08:45.484Z"
   },
   {
    "duration": 0,
    "start_time": "2022-05-11T11:08:45.608Z"
   },
   {
    "duration": 0,
    "start_time": "2022-05-11T11:08:45.609Z"
   },
   {
    "duration": 0,
    "start_time": "2022-05-11T11:08:45.610Z"
   },
   {
    "duration": 0,
    "start_time": "2022-05-11T11:08:45.611Z"
   },
   {
    "duration": 0,
    "start_time": "2022-05-11T11:08:45.612Z"
   },
   {
    "duration": 0,
    "start_time": "2022-05-11T11:08:45.614Z"
   },
   {
    "duration": 0,
    "start_time": "2022-05-11T11:08:45.615Z"
   },
   {
    "duration": 0,
    "start_time": "2022-05-11T11:08:45.616Z"
   },
   {
    "duration": 1615,
    "start_time": "2022-05-11T11:11:25.757Z"
   },
   {
    "duration": 57,
    "start_time": "2022-05-11T11:11:27.376Z"
   },
   {
    "duration": 25,
    "start_time": "2022-05-11T11:11:27.435Z"
   },
   {
    "duration": 3,
    "start_time": "2022-05-11T11:11:27.463Z"
   },
   {
    "duration": 14,
    "start_time": "2022-05-11T11:11:27.472Z"
   },
   {
    "duration": 97,
    "start_time": "2022-05-11T11:11:27.488Z"
   },
   {
    "duration": 38,
    "start_time": "2022-05-11T11:11:27.588Z"
   },
   {
    "duration": 12,
    "start_time": "2022-05-11T11:11:27.628Z"
   },
   {
    "duration": 116,
    "start_time": "2022-05-11T11:11:27.642Z"
   },
   {
    "duration": 0,
    "start_time": "2022-05-11T11:11:27.760Z"
   },
   {
    "duration": 0,
    "start_time": "2022-05-11T11:11:27.762Z"
   },
   {
    "duration": 0,
    "start_time": "2022-05-11T11:11:27.763Z"
   },
   {
    "duration": 0,
    "start_time": "2022-05-11T11:11:27.764Z"
   },
   {
    "duration": 0,
    "start_time": "2022-05-11T11:11:27.775Z"
   },
   {
    "duration": 41,
    "start_time": "2022-05-11T11:11:38.750Z"
   },
   {
    "duration": 1691,
    "start_time": "2022-05-11T11:11:43.998Z"
   },
   {
    "duration": 67,
    "start_time": "2022-05-11T11:11:45.691Z"
   },
   {
    "duration": 35,
    "start_time": "2022-05-11T11:11:45.760Z"
   },
   {
    "duration": 17,
    "start_time": "2022-05-11T11:11:45.797Z"
   },
   {
    "duration": 19,
    "start_time": "2022-05-11T11:11:45.816Z"
   },
   {
    "duration": 16,
    "start_time": "2022-05-11T11:11:45.837Z"
   },
   {
    "duration": 5,
    "start_time": "2022-05-11T11:11:45.855Z"
   },
   {
    "duration": 31,
    "start_time": "2022-05-11T11:11:45.861Z"
   },
   {
    "duration": 56,
    "start_time": "2022-05-11T11:11:45.897Z"
   },
   {
    "duration": 307,
    "start_time": "2022-05-11T11:11:45.955Z"
   },
   {
    "duration": 0,
    "start_time": "2022-05-11T11:11:46.265Z"
   },
   {
    "duration": 0,
    "start_time": "2022-05-11T11:11:46.266Z"
   },
   {
    "duration": 0,
    "start_time": "2022-05-11T11:11:46.266Z"
   },
   {
    "duration": 0,
    "start_time": "2022-05-11T11:11:46.268Z"
   },
   {
    "duration": 6,
    "start_time": "2022-05-11T11:19:43.491Z"
   },
   {
    "duration": 5,
    "start_time": "2022-05-11T11:20:33.638Z"
   },
   {
    "duration": 10,
    "start_time": "2022-05-11T11:20:55.022Z"
   },
   {
    "duration": 3,
    "start_time": "2022-05-11T11:20:58.140Z"
   },
   {
    "duration": 17,
    "start_time": "2022-05-11T11:21:01.161Z"
   },
   {
    "duration": 4,
    "start_time": "2022-05-11T11:23:26.310Z"
   },
   {
    "duration": 4,
    "start_time": "2022-05-11T11:35:06.998Z"
   },
   {
    "duration": 5,
    "start_time": "2022-05-11T11:35:13.382Z"
   },
   {
    "duration": 12,
    "start_time": "2022-05-11T11:35:27.700Z"
   },
   {
    "duration": 5,
    "start_time": "2022-05-11T11:35:31.060Z"
   },
   {
    "duration": 13,
    "start_time": "2022-05-11T11:35:32.870Z"
   },
   {
    "duration": 1573,
    "start_time": "2022-05-11T11:35:48.994Z"
   },
   {
    "duration": 36,
    "start_time": "2022-05-11T11:35:50.570Z"
   },
   {
    "duration": 29,
    "start_time": "2022-05-11T11:35:50.607Z"
   },
   {
    "duration": 4,
    "start_time": "2022-05-11T11:35:50.638Z"
   },
   {
    "duration": 36,
    "start_time": "2022-05-11T11:35:50.644Z"
   },
   {
    "duration": 29,
    "start_time": "2022-05-11T11:35:50.682Z"
   },
   {
    "duration": 11,
    "start_time": "2022-05-11T11:35:50.713Z"
   },
   {
    "duration": 13,
    "start_time": "2022-05-11T11:35:50.726Z"
   },
   {
    "duration": 60,
    "start_time": "2022-05-11T11:35:50.741Z"
   },
   {
    "duration": 4,
    "start_time": "2022-05-11T11:35:50.804Z"
   },
   {
    "duration": 141,
    "start_time": "2022-05-11T11:35:50.810Z"
   },
   {
    "duration": 0,
    "start_time": "2022-05-11T11:35:50.953Z"
   },
   {
    "duration": 0,
    "start_time": "2022-05-11T11:35:50.954Z"
   },
   {
    "duration": 1,
    "start_time": "2022-05-11T11:35:50.955Z"
   },
   {
    "duration": 0,
    "start_time": "2022-05-11T11:35:50.957Z"
   },
   {
    "duration": 11,
    "start_time": "2022-05-11T11:36:54.646Z"
   },
   {
    "duration": 4,
    "start_time": "2022-05-11T11:36:59.719Z"
   },
   {
    "duration": 15,
    "start_time": "2022-05-11T11:37:01.223Z"
   },
   {
    "duration": 5,
    "start_time": "2022-05-11T11:38:14.145Z"
   },
   {
    "duration": 16,
    "start_time": "2022-05-11T11:39:10.288Z"
   },
   {
    "duration": 4,
    "start_time": "2022-05-11T11:39:12.824Z"
   },
   {
    "duration": 6,
    "start_time": "2022-05-11T11:39:14.464Z"
   },
   {
    "duration": 51,
    "start_time": "2022-05-11T11:41:27.201Z"
   },
   {
    "duration": 6,
    "start_time": "2022-05-11T11:42:16.745Z"
   },
   {
    "duration": 30,
    "start_time": "2022-05-11T11:43:38.507Z"
   },
   {
    "duration": 29,
    "start_time": "2022-05-11T11:43:42.859Z"
   },
   {
    "duration": 30,
    "start_time": "2022-05-11T11:43:45.898Z"
   },
   {
    "duration": 4,
    "start_time": "2022-05-11T14:13:59.574Z"
   },
   {
    "duration": 5,
    "start_time": "2022-05-11T14:14:01.262Z"
   },
   {
    "duration": 12,
    "start_time": "2022-05-11T14:14:05.613Z"
   },
   {
    "duration": 14,
    "start_time": "2022-05-11T14:14:13.893Z"
   },
   {
    "duration": 6,
    "start_time": "2022-05-11T14:15:55.263Z"
   },
   {
    "duration": 455,
    "start_time": "2022-05-11T14:20:36.787Z"
   },
   {
    "duration": 6,
    "start_time": "2022-05-11T14:28:57.101Z"
   },
   {
    "duration": 43,
    "start_time": "2022-05-11T14:29:18.629Z"
   },
   {
    "duration": 81,
    "start_time": "2022-05-12T07:34:42.983Z"
   },
   {
    "duration": 2373,
    "start_time": "2022-05-12T07:34:48.753Z"
   },
   {
    "duration": 62,
    "start_time": "2022-05-12T07:34:51.129Z"
   },
   {
    "duration": 41,
    "start_time": "2022-05-12T07:34:51.193Z"
   },
   {
    "duration": 6,
    "start_time": "2022-05-12T07:34:51.238Z"
   },
   {
    "duration": 13,
    "start_time": "2022-05-12T07:34:51.246Z"
   },
   {
    "duration": 61,
    "start_time": "2022-05-12T07:34:51.262Z"
   },
   {
    "duration": 92,
    "start_time": "2022-05-12T07:34:51.411Z"
   },
   {
    "duration": 35,
    "start_time": "2022-05-12T07:34:51.506Z"
   },
   {
    "duration": 45,
    "start_time": "2022-05-12T07:34:51.543Z"
   },
   {
    "duration": 6,
    "start_time": "2022-05-12T07:34:51.591Z"
   },
   {
    "duration": 29,
    "start_time": "2022-05-12T07:34:51.599Z"
   },
   {
    "duration": 10,
    "start_time": "2022-05-12T07:34:51.631Z"
   },
   {
    "duration": 8,
    "start_time": "2022-05-12T07:34:51.643Z"
   },
   {
    "duration": 61,
    "start_time": "2022-05-12T07:34:51.654Z"
   },
   {
    "duration": 152,
    "start_time": "2022-05-12T07:34:51.720Z"
   },
   {
    "duration": 57,
    "start_time": "2022-05-12T07:34:51.874Z"
   },
   {
    "duration": 46,
    "start_time": "2022-05-12T07:34:51.933Z"
   },
   {
    "duration": 38,
    "start_time": "2022-05-12T07:34:51.982Z"
   },
   {
    "duration": 221,
    "start_time": "2022-05-12T07:34:52.092Z"
   },
   {
    "duration": 0,
    "start_time": "2022-05-12T07:34:52.316Z"
   },
   {
    "duration": 6,
    "start_time": "2022-05-12T07:35:11.130Z"
   },
   {
    "duration": 390,
    "start_time": "2022-05-12T07:35:17.049Z"
   },
   {
    "duration": 15,
    "start_time": "2022-05-12T07:37:04.442Z"
   },
   {
    "duration": 6,
    "start_time": "2022-05-12T07:39:09.470Z"
   },
   {
    "duration": 14,
    "start_time": "2022-05-12T07:39:12.276Z"
   },
   {
    "duration": 15,
    "start_time": "2022-05-12T07:41:15.918Z"
   },
   {
    "duration": 16,
    "start_time": "2022-05-12T07:41:35.869Z"
   },
   {
    "duration": 4,
    "start_time": "2022-05-12T08:45:57.913Z"
   },
   {
    "duration": 5,
    "start_time": "2022-05-12T08:45:59.699Z"
   },
   {
    "duration": 5,
    "start_time": "2022-05-12T08:46:06.650Z"
   },
   {
    "duration": 6,
    "start_time": "2022-05-12T08:46:08.356Z"
   },
   {
    "duration": 965,
    "start_time": "2022-05-12T08:48:13.932Z"
   },
   {
    "duration": 5,
    "start_time": "2022-05-12T08:48:15.893Z"
   },
   {
    "duration": 6,
    "start_time": "2022-05-12T08:49:23.621Z"
   },
   {
    "duration": 8,
    "start_time": "2022-05-12T08:49:25.446Z"
   },
   {
    "duration": 7,
    "start_time": "2022-05-12T08:49:27.693Z"
   },
   {
    "duration": 9,
    "start_time": "2022-05-12T08:49:30.149Z"
   },
   {
    "duration": 5,
    "start_time": "2022-05-12T08:49:32.614Z"
   },
   {
    "duration": 7,
    "start_time": "2022-05-12T08:49:34.525Z"
   },
   {
    "duration": 4,
    "start_time": "2022-05-12T08:50:11.542Z"
   },
   {
    "duration": 5,
    "start_time": "2022-05-12T08:50:13.317Z"
   },
   {
    "duration": 6,
    "start_time": "2022-05-12T08:50:52.797Z"
   },
   {
    "duration": 7,
    "start_time": "2022-05-12T08:50:55.317Z"
   },
   {
    "duration": 6,
    "start_time": "2022-05-12T08:51:03.285Z"
   },
   {
    "duration": 6,
    "start_time": "2022-05-12T08:51:06.133Z"
   },
   {
    "duration": 5,
    "start_time": "2022-05-12T08:51:11.813Z"
   },
   {
    "duration": 5,
    "start_time": "2022-05-12T08:51:14.549Z"
   },
   {
    "duration": 6,
    "start_time": "2022-05-12T08:51:15.557Z"
   },
   {
    "duration": 4,
    "start_time": "2022-05-12T08:51:21.214Z"
   },
   {
    "duration": 6,
    "start_time": "2022-05-12T08:51:23.539Z"
   },
   {
    "duration": 4,
    "start_time": "2022-05-12T08:51:31.806Z"
   },
   {
    "duration": 5,
    "start_time": "2022-05-12T08:51:34.021Z"
   },
   {
    "duration": 6,
    "start_time": "2022-05-12T08:51:35.685Z"
   },
   {
    "duration": 15,
    "start_time": "2022-05-12T09:43:03.677Z"
   },
   {
    "duration": 2801,
    "start_time": "2022-05-12T11:18:01.315Z"
   },
   {
    "duration": 49,
    "start_time": "2022-05-12T11:18:04.119Z"
   },
   {
    "duration": 41,
    "start_time": "2022-05-12T11:18:04.170Z"
   },
   {
    "duration": 5,
    "start_time": "2022-05-12T11:18:04.214Z"
   },
   {
    "duration": 14,
    "start_time": "2022-05-12T11:18:04.221Z"
   },
   {
    "duration": 21,
    "start_time": "2022-05-12T11:18:04.237Z"
   },
   {
    "duration": 35,
    "start_time": "2022-05-12T11:18:04.261Z"
   },
   {
    "duration": 15,
    "start_time": "2022-05-12T11:18:04.299Z"
   },
   {
    "duration": 82,
    "start_time": "2022-05-12T11:18:04.317Z"
   },
   {
    "duration": 5,
    "start_time": "2022-05-12T11:18:04.403Z"
   },
   {
    "duration": 9,
    "start_time": "2022-05-12T11:18:04.411Z"
   },
   {
    "duration": 7,
    "start_time": "2022-05-12T11:18:04.422Z"
   },
   {
    "duration": 6,
    "start_time": "2022-05-12T11:18:04.432Z"
   },
   {
    "duration": 57,
    "start_time": "2022-05-12T11:18:04.441Z"
   },
   {
    "duration": 22,
    "start_time": "2022-05-12T11:18:04.500Z"
   },
   {
    "duration": 18,
    "start_time": "2022-05-12T11:18:04.524Z"
   },
   {
    "duration": 54,
    "start_time": "2022-05-12T11:18:04.544Z"
   },
   {
    "duration": 120,
    "start_time": "2022-05-12T11:18:04.602Z"
   },
   {
    "duration": 40,
    "start_time": "2022-05-12T11:18:04.725Z"
   },
   {
    "duration": 60,
    "start_time": "2022-05-12T11:18:04.767Z"
   },
   {
    "duration": 77,
    "start_time": "2022-05-12T11:18:04.829Z"
   },
   {
    "duration": 86,
    "start_time": "2022-05-12T11:18:04.909Z"
   },
   {
    "duration": 500,
    "start_time": "2022-05-12T11:18:04.997Z"
   },
   {
    "duration": 156,
    "start_time": "2022-05-12T11:30:09.158Z"
   },
   {
    "duration": 742,
    "start_time": "2022-05-12T11:30:17.062Z"
   },
   {
    "duration": 221,
    "start_time": "2022-05-12T11:33:20.562Z"
   },
   {
    "duration": 43,
    "start_time": "2022-05-12T12:48:06.482Z"
   },
   {
    "duration": 35,
    "start_time": "2022-05-12T12:48:20.152Z"
   },
   {
    "duration": 253,
    "start_time": "2022-05-12T12:48:33.518Z"
   },
   {
    "duration": 47,
    "start_time": "2022-05-12T12:48:39.079Z"
   },
   {
    "duration": 42,
    "start_time": "2022-05-12T12:49:24.113Z"
   },
   {
    "duration": 31,
    "start_time": "2022-05-12T12:49:36.562Z"
   },
   {
    "duration": 63,
    "start_time": "2022-05-12T12:50:20.265Z"
   },
   {
    "duration": 33,
    "start_time": "2022-05-12T12:50:43.057Z"
   },
   {
    "duration": 42,
    "start_time": "2022-05-12T12:50:57.490Z"
   },
   {
    "duration": 78,
    "start_time": "2022-05-12T12:51:08.090Z"
   },
   {
    "duration": 87,
    "start_time": "2022-05-12T12:51:19.778Z"
   },
   {
    "duration": 95,
    "start_time": "2022-05-12T12:51:33.051Z"
   },
   {
    "duration": 100,
    "start_time": "2022-05-12T12:52:00.201Z"
   },
   {
    "duration": 10,
    "start_time": "2022-05-12T13:05:56.072Z"
   },
   {
    "duration": 88,
    "start_time": "2022-05-12T13:06:37.043Z"
   },
   {
    "duration": 68,
    "start_time": "2022-05-12T13:07:28.625Z"
   },
   {
    "duration": 222,
    "start_time": "2022-05-12T13:07:55.402Z"
   },
   {
    "duration": 96,
    "start_time": "2022-05-12T13:08:04.825Z"
   },
   {
    "duration": 75,
    "start_time": "2022-05-12T13:08:24.875Z"
   },
   {
    "duration": 25,
    "start_time": "2022-05-12T13:11:20.108Z"
   },
   {
    "duration": 19,
    "start_time": "2022-05-12T13:13:37.644Z"
   },
   {
    "duration": 16,
    "start_time": "2022-05-12T13:14:04.724Z"
   },
   {
    "duration": 9,
    "start_time": "2022-05-12T13:14:11.252Z"
   },
   {
    "duration": 133,
    "start_time": "2022-05-12T13:14:11.264Z"
   },
   {
    "duration": 33,
    "start_time": "2022-05-12T13:14:11.401Z"
   },
   {
    "duration": 23,
    "start_time": "2022-05-12T13:15:14.810Z"
   },
   {
    "duration": 31,
    "start_time": "2022-05-12T13:16:35.207Z"
   },
   {
    "duration": 26,
    "start_time": "2022-05-12T13:16:53.445Z"
   },
   {
    "duration": 24,
    "start_time": "2022-05-12T13:17:53.604Z"
   },
   {
    "duration": 17,
    "start_time": "2022-05-12T13:18:08.774Z"
   },
   {
    "duration": 21,
    "start_time": "2022-05-12T13:20:59.936Z"
   },
   {
    "duration": 23,
    "start_time": "2022-05-12T13:22:12.135Z"
   },
   {
    "duration": 7,
    "start_time": "2022-05-12T14:21:42.968Z"
   },
   {
    "duration": 6,
    "start_time": "2022-05-12T14:21:50.570Z"
   },
   {
    "duration": 94,
    "start_time": "2022-05-12T14:21:50.578Z"
   },
   {
    "duration": 23,
    "start_time": "2022-05-12T14:21:50.674Z"
   },
   {
    "duration": 30,
    "start_time": "2022-05-12T14:21:50.701Z"
   },
   {
    "duration": 228,
    "start_time": "2022-05-12T14:21:50.734Z"
   },
   {
    "duration": 0,
    "start_time": "2022-05-12T14:21:50.964Z"
   },
   {
    "duration": 0,
    "start_time": "2022-05-12T14:21:50.965Z"
   },
   {
    "duration": 0,
    "start_time": "2022-05-12T14:21:50.966Z"
   },
   {
    "duration": 0,
    "start_time": "2022-05-12T14:21:50.967Z"
   },
   {
    "duration": 0,
    "start_time": "2022-05-12T14:21:50.969Z"
   },
   {
    "duration": 0,
    "start_time": "2022-05-12T14:21:50.970Z"
   },
   {
    "duration": 0,
    "start_time": "2022-05-12T14:21:50.971Z"
   },
   {
    "duration": 6,
    "start_time": "2022-05-12T14:22:14.886Z"
   },
   {
    "duration": 94,
    "start_time": "2022-05-12T14:22:14.895Z"
   },
   {
    "duration": 19,
    "start_time": "2022-05-12T14:22:14.992Z"
   },
   {
    "duration": 36,
    "start_time": "2022-05-12T14:22:15.013Z"
   },
   {
    "duration": 8,
    "start_time": "2022-05-12T14:22:15.051Z"
   },
   {
    "duration": 136,
    "start_time": "2022-05-12T14:22:15.061Z"
   },
   {
    "duration": 6,
    "start_time": "2022-05-12T14:22:15.199Z"
   },
   {
    "duration": 15,
    "start_time": "2022-05-12T14:22:15.208Z"
   },
   {
    "duration": 30,
    "start_time": "2022-05-12T14:22:15.226Z"
   },
   {
    "duration": 13,
    "start_time": "2022-05-12T14:22:15.297Z"
   },
   {
    "duration": 12,
    "start_time": "2022-05-12T14:22:22.150Z"
   },
   {
    "duration": 7,
    "start_time": "2022-05-12T14:22:40.286Z"
   },
   {
    "duration": 8,
    "start_time": "2022-05-12T14:23:07.069Z"
   },
   {
    "duration": 8,
    "start_time": "2022-05-12T14:23:14.189Z"
   },
   {
    "duration": 6,
    "start_time": "2022-05-12T14:23:38.787Z"
   },
   {
    "duration": 94,
    "start_time": "2022-05-12T14:23:38.797Z"
   },
   {
    "duration": 20,
    "start_time": "2022-05-12T14:23:38.898Z"
   },
   {
    "duration": 23,
    "start_time": "2022-05-12T14:23:38.921Z"
   },
   {
    "duration": 7,
    "start_time": "2022-05-12T14:23:38.946Z"
   },
   {
    "duration": 53,
    "start_time": "2022-05-12T14:23:38.955Z"
   },
   {
    "duration": 7,
    "start_time": "2022-05-12T14:23:39.011Z"
   },
   {
    "duration": 11,
    "start_time": "2022-05-12T14:23:39.021Z"
   },
   {
    "duration": 22,
    "start_time": "2022-05-12T14:23:39.034Z"
   },
   {
    "duration": 43,
    "start_time": "2022-05-12T14:23:39.059Z"
   },
   {
    "duration": 13,
    "start_time": "2022-05-12T14:23:47.420Z"
   },
   {
    "duration": 5,
    "start_time": "2022-05-12T14:23:54.454Z"
   },
   {
    "duration": 7,
    "start_time": "2022-05-12T14:24:00.438Z"
   },
   {
    "duration": 6,
    "start_time": "2022-05-12T14:24:02.927Z"
   },
   {
    "duration": 68,
    "start_time": "2022-05-13T09:03:15.337Z"
   },
   {
    "duration": 49,
    "start_time": "2022-05-13T09:03:24.106Z"
   },
   {
    "duration": 1138,
    "start_time": "2022-05-13T09:03:34.203Z"
   },
   {
    "duration": 63,
    "start_time": "2022-05-13T09:03:40.132Z"
   },
   {
    "duration": 1066,
    "start_time": "2022-05-13T09:03:53.752Z"
   },
   {
    "duration": 54,
    "start_time": "2022-05-13T09:03:54.820Z"
   },
   {
    "duration": 12,
    "start_time": "2022-05-13T09:03:54.876Z"
   },
   {
    "duration": 31,
    "start_time": "2022-05-13T09:03:54.890Z"
   },
   {
    "duration": 109,
    "start_time": "2022-05-13T09:03:54.923Z"
   },
   {
    "duration": 0,
    "start_time": "2022-05-13T09:03:55.034Z"
   },
   {
    "duration": 0,
    "start_time": "2022-05-13T09:03:55.035Z"
   },
   {
    "duration": 0,
    "start_time": "2022-05-13T09:03:55.036Z"
   },
   {
    "duration": 0,
    "start_time": "2022-05-13T09:03:55.037Z"
   },
   {
    "duration": 0,
    "start_time": "2022-05-13T09:03:55.039Z"
   },
   {
    "duration": 0,
    "start_time": "2022-05-13T09:03:55.040Z"
   },
   {
    "duration": 0,
    "start_time": "2022-05-13T09:03:55.041Z"
   },
   {
    "duration": 0,
    "start_time": "2022-05-13T09:03:55.042Z"
   },
   {
    "duration": 0,
    "start_time": "2022-05-13T09:03:55.044Z"
   },
   {
    "duration": 0,
    "start_time": "2022-05-13T09:03:55.045Z"
   },
   {
    "duration": 0,
    "start_time": "2022-05-13T09:03:55.046Z"
   },
   {
    "duration": 0,
    "start_time": "2022-05-13T09:03:55.047Z"
   },
   {
    "duration": 0,
    "start_time": "2022-05-13T09:03:55.048Z"
   },
   {
    "duration": 0,
    "start_time": "2022-05-13T09:03:55.049Z"
   },
   {
    "duration": 0,
    "start_time": "2022-05-13T09:03:55.050Z"
   },
   {
    "duration": 0,
    "start_time": "2022-05-13T09:03:55.051Z"
   },
   {
    "duration": 0,
    "start_time": "2022-05-13T09:03:55.052Z"
   },
   {
    "duration": 0,
    "start_time": "2022-05-13T09:03:55.053Z"
   },
   {
    "duration": 0,
    "start_time": "2022-05-13T09:03:55.055Z"
   },
   {
    "duration": 0,
    "start_time": "2022-05-13T09:03:55.056Z"
   },
   {
    "duration": 0,
    "start_time": "2022-05-13T09:03:55.057Z"
   },
   {
    "duration": 0,
    "start_time": "2022-05-13T09:03:55.058Z"
   },
   {
    "duration": 0,
    "start_time": "2022-05-13T09:03:55.059Z"
   },
   {
    "duration": 0,
    "start_time": "2022-05-13T09:03:55.059Z"
   },
   {
    "duration": 0,
    "start_time": "2022-05-13T09:03:55.060Z"
   },
   {
    "duration": 1144,
    "start_time": "2022-05-13T09:04:29.590Z"
   },
   {
    "duration": 54,
    "start_time": "2022-05-13T09:04:30.736Z"
   },
   {
    "duration": 16,
    "start_time": "2022-05-13T09:04:30.792Z"
   },
   {
    "duration": 17,
    "start_time": "2022-05-13T09:04:30.810Z"
   },
   {
    "duration": 120,
    "start_time": "2022-05-13T09:04:30.829Z"
   },
   {
    "duration": 0,
    "start_time": "2022-05-13T09:04:30.952Z"
   },
   {
    "duration": 0,
    "start_time": "2022-05-13T09:04:30.953Z"
   },
   {
    "duration": 0,
    "start_time": "2022-05-13T09:04:30.954Z"
   },
   {
    "duration": 0,
    "start_time": "2022-05-13T09:04:30.955Z"
   },
   {
    "duration": 0,
    "start_time": "2022-05-13T09:04:30.956Z"
   },
   {
    "duration": 0,
    "start_time": "2022-05-13T09:04:30.957Z"
   },
   {
    "duration": 0,
    "start_time": "2022-05-13T09:04:30.958Z"
   },
   {
    "duration": 0,
    "start_time": "2022-05-13T09:04:30.959Z"
   },
   {
    "duration": 0,
    "start_time": "2022-05-13T09:04:30.960Z"
   },
   {
    "duration": 0,
    "start_time": "2022-05-13T09:04:30.961Z"
   },
   {
    "duration": 0,
    "start_time": "2022-05-13T09:04:30.962Z"
   },
   {
    "duration": 0,
    "start_time": "2022-05-13T09:04:30.963Z"
   },
   {
    "duration": 0,
    "start_time": "2022-05-13T09:04:30.964Z"
   },
   {
    "duration": 0,
    "start_time": "2022-05-13T09:04:30.965Z"
   },
   {
    "duration": 0,
    "start_time": "2022-05-13T09:04:30.966Z"
   },
   {
    "duration": 0,
    "start_time": "2022-05-13T09:04:30.967Z"
   },
   {
    "duration": 0,
    "start_time": "2022-05-13T09:04:30.968Z"
   },
   {
    "duration": 0,
    "start_time": "2022-05-13T09:04:30.969Z"
   },
   {
    "duration": 0,
    "start_time": "2022-05-13T09:04:30.971Z"
   },
   {
    "duration": 0,
    "start_time": "2022-05-13T09:04:31.008Z"
   },
   {
    "duration": 0,
    "start_time": "2022-05-13T09:04:31.009Z"
   },
   {
    "duration": 0,
    "start_time": "2022-05-13T09:04:31.010Z"
   },
   {
    "duration": 0,
    "start_time": "2022-05-13T09:04:31.011Z"
   },
   {
    "duration": 0,
    "start_time": "2022-05-13T09:04:31.012Z"
   },
   {
    "duration": 12,
    "start_time": "2022-05-13T09:05:08.500Z"
   },
   {
    "duration": 1188,
    "start_time": "2022-05-13T09:05:35.634Z"
   },
   {
    "duration": 55,
    "start_time": "2022-05-13T09:05:36.824Z"
   },
   {
    "duration": 14,
    "start_time": "2022-05-13T09:05:36.880Z"
   },
   {
    "duration": 27,
    "start_time": "2022-05-13T09:05:36.895Z"
   },
   {
    "duration": 4,
    "start_time": "2022-05-13T09:05:36.924Z"
   },
   {
    "duration": 9,
    "start_time": "2022-05-13T09:05:36.929Z"
   },
   {
    "duration": 12,
    "start_time": "2022-05-13T09:05:36.939Z"
   },
   {
    "duration": 4,
    "start_time": "2022-05-13T09:05:36.952Z"
   },
   {
    "duration": 8,
    "start_time": "2022-05-13T09:05:36.958Z"
   },
   {
    "duration": 66,
    "start_time": "2022-05-13T09:05:36.968Z"
   },
   {
    "duration": 4,
    "start_time": "2022-05-13T09:05:37.035Z"
   },
   {
    "duration": 5,
    "start_time": "2022-05-13T09:05:37.040Z"
   },
   {
    "duration": 3,
    "start_time": "2022-05-13T09:05:37.047Z"
   },
   {
    "duration": 4,
    "start_time": "2022-05-13T09:05:37.053Z"
   },
   {
    "duration": 5,
    "start_time": "2022-05-13T09:05:37.059Z"
   },
   {
    "duration": 5,
    "start_time": "2022-05-13T09:05:37.066Z"
   },
   {
    "duration": 37,
    "start_time": "2022-05-13T09:05:37.073Z"
   },
   {
    "duration": 10,
    "start_time": "2022-05-13T09:05:37.112Z"
   },
   {
    "duration": 11,
    "start_time": "2022-05-13T09:05:37.124Z"
   },
   {
    "duration": 9,
    "start_time": "2022-05-13T09:05:37.136Z"
   },
   {
    "duration": 190,
    "start_time": "2022-05-13T09:05:37.147Z"
   },
   {
    "duration": 0,
    "start_time": "2022-05-13T09:05:37.339Z"
   },
   {
    "duration": 0,
    "start_time": "2022-05-13T09:05:37.340Z"
   },
   {
    "duration": 0,
    "start_time": "2022-05-13T09:05:37.341Z"
   },
   {
    "duration": 0,
    "start_time": "2022-05-13T09:05:37.342Z"
   },
   {
    "duration": 0,
    "start_time": "2022-05-13T09:05:37.343Z"
   },
   {
    "duration": 0,
    "start_time": "2022-05-13T09:05:37.344Z"
   },
   {
    "duration": 0,
    "start_time": "2022-05-13T09:05:37.345Z"
   },
   {
    "duration": 0,
    "start_time": "2022-05-13T09:05:37.347Z"
   },
   {
    "duration": 0,
    "start_time": "2022-05-13T09:05:37.347Z"
   },
   {
    "duration": 0,
    "start_time": "2022-05-13T09:05:37.348Z"
   },
   {
    "duration": 2,
    "start_time": "2022-05-13T09:05:58.772Z"
   },
   {
    "duration": 4,
    "start_time": "2022-05-13T09:06:08.464Z"
   },
   {
    "duration": 56,
    "start_time": "2022-05-13T09:06:08.470Z"
   },
   {
    "duration": 13,
    "start_time": "2022-05-13T09:06:08.528Z"
   },
   {
    "duration": 18,
    "start_time": "2022-05-13T09:06:08.543Z"
   },
   {
    "duration": 4,
    "start_time": "2022-05-13T09:06:08.564Z"
   },
   {
    "duration": 37,
    "start_time": "2022-05-13T09:06:08.571Z"
   },
   {
    "duration": 13,
    "start_time": "2022-05-13T09:06:08.611Z"
   },
   {
    "duration": 4,
    "start_time": "2022-05-13T09:06:08.627Z"
   },
   {
    "duration": 10,
    "start_time": "2022-05-13T09:06:08.633Z"
   },
   {
    "duration": 64,
    "start_time": "2022-05-13T09:06:08.644Z"
   },
   {
    "duration": 4,
    "start_time": "2022-05-13T09:06:08.710Z"
   },
   {
    "duration": 6,
    "start_time": "2022-05-13T09:06:08.716Z"
   },
   {
    "duration": 5,
    "start_time": "2022-05-13T09:06:08.724Z"
   },
   {
    "duration": 4,
    "start_time": "2022-05-13T09:06:08.733Z"
   },
   {
    "duration": 7,
    "start_time": "2022-05-13T09:06:08.739Z"
   },
   {
    "duration": 7,
    "start_time": "2022-05-13T09:06:08.748Z"
   },
   {
    "duration": 5,
    "start_time": "2022-05-13T09:06:08.756Z"
   },
   {
    "duration": 48,
    "start_time": "2022-05-13T09:06:08.763Z"
   },
   {
    "duration": 13,
    "start_time": "2022-05-13T09:06:08.812Z"
   },
   {
    "duration": 8,
    "start_time": "2022-05-13T09:06:08.827Z"
   },
   {
    "duration": 4,
    "start_time": "2022-05-13T09:06:08.837Z"
   },
   {
    "duration": 7,
    "start_time": "2022-05-13T09:06:08.843Z"
   },
   {
    "duration": 167,
    "start_time": "2022-05-13T09:06:08.852Z"
   },
   {
    "duration": 30,
    "start_time": "2022-05-13T09:06:09.020Z"
   },
   {
    "duration": 30,
    "start_time": "2022-05-13T09:06:09.052Z"
   },
   {
    "duration": 16,
    "start_time": "2022-05-13T09:06:09.107Z"
   },
   {
    "duration": 182,
    "start_time": "2022-05-13T09:06:09.126Z"
   },
   {
    "duration": 0,
    "start_time": "2022-05-13T09:06:09.310Z"
   },
   {
    "duration": 0,
    "start_time": "2022-05-13T09:06:09.311Z"
   },
   {
    "duration": 0,
    "start_time": "2022-05-13T09:06:09.313Z"
   },
   {
    "duration": 3,
    "start_time": "2022-05-13T09:06:30.324Z"
   },
   {
    "duration": 59,
    "start_time": "2022-05-13T09:06:30.329Z"
   },
   {
    "duration": 11,
    "start_time": "2022-05-13T09:06:30.390Z"
   },
   {
    "duration": 16,
    "start_time": "2022-05-13T09:06:30.403Z"
   },
   {
    "duration": 4,
    "start_time": "2022-05-13T09:06:30.421Z"
   },
   {
    "duration": 10,
    "start_time": "2022-05-13T09:06:30.427Z"
   },
   {
    "duration": 22,
    "start_time": "2022-05-13T09:06:30.439Z"
   },
   {
    "duration": 4,
    "start_time": "2022-05-13T09:06:30.463Z"
   },
   {
    "duration": 8,
    "start_time": "2022-05-13T09:06:30.469Z"
   },
   {
    "duration": 51,
    "start_time": "2022-05-13T09:06:30.479Z"
   },
   {
    "duration": 3,
    "start_time": "2022-05-13T09:06:30.533Z"
   },
   {
    "duration": 9,
    "start_time": "2022-05-13T09:06:30.538Z"
   },
   {
    "duration": 17,
    "start_time": "2022-05-13T09:06:30.549Z"
   },
   {
    "duration": 9,
    "start_time": "2022-05-13T09:06:30.568Z"
   },
   {
    "duration": 12,
    "start_time": "2022-05-13T09:06:30.578Z"
   },
   {
    "duration": 19,
    "start_time": "2022-05-13T09:06:30.592Z"
   },
   {
    "duration": 21,
    "start_time": "2022-05-13T09:06:30.612Z"
   },
   {
    "duration": 13,
    "start_time": "2022-05-13T09:06:30.635Z"
   },
   {
    "duration": 26,
    "start_time": "2022-05-13T09:06:30.650Z"
   },
   {
    "duration": 25,
    "start_time": "2022-05-13T09:06:30.677Z"
   },
   {
    "duration": 11,
    "start_time": "2022-05-13T09:06:30.704Z"
   },
   {
    "duration": 14,
    "start_time": "2022-05-13T09:06:30.717Z"
   },
   {
    "duration": 85,
    "start_time": "2022-05-13T09:06:30.733Z"
   },
   {
    "duration": 102,
    "start_time": "2022-05-13T09:06:30.820Z"
   },
   {
    "duration": 28,
    "start_time": "2022-05-13T09:06:30.924Z"
   },
   {
    "duration": 55,
    "start_time": "2022-05-13T09:06:30.954Z"
   },
   {
    "duration": 18,
    "start_time": "2022-05-13T09:06:31.011Z"
   },
   {
    "duration": 240,
    "start_time": "2022-05-13T09:06:31.030Z"
   },
   {
    "duration": 27,
    "start_time": "2022-05-13T09:06:47.902Z"
   },
   {
    "duration": 6,
    "start_time": "2022-05-13T09:24:38.463Z"
   },
   {
    "duration": 5,
    "start_time": "2022-05-13T09:25:09.831Z"
   },
   {
    "duration": 5,
    "start_time": "2022-05-13T09:25:17.142Z"
   },
   {
    "duration": 6,
    "start_time": "2022-05-13T09:26:49.505Z"
   },
   {
    "duration": 6,
    "start_time": "2022-05-13T09:28:40.215Z"
   },
   {
    "duration": 6,
    "start_time": "2022-05-13T09:29:34.181Z"
   },
   {
    "duration": 9,
    "start_time": "2022-05-13T09:29:39.943Z"
   },
   {
    "duration": 5,
    "start_time": "2022-05-13T09:29:45.168Z"
   },
   {
    "duration": 6,
    "start_time": "2022-05-13T10:13:30.406Z"
   },
   {
    "duration": 5,
    "start_time": "2022-05-13T10:13:37.119Z"
   },
   {
    "duration": 6,
    "start_time": "2022-05-13T10:15:24.688Z"
   },
   {
    "duration": 4,
    "start_time": "2022-05-13T10:15:28.408Z"
   },
   {
    "duration": 5,
    "start_time": "2022-05-13T10:15:37.776Z"
   },
   {
    "duration": 5,
    "start_time": "2022-05-13T10:15:38.463Z"
   },
   {
    "duration": 29,
    "start_time": "2022-05-13T10:15:39.176Z"
   },
   {
    "duration": 30,
    "start_time": "2022-05-13T10:15:39.919Z"
   },
   {
    "duration": 5,
    "start_time": "2022-05-13T10:15:44.797Z"
   },
   {
    "duration": 5,
    "start_time": "2022-05-13T10:15:52.887Z"
   },
   {
    "duration": 4,
    "start_time": "2022-05-13T10:16:07.153Z"
   },
   {
    "duration": 5,
    "start_time": "2022-05-13T10:16:12.191Z"
   },
   {
    "duration": 6,
    "start_time": "2022-05-13T10:16:21.447Z"
   },
   {
    "duration": 6,
    "start_time": "2022-05-13T10:16:54.880Z"
   },
   {
    "duration": 7,
    "start_time": "2022-05-13T10:16:56.200Z"
   },
   {
    "duration": 5,
    "start_time": "2022-05-13T10:16:58.297Z"
   },
   {
    "duration": 5,
    "start_time": "2022-05-13T10:17:01.870Z"
   },
   {
    "duration": 5,
    "start_time": "2022-05-13T10:17:06.323Z"
   },
   {
    "duration": 3,
    "start_time": "2022-05-13T10:19:12.937Z"
   },
   {
    "duration": 5,
    "start_time": "2022-05-13T10:19:16.961Z"
   },
   {
    "duration": 6,
    "start_time": "2022-05-13T10:19:17.072Z"
   },
   {
    "duration": 7,
    "start_time": "2022-05-13T10:19:30.249Z"
   },
   {
    "duration": 6,
    "start_time": "2022-05-13T10:20:10.168Z"
   },
   {
    "duration": 9,
    "start_time": "2022-05-13T10:20:22.377Z"
   },
   {
    "duration": 29,
    "start_time": "2022-05-13T10:21:19.353Z"
   },
   {
    "duration": 30,
    "start_time": "2022-05-13T10:21:29.787Z"
   },
   {
    "duration": 9,
    "start_time": "2022-05-13T10:21:45.945Z"
   },
   {
    "duration": 30,
    "start_time": "2022-05-13T10:21:51.754Z"
   },
   {
    "duration": 22,
    "start_time": "2022-05-13T10:28:17.059Z"
   },
   {
    "duration": 11,
    "start_time": "2022-05-13T11:26:22.632Z"
   },
   {
    "duration": 8,
    "start_time": "2022-05-13T11:26:33.447Z"
   },
   {
    "duration": 9,
    "start_time": "2022-05-13T11:27:49.815Z"
   },
   {
    "duration": 9,
    "start_time": "2022-05-13T11:27:59.319Z"
   },
   {
    "duration": 8,
    "start_time": "2022-05-13T11:33:47.737Z"
   },
   {
    "duration": 1131,
    "start_time": "2022-05-13T11:33:52.801Z"
   },
   {
    "duration": 65,
    "start_time": "2022-05-13T11:33:53.934Z"
   },
   {
    "duration": 12,
    "start_time": "2022-05-13T11:33:54.001Z"
   },
   {
    "duration": 17,
    "start_time": "2022-05-13T11:33:54.014Z"
   },
   {
    "duration": 3,
    "start_time": "2022-05-13T11:33:54.033Z"
   },
   {
    "duration": 8,
    "start_time": "2022-05-13T11:33:54.038Z"
   },
   {
    "duration": 12,
    "start_time": "2022-05-13T11:33:54.048Z"
   },
   {
    "duration": 4,
    "start_time": "2022-05-13T11:33:54.061Z"
   },
   {
    "duration": 43,
    "start_time": "2022-05-13T11:33:54.067Z"
   },
   {
    "duration": 30,
    "start_time": "2022-05-13T11:33:54.112Z"
   },
   {
    "duration": 4,
    "start_time": "2022-05-13T11:33:54.143Z"
   },
   {
    "duration": 6,
    "start_time": "2022-05-13T11:33:54.148Z"
   },
   {
    "duration": 4,
    "start_time": "2022-05-13T11:33:54.155Z"
   },
   {
    "duration": 4,
    "start_time": "2022-05-13T11:33:54.162Z"
   },
   {
    "duration": 6,
    "start_time": "2022-05-13T11:33:54.168Z"
   },
   {
    "duration": 35,
    "start_time": "2022-05-13T11:33:54.175Z"
   },
   {
    "duration": 6,
    "start_time": "2022-05-13T11:33:54.212Z"
   },
   {
    "duration": 13,
    "start_time": "2022-05-13T11:33:54.219Z"
   },
   {
    "duration": 10,
    "start_time": "2022-05-13T11:33:54.234Z"
   },
   {
    "duration": 8,
    "start_time": "2022-05-13T11:33:54.246Z"
   },
   {
    "duration": 4,
    "start_time": "2022-05-13T11:33:54.256Z"
   },
   {
    "duration": 48,
    "start_time": "2022-05-13T11:33:54.261Z"
   },
   {
    "duration": 103,
    "start_time": "2022-05-13T11:33:54.311Z"
   },
   {
    "duration": 28,
    "start_time": "2022-05-13T11:33:54.416Z"
   },
   {
    "duration": 28,
    "start_time": "2022-05-13T11:33:54.446Z"
   },
   {
    "duration": 42,
    "start_time": "2022-05-13T11:33:54.476Z"
   },
   {
    "duration": 5,
    "start_time": "2022-05-13T11:33:54.520Z"
   },
   {
    "duration": 238,
    "start_time": "2022-05-13T11:33:54.526Z"
   },
   {
    "duration": 5,
    "start_time": "2022-05-13T11:33:54.765Z"
   },
   {
    "duration": 37,
    "start_time": "2022-05-13T11:33:54.771Z"
   },
   {
    "duration": 10,
    "start_time": "2022-05-13T11:33:54.810Z"
   },
   {
    "duration": 107,
    "start_time": "2022-05-13T11:33:54.821Z"
   },
   {
    "duration": 28,
    "start_time": "2022-05-13T11:33:54.930Z"
   },
   {
    "duration": 211,
    "start_time": "2022-05-13T11:33:54.960Z"
   },
   {
    "duration": 21,
    "start_time": "2022-05-13T11:34:01.346Z"
   },
   {
    "duration": 68,
    "start_time": "2022-05-13T11:34:25.626Z"
   },
   {
    "duration": 16,
    "start_time": "2022-05-13T11:37:35.619Z"
   },
   {
    "duration": 3,
    "start_time": "2022-05-13T11:43:13.707Z"
   },
   {
    "duration": 5,
    "start_time": "2022-05-13T11:56:24.048Z"
   },
   {
    "duration": 5,
    "start_time": "2022-05-13T11:57:32.112Z"
   },
   {
    "duration": 5,
    "start_time": "2022-05-13T11:57:37.625Z"
   },
   {
    "duration": 7,
    "start_time": "2022-05-13T11:57:51.168Z"
   },
   {
    "duration": 83,
    "start_time": "2022-05-13T11:58:22.839Z"
   },
   {
    "duration": 9,
    "start_time": "2022-05-13T11:58:36.113Z"
   },
   {
    "duration": 5,
    "start_time": "2022-05-13T12:00:16.898Z"
   },
   {
    "duration": 5,
    "start_time": "2022-05-13T12:00:19.226Z"
   },
   {
    "duration": 12,
    "start_time": "2022-05-13T12:06:55.661Z"
   },
   {
    "duration": 12,
    "start_time": "2022-05-13T12:07:29.876Z"
   },
   {
    "duration": 17,
    "start_time": "2022-05-13T12:07:54.461Z"
   },
   {
    "duration": 13,
    "start_time": "2022-05-13T12:08:05.589Z"
   },
   {
    "duration": 68,
    "start_time": "2022-05-13T12:08:17.292Z"
   },
   {
    "duration": 97,
    "start_time": "2022-05-13T12:08:21.611Z"
   },
   {
    "duration": 62,
    "start_time": "2022-05-13T12:09:42.348Z"
   },
   {
    "duration": 19,
    "start_time": "2022-05-13T12:10:22.246Z"
   },
   {
    "duration": 11,
    "start_time": "2022-05-13T12:10:30.155Z"
   },
   {
    "duration": 17,
    "start_time": "2022-05-13T12:10:37.981Z"
   },
   {
    "duration": 28,
    "start_time": "2022-05-13T12:11:06.399Z"
   },
   {
    "duration": 18,
    "start_time": "2022-05-13T12:11:16.205Z"
   },
   {
    "duration": 137,
    "start_time": "2022-05-13T12:12:00.245Z"
   },
   {
    "duration": 8,
    "start_time": "2022-05-13T12:13:14.337Z"
   },
   {
    "duration": 4,
    "start_time": "2022-05-13T12:13:20.176Z"
   },
   {
    "duration": 4,
    "start_time": "2022-05-13T12:13:37.062Z"
   },
   {
    "duration": 19,
    "start_time": "2022-05-13T12:14:18.808Z"
   },
   {
    "duration": 73,
    "start_time": "2022-05-13T12:14:28.736Z"
   },
   {
    "duration": 134,
    "start_time": "2022-05-13T12:15:39.609Z"
   },
   {
    "duration": 61,
    "start_time": "2022-05-13T12:15:45.048Z"
   },
   {
    "duration": 98,
    "start_time": "2022-05-13T12:16:28.168Z"
   },
   {
    "duration": 75,
    "start_time": "2022-05-13T12:16:39.480Z"
   },
   {
    "duration": 63,
    "start_time": "2022-05-13T12:16:48.744Z"
   },
   {
    "duration": 28,
    "start_time": "2022-05-13T12:17:01.800Z"
   },
   {
    "duration": 67,
    "start_time": "2022-05-13T12:17:32.442Z"
   },
   {
    "duration": 13,
    "start_time": "2022-05-13T12:19:57.819Z"
   },
   {
    "duration": 60,
    "start_time": "2022-05-13T12:22:05.753Z"
   },
   {
    "duration": 8,
    "start_time": "2022-05-13T12:23:22.540Z"
   },
   {
    "duration": 17,
    "start_time": "2022-05-13T12:23:47.419Z"
   },
   {
    "duration": 9,
    "start_time": "2022-05-13T12:24:25.412Z"
   },
   {
    "duration": 12,
    "start_time": "2022-05-13T12:25:00.850Z"
   },
   {
    "duration": 14,
    "start_time": "2022-05-13T12:25:39.882Z"
   },
   {
    "duration": 8,
    "start_time": "2022-05-13T12:26:21.436Z"
   },
   {
    "duration": 78,
    "start_time": "2022-05-13T12:27:30.045Z"
   },
   {
    "duration": 72,
    "start_time": "2022-05-13T12:27:48.653Z"
   },
   {
    "duration": 89,
    "start_time": "2022-05-13T12:28:07.420Z"
   },
   {
    "duration": 111,
    "start_time": "2022-05-13T12:29:13.798Z"
   },
   {
    "duration": 1215,
    "start_time": "2022-05-13T12:42:24.498Z"
   },
   {
    "duration": 55,
    "start_time": "2022-05-13T12:42:25.715Z"
   },
   {
    "duration": 13,
    "start_time": "2022-05-13T12:42:25.772Z"
   },
   {
    "duration": 32,
    "start_time": "2022-05-13T12:42:25.787Z"
   },
   {
    "duration": 6,
    "start_time": "2022-05-13T12:42:25.821Z"
   },
   {
    "duration": 5,
    "start_time": "2022-05-13T12:42:25.828Z"
   },
   {
    "duration": 8,
    "start_time": "2022-05-13T12:42:25.835Z"
   },
   {
    "duration": 69,
    "start_time": "2022-05-13T12:42:25.845Z"
   },
   {
    "duration": 117,
    "start_time": "2022-05-13T12:42:25.916Z"
   },
   {
    "duration": 28,
    "start_time": "2022-05-13T12:42:26.034Z"
   },
   {
    "duration": 65,
    "start_time": "2022-05-13T12:42:26.064Z"
   },
   {
    "duration": 5,
    "start_time": "2022-05-13T12:46:11.419Z"
   },
   {
    "duration": 1377,
    "start_time": "2022-05-13T13:57:32.807Z"
   },
   {
    "duration": 63,
    "start_time": "2022-05-13T13:57:34.186Z"
   },
   {
    "duration": 13,
    "start_time": "2022-05-13T13:57:34.251Z"
   },
   {
    "duration": 18,
    "start_time": "2022-05-13T13:57:34.266Z"
   },
   {
    "duration": 5,
    "start_time": "2022-05-13T13:57:34.286Z"
   },
   {
    "duration": 10,
    "start_time": "2022-05-13T13:57:34.292Z"
   },
   {
    "duration": 15,
    "start_time": "2022-05-13T13:57:34.334Z"
   },
   {
    "duration": 86,
    "start_time": "2022-05-13T13:57:34.351Z"
   },
   {
    "duration": 115,
    "start_time": "2022-05-13T13:57:34.441Z"
   },
   {
    "duration": 32,
    "start_time": "2022-05-13T13:57:34.558Z"
   },
   {
    "duration": 144,
    "start_time": "2022-05-13T13:57:34.592Z"
   }
  ],
  "kernelspec": {
   "display_name": "Python 3 (ipykernel)",
   "language": "python",
   "name": "python3"
  },
  "language_info": {
   "codemirror_mode": {
    "name": "ipython",
    "version": 3
   },
   "file_extension": ".py",
   "mimetype": "text/x-python",
   "name": "python",
   "nbconvert_exporter": "python",
   "pygments_lexer": "ipython3",
   "version": "3.9.7"
  },
  "toc": {
   "base_numbering": 1,
   "nav_menu": {},
   "number_sections": true,
   "sideBar": true,
   "skip_h1_title": true,
   "title_cell": "Содержание",
   "title_sidebar": "Contents",
   "toc_cell": true,
   "toc_position": {},
   "toc_section_display": true,
   "toc_window_display": false
  }
 },
 "nbformat": 4,
 "nbformat_minor": 4
}

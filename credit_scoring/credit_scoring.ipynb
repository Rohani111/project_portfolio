{
 "cells": [
  {
   "cell_type": "markdown",
   "metadata": {},
   "source": [
    "# Исследование надёжности заёмщиков\n",
    "\n",
    "Заказчик — кредитный отдел банка. Нужно разобраться, влияет ли семейное положение и количество детей клиента на факт погашения кредита в срок. Входные данные от банка — статистика о платёжеспособности клиентов.\n",
    "\n",
    "Результаты исследования будут учтены при построении модели **кредитного скоринга** — специальной системы, которая оценивает способность потенциального заёмщика вернуть кредит банку."
   ]
  },
  {
   "cell_type": "markdown",
   "metadata": {},
   "source": [
    "## Шаг 1. Откройте файл с данными и изучите общую информацию"
   ]
  },
  {
   "cell_type": "code",
   "execution_count": 1,
   "metadata": {},
   "outputs": [
    {
     "data": {
      "text/html": [
       "<div>\n",
       "<style scoped>\n",
       "    .dataframe tbody tr th:only-of-type {\n",
       "        vertical-align: middle;\n",
       "    }\n",
       "\n",
       "    .dataframe tbody tr th {\n",
       "        vertical-align: top;\n",
       "    }\n",
       "\n",
       "    .dataframe thead th {\n",
       "        text-align: right;\n",
       "    }\n",
       "</style>\n",
       "<table border=\"1\" class=\"dataframe\">\n",
       "  <thead>\n",
       "    <tr style=\"text-align: right;\">\n",
       "      <th></th>\n",
       "      <th>children</th>\n",
       "      <th>days_employed</th>\n",
       "      <th>dob_years</th>\n",
       "      <th>education</th>\n",
       "      <th>education_id</th>\n",
       "      <th>family_status</th>\n",
       "      <th>family_status_id</th>\n",
       "      <th>gender</th>\n",
       "      <th>income_type</th>\n",
       "      <th>debt</th>\n",
       "      <th>total_income</th>\n",
       "      <th>purpose</th>\n",
       "    </tr>\n",
       "  </thead>\n",
       "  <tbody>\n",
       "    <tr>\n",
       "      <td>0</td>\n",
       "      <td>1</td>\n",
       "      <td>-8437.673028</td>\n",
       "      <td>42</td>\n",
       "      <td>высшее</td>\n",
       "      <td>0</td>\n",
       "      <td>женат / замужем</td>\n",
       "      <td>0</td>\n",
       "      <td>F</td>\n",
       "      <td>сотрудник</td>\n",
       "      <td>0</td>\n",
       "      <td>253875.639453</td>\n",
       "      <td>покупка жилья</td>\n",
       "    </tr>\n",
       "    <tr>\n",
       "      <td>1</td>\n",
       "      <td>1</td>\n",
       "      <td>-4024.803754</td>\n",
       "      <td>36</td>\n",
       "      <td>среднее</td>\n",
       "      <td>1</td>\n",
       "      <td>женат / замужем</td>\n",
       "      <td>0</td>\n",
       "      <td>F</td>\n",
       "      <td>сотрудник</td>\n",
       "      <td>0</td>\n",
       "      <td>112080.014102</td>\n",
       "      <td>приобретение автомобиля</td>\n",
       "    </tr>\n",
       "    <tr>\n",
       "      <td>2</td>\n",
       "      <td>0</td>\n",
       "      <td>-5623.422610</td>\n",
       "      <td>33</td>\n",
       "      <td>Среднее</td>\n",
       "      <td>1</td>\n",
       "      <td>женат / замужем</td>\n",
       "      <td>0</td>\n",
       "      <td>M</td>\n",
       "      <td>сотрудник</td>\n",
       "      <td>0</td>\n",
       "      <td>145885.952297</td>\n",
       "      <td>покупка жилья</td>\n",
       "    </tr>\n",
       "    <tr>\n",
       "      <td>3</td>\n",
       "      <td>3</td>\n",
       "      <td>-4124.747207</td>\n",
       "      <td>32</td>\n",
       "      <td>среднее</td>\n",
       "      <td>1</td>\n",
       "      <td>женат / замужем</td>\n",
       "      <td>0</td>\n",
       "      <td>M</td>\n",
       "      <td>сотрудник</td>\n",
       "      <td>0</td>\n",
       "      <td>267628.550329</td>\n",
       "      <td>дополнительное образование</td>\n",
       "    </tr>\n",
       "    <tr>\n",
       "      <td>4</td>\n",
       "      <td>0</td>\n",
       "      <td>340266.072047</td>\n",
       "      <td>53</td>\n",
       "      <td>среднее</td>\n",
       "      <td>1</td>\n",
       "      <td>гражданский брак</td>\n",
       "      <td>1</td>\n",
       "      <td>F</td>\n",
       "      <td>пенсионер</td>\n",
       "      <td>0</td>\n",
       "      <td>158616.077870</td>\n",
       "      <td>сыграть свадьбу</td>\n",
       "    </tr>\n",
       "  </tbody>\n",
       "</table>\n",
       "</div>"
      ],
      "text/plain": [
       "   children  days_employed  dob_years education  education_id  \\\n",
       "0         1   -8437.673028         42    высшее             0   \n",
       "1         1   -4024.803754         36   среднее             1   \n",
       "2         0   -5623.422610         33   Среднее             1   \n",
       "3         3   -4124.747207         32   среднее             1   \n",
       "4         0  340266.072047         53   среднее             1   \n",
       "\n",
       "      family_status  family_status_id gender income_type  debt   total_income  \\\n",
       "0   женат / замужем                 0      F   сотрудник     0  253875.639453   \n",
       "1   женат / замужем                 0      F   сотрудник     0  112080.014102   \n",
       "2   женат / замужем                 0      M   сотрудник     0  145885.952297   \n",
       "3   женат / замужем                 0      M   сотрудник     0  267628.550329   \n",
       "4  гражданский брак                 1      F   пенсионер     0  158616.077870   \n",
       "\n",
       "                      purpose  \n",
       "0               покупка жилья  \n",
       "1     приобретение автомобиля  \n",
       "2               покупка жилья  \n",
       "3  дополнительное образование  \n",
       "4             сыграть свадьбу  "
      ]
     },
     "metadata": {},
     "output_type": "display_data"
    }
   ],
   "source": [
    "import pandas as pd\n",
    "df = pd.read_csv(\"/datasets/data.csv\")\n",
    "display(df.head())"
   ]
  },
  {
   "cell_type": "code",
   "execution_count": 2,
   "metadata": {},
   "outputs": [
    {
     "name": "stdout",
     "output_type": "stream",
     "text": [
      "<class 'pandas.core.frame.DataFrame'>\n",
      "RangeIndex: 21525 entries, 0 to 21524\n",
      "Data columns (total 12 columns):\n",
      "children            21525 non-null int64\n",
      "days_employed       19351 non-null float64\n",
      "dob_years           21525 non-null int64\n",
      "education           21525 non-null object\n",
      "education_id        21525 non-null int64\n",
      "family_status       21525 non-null object\n",
      "family_status_id    21525 non-null int64\n",
      "gender              21525 non-null object\n",
      "income_type         21525 non-null object\n",
      "debt                21525 non-null int64\n",
      "total_income        19351 non-null float64\n",
      "purpose             21525 non-null object\n",
      "dtypes: float64(2), int64(5), object(5)\n",
      "memory usage: 2.0+ MB\n"
     ]
    }
   ],
   "source": [
    "df.info()\n",
    "#Таблица имеет 21525 строк и 12 столбцов.\n",
    "#Видим одинаковое количество пропущенных данных в столбцах days_employed и total_income.\n",
    "#Причиной этого может быть, к примеру, потеря части данных, когда несколько баз данных объединяли в одну.\n",
    "#Или же по части клиентов намеренно скрыли информацию по их доходам и опыту работы.\n",
    "#display(df[df['days_employed'].isna()].head(20)) #при желании можно вывести строки с пропущенными данными"
   ]
  },
  {
   "cell_type": "markdown",
   "metadata": {},
   "source": [
    "**Для оценки категориальных переменных (education, family_status, gender, income_type, purpose) воспользуемся методом value_counts (), а для количественных переменных (children, days_employed, dob_years, total_income) методом unique () и/или min()/max().** "
   ]
  },
  {
   "cell_type": "code",
   "execution_count": 3,
   "metadata": {},
   "outputs": [
    {
     "data": {
      "text/plain": [
       "среднее                13750\n",
       "высшее                  4718\n",
       "СРЕДНЕЕ                  772\n",
       "Среднее                  711\n",
       "неоконченное высшее      668\n",
       "ВЫСШЕЕ                   274\n",
       "Высшее                   268\n",
       "начальное                250\n",
       "Неоконченное высшее       47\n",
       "НЕОКОНЧЕННОЕ ВЫСШЕЕ       29\n",
       "НАЧАЛЬНОЕ                 17\n",
       "Начальное                 15\n",
       "ученая степень             4\n",
       "Ученая степень             1\n",
       "УЧЕНАЯ СТЕПЕНЬ             1\n",
       "Name: education, dtype: int64"
      ]
     },
     "execution_count": 3,
     "metadata": {},
     "output_type": "execute_result"
    }
   ],
   "source": [
    "df['education'].value_counts()\n",
    "#В столбце \"education\" попадаются поля, заполненнные полностью или частично прописными буквами.\n",
    "#Судя по вариантам написания, можно предположить, что массив данных был получен в результате объединения 3 разных баз."
   ]
  },
  {
   "cell_type": "code",
   "execution_count": 4,
   "metadata": {},
   "outputs": [
    {
     "data": {
      "text/plain": [
       "женат / замужем          12380\n",
       "гражданский брак          4177\n",
       "Не женат / не замужем     2813\n",
       "в разводе                 1195\n",
       "вдовец / вдова             960\n",
       "Name: family_status, dtype: int64"
      ]
     },
     "execution_count": 4,
     "metadata": {},
     "output_type": "execute_result"
    }
   ],
   "source": [
    "df['family_status'].value_counts()\n",
    "#Видим прописную букву в статусе \"Не женат / не замужем\", но в данном случае она не помешает анализу данных, поскольку применена для всех подобных статусов."
   ]
  },
  {
   "cell_type": "code",
   "execution_count": 5,
   "metadata": {
    "scrolled": true
   },
   "outputs": [
    {
     "data": {
      "text/plain": [
       "F      14236\n",
       "M       7288\n",
       "XNA        1\n",
       "Name: gender, dtype: int64"
      ]
     },
     "execution_count": 5,
     "metadata": {},
     "output_type": "execute_result"
    }
   ],
   "source": [
    "df['gender'].value_counts()\n",
    "#По одному из клиентов в столбце пол присвоен признак \"XNA\".\n",
    "#Если мы захотим выяснить, кто реже допускает просрочки: мужчины или женщины, эту строку можно будет без ущерба игнорировать"
   ]
  },
  {
   "cell_type": "code",
   "execution_count": 6,
   "metadata": {
    "scrolled": true,
    "tags": []
   },
   "outputs": [
    {
     "data": {
      "text/plain": [
       "сотрудник          11119\n",
       "компаньон           5085\n",
       "пенсионер           3856\n",
       "госслужащий         1459\n",
       "безработный            2\n",
       "предприниматель        2\n",
       "студент                1\n",
       "в декрете              1\n",
       "Name: income_type, dtype: int64"
      ]
     },
     "execution_count": 6,
     "metadata": {},
     "output_type": "execute_result"
    }
   ],
   "source": [
    "df['income_type'].value_counts()\n",
    "#Ожидаемо, что большинство из выборки работают по найму. Ошибок в данных нет, хотя безработный, студент и женщина/мужчина в декрете смотрятся странно в числе людей, которые получили кредит в банке на столь существенные цели (см. далее)"
   ]
  },
  {
   "cell_type": "code",
   "execution_count": 7,
   "metadata": {
    "scrolled": true,
    "tags": []
   },
   "outputs": [
    {
     "data": {
      "text/plain": [
       "свадьба                                   797\n",
       "на проведение свадьбы                     777\n",
       "сыграть свадьбу                           774\n",
       "операции с недвижимостью                  676\n",
       "покупка коммерческой недвижимости         664\n",
       "покупка жилья для сдачи                   653\n",
       "операции с жильем                         653\n",
       "операции с коммерческой недвижимостью     651\n",
       "жилье                                     647\n",
       "покупка жилья                             647\n",
       "покупка жилья для семьи                   641\n",
       "строительство собственной недвижимости    635\n",
       "недвижимость                              634\n",
       "операции со своей недвижимостью           630\n",
       "строительство жилой недвижимости          626\n",
       "покупка недвижимости                      624\n",
       "покупка своего жилья                      620\n",
       "строительство недвижимости                620\n",
       "ремонт жилью                              612\n",
       "покупка жилой недвижимости                607\n",
       "на покупку своего автомобиля              505\n",
       "заняться высшим образованием              496\n",
       "автомобиль                                495\n",
       "сделка с подержанным автомобилем          489\n",
       "свой автомобиль                           480\n",
       "на покупку подержанного автомобиля        479\n",
       "автомобили                                478\n",
       "на покупку автомобиля                     472\n",
       "приобретение автомобиля                   462\n",
       "дополнительное образование                462\n",
       "сделка с автомобилем                      455\n",
       "высшее образование                        453\n",
       "образование                               447\n",
       "получение дополнительного образования     447\n",
       "получение образования                     443\n",
       "профильное образование                    436\n",
       "получение высшего образования             426\n",
       "заняться образованием                     412\n",
       "Name: purpose, dtype: int64"
      ]
     },
     "execution_count": 7,
     "metadata": {},
     "output_type": "execute_result"
    }
   ],
   "source": [
    "df['purpose'].value_counts()\n",
    "#Как видим, в основном кредиты берут на сделки с недвижимостью.\n",
    "#Эти данные в дальнейшем нужно будет категоризировать для удобства анализа."
   ]
  },
  {
   "cell_type": "code",
   "execution_count": 8,
   "metadata": {},
   "outputs": [
    {
     "name": "stdout",
     "output_type": "stream",
     "text": [
      "[-1, 0, 1, 2, 3, 4, 5, 20]\n"
     ]
    },
    {
     "data": {
      "text/plain": [
       " 0     14149\n",
       " 1      4818\n",
       " 2      2055\n",
       " 3       330\n",
       " 20       76\n",
       "-1        47\n",
       " 4        41\n",
       " 5         9\n",
       "Name: children, dtype: int64"
      ]
     },
     "execution_count": 8,
     "metadata": {},
     "output_type": "execute_result"
    }
   ],
   "source": [
    "print(sorted(df['children'].unique(),reverse=False))\n",
    "#Вероятнее всего, мы наблюдаем ошибки в данных по количеству детей (-1 ребенок и 20 детей). \n",
    "df['children'].value_counts()\n",
    "#Теоретически, возможно иметь 20 детей в одной семье, но слишком большой разрыв между последующим значением (5)\n",
    "#по величине значением, а также общее количество таких семей в количестве (76 семей, что больше чем семей с 4 детьми). \n",
    "#Это нам говорит скорее об ошибке при вводе данных. \n",
    "#Аналогично, -1 ребенок в 47 семьях говорит нам об ошибке при вводе данных."
   ]
  },
  {
   "cell_type": "code",
   "execution_count": 9,
   "metadata": {},
   "outputs": [
    {
     "name": "stdout",
     "output_type": "stream",
     "text": [
      "-18 388.949900568383\n",
      "401 755.40047533\n"
     ]
    },
    {
     "data": {
      "text/html": [
       "<div>\n",
       "<style scoped>\n",
       "    .dataframe tbody tr th:only-of-type {\n",
       "        vertical-align: middle;\n",
       "    }\n",
       "\n",
       "    .dataframe tbody tr th {\n",
       "        vertical-align: top;\n",
       "    }\n",
       "\n",
       "    .dataframe thead th {\n",
       "        text-align: right;\n",
       "    }\n",
       "</style>\n",
       "<table border=\"1\" class=\"dataframe\">\n",
       "  <thead>\n",
       "    <tr style=\"text-align: right;\">\n",
       "      <th></th>\n",
       "      <th>children</th>\n",
       "      <th>days_employed</th>\n",
       "      <th>dob_years</th>\n",
       "      <th>education</th>\n",
       "      <th>education_id</th>\n",
       "      <th>family_status</th>\n",
       "      <th>family_status_id</th>\n",
       "      <th>gender</th>\n",
       "      <th>income_type</th>\n",
       "      <th>debt</th>\n",
       "      <th>total_income</th>\n",
       "      <th>purpose</th>\n",
       "    </tr>\n",
       "  </thead>\n",
       "  <tbody>\n",
       "    <tr>\n",
       "      <td>6954</td>\n",
       "      <td>0</td>\n",
       "      <td>401755.400475</td>\n",
       "      <td>56</td>\n",
       "      <td>среднее</td>\n",
       "      <td>1</td>\n",
       "      <td>вдовец / вдова</td>\n",
       "      <td>2</td>\n",
       "      <td>F</td>\n",
       "      <td>пенсионер</td>\n",
       "      <td>0</td>\n",
       "      <td>176278.441171</td>\n",
       "      <td>ремонт жилью</td>\n",
       "    </tr>\n",
       "  </tbody>\n",
       "</table>\n",
       "</div>"
      ],
      "text/plain": [
       "      children  days_employed  dob_years education  education_id  \\\n",
       "6954         0  401755.400475         56   среднее             1   \n",
       "\n",
       "       family_status  family_status_id gender income_type  debt  \\\n",
       "6954  вдовец / вдова                 2      F   пенсионер     0   \n",
       "\n",
       "       total_income       purpose  \n",
       "6954  176278.441171  ремонт жилью  "
      ]
     },
     "metadata": {},
     "output_type": "display_data"
    },
    {
     "name": "stdout",
     "output_type": "stream",
     "text": [
      "-1 203.369528770489\n"
     ]
    }
   ],
   "source": [
    "#df['days_employed'].max() #unique()\n",
    "print(\"{:,}\".format(df['days_employed'].min()).replace(',', ' '))\n",
    "print(\"{:,}\".format(df['days_employed'].max()).replace(',', ' '))\n",
    "#Ого, мы нашли долгожителя и ветерана труда, который отработал 401 755 дней, то есть 1 100 лет.\n",
    "display(df.loc[df[\"days_employed\"] == df['days_employed'].max()])\n",
    "#Если посмотреть конкретно этого заемщика, то ему 56 лет.\n",
    "#Столбец \"days_employed\" требует особого внимания. Возможно, часть данных указана не в днях, а в часах.\n",
    "#Для максимального значения 401 755 часов это составит 45,8 лет, что при возрасте заемщика 56 лет \n",
    "#выглядит правдоподобным, если заемщик работал по совместительтву какой-то период времени.\n",
    "print(\"{:,}\".format(df['days_employed'].median()).replace(',', ' '))\n",
    "#Данные в столбце \"days_employed\" указаны в основном со знаком минус (об этом нам говорит отрицательная медиана) и при этом имеет формат дробного числа, хотя должен отражать количество дней общего стажа."
   ]
  },
  {
   "cell_type": "code",
   "execution_count": 10,
   "metadata": {
    "scrolled": true
   },
   "outputs": [
    {
     "name": "stdout",
     "output_type": "stream",
     "text": [
      "[0, 19, 20, 21, 22, 23, 24, 25, 26, 27, 28, 29, 30, 31, 32, 33, 34, 35, 36, 37, 38, 39, 40, 41, 42, 43, 44, 45, 46, 47, 48, 49, 50, 51, 52, 53, 54, 55, 56, 57, 58, 59, 60, 61, 62, 63, 64, 65, 66, 67, 68, 69, 70, 71, 72, 73, 74, 75]\n",
      "101\n"
     ]
    }
   ],
   "source": [
    "print(sorted(df['dob_years'].unique()))\n",
    "#видим заемщиков, по которым указан возраст 0\n",
    "\n",
    "print(df[df['dob_years'] == 0]['dob_years'].count())\n",
    "#находим, что таких 101 человек"
   ]
  },
  {
   "cell_type": "code",
   "execution_count": 11,
   "metadata": {},
   "outputs": [
    {
     "name": "stdout",
     "output_type": "stream",
     "text": [
      "20 667.26\n",
      "2 265 604.03\n"
     ]
    },
    {
     "data": {
      "text/html": [
       "<div>\n",
       "<style scoped>\n",
       "    .dataframe tbody tr th:only-of-type {\n",
       "        vertical-align: middle;\n",
       "    }\n",
       "\n",
       "    .dataframe tbody tr th {\n",
       "        vertical-align: top;\n",
       "    }\n",
       "\n",
       "    .dataframe thead th {\n",
       "        text-align: right;\n",
       "    }\n",
       "</style>\n",
       "<table border=\"1\" class=\"dataframe\">\n",
       "  <thead>\n",
       "    <tr style=\"text-align: right;\">\n",
       "      <th></th>\n",
       "      <th>children</th>\n",
       "      <th>days_employed</th>\n",
       "      <th>dob_years</th>\n",
       "      <th>education</th>\n",
       "      <th>education_id</th>\n",
       "      <th>family_status</th>\n",
       "      <th>family_status_id</th>\n",
       "      <th>gender</th>\n",
       "      <th>income_type</th>\n",
       "      <th>debt</th>\n",
       "      <th>total_income</th>\n",
       "      <th>purpose</th>\n",
       "    </tr>\n",
       "  </thead>\n",
       "  <tbody>\n",
       "    <tr>\n",
       "      <td>12412</td>\n",
       "      <td>0</td>\n",
       "      <td>-1477.438114</td>\n",
       "      <td>44</td>\n",
       "      <td>высшее</td>\n",
       "      <td>0</td>\n",
       "      <td>женат / замужем</td>\n",
       "      <td>0</td>\n",
       "      <td>M</td>\n",
       "      <td>компаньон</td>\n",
       "      <td>0</td>\n",
       "      <td>2.265604e+06</td>\n",
       "      <td>ремонт жилью</td>\n",
       "    </tr>\n",
       "  </tbody>\n",
       "</table>\n",
       "</div>"
      ],
      "text/plain": [
       "       children  days_employed  dob_years education  education_id  \\\n",
       "12412         0   -1477.438114         44    высшее             0   \n",
       "\n",
       "         family_status  family_status_id gender income_type  debt  \\\n",
       "12412  женат / замужем                 0      M   компаньон     0   \n",
       "\n",
       "       total_income       purpose  \n",
       "12412  2.265604e+06  ремонт жилью  "
      ]
     },
     "metadata": {},
     "output_type": "display_data"
    }
   ],
   "source": [
    "print(\"{:,.2f}\".format(df['total_income'].min()).replace(',', ' '))\n",
    "print(\"{:,.2f}\".format(df['total_income'].max()).replace(',', ' '))\n",
    "#максимальное значение в столбце доходы - заемщик с доходом 2,2 млн.руб. в месяц, что более чем в 100 раз выше миниального дохода.\n",
    "display(df.loc[df[\"total_income\"] == df['total_income'].max()])\n",
    "#если рассмотреть конкретно этого заемщика, то видим, что это мужчина 44 лет, который владеет бизнесом, поэтому такой доход вполне реален.\n",
    "#однако при заполнении пропущенных значений лучше использовать медиану, иначе средняя может быть сильно завышена."
   ]
  },
  {
   "cell_type": "markdown",
   "metadata": {},
   "source": [
    "#### **Вывод**\n",
    "\n",
    "В процессе анализа данных были выявлены следующие проблемы, мешающие обработке данных:\n",
    "- данные в столбце \"days_employed\" указаны в основном со знаком минус и при этом в виде дробного числа; есть гипотеза, что частично информация указана не в днях,а в часах, поскольку в противном случае имеется заемщик, который при возрасте 56 лет отработал 1100 лет;\n",
    "- имеются пропущенные данные в столбцах days_employed и total_income;\n",
    "- по 101 заемщику указан возраст 0 лет;\n",
    "- в столбце \"education\" попадаются поля, заполненнные полностью или частично прописными буквами - это может скрывать наличие неявных дубликатов;\n",
    "- по одному из клиентов отсутсвуют данные в части его пола;\n",
    "- вероятнее всего, мы наблюдаем ошибки в данных в столбце \"children\": -1 ребенок в 47 семей и 20 детей сразу в 76 семьях)."
   ]
  },
  {
   "cell_type": "markdown",
   "metadata": {},
   "source": [
    "## Шаг 2. Предобработка данных"
   ]
  },
  {
   "cell_type": "markdown",
   "metadata": {},
   "source": [
    "### Обработка пропусков"
   ]
  },
  {
   "cell_type": "markdown",
   "metadata": {},
   "source": [
    "В days_employed и total_income имеются пропущенные данные. Заполним их медианными значениями по возрастным группам. Однако в столбце dob_years у 101 человека возраст равен 0. Поэтому сначала  нужно обработать столбец с данными по возрасту."
   ]
  },
  {
   "cell_type": "code",
   "execution_count": 12,
   "metadata": {},
   "outputs": [
    {
     "data": {
      "text/plain": [
       "43.497479462285284"
      ]
     },
     "metadata": {},
     "output_type": "display_data"
    }
   ],
   "source": [
    "#Поскольку в таблице возраст нет выдающихся значений, поэтому отсутствующие значения можно заменить\n",
    "#средним арифметическим. Для этого введем переменную age_mean и воспользуемся методом mean() для всех ненулевых значений.\n",
    "display(df[df['dob_years'] != 0]['dob_years'].mean())\n",
    "age_mean = 43"
   ]
  },
  {
   "cell_type": "code",
   "execution_count": 13,
   "metadata": {},
   "outputs": [],
   "source": [
    "#Теперь заменим нулевые значения на средний арфиметический возраст.\n",
    "df['dob_years'] = df['dob_years'].replace(0, age_mean)"
   ]
  },
  {
   "cell_type": "code",
   "execution_count": 14,
   "metadata": {},
   "outputs": [
    {
     "name": "stdout",
     "output_type": "stream",
     "text": [
      "[42 36 33 32 53 27 43 50 35 41 40 65 54 56 26 48 24 21 57 67 28 63 62 47\n",
      " 34 68 25 31 30 20 49 37 45 61 64 44 52 46 23 38 39 51 59 29 60 55 58 71\n",
      " 22 73 66 69 19 72 70 74 75]\n"
     ]
    }
   ],
   "source": [
    "print(df['dob_years'].unique())\n",
    "#Нулевые значения в столбце возраст исчезли."
   ]
  },
  {
   "cell_type": "code",
   "execution_count": 15,
   "metadata": {},
   "outputs": [
    {
     "name": "stdout",
     "output_type": "stream",
     "text": [
      "24.14\n"
     ]
    }
   ],
   "source": [
    "#В столбце days_employed мы видим как отрицательные, так и положительные значения. \n",
    "#Вычислим модуль по этому столбцу и выведем новое минимальное значение.\n",
    "df['days_employed'] = abs(df['days_employed'])\n",
    "print(\"{:,.2f}\".format(df['days_employed'].min()).replace(',', ' '))\n",
    "#Мы видим, что минимальное значение по столбцу days_employed теперь 24.\n",
    "#Это означает,что значения в этом столбце все же указаны не в часах, по крайней мере не все."
   ]
  },
  {
   "cell_type": "code",
   "execution_count": 16,
   "metadata": {},
   "outputs": [
    {
     "data": {
      "text/plain": [
       "3445"
      ]
     },
     "execution_count": 16,
     "metadata": {},
     "output_type": "execute_result"
    }
   ],
   "source": [
    "#Отсортируем значения столбца days_employed по убыванию и более внимательно посмотрим на данные.\n",
    "#Сначала идут значение больше 400 000, а затем резкий скачок до 18 388. \n",
    "#print(sorted(df['days_employed'].unique(),reverse=True))\n",
    "#Поскольку максимальный возраст заемщика 75 лет, то при допущении, что он начал работать в 16 лет и продолжает работать до сих пор, его трудовой стаж составит 59 лет, или 21 535 дней.\n",
    "#Таким образом, все значения выше являются аномальными. Посчитаем их общее количество.\n",
    "df[df['days_employed'] > (75-16)*365]['days_employed'].count()\n",
    "#Таких строк оказалось 3445, что составляет 16% от массива. Эти строки нельзя удалять, поскольку это может серьезно исказить результат исследования."
   ]
  },
  {
   "cell_type": "code",
   "execution_count": 17,
   "metadata": {},
   "outputs": [
    {
     "name": "stdout",
     "output_type": "stream",
     "text": [
      "18388.949900568383\n"
     ]
    }
   ],
   "source": [
    "#Переведем значения выше 21 535 из часов в дни.\n",
    "df['days_employed'] = df['days_employed'].apply(lambda i: i/24 if i > 21535 else i)   \n",
    "print(df['days_employed'].max())\n",
    "#Значения выше 21000 исчезли."
   ]
  },
  {
   "cell_type": "code",
   "execution_count": 18,
   "metadata": {},
   "outputs": [
    {
     "data": {
      "text/plain": [
       "от 30 до 49 лет    11146\n",
       "от 50 до 65 лет     6297\n",
       "менее 30 лет        3183\n",
       "пенсионеры           899\n",
       "Name: age_group, dtype: int64"
      ]
     },
     "execution_count": 18,
     "metadata": {},
     "output_type": "execute_result"
    }
   ],
   "source": [
    "#Теперь заменим пропущенные значения в столбце days_employed в разрезе возрастных групп \n",
    "#Для этого создадим отдельный столбец с возрастными категориями \"менее 30 лет\", \"30 - 49 лет\", \"50 - 64 лет\", \"пенсионеры\"\n",
    "def age_group(age):\n",
    "    if age < 30:\n",
    "        return 'менее 30 лет'\n",
    "    if age >= 30 and age < 50:\n",
    "        return 'от 30 до 49 лет'\n",
    "    if age >= 50 and age < 65:\n",
    "        return 'от 50 до 65 лет'\n",
    "    return 'пенсионеры' \n",
    "df['age_group'] = df['dob_years'].apply(age_group)\n",
    "df['age_group'].value_counts()"
   ]
  },
  {
   "cell_type": "code",
   "execution_count": 19,
   "metadata": {},
   "outputs": [
    {
     "data": {
      "text/plain": [
       "age_group\n",
       "менее 30 лет         999.028882\n",
       "от 30 до 49 лет     1809.894126\n",
       "от 50 до 65 лет     9151.490125\n",
       "пенсионеры         15020.871042\n",
       "Name: days_employed, dtype: float64"
      ]
     },
     "metadata": {},
     "output_type": "display_data"
    }
   ],
   "source": [
    "#определим медианный стаж работы для каждой возрастной группы\n",
    "days_employed_median = df.groupby('age_group')['days_employed'].median()\n",
    "display(days_employed_median)"
   ]
  },
  {
   "cell_type": "code",
   "execution_count": 20,
   "metadata": {},
   "outputs": [],
   "source": [
    "#сохраним медианные значения для каждой возрастной группы в виде переменной\n",
    "days_employed_less_30 = 1243\n",
    "days_employed_less_50 = 2590\n",
    "days_employed_less_65 = 8743\n",
    "days_employed_more_65 = 13636"
   ]
  },
  {
   "cell_type": "code",
   "execution_count": 21,
   "metadata": {},
   "outputs": [],
   "source": [
    "#теперь заполним пропуски в столбце days_employed в разрезе возрастных групп\n",
    "def fillna_days_employed(row):\n",
    "    days_employed = row['days_employed']\n",
    "    age_group = row['age_group']\n",
    "    if age_group == 'менее 30 лет':\n",
    "        return days_employed_less_30\n",
    "    if age_group == 'от 30 до 49 лет':\n",
    "        return days_employed_less_50\n",
    "    if age_group == 'от 50 до 65 лет':\n",
    "        return days_employed_less_65\n",
    "    return days_employed_more_65 \n",
    "\n",
    "df.loc[df.days_employed.isna(), \"days_employed\"] = df[df.days_employed.isna()].apply(fillna_days_employed, axis=1)\n"
   ]
  },
  {
   "cell_type": "code",
   "execution_count": 22,
   "metadata": {},
   "outputs": [
    {
     "data": {
      "text/plain": [
       "ok        21467\n",
       "ошибка       58\n",
       "Name: age_check, dtype: int64"
      ]
     },
     "execution_count": 22,
     "metadata": {},
     "output_type": "execute_result"
    }
   ],
   "source": [
    "#проверим, что опыт работы не превышает возраст заемщика\n",
    "def age_check(row):\n",
    "    if row['days_employed']/365 < row['dob_years']:\n",
    "        return 'ok'\n",
    "    return 'ошибка' \n",
    "\n",
    "df['age_check'] = df.apply(age_check, axis=1)\n",
    "df['age_check'].value_counts()\n",
    "\n",
    "#Обнаружилось 58 строк, где опыт работы превышает возраст заемщика.\n",
    "#display(df[df['age_check'] == \"ошибка\"].sort_values(by='days_employed',ascending=False).head(10)) - при желании можно вывести список из таких заемщиков\n",
    "#Обратим внимание, что у практически у всех стоит тип занятости \"пенсионер\", но при этом людям по 30-40 лет. \n",
    "#Можно предположить, что это бывшие военные, у которых в некоторых случаях возможен повышенный учет стажа - например, при службе на флоте или в особых условиях месяц службы будет приравнен к 2 месяцам трудовой деятельности."
   ]
  },
  {
   "cell_type": "code",
   "execution_count": 23,
   "metadata": {},
   "outputs": [
    {
     "data": {
      "text/plain": [
       "0    14149\n",
       "1     4865\n",
       "2     2131\n",
       "3      330\n",
       "4       41\n",
       "5        9\n",
       "Name: children, dtype: int64"
      ]
     },
     "execution_count": 23,
     "metadata": {},
     "output_type": "execute_result"
    }
   ],
   "source": [
    "#В столбце \"children\" мы наблюдаем ошибки в данных: -1 ребенок в 47 семей и 20 детей в 76 семьях.\n",
    "#Можно предположить, что раз эти значения отличны от нуля, то в семьях заемщиков имеются дети, а ошибки появились в процессе внесения информации.\n",
    "#Устраним данные ошибки, заменив -1 на 1, а 20 на 2\n",
    "df['children'] = abs(df['children'])\n",
    "df['children'] = df['children'].replace(20, 2)\n",
    "df['children'].value_counts()\n",
    "#теперь данные однородны"
   ]
  },
  {
   "cell_type": "code",
   "execution_count": 24,
   "metadata": {},
   "outputs": [
    {
     "data": {
      "text/plain": [
       "age_group\n",
       "менее 30 лет       142141.582776\n",
       "от 30 до 49 лет    154493.872983\n",
       "от 50 до 65 лет    136439.063467\n",
       "пенсионеры         115446.195141\n",
       "Name: total_income, dtype: float64"
      ]
     },
     "metadata": {},
     "output_type": "display_data"
    }
   ],
   "source": [
    "#Поскольку в выборке есть заемщики с доходом свыше 2 млн.руб., определим медианный доход для каждой возрастной группы\n",
    "total_income_median = df.groupby('age_group')['total_income'].median()\n",
    "display(total_income_median)"
   ]
  },
  {
   "cell_type": "code",
   "execution_count": 25,
   "metadata": {},
   "outputs": [],
   "source": [
    "#сохраним медианные значения по доходу для каждой возрастной группы в виде переменной\n",
    "total_income_less_30 = 142142\n",
    "total_income_less_50 = 154494\n",
    "total_income_less_65 = 136439\n",
    "total_income_more_65 = 115446"
   ]
  },
  {
   "cell_type": "code",
   "execution_count": 26,
   "metadata": {},
   "outputs": [
    {
     "data": {
      "text/plain": [
       "0"
      ]
     },
     "metadata": {},
     "output_type": "display_data"
    }
   ],
   "source": [
    "#теперь заполним пропуски в столбце days_employed в разрезе возрастных групп\n",
    "def fillna_total_income(row):\n",
    "    total_income = row['total_income']\n",
    "    age_group = row['age_group']\n",
    "    if age_group == 'менее 30 лет':\n",
    "        return total_income_less_30\n",
    "    if age_group == 'от 30 до 49 лет':\n",
    "        return total_income_less_50\n",
    "    if age_group == 'от 50 до 65 лет':\n",
    "        return total_income_less_65\n",
    "    return total_income_more_65 \n",
    "\n",
    "df.loc[df.total_income.isna(), \"total_income\"] = df[df.total_income.isna()].apply(fillna_total_income, axis=1)\n",
    "display(df['total_income'].isna().sum())\n",
    "#все пропущенные значения в столбце total_income заполнены"
   ]
  },
  {
   "cell_type": "code",
   "execution_count": 27,
   "metadata": {},
   "outputs": [
    {
     "name": "stdout",
     "output_type": "stream",
     "text": [
      "<class 'pandas.core.frame.DataFrame'>\n",
      "RangeIndex: 21525 entries, 0 to 21524\n",
      "Data columns (total 14 columns):\n",
      "children            21525 non-null int64\n",
      "days_employed       21525 non-null float64\n",
      "dob_years           21525 non-null int64\n",
      "education           21525 non-null object\n",
      "education_id        21525 non-null int64\n",
      "family_status       21525 non-null object\n",
      "family_status_id    21525 non-null int64\n",
      "gender              21525 non-null object\n",
      "income_type         21525 non-null object\n",
      "debt                21525 non-null int64\n",
      "total_income        21525 non-null float64\n",
      "purpose             21525 non-null object\n",
      "age_group           21525 non-null object\n",
      "age_check           21525 non-null object\n",
      "dtypes: float64(2), int64(5), object(7)\n",
      "memory usage: 2.3+ MB\n"
     ]
    }
   ],
   "source": [
    "#финальная проверка на наличие пропусков\n",
    "df.info()\n",
    "#теперь во всех столбцах количество строк одинаковое - пропусков больше нет"
   ]
  },
  {
   "cell_type": "markdown",
   "metadata": {},
   "source": [
    "**Вывод**\n",
    "Процесс обработки пропусков оказался непростым, поскольку в столбце days_employed большая часть данных была отрицательной, а другая в разы отличалась от модуля медианы. Столбец total_income также потребовал взвешенного подхода. В итоге пропущенные данные заполнялись медианными значениями для каждой возрастной группы."
   ]
  },
  {
   "cell_type": "markdown",
   "metadata": {},
   "source": [
    "### Замена типа данных"
   ]
  },
  {
   "cell_type": "code",
   "execution_count": 28,
   "metadata": {},
   "outputs": [
    {
     "data": {
      "text/plain": [
       "dtype('int64')"
      ]
     },
     "metadata": {},
     "output_type": "display_data"
    },
    {
     "data": {
      "text/plain": [
       "dtype('int64')"
      ]
     },
     "metadata": {},
     "output_type": "display_data"
    }
   ],
   "source": [
    "#Мы обнаружили, что в столбцах days_employed и total_income данные имеют дробный тип float.\n",
    "#Переведем их в целые числа, используя метод astype()\n",
    "df['days_employed'] = df['days_employed'].astype(\"int\")\n",
    "df['total_income'] = df['total_income'].astype(\"int\")\n",
    "display(df['days_employed'].dtypes)\n",
    "display(df['total_income'].dtypes)"
   ]
  },
  {
   "cell_type": "markdown",
   "metadata": {},
   "source": [
    "**Вывод**\n",
    "Для удобства последующей работы мы изменили тип данных в столбцах days_employed и total_income с вещественного на целое число."
   ]
  },
  {
   "cell_type": "markdown",
   "metadata": {},
   "source": [
    "### Обработка дубликатов"
   ]
  },
  {
   "cell_type": "code",
   "execution_count": 29,
   "metadata": {},
   "outputs": [
    {
     "data": {
      "text/plain": [
       "54"
      ]
     },
     "execution_count": 29,
     "metadata": {},
     "output_type": "execute_result"
    }
   ],
   "source": [
    "#Проверим наличие явных дубликатов\n",
    "df.duplicated().sum()\n",
    "#Первичный анализ выявил 54 дубликата, но их может быть и больше, когда мы приведем прописные буквы к нижнему регистру"
   ]
  },
  {
   "cell_type": "code",
   "execution_count": 30,
   "metadata": {},
   "outputs": [
    {
     "data": {
      "text/plain": [
       "среднее                15233\n",
       "высшее                  5260\n",
       "неоконченное высшее      744\n",
       "начальное                282\n",
       "ученая степень             6\n",
       "Name: education, dtype: int64"
      ]
     },
     "execution_count": 30,
     "metadata": {},
     "output_type": "execute_result"
    }
   ],
   "source": [
    "#Приведем все прописные буквы в столбце \"education\" к нижнему регистру\n",
    "df['education'] = df['education'].str.lower()\n",
    "df['education'].value_counts()\n",
    "#Осталось только 5 вариантов образования"
   ]
  },
  {
   "cell_type": "code",
   "execution_count": 31,
   "metadata": {},
   "outputs": [
    {
     "data": {
      "text/plain": [
       "71"
      ]
     },
     "execution_count": 31,
     "metadata": {},
     "output_type": "execute_result"
    }
   ],
   "source": [
    "#Проверим, изменилось ли количество дубликатов\n",
    "df.duplicated().sum()\n",
    "#После данной операции число дубликатов возросло с 54 до 71"
   ]
  },
  {
   "cell_type": "code",
   "execution_count": 32,
   "metadata": {},
   "outputs": [
    {
     "data": {
      "text/plain": [
       "0"
      ]
     },
     "execution_count": 32,
     "metadata": {},
     "output_type": "execute_result"
    }
   ],
   "source": [
    "#Теперь удалим дубликаты и перепишем таблицу с новой индексацией.\n",
    "df = df.drop_duplicates().reset_index(drop=True)\n",
    "df.duplicated().sum()\n",
    "#После обработки дубликаты исчезли."
   ]
  },
  {
   "cell_type": "markdown",
   "metadata": {},
   "source": [
    "**Вывод**\n",
    "Предварительный анализ выявил 54 дубликата. С помощью метода value_counts() мы определили возможное наличие неявных дубликатов в столбце 'education'. После приведения всех букв в нижний регистр число дубликатов возросло до 71."
   ]
  },
  {
   "cell_type": "markdown",
   "metadata": {},
   "source": [
    "### Лемматизация"
   ]
  },
  {
   "cell_type": "code",
   "execution_count": 33,
   "metadata": {},
   "outputs": [
    {
     "name": "stdout",
     "output_type": "stream",
     "text": [
      "Counter({' ': 55023, 'недвижимость': 6351, 'покупка': 5897, 'жилье': 4460, 'автомобиль': 4306, 'образование': 4013, 'с': 2918, 'операция': 2604, 'свадьба': 2324, 'свой': 2230, 'на': 2222, 'строительство': 1878, 'высокий': 1374, 'получение': 1314, 'коммерческий': 1311, 'для': 1289, 'жилой': 1230, 'сделка': 941, 'дополнительный': 906, 'заниматься': 904, 'подержать': 853, 'проведение': 768, 'сыграть': 765, 'сдача': 651, 'семья': 638, 'собственный': 635, 'со': 627, 'ремонт': 607, 'приобретение': 461, 'профильный': 436, 'подержанный': 111, '\\n': 1})\n"
     ]
    }
   ],
   "source": [
    "#Проведем лематизацию столбца 'purpose' для последующей категоризации данных \n",
    "#Для этого сначала объединим все данные столбца purpose в одну строку, затем лемматизируем ее и посчитаем число упоминаний. \n",
    "\n",
    "from pymystem3 import Mystem\n",
    "m = Mystem()\n",
    "from collections import Counter\n",
    "purposes  = \" \".join(df['purpose'])\n",
    "lemmas = m.lemmatize(purposes)\n",
    "print(Counter(lemmas))"
   ]
  },
  {
   "cell_type": "code",
   "execution_count": 34,
   "metadata": {},
   "outputs": [],
   "source": [
    "#Составим словарь унифицированных целей кредита\n",
    "purpose_list = [\"недвижимость\", \"жилье\", \"автомобиль\", \"образование\", \"свадьба\", \"строительство\", \"ремонт\"]\n",
    "#Слово \"операция\" в данном случае не имеет значения как расходы на лечение, поэтому не учитывается.\n",
    "#При этом понятия \"жилье\" и \"недвижимость\" в данном случае синонимичны, так что их все можно объединить в категорию \"недвижимость\""
   ]
  },
  {
   "cell_type": "markdown",
   "metadata": {},
   "source": [
    "**Вывод**\n",
    "На основании статистики в основном люди берут кредит на сделку с недвижимостью, покупку автомобиля, получение образования и проведение свадьбы."
   ]
  },
  {
   "cell_type": "markdown",
   "metadata": {},
   "source": [
    "### Категоризация данных"
   ]
  },
  {
   "cell_type": "code",
   "execution_count": 35,
   "metadata": {
    "scrolled": true
   },
   "outputs": [
    {
     "data": {
      "text/html": [
       "<div>\n",
       "<style scoped>\n",
       "    .dataframe tbody tr th:only-of-type {\n",
       "        vertical-align: middle;\n",
       "    }\n",
       "\n",
       "    .dataframe tbody tr th {\n",
       "        vertical-align: top;\n",
       "    }\n",
       "\n",
       "    .dataframe thead th {\n",
       "        text-align: right;\n",
       "    }\n",
       "</style>\n",
       "<table border=\"1\" class=\"dataframe\">\n",
       "  <thead>\n",
       "    <tr style=\"text-align: right;\">\n",
       "      <th></th>\n",
       "      <th>children</th>\n",
       "      <th>days_employed</th>\n",
       "      <th>dob_years</th>\n",
       "      <th>education</th>\n",
       "      <th>education_id</th>\n",
       "      <th>family_status</th>\n",
       "      <th>family_status_id</th>\n",
       "      <th>gender</th>\n",
       "      <th>income_type</th>\n",
       "      <th>debt</th>\n",
       "      <th>total_income</th>\n",
       "      <th>purpose</th>\n",
       "      <th>age_group</th>\n",
       "      <th>age_check</th>\n",
       "      <th>purpose_group</th>\n",
       "    </tr>\n",
       "  </thead>\n",
       "  <tbody>\n",
       "    <tr>\n",
       "      <td>0</td>\n",
       "      <td>1</td>\n",
       "      <td>8437</td>\n",
       "      <td>42</td>\n",
       "      <td>высшее</td>\n",
       "      <td>0</td>\n",
       "      <td>женат / замужем</td>\n",
       "      <td>0</td>\n",
       "      <td>F</td>\n",
       "      <td>сотрудник</td>\n",
       "      <td>0</td>\n",
       "      <td>253875</td>\n",
       "      <td>покупка жилья</td>\n",
       "      <td>от 30 до 49 лет</td>\n",
       "      <td>ok</td>\n",
       "      <td>недвижимость</td>\n",
       "    </tr>\n",
       "    <tr>\n",
       "      <td>1</td>\n",
       "      <td>1</td>\n",
       "      <td>4024</td>\n",
       "      <td>36</td>\n",
       "      <td>среднее</td>\n",
       "      <td>1</td>\n",
       "      <td>женат / замужем</td>\n",
       "      <td>0</td>\n",
       "      <td>F</td>\n",
       "      <td>сотрудник</td>\n",
       "      <td>0</td>\n",
       "      <td>112080</td>\n",
       "      <td>приобретение автомобиля</td>\n",
       "      <td>от 30 до 49 лет</td>\n",
       "      <td>ok</td>\n",
       "      <td>автомобиль</td>\n",
       "    </tr>\n",
       "    <tr>\n",
       "      <td>2</td>\n",
       "      <td>0</td>\n",
       "      <td>5623</td>\n",
       "      <td>33</td>\n",
       "      <td>среднее</td>\n",
       "      <td>1</td>\n",
       "      <td>женат / замужем</td>\n",
       "      <td>0</td>\n",
       "      <td>M</td>\n",
       "      <td>сотрудник</td>\n",
       "      <td>0</td>\n",
       "      <td>145885</td>\n",
       "      <td>покупка жилья</td>\n",
       "      <td>от 30 до 49 лет</td>\n",
       "      <td>ok</td>\n",
       "      <td>недвижимость</td>\n",
       "    </tr>\n",
       "    <tr>\n",
       "      <td>3</td>\n",
       "      <td>3</td>\n",
       "      <td>4124</td>\n",
       "      <td>32</td>\n",
       "      <td>среднее</td>\n",
       "      <td>1</td>\n",
       "      <td>женат / замужем</td>\n",
       "      <td>0</td>\n",
       "      <td>M</td>\n",
       "      <td>сотрудник</td>\n",
       "      <td>0</td>\n",
       "      <td>267628</td>\n",
       "      <td>дополнительное образование</td>\n",
       "      <td>от 30 до 49 лет</td>\n",
       "      <td>ok</td>\n",
       "      <td>образование</td>\n",
       "    </tr>\n",
       "    <tr>\n",
       "      <td>4</td>\n",
       "      <td>0</td>\n",
       "      <td>14177</td>\n",
       "      <td>53</td>\n",
       "      <td>среднее</td>\n",
       "      <td>1</td>\n",
       "      <td>гражданский брак</td>\n",
       "      <td>1</td>\n",
       "      <td>F</td>\n",
       "      <td>пенсионер</td>\n",
       "      <td>0</td>\n",
       "      <td>158616</td>\n",
       "      <td>сыграть свадьбу</td>\n",
       "      <td>от 50 до 65 лет</td>\n",
       "      <td>ok</td>\n",
       "      <td>свадьба</td>\n",
       "    </tr>\n",
       "  </tbody>\n",
       "</table>\n",
       "</div>"
      ],
      "text/plain": [
       "   children  days_employed  dob_years education  education_id  \\\n",
       "0         1           8437         42    высшее             0   \n",
       "1         1           4024         36   среднее             1   \n",
       "2         0           5623         33   среднее             1   \n",
       "3         3           4124         32   среднее             1   \n",
       "4         0          14177         53   среднее             1   \n",
       "\n",
       "      family_status  family_status_id gender income_type  debt  total_income  \\\n",
       "0   женат / замужем                 0      F   сотрудник     0        253875   \n",
       "1   женат / замужем                 0      F   сотрудник     0        112080   \n",
       "2   женат / замужем                 0      M   сотрудник     0        145885   \n",
       "3   женат / замужем                 0      M   сотрудник     0        267628   \n",
       "4  гражданский брак                 1      F   пенсионер     0        158616   \n",
       "\n",
       "                      purpose        age_group age_check purpose_group  \n",
       "0               покупка жилья  от 30 до 49 лет        ok  недвижимость  \n",
       "1     приобретение автомобиля  от 30 до 49 лет        ok    автомобиль  \n",
       "2               покупка жилья  от 30 до 49 лет        ok  недвижимость  \n",
       "3  дополнительное образование  от 30 до 49 лет        ok   образование  \n",
       "4             сыграть свадьбу  от 50 до 65 лет        ok       свадьба  "
      ]
     },
     "execution_count": 35,
     "metadata": {},
     "output_type": "execute_result"
    }
   ],
   "source": [
    "#Добавим новый столбец с унифицированной целью кредита. \n",
    "#При этом в категорию недвижимость также будет включена лемма \"жилье\"\n",
    "def purpose_group(purpose):\n",
    "    if \"свадьб\" in purpose:\n",
    "        return \"свадьба\"\n",
    "    if \"образован\" in purpose:\n",
    "        return \"образование\"\n",
    "    if \"автомоб\" in purpose:\n",
    "        return \"автомобиль\"\n",
    "    if (\"недвиж\" in purpose) or (\"жил\" in purpose):\n",
    "        return \"недвижимость\"\n",
    "    return \"прочие\"\n",
    "\n",
    "df['purpose_group'] = df['purpose'].apply(purpose_group)\n",
    "df.head()"
   ]
  },
  {
   "cell_type": "code",
   "execution_count": 36,
   "metadata": {},
   "outputs": [
    {
     "data": {
      "text/plain": [
       "недвижимость    10811\n",
       "автомобиль       4306\n",
       "образование      4013\n",
       "свадьба          2324\n",
       "Name: purpose_group, dtype: int64"
      ]
     },
     "metadata": {},
     "output_type": "display_data"
    },
    {
     "data": {
      "text/plain": [
       "0"
      ]
     },
     "metadata": {},
     "output_type": "display_data"
    }
   ],
   "source": [
    "#Проверим, не остались ли строки, которые не покрываются данными категориями (для этого мы ввели категорию \"прочие\"), а также не появились ли новые дубликаты\n",
    "display(df['purpose_group'].value_counts())\n",
    "#Весь массив теперь разбит на 4 цели получения кредита, новых дубликатов не обнаружено\n",
    "display(df.duplicated().sum())"
   ]
  },
  {
   "cell_type": "code",
   "execution_count": 37,
   "metadata": {},
   "outputs": [
    {
     "data": {
      "text/plain": [
       "100 - 199 тыс.руб.     11925\n",
       "200 - 499 тыс.руб.      4844\n",
       "менее 100 тыс. руб.     4463\n",
       "свыше 500 тыс.руб.       222\n",
       "Name: income_group, dtype: int64"
      ]
     },
     "execution_count": 37,
     "metadata": {},
     "output_type": "execute_result"
    }
   ],
   "source": [
    "#Для ответа на вопрос \"Есть ли зависимость между уровнем дохода и возвратом кредита в срок\" необходимо разбить заемщиков на подгруппы по уровню доходов\n",
    "#Создадим отдельный столбец с разбивкой по уровню дохода \"менее 100 тыс. руб.\", \"100 - 199 тыс.руб.\", \"200 - 499 тыс.руб.\", \"свыше 500 тыс.руб.\"\n",
    "def income_group(income):\n",
    "    if income < 100000:\n",
    "        return 'менее 100 тыс. руб.'\n",
    "    if income >= 100000 and income < 200000:\n",
    "        return '100 - 199 тыс.руб.'\n",
    "    if income >= 200000 and income < 500000:\n",
    "        return '200 - 499 тыс.руб.'\n",
    "    \n",
    "    return \"свыше 500 тыс.руб.\" \n",
    "df['income_group'] = df['total_income'].apply(income_group)\n",
    "df['income_group'].value_counts()"
   ]
  },
  {
   "cell_type": "markdown",
   "metadata": {},
   "source": [
    "**Вывод**\n",
    "С помощью лемматизации мы смогли выделить ключевые цели получения кредита и провести категоризацию для дальнешего решения задачи. Теперь весь массив разбит на 4 цели получения кредита. Также мы разбили заемщиков на 4 категории по уровню получаемого дохода для ответа на вопрос \"Есть ли зависимость между уровнем дохода и возвратом кредита в срок?\"."
   ]
  },
  {
   "cell_type": "markdown",
   "metadata": {},
   "source": [
    "## Шаг 3. Ответьте на вопросы"
   ]
  },
  {
   "cell_type": "markdown",
   "metadata": {},
   "source": [
    "- Есть ли зависимость между наличием детей и возвратом кредита в срок?"
   ]
  },
  {
   "cell_type": "code",
   "execution_count": 38,
   "metadata": {},
   "outputs": [
    {
     "name": "stdout",
     "output_type": "stream",
     "text": [
      "Доля просрочек в семьях без детей: 7.5%\n",
      "Доля просрочек в семьях с детьми: 9.2%\n"
     ]
    }
   ],
   "source": [
    "#Для решения этой задачи выведем % просрочек по кредиту внутри групп \"бездетные\" и \"с детьми\" \n",
    "#как отношение количества строк с просрочками к общему количеству строк внутри выборки.\n",
    "families_childless = df[df['children'] == 0]['children'].count()\n",
    "families_with_children = df[df['children'] != 0]['children'].count()\n",
    "families_childless_debt = len(df[(df['children'] == 0) & (df['debt'] == 1)])\n",
    "families_with_children_debt = len(df[(df['children'] != 0) & (df['debt'] == 1)])\n",
    "families_childless_ratio = families_childless_debt/families_childless\n",
    "families_with_children_ratio = families_with_children_debt/families_with_children\n",
    "print(\"Доля просрочек в семьях без детей: {:.1%}\".format(families_childless_ratio))\n",
    "print(\"Доля просрочек в семьях с детьми: {:.1%}\".format(families_with_children_ratio))"
   ]
  },
  {
   "cell_type": "code",
   "execution_count": 39,
   "metadata": {},
   "outputs": [
    {
     "data": {
      "text/html": [
       "<style  type=\"text/css\" >\n",
       "</style><table id=\"T_093450b4_94ef_11ec_a982_02420a398d59\" ><thead>    <tr>        <th class=\"index_name level0\" >debt</th>        <th class=\"col_heading level0 col0\" >0</th>        <th class=\"col_heading level0 col1\" >1</th>        <th class=\"col_heading level0 col2\" >total</th>        <th class=\"col_heading level0 col3\" >ratio</th>    </tr>    <tr>        <th class=\"index_name level0\" >children</th>        <th class=\"blank\" ></th>        <th class=\"blank\" ></th>        <th class=\"blank\" ></th>        <th class=\"blank\" ></th>    </tr></thead><tbody>\n",
       "                <tr>\n",
       "                        <th id=\"T_093450b4_94ef_11ec_a982_02420a398d59level0_row0\" class=\"row_heading level0 row0\" >4</th>\n",
       "                        <td id=\"T_093450b4_94ef_11ec_a982_02420a398d59row0_col0\" class=\"data row0 col0\" >37</td>\n",
       "                        <td id=\"T_093450b4_94ef_11ec_a982_02420a398d59row0_col1\" class=\"data row0 col1\" >4</td>\n",
       "                        <td id=\"T_093450b4_94ef_11ec_a982_02420a398d59row0_col2\" class=\"data row0 col2\" >41</td>\n",
       "                        <td id=\"T_093450b4_94ef_11ec_a982_02420a398d59row0_col3\" class=\"data row0 col3\" >9.8%</td>\n",
       "            </tr>\n",
       "            <tr>\n",
       "                        <th id=\"T_093450b4_94ef_11ec_a982_02420a398d59level0_row1\" class=\"row_heading level0 row1\" >2</th>\n",
       "                        <td id=\"T_093450b4_94ef_11ec_a982_02420a398d59row1_col0\" class=\"data row1 col0\" >1926</td>\n",
       "                        <td id=\"T_093450b4_94ef_11ec_a982_02420a398d59row1_col1\" class=\"data row1 col1\" >202</td>\n",
       "                        <td id=\"T_093450b4_94ef_11ec_a982_02420a398d59row1_col2\" class=\"data row1 col2\" >2128</td>\n",
       "                        <td id=\"T_093450b4_94ef_11ec_a982_02420a398d59row1_col3\" class=\"data row1 col3\" >9.5%</td>\n",
       "            </tr>\n",
       "            <tr>\n",
       "                        <th id=\"T_093450b4_94ef_11ec_a982_02420a398d59level0_row2\" class=\"row_heading level0 row2\" >1</th>\n",
       "                        <td id=\"T_093450b4_94ef_11ec_a982_02420a398d59row2_col0\" class=\"data row2 col0\" >4410</td>\n",
       "                        <td id=\"T_093450b4_94ef_11ec_a982_02420a398d59row2_col1\" class=\"data row2 col1\" >445</td>\n",
       "                        <td id=\"T_093450b4_94ef_11ec_a982_02420a398d59row2_col2\" class=\"data row2 col2\" >4855</td>\n",
       "                        <td id=\"T_093450b4_94ef_11ec_a982_02420a398d59row2_col3\" class=\"data row2 col3\" >9.2%</td>\n",
       "            </tr>\n",
       "            <tr>\n",
       "                        <th id=\"T_093450b4_94ef_11ec_a982_02420a398d59level0_row3\" class=\"row_heading level0 row3\" >3</th>\n",
       "                        <td id=\"T_093450b4_94ef_11ec_a982_02420a398d59row3_col0\" class=\"data row3 col0\" >303</td>\n",
       "                        <td id=\"T_093450b4_94ef_11ec_a982_02420a398d59row3_col1\" class=\"data row3 col1\" >27</td>\n",
       "                        <td id=\"T_093450b4_94ef_11ec_a982_02420a398d59row3_col2\" class=\"data row3 col2\" >330</td>\n",
       "                        <td id=\"T_093450b4_94ef_11ec_a982_02420a398d59row3_col3\" class=\"data row3 col3\" >8.2%</td>\n",
       "            </tr>\n",
       "            <tr>\n",
       "                        <th id=\"T_093450b4_94ef_11ec_a982_02420a398d59level0_row4\" class=\"row_heading level0 row4\" >0</th>\n",
       "                        <td id=\"T_093450b4_94ef_11ec_a982_02420a398d59row4_col0\" class=\"data row4 col0\" >13028</td>\n",
       "                        <td id=\"T_093450b4_94ef_11ec_a982_02420a398d59row4_col1\" class=\"data row4 col1\" >1063</td>\n",
       "                        <td id=\"T_093450b4_94ef_11ec_a982_02420a398d59row4_col2\" class=\"data row4 col2\" >14091</td>\n",
       "                        <td id=\"T_093450b4_94ef_11ec_a982_02420a398d59row4_col3\" class=\"data row4 col3\" >7.5%</td>\n",
       "            </tr>\n",
       "            <tr>\n",
       "                        <th id=\"T_093450b4_94ef_11ec_a982_02420a398d59level0_row5\" class=\"row_heading level0 row5\" >5</th>\n",
       "                        <td id=\"T_093450b4_94ef_11ec_a982_02420a398d59row5_col0\" class=\"data row5 col0\" >9</td>\n",
       "                        <td id=\"T_093450b4_94ef_11ec_a982_02420a398d59row5_col1\" class=\"data row5 col1\" >nan</td>\n",
       "                        <td id=\"T_093450b4_94ef_11ec_a982_02420a398d59row5_col2\" class=\"data row5 col2\" >nan</td>\n",
       "                        <td id=\"T_093450b4_94ef_11ec_a982_02420a398d59row5_col3\" class=\"data row5 col3\" >nan%</td>\n",
       "            </tr>\n",
       "    </tbody></table>"
      ],
      "text/plain": [
       "<pandas.io.formats.style.Styler at 0x7ffb0b7a7090>"
      ]
     },
     "metadata": {},
     "output_type": "display_data"
    }
   ],
   "source": [
    "#А теперь создадим сводную таблицу в разрезе столбцов 'children' и 'debt', \n",
    "#чтобы посмотреть, есть ли зависимость между просрочкой и количеством детей\n",
    "data_pivot = df.pivot_table(index='children', columns='debt', values='gender', aggfunc='count')\n",
    "data_pivot['total'] = data_pivot[0] + data_pivot[1]\n",
    "data_pivot['ratio'] = data_pivot[1] / data_pivot['total']\n",
    "display(data_pivot.sort_values(by='ratio',ascending=False).style.format({'ratio':'{:.1%}'.format}))"
   ]
  },
  {
   "cell_type": "markdown",
   "metadata": {},
   "source": [
    "**Вывод**\n",
    "Анализ показал, что в семьях с детьми доля просрочки в среднем на 1,7% выше, чем в семьях без детей.\n",
    "Если же смотреть просрочки внутри семей с детьми, то здесь нет четкой зависимости, что с большим количеством детей платежная дицсиплина падает или растет."
   ]
  },
  {
   "cell_type": "markdown",
   "metadata": {},
   "source": [
    "- Есть ли зависимость между семейным положением и возвратом кредита в срок?"
   ]
  },
  {
   "cell_type": "code",
   "execution_count": 40,
   "metadata": {},
   "outputs": [
    {
     "data": {
      "text/html": [
       "<style  type=\"text/css\" >\n",
       "</style><table id=\"T_0938bb40_94ef_11ec_a982_02420a398d59\" ><thead>    <tr>        <th class=\"index_name level0\" >debt</th>        <th class=\"col_heading level0 col0\" >0</th>        <th class=\"col_heading level0 col1\" >1</th>        <th class=\"col_heading level0 col2\" >total</th>        <th class=\"col_heading level0 col3\" >ratio</th>    </tr>    <tr>        <th class=\"index_name level0\" >family_status</th>        <th class=\"blank\" ></th>        <th class=\"blank\" ></th>        <th class=\"blank\" ></th>        <th class=\"blank\" ></th>    </tr></thead><tbody>\n",
       "                <tr>\n",
       "                        <th id=\"T_0938bb40_94ef_11ec_a982_02420a398d59level0_row0\" class=\"row_heading level0 row0\" >Не женат / не замужем</th>\n",
       "                        <td id=\"T_0938bb40_94ef_11ec_a982_02420a398d59row0_col0\" class=\"data row0 col0\" >2536</td>\n",
       "                        <td id=\"T_0938bb40_94ef_11ec_a982_02420a398d59row0_col1\" class=\"data row0 col1\" >274</td>\n",
       "                        <td id=\"T_0938bb40_94ef_11ec_a982_02420a398d59row0_col2\" class=\"data row0 col2\" >2810</td>\n",
       "                        <td id=\"T_0938bb40_94ef_11ec_a982_02420a398d59row0_col3\" class=\"data row0 col3\" >9.8%</td>\n",
       "            </tr>\n",
       "            <tr>\n",
       "                        <th id=\"T_0938bb40_94ef_11ec_a982_02420a398d59level0_row1\" class=\"row_heading level0 row1\" >гражданский брак</th>\n",
       "                        <td id=\"T_0938bb40_94ef_11ec_a982_02420a398d59row1_col0\" class=\"data row1 col0\" >3763</td>\n",
       "                        <td id=\"T_0938bb40_94ef_11ec_a982_02420a398d59row1_col1\" class=\"data row1 col1\" >388</td>\n",
       "                        <td id=\"T_0938bb40_94ef_11ec_a982_02420a398d59row1_col2\" class=\"data row1 col2\" >4151</td>\n",
       "                        <td id=\"T_0938bb40_94ef_11ec_a982_02420a398d59row1_col3\" class=\"data row1 col3\" >9.3%</td>\n",
       "            </tr>\n",
       "            <tr>\n",
       "                        <th id=\"T_0938bb40_94ef_11ec_a982_02420a398d59level0_row2\" class=\"row_heading level0 row2\" >женат / замужем</th>\n",
       "                        <td id=\"T_0938bb40_94ef_11ec_a982_02420a398d59row2_col0\" class=\"data row2 col0\" >11408</td>\n",
       "                        <td id=\"T_0938bb40_94ef_11ec_a982_02420a398d59row2_col1\" class=\"data row2 col1\" >931</td>\n",
       "                        <td id=\"T_0938bb40_94ef_11ec_a982_02420a398d59row2_col2\" class=\"data row2 col2\" >12339</td>\n",
       "                        <td id=\"T_0938bb40_94ef_11ec_a982_02420a398d59row2_col3\" class=\"data row2 col3\" >7.5%</td>\n",
       "            </tr>\n",
       "            <tr>\n",
       "                        <th id=\"T_0938bb40_94ef_11ec_a982_02420a398d59level0_row3\" class=\"row_heading level0 row3\" >в разводе</th>\n",
       "                        <td id=\"T_0938bb40_94ef_11ec_a982_02420a398d59row3_col0\" class=\"data row3 col0\" >1110</td>\n",
       "                        <td id=\"T_0938bb40_94ef_11ec_a982_02420a398d59row3_col1\" class=\"data row3 col1\" >85</td>\n",
       "                        <td id=\"T_0938bb40_94ef_11ec_a982_02420a398d59row3_col2\" class=\"data row3 col2\" >1195</td>\n",
       "                        <td id=\"T_0938bb40_94ef_11ec_a982_02420a398d59row3_col3\" class=\"data row3 col3\" >7.1%</td>\n",
       "            </tr>\n",
       "            <tr>\n",
       "                        <th id=\"T_0938bb40_94ef_11ec_a982_02420a398d59level0_row4\" class=\"row_heading level0 row4\" >вдовец / вдова</th>\n",
       "                        <td id=\"T_0938bb40_94ef_11ec_a982_02420a398d59row4_col0\" class=\"data row4 col0\" >896</td>\n",
       "                        <td id=\"T_0938bb40_94ef_11ec_a982_02420a398d59row4_col1\" class=\"data row4 col1\" >63</td>\n",
       "                        <td id=\"T_0938bb40_94ef_11ec_a982_02420a398d59row4_col2\" class=\"data row4 col2\" >959</td>\n",
       "                        <td id=\"T_0938bb40_94ef_11ec_a982_02420a398d59row4_col3\" class=\"data row4 col3\" >6.6%</td>\n",
       "            </tr>\n",
       "    </tbody></table>"
      ],
      "text/plain": [
       "<pandas.io.formats.style.Styler at 0x7ffb543d9f50>"
      ]
     },
     "metadata": {},
     "output_type": "display_data"
    }
   ],
   "source": [
    "#Создадим сводную таблицу в разрезе столбцов 'family_status' и 'debt'. \n",
    "data_pivot_family_status = df.pivot_table(index='family_status', columns='debt', values='gender', aggfunc='count')\n",
    "data_pivot_family_status['total'] = data_pivot_family_status[0] + data_pivot_family_status[1]\n",
    "data_pivot_family_status['ratio'] = data_pivot_family_status[1] / data_pivot_family_status['total']\n",
    "display(data_pivot_family_status.sort_values(by='ratio',ascending=False).style.format({'ratio':'{:.1%}'.format}))"
   ]
  },
  {
   "cell_type": "markdown",
   "metadata": {},
   "source": [
    "**Вывод**\n",
    "На основании полученных данных, можно сделать вывод, что наименее дисциплинированны холостяки/холостячки, а также те, кто живут в гражданском браке - их доля просрочки 9,3%-9,8%, в то время как у семейных, а также те, кто ранее был женат/замужем доля просрочки 6,6% - 7,5%. Отдельно стоит отметить минимальную долю просрочек среди тех, кто потерял супруга/супругу - 6,6%"
   ]
  },
  {
   "cell_type": "markdown",
   "metadata": {},
   "source": [
    "- Есть ли зависимость между уровнем дохода и возвратом кредита в срок?"
   ]
  },
  {
   "cell_type": "code",
   "execution_count": 41,
   "metadata": {},
   "outputs": [
    {
     "data": {
      "text/html": [
       "<style  type=\"text/css\" >\n",
       "</style><table id=\"T_093c1e3e_94ef_11ec_a982_02420a398d59\" ><thead>    <tr>        <th class=\"index_name level0\" >debt</th>        <th class=\"col_heading level0 col0\" >0</th>        <th class=\"col_heading level0 col1\" >1</th>        <th class=\"col_heading level0 col2\" >total</th>        <th class=\"col_heading level0 col3\" >ratio</th>    </tr>    <tr>        <th class=\"index_name level0\" >income_group</th>        <th class=\"blank\" ></th>        <th class=\"blank\" ></th>        <th class=\"blank\" ></th>        <th class=\"blank\" ></th>    </tr></thead><tbody>\n",
       "                <tr>\n",
       "                        <th id=\"T_093c1e3e_94ef_11ec_a982_02420a398d59level0_row0\" class=\"row_heading level0 row0\" >100 - 199 тыс.руб.</th>\n",
       "                        <td id=\"T_093c1e3e_94ef_11ec_a982_02420a398d59row0_col0\" class=\"data row0 col0\" >10896</td>\n",
       "                        <td id=\"T_093c1e3e_94ef_11ec_a982_02420a398d59row0_col1\" class=\"data row0 col1\" >1029</td>\n",
       "                        <td id=\"T_093c1e3e_94ef_11ec_a982_02420a398d59row0_col2\" class=\"data row0 col2\" >11925</td>\n",
       "                        <td id=\"T_093c1e3e_94ef_11ec_a982_02420a398d59row0_col3\" class=\"data row0 col3\" >8.6%</td>\n",
       "            </tr>\n",
       "            <tr>\n",
       "                        <th id=\"T_093c1e3e_94ef_11ec_a982_02420a398d59level0_row1\" class=\"row_heading level0 row1\" >менее 100 тыс. руб.</th>\n",
       "                        <td id=\"T_093c1e3e_94ef_11ec_a982_02420a398d59row1_col0\" class=\"data row1 col0\" >4109</td>\n",
       "                        <td id=\"T_093c1e3e_94ef_11ec_a982_02420a398d59row1_col1\" class=\"data row1 col1\" >354</td>\n",
       "                        <td id=\"T_093c1e3e_94ef_11ec_a982_02420a398d59row1_col2\" class=\"data row1 col2\" >4463</td>\n",
       "                        <td id=\"T_093c1e3e_94ef_11ec_a982_02420a398d59row1_col3\" class=\"data row1 col3\" >7.9%</td>\n",
       "            </tr>\n",
       "            <tr>\n",
       "                        <th id=\"T_093c1e3e_94ef_11ec_a982_02420a398d59level0_row2\" class=\"row_heading level0 row2\" >200 - 499 тыс.руб.</th>\n",
       "                        <td id=\"T_093c1e3e_94ef_11ec_a982_02420a398d59row2_col0\" class=\"data row2 col0\" >4500</td>\n",
       "                        <td id=\"T_093c1e3e_94ef_11ec_a982_02420a398d59row2_col1\" class=\"data row2 col1\" >344</td>\n",
       "                        <td id=\"T_093c1e3e_94ef_11ec_a982_02420a398d59row2_col2\" class=\"data row2 col2\" >4844</td>\n",
       "                        <td id=\"T_093c1e3e_94ef_11ec_a982_02420a398d59row2_col3\" class=\"data row2 col3\" >7.1%</td>\n",
       "            </tr>\n",
       "            <tr>\n",
       "                        <th id=\"T_093c1e3e_94ef_11ec_a982_02420a398d59level0_row3\" class=\"row_heading level0 row3\" >свыше 500 тыс.руб.</th>\n",
       "                        <td id=\"T_093c1e3e_94ef_11ec_a982_02420a398d59row3_col0\" class=\"data row3 col0\" >208</td>\n",
       "                        <td id=\"T_093c1e3e_94ef_11ec_a982_02420a398d59row3_col1\" class=\"data row3 col1\" >14</td>\n",
       "                        <td id=\"T_093c1e3e_94ef_11ec_a982_02420a398d59row3_col2\" class=\"data row3 col2\" >222</td>\n",
       "                        <td id=\"T_093c1e3e_94ef_11ec_a982_02420a398d59row3_col3\" class=\"data row3 col3\" >6.3%</td>\n",
       "            </tr>\n",
       "    </tbody></table>"
      ],
      "text/plain": [
       "<pandas.io.formats.style.Styler at 0x7ffb5445f250>"
      ]
     },
     "metadata": {},
     "output_type": "display_data"
    }
   ],
   "source": [
    "#Создадим сводную таблицу в разрезе столбцов 'income_group' и 'debt'. \n",
    "data_income_group = df.pivot_table(index='income_group', columns='debt', values='gender', aggfunc='count')\n",
    "data_income_group['total'] = data_income_group[0] + data_income_group[1]\n",
    "data_income_group['ratio'] = data_income_group[1] / data_income_group['total']\n",
    "display(data_income_group.sort_values(by='ratio',ascending=False).style.format({'ratio':'{:.1%}'.format}))"
   ]
  },
  {
   "cell_type": "markdown",
   "metadata": {},
   "source": [
    "**Вывод**\n",
    "Однозначной зависимости между уровнем дохода и возвратом кредита в срок не наблюдается: у заемщиков с доходом менее 100 тыс. руб. доля просрочек ниже, чем у тех, кто имеет доход 100 - 199 тыс.руб. При этом состоятельные клиенты с доходом свыше 500 тыс.руб в месяц имеют минимальный уровень просрочки в 6,3%"
   ]
  },
  {
   "cell_type": "markdown",
   "metadata": {},
   "source": [
    "- Как разные цели кредита влияют на его возврат в срок?"
   ]
  },
  {
   "cell_type": "code",
   "execution_count": 42,
   "metadata": {
    "scrolled": true
   },
   "outputs": [
    {
     "data": {
      "text/html": [
       "<style  type=\"text/css\" >\n",
       "</style><table id=\"T_093f97d0_94ef_11ec_a982_02420a398d59\" ><thead>    <tr>        <th class=\"index_name level0\" >debt</th>        <th class=\"col_heading level0 col0\" >0</th>        <th class=\"col_heading level0 col1\" >1</th>        <th class=\"col_heading level0 col2\" >total</th>        <th class=\"col_heading level0 col3\" >ratio</th>    </tr>    <tr>        <th class=\"index_name level0\" >purpose_group</th>        <th class=\"blank\" ></th>        <th class=\"blank\" ></th>        <th class=\"blank\" ></th>        <th class=\"blank\" ></th>    </tr></thead><tbody>\n",
       "                <tr>\n",
       "                        <th id=\"T_093f97d0_94ef_11ec_a982_02420a398d59level0_row0\" class=\"row_heading level0 row0\" >автомобиль</th>\n",
       "                        <td id=\"T_093f97d0_94ef_11ec_a982_02420a398d59row0_col0\" class=\"data row0 col0\" >3903</td>\n",
       "                        <td id=\"T_093f97d0_94ef_11ec_a982_02420a398d59row0_col1\" class=\"data row0 col1\" >403</td>\n",
       "                        <td id=\"T_093f97d0_94ef_11ec_a982_02420a398d59row0_col2\" class=\"data row0 col2\" >4306</td>\n",
       "                        <td id=\"T_093f97d0_94ef_11ec_a982_02420a398d59row0_col3\" class=\"data row0 col3\" >9.4%</td>\n",
       "            </tr>\n",
       "            <tr>\n",
       "                        <th id=\"T_093f97d0_94ef_11ec_a982_02420a398d59level0_row1\" class=\"row_heading level0 row1\" >образование</th>\n",
       "                        <td id=\"T_093f97d0_94ef_11ec_a982_02420a398d59row1_col0\" class=\"data row1 col0\" >3643</td>\n",
       "                        <td id=\"T_093f97d0_94ef_11ec_a982_02420a398d59row1_col1\" class=\"data row1 col1\" >370</td>\n",
       "                        <td id=\"T_093f97d0_94ef_11ec_a982_02420a398d59row1_col2\" class=\"data row1 col2\" >4013</td>\n",
       "                        <td id=\"T_093f97d0_94ef_11ec_a982_02420a398d59row1_col3\" class=\"data row1 col3\" >9.2%</td>\n",
       "            </tr>\n",
       "            <tr>\n",
       "                        <th id=\"T_093f97d0_94ef_11ec_a982_02420a398d59level0_row2\" class=\"row_heading level0 row2\" >свадьба</th>\n",
       "                        <td id=\"T_093f97d0_94ef_11ec_a982_02420a398d59row2_col0\" class=\"data row2 col0\" >2138</td>\n",
       "                        <td id=\"T_093f97d0_94ef_11ec_a982_02420a398d59row2_col1\" class=\"data row2 col1\" >186</td>\n",
       "                        <td id=\"T_093f97d0_94ef_11ec_a982_02420a398d59row2_col2\" class=\"data row2 col2\" >2324</td>\n",
       "                        <td id=\"T_093f97d0_94ef_11ec_a982_02420a398d59row2_col3\" class=\"data row2 col3\" >8.0%</td>\n",
       "            </tr>\n",
       "            <tr>\n",
       "                        <th id=\"T_093f97d0_94ef_11ec_a982_02420a398d59level0_row3\" class=\"row_heading level0 row3\" >недвижимость</th>\n",
       "                        <td id=\"T_093f97d0_94ef_11ec_a982_02420a398d59row3_col0\" class=\"data row3 col0\" >10029</td>\n",
       "                        <td id=\"T_093f97d0_94ef_11ec_a982_02420a398d59row3_col1\" class=\"data row3 col1\" >782</td>\n",
       "                        <td id=\"T_093f97d0_94ef_11ec_a982_02420a398d59row3_col2\" class=\"data row3 col2\" >10811</td>\n",
       "                        <td id=\"T_093f97d0_94ef_11ec_a982_02420a398d59row3_col3\" class=\"data row3 col3\" >7.2%</td>\n",
       "            </tr>\n",
       "    </tbody></table>"
      ],
      "text/plain": [
       "<pandas.io.formats.style.Styler at 0x7ffb09ca2850>"
      ]
     },
     "metadata": {},
     "output_type": "display_data"
    }
   ],
   "source": [
    "#Создадим сводную таблицу в разрезе столбцов 'purpose_group' и 'debt'. \n",
    "data_pivot_purpose = df.pivot_table(index='purpose_group', columns='debt', values='gender', aggfunc='count')\n",
    "data_pivot_purpose['total'] = data_pivot_purpose[0] + data_pivot_purpose[1]\n",
    "data_pivot_purpose['ratio'] = data_pivot_purpose[1] / data_pivot_purpose['total']\n",
    "display(data_pivot_purpose.sort_values(by='ratio',ascending=False).style.format({'ratio':'{:.1%}'.format}))"
   ]
  },
  {
   "cell_type": "markdown",
   "metadata": {},
   "source": [
    "**Вывод**\n",
    "Из сводной таблицы сразу видно, что доля просрочек в кредитах на покупку автомобиля и получение образования самая высокая - более 9%, в то время как кредиты на недвижимость показывают минимальное значение 7,2%. Кредиты на свадьбу занимают промежуточную позицию с долей просрочек 8%."
   ]
  },
  {
   "cell_type": "code",
   "execution_count": 43,
   "metadata": {
    "scrolled": true
   },
   "outputs": [
    {
     "data": {
      "text/html": [
       "<style  type=\"text/css\" >\n",
       "</style><table id=\"T_0946d478_94ef_11ec_a982_02420a398d59\" ><thead>    <tr>        <th class=\"index_name level0\" >debt</th>        <th class=\"col_heading level0 col0\" >0</th>        <th class=\"col_heading level0 col1\" >1</th>        <th class=\"col_heading level0 col2\" >total</th>        <th class=\"col_heading level0 col3\" >ratio</th>    </tr>    <tr>        <th class=\"index_name level0\" >education</th>        <th class=\"blank\" ></th>        <th class=\"blank\" ></th>        <th class=\"blank\" ></th>        <th class=\"blank\" ></th>    </tr></thead><tbody>\n",
       "                <tr>\n",
       "                        <th id=\"T_0946d478_94ef_11ec_a982_02420a398d59level0_row0\" class=\"row_heading level0 row0\" >начальное</th>\n",
       "                        <td id=\"T_0946d478_94ef_11ec_a982_02420a398d59row0_col0\" class=\"data row0 col0\" >251</td>\n",
       "                        <td id=\"T_0946d478_94ef_11ec_a982_02420a398d59row0_col1\" class=\"data row0 col1\" >31</td>\n",
       "                        <td id=\"T_0946d478_94ef_11ec_a982_02420a398d59row0_col2\" class=\"data row0 col2\" >282</td>\n",
       "                        <td id=\"T_0946d478_94ef_11ec_a982_02420a398d59row0_col3\" class=\"data row0 col3\" >11.0%</td>\n",
       "            </tr>\n",
       "            <tr>\n",
       "                        <th id=\"T_0946d478_94ef_11ec_a982_02420a398d59level0_row1\" class=\"row_heading level0 row1\" >неоконченное высшее</th>\n",
       "                        <td id=\"T_0946d478_94ef_11ec_a982_02420a398d59row1_col0\" class=\"data row1 col0\" >676</td>\n",
       "                        <td id=\"T_0946d478_94ef_11ec_a982_02420a398d59row1_col1\" class=\"data row1 col1\" >68</td>\n",
       "                        <td id=\"T_0946d478_94ef_11ec_a982_02420a398d59row1_col2\" class=\"data row1 col2\" >744</td>\n",
       "                        <td id=\"T_0946d478_94ef_11ec_a982_02420a398d59row1_col3\" class=\"data row1 col3\" >9.1%</td>\n",
       "            </tr>\n",
       "            <tr>\n",
       "                        <th id=\"T_0946d478_94ef_11ec_a982_02420a398d59level0_row2\" class=\"row_heading level0 row2\" >среднее</th>\n",
       "                        <td id=\"T_0946d478_94ef_11ec_a982_02420a398d59row2_col0\" class=\"data row2 col0\" >13808</td>\n",
       "                        <td id=\"T_0946d478_94ef_11ec_a982_02420a398d59row2_col1\" class=\"data row2 col1\" >1364</td>\n",
       "                        <td id=\"T_0946d478_94ef_11ec_a982_02420a398d59row2_col2\" class=\"data row2 col2\" >15172</td>\n",
       "                        <td id=\"T_0946d478_94ef_11ec_a982_02420a398d59row2_col3\" class=\"data row2 col3\" >9.0%</td>\n",
       "            </tr>\n",
       "            <tr>\n",
       "                        <th id=\"T_0946d478_94ef_11ec_a982_02420a398d59level0_row3\" class=\"row_heading level0 row3\" >высшее</th>\n",
       "                        <td id=\"T_0946d478_94ef_11ec_a982_02420a398d59row3_col0\" class=\"data row3 col0\" >4972</td>\n",
       "                        <td id=\"T_0946d478_94ef_11ec_a982_02420a398d59row3_col1\" class=\"data row3 col1\" >278</td>\n",
       "                        <td id=\"T_0946d478_94ef_11ec_a982_02420a398d59row3_col2\" class=\"data row3 col2\" >5250</td>\n",
       "                        <td id=\"T_0946d478_94ef_11ec_a982_02420a398d59row3_col3\" class=\"data row3 col3\" >5.3%</td>\n",
       "            </tr>\n",
       "            <tr>\n",
       "                        <th id=\"T_0946d478_94ef_11ec_a982_02420a398d59level0_row4\" class=\"row_heading level0 row4\" >ученая степень</th>\n",
       "                        <td id=\"T_0946d478_94ef_11ec_a982_02420a398d59row4_col0\" class=\"data row4 col0\" >6</td>\n",
       "                        <td id=\"T_0946d478_94ef_11ec_a982_02420a398d59row4_col1\" class=\"data row4 col1\" >nan</td>\n",
       "                        <td id=\"T_0946d478_94ef_11ec_a982_02420a398d59row4_col2\" class=\"data row4 col2\" >nan</td>\n",
       "                        <td id=\"T_0946d478_94ef_11ec_a982_02420a398d59row4_col3\" class=\"data row4 col3\" >nan%</td>\n",
       "            </tr>\n",
       "    </tbody></table>"
      ],
      "text/plain": [
       "<pandas.io.formats.style.Styler at 0x7ffb071be850>"
      ]
     },
     "metadata": {},
     "output_type": "display_data"
    }
   ],
   "source": [
    "#Дополнительно проверим влияние образования на финансовую дисциплину\n",
    "data_pivot_education = df.pivot_table(index='education', columns='debt', values='gender', aggfunc='count')\n",
    "data_pivot_education['total'] = data_pivot_education[0] + data_pivot_education[1]\n",
    "data_pivot_education['ratio'] = data_pivot_education[1] / data_pivot_education['total']\n",
    "display(data_pivot_education.sort_values(by='ratio',ascending=False).style.format({'ratio':'{:.1%}'.format}))"
   ]
  },
  {
   "cell_type": "markdown",
   "metadata": {},
   "source": [
    "**Вывод**\n",
    "мы видим, что доля просрочек у тех, кто получил высшее образование, почти в 2 раза ниже (порядка 5%), чем у тех, кто либо еще находится в процессе его получения, либо ограничился средним образованием (примерно 9%)."
   ]
  },
  {
   "cell_type": "code",
   "execution_count": 44,
   "metadata": {},
   "outputs": [
    {
     "data": {
      "text/html": [
       "<style  type=\"text/css\" >\n",
       "</style><table id=\"T_094a45d6_94ef_11ec_a982_02420a398d59\" ><thead>    <tr>        <th class=\"index_name level0\" >debt</th>        <th class=\"col_heading level0 col0\" >0</th>        <th class=\"col_heading level0 col1\" >1</th>        <th class=\"col_heading level0 col2\" >total</th>        <th class=\"col_heading level0 col3\" >ratio</th>    </tr>    <tr>        <th class=\"index_name level0\" >gender</th>        <th class=\"blank\" ></th>        <th class=\"blank\" ></th>        <th class=\"blank\" ></th>        <th class=\"blank\" ></th>    </tr></thead><tbody>\n",
       "                <tr>\n",
       "                        <th id=\"T_094a45d6_94ef_11ec_a982_02420a398d59level0_row0\" class=\"row_heading level0 row0\" >M</th>\n",
       "                        <td id=\"T_094a45d6_94ef_11ec_a982_02420a398d59row0_col0\" class=\"data row0 col0\" >6532</td>\n",
       "                        <td id=\"T_094a45d6_94ef_11ec_a982_02420a398d59row0_col1\" class=\"data row0 col1\" >747</td>\n",
       "                        <td id=\"T_094a45d6_94ef_11ec_a982_02420a398d59row0_col2\" class=\"data row0 col2\" >7279</td>\n",
       "                        <td id=\"T_094a45d6_94ef_11ec_a982_02420a398d59row0_col3\" class=\"data row0 col3\" >10.3%</td>\n",
       "            </tr>\n",
       "            <tr>\n",
       "                        <th id=\"T_094a45d6_94ef_11ec_a982_02420a398d59level0_row1\" class=\"row_heading level0 row1\" >F</th>\n",
       "                        <td id=\"T_094a45d6_94ef_11ec_a982_02420a398d59row1_col0\" class=\"data row1 col0\" >13180</td>\n",
       "                        <td id=\"T_094a45d6_94ef_11ec_a982_02420a398d59row1_col1\" class=\"data row1 col1\" >994</td>\n",
       "                        <td id=\"T_094a45d6_94ef_11ec_a982_02420a398d59row1_col2\" class=\"data row1 col2\" >14174</td>\n",
       "                        <td id=\"T_094a45d6_94ef_11ec_a982_02420a398d59row1_col3\" class=\"data row1 col3\" >7.0%</td>\n",
       "            </tr>\n",
       "            <tr>\n",
       "                        <th id=\"T_094a45d6_94ef_11ec_a982_02420a398d59level0_row2\" class=\"row_heading level0 row2\" >XNA</th>\n",
       "                        <td id=\"T_094a45d6_94ef_11ec_a982_02420a398d59row2_col0\" class=\"data row2 col0\" >1</td>\n",
       "                        <td id=\"T_094a45d6_94ef_11ec_a982_02420a398d59row2_col1\" class=\"data row2 col1\" >nan</td>\n",
       "                        <td id=\"T_094a45d6_94ef_11ec_a982_02420a398d59row2_col2\" class=\"data row2 col2\" >nan</td>\n",
       "                        <td id=\"T_094a45d6_94ef_11ec_a982_02420a398d59row2_col3\" class=\"data row2 col3\" >nan%</td>\n",
       "            </tr>\n",
       "    </tbody></table>"
      ],
      "text/plain": [
       "<pandas.io.formats.style.Styler at 0x7ffb0b7a7590>"
      ]
     },
     "metadata": {},
     "output_type": "display_data"
    }
   ],
   "source": [
    "#Дополнительно проверим влияние пола на финансовую дисциплину\n",
    "data_pivot_gender = df.pivot_table(index='gender', columns='debt', values='income_type', aggfunc='count')\n",
    "data_pivot_gender['total'] = data_pivot_gender[0] + data_pivot_gender[1]\n",
    "data_pivot_gender['ratio'] = data_pivot_gender[1] / data_pivot_gender['total']\n",
    "display(data_pivot_gender.sort_values(by='ratio',ascending=False).style.format({'ratio':'{:.1%}'.format}))"
   ]
  },
  {
   "cell_type": "markdown",
   "metadata": {},
   "source": [
    "**Вывод**\n",
    "Несмотря на то что среди заемщиков женщин почти в два раза больше, чем мужчин, доля просрочек среди них на 3% ниже."
   ]
  },
  {
   "cell_type": "markdown",
   "metadata": {},
   "source": [
    "## Шаг 4. Общий вывод"
   ]
  },
  {
   "cell_type": "markdown",
   "metadata": {},
   "source": [
    "**По итогам анализа можно сделать следующие выводы влияния того или иного фактора на погашения кредита в срок:**\n",
    "- холостые/незамужние, а также лица, проживающие в гражданском браке больше склонны допускать просрочки по кредитам;\n",
    "- наличие детей в семье увеличвает риск возникновения просрочки;\n",
    "- уровень дохода напрямую не влияет на уровень возврата кредита в срок;\n",
    "- наиболее рискованые кредиты выдаются на покупку автомобиля или получение образования;\n",
    "- мужчины менее организованы и чаще допускают просрочки по кредитам;\n",
    "- люди без высшего образования гораздо менее дисциплинированы в части выплат по кредитам."
   ]
  }
 ],
 "metadata": {
  "ExecuteTimeLog": [
   {
    "duration": 672,
    "start_time": "2022-01-19T19:14:53.504Z"
   },
   {
    "duration": 53,
    "start_time": "2022-01-19T19:17:41.592Z"
   },
   {
    "duration": 66,
    "start_time": "2022-01-19T19:33:19.536Z"
   },
   {
    "duration": 5,
    "start_time": "2022-01-19T19:48:36.476Z"
   },
   {
    "duration": 73,
    "start_time": "2022-01-19T19:52:13.863Z"
   },
   {
    "duration": 49,
    "start_time": "2022-01-19T19:52:32.112Z"
   },
   {
    "duration": 62,
    "start_time": "2022-01-19T19:53:29.457Z"
   },
   {
    "duration": 2,
    "start_time": "2022-01-19T19:54:03.104Z"
   },
   {
    "duration": 5,
    "start_time": "2022-01-19T19:54:09.727Z"
   },
   {
    "duration": 6,
    "start_time": "2022-01-19T19:54:50.728Z"
   },
   {
    "duration": 4,
    "start_time": "2022-01-19T19:55:35.929Z"
   },
   {
    "duration": 5,
    "start_time": "2022-01-19T19:56:11.672Z"
   },
   {
    "duration": 5,
    "start_time": "2022-01-19T19:56:40.456Z"
   },
   {
    "duration": 4,
    "start_time": "2022-01-19T19:58:39.085Z"
   },
   {
    "duration": 6,
    "start_time": "2022-01-19T19:59:07.659Z"
   },
   {
    "duration": 4,
    "start_time": "2022-01-19T19:59:34.744Z"
   },
   {
    "duration": 5,
    "start_time": "2022-01-19T20:00:11.852Z"
   },
   {
    "duration": 4,
    "start_time": "2022-01-19T20:00:37.778Z"
   },
   {
    "duration": 5,
    "start_time": "2022-01-19T20:01:02.994Z"
   },
   {
    "duration": 55,
    "start_time": "2022-01-19T20:01:58.972Z"
   },
   {
    "duration": 5089,
    "start_time": "2022-01-19T20:01:59.290Z"
   },
   {
    "duration": 4994,
    "start_time": "2022-01-19T20:02:12.667Z"
   },
   {
    "duration": 4709,
    "start_time": "2022-01-19T20:02:18.948Z"
   },
   {
    "duration": 4,
    "start_time": "2022-01-19T20:02:52.052Z"
   },
   {
    "duration": 6,
    "start_time": "2022-01-19T20:05:29.423Z"
   },
   {
    "duration": 10,
    "start_time": "2022-01-19T20:06:09.279Z"
   },
   {
    "duration": 8,
    "start_time": "2022-01-19T20:06:33.108Z"
   },
   {
    "duration": 7,
    "start_time": "2022-01-19T20:06:41.394Z"
   },
   {
    "duration": 5,
    "start_time": "2022-01-19T20:06:51.676Z"
   },
   {
    "duration": 6,
    "start_time": "2022-01-19T20:07:07.576Z"
   },
   {
    "duration": 7,
    "start_time": "2022-01-19T20:07:18.022Z"
   },
   {
    "duration": 7,
    "start_time": "2022-01-19T20:07:27.180Z"
   },
   {
    "duration": 6,
    "start_time": "2022-01-19T20:07:39.297Z"
   },
   {
    "duration": 6,
    "start_time": "2022-01-19T20:07:48.286Z"
   },
   {
    "duration": 232,
    "start_time": "2022-01-19T20:15:02.623Z"
   },
   {
    "duration": 47,
    "start_time": "2022-01-19T20:15:12.972Z"
   },
   {
    "duration": 50,
    "start_time": "2022-01-19T20:15:36.996Z"
   },
   {
    "duration": 59,
    "start_time": "2022-01-19T20:16:03.431Z"
   },
   {
    "duration": 24,
    "start_time": "2022-01-19T20:17:32.759Z"
   },
   {
    "duration": 7,
    "start_time": "2022-01-19T20:20:27.343Z"
   },
   {
    "duration": 6,
    "start_time": "2022-01-19T20:20:32.800Z"
   },
   {
    "duration": 7,
    "start_time": "2022-01-19T20:20:48.439Z"
   },
   {
    "duration": 6,
    "start_time": "2022-01-19T20:20:49.425Z"
   },
   {
    "duration": 7,
    "start_time": "2022-01-19T20:20:57.864Z"
   },
   {
    "duration": 5,
    "start_time": "2022-01-19T20:20:59.947Z"
   },
   {
    "duration": 8,
    "start_time": "2022-01-19T20:21:16.888Z"
   },
   {
    "duration": 5,
    "start_time": "2022-01-19T20:21:39.460Z"
   },
   {
    "duration": 4,
    "start_time": "2022-01-19T20:21:53.402Z"
   },
   {
    "duration": 4,
    "start_time": "2022-01-19T20:21:56.064Z"
   },
   {
    "duration": 8,
    "start_time": "2022-01-19T20:22:34.851Z"
   },
   {
    "duration": 5,
    "start_time": "2022-01-19T20:22:53.758Z"
   },
   {
    "duration": 5,
    "start_time": "2022-01-19T20:23:11.988Z"
   },
   {
    "duration": 7,
    "start_time": "2022-01-19T20:23:37.462Z"
   },
   {
    "duration": 21,
    "start_time": "2022-01-19T20:23:43.658Z"
   },
   {
    "duration": 60,
    "start_time": "2022-01-19T20:24:01.870Z"
   },
   {
    "duration": 20,
    "start_time": "2022-01-19T20:24:09.886Z"
   },
   {
    "duration": 24,
    "start_time": "2022-01-19T20:24:29.581Z"
   },
   {
    "duration": 202,
    "start_time": "2022-01-19T20:25:48.081Z"
   },
   {
    "duration": 7,
    "start_time": "2022-01-19T20:26:00.649Z"
   },
   {
    "duration": 210,
    "start_time": "2022-01-19T20:26:33.296Z"
   },
   {
    "duration": 5,
    "start_time": "2022-01-19T20:27:40.440Z"
   },
   {
    "duration": 15,
    "start_time": "2022-01-19T20:30:08.637Z"
   },
   {
    "duration": 5,
    "start_time": "2022-01-19T20:30:23.058Z"
   },
   {
    "duration": 58,
    "start_time": "2022-01-19T20:30:34.600Z"
   },
   {
    "duration": 4,
    "start_time": "2022-01-19T20:30:34.660Z"
   },
   {
    "duration": 6,
    "start_time": "2022-01-19T20:30:34.666Z"
   },
   {
    "duration": 49,
    "start_time": "2022-01-19T20:30:34.674Z"
   },
   {
    "duration": 8,
    "start_time": "2022-01-19T20:30:34.724Z"
   },
   {
    "duration": 9,
    "start_time": "2022-01-19T20:30:34.733Z"
   },
   {
    "duration": 12,
    "start_time": "2022-01-19T20:30:34.743Z"
   },
   {
    "duration": 11,
    "start_time": "2022-01-19T20:30:34.757Z"
   },
   {
    "duration": 5,
    "start_time": "2022-01-19T20:30:34.769Z"
   },
   {
    "duration": 5,
    "start_time": "2022-01-19T20:30:34.775Z"
   },
   {
    "duration": 5,
    "start_time": "2022-01-19T20:30:34.781Z"
   },
   {
    "duration": 27,
    "start_time": "2022-01-19T20:30:34.787Z"
   },
   {
    "duration": 9,
    "start_time": "2022-01-19T20:31:44.040Z"
   },
   {
    "duration": 227,
    "start_time": "2022-01-19T20:31:48.344Z"
   },
   {
    "duration": 7,
    "start_time": "2022-01-19T20:31:51.531Z"
   },
   {
    "duration": 9,
    "start_time": "2022-01-19T20:32:00.660Z"
   },
   {
    "duration": 200,
    "start_time": "2022-01-19T20:32:11.458Z"
   },
   {
    "duration": 10,
    "start_time": "2022-01-19T20:32:14.564Z"
   },
   {
    "duration": 9,
    "start_time": "2022-01-19T20:32:35.565Z"
   },
   {
    "duration": 11,
    "start_time": "2022-01-19T20:33:14.914Z"
   },
   {
    "duration": 208,
    "start_time": "2022-01-19T20:35:54.192Z"
   },
   {
    "duration": 3,
    "start_time": "2022-01-19T20:35:56.894Z"
   },
   {
    "duration": 67,
    "start_time": "2022-01-19T20:37:18.768Z"
   },
   {
    "duration": 22,
    "start_time": "2022-01-19T20:37:32.330Z"
   },
   {
    "duration": 30,
    "start_time": "2022-01-19T20:37:42.304Z"
   },
   {
    "duration": 408,
    "start_time": "2022-01-20T15:59:59.078Z"
   },
   {
    "duration": 880,
    "start_time": "2022-01-20T16:00:09.350Z"
   },
   {
    "duration": 6,
    "start_time": "2022-01-20T16:00:10.232Z"
   },
   {
    "duration": 23,
    "start_time": "2022-01-20T16:00:10.241Z"
   },
   {
    "duration": 12,
    "start_time": "2022-01-20T16:00:10.267Z"
   },
   {
    "duration": 15,
    "start_time": "2022-01-20T16:00:10.282Z"
   },
   {
    "duration": 9,
    "start_time": "2022-01-20T16:00:10.299Z"
   },
   {
    "duration": 4,
    "start_time": "2022-01-20T16:00:10.310Z"
   },
   {
    "duration": 48,
    "start_time": "2022-01-20T16:00:10.316Z"
   },
   {
    "duration": 8,
    "start_time": "2022-01-20T16:00:10.367Z"
   },
   {
    "duration": 12,
    "start_time": "2022-01-20T16:00:10.378Z"
   },
   {
    "duration": 6,
    "start_time": "2022-01-20T16:00:10.393Z"
   },
   {
    "duration": 6,
    "start_time": "2022-01-20T16:00:10.401Z"
   },
   {
    "duration": 10,
    "start_time": "2022-01-20T16:00:29.920Z"
   },
   {
    "duration": 73,
    "start_time": "2022-01-20T16:14:42.368Z"
   },
   {
    "duration": 10,
    "start_time": "2022-01-20T16:15:08.905Z"
   },
   {
    "duration": 10,
    "start_time": "2022-01-20T16:16:41.622Z"
   },
   {
    "duration": 10,
    "start_time": "2022-01-20T16:20:13.062Z"
   },
   {
    "duration": 11,
    "start_time": "2022-01-20T16:21:39.805Z"
   },
   {
    "duration": 10,
    "start_time": "2022-01-20T16:24:20.445Z"
   },
   {
    "duration": 9,
    "start_time": "2022-01-20T16:27:37.305Z"
   },
   {
    "duration": 6,
    "start_time": "2022-01-20T16:27:49.808Z"
   },
   {
    "duration": 8,
    "start_time": "2022-01-20T16:32:27.262Z"
   },
   {
    "duration": 388,
    "start_time": "2022-01-20T16:32:55.548Z"
   },
   {
    "duration": 6,
    "start_time": "2022-01-20T16:33:00.103Z"
   },
   {
    "duration": 8,
    "start_time": "2022-01-20T16:33:39.795Z"
   },
   {
    "duration": 75,
    "start_time": "2022-01-20T16:33:45.806Z"
   },
   {
    "duration": 11,
    "start_time": "2022-01-20T16:33:45.884Z"
   },
   {
    "duration": 9,
    "start_time": "2022-01-20T16:33:45.898Z"
   },
   {
    "duration": 13,
    "start_time": "2022-01-20T16:33:45.909Z"
   },
   {
    "duration": 47,
    "start_time": "2022-01-20T16:33:45.924Z"
   },
   {
    "duration": 31,
    "start_time": "2022-01-20T16:33:45.974Z"
   },
   {
    "duration": 8,
    "start_time": "2022-01-20T16:33:46.008Z"
   },
   {
    "duration": 15,
    "start_time": "2022-01-20T16:33:46.019Z"
   },
   {
    "duration": 24,
    "start_time": "2022-01-20T16:33:46.040Z"
   },
   {
    "duration": 12,
    "start_time": "2022-01-20T16:33:46.068Z"
   },
   {
    "duration": 9,
    "start_time": "2022-01-20T16:33:46.083Z"
   },
   {
    "duration": 15,
    "start_time": "2022-01-20T16:33:46.095Z"
   },
   {
    "duration": 4,
    "start_time": "2022-01-20T16:33:46.159Z"
   },
   {
    "duration": 10,
    "start_time": "2022-01-20T16:33:46.165Z"
   },
   {
    "duration": 8,
    "start_time": "2022-01-20T16:33:46.177Z"
   },
   {
    "duration": 7,
    "start_time": "2022-01-20T16:33:46.188Z"
   },
   {
    "duration": 6,
    "start_time": "2022-01-20T16:33:46.198Z"
   },
   {
    "duration": 58,
    "start_time": "2022-01-20T16:33:46.206Z"
   },
   {
    "duration": 72,
    "start_time": "2022-01-20T20:55:06.290Z"
   },
   {
    "duration": 72,
    "start_time": "2022-01-20T20:55:12.760Z"
   },
   {
    "duration": 71,
    "start_time": "2022-01-20T20:55:20.245Z"
   },
   {
    "duration": 10,
    "start_time": "2022-01-20T20:55:20.319Z"
   },
   {
    "duration": 35,
    "start_time": "2022-01-20T20:55:20.332Z"
   },
   {
    "duration": 10,
    "start_time": "2022-01-20T20:55:20.370Z"
   },
   {
    "duration": 10,
    "start_time": "2022-01-20T20:55:20.383Z"
   },
   {
    "duration": 11,
    "start_time": "2022-01-20T20:55:20.395Z"
   },
   {
    "duration": 7,
    "start_time": "2022-01-20T20:55:20.460Z"
   },
   {
    "duration": 7,
    "start_time": "2022-01-20T20:55:20.469Z"
   },
   {
    "duration": 5,
    "start_time": "2022-01-20T20:55:20.480Z"
   },
   {
    "duration": 6,
    "start_time": "2022-01-20T20:55:20.488Z"
   },
   {
    "duration": 7,
    "start_time": "2022-01-20T20:55:20.496Z"
   },
   {
    "duration": 11,
    "start_time": "2022-01-20T20:55:20.560Z"
   },
   {
    "duration": 4,
    "start_time": "2022-01-20T20:55:20.573Z"
   },
   {
    "duration": 9,
    "start_time": "2022-01-20T20:55:20.579Z"
   },
   {
    "duration": 8,
    "start_time": "2022-01-20T20:55:20.590Z"
   },
   {
    "duration": 61,
    "start_time": "2022-01-20T20:55:20.600Z"
   },
   {
    "duration": 7,
    "start_time": "2022-01-20T20:55:20.663Z"
   },
   {
    "duration": 8,
    "start_time": "2022-01-20T20:55:20.672Z"
   },
   {
    "duration": 79,
    "start_time": "2022-01-20T20:55:36.913Z"
   },
   {
    "duration": 74,
    "start_time": "2022-01-20T20:55:44.104Z"
   },
   {
    "duration": 110,
    "start_time": "2022-01-20T20:56:03.225Z"
   },
   {
    "duration": 88,
    "start_time": "2022-01-20T20:56:14.210Z"
   },
   {
    "duration": 74,
    "start_time": "2022-01-20T20:56:33.354Z"
   },
   {
    "duration": 91,
    "start_time": "2022-01-20T20:56:45.681Z"
   },
   {
    "duration": 6,
    "start_time": "2022-01-20T21:00:23.812Z"
   },
   {
    "duration": 87,
    "start_time": "2022-01-20T21:00:28.226Z"
   },
   {
    "duration": 13,
    "start_time": "2022-01-20T21:00:28.316Z"
   },
   {
    "duration": 15,
    "start_time": "2022-01-20T21:00:28.360Z"
   },
   {
    "duration": 10,
    "start_time": "2022-01-20T21:00:28.378Z"
   },
   {
    "duration": 10,
    "start_time": "2022-01-20T21:00:28.391Z"
   },
   {
    "duration": 57,
    "start_time": "2022-01-20T21:00:28.404Z"
   },
   {
    "duration": 8,
    "start_time": "2022-01-20T21:00:28.463Z"
   },
   {
    "duration": 9,
    "start_time": "2022-01-20T21:00:28.476Z"
   },
   {
    "duration": 5,
    "start_time": "2022-01-20T21:00:28.488Z"
   },
   {
    "duration": 6,
    "start_time": "2022-01-20T21:00:28.495Z"
   },
   {
    "duration": 6,
    "start_time": "2022-01-20T21:00:28.559Z"
   },
   {
    "duration": 9,
    "start_time": "2022-01-20T21:00:28.568Z"
   },
   {
    "duration": 3,
    "start_time": "2022-01-20T21:00:28.580Z"
   },
   {
    "duration": 10,
    "start_time": "2022-01-20T21:00:28.585Z"
   },
   {
    "duration": 62,
    "start_time": "2022-01-20T21:00:28.597Z"
   },
   {
    "duration": 8,
    "start_time": "2022-01-20T21:00:28.662Z"
   },
   {
    "duration": 8,
    "start_time": "2022-01-20T21:00:28.673Z"
   },
   {
    "duration": 7,
    "start_time": "2022-01-20T21:00:28.683Z"
   },
   {
    "duration": 5,
    "start_time": "2022-01-20T21:03:02.622Z"
   },
   {
    "duration": 3,
    "start_time": "2022-01-20T21:03:06.852Z"
   },
   {
    "duration": 89,
    "start_time": "2022-01-20T21:03:11.252Z"
   },
   {
    "duration": 23,
    "start_time": "2022-01-20T21:03:11.344Z"
   },
   {
    "duration": 10,
    "start_time": "2022-01-20T21:03:11.369Z"
   },
   {
    "duration": 9,
    "start_time": "2022-01-20T21:03:11.382Z"
   },
   {
    "duration": 13,
    "start_time": "2022-01-20T21:03:11.394Z"
   },
   {
    "duration": 16,
    "start_time": "2022-01-20T21:03:11.460Z"
   },
   {
    "duration": 5,
    "start_time": "2022-01-20T21:03:11.479Z"
   },
   {
    "duration": 10,
    "start_time": "2022-01-20T21:03:11.487Z"
   },
   {
    "duration": 7,
    "start_time": "2022-01-20T21:03:11.503Z"
   },
   {
    "duration": 8,
    "start_time": "2022-01-20T21:03:11.561Z"
   },
   {
    "duration": 7,
    "start_time": "2022-01-20T21:03:11.573Z"
   },
   {
    "duration": 10,
    "start_time": "2022-01-20T21:03:11.582Z"
   },
   {
    "duration": 3,
    "start_time": "2022-01-20T21:03:11.595Z"
   },
   {
    "duration": 61,
    "start_time": "2022-01-20T21:03:11.600Z"
   },
   {
    "duration": 9,
    "start_time": "2022-01-20T21:03:11.664Z"
   },
   {
    "duration": 9,
    "start_time": "2022-01-20T21:03:11.675Z"
   },
   {
    "duration": 7,
    "start_time": "2022-01-20T21:03:11.686Z"
   },
   {
    "duration": 6,
    "start_time": "2022-01-20T21:03:11.696Z"
   },
   {
    "duration": 898,
    "start_time": "2022-01-21T08:11:46.617Z"
   },
   {
    "duration": 17,
    "start_time": "2022-01-21T08:11:47.517Z"
   },
   {
    "duration": 9,
    "start_time": "2022-01-21T08:11:47.537Z"
   },
   {
    "duration": 13,
    "start_time": "2022-01-21T08:11:47.548Z"
   },
   {
    "duration": 12,
    "start_time": "2022-01-21T08:11:47.563Z"
   },
   {
    "duration": 57,
    "start_time": "2022-01-21T08:11:47.577Z"
   },
   {
    "duration": 11,
    "start_time": "2022-01-21T08:11:47.636Z"
   },
   {
    "duration": 332,
    "start_time": "2022-01-21T08:11:47.651Z"
   },
   {
    "duration": -71,
    "start_time": "2022-01-21T08:11:48.056Z"
   },
   {
    "duration": -80,
    "start_time": "2022-01-21T08:11:48.067Z"
   },
   {
    "duration": -97,
    "start_time": "2022-01-21T08:11:48.086Z"
   },
   {
    "duration": -103,
    "start_time": "2022-01-21T08:11:48.093Z"
   },
   {
    "duration": -111,
    "start_time": "2022-01-21T08:11:48.103Z"
   },
   {
    "duration": -117,
    "start_time": "2022-01-21T08:11:48.110Z"
   },
   {
    "duration": -127,
    "start_time": "2022-01-21T08:11:48.122Z"
   },
   {
    "duration": -138,
    "start_time": "2022-01-21T08:11:48.135Z"
   },
   {
    "duration": -151,
    "start_time": "2022-01-21T08:11:48.149Z"
   },
   {
    "duration": -162,
    "start_time": "2022-01-21T08:11:48.161Z"
   },
   {
    "duration": -170,
    "start_time": "2022-01-21T08:11:48.171Z"
   },
   {
    "duration": 72,
    "start_time": "2022-01-21T08:12:09.044Z"
   },
   {
    "duration": 71,
    "start_time": "2022-01-21T08:12:16.183Z"
   },
   {
    "duration": 74,
    "start_time": "2022-01-21T08:12:25.536Z"
   },
   {
    "duration": 12,
    "start_time": "2022-01-21T08:42:20.012Z"
   },
   {
    "duration": 9,
    "start_time": "2022-01-21T08:42:33.039Z"
   },
   {
    "duration": 13,
    "start_time": "2022-01-21T08:44:54.627Z"
   },
   {
    "duration": 651,
    "start_time": "2022-01-21T08:46:36.824Z"
   },
   {
    "duration": -86,
    "start_time": "2022-01-21T08:46:37.563Z"
   },
   {
    "duration": 7,
    "start_time": "2022-01-21T08:46:48.083Z"
   },
   {
    "duration": 6,
    "start_time": "2022-01-21T08:46:58.569Z"
   },
   {
    "duration": 37,
    "start_time": "2022-01-21T08:48:45.619Z"
   },
   {
    "duration": 7,
    "start_time": "2022-01-21T08:49:11.188Z"
   },
   {
    "duration": 10,
    "start_time": "2022-01-21T08:49:47.018Z"
   },
   {
    "duration": 6,
    "start_time": "2022-01-21T08:50:22.201Z"
   },
   {
    "duration": 149,
    "start_time": "2022-01-21T08:50:47.166Z"
   },
   {
    "duration": 8,
    "start_time": "2022-01-21T08:50:54.876Z"
   },
   {
    "duration": 7,
    "start_time": "2022-01-21T08:51:35.550Z"
   },
   {
    "duration": 6,
    "start_time": "2022-01-21T08:53:54.620Z"
   },
   {
    "duration": 9,
    "start_time": "2022-01-21T08:54:14.003Z"
   },
   {
    "duration": 6,
    "start_time": "2022-01-21T08:54:31.490Z"
   },
   {
    "duration": 7,
    "start_time": "2022-01-21T08:56:51.586Z"
   },
   {
    "duration": 6,
    "start_time": "2022-01-21T08:56:59.199Z"
   },
   {
    "duration": 8,
    "start_time": "2022-01-21T08:57:07.262Z"
   },
   {
    "duration": 36,
    "start_time": "2022-01-21T08:58:07.831Z"
   },
   {
    "duration": 10,
    "start_time": "2022-01-21T08:58:32.249Z"
   },
   {
    "duration": 7,
    "start_time": "2022-01-21T09:09:53.422Z"
   },
   {
    "duration": 7,
    "start_time": "2022-01-21T09:09:59.769Z"
   },
   {
    "duration": 9,
    "start_time": "2022-01-21T09:11:03.342Z"
   },
   {
    "duration": 9,
    "start_time": "2022-01-21T09:11:26.191Z"
   },
   {
    "duration": 129,
    "start_time": "2022-01-21T09:12:19.993Z"
   },
   {
    "duration": 7,
    "start_time": "2022-01-21T09:12:28.166Z"
   },
   {
    "duration": 26,
    "start_time": "2022-01-21T09:13:17.113Z"
   },
   {
    "duration": 8,
    "start_time": "2022-01-21T09:14:03.976Z"
   },
   {
    "duration": 8,
    "start_time": "2022-01-21T09:15:15.523Z"
   },
   {
    "duration": 6,
    "start_time": "2022-01-21T09:15:51.433Z"
   },
   {
    "duration": 7,
    "start_time": "2022-01-21T09:16:23.842Z"
   },
   {
    "duration": 7,
    "start_time": "2022-01-21T09:16:32.401Z"
   },
   {
    "duration": 6,
    "start_time": "2022-01-21T09:17:00.638Z"
   },
   {
    "duration": 8,
    "start_time": "2022-01-21T09:17:14.335Z"
   },
   {
    "duration": 89,
    "start_time": "2022-01-21T09:21:06.284Z"
   },
   {
    "duration": 173,
    "start_time": "2022-01-21T09:21:18.243Z"
   },
   {
    "duration": 98,
    "start_time": "2022-01-21T09:21:26.374Z"
   },
   {
    "duration": 91,
    "start_time": "2022-01-21T09:21:59.708Z"
   },
   {
    "duration": 128,
    "start_time": "2022-01-21T09:22:09.970Z"
   },
   {
    "duration": 102,
    "start_time": "2022-01-21T09:22:18.344Z"
   },
   {
    "duration": 183,
    "start_time": "2022-01-21T09:22:26.384Z"
   },
   {
    "duration": 90,
    "start_time": "2022-01-21T09:22:33.117Z"
   },
   {
    "duration": 132,
    "start_time": "2022-01-21T09:22:43.089Z"
   },
   {
    "duration": 133,
    "start_time": "2022-01-21T09:24:02.034Z"
   },
   {
    "duration": 93,
    "start_time": "2022-01-21T09:24:44.596Z"
   },
   {
    "duration": 5,
    "start_time": "2022-01-21T09:24:53.671Z"
   },
   {
    "duration": 6,
    "start_time": "2022-01-21T09:27:14.212Z"
   },
   {
    "duration": 5,
    "start_time": "2022-01-21T09:27:25.691Z"
   },
   {
    "duration": 6,
    "start_time": "2022-01-21T09:27:55.406Z"
   },
   {
    "duration": 8,
    "start_time": "2022-01-21T09:28:36.676Z"
   },
   {
    "duration": 8,
    "start_time": "2022-01-21T09:32:05.038Z"
   },
   {
    "duration": 8,
    "start_time": "2022-01-21T09:32:37.403Z"
   },
   {
    "duration": 8,
    "start_time": "2022-01-21T09:33:10.206Z"
   },
   {
    "duration": 245,
    "start_time": "2022-01-21T09:33:28.343Z"
   },
   {
    "duration": 8,
    "start_time": "2022-01-21T09:33:37.040Z"
   },
   {
    "duration": 8,
    "start_time": "2022-01-21T09:37:27.295Z"
   },
   {
    "duration": 7,
    "start_time": "2022-01-21T09:37:38.485Z"
   },
   {
    "duration": 9,
    "start_time": "2022-01-21T09:38:08.949Z"
   },
   {
    "duration": 8,
    "start_time": "2022-01-21T09:38:26.903Z"
   },
   {
    "duration": 6,
    "start_time": "2022-01-21T09:40:53.841Z"
   },
   {
    "duration": 39,
    "start_time": "2022-01-21T09:43:15.889Z"
   },
   {
    "duration": 37,
    "start_time": "2022-01-21T09:43:35.320Z"
   },
   {
    "duration": 8,
    "start_time": "2022-01-21T09:45:02.082Z"
   },
   {
    "duration": 5,
    "start_time": "2022-01-21T09:45:51.333Z"
   },
   {
    "duration": 7,
    "start_time": "2022-01-21T09:46:42.617Z"
   },
   {
    "duration": 81,
    "start_time": "2022-01-21T09:50:15.621Z"
   },
   {
    "duration": 82,
    "start_time": "2022-01-21T09:50:23.365Z"
   },
   {
    "duration": 78,
    "start_time": "2022-01-21T09:50:42.687Z"
   },
   {
    "duration": 93,
    "start_time": "2022-01-21T09:51:28.490Z"
   },
   {
    "duration": 7,
    "start_time": "2022-01-21T09:53:22.234Z"
   },
   {
    "duration": 3,
    "start_time": "2022-01-21T09:53:45.533Z"
   },
   {
    "duration": 86,
    "start_time": "2022-01-21T09:53:52.095Z"
   },
   {
    "duration": 17,
    "start_time": "2022-01-21T09:54:35.471Z"
   },
   {
    "duration": 21,
    "start_time": "2022-01-21T09:56:08.109Z"
   },
   {
    "duration": 20,
    "start_time": "2022-01-21T09:56:32.827Z"
   },
   {
    "duration": 34,
    "start_time": "2022-01-21T09:56:50.328Z"
   },
   {
    "duration": 20,
    "start_time": "2022-01-21T09:58:15.467Z"
   },
   {
    "duration": 7684,
    "start_time": "2022-01-21T10:01:36.821Z"
   },
   {
    "duration": 6833,
    "start_time": "2022-01-21T10:02:00.344Z"
   },
   {
    "duration": 248,
    "start_time": "2022-01-21T10:02:24.814Z"
   },
   {
    "duration": 7,
    "start_time": "2022-01-21T10:02:40.960Z"
   },
   {
    "duration": 9,
    "start_time": "2022-01-21T10:04:48.675Z"
   },
   {
    "duration": 10,
    "start_time": "2022-01-21T10:06:06.665Z"
   },
   {
    "duration": 264,
    "start_time": "2022-01-21T10:07:12.452Z"
   },
   {
    "duration": 10,
    "start_time": "2022-01-21T10:11:01.267Z"
   },
   {
    "duration": 8,
    "start_time": "2022-01-21T10:11:11.988Z"
   },
   {
    "duration": 8,
    "start_time": "2022-01-21T10:11:48.870Z"
   },
   {
    "duration": 10,
    "start_time": "2022-01-21T10:12:00.899Z"
   },
   {
    "duration": 9,
    "start_time": "2022-01-21T10:18:13.615Z"
   },
   {
    "duration": 9,
    "start_time": "2022-01-21T10:18:26.380Z"
   },
   {
    "duration": 1121,
    "start_time": "2022-01-23T18:24:55.965Z"
   },
   {
    "duration": 15,
    "start_time": "2022-01-23T18:24:57.088Z"
   },
   {
    "duration": 22,
    "start_time": "2022-01-23T18:24:57.106Z"
   },
   {
    "duration": 11,
    "start_time": "2022-01-23T18:24:57.131Z"
   },
   {
    "duration": 11,
    "start_time": "2022-01-23T18:24:57.144Z"
   },
   {
    "duration": 10,
    "start_time": "2022-01-23T18:24:57.158Z"
   },
   {
    "duration": 57,
    "start_time": "2022-01-23T18:24:57.171Z"
   },
   {
    "duration": 17,
    "start_time": "2022-01-23T18:24:57.230Z"
   },
   {
    "duration": 19,
    "start_time": "2022-01-23T18:24:57.251Z"
   },
   {
    "duration": 10,
    "start_time": "2022-01-23T18:24:57.273Z"
   },
   {
    "duration": 47,
    "start_time": "2022-01-23T18:24:57.285Z"
   },
   {
    "duration": 16,
    "start_time": "2022-01-23T18:24:57.336Z"
   },
   {
    "duration": 4,
    "start_time": "2022-01-23T18:24:57.355Z"
   },
   {
    "duration": 11,
    "start_time": "2022-01-23T18:24:57.362Z"
   },
   {
    "duration": 50,
    "start_time": "2022-01-23T18:24:57.375Z"
   },
   {
    "duration": 11,
    "start_time": "2022-01-23T18:24:57.427Z"
   },
   {
    "duration": 8,
    "start_time": "2022-01-23T18:24:57.441Z"
   },
   {
    "duration": 6,
    "start_time": "2022-01-23T18:24:57.452Z"
   },
   {
    "duration": 8,
    "start_time": "2022-01-23T18:25:14.817Z"
   },
   {
    "duration": 94,
    "start_time": "2022-01-23T18:25:39.097Z"
   },
   {
    "duration": 1524,
    "start_time": "2022-01-23T18:25:49.172Z"
   },
   {
    "duration": 14,
    "start_time": "2022-01-23T18:25:50.699Z"
   },
   {
    "duration": 14,
    "start_time": "2022-01-23T18:25:50.717Z"
   },
   {
    "duration": 14,
    "start_time": "2022-01-23T18:25:50.736Z"
   },
   {
    "duration": 10,
    "start_time": "2022-01-23T18:25:50.753Z"
   },
   {
    "duration": 12,
    "start_time": "2022-01-23T18:25:50.766Z"
   },
   {
    "duration": 13,
    "start_time": "2022-01-23T18:25:50.824Z"
   },
   {
    "duration": 10,
    "start_time": "2022-01-23T18:25:50.839Z"
   },
   {
    "duration": 18,
    "start_time": "2022-01-23T18:25:50.854Z"
   },
   {
    "duration": 51,
    "start_time": "2022-01-23T18:25:50.874Z"
   },
   {
    "duration": 99,
    "start_time": "2022-01-23T18:25:50.927Z"
   },
   {
    "duration": -39,
    "start_time": "2022-01-23T18:25:51.067Z"
   },
   {
    "duration": -41,
    "start_time": "2022-01-23T18:25:51.071Z"
   },
   {
    "duration": -60,
    "start_time": "2022-01-23T18:25:51.091Z"
   },
   {
    "duration": -64,
    "start_time": "2022-01-23T18:25:51.096Z"
   },
   {
    "duration": -65,
    "start_time": "2022-01-23T18:25:51.099Z"
   },
   {
    "duration": -67,
    "start_time": "2022-01-23T18:25:51.102Z"
   },
   {
    "duration": -68,
    "start_time": "2022-01-23T18:25:51.105Z"
   },
   {
    "duration": 6,
    "start_time": "2022-01-23T18:26:09.907Z"
   },
   {
    "duration": 6,
    "start_time": "2022-01-23T18:26:25.054Z"
   },
   {
    "duration": 6,
    "start_time": "2022-01-23T18:30:46.167Z"
   },
   {
    "duration": 5,
    "start_time": "2022-01-23T19:15:08.042Z"
   },
   {
    "duration": 95,
    "start_time": "2022-01-23T19:15:31.559Z"
   },
   {
    "duration": 4,
    "start_time": "2022-01-23T19:15:54.587Z"
   },
   {
    "duration": 6,
    "start_time": "2022-01-23T19:16:42.864Z"
   },
   {
    "duration": 81,
    "start_time": "2022-01-23T19:32:02.342Z"
   },
   {
    "duration": 17,
    "start_time": "2022-01-23T19:32:02.426Z"
   },
   {
    "duration": 14,
    "start_time": "2022-01-23T19:32:02.446Z"
   },
   {
    "duration": 9,
    "start_time": "2022-01-23T19:32:02.464Z"
   },
   {
    "duration": 51,
    "start_time": "2022-01-23T19:32:02.477Z"
   },
   {
    "duration": 21,
    "start_time": "2022-01-23T19:32:02.531Z"
   },
   {
    "duration": 18,
    "start_time": "2022-01-23T19:32:02.554Z"
   },
   {
    "duration": 18,
    "start_time": "2022-01-23T19:32:02.575Z"
   },
   {
    "duration": 43,
    "start_time": "2022-01-23T19:32:02.596Z"
   },
   {
    "duration": 12,
    "start_time": "2022-01-23T19:32:02.643Z"
   },
   {
    "duration": 7,
    "start_time": "2022-01-23T19:32:02.657Z"
   },
   {
    "duration": 2,
    "start_time": "2022-01-23T19:32:11.591Z"
   },
   {
    "duration": 9014,
    "start_time": "2022-01-23T19:32:11.596Z"
   },
   {
    "duration": 8871,
    "start_time": "2022-01-23T19:33:09.641Z"
   },
   {
    "duration": 77,
    "start_time": "2022-01-23T19:33:18.515Z"
   },
   {
    "duration": 38,
    "start_time": "2022-01-23T19:33:18.595Z"
   },
   {
    "duration": 13,
    "start_time": "2022-01-23T19:33:18.636Z"
   },
   {
    "duration": 12,
    "start_time": "2022-01-23T19:33:18.651Z"
   },
   {
    "duration": 9,
    "start_time": "2022-01-23T19:33:18.667Z"
   },
   {
    "duration": 46,
    "start_time": "2022-01-23T19:33:18.679Z"
   },
   {
    "duration": 16,
    "start_time": "2022-01-23T19:33:18.728Z"
   },
   {
    "duration": 14,
    "start_time": "2022-01-23T19:33:18.747Z"
   },
   {
    "duration": 19,
    "start_time": "2022-01-23T19:33:18.764Z"
   },
   {
    "duration": 10,
    "start_time": "2022-01-23T19:33:18.824Z"
   },
   {
    "duration": 6,
    "start_time": "2022-01-23T19:33:18.837Z"
   },
   {
    "duration": 407,
    "start_time": "2022-01-23T19:33:50.960Z"
   },
   {
    "duration": 10069,
    "start_time": "2022-01-23T19:34:28.404Z"
   },
   {
    "duration": 77,
    "start_time": "2022-01-23T19:34:38.476Z"
   },
   {
    "duration": 17,
    "start_time": "2022-01-23T19:34:38.556Z"
   },
   {
    "duration": 20,
    "start_time": "2022-01-23T19:34:38.576Z"
   },
   {
    "duration": 30,
    "start_time": "2022-01-23T19:34:38.598Z"
   },
   {
    "duration": 15,
    "start_time": "2022-01-23T19:34:38.632Z"
   },
   {
    "duration": 17,
    "start_time": "2022-01-23T19:34:38.650Z"
   },
   {
    "duration": 15,
    "start_time": "2022-01-23T19:34:38.670Z"
   },
   {
    "duration": 24,
    "start_time": "2022-01-23T19:34:38.723Z"
   },
   {
    "duration": 20,
    "start_time": "2022-01-23T19:34:38.750Z"
   },
   {
    "duration": 11,
    "start_time": "2022-01-23T19:34:38.773Z"
   },
   {
    "duration": 40,
    "start_time": "2022-01-23T19:34:38.787Z"
   },
   {
    "duration": 907,
    "start_time": "2022-01-23T19:36:24.268Z"
   },
   {
    "duration": 16,
    "start_time": "2022-01-23T19:36:25.178Z"
   },
   {
    "duration": 30,
    "start_time": "2022-01-23T19:36:25.197Z"
   },
   {
    "duration": 14,
    "start_time": "2022-01-23T19:36:25.229Z"
   },
   {
    "duration": 16,
    "start_time": "2022-01-23T19:36:25.245Z"
   },
   {
    "duration": 14,
    "start_time": "2022-01-23T19:36:25.266Z"
   },
   {
    "duration": 53,
    "start_time": "2022-01-23T19:36:25.284Z"
   },
   {
    "duration": 13,
    "start_time": "2022-01-23T19:36:25.340Z"
   },
   {
    "duration": 29,
    "start_time": "2022-01-23T19:36:25.356Z"
   },
   {
    "duration": 45,
    "start_time": "2022-01-23T19:36:25.388Z"
   },
   {
    "duration": 7,
    "start_time": "2022-01-23T19:36:25.436Z"
   },
   {
    "duration": 1138,
    "start_time": "2022-01-23T19:36:33.191Z"
   },
   {
    "duration": 24,
    "start_time": "2022-01-23T19:36:34.337Z"
   },
   {
    "duration": 13,
    "start_time": "2022-01-23T19:36:34.365Z"
   },
   {
    "duration": 46,
    "start_time": "2022-01-23T19:36:34.381Z"
   },
   {
    "duration": 16,
    "start_time": "2022-01-23T19:36:34.430Z"
   },
   {
    "duration": 16,
    "start_time": "2022-01-23T19:36:34.449Z"
   },
   {
    "duration": 19,
    "start_time": "2022-01-23T19:36:34.468Z"
   },
   {
    "duration": 17,
    "start_time": "2022-01-23T19:36:34.525Z"
   },
   {
    "duration": 28,
    "start_time": "2022-01-23T19:36:34.545Z"
   },
   {
    "duration": 48,
    "start_time": "2022-01-23T19:36:34.576Z"
   },
   {
    "duration": 8,
    "start_time": "2022-01-23T19:36:34.628Z"
   },
   {
    "duration": 3,
    "start_time": "2022-01-23T19:36:43.627Z"
   },
   {
    "duration": 8967,
    "start_time": "2022-01-23T19:36:43.634Z"
   },
   {
    "duration": 10,
    "start_time": "2022-01-23T19:39:31.480Z"
   },
   {
    "duration": 3,
    "start_time": "2022-01-23T19:40:30.969Z"
   },
   {
    "duration": 9073,
    "start_time": "2022-01-23T19:40:30.975Z"
   },
   {
    "duration": 77,
    "start_time": "2022-01-23T19:40:40.051Z"
   },
   {
    "duration": 14,
    "start_time": "2022-01-23T19:40:40.131Z"
   },
   {
    "duration": 12,
    "start_time": "2022-01-23T19:40:40.148Z"
   },
   {
    "duration": 14,
    "start_time": "2022-01-23T19:40:40.162Z"
   },
   {
    "duration": 46,
    "start_time": "2022-01-23T19:40:40.179Z"
   },
   {
    "duration": 13,
    "start_time": "2022-01-23T19:40:40.228Z"
   },
   {
    "duration": 13,
    "start_time": "2022-01-23T19:40:40.246Z"
   },
   {
    "duration": 16,
    "start_time": "2022-01-23T19:40:40.263Z"
   },
   {
    "duration": 51,
    "start_time": "2022-01-23T19:40:40.282Z"
   },
   {
    "duration": 9,
    "start_time": "2022-01-23T19:40:40.336Z"
   },
   {
    "duration": 13,
    "start_time": "2022-01-23T19:40:40.348Z"
   },
   {
    "duration": 828,
    "start_time": "2022-01-23T19:40:48.426Z"
   },
   {
    "duration": 21,
    "start_time": "2022-01-23T19:40:49.258Z"
   },
   {
    "duration": 13,
    "start_time": "2022-01-23T19:40:49.284Z"
   },
   {
    "duration": 37,
    "start_time": "2022-01-23T19:40:49.300Z"
   },
   {
    "duration": 26,
    "start_time": "2022-01-23T19:40:49.341Z"
   },
   {
    "duration": 10,
    "start_time": "2022-01-23T19:40:49.369Z"
   },
   {
    "duration": 10,
    "start_time": "2022-01-23T19:40:49.382Z"
   },
   {
    "duration": 36,
    "start_time": "2022-01-23T19:40:49.396Z"
   },
   {
    "duration": 28,
    "start_time": "2022-01-23T19:40:49.436Z"
   },
   {
    "duration": 8,
    "start_time": "2022-01-23T19:40:49.467Z"
   },
   {
    "duration": 8,
    "start_time": "2022-01-23T19:40:49.527Z"
   },
   {
    "duration": 9594,
    "start_time": "2022-01-23T19:40:49.538Z"
   },
   {
    "duration": 4,
    "start_time": "2022-01-23T19:40:59.134Z"
   },
   {
    "duration": 10274,
    "start_time": "2022-01-23T19:41:29.590Z"
   },
   {
    "duration": 9104,
    "start_time": "2022-01-23T19:41:44.886Z"
   },
   {
    "duration": 9361,
    "start_time": "2022-01-23T19:42:05.534Z"
   },
   {
    "duration": 74,
    "start_time": "2022-01-23T19:42:14.898Z"
   },
   {
    "duration": 13,
    "start_time": "2022-01-23T19:42:14.975Z"
   },
   {
    "duration": 10,
    "start_time": "2022-01-23T19:42:14.991Z"
   },
   {
    "duration": 14,
    "start_time": "2022-01-23T19:42:15.024Z"
   },
   {
    "duration": 10,
    "start_time": "2022-01-23T19:42:15.041Z"
   },
   {
    "duration": 9,
    "start_time": "2022-01-23T19:42:15.054Z"
   },
   {
    "duration": 16,
    "start_time": "2022-01-23T19:42:15.067Z"
   },
   {
    "duration": 48,
    "start_time": "2022-01-23T19:42:15.085Z"
   },
   {
    "duration": 19,
    "start_time": "2022-01-23T19:42:15.136Z"
   },
   {
    "duration": 8,
    "start_time": "2022-01-23T19:42:15.158Z"
   },
   {
    "duration": 8,
    "start_time": "2022-01-23T19:42:15.169Z"
   },
   {
    "duration": 11,
    "start_time": "2022-01-23T19:43:22.446Z"
   },
   {
    "duration": 11,
    "start_time": "2022-01-23T19:44:08.782Z"
   },
   {
    "duration": 11,
    "start_time": "2022-01-23T19:45:19.327Z"
   },
   {
    "duration": 10,
    "start_time": "2022-01-23T19:45:43.535Z"
   },
   {
    "duration": 9,
    "start_time": "2022-01-23T19:54:27.648Z"
   },
   {
    "duration": 354,
    "start_time": "2022-01-23T19:54:41.189Z"
   },
   {
    "duration": 10,
    "start_time": "2022-01-23T19:54:46.172Z"
   },
   {
    "duration": 8,
    "start_time": "2022-01-23T19:54:54.663Z"
   },
   {
    "duration": 8,
    "start_time": "2022-01-23T19:55:02.631Z"
   },
   {
    "duration": 11,
    "start_time": "2022-01-23T19:55:35.119Z"
   },
   {
    "duration": 47,
    "start_time": "2022-01-23T19:58:20.536Z"
   },
   {
    "duration": 5,
    "start_time": "2022-01-23T20:01:47.789Z"
   },
   {
    "duration": 7,
    "start_time": "2022-01-23T20:02:50.428Z"
   },
   {
    "duration": 91,
    "start_time": "2022-01-23T20:03:21.621Z"
   },
   {
    "duration": 4,
    "start_time": "2022-01-23T20:03:27.905Z"
   },
   {
    "duration": 10,
    "start_time": "2022-01-23T20:06:17.967Z"
   },
   {
    "duration": 9,
    "start_time": "2022-01-23T20:06:26.708Z"
   },
   {
    "duration": 9,
    "start_time": "2022-01-23T20:06:31.852Z"
   },
   {
    "duration": 16,
    "start_time": "2022-01-23T20:06:47.204Z"
   },
   {
    "duration": 799,
    "start_time": "2022-01-23T20:06:57.328Z"
   },
   {
    "duration": 14,
    "start_time": "2022-01-23T20:06:58.129Z"
   },
   {
    "duration": 9,
    "start_time": "2022-01-23T20:06:58.146Z"
   },
   {
    "duration": 17,
    "start_time": "2022-01-23T20:06:58.158Z"
   },
   {
    "duration": 12,
    "start_time": "2022-01-23T20:06:58.177Z"
   },
   {
    "duration": 38,
    "start_time": "2022-01-23T20:06:58.192Z"
   },
   {
    "duration": 17,
    "start_time": "2022-01-23T20:06:58.232Z"
   },
   {
    "duration": 14,
    "start_time": "2022-01-23T20:06:58.253Z"
   },
   {
    "duration": 20,
    "start_time": "2022-01-23T20:06:58.269Z"
   },
   {
    "duration": 39,
    "start_time": "2022-01-23T20:06:58.291Z"
   },
   {
    "duration": 8,
    "start_time": "2022-01-23T20:06:58.334Z"
   },
   {
    "duration": 10,
    "start_time": "2022-01-23T20:06:58.345Z"
   },
   {
    "duration": 12,
    "start_time": "2022-01-23T20:06:58.358Z"
   },
   {
    "duration": 54,
    "start_time": "2022-01-23T20:06:58.373Z"
   },
   {
    "duration": 6,
    "start_time": "2022-01-23T20:07:24.475Z"
   },
   {
    "duration": 758,
    "start_time": "2022-01-23T20:07:33.333Z"
   },
   {
    "duration": 15,
    "start_time": "2022-01-23T20:07:34.093Z"
   },
   {
    "duration": 17,
    "start_time": "2022-01-23T20:07:34.111Z"
   },
   {
    "duration": 9,
    "start_time": "2022-01-23T20:07:34.130Z"
   },
   {
    "duration": 9,
    "start_time": "2022-01-23T20:07:34.141Z"
   },
   {
    "duration": 9,
    "start_time": "2022-01-23T20:07:34.152Z"
   },
   {
    "duration": 15,
    "start_time": "2022-01-23T20:07:34.163Z"
   },
   {
    "duration": 50,
    "start_time": "2022-01-23T20:07:34.180Z"
   },
   {
    "duration": 19,
    "start_time": "2022-01-23T20:07:34.233Z"
   },
   {
    "duration": 9,
    "start_time": "2022-01-23T20:07:34.254Z"
   },
   {
    "duration": 7,
    "start_time": "2022-01-23T20:07:34.265Z"
   },
   {
    "duration": 56,
    "start_time": "2022-01-23T20:07:34.274Z"
   },
   {
    "duration": 8,
    "start_time": "2022-01-23T20:07:34.332Z"
   },
   {
    "duration": 8,
    "start_time": "2022-01-23T20:07:34.343Z"
   },
   {
    "duration": 5,
    "start_time": "2022-01-23T20:08:15.518Z"
   },
   {
    "duration": 3914,
    "start_time": "2022-01-23T20:08:19.118Z"
   },
   {
    "duration": 77,
    "start_time": "2022-01-23T20:08:31.767Z"
   },
   {
    "duration": 18,
    "start_time": "2022-01-23T20:08:31.846Z"
   },
   {
    "duration": 10,
    "start_time": "2022-01-23T20:08:31.867Z"
   },
   {
    "duration": 45,
    "start_time": "2022-01-23T20:08:31.881Z"
   },
   {
    "duration": 12,
    "start_time": "2022-01-23T20:08:31.929Z"
   },
   {
    "duration": 12,
    "start_time": "2022-01-23T20:08:31.944Z"
   },
   {
    "duration": 12,
    "start_time": "2022-01-23T20:08:31.959Z"
   },
   {
    "duration": 55,
    "start_time": "2022-01-23T20:08:31.973Z"
   },
   {
    "duration": 22,
    "start_time": "2022-01-23T20:08:32.033Z"
   },
   {
    "duration": 9,
    "start_time": "2022-01-23T20:08:32.058Z"
   },
   {
    "duration": 7,
    "start_time": "2022-01-23T20:08:32.072Z"
   },
   {
    "duration": 51,
    "start_time": "2022-01-23T20:08:32.081Z"
   },
   {
    "duration": 7,
    "start_time": "2022-01-23T20:08:32.134Z"
   },
   {
    "duration": 923,
    "start_time": "2022-01-23T20:08:41.781Z"
   },
   {
    "duration": 16,
    "start_time": "2022-01-23T20:08:42.708Z"
   },
   {
    "duration": 10,
    "start_time": "2022-01-23T20:08:42.727Z"
   },
   {
    "duration": 12,
    "start_time": "2022-01-23T20:08:42.740Z"
   },
   {
    "duration": 20,
    "start_time": "2022-01-23T20:08:42.755Z"
   },
   {
    "duration": 16,
    "start_time": "2022-01-23T20:08:42.777Z"
   },
   {
    "duration": 10,
    "start_time": "2022-01-23T20:08:42.824Z"
   },
   {
    "duration": 14,
    "start_time": "2022-01-23T20:08:42.836Z"
   },
   {
    "duration": 19,
    "start_time": "2022-01-23T20:08:42.853Z"
   },
   {
    "duration": 9,
    "start_time": "2022-01-23T20:08:42.874Z"
   },
   {
    "duration": 7,
    "start_time": "2022-01-23T20:08:42.925Z"
   },
   {
    "duration": 15,
    "start_time": "2022-01-23T20:08:42.935Z"
   },
   {
    "duration": 5,
    "start_time": "2022-01-23T20:08:42.953Z"
   },
   {
    "duration": 4225,
    "start_time": "2022-01-23T20:08:42.961Z"
   },
   {
    "duration": 71,
    "start_time": "2022-01-23T20:12:01.236Z"
   },
   {
    "duration": 18,
    "start_time": "2022-01-23T20:12:01.310Z"
   },
   {
    "duration": 8,
    "start_time": "2022-01-23T20:12:01.331Z"
   },
   {
    "duration": 15,
    "start_time": "2022-01-23T20:12:01.342Z"
   },
   {
    "duration": 11,
    "start_time": "2022-01-23T20:12:01.359Z"
   },
   {
    "duration": 14,
    "start_time": "2022-01-23T20:12:01.372Z"
   },
   {
    "duration": 45,
    "start_time": "2022-01-23T20:12:01.390Z"
   },
   {
    "duration": 15,
    "start_time": "2022-01-23T20:12:01.438Z"
   },
   {
    "duration": 19,
    "start_time": "2022-01-23T20:12:01.459Z"
   },
   {
    "duration": 42,
    "start_time": "2022-01-23T20:12:01.481Z"
   },
   {
    "duration": 7,
    "start_time": "2022-01-23T20:12:01.525Z"
   },
   {
    "duration": 16,
    "start_time": "2022-01-23T20:12:01.534Z"
   },
   {
    "duration": 8,
    "start_time": "2022-01-23T20:12:07.896Z"
   },
   {
    "duration": 929,
    "start_time": "2022-01-23T20:12:29.203Z"
   },
   {
    "duration": 16,
    "start_time": "2022-01-23T20:12:30.134Z"
   },
   {
    "duration": 25,
    "start_time": "2022-01-23T20:12:30.156Z"
   },
   {
    "duration": 17,
    "start_time": "2022-01-23T20:12:30.183Z"
   },
   {
    "duration": 26,
    "start_time": "2022-01-23T20:12:30.203Z"
   },
   {
    "duration": 16,
    "start_time": "2022-01-23T20:12:30.232Z"
   },
   {
    "duration": 23,
    "start_time": "2022-01-23T20:12:30.252Z"
   },
   {
    "duration": 28,
    "start_time": "2022-01-23T20:12:30.278Z"
   },
   {
    "duration": 29,
    "start_time": "2022-01-23T20:12:30.309Z"
   },
   {
    "duration": 9,
    "start_time": "2022-01-23T20:12:30.340Z"
   },
   {
    "duration": 24,
    "start_time": "2022-01-23T20:12:30.351Z"
   },
   {
    "duration": 25,
    "start_time": "2022-01-23T20:12:30.378Z"
   },
   {
    "duration": 23,
    "start_time": "2022-01-23T20:12:30.406Z"
   },
   {
    "duration": 25,
    "start_time": "2022-01-23T20:12:30.431Z"
   },
   {
    "duration": 6,
    "start_time": "2022-01-23T20:13:14.681Z"
   },
   {
    "duration": 10,
    "start_time": "2022-01-23T20:13:59.490Z"
   },
   {
    "duration": 827,
    "start_time": "2022-01-23T20:14:09.399Z"
   },
   {
    "duration": 14,
    "start_time": "2022-01-23T20:14:10.229Z"
   },
   {
    "duration": 9,
    "start_time": "2022-01-23T20:14:10.246Z"
   },
   {
    "duration": 8,
    "start_time": "2022-01-23T20:14:10.259Z"
   },
   {
    "duration": 9,
    "start_time": "2022-01-23T20:14:10.270Z"
   },
   {
    "duration": 45,
    "start_time": "2022-01-23T20:14:10.281Z"
   },
   {
    "duration": 15,
    "start_time": "2022-01-23T20:14:10.329Z"
   },
   {
    "duration": 11,
    "start_time": "2022-01-23T20:14:10.346Z"
   },
   {
    "duration": 19,
    "start_time": "2022-01-23T20:14:10.361Z"
   },
   {
    "duration": 48,
    "start_time": "2022-01-23T20:14:10.383Z"
   },
   {
    "duration": 9,
    "start_time": "2022-01-23T20:14:10.433Z"
   },
   {
    "duration": 20,
    "start_time": "2022-01-23T20:14:10.445Z"
   },
   {
    "duration": 6,
    "start_time": "2022-01-23T20:14:10.467Z"
   },
   {
    "duration": 6,
    "start_time": "2022-01-23T20:14:10.475Z"
   },
   {
    "duration": 8,
    "start_time": "2022-01-23T20:14:30.144Z"
   },
   {
    "duration": 8,
    "start_time": "2022-01-23T20:14:51.432Z"
   },
   {
    "duration": 825,
    "start_time": "2022-01-23T20:15:12.448Z"
   },
   {
    "duration": 14,
    "start_time": "2022-01-23T20:15:13.276Z"
   },
   {
    "duration": 27,
    "start_time": "2022-01-23T20:15:13.297Z"
   },
   {
    "duration": 9,
    "start_time": "2022-01-23T20:15:13.326Z"
   },
   {
    "duration": 9,
    "start_time": "2022-01-23T20:15:13.338Z"
   },
   {
    "duration": 9,
    "start_time": "2022-01-23T20:15:13.349Z"
   },
   {
    "duration": 10,
    "start_time": "2022-01-23T20:15:13.362Z"
   },
   {
    "duration": 54,
    "start_time": "2022-01-23T20:15:13.375Z"
   },
   {
    "duration": 27,
    "start_time": "2022-01-23T20:15:13.433Z"
   },
   {
    "duration": 11,
    "start_time": "2022-01-23T20:15:13.463Z"
   },
   {
    "duration": 47,
    "start_time": "2022-01-23T20:15:13.478Z"
   },
   {
    "duration": 10,
    "start_time": "2022-01-23T20:15:13.528Z"
   },
   {
    "duration": 5,
    "start_time": "2022-01-23T20:15:13.540Z"
   },
   {
    "duration": 8,
    "start_time": "2022-01-23T20:15:13.547Z"
   },
   {
    "duration": 9,
    "start_time": "2022-01-23T20:15:27.990Z"
   },
   {
    "duration": 6,
    "start_time": "2022-01-23T20:16:06.864Z"
   },
   {
    "duration": 1108,
    "start_time": "2022-01-23T20:48:07.391Z"
   },
   {
    "duration": 4355,
    "start_time": "2022-01-23T20:48:28.816Z"
   },
   {
    "duration": 797,
    "start_time": "2022-01-23T20:48:35.648Z"
   },
   {
    "duration": 13,
    "start_time": "2022-01-23T20:48:36.448Z"
   },
   {
    "duration": 9,
    "start_time": "2022-01-23T20:48:36.465Z"
   },
   {
    "duration": 9,
    "start_time": "2022-01-23T20:48:36.476Z"
   },
   {
    "duration": 38,
    "start_time": "2022-01-23T20:48:36.487Z"
   },
   {
    "duration": 10,
    "start_time": "2022-01-23T20:48:36.527Z"
   },
   {
    "duration": 11,
    "start_time": "2022-01-23T20:48:36.540Z"
   },
   {
    "duration": 10,
    "start_time": "2022-01-23T20:48:36.556Z"
   },
   {
    "duration": 67,
    "start_time": "2022-01-23T20:48:36.568Z"
   },
   {
    "duration": 10,
    "start_time": "2022-01-23T20:48:36.638Z"
   },
   {
    "duration": 8,
    "start_time": "2022-01-23T20:48:36.651Z"
   },
   {
    "duration": 13,
    "start_time": "2022-01-23T20:48:36.661Z"
   },
   {
    "duration": 6,
    "start_time": "2022-01-23T20:48:36.676Z"
   },
   {
    "duration": 6,
    "start_time": "2022-01-23T20:48:36.723Z"
   },
   {
    "duration": 4552,
    "start_time": "2022-01-23T20:48:36.732Z"
   },
   {
    "duration": 119,
    "start_time": "2022-01-23T20:49:34.636Z"
   },
   {
    "duration": 41,
    "start_time": "2022-01-23T20:49:57.721Z"
   },
   {
    "duration": 768,
    "start_time": "2022-01-23T20:50:01.576Z"
   },
   {
    "duration": 13,
    "start_time": "2022-01-23T20:50:02.347Z"
   },
   {
    "duration": 9,
    "start_time": "2022-01-23T20:50:02.363Z"
   },
   {
    "duration": 20,
    "start_time": "2022-01-23T20:50:02.375Z"
   },
   {
    "duration": 29,
    "start_time": "2022-01-23T20:50:02.397Z"
   },
   {
    "duration": 12,
    "start_time": "2022-01-23T20:50:02.429Z"
   },
   {
    "duration": 11,
    "start_time": "2022-01-23T20:50:02.444Z"
   },
   {
    "duration": 10,
    "start_time": "2022-01-23T20:50:02.460Z"
   },
   {
    "duration": 59,
    "start_time": "2022-01-23T20:50:02.474Z"
   },
   {
    "duration": 10,
    "start_time": "2022-01-23T20:50:02.536Z"
   },
   {
    "duration": 14,
    "start_time": "2022-01-23T20:50:02.548Z"
   },
   {
    "duration": 10,
    "start_time": "2022-01-23T20:50:02.565Z"
   },
   {
    "duration": 5,
    "start_time": "2022-01-23T20:50:02.578Z"
   },
   {
    "duration": 42,
    "start_time": "2022-01-23T20:50:02.585Z"
   },
   {
    "duration": 4703,
    "start_time": "2022-01-23T20:50:02.630Z"
   },
   {
    "duration": 3579,
    "start_time": "2022-01-23T20:50:22.765Z"
   },
   {
    "duration": 772,
    "start_time": "2022-01-23T20:50:39.922Z"
   },
   {
    "duration": 14,
    "start_time": "2022-01-23T20:50:40.696Z"
   },
   {
    "duration": 13,
    "start_time": "2022-01-23T20:50:40.713Z"
   },
   {
    "duration": 9,
    "start_time": "2022-01-23T20:50:40.728Z"
   },
   {
    "duration": 10,
    "start_time": "2022-01-23T20:50:40.739Z"
   },
   {
    "duration": 14,
    "start_time": "2022-01-23T20:50:40.751Z"
   },
   {
    "duration": 10,
    "start_time": "2022-01-23T20:50:40.767Z"
   },
   {
    "duration": 49,
    "start_time": "2022-01-23T20:50:40.779Z"
   },
   {
    "duration": 18,
    "start_time": "2022-01-23T20:50:40.831Z"
   },
   {
    "duration": 10,
    "start_time": "2022-01-23T20:50:40.852Z"
   },
   {
    "duration": 6,
    "start_time": "2022-01-23T20:50:40.865Z"
   },
   {
    "duration": 55,
    "start_time": "2022-01-23T20:50:40.874Z"
   },
   {
    "duration": 5,
    "start_time": "2022-01-23T20:50:40.931Z"
   },
   {
    "duration": 6,
    "start_time": "2022-01-23T20:50:40.938Z"
   },
   {
    "duration": 1085,
    "start_time": "2022-01-23T20:50:40.947Z"
   },
   {
    "duration": 3805,
    "start_time": "2022-01-23T20:56:35.741Z"
   },
   {
    "duration": 845,
    "start_time": "2022-01-23T20:56:46.224Z"
   },
   {
    "duration": 13,
    "start_time": "2022-01-23T20:56:47.072Z"
   },
   {
    "duration": 33,
    "start_time": "2022-01-23T20:56:47.091Z"
   },
   {
    "duration": 10,
    "start_time": "2022-01-23T20:56:47.126Z"
   },
   {
    "duration": 14,
    "start_time": "2022-01-23T20:56:47.138Z"
   },
   {
    "duration": 8,
    "start_time": "2022-01-23T20:56:47.154Z"
   },
   {
    "duration": 14,
    "start_time": "2022-01-23T20:56:47.165Z"
   },
   {
    "duration": 9,
    "start_time": "2022-01-23T20:56:47.224Z"
   },
   {
    "duration": 20,
    "start_time": "2022-01-23T20:56:47.235Z"
   },
   {
    "duration": 9,
    "start_time": "2022-01-23T20:56:47.257Z"
   },
   {
    "duration": 6,
    "start_time": "2022-01-23T20:56:47.268Z"
   },
   {
    "duration": 9,
    "start_time": "2022-01-23T20:56:47.323Z"
   },
   {
    "duration": 6,
    "start_time": "2022-01-23T20:56:47.334Z"
   },
   {
    "duration": 10,
    "start_time": "2022-01-23T20:56:47.342Z"
   },
   {
    "duration": 5,
    "start_time": "2022-01-23T20:56:47.354Z"
   },
   {
    "duration": 1248,
    "start_time": "2022-01-23T21:05:02.292Z"
   },
   {
    "duration": 725,
    "start_time": "2022-01-23T21:05:21.368Z"
   },
   {
    "duration": 14,
    "start_time": "2022-01-23T21:05:22.096Z"
   },
   {
    "duration": 17,
    "start_time": "2022-01-23T21:05:22.113Z"
   },
   {
    "duration": 9,
    "start_time": "2022-01-23T21:05:22.133Z"
   },
   {
    "duration": 11,
    "start_time": "2022-01-23T21:05:22.144Z"
   },
   {
    "duration": 14,
    "start_time": "2022-01-23T21:05:22.158Z"
   },
   {
    "duration": 55,
    "start_time": "2022-01-23T21:05:22.175Z"
   },
   {
    "duration": 11,
    "start_time": "2022-01-23T21:05:22.235Z"
   },
   {
    "duration": 21,
    "start_time": "2022-01-23T21:05:22.250Z"
   },
   {
    "duration": 54,
    "start_time": "2022-01-23T21:05:22.274Z"
   },
   {
    "duration": 7,
    "start_time": "2022-01-23T21:05:22.331Z"
   },
   {
    "duration": 12,
    "start_time": "2022-01-23T21:05:22.341Z"
   },
   {
    "duration": 7,
    "start_time": "2022-01-23T21:05:22.355Z"
   },
   {
    "duration": 7,
    "start_time": "2022-01-23T21:05:22.365Z"
   },
   {
    "duration": 362,
    "start_time": "2022-01-23T21:05:22.424Z"
   },
   {
    "duration": 284,
    "start_time": "2022-01-23T21:07:48.962Z"
   },
   {
    "duration": 5,
    "start_time": "2022-01-23T21:13:24.646Z"
   },
   {
    "duration": 17,
    "start_time": "2022-01-23T21:25:55.722Z"
   },
   {
    "duration": 839,
    "start_time": "2022-01-23T21:26:20.900Z"
   },
   {
    "duration": 14,
    "start_time": "2022-01-23T21:26:21.742Z"
   },
   {
    "duration": 10,
    "start_time": "2022-01-23T21:26:21.759Z"
   },
   {
    "duration": 11,
    "start_time": "2022-01-23T21:26:21.771Z"
   },
   {
    "duration": 42,
    "start_time": "2022-01-23T21:26:21.784Z"
   },
   {
    "duration": 9,
    "start_time": "2022-01-23T21:26:21.828Z"
   },
   {
    "duration": 11,
    "start_time": "2022-01-23T21:26:21.839Z"
   },
   {
    "duration": 12,
    "start_time": "2022-01-23T21:26:21.852Z"
   },
   {
    "duration": 62,
    "start_time": "2022-01-23T21:26:21.867Z"
   },
   {
    "duration": 10,
    "start_time": "2022-01-23T21:26:21.932Z"
   },
   {
    "duration": 10,
    "start_time": "2022-01-23T21:26:21.945Z"
   },
   {
    "duration": 25,
    "start_time": "2022-01-23T21:26:21.958Z"
   },
   {
    "duration": 46,
    "start_time": "2022-01-23T21:26:21.986Z"
   },
   {
    "duration": 12,
    "start_time": "2022-01-23T21:26:22.034Z"
   },
   {
    "duration": 22,
    "start_time": "2022-01-23T21:26:22.049Z"
   },
   {
    "duration": 17,
    "start_time": "2022-01-23T21:26:55.060Z"
   },
   {
    "duration": 775,
    "start_time": "2022-01-23T21:28:31.708Z"
   },
   {
    "duration": 14,
    "start_time": "2022-01-23T21:28:32.485Z"
   },
   {
    "duration": 20,
    "start_time": "2022-01-23T21:28:32.502Z"
   },
   {
    "duration": 9,
    "start_time": "2022-01-23T21:28:32.525Z"
   },
   {
    "duration": 14,
    "start_time": "2022-01-23T21:28:32.536Z"
   },
   {
    "duration": 10,
    "start_time": "2022-01-23T21:28:32.552Z"
   },
   {
    "duration": 12,
    "start_time": "2022-01-23T21:28:32.565Z"
   },
   {
    "duration": 48,
    "start_time": "2022-01-23T21:28:32.580Z"
   },
   {
    "duration": 18,
    "start_time": "2022-01-23T21:28:32.631Z"
   },
   {
    "duration": 9,
    "start_time": "2022-01-23T21:28:32.651Z"
   },
   {
    "duration": 6,
    "start_time": "2022-01-23T21:28:32.662Z"
   },
   {
    "duration": 55,
    "start_time": "2022-01-23T21:28:32.670Z"
   },
   {
    "duration": 6,
    "start_time": "2022-01-23T21:28:32.727Z"
   },
   {
    "duration": 7,
    "start_time": "2022-01-23T21:28:32.736Z"
   },
   {
    "duration": 18,
    "start_time": "2022-01-23T21:28:32.745Z"
   },
   {
    "duration": 403,
    "start_time": "2022-01-23T21:29:38.759Z"
   },
   {
    "duration": 278,
    "start_time": "2022-01-23T21:29:55.597Z"
   },
   {
    "duration": 23,
    "start_time": "2022-01-23T21:31:34.639Z"
   },
   {
    "duration": 135,
    "start_time": "2022-01-23T21:33:30.103Z"
   },
   {
    "duration": 6,
    "start_time": "2022-01-23T21:33:52.512Z"
   },
   {
    "duration": 38,
    "start_time": "2022-01-23T21:48:00.382Z"
   },
   {
    "duration": 39,
    "start_time": "2022-01-23T21:48:16.213Z"
   },
   {
    "duration": 7,
    "start_time": "2022-01-23T22:09:05.795Z"
   },
   {
    "duration": 1116,
    "start_time": "2022-01-23T22:09:13.040Z"
   },
   {
    "duration": 24,
    "start_time": "2022-01-23T22:09:14.160Z"
   },
   {
    "duration": 35,
    "start_time": "2022-01-23T22:09:14.188Z"
   },
   {
    "duration": 10,
    "start_time": "2022-01-23T22:09:14.226Z"
   },
   {
    "duration": 14,
    "start_time": "2022-01-23T22:09:14.239Z"
   },
   {
    "duration": 13,
    "start_time": "2022-01-23T22:09:14.255Z"
   },
   {
    "duration": 56,
    "start_time": "2022-01-23T22:09:14.271Z"
   },
   {
    "duration": 12,
    "start_time": "2022-01-23T22:09:14.330Z"
   },
   {
    "duration": 7,
    "start_time": "2022-01-23T22:09:14.345Z"
   },
   {
    "duration": 17,
    "start_time": "2022-01-23T22:09:14.355Z"
   },
   {
    "duration": 52,
    "start_time": "2022-01-23T22:09:14.375Z"
   },
   {
    "duration": 12,
    "start_time": "2022-01-23T22:09:14.429Z"
   },
   {
    "duration": 6,
    "start_time": "2022-01-23T22:09:14.444Z"
   },
   {
    "duration": 6,
    "start_time": "2022-01-23T22:09:14.453Z"
   },
   {
    "duration": 98,
    "start_time": "2022-01-23T22:09:14.462Z"
   },
   {
    "duration": 21,
    "start_time": "2022-01-23T22:09:57.855Z"
   },
   {
    "duration": 34,
    "start_time": "2022-01-23T22:12:58.904Z"
   },
   {
    "duration": 11,
    "start_time": "2022-01-23T22:21:05.333Z"
   },
   {
    "duration": 10,
    "start_time": "2022-01-23T22:21:20.259Z"
   },
   {
    "duration": 95,
    "start_time": "2022-01-23T22:27:34.066Z"
   },
   {
    "duration": 38,
    "start_time": "2022-01-23T22:28:48.866Z"
   },
   {
    "duration": 782,
    "start_time": "2022-01-23T22:29:00.332Z"
   },
   {
    "duration": 15,
    "start_time": "2022-01-23T22:29:01.116Z"
   },
   {
    "duration": 16,
    "start_time": "2022-01-23T22:29:01.135Z"
   },
   {
    "duration": 11,
    "start_time": "2022-01-23T22:29:01.154Z"
   },
   {
    "duration": 14,
    "start_time": "2022-01-23T22:29:01.167Z"
   },
   {
    "duration": 50,
    "start_time": "2022-01-23T22:29:01.183Z"
   },
   {
    "duration": 17,
    "start_time": "2022-01-23T22:29:01.235Z"
   },
   {
    "duration": 12,
    "start_time": "2022-01-23T22:29:01.256Z"
   },
   {
    "duration": 57,
    "start_time": "2022-01-23T22:29:01.271Z"
   },
   {
    "duration": 11,
    "start_time": "2022-01-23T22:29:01.331Z"
   },
   {
    "duration": 10,
    "start_time": "2022-01-23T22:29:01.345Z"
   },
   {
    "duration": 11,
    "start_time": "2022-01-23T22:29:01.357Z"
   },
   {
    "duration": 6,
    "start_time": "2022-01-23T22:29:01.371Z"
   },
   {
    "duration": 44,
    "start_time": "2022-01-23T22:29:01.379Z"
   },
   {
    "duration": 10,
    "start_time": "2022-01-23T22:29:01.426Z"
   },
   {
    "duration": 54,
    "start_time": "2022-01-23T22:29:01.439Z"
   },
   {
    "duration": 9,
    "start_time": "2022-01-23T22:29:17.629Z"
   },
   {
    "duration": 20,
    "start_time": "2022-01-23T22:32:06.147Z"
   },
   {
    "duration": 18,
    "start_time": "2022-01-23T22:43:25.010Z"
   },
   {
    "duration": 8,
    "start_time": "2022-01-23T22:43:59.990Z"
   },
   {
    "duration": 7,
    "start_time": "2022-01-23T22:44:14.404Z"
   },
   {
    "duration": 462,
    "start_time": "2022-01-23T22:44:33.415Z"
   },
   {
    "duration": 97,
    "start_time": "2022-01-23T22:45:17.584Z"
   },
   {
    "duration": 298,
    "start_time": "2022-01-23T22:45:23.184Z"
   },
   {
    "duration": 9,
    "start_time": "2022-01-23T22:45:54.720Z"
   },
   {
    "duration": 95,
    "start_time": "2022-01-23T22:46:35.473Z"
   },
   {
    "duration": 100,
    "start_time": "2022-01-23T22:47:01.629Z"
   },
   {
    "duration": 106,
    "start_time": "2022-01-23T22:47:41.984Z"
   },
   {
    "duration": 93,
    "start_time": "2022-01-23T22:50:13.879Z"
   },
   {
    "duration": 103,
    "start_time": "2022-01-23T22:53:23.342Z"
   },
   {
    "duration": 665,
    "start_time": "2022-01-23T22:56:27.107Z"
   },
   {
    "duration": 7,
    "start_time": "2022-01-23T22:56:33.901Z"
   },
   {
    "duration": 8,
    "start_time": "2022-01-23T22:57:02.756Z"
   },
   {
    "duration": 103,
    "start_time": "2022-01-23T22:57:41.630Z"
   },
   {
    "duration": 8,
    "start_time": "2022-01-23T22:57:48.948Z"
   },
   {
    "duration": 8,
    "start_time": "2022-01-23T22:58:12.116Z"
   },
   {
    "duration": 94,
    "start_time": "2022-01-23T23:20:19.790Z"
   },
   {
    "duration": 82,
    "start_time": "2022-01-23T23:22:58.709Z"
   },
   {
    "duration": 14,
    "start_time": "2022-01-23T23:23:16.801Z"
   },
   {
    "duration": 13,
    "start_time": "2022-01-23T23:28:35.517Z"
   },
   {
    "duration": 99,
    "start_time": "2022-01-23T23:30:14.064Z"
   },
   {
    "duration": 90,
    "start_time": "2022-01-23T23:30:40.848Z"
   },
   {
    "duration": 12,
    "start_time": "2022-01-23T23:31:17.167Z"
   },
   {
    "duration": 44,
    "start_time": "2022-01-23T23:33:03.102Z"
   },
   {
    "duration": 738,
    "start_time": "2022-01-23T23:34:18.853Z"
   },
   {
    "duration": 14,
    "start_time": "2022-01-23T23:34:19.593Z"
   },
   {
    "duration": 19,
    "start_time": "2022-01-23T23:34:19.611Z"
   },
   {
    "duration": 10,
    "start_time": "2022-01-23T23:34:19.634Z"
   },
   {
    "duration": 11,
    "start_time": "2022-01-23T23:34:19.648Z"
   },
   {
    "duration": 10,
    "start_time": "2022-01-23T23:34:19.662Z"
   },
   {
    "duration": 11,
    "start_time": "2022-01-23T23:34:19.725Z"
   },
   {
    "duration": 12,
    "start_time": "2022-01-23T23:34:19.741Z"
   },
   {
    "duration": 22,
    "start_time": "2022-01-23T23:34:19.756Z"
   },
   {
    "duration": 8,
    "start_time": "2022-01-23T23:34:19.824Z"
   },
   {
    "duration": 7,
    "start_time": "2022-01-23T23:34:19.834Z"
   },
   {
    "duration": 10,
    "start_time": "2022-01-23T23:34:19.843Z"
   },
   {
    "duration": 7,
    "start_time": "2022-01-23T23:34:19.855Z"
   },
   {
    "duration": 13,
    "start_time": "2022-01-23T23:34:19.865Z"
   },
   {
    "duration": 46,
    "start_time": "2022-01-23T23:34:19.880Z"
   },
   {
    "duration": 9,
    "start_time": "2022-01-23T23:34:19.928Z"
   },
   {
    "duration": 46,
    "start_time": "2022-01-23T23:34:19.940Z"
   },
   {
    "duration": 15,
    "start_time": "2022-01-24T09:11:18.792Z"
   },
   {
    "duration": 6901,
    "start_time": "2022-01-24T09:14:00.806Z"
   },
   {
    "duration": 716,
    "start_time": "2022-01-24T09:14:10.577Z"
   },
   {
    "duration": 13,
    "start_time": "2022-01-24T09:14:11.296Z"
   },
   {
    "duration": 15,
    "start_time": "2022-01-24T09:14:11.312Z"
   },
   {
    "duration": 10,
    "start_time": "2022-01-24T09:14:11.330Z"
   },
   {
    "duration": 12,
    "start_time": "2022-01-24T09:14:11.342Z"
   },
   {
    "duration": 11,
    "start_time": "2022-01-24T09:14:11.356Z"
   },
   {
    "duration": 14,
    "start_time": "2022-01-24T09:14:11.369Z"
   },
   {
    "duration": 9,
    "start_time": "2022-01-24T09:14:11.422Z"
   },
   {
    "duration": 22,
    "start_time": "2022-01-24T09:14:11.433Z"
   },
   {
    "duration": 9,
    "start_time": "2022-01-24T09:14:11.458Z"
   },
   {
    "duration": 6,
    "start_time": "2022-01-24T09:14:11.469Z"
   },
   {
    "duration": 10,
    "start_time": "2022-01-24T09:14:11.524Z"
   },
   {
    "duration": 13,
    "start_time": "2022-01-24T09:14:11.536Z"
   },
   {
    "duration": 8,
    "start_time": "2022-01-24T09:14:11.551Z"
   },
   {
    "duration": 6,
    "start_time": "2022-01-24T09:14:11.561Z"
   },
   {
    "duration": 9,
    "start_time": "2022-01-24T09:14:11.569Z"
   },
   {
    "duration": 7506,
    "start_time": "2022-01-24T09:14:11.580Z"
   },
   {
    "duration": 29,
    "start_time": "2022-01-24T09:16:40.691Z"
   },
   {
    "duration": 7149,
    "start_time": "2022-01-24T09:18:10.243Z"
   },
   {
    "duration": 96,
    "start_time": "2022-01-24T09:18:24.399Z"
   },
   {
    "duration": 32,
    "start_time": "2022-01-24T09:20:01.383Z"
   },
   {
    "duration": 33,
    "start_time": "2022-01-24T09:20:40.839Z"
   },
   {
    "duration": 25,
    "start_time": "2022-01-24T09:21:06.754Z"
   },
   {
    "duration": 12,
    "start_time": "2022-01-24T09:21:33.914Z"
   },
   {
    "duration": 88,
    "start_time": "2022-01-24T09:22:15.724Z"
   },
   {
    "duration": 21,
    "start_time": "2022-01-24T09:22:22.795Z"
   },
   {
    "duration": 22,
    "start_time": "2022-01-24T09:23:07.306Z"
   },
   {
    "duration": 25,
    "start_time": "2022-01-24T09:25:42.151Z"
   },
   {
    "duration": 45,
    "start_time": "2022-01-24T09:25:57.345Z"
   },
   {
    "duration": 35,
    "start_time": "2022-01-24T09:26:59.345Z"
   },
   {
    "duration": 21,
    "start_time": "2022-01-24T09:27:43.659Z"
   },
   {
    "duration": 944,
    "start_time": "2022-01-24T09:27:51.552Z"
   },
   {
    "duration": 17,
    "start_time": "2022-01-24T09:27:52.498Z"
   },
   {
    "duration": 16,
    "start_time": "2022-01-24T09:27:52.517Z"
   },
   {
    "duration": 10,
    "start_time": "2022-01-24T09:27:52.536Z"
   },
   {
    "duration": 11,
    "start_time": "2022-01-24T09:27:52.548Z"
   },
   {
    "duration": 18,
    "start_time": "2022-01-24T09:27:52.561Z"
   },
   {
    "duration": 44,
    "start_time": "2022-01-24T09:27:52.581Z"
   },
   {
    "duration": 12,
    "start_time": "2022-01-24T09:27:52.629Z"
   },
   {
    "duration": 21,
    "start_time": "2022-01-24T09:27:52.644Z"
   },
   {
    "duration": 8,
    "start_time": "2022-01-24T09:27:52.667Z"
   },
   {
    "duration": 6,
    "start_time": "2022-01-24T09:27:52.722Z"
   },
   {
    "duration": 22,
    "start_time": "2022-01-24T09:27:52.730Z"
   },
   {
    "duration": 11,
    "start_time": "2022-01-24T09:27:52.754Z"
   },
   {
    "duration": 6,
    "start_time": "2022-01-24T09:27:52.767Z"
   },
   {
    "duration": 6,
    "start_time": "2022-01-24T09:27:52.775Z"
   },
   {
    "duration": 7,
    "start_time": "2022-01-24T09:27:52.823Z"
   },
   {
    "duration": 13,
    "start_time": "2022-01-24T09:27:52.833Z"
   },
   {
    "duration": 15,
    "start_time": "2022-01-24T09:27:52.849Z"
   },
   {
    "duration": 85,
    "start_time": "2022-01-24T09:27:52.866Z"
   },
   {
    "duration": 19,
    "start_time": "2022-01-24T09:32:10.038Z"
   },
   {
    "duration": 58,
    "start_time": "2022-01-24T09:32:20.386Z"
   },
   {
    "duration": 758,
    "start_time": "2022-01-24T09:32:39.559Z"
   },
   {
    "duration": 14,
    "start_time": "2022-01-24T09:32:40.320Z"
   },
   {
    "duration": 9,
    "start_time": "2022-01-24T09:32:40.337Z"
   },
   {
    "duration": 11,
    "start_time": "2022-01-24T09:32:40.350Z"
   },
   {
    "duration": 13,
    "start_time": "2022-01-24T09:32:40.364Z"
   },
   {
    "duration": 51,
    "start_time": "2022-01-24T09:32:40.380Z"
   },
   {
    "duration": 17,
    "start_time": "2022-01-24T09:32:40.435Z"
   },
   {
    "duration": 12,
    "start_time": "2022-01-24T09:32:40.457Z"
   },
   {
    "duration": 53,
    "start_time": "2022-01-24T09:32:40.472Z"
   },
   {
    "duration": 8,
    "start_time": "2022-01-24T09:32:40.527Z"
   },
   {
    "duration": 10,
    "start_time": "2022-01-24T09:32:40.538Z"
   },
   {
    "duration": 22,
    "start_time": "2022-01-24T09:32:40.550Z"
   },
   {
    "duration": 9,
    "start_time": "2022-01-24T09:32:40.574Z"
   },
   {
    "duration": 5,
    "start_time": "2022-01-24T09:32:40.624Z"
   },
   {
    "duration": 8,
    "start_time": "2022-01-24T09:32:40.631Z"
   },
   {
    "duration": 6,
    "start_time": "2022-01-24T09:32:40.641Z"
   },
   {
    "duration": 15,
    "start_time": "2022-01-24T09:32:40.649Z"
   },
   {
    "duration": 14,
    "start_time": "2022-01-24T09:32:40.666Z"
   },
   {
    "duration": 37,
    "start_time": "2022-01-24T09:32:40.723Z"
   },
   {
    "duration": 62,
    "start_time": "2022-01-24T09:32:40.762Z"
   },
   {
    "duration": 352,
    "start_time": "2022-01-24T09:40:47.374Z"
   },
   {
    "duration": 40,
    "start_time": "2022-01-24T09:48:13.263Z"
   },
   {
    "duration": 739,
    "start_time": "2022-01-24T09:48:26.469Z"
   },
   {
    "duration": 19,
    "start_time": "2022-01-24T09:48:27.211Z"
   },
   {
    "duration": 9,
    "start_time": "2022-01-24T09:48:27.233Z"
   },
   {
    "duration": 9,
    "start_time": "2022-01-24T09:48:27.246Z"
   },
   {
    "duration": 11,
    "start_time": "2022-01-24T09:48:27.257Z"
   },
   {
    "duration": 13,
    "start_time": "2022-01-24T09:48:27.270Z"
   },
   {
    "duration": 44,
    "start_time": "2022-01-24T09:48:27.285Z"
   },
   {
    "duration": 9,
    "start_time": "2022-01-24T09:48:27.333Z"
   },
   {
    "duration": 19,
    "start_time": "2022-01-24T09:48:27.345Z"
   },
   {
    "duration": 8,
    "start_time": "2022-01-24T09:48:27.366Z"
   },
   {
    "duration": 52,
    "start_time": "2022-01-24T09:48:27.376Z"
   },
   {
    "duration": 23,
    "start_time": "2022-01-24T09:48:27.431Z"
   },
   {
    "duration": 9,
    "start_time": "2022-01-24T09:48:27.457Z"
   },
   {
    "duration": 5,
    "start_time": "2022-01-24T09:48:27.468Z"
   },
   {
    "duration": 6,
    "start_time": "2022-01-24T09:48:27.476Z"
   },
   {
    "duration": 7,
    "start_time": "2022-01-24T09:48:27.524Z"
   },
   {
    "duration": 9,
    "start_time": "2022-01-24T09:48:27.533Z"
   },
   {
    "duration": 14,
    "start_time": "2022-01-24T09:48:27.544Z"
   },
   {
    "duration": 105,
    "start_time": "2022-01-24T09:48:27.561Z"
   },
   {
    "duration": 55,
    "start_time": "2022-01-24T09:48:27.669Z"
   },
   {
    "duration": 359,
    "start_time": "2022-01-24T09:48:27.727Z"
   },
   {
    "duration": 23,
    "start_time": "2022-01-24T09:48:51.471Z"
   },
   {
    "duration": 38,
    "start_time": "2022-01-24T09:50:04.306Z"
   },
   {
    "duration": 772,
    "start_time": "2022-01-24T09:50:16.530Z"
   },
   {
    "duration": 13,
    "start_time": "2022-01-24T09:50:17.305Z"
   },
   {
    "duration": 9,
    "start_time": "2022-01-24T09:50:17.320Z"
   },
   {
    "duration": 12,
    "start_time": "2022-01-24T09:50:17.332Z"
   },
   {
    "duration": 14,
    "start_time": "2022-01-24T09:50:17.346Z"
   },
   {
    "duration": 11,
    "start_time": "2022-01-24T09:50:17.362Z"
   },
   {
    "duration": 17,
    "start_time": "2022-01-24T09:50:17.376Z"
   },
   {
    "duration": 9,
    "start_time": "2022-01-24T09:50:17.424Z"
   },
   {
    "duration": 19,
    "start_time": "2022-01-24T09:50:17.436Z"
   },
   {
    "duration": 8,
    "start_time": "2022-01-24T09:50:17.458Z"
   },
   {
    "duration": 11,
    "start_time": "2022-01-24T09:50:17.468Z"
   },
   {
    "duration": 60,
    "start_time": "2022-01-24T09:50:17.481Z"
   },
   {
    "duration": 9,
    "start_time": "2022-01-24T09:50:17.543Z"
   },
   {
    "duration": 5,
    "start_time": "2022-01-24T09:50:17.555Z"
   },
   {
    "duration": 15,
    "start_time": "2022-01-24T09:50:17.562Z"
   },
   {
    "duration": 8,
    "start_time": "2022-01-24T09:50:17.579Z"
   },
   {
    "duration": 9,
    "start_time": "2022-01-24T09:50:17.622Z"
   },
   {
    "duration": 23,
    "start_time": "2022-01-24T09:50:17.634Z"
   },
   {
    "duration": 34,
    "start_time": "2022-01-24T09:50:17.660Z"
   },
   {
    "duration": 33,
    "start_time": "2022-01-24T09:50:17.696Z"
   },
   {
    "duration": 40,
    "start_time": "2022-01-24T09:50:17.731Z"
   },
   {
    "duration": 400,
    "start_time": "2022-01-24T09:50:17.773Z"
   },
   {
    "duration": 316,
    "start_time": "2022-01-24T09:54:47.924Z"
   },
   {
    "duration": 317,
    "start_time": "2022-01-24T09:55:30.589Z"
   },
   {
    "duration": 793,
    "start_time": "2022-01-24T10:08:05.926Z"
   },
   {
    "duration": 306,
    "start_time": "2022-01-24T10:11:43.007Z"
   },
   {
    "duration": 817,
    "start_time": "2022-01-24T10:14:42.592Z"
   },
   {
    "duration": 15,
    "start_time": "2022-01-24T10:14:43.412Z"
   },
   {
    "duration": 9,
    "start_time": "2022-01-24T10:14:43.431Z"
   },
   {
    "duration": 9,
    "start_time": "2022-01-24T10:14:43.442Z"
   },
   {
    "duration": 9,
    "start_time": "2022-01-24T10:14:43.453Z"
   },
   {
    "duration": 9,
    "start_time": "2022-01-24T10:14:43.464Z"
   },
   {
    "duration": 52,
    "start_time": "2022-01-24T10:14:43.476Z"
   },
   {
    "duration": 8,
    "start_time": "2022-01-24T10:14:43.532Z"
   },
   {
    "duration": 20,
    "start_time": "2022-01-24T10:14:43.543Z"
   },
   {
    "duration": 8,
    "start_time": "2022-01-24T10:14:43.565Z"
   },
   {
    "duration": 49,
    "start_time": "2022-01-24T10:14:43.576Z"
   },
   {
    "duration": 22,
    "start_time": "2022-01-24T10:14:43.627Z"
   },
   {
    "duration": 9,
    "start_time": "2022-01-24T10:14:43.651Z"
   },
   {
    "duration": 5,
    "start_time": "2022-01-24T10:14:43.662Z"
   },
   {
    "duration": 7,
    "start_time": "2022-01-24T10:14:43.669Z"
   },
   {
    "duration": 48,
    "start_time": "2022-01-24T10:14:43.678Z"
   },
   {
    "duration": 9,
    "start_time": "2022-01-24T10:14:43.728Z"
   },
   {
    "duration": 16,
    "start_time": "2022-01-24T10:14:43.739Z"
   },
   {
    "duration": 20,
    "start_time": "2022-01-24T10:14:43.757Z"
   },
   {
    "duration": 61,
    "start_time": "2022-01-24T10:14:43.780Z"
   },
   {
    "duration": 41,
    "start_time": "2022-01-24T10:14:43.844Z"
   },
   {
    "duration": 475,
    "start_time": "2022-01-24T10:14:43.888Z"
   },
   {
    "duration": 308,
    "start_time": "2022-01-24T10:15:03.979Z"
   },
   {
    "duration": 572,
    "start_time": "2022-01-24T10:15:25.368Z"
   },
   {
    "duration": 94,
    "start_time": "2022-01-24T10:19:30.442Z"
   },
   {
    "duration": 283,
    "start_time": "2022-01-24T10:19:44.019Z"
   },
   {
    "duration": 479,
    "start_time": "2022-01-24T10:19:54.072Z"
   },
   {
    "duration": 4512,
    "start_time": "2022-01-24T10:26:19.457Z"
   },
   {
    "duration": 4097,
    "start_time": "2022-01-24T10:31:44.896Z"
   },
   {
    "duration": 338,
    "start_time": "2022-01-24T10:36:49.593Z"
   },
   {
    "duration": 16655,
    "start_time": "2022-01-24T10:37:10.863Z"
   },
   {
    "duration": 93,
    "start_time": "2022-01-24T10:39:46.172Z"
   },
   {
    "duration": 98,
    "start_time": "2022-01-24T10:40:11.861Z"
   },
   {
    "duration": 14611,
    "start_time": "2022-01-24T10:40:20.421Z"
   },
   {
    "duration": 304,
    "start_time": "2022-01-24T10:41:09.368Z"
   },
   {
    "duration": 278,
    "start_time": "2022-01-24T10:41:27.888Z"
   },
   {
    "duration": 290,
    "start_time": "2022-01-24T10:42:38.184Z"
   },
   {
    "duration": 304,
    "start_time": "2022-01-24T10:44:18.241Z"
   },
   {
    "duration": 281,
    "start_time": "2022-01-24T10:44:34.430Z"
   },
   {
    "duration": 303,
    "start_time": "2022-01-24T10:47:00.508Z"
   },
   {
    "duration": 777,
    "start_time": "2022-01-24T10:47:40.253Z"
   },
   {
    "duration": 15,
    "start_time": "2022-01-24T10:47:41.032Z"
   },
   {
    "duration": 9,
    "start_time": "2022-01-24T10:47:41.050Z"
   },
   {
    "duration": 10,
    "start_time": "2022-01-24T10:47:41.062Z"
   },
   {
    "duration": 12,
    "start_time": "2022-01-24T10:47:41.074Z"
   },
   {
    "duration": 11,
    "start_time": "2022-01-24T10:47:41.124Z"
   },
   {
    "duration": 19,
    "start_time": "2022-01-24T10:47:41.138Z"
   },
   {
    "duration": 14,
    "start_time": "2022-01-24T10:47:41.161Z"
   },
   {
    "duration": 23,
    "start_time": "2022-01-24T10:47:41.178Z"
   },
   {
    "duration": 10,
    "start_time": "2022-01-24T10:47:41.224Z"
   },
   {
    "duration": 8,
    "start_time": "2022-01-24T10:47:41.236Z"
   },
   {
    "duration": 22,
    "start_time": "2022-01-24T10:47:41.247Z"
   },
   {
    "duration": 55,
    "start_time": "2022-01-24T10:47:41.272Z"
   },
   {
    "duration": 6,
    "start_time": "2022-01-24T10:47:41.330Z"
   },
   {
    "duration": 8,
    "start_time": "2022-01-24T10:47:41.339Z"
   },
   {
    "duration": 6,
    "start_time": "2022-01-24T10:47:41.349Z"
   },
   {
    "duration": 10,
    "start_time": "2022-01-24T10:47:41.357Z"
   },
   {
    "duration": 62,
    "start_time": "2022-01-24T10:47:41.369Z"
   },
   {
    "duration": 25,
    "start_time": "2022-01-24T10:47:41.433Z"
   },
   {
    "duration": 33,
    "start_time": "2022-01-24T10:47:41.461Z"
   },
   {
    "duration": 59,
    "start_time": "2022-01-24T10:47:41.496Z"
   },
   {
    "duration": 497,
    "start_time": "2022-01-24T10:47:41.557Z"
   },
   {
    "duration": 13151,
    "start_time": "2022-01-24T10:48:53.037Z"
   },
   {
    "duration": 319,
    "start_time": "2022-01-24T10:50:13.545Z"
   },
   {
    "duration": 312,
    "start_time": "2022-01-24T10:50:19.809Z"
   },
   {
    "duration": 767,
    "start_time": "2022-01-24T10:50:28.053Z"
   },
   {
    "duration": 14,
    "start_time": "2022-01-24T10:50:28.822Z"
   },
   {
    "duration": 9,
    "start_time": "2022-01-24T10:50:28.839Z"
   },
   {
    "duration": 9,
    "start_time": "2022-01-24T10:50:28.850Z"
   },
   {
    "duration": 9,
    "start_time": "2022-01-24T10:50:28.861Z"
   },
   {
    "duration": 9,
    "start_time": "2022-01-24T10:50:28.872Z"
   },
   {
    "duration": 9,
    "start_time": "2022-01-24T10:50:28.924Z"
   },
   {
    "duration": 17,
    "start_time": "2022-01-24T10:50:28.935Z"
   },
   {
    "duration": 20,
    "start_time": "2022-01-24T10:50:28.956Z"
   },
   {
    "duration": 7,
    "start_time": "2022-01-24T10:50:28.979Z"
   },
   {
    "duration": 6,
    "start_time": "2022-01-24T10:50:29.024Z"
   },
   {
    "duration": 20,
    "start_time": "2022-01-24T10:50:29.033Z"
   },
   {
    "duration": 8,
    "start_time": "2022-01-24T10:50:29.056Z"
   },
   {
    "duration": 6,
    "start_time": "2022-01-24T10:50:29.066Z"
   },
   {
    "duration": 6,
    "start_time": "2022-01-24T10:50:29.074Z"
   },
   {
    "duration": 47,
    "start_time": "2022-01-24T10:50:29.082Z"
   },
   {
    "duration": 10,
    "start_time": "2022-01-24T10:50:29.131Z"
   },
   {
    "duration": 13,
    "start_time": "2022-01-24T10:50:29.143Z"
   },
   {
    "duration": 25,
    "start_time": "2022-01-24T10:50:29.159Z"
   },
   {
    "duration": 23,
    "start_time": "2022-01-24T10:50:29.223Z"
   },
   {
    "duration": 40,
    "start_time": "2022-01-24T10:50:29.248Z"
   },
   {
    "duration": 13333,
    "start_time": "2022-01-24T10:50:29.290Z"
   },
   {
    "duration": 1398,
    "start_time": "2022-01-24T10:52:03.685Z"
   },
   {
    "duration": 777,
    "start_time": "2022-01-24T10:52:12.214Z"
   },
   {
    "duration": 13,
    "start_time": "2022-01-24T10:52:12.994Z"
   },
   {
    "duration": 9,
    "start_time": "2022-01-24T10:52:13.022Z"
   },
   {
    "duration": 16,
    "start_time": "2022-01-24T10:52:13.034Z"
   },
   {
    "duration": 18,
    "start_time": "2022-01-24T10:52:13.053Z"
   },
   {
    "duration": 18,
    "start_time": "2022-01-24T10:52:13.073Z"
   },
   {
    "duration": 31,
    "start_time": "2022-01-24T10:52:13.093Z"
   },
   {
    "duration": 8,
    "start_time": "2022-01-24T10:52:13.128Z"
   },
   {
    "duration": 20,
    "start_time": "2022-01-24T10:52:13.139Z"
   },
   {
    "duration": 9,
    "start_time": "2022-01-24T10:52:13.161Z"
   },
   {
    "duration": 55,
    "start_time": "2022-01-24T10:52:13.173Z"
   },
   {
    "duration": 28,
    "start_time": "2022-01-24T10:52:13.231Z"
   },
   {
    "duration": 9,
    "start_time": "2022-01-24T10:52:13.261Z"
   },
   {
    "duration": 6,
    "start_time": "2022-01-24T10:52:13.273Z"
   },
   {
    "duration": 47,
    "start_time": "2022-01-24T10:52:13.281Z"
   },
   {
    "duration": 8,
    "start_time": "2022-01-24T10:52:13.331Z"
   },
   {
    "duration": 11,
    "start_time": "2022-01-24T10:52:13.341Z"
   },
   {
    "duration": 15,
    "start_time": "2022-01-24T10:52:13.355Z"
   },
   {
    "duration": 71,
    "start_time": "2022-01-24T10:52:13.373Z"
   },
   {
    "duration": 26,
    "start_time": "2022-01-24T10:52:13.447Z"
   },
   {
    "duration": 70,
    "start_time": "2022-01-24T10:52:13.475Z"
   },
   {
    "duration": 5129,
    "start_time": "2022-01-24T10:52:13.548Z"
   },
   {
    "duration": 4381,
    "start_time": "2022-01-24T10:52:32.986Z"
   },
   {
    "duration": 4504,
    "start_time": "2022-01-24T10:52:47.145Z"
   },
   {
    "duration": 4624,
    "start_time": "2022-01-24T10:55:36.972Z"
   },
   {
    "duration": 5,
    "start_time": "2022-01-24T13:22:41.845Z"
   },
   {
    "duration": 489,
    "start_time": "2022-01-24T13:22:57.625Z"
   },
   {
    "duration": 513,
    "start_time": "2022-01-24T13:23:40.530Z"
   },
   {
    "duration": 92,
    "start_time": "2022-01-24T13:24:17.925Z"
   },
   {
    "duration": 481,
    "start_time": "2022-01-24T13:25:19.517Z"
   },
   {
    "duration": 760,
    "start_time": "2022-01-24T13:25:26.762Z"
   },
   {
    "duration": 25,
    "start_time": "2022-01-24T13:25:27.526Z"
   },
   {
    "duration": 10,
    "start_time": "2022-01-24T13:25:27.554Z"
   },
   {
    "duration": 10,
    "start_time": "2022-01-24T13:25:27.567Z"
   },
   {
    "duration": 19,
    "start_time": "2022-01-24T13:25:27.579Z"
   },
   {
    "duration": 34,
    "start_time": "2022-01-24T13:25:27.601Z"
   },
   {
    "duration": 15,
    "start_time": "2022-01-24T13:25:27.638Z"
   },
   {
    "duration": 10,
    "start_time": "2022-01-24T13:25:27.659Z"
   },
   {
    "duration": 59,
    "start_time": "2022-01-24T13:25:27.672Z"
   },
   {
    "duration": 10,
    "start_time": "2022-01-24T13:25:27.734Z"
   },
   {
    "duration": 8,
    "start_time": "2022-01-24T13:25:27.746Z"
   },
   {
    "duration": 22,
    "start_time": "2022-01-24T13:25:27.756Z"
   },
   {
    "duration": 53,
    "start_time": "2022-01-24T13:25:27.781Z"
   },
   {
    "duration": 11,
    "start_time": "2022-01-24T13:25:27.837Z"
   },
   {
    "duration": 7,
    "start_time": "2022-01-24T13:25:27.851Z"
   },
   {
    "duration": 8,
    "start_time": "2022-01-24T13:25:27.860Z"
   },
   {
    "duration": 11,
    "start_time": "2022-01-24T13:25:27.871Z"
   },
   {
    "duration": 57,
    "start_time": "2022-01-24T13:25:27.885Z"
   },
   {
    "duration": 24,
    "start_time": "2022-01-24T13:25:27.944Z"
   },
   {
    "duration": 53,
    "start_time": "2022-01-24T13:25:27.970Z"
   },
   {
    "duration": 49,
    "start_time": "2022-01-24T13:25:28.026Z"
   },
   {
    "duration": 4767,
    "start_time": "2022-01-24T13:25:28.077Z"
   },
   {
    "duration": 461,
    "start_time": "2022-01-24T13:25:32.847Z"
   },
   {
    "duration": 122,
    "start_time": "2022-01-24T13:25:47.997Z"
   },
   {
    "duration": 475,
    "start_time": "2022-01-24T13:25:58.014Z"
   },
   {
    "duration": 102,
    "start_time": "2022-01-24T13:28:55.936Z"
   },
   {
    "duration": 373,
    "start_time": "2022-01-24T13:29:12.711Z"
   },
   {
    "duration": 347,
    "start_time": "2022-01-24T13:40:13.548Z"
   },
   {
    "duration": 18,
    "start_time": "2022-01-24T13:42:06.524Z"
   },
   {
    "duration": 15,
    "start_time": "2022-01-24T13:43:01.074Z"
   },
   {
    "duration": 16,
    "start_time": "2022-01-24T13:43:49.988Z"
   },
   {
    "duration": 387,
    "start_time": "2022-01-24T13:44:25.733Z"
   },
   {
    "duration": 852,
    "start_time": "2022-01-24T13:45:11.629Z"
   },
   {
    "duration": 20,
    "start_time": "2022-01-24T13:45:12.485Z"
   },
   {
    "duration": 24,
    "start_time": "2022-01-24T13:45:12.508Z"
   },
   {
    "duration": 16,
    "start_time": "2022-01-24T13:45:12.535Z"
   },
   {
    "duration": 12,
    "start_time": "2022-01-24T13:45:12.553Z"
   },
   {
    "duration": 11,
    "start_time": "2022-01-24T13:45:12.567Z"
   },
   {
    "duration": 56,
    "start_time": "2022-01-24T13:45:12.580Z"
   },
   {
    "duration": 11,
    "start_time": "2022-01-24T13:45:12.641Z"
   },
   {
    "duration": 19,
    "start_time": "2022-01-24T13:45:12.655Z"
   },
   {
    "duration": 7,
    "start_time": "2022-01-24T13:45:12.676Z"
   },
   {
    "duration": 42,
    "start_time": "2022-01-24T13:45:12.685Z"
   },
   {
    "duration": 26,
    "start_time": "2022-01-24T13:45:12.730Z"
   },
   {
    "duration": 9,
    "start_time": "2022-01-24T13:45:12.759Z"
   },
   {
    "duration": 5,
    "start_time": "2022-01-24T13:45:12.770Z"
   },
   {
    "duration": 5,
    "start_time": "2022-01-24T13:45:12.778Z"
   },
   {
    "duration": 8,
    "start_time": "2022-01-24T13:45:12.825Z"
   },
   {
    "duration": 18,
    "start_time": "2022-01-24T13:45:12.835Z"
   },
   {
    "duration": 13,
    "start_time": "2022-01-24T13:45:12.855Z"
   },
   {
    "duration": 58,
    "start_time": "2022-01-24T13:45:12.871Z"
   },
   {
    "duration": 39,
    "start_time": "2022-01-24T13:45:12.932Z"
   },
   {
    "duration": 57,
    "start_time": "2022-01-24T13:45:12.973Z"
   },
   {
    "duration": 4791,
    "start_time": "2022-01-24T13:45:13.032Z"
   },
   {
    "duration": 394,
    "start_time": "2022-01-24T13:45:17.826Z"
   },
   {
    "duration": -111,
    "start_time": "2022-01-24T13:45:18.334Z"
   },
   {
    "duration": 312,
    "start_time": "2022-01-24T13:46:03.349Z"
   },
   {
    "duration": 842,
    "start_time": "2022-01-24T13:46:20.727Z"
   },
   {
    "duration": 15,
    "start_time": "2022-01-24T13:46:21.572Z"
   },
   {
    "duration": 31,
    "start_time": "2022-01-24T13:46:21.592Z"
   },
   {
    "duration": 11,
    "start_time": "2022-01-24T13:46:21.626Z"
   },
   {
    "duration": 18,
    "start_time": "2022-01-24T13:46:21.640Z"
   },
   {
    "duration": 17,
    "start_time": "2022-01-24T13:46:21.661Z"
   },
   {
    "duration": 13,
    "start_time": "2022-01-24T13:46:21.680Z"
   },
   {
    "duration": 12,
    "start_time": "2022-01-24T13:46:21.723Z"
   },
   {
    "duration": 28,
    "start_time": "2022-01-24T13:46:21.740Z"
   },
   {
    "duration": 8,
    "start_time": "2022-01-24T13:46:21.771Z"
   },
   {
    "duration": 9,
    "start_time": "2022-01-24T13:46:21.781Z"
   },
   {
    "duration": 28,
    "start_time": "2022-01-24T13:46:21.824Z"
   },
   {
    "duration": 10,
    "start_time": "2022-01-24T13:46:21.855Z"
   },
   {
    "duration": 7,
    "start_time": "2022-01-24T13:46:21.868Z"
   },
   {
    "duration": 48,
    "start_time": "2022-01-24T13:46:21.877Z"
   },
   {
    "duration": 11,
    "start_time": "2022-01-24T13:46:21.929Z"
   },
   {
    "duration": 11,
    "start_time": "2022-01-24T13:46:21.943Z"
   },
   {
    "duration": 16,
    "start_time": "2022-01-24T13:46:21.956Z"
   },
   {
    "duration": 53,
    "start_time": "2022-01-24T13:46:21.974Z"
   },
   {
    "duration": 32,
    "start_time": "2022-01-24T13:46:22.029Z"
   },
   {
    "duration": 61,
    "start_time": "2022-01-24T13:46:22.064Z"
   },
   {
    "duration": 4938,
    "start_time": "2022-01-24T13:46:22.128Z"
   },
   {
    "duration": 413,
    "start_time": "2022-01-24T13:46:27.069Z"
   },
   {
    "duration": -109,
    "start_time": "2022-01-24T13:46:27.594Z"
   },
   {
    "duration": 333,
    "start_time": "2022-01-24T13:46:47.509Z"
   },
   {
    "duration": 18,
    "start_time": "2022-01-24T13:47:04.373Z"
   },
   {
    "duration": 18,
    "start_time": "2022-01-24T13:52:03.793Z"
   },
   {
    "duration": 20,
    "start_time": "2022-01-24T13:52:29.631Z"
   },
   {
    "duration": 13,
    "start_time": "2022-01-24T13:55:24.560Z"
   },
   {
    "duration": 16,
    "start_time": "2022-01-24T13:56:49.659Z"
   },
   {
    "duration": 5,
    "start_time": "2022-01-24T13:59:17.875Z"
   },
   {
    "duration": 5,
    "start_time": "2022-01-24T13:59:31.560Z"
   },
   {
    "duration": 8,
    "start_time": "2022-01-24T13:59:49.039Z"
   },
   {
    "duration": 30,
    "start_time": "2022-01-24T14:05:25.460Z"
   },
   {
    "duration": 8,
    "start_time": "2022-01-24T14:05:47.135Z"
   },
   {
    "duration": 115,
    "start_time": "2022-01-24T14:06:19.418Z"
   },
   {
    "duration": 93,
    "start_time": "2022-01-24T14:06:40.041Z"
   },
   {
    "duration": 9,
    "start_time": "2022-01-24T14:06:49.044Z"
   },
   {
    "duration": 855,
    "start_time": "2022-01-24T14:08:04.943Z"
   },
   {
    "duration": 4749,
    "start_time": "2022-01-24T14:09:19.661Z"
   },
   {
    "duration": 892,
    "start_time": "2022-01-24T14:10:16.735Z"
   },
   {
    "duration": 338,
    "start_time": "2022-01-24T14:14:38.498Z"
   },
   {
    "duration": 315,
    "start_time": "2022-01-24T14:15:13.376Z"
   },
   {
    "duration": 272,
    "start_time": "2022-01-24T14:15:36.288Z"
   },
   {
    "duration": 314,
    "start_time": "2022-01-24T14:15:49.737Z"
   },
   {
    "duration": 146,
    "start_time": "2022-01-24T14:21:30.954Z"
   },
   {
    "duration": 5,
    "start_time": "2022-01-24T14:21:45.281Z"
   },
   {
    "duration": 39,
    "start_time": "2022-01-24T14:25:24.313Z"
   },
   {
    "duration": 299,
    "start_time": "2022-01-24T14:26:23.685Z"
   },
   {
    "duration": 842,
    "start_time": "2022-01-24T14:26:57.893Z"
   },
   {
    "duration": 15,
    "start_time": "2022-01-24T14:26:58.738Z"
   },
   {
    "duration": 10,
    "start_time": "2022-01-24T14:26:58.756Z"
   },
   {
    "duration": 10,
    "start_time": "2022-01-24T14:26:58.768Z"
   },
   {
    "duration": 11,
    "start_time": "2022-01-24T14:26:58.780Z"
   },
   {
    "duration": 42,
    "start_time": "2022-01-24T14:26:58.793Z"
   },
   {
    "duration": 23,
    "start_time": "2022-01-24T14:26:58.838Z"
   },
   {
    "duration": 13,
    "start_time": "2022-01-24T14:26:58.863Z"
   },
   {
    "duration": 51,
    "start_time": "2022-01-24T14:26:58.880Z"
   },
   {
    "duration": 10,
    "start_time": "2022-01-24T14:26:58.934Z"
   },
   {
    "duration": 8,
    "start_time": "2022-01-24T14:26:58.947Z"
   },
   {
    "duration": 21,
    "start_time": "2022-01-24T14:26:58.957Z"
   },
   {
    "duration": 48,
    "start_time": "2022-01-24T14:26:58.980Z"
   },
   {
    "duration": 10,
    "start_time": "2022-01-24T14:26:59.031Z"
   },
   {
    "duration": 6,
    "start_time": "2022-01-24T14:26:59.043Z"
   },
   {
    "duration": 7,
    "start_time": "2022-01-24T14:26:59.052Z"
   },
   {
    "duration": 9,
    "start_time": "2022-01-24T14:26:59.061Z"
   },
   {
    "duration": 63,
    "start_time": "2022-01-24T14:26:59.072Z"
   },
   {
    "duration": 23,
    "start_time": "2022-01-24T14:26:59.138Z"
   },
   {
    "duration": 27,
    "start_time": "2022-01-24T14:26:59.163Z"
   },
   {
    "duration": 70,
    "start_time": "2022-01-24T14:26:59.192Z"
   },
   {
    "duration": 909,
    "start_time": "2022-01-24T14:26:59.264Z"
   },
   {
    "duration": 376,
    "start_time": "2022-01-24T14:27:00.176Z"
   },
   {
    "duration": -22,
    "start_time": "2022-01-24T14:27:00.577Z"
   },
   {
    "duration": -29,
    "start_time": "2022-01-24T14:27:00.585Z"
   },
   {
    "duration": -30,
    "start_time": "2022-01-24T14:27:00.587Z"
   },
   {
    "duration": 902,
    "start_time": "2022-01-24T14:28:16.503Z"
   },
   {
    "duration": 932,
    "start_time": "2022-01-24T14:28:51.239Z"
   },
   {
    "duration": 924,
    "start_time": "2022-01-24T14:29:12.236Z"
   },
   {
    "duration": 1949,
    "start_time": "2022-01-24T14:29:32.350Z"
   },
   {
    "duration": 803,
    "start_time": "2022-01-24T14:30:04.521Z"
   },
   {
    "duration": 17,
    "start_time": "2022-01-24T14:30:05.328Z"
   },
   {
    "duration": 10,
    "start_time": "2022-01-24T14:30:05.348Z"
   },
   {
    "duration": 31,
    "start_time": "2022-01-24T14:30:05.360Z"
   },
   {
    "duration": 12,
    "start_time": "2022-01-24T14:30:05.393Z"
   },
   {
    "duration": 26,
    "start_time": "2022-01-24T14:30:05.408Z"
   },
   {
    "duration": 15,
    "start_time": "2022-01-24T14:30:05.437Z"
   },
   {
    "duration": 22,
    "start_time": "2022-01-24T14:30:05.456Z"
   },
   {
    "duration": 21,
    "start_time": "2022-01-24T14:30:05.481Z"
   },
   {
    "duration": 25,
    "start_time": "2022-01-24T14:30:05.504Z"
   },
   {
    "duration": 21,
    "start_time": "2022-01-24T14:30:05.532Z"
   },
   {
    "duration": 30,
    "start_time": "2022-01-24T14:30:05.556Z"
   },
   {
    "duration": 9,
    "start_time": "2022-01-24T14:30:05.589Z"
   },
   {
    "duration": 24,
    "start_time": "2022-01-24T14:30:05.600Z"
   },
   {
    "duration": 18,
    "start_time": "2022-01-24T14:30:05.627Z"
   },
   {
    "duration": 6,
    "start_time": "2022-01-24T14:30:05.648Z"
   },
   {
    "duration": 12,
    "start_time": "2022-01-24T14:30:05.657Z"
   },
   {
    "duration": 12,
    "start_time": "2022-01-24T14:30:05.672Z"
   },
   {
    "duration": 64,
    "start_time": "2022-01-24T14:30:05.687Z"
   },
   {
    "duration": 24,
    "start_time": "2022-01-24T14:30:05.753Z"
   },
   {
    "duration": 73,
    "start_time": "2022-01-24T14:30:05.779Z"
   },
   {
    "duration": 912,
    "start_time": "2022-01-24T14:30:05.854Z"
   },
   {
    "duration": 2162,
    "start_time": "2022-01-24T14:30:06.770Z"
   },
   {
    "duration": 12,
    "start_time": "2022-01-24T14:30:08.923Z"
   },
   {
    "duration": 1,
    "start_time": "2022-01-24T14:30:08.936Z"
   },
   {
    "duration": 1,
    "start_time": "2022-01-24T14:30:08.938Z"
   },
   {
    "duration": 5,
    "start_time": "2022-01-24T14:30:30.507Z"
   },
   {
    "duration": 7,
    "start_time": "2022-01-24T14:30:58.129Z"
   },
   {
    "duration": 1907,
    "start_time": "2022-01-24T14:31:12.305Z"
   },
   {
    "duration": 9,
    "start_time": "2022-01-24T14:33:02.052Z"
   },
   {
    "duration": 11,
    "start_time": "2022-01-24T14:33:15.777Z"
   },
   {
    "duration": 2033,
    "start_time": "2022-01-24T14:33:55.009Z"
   },
   {
    "duration": 1991,
    "start_time": "2022-01-24T14:34:25.859Z"
   },
   {
    "duration": 2566,
    "start_time": "2022-01-24T14:35:09.490Z"
   },
   {
    "duration": 928,
    "start_time": "2022-01-24T14:35:29.603Z"
   },
   {
    "duration": 19,
    "start_time": "2022-01-24T14:35:30.535Z"
   },
   {
    "duration": 11,
    "start_time": "2022-01-24T14:35:30.557Z"
   },
   {
    "duration": 19,
    "start_time": "2022-01-24T14:35:30.572Z"
   },
   {
    "duration": 48,
    "start_time": "2022-01-24T14:35:30.594Z"
   },
   {
    "duration": 26,
    "start_time": "2022-01-24T14:35:30.645Z"
   },
   {
    "duration": 24,
    "start_time": "2022-01-24T14:35:30.675Z"
   },
   {
    "duration": 21,
    "start_time": "2022-01-24T14:35:30.702Z"
   },
   {
    "duration": 26,
    "start_time": "2022-01-24T14:35:30.729Z"
   },
   {
    "duration": 13,
    "start_time": "2022-01-24T14:35:30.758Z"
   },
   {
    "duration": 15,
    "start_time": "2022-01-24T14:35:30.773Z"
   },
   {
    "duration": 48,
    "start_time": "2022-01-24T14:35:30.790Z"
   },
   {
    "duration": 10,
    "start_time": "2022-01-24T14:35:30.841Z"
   },
   {
    "duration": 15,
    "start_time": "2022-01-24T14:35:30.854Z"
   },
   {
    "duration": 17,
    "start_time": "2022-01-24T14:35:30.871Z"
   },
   {
    "duration": 12,
    "start_time": "2022-01-24T14:35:30.891Z"
   },
   {
    "duration": 23,
    "start_time": "2022-01-24T14:35:30.906Z"
   },
   {
    "duration": 35,
    "start_time": "2022-01-24T14:35:30.932Z"
   },
   {
    "duration": 26,
    "start_time": "2022-01-24T14:35:30.970Z"
   },
   {
    "duration": 37,
    "start_time": "2022-01-24T14:35:30.998Z"
   },
   {
    "duration": 49,
    "start_time": "2022-01-24T14:35:31.040Z"
   },
   {
    "duration": 992,
    "start_time": "2022-01-24T14:35:31.091Z"
   },
   {
    "duration": 2092,
    "start_time": "2022-01-24T14:35:32.085Z"
   },
   {
    "duration": -28,
    "start_time": "2022-01-24T14:35:34.207Z"
   },
   {
    "duration": -28,
    "start_time": "2022-01-24T14:35:34.209Z"
   },
   {
    "duration": -28,
    "start_time": "2022-01-24T14:35:34.210Z"
   },
   {
    "duration": 14,
    "start_time": "2022-01-24T14:36:11.544Z"
   },
   {
    "duration": 4568,
    "start_time": "2022-01-24T14:37:23.616Z"
   },
   {
    "duration": 19,
    "start_time": "2022-01-24T14:37:45.010Z"
   },
   {
    "duration": 287,
    "start_time": "2022-01-24T14:38:01.137Z"
   },
   {
    "duration": 308,
    "start_time": "2022-01-24T14:38:30.969Z"
   },
   {
    "duration": 307,
    "start_time": "2022-01-24T14:41:58.267Z"
   },
   {
    "duration": 20000,
    "start_time": "2022-01-24T14:42:11.266Z"
   },
   {
    "duration": 1157,
    "start_time": "2022-01-24T14:51:18.896Z"
   },
   {
    "duration": 888,
    "start_time": "2022-01-24T14:51:45.602Z"
   },
   {
    "duration": 1449,
    "start_time": "2022-01-24T14:53:41.931Z"
   },
   {
    "duration": 897,
    "start_time": "2022-01-24T14:54:46.584Z"
   },
   {
    "duration": 1199,
    "start_time": "2022-01-24T14:55:48.857Z"
   },
   {
    "duration": 1283,
    "start_time": "2022-01-24T15:02:26.632Z"
   },
   {
    "duration": 1201,
    "start_time": "2022-01-24T15:13:13.760Z"
   },
   {
    "duration": 789,
    "start_time": "2022-01-24T15:13:26.928Z"
   },
   {
    "duration": 21,
    "start_time": "2022-01-24T15:13:27.720Z"
   },
   {
    "duration": 9,
    "start_time": "2022-01-24T15:13:27.744Z"
   },
   {
    "duration": 10,
    "start_time": "2022-01-24T15:13:27.756Z"
   },
   {
    "duration": 13,
    "start_time": "2022-01-24T15:13:27.768Z"
   },
   {
    "duration": 43,
    "start_time": "2022-01-24T15:13:27.783Z"
   },
   {
    "duration": 29,
    "start_time": "2022-01-24T15:13:27.829Z"
   },
   {
    "duration": 9,
    "start_time": "2022-01-24T15:13:27.861Z"
   },
   {
    "duration": 20,
    "start_time": "2022-01-24T15:13:27.874Z"
   },
   {
    "duration": 35,
    "start_time": "2022-01-24T15:13:27.896Z"
   },
   {
    "duration": 9,
    "start_time": "2022-01-24T15:13:27.935Z"
   },
   {
    "duration": 22,
    "start_time": "2022-01-24T15:13:27.947Z"
   },
   {
    "duration": 52,
    "start_time": "2022-01-24T15:13:27.972Z"
   },
   {
    "duration": 6,
    "start_time": "2022-01-24T15:13:28.030Z"
   },
   {
    "duration": 8,
    "start_time": "2022-01-24T15:13:28.039Z"
   },
   {
    "duration": 6,
    "start_time": "2022-01-24T15:13:28.050Z"
   },
   {
    "duration": 8,
    "start_time": "2022-01-24T15:13:28.059Z"
   },
   {
    "duration": 58,
    "start_time": "2022-01-24T15:13:28.069Z"
   },
   {
    "duration": 31,
    "start_time": "2022-01-24T15:13:28.130Z"
   },
   {
    "duration": 28,
    "start_time": "2022-01-24T15:13:28.164Z"
   },
   {
    "duration": 81,
    "start_time": "2022-01-24T15:13:28.194Z"
   },
   {
    "duration": 1313,
    "start_time": "2022-01-24T15:13:28.278Z"
   },
   {
    "duration": 40,
    "start_time": "2022-01-24T15:13:29.554Z"
   },
   {
    "duration": 40,
    "start_time": "2022-01-24T15:13:29.556Z"
   },
   {
    "duration": 42,
    "start_time": "2022-01-24T15:13:29.557Z"
   },
   {
    "duration": 42,
    "start_time": "2022-01-24T15:13:29.559Z"
   },
   {
    "duration": 1279,
    "start_time": "2022-01-24T15:14:07.883Z"
   },
   {
    "duration": 912,
    "start_time": "2022-01-24T15:15:24.011Z"
   },
   {
    "duration": 778,
    "start_time": "2022-01-24T15:15:47.143Z"
   },
   {
    "duration": 17,
    "start_time": "2022-01-24T15:15:47.924Z"
   },
   {
    "duration": 9,
    "start_time": "2022-01-24T15:15:47.945Z"
   },
   {
    "duration": 9,
    "start_time": "2022-01-24T15:15:47.957Z"
   },
   {
    "duration": 9,
    "start_time": "2022-01-24T15:15:47.968Z"
   },
   {
    "duration": 52,
    "start_time": "2022-01-24T15:15:47.980Z"
   },
   {
    "duration": 21,
    "start_time": "2022-01-24T15:15:48.035Z"
   },
   {
    "duration": 14,
    "start_time": "2022-01-24T15:15:48.059Z"
   },
   {
    "duration": 51,
    "start_time": "2022-01-24T15:15:48.078Z"
   },
   {
    "duration": 11,
    "start_time": "2022-01-24T15:15:48.134Z"
   },
   {
    "duration": 6,
    "start_time": "2022-01-24T15:15:48.148Z"
   },
   {
    "duration": 22,
    "start_time": "2022-01-24T15:15:48.156Z"
   },
   {
    "duration": 53,
    "start_time": "2022-01-24T15:15:48.180Z"
   },
   {
    "duration": 7,
    "start_time": "2022-01-24T15:15:48.236Z"
   },
   {
    "duration": 8,
    "start_time": "2022-01-24T15:15:48.246Z"
   },
   {
    "duration": 8,
    "start_time": "2022-01-24T15:15:48.256Z"
   },
   {
    "duration": 9,
    "start_time": "2022-01-24T15:15:48.266Z"
   },
   {
    "duration": 61,
    "start_time": "2022-01-24T15:15:48.277Z"
   },
   {
    "duration": 23,
    "start_time": "2022-01-24T15:15:48.341Z"
   },
   {
    "duration": 25,
    "start_time": "2022-01-24T15:15:48.366Z"
   },
   {
    "duration": 48,
    "start_time": "2022-01-24T15:15:48.423Z"
   },
   {
    "duration": 910,
    "start_time": "2022-01-24T15:15:48.473Z"
   },
   {
    "duration": 387,
    "start_time": "2022-01-24T15:15:49.386Z"
   },
   {
    "duration": 37,
    "start_time": "2022-01-24T15:15:49.738Z"
   },
   {
    "duration": 30,
    "start_time": "2022-01-24T15:15:49.747Z"
   },
   {
    "duration": 29,
    "start_time": "2022-01-24T15:15:49.749Z"
   },
   {
    "duration": 912,
    "start_time": "2022-01-24T15:16:06.495Z"
   },
   {
    "duration": 106,
    "start_time": "2022-01-24T15:17:55.967Z"
   },
   {
    "duration": 1196,
    "start_time": "2022-01-24T15:18:00.456Z"
   },
   {
    "duration": 2979,
    "start_time": "2022-01-24T15:19:50.678Z"
   },
   {
    "duration": 838,
    "start_time": "2022-01-24T15:20:47.811Z"
   },
   {
    "duration": 16,
    "start_time": "2022-01-24T15:20:48.652Z"
   },
   {
    "duration": 10,
    "start_time": "2022-01-24T15:20:48.672Z"
   },
   {
    "duration": 45,
    "start_time": "2022-01-24T15:20:48.685Z"
   },
   {
    "duration": 13,
    "start_time": "2022-01-24T15:20:48.733Z"
   },
   {
    "duration": 9,
    "start_time": "2022-01-24T15:20:48.749Z"
   },
   {
    "duration": 11,
    "start_time": "2022-01-24T15:20:48.760Z"
   },
   {
    "duration": 52,
    "start_time": "2022-01-24T15:20:48.773Z"
   },
   {
    "duration": 23,
    "start_time": "2022-01-24T15:20:48.830Z"
   },
   {
    "duration": 10,
    "start_time": "2022-01-24T15:20:48.857Z"
   },
   {
    "duration": 7,
    "start_time": "2022-01-24T15:20:48.869Z"
   },
   {
    "duration": 30,
    "start_time": "2022-01-24T15:20:48.923Z"
   },
   {
    "duration": 10,
    "start_time": "2022-01-24T15:20:48.956Z"
   },
   {
    "duration": 5,
    "start_time": "2022-01-24T15:20:48.968Z"
   },
   {
    "duration": 6,
    "start_time": "2022-01-24T15:20:48.976Z"
   },
   {
    "duration": 45,
    "start_time": "2022-01-24T15:20:48.984Z"
   },
   {
    "duration": 16,
    "start_time": "2022-01-24T15:20:49.032Z"
   },
   {
    "duration": 14,
    "start_time": "2022-01-24T15:20:49.050Z"
   },
   {
    "duration": 22,
    "start_time": "2022-01-24T15:20:49.067Z"
   },
   {
    "duration": 34,
    "start_time": "2022-01-24T15:20:49.124Z"
   },
   {
    "duration": 73,
    "start_time": "2022-01-24T15:20:49.160Z"
   },
   {
    "duration": 1250,
    "start_time": "2022-01-24T15:20:49.236Z"
   },
   {
    "duration": 39,
    "start_time": "2022-01-24T15:20:50.450Z"
   },
   {
    "duration": 36,
    "start_time": "2022-01-24T15:20:50.454Z"
   },
   {
    "duration": 36,
    "start_time": "2022-01-24T15:20:50.455Z"
   },
   {
    "duration": 36,
    "start_time": "2022-01-24T15:20:50.457Z"
   },
   {
    "duration": 926,
    "start_time": "2022-01-24T15:21:16.363Z"
   },
   {
    "duration": 1185,
    "start_time": "2022-01-24T15:24:08.627Z"
   },
   {
    "duration": 8312,
    "start_time": "2022-01-24T15:25:52.864Z"
   },
   {
    "duration": 1213,
    "start_time": "2022-01-24T15:26:32.804Z"
   },
   {
    "duration": 935,
    "start_time": "2022-01-24T15:26:53.204Z"
   },
   {
    "duration": 1226,
    "start_time": "2022-01-24T15:27:32.106Z"
   },
   {
    "duration": 94,
    "start_time": "2022-01-24T15:31:36.439Z"
   },
   {
    "duration": 1222,
    "start_time": "2022-01-24T15:31:48.653Z"
   },
   {
    "duration": 1188,
    "start_time": "2022-01-24T15:32:12.293Z"
   },
   {
    "duration": 92,
    "start_time": "2022-01-24T15:33:17.966Z"
   },
   {
    "duration": 1282,
    "start_time": "2022-01-24T15:33:28.571Z"
   },
   {
    "duration": 1307,
    "start_time": "2022-01-24T15:41:16.519Z"
   },
   {
    "duration": 802,
    "start_time": "2022-01-24T15:41:38.143Z"
   },
   {
    "duration": 17,
    "start_time": "2022-01-24T15:41:38.948Z"
   },
   {
    "duration": 11,
    "start_time": "2022-01-24T15:41:38.968Z"
   },
   {
    "duration": 42,
    "start_time": "2022-01-24T15:41:38.983Z"
   },
   {
    "duration": 14,
    "start_time": "2022-01-24T15:41:39.028Z"
   },
   {
    "duration": 11,
    "start_time": "2022-01-24T15:41:39.044Z"
   },
   {
    "duration": 15,
    "start_time": "2022-01-24T15:41:39.057Z"
   },
   {
    "duration": 10,
    "start_time": "2022-01-24T15:41:39.076Z"
   },
   {
    "duration": 57,
    "start_time": "2022-01-24T15:41:39.088Z"
   },
   {
    "duration": 9,
    "start_time": "2022-01-24T15:41:39.147Z"
   },
   {
    "duration": 8,
    "start_time": "2022-01-24T15:41:39.158Z"
   },
   {
    "duration": 75,
    "start_time": "2022-01-24T15:41:39.169Z"
   },
   {
    "duration": 11,
    "start_time": "2022-01-24T15:41:39.247Z"
   },
   {
    "duration": 7,
    "start_time": "2022-01-24T15:41:39.261Z"
   },
   {
    "duration": 9,
    "start_time": "2022-01-24T15:41:39.270Z"
   },
   {
    "duration": 48,
    "start_time": "2022-01-24T15:41:39.281Z"
   },
   {
    "duration": 19,
    "start_time": "2022-01-24T15:41:39.332Z"
   },
   {
    "duration": 16,
    "start_time": "2022-01-24T15:41:39.354Z"
   },
   {
    "duration": 54,
    "start_time": "2022-01-24T15:41:39.372Z"
   },
   {
    "duration": 37,
    "start_time": "2022-01-24T15:41:39.428Z"
   },
   {
    "duration": 59,
    "start_time": "2022-01-24T15:41:39.467Z"
   },
   {
    "duration": 1323,
    "start_time": "2022-01-24T15:41:39.529Z"
   },
   {
    "duration": 56,
    "start_time": "2022-01-24T15:41:40.800Z"
   },
   {
    "duration": 56,
    "start_time": "2022-01-24T15:41:40.801Z"
   },
   {
    "duration": 54,
    "start_time": "2022-01-24T15:41:40.805Z"
   },
   {
    "duration": 53,
    "start_time": "2022-01-24T15:41:40.807Z"
   },
   {
    "duration": 960,
    "start_time": "2022-01-24T15:42:08.187Z"
   },
   {
    "duration": 1119,
    "start_time": "2022-01-24T15:42:23.444Z"
   },
   {
    "duration": 1214,
    "start_time": "2022-01-24T15:44:59.918Z"
   },
   {
    "duration": 1472,
    "start_time": "2022-01-24T15:45:17.940Z"
   },
   {
    "duration": 1186,
    "start_time": "2022-01-24T15:46:04.490Z"
   },
   {
    "duration": 1015,
    "start_time": "2022-01-24T15:46:17.397Z"
   },
   {
    "duration": 1335,
    "start_time": "2022-01-24T15:50:00.870Z"
   },
   {
    "duration": 938,
    "start_time": "2022-01-24T15:52:28.138Z"
   },
   {
    "duration": 926,
    "start_time": "2022-01-24T15:52:56.168Z"
   },
   {
    "duration": 876,
    "start_time": "2022-01-24T15:53:10.444Z"
   },
   {
    "duration": 20,
    "start_time": "2022-01-24T15:53:11.324Z"
   },
   {
    "duration": 18,
    "start_time": "2022-01-24T15:53:11.348Z"
   },
   {
    "duration": 31,
    "start_time": "2022-01-24T15:53:11.369Z"
   },
   {
    "duration": 22,
    "start_time": "2022-01-24T15:53:11.403Z"
   },
   {
    "duration": 33,
    "start_time": "2022-01-24T15:53:11.428Z"
   },
   {
    "duration": 10,
    "start_time": "2022-01-24T15:53:11.463Z"
   },
   {
    "duration": 23,
    "start_time": "2022-01-24T15:53:11.476Z"
   },
   {
    "duration": 22,
    "start_time": "2022-01-24T15:53:11.502Z"
   },
   {
    "duration": 12,
    "start_time": "2022-01-24T15:53:11.527Z"
   },
   {
    "duration": 15,
    "start_time": "2022-01-24T15:53:11.542Z"
   },
   {
    "duration": 34,
    "start_time": "2022-01-24T15:53:11.560Z"
   },
   {
    "duration": 19,
    "start_time": "2022-01-24T15:53:11.596Z"
   },
   {
    "duration": 7,
    "start_time": "2022-01-24T15:53:11.624Z"
   },
   {
    "duration": 25,
    "start_time": "2022-01-24T15:53:11.633Z"
   },
   {
    "duration": 14,
    "start_time": "2022-01-24T15:53:11.660Z"
   },
   {
    "duration": 21,
    "start_time": "2022-01-24T15:53:11.676Z"
   },
   {
    "duration": 33,
    "start_time": "2022-01-24T15:53:11.700Z"
   },
   {
    "duration": 23,
    "start_time": "2022-01-24T15:53:11.737Z"
   },
   {
    "duration": 28,
    "start_time": "2022-01-24T15:53:11.762Z"
   },
   {
    "duration": 73,
    "start_time": "2022-01-24T15:53:11.792Z"
   },
   {
    "duration": 945,
    "start_time": "2022-01-24T15:53:11.868Z"
   },
   {
    "duration": 24,
    "start_time": "2022-01-24T15:53:12.817Z"
   },
   {
    "duration": 3,
    "start_time": "2022-01-24T15:53:12.844Z"
   },
   {
    "duration": 41,
    "start_time": "2022-01-24T15:53:12.850Z"
   },
   {
    "duration": 395,
    "start_time": "2022-01-24T15:53:12.893Z"
   },
   {
    "duration": 1016,
    "start_time": "2022-01-24T15:53:28.714Z"
   },
   {
    "duration": 922,
    "start_time": "2022-01-24T15:54:04.687Z"
   },
   {
    "duration": 939,
    "start_time": "2022-01-24T15:54:19.121Z"
   },
   {
    "duration": 972,
    "start_time": "2022-01-24T15:54:28.192Z"
   },
   {
    "duration": 931,
    "start_time": "2022-01-24T15:54:48.425Z"
   },
   {
    "duration": 912,
    "start_time": "2022-01-24T15:55:17.059Z"
   },
   {
    "duration": 967,
    "start_time": "2022-01-24T15:55:40.618Z"
   },
   {
    "duration": 6,
    "start_time": "2022-01-24T15:59:06.978Z"
   },
   {
    "duration": 22,
    "start_time": "2022-01-24T15:59:20.279Z"
   },
   {
    "duration": 334,
    "start_time": "2022-01-24T16:02:28.491Z"
   },
   {
    "duration": 6,
    "start_time": "2022-01-24T16:03:02.766Z"
   },
   {
    "duration": 27,
    "start_time": "2022-01-24T16:03:16.327Z"
   },
   {
    "duration": 288,
    "start_time": "2022-01-24T16:04:34.716Z"
   },
   {
    "duration": 344,
    "start_time": "2022-01-24T16:07:49.262Z"
   },
   {
    "duration": 305,
    "start_time": "2022-01-24T16:11:14.357Z"
   },
   {
    "duration": 304,
    "start_time": "2022-01-24T16:11:32.829Z"
   },
   {
    "duration": 131,
    "start_time": "2022-01-24T16:17:52.295Z"
   },
   {
    "duration": 104,
    "start_time": "2022-01-24T16:18:33.040Z"
   },
   {
    "duration": 92,
    "start_time": "2022-01-24T16:18:47.721Z"
   },
   {
    "duration": 100,
    "start_time": "2022-01-24T16:19:03.967Z"
   },
   {
    "duration": 93,
    "start_time": "2022-01-24T16:19:22.840Z"
   },
   {
    "duration": 87,
    "start_time": "2022-01-24T16:19:56.989Z"
   },
   {
    "duration": 88,
    "start_time": "2022-01-24T16:20:26.383Z"
   },
   {
    "duration": 12,
    "start_time": "2022-01-24T16:21:02.465Z"
   },
   {
    "duration": 24,
    "start_time": "2022-01-24T16:21:31.448Z"
   },
   {
    "duration": 20,
    "start_time": "2022-01-24T16:21:51.570Z"
   },
   {
    "duration": 3076,
    "start_time": "2022-01-24T16:22:25.001Z"
   },
   {
    "duration": 3264,
    "start_time": "2022-01-24T16:22:58.970Z"
   },
   {
    "duration": 3227,
    "start_time": "2022-01-24T16:29:25.277Z"
   },
   {
    "duration": 349,
    "start_time": "2022-01-24T16:36:08.872Z"
   },
   {
    "duration": 4,
    "start_time": "2022-01-24T16:37:03.511Z"
   },
   {
    "duration": 13,
    "start_time": "2022-01-24T16:37:22.825Z"
   },
   {
    "duration": 3,
    "start_time": "2022-01-24T18:30:36.384Z"
   },
   {
    "duration": 6,
    "start_time": "2022-01-24T18:31:05.865Z"
   },
   {
    "duration": 106,
    "start_time": "2022-01-24T18:40:48.950Z"
   },
   {
    "duration": 960,
    "start_time": "2022-01-24T18:40:57.922Z"
   },
   {
    "duration": 1036,
    "start_time": "2022-01-24T18:41:35.555Z"
   },
   {
    "duration": 27,
    "start_time": "2022-01-24T18:41:58.611Z"
   },
   {
    "duration": 24,
    "start_time": "2022-01-24T18:42:07.677Z"
   },
   {
    "duration": 1059,
    "start_time": "2022-01-24T18:42:24.857Z"
   },
   {
    "duration": 23,
    "start_time": "2022-01-24T18:42:25.919Z"
   },
   {
    "duration": 121,
    "start_time": "2022-01-24T18:42:25.945Z"
   },
   {
    "duration": 43,
    "start_time": "2022-01-24T18:42:26.070Z"
   },
   {
    "duration": 26,
    "start_time": "2022-01-24T18:42:26.116Z"
   },
   {
    "duration": 27,
    "start_time": "2022-01-24T18:42:26.149Z"
   },
   {
    "duration": 16,
    "start_time": "2022-01-24T18:42:26.179Z"
   },
   {
    "duration": 16,
    "start_time": "2022-01-24T18:42:26.197Z"
   },
   {
    "duration": 79,
    "start_time": "2022-01-24T18:42:26.217Z"
   },
   {
    "duration": 11,
    "start_time": "2022-01-24T18:42:26.301Z"
   },
   {
    "duration": 57,
    "start_time": "2022-01-24T18:42:26.316Z"
   },
   {
    "duration": 49,
    "start_time": "2022-01-24T18:42:26.377Z"
   },
   {
    "duration": 12,
    "start_time": "2022-01-24T18:42:26.429Z"
   },
   {
    "duration": 39,
    "start_time": "2022-01-24T18:42:26.445Z"
   },
   {
    "duration": 6,
    "start_time": "2022-01-24T18:42:26.487Z"
   },
   {
    "duration": 8,
    "start_time": "2022-01-24T18:42:26.496Z"
   },
   {
    "duration": 37,
    "start_time": "2022-01-24T18:42:26.506Z"
   },
   {
    "duration": 35,
    "start_time": "2022-01-24T18:42:26.550Z"
   },
   {
    "duration": 37,
    "start_time": "2022-01-24T18:42:26.587Z"
   },
   {
    "duration": 39,
    "start_time": "2022-01-24T18:42:26.627Z"
   },
   {
    "duration": 85,
    "start_time": "2022-01-24T18:42:26.670Z"
   },
   {
    "duration": 8,
    "start_time": "2022-01-24T18:42:26.758Z"
   },
   {
    "duration": 3982,
    "start_time": "2022-01-24T18:42:26.769Z"
   },
   {
    "duration": 4,
    "start_time": "2022-01-24T18:42:30.753Z"
   },
   {
    "duration": 25,
    "start_time": "2022-01-24T18:42:30.760Z"
   },
   {
    "duration": 12,
    "start_time": "2022-01-24T18:42:30.787Z"
   },
   {
    "duration": 4,
    "start_time": "2022-01-24T18:42:30.804Z"
   },
   {
    "duration": 35,
    "start_time": "2022-01-24T18:42:30.811Z"
   },
   {
    "duration": 931,
    "start_time": "2022-01-24T18:42:53.076Z"
   },
   {
    "duration": 99,
    "start_time": "2022-01-24T18:58:34.419Z"
   },
   {
    "duration": 25,
    "start_time": "2022-01-24T18:58:43.024Z"
   },
   {
    "duration": 867,
    "start_time": "2022-01-24T19:07:49.258Z"
   },
   {
    "duration": 835,
    "start_time": "2022-01-24T19:08:28.843Z"
   },
   {
    "duration": 887,
    "start_time": "2022-01-24T19:12:58.051Z"
   },
   {
    "duration": 129,
    "start_time": "2022-01-24T19:14:33.369Z"
   },
   {
    "duration": 6365,
    "start_time": "2022-01-24T19:14:45.487Z"
   },
   {
    "duration": 3950,
    "start_time": "2022-01-24T19:15:43.381Z"
   },
   {
    "duration": 4011,
    "start_time": "2022-01-24T19:17:30.317Z"
   },
   {
    "duration": 97,
    "start_time": "2022-01-24T19:21:12.159Z"
   },
   {
    "duration": 458,
    "start_time": "2022-01-24T19:21:28.651Z"
   },
   {
    "duration": 461,
    "start_time": "2022-01-24T19:21:46.355Z"
   },
   {
    "duration": 6846,
    "start_time": "2022-01-24T19:23:32.327Z"
   },
   {
    "duration": 7202,
    "start_time": "2022-01-24T19:23:59.342Z"
   },
   {
    "duration": 743,
    "start_time": "2022-01-24T19:25:00.957Z"
   },
   {
    "duration": 14,
    "start_time": "2022-01-24T19:25:01.702Z"
   },
   {
    "duration": 9,
    "start_time": "2022-01-24T19:25:01.723Z"
   },
   {
    "duration": 15,
    "start_time": "2022-01-24T19:25:01.734Z"
   },
   {
    "duration": 17,
    "start_time": "2022-01-24T19:25:01.751Z"
   },
   {
    "duration": 9,
    "start_time": "2022-01-24T19:25:01.771Z"
   },
   {
    "duration": 11,
    "start_time": "2022-01-24T19:25:01.782Z"
   },
   {
    "duration": 32,
    "start_time": "2022-01-24T19:25:01.797Z"
   },
   {
    "duration": 20,
    "start_time": "2022-01-24T19:25:01.832Z"
   },
   {
    "duration": 7,
    "start_time": "2022-01-24T19:25:01.854Z"
   },
   {
    "duration": 9,
    "start_time": "2022-01-24T19:25:01.864Z"
   },
   {
    "duration": 60,
    "start_time": "2022-01-24T19:25:01.876Z"
   },
   {
    "duration": 10,
    "start_time": "2022-01-24T19:25:01.938Z"
   },
   {
    "duration": 6,
    "start_time": "2022-01-24T19:25:01.951Z"
   },
   {
    "duration": 16,
    "start_time": "2022-01-24T19:25:01.960Z"
   },
   {
    "duration": 14,
    "start_time": "2022-01-24T19:25:01.979Z"
   },
   {
    "duration": 9,
    "start_time": "2022-01-24T19:25:02.024Z"
   },
   {
    "duration": 13,
    "start_time": "2022-01-24T19:25:02.036Z"
   },
   {
    "duration": 23,
    "start_time": "2022-01-24T19:25:02.051Z"
   },
   {
    "duration": 63,
    "start_time": "2022-01-24T19:25:02.077Z"
   },
   {
    "duration": 42,
    "start_time": "2022-01-24T19:25:02.142Z"
   },
   {
    "duration": 3,
    "start_time": "2022-01-24T19:25:02.187Z"
   },
   {
    "duration": 3045,
    "start_time": "2022-01-24T19:25:02.195Z"
   },
   {
    "duration": 4,
    "start_time": "2022-01-24T19:25:05.242Z"
   },
   {
    "duration": 9,
    "start_time": "2022-01-24T19:25:05.248Z"
   },
   {
    "duration": 6,
    "start_time": "2022-01-24T19:25:05.259Z"
   },
   {
    "duration": 5,
    "start_time": "2022-01-24T19:25:05.268Z"
   },
   {
    "duration": 7181,
    "start_time": "2022-01-24T19:25:05.275Z"
   },
   {
    "duration": 17,
    "start_time": "2022-01-24T19:25:27.708Z"
   },
   {
    "duration": 100,
    "start_time": "2022-01-24T19:26:28.921Z"
   },
   {
    "duration": 6,
    "start_time": "2022-01-24T19:26:52.266Z"
   },
   {
    "duration": 444,
    "start_time": "2022-01-24T19:27:24.314Z"
   },
   {
    "duration": 84,
    "start_time": "2022-01-24T19:27:54.361Z"
   },
   {
    "duration": 504,
    "start_time": "2022-01-24T19:28:03.058Z"
   },
   {
    "duration": 451,
    "start_time": "2022-01-24T19:28:13.178Z"
   },
   {
    "duration": 423,
    "start_time": "2022-01-24T19:29:51.755Z"
   },
   {
    "duration": 4,
    "start_time": "2022-01-24T19:32:04.460Z"
   },
   {
    "duration": 5,
    "start_time": "2022-01-24T19:32:57.684Z"
   },
   {
    "duration": 4,
    "start_time": "2022-01-24T19:33:06.060Z"
   },
   {
    "duration": 467,
    "start_time": "2022-01-24T19:33:21.625Z"
   },
   {
    "duration": 526,
    "start_time": "2022-01-24T19:35:47.575Z"
   },
   {
    "duration": 91,
    "start_time": "2022-01-24T19:36:01.711Z"
   },
   {
    "duration": 30,
    "start_time": "2022-01-24T19:36:07.535Z"
   },
   {
    "duration": 34,
    "start_time": "2022-01-24T19:36:43.364Z"
   },
   {
    "duration": 32,
    "start_time": "2022-01-24T19:41:46.640Z"
   },
   {
    "duration": 33,
    "start_time": "2022-01-24T19:42:15.513Z"
   },
   {
    "duration": 30,
    "start_time": "2022-01-24T19:43:09.051Z"
   },
   {
    "duration": 35,
    "start_time": "2022-01-24T19:43:23.354Z"
   },
   {
    "duration": 10,
    "start_time": "2022-01-24T19:45:01.353Z"
   },
   {
    "duration": 33,
    "start_time": "2022-01-24T19:53:44.221Z"
   },
   {
    "duration": 31,
    "start_time": "2022-01-24T19:54:37.486Z"
   },
   {
    "duration": 11,
    "start_time": "2022-01-24T20:27:38.334Z"
   },
   {
    "duration": 7355,
    "start_time": "2022-01-24T20:45:52.833Z"
   },
   {
    "duration": 9,
    "start_time": "2022-01-24T20:46:23.559Z"
   },
   {
    "duration": 8,
    "start_time": "2022-01-24T20:48:01.453Z"
   },
   {
    "duration": 9,
    "start_time": "2022-01-24T20:48:18.782Z"
   },
   {
    "duration": 10,
    "start_time": "2022-01-24T20:48:26.607Z"
   },
   {
    "duration": 12,
    "start_time": "2022-01-24T20:49:03.622Z"
   },
   {
    "duration": 102,
    "start_time": "2022-01-24T20:55:19.704Z"
   },
   {
    "duration": 42,
    "start_time": "2022-01-24T20:55:28.138Z"
   },
   {
    "duration": 27,
    "start_time": "2022-01-24T20:55:44.160Z"
   },
   {
    "duration": 17,
    "start_time": "2022-01-24T20:55:59.466Z"
   },
   {
    "duration": 102,
    "start_time": "2022-01-24T20:57:27.403Z"
   },
   {
    "duration": 94,
    "start_time": "2022-01-24T20:57:47.962Z"
   },
   {
    "duration": 18,
    "start_time": "2022-01-24T20:57:53.844Z"
   },
   {
    "duration": 96,
    "start_time": "2022-01-24T21:00:07.114Z"
   },
   {
    "duration": 84,
    "start_time": "2022-01-24T21:00:19.789Z"
   },
   {
    "duration": 113,
    "start_time": "2022-01-24T21:01:04.666Z"
   },
   {
    "duration": 101,
    "start_time": "2022-01-24T21:01:14.626Z"
   },
   {
    "duration": 100,
    "start_time": "2022-01-24T21:01:31.188Z"
   },
   {
    "duration": 91,
    "start_time": "2022-01-24T21:01:42.724Z"
   },
   {
    "duration": 13,
    "start_time": "2022-01-24T21:01:52.395Z"
   },
   {
    "duration": 15,
    "start_time": "2022-01-24T21:02:05.092Z"
   },
   {
    "duration": 16,
    "start_time": "2022-01-24T21:02:37.756Z"
   },
   {
    "duration": 18,
    "start_time": "2022-01-24T21:04:07.107Z"
   },
   {
    "duration": 146,
    "start_time": "2022-01-24T21:06:41.299Z"
   },
   {
    "duration": 96,
    "start_time": "2022-01-24T21:06:55.773Z"
   },
   {
    "duration": 17,
    "start_time": "2022-01-24T21:07:11.391Z"
   },
   {
    "duration": 19,
    "start_time": "2022-01-24T21:21:33.691Z"
   },
   {
    "duration": 19,
    "start_time": "2022-01-24T21:22:00.457Z"
   },
   {
    "duration": 24,
    "start_time": "2022-01-24T21:22:14.979Z"
   },
   {
    "duration": 22,
    "start_time": "2022-01-24T21:23:54.943Z"
   },
   {
    "duration": 19,
    "start_time": "2022-01-24T21:24:10.384Z"
   },
   {
    "duration": 18,
    "start_time": "2022-01-24T21:25:39.541Z"
   },
   {
    "duration": 17,
    "start_time": "2022-01-24T21:26:27.390Z"
   },
   {
    "duration": 286,
    "start_time": "2022-01-24T21:28:08.460Z"
   },
   {
    "duration": 25,
    "start_time": "2022-01-24T21:28:19.742Z"
   },
   {
    "duration": 5266,
    "start_time": "2022-01-24T21:31:12.960Z"
   },
   {
    "duration": 183,
    "start_time": "2022-01-24T21:31:32.172Z"
   },
   {
    "duration": 822,
    "start_time": "2022-01-24T21:31:39.418Z"
   },
   {
    "duration": 14,
    "start_time": "2022-01-24T21:31:40.242Z"
   },
   {
    "duration": 9,
    "start_time": "2022-01-24T21:31:40.259Z"
   },
   {
    "duration": 13,
    "start_time": "2022-01-24T21:31:40.271Z"
   },
   {
    "duration": 42,
    "start_time": "2022-01-24T21:31:40.286Z"
   },
   {
    "duration": 16,
    "start_time": "2022-01-24T21:31:40.331Z"
   },
   {
    "duration": 9,
    "start_time": "2022-01-24T21:31:40.350Z"
   },
   {
    "duration": 9,
    "start_time": "2022-01-24T21:31:40.363Z"
   },
   {
    "duration": 61,
    "start_time": "2022-01-24T21:31:40.376Z"
   },
   {
    "duration": 12,
    "start_time": "2022-01-24T21:31:40.439Z"
   },
   {
    "duration": 8,
    "start_time": "2022-01-24T21:31:40.454Z"
   },
   {
    "duration": 62,
    "start_time": "2022-01-24T21:31:40.464Z"
   },
   {
    "duration": 9,
    "start_time": "2022-01-24T21:31:40.529Z"
   },
   {
    "duration": 5,
    "start_time": "2022-01-24T21:31:40.540Z"
   },
   {
    "duration": 6,
    "start_time": "2022-01-24T21:31:40.548Z"
   },
   {
    "duration": 7,
    "start_time": "2022-01-24T21:31:40.556Z"
   },
   {
    "duration": 58,
    "start_time": "2022-01-24T21:31:40.565Z"
   },
   {
    "duration": 13,
    "start_time": "2022-01-24T21:31:40.626Z"
   },
   {
    "duration": 10,
    "start_time": "2022-01-24T21:31:40.642Z"
   },
   {
    "duration": 22,
    "start_time": "2022-01-24T21:31:40.654Z"
   },
   {
    "duration": 63,
    "start_time": "2022-01-24T21:31:40.679Z"
   },
   {
    "duration": 43,
    "start_time": "2022-01-24T21:31:40.744Z"
   },
   {
    "duration": 3,
    "start_time": "2022-01-24T21:31:40.791Z"
   },
   {
    "duration": 3085,
    "start_time": "2022-01-24T21:31:40.824Z"
   },
   {
    "duration": 11,
    "start_time": "2022-01-24T21:31:43.912Z"
   },
   {
    "duration": 7,
    "start_time": "2022-01-24T21:31:43.926Z"
   },
   {
    "duration": 4,
    "start_time": "2022-01-24T21:31:43.935Z"
   },
   {
    "duration": 5,
    "start_time": "2022-01-24T21:31:43.942Z"
   },
   {
    "duration": 41,
    "start_time": "2022-01-24T21:31:43.950Z"
   },
   {
    "duration": 64,
    "start_time": "2022-01-24T21:31:43.994Z"
   },
   {
    "duration": 23,
    "start_time": "2022-01-24T21:31:44.061Z"
   },
   {
    "duration": 5255,
    "start_time": "2022-01-24T21:31:44.087Z"
   },
   {
    "duration": 5463,
    "start_time": "2022-01-24T21:32:49.192Z"
   },
   {
    "duration": 43,
    "start_time": "2022-01-24T21:34:35.855Z"
   },
   {
    "duration": 25,
    "start_time": "2022-01-24T21:38:30.819Z"
   },
   {
    "duration": 5282,
    "start_time": "2022-01-24T21:40:52.409Z"
   },
   {
    "duration": 200,
    "start_time": "2022-01-24T21:41:08.916Z"
   },
   {
    "duration": 5163,
    "start_time": "2022-01-24T21:43:16.483Z"
   },
   {
    "duration": 34,
    "start_time": "2022-01-24T21:43:28.618Z"
   },
   {
    "duration": 30,
    "start_time": "2022-01-24T21:43:47.371Z"
   },
   {
    "duration": 173,
    "start_time": "2022-01-24T21:44:48.532Z"
   },
   {
    "duration": 29,
    "start_time": "2022-01-24T21:45:03.188Z"
   },
   {
    "duration": 27,
    "start_time": "2022-01-24T21:45:41.554Z"
   },
   {
    "duration": 32,
    "start_time": "2022-01-24T21:46:23.820Z"
   },
   {
    "duration": 357,
    "start_time": "2022-01-24T21:48:48.845Z"
   },
   {
    "duration": 293,
    "start_time": "2022-01-24T21:50:26.630Z"
   },
   {
    "duration": 29,
    "start_time": "2022-01-24T21:55:33.728Z"
   },
   {
    "duration": 29,
    "start_time": "2022-01-24T22:01:23.562Z"
   },
   {
    "duration": 33,
    "start_time": "2022-01-24T22:01:56.792Z"
   },
   {
    "duration": 785,
    "start_time": "2022-01-24T22:04:22.858Z"
   },
   {
    "duration": 299,
    "start_time": "2022-01-24T22:04:49.327Z"
   },
   {
    "duration": 287,
    "start_time": "2022-01-24T22:04:55.234Z"
   },
   {
    "duration": 36,
    "start_time": "2022-01-24T22:05:02.052Z"
   },
   {
    "duration": 292,
    "start_time": "2022-01-24T22:05:15.308Z"
   },
   {
    "duration": 43,
    "start_time": "2022-01-24T22:05:28.675Z"
   },
   {
    "duration": 43,
    "start_time": "2022-01-24T22:07:17.766Z"
   },
   {
    "duration": 33,
    "start_time": "2022-01-24T22:10:03.619Z"
   },
   {
    "duration": 33,
    "start_time": "2022-01-24T22:10:49.783Z"
   },
   {
    "duration": 22,
    "start_time": "2022-01-24T22:11:05.399Z"
   },
   {
    "duration": 29,
    "start_time": "2022-01-24T22:11:27.860Z"
   },
   {
    "duration": 26,
    "start_time": "2022-01-24T22:12:34.671Z"
   },
   {
    "duration": 30,
    "start_time": "2022-01-24T22:13:07.365Z"
   },
   {
    "duration": 30,
    "start_time": "2022-01-24T22:13:21.279Z"
   },
   {
    "duration": 30,
    "start_time": "2022-01-24T22:13:46.223Z"
   },
   {
    "duration": 30,
    "start_time": "2022-01-24T22:36:36.765Z"
   },
   {
    "duration": 29,
    "start_time": "2022-01-24T22:39:01.601Z"
   },
   {
    "duration": 30,
    "start_time": "2022-01-24T22:39:11.719Z"
   },
   {
    "duration": 350,
    "start_time": "2022-01-25T08:50:55.873Z"
   },
   {
    "duration": 879,
    "start_time": "2022-01-25T08:51:06.491Z"
   },
   {
    "duration": 14,
    "start_time": "2022-01-25T08:51:07.373Z"
   },
   {
    "duration": 9,
    "start_time": "2022-01-25T08:51:07.391Z"
   },
   {
    "duration": 28,
    "start_time": "2022-01-25T08:51:07.403Z"
   },
   {
    "duration": 9,
    "start_time": "2022-01-25T08:51:07.434Z"
   },
   {
    "duration": 12,
    "start_time": "2022-01-25T08:51:07.445Z"
   },
   {
    "duration": 10,
    "start_time": "2022-01-25T08:51:07.460Z"
   },
   {
    "duration": 51,
    "start_time": "2022-01-25T08:51:07.474Z"
   },
   {
    "duration": 23,
    "start_time": "2022-01-25T08:51:07.529Z"
   },
   {
    "duration": 9,
    "start_time": "2022-01-25T08:51:07.554Z"
   },
   {
    "duration": 7,
    "start_time": "2022-01-25T08:51:07.565Z"
   },
   {
    "duration": 68,
    "start_time": "2022-01-25T08:51:07.574Z"
   },
   {
    "duration": 11,
    "start_time": "2022-01-25T08:51:07.645Z"
   },
   {
    "duration": 11,
    "start_time": "2022-01-25T08:51:07.659Z"
   },
   {
    "duration": 10,
    "start_time": "2022-01-25T08:51:07.672Z"
   },
   {
    "duration": 45,
    "start_time": "2022-01-25T08:51:07.685Z"
   },
   {
    "duration": 18,
    "start_time": "2022-01-25T08:51:07.732Z"
   },
   {
    "duration": 24,
    "start_time": "2022-01-25T08:51:07.752Z"
   },
   {
    "duration": 30,
    "start_time": "2022-01-25T08:51:07.778Z"
   },
   {
    "duration": 36,
    "start_time": "2022-01-25T08:51:07.810Z"
   },
   {
    "duration": 47,
    "start_time": "2022-01-25T08:51:07.848Z"
   },
   {
    "duration": 48,
    "start_time": "2022-01-25T08:51:07.898Z"
   },
   {
    "duration": 2,
    "start_time": "2022-01-25T08:51:07.951Z"
   },
   {
    "duration": 3072,
    "start_time": "2022-01-25T08:51:07.956Z"
   },
   {
    "duration": 4,
    "start_time": "2022-01-25T08:51:11.031Z"
   },
   {
    "duration": 8,
    "start_time": "2022-01-25T08:51:11.037Z"
   },
   {
    "duration": 4,
    "start_time": "2022-01-25T08:51:11.048Z"
   },
   {
    "duration": 5,
    "start_time": "2022-01-25T08:51:11.054Z"
   },
   {
    "duration": 66,
    "start_time": "2022-01-25T08:51:11.062Z"
   },
   {
    "duration": 41,
    "start_time": "2022-01-25T08:51:11.130Z"
   },
   {
    "duration": 75,
    "start_time": "2022-01-25T08:51:11.173Z"
   },
   {
    "duration": 33,
    "start_time": "2022-01-25T08:51:11.251Z"
   },
   {
    "duration": 51,
    "start_time": "2022-01-25T08:51:11.286Z"
   },
   {
    "duration": 382,
    "start_time": "2022-01-25T08:51:11.339Z"
   },
   {
    "duration": 1328,
    "start_time": "2022-01-25T08:51:10.396Z"
   },
   {
    "duration": 1322,
    "start_time": "2022-01-25T08:51:10.404Z"
   },
   {
    "duration": 1317,
    "start_time": "2022-01-25T08:51:10.412Z"
   },
   {
    "duration": 36,
    "start_time": "2022-01-25T08:51:36.485Z"
   },
   {
    "duration": 33,
    "start_time": "2022-01-25T08:51:40.054Z"
   },
   {
    "duration": 38,
    "start_time": "2022-01-25T08:51:55.569Z"
   },
   {
    "duration": 35,
    "start_time": "2022-01-25T08:52:16.361Z"
   },
   {
    "duration": 986,
    "start_time": "2022-01-25T08:52:37.117Z"
   },
   {
    "duration": 14,
    "start_time": "2022-01-25T08:52:38.106Z"
   },
   {
    "duration": 10,
    "start_time": "2022-01-25T08:52:38.123Z"
   },
   {
    "duration": 14,
    "start_time": "2022-01-25T08:52:38.135Z"
   },
   {
    "duration": 14,
    "start_time": "2022-01-25T08:52:38.152Z"
   },
   {
    "duration": 12,
    "start_time": "2022-01-25T08:52:38.169Z"
   },
   {
    "duration": 45,
    "start_time": "2022-01-25T08:52:38.184Z"
   },
   {
    "duration": 11,
    "start_time": "2022-01-25T08:52:38.234Z"
   },
   {
    "duration": 24,
    "start_time": "2022-01-25T08:52:38.247Z"
   },
   {
    "duration": 10,
    "start_time": "2022-01-25T08:52:38.274Z"
   },
   {
    "duration": 8,
    "start_time": "2022-01-25T08:52:38.322Z"
   },
   {
    "duration": 26,
    "start_time": "2022-01-25T08:52:38.332Z"
   },
   {
    "duration": 12,
    "start_time": "2022-01-25T08:52:38.360Z"
   },
   {
    "duration": 7,
    "start_time": "2022-01-25T08:52:38.374Z"
   },
   {
    "duration": 47,
    "start_time": "2022-01-25T08:52:38.385Z"
   },
   {
    "duration": 5,
    "start_time": "2022-01-25T08:52:38.435Z"
   },
   {
    "duration": 11,
    "start_time": "2022-01-25T08:52:38.443Z"
   },
   {
    "duration": 13,
    "start_time": "2022-01-25T08:52:38.457Z"
   },
   {
    "duration": 52,
    "start_time": "2022-01-25T08:52:38.472Z"
   },
   {
    "duration": 26,
    "start_time": "2022-01-25T08:52:38.526Z"
   },
   {
    "duration": 27,
    "start_time": "2022-01-25T08:52:38.555Z"
   },
   {
    "duration": 79,
    "start_time": "2022-01-25T08:52:38.585Z"
   },
   {
    "duration": 3,
    "start_time": "2022-01-25T08:52:38.668Z"
   },
   {
    "duration": 3253,
    "start_time": "2022-01-25T08:52:38.673Z"
   },
   {
    "duration": 4,
    "start_time": "2022-01-25T08:52:41.929Z"
   },
   {
    "duration": 11,
    "start_time": "2022-01-25T08:52:41.935Z"
   },
   {
    "duration": 6,
    "start_time": "2022-01-25T08:52:41.949Z"
   },
   {
    "duration": 5,
    "start_time": "2022-01-25T08:52:41.958Z"
   },
   {
    "duration": 78,
    "start_time": "2022-01-25T08:52:41.965Z"
   },
   {
    "duration": 94,
    "start_time": "2022-01-25T08:52:42.046Z"
   },
   {
    "duration": 63,
    "start_time": "2022-01-25T08:52:42.143Z"
   },
   {
    "duration": 49,
    "start_time": "2022-01-25T08:52:42.208Z"
   },
   {
    "duration": 31,
    "start_time": "2022-01-25T08:52:42.260Z"
   },
   {
    "duration": 53,
    "start_time": "2022-01-25T08:52:42.294Z"
   },
   {
    "duration": 81,
    "start_time": "2022-01-25T08:52:42.350Z"
   },
   {
    "duration": 1272,
    "start_time": "2022-01-25T08:54:20.332Z"
   },
   {
    "duration": 15960,
    "start_time": "2022-01-25T08:54:42.464Z"
   },
   {
    "duration": 47,
    "start_time": "2022-01-25T08:55:59.955Z"
   },
   {
    "duration": 39,
    "start_time": "2022-01-25T08:57:31.281Z"
   },
   {
    "duration": 740,
    "start_time": "2022-01-25T08:57:47.911Z"
   },
   {
    "duration": 916,
    "start_time": "2022-01-25T08:57:58.747Z"
   },
   {
    "duration": 36,
    "start_time": "2022-01-25T08:58:18.672Z"
   },
   {
    "duration": 261,
    "start_time": "2022-01-25T09:02:45.192Z"
   },
   {
    "duration": 532,
    "start_time": "2022-01-25T09:03:26.689Z"
   },
   {
    "duration": 35,
    "start_time": "2022-01-25T09:04:06.761Z"
   },
   {
    "duration": 81,
    "start_time": "2022-01-25T09:06:16.855Z"
   },
   {
    "duration": 14,
    "start_time": "2022-01-25T09:06:16.939Z"
   },
   {
    "duration": 10,
    "start_time": "2022-01-25T09:06:16.955Z"
   },
   {
    "duration": 9,
    "start_time": "2022-01-25T09:06:16.968Z"
   },
   {
    "duration": 44,
    "start_time": "2022-01-25T09:06:16.979Z"
   },
   {
    "duration": 13,
    "start_time": "2022-01-25T09:06:17.025Z"
   },
   {
    "duration": 15,
    "start_time": "2022-01-25T09:06:17.040Z"
   },
   {
    "duration": 9,
    "start_time": "2022-01-25T09:06:17.060Z"
   },
   {
    "duration": 66,
    "start_time": "2022-01-25T09:06:17.071Z"
   },
   {
    "duration": 8,
    "start_time": "2022-01-25T09:06:17.139Z"
   },
   {
    "duration": 6,
    "start_time": "2022-01-25T09:06:17.149Z"
   },
   {
    "duration": 31,
    "start_time": "2022-01-25T09:06:17.157Z"
   },
   {
    "duration": 40,
    "start_time": "2022-01-25T09:06:17.191Z"
   },
   {
    "duration": 8,
    "start_time": "2022-01-25T09:06:17.233Z"
   },
   {
    "duration": 9,
    "start_time": "2022-01-25T09:06:17.244Z"
   },
   {
    "duration": 7,
    "start_time": "2022-01-25T09:06:17.256Z"
   },
   {
    "duration": 12,
    "start_time": "2022-01-25T09:06:17.266Z"
   },
   {
    "duration": 15,
    "start_time": "2022-01-25T09:06:17.324Z"
   },
   {
    "duration": 14,
    "start_time": "2022-01-25T09:06:17.341Z"
   },
   {
    "duration": 27,
    "start_time": "2022-01-25T09:06:17.357Z"
   },
   {
    "duration": 49,
    "start_time": "2022-01-25T09:06:17.386Z"
   },
   {
    "duration": 39,
    "start_time": "2022-01-25T09:06:17.437Z"
   },
   {
    "duration": 3,
    "start_time": "2022-01-25T09:06:17.480Z"
   },
   {
    "duration": 3459,
    "start_time": "2022-01-25T09:06:17.485Z"
   },
   {
    "duration": 3,
    "start_time": "2022-01-25T09:06:20.947Z"
   },
   {
    "duration": 6,
    "start_time": "2022-01-25T09:06:20.953Z"
   },
   {
    "duration": 4,
    "start_time": "2022-01-25T09:06:20.962Z"
   },
   {
    "duration": 6,
    "start_time": "2022-01-25T09:06:20.968Z"
   },
   {
    "duration": 76,
    "start_time": "2022-01-25T09:06:20.976Z"
   },
   {
    "duration": 51,
    "start_time": "2022-01-25T09:06:21.054Z"
   },
   {
    "duration": 70,
    "start_time": "2022-01-25T09:06:21.108Z"
   },
   {
    "duration": 54,
    "start_time": "2022-01-25T09:06:21.181Z"
   },
   {
    "duration": 31,
    "start_time": "2022-01-25T09:06:21.237Z"
   },
   {
    "duration": 781,
    "start_time": "2022-01-25T09:08:02.100Z"
   },
   {
    "duration": 14,
    "start_time": "2022-01-25T09:08:02.883Z"
   },
   {
    "duration": 9,
    "start_time": "2022-01-25T09:08:02.900Z"
   },
   {
    "duration": 8,
    "start_time": "2022-01-25T09:08:02.924Z"
   },
   {
    "duration": 10,
    "start_time": "2022-01-25T09:08:02.934Z"
   },
   {
    "duration": 14,
    "start_time": "2022-01-25T09:08:02.946Z"
   },
   {
    "duration": 13,
    "start_time": "2022-01-25T09:08:02.962Z"
   },
   {
    "duration": 49,
    "start_time": "2022-01-25T09:08:02.979Z"
   },
   {
    "duration": 18,
    "start_time": "2022-01-25T09:08:03.031Z"
   },
   {
    "duration": 8,
    "start_time": "2022-01-25T09:08:03.051Z"
   },
   {
    "duration": 8,
    "start_time": "2022-01-25T09:08:03.061Z"
   },
   {
    "duration": 67,
    "start_time": "2022-01-25T09:08:03.071Z"
   },
   {
    "duration": 11,
    "start_time": "2022-01-25T09:08:03.140Z"
   },
   {
    "duration": 5,
    "start_time": "2022-01-25T09:08:03.153Z"
   },
   {
    "duration": 13,
    "start_time": "2022-01-25T09:08:03.161Z"
   },
   {
    "duration": 8,
    "start_time": "2022-01-25T09:08:03.176Z"
   },
   {
    "duration": 42,
    "start_time": "2022-01-25T09:08:03.186Z"
   },
   {
    "duration": 15,
    "start_time": "2022-01-25T09:08:03.231Z"
   },
   {
    "duration": 12,
    "start_time": "2022-01-25T09:08:03.248Z"
   },
   {
    "duration": 22,
    "start_time": "2022-01-25T09:08:03.262Z"
   },
   {
    "duration": 23,
    "start_time": "2022-01-25T09:08:03.324Z"
   },
   {
    "duration": 39,
    "start_time": "2022-01-25T09:08:03.349Z"
   },
   {
    "duration": 3,
    "start_time": "2022-01-25T09:08:03.392Z"
   },
   {
    "duration": 2936,
    "start_time": "2022-01-25T09:08:03.423Z"
   },
   {
    "duration": 4,
    "start_time": "2022-01-25T09:08:06.362Z"
   },
   {
    "duration": 8,
    "start_time": "2022-01-25T09:08:06.368Z"
   },
   {
    "duration": 4,
    "start_time": "2022-01-25T09:08:06.378Z"
   },
   {
    "duration": 5,
    "start_time": "2022-01-25T09:08:06.384Z"
   },
   {
    "duration": 65,
    "start_time": "2022-01-25T09:08:06.391Z"
   },
   {
    "duration": 64,
    "start_time": "2022-01-25T09:08:06.459Z"
   },
   {
    "duration": 54,
    "start_time": "2022-01-25T09:08:06.526Z"
   },
   {
    "duration": 57,
    "start_time": "2022-01-25T09:08:06.582Z"
   },
   {
    "duration": 31,
    "start_time": "2022-01-25T09:08:06.641Z"
   },
   {
    "duration": 57,
    "start_time": "2022-01-25T09:08:06.674Z"
   },
   {
    "duration": 33,
    "start_time": "2022-01-25T09:08:06.733Z"
   },
   {
    "duration": 33,
    "start_time": "2022-01-25T09:08:48.700Z"
   },
   {
    "duration": 654,
    "start_time": "2022-01-25T09:09:02.704Z"
   },
   {
    "duration": 31,
    "start_time": "2022-01-25T09:09:09.831Z"
   },
   {
    "duration": 944,
    "start_time": "2022-01-25T09:09:17.543Z"
   },
   {
    "duration": 13,
    "start_time": "2022-01-25T09:09:18.490Z"
   },
   {
    "duration": 21,
    "start_time": "2022-01-25T09:09:18.507Z"
   },
   {
    "duration": 18,
    "start_time": "2022-01-25T09:09:18.531Z"
   },
   {
    "duration": 20,
    "start_time": "2022-01-25T09:09:18.551Z"
   },
   {
    "duration": 9,
    "start_time": "2022-01-25T09:09:18.574Z"
   },
   {
    "duration": 10,
    "start_time": "2022-01-25T09:09:18.586Z"
   },
   {
    "duration": 11,
    "start_time": "2022-01-25T09:09:18.623Z"
   },
   {
    "duration": 30,
    "start_time": "2022-01-25T09:09:18.639Z"
   },
   {
    "duration": 8,
    "start_time": "2022-01-25T09:09:18.672Z"
   },
   {
    "duration": 43,
    "start_time": "2022-01-25T09:09:18.683Z"
   },
   {
    "duration": 22,
    "start_time": "2022-01-25T09:09:18.729Z"
   },
   {
    "duration": 9,
    "start_time": "2022-01-25T09:09:18.753Z"
   },
   {
    "duration": 5,
    "start_time": "2022-01-25T09:09:18.765Z"
   },
   {
    "duration": 7,
    "start_time": "2022-01-25T09:09:18.772Z"
   },
   {
    "duration": 46,
    "start_time": "2022-01-25T09:09:18.782Z"
   },
   {
    "duration": 12,
    "start_time": "2022-01-25T09:09:18.831Z"
   },
   {
    "duration": 18,
    "start_time": "2022-01-25T09:09:18.846Z"
   },
   {
    "duration": 12,
    "start_time": "2022-01-25T09:09:18.866Z"
   },
   {
    "duration": 70,
    "start_time": "2022-01-25T09:09:18.880Z"
   },
   {
    "duration": 25,
    "start_time": "2022-01-25T09:09:18.952Z"
   },
   {
    "duration": 67,
    "start_time": "2022-01-25T09:09:18.980Z"
   },
   {
    "duration": 3,
    "start_time": "2022-01-25T09:09:19.050Z"
   },
   {
    "duration": 3265,
    "start_time": "2022-01-25T09:09:19.055Z"
   },
   {
    "duration": 3,
    "start_time": "2022-01-25T09:09:22.323Z"
   },
   {
    "duration": 10,
    "start_time": "2022-01-25T09:09:22.328Z"
   },
   {
    "duration": 3,
    "start_time": "2022-01-25T09:09:22.343Z"
   },
   {
    "duration": 5,
    "start_time": "2022-01-25T09:09:22.348Z"
   },
   {
    "duration": 31,
    "start_time": "2022-01-25T09:09:22.355Z"
   },
   {
    "duration": 68,
    "start_time": "2022-01-25T09:09:22.388Z"
   },
   {
    "duration": 75,
    "start_time": "2022-01-25T09:09:22.459Z"
   },
   {
    "duration": 35,
    "start_time": "2022-01-25T09:09:22.537Z"
   },
   {
    "duration": 55,
    "start_time": "2022-01-25T09:09:22.575Z"
   },
   {
    "duration": 32,
    "start_time": "2022-01-25T09:09:22.632Z"
   },
   {
    "duration": 60,
    "start_time": "2022-01-25T09:09:22.667Z"
   },
   {
    "duration": 790,
    "start_time": "2022-01-25T09:13:17.101Z"
   },
   {
    "duration": 13291,
    "start_time": "2022-01-25T09:13:49.755Z"
   },
   {
    "duration": 13191,
    "start_time": "2022-01-25T09:14:08.495Z"
   },
   {
    "duration": 63,
    "start_time": "2022-01-25T09:15:26.936Z"
   },
   {
    "duration": 67,
    "start_time": "2022-01-25T09:15:50.357Z"
   },
   {
    "duration": 13249,
    "start_time": "2022-01-25T09:15:57.524Z"
   },
   {
    "duration": 13038,
    "start_time": "2022-01-25T09:17:21.548Z"
   },
   {
    "duration": 494,
    "start_time": "2022-01-25T09:18:34.789Z"
   },
   {
    "duration": 332,
    "start_time": "2022-01-25T09:18:57.845Z"
   },
   {
    "duration": 324,
    "start_time": "2022-01-25T09:19:45.117Z"
   },
   {
    "duration": 65,
    "start_time": "2022-01-25T09:20:02.319Z"
   },
   {
    "duration": 871,
    "start_time": "2022-01-25T09:20:19.036Z"
   },
   {
    "duration": 21,
    "start_time": "2022-01-25T09:20:19.910Z"
   },
   {
    "duration": 14,
    "start_time": "2022-01-25T09:20:19.934Z"
   },
   {
    "duration": 13,
    "start_time": "2022-01-25T09:20:19.951Z"
   },
   {
    "duration": 12,
    "start_time": "2022-01-25T09:20:19.967Z"
   },
   {
    "duration": 47,
    "start_time": "2022-01-25T09:20:19.982Z"
   },
   {
    "duration": 12,
    "start_time": "2022-01-25T09:20:20.032Z"
   },
   {
    "duration": 10,
    "start_time": "2022-01-25T09:20:20.048Z"
   },
   {
    "duration": 20,
    "start_time": "2022-01-25T09:20:20.061Z"
   },
   {
    "duration": 44,
    "start_time": "2022-01-25T09:20:20.084Z"
   },
   {
    "duration": 7,
    "start_time": "2022-01-25T09:20:20.131Z"
   },
   {
    "duration": 20,
    "start_time": "2022-01-25T09:20:20.141Z"
   },
   {
    "duration": 10,
    "start_time": "2022-01-25T09:20:20.164Z"
   },
   {
    "duration": 49,
    "start_time": "2022-01-25T09:20:20.176Z"
   },
   {
    "duration": 8,
    "start_time": "2022-01-25T09:20:20.227Z"
   },
   {
    "duration": 8,
    "start_time": "2022-01-25T09:20:20.237Z"
   },
   {
    "duration": 10,
    "start_time": "2022-01-25T09:20:20.248Z"
   },
   {
    "duration": 12,
    "start_time": "2022-01-25T09:20:20.261Z"
   },
   {
    "duration": 53,
    "start_time": "2022-01-25T09:20:20.275Z"
   },
   {
    "duration": 23,
    "start_time": "2022-01-25T09:20:20.330Z"
   },
   {
    "duration": 26,
    "start_time": "2022-01-25T09:20:20.356Z"
   },
   {
    "duration": 74,
    "start_time": "2022-01-25T09:20:20.384Z"
   },
   {
    "duration": 3,
    "start_time": "2022-01-25T09:20:20.465Z"
   },
   {
    "duration": 2980,
    "start_time": "2022-01-25T09:20:20.470Z"
   },
   {
    "duration": 4,
    "start_time": "2022-01-25T09:20:23.453Z"
   },
   {
    "duration": 8,
    "start_time": "2022-01-25T09:20:23.460Z"
   },
   {
    "duration": 4,
    "start_time": "2022-01-25T09:20:23.470Z"
   },
   {
    "duration": 10,
    "start_time": "2022-01-25T09:20:23.476Z"
   },
   {
    "duration": 64,
    "start_time": "2022-01-25T09:20:23.488Z"
   },
   {
    "duration": 34,
    "start_time": "2022-01-25T09:20:23.554Z"
   },
   {
    "duration": 70,
    "start_time": "2022-01-25T09:20:23.591Z"
   },
   {
    "duration": 33,
    "start_time": "2022-01-25T09:20:23.663Z"
   },
   {
    "duration": 44,
    "start_time": "2022-01-25T09:20:23.699Z"
   },
   {
    "duration": 33,
    "start_time": "2022-01-25T09:20:23.745Z"
   },
   {
    "duration": 60,
    "start_time": "2022-01-25T09:20:23.780Z"
   },
   {
    "duration": 729,
    "start_time": "2022-01-25T09:21:42.273Z"
   },
   {
    "duration": 45,
    "start_time": "2022-01-25T09:21:57.139Z"
   },
   {
    "duration": 39,
    "start_time": "2022-01-25T09:22:19.490Z"
   },
   {
    "duration": 38,
    "start_time": "2022-01-25T09:22:50.370Z"
   },
   {
    "duration": 35,
    "start_time": "2022-01-25T09:22:57.509Z"
   },
   {
    "duration": 47,
    "start_time": "2022-01-25T09:23:20.933Z"
   },
   {
    "duration": 54,
    "start_time": "2022-01-25T09:23:28.209Z"
   },
   {
    "duration": 38,
    "start_time": "2022-01-25T09:23:54.594Z"
   },
   {
    "duration": 37,
    "start_time": "2022-01-25T09:24:13.037Z"
   },
   {
    "duration": 399,
    "start_time": "2022-01-25T09:24:25.641Z"
   },
   {
    "duration": 37,
    "start_time": "2022-01-25T09:24:35.301Z"
   },
   {
    "duration": 91,
    "start_time": "2022-01-25T09:25:22.003Z"
   },
   {
    "duration": 38,
    "start_time": "2022-01-25T09:25:32.259Z"
   },
   {
    "duration": 37,
    "start_time": "2022-01-25T09:25:53.459Z"
   },
   {
    "duration": 31,
    "start_time": "2022-01-25T09:26:07.627Z"
   },
   {
    "duration": 36,
    "start_time": "2022-01-25T09:26:24.255Z"
   },
   {
    "duration": 39,
    "start_time": "2022-01-25T09:26:29.826Z"
   },
   {
    "duration": 35,
    "start_time": "2022-01-25T09:26:42.630Z"
   },
   {
    "duration": 39,
    "start_time": "2022-01-25T09:27:57.901Z"
   },
   {
    "duration": 27,
    "start_time": "2022-01-25T09:28:15.740Z"
   },
   {
    "duration": 322,
    "start_time": "2022-01-25T09:28:51.051Z"
   },
   {
    "duration": 477,
    "start_time": "2022-01-25T09:29:31.173Z"
   },
   {
    "duration": 312,
    "start_time": "2022-01-25T09:29:38.372Z"
   },
   {
    "duration": 36,
    "start_time": "2022-01-25T09:29:53.294Z"
   },
   {
    "duration": 391,
    "start_time": "2022-01-25T09:30:33.868Z"
   },
   {
    "duration": 27,
    "start_time": "2022-01-25T09:30:42.281Z"
   },
   {
    "duration": 365,
    "start_time": "2022-01-25T09:32:34.250Z"
   },
   {
    "duration": 29,
    "start_time": "2022-01-25T09:33:00.997Z"
   },
   {
    "duration": 39,
    "start_time": "2022-01-25T09:35:34.258Z"
   },
   {
    "duration": 30,
    "start_time": "2022-01-25T09:36:09.121Z"
   },
   {
    "duration": 37,
    "start_time": "2022-01-25T09:38:50.539Z"
   },
   {
    "duration": 34,
    "start_time": "2022-01-25T09:39:03.416Z"
   },
   {
    "duration": 29,
    "start_time": "2022-01-25T09:39:47.641Z"
   },
   {
    "duration": 32,
    "start_time": "2022-01-25T09:53:32.275Z"
   },
   {
    "duration": 9,
    "start_time": "2022-01-25T09:58:32.269Z"
   },
   {
    "duration": 797,
    "start_time": "2022-01-25T09:58:43.743Z"
   },
   {
    "duration": 14,
    "start_time": "2022-01-25T09:58:44.543Z"
   },
   {
    "duration": 9,
    "start_time": "2022-01-25T09:58:44.560Z"
   },
   {
    "duration": 11,
    "start_time": "2022-01-25T09:58:44.571Z"
   },
   {
    "duration": 38,
    "start_time": "2022-01-25T09:58:44.584Z"
   },
   {
    "duration": 12,
    "start_time": "2022-01-25T09:58:44.625Z"
   },
   {
    "duration": 11,
    "start_time": "2022-01-25T09:58:44.641Z"
   },
   {
    "duration": 9,
    "start_time": "2022-01-25T09:58:44.656Z"
   },
   {
    "duration": 58,
    "start_time": "2022-01-25T09:58:44.667Z"
   },
   {
    "duration": 12,
    "start_time": "2022-01-25T09:58:44.727Z"
   },
   {
    "duration": 12,
    "start_time": "2022-01-25T09:58:44.742Z"
   },
   {
    "duration": 21,
    "start_time": "2022-01-25T09:58:44.756Z"
   },
   {
    "duration": 43,
    "start_time": "2022-01-25T09:58:44.780Z"
   },
   {
    "duration": 8,
    "start_time": "2022-01-25T09:58:44.826Z"
   },
   {
    "duration": 11,
    "start_time": "2022-01-25T09:58:44.837Z"
   },
   {
    "duration": 8,
    "start_time": "2022-01-25T09:58:44.851Z"
   },
   {
    "duration": 14,
    "start_time": "2022-01-25T09:58:44.862Z"
   },
   {
    "duration": 48,
    "start_time": "2022-01-25T09:58:44.879Z"
   },
   {
    "duration": 18,
    "start_time": "2022-01-25T09:58:44.930Z"
   },
   {
    "duration": 21,
    "start_time": "2022-01-25T09:58:44.951Z"
   },
   {
    "duration": 54,
    "start_time": "2022-01-25T09:58:44.974Z"
   },
   {
    "duration": 46,
    "start_time": "2022-01-25T09:58:45.031Z"
   },
   {
    "duration": 4,
    "start_time": "2022-01-25T09:58:45.081Z"
   },
   {
    "duration": 3163,
    "start_time": "2022-01-25T09:58:45.087Z"
   },
   {
    "duration": 5,
    "start_time": "2022-01-25T09:58:48.253Z"
   },
   {
    "duration": 8,
    "start_time": "2022-01-25T09:58:48.261Z"
   },
   {
    "duration": 5,
    "start_time": "2022-01-25T09:58:48.272Z"
   },
   {
    "duration": 6,
    "start_time": "2022-01-25T09:58:48.279Z"
   },
   {
    "duration": 71,
    "start_time": "2022-01-25T09:58:48.287Z"
   },
   {
    "duration": 33,
    "start_time": "2022-01-25T09:58:48.361Z"
   },
   {
    "duration": 83,
    "start_time": "2022-01-25T09:58:48.396Z"
   },
   {
    "duration": 51,
    "start_time": "2022-01-25T09:58:48.481Z"
   },
   {
    "duration": 33,
    "start_time": "2022-01-25T09:58:48.535Z"
   },
   {
    "duration": 782,
    "start_time": "2022-01-25T09:58:48.570Z"
   },
   {
    "duration": 35,
    "start_time": "2022-01-25T09:58:49.355Z"
   },
   {
    "duration": 25,
    "start_time": "2022-01-25T09:59:51.907Z"
   },
   {
    "duration": 13,
    "start_time": "2022-01-25T10:26:13.082Z"
   },
   {
    "duration": 76,
    "start_time": "2022-01-25T10:27:11.067Z"
   },
   {
    "duration": 14,
    "start_time": "2022-01-25T10:27:11.145Z"
   },
   {
    "duration": 8,
    "start_time": "2022-01-25T10:27:11.162Z"
   },
   {
    "duration": 16,
    "start_time": "2022-01-25T10:27:11.173Z"
   },
   {
    "duration": 33,
    "start_time": "2022-01-25T10:27:11.192Z"
   },
   {
    "duration": 18,
    "start_time": "2022-01-25T10:27:11.228Z"
   },
   {
    "duration": 14,
    "start_time": "2022-01-25T10:27:11.249Z"
   },
   {
    "duration": 12,
    "start_time": "2022-01-25T10:27:11.266Z"
   },
   {
    "duration": 58,
    "start_time": "2022-01-25T10:27:11.281Z"
   },
   {
    "duration": 9,
    "start_time": "2022-01-25T10:27:11.342Z"
   },
   {
    "duration": 21,
    "start_time": "2022-01-25T10:27:11.353Z"
   },
   {
    "duration": 51,
    "start_time": "2022-01-25T10:27:11.376Z"
   },
   {
    "duration": 13,
    "start_time": "2022-01-25T10:27:11.430Z"
   },
   {
    "duration": 5,
    "start_time": "2022-01-25T10:27:11.445Z"
   },
   {
    "duration": 6,
    "start_time": "2022-01-25T10:27:22.579Z"
   },
   {
    "duration": 792,
    "start_time": "2022-01-25T10:32:40.361Z"
   },
   {
    "duration": 14,
    "start_time": "2022-01-25T10:32:41.156Z"
   },
   {
    "duration": 9,
    "start_time": "2022-01-25T10:32:41.173Z"
   },
   {
    "duration": 12,
    "start_time": "2022-01-25T10:32:41.185Z"
   },
   {
    "duration": 11,
    "start_time": "2022-01-25T10:32:41.199Z"
   },
   {
    "duration": 13,
    "start_time": "2022-01-25T10:32:41.212Z"
   },
   {
    "duration": 30,
    "start_time": "2022-01-25T10:32:41.228Z"
   },
   {
    "duration": 11,
    "start_time": "2022-01-25T10:32:41.261Z"
   },
   {
    "duration": 21,
    "start_time": "2022-01-25T10:32:41.276Z"
   },
   {
    "duration": 7,
    "start_time": "2022-01-25T10:32:41.300Z"
   },
   {
    "duration": 24,
    "start_time": "2022-01-25T10:32:41.309Z"
   },
   {
    "duration": 23,
    "start_time": "2022-01-25T10:32:41.336Z"
   },
   {
    "duration": 9,
    "start_time": "2022-01-25T10:32:41.361Z"
   },
   {
    "duration": 5,
    "start_time": "2022-01-25T10:32:41.372Z"
   },
   {
    "duration": 8,
    "start_time": "2022-01-25T10:32:41.379Z"
   },
   {
    "duration": 6,
    "start_time": "2022-01-25T10:32:41.390Z"
   },
   {
    "duration": 55,
    "start_time": "2022-01-25T10:32:41.398Z"
   },
   {
    "duration": 14,
    "start_time": "2022-01-25T10:32:41.455Z"
   },
   {
    "duration": 14,
    "start_time": "2022-01-25T10:32:41.471Z"
   },
   {
    "duration": 7,
    "start_time": "2022-01-25T10:32:41.487Z"
   },
   {
    "duration": 36,
    "start_time": "2022-01-25T10:32:41.496Z"
   },
   {
    "duration": 37,
    "start_time": "2022-01-25T10:32:41.536Z"
   },
   {
    "duration": 41,
    "start_time": "2022-01-25T10:32:41.575Z"
   },
   {
    "duration": 5,
    "start_time": "2022-01-25T10:32:41.618Z"
   },
   {
    "duration": 3520,
    "start_time": "2022-01-25T10:32:41.625Z"
   },
   {
    "duration": 3,
    "start_time": "2022-01-25T10:32:45.148Z"
   },
   {
    "duration": 6,
    "start_time": "2022-01-25T10:32:45.156Z"
   },
   {
    "duration": 5,
    "start_time": "2022-01-25T10:32:45.165Z"
   },
   {
    "duration": 9,
    "start_time": "2022-01-25T10:32:45.172Z"
   },
   {
    "duration": 72,
    "start_time": "2022-01-25T10:32:45.183Z"
   },
   {
    "duration": 31,
    "start_time": "2022-01-25T10:32:45.257Z"
   },
   {
    "duration": 81,
    "start_time": "2022-01-25T10:32:45.290Z"
   },
   {
    "duration": 51,
    "start_time": "2022-01-25T10:32:45.374Z"
   },
   {
    "duration": 37,
    "start_time": "2022-01-25T10:32:45.428Z"
   },
   {
    "duration": 783,
    "start_time": "2022-01-25T10:32:45.467Z"
   },
   {
    "duration": 36,
    "start_time": "2022-01-25T10:32:46.253Z"
   },
   {
    "duration": 8,
    "start_time": "2022-01-25T10:34:50.803Z"
   },
   {
    "duration": 9,
    "start_time": "2022-01-25T10:35:01.635Z"
   },
   {
    "duration": 851,
    "start_time": "2022-01-25T10:35:08.631Z"
   },
   {
    "duration": 14,
    "start_time": "2022-01-25T10:35:09.484Z"
   },
   {
    "duration": 23,
    "start_time": "2022-01-25T10:35:09.501Z"
   },
   {
    "duration": 13,
    "start_time": "2022-01-25T10:35:09.528Z"
   },
   {
    "duration": 15,
    "start_time": "2022-01-25T10:35:09.543Z"
   },
   {
    "duration": 11,
    "start_time": "2022-01-25T10:35:09.561Z"
   },
   {
    "duration": 52,
    "start_time": "2022-01-25T10:35:09.575Z"
   },
   {
    "duration": 20,
    "start_time": "2022-01-25T10:35:09.632Z"
   },
   {
    "duration": 20,
    "start_time": "2022-01-25T10:35:09.655Z"
   },
   {
    "duration": 10,
    "start_time": "2022-01-25T10:35:09.677Z"
   },
   {
    "duration": 59,
    "start_time": "2022-01-25T10:35:09.690Z"
   },
   {
    "duration": 21,
    "start_time": "2022-01-25T10:35:09.751Z"
   },
   {
    "duration": 8,
    "start_time": "2022-01-25T10:35:09.774Z"
   },
   {
    "duration": 39,
    "start_time": "2022-01-25T10:35:09.785Z"
   },
   {
    "duration": 6,
    "start_time": "2022-01-25T10:35:09.826Z"
   },
   {
    "duration": 10,
    "start_time": "2022-01-25T10:35:09.835Z"
   },
   {
    "duration": 38,
    "start_time": "2022-01-25T10:35:09.847Z"
   },
   {
    "duration": 20,
    "start_time": "2022-01-25T10:35:09.887Z"
   },
   {
    "duration": 21,
    "start_time": "2022-01-25T10:35:09.910Z"
   },
   {
    "duration": 13,
    "start_time": "2022-01-25T10:35:09.934Z"
   },
   {
    "duration": 27,
    "start_time": "2022-01-25T10:35:09.950Z"
   },
   {
    "duration": 53,
    "start_time": "2022-01-25T10:35:09.979Z"
   },
   {
    "duration": 43,
    "start_time": "2022-01-25T10:35:10.038Z"
   },
   {
    "duration": 3,
    "start_time": "2022-01-25T10:35:10.084Z"
   },
   {
    "duration": 3135,
    "start_time": "2022-01-25T10:35:10.089Z"
   },
   {
    "duration": 4,
    "start_time": "2022-01-25T10:35:13.227Z"
   },
   {
    "duration": 22,
    "start_time": "2022-01-25T10:35:13.234Z"
   },
   {
    "duration": 4,
    "start_time": "2022-01-25T10:35:13.259Z"
   },
   {
    "duration": 7,
    "start_time": "2022-01-25T10:35:13.266Z"
   },
   {
    "duration": 67,
    "start_time": "2022-01-25T10:35:13.276Z"
   },
   {
    "duration": 35,
    "start_time": "2022-01-25T10:35:13.345Z"
   },
   {
    "duration": 78,
    "start_time": "2022-01-25T10:35:13.382Z"
   },
   {
    "duration": 34,
    "start_time": "2022-01-25T10:35:13.463Z"
   },
   {
    "duration": 54,
    "start_time": "2022-01-25T10:35:13.499Z"
   },
   {
    "duration": 775,
    "start_time": "2022-01-25T10:35:13.555Z"
   },
   {
    "duration": 42,
    "start_time": "2022-01-25T10:35:14.333Z"
   },
   {
    "duration": 104,
    "start_time": "2022-01-25T10:51:35.988Z"
   },
   {
    "duration": 104,
    "start_time": "2022-01-25T10:52:12.548Z"
   },
   {
    "duration": 14,
    "start_time": "2022-01-25T10:52:22.264Z"
   },
   {
    "duration": 32,
    "start_time": "2022-01-25T10:52:42.260Z"
   },
   {
    "duration": 37,
    "start_time": "2022-01-25T10:55:33.254Z"
   },
   {
    "duration": 14,
    "start_time": "2022-01-25T10:55:54.635Z"
   },
   {
    "duration": 20,
    "start_time": "2022-01-25T10:59:40.368Z"
   },
   {
    "duration": 14,
    "start_time": "2022-01-25T11:07:24.164Z"
   },
   {
    "duration": 17,
    "start_time": "2022-01-25T11:07:47.361Z"
   },
   {
    "duration": 31,
    "start_time": "2022-01-25T11:11:08.926Z"
   },
   {
    "duration": 48,
    "start_time": "2022-01-25T11:13:10.606Z"
   },
   {
    "duration": 813,
    "start_time": "2022-01-25T11:15:02.108Z"
   },
   {
    "duration": 21,
    "start_time": "2022-01-25T11:15:02.924Z"
   },
   {
    "duration": 9,
    "start_time": "2022-01-25T11:15:02.949Z"
   },
   {
    "duration": 12,
    "start_time": "2022-01-25T11:15:02.962Z"
   },
   {
    "duration": 58,
    "start_time": "2022-01-25T11:15:02.976Z"
   },
   {
    "duration": 9,
    "start_time": "2022-01-25T11:15:03.037Z"
   },
   {
    "duration": 12,
    "start_time": "2022-01-25T11:15:03.048Z"
   },
   {
    "duration": 37,
    "start_time": "2022-01-25T11:15:03.064Z"
   },
   {
    "duration": 36,
    "start_time": "2022-01-25T11:15:03.104Z"
   },
   {
    "duration": 9,
    "start_time": "2022-01-25T11:15:03.143Z"
   },
   {
    "duration": 26,
    "start_time": "2022-01-25T11:15:03.154Z"
   },
   {
    "duration": 58,
    "start_time": "2022-01-25T11:15:03.182Z"
   },
   {
    "duration": 10,
    "start_time": "2022-01-25T11:15:03.243Z"
   },
   {
    "duration": 6,
    "start_time": "2022-01-25T11:15:03.255Z"
   },
   {
    "duration": 7,
    "start_time": "2022-01-25T11:15:03.263Z"
   },
   {
    "duration": 7,
    "start_time": "2022-01-25T11:15:03.273Z"
   },
   {
    "duration": 49,
    "start_time": "2022-01-25T11:15:03.283Z"
   },
   {
    "duration": 24,
    "start_time": "2022-01-25T11:15:03.335Z"
   },
   {
    "duration": 24,
    "start_time": "2022-01-25T11:15:03.361Z"
   },
   {
    "duration": 73,
    "start_time": "2022-01-25T11:15:03.388Z"
   },
   {
    "duration": 10,
    "start_time": "2022-01-25T11:15:03.464Z"
   },
   {
    "duration": 7,
    "start_time": "2022-01-25T11:15:03.476Z"
   },
   {
    "duration": 60,
    "start_time": "2022-01-25T11:15:03.487Z"
   },
   {
    "duration": 28,
    "start_time": "2022-01-25T11:15:03.550Z"
   },
   {
    "duration": 84,
    "start_time": "2022-01-25T11:15:03.581Z"
   },
   {
    "duration": 3,
    "start_time": "2022-01-25T11:15:03.668Z"
   },
   {
    "duration": 3206,
    "start_time": "2022-01-25T11:15:03.673Z"
   },
   {
    "duration": 3,
    "start_time": "2022-01-25T11:15:06.882Z"
   },
   {
    "duration": 8,
    "start_time": "2022-01-25T11:15:06.888Z"
   },
   {
    "duration": 25,
    "start_time": "2022-01-25T11:15:06.899Z"
   },
   {
    "duration": 15,
    "start_time": "2022-01-25T11:15:06.927Z"
   },
   {
    "duration": 38,
    "start_time": "2022-01-25T11:15:06.944Z"
   },
   {
    "duration": 65,
    "start_time": "2022-01-25T11:15:06.985Z"
   },
   {
    "duration": 54,
    "start_time": "2022-01-25T11:15:07.053Z"
   },
   {
    "duration": 53,
    "start_time": "2022-01-25T11:15:07.109Z"
   },
   {
    "duration": 31,
    "start_time": "2022-01-25T11:15:07.165Z"
   },
   {
    "duration": 777,
    "start_time": "2022-01-25T11:15:07.223Z"
   },
   {
    "duration": 49,
    "start_time": "2022-01-25T11:15:08.002Z"
   },
   {
    "duration": 36,
    "start_time": "2022-01-25T11:16:11.924Z"
   },
   {
    "duration": 28,
    "start_time": "2022-01-25T11:16:53.912Z"
   },
   {
    "duration": 43,
    "start_time": "2022-01-25T11:17:16.078Z"
   },
   {
    "duration": 841,
    "start_time": "2022-01-25T11:17:29.137Z"
   },
   {
    "duration": 13,
    "start_time": "2022-01-25T11:17:29.980Z"
   },
   {
    "duration": 31,
    "start_time": "2022-01-25T11:17:29.996Z"
   },
   {
    "duration": 11,
    "start_time": "2022-01-25T11:17:30.032Z"
   },
   {
    "duration": 16,
    "start_time": "2022-01-25T11:17:30.045Z"
   },
   {
    "duration": 12,
    "start_time": "2022-01-25T11:17:30.063Z"
   },
   {
    "duration": 18,
    "start_time": "2022-01-25T11:17:30.077Z"
   },
   {
    "duration": 34,
    "start_time": "2022-01-25T11:17:30.099Z"
   },
   {
    "duration": 29,
    "start_time": "2022-01-25T11:17:30.137Z"
   },
   {
    "duration": 8,
    "start_time": "2022-01-25T11:17:30.168Z"
   },
   {
    "duration": 51,
    "start_time": "2022-01-25T11:17:30.179Z"
   },
   {
    "duration": 26,
    "start_time": "2022-01-25T11:17:30.233Z"
   },
   {
    "duration": 11,
    "start_time": "2022-01-25T11:17:30.262Z"
   },
   {
    "duration": 7,
    "start_time": "2022-01-25T11:17:30.275Z"
   },
   {
    "duration": 58,
    "start_time": "2022-01-25T11:17:30.284Z"
   },
   {
    "duration": 18,
    "start_time": "2022-01-25T11:17:30.345Z"
   },
   {
    "duration": 45,
    "start_time": "2022-01-25T11:17:30.365Z"
   },
   {
    "duration": 14,
    "start_time": "2022-01-25T11:17:30.413Z"
   },
   {
    "duration": 37,
    "start_time": "2022-01-25T11:17:30.429Z"
   },
   {
    "duration": 75,
    "start_time": "2022-01-25T11:17:30.469Z"
   },
   {
    "duration": 10,
    "start_time": "2022-01-25T11:17:30.547Z"
   },
   {
    "duration": 15,
    "start_time": "2022-01-25T11:17:30.559Z"
   },
   {
    "duration": 52,
    "start_time": "2022-01-25T11:17:30.578Z"
   },
   {
    "duration": 26,
    "start_time": "2022-01-25T11:17:30.633Z"
   },
   {
    "duration": 69,
    "start_time": "2022-01-25T11:17:30.662Z"
   },
   {
    "duration": 3,
    "start_time": "2022-01-25T11:17:30.734Z"
   },
   {
    "duration": 3144,
    "start_time": "2022-01-25T11:17:30.740Z"
   },
   {
    "duration": 3,
    "start_time": "2022-01-25T11:17:33.887Z"
   },
   {
    "duration": 8,
    "start_time": "2022-01-25T11:17:33.893Z"
   },
   {
    "duration": 3,
    "start_time": "2022-01-25T11:17:33.924Z"
   },
   {
    "duration": 15,
    "start_time": "2022-01-25T11:17:33.930Z"
   },
   {
    "duration": 38,
    "start_time": "2022-01-25T11:17:33.947Z"
   },
   {
    "duration": 58,
    "start_time": "2022-01-25T11:17:33.988Z"
   },
   {
    "duration": 53,
    "start_time": "2022-01-25T11:17:34.048Z"
   },
   {
    "duration": 54,
    "start_time": "2022-01-25T11:17:34.103Z"
   },
   {
    "duration": 30,
    "start_time": "2022-01-25T11:17:34.160Z"
   },
   {
    "duration": 809,
    "start_time": "2022-01-25T11:17:34.193Z"
   },
   {
    "duration": 51,
    "start_time": "2022-01-25T11:17:35.005Z"
   },
   {
    "duration": 29,
    "start_time": "2022-01-25T11:19:27.578Z"
   },
   {
    "duration": 778,
    "start_time": "2022-01-25T11:19:49.775Z"
   },
   {
    "duration": 16,
    "start_time": "2022-01-25T11:19:50.556Z"
   },
   {
    "duration": 9,
    "start_time": "2022-01-25T11:19:50.575Z"
   },
   {
    "duration": 39,
    "start_time": "2022-01-25T11:19:50.586Z"
   },
   {
    "duration": 30,
    "start_time": "2022-01-25T11:19:50.628Z"
   },
   {
    "duration": 13,
    "start_time": "2022-01-25T11:19:50.660Z"
   },
   {
    "duration": 20,
    "start_time": "2022-01-25T11:19:50.675Z"
   },
   {
    "duration": 13,
    "start_time": "2022-01-25T11:19:50.699Z"
   },
   {
    "duration": 45,
    "start_time": "2022-01-25T11:19:50.714Z"
   },
   {
    "duration": 10,
    "start_time": "2022-01-25T11:19:50.762Z"
   },
   {
    "duration": 53,
    "start_time": "2022-01-25T11:19:50.775Z"
   },
   {
    "duration": 27,
    "start_time": "2022-01-25T11:19:50.831Z"
   },
   {
    "duration": 9,
    "start_time": "2022-01-25T11:19:50.860Z"
   },
   {
    "duration": 8,
    "start_time": "2022-01-25T11:19:50.872Z"
   },
   {
    "duration": 16,
    "start_time": "2022-01-25T11:19:50.882Z"
   },
   {
    "duration": 49,
    "start_time": "2022-01-25T11:19:50.900Z"
   },
   {
    "duration": 62,
    "start_time": "2022-01-25T11:19:50.953Z"
   },
   {
    "duration": 20,
    "start_time": "2022-01-25T11:19:51.017Z"
   },
   {
    "duration": 37,
    "start_time": "2022-01-25T11:19:51.041Z"
   },
   {
    "duration": 64,
    "start_time": "2022-01-25T11:19:51.080Z"
   },
   {
    "duration": 10,
    "start_time": "2022-01-25T11:19:51.146Z"
   },
   {
    "duration": 8,
    "start_time": "2022-01-25T11:19:51.159Z"
   },
   {
    "duration": 56,
    "start_time": "2022-01-25T11:19:51.171Z"
   },
   {
    "duration": 31,
    "start_time": "2022-01-25T11:19:51.231Z"
   },
   {
    "duration": 71,
    "start_time": "2022-01-25T11:19:51.265Z"
   },
   {
    "duration": 3,
    "start_time": "2022-01-25T11:19:51.339Z"
   },
   {
    "duration": 3135,
    "start_time": "2022-01-25T11:19:51.344Z"
   },
   {
    "duration": 4,
    "start_time": "2022-01-25T11:19:54.482Z"
   },
   {
    "duration": 8,
    "start_time": "2022-01-25T11:19:54.488Z"
   },
   {
    "duration": 25,
    "start_time": "2022-01-25T11:19:54.499Z"
   },
   {
    "duration": 13,
    "start_time": "2022-01-25T11:19:54.528Z"
   },
   {
    "duration": 34,
    "start_time": "2022-01-25T11:19:54.544Z"
   },
   {
    "duration": 58,
    "start_time": "2022-01-25T11:19:54.580Z"
   },
   {
    "duration": 52,
    "start_time": "2022-01-25T11:19:54.640Z"
   },
   {
    "duration": 51,
    "start_time": "2022-01-25T11:19:54.695Z"
   },
   {
    "duration": 31,
    "start_time": "2022-01-25T11:19:54.748Z"
   },
   {
    "duration": 871,
    "start_time": "2022-01-25T11:19:54.781Z"
   },
   {
    "duration": 35,
    "start_time": "2022-01-25T11:19:55.654Z"
   },
   {
    "duration": 78,
    "start_time": "2022-01-25T11:21:11.652Z"
   },
   {
    "duration": 16,
    "start_time": "2022-01-25T11:21:11.733Z"
   },
   {
    "duration": 10,
    "start_time": "2022-01-25T11:21:11.752Z"
   },
   {
    "duration": 10,
    "start_time": "2022-01-25T11:21:11.765Z"
   },
   {
    "duration": 68,
    "start_time": "2022-01-25T11:21:11.777Z"
   },
   {
    "duration": 11,
    "start_time": "2022-01-25T11:21:11.847Z"
   },
   {
    "duration": 10,
    "start_time": "2022-01-25T11:21:11.860Z"
   },
   {
    "duration": 11,
    "start_time": "2022-01-25T11:21:11.872Z"
   },
   {
    "duration": 50,
    "start_time": "2022-01-25T11:21:11.886Z"
   },
   {
    "duration": 9,
    "start_time": "2022-01-25T11:21:11.940Z"
   },
   {
    "duration": 23,
    "start_time": "2022-01-25T11:21:11.951Z"
   },
   {
    "duration": 55,
    "start_time": "2022-01-25T11:21:11.976Z"
   },
   {
    "duration": 11,
    "start_time": "2022-01-25T11:21:12.035Z"
   },
   {
    "duration": 5,
    "start_time": "2022-01-25T11:21:12.049Z"
   },
   {
    "duration": 5,
    "start_time": "2022-01-25T11:21:12.056Z"
   },
   {
    "duration": 8,
    "start_time": "2022-01-25T11:21:12.064Z"
   },
   {
    "duration": 86,
    "start_time": "2022-01-25T11:21:12.074Z"
   },
   {
    "duration": 12,
    "start_time": "2022-01-25T11:21:12.163Z"
   },
   {
    "duration": 56,
    "start_time": "2022-01-25T11:21:12.178Z"
   },
   {
    "duration": 743,
    "start_time": "2022-01-25T11:22:21.975Z"
   },
   {
    "duration": 60,
    "start_time": "2022-01-25T11:24:06.137Z"
   },
   {
    "duration": 96,
    "start_time": "2022-01-25T11:27:25.591Z"
   },
   {
    "duration": 171,
    "start_time": "2022-01-25T11:29:16.962Z"
   },
   {
    "duration": 97,
    "start_time": "2022-01-25T11:29:23.150Z"
   },
   {
    "duration": 99,
    "start_time": "2022-01-25T11:29:30.770Z"
   },
   {
    "duration": 121,
    "start_time": "2022-01-25T11:29:35.696Z"
   },
   {
    "duration": 44,
    "start_time": "2022-01-25T11:29:49.344Z"
   },
   {
    "duration": 27,
    "start_time": "2022-01-25T11:30:37.963Z"
   },
   {
    "duration": 9,
    "start_time": "2022-01-25T11:31:03.592Z"
   },
   {
    "duration": 48,
    "start_time": "2022-01-25T11:31:58.142Z"
   },
   {
    "duration": 37,
    "start_time": "2022-01-25T11:34:03.660Z"
   },
   {
    "duration": 42,
    "start_time": "2022-01-25T11:38:04.727Z"
   },
   {
    "duration": 96,
    "start_time": "2022-01-25T11:38:48.374Z"
   },
   {
    "duration": 27,
    "start_time": "2022-01-25T11:38:59.366Z"
   },
   {
    "duration": 32,
    "start_time": "2022-01-25T11:39:18.900Z"
   },
   {
    "duration": 445,
    "start_time": "2022-01-25T11:41:33.413Z"
   },
   {
    "duration": 55,
    "start_time": "2022-01-25T11:41:44.239Z"
   },
   {
    "duration": 71,
    "start_time": "2022-01-25T11:42:17.843Z"
   },
   {
    "duration": 67,
    "start_time": "2022-01-25T11:43:05.135Z"
   },
   {
    "duration": 296,
    "start_time": "2022-01-25T12:19:13.821Z"
   },
   {
    "duration": 127,
    "start_time": "2022-01-25T12:23:36.853Z"
   },
   {
    "duration": 97,
    "start_time": "2022-01-25T12:31:15.874Z"
   },
   {
    "duration": 106,
    "start_time": "2022-01-25T12:31:42.217Z"
   },
   {
    "duration": 666,
    "start_time": "2022-01-25T12:33:50.707Z"
   },
   {
    "duration": 865,
    "start_time": "2022-01-25T12:34:17.797Z"
   },
   {
    "duration": 15,
    "start_time": "2022-01-25T12:34:18.664Z"
   },
   {
    "duration": 9,
    "start_time": "2022-01-25T12:34:18.682Z"
   },
   {
    "duration": 31,
    "start_time": "2022-01-25T12:34:18.693Z"
   },
   {
    "duration": 14,
    "start_time": "2022-01-25T12:34:18.727Z"
   },
   {
    "duration": 16,
    "start_time": "2022-01-25T12:34:18.744Z"
   },
   {
    "duration": 15,
    "start_time": "2022-01-25T12:34:18.762Z"
   },
   {
    "duration": 45,
    "start_time": "2022-01-25T12:34:18.781Z"
   },
   {
    "duration": 24,
    "start_time": "2022-01-25T12:34:18.830Z"
   },
   {
    "duration": 11,
    "start_time": "2022-01-25T12:34:18.857Z"
   },
   {
    "duration": 75,
    "start_time": "2022-01-25T12:34:18.871Z"
   },
   {
    "duration": 23,
    "start_time": "2022-01-25T12:34:18.948Z"
   },
   {
    "duration": 10,
    "start_time": "2022-01-25T12:34:18.973Z"
   },
   {
    "duration": 8,
    "start_time": "2022-01-25T12:34:19.026Z"
   },
   {
    "duration": 12,
    "start_time": "2022-01-25T12:34:19.038Z"
   },
   {
    "duration": 7,
    "start_time": "2022-01-25T12:34:19.052Z"
   },
   {
    "duration": 10,
    "start_time": "2022-01-25T12:34:19.061Z"
   },
   {
    "duration": 49,
    "start_time": "2022-01-25T12:34:19.074Z"
   },
   {
    "duration": 675,
    "start_time": "2022-01-25T12:34:19.127Z"
   },
   {
    "duration": 33,
    "start_time": "2022-01-25T12:34:19.804Z"
   },
   {
    "duration": 44,
    "start_time": "2022-01-25T12:34:19.840Z"
   },
   {
    "duration": 10,
    "start_time": "2022-01-25T12:34:19.886Z"
   },
   {
    "duration": 10,
    "start_time": "2022-01-25T12:34:19.927Z"
   },
   {
    "duration": 30,
    "start_time": "2022-01-25T12:34:19.940Z"
   },
   {
    "duration": 55,
    "start_time": "2022-01-25T12:34:19.972Z"
   },
   {
    "duration": 57,
    "start_time": "2022-01-25T12:34:20.031Z"
   },
   {
    "duration": 3,
    "start_time": "2022-01-25T12:34:20.091Z"
   },
   {
    "duration": 3518,
    "start_time": "2022-01-25T12:34:20.097Z"
   },
   {
    "duration": 6,
    "start_time": "2022-01-25T12:34:23.618Z"
   },
   {
    "duration": 22,
    "start_time": "2022-01-25T12:34:23.627Z"
   },
   {
    "duration": 3,
    "start_time": "2022-01-25T12:34:23.652Z"
   },
   {
    "duration": 4,
    "start_time": "2022-01-25T12:34:23.657Z"
   },
   {
    "duration": 60,
    "start_time": "2022-01-25T12:34:23.664Z"
   },
   {
    "duration": 43,
    "start_time": "2022-01-25T12:34:23.729Z"
   },
   {
    "duration": 81,
    "start_time": "2022-01-25T12:34:23.774Z"
   },
   {
    "duration": 35,
    "start_time": "2022-01-25T12:34:23.857Z"
   },
   {
    "duration": 60,
    "start_time": "2022-01-25T12:34:23.894Z"
   },
   {
    "duration": 869,
    "start_time": "2022-01-25T12:34:23.956Z"
   },
   {
    "duration": 44,
    "start_time": "2022-01-25T12:34:24.828Z"
   },
   {
    "duration": 577,
    "start_time": "2022-01-25T12:34:57.303Z"
   },
   {
    "duration": 111,
    "start_time": "2022-01-25T12:37:53.229Z"
   },
   {
    "duration": 615,
    "start_time": "2022-01-25T12:37:59.990Z"
   },
   {
    "duration": 585,
    "start_time": "2022-01-25T12:39:43.997Z"
   },
   {
    "duration": 633,
    "start_time": "2022-01-25T12:39:59.009Z"
   },
   {
    "duration": 609,
    "start_time": "2022-01-25T12:41:08.458Z"
   },
   {
    "duration": 621,
    "start_time": "2022-01-25T12:41:41.128Z"
   },
   {
    "duration": 23,
    "start_time": "2022-01-25T12:44:42.291Z"
   },
   {
    "duration": 10,
    "start_time": "2022-01-25T12:46:21.513Z"
   },
   {
    "duration": 16,
    "start_time": "2022-01-25T12:47:17.765Z"
   },
   {
    "duration": 303,
    "start_time": "2022-01-25T12:49:34.751Z"
   },
   {
    "duration": 92,
    "start_time": "2022-01-25T12:50:45.810Z"
   },
   {
    "duration": 88,
    "start_time": "2022-01-25T12:50:57.724Z"
   },
   {
    "duration": 98,
    "start_time": "2022-01-25T12:51:03.711Z"
   },
   {
    "duration": 99,
    "start_time": "2022-01-25T12:51:13.246Z"
   },
   {
    "duration": 145,
    "start_time": "2022-01-25T12:52:22.197Z"
   },
   {
    "duration": 93,
    "start_time": "2022-01-25T12:52:35.220Z"
   },
   {
    "duration": 12,
    "start_time": "2022-01-25T12:54:00.008Z"
   },
   {
    "duration": 284,
    "start_time": "2022-01-25T12:54:26.350Z"
   },
   {
    "duration": 13,
    "start_time": "2022-01-25T12:54:36.255Z"
   },
   {
    "duration": 303,
    "start_time": "2022-01-25T12:55:14.678Z"
   },
   {
    "duration": 6,
    "start_time": "2022-01-25T12:55:31.937Z"
   },
   {
    "duration": 7,
    "start_time": "2022-01-25T12:57:13.695Z"
   },
   {
    "duration": 9,
    "start_time": "2022-01-25T12:58:17.710Z"
   },
   {
    "duration": 9,
    "start_time": "2022-01-25T12:58:40.703Z"
   },
   {
    "duration": 11,
    "start_time": "2022-01-25T12:59:50.393Z"
   },
   {
    "duration": 13,
    "start_time": "2022-01-25T13:00:18.129Z"
   },
   {
    "duration": 7,
    "start_time": "2022-01-25T13:00:38.008Z"
   },
   {
    "duration": 10,
    "start_time": "2022-01-25T13:01:06.515Z"
   },
   {
    "duration": 10,
    "start_time": "2022-01-25T13:01:14.937Z"
   },
   {
    "duration": 10,
    "start_time": "2022-01-25T13:01:25.344Z"
   },
   {
    "duration": 86,
    "start_time": "2022-01-25T13:05:59.818Z"
   },
   {
    "duration": 9,
    "start_time": "2022-01-25T13:06:06.187Z"
   },
   {
    "duration": 12,
    "start_time": "2022-01-25T13:06:22.160Z"
   },
   {
    "duration": 32,
    "start_time": "2022-01-25T13:06:39.481Z"
   },
   {
    "duration": 827,
    "start_time": "2022-01-25T13:07:07.793Z"
   },
   {
    "duration": 19,
    "start_time": "2022-01-25T13:07:08.623Z"
   },
   {
    "duration": 11,
    "start_time": "2022-01-25T13:07:08.645Z"
   },
   {
    "duration": 12,
    "start_time": "2022-01-25T13:07:08.659Z"
   },
   {
    "duration": 9,
    "start_time": "2022-01-25T13:07:08.673Z"
   },
   {
    "duration": 58,
    "start_time": "2022-01-25T13:07:08.684Z"
   },
   {
    "duration": 13,
    "start_time": "2022-01-25T13:07:08.745Z"
   },
   {
    "duration": 12,
    "start_time": "2022-01-25T13:07:08.764Z"
   },
   {
    "duration": 55,
    "start_time": "2022-01-25T13:07:08.780Z"
   },
   {
    "duration": 11,
    "start_time": "2022-01-25T13:07:08.838Z"
   },
   {
    "duration": 28,
    "start_time": "2022-01-25T13:07:08.852Z"
   },
   {
    "duration": 66,
    "start_time": "2022-01-25T13:07:08.882Z"
   },
   {
    "duration": 9,
    "start_time": "2022-01-25T13:07:08.951Z"
   },
   {
    "duration": 17,
    "start_time": "2022-01-25T13:07:08.963Z"
   },
   {
    "duration": 21,
    "start_time": "2022-01-25T13:07:08.983Z"
   },
   {
    "duration": 40,
    "start_time": "2022-01-25T13:07:09.007Z"
   },
   {
    "duration": 36,
    "start_time": "2022-01-25T13:07:09.050Z"
   },
   {
    "duration": 24,
    "start_time": "2022-01-25T13:07:09.089Z"
   },
   {
    "duration": 645,
    "start_time": "2022-01-25T13:07:09.116Z"
   },
   {
    "duration": 20,
    "start_time": "2022-01-25T13:07:09.764Z"
   },
   {
    "duration": 15,
    "start_time": "2022-01-25T13:07:09.786Z"
   },
   {
    "duration": 36,
    "start_time": "2022-01-25T13:07:09.824Z"
   },
   {
    "duration": 9,
    "start_time": "2022-01-25T13:07:09.865Z"
   },
   {
    "duration": 7,
    "start_time": "2022-01-25T13:07:09.877Z"
   },
   {
    "duration": 62,
    "start_time": "2022-01-25T13:07:09.887Z"
   },
   {
    "duration": 25,
    "start_time": "2022-01-25T13:07:09.951Z"
   },
   {
    "duration": 81,
    "start_time": "2022-01-25T13:07:09.978Z"
   },
   {
    "duration": 4,
    "start_time": "2022-01-25T13:07:10.062Z"
   },
   {
    "duration": 3446,
    "start_time": "2022-01-25T13:07:10.068Z"
   },
   {
    "duration": 3,
    "start_time": "2022-01-25T13:07:13.516Z"
   },
   {
    "duration": 14,
    "start_time": "2022-01-25T13:07:13.525Z"
   },
   {
    "duration": 23,
    "start_time": "2022-01-25T13:07:13.542Z"
   },
   {
    "duration": 8,
    "start_time": "2022-01-25T13:07:13.567Z"
   },
   {
    "duration": 34,
    "start_time": "2022-01-25T13:07:13.577Z"
   },
   {
    "duration": 42,
    "start_time": "2022-01-25T13:07:13.624Z"
   },
   {
    "duration": 87,
    "start_time": "2022-01-25T13:07:13.669Z"
   },
   {
    "duration": 32,
    "start_time": "2022-01-25T13:07:13.758Z"
   },
   {
    "duration": 60,
    "start_time": "2022-01-25T13:07:13.793Z"
   },
   {
    "duration": 801,
    "start_time": "2022-01-25T13:07:13.855Z"
   },
   {
    "duration": 36,
    "start_time": "2022-01-25T13:07:14.659Z"
   },
   {
    "duration": 38,
    "start_time": "2022-01-25T13:08:13.855Z"
   },
   {
    "duration": 33,
    "start_time": "2022-01-25T13:08:51.384Z"
   },
   {
    "duration": 41,
    "start_time": "2022-01-25T13:09:01.618Z"
   },
   {
    "duration": 858,
    "start_time": "2022-01-25T13:09:11.682Z"
   },
   {
    "duration": 16,
    "start_time": "2022-01-25T13:09:12.543Z"
   },
   {
    "duration": 14,
    "start_time": "2022-01-25T13:09:12.562Z"
   },
   {
    "duration": 18,
    "start_time": "2022-01-25T13:09:12.579Z"
   },
   {
    "duration": 30,
    "start_time": "2022-01-25T13:09:12.600Z"
   },
   {
    "duration": 20,
    "start_time": "2022-01-25T13:09:12.633Z"
   },
   {
    "duration": 13,
    "start_time": "2022-01-25T13:09:12.656Z"
   },
   {
    "duration": 13,
    "start_time": "2022-01-25T13:09:12.671Z"
   },
   {
    "duration": 57,
    "start_time": "2022-01-25T13:09:12.688Z"
   },
   {
    "duration": 8,
    "start_time": "2022-01-25T13:09:12.748Z"
   },
   {
    "duration": 31,
    "start_time": "2022-01-25T13:09:12.758Z"
   },
   {
    "duration": 55,
    "start_time": "2022-01-25T13:09:12.791Z"
   },
   {
    "duration": 11,
    "start_time": "2022-01-25T13:09:12.849Z"
   },
   {
    "duration": 6,
    "start_time": "2022-01-25T13:09:12.862Z"
   },
   {
    "duration": 6,
    "start_time": "2022-01-25T13:09:12.871Z"
   },
   {
    "duration": 21,
    "start_time": "2022-01-25T13:09:12.924Z"
   },
   {
    "duration": 12,
    "start_time": "2022-01-25T13:09:12.948Z"
   },
   {
    "duration": 15,
    "start_time": "2022-01-25T13:09:12.963Z"
   },
   {
    "duration": 697,
    "start_time": "2022-01-25T13:09:12.981Z"
   },
   {
    "duration": 22,
    "start_time": "2022-01-25T13:09:13.681Z"
   },
   {
    "duration": 19,
    "start_time": "2022-01-25T13:09:13.725Z"
   },
   {
    "duration": 31,
    "start_time": "2022-01-25T13:09:13.747Z"
   },
   {
    "duration": 44,
    "start_time": "2022-01-25T13:09:13.781Z"
   },
   {
    "duration": 10,
    "start_time": "2022-01-25T13:09:13.830Z"
   },
   {
    "duration": 27,
    "start_time": "2022-01-25T13:09:13.842Z"
   },
   {
    "duration": 60,
    "start_time": "2022-01-25T13:09:13.872Z"
   },
   {
    "duration": 55,
    "start_time": "2022-01-25T13:09:13.939Z"
   },
   {
    "duration": 3,
    "start_time": "2022-01-25T13:09:13.997Z"
   },
   {
    "duration": 3153,
    "start_time": "2022-01-25T13:09:14.002Z"
   },
   {
    "duration": 4,
    "start_time": "2022-01-25T13:09:17.158Z"
   },
   {
    "duration": 19,
    "start_time": "2022-01-25T13:09:17.165Z"
   },
   {
    "duration": 5,
    "start_time": "2022-01-25T13:09:17.186Z"
   },
   {
    "duration": 6,
    "start_time": "2022-01-25T13:09:17.194Z"
   },
   {
    "duration": 54,
    "start_time": "2022-01-25T13:09:17.202Z"
   },
   {
    "duration": 36,
    "start_time": "2022-01-25T13:09:17.258Z"
   },
   {
    "duration": 87,
    "start_time": "2022-01-25T13:09:17.296Z"
   },
   {
    "duration": 56,
    "start_time": "2022-01-25T13:09:17.385Z"
   },
   {
    "duration": 32,
    "start_time": "2022-01-25T13:09:17.443Z"
   },
   {
    "duration": 778,
    "start_time": "2022-01-25T13:09:17.477Z"
   },
   {
    "duration": 37,
    "start_time": "2022-01-25T13:09:18.258Z"
   },
   {
    "duration": 32,
    "start_time": "2022-01-25T13:09:40.733Z"
   },
   {
    "duration": 32,
    "start_time": "2022-01-25T13:10:34.891Z"
   },
   {
    "duration": 130,
    "start_time": "2022-01-25T14:05:41.949Z"
   },
   {
    "duration": 668,
    "start_time": "2022-01-25T14:06:33.252Z"
   },
   {
    "duration": 131,
    "start_time": "2022-01-25T14:07:05.811Z"
   },
   {
    "duration": 23,
    "start_time": "2022-01-25T14:07:05.948Z"
   },
   {
    "duration": 11,
    "start_time": "2022-01-25T14:07:05.975Z"
   },
   {
    "duration": 57,
    "start_time": "2022-01-25T14:07:05.989Z"
   },
   {
    "duration": 64,
    "start_time": "2022-01-25T14:07:06.052Z"
   },
   {
    "duration": 56,
    "start_time": "2022-01-25T14:07:06.119Z"
   },
   {
    "duration": 21,
    "start_time": "2022-01-25T14:07:06.180Z"
   },
   {
    "duration": 23,
    "start_time": "2022-01-25T14:07:06.208Z"
   },
   {
    "duration": 60,
    "start_time": "2022-01-25T14:07:06.240Z"
   },
   {
    "duration": 12,
    "start_time": "2022-01-25T14:07:06.304Z"
   },
   {
    "duration": 81,
    "start_time": "2022-01-25T14:07:06.319Z"
   },
   {
    "duration": 27,
    "start_time": "2022-01-25T14:07:06.403Z"
   },
   {
    "duration": 22,
    "start_time": "2022-01-25T14:07:06.436Z"
   },
   {
    "duration": 12,
    "start_time": "2022-01-25T14:07:06.461Z"
   },
   {
    "duration": 14,
    "start_time": "2022-01-25T14:07:06.477Z"
   },
   {
    "duration": 9,
    "start_time": "2022-01-25T14:07:06.494Z"
   },
   {
    "duration": 24,
    "start_time": "2022-01-25T14:07:06.526Z"
   },
   {
    "duration": 28,
    "start_time": "2022-01-25T14:07:06.554Z"
   },
   {
    "duration": 1205,
    "start_time": "2022-01-25T14:07:06.585Z"
   },
   {
    "duration": 45,
    "start_time": "2022-01-25T14:07:07.794Z"
   },
   {
    "duration": 22,
    "start_time": "2022-01-25T14:07:07.843Z"
   },
   {
    "duration": 4,
    "start_time": "2022-01-25T14:07:07.868Z"
   },
   {
    "duration": 109,
    "start_time": "2022-01-25T14:07:10.187Z"
   },
   {
    "duration": 111,
    "start_time": "2022-01-25T14:07:43.269Z"
   },
   {
    "duration": 938,
    "start_time": "2022-01-25T14:08:36.127Z"
   },
   {
    "duration": 19,
    "start_time": "2022-01-25T14:08:37.068Z"
   },
   {
    "duration": 11,
    "start_time": "2022-01-25T14:08:37.090Z"
   },
   {
    "duration": 24,
    "start_time": "2022-01-25T14:08:37.128Z"
   },
   {
    "duration": 20,
    "start_time": "2022-01-25T14:08:37.155Z"
   },
   {
    "duration": 12,
    "start_time": "2022-01-25T14:08:37.177Z"
   },
   {
    "duration": 38,
    "start_time": "2022-01-25T14:08:37.192Z"
   },
   {
    "duration": 18,
    "start_time": "2022-01-25T14:08:37.236Z"
   },
   {
    "duration": 21,
    "start_time": "2022-01-25T14:08:37.257Z"
   },
   {
    "duration": 9,
    "start_time": "2022-01-25T14:08:37.280Z"
   },
   {
    "duration": 77,
    "start_time": "2022-01-25T14:08:37.291Z"
   },
   {
    "duration": 62,
    "start_time": "2022-01-25T14:08:37.371Z"
   },
   {
    "duration": 13,
    "start_time": "2022-01-25T14:08:37.436Z"
   },
   {
    "duration": 21,
    "start_time": "2022-01-25T14:08:37.452Z"
   },
   {
    "duration": 17,
    "start_time": "2022-01-25T14:08:37.475Z"
   },
   {
    "duration": 9,
    "start_time": "2022-01-25T14:08:37.495Z"
   },
   {
    "duration": 15,
    "start_time": "2022-01-25T14:08:37.525Z"
   },
   {
    "duration": 27,
    "start_time": "2022-01-25T14:08:37.543Z"
   },
   {
    "duration": 901,
    "start_time": "2022-01-25T14:08:37.572Z"
   },
   {
    "duration": 21,
    "start_time": "2022-01-25T14:08:38.475Z"
   },
   {
    "duration": 40,
    "start_time": "2022-01-25T14:08:38.498Z"
   },
   {
    "duration": 6,
    "start_time": "2022-01-25T14:08:38.541Z"
   },
   {
    "duration": 128,
    "start_time": "2022-01-25T14:08:38.555Z"
   },
   {
    "duration": 14,
    "start_time": "2022-01-25T14:08:38.688Z"
   },
   {
    "duration": 32,
    "start_time": "2022-01-25T14:08:38.705Z"
   },
   {
    "duration": 48,
    "start_time": "2022-01-25T14:08:38.741Z"
   },
   {
    "duration": 49,
    "start_time": "2022-01-25T14:08:38.791Z"
   },
   {
    "duration": 56,
    "start_time": "2022-01-25T14:08:38.842Z"
   },
   {
    "duration": 23,
    "start_time": "2022-01-25T14:08:38.900Z"
   },
   {
    "duration": 3739,
    "start_time": "2022-01-25T14:08:38.926Z"
   },
   {
    "duration": 4,
    "start_time": "2022-01-25T14:08:42.667Z"
   },
   {
    "duration": 7,
    "start_time": "2022-01-25T14:08:42.674Z"
   },
   {
    "duration": 5,
    "start_time": "2022-01-25T14:08:42.684Z"
   },
   {
    "duration": 7,
    "start_time": "2022-01-25T14:08:42.691Z"
   },
   {
    "duration": 43,
    "start_time": "2022-01-25T14:08:42.700Z"
   },
   {
    "duration": 99,
    "start_time": "2022-01-25T14:08:42.746Z"
   },
   {
    "duration": 108,
    "start_time": "2022-01-25T14:08:42.848Z"
   },
   {
    "duration": 98,
    "start_time": "2022-01-25T14:08:42.960Z"
   },
   {
    "duration": 75,
    "start_time": "2022-01-25T14:08:43.061Z"
   },
   {
    "duration": 1099,
    "start_time": "2022-01-25T14:08:43.139Z"
   },
   {
    "duration": 38,
    "start_time": "2022-01-25T14:08:44.241Z"
   },
   {
    "duration": 127,
    "start_time": "2022-01-25T14:10:13.778Z"
   },
   {
    "duration": 21,
    "start_time": "2022-01-25T14:10:28.656Z"
   },
   {
    "duration": 27,
    "start_time": "2022-01-25T14:10:56.992Z"
   },
   {
    "duration": 852,
    "start_time": "2022-01-25T14:11:06.944Z"
   },
   {
    "duration": 53,
    "start_time": "2022-01-25T14:11:07.800Z"
   },
   {
    "duration": 10,
    "start_time": "2022-01-25T14:11:07.857Z"
   },
   {
    "duration": 12,
    "start_time": "2022-01-25T14:11:07.871Z"
   },
   {
    "duration": 47,
    "start_time": "2022-01-25T14:11:07.886Z"
   },
   {
    "duration": 16,
    "start_time": "2022-01-25T14:11:07.936Z"
   },
   {
    "duration": 14,
    "start_time": "2022-01-25T14:11:07.955Z"
   },
   {
    "duration": 11,
    "start_time": "2022-01-25T14:11:07.974Z"
   },
   {
    "duration": 26,
    "start_time": "2022-01-25T14:11:08.024Z"
   },
   {
    "duration": 9,
    "start_time": "2022-01-25T14:11:08.052Z"
   },
   {
    "duration": 62,
    "start_time": "2022-01-25T14:11:08.064Z"
   },
   {
    "duration": 30,
    "start_time": "2022-01-25T14:11:08.130Z"
   },
   {
    "duration": 13,
    "start_time": "2022-01-25T14:11:08.164Z"
   },
   {
    "duration": 16,
    "start_time": "2022-01-25T14:11:08.181Z"
   },
   {
    "duration": 6,
    "start_time": "2022-01-25T14:11:08.225Z"
   },
   {
    "duration": 6,
    "start_time": "2022-01-25T14:11:08.234Z"
   },
   {
    "duration": 16,
    "start_time": "2022-01-25T14:11:08.243Z"
   },
   {
    "duration": 65,
    "start_time": "2022-01-25T14:11:08.263Z"
   },
   {
    "duration": 959,
    "start_time": "2022-01-25T14:11:08.332Z"
   },
   {
    "duration": 32,
    "start_time": "2022-01-25T14:11:09.293Z"
   },
   {
    "duration": 17,
    "start_time": "2022-01-25T14:11:09.329Z"
   },
   {
    "duration": 6,
    "start_time": "2022-01-25T14:11:09.349Z"
   },
   {
    "duration": 125,
    "start_time": "2022-01-25T14:11:09.359Z"
   },
   {
    "duration": 9,
    "start_time": "2022-01-25T14:11:09.488Z"
   },
   {
    "duration": 8,
    "start_time": "2022-01-25T14:11:09.500Z"
   },
   {
    "duration": 35,
    "start_time": "2022-01-25T14:11:09.523Z"
   },
   {
    "duration": 28,
    "start_time": "2022-01-25T14:11:09.561Z"
   },
   {
    "duration": 86,
    "start_time": "2022-01-25T14:11:09.592Z"
   },
   {
    "duration": 3,
    "start_time": "2022-01-25T14:11:09.680Z"
   },
   {
    "duration": 3419,
    "start_time": "2022-01-25T14:11:09.685Z"
   },
   {
    "duration": 4,
    "start_time": "2022-01-25T14:11:13.106Z"
   },
   {
    "duration": 6,
    "start_time": "2022-01-25T14:11:13.124Z"
   },
   {
    "duration": 12,
    "start_time": "2022-01-25T14:11:13.133Z"
   },
   {
    "duration": 9,
    "start_time": "2022-01-25T14:11:13.152Z"
   },
   {
    "duration": 40,
    "start_time": "2022-01-25T14:11:13.164Z"
   },
   {
    "duration": 57,
    "start_time": "2022-01-25T14:11:13.226Z"
   },
   {
    "duration": 85,
    "start_time": "2022-01-25T14:11:13.285Z"
   },
   {
    "duration": 35,
    "start_time": "2022-01-25T14:11:13.372Z"
   },
   {
    "duration": 38,
    "start_time": "2022-01-25T14:11:13.423Z"
   },
   {
    "duration": 789,
    "start_time": "2022-01-25T14:11:13.463Z"
   },
   {
    "duration": 48,
    "start_time": "2022-01-25T14:11:14.255Z"
   },
   {
    "duration": 38,
    "start_time": "2022-01-25T14:11:22.920Z"
   },
   {
    "duration": 32,
    "start_time": "2022-01-25T14:11:30.511Z"
   },
   {
    "duration": 32,
    "start_time": "2022-01-25T14:11:42.503Z"
   },
   {
    "duration": 874,
    "start_time": "2022-01-25T14:11:58.218Z"
   },
   {
    "duration": 49,
    "start_time": "2022-01-25T14:11:59.096Z"
   },
   {
    "duration": 14,
    "start_time": "2022-01-25T14:11:59.150Z"
   },
   {
    "duration": 10,
    "start_time": "2022-01-25T14:11:59.168Z"
   },
   {
    "duration": 55,
    "start_time": "2022-01-25T14:11:59.181Z"
   },
   {
    "duration": 13,
    "start_time": "2022-01-25T14:11:59.239Z"
   },
   {
    "duration": 13,
    "start_time": "2022-01-25T14:11:59.255Z"
   },
   {
    "duration": 10,
    "start_time": "2022-01-25T14:11:59.271Z"
   },
   {
    "duration": 58,
    "start_time": "2022-01-25T14:11:59.285Z"
   },
   {
    "duration": 10,
    "start_time": "2022-01-25T14:11:59.347Z"
   },
   {
    "duration": 75,
    "start_time": "2022-01-25T14:11:59.360Z"
   },
   {
    "duration": 26,
    "start_time": "2022-01-25T14:11:59.438Z"
   },
   {
    "duration": 10,
    "start_time": "2022-01-25T14:11:59.467Z"
   },
   {
    "duration": 5,
    "start_time": "2022-01-25T14:11:59.479Z"
   },
   {
    "duration": 41,
    "start_time": "2022-01-25T14:11:59.487Z"
   },
   {
    "duration": 10,
    "start_time": "2022-01-25T14:11:59.530Z"
   },
   {
    "duration": 12,
    "start_time": "2022-01-25T14:11:59.543Z"
   },
   {
    "duration": 19,
    "start_time": "2022-01-25T14:11:59.558Z"
   },
   {
    "duration": 693,
    "start_time": "2022-01-25T14:11:59.580Z"
   },
   {
    "duration": 20,
    "start_time": "2022-01-25T14:12:00.275Z"
   },
   {
    "duration": 41,
    "start_time": "2022-01-25T14:12:00.297Z"
   },
   {
    "duration": 11,
    "start_time": "2022-01-25T14:12:00.341Z"
   },
   {
    "duration": 97,
    "start_time": "2022-01-25T14:12:00.357Z"
   },
   {
    "duration": 10,
    "start_time": "2022-01-25T14:12:00.457Z"
   },
   {
    "duration": 21,
    "start_time": "2022-01-25T14:12:00.470Z"
   },
   {
    "duration": 60,
    "start_time": "2022-01-25T14:12:00.494Z"
   },
   {
    "duration": 29,
    "start_time": "2022-01-25T14:12:00.557Z"
   },
   {
    "duration": 72,
    "start_time": "2022-01-25T14:12:00.588Z"
   },
   {
    "duration": 3,
    "start_time": "2022-01-25T14:12:00.662Z"
   },
   {
    "duration": 4168,
    "start_time": "2022-01-25T14:12:00.668Z"
   },
   {
    "duration": 4,
    "start_time": "2022-01-25T14:12:04.839Z"
   },
   {
    "duration": 8,
    "start_time": "2022-01-25T14:12:04.846Z"
   },
   {
    "duration": 5,
    "start_time": "2022-01-25T14:12:04.856Z"
   },
   {
    "duration": 5,
    "start_time": "2022-01-25T14:12:04.864Z"
   },
   {
    "duration": 82,
    "start_time": "2022-01-25T14:12:04.871Z"
   },
   {
    "duration": 38,
    "start_time": "2022-01-25T14:12:04.956Z"
   },
   {
    "duration": 84,
    "start_time": "2022-01-25T14:12:04.996Z"
   },
   {
    "duration": 59,
    "start_time": "2022-01-25T14:12:05.083Z"
   },
   {
    "duration": 33,
    "start_time": "2022-01-25T14:12:05.145Z"
   },
   {
    "duration": 859,
    "start_time": "2022-01-25T14:12:05.180Z"
   },
   {
    "duration": 43,
    "start_time": "2022-01-25T14:12:06.043Z"
   },
   {
    "duration": 16,
    "start_time": "2022-01-25T14:13:26.968Z"
   },
   {
    "duration": 97,
    "start_time": "2022-01-25T14:15:34.989Z"
   },
   {
    "duration": 22,
    "start_time": "2022-01-25T14:16:02.761Z"
   },
   {
    "duration": 35,
    "start_time": "2022-01-25T14:16:11.505Z"
   },
   {
    "duration": 26,
    "start_time": "2022-01-25T14:16:15.690Z"
   },
   {
    "duration": 13,
    "start_time": "2022-01-25T14:18:10.532Z"
   },
   {
    "duration": 606,
    "start_time": "2022-01-25T14:21:12.008Z"
   },
   {
    "duration": 594,
    "start_time": "2022-01-25T14:21:35.140Z"
   },
   {
    "duration": 650,
    "start_time": "2022-01-25T14:23:45.297Z"
   },
   {
    "duration": 694,
    "start_time": "2022-01-25T14:35:51.156Z"
   },
   {
    "duration": 641,
    "start_time": "2022-01-25T14:36:13.855Z"
   },
   {
    "duration": 722,
    "start_time": "2022-01-25T14:36:34.870Z"
   },
   {
    "duration": 615,
    "start_time": "2022-01-25T14:37:11.280Z"
   },
   {
    "duration": 609,
    "start_time": "2022-01-25T14:37:21.476Z"
   },
   {
    "duration": 652,
    "start_time": "2022-01-25T14:37:34.293Z"
   },
   {
    "duration": 674,
    "start_time": "2022-01-25T14:38:19.116Z"
   },
   {
    "duration": 1006,
    "start_time": "2022-01-25T14:38:28.437Z"
   },
   {
    "duration": 10,
    "start_time": "2022-01-25T14:54:27.039Z"
   },
   {
    "duration": 11,
    "start_time": "2022-01-25T14:55:05.137Z"
   },
   {
    "duration": 604,
    "start_time": "2022-01-25T15:05:42.421Z"
   },
   {
    "duration": 490,
    "start_time": "2022-01-25T15:05:52.766Z"
   },
   {
    "duration": 75,
    "start_time": "2022-01-25T15:06:10.645Z"
   },
   {
    "duration": 43,
    "start_time": "2022-01-25T15:06:10.723Z"
   },
   {
    "duration": 8,
    "start_time": "2022-01-25T15:06:10.769Z"
   },
   {
    "duration": 11,
    "start_time": "2022-01-25T15:06:10.780Z"
   },
   {
    "duration": 46,
    "start_time": "2022-01-25T15:06:10.793Z"
   },
   {
    "duration": 32,
    "start_time": "2022-01-25T15:06:10.842Z"
   },
   {
    "duration": 14,
    "start_time": "2022-01-25T15:06:10.877Z"
   },
   {
    "duration": 10,
    "start_time": "2022-01-25T15:06:10.893Z"
   },
   {
    "duration": 47,
    "start_time": "2022-01-25T15:06:10.909Z"
   },
   {
    "duration": 9,
    "start_time": "2022-01-25T15:06:10.960Z"
   },
   {
    "duration": 58,
    "start_time": "2022-01-25T15:06:10.971Z"
   },
   {
    "duration": 33,
    "start_time": "2022-01-25T15:06:11.031Z"
   },
   {
    "duration": 10,
    "start_time": "2022-01-25T15:06:11.067Z"
   },
   {
    "duration": 5,
    "start_time": "2022-01-25T15:06:11.079Z"
   },
   {
    "duration": 44,
    "start_time": "2022-01-25T15:06:11.087Z"
   },
   {
    "duration": 24,
    "start_time": "2022-01-25T15:06:11.133Z"
   },
   {
    "duration": 16,
    "start_time": "2022-01-25T15:06:11.160Z"
   },
   {
    "duration": 14,
    "start_time": "2022-01-25T15:06:11.178Z"
   },
   {
    "duration": 52,
    "start_time": "2022-01-25T15:06:11.195Z"
   },
   {
    "duration": 24,
    "start_time": "2022-01-25T15:06:11.250Z"
   },
   {
    "duration": 3,
    "start_time": "2022-01-25T15:06:11.277Z"
   },
   {
    "duration": 113,
    "start_time": "2022-01-25T15:06:11.283Z"
   },
   {
    "duration": 867,
    "start_time": "2022-01-25T15:06:11.399Z"
   },
   {
    "duration": 10,
    "start_time": "2022-01-25T15:06:12.268Z"
   },
   {
    "duration": 22,
    "start_time": "2022-01-25T15:06:12.280Z"
   },
   {
    "duration": 22,
    "start_time": "2022-01-25T15:06:12.305Z"
   },
   {
    "duration": 566,
    "start_time": "2022-01-25T15:06:18.028Z"
   },
   {
    "duration": 880,
    "start_time": "2022-01-25T15:06:24.786Z"
   },
   {
    "duration": 31,
    "start_time": "2022-01-25T15:06:25.672Z"
   },
   {
    "duration": 15,
    "start_time": "2022-01-25T15:06:25.727Z"
   },
   {
    "duration": 19,
    "start_time": "2022-01-25T15:06:25.745Z"
   },
   {
    "duration": 9,
    "start_time": "2022-01-25T15:06:25.767Z"
   },
   {
    "duration": 11,
    "start_time": "2022-01-25T15:06:25.778Z"
   },
   {
    "duration": 62,
    "start_time": "2022-01-25T15:06:25.793Z"
   },
   {
    "duration": 12,
    "start_time": "2022-01-25T15:06:25.859Z"
   },
   {
    "duration": 20,
    "start_time": "2022-01-25T15:06:25.874Z"
   },
   {
    "duration": 27,
    "start_time": "2022-01-25T15:06:25.896Z"
   },
   {
    "duration": 38,
    "start_time": "2022-01-25T15:06:25.928Z"
   },
   {
    "duration": 21,
    "start_time": "2022-01-25T15:06:25.968Z"
   },
   {
    "duration": 47,
    "start_time": "2022-01-25T15:06:25.991Z"
   },
   {
    "duration": 15,
    "start_time": "2022-01-25T15:06:26.047Z"
   },
   {
    "duration": 5,
    "start_time": "2022-01-25T15:06:26.065Z"
   },
   {
    "duration": 8,
    "start_time": "2022-01-25T15:06:26.073Z"
   },
   {
    "duration": 8,
    "start_time": "2022-01-25T15:06:26.084Z"
   },
   {
    "duration": 45,
    "start_time": "2022-01-25T15:06:26.095Z"
   },
   {
    "duration": 30,
    "start_time": "2022-01-25T15:06:26.143Z"
   },
   {
    "duration": 14,
    "start_time": "2022-01-25T15:06:26.176Z"
   },
   {
    "duration": 34,
    "start_time": "2022-01-25T15:06:26.193Z"
   },
   {
    "duration": 90,
    "start_time": "2022-01-25T15:06:26.234Z"
   },
   {
    "duration": 739,
    "start_time": "2022-01-25T15:06:26.330Z"
   },
   {
    "duration": 10,
    "start_time": "2022-01-25T15:06:27.071Z"
   },
   {
    "duration": 17,
    "start_time": "2022-01-25T15:06:27.084Z"
   },
   {
    "duration": 26,
    "start_time": "2022-01-25T15:06:27.103Z"
   },
   {
    "duration": 650,
    "start_time": "2022-01-25T15:06:27.132Z"
   },
   {
    "duration": 1474,
    "start_time": "2022-01-25T15:06:26.310Z"
   },
   {
    "duration": 1473,
    "start_time": "2022-01-25T15:06:26.313Z"
   },
   {
    "duration": 1473,
    "start_time": "2022-01-25T15:06:26.315Z"
   },
   {
    "duration": 1473,
    "start_time": "2022-01-25T15:06:26.317Z"
   },
   {
    "duration": 1470,
    "start_time": "2022-01-25T15:06:26.321Z"
   },
   {
    "duration": 1470,
    "start_time": "2022-01-25T15:06:26.323Z"
   },
   {
    "duration": 1469,
    "start_time": "2022-01-25T15:06:26.325Z"
   },
   {
    "duration": 1459,
    "start_time": "2022-01-25T15:06:26.336Z"
   },
   {
    "duration": 1454,
    "start_time": "2022-01-25T15:06:26.343Z"
   },
   {
    "duration": 1453,
    "start_time": "2022-01-25T15:06:26.345Z"
   },
   {
    "duration": 1453,
    "start_time": "2022-01-25T15:06:26.347Z"
   },
   {
    "duration": 1453,
    "start_time": "2022-01-25T15:06:26.348Z"
   },
   {
    "duration": 1452,
    "start_time": "2022-01-25T15:06:26.350Z"
   },
   {
    "duration": 1451,
    "start_time": "2022-01-25T15:06:26.353Z"
   },
   {
    "duration": 1449,
    "start_time": "2022-01-25T15:06:26.356Z"
   },
   {
    "duration": 1449,
    "start_time": "2022-01-25T15:06:26.358Z"
   },
   {
    "duration": 1446,
    "start_time": "2022-01-25T15:06:26.362Z"
   },
   {
    "duration": 82,
    "start_time": "2022-01-25T15:07:18.617Z"
   },
   {
    "duration": 1501,
    "start_time": "2022-01-25T15:07:52.692Z"
   },
   {
    "duration": 80,
    "start_time": "2022-01-25T15:08:36.083Z"
   },
   {
    "duration": 30,
    "start_time": "2022-01-25T15:08:36.166Z"
   },
   {
    "duration": 17,
    "start_time": "2022-01-25T15:08:36.223Z"
   },
   {
    "duration": 21,
    "start_time": "2022-01-25T15:08:36.243Z"
   },
   {
    "duration": 13,
    "start_time": "2022-01-25T15:08:36.267Z"
   },
   {
    "duration": 17,
    "start_time": "2022-01-25T15:08:36.282Z"
   },
   {
    "duration": 25,
    "start_time": "2022-01-25T15:08:36.302Z"
   },
   {
    "duration": 16,
    "start_time": "2022-01-25T15:08:36.331Z"
   },
   {
    "duration": 27,
    "start_time": "2022-01-25T15:08:36.353Z"
   },
   {
    "duration": 9,
    "start_time": "2022-01-25T15:08:36.384Z"
   },
   {
    "duration": 58,
    "start_time": "2022-01-25T15:08:36.396Z"
   },
   {
    "duration": 21,
    "start_time": "2022-01-25T15:08:36.457Z"
   },
   {
    "duration": 53,
    "start_time": "2022-01-25T15:08:36.480Z"
   },
   {
    "duration": 7,
    "start_time": "2022-01-25T15:08:36.535Z"
   },
   {
    "duration": 11,
    "start_time": "2022-01-25T15:08:36.544Z"
   },
   {
    "duration": 7,
    "start_time": "2022-01-25T15:08:36.558Z"
   },
   {
    "duration": 10,
    "start_time": "2022-01-25T15:08:36.567Z"
   },
   {
    "duration": 60,
    "start_time": "2022-01-25T15:08:36.579Z"
   },
   {
    "duration": 31,
    "start_time": "2022-01-25T15:08:36.641Z"
   },
   {
    "duration": 25,
    "start_time": "2022-01-25T15:08:36.675Z"
   },
   {
    "duration": 17,
    "start_time": "2022-01-25T15:08:36.703Z"
   },
   {
    "duration": 84,
    "start_time": "2022-01-25T15:08:36.723Z"
   },
   {
    "duration": 617,
    "start_time": "2022-01-25T15:08:36.809Z"
   },
   {
    "duration": 15,
    "start_time": "2022-01-25T15:08:37.429Z"
   },
   {
    "duration": 16,
    "start_time": "2022-01-25T15:08:37.446Z"
   },
   {
    "duration": 3,
    "start_time": "2022-01-25T15:08:37.465Z"
   },
   {
    "duration": 80,
    "start_time": "2022-01-25T15:08:50.679Z"
   },
   {
    "duration": 7814,
    "start_time": "2022-01-25T15:08:59.737Z"
   },
   {
    "duration": 841,
    "start_time": "2022-01-25T15:09:27.501Z"
   },
   {
    "duration": 31,
    "start_time": "2022-01-25T15:09:28.346Z"
   },
   {
    "duration": 8,
    "start_time": "2022-01-25T15:09:28.380Z"
   },
   {
    "duration": 35,
    "start_time": "2022-01-25T15:09:28.392Z"
   },
   {
    "duration": 20,
    "start_time": "2022-01-25T15:09:28.430Z"
   },
   {
    "duration": 11,
    "start_time": "2022-01-25T15:09:28.453Z"
   },
   {
    "duration": 10,
    "start_time": "2022-01-25T15:09:28.466Z"
   },
   {
    "duration": 11,
    "start_time": "2022-01-25T15:09:28.478Z"
   },
   {
    "duration": 22,
    "start_time": "2022-01-25T15:09:28.527Z"
   },
   {
    "duration": 10,
    "start_time": "2022-01-25T15:09:28.553Z"
   },
   {
    "duration": 68,
    "start_time": "2022-01-25T15:09:28.565Z"
   },
   {
    "duration": 21,
    "start_time": "2022-01-25T15:09:28.638Z"
   },
   {
    "duration": 9,
    "start_time": "2022-01-25T15:09:28.662Z"
   },
   {
    "duration": 6,
    "start_time": "2022-01-25T15:09:28.673Z"
   },
   {
    "duration": 42,
    "start_time": "2022-01-25T15:09:28.681Z"
   },
   {
    "duration": 8,
    "start_time": "2022-01-25T15:09:28.726Z"
   },
   {
    "duration": 15,
    "start_time": "2022-01-25T15:09:28.737Z"
   },
   {
    "duration": 15,
    "start_time": "2022-01-25T15:09:28.755Z"
   },
   {
    "duration": 60,
    "start_time": "2022-01-25T15:09:28.773Z"
   },
   {
    "duration": 19,
    "start_time": "2022-01-25T15:09:28.836Z"
   },
   {
    "duration": 4,
    "start_time": "2022-01-25T15:09:28.858Z"
   },
   {
    "duration": 107,
    "start_time": "2022-01-25T15:09:28.865Z"
   },
   {
    "duration": 601,
    "start_time": "2022-01-25T15:09:28.974Z"
   },
   {
    "duration": 9,
    "start_time": "2022-01-25T15:09:29.578Z"
   },
   {
    "duration": 38,
    "start_time": "2022-01-25T15:09:29.589Z"
   },
   {
    "duration": 4,
    "start_time": "2022-01-25T15:09:29.629Z"
   },
   {
    "duration": 7899,
    "start_time": "2022-01-25T15:09:29.639Z"
   },
   {
    "duration": 1466,
    "start_time": "2022-01-25T15:09:36.075Z"
   },
   {
    "duration": 1464,
    "start_time": "2022-01-25T15:09:36.079Z"
   },
   {
    "duration": 1463,
    "start_time": "2022-01-25T15:09:36.082Z"
   },
   {
    "duration": 1462,
    "start_time": "2022-01-25T15:09:36.085Z"
   },
   {
    "duration": 1462,
    "start_time": "2022-01-25T15:09:36.086Z"
   },
   {
    "duration": 1462,
    "start_time": "2022-01-25T15:09:36.088Z"
   },
   {
    "duration": 1462,
    "start_time": "2022-01-25T15:09:36.090Z"
   },
   {
    "duration": 1461,
    "start_time": "2022-01-25T15:09:36.092Z"
   },
   {
    "duration": 1460,
    "start_time": "2022-01-25T15:09:36.094Z"
   },
   {
    "duration": 1461,
    "start_time": "2022-01-25T15:09:36.095Z"
   },
   {
    "duration": 1460,
    "start_time": "2022-01-25T15:09:36.097Z"
   },
   {
    "duration": 1453,
    "start_time": "2022-01-25T15:09:36.105Z"
   },
   {
    "duration": 1452,
    "start_time": "2022-01-25T15:09:36.108Z"
   },
   {
    "duration": 1451,
    "start_time": "2022-01-25T15:09:36.110Z"
   },
   {
    "duration": 1451,
    "start_time": "2022-01-25T15:09:36.111Z"
   },
   {
    "duration": 1451,
    "start_time": "2022-01-25T15:09:36.113Z"
   },
   {
    "duration": 1450,
    "start_time": "2022-01-25T15:09:36.115Z"
   },
   {
    "duration": 14,
    "start_time": "2022-01-25T15:10:21.185Z"
   },
   {
    "duration": 15,
    "start_time": "2022-01-25T15:12:09.298Z"
   },
   {
    "duration": 104,
    "start_time": "2022-01-25T15:24:28.012Z"
   },
   {
    "duration": 12,
    "start_time": "2022-01-25T15:26:12.944Z"
   },
   {
    "duration": 363,
    "start_time": "2022-01-25T15:26:25.653Z"
   },
   {
    "duration": 11,
    "start_time": "2022-01-25T15:26:30.785Z"
   },
   {
    "duration": 6,
    "start_time": "2022-01-25T15:26:37.953Z"
   },
   {
    "duration": 6,
    "start_time": "2022-01-25T15:26:39.960Z"
   },
   {
    "duration": 72,
    "start_time": "2022-01-25T15:26:55.037Z"
   },
   {
    "duration": 48,
    "start_time": "2022-01-25T15:26:55.111Z"
   },
   {
    "duration": 10,
    "start_time": "2022-01-25T15:26:55.164Z"
   },
   {
    "duration": 12,
    "start_time": "2022-01-25T15:26:55.178Z"
   },
   {
    "duration": 14,
    "start_time": "2022-01-25T15:26:55.232Z"
   },
   {
    "duration": 16,
    "start_time": "2022-01-25T15:26:55.249Z"
   },
   {
    "duration": 27,
    "start_time": "2022-01-25T15:26:55.267Z"
   },
   {
    "duration": 13,
    "start_time": "2022-01-25T15:26:55.296Z"
   },
   {
    "duration": 40,
    "start_time": "2022-01-25T15:26:55.312Z"
   },
   {
    "duration": 12,
    "start_time": "2022-01-25T15:26:55.356Z"
   },
   {
    "duration": 54,
    "start_time": "2022-01-25T15:26:55.371Z"
   },
   {
    "duration": 30,
    "start_time": "2022-01-25T15:26:55.433Z"
   },
   {
    "duration": 9,
    "start_time": "2022-01-25T15:26:55.465Z"
   },
   {
    "duration": 6,
    "start_time": "2022-01-25T15:26:55.476Z"
   },
   {
    "duration": 383,
    "start_time": "2022-01-25T15:27:54.197Z"
   },
   {
    "duration": 318,
    "start_time": "2022-01-25T15:28:27.349Z"
   },
   {
    "duration": 894,
    "start_time": "2022-01-25T15:28:36.953Z"
   },
   {
    "duration": 35,
    "start_time": "2022-01-25T15:28:37.851Z"
   },
   {
    "duration": 9,
    "start_time": "2022-01-25T15:28:37.889Z"
   },
   {
    "duration": 22,
    "start_time": "2022-01-25T15:28:37.932Z"
   },
   {
    "duration": 10,
    "start_time": "2022-01-25T15:28:37.956Z"
   },
   {
    "duration": 10,
    "start_time": "2022-01-25T15:28:37.968Z"
   },
   {
    "duration": 9,
    "start_time": "2022-01-25T15:28:37.981Z"
   },
   {
    "duration": 18,
    "start_time": "2022-01-25T15:28:38.029Z"
   },
   {
    "duration": 31,
    "start_time": "2022-01-25T15:28:38.052Z"
   },
   {
    "duration": 10,
    "start_time": "2022-01-25T15:28:38.086Z"
   },
   {
    "duration": 65,
    "start_time": "2022-01-25T15:28:38.099Z"
   },
   {
    "duration": 25,
    "start_time": "2022-01-25T15:28:38.166Z"
   },
   {
    "duration": 56,
    "start_time": "2022-01-25T15:28:38.193Z"
   },
   {
    "duration": 17,
    "start_time": "2022-01-25T15:28:38.251Z"
   },
   {
    "duration": 10,
    "start_time": "2022-01-25T15:28:38.271Z"
   },
   {
    "duration": 12,
    "start_time": "2022-01-25T15:28:38.284Z"
   },
   {
    "duration": 26,
    "start_time": "2022-01-25T15:28:38.298Z"
   },
   {
    "duration": 32,
    "start_time": "2022-01-25T15:28:38.332Z"
   },
   {
    "duration": 22,
    "start_time": "2022-01-25T15:28:38.367Z"
   },
   {
    "duration": 33,
    "start_time": "2022-01-25T15:28:38.392Z"
   },
   {
    "duration": 4,
    "start_time": "2022-01-25T15:28:38.429Z"
   },
   {
    "duration": 101,
    "start_time": "2022-01-25T15:28:38.437Z"
   },
   {
    "duration": 655,
    "start_time": "2022-01-25T15:28:38.545Z"
   },
   {
    "duration": 10,
    "start_time": "2022-01-25T15:28:39.203Z"
   },
   {
    "duration": 23,
    "start_time": "2022-01-25T15:28:39.225Z"
   },
   {
    "duration": 9,
    "start_time": "2022-01-25T15:28:39.252Z"
   },
   {
    "duration": 105,
    "start_time": "2022-01-25T15:28:39.264Z"
   },
   {
    "duration": 16,
    "start_time": "2022-01-25T15:28:39.371Z"
   },
   {
    "duration": 3,
    "start_time": "2022-01-25T15:28:39.389Z"
   },
   {
    "duration": 36,
    "start_time": "2022-01-25T15:28:39.395Z"
   },
   {
    "duration": 41,
    "start_time": "2022-01-25T15:28:39.433Z"
   },
   {
    "duration": 28,
    "start_time": "2022-01-25T15:28:39.476Z"
   },
   {
    "duration": 66,
    "start_time": "2022-01-25T15:28:39.506Z"
   },
   {
    "duration": 3,
    "start_time": "2022-01-25T15:28:39.574Z"
   },
   {
    "duration": 3906,
    "start_time": "2022-01-25T15:28:39.579Z"
   },
   {
    "duration": 3,
    "start_time": "2022-01-25T15:28:43.487Z"
   },
   {
    "duration": 8,
    "start_time": "2022-01-25T15:28:43.493Z"
   },
   {
    "duration": 31,
    "start_time": "2022-01-25T15:28:43.503Z"
   },
   {
    "duration": 10,
    "start_time": "2022-01-25T15:28:43.538Z"
   },
   {
    "duration": 43,
    "start_time": "2022-01-25T15:28:43.552Z"
   },
   {
    "duration": 65,
    "start_time": "2022-01-25T15:28:43.597Z"
   },
   {
    "duration": 65,
    "start_time": "2022-01-25T15:28:43.664Z"
   },
   {
    "duration": 45,
    "start_time": "2022-01-25T15:28:43.734Z"
   },
   {
    "duration": 74,
    "start_time": "2022-01-25T15:28:43.781Z"
   },
   {
    "duration": 856,
    "start_time": "2022-01-25T15:28:43.858Z"
   },
   {
    "duration": 55,
    "start_time": "2022-01-25T15:28:44.717Z"
   },
   {
    "duration": 17,
    "start_time": "2022-01-25T15:29:25.289Z"
   },
   {
    "duration": 13,
    "start_time": "2022-01-25T15:29:36.472Z"
   },
   {
    "duration": 99,
    "start_time": "2022-01-25T15:30:09.289Z"
   },
   {
    "duration": 54,
    "start_time": "2022-01-25T15:30:09.391Z"
   },
   {
    "duration": 15,
    "start_time": "2022-01-25T15:30:09.449Z"
   },
   {
    "duration": 21,
    "start_time": "2022-01-25T15:30:09.467Z"
   },
   {
    "duration": 11,
    "start_time": "2022-01-25T15:30:09.490Z"
   },
   {
    "duration": 34,
    "start_time": "2022-01-25T15:30:09.504Z"
   },
   {
    "duration": 44,
    "start_time": "2022-01-25T15:30:09.541Z"
   },
   {
    "duration": 11,
    "start_time": "2022-01-25T15:30:09.589Z"
   },
   {
    "duration": 32,
    "start_time": "2022-01-25T15:30:09.604Z"
   },
   {
    "duration": 13,
    "start_time": "2022-01-25T15:30:09.644Z"
   },
   {
    "duration": 36,
    "start_time": "2022-01-25T15:30:09.660Z"
   },
   {
    "duration": 39,
    "start_time": "2022-01-25T15:30:09.698Z"
   },
   {
    "duration": 19,
    "start_time": "2022-01-25T15:30:09.740Z"
   },
   {
    "duration": 10,
    "start_time": "2022-01-25T15:30:09.764Z"
   },
   {
    "duration": 9,
    "start_time": "2022-01-25T15:30:09.776Z"
   },
   {
    "duration": 13,
    "start_time": "2022-01-25T15:30:09.787Z"
   },
   {
    "duration": 30,
    "start_time": "2022-01-25T15:30:09.802Z"
   },
   {
    "duration": 26,
    "start_time": "2022-01-25T15:30:09.835Z"
   },
   {
    "duration": 32,
    "start_time": "2022-01-25T15:30:09.865Z"
   },
   {
    "duration": 39,
    "start_time": "2022-01-25T15:30:09.900Z"
   },
   {
    "duration": 5,
    "start_time": "2022-01-25T15:30:09.942Z"
   },
   {
    "duration": 95,
    "start_time": "2022-01-25T15:30:09.949Z"
   },
   {
    "duration": 704,
    "start_time": "2022-01-25T15:30:10.053Z"
   },
   {
    "duration": 13,
    "start_time": "2022-01-25T15:30:10.761Z"
   },
   {
    "duration": 23,
    "start_time": "2022-01-25T15:30:10.777Z"
   },
   {
    "duration": 3,
    "start_time": "2022-01-25T15:30:10.802Z"
   },
   {
    "duration": 89,
    "start_time": "2022-01-25T15:30:10.830Z"
   },
   {
    "duration": 27,
    "start_time": "2022-01-25T15:30:10.923Z"
   },
   {
    "duration": 21,
    "start_time": "2022-01-25T15:35:27.669Z"
   },
   {
    "duration": 22,
    "start_time": "2022-01-25T15:35:40.659Z"
   },
   {
    "duration": 435,
    "start_time": "2022-01-25T15:36:44.446Z"
   },
   {
    "duration": 306,
    "start_time": "2022-01-25T15:37:01.638Z"
   },
   {
    "duration": 10,
    "start_time": "2022-01-25T15:37:07.438Z"
   },
   {
    "duration": 329,
    "start_time": "2022-01-25T15:37:26.445Z"
   },
   {
    "duration": 23,
    "start_time": "2022-01-25T15:37:44.148Z"
   },
   {
    "duration": 300,
    "start_time": "2022-01-25T15:39:43.958Z"
   },
   {
    "duration": 336,
    "start_time": "2022-01-25T15:39:55.772Z"
   },
   {
    "duration": 359,
    "start_time": "2022-01-25T15:41:42.754Z"
   },
   {
    "duration": 305,
    "start_time": "2022-01-25T15:41:59.573Z"
   },
   {
    "duration": 304,
    "start_time": "2022-01-25T15:42:05.474Z"
   },
   {
    "duration": 291,
    "start_time": "2022-01-25T15:42:18.736Z"
   },
   {
    "duration": 8,
    "start_time": "2022-01-25T15:43:03.547Z"
   },
   {
    "duration": 7,
    "start_time": "2022-01-25T15:43:29.200Z"
   },
   {
    "duration": 340,
    "start_time": "2022-01-25T15:46:47.100Z"
   },
   {
    "duration": 288,
    "start_time": "2022-01-25T15:46:59.305Z"
   },
   {
    "duration": 9,
    "start_time": "2022-01-25T15:48:02.338Z"
   },
   {
    "duration": 20,
    "start_time": "2022-01-25T15:48:27.189Z"
   },
   {
    "duration": 12,
    "start_time": "2022-01-25T15:48:42.929Z"
   },
   {
    "duration": 8,
    "start_time": "2022-01-25T15:48:59.262Z"
   },
   {
    "duration": 9,
    "start_time": "2022-01-25T15:50:45.778Z"
   },
   {
    "duration": 10,
    "start_time": "2022-01-25T15:51:05.905Z"
   },
   {
    "duration": 74,
    "start_time": "2022-01-25T15:55:15.955Z"
   },
   {
    "duration": 995,
    "start_time": "2022-01-25T15:55:35.941Z"
   },
   {
    "duration": 42,
    "start_time": "2022-01-25T15:55:36.940Z"
   },
   {
    "duration": 37,
    "start_time": "2022-01-25T15:55:36.986Z"
   },
   {
    "duration": 15,
    "start_time": "2022-01-25T15:55:37.027Z"
   },
   {
    "duration": 19,
    "start_time": "2022-01-25T15:55:37.045Z"
   },
   {
    "duration": 14,
    "start_time": "2022-01-25T15:55:37.067Z"
   },
   {
    "duration": 43,
    "start_time": "2022-01-25T15:55:37.084Z"
   },
   {
    "duration": 13,
    "start_time": "2022-01-25T15:55:37.134Z"
   },
   {
    "duration": 21,
    "start_time": "2022-01-25T15:55:37.150Z"
   },
   {
    "duration": 10,
    "start_time": "2022-01-25T15:55:37.173Z"
   },
   {
    "duration": 36,
    "start_time": "2022-01-25T15:55:37.224Z"
   },
   {
    "duration": 22,
    "start_time": "2022-01-25T15:55:37.263Z"
   },
   {
    "duration": 44,
    "start_time": "2022-01-25T15:55:37.287Z"
   },
   {
    "duration": 11,
    "start_time": "2022-01-25T15:55:37.334Z"
   },
   {
    "duration": 25,
    "start_time": "2022-01-25T15:55:37.348Z"
   },
   {
    "duration": 9,
    "start_time": "2022-01-25T15:55:37.376Z"
   },
   {
    "duration": 9,
    "start_time": "2022-01-25T15:55:37.387Z"
   },
   {
    "duration": 21,
    "start_time": "2022-01-25T15:55:37.422Z"
   },
   {
    "duration": 24,
    "start_time": "2022-01-25T15:55:37.445Z"
   },
   {
    "duration": 14,
    "start_time": "2022-01-25T15:55:37.472Z"
   },
   {
    "duration": 6,
    "start_time": "2022-01-25T15:55:37.524Z"
   },
   {
    "duration": 91,
    "start_time": "2022-01-25T15:55:37.533Z"
   },
   {
    "duration": 639,
    "start_time": "2022-01-25T15:55:37.630Z"
   },
   {
    "duration": 12,
    "start_time": "2022-01-25T15:55:38.273Z"
   },
   {
    "duration": 40,
    "start_time": "2022-01-25T15:55:38.288Z"
   },
   {
    "duration": 4,
    "start_time": "2022-01-25T15:55:38.331Z"
   },
   {
    "duration": 123,
    "start_time": "2022-01-25T15:55:38.338Z"
   },
   {
    "duration": 16,
    "start_time": "2022-01-25T15:55:38.463Z"
   },
   {
    "duration": 11,
    "start_time": "2022-01-25T15:55:38.482Z"
   },
   {
    "duration": 58,
    "start_time": "2022-01-25T15:55:38.496Z"
   },
   {
    "duration": 27,
    "start_time": "2022-01-25T15:55:38.557Z"
   },
   {
    "duration": 97,
    "start_time": "2022-01-25T15:55:38.586Z"
   },
   {
    "duration": 3,
    "start_time": "2022-01-25T15:55:38.686Z"
   },
   {
    "duration": 3142,
    "start_time": "2022-01-25T15:55:38.691Z"
   },
   {
    "duration": 4,
    "start_time": "2022-01-25T15:55:41.837Z"
   },
   {
    "duration": 9,
    "start_time": "2022-01-25T15:55:41.844Z"
   },
   {
    "duration": 4,
    "start_time": "2022-01-25T15:55:41.855Z"
   },
   {
    "duration": 5,
    "start_time": "2022-01-25T15:55:41.862Z"
   },
   {
    "duration": 72,
    "start_time": "2022-01-25T15:55:41.869Z"
   },
   {
    "duration": 39,
    "start_time": "2022-01-25T15:55:41.944Z"
   },
   {
    "duration": 84,
    "start_time": "2022-01-25T15:55:41.986Z"
   },
   {
    "duration": 31,
    "start_time": "2022-01-25T15:55:42.072Z"
   },
   {
    "duration": 35,
    "start_time": "2022-01-25T15:55:42.123Z"
   },
   {
    "duration": 808,
    "start_time": "2022-01-25T15:55:42.161Z"
   },
   {
    "duration": 35,
    "start_time": "2022-01-25T15:55:42.972Z"
   },
   {
    "duration": 30,
    "start_time": "2022-01-25T15:56:57.934Z"
   },
   {
    "duration": 799,
    "start_time": "2022-01-25T15:57:08.190Z"
   },
   {
    "duration": 45,
    "start_time": "2022-01-25T15:57:08.993Z"
   },
   {
    "duration": 10,
    "start_time": "2022-01-25T15:57:09.041Z"
   },
   {
    "duration": 14,
    "start_time": "2022-01-25T15:57:09.055Z"
   },
   {
    "duration": 11,
    "start_time": "2022-01-25T15:57:09.072Z"
   },
   {
    "duration": 50,
    "start_time": "2022-01-25T15:57:09.085Z"
   },
   {
    "duration": 15,
    "start_time": "2022-01-25T15:57:09.138Z"
   },
   {
    "duration": 10,
    "start_time": "2022-01-25T15:57:09.159Z"
   },
   {
    "duration": 66,
    "start_time": "2022-01-25T15:57:09.173Z"
   },
   {
    "duration": 10,
    "start_time": "2022-01-25T15:57:09.242Z"
   },
   {
    "duration": 34,
    "start_time": "2022-01-25T15:57:09.254Z"
   },
   {
    "duration": 44,
    "start_time": "2022-01-25T15:57:09.291Z"
   },
   {
    "duration": 8,
    "start_time": "2022-01-25T15:57:09.338Z"
   },
   {
    "duration": 6,
    "start_time": "2022-01-25T15:57:09.348Z"
   },
   {
    "duration": 10,
    "start_time": "2022-01-25T15:57:09.357Z"
   },
   {
    "duration": 8,
    "start_time": "2022-01-25T15:57:09.369Z"
   },
   {
    "duration": 60,
    "start_time": "2022-01-25T15:57:09.379Z"
   },
   {
    "duration": 21,
    "start_time": "2022-01-25T15:57:09.442Z"
   },
   {
    "duration": 13,
    "start_time": "2022-01-25T15:57:09.465Z"
   },
   {
    "duration": 3,
    "start_time": "2022-01-25T15:57:09.481Z"
   },
   {
    "duration": 107,
    "start_time": "2022-01-25T15:57:09.487Z"
   },
   {
    "duration": 578,
    "start_time": "2022-01-25T15:57:09.597Z"
   },
   {
    "duration": 11,
    "start_time": "2022-01-25T15:57:10.180Z"
   },
   {
    "duration": 38,
    "start_time": "2022-01-25T15:57:10.194Z"
   },
   {
    "duration": 5,
    "start_time": "2022-01-25T15:57:10.234Z"
   },
   {
    "duration": 86,
    "start_time": "2022-01-25T15:57:10.241Z"
   },
   {
    "duration": 18,
    "start_time": "2022-01-25T15:57:10.330Z"
   },
   {
    "duration": 11,
    "start_time": "2022-01-25T15:57:10.351Z"
   },
   {
    "duration": 22,
    "start_time": "2022-01-25T15:57:10.365Z"
   },
   {
    "duration": 27,
    "start_time": "2022-01-25T15:57:10.424Z"
   },
   {
    "duration": 23,
    "start_time": "2022-01-25T15:57:10.454Z"
   },
   {
    "duration": 81,
    "start_time": "2022-01-25T15:57:10.480Z"
   },
   {
    "duration": 4,
    "start_time": "2022-01-25T15:57:10.564Z"
   },
   {
    "duration": 3136,
    "start_time": "2022-01-25T15:57:10.571Z"
   },
   {
    "duration": 14,
    "start_time": "2022-01-25T15:57:13.710Z"
   },
   {
    "duration": 17,
    "start_time": "2022-01-25T15:57:13.728Z"
   },
   {
    "duration": 8,
    "start_time": "2022-01-25T15:57:13.747Z"
   },
   {
    "duration": 6,
    "start_time": "2022-01-25T15:57:13.757Z"
   },
   {
    "duration": 30,
    "start_time": "2022-01-25T15:57:13.765Z"
   },
   {
    "duration": 64,
    "start_time": "2022-01-25T15:57:13.798Z"
   },
   {
    "duration": 74,
    "start_time": "2022-01-25T15:57:13.865Z"
   },
   {
    "duration": 36,
    "start_time": "2022-01-25T15:57:13.942Z"
   },
   {
    "duration": 64,
    "start_time": "2022-01-25T15:57:13.981Z"
   },
   {
    "duration": 779,
    "start_time": "2022-01-25T15:57:14.048Z"
   },
   {
    "duration": 40,
    "start_time": "2022-01-25T15:57:14.830Z"
   },
   {
    "duration": 37,
    "start_time": "2022-01-25T15:58:47.211Z"
   },
   {
    "duration": 813,
    "start_time": "2022-01-25T15:58:58.988Z"
   },
   {
    "duration": 36,
    "start_time": "2022-01-25T15:58:59.803Z"
   },
   {
    "duration": 11,
    "start_time": "2022-01-25T15:58:59.844Z"
   },
   {
    "duration": 12,
    "start_time": "2022-01-25T15:58:59.858Z"
   },
   {
    "duration": 12,
    "start_time": "2022-01-25T15:58:59.872Z"
   },
   {
    "duration": 48,
    "start_time": "2022-01-25T15:58:59.886Z"
   },
   {
    "duration": 21,
    "start_time": "2022-01-25T15:58:59.937Z"
   },
   {
    "duration": 11,
    "start_time": "2022-01-25T15:58:59.961Z"
   },
   {
    "duration": 55,
    "start_time": "2022-01-25T15:58:59.976Z"
   },
   {
    "duration": 10,
    "start_time": "2022-01-25T15:59:00.037Z"
   },
   {
    "duration": 29,
    "start_time": "2022-01-25T15:59:00.050Z"
   },
   {
    "duration": 53,
    "start_time": "2022-01-25T15:59:00.081Z"
   },
   {
    "duration": 6,
    "start_time": "2022-01-25T15:59:00.136Z"
   },
   {
    "duration": 18,
    "start_time": "2022-01-25T15:59:00.145Z"
   },
   {
    "duration": 18,
    "start_time": "2022-01-25T15:59:00.165Z"
   },
   {
    "duration": 10,
    "start_time": "2022-01-25T15:59:00.186Z"
   },
   {
    "duration": 21,
    "start_time": "2022-01-25T15:59:00.224Z"
   },
   {
    "duration": 28,
    "start_time": "2022-01-25T15:59:00.247Z"
   },
   {
    "duration": 26,
    "start_time": "2022-01-25T15:59:00.278Z"
   },
   {
    "duration": 17,
    "start_time": "2022-01-25T15:59:00.306Z"
   },
   {
    "duration": 94,
    "start_time": "2022-01-25T15:59:00.327Z"
   },
   {
    "duration": 610,
    "start_time": "2022-01-25T15:59:00.428Z"
   },
   {
    "duration": 13,
    "start_time": "2022-01-25T15:59:01.041Z"
   },
   {
    "duration": 21,
    "start_time": "2022-01-25T15:59:01.057Z"
   },
   {
    "duration": 5,
    "start_time": "2022-01-25T15:59:01.081Z"
   },
   {
    "duration": 116,
    "start_time": "2022-01-25T15:59:01.088Z"
   },
   {
    "duration": 32,
    "start_time": "2022-01-25T15:59:01.211Z"
   },
   {
    "duration": 18,
    "start_time": "2022-01-25T15:59:01.247Z"
   },
   {
    "duration": 28,
    "start_time": "2022-01-25T15:59:01.268Z"
   },
   {
    "duration": 51,
    "start_time": "2022-01-25T15:59:01.299Z"
   },
   {
    "duration": 27,
    "start_time": "2022-01-25T15:59:01.353Z"
   },
   {
    "duration": 81,
    "start_time": "2022-01-25T15:59:01.382Z"
   },
   {
    "duration": 4,
    "start_time": "2022-01-25T15:59:01.467Z"
   },
   {
    "duration": 3340,
    "start_time": "2022-01-25T15:59:01.474Z"
   },
   {
    "duration": 5,
    "start_time": "2022-01-25T15:59:04.824Z"
   },
   {
    "duration": 18,
    "start_time": "2022-01-25T15:59:04.832Z"
   },
   {
    "duration": 4,
    "start_time": "2022-01-25T15:59:04.852Z"
   },
   {
    "duration": 6,
    "start_time": "2022-01-25T15:59:04.858Z"
   },
   {
    "duration": 60,
    "start_time": "2022-01-25T15:59:04.867Z"
   },
   {
    "duration": 53,
    "start_time": "2022-01-25T15:59:04.930Z"
   },
   {
    "duration": 85,
    "start_time": "2022-01-25T15:59:04.985Z"
   },
   {
    "duration": 33,
    "start_time": "2022-01-25T15:59:05.072Z"
   },
   {
    "duration": 40,
    "start_time": "2022-01-25T15:59:05.123Z"
   },
   {
    "duration": 816,
    "start_time": "2022-01-25T15:59:05.166Z"
   },
   {
    "duration": 70,
    "start_time": "2022-01-25T15:59:05.984Z"
   },
   {
    "duration": 3163,
    "start_time": "2022-01-25T16:15:21.941Z"
   },
   {
    "duration": 4106,
    "start_time": "2022-01-25T16:16:40.151Z"
   },
   {
    "duration": 9,
    "start_time": "2022-01-25T16:22:41.078Z"
   },
   {
    "duration": 12,
    "start_time": "2022-01-25T16:22:58.622Z"
   },
   {
    "duration": 6,
    "start_time": "2022-01-25T16:24:20.342Z"
   },
   {
    "duration": 32,
    "start_time": "2022-01-25T16:24:40.225Z"
   },
   {
    "duration": 3827,
    "start_time": "2022-01-25T16:25:09.018Z"
   },
   {
    "duration": 3320,
    "start_time": "2022-01-25T16:28:57.769Z"
   },
   {
    "duration": 4232,
    "start_time": "2022-01-25T16:29:24.691Z"
   },
   {
    "duration": 49,
    "start_time": "2022-01-25T16:43:05.997Z"
   },
   {
    "duration": 36,
    "start_time": "2022-01-25T16:43:22.262Z"
   },
   {
    "duration": 22,
    "start_time": "2022-01-25T16:54:28.777Z"
   },
   {
    "duration": 38,
    "start_time": "2022-01-25T16:54:32.535Z"
   },
   {
    "duration": 37,
    "start_time": "2022-01-25T16:55:41.714Z"
   },
   {
    "duration": 47,
    "start_time": "2022-01-25T16:56:15.013Z"
   },
   {
    "duration": 42,
    "start_time": "2022-01-25T16:56:37.232Z"
   },
   {
    "duration": 35,
    "start_time": "2022-01-25T16:56:43.868Z"
   },
   {
    "duration": 98,
    "start_time": "2022-01-25T16:57:27.193Z"
   },
   {
    "duration": 31,
    "start_time": "2022-01-25T16:57:31.587Z"
   },
   {
    "duration": 40,
    "start_time": "2022-01-25T16:57:58.611Z"
   },
   {
    "duration": 35,
    "start_time": "2022-01-25T16:59:24.613Z"
   },
   {
    "duration": 37,
    "start_time": "2022-01-25T16:59:50.228Z"
   },
   {
    "duration": 31,
    "start_time": "2022-01-25T17:00:56.997Z"
   },
   {
    "duration": 30,
    "start_time": "2022-01-25T17:01:14.436Z"
   },
   {
    "duration": 40,
    "start_time": "2022-01-25T17:06:48.279Z"
   },
   {
    "duration": 827,
    "start_time": "2022-01-25T17:07:01.303Z"
   },
   {
    "duration": 32,
    "start_time": "2022-01-25T17:07:02.133Z"
   },
   {
    "duration": 9,
    "start_time": "2022-01-25T17:07:02.168Z"
   },
   {
    "duration": 19,
    "start_time": "2022-01-25T17:07:02.179Z"
   },
   {
    "duration": 12,
    "start_time": "2022-01-25T17:07:02.226Z"
   },
   {
    "duration": 26,
    "start_time": "2022-01-25T17:07:02.242Z"
   },
   {
    "duration": 24,
    "start_time": "2022-01-25T17:07:02.271Z"
   },
   {
    "duration": 12,
    "start_time": "2022-01-25T17:07:02.298Z"
   },
   {
    "duration": 24,
    "start_time": "2022-01-25T17:07:02.325Z"
   },
   {
    "duration": 10,
    "start_time": "2022-01-25T17:07:02.353Z"
   },
   {
    "duration": 66,
    "start_time": "2022-01-25T17:07:02.366Z"
   },
   {
    "duration": 11,
    "start_time": "2022-01-25T17:07:02.435Z"
   },
   {
    "duration": 4,
    "start_time": "2022-01-25T17:07:02.448Z"
   },
   {
    "duration": 16,
    "start_time": "2022-01-25T17:07:02.455Z"
   },
   {
    "duration": 11,
    "start_time": "2022-01-25T17:07:02.473Z"
   },
   {
    "duration": 10,
    "start_time": "2022-01-25T17:07:02.487Z"
   },
   {
    "duration": 18,
    "start_time": "2022-01-25T17:07:02.524Z"
   },
   {
    "duration": 20,
    "start_time": "2022-01-25T17:07:02.544Z"
   },
   {
    "duration": 14,
    "start_time": "2022-01-25T17:07:02.567Z"
   },
   {
    "duration": 3,
    "start_time": "2022-01-25T17:07:02.583Z"
   },
   {
    "duration": 69,
    "start_time": "2022-01-25T17:07:02.625Z"
   },
   {
    "duration": 604,
    "start_time": "2022-01-25T17:07:02.696Z"
   },
   {
    "duration": 25,
    "start_time": "2022-01-25T17:07:03.303Z"
   },
   {
    "duration": 15,
    "start_time": "2022-01-25T17:07:03.331Z"
   },
   {
    "duration": 3,
    "start_time": "2022-01-25T17:07:03.349Z"
   },
   {
    "duration": 107,
    "start_time": "2022-01-25T17:07:03.354Z"
   },
   {
    "duration": 14,
    "start_time": "2022-01-25T17:07:03.466Z"
   },
   {
    "duration": 14,
    "start_time": "2022-01-25T17:07:03.483Z"
   },
   {
    "duration": 46,
    "start_time": "2022-01-25T17:07:03.499Z"
   },
   {
    "duration": 24,
    "start_time": "2022-01-25T17:07:03.548Z"
   },
   {
    "duration": 56,
    "start_time": "2022-01-25T17:07:03.575Z"
   },
   {
    "duration": 51,
    "start_time": "2022-01-25T17:07:03.634Z"
   },
   {
    "duration": 3203,
    "start_time": "2022-01-25T17:07:03.687Z"
   },
   {
    "duration": 4,
    "start_time": "2022-01-25T17:07:06.892Z"
   },
   {
    "duration": 52,
    "start_time": "2022-01-25T17:07:06.898Z"
   },
   {
    "duration": 35,
    "start_time": "2022-01-25T17:07:06.953Z"
   },
   {
    "duration": 52,
    "start_time": "2022-01-25T17:07:06.990Z"
   },
   {
    "duration": 767,
    "start_time": "2022-01-25T17:07:07.045Z"
   },
   {
    "duration": 44,
    "start_time": "2022-01-25T17:07:07.814Z"
   },
   {
    "duration": 33,
    "start_time": "2022-01-25T17:07:07.861Z"
   },
   {
    "duration": 54,
    "start_time": "2022-01-25T17:07:07.902Z"
   },
   {
    "duration": 31,
    "start_time": "2022-01-25T17:07:07.958Z"
   },
   {
    "duration": 37,
    "start_time": "2022-01-25T17:07:51.636Z"
   },
   {
    "duration": 29,
    "start_time": "2022-01-25T17:08:13.780Z"
   },
   {
    "duration": 31,
    "start_time": "2022-01-25T17:09:35.598Z"
   },
   {
    "duration": 95,
    "start_time": "2022-01-25T17:12:06.486Z"
   },
   {
    "duration": 30,
    "start_time": "2022-01-25T17:12:33.835Z"
   },
   {
    "duration": 43,
    "start_time": "2022-01-25T17:20:42.523Z"
   },
   {
    "duration": 823,
    "start_time": "2022-01-25T17:23:13.160Z"
   },
   {
    "duration": 16,
    "start_time": "2022-01-25T17:23:13.986Z"
   },
   {
    "duration": 28,
    "start_time": "2022-01-25T17:23:14.008Z"
   },
   {
    "duration": 14,
    "start_time": "2022-01-25T17:23:14.040Z"
   },
   {
    "duration": 11,
    "start_time": "2022-01-25T17:23:14.056Z"
   },
   {
    "duration": 10,
    "start_time": "2022-01-25T17:23:14.069Z"
   },
   {
    "duration": 48,
    "start_time": "2022-01-25T17:23:14.081Z"
   },
   {
    "duration": 15,
    "start_time": "2022-01-25T17:23:14.133Z"
   },
   {
    "duration": 18,
    "start_time": "2022-01-25T17:23:14.151Z"
   },
   {
    "duration": 9,
    "start_time": "2022-01-25T17:23:14.172Z"
   },
   {
    "duration": 70,
    "start_time": "2022-01-25T17:23:14.184Z"
   },
   {
    "duration": 10,
    "start_time": "2022-01-25T17:23:14.256Z"
   },
   {
    "duration": 4,
    "start_time": "2022-01-25T17:23:14.269Z"
   },
   {
    "duration": 6,
    "start_time": "2022-01-25T17:23:14.276Z"
   },
   {
    "duration": 15,
    "start_time": "2022-01-25T17:23:14.323Z"
   },
   {
    "duration": 10,
    "start_time": "2022-01-25T17:23:14.341Z"
   },
   {
    "duration": 15,
    "start_time": "2022-01-25T17:23:14.354Z"
   },
   {
    "duration": 53,
    "start_time": "2022-01-25T17:23:14.371Z"
   },
   {
    "duration": 16,
    "start_time": "2022-01-25T17:23:14.427Z"
   },
   {
    "duration": 3,
    "start_time": "2022-01-25T17:23:14.446Z"
   },
   {
    "duration": 97,
    "start_time": "2022-01-25T17:23:14.452Z"
   },
   {
    "duration": 599,
    "start_time": "2022-01-25T17:23:14.552Z"
   },
   {
    "duration": 10,
    "start_time": "2022-01-25T17:23:15.153Z"
   },
   {
    "duration": 18,
    "start_time": "2022-01-25T17:23:15.165Z"
   },
   {
    "duration": 3,
    "start_time": "2022-01-25T17:23:15.185Z"
   },
   {
    "duration": 101,
    "start_time": "2022-01-25T17:23:15.193Z"
   },
   {
    "duration": 32,
    "start_time": "2022-01-25T17:23:15.297Z"
   },
   {
    "duration": 12,
    "start_time": "2022-01-25T17:23:15.333Z"
   },
   {
    "duration": 23,
    "start_time": "2022-01-25T17:23:15.348Z"
   },
   {
    "duration": 51,
    "start_time": "2022-01-25T17:23:15.373Z"
   },
   {
    "duration": 31,
    "start_time": "2022-01-25T17:23:15.427Z"
   },
   {
    "duration": 69,
    "start_time": "2022-01-25T17:23:15.460Z"
   },
   {
    "duration": 3217,
    "start_time": "2022-01-25T17:23:15.532Z"
   },
   {
    "duration": 4,
    "start_time": "2022-01-25T17:23:18.751Z"
   },
   {
    "duration": 32,
    "start_time": "2022-01-25T17:23:18.757Z"
   },
   {
    "duration": 58,
    "start_time": "2022-01-25T17:23:18.791Z"
   },
   {
    "duration": 22,
    "start_time": "2022-01-25T17:23:18.851Z"
   },
   {
    "duration": 776,
    "start_time": "2022-01-25T17:23:18.876Z"
   },
   {
    "duration": 34,
    "start_time": "2022-01-25T17:23:19.655Z"
   },
   {
    "duration": 53,
    "start_time": "2022-01-25T17:23:19.692Z"
   },
   {
    "duration": 31,
    "start_time": "2022-01-25T17:23:19.748Z"
   },
   {
    "duration": 53,
    "start_time": "2022-01-25T17:23:19.781Z"
   },
   {
    "duration": 7,
    "start_time": "2022-01-25T17:29:08.555Z"
   },
   {
    "duration": 6,
    "start_time": "2022-01-25T17:29:23.808Z"
   },
   {
    "duration": 30,
    "start_time": "2022-01-25T17:40:39.808Z"
   },
   {
    "duration": 21,
    "start_time": "2022-01-25T17:46:42.740Z"
   },
   {
    "duration": 34,
    "start_time": "2022-01-25T17:53:17.865Z"
   },
   {
    "duration": 21,
    "start_time": "2022-01-25T18:01:23.271Z"
   },
   {
    "duration": 25,
    "start_time": "2022-01-25T18:02:59.329Z"
   },
   {
    "duration": 22,
    "start_time": "2022-01-25T18:03:07.200Z"
   },
   {
    "duration": 33,
    "start_time": "2022-01-25T18:03:28.580Z"
   },
   {
    "duration": 19,
    "start_time": "2022-01-25T18:05:43.502Z"
   },
   {
    "duration": 20,
    "start_time": "2022-01-25T18:06:01.607Z"
   },
   {
    "duration": 19,
    "start_time": "2022-01-25T18:06:49.491Z"
   },
   {
    "duration": 23,
    "start_time": "2022-01-25T18:07:27.055Z"
   },
   {
    "duration": 48,
    "start_time": "2022-01-25T18:07:51.808Z"
   },
   {
    "duration": 414,
    "start_time": "2022-01-25T19:02:28.886Z"
   },
   {
    "duration": 29,
    "start_time": "2022-01-25T19:05:10.155Z"
   },
   {
    "duration": 29,
    "start_time": "2022-01-25T19:05:23.380Z"
   },
   {
    "duration": 325,
    "start_time": "2022-01-25T19:05:39.541Z"
   },
   {
    "duration": 30,
    "start_time": "2022-01-25T19:05:46.745Z"
   },
   {
    "duration": 42,
    "start_time": "2022-01-25T19:05:55.064Z"
   },
   {
    "duration": 45,
    "start_time": "2022-01-25T19:06:06.307Z"
   },
   {
    "duration": 106,
    "start_time": "2022-01-25T19:06:17.599Z"
   },
   {
    "duration": 303,
    "start_time": "2022-01-25T19:06:20.966Z"
   },
   {
    "duration": 29,
    "start_time": "2022-01-25T19:06:28.529Z"
   },
   {
    "duration": 35,
    "start_time": "2022-01-25T19:08:38.014Z"
   },
   {
    "duration": 30,
    "start_time": "2022-01-25T19:09:02.650Z"
   },
   {
    "duration": 32,
    "start_time": "2022-01-25T19:09:12.845Z"
   },
   {
    "duration": 10,
    "start_time": "2022-01-25T19:09:48.217Z"
   },
   {
    "duration": 8,
    "start_time": "2022-01-25T19:09:55.538Z"
   },
   {
    "duration": 16,
    "start_time": "2022-01-25T19:13:22.957Z"
   },
   {
    "duration": 12,
    "start_time": "2022-01-25T19:13:27.343Z"
   },
   {
    "duration": 12,
    "start_time": "2022-01-25T19:13:38.302Z"
   },
   {
    "duration": 1076,
    "start_time": "2022-01-25T19:41:12.493Z"
   },
   {
    "duration": 13,
    "start_time": "2022-01-25T19:41:13.573Z"
   },
   {
    "duration": 9,
    "start_time": "2022-01-25T19:41:13.589Z"
   },
   {
    "duration": 8,
    "start_time": "2022-01-25T19:41:13.624Z"
   },
   {
    "duration": 9,
    "start_time": "2022-01-25T19:41:13.635Z"
   },
   {
    "duration": 18,
    "start_time": "2022-01-25T19:41:13.646Z"
   },
   {
    "duration": 57,
    "start_time": "2022-01-25T19:41:13.666Z"
   },
   {
    "duration": 12,
    "start_time": "2022-01-25T19:41:13.726Z"
   },
   {
    "duration": 41,
    "start_time": "2022-01-25T19:41:13.742Z"
   },
   {
    "duration": 37,
    "start_time": "2022-01-25T19:41:13.787Z"
   },
   {
    "duration": 34,
    "start_time": "2022-01-25T19:41:13.827Z"
   },
   {
    "duration": 13,
    "start_time": "2022-01-25T19:41:13.864Z"
   },
   {
    "duration": 5,
    "start_time": "2022-01-25T19:41:13.880Z"
   },
   {
    "duration": 6,
    "start_time": "2022-01-25T19:41:13.925Z"
   },
   {
    "duration": 9,
    "start_time": "2022-01-25T19:41:13.934Z"
   },
   {
    "duration": 10,
    "start_time": "2022-01-25T19:41:13.946Z"
   },
   {
    "duration": 15,
    "start_time": "2022-01-25T19:41:13.960Z"
   },
   {
    "duration": 25,
    "start_time": "2022-01-25T19:41:14.024Z"
   },
   {
    "duration": 18,
    "start_time": "2022-01-25T19:41:14.052Z"
   },
   {
    "duration": 3,
    "start_time": "2022-01-25T19:41:14.072Z"
   },
   {
    "duration": 104,
    "start_time": "2022-01-25T19:41:14.077Z"
   },
   {
    "duration": 578,
    "start_time": "2022-01-25T19:41:14.184Z"
   },
   {
    "duration": 12,
    "start_time": "2022-01-25T19:41:14.765Z"
   },
   {
    "duration": 14,
    "start_time": "2022-01-25T19:41:14.779Z"
   },
   {
    "duration": 6,
    "start_time": "2022-01-25T19:41:14.823Z"
   },
   {
    "duration": 72,
    "start_time": "2022-01-25T19:41:14.832Z"
   },
   {
    "duration": 30,
    "start_time": "2022-01-25T19:41:14.909Z"
   },
   {
    "duration": 11,
    "start_time": "2022-01-25T19:41:14.943Z"
   },
   {
    "duration": 26,
    "start_time": "2022-01-25T19:41:14.957Z"
   },
   {
    "duration": 24,
    "start_time": "2022-01-25T19:41:15.022Z"
   },
   {
    "duration": 29,
    "start_time": "2022-01-25T19:41:15.048Z"
   },
   {
    "duration": 75,
    "start_time": "2022-01-25T19:41:15.080Z"
   },
   {
    "duration": 4458,
    "start_time": "2022-01-25T19:41:15.157Z"
   },
   {
    "duration": 5,
    "start_time": "2022-01-25T19:41:19.624Z"
   },
   {
    "duration": 56,
    "start_time": "2022-01-25T19:41:19.632Z"
   },
   {
    "duration": 53,
    "start_time": "2022-01-25T19:41:19.691Z"
   },
   {
    "duration": 19,
    "start_time": "2022-01-25T19:41:19.746Z"
   },
   {
    "duration": 34,
    "start_time": "2022-01-25T19:41:19.767Z"
   },
   {
    "duration": 836,
    "start_time": "2022-01-25T19:41:19.803Z"
   },
   {
    "duration": 47,
    "start_time": "2022-01-25T19:41:20.642Z"
   },
   {
    "duration": 54,
    "start_time": "2022-01-25T19:41:20.692Z"
   },
   {
    "duration": 42,
    "start_time": "2022-01-25T19:41:20.749Z"
   },
   {
    "duration": 60,
    "start_time": "2022-01-25T19:41:20.794Z"
   },
   {
    "duration": 33,
    "start_time": "2022-01-25T19:41:20.857Z"
   },
   {
    "duration": 29,
    "start_time": "2022-01-25T19:42:06.296Z"
   },
   {
    "duration": 78,
    "start_time": "2022-01-25T19:42:16.571Z"
   },
   {
    "duration": 41,
    "start_time": "2022-01-25T19:42:16.652Z"
   },
   {
    "duration": 34,
    "start_time": "2022-01-25T19:42:58.201Z"
   },
   {
    "duration": 877,
    "start_time": "2022-01-25T19:49:28.040Z"
   },
   {
    "duration": 17,
    "start_time": "2022-01-25T19:49:28.920Z"
   },
   {
    "duration": 16,
    "start_time": "2022-01-25T19:49:28.945Z"
   },
   {
    "duration": 18,
    "start_time": "2022-01-25T19:49:28.963Z"
   },
   {
    "duration": 44,
    "start_time": "2022-01-25T19:49:28.985Z"
   },
   {
    "duration": 14,
    "start_time": "2022-01-25T19:49:29.032Z"
   },
   {
    "duration": 14,
    "start_time": "2022-01-25T19:49:29.052Z"
   },
   {
    "duration": 10,
    "start_time": "2022-01-25T19:49:29.070Z"
   },
   {
    "duration": 43,
    "start_time": "2022-01-25T19:49:29.123Z"
   },
   {
    "duration": 8,
    "start_time": "2022-01-25T19:49:29.169Z"
   },
   {
    "duration": 65,
    "start_time": "2022-01-25T19:49:29.180Z"
   },
   {
    "duration": 11,
    "start_time": "2022-01-25T19:49:29.247Z"
   },
   {
    "duration": 5,
    "start_time": "2022-01-25T19:49:29.261Z"
   },
   {
    "duration": 5,
    "start_time": "2022-01-25T19:49:29.269Z"
   },
   {
    "duration": 53,
    "start_time": "2022-01-25T19:49:29.277Z"
   },
   {
    "duration": 12,
    "start_time": "2022-01-25T19:49:29.333Z"
   },
   {
    "duration": 17,
    "start_time": "2022-01-25T19:49:29.348Z"
   },
   {
    "duration": 60,
    "start_time": "2022-01-25T19:49:29.369Z"
   },
   {
    "duration": 16,
    "start_time": "2022-01-25T19:49:29.432Z"
   },
   {
    "duration": 4,
    "start_time": "2022-01-25T19:49:29.451Z"
   },
   {
    "duration": 98,
    "start_time": "2022-01-25T19:49:29.458Z"
   },
   {
    "duration": 593,
    "start_time": "2022-01-25T19:49:29.563Z"
   },
   {
    "duration": 13,
    "start_time": "2022-01-25T19:49:30.160Z"
   },
   {
    "duration": 47,
    "start_time": "2022-01-25T19:49:30.176Z"
   },
   {
    "duration": 5,
    "start_time": "2022-01-25T19:49:30.226Z"
   },
   {
    "duration": 144,
    "start_time": "2022-01-25T19:49:30.235Z"
   },
   {
    "duration": 18,
    "start_time": "2022-01-25T19:49:30.381Z"
   },
   {
    "duration": 31,
    "start_time": "2022-01-25T19:49:30.402Z"
   },
   {
    "duration": 39,
    "start_time": "2022-01-25T19:49:30.438Z"
   },
   {
    "duration": 58,
    "start_time": "2022-01-25T19:49:30.480Z"
   },
   {
    "duration": 30,
    "start_time": "2022-01-25T19:49:30.541Z"
   },
   {
    "duration": 108,
    "start_time": "2022-01-25T19:49:30.573Z"
   },
   {
    "duration": 3664,
    "start_time": "2022-01-25T19:49:30.684Z"
   },
   {
    "duration": 4,
    "start_time": "2022-01-25T19:49:34.352Z"
   },
   {
    "duration": 329,
    "start_time": "2022-01-25T19:49:34.360Z"
   },
   {
    "duration": 298,
    "start_time": "2022-01-25T19:49:34.693Z"
   },
   {
    "duration": 173,
    "start_time": "2022-01-25T19:49:34.994Z"
   },
   {
    "duration": 120,
    "start_time": "2022-01-25T19:49:35.170Z"
   },
   {
    "duration": 1116,
    "start_time": "2022-01-25T19:49:35.293Z"
   },
   {
    "duration": 59,
    "start_time": "2022-01-25T19:49:36.413Z"
   },
   {
    "duration": 63,
    "start_time": "2022-01-25T19:49:36.475Z"
   },
   {
    "duration": 35,
    "start_time": "2022-01-25T19:49:36.541Z"
   },
   {
    "duration": 66,
    "start_time": "2022-01-25T19:49:36.579Z"
   },
   {
    "duration": 44,
    "start_time": "2022-01-25T19:49:36.648Z"
   },
   {
    "duration": 11,
    "start_time": "2022-01-25T19:55:18.845Z"
   },
   {
    "duration": 832,
    "start_time": "2022-01-25T19:56:56.642Z"
   },
   {
    "duration": 14,
    "start_time": "2022-01-25T19:56:57.477Z"
   },
   {
    "duration": 32,
    "start_time": "2022-01-25T19:56:57.494Z"
   },
   {
    "duration": 25,
    "start_time": "2022-01-25T19:56:57.529Z"
   },
   {
    "duration": 21,
    "start_time": "2022-01-25T19:56:57.557Z"
   },
   {
    "duration": 19,
    "start_time": "2022-01-25T19:56:57.581Z"
   },
   {
    "duration": 25,
    "start_time": "2022-01-25T19:56:57.603Z"
   },
   {
    "duration": 12,
    "start_time": "2022-01-25T19:56:57.634Z"
   },
   {
    "duration": 73,
    "start_time": "2022-01-25T19:56:57.650Z"
   },
   {
    "duration": 8,
    "start_time": "2022-01-25T19:56:57.727Z"
   },
   {
    "duration": 76,
    "start_time": "2022-01-25T19:56:57.738Z"
   },
   {
    "duration": 12,
    "start_time": "2022-01-25T19:56:57.817Z"
   },
   {
    "duration": 5,
    "start_time": "2022-01-25T19:56:57.832Z"
   },
   {
    "duration": 11,
    "start_time": "2022-01-25T19:56:57.840Z"
   },
   {
    "duration": 16,
    "start_time": "2022-01-25T19:56:57.853Z"
   },
   {
    "duration": 25,
    "start_time": "2022-01-25T19:56:57.872Z"
   },
   {
    "duration": 21,
    "start_time": "2022-01-25T19:56:57.900Z"
   },
   {
    "duration": 28,
    "start_time": "2022-01-25T19:56:57.924Z"
   },
   {
    "duration": 36,
    "start_time": "2022-01-25T19:56:57.954Z"
   },
   {
    "duration": 5,
    "start_time": "2022-01-25T19:56:57.993Z"
   },
   {
    "duration": 129,
    "start_time": "2022-01-25T19:56:58.001Z"
   },
   {
    "duration": 1124,
    "start_time": "2022-01-25T19:56:58.133Z"
   },
   {
    "duration": 13,
    "start_time": "2022-01-25T19:56:59.265Z"
   },
   {
    "duration": 43,
    "start_time": "2022-01-25T19:56:59.282Z"
   },
   {
    "duration": 5,
    "start_time": "2022-01-25T19:56:59.328Z"
   },
   {
    "duration": 103,
    "start_time": "2022-01-25T19:56:59.335Z"
   },
   {
    "duration": 16,
    "start_time": "2022-01-25T19:56:59.440Z"
   },
   {
    "duration": 8,
    "start_time": "2022-01-25T19:56:59.459Z"
   },
   {
    "duration": 55,
    "start_time": "2022-01-25T19:56:59.469Z"
   },
   {
    "duration": 34,
    "start_time": "2022-01-25T19:56:59.526Z"
   },
   {
    "duration": 47,
    "start_time": "2022-01-25T19:56:59.563Z"
   },
   {
    "duration": 82,
    "start_time": "2022-01-25T19:56:59.613Z"
   },
   {
    "duration": 3373,
    "start_time": "2022-01-25T19:56:59.698Z"
   },
   {
    "duration": 3,
    "start_time": "2022-01-25T19:57:03.074Z"
   },
   {
    "duration": 50,
    "start_time": "2022-01-25T19:57:03.080Z"
   },
   {
    "duration": 37,
    "start_time": "2022-01-25T19:57:03.132Z"
   },
   {
    "duration": 20,
    "start_time": "2022-01-25T19:57:03.172Z"
   },
   {
    "duration": 29,
    "start_time": "2022-01-25T19:57:03.225Z"
   },
   {
    "duration": 886,
    "start_time": "2022-01-25T19:57:03.256Z"
   },
   {
    "duration": 36,
    "start_time": "2022-01-25T19:57:04.145Z"
   },
   {
    "duration": 50,
    "start_time": "2022-01-25T19:57:04.184Z"
   },
   {
    "duration": 30,
    "start_time": "2022-01-25T19:57:04.236Z"
   },
   {
    "duration": 68,
    "start_time": "2022-01-25T19:57:04.268Z"
   },
   {
    "duration": 42,
    "start_time": "2022-01-25T19:57:04.340Z"
   },
   {
    "duration": 47,
    "start_time": "2022-01-25T19:59:21.941Z"
   },
   {
    "duration": 75,
    "start_time": "2022-01-25T19:59:27.909Z"
   },
   {
    "duration": 15,
    "start_time": "2022-01-25T19:59:27.987Z"
   },
   {
    "duration": 29,
    "start_time": "2022-01-25T19:59:28.005Z"
   },
   {
    "duration": 45,
    "start_time": "2022-01-25T19:59:28.037Z"
   },
   {
    "duration": 35,
    "start_time": "2022-01-25T19:59:28.085Z"
   },
   {
    "duration": 24,
    "start_time": "2022-01-25T19:59:28.122Z"
   },
   {
    "duration": 42,
    "start_time": "2022-01-25T19:59:28.148Z"
   },
   {
    "duration": 26,
    "start_time": "2022-01-25T19:59:28.193Z"
   },
   {
    "duration": 49,
    "start_time": "2022-01-25T19:59:28.223Z"
   },
   {
    "duration": 43,
    "start_time": "2022-01-25T19:59:46.479Z"
   },
   {
    "duration": 768,
    "start_time": "2022-01-25T20:04:22.465Z"
   },
   {
    "duration": 15,
    "start_time": "2022-01-25T20:04:23.236Z"
   },
   {
    "duration": 10,
    "start_time": "2022-01-25T20:04:23.255Z"
   },
   {
    "duration": 15,
    "start_time": "2022-01-25T20:04:23.268Z"
   },
   {
    "duration": 41,
    "start_time": "2022-01-25T20:04:23.286Z"
   },
   {
    "duration": 15,
    "start_time": "2022-01-25T20:04:23.330Z"
   },
   {
    "duration": 13,
    "start_time": "2022-01-25T20:04:23.348Z"
   },
   {
    "duration": 12,
    "start_time": "2022-01-25T20:04:23.364Z"
   },
   {
    "duration": 63,
    "start_time": "2022-01-25T20:04:23.380Z"
   },
   {
    "duration": 6,
    "start_time": "2022-01-25T20:04:23.447Z"
   },
   {
    "duration": 72,
    "start_time": "2022-01-25T20:04:23.455Z"
   },
   {
    "duration": 10,
    "start_time": "2022-01-25T20:04:23.529Z"
   },
   {
    "duration": 5,
    "start_time": "2022-01-25T20:04:23.541Z"
   },
   {
    "duration": 5,
    "start_time": "2022-01-25T20:04:23.549Z"
   },
   {
    "duration": 8,
    "start_time": "2022-01-25T20:04:23.556Z"
   },
   {
    "duration": 60,
    "start_time": "2022-01-25T20:04:23.567Z"
   },
   {
    "duration": 15,
    "start_time": "2022-01-25T20:04:23.629Z"
   },
   {
    "duration": 19,
    "start_time": "2022-01-25T20:04:23.647Z"
   },
   {
    "duration": 55,
    "start_time": "2022-01-25T20:04:23.668Z"
   },
   {
    "duration": 4,
    "start_time": "2022-01-25T20:04:23.725Z"
   },
   {
    "duration": 93,
    "start_time": "2022-01-25T20:04:23.731Z"
   },
   {
    "duration": 589,
    "start_time": "2022-01-25T20:04:23.826Z"
   },
   {
    "duration": 11,
    "start_time": "2022-01-25T20:04:24.423Z"
   },
   {
    "duration": 15,
    "start_time": "2022-01-25T20:04:24.437Z"
   },
   {
    "duration": 4,
    "start_time": "2022-01-25T20:04:24.455Z"
   },
   {
    "duration": 107,
    "start_time": "2022-01-25T20:04:24.462Z"
   },
   {
    "duration": 14,
    "start_time": "2022-01-25T20:04:24.574Z"
   },
   {
    "duration": 32,
    "start_time": "2022-01-25T20:04:24.591Z"
   },
   {
    "duration": 36,
    "start_time": "2022-01-25T20:04:24.626Z"
   },
   {
    "duration": 25,
    "start_time": "2022-01-25T20:04:24.665Z"
   },
   {
    "duration": 52,
    "start_time": "2022-01-25T20:04:24.692Z"
   },
   {
    "duration": 49,
    "start_time": "2022-01-25T20:04:24.747Z"
   },
   {
    "duration": 3344,
    "start_time": "2022-01-25T20:04:24.799Z"
   },
   {
    "duration": 5,
    "start_time": "2022-01-25T20:04:28.146Z"
   },
   {
    "duration": 34,
    "start_time": "2022-01-25T20:04:28.154Z"
   },
   {
    "duration": 65,
    "start_time": "2022-01-25T20:04:28.191Z"
   },
   {
    "duration": 23,
    "start_time": "2022-01-25T20:04:28.260Z"
   },
   {
    "duration": 56,
    "start_time": "2022-01-25T20:04:28.286Z"
   },
   {
    "duration": 2353,
    "start_time": "2022-01-25T20:04:28.345Z"
   },
   {
    "duration": 40,
    "start_time": "2022-01-25T20:04:30.701Z"
   },
   {
    "duration": 48,
    "start_time": "2022-01-25T20:04:30.744Z"
   },
   {
    "duration": 54,
    "start_time": "2022-01-25T20:04:30.795Z"
   },
   {
    "duration": 48,
    "start_time": "2022-01-25T20:04:30.852Z"
   },
   {
    "duration": 53,
    "start_time": "2022-01-25T20:04:30.903Z"
   },
   {
    "duration": 9,
    "start_time": "2022-01-25T20:05:10.076Z"
   },
   {
    "duration": 828,
    "start_time": "2022-01-25T20:05:17.634Z"
   },
   {
    "duration": 14,
    "start_time": "2022-01-25T20:05:18.465Z"
   },
   {
    "duration": 9,
    "start_time": "2022-01-25T20:05:18.482Z"
   },
   {
    "duration": 35,
    "start_time": "2022-01-25T20:05:18.494Z"
   },
   {
    "duration": 9,
    "start_time": "2022-01-25T20:05:18.531Z"
   },
   {
    "duration": 10,
    "start_time": "2022-01-25T20:05:18.543Z"
   },
   {
    "duration": 12,
    "start_time": "2022-01-25T20:05:18.555Z"
   },
   {
    "duration": 55,
    "start_time": "2022-01-25T20:05:18.572Z"
   },
   {
    "duration": 23,
    "start_time": "2022-01-25T20:05:18.631Z"
   },
   {
    "duration": 10,
    "start_time": "2022-01-25T20:05:18.657Z"
   },
   {
    "duration": 80,
    "start_time": "2022-01-25T20:05:18.669Z"
   },
   {
    "duration": 11,
    "start_time": "2022-01-25T20:05:18.751Z"
   },
   {
    "duration": 5,
    "start_time": "2022-01-25T20:05:18.765Z"
   },
   {
    "duration": 52,
    "start_time": "2022-01-25T20:05:18.773Z"
   },
   {
    "duration": 9,
    "start_time": "2022-01-25T20:05:18.828Z"
   },
   {
    "duration": 17,
    "start_time": "2022-01-25T20:05:18.839Z"
   },
   {
    "duration": 14,
    "start_time": "2022-01-25T20:05:18.858Z"
   },
   {
    "duration": 52,
    "start_time": "2022-01-25T20:05:18.874Z"
   },
   {
    "duration": 19,
    "start_time": "2022-01-25T20:05:18.930Z"
   },
   {
    "duration": 3,
    "start_time": "2022-01-25T20:05:18.952Z"
   },
   {
    "duration": 102,
    "start_time": "2022-01-25T20:05:18.957Z"
   },
   {
    "duration": 795,
    "start_time": "2022-01-25T20:05:19.062Z"
   },
   {
    "duration": 11,
    "start_time": "2022-01-25T20:05:19.862Z"
   },
   {
    "duration": 18,
    "start_time": "2022-01-25T20:05:19.877Z"
   },
   {
    "duration": 29,
    "start_time": "2022-01-25T20:05:19.898Z"
   },
   {
    "duration": 95,
    "start_time": "2022-01-25T20:05:19.930Z"
   },
   {
    "duration": 25,
    "start_time": "2022-01-25T20:05:20.028Z"
   },
   {
    "duration": 12,
    "start_time": "2022-01-25T20:05:20.057Z"
   },
   {
    "duration": 62,
    "start_time": "2022-01-25T20:05:20.072Z"
   },
   {
    "duration": 24,
    "start_time": "2022-01-25T20:05:20.137Z"
   },
   {
    "duration": 37,
    "start_time": "2022-01-25T20:05:20.165Z"
   },
   {
    "duration": 50,
    "start_time": "2022-01-25T20:05:20.223Z"
   },
   {
    "duration": 3375,
    "start_time": "2022-01-25T20:05:20.275Z"
   },
   {
    "duration": 4,
    "start_time": "2022-01-25T20:05:23.653Z"
   },
   {
    "duration": 32,
    "start_time": "2022-01-25T20:05:23.659Z"
   },
   {
    "duration": 57,
    "start_time": "2022-01-25T20:05:23.693Z"
   },
   {
    "duration": 20,
    "start_time": "2022-01-25T20:05:23.752Z"
   },
   {
    "duration": 61,
    "start_time": "2022-01-25T20:05:23.775Z"
   },
   {
    "duration": 789,
    "start_time": "2022-01-25T20:05:23.839Z"
   },
   {
    "duration": 36,
    "start_time": "2022-01-25T20:05:24.630Z"
   },
   {
    "duration": 29,
    "start_time": "2022-01-25T20:05:24.669Z"
   },
   {
    "duration": 30,
    "start_time": "2022-01-25T20:05:24.724Z"
   },
   {
    "duration": 32,
    "start_time": "2022-01-25T20:05:24.757Z"
   },
   {
    "duration": 60,
    "start_time": "2022-01-25T20:05:24.791Z"
   },
   {
    "duration": 1044,
    "start_time": "2022-01-25T20:06:41.487Z"
   },
   {
    "duration": 18,
    "start_time": "2022-01-25T20:06:42.535Z"
   },
   {
    "duration": 9,
    "start_time": "2022-01-25T20:06:42.556Z"
   },
   {
    "duration": 9,
    "start_time": "2022-01-25T20:06:42.567Z"
   },
   {
    "duration": 11,
    "start_time": "2022-01-25T20:06:42.578Z"
   },
   {
    "duration": 9,
    "start_time": "2022-01-25T20:06:42.624Z"
   },
   {
    "duration": 10,
    "start_time": "2022-01-25T20:06:42.635Z"
   },
   {
    "duration": 10,
    "start_time": "2022-01-25T20:06:42.648Z"
   },
   {
    "duration": 65,
    "start_time": "2022-01-25T20:06:42.662Z"
   },
   {
    "duration": 7,
    "start_time": "2022-01-25T20:06:42.731Z"
   },
   {
    "duration": 25,
    "start_time": "2022-01-25T20:06:42.740Z"
   },
   {
    "duration": 13,
    "start_time": "2022-01-25T20:06:42.768Z"
   },
   {
    "duration": 5,
    "start_time": "2022-01-25T20:06:42.824Z"
   },
   {
    "duration": 8,
    "start_time": "2022-01-25T20:06:42.831Z"
   },
   {
    "duration": 8,
    "start_time": "2022-01-25T20:06:42.842Z"
   },
   {
    "duration": 10,
    "start_time": "2022-01-25T20:06:42.853Z"
   },
   {
    "duration": 14,
    "start_time": "2022-01-25T20:06:42.866Z"
   },
   {
    "duration": 60,
    "start_time": "2022-01-25T20:06:42.883Z"
   },
   {
    "duration": 15,
    "start_time": "2022-01-25T20:06:42.945Z"
   },
   {
    "duration": 5,
    "start_time": "2022-01-25T20:06:42.963Z"
   },
   {
    "duration": 115,
    "start_time": "2022-01-25T20:06:42.970Z"
   },
   {
    "duration": 580,
    "start_time": "2022-01-25T20:06:43.088Z"
   },
   {
    "duration": 10,
    "start_time": "2022-01-25T20:06:43.670Z"
   },
   {
    "duration": 42,
    "start_time": "2022-01-25T20:06:43.683Z"
   },
   {
    "duration": 3,
    "start_time": "2022-01-25T20:06:43.727Z"
   },
   {
    "duration": 93,
    "start_time": "2022-01-25T20:06:43.732Z"
   },
   {
    "duration": 15,
    "start_time": "2022-01-25T20:06:43.830Z"
   },
   {
    "duration": 10,
    "start_time": "2022-01-25T20:06:43.848Z"
   },
   {
    "duration": 23,
    "start_time": "2022-01-25T20:06:43.860Z"
   },
   {
    "duration": 60,
    "start_time": "2022-01-25T20:06:43.885Z"
   },
   {
    "duration": 28,
    "start_time": "2022-01-25T20:06:43.947Z"
   },
   {
    "duration": 85,
    "start_time": "2022-01-25T20:06:43.977Z"
   },
   {
    "duration": 3146,
    "start_time": "2022-01-25T20:06:44.064Z"
   },
   {
    "duration": 10,
    "start_time": "2022-01-25T20:06:47.213Z"
   },
   {
    "duration": 32,
    "start_time": "2022-01-25T20:06:47.226Z"
   },
   {
    "duration": 66,
    "start_time": "2022-01-25T20:06:47.260Z"
   },
   {
    "duration": 21,
    "start_time": "2022-01-25T20:06:47.328Z"
   },
   {
    "duration": 30,
    "start_time": "2022-01-25T20:06:47.351Z"
   },
   {
    "duration": 1055,
    "start_time": "2022-01-25T20:06:47.384Z"
   },
   {
    "duration": 38,
    "start_time": "2022-01-25T20:06:48.442Z"
   },
   {
    "duration": 57,
    "start_time": "2022-01-25T20:06:48.483Z"
   },
   {
    "duration": 30,
    "start_time": "2022-01-25T20:06:48.543Z"
   },
   {
    "duration": 52,
    "start_time": "2022-01-25T20:06:48.576Z"
   },
   {
    "duration": 34,
    "start_time": "2022-01-25T20:06:48.631Z"
   },
   {
    "duration": 72,
    "start_time": "2022-01-25T20:19:49.425Z"
   },
   {
    "duration": 32,
    "start_time": "2022-01-25T20:20:25.476Z"
   },
   {
    "duration": 824,
    "start_time": "2022-01-25T20:21:40.392Z"
   },
   {
    "duration": 15,
    "start_time": "2022-01-25T20:21:41.219Z"
   },
   {
    "duration": 9,
    "start_time": "2022-01-25T20:21:41.237Z"
   },
   {
    "duration": 12,
    "start_time": "2022-01-25T20:21:41.249Z"
   },
   {
    "duration": 16,
    "start_time": "2022-01-25T20:21:41.264Z"
   },
   {
    "duration": 41,
    "start_time": "2022-01-25T20:21:41.282Z"
   },
   {
    "duration": 9,
    "start_time": "2022-01-25T20:21:41.325Z"
   },
   {
    "duration": 16,
    "start_time": "2022-01-25T20:21:41.337Z"
   },
   {
    "duration": 31,
    "start_time": "2022-01-25T20:21:41.359Z"
   },
   {
    "duration": 7,
    "start_time": "2022-01-25T20:21:41.426Z"
   },
   {
    "duration": 22,
    "start_time": "2022-01-25T20:21:41.435Z"
   },
   {
    "duration": 12,
    "start_time": "2022-01-25T20:21:41.459Z"
   },
   {
    "duration": 4,
    "start_time": "2022-01-25T20:21:41.473Z"
   },
   {
    "duration": 47,
    "start_time": "2022-01-25T20:21:41.479Z"
   },
   {
    "duration": 7,
    "start_time": "2022-01-25T20:21:41.530Z"
   },
   {
    "duration": 10,
    "start_time": "2022-01-25T20:21:41.540Z"
   },
   {
    "duration": 14,
    "start_time": "2022-01-25T20:21:41.553Z"
   },
   {
    "duration": 64,
    "start_time": "2022-01-25T20:21:41.570Z"
   },
   {
    "duration": 15,
    "start_time": "2022-01-25T20:21:41.637Z"
   },
   {
    "duration": 4,
    "start_time": "2022-01-25T20:21:41.655Z"
   },
   {
    "duration": 105,
    "start_time": "2022-01-25T20:21:41.662Z"
   },
   {
    "duration": 551,
    "start_time": "2022-01-25T20:21:41.769Z"
   },
   {
    "duration": 10,
    "start_time": "2022-01-25T20:21:42.324Z"
   },
   {
    "duration": 15,
    "start_time": "2022-01-25T20:21:42.336Z"
   },
   {
    "duration": 3,
    "start_time": "2022-01-25T20:21:42.353Z"
   },
   {
    "duration": 104,
    "start_time": "2022-01-25T20:21:42.358Z"
   },
   {
    "duration": 14,
    "start_time": "2022-01-25T20:21:42.467Z"
   },
   {
    "duration": 9,
    "start_time": "2022-01-25T20:21:42.484Z"
   },
   {
    "duration": 45,
    "start_time": "2022-01-25T20:21:42.496Z"
   },
   {
    "duration": 21,
    "start_time": "2022-01-25T20:21:42.543Z"
   },
   {
    "duration": 27,
    "start_time": "2022-01-25T20:21:42.566Z"
   },
   {
    "duration": 73,
    "start_time": "2022-01-25T20:21:42.595Z"
   },
   {
    "duration": 3102,
    "start_time": "2022-01-25T20:21:42.670Z"
   },
   {
    "duration": 4,
    "start_time": "2022-01-25T20:21:45.774Z"
   },
   {
    "duration": 49,
    "start_time": "2022-01-25T20:21:45.780Z"
   },
   {
    "duration": 32,
    "start_time": "2022-01-25T20:21:45.832Z"
   },
   {
    "duration": 18,
    "start_time": "2022-01-25T20:21:45.866Z"
   },
   {
    "duration": 53,
    "start_time": "2022-01-25T20:21:45.886Z"
   },
   {
    "duration": 821,
    "start_time": "2022-01-25T20:21:45.941Z"
   },
   {
    "duration": 35,
    "start_time": "2022-01-25T20:21:46.764Z"
   },
   {
    "duration": 47,
    "start_time": "2022-01-25T20:21:46.801Z"
   },
   {
    "duration": 29,
    "start_time": "2022-01-25T20:21:46.850Z"
   },
   {
    "duration": 53,
    "start_time": "2022-01-25T20:21:46.881Z"
   },
   {
    "duration": 28,
    "start_time": "2022-01-25T20:21:46.936Z"
   },
   {
    "duration": 11,
    "start_time": "2022-01-25T20:32:51.486Z"
   },
   {
    "duration": 13,
    "start_time": "2022-01-25T20:33:06.006Z"
   },
   {
    "duration": 10,
    "start_time": "2022-01-25T20:33:18.212Z"
   },
   {
    "duration": 11,
    "start_time": "2022-01-25T20:33:28.830Z"
   },
   {
    "duration": 554,
    "start_time": "2022-01-25T20:37:22.003Z"
   },
   {
    "duration": 547,
    "start_time": "2022-01-25T20:44:44.906Z"
   },
   {
    "duration": 570,
    "start_time": "2022-01-25T20:44:59.958Z"
   },
   {
    "duration": 567,
    "start_time": "2022-01-25T20:46:00.628Z"
   },
   {
    "duration": 622,
    "start_time": "2022-01-25T20:46:16.319Z"
   },
   {
    "duration": 586,
    "start_time": "2022-01-25T20:47:20.349Z"
   },
   {
    "duration": 545,
    "start_time": "2022-01-25T20:47:44.949Z"
   },
   {
    "duration": 542,
    "start_time": "2022-01-25T20:53:47.229Z"
   },
   {
    "duration": 584,
    "start_time": "2022-01-25T20:55:53.508Z"
   },
   {
    "duration": 821,
    "start_time": "2022-01-25T21:01:37.096Z"
   },
   {
    "duration": 15,
    "start_time": "2022-01-25T21:01:37.923Z"
   },
   {
    "duration": 9,
    "start_time": "2022-01-25T21:01:37.940Z"
   },
   {
    "duration": 11,
    "start_time": "2022-01-25T21:01:37.952Z"
   },
   {
    "duration": 9,
    "start_time": "2022-01-25T21:01:37.965Z"
   },
   {
    "duration": 52,
    "start_time": "2022-01-25T21:01:37.976Z"
   },
   {
    "duration": 10,
    "start_time": "2022-01-25T21:01:38.031Z"
   },
   {
    "duration": 12,
    "start_time": "2022-01-25T21:01:38.044Z"
   },
   {
    "duration": 64,
    "start_time": "2022-01-25T21:01:38.059Z"
   },
   {
    "duration": 8,
    "start_time": "2022-01-25T21:01:38.125Z"
   },
   {
    "duration": 24,
    "start_time": "2022-01-25T21:01:38.135Z"
   },
   {
    "duration": 11,
    "start_time": "2022-01-25T21:01:38.161Z"
   },
   {
    "duration": 4,
    "start_time": "2022-01-25T21:01:38.176Z"
   },
   {
    "duration": 42,
    "start_time": "2022-01-25T21:01:38.183Z"
   },
   {
    "duration": 8,
    "start_time": "2022-01-25T21:01:38.228Z"
   },
   {
    "duration": 11,
    "start_time": "2022-01-25T21:01:38.238Z"
   },
   {
    "duration": 15,
    "start_time": "2022-01-25T21:01:38.252Z"
   },
   {
    "duration": 72,
    "start_time": "2022-01-25T21:01:38.269Z"
   },
   {
    "duration": 12,
    "start_time": "2022-01-25T21:01:38.343Z"
   },
   {
    "duration": 4,
    "start_time": "2022-01-25T21:01:38.357Z"
   },
   {
    "duration": 104,
    "start_time": "2022-01-25T21:01:38.363Z"
   },
   {
    "duration": 597,
    "start_time": "2022-01-25T21:01:38.472Z"
   },
   {
    "duration": 11,
    "start_time": "2022-01-25T21:01:39.072Z"
   },
   {
    "duration": 17,
    "start_time": "2022-01-25T21:01:39.085Z"
   },
   {
    "duration": 3,
    "start_time": "2022-01-25T21:01:39.124Z"
   },
   {
    "duration": 70,
    "start_time": "2022-01-25T21:01:39.130Z"
   },
   {
    "duration": 32,
    "start_time": "2022-01-25T21:01:39.203Z"
   },
   {
    "duration": 10,
    "start_time": "2022-01-25T21:01:39.238Z"
   },
   {
    "duration": 27,
    "start_time": "2022-01-25T21:01:39.250Z"
   },
   {
    "duration": 61,
    "start_time": "2022-01-25T21:01:39.280Z"
   },
   {
    "duration": 29,
    "start_time": "2022-01-25T21:01:39.343Z"
   },
   {
    "duration": 70,
    "start_time": "2022-01-25T21:01:39.374Z"
   },
   {
    "duration": 3135,
    "start_time": "2022-01-25T21:01:39.446Z"
   },
   {
    "duration": 4,
    "start_time": "2022-01-25T21:01:42.585Z"
   },
   {
    "duration": 51,
    "start_time": "2022-01-25T21:01:42.592Z"
   },
   {
    "duration": 33,
    "start_time": "2022-01-25T21:01:42.645Z"
   },
   {
    "duration": 44,
    "start_time": "2022-01-25T21:01:42.680Z"
   },
   {
    "duration": 26,
    "start_time": "2022-01-25T21:01:42.726Z"
   },
   {
    "duration": 746,
    "start_time": "2022-01-25T21:01:42.754Z"
   },
   {
    "duration": 45,
    "start_time": "2022-01-25T21:01:43.503Z"
   },
   {
    "duration": 28,
    "start_time": "2022-01-25T21:01:43.550Z"
   },
   {
    "duration": 51,
    "start_time": "2022-01-25T21:01:43.580Z"
   },
   {
    "duration": 29,
    "start_time": "2022-01-25T21:01:43.633Z"
   },
   {
    "duration": 28,
    "start_time": "2022-01-25T21:01:43.664Z"
   },
   {
    "duration": 28,
    "start_time": "2022-01-25T21:15:47.121Z"
   },
   {
    "duration": 242,
    "start_time": "2022-02-23T21:24:35.402Z"
   },
   {
    "duration": 687,
    "start_time": "2022-02-23T21:24:46.696Z"
   },
   {
    "duration": 10,
    "start_time": "2022-02-23T21:24:47.385Z"
   },
   {
    "duration": 9,
    "start_time": "2022-02-23T21:24:47.397Z"
   },
   {
    "duration": 7,
    "start_time": "2022-02-23T21:24:47.408Z"
   },
   {
    "duration": 7,
    "start_time": "2022-02-23T21:24:47.417Z"
   },
   {
    "duration": 6,
    "start_time": "2022-02-23T21:24:47.426Z"
   },
   {
    "duration": 10,
    "start_time": "2022-02-23T21:24:47.434Z"
   },
   {
    "duration": 7,
    "start_time": "2022-02-23T21:24:47.446Z"
   },
   {
    "duration": 14,
    "start_time": "2022-02-23T21:24:47.454Z"
   },
   {
    "duration": 5,
    "start_time": "2022-02-23T21:24:47.469Z"
   },
   {
    "duration": 50,
    "start_time": "2022-02-23T21:24:47.475Z"
   },
   {
    "duration": 6,
    "start_time": "2022-02-23T21:24:47.527Z"
   },
   {
    "duration": 3,
    "start_time": "2022-02-23T21:24:47.535Z"
   },
   {
    "duration": 4,
    "start_time": "2022-02-23T21:24:47.540Z"
   },
   {
    "duration": 5,
    "start_time": "2022-02-23T21:24:47.545Z"
   },
   {
    "duration": 8,
    "start_time": "2022-02-23T21:24:47.552Z"
   },
   {
    "duration": 8,
    "start_time": "2022-02-23T21:24:47.562Z"
   },
   {
    "duration": 50,
    "start_time": "2022-02-23T21:24:47.572Z"
   },
   {
    "duration": 8,
    "start_time": "2022-02-23T21:24:47.624Z"
   },
   {
    "duration": 2,
    "start_time": "2022-02-23T21:24:47.634Z"
   },
   {
    "duration": 47,
    "start_time": "2022-02-23T21:24:47.638Z"
   },
   {
    "duration": 390,
    "start_time": "2022-02-23T21:24:47.686Z"
   },
   {
    "duration": 8,
    "start_time": "2022-02-23T21:24:48.080Z"
   },
   {
    "duration": 29,
    "start_time": "2022-02-23T21:24:48.090Z"
   },
   {
    "duration": 3,
    "start_time": "2022-02-23T21:24:48.121Z"
   },
   {
    "duration": 49,
    "start_time": "2022-02-23T21:24:48.125Z"
   },
   {
    "duration": 14,
    "start_time": "2022-02-23T21:24:48.176Z"
   },
   {
    "duration": 32,
    "start_time": "2022-02-23T21:24:48.192Z"
   },
   {
    "duration": 17,
    "start_time": "2022-02-23T21:24:48.225Z"
   },
   {
    "duration": 15,
    "start_time": "2022-02-23T21:24:48.244Z"
   },
   {
    "duration": 19,
    "start_time": "2022-02-23T21:24:48.261Z"
   },
   {
    "duration": 61,
    "start_time": "2022-02-23T21:24:48.281Z"
   },
   {
    "duration": 2485,
    "start_time": "2022-02-23T21:24:48.343Z"
   },
   {
    "duration": 4,
    "start_time": "2022-02-23T21:24:50.830Z"
   },
   {
    "duration": 24,
    "start_time": "2022-02-23T21:24:50.835Z"
   },
   {
    "duration": 27,
    "start_time": "2022-02-23T21:24:50.861Z"
   },
   {
    "duration": 43,
    "start_time": "2022-02-23T21:24:50.889Z"
   },
   {
    "duration": 24,
    "start_time": "2022-02-23T21:24:50.934Z"
   },
   {
    "duration": 462,
    "start_time": "2022-02-23T21:24:50.960Z"
   },
   {
    "duration": 24,
    "start_time": "2022-02-23T21:24:51.424Z"
   },
   {
    "duration": 21,
    "start_time": "2022-02-23T21:24:51.450Z"
   },
   {
    "duration": 21,
    "start_time": "2022-02-23T21:24:51.472Z"
   },
   {
    "duration": 22,
    "start_time": "2022-02-23T21:24:51.519Z"
   },
   {
    "duration": 20,
    "start_time": "2022-02-23T21:24:51.543Z"
   },
   {
    "duration": 4,
    "start_time": "2022-02-23T21:24:51.565Z"
   },
   {
    "duration": 3424,
    "start_time": "2022-02-23T21:25:09.671Z"
   },
   {
    "duration": 3087,
    "start_time": "2022-02-23T21:25:32.107Z"
   }
  ],
  "kernelspec": {
   "display_name": "Python 3 (ipykernel)",
   "language": "python",
   "name": "python3"
  },
  "language_info": {
   "codemirror_mode": {
    "name": "ipython",
    "version": 3
   },
   "file_extension": ".py",
   "mimetype": "text/x-python",
   "name": "python",
   "nbconvert_exporter": "python",
   "pygments_lexer": "ipython3",
   "version": "3.9.7"
  },
  "toc": {
   "base_numbering": 1,
   "nav_menu": {},
   "number_sections": true,
   "sideBar": true,
   "skip_h1_title": true,
   "title_cell": "Table of Contents",
   "title_sidebar": "Contents",
   "toc_cell": false,
   "toc_position": {},
   "toc_section_display": true,
   "toc_window_display": false
  }
 },
 "nbformat": 4,
 "nbformat_minor": 4
}

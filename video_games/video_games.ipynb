{
 "cells": [
  {
   "cell_type": "markdown",
   "metadata": {},
   "source": [
    "<h1> <div align=\"center\"><a> Выявление закономерностей, определяющих успешность компьютерных игр </a></div>"
   ]
  },
  {
   "cell_type": "markdown",
   "metadata": {},
   "source": [
    "## Изучение данных из файла"
   ]
  },
  {
   "cell_type": "code",
   "execution_count": 1,
   "metadata": {},
   "outputs": [],
   "source": [
    "import pandas as pd\n",
    "pd.set_option(\"display.max_columns\", None)\n",
    "import matplotlib.pyplot as plt\n",
    "from scipy import stats as st\n",
    "import warnings\n",
    "warnings.filterwarnings(\"ignore\")"
   ]
  },
  {
   "cell_type": "code",
   "execution_count": 2,
   "metadata": {},
   "outputs": [
    {
     "data": {
      "text/html": [
       "<div>\n",
       "<style scoped>\n",
       "    .dataframe tbody tr th:only-of-type {\n",
       "        vertical-align: middle;\n",
       "    }\n",
       "\n",
       "    .dataframe tbody tr th {\n",
       "        vertical-align: top;\n",
       "    }\n",
       "\n",
       "    .dataframe thead th {\n",
       "        text-align: right;\n",
       "    }\n",
       "</style>\n",
       "<table border=\"1\" class=\"dataframe\">\n",
       "  <thead>\n",
       "    <tr style=\"text-align: right;\">\n",
       "      <th></th>\n",
       "      <th>Name</th>\n",
       "      <th>Platform</th>\n",
       "      <th>Year_of_Release</th>\n",
       "      <th>Genre</th>\n",
       "      <th>NA_sales</th>\n",
       "      <th>EU_sales</th>\n",
       "      <th>JP_sales</th>\n",
       "      <th>Other_sales</th>\n",
       "      <th>Critic_Score</th>\n",
       "      <th>User_Score</th>\n",
       "      <th>Rating</th>\n",
       "    </tr>\n",
       "  </thead>\n",
       "  <tbody>\n",
       "    <tr>\n",
       "      <th>0</th>\n",
       "      <td>Wii Sports</td>\n",
       "      <td>Wii</td>\n",
       "      <td>2006.0</td>\n",
       "      <td>Sports</td>\n",
       "      <td>41.36</td>\n",
       "      <td>28.96</td>\n",
       "      <td>3.77</td>\n",
       "      <td>8.45</td>\n",
       "      <td>76.0</td>\n",
       "      <td>8</td>\n",
       "      <td>E</td>\n",
       "    </tr>\n",
       "    <tr>\n",
       "      <th>1</th>\n",
       "      <td>Super Mario Bros.</td>\n",
       "      <td>NES</td>\n",
       "      <td>1985.0</td>\n",
       "      <td>Platform</td>\n",
       "      <td>29.08</td>\n",
       "      <td>3.58</td>\n",
       "      <td>6.81</td>\n",
       "      <td>0.77</td>\n",
       "      <td>NaN</td>\n",
       "      <td>NaN</td>\n",
       "      <td>NaN</td>\n",
       "    </tr>\n",
       "    <tr>\n",
       "      <th>2</th>\n",
       "      <td>Mario Kart Wii</td>\n",
       "      <td>Wii</td>\n",
       "      <td>2008.0</td>\n",
       "      <td>Racing</td>\n",
       "      <td>15.68</td>\n",
       "      <td>12.76</td>\n",
       "      <td>3.79</td>\n",
       "      <td>3.29</td>\n",
       "      <td>82.0</td>\n",
       "      <td>8.3</td>\n",
       "      <td>E</td>\n",
       "    </tr>\n",
       "  </tbody>\n",
       "</table>\n",
       "</div>"
      ],
      "text/plain": [
       "                Name Platform  Year_of_Release     Genre  NA_sales  EU_sales  \\\n",
       "0         Wii Sports      Wii           2006.0    Sports     41.36     28.96   \n",
       "1  Super Mario Bros.      NES           1985.0  Platform     29.08      3.58   \n",
       "2     Mario Kart Wii      Wii           2008.0    Racing     15.68     12.76   \n",
       "\n",
       "   JP_sales  Other_sales  Critic_Score User_Score Rating  \n",
       "0      3.77         8.45          76.0          8      E  \n",
       "1      6.81         0.77           NaN        NaN    NaN  \n",
       "2      3.79         3.29          82.0        8.3      E  "
      ]
     },
     "execution_count": 2,
     "metadata": {},
     "output_type": "execute_result"
    }
   ],
   "source": [
    "df = pd.read_csv('/datasets/games.csv')\n",
    "df.head(3)"
   ]
  },
  {
   "cell_type": "markdown",
   "metadata": {},
   "source": [
    "Сразу видим, что названия столбцов необходимо преобразовать, поскольку в их именах строчные буквы сочетаются с прописными."
   ]
  },
  {
   "cell_type": "code",
   "execution_count": 3,
   "metadata": {},
   "outputs": [
    {
     "name": "stdout",
     "output_type": "stream",
     "text": [
      "<class 'pandas.core.frame.DataFrame'>\n",
      "RangeIndex: 16715 entries, 0 to 16714\n",
      "Data columns (total 11 columns):\n",
      " #   Column           Non-Null Count  Dtype  \n",
      "---  ------           --------------  -----  \n",
      " 0   Name             16713 non-null  object \n",
      " 1   Platform         16715 non-null  object \n",
      " 2   Year_of_Release  16446 non-null  float64\n",
      " 3   Genre            16713 non-null  object \n",
      " 4   NA_sales         16715 non-null  float64\n",
      " 5   EU_sales         16715 non-null  float64\n",
      " 6   JP_sales         16715 non-null  float64\n",
      " 7   Other_sales      16715 non-null  float64\n",
      " 8   Critic_Score     8137 non-null   float64\n",
      " 9   User_Score       10014 non-null  object \n",
      " 10  Rating           9949 non-null   object \n",
      "dtypes: float64(6), object(5)\n",
      "memory usage: 1.4+ MB\n"
     ]
    }
   ],
   "source": [
    "#оценим общий массив данных\n",
    "df.info()"
   ]
  },
  {
   "cell_type": "markdown",
   "metadata": {},
   "source": [
    "Таблица имеет 16715 строк и 11 столбцов. Видим пропущенные значения в столбцах: Name, Year_of_Release, Genre, Critic_Score, User_Score и Rating. Для столбца Year_of_Release треубуется заменить тип данных с float на int, поскольку год может принимать только целочисленное значение. В свою очередь для столбца User_Score тип данных нужно заменить с object  на float, т.к. оценка выставлена в числовом виде."
   ]
  },
  {
   "cell_type": "code",
   "execution_count": 4,
   "metadata": {},
   "outputs": [
    {
     "data": {
      "text/plain": [
       "Critic_Score       0.513192\n",
       "Rating             0.404786\n",
       "User_Score         0.400897\n",
       "Year_of_Release    0.016093\n",
       "Name               0.000120\n",
       "Genre              0.000120\n",
       "Platform           0.000000\n",
       "dtype: float64"
      ]
     },
     "execution_count": 4,
     "metadata": {},
     "output_type": "execute_result"
    }
   ],
   "source": [
    "#определим долю пропусков для каждого столбца\n",
    "df.isna().mean().sort_values(ascending = False).head(7)"
   ]
  },
  {
   "cell_type": "markdown",
   "metadata": {},
   "source": [
    "Значительная часть игр (40-50% от выборки) не имеют оценки критиков/игороков и/или рейтинга от организации ESRB. При этом количество строк, в которых нет всех трех показателей составляет 6621 (см.ниже), или от 77%до 99% всех пропусков по данным столбцам. **Скорее всего причина в том, что ESRB определяет рейтинги для игр в США и Канаде, в то время как в Европе и Японии есть аналогичные организации (PEGI в Европе и CERO в Японии), данные по которым в нашем датасете не представлены.** Пропуски части значений в столбце Year_of_Release, Name и Genre полностью случайные. При этои пропуски в столбцах Name и Genre связаны и отражаются всего в 2 строках (см.ниже). "
   ]
  },
  {
   "cell_type": "code",
   "execution_count": 5,
   "metadata": {},
   "outputs": [
    {
     "data": {
      "text/plain": [
       "6621"
      ]
     },
     "execution_count": 5,
     "metadata": {},
     "output_type": "execute_result"
    }
   ],
   "source": [
    "#количество строк с пропусками одновременно в столбцах Rating, Critic_Score и User_Score\n",
    "len(df.query('Rating.isna() and Critic_Score.isna() and User_Score.isna()'))"
   ]
  },
  {
   "cell_type": "code",
   "execution_count": 6,
   "metadata": {},
   "outputs": [
    {
     "data": {
      "text/html": [
       "<div>\n",
       "<style scoped>\n",
       "    .dataframe tbody tr th:only-of-type {\n",
       "        vertical-align: middle;\n",
       "    }\n",
       "\n",
       "    .dataframe tbody tr th {\n",
       "        vertical-align: top;\n",
       "    }\n",
       "\n",
       "    .dataframe thead th {\n",
       "        text-align: right;\n",
       "    }\n",
       "</style>\n",
       "<table border=\"1\" class=\"dataframe\">\n",
       "  <thead>\n",
       "    <tr style=\"text-align: right;\">\n",
       "      <th></th>\n",
       "      <th>Name</th>\n",
       "      <th>Platform</th>\n",
       "      <th>Year_of_Release</th>\n",
       "      <th>Genre</th>\n",
       "      <th>NA_sales</th>\n",
       "      <th>EU_sales</th>\n",
       "      <th>JP_sales</th>\n",
       "      <th>Other_sales</th>\n",
       "      <th>Critic_Score</th>\n",
       "      <th>User_Score</th>\n",
       "      <th>Rating</th>\n",
       "    </tr>\n",
       "  </thead>\n",
       "  <tbody>\n",
       "    <tr>\n",
       "      <th>659</th>\n",
       "      <td>NaN</td>\n",
       "      <td>GEN</td>\n",
       "      <td>1993.0</td>\n",
       "      <td>NaN</td>\n",
       "      <td>1.78</td>\n",
       "      <td>0.53</td>\n",
       "      <td>0.00</td>\n",
       "      <td>0.08</td>\n",
       "      <td>NaN</td>\n",
       "      <td>NaN</td>\n",
       "      <td>NaN</td>\n",
       "    </tr>\n",
       "    <tr>\n",
       "      <th>14244</th>\n",
       "      <td>NaN</td>\n",
       "      <td>GEN</td>\n",
       "      <td>1993.0</td>\n",
       "      <td>NaN</td>\n",
       "      <td>0.00</td>\n",
       "      <td>0.00</td>\n",
       "      <td>0.03</td>\n",
       "      <td>0.00</td>\n",
       "      <td>NaN</td>\n",
       "      <td>NaN</td>\n",
       "      <td>NaN</td>\n",
       "    </tr>\n",
       "  </tbody>\n",
       "</table>\n",
       "</div>"
      ],
      "text/plain": [
       "      Name Platform  Year_of_Release Genre  NA_sales  EU_sales  JP_sales  \\\n",
       "659    NaN      GEN           1993.0   NaN      1.78      0.53      0.00   \n",
       "14244  NaN      GEN           1993.0   NaN      0.00      0.00      0.03   \n",
       "\n",
       "       Other_sales  Critic_Score User_Score Rating  \n",
       "659           0.08           NaN        NaN    NaN  \n",
       "14244         0.00           NaN        NaN    NaN  "
      ]
     },
     "metadata": {},
     "output_type": "display_data"
    }
   ],
   "source": [
    "#строки с пропущенными значениями в столбцах Name и Genre\n",
    "display(df[df['Name'].isna()])"
   ]
  },
  {
   "cell_type": "markdown",
   "metadata": {},
   "source": [
    "Если проанализировать одинаковые игры, выпущенные на разных платформах, можно заметить, что и год выпуска, и оценки критиков и пользователей, а также рейтинг ESRB могут различаться. Таким образом, **восстановить пропуски в этих столбцах мы не можем**. Что касается пропусков в столбцах Year_of_Release, Name и Genre, то они составляют весьма незначительную часть выборки (менее 2%), поэтому можно смело их удалить."
   ]
  },
  {
   "cell_type": "code",
   "execution_count": 7,
   "metadata": {},
   "outputs": [
    {
     "data": {
      "text/plain": [
       "SimCity 2000         5\n",
       "Monopoly             5\n",
       "Warriors Orochi 3    4\n",
       "Name: Name, dtype: int64"
      ]
     },
     "metadata": {},
     "output_type": "display_data"
    },
    {
     "data": {
      "text/plain": [
       "Madden NFL 07                                9\n",
       "LEGO Star Wars II: The Original Trilogy      7\n",
       "Harry Potter and the Order of the Phoenix    7\n",
       "Name: Name, dtype: int64"
      ]
     },
     "metadata": {},
     "output_type": "display_data"
    },
    {
     "data": {
      "text/plain": [
       "Madden NFL 07               9\n",
       "LEGO Marvel Super Heroes    8\n",
       "FIFA 15                     7\n",
       "Name: Name, dtype: int64"
      ]
     },
     "metadata": {},
     "output_type": "display_data"
    },
    {
     "data": {
      "text/plain": [
       "Dawn of Discovery                                                 3\n",
       "The Chronicles of Narnia: The Lion, The Witch and The Wardrobe    3\n",
       "The Sims 2: Castaway                                              3\n",
       "Name: Name, dtype: int64"
      ]
     },
     "metadata": {},
     "output_type": "display_data"
    }
   ],
   "source": [
    "#создадим таблицы уникальных значений в связке Name - Year_of_Release|Critic_Score|User_Score|Rating\n",
    "year_log = df[['Name', 'Year_of_Release']].drop_duplicates().dropna().reset_index(drop=True)\n",
    "critic_score_log = df[['Name', 'Critic_Score']].drop_duplicates().dropna().reset_index(drop=True)\n",
    "user_score_log = df[['Name', 'User_Score']].drop_duplicates().dropna().reset_index(drop=True)\n",
    "rating_log = df[['Name', 'Rating']].drop_duplicates().dropna().reset_index(drop=True)\n",
    "#выведем количество игр в каждой из таблиц - мы видим, что для одной и той же игры \n",
    "#на разных платформах эти показатели могут отличаться\n",
    "display(year_log['Name'].value_counts().head(3))\n",
    "display(critic_score_log['Name'].value_counts().head(3))\n",
    "display(user_score_log['Name'].value_counts().head(3))\n",
    "display(rating_log['Name'].value_counts().head(3))"
   ]
  },
  {
   "cell_type": "markdown",
   "metadata": {},
   "source": [
    "Оценим массив данных с пропусками, воспользовашись методом unique()."
   ]
  },
  {
   "cell_type": "code",
   "execution_count": 8,
   "metadata": {
    "scrolled": true
   },
   "outputs": [
    {
     "data": {
      "text/plain": [
       "array([76., nan, 82., 80., 89., 58., 87., 91., 61., 97., 95., 77., 88.,\n",
       "       83., 94., 93., 85., 86., 98., 96., 90., 84., 73., 74., 78., 92.,\n",
       "       71., 72., 68., 62., 49., 67., 81., 66., 56., 79., 70., 59., 64.,\n",
       "       75., 60., 63., 69., 50., 25., 42., 44., 55., 48., 57., 29., 47.,\n",
       "       65., 54., 20., 53., 37., 38., 33., 52., 30., 32., 43., 45., 51.,\n",
       "       40., 46., 39., 34., 35., 41., 36., 28., 31., 27., 26., 19., 23.,\n",
       "       24., 21., 17., 22., 13.])"
      ]
     },
     "execution_count": 8,
     "metadata": {},
     "output_type": "execute_result"
    }
   ],
   "source": [
    "df['Critic_Score'].unique()"
   ]
  },
  {
   "cell_type": "markdown",
   "metadata": {},
   "source": [
    "Мы видим, что оценка критиков представляет собой целое число, поэтому данные в этом столбце также нужно заменить с float на int."
   ]
  },
  {
   "cell_type": "code",
   "execution_count": 9,
   "metadata": {},
   "outputs": [
    {
     "data": {
      "text/plain": [
       "array(['8', nan, '8.3', '8.5', '6.6', '8.4', '8.6', '7.7', '6.3', '7.4',\n",
       "       '8.2', '9', '7.9', '8.1', '8.7', '7.1', '3.4', '5.3', '4.8', '3.2',\n",
       "       '8.9', '6.4', '7.8', '7.5', '2.6', '7.2', '9.2', '7', '7.3', '4.3',\n",
       "       '7.6', '5.7', '5', '9.1', '6.5', 'tbd', '8.8', '6.9', '9.4', '6.8',\n",
       "       '6.1', '6.7', '5.4', '4', '4.9', '4.5', '9.3', '6.2', '4.2', '6',\n",
       "       '3.7', '4.1', '5.8', '5.6', '5.5', '4.4', '4.6', '5.9', '3.9',\n",
       "       '3.1', '2.9', '5.2', '3.3', '4.7', '5.1', '3.5', '2.5', '1.9', '3',\n",
       "       '2.7', '2.2', '2', '9.5', '2.1', '3.6', '2.8', '1.8', '3.8', '0',\n",
       "       '1.6', '9.6', '2.4', '1.7', '1.1', '0.3', '1.5', '0.7', '1.2',\n",
       "       '2.3', '0.5', '1.3', '0.2', '0.6', '1.4', '0.9', '1', '9.7'],\n",
       "      dtype=object)"
      ]
     },
     "execution_count": 9,
     "metadata": {},
     "output_type": "execute_result"
    }
   ],
   "source": [
    "df['User_Score'].unique()"
   ]
  },
  {
   "cell_type": "markdown",
   "metadata": {},
   "source": [
    "Помимо обычных пропусков (nan) в столбце user score мы видим текстовую оценку tbd (to be determined), то есть оценка еще не проставлена. **Поэтому пропуски и tbd можно заменить на 0.**"
   ]
  },
  {
   "cell_type": "code",
   "execution_count": 10,
   "metadata": {
    "scrolled": true
   },
   "outputs": [
    {
     "data": {
      "text/plain": [
       "array(['E', nan, 'M', 'T', 'E10+', 'K-A', 'AO', 'EC', 'RP'], dtype=object)"
      ]
     },
     "execution_count": 10,
     "metadata": {},
     "output_type": "execute_result"
    }
   ],
   "source": [
    "df['Rating'].unique()"
   ]
  },
  {
   "cell_type": "markdown",
   "metadata": {},
   "source": [
    "Данные в столбце raitng представлены в текстовом формате, поэтому пропуски уместнее будет заменить на \"unknown\"."
   ]
  },
  {
   "cell_type": "markdown",
   "metadata": {},
   "source": [
    "### Вывод\n",
    " - названия столбцов необходимо преобразовать, поскольку в их именах строчные буквы сочетаются с прописными;\n",
    " - для столбцов Year_of_Release и Critic_Score треубуется заменить тип данных с float на int, а для User_Score c object  на float, но перед этим нужно обработать пропуски;\n",
    " - в половине столбцов имеются пропущенные данные: часть пропусков можно заменить (Critic_Score, User_Score и Rating), поскольку эти пропуски неслучайные - их можно объяснить тем, что ESRB определяет рейтинги для игр в США и Канаде, в то время как в Европе и Японии есть аналогичные организации (PEGI в Европе и CERO в Японии), данные по которым в нашем датасете не представлены; другую часть пропусков можно безболезненно удалить, поскольку их доля мала (Year_of_Release, Name и Genre);\n",
    " - помимо обычных пропусков (nan) в столбце User_Score есть текстовая оценка tbd (to be determined), которую можно заменить на 0;\n",
    " - данные в столбце Raitng представлены в текстовом формате, поэтому пропуски уместнее будет заменить на \"unknown\"."
   ]
  },
  {
   "cell_type": "markdown",
   "metadata": {},
   "source": [
    "## Подготовка данных"
   ]
  },
  {
   "cell_type": "code",
   "execution_count": 11,
   "metadata": {},
   "outputs": [
    {
     "data": {
      "text/html": [
       "<div>\n",
       "<style scoped>\n",
       "    .dataframe tbody tr th:only-of-type {\n",
       "        vertical-align: middle;\n",
       "    }\n",
       "\n",
       "    .dataframe tbody tr th {\n",
       "        vertical-align: top;\n",
       "    }\n",
       "\n",
       "    .dataframe thead th {\n",
       "        text-align: right;\n",
       "    }\n",
       "</style>\n",
       "<table border=\"1\" class=\"dataframe\">\n",
       "  <thead>\n",
       "    <tr style=\"text-align: right;\">\n",
       "      <th></th>\n",
       "      <th>name</th>\n",
       "      <th>platform</th>\n",
       "      <th>year_of_release</th>\n",
       "      <th>genre</th>\n",
       "      <th>na_sales</th>\n",
       "      <th>eu_sales</th>\n",
       "      <th>jp_sales</th>\n",
       "      <th>other_sales</th>\n",
       "      <th>critic_score</th>\n",
       "      <th>user_score</th>\n",
       "      <th>rating</th>\n",
       "    </tr>\n",
       "  </thead>\n",
       "  <tbody>\n",
       "    <tr>\n",
       "      <th>0</th>\n",
       "      <td>Wii Sports</td>\n",
       "      <td>Wii</td>\n",
       "      <td>2006.0</td>\n",
       "      <td>Sports</td>\n",
       "      <td>41.36</td>\n",
       "      <td>28.96</td>\n",
       "      <td>3.77</td>\n",
       "      <td>8.45</td>\n",
       "      <td>76.0</td>\n",
       "      <td>8</td>\n",
       "      <td>E</td>\n",
       "    </tr>\n",
       "    <tr>\n",
       "      <th>1</th>\n",
       "      <td>Super Mario Bros.</td>\n",
       "      <td>NES</td>\n",
       "      <td>1985.0</td>\n",
       "      <td>Platform</td>\n",
       "      <td>29.08</td>\n",
       "      <td>3.58</td>\n",
       "      <td>6.81</td>\n",
       "      <td>0.77</td>\n",
       "      <td>NaN</td>\n",
       "      <td>NaN</td>\n",
       "      <td>NaN</td>\n",
       "    </tr>\n",
       "    <tr>\n",
       "      <th>2</th>\n",
       "      <td>Mario Kart Wii</td>\n",
       "      <td>Wii</td>\n",
       "      <td>2008.0</td>\n",
       "      <td>Racing</td>\n",
       "      <td>15.68</td>\n",
       "      <td>12.76</td>\n",
       "      <td>3.79</td>\n",
       "      <td>3.29</td>\n",
       "      <td>82.0</td>\n",
       "      <td>8.3</td>\n",
       "      <td>E</td>\n",
       "    </tr>\n",
       "  </tbody>\n",
       "</table>\n",
       "</div>"
      ],
      "text/plain": [
       "                name platform  year_of_release     genre  na_sales  eu_sales  \\\n",
       "0         Wii Sports      Wii           2006.0    Sports     41.36     28.96   \n",
       "1  Super Mario Bros.      NES           1985.0  Platform     29.08      3.58   \n",
       "2     Mario Kart Wii      Wii           2008.0    Racing     15.68     12.76   \n",
       "\n",
       "   jp_sales  other_sales  critic_score user_score rating  \n",
       "0      3.77         8.45          76.0          8      E  \n",
       "1      6.81         0.77           NaN        NaN    NaN  \n",
       "2      3.79         3.29          82.0        8.3      E  "
      ]
     },
     "execution_count": 11,
     "metadata": {},
     "output_type": "execute_result"
    }
   ],
   "source": [
    "#сначала приведем к нижнему регистру названия столбцов\n",
    "df.columns = df.columns.str.lower()\n",
    "df.head(3)"
   ]
  },
  {
   "cell_type": "code",
   "execution_count": 12,
   "metadata": {},
   "outputs": [],
   "source": [
    "#удалим строки с пропусками в столбцах year_of_release, name и genre\n",
    "df = df.dropna(subset=[\"year_of_release\", \"name\", \"genre\"])"
   ]
  },
  {
   "cell_type": "code",
   "execution_count": 13,
   "metadata": {
    "scrolled": true
   },
   "outputs": [],
   "source": [
    "#обработаем пропуски в остальных столбцах\n",
    "df[\"critic_score\"] = df[\"critic_score\"].fillna(0)\n",
    "df[\"user_score\"] = df[\"user_score\"].fillna(0)\n",
    "df[\"user_score\"] = df[\"user_score\"].replace('tbd', 0)\n",
    "df[\"rating\"] = df[\"rating\"].fillna('unknown')"
   ]
  },
  {
   "cell_type": "code",
   "execution_count": 14,
   "metadata": {},
   "outputs": [
    {
     "name": "stdout",
     "output_type": "stream",
     "text": [
      "<class 'pandas.core.frame.DataFrame'>\n",
      "Int64Index: 16444 entries, 0 to 16714\n",
      "Data columns (total 11 columns):\n",
      " #   Column           Non-Null Count  Dtype  \n",
      "---  ------           --------------  -----  \n",
      " 0   name             16444 non-null  object \n",
      " 1   platform         16444 non-null  object \n",
      " 2   year_of_release  16444 non-null  int64  \n",
      " 3   genre            16444 non-null  object \n",
      " 4   na_sales         16444 non-null  float64\n",
      " 5   eu_sales         16444 non-null  float64\n",
      " 6   jp_sales         16444 non-null  float64\n",
      " 7   other_sales      16444 non-null  float64\n",
      " 8   critic_score     16444 non-null  int64  \n",
      " 9   user_score       16444 non-null  float64\n",
      " 10  rating           16444 non-null  object \n",
      "dtypes: float64(5), int64(2), object(4)\n",
      "memory usage: 1.5+ MB\n"
     ]
    }
   ],
   "source": [
    "#теперь можем заменить тип данных\n",
    "df['year_of_release'] = df['year_of_release'].astype(\"int\")\n",
    "df['critic_score'] = df['critic_score'].astype(\"int\")\n",
    "df['user_score'] = df['user_score'].astype(\"float\")\n",
    "df.info()"
   ]
  },
  {
   "cell_type": "code",
   "execution_count": 15,
   "metadata": {},
   "outputs": [
    {
     "data": {
      "text/plain": [
       "0"
      ]
     },
     "execution_count": 15,
     "metadata": {},
     "output_type": "execute_result"
    }
   ],
   "source": [
    "#проверим наличие явных дубликатов\n",
    "df.duplicated().sum()"
   ]
  },
  {
   "cell_type": "code",
   "execution_count": 16,
   "metadata": {},
   "outputs": [
    {
     "data": {
      "text/html": [
       "<div>\n",
       "<style scoped>\n",
       "    .dataframe tbody tr th:only-of-type {\n",
       "        vertical-align: middle;\n",
       "    }\n",
       "\n",
       "    .dataframe tbody tr th {\n",
       "        vertical-align: top;\n",
       "    }\n",
       "\n",
       "    .dataframe thead th {\n",
       "        text-align: right;\n",
       "    }\n",
       "</style>\n",
       "<table border=\"1\" class=\"dataframe\">\n",
       "  <thead>\n",
       "    <tr style=\"text-align: right;\">\n",
       "      <th></th>\n",
       "      <th>name</th>\n",
       "      <th>platform</th>\n",
       "      <th>year_of_release</th>\n",
       "      <th>genre</th>\n",
       "      <th>na_sales</th>\n",
       "      <th>eu_sales</th>\n",
       "      <th>jp_sales</th>\n",
       "      <th>other_sales</th>\n",
       "      <th>total_sales</th>\n",
       "      <th>critic_score</th>\n",
       "      <th>user_score</th>\n",
       "      <th>rating</th>\n",
       "    </tr>\n",
       "  </thead>\n",
       "  <tbody>\n",
       "    <tr>\n",
       "      <th>0</th>\n",
       "      <td>Wii Sports</td>\n",
       "      <td>Wii</td>\n",
       "      <td>2006</td>\n",
       "      <td>Sports</td>\n",
       "      <td>41.36</td>\n",
       "      <td>28.96</td>\n",
       "      <td>3.77</td>\n",
       "      <td>8.45</td>\n",
       "      <td>82.54</td>\n",
       "      <td>76</td>\n",
       "      <td>8.0</td>\n",
       "      <td>E</td>\n",
       "    </tr>\n",
       "    <tr>\n",
       "      <th>1</th>\n",
       "      <td>Super Mario Bros.</td>\n",
       "      <td>NES</td>\n",
       "      <td>1985</td>\n",
       "      <td>Platform</td>\n",
       "      <td>29.08</td>\n",
       "      <td>3.58</td>\n",
       "      <td>6.81</td>\n",
       "      <td>0.77</td>\n",
       "      <td>40.24</td>\n",
       "      <td>0</td>\n",
       "      <td>0.0</td>\n",
       "      <td>unknown</td>\n",
       "    </tr>\n",
       "    <tr>\n",
       "      <th>2</th>\n",
       "      <td>Mario Kart Wii</td>\n",
       "      <td>Wii</td>\n",
       "      <td>2008</td>\n",
       "      <td>Racing</td>\n",
       "      <td>15.68</td>\n",
       "      <td>12.76</td>\n",
       "      <td>3.79</td>\n",
       "      <td>3.29</td>\n",
       "      <td>35.52</td>\n",
       "      <td>82</td>\n",
       "      <td>8.3</td>\n",
       "      <td>E</td>\n",
       "    </tr>\n",
       "  </tbody>\n",
       "</table>\n",
       "</div>"
      ],
      "text/plain": [
       "                name platform  year_of_release     genre  na_sales  eu_sales  \\\n",
       "0         Wii Sports      Wii             2006    Sports     41.36     28.96   \n",
       "1  Super Mario Bros.      NES             1985  Platform     29.08      3.58   \n",
       "2     Mario Kart Wii      Wii             2008    Racing     15.68     12.76   \n",
       "\n",
       "   jp_sales  other_sales  total_sales  critic_score  user_score   rating  \n",
       "0      3.77         8.45        82.54            76         8.0        E  \n",
       "1      6.81         0.77        40.24             0         0.0  unknown  \n",
       "2      3.79         3.29        35.52            82         8.3        E  "
      ]
     },
     "execution_count": 16,
     "metadata": {},
     "output_type": "execute_result"
    }
   ],
   "source": [
    "#добавим столбец с суммарными продажами во всех регионах\n",
    "x = df['na_sales'] + df['eu_sales'] + df['jp_sales'] + df['other_sales']\n",
    "df.insert(8,'total_sales', x)\n",
    "df.head(3)"
   ]
  },
  {
   "cell_type": "markdown",
   "metadata": {},
   "source": [
    "##  Анализ данных"
   ]
  },
  {
   "cell_type": "markdown",
   "metadata": {},
   "source": [
    "Посмотрим, сколько игр выпускалось в разные годы. "
   ]
  },
  {
   "cell_type": "code",
   "execution_count": 17,
   "metadata": {},
   "outputs": [
    {
     "data": {
      "text/html": [
       "<div>\n",
       "<style scoped>\n",
       "    .dataframe tbody tr th:only-of-type {\n",
       "        vertical-align: middle;\n",
       "    }\n",
       "\n",
       "    .dataframe tbody tr th {\n",
       "        vertical-align: top;\n",
       "    }\n",
       "\n",
       "    .dataframe thead th {\n",
       "        text-align: right;\n",
       "    }\n",
       "</style>\n",
       "<table border=\"1\" class=\"dataframe\">\n",
       "  <thead>\n",
       "    <tr style=\"text-align: right;\">\n",
       "      <th>year_of_release</th>\n",
       "      <th>1980</th>\n",
       "      <th>1981</th>\n",
       "      <th>1982</th>\n",
       "      <th>1983</th>\n",
       "      <th>1984</th>\n",
       "      <th>1985</th>\n",
       "      <th>1986</th>\n",
       "      <th>1987</th>\n",
       "      <th>1988</th>\n",
       "      <th>1989</th>\n",
       "      <th>1990</th>\n",
       "      <th>1991</th>\n",
       "      <th>1992</th>\n",
       "      <th>1993</th>\n",
       "      <th>1994</th>\n",
       "      <th>1995</th>\n",
       "      <th>1996</th>\n",
       "      <th>1997</th>\n",
       "      <th>1998</th>\n",
       "      <th>1999</th>\n",
       "      <th>2000</th>\n",
       "      <th>2001</th>\n",
       "      <th>2002</th>\n",
       "      <th>2003</th>\n",
       "      <th>2004</th>\n",
       "      <th>2005</th>\n",
       "      <th>2006</th>\n",
       "      <th>2007</th>\n",
       "      <th>2008</th>\n",
       "      <th>2009</th>\n",
       "      <th>2010</th>\n",
       "      <th>2011</th>\n",
       "      <th>2012</th>\n",
       "      <th>2013</th>\n",
       "      <th>2014</th>\n",
       "      <th>2015</th>\n",
       "      <th>2016</th>\n",
       "    </tr>\n",
       "  </thead>\n",
       "  <tbody>\n",
       "    <tr>\n",
       "      <th>name</th>\n",
       "      <td>9</td>\n",
       "      <td>46</td>\n",
       "      <td>36</td>\n",
       "      <td>17</td>\n",
       "      <td>14</td>\n",
       "      <td>14</td>\n",
       "      <td>21</td>\n",
       "      <td>16</td>\n",
       "      <td>15</td>\n",
       "      <td>17</td>\n",
       "      <td>16</td>\n",
       "      <td>41</td>\n",
       "      <td>43</td>\n",
       "      <td>60</td>\n",
       "      <td>121</td>\n",
       "      <td>219</td>\n",
       "      <td>263</td>\n",
       "      <td>289</td>\n",
       "      <td>379</td>\n",
       "      <td>338</td>\n",
       "      <td>350</td>\n",
       "      <td>482</td>\n",
       "      <td>829</td>\n",
       "      <td>775</td>\n",
       "      <td>762</td>\n",
       "      <td>939</td>\n",
       "      <td>1006</td>\n",
       "      <td>1197</td>\n",
       "      <td>1427</td>\n",
       "      <td>1426</td>\n",
       "      <td>1255</td>\n",
       "      <td>1136</td>\n",
       "      <td>653</td>\n",
       "      <td>544</td>\n",
       "      <td>581</td>\n",
       "      <td>606</td>\n",
       "      <td>502</td>\n",
       "    </tr>\n",
       "  </tbody>\n",
       "</table>\n",
       "</div>"
      ],
      "text/plain": [
       "year_of_release  1980  1981  1982  1983  1984  1985  1986  1987  1988  1989  \\\n",
       "name                9    46    36    17    14    14    21    16    15    17   \n",
       "\n",
       "year_of_release  1990  1991  1992  1993  1994  1995  1996  1997  1998  1999  \\\n",
       "name               16    41    43    60   121   219   263   289   379   338   \n",
       "\n",
       "year_of_release  2000  2001  2002  2003  2004  2005  2006  2007  2008  2009  \\\n",
       "name              350   482   829   775   762   939  1006  1197  1427  1426   \n",
       "\n",
       "year_of_release  2010  2011  2012  2013  2014  2015  2016  \n",
       "name             1255  1136   653   544   581   606   502  "
      ]
     },
     "metadata": {},
     "output_type": "display_data"
    },
    {
     "data": {
      "image/png": "[encoded data removed]",
      "text/plain": [
       "<Figure size 432x288 with 1 Axes>"
      ]
     },
     "metadata": {
      "needs_background": "light"
     },
     "output_type": "display_data"
    }
   ],
   "source": [
    "display(df.pivot_table(index='year_of_release', values='name', aggfunc= 'count').T)\n",
    "df['year_of_release'].hist(bins=10)\n",
    "plt.xlabel('год выпуска')\n",
    "plt.ylabel('количество выпущенных игр, шт')\n",
    "plt.title(\"Частотное распределение игр по годам выпуска\")\n",
    "plt.show()"
   ]
  },
  {
   "cell_type": "markdown",
   "metadata": {},
   "source": [
    "Мы видим, что с 1995 по 2009 каждый год количество релизов превышало предыдущий. Однако начиная с 2010 года их количество пошло на спад. Вероятно, это можно объяснить активным развитием игр на смартфонах и планшетах в этот период. **Предварительный ориентир начала актуального периода: с 2010 года и далее, т.е. 7 лет.**"
   ]
  },
  {
   "cell_type": "code",
   "execution_count": 18,
   "metadata": {},
   "outputs": [
    {
     "data": {
      "image/png": "[encoded data removed]",
      "text/plain": [
       "<Figure size 432x288 with 1 Axes>"
      ]
     },
     "metadata": {
      "needs_background": "light"
     },
     "output_type": "display_data"
    }
   ],
   "source": [
    "#найдем 10 платформ с наибольшими суммарными продажами и построим по ним распределение \n",
    "#продаж по годам, начиная с пикового 2008 года\n",
    "top_sales = df.pivot_table(index=['platform'], values='total_sales', aggfunc= 'sum').sort_values(by=\"total_sales\",ascending = False)\n",
    "top_platforms = set(top_sales.head(10).index)\n",
    "df1 = df.query('year_of_release >= 2008')\n",
    "df1 = df1[df['platform'].isin(top_platforms)]\n",
    "df1 = df1.pivot_table(index=['platform'], columns = 'year_of_release', values='total_sales', aggfunc= 'sum')\n",
    "df1.T.plot.bar(grid=True, rot = 0)\n",
    "plt.xlabel('год выпуска')\n",
    "plt.ylabel(\"общие продажи, млн. копий\")\n",
    "plt.title(\"Динамика продаж по топ-10 платформ\")\n",
    "plt.legend(bbox_to_anchor=(1, 1))\n",
    "plt.show()"
   ]
  },
  {
   "cell_type": "markdown",
   "metadata": {},
   "source": [
    "На графике видно, что к 2008 году из 10 платформ с наибольшими продажами за весь период осталось только 8. Определим характерный срок, за который появляются новые и исчезают старые платформы."
   ]
  },
  {
   "cell_type": "code",
   "execution_count": 19,
   "metadata": {
    "scrolled": true
   },
   "outputs": [
    {
     "data": {
      "text/html": [
       "<div>\n",
       "<style scoped>\n",
       "    .dataframe tbody tr th:only-of-type {\n",
       "        vertical-align: middle;\n",
       "    }\n",
       "\n",
       "    .dataframe tbody tr th {\n",
       "        vertical-align: top;\n",
       "    }\n",
       "\n",
       "    .dataframe thead th {\n",
       "        text-align: right;\n",
       "    }\n",
       "</style>\n",
       "<table border=\"1\" class=\"dataframe\">\n",
       "  <thead>\n",
       "    <tr style=\"text-align: right;\">\n",
       "      <th>platforms_old</th>\n",
       "      <th>2600</th>\n",
       "      <th>3DO</th>\n",
       "      <th>DC</th>\n",
       "      <th>DS</th>\n",
       "      <th>GB</th>\n",
       "      <th>GBA</th>\n",
       "      <th>GC</th>\n",
       "      <th>GEN</th>\n",
       "      <th>GG</th>\n",
       "      <th>N64</th>\n",
       "      <th>NES</th>\n",
       "      <th>NG</th>\n",
       "      <th>PCFX</th>\n",
       "      <th>PS</th>\n",
       "      <th>PS2</th>\n",
       "      <th>SAT</th>\n",
       "      <th>SCD</th>\n",
       "      <th>SNES</th>\n",
       "      <th>TG16</th>\n",
       "      <th>WS</th>\n",
       "      <th>XB</th>\n",
       "    </tr>\n",
       "  </thead>\n",
       "  <tbody>\n",
       "    <tr>\n",
       "      <th>number_of_years</th>\n",
       "      <td>10</td>\n",
       "      <td>2</td>\n",
       "      <td>7</td>\n",
       "      <td>11</td>\n",
       "      <td>13</td>\n",
       "      <td>8</td>\n",
       "      <td>7</td>\n",
       "      <td>5</td>\n",
       "      <td>1</td>\n",
       "      <td>7</td>\n",
       "      <td>12</td>\n",
       "      <td>4</td>\n",
       "      <td>1</td>\n",
       "      <td>10</td>\n",
       "      <td>12</td>\n",
       "      <td>6</td>\n",
       "      <td>2</td>\n",
       "      <td>10</td>\n",
       "      <td>1</td>\n",
       "      <td>3</td>\n",
       "      <td>9</td>\n",
       "    </tr>\n",
       "  </tbody>\n",
       "</table>\n",
       "</div>"
      ],
      "text/plain": [
       "platforms_old    2600  3DO  DC  DS  GB  GBA  GC  GEN  GG  N64  NES  NG  PCFX  \\\n",
       "number_of_years    10    2   7  11  13    8   7    5   1    7   12   4     1   \n",
       "\n",
       "platforms_old    PS  PS2  SAT  SCD  SNES  TG16  WS  XB  \n",
       "number_of_years  10   12    6    2    10     1   3   9  "
      ]
     },
     "metadata": {},
     "output_type": "display_data"
    },
    {
     "data": {
      "text/html": [
       "<div>\n",
       "<style scoped>\n",
       "    .dataframe tbody tr th:only-of-type {\n",
       "        vertical-align: middle;\n",
       "    }\n",
       "\n",
       "    .dataframe tbody tr th {\n",
       "        vertical-align: top;\n",
       "    }\n",
       "\n",
       "    .dataframe thead th {\n",
       "        text-align: right;\n",
       "    }\n",
       "</style>\n",
       "<table border=\"1\" class=\"dataframe\">\n",
       "  <thead>\n",
       "    <tr style=\"text-align: right;\">\n",
       "      <th></th>\n",
       "      <th>count</th>\n",
       "      <th>mean</th>\n",
       "      <th>std</th>\n",
       "      <th>min</th>\n",
       "      <th>25%</th>\n",
       "      <th>50%</th>\n",
       "      <th>75%</th>\n",
       "      <th>max</th>\n",
       "    </tr>\n",
       "  </thead>\n",
       "  <tbody>\n",
       "    <tr>\n",
       "      <th>number_of_years</th>\n",
       "      <td>21.0</td>\n",
       "      <td>6.714286</td>\n",
       "      <td>4.001785</td>\n",
       "      <td>1.0</td>\n",
       "      <td>3.0</td>\n",
       "      <td>7.0</td>\n",
       "      <td>10.0</td>\n",
       "      <td>13.0</td>\n",
       "    </tr>\n",
       "  </tbody>\n",
       "</table>\n",
       "</div>"
      ],
      "text/plain": [
       "                 count      mean       std  min  25%  50%   75%   max\n",
       "number_of_years   21.0  6.714286  4.001785  1.0  3.0  7.0  10.0  13.0"
      ]
     },
     "metadata": {},
     "output_type": "display_data"
    }
   ],
   "source": [
    "#разделим платформы на старые (к 2016 году уже более 3 лет не выпускались новые игры) и актуальные\n",
    "platforms_actual = set(df.loc[df[\"year_of_release\"] >= 2014]['platform'])\n",
    "platforms_old = set(df['platform']) - platforms_actual\n",
    "result = pd.DataFrame()\n",
    "#напишем функцию, подсчитывающую срок жизни платформы\n",
    "for platform, z in df.groupby('platform'):  \n",
    "    T = pd.DataFrame({\"platform\":[platform], \"count\":[len(set(z['year_of_release']))]})\n",
    "    result = result.append(T)\n",
    "\n",
    "#выведем данные по старым платформам\n",
    "result_old = result.rename(columns={'platform': 'platforms_old', 'count': 'number_of_years'})\n",
    "result_old = result_old[result['platform'].isin(platforms_old)]\n",
    "result_old = result_old.set_index(\"platforms_old\")\n",
    "display(result_old.T)\n",
    "display(result_old.describe().T)"
   ]
  },
  {
   "cell_type": "markdown",
   "metadata": {},
   "source": [
    "На основании полученных данных можно сделать следующие выводы:\n",
    " - общее количество подобных платформ 21 шт.;\n",
    " - разброс срока жизни старых платформ от 1 года (платформы PCFX или TG16) до 13 лет (платформа GB);\n",
    " - средний срок жизни старых платформ порядка 7 лет."
   ]
  },
  {
   "cell_type": "markdown",
   "metadata": {},
   "source": [
    "Чтобы изучить актуальные платформы на 2017 год, достаточно изучить данные начиная с (2017 - х) лет, а более старое, если и было популярно, уже сошло на нет. На основании полученных данных количества выпущенных игр по годам (актуальный период 7 лет), среднем сроке жизни платформ (актуальный период тоже 7 лет), а также принимая во внимание факт, что данные за 2016 год неполные, **актуальный период для наших целей мы можем определить в период в 8 лет. Таким образом, данные ранее 2009 можно откинуть.** Теперь составим топ-5 продаж для актуальных платформ: в них входят PS3, X360, Wii, PS4 и 3DS, однако по всем ним продажи падают."
   ]
  },
  {
   "cell_type": "code",
   "execution_count": 20,
   "metadata": {},
   "outputs": [
    {
     "data": {
      "image/png": "[encoded data removed]",
      "text/plain": [
       "<Figure size 432x288 with 1 Axes>"
      ]
     },
     "metadata": {
      "needs_background": "light"
     },
     "output_type": "display_data"
    },
    {
     "data": {
      "image/png": "[encoded data removed]",
      "text/plain": [
       "<Figure size 432x288 with 1 Axes>"
      ]
     },
     "metadata": {
      "needs_background": "light"
     },
     "output_type": "display_data"
    }
   ],
   "source": [
    "df = df.query('year_of_release >= 2009')\n",
    "s = df.pivot_table(index=['platform'], values='total_sales', aggfunc= 'sum').sort_values(by=\"total_sales\",ascending = False)\n",
    "s.plot.bar(width = 0.8, grid=True)\n",
    "plt.xlabel('платформа')\n",
    "plt.ylabel(\"общие продажи, млн. копий\")\n",
    "plt.title(\"Общий объем продаж с 2009 года по платформам\")\n",
    "top_platforms_actual = set(s.head().index)\n",
    "m = df[df['platform'].isin(top_platforms_actual)]\n",
    "m = m.pivot_table(index=['platform'], columns = 'year_of_release', values='total_sales', aggfunc= 'sum')\n",
    "m.T.plot.bar(width = 0.8, grid=True)\n",
    "plt.xlabel('платформа')\n",
    "plt.ylabel(\"общие продажи, млн. копий\")\n",
    "plt.title(\"Динамика продаж по топ-5 платформ\")\n",
    "plt.show()"
   ]
  },
  {
   "cell_type": "markdown",
   "metadata": {},
   "source": [
    "Определим несколько потенциально прибыльных платформ. Так как данные за 2016 год неполные, выведем продажи в разрезе платформ начиная с 2015 года. **На топ-3 (PS4, XOne и 3DS) приходится 80% всех продаж за этот период, поэтому придерживаясь принципа Паретто, их можно рассматривать как потенциально прибыльные.**"
   ]
  },
  {
   "cell_type": "code",
   "execution_count": 21,
   "metadata": {},
   "outputs": [
    {
     "data": {
      "text/html": [
       "<div>\n",
       "<style scoped>\n",
       "    .dataframe tbody tr th:only-of-type {\n",
       "        vertical-align: middle;\n",
       "    }\n",
       "\n",
       "    .dataframe tbody tr th {\n",
       "        vertical-align: top;\n",
       "    }\n",
       "\n",
       "    .dataframe thead th {\n",
       "        text-align: right;\n",
       "    }\n",
       "</style>\n",
       "<table border=\"1\" class=\"dataframe\">\n",
       "  <thead>\n",
       "    <tr style=\"text-align: right;\">\n",
       "      <th>platform</th>\n",
       "      <th>All</th>\n",
       "      <th>PS4</th>\n",
       "      <th>XOne</th>\n",
       "      <th>3DS</th>\n",
       "      <th>WiiU</th>\n",
       "      <th>PS3</th>\n",
       "      <th>PC</th>\n",
       "      <th>X360</th>\n",
       "      <th>PSV</th>\n",
       "      <th>Wii</th>\n",
       "      <th>PSP</th>\n",
       "    </tr>\n",
       "  </thead>\n",
       "  <tbody>\n",
       "    <tr>\n",
       "      <th>total_sales</th>\n",
       "      <td>397.92</td>\n",
       "      <td>188.15</td>\n",
       "      <td>86.29</td>\n",
       "      <td>42.92</td>\n",
       "      <td>20.95</td>\n",
       "      <td>20.42</td>\n",
       "      <td>13.77</td>\n",
       "      <td>13.48</td>\n",
       "      <td>10.5</td>\n",
       "      <td>1.32</td>\n",
       "      <td>0.12</td>\n",
       "    </tr>\n",
       "  </tbody>\n",
       "</table>\n",
       "</div>"
      ],
      "text/plain": [
       "platform        All     PS4   XOne    3DS   WiiU    PS3     PC   X360   PSV  \\\n",
       "total_sales  397.92  188.15  86.29  42.92  20.95  20.42  13.77  13.48  10.5   \n",
       "\n",
       "platform      Wii   PSP  \n",
       "total_sales  1.32  0.12  "
      ]
     },
     "execution_count": 21,
     "metadata": {},
     "output_type": "execute_result"
    }
   ],
   "source": [
    "df_2015 = df.query('year_of_release >= 2015')\n",
    "df_2015.pivot_table(index=['platform'], values='total_sales', margins=True, aggfunc= 'sum').sort_values(by=\"total_sales\",ascending = False).T"
   ]
  },
  {
   "cell_type": "markdown",
   "metadata": {},
   "source": [
    "Построим график «ящик с усами» по глобальным продажам игр."
   ]
  },
  {
   "cell_type": "code",
   "execution_count": 22,
   "metadata": {},
   "outputs": [
    {
     "data": {
      "image/png": "[encoded data removed]",
      "text/plain": [
       "<Figure size 432x288 with 1 Axes>"
      ]
     },
     "metadata": {
      "needs_background": "light"
     },
     "output_type": "display_data"
    }
   ],
   "source": [
    "#display(df.pivot_table(index=['platform'], columns = 'year_of_release', values='total_sales', aggfunc= 'max'))\n",
    "df.boxplot(column = 'total_sales', by = \"platform\")\n",
    "plt.ylim(0, 35)\n",
    "plt.show()"
   ]
  },
  {
   "cell_type": "markdown",
   "metadata": {},
   "source": [
    "Мы видим, что для всех платформ размах усов уклыдывается в пределах 1-2 млн. проданных копий. При этом для каждой плафтормы наблюдаем значительное количество выбросов - успешные игры, которые выпускались на этих платформах. Максимальные продажи пришлись на игру Wii Sports Resort на платформе Wii в 2009 году - общие продажи составили почти 33  млн. копий (см.ниже). Обратим внимание, что для разных платформ максимальные выбросы могут сильно отличаться. Причин этому может быть сразу несколько: во-первых, использование нами актуального периода начиная с 2009 года отсекают более ранние продажи (PS2 стартовал с продажами в 2000 году); во-вторых, какие-то платформы имеют сравнительно небольшой срок продаж (например, наши лидеры PS4 и XOne начали продаваться только с 2013 г., а 3DS с 2011 г., т.е. к 2016 году у них всего 3 и 5 лет продаж соотвественно); в-третьих, мы видим разные типы платформ - 3DS, DS, PSP и PSV это портативные игровые консоли, а остальные платформ представлены полноценными игровыми приставками, т.е. по сути это разные сегменты компьютерных игр."
   ]
  },
  {
   "cell_type": "code",
   "execution_count": 23,
   "metadata": {},
   "outputs": [
    {
     "data": {
      "text/html": [
       "<div>\n",
       "<style scoped>\n",
       "    .dataframe tbody tr th:only-of-type {\n",
       "        vertical-align: middle;\n",
       "    }\n",
       "\n",
       "    .dataframe tbody tr th {\n",
       "        vertical-align: top;\n",
       "    }\n",
       "\n",
       "    .dataframe thead th {\n",
       "        text-align: right;\n",
       "    }\n",
       "</style>\n",
       "<table border=\"1\" class=\"dataframe\">\n",
       "  <thead>\n",
       "    <tr style=\"text-align: right;\">\n",
       "      <th></th>\n",
       "      <th>name</th>\n",
       "      <th>platform</th>\n",
       "      <th>year_of_release</th>\n",
       "      <th>genre</th>\n",
       "      <th>na_sales</th>\n",
       "      <th>eu_sales</th>\n",
       "      <th>jp_sales</th>\n",
       "      <th>other_sales</th>\n",
       "      <th>total_sales</th>\n",
       "      <th>critic_score</th>\n",
       "      <th>user_score</th>\n",
       "      <th>rating</th>\n",
       "    </tr>\n",
       "  </thead>\n",
       "  <tbody>\n",
       "    <tr>\n",
       "      <th>3</th>\n",
       "      <td>Wii Sports Resort</td>\n",
       "      <td>Wii</td>\n",
       "      <td>2009</td>\n",
       "      <td>Sports</td>\n",
       "      <td>15.61</td>\n",
       "      <td>10.93</td>\n",
       "      <td>3.28</td>\n",
       "      <td>2.95</td>\n",
       "      <td>32.77</td>\n",
       "      <td>80</td>\n",
       "      <td>8.0</td>\n",
       "      <td>E</td>\n",
       "    </tr>\n",
       "  </tbody>\n",
       "</table>\n",
       "</div>"
      ],
      "text/plain": [
       "                name platform  year_of_release   genre  na_sales  eu_sales  \\\n",
       "3  Wii Sports Resort      Wii             2009  Sports     15.61     10.93   \n",
       "\n",
       "   jp_sales  other_sales  total_sales  critic_score  user_score rating  \n",
       "3      3.28         2.95        32.77            80         8.0      E  "
      ]
     },
     "execution_count": 23,
     "metadata": {},
     "output_type": "execute_result"
    }
   ],
   "source": [
    "df.loc[df[\"total_sales\"] == df['total_sales'].max()]"
   ]
  },
  {
   "cell_type": "markdown",
   "metadata": {},
   "source": [
    "Посмотрите, как влияют на продажи внутри одной популярной платформы отзывы пользователей и критиков. Постройте диаграмму рассеяния и посчитайте корреляцию между отзывами и продажами. Сформулируйте выводы. Наиболее популярная актуальная платформа PS4, проанализируем ее."
   ]
  },
  {
   "cell_type": "code",
   "execution_count": 24,
   "metadata": {},
   "outputs": [
    {
     "data": {
      "text/plain": [
       "0.406567902061781"
      ]
     },
     "metadata": {},
     "output_type": "display_data"
    },
    {
     "data": {
      "image/png": "[encoded data removed]",
      "text/plain": [
       "<Figure size 432x288 with 1 Axes>"
      ]
     },
     "metadata": {
      "needs_background": "light"
     },
     "output_type": "display_data"
    },
    {
     "data": {
      "text/html": [
       "<div>\n",
       "<style scoped>\n",
       "    .dataframe tbody tr th:only-of-type {\n",
       "        vertical-align: middle;\n",
       "    }\n",
       "\n",
       "    .dataframe tbody tr th {\n",
       "        vertical-align: top;\n",
       "    }\n",
       "\n",
       "    .dataframe thead th {\n",
       "        text-align: right;\n",
       "    }\n",
       "</style>\n",
       "<table border=\"1\" class=\"dataframe\">\n",
       "  <thead>\n",
       "    <tr style=\"text-align: right;\">\n",
       "      <th></th>\n",
       "      <th>name</th>\n",
       "      <th>platform</th>\n",
       "      <th>year_of_release</th>\n",
       "      <th>genre</th>\n",
       "      <th>na_sales</th>\n",
       "      <th>eu_sales</th>\n",
       "      <th>jp_sales</th>\n",
       "      <th>other_sales</th>\n",
       "      <th>total_sales</th>\n",
       "      <th>critic_score</th>\n",
       "      <th>user_score</th>\n",
       "      <th>rating</th>\n",
       "    </tr>\n",
       "  </thead>\n",
       "  <tbody>\n",
       "    <tr>\n",
       "      <th>42</th>\n",
       "      <td>Grand Theft Auto V</td>\n",
       "      <td>PS4</td>\n",
       "      <td>2014</td>\n",
       "      <td>Action</td>\n",
       "      <td>3.96</td>\n",
       "      <td>6.31</td>\n",
       "      <td>0.38</td>\n",
       "      <td>1.97</td>\n",
       "      <td>12.62</td>\n",
       "      <td>97</td>\n",
       "      <td>8.3</td>\n",
       "      <td>M</td>\n",
       "    </tr>\n",
       "  </tbody>\n",
       "</table>\n",
       "</div>"
      ],
      "text/plain": [
       "                  name platform  year_of_release   genre  na_sales  eu_sales  \\\n",
       "42  Grand Theft Auto V      PS4             2014  Action      3.96      6.31   \n",
       "\n",
       "    jp_sales  other_sales  total_sales  critic_score  user_score rating  \n",
       "42      0.38         1.97        12.62            97         8.3      M  "
      ]
     },
     "metadata": {},
     "output_type": "display_data"
    },
    {
     "data": {
      "text/plain": [
       "-0.031957110204556424"
      ]
     },
     "metadata": {},
     "output_type": "display_data"
    },
    {
     "data": {
      "image/png": "[encoded data removed]",
      "text/plain": [
       "<Figure size 432x288 with 1 Axes>"
      ]
     },
     "metadata": {
      "needs_background": "light"
     },
     "output_type": "display_data"
    }
   ],
   "source": [
    "#определим, есть ли зависимость между отзывами пользователей/критиков и продажами. \n",
    "#Поскольку по многим играм нет данных по отзывам, оставим только игры, где присутствуют оценки критиков. \n",
    "df_PS4 = df.query('platform == \"PS4\" and critic_score > 0')\n",
    "display(df_PS4['total_sales'].corr(df['critic_score']))\n",
    "df_PS4.plot(x='critic_score', y='total_sales', kind='scatter', grid=True)\n",
    "plt.xlabel('оценка критиков')\n",
    "plt.ylabel('общие продажи, млн. копий')\n",
    "plt.title(\"Диаграмма рассеяния для общих продаж и оценкой критиков на PS4\")\n",
    "plt.show()\n",
    "display(df_PS4.loc[df_PS4[\"critic_score\"] == df_PS4['critic_score'].max()])\n",
    "df_PS4 = df.query('platform == \"PS4\" and user_score > 0')\n",
    "display(df_PS4['total_sales'].corr(df['user_score']))\n",
    "df_PS4.plot(x='user_score', y='total_sales', kind='scatter', grid=True)\n",
    "plt.xlabel('оценка пользователей')\n",
    "plt.ylabel('общие продажи, млн. копий')\n",
    "plt.title(\"Диаграмма рассеяния для общих продаж и оценкой пользователей на PS4\")\n",
    "plt.show()"
   ]
  },
  {
   "cell_type": "markdown",
   "metadata": {},
   "source": [
    "Для пары продажи - оценка критиков корреляция положительная, а ее уровень можно оценить как средний (0.4). На матрице рассеяния видна общая зависимость: уровень продаж более высокий для игр с высокой оценков критиков. Наибольшие продажи пришлись на игру Grand Theft Auto V с самым высоким рейтингов критиков 97. Никакой зависимости между продажами и оценками пользователей не обнаружено, поскольку коэффициент корреляции стремится к нулю. Это подтверждает и диаграмма рассеяния. Сравним полученные выводы с продажами игр на других популярных платформах."
   ]
  },
  {
   "cell_type": "code",
   "execution_count": 25,
   "metadata": {},
   "outputs": [
    {
     "data": {
      "text/plain": [
       "0.41699832800840175"
      ]
     },
     "metadata": {},
     "output_type": "display_data"
    },
    {
     "data": {
      "image/png": "[encoded data removed]",
      "text/plain": [
       "<Figure size 432x288 with 1 Axes>"
      ]
     },
     "metadata": {
      "needs_background": "light"
     },
     "output_type": "display_data"
    },
    {
     "data": {
      "text/plain": [
       "-0.06892505328279412"
      ]
     },
     "metadata": {},
     "output_type": "display_data"
    },
    {
     "data": {
      "image/png": "[encoded data removed]",
      "text/plain": [
       "<Figure size 432x288 with 1 Axes>"
      ]
     },
     "metadata": {
      "needs_background": "light"
     },
     "output_type": "display_data"
    }
   ],
   "source": [
    "#проверим наличие зависимостей для платформы XOne\n",
    "df_XOne = df.query('platform == \"XOne\" and critic_score > 0')\n",
    "display(df_XOne['total_sales'].corr(df['critic_score']))\n",
    "df_XOne.plot(x='critic_score', y='total_sales', kind='scatter', grid=True)\n",
    "plt.xlabel('оценка критиков')\n",
    "plt.ylabel('общие продажи, млн. копий')\n",
    "plt.title(\"Диаграмма рассеяния для общих продаж и оценкой критиков на XOne\")\n",
    "plt.show()\n",
    "df_XOne = df.query('platform == \"XOne\" and user_score > 0')\n",
    "display(df_XOne['total_sales'].corr(df['user_score']))\n",
    "df_XOne.plot(x='user_score', y='total_sales', kind='scatter', grid=True)\n",
    "plt.xlabel('оценка пользователей')\n",
    "plt.ylabel('общие продажи, млн. копий')\n",
    "plt.title(\"Диаграмма рассеяния для общих продаж и оценкой пользователей на XOne\")\n",
    "plt.show()"
   ]
  },
  {
   "cell_type": "code",
   "execution_count": 26,
   "metadata": {},
   "outputs": [
    {
     "data": {
      "text/plain": [
       "0.34873973059848346"
      ]
     },
     "metadata": {},
     "output_type": "display_data"
    },
    {
     "data": {
      "image/png": "[encoded data removed]",
      "text/plain": [
       "<Figure size 432x288 with 1 Axes>"
      ]
     },
     "metadata": {
      "needs_background": "light"
     },
     "output_type": "display_data"
    },
    {
     "data": {
      "text/plain": [
       "0.22207843643390884"
      ]
     },
     "metadata": {},
     "output_type": "display_data"
    },
    {
     "data": {
      "image/png": "[encoded data removed]",
      "text/plain": [
       "<Figure size 432x288 with 1 Axes>"
      ]
     },
     "metadata": {
      "needs_background": "light"
     },
     "output_type": "display_data"
    }
   ],
   "source": [
    "#проверим наличие зависимостей для платформы 3DS\n",
    "df_3DS = df.query('platform == \"3DS\" and critic_score > 0')\n",
    "display(df_3DS['total_sales'].corr(df['critic_score']))\n",
    "df_3DS.plot(x='critic_score', y='total_sales', kind='scatter', grid=True)\n",
    "plt.xlabel('оценка критиков')\n",
    "plt.ylabel('общие продажи, млн. копий')\n",
    "plt.title(\"Диаграмма рассеяния для общих продаж и оценкой критиков на 3DS\")\n",
    "plt.show()\n",
    "df_3DS = df.query('platform == \"3DS\" and user_score > 0')\n",
    "display(df_3DS['total_sales'].corr(df['user_score']))\n",
    "df_3DS.plot(x='user_score', y='total_sales', kind='scatter', grid=True)\n",
    "plt.xlabel('оценка пользователей')\n",
    "plt.ylabel('общие продажи, млн. копий')\n",
    "plt.title(\"Диаграмма рассеяния для общих продаж и оценкой пользователей на 3DS\")\n",
    "plt.show()"
   ]
  },
  {
   "cell_type": "markdown",
   "metadata": {},
   "source": [
    "В целом мы получили аналогичные PS4 результаты для платформ XOne и 3DS: \n",
    "  - корреляция  между продажами и оценкой критиков положительная, а ее уровень можно оценить как средний (0,35 - 0.4);\n",
    "  - корреляция  между продажами и оценкой пользователей отсутствует или выражена очень слабо (0 для PS4 и XOne, 0.22 для 3DS ).\n",
    "\n",
    "Возможно, подобный результат можно объяснить, что в процессе выбора пользователи смотрят в первую очередь профессиональные обзоры игр с хорошей оценкой критиков, нежели полагаются на отзывы таких же пользователей, как они."
   ]
  },
  {
   "cell_type": "markdown",
   "metadata": {},
   "source": [
    "Посмотрите на общее распределение игр по жанрам. Что можно сказать о самых прибыльных жанрах? Выделяются ли жанры с высокими и низкими продажами?"
   ]
  },
  {
   "cell_type": "code",
   "execution_count": 27,
   "metadata": {},
   "outputs": [
    {
     "data": {
      "text/html": [
       "<div>\n",
       "<style scoped>\n",
       "    .dataframe tbody tr th:only-of-type {\n",
       "        vertical-align: middle;\n",
       "    }\n",
       "\n",
       "    .dataframe tbody tr th {\n",
       "        vertical-align: top;\n",
       "    }\n",
       "\n",
       "    .dataframe thead th {\n",
       "        text-align: right;\n",
       "    }\n",
       "</style>\n",
       "<table border=\"1\" class=\"dataframe\">\n",
       "  <thead>\n",
       "    <tr style=\"text-align: right;\">\n",
       "      <th>genre</th>\n",
       "      <th>All</th>\n",
       "      <th>Action</th>\n",
       "      <th>Shooter</th>\n",
       "      <th>Sports</th>\n",
       "      <th>Role-Playing</th>\n",
       "      <th>Misc</th>\n",
       "      <th>Platform</th>\n",
       "      <th>Racing</th>\n",
       "      <th>Fighting</th>\n",
       "      <th>Simulation</th>\n",
       "      <th>Adventure</th>\n",
       "      <th>Strategy</th>\n",
       "      <th>Puzzle</th>\n",
       "    </tr>\n",
       "  </thead>\n",
       "  <tbody>\n",
       "    <tr>\n",
       "      <th>total_sales</th>\n",
       "      <td>3203.06</td>\n",
       "      <td>810.78</td>\n",
       "      <td>549.03</td>\n",
       "      <td>465.76</td>\n",
       "      <td>362.59</td>\n",
       "      <td>310.37</td>\n",
       "      <td>160.25</td>\n",
       "      <td>156.37</td>\n",
       "      <td>113.49</td>\n",
       "      <td>104.67</td>\n",
       "      <td>81.23</td>\n",
       "      <td>48.13</td>\n",
       "      <td>40.39</td>\n",
       "    </tr>\n",
       "  </tbody>\n",
       "</table>\n",
       "</div>"
      ],
      "text/plain": [
       "genre            All  Action  Shooter  Sports  Role-Playing    Misc  Platform  \\\n",
       "total_sales  3203.06  810.78   549.03  465.76        362.59  310.37    160.25   \n",
       "\n",
       "genre        Racing  Fighting  Simulation  Adventure  Strategy  Puzzle  \n",
       "total_sales  156.37    113.49      104.67      81.23     48.13   40.39  "
      ]
     },
     "metadata": {},
     "output_type": "display_data"
    },
    {
     "data": {
      "image/png": "[encoded data removed]",
      "text/plain": [
       "<Figure size 432x288 with 1 Axes>"
      ]
     },
     "metadata": {
      "needs_background": "light"
     },
     "output_type": "display_data"
    }
   ],
   "source": [
    "#построим диаграмму общих продаж в разрезе жанров\n",
    "display(df.pivot_table(index=['genre'], values='total_sales', margins=True, aggfunc= 'sum').sort_values(by=\"total_sales\",ascending = False).T)\n",
    "df.pivot_table(index=['genre'], values='total_sales', aggfunc= 'sum').sort_values(by=\"total_sales\",ascending = False).plot.bar(width = 0.8, grid=True)\n",
    "plt.xlabel('жанр')\n",
    "plt.ylabel('общие продажи, млн. копий')\n",
    "plt.title(\"Общий объем продаж с 2009 года по жанрам\")\n",
    "plt.show()"
   ]
  },
  {
   "cell_type": "markdown",
   "metadata": {},
   "source": [
    "Наиболее продаваемые жанры Action, Shooter, Sports, Role-Playing и Misc: на них пришлось порядка 80% всех продаж в мире. Самый популярный жанр Action - на него пришлось 25% от всех продаж. Наименее популярны жанры Strategy и Puzzle - каждый имеет менее 50 млн. проданных копий, или менее 1,5% от всех продаж. Стоит отметить большой разрыв между продажами жанра Misc и следующим по объемам Platform - они ниже почти в 2 раза."
   ]
  },
  {
   "cell_type": "markdown",
   "metadata": {},
   "source": [
    "**Определите для пользователя каждого региона (NA, EU, JP):**\n",
    " -\tСамые популярные платформы (топ-5). Опишите различия в долях продаж.\n",
    " -\tСамые популярные жанры (топ-5). Поясните разницу.\n",
    " -\tВлияет ли рейтинг ESRB на продажи в отдельном регионе?"
   ]
  },
  {
   "cell_type": "code",
   "execution_count": 28,
   "metadata": {},
   "outputs": [
    {
     "data": {
      "text/html": [
       "<div>\n",
       "<style scoped>\n",
       "    .dataframe tbody tr th:only-of-type {\n",
       "        vertical-align: middle;\n",
       "    }\n",
       "\n",
       "    .dataframe tbody tr th {\n",
       "        vertical-align: top;\n",
       "    }\n",
       "\n",
       "    .dataframe thead th {\n",
       "        text-align: right;\n",
       "    }\n",
       "</style>\n",
       "<table border=\"1\" class=\"dataframe\">\n",
       "  <thead>\n",
       "    <tr style=\"text-align: right;\">\n",
       "      <th>platform</th>\n",
       "      <th>X360</th>\n",
       "      <th>PS3</th>\n",
       "      <th>Wii</th>\n",
       "      <th>DS</th>\n",
       "      <th>PS4</th>\n",
       "    </tr>\n",
       "  </thead>\n",
       "  <tbody>\n",
       "    <tr>\n",
       "      <th>na_sales</th>\n",
       "      <td>408.180000</td>\n",
       "      <td>291.900000</td>\n",
       "      <td>235.750000</td>\n",
       "      <td>120.610000</td>\n",
       "      <td>108.740000</td>\n",
       "    </tr>\n",
       "    <tr>\n",
       "      <th>ratio</th>\n",
       "      <td>0.278439</td>\n",
       "      <td>0.199119</td>\n",
       "      <td>0.160816</td>\n",
       "      <td>0.082274</td>\n",
       "      <td>0.074177</td>\n",
       "    </tr>\n",
       "  </tbody>\n",
       "</table>\n",
       "</div>"
      ],
      "text/plain": [
       "platform        X360         PS3         Wii          DS         PS4\n",
       "na_sales  408.180000  291.900000  235.750000  120.610000  108.740000\n",
       "ratio       0.278439    0.199119    0.160816    0.082274    0.074177"
      ]
     },
     "metadata": {},
     "output_type": "display_data"
    },
    {
     "data": {
      "text/html": [
       "<div>\n",
       "<style scoped>\n",
       "    .dataframe tbody tr th:only-of-type {\n",
       "        vertical-align: middle;\n",
       "    }\n",
       "\n",
       "    .dataframe tbody tr th {\n",
       "        vertical-align: top;\n",
       "    }\n",
       "\n",
       "    .dataframe thead th {\n",
       "        text-align: right;\n",
       "    }\n",
       "</style>\n",
       "<table border=\"1\" class=\"dataframe\">\n",
       "  <thead>\n",
       "    <tr style=\"text-align: right;\">\n",
       "      <th>platform</th>\n",
       "      <th>PS3</th>\n",
       "      <th>X360</th>\n",
       "      <th>PS4</th>\n",
       "      <th>Wii</th>\n",
       "      <th>PC</th>\n",
       "    </tr>\n",
       "  </thead>\n",
       "  <tbody>\n",
       "    <tr>\n",
       "      <th>eu_sales</th>\n",
       "      <td>255.000000</td>\n",
       "      <td>196.720000</td>\n",
       "      <td>141.090000</td>\n",
       "      <td>124.220000</td>\n",
       "      <td>82.320000</td>\n",
       "    </tr>\n",
       "    <tr>\n",
       "      <th>ratio</th>\n",
       "      <td>0.247777</td>\n",
       "      <td>0.191148</td>\n",
       "      <td>0.137094</td>\n",
       "      <td>0.120702</td>\n",
       "      <td>0.079988</td>\n",
       "    </tr>\n",
       "  </tbody>\n",
       "</table>\n",
       "</div>"
      ],
      "text/plain": [
       "platform         PS3        X360         PS4         Wii         PC\n",
       "eu_sales  255.000000  196.720000  141.090000  124.220000  82.320000\n",
       "ratio       0.247777    0.191148    0.137094    0.120702   0.079988"
      ]
     },
     "metadata": {},
     "output_type": "display_data"
    },
    {
     "data": {
      "text/html": [
       "<div>\n",
       "<style scoped>\n",
       "    .dataframe tbody tr th:only-of-type {\n",
       "        vertical-align: middle;\n",
       "    }\n",
       "\n",
       "    .dataframe tbody tr th {\n",
       "        vertical-align: top;\n",
       "    }\n",
       "\n",
       "    .dataframe thead th {\n",
       "        text-align: right;\n",
       "    }\n",
       "</style>\n",
       "<table border=\"1\" class=\"dataframe\">\n",
       "  <thead>\n",
       "    <tr style=\"text-align: right;\">\n",
       "      <th>platform</th>\n",
       "      <th>3DS</th>\n",
       "      <th>PS3</th>\n",
       "      <th>DS</th>\n",
       "      <th>PSP</th>\n",
       "      <th>Wii</th>\n",
       "    </tr>\n",
       "  </thead>\n",
       "  <tbody>\n",
       "    <tr>\n",
       "      <th>jp_sales</th>\n",
       "      <td>100.620000</td>\n",
       "      <td>68.290000</td>\n",
       "      <td>52.110000</td>\n",
       "      <td>50.390000</td>\n",
       "      <td>34.320000</td>\n",
       "    </tr>\n",
       "    <tr>\n",
       "      <th>ratio</th>\n",
       "      <td>0.274147</td>\n",
       "      <td>0.186061</td>\n",
       "      <td>0.141977</td>\n",
       "      <td>0.137291</td>\n",
       "      <td>0.093507</td>\n",
       "    </tr>\n",
       "  </tbody>\n",
       "</table>\n",
       "</div>"
      ],
      "text/plain": [
       "platform         3DS        PS3         DS        PSP        Wii\n",
       "jp_sales  100.620000  68.290000  52.110000  50.390000  34.320000\n",
       "ratio       0.274147   0.186061   0.141977   0.137291   0.093507"
      ]
     },
     "metadata": {},
     "output_type": "display_data"
    },
    {
     "data": {
      "image/png": "[encoded data removed]",
      "text/plain": [
       "<Figure size 432x288 with 1 Axes>"
      ]
     },
     "metadata": {
      "needs_background": "light"
     },
     "output_type": "display_data"
    }
   ],
   "source": [
    "#определим наиболее популярные платформы по регионам\n",
    "#для Северной Америки\n",
    "na_sales = pd.DataFrame(df.groupby('platform')['na_sales'].sum())\n",
    "na_sales['ratio'] = na_sales['na_sales'].apply(lambda x: x/df['na_sales'].sum())\n",
    "display(na_sales.sort_values(by=\"na_sales\",ascending = False).head().T)\n",
    "#для Европы\n",
    "eu_sales = pd.DataFrame(df.groupby('platform')['eu_sales'].sum())\n",
    "eu_sales['ratio'] = eu_sales['eu_sales'].apply(lambda x: x/df['eu_sales'].sum())\n",
    "display(eu_sales.sort_values(by=\"eu_sales\",ascending = False).head().T)\n",
    "#для Японии\n",
    "jp_sales = pd.DataFrame(df.groupby('platform')['jp_sales'].sum())\n",
    "jp_sales['ratio'] = jp_sales['jp_sales'].apply(lambda x: x/df['jp_sales'].sum())\n",
    "display(jp_sales.sort_values(by=\"jp_sales\",ascending = False).head().T)\n",
    "#построим график продаж по платформам для трех регионов\n",
    "df.pivot_table(index=['platform'], values=['na_sales', 'eu_sales', 'jp_sales'], aggfunc= ['sum']).plot.bar(width = 0.8, grid=True)\n",
    "plt.xlabel('платоформа')\n",
    "plt.ylabel('общие продажи, млн. копий')\n",
    "plt.title(\"Общий объем продаж с 2009 года по платформам и регионам\")\n",
    "plt.show()"
   ]
  },
  {
   "cell_type": "markdown",
   "metadata": {},
   "source": [
    "Мы видим, что во всех трех регионах лидеры продаж по платформам различаются: в Северной Америке наиболее популярная платформа X360 (28% от всех продаж региона), в Европе это PS3 с долей 25%, а в Японии 3DS с долей в 27%. Стоит отметить, что платформы PS3 и Wii присутствуют в топ-5 во всех трех регионах."
   ]
  },
  {
   "cell_type": "code",
   "execution_count": 29,
   "metadata": {},
   "outputs": [
    {
     "data": {
      "text/html": [
       "<div>\n",
       "<style scoped>\n",
       "    .dataframe tbody tr th:only-of-type {\n",
       "        vertical-align: middle;\n",
       "    }\n",
       "\n",
       "    .dataframe tbody tr th {\n",
       "        vertical-align: top;\n",
       "    }\n",
       "\n",
       "    .dataframe thead th {\n",
       "        text-align: right;\n",
       "    }\n",
       "</style>\n",
       "<table border=\"1\" class=\"dataframe\">\n",
       "  <thead>\n",
       "    <tr style=\"text-align: right;\">\n",
       "      <th>genre</th>\n",
       "      <th>Action</th>\n",
       "      <th>Shooter</th>\n",
       "      <th>Sports</th>\n",
       "      <th>Misc</th>\n",
       "      <th>Role-Playing</th>\n",
       "    </tr>\n",
       "  </thead>\n",
       "  <tbody>\n",
       "    <tr>\n",
       "      <th>na_sales</th>\n",
       "      <td>361.720000</td>\n",
       "      <td>276.370000</td>\n",
       "      <td>227.660000</td>\n",
       "      <td>164.400000</td>\n",
       "      <td>130.830000</td>\n",
       "    </tr>\n",
       "    <tr>\n",
       "      <th>ratio</th>\n",
       "      <td>0.246746</td>\n",
       "      <td>0.188525</td>\n",
       "      <td>0.155298</td>\n",
       "      <td>0.112145</td>\n",
       "      <td>0.089245</td>\n",
       "    </tr>\n",
       "  </tbody>\n",
       "</table>\n",
       "</div>"
      ],
      "text/plain": [
       "genre         Action     Shooter      Sports        Misc  Role-Playing\n",
       "na_sales  361.720000  276.370000  227.660000  164.400000    130.830000\n",
       "ratio       0.246746    0.188525    0.155298    0.112145      0.089245"
      ]
     },
     "metadata": {},
     "output_type": "display_data"
    },
    {
     "data": {
      "text/html": [
       "<div>\n",
       "<style scoped>\n",
       "    .dataframe tbody tr th:only-of-type {\n",
       "        vertical-align: middle;\n",
       "    }\n",
       "\n",
       "    .dataframe tbody tr th {\n",
       "        vertical-align: top;\n",
       "    }\n",
       "\n",
       "    .dataframe thead th {\n",
       "        text-align: right;\n",
       "    }\n",
       "</style>\n",
       "<table border=\"1\" class=\"dataframe\">\n",
       "  <thead>\n",
       "    <tr style=\"text-align: right;\">\n",
       "      <th>genre</th>\n",
       "      <th>Action</th>\n",
       "      <th>Shooter</th>\n",
       "      <th>Sports</th>\n",
       "      <th>Misc</th>\n",
       "      <th>Role-Playing</th>\n",
       "    </tr>\n",
       "  </thead>\n",
       "  <tbody>\n",
       "    <tr>\n",
       "      <th>eu_sales</th>\n",
       "      <td>271.910000</td>\n",
       "      <td>192.300000</td>\n",
       "      <td>158.51000</td>\n",
       "      <td>86.270000</td>\n",
       "      <td>83.560000</td>\n",
       "    </tr>\n",
       "    <tr>\n",
       "      <th>ratio</th>\n",
       "      <td>0.264208</td>\n",
       "      <td>0.186853</td>\n",
       "      <td>0.15402</td>\n",
       "      <td>0.083826</td>\n",
       "      <td>0.081193</td>\n",
       "    </tr>\n",
       "  </tbody>\n",
       "</table>\n",
       "</div>"
      ],
      "text/plain": [
       "genre         Action     Shooter     Sports       Misc  Role-Playing\n",
       "eu_sales  271.910000  192.300000  158.51000  86.270000     83.560000\n",
       "ratio       0.264208    0.186853    0.15402   0.083826      0.081193"
      ]
     },
     "metadata": {},
     "output_type": "display_data"
    },
    {
     "data": {
      "text/html": [
       "<div>\n",
       "<style scoped>\n",
       "    .dataframe tbody tr th:only-of-type {\n",
       "        vertical-align: middle;\n",
       "    }\n",
       "\n",
       "    .dataframe tbody tr th {\n",
       "        vertical-align: top;\n",
       "    }\n",
       "\n",
       "    .dataframe thead th {\n",
       "        text-align: right;\n",
       "    }\n",
       "</style>\n",
       "<table border=\"1\" class=\"dataframe\">\n",
       "  <thead>\n",
       "    <tr style=\"text-align: right;\">\n",
       "      <th>genre</th>\n",
       "      <th>Role-Playing</th>\n",
       "      <th>Action</th>\n",
       "      <th>Misc</th>\n",
       "      <th>Sports</th>\n",
       "      <th>Platform</th>\n",
       "    </tr>\n",
       "  </thead>\n",
       "  <tbody>\n",
       "    <tr>\n",
       "      <th>jp_sales</th>\n",
       "      <td>120.610000</td>\n",
       "      <td>84.1600</td>\n",
       "      <td>30.090000</td>\n",
       "      <td>25.320000</td>\n",
       "      <td>20.650000</td>\n",
       "    </tr>\n",
       "    <tr>\n",
       "      <th>ratio</th>\n",
       "      <td>0.328611</td>\n",
       "      <td>0.2293</td>\n",
       "      <td>0.081982</td>\n",
       "      <td>0.068986</td>\n",
       "      <td>0.056262</td>\n",
       "    </tr>\n",
       "  </tbody>\n",
       "</table>\n",
       "</div>"
      ],
      "text/plain": [
       "genre     Role-Playing   Action       Misc     Sports   Platform\n",
       "jp_sales    120.610000  84.1600  30.090000  25.320000  20.650000\n",
       "ratio         0.328611   0.2293   0.081982   0.068986   0.056262"
      ]
     },
     "metadata": {},
     "output_type": "display_data"
    },
    {
     "data": {
      "image/png": "[encoded data removed]",
      "text/plain": [
       "<Figure size 432x288 with 1 Axes>"
      ]
     },
     "metadata": {
      "needs_background": "light"
     },
     "output_type": "display_data"
    }
   ],
   "source": [
    "#определим наиболее популярные жанры по регионам\n",
    "#для Северной Америки\n",
    "na_sales = pd.DataFrame(df.groupby('genre')['na_sales'].sum())\n",
    "na_sales['ratio'] = na_sales['na_sales'].apply(lambda x: x/df['na_sales'].sum())\n",
    "display(na_sales.sort_values(by=\"na_sales\",ascending = False).head().T)\n",
    "#для Европы\n",
    "eu_sales = pd.DataFrame(df.groupby('genre')['eu_sales'].sum())\n",
    "eu_sales['ratio'] = eu_sales['eu_sales'].apply(lambda x: x/df['eu_sales'].sum())\n",
    "display(eu_sales.sort_values(by=\"eu_sales\",ascending = False).head().T)\n",
    "#для Японии\n",
    "jp_sales = pd.DataFrame(df.groupby('genre')['jp_sales'].sum())\n",
    "jp_sales['ratio'] = jp_sales['jp_sales'].apply(lambda x: x/df['jp_sales'].sum())\n",
    "display(jp_sales.sort_values(by=\"jp_sales\",ascending = False).head().T)\n",
    "#построим график продаж по жанрам для трех регионов\n",
    "df.pivot_table(index=['genre'], values=['na_sales', 'eu_sales', 'jp_sales'], aggfunc= ['sum']).plot.bar(width = 0.8, grid=True)\n",
    "plt.xlabel('жанр')\n",
    "plt.ylabel('общие продажи, млн. копий')\n",
    "plt.title(\"Общий объем продаж с 2009 года по жанрам и регионам\")\n",
    "plt.show()"
   ]
  },
  {
   "cell_type": "markdown",
   "metadata": {},
   "source": [
    "Топ-5 жанров в Северной Америке и Европе полностью совпадают, причем даже в долях продаж. Это может объясняться общим \"западным образом мышления\" этих регионов. Наиболее популярный жанр Action. Однако в Японии лидирует жанр Role-Playing. Стоит также отметить здесь популярность в Японии жанра Platform, который отсутствует в топ-5 Северной Америки и Европе. В целом 3 жанра из топ-5 присутствуют во всех регионах: это Action, Misc и Sports"
   ]
  },
  {
   "cell_type": "code",
   "execution_count": 30,
   "metadata": {},
   "outputs": [
    {
     "data": {
      "image/png": "[encoded data removed]",
      "text/plain": [
       "<Figure size 2016x2016 with 3 Axes>"
      ]
     },
     "metadata": {},
     "output_type": "display_data"
    }
   ],
   "source": [
    "m = df.pivot_table(index=['rating'], values=['na_sales', 'eu_sales', 'jp_sales'], aggfunc= ['sum'])\n",
    "m.plot.pie(subplots=True, autopct='%1.1f%%', figsize=(28, 28))\n",
    "plt.title(\"Влияние рейтинга ESRB на продажи в отдельном регионе\")\n",
    "plt.show()"
   ]
  },
  {
   "cell_type": "markdown",
   "metadata": {},
   "source": [
    "Что касается вопроса влияния рейтинга ESRB на продажи в отдельном регионе, мы можем сделать вывод, что для Америки и Европы наличие рейтинга сильно влияет на продажи, поскольку для многих типов рейтинга продажи по ним либо превышают, либо сопоставимы с продажами игр без рейтингов. Однако и здесь выделилась Япония, более половины всех продаж пришлось на игры, у которых рейтинг отсутствует. Можно предположить, что причина снова кроется в природе рейтинга - ESRB определяет рейтинги для игр в США и Канаде, в то время как в Японии это делает CERO, по которой у нас нет данных."
   ]
  },
  {
   "cell_type": "markdown",
   "metadata": {},
   "source": [
    "##  Проверка гипотез"
   ]
  },
  {
   "cell_type": "markdown",
   "metadata": {},
   "source": [
    "Проверим гипотезу \"Средние пользовательские рейтинги платформ Xbox One и PC одинаковые\". Поскольку H₀ всегда формулируется так, чтобы использовать знак равенства, то это нулевая гипотеза. Альтернативная гипотеза звучит так: \"Средние пользовательские рейтинги платформ Xbox One и PC различаются\". Для проверки проведем статистический тест на равенство среднего двух генеральных совокупностей по взятым из них выборкам.\n"
   ]
  },
  {
   "cell_type": "code",
   "execution_count": 31,
   "metadata": {},
   "outputs": [
    {
     "data": {
      "text/html": [
       "<div>\n",
       "<style scoped>\n",
       "    .dataframe tbody tr th:only-of-type {\n",
       "        vertical-align: middle;\n",
       "    }\n",
       "\n",
       "    .dataframe tbody tr th {\n",
       "        vertical-align: top;\n",
       "    }\n",
       "\n",
       "    .dataframe thead tr th {\n",
       "        text-align: left;\n",
       "    }\n",
       "\n",
       "    .dataframe thead tr:last-of-type th {\n",
       "        text-align: right;\n",
       "    }\n",
       "</style>\n",
       "<table border=\"1\" class=\"dataframe\">\n",
       "  <thead>\n",
       "    <tr>\n",
       "      <th></th>\n",
       "      <th>count</th>\n",
       "      <th>mean</th>\n",
       "    </tr>\n",
       "    <tr>\n",
       "      <th></th>\n",
       "      <th>user_score</th>\n",
       "      <th>user_score</th>\n",
       "    </tr>\n",
       "    <tr>\n",
       "      <th>platform</th>\n",
       "      <th></th>\n",
       "      <th></th>\n",
       "    </tr>\n",
       "  </thead>\n",
       "  <tbody>\n",
       "    <tr>\n",
       "      <th>PC</th>\n",
       "      <td>457</td>\n",
       "      <td>6.652079</td>\n",
       "    </tr>\n",
       "    <tr>\n",
       "      <th>XOne</th>\n",
       "      <td>182</td>\n",
       "      <td>6.521429</td>\n",
       "    </tr>\n",
       "  </tbody>\n",
       "</table>\n",
       "</div>"
      ],
      "text/plain": [
       "              count       mean\n",
       "         user_score user_score\n",
       "platform                      \n",
       "PC              457   6.652079\n",
       "XOne            182   6.521429"
      ]
     },
     "execution_count": 31,
     "metadata": {},
     "output_type": "execute_result"
    }
   ],
   "source": [
    "#сравним выборки для платформ Xbox One и PC с пользовательским рейтингом выше 0\n",
    "df_us = df.query('year_of_release >= 2008 and user_score > 0 and (platform == \"XOne\" or platform == \"PC\")')\n",
    "df_us.pivot_table(index=['platform'], values= ['user_score'], aggfunc= ['count','mean'])\n",
    "#df_us"
   ]
  },
  {
   "cell_type": "markdown",
   "metadata": {},
   "source": [
    "Мы видим, что наши выборки разного размера (457 для платформы PC vs 182 для XOne), а значит дисперсии одних и тех же показателей может сильно различаться. В связи с этим  при проведении статистического теста параметр equal_var нужно указать False, чтобы тест посчитал дисперсии выборок по отдельности.\n",
    "Средние оценки для обеих платформ очень близки."
   ]
  },
  {
   "cell_type": "code",
   "execution_count": 32,
   "metadata": {},
   "outputs": [
    {
     "name": "stdout",
     "output_type": "stream",
     "text": [
      "p-значение: 0.29856178733970584\n",
      "Не получилось отвергнуть нулевую гипотезу\n"
     ]
    }
   ],
   "source": [
    "df_PC = df_us[df_us['platform'] == \"PC\"]['user_score']\n",
    "df_XOne = df_us[df_us['platform'] == \"XOne\"]['user_score']\n",
    "alpha = .001\n",
    "results = st.ttest_ind(df_PC, df_XOne, equal_var = False)\n",
    "print('p-значение:', results.pvalue)\n",
    "if results.pvalue < alpha:\n",
    "    print(\"Отвергаем нулевую гипотезу\")\n",
    "else:\n",
    "    print(\"Не получилось отвергнуть нулевую гипотезу\")"
   ]
  },
  {
   "cell_type": "markdown",
   "metadata": {},
   "source": [
    "Полученное значение p-value говорит о том, что вероятность получить такое или большее различие случайно почти 30%, что значительно выше критического уровня значимости даже в 5%. Это явно слишком большая вероятность, чтобы делать вывод о значимом различии между средними оценками пользователей для этих плаформ. Таким образом, **оснований отвергать гипотезу \"Средние пользовательские рейтинги платформ Xbox One и PC одинаковые\" нет**."
   ]
  },
  {
   "cell_type": "markdown",
   "metadata": {},
   "source": [
    "Теперь проверим еще одну гипотезу - \"Средние пользовательские рейтинги жанров Action и Sports разные\". А это уже альтернативная гипотеза в противовес нулевой, которая звучит так: \"Средние пользовательские рейтинги жанров Action и Sports не отличаются друг от друга\"."
   ]
  },
  {
   "cell_type": "code",
   "execution_count": 33,
   "metadata": {},
   "outputs": [
    {
     "data": {
      "text/html": [
       "<div>\n",
       "<style scoped>\n",
       "    .dataframe tbody tr th:only-of-type {\n",
       "        vertical-align: middle;\n",
       "    }\n",
       "\n",
       "    .dataframe tbody tr th {\n",
       "        vertical-align: top;\n",
       "    }\n",
       "\n",
       "    .dataframe thead tr th {\n",
       "        text-align: left;\n",
       "    }\n",
       "\n",
       "    .dataframe thead tr:last-of-type th {\n",
       "        text-align: right;\n",
       "    }\n",
       "</style>\n",
       "<table border=\"1\" class=\"dataframe\">\n",
       "  <thead>\n",
       "    <tr>\n",
       "      <th></th>\n",
       "      <th>count</th>\n",
       "      <th>mean</th>\n",
       "    </tr>\n",
       "    <tr>\n",
       "      <th></th>\n",
       "      <th>user_score</th>\n",
       "      <th>user_score</th>\n",
       "    </tr>\n",
       "    <tr>\n",
       "      <th>genre</th>\n",
       "      <th></th>\n",
       "      <th></th>\n",
       "    </tr>\n",
       "  </thead>\n",
       "  <tbody>\n",
       "    <tr>\n",
       "      <th>Action</th>\n",
       "      <td>936</td>\n",
       "      <td>6.817415</td>\n",
       "    </tr>\n",
       "    <tr>\n",
       "      <th>Sports</th>\n",
       "      <td>400</td>\n",
       "      <td>6.105250</td>\n",
       "    </tr>\n",
       "  </tbody>\n",
       "</table>\n",
       "</div>"
      ],
      "text/plain": [
       "            count       mean\n",
       "       user_score user_score\n",
       "genre                       \n",
       "Action        936   6.817415\n",
       "Sports        400   6.105250"
      ]
     },
     "execution_count": 33,
     "metadata": {},
     "output_type": "execute_result"
    }
   ],
   "source": [
    "#сравним выборки для жанров Action и Sports, с пользовательским рейтингом выше 0\n",
    "df2 = df.query('year_of_release >= 2008 and user_score > 0 and (genre == \"Action\" or genre == \"Sports\")')\n",
    "df2.pivot_table(index=['genre'], values= ['user_score'], aggfunc= ['count','mean'])\n",
    "#df2"
   ]
  },
  {
   "cell_type": "markdown",
   "metadata": {},
   "source": [
    "И вновь наши выборки сильно различаются по размеру (936 для жанра Action vs 400 для Sports). В связи с этим  при проведении статистического теста параметр equal_var нужно указать False, чтобы тест посчитал дисперсии выборок по отдельности. Средние оценки отличаются уже сильнее, чем при проверке предыдущей гипотезы."
   ]
  },
  {
   "cell_type": "code",
   "execution_count": 34,
   "metadata": {},
   "outputs": [
    {
     "name": "stdout",
     "output_type": "stream",
     "text": [
      "p-значение: 3.493323839142059e-13\n",
      "Отвергаем нулевую гипотезу\n"
     ]
    }
   ],
   "source": [
    "df_action = df2[df2['genre'] == \"Action\"]['user_score']\n",
    "df_sports = df2[df2['genre'] == \"Sports\"]['user_score']\n",
    "alpha = .001\n",
    "results = st.ttest_ind(df_action, df_sports, equal_var = False)\n",
    "print('p-значение:', results.pvalue)\n",
    "if results.pvalue < alpha:\n",
    "    print(\"Отвергаем нулевую гипотезу\")\n",
    "else:\n",
    "    print(\"Не получилось отвергнуть нулевую гипотезу\")"
   ]
  },
  {
   "cell_type": "markdown",
   "metadata": {},
   "source": [
    "**По результатам проведения теста значение p-value стремится к нулю (10^-13). Таким образом, оснований отвергать гипотезу \"Средние пользовательские рейтинги жанров Action и Sports разные\" нет**."
   ]
  },
  {
   "cell_type": "markdown",
   "metadata": {},
   "source": [
    "## Общий вывод"
   ]
  },
  {
   "cell_type": "markdown",
   "metadata": {},
   "source": [
    "На основании проведенного анализа можно сделать следующие выводы:\n",
    "1. С 1991 по 2009 почти каждый год количество релизов превышало предыдущий. Однако начиная с 2010 года их количество пошло на спад. Вероятно, это можно объяснить активным развитием игр на смартфонах и планшетах в этот период.\n",
    "2. На топ-3 платформ: PS4, XOne и 3DS - приходится 80% всех продаж за период начиная с 2015 года, поэтому придерживаясь принципа Паретто, их можно рассматривать как потенциально прибыльные.\n",
    "3. На основании диаграммы размаха мы определили, что для всех платформ размах усов уклыдывается в пределах 1-2 млн. проданных копий, это среднестатистический объем продаж для среднестатистической игры. Однако для каждой плафтормы существуют выбросы - успешные игры, которые выпускались на этих платформах. Максимальные продажи пришлись на игру Wii Sports Resort на платформе Wii в 2009 году - общие продажи составили почти 33  млн. копий.\n",
    "4. Мы получили следующие результаты влияния отзывов критиков и пользователей на продажи: \n",
    "  - корреляция  между продажами и оценкой критиков положительная, а ее уровень можно оценить как средний (0,35 - 0.4);\n",
    "  - корреляция  между продажами и оценкой пользователей отсутсвует или выражена очень слабо (0 для PS4 и XOne, 0.22 для 3DS ).\n",
    "5. Наиболее продаваемые жанры Action, Shooter, Sports, Role-Playing и Misc: на них пришлось порядка 80% всех продаж в мире. Самый популярный жанр Action - на него пришлось 25% от всех продаж. Наименее популярны жанры Strategy и Puzzle - каждый имеет менее 50 млн. проданных копий, или менее 1,5% от всех продаж.\n",
    "6. Мы составили портрет пользователя для трех регионов Северная Америка, Европа и Япония:\n",
    "* во всех трех регионах лидеры продаж по платформам различаются: в Северной Америке наиболее популярная платформа X360 (28% от всех продаж региона), в Европе это PS3 с долей 25%, а в Японии 3DS с долей в 27%. Стоит отметить, что платформы PS3 и Wii присутствуют в топ-5 во всех трех регионах;\n",
    "* топ-5 жанров в Северной Америке и Европе полностью совпадают, причем даже в долях продаж. Это может объясняться общим \"западным образом мышления\" этих регионов. Наиболее популярен жанр Action. Однако в Японии лидирует жанр Role-Playing. Стоит также отметить здесь популярность в Японии жанра Platform, который отсутствует в топ-5 Северной Америки и Европе. В целом 3 жанра из топ-5 присутсвуют во всех регионах: это Action, Misc и Sports;\n",
    "* что касается вопроса влияния рейтинга ESRB на продажи в отдельном регионе, мы можем сделать вывод, что для Америки и Европы наличие рейтинга сильно влияет на продажи, поскольку для многих типов рейтинга продажи по ним либо превышают, либо сопоставимы с продажами игр без рейтингов. Однако и здесь выделилась Япония, более половины всех продаж пришлось на игры, у которых рейтинг отсутствует. Можно предположить, что причина кроется в природе рейтинга - ESRB определяет рейтинги для игр в США и Канаде, в то время как в Японии это делает CERO, по которой у нас нет данных.\n",
    "7.  Мы проверили две гипотезы с помощью статистического теста по проверке равенства среднего двух генеральных совокупностей по взятым из них выборкам. Результаты теста не позволили отвергнуть наши гипотезы:\n",
    " - \"Средние пользовательские рейтинги платформ Xbox One и PC одинаковые\";\n",
    " - \"Средние пользовательские рейтинги жанров Action и Sports разные\"."
   ]
  }
 ],
 "metadata": {
  "ExecuteTimeLog": [
   {
    "duration": 574,
    "start_time": "2022-03-05T13:22:18.518Z"
   },
   {
    "duration": 1622,
    "start_time": "2022-03-05T13:22:25.833Z"
   },
   {
    "duration": 1584,
    "start_time": "2022-03-05T13:22:52.943Z"
   },
   {
    "duration": 41,
    "start_time": "2022-03-05T13:23:03.366Z"
   },
   {
    "duration": 10,
    "start_time": "2022-03-05T13:23:22.813Z"
   },
   {
    "duration": 9,
    "start_time": "2022-03-05T13:24:45.149Z"
   },
   {
    "duration": 10,
    "start_time": "2022-03-05T13:24:54.566Z"
   },
   {
    "duration": 16,
    "start_time": "2022-03-05T13:25:23.437Z"
   },
   {
    "duration": 13,
    "start_time": "2022-03-05T13:25:32.557Z"
   },
   {
    "duration": 13,
    "start_time": "2022-03-05T13:25:48.903Z"
   },
   {
    "duration": 7,
    "start_time": "2022-03-05T13:26:02.926Z"
   },
   {
    "duration": 9,
    "start_time": "2022-03-05T13:26:11.167Z"
   },
   {
    "duration": 12,
    "start_time": "2022-03-05T13:26:26.719Z"
   },
   {
    "duration": 205,
    "start_time": "2022-03-05T13:51:48.031Z"
   },
   {
    "duration": 596,
    "start_time": "2022-03-05T13:51:59.610Z"
   },
   {
    "duration": 44,
    "start_time": "2022-03-05T13:52:00.208Z"
   },
   {
    "duration": 10,
    "start_time": "2022-03-05T13:52:00.254Z"
   },
   {
    "duration": 19,
    "start_time": "2022-03-05T13:52:00.266Z"
   },
   {
    "duration": 16,
    "start_time": "2022-03-05T13:52:00.287Z"
   },
   {
    "duration": 26,
    "start_time": "2022-03-05T13:52:00.305Z"
   },
   {
    "duration": 8,
    "start_time": "2022-03-05T13:52:00.333Z"
   },
   {
    "duration": 12,
    "start_time": "2022-03-05T13:52:00.342Z"
   },
   {
    "duration": 16,
    "start_time": "2022-03-05T13:52:00.356Z"
   },
   {
    "duration": 16,
    "start_time": "2022-03-05T13:52:00.374Z"
   },
   {
    "duration": 25,
    "start_time": "2022-03-05T13:52:00.392Z"
   },
   {
    "duration": 8,
    "start_time": "2022-03-05T13:54:02.386Z"
   },
   {
    "duration": 11,
    "start_time": "2022-03-05T13:55:09.835Z"
   },
   {
    "duration": 5270,
    "start_time": "2022-03-05T14:01:02.517Z"
   },
   {
    "duration": 604,
    "start_time": "2022-03-05T14:01:11.906Z"
   },
   {
    "duration": 42,
    "start_time": "2022-03-05T14:01:12.512Z"
   },
   {
    "duration": 9,
    "start_time": "2022-03-05T14:01:12.556Z"
   },
   {
    "duration": 306,
    "start_time": "2022-03-05T14:01:12.567Z"
   },
   {
    "duration": 136,
    "start_time": "2022-03-05T14:01:12.739Z"
   },
   {
    "duration": 137,
    "start_time": "2022-03-05T14:01:12.740Z"
   },
   {
    "duration": 136,
    "start_time": "2022-03-05T14:01:12.741Z"
   },
   {
    "duration": 136,
    "start_time": "2022-03-05T14:01:12.742Z"
   },
   {
    "duration": 136,
    "start_time": "2022-03-05T14:01:12.743Z"
   },
   {
    "duration": 5,
    "start_time": "2022-03-05T14:04:01.615Z"
   },
   {
    "duration": 210,
    "start_time": "2022-03-05T14:04:04.141Z"
   },
   {
    "duration": 641,
    "start_time": "2022-03-05T14:04:19.773Z"
   },
   {
    "duration": 43,
    "start_time": "2022-03-05T14:04:20.415Z"
   },
   {
    "duration": 9,
    "start_time": "2022-03-05T14:04:20.461Z"
   },
   {
    "duration": 6,
    "start_time": "2022-03-05T14:04:20.472Z"
   },
   {
    "duration": 270,
    "start_time": "2022-03-05T14:04:20.479Z"
   },
   {
    "duration": 161,
    "start_time": "2022-03-05T14:04:20.590Z"
   },
   {
    "duration": 160,
    "start_time": "2022-03-05T14:04:20.592Z"
   },
   {
    "duration": 159,
    "start_time": "2022-03-05T14:04:20.594Z"
   },
   {
    "duration": 157,
    "start_time": "2022-03-05T14:04:20.596Z"
   },
   {
    "duration": 157,
    "start_time": "2022-03-05T14:04:20.597Z"
   },
   {
    "duration": 14,
    "start_time": "2022-03-05T14:04:37.507Z"
   },
   {
    "duration": 211,
    "start_time": "2022-03-05T14:05:09.579Z"
   },
   {
    "duration": 13,
    "start_time": "2022-03-05T14:05:12.821Z"
   },
   {
    "duration": 689,
    "start_time": "2022-03-05T14:05:19.505Z"
   },
   {
    "duration": 44,
    "start_time": "2022-03-05T14:05:20.195Z"
   },
   {
    "duration": 10,
    "start_time": "2022-03-05T14:05:20.241Z"
   },
   {
    "duration": 13,
    "start_time": "2022-03-05T14:05:20.263Z"
   },
   {
    "duration": 329,
    "start_time": "2022-03-05T14:05:20.277Z"
   },
   {
    "duration": 160,
    "start_time": "2022-03-05T14:05:20.448Z"
   },
   {
    "duration": 160,
    "start_time": "2022-03-05T14:05:20.449Z"
   },
   {
    "duration": 160,
    "start_time": "2022-03-05T14:05:20.450Z"
   },
   {
    "duration": 161,
    "start_time": "2022-03-05T14:05:20.450Z"
   },
   {
    "duration": 161,
    "start_time": "2022-03-05T14:05:20.451Z"
   },
   {
    "duration": 866,
    "start_time": "2022-03-06T10:39:48.491Z"
   },
   {
    "duration": 63,
    "start_time": "2022-03-06T10:39:49.360Z"
   },
   {
    "duration": 14,
    "start_time": "2022-03-06T10:39:49.427Z"
   },
   {
    "duration": 46,
    "start_time": "2022-03-06T10:39:49.444Z"
   },
   {
    "duration": 322,
    "start_time": "2022-03-06T10:39:49.493Z"
   },
   {
    "duration": -984,
    "start_time": "2022-03-06T10:39:50.801Z"
   },
   {
    "duration": -990,
    "start_time": "2022-03-06T10:39:50.809Z"
   },
   {
    "duration": -1001,
    "start_time": "2022-03-06T10:39:50.821Z"
   },
   {
    "duration": -1005,
    "start_time": "2022-03-06T10:39:50.826Z"
   },
   {
    "duration": -1009,
    "start_time": "2022-03-06T10:39:50.832Z"
   },
   {
    "duration": 227,
    "start_time": "2022-03-06T10:41:45.938Z"
   },
   {
    "duration": 25,
    "start_time": "2022-03-06T10:42:13.969Z"
   },
   {
    "duration": 267,
    "start_time": "2022-03-06T10:42:39.455Z"
   },
   {
    "duration": 9,
    "start_time": "2022-03-06T10:51:10.405Z"
   },
   {
    "duration": 27,
    "start_time": "2022-03-06T11:29:57.381Z"
   },
   {
    "duration": 10,
    "start_time": "2022-03-06T11:30:12.131Z"
   },
   {
    "duration": 11,
    "start_time": "2022-03-06T11:31:10.233Z"
   },
   {
    "duration": 6,
    "start_time": "2022-03-06T11:31:46.970Z"
   },
   {
    "duration": 6,
    "start_time": "2022-03-06T11:32:13.131Z"
   },
   {
    "duration": 5933,
    "start_time": "2022-03-06T11:32:30.975Z"
   },
   {
    "duration": 6,
    "start_time": "2022-03-06T11:32:41.041Z"
   },
   {
    "duration": 1053,
    "start_time": "2022-03-06T11:32:49.408Z"
   },
   {
    "duration": 88,
    "start_time": "2022-03-06T11:32:50.464Z"
   },
   {
    "duration": 35,
    "start_time": "2022-03-06T11:32:50.556Z"
   },
   {
    "duration": 9,
    "start_time": "2022-03-06T11:32:50.594Z"
   },
   {
    "duration": 8,
    "start_time": "2022-03-06T11:32:50.606Z"
   },
   {
    "duration": 18,
    "start_time": "2022-03-06T11:32:50.617Z"
   },
   {
    "duration": 6,
    "start_time": "2022-03-06T11:32:50.638Z"
   },
   {
    "duration": 367,
    "start_time": "2022-03-06T11:32:50.646Z"
   },
   {
    "duration": -962,
    "start_time": "2022-03-06T11:32:51.978Z"
   },
   {
    "duration": -964,
    "start_time": "2022-03-06T11:32:51.982Z"
   },
   {
    "duration": -968,
    "start_time": "2022-03-06T11:32:51.987Z"
   },
   {
    "duration": -969,
    "start_time": "2022-03-06T11:32:51.990Z"
   },
   {
    "duration": -971,
    "start_time": "2022-03-06T11:32:51.993Z"
   },
   {
    "duration": 11,
    "start_time": "2022-03-06T11:35:11.584Z"
   },
   {
    "duration": 7,
    "start_time": "2022-03-06T11:35:20.232Z"
   },
   {
    "duration": 12,
    "start_time": "2022-03-06T11:37:43.333Z"
   },
   {
    "duration": 7,
    "start_time": "2022-03-06T11:37:43.412Z"
   },
   {
    "duration": 7,
    "start_time": "2022-03-06T11:38:32.066Z"
   },
   {
    "duration": 6,
    "start_time": "2022-03-06T11:38:52.127Z"
   },
   {
    "duration": 16,
    "start_time": "2022-03-06T11:39:37.847Z"
   },
   {
    "duration": 10,
    "start_time": "2022-03-06T11:40:11.295Z"
   },
   {
    "duration": 7,
    "start_time": "2022-03-06T11:40:27.886Z"
   },
   {
    "duration": 9,
    "start_time": "2022-03-06T11:40:46.347Z"
   },
   {
    "duration": 6,
    "start_time": "2022-03-06T11:40:56.493Z"
   },
   {
    "duration": 881,
    "start_time": "2022-03-06T11:41:07.859Z"
   },
   {
    "duration": 66,
    "start_time": "2022-03-06T11:41:08.742Z"
   },
   {
    "duration": 16,
    "start_time": "2022-03-06T11:41:08.810Z"
   },
   {
    "duration": 18,
    "start_time": "2022-03-06T11:41:08.830Z"
   },
   {
    "duration": 38,
    "start_time": "2022-03-06T11:41:08.850Z"
   },
   {
    "duration": 7,
    "start_time": "2022-03-06T11:41:08.890Z"
   },
   {
    "duration": 8,
    "start_time": "2022-03-06T11:41:08.899Z"
   },
   {
    "duration": 10,
    "start_time": "2022-03-06T11:41:08.910Z"
   },
   {
    "duration": 20,
    "start_time": "2022-03-06T11:41:08.922Z"
   },
   {
    "duration": 6,
    "start_time": "2022-03-06T11:41:08.944Z"
   },
   {
    "duration": 337,
    "start_time": "2022-03-06T11:41:08.988Z"
   },
   {
    "duration": -956,
    "start_time": "2022-03-06T11:41:10.283Z"
   },
   {
    "duration": -959,
    "start_time": "2022-03-06T11:41:10.288Z"
   },
   {
    "duration": -961,
    "start_time": "2022-03-06T11:41:10.291Z"
   },
   {
    "duration": -963,
    "start_time": "2022-03-06T11:41:10.295Z"
   },
   {
    "duration": -965,
    "start_time": "2022-03-06T11:41:10.298Z"
   },
   {
    "duration": 22,
    "start_time": "2022-03-06T11:43:13.766Z"
   },
   {
    "duration": 6161,
    "start_time": "2022-03-06T11:44:43.995Z"
   },
   {
    "duration": 25,
    "start_time": "2022-03-06T11:45:04.719Z"
   },
   {
    "duration": 3,
    "start_time": "2022-03-06T11:46:17.928Z"
   },
   {
    "duration": 16,
    "start_time": "2022-03-06T11:47:07.240Z"
   },
   {
    "duration": 16,
    "start_time": "2022-03-06T11:47:13.995Z"
   },
   {
    "duration": 16,
    "start_time": "2022-03-06T11:47:46.666Z"
   },
   {
    "duration": 24,
    "start_time": "2022-03-06T13:04:36.236Z"
   },
   {
    "duration": 7,
    "start_time": "2022-03-06T13:04:53.501Z"
   },
   {
    "duration": 9,
    "start_time": "2022-03-06T13:05:54.681Z"
   },
   {
    "duration": 246,
    "start_time": "2022-03-06T13:06:10.630Z"
   },
   {
    "duration": 231,
    "start_time": "2022-03-06T13:06:27.719Z"
   },
   {
    "duration": 850,
    "start_time": "2022-03-06T13:06:39.981Z"
   },
   {
    "duration": 67,
    "start_time": "2022-03-06T13:06:40.833Z"
   },
   {
    "duration": 15,
    "start_time": "2022-03-06T13:06:40.904Z"
   },
   {
    "duration": 29,
    "start_time": "2022-03-06T13:06:40.922Z"
   },
   {
    "duration": 3,
    "start_time": "2022-03-06T13:06:40.954Z"
   },
   {
    "duration": 15,
    "start_time": "2022-03-06T13:06:40.988Z"
   },
   {
    "duration": 6,
    "start_time": "2022-03-06T13:06:41.006Z"
   },
   {
    "duration": 6,
    "start_time": "2022-03-06T13:06:41.015Z"
   },
   {
    "duration": 7,
    "start_time": "2022-03-06T13:06:41.025Z"
   },
   {
    "duration": 52,
    "start_time": "2022-03-06T13:06:41.034Z"
   },
   {
    "duration": 22,
    "start_time": "2022-03-06T13:06:41.089Z"
   },
   {
    "duration": 337,
    "start_time": "2022-03-06T13:06:41.113Z"
   },
   {
    "duration": -892,
    "start_time": "2022-03-06T13:06:42.344Z"
   },
   {
    "duration": -892,
    "start_time": "2022-03-06T13:06:42.346Z"
   },
   {
    "duration": -891,
    "start_time": "2022-03-06T13:06:42.347Z"
   },
   {
    "duration": -891,
    "start_time": "2022-03-06T13:06:42.348Z"
   },
   {
    "duration": -901,
    "start_time": "2022-03-06T13:06:42.359Z"
   },
   {
    "duration": 252,
    "start_time": "2022-03-06T13:11:13.176Z"
   },
   {
    "duration": 7,
    "start_time": "2022-03-06T13:12:14.777Z"
   },
   {
    "duration": 10,
    "start_time": "2022-03-06T13:12:44.586Z"
   },
   {
    "duration": 245,
    "start_time": "2022-03-06T13:12:57.339Z"
   },
   {
    "duration": 12,
    "start_time": "2022-03-06T13:14:29.504Z"
   },
   {
    "duration": 20,
    "start_time": "2022-03-06T13:14:49.739Z"
   },
   {
    "duration": 6,
    "start_time": "2022-03-06T13:16:16.540Z"
   },
   {
    "duration": 5,
    "start_time": "2022-03-06T13:16:20.331Z"
   },
   {
    "duration": 7,
    "start_time": "2022-03-06T13:16:29.594Z"
   },
   {
    "duration": 7,
    "start_time": "2022-03-06T13:17:11.011Z"
   },
   {
    "duration": 7,
    "start_time": "2022-03-06T13:17:17.172Z"
   },
   {
    "duration": 9,
    "start_time": "2022-03-06T13:17:25.755Z"
   },
   {
    "duration": 16,
    "start_time": "2022-03-06T13:18:30.787Z"
   },
   {
    "duration": 9,
    "start_time": "2022-03-06T13:18:46.643Z"
   },
   {
    "duration": 12,
    "start_time": "2022-03-06T13:24:45.038Z"
   },
   {
    "duration": 808,
    "start_time": "2022-03-06T13:25:28.642Z"
   },
   {
    "duration": 66,
    "start_time": "2022-03-06T13:25:29.453Z"
   },
   {
    "duration": 14,
    "start_time": "2022-03-06T13:25:29.522Z"
   },
   {
    "duration": 12,
    "start_time": "2022-03-06T13:25:29.539Z"
   },
   {
    "duration": 56,
    "start_time": "2022-03-06T13:25:29.554Z"
   },
   {
    "duration": 3,
    "start_time": "2022-03-06T13:25:29.612Z"
   },
   {
    "duration": 21,
    "start_time": "2022-03-06T13:25:29.618Z"
   },
   {
    "duration": 6,
    "start_time": "2022-03-06T13:25:29.642Z"
   },
   {
    "duration": 10,
    "start_time": "2022-03-06T13:25:29.650Z"
   },
   {
    "duration": 6,
    "start_time": "2022-03-06T13:25:29.688Z"
   },
   {
    "duration": 7,
    "start_time": "2022-03-06T13:25:29.696Z"
   },
   {
    "duration": 9,
    "start_time": "2022-03-06T13:25:29.706Z"
   },
   {
    "duration": 23,
    "start_time": "2022-03-06T13:25:29.718Z"
   },
   {
    "duration": 52,
    "start_time": "2022-03-06T13:25:29.744Z"
   },
   {
    "duration": 13,
    "start_time": "2022-03-06T13:25:29.798Z"
   },
   {
    "duration": 21,
    "start_time": "2022-03-06T13:25:29.813Z"
   },
   {
    "duration": 11,
    "start_time": "2022-03-06T13:25:29.837Z"
   },
   {
    "duration": 19,
    "start_time": "2022-03-06T13:25:29.888Z"
   },
   {
    "duration": 5603,
    "start_time": "2022-03-06T13:27:35.516Z"
   },
   {
    "duration": 871,
    "start_time": "2022-03-06T13:27:50.650Z"
   },
   {
    "duration": 69,
    "start_time": "2022-03-06T13:27:51.524Z"
   },
   {
    "duration": 16,
    "start_time": "2022-03-06T13:27:51.601Z"
   },
   {
    "duration": 15,
    "start_time": "2022-03-06T13:27:51.620Z"
   },
   {
    "duration": 65,
    "start_time": "2022-03-06T13:27:51.638Z"
   },
   {
    "duration": 24,
    "start_time": "2022-03-06T13:27:51.706Z"
   },
   {
    "duration": 15,
    "start_time": "2022-03-06T13:27:51.736Z"
   },
   {
    "duration": 8,
    "start_time": "2022-03-06T13:27:51.786Z"
   },
   {
    "duration": 8,
    "start_time": "2022-03-06T13:27:51.797Z"
   },
   {
    "duration": 9,
    "start_time": "2022-03-06T13:27:51.807Z"
   },
   {
    "duration": 9,
    "start_time": "2022-03-06T13:27:51.819Z"
   },
   {
    "duration": 57,
    "start_time": "2022-03-06T13:27:51.831Z"
   },
   {
    "duration": 22,
    "start_time": "2022-03-06T13:27:51.891Z"
   },
   {
    "duration": 14,
    "start_time": "2022-03-06T13:27:51.916Z"
   },
   {
    "duration": 55,
    "start_time": "2022-03-06T13:27:51.933Z"
   },
   {
    "duration": 23,
    "start_time": "2022-03-06T13:27:51.990Z"
   },
   {
    "duration": 13,
    "start_time": "2022-03-06T13:27:52.016Z"
   },
   {
    "duration": 55,
    "start_time": "2022-03-06T13:27:52.032Z"
   },
   {
    "duration": 4,
    "start_time": "2022-03-06T13:32:49.026Z"
   },
   {
    "duration": 6201,
    "start_time": "2022-03-06T13:33:06.308Z"
   },
   {
    "duration": 5507,
    "start_time": "2022-03-06T13:33:35.168Z"
   },
   {
    "duration": 840,
    "start_time": "2022-03-06T13:33:45.496Z"
   },
   {
    "duration": 66,
    "start_time": "2022-03-06T13:33:46.340Z"
   },
   {
    "duration": 26,
    "start_time": "2022-03-06T13:33:46.410Z"
   },
   {
    "duration": 15,
    "start_time": "2022-03-06T13:33:46.439Z"
   },
   {
    "duration": 17,
    "start_time": "2022-03-06T13:33:46.487Z"
   },
   {
    "duration": 25,
    "start_time": "2022-03-06T13:33:46.507Z"
   },
   {
    "duration": 3,
    "start_time": "2022-03-06T13:33:46.535Z"
   },
   {
    "duration": 55,
    "start_time": "2022-03-06T13:33:46.540Z"
   },
   {
    "duration": 7,
    "start_time": "2022-03-06T13:33:46.600Z"
   },
   {
    "duration": 8,
    "start_time": "2022-03-06T13:33:46.609Z"
   },
   {
    "duration": 11,
    "start_time": "2022-03-06T13:33:46.620Z"
   },
   {
    "duration": 9,
    "start_time": "2022-03-06T13:33:46.634Z"
   },
   {
    "duration": 9,
    "start_time": "2022-03-06T13:33:46.688Z"
   },
   {
    "duration": 21,
    "start_time": "2022-03-06T13:33:46.700Z"
   },
   {
    "duration": 12,
    "start_time": "2022-03-06T13:33:46.723Z"
   },
   {
    "duration": 50,
    "start_time": "2022-03-06T13:33:46.737Z"
   },
   {
    "duration": 21,
    "start_time": "2022-03-06T13:33:46.790Z"
   },
   {
    "duration": 12,
    "start_time": "2022-03-06T13:33:46.813Z"
   },
   {
    "duration": 23,
    "start_time": "2022-03-06T13:33:46.828Z"
   },
   {
    "duration": 5717,
    "start_time": "2022-03-06T13:34:55.405Z"
   },
   {
    "duration": 5948,
    "start_time": "2022-03-06T13:35:18.065Z"
   },
   {
    "duration": 856,
    "start_time": "2022-03-06T13:35:33.373Z"
   },
   {
    "duration": 67,
    "start_time": "2022-03-06T13:35:34.231Z"
   },
   {
    "duration": 19,
    "start_time": "2022-03-06T13:35:34.301Z"
   },
   {
    "duration": 15,
    "start_time": "2022-03-06T13:35:34.323Z"
   },
   {
    "duration": 13,
    "start_time": "2022-03-06T13:35:34.340Z"
   },
   {
    "duration": 51,
    "start_time": "2022-03-06T13:35:34.356Z"
   },
   {
    "duration": 3,
    "start_time": "2022-03-06T13:35:34.410Z"
   },
   {
    "duration": 20,
    "start_time": "2022-03-06T13:35:34.415Z"
   },
   {
    "duration": 6,
    "start_time": "2022-03-06T13:35:34.439Z"
   },
   {
    "duration": 40,
    "start_time": "2022-03-06T13:35:34.448Z"
   },
   {
    "duration": 14,
    "start_time": "2022-03-06T13:35:34.491Z"
   },
   {
    "duration": 13,
    "start_time": "2022-03-06T13:35:34.507Z"
   },
   {
    "duration": 7,
    "start_time": "2022-03-06T13:35:34.522Z"
   },
   {
    "duration": 23,
    "start_time": "2022-03-06T13:35:34.531Z"
   },
   {
    "duration": 39,
    "start_time": "2022-03-06T13:35:34.556Z"
   },
   {
    "duration": 13,
    "start_time": "2022-03-06T13:35:34.597Z"
   },
   {
    "duration": 21,
    "start_time": "2022-03-06T13:35:34.612Z"
   },
   {
    "duration": 51,
    "start_time": "2022-03-06T13:35:34.636Z"
   },
   {
    "duration": 19,
    "start_time": "2022-03-06T13:35:34.689Z"
   },
   {
    "duration": 5997,
    "start_time": "2022-03-06T13:36:41.837Z"
   },
   {
    "duration": 786,
    "start_time": "2022-03-06T13:37:03.807Z"
   },
   {
    "duration": 59,
    "start_time": "2022-03-06T13:37:04.596Z"
   },
   {
    "duration": 32,
    "start_time": "2022-03-06T13:37:04.663Z"
   },
   {
    "duration": 16,
    "start_time": "2022-03-06T13:37:04.698Z"
   },
   {
    "duration": 14,
    "start_time": "2022-03-06T13:37:04.717Z"
   },
   {
    "duration": 64,
    "start_time": "2022-03-06T13:37:04.734Z"
   },
   {
    "duration": 4,
    "start_time": "2022-03-06T13:37:04.803Z"
   },
   {
    "duration": 16,
    "start_time": "2022-03-06T13:37:04.810Z"
   },
   {
    "duration": 7,
    "start_time": "2022-03-06T13:37:04.829Z"
   },
   {
    "duration": 48,
    "start_time": "2022-03-06T13:37:04.839Z"
   },
   {
    "duration": 7,
    "start_time": "2022-03-06T13:37:04.890Z"
   },
   {
    "duration": 11,
    "start_time": "2022-03-06T13:37:04.900Z"
   },
   {
    "duration": 10,
    "start_time": "2022-03-06T13:37:04.913Z"
   },
   {
    "duration": 25,
    "start_time": "2022-03-06T13:37:04.925Z"
   },
   {
    "duration": 45,
    "start_time": "2022-03-06T13:37:04.952Z"
   },
   {
    "duration": 3,
    "start_time": "2022-03-06T13:37:04.999Z"
   },
   {
    "duration": 25,
    "start_time": "2022-03-06T13:37:05.004Z"
   },
   {
    "duration": 13,
    "start_time": "2022-03-06T13:37:05.031Z"
   },
   {
    "duration": 57,
    "start_time": "2022-03-06T13:37:05.046Z"
   },
   {
    "duration": 5574,
    "start_time": "2022-03-06T13:39:47.953Z"
   },
   {
    "duration": 789,
    "start_time": "2022-03-06T13:40:00.232Z"
   },
   {
    "duration": 65,
    "start_time": "2022-03-06T13:40:01.024Z"
   },
   {
    "duration": 39,
    "start_time": "2022-03-06T13:40:01.095Z"
   },
   {
    "duration": 29,
    "start_time": "2022-03-06T13:40:01.136Z"
   },
   {
    "duration": 26,
    "start_time": "2022-03-06T13:40:01.167Z"
   },
   {
    "duration": 24,
    "start_time": "2022-03-06T13:40:01.196Z"
   },
   {
    "duration": 3,
    "start_time": "2022-03-06T13:40:01.224Z"
   },
   {
    "duration": 34,
    "start_time": "2022-03-06T13:40:01.230Z"
   },
   {
    "duration": 30,
    "start_time": "2022-03-06T13:40:01.266Z"
   },
   {
    "duration": 20,
    "start_time": "2022-03-06T13:40:01.299Z"
   },
   {
    "duration": 15,
    "start_time": "2022-03-06T13:40:01.321Z"
   },
   {
    "duration": 24,
    "start_time": "2022-03-06T13:40:01.338Z"
   },
   {
    "duration": 33,
    "start_time": "2022-03-06T13:40:01.365Z"
   },
   {
    "duration": 32,
    "start_time": "2022-03-06T13:40:01.401Z"
   },
   {
    "duration": 12,
    "start_time": "2022-03-06T13:40:01.435Z"
   },
   {
    "duration": 24,
    "start_time": "2022-03-06T13:40:01.449Z"
   },
   {
    "duration": 48,
    "start_time": "2022-03-06T13:40:01.475Z"
   },
   {
    "duration": 22,
    "start_time": "2022-03-06T13:40:01.526Z"
   },
   {
    "duration": 44,
    "start_time": "2022-03-06T13:40:01.550Z"
   },
   {
    "duration": 5631,
    "start_time": "2022-03-06T13:40:27.879Z"
   },
   {
    "duration": 1143,
    "start_time": "2022-03-06T13:41:10.982Z"
   },
   {
    "duration": 69,
    "start_time": "2022-03-06T13:41:12.129Z"
   },
   {
    "duration": 28,
    "start_time": "2022-03-06T13:41:12.201Z"
   },
   {
    "duration": 16,
    "start_time": "2022-03-06T13:41:12.232Z"
   },
   {
    "duration": 45,
    "start_time": "2022-03-06T13:41:12.250Z"
   },
   {
    "duration": 24,
    "start_time": "2022-03-06T13:41:12.300Z"
   },
   {
    "duration": 4,
    "start_time": "2022-03-06T13:41:12.328Z"
   },
   {
    "duration": 53,
    "start_time": "2022-03-06T13:41:12.335Z"
   },
   {
    "duration": 6,
    "start_time": "2022-03-06T13:41:12.391Z"
   },
   {
    "duration": 11,
    "start_time": "2022-03-06T13:41:12.400Z"
   },
   {
    "duration": 10,
    "start_time": "2022-03-06T13:41:12.414Z"
   },
   {
    "duration": 11,
    "start_time": "2022-03-06T13:41:12.427Z"
   },
   {
    "duration": 8,
    "start_time": "2022-03-06T13:41:12.441Z"
   },
   {
    "duration": 24,
    "start_time": "2022-03-06T13:41:12.488Z"
   },
   {
    "duration": 11,
    "start_time": "2022-03-06T13:41:12.515Z"
   },
   {
    "duration": 4,
    "start_time": "2022-03-06T13:41:12.529Z"
   },
   {
    "duration": 66,
    "start_time": "2022-03-06T13:41:12.536Z"
   },
   {
    "duration": 16,
    "start_time": "2022-03-06T13:41:12.607Z"
   },
   {
    "duration": 25,
    "start_time": "2022-03-06T13:41:12.626Z"
   },
   {
    "duration": 18,
    "start_time": "2022-03-06T13:41:56.044Z"
   },
   {
    "duration": 30,
    "start_time": "2022-03-06T13:42:46.748Z"
   },
   {
    "duration": 809,
    "start_time": "2022-03-06T13:48:38.943Z"
   },
   {
    "duration": 61,
    "start_time": "2022-03-06T13:48:39.755Z"
   },
   {
    "duration": 18,
    "start_time": "2022-03-06T13:48:39.819Z"
   },
   {
    "duration": 19,
    "start_time": "2022-03-06T13:48:39.840Z"
   },
   {
    "duration": 37,
    "start_time": "2022-03-06T13:48:39.861Z"
   },
   {
    "duration": 5694,
    "start_time": "2022-03-06T13:48:39.900Z"
   },
   {
    "duration": -1654,
    "start_time": "2022-03-06T13:48:47.251Z"
   },
   {
    "duration": -1653,
    "start_time": "2022-03-06T13:48:47.252Z"
   },
   {
    "duration": -1653,
    "start_time": "2022-03-06T13:48:47.253Z"
   },
   {
    "duration": -1651,
    "start_time": "2022-03-06T13:48:47.253Z"
   },
   {
    "duration": -1651,
    "start_time": "2022-03-06T13:48:47.254Z"
   },
   {
    "duration": -1650,
    "start_time": "2022-03-06T13:48:47.255Z"
   },
   {
    "duration": -1649,
    "start_time": "2022-03-06T13:48:47.255Z"
   },
   {
    "duration": -1648,
    "start_time": "2022-03-06T13:48:47.256Z"
   },
   {
    "duration": -1648,
    "start_time": "2022-03-06T13:48:47.257Z"
   },
   {
    "duration": -1646,
    "start_time": "2022-03-06T13:48:47.257Z"
   },
   {
    "duration": -1645,
    "start_time": "2022-03-06T13:48:47.258Z"
   },
   {
    "duration": -1646,
    "start_time": "2022-03-06T13:48:47.260Z"
   },
   {
    "duration": -1645,
    "start_time": "2022-03-06T13:48:47.261Z"
   },
   {
    "duration": -1645,
    "start_time": "2022-03-06T13:48:47.262Z"
   },
   {
    "duration": 18,
    "start_time": "2022-03-06T13:48:58.726Z"
   },
   {
    "duration": 14,
    "start_time": "2022-03-06T13:53:04.498Z"
   },
   {
    "duration": 19,
    "start_time": "2022-03-06T13:53:42.603Z"
   },
   {
    "duration": 17,
    "start_time": "2022-03-06T14:02:49.214Z"
   },
   {
    "duration": 6,
    "start_time": "2022-03-06T14:02:56.231Z"
   },
   {
    "duration": 6,
    "start_time": "2022-03-06T14:03:02.492Z"
   },
   {
    "duration": 6,
    "start_time": "2022-03-06T14:03:08.381Z"
   },
   {
    "duration": 7,
    "start_time": "2022-03-06T14:03:17.556Z"
   },
   {
    "duration": 7,
    "start_time": "2022-03-06T14:04:07.597Z"
   },
   {
    "duration": 22,
    "start_time": "2022-03-06T14:05:01.623Z"
   },
   {
    "duration": 5601,
    "start_time": "2022-03-06T14:06:00.015Z"
   },
   {
    "duration": 867,
    "start_time": "2022-03-06T14:06:40.353Z"
   },
   {
    "duration": 66,
    "start_time": "2022-03-06T14:06:41.222Z"
   },
   {
    "duration": 18,
    "start_time": "2022-03-06T14:06:41.291Z"
   },
   {
    "duration": 16,
    "start_time": "2022-03-06T14:06:41.311Z"
   },
   {
    "duration": 12,
    "start_time": "2022-03-06T14:06:41.329Z"
   },
   {
    "duration": 53,
    "start_time": "2022-03-06T14:06:41.343Z"
   },
   {
    "duration": 25,
    "start_time": "2022-03-06T14:06:41.398Z"
   },
   {
    "duration": 3,
    "start_time": "2022-03-06T14:06:41.425Z"
   },
   {
    "duration": 16,
    "start_time": "2022-03-06T14:06:41.432Z"
   },
   {
    "duration": 38,
    "start_time": "2022-03-06T14:06:41.451Z"
   },
   {
    "duration": 7,
    "start_time": "2022-03-06T14:06:41.491Z"
   },
   {
    "duration": 8,
    "start_time": "2022-03-06T14:06:41.500Z"
   },
   {
    "duration": 8,
    "start_time": "2022-03-06T14:06:41.510Z"
   },
   {
    "duration": 7,
    "start_time": "2022-03-06T14:06:41.520Z"
   },
   {
    "duration": 334,
    "start_time": "2022-03-06T14:06:41.529Z"
   },
   {
    "duration": -868,
    "start_time": "2022-03-06T14:06:42.733Z"
   },
   {
    "duration": -868,
    "start_time": "2022-03-06T14:06:42.735Z"
   },
   {
    "duration": -869,
    "start_time": "2022-03-06T14:06:42.737Z"
   },
   {
    "duration": -868,
    "start_time": "2022-03-06T14:06:42.738Z"
   },
   {
    "duration": -868,
    "start_time": "2022-03-06T14:06:42.740Z"
   },
   {
    "duration": 14,
    "start_time": "2022-03-06T14:15:35.402Z"
   },
   {
    "duration": 233,
    "start_time": "2022-03-06T14:17:57.677Z"
   },
   {
    "duration": 845,
    "start_time": "2022-03-06T14:18:07.447Z"
   },
   {
    "duration": 62,
    "start_time": "2022-03-06T14:18:08.295Z"
   },
   {
    "duration": 18,
    "start_time": "2022-03-06T14:18:08.360Z"
   },
   {
    "duration": 14,
    "start_time": "2022-03-06T14:18:08.388Z"
   },
   {
    "duration": 14,
    "start_time": "2022-03-06T14:18:08.404Z"
   },
   {
    "duration": 21,
    "start_time": "2022-03-06T14:18:08.421Z"
   },
   {
    "duration": 55,
    "start_time": "2022-03-06T14:18:08.445Z"
   },
   {
    "duration": 315,
    "start_time": "2022-03-06T14:18:08.503Z"
   },
   {
    "duration": -844,
    "start_time": "2022-03-06T14:18:09.666Z"
   },
   {
    "duration": -850,
    "start_time": "2022-03-06T14:18:09.673Z"
   },
   {
    "duration": -850,
    "start_time": "2022-03-06T14:18:09.675Z"
   },
   {
    "duration": -851,
    "start_time": "2022-03-06T14:18:09.678Z"
   },
   {
    "duration": -850,
    "start_time": "2022-03-06T14:18:09.679Z"
   },
   {
    "duration": -849,
    "start_time": "2022-03-06T14:18:09.680Z"
   },
   {
    "duration": -849,
    "start_time": "2022-03-06T14:18:09.682Z"
   },
   {
    "duration": -848,
    "start_time": "2022-03-06T14:18:09.683Z"
   },
   {
    "duration": -847,
    "start_time": "2022-03-06T14:18:09.685Z"
   },
   {
    "duration": 250,
    "start_time": "2022-03-06T14:19:22.224Z"
   },
   {
    "duration": 238,
    "start_time": "2022-03-06T14:19:41.785Z"
   },
   {
    "duration": 824,
    "start_time": "2022-03-06T14:19:55.388Z"
   },
   {
    "duration": 63,
    "start_time": "2022-03-06T14:19:56.215Z"
   },
   {
    "duration": 18,
    "start_time": "2022-03-06T14:19:56.281Z"
   },
   {
    "duration": 16,
    "start_time": "2022-03-06T14:19:56.302Z"
   },
   {
    "duration": 12,
    "start_time": "2022-03-06T14:19:56.321Z"
   },
   {
    "duration": 19,
    "start_time": "2022-03-06T14:19:56.335Z"
   },
   {
    "duration": 42,
    "start_time": "2022-03-06T14:19:56.356Z"
   },
   {
    "duration": 3,
    "start_time": "2022-03-06T14:19:56.400Z"
   },
   {
    "duration": 318,
    "start_time": "2022-03-06T14:19:56.407Z"
   },
   {
    "duration": -835,
    "start_time": "2022-03-06T14:19:57.562Z"
   },
   {
    "duration": -839,
    "start_time": "2022-03-06T14:19:57.568Z"
   },
   {
    "duration": -849,
    "start_time": "2022-03-06T14:19:57.579Z"
   },
   {
    "duration": -848,
    "start_time": "2022-03-06T14:19:57.580Z"
   },
   {
    "duration": -849,
    "start_time": "2022-03-06T14:19:57.582Z"
   },
   {
    "duration": -853,
    "start_time": "2022-03-06T14:19:57.588Z"
   },
   {
    "duration": -853,
    "start_time": "2022-03-06T14:19:57.589Z"
   },
   {
    "duration": 481,
    "start_time": "2022-03-06T14:20:38.315Z"
   },
   {
    "duration": 825,
    "start_time": "2022-03-06T14:20:44.545Z"
   },
   {
    "duration": 76,
    "start_time": "2022-03-06T14:20:45.373Z"
   },
   {
    "duration": 18,
    "start_time": "2022-03-06T14:20:45.451Z"
   },
   {
    "duration": 27,
    "start_time": "2022-03-06T14:20:45.471Z"
   },
   {
    "duration": 13,
    "start_time": "2022-03-06T14:20:45.500Z"
   },
   {
    "duration": 26,
    "start_time": "2022-03-06T14:20:45.515Z"
   },
   {
    "duration": 38,
    "start_time": "2022-03-06T14:20:45.543Z"
   },
   {
    "duration": 3,
    "start_time": "2022-03-06T14:20:45.588Z"
   },
   {
    "duration": 8,
    "start_time": "2022-03-06T14:20:45.594Z"
   },
   {
    "duration": 13,
    "start_time": "2022-03-06T14:20:45.604Z"
   },
   {
    "duration": 9,
    "start_time": "2022-03-06T14:20:45.619Z"
   },
   {
    "duration": 21,
    "start_time": "2022-03-06T14:20:45.630Z"
   },
   {
    "duration": 5668,
    "start_time": "2022-03-06T14:20:45.653Z"
   },
   {
    "duration": -855,
    "start_time": "2022-03-06T14:20:52.179Z"
   },
   {
    "duration": -854,
    "start_time": "2022-03-06T14:20:52.181Z"
   },
   {
    "duration": -854,
    "start_time": "2022-03-06T14:20:52.182Z"
   },
   {
    "duration": 14,
    "start_time": "2022-03-06T14:21:08.433Z"
   },
   {
    "duration": 6,
    "start_time": "2022-03-06T14:22:07.393Z"
   },
   {
    "duration": 6,
    "start_time": "2022-03-06T14:22:17.813Z"
   },
   {
    "duration": 831,
    "start_time": "2022-03-06T14:22:43.105Z"
   },
   {
    "duration": 62,
    "start_time": "2022-03-06T14:22:43.938Z"
   },
   {
    "duration": 19,
    "start_time": "2022-03-06T14:22:44.003Z"
   },
   {
    "duration": 17,
    "start_time": "2022-03-06T14:22:44.024Z"
   },
   {
    "duration": 13,
    "start_time": "2022-03-06T14:22:44.044Z"
   },
   {
    "duration": 46,
    "start_time": "2022-03-06T14:22:44.059Z"
   },
   {
    "duration": 22,
    "start_time": "2022-03-06T14:22:44.107Z"
   },
   {
    "duration": 4,
    "start_time": "2022-03-06T14:22:44.134Z"
   },
   {
    "duration": 9,
    "start_time": "2022-03-06T14:22:44.141Z"
   },
   {
    "duration": 42,
    "start_time": "2022-03-06T14:22:44.152Z"
   },
   {
    "duration": 10,
    "start_time": "2022-03-06T14:22:44.197Z"
   },
   {
    "duration": 25,
    "start_time": "2022-03-06T14:22:44.209Z"
   },
   {
    "duration": 5965,
    "start_time": "2022-03-06T14:22:44.237Z"
   },
   {
    "duration": -849,
    "start_time": "2022-03-06T14:22:51.053Z"
   },
   {
    "duration": -849,
    "start_time": "2022-03-06T14:22:51.055Z"
   },
   {
    "duration": -849,
    "start_time": "2022-03-06T14:22:51.056Z"
   },
   {
    "duration": 7,
    "start_time": "2022-03-06T14:24:13.125Z"
   },
   {
    "duration": 808,
    "start_time": "2022-03-06T14:25:29.328Z"
   },
   {
    "duration": 70,
    "start_time": "2022-03-06T14:25:30.139Z"
   },
   {
    "duration": 19,
    "start_time": "2022-03-06T14:25:30.213Z"
   },
   {
    "duration": 29,
    "start_time": "2022-03-06T14:25:30.236Z"
   },
   {
    "duration": 29,
    "start_time": "2022-03-06T14:25:30.267Z"
   },
   {
    "duration": 28,
    "start_time": "2022-03-06T14:25:30.298Z"
   },
   {
    "duration": 28,
    "start_time": "2022-03-06T14:25:30.328Z"
   },
   {
    "duration": 27,
    "start_time": "2022-03-06T14:25:30.358Z"
   },
   {
    "duration": 36,
    "start_time": "2022-03-06T14:25:30.389Z"
   },
   {
    "duration": 21,
    "start_time": "2022-03-06T14:25:30.427Z"
   },
   {
    "duration": 26,
    "start_time": "2022-03-06T14:25:30.450Z"
   },
   {
    "duration": 30,
    "start_time": "2022-03-06T14:25:30.479Z"
   },
   {
    "duration": 5666,
    "start_time": "2022-03-06T14:25:30.511Z"
   },
   {
    "duration": -850,
    "start_time": "2022-03-06T14:25:37.030Z"
   },
   {
    "duration": -850,
    "start_time": "2022-03-06T14:25:37.031Z"
   },
   {
    "duration": -850,
    "start_time": "2022-03-06T14:25:37.032Z"
   },
   {
    "duration": 20,
    "start_time": "2022-03-06T14:30:00.763Z"
   },
   {
    "duration": 829,
    "start_time": "2022-03-06T14:30:07.984Z"
   },
   {
    "duration": 61,
    "start_time": "2022-03-06T14:30:08.816Z"
   },
   {
    "duration": 22,
    "start_time": "2022-03-06T14:30:08.880Z"
   },
   {
    "duration": 15,
    "start_time": "2022-03-06T14:30:08.905Z"
   },
   {
    "duration": 14,
    "start_time": "2022-03-06T14:30:08.922Z"
   },
   {
    "duration": 51,
    "start_time": "2022-03-06T14:30:08.938Z"
   },
   {
    "duration": 13,
    "start_time": "2022-03-06T14:30:08.991Z"
   },
   {
    "duration": 4,
    "start_time": "2022-03-06T14:30:09.009Z"
   },
   {
    "duration": 12,
    "start_time": "2022-03-06T14:30:09.016Z"
   },
   {
    "duration": 17,
    "start_time": "2022-03-06T14:30:09.031Z"
   },
   {
    "duration": 37,
    "start_time": "2022-03-06T14:30:09.051Z"
   },
   {
    "duration": 21,
    "start_time": "2022-03-06T14:30:09.091Z"
   },
   {
    "duration": 5813,
    "start_time": "2022-03-06T14:30:09.115Z"
   },
   {
    "duration": -833,
    "start_time": "2022-03-06T14:30:15.764Z"
   },
   {
    "duration": -834,
    "start_time": "2022-03-06T14:30:15.766Z"
   },
   {
    "duration": -833,
    "start_time": "2022-03-06T14:30:15.767Z"
   },
   {
    "duration": 17,
    "start_time": "2022-03-06T14:31:53.331Z"
   },
   {
    "duration": 12,
    "start_time": "2022-03-06T14:32:24.276Z"
   },
   {
    "duration": 20,
    "start_time": "2022-03-06T14:32:54.267Z"
   },
   {
    "duration": 26,
    "start_time": "2022-03-06T14:33:25.907Z"
   },
   {
    "duration": 20,
    "start_time": "2022-03-06T14:33:34.405Z"
   },
   {
    "duration": 26,
    "start_time": "2022-03-06T14:37:57.702Z"
   },
   {
    "duration": 21,
    "start_time": "2022-03-06T14:39:43.088Z"
   },
   {
    "duration": 241,
    "start_time": "2022-03-06T14:43:27.984Z"
   },
   {
    "duration": 211,
    "start_time": "2022-03-06T14:43:42.958Z"
   },
   {
    "duration": 221,
    "start_time": "2022-03-06T14:45:11.332Z"
   },
   {
    "duration": 220,
    "start_time": "2022-03-06T14:46:14.714Z"
   },
   {
    "duration": 254,
    "start_time": "2022-03-06T14:47:12.890Z"
   },
   {
    "duration": 236,
    "start_time": "2022-03-06T14:47:25.325Z"
   },
   {
    "duration": 24,
    "start_time": "2022-03-06T14:47:39.704Z"
   },
   {
    "duration": 301,
    "start_time": "2022-03-06T14:50:53.565Z"
   },
   {
    "duration": 849,
    "start_time": "2022-03-06T14:51:11.371Z"
   },
   {
    "duration": 72,
    "start_time": "2022-03-06T14:51:12.223Z"
   },
   {
    "duration": 19,
    "start_time": "2022-03-06T14:51:12.299Z"
   },
   {
    "duration": 16,
    "start_time": "2022-03-06T14:51:12.321Z"
   },
   {
    "duration": 53,
    "start_time": "2022-03-06T14:51:12.340Z"
   },
   {
    "duration": 21,
    "start_time": "2022-03-06T14:51:12.397Z"
   },
   {
    "duration": 15,
    "start_time": "2022-03-06T14:51:12.421Z"
   },
   {
    "duration": 3,
    "start_time": "2022-03-06T14:51:12.440Z"
   },
   {
    "duration": 45,
    "start_time": "2022-03-06T14:51:12.446Z"
   },
   {
    "duration": 10,
    "start_time": "2022-03-06T14:51:12.496Z"
   },
   {
    "duration": 94,
    "start_time": "2022-03-06T14:51:12.508Z"
   },
   {
    "duration": 21,
    "start_time": "2022-03-06T14:51:12.604Z"
   },
   {
    "duration": 24,
    "start_time": "2022-03-06T14:51:12.628Z"
   },
   {
    "duration": 35,
    "start_time": "2022-03-06T14:51:12.655Z"
   },
   {
    "duration": 357,
    "start_time": "2022-03-06T14:51:12.693Z"
   },
   {
    "duration": -819,
    "start_time": "2022-03-06T14:51:13.872Z"
   },
   {
    "duration": 26,
    "start_time": "2022-03-06T14:51:20.300Z"
   },
   {
    "duration": 53,
    "start_time": "2022-03-06T14:53:43.076Z"
   },
   {
    "duration": 20,
    "start_time": "2022-03-06T14:53:51.308Z"
   },
   {
    "duration": 30,
    "start_time": "2022-03-06T14:54:17.662Z"
   },
   {
    "duration": 21,
    "start_time": "2022-03-06T14:54:46.443Z"
   },
   {
    "duration": 30,
    "start_time": "2022-03-06T14:55:06.784Z"
   },
   {
    "duration": 809,
    "start_time": "2022-03-06T14:56:16.510Z"
   },
   {
    "duration": 66,
    "start_time": "2022-03-06T14:56:17.322Z"
   },
   {
    "duration": 18,
    "start_time": "2022-03-06T14:56:17.391Z"
   },
   {
    "duration": 18,
    "start_time": "2022-03-06T14:56:17.412Z"
   },
   {
    "duration": 13,
    "start_time": "2022-03-06T14:56:17.433Z"
   },
   {
    "duration": 48,
    "start_time": "2022-03-06T14:56:17.448Z"
   },
   {
    "duration": 13,
    "start_time": "2022-03-06T14:56:17.498Z"
   },
   {
    "duration": 4,
    "start_time": "2022-03-06T14:56:17.514Z"
   },
   {
    "duration": 9,
    "start_time": "2022-03-06T14:56:17.523Z"
   },
   {
    "duration": 6,
    "start_time": "2022-03-06T14:56:17.535Z"
   },
   {
    "duration": 8,
    "start_time": "2022-03-06T14:56:17.588Z"
   },
   {
    "duration": 19,
    "start_time": "2022-03-06T14:56:17.599Z"
   },
   {
    "duration": 20,
    "start_time": "2022-03-06T14:56:17.620Z"
   },
   {
    "duration": 53,
    "start_time": "2022-03-06T14:56:17.642Z"
   },
   {
    "duration": 25,
    "start_time": "2022-03-06T14:56:17.697Z"
   },
   {
    "duration": 32,
    "start_time": "2022-03-06T14:56:17.724Z"
   },
   {
    "duration": 300,
    "start_time": "2022-03-06T15:05:57.030Z"
   },
   {
    "duration": 290,
    "start_time": "2022-03-06T15:06:21.044Z"
   },
   {
    "duration": 309,
    "start_time": "2022-03-06T15:07:01.100Z"
   },
   {
    "duration": 100,
    "start_time": "2022-03-06T15:38:22.047Z"
   },
   {
    "duration": 45,
    "start_time": "2022-03-06T15:38:32.473Z"
   },
   {
    "duration": 21,
    "start_time": "2022-03-06T15:38:38.202Z"
   },
   {
    "duration": 318,
    "start_time": "2022-03-06T15:39:25.195Z"
   },
   {
    "duration": 22,
    "start_time": "2022-03-06T15:39:50.376Z"
   },
   {
    "duration": 44,
    "start_time": "2022-03-06T15:40:07.875Z"
   },
   {
    "duration": 251,
    "start_time": "2022-03-06T15:44:46.670Z"
   },
   {
    "duration": 31,
    "start_time": "2022-03-06T15:44:55.809Z"
   },
   {
    "duration": 30,
    "start_time": "2022-03-06T15:45:11.579Z"
   },
   {
    "duration": 27,
    "start_time": "2022-03-06T15:47:55.892Z"
   },
   {
    "duration": 27,
    "start_time": "2022-03-06T15:48:45.268Z"
   },
   {
    "duration": 3,
    "start_time": "2022-03-06T15:52:16.089Z"
   },
   {
    "duration": 845,
    "start_time": "2022-03-06T15:54:42.461Z"
   },
   {
    "duration": 66,
    "start_time": "2022-03-06T15:54:43.309Z"
   },
   {
    "duration": 17,
    "start_time": "2022-03-06T15:54:43.386Z"
   },
   {
    "duration": 17,
    "start_time": "2022-03-06T15:54:43.406Z"
   },
   {
    "duration": 17,
    "start_time": "2022-03-06T15:54:43.426Z"
   },
   {
    "duration": 53,
    "start_time": "2022-03-06T15:54:43.446Z"
   },
   {
    "duration": 11,
    "start_time": "2022-03-06T15:54:43.501Z"
   },
   {
    "duration": 3,
    "start_time": "2022-03-06T15:54:43.516Z"
   },
   {
    "duration": 11,
    "start_time": "2022-03-06T15:54:43.521Z"
   },
   {
    "duration": 6,
    "start_time": "2022-03-06T15:54:43.535Z"
   },
   {
    "duration": 49,
    "start_time": "2022-03-06T15:54:43.543Z"
   },
   {
    "duration": 13,
    "start_time": "2022-03-06T15:54:43.595Z"
   },
   {
    "duration": 21,
    "start_time": "2022-03-06T15:54:43.610Z"
   },
   {
    "duration": 54,
    "start_time": "2022-03-06T15:54:43.633Z"
   },
   {
    "duration": 29,
    "start_time": "2022-03-06T15:54:43.689Z"
   },
   {
    "duration": 34,
    "start_time": "2022-03-06T15:54:43.720Z"
   },
   {
    "duration": 339,
    "start_time": "2022-03-06T15:54:43.756Z"
   },
   {
    "duration": 3,
    "start_time": "2022-03-06T15:54:44.098Z"
   },
   {
    "duration": 353,
    "start_time": "2022-03-06T15:54:44.103Z"
   },
   {
    "duration": 321,
    "start_time": "2022-03-06T15:55:19.447Z"
   },
   {
    "duration": 7,
    "start_time": "2022-03-06T15:56:14.933Z"
   },
   {
    "duration": 10,
    "start_time": "2022-03-06T15:56:32.381Z"
   },
   {
    "duration": 30,
    "start_time": "2022-03-06T15:56:50.357Z"
   },
   {
    "duration": 23,
    "start_time": "2022-03-06T15:57:54.904Z"
   },
   {
    "duration": 14,
    "start_time": "2022-03-06T15:59:14.940Z"
   },
   {
    "duration": 32,
    "start_time": "2022-03-06T15:59:25.176Z"
   },
   {
    "duration": 74,
    "start_time": "2022-03-06T15:59:54.640Z"
   },
   {
    "duration": 62,
    "start_time": "2022-03-06T16:00:28.022Z"
   },
   {
    "duration": 63,
    "start_time": "2022-03-06T16:00:41.044Z"
   },
   {
    "duration": 22,
    "start_time": "2022-03-06T16:01:07.908Z"
   },
   {
    "duration": 24,
    "start_time": "2022-03-06T16:01:35.578Z"
   },
   {
    "duration": 79,
    "start_time": "2022-03-06T16:02:21.793Z"
   },
   {
    "duration": 140,
    "start_time": "2022-03-06T16:03:21.711Z"
   },
   {
    "duration": 83,
    "start_time": "2022-03-06T16:03:37.484Z"
   },
   {
    "duration": 84,
    "start_time": "2022-03-06T16:03:51.362Z"
   },
   {
    "duration": 100,
    "start_time": "2022-03-06T16:04:29.549Z"
   },
   {
    "duration": 408,
    "start_time": "2022-03-06T16:07:01.424Z"
   },
   {
    "duration": 252,
    "start_time": "2022-03-06T16:07:48.657Z"
   },
   {
    "duration": 257,
    "start_time": "2022-03-06T16:08:15.954Z"
   },
   {
    "duration": 109,
    "start_time": "2022-03-06T16:09:10.690Z"
   },
   {
    "duration": 256,
    "start_time": "2022-03-06T16:10:16.988Z"
   },
   {
    "duration": 1558,
    "start_time": "2022-03-06T16:10:23.300Z"
   },
   {
    "duration": 64,
    "start_time": "2022-03-06T16:10:24.861Z"
   },
   {
    "duration": 17,
    "start_time": "2022-03-06T16:10:24.928Z"
   },
   {
    "duration": 18,
    "start_time": "2022-03-06T16:10:24.948Z"
   },
   {
    "duration": 29,
    "start_time": "2022-03-06T16:10:24.968Z"
   },
   {
    "duration": 18,
    "start_time": "2022-03-06T16:10:25.000Z"
   },
   {
    "duration": 13,
    "start_time": "2022-03-06T16:10:25.020Z"
   },
   {
    "duration": 3,
    "start_time": "2022-03-06T16:10:25.037Z"
   },
   {
    "duration": 45,
    "start_time": "2022-03-06T16:10:25.043Z"
   },
   {
    "duration": 7,
    "start_time": "2022-03-06T16:10:25.091Z"
   },
   {
    "duration": 7,
    "start_time": "2022-03-06T16:10:25.100Z"
   },
   {
    "duration": 15,
    "start_time": "2022-03-06T16:10:25.109Z"
   },
   {
    "duration": 21,
    "start_time": "2022-03-06T16:10:25.126Z"
   },
   {
    "duration": 49,
    "start_time": "2022-03-06T16:10:25.149Z"
   },
   {
    "duration": 26,
    "start_time": "2022-03-06T16:10:25.201Z"
   },
   {
    "duration": 59,
    "start_time": "2022-03-06T16:10:25.230Z"
   },
   {
    "duration": 33,
    "start_time": "2022-03-06T16:10:25.291Z"
   },
   {
    "duration": 338,
    "start_time": "2022-03-06T16:10:25.327Z"
   },
   {
    "duration": 405,
    "start_time": "2022-03-06T16:10:25.668Z"
   },
   {
    "duration": -804,
    "start_time": "2022-03-06T16:10:26.880Z"
   },
   {
    "duration": -807,
    "start_time": "2022-03-06T16:10:26.884Z"
   },
   {
    "duration": -810,
    "start_time": "2022-03-06T16:10:26.889Z"
   },
   {
    "duration": 1498,
    "start_time": "2022-03-06T16:10:43.972Z"
   },
   {
    "duration": 65,
    "start_time": "2022-03-06T16:10:45.472Z"
   },
   {
    "duration": 49,
    "start_time": "2022-03-06T16:10:45.540Z"
   },
   {
    "duration": 16,
    "start_time": "2022-03-06T16:10:45.591Z"
   },
   {
    "duration": 13,
    "start_time": "2022-03-06T16:10:45.610Z"
   },
   {
    "duration": 75,
    "start_time": "2022-03-06T16:10:45.626Z"
   },
   {
    "duration": 17,
    "start_time": "2022-03-06T16:10:45.704Z"
   },
   {
    "duration": 3,
    "start_time": "2022-03-06T16:10:45.724Z"
   },
   {
    "duration": 10,
    "start_time": "2022-03-06T16:10:45.733Z"
   },
   {
    "duration": 8,
    "start_time": "2022-03-06T16:10:45.747Z"
   },
   {
    "duration": 34,
    "start_time": "2022-03-06T16:10:45.757Z"
   },
   {
    "duration": 13,
    "start_time": "2022-03-06T16:10:45.793Z"
   },
   {
    "duration": 18,
    "start_time": "2022-03-06T16:10:45.808Z"
   },
   {
    "duration": 20,
    "start_time": "2022-03-06T16:10:45.829Z"
   },
   {
    "duration": 36,
    "start_time": "2022-03-06T16:10:45.852Z"
   },
   {
    "duration": 33,
    "start_time": "2022-03-06T16:10:45.890Z"
   },
   {
    "duration": 33,
    "start_time": "2022-03-06T16:10:45.926Z"
   },
   {
    "duration": 336,
    "start_time": "2022-03-06T16:10:45.961Z"
   },
   {
    "duration": 468,
    "start_time": "2022-03-06T16:10:46.300Z"
   },
   {
    "duration": -975,
    "start_time": "2022-03-06T16:10:47.745Z"
   },
   {
    "duration": -976,
    "start_time": "2022-03-06T16:10:47.748Z"
   },
   {
    "duration": -980,
    "start_time": "2022-03-06T16:10:47.753Z"
   },
   {
    "duration": 637,
    "start_time": "2022-03-06T16:11:21.417Z"
   },
   {
    "duration": 650,
    "start_time": "2022-03-06T16:12:58.905Z"
   },
   {
    "duration": 266,
    "start_time": "2022-03-06T16:13:34.514Z"
   },
   {
    "duration": 872,
    "start_time": "2022-03-06T16:14:13.937Z"
   },
   {
    "duration": 324,
    "start_time": "2022-03-06T16:16:59.535Z"
   },
   {
    "duration": 274,
    "start_time": "2022-03-06T16:17:45.006Z"
   },
   {
    "duration": 276,
    "start_time": "2022-03-06T16:20:18.401Z"
   },
   {
    "duration": 254,
    "start_time": "2022-03-06T16:21:20.392Z"
   },
   {
    "duration": 252,
    "start_time": "2022-03-06T16:22:03.096Z"
   },
   {
    "duration": 283,
    "start_time": "2022-03-06T16:22:57.402Z"
   },
   {
    "duration": 411,
    "start_time": "2022-03-06T16:23:55.014Z"
   },
   {
    "duration": 87,
    "start_time": "2022-03-06T16:30:06.709Z"
   },
   {
    "duration": 77,
    "start_time": "2022-03-06T16:31:11.700Z"
   },
   {
    "duration": 70,
    "start_time": "2022-03-06T16:31:27.151Z"
   },
   {
    "duration": 75,
    "start_time": "2022-03-06T16:31:39.851Z"
   },
   {
    "duration": 53,
    "start_time": "2022-03-06T16:31:46.775Z"
   },
   {
    "duration": 564,
    "start_time": "2022-03-06T16:32:55.941Z"
   },
   {
    "duration": 397,
    "start_time": "2022-03-06T16:33:16.113Z"
   },
   {
    "duration": 285,
    "start_time": "2022-03-06T16:34:50.061Z"
   },
   {
    "duration": 383,
    "start_time": "2022-03-06T16:35:55.222Z"
   },
   {
    "duration": 409,
    "start_time": "2022-03-06T16:36:27.157Z"
   },
   {
    "duration": 248,
    "start_time": "2022-03-06T16:37:00.493Z"
   },
   {
    "duration": 378,
    "start_time": "2022-03-06T16:37:06.304Z"
   },
   {
    "duration": 231,
    "start_time": "2022-03-06T16:37:20.287Z"
   },
   {
    "duration": 255,
    "start_time": "2022-03-06T16:37:57.744Z"
   },
   {
    "duration": 272,
    "start_time": "2022-03-06T16:38:20.243Z"
   },
   {
    "duration": 257,
    "start_time": "2022-03-06T16:38:28.428Z"
   },
   {
    "duration": 378,
    "start_time": "2022-03-06T16:38:40.117Z"
   },
   {
    "duration": 427,
    "start_time": "2022-03-06T16:39:08.723Z"
   },
   {
    "duration": 416,
    "start_time": "2022-03-06T16:40:45.605Z"
   },
   {
    "duration": 374,
    "start_time": "2022-03-06T16:45:25.448Z"
   },
   {
    "duration": 85,
    "start_time": "2022-03-06T16:46:38.207Z"
   },
   {
    "duration": 242,
    "start_time": "2022-03-06T16:46:47.371Z"
   },
   {
    "duration": 393,
    "start_time": "2022-03-06T16:47:07.045Z"
   },
   {
    "duration": 136,
    "start_time": "2022-03-06T16:48:12.319Z"
   },
   {
    "duration": 23,
    "start_time": "2022-03-06T16:50:08.247Z"
   },
   {
    "duration": 19,
    "start_time": "2022-03-06T16:50:55.302Z"
   },
   {
    "duration": 224,
    "start_time": "2022-03-06T16:51:14.939Z"
   },
   {
    "duration": 256,
    "start_time": "2022-03-06T16:51:35.317Z"
   },
   {
    "duration": 3,
    "start_time": "2022-03-06T16:52:28.888Z"
   },
   {
    "duration": 5908,
    "start_time": "2022-03-06T16:52:42.704Z"
   },
   {
    "duration": 432,
    "start_time": "2022-03-06T16:53:16.345Z"
   },
   {
    "duration": 6643,
    "start_time": "2022-03-06T16:53:23.855Z"
   },
   {
    "duration": 21,
    "start_time": "2022-03-06T16:58:36.676Z"
   },
   {
    "duration": 34,
    "start_time": "2022-03-06T16:58:45.710Z"
   },
   {
    "duration": 27,
    "start_time": "2022-03-06T17:00:37.358Z"
   },
   {
    "duration": 9,
    "start_time": "2022-03-06T17:00:48.632Z"
   },
   {
    "duration": 31,
    "start_time": "2022-03-06T17:01:05.687Z"
   },
   {
    "duration": 24,
    "start_time": "2022-03-06T17:01:58.986Z"
   },
   {
    "duration": 263,
    "start_time": "2022-03-06T17:02:08.921Z"
   },
   {
    "duration": 31,
    "start_time": "2022-03-06T17:02:14.633Z"
   },
   {
    "duration": 27,
    "start_time": "2022-03-06T17:02:30.930Z"
   },
   {
    "duration": 22,
    "start_time": "2022-03-06T17:02:53.313Z"
   },
   {
    "duration": 20,
    "start_time": "2022-03-06T17:03:20.143Z"
   },
   {
    "duration": 28,
    "start_time": "2022-03-06T17:03:25.209Z"
   },
   {
    "duration": 88,
    "start_time": "2022-03-06T17:03:46.280Z"
   },
   {
    "duration": 74,
    "start_time": "2022-03-06T17:05:06.459Z"
   },
   {
    "duration": 242,
    "start_time": "2022-03-06T17:05:12.991Z"
   },
   {
    "duration": 6,
    "start_time": "2022-03-06T17:06:05.871Z"
   },
   {
    "duration": 241,
    "start_time": "2022-03-06T17:06:30.839Z"
   },
   {
    "duration": 16,
    "start_time": "2022-03-06T17:07:35.481Z"
   },
   {
    "duration": 14,
    "start_time": "2022-03-06T17:08:01.723Z"
   },
   {
    "duration": 28,
    "start_time": "2022-03-06T17:08:33.210Z"
   },
   {
    "duration": 220,
    "start_time": "2022-03-06T17:26:07.229Z"
   },
   {
    "duration": 83,
    "start_time": "2022-03-06T17:28:05.436Z"
   },
   {
    "duration": 44,
    "start_time": "2022-03-06T17:28:39.784Z"
   },
   {
    "duration": 51,
    "start_time": "2022-03-06T17:29:32.514Z"
   },
   {
    "duration": 40,
    "start_time": "2022-03-06T17:30:04.032Z"
   },
   {
    "duration": 4,
    "start_time": "2022-03-06T17:32:09.441Z"
   },
   {
    "duration": 11,
    "start_time": "2022-03-06T17:32:18.402Z"
   },
   {
    "duration": 113,
    "start_time": "2022-03-06T17:35:05.276Z"
   },
   {
    "duration": 84,
    "start_time": "2022-03-06T17:35:21.367Z"
   },
   {
    "duration": 93,
    "start_time": "2022-03-06T17:35:32.570Z"
   },
   {
    "duration": 99,
    "start_time": "2022-03-06T17:36:34.991Z"
   },
   {
    "duration": 91,
    "start_time": "2022-03-06T17:36:58.802Z"
   },
   {
    "duration": 325,
    "start_time": "2022-03-06T17:37:33.005Z"
   },
   {
    "duration": 93,
    "start_time": "2022-03-06T17:38:00.207Z"
   },
   {
    "duration": 90,
    "start_time": "2022-03-06T17:45:15.724Z"
   },
   {
    "duration": 1133,
    "start_time": "2022-03-07T08:53:33.009Z"
   },
   {
    "duration": 59,
    "start_time": "2022-03-07T08:53:34.144Z"
   },
   {
    "duration": 12,
    "start_time": "2022-03-07T08:53:34.205Z"
   },
   {
    "duration": 19,
    "start_time": "2022-03-07T08:53:34.219Z"
   },
   {
    "duration": 18,
    "start_time": "2022-03-07T08:53:34.240Z"
   },
   {
    "duration": 20,
    "start_time": "2022-03-07T08:53:34.260Z"
   },
   {
    "duration": 13,
    "start_time": "2022-03-07T08:53:34.282Z"
   },
   {
    "duration": 10,
    "start_time": "2022-03-07T08:53:34.297Z"
   },
   {
    "duration": 15,
    "start_time": "2022-03-07T08:53:34.310Z"
   },
   {
    "duration": 17,
    "start_time": "2022-03-07T08:53:34.327Z"
   },
   {
    "duration": 21,
    "start_time": "2022-03-07T08:53:34.346Z"
   },
   {
    "duration": 21,
    "start_time": "2022-03-07T08:53:34.369Z"
   },
   {
    "duration": 17,
    "start_time": "2022-03-07T08:53:34.392Z"
   },
   {
    "duration": 15,
    "start_time": "2022-03-07T08:53:34.411Z"
   },
   {
    "duration": 15,
    "start_time": "2022-03-07T08:53:34.428Z"
   },
   {
    "duration": 40,
    "start_time": "2022-03-07T08:53:34.445Z"
   },
   {
    "duration": 21,
    "start_time": "2022-03-07T08:53:34.487Z"
   },
   {
    "duration": 238,
    "start_time": "2022-03-07T08:53:34.509Z"
   },
   {
    "duration": 547,
    "start_time": "2022-03-07T08:53:34.749Z"
   },
   {
    "duration": 23,
    "start_time": "2022-03-07T08:53:35.298Z"
   },
   {
    "duration": 19,
    "start_time": "2022-03-07T08:53:35.323Z"
   },
   {
    "duration": 423,
    "start_time": "2022-03-07T08:53:35.343Z"
   },
   {
    "duration": -46,
    "start_time": "2022-03-07T08:53:35.814Z"
   },
   {
    "duration": -46,
    "start_time": "2022-03-07T08:53:35.816Z"
   },
   {
    "duration": -52,
    "start_time": "2022-03-07T08:53:35.823Z"
   },
   {
    "duration": 57,
    "start_time": "2022-03-07T08:54:32.088Z"
   },
   {
    "duration": 97,
    "start_time": "2022-03-07T09:01:42.907Z"
   },
   {
    "duration": 55,
    "start_time": "2022-03-07T09:01:52.178Z"
   },
   {
    "duration": 57,
    "start_time": "2022-03-07T09:02:26.937Z"
   },
   {
    "duration": 57,
    "start_time": "2022-03-07T09:04:01.160Z"
   },
   {
    "duration": 48,
    "start_time": "2022-03-07T09:05:47.082Z"
   },
   {
    "duration": 59,
    "start_time": "2022-03-07T09:05:55.844Z"
   },
   {
    "duration": 59,
    "start_time": "2022-03-07T09:06:10.956Z"
   },
   {
    "duration": 47,
    "start_time": "2022-03-07T09:06:42.393Z"
   },
   {
    "duration": 56,
    "start_time": "2022-03-07T09:06:55.701Z"
   },
   {
    "duration": 50,
    "start_time": "2022-03-07T09:07:37.806Z"
   },
   {
    "duration": 60,
    "start_time": "2022-03-07T09:07:47.709Z"
   },
   {
    "duration": 5281,
    "start_time": "2022-03-07T09:07:57.080Z"
   },
   {
    "duration": 53,
    "start_time": "2022-03-07T09:09:07.813Z"
   },
   {
    "duration": 233,
    "start_time": "2022-03-07T09:09:18.680Z"
   },
   {
    "duration": 220,
    "start_time": "2022-03-07T09:10:50.784Z"
   },
   {
    "duration": 61,
    "start_time": "2022-03-07T09:15:41.152Z"
   },
   {
    "duration": 5095,
    "start_time": "2022-03-07T09:15:46.250Z"
   },
   {
    "duration": 85,
    "start_time": "2022-03-07T09:21:47.043Z"
   },
   {
    "duration": 91,
    "start_time": "2022-03-07T09:22:21.713Z"
   },
   {
    "duration": 84,
    "start_time": "2022-03-07T09:22:41.498Z"
   },
   {
    "duration": 88,
    "start_time": "2022-03-07T09:22:56.834Z"
   },
   {
    "duration": 273,
    "start_time": "2022-03-07T09:23:17.626Z"
   },
   {
    "duration": 6391,
    "start_time": "2022-03-07T09:23:34.371Z"
   },
   {
    "duration": 6538,
    "start_time": "2022-03-07T09:24:15.021Z"
   },
   {
    "duration": 18853,
    "start_time": "2022-03-07T09:25:53.325Z"
   },
   {
    "duration": 312,
    "start_time": "2022-03-07T09:26:41.760Z"
   },
   {
    "duration": 325,
    "start_time": "2022-03-07T09:27:03.117Z"
   },
   {
    "duration": 60,
    "start_time": "2022-03-07T09:27:59.193Z"
   },
   {
    "duration": 4931,
    "start_time": "2022-03-07T09:29:46.318Z"
   },
   {
    "duration": 4916,
    "start_time": "2022-03-07T09:30:10.718Z"
   },
   {
    "duration": 5105,
    "start_time": "2022-03-07T09:30:26.348Z"
   },
   {
    "duration": 4926,
    "start_time": "2022-03-07T09:30:46.319Z"
   },
   {
    "duration": 49,
    "start_time": "2022-03-07T09:33:12.489Z"
   },
   {
    "duration": 54,
    "start_time": "2022-03-07T09:34:33.953Z"
   },
   {
    "duration": 54,
    "start_time": "2022-03-07T09:34:49.124Z"
   },
   {
    "duration": 53,
    "start_time": "2022-03-07T09:35:06.684Z"
   },
   {
    "duration": 275,
    "start_time": "2022-03-07T09:36:55.175Z"
   },
   {
    "duration": 199,
    "start_time": "2022-03-07T09:37:31.486Z"
   },
   {
    "duration": 256,
    "start_time": "2022-03-07T09:38:02.326Z"
   },
   {
    "duration": 302,
    "start_time": "2022-03-07T09:41:17.417Z"
   },
   {
    "duration": 402,
    "start_time": "2022-03-07T09:41:40.556Z"
   },
   {
    "duration": 299,
    "start_time": "2022-03-07T09:41:58.855Z"
   },
   {
    "duration": 219,
    "start_time": "2022-03-07T09:42:07.911Z"
   },
   {
    "duration": 368,
    "start_time": "2022-03-07T09:42:33.409Z"
   },
   {
    "duration": 270,
    "start_time": "2022-03-07T09:51:06.387Z"
   },
   {
    "duration": 352,
    "start_time": "2022-03-07T09:52:29.904Z"
   },
   {
    "duration": 370,
    "start_time": "2022-03-07T09:52:57.439Z"
   },
   {
    "duration": 926,
    "start_time": "2022-03-07T09:53:13.740Z"
   },
   {
    "duration": 419,
    "start_time": "2022-03-07T09:53:33.474Z"
   },
   {
    "duration": 374,
    "start_time": "2022-03-07T09:53:38.544Z"
   },
   {
    "duration": 378,
    "start_time": "2022-03-07T09:53:51.023Z"
   },
   {
    "duration": 250,
    "start_time": "2022-03-07T09:54:37.853Z"
   },
   {
    "duration": 377,
    "start_time": "2022-03-07T09:54:43.734Z"
   },
   {
    "duration": 268,
    "start_time": "2022-03-07T09:55:13.717Z"
   },
   {
    "duration": 267,
    "start_time": "2022-03-07T09:55:26.660Z"
   },
   {
    "duration": 383,
    "start_time": "2022-03-07T09:56:10.790Z"
   },
   {
    "duration": 131,
    "start_time": "2022-03-07T09:56:29.319Z"
   },
   {
    "duration": 58,
    "start_time": "2022-03-07T09:56:36.077Z"
   },
   {
    "duration": 441,
    "start_time": "2022-03-07T09:56:38.965Z"
   },
   {
    "duration": 386,
    "start_time": "2022-03-07T09:56:51.216Z"
   },
   {
    "duration": 13,
    "start_time": "2022-03-07T09:59:48.810Z"
   },
   {
    "duration": 21,
    "start_time": "2022-03-07T09:59:57.025Z"
   },
   {
    "duration": 14,
    "start_time": "2022-03-07T10:00:19.275Z"
   },
   {
    "duration": 262,
    "start_time": "2022-03-07T10:00:45.900Z"
   },
   {
    "duration": 16,
    "start_time": "2022-03-07T10:00:55.246Z"
   },
   {
    "duration": 16,
    "start_time": "2022-03-07T10:01:14.754Z"
   },
   {
    "duration": 16,
    "start_time": "2022-03-07T10:02:09.620Z"
   },
   {
    "duration": 8,
    "start_time": "2022-03-07T10:02:09.733Z"
   },
   {
    "duration": 14,
    "start_time": "2022-03-07T10:02:54.400Z"
   },
   {
    "duration": 266,
    "start_time": "2022-03-07T10:09:54.140Z"
   },
   {
    "duration": 16,
    "start_time": "2022-03-07T10:10:02.587Z"
   },
   {
    "duration": 92,
    "start_time": "2022-03-07T10:12:18.517Z"
   },
   {
    "duration": 6,
    "start_time": "2022-03-07T10:12:24.519Z"
   },
   {
    "duration": 1261,
    "start_time": "2022-03-07T10:18:28.468Z"
   },
   {
    "duration": 1295,
    "start_time": "2022-03-07T10:18:46.684Z"
   },
   {
    "duration": 1012,
    "start_time": "2022-03-07T10:21:58.047Z"
   },
   {
    "duration": 207,
    "start_time": "2022-03-07T10:23:24.568Z"
   },
   {
    "duration": 481,
    "start_time": "2022-03-07T10:23:58.081Z"
   },
   {
    "duration": 196,
    "start_time": "2022-03-07T10:24:08.605Z"
   },
   {
    "duration": 273,
    "start_time": "2022-03-07T10:24:24.065Z"
   },
   {
    "duration": 61,
    "start_time": "2022-03-07T10:26:21.134Z"
   },
   {
    "duration": 62,
    "start_time": "2022-03-07T10:26:38.602Z"
   },
   {
    "duration": 296,
    "start_time": "2022-03-07T10:29:11.615Z"
   },
   {
    "duration": 226,
    "start_time": "2022-03-07T10:29:40.426Z"
   },
   {
    "duration": 268,
    "start_time": "2022-03-07T10:30:42.409Z"
   },
   {
    "duration": 226,
    "start_time": "2022-03-07T10:30:55.379Z"
   },
   {
    "duration": 281,
    "start_time": "2022-03-07T10:31:43.698Z"
   },
   {
    "duration": 86,
    "start_time": "2022-03-07T10:31:57.306Z"
   },
   {
    "duration": 366,
    "start_time": "2022-03-07T10:32:07.789Z"
   },
   {
    "duration": 224,
    "start_time": "2022-03-07T10:32:16.581Z"
   },
   {
    "duration": 229,
    "start_time": "2022-03-07T10:32:28.504Z"
   },
   {
    "duration": 230,
    "start_time": "2022-03-07T10:32:42.398Z"
   },
   {
    "duration": 21,
    "start_time": "2022-03-07T10:46:05.060Z"
   },
   {
    "duration": 7,
    "start_time": "2022-03-07T10:46:54.885Z"
   },
   {
    "duration": 6,
    "start_time": "2022-03-07T10:49:47.568Z"
   },
   {
    "duration": 7,
    "start_time": "2022-03-07T10:50:33.825Z"
   },
   {
    "duration": 5,
    "start_time": "2022-03-07T10:51:39.594Z"
   },
   {
    "duration": 6,
    "start_time": "2022-03-07T10:51:51.646Z"
   },
   {
    "duration": 84,
    "start_time": "2022-03-07T10:57:13.631Z"
   },
   {
    "duration": 270,
    "start_time": "2022-03-07T10:57:32.135Z"
   },
   {
    "duration": 24,
    "start_time": "2022-03-07T10:57:38.542Z"
   },
   {
    "duration": 8,
    "start_time": "2022-03-07T10:58:26.760Z"
   },
   {
    "duration": 283,
    "start_time": "2022-03-07T10:58:42.813Z"
   },
   {
    "duration": 277,
    "start_time": "2022-03-07T10:59:01.177Z"
   },
   {
    "duration": 8,
    "start_time": "2022-03-07T10:59:06.271Z"
   },
   {
    "duration": 260,
    "start_time": "2022-03-07T10:59:12.030Z"
   },
   {
    "duration": 8,
    "start_time": "2022-03-07T10:59:17.390Z"
   },
   {
    "duration": 88,
    "start_time": "2022-03-07T11:00:51.971Z"
   },
   {
    "duration": 91,
    "start_time": "2022-03-07T11:01:01.591Z"
   },
   {
    "duration": 5,
    "start_time": "2022-03-07T11:01:10.031Z"
   },
   {
    "duration": 8,
    "start_time": "2022-03-07T11:01:36.487Z"
   },
   {
    "duration": 8,
    "start_time": "2022-03-07T11:02:15.257Z"
   },
   {
    "duration": 8,
    "start_time": "2022-03-07T11:02:47.112Z"
   },
   {
    "duration": 6,
    "start_time": "2022-03-07T11:04:14.568Z"
   },
   {
    "duration": 60,
    "start_time": "2022-03-07T11:04:49.437Z"
   },
   {
    "duration": 63,
    "start_time": "2022-03-07T11:06:23.674Z"
   },
   {
    "duration": 56,
    "start_time": "2022-03-07T11:06:39.691Z"
   },
   {
    "duration": 58,
    "start_time": "2022-03-07T11:06:53.602Z"
   },
   {
    "duration": 52,
    "start_time": "2022-03-07T11:07:00.323Z"
   },
   {
    "duration": 51,
    "start_time": "2022-03-07T11:07:58.590Z"
   },
   {
    "duration": 52,
    "start_time": "2022-03-07T11:08:21.882Z"
   },
   {
    "duration": 55,
    "start_time": "2022-03-07T11:08:34.325Z"
   },
   {
    "duration": 49,
    "start_time": "2022-03-07T11:08:48.383Z"
   },
   {
    "duration": 58,
    "start_time": "2022-03-07T11:08:59.214Z"
   },
   {
    "duration": 57,
    "start_time": "2022-03-07T11:10:00.801Z"
   },
   {
    "duration": 54,
    "start_time": "2022-03-07T11:11:19.932Z"
   },
   {
    "duration": 6475,
    "start_time": "2022-03-07T11:12:08.997Z"
   },
   {
    "duration": 6412,
    "start_time": "2022-03-07T11:12:44.131Z"
   },
   {
    "duration": 53,
    "start_time": "2022-03-07T11:13:49.496Z"
   },
   {
    "duration": 89,
    "start_time": "2022-03-07T11:15:23.361Z"
   },
   {
    "duration": 54,
    "start_time": "2022-03-07T11:15:30.377Z"
   },
   {
    "duration": 53,
    "start_time": "2022-03-07T11:15:59.547Z"
   },
   {
    "duration": 334,
    "start_time": "2022-03-07T11:17:39.492Z"
   },
   {
    "duration": 142,
    "start_time": "2022-03-07T11:17:57.930Z"
   },
   {
    "duration": 52,
    "start_time": "2022-03-07T11:20:55.402Z"
   },
   {
    "duration": 307,
    "start_time": "2022-03-07T11:21:24.141Z"
   },
   {
    "duration": 54,
    "start_time": "2022-03-07T11:21:31.336Z"
   },
   {
    "duration": 143,
    "start_time": "2022-03-07T11:24:48.991Z"
   },
   {
    "duration": 133,
    "start_time": "2022-03-07T11:25:19.970Z"
   },
   {
    "duration": 130,
    "start_time": "2022-03-07T11:26:16.019Z"
   },
   {
    "duration": 51,
    "start_time": "2022-03-07T11:28:13.718Z"
   },
   {
    "duration": 8,
    "start_time": "2022-03-07T11:29:25.204Z"
   },
   {
    "duration": 7,
    "start_time": "2022-03-07T11:29:45.653Z"
   },
   {
    "duration": 5,
    "start_time": "2022-03-07T11:29:57.709Z"
   },
   {
    "duration": 5,
    "start_time": "2022-03-07T11:30:06.054Z"
   },
   {
    "duration": 6484,
    "start_time": "2022-03-07T11:30:53.399Z"
   },
   {
    "duration": 6506,
    "start_time": "2022-03-07T11:31:24.031Z"
   },
   {
    "duration": 97,
    "start_time": "2022-03-07T11:31:43.848Z"
   },
   {
    "duration": 82,
    "start_time": "2022-03-07T11:31:52.622Z"
   },
   {
    "duration": 313,
    "start_time": "2022-03-07T11:32:03.848Z"
   },
   {
    "duration": 307,
    "start_time": "2022-03-07T11:32:35.928Z"
   },
   {
    "duration": 49,
    "start_time": "2022-03-07T11:32:42.361Z"
   },
   {
    "duration": 53,
    "start_time": "2022-03-07T11:33:07.425Z"
   },
   {
    "duration": 52,
    "start_time": "2022-03-07T11:33:31.298Z"
   },
   {
    "duration": 52,
    "start_time": "2022-03-07T11:33:53.204Z"
   },
   {
    "duration": 52,
    "start_time": "2022-03-07T11:34:20.352Z"
   },
   {
    "duration": 50,
    "start_time": "2022-03-07T11:34:59.858Z"
   },
   {
    "duration": 62,
    "start_time": "2022-03-07T11:35:28.154Z"
   },
   {
    "duration": 53,
    "start_time": "2022-03-07T11:36:12.572Z"
   },
   {
    "duration": 61,
    "start_time": "2022-03-07T11:36:41.913Z"
   },
   {
    "duration": 60,
    "start_time": "2022-03-07T11:37:02.357Z"
   },
   {
    "duration": 68,
    "start_time": "2022-03-07T11:37:18.147Z"
   },
   {
    "duration": 6506,
    "start_time": "2022-03-07T11:55:10.711Z"
   },
   {
    "duration": 69,
    "start_time": "2022-03-07T11:56:19.777Z"
   },
   {
    "duration": 1147,
    "start_time": "2022-03-07T11:56:47.313Z"
   },
   {
    "duration": 53,
    "start_time": "2022-03-07T11:56:48.464Z"
   },
   {
    "duration": 13,
    "start_time": "2022-03-07T11:56:48.519Z"
   },
   {
    "duration": 13,
    "start_time": "2022-03-07T11:56:48.534Z"
   },
   {
    "duration": 29,
    "start_time": "2022-03-07T11:56:48.549Z"
   },
   {
    "duration": 14,
    "start_time": "2022-03-07T11:56:48.579Z"
   },
   {
    "duration": 11,
    "start_time": "2022-03-07T11:56:48.595Z"
   },
   {
    "duration": 2,
    "start_time": "2022-03-07T11:56:48.609Z"
   },
   {
    "duration": 8,
    "start_time": "2022-03-07T11:56:48.613Z"
   },
   {
    "duration": 5,
    "start_time": "2022-03-07T11:56:48.623Z"
   },
   {
    "duration": 50,
    "start_time": "2022-03-07T11:56:48.629Z"
   },
   {
    "duration": 10,
    "start_time": "2022-03-07T11:56:48.680Z"
   },
   {
    "duration": 16,
    "start_time": "2022-03-07T11:56:48.691Z"
   },
   {
    "duration": 17,
    "start_time": "2022-03-07T11:56:48.709Z"
   },
   {
    "duration": 50,
    "start_time": "2022-03-07T11:56:48.728Z"
   },
   {
    "duration": 24,
    "start_time": "2022-03-07T11:56:48.780Z"
   },
   {
    "duration": 22,
    "start_time": "2022-03-07T11:56:48.806Z"
   },
   {
    "duration": 253,
    "start_time": "2022-03-07T11:56:48.829Z"
   },
   {
    "duration": 559,
    "start_time": "2022-03-07T11:56:49.084Z"
   },
   {
    "duration": 8,
    "start_time": "2022-03-07T11:56:49.645Z"
   },
   {
    "duration": 44,
    "start_time": "2022-03-07T11:56:49.654Z"
   },
   {
    "duration": 59,
    "start_time": "2022-03-07T11:56:49.700Z"
   },
   {
    "duration": 409,
    "start_time": "2022-03-07T11:56:49.761Z"
   },
   {
    "duration": 106,
    "start_time": "2022-03-07T11:56:50.177Z"
   },
   {
    "duration": 16,
    "start_time": "2022-03-07T11:56:50.285Z"
   },
   {
    "duration": 309,
    "start_time": "2022-03-07T11:56:50.305Z"
   },
   {
    "duration": 179,
    "start_time": "2022-03-07T11:57:19.635Z"
   },
   {
    "duration": 69,
    "start_time": "2022-03-07T11:57:33.479Z"
   },
   {
    "duration": 95,
    "start_time": "2022-03-07T11:57:49.458Z"
   },
   {
    "duration": 68,
    "start_time": "2022-03-07T11:57:59.836Z"
   },
   {
    "duration": 9,
    "start_time": "2022-03-07T11:58:23.772Z"
   },
   {
    "duration": 58,
    "start_time": "2022-03-07T11:59:01.651Z"
   },
   {
    "duration": 49,
    "start_time": "2022-03-07T11:59:56.826Z"
   },
   {
    "duration": 53,
    "start_time": "2022-03-07T12:00:07.394Z"
   },
   {
    "duration": 52,
    "start_time": "2022-03-07T12:00:34.499Z"
   },
   {
    "duration": 52,
    "start_time": "2022-03-07T12:00:48.934Z"
   },
   {
    "duration": 56,
    "start_time": "2022-03-07T12:00:55.179Z"
   },
   {
    "duration": 69,
    "start_time": "2022-03-07T12:01:02.009Z"
   },
   {
    "duration": 102,
    "start_time": "2022-03-07T12:01:20.076Z"
   },
   {
    "duration": 86,
    "start_time": "2022-03-07T12:01:59.693Z"
   },
   {
    "duration": 92,
    "start_time": "2022-03-07T12:02:52.052Z"
   },
   {
    "duration": 87,
    "start_time": "2022-03-07T12:04:25.558Z"
   },
   {
    "duration": 65,
    "start_time": "2022-03-07T12:05:44.080Z"
   },
   {
    "duration": 89,
    "start_time": "2022-03-07T12:07:00.641Z"
   },
   {
    "duration": 92,
    "start_time": "2022-03-07T12:07:40.000Z"
   },
   {
    "duration": 91,
    "start_time": "2022-03-07T12:07:54.705Z"
   },
   {
    "duration": 54,
    "start_time": "2022-03-07T12:08:46.504Z"
   },
   {
    "duration": 72,
    "start_time": "2022-03-07T12:11:43.524Z"
   },
   {
    "duration": 53,
    "start_time": "2022-03-07T12:12:18.421Z"
   },
   {
    "duration": 54,
    "start_time": "2022-03-07T12:12:34.129Z"
   },
   {
    "duration": 51,
    "start_time": "2022-03-07T12:12:48.651Z"
   },
   {
    "duration": 68,
    "start_time": "2022-03-07T12:13:08.244Z"
   },
   {
    "duration": 96,
    "start_time": "2022-03-07T12:13:58.381Z"
   },
   {
    "duration": 70,
    "start_time": "2022-03-07T12:14:21.381Z"
   },
   {
    "duration": 77,
    "start_time": "2022-03-07T12:14:32.516Z"
   },
   {
    "duration": 69,
    "start_time": "2022-03-07T12:14:42.450Z"
   },
   {
    "duration": 52,
    "start_time": "2022-03-07T12:14:53.046Z"
   },
   {
    "duration": 55,
    "start_time": "2022-03-07T12:15:06.226Z"
   },
   {
    "duration": 51,
    "start_time": "2022-03-07T12:15:28.220Z"
   },
   {
    "duration": 53,
    "start_time": "2022-03-07T12:15:44.459Z"
   },
   {
    "duration": 52,
    "start_time": "2022-03-07T12:15:54.051Z"
   },
   {
    "duration": 476,
    "start_time": "2022-03-07T12:16:24.753Z"
   },
   {
    "duration": 54,
    "start_time": "2022-03-07T12:16:51.369Z"
   },
   {
    "duration": 53,
    "start_time": "2022-03-07T12:17:16.866Z"
   },
   {
    "duration": 55,
    "start_time": "2022-03-07T12:17:25.308Z"
   },
   {
    "duration": 311,
    "start_time": "2022-03-07T12:17:36.548Z"
   },
   {
    "duration": 55,
    "start_time": "2022-03-07T12:17:54.299Z"
   },
   {
    "duration": 66,
    "start_time": "2022-03-07T12:18:11.916Z"
   },
   {
    "duration": 96,
    "start_time": "2022-03-07T12:18:53.897Z"
   },
   {
    "duration": 2,
    "start_time": "2022-03-07T12:26:26.521Z"
   },
   {
    "duration": 7,
    "start_time": "2022-03-07T12:27:49.645Z"
   },
   {
    "duration": 93,
    "start_time": "2022-03-07T12:28:10.922Z"
   },
   {
    "duration": 94,
    "start_time": "2022-03-07T12:29:46.488Z"
   },
   {
    "duration": 92,
    "start_time": "2022-03-07T12:29:58.988Z"
   },
   {
    "duration": 220,
    "start_time": "2022-03-07T12:39:21.804Z"
   },
   {
    "duration": 91,
    "start_time": "2022-03-07T12:42:20.629Z"
   },
   {
    "duration": 14,
    "start_time": "2022-03-07T13:21:35.959Z"
   },
   {
    "duration": 21,
    "start_time": "2022-03-07T13:21:45.238Z"
   },
   {
    "duration": 23,
    "start_time": "2022-03-07T13:23:47.018Z"
   },
   {
    "duration": 23,
    "start_time": "2022-03-07T13:25:45.924Z"
   },
   {
    "duration": 25,
    "start_time": "2022-03-07T13:26:04.851Z"
   },
   {
    "duration": 152,
    "start_time": "2022-03-07T13:26:36.725Z"
   },
   {
    "duration": 4521,
    "start_time": "2022-03-07T13:26:44.029Z"
   },
   {
    "duration": 82,
    "start_time": "2022-03-07T13:27:57.345Z"
   },
   {
    "duration": 285,
    "start_time": "2022-03-07T13:28:29.506Z"
   },
   {
    "duration": 294,
    "start_time": "2022-03-07T13:29:28.939Z"
   },
   {
    "duration": 285,
    "start_time": "2022-03-07T13:29:46.564Z"
   },
   {
    "duration": 28,
    "start_time": "2022-03-07T13:29:56.413Z"
   },
   {
    "duration": 26,
    "start_time": "2022-03-07T13:30:06.105Z"
   },
   {
    "duration": 281,
    "start_time": "2022-03-07T13:31:43.689Z"
   },
   {
    "duration": 182,
    "start_time": "2022-03-07T13:33:35.391Z"
   },
   {
    "duration": 2,
    "start_time": "2022-03-07T13:33:52.783Z"
   },
   {
    "duration": 286,
    "start_time": "2022-03-07T13:34:17.092Z"
   },
   {
    "duration": 273,
    "start_time": "2022-03-07T13:34:36.480Z"
   },
   {
    "duration": 303,
    "start_time": "2022-03-07T13:35:20.006Z"
   },
   {
    "duration": 1247,
    "start_time": "2022-03-07T13:35:40.704Z"
   },
   {
    "duration": 55,
    "start_time": "2022-03-07T13:35:41.954Z"
   },
   {
    "duration": 15,
    "start_time": "2022-03-07T13:35:42.011Z"
   },
   {
    "duration": 18,
    "start_time": "2022-03-07T13:35:42.028Z"
   },
   {
    "duration": 11,
    "start_time": "2022-03-07T13:35:42.048Z"
   },
   {
    "duration": 27,
    "start_time": "2022-03-07T13:35:42.061Z"
   },
   {
    "duration": 11,
    "start_time": "2022-03-07T13:35:42.090Z"
   },
   {
    "duration": 3,
    "start_time": "2022-03-07T13:35:42.103Z"
   },
   {
    "duration": 7,
    "start_time": "2022-03-07T13:35:42.109Z"
   },
   {
    "duration": 8,
    "start_time": "2022-03-07T13:35:42.118Z"
   },
   {
    "duration": 8,
    "start_time": "2022-03-07T13:35:42.127Z"
   },
   {
    "duration": 11,
    "start_time": "2022-03-07T13:35:42.137Z"
   },
   {
    "duration": 15,
    "start_time": "2022-03-07T13:35:42.177Z"
   },
   {
    "duration": 15,
    "start_time": "2022-03-07T13:35:42.193Z"
   },
   {
    "duration": 17,
    "start_time": "2022-03-07T13:35:42.210Z"
   },
   {
    "duration": 61,
    "start_time": "2022-03-07T13:35:42.228Z"
   },
   {
    "duration": 244,
    "start_time": "2022-03-07T13:35:42.291Z"
   },
   {
    "duration": 846,
    "start_time": "2022-03-07T13:35:42.537Z"
   },
   {
    "duration": 10,
    "start_time": "2022-03-07T13:35:43.385Z"
   },
   {
    "duration": 118,
    "start_time": "2022-03-07T13:35:43.397Z"
   },
   {
    "duration": 6,
    "start_time": "2022-03-07T13:35:43.517Z"
   },
   {
    "duration": 16,
    "start_time": "2022-03-07T13:35:43.525Z"
   },
   {
    "duration": 43,
    "start_time": "2022-03-07T13:35:43.545Z"
   },
   {
    "duration": 3,
    "start_time": "2022-03-07T13:35:43.590Z"
   },
   {
    "duration": 214,
    "start_time": "2022-03-07T13:35:43.595Z"
   },
   {
    "duration": 16,
    "start_time": "2022-03-07T13:35:43.811Z"
   },
   {
    "duration": 288,
    "start_time": "2022-03-07T13:35:43.829Z"
   },
   {
    "duration": 6,
    "start_time": "2022-03-07T13:36:53.314Z"
   },
   {
    "duration": 24,
    "start_time": "2022-03-07T13:37:00.256Z"
   },
   {
    "duration": 29,
    "start_time": "2022-03-07T13:37:32.178Z"
   },
   {
    "duration": 7,
    "start_time": "2022-03-07T13:37:41.168Z"
   },
   {
    "duration": 5,
    "start_time": "2022-03-07T13:38:15.681Z"
   },
   {
    "duration": 14,
    "start_time": "2022-03-07T13:38:35.729Z"
   },
   {
    "duration": 77,
    "start_time": "2022-03-07T13:38:46.073Z"
   },
   {
    "duration": 22,
    "start_time": "2022-03-07T13:38:57.184Z"
   },
   {
    "duration": 14,
    "start_time": "2022-03-07T13:38:57.288Z"
   },
   {
    "duration": 14,
    "start_time": "2022-03-07T13:39:54.849Z"
   },
   {
    "duration": 1220,
    "start_time": "2022-03-07T13:40:02.441Z"
   },
   {
    "duration": 53,
    "start_time": "2022-03-07T13:40:03.663Z"
   },
   {
    "duration": 14,
    "start_time": "2022-03-07T13:40:03.719Z"
   },
   {
    "duration": 18,
    "start_time": "2022-03-07T13:40:03.736Z"
   },
   {
    "duration": 29,
    "start_time": "2022-03-07T13:40:03.756Z"
   },
   {
    "duration": 19,
    "start_time": "2022-03-07T13:40:03.787Z"
   },
   {
    "duration": 12,
    "start_time": "2022-03-07T13:40:03.808Z"
   },
   {
    "duration": 6,
    "start_time": "2022-03-07T13:40:03.823Z"
   },
   {
    "duration": 7,
    "start_time": "2022-03-07T13:40:03.832Z"
   },
   {
    "duration": 8,
    "start_time": "2022-03-07T13:40:03.841Z"
   },
   {
    "duration": 6,
    "start_time": "2022-03-07T13:40:03.878Z"
   },
   {
    "duration": 13,
    "start_time": "2022-03-07T13:40:03.886Z"
   },
   {
    "duration": 14,
    "start_time": "2022-03-07T13:40:03.901Z"
   },
   {
    "duration": 17,
    "start_time": "2022-03-07T13:40:03.917Z"
   },
   {
    "duration": 51,
    "start_time": "2022-03-07T13:40:03.936Z"
   },
   {
    "duration": 26,
    "start_time": "2022-03-07T13:40:03.989Z"
   },
   {
    "duration": 259,
    "start_time": "2022-03-07T13:40:04.017Z"
   },
   {
    "duration": 667,
    "start_time": "2022-03-07T13:40:04.278Z"
   },
   {
    "duration": 34,
    "start_time": "2022-03-07T13:40:04.948Z"
   },
   {
    "duration": 106,
    "start_time": "2022-03-07T13:40:04.985Z"
   },
   {
    "duration": 17,
    "start_time": "2022-03-07T13:40:05.092Z"
   },
   {
    "duration": 23,
    "start_time": "2022-03-07T13:40:05.111Z"
   },
   {
    "duration": 19,
    "start_time": "2022-03-07T13:40:05.138Z"
   },
   {
    "duration": 31,
    "start_time": "2022-03-07T13:40:05.158Z"
   },
   {
    "duration": 2,
    "start_time": "2022-03-07T13:40:05.190Z"
   },
   {
    "duration": 240,
    "start_time": "2022-03-07T13:40:05.194Z"
   },
   {
    "duration": 15,
    "start_time": "2022-03-07T13:40:05.436Z"
   },
   {
    "duration": 306,
    "start_time": "2022-03-07T13:40:05.453Z"
   },
   {
    "duration": 18,
    "start_time": "2022-03-07T13:41:06.509Z"
   },
   {
    "duration": 21,
    "start_time": "2022-03-07T13:41:47.195Z"
   },
   {
    "duration": 7,
    "start_time": "2022-03-07T13:43:21.309Z"
   },
   {
    "duration": 14,
    "start_time": "2022-03-07T13:43:52.738Z"
   },
   {
    "duration": 1229,
    "start_time": "2022-03-07T13:44:01.657Z"
   },
   {
    "duration": 53,
    "start_time": "2022-03-07T13:44:02.888Z"
   },
   {
    "duration": 15,
    "start_time": "2022-03-07T13:44:02.944Z"
   },
   {
    "duration": 26,
    "start_time": "2022-03-07T13:44:02.961Z"
   },
   {
    "duration": 11,
    "start_time": "2022-03-07T13:44:02.989Z"
   },
   {
    "duration": 13,
    "start_time": "2022-03-07T13:44:03.002Z"
   },
   {
    "duration": 12,
    "start_time": "2022-03-07T13:44:03.017Z"
   },
   {
    "duration": 7,
    "start_time": "2022-03-07T13:44:03.032Z"
   },
   {
    "duration": 10,
    "start_time": "2022-03-07T13:44:03.041Z"
   },
   {
    "duration": 26,
    "start_time": "2022-03-07T13:44:03.053Z"
   },
   {
    "duration": 8,
    "start_time": "2022-03-07T13:44:03.081Z"
   },
   {
    "duration": 10,
    "start_time": "2022-03-07T13:44:03.090Z"
   },
   {
    "duration": 16,
    "start_time": "2022-03-07T13:44:03.102Z"
   },
   {
    "duration": 19,
    "start_time": "2022-03-07T13:44:03.120Z"
   },
   {
    "duration": 51,
    "start_time": "2022-03-07T13:44:03.141Z"
   },
   {
    "duration": 24,
    "start_time": "2022-03-07T13:44:03.194Z"
   },
   {
    "duration": 251,
    "start_time": "2022-03-07T13:44:03.220Z"
   },
   {
    "duration": 579,
    "start_time": "2022-03-07T13:44:03.473Z"
   },
   {
    "duration": 8,
    "start_time": "2022-03-07T13:44:04.054Z"
   },
   {
    "duration": 144,
    "start_time": "2022-03-07T13:44:04.064Z"
   },
   {
    "duration": 19,
    "start_time": "2022-03-07T13:44:04.210Z"
   },
   {
    "duration": 7,
    "start_time": "2022-03-07T13:44:04.230Z"
   },
   {
    "duration": 41,
    "start_time": "2022-03-07T13:44:04.240Z"
   },
   {
    "duration": 27,
    "start_time": "2022-03-07T13:44:04.283Z"
   },
   {
    "duration": 2,
    "start_time": "2022-03-07T13:44:04.312Z"
   },
   {
    "duration": 248,
    "start_time": "2022-03-07T13:44:04.316Z"
   },
   {
    "duration": 23,
    "start_time": "2022-03-07T13:44:04.566Z"
   },
   {
    "duration": 349,
    "start_time": "2022-03-07T13:44:04.591Z"
   },
   {
    "duration": 1166,
    "start_time": "2022-03-07T13:46:49.431Z"
   },
   {
    "duration": 63,
    "start_time": "2022-03-07T13:46:50.599Z"
   },
   {
    "duration": 14,
    "start_time": "2022-03-07T13:46:50.664Z"
   },
   {
    "duration": 18,
    "start_time": "2022-03-07T13:46:50.680Z"
   },
   {
    "duration": 12,
    "start_time": "2022-03-07T13:46:50.700Z"
   },
   {
    "duration": 16,
    "start_time": "2022-03-07T13:46:50.714Z"
   },
   {
    "duration": 11,
    "start_time": "2022-03-07T13:46:50.731Z"
   },
   {
    "duration": 2,
    "start_time": "2022-03-07T13:46:50.744Z"
   },
   {
    "duration": 33,
    "start_time": "2022-03-07T13:46:50.749Z"
   },
   {
    "duration": 8,
    "start_time": "2022-03-07T13:46:50.784Z"
   },
   {
    "duration": 8,
    "start_time": "2022-03-07T13:46:50.794Z"
   },
   {
    "duration": 10,
    "start_time": "2022-03-07T13:46:50.804Z"
   },
   {
    "duration": 15,
    "start_time": "2022-03-07T13:46:50.816Z"
   },
   {
    "duration": 50,
    "start_time": "2022-03-07T13:46:50.833Z"
   },
   {
    "duration": 18,
    "start_time": "2022-03-07T13:46:50.885Z"
   },
   {
    "duration": 24,
    "start_time": "2022-03-07T13:46:50.905Z"
   },
   {
    "duration": 288,
    "start_time": "2022-03-07T13:46:50.931Z"
   },
   {
    "duration": 625,
    "start_time": "2022-03-07T13:46:51.221Z"
   },
   {
    "duration": 8,
    "start_time": "2022-03-07T13:46:51.848Z"
   },
   {
    "duration": 140,
    "start_time": "2022-03-07T13:46:51.858Z"
   },
   {
    "duration": 21,
    "start_time": "2022-03-07T13:46:52.000Z"
   },
   {
    "duration": 8,
    "start_time": "2022-03-07T13:46:52.023Z"
   },
   {
    "duration": 54,
    "start_time": "2022-03-07T13:46:52.032Z"
   },
   {
    "duration": 284,
    "start_time": "2022-03-07T13:46:52.088Z"
   },
   {
    "duration": 24,
    "start_time": "2022-03-07T13:46:52.374Z"
   },
   {
    "duration": 2,
    "start_time": "2022-03-07T13:46:52.400Z"
   },
   {
    "duration": 274,
    "start_time": "2022-03-07T13:46:52.406Z"
   },
   {
    "duration": 15,
    "start_time": "2022-03-07T13:46:52.683Z"
   },
   {
    "duration": 388,
    "start_time": "2022-03-07T13:46:52.700Z"
   },
   {
    "duration": 976,
    "start_time": "2022-03-07T13:47:28.328Z"
   },
   {
    "duration": 16,
    "start_time": "2022-03-07T13:47:38.578Z"
   },
   {
    "duration": 263,
    "start_time": "2022-03-07T13:47:44.993Z"
   },
   {
    "duration": 16,
    "start_time": "2022-03-07T13:49:41.320Z"
   },
   {
    "duration": 244,
    "start_time": "2022-03-07T13:49:48.776Z"
   },
   {
    "duration": 220,
    "start_time": "2022-03-07T13:50:43.020Z"
   },
   {
    "duration": 236,
    "start_time": "2022-03-07T13:50:49.423Z"
   },
   {
    "duration": 18,
    "start_time": "2022-03-07T13:51:31.530Z"
   },
   {
    "duration": 500,
    "start_time": "2022-03-07T13:51:40.468Z"
   },
   {
    "duration": 1167,
    "start_time": "2022-03-07T13:51:51.977Z"
   },
   {
    "duration": 51,
    "start_time": "2022-03-07T13:51:53.146Z"
   },
   {
    "duration": 14,
    "start_time": "2022-03-07T13:51:53.199Z"
   },
   {
    "duration": 12,
    "start_time": "2022-03-07T13:51:53.215Z"
   },
   {
    "duration": 10,
    "start_time": "2022-03-07T13:51:53.228Z"
   },
   {
    "duration": 14,
    "start_time": "2022-03-07T13:51:53.239Z"
   },
   {
    "duration": 8,
    "start_time": "2022-03-07T13:51:53.278Z"
   },
   {
    "duration": 3,
    "start_time": "2022-03-07T13:51:53.289Z"
   },
   {
    "duration": 7,
    "start_time": "2022-03-07T13:51:53.294Z"
   },
   {
    "duration": 6,
    "start_time": "2022-03-07T13:51:53.302Z"
   },
   {
    "duration": 8,
    "start_time": "2022-03-07T13:51:53.309Z"
   },
   {
    "duration": 9,
    "start_time": "2022-03-07T13:51:53.318Z"
   },
   {
    "duration": 50,
    "start_time": "2022-03-07T13:51:53.328Z"
   },
   {
    "duration": 15,
    "start_time": "2022-03-07T13:51:53.380Z"
   },
   {
    "duration": 17,
    "start_time": "2022-03-07T13:51:53.397Z"
   },
   {
    "duration": 23,
    "start_time": "2022-03-07T13:51:53.415Z"
   },
   {
    "duration": 258,
    "start_time": "2022-03-07T13:51:53.439Z"
   },
   {
    "duration": 557,
    "start_time": "2022-03-07T13:51:53.699Z"
   },
   {
    "duration": 19,
    "start_time": "2022-03-07T13:51:54.258Z"
   },
   {
    "duration": 107,
    "start_time": "2022-03-07T13:51:54.279Z"
   },
   {
    "duration": 21,
    "start_time": "2022-03-07T13:51:54.388Z"
   },
   {
    "duration": 15,
    "start_time": "2022-03-07T13:51:54.411Z"
   },
   {
    "duration": 24,
    "start_time": "2022-03-07T13:51:54.430Z"
   },
   {
    "duration": 466,
    "start_time": "2022-03-07T13:51:54.456Z"
   },
   {
    "duration": 57,
    "start_time": "2022-03-07T13:51:54.924Z"
   },
   {
    "duration": 2,
    "start_time": "2022-03-07T13:51:54.983Z"
   },
   {
    "duration": 389,
    "start_time": "2022-03-07T13:51:54.987Z"
   },
   {
    "duration": 15,
    "start_time": "2022-03-07T13:51:55.377Z"
   },
   {
    "duration": 374,
    "start_time": "2022-03-07T13:51:55.394Z"
   },
   {
    "duration": 357,
    "start_time": "2022-03-07T14:03:28.045Z"
   },
   {
    "duration": 273,
    "start_time": "2022-03-07T14:04:56.037Z"
   },
   {
    "duration": 261,
    "start_time": "2022-03-07T14:04:59.462Z"
   },
   {
    "duration": 279,
    "start_time": "2022-03-07T14:05:02.246Z"
   },
   {
    "duration": 1799,
    "start_time": "2022-03-07T14:06:45.959Z"
   },
   {
    "duration": 316,
    "start_time": "2022-03-07T14:07:12.254Z"
   },
   {
    "duration": 1935,
    "start_time": "2022-03-07T14:07:53.039Z"
   },
   {
    "duration": 270,
    "start_time": "2022-03-07T14:07:54.976Z"
   },
   {
    "duration": 14,
    "start_time": "2022-03-07T14:07:55.248Z"
   },
   {
    "duration": 12,
    "start_time": "2022-03-07T14:07:55.264Z"
   },
   {
    "duration": 10,
    "start_time": "2022-03-07T14:07:55.278Z"
   },
   {
    "duration": 21,
    "start_time": "2022-03-07T14:07:55.290Z"
   },
   {
    "duration": 13,
    "start_time": "2022-03-07T14:07:55.313Z"
   },
   {
    "duration": 2,
    "start_time": "2022-03-07T14:07:55.329Z"
   },
   {
    "duration": 13,
    "start_time": "2022-03-07T14:07:55.334Z"
   },
   {
    "duration": 6,
    "start_time": "2022-03-07T14:07:55.377Z"
   },
   {
    "duration": 9,
    "start_time": "2022-03-07T14:07:55.385Z"
   },
   {
    "duration": 10,
    "start_time": "2022-03-07T14:07:55.396Z"
   },
   {
    "duration": 14,
    "start_time": "2022-03-07T14:07:55.408Z"
   },
   {
    "duration": 16,
    "start_time": "2022-03-07T14:07:55.423Z"
   },
   {
    "duration": 50,
    "start_time": "2022-03-07T14:07:55.441Z"
   },
   {
    "duration": 23,
    "start_time": "2022-03-07T14:07:55.493Z"
   },
   {
    "duration": 263,
    "start_time": "2022-03-07T14:07:55.518Z"
   },
   {
    "duration": 587,
    "start_time": "2022-03-07T14:07:55.782Z"
   },
   {
    "duration": 8,
    "start_time": "2022-03-07T14:07:56.377Z"
   },
   {
    "duration": 117,
    "start_time": "2022-03-07T14:07:56.387Z"
   },
   {
    "duration": 21,
    "start_time": "2022-03-07T14:07:56.506Z"
   },
   {
    "duration": 3,
    "start_time": "2022-03-07T14:07:56.529Z"
   },
   {
    "duration": 54,
    "start_time": "2022-03-07T14:07:56.536Z"
   },
   {
    "duration": 492,
    "start_time": "2022-03-07T14:07:56.592Z"
   },
   {
    "duration": 49,
    "start_time": "2022-03-07T14:07:57.087Z"
   },
   {
    "duration": 3,
    "start_time": "2022-03-07T14:07:57.138Z"
   },
   {
    "duration": 405,
    "start_time": "2022-03-07T14:07:57.143Z"
   },
   {
    "duration": 28,
    "start_time": "2022-03-07T14:07:57.550Z"
   },
   {
    "duration": 375,
    "start_time": "2022-03-07T14:07:57.580Z"
   },
   {
    "duration": 362,
    "start_time": "2022-03-07T14:08:45.910Z"
   },
   {
    "duration": 270,
    "start_time": "2022-03-07T14:08:59.968Z"
   },
   {
    "duration": 272,
    "start_time": "2022-03-07T14:09:14.469Z"
   },
   {
    "duration": 1141,
    "start_time": "2022-03-07T14:10:06.930Z"
   },
   {
    "duration": 56,
    "start_time": "2022-03-07T14:10:08.073Z"
   },
   {
    "duration": 14,
    "start_time": "2022-03-07T14:10:08.130Z"
   },
   {
    "duration": 23,
    "start_time": "2022-03-07T14:10:08.146Z"
   },
   {
    "duration": 20,
    "start_time": "2022-03-07T14:10:08.171Z"
   },
   {
    "duration": 17,
    "start_time": "2022-03-07T14:10:08.193Z"
   },
   {
    "duration": 15,
    "start_time": "2022-03-07T14:10:08.212Z"
   },
   {
    "duration": 12,
    "start_time": "2022-03-07T14:10:08.229Z"
   },
   {
    "duration": 21,
    "start_time": "2022-03-07T14:10:08.242Z"
   },
   {
    "duration": 14,
    "start_time": "2022-03-07T14:10:08.265Z"
   },
   {
    "duration": 23,
    "start_time": "2022-03-07T14:10:08.281Z"
   },
   {
    "duration": 22,
    "start_time": "2022-03-07T14:10:08.306Z"
   },
   {
    "duration": 13,
    "start_time": "2022-03-07T14:10:08.330Z"
   },
   {
    "duration": 27,
    "start_time": "2022-03-07T14:10:08.345Z"
   },
   {
    "duration": 17,
    "start_time": "2022-03-07T14:10:08.374Z"
   },
   {
    "duration": 26,
    "start_time": "2022-03-07T14:10:08.393Z"
   },
   {
    "duration": 235,
    "start_time": "2022-03-07T14:10:08.421Z"
   },
   {
    "duration": 559,
    "start_time": "2022-03-07T14:10:08.659Z"
   },
   {
    "duration": 8,
    "start_time": "2022-03-07T14:10:09.220Z"
   },
   {
    "duration": 111,
    "start_time": "2022-03-07T14:10:09.229Z"
   },
   {
    "duration": 37,
    "start_time": "2022-03-07T14:10:09.341Z"
   },
   {
    "duration": 2,
    "start_time": "2022-03-07T14:10:09.380Z"
   },
   {
    "duration": 27,
    "start_time": "2022-03-07T14:10:09.384Z"
   },
   {
    "duration": 466,
    "start_time": "2022-03-07T14:10:09.413Z"
   },
   {
    "duration": 50,
    "start_time": "2022-03-07T14:10:09.881Z"
   },
   {
    "duration": 3,
    "start_time": "2022-03-07T14:10:09.932Z"
   },
   {
    "duration": 407,
    "start_time": "2022-03-07T14:10:09.937Z"
   },
   {
    "duration": 16,
    "start_time": "2022-03-07T14:10:10.346Z"
   },
   {
    "duration": 369,
    "start_time": "2022-03-07T14:10:10.377Z"
   },
   {
    "duration": 373,
    "start_time": "2022-03-07T14:10:57.891Z"
   },
   {
    "duration": 1264,
    "start_time": "2022-03-07T14:11:11.092Z"
   },
   {
    "duration": 62,
    "start_time": "2022-03-07T14:11:12.358Z"
   },
   {
    "duration": 13,
    "start_time": "2022-03-07T14:11:12.422Z"
   },
   {
    "duration": 35,
    "start_time": "2022-03-07T14:11:12.437Z"
   },
   {
    "duration": 10,
    "start_time": "2022-03-07T14:11:12.474Z"
   },
   {
    "duration": 31,
    "start_time": "2022-03-07T14:11:12.485Z"
   },
   {
    "duration": 29,
    "start_time": "2022-03-07T14:11:12.518Z"
   },
   {
    "duration": 10,
    "start_time": "2022-03-07T14:11:12.549Z"
   },
   {
    "duration": 18,
    "start_time": "2022-03-07T14:11:12.562Z"
   },
   {
    "duration": 6,
    "start_time": "2022-03-07T14:11:12.582Z"
   },
   {
    "duration": 12,
    "start_time": "2022-03-07T14:11:12.590Z"
   },
   {
    "duration": 15,
    "start_time": "2022-03-07T14:11:12.603Z"
   },
   {
    "duration": 26,
    "start_time": "2022-03-07T14:11:12.620Z"
   },
   {
    "duration": 15,
    "start_time": "2022-03-07T14:11:12.647Z"
   },
   {
    "duration": 28,
    "start_time": "2022-03-07T14:11:12.664Z"
   },
   {
    "duration": 28,
    "start_time": "2022-03-07T14:11:12.694Z"
   },
   {
    "duration": 234,
    "start_time": "2022-03-07T14:11:12.724Z"
   },
   {
    "duration": 587,
    "start_time": "2022-03-07T14:11:12.960Z"
   },
   {
    "duration": 28,
    "start_time": "2022-03-07T14:11:13.549Z"
   },
   {
    "duration": 119,
    "start_time": "2022-03-07T14:11:13.579Z"
   },
   {
    "duration": 381,
    "start_time": "2022-03-07T14:11:13.700Z"
   },
   {
    "duration": 105,
    "start_time": "2022-03-07T14:11:13.979Z"
   },
   {
    "duration": 101,
    "start_time": "2022-03-07T14:11:13.984Z"
   },
   {
    "duration": 101,
    "start_time": "2022-03-07T14:11:13.986Z"
   },
   {
    "duration": 101,
    "start_time": "2022-03-07T14:11:13.988Z"
   },
   {
    "duration": 89,
    "start_time": "2022-03-07T14:11:14.001Z"
   },
   {
    "duration": 90,
    "start_time": "2022-03-07T14:11:14.003Z"
   },
   {
    "duration": 89,
    "start_time": "2022-03-07T14:11:14.005Z"
   },
   {
    "duration": 90,
    "start_time": "2022-03-07T14:11:14.006Z"
   },
   {
    "duration": 63,
    "start_time": "2022-03-07T14:11:50.440Z"
   },
   {
    "duration": 1224,
    "start_time": "2022-03-07T14:12:33.988Z"
   },
   {
    "duration": 55,
    "start_time": "2022-03-07T14:12:35.215Z"
   },
   {
    "duration": 14,
    "start_time": "2022-03-07T14:12:35.277Z"
   },
   {
    "duration": 12,
    "start_time": "2022-03-07T14:12:35.294Z"
   },
   {
    "duration": 12,
    "start_time": "2022-03-07T14:12:35.308Z"
   },
   {
    "duration": 15,
    "start_time": "2022-03-07T14:12:35.322Z"
   },
   {
    "duration": 45,
    "start_time": "2022-03-07T14:12:35.340Z"
   },
   {
    "duration": 3,
    "start_time": "2022-03-07T14:12:35.387Z"
   },
   {
    "duration": 7,
    "start_time": "2022-03-07T14:12:35.394Z"
   },
   {
    "duration": 12,
    "start_time": "2022-03-07T14:12:35.404Z"
   },
   {
    "duration": 16,
    "start_time": "2022-03-07T14:12:35.418Z"
   },
   {
    "duration": 14,
    "start_time": "2022-03-07T14:12:35.436Z"
   },
   {
    "duration": 37,
    "start_time": "2022-03-07T14:12:35.452Z"
   },
   {
    "duration": 16,
    "start_time": "2022-03-07T14:12:35.491Z"
   },
   {
    "duration": 18,
    "start_time": "2022-03-07T14:12:35.509Z"
   },
   {
    "duration": 53,
    "start_time": "2022-03-07T14:12:35.529Z"
   },
   {
    "duration": 242,
    "start_time": "2022-03-07T14:12:35.584Z"
   },
   {
    "duration": 582,
    "start_time": "2022-03-07T14:12:35.828Z"
   },
   {
    "duration": 11,
    "start_time": "2022-03-07T14:12:36.412Z"
   },
   {
    "duration": 128,
    "start_time": "2022-03-07T14:12:36.425Z"
   },
   {
    "duration": 352,
    "start_time": "2022-03-07T14:12:36.555Z"
   },
   {
    "duration": 84,
    "start_time": "2022-03-07T14:12:36.826Z"
   },
   {
    "duration": 78,
    "start_time": "2022-03-07T14:12:36.833Z"
   },
   {
    "duration": 78,
    "start_time": "2022-03-07T14:12:36.835Z"
   },
   {
    "duration": 78,
    "start_time": "2022-03-07T14:12:36.836Z"
   },
   {
    "duration": 79,
    "start_time": "2022-03-07T14:12:36.837Z"
   },
   {
    "duration": 79,
    "start_time": "2022-03-07T14:12:36.838Z"
   },
   {
    "duration": 80,
    "start_time": "2022-03-07T14:12:36.839Z"
   },
   {
    "duration": 80,
    "start_time": "2022-03-07T14:12:36.840Z"
   },
   {
    "duration": 1182,
    "start_time": "2022-03-07T14:12:59.732Z"
   },
   {
    "duration": 59,
    "start_time": "2022-03-07T14:13:00.919Z"
   },
   {
    "duration": 15,
    "start_time": "2022-03-07T14:13:00.980Z"
   },
   {
    "duration": 20,
    "start_time": "2022-03-07T14:13:00.997Z"
   },
   {
    "duration": 15,
    "start_time": "2022-03-07T14:13:01.019Z"
   },
   {
    "duration": 42,
    "start_time": "2022-03-07T14:13:01.036Z"
   },
   {
    "duration": 21,
    "start_time": "2022-03-07T14:13:01.081Z"
   },
   {
    "duration": 11,
    "start_time": "2022-03-07T14:13:01.106Z"
   },
   {
    "duration": 11,
    "start_time": "2022-03-07T14:13:01.120Z"
   },
   {
    "duration": 14,
    "start_time": "2022-03-07T14:13:01.134Z"
   },
   {
    "duration": 20,
    "start_time": "2022-03-07T14:13:01.151Z"
   },
   {
    "duration": 18,
    "start_time": "2022-03-07T14:13:01.174Z"
   },
   {
    "duration": 17,
    "start_time": "2022-03-07T14:13:01.194Z"
   },
   {
    "duration": 18,
    "start_time": "2022-03-07T14:13:01.213Z"
   },
   {
    "duration": 18,
    "start_time": "2022-03-07T14:13:01.233Z"
   },
   {
    "duration": 46,
    "start_time": "2022-03-07T14:13:01.254Z"
   },
   {
    "duration": 261,
    "start_time": "2022-03-07T14:13:01.302Z"
   },
   {
    "duration": 653,
    "start_time": "2022-03-07T14:13:01.566Z"
   },
   {
    "duration": 8,
    "start_time": "2022-03-07T14:13:02.222Z"
   },
   {
    "duration": 119,
    "start_time": "2022-03-07T14:13:02.232Z"
   },
   {
    "duration": 75,
    "start_time": "2022-03-07T14:13:02.353Z"
   },
   {
    "duration": 3,
    "start_time": "2022-03-07T14:13:02.430Z"
   },
   {
    "duration": 46,
    "start_time": "2022-03-07T14:13:02.436Z"
   },
   {
    "duration": 493,
    "start_time": "2022-03-07T14:13:02.484Z"
   },
   {
    "duration": 53,
    "start_time": "2022-03-07T14:13:02.979Z"
   },
   {
    "duration": 3,
    "start_time": "2022-03-07T14:13:03.035Z"
   },
   {
    "duration": 441,
    "start_time": "2022-03-07T14:13:03.040Z"
   },
   {
    "duration": 18,
    "start_time": "2022-03-07T14:13:03.484Z"
   },
   {
    "duration": 389,
    "start_time": "2022-03-07T14:13:03.504Z"
   },
   {
    "duration": 39,
    "start_time": "2022-03-07T14:13:48.968Z"
   },
   {
    "duration": 1163,
    "start_time": "2022-03-07T14:14:28.492Z"
   },
   {
    "duration": 1201,
    "start_time": "2022-03-07T14:14:45.382Z"
   },
   {
    "duration": 39,
    "start_time": "2022-03-07T14:15:13.437Z"
   },
   {
    "duration": 27,
    "start_time": "2022-03-07T14:15:27.287Z"
   },
   {
    "duration": 600,
    "start_time": "2022-03-07T14:15:44.085Z"
   },
   {
    "duration": 309,
    "start_time": "2022-03-07T14:16:39.661Z"
   },
   {
    "duration": 7,
    "start_time": "2022-03-07T14:20:12.117Z"
   },
   {
    "duration": 7,
    "start_time": "2022-03-07T14:20:24.359Z"
   },
   {
    "duration": 8,
    "start_time": "2022-03-07T14:20:58.062Z"
   },
   {
    "duration": 6,
    "start_time": "2022-03-07T14:21:29.406Z"
   },
   {
    "duration": 1226,
    "start_time": "2022-03-07T14:22:45.317Z"
   },
   {
    "duration": 62,
    "start_time": "2022-03-07T14:22:46.545Z"
   },
   {
    "duration": 13,
    "start_time": "2022-03-07T14:22:46.609Z"
   },
   {
    "duration": 11,
    "start_time": "2022-03-07T14:22:46.625Z"
   },
   {
    "duration": 12,
    "start_time": "2022-03-07T14:22:46.638Z"
   },
   {
    "duration": 32,
    "start_time": "2022-03-07T14:22:46.652Z"
   },
   {
    "duration": 10,
    "start_time": "2022-03-07T14:22:46.686Z"
   },
   {
    "duration": 2,
    "start_time": "2022-03-07T14:22:46.698Z"
   },
   {
    "duration": 9,
    "start_time": "2022-03-07T14:22:46.703Z"
   },
   {
    "duration": 12,
    "start_time": "2022-03-07T14:22:46.714Z"
   },
   {
    "duration": 7,
    "start_time": "2022-03-07T14:22:46.728Z"
   },
   {
    "duration": 40,
    "start_time": "2022-03-07T14:22:46.737Z"
   },
   {
    "duration": 15,
    "start_time": "2022-03-07T14:22:46.779Z"
   },
   {
    "duration": 15,
    "start_time": "2022-03-07T14:22:46.796Z"
   },
   {
    "duration": 16,
    "start_time": "2022-03-07T14:22:46.813Z"
   },
   {
    "duration": 52,
    "start_time": "2022-03-07T14:22:46.831Z"
   },
   {
    "duration": 239,
    "start_time": "2022-03-07T14:22:46.885Z"
   },
   {
    "duration": 577,
    "start_time": "2022-03-07T14:22:47.126Z"
   },
   {
    "duration": 8,
    "start_time": "2022-03-07T14:22:47.705Z"
   },
   {
    "duration": 112,
    "start_time": "2022-03-07T14:22:47.715Z"
   },
   {
    "duration": 6,
    "start_time": "2022-03-07T14:22:47.829Z"
   },
   {
    "duration": 7,
    "start_time": "2022-03-07T14:22:47.836Z"
   },
   {
    "duration": 49,
    "start_time": "2022-03-07T14:22:47.845Z"
   },
   {
    "duration": 472,
    "start_time": "2022-03-07T14:22:47.896Z"
   },
   {
    "duration": 53,
    "start_time": "2022-03-07T14:22:48.370Z"
   },
   {
    "duration": 2,
    "start_time": "2022-03-07T14:22:48.425Z"
   },
   {
    "duration": 410,
    "start_time": "2022-03-07T14:22:48.431Z"
   },
   {
    "duration": 17,
    "start_time": "2022-03-07T14:22:48.842Z"
   },
   {
    "duration": 376,
    "start_time": "2022-03-07T14:22:48.860Z"
   },
   {
    "duration": 131,
    "start_time": "2022-03-07T14:24:37.279Z"
   },
   {
    "duration": 11,
    "start_time": "2022-03-07T14:24:47.623Z"
   },
   {
    "duration": 12,
    "start_time": "2022-03-07T14:24:55.944Z"
   },
   {
    "duration": 14,
    "start_time": "2022-03-07T14:25:17.072Z"
   },
   {
    "duration": 21,
    "start_time": "2022-03-07T14:25:30.510Z"
   },
   {
    "duration": 312,
    "start_time": "2022-03-07T14:26:12.961Z"
   },
   {
    "duration": 17,
    "start_time": "2022-03-07T14:26:43.030Z"
   },
   {
    "duration": 22,
    "start_time": "2022-03-07T14:26:56.229Z"
   },
   {
    "duration": 57,
    "start_time": "2022-03-07T14:27:24.830Z"
   },
   {
    "duration": 18,
    "start_time": "2022-03-07T14:27:53.491Z"
   },
   {
    "duration": 13,
    "start_time": "2022-03-07T14:28:38.727Z"
   },
   {
    "duration": 352,
    "start_time": "2022-03-07T14:28:58.877Z"
   },
   {
    "duration": 13,
    "start_time": "2022-03-07T14:29:14.391Z"
   },
   {
    "duration": 12,
    "start_time": "2022-03-07T14:29:37.240Z"
   },
   {
    "duration": 16,
    "start_time": "2022-03-07T14:29:52.270Z"
   },
   {
    "duration": 13,
    "start_time": "2022-03-07T14:30:03.922Z"
   },
   {
    "duration": 17,
    "start_time": "2022-03-07T14:30:24.218Z"
   },
   {
    "duration": 19,
    "start_time": "2022-03-07T14:30:59.009Z"
   },
   {
    "duration": 18,
    "start_time": "2022-03-07T14:31:06.778Z"
   },
   {
    "duration": 5,
    "start_time": "2022-03-07T14:32:31.802Z"
   },
   {
    "duration": 14,
    "start_time": "2022-03-07T14:33:13.010Z"
   },
   {
    "duration": 63,
    "start_time": "2022-03-07T14:33:36.594Z"
   },
   {
    "duration": 140,
    "start_time": "2022-03-07T14:35:48.775Z"
   },
   {
    "duration": 42,
    "start_time": "2022-03-07T14:35:55.553Z"
   },
   {
    "duration": 906,
    "start_time": "2022-03-07T14:37:37.147Z"
   },
   {
    "duration": 913,
    "start_time": "2022-03-07T14:38:03.276Z"
   },
   {
    "duration": 1031,
    "start_time": "2022-03-07T14:38:17.594Z"
   },
   {
    "duration": 20,
    "start_time": "2022-03-07T14:40:33.247Z"
   },
   {
    "duration": 30,
    "start_time": "2022-03-07T14:41:01.884Z"
   },
   {
    "duration": 32,
    "start_time": "2022-03-07T14:43:07.383Z"
   },
   {
    "duration": 21,
    "start_time": "2022-03-07T14:44:17.288Z"
   },
   {
    "duration": 24,
    "start_time": "2022-03-07T14:44:27.736Z"
   },
   {
    "duration": 970,
    "start_time": "2022-03-07T14:46:35.141Z"
   },
   {
    "duration": 804,
    "start_time": "2022-03-07T14:46:49.153Z"
   },
   {
    "duration": 867,
    "start_time": "2022-03-07T14:46:57.128Z"
   },
   {
    "duration": 6,
    "start_time": "2022-03-07T14:50:52.570Z"
   },
   {
    "duration": 7,
    "start_time": "2022-03-07T14:53:20.709Z"
   },
   {
    "duration": 6,
    "start_time": "2022-03-07T14:53:31.212Z"
   },
   {
    "duration": 7,
    "start_time": "2022-03-07T14:54:40.132Z"
   },
   {
    "duration": 8,
    "start_time": "2022-03-07T14:54:57.891Z"
   },
   {
    "duration": 7,
    "start_time": "2022-03-07T14:55:15.458Z"
   },
   {
    "duration": 6,
    "start_time": "2022-03-07T14:56:06.094Z"
   },
   {
    "duration": 18,
    "start_time": "2022-03-07T15:01:06.234Z"
   },
   {
    "duration": 15,
    "start_time": "2022-03-07T15:01:24.421Z"
   },
   {
    "duration": 491,
    "start_time": "2022-03-07T15:01:48.690Z"
   },
   {
    "duration": 437,
    "start_time": "2022-03-07T15:02:00.172Z"
   },
   {
    "duration": 394,
    "start_time": "2022-03-07T15:02:18.012Z"
   },
   {
    "duration": 652,
    "start_time": "2022-03-07T15:05:43.440Z"
   },
   {
    "duration": 518,
    "start_time": "2022-03-07T15:06:01.352Z"
   },
   {
    "duration": 527,
    "start_time": "2022-03-07T15:06:08.496Z"
   },
   {
    "duration": 437,
    "start_time": "2022-03-07T15:06:52.653Z"
   },
   {
    "duration": 265,
    "start_time": "2022-03-07T15:31:33.498Z"
   },
   {
    "duration": 26,
    "start_time": "2022-03-07T15:31:42.419Z"
   },
   {
    "duration": 60,
    "start_time": "2022-03-07T15:35:58.992Z"
   },
   {
    "duration": 31,
    "start_time": "2022-03-07T15:36:34.469Z"
   },
   {
    "duration": 555,
    "start_time": "2022-03-07T15:38:45.271Z"
   },
   {
    "duration": 559,
    "start_time": "2022-03-07T15:40:18.740Z"
   },
   {
    "duration": 548,
    "start_time": "2022-03-07T15:42:11.844Z"
   },
   {
    "duration": 478,
    "start_time": "2022-03-07T15:42:37.651Z"
   },
   {
    "duration": 372,
    "start_time": "2022-03-07T15:45:26.236Z"
   },
   {
    "duration": 377,
    "start_time": "2022-03-07T15:45:37.938Z"
   },
   {
    "duration": 374,
    "start_time": "2022-03-07T15:45:46.754Z"
   },
   {
    "duration": 364,
    "start_time": "2022-03-07T15:45:53.778Z"
   },
   {
    "duration": 352,
    "start_time": "2022-03-07T15:46:28.704Z"
   },
   {
    "duration": 386,
    "start_time": "2022-03-07T15:46:51.068Z"
   },
   {
    "duration": 377,
    "start_time": "2022-03-07T15:47:27.035Z"
   },
   {
    "duration": 373,
    "start_time": "2022-03-07T15:47:56.595Z"
   },
   {
    "duration": 366,
    "start_time": "2022-03-07T15:48:09.355Z"
   },
   {
    "duration": 382,
    "start_time": "2022-03-07T15:48:18.749Z"
   },
   {
    "duration": 512,
    "start_time": "2022-03-07T15:48:26.453Z"
   },
   {
    "duration": 316,
    "start_time": "2022-03-07T15:50:52.054Z"
   },
   {
    "duration": 281,
    "start_time": "2022-03-07T15:51:10.918Z"
   },
   {
    "duration": 273,
    "start_time": "2022-03-07T15:51:26.457Z"
   },
   {
    "duration": 261,
    "start_time": "2022-03-07T15:51:42.800Z"
   },
   {
    "duration": 20,
    "start_time": "2022-03-07T15:52:13.754Z"
   },
   {
    "duration": 377,
    "start_time": "2022-03-07T15:52:33.967Z"
   },
   {
    "duration": 145,
    "start_time": "2022-03-07T15:52:55.622Z"
   },
   {
    "duration": 144,
    "start_time": "2022-03-07T15:52:55.625Z"
   },
   {
    "duration": 143,
    "start_time": "2022-03-07T15:52:55.627Z"
   },
   {
    "duration": 142,
    "start_time": "2022-03-07T15:52:55.630Z"
   },
   {
    "duration": 142,
    "start_time": "2022-03-07T15:52:55.632Z"
   },
   {
    "duration": 142,
    "start_time": "2022-03-07T15:52:55.633Z"
   },
   {
    "duration": 144,
    "start_time": "2022-03-07T15:52:55.635Z"
   },
   {
    "duration": 144,
    "start_time": "2022-03-07T15:52:55.637Z"
   },
   {
    "duration": 144,
    "start_time": "2022-03-07T15:52:55.638Z"
   },
   {
    "duration": 145,
    "start_time": "2022-03-07T15:52:55.639Z"
   },
   {
    "duration": 144,
    "start_time": "2022-03-07T15:52:55.641Z"
   },
   {
    "duration": 145,
    "start_time": "2022-03-07T15:52:55.642Z"
   },
   {
    "duration": 145,
    "start_time": "2022-03-07T15:52:55.643Z"
   },
   {
    "duration": 145,
    "start_time": "2022-03-07T15:52:55.645Z"
   },
   {
    "duration": 142,
    "start_time": "2022-03-07T15:52:55.650Z"
   },
   {
    "duration": 141,
    "start_time": "2022-03-07T15:52:55.652Z"
   },
   {
    "duration": 142,
    "start_time": "2022-03-07T15:52:55.653Z"
   },
   {
    "duration": 142,
    "start_time": "2022-03-07T15:52:55.654Z"
   },
   {
    "duration": 143,
    "start_time": "2022-03-07T15:52:55.655Z"
   },
   {
    "duration": 144,
    "start_time": "2022-03-07T15:52:55.656Z"
   },
   {
    "duration": 144,
    "start_time": "2022-03-07T15:52:55.657Z"
   },
   {
    "duration": 144,
    "start_time": "2022-03-07T15:52:55.659Z"
   },
   {
    "duration": 145,
    "start_time": "2022-03-07T15:52:55.660Z"
   },
   {
    "duration": 145,
    "start_time": "2022-03-07T15:52:55.661Z"
   },
   {
    "duration": 146,
    "start_time": "2022-03-07T15:52:55.662Z"
   },
   {
    "duration": 143,
    "start_time": "2022-03-07T15:52:55.666Z"
   },
   {
    "duration": 1157,
    "start_time": "2022-03-07T15:53:26.997Z"
   },
   {
    "duration": 2150,
    "start_time": "2022-03-07T15:53:28.156Z"
   },
   {
    "duration": 1816,
    "start_time": "2022-03-07T15:53:30.308Z"
   },
   {
    "duration": 1578,
    "start_time": "2022-03-07T15:53:32.126Z"
   },
   {
    "duration": 3459,
    "start_time": "2022-03-07T15:53:33.705Z"
   },
   {
    "duration": 2369,
    "start_time": "2022-03-07T15:53:37.166Z"
   },
   {
    "duration": 2830,
    "start_time": "2022-03-07T15:53:39.537Z"
   },
   {
    "duration": 4244,
    "start_time": "2022-03-07T15:53:42.370Z"
   },
   {
    "duration": 1924,
    "start_time": "2022-03-07T15:53:46.617Z"
   },
   {
    "duration": 4340,
    "start_time": "2022-03-07T15:53:48.543Z"
   },
   {
    "duration": 4647,
    "start_time": "2022-03-07T15:53:52.885Z"
   },
   {
    "duration": 3045,
    "start_time": "2022-03-07T15:53:57.533Z"
   },
   {
    "duration": 1947,
    "start_time": "2022-03-07T15:54:00.580Z"
   },
   {
    "duration": 1319,
    "start_time": "2022-03-07T15:54:02.529Z"
   },
   {
    "duration": 1140,
    "start_time": "2022-03-07T15:54:03.850Z"
   },
   {
    "duration": 23,
    "start_time": "2022-03-07T15:54:04.993Z"
   },
   {
    "duration": 287,
    "start_time": "2022-03-07T15:54:05.018Z"
   },
   {
    "duration": 750,
    "start_time": "2022-03-07T15:54:05.307Z"
   },
   {
    "duration": 12,
    "start_time": "2022-03-07T15:54:06.059Z"
   },
   {
    "duration": 139,
    "start_time": "2022-03-07T15:54:06.078Z"
   },
   {
    "duration": 30,
    "start_time": "2022-03-07T15:54:06.219Z"
   },
   {
    "duration": 38,
    "start_time": "2022-03-07T15:54:06.251Z"
   },
   {
    "duration": 994,
    "start_time": "2022-03-07T15:54:06.291Z"
   },
   {
    "duration": 536,
    "start_time": "2022-03-07T15:54:07.287Z"
   },
   {
    "duration": 358,
    "start_time": "2022-03-07T15:54:07.825Z"
   },
   {
    "duration": 371,
    "start_time": "2022-03-07T15:54:08.186Z"
   },
   {
    "duration": 299,
    "start_time": "2022-03-07T15:55:39.790Z"
   },
   {
    "duration": 26,
    "start_time": "2022-03-07T15:56:50.473Z"
   },
   {
    "duration": 215,
    "start_time": "2022-03-07T15:57:34.660Z"
   },
   {
    "duration": 262,
    "start_time": "2022-03-07T15:58:06.809Z"
   },
   {
    "duration": 271,
    "start_time": "2022-03-07T15:58:33.140Z"
   },
   {
    "duration": 273,
    "start_time": "2022-03-07T15:59:50.237Z"
   },
   {
    "duration": 279,
    "start_time": "2022-03-07T16:00:01.910Z"
   },
   {
    "duration": 20,
    "start_time": "2022-03-07T16:00:18.964Z"
   },
   {
    "duration": 283,
    "start_time": "2022-03-07T16:00:39.682Z"
   },
   {
    "duration": 17,
    "start_time": "2022-03-07T16:01:02.724Z"
   },
   {
    "duration": 22,
    "start_time": "2022-03-07T16:01:18.405Z"
   },
   {
    "duration": 568,
    "start_time": "2022-03-07T16:02:46.337Z"
   },
   {
    "duration": 715,
    "start_time": "2022-03-07T16:03:05.449Z"
   },
   {
    "duration": 510,
    "start_time": "2022-03-07T16:06:22.886Z"
   },
   {
    "duration": 577,
    "start_time": "2022-03-07T16:06:52.673Z"
   },
   {
    "duration": 618,
    "start_time": "2022-03-07T16:07:03.970Z"
   },
   {
    "duration": 506,
    "start_time": "2022-03-07T16:07:24.529Z"
   },
   {
    "duration": 625,
    "start_time": "2022-03-07T16:10:06.189Z"
   },
   {
    "duration": 530,
    "start_time": "2022-03-07T16:10:23.933Z"
   },
   {
    "duration": 570,
    "start_time": "2022-03-07T16:10:30.621Z"
   },
   {
    "duration": 21,
    "start_time": "2022-03-07T17:27:16.987Z"
   },
   {
    "duration": 21,
    "start_time": "2022-03-07T17:28:47.773Z"
   },
   {
    "duration": 24,
    "start_time": "2022-03-07T17:39:00.582Z"
   },
   {
    "duration": 23,
    "start_time": "2022-03-07T17:39:12.310Z"
   },
   {
    "duration": 23,
    "start_time": "2022-03-07T17:39:54.255Z"
   },
   {
    "duration": 23,
    "start_time": "2022-03-07T17:40:19.305Z"
   },
   {
    "duration": 15,
    "start_time": "2022-03-07T17:51:32.001Z"
   },
   {
    "duration": 24,
    "start_time": "2022-03-07T17:51:43.343Z"
   },
   {
    "duration": 437,
    "start_time": "2022-03-07T17:55:33.278Z"
   },
   {
    "duration": 11,
    "start_time": "2022-03-07T17:56:01.840Z"
   },
   {
    "duration": 19,
    "start_time": "2022-03-07T17:56:26.714Z"
   },
   {
    "duration": 151,
    "start_time": "2022-03-07T17:56:42.552Z"
   },
   {
    "duration": 149,
    "start_time": "2022-03-07T17:57:05.631Z"
   },
   {
    "duration": 418,
    "start_time": "2022-03-07T17:58:22.177Z"
   },
   {
    "duration": 19,
    "start_time": "2022-03-07T17:58:33.814Z"
   },
   {
    "duration": 15,
    "start_time": "2022-03-07T18:00:06.199Z"
   },
   {
    "duration": 13,
    "start_time": "2022-03-07T18:00:30.718Z"
   },
   {
    "duration": 17,
    "start_time": "2022-03-07T18:01:20.041Z"
   },
   {
    "duration": 1131,
    "start_time": "2022-03-07T18:01:28.135Z"
   },
   {
    "duration": 55,
    "start_time": "2022-03-07T18:01:29.269Z"
   },
   {
    "duration": 14,
    "start_time": "2022-03-07T18:01:29.327Z"
   },
   {
    "duration": 13,
    "start_time": "2022-03-07T18:01:29.344Z"
   },
   {
    "duration": 12,
    "start_time": "2022-03-07T18:01:29.377Z"
   },
   {
    "duration": 15,
    "start_time": "2022-03-07T18:01:29.392Z"
   },
   {
    "duration": 13,
    "start_time": "2022-03-07T18:01:29.409Z"
   },
   {
    "duration": 3,
    "start_time": "2022-03-07T18:01:29.425Z"
   },
   {
    "duration": 12,
    "start_time": "2022-03-07T18:01:29.430Z"
   },
   {
    "duration": 36,
    "start_time": "2022-03-07T18:01:29.444Z"
   },
   {
    "duration": 6,
    "start_time": "2022-03-07T18:01:29.482Z"
   },
   {
    "duration": 13,
    "start_time": "2022-03-07T18:01:29.490Z"
   },
   {
    "duration": 22,
    "start_time": "2022-03-07T18:01:29.504Z"
   },
   {
    "duration": 17,
    "start_time": "2022-03-07T18:01:29.528Z"
   },
   {
    "duration": 45,
    "start_time": "2022-03-07T18:01:29.547Z"
   },
   {
    "duration": 23,
    "start_time": "2022-03-07T18:01:29.594Z"
   },
   {
    "duration": 261,
    "start_time": "2022-03-07T18:01:29.619Z"
   },
   {
    "duration": 583,
    "start_time": "2022-03-07T18:01:29.882Z"
   },
   {
    "duration": 17,
    "start_time": "2022-03-07T18:01:30.468Z"
   },
   {
    "duration": 126,
    "start_time": "2022-03-07T18:01:30.487Z"
   },
   {
    "duration": 17,
    "start_time": "2022-03-07T18:01:30.615Z"
   },
   {
    "duration": 63,
    "start_time": "2022-03-07T18:01:30.634Z"
   },
   {
    "duration": 4,
    "start_time": "2022-03-07T18:01:30.701Z"
   },
   {
    "duration": 847,
    "start_time": "2022-03-07T18:01:30.708Z"
   },
   {
    "duration": 539,
    "start_time": "2022-03-07T18:01:31.557Z"
   },
   {
    "duration": 551,
    "start_time": "2022-03-07T18:01:32.097Z"
   },
   {
    "duration": 43,
    "start_time": "2022-03-07T18:01:32.650Z"
   },
   {
    "duration": 23,
    "start_time": "2022-03-07T18:01:32.695Z"
   },
   {
    "duration": 158,
    "start_time": "2022-03-07T18:02:34.864Z"
   },
   {
    "duration": 26,
    "start_time": "2022-03-07T18:05:12.186Z"
   },
   {
    "duration": 292,
    "start_time": "2022-03-07T18:07:10.116Z"
   },
   {
    "duration": 293,
    "start_time": "2022-03-07T18:07:35.905Z"
   },
   {
    "duration": 150,
    "start_time": "2022-03-07T18:09:31.986Z"
   },
   {
    "duration": 409,
    "start_time": "2022-03-07T18:10:02.646Z"
   },
   {
    "duration": 26,
    "start_time": "2022-03-07T18:10:32.595Z"
   },
   {
    "duration": 24,
    "start_time": "2022-03-07T18:11:17.084Z"
   },
   {
    "duration": 23,
    "start_time": "2022-03-07T18:11:39.550Z"
   },
   {
    "duration": 695,
    "start_time": "2022-03-07T18:12:47.183Z"
   },
   {
    "duration": 490,
    "start_time": "2022-03-07T18:13:04.672Z"
   },
   {
    "duration": 419,
    "start_time": "2022-03-07T18:16:18.406Z"
   },
   {
    "duration": 1988,
    "start_time": "2022-03-07T18:16:42.572Z"
   },
   {
    "duration": 398,
    "start_time": "2022-03-07T18:16:49.090Z"
   },
   {
    "duration": 482,
    "start_time": "2022-03-07T18:19:24.302Z"
   },
   {
    "duration": 396,
    "start_time": "2022-03-07T18:20:50.498Z"
   },
   {
    "duration": 398,
    "start_time": "2022-03-07T18:22:02.802Z"
   },
   {
    "duration": 401,
    "start_time": "2022-03-07T18:22:09.816Z"
   },
   {
    "duration": 23,
    "start_time": "2022-03-07T18:22:10.219Z"
   },
   {
    "duration": 406,
    "start_time": "2022-03-07T18:22:54.010Z"
   },
   {
    "duration": 411,
    "start_time": "2022-03-07T18:23:02.997Z"
   },
   {
    "duration": 480,
    "start_time": "2022-03-07T18:23:11.831Z"
   },
   {
    "duration": 387,
    "start_time": "2022-03-07T18:23:38.475Z"
   },
   {
    "duration": 429,
    "start_time": "2022-03-07T18:23:48.178Z"
   },
   {
    "duration": 404,
    "start_time": "2022-03-07T18:24:01.212Z"
   },
   {
    "duration": 402,
    "start_time": "2022-03-07T18:40:33.864Z"
   },
   {
    "duration": 477,
    "start_time": "2022-03-07T18:41:10.974Z"
   },
   {
    "duration": 399,
    "start_time": "2022-03-07T18:41:28.839Z"
   },
   {
    "duration": 434,
    "start_time": "2022-03-07T18:42:51.760Z"
   },
   {
    "duration": 407,
    "start_time": "2022-03-07T18:43:09.089Z"
   },
   {
    "duration": 410,
    "start_time": "2022-03-07T18:47:04.083Z"
   },
   {
    "duration": 409,
    "start_time": "2022-03-07T18:47:44.042Z"
   },
   {
    "duration": 520,
    "start_time": "2022-03-07T18:47:59.951Z"
   },
   {
    "duration": 408,
    "start_time": "2022-03-07T18:48:17.031Z"
   },
   {
    "duration": 393,
    "start_time": "2022-03-07T19:07:28.105Z"
   },
   {
    "duration": 382,
    "start_time": "2022-03-07T19:11:03.766Z"
   },
   {
    "duration": 409,
    "start_time": "2022-03-07T19:11:12.881Z"
   },
   {
    "duration": 499,
    "start_time": "2022-03-07T19:13:11.874Z"
   },
   {
    "duration": 382,
    "start_time": "2022-03-07T19:13:27.094Z"
   },
   {
    "duration": 413,
    "start_time": "2022-03-07T19:13:40.007Z"
   },
   {
    "duration": 403,
    "start_time": "2022-03-07T19:13:49.231Z"
   },
   {
    "duration": 403,
    "start_time": "2022-03-07T19:14:41.745Z"
   },
   {
    "duration": 421,
    "start_time": "2022-03-07T19:15:41.936Z"
   },
   {
    "duration": 509,
    "start_time": "2022-03-07T19:16:18.606Z"
   },
   {
    "duration": 92,
    "start_time": "2022-03-07T19:18:29.755Z"
   },
   {
    "duration": 15,
    "start_time": "2022-03-07T19:18:36.729Z"
   },
   {
    "duration": 42,
    "start_time": "2022-03-07T19:19:27.791Z"
   },
   {
    "duration": 575,
    "start_time": "2022-03-07T19:20:08.076Z"
   },
   {
    "duration": 298,
    "start_time": "2022-03-07T19:20:35.938Z"
   },
   {
    "duration": 14,
    "start_time": "2022-03-07T19:23:31.864Z"
   },
   {
    "duration": 14,
    "start_time": "2022-03-07T19:23:40.613Z"
   },
   {
    "duration": 14,
    "start_time": "2022-03-07T19:23:43.793Z"
   },
   {
    "duration": 52,
    "start_time": "2022-03-07T19:24:50.179Z"
   },
   {
    "duration": 45,
    "start_time": "2022-03-07T19:25:17.881Z"
   },
   {
    "duration": -115,
    "start_time": "2022-03-07T19:26:30.175Z"
   },
   {
    "duration": 1210,
    "start_time": "2022-03-07T19:26:39.446Z"
   },
   {
    "duration": 53,
    "start_time": "2022-03-07T19:26:40.658Z"
   },
   {
    "duration": 6539,
    "start_time": "2022-03-07T19:26:40.713Z"
   },
   {
    "duration": -6,
    "start_time": "2022-03-07T19:26:47.261Z"
   },
   {
    "duration": -10,
    "start_time": "2022-03-07T19:26:47.267Z"
   },
   {
    "duration": -13,
    "start_time": "2022-03-07T19:26:47.271Z"
   },
   {
    "duration": -15,
    "start_time": "2022-03-07T19:26:47.275Z"
   },
   {
    "duration": -17,
    "start_time": "2022-03-07T19:26:47.278Z"
   },
   {
    "duration": -19,
    "start_time": "2022-03-07T19:26:47.282Z"
   },
   {
    "duration": -21,
    "start_time": "2022-03-07T19:26:47.285Z"
   },
   {
    "duration": -22,
    "start_time": "2022-03-07T19:26:47.288Z"
   },
   {
    "duration": -23,
    "start_time": "2022-03-07T19:26:47.290Z"
   },
   {
    "duration": -27,
    "start_time": "2022-03-07T19:26:47.296Z"
   },
   {
    "duration": -30,
    "start_time": "2022-03-07T19:26:47.300Z"
   },
   {
    "duration": -33,
    "start_time": "2022-03-07T19:26:47.305Z"
   },
   {
    "duration": -34,
    "start_time": "2022-03-07T19:26:47.308Z"
   },
   {
    "duration": -38,
    "start_time": "2022-03-07T19:26:47.313Z"
   },
   {
    "duration": -40,
    "start_time": "2022-03-07T19:26:47.317Z"
   },
   {
    "duration": -42,
    "start_time": "2022-03-07T19:26:47.320Z"
   },
   {
    "duration": -43,
    "start_time": "2022-03-07T19:26:47.323Z"
   },
   {
    "duration": -44,
    "start_time": "2022-03-07T19:26:47.325Z"
   },
   {
    "duration": -45,
    "start_time": "2022-03-07T19:26:47.328Z"
   },
   {
    "duration": -47,
    "start_time": "2022-03-07T19:26:47.331Z"
   },
   {
    "duration": -47,
    "start_time": "2022-03-07T19:26:47.333Z"
   },
   {
    "duration": -48,
    "start_time": "2022-03-07T19:26:47.335Z"
   },
   {
    "duration": -49,
    "start_time": "2022-03-07T19:26:47.338Z"
   },
   {
    "duration": -50,
    "start_time": "2022-03-07T19:26:47.340Z"
   },
   {
    "duration": -51,
    "start_time": "2022-03-07T19:26:47.343Z"
   },
   {
    "duration": -63,
    "start_time": "2022-03-07T19:26:47.357Z"
   },
   {
    "duration": -66,
    "start_time": "2022-03-07T19:26:47.361Z"
   },
   {
    "duration": 24,
    "start_time": "2022-03-07T19:28:18.413Z"
   },
   {
    "duration": 25,
    "start_time": "2022-03-07T19:28:24.899Z"
   },
   {
    "duration": 29,
    "start_time": "2022-03-07T19:28:50.610Z"
   },
   {
    "duration": 1224,
    "start_time": "2022-03-07T19:29:29.650Z"
   },
   {
    "duration": 55,
    "start_time": "2022-03-07T19:29:30.877Z"
   },
   {
    "duration": 14,
    "start_time": "2022-03-07T19:29:30.934Z"
   },
   {
    "duration": 24,
    "start_time": "2022-03-07T19:29:30.950Z"
   },
   {
    "duration": 11,
    "start_time": "2022-03-07T19:29:30.977Z"
   },
   {
    "duration": 20,
    "start_time": "2022-03-07T19:29:30.990Z"
   },
   {
    "duration": 17,
    "start_time": "2022-03-07T19:29:31.012Z"
   },
   {
    "duration": 8,
    "start_time": "2022-03-07T19:29:31.032Z"
   },
   {
    "duration": 21,
    "start_time": "2022-03-07T19:29:31.042Z"
   },
   {
    "duration": 17,
    "start_time": "2022-03-07T19:29:31.065Z"
   },
   {
    "duration": 10,
    "start_time": "2022-03-07T19:29:31.084Z"
   },
   {
    "duration": 13,
    "start_time": "2022-03-07T19:29:31.096Z"
   },
   {
    "duration": 27,
    "start_time": "2022-03-07T19:29:31.111Z"
   },
   {
    "duration": 16,
    "start_time": "2022-03-07T19:29:31.140Z"
   },
   {
    "duration": 30,
    "start_time": "2022-03-07T19:29:31.158Z"
   },
   {
    "duration": 23,
    "start_time": "2022-03-07T19:29:31.190Z"
   },
   {
    "duration": 253,
    "start_time": "2022-03-07T19:29:31.215Z"
   },
   {
    "duration": 599,
    "start_time": "2022-03-07T19:29:31.470Z"
   },
   {
    "duration": 8,
    "start_time": "2022-03-07T19:29:32.076Z"
   },
   {
    "duration": 108,
    "start_time": "2022-03-07T19:29:32.086Z"
   },
   {
    "duration": 30,
    "start_time": "2022-03-07T19:29:32.195Z"
   },
   {
    "duration": 4,
    "start_time": "2022-03-07T19:29:32.226Z"
   },
   {
    "duration": 770,
    "start_time": "2022-03-07T19:29:32.233Z"
   },
   {
    "duration": 508,
    "start_time": "2022-03-07T19:29:33.005Z"
   },
   {
    "duration": 500,
    "start_time": "2022-03-07T19:29:33.515Z"
   },
   {
    "duration": 23,
    "start_time": "2022-03-07T19:29:34.017Z"
   },
   {
    "duration": 174,
    "start_time": "2022-03-07T19:29:34.041Z"
   },
   {
    "duration": 434,
    "start_time": "2022-03-07T19:29:34.217Z"
   },
   {
    "duration": 25,
    "start_time": "2022-03-07T19:29:34.653Z"
   },
   {
    "duration": 400,
    "start_time": "2022-03-07T20:12:20.622Z"
   },
   {
    "duration": 417,
    "start_time": "2022-03-07T20:13:15.380Z"
   },
   {
    "duration": 6774,
    "start_time": "2022-03-07T20:20:39.443Z"
   },
   {
    "duration": 17,
    "start_time": "2022-03-07T20:21:14.340Z"
   },
   {
    "duration": 1210,
    "start_time": "2022-03-07T20:22:08.441Z"
   },
   {
    "duration": 53,
    "start_time": "2022-03-07T20:22:09.653Z"
   },
   {
    "duration": 14,
    "start_time": "2022-03-07T20:22:09.708Z"
   },
   {
    "duration": 13,
    "start_time": "2022-03-07T20:22:09.724Z"
   },
   {
    "duration": 10,
    "start_time": "2022-03-07T20:22:09.738Z"
   },
   {
    "duration": 42,
    "start_time": "2022-03-07T20:22:09.749Z"
   },
   {
    "duration": 10,
    "start_time": "2022-03-07T20:22:09.793Z"
   },
   {
    "duration": 18,
    "start_time": "2022-03-07T20:22:09.806Z"
   },
   {
    "duration": 8,
    "start_time": "2022-03-07T20:22:09.826Z"
   },
   {
    "duration": 42,
    "start_time": "2022-03-07T20:22:09.835Z"
   },
   {
    "duration": 9,
    "start_time": "2022-03-07T20:22:09.879Z"
   },
   {
    "duration": 11,
    "start_time": "2022-03-07T20:22:09.889Z"
   },
   {
    "duration": 14,
    "start_time": "2022-03-07T20:22:09.902Z"
   },
   {
    "duration": 16,
    "start_time": "2022-03-07T20:22:09.917Z"
   },
   {
    "duration": 57,
    "start_time": "2022-03-07T20:22:09.934Z"
   },
   {
    "duration": 24,
    "start_time": "2022-03-07T20:22:09.993Z"
   },
   {
    "duration": 269,
    "start_time": "2022-03-07T20:22:10.018Z"
   },
   {
    "duration": 598,
    "start_time": "2022-03-07T20:22:10.289Z"
   },
   {
    "duration": 11,
    "start_time": "2022-03-07T20:22:10.890Z"
   },
   {
    "duration": 131,
    "start_time": "2022-03-07T20:22:10.903Z"
   },
   {
    "duration": 65,
    "start_time": "2022-03-07T20:22:11.036Z"
   },
   {
    "duration": 5,
    "start_time": "2022-03-07T20:22:11.103Z"
   },
   {
    "duration": 912,
    "start_time": "2022-03-07T20:22:11.110Z"
   },
   {
    "duration": 485,
    "start_time": "2022-03-07T20:22:12.025Z"
   },
   {
    "duration": 559,
    "start_time": "2022-03-07T20:22:12.512Z"
   },
   {
    "duration": 29,
    "start_time": "2022-03-07T20:22:13.079Z"
   },
   {
    "duration": 219,
    "start_time": "2022-03-07T20:22:13.111Z"
   },
   {
    "duration": 421,
    "start_time": "2022-03-07T20:22:13.332Z"
   },
   {
    "duration": 25,
    "start_time": "2022-03-07T20:22:13.755Z"
   },
   {
    "duration": 23,
    "start_time": "2022-03-07T20:33:59.158Z"
   },
   {
    "duration": 23,
    "start_time": "2022-03-07T20:34:30.928Z"
   },
   {
    "duration": 23,
    "start_time": "2022-03-07T20:35:25.902Z"
   },
   {
    "duration": 33,
    "start_time": "2022-03-07T20:35:36.302Z"
   },
   {
    "duration": 31,
    "start_time": "2022-03-07T20:36:18.547Z"
   },
   {
    "duration": 33,
    "start_time": "2022-03-07T20:36:44.803Z"
   },
   {
    "duration": 32,
    "start_time": "2022-03-07T20:37:05.488Z"
   },
   {
    "duration": 30,
    "start_time": "2022-03-07T20:37:57.426Z"
   },
   {
    "duration": 9,
    "start_time": "2022-03-07T20:38:53.072Z"
   },
   {
    "duration": 9,
    "start_time": "2022-03-07T20:39:35.118Z"
   },
   {
    "duration": 10,
    "start_time": "2022-03-07T20:39:55.054Z"
   },
   {
    "duration": 10,
    "start_time": "2022-03-07T20:40:06.837Z"
   },
   {
    "duration": 9,
    "start_time": "2022-03-07T20:40:23.493Z"
   },
   {
    "duration": 10,
    "start_time": "2022-03-07T20:43:10.702Z"
   },
   {
    "duration": 11,
    "start_time": "2022-03-07T20:43:20.270Z"
   },
   {
    "duration": 11,
    "start_time": "2022-03-07T20:43:38.910Z"
   },
   {
    "duration": 462,
    "start_time": "2022-03-07T20:45:17.136Z"
   },
   {
    "duration": 353,
    "start_time": "2022-03-07T20:46:06.554Z"
   },
   {
    "duration": 81,
    "start_time": "2022-03-07T20:46:38.390Z"
   },
   {
    "duration": 96,
    "start_time": "2022-03-07T20:46:46.817Z"
   },
   {
    "duration": 88,
    "start_time": "2022-03-07T20:47:00.289Z"
   },
   {
    "duration": 89,
    "start_time": "2022-03-07T20:47:19.246Z"
   },
   {
    "duration": 87,
    "start_time": "2022-03-07T20:47:47.037Z"
   },
   {
    "duration": 10,
    "start_time": "2022-03-07T20:48:00.510Z"
   },
   {
    "duration": 356,
    "start_time": "2022-03-07T20:48:07.486Z"
   },
   {
    "duration": 418,
    "start_time": "2022-03-07T20:49:54.138Z"
   },
   {
    "duration": 309,
    "start_time": "2022-03-07T20:51:22.815Z"
   },
   {
    "duration": 364,
    "start_time": "2022-03-07T20:54:53.496Z"
   },
   {
    "duration": 335,
    "start_time": "2022-03-07T20:55:18.495Z"
   },
   {
    "duration": 334,
    "start_time": "2022-03-07T20:56:39.129Z"
   },
   {
    "duration": 354,
    "start_time": "2022-03-07T20:57:09.177Z"
   },
   {
    "duration": 13,
    "start_time": "2022-03-07T21:06:29.964Z"
   },
   {
    "duration": 14,
    "start_time": "2022-03-07T21:08:19.714Z"
   },
   {
    "duration": 380,
    "start_time": "2022-03-07T21:10:01.932Z"
   },
   {
    "duration": 327,
    "start_time": "2022-03-07T21:14:51.612Z"
   },
   {
    "duration": 337,
    "start_time": "2022-03-07T21:15:09.230Z"
   },
   {
    "duration": 368,
    "start_time": "2022-03-07T21:16:04.084Z"
   },
   {
    "duration": 373,
    "start_time": "2022-03-07T21:16:25.260Z"
   },
   {
    "duration": 439,
    "start_time": "2022-03-07T21:17:49.181Z"
   },
   {
    "duration": 340,
    "start_time": "2022-03-07T21:18:50.993Z"
   },
   {
    "duration": 377,
    "start_time": "2022-03-07T21:19:33.646Z"
   },
   {
    "duration": 11,
    "start_time": "2022-03-07T21:19:45.136Z"
   },
   {
    "duration": 11,
    "start_time": "2022-03-07T21:20:45.688Z"
   },
   {
    "duration": 1268,
    "start_time": "2022-03-07T21:20:59.816Z"
   },
   {
    "duration": 59,
    "start_time": "2022-03-07T21:21:01.086Z"
   },
   {
    "duration": 15,
    "start_time": "2022-03-07T21:21:01.148Z"
   },
   {
    "duration": 20,
    "start_time": "2022-03-07T21:21:01.166Z"
   },
   {
    "duration": 23,
    "start_time": "2022-03-07T21:21:01.188Z"
   },
   {
    "duration": 26,
    "start_time": "2022-03-07T21:21:01.213Z"
   },
   {
    "duration": 20,
    "start_time": "2022-03-07T21:21:01.241Z"
   },
   {
    "duration": 24,
    "start_time": "2022-03-07T21:21:01.265Z"
   },
   {
    "duration": 12,
    "start_time": "2022-03-07T21:21:01.292Z"
   },
   {
    "duration": 17,
    "start_time": "2022-03-07T21:21:01.306Z"
   },
   {
    "duration": 17,
    "start_time": "2022-03-07T21:21:01.325Z"
   },
   {
    "duration": 25,
    "start_time": "2022-03-07T21:21:01.346Z"
   },
   {
    "duration": 30,
    "start_time": "2022-03-07T21:21:01.373Z"
   },
   {
    "duration": 17,
    "start_time": "2022-03-07T21:21:01.406Z"
   },
   {
    "duration": 19,
    "start_time": "2022-03-07T21:21:01.425Z"
   },
   {
    "duration": 50,
    "start_time": "2022-03-07T21:21:01.447Z"
   },
   {
    "duration": 260,
    "start_time": "2022-03-07T21:21:01.499Z"
   },
   {
    "duration": 703,
    "start_time": "2022-03-07T21:21:01.761Z"
   },
   {
    "duration": 18,
    "start_time": "2022-03-07T21:21:02.466Z"
   },
   {
    "duration": 136,
    "start_time": "2022-03-07T21:21:02.486Z"
   },
   {
    "duration": 58,
    "start_time": "2022-03-07T21:21:02.625Z"
   },
   {
    "duration": 3,
    "start_time": "2022-03-07T21:21:02.685Z"
   },
   {
    "duration": 784,
    "start_time": "2022-03-07T21:21:02.692Z"
   },
   {
    "duration": 555,
    "start_time": "2022-03-07T21:21:03.478Z"
   },
   {
    "duration": 525,
    "start_time": "2022-03-07T21:21:04.035Z"
   },
   {
    "duration": 35,
    "start_time": "2022-03-07T21:21:04.563Z"
   },
   {
    "duration": 427,
    "start_time": "2022-03-07T21:21:04.600Z"
   },
   {
    "duration": 18,
    "start_time": "2022-03-07T21:21:05.030Z"
   },
   {
    "duration": 432,
    "start_time": "2022-03-07T21:21:05.050Z"
   },
   {
    "duration": 362,
    "start_time": "2022-03-07T21:21:05.484Z"
   },
   {
    "duration": 402,
    "start_time": "2022-03-07T21:21:05.849Z"
   },
   {
    "duration": 372,
    "start_time": "2022-03-07T21:21:06.253Z"
   },
   {
    "duration": 334,
    "start_time": "2022-03-07T21:21:06.627Z"
   },
   {
    "duration": 15,
    "start_time": "2022-03-07T21:21:06.963Z"
   },
   {
    "duration": 12,
    "start_time": "2022-03-07T21:21:23.740Z"
   },
   {
    "duration": 6,
    "start_time": "2022-03-07T21:22:00.503Z"
   },
   {
    "duration": 453,
    "start_time": "2022-03-07T21:22:54.185Z"
   },
   {
    "duration": 364,
    "start_time": "2022-03-07T21:23:32.881Z"
   },
   {
    "duration": 381,
    "start_time": "2022-03-07T21:24:12.350Z"
   },
   {
    "duration": 341,
    "start_time": "2022-03-07T21:24:52.592Z"
   },
   {
    "duration": 319,
    "start_time": "2022-03-07T21:26:18.726Z"
   },
   {
    "duration": 18,
    "start_time": "2022-03-07T21:37:06.911Z"
   },
   {
    "duration": 14,
    "start_time": "2022-03-07T21:37:18.547Z"
   },
   {
    "duration": 15,
    "start_time": "2022-03-07T21:37:29.367Z"
   },
   {
    "duration": 21,
    "start_time": "2022-03-07T21:37:45.832Z"
   },
   {
    "duration": 19,
    "start_time": "2022-03-07T21:37:53.801Z"
   },
   {
    "duration": 21,
    "start_time": "2022-03-07T21:40:59.073Z"
   },
   {
    "duration": 279,
    "start_time": "2022-03-07T21:45:39.426Z"
   },
   {
    "duration": 291,
    "start_time": "2022-03-07T21:45:46.323Z"
   },
   {
    "duration": 254,
    "start_time": "2022-03-07T21:47:31.346Z"
   },
   {
    "duration": 2,
    "start_time": "2022-03-07T21:51:58.683Z"
   },
   {
    "duration": 5,
    "start_time": "2022-03-07T21:52:21.642Z"
   },
   {
    "duration": 262,
    "start_time": "2022-03-07T21:52:52.771Z"
   },
   {
    "duration": 427,
    "start_time": "2022-03-07T21:54:10.922Z"
   },
   {
    "duration": 655,
    "start_time": "2022-03-07T21:55:16.952Z"
   },
   {
    "duration": 3,
    "start_time": "2022-03-07T21:58:58.812Z"
   },
   {
    "duration": 62,
    "start_time": "2022-03-07T21:58:58.817Z"
   },
   {
    "duration": 13,
    "start_time": "2022-03-07T21:58:58.880Z"
   },
   {
    "duration": 20,
    "start_time": "2022-03-07T21:58:58.895Z"
   },
   {
    "duration": 10,
    "start_time": "2022-03-07T21:58:58.917Z"
   },
   {
    "duration": 16,
    "start_time": "2022-03-07T21:58:58.929Z"
   },
   {
    "duration": 32,
    "start_time": "2022-03-07T21:58:58.947Z"
   },
   {
    "duration": 2,
    "start_time": "2022-03-07T21:58:58.981Z"
   },
   {
    "duration": 10,
    "start_time": "2022-03-07T21:58:58.985Z"
   },
   {
    "duration": 6,
    "start_time": "2022-03-07T21:58:58.997Z"
   },
   {
    "duration": 9,
    "start_time": "2022-03-07T21:58:59.004Z"
   },
   {
    "duration": 12,
    "start_time": "2022-03-07T21:58:59.015Z"
   },
   {
    "duration": 18,
    "start_time": "2022-03-07T21:58:59.029Z"
   },
   {
    "duration": 34,
    "start_time": "2022-03-07T21:58:59.049Z"
   },
   {
    "duration": 14,
    "start_time": "2022-03-07T21:58:59.085Z"
   },
   {
    "duration": 31,
    "start_time": "2022-03-07T21:58:59.100Z"
   },
   {
    "duration": 221,
    "start_time": "2022-03-07T21:58:59.133Z"
   },
   {
    "duration": 237,
    "start_time": "2022-03-07T21:58:59.356Z"
   },
   {
    "duration": 6,
    "start_time": "2022-03-07T21:58:59.595Z"
   },
   {
    "duration": 105,
    "start_time": "2022-03-07T21:58:59.603Z"
   },
   {
    "duration": 29,
    "start_time": "2022-03-07T21:58:59.709Z"
   },
   {
    "duration": 4,
    "start_time": "2022-03-07T21:58:59.739Z"
   },
   {
    "duration": 744,
    "start_time": "2022-03-07T21:58:59.744Z"
   },
   {
    "duration": 453,
    "start_time": "2022-03-07T21:59:00.490Z"
   },
   {
    "duration": 604,
    "start_time": "2022-03-07T21:59:00.945Z"
   },
   {
    "duration": 36,
    "start_time": "2022-03-07T21:59:01.552Z"
   },
   {
    "duration": 432,
    "start_time": "2022-03-07T21:59:01.590Z"
   },
   {
    "duration": 14,
    "start_time": "2022-03-07T21:59:02.023Z"
   },
   {
    "duration": 417,
    "start_time": "2022-03-07T21:59:02.039Z"
   },
   {
    "duration": 367,
    "start_time": "2022-03-07T21:59:02.458Z"
   },
   {
    "duration": 334,
    "start_time": "2022-03-07T21:59:02.827Z"
   },
   {
    "duration": 361,
    "start_time": "2022-03-07T21:59:03.163Z"
   },
   {
    "duration": 334,
    "start_time": "2022-03-07T21:59:03.526Z"
   },
   {
    "duration": 356,
    "start_time": "2022-03-07T21:59:03.861Z"
   },
   {
    "duration": 270,
    "start_time": "2022-03-07T21:59:04.218Z"
   },
   {
    "duration": 17,
    "start_time": "2022-03-07T22:01:36.259Z"
   },
   {
    "duration": 1115,
    "start_time": "2022-03-07T22:01:51.136Z"
   },
   {
    "duration": 54,
    "start_time": "2022-03-07T22:01:52.253Z"
   },
   {
    "duration": 13,
    "start_time": "2022-03-07T22:01:52.309Z"
   },
   {
    "duration": 16,
    "start_time": "2022-03-07T22:01:52.324Z"
   },
   {
    "duration": 10,
    "start_time": "2022-03-07T22:01:52.342Z"
   },
   {
    "duration": 30,
    "start_time": "2022-03-07T22:01:52.354Z"
   },
   {
    "duration": 13,
    "start_time": "2022-03-07T22:01:52.386Z"
   },
   {
    "duration": 17,
    "start_time": "2022-03-07T22:01:52.401Z"
   },
   {
    "duration": 13,
    "start_time": "2022-03-07T22:01:52.420Z"
   },
   {
    "duration": 6,
    "start_time": "2022-03-07T22:01:52.435Z"
   },
   {
    "duration": 9,
    "start_time": "2022-03-07T22:01:52.443Z"
   },
   {
    "duration": 9,
    "start_time": "2022-03-07T22:01:52.477Z"
   },
   {
    "duration": 20,
    "start_time": "2022-03-07T22:01:52.488Z"
   },
   {
    "duration": 16,
    "start_time": "2022-03-07T22:01:52.509Z"
   },
   {
    "duration": 16,
    "start_time": "2022-03-07T22:01:52.527Z"
   },
   {
    "duration": 52,
    "start_time": "2022-03-07T22:01:52.545Z"
   },
   {
    "duration": 236,
    "start_time": "2022-03-07T22:01:52.599Z"
   },
   {
    "duration": 569,
    "start_time": "2022-03-07T22:01:52.837Z"
   },
   {
    "duration": 9,
    "start_time": "2022-03-07T22:01:53.408Z"
   },
   {
    "duration": 113,
    "start_time": "2022-03-07T22:01:53.419Z"
   },
   {
    "duration": 47,
    "start_time": "2022-03-07T22:01:53.533Z"
   },
   {
    "duration": 3,
    "start_time": "2022-03-07T22:01:53.582Z"
   },
   {
    "duration": 811,
    "start_time": "2022-03-07T22:01:53.587Z"
   },
   {
    "duration": 427,
    "start_time": "2022-03-07T22:01:54.400Z"
   },
   {
    "duration": 497,
    "start_time": "2022-03-07T22:01:54.829Z"
   },
   {
    "duration": 23,
    "start_time": "2022-03-07T22:01:55.328Z"
   },
   {
    "duration": 425,
    "start_time": "2022-03-07T22:01:55.354Z"
   },
   {
    "duration": 13,
    "start_time": "2022-03-07T22:01:55.781Z"
   },
   {
    "duration": 392,
    "start_time": "2022-03-07T22:01:55.796Z"
   },
   {
    "duration": 354,
    "start_time": "2022-03-07T22:01:56.190Z"
   },
   {
    "duration": 381,
    "start_time": "2022-03-07T22:01:56.547Z"
   },
   {
    "duration": 337,
    "start_time": "2022-03-07T22:01:56.930Z"
   },
   {
    "duration": 462,
    "start_time": "2022-03-07T22:01:57.268Z"
   },
   {
    "duration": 328,
    "start_time": "2022-03-07T22:01:57.732Z"
   },
   {
    "duration": 269,
    "start_time": "2022-03-07T22:01:58.062Z"
   },
   {
    "duration": 3,
    "start_time": "2022-03-07T22:03:15.365Z"
   },
   {
    "duration": 687,
    "start_time": "2022-03-07T22:04:38.547Z"
   },
   {
    "duration": 689,
    "start_time": "2022-03-07T22:06:01.808Z"
   },
   {
    "duration": 704,
    "start_time": "2022-03-07T22:06:21.502Z"
   },
   {
    "duration": 688,
    "start_time": "2022-03-07T22:07:56.124Z"
   },
   {
    "duration": 746,
    "start_time": "2022-03-07T22:08:23.880Z"
   },
   {
    "duration": 616,
    "start_time": "2022-03-07T22:09:45.716Z"
   },
   {
    "duration": 613,
    "start_time": "2022-03-07T22:10:32.626Z"
   },
   {
    "duration": 686,
    "start_time": "2022-03-07T22:11:11.132Z"
   },
   {
    "duration": 700,
    "start_time": "2022-03-07T22:11:59.148Z"
   },
   {
    "duration": 675,
    "start_time": "2022-03-07T22:12:21.575Z"
   },
   {
    "duration": 348,
    "start_time": "2022-03-07T22:12:54.099Z"
   },
   {
    "duration": 1201,
    "start_time": "2022-03-07T22:13:05.547Z"
   },
   {
    "duration": 56,
    "start_time": "2022-03-07T22:13:06.750Z"
   },
   {
    "duration": 16,
    "start_time": "2022-03-07T22:13:06.809Z"
   },
   {
    "duration": 21,
    "start_time": "2022-03-07T22:13:06.827Z"
   },
   {
    "duration": 14,
    "start_time": "2022-03-07T22:13:06.850Z"
   },
   {
    "duration": 23,
    "start_time": "2022-03-07T22:13:06.878Z"
   },
   {
    "duration": 12,
    "start_time": "2022-03-07T22:13:06.903Z"
   },
   {
    "duration": 12,
    "start_time": "2022-03-07T22:13:06.918Z"
   },
   {
    "duration": 33,
    "start_time": "2022-03-07T22:13:06.932Z"
   },
   {
    "duration": 8,
    "start_time": "2022-03-07T22:13:06.967Z"
   },
   {
    "duration": 25,
    "start_time": "2022-03-07T22:13:06.977Z"
   },
   {
    "duration": 21,
    "start_time": "2022-03-07T22:13:07.004Z"
   },
   {
    "duration": 14,
    "start_time": "2022-03-07T22:13:07.027Z"
   },
   {
    "duration": 18,
    "start_time": "2022-03-07T22:13:07.043Z"
   },
   {
    "duration": 23,
    "start_time": "2022-03-07T22:13:07.063Z"
   },
   {
    "duration": 24,
    "start_time": "2022-03-07T22:13:07.088Z"
   },
   {
    "duration": 240,
    "start_time": "2022-03-07T22:13:07.114Z"
   },
   {
    "duration": 574,
    "start_time": "2022-03-07T22:13:07.357Z"
   },
   {
    "duration": 11,
    "start_time": "2022-03-07T22:13:07.933Z"
   },
   {
    "duration": 135,
    "start_time": "2022-03-07T22:13:07.946Z"
   },
   {
    "duration": 34,
    "start_time": "2022-03-07T22:13:08.083Z"
   },
   {
    "duration": 4,
    "start_time": "2022-03-07T22:13:08.119Z"
   },
   {
    "duration": 736,
    "start_time": "2022-03-07T22:13:08.126Z"
   },
   {
    "duration": 490,
    "start_time": "2022-03-07T22:13:08.864Z"
   },
   {
    "duration": 501,
    "start_time": "2022-03-07T22:13:09.356Z"
   },
   {
    "duration": 31,
    "start_time": "2022-03-07T22:13:09.859Z"
   },
   {
    "duration": 403,
    "start_time": "2022-03-07T22:13:09.891Z"
   },
   {
    "duration": 14,
    "start_time": "2022-03-07T22:13:10.295Z"
   },
   {
    "duration": 746,
    "start_time": "2022-03-07T22:13:10.310Z"
   },
   {
    "duration": 693,
    "start_time": "2022-03-07T22:13:11.058Z"
   },
   {
    "duration": 774,
    "start_time": "2022-03-07T22:13:11.753Z"
   },
   {
    "duration": 264,
    "start_time": "2022-03-07T22:13:12.529Z"
   },
   {
    "duration": 1142,
    "start_time": "2022-03-07T22:20:57.003Z"
   },
   {
    "duration": 51,
    "start_time": "2022-03-07T22:20:58.147Z"
   },
   {
    "duration": 12,
    "start_time": "2022-03-07T22:20:58.200Z"
   },
   {
    "duration": 17,
    "start_time": "2022-03-07T22:20:58.214Z"
   },
   {
    "duration": 22,
    "start_time": "2022-03-07T22:20:58.233Z"
   },
   {
    "duration": 18,
    "start_time": "2022-03-07T22:20:58.257Z"
   },
   {
    "duration": 19,
    "start_time": "2022-03-07T22:20:58.277Z"
   },
   {
    "duration": 2,
    "start_time": "2022-03-07T22:20:58.299Z"
   },
   {
    "duration": 15,
    "start_time": "2022-03-07T22:20:58.303Z"
   },
   {
    "duration": 15,
    "start_time": "2022-03-07T22:20:58.320Z"
   },
   {
    "duration": 14,
    "start_time": "2022-03-07T22:20:58.336Z"
   },
   {
    "duration": 17,
    "start_time": "2022-03-07T22:20:58.352Z"
   },
   {
    "duration": 12,
    "start_time": "2022-03-07T22:20:58.371Z"
   },
   {
    "duration": 18,
    "start_time": "2022-03-07T22:20:58.385Z"
   },
   {
    "duration": 15,
    "start_time": "2022-03-07T22:20:58.405Z"
   },
   {
    "duration": 248,
    "start_time": "2022-03-07T22:20:58.421Z"
   },
   {
    "duration": 227,
    "start_time": "2022-03-07T22:20:58.671Z"
   },
   {
    "duration": 541,
    "start_time": "2022-03-07T22:20:58.900Z"
   },
   {
    "duration": 8,
    "start_time": "2022-03-07T22:20:59.443Z"
   },
   {
    "duration": 110,
    "start_time": "2022-03-07T22:20:59.452Z"
   },
   {
    "duration": 39,
    "start_time": "2022-03-07T22:20:59.564Z"
   },
   {
    "duration": 4,
    "start_time": "2022-03-07T22:20:59.604Z"
   },
   {
    "duration": 836,
    "start_time": "2022-03-07T22:20:59.611Z"
   },
   {
    "duration": 438,
    "start_time": "2022-03-07T22:21:00.448Z"
   },
   {
    "duration": 526,
    "start_time": "2022-03-07T22:21:00.889Z"
   },
   {
    "duration": 25,
    "start_time": "2022-03-07T22:21:01.417Z"
   },
   {
    "duration": 452,
    "start_time": "2022-03-07T22:21:01.444Z"
   },
   {
    "duration": 15,
    "start_time": "2022-03-07T22:21:01.898Z"
   },
   {
    "duration": 775,
    "start_time": "2022-03-07T22:21:01.915Z"
   },
   {
    "duration": 857,
    "start_time": "2022-03-07T22:21:02.692Z"
   },
   {
    "duration": 785,
    "start_time": "2022-03-07T22:21:03.551Z"
   },
   {
    "duration": 288,
    "start_time": "2022-03-07T22:21:04.338Z"
   },
   {
    "duration": 2,
    "start_time": "2022-03-07T22:23:52.317Z"
   },
   {
    "duration": 282,
    "start_time": "2022-03-08T09:39:01.462Z"
   },
   {
    "duration": 1166,
    "start_time": "2022-03-08T09:39:07.802Z"
   },
   {
    "duration": 47,
    "start_time": "2022-03-08T09:39:08.970Z"
   },
   {
    "duration": 13,
    "start_time": "2022-03-08T09:39:09.019Z"
   },
   {
    "duration": 14,
    "start_time": "2022-03-08T09:39:09.034Z"
   },
   {
    "duration": 11,
    "start_time": "2022-03-08T09:39:09.050Z"
   },
   {
    "duration": 38,
    "start_time": "2022-03-08T09:39:09.063Z"
   },
   {
    "duration": 9,
    "start_time": "2022-03-08T09:39:09.103Z"
   },
   {
    "duration": 9,
    "start_time": "2022-03-08T09:39:09.114Z"
   },
   {
    "duration": 10,
    "start_time": "2022-03-08T09:39:09.126Z"
   },
   {
    "duration": 10,
    "start_time": "2022-03-08T09:39:09.139Z"
   },
   {
    "duration": 8,
    "start_time": "2022-03-08T09:39:09.151Z"
   },
   {
    "duration": 15,
    "start_time": "2022-03-08T09:39:09.161Z"
   },
   {
    "duration": 34,
    "start_time": "2022-03-08T09:39:09.178Z"
   },
   {
    "duration": 16,
    "start_time": "2022-03-08T09:39:09.214Z"
   },
   {
    "duration": 15,
    "start_time": "2022-03-08T09:39:09.231Z"
   },
   {
    "duration": 243,
    "start_time": "2022-03-08T09:39:09.248Z"
   },
   {
    "duration": 9,
    "start_time": "2022-03-08T09:39:09.493Z"
   },
   {
    "duration": 18,
    "start_time": "2022-03-08T09:39:09.504Z"
   },
   {
    "duration": 101,
    "start_time": "2022-03-08T09:39:09.524Z"
   },
   {
    "duration": 36,
    "start_time": "2022-03-08T09:39:09.626Z"
   },
   {
    "duration": 5,
    "start_time": "2022-03-08T09:39:09.664Z"
   },
   {
    "duration": 687,
    "start_time": "2022-03-08T09:39:09.702Z"
   },
   {
    "duration": 395,
    "start_time": "2022-03-08T09:39:10.392Z"
   },
   {
    "duration": 535,
    "start_time": "2022-03-08T09:39:10.801Z"
   },
   {
    "duration": 26,
    "start_time": "2022-03-08T09:39:11.338Z"
   },
   {
    "duration": 389,
    "start_time": "2022-03-08T09:39:11.366Z"
   },
   {
    "duration": 14,
    "start_time": "2022-03-08T09:39:11.760Z"
   },
   {
    "duration": 668,
    "start_time": "2022-03-08T09:39:11.776Z"
   },
   {
    "duration": 670,
    "start_time": "2022-03-08T09:39:12.446Z"
   },
   {
    "duration": 691,
    "start_time": "2022-03-08T09:39:13.118Z"
   },
   {
    "duration": 258,
    "start_time": "2022-03-08T09:39:13.811Z"
   },
   {
    "duration": 326,
    "start_time": "2022-03-08T09:39:14.071Z"
   },
   {
    "duration": 24,
    "start_time": "2022-03-08T09:40:11.715Z"
   },
   {
    "duration": 78,
    "start_time": "2022-03-08T09:41:51.810Z"
   },
   {
    "duration": 14,
    "start_time": "2022-03-08T09:42:29.937Z"
   },
   {
    "duration": 5,
    "start_time": "2022-03-08T09:43:13.395Z"
   },
   {
    "duration": 7,
    "start_time": "2022-03-08T09:43:58.507Z"
   },
   {
    "duration": 287,
    "start_time": "2022-03-08T09:44:46.108Z"
   },
   {
    "duration": 1216,
    "start_time": "2022-03-08T09:44:59.561Z"
   },
   {
    "duration": 43,
    "start_time": "2022-03-08T09:45:00.780Z"
   },
   {
    "duration": 13,
    "start_time": "2022-03-08T09:45:00.826Z"
   },
   {
    "duration": 21,
    "start_time": "2022-03-08T09:45:00.841Z"
   },
   {
    "duration": 29,
    "start_time": "2022-03-08T09:45:00.864Z"
   },
   {
    "duration": 60,
    "start_time": "2022-03-08T09:45:00.895Z"
   },
   {
    "duration": 28,
    "start_time": "2022-03-08T09:45:00.957Z"
   },
   {
    "duration": 14,
    "start_time": "2022-03-08T09:45:00.987Z"
   },
   {
    "duration": 16,
    "start_time": "2022-03-08T09:45:01.005Z"
   },
   {
    "duration": 12,
    "start_time": "2022-03-08T09:45:01.023Z"
   },
   {
    "duration": 14,
    "start_time": "2022-03-08T09:45:01.037Z"
   },
   {
    "duration": 22,
    "start_time": "2022-03-08T09:45:01.053Z"
   },
   {
    "duration": 50,
    "start_time": "2022-03-08T09:45:01.079Z"
   },
   {
    "duration": 15,
    "start_time": "2022-03-08T09:45:01.131Z"
   },
   {
    "duration": 19,
    "start_time": "2022-03-08T09:45:01.149Z"
   },
   {
    "duration": 254,
    "start_time": "2022-03-08T09:45:01.171Z"
   },
   {
    "duration": 3,
    "start_time": "2022-03-08T09:45:01.427Z"
   },
   {
    "duration": 49,
    "start_time": "2022-03-08T09:45:01.433Z"
   },
   {
    "duration": 109,
    "start_time": "2022-03-08T09:45:01.485Z"
   },
   {
    "duration": 34,
    "start_time": "2022-03-08T09:45:01.601Z"
   },
   {
    "duration": 16,
    "start_time": "2022-03-08T09:45:01.637Z"
   },
   {
    "duration": 854,
    "start_time": "2022-03-08T09:45:01.655Z"
   },
   {
    "duration": 418,
    "start_time": "2022-03-08T09:45:02.511Z"
   },
   {
    "duration": 576,
    "start_time": "2022-03-08T09:45:02.931Z"
   },
   {
    "duration": 24,
    "start_time": "2022-03-08T09:45:03.509Z"
   },
   {
    "duration": 390,
    "start_time": "2022-03-08T09:45:03.535Z"
   },
   {
    "duration": 14,
    "start_time": "2022-03-08T09:45:03.928Z"
   },
   {
    "duration": 806,
    "start_time": "2022-03-08T09:45:03.944Z"
   },
   {
    "duration": 689,
    "start_time": "2022-03-08T09:45:04.752Z"
   },
   {
    "duration": 688,
    "start_time": "2022-03-08T09:45:05.443Z"
   },
   {
    "duration": 253,
    "start_time": "2022-03-08T09:45:06.133Z"
   },
   {
    "duration": 28,
    "start_time": "2022-03-08T09:45:06.388Z"
   },
   {
    "duration": 15,
    "start_time": "2022-03-08T09:45:06.418Z"
   },
   {
    "duration": 1402,
    "start_time": "2022-03-08T09:45:06.435Z"
   },
   {
    "duration": 13,
    "start_time": "2022-03-08T09:45:23.842Z"
   },
   {
    "duration": 609,
    "start_time": "2022-03-08T09:45:46.617Z"
   },
   {
    "duration": 8,
    "start_time": "2022-03-08T09:46:15.330Z"
   },
   {
    "duration": 8,
    "start_time": "2022-03-08T09:46:24.305Z"
   },
   {
    "duration": 7,
    "start_time": "2022-03-08T09:46:29.929Z"
   },
   {
    "duration": 1116,
    "start_time": "2022-03-08T09:46:43.755Z"
   },
   {
    "duration": 230,
    "start_time": "2022-03-08T09:49:18.540Z"
   },
   {
    "duration": 8,
    "start_time": "2022-03-08T09:49:40.364Z"
   },
   {
    "duration": 17,
    "start_time": "2022-03-08T09:50:04.980Z"
   },
   {
    "duration": 14,
    "start_time": "2022-03-08T09:50:41.116Z"
   },
   {
    "duration": 240,
    "start_time": "2022-03-08T09:50:55.892Z"
   },
   {
    "duration": 12,
    "start_time": "2022-03-08T09:51:17.201Z"
   },
   {
    "duration": 12,
    "start_time": "2022-03-08T09:53:02.470Z"
   },
   {
    "duration": 1140,
    "start_time": "2022-03-08T09:53:19.620Z"
   },
   {
    "duration": 12,
    "start_time": "2022-03-08T09:53:28.078Z"
   },
   {
    "duration": 7,
    "start_time": "2022-03-08T09:55:24.182Z"
   },
   {
    "duration": 10,
    "start_time": "2022-03-08T09:56:05.974Z"
   },
   {
    "duration": 237,
    "start_time": "2022-03-08T09:58:05.014Z"
   },
   {
    "duration": 5,
    "start_time": "2022-03-08T09:58:32.799Z"
   },
   {
    "duration": 8,
    "start_time": "2022-03-08T09:58:43.710Z"
   },
   {
    "duration": 251,
    "start_time": "2022-03-08T09:58:56.212Z"
   },
   {
    "duration": 1028,
    "start_time": "2022-03-08T09:59:07.311Z"
   },
   {
    "duration": 72,
    "start_time": "2022-03-08T10:03:43.354Z"
   },
   {
    "duration": 78,
    "start_time": "2022-03-08T10:03:55.633Z"
   },
   {
    "duration": 77,
    "start_time": "2022-03-08T10:04:09.465Z"
   },
   {
    "duration": 70,
    "start_time": "2022-03-08T10:04:23.122Z"
   },
   {
    "duration": 16,
    "start_time": "2022-03-08T10:05:26.329Z"
   },
   {
    "duration": 14,
    "start_time": "2022-03-08T10:05:37.538Z"
   },
   {
    "duration": 12,
    "start_time": "2022-03-08T10:05:47.792Z"
   },
   {
    "duration": 11,
    "start_time": "2022-03-08T10:05:58.957Z"
   },
   {
    "duration": 7,
    "start_time": "2022-03-08T10:11:26.498Z"
   },
   {
    "duration": 251,
    "start_time": "2022-03-08T10:12:14.070Z"
   },
   {
    "duration": 10,
    "start_time": "2022-03-08T10:12:37.763Z"
   },
   {
    "duration": 1088,
    "start_time": "2022-03-08T10:14:07.131Z"
   },
   {
    "duration": 1061,
    "start_time": "2022-03-08T10:14:22.659Z"
   },
   {
    "duration": 82,
    "start_time": "2022-03-08T10:16:15.271Z"
   },
   {
    "duration": 7,
    "start_time": "2022-03-08T10:16:43.919Z"
   },
   {
    "duration": 13,
    "start_time": "2022-03-08T10:16:58.375Z"
   },
   {
    "duration": 1212,
    "start_time": "2022-03-08T10:20:08.001Z"
   },
   {
    "duration": 1241,
    "start_time": "2022-03-08T10:21:39.199Z"
   },
   {
    "duration": 1073,
    "start_time": "2022-03-08T10:21:53.304Z"
   },
   {
    "duration": 12,
    "start_time": "2022-03-08T10:22:04.744Z"
   },
   {
    "duration": 9,
    "start_time": "2022-03-08T10:22:34.440Z"
   },
   {
    "duration": 10,
    "start_time": "2022-03-08T10:22:49.769Z"
   },
   {
    "duration": 1167,
    "start_time": "2022-03-08T10:23:06.904Z"
   },
   {
    "duration": 52,
    "start_time": "2022-03-08T10:23:08.073Z"
   },
   {
    "duration": 15,
    "start_time": "2022-03-08T10:23:08.128Z"
   },
   {
    "duration": 396,
    "start_time": "2022-03-08T10:23:08.145Z"
   },
   {
    "duration": 14,
    "start_time": "2022-03-08T10:23:08.543Z"
   },
   {
    "duration": 15,
    "start_time": "2022-03-08T10:23:08.558Z"
   },
   {
    "duration": 11,
    "start_time": "2022-03-08T10:23:08.574Z"
   },
   {
    "duration": 2,
    "start_time": "2022-03-08T10:23:08.587Z"
   },
   {
    "duration": 10,
    "start_time": "2022-03-08T10:23:08.592Z"
   },
   {
    "duration": 6,
    "start_time": "2022-03-08T10:23:08.604Z"
   },
   {
    "duration": 9,
    "start_time": "2022-03-08T10:23:08.611Z"
   },
   {
    "duration": 13,
    "start_time": "2022-03-08T10:23:08.622Z"
   },
   {
    "duration": 17,
    "start_time": "2022-03-08T10:23:08.637Z"
   },
   {
    "duration": 46,
    "start_time": "2022-03-08T10:23:08.656Z"
   },
   {
    "duration": 20,
    "start_time": "2022-03-08T10:23:08.704Z"
   },
   {
    "duration": 251,
    "start_time": "2022-03-08T10:23:08.726Z"
   },
   {
    "duration": 3,
    "start_time": "2022-03-08T10:23:08.979Z"
   },
   {
    "duration": 21,
    "start_time": "2022-03-08T10:23:08.984Z"
   },
   {
    "duration": 102,
    "start_time": "2022-03-08T10:23:09.007Z"
   },
   {
    "duration": 32,
    "start_time": "2022-03-08T10:23:09.110Z"
   },
   {
    "duration": 3,
    "start_time": "2022-03-08T10:23:09.144Z"
   },
   {
    "duration": 695,
    "start_time": "2022-03-08T10:23:09.149Z"
   },
   {
    "duration": 399,
    "start_time": "2022-03-08T10:23:09.846Z"
   },
   {
    "duration": 535,
    "start_time": "2022-03-08T10:23:10.247Z"
   },
   {
    "duration": 34,
    "start_time": "2022-03-08T10:23:10.784Z"
   },
   {
    "duration": 383,
    "start_time": "2022-03-08T10:23:10.820Z"
   },
   {
    "duration": 14,
    "start_time": "2022-03-08T10:23:11.207Z"
   },
   {
    "duration": 724,
    "start_time": "2022-03-08T10:23:11.223Z"
   },
   {
    "duration": 700,
    "start_time": "2022-03-08T10:23:11.950Z"
   },
   {
    "duration": 692,
    "start_time": "2022-03-08T10:23:12.652Z"
   },
   {
    "duration": 371,
    "start_time": "2022-03-08T10:23:13.346Z"
   },
   {
    "duration": 21,
    "start_time": "2022-03-08T10:23:13.719Z"
   },
   {
    "duration": 348,
    "start_time": "2022-03-08T10:23:13.743Z"
   },
   {
    "duration": 8,
    "start_time": "2022-03-08T10:23:37.299Z"
   },
   {
    "duration": 25,
    "start_time": "2022-03-08T10:23:42.437Z"
   },
   {
    "duration": 28,
    "start_time": "2022-03-08T10:24:46.284Z"
   },
   {
    "duration": 8,
    "start_time": "2022-03-08T10:25:22.191Z"
   },
   {
    "duration": 14,
    "start_time": "2022-03-08T10:25:30.760Z"
   },
   {
    "duration": 13,
    "start_time": "2022-03-08T10:25:40.293Z"
   },
   {
    "duration": 20,
    "start_time": "2022-03-08T10:27:08.285Z"
   },
   {
    "duration": 5547,
    "start_time": "2022-03-08T10:31:50.783Z"
   },
   {
    "duration": 19,
    "start_time": "2022-03-08T10:32:39.264Z"
   },
   {
    "duration": 20,
    "start_time": "2022-03-08T10:32:52.159Z"
   },
   {
    "duration": 16,
    "start_time": "2022-03-08T10:33:08.399Z"
   },
   {
    "duration": 16,
    "start_time": "2022-03-08T10:33:27.039Z"
   },
   {
    "duration": 19,
    "start_time": "2022-03-08T10:33:40.075Z"
   },
   {
    "duration": 17,
    "start_time": "2022-03-08T10:34:26.616Z"
   },
   {
    "duration": 36,
    "start_time": "2022-03-08T10:36:12.192Z"
   },
   {
    "duration": 39,
    "start_time": "2022-03-08T10:37:29.874Z"
   },
   {
    "duration": 233,
    "start_time": "2022-03-08T10:41:03.535Z"
   },
   {
    "duration": 24,
    "start_time": "2022-03-08T10:41:23.798Z"
   },
   {
    "duration": 13,
    "start_time": "2022-03-08T10:42:08.803Z"
   },
   {
    "duration": 247,
    "start_time": "2022-03-08T10:44:55.726Z"
   },
   {
    "duration": 383,
    "start_time": "2022-03-08T10:48:21.229Z"
   },
   {
    "duration": 367,
    "start_time": "2022-03-08T10:48:39.511Z"
   },
   {
    "duration": 414,
    "start_time": "2022-03-08T10:49:27.310Z"
   },
   {
    "duration": 395,
    "start_time": "2022-03-08T10:50:12.750Z"
   },
   {
    "duration": 25,
    "start_time": "2022-03-08T10:50:28.071Z"
   },
   {
    "duration": 15,
    "start_time": "2022-03-08T10:50:38.383Z"
   },
   {
    "duration": 77,
    "start_time": "2022-03-08T10:51:40.982Z"
   },
   {
    "duration": 388,
    "start_time": "2022-03-08T10:51:51.327Z"
   },
   {
    "duration": 401,
    "start_time": "2022-03-08T10:51:59.760Z"
   },
   {
    "duration": 364,
    "start_time": "2022-03-08T10:52:10.526Z"
   },
   {
    "duration": 392,
    "start_time": "2022-03-08T10:52:31.486Z"
   },
   {
    "duration": 6321,
    "start_time": "2022-03-08T10:55:20.730Z"
   },
   {
    "duration": 96,
    "start_time": "2022-03-08T10:55:45.741Z"
   },
   {
    "duration": 100,
    "start_time": "2022-03-08T10:55:58.325Z"
   },
   {
    "duration": 85,
    "start_time": "2022-03-08T10:56:11.985Z"
   },
   {
    "duration": 240,
    "start_time": "2022-03-08T10:59:19.770Z"
   },
   {
    "duration": 391,
    "start_time": "2022-03-08T10:59:33.151Z"
   },
   {
    "duration": 137,
    "start_time": "2022-03-08T11:03:06.208Z"
   },
   {
    "duration": 476,
    "start_time": "2022-03-08T11:03:08.515Z"
   },
   {
    "duration": 19,
    "start_time": "2022-03-08T11:04:03.314Z"
   },
   {
    "duration": 143,
    "start_time": "2022-03-08T11:05:24.707Z"
   },
   {
    "duration": 409,
    "start_time": "2022-03-08T11:05:29.970Z"
   },
   {
    "duration": 386,
    "start_time": "2022-03-08T11:09:04.165Z"
   },
   {
    "duration": 1133,
    "start_time": "2022-03-08T11:09:30.421Z"
   },
   {
    "duration": 1106,
    "start_time": "2022-03-08T11:13:33.757Z"
   },
   {
    "duration": 82,
    "start_time": "2022-03-08T11:18:41.218Z"
   },
   {
    "duration": 87,
    "start_time": "2022-03-08T11:18:49.912Z"
   },
   {
    "duration": 1156,
    "start_time": "2022-03-08T11:19:02.266Z"
   },
   {
    "duration": 1168,
    "start_time": "2022-03-08T11:24:01.499Z"
   },
   {
    "duration": 143,
    "start_time": "2022-03-08T11:24:09.059Z"
   },
   {
    "duration": 1195,
    "start_time": "2022-03-08T11:24:12.732Z"
   },
   {
    "duration": 14,
    "start_time": "2022-03-08T11:27:53.077Z"
   },
   {
    "duration": 14,
    "start_time": "2022-03-08T11:28:03.598Z"
   },
   {
    "duration": 40,
    "start_time": "2022-03-08T11:28:43.582Z"
   },
   {
    "duration": 36,
    "start_time": "2022-03-08T11:29:13.101Z"
   },
   {
    "duration": 36,
    "start_time": "2022-03-08T11:29:23.935Z"
   },
   {
    "duration": 41,
    "start_time": "2022-03-08T11:34:54.439Z"
   },
   {
    "duration": 34,
    "start_time": "2022-03-08T11:35:05.616Z"
   },
   {
    "duration": 19,
    "start_time": "2022-03-08T11:35:17.008Z"
   },
   {
    "duration": 21,
    "start_time": "2022-03-08T12:27:45.398Z"
   },
   {
    "duration": 260,
    "start_time": "2022-03-08T12:30:19.153Z"
   },
   {
    "duration": 23,
    "start_time": "2022-03-08T12:30:43.160Z"
   },
   {
    "duration": 224,
    "start_time": "2022-03-08T12:31:26.079Z"
   },
   {
    "duration": 314,
    "start_time": "2022-03-08T12:32:18.929Z"
   },
   {
    "duration": 311,
    "start_time": "2022-03-08T12:32:42.569Z"
   },
   {
    "duration": 259,
    "start_time": "2022-03-08T12:34:17.569Z"
   },
   {
    "duration": 27,
    "start_time": "2022-03-08T12:34:45.467Z"
   },
   {
    "duration": 27,
    "start_time": "2022-03-08T12:35:21.057Z"
   },
   {
    "duration": 27,
    "start_time": "2022-03-08T12:35:34.650Z"
   },
   {
    "duration": 25,
    "start_time": "2022-03-08T12:35:45.976Z"
   },
   {
    "duration": 250,
    "start_time": "2022-03-08T12:40:00.371Z"
   },
   {
    "duration": 4,
    "start_time": "2022-03-08T12:40:51.386Z"
   },
   {
    "duration": 8,
    "start_time": "2022-03-08T12:41:02.866Z"
   },
   {
    "duration": 27,
    "start_time": "2022-03-08T13:50:20.259Z"
   },
   {
    "duration": 25,
    "start_time": "2022-03-08T13:50:45.341Z"
   },
   {
    "duration": 26,
    "start_time": "2022-03-08T13:50:54.407Z"
   },
   {
    "duration": 23,
    "start_time": "2022-03-08T13:51:34.230Z"
   },
   {
    "duration": 9,
    "start_time": "2022-03-08T13:55:39.366Z"
   },
   {
    "duration": 9,
    "start_time": "2022-03-08T13:56:00.151Z"
   },
   {
    "duration": 38,
    "start_time": "2022-03-08T13:57:40.200Z"
   },
   {
    "duration": 23,
    "start_time": "2022-03-08T13:58:07.319Z"
   },
   {
    "duration": 5,
    "start_time": "2022-03-08T13:58:29.399Z"
   },
   {
    "duration": 25,
    "start_time": "2022-03-08T13:59:08.983Z"
   },
   {
    "duration": 8,
    "start_time": "2022-03-08T13:59:31.206Z"
   },
   {
    "duration": 6,
    "start_time": "2022-03-08T13:59:41.400Z"
   },
   {
    "duration": 7,
    "start_time": "2022-03-08T13:59:54.097Z"
   },
   {
    "duration": 9,
    "start_time": "2022-03-08T14:00:49.897Z"
   },
   {
    "duration": 9,
    "start_time": "2022-03-08T14:18:48.743Z"
   },
   {
    "duration": 8,
    "start_time": "2022-03-08T14:18:53.887Z"
   },
   {
    "duration": 1129,
    "start_time": "2022-03-08T14:19:05.647Z"
   },
   {
    "duration": 47,
    "start_time": "2022-03-08T14:19:06.778Z"
   },
   {
    "duration": 14,
    "start_time": "2022-03-08T14:19:06.830Z"
   },
   {
    "duration": 19,
    "start_time": "2022-03-08T14:19:06.846Z"
   },
   {
    "duration": 35,
    "start_time": "2022-03-08T14:19:06.867Z"
   },
   {
    "duration": 16,
    "start_time": "2022-03-08T14:19:06.904Z"
   },
   {
    "duration": 12,
    "start_time": "2022-03-08T14:19:06.924Z"
   },
   {
    "duration": 3,
    "start_time": "2022-03-08T14:19:06.938Z"
   },
   {
    "duration": 9,
    "start_time": "2022-03-08T14:19:06.944Z"
   },
   {
    "duration": 7,
    "start_time": "2022-03-08T14:19:06.955Z"
   },
   {
    "duration": 41,
    "start_time": "2022-03-08T14:19:06.964Z"
   },
   {
    "duration": 16,
    "start_time": "2022-03-08T14:19:07.007Z"
   },
   {
    "duration": 17,
    "start_time": "2022-03-08T14:19:07.026Z"
   },
   {
    "duration": 17,
    "start_time": "2022-03-08T14:19:07.045Z"
   },
   {
    "duration": 39,
    "start_time": "2022-03-08T14:19:07.064Z"
   },
   {
    "duration": 238,
    "start_time": "2022-03-08T14:19:07.105Z"
   },
   {
    "duration": 2,
    "start_time": "2022-03-08T14:19:07.345Z"
   },
   {
    "duration": 11,
    "start_time": "2022-03-08T14:19:07.349Z"
   },
   {
    "duration": 105,
    "start_time": "2022-03-08T14:19:07.362Z"
   },
   {
    "duration": 50,
    "start_time": "2022-03-08T14:19:07.469Z"
   },
   {
    "duration": 4,
    "start_time": "2022-03-08T14:19:07.521Z"
   },
   {
    "duration": 680,
    "start_time": "2022-03-08T14:19:07.529Z"
   },
   {
    "duration": 389,
    "start_time": "2022-03-08T14:19:08.212Z"
   },
   {
    "duration": 524,
    "start_time": "2022-03-08T14:19:08.603Z"
   },
   {
    "duration": 23,
    "start_time": "2022-03-08T14:19:09.129Z"
   },
   {
    "duration": 376,
    "start_time": "2022-03-08T14:19:09.154Z"
   },
   {
    "duration": 14,
    "start_time": "2022-03-08T14:19:09.532Z"
   },
   {
    "duration": 753,
    "start_time": "2022-03-08T14:19:09.548Z"
   },
   {
    "duration": 641,
    "start_time": "2022-03-08T14:19:10.303Z"
   },
   {
    "duration": 683,
    "start_time": "2022-03-08T14:19:10.946Z"
   },
   {
    "duration": 258,
    "start_time": "2022-03-08T14:19:11.631Z"
   },
   {
    "duration": 36,
    "start_time": "2022-03-08T14:19:11.891Z"
   },
   {
    "duration": 38,
    "start_time": "2022-03-08T14:19:11.928Z"
   },
   {
    "duration": 185,
    "start_time": "2022-03-08T14:19:11.968Z"
   },
   {
    "duration": 1211,
    "start_time": "2022-03-08T14:19:12.155Z"
   },
   {
    "duration": 20,
    "start_time": "2022-03-08T14:19:13.369Z"
   },
   {
    "duration": 26,
    "start_time": "2022-03-08T14:19:13.402Z"
   },
   {
    "duration": 23,
    "start_time": "2022-03-08T14:19:13.430Z"
   },
   {
    "duration": 33,
    "start_time": "2022-03-08T14:19:13.455Z"
   },
   {
    "duration": 17,
    "start_time": "2022-03-08T14:19:13.490Z"
   },
   {
    "duration": 10,
    "start_time": "2022-03-08T14:19:13.508Z"
   },
   {
    "duration": 9,
    "start_time": "2022-03-08T14:19:13.519Z"
   },
   {
    "duration": 9,
    "start_time": "2022-03-08T14:21:09.199Z"
   },
   {
    "duration": 8,
    "start_time": "2022-03-08T14:21:16.058Z"
   },
   {
    "duration": 6,
    "start_time": "2022-03-08T14:25:23.821Z"
   },
   {
    "duration": 7,
    "start_time": "2022-03-08T14:25:41.971Z"
   },
   {
    "duration": 21,
    "start_time": "2022-03-08T14:26:05.413Z"
   },
   {
    "duration": 5,
    "start_time": "2022-03-08T14:26:34.997Z"
   },
   {
    "duration": 4,
    "start_time": "2022-03-08T14:26:47.502Z"
   },
   {
    "duration": 5,
    "start_time": "2022-03-08T14:26:57.276Z"
   },
   {
    "duration": 7,
    "start_time": "2022-03-08T14:27:13.636Z"
   },
   {
    "duration": 7,
    "start_time": "2022-03-08T14:27:24.026Z"
   },
   {
    "duration": 7,
    "start_time": "2022-03-08T14:27:44.781Z"
   },
   {
    "duration": 7,
    "start_time": "2022-03-08T14:27:52.843Z"
   },
   {
    "duration": 10,
    "start_time": "2022-03-08T14:28:25.381Z"
   },
   {
    "duration": 1063,
    "start_time": "2022-03-08T21:52:50.341Z"
   },
   {
    "duration": 47,
    "start_time": "2022-03-08T21:52:51.406Z"
   },
   {
    "duration": 13,
    "start_time": "2022-03-08T21:52:51.455Z"
   },
   {
    "duration": 13,
    "start_time": "2022-03-08T21:52:51.471Z"
   },
   {
    "duration": 11,
    "start_time": "2022-03-08T21:52:51.501Z"
   },
   {
    "duration": 14,
    "start_time": "2022-03-08T21:52:51.514Z"
   },
   {
    "duration": 10,
    "start_time": "2022-03-08T21:52:51.531Z"
   },
   {
    "duration": 2,
    "start_time": "2022-03-08T21:52:51.544Z"
   },
   {
    "duration": 11,
    "start_time": "2022-03-08T21:52:51.549Z"
   },
   {
    "duration": 38,
    "start_time": "2022-03-08T21:52:51.563Z"
   },
   {
    "duration": 5,
    "start_time": "2022-03-08T21:52:51.604Z"
   },
   {
    "duration": 11,
    "start_time": "2022-03-08T21:52:51.611Z"
   },
   {
    "duration": 15,
    "start_time": "2022-03-08T21:52:51.624Z"
   },
   {
    "duration": 15,
    "start_time": "2022-03-08T21:52:51.641Z"
   },
   {
    "duration": 52,
    "start_time": "2022-03-08T21:52:51.658Z"
   },
   {
    "duration": 232,
    "start_time": "2022-03-08T21:52:51.712Z"
   },
   {
    "duration": 3,
    "start_time": "2022-03-08T21:52:51.946Z"
   },
   {
    "duration": 12,
    "start_time": "2022-03-08T21:52:51.950Z"
   },
   {
    "duration": 102,
    "start_time": "2022-03-08T21:52:51.964Z"
   },
   {
    "duration": 58,
    "start_time": "2022-03-08T21:52:52.067Z"
   },
   {
    "duration": 6,
    "start_time": "2022-03-08T21:52:52.127Z"
   },
   {
    "duration": 676,
    "start_time": "2022-03-08T21:52:52.135Z"
   },
   {
    "duration": 377,
    "start_time": "2022-03-08T21:52:52.814Z"
   },
   {
    "duration": 461,
    "start_time": "2022-03-08T21:52:53.193Z"
   },
   {
    "duration": 25,
    "start_time": "2022-03-08T21:52:53.656Z"
   },
   {
    "duration": 436,
    "start_time": "2022-03-08T21:52:53.702Z"
   },
   {
    "duration": 15,
    "start_time": "2022-03-08T21:52:54.141Z"
   },
   {
    "duration": 722,
    "start_time": "2022-03-08T21:52:54.158Z"
   },
   {
    "duration": 661,
    "start_time": "2022-03-08T21:52:54.882Z"
   },
   {
    "duration": 673,
    "start_time": "2022-03-08T21:52:55.545Z"
   },
   {
    "duration": 250,
    "start_time": "2022-03-08T21:52:56.220Z"
   },
   {
    "duration": 51,
    "start_time": "2022-03-08T21:52:56.472Z"
   },
   {
    "duration": 37,
    "start_time": "2022-03-08T21:52:56.524Z"
   },
   {
    "duration": 166,
    "start_time": "2022-03-08T21:52:56.563Z"
   },
   {
    "duration": 1117,
    "start_time": "2022-03-08T21:52:56.730Z"
   },
   {
    "duration": 20,
    "start_time": "2022-03-08T21:52:57.849Z"
   },
   {
    "duration": 40,
    "start_time": "2022-03-08T21:52:57.871Z"
   },
   {
    "duration": 103,
    "start_time": "2022-03-08T21:52:57.913Z"
   },
   {
    "duration": 28,
    "start_time": "2022-03-08T21:52:58.018Z"
   },
   {
    "duration": 9,
    "start_time": "2022-03-08T21:52:58.048Z"
   },
   {
    "duration": 1089,
    "start_time": "2022-03-08T22:09:06.909Z"
   },
   {
    "duration": 48,
    "start_time": "2022-03-08T22:09:08.001Z"
   },
   {
    "duration": 11,
    "start_time": "2022-03-08T22:09:08.052Z"
   },
   {
    "duration": 13,
    "start_time": "2022-03-08T22:09:08.065Z"
   },
   {
    "duration": 5741,
    "start_time": "2022-03-08T22:09:08.080Z"
   },
   {
    "duration": 1035,
    "start_time": "2022-03-08T22:09:12.789Z"
   },
   {
    "duration": 1033,
    "start_time": "2022-03-08T22:09:12.792Z"
   },
   {
    "duration": 1032,
    "start_time": "2022-03-08T22:09:12.794Z"
   },
   {
    "duration": 1033,
    "start_time": "2022-03-08T22:09:12.795Z"
   },
   {
    "duration": 1031,
    "start_time": "2022-03-08T22:09:12.797Z"
   },
   {
    "duration": 1031,
    "start_time": "2022-03-08T22:09:12.798Z"
   },
   {
    "duration": 1030,
    "start_time": "2022-03-08T22:09:12.800Z"
   },
   {
    "duration": 1025,
    "start_time": "2022-03-08T22:09:12.806Z"
   },
   {
    "duration": 1023,
    "start_time": "2022-03-08T22:09:12.809Z"
   },
   {
    "duration": 1022,
    "start_time": "2022-03-08T22:09:12.811Z"
   },
   {
    "duration": 1022,
    "start_time": "2022-03-08T22:09:12.812Z"
   },
   {
    "duration": 1021,
    "start_time": "2022-03-08T22:09:12.814Z"
   },
   {
    "duration": 1020,
    "start_time": "2022-03-08T22:09:12.816Z"
   },
   {
    "duration": 1020,
    "start_time": "2022-03-08T22:09:12.817Z"
   },
   {
    "duration": 1019,
    "start_time": "2022-03-08T22:09:12.819Z"
   },
   {
    "duration": 1017,
    "start_time": "2022-03-08T22:09:12.821Z"
   },
   {
    "duration": 1017,
    "start_time": "2022-03-08T22:09:12.822Z"
   },
   {
    "duration": 1016,
    "start_time": "2022-03-08T22:09:12.824Z"
   },
   {
    "duration": 1016,
    "start_time": "2022-03-08T22:09:12.825Z"
   },
   {
    "duration": 1015,
    "start_time": "2022-03-08T22:09:12.827Z"
   },
   {
    "duration": 1013,
    "start_time": "2022-03-08T22:09:12.830Z"
   },
   {
    "duration": 1013,
    "start_time": "2022-03-08T22:09:12.831Z"
   },
   {
    "duration": 1012,
    "start_time": "2022-03-08T22:09:12.833Z"
   },
   {
    "duration": 1011,
    "start_time": "2022-03-08T22:09:12.835Z"
   },
   {
    "duration": 1010,
    "start_time": "2022-03-08T22:09:12.837Z"
   },
   {
    "duration": 1008,
    "start_time": "2022-03-08T22:09:12.839Z"
   },
   {
    "duration": 1007,
    "start_time": "2022-03-08T22:09:12.841Z"
   },
   {
    "duration": 1001,
    "start_time": "2022-03-08T22:09:12.848Z"
   },
   {
    "duration": 1000,
    "start_time": "2022-03-08T22:09:12.850Z"
   },
   {
    "duration": 998,
    "start_time": "2022-03-08T22:09:12.853Z"
   },
   {
    "duration": 997,
    "start_time": "2022-03-08T22:09:12.855Z"
   },
   {
    "duration": 996,
    "start_time": "2022-03-08T22:09:12.856Z"
   },
   {
    "duration": 995,
    "start_time": "2022-03-08T22:09:12.858Z"
   },
   {
    "duration": 995,
    "start_time": "2022-03-08T22:09:12.859Z"
   },
   {
    "duration": 14,
    "start_time": "2022-03-08T22:11:32.023Z"
   },
   {
    "duration": 6,
    "start_time": "2022-03-08T22:14:54.243Z"
   },
   {
    "duration": 7,
    "start_time": "2022-03-08T22:15:02.498Z"
   },
   {
    "duration": 6,
    "start_time": "2022-03-08T22:15:46.459Z"
   },
   {
    "duration": 6,
    "start_time": "2022-03-08T22:44:01.311Z"
   },
   {
    "duration": 14,
    "start_time": "2022-03-08T22:48:48.792Z"
   },
   {
    "duration": 222,
    "start_time": "2022-03-08T22:50:30.262Z"
   },
   {
    "duration": 1098,
    "start_time": "2022-03-08T22:50:37.703Z"
   },
   {
    "duration": 47,
    "start_time": "2022-03-08T22:50:38.804Z"
   },
   {
    "duration": 11,
    "start_time": "2022-03-08T22:50:38.854Z"
   },
   {
    "duration": 11,
    "start_time": "2022-03-08T22:50:38.867Z"
   },
   {
    "duration": 33,
    "start_time": "2022-03-08T22:50:38.880Z"
   },
   {
    "duration": 6,
    "start_time": "2022-03-08T22:50:38.915Z"
   },
   {
    "duration": 5,
    "start_time": "2022-03-08T22:50:38.922Z"
   },
   {
    "duration": 8,
    "start_time": "2022-03-08T22:50:38.929Z"
   },
   {
    "duration": 14,
    "start_time": "2022-03-08T22:50:38.940Z"
   },
   {
    "duration": 48,
    "start_time": "2022-03-08T22:50:38.958Z"
   },
   {
    "duration": 11,
    "start_time": "2022-03-08T22:50:39.008Z"
   },
   {
    "duration": 16,
    "start_time": "2022-03-08T22:50:39.021Z"
   },
   {
    "duration": 16,
    "start_time": "2022-03-08T22:50:39.040Z"
   },
   {
    "duration": 55,
    "start_time": "2022-03-08T22:50:39.058Z"
   },
   {
    "duration": 237,
    "start_time": "2022-03-08T22:50:39.115Z"
   },
   {
    "duration": 2,
    "start_time": "2022-03-08T22:50:39.355Z"
   },
   {
    "duration": 12,
    "start_time": "2022-03-08T22:50:39.359Z"
   },
   {
    "duration": 105,
    "start_time": "2022-03-08T22:50:39.373Z"
   },
   {
    "duration": 44,
    "start_time": "2022-03-08T22:50:39.480Z"
   },
   {
    "duration": 4,
    "start_time": "2022-03-08T22:50:39.526Z"
   },
   {
    "duration": 704,
    "start_time": "2022-03-08T22:50:39.531Z"
   },
   {
    "duration": 389,
    "start_time": "2022-03-08T22:50:40.237Z"
   },
   {
    "duration": 468,
    "start_time": "2022-03-08T22:50:40.628Z"
   },
   {
    "duration": 24,
    "start_time": "2022-03-08T22:50:41.101Z"
   },
   {
    "duration": 466,
    "start_time": "2022-03-08T22:50:41.127Z"
   },
   {
    "duration": 19,
    "start_time": "2022-03-08T22:50:41.595Z"
   },
   {
    "duration": 668,
    "start_time": "2022-03-08T22:50:41.618Z"
   },
   {
    "duration": 674,
    "start_time": "2022-03-08T22:50:42.289Z"
   },
   {
    "duration": 686,
    "start_time": "2022-03-08T22:50:42.965Z"
   },
   {
    "duration": 255,
    "start_time": "2022-03-08T22:50:43.653Z"
   },
   {
    "duration": 40,
    "start_time": "2022-03-08T22:50:43.910Z"
   },
   {
    "duration": 64,
    "start_time": "2022-03-08T22:50:43.952Z"
   },
   {
    "duration": 168,
    "start_time": "2022-03-08T22:50:44.018Z"
   },
   {
    "duration": 1100,
    "start_time": "2022-03-08T22:50:44.188Z"
   },
   {
    "duration": 24,
    "start_time": "2022-03-08T22:50:45.290Z"
   },
   {
    "duration": 24,
    "start_time": "2022-03-08T22:50:45.316Z"
   },
   {
    "duration": 109,
    "start_time": "2022-03-08T22:50:45.342Z"
   },
   {
    "duration": 41,
    "start_time": "2022-03-08T22:50:45.453Z"
   },
   {
    "duration": 9,
    "start_time": "2022-03-08T22:50:45.497Z"
   },
   {
    "duration": 311,
    "start_time": "2022-03-08T22:52:51.499Z"
   },
   {
    "duration": 1118,
    "start_time": "2022-03-08T22:53:08.085Z"
   },
   {
    "duration": 46,
    "start_time": "2022-03-08T22:53:09.205Z"
   },
   {
    "duration": 11,
    "start_time": "2022-03-08T22:53:09.254Z"
   },
   {
    "duration": 13,
    "start_time": "2022-03-08T22:53:09.267Z"
   },
   {
    "duration": 32,
    "start_time": "2022-03-08T22:53:09.282Z"
   },
   {
    "duration": 17,
    "start_time": "2022-03-08T22:53:09.316Z"
   },
   {
    "duration": 8,
    "start_time": "2022-03-08T22:53:09.335Z"
   },
   {
    "duration": 19,
    "start_time": "2022-03-08T22:53:09.346Z"
   },
   {
    "duration": 20,
    "start_time": "2022-03-08T22:53:09.368Z"
   },
   {
    "duration": 23,
    "start_time": "2022-03-08T22:53:09.390Z"
   },
   {
    "duration": 10,
    "start_time": "2022-03-08T22:53:09.415Z"
   },
   {
    "duration": 17,
    "start_time": "2022-03-08T22:53:09.427Z"
   },
   {
    "duration": 15,
    "start_time": "2022-03-08T22:53:09.446Z"
   },
   {
    "duration": 47,
    "start_time": "2022-03-08T22:53:09.462Z"
   },
   {
    "duration": 226,
    "start_time": "2022-03-08T22:53:09.511Z"
   },
   {
    "duration": 2,
    "start_time": "2022-03-08T22:53:09.739Z"
   },
   {
    "duration": 14,
    "start_time": "2022-03-08T22:53:09.743Z"
   },
   {
    "duration": 108,
    "start_time": "2022-03-08T22:53:09.759Z"
   },
   {
    "duration": 53,
    "start_time": "2022-03-08T22:53:09.870Z"
   },
   {
    "duration": 3,
    "start_time": "2022-03-08T22:53:09.925Z"
   },
   {
    "duration": 687,
    "start_time": "2022-03-08T22:53:09.930Z"
   },
   {
    "duration": 391,
    "start_time": "2022-03-08T22:53:10.619Z"
   },
   {
    "duration": 468,
    "start_time": "2022-03-08T22:53:11.012Z"
   },
   {
    "duration": 37,
    "start_time": "2022-03-08T22:53:11.482Z"
   },
   {
    "duration": 458,
    "start_time": "2022-03-08T22:53:11.521Z"
   },
   {
    "duration": 23,
    "start_time": "2022-03-08T22:53:11.983Z"
   },
   {
    "duration": 639,
    "start_time": "2022-03-08T22:53:12.009Z"
   },
   {
    "duration": 669,
    "start_time": "2022-03-08T22:53:12.651Z"
   },
   {
    "duration": 645,
    "start_time": "2022-03-08T22:53:13.323Z"
   },
   {
    "duration": 262,
    "start_time": "2022-03-08T22:53:13.970Z"
   },
   {
    "duration": 37,
    "start_time": "2022-03-08T22:53:14.234Z"
   },
   {
    "duration": 57,
    "start_time": "2022-03-08T22:53:14.273Z"
   },
   {
    "duration": 166,
    "start_time": "2022-03-08T22:53:14.332Z"
   },
   {
    "duration": 1178,
    "start_time": "2022-03-08T22:53:14.500Z"
   },
   {
    "duration": 27,
    "start_time": "2022-03-08T22:53:15.680Z"
   },
   {
    "duration": 25,
    "start_time": "2022-03-08T22:53:15.709Z"
   },
   {
    "duration": 104,
    "start_time": "2022-03-08T22:53:15.736Z"
   },
   {
    "duration": 30,
    "start_time": "2022-03-08T22:53:15.842Z"
   },
   {
    "duration": 7,
    "start_time": "2022-03-08T22:53:15.874Z"
   },
   {
    "duration": 324,
    "start_time": "2022-03-09T07:54:08.497Z"
   },
   {
    "duration": 1364,
    "start_time": "2022-03-09T07:54:14.635Z"
   },
   {
    "duration": 62,
    "start_time": "2022-03-09T07:54:16.002Z"
   },
   {
    "duration": 15,
    "start_time": "2022-03-09T07:54:16.068Z"
   },
   {
    "duration": 15,
    "start_time": "2022-03-09T07:54:16.086Z"
   },
   {
    "duration": 55,
    "start_time": "2022-03-09T07:54:16.103Z"
   },
   {
    "duration": 20,
    "start_time": "2022-03-09T07:54:16.161Z"
   },
   {
    "duration": 8,
    "start_time": "2022-03-09T07:54:16.183Z"
   },
   {
    "duration": 6,
    "start_time": "2022-03-09T07:54:16.197Z"
   },
   {
    "duration": 46,
    "start_time": "2022-03-09T07:54:16.206Z"
   },
   {
    "duration": 18,
    "start_time": "2022-03-09T07:54:16.255Z"
   },
   {
    "duration": 12,
    "start_time": "2022-03-09T07:54:16.275Z"
   },
   {
    "duration": 11,
    "start_time": "2022-03-09T07:54:16.289Z"
   },
   {
    "duration": 54,
    "start_time": "2022-03-09T07:54:16.303Z"
   },
   {
    "duration": 22,
    "start_time": "2022-03-09T07:54:16.359Z"
   },
   {
    "duration": 22,
    "start_time": "2022-03-09T07:54:16.383Z"
   },
   {
    "duration": 357,
    "start_time": "2022-03-09T07:54:16.407Z"
   },
   {
    "duration": 3,
    "start_time": "2022-03-09T07:54:16.766Z"
   },
   {
    "duration": 10,
    "start_time": "2022-03-09T07:54:16.771Z"
   },
   {
    "duration": 156,
    "start_time": "2022-03-09T07:54:16.784Z"
   },
   {
    "duration": 40,
    "start_time": "2022-03-09T07:54:16.952Z"
   },
   {
    "duration": 5,
    "start_time": "2022-03-09T07:54:16.995Z"
   },
   {
    "duration": 1048,
    "start_time": "2022-03-09T07:54:17.003Z"
   },
   {
    "duration": 580,
    "start_time": "2022-03-09T07:54:18.056Z"
   },
   {
    "duration": 689,
    "start_time": "2022-03-09T07:54:18.639Z"
   },
   {
    "duration": 40,
    "start_time": "2022-03-09T07:54:19.330Z"
   },
   {
    "duration": 610,
    "start_time": "2022-03-09T07:54:19.372Z"
   },
   {
    "duration": 19,
    "start_time": "2022-03-09T07:54:19.985Z"
   },
   {
    "duration": 896,
    "start_time": "2022-03-09T07:54:20.006Z"
   },
   {
    "duration": 877,
    "start_time": "2022-03-09T07:54:20.905Z"
   },
   {
    "duration": 960,
    "start_time": "2022-03-09T07:54:21.785Z"
   },
   {
    "duration": 365,
    "start_time": "2022-03-09T07:54:22.751Z"
   },
   {
    "duration": 68,
    "start_time": "2022-03-09T07:54:23.119Z"
   },
   {
    "duration": 77,
    "start_time": "2022-03-09T07:54:23.190Z"
   },
   {
    "duration": 308,
    "start_time": "2022-03-09T07:54:23.270Z"
   },
   {
    "duration": 2139,
    "start_time": "2022-03-09T07:54:23.581Z"
   },
   {
    "duration": 44,
    "start_time": "2022-03-09T07:54:25.724Z"
   },
   {
    "duration": 53,
    "start_time": "2022-03-09T07:54:25.771Z"
   },
   {
    "duration": 100,
    "start_time": "2022-03-09T07:54:25.826Z"
   },
   {
    "duration": 47,
    "start_time": "2022-03-09T07:54:25.929Z"
   },
   {
    "duration": 11,
    "start_time": "2022-03-09T07:54:25.979Z"
   },
   {
    "duration": 6040,
    "start_time": "2022-03-09T07:55:22.687Z"
   },
   {
    "duration": 6098,
    "start_time": "2022-03-09T07:55:42.361Z"
   },
   {
    "duration": 23,
    "start_time": "2022-03-09T07:55:53.806Z"
   },
   {
    "duration": 15,
    "start_time": "2022-03-09T08:05:47.073Z"
   },
   {
    "duration": 5,
    "start_time": "2022-03-09T08:06:09.980Z"
   },
   {
    "duration": 59,
    "start_time": "2022-03-09T08:06:09.989Z"
   },
   {
    "duration": 13,
    "start_time": "2022-03-09T08:06:10.051Z"
   },
   {
    "duration": 14,
    "start_time": "2022-03-09T08:06:10.066Z"
   },
   {
    "duration": 20,
    "start_time": "2022-03-09T08:06:10.082Z"
   },
   {
    "duration": 24,
    "start_time": "2022-03-09T08:06:28.416Z"
   },
   {
    "duration": 23,
    "start_time": "2022-03-09T08:07:21.619Z"
   },
   {
    "duration": 23,
    "start_time": "2022-03-09T08:21:09.888Z"
   },
   {
    "duration": 6305,
    "start_time": "2022-03-09T08:25:29.416Z"
   },
   {
    "duration": 20,
    "start_time": "2022-03-09T08:25:44.433Z"
   },
   {
    "duration": 16,
    "start_time": "2022-03-09T08:26:12.409Z"
   },
   {
    "duration": 22,
    "start_time": "2022-03-09T08:26:25.918Z"
   },
   {
    "duration": 24,
    "start_time": "2022-03-09T08:26:43.760Z"
   },
   {
    "duration": 89,
    "start_time": "2022-03-09T08:27:08.313Z"
   },
   {
    "duration": 23,
    "start_time": "2022-03-09T08:27:13.799Z"
   },
   {
    "duration": 23,
    "start_time": "2022-03-09T08:27:31.586Z"
   },
   {
    "duration": 21,
    "start_time": "2022-03-09T08:27:48.123Z"
   },
   {
    "duration": 28,
    "start_time": "2022-03-09T08:29:32.410Z"
   },
   {
    "duration": 32,
    "start_time": "2022-03-09T08:30:04.385Z"
   },
   {
    "duration": 23,
    "start_time": "2022-03-09T08:30:29.851Z"
   },
   {
    "duration": 21,
    "start_time": "2022-03-09T08:30:46.642Z"
   },
   {
    "duration": 20,
    "start_time": "2022-03-09T08:31:18.666Z"
   },
   {
    "duration": 21,
    "start_time": "2022-03-09T08:31:39.540Z"
   },
   {
    "duration": 25,
    "start_time": "2022-03-09T08:32:09.088Z"
   },
   {
    "duration": 13,
    "start_time": "2022-03-09T08:32:19.466Z"
   },
   {
    "duration": 20,
    "start_time": "2022-03-09T08:32:52.987Z"
   },
   {
    "duration": 22,
    "start_time": "2022-03-09T08:36:08.164Z"
   },
   {
    "duration": 268,
    "start_time": "2022-03-09T08:44:46.476Z"
   },
   {
    "duration": 248,
    "start_time": "2022-03-09T08:45:43.318Z"
   },
   {
    "duration": 1302,
    "start_time": "2022-03-09T08:46:00.475Z"
   },
   {
    "duration": 58,
    "start_time": "2022-03-09T08:46:01.780Z"
   },
   {
    "duration": 20,
    "start_time": "2022-03-09T08:46:01.841Z"
   },
   {
    "duration": 23,
    "start_time": "2022-03-09T08:46:01.864Z"
   },
   {
    "duration": 33,
    "start_time": "2022-03-09T08:46:01.890Z"
   },
   {
    "duration": 29,
    "start_time": "2022-03-09T08:46:01.925Z"
   },
   {
    "duration": 22,
    "start_time": "2022-03-09T08:46:01.956Z"
   },
   {
    "duration": 39,
    "start_time": "2022-03-09T08:46:01.981Z"
   },
   {
    "duration": 16,
    "start_time": "2022-03-09T08:46:02.024Z"
   },
   {
    "duration": 17,
    "start_time": "2022-03-09T08:46:02.043Z"
   },
   {
    "duration": 23,
    "start_time": "2022-03-09T08:46:02.063Z"
   },
   {
    "duration": 37,
    "start_time": "2022-03-09T08:46:02.088Z"
   },
   {
    "duration": 40,
    "start_time": "2022-03-09T08:46:02.127Z"
   },
   {
    "duration": 22,
    "start_time": "2022-03-09T08:46:02.169Z"
   },
   {
    "duration": 27,
    "start_time": "2022-03-09T08:46:02.194Z"
   },
   {
    "duration": 23,
    "start_time": "2022-03-09T08:46:02.223Z"
   },
   {
    "duration": 22,
    "start_time": "2022-03-09T08:46:02.248Z"
   },
   {
    "duration": 22,
    "start_time": "2022-03-09T08:46:02.272Z"
   },
   {
    "duration": 388,
    "start_time": "2022-03-09T08:46:02.297Z"
   },
   {
    "duration": 3,
    "start_time": "2022-03-09T08:46:02.688Z"
   },
   {
    "duration": 30,
    "start_time": "2022-03-09T08:46:02.694Z"
   },
   {
    "duration": 154,
    "start_time": "2022-03-09T08:46:02.727Z"
   },
   {
    "duration": 74,
    "start_time": "2022-03-09T08:46:02.884Z"
   },
   {
    "duration": 6,
    "start_time": "2022-03-09T08:46:02.961Z"
   },
   {
    "duration": 1035,
    "start_time": "2022-03-09T08:46:02.970Z"
   },
   {
    "duration": 584,
    "start_time": "2022-03-09T08:46:04.009Z"
   },
   {
    "duration": 684,
    "start_time": "2022-03-09T08:46:04.600Z"
   },
   {
    "duration": 36,
    "start_time": "2022-03-09T08:46:05.288Z"
   },
   {
    "duration": 624,
    "start_time": "2022-03-09T08:46:05.350Z"
   },
   {
    "duration": 20,
    "start_time": "2022-03-09T08:46:05.976Z"
   },
   {
    "duration": 968,
    "start_time": "2022-03-09T08:46:05.999Z"
   },
   {
    "duration": 837,
    "start_time": "2022-03-09T08:46:06.970Z"
   },
   {
    "duration": 878,
    "start_time": "2022-03-09T08:46:07.809Z"
   },
   {
    "duration": 367,
    "start_time": "2022-03-09T08:46:08.690Z"
   },
   {
    "duration": 51,
    "start_time": "2022-03-09T08:46:09.059Z"
   },
   {
    "duration": 80,
    "start_time": "2022-03-09T08:46:09.112Z"
   },
   {
    "duration": 245,
    "start_time": "2022-03-09T08:46:09.195Z"
   },
   {
    "duration": 1460,
    "start_time": "2022-03-09T08:46:09.442Z"
   },
   {
    "duration": 24,
    "start_time": "2022-03-09T08:46:10.905Z"
   },
   {
    "duration": 49,
    "start_time": "2022-03-09T08:46:10.931Z"
   },
   {
    "duration": 98,
    "start_time": "2022-03-09T08:46:10.982Z"
   },
   {
    "duration": 36,
    "start_time": "2022-03-09T08:46:11.082Z"
   },
   {
    "duration": 10,
    "start_time": "2022-03-09T08:46:11.120Z"
   },
   {
    "duration": 19,
    "start_time": "2022-03-09T08:48:26.567Z"
   },
   {
    "duration": 22,
    "start_time": "2022-03-09T08:48:30.904Z"
   },
   {
    "duration": 19,
    "start_time": "2022-03-09T08:54:05.989Z"
   },
   {
    "duration": 33,
    "start_time": "2022-03-09T08:56:12.674Z"
   },
   {
    "duration": 410,
    "start_time": "2022-03-09T08:56:23.618Z"
   },
   {
    "duration": 24,
    "start_time": "2022-03-09T08:56:31.505Z"
   },
   {
    "duration": 19,
    "start_time": "2022-03-09T08:57:31.826Z"
   },
   {
    "duration": 19,
    "start_time": "2022-03-09T08:59:42.937Z"
   },
   {
    "duration": 27,
    "start_time": "2022-03-09T08:59:50.898Z"
   },
   {
    "duration": 21,
    "start_time": "2022-03-09T08:59:59.554Z"
   },
   {
    "duration": 21,
    "start_time": "2022-03-09T09:12:39.485Z"
   },
   {
    "duration": 20,
    "start_time": "2022-03-09T09:17:29.110Z"
   },
   {
    "duration": 22,
    "start_time": "2022-03-09T09:17:48.583Z"
   },
   {
    "duration": 23,
    "start_time": "2022-03-09T09:22:31.921Z"
   },
   {
    "duration": 1371,
    "start_time": "2022-03-09T09:22:45.015Z"
   },
   {
    "duration": 65,
    "start_time": "2022-03-09T09:22:46.388Z"
   },
   {
    "duration": 16,
    "start_time": "2022-03-09T09:22:46.457Z"
   },
   {
    "duration": 15,
    "start_time": "2022-03-09T09:22:46.477Z"
   },
   {
    "duration": 58,
    "start_time": "2022-03-09T09:22:46.495Z"
   },
   {
    "duration": 17,
    "start_time": "2022-03-09T09:22:46.556Z"
   },
   {
    "duration": 24,
    "start_time": "2022-03-09T09:22:46.576Z"
   },
   {
    "duration": 63,
    "start_time": "2022-03-09T09:22:46.603Z"
   },
   {
    "duration": 9,
    "start_time": "2022-03-09T09:22:46.672Z"
   },
   {
    "duration": 8,
    "start_time": "2022-03-09T09:22:46.685Z"
   },
   {
    "duration": 9,
    "start_time": "2022-03-09T09:22:46.696Z"
   },
   {
    "duration": 66,
    "start_time": "2022-03-09T09:22:46.707Z"
   },
   {
    "duration": 31,
    "start_time": "2022-03-09T09:22:46.776Z"
   },
   {
    "duration": 43,
    "start_time": "2022-03-09T09:22:46.810Z"
   },
   {
    "duration": 16,
    "start_time": "2022-03-09T09:22:46.856Z"
   },
   {
    "duration": 26,
    "start_time": "2022-03-09T09:22:46.875Z"
   },
   {
    "duration": 54,
    "start_time": "2022-03-09T09:22:46.903Z"
   },
   {
    "duration": 22,
    "start_time": "2022-03-09T09:22:46.959Z"
   },
   {
    "duration": 357,
    "start_time": "2022-03-09T09:22:46.984Z"
   },
   {
    "duration": 7,
    "start_time": "2022-03-09T09:22:47.344Z"
   },
   {
    "duration": 9,
    "start_time": "2022-03-09T09:22:47.354Z"
   },
   {
    "duration": 163,
    "start_time": "2022-03-09T09:22:47.366Z"
   },
   {
    "duration": 60,
    "start_time": "2022-03-09T09:22:47.532Z"
   },
   {
    "duration": 5,
    "start_time": "2022-03-09T09:22:47.594Z"
   },
   {
    "duration": 1267,
    "start_time": "2022-03-09T09:22:47.601Z"
   },
   {
    "duration": 826,
    "start_time": "2022-03-09T09:22:48.870Z"
   },
   {
    "duration": 704,
    "start_time": "2022-03-09T09:22:49.703Z"
   },
   {
    "duration": 55,
    "start_time": "2022-03-09T09:22:50.411Z"
   },
   {
    "duration": 635,
    "start_time": "2022-03-09T09:22:50.469Z"
   },
   {
    "duration": 18,
    "start_time": "2022-03-09T09:22:51.106Z"
   },
   {
    "duration": 989,
    "start_time": "2022-03-09T09:22:51.127Z"
   },
   {
    "duration": 898,
    "start_time": "2022-03-09T09:22:52.120Z"
   },
   {
    "duration": 874,
    "start_time": "2022-03-09T09:22:53.021Z"
   },
   {
    "duration": 505,
    "start_time": "2022-03-09T09:22:53.898Z"
   },
   {
    "duration": 80,
    "start_time": "2022-03-09T09:22:54.406Z"
   },
   {
    "duration": 85,
    "start_time": "2022-03-09T09:22:54.489Z"
   },
   {
    "duration": 392,
    "start_time": "2022-03-09T09:22:54.577Z"
   },
   {
    "duration": 2037,
    "start_time": "2022-03-09T09:22:54.972Z"
   },
   {
    "duration": 45,
    "start_time": "2022-03-09T09:22:57.012Z"
   },
   {
    "duration": 47,
    "start_time": "2022-03-09T09:22:57.060Z"
   },
   {
    "duration": 127,
    "start_time": "2022-03-09T09:22:57.110Z"
   },
   {
    "duration": 43,
    "start_time": "2022-03-09T09:22:57.240Z"
   },
   {
    "duration": 15,
    "start_time": "2022-03-09T09:22:57.286Z"
   },
   {
    "duration": 22,
    "start_time": "2022-03-09T09:23:53.903Z"
   },
   {
    "duration": 20,
    "start_time": "2022-03-09T09:24:10.400Z"
   },
   {
    "duration": 381,
    "start_time": "2022-03-09T09:24:43.776Z"
   },
   {
    "duration": 6294,
    "start_time": "2022-03-09T09:24:49.361Z"
   },
   {
    "duration": 33,
    "start_time": "2022-03-09T09:25:21.055Z"
   },
   {
    "duration": 39,
    "start_time": "2022-03-09T09:25:58.544Z"
   },
   {
    "duration": 4,
    "start_time": "2022-03-09T09:26:35.302Z"
   },
   {
    "duration": 56,
    "start_time": "2022-03-09T09:26:35.309Z"
   },
   {
    "duration": 14,
    "start_time": "2022-03-09T09:26:35.368Z"
   },
   {
    "duration": 16,
    "start_time": "2022-03-09T09:26:35.385Z"
   },
   {
    "duration": 53,
    "start_time": "2022-03-09T09:26:35.405Z"
   },
   {
    "duration": 23,
    "start_time": "2022-03-09T09:26:35.461Z"
   },
   {
    "duration": 36,
    "start_time": "2022-03-09T09:26:35.487Z"
   },
   {
    "duration": 25,
    "start_time": "2022-03-09T09:26:35.553Z"
   },
   {
    "duration": 10,
    "start_time": "2022-03-09T09:26:35.581Z"
   },
   {
    "duration": 8,
    "start_time": "2022-03-09T09:26:35.594Z"
   },
   {
    "duration": 46,
    "start_time": "2022-03-09T09:26:35.605Z"
   },
   {
    "duration": 20,
    "start_time": "2022-03-09T09:26:35.654Z"
   },
   {
    "duration": 43,
    "start_time": "2022-03-09T09:26:46.200Z"
   },
   {
    "duration": 43,
    "start_time": "2022-03-09T09:29:21.948Z"
   },
   {
    "duration": 1340,
    "start_time": "2022-03-09T09:33:48.260Z"
   },
   {
    "duration": 68,
    "start_time": "2022-03-09T09:33:49.602Z"
   },
   {
    "duration": 14,
    "start_time": "2022-03-09T09:33:49.673Z"
   },
   {
    "duration": 14,
    "start_time": "2022-03-09T09:33:49.690Z"
   },
   {
    "duration": 94,
    "start_time": "2022-03-09T09:33:49.708Z"
   },
   {
    "duration": 24,
    "start_time": "2022-03-09T09:33:49.805Z"
   },
   {
    "duration": 26,
    "start_time": "2022-03-09T09:33:49.852Z"
   },
   {
    "duration": 8,
    "start_time": "2022-03-09T09:33:49.883Z"
   },
   {
    "duration": 7,
    "start_time": "2022-03-09T09:33:49.895Z"
   },
   {
    "duration": 9,
    "start_time": "2022-03-09T09:33:49.904Z"
   },
   {
    "duration": 58,
    "start_time": "2022-03-09T09:33:49.915Z"
   },
   {
    "duration": 43,
    "start_time": "2022-03-09T09:33:49.975Z"
   },
   {
    "duration": 40,
    "start_time": "2022-03-09T09:33:50.021Z"
   },
   {
    "duration": 15,
    "start_time": "2022-03-09T09:33:50.063Z"
   },
   {
    "duration": 26,
    "start_time": "2022-03-09T09:33:50.081Z"
   },
   {
    "duration": 65,
    "start_time": "2022-03-09T09:33:50.109Z"
   },
   {
    "duration": 34,
    "start_time": "2022-03-09T09:33:50.177Z"
   },
   {
    "duration": 395,
    "start_time": "2022-03-09T09:33:50.213Z"
   },
   {
    "duration": 3,
    "start_time": "2022-03-09T09:33:50.611Z"
   },
   {
    "duration": 10,
    "start_time": "2022-03-09T09:33:50.617Z"
   },
   {
    "duration": 167,
    "start_time": "2022-03-09T09:33:50.630Z"
   },
   {
    "duration": 78,
    "start_time": "2022-03-09T09:33:50.800Z"
   },
   {
    "duration": 6,
    "start_time": "2022-03-09T09:33:50.885Z"
   },
   {
    "duration": 1103,
    "start_time": "2022-03-09T09:33:50.895Z"
   },
   {
    "duration": 601,
    "start_time": "2022-03-09T09:33:52.002Z"
   },
   {
    "duration": 718,
    "start_time": "2022-03-09T09:33:52.605Z"
   },
   {
    "duration": 45,
    "start_time": "2022-03-09T09:33:53.326Z"
   },
   {
    "duration": 656,
    "start_time": "2022-03-09T09:33:53.373Z"
   },
   {
    "duration": 28,
    "start_time": "2022-03-09T09:33:54.032Z"
   },
   {
    "duration": 880,
    "start_time": "2022-03-09T09:33:54.062Z"
   },
   {
    "duration": 937,
    "start_time": "2022-03-09T09:33:54.945Z"
   },
   {
    "duration": 894,
    "start_time": "2022-03-09T09:33:55.885Z"
   },
   {
    "duration": 365,
    "start_time": "2022-03-09T09:33:56.782Z"
   },
   {
    "duration": 53,
    "start_time": "2022-03-09T09:33:57.152Z"
   },
   {
    "duration": 79,
    "start_time": "2022-03-09T09:33:57.208Z"
   },
   {
    "duration": 250,
    "start_time": "2022-03-09T09:33:57.290Z"
   },
   {
    "duration": 1480,
    "start_time": "2022-03-09T09:33:57.542Z"
   },
   {
    "duration": 45,
    "start_time": "2022-03-09T09:33:59.025Z"
   },
   {
    "duration": 35,
    "start_time": "2022-03-09T09:33:59.073Z"
   },
   {
    "duration": 113,
    "start_time": "2022-03-09T09:33:59.111Z"
   },
   {
    "duration": 49,
    "start_time": "2022-03-09T09:33:59.227Z"
   },
   {
    "duration": 11,
    "start_time": "2022-03-09T09:33:59.278Z"
   },
   {
    "duration": 437,
    "start_time": "2022-03-09T09:35:21.507Z"
   },
   {
    "duration": 11,
    "start_time": "2022-03-09T09:35:28.779Z"
   },
   {
    "duration": 1604,
    "start_time": "2022-03-09T09:35:38.920Z"
   },
   {
    "duration": 86,
    "start_time": "2022-03-09T09:35:40.528Z"
   },
   {
    "duration": 18,
    "start_time": "2022-03-09T09:35:40.618Z"
   },
   {
    "duration": 18,
    "start_time": "2022-03-09T09:35:40.653Z"
   },
   {
    "duration": 95,
    "start_time": "2022-03-09T09:35:40.674Z"
   },
   {
    "duration": 27,
    "start_time": "2022-03-09T09:35:40.771Z"
   },
   {
    "duration": 51,
    "start_time": "2022-03-09T09:35:40.800Z"
   },
   {
    "duration": 10,
    "start_time": "2022-03-09T09:35:40.856Z"
   },
   {
    "duration": 8,
    "start_time": "2022-03-09T09:35:40.869Z"
   },
   {
    "duration": 10,
    "start_time": "2022-03-09T09:35:40.880Z"
   },
   {
    "duration": 20,
    "start_time": "2022-03-09T09:35:40.893Z"
   },
   {
    "duration": 56,
    "start_time": "2022-03-09T09:35:40.953Z"
   },
   {
    "duration": 41,
    "start_time": "2022-03-09T09:35:41.012Z"
   },
   {
    "duration": 15,
    "start_time": "2022-03-09T09:35:41.056Z"
   },
   {
    "duration": 25,
    "start_time": "2022-03-09T09:35:41.074Z"
   },
   {
    "duration": 63,
    "start_time": "2022-03-09T09:35:41.102Z"
   },
   {
    "duration": 30,
    "start_time": "2022-03-09T09:35:41.168Z"
   },
   {
    "duration": 383,
    "start_time": "2022-03-09T09:35:41.202Z"
   },
   {
    "duration": 2,
    "start_time": "2022-03-09T09:35:41.588Z"
   },
   {
    "duration": 12,
    "start_time": "2022-03-09T09:35:41.592Z"
   },
   {
    "duration": 166,
    "start_time": "2022-03-09T09:35:41.606Z"
   },
   {
    "duration": 43,
    "start_time": "2022-03-09T09:35:41.774Z"
   },
   {
    "duration": 5,
    "start_time": "2022-03-09T09:35:41.850Z"
   },
   {
    "duration": 1057,
    "start_time": "2022-03-09T09:35:41.859Z"
   },
   {
    "duration": 619,
    "start_time": "2022-03-09T09:35:42.919Z"
   },
   {
    "duration": 850,
    "start_time": "2022-03-09T09:35:43.540Z"
   },
   {
    "duration": 68,
    "start_time": "2022-03-09T09:35:44.394Z"
   },
   {
    "duration": 875,
    "start_time": "2022-03-09T09:35:44.465Z"
   },
   {
    "duration": 28,
    "start_time": "2022-03-09T09:35:45.343Z"
   },
   {
    "duration": 1039,
    "start_time": "2022-03-09T09:35:45.373Z"
   },
   {
    "duration": 919,
    "start_time": "2022-03-09T09:35:46.415Z"
   },
   {
    "duration": 966,
    "start_time": "2022-03-09T09:35:47.337Z"
   },
   {
    "duration": 397,
    "start_time": "2022-03-09T09:35:48.306Z"
   },
   {
    "duration": 70,
    "start_time": "2022-03-09T09:35:48.705Z"
   },
   {
    "duration": 86,
    "start_time": "2022-03-09T09:35:48.779Z"
   },
   {
    "duration": 275,
    "start_time": "2022-03-09T09:35:48.867Z"
   },
   {
    "duration": 1619,
    "start_time": "2022-03-09T09:35:49.145Z"
   },
   {
    "duration": 27,
    "start_time": "2022-03-09T09:35:50.767Z"
   },
   {
    "duration": 59,
    "start_time": "2022-03-09T09:35:50.797Z"
   },
   {
    "duration": 95,
    "start_time": "2022-03-09T09:35:50.859Z"
   },
   {
    "duration": 45,
    "start_time": "2022-03-09T09:35:50.957Z"
   },
   {
    "duration": 12,
    "start_time": "2022-03-09T09:35:51.004Z"
   },
   {
    "duration": 1376,
    "start_time": "2022-03-09T09:38:30.535Z"
   },
   {
    "duration": 86,
    "start_time": "2022-03-09T09:38:31.914Z"
   },
   {
    "duration": 20,
    "start_time": "2022-03-09T09:38:32.003Z"
   },
   {
    "duration": 34,
    "start_time": "2022-03-09T09:38:32.026Z"
   },
   {
    "duration": 61,
    "start_time": "2022-03-09T09:38:32.063Z"
   },
   {
    "duration": 48,
    "start_time": "2022-03-09T09:38:32.127Z"
   },
   {
    "duration": 9,
    "start_time": "2022-03-09T09:38:32.178Z"
   },
   {
    "duration": 9,
    "start_time": "2022-03-09T09:38:32.192Z"
   },
   {
    "duration": 48,
    "start_time": "2022-03-09T09:38:32.205Z"
   },
   {
    "duration": 45,
    "start_time": "2022-03-09T09:38:32.256Z"
   },
   {
    "duration": 48,
    "start_time": "2022-03-09T09:38:32.303Z"
   },
   {
    "duration": 43,
    "start_time": "2022-03-09T09:38:32.354Z"
   },
   {
    "duration": 12,
    "start_time": "2022-03-09T09:38:32.399Z"
   },
   {
    "duration": 42,
    "start_time": "2022-03-09T09:38:32.414Z"
   },
   {
    "duration": 19,
    "start_time": "2022-03-09T09:38:32.459Z"
   },
   {
    "duration": 20,
    "start_time": "2022-03-09T09:38:32.480Z"
   },
   {
    "duration": 57,
    "start_time": "2022-03-09T09:38:32.502Z"
   },
   {
    "duration": 375,
    "start_time": "2022-03-09T09:38:32.561Z"
   },
   {
    "duration": 12,
    "start_time": "2022-03-09T09:38:32.939Z"
   },
   {
    "duration": 11,
    "start_time": "2022-03-09T09:38:32.954Z"
   },
   {
    "duration": 159,
    "start_time": "2022-03-09T09:38:32.968Z"
   },
   {
    "duration": 57,
    "start_time": "2022-03-09T09:38:33.130Z"
   },
   {
    "duration": 6,
    "start_time": "2022-03-09T09:38:33.193Z"
   },
   {
    "duration": 1575,
    "start_time": "2022-03-09T09:38:33.202Z"
   },
   {
    "duration": 785,
    "start_time": "2022-03-09T09:38:34.780Z"
   },
   {
    "duration": 987,
    "start_time": "2022-03-09T09:38:35.568Z"
   },
   {
    "duration": 44,
    "start_time": "2022-03-09T09:38:36.558Z"
   },
   {
    "duration": 680,
    "start_time": "2022-03-09T09:38:36.604Z"
   },
   {
    "duration": 20,
    "start_time": "2022-03-09T09:38:37.287Z"
   },
   {
    "duration": 925,
    "start_time": "2022-03-09T09:38:37.310Z"
   },
   {
    "duration": 944,
    "start_time": "2022-03-09T09:38:38.238Z"
   },
   {
    "duration": 910,
    "start_time": "2022-03-09T09:38:39.184Z"
   },
   {
    "duration": 419,
    "start_time": "2022-03-09T09:38:40.097Z"
   },
   {
    "duration": 55,
    "start_time": "2022-03-09T09:38:40.519Z"
   },
   {
    "duration": 49,
    "start_time": "2022-03-09T09:38:40.577Z"
   },
   {
    "duration": 246,
    "start_time": "2022-03-09T09:38:40.628Z"
   },
   {
    "duration": 1818,
    "start_time": "2022-03-09T09:38:40.876Z"
   },
   {
    "duration": 26,
    "start_time": "2022-03-09T09:38:42.696Z"
   },
   {
    "duration": 55,
    "start_time": "2022-03-09T09:38:42.724Z"
   },
   {
    "duration": 103,
    "start_time": "2022-03-09T09:38:42.782Z"
   },
   {
    "duration": 34,
    "start_time": "2022-03-09T09:38:42.887Z"
   },
   {
    "duration": 32,
    "start_time": "2022-03-09T09:38:42.923Z"
   },
   {
    "duration": 371,
    "start_time": "2022-03-09T09:54:27.628Z"
   },
   {
    "duration": 434,
    "start_time": "2022-03-09T09:54:53.339Z"
   },
   {
    "duration": 4,
    "start_time": "2022-03-09T09:55:03.215Z"
   },
   {
    "duration": 76,
    "start_time": "2022-03-09T09:55:03.222Z"
   },
   {
    "duration": 14,
    "start_time": "2022-03-09T09:55:03.301Z"
   },
   {
    "duration": 36,
    "start_time": "2022-03-09T09:55:03.317Z"
   },
   {
    "duration": 1382,
    "start_time": "2022-03-09T09:55:44.609Z"
   },
   {
    "duration": 63,
    "start_time": "2022-03-09T09:55:45.994Z"
   },
   {
    "duration": 13,
    "start_time": "2022-03-09T09:55:46.060Z"
   },
   {
    "duration": 13,
    "start_time": "2022-03-09T09:55:46.076Z"
   },
   {
    "duration": 109,
    "start_time": "2022-03-09T09:55:46.092Z"
   },
   {
    "duration": 17,
    "start_time": "2022-03-09T09:55:46.203Z"
   },
   {
    "duration": 33,
    "start_time": "2022-03-09T09:55:46.223Z"
   },
   {
    "duration": 8,
    "start_time": "2022-03-09T09:55:46.259Z"
   },
   {
    "duration": 7,
    "start_time": "2022-03-09T09:55:46.273Z"
   },
   {
    "duration": 89,
    "start_time": "2022-03-09T09:55:46.285Z"
   },
   {
    "duration": 19,
    "start_time": "2022-03-09T09:55:46.376Z"
   },
   {
    "duration": 70,
    "start_time": "2022-03-09T09:55:46.398Z"
   },
   {
    "duration": 12,
    "start_time": "2022-03-09T09:55:46.470Z"
   },
   {
    "duration": 13,
    "start_time": "2022-03-09T09:55:46.484Z"
   },
   {
    "duration": 51,
    "start_time": "2022-03-09T09:55:46.500Z"
   },
   {
    "duration": 23,
    "start_time": "2022-03-09T09:55:46.554Z"
   },
   {
    "duration": 30,
    "start_time": "2022-03-09T09:55:46.580Z"
   },
   {
    "duration": 372,
    "start_time": "2022-03-09T09:55:46.613Z"
   },
   {
    "duration": 3,
    "start_time": "2022-03-09T09:55:46.988Z"
   },
   {
    "duration": 19,
    "start_time": "2022-03-09T09:55:46.994Z"
   },
   {
    "duration": 203,
    "start_time": "2022-03-09T09:55:47.016Z"
   },
   {
    "duration": 69,
    "start_time": "2022-03-09T09:55:47.222Z"
   },
   {
    "duration": 5,
    "start_time": "2022-03-09T09:55:47.293Z"
   },
   {
    "duration": 1045,
    "start_time": "2022-03-09T09:55:47.300Z"
   },
   {
    "duration": 591,
    "start_time": "2022-03-09T09:55:48.351Z"
   },
   {
    "duration": 722,
    "start_time": "2022-03-09T09:55:48.944Z"
   },
   {
    "duration": 35,
    "start_time": "2022-03-09T09:55:49.671Z"
   },
   {
    "duration": 659,
    "start_time": "2022-03-09T09:55:49.709Z"
   },
   {
    "duration": 20,
    "start_time": "2022-03-09T09:55:50.371Z"
   },
   {
    "duration": 952,
    "start_time": "2022-03-09T09:55:50.394Z"
   },
   {
    "duration": 947,
    "start_time": "2022-03-09T09:55:51.351Z"
   },
   {
    "duration": 957,
    "start_time": "2022-03-09T09:55:52.300Z"
   },
   {
    "duration": 394,
    "start_time": "2022-03-09T09:55:53.260Z"
   },
   {
    "duration": 53,
    "start_time": "2022-03-09T09:55:53.656Z"
   },
   {
    "duration": 78,
    "start_time": "2022-03-09T09:55:53.711Z"
   },
   {
    "duration": 261,
    "start_time": "2022-03-09T09:55:53.792Z"
   },
   {
    "duration": 1464,
    "start_time": "2022-03-09T09:55:54.056Z"
   },
   {
    "duration": 36,
    "start_time": "2022-03-09T09:55:55.523Z"
   },
   {
    "duration": 47,
    "start_time": "2022-03-09T09:55:55.561Z"
   },
   {
    "duration": 103,
    "start_time": "2022-03-09T09:55:55.610Z"
   },
   {
    "duration": 56,
    "start_time": "2022-03-09T09:55:55.715Z"
   },
   {
    "duration": 11,
    "start_time": "2022-03-09T09:55:55.773Z"
   },
   {
    "duration": 385,
    "start_time": "2022-03-09T09:56:09.834Z"
   },
   {
    "duration": 1388,
    "start_time": "2022-03-09T09:56:16.118Z"
   },
   {
    "duration": 66,
    "start_time": "2022-03-09T09:56:17.510Z"
   },
   {
    "duration": 17,
    "start_time": "2022-03-09T09:56:17.580Z"
   },
   {
    "duration": 14,
    "start_time": "2022-03-09T09:56:17.600Z"
   },
   {
    "duration": 111,
    "start_time": "2022-03-09T09:56:17.617Z"
   },
   {
    "duration": 42,
    "start_time": "2022-03-09T09:56:17.731Z"
   },
   {
    "duration": 10,
    "start_time": "2022-03-09T09:56:17.776Z"
   },
   {
    "duration": 8,
    "start_time": "2022-03-09T09:56:17.792Z"
   },
   {
    "duration": 7,
    "start_time": "2022-03-09T09:56:17.803Z"
   },
   {
    "duration": 45,
    "start_time": "2022-03-09T09:56:17.852Z"
   },
   {
    "duration": 55,
    "start_time": "2022-03-09T09:56:17.900Z"
   },
   {
    "duration": 64,
    "start_time": "2022-03-09T09:56:17.958Z"
   },
   {
    "duration": 38,
    "start_time": "2022-03-09T09:56:18.025Z"
   },
   {
    "duration": 16,
    "start_time": "2022-03-09T09:56:18.066Z"
   },
   {
    "duration": 26,
    "start_time": "2022-03-09T09:56:18.085Z"
   },
   {
    "duration": 61,
    "start_time": "2022-03-09T09:56:18.114Z"
   },
   {
    "duration": 30,
    "start_time": "2022-03-09T09:56:18.178Z"
   },
   {
    "duration": 541,
    "start_time": "2022-03-09T09:56:18.211Z"
   },
   {
    "duration": 4,
    "start_time": "2022-03-09T09:56:18.755Z"
   },
   {
    "duration": 20,
    "start_time": "2022-03-09T09:56:18.762Z"
   },
   {
    "duration": 221,
    "start_time": "2022-03-09T09:56:18.785Z"
   },
   {
    "duration": 73,
    "start_time": "2022-03-09T09:56:19.009Z"
   },
   {
    "duration": 5,
    "start_time": "2022-03-09T09:56:19.084Z"
   },
   {
    "duration": 1596,
    "start_time": "2022-03-09T09:56:19.092Z"
   },
   {
    "duration": 598,
    "start_time": "2022-03-09T09:56:20.691Z"
   },
   {
    "duration": 732,
    "start_time": "2022-03-09T09:56:21.294Z"
   },
   {
    "duration": 50,
    "start_time": "2022-03-09T09:56:22.029Z"
   },
   {
    "duration": 674,
    "start_time": "2022-03-09T09:56:22.082Z"
   },
   {
    "duration": 20,
    "start_time": "2022-03-09T09:56:22.759Z"
   },
   {
    "duration": 914,
    "start_time": "2022-03-09T09:56:22.782Z"
   },
   {
    "duration": 993,
    "start_time": "2022-03-09T09:56:23.698Z"
   },
   {
    "duration": 894,
    "start_time": "2022-03-09T09:56:24.693Z"
   },
   {
    "duration": 378,
    "start_time": "2022-03-09T09:56:25.590Z"
   },
   {
    "duration": 56,
    "start_time": "2022-03-09T09:56:25.971Z"
   },
   {
    "duration": 54,
    "start_time": "2022-03-09T09:56:26.053Z"
   },
   {
    "duration": 277,
    "start_time": "2022-03-09T09:56:26.109Z"
   },
   {
    "duration": 1554,
    "start_time": "2022-03-09T09:56:26.389Z"
   },
   {
    "duration": 35,
    "start_time": "2022-03-09T09:56:27.951Z"
   },
   {
    "duration": 77,
    "start_time": "2022-03-09T09:56:27.989Z"
   },
   {
    "duration": 105,
    "start_time": "2022-03-09T09:56:28.068Z"
   },
   {
    "duration": 50,
    "start_time": "2022-03-09T09:56:28.176Z"
   },
   {
    "duration": 27,
    "start_time": "2022-03-09T09:56:28.228Z"
   },
   {
    "duration": 7507,
    "start_time": "2022-03-09T09:58:58.268Z"
   },
   {
    "duration": 1373,
    "start_time": "2022-03-09T10:04:11.515Z"
   },
   {
    "duration": 63,
    "start_time": "2022-03-09T10:04:12.891Z"
   },
   {
    "duration": 13,
    "start_time": "2022-03-09T10:04:12.957Z"
   },
   {
    "duration": 12,
    "start_time": "2022-03-09T10:04:12.973Z"
   },
   {
    "duration": 18,
    "start_time": "2022-03-09T10:04:12.988Z"
   },
   {
    "duration": 115,
    "start_time": "2022-03-09T10:04:13.008Z"
   },
   {
    "duration": 27,
    "start_time": "2022-03-09T10:04:13.126Z"
   },
   {
    "duration": 19,
    "start_time": "2022-03-09T10:04:13.155Z"
   },
   {
    "duration": 12,
    "start_time": "2022-03-09T10:04:13.179Z"
   },
   {
    "duration": 61,
    "start_time": "2022-03-09T10:04:13.194Z"
   },
   {
    "duration": 18,
    "start_time": "2022-03-09T10:04:13.257Z"
   },
   {
    "duration": 41,
    "start_time": "2022-03-09T10:04:13.277Z"
   },
   {
    "duration": 11,
    "start_time": "2022-03-09T10:04:13.351Z"
   },
   {
    "duration": 12,
    "start_time": "2022-03-09T10:04:13.364Z"
   },
   {
    "duration": 25,
    "start_time": "2022-03-09T10:04:13.378Z"
   },
   {
    "duration": 19,
    "start_time": "2022-03-09T10:04:13.406Z"
   },
   {
    "duration": 23,
    "start_time": "2022-03-09T10:04:13.451Z"
   },
   {
    "duration": 348,
    "start_time": "2022-03-09T10:04:13.476Z"
   },
   {
    "duration": 3,
    "start_time": "2022-03-09T10:04:13.827Z"
   },
   {
    "duration": 24,
    "start_time": "2022-03-09T10:04:13.832Z"
   },
   {
    "duration": 141,
    "start_time": "2022-03-09T10:04:13.858Z"
   },
   {
    "duration": 66,
    "start_time": "2022-03-09T10:04:14.002Z"
   },
   {
    "duration": 6,
    "start_time": "2022-03-09T10:04:14.070Z"
   },
   {
    "duration": 1014,
    "start_time": "2022-03-09T10:04:14.078Z"
   },
   {
    "duration": 586,
    "start_time": "2022-03-09T10:04:15.095Z"
   },
   {
    "duration": 695,
    "start_time": "2022-03-09T10:04:15.683Z"
   },
   {
    "duration": 32,
    "start_time": "2022-03-09T10:04:16.383Z"
   },
   {
    "duration": 643,
    "start_time": "2022-03-09T10:04:16.418Z"
   },
   {
    "duration": 20,
    "start_time": "2022-03-09T10:04:17.064Z"
   },
   {
    "duration": 893,
    "start_time": "2022-03-09T10:04:17.087Z"
   },
   {
    "duration": 891,
    "start_time": "2022-03-09T10:04:17.983Z"
   },
   {
    "duration": 826,
    "start_time": "2022-03-09T10:04:18.876Z"
   },
   {
    "duration": 379,
    "start_time": "2022-03-09T10:04:19.704Z"
   },
   {
    "duration": 79,
    "start_time": "2022-03-09T10:04:20.087Z"
   },
   {
    "duration": 82,
    "start_time": "2022-03-09T10:04:20.169Z"
   },
   {
    "duration": 248,
    "start_time": "2022-03-09T10:04:20.253Z"
   },
   {
    "duration": 1533,
    "start_time": "2022-03-09T10:04:20.503Z"
   },
   {
    "duration": 35,
    "start_time": "2022-03-09T10:04:22.039Z"
   },
   {
    "duration": 37,
    "start_time": "2022-03-09T10:04:22.077Z"
   },
   {
    "duration": 134,
    "start_time": "2022-03-09T10:04:22.117Z"
   },
   {
    "duration": 45,
    "start_time": "2022-03-09T10:04:22.254Z"
   },
   {
    "duration": 10,
    "start_time": "2022-03-09T10:04:22.302Z"
   },
   {
    "duration": 488,
    "start_time": "2022-03-09T10:09:03.029Z"
   },
   {
    "duration": 1298,
    "start_time": "2022-03-09T10:09:11.875Z"
   },
   {
    "duration": 61,
    "start_time": "2022-03-09T10:09:13.176Z"
   },
   {
    "duration": 14,
    "start_time": "2022-03-09T10:09:13.251Z"
   },
   {
    "duration": 19,
    "start_time": "2022-03-09T10:09:13.268Z"
   },
   {
    "duration": 19,
    "start_time": "2022-03-09T10:09:13.289Z"
   },
   {
    "duration": 110,
    "start_time": "2022-03-09T10:09:13.310Z"
   },
   {
    "duration": 364,
    "start_time": "2022-03-09T10:09:13.423Z"
   },
   {
    "duration": -342,
    "start_time": "2022-03-09T10:09:14.133Z"
   },
   {
    "duration": -358,
    "start_time": "2022-03-09T10:09:14.151Z"
   },
   {
    "duration": -365,
    "start_time": "2022-03-09T10:09:14.159Z"
   },
   {
    "duration": -365,
    "start_time": "2022-03-09T10:09:14.161Z"
   },
   {
    "duration": -366,
    "start_time": "2022-03-09T10:09:14.163Z"
   },
   {
    "duration": -366,
    "start_time": "2022-03-09T10:09:14.165Z"
   },
   {
    "duration": -367,
    "start_time": "2022-03-09T10:09:14.168Z"
   },
   {
    "duration": -368,
    "start_time": "2022-03-09T10:09:14.170Z"
   },
   {
    "duration": -367,
    "start_time": "2022-03-09T10:09:14.171Z"
   },
   {
    "duration": -369,
    "start_time": "2022-03-09T10:09:14.174Z"
   },
   {
    "duration": -370,
    "start_time": "2022-03-09T10:09:14.177Z"
   },
   {
    "duration": -371,
    "start_time": "2022-03-09T10:09:14.179Z"
   },
   {
    "duration": -372,
    "start_time": "2022-03-09T10:09:14.182Z"
   },
   {
    "duration": -374,
    "start_time": "2022-03-09T10:09:14.185Z"
   },
   {
    "duration": -380,
    "start_time": "2022-03-09T10:09:14.192Z"
   },
   {
    "duration": -380,
    "start_time": "2022-03-09T10:09:14.194Z"
   },
   {
    "duration": -380,
    "start_time": "2022-03-09T10:09:14.195Z"
   },
   {
    "duration": -381,
    "start_time": "2022-03-09T10:09:14.197Z"
   },
   {
    "duration": -383,
    "start_time": "2022-03-09T10:09:14.200Z"
   },
   {
    "duration": -383,
    "start_time": "2022-03-09T10:09:14.202Z"
   },
   {
    "duration": -383,
    "start_time": "2022-03-09T10:09:14.203Z"
   },
   {
    "duration": -384,
    "start_time": "2022-03-09T10:09:14.205Z"
   },
   {
    "duration": -388,
    "start_time": "2022-03-09T10:09:14.211Z"
   },
   {
    "duration": -390,
    "start_time": "2022-03-09T10:09:14.214Z"
   },
   {
    "duration": -391,
    "start_time": "2022-03-09T10:09:14.216Z"
   },
   {
    "duration": -392,
    "start_time": "2022-03-09T10:09:14.218Z"
   },
   {
    "duration": -370,
    "start_time": "2022-03-09T10:09:14.221Z"
   },
   {
    "duration": -376,
    "start_time": "2022-03-09T10:09:14.228Z"
   },
   {
    "duration": -377,
    "start_time": "2022-03-09T10:09:14.231Z"
   },
   {
    "duration": -380,
    "start_time": "2022-03-09T10:09:14.235Z"
   },
   {
    "duration": -381,
    "start_time": "2022-03-09T10:09:14.237Z"
   },
   {
    "duration": -381,
    "start_time": "2022-03-09T10:09:14.239Z"
   },
   {
    "duration": -382,
    "start_time": "2022-03-09T10:09:14.241Z"
   },
   {
    "duration": -381,
    "start_time": "2022-03-09T10:09:14.242Z"
   },
   {
    "duration": -382,
    "start_time": "2022-03-09T10:09:14.244Z"
   },
   {
    "duration": -383,
    "start_time": "2022-03-09T10:09:14.246Z"
   },
   {
    "duration": 23,
    "start_time": "2022-03-09T10:09:34.298Z"
   },
   {
    "duration": 80,
    "start_time": "2022-03-09T10:10:07.749Z"
   },
   {
    "duration": 21,
    "start_time": "2022-03-09T10:10:34.114Z"
   },
   {
    "duration": 1375,
    "start_time": "2022-03-09T10:10:52.019Z"
   },
   {
    "duration": 62,
    "start_time": "2022-03-09T10:10:53.397Z"
   },
   {
    "duration": 14,
    "start_time": "2022-03-09T10:10:53.465Z"
   },
   {
    "duration": 25,
    "start_time": "2022-03-09T10:10:53.482Z"
   },
   {
    "duration": 22,
    "start_time": "2022-03-09T10:10:53.510Z"
   },
   {
    "duration": 77,
    "start_time": "2022-03-09T10:10:53.552Z"
   },
   {
    "duration": 21,
    "start_time": "2022-03-09T10:10:53.654Z"
   },
   {
    "duration": 19,
    "start_time": "2022-03-09T10:10:53.678Z"
   },
   {
    "duration": 22,
    "start_time": "2022-03-09T10:10:53.699Z"
   },
   {
    "duration": 25,
    "start_time": "2022-03-09T10:10:53.723Z"
   },
   {
    "duration": 58,
    "start_time": "2022-03-09T10:10:53.751Z"
   },
   {
    "duration": 18,
    "start_time": "2022-03-09T10:10:53.812Z"
   },
   {
    "duration": 61,
    "start_time": "2022-03-09T10:10:53.833Z"
   },
   {
    "duration": 12,
    "start_time": "2022-03-09T10:10:53.896Z"
   },
   {
    "duration": 15,
    "start_time": "2022-03-09T10:10:53.911Z"
   },
   {
    "duration": 40,
    "start_time": "2022-03-09T10:10:53.929Z"
   },
   {
    "duration": 26,
    "start_time": "2022-03-09T10:10:53.972Z"
   },
   {
    "duration": 33,
    "start_time": "2022-03-09T10:10:54.000Z"
   },
   {
    "duration": 372,
    "start_time": "2022-03-09T10:10:54.053Z"
   },
   {
    "duration": 3,
    "start_time": "2022-03-09T10:10:54.428Z"
   },
   {
    "duration": 40,
    "start_time": "2022-03-09T10:10:54.433Z"
   },
   {
    "duration": 140,
    "start_time": "2022-03-09T10:10:54.480Z"
   },
   {
    "duration": 68,
    "start_time": "2022-03-09T10:10:54.624Z"
   },
   {
    "duration": 5,
    "start_time": "2022-03-09T10:10:54.694Z"
   },
   {
    "duration": 1090,
    "start_time": "2022-03-09T10:10:54.701Z"
   },
   {
    "duration": 587,
    "start_time": "2022-03-09T10:10:55.794Z"
   },
   {
    "duration": 1088,
    "start_time": "2022-03-09T10:10:56.384Z"
   },
   {
    "duration": 48,
    "start_time": "2022-03-09T10:10:57.474Z"
   },
   {
    "duration": 650,
    "start_time": "2022-03-09T10:10:57.525Z"
   },
   {
    "duration": 22,
    "start_time": "2022-03-09T10:10:58.178Z"
   },
   {
    "duration": 978,
    "start_time": "2022-03-09T10:10:58.203Z"
   },
   {
    "duration": 881,
    "start_time": "2022-03-09T10:10:59.183Z"
   },
   {
    "duration": 844,
    "start_time": "2022-03-09T10:11:00.066Z"
   },
   {
    "duration": 373,
    "start_time": "2022-03-09T10:11:00.912Z"
   },
   {
    "duration": 75,
    "start_time": "2022-03-09T10:11:01.287Z"
   },
   {
    "duration": 55,
    "start_time": "2022-03-09T10:11:01.365Z"
   },
   {
    "duration": 260,
    "start_time": "2022-03-09T10:11:01.422Z"
   },
   {
    "duration": 1517,
    "start_time": "2022-03-09T10:11:01.685Z"
   },
   {
    "duration": 26,
    "start_time": "2022-03-09T10:11:03.204Z"
   },
   {
    "duration": 50,
    "start_time": "2022-03-09T10:11:03.232Z"
   },
   {
    "duration": 112,
    "start_time": "2022-03-09T10:11:03.284Z"
   },
   {
    "duration": 53,
    "start_time": "2022-03-09T10:11:03.399Z"
   },
   {
    "duration": 14,
    "start_time": "2022-03-09T10:11:03.454Z"
   },
   {
    "duration": 1378,
    "start_time": "2022-03-09T10:18:06.309Z"
   },
   {
    "duration": 63,
    "start_time": "2022-03-09T10:18:07.690Z"
   },
   {
    "duration": 14,
    "start_time": "2022-03-09T10:18:07.758Z"
   },
   {
    "duration": 12,
    "start_time": "2022-03-09T10:18:07.775Z"
   },
   {
    "duration": 19,
    "start_time": "2022-03-09T10:18:07.790Z"
   },
   {
    "duration": 117,
    "start_time": "2022-03-09T10:18:07.812Z"
   },
   {
    "duration": 24,
    "start_time": "2022-03-09T10:18:07.931Z"
   },
   {
    "duration": 7,
    "start_time": "2022-03-09T10:18:07.957Z"
   },
   {
    "duration": 7,
    "start_time": "2022-03-09T10:18:07.969Z"
   },
   {
    "duration": 21,
    "start_time": "2022-03-09T10:18:07.979Z"
   },
   {
    "duration": 85,
    "start_time": "2022-03-09T10:18:08.002Z"
   },
   {
    "duration": 12,
    "start_time": "2022-03-09T10:18:08.089Z"
   },
   {
    "duration": 12,
    "start_time": "2022-03-09T10:18:08.103Z"
   },
   {
    "duration": 48,
    "start_time": "2022-03-09T10:18:08.118Z"
   },
   {
    "duration": 20,
    "start_time": "2022-03-09T10:18:08.169Z"
   },
   {
    "duration": 24,
    "start_time": "2022-03-09T10:18:08.192Z"
   },
   {
    "duration": 384,
    "start_time": "2022-03-09T10:18:08.218Z"
   },
   {
    "duration": 3,
    "start_time": "2022-03-09T10:18:08.604Z"
   },
   {
    "duration": 13,
    "start_time": "2022-03-09T10:18:08.609Z"
   },
   {
    "duration": 165,
    "start_time": "2022-03-09T10:18:08.625Z"
   },
   {
    "duration": 76,
    "start_time": "2022-03-09T10:18:08.794Z"
   },
   {
    "duration": 6,
    "start_time": "2022-03-09T10:18:08.873Z"
   },
   {
    "duration": 1106,
    "start_time": "2022-03-09T10:18:08.883Z"
   },
   {
    "duration": 797,
    "start_time": "2022-03-09T10:18:09.992Z"
   },
   {
    "duration": 1187,
    "start_time": "2022-03-09T10:18:10.792Z"
   },
   {
    "duration": 70,
    "start_time": "2022-03-09T10:18:11.983Z"
   },
   {
    "duration": 662,
    "start_time": "2022-03-09T10:18:12.061Z"
   },
   {
    "duration": 33,
    "start_time": "2022-03-09T10:18:12.726Z"
   },
   {
    "duration": 957,
    "start_time": "2022-03-09T10:18:12.762Z"
   },
   {
    "duration": 1099,
    "start_time": "2022-03-09T10:18:13.722Z"
   },
   {
    "duration": 894,
    "start_time": "2022-03-09T10:18:14.825Z"
   },
   {
    "duration": 374,
    "start_time": "2022-03-09T10:18:15.721Z"
   },
   {
    "duration": 71,
    "start_time": "2022-03-09T10:18:16.098Z"
   },
   {
    "duration": 50,
    "start_time": "2022-03-09T10:18:16.171Z"
   },
   {
    "duration": 258,
    "start_time": "2022-03-09T10:18:16.224Z"
   },
   {
    "duration": 1531,
    "start_time": "2022-03-09T10:18:16.484Z"
   },
   {
    "duration": 37,
    "start_time": "2022-03-09T10:18:18.018Z"
   },
   {
    "duration": 37,
    "start_time": "2022-03-09T10:18:18.058Z"
   },
   {
    "duration": 118,
    "start_time": "2022-03-09T10:18:18.098Z"
   },
   {
    "duration": 43,
    "start_time": "2022-03-09T10:18:18.218Z"
   },
   {
    "duration": 11,
    "start_time": "2022-03-09T10:18:18.263Z"
   },
   {
    "duration": 3,
    "start_time": "2022-03-09T10:34:30.059Z"
   },
   {
    "duration": 64,
    "start_time": "2022-03-09T10:34:30.065Z"
   },
   {
    "duration": 21,
    "start_time": "2022-03-09T10:34:30.132Z"
   },
   {
    "duration": 15,
    "start_time": "2022-03-09T10:34:30.156Z"
   },
   {
    "duration": 21,
    "start_time": "2022-03-09T10:34:30.174Z"
   },
   {
    "duration": 124,
    "start_time": "2022-03-09T10:34:30.198Z"
   },
   {
    "duration": 29,
    "start_time": "2022-03-09T10:34:30.324Z"
   },
   {
    "duration": 7,
    "start_time": "2022-03-09T10:34:30.357Z"
   },
   {
    "duration": 15,
    "start_time": "2022-03-09T10:34:30.367Z"
   },
   {
    "duration": 26,
    "start_time": "2022-03-09T10:34:30.385Z"
   },
   {
    "duration": 44,
    "start_time": "2022-03-09T10:34:30.414Z"
   },
   {
    "duration": 18,
    "start_time": "2022-03-09T10:34:30.461Z"
   },
   {
    "duration": 19,
    "start_time": "2022-03-09T10:34:30.481Z"
   },
   {
    "duration": 59,
    "start_time": "2022-03-09T10:34:30.503Z"
   },
   {
    "duration": 34,
    "start_time": "2022-03-09T10:34:30.566Z"
   },
   {
    "duration": 383,
    "start_time": "2022-03-09T10:34:30.603Z"
   },
   {
    "duration": 11,
    "start_time": "2022-03-09T10:34:30.988Z"
   },
   {
    "duration": 174,
    "start_time": "2022-03-09T10:34:31.001Z"
   },
   {
    "duration": 40,
    "start_time": "2022-03-09T10:34:31.178Z"
   },
   {
    "duration": 33,
    "start_time": "2022-03-09T10:34:31.221Z"
   },
   {
    "duration": 442,
    "start_time": "2022-03-09T10:36:35.628Z"
   },
   {
    "duration": 1283,
    "start_time": "2022-03-09T10:36:42.111Z"
   },
   {
    "duration": 61,
    "start_time": "2022-03-09T10:36:43.397Z"
   },
   {
    "duration": 15,
    "start_time": "2022-03-09T10:36:43.461Z"
   },
   {
    "duration": 13,
    "start_time": "2022-03-09T10:36:43.478Z"
   },
   {
    "duration": 18,
    "start_time": "2022-03-09T10:36:43.493Z"
   },
   {
    "duration": 110,
    "start_time": "2022-03-09T10:36:43.514Z"
   },
   {
    "duration": 28,
    "start_time": "2022-03-09T10:36:43.627Z"
   },
   {
    "duration": 7,
    "start_time": "2022-03-09T10:36:43.657Z"
   },
   {
    "duration": 8,
    "start_time": "2022-03-09T10:36:43.668Z"
   },
   {
    "duration": 21,
    "start_time": "2022-03-09T10:36:43.679Z"
   },
   {
    "duration": 50,
    "start_time": "2022-03-09T10:36:43.703Z"
   },
   {
    "duration": 12,
    "start_time": "2022-03-09T10:36:43.756Z"
   },
   {
    "duration": 18,
    "start_time": "2022-03-09T10:36:43.770Z"
   },
   {
    "duration": 19,
    "start_time": "2022-03-09T10:36:43.791Z"
   },
   {
    "duration": 56,
    "start_time": "2022-03-09T10:36:43.812Z"
   },
   {
    "duration": 363,
    "start_time": "2022-03-09T10:36:43.871Z"
   },
   {
    "duration": 20,
    "start_time": "2022-03-09T10:36:44.237Z"
   },
   {
    "duration": 160,
    "start_time": "2022-03-09T10:36:44.260Z"
   },
   {
    "duration": 56,
    "start_time": "2022-03-09T10:36:44.423Z"
   },
   {
    "duration": 4,
    "start_time": "2022-03-09T10:36:44.482Z"
   },
   {
    "duration": 366,
    "start_time": "2022-03-09T10:36:44.489Z"
   },
   {
    "duration": -345,
    "start_time": "2022-03-09T10:36:45.203Z"
   },
   {
    "duration": -345,
    "start_time": "2022-03-09T10:36:45.205Z"
   },
   {
    "duration": -346,
    "start_time": "2022-03-09T10:36:45.207Z"
   },
   {
    "duration": -346,
    "start_time": "2022-03-09T10:36:45.209Z"
   },
   {
    "duration": -346,
    "start_time": "2022-03-09T10:36:45.211Z"
   },
   {
    "duration": -347,
    "start_time": "2022-03-09T10:36:45.213Z"
   },
   {
    "duration": -352,
    "start_time": "2022-03-09T10:36:45.220Z"
   },
   {
    "duration": -352,
    "start_time": "2022-03-09T10:36:45.222Z"
   },
   {
    "duration": -352,
    "start_time": "2022-03-09T10:36:45.224Z"
   },
   {
    "duration": -352,
    "start_time": "2022-03-09T10:36:45.225Z"
   },
   {
    "duration": -352,
    "start_time": "2022-03-09T10:36:45.227Z"
   },
   {
    "duration": -353,
    "start_time": "2022-03-09T10:36:45.229Z"
   },
   {
    "duration": -364,
    "start_time": "2022-03-09T10:36:45.241Z"
   },
   {
    "duration": -364,
    "start_time": "2022-03-09T10:36:45.243Z"
   },
   {
    "duration": -365,
    "start_time": "2022-03-09T10:36:45.245Z"
   },
   {
    "duration": -367,
    "start_time": "2022-03-09T10:36:45.248Z"
   },
   {
    "duration": -367,
    "start_time": "2022-03-09T10:36:45.250Z"
   },
   {
    "duration": 1312,
    "start_time": "2022-03-09T10:37:21.507Z"
   },
   {
    "duration": 1278,
    "start_time": "2022-03-09T10:38:07.111Z"
   },
   {
    "duration": 667,
    "start_time": "2022-03-09T10:38:18.414Z"
   },
   {
    "duration": 42,
    "start_time": "2022-03-09T10:39:55.076Z"
   },
   {
    "duration": 40,
    "start_time": "2022-03-09T10:40:21.419Z"
   },
   {
    "duration": 614,
    "start_time": "2022-03-09T10:41:32.981Z"
   },
   {
    "duration": 1250,
    "start_time": "2022-03-09T10:42:22.332Z"
   },
   {
    "duration": 1033,
    "start_time": "2022-03-09T10:42:43.806Z"
   },
   {
    "duration": 1177,
    "start_time": "2022-03-09T10:43:36.677Z"
   },
   {
    "duration": 29,
    "start_time": "2022-03-09T10:44:23.934Z"
   },
   {
    "duration": 3,
    "start_time": "2022-03-09T10:44:32.036Z"
   },
   {
    "duration": 1034,
    "start_time": "2022-03-09T10:44:47.871Z"
   },
   {
    "duration": 986,
    "start_time": "2022-03-09T10:45:03.080Z"
   },
   {
    "duration": 607,
    "start_time": "2022-03-09T10:45:20.935Z"
   },
   {
    "duration": 990,
    "start_time": "2022-03-09T10:47:16.473Z"
   },
   {
    "duration": 96,
    "start_time": "2022-03-09T10:49:30.224Z"
   },
   {
    "duration": 614,
    "start_time": "2022-03-09T10:49:53.890Z"
   },
   {
    "duration": 156,
    "start_time": "2022-03-09T10:54:29.452Z"
   },
   {
    "duration": 190,
    "start_time": "2022-03-09T10:54:36.324Z"
   },
   {
    "duration": 4,
    "start_time": "2022-03-09T10:54:47.536Z"
   },
   {
    "duration": 155,
    "start_time": "2022-03-09T10:54:57.955Z"
   },
   {
    "duration": 716,
    "start_time": "2022-03-09T10:59:44.708Z"
   },
   {
    "duration": 455,
    "start_time": "2022-03-09T11:00:35.542Z"
   },
   {
    "duration": 54,
    "start_time": "2022-03-09T11:00:36.001Z"
   },
   {
    "duration": 474,
    "start_time": "2022-03-09T11:00:49.828Z"
   },
   {
    "duration": 790,
    "start_time": "2022-03-09T11:01:00.968Z"
   },
   {
    "duration": 439,
    "start_time": "2022-03-09T11:01:09.300Z"
   },
   {
    "duration": 457,
    "start_time": "2022-03-09T11:01:19.357Z"
   },
   {
    "duration": 771,
    "start_time": "2022-03-09T11:02:06.717Z"
   },
   {
    "duration": 517,
    "start_time": "2022-03-09T11:02:46.599Z"
   },
   {
    "duration": 590,
    "start_time": "2022-03-09T11:03:20.093Z"
   },
   {
    "duration": 264,
    "start_time": "2022-03-09T11:04:22.511Z"
   },
   {
    "duration": 336,
    "start_time": "2022-03-09T11:04:41.721Z"
   },
   {
    "duration": 348,
    "start_time": "2022-03-09T11:06:56.903Z"
   },
   {
    "duration": 337,
    "start_time": "2022-03-09T11:07:04.126Z"
   },
   {
    "duration": 348,
    "start_time": "2022-03-09T11:07:57.638Z"
   },
   {
    "duration": 644,
    "start_time": "2022-03-09T11:11:29.745Z"
   },
   {
    "duration": 1281,
    "start_time": "2022-03-09T11:12:17.879Z"
   },
   {
    "duration": 263,
    "start_time": "2022-03-09T11:12:38.156Z"
   },
   {
    "duration": 339,
    "start_time": "2022-03-09T11:13:34.968Z"
   },
   {
    "duration": 1545,
    "start_time": "2022-03-09T11:13:44.939Z"
   },
   {
    "duration": 87,
    "start_time": "2022-03-09T11:13:46.488Z"
   },
   {
    "duration": 21,
    "start_time": "2022-03-09T11:13:46.579Z"
   },
   {
    "duration": 18,
    "start_time": "2022-03-09T11:13:46.604Z"
   },
   {
    "duration": 27,
    "start_time": "2022-03-09T11:13:46.652Z"
   },
   {
    "duration": 106,
    "start_time": "2022-03-09T11:13:46.682Z"
   },
   {
    "duration": 8,
    "start_time": "2022-03-09T11:13:46.791Z"
   },
   {
    "duration": 9,
    "start_time": "2022-03-09T11:13:46.804Z"
   },
   {
    "duration": 8,
    "start_time": "2022-03-09T11:13:46.854Z"
   },
   {
    "duration": 27,
    "start_time": "2022-03-09T11:13:46.866Z"
   },
   {
    "duration": 15,
    "start_time": "2022-03-09T11:13:46.896Z"
   },
   {
    "duration": 41,
    "start_time": "2022-03-09T11:13:46.913Z"
   },
   {
    "duration": 20,
    "start_time": "2022-03-09T11:13:46.957Z"
   },
   {
    "duration": 29,
    "start_time": "2022-03-09T11:13:46.981Z"
   },
   {
    "duration": 72,
    "start_time": "2022-03-09T11:13:47.013Z"
   },
   {
    "duration": 372,
    "start_time": "2022-03-09T11:13:47.088Z"
   },
   {
    "duration": 651,
    "start_time": "2022-03-09T11:13:47.463Z"
   },
   {
    "duration": 184,
    "start_time": "2022-03-09T11:13:48.116Z"
   },
   {
    "duration": 441,
    "start_time": "2022-03-09T11:13:48.303Z"
   },
   {
    "duration": -255,
    "start_time": "2022-03-09T11:13:49.002Z"
   },
   {
    "duration": -257,
    "start_time": "2022-03-09T11:13:49.006Z"
   },
   {
    "duration": -257,
    "start_time": "2022-03-09T11:13:49.008Z"
   },
   {
    "duration": -256,
    "start_time": "2022-03-09T11:13:49.009Z"
   },
   {
    "duration": -255,
    "start_time": "2022-03-09T11:13:49.011Z"
   },
   {
    "duration": -255,
    "start_time": "2022-03-09T11:13:49.013Z"
   },
   {
    "duration": -256,
    "start_time": "2022-03-09T11:13:49.016Z"
   },
   {
    "duration": -256,
    "start_time": "2022-03-09T11:13:49.018Z"
   },
   {
    "duration": -261,
    "start_time": "2022-03-09T11:13:49.025Z"
   },
   {
    "duration": -263,
    "start_time": "2022-03-09T11:13:49.028Z"
   },
   {
    "duration": -262,
    "start_time": "2022-03-09T11:13:49.029Z"
   },
   {
    "duration": -263,
    "start_time": "2022-03-09T11:13:49.031Z"
   },
   {
    "duration": -263,
    "start_time": "2022-03-09T11:13:49.033Z"
   },
   {
    "duration": -262,
    "start_time": "2022-03-09T11:13:49.034Z"
   },
   {
    "duration": -263,
    "start_time": "2022-03-09T11:13:49.036Z"
   },
   {
    "duration": -267,
    "start_time": "2022-03-09T11:13:49.042Z"
   },
   {
    "duration": 37,
    "start_time": "2022-03-09T11:14:30.087Z"
   },
   {
    "duration": 307,
    "start_time": "2022-03-09T11:15:13.137Z"
   },
   {
    "duration": 39,
    "start_time": "2022-03-09T11:15:25.550Z"
   },
   {
    "duration": 675,
    "start_time": "2022-03-09T11:17:30.201Z"
   },
   {
    "duration": 352,
    "start_time": "2022-03-09T11:17:42.609Z"
   },
   {
    "duration": 648,
    "start_time": "2022-03-09T11:18:57.626Z"
   },
   {
    "duration": 911,
    "start_time": "2022-03-09T11:19:11.495Z"
   },
   {
    "duration": 874,
    "start_time": "2022-03-09T11:19:30.121Z"
   },
   {
    "duration": 598,
    "start_time": "2022-03-09T11:20:41.749Z"
   },
   {
    "duration": 99,
    "start_time": "2022-03-09T11:20:50.299Z"
   },
   {
    "duration": 596,
    "start_time": "2022-03-09T11:20:59.274Z"
   },
   {
    "duration": 718,
    "start_time": "2022-03-09T11:21:16.034Z"
   },
   {
    "duration": 919,
    "start_time": "2022-03-09T11:21:39.332Z"
   },
   {
    "duration": 826,
    "start_time": "2022-03-09T11:21:46.776Z"
   },
   {
    "duration": 355,
    "start_time": "2022-03-09T11:22:51.635Z"
   },
   {
    "duration": 348,
    "start_time": "2022-03-09T11:23:10.429Z"
   },
   {
    "duration": 476,
    "start_time": "2022-03-09T11:23:25.843Z"
   },
   {
    "duration": 459,
    "start_time": "2022-03-09T11:26:27.055Z"
   },
   {
    "duration": 344,
    "start_time": "2022-03-09T11:27:09.203Z"
   },
   {
    "duration": 816,
    "start_time": "2022-03-09T11:27:49.451Z"
   },
   {
    "duration": 37,
    "start_time": "2022-03-09T11:31:31.036Z"
   },
   {
    "duration": 34,
    "start_time": "2022-03-09T11:33:33.888Z"
   },
   {
    "duration": 32,
    "start_time": "2022-03-09T11:33:44.182Z"
   },
   {
    "duration": 34,
    "start_time": "2022-03-09T11:34:16.862Z"
   },
   {
    "duration": 34,
    "start_time": "2022-03-09T11:34:38.335Z"
   },
   {
    "duration": 741,
    "start_time": "2022-03-09T11:37:20.481Z"
   },
   {
    "duration": 18,
    "start_time": "2022-03-09T11:38:12.577Z"
   },
   {
    "duration": 1666,
    "start_time": "2022-03-09T11:38:50.847Z"
   },
   {
    "duration": 84,
    "start_time": "2022-03-09T11:38:52.516Z"
   },
   {
    "duration": 13,
    "start_time": "2022-03-09T11:38:52.605Z"
   },
   {
    "duration": 34,
    "start_time": "2022-03-09T11:38:52.621Z"
   },
   {
    "duration": 19,
    "start_time": "2022-03-09T11:38:52.657Z"
   },
   {
    "duration": 107,
    "start_time": "2022-03-09T11:38:52.679Z"
   },
   {
    "duration": 8,
    "start_time": "2022-03-09T11:38:52.788Z"
   },
   {
    "duration": 7,
    "start_time": "2022-03-09T11:38:52.799Z"
   },
   {
    "duration": 42,
    "start_time": "2022-03-09T11:38:52.809Z"
   },
   {
    "duration": 19,
    "start_time": "2022-03-09T11:38:52.853Z"
   },
   {
    "duration": 14,
    "start_time": "2022-03-09T11:38:52.875Z"
   },
   {
    "duration": 12,
    "start_time": "2022-03-09T11:38:52.893Z"
   },
   {
    "duration": 58,
    "start_time": "2022-03-09T11:38:52.907Z"
   },
   {
    "duration": 23,
    "start_time": "2022-03-09T11:38:52.968Z"
   },
   {
    "duration": 59,
    "start_time": "2022-03-09T11:38:52.994Z"
   },
   {
    "duration": 354,
    "start_time": "2022-03-09T11:38:53.056Z"
   },
   {
    "duration": 652,
    "start_time": "2022-03-09T11:38:53.413Z"
   },
   {
    "duration": 150,
    "start_time": "2022-03-09T11:38:54.067Z"
   },
   {
    "duration": 935,
    "start_time": "2022-03-09T11:38:54.219Z"
   },
   {
    "duration": 36,
    "start_time": "2022-03-09T11:38:55.156Z"
   },
   {
    "duration": 579,
    "start_time": "2022-03-09T11:38:55.195Z"
   },
   {
    "duration": 19,
    "start_time": "2022-03-09T11:38:55.777Z"
   },
   {
    "duration": 904,
    "start_time": "2022-03-09T11:38:55.801Z"
   },
   {
    "duration": 998,
    "start_time": "2022-03-09T11:38:56.707Z"
   },
   {
    "duration": 1011,
    "start_time": "2022-03-09T11:38:57.708Z"
   },
   {
    "duration": 371,
    "start_time": "2022-03-09T11:38:58.722Z"
   },
   {
    "duration": 74,
    "start_time": "2022-03-09T11:38:59.096Z"
   },
   {
    "duration": 80,
    "start_time": "2022-03-09T11:38:59.173Z"
   },
   {
    "duration": 375,
    "start_time": "2022-03-09T11:38:59.256Z"
   },
   {
    "duration": 2041,
    "start_time": "2022-03-09T11:38:59.634Z"
   },
   {
    "duration": 25,
    "start_time": "2022-03-09T11:39:01.677Z"
   },
   {
    "duration": 63,
    "start_time": "2022-03-09T11:39:01.705Z"
   },
   {
    "duration": 12,
    "start_time": "2022-03-09T11:39:01.770Z"
   },
   {
    "duration": 38,
    "start_time": "2022-03-09T11:39:01.784Z"
   },
   {
    "duration": 33,
    "start_time": "2022-03-09T11:39:01.825Z"
   },
   {
    "duration": 836,
    "start_time": "2022-03-09T11:41:42.989Z"
   },
   {
    "duration": 943,
    "start_time": "2022-03-09T11:45:49.718Z"
   },
   {
    "duration": 817,
    "start_time": "2022-03-09T12:06:36.363Z"
   },
   {
    "duration": 1048,
    "start_time": "2022-03-09T12:06:43.298Z"
   },
   {
    "duration": 518,
    "start_time": "2022-03-09T12:09:43.663Z"
   },
   {
    "duration": 669,
    "start_time": "2022-03-09T12:13:00.599Z"
   },
   {
    "duration": 821,
    "start_time": "2022-03-09T12:13:20.365Z"
   },
   {
    "duration": 385,
    "start_time": "2022-03-09T12:13:58.439Z"
   },
   {
    "duration": 847,
    "start_time": "2022-03-09T12:19:18.709Z"
   },
   {
    "duration": 628,
    "start_time": "2022-03-09T12:19:41.281Z"
   },
   {
    "duration": 701,
    "start_time": "2022-03-09T12:20:51.729Z"
   },
   {
    "duration": 722,
    "start_time": "2022-03-09T12:21:00.050Z"
   },
   {
    "duration": 816,
    "start_time": "2022-03-09T12:21:08.457Z"
   },
   {
    "duration": 668,
    "start_time": "2022-03-09T12:21:23.103Z"
   },
   {
    "duration": 707,
    "start_time": "2022-03-09T12:21:30.387Z"
   },
   {
    "duration": 668,
    "start_time": "2022-03-09T12:23:10.924Z"
   },
   {
    "duration": 437,
    "start_time": "2022-03-09T12:24:06.515Z"
   },
   {
    "duration": 82,
    "start_time": "2022-03-09T12:24:48.919Z"
   },
   {
    "duration": 230,
    "start_time": "2022-03-09T12:47:49.148Z"
   },
   {
    "duration": 228,
    "start_time": "2022-03-09T12:48:09.452Z"
   },
   {
    "duration": 224,
    "start_time": "2022-03-09T12:49:16.052Z"
   },
   {
    "duration": 11,
    "start_time": "2022-03-09T13:01:17.901Z"
   },
   {
    "duration": 14,
    "start_time": "2022-03-09T13:01:25.816Z"
   },
   {
    "duration": 13,
    "start_time": "2022-03-09T13:06:03.451Z"
   },
   {
    "duration": 11,
    "start_time": "2022-03-09T13:06:12.900Z"
   },
   {
    "duration": 15,
    "start_time": "2022-03-09T13:06:19.404Z"
   },
   {
    "duration": 1339,
    "start_time": "2022-03-09T13:33:39.763Z"
   },
   {
    "duration": 68,
    "start_time": "2022-03-09T13:33:41.105Z"
   },
   {
    "duration": 16,
    "start_time": "2022-03-09T13:33:41.177Z"
   },
   {
    "duration": 16,
    "start_time": "2022-03-09T13:33:41.196Z"
   },
   {
    "duration": 51,
    "start_time": "2022-03-09T13:33:41.215Z"
   },
   {
    "duration": 99,
    "start_time": "2022-03-09T13:33:41.269Z"
   },
   {
    "duration": 9,
    "start_time": "2022-03-09T13:33:41.371Z"
   },
   {
    "duration": 7,
    "start_time": "2022-03-09T13:33:41.386Z"
   },
   {
    "duration": 7,
    "start_time": "2022-03-09T13:33:41.397Z"
   },
   {
    "duration": 19,
    "start_time": "2022-03-09T13:33:41.451Z"
   },
   {
    "duration": 16,
    "start_time": "2022-03-09T13:33:41.474Z"
   },
   {
    "duration": 16,
    "start_time": "2022-03-09T13:33:41.493Z"
   },
   {
    "duration": 59,
    "start_time": "2022-03-09T13:33:41.511Z"
   },
   {
    "duration": 22,
    "start_time": "2022-03-09T13:33:41.573Z"
   },
   {
    "duration": 71,
    "start_time": "2022-03-09T13:33:41.598Z"
   },
   {
    "duration": 353,
    "start_time": "2022-03-09T13:33:41.672Z"
   },
   {
    "duration": 634,
    "start_time": "2022-03-09T13:33:42.028Z"
   },
   {
    "duration": 167,
    "start_time": "2022-03-09T13:33:42.664Z"
   },
   {
    "duration": 1138,
    "start_time": "2022-03-09T13:33:42.834Z"
   },
   {
    "duration": 36,
    "start_time": "2022-03-09T13:33:43.975Z"
   },
   {
    "duration": 588,
    "start_time": "2022-03-09T13:33:44.013Z"
   },
   {
    "duration": 19,
    "start_time": "2022-03-09T13:33:44.603Z"
   },
   {
    "duration": 1147,
    "start_time": "2022-03-09T13:33:44.628Z"
   },
   {
    "duration": 1096,
    "start_time": "2022-03-09T13:33:45.778Z"
   },
   {
    "duration": 1094,
    "start_time": "2022-03-09T13:33:46.877Z"
   },
   {
    "duration": 413,
    "start_time": "2022-03-09T13:33:47.974Z"
   },
   {
    "duration": 72,
    "start_time": "2022-03-09T13:33:48.389Z"
   },
   {
    "duration": 118,
    "start_time": "2022-03-09T13:33:48.463Z"
   },
   {
    "duration": 24,
    "start_time": "2022-03-09T13:33:48.584Z"
   },
   {
    "duration": 69,
    "start_time": "2022-03-09T13:33:48.610Z"
   },
   {
    "duration": 11,
    "start_time": "2022-03-09T13:33:48.681Z"
   },
   {
    "duration": 35,
    "start_time": "2022-03-09T13:33:48.694Z"
   },
   {
    "duration": 12,
    "start_time": "2022-03-09T13:33:48.752Z"
   },
   {
    "duration": 132,
    "start_time": "2022-03-09T13:34:13.796Z"
   },
   {
    "duration": 1328,
    "start_time": "2022-03-17T16:50:21.439Z"
   },
   {
    "duration": 68,
    "start_time": "2022-03-17T16:50:22.770Z"
   },
   {
    "duration": 40,
    "start_time": "2022-03-17T16:50:22.844Z"
   },
   {
    "duration": 13,
    "start_time": "2022-03-17T16:50:22.887Z"
   },
   {
    "duration": 111,
    "start_time": "2022-03-17T16:50:22.903Z"
   },
   {
    "duration": 109,
    "start_time": "2022-03-17T16:50:23.016Z"
   },
   {
    "duration": 7,
    "start_time": "2022-03-17T16:50:23.129Z"
   },
   {
    "duration": 13,
    "start_time": "2022-03-17T16:50:23.139Z"
   },
   {
    "duration": 32,
    "start_time": "2022-03-17T16:50:23.154Z"
   },
   {
    "duration": 37,
    "start_time": "2022-03-17T16:50:23.188Z"
   },
   {
    "duration": 20,
    "start_time": "2022-03-17T16:50:23.228Z"
   },
   {
    "duration": 28,
    "start_time": "2022-03-17T16:50:23.250Z"
   },
   {
    "duration": 38,
    "start_time": "2022-03-17T16:50:23.280Z"
   },
   {
    "duration": 20,
    "start_time": "2022-03-17T16:50:23.321Z"
   },
   {
    "duration": 21,
    "start_time": "2022-03-17T16:50:23.344Z"
   },
   {
    "duration": 1090,
    "start_time": "2022-03-17T16:50:23.384Z"
   },
   {
    "duration": 609,
    "start_time": "2022-03-17T16:50:24.485Z"
   },
   {
    "duration": 147,
    "start_time": "2022-03-17T16:50:25.097Z"
   },
   {
    "duration": 832,
    "start_time": "2022-03-17T16:50:25.246Z"
   },
   {
    "duration": 33,
    "start_time": "2022-03-17T16:50:26.085Z"
   },
   {
    "duration": 624,
    "start_time": "2022-03-17T16:50:26.120Z"
   },
   {
    "duration": 19,
    "start_time": "2022-03-17T16:50:26.748Z"
   },
   {
    "duration": 906,
    "start_time": "2022-03-17T16:50:26.769Z"
   },
   {
    "duration": 910,
    "start_time": "2022-03-17T16:50:27.677Z"
   },
   {
    "duration": 935,
    "start_time": "2022-03-17T16:50:28.590Z"
   },
   {
    "duration": 396,
    "start_time": "2022-03-17T16:50:29.528Z"
   },
   {
    "duration": 59,
    "start_time": "2022-03-17T16:50:29.927Z"
   },
   {
    "duration": 213,
    "start_time": "2022-03-17T16:50:29.988Z"
   },
   {
    "duration": 80,
    "start_time": "2022-03-17T16:50:30.203Z"
   },
   {
    "duration": 29,
    "start_time": "2022-03-17T16:50:30.286Z"
   },
   {
    "duration": 35,
    "start_time": "2022-03-17T16:50:30.318Z"
   },
   {
    "duration": 44,
    "start_time": "2022-03-17T16:50:30.355Z"
   },
   {
    "duration": 10,
    "start_time": "2022-03-17T16:50:30.401Z"
   },
   {
    "duration": 1248,
    "start_time": "2022-03-18T09:29:36.911Z"
   },
   {
    "duration": 53,
    "start_time": "2022-03-18T09:29:38.161Z"
   },
   {
    "duration": 13,
    "start_time": "2022-03-18T09:29:38.216Z"
   },
   {
    "duration": 9,
    "start_time": "2022-03-18T09:29:38.233Z"
   },
   {
    "duration": 13,
    "start_time": "2022-03-18T09:29:38.244Z"
   },
   {
    "duration": 75,
    "start_time": "2022-03-18T09:29:38.259Z"
   },
   {
    "duration": 6,
    "start_time": "2022-03-18T09:29:38.335Z"
   },
   {
    "duration": 9,
    "start_time": "2022-03-18T09:29:38.342Z"
   },
   {
    "duration": 8,
    "start_time": "2022-03-18T09:29:38.352Z"
   },
   {
    "duration": 15,
    "start_time": "2022-03-18T09:29:38.362Z"
   },
   {
    "duration": 9,
    "start_time": "2022-03-18T09:29:38.379Z"
   },
   {
    "duration": 9,
    "start_time": "2022-03-18T09:29:38.390Z"
   },
   {
    "duration": 42,
    "start_time": "2022-03-18T09:29:38.400Z"
   },
   {
    "duration": 13,
    "start_time": "2022-03-18T09:29:38.443Z"
   },
   {
    "duration": 13,
    "start_time": "2022-03-18T09:29:38.457Z"
   },
   {
    "duration": 187,
    "start_time": "2022-03-18T09:29:38.472Z"
   },
   {
    "duration": 315,
    "start_time": "2022-03-18T09:29:38.661Z"
   },
   {
    "duration": 90,
    "start_time": "2022-03-18T09:29:38.978Z"
   },
   {
    "duration": 428,
    "start_time": "2022-03-18T09:29:39.069Z"
   },
   {
    "duration": 21,
    "start_time": "2022-03-18T09:29:39.498Z"
   },
   {
    "duration": 237,
    "start_time": "2022-03-18T09:29:39.520Z"
   },
   {
    "duration": 13,
    "start_time": "2022-03-18T09:29:39.759Z"
   },
   {
    "duration": 339,
    "start_time": "2022-03-18T09:29:39.773Z"
   },
   {
    "duration": 372,
    "start_time": "2022-03-18T09:29:40.114Z"
   },
   {
    "duration": 301,
    "start_time": "2022-03-18T09:29:40.488Z"
   },
   {
    "duration": 208,
    "start_time": "2022-03-18T09:29:40.791Z"
   },
   {
    "duration": 43,
    "start_time": "2022-03-18T09:29:41.000Z"
   },
   {
    "duration": 59,
    "start_time": "2022-03-18T09:29:41.046Z"
   },
   {
    "duration": 41,
    "start_time": "2022-03-18T09:29:41.107Z"
   },
   {
    "duration": 20,
    "start_time": "2022-03-18T09:29:41.150Z"
   },
   {
    "duration": 7,
    "start_time": "2022-03-18T09:29:41.171Z"
   },
   {
    "duration": 27,
    "start_time": "2022-03-18T09:29:41.179Z"
   },
   {
    "duration": 29,
    "start_time": "2022-03-18T09:29:41.208Z"
   },
   {
    "duration": 1134,
    "start_time": "2022-03-18T12:54:33.795Z"
   },
   {
    "duration": 61,
    "start_time": "2022-03-18T12:54:34.933Z"
   },
   {
    "duration": 14,
    "start_time": "2022-03-18T12:54:34.996Z"
   },
   {
    "duration": 11,
    "start_time": "2022-03-18T12:54:35.012Z"
   },
   {
    "duration": 16,
    "start_time": "2022-03-18T12:54:35.043Z"
   },
   {
    "duration": 56,
    "start_time": "2022-03-18T12:54:35.061Z"
   },
   {
    "duration": 23,
    "start_time": "2022-03-18T12:54:35.119Z"
   },
   {
    "duration": 14,
    "start_time": "2022-03-18T12:54:35.144Z"
   },
   {
    "duration": 8,
    "start_time": "2022-03-18T12:54:35.160Z"
   },
   {
    "duration": 14,
    "start_time": "2022-03-18T12:54:35.170Z"
   },
   {
    "duration": 13,
    "start_time": "2022-03-18T12:54:35.186Z"
   },
   {
    "duration": 9,
    "start_time": "2022-03-18T12:54:35.201Z"
   },
   {
    "duration": 21,
    "start_time": "2022-03-18T12:54:35.242Z"
   },
   {
    "duration": 12,
    "start_time": "2022-03-18T12:54:35.266Z"
   },
   {
    "duration": 14,
    "start_time": "2022-03-18T12:54:35.280Z"
   },
   {
    "duration": 204,
    "start_time": "2022-03-18T12:54:35.295Z"
   },
   {
    "duration": 337,
    "start_time": "2022-03-18T12:54:35.501Z"
   },
   {
    "duration": 71,
    "start_time": "2022-03-18T12:54:35.840Z"
   },
   {
    "duration": 474,
    "start_time": "2022-03-18T12:54:35.913Z"
   },
   {
    "duration": 23,
    "start_time": "2022-03-18T12:54:36.388Z"
   },
   {
    "duration": 264,
    "start_time": "2022-03-18T12:54:36.413Z"
   },
   {
    "duration": 12,
    "start_time": "2022-03-18T12:54:36.679Z"
   },
   {
    "duration": 358,
    "start_time": "2022-03-18T12:54:36.692Z"
   },
   {
    "duration": 441,
    "start_time": "2022-03-18T12:54:37.052Z"
   },
   {
    "duration": 340,
    "start_time": "2022-03-18T12:54:37.495Z"
   },
   {
    "duration": 241,
    "start_time": "2022-03-18T12:54:37.838Z"
   },
   {
    "duration": 36,
    "start_time": "2022-03-18T12:54:38.081Z"
   },
   {
    "duration": 70,
    "start_time": "2022-03-18T12:54:38.135Z"
   },
   {
    "duration": 44,
    "start_time": "2022-03-18T12:54:38.207Z"
   },
   {
    "duration": 20,
    "start_time": "2022-03-18T12:54:38.253Z"
   },
   {
    "duration": 7,
    "start_time": "2022-03-18T12:54:38.274Z"
   },
   {
    "duration": 31,
    "start_time": "2022-03-18T12:54:38.282Z"
   },
   {
    "duration": 27,
    "start_time": "2022-03-18T12:54:38.315Z"
   },
   {
    "duration": 110,
    "start_time": "2022-03-18T15:13:51.827Z"
   },
   {
    "duration": 22,
    "start_time": "2022-03-18T15:14:04.891Z"
   },
   {
    "duration": 28,
    "start_time": "2022-03-18T15:15:40.339Z"
   },
   {
    "duration": 23,
    "start_time": "2022-03-18T15:15:56.419Z"
   },
   {
    "duration": 27,
    "start_time": "2022-03-18T15:21:41.540Z"
   },
   {
    "duration": 25,
    "start_time": "2022-03-18T15:22:11.639Z"
   },
   {
    "duration": 92,
    "start_time": "2022-03-18T15:25:11.378Z"
   },
   {
    "duration": 11,
    "start_time": "2022-03-18T15:25:27.055Z"
   },
   {
    "duration": 215,
    "start_time": "2022-03-18T15:26:06.442Z"
   },
   {
    "duration": 195,
    "start_time": "2022-03-18T15:26:23.763Z"
   },
   {
    "duration": 11,
    "start_time": "2022-03-18T15:36:10.854Z"
   },
   {
    "duration": 32,
    "start_time": "2022-03-18T15:36:19.044Z"
   },
   {
    "duration": 12,
    "start_time": "2022-03-18T15:36:29.263Z"
   },
   {
    "duration": 30,
    "start_time": "2022-03-18T15:36:38.329Z"
   },
   {
    "duration": 226,
    "start_time": "2022-03-18T15:41:30.672Z"
   },
   {
    "duration": 57,
    "start_time": "2022-03-18T15:41:38.046Z"
   },
   {
    "duration": 52,
    "start_time": "2022-03-18T15:41:38.105Z"
   },
   {
    "duration": 14,
    "start_time": "2022-03-18T15:41:38.159Z"
   },
   {
    "duration": 10,
    "start_time": "2022-03-18T15:41:38.175Z"
   },
   {
    "duration": 14,
    "start_time": "2022-03-18T15:41:38.186Z"
   },
   {
    "duration": 82,
    "start_time": "2022-03-18T15:41:38.201Z"
   },
   {
    "duration": 6,
    "start_time": "2022-03-18T15:41:38.285Z"
   },
   {
    "duration": 9,
    "start_time": "2022-03-18T15:41:38.293Z"
   },
   {
    "duration": 33,
    "start_time": "2022-03-18T15:41:38.304Z"
   },
   {
    "duration": 21,
    "start_time": "2022-03-18T15:41:38.341Z"
   },
   {
    "duration": 16,
    "start_time": "2022-03-18T15:41:38.364Z"
   },
   {
    "duration": 11,
    "start_time": "2022-03-18T15:41:38.382Z"
   },
   {
    "duration": 47,
    "start_time": "2022-03-18T15:41:38.395Z"
   },
   {
    "duration": 20,
    "start_time": "2022-03-18T15:41:38.444Z"
   },
   {
    "duration": 21,
    "start_time": "2022-03-18T15:41:38.466Z"
   },
   {
    "duration": 261,
    "start_time": "2022-03-18T15:41:38.489Z"
   },
   {
    "duration": 390,
    "start_time": "2022-03-18T15:41:38.752Z"
   },
   {
    "duration": 63,
    "start_time": "2022-03-18T15:41:39.143Z"
   },
   {
    "duration": 436,
    "start_time": "2022-03-18T15:41:39.207Z"
   },
   {
    "duration": 24,
    "start_time": "2022-03-18T15:41:39.645Z"
   },
   {
    "duration": 264,
    "start_time": "2022-03-18T15:41:39.670Z"
   },
   {
    "duration": 227,
    "start_time": "2022-03-18T15:42:37.010Z"
   },
   {
    "duration": 120,
    "start_time": "2022-03-18T15:43:03.913Z"
   },
   {
    "duration": 225,
    "start_time": "2022-03-18T15:43:14.553Z"
   },
   {
    "duration": 309,
    "start_time": "2022-03-18T15:46:14.139Z"
   },
   {
    "duration": 231,
    "start_time": "2022-03-18T15:47:42.812Z"
   },
   {
    "duration": 443,
    "start_time": "2022-03-18T15:48:04.113Z"
   },
   {
    "duration": 227,
    "start_time": "2022-03-18T15:50:56.019Z"
   },
   {
    "duration": 518,
    "start_time": "2022-03-18T15:51:15.245Z"
   },
   {
    "duration": 118,
    "start_time": "2022-03-18T15:54:53.800Z"
   },
   {
    "duration": 1097,
    "start_time": "2022-03-18T15:58:56.510Z"
   },
   {
    "duration": 51,
    "start_time": "2022-03-18T15:58:57.609Z"
   },
   {
    "duration": 14,
    "start_time": "2022-03-18T15:58:57.662Z"
   },
   {
    "duration": 10,
    "start_time": "2022-03-18T15:58:57.678Z"
   },
   {
    "duration": 12,
    "start_time": "2022-03-18T15:58:57.690Z"
   },
   {
    "duration": 77,
    "start_time": "2022-03-18T15:58:57.704Z"
   },
   {
    "duration": 5,
    "start_time": "2022-03-18T15:58:57.782Z"
   },
   {
    "duration": 7,
    "start_time": "2022-03-18T15:58:57.788Z"
   },
   {
    "duration": 7,
    "start_time": "2022-03-18T15:58:57.797Z"
   },
   {
    "duration": 38,
    "start_time": "2022-03-18T15:58:57.806Z"
   },
   {
    "duration": 12,
    "start_time": "2022-03-18T15:58:57.846Z"
   },
   {
    "duration": 8,
    "start_time": "2022-03-18T15:58:57.860Z"
   },
   {
    "duration": 16,
    "start_time": "2022-03-18T15:58:57.870Z"
   },
   {
    "duration": 14,
    "start_time": "2022-03-18T15:58:57.887Z"
   },
   {
    "duration": 42,
    "start_time": "2022-03-18T15:58:57.903Z"
   },
   {
    "duration": 177,
    "start_time": "2022-03-18T15:58:57.947Z"
   },
   {
    "duration": 318,
    "start_time": "2022-03-18T15:58:58.126Z"
   },
   {
    "duration": 62,
    "start_time": "2022-03-18T15:58:58.446Z"
   },
   {
    "duration": 430,
    "start_time": "2022-03-18T15:58:58.510Z"
   },
   {
    "duration": 25,
    "start_time": "2022-03-18T15:58:58.941Z"
   },
   {
    "duration": 12,
    "start_time": "2022-03-18T15:58:58.967Z"
   },
   {
    "duration": 339,
    "start_time": "2022-03-18T15:58:58.980Z"
   },
   {
    "duration": 370,
    "start_time": "2022-03-18T15:58:59.320Z"
   },
   {
    "duration": 292,
    "start_time": "2022-03-18T15:58:59.691Z"
   },
   {
    "duration": 232,
    "start_time": "2022-03-18T15:58:59.984Z"
   },
   {
    "duration": 43,
    "start_time": "2022-03-18T15:59:00.218Z"
   },
   {
    "duration": 82,
    "start_time": "2022-03-18T15:59:00.263Z"
   },
   {
    "duration": 18,
    "start_time": "2022-03-18T15:59:00.348Z"
   },
   {
    "duration": 22,
    "start_time": "2022-03-18T15:59:00.367Z"
   },
   {
    "duration": 8,
    "start_time": "2022-03-18T15:59:00.391Z"
   },
   {
    "duration": 51,
    "start_time": "2022-03-18T15:59:00.400Z"
   },
   {
    "duration": 8,
    "start_time": "2022-03-18T15:59:00.453Z"
   },
   {
    "duration": 106,
    "start_time": "2022-03-18T15:59:29.690Z"
   },
   {
    "duration": 447,
    "start_time": "2022-03-18T15:59:41.449Z"
   },
   {
    "duration": 544,
    "start_time": "2022-03-18T16:00:49.864Z"
   },
   {
    "duration": 339,
    "start_time": "2022-03-18T16:02:56.569Z"
   },
   {
    "duration": 251,
    "start_time": "2022-03-18T16:03:34.983Z"
   },
   {
    "duration": 490,
    "start_time": "2022-03-18T16:05:10.971Z"
   },
   {
    "duration": 583,
    "start_time": "2022-03-18T16:05:28.786Z"
   },
   {
    "duration": 492,
    "start_time": "2022-03-18T16:05:41.717Z"
   },
   {
    "duration": 549,
    "start_time": "2022-03-18T16:05:52.067Z"
   },
   {
    "duration": 567,
    "start_time": "2022-03-18T16:06:01.698Z"
   },
   {
    "duration": 483,
    "start_time": "2022-03-18T16:06:34.389Z"
   },
   {
    "duration": 474,
    "start_time": "2022-03-18T16:07:23.601Z"
   },
   {
    "duration": 331,
    "start_time": "2022-03-18T16:13:10.474Z"
   },
   {
    "duration": 365,
    "start_time": "2022-03-18T16:13:38.420Z"
   },
   {
    "duration": 473,
    "start_time": "2022-03-18T16:13:56.498Z"
   },
   {
    "duration": 108,
    "start_time": "2022-03-18T16:16:08.461Z"
   },
   {
    "duration": 583,
    "start_time": "2022-03-18T16:16:20.268Z"
   },
   {
    "duration": 496,
    "start_time": "2022-03-18T16:16:46.984Z"
   },
   {
    "duration": 644,
    "start_time": "2022-03-18T16:17:03.394Z"
   },
   {
    "duration": 1002,
    "start_time": "2022-03-18T16:17:19.805Z"
   },
   {
    "duration": 502,
    "start_time": "2022-03-18T16:17:36.993Z"
   },
   {
    "duration": 370,
    "start_time": "2022-03-18T16:17:51.865Z"
   },
   {
    "duration": 1097,
    "start_time": "2022-03-18T16:18:41.048Z"
   },
   {
    "duration": 49,
    "start_time": "2022-03-18T16:18:42.147Z"
   },
   {
    "duration": 14,
    "start_time": "2022-03-18T16:18:42.197Z"
   },
   {
    "duration": 21,
    "start_time": "2022-03-18T16:18:42.213Z"
   },
   {
    "duration": 13,
    "start_time": "2022-03-18T16:18:42.236Z"
   },
   {
    "duration": 63,
    "start_time": "2022-03-18T16:18:42.251Z"
   },
   {
    "duration": 23,
    "start_time": "2022-03-18T16:18:42.315Z"
   },
   {
    "duration": 6,
    "start_time": "2022-03-18T16:18:42.340Z"
   },
   {
    "duration": 8,
    "start_time": "2022-03-18T16:18:42.348Z"
   },
   {
    "duration": 16,
    "start_time": "2022-03-18T16:18:42.359Z"
   },
   {
    "duration": 11,
    "start_time": "2022-03-18T16:18:42.376Z"
   },
   {
    "duration": 8,
    "start_time": "2022-03-18T16:18:42.389Z"
   },
   {
    "duration": 46,
    "start_time": "2022-03-18T16:18:42.399Z"
   },
   {
    "duration": 14,
    "start_time": "2022-03-18T16:18:42.447Z"
   },
   {
    "duration": 15,
    "start_time": "2022-03-18T16:18:42.462Z"
   },
   {
    "duration": 187,
    "start_time": "2022-03-18T16:18:42.478Z"
   },
   {
    "duration": 316,
    "start_time": "2022-03-18T16:18:42.666Z"
   },
   {
    "duration": 78,
    "start_time": "2022-03-18T16:18:42.984Z"
   },
   {
    "duration": 418,
    "start_time": "2022-03-18T16:18:43.064Z"
   },
   {
    "duration": 25,
    "start_time": "2022-03-18T16:18:43.484Z"
   },
   {
    "duration": 435,
    "start_time": "2022-03-18T16:18:43.511Z"
   },
   {
    "duration": 0,
    "start_time": "2022-03-18T16:18:43.948Z"
   },
   {
    "duration": 0,
    "start_time": "2022-03-18T16:18:43.950Z"
   },
   {
    "duration": 0,
    "start_time": "2022-03-18T16:18:43.951Z"
   },
   {
    "duration": 0,
    "start_time": "2022-03-18T16:18:43.953Z"
   },
   {
    "duration": 0,
    "start_time": "2022-03-18T16:18:43.954Z"
   },
   {
    "duration": 0,
    "start_time": "2022-03-18T16:18:43.955Z"
   },
   {
    "duration": 0,
    "start_time": "2022-03-18T16:18:43.957Z"
   },
   {
    "duration": 0,
    "start_time": "2022-03-18T16:18:43.958Z"
   },
   {
    "duration": 0,
    "start_time": "2022-03-18T16:18:43.960Z"
   },
   {
    "duration": 0,
    "start_time": "2022-03-18T16:18:43.961Z"
   },
   {
    "duration": 1,
    "start_time": "2022-03-18T16:18:43.962Z"
   },
   {
    "duration": 0,
    "start_time": "2022-03-18T16:18:43.964Z"
   },
   {
    "duration": 540,
    "start_time": "2022-03-18T16:20:22.827Z"
   },
   {
    "duration": 228,
    "start_time": "2022-03-18T16:20:39.571Z"
   },
   {
    "duration": 216,
    "start_time": "2022-03-18T16:21:43.390Z"
   },
   {
    "duration": 220,
    "start_time": "2022-03-18T16:22:51.595Z"
   },
   {
    "duration": 122,
    "start_time": "2022-03-18T16:23:47.126Z"
   },
   {
    "duration": 3,
    "start_time": "2022-03-18T16:23:59.574Z"
   },
   {
    "duration": 102,
    "start_time": "2022-03-18T16:24:04.218Z"
   },
   {
    "duration": 298,
    "start_time": "2022-03-18T16:24:23.878Z"
   },
   {
    "duration": 229,
    "start_time": "2022-03-18T16:25:12.737Z"
   },
   {
    "duration": 188,
    "start_time": "2022-03-18T16:25:45.189Z"
   },
   {
    "duration": 216,
    "start_time": "2022-03-18T16:25:55.714Z"
   },
   {
    "duration": 225,
    "start_time": "2022-03-18T16:26:12.209Z"
   },
   {
    "duration": 515,
    "start_time": "2022-03-18T16:26:40.310Z"
   },
   {
    "duration": 13,
    "start_time": "2022-03-18T16:27:00.090Z"
   },
   {
    "duration": 230,
    "start_time": "2022-03-18T16:27:23.604Z"
   },
   {
    "duration": 446,
    "start_time": "2022-03-18T16:27:40.225Z"
   },
   {
    "duration": 538,
    "start_time": "2022-03-18T16:27:53.294Z"
   },
   {
    "duration": 429,
    "start_time": "2022-03-18T16:28:13.579Z"
   },
   {
    "duration": 446,
    "start_time": "2022-03-18T16:28:45.733Z"
   },
   {
    "duration": 561,
    "start_time": "2022-03-18T16:29:58.213Z"
   },
   {
    "duration": 1070,
    "start_time": "2022-03-18T16:30:41.085Z"
   },
   {
    "duration": 69,
    "start_time": "2022-03-18T16:30:42.158Z"
   },
   {
    "duration": 13,
    "start_time": "2022-03-18T16:30:42.229Z"
   },
   {
    "duration": 17,
    "start_time": "2022-03-18T16:30:42.244Z"
   },
   {
    "duration": 13,
    "start_time": "2022-03-18T16:30:42.263Z"
   },
   {
    "duration": 76,
    "start_time": "2022-03-18T16:30:42.277Z"
   },
   {
    "duration": 5,
    "start_time": "2022-03-18T16:30:42.354Z"
   },
   {
    "duration": 9,
    "start_time": "2022-03-18T16:30:42.361Z"
   },
   {
    "duration": 10,
    "start_time": "2022-03-18T16:30:42.371Z"
   },
   {
    "duration": 13,
    "start_time": "2022-03-18T16:30:42.383Z"
   },
   {
    "duration": 10,
    "start_time": "2022-03-18T16:30:42.397Z"
   },
   {
    "duration": 9,
    "start_time": "2022-03-18T16:30:42.432Z"
   },
   {
    "duration": 16,
    "start_time": "2022-03-18T16:30:42.442Z"
   },
   {
    "duration": 13,
    "start_time": "2022-03-18T16:30:42.461Z"
   },
   {
    "duration": 14,
    "start_time": "2022-03-18T16:30:42.475Z"
   },
   {
    "duration": 186,
    "start_time": "2022-03-18T16:30:42.490Z"
   },
   {
    "duration": 312,
    "start_time": "2022-03-18T16:30:42.677Z"
   },
   {
    "duration": 76,
    "start_time": "2022-03-18T16:30:42.991Z"
   },
   {
    "duration": 405,
    "start_time": "2022-03-18T16:30:43.068Z"
   },
   {
    "duration": 26,
    "start_time": "2022-03-18T16:30:43.474Z"
   },
   {
    "duration": 242,
    "start_time": "2022-03-18T16:30:43.502Z"
   },
   {
    "duration": 13,
    "start_time": "2022-03-18T16:30:43.746Z"
   },
   {
    "duration": 400,
    "start_time": "2022-03-18T16:30:43.761Z"
   },
   {
    "duration": 302,
    "start_time": "2022-03-18T16:30:44.163Z"
   },
   {
    "duration": 291,
    "start_time": "2022-03-18T16:30:44.467Z"
   },
   {
    "duration": 217,
    "start_time": "2022-03-18T16:30:44.760Z"
   },
   {
    "duration": 32,
    "start_time": "2022-03-18T16:30:44.978Z"
   },
   {
    "duration": 78,
    "start_time": "2022-03-18T16:30:45.011Z"
   },
   {
    "duration": 16,
    "start_time": "2022-03-18T16:30:45.091Z"
   },
   {
    "duration": 21,
    "start_time": "2022-03-18T16:30:45.133Z"
   },
   {
    "duration": 6,
    "start_time": "2022-03-18T16:30:45.156Z"
   },
   {
    "duration": 28,
    "start_time": "2022-03-18T16:30:45.164Z"
   },
   {
    "duration": 7,
    "start_time": "2022-03-18T16:30:45.194Z"
   },
   {
    "duration": 23,
    "start_time": "2022-03-18T16:37:38.070Z"
   },
   {
    "duration": 23,
    "start_time": "2022-03-18T16:38:13.100Z"
   },
   {
    "duration": 1030,
    "start_time": "2022-03-18T16:38:38.390Z"
   },
   {
    "duration": 68,
    "start_time": "2022-03-18T16:38:39.422Z"
   },
   {
    "duration": 20,
    "start_time": "2022-03-18T16:38:39.492Z"
   },
   {
    "duration": 25,
    "start_time": "2022-03-18T16:38:39.514Z"
   },
   {
    "duration": 19,
    "start_time": "2022-03-18T16:38:39.542Z"
   },
   {
    "duration": 74,
    "start_time": "2022-03-18T16:38:39.562Z"
   },
   {
    "duration": 5,
    "start_time": "2022-03-18T16:38:39.638Z"
   },
   {
    "duration": 7,
    "start_time": "2022-03-18T16:38:39.644Z"
   },
   {
    "duration": 5,
    "start_time": "2022-03-18T16:38:39.653Z"
   },
   {
    "duration": 14,
    "start_time": "2022-03-18T16:38:39.660Z"
   },
   {
    "duration": 9,
    "start_time": "2022-03-18T16:38:39.676Z"
   },
   {
    "duration": 9,
    "start_time": "2022-03-18T16:38:39.687Z"
   },
   {
    "duration": 26,
    "start_time": "2022-03-18T16:38:39.732Z"
   },
   {
    "duration": 18,
    "start_time": "2022-03-18T16:38:39.761Z"
   },
   {
    "duration": 22,
    "start_time": "2022-03-18T16:38:39.781Z"
   },
   {
    "duration": 298,
    "start_time": "2022-03-18T16:38:39.805Z"
   },
   {
    "duration": 329,
    "start_time": "2022-03-18T16:38:40.106Z"
   },
   {
    "duration": 61,
    "start_time": "2022-03-18T16:38:40.436Z"
   },
   {
    "duration": 433,
    "start_time": "2022-03-18T16:38:40.499Z"
   },
   {
    "duration": 25,
    "start_time": "2022-03-18T16:38:40.934Z"
   },
   {
    "duration": 240,
    "start_time": "2022-03-18T16:38:40.961Z"
   },
   {
    "duration": 12,
    "start_time": "2022-03-18T16:38:41.203Z"
   },
   {
    "duration": 412,
    "start_time": "2022-03-18T16:38:41.217Z"
   },
   {
    "duration": 296,
    "start_time": "2022-03-18T16:38:41.632Z"
   },
   {
    "duration": 295,
    "start_time": "2022-03-18T16:38:41.933Z"
   },
   {
    "duration": 214,
    "start_time": "2022-03-18T16:38:42.232Z"
   },
   {
    "duration": 34,
    "start_time": "2022-03-18T16:38:42.448Z"
   },
   {
    "duration": 80,
    "start_time": "2022-03-18T16:38:42.483Z"
   },
   {
    "duration": 16,
    "start_time": "2022-03-18T16:38:42.565Z"
   },
   {
    "duration": 21,
    "start_time": "2022-03-18T16:38:42.582Z"
   },
   {
    "duration": 31,
    "start_time": "2022-03-18T16:38:42.605Z"
   },
   {
    "duration": 22,
    "start_time": "2022-03-18T16:38:42.638Z"
   },
   {
    "duration": 7,
    "start_time": "2022-03-18T16:38:42.662Z"
   },
   {
    "duration": 38,
    "start_time": "2022-03-18T16:42:46.794Z"
   },
   {
    "duration": 41,
    "start_time": "2022-03-18T16:43:01.119Z"
   },
   {
    "duration": 38,
    "start_time": "2022-03-18T16:43:16.463Z"
   },
   {
    "duration": 1093,
    "start_time": "2022-03-18T16:43:25.329Z"
   },
   {
    "duration": 52,
    "start_time": "2022-03-18T16:43:26.424Z"
   },
   {
    "duration": 15,
    "start_time": "2022-03-18T16:43:26.477Z"
   },
   {
    "duration": 10,
    "start_time": "2022-03-18T16:43:26.493Z"
   },
   {
    "duration": 32,
    "start_time": "2022-03-18T16:43:26.505Z"
   },
   {
    "duration": 55,
    "start_time": "2022-03-18T16:43:26.538Z"
   },
   {
    "duration": 5,
    "start_time": "2022-03-18T16:43:26.595Z"
   },
   {
    "duration": 33,
    "start_time": "2022-03-18T16:43:26.601Z"
   },
   {
    "duration": 6,
    "start_time": "2022-03-18T16:43:26.635Z"
   },
   {
    "duration": 13,
    "start_time": "2022-03-18T16:43:26.642Z"
   },
   {
    "duration": 9,
    "start_time": "2022-03-18T16:43:26.657Z"
   },
   {
    "duration": 7,
    "start_time": "2022-03-18T16:43:26.668Z"
   },
   {
    "duration": 15,
    "start_time": "2022-03-18T16:43:26.676Z"
   },
   {
    "duration": 40,
    "start_time": "2022-03-18T16:43:26.694Z"
   },
   {
    "duration": 14,
    "start_time": "2022-03-18T16:43:26.736Z"
   },
   {
    "duration": 167,
    "start_time": "2022-03-18T16:43:26.752Z"
   },
   {
    "duration": 316,
    "start_time": "2022-03-18T16:43:26.921Z"
   },
   {
    "duration": 61,
    "start_time": "2022-03-18T16:43:27.239Z"
   },
   {
    "duration": 421,
    "start_time": "2022-03-18T16:43:27.301Z"
   },
   {
    "duration": 31,
    "start_time": "2022-03-18T16:43:27.724Z"
   },
   {
    "duration": 237,
    "start_time": "2022-03-18T16:43:27.757Z"
   },
   {
    "duration": 12,
    "start_time": "2022-03-18T16:43:27.996Z"
   },
   {
    "duration": 412,
    "start_time": "2022-03-18T16:43:28.009Z"
   },
   {
    "duration": 290,
    "start_time": "2022-03-18T16:43:28.423Z"
   },
   {
    "duration": 291,
    "start_time": "2022-03-18T16:43:28.714Z"
   },
   {
    "duration": 217,
    "start_time": "2022-03-18T16:43:29.007Z"
   },
   {
    "duration": 38,
    "start_time": "2022-03-18T16:43:29.226Z"
   },
   {
    "duration": 86,
    "start_time": "2022-03-18T16:43:29.266Z"
   },
   {
    "duration": 17,
    "start_time": "2022-03-18T16:43:29.354Z"
   },
   {
    "duration": 21,
    "start_time": "2022-03-18T16:43:29.373Z"
   },
   {
    "duration": 6,
    "start_time": "2022-03-18T16:43:29.396Z"
   },
   {
    "duration": 23,
    "start_time": "2022-03-18T16:43:29.433Z"
   },
   {
    "duration": 7,
    "start_time": "2022-03-18T16:43:29.458Z"
   },
   {
    "duration": 49,
    "start_time": "2022-03-18T16:46:25.889Z"
   },
   {
    "duration": 45,
    "start_time": "2022-03-18T16:47:07.471Z"
   },
   {
    "duration": 3,
    "start_time": "2022-03-18T16:47:53.648Z"
   },
   {
    "duration": 47,
    "start_time": "2022-03-18T16:47:53.653Z"
   },
   {
    "duration": 2234,
    "start_time": "2022-03-18T16:47:56.872Z"
   },
   {
    "duration": 1099,
    "start_time": "2022-03-18T16:48:07.562Z"
   },
   {
    "duration": 48,
    "start_time": "2022-03-18T16:48:08.663Z"
   },
   {
    "duration": 2090,
    "start_time": "2022-03-18T16:48:08.713Z"
   },
   {
    "duration": 0,
    "start_time": "2022-03-18T16:48:10.806Z"
   },
   {
    "duration": 0,
    "start_time": "2022-03-18T16:48:10.808Z"
   },
   {
    "duration": 0,
    "start_time": "2022-03-18T16:48:10.810Z"
   },
   {
    "duration": 0,
    "start_time": "2022-03-18T16:48:10.811Z"
   },
   {
    "duration": 0,
    "start_time": "2022-03-18T16:48:10.812Z"
   },
   {
    "duration": 0,
    "start_time": "2022-03-18T16:48:10.814Z"
   },
   {
    "duration": 0,
    "start_time": "2022-03-18T16:48:10.815Z"
   },
   {
    "duration": 0,
    "start_time": "2022-03-18T16:48:10.816Z"
   },
   {
    "duration": 0,
    "start_time": "2022-03-18T16:48:10.818Z"
   },
   {
    "duration": 0,
    "start_time": "2022-03-18T16:48:10.819Z"
   },
   {
    "duration": 0,
    "start_time": "2022-03-18T16:48:10.820Z"
   },
   {
    "duration": 0,
    "start_time": "2022-03-18T16:48:10.821Z"
   },
   {
    "duration": 0,
    "start_time": "2022-03-18T16:48:10.822Z"
   },
   {
    "duration": 0,
    "start_time": "2022-03-18T16:48:10.824Z"
   },
   {
    "duration": 0,
    "start_time": "2022-03-18T16:48:10.825Z"
   },
   {
    "duration": 0,
    "start_time": "2022-03-18T16:48:10.826Z"
   },
   {
    "duration": 0,
    "start_time": "2022-03-18T16:48:10.828Z"
   },
   {
    "duration": 0,
    "start_time": "2022-03-18T16:48:10.829Z"
   },
   {
    "duration": 0,
    "start_time": "2022-03-18T16:48:10.830Z"
   },
   {
    "duration": 0,
    "start_time": "2022-03-18T16:48:10.831Z"
   },
   {
    "duration": 0,
    "start_time": "2022-03-18T16:48:10.833Z"
   },
   {
    "duration": 0,
    "start_time": "2022-03-18T16:48:10.834Z"
   },
   {
    "duration": 0,
    "start_time": "2022-03-18T16:48:10.836Z"
   },
   {
    "duration": 0,
    "start_time": "2022-03-18T16:48:10.837Z"
   },
   {
    "duration": 0,
    "start_time": "2022-03-18T16:48:10.838Z"
   },
   {
    "duration": 0,
    "start_time": "2022-03-18T16:48:10.840Z"
   },
   {
    "duration": 0,
    "start_time": "2022-03-18T16:48:10.841Z"
   },
   {
    "duration": 0,
    "start_time": "2022-03-18T16:48:10.842Z"
   },
   {
    "duration": 0,
    "start_time": "2022-03-18T16:48:10.845Z"
   },
   {
    "duration": 0,
    "start_time": "2022-03-18T16:48:10.846Z"
   },
   {
    "duration": 0,
    "start_time": "2022-03-18T16:48:10.848Z"
   },
   {
    "duration": 20,
    "start_time": "2022-03-18T16:48:32.663Z"
   },
   {
    "duration": 984,
    "start_time": "2022-03-18T16:49:51.979Z"
   },
   {
    "duration": 50,
    "start_time": "2022-03-18T16:49:52.965Z"
   },
   {
    "duration": 24,
    "start_time": "2022-03-18T16:49:53.016Z"
   },
   {
    "duration": 13,
    "start_time": "2022-03-18T16:49:53.042Z"
   },
   {
    "duration": 10,
    "start_time": "2022-03-18T16:49:53.057Z"
   },
   {
    "duration": 16,
    "start_time": "2022-03-18T16:49:53.068Z"
   },
   {
    "duration": 83,
    "start_time": "2022-03-18T16:49:53.086Z"
   },
   {
    "duration": 5,
    "start_time": "2022-03-18T16:49:53.171Z"
   },
   {
    "duration": 7,
    "start_time": "2022-03-18T16:49:53.177Z"
   },
   {
    "duration": 5,
    "start_time": "2022-03-18T16:49:53.187Z"
   },
   {
    "duration": 41,
    "start_time": "2022-03-18T16:49:53.193Z"
   },
   {
    "duration": 10,
    "start_time": "2022-03-18T16:49:53.236Z"
   },
   {
    "duration": 7,
    "start_time": "2022-03-18T16:49:53.248Z"
   },
   {
    "duration": 17,
    "start_time": "2022-03-18T16:49:53.257Z"
   },
   {
    "duration": 14,
    "start_time": "2022-03-18T16:49:53.275Z"
   },
   {
    "duration": 42,
    "start_time": "2022-03-18T16:49:53.291Z"
   },
   {
    "duration": 164,
    "start_time": "2022-03-18T16:49:53.335Z"
   },
   {
    "duration": 313,
    "start_time": "2022-03-18T16:49:53.501Z"
   },
   {
    "duration": 70,
    "start_time": "2022-03-18T16:49:53.815Z"
   },
   {
    "duration": 414,
    "start_time": "2022-03-18T16:49:53.887Z"
   },
   {
    "duration": 33,
    "start_time": "2022-03-18T16:49:54.303Z"
   },
   {
    "duration": 225,
    "start_time": "2022-03-18T16:49:54.338Z"
   },
   {
    "duration": 13,
    "start_time": "2022-03-18T16:49:54.565Z"
   },
   {
    "duration": 329,
    "start_time": "2022-03-18T16:49:54.580Z"
   },
   {
    "duration": 390,
    "start_time": "2022-03-18T16:49:54.911Z"
   },
   {
    "duration": 291,
    "start_time": "2022-03-18T16:49:55.303Z"
   },
   {
    "duration": 256,
    "start_time": "2022-03-18T16:49:55.596Z"
   },
   {
    "duration": 45,
    "start_time": "2022-03-18T16:49:55.856Z"
   },
   {
    "duration": 85,
    "start_time": "2022-03-18T16:49:55.903Z"
   },
   {
    "duration": 16,
    "start_time": "2022-03-18T16:49:55.990Z"
   },
   {
    "duration": 41,
    "start_time": "2022-03-18T16:49:56.007Z"
   },
   {
    "duration": 6,
    "start_time": "2022-03-18T16:49:56.049Z"
   },
   {
    "duration": 25,
    "start_time": "2022-03-18T16:49:56.057Z"
   },
   {
    "duration": 6,
    "start_time": "2022-03-18T16:49:56.084Z"
   },
   {
    "duration": 4,
    "start_time": "2022-03-18T16:53:00.518Z"
   },
   {
    "duration": 90,
    "start_time": "2022-03-18T16:53:04.743Z"
   },
   {
    "duration": 1073,
    "start_time": "2022-03-18T16:53:09.025Z"
   },
   {
    "duration": 51,
    "start_time": "2022-03-18T16:53:10.099Z"
   },
   {
    "duration": 15,
    "start_time": "2022-03-18T16:53:10.151Z"
   },
   {
    "duration": 13,
    "start_time": "2022-03-18T16:53:10.168Z"
   },
   {
    "duration": 10,
    "start_time": "2022-03-18T16:53:10.182Z"
   },
   {
    "duration": 40,
    "start_time": "2022-03-18T16:53:10.194Z"
   },
   {
    "duration": 52,
    "start_time": "2022-03-18T16:53:10.235Z"
   },
   {
    "duration": 4,
    "start_time": "2022-03-18T16:53:10.289Z"
   },
   {
    "duration": 6,
    "start_time": "2022-03-18T16:53:10.295Z"
   },
   {
    "duration": 30,
    "start_time": "2022-03-18T16:53:10.304Z"
   },
   {
    "duration": 18,
    "start_time": "2022-03-18T16:53:10.336Z"
   },
   {
    "duration": 11,
    "start_time": "2022-03-18T16:53:10.356Z"
   },
   {
    "duration": 7,
    "start_time": "2022-03-18T16:53:10.369Z"
   },
   {
    "duration": 21,
    "start_time": "2022-03-18T16:53:10.378Z"
   },
   {
    "duration": 40,
    "start_time": "2022-03-18T16:53:10.400Z"
   },
   {
    "duration": 14,
    "start_time": "2022-03-18T16:53:10.442Z"
   },
   {
    "duration": 177,
    "start_time": "2022-03-18T16:53:10.458Z"
   },
   {
    "duration": 313,
    "start_time": "2022-03-18T16:53:10.637Z"
   },
   {
    "duration": 63,
    "start_time": "2022-03-18T16:53:10.952Z"
   },
   {
    "duration": 435,
    "start_time": "2022-03-18T16:53:11.017Z"
   },
   {
    "duration": 27,
    "start_time": "2022-03-18T16:53:11.454Z"
   },
   {
    "duration": 239,
    "start_time": "2022-03-18T16:53:11.482Z"
   },
   {
    "duration": 21,
    "start_time": "2022-03-18T16:53:11.723Z"
   },
   {
    "duration": 318,
    "start_time": "2022-03-18T16:53:11.746Z"
   },
   {
    "duration": 384,
    "start_time": "2022-03-18T16:53:12.065Z"
   },
   {
    "duration": 292,
    "start_time": "2022-03-18T16:53:12.451Z"
   },
   {
    "duration": 211,
    "start_time": "2022-03-18T16:53:12.745Z"
   },
   {
    "duration": 30,
    "start_time": "2022-03-18T16:53:12.959Z"
   },
   {
    "duration": 79,
    "start_time": "2022-03-18T16:53:12.991Z"
   },
   {
    "duration": 15,
    "start_time": "2022-03-18T16:53:13.072Z"
   },
   {
    "duration": 20,
    "start_time": "2022-03-18T16:53:13.088Z"
   },
   {
    "duration": 7,
    "start_time": "2022-03-18T16:53:13.133Z"
   },
   {
    "duration": 24,
    "start_time": "2022-03-18T16:53:13.142Z"
   },
   {
    "duration": 7,
    "start_time": "2022-03-18T16:53:13.167Z"
   },
   {
    "duration": 1007,
    "start_time": "2022-03-18T16:54:55.951Z"
   },
   {
    "duration": 49,
    "start_time": "2022-03-18T16:54:56.960Z"
   },
   {
    "duration": 15,
    "start_time": "2022-03-18T16:54:57.010Z"
   },
   {
    "duration": 10,
    "start_time": "2022-03-18T16:54:57.033Z"
   },
   {
    "duration": 13,
    "start_time": "2022-03-18T16:54:57.044Z"
   },
   {
    "duration": 76,
    "start_time": "2022-03-18T16:54:57.058Z"
   },
   {
    "duration": 5,
    "start_time": "2022-03-18T16:54:57.136Z"
   },
   {
    "duration": 9,
    "start_time": "2022-03-18T16:54:57.142Z"
   },
   {
    "duration": 7,
    "start_time": "2022-03-18T16:54:57.152Z"
   },
   {
    "duration": 13,
    "start_time": "2022-03-18T16:54:57.161Z"
   },
   {
    "duration": 11,
    "start_time": "2022-03-18T16:54:57.176Z"
   },
   {
    "duration": 9,
    "start_time": "2022-03-18T16:54:57.188Z"
   },
   {
    "duration": 49,
    "start_time": "2022-03-18T16:54:57.198Z"
   },
   {
    "duration": 13,
    "start_time": "2022-03-18T16:54:57.249Z"
   },
   {
    "duration": 14,
    "start_time": "2022-03-18T16:54:57.263Z"
   },
   {
    "duration": 178,
    "start_time": "2022-03-18T16:54:57.278Z"
   },
   {
    "duration": 314,
    "start_time": "2022-03-18T16:54:57.457Z"
   },
   {
    "duration": 76,
    "start_time": "2022-03-18T16:54:57.773Z"
   },
   {
    "duration": 415,
    "start_time": "2022-03-18T16:54:57.851Z"
   },
   {
    "duration": 26,
    "start_time": "2022-03-18T16:54:58.268Z"
   },
   {
    "duration": 375,
    "start_time": "2022-03-18T16:54:58.295Z"
   },
   {
    "duration": 14,
    "start_time": "2022-03-18T16:54:58.672Z"
   },
   {
    "duration": 337,
    "start_time": "2022-03-18T16:54:58.687Z"
   },
   {
    "duration": 392,
    "start_time": "2022-03-18T16:54:59.026Z"
   },
   {
    "duration": 306,
    "start_time": "2022-03-18T16:54:59.420Z"
   },
   {
    "duration": 206,
    "start_time": "2022-03-18T16:54:59.732Z"
   },
   {
    "duration": 33,
    "start_time": "2022-03-18T16:54:59.940Z"
   },
   {
    "duration": 88,
    "start_time": "2022-03-18T16:54:59.976Z"
   },
   {
    "duration": 17,
    "start_time": "2022-03-18T16:55:00.066Z"
   },
   {
    "duration": 26,
    "start_time": "2022-03-18T16:55:00.085Z"
   },
   {
    "duration": 25,
    "start_time": "2022-03-18T16:55:00.113Z"
   },
   {
    "duration": 51,
    "start_time": "2022-03-18T16:55:00.139Z"
   },
   {
    "duration": 7,
    "start_time": "2022-03-18T16:55:00.192Z"
   },
   {
    "duration": 13,
    "start_time": "2022-03-18T16:58:32.178Z"
   },
   {
    "duration": 1069,
    "start_time": "2022-03-18T16:58:52.318Z"
   },
   {
    "duration": 50,
    "start_time": "2022-03-18T16:58:53.389Z"
   },
   {
    "duration": 15,
    "start_time": "2022-03-18T16:58:53.441Z"
   },
   {
    "duration": 8,
    "start_time": "2022-03-18T16:58:53.458Z"
   },
   {
    "duration": 12,
    "start_time": "2022-03-18T16:58:53.469Z"
   },
   {
    "duration": 82,
    "start_time": "2022-03-18T16:58:53.483Z"
   },
   {
    "duration": 4,
    "start_time": "2022-03-18T16:58:53.566Z"
   },
   {
    "duration": 8,
    "start_time": "2022-03-18T16:58:53.572Z"
   },
   {
    "duration": 5,
    "start_time": "2022-03-18T16:58:53.582Z"
   },
   {
    "duration": 13,
    "start_time": "2022-03-18T16:58:53.589Z"
   },
   {
    "duration": 32,
    "start_time": "2022-03-18T16:58:53.604Z"
   },
   {
    "duration": 8,
    "start_time": "2022-03-18T16:58:53.638Z"
   },
   {
    "duration": 14,
    "start_time": "2022-03-18T16:58:53.647Z"
   },
   {
    "duration": 16,
    "start_time": "2022-03-18T16:58:53.664Z"
   },
   {
    "duration": 13,
    "start_time": "2022-03-18T16:58:53.681Z"
   },
   {
    "duration": 43,
    "start_time": "2022-03-18T16:58:53.695Z"
   },
   {
    "duration": 172,
    "start_time": "2022-03-18T16:58:53.740Z"
   },
   {
    "duration": 354,
    "start_time": "2022-03-18T16:58:53.913Z"
   },
   {
    "duration": 113,
    "start_time": "2022-03-18T16:58:54.269Z"
   },
   {
    "duration": 498,
    "start_time": "2022-03-18T16:58:54.385Z"
   },
   {
    "duration": 25,
    "start_time": "2022-03-18T16:58:54.884Z"
   },
   {
    "duration": 243,
    "start_time": "2022-03-18T16:58:54.910Z"
   },
   {
    "duration": 12,
    "start_time": "2022-03-18T16:58:55.155Z"
   },
   {
    "duration": 331,
    "start_time": "2022-03-18T16:58:55.169Z"
   },
   {
    "duration": 379,
    "start_time": "2022-03-18T16:58:55.502Z"
   },
   {
    "duration": 302,
    "start_time": "2022-03-18T16:58:55.883Z"
   },
   {
    "duration": 214,
    "start_time": "2022-03-18T16:58:56.187Z"
   },
   {
    "duration": 46,
    "start_time": "2022-03-18T16:58:56.403Z"
   },
   {
    "duration": 57,
    "start_time": "2022-03-18T16:58:56.450Z"
   },
   {
    "duration": 38,
    "start_time": "2022-03-18T16:58:56.509Z"
   },
   {
    "duration": 23,
    "start_time": "2022-03-18T16:58:56.549Z"
   },
   {
    "duration": 7,
    "start_time": "2022-03-18T16:58:56.574Z"
   },
   {
    "duration": 22,
    "start_time": "2022-03-18T16:58:56.582Z"
   },
   {
    "duration": 30,
    "start_time": "2022-03-18T16:58:56.606Z"
   },
   {
    "duration": 1021,
    "start_time": "2022-03-18T16:59:40.235Z"
   },
   {
    "duration": 49,
    "start_time": "2022-03-18T16:59:41.258Z"
   },
   {
    "duration": 15,
    "start_time": "2022-03-18T16:59:41.309Z"
   },
   {
    "duration": 14,
    "start_time": "2022-03-18T16:59:41.333Z"
   },
   {
    "duration": 9,
    "start_time": "2022-03-18T16:59:41.350Z"
   },
   {
    "duration": 16,
    "start_time": "2022-03-18T16:59:41.361Z"
   },
   {
    "duration": 74,
    "start_time": "2022-03-18T16:59:41.378Z"
   },
   {
    "duration": 5,
    "start_time": "2022-03-18T16:59:41.454Z"
   },
   {
    "duration": 7,
    "start_time": "2022-03-18T16:59:41.460Z"
   },
   {
    "duration": 6,
    "start_time": "2022-03-18T16:59:41.468Z"
   },
   {
    "duration": 14,
    "start_time": "2022-03-18T16:59:41.476Z"
   },
   {
    "duration": 11,
    "start_time": "2022-03-18T16:59:41.491Z"
   },
   {
    "duration": 34,
    "start_time": "2022-03-18T16:59:41.504Z"
   },
   {
    "duration": 14,
    "start_time": "2022-03-18T16:59:41.541Z"
   },
   {
    "duration": 16,
    "start_time": "2022-03-18T16:59:41.556Z"
   },
   {
    "duration": 14,
    "start_time": "2022-03-18T16:59:41.573Z"
   },
   {
    "duration": 51,
    "start_time": "2022-03-18T16:59:41.589Z"
   },
   {
    "duration": 161,
    "start_time": "2022-03-18T16:59:41.641Z"
   },
   {
    "duration": 311,
    "start_time": "2022-03-18T16:59:41.804Z"
   },
   {
    "duration": 72,
    "start_time": "2022-03-18T16:59:42.116Z"
   },
   {
    "duration": 413,
    "start_time": "2022-03-18T16:59:42.190Z"
   },
   {
    "duration": 29,
    "start_time": "2022-03-18T16:59:42.605Z"
   },
   {
    "duration": 226,
    "start_time": "2022-03-18T16:59:42.635Z"
   },
   {
    "duration": 12,
    "start_time": "2022-03-18T16:59:42.863Z"
   },
   {
    "duration": 333,
    "start_time": "2022-03-18T16:59:42.877Z"
   },
   {
    "duration": 368,
    "start_time": "2022-03-18T16:59:43.211Z"
   },
   {
    "duration": 288,
    "start_time": "2022-03-18T16:59:43.580Z"
   },
   {
    "duration": 212,
    "start_time": "2022-03-18T16:59:43.869Z"
   },
   {
    "duration": 33,
    "start_time": "2022-03-18T16:59:44.083Z"
   },
   {
    "duration": 74,
    "start_time": "2022-03-18T16:59:44.117Z"
   },
   {
    "duration": 42,
    "start_time": "2022-03-18T16:59:44.192Z"
   },
   {
    "duration": 22,
    "start_time": "2022-03-18T16:59:44.236Z"
   },
   {
    "duration": 7,
    "start_time": "2022-03-18T16:59:44.260Z"
   },
   {
    "duration": 25,
    "start_time": "2022-03-18T16:59:44.268Z"
   },
   {
    "duration": 7,
    "start_time": "2022-03-18T16:59:44.294Z"
   },
   {
    "duration": 83,
    "start_time": "2022-03-18T17:01:21.444Z"
   },
   {
    "duration": 100,
    "start_time": "2022-03-18T17:03:02.803Z"
   },
   {
    "duration": 107,
    "start_time": "2022-03-18T17:05:11.296Z"
   },
   {
    "duration": 1104,
    "start_time": "2022-03-18T17:05:17.257Z"
   },
   {
    "duration": 51,
    "start_time": "2022-03-18T17:05:18.363Z"
   },
   {
    "duration": 110,
    "start_time": "2022-03-18T17:05:18.415Z"
   },
   {
    "duration": 0,
    "start_time": "2022-03-18T17:05:18.527Z"
   },
   {
    "duration": 0,
    "start_time": "2022-03-18T17:05:18.528Z"
   },
   {
    "duration": 0,
    "start_time": "2022-03-18T17:05:18.532Z"
   },
   {
    "duration": 0,
    "start_time": "2022-03-18T17:05:18.533Z"
   },
   {
    "duration": 0,
    "start_time": "2022-03-18T17:05:18.534Z"
   },
   {
    "duration": 0,
    "start_time": "2022-03-18T17:05:18.535Z"
   },
   {
    "duration": 0,
    "start_time": "2022-03-18T17:05:18.536Z"
   },
   {
    "duration": 0,
    "start_time": "2022-03-18T17:05:18.537Z"
   },
   {
    "duration": 0,
    "start_time": "2022-03-18T17:05:18.538Z"
   },
   {
    "duration": 0,
    "start_time": "2022-03-18T17:05:18.539Z"
   },
   {
    "duration": 0,
    "start_time": "2022-03-18T17:05:18.540Z"
   },
   {
    "duration": 0,
    "start_time": "2022-03-18T17:05:18.541Z"
   },
   {
    "duration": 0,
    "start_time": "2022-03-18T17:05:18.542Z"
   },
   {
    "duration": 0,
    "start_time": "2022-03-18T17:05:18.542Z"
   },
   {
    "duration": 0,
    "start_time": "2022-03-18T17:05:18.543Z"
   },
   {
    "duration": 0,
    "start_time": "2022-03-18T17:05:18.544Z"
   },
   {
    "duration": 0,
    "start_time": "2022-03-18T17:05:18.545Z"
   },
   {
    "duration": 0,
    "start_time": "2022-03-18T17:05:18.546Z"
   },
   {
    "duration": 0,
    "start_time": "2022-03-18T17:05:18.547Z"
   },
   {
    "duration": 0,
    "start_time": "2022-03-18T17:05:18.548Z"
   },
   {
    "duration": 0,
    "start_time": "2022-03-18T17:05:18.549Z"
   },
   {
    "duration": 0,
    "start_time": "2022-03-18T17:05:18.549Z"
   },
   {
    "duration": 0,
    "start_time": "2022-03-18T17:05:18.550Z"
   },
   {
    "duration": 0,
    "start_time": "2022-03-18T17:05:18.551Z"
   },
   {
    "duration": 0,
    "start_time": "2022-03-18T17:05:18.551Z"
   },
   {
    "duration": 0,
    "start_time": "2022-03-18T17:05:18.552Z"
   },
   {
    "duration": 0,
    "start_time": "2022-03-18T17:05:18.553Z"
   },
   {
    "duration": 0,
    "start_time": "2022-03-18T17:05:18.554Z"
   },
   {
    "duration": 0,
    "start_time": "2022-03-18T17:05:18.555Z"
   },
   {
    "duration": 0,
    "start_time": "2022-03-18T17:05:18.556Z"
   },
   {
    "duration": 0,
    "start_time": "2022-03-18T17:05:18.557Z"
   },
   {
    "duration": 0,
    "start_time": "2022-03-18T17:05:18.558Z"
   },
   {
    "duration": 15,
    "start_time": "2022-03-18T17:05:49.199Z"
   },
   {
    "duration": 12,
    "start_time": "2022-03-18T17:07:06.501Z"
   },
   {
    "duration": 27,
    "start_time": "2022-03-18T17:07:20.192Z"
   },
   {
    "duration": 18,
    "start_time": "2022-03-18T17:07:28.126Z"
   },
   {
    "duration": 11,
    "start_time": "2022-03-18T17:08:25.531Z"
   },
   {
    "duration": 25,
    "start_time": "2022-03-18T17:08:35.446Z"
   },
   {
    "duration": 16,
    "start_time": "2022-03-18T17:08:38.609Z"
   },
   {
    "duration": 23,
    "start_time": "2022-03-18T17:08:47.492Z"
   },
   {
    "duration": 23,
    "start_time": "2022-03-18T17:09:48.006Z"
   },
   {
    "duration": 34,
    "start_time": "2022-03-18T17:12:07.039Z"
   },
   {
    "duration": 17,
    "start_time": "2022-03-18T17:12:33.104Z"
   },
   {
    "duration": 28,
    "start_time": "2022-03-18T17:12:45.765Z"
   },
   {
    "duration": 107,
    "start_time": "2022-03-18T17:13:34.280Z"
   },
   {
    "duration": 56,
    "start_time": "2022-03-18T17:13:47.039Z"
   },
   {
    "duration": 29,
    "start_time": "2022-03-18T17:15:23.097Z"
   },
   {
    "duration": 17,
    "start_time": "2022-03-18T17:15:32.715Z"
   },
   {
    "duration": 18,
    "start_time": "2022-03-18T17:18:19.667Z"
   },
   {
    "duration": 21,
    "start_time": "2022-03-18T17:19:19.075Z"
   },
   {
    "duration": 20,
    "start_time": "2022-03-18T17:21:11.512Z"
   },
   {
    "duration": 11,
    "start_time": "2022-03-18T17:23:12.316Z"
   },
   {
    "duration": 47,
    "start_time": "2022-03-18T17:29:56.827Z"
   },
   {
    "duration": 44,
    "start_time": "2022-03-18T17:30:12.253Z"
   },
   {
    "duration": 51,
    "start_time": "2022-03-18T17:30:35.292Z"
   },
   {
    "duration": 995,
    "start_time": "2022-03-18T22:02:58.270Z"
   },
   {
    "duration": 50,
    "start_time": "2022-03-18T22:02:59.267Z"
   },
   {
    "duration": 53,
    "start_time": "2022-03-18T22:02:59.318Z"
   },
   {
    "duration": 13,
    "start_time": "2022-03-18T22:02:59.373Z"
   },
   {
    "duration": 9,
    "start_time": "2022-03-18T22:02:59.388Z"
   },
   {
    "duration": 41,
    "start_time": "2022-03-18T22:02:59.399Z"
   },
   {
    "duration": 54,
    "start_time": "2022-03-18T22:02:59.441Z"
   },
   {
    "duration": 5,
    "start_time": "2022-03-18T22:02:59.496Z"
   },
   {
    "duration": 30,
    "start_time": "2022-03-18T22:02:59.503Z"
   },
   {
    "duration": 4,
    "start_time": "2022-03-18T22:02:59.535Z"
   },
   {
    "duration": 13,
    "start_time": "2022-03-18T22:02:59.541Z"
   },
   {
    "duration": 11,
    "start_time": "2022-03-18T22:02:59.555Z"
   },
   {
    "duration": 7,
    "start_time": "2022-03-18T22:02:59.567Z"
   },
   {
    "duration": 129,
    "start_time": "2022-03-18T22:02:59.577Z"
   },
   {
    "duration": 16,
    "start_time": "2022-03-18T22:02:59.708Z"
   },
   {
    "duration": 13,
    "start_time": "2022-03-18T22:02:59.732Z"
   },
   {
    "duration": 13,
    "start_time": "2022-03-18T22:02:59.747Z"
   },
   {
    "duration": 180,
    "start_time": "2022-03-18T22:02:59.762Z"
   },
   {
    "duration": 321,
    "start_time": "2022-03-18T22:02:59.943Z"
   },
   {
    "duration": 78,
    "start_time": "2022-03-18T22:03:00.266Z"
   },
   {
    "duration": 418,
    "start_time": "2022-03-18T22:03:00.346Z"
   },
   {
    "duration": 27,
    "start_time": "2022-03-18T22:03:00.765Z"
   },
   {
    "duration": 245,
    "start_time": "2022-03-18T22:03:00.794Z"
   },
   {
    "duration": 14,
    "start_time": "2022-03-18T22:03:01.041Z"
   },
   {
    "duration": 329,
    "start_time": "2022-03-18T22:03:01.057Z"
   },
   {
    "duration": 387,
    "start_time": "2022-03-18T22:03:01.388Z"
   },
   {
    "duration": 302,
    "start_time": "2022-03-18T22:03:01.776Z"
   },
   {
    "duration": 210,
    "start_time": "2022-03-18T22:03:02.080Z"
   },
   {
    "duration": 47,
    "start_time": "2022-03-18T22:03:02.291Z"
   },
   {
    "duration": 59,
    "start_time": "2022-03-18T22:03:02.339Z"
   },
   {
    "duration": 40,
    "start_time": "2022-03-18T22:03:02.399Z"
   },
   {
    "duration": 22,
    "start_time": "2022-03-18T22:03:02.441Z"
   },
   {
    "duration": 8,
    "start_time": "2022-03-18T22:03:02.465Z"
   },
   {
    "duration": 22,
    "start_time": "2022-03-18T22:03:02.475Z"
   },
   {
    "duration": 7,
    "start_time": "2022-03-18T22:03:02.499Z"
   },
   {
    "duration": 8,
    "start_time": "2022-03-19T15:45:50.028Z"
   },
   {
    "duration": 45,
    "start_time": "2022-03-19T15:45:59.238Z"
   },
   {
    "duration": 1211,
    "start_time": "2022-03-19T15:46:10.117Z"
   },
   {
    "duration": 53,
    "start_time": "2022-03-19T15:46:11.330Z"
   },
   {
    "duration": 47,
    "start_time": "2022-03-19T15:46:11.385Z"
   },
   {
    "duration": 25,
    "start_time": "2022-03-19T15:46:11.433Z"
   },
   {
    "duration": 35,
    "start_time": "2022-03-19T15:46:11.460Z"
   },
   {
    "duration": 13,
    "start_time": "2022-03-19T15:46:11.496Z"
   },
   {
    "duration": 18,
    "start_time": "2022-03-19T15:46:11.511Z"
   },
   {
    "duration": 98,
    "start_time": "2022-03-19T15:46:11.531Z"
   },
   {
    "duration": 6,
    "start_time": "2022-03-19T15:46:11.631Z"
   },
   {
    "duration": 7,
    "start_time": "2022-03-19T15:46:11.639Z"
   },
   {
    "duration": 7,
    "start_time": "2022-03-19T15:46:11.648Z"
   },
   {
    "duration": 33,
    "start_time": "2022-03-19T15:46:11.656Z"
   },
   {
    "duration": 9,
    "start_time": "2022-03-19T15:46:11.691Z"
   },
   {
    "duration": 8,
    "start_time": "2022-03-19T15:46:11.703Z"
   },
   {
    "duration": 214,
    "start_time": "2022-03-19T15:46:11.712Z"
   },
   {
    "duration": 22,
    "start_time": "2022-03-19T15:46:11.929Z"
   },
   {
    "duration": 34,
    "start_time": "2022-03-19T15:46:11.953Z"
   },
   {
    "duration": 21,
    "start_time": "2022-03-19T15:46:11.989Z"
   },
   {
    "duration": 177,
    "start_time": "2022-03-19T15:46:12.012Z"
   },
   {
    "duration": 303,
    "start_time": "2022-03-19T15:46:12.191Z"
   },
   {
    "duration": 59,
    "start_time": "2022-03-19T15:46:12.495Z"
   },
   {
    "duration": 400,
    "start_time": "2022-03-19T15:46:12.555Z"
   },
   {
    "duration": 32,
    "start_time": "2022-03-19T15:46:12.957Z"
   },
   {
    "duration": 221,
    "start_time": "2022-03-19T15:46:12.990Z"
   },
   {
    "duration": 11,
    "start_time": "2022-03-19T15:46:13.213Z"
   },
   {
    "duration": 302,
    "start_time": "2022-03-19T15:46:13.225Z"
   },
   {
    "duration": 356,
    "start_time": "2022-03-19T15:46:13.529Z"
   },
   {
    "duration": 283,
    "start_time": "2022-03-19T15:46:13.886Z"
   },
   {
    "duration": 215,
    "start_time": "2022-03-19T15:46:14.171Z"
   },
   {
    "duration": 32,
    "start_time": "2022-03-19T15:46:14.388Z"
   },
   {
    "duration": 78,
    "start_time": "2022-03-19T15:46:14.422Z"
   },
   {
    "duration": 16,
    "start_time": "2022-03-19T15:46:14.502Z"
   },
   {
    "duration": 27,
    "start_time": "2022-03-19T15:46:14.519Z"
   },
   {
    "duration": 8,
    "start_time": "2022-03-19T15:46:14.548Z"
   },
   {
    "duration": 27,
    "start_time": "2022-03-19T15:46:14.581Z"
   },
   {
    "duration": 9,
    "start_time": "2022-03-19T15:46:14.610Z"
   },
   {
    "duration": 107,
    "start_time": "2022-03-19T15:47:00.306Z"
   },
   {
    "duration": 3,
    "start_time": "2022-03-19T15:47:07.517Z"
   },
   {
    "duration": 52,
    "start_time": "2022-03-19T15:47:07.525Z"
   },
   {
    "duration": 50,
    "start_time": "2022-03-19T15:47:07.579Z"
   },
   {
    "duration": 52,
    "start_time": "2022-03-19T15:47:07.630Z"
   },
   {
    "duration": 4,
    "start_time": "2022-03-19T15:57:26.507Z"
   },
   {
    "duration": 63,
    "start_time": "2022-03-19T15:57:26.513Z"
   },
   {
    "duration": 49,
    "start_time": "2022-03-19T15:57:26.578Z"
   },
   {
    "duration": 19,
    "start_time": "2022-03-19T15:57:29.594Z"
   },
   {
    "duration": 1026,
    "start_time": "2022-03-19T15:57:52.165Z"
   },
   {
    "duration": 52,
    "start_time": "2022-03-19T15:57:53.193Z"
   },
   {
    "duration": 48,
    "start_time": "2022-03-19T15:57:53.246Z"
   },
   {
    "duration": 17,
    "start_time": "2022-03-19T15:57:53.295Z"
   },
   {
    "duration": 11,
    "start_time": "2022-03-19T15:57:53.314Z"
   },
   {
    "duration": 8,
    "start_time": "2022-03-19T15:57:53.327Z"
   },
   {
    "duration": 11,
    "start_time": "2022-03-19T15:57:53.336Z"
   },
   {
    "duration": 80,
    "start_time": "2022-03-19T15:57:53.348Z"
   },
   {
    "duration": 5,
    "start_time": "2022-03-19T15:57:53.429Z"
   },
   {
    "duration": 9,
    "start_time": "2022-03-19T15:57:53.436Z"
   },
   {
    "duration": 7,
    "start_time": "2022-03-19T15:57:53.446Z"
   },
   {
    "duration": 34,
    "start_time": "2022-03-19T15:57:53.454Z"
   },
   {
    "duration": 10,
    "start_time": "2022-03-19T15:57:53.490Z"
   },
   {
    "duration": 7,
    "start_time": "2022-03-19T15:57:53.503Z"
   },
   {
    "duration": 125,
    "start_time": "2022-03-19T15:57:53.512Z"
   },
   {
    "duration": 14,
    "start_time": "2022-03-19T15:57:53.639Z"
   },
   {
    "duration": 11,
    "start_time": "2022-03-19T15:57:53.655Z"
   },
   {
    "duration": 14,
    "start_time": "2022-03-19T15:57:53.680Z"
   },
   {
    "duration": 152,
    "start_time": "2022-03-19T15:57:53.695Z"
   },
   {
    "duration": 295,
    "start_time": "2022-03-19T15:57:53.849Z"
   },
   {
    "duration": 62,
    "start_time": "2022-03-19T15:57:54.145Z"
   },
   {
    "duration": 391,
    "start_time": "2022-03-19T15:57:54.209Z"
   },
   {
    "duration": 24,
    "start_time": "2022-03-19T15:57:54.602Z"
   },
   {
    "duration": 395,
    "start_time": "2022-03-19T15:57:54.627Z"
   },
   {
    "duration": 67,
    "start_time": "2022-03-19T15:57:55.024Z"
   },
   {
    "duration": 593,
    "start_time": "2022-03-19T15:57:55.092Z"
   },
   {
    "duration": 589,
    "start_time": "2022-03-19T15:57:55.686Z"
   },
   {
    "duration": 301,
    "start_time": "2022-03-19T15:57:56.280Z"
   },
   {
    "duration": 213,
    "start_time": "2022-03-19T15:57:56.583Z"
   },
   {
    "duration": 29,
    "start_time": "2022-03-19T15:57:56.797Z"
   },
   {
    "duration": 73,
    "start_time": "2022-03-19T15:57:56.827Z"
   },
   {
    "duration": 14,
    "start_time": "2022-03-19T15:57:56.902Z"
   },
   {
    "duration": 18,
    "start_time": "2022-03-19T15:57:56.918Z"
   },
   {
    "duration": 6,
    "start_time": "2022-03-19T15:57:56.937Z"
   },
   {
    "duration": 49,
    "start_time": "2022-03-19T15:57:56.944Z"
   },
   {
    "duration": 6,
    "start_time": "2022-03-19T15:57:56.995Z"
   },
   {
    "duration": 102,
    "start_time": "2022-03-19T15:58:33.254Z"
   },
   {
    "duration": 3,
    "start_time": "2022-03-19T15:58:37.234Z"
   },
   {
    "duration": 52,
    "start_time": "2022-03-19T15:58:37.238Z"
   },
   {
    "duration": 47,
    "start_time": "2022-03-19T15:58:37.291Z"
   },
   {
    "duration": 45,
    "start_time": "2022-03-19T15:58:37.339Z"
   },
   {
    "duration": 24,
    "start_time": "2022-03-19T16:01:52.442Z"
   },
   {
    "duration": 27,
    "start_time": "2022-03-19T16:02:51.784Z"
   },
   {
    "duration": 34,
    "start_time": "2022-03-19T16:04:08.074Z"
   },
   {
    "duration": 31,
    "start_time": "2022-03-19T16:04:22.128Z"
   },
   {
    "duration": 206,
    "start_time": "2022-03-19T16:05:26.003Z"
   },
   {
    "duration": 224,
    "start_time": "2022-03-19T16:05:43.680Z"
   },
   {
    "duration": 19,
    "start_time": "2022-03-19T16:05:52.309Z"
   },
   {
    "duration": 27,
    "start_time": "2022-03-19T16:06:19.446Z"
   },
   {
    "duration": 3693,
    "start_time": "2022-03-19T16:07:47.407Z"
   },
   {
    "duration": 3714,
    "start_time": "2022-03-19T16:07:58.656Z"
   },
   {
    "duration": 23,
    "start_time": "2022-03-19T16:08:21.199Z"
   },
   {
    "duration": 4836,
    "start_time": "2022-03-19T16:09:17.480Z"
   },
   {
    "duration": 25,
    "start_time": "2022-03-19T16:09:24.614Z"
   },
   {
    "duration": 12,
    "start_time": "2022-03-19T16:09:32.395Z"
   },
   {
    "duration": 16,
    "start_time": "2022-03-19T16:09:39.917Z"
   },
   {
    "duration": 12,
    "start_time": "2022-03-19T16:10:06.147Z"
   },
   {
    "duration": 25,
    "start_time": "2022-03-19T16:10:37.091Z"
   },
   {
    "duration": 27,
    "start_time": "2022-03-19T16:11:19.912Z"
   },
   {
    "duration": 4,
    "start_time": "2022-03-19T16:21:45.975Z"
   },
   {
    "duration": 17,
    "start_time": "2022-03-19T16:21:51.003Z"
   },
   {
    "duration": 17,
    "start_time": "2022-03-19T16:24:11.604Z"
   },
   {
    "duration": 18,
    "start_time": "2022-03-19T16:24:28.706Z"
   },
   {
    "duration": 12,
    "start_time": "2022-03-19T16:24:39.335Z"
   },
   {
    "duration": 12,
    "start_time": "2022-03-19T16:24:46.594Z"
   },
   {
    "duration": 13,
    "start_time": "2022-03-19T16:24:57.563Z"
   },
   {
    "duration": 12,
    "start_time": "2022-03-19T16:25:03.053Z"
   },
   {
    "duration": 12,
    "start_time": "2022-03-19T16:25:21.681Z"
   },
   {
    "duration": 197,
    "start_time": "2022-03-19T16:25:33.154Z"
   },
   {
    "duration": 11,
    "start_time": "2022-03-19T16:25:49.045Z"
   },
   {
    "duration": 1130,
    "start_time": "2022-03-19T16:26:34.156Z"
   },
   {
    "duration": 55,
    "start_time": "2022-03-19T16:26:35.288Z"
   },
   {
    "duration": 53,
    "start_time": "2022-03-19T16:26:35.345Z"
   },
   {
    "duration": 14,
    "start_time": "2022-03-19T16:26:35.401Z"
   },
   {
    "duration": 12,
    "start_time": "2022-03-19T16:26:35.417Z"
   },
   {
    "duration": 15,
    "start_time": "2022-03-19T16:26:35.431Z"
   },
   {
    "duration": 39,
    "start_time": "2022-03-19T16:26:35.447Z"
   },
   {
    "duration": 58,
    "start_time": "2022-03-19T16:26:35.488Z"
   },
   {
    "duration": 6,
    "start_time": "2022-03-19T16:26:35.548Z"
   },
   {
    "duration": 5,
    "start_time": "2022-03-19T16:26:35.581Z"
   },
   {
    "duration": 6,
    "start_time": "2022-03-19T16:26:35.588Z"
   },
   {
    "duration": 15,
    "start_time": "2022-03-19T16:26:35.595Z"
   },
   {
    "duration": 10,
    "start_time": "2022-03-19T16:26:35.611Z"
   },
   {
    "duration": 7,
    "start_time": "2022-03-19T16:26:35.623Z"
   },
   {
    "duration": 136,
    "start_time": "2022-03-19T16:26:35.631Z"
   },
   {
    "duration": 25,
    "start_time": "2022-03-19T16:26:35.769Z"
   },
   {
    "duration": 11,
    "start_time": "2022-03-19T16:26:35.795Z"
   },
   {
    "duration": 13,
    "start_time": "2022-03-19T16:26:35.808Z"
   },
   {
    "duration": 176,
    "start_time": "2022-03-19T16:26:35.822Z"
   },
   {
    "duration": 308,
    "start_time": "2022-03-19T16:26:36.000Z"
   },
   {
    "duration": 59,
    "start_time": "2022-03-19T16:26:36.310Z"
   },
   {
    "duration": 404,
    "start_time": "2022-03-19T16:26:36.382Z"
   },
   {
    "duration": 24,
    "start_time": "2022-03-19T16:26:36.788Z"
   },
   {
    "duration": 239,
    "start_time": "2022-03-19T16:26:36.814Z"
   },
   {
    "duration": 13,
    "start_time": "2022-03-19T16:26:37.055Z"
   },
   {
    "duration": 321,
    "start_time": "2022-03-19T16:26:37.069Z"
   },
   {
    "duration": 377,
    "start_time": "2022-03-19T16:26:37.392Z"
   },
   {
    "duration": 294,
    "start_time": "2022-03-19T16:26:37.772Z"
   },
   {
    "duration": 204,
    "start_time": "2022-03-19T16:26:38.068Z"
   },
   {
    "duration": 36,
    "start_time": "2022-03-19T16:26:38.274Z"
   },
   {
    "duration": 79,
    "start_time": "2022-03-19T16:26:38.312Z"
   },
   {
    "duration": 15,
    "start_time": "2022-03-19T16:26:38.393Z"
   },
   {
    "duration": 20,
    "start_time": "2022-03-19T16:26:38.409Z"
   },
   {
    "duration": 6,
    "start_time": "2022-03-19T16:26:38.430Z"
   },
   {
    "duration": 55,
    "start_time": "2022-03-19T16:26:38.438Z"
   },
   {
    "duration": 8,
    "start_time": "2022-03-19T16:26:38.494Z"
   },
   {
    "duration": 51,
    "start_time": "2022-03-19T16:27:04.154Z"
   },
   {
    "duration": 20,
    "start_time": "2022-03-19T16:28:16.502Z"
   },
   {
    "duration": 23,
    "start_time": "2022-03-19T16:28:51.688Z"
   },
   {
    "duration": 26,
    "start_time": "2022-03-19T16:29:42.432Z"
   },
   {
    "duration": 23,
    "start_time": "2022-03-19T16:29:51.339Z"
   },
   {
    "duration": 26,
    "start_time": "2022-03-19T16:30:23.909Z"
   },
   {
    "duration": 23,
    "start_time": "2022-03-19T16:30:37.240Z"
   },
   {
    "duration": 10,
    "start_time": "2022-03-19T16:31:31.481Z"
   },
   {
    "duration": 1078,
    "start_time": "2022-03-19T16:31:44.627Z"
   },
   {
    "duration": 53,
    "start_time": "2022-03-19T16:31:45.707Z"
   },
   {
    "duration": 50,
    "start_time": "2022-03-19T16:31:45.761Z"
   },
   {
    "duration": 9,
    "start_time": "2022-03-19T16:31:45.813Z"
   },
   {
    "duration": 22,
    "start_time": "2022-03-19T16:31:45.824Z"
   },
   {
    "duration": 37,
    "start_time": "2022-03-19T16:31:45.848Z"
   },
   {
    "duration": 9,
    "start_time": "2022-03-19T16:31:45.887Z"
   },
   {
    "duration": 25,
    "start_time": "2022-03-19T16:31:45.897Z"
   },
   {
    "duration": 16,
    "start_time": "2022-03-19T16:31:45.924Z"
   },
   {
    "duration": 62,
    "start_time": "2022-03-19T16:31:45.942Z"
   },
   {
    "duration": 4,
    "start_time": "2022-03-19T16:31:46.006Z"
   },
   {
    "duration": 7,
    "start_time": "2022-03-19T16:31:46.011Z"
   },
   {
    "duration": 6,
    "start_time": "2022-03-19T16:31:46.019Z"
   },
   {
    "duration": 14,
    "start_time": "2022-03-19T16:31:46.028Z"
   },
   {
    "duration": 41,
    "start_time": "2022-03-19T16:31:46.043Z"
   },
   {
    "duration": 8,
    "start_time": "2022-03-19T16:31:46.086Z"
   },
   {
    "duration": 124,
    "start_time": "2022-03-19T16:31:46.096Z"
   },
   {
    "duration": 17,
    "start_time": "2022-03-19T16:31:46.222Z"
   },
   {
    "duration": 13,
    "start_time": "2022-03-19T16:31:46.240Z"
   },
   {
    "duration": 34,
    "start_time": "2022-03-19T16:31:46.254Z"
   },
   {
    "duration": 159,
    "start_time": "2022-03-19T16:31:46.290Z"
   },
   {
    "duration": 293,
    "start_time": "2022-03-19T16:31:46.451Z"
   },
   {
    "duration": 68,
    "start_time": "2022-03-19T16:31:46.746Z"
   },
   {
    "duration": 389,
    "start_time": "2022-03-19T16:31:46.816Z"
   },
   {
    "duration": 24,
    "start_time": "2022-03-19T16:31:47.207Z"
   },
   {
    "duration": 219,
    "start_time": "2022-03-19T16:31:47.232Z"
   },
   {
    "duration": 11,
    "start_time": "2022-03-19T16:31:47.453Z"
   },
   {
    "duration": 321,
    "start_time": "2022-03-19T16:31:47.465Z"
   },
   {
    "duration": 362,
    "start_time": "2022-03-19T16:31:47.788Z"
   },
   {
    "duration": 295,
    "start_time": "2022-03-19T16:31:48.152Z"
   },
   {
    "duration": 206,
    "start_time": "2022-03-19T16:31:48.449Z"
   },
   {
    "duration": 36,
    "start_time": "2022-03-19T16:31:48.657Z"
   },
   {
    "duration": 57,
    "start_time": "2022-03-19T16:31:48.695Z"
   },
   {
    "duration": 41,
    "start_time": "2022-03-19T16:31:48.753Z"
   },
   {
    "duration": 20,
    "start_time": "2022-03-19T16:31:48.795Z"
   },
   {
    "duration": 10,
    "start_time": "2022-03-19T16:31:48.816Z"
   },
   {
    "duration": 33,
    "start_time": "2022-03-19T16:31:48.827Z"
   },
   {
    "duration": 6,
    "start_time": "2022-03-19T16:31:48.862Z"
   },
   {
    "duration": 102,
    "start_time": "2022-03-19T16:32:10.138Z"
   },
   {
    "duration": 3,
    "start_time": "2022-03-19T16:32:34.934Z"
   },
   {
    "duration": 51,
    "start_time": "2022-03-19T16:32:34.939Z"
   },
   {
    "duration": 50,
    "start_time": "2022-03-19T16:32:34.992Z"
   },
   {
    "duration": 1090,
    "start_time": "2022-03-19T16:32:42.087Z"
   },
   {
    "duration": 53,
    "start_time": "2022-03-19T16:32:43.179Z"
   },
   {
    "duration": 52,
    "start_time": "2022-03-19T16:32:43.233Z"
   },
   {
    "duration": 13,
    "start_time": "2022-03-19T16:32:43.287Z"
   },
   {
    "duration": 23,
    "start_time": "2022-03-19T16:32:43.302Z"
   },
   {
    "duration": 14,
    "start_time": "2022-03-19T16:32:43.326Z"
   },
   {
    "duration": 41,
    "start_time": "2022-03-19T16:32:43.341Z"
   },
   {
    "duration": 12,
    "start_time": "2022-03-19T16:32:43.384Z"
   },
   {
    "duration": 17,
    "start_time": "2022-03-19T16:32:43.397Z"
   },
   {
    "duration": 66,
    "start_time": "2022-03-19T16:32:43.417Z"
   },
   {
    "duration": 5,
    "start_time": "2022-03-19T16:32:43.485Z"
   },
   {
    "duration": 7,
    "start_time": "2022-03-19T16:32:43.491Z"
   },
   {
    "duration": 5,
    "start_time": "2022-03-19T16:32:43.500Z"
   },
   {
    "duration": 12,
    "start_time": "2022-03-19T16:32:43.507Z"
   },
   {
    "duration": 9,
    "start_time": "2022-03-19T16:32:43.521Z"
   },
   {
    "duration": 8,
    "start_time": "2022-03-19T16:32:43.531Z"
   },
   {
    "duration": 146,
    "start_time": "2022-03-19T16:32:43.540Z"
   },
   {
    "duration": 16,
    "start_time": "2022-03-19T16:32:43.687Z"
   },
   {
    "duration": 13,
    "start_time": "2022-03-19T16:32:43.705Z"
   },
   {
    "duration": 13,
    "start_time": "2022-03-19T16:32:43.719Z"
   },
   {
    "duration": 174,
    "start_time": "2022-03-19T16:32:43.734Z"
   },
   {
    "duration": 294,
    "start_time": "2022-03-19T16:32:43.909Z"
   },
   {
    "duration": 82,
    "start_time": "2022-03-19T16:32:44.205Z"
   },
   {
    "duration": 426,
    "start_time": "2022-03-19T16:32:44.288Z"
   },
   {
    "duration": 27,
    "start_time": "2022-03-19T16:32:44.716Z"
   },
   {
    "duration": 240,
    "start_time": "2022-03-19T16:32:44.744Z"
   },
   {
    "duration": 12,
    "start_time": "2022-03-19T16:32:44.986Z"
   },
   {
    "duration": 313,
    "start_time": "2022-03-19T16:32:45.002Z"
   },
   {
    "duration": 356,
    "start_time": "2022-03-19T16:32:45.317Z"
   },
   {
    "duration": 275,
    "start_time": "2022-03-19T16:32:45.675Z"
   },
   {
    "duration": 214,
    "start_time": "2022-03-19T16:32:45.951Z"
   },
   {
    "duration": 39,
    "start_time": "2022-03-19T16:32:46.167Z"
   },
   {
    "duration": 82,
    "start_time": "2022-03-19T16:32:46.207Z"
   },
   {
    "duration": 15,
    "start_time": "2022-03-19T16:32:46.291Z"
   },
   {
    "duration": 19,
    "start_time": "2022-03-19T16:32:46.308Z"
   },
   {
    "duration": 6,
    "start_time": "2022-03-19T16:32:46.329Z"
   },
   {
    "duration": 47,
    "start_time": "2022-03-19T16:32:46.336Z"
   },
   {
    "duration": 7,
    "start_time": "2022-03-19T16:32:46.385Z"
   },
   {
    "duration": 103,
    "start_time": "2022-03-19T16:33:29.157Z"
   },
   {
    "duration": 3,
    "start_time": "2022-03-19T16:33:34.486Z"
   },
   {
    "duration": 63,
    "start_time": "2022-03-19T16:33:34.491Z"
   },
   {
    "duration": 49,
    "start_time": "2022-03-19T16:33:34.555Z"
   },
   {
    "duration": 15,
    "start_time": "2022-03-19T16:33:34.605Z"
   },
   {
    "duration": 15,
    "start_time": "2022-03-19T16:34:22.614Z"
   },
   {
    "duration": 19,
    "start_time": "2022-03-19T16:35:04.465Z"
   },
   {
    "duration": 17,
    "start_time": "2022-03-19T16:36:50.359Z"
   },
   {
    "duration": 1150,
    "start_time": "2022-03-19T16:45:47.358Z"
   },
   {
    "duration": 57,
    "start_time": "2022-03-19T16:45:48.510Z"
   },
   {
    "duration": 22,
    "start_time": "2022-03-19T16:45:48.568Z"
   },
   {
    "duration": 14,
    "start_time": "2022-03-19T16:45:48.592Z"
   },
   {
    "duration": 11,
    "start_time": "2022-03-19T16:45:48.608Z"
   },
   {
    "duration": 11,
    "start_time": "2022-03-19T16:45:48.621Z"
   },
   {
    "duration": 12,
    "start_time": "2022-03-19T16:45:48.634Z"
   },
   {
    "duration": 83,
    "start_time": "2022-03-19T16:45:48.647Z"
   },
   {
    "duration": 4,
    "start_time": "2022-03-19T16:45:48.732Z"
   },
   {
    "duration": 11,
    "start_time": "2022-03-19T16:45:48.739Z"
   },
   {
    "duration": 6,
    "start_time": "2022-03-19T16:45:48.752Z"
   },
   {
    "duration": 31,
    "start_time": "2022-03-19T16:45:48.759Z"
   },
   {
    "duration": 13,
    "start_time": "2022-03-19T16:45:48.792Z"
   },
   {
    "duration": 6,
    "start_time": "2022-03-19T16:45:48.807Z"
   },
   {
    "duration": 112,
    "start_time": "2022-03-19T16:45:48.814Z"
   },
   {
    "duration": 0,
    "start_time": "2022-03-19T16:45:48.928Z"
   },
   {
    "duration": 0,
    "start_time": "2022-03-19T16:45:48.929Z"
   },
   {
    "duration": 0,
    "start_time": "2022-03-19T16:45:48.930Z"
   },
   {
    "duration": 0,
    "start_time": "2022-03-19T16:45:48.931Z"
   },
   {
    "duration": 0,
    "start_time": "2022-03-19T16:45:48.931Z"
   },
   {
    "duration": 0,
    "start_time": "2022-03-19T16:45:48.932Z"
   },
   {
    "duration": 0,
    "start_time": "2022-03-19T16:45:48.933Z"
   },
   {
    "duration": 0,
    "start_time": "2022-03-19T16:45:48.934Z"
   },
   {
    "duration": 0,
    "start_time": "2022-03-19T16:45:48.934Z"
   },
   {
    "duration": 0,
    "start_time": "2022-03-19T16:45:48.936Z"
   },
   {
    "duration": 0,
    "start_time": "2022-03-19T16:45:48.937Z"
   },
   {
    "duration": 0,
    "start_time": "2022-03-19T16:45:48.938Z"
   },
   {
    "duration": 0,
    "start_time": "2022-03-19T16:45:48.940Z"
   },
   {
    "duration": 0,
    "start_time": "2022-03-19T16:45:48.941Z"
   },
   {
    "duration": 0,
    "start_time": "2022-03-19T16:45:48.942Z"
   },
   {
    "duration": 0,
    "start_time": "2022-03-19T16:45:48.943Z"
   },
   {
    "duration": 0,
    "start_time": "2022-03-19T16:45:48.944Z"
   },
   {
    "duration": 0,
    "start_time": "2022-03-19T16:45:48.945Z"
   },
   {
    "duration": 0,
    "start_time": "2022-03-19T16:45:48.946Z"
   },
   {
    "duration": 0,
    "start_time": "2022-03-19T16:45:48.947Z"
   },
   {
    "duration": 1096,
    "start_time": "2022-03-19T16:49:28.895Z"
   },
   {
    "duration": 57,
    "start_time": "2022-03-19T16:49:29.994Z"
   },
   {
    "duration": 23,
    "start_time": "2022-03-19T16:49:30.052Z"
   },
   {
    "duration": 13,
    "start_time": "2022-03-19T16:49:30.077Z"
   },
   {
    "duration": 9,
    "start_time": "2022-03-19T16:49:30.092Z"
   },
   {
    "duration": 11,
    "start_time": "2022-03-19T16:49:30.103Z"
   },
   {
    "duration": 13,
    "start_time": "2022-03-19T16:49:30.115Z"
   },
   {
    "duration": 79,
    "start_time": "2022-03-19T16:49:30.130Z"
   },
   {
    "duration": 5,
    "start_time": "2022-03-19T16:49:30.211Z"
   },
   {
    "duration": 5,
    "start_time": "2022-03-19T16:49:30.220Z"
   },
   {
    "duration": 11,
    "start_time": "2022-03-19T16:49:30.227Z"
   },
   {
    "duration": 17,
    "start_time": "2022-03-19T16:49:30.240Z"
   },
   {
    "duration": 10,
    "start_time": "2022-03-19T16:49:30.281Z"
   },
   {
    "duration": 15,
    "start_time": "2022-03-19T16:49:30.292Z"
   },
   {
    "duration": 16,
    "start_time": "2022-03-19T16:49:30.309Z"
   },
   {
    "duration": 12,
    "start_time": "2022-03-19T16:49:30.327Z"
   },
   {
    "duration": 14,
    "start_time": "2022-03-19T16:49:30.341Z"
   },
   {
    "duration": 185,
    "start_time": "2022-03-19T16:49:30.357Z"
   },
   {
    "duration": 323,
    "start_time": "2022-03-19T16:49:30.544Z"
   },
   {
    "duration": 67,
    "start_time": "2022-03-19T16:49:30.869Z"
   },
   {
    "duration": 432,
    "start_time": "2022-03-19T16:49:30.938Z"
   },
   {
    "duration": 33,
    "start_time": "2022-03-19T16:49:31.371Z"
   },
   {
    "duration": 238,
    "start_time": "2022-03-19T16:49:31.405Z"
   },
   {
    "duration": 12,
    "start_time": "2022-03-19T16:49:31.645Z"
   },
   {
    "duration": 315,
    "start_time": "2022-03-19T16:49:31.658Z"
   },
   {
    "duration": 375,
    "start_time": "2022-03-19T16:49:31.975Z"
   },
   {
    "duration": 293,
    "start_time": "2022-03-19T16:49:32.352Z"
   },
   {
    "duration": 210,
    "start_time": "2022-03-19T16:49:32.649Z"
   },
   {
    "duration": 41,
    "start_time": "2022-03-19T16:49:32.860Z"
   },
   {
    "duration": 56,
    "start_time": "2022-03-19T16:49:32.903Z"
   },
   {
    "duration": 34,
    "start_time": "2022-03-19T16:49:32.961Z"
   },
   {
    "duration": 34,
    "start_time": "2022-03-19T16:49:32.997Z"
   },
   {
    "duration": 16,
    "start_time": "2022-03-19T16:49:33.033Z"
   },
   {
    "duration": 22,
    "start_time": "2022-03-19T16:49:33.051Z"
   },
   {
    "duration": 8,
    "start_time": "2022-03-19T16:49:33.075Z"
   },
   {
    "duration": 405,
    "start_time": "2022-03-19T16:52:39.619Z"
   },
   {
    "duration": 1200,
    "start_time": "2022-03-19T16:53:04.841Z"
   },
   {
    "duration": 54,
    "start_time": "2022-03-19T16:53:06.043Z"
   },
   {
    "duration": 22,
    "start_time": "2022-03-19T16:53:06.099Z"
   },
   {
    "duration": 14,
    "start_time": "2022-03-19T16:53:06.124Z"
   },
   {
    "duration": 11,
    "start_time": "2022-03-19T16:53:06.140Z"
   },
   {
    "duration": 32,
    "start_time": "2022-03-19T16:53:06.153Z"
   },
   {
    "duration": 13,
    "start_time": "2022-03-19T16:53:06.187Z"
   },
   {
    "duration": 81,
    "start_time": "2022-03-19T16:53:06.201Z"
   },
   {
    "duration": 6,
    "start_time": "2022-03-19T16:53:06.285Z"
   },
   {
    "duration": 7,
    "start_time": "2022-03-19T16:53:06.294Z"
   },
   {
    "duration": 8,
    "start_time": "2022-03-19T16:53:06.304Z"
   },
   {
    "duration": 25,
    "start_time": "2022-03-19T16:53:06.313Z"
   },
   {
    "duration": 15,
    "start_time": "2022-03-19T16:53:06.340Z"
   },
   {
    "duration": 35,
    "start_time": "2022-03-19T16:53:06.357Z"
   },
   {
    "duration": 27,
    "start_time": "2022-03-19T16:53:06.394Z"
   },
   {
    "duration": 23,
    "start_time": "2022-03-19T16:53:06.424Z"
   },
   {
    "duration": 48,
    "start_time": "2022-03-19T16:53:06.449Z"
   },
   {
    "duration": 292,
    "start_time": "2022-03-19T16:53:06.499Z"
   },
   {
    "duration": 684,
    "start_time": "2022-03-19T16:53:06.793Z"
   },
   {
    "duration": 0,
    "start_time": "2022-03-19T16:53:07.481Z"
   },
   {
    "duration": 0,
    "start_time": "2022-03-19T16:53:07.483Z"
   },
   {
    "duration": 0,
    "start_time": "2022-03-19T16:53:07.483Z"
   },
   {
    "duration": 0,
    "start_time": "2022-03-19T16:53:07.484Z"
   },
   {
    "duration": 0,
    "start_time": "2022-03-19T16:53:07.485Z"
   },
   {
    "duration": 0,
    "start_time": "2022-03-19T16:53:07.486Z"
   },
   {
    "duration": 0,
    "start_time": "2022-03-19T16:53:07.487Z"
   },
   {
    "duration": 0,
    "start_time": "2022-03-19T16:53:07.488Z"
   },
   {
    "duration": 0,
    "start_time": "2022-03-19T16:53:07.490Z"
   },
   {
    "duration": 0,
    "start_time": "2022-03-19T16:53:07.491Z"
   },
   {
    "duration": 0,
    "start_time": "2022-03-19T16:53:07.492Z"
   },
   {
    "duration": 0,
    "start_time": "2022-03-19T16:53:07.493Z"
   },
   {
    "duration": 0,
    "start_time": "2022-03-19T16:53:07.494Z"
   },
   {
    "duration": 0,
    "start_time": "2022-03-19T16:53:07.495Z"
   },
   {
    "duration": 0,
    "start_time": "2022-03-19T16:53:07.496Z"
   },
   {
    "duration": 0,
    "start_time": "2022-03-19T16:53:07.497Z"
   },
   {
    "duration": 1219,
    "start_time": "2022-03-19T16:53:21.575Z"
   },
   {
    "duration": 1440,
    "start_time": "2022-03-19T16:53:53.704Z"
   },
   {
    "duration": 2902,
    "start_time": "2022-03-19T16:54:10.876Z"
   },
   {
    "duration": 665,
    "start_time": "2022-03-19T16:55:05.493Z"
   },
   {
    "duration": 676,
    "start_time": "2022-03-19T16:57:44.037Z"
   },
   {
    "duration": 752,
    "start_time": "2022-03-19T16:58:14.194Z"
   },
   {
    "duration": 321,
    "start_time": "2022-03-19T16:58:56.117Z"
   },
   {
    "duration": 8296,
    "start_time": "2022-03-19T17:02:06.714Z"
   },
   {
    "duration": 1187,
    "start_time": "2022-03-19T17:02:52.154Z"
   },
   {
    "duration": 53,
    "start_time": "2022-03-19T17:02:53.342Z"
   },
   {
    "duration": 30,
    "start_time": "2022-03-19T17:02:53.397Z"
   },
   {
    "duration": 17,
    "start_time": "2022-03-19T17:02:53.429Z"
   },
   {
    "duration": 12,
    "start_time": "2022-03-19T17:02:53.449Z"
   },
   {
    "duration": 15,
    "start_time": "2022-03-19T17:02:53.480Z"
   },
   {
    "duration": 17,
    "start_time": "2022-03-19T17:02:53.497Z"
   },
   {
    "duration": 105,
    "start_time": "2022-03-19T17:02:53.516Z"
   },
   {
    "duration": 6,
    "start_time": "2022-03-19T17:02:53.623Z"
   },
   {
    "duration": 8,
    "start_time": "2022-03-19T17:02:53.631Z"
   },
   {
    "duration": 7,
    "start_time": "2022-03-19T17:02:53.641Z"
   },
   {
    "duration": 43,
    "start_time": "2022-03-19T17:02:53.650Z"
   },
   {
    "duration": 12,
    "start_time": "2022-03-19T17:02:53.695Z"
   },
   {
    "duration": 10,
    "start_time": "2022-03-19T17:02:53.711Z"
   },
   {
    "duration": 25,
    "start_time": "2022-03-19T17:02:53.723Z"
   },
   {
    "duration": 44,
    "start_time": "2022-03-19T17:02:53.750Z"
   },
   {
    "duration": 20,
    "start_time": "2022-03-19T17:02:53.796Z"
   },
   {
    "duration": 263,
    "start_time": "2022-03-19T17:02:53.818Z"
   },
   {
    "duration": 14698,
    "start_time": "2022-03-19T17:02:54.083Z"
   },
   {
    "duration": 108,
    "start_time": "2022-03-19T17:03:08.784Z"
   },
   {
    "duration": 594,
    "start_time": "2022-03-19T17:03:08.894Z"
   },
   {
    "duration": 26,
    "start_time": "2022-03-19T17:03:09.490Z"
   },
   {
    "duration": 244,
    "start_time": "2022-03-19T17:03:09.518Z"
   },
   {
    "duration": 19,
    "start_time": "2022-03-19T17:03:09.763Z"
   },
   {
    "duration": 321,
    "start_time": "2022-03-19T17:03:09.784Z"
   },
   {
    "duration": 304,
    "start_time": "2022-03-19T17:03:10.107Z"
   },
   {
    "duration": 1170,
    "start_time": "2022-03-19T17:03:10.412Z"
   },
   {
    "duration": 208,
    "start_time": "2022-03-19T17:03:11.584Z"
   },
   {
    "duration": 31,
    "start_time": "2022-03-19T17:03:11.793Z"
   },
   {
    "duration": 76,
    "start_time": "2022-03-19T17:03:11.826Z"
   },
   {
    "duration": 23,
    "start_time": "2022-03-19T17:03:11.904Z"
   },
   {
    "duration": 27,
    "start_time": "2022-03-19T17:03:11.929Z"
   },
   {
    "duration": 9,
    "start_time": "2022-03-19T17:03:11.980Z"
   },
   {
    "duration": 35,
    "start_time": "2022-03-19T17:03:11.991Z"
   },
   {
    "duration": 9,
    "start_time": "2022-03-19T17:03:12.028Z"
   },
   {
    "duration": 399,
    "start_time": "2022-03-19T17:03:57.263Z"
   },
   {
    "duration": 1053,
    "start_time": "2022-03-19T17:04:33.486Z"
   },
   {
    "duration": 319,
    "start_time": "2022-03-19T17:07:39.558Z"
   },
   {
    "duration": 433,
    "start_time": "2022-03-19T17:08:13.974Z"
   },
   {
    "duration": 307,
    "start_time": "2022-03-19T17:08:27.093Z"
   },
   {
    "duration": 309,
    "start_time": "2022-03-19T17:08:36.122Z"
   },
   {
    "duration": 305,
    "start_time": "2022-03-19T17:08:46.695Z"
   },
   {
    "duration": 203,
    "start_time": "2022-03-19T17:22:51.352Z"
   },
   {
    "duration": 201,
    "start_time": "2022-03-19T17:23:02.109Z"
   },
   {
    "duration": 398,
    "start_time": "2022-03-19T17:27:37.626Z"
   },
   {
    "duration": 226,
    "start_time": "2022-03-19T17:27:50.437Z"
   },
   {
    "duration": 209,
    "start_time": "2022-03-19T17:56:17.801Z"
   },
   {
    "duration": 196,
    "start_time": "2022-03-19T17:56:20.279Z"
   },
   {
    "duration": 198,
    "start_time": "2022-03-19T18:04:00.469Z"
   },
   {
    "duration": 33,
    "start_time": "2022-03-19T18:06:02.103Z"
   },
   {
    "duration": 201,
    "start_time": "2022-03-19T18:11:35.193Z"
   },
   {
    "duration": 16,
    "start_time": "2022-03-19T18:30:55.558Z"
   },
   {
    "duration": 22,
    "start_time": "2022-03-19T18:31:15.576Z"
   },
   {
    "duration": 17,
    "start_time": "2022-03-19T18:32:54.075Z"
   },
   {
    "duration": 25,
    "start_time": "2022-03-19T18:33:25.570Z"
   },
   {
    "duration": 31,
    "start_time": "2022-03-19T18:34:18.263Z"
   },
   {
    "duration": 24,
    "start_time": "2022-03-19T18:34:37.163Z"
   },
   {
    "duration": 472,
    "start_time": "2022-03-19T18:35:35.502Z"
   },
   {
    "duration": 257,
    "start_time": "2022-03-19T18:35:53.926Z"
   },
   {
    "duration": 23,
    "start_time": "2022-03-19T18:36:07.478Z"
   },
   {
    "duration": 27,
    "start_time": "2022-03-19T18:36:28.251Z"
   },
   {
    "duration": 21,
    "start_time": "2022-03-19T18:36:40.719Z"
   },
   {
    "duration": 34,
    "start_time": "2022-03-19T18:37:08.323Z"
   },
   {
    "duration": 49,
    "start_time": "2022-03-19T18:58:46.170Z"
   },
   {
    "duration": 22,
    "start_time": "2022-03-19T18:59:23.354Z"
   },
   {
    "duration": 26,
    "start_time": "2022-03-19T19:00:42.202Z"
   },
   {
    "duration": 21,
    "start_time": "2022-03-19T19:01:00.149Z"
   },
   {
    "duration": 965,
    "start_time": "2022-03-19T19:01:18.045Z"
   },
   {
    "duration": 22,
    "start_time": "2022-03-19T19:04:04.654Z"
   },
   {
    "duration": 17,
    "start_time": "2022-03-19T19:04:35.403Z"
   },
   {
    "duration": 17,
    "start_time": "2022-03-19T19:07:07.918Z"
   },
   {
    "duration": 17,
    "start_time": "2022-03-19T19:07:33.331Z"
   },
   {
    "duration": 20,
    "start_time": "2022-03-19T19:14:31.905Z"
   },
   {
    "duration": 21,
    "start_time": "2022-03-19T19:14:53.237Z"
   },
   {
    "duration": 20,
    "start_time": "2022-03-19T19:15:03.981Z"
   },
   {
    "duration": 23,
    "start_time": "2022-03-19T19:18:34.710Z"
   },
   {
    "duration": 17,
    "start_time": "2022-03-19T19:18:46.576Z"
   },
   {
    "duration": 16,
    "start_time": "2022-03-19T19:19:15.215Z"
   },
   {
    "duration": 18,
    "start_time": "2022-03-19T19:19:59.776Z"
   },
   {
    "duration": 182,
    "start_time": "2022-03-19T19:20:11.940Z"
   },
   {
    "duration": 117,
    "start_time": "2022-03-19T19:23:46.449Z"
   },
   {
    "duration": 128,
    "start_time": "2022-03-19T19:24:14.765Z"
   },
   {
    "duration": 119,
    "start_time": "2022-03-19T19:24:36.793Z"
   },
   {
    "duration": 124,
    "start_time": "2022-03-19T19:24:55.527Z"
   },
   {
    "duration": 141,
    "start_time": "2022-03-19T19:25:09.125Z"
   },
   {
    "duration": 121,
    "start_time": "2022-03-19T19:25:25.334Z"
   },
   {
    "duration": 176,
    "start_time": "2022-03-19T19:25:32.433Z"
   },
   {
    "duration": 174,
    "start_time": "2022-03-19T19:25:51.265Z"
   },
   {
    "duration": 166,
    "start_time": "2022-03-19T19:26:00.673Z"
   },
   {
    "duration": 166,
    "start_time": "2022-03-19T19:30:22.313Z"
   },
   {
    "duration": 190,
    "start_time": "2022-03-19T19:33:28.891Z"
   },
   {
    "duration": 187,
    "start_time": "2022-03-19T19:33:48.752Z"
   },
   {
    "duration": 186,
    "start_time": "2022-03-19T19:34:18.980Z"
   },
   {
    "duration": 204,
    "start_time": "2022-03-19T19:34:52.085Z"
   },
   {
    "duration": 189,
    "start_time": "2022-03-19T19:35:26.507Z"
   },
   {
    "duration": 338,
    "start_time": "2022-03-19T19:36:52.554Z"
   },
   {
    "duration": 549,
    "start_time": "2022-03-19T19:37:22.035Z"
   },
   {
    "duration": 498,
    "start_time": "2022-03-19T19:37:43.897Z"
   },
   {
    "duration": 481,
    "start_time": "2022-03-19T19:38:15.339Z"
   },
   {
    "duration": 547,
    "start_time": "2022-03-19T19:38:25.194Z"
   },
   {
    "duration": 530,
    "start_time": "2022-03-19T19:38:58.330Z"
   },
   {
    "duration": 610,
    "start_time": "2022-03-19T19:39:24.797Z"
   },
   {
    "duration": 527,
    "start_time": "2022-03-19T19:40:08.910Z"
   },
   {
    "duration": 517,
    "start_time": "2022-03-19T19:40:18.302Z"
   },
   {
    "duration": 604,
    "start_time": "2022-03-19T19:40:28.929Z"
   },
   {
    "duration": 536,
    "start_time": "2022-03-19T19:40:54.858Z"
   },
   {
    "duration": 553,
    "start_time": "2022-03-19T19:41:03.983Z"
   },
   {
    "duration": 679,
    "start_time": "2022-03-19T19:41:26.395Z"
   },
   {
    "duration": 538,
    "start_time": "2022-03-19T19:41:55.446Z"
   },
   {
    "duration": 548,
    "start_time": "2022-03-19T19:45:42.164Z"
   },
   {
    "duration": 541,
    "start_time": "2022-03-19T19:46:04.304Z"
   },
   {
    "duration": 538,
    "start_time": "2022-03-19T19:47:32.345Z"
   },
   {
    "duration": 17,
    "start_time": "2022-03-19T19:47:50.130Z"
   },
   {
    "duration": 537,
    "start_time": "2022-03-19T19:49:32.344Z"
   },
   {
    "duration": 719,
    "start_time": "2022-03-19T19:49:52.111Z"
   },
   {
    "duration": 612,
    "start_time": "2022-03-19T19:50:16.151Z"
   },
   {
    "duration": 598,
    "start_time": "2022-03-19T19:55:19.295Z"
   },
   {
    "duration": 559,
    "start_time": "2022-03-19T19:55:56.373Z"
   },
   {
    "duration": 558,
    "start_time": "2022-03-19T19:56:16.872Z"
   },
   {
    "duration": 575,
    "start_time": "2022-03-19T19:56:33.708Z"
   },
   {
    "duration": 598,
    "start_time": "2022-03-19T19:57:00.832Z"
   },
   {
    "duration": 735,
    "start_time": "2022-03-19T19:57:34.211Z"
   },
   {
    "duration": 572,
    "start_time": "2022-03-19T19:58:07.472Z"
   },
   {
    "duration": 565,
    "start_time": "2022-03-19T19:58:34.030Z"
   },
   {
    "duration": 571,
    "start_time": "2022-03-19T19:58:47.783Z"
   },
   {
    "duration": 560,
    "start_time": "2022-03-19T19:58:56.694Z"
   },
   {
    "duration": 1149,
    "start_time": "2022-03-19T20:05:37.185Z"
   },
   {
    "duration": 661,
    "start_time": "2022-03-19T20:06:29.373Z"
   },
   {
    "duration": 514,
    "start_time": "2022-03-19T20:07:02.837Z"
   },
   {
    "duration": 406,
    "start_time": "2022-03-19T20:08:31.467Z"
   },
   {
    "duration": 553,
    "start_time": "2022-03-19T20:08:45.139Z"
   },
   {
    "duration": 450,
    "start_time": "2022-03-19T20:09:10.576Z"
   },
   {
    "duration": 45,
    "start_time": "2022-03-19T20:09:41.774Z"
   },
   {
    "duration": 48,
    "start_time": "2022-03-19T20:10:04.827Z"
   },
   {
    "duration": 47,
    "start_time": "2022-03-19T20:11:16.474Z"
   },
   {
    "duration": 549,
    "start_time": "2022-03-19T20:11:34.438Z"
   },
   {
    "duration": 35,
    "start_time": "2022-03-19T20:12:06.342Z"
   },
   {
    "duration": 413,
    "start_time": "2022-03-19T20:14:52.635Z"
   },
   {
    "duration": 324,
    "start_time": "2022-03-19T20:15:16.594Z"
   },
   {
    "duration": 420,
    "start_time": "2022-03-19T20:15:37.340Z"
   },
   {
    "duration": 383,
    "start_time": "2022-03-19T20:16:36.198Z"
   },
   {
    "duration": 31,
    "start_time": "2022-03-19T20:17:19.352Z"
   },
   {
    "duration": 381,
    "start_time": "2022-03-19T20:17:41.461Z"
   },
   {
    "duration": 396,
    "start_time": "2022-03-19T20:18:08.001Z"
   },
   {
    "duration": 403,
    "start_time": "2022-03-19T20:18:42.662Z"
   },
   {
    "duration": 402,
    "start_time": "2022-03-19T20:20:18.757Z"
   },
   {
    "duration": 395,
    "start_time": "2022-03-19T20:20:34.249Z"
   },
   {
    "duration": 435,
    "start_time": "2022-03-19T20:21:04.687Z"
   },
   {
    "duration": 561,
    "start_time": "2022-03-19T20:21:29.286Z"
   },
   {
    "duration": 474,
    "start_time": "2022-03-19T20:21:50.108Z"
   },
   {
    "duration": 325,
    "start_time": "2022-03-19T20:22:19.177Z"
   },
   {
    "duration": 324,
    "start_time": "2022-03-19T20:22:42.928Z"
   },
   {
    "duration": 320,
    "start_time": "2022-03-19T20:23:19.261Z"
   },
   {
    "duration": 488,
    "start_time": "2022-03-19T20:25:55.297Z"
   },
   {
    "duration": 490,
    "start_time": "2022-03-19T20:26:25.954Z"
   },
   {
    "duration": 717,
    "start_time": "2022-03-19T20:31:39.573Z"
   },
   {
    "duration": 660,
    "start_time": "2022-03-19T20:32:34.153Z"
   },
   {
    "duration": 494,
    "start_time": "2022-03-19T20:33:19.874Z"
   },
   {
    "duration": 851,
    "start_time": "2022-03-19T20:33:38.042Z"
   },
   {
    "duration": 544,
    "start_time": "2022-03-19T20:35:15.284Z"
   },
   {
    "duration": 272,
    "start_time": "2022-03-19T20:35:36.782Z"
   },
   {
    "duration": 237,
    "start_time": "2022-03-19T20:35:50.368Z"
   },
   {
    "duration": 229,
    "start_time": "2022-03-19T20:36:00.147Z"
   },
   {
    "duration": 262,
    "start_time": "2022-03-19T20:36:14.191Z"
   },
   {
    "duration": 244,
    "start_time": "2022-03-19T20:36:32.428Z"
   },
   {
    "duration": 352,
    "start_time": "2022-03-19T20:39:01.941Z"
   },
   {
    "duration": 353,
    "start_time": "2022-03-19T20:41:46.435Z"
   },
   {
    "duration": 254,
    "start_time": "2022-03-19T20:43:07.660Z"
   },
   {
    "duration": 259,
    "start_time": "2022-03-19T20:43:25.986Z"
   },
   {
    "duration": 451,
    "start_time": "2022-03-19T20:43:32.059Z"
   },
   {
    "duration": 217,
    "start_time": "2022-03-19T20:44:45.766Z"
   },
   {
    "duration": 244,
    "start_time": "2022-03-19T20:47:34.431Z"
   },
   {
    "duration": 42,
    "start_time": "2022-03-19T20:48:06.652Z"
   },
   {
    "duration": 6,
    "start_time": "2022-03-19T20:48:21.788Z"
   },
   {
    "duration": 242,
    "start_time": "2022-03-19T20:48:31.908Z"
   },
   {
    "duration": 254,
    "start_time": "2022-03-19T20:48:44.023Z"
   },
   {
    "duration": 1096,
    "start_time": "2022-03-19T20:48:54.786Z"
   },
   {
    "duration": 63,
    "start_time": "2022-03-19T20:48:55.884Z"
   },
   {
    "duration": 20,
    "start_time": "2022-03-19T20:48:55.949Z"
   },
   {
    "duration": 12,
    "start_time": "2022-03-19T20:48:55.970Z"
   },
   {
    "duration": 8,
    "start_time": "2022-03-19T20:48:55.984Z"
   },
   {
    "duration": 10,
    "start_time": "2022-03-19T20:48:55.994Z"
   },
   {
    "duration": 11,
    "start_time": "2022-03-19T20:48:56.006Z"
   },
   {
    "duration": 80,
    "start_time": "2022-03-19T20:48:56.019Z"
   },
   {
    "duration": 4,
    "start_time": "2022-03-19T20:48:56.101Z"
   },
   {
    "duration": 5,
    "start_time": "2022-03-19T20:48:56.107Z"
   },
   {
    "duration": 6,
    "start_time": "2022-03-19T20:48:56.114Z"
   },
   {
    "duration": 13,
    "start_time": "2022-03-19T20:48:56.121Z"
   },
   {
    "duration": 9,
    "start_time": "2022-03-19T20:48:56.136Z"
   },
   {
    "duration": 8,
    "start_time": "2022-03-19T20:48:56.181Z"
   },
   {
    "duration": 17,
    "start_time": "2022-03-19T20:48:56.191Z"
   },
   {
    "duration": 12,
    "start_time": "2022-03-19T20:48:56.209Z"
   },
   {
    "duration": 13,
    "start_time": "2022-03-19T20:48:56.222Z"
   },
   {
    "duration": 174,
    "start_time": "2022-03-19T20:48:56.237Z"
   },
   {
    "duration": 303,
    "start_time": "2022-03-19T20:48:56.413Z"
   },
   {
    "duration": 65,
    "start_time": "2022-03-19T20:48:56.718Z"
   },
   {
    "duration": 398,
    "start_time": "2022-03-19T20:48:56.785Z"
   },
   {
    "duration": 25,
    "start_time": "2022-03-19T20:48:57.184Z"
   },
   {
    "duration": 226,
    "start_time": "2022-03-19T20:48:57.211Z"
   },
   {
    "duration": 12,
    "start_time": "2022-03-19T20:48:57.438Z"
   },
   {
    "duration": 314,
    "start_time": "2022-03-19T20:48:57.451Z"
   },
   {
    "duration": 345,
    "start_time": "2022-03-19T20:48:57.767Z"
   },
   {
    "duration": 285,
    "start_time": "2022-03-19T20:48:58.114Z"
   },
   {
    "duration": 205,
    "start_time": "2022-03-19T20:48:58.400Z"
   },
   {
    "duration": 263,
    "start_time": "2022-03-19T20:48:58.607Z"
   },
   {
    "duration": 113,
    "start_time": "2022-03-19T20:48:58.871Z"
   },
   {
    "duration": 0,
    "start_time": "2022-03-19T20:48:58.986Z"
   },
   {
    "duration": 0,
    "start_time": "2022-03-19T20:48:58.987Z"
   },
   {
    "duration": 0,
    "start_time": "2022-03-19T20:48:58.988Z"
   },
   {
    "duration": 0,
    "start_time": "2022-03-19T20:48:58.989Z"
   },
   {
    "duration": 0,
    "start_time": "2022-03-19T20:48:58.990Z"
   },
   {
    "duration": 22,
    "start_time": "2022-03-19T20:59:25.061Z"
   },
   {
    "duration": 20,
    "start_time": "2022-03-19T20:59:31.770Z"
   },
   {
    "duration": 144,
    "start_time": "2022-03-19T20:59:42.915Z"
   },
   {
    "duration": 3,
    "start_time": "2022-03-19T21:00:10.274Z"
   },
   {
    "duration": 58,
    "start_time": "2022-03-19T21:00:10.279Z"
   },
   {
    "duration": 13,
    "start_time": "2022-03-19T21:00:10.339Z"
   },
   {
    "duration": 12,
    "start_time": "2022-03-19T21:00:10.353Z"
   },
   {
    "duration": 15,
    "start_time": "2022-03-19T21:00:10.367Z"
   },
   {
    "duration": 12,
    "start_time": "2022-03-19T21:00:10.383Z"
   },
   {
    "duration": 54,
    "start_time": "2022-03-19T21:00:10.396Z"
   },
   {
    "duration": 4,
    "start_time": "2022-03-19T21:00:10.452Z"
   },
   {
    "duration": 6,
    "start_time": "2022-03-19T21:00:10.481Z"
   },
   {
    "duration": 15,
    "start_time": "2022-03-19T21:00:10.489Z"
   },
   {
    "duration": 16,
    "start_time": "2022-03-19T21:00:10.505Z"
   },
   {
    "duration": 19,
    "start_time": "2022-03-19T21:00:10.522Z"
   },
   {
    "duration": 8,
    "start_time": "2022-03-19T21:00:10.543Z"
   },
   {
    "duration": 31,
    "start_time": "2022-03-19T21:00:10.553Z"
   },
   {
    "duration": 14,
    "start_time": "2022-03-19T21:00:10.585Z"
   },
   {
    "duration": 14,
    "start_time": "2022-03-19T21:00:10.601Z"
   },
   {
    "duration": 150,
    "start_time": "2022-03-19T21:00:14.585Z"
   },
   {
    "duration": 0,
    "start_time": "2022-03-19T21:01:56.250Z"
   },
   {
    "duration": 0,
    "start_time": "2022-03-19T21:01:56.251Z"
   },
   {
    "duration": 0,
    "start_time": "2022-03-19T21:01:56.252Z"
   },
   {
    "duration": 0,
    "start_time": "2022-03-19T21:01:56.253Z"
   },
   {
    "duration": 0,
    "start_time": "2022-03-19T21:01:56.254Z"
   },
   {
    "duration": 0,
    "start_time": "2022-03-19T21:01:56.254Z"
   },
   {
    "duration": 0,
    "start_time": "2022-03-19T21:01:56.255Z"
   },
   {
    "duration": 0,
    "start_time": "2022-03-19T21:01:56.256Z"
   },
   {
    "duration": 0,
    "start_time": "2022-03-19T21:01:56.257Z"
   },
   {
    "duration": 0,
    "start_time": "2022-03-19T21:01:56.258Z"
   },
   {
    "duration": 0,
    "start_time": "2022-03-19T21:01:56.281Z"
   },
   {
    "duration": 0,
    "start_time": "2022-03-19T21:01:56.282Z"
   },
   {
    "duration": 0,
    "start_time": "2022-03-19T21:01:56.283Z"
   },
   {
    "duration": 0,
    "start_time": "2022-03-19T21:01:56.284Z"
   },
   {
    "duration": 0,
    "start_time": "2022-03-19T21:01:56.285Z"
   },
   {
    "duration": 0,
    "start_time": "2022-03-19T21:01:56.286Z"
   },
   {
    "duration": 0,
    "start_time": "2022-03-19T21:01:56.287Z"
   },
   {
    "duration": 0,
    "start_time": "2022-03-19T21:01:56.288Z"
   },
   {
    "duration": 0,
    "start_time": "2022-03-19T21:01:56.289Z"
   },
   {
    "duration": 0,
    "start_time": "2022-03-19T21:01:56.290Z"
   },
   {
    "duration": 0,
    "start_time": "2022-03-19T21:01:56.291Z"
   },
   {
    "duration": 0,
    "start_time": "2022-03-19T21:01:56.292Z"
   },
   {
    "duration": 0,
    "start_time": "2022-03-19T21:01:56.293Z"
   },
   {
    "duration": 0,
    "start_time": "2022-03-19T21:01:56.294Z"
   },
   {
    "duration": 0,
    "start_time": "2022-03-19T21:01:56.295Z"
   },
   {
    "duration": 0,
    "start_time": "2022-03-19T21:01:56.296Z"
   },
   {
    "duration": 0,
    "start_time": "2022-03-19T21:01:56.297Z"
   },
   {
    "duration": 0,
    "start_time": "2022-03-19T21:01:56.298Z"
   },
   {
    "duration": 0,
    "start_time": "2022-03-19T21:01:56.299Z"
   },
   {
    "duration": 0,
    "start_time": "2022-03-19T21:01:56.300Z"
   },
   {
    "duration": 0,
    "start_time": "2022-03-19T21:01:56.301Z"
   },
   {
    "duration": 0,
    "start_time": "2022-03-19T21:01:56.302Z"
   },
   {
    "duration": 0,
    "start_time": "2022-03-19T21:01:56.303Z"
   },
   {
    "duration": 0,
    "start_time": "2022-03-19T21:01:56.304Z"
   },
   {
    "duration": 143,
    "start_time": "2022-03-19T21:02:10.317Z"
   },
   {
    "duration": 1119,
    "start_time": "2022-03-19T21:02:23.287Z"
   },
   {
    "duration": 54,
    "start_time": "2022-03-19T21:02:24.408Z"
   },
   {
    "duration": 14,
    "start_time": "2022-03-19T21:02:24.463Z"
   },
   {
    "duration": 9,
    "start_time": "2022-03-19T21:02:24.481Z"
   },
   {
    "duration": 16,
    "start_time": "2022-03-19T21:02:24.491Z"
   },
   {
    "duration": 12,
    "start_time": "2022-03-19T21:02:24.508Z"
   },
   {
    "duration": 70,
    "start_time": "2022-03-19T21:02:24.521Z"
   },
   {
    "duration": 4,
    "start_time": "2022-03-19T21:02:24.592Z"
   },
   {
    "duration": 7,
    "start_time": "2022-03-19T21:02:24.598Z"
   },
   {
    "duration": 6,
    "start_time": "2022-03-19T21:02:24.607Z"
   },
   {
    "duration": 12,
    "start_time": "2022-03-19T21:02:24.615Z"
   },
   {
    "duration": 9,
    "start_time": "2022-03-19T21:02:24.629Z"
   },
   {
    "duration": 7,
    "start_time": "2022-03-19T21:02:24.639Z"
   },
   {
    "duration": 44,
    "start_time": "2022-03-19T21:02:24.648Z"
   },
   {
    "duration": 12,
    "start_time": "2022-03-19T21:02:24.694Z"
   },
   {
    "duration": 13,
    "start_time": "2022-03-19T21:02:24.707Z"
   },
   {
    "duration": 169,
    "start_time": "2022-03-19T21:02:24.722Z"
   },
   {
    "duration": 307,
    "start_time": "2022-03-19T21:02:24.892Z"
   },
   {
    "duration": 61,
    "start_time": "2022-03-19T21:02:25.201Z"
   },
   {
    "duration": 416,
    "start_time": "2022-03-19T21:02:25.263Z"
   },
   {
    "duration": 26,
    "start_time": "2022-03-19T21:02:25.681Z"
   },
   {
    "duration": 225,
    "start_time": "2022-03-19T21:02:25.709Z"
   },
   {
    "duration": 11,
    "start_time": "2022-03-19T21:02:25.936Z"
   },
   {
    "duration": 315,
    "start_time": "2022-03-19T21:02:25.949Z"
   },
   {
    "duration": 373,
    "start_time": "2022-03-19T21:02:26.266Z"
   },
   {
    "duration": 289,
    "start_time": "2022-03-19T21:02:26.640Z"
   },
   {
    "duration": 214,
    "start_time": "2022-03-19T21:02:26.931Z"
   },
   {
    "duration": 271,
    "start_time": "2022-03-19T21:02:27.148Z"
   },
   {
    "duration": 119,
    "start_time": "2022-03-19T21:02:27.421Z"
   },
   {
    "duration": 0,
    "start_time": "2022-03-19T21:02:27.541Z"
   },
   {
    "duration": 0,
    "start_time": "2022-03-19T21:02:27.542Z"
   },
   {
    "duration": 0,
    "start_time": "2022-03-19T21:02:27.543Z"
   },
   {
    "duration": 0,
    "start_time": "2022-03-19T21:02:27.544Z"
   },
   {
    "duration": 0,
    "start_time": "2022-03-19T21:02:27.545Z"
   },
   {
    "duration": 29,
    "start_time": "2022-03-19T21:07:47.115Z"
   },
   {
    "duration": 272,
    "start_time": "2022-03-19T21:08:06.065Z"
   },
   {
    "duration": 675,
    "start_time": "2022-03-19T21:09:03.994Z"
   },
   {
    "duration": 1116,
    "start_time": "2022-03-19T21:10:09.381Z"
   },
   {
    "duration": 53,
    "start_time": "2022-03-19T21:10:10.499Z"
   },
   {
    "duration": 13,
    "start_time": "2022-03-19T21:10:10.554Z"
   },
   {
    "duration": 14,
    "start_time": "2022-03-19T21:10:10.568Z"
   },
   {
    "duration": 13,
    "start_time": "2022-03-19T21:10:10.584Z"
   },
   {
    "duration": 12,
    "start_time": "2022-03-19T21:10:10.599Z"
   },
   {
    "duration": 79,
    "start_time": "2022-03-19T21:10:10.613Z"
   },
   {
    "duration": 5,
    "start_time": "2022-03-19T21:10:10.694Z"
   },
   {
    "duration": 7,
    "start_time": "2022-03-19T21:10:10.701Z"
   },
   {
    "duration": 6,
    "start_time": "2022-03-19T21:10:10.710Z"
   },
   {
    "duration": 14,
    "start_time": "2022-03-19T21:10:10.718Z"
   },
   {
    "duration": 9,
    "start_time": "2022-03-19T21:10:10.734Z"
   },
   {
    "duration": 36,
    "start_time": "2022-03-19T21:10:10.745Z"
   },
   {
    "duration": 17,
    "start_time": "2022-03-19T21:10:10.785Z"
   },
   {
    "duration": 14,
    "start_time": "2022-03-19T21:10:10.803Z"
   },
   {
    "duration": 13,
    "start_time": "2022-03-19T21:10:10.819Z"
   },
   {
    "duration": 189,
    "start_time": "2022-03-19T21:10:10.834Z"
   },
   {
    "duration": 306,
    "start_time": "2022-03-19T21:10:11.025Z"
   },
   {
    "duration": 77,
    "start_time": "2022-03-19T21:10:11.332Z"
   },
   {
    "duration": 401,
    "start_time": "2022-03-19T21:10:11.410Z"
   },
   {
    "duration": 25,
    "start_time": "2022-03-19T21:10:11.813Z"
   },
   {
    "duration": 236,
    "start_time": "2022-03-19T21:10:11.840Z"
   },
   {
    "duration": 12,
    "start_time": "2022-03-19T21:10:12.080Z"
   },
   {
    "duration": 365,
    "start_time": "2022-03-19T21:10:12.094Z"
   },
   {
    "duration": 374,
    "start_time": "2022-03-19T21:10:12.460Z"
   },
   {
    "duration": 280,
    "start_time": "2022-03-19T21:10:12.836Z"
   },
   {
    "duration": 197,
    "start_time": "2022-03-19T21:10:13.118Z"
   },
   {
    "duration": 364,
    "start_time": "2022-03-19T21:10:13.317Z"
   },
   {
    "duration": 317,
    "start_time": "2022-03-19T21:10:13.682Z"
   },
   {
    "duration": 640,
    "start_time": "2022-03-19T21:10:14.001Z"
   },
   {
    "duration": 22,
    "start_time": "2022-03-19T21:10:14.643Z"
   },
   {
    "duration": 7,
    "start_time": "2022-03-19T21:10:14.666Z"
   },
   {
    "duration": 23,
    "start_time": "2022-03-19T21:10:14.675Z"
   },
   {
    "duration": 6,
    "start_time": "2022-03-19T21:10:14.700Z"
   }
  ],
  "kernelspec": {
   "display_name": "Python 3 (ipykernel)",
   "language": "python",
   "name": "python3"
  },
  "language_info": {
   "codemirror_mode": {
    "name": "ipython",
    "version": 3
   },
   "file_extension": ".py",
   "mimetype": "text/x-python",
   "name": "python",
   "nbconvert_exporter": "python",
   "pygments_lexer": "ipython3",
   "version": "3.9.7"
  },
  "toc": {
   "base_numbering": 1,
   "nav_menu": {},
   "number_sections": true,
   "sideBar": true,
   "skip_h1_title": true,
   "title_cell": "Table of Contents",
   "title_sidebar": "Contents",
   "toc_cell": false,
   "toc_position": {},
   "toc_section_display": true,
   "toc_window_display": false
  }
 },
 "nbformat": 4,
 "nbformat_minor": 4
}

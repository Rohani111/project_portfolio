{
 "cells": [
  {
   "cell_type": "markdown",
   "id": "394cdf83",
   "metadata": {},
   "source": [
    "<h1> <div align=\"center\"><a> Проект «Определение перспективных пептидных мишеней для иммунотерапии лейкемии» </a></div> "
   ]
  },
  {
   "cell_type": "markdown",
   "id": "849b9c24",
   "metadata": {},
   "source": [
    "<font size=\"4\"><b> Описание проекта </b></font>\n",
    "\n",
    "Проект был выполнен для PhD студента, который работает в Норвегии и занимается изучением противоопухолевого иммунитета. Было необходимо сопоставить несколько баз данных с целью обнаружения пептидных мишеней, которые потенциально могут быть использованы для  борьбы с лейкемией.\n",
    "\n",
    "<font size=\"4\"><b> Цель проекта </b></font>\n",
    "\n",
    "Определить перспективные пептидные мишени, которые могут помочь в поисках новых методов борьбы с лейкемией.\n",
    "\n",
    "<font size=\"4\"><b> Описание данных </b></font>\n",
    "\n",
    "Данные представлены несколькими источниками разных форматов и структур:\n",
    " 1. база данных по медианам экспрессии генов в различных здоровых тканях - файл с расширеним .gct;\n",
    " 2. база по пептидам, найденным в здоровых тканях - файл с расширением .xlsx;\n",
    " 3. данные по экспрессии генов в каждом семпле опухоли - 268 файлов формата .gz, которые содержат в названии **normcounts** и лежат в папке со своими дубликатами, отличающихся только частью названия в конце имени;\n",
    " 4. датасет пептидов из разных генов (Чонг и соавторы) - файл с расширением .xlsx;\n",
    " 5. датасет пептидов из разных генов (Эрхард и соавторы) - файл с расширением .xlsx;\n",
    " 6. датасет пептидов из разных генов (Успенская и соавторы) - 2 файла с расширением .xlsx, в одном из которых на 10 листах  находится информация по пептидам и связанным с ними рамками считывания, а в другом база рамок считывания и соответствующих им генов.\n",
    " \n",
    " \n",
    " <font size=\"4\"><b> План работы</b></font>\n",
    "\n",
    "1. Извлечение и обзор данных.\n",
    "2. Предобработка данных.\n",
    "3. Анализ данных:\n",
    "   * поиск генов, которые в определенных видах здоровых тканей имеют низкий уровень экспрессии (максимальное значение не превышает порог 40), а в опухолевых тканях высокий уровень экспрессии (пороговое значение взять на уровне медианы для 4 квартиля); \n",
    "   * на основании полученного списка генов провести поиск в 3 датасетах пептидов из разных генов;\n",
    "   * провести анализ частоты найденных пептидов в каждом из 3 датасетов;\n",
    "   * итоговый список пептидов проверить на наличие в базе по пептидам, найденным в здоровых тканях (гипотеза подразумевает, что пептиды, свойственные опухолевым тканям, не должны проявляться в здоровых тканях).\n",
    "4. Основные выводы."
   ]
  },
  {
   "cell_type": "markdown",
   "id": "87d75fa6",
   "metadata": {},
   "source": [
    "## Извлечение и обзор данных"
   ]
  },
  {
   "cell_type": "code",
   "execution_count": 1,
   "id": "94e6d9a5",
   "metadata": {
    "collapsed": true
   },
   "outputs": [
    {
     "name": "stdout",
     "output_type": "stream",
     "text": [
      "Requirement already satisfied: matplotlib_venn in c:\\users\\german.shakhrul\\anaconda3\\lib\\site-packages (0.11.7)\n",
      "Requirement already satisfied: scipy in c:\\users\\german.shakhrul\\anaconda3\\lib\\site-packages (from matplotlib_venn) (1.7.1)\n",
      "Requirement already satisfied: matplotlib in c:\\users\\german.shakhrul\\anaconda3\\lib\\site-packages (from matplotlib_venn) (3.4.3)\n",
      "Requirement already satisfied: numpy in c:\\users\\german.shakhrul\\anaconda3\\lib\\site-packages (from matplotlib_venn) (1.20.3)\n",
      "Requirement already satisfied: kiwisolver>=1.0.1 in c:\\users\\german.shakhrul\\anaconda3\\lib\\site-packages (from matplotlib->matplotlib_venn) (1.3.1)\n",
      "Requirement already satisfied: pillow>=6.2.0 in c:\\users\\german.shakhrul\\anaconda3\\lib\\site-packages (from matplotlib->matplotlib_venn) (8.4.0)\n",
      "Requirement already satisfied: cycler>=0.10 in c:\\users\\german.shakhrul\\anaconda3\\lib\\site-packages (from matplotlib->matplotlib_venn) (0.10.0)\n",
      "Requirement already satisfied: python-dateutil>=2.7 in c:\\users\\german.shakhrul\\anaconda3\\lib\\site-packages (from matplotlib->matplotlib_venn) (2.8.2)\n",
      "Requirement already satisfied: pyparsing>=2.2.1 in c:\\users\\german.shakhrul\\anaconda3\\lib\\site-packages (from matplotlib->matplotlib_venn) (3.0.4)\n",
      "Requirement already satisfied: six in c:\\users\\german.shakhrul\\anaconda3\\lib\\site-packages (from cycler>=0.10->matplotlib->matplotlib_venn) (1.16.0)\n",
      "Note: you may need to restart the kernel to use updated packages.\n"
     ]
    }
   ],
   "source": [
    "pip install matplotlib_venn"
   ]
  },
  {
   "cell_type": "code",
   "execution_count": 2,
   "id": "4b099e2b",
   "metadata": {},
   "outputs": [],
   "source": [
    "import pandas as pd\n",
    "import glob\n",
    "import warnings\n",
    "from matplotlib import pyplot as plt\n",
    "from matplotlib_venn import venn2, venn2_circles, venn2_unweighted\n",
    "from matplotlib_venn import venn3, venn3_circles, venn3_unweighted\n",
    "#warnings.filterwarnings(\"ignore\")\n",
    "#pd.set_option(\"display.max_rows\", None)\n",
    "#pd.set_option(\"display.max_columns\", None)"
   ]
  },
  {
   "cell_type": "code",
   "execution_count": 3,
   "id": "b3472ccd",
   "metadata": {
    "scrolled": true
   },
   "outputs": [
    {
     "data": {
      "text/html": [
       "<div>\n",
       "<style scoped>\n",
       "    .dataframe tbody tr th:only-of-type {\n",
       "        vertical-align: middle;\n",
       "    }\n",
       "\n",
       "    .dataframe tbody tr th {\n",
       "        vertical-align: top;\n",
       "    }\n",
       "\n",
       "    .dataframe thead th {\n",
       "        text-align: right;\n",
       "    }\n",
       "</style>\n",
       "<table border=\"1\" class=\"dataframe\">\n",
       "  <thead>\n",
       "    <tr style=\"text-align: right;\">\n",
       "      <th></th>\n",
       "      <th>Name</th>\n",
       "      <th>Description</th>\n",
       "      <th>Adipose - Subcutaneous</th>\n",
       "      <th>Adipose - Visceral (Omentum)</th>\n",
       "      <th>Adrenal Gland</th>\n",
       "      <th>Artery - Aorta</th>\n",
       "      <th>Artery - Coronary</th>\n",
       "      <th>Artery - Tibial</th>\n",
       "      <th>Bladder</th>\n",
       "      <th>Brain - Amygdala</th>\n",
       "      <th>...</th>\n",
       "      <th>Skin - Not Sun Exposed (Suprapubic)</th>\n",
       "      <th>Skin - Sun Exposed (Lower leg)</th>\n",
       "      <th>Small Intestine - Terminal Ileum</th>\n",
       "      <th>Spleen</th>\n",
       "      <th>Stomach</th>\n",
       "      <th>Testis</th>\n",
       "      <th>Thyroid</th>\n",
       "      <th>Uterus</th>\n",
       "      <th>Vagina</th>\n",
       "      <th>Whole Blood</th>\n",
       "    </tr>\n",
       "  </thead>\n",
       "  <tbody>\n",
       "    <tr>\n",
       "      <th>0</th>\n",
       "      <td>ENSG00000223972.5</td>\n",
       "      <td>DDX11L1</td>\n",
       "      <td>0.0</td>\n",
       "      <td>0.0</td>\n",
       "      <td>0.0</td>\n",
       "      <td>0.0</td>\n",
       "      <td>0.0</td>\n",
       "      <td>0.0</td>\n",
       "      <td>0.0</td>\n",
       "      <td>0.0</td>\n",
       "      <td>...</td>\n",
       "      <td>0.0</td>\n",
       "      <td>0.0</td>\n",
       "      <td>0.0</td>\n",
       "      <td>0.0</td>\n",
       "      <td>0.0</td>\n",
       "      <td>0.166403</td>\n",
       "      <td>0.0</td>\n",
       "      <td>0.0</td>\n",
       "      <td>0.0</td>\n",
       "      <td>0.0</td>\n",
       "    </tr>\n",
       "  </tbody>\n",
       "</table>\n",
       "<p>1 rows × 56 columns</p>\n",
       "</div>"
      ],
      "text/plain": [
       "                Name Description  Adipose - Subcutaneous  \\\n",
       "0  ENSG00000223972.5     DDX11L1                     0.0   \n",
       "\n",
       "   Adipose - Visceral (Omentum)  Adrenal Gland  Artery - Aorta  \\\n",
       "0                           0.0            0.0             0.0   \n",
       "\n",
       "   Artery - Coronary  Artery - Tibial  Bladder  Brain - Amygdala  ...  \\\n",
       "0                0.0              0.0      0.0               0.0  ...   \n",
       "\n",
       "   Skin - Not Sun Exposed (Suprapubic)  Skin - Sun Exposed (Lower leg)  \\\n",
       "0                                  0.0                             0.0   \n",
       "\n",
       "   Small Intestine - Terminal Ileum  Spleen  Stomach    Testis  Thyroid  \\\n",
       "0                               0.0     0.0      0.0  0.166403      0.0   \n",
       "\n",
       "   Uterus  Vagina  Whole Blood  \n",
       "0     0.0     0.0          0.0  \n",
       "\n",
       "[1 rows x 56 columns]"
      ]
     },
     "execution_count": 3,
     "metadata": {},
     "output_type": "execute_result"
    }
   ],
   "source": [
    "# база данных по медианам экспрессии генов в различных здоровых тканях; \n",
    "# столбец Name - код гена, из которого нам нужна только часть до точки\n",
    "GTeX = pd.read_csv('C:\\\\Users\\\\German.Shakhrul\\\\Documents\\\\Python\\\\Проекты\\\\pet project\\\\Phyton\\\\GTEx_Analysis_2017-06-05_v8_RNASeQCv1.1.9_gene_median_tpm.gct', sep='\\t', header = 2)\n",
    "GTeX.head(1)"
   ]
  },
  {
   "cell_type": "code",
   "execution_count": 4,
   "id": "50a0b527",
   "metadata": {
    "collapsed": true
   },
   "outputs": [
    {
     "name": "stdout",
     "output_type": "stream",
     "text": [
      "<class 'pandas.core.frame.DataFrame'>\n",
      "RangeIndex: 56200 entries, 0 to 56199\n",
      "Data columns (total 56 columns):\n",
      " #   Column                                     Non-Null Count  Dtype  \n",
      "---  ------                                     --------------  -----  \n",
      " 0   Name                                       56200 non-null  object \n",
      " 1   Description                                56200 non-null  object \n",
      " 2   Adipose - Subcutaneous                     56200 non-null  float64\n",
      " 3   Adipose - Visceral (Omentum)               56200 non-null  float64\n",
      " 4   Adrenal Gland                              56200 non-null  float64\n",
      " 5   Artery - Aorta                             56200 non-null  float64\n",
      " 6   Artery - Coronary                          56200 non-null  float64\n",
      " 7   Artery - Tibial                            56200 non-null  float64\n",
      " 8   Bladder                                    56200 non-null  float64\n",
      " 9   Brain - Amygdala                           56200 non-null  float64\n",
      " 10  Brain - Anterior cingulate cortex (BA24)   56200 non-null  float64\n",
      " 11  Brain - Caudate (basal ganglia)            56200 non-null  float64\n",
      " 12  Brain - Cerebellar Hemisphere              56200 non-null  float64\n",
      " 13  Brain - Cerebellum                         56200 non-null  float64\n",
      " 14  Brain - Cortex                             56200 non-null  float64\n",
      " 15  Brain - Frontal Cortex (BA9)               56200 non-null  float64\n",
      " 16  Brain - Hippocampus                        56200 non-null  float64\n",
      " 17  Brain - Hypothalamus                       56200 non-null  float64\n",
      " 18  Brain - Nucleus accumbens (basal ganglia)  56200 non-null  float64\n",
      " 19  Brain - Putamen (basal ganglia)            56200 non-null  float64\n",
      " 20  Brain - Spinal cord (cervical c-1)         56200 non-null  float64\n",
      " 21  Brain - Substantia nigra                   56200 non-null  float64\n",
      " 22  Breast - Mammary Tissue                    56200 non-null  float64\n",
      " 23  Cells - Cultured fibroblasts               56200 non-null  float64\n",
      " 24  Cells - EBV-transformed lymphocytes        56200 non-null  float64\n",
      " 25  Cervix - Ectocervix                        56200 non-null  float64\n",
      " 26  Cervix - Endocervix                        56200 non-null  float64\n",
      " 27  Colon - Sigmoid                            56200 non-null  float64\n",
      " 28  Colon - Transverse                         56200 non-null  float64\n",
      " 29  Esophagus - Gastroesophageal Junction      56200 non-null  float64\n",
      " 30  Esophagus - Mucosa                         56200 non-null  float64\n",
      " 31  Esophagus - Muscularis                     56200 non-null  float64\n",
      " 32  Fallopian Tube                             56200 non-null  float64\n",
      " 33  Heart - Atrial Appendage                   56200 non-null  float64\n",
      " 34  Heart - Left Ventricle                     56200 non-null  float64\n",
      " 35  Kidney - Cortex                            56200 non-null  float64\n",
      " 36  Kidney - Medulla                           56200 non-null  float64\n",
      " 37  Liver                                      56200 non-null  float64\n",
      " 38  Lung                                       56200 non-null  float64\n",
      " 39  Minor Salivary Gland                       56200 non-null  float64\n",
      " 40  Muscle - Skeletal                          56200 non-null  float64\n",
      " 41  Nerve - Tibial                             56200 non-null  float64\n",
      " 42  Ovary                                      56200 non-null  float64\n",
      " 43  Pancreas                                   56200 non-null  float64\n",
      " 44  Pituitary                                  56200 non-null  float64\n",
      " 45  Prostate                                   56200 non-null  float64\n",
      " 46  Skin - Not Sun Exposed (Suprapubic)        56200 non-null  float64\n",
      " 47  Skin - Sun Exposed (Lower leg)             56200 non-null  float64\n",
      " 48  Small Intestine - Terminal Ileum           56200 non-null  float64\n",
      " 49  Spleen                                     56200 non-null  float64\n",
      " 50  Stomach                                    56200 non-null  float64\n",
      " 51  Testis                                     56200 non-null  float64\n",
      " 52  Thyroid                                    56200 non-null  float64\n",
      " 53  Uterus                                     56200 non-null  float64\n",
      " 54  Vagina                                     56200 non-null  float64\n",
      " 55  Whole Blood                                56200 non-null  float64\n",
      "dtypes: float64(54), object(2)\n",
      "memory usage: 24.0+ MB\n"
     ]
    }
   ],
   "source": [
    "GTeX.info()"
   ]
  },
  {
   "cell_type": "code",
   "execution_count": 5,
   "id": "f138f9dd",
   "metadata": {},
   "outputs": [
    {
     "data": {
      "text/html": [
       "<div>\n",
       "<style scoped>\n",
       "    .dataframe tbody tr th:only-of-type {\n",
       "        vertical-align: middle;\n",
       "    }\n",
       "\n",
       "    .dataframe tbody tr th {\n",
       "        vertical-align: top;\n",
       "    }\n",
       "\n",
       "    .dataframe thead th {\n",
       "        text-align: right;\n",
       "    }\n",
       "</style>\n",
       "<table border=\"1\" class=\"dataframe\">\n",
       "  <thead>\n",
       "    <tr style=\"text-align: right;\">\n",
       "      <th></th>\n",
       "      <th>Delta first</th>\n",
       "      <th>Decoy</th>\n",
       "      <th>Genome</th>\n",
       "      <th>Location</th>\n",
       "      <th>Category</th>\n",
       "      <th>Sequence</th>\n",
       "      <th>Delta next</th>\n",
       "      <th>spectra</th>\n",
       "      <th>Top location count</th>\n",
       "      <th>PEP</th>\n",
       "      <th>...</th>\n",
       "      <th>rank.peptide.redundancy</th>\n",
       "      <th>Sequence.nr</th>\n",
       "      <th>number.patients.shared</th>\n",
       "      <th>patients</th>\n",
       "      <th>best.Q</th>\n",
       "      <th>tissue</th>\n",
       "      <th>best HLA binder</th>\n",
       "      <th>best.peptide</th>\n",
       "      <th>best.ALC</th>\n",
       "      <th>modified</th>\n",
       "    </tr>\n",
       "  </thead>\n",
       "  <tbody>\n",
       "    <tr>\n",
       "      <th>0</th>\n",
       "      <td>0</td>\n",
       "      <td>T</td>\n",
       "      <td>h.ens90</td>\n",
       "      <td>6-:24720379-24720406</td>\n",
       "      <td>UTR5</td>\n",
       "      <td>SAGGPVTVR</td>\n",
       "      <td>100</td>\n",
       "      <td>33</td>\n",
       "      <td>1</td>\n",
       "      <td>0.00311</td>\n",
       "      <td>...</td>\n",
       "      <td>1</td>\n",
       "      <td>SAGGPVTVR</td>\n",
       "      <td>3</td>\n",
       "      <td>ZH_02, ZH_08, ZH_09</td>\n",
       "      <td>0.0</td>\n",
       "      <td>Cerebellum</td>\n",
       "      <td>strong binder</td>\n",
       "      <td>yes</td>\n",
       "      <td>99</td>\n",
       "      <td>unmodified</td>\n",
       "    </tr>\n",
       "  </tbody>\n",
       "</table>\n",
       "<p>1 rows × 42 columns</p>\n",
       "</div>"
      ],
      "text/plain": [
       "   Delta first Decoy   Genome              Location Category   Sequence  \\\n",
       "0            0     T  h.ens90  6-:24720379-24720406     UTR5  SAGGPVTVR   \n",
       "\n",
       "   Delta next  spectra  Top location count      PEP  ...  \\\n",
       "0         100       33                   1  0.00311  ...   \n",
       "\n",
       "   rank.peptide.redundancy  Sequence.nr  number.patients.shared  \\\n",
       "0                        1    SAGGPVTVR                       3   \n",
       "\n",
       "              patients best.Q      tissue best HLA binder  best.peptide  \\\n",
       "0  ZH_02, ZH_08, ZH_09    0.0  Cerebellum   strong binder           yes   \n",
       "\n",
       "   best.ALC    modified  \n",
       "0        99  unmodified  \n",
       "\n",
       "[1 rows x 42 columns]"
      ]
     },
     "execution_count": 5,
     "metadata": {},
     "output_type": "execute_result"
    }
   ],
   "source": [
    "# база по пептидам, найденным в здоровых тканях; столбец Sequence - последовательность пептида\n",
    "HLA = pd.read_excel('C:\\\\Users\\\\German.Shakhrul\\\\Documents\\\\Python\\\\Проекты\\\\pet project\\\\Phyton\\\\DBs\\\\Erhard\\\\HLA_ligand_S3.xlsx', header=0)\n",
    "HLA.head(1)"
   ]
  },
  {
   "cell_type": "code",
   "execution_count": 6,
   "id": "15d3bd4a",
   "metadata": {
    "collapsed": true
   },
   "outputs": [
    {
     "name": "stdout",
     "output_type": "stream",
     "text": [
      "<class 'pandas.core.frame.DataFrame'>\n",
      "RangeIndex: 1407 entries, 0 to 1406\n",
      "Data columns (total 42 columns):\n",
      " #   Column                   Non-Null Count  Dtype  \n",
      "---  ------                   --------------  -----  \n",
      " 0   Delta first              1407 non-null   int64  \n",
      " 1   Decoy                    1407 non-null   object \n",
      " 2   Genome                   1407 non-null   object \n",
      " 3   Location                 1407 non-null   object \n",
      " 4   Category                 1407 non-null   object \n",
      " 5   Sequence                 1407 non-null   object \n",
      " 6   Delta next               1407 non-null   int64  \n",
      " 7   spectra                  1407 non-null   int64  \n",
      " 8   Top location count       1407 non-null   int64  \n",
      " 9   PEP                      1407 non-null   float64\n",
      " 10  Q                        1407 non-null   float64\n",
      " 11  Hydrophobicity           1407 non-null   float64\n",
      " 12  Intensity                1373 non-null   float64\n",
      " 13  Gene                     1378 non-null   object \n",
      " 14  Symbol                   1378 non-null   object \n",
      " 15  ORF TIS prio             1407 non-null   object \n",
      " 16  ORF TIS                  1407 non-null   object \n",
      " 17  ORF length (nt)          1407 non-null   int64  \n",
      " 18  ORF nterm (aa)           1407 non-null   int64  \n",
      " 19  ORF cterm (aa)           1407 non-null   int64  \n",
      " 20  Region nterm             1407 non-null   int64  \n",
      " 21  Region length            1407 non-null   int64  \n",
      " 22  Region cterm             1407 non-null   int64  \n",
      " 23  Intron index             1407 non-null   int64  \n",
      " 24  Upstream sequence        1406 non-null   object \n",
      " 25  Downstream sequence      1406 non-null   object \n",
      " 26  HLA allele               1407 non-null   object \n",
      " 27  netMHC % rank            1407 non-null   float64\n",
      " 28  cryptic                  1407 non-null   object \n",
      " 29  HLA binder               1407 non-null   object \n",
      " 30  filtered.HLA allele      1407 non-null   object \n",
      " 31  end.at.stop              1407 non-null   object \n",
      " 32  rank.peptide.redundancy  1407 non-null   int64  \n",
      " 33  Sequence.nr              1407 non-null   object \n",
      " 34  number.patients.shared   1407 non-null   int64  \n",
      " 35  patients                 1407 non-null   object \n",
      " 36  best.Q                   1407 non-null   float64\n",
      " 37  tissue                   1407 non-null   object \n",
      " 38  best HLA binder          1407 non-null   object \n",
      " 39  best.peptide             1407 non-null   object \n",
      " 40  best.ALC                 1407 non-null   int64  \n",
      " 41  modified                 1407 non-null   object \n",
      "dtypes: float64(6), int64(14), object(22)\n",
      "memory usage: 461.8+ KB\n"
     ]
    }
   ],
   "source": [
    "HLA.info()"
   ]
  },
  {
   "cell_type": "code",
   "execution_count": 7,
   "id": "df1abb48",
   "metadata": {
    "scrolled": true
   },
   "outputs": [
    {
     "name": "stdout",
     "output_type": "stream",
     "text": [
      "Wall time: 37.6 s\n"
     ]
    },
    {
     "data": {
      "text/html": [
       "<div>\n",
       "<style scoped>\n",
       "    .dataframe tbody tr th:only-of-type {\n",
       "        vertical-align: middle;\n",
       "    }\n",
       "\n",
       "    .dataframe tbody tr th {\n",
       "        vertical-align: top;\n",
       "    }\n",
       "\n",
       "    .dataframe thead th {\n",
       "        text-align: right;\n",
       "    }\n",
       "</style>\n",
       "<table border=\"1\" class=\"dataframe\">\n",
       "  <thead>\n",
       "    <tr style=\"text-align: right;\">\n",
       "      <th></th>\n",
       "      <th>gene</th>\n",
       "      <th>sample1</th>\n",
       "      <th>sample2</th>\n",
       "      <th>sample3</th>\n",
       "      <th>sample4</th>\n",
       "      <th>sample5</th>\n",
       "      <th>sample6</th>\n",
       "      <th>sample7</th>\n",
       "      <th>sample8</th>\n",
       "      <th>sample9</th>\n",
       "      <th>...</th>\n",
       "      <th>sample259</th>\n",
       "      <th>sample260</th>\n",
       "      <th>sample261</th>\n",
       "      <th>sample262</th>\n",
       "      <th>sample263</th>\n",
       "      <th>sample264</th>\n",
       "      <th>sample265</th>\n",
       "      <th>sample266</th>\n",
       "      <th>sample267</th>\n",
       "      <th>sample268</th>\n",
       "    </tr>\n",
       "  </thead>\n",
       "  <tbody>\n",
       "    <tr>\n",
       "      <th>0</th>\n",
       "      <td>ENSG00000223972</td>\n",
       "      <td>60.601111</td>\n",
       "      <td>21.320893</td>\n",
       "      <td>28.522763</td>\n",
       "      <td>24.052967</td>\n",
       "      <td>41.857187</td>\n",
       "      <td>21.415686</td>\n",
       "      <td>38.998725</td>\n",
       "      <td>22.141664</td>\n",
       "      <td>34.944688</td>\n",
       "      <td>...</td>\n",
       "      <td>46.629057</td>\n",
       "      <td>25.993103</td>\n",
       "      <td>14.231518</td>\n",
       "      <td>33.493773</td>\n",
       "      <td>28.068022</td>\n",
       "      <td>52.484627</td>\n",
       "      <td>30.02282</td>\n",
       "      <td>19.607693</td>\n",
       "      <td>18.661403</td>\n",
       "      <td>23.657806</td>\n",
       "    </tr>\n",
       "  </tbody>\n",
       "</table>\n",
       "<p>1 rows × 269 columns</p>\n",
       "</div>"
      ],
      "text/plain": [
       "              gene    sample1    sample2    sample3    sample4    sample5  \\\n",
       "0  ENSG00000223972  60.601111  21.320893  28.522763  24.052967  41.857187   \n",
       "\n",
       "     sample6    sample7    sample8    sample9  ...  sample259  sample260  \\\n",
       "0  21.415686  38.998725  22.141664  34.944688  ...  46.629057  25.993103   \n",
       "\n",
       "   sample261  sample262  sample263  sample264  sample265  sample266  \\\n",
       "0  14.231518  33.493773  28.068022  52.484627   30.02282  19.607693   \n",
       "\n",
       "   sample267  sample268  \n",
       "0  18.661403  23.657806  \n",
       "\n",
       "[1 rows x 269 columns]"
      ]
     },
     "execution_count": 7,
     "metadata": {},
     "output_type": "execute_result"
    }
   ],
   "source": [
    "%%time\n",
    "# соединяем данные по экспрессии генов из 268 файлов семплов опухолей, которые содержат в названии \"normcounts\", в один файл; \n",
    "# столбец gene - код гена\n",
    "ls_files = glob.glob(\"C:\\\\Users\\\\German.Shakhrul\\\\Documents\\\\Python\\\\Проекты\\\\pet project\\\\Phyton\\\\DBs\\\\Other\\\\extr\\*\")\n",
    "GSM = pd.DataFrame()\n",
    "for filename in [filename for filename in ls_files if 'normcounts' in filename]:\n",
    "    GSM = GSM.join(pd.read_csv(filename, sep='\\s+', index_col=0), how = 'outer')\n",
    "    \n",
    "GSM = GSM.reset_index()\n",
    "GSM.head(1)"
   ]
  },
  {
   "cell_type": "code",
   "execution_count": 8,
   "id": "a1dbc5bc",
   "metadata": {
    "collapsed": true
   },
   "outputs": [
    {
     "name": "stdout",
     "output_type": "stream",
     "text": [
      "<class 'pandas.core.frame.DataFrame'>\n",
      "RangeIndex: 58395 entries, 0 to 58394\n",
      "Columns: 269 entries, gene to sample268\n",
      "dtypes: float64(268), object(1)\n",
      "memory usage: 119.8+ MB\n"
     ]
    }
   ],
   "source": [
    "GSM.info()"
   ]
  },
  {
   "cell_type": "code",
   "execution_count": 9,
   "id": "6a1b70c9",
   "metadata": {},
   "outputs": [
    {
     "data": {
      "text/html": [
       "<div>\n",
       "<style scoped>\n",
       "    .dataframe tbody tr th:only-of-type {\n",
       "        vertical-align: middle;\n",
       "    }\n",
       "\n",
       "    .dataframe tbody tr th {\n",
       "        vertical-align: top;\n",
       "    }\n",
       "\n",
       "    .dataframe thead th {\n",
       "        text-align: right;\n",
       "    }\n",
       "</style>\n",
       "<table border=\"1\" class=\"dataframe\">\n",
       "  <thead>\n",
       "    <tr style=\"text-align: right;\">\n",
       "      <th></th>\n",
       "      <th>Sample name</th>\n",
       "      <th>HLAp category</th>\n",
       "      <th>HLA.class</th>\n",
       "      <th>Charge</th>\n",
       "      <th>Retention Time</th>\n",
       "      <th>Comet.Rank</th>\n",
       "      <th>Comet.Xcorr</th>\n",
       "      <th>Comet.DeltaCn</th>\n",
       "      <th>Comet.SpScore</th>\n",
       "      <th>Comet.NegLogPv</th>\n",
       "      <th>...</th>\n",
       "      <th>MaxQuant.Localisation.Prob</th>\n",
       "      <th>Spectrum</th>\n",
       "      <th>Peptide</th>\n",
       "      <th>Sequence</th>\n",
       "      <th>IsDecoy</th>\n",
       "      <th>Transcript_ID</th>\n",
       "      <th>Gene_ID</th>\n",
       "      <th>Gene_name</th>\n",
       "      <th>ORF_category</th>\n",
       "      <th>Transposable_Element</th>\n",
       "    </tr>\n",
       "  </thead>\n",
       "  <tbody>\n",
       "    <tr>\n",
       "      <th>0</th>\n",
       "      <td>0D5P</td>\n",
       "      <td>lncRNA</td>\n",
       "      <td>HLA-I</td>\n",
       "      <td>2</td>\n",
       "      <td>4338.24</td>\n",
       "      <td>1</td>\n",
       "      <td>2.576</td>\n",
       "      <td>0.409</td>\n",
       "      <td>607.3</td>\n",
       "      <td>4.823909</td>\n",
       "      <td>...</td>\n",
       "      <td>n. def.</td>\n",
       "      <td>20170913_QEh1_LC1_CHC_SA_HLAIp_OD5P_ctrl_2_R1....</td>\n",
       "      <td>VSDEWENLKY</td>\n",
       "      <td>VSDEWENLKY</td>\n",
       "      <td>False</td>\n",
       "      <td>ENST00000604992.1</td>\n",
       "      <td>ENSG00000270194</td>\n",
       "      <td>RP11-259K5.2</td>\n",
       "      <td>NaN</td>\n",
       "      <td>NaN</td>\n",
       "    </tr>\n",
       "  </tbody>\n",
       "</table>\n",
       "<p>1 rows × 23 columns</p>\n",
       "</div>"
      ],
      "text/plain": [
       "  Sample name HLAp category HLA.class  Charge  Retention Time  Comet.Rank  \\\n",
       "0        0D5P        lncRNA     HLA-I       2         4338.24           1   \n",
       "\n",
       "  Comet.Xcorr Comet.DeltaCn Comet.SpScore Comet.NegLogPv  ...  \\\n",
       "0       2.576         0.409         607.3       4.823909  ...   \n",
       "\n",
       "  MaxQuant.Localisation.Prob  \\\n",
       "0                    n. def.   \n",
       "\n",
       "                                            Spectrum     Peptide    Sequence  \\\n",
       "0  20170913_QEh1_LC1_CHC_SA_HLAIp_OD5P_ctrl_2_R1....  VSDEWENLKY  VSDEWENLKY   \n",
       "\n",
       "  IsDecoy      Transcript_ID          Gene_ID     Gene_name ORF_category  \\\n",
       "0   False  ENST00000604992.1  ENSG00000270194  RP11-259K5.2          NaN   \n",
       "\n",
       "  Transposable_Element  \n",
       "0                  NaN  \n",
       "\n",
       "[1 rows x 23 columns]"
      ]
     },
     "execution_count": 9,
     "metadata": {},
     "output_type": "execute_result"
    }
   ],
   "source": [
    "# датасет пептидов из разных генов (Чонг и соавторы); \n",
    "# столбец Sequence - код пептида, а Gene_ID - код гена\n",
    "C_S3_pep = pd.read_excel('C:\\\\Users\\\\German.Shakhrul\\\\Documents\\\\Python\\\\Проекты\\\\pet project\\\\Phyton\\\\DBs\\\\Chong\\\\S3_peptides.xlsx')\n",
    "C_S3_pep.head(1)"
   ]
  },
  {
   "cell_type": "code",
   "execution_count": 10,
   "id": "2b531743",
   "metadata": {
    "collapsed": true
   },
   "outputs": [
    {
     "name": "stdout",
     "output_type": "stream",
     "text": [
      "<class 'pandas.core.frame.DataFrame'>\n",
      "RangeIndex: 2597 entries, 0 to 2596\n",
      "Data columns (total 23 columns):\n",
      " #   Column                      Non-Null Count  Dtype  \n",
      "---  ------                      --------------  -----  \n",
      " 0   Sample name                 2597 non-null   object \n",
      " 1   HLAp category               2597 non-null   object \n",
      " 2   HLA.class                   2597 non-null   object \n",
      " 3   Charge                      2597 non-null   int64  \n",
      " 4   Retention Time              2597 non-null   float64\n",
      " 5   Comet.Rank                  2597 non-null   int64  \n",
      " 6   Comet.Xcorr                 2597 non-null   object \n",
      " 7   Comet.DeltaCn               2597 non-null   object \n",
      " 8   Comet.SpScore               2597 non-null   object \n",
      " 9   Comet.NegLogPv              2597 non-null   object \n",
      " 10  MaxQuant.Mass.Error(ppm)    2569 non-null   object \n",
      " 11  MaxQuant.Score              2597 non-null   float64\n",
      " 12  MaxQuant.DeltaScore         2597 non-null   float64\n",
      " 13  MaxQuant.Localisation.Prob  1885 non-null   object \n",
      " 14  Spectrum                    2597 non-null   object \n",
      " 15  Peptide                     2597 non-null   object \n",
      " 16  Sequence                    2597 non-null   object \n",
      " 17  IsDecoy                     2597 non-null   bool   \n",
      " 18  Transcript_ID               2230 non-null   object \n",
      " 19  Gene_ID                     2230 non-null   object \n",
      " 20  Gene_name                   2230 non-null   object \n",
      " 21  ORF_category                543 non-null    object \n",
      " 22  Transposable_Element        366 non-null    object \n",
      "dtypes: bool(1), float64(3), int64(2), object(17)\n",
      "memory usage: 449.0+ KB\n"
     ]
    }
   ],
   "source": [
    "C_S3_pep.info()"
   ]
  },
  {
   "cell_type": "code",
   "execution_count": 11,
   "id": "c810ac5e",
   "metadata": {},
   "outputs": [
    {
     "data": {
      "text/html": [
       "<div>\n",
       "<style scoped>\n",
       "    .dataframe tbody tr th:only-of-type {\n",
       "        vertical-align: middle;\n",
       "    }\n",
       "\n",
       "    .dataframe tbody tr th {\n",
       "        vertical-align: top;\n",
       "    }\n",
       "\n",
       "    .dataframe thead th {\n",
       "        text-align: right;\n",
       "    }\n",
       "</style>\n",
       "<table border=\"1\" class=\"dataframe\">\n",
       "  <thead>\n",
       "    <tr style=\"text-align: right;\">\n",
       "      <th></th>\n",
       "      <th>dataset</th>\n",
       "      <th>name</th>\n",
       "      <th>Fraction</th>\n",
       "      <th>Source.File</th>\n",
       "      <th>Feature</th>\n",
       "      <th>Peptide</th>\n",
       "      <th>Scan</th>\n",
       "      <th>Tag.length</th>\n",
       "      <th>ALC....</th>\n",
       "      <th>Length</th>\n",
       "      <th>...</th>\n",
       "      <th>ORF.nterm</th>\n",
       "      <th>ORF.cterm</th>\n",
       "      <th>Region.nterm</th>\n",
       "      <th>Region.length</th>\n",
       "      <th>Region.cterm</th>\n",
       "      <th>Intron.index</th>\n",
       "      <th>Upstream.sequence</th>\n",
       "      <th>Downstream.sequence</th>\n",
       "      <th>HLA.allele</th>\n",
       "      <th>netMHC...rank</th>\n",
       "    </tr>\n",
       "  </thead>\n",
       "  <tbody>\n",
       "    <tr>\n",
       "      <th>0</th>\n",
       "      <td>MM</td>\n",
       "      <td>MM15</td>\n",
       "      <td>27</td>\n",
       "      <td>20141208_QEp7_MiBa_SA_HLA-I-p_MM15_3_A.raw</td>\n",
       "      <td>F27:51287</td>\n",
       "      <td>AAAAAAAKR</td>\n",
       "      <td>F27:4380</td>\n",
       "      <td>9</td>\n",
       "      <td>67</td>\n",
       "      <td>9</td>\n",
       "      <td>...</td>\n",
       "      <td>5</td>\n",
       "      <td>52</td>\n",
       "      <td>12</td>\n",
       "      <td>413</td>\n",
       "      <td>374</td>\n",
       "      <td>-1</td>\n",
       "      <td>AAAA</td>\n",
       "      <td>PGWR</td>\n",
       "      <td>HLA-A*68:01</td>\n",
       "      <td>0.14</td>\n",
       "    </tr>\n",
       "  </tbody>\n",
       "</table>\n",
       "<p>1 rows × 51 columns</p>\n",
       "</div>"
      ],
      "text/plain": [
       "  dataset  name  Fraction                                 Source.File  \\\n",
       "0      MM  MM15        27  20141208_QEp7_MiBa_SA_HLA-I-p_MM15_3_A.raw   \n",
       "\n",
       "     Feature    Peptide      Scan  Tag.length  ALC....  Length  ...  \\\n",
       "0  F27:51287  AAAAAAAKR  F27:4380           9       67       9  ...   \n",
       "\n",
       "   ORF.nterm  ORF.cterm  Region.nterm  Region.length  Region.cterm  \\\n",
       "0          5         52            12            413           374   \n",
       "\n",
       "  Intron.index Upstream.sequence Downstream.sequence   HLA.allele  \\\n",
       "0           -1              AAAA                PGWR  HLA-A*68:01   \n",
       "\n",
       "   netMHC...rank  \n",
       "0           0.14  \n",
       "\n",
       "[1 rows x 51 columns]"
      ]
     },
     "execution_count": 11,
     "metadata": {},
     "output_type": "execute_result"
    }
   ],
   "source": [
    "# датасет пептидов из разных генов (Эрхард и соавторы);\n",
    "# столбец Sequence - код пептида, а Gene - код гена\n",
    "E_S3_pep = pd.read_excel('C:\\\\Users\\\\German.Shakhrul\\\\Documents\\\\Python\\\\Проекты\\\\pet project\\\\Phyton\\\\DBs\\\\Erhard\\\\Tables_S1-S4.xlsx', sheet_name=2, header=2)\n",
    "E_S3_pep.head(1)"
   ]
  },
  {
   "cell_type": "code",
   "execution_count": 12,
   "id": "ae7c6cbc",
   "metadata": {
    "collapsed": true
   },
   "outputs": [
    {
     "name": "stdout",
     "output_type": "stream",
     "text": [
      "<class 'pandas.core.frame.DataFrame'>\n",
      "RangeIndex: 6636 entries, 0 to 6635\n",
      "Data columns (total 51 columns):\n",
      " #   Column                Non-Null Count  Dtype  \n",
      "---  ------                --------------  -----  \n",
      " 0   dataset               6636 non-null   object \n",
      " 1   name                  6636 non-null   object \n",
      " 2   Fraction              6636 non-null   int64  \n",
      " 3   Source.File           6636 non-null   object \n",
      " 4   Feature               6636 non-null   object \n",
      " 5   Peptide               6636 non-null   object \n",
      " 6   Scan                  6636 non-null   object \n",
      " 7   Tag.length            6636 non-null   int64  \n",
      " 8   ALC....               6636 non-null   int64  \n",
      " 9   Length                6636 non-null   int64  \n",
      " 10  m.z                   6636 non-null   float64\n",
      " 11  z                     6636 non-null   int64  \n",
      " 12  RT                    6636 non-null   float64\n",
      " 13  Mass                  6636 non-null   float64\n",
      " 14  ppm                   6636 non-null   float64\n",
      " 15  local.confidence....  6636 non-null   object \n",
      " 16  tag....0..            6636 non-null   object \n",
      " 17  mode                  6636 non-null   object \n",
      " 18  ID                    6636 non-null   object \n",
      " 19  PSM.rank              6636 non-null   int64  \n",
      " 20  Location.count        6636 non-null   int64  \n",
      " 21  Delta.first           6636 non-null   int64  \n",
      " 22  Decoy                 6636 non-null   object \n",
      " 23  Location              6636 non-null   object \n",
      " 24  Category              6636 non-null   object \n",
      " 25  Sequence              6636 non-null   object \n",
      " 26  CategoryInfo          0 non-null      float64\n",
      " 27  Delta.next            6636 non-null   int64  \n",
      " 28  spectra               6636 non-null   int64  \n",
      " 29  Annotation            6636 non-null   object \n",
      " 30  Top.location.count    6636 non-null   int64  \n",
      " 31  UniqueCategory        6636 non-null   object \n",
      " 32  PEP                   6636 non-null   float64\n",
      " 33  Q                     6636 non-null   float64\n",
      " 34  wrongQ                6636 non-null   float64\n",
      " 35  Intensity             6016 non-null   float64\n",
      " 36  Gene                  6533 non-null   object \n",
      " 37  Symbol                6533 non-null   object \n",
      " 38  ORF.TIS.prio          6636 non-null   object \n",
      " 39  ORF.TIS               6636 non-null   object \n",
      " 40  ORF.length            6636 non-null   int64  \n",
      " 41  ORF.nterm             6636 non-null   int64  \n",
      " 42  ORF.cterm             6636 non-null   int64  \n",
      " 43  Region.nterm          6636 non-null   int64  \n",
      " 44  Region.length         6636 non-null   int64  \n",
      " 45  Region.cterm          6636 non-null   int64  \n",
      " 46  Intron.index          6636 non-null   int64  \n",
      " 47  Upstream.sequence     6634 non-null   object \n",
      " 48  Downstream.sequence   6634 non-null   object \n",
      " 49  HLA.allele            6636 non-null   object \n",
      " 50  netMHC...rank         6636 non-null   float64\n",
      "dtypes: float64(10), int64(18), object(23)\n",
      "memory usage: 2.6+ MB\n"
     ]
    }
   ],
   "source": [
    "E_S3_pep.info()"
   ]
  },
  {
   "cell_type": "code",
   "execution_count": 13,
   "id": "65a565bb",
   "metadata": {},
   "outputs": [
    {
     "name": "stdout",
     "output_type": "stream",
     "text": [
      "Wall time: 39.1 s\n"
     ]
    },
    {
     "data": {
      "text/html": [
       "<div>\n",
       "<style scoped>\n",
       "    .dataframe tbody tr th:only-of-type {\n",
       "        vertical-align: middle;\n",
       "    }\n",
       "\n",
       "    .dataframe tbody tr th {\n",
       "        vertical-align: top;\n",
       "    }\n",
       "\n",
       "    .dataframe thead th {\n",
       "        text-align: right;\n",
       "    }\n",
       "</style>\n",
       "<table border=\"1\" class=\"dataframe\">\n",
       "  <thead>\n",
       "    <tr style=\"text-align: right;\">\n",
       "      <th></th>\n",
       "      <th>filename</th>\n",
       "      <th>sequence</th>\n",
       "      <th>Alternative peptides</th>\n",
       "      <th>numPSMsObserved</th>\n",
       "      <th>score</th>\n",
       "      <th>rank2Score</th>\n",
       "      <th>deltaForwardReverseScore</th>\n",
       "      <th>percent_scored_peak_intensity</th>\n",
       "      <th>backbone_cleavage_score</th>\n",
       "      <th>retentionTimeMin</th>\n",
       "      <th>BCS %</th>\n",
       "      <th>Mapped protein</th>\n",
       "      <th>Alternative proteins</th>\n",
       "      <th>mergeType</th>\n",
       "      <th>fdrType</th>\n",
       "      <th>plotType</th>\n",
       "      <th>condType</th>\n",
       "      <th>fdrFilter</th>\n",
       "      <th>Sample_type</th>\n",
       "    </tr>\n",
       "  </thead>\n",
       "  <tbody>\n",
       "    <tr>\n",
       "      <th>0</th>\n",
       "      <td>G20141113_JGA_3rdCML_HLA_combinedIP_hybridmeth...</td>\n",
       "      <td>ALFSKLASA</td>\n",
       "      <td>ALFSKLASA</td>\n",
       "      <td>1</td>\n",
       "      <td>9.87</td>\n",
       "      <td>7.5</td>\n",
       "      <td>3.94</td>\n",
       "      <td>76.9</td>\n",
       "      <td>7</td>\n",
       "      <td>59.65</td>\n",
       "      <td>87.5</td>\n",
       "      <td>ENST00000369535.4_1_1:115250155-115250203:-</td>\n",
       "      <td>ENST00000369535.4_1_1:115250155-115250203:-</td>\n",
       "      <td>3' dORF</td>\n",
       "      <td>3' dORF</td>\n",
       "      <td>3' dORF</td>\n",
       "      <td>nuORF</td>\n",
       "      <td>True</td>\n",
       "      <td>0</td>\n",
       "    </tr>\n",
       "  </tbody>\n",
       "</table>\n",
       "</div>"
      ],
      "text/plain": [
       "                                            filename   sequence  \\\n",
       "0  G20141113_JGA_3rdCML_HLA_combinedIP_hybridmeth...  ALFSKLASA   \n",
       "\n",
       "  Alternative peptides  numPSMsObserved  score  rank2Score  \\\n",
       "0            ALFSKLASA                1   9.87         7.5   \n",
       "\n",
       "   deltaForwardReverseScore  percent_scored_peak_intensity  \\\n",
       "0                      3.94                           76.9   \n",
       "\n",
       "   backbone_cleavage_score  retentionTimeMin  BCS %  \\\n",
       "0                        7             59.65   87.5   \n",
       "\n",
       "                                Mapped protein  \\\n",
       "0  ENST00000369535.4_1_1:115250155-115250203:-   \n",
       "\n",
       "                          Alternative proteins mergeType  fdrType plotType  \\\n",
       "0  ENST00000369535.4_1_1:115250155-115250203:-   3' dORF  3' dORF  3' dORF   \n",
       "\n",
       "  condType  fdrFilter  Sample_type  \n",
       "0    nuORF       True            0  "
      ]
     },
     "execution_count": 13,
     "metadata": {},
     "output_type": "execute_result"
    }
   ],
   "source": [
    "%%time\n",
    "# соединяем информацию по пептидам (Успенская и соавторы) с 10 листов файла excel в одну таблицу;\n",
    "# столбец sequence - код пептида, а Mapped protein - рамка считывания\n",
    "O_peptides = pd.DataFrame()\n",
    "for n in range(10):\n",
    "    a = pd.read_excel('C:\\\\Users\\\\German.Shakhrul\\\\Documents\\\\Python\\\\Проекты\\\\pet project\\\\Phyton\\\\DBs\\\\Ouspenskaia\\\\S8_peptides.xlsx', sheet_name = n)\n",
    "    a['Sample_type'] = n\n",
    "    O_peptides = O_peptides.append(a)\n",
    "\n",
    "O_peptides.head(1)"
   ]
  },
  {
   "cell_type": "code",
   "execution_count": 14,
   "id": "047ae239",
   "metadata": {
    "collapsed": true
   },
   "outputs": [
    {
     "name": "stdout",
     "output_type": "stream",
     "text": [
      "<class 'pandas.core.frame.DataFrame'>\n",
      "Int64Index: 55585 entries, 0 to 1354\n",
      "Data columns (total 19 columns):\n",
      " #   Column                         Non-Null Count  Dtype  \n",
      "---  ------                         --------------  -----  \n",
      " 0   filename                       55585 non-null  object \n",
      " 1   sequence                       55585 non-null  object \n",
      " 2   Alternative peptides           55585 non-null  object \n",
      " 3   numPSMsObserved                55585 non-null  int64  \n",
      " 4   score                          55585 non-null  float64\n",
      " 5   rank2Score                     55047 non-null  float64\n",
      " 6   deltaForwardReverseScore       55585 non-null  float64\n",
      " 7   percent_scored_peak_intensity  55585 non-null  float64\n",
      " 8   backbone_cleavage_score        55585 non-null  int64  \n",
      " 9   retentionTimeMin               55585 non-null  float64\n",
      " 10  BCS %                          55585 non-null  float64\n",
      " 11  Mapped protein                 55585 non-null  object \n",
      " 12  Alternative proteins           55585 non-null  object \n",
      " 13  mergeType                      55585 non-null  object \n",
      " 14  fdrType                        55585 non-null  object \n",
      " 15  plotType                       55585 non-null  object \n",
      " 16  condType                       55585 non-null  object \n",
      " 17  fdrFilter                      55585 non-null  bool   \n",
      " 18  Sample_type                    55585 non-null  int64  \n",
      "dtypes: bool(1), float64(6), int64(3), object(9)\n",
      "memory usage: 8.1+ MB\n"
     ]
    }
   ],
   "source": [
    "O_peptides.info()"
   ]
  },
  {
   "cell_type": "code",
   "execution_count": 15,
   "id": "99f6e56f",
   "metadata": {},
   "outputs": [
    {
     "name": "stdout",
     "output_type": "stream",
     "text": [
      "Wall time: 1min 7s\n"
     ]
    },
    {
     "data": {
      "text/html": [
       "<div>\n",
       "<style scoped>\n",
       "    .dataframe tbody tr th:only-of-type {\n",
       "        vertical-align: middle;\n",
       "    }\n",
       "\n",
       "    .dataframe tbody tr th {\n",
       "        vertical-align: top;\n",
       "    }\n",
       "\n",
       "    .dataframe thead th {\n",
       "        text-align: right;\n",
       "    }\n",
       "</style>\n",
       "<table border=\"1\" class=\"dataframe\">\n",
       "  <thead>\n",
       "    <tr style=\"text-align: right;\">\n",
       "      <th></th>\n",
       "      <th>ORF_ID</th>\n",
       "      <th>db</th>\n",
       "      <th>transId</th>\n",
       "      <th>geneId</th>\n",
       "      <th>geneName</th>\n",
       "      <th>geneType</th>\n",
       "      <th>transcriptType</th>\n",
       "      <th>ORF_length</th>\n",
       "      <th>predictorType</th>\n",
       "      <th>refinedType</th>\n",
       "      <th>mergeType</th>\n",
       "      <th>plotType</th>\n",
       "      <th>condType</th>\n",
       "    </tr>\n",
       "  </thead>\n",
       "  <tbody>\n",
       "    <tr>\n",
       "      <th>0</th>\n",
       "      <td>ENST00000616016.4_1_1:861321-878072:+</td>\n",
       "      <td>gencode</td>\n",
       "      <td>ENST00000616016.4_1</td>\n",
       "      <td>ENSG00000187634.11_3</td>\n",
       "      <td>SAMD11</td>\n",
       "      <td>protein_coding</td>\n",
       "      <td>protein_coding</td>\n",
       "      <td>1035</td>\n",
       "      <td>canonical</td>\n",
       "      <td>canonical</td>\n",
       "      <td>Canonical</td>\n",
       "      <td>Canonical</td>\n",
       "      <td>Canonical</td>\n",
       "    </tr>\n",
       "  </tbody>\n",
       "</table>\n",
       "</div>"
      ],
      "text/plain": [
       "                                  ORF_ID       db              transId  \\\n",
       "0  ENST00000616016.4_1_1:861321-878072:+  gencode  ENST00000616016.4_1   \n",
       "\n",
       "                 geneId geneName        geneType  transcriptType  ORF_length  \\\n",
       "0  ENSG00000187634.11_3   SAMD11  protein_coding  protein_coding        1035   \n",
       "\n",
       "  predictorType refinedType  mergeType   plotType   condType  \n",
       "0     canonical   canonical  Canonical  Canonical  Canonical  "
      ]
     },
     "execution_count": 15,
     "metadata": {},
     "output_type": "execute_result"
    }
   ],
   "source": [
    "%%time\n",
    "# база белков и соответствующих им генов (Успенская и соавторы); \n",
    "# столбец ORF_ID - рамка считывания, а geneId - код гена, из которого нам нужна только часть до точки\n",
    "O_S2_nuORF_DB = pd.read_excel('C:\\\\Users\\\\German.Shakhrul\\\\Documents\\\\Python\\\\Проекты\\\\pet project\\\\Phyton\\\\DBs\\\\Ouspenskaia\\\\S2_nuORF_DB.xlsx')\n",
    "O_S2_nuORF_DB.head(1)"
   ]
  },
  {
   "cell_type": "code",
   "execution_count": 16,
   "id": "985ae6c1",
   "metadata": {
    "collapsed": true
   },
   "outputs": [
    {
     "name": "stdout",
     "output_type": "stream",
     "text": [
      "<class 'pandas.core.frame.DataFrame'>\n",
      "RangeIndex: 323848 entries, 0 to 323847\n",
      "Data columns (total 13 columns):\n",
      " #   Column          Non-Null Count   Dtype \n",
      "---  ------          --------------   ----- \n",
      " 0   ORF_ID          323848 non-null  object\n",
      " 1   db              323848 non-null  object\n",
      " 2   transId         323848 non-null  object\n",
      " 3   geneId          311774 non-null  object\n",
      " 4   geneName        311708 non-null  object\n",
      " 5   geneType        308801 non-null  object\n",
      " 6   transcriptType  320875 non-null  object\n",
      " 7   ORF_length      323848 non-null  int64 \n",
      " 8   predictorType   323848 non-null  object\n",
      " 9   refinedType     323848 non-null  object\n",
      " 10  mergeType       323848 non-null  object\n",
      " 11  plotType        323848 non-null  object\n",
      " 12  condType        323848 non-null  object\n",
      "dtypes: int64(1), object(12)\n",
      "memory usage: 32.1+ MB\n"
     ]
    }
   ],
   "source": [
    "O_S2_nuORF_DB.info()"
   ]
  },
  {
   "cell_type": "code",
   "execution_count": 17,
   "id": "3a1580d5",
   "metadata": {
    "collapsed": true
   },
   "outputs": [
    {
     "data": {
      "text/plain": [
       "0"
      ]
     },
     "metadata": {},
     "output_type": "display_data"
    },
    {
     "data": {
      "text/plain": [
       "0"
      ]
     },
     "metadata": {},
     "output_type": "display_data"
    },
    {
     "data": {
      "text/plain": [
       "0"
      ]
     },
     "metadata": {},
     "output_type": "display_data"
    },
    {
     "data": {
      "text/plain": [
       "0"
      ]
     },
     "metadata": {},
     "output_type": "display_data"
    },
    {
     "data": {
      "text/plain": [
       "0"
      ]
     },
     "metadata": {},
     "output_type": "display_data"
    },
    {
     "data": {
      "text/plain": [
       "0"
      ]
     },
     "metadata": {},
     "output_type": "display_data"
    },
    {
     "data": {
      "text/plain": [
       "0"
      ]
     },
     "metadata": {},
     "output_type": "display_data"
    }
   ],
   "source": [
    "display(GTeX.duplicated().sum(),\n",
    "        HLA.duplicated().sum(),\n",
    "        GSM.duplicated().sum(),\n",
    "        C_S3_pep.duplicated().sum(),\n",
    "        E_S3_pep.duplicated().sum(),\n",
    "        O_peptides.duplicated().sum(),\n",
    "        O_S2_nuORF_DB.duplicated().sum())"
   ]
  },
  {
   "cell_type": "markdown",
   "id": "5ab3f282",
   "metadata": {},
   "source": [
    "### Вывод по извлеченным данным\n",
    "\n",
    "После извлечения данных мы получили 7 датасетов следующих размеров:\n",
    " * **GTeX** - база данных по медианам экспрессии генов в различных здоровых тканях размером 56200 строк и 56 столбцов;\n",
    " * **HLA** - база по пептидам, найденным в здоровых тканях, размером 1407 строк и 42 столбца;\n",
    " * **GSM** - база данных по экспрессии генов в 286 опухолевых образцах размером 58395 строк и 269 столбцов;\n",
    " * **C_S3_pep** - датасет пептидов из разных генов (Чонг и соавторы) размеро 2597 строк и 23 столбцами;\n",
    " * **E_S3_pep** - датасет пептидов из разных генов (Эрхард и соавторы) размером 6636 строк и 51 столбец;\n",
    " * **O_peptides** - датасет пептидов и рамок считывания (Успенская и соавторы) размером 55585 строк и 19 столбцов;\n",
    " * **O_S2_nuORF_DB** - датасет рамок считывания и генов (Успенская и соавторы) размером  323848 строк и 13 столбцов. \n",
    " \n",
    " Дубликаты не обнаружены. **Необходимо привести в соответствие названия ключей для последующего объединения таблиц.**"
   ]
  },
  {
   "cell_type": "markdown",
   "id": "c3af1ae7",
   "metadata": {},
   "source": [
    "## Предобработка данных\n",
    "\n",
    "Приведем в соответствие названия ключей для последующего объединения наших датасетов."
   ]
  },
  {
   "cell_type": "code",
   "execution_count": 18,
   "id": "d4947c83",
   "metadata": {},
   "outputs": [],
   "source": [
    "# сначала переименуем необходимые столбцы\n",
    "GTeX = GTeX.rename(columns={'Name':'gene'})\n",
    "C_S3_pep = C_S3_pep.rename(columns={'Gene_ID':'gene'})\n",
    "E_S3_pep = E_S3_pep.rename(columns={'Gene':'gene'})\n",
    "O_peptides = O_peptides.rename(columns={'Mapped protein':'ORF_ID', 'sequence':'Sequence'}) \n",
    "O_S2_nuORF_DB = O_S2_nuORF_DB.rename(columns={'geneId':'gene'})"
   ]
  },
  {
   "cell_type": "code",
   "execution_count": 19,
   "id": "24c7a597",
   "metadata": {},
   "outputs": [
    {
     "data": {
      "text/plain": [
       "(11981, 57)"
      ]
     },
     "execution_count": 19,
     "metadata": {},
     "output_type": "execute_result"
    }
   ],
   "source": [
    "# в таблице GTeX обнаружено почти 12 тысяч строк, в которых значения по всем столбцам равны 0; по согласованию с заказчиком \n",
    "# из них удалены только строки, содержащие в Name блок _PAR_Y (они образуют дубли генов), а остальные оставлены без изменений\n",
    "GTeX['SUM']= GTeX.loc[:, \"Adipose - Subcutaneous\":\"Whole Blood\"].sum(axis=1)\n",
    "GTeX_0 = GTeX.query('SUM == 0')\n",
    "GTeX_0.head(3)\n",
    "GTeX_0.shape"
   ]
  },
  {
   "cell_type": "code",
   "execution_count": 20,
   "id": "b31445d3",
   "metadata": {},
   "outputs": [
    {
     "data": {
      "text/plain": [
       "(44, 58)"
      ]
     },
     "metadata": {},
     "output_type": "display_data"
    },
    {
     "data": {
      "text/plain": [
       "(56156, 58)"
      ]
     },
     "execution_count": 20,
     "metadata": {},
     "output_type": "execute_result"
    }
   ],
   "source": [
    "# найдено и удалено 44 строки, в которых в названии кода гена есть часть _PAR_Y\n",
    "GTeX['gene_']  = GTeX['gene'].str.contains('_PAR_Y')\n",
    "#GTeX_PAR_Y = GTeX.query('Name_ != 0')\n",
    "display(GTeX.query('gene_ != 0').shape)\n",
    "GTeX = GTeX.query('gene_ == 0')\n",
    "GTeX.shape"
   ]
  },
  {
   "cell_type": "code",
   "execution_count": 21,
   "id": "2e337cc5",
   "metadata": {},
   "outputs": [
    {
     "data": {
      "text/plain": [
       "ENSG00000223972    1\n",
       "ENSG00000265432    1\n",
       "ENSG00000266431    1\n",
       "Name: gene, dtype: int64"
      ]
     },
     "metadata": {},
     "output_type": "display_data"
    },
    {
     "data": {
      "text/plain": [
       "ENSG00000223972    1\n",
       "ENSG00000223625    1\n",
       "ENSG00000215572    1\n",
       "Name: gene, dtype: int64"
      ]
     },
     "metadata": {},
     "output_type": "display_data"
    }
   ],
   "source": [
    "# теперь извлечем код гена из столбцов, где присутствует дополнительная информация после точки\n",
    "GTeX['gene'] = GTeX['gene'].str[:15]\n",
    "O_S2_nuORF_DB['gene'] = O_S2_nuORF_DB['gene'].str[:15]\n",
    "\n",
    "# дубликаты генов в таблицах GTeX и GSM не обнаружены, можно приступать к объединению\n",
    "display(GTeX['gene'].value_counts().head(3),\n",
    "GSM['gene'].value_counts().head(3))"
   ]
  },
  {
   "cell_type": "markdown",
   "id": "eaa5bf06",
   "metadata": {},
   "source": [
    "## Анализ данных\n",
    "### Поиск перспективных генов"
   ]
  },
  {
   "cell_type": "code",
   "execution_count": 22,
   "id": "3fdc4f59",
   "metadata": {
    "scrolled": true
   },
   "outputs": [
    {
     "data": {
      "text/html": [
       "<div>\n",
       "<style scoped>\n",
       "    .dataframe tbody tr th:only-of-type {\n",
       "        vertical-align: middle;\n",
       "    }\n",
       "\n",
       "    .dataframe tbody tr th {\n",
       "        vertical-align: top;\n",
       "    }\n",
       "\n",
       "    .dataframe thead th {\n",
       "        text-align: right;\n",
       "    }\n",
       "</style>\n",
       "<table border=\"1\" class=\"dataframe\">\n",
       "  <thead>\n",
       "    <tr style=\"text-align: right;\">\n",
       "      <th></th>\n",
       "      <th>gene</th>\n",
       "      <th>Description</th>\n",
       "      <th>Artery - Aorta</th>\n",
       "      <th>Artery - Coronary</th>\n",
       "      <th>Cells - Cultured fibroblasts</th>\n",
       "      <th>Colon - Sigmoid</th>\n",
       "      <th>Esophagus - Mucosa</th>\n",
       "      <th>Heart - Left Ventricle</th>\n",
       "      <th>Liver</th>\n",
       "      <th>Lung</th>\n",
       "      <th>Skin - Sun Exposed (Lower leg)</th>\n",
       "      <th>Small Intestine - Terminal Ileum</th>\n",
       "      <th>median</th>\n",
       "      <th>MIN</th>\n",
       "      <th>MAX</th>\n",
       "      <th>quantile_5</th>\n",
       "      <th>quantile_10</th>\n",
       "    </tr>\n",
       "  </thead>\n",
       "  <tbody>\n",
       "    <tr>\n",
       "      <th>0</th>\n",
       "      <td>ENSG00000223972</td>\n",
       "      <td>DDX11L1</td>\n",
       "      <td>0.00000</td>\n",
       "      <td>0.00000</td>\n",
       "      <td>0.0000</td>\n",
       "      <td>0.00000</td>\n",
       "      <td>0.00000</td>\n",
       "      <td>0.000000</td>\n",
       "      <td>0.00000</td>\n",
       "      <td>0.00000</td>\n",
       "      <td>0.00000</td>\n",
       "      <td>0.00000</td>\n",
       "      <td>0.00000</td>\n",
       "      <td>0.000000</td>\n",
       "      <td>0.00000</td>\n",
       "      <td>0.000000</td>\n",
       "      <td>0.000000</td>\n",
       "    </tr>\n",
       "    <tr>\n",
       "      <th>1</th>\n",
       "      <td>ENSG00000227232</td>\n",
       "      <td>WASH7P</td>\n",
       "      <td>4.04762</td>\n",
       "      <td>3.90076</td>\n",
       "      <td>1.6786</td>\n",
       "      <td>4.64777</td>\n",
       "      <td>3.11749</td>\n",
       "      <td>0.924962</td>\n",
       "      <td>1.76541</td>\n",
       "      <td>4.50841</td>\n",
       "      <td>6.13265</td>\n",
       "      <td>4.19378</td>\n",
       "      <td>3.97419</td>\n",
       "      <td>0.924962</td>\n",
       "      <td>6.13265</td>\n",
       "      <td>1.264099</td>\n",
       "      <td>1.603236</td>\n",
       "    </tr>\n",
       "    <tr>\n",
       "      <th>2</th>\n",
       "      <td>ENSG00000278267</td>\n",
       "      <td>MIR6859-1</td>\n",
       "      <td>0.00000</td>\n",
       "      <td>0.00000</td>\n",
       "      <td>0.0000</td>\n",
       "      <td>0.00000</td>\n",
       "      <td>0.00000</td>\n",
       "      <td>0.000000</td>\n",
       "      <td>0.00000</td>\n",
       "      <td>0.00000</td>\n",
       "      <td>0.00000</td>\n",
       "      <td>0.00000</td>\n",
       "      <td>0.00000</td>\n",
       "      <td>0.000000</td>\n",
       "      <td>0.00000</td>\n",
       "      <td>0.000000</td>\n",
       "      <td>0.000000</td>\n",
       "    </tr>\n",
       "  </tbody>\n",
       "</table>\n",
       "</div>"
      ],
      "text/plain": [
       "              gene Description  Artery - Aorta  Artery - Coronary  \\\n",
       "0  ENSG00000223972     DDX11L1         0.00000            0.00000   \n",
       "1  ENSG00000227232      WASH7P         4.04762            3.90076   \n",
       "2  ENSG00000278267   MIR6859-1         0.00000            0.00000   \n",
       "\n",
       "   Cells - Cultured fibroblasts  Colon - Sigmoid  Esophagus - Mucosa  \\\n",
       "0                        0.0000          0.00000             0.00000   \n",
       "1                        1.6786          4.64777             3.11749   \n",
       "2                        0.0000          0.00000             0.00000   \n",
       "\n",
       "   Heart - Left Ventricle    Liver     Lung  Skin - Sun Exposed (Lower leg)  \\\n",
       "0                0.000000  0.00000  0.00000                         0.00000   \n",
       "1                0.924962  1.76541  4.50841                         6.13265   \n",
       "2                0.000000  0.00000  0.00000                         0.00000   \n",
       "\n",
       "   Small Intestine - Terminal Ileum   median       MIN      MAX  quantile_5  \\\n",
       "0                           0.00000  0.00000  0.000000  0.00000    0.000000   \n",
       "1                           4.19378  3.97419  0.924962  6.13265    1.264099   \n",
       "2                           0.00000  0.00000  0.000000  0.00000    0.000000   \n",
       "\n",
       "   quantile_10  \n",
       "0     0.000000  \n",
       "1     1.603236  \n",
       "2     0.000000  "
      ]
     },
     "execution_count": 22,
     "metadata": {},
     "output_type": "execute_result"
    }
   ],
   "source": [
    "# оставим интересующие нас виды тканей в таблице GTeX (список предоставлен заказчиком)\n",
    "GTeX_selected = GTeX[['gene', 'Description', 'Artery - Aorta', 'Artery - Coronary', 'Cells - Cultured fibroblasts',\n",
    "                      'Colon - Sigmoid', 'Esophagus - Mucosa', 'Heart - Left Ventricle', 'Liver', 'Lung', \n",
    "                      'Skin - Sun Exposed (Lower leg)', 'Small Intestine - Terminal Ileum']]\n",
    "\n",
    "# и добавим столбцы с расчетом медианы, минимума, максимума, 5 и 10 процентилей для каждой строки (по просьбе заказчика)\n",
    "\n",
    "GTeX_selected = GTeX_selected.assign(median = GTeX_selected.iloc[:, 2:12].median(axis=1), \n",
    "                                     MIN = GTeX_selected.iloc[:, 2:12].min(axis=1), \n",
    "                                     MAX = GTeX_selected.iloc[:, 2:12].max(axis=1), \n",
    "                                     quantile_5 = GTeX_selected.iloc[:, 2:12].quantile(q=0.05, axis=1), \n",
    "                                     quantile_10 = GTeX_selected.iloc[:, 2:12].quantile(q=0.1, axis=1))\n",
    "GTeX_selected.head(3)"
   ]
  },
  {
   "cell_type": "code",
   "execution_count": 23,
   "id": "ac9d3ef9",
   "metadata": {},
   "outputs": [
    {
     "data": {
      "text/plain": [
       "(49786, 6)"
      ]
     },
     "execution_count": 23,
     "metadata": {},
     "output_type": "execute_result"
    }
   ],
   "source": [
    "# оставим строки, в которых максимальное значение экспрессии генов не превышает пороговое значение 40, а также только необходимые столбцы\n",
    "th_GTeX = 40\n",
    "GTeX_selected_th = GTeX_selected.query('MAX < @th_GTeX')\n",
    "GTeX_selected_th = GTeX_selected_th[['gene', 'median', 'MIN', 'MAX', 'quantile_5', 'quantile_10']]\n",
    "GTeX_selected_th.head(1)\n",
    "GTeX_selected_th.shape\n",
    "# из 56 200 строк нашему условию удовлетворяет 49 786 (почти 90% выборки)"
   ]
  },
  {
   "cell_type": "code",
   "execution_count": 24,
   "id": "78bc6e30",
   "metadata": {
    "scrolled": false
   },
   "outputs": [
    {
     "data": {
      "text/html": [
       "<div>\n",
       "<style scoped>\n",
       "    .dataframe tbody tr th:only-of-type {\n",
       "        vertical-align: middle;\n",
       "    }\n",
       "\n",
       "    .dataframe tbody tr th {\n",
       "        vertical-align: top;\n",
       "    }\n",
       "\n",
       "    .dataframe thead th {\n",
       "        text-align: right;\n",
       "    }\n",
       "</style>\n",
       "<table border=\"1\" class=\"dataframe\">\n",
       "  <thead>\n",
       "    <tr style=\"text-align: right;\">\n",
       "      <th></th>\n",
       "      <th>gene</th>\n",
       "      <th>sample1</th>\n",
       "      <th>sample2</th>\n",
       "      <th>sample3</th>\n",
       "      <th>sample4</th>\n",
       "      <th>sample5</th>\n",
       "      <th>sample6</th>\n",
       "      <th>sample7</th>\n",
       "      <th>sample8</th>\n",
       "      <th>sample9</th>\n",
       "      <th>...</th>\n",
       "      <th>sample264</th>\n",
       "      <th>sample265</th>\n",
       "      <th>sample266</th>\n",
       "      <th>sample267</th>\n",
       "      <th>sample268</th>\n",
       "      <th>median</th>\n",
       "      <th>MIN</th>\n",
       "      <th>MAX</th>\n",
       "      <th>quantile_5</th>\n",
       "      <th>quantile_10</th>\n",
       "    </tr>\n",
       "  </thead>\n",
       "  <tbody>\n",
       "    <tr>\n",
       "      <th>0</th>\n",
       "      <td>ENSG00000223972</td>\n",
       "      <td>60.601111</td>\n",
       "      <td>21.320893</td>\n",
       "      <td>28.522763</td>\n",
       "      <td>24.052967</td>\n",
       "      <td>41.857187</td>\n",
       "      <td>21.415686</td>\n",
       "      <td>38.998725</td>\n",
       "      <td>22.141664</td>\n",
       "      <td>34.944688</td>\n",
       "      <td>...</td>\n",
       "      <td>52.484627</td>\n",
       "      <td>30.022820</td>\n",
       "      <td>19.607693</td>\n",
       "      <td>18.661403</td>\n",
       "      <td>23.657806</td>\n",
       "      <td>26.283049</td>\n",
       "      <td>0.000000</td>\n",
       "      <td>97.289730</td>\n",
       "      <td>9.764863</td>\n",
       "      <td>12.229947</td>\n",
       "    </tr>\n",
       "    <tr>\n",
       "      <th>1</th>\n",
       "      <td>ENSG00000227232</td>\n",
       "      <td>289.673311</td>\n",
       "      <td>178.634510</td>\n",
       "      <td>345.993521</td>\n",
       "      <td>300.662089</td>\n",
       "      <td>447.549922</td>\n",
       "      <td>350.438496</td>\n",
       "      <td>308.300728</td>\n",
       "      <td>233.717562</td>\n",
       "      <td>231.844564</td>\n",
       "      <td>...</td>\n",
       "      <td>337.049714</td>\n",
       "      <td>272.206904</td>\n",
       "      <td>200.690509</td>\n",
       "      <td>256.391452</td>\n",
       "      <td>492.870964</td>\n",
       "      <td>300.019281</td>\n",
       "      <td>118.094069</td>\n",
       "      <td>623.814748</td>\n",
       "      <td>179.314291</td>\n",
       "      <td>194.725372</td>\n",
       "    </tr>\n",
       "    <tr>\n",
       "      <th>2</th>\n",
       "      <td>ENSG00000278267</td>\n",
       "      <td>7.878144</td>\n",
       "      <td>2.304961</td>\n",
       "      <td>2.480240</td>\n",
       "      <td>8.017656</td>\n",
       "      <td>12.879134</td>\n",
       "      <td>5.840642</td>\n",
       "      <td>8.432157</td>\n",
       "      <td>6.150462</td>\n",
       "      <td>2.688053</td>\n",
       "      <td>...</td>\n",
       "      <td>8.200723</td>\n",
       "      <td>10.007607</td>\n",
       "      <td>2.306787</td>\n",
       "      <td>10.547750</td>\n",
       "      <td>6.900193</td>\n",
       "      <td>6.270928</td>\n",
       "      <td>0.000000</td>\n",
       "      <td>24.004630</td>\n",
       "      <td>1.187100</td>\n",
       "      <td>1.855150</td>\n",
       "    </tr>\n",
       "  </tbody>\n",
       "</table>\n",
       "<p>3 rows × 274 columns</p>\n",
       "</div>"
      ],
      "text/plain": [
       "              gene     sample1     sample2     sample3     sample4  \\\n",
       "0  ENSG00000223972   60.601111   21.320893   28.522763   24.052967   \n",
       "1  ENSG00000227232  289.673311  178.634510  345.993521  300.662089   \n",
       "2  ENSG00000278267    7.878144    2.304961    2.480240    8.017656   \n",
       "\n",
       "      sample5     sample6     sample7     sample8     sample9  ...  \\\n",
       "0   41.857187   21.415686   38.998725   22.141664   34.944688  ...   \n",
       "1  447.549922  350.438496  308.300728  233.717562  231.844564  ...   \n",
       "2   12.879134    5.840642    8.432157    6.150462    2.688053  ...   \n",
       "\n",
       "    sample264   sample265   sample266   sample267   sample268      median  \\\n",
       "0   52.484627   30.022820   19.607693   18.661403   23.657806   26.283049   \n",
       "1  337.049714  272.206904  200.690509  256.391452  492.870964  300.019281   \n",
       "2    8.200723   10.007607    2.306787   10.547750    6.900193    6.270928   \n",
       "\n",
       "          MIN         MAX  quantile_5  quantile_10  \n",
       "0    0.000000   97.289730    9.764863    12.229947  \n",
       "1  118.094069  623.814748  179.314291   194.725372  \n",
       "2    0.000000   24.004630    1.187100     1.855150  \n",
       "\n",
       "[3 rows x 274 columns]"
      ]
     },
     "execution_count": 24,
     "metadata": {},
     "output_type": "execute_result"
    }
   ],
   "source": [
    "# добавляем столбцы с расчетом медианы, минимума, максимума, 5 и 10 процентили для каждой строки в таблице GSM\n",
    "GSM = GSM.assign(median = GSM.iloc[:, 1:269].median(axis=1), \n",
    "                 MIN = GSM.iloc[:, 1:269].min(axis=1), \n",
    "                 MAX = GSM.iloc[:, 1:269].max(axis=1), \n",
    "                 quantile_5 = GSM.iloc[:, 1:269].quantile(q=0.05, axis=1), \n",
    "                 quantile_10 = GSM.iloc[:, 1:269].quantile(q=0.1, axis=1))\n",
    "GSM.head(3)"
   ]
  },
  {
   "cell_type": "code",
   "execution_count": 25,
   "id": "a7d31804",
   "metadata": {},
   "outputs": [
    {
     "data": {
      "text/plain": [
       "306.6691"
      ]
     },
     "execution_count": 25,
     "metadata": {},
     "output_type": "execute_result"
    }
   ],
   "source": [
    "# найдем пороговое значение для опухолевых тканей - по согласованию с заказчиком принято на уровне медианы для Q4 по медианным значениям\n",
    "GSM['median'].sort_values(ascending=False).head(round(GSM.shape[0]/4)).median()"
   ]
  },
  {
   "cell_type": "code",
   "execution_count": 26,
   "id": "61886498",
   "metadata": {},
   "outputs": [
    {
     "data": {
      "text/plain": [
       "(7295, 6)"
      ]
     },
     "execution_count": 26,
     "metadata": {},
     "output_type": "execute_result"
    }
   ],
   "source": [
    "# оставим строки, в которых медиана экспрессии генов превышает пороговое значение, и необходимые столбцы\n",
    "th_GSM = 307\n",
    "GSM_th = GSM.query('median > @th_GSM')\n",
    "GSM_th = GSM_th[['gene', 'median','MIN', 'MAX', 'quantile_5', 'quantile_10']]\n",
    "GSM_th.shape\n",
    "# из 58 395 строк нашему условию удовлетворяет 7295 (12,5% выборки)"
   ]
  },
  {
   "cell_type": "code",
   "execution_count": 27,
   "id": "ae6fa7b4",
   "metadata": {},
   "outputs": [
    {
     "data": {
      "text/plain": [
       "(3841, 11)"
      ]
     },
     "execution_count": 27,
     "metadata": {},
     "output_type": "execute_result"
    }
   ],
   "source": [
    "# теперь соединим таблицы GSM_th и GTeX_selected_th по коду гена методом inner.\n",
    "GTeX_GSM = GTeX_selected_th.merge(GSM_th, on = 'gene', how='inner')\n",
    "GTeX_GSM.shape\n",
    "# 3841 ген удовлетворяет сразу обоим условиям"
   ]
  },
  {
   "cell_type": "code",
   "execution_count": 28,
   "id": "a2843f0d",
   "metadata": {},
   "outputs": [
    {
     "data": {
      "image/png": "[encoded data removed]",
      "text/plain": [
       "<Figure size 432x432 with 1 Axes>"
      ]
     },
     "metadata": {},
     "output_type": "display_data"
    }
   ],
   "source": [
    "# построим диаграмму Венна для уникальных генов по двум базам\n",
    "plt.figure(figsize=(6, 6))\n",
    "venn_diagram = venn2_unweighted(subsets = (GTeX_selected_th.shape[0] - GTeX_GSM.shape[0], \n",
    "                                           GSM_th.shape[0] - GTeX_GSM.shape[0], \n",
    "                                           GTeX_GSM.shape[0]), \n",
    "      set_labels = ('GTeX_selected_th', 'GSM_th'),\n",
    "      set_colors = ('r', 'g',),\n",
    "      alpha = 0.7)\n",
    "plt.title(\"Диаграмма Венна уникальных генов по базам GTeX и GSM\")\n",
    "plt.show()"
   ]
  },
  {
   "cell_type": "markdown",
   "id": "0c5f6c86",
   "metadata": {},
   "source": [
    "### Поиск пептидов по генам\n",
    "#### База Чонга"
   ]
  },
  {
   "cell_type": "code",
   "execution_count": 29,
   "id": "327d5441",
   "metadata": {
    "scrolled": true
   },
   "outputs": [
    {
     "data": {
      "text/html": [
       "<div>\n",
       "<style scoped>\n",
       "    .dataframe tbody tr th:only-of-type {\n",
       "        vertical-align: middle;\n",
       "    }\n",
       "\n",
       "    .dataframe tbody tr th {\n",
       "        vertical-align: top;\n",
       "    }\n",
       "\n",
       "    .dataframe thead th {\n",
       "        text-align: right;\n",
       "    }\n",
       "</style>\n",
       "<table border=\"1\" class=\"dataframe\">\n",
       "  <thead>\n",
       "    <tr style=\"text-align: right;\">\n",
       "      <th></th>\n",
       "      <th>gene</th>\n",
       "      <th>median_x</th>\n",
       "      <th>MIN_x</th>\n",
       "      <th>MAX_x</th>\n",
       "      <th>quantile_5_x</th>\n",
       "      <th>quantile_10_x</th>\n",
       "      <th>median_y</th>\n",
       "      <th>MIN_y</th>\n",
       "      <th>MAX_y</th>\n",
       "      <th>quantile_5_y</th>\n",
       "      <th>...</th>\n",
       "      <th>MaxQuant.DeltaScore</th>\n",
       "      <th>MaxQuant.Localisation.Prob</th>\n",
       "      <th>Spectrum</th>\n",
       "      <th>Peptide</th>\n",
       "      <th>Sequence</th>\n",
       "      <th>IsDecoy</th>\n",
       "      <th>Transcript_ID</th>\n",
       "      <th>Gene_name</th>\n",
       "      <th>ORF_category</th>\n",
       "      <th>Transposable_Element</th>\n",
       "    </tr>\n",
       "  </thead>\n",
       "  <tbody>\n",
       "    <tr>\n",
       "      <th>0</th>\n",
       "      <td>ENSG00000215908</td>\n",
       "      <td>19.29530</td>\n",
       "      <td>4.65275</td>\n",
       "      <td>36.5040</td>\n",
       "      <td>8.370942</td>\n",
       "      <td>12.089135</td>\n",
       "      <td>453.296061</td>\n",
       "      <td>149.186937</td>\n",
       "      <td>1945.595808</td>\n",
       "      <td>231.936709</td>\n",
       "      <td>...</td>\n",
       "      <td>10.299</td>\n",
       "      <td>n. def.</td>\n",
       "      <td>20170913_QEh1_LC1_CHC_SA_HLAIp_OD5P_DAC_4_R1.2...</td>\n",
       "      <td>ASKGAGVSF</td>\n",
       "      <td>ASKGAGVSF</td>\n",
       "      <td>False</td>\n",
       "      <td>ENST00000635081.1</td>\n",
       "      <td>CROCCP2</td>\n",
       "      <td>NaN</td>\n",
       "      <td>NaN</td>\n",
       "    </tr>\n",
       "    <tr>\n",
       "      <th>1</th>\n",
       "      <td>ENSG00000163866</td>\n",
       "      <td>9.41231</td>\n",
       "      <td>5.53458</td>\n",
       "      <td>14.1052</td>\n",
       "      <td>6.983684</td>\n",
       "      <td>8.432787</td>\n",
       "      <td>444.089300</td>\n",
       "      <td>188.524300</td>\n",
       "      <td>943.000800</td>\n",
       "      <td>292.599840</td>\n",
       "      <td>...</td>\n",
       "      <td>26.243</td>\n",
       "      <td>NaN</td>\n",
       "      <td>20170913_QEh1_LC1_CHC_SA_HLAIp_OD5P_ctrl_4_R1....</td>\n",
       "      <td>KYAPGSLHYF</td>\n",
       "      <td>KYAPGSLHYF</td>\n",
       "      <td>False</td>\n",
       "      <td>ENST00000521580_701_1003</td>\n",
       "      <td>SMIM12</td>\n",
       "      <td>dORF</td>\n",
       "      <td>NaN</td>\n",
       "    </tr>\n",
       "    <tr>\n",
       "      <th>2</th>\n",
       "      <td>ENSG00000163866</td>\n",
       "      <td>9.41231</td>\n",
       "      <td>5.53458</td>\n",
       "      <td>14.1052</td>\n",
       "      <td>6.983684</td>\n",
       "      <td>8.432787</td>\n",
       "      <td>444.089300</td>\n",
       "      <td>188.524300</td>\n",
       "      <td>943.000800</td>\n",
       "      <td>292.599840</td>\n",
       "      <td>...</td>\n",
       "      <td>31.107</td>\n",
       "      <td>NaN</td>\n",
       "      <td>20170913_QEh1_LC1_CHC_SA_HLAIp_OD5P_ctrl_4_R2....</td>\n",
       "      <td>KYAPGSLHYF</td>\n",
       "      <td>KYAPGSLHYF</td>\n",
       "      <td>False</td>\n",
       "      <td>ENST00000521580_701_1003</td>\n",
       "      <td>SMIM12</td>\n",
       "      <td>dORF</td>\n",
       "      <td>NaN</td>\n",
       "    </tr>\n",
       "  </tbody>\n",
       "</table>\n",
       "<p>3 rows × 33 columns</p>\n",
       "</div>"
      ],
      "text/plain": [
       "              gene  median_x    MIN_x    MAX_x  quantile_5_x  quantile_10_x  \\\n",
       "0  ENSG00000215908  19.29530  4.65275  36.5040      8.370942      12.089135   \n",
       "1  ENSG00000163866   9.41231  5.53458  14.1052      6.983684       8.432787   \n",
       "2  ENSG00000163866   9.41231  5.53458  14.1052      6.983684       8.432787   \n",
       "\n",
       "     median_y       MIN_y        MAX_y  quantile_5_y  ...  \\\n",
       "0  453.296061  149.186937  1945.595808    231.936709  ...   \n",
       "1  444.089300  188.524300   943.000800    292.599840  ...   \n",
       "2  444.089300  188.524300   943.000800    292.599840  ...   \n",
       "\n",
       "   MaxQuant.DeltaScore MaxQuant.Localisation.Prob  \\\n",
       "0               10.299                    n. def.   \n",
       "1               26.243                        NaN   \n",
       "2               31.107                        NaN   \n",
       "\n",
       "                                            Spectrum     Peptide    Sequence  \\\n",
       "0  20170913_QEh1_LC1_CHC_SA_HLAIp_OD5P_DAC_4_R1.2...   ASKGAGVSF   ASKGAGVSF   \n",
       "1  20170913_QEh1_LC1_CHC_SA_HLAIp_OD5P_ctrl_4_R1....  KYAPGSLHYF  KYAPGSLHYF   \n",
       "2  20170913_QEh1_LC1_CHC_SA_HLAIp_OD5P_ctrl_4_R2....  KYAPGSLHYF  KYAPGSLHYF   \n",
       "\n",
       "   IsDecoy             Transcript_ID Gene_name ORF_category  \\\n",
       "0    False         ENST00000635081.1   CROCCP2          NaN   \n",
       "1    False  ENST00000521580_701_1003    SMIM12         dORF   \n",
       "2    False  ENST00000521580_701_1003    SMIM12         dORF   \n",
       "\n",
       "  Transposable_Element  \n",
       "0                  NaN  \n",
       "1                  NaN  \n",
       "2                  NaN  \n",
       "\n",
       "[3 rows x 33 columns]"
      ]
     },
     "execution_count": 29,
     "metadata": {},
     "output_type": "execute_result"
    }
   ],
   "source": [
    "# соединим полученный списко генов с датасетом пептидов из разных генов (Чонг и соавторы) методом inner\n",
    "# нас интересует столбец Sequence - код пептида\n",
    "GTeX_GSM_vs_C = GTeX_GSM.merge(C_S3_pep, on = 'gene', how = 'inner')\n",
    "GTeX_GSM_vs_C.head(3)"
   ]
  },
  {
   "cell_type": "code",
   "execution_count": 30,
   "id": "a055dd0b",
   "metadata": {
    "scrolled": true
   },
   "outputs": [
    {
     "data": {
      "text/plain": [
       "(229, 33)"
      ]
     },
     "metadata": {},
     "output_type": "display_data"
    },
    {
     "data": {
      "text/plain": [
       "43"
      ]
     },
     "metadata": {},
     "output_type": "display_data"
    },
    {
     "data": {
      "text/plain": [
       "33"
      ]
     },
     "metadata": {},
     "output_type": "display_data"
    },
    {
     "data": {
      "text/html": [
       "<div>\n",
       "<style scoped>\n",
       "    .dataframe tbody tr th:only-of-type {\n",
       "        vertical-align: middle;\n",
       "    }\n",
       "\n",
       "    .dataframe tbody tr th {\n",
       "        vertical-align: top;\n",
       "    }\n",
       "\n",
       "    .dataframe thead th {\n",
       "        text-align: right;\n",
       "    }\n",
       "</style>\n",
       "<table border=\"1\" class=\"dataframe\">\n",
       "  <thead>\n",
       "    <tr style=\"text-align: right;\">\n",
       "      <th></th>\n",
       "      <th></th>\n",
       "      <th>Peptide</th>\n",
       "    </tr>\n",
       "    <tr>\n",
       "      <th>Sequence</th>\n",
       "      <th>gene</th>\n",
       "      <th></th>\n",
       "    </tr>\n",
       "  </thead>\n",
       "  <tbody>\n",
       "    <tr>\n",
       "      <th>ETDIEMETRY</th>\n",
       "      <th>ENSG00000253738</th>\n",
       "      <td>46</td>\n",
       "    </tr>\n",
       "    <tr>\n",
       "      <th>KYMKEKLLF</th>\n",
       "      <th>ENSG00000138399</th>\n",
       "      <td>34</td>\n",
       "    </tr>\n",
       "    <tr>\n",
       "      <th>SVRKAGLKM</th>\n",
       "      <th>ENSG00000122783</th>\n",
       "      <td>21</td>\n",
       "    </tr>\n",
       "  </tbody>\n",
       "</table>\n",
       "</div>"
      ],
      "text/plain": [
       "                            Peptide\n",
       "Sequence   gene                    \n",
       "ETDIEMETRY ENSG00000253738       46\n",
       "KYMKEKLLF  ENSG00000138399       34\n",
       "SVRKAGLKM  ENSG00000122783       21"
      ]
     },
     "execution_count": 30,
     "metadata": {},
     "output_type": "execute_result"
    }
   ],
   "source": [
    "# после объединения получился датасет с 229 строками; при этом количество уникальных пептидов всего 43, а уникальных генов 33\n",
    "# это означает, что один и тот же пептид может встречаться в базе несколько раз, а в одном гене может быть несколько пептидов\n",
    "display(GTeX_GSM_vs_C.shape,\n",
    "len(GTeX_GSM_vs_C['Peptide'].unique()),\n",
    "len(GTeX_GSM_vs_C['gene'].unique()))\n",
    "\n",
    "GTeX_GSM_vs_C.groupby(['Sequence','gene']).agg({'Peptide':'count'}).sort_values(by = 'Peptide', ascending = False).head(3)"
   ]
  },
  {
   "cell_type": "code",
   "execution_count": 31,
   "id": "e4b53b7f",
   "metadata": {},
   "outputs": [
    {
     "data": {
      "image/png": "[encoded data removed]",
      "text/plain": [
       "<Figure size 432x432 with 1 Axes>"
      ]
     },
     "metadata": {},
     "output_type": "display_data"
    }
   ],
   "source": [
    "# построим диаграмму Венна для уникальных генов по базе Чонга\n",
    "plt.figure(figsize=(6, 6))\n",
    "venn_diagram = venn2_unweighted(subsets = (GTeX_GSM.shape[0] - len(set(GTeX_GSM_vs_C['gene'])),\n",
    "                                           len(set(C_S3_pep['gene'])) - len(set(GTeX_GSM_vs_C['gene'])),\n",
    "                                           len(set(GTeX_GSM_vs_C['gene']))), \n",
    "      set_labels = ('GTeX_GSM', 'C_S3_pep'),\n",
    "      set_colors = ('r', 'g'),\n",
    "      alpha = 0.7)\n",
    "plt.title(\"Диаграмма Венна уникальных генов по базе Чонга\")\n",
    "plt.show()"
   ]
  },
  {
   "cell_type": "markdown",
   "id": "972a39ca",
   "metadata": {},
   "source": [
    "#### База Эрхарда"
   ]
  },
  {
   "cell_type": "code",
   "execution_count": 32,
   "id": "f4cc4418",
   "metadata": {},
   "outputs": [
    {
     "data": {
      "text/html": [
       "<div>\n",
       "<style scoped>\n",
       "    .dataframe tbody tr th:only-of-type {\n",
       "        vertical-align: middle;\n",
       "    }\n",
       "\n",
       "    .dataframe tbody tr th {\n",
       "        vertical-align: top;\n",
       "    }\n",
       "\n",
       "    .dataframe thead th {\n",
       "        text-align: right;\n",
       "    }\n",
       "</style>\n",
       "<table border=\"1\" class=\"dataframe\">\n",
       "  <thead>\n",
       "    <tr style=\"text-align: right;\">\n",
       "      <th></th>\n",
       "      <th>gene</th>\n",
       "      <th>median_x</th>\n",
       "      <th>MIN_x</th>\n",
       "      <th>MAX_x</th>\n",
       "      <th>quantile_5_x</th>\n",
       "      <th>quantile_10_x</th>\n",
       "      <th>median_y</th>\n",
       "      <th>MIN_y</th>\n",
       "      <th>MAX_y</th>\n",
       "      <th>quantile_5_y</th>\n",
       "      <th>...</th>\n",
       "      <th>ORF.nterm</th>\n",
       "      <th>ORF.cterm</th>\n",
       "      <th>Region.nterm</th>\n",
       "      <th>Region.length</th>\n",
       "      <th>Region.cterm</th>\n",
       "      <th>Intron.index</th>\n",
       "      <th>Upstream.sequence</th>\n",
       "      <th>Downstream.sequence</th>\n",
       "      <th>HLA.allele</th>\n",
       "      <th>netMHC...rank</th>\n",
       "    </tr>\n",
       "  </thead>\n",
       "  <tbody>\n",
       "    <tr>\n",
       "      <th>0</th>\n",
       "      <td>ENSG00000189339</td>\n",
       "      <td>25.070900</td>\n",
       "      <td>5.70966</td>\n",
       "      <td>29.5457</td>\n",
       "      <td>7.476891</td>\n",
       "      <td>9.244122</td>\n",
       "      <td>666.818691</td>\n",
       "      <td>275.069369</td>\n",
       "      <td>1875.936813</td>\n",
       "      <td>364.561249</td>\n",
       "      <td>...</td>\n",
       "      <td>45</td>\n",
       "      <td>32</td>\n",
       "      <td>104</td>\n",
       "      <td>761</td>\n",
       "      <td>630</td>\n",
       "      <td>-1</td>\n",
       "      <td>PSTA</td>\n",
       "      <td>PFVV</td>\n",
       "      <td>HLA-A*03:07</td>\n",
       "      <td>0.20</td>\n",
       "    </tr>\n",
       "    <tr>\n",
       "      <th>1</th>\n",
       "      <td>ENSG00000198912</td>\n",
       "      <td>18.331100</td>\n",
       "      <td>5.47717</td>\n",
       "      <td>27.0770</td>\n",
       "      <td>8.305433</td>\n",
       "      <td>11.133697</td>\n",
       "      <td>370.127949</td>\n",
       "      <td>172.867543</td>\n",
       "      <td>1216.935274</td>\n",
       "      <td>229.680939</td>\n",
       "      <td>...</td>\n",
       "      <td>5</td>\n",
       "      <td>19</td>\n",
       "      <td>295</td>\n",
       "      <td>732</td>\n",
       "      <td>410</td>\n",
       "      <td>-1</td>\n",
       "      <td>SLLK</td>\n",
       "      <td>LAFL</td>\n",
       "      <td>HLA-A*68:01</td>\n",
       "      <td>0.42</td>\n",
       "    </tr>\n",
       "    <tr>\n",
       "      <th>2</th>\n",
       "      <td>ENSG00000069424</td>\n",
       "      <td>6.811605</td>\n",
       "      <td>2.56266</td>\n",
       "      <td>29.8608</td>\n",
       "      <td>2.627474</td>\n",
       "      <td>2.692287</td>\n",
       "      <td>2830.463136</td>\n",
       "      <td>313.596483</td>\n",
       "      <td>8622.571704</td>\n",
       "      <td>1425.141109</td>\n",
       "      <td>...</td>\n",
       "      <td>12</td>\n",
       "      <td>4</td>\n",
       "      <td>253</td>\n",
       "      <td>331</td>\n",
       "      <td>51</td>\n",
       "      <td>-1</td>\n",
       "      <td>TVRQ</td>\n",
       "      <td>IFPL</td>\n",
       "      <td>HLA-B*27:05</td>\n",
       "      <td>0.32</td>\n",
       "    </tr>\n",
       "  </tbody>\n",
       "</table>\n",
       "<p>3 rows × 61 columns</p>\n",
       "</div>"
      ],
      "text/plain": [
       "              gene   median_x    MIN_x    MAX_x  quantile_5_x  quantile_10_x  \\\n",
       "0  ENSG00000189339  25.070900  5.70966  29.5457      7.476891       9.244122   \n",
       "1  ENSG00000198912  18.331100  5.47717  27.0770      8.305433      11.133697   \n",
       "2  ENSG00000069424   6.811605  2.56266  29.8608      2.627474       2.692287   \n",
       "\n",
       "      median_y       MIN_y        MAX_y  quantile_5_y  ...  ORF.nterm  \\\n",
       "0   666.818691  275.069369  1875.936813    364.561249  ...         45   \n",
       "1   370.127949  172.867543  1216.935274    229.680939  ...          5   \n",
       "2  2830.463136  313.596483  8622.571704   1425.141109  ...         12   \n",
       "\n",
       "  ORF.cterm Region.nterm  Region.length Region.cterm Intron.index  \\\n",
       "0        32          104            761          630           -1   \n",
       "1        19          295            732          410           -1   \n",
       "2         4          253            331           51           -1   \n",
       "\n",
       "  Upstream.sequence Downstream.sequence   HLA.allele  netMHC...rank  \n",
       "0              PSTA                PFVV  HLA-A*03:07           0.20  \n",
       "1              SLLK                LAFL  HLA-A*68:01           0.42  \n",
       "2              TVRQ                IFPL  HLA-B*27:05           0.32  \n",
       "\n",
       "[3 rows x 61 columns]"
      ]
     },
     "execution_count": 32,
     "metadata": {},
     "output_type": "execute_result"
    }
   ],
   "source": [
    "# соединим полученный списко генов с датасет пептидов из разных генов (Эрхард и соавторы) методом inner\n",
    "GTeX_GSM_vs_E = GTeX_GSM.merge(E_S3_pep, on = 'gene', how = 'inner')\n",
    "GTeX_GSM_vs_E.head(3)"
   ]
  },
  {
   "cell_type": "code",
   "execution_count": 33,
   "id": "3246a833",
   "metadata": {
    "scrolled": true
   },
   "outputs": [
    {
     "data": {
      "text/plain": [
       "(1520, 61)"
      ]
     },
     "metadata": {},
     "output_type": "display_data"
    },
    {
     "data": {
      "text/plain": [
       "1520"
      ]
     },
     "metadata": {},
     "output_type": "display_data"
    },
    {
     "data": {
      "text/plain": [
       "1025"
      ]
     },
     "metadata": {},
     "output_type": "display_data"
    },
    {
     "data": {
      "text/html": [
       "<div>\n",
       "<style scoped>\n",
       "    .dataframe tbody tr th:only-of-type {\n",
       "        vertical-align: middle;\n",
       "    }\n",
       "\n",
       "    .dataframe tbody tr th {\n",
       "        vertical-align: top;\n",
       "    }\n",
       "\n",
       "    .dataframe thead th {\n",
       "        text-align: right;\n",
       "    }\n",
       "</style>\n",
       "<table border=\"1\" class=\"dataframe\">\n",
       "  <thead>\n",
       "    <tr style=\"text-align: right;\">\n",
       "      <th></th>\n",
       "      <th></th>\n",
       "      <th>Peptide</th>\n",
       "    </tr>\n",
       "    <tr>\n",
       "      <th>Sequence</th>\n",
       "      <th>gene</th>\n",
       "      <th></th>\n",
       "    </tr>\n",
       "  </thead>\n",
       "  <tbody>\n",
       "    <tr>\n",
       "      <th>AAAAPAPAA</th>\n",
       "      <th>ENSG00000109381</th>\n",
       "      <td>1</td>\n",
       "    </tr>\n",
       "    <tr>\n",
       "      <th>RRFPVPVAM</th>\n",
       "      <th>ENSG00000064393</th>\n",
       "      <td>1</td>\n",
       "    </tr>\n",
       "    <tr>\n",
       "      <th>RRKGLNWTL</th>\n",
       "      <th>ENSG00000107099</th>\n",
       "      <td>1</td>\n",
       "    </tr>\n",
       "  </tbody>\n",
       "</table>\n",
       "</div>"
      ],
      "text/plain": [
       "                           Peptide\n",
       "Sequence  gene                    \n",
       "AAAAPAPAA ENSG00000109381        1\n",
       "RRFPVPVAM ENSG00000064393        1\n",
       "RRKGLNWTL ENSG00000107099        1"
      ]
     },
     "execution_count": 33,
     "metadata": {},
     "output_type": "execute_result"
    }
   ],
   "source": [
    "# после объединения получился датасет с 1520 строками; при этом уникальных пептидов тоже 1520, а уникальных генов 1025\n",
    "# это означает, что в одном и том же гене встречаются несколько пептидов, но сами пептиды уникальны и встречаются в списке 1 раз\n",
    "display(GTeX_GSM_vs_E.shape,\n",
    "len(GTeX_GSM_vs_E['Sequence'].unique()),\n",
    "len(GTeX_GSM_vs_E['gene'].unique()))\n",
    "GTeX_GSM_vs_E.groupby(['Sequence','gene']).agg({'Peptide':'count'}).sort_values(by = 'Peptide', ascending = False).head(3)"
   ]
  },
  {
   "cell_type": "code",
   "execution_count": 34,
   "id": "5b64439e",
   "metadata": {},
   "outputs": [
    {
     "data": {
      "image/png": "[encoded data removed]",
      "text/plain": [
       "<Figure size 432x432 with 1 Axes>"
      ]
     },
     "metadata": {},
     "output_type": "display_data"
    }
   ],
   "source": [
    "# построим диаграмму Венна для уникальных генов по базе Эрхарда\n",
    "plt.figure(figsize=(6, 6))\n",
    "venn_diagram = venn2_unweighted(subsets = (GTeX_GSM.shape[0] - len(set(GTeX_GSM_vs_E['gene'])), \n",
    "                                           len(set(E_S3_pep['gene'])) - len(set(GTeX_GSM_vs_E['gene'])), \n",
    "                                           len(set(GTeX_GSM_vs_E['gene']))), \n",
    "      set_labels = ('GTeX_GSM', 'E_S3_pep'),\n",
    "      set_colors = ('r', 'g'),\n",
    "      alpha = 0.7)\n",
    "plt.title(\"Диаграмма Венна уникальных генов по базе Эрхарда\")\n",
    "plt.show()"
   ]
  },
  {
   "cell_type": "markdown",
   "id": "9a47fab4",
   "metadata": {},
   "source": [
    "#### База Успенской"
   ]
  },
  {
   "cell_type": "code",
   "execution_count": 35,
   "id": "852dae05",
   "metadata": {},
   "outputs": [
    {
     "data": {
      "text/plain": [
       "(55585, 19)"
      ]
     },
     "metadata": {},
     "output_type": "display_data"
    },
    {
     "data": {
      "text/plain": [
       "(323848, 13)"
      ]
     },
     "metadata": {},
     "output_type": "display_data"
    },
    {
     "data": {
      "text/plain": [
       "(12074, 31)"
      ]
     },
     "metadata": {},
     "output_type": "display_data"
    }
   ],
   "source": [
    "# в данных Успенской и соавторов сначала нужно сопоставить пептиды с генами через ключ ORF_ID (рамка считывания)                             \n",
    "O_pep_gen = O_peptides.merge(O_S2_nuORF_DB, on = 'ORF_ID', how = 'inner')\n",
    "O_pep_gen.head(3)\n",
    "\n",
    "# после объединения получился датасет с 12 074 строками (довольно много строк соединить не удалось,\n",
    "# по согласованию с заказчиком никаких дополнительных действия производить не требуется)\n",
    "display(O_peptides.shape,\n",
    "        O_S2_nuORF_DB.shape,\n",
    "        O_pep_gen.shape)"
   ]
  },
  {
   "cell_type": "code",
   "execution_count": 36,
   "id": "e89ff192",
   "metadata": {},
   "outputs": [
    {
     "data": {
      "text/html": [
       "<div>\n",
       "<style scoped>\n",
       "    .dataframe tbody tr th:only-of-type {\n",
       "        vertical-align: middle;\n",
       "    }\n",
       "\n",
       "    .dataframe tbody tr th {\n",
       "        vertical-align: top;\n",
       "    }\n",
       "\n",
       "    .dataframe thead th {\n",
       "        text-align: right;\n",
       "    }\n",
       "</style>\n",
       "<table border=\"1\" class=\"dataframe\">\n",
       "  <thead>\n",
       "    <tr style=\"text-align: right;\">\n",
       "      <th></th>\n",
       "      <th>gene</th>\n",
       "      <th>median_x</th>\n",
       "      <th>MIN_x</th>\n",
       "      <th>MAX_x</th>\n",
       "      <th>quantile_5_x</th>\n",
       "      <th>quantile_10_x</th>\n",
       "      <th>median_y</th>\n",
       "      <th>MIN_y</th>\n",
       "      <th>MAX_y</th>\n",
       "      <th>quantile_5_y</th>\n",
       "      <th>...</th>\n",
       "      <th>transId</th>\n",
       "      <th>geneName</th>\n",
       "      <th>geneType</th>\n",
       "      <th>transcriptType</th>\n",
       "      <th>ORF_length</th>\n",
       "      <th>predictorType</th>\n",
       "      <th>refinedType</th>\n",
       "      <th>mergeType_y</th>\n",
       "      <th>plotType_y</th>\n",
       "      <th>condType_y</th>\n",
       "    </tr>\n",
       "  </thead>\n",
       "  <tbody>\n",
       "    <tr>\n",
       "      <th>0</th>\n",
       "      <td>ENSG00000069424</td>\n",
       "      <td>6.811605</td>\n",
       "      <td>2.56266</td>\n",
       "      <td>29.8608</td>\n",
       "      <td>2.627474</td>\n",
       "      <td>2.692287</td>\n",
       "      <td>2830.463136</td>\n",
       "      <td>313.596483</td>\n",
       "      <td>8622.571704</td>\n",
       "      <td>1425.141109</td>\n",
       "      <td>...</td>\n",
       "      <td>ENST00000341524.5_1</td>\n",
       "      <td>KCNAB2</td>\n",
       "      <td>protein_coding</td>\n",
       "      <td>protein_coding</td>\n",
       "      <td>1122</td>\n",
       "      <td>Trunc</td>\n",
       "      <td>Trunc</td>\n",
       "      <td>Truncated</td>\n",
       "      <td>Canonical</td>\n",
       "      <td>Canonical</td>\n",
       "    </tr>\n",
       "    <tr>\n",
       "      <th>1</th>\n",
       "      <td>ENSG00000162408</td>\n",
       "      <td>7.960095</td>\n",
       "      <td>3.07028</td>\n",
       "      <td>10.7898</td>\n",
       "      <td>3.497429</td>\n",
       "      <td>3.924578</td>\n",
       "      <td>841.064019</td>\n",
       "      <td>437.770838</td>\n",
       "      <td>1696.816639</td>\n",
       "      <td>552.850069</td>\n",
       "      <td>...</td>\n",
       "      <td>ENST00000377705.5_1</td>\n",
       "      <td>NOL9</td>\n",
       "      <td>protein_coding</td>\n",
       "      <td>protein_coding</td>\n",
       "      <td>2109</td>\n",
       "      <td>CDS</td>\n",
       "      <td>CDS</td>\n",
       "      <td>Canonical</td>\n",
       "      <td>Canonical</td>\n",
       "      <td>Canonical</td>\n",
       "    </tr>\n",
       "    <tr>\n",
       "      <th>2</th>\n",
       "      <td>ENSG00000162408</td>\n",
       "      <td>7.960095</td>\n",
       "      <td>3.07028</td>\n",
       "      <td>10.7898</td>\n",
       "      <td>3.497429</td>\n",
       "      <td>3.924578</td>\n",
       "      <td>841.064019</td>\n",
       "      <td>437.770838</td>\n",
       "      <td>1696.816639</td>\n",
       "      <td>552.850069</td>\n",
       "      <td>...</td>\n",
       "      <td>ENST00000377705.5_1</td>\n",
       "      <td>NOL9</td>\n",
       "      <td>protein_coding</td>\n",
       "      <td>protein_coding</td>\n",
       "      <td>2109</td>\n",
       "      <td>CDS</td>\n",
       "      <td>CDS</td>\n",
       "      <td>Canonical</td>\n",
       "      <td>Canonical</td>\n",
       "      <td>Canonical</td>\n",
       "    </tr>\n",
       "  </tbody>\n",
       "</table>\n",
       "<p>3 rows × 41 columns</p>\n",
       "</div>"
      ],
      "text/plain": [
       "              gene  median_x    MIN_x    MAX_x  quantile_5_x  quantile_10_x  \\\n",
       "0  ENSG00000069424  6.811605  2.56266  29.8608      2.627474       2.692287   \n",
       "1  ENSG00000162408  7.960095  3.07028  10.7898      3.497429       3.924578   \n",
       "2  ENSG00000162408  7.960095  3.07028  10.7898      3.497429       3.924578   \n",
       "\n",
       "      median_y       MIN_y        MAX_y  quantile_5_y  ...  \\\n",
       "0  2830.463136  313.596483  8622.571704   1425.141109  ...   \n",
       "1   841.064019  437.770838  1696.816639    552.850069  ...   \n",
       "2   841.064019  437.770838  1696.816639    552.850069  ...   \n",
       "\n",
       "               transId geneName        geneType  transcriptType  ORF_length  \\\n",
       "0  ENST00000341524.5_1   KCNAB2  protein_coding  protein_coding        1122   \n",
       "1  ENST00000377705.5_1     NOL9  protein_coding  protein_coding        2109   \n",
       "2  ENST00000377705.5_1     NOL9  protein_coding  protein_coding        2109   \n",
       "\n",
       "   predictorType  refinedType  mergeType_y  plotType_y  condType_y  \n",
       "0          Trunc        Trunc    Truncated   Canonical   Canonical  \n",
       "1            CDS          CDS    Canonical   Canonical   Canonical  \n",
       "2            CDS          CDS    Canonical   Canonical   Canonical  \n",
       "\n",
       "[3 rows x 41 columns]"
      ]
     },
     "execution_count": 36,
     "metadata": {},
     "output_type": "execute_result"
    }
   ],
   "source": [
    "# теперь соединим список наших генов с датасетом пептидов из разных генов (Успенской и соавторы) по ключу gene методом inner\n",
    "GTeX_GSM_vs_O = GTeX_GSM.merge(O_pep_gen, on = 'gene', how = 'inner')\n",
    "GTeX_GSM_vs_O.head(3)"
   ]
  },
  {
   "cell_type": "code",
   "execution_count": 37,
   "id": "4dc7a94d",
   "metadata": {
    "scrolled": true
   },
   "outputs": [
    {
     "data": {
      "text/plain": [
       "(2669, 41)"
      ]
     },
     "metadata": {},
     "output_type": "display_data"
    },
    {
     "data": {
      "text/plain": [
       "1920"
      ]
     },
     "metadata": {},
     "output_type": "display_data"
    },
    {
     "data": {
      "text/plain": [
       "985"
      ]
     },
     "metadata": {},
     "output_type": "display_data"
    },
    {
     "data": {
      "text/html": [
       "<div>\n",
       "<style scoped>\n",
       "    .dataframe tbody tr th:only-of-type {\n",
       "        vertical-align: middle;\n",
       "    }\n",
       "\n",
       "    .dataframe tbody tr th {\n",
       "        vertical-align: top;\n",
       "    }\n",
       "\n",
       "    .dataframe thead th {\n",
       "        text-align: right;\n",
       "    }\n",
       "</style>\n",
       "<table border=\"1\" class=\"dataframe\">\n",
       "  <thead>\n",
       "    <tr style=\"text-align: right;\">\n",
       "      <th></th>\n",
       "      <th></th>\n",
       "      <th>ORF_ID</th>\n",
       "    </tr>\n",
       "    <tr>\n",
       "      <th>Sequence</th>\n",
       "      <th>gene</th>\n",
       "      <th></th>\n",
       "    </tr>\n",
       "  </thead>\n",
       "  <tbody>\n",
       "    <tr>\n",
       "      <th>SLMGMVLKL</th>\n",
       "      <th>ENSG00000198554</th>\n",
       "      <td>7</td>\n",
       "    </tr>\n",
       "    <tr>\n",
       "      <th>MMDPNSTQRY</th>\n",
       "      <th>ENSG00000124571</th>\n",
       "      <td>6</td>\n",
       "    </tr>\n",
       "    <tr>\n",
       "      <th>KLHGVNINV</th>\n",
       "      <th>ENSG00000173914</th>\n",
       "      <td>6</td>\n",
       "    </tr>\n",
       "  </tbody>\n",
       "</table>\n",
       "</div>"
      ],
      "text/plain": [
       "                            ORF_ID\n",
       "Sequence   gene                   \n",
       "SLMGMVLKL  ENSG00000198554       7\n",
       "MMDPNSTQRY ENSG00000124571       6\n",
       "KLHGVNINV  ENSG00000173914       6"
      ]
     },
     "execution_count": 37,
     "metadata": {},
     "output_type": "execute_result"
    }
   ],
   "source": [
    "# после объединения получился датасет с 2669 строк; уникальных пептидов 1920, а уникальных генов 985\n",
    "# это означает, что в одном и том же гене встречаются несколько пептидов, а сами пептиды встречаются в датасете несколько раз\n",
    "display(GTeX_GSM_vs_O.shape,\n",
    "len(GTeX_GSM_vs_O['Sequence'].unique()),\n",
    "len(GTeX_GSM_vs_O['gene'].unique()))\n",
    "GTeX_GSM_vs_O.groupby(['Sequence','gene']).agg({'ORF_ID':'count'}).sort_values(by = 'ORF_ID', ascending = False).head(3)"
   ]
  },
  {
   "cell_type": "code",
   "execution_count": 38,
   "id": "7197c568",
   "metadata": {},
   "outputs": [
    {
     "data": {
      "image/png": "[encoded data removed]",
      "text/plain": [
       "<Figure size 432x432 with 1 Axes>"
      ]
     },
     "metadata": {},
     "output_type": "display_data"
    }
   ],
   "source": [
    "# построим диаграмму Венна для уникальных генов по базе Успенской\n",
    "plt.figure(figsize=(6, 6))\n",
    "venn_diagram = venn2_unweighted(subsets = (GTeX_GSM.shape[0] - len(set(GTeX_GSM_vs_O['gene'])), \n",
    "                                           len(set(O_pep_gen['gene'])) - len(set(GTeX_GSM_vs_O['gene'])), \n",
    "                                           len(set(GTeX_GSM_vs_O['gene']))), \n",
    "      set_labels = ('GTeX_GSM', 'O_pep_gen'),\n",
    "      set_colors = ('r', 'g'),\n",
    "      alpha = 0.7)\n",
    "plt.title(\"Диаграмма Венна уникальных генов по базе Успенской\")\n",
    "plt.show()"
   ]
  },
  {
   "cell_type": "markdown",
   "id": "ffb56dc6",
   "metadata": {},
   "source": [
    "### Анализ частотности пептидов "
   ]
  },
  {
   "cell_type": "code",
   "execution_count": 39,
   "id": "52efdb61",
   "metadata": {
    "scrolled": true
   },
   "outputs": [
    {
     "data": {
      "text/html": [
       "<div>\n",
       "<style scoped>\n",
       "    .dataframe tbody tr th:only-of-type {\n",
       "        vertical-align: middle;\n",
       "    }\n",
       "\n",
       "    .dataframe tbody tr th {\n",
       "        vertical-align: top;\n",
       "    }\n",
       "\n",
       "    .dataframe thead th {\n",
       "        text-align: right;\n",
       "    }\n",
       "</style>\n",
       "<table border=\"1\" class=\"dataframe\">\n",
       "  <thead>\n",
       "    <tr style=\"text-align: right;\">\n",
       "      <th></th>\n",
       "      <th>Чонг и соавт.</th>\n",
       "      <th>Эрхард и соавт.</th>\n",
       "      <th>Успенская и соавт.</th>\n",
       "    </tr>\n",
       "    <tr>\n",
       "      <th>Показатель</th>\n",
       "      <th></th>\n",
       "      <th></th>\n",
       "      <th></th>\n",
       "    </tr>\n",
       "  </thead>\n",
       "  <tbody>\n",
       "    <tr>\n",
       "      <th>Число строк после объединения</th>\n",
       "      <td>229</td>\n",
       "      <td>1520</td>\n",
       "      <td>2669</td>\n",
       "    </tr>\n",
       "    <tr>\n",
       "      <th>Количество уникальных пептидов</th>\n",
       "      <td>40</td>\n",
       "      <td>1520</td>\n",
       "      <td>1920</td>\n",
       "    </tr>\n",
       "    <tr>\n",
       "      <th>Количество уникальных генов</th>\n",
       "      <td>33</td>\n",
       "      <td>1025</td>\n",
       "      <td>985</td>\n",
       "    </tr>\n",
       "  </tbody>\n",
       "</table>\n",
       "</div>"
      ],
      "text/plain": [
       "                                Чонг и соавт.  Эрхард и соавт.  \\\n",
       "Показатель                                                       \n",
       "Число строк после объединения             229             1520   \n",
       "Количество уникальных пептидов             40             1520   \n",
       "Количество уникальных генов                33             1025   \n",
       "\n",
       "                                Успенская и соавт.  \n",
       "Показатель                                          \n",
       "Число строк после объединения                 2669  \n",
       "Количество уникальных пептидов                1920  \n",
       "Количество уникальных генов                    985  "
      ]
     },
     "execution_count": 39,
     "metadata": {},
     "output_type": "execute_result"
    }
   ],
   "source": [
    "# создадим сводную таблицу по результатам наших объединений\n",
    "cols = ['Показатель', \"Чонг и соавт.\", \"Эрхард и соавт.\", \"Успенская и соавт.\"]\n",
    "\n",
    "data = [[\"Число строк после объединения\", \n",
    "          GTeX_GSM_vs_C.shape[0], \n",
    "          GTeX_GSM_vs_E.shape[0], \n",
    "          GTeX_GSM_vs_O.shape[0]],\n",
    "        [\"Количество уникальных пептидов\", \n",
    "          len(GTeX_GSM_vs_C['Sequence'].unique()), \n",
    "          len(GTeX_GSM_vs_E['Sequence'].unique()), \n",
    "          len(GTeX_GSM_vs_O['Sequence'].unique())], \n",
    "        [\"Количество уникальных генов\",\n",
    "          len(GTeX_GSM_vs_C['gene'].unique()), \n",
    "          len(GTeX_GSM_vs_E['gene'].unique()), \n",
    "          len(GTeX_GSM_vs_O['gene'].unique())]]\n",
    "\n",
    "pd.DataFrame(data = data, columns = cols).set_index('Показатель')\n",
    "# после соединения таблиц GTeX_GSM и 3 датасетов были получены следующие срезы:"
   ]
  },
  {
   "cell_type": "markdown",
   "id": "16141252",
   "metadata": {},
   "source": [
    "Различия между строками внутри одного столбца означают: \n",
    "* один и тот же пептид может встречаться в срезе несколько раз (за исключением базы Эрхарда, где все пептиды уникальны);\n",
    "* один ген может содержать несколько пептидов."
   ]
  },
  {
   "cell_type": "code",
   "execution_count": 40,
   "id": "05134ae0",
   "metadata": {},
   "outputs": [
    {
     "data": {
      "text/plain": [
       "5"
      ]
     },
     "metadata": {},
     "output_type": "display_data"
    },
    {
     "data": {
      "text/plain": [
       "15"
      ]
     },
     "metadata": {},
     "output_type": "display_data"
    },
    {
     "data": {
      "text/plain": [
       "88"
      ]
     },
     "metadata": {},
     "output_type": "display_data"
    },
    {
     "data": {
      "text/plain": [
       "4"
      ]
     },
     "metadata": {},
     "output_type": "display_data"
    },
    {
     "data": {
      "text/plain": [
       "{'IFNPVSKNF', 'KYMKEKLLF', 'NSSDHVLLY', 'VTEKVYADTGLY'}"
      ]
     },
     "execution_count": 40,
     "metadata": {},
     "output_type": "execute_result"
    }
   ],
   "source": [
    "# найдем пересечения пептидов между датасетами\n",
    "set_C = set(GTeX_GSM_vs_C['Sequence'])\n",
    "set_E = set(GTeX_GSM_vs_E['Sequence'])\n",
    "set_O = set(GTeX_GSM_vs_O['Sequence'])\n",
    "\n",
    "C_vs_O = set_C - (set_C - set_O)\n",
    "C_vs_E = set_C - (set_C - set_E)\n",
    "E_vs_O = set_E - (set_E - set_O)\n",
    "C_vs_O_vs_E = C_vs_O-(C_vs_O - E_vs_O)\n",
    "\n",
    "display(len(C_vs_O), len(C_vs_E), len(E_vs_O), len(C_vs_O_vs_E))\n",
    "C_vs_O_vs_E "
   ]
  },
  {
   "cell_type": "markdown",
   "id": "077794c6",
   "metadata": {},
   "source": [
    "Таким образом, **во всех трех датасетах встречается всего 4 пептида 'IFNPVSKNF', 'KYMKEKLLF', 'NSSDHVLLY', 'VTEKVYADTGLY'**.   \n",
    "\n",
    "В двух датасетах встречается уже (5-4) + (15-4) + (88-4) = 96 пептидов. Построим диаграммму Венна для уникальных пептидов из всех трех датасетов."
   ]
  },
  {
   "cell_type": "code",
   "execution_count": 41,
   "id": "67f6e3a8",
   "metadata": {},
   "outputs": [
    {
     "data": {
      "text/plain": [
       "1831"
      ]
     },
     "execution_count": 41,
     "metadata": {},
     "output_type": "execute_result"
    }
   ],
   "source": [
    "len(set_O - set_E - set_C)"
   ]
  },
  {
   "cell_type": "code",
   "execution_count": 42,
   "id": "031fe021",
   "metadata": {},
   "outputs": [
    {
     "data": {
      "image/png": "[encoded data removed]",
      "text/plain": [
       "<Figure size 504x504 with 1 Axes>"
      ]
     },
     "metadata": {},
     "output_type": "display_data"
    }
   ],
   "source": [
    "plt.figure(figsize=(7, 7))\n",
    "venn_diagram = venn3_unweighted(subsets = ( len(set_C - set_E - set_O), \n",
    "                                            len(set_E - set_C - set_O), \n",
    "                                            len(C_vs_E - C_vs_O_vs_E), \n",
    "                                            len(set_O - set_E - set_C), \n",
    "                                            len(C_vs_O - C_vs_O_vs_E), \n",
    "                                            len(E_vs_O - C_vs_O_vs_E), \n",
    "                                            len(C_vs_O_vs_E)), \n",
    "      set_labels = ('Chong', 'Erhard', 'Ouspenskaya'),\n",
    "      set_colors = ('r', 'g', 'y'),\n",
    "      alpha = 0.7)\n",
    "plt.title(\"Диаграмма Венна уникальных пептидов\")\n",
    "plt.show()"
   ]
  },
  {
   "cell_type": "code",
   "execution_count": 43,
   "id": "d6046ae3",
   "metadata": {},
   "outputs": [
    {
     "data": {
      "text/plain": [
       "100"
      ]
     },
     "execution_count": 43,
     "metadata": {},
     "output_type": "execute_result"
    }
   ],
   "source": [
    "# составим список пептидов, которые находятся на пересечении датасетов\n",
    "GTeX_GSM_vs_all = list(C_vs_O.union(C_vs_E, E_vs_O))\n",
    "len(GTeX_GSM_vs_all)"
   ]
  },
  {
   "cell_type": "code",
   "execution_count": 44,
   "id": "beae7694",
   "metadata": {},
   "outputs": [
    {
     "data": {
      "text/plain": [
       "3480"
      ]
     },
     "execution_count": 44,
     "metadata": {},
     "output_type": "execute_result"
    }
   ],
   "source": [
    "# составим список пептидов из всех трех датасетов\n",
    "list_combined = list(set_C) + list(set_E) + list(set_O)\n",
    "list_combined = pd.DataFrame(list_combined)\n",
    "list_combined.columns = ['Sequence']\n",
    "len(list_combined)"
   ]
  },
  {
   "cell_type": "code",
   "execution_count": 45,
   "id": "ac055ace",
   "metadata": {
    "scrolled": true
   },
   "outputs": [
    {
     "data": {
      "text/html": [
       "<div>\n",
       "<style scoped>\n",
       "    .dataframe tbody tr th:only-of-type {\n",
       "        vertical-align: middle;\n",
       "    }\n",
       "\n",
       "    .dataframe tbody tr th {\n",
       "        vertical-align: top;\n",
       "    }\n",
       "\n",
       "    .dataframe thead th {\n",
       "        text-align: right;\n",
       "    }\n",
       "</style>\n",
       "<table border=\"1\" class=\"dataframe\">\n",
       "  <thead>\n",
       "    <tr style=\"text-align: right;\">\n",
       "      <th></th>\n",
       "      <th>Sequence</th>\n",
       "      <th>Chong</th>\n",
       "      <th>Erhard</th>\n",
       "      <th>Ouspenskaya</th>\n",
       "      <th>All_datasets_frequency</th>\n",
       "      <th>No_datasets_occurrence</th>\n",
       "    </tr>\n",
       "  </thead>\n",
       "  <tbody>\n",
       "    <tr>\n",
       "      <th>20</th>\n",
       "      <td>ETDIEMETRY</td>\n",
       "      <td>46</td>\n",
       "      <td>1</td>\n",
       "      <td>0</td>\n",
       "      <td>47</td>\n",
       "      <td>2</td>\n",
       "    </tr>\n",
       "    <tr>\n",
       "      <th>30</th>\n",
       "      <td>KYMKEKLLF</td>\n",
       "      <td>34</td>\n",
       "      <td>1</td>\n",
       "      <td>3</td>\n",
       "      <td>38</td>\n",
       "      <td>3</td>\n",
       "    </tr>\n",
       "    <tr>\n",
       "      <th>68</th>\n",
       "      <td>VTEKVYADTGLY</td>\n",
       "      <td>20</td>\n",
       "      <td>1</td>\n",
       "      <td>5</td>\n",
       "      <td>26</td>\n",
       "      <td>3</td>\n",
       "    </tr>\n",
       "    <tr>\n",
       "      <th>6</th>\n",
       "      <td>APRAAPPAGA</td>\n",
       "      <td>10</td>\n",
       "      <td>1</td>\n",
       "      <td>0</td>\n",
       "      <td>11</td>\n",
       "      <td>2</td>\n",
       "    </tr>\n",
       "    <tr>\n",
       "      <th>69</th>\n",
       "      <td>SLMGMVLKL</td>\n",
       "      <td>0</td>\n",
       "      <td>1</td>\n",
       "      <td>7</td>\n",
       "      <td>8</td>\n",
       "      <td>2</td>\n",
       "    </tr>\n",
       "  </tbody>\n",
       "</table>\n",
       "</div>"
      ],
      "text/plain": [
       "        Sequence  Chong  Erhard  Ouspenskaya  All_datasets_frequency  \\\n",
       "20    ETDIEMETRY     46       1            0                      47   \n",
       "30     KYMKEKLLF     34       1            3                      38   \n",
       "68  VTEKVYADTGLY     20       1            5                      26   \n",
       "6     APRAAPPAGA     10       1            0                      11   \n",
       "69     SLMGMVLKL      0       1            7                       8   \n",
       "\n",
       "    No_datasets_occurrence  \n",
       "20                       2  \n",
       "30                       3  \n",
       "68                       3  \n",
       "6                        2  \n",
       "69                       2  "
      ]
     },
     "execution_count": 45,
     "metadata": {},
     "output_type": "execute_result"
    }
   ],
   "source": [
    "# теперь создадим сводную таблицу с указанием частотности пептидов в каждом датсете\n",
    "GTeX_GSM_vs_all = pd.DataFrame(GTeX_GSM_vs_all)\n",
    "GTeX_GSM_vs_all.columns = ['Sequence']\n",
    "GTeX_GSM_vs_all['Chong'] = GTeX_GSM_vs_all['Sequence'].apply(lambda x: len(GTeX_GSM_vs_C[GTeX_GSM_vs_C['Sequence'] == x]))\n",
    "GTeX_GSM_vs_all['Erhard'] = GTeX_GSM_vs_all['Sequence'].apply(lambda x: len(GTeX_GSM_vs_E[GTeX_GSM_vs_E['Sequence'] == x]))\n",
    "GTeX_GSM_vs_all['Ouspenskaya'] = GTeX_GSM_vs_all['Sequence'].apply(lambda x: len(GTeX_GSM_vs_O[GTeX_GSM_vs_O['Sequence'] == x]))\n",
    "GTeX_GSM_vs_all['All_datasets_frequency'] = GTeX_GSM_vs_all['Chong'] + GTeX_GSM_vs_all['Erhard'] + GTeX_GSM_vs_all['Ouspenskaya']\n",
    "GTeX_GSM_vs_all['No_datasets_occurrence'] = GTeX_GSM_vs_all['Sequence'].apply(lambda x: len(list_combined[list_combined['Sequence'] == x]))\n",
    "\n",
    "GTeX_GSM_vs_all.sort_values(by = \"All_datasets_frequency\", ascending = False).head()"
   ]
  },
  {
   "cell_type": "code",
   "execution_count": 47,
   "id": "f766f984",
   "metadata": {
    "scrolled": true
   },
   "outputs": [
    {
     "data": {
      "text/plain": [
       "HLA\n",
       "no     59\n",
       "yes    41\n",
       "Name: Sequence, dtype: int64"
      ]
     },
     "execution_count": 47,
     "metadata": {},
     "output_type": "execute_result"
    }
   ],
   "source": [
    "# в конце добавим столбец, который будет указывать, встречаются ли наши пептиды в базе пептидов HLA, найденныx в здоровых тканях\n",
    "GTeX_GSM_vs_all['HLA'] = GTeX_GSM_vs_all['Sequence'].apply(lambda x: 'yes' if x in set(HLA['Sequence']) else 'no')\n",
    "GTeX_GSM_vs_all.groupby('HLA')['Sequence'].count() "
   ]
  },
  {
   "cell_type": "markdown",
   "id": "b4454d8c",
   "metadata": {},
   "source": [
    "**Таким образом, 59 пептидов из 100 не встречается в базе пептидов здоровых тканей.**"
   ]
  },
  {
   "cell_type": "code",
   "execution_count": 48,
   "id": "072dd51d",
   "metadata": {
    "scrolled": true
   },
   "outputs": [
    {
     "data": {
      "text/html": [
       "<div>\n",
       "<style scoped>\n",
       "    .dataframe tbody tr th:only-of-type {\n",
       "        vertical-align: middle;\n",
       "    }\n",
       "\n",
       "    .dataframe tbody tr th {\n",
       "        vertical-align: top;\n",
       "    }\n",
       "\n",
       "    .dataframe thead th {\n",
       "        text-align: right;\n",
       "    }\n",
       "</style>\n",
       "<table border=\"1\" class=\"dataframe\">\n",
       "  <thead>\n",
       "    <tr style=\"text-align: right;\">\n",
       "      <th></th>\n",
       "      <th>Sequence</th>\n",
       "      <th>Chong</th>\n",
       "      <th>Erhard</th>\n",
       "      <th>Ouspenskaya</th>\n",
       "      <th>All_datasets_frequency</th>\n",
       "      <th>No_datasets_occurrence</th>\n",
       "      <th>HLA</th>\n",
       "    </tr>\n",
       "  </thead>\n",
       "  <tbody>\n",
       "    <tr>\n",
       "      <th>0</th>\n",
       "      <td>KYMKEKLLF</td>\n",
       "      <td>34</td>\n",
       "      <td>1</td>\n",
       "      <td>3</td>\n",
       "      <td>38</td>\n",
       "      <td>3</td>\n",
       "      <td>yes</td>\n",
       "    </tr>\n",
       "    <tr>\n",
       "      <th>1</th>\n",
       "      <td>VTEKVYADTGLY</td>\n",
       "      <td>20</td>\n",
       "      <td>1</td>\n",
       "      <td>5</td>\n",
       "      <td>26</td>\n",
       "      <td>3</td>\n",
       "      <td>no</td>\n",
       "    </tr>\n",
       "    <tr>\n",
       "      <th>2</th>\n",
       "      <td>IFNPVSKNF</td>\n",
       "      <td>1</td>\n",
       "      <td>1</td>\n",
       "      <td>2</td>\n",
       "      <td>4</td>\n",
       "      <td>3</td>\n",
       "      <td>yes</td>\n",
       "    </tr>\n",
       "    <tr>\n",
       "      <th>3</th>\n",
       "      <td>NSSDHVLLY</td>\n",
       "      <td>1</td>\n",
       "      <td>1</td>\n",
       "      <td>1</td>\n",
       "      <td>3</td>\n",
       "      <td>3</td>\n",
       "      <td>yes</td>\n",
       "    </tr>\n",
       "    <tr>\n",
       "      <th>4</th>\n",
       "      <td>ETDIEMETRY</td>\n",
       "      <td>46</td>\n",
       "      <td>1</td>\n",
       "      <td>0</td>\n",
       "      <td>47</td>\n",
       "      <td>2</td>\n",
       "      <td>no</td>\n",
       "    </tr>\n",
       "  </tbody>\n",
       "</table>\n",
       "</div>"
      ],
      "text/plain": [
       "       Sequence  Chong  Erhard  Ouspenskaya  All_datasets_frequency  \\\n",
       "0     KYMKEKLLF     34       1            3                      38   \n",
       "1  VTEKVYADTGLY     20       1            5                      26   \n",
       "2     IFNPVSKNF      1       1            2                       4   \n",
       "3     NSSDHVLLY      1       1            1                       3   \n",
       "4    ETDIEMETRY     46       1            0                      47   \n",
       "\n",
       "   No_datasets_occurrence  HLA  \n",
       "0                       3  yes  \n",
       "1                       3   no  \n",
       "2                       3  yes  \n",
       "3                       3  yes  \n",
       "4                       2   no  "
      ]
     },
     "execution_count": 48,
     "metadata": {},
     "output_type": "execute_result"
    }
   ],
   "source": [
    "# отсортируем итоговую таблицу по столбцам No_datasets_occurrence и All_datasets_frequency\n",
    "GTeX_GSM_vs_all = GTeX_GSM_vs_all.sort_values(by = ['No_datasets_occurrence', 'All_datasets_frequency'], ascending = False).reset_index(drop = True)\n",
    "GTeX_GSM_vs_all.head()"
   ]
  },
  {
   "cell_type": "code",
   "execution_count": 49,
   "id": "c682104e",
   "metadata": {},
   "outputs": [],
   "source": [
    "# сохраним полученную таблицу в Excel\n",
    "GTeX_GSM_vs_all.to_excel('C:\\\\Users\\\\German.Shakhrul\\\\Documents\\\\Python\\\\Проекты\\\\pet project\\\\GTeX_GSM_vs_all.xlsx')"
   ]
  },
  {
   "cell_type": "markdown",
   "id": "d5385030",
   "metadata": {},
   "source": [
    "### Основные выводы"
   ]
  },
  {
   "cell_type": "markdown",
   "id": "86413963",
   "metadata": {},
   "source": [
    "На основании проведенного анализа можно сделать следующие выводы:\n",
    "1.  При использовании порогового значения 40 в таблице GTeX из 56 200 строк этому условию удовлетворяет 49 786 (почти 90% выборки), в то время как пороговое значение 307 для таблицы GSM из сопоставимой выборки в 58 395 строк остается только 7 295 (12,5% выборки). Возможно, стоит пересмотреть порог 40 и, например, исключить нулевые строки.\n",
    "2. В источниках Успенской удалось установить связь пептид - ген только для 12 074 строк из 55 585 (22% всей выборки). Вероятно, результат можно улучшить, но для этого требуется описание исходных данных с указанием логики формирования столбцов;\n",
    "2. После соединения таблиц GTeX и GSM был получен список из 3 841 гена, которые удовлетворяют сразу обоим условиям. Этот список мы пропустили по 3 датасетам и у Чонга нашли 33 гена, у Эрхарда 1025, а у Успенской 985 генов из полученного списка.\n",
    "3. Поскольку однин ген может содержать сразу несколько пептидов, то число уникальных генов несколько шире: у Чонга - 40, у Эрхарда - 1520, а у Успенской - 1920 пептидов.\n",
    "4. Построив пересечение 3 множеств, мы обнаружили 4 пептида ( 'IFNPVSKNF', 'KYMKEKLLF', 'NSSDHVLLY', 'VTEKVYADTGLY'), которые присутствуют во всех трех датасетах, и еще 96 пептидов, которые встречаются в двух датасетах.\n",
    "5. Итоговый список пептидов был сверен с базой пептидов, найденным в здоровых тканях: из списка в 100 пептидов 59 не обнаружено в этой базе, в том числе пептид VTEKVYADTGLY, который встретился во всех 3 датасетах."
   ]
  }
 ],
 "metadata": {
  "kernelspec": {
   "display_name": "Python 3 (ipykernel)",
   "language": "python",
   "name": "python3"
  },
  "language_info": {
   "codemirror_mode": {
    "name": "ipython",
    "version": 3
   },
   "file_extension": ".py",
   "mimetype": "text/x-python",
   "name": "python",
   "nbconvert_exporter": "python",
   "pygments_lexer": "ipython3",
   "version": "3.9.7"
  }
 },
 "nbformat": 4,
 "nbformat_minor": 5
}

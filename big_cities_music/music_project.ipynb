{
 "cells": [
  {
   "cell_type": "markdown",
   "metadata": {},
   "source": [
    "<div style=\"border-radius: 15px; border: 3px solid indigo; padding: 15px;\">\n",
    "<b> Комментарий ревьюера</b>\n",
    "    \n",
    "Привет! Прошу прощения за задержку ревью. Надеюсь, это не принесло тебе слишком много неудобств. Меня зовут Светлана Носова, я буду проверять твой проект. Если не против, давай общаться на «ты». Если тебе такой стиль общения не нравится, напиши об этом, будем на «вы».\n",
    "\n",
    "Сразу хочу обратить внимание на цветовую разметку.\n",
    "\n",
    "<div class=\"alert alert-success\" style=\"border-radius: 15px; box-shadow: 4px 4px 4px; border: 1px solid \">\n",
    "\n",
    "Зеленым отмечены отличные решения и идеи, которые можно и нужно использовать в будущем.\n",
    "</div>\n",
    "    \n",
    "<div class=\"alert alert-warning\" style=\"border-radius: 15px; box-shadow: 4px 4px 4px; border: 1px solid \">\n",
    "\n",
    "Желтым отмечено то, что можно или нужно оптимизировать, в зависимости от контекста.</div>    \n",
    "    \n",
    "<div class=\"alert alert-danger\" style=\"border-radius: 15px; box-shadow: 4px 4px 4px; border: 1px solid \">\n",
    "\n",
    "Красным  обозначены пропущенные пункты задания и ошибки, которые обязательно надо будет исправить, чтобы результаты были верные.</div> \n",
    "    \n",
    "**Ответы на мои комментарии или доработки по моим рекомендациям попрошу выделить каким-нибудь цветом, кроме  перечисленных.**\n",
    "Также я попрошу тебя **не менять, не передвигать и не удалять мои комментарии**, чтобы при последующей проверке мне было проще ориентироваться.\n",
    "    \n",
    "Кроме того, комментарии у меня обозначены как заголовки. Это сбивает содержание, но при последующей проверке я могу снять с них заголовок, если тебе так будет удобнее. При этом они удобны, поскольку ты сразу можешь перейти к ним.   \n",
    "        \n",
    "<hr>\n",
    "    \n",
    "**По проекту:** работа выполнена очень хорошо. Функции написаны верно, группировки и сортировки применены правильно. Код чистый, проверять приятно. У меня есть некоторые замечания, я все обозначила в комментариях. Там же я оставила рекомендации по улучшению проекта. Буду ждать работу на повторное ревью.\n",
    "    \n",
    "<hr style=\"border-top: 3px solid purple; \"></hr>\n",
    "Комментарии можешь оставлять с помощью такого кода в Markdown ячейке:\n",
    "    \n",
    "    \n",
    "    <div class=\"alert alert-info\">\n",
    "    <h2> Комментарий студента</h2>\n",
    "\n",
    "    Тут текст.\n",
    "    </div>\n",
    "    \n",
    "    \n",
    "    <font color='red'> Этот код позволяет менять цвет текста. </font>     \n",
    "\n",
    "<font color='red'> Выглядит это так. </font> \n",
    "  \n",
    "   \n",
    "Если не хочешь, чтобы твои комментарии отображались в содержании как заголовки, замени **h2** на **b** или добавь `<a class=\"tocSkip\">` после фразы *Комментарий студента*. \n",
    "\n",
    "\n",
    "\n",
    "О том, как **форматировать текст** в Markdown ячейке или как добавлять ссылки, ты можешь узнать [тут](https://sqlbak.com/blog/jupyter-notebook-markdown-cheatsheet) и [вот тут](https://medium.com/analytics-vidhya/the-ultimate-markdown-guide-for-jupyter-notebook-d5e5abf728fd).\n",
    "</div>"
   ]
  },
  {
   "cell_type": "markdown",
   "metadata": {},
   "source": [
    "<div style=\"border-radius: 15px; border: 3px solid indigo; padding: 15px;\">\n",
    "<b> Комментарий ревьюера 2</b>\n",
    "    \n",
    "Спасибо за корректировки. Оставила новые комментарии с цифрой 2. \n",
    "    \n",
    "    \n",
    "    \n",
    "Небольшая рекомендация на будущее: это вводный проект и поэтому в нем очень много комментариев к коду. Как правило, такого большого количества комментариев не бывает. Комментарии обычно оставляют у сложных фрагментов кода, где без них разобраться очень тяжело. Простые вещи не комментируют. Иначе код в них потеряется.\n",
    "    \n",
    "    \n",
    "Работу я могу принять, поскольку вопросов больше нет. Поздравляю с первым решенным проектом и желаю успехов в дальнейшем обучении :) \n",
    "</div>"
   ]
  },
  {
   "cell_type": "markdown",
   "metadata": {
    "id": "E0vqbgi9ay0H"
   },
   "source": [
    "# Яндекс.Музыка"
   ]
  },
  {
   "cell_type": "markdown",
   "metadata": {
    "id": "VUC88oWjTJw2"
   },
   "source": [
    "Сравнение Москвы и Петербурга окружено мифами. Например:\n",
    " * Москва — мегаполис, подчинённый жёсткому ритму рабочей недели;\n",
    " * Петербург — культурная столица, со своими вкусами.\n",
    "\n",
    "На данных Яндекс.Музыки вы сравните поведение пользователей двух столиц.\n",
    "\n",
    "**Цель исследования** — проверьте три гипотезы:\n",
    "1. Активность пользователей зависит от дня недели. Причём в Москве и Петербурге это проявляется по-разному.\n",
    "2. В понедельник утром в Москве преобладают одни жанры, а в Петербурге — другие. Так же и вечером пятницы преобладают разные жанры — в зависимости от города. \n",
    "3. Москва и Петербург предпочитают разные жанры музыки. В Москве чаще слушают поп-музыку, в Петербурге — русский рэп.\n",
    "\n",
    "**Ход исследования**\n",
    "\n",
    "Данные о поведении пользователей вы получите из файла `yandex_music_project.csv`. О качестве данных ничего не известно. Поэтому перед проверкой гипотез понадобится обзор данных. \n",
    "\n",
    "Вы проверите данные на ошибки и оцените их влияние на исследование. Затем, на этапе предобработки вы поищете возможность исправить самые критичные ошибки данных.\n",
    " \n",
    "Таким образом, исследование пройдёт в три этапа:\n",
    " 1. Обзор данных.\n",
    " 2. Предобработка данных.\n",
    " 3. Проверка гипотез.\n",
    "\n"
   ]
  },
  {
   "cell_type": "markdown",
   "metadata": {},
   "source": [
    "<div class=\"alert alert-success\" style=\"border-radius: 15px; box-shadow: 4px 4px 4px; border: 1px solid \">\n",
    "<h2> Комментарий ревьюера</h2>\n",
    "    \n",
    "Наличие вводной части с описанием данных это хороший тон. Правильно делаешь, что не убираешь ее.</div>"
   ]
  },
  {
   "cell_type": "markdown",
   "metadata": {
    "id": "Ml1hmfXC_Zcs"
   },
   "source": [
    "## Обзор данных\n",
    "\n",
    "Составьте первое представление о данных Яндекс.Музыки.\n",
    "\n",
    "\n"
   ]
  },
  {
   "cell_type": "markdown",
   "metadata": {
    "id": "57eAOGIz_Zcs"
   },
   "source": [
    "Основной инструмент аналитика — `pandas`. Импортируйте эту библиотеку."
   ]
  },
  {
   "cell_type": "code",
   "execution_count": 1,
   "metadata": {
    "id": "AXN7PHPN_Zcs"
   },
   "outputs": [],
   "source": [
    "# импорт библиотеки pandas\n",
    "import pandas as pd"
   ]
  },
  {
   "cell_type": "markdown",
   "metadata": {
    "id": "SG23P8tt_Zcs"
   },
   "source": [
    "Прочитайте файл `yandex_music_project.csv` из папки `/datasets` и сохраните его в переменной `df`:"
   ]
  },
  {
   "cell_type": "code",
   "execution_count": 2,
   "metadata": {
    "id": "fFVu7vqh_Zct"
   },
   "outputs": [],
   "source": [
    "# чтение файла с данными и сохранение в df\n",
    "df = pd.read_csv('/datasets/yandex_music_project.csv')"
   ]
  },
  {
   "cell_type": "markdown",
   "metadata": {},
   "source": [
    "<div class=\"alert alert-success\" style=\"border-radius: 15px; box-shadow: 4px 4px 4px; border: 1px solid \">\n",
    "<h2> Комментарий ревьюера</h2>\n",
    "    \n",
    "- Хорошо, что используешь именно это сокращение для pandas. Оно является общепринятым сокращением, равно как np для numpy. Это удобно, поскольку ни один программист или аналитик не обходится без поиска информации, чтения документации и даже поиска уже готового или частично готового решения какой-то подзадачи. Также это упрощает работу с чужим кодом, что довольно часто происходит при работе в команде. Кроме того, это экономит время. Например, при копипасте.  \n",
    "    \n",
    "    \n",
    "- Верно указан путь. Слэш в начале важен, про него не стоит забывать.    \n",
    "</div>"
   ]
  },
  {
   "cell_type": "markdown",
   "metadata": {
    "id": "rDoOMd3uTqnZ"
   },
   "source": [
    "Выведите на экран первые десять строк таблицы:"
   ]
  },
  {
   "cell_type": "code",
   "execution_count": 3,
   "metadata": {
    "id": "oWTVX3gW_Zct"
   },
   "outputs": [
    {
     "data": {
      "text/html": [
       "<div>\n",
       "<style scoped>\n",
       "    .dataframe tbody tr th:only-of-type {\n",
       "        vertical-align: middle;\n",
       "    }\n",
       "\n",
       "    .dataframe tbody tr th {\n",
       "        vertical-align: top;\n",
       "    }\n",
       "\n",
       "    .dataframe thead th {\n",
       "        text-align: right;\n",
       "    }\n",
       "</style>\n",
       "<table border=\"1\" class=\"dataframe\">\n",
       "  <thead>\n",
       "    <tr style=\"text-align: right;\">\n",
       "      <th></th>\n",
       "      <th>userID</th>\n",
       "      <th>Track</th>\n",
       "      <th>artist</th>\n",
       "      <th>genre</th>\n",
       "      <th>City</th>\n",
       "      <th>time</th>\n",
       "      <th>Day</th>\n",
       "    </tr>\n",
       "  </thead>\n",
       "  <tbody>\n",
       "    <tr>\n",
       "      <td>0</td>\n",
       "      <td>FFB692EC</td>\n",
       "      <td>Kamigata To Boots</td>\n",
       "      <td>The Mass Missile</td>\n",
       "      <td>rock</td>\n",
       "      <td>Saint-Petersburg</td>\n",
       "      <td>20:28:33</td>\n",
       "      <td>Wednesday</td>\n",
       "    </tr>\n",
       "    <tr>\n",
       "      <td>1</td>\n",
       "      <td>55204538</td>\n",
       "      <td>Delayed Because of Accident</td>\n",
       "      <td>Andreas Rönnberg</td>\n",
       "      <td>rock</td>\n",
       "      <td>Moscow</td>\n",
       "      <td>14:07:09</td>\n",
       "      <td>Friday</td>\n",
       "    </tr>\n",
       "    <tr>\n",
       "      <td>2</td>\n",
       "      <td>20EC38</td>\n",
       "      <td>Funiculì funiculà</td>\n",
       "      <td>Mario Lanza</td>\n",
       "      <td>pop</td>\n",
       "      <td>Saint-Petersburg</td>\n",
       "      <td>20:58:07</td>\n",
       "      <td>Wednesday</td>\n",
       "    </tr>\n",
       "    <tr>\n",
       "      <td>3</td>\n",
       "      <td>A3DD03C9</td>\n",
       "      <td>Dragons in the Sunset</td>\n",
       "      <td>Fire + Ice</td>\n",
       "      <td>folk</td>\n",
       "      <td>Saint-Petersburg</td>\n",
       "      <td>08:37:09</td>\n",
       "      <td>Monday</td>\n",
       "    </tr>\n",
       "    <tr>\n",
       "      <td>4</td>\n",
       "      <td>E2DC1FAE</td>\n",
       "      <td>Soul People</td>\n",
       "      <td>Space Echo</td>\n",
       "      <td>dance</td>\n",
       "      <td>Moscow</td>\n",
       "      <td>08:34:34</td>\n",
       "      <td>Monday</td>\n",
       "    </tr>\n",
       "    <tr>\n",
       "      <td>5</td>\n",
       "      <td>842029A1</td>\n",
       "      <td>Преданная</td>\n",
       "      <td>IMPERVTOR</td>\n",
       "      <td>rusrap</td>\n",
       "      <td>Saint-Petersburg</td>\n",
       "      <td>13:09:41</td>\n",
       "      <td>Friday</td>\n",
       "    </tr>\n",
       "    <tr>\n",
       "      <td>6</td>\n",
       "      <td>4CB90AA5</td>\n",
       "      <td>True</td>\n",
       "      <td>Roman Messer</td>\n",
       "      <td>dance</td>\n",
       "      <td>Moscow</td>\n",
       "      <td>13:00:07</td>\n",
       "      <td>Wednesday</td>\n",
       "    </tr>\n",
       "    <tr>\n",
       "      <td>7</td>\n",
       "      <td>F03E1C1F</td>\n",
       "      <td>Feeling This Way</td>\n",
       "      <td>Polina Griffith</td>\n",
       "      <td>dance</td>\n",
       "      <td>Moscow</td>\n",
       "      <td>20:47:49</td>\n",
       "      <td>Wednesday</td>\n",
       "    </tr>\n",
       "    <tr>\n",
       "      <td>8</td>\n",
       "      <td>8FA1D3BE</td>\n",
       "      <td>И вновь продолжается бой</td>\n",
       "      <td>NaN</td>\n",
       "      <td>ruspop</td>\n",
       "      <td>Moscow</td>\n",
       "      <td>09:17:40</td>\n",
       "      <td>Friday</td>\n",
       "    </tr>\n",
       "    <tr>\n",
       "      <td>9</td>\n",
       "      <td>E772D5C0</td>\n",
       "      <td>Pessimist</td>\n",
       "      <td>NaN</td>\n",
       "      <td>dance</td>\n",
       "      <td>Saint-Petersburg</td>\n",
       "      <td>21:20:49</td>\n",
       "      <td>Wednesday</td>\n",
       "    </tr>\n",
       "  </tbody>\n",
       "</table>\n",
       "</div>"
      ],
      "text/plain": [
       "     userID                        Track            artist   genre  \\\n",
       "0  FFB692EC            Kamigata To Boots  The Mass Missile    rock   \n",
       "1  55204538  Delayed Because of Accident  Andreas Rönnberg    rock   \n",
       "2    20EC38            Funiculì funiculà       Mario Lanza     pop   \n",
       "3  A3DD03C9        Dragons in the Sunset        Fire + Ice    folk   \n",
       "4  E2DC1FAE                  Soul People        Space Echo   dance   \n",
       "5  842029A1                    Преданная         IMPERVTOR  rusrap   \n",
       "6  4CB90AA5                         True      Roman Messer   dance   \n",
       "7  F03E1C1F             Feeling This Way   Polina Griffith   dance   \n",
       "8  8FA1D3BE     И вновь продолжается бой               NaN  ruspop   \n",
       "9  E772D5C0                    Pessimist               NaN   dance   \n",
       "\n",
       "             City        time        Day  \n",
       "0  Saint-Petersburg  20:28:33  Wednesday  \n",
       "1            Moscow  14:07:09     Friday  \n",
       "2  Saint-Petersburg  20:58:07  Wednesday  \n",
       "3  Saint-Petersburg  08:37:09     Monday  \n",
       "4            Moscow  08:34:34     Monday  \n",
       "5  Saint-Petersburg  13:09:41     Friday  \n",
       "6            Moscow  13:00:07  Wednesday  \n",
       "7            Moscow  20:47:49  Wednesday  \n",
       "8            Moscow  09:17:40     Friday  \n",
       "9  Saint-Petersburg  21:20:49  Wednesday  "
      ]
     },
     "execution_count": 3,
     "metadata": {},
     "output_type": "execute_result"
    }
   ],
   "source": [
    "# получение первых 10 строк таблицы df\n",
    "# ПРЕДЫДУЩАЯ ВЕРСИЯ КОДА СТУДЕНТА display(df.head(10))\n",
    "# НОВАЯ ВЕРСИЯ КОДА СТУДЕНТА\n",
    "df.head(10)\n"
   ]
  },
  {
   "cell_type": "markdown",
   "metadata": {},
   "source": [
    "<div class=\"alert alert-success\" style=\"border-radius: 15px; box-shadow: 4px 4px 4px; border: 1px solid \">\n",
    "<h2> Комментарий ревьюера</h2>\n",
    "    \n",
    "Правильно делаешь, что  используешь метод **display**. Обрати внимание на то, что команда на вывод в ячейке одна, поэтому можно сразу писать ```df.head(10)```. Другое дело, когда у нас несколько таблиц выводится в одной ячейке. Тут без **display** не обойтись, поскольку отработает только последний вывод:\n",
    "</div>"
   ]
  },
  {
   "cell_type": "markdown",
   "metadata": {},
   "source": [
    "<div class=\"alert alert-info\">\n",
    "<h2> Комментарий студента</h2>\n",
    "\n",
    "Света, привет! Спасибо за идею, я тоже поклонник минимизации затрат, поэтому с удовольствием воспользуюсь сокращенной формулой во всей своей работе. Я пока не разобрался, как можно красить изменения в коде цветом (может быть ты подскажешь), поэтому буду отмечать их так # НОВАЯ ВЕРСИЯ КОДА СТУДЕНТА\n",
    "</div>"
   ]
  },
  {
   "cell_type": "markdown",
   "metadata": {},
   "source": [
    "<div class=\"alert alert-success\" style=\"border-radius: 15px; box-shadow: 4px 4px 4px; border: 1px solid \">\n",
    "<h2> Комментарий ревьюера 2</h2>\n",
    "    \n",
    "В коде цветом не выделить :)</div>"
   ]
  },
  {
   "cell_type": "code",
   "execution_count": 4,
   "metadata": {},
   "outputs": [
    {
     "data": {
      "text/html": [
       "<div>\n",
       "<style scoped>\n",
       "    .dataframe tbody tr th:only-of-type {\n",
       "        vertical-align: middle;\n",
       "    }\n",
       "\n",
       "    .dataframe tbody tr th {\n",
       "        vertical-align: top;\n",
       "    }\n",
       "\n",
       "    .dataframe thead th {\n",
       "        text-align: right;\n",
       "    }\n",
       "</style>\n",
       "<table border=\"1\" class=\"dataframe\">\n",
       "  <thead>\n",
       "    <tr style=\"text-align: right;\">\n",
       "      <th></th>\n",
       "      <th>userID</th>\n",
       "      <th>Track</th>\n",
       "      <th>artist</th>\n",
       "      <th>genre</th>\n",
       "      <th>City</th>\n",
       "      <th>time</th>\n",
       "      <th>Day</th>\n",
       "    </tr>\n",
       "  </thead>\n",
       "  <tbody>\n",
       "    <tr>\n",
       "      <td>0</td>\n",
       "      <td>FFB692EC</td>\n",
       "      <td>Kamigata To Boots</td>\n",
       "      <td>The Mass Missile</td>\n",
       "      <td>rock</td>\n",
       "      <td>Saint-Petersburg</td>\n",
       "      <td>20:28:33</td>\n",
       "      <td>Wednesday</td>\n",
       "    </tr>\n",
       "    <tr>\n",
       "      <td>1</td>\n",
       "      <td>55204538</td>\n",
       "      <td>Delayed Because of Accident</td>\n",
       "      <td>Andreas Rönnberg</td>\n",
       "      <td>rock</td>\n",
       "      <td>Moscow</td>\n",
       "      <td>14:07:09</td>\n",
       "      <td>Friday</td>\n",
       "    </tr>\n",
       "  </tbody>\n",
       "</table>\n",
       "</div>"
      ],
      "text/plain": [
       "     userID                        Track            artist genre  \\\n",
       "0  FFB692EC            Kamigata To Boots  The Mass Missile  rock   \n",
       "1  55204538  Delayed Because of Accident  Andreas Rönnberg  rock   \n",
       "\n",
       "             City        time        Day  \n",
       "0  Saint-Petersburg  20:28:33  Wednesday  \n",
       "1            Moscow  14:07:09     Friday  "
      ]
     },
     "execution_count": 4,
     "metadata": {},
     "output_type": "execute_result"
    }
   ],
   "source": [
    "# КОД РЕВЬЮЕРА\n",
    "\n",
    "df.head(10)\n",
    "df.head(6)\n",
    "df.head(2)"
   ]
  },
  {
   "cell_type": "markdown",
   "metadata": {
    "id": "EO73Kwic_Zct"
   },
   "source": [
    "Одной командой получить общую информацию о таблице:"
   ]
  },
  {
   "cell_type": "code",
   "execution_count": 5,
   "metadata": {
    "id": "DSf2kIb-_Zct"
   },
   "outputs": [
    {
     "name": "stdout",
     "output_type": "stream",
     "text": [
      "<class 'pandas.core.frame.DataFrame'>\n",
      "RangeIndex: 65079 entries, 0 to 65078\n",
      "Data columns (total 7 columns):\n",
      "  userID    65079 non-null object\n",
      "Track       63848 non-null object\n",
      "artist      57876 non-null object\n",
      "genre       63881 non-null object\n",
      "  City      65079 non-null object\n",
      "time        65079 non-null object\n",
      "Day         65079 non-null object\n",
      "dtypes: object(7)\n",
      "memory usage: 3.5+ MB\n"
     ]
    }
   ],
   "source": [
    "# получение общей информации о данных в таблице df\n",
    "# ПРЕДЫДУЩАЯ ВЕРСИЯ КОДА СТУДЕНТА  #print(df.info())\n",
    "# НОВАЯ ВЕРСИЯ КОДА СТУДЕНТА\n",
    "df.info()"
   ]
  },
  {
   "cell_type": "markdown",
   "metadata": {
    "id": "TaQ2Iwbr_Zct"
   },
   "source": [
    "Итак, в таблице семь столбцов. Тип данных во всех столбцах — `object`.\n",
    "\n",
    "Согласно документации к данным:\n",
    "* `userID` — идентификатор пользователя;\n",
    "* `Track` — название трека;  \n",
    "* `artist` — имя исполнителя;\n",
    "* `genre` — название жанра;\n",
    "* `City` — город пользователя;\n",
    "* `time` — время начала прослушивания;\n",
    "* `Day` — день недели.\n",
    "\n",
    "В названиях колонок видны три нарушения стиля:\n",
    "1. Строчные буквы сочетаются с прописными.\n",
    "2. Встречаются пробелы.\n",
    "3. Найдите ещё одну проблему в названии колонок и опишите её в этом пункте.\n",
    "   Названия некоторых столбцов неоднозначны сопоставимы с содержанием: \n",
    " - \"Track\" может означать как название трека, так и его порядковый номер;\n",
    " - \"time\" может значить любое значение, измеряемое временем - длительность трека, сколько времени его слушал пользователь или же как в документации время начала прослушивания; \n",
    " - \"Day\" может скрывать как день недели, так и дату \n",
    "\n",
    "\n",
    "Количество значений в столбцах различается. Значит, в данных есть пропущенные значения.\n"
   ]
  },
  {
   "cell_type": "markdown",
   "metadata": {},
   "source": [
    "<div class=\"alert alert-success\" style=\"border-radius: 15px; box-shadow: 4px 4px 4px; border: 1px solid \">\n",
    "<h2> Комментарий ревьюера </h2>\n",
    "    \n",
    "Верно, именно поэтому любой набор данных сопровождается документацией. Кроме того, лучше использовать нижние подчеркивания. Это сейчас может показаться ерундой, но, поверь, когда читаешь на гитхабе чей-то код или исходный код какой-нибудь библиотеки, а там огромное число трудночитаемых переменных, устаешь просто моментально. Поэтому есть общепринятый стиль, который упрощает чтение кода. Всякий программист или аналитик вынужден читать чужой код. Либо чтобы подсмотреть реализацию той или иной идеи, либо чтобы разобраться в том, как методы работают в той или иной библиотеке, либо работая в команде. \n",
    "</div>"
   ]
  },
  {
   "cell_type": "markdown",
   "metadata": {
    "id": "MCB6-dXG_Zct"
   },
   "source": [
    "**Выводы**\n",
    "\n",
    "В каждой строке таблицы — данные о прослушанном треке. Часть колонок описывает саму композицию: название, исполнителя и жанр. Остальные данные рассказывают о пользователе: из какого он города, когда он слушал музыку. \n",
    "\n",
    "Предварительно можно утверждать, что, данных достаточно для проверки гипотез. Но встречаются пропуски в данных, а в названиях колонок — расхождения с хорошим стилем.\n",
    "\n",
    "Чтобы двигаться дальше, нужно устранить проблемы в данных."
   ]
  },
  {
   "cell_type": "markdown",
   "metadata": {},
   "source": [
    "<div class=\"alert alert-success\" style=\"border-radius: 15px; box-shadow: 4px 4px 4px; border: 1px solid \">\n",
    "<h2> Комментарий ревьюера</h2>\n",
    "    \n",
    "Предварительная оценка это неотъемлемая часть работы с данными. В следующих работах тоже не стоит забывать про промежуточные выводы.\n",
    "</div>"
   ]
  },
  {
   "cell_type": "markdown",
   "metadata": {
    "id": "SjYF6Ub9_Zct"
   },
   "source": [
    "## Предобработка данных\n",
    "Исправьте стиль в заголовках столбцов, исключите пропуски. Затем проверьте данные на дубликаты."
   ]
  },
  {
   "cell_type": "markdown",
   "metadata": {
    "id": "dIaKXr29_Zct"
   },
   "source": [
    "### Стиль заголовков\n",
    "Выведите на экран названия столбцов:"
   ]
  },
  {
   "cell_type": "code",
   "execution_count": 6,
   "metadata": {
    "id": "oKOTdF_Q_Zct"
   },
   "outputs": [
    {
     "data": {
      "text/plain": [
       "Index(['  userID', 'Track', 'artist', 'genre', '  City  ', 'time', 'Day'], dtype='object')"
      ]
     },
     "execution_count": 6,
     "metadata": {},
     "output_type": "execute_result"
    }
   ],
   "source": [
    "# перечень названий столбцов таблицы df\n",
    "# ПРЕДЫДУЩАЯ ВЕРСИЯ КОДА СТУДЕНТА print(df.columns)\n",
    "# НОВАЯ ВЕРСИЯ КОДА СТУДЕНТА\n",
    "df.columns"
   ]
  },
  {
   "cell_type": "markdown",
   "metadata": {
    "id": "zj5534cv_Zct"
   },
   "source": [
    "Приведите названия в соответствие с хорошим стилем:\n",
    "* несколько слов в названии запишите в «змеином_регистре»,\n",
    "* все символы сделайте строчными,\n",
    "* устраните пробелы.\n",
    "\n",
    "Для этого переименуйте колонки так:\n",
    "* `'  userID'` → `'user_id'`;\n",
    "* `'Track'` → `'track'`;\n",
    "* `'  City  '` → `'city'`;\n",
    "* `'Day'` → `'day'`."
   ]
  },
  {
   "cell_type": "code",
   "execution_count": 7,
   "metadata": {
    "id": "ISlFqs5y_Zct"
   },
   "outputs": [],
   "source": [
    "# переименование столбцов\n",
    "df = df.rename(columns={'  userID': 'user_id', 'Track': 'track', '  City  ': 'city', 'Day': 'day'})"
   ]
  },
  {
   "cell_type": "markdown",
   "metadata": {
    "id": "1dqbh00J_Zct"
   },
   "source": [
    "Проверьте результат. Для этого ещё раз выведите на экран названия столбцов:"
   ]
  },
  {
   "cell_type": "code",
   "execution_count": 8,
   "metadata": {
    "id": "d4NOAmTW_Zct"
   },
   "outputs": [
    {
     "data": {
      "text/plain": [
       "Index(['user_id', 'track', 'artist', 'genre', 'city', 'time', 'day'], dtype='object')"
      ]
     },
     "execution_count": 8,
     "metadata": {},
     "output_type": "execute_result"
    }
   ],
   "source": [
    "# проверка результатов - перечень названий столбцов\n",
    "# ПРЕДЫДУЩАЯ ВЕРСИЯ КОДА СТУДЕНТА print(df.columns)\n",
    "# НОВАЯ ВЕРСИЯ КОДА СТУДЕНТА\n",
    "df.columns"
   ]
  },
  {
   "cell_type": "markdown",
   "metadata": {
    "id": "5ISfbcfY_Zct"
   },
   "source": [
    "### Пропуски значений\n",
    "Сначала посчитайте, сколько в таблице пропущенных значений. Для этого достаточно двух методов `pandas`:"
   ]
  },
  {
   "cell_type": "code",
   "execution_count": 9,
   "metadata": {
    "id": "RskX29qr_Zct"
   },
   "outputs": [
    {
     "data": {
      "text/plain": [
       "user_id       0\n",
       "track      1231\n",
       "artist     7203\n",
       "genre      1198\n",
       "city          0\n",
       "time          0\n",
       "day           0\n",
       "dtype: int64"
      ]
     },
     "execution_count": 9,
     "metadata": {},
     "output_type": "execute_result"
    }
   ],
   "source": [
    "# подсчёт пропусков\n",
    "# ПРЕДЫДУЩАЯ ВЕРСИЯ КОДА СТУДЕНТА print(df.isna().sum())\n",
    "# НОВАЯ ВЕРСИЯ КОДА СТУДЕНТА\n",
    "df.isna().sum()"
   ]
  },
  {
   "cell_type": "markdown",
   "metadata": {
    "id": "qubhgnlO_Zct"
   },
   "source": [
    "Не все пропущенные значения влияют на исследование. Так в `track` и `artist` пропуски не важны для вашей работы. Достаточно заменить их явными обозначениями.\n",
    "\n",
    "Но пропуски в `genre` могут помешать сравнению музыкальных вкусов в Москве и Санкт-Петербурге. На практике было бы правильно установить причину пропусков и восстановить данные. Такой возможности нет в учебном проекте. Придётся:\n",
    "* заполнить и эти пропуски явными обозначениями,\n",
    "* оценить, насколько они повредят расчётам. "
   ]
  },
  {
   "cell_type": "markdown",
   "metadata": {
    "id": "fSv2laPA_Zct"
   },
   "source": [
    "Замените пропущенные значения в столбцах `track`, `artist` и `genre` на строку `'unknown'`. Для этого создайте список `columns_to_replace`, переберите его элементы циклом `for` и для каждого столбца выполните замену пропущенных значений:"
   ]
  },
  {
   "cell_type": "code",
   "execution_count": 10,
   "metadata": {
    "id": "KplB5qWs_Zct"
   },
   "outputs": [],
   "source": [
    "# перебор названий столбцов в цикле и замена пропущенных значений на 'unknown'\n",
    "columns_to_replace = [\"track\", \"artist\", \"genre\"]\n",
    "for column in columns_to_replace:\n",
    "    df[column] = df[column].fillna('unknown')"
   ]
  },
  {
   "cell_type": "markdown",
   "metadata": {
    "id": "Ilsm-MZo_Zct"
   },
   "source": [
    "Убедитесь, что в таблице не осталось пропусков. Для этого ещё раз посчитайте пропущенные значения."
   ]
  },
  {
   "cell_type": "code",
   "execution_count": 11,
   "metadata": {
    "id": "Tq4nYRX4_Zct"
   },
   "outputs": [
    {
     "data": {
      "text/plain": [
       "user_id    0\n",
       "track      0\n",
       "artist     0\n",
       "genre      0\n",
       "city       0\n",
       "time       0\n",
       "day        0\n",
       "dtype: int64"
      ]
     },
     "execution_count": 11,
     "metadata": {},
     "output_type": "execute_result"
    }
   ],
   "source": [
    "# подсчёт пропусков\n",
    "# ПРЕДЫДУЩАЯ ВЕРСИЯ КОДА СТУДЕНТА print(df.isna().sum())\n",
    "# НОВАЯ ВЕРСИЯ КОДА СТУДЕНТА\n",
    "df.isna().sum()"
   ]
  },
  {
   "cell_type": "markdown",
   "metadata": {
    "id": "BWKRtBJ3_Zct"
   },
   "source": [
    "### Дубликаты\n",
    "Посчитайте явные дубликаты в таблице одной командой:"
   ]
  },
  {
   "cell_type": "code",
   "execution_count": 12,
   "metadata": {
    "id": "36eES_S0_Zct"
   },
   "outputs": [
    {
     "data": {
      "text/plain": [
       "3826"
      ]
     },
     "execution_count": 12,
     "metadata": {},
     "output_type": "execute_result"
    }
   ],
   "source": [
    "# подсчёт явных дубликатов\n",
    "# ПРЕДЫДУЩАЯ ВЕРСИЯ КОДА СТУДЕНТА  print(df.duplicated().sum())\n",
    "# НОВАЯ ВЕРСИЯ КОДА СТУДЕНТА\n",
    "df.duplicated().sum()"
   ]
  },
  {
   "cell_type": "markdown",
   "metadata": {
    "id": "Ot25h6XR_Zct"
   },
   "source": [
    "Вызовите специальный метод `pandas`, чтобы удалить явные дубликаты:"
   ]
  },
  {
   "cell_type": "code",
   "execution_count": 13,
   "metadata": {
    "id": "exFHq6tt_Zct"
   },
   "outputs": [],
   "source": [
    "# удаление явных дубликатов (с удалением старых индексов и формированием новых)\n",
    "df = df.drop_duplicates().reset_index(drop=True)"
   ]
  },
  {
   "cell_type": "markdown",
   "metadata": {
    "id": "Im2YwBEG_Zct"
   },
   "source": [
    "Ещё раз посчитайте явные дубликаты в таблице — убедитесь, что полностью от них избавились:"
   ]
  },
  {
   "cell_type": "code",
   "execution_count": 14,
   "metadata": {
    "id": "-8PuNWQ0_Zct"
   },
   "outputs": [
    {
     "data": {
      "text/plain": [
       "0"
      ]
     },
     "execution_count": 14,
     "metadata": {},
     "output_type": "execute_result"
    }
   ],
   "source": [
    "# проверка на отсутствие дубликатов\n",
    "# ПРЕДЫДУЩАЯ ВЕРСИЯ КОДА СТУДЕНТА  print(df.duplicated().sum())\n",
    "# НОВАЯ ВЕРСИЯ КОДА СТУДЕНТА\n",
    "df.duplicated().sum()"
   ]
  },
  {
   "cell_type": "markdown",
   "metadata": {
    "id": "QlFBsxAr_Zct"
   },
   "source": [
    "Теперь избавьтесь от неявных дубликатов в колонке `genre`. Например, название одного и того же жанра может быть записано немного по-разному. Такие ошибки тоже повлияют на результат исследования."
   ]
  },
  {
   "cell_type": "markdown",
   "metadata": {
    "id": "eSjWwsOh_Zct"
   },
   "source": [
    "Выведите на экран список уникальных названий жанров, отсортированный в алфавитном порядке. Для этого:\n",
    "* извлеките нужный столбец датафрейма, \n",
    "* примените к нему метод сортировки,\n",
    "* для отсортированного столбца вызовите метод, который вернёт уникальные значения из столбца."
   ]
  },
  {
   "cell_type": "code",
   "execution_count": 15,
   "metadata": {
    "id": "JIUcqzZN_Zct"
   },
   "outputs": [
    {
     "data": {
      "text/plain": [
       "array(['acid', 'acoustic', 'action', 'adult', 'africa', 'afrikaans',\n",
       "       'alternative', 'alternativepunk', 'ambient', 'americana',\n",
       "       'animated', 'anime', 'arabesk', 'arabic', 'arena',\n",
       "       'argentinetango', 'art', 'audiobook', 'author', 'avantgarde',\n",
       "       'axé', 'baile', 'balkan', 'beats', 'bigroom', 'black', 'bluegrass',\n",
       "       'blues', 'bollywood', 'bossa', 'brazilian', 'breakbeat', 'breaks',\n",
       "       'broadway', 'cantautori', 'cantopop', 'canzone', 'caribbean',\n",
       "       'caucasian', 'celtic', 'chamber', 'chanson', 'children', 'chill',\n",
       "       'chinese', 'choral', 'christian', 'christmas', 'classical',\n",
       "       'classicmetal', 'club', 'colombian', 'comedy', 'conjazz',\n",
       "       'contemporary', 'country', 'cuban', 'dance', 'dancehall',\n",
       "       'dancepop', 'dark', 'death', 'deep', 'deutschrock', 'deutschspr',\n",
       "       'dirty', 'disco', 'dnb', 'documentary', 'downbeat', 'downtempo',\n",
       "       'drum', 'dub', 'dubstep', 'eastern', 'easy', 'electronic',\n",
       "       'electropop', 'emo', 'entehno', 'epicmetal', 'estrada', 'ethnic',\n",
       "       'eurofolk', 'european', 'experimental', 'extrememetal', 'fado',\n",
       "       'fairytail', 'film', 'fitness', 'flamenco', 'folk', 'folklore',\n",
       "       'folkmetal', 'folkrock', 'folktronica', 'forró', 'frankreich',\n",
       "       'französisch', 'french', 'funk', 'future', 'gangsta', 'garage',\n",
       "       'german', 'ghazal', 'gitarre', 'glitch', 'gospel', 'gothic',\n",
       "       'grime', 'grunge', 'gypsy', 'handsup', \"hard'n'heavy\", 'hardcore',\n",
       "       'hardstyle', 'hardtechno', 'hip', 'hip-hop', 'hiphop',\n",
       "       'historisch', 'holiday', 'hop', 'horror', 'house', 'hymn', 'idm',\n",
       "       'independent', 'indian', 'indie', 'indipop', 'industrial',\n",
       "       'inspirational', 'instrumental', 'international', 'irish', 'jam',\n",
       "       'japanese', 'jazz', 'jewish', 'jpop', 'jungle', 'k-pop',\n",
       "       'karadeniz', 'karaoke', 'kayokyoku', 'korean', 'laiko', 'latin',\n",
       "       'latino', 'leftfield', 'local', 'lounge', 'loungeelectronic',\n",
       "       'lovers', 'malaysian', 'mandopop', 'marschmusik', 'meditative',\n",
       "       'mediterranean', 'melodic', 'metal', 'metalcore', 'mexican',\n",
       "       'middle', 'minimal', 'miscellaneous', 'modern', 'mood', 'mpb',\n",
       "       'muslim', 'native', 'neoklassik', 'neue', 'new', 'newage',\n",
       "       'newwave', 'nu', 'nujazz', 'numetal', 'oceania', 'old', 'opera',\n",
       "       'orchestral', 'other', 'piano', 'podcasts', 'pop', 'popdance',\n",
       "       'popelectronic', 'popeurodance', 'poprussian', 'post',\n",
       "       'posthardcore', 'postrock', 'power', 'progmetal', 'progressive',\n",
       "       'psychedelic', 'punjabi', 'punk', 'quebecois', 'ragga', 'ram',\n",
       "       'rancheras', 'rap', 'rave', 'reggae', 'reggaeton', 'regional',\n",
       "       'relax', 'religious', 'retro', 'rhythm', 'rnb', 'rnr', 'rock',\n",
       "       'rockabilly', 'rockalternative', 'rockindie', 'rockother',\n",
       "       'romance', 'roots', 'ruspop', 'rusrap', 'rusrock', 'russian',\n",
       "       'salsa', 'samba', 'scenic', 'schlager', 'self', 'sertanejo',\n",
       "       'shanson', 'shoegazing', 'showtunes', 'singer', 'ska', 'skarock',\n",
       "       'slow', 'smooth', 'soft', 'soul', 'soulful', 'sound', 'soundtrack',\n",
       "       'southern', 'specialty', 'speech', 'spiritual', 'sport',\n",
       "       'stonerrock', 'surf', 'swing', 'synthpop', 'synthrock',\n",
       "       'sängerportrait', 'tango', 'tanzorchester', 'taraftar', 'tatar',\n",
       "       'tech', 'techno', 'teen', 'thrash', 'top', 'traditional',\n",
       "       'tradjazz', 'trance', 'tribal', 'trip', 'triphop', 'tropical',\n",
       "       'türk', 'türkçe', 'ukrrock', 'unknown', 'urban', 'uzbek',\n",
       "       'variété', 'vi', 'videogame', 'vocal', 'western', 'world',\n",
       "       'worldbeat', 'ïîï', 'электроника'], dtype=object)"
      ]
     },
     "execution_count": 15,
     "metadata": {},
     "output_type": "execute_result"
    }
   ],
   "source": [
    "# Просмотр уникальных названий жанров\n",
    "df = df.sort_values(by='genre', ascending=True)\n",
    "# ПРЕДЫДУЩАЯ ВЕРСИЯ КОДА СТУДЕНТА  print(df['genre'].unique())\n",
    "# НОВАЯ ВЕРСИЯ КОДА СТУДЕНТА \n",
    "df['genre'].unique()"
   ]
  },
  {
   "cell_type": "markdown",
   "metadata": {
    "id": "qej-Qmuo_Zct"
   },
   "source": [
    "Просмотрите список и найдите неявные дубликаты названия `hiphop`. Это могут быть названия с ошибками или альтернативные названия того же жанра.\n",
    "\n",
    "Вы увидите следующие неявные дубликаты:\n",
    "* *hip*,\n",
    "* *hop*,\n",
    "* *hip-hop*.\n",
    "\n",
    "Чтобы очистить от них таблицу, напишите функцию `replace_wrong_genres()` с двумя параметрами: \n",
    "* `wrong_genres` — список дубликатов,\n",
    "* `correct_genre` — строка с правильным значением.\n",
    "\n",
    "Функция должна исправить колонку `genre` в таблице `df`: заменить каждое значение из списка `wrong_genres` на значение из `correct_genre`."
   ]
  },
  {
   "cell_type": "code",
   "execution_count": 16,
   "metadata": {
    "id": "ErNDkmns_Zct"
   },
   "outputs": [],
   "source": [
    "# Функция для замены неявных дубликатов\n",
    "# ПРЕДЫДУЩАЯ ВЕРСИЯ КОДА СТУДЕНТА \n",
    "#def replace_wrong_genres(wrong_genres,correct_genre):\n",
    "     #for wrong_genre in wrong_genres:\n",
    "        #df['genre'] = df['genre'].replace(wrong_genres, correct_genre)\n",
    "# НОВАЯ ВЕРСИЯ КОДА СТУДЕНТА\n",
    "def replace_wrong_genres(wrong_genres,correct_genre):\n",
    "        df['genre'] = df['genre'].replace(wrong_genres, correct_genre)"
   ]
  },
  {
   "cell_type": "markdown",
   "metadata": {},
   "source": [
    "<div class=\"alert alert-danger\" style=\"border-radius: 15px; box-shadow: 4px 4px 4px; border: 1px solid \">\n",
    "<b> Комментарий ревьюера</b>\n",
    "    \n",
    "Обращаю твое внимание на то, что циклическая переменная **wrong_genre** в результате нигде не используется. Она ведь нам тут нужна для чего-то?  </div>\n",
    "<div class=\"alert alert-success\" style=\"border-radius: 15px; box-shadow: 4px 4px 4px; border: 1px solid \">\n",
    "<h2> Комментарий ревьюера 2</h2>\n",
    "    \n",
    "Верно мыслишь, эти манипуяции можно произвести без цикла. Хотя тогда и функция не потребуется. Ты верно делаешь, что следуешь ТЗ, но я хочу показать более лаконичный вариант.  Для этого нам понадобится список и все тот же метод **replace**.   Выглядеть это будет так:\n",
    "    \n",
    "    \n",
    "    wrong_genres = ['hip', 'hop', 'hip-hop']\n",
    "    correct_genre = 'hiphop'  \n",
    "\n",
    "    df['genre'] = df['genre'].replace(wrong_genres, correct_genre)\n",
    "    \n",
    "    \n",
    "Или, что то же самое:\n",
    "    \n",
    "    \n",
    "    df['genre'] = df['genre'].replace(['hip', 'hop', 'hip-hop'], 'hiphop')\n",
    "    \n",
    "    \n",
    "    \n",
    "Т.е. аргументом у replace может быть список.     \n",
    "</div>"
   ]
  },
  {
   "cell_type": "markdown",
   "metadata": {},
   "source": [
    "<div class=\"alert alert-info\">\n",
    "<h2> Комментарий студента</h2>\n",
    "\n",
    "Абсолютно согласен, циклическая переменная здесь лишняя, можно спокойно обойтись без нее\n",
    "</div>\n",
    "\n"
   ]
  },
  {
   "cell_type": "markdown",
   "metadata": {
    "id": "aDoBJxbA_Zct"
   },
   "source": [
    "Вызовите `replace_wrong_genres()` и передайте ей такие аргументы, чтобы она устранила неявные дубликаты: вместо `hip`, `hop` и `hip-hop` в таблице должно быть значение `hiphop`:"
   ]
  },
  {
   "cell_type": "code",
   "execution_count": 17,
   "metadata": {
    "id": "YN5i2hpmSo09"
   },
   "outputs": [],
   "source": [
    "# Устранение неявных дубликатов\n",
    "wrong_genres = [\"hip\",\"hop\",\"hip-hop\"]\n",
    "correct_genre = 'hiphop'\n",
    "replace_wrong_genres(wrong_genres,correct_genre)\n",
    "# Устранение еще одного неявного дубликата \n",
    "df['genre'] = df['genre'].replace('электроника', 'electronic')"
   ]
  },
  {
   "cell_type": "markdown",
   "metadata": {
    "id": "zQKF16_RG15m"
   },
   "source": [
    "Проверьте, что заменили неправильные названия:\n",
    "\n",
    "*   hip\n",
    "*   hop\n",
    "*   hip-hop\n",
    "\n",
    "Выведите отсортированный список уникальных значений столбца `genre`:"
   ]
  },
  {
   "cell_type": "code",
   "execution_count": 18,
   "metadata": {
    "id": "wvixALnFG15m"
   },
   "outputs": [
    {
     "data": {
      "text/plain": [
       "array(['acid', 'acoustic', 'action', 'adult', 'africa', 'afrikaans',\n",
       "       'alternative', 'alternativepunk', 'ambient', 'americana',\n",
       "       'animated', 'anime', 'arabesk', 'arabic', 'arena',\n",
       "       'argentinetango', 'art', 'audiobook', 'author', 'avantgarde',\n",
       "       'axé', 'baile', 'balkan', 'beats', 'bigroom', 'black', 'bluegrass',\n",
       "       'blues', 'bollywood', 'bossa', 'brazilian', 'breakbeat', 'breaks',\n",
       "       'broadway', 'cantautori', 'cantopop', 'canzone', 'caribbean',\n",
       "       'caucasian', 'celtic', 'chamber', 'chanson', 'children', 'chill',\n",
       "       'chinese', 'choral', 'christian', 'christmas', 'classical',\n",
       "       'classicmetal', 'club', 'colombian', 'comedy', 'conjazz',\n",
       "       'contemporary', 'country', 'cuban', 'dance', 'dancehall',\n",
       "       'dancepop', 'dark', 'death', 'deep', 'deutschrock', 'deutschspr',\n",
       "       'dirty', 'disco', 'dnb', 'documentary', 'downbeat', 'downtempo',\n",
       "       'drum', 'dub', 'dubstep', 'eastern', 'easy', 'electronic',\n",
       "       'electropop', 'emo', 'entehno', 'epicmetal', 'estrada', 'ethnic',\n",
       "       'eurofolk', 'european', 'experimental', 'extrememetal', 'fado',\n",
       "       'fairytail', 'film', 'fitness', 'flamenco', 'folk', 'folklore',\n",
       "       'folkmetal', 'folkrock', 'folktronica', 'forró', 'frankreich',\n",
       "       'französisch', 'french', 'funk', 'future', 'gangsta', 'garage',\n",
       "       'german', 'ghazal', 'gitarre', 'glitch', 'gospel', 'gothic',\n",
       "       'grime', 'grunge', 'gypsy', 'handsup', \"hard'n'heavy\", 'hardcore',\n",
       "       'hardstyle', 'hardtechno', 'hiphop', 'historisch', 'holiday',\n",
       "       'horror', 'house', 'hymn', 'idm', 'independent', 'indian', 'indie',\n",
       "       'indipop', 'industrial', 'inspirational', 'instrumental',\n",
       "       'international', 'irish', 'jam', 'japanese', 'jazz', 'jewish',\n",
       "       'jpop', 'jungle', 'k-pop', 'karadeniz', 'karaoke', 'kayokyoku',\n",
       "       'korean', 'laiko', 'latin', 'latino', 'leftfield', 'local',\n",
       "       'lounge', 'loungeelectronic', 'lovers', 'malaysian', 'mandopop',\n",
       "       'marschmusik', 'meditative', 'mediterranean', 'melodic', 'metal',\n",
       "       'metalcore', 'mexican', 'middle', 'minimal', 'miscellaneous',\n",
       "       'modern', 'mood', 'mpb', 'muslim', 'native', 'neoklassik', 'neue',\n",
       "       'new', 'newage', 'newwave', 'nu', 'nujazz', 'numetal', 'oceania',\n",
       "       'old', 'opera', 'orchestral', 'other', 'piano', 'podcasts', 'pop',\n",
       "       'popdance', 'popelectronic', 'popeurodance', 'poprussian', 'post',\n",
       "       'posthardcore', 'postrock', 'power', 'progmetal', 'progressive',\n",
       "       'psychedelic', 'punjabi', 'punk', 'quebecois', 'ragga', 'ram',\n",
       "       'rancheras', 'rap', 'rave', 'reggae', 'reggaeton', 'regional',\n",
       "       'relax', 'religious', 'retro', 'rhythm', 'rnb', 'rnr', 'rock',\n",
       "       'rockabilly', 'rockalternative', 'rockindie', 'rockother',\n",
       "       'romance', 'roots', 'ruspop', 'rusrap', 'rusrock', 'russian',\n",
       "       'salsa', 'samba', 'scenic', 'schlager', 'self', 'sertanejo',\n",
       "       'shanson', 'shoegazing', 'showtunes', 'singer', 'ska', 'skarock',\n",
       "       'slow', 'smooth', 'soft', 'soul', 'soulful', 'sound', 'soundtrack',\n",
       "       'southern', 'specialty', 'speech', 'spiritual', 'sport',\n",
       "       'stonerrock', 'surf', 'swing', 'synthpop', 'synthrock',\n",
       "       'sängerportrait', 'tango', 'tanzorchester', 'taraftar', 'tatar',\n",
       "       'tech', 'techno', 'teen', 'thrash', 'top', 'traditional',\n",
       "       'tradjazz', 'trance', 'tribal', 'trip', 'triphop', 'tropical',\n",
       "       'türk', 'türkçe', 'ukrrock', 'unknown', 'urban', 'uzbek',\n",
       "       'variété', 'vi', 'videogame', 'vocal', 'western', 'world',\n",
       "       'worldbeat', 'ïîï'], dtype=object)"
      ]
     },
     "execution_count": 18,
     "metadata": {},
     "output_type": "execute_result"
    }
   ],
   "source": [
    "# Проверка на неявные дубликаты\n",
    "df = df.sort_values(by='genre', ascending=True)\n",
    "# ПРЕДЫДУЩАЯ ВЕРСИЯ КОДА СТУДЕНТА  print(df['genre'].unique())\n",
    "# НОВАЯ ВЕРСИЯ КОДА СТУДЕНТА \n",
    "df['genre'].unique()"
   ]
  },
  {
   "cell_type": "markdown",
   "metadata": {
    "id": "jz6a9-7HQUDd"
   },
   "source": [
    "**Выводы**\n",
    "\n",
    "Предобработка обнаружила три проблемы в данных:\n",
    "\n",
    "- нарушения в стиле заголовков,\n",
    "- пропущенные значения,\n",
    "- дубликаты — явные и неявные.\n",
    "\n",
    "Вы исправили заголовки, чтобы упростить работу с таблицей. Без дубликатов исследование станет более точным.\n",
    "\n",
    "Пропущенные значения вы заменили на `'unknown'`. Ещё предстоит увидеть, не повредят ли исследованию пропуски в колонке `genre`.\n",
    "\n",
    "Теперь можно перейти к проверке гипотез. "
   ]
  },
  {
   "cell_type": "markdown",
   "metadata": {
    "id": "WttZHXH0SqKk"
   },
   "source": [
    "## Проверка гипотез"
   ]
  },
  {
   "cell_type": "markdown",
   "metadata": {
    "id": "Im936VVi_Zcu"
   },
   "source": [
    "### Сравнение поведения пользователей двух столиц"
   ]
  },
  {
   "cell_type": "markdown",
   "metadata": {
    "id": "nwt_MuaL_Zcu"
   },
   "source": [
    "Первая гипотеза утверждает, что пользователи по-разному слушают музыку в Москве и Санкт-Петербурге. Проверьте это предположение по данным о трёх днях недели — понедельнике, среде и пятнице. Для этого:\n",
    "\n",
    "* Разделите пользователей Москвы и Санкт-Петербурга\n",
    "* Сравните, сколько треков послушала каждая группа пользователей в понедельник, среду и пятницу.\n"
   ]
  },
  {
   "cell_type": "markdown",
   "metadata": {
    "id": "8Dw_YMmT_Zcu"
   },
   "source": [
    "Для тренировки сначала выполните каждый из расчётов по отдельности. \n",
    "\n",
    "Оцените активность пользователей в каждом городе. Сгруппируйте данные по городу и посчитайте прослушивания в каждой группе.\n",
    "\n"
   ]
  },
  {
   "cell_type": "code",
   "execution_count": 19,
   "metadata": {
    "id": "0_Qs96oh_Zcu"
   },
   "outputs": [
    {
     "data": {
      "text/html": [
       "<div>\n",
       "<style scoped>\n",
       "    .dataframe tbody tr th:only-of-type {\n",
       "        vertical-align: middle;\n",
       "    }\n",
       "\n",
       "    .dataframe tbody tr th {\n",
       "        vertical-align: top;\n",
       "    }\n",
       "\n",
       "    .dataframe thead th {\n",
       "        text-align: right;\n",
       "    }\n",
       "</style>\n",
       "<table border=\"1\" class=\"dataframe\">\n",
       "  <thead>\n",
       "    <tr style=\"text-align: right;\">\n",
       "      <th></th>\n",
       "      <th>genre</th>\n",
       "    </tr>\n",
       "    <tr>\n",
       "      <th>city</th>\n",
       "      <th></th>\n",
       "    </tr>\n",
       "  </thead>\n",
       "  <tbody>\n",
       "    <tr>\n",
       "      <td>Moscow</td>\n",
       "      <td>42741</td>\n",
       "    </tr>\n",
       "    <tr>\n",
       "      <td>Saint-Petersburg</td>\n",
       "      <td>18512</td>\n",
       "    </tr>\n",
       "  </tbody>\n",
       "</table>\n",
       "</div>"
      ],
      "text/plain": [
       "                  genre\n",
       "city                   \n",
       "Moscow            42741\n",
       "Saint-Petersburg  18512"
      ]
     },
     "execution_count": 19,
     "metadata": {},
     "output_type": "execute_result"
    }
   ],
   "source": [
    "# Подсчёт прослушиваний в каждом городе\n",
    "# ПРЕДЫДУЩАЯ ВЕРСИЯ КОДА СТУДЕНТА print(df.groupby('city')['genre'].count())\n",
    "# НОВАЯ ВЕРСИЯ КОДА СТУДЕНТА \n",
    "df.groupby('city')[['genre']].count()"
   ]
  },
  {
   "cell_type": "markdown",
   "metadata": {
    "id": "dzli3w8o_Zcu"
   },
   "source": [
    "В Москве прослушиваний больше, чем в Петербурге. Из этого не следует, что московские пользователи чаще слушают музыку. Просто самих пользователей в Москве больше.\n",
    "\n",
    "Теперь сгруппируйте данные по дню недели и подсчитайте прослушивания в понедельник, среду и пятницу. Учтите, что в данных есть информация только о прослушиваниях только за эти дни.\n"
   ]
  },
  {
   "cell_type": "code",
   "execution_count": 20,
   "metadata": {
    "id": "uZMKjiJz_Zcu"
   },
   "outputs": [
    {
     "data": {
      "text/html": [
       "<div>\n",
       "<style scoped>\n",
       "    .dataframe tbody tr th:only-of-type {\n",
       "        vertical-align: middle;\n",
       "    }\n",
       "\n",
       "    .dataframe tbody tr th {\n",
       "        vertical-align: top;\n",
       "    }\n",
       "\n",
       "    .dataframe thead th {\n",
       "        text-align: right;\n",
       "    }\n",
       "</style>\n",
       "<table border=\"1\" class=\"dataframe\">\n",
       "  <thead>\n",
       "    <tr style=\"text-align: right;\">\n",
       "      <th></th>\n",
       "      <th>genre</th>\n",
       "    </tr>\n",
       "    <tr>\n",
       "      <th>day</th>\n",
       "      <th></th>\n",
       "    </tr>\n",
       "  </thead>\n",
       "  <tbody>\n",
       "    <tr>\n",
       "      <td>Friday</td>\n",
       "      <td>21840</td>\n",
       "    </tr>\n",
       "    <tr>\n",
       "      <td>Monday</td>\n",
       "      <td>21354</td>\n",
       "    </tr>\n",
       "    <tr>\n",
       "      <td>Wednesday</td>\n",
       "      <td>18059</td>\n",
       "    </tr>\n",
       "  </tbody>\n",
       "</table>\n",
       "</div>"
      ],
      "text/plain": [
       "           genre\n",
       "day             \n",
       "Friday     21840\n",
       "Monday     21354\n",
       "Wednesday  18059"
      ]
     },
     "execution_count": 20,
     "metadata": {},
     "output_type": "execute_result"
    }
   ],
   "source": [
    "# Подсчёт прослушиваний в каждый из трёх дней\n",
    "# ПРЕДЫДУЩАЯ ВЕРСИЯ КОДА СТУДЕНТА display(df.groupby('day')['genre'].count())\n",
    "# НОВАЯ ВЕРСИЯ КОДА СТУДЕНТА\n",
    "df.groupby('day')[['genre']].count()"
   ]
  },
  {
   "cell_type": "markdown",
   "metadata": {},
   "source": [
    "<div class=\"alert alert-success\" style=\"border-radius: 15px; box-shadow: 4px 4px 4px; border: 1px solid \">\n",
    "<h2> Комментарий ревьюера</h2>\n",
    "    \n",
    "Кстати, если тебе не нравится вывод через Series, то можно вывод сделать как таблицу, добавив еще одни скобки:\n",
    "</div>"
   ]
  },
  {
   "cell_type": "markdown",
   "metadata": {},
   "source": [
    "<div class=\"alert alert-info\">\n",
    "<h2> Комментарий студента</h2>\n",
    "\n",
    "В виде таблицы выглядит гораздо лучше, теперь буду делать так.\n",
    "</div>"
   ]
  },
  {
   "cell_type": "code",
   "execution_count": 21,
   "metadata": {},
   "outputs": [
    {
     "data": {
      "text/html": [
       "<div>\n",
       "<style scoped>\n",
       "    .dataframe tbody tr th:only-of-type {\n",
       "        vertical-align: middle;\n",
       "    }\n",
       "\n",
       "    .dataframe tbody tr th {\n",
       "        vertical-align: top;\n",
       "    }\n",
       "\n",
       "    .dataframe thead th {\n",
       "        text-align: right;\n",
       "    }\n",
       "</style>\n",
       "<table border=\"1\" class=\"dataframe\">\n",
       "  <thead>\n",
       "    <tr style=\"text-align: right;\">\n",
       "      <th></th>\n",
       "      <th>user_id</th>\n",
       "    </tr>\n",
       "    <tr>\n",
       "      <th>day</th>\n",
       "      <th></th>\n",
       "    </tr>\n",
       "  </thead>\n",
       "  <tbody>\n",
       "    <tr>\n",
       "      <td>Friday</td>\n",
       "      <td>21840</td>\n",
       "    </tr>\n",
       "    <tr>\n",
       "      <td>Monday</td>\n",
       "      <td>21354</td>\n",
       "    </tr>\n",
       "    <tr>\n",
       "      <td>Wednesday</td>\n",
       "      <td>18059</td>\n",
       "    </tr>\n",
       "  </tbody>\n",
       "</table>\n",
       "</div>"
      ],
      "text/plain": [
       "           user_id\n",
       "day               \n",
       "Friday       21840\n",
       "Monday       21354\n",
       "Wednesday    18059"
      ]
     },
     "execution_count": 21,
     "metadata": {},
     "output_type": "execute_result"
    }
   ],
   "source": [
    "# КОД РЕВЬЮЕРА\n",
    "\n",
    "df.groupby('day')[['user_id']].count()"
   ]
  },
  {
   "cell_type": "markdown",
   "metadata": {
    "id": "cC2tNrlL_Zcu"
   },
   "source": [
    "В среднем пользователи из двух городов менее активны по средам. Но картина может измениться, если рассмотреть каждый город в отдельности."
   ]
  },
  {
   "cell_type": "markdown",
   "metadata": {
    "id": "POzs8bGa_Zcu"
   },
   "source": [
    "Вы видели, как работает группировка по городу и по дням недели. Теперь напишите функцию, которая объединит два эти расчёта.\n",
    "\n",
    "Создайте функцию `number_tracks()`, которая посчитает прослушивания для заданного дня и города. Ей понадобятся два параметра:\n",
    "* день недели,\n",
    "* название города.\n",
    "\n",
    "В функции сохраните в переменную строки исходной таблицы, у которых значение:\n",
    "  * в колонке `day` равно параметру `day`,\n",
    "  * в колонке `city` равно параметру `city`.\n",
    "\n",
    "Для этого примените последовательную фильтрацию с логической индексацией.\n",
    "\n",
    "Затем посчитайте значения в столбце `user_id` получившейся таблицы. Результат сохраните в новую переменную. Верните эту переменную из функции."
   ]
  },
  {
   "cell_type": "code",
   "execution_count": 22,
   "metadata": {
    "id": "Nz3GdQB1_Zcu"
   },
   "outputs": [],
   "source": [
    "# <создание функции number_tracks()>\n",
    "# Объявляется функция с двумя параметрами: day, city.\n",
    "def number_tracks(day,city):\n",
    "# В переменной track_list сохраняются те строки таблицы df, для которых \n",
    "# значение в столбце 'day' равно параметру day и одновременно значение\n",
    "# в столбце 'city' равно параметру city (используйте последовательную фильтрацию\n",
    "# с помощью логической индексации).\n",
    "    track_list = df[(df['day'] == day) & (df['city'] == city)]\n",
    "# В переменной track_list_count сохраняется число значений столбца 'user_id',\n",
    "# рассчитанное методом count() для таблицы track_list.\n",
    "    track_list_count = track_list['user_id'].count()\n",
    "# Функция возвращает число - значение track_list_count.\n",
    "    return track_list_count\n",
    "# Функция для подсчёта прослушиваний для конкретного города и дня.\n",
    "# С помощью последовательной фильтрации с логической индексацией она \n",
    "# сначала получит из исходной таблицы строки с нужным днём,\n",
    "# затем из результата отфильтрует строки с нужным городом,\n",
    "# методом count() посчитает количество значений в колонке user_id. \n",
    "# Это количество функция вернёт в качестве результата"
   ]
  },
  {
   "cell_type": "markdown",
   "metadata": {
    "id": "ytf7xFrFJQ2r"
   },
   "source": [
    "Вызовите `number_tracks()` шесть раз, меняя значение параметров — так, чтобы получить данные для каждого города в каждый из трёх дней."
   ]
  },
  {
   "cell_type": "code",
   "execution_count": 23,
   "metadata": {
    "id": "rJcRATNQ_Zcu"
   },
   "outputs": [
    {
     "data": {
      "text/plain": [
       "15740"
      ]
     },
     "execution_count": 23,
     "metadata": {},
     "output_type": "execute_result"
    }
   ],
   "source": [
    "# количество прослушиваний в Москве по понедельникам\n",
    "number_tracks('Monday', 'Moscow')"
   ]
  },
  {
   "cell_type": "code",
   "execution_count": 24,
   "metadata": {
    "id": "hq_ncZ5T_Zcu"
   },
   "outputs": [
    {
     "data": {
      "text/plain": [
       "5614"
      ]
     },
     "execution_count": 24,
     "metadata": {},
     "output_type": "execute_result"
    }
   ],
   "source": [
    "# количество прослушиваний в Санкт-Петербурге по понедельникам\n",
    "number_tracks('Monday', 'Saint-Petersburg')"
   ]
  },
  {
   "cell_type": "code",
   "execution_count": 25,
   "metadata": {
    "id": "_NTy2VPU_Zcu"
   },
   "outputs": [
    {
     "data": {
      "text/plain": [
       "11056"
      ]
     },
     "execution_count": 25,
     "metadata": {},
     "output_type": "execute_result"
    }
   ],
   "source": [
    "# количество прослушиваний в Москве по средам\n",
    "number_tracks('Wednesday', 'Moscow')"
   ]
  },
  {
   "cell_type": "code",
   "execution_count": 26,
   "metadata": {
    "id": "j2y3TAwo_Zcu"
   },
   "outputs": [
    {
     "data": {
      "text/plain": [
       "7003"
      ]
     },
     "execution_count": 26,
     "metadata": {},
     "output_type": "execute_result"
    }
   ],
   "source": [
    "# количество прослушиваний в Санкт-Петербурге по средам\n",
    "number_tracks('Wednesday', 'Saint-Petersburg')"
   ]
  },
  {
   "cell_type": "code",
   "execution_count": 27,
   "metadata": {
    "id": "vYDw5u_K_Zcu"
   },
   "outputs": [
    {
     "data": {
      "text/plain": [
       "15945"
      ]
     },
     "execution_count": 27,
     "metadata": {},
     "output_type": "execute_result"
    }
   ],
   "source": [
    "# количество прослушиваний в Москве по пятницам\n",
    "number_tracks('Friday', 'Moscow')"
   ]
  },
  {
   "cell_type": "code",
   "execution_count": 28,
   "metadata": {
    "id": "8_yzFtW3_Zcu"
   },
   "outputs": [
    {
     "data": {
      "text/plain": [
       "5895"
      ]
     },
     "execution_count": 28,
     "metadata": {},
     "output_type": "execute_result"
    }
   ],
   "source": [
    "# количество прослушиваний в Санкт-Петербурге по пятницам\n",
    "number_tracks('Friday', 'Saint-Petersburg')"
   ]
  },
  {
   "cell_type": "markdown",
   "metadata": {
    "id": "7QXffbO-_Zcu"
   },
   "source": [
    "Создайте c помощью конструктора `pd.DataFrame` таблицу, где\n",
    "* названия колонок — `['city', 'monday', 'wednesday', 'friday']`;\n",
    "* данные — результаты, которые вы получили с помощью `number_tracks`."
   ]
  },
  {
   "cell_type": "code",
   "execution_count": 29,
   "metadata": {
    "id": "APAcLpOr_Zcu"
   },
   "outputs": [
    {
     "data": {
      "text/html": [
       "<div>\n",
       "<style scoped>\n",
       "    .dataframe tbody tr th:only-of-type {\n",
       "        vertical-align: middle;\n",
       "    }\n",
       "\n",
       "    .dataframe tbody tr th {\n",
       "        vertical-align: top;\n",
       "    }\n",
       "\n",
       "    .dataframe thead th {\n",
       "        text-align: right;\n",
       "    }\n",
       "</style>\n",
       "<table border=\"1\" class=\"dataframe\">\n",
       "  <thead>\n",
       "    <tr style=\"text-align: right;\">\n",
       "      <th></th>\n",
       "      <th>city</th>\n",
       "      <th>monday</th>\n",
       "      <th>wednesday</th>\n",
       "      <th>friday</th>\n",
       "    </tr>\n",
       "  </thead>\n",
       "  <tbody>\n",
       "    <tr>\n",
       "      <td>0</td>\n",
       "      <td>Moscow</td>\n",
       "      <td>15740</td>\n",
       "      <td>11056</td>\n",
       "      <td>15945</td>\n",
       "    </tr>\n",
       "    <tr>\n",
       "      <td>1</td>\n",
       "      <td>Saint-Petersburg</td>\n",
       "      <td>5614</td>\n",
       "      <td>7003</td>\n",
       "      <td>5895</td>\n",
       "    </tr>\n",
       "  </tbody>\n",
       "</table>\n",
       "</div>"
      ],
      "text/plain": [
       "               city  monday  wednesday  friday\n",
       "0            Moscow   15740      11056   15945\n",
       "1  Saint-Petersburg    5614       7003    5895"
      ]
     },
     "execution_count": 29,
     "metadata": {},
     "output_type": "execute_result"
    }
   ],
   "source": [
    "# Таблица с результатами\n",
    "data = [['Moscow', 15740, 11056, 15945],\n",
    "       ['Saint-Petersburg', 5614, 7003, 5895]]\n",
    "columns = ['city', 'monday', 'wednesday', 'friday']\n",
    "\n",
    "table = pd.DataFrame(data=data,columns=columns)\n",
    "# ПРЕДЫДУЩАЯ ВЕРСИЯ КОДА СТУДЕНТА  display(table)\n",
    "# НОВАЯ ВЕРСИЯ КОДА СТУДЕНТА\n",
    "table"
   ]
  },
  {
   "cell_type": "markdown",
   "metadata": {},
   "source": [
    "<div class=\"alert alert-success\" style=\"border-radius: 15px; box-shadow: 4px 4px 4px; border: 1px solid \">\n",
    "<h2> Комментарий ревьюера</h2>\n",
    "    \n",
    "Все значения верные.\n",
    "</div>"
   ]
  },
  {
   "cell_type": "markdown",
   "metadata": {
    "id": "-EgPIHYu_Zcu"
   },
   "source": [
    "**Выводы**\n",
    "\n",
    "Данные показывают разницу поведения пользователей:\n",
    "\n",
    "- В Москве пик прослушиваний приходится на понедельник и пятницу, а в среду заметен спад.\n",
    "- В Петербурге, наоборот, больше слушают музыку по средам. Активность в понедельник и пятницу здесь почти в равной мере уступает среде.\n",
    "\n",
    "Значит, данные говорят в пользу первой гипотезы."
   ]
  },
  {
   "cell_type": "markdown",
   "metadata": {
    "id": "atZAxtq4_Zcu"
   },
   "source": [
    "### Музыка в начале и в конце недели"
   ]
  },
  {
   "cell_type": "markdown",
   "metadata": {
    "id": "eXrQqXFH_Zcu"
   },
   "source": [
    "Согласно второй гипотезе, утром в понедельник в Москве преобладают одни жанры, а в Петербурге — другие. Так же и вечером пятницы преобладают разные жанры — в зависимости от города."
   ]
  },
  {
   "cell_type": "markdown",
   "metadata": {
    "id": "S8UcW6Hw_Zcu"
   },
   "source": [
    "Сохраните таблицы с данными в две переменные:\n",
    "* по Москве — в `moscow_general`;\n",
    "* по Санкт-Петербургу — в `spb_general`."
   ]
  },
  {
   "cell_type": "code",
   "execution_count": 30,
   "metadata": {
    "id": "qeaFfM_P_Zcu"
   },
   "outputs": [],
   "source": [
    "# получение таблицы moscow_general из тех строк таблицы df, \n",
    "# для которых значение в столбце 'city' равно 'Moscow'\n",
    "moscow_general=df[df['city'] == 'Moscow']"
   ]
  },
  {
   "cell_type": "code",
   "execution_count": 31,
   "metadata": {
    "id": "ORaVRKto_Zcu"
   },
   "outputs": [],
   "source": [
    "# получение таблицы spb_general из тех строк таблицы df,\n",
    "# для которых значение в столбце 'city' равно 'Saint-Petersburg'\n",
    "spb_general=df[df['city'] == 'Saint-Petersburg']"
   ]
  },
  {
   "cell_type": "markdown",
   "metadata": {
    "id": "MEJV-CX2_Zcu"
   },
   "source": [
    "Создайте функцию `genre_weekday()` с четырьмя параметрами:\n",
    "* таблица (датафрейм) с данными,\n",
    "* день недели,\n",
    "* начальная временная метка в формате 'hh:mm', \n",
    "* последняя временная метка в формате 'hh:mm'.\n",
    "\n",
    "Функция должна вернуть информацию о топ-10 жанров тех треков, которые прослушивали в указанный день, в промежутке между двумя отметками времени."
   ]
  },
  {
   "cell_type": "code",
   "execution_count": 32,
   "metadata": {
    "id": "laJT9BYl_Zcu"
   },
   "outputs": [],
   "source": [
    "# Объявление функции genre_weekday() с параметрами table, day, time1, time2,\n",
    "# которая возвращает информацию о самых популярных жанрах в указанный день в\n",
    "# заданное время:\n",
    "def genre_weekday(df, day, time1, time2):\n",
    "# 1) в переменную genre_df сохраняются те строки переданного датафрейма table, для\n",
    "#    которых одновременно:\n",
    "#    - значение в столбце day равно значению аргумента day\n",
    "#    - значение в столбце time больше значения аргумента time1\n",
    "#    - значение в столбце time меньше значения аргумента time2\n",
    "#    Используйте последовательную фильтрацию с помощью логической индексации.\n",
    "    genre_df = df[(df['day'] == day) & (df['time'] > time1) & (df['time'] < time2)]\n",
    "# 2) сгруппировать датафрейм genre_df по столбцу genre, взять один из его\n",
    "#    столбцов и посчитать методом count() количество записей для каждого из\n",
    "#    присутствующих жанров, получившийся Series записать в переменную\n",
    "#    genre_df_count\n",
    "    genre_df_count = genre_df.groupby('genre')['genre'].count()\n",
    "# 3) отсортировать genre_df_count по убыванию встречаемости и сохранить\n",
    "#    в переменную genre_df_sorted\n",
    "    genre_df_sorted = genre_df_count.sort_values(ascending = False)\n",
    "# 4) вернуть Series из 10 первых значений genre_df_sorted, это будут топ-10\n",
    "#    популярных жанров (в указанный день, в заданное время)\n",
    "    display(genre_df_sorted.head(10))"
   ]
  },
  {
   "cell_type": "markdown",
   "metadata": {
    "id": "la2s2_PF_Zcu"
   },
   "source": [
    "Cравните результаты функции `genre_weekday()` для Москвы и Санкт-Петербурга в понедельник утром (с 7:00 до 11:00) и в пятницу вечером (с 17:00 до 23:00):"
   ]
  },
  {
   "cell_type": "code",
   "execution_count": 33,
   "metadata": {
    "id": "yz7itPUQ_Zcu"
   },
   "outputs": [
    {
     "data": {
      "text/plain": [
       "genre\n",
       "pop            781\n",
       "dance          549\n",
       "electronic     480\n",
       "rock           474\n",
       "hiphop         286\n",
       "ruspop         186\n",
       "world          181\n",
       "rusrap         175\n",
       "alternative    164\n",
       "unknown        161\n",
       "Name: genre, dtype: int64"
      ]
     },
     "metadata": {},
     "output_type": "display_data"
    }
   ],
   "source": [
    "# вызов функции для утра понедельника в Москве (вместо df — таблица moscow_general)\n",
    "# объекты, хранящие время, являются строками и сравниваются как строки\n",
    "# пример вызова: genre_weekday(moscow_general, 'Monday', '07:00', '11:00')\n",
    "genre_weekday(moscow_general, 'Monday', '07:00', '11:00')"
   ]
  },
  {
   "cell_type": "code",
   "execution_count": 34,
   "metadata": {
    "id": "kwUcHPdy_Zcu"
   },
   "outputs": [
    {
     "data": {
      "text/plain": [
       "genre\n",
       "pop            218\n",
       "dance          182\n",
       "rock           162\n",
       "electronic     147\n",
       "hiphop          80\n",
       "ruspop          64\n",
       "alternative     58\n",
       "rusrap          55\n",
       "jazz            44\n",
       "classical       40\n",
       "Name: genre, dtype: int64"
      ]
     },
     "metadata": {},
     "output_type": "display_data"
    }
   ],
   "source": [
    "# вызов функции для утра понедельника в Петербурге (вместо df — таблица spb_general)\n",
    "genre_weekday(spb_general, 'Monday', '07:00', '11:00')"
   ]
  },
  {
   "cell_type": "code",
   "execution_count": 35,
   "metadata": {
    "id": "EzXVRE1o_Zcu"
   },
   "outputs": [
    {
     "data": {
      "text/plain": [
       "genre\n",
       "pop            713\n",
       "rock           517\n",
       "dance          495\n",
       "electronic     482\n",
       "hiphop         273\n",
       "world          208\n",
       "ruspop         170\n",
       "alternative    163\n",
       "classical      163\n",
       "rusrap         142\n",
       "Name: genre, dtype: int64"
      ]
     },
     "metadata": {},
     "output_type": "display_data"
    }
   ],
   "source": [
    "# вызов функции для вечера пятницы в Москве\n",
    "genre_weekday(moscow_general, 'Friday', '17:00', '23:00')"
   ]
  },
  {
   "cell_type": "code",
   "execution_count": 36,
   "metadata": {
    "id": "JZaEKu5v_Zcu"
   },
   "outputs": [
    {
     "data": {
      "text/plain": [
       "genre\n",
       "pop            256\n",
       "rock           216\n",
       "electronic     216\n",
       "dance          210\n",
       "hiphop          97\n",
       "alternative     63\n",
       "jazz            61\n",
       "classical       60\n",
       "rusrap          59\n",
       "world           54\n",
       "Name: genre, dtype: int64"
      ]
     },
     "metadata": {},
     "output_type": "display_data"
    }
   ],
   "source": [
    "# вызов функции для вечера пятницы в Петербурге\n",
    "genre_weekday(spb_general, 'Friday', '17:00', '23:00')"
   ]
  },
  {
   "cell_type": "markdown",
   "metadata": {
    "id": "wrCe4MNX_Zcu"
   },
   "source": [
    "**Выводы**\n",
    "\n",
    "Если сравнить топ-10 жанров в понедельник утром, можно сделать такие выводы:\n",
    "\n",
    "1. В Москве и Петербурге слушают похожую музыку. Единственное отличие — в московский рейтинг вошёл жанр “world”, а в петербургский — джаз и классика.\n",
    "\n",
    "2. В Москве пропущенных значений оказалось так много, что значение `'unknown'` заняло десятое место среди самых популярных жанров. Значит, пропущенные значения занимают существенную долю в данных и угрожают достоверности исследования.\n",
    "\n",
    "Вечер пятницы не меняет эту картину. Некоторые жанры поднимаются немного выше, другие спускаются, но в целом топ-10 остаётся тем же самым.\n",
    "\n",
    "Таким образом, вторая гипотеза подтвердилась лишь частично:\n",
    "* Пользователи слушают похожую музыку в начале недели и в конце.\n",
    "* Разница между Москвой и Петербургом не слишком выражена. В Москве чаще слушают русскую популярную музыку, в Петербурге — джаз.\n",
    "\n",
    "Однако пропуски в данных ставят под сомнение этот результат. В Москве их так много, что рейтинг топ-10 мог бы выглядеть иначе, если бы не утерянные  данные о жанрах."
   ]
  },
  {
   "cell_type": "markdown",
   "metadata": {
    "id": "JolODAqr_Zcu"
   },
   "source": [
    "### Жанровые предпочтения в Москве и Петербурге\n",
    "\n",
    "Гипотеза: Петербург — столица рэпа, музыку этого жанра там слушают чаще, чем в Москве.  А Москва — город контрастов, в котором, тем не менее, преобладает поп-музыка."
   ]
  },
  {
   "cell_type": "markdown",
   "metadata": {
    "id": "DlegSvaT_Zcu"
   },
   "source": [
    "Сгруппируйте таблицу `moscow_general` по жанру и посчитайте прослушивания треков каждого жанра методом `count()`. Затем отсортируйте результат в порядке убывания и сохраните его в таблице `moscow_genres`."
   ]
  },
  {
   "cell_type": "code",
   "execution_count": 37,
   "metadata": {
    "id": "r19lIPke_Zcu"
   },
   "outputs": [],
   "source": [
    "# одной строкой: группировка таблицы moscow_general по столбцу 'genre', \n",
    "# подсчёт числа значений 'genre' в этой группировке методом count(), \n",
    "# сортировка получившегося Series в порядке убывания и сохранение в moscow_genres\n",
    "moscow_genres = moscow_general.groupby('genre')['genre'].count().sort_values(ascending = False)"
   ]
  },
  {
   "cell_type": "markdown",
   "metadata": {
    "id": "6kMuomxTiIr8"
   },
   "source": [
    "Выведите на экран первые десять строк `moscow_genres`:"
   ]
  },
  {
   "cell_type": "code",
   "execution_count": 38,
   "metadata": {
    "id": "WhCSooF8_Zcv"
   },
   "outputs": [
    {
     "data": {
      "text/html": [
       "<div>\n",
       "<style scoped>\n",
       "    .dataframe tbody tr th:only-of-type {\n",
       "        vertical-align: middle;\n",
       "    }\n",
       "\n",
       "    .dataframe tbody tr th {\n",
       "        vertical-align: top;\n",
       "    }\n",
       "\n",
       "    .dataframe thead th {\n",
       "        text-align: right;\n",
       "    }\n",
       "</style>\n",
       "<table border=\"1\" class=\"dataframe\">\n",
       "  <thead>\n",
       "    <tr style=\"text-align: right;\">\n",
       "      <th></th>\n",
       "      <th>genre</th>\n",
       "    </tr>\n",
       "    <tr>\n",
       "      <th>genre</th>\n",
       "      <th></th>\n",
       "    </tr>\n",
       "  </thead>\n",
       "  <tbody>\n",
       "    <tr>\n",
       "      <td>pop</td>\n",
       "      <td>5892</td>\n",
       "    </tr>\n",
       "    <tr>\n",
       "      <td>dance</td>\n",
       "      <td>4435</td>\n",
       "    </tr>\n",
       "    <tr>\n",
       "      <td>rock</td>\n",
       "      <td>3965</td>\n",
       "    </tr>\n",
       "    <tr>\n",
       "      <td>electronic</td>\n",
       "      <td>3786</td>\n",
       "    </tr>\n",
       "    <tr>\n",
       "      <td>hiphop</td>\n",
       "      <td>2096</td>\n",
       "    </tr>\n",
       "    <tr>\n",
       "      <td>classical</td>\n",
       "      <td>1616</td>\n",
       "    </tr>\n",
       "    <tr>\n",
       "      <td>world</td>\n",
       "      <td>1432</td>\n",
       "    </tr>\n",
       "    <tr>\n",
       "      <td>alternative</td>\n",
       "      <td>1379</td>\n",
       "    </tr>\n",
       "    <tr>\n",
       "      <td>ruspop</td>\n",
       "      <td>1372</td>\n",
       "    </tr>\n",
       "    <tr>\n",
       "      <td>rusrap</td>\n",
       "      <td>1161</td>\n",
       "    </tr>\n",
       "  </tbody>\n",
       "</table>\n",
       "</div>"
      ],
      "text/plain": [
       "             genre\n",
       "genre             \n",
       "pop           5892\n",
       "dance         4435\n",
       "rock          3965\n",
       "electronic    3786\n",
       "hiphop        2096\n",
       "classical     1616\n",
       "world         1432\n",
       "alternative   1379\n",
       "ruspop        1372\n",
       "rusrap        1161"
      ]
     },
     "execution_count": 38,
     "metadata": {},
     "output_type": "execute_result"
    }
   ],
   "source": [
    "# просмотр первых 10 строк moscow_genres\n",
    "# ПРЕДЫДУЩАЯ ВЕРСИЯ КОДА СТУДЕНТА display(moscow_genres.head(10))\n",
    "# НОВАЯ ВЕРСИЯ КОДА СТУДЕНТА\n",
    "moscow_genres.to_frame().head(10)"
   ]
  },
  {
   "cell_type": "markdown",
   "metadata": {},
   "source": [
    "<div class=\"alert alert-success\" style=\"border-radius: 15px; box-shadow: 4px 4px 4px; border: 1px solid \">\n",
    "<h2> Комментарий ревьюера</h2>\n",
    "    \n",
    "Можно и это вывести как таблицу с помощью метода **to_frame**:\n",
    "\n",
    "</div>"
   ]
  },
  {
   "cell_type": "markdown",
   "metadata": {},
   "source": [
    "<div class=\"alert alert-info\">\n",
    "<h2> Комментарий студента</h2>\n",
    "\n",
    "Полезный метод, раньше с ним не сталкивался. Но я не очень понимаю, почему обычный способ moscow_genres.head(10) здесь не срабатывает как в ячейке 4 и не выводит данные в виде таблицы, если это изначально уже таблица.\n",
    "</div>"
   ]
  },
  {
   "cell_type": "markdown",
   "metadata": {},
   "source": [
    "<div class=\"alert alert-success\" style=\"border-radius: 15px; box-shadow: 4px 4px 4px; border: 1px solid \">\n",
    "<h2> Комментарий ревьюера 2</h2>\n",
    "    \n",
    "Потому что   moscow_genres это Series.\n",
    "</div>"
   ]
  },
  {
   "cell_type": "code",
   "execution_count": 39,
   "metadata": {},
   "outputs": [
    {
     "data": {
      "text/html": [
       "<div>\n",
       "<style scoped>\n",
       "    .dataframe tbody tr th:only-of-type {\n",
       "        vertical-align: middle;\n",
       "    }\n",
       "\n",
       "    .dataframe tbody tr th {\n",
       "        vertical-align: top;\n",
       "    }\n",
       "\n",
       "    .dataframe thead th {\n",
       "        text-align: right;\n",
       "    }\n",
       "</style>\n",
       "<table border=\"1\" class=\"dataframe\">\n",
       "  <thead>\n",
       "    <tr style=\"text-align: right;\">\n",
       "      <th></th>\n",
       "      <th>genre</th>\n",
       "    </tr>\n",
       "    <tr>\n",
       "      <th>genre</th>\n",
       "      <th></th>\n",
       "    </tr>\n",
       "  </thead>\n",
       "  <tbody>\n",
       "    <tr>\n",
       "      <td>pop</td>\n",
       "      <td>5892</td>\n",
       "    </tr>\n",
       "    <tr>\n",
       "      <td>dance</td>\n",
       "      <td>4435</td>\n",
       "    </tr>\n",
       "    <tr>\n",
       "      <td>rock</td>\n",
       "      <td>3965</td>\n",
       "    </tr>\n",
       "    <tr>\n",
       "      <td>electronic</td>\n",
       "      <td>3786</td>\n",
       "    </tr>\n",
       "    <tr>\n",
       "      <td>hiphop</td>\n",
       "      <td>2096</td>\n",
       "    </tr>\n",
       "    <tr>\n",
       "      <td>classical</td>\n",
       "      <td>1616</td>\n",
       "    </tr>\n",
       "    <tr>\n",
       "      <td>world</td>\n",
       "      <td>1432</td>\n",
       "    </tr>\n",
       "    <tr>\n",
       "      <td>alternative</td>\n",
       "      <td>1379</td>\n",
       "    </tr>\n",
       "    <tr>\n",
       "      <td>ruspop</td>\n",
       "      <td>1372</td>\n",
       "    </tr>\n",
       "    <tr>\n",
       "      <td>rusrap</td>\n",
       "      <td>1161</td>\n",
       "    </tr>\n",
       "  </tbody>\n",
       "</table>\n",
       "</div>"
      ],
      "text/plain": [
       "             genre\n",
       "genre             \n",
       "pop           5892\n",
       "dance         4435\n",
       "rock          3965\n",
       "electronic    3786\n",
       "hiphop        2096\n",
       "classical     1616\n",
       "world         1432\n",
       "alternative   1379\n",
       "ruspop        1372\n",
       "rusrap        1161"
      ]
     },
     "execution_count": 39,
     "metadata": {},
     "output_type": "execute_result"
    }
   ],
   "source": [
    "# КОД РЕВЬЮЕРА\n",
    "\n",
    "moscow_genres.to_frame().head(10)"
   ]
  },
  {
   "cell_type": "markdown",
   "metadata": {
    "id": "cnPG2vnN_Zcv"
   },
   "source": [
    "Теперь повторите то же и для Петербурга.\n",
    "\n",
    "Сгруппируйте таблицу `spb_general` по жанру. Посчитайте прослушивания треков каждого жанра. Результат отсортируйте в порядке убывания и сохраните в таблице `spb_genres`:\n"
   ]
  },
  {
   "cell_type": "code",
   "execution_count": 40,
   "metadata": {
    "id": "gluLIpE7_Zcv"
   },
   "outputs": [],
   "source": [
    "# одной строкой: группировка таблицы spb_general по столбцу 'genre', \n",
    "# подсчёт числа значений 'genre' в этой группировке методом count(), \n",
    "# сортировка получившегося Series в порядке убывания и сохранение в spb_genres\n",
    "spb_genres = spb_general.groupby('genre')['genre'].count().sort_values(ascending = False)"
   ]
  },
  {
   "cell_type": "markdown",
   "metadata": {
    "id": "5Doha_ODgyQ8"
   },
   "source": [
    "Выведите на экран первые десять строк `spb_genres`:"
   ]
  },
  {
   "cell_type": "code",
   "execution_count": 41,
   "metadata": {
    "id": "uaGJHjVU_Zcv"
   },
   "outputs": [
    {
     "data": {
      "text/html": [
       "<div>\n",
       "<style scoped>\n",
       "    .dataframe tbody tr th:only-of-type {\n",
       "        vertical-align: middle;\n",
       "    }\n",
       "\n",
       "    .dataframe tbody tr th {\n",
       "        vertical-align: top;\n",
       "    }\n",
       "\n",
       "    .dataframe thead th {\n",
       "        text-align: right;\n",
       "    }\n",
       "</style>\n",
       "<table border=\"1\" class=\"dataframe\">\n",
       "  <thead>\n",
       "    <tr style=\"text-align: right;\">\n",
       "      <th></th>\n",
       "      <th>genre</th>\n",
       "    </tr>\n",
       "    <tr>\n",
       "      <th>genre</th>\n",
       "      <th></th>\n",
       "    </tr>\n",
       "  </thead>\n",
       "  <tbody>\n",
       "    <tr>\n",
       "      <td>pop</td>\n",
       "      <td>2431</td>\n",
       "    </tr>\n",
       "    <tr>\n",
       "      <td>dance</td>\n",
       "      <td>1932</td>\n",
       "    </tr>\n",
       "    <tr>\n",
       "      <td>rock</td>\n",
       "      <td>1879</td>\n",
       "    </tr>\n",
       "    <tr>\n",
       "      <td>electronic</td>\n",
       "      <td>1737</td>\n",
       "    </tr>\n",
       "    <tr>\n",
       "      <td>hiphop</td>\n",
       "      <td>960</td>\n",
       "    </tr>\n",
       "    <tr>\n",
       "      <td>alternative</td>\n",
       "      <td>649</td>\n",
       "    </tr>\n",
       "    <tr>\n",
       "      <td>classical</td>\n",
       "      <td>646</td>\n",
       "    </tr>\n",
       "    <tr>\n",
       "      <td>rusrap</td>\n",
       "      <td>564</td>\n",
       "    </tr>\n",
       "    <tr>\n",
       "      <td>ruspop</td>\n",
       "      <td>538</td>\n",
       "    </tr>\n",
       "    <tr>\n",
       "      <td>world</td>\n",
       "      <td>515</td>\n",
       "    </tr>\n",
       "  </tbody>\n",
       "</table>\n",
       "</div>"
      ],
      "text/plain": [
       "             genre\n",
       "genre             \n",
       "pop           2431\n",
       "dance         1932\n",
       "rock          1879\n",
       "electronic    1737\n",
       "hiphop         960\n",
       "alternative    649\n",
       "classical      646\n",
       "rusrap         564\n",
       "ruspop         538\n",
       "world          515"
      ]
     },
     "execution_count": 41,
     "metadata": {},
     "output_type": "execute_result"
    }
   ],
   "source": [
    "# просмотр первых 10 строк spb_genres\n",
    "# ПРЕДЫДУЩАЯ ВЕРСИЯ КОДА СТУДЕНТА  display(spb_genres.head(10))\n",
    "# НОВАЯ ВЕРСИЯ КОДА СТУДЕНТА\n",
    "spb_genres.to_frame().head(10)"
   ]
  },
  {
   "cell_type": "markdown",
   "metadata": {
    "id": "RY51YJYu_Zcv"
   },
   "source": [
    "**Выводы**"
   ]
  },
  {
   "cell_type": "markdown",
   "metadata": {
    "id": "nVhnJEm__Zcv"
   },
   "source": [
    "Гипотеза частично подтвердилась:\n",
    "* Поп-музыка — самый популярный жанр в Москве, как и предполагала гипотеза. Более того, в топ-10 жанров встречается близкий жанр — русская популярная музыка.\n",
    "* Вопреки ожиданиям, рэп одинаково популярен в Москве и Петербурге. \n"
   ]
  },
  {
   "cell_type": "markdown",
   "metadata": {
    "id": "ykKQ0N65_Zcv"
   },
   "source": [
    "## Итоги исследования"
   ]
  },
  {
   "cell_type": "markdown",
   "metadata": {
    "id": "tjUwbHb3_Zcv"
   },
   "source": [
    "Вы проверили три гипотезы и установили:\n",
    "\n",
    "1. День недели по-разному влияет на активность пользователей в Москве и Петербурге. \n",
    "\n",
    "Первая гипотеза полностью подтвердилась.\n",
    "\n",
    "2. Музыкальные предпочтения не сильно меняются в течение недели — будь то Москва или Петербург. Небольшие различия заметны в начале недели, по понедельникам:\n",
    "* в Москве слушают музыку жанра “world”,\n",
    "* в Петербурге — джаз и классику.\n",
    "\n",
    "Таким образом, вторая гипотеза подтвердилась лишь отчасти. Этот результат мог оказаться иным, если бы не пропуски в данных.\n",
    "\n",
    "3. Во вкусах пользователей Москвы и Петербурга больше общего чем различий. Вопреки ожиданиям, предпочтения жанров в Петербурге напоминают московские.\n",
    "\n",
    "Третья гипотеза не подтвердилась. Если различия в предпочтениях и существуют, на основной массе пользователей они незаметны.\n",
    "\n",
    "**На практике исследования содержат проверки статистических гипотез.**\n",
    "Из данных одного сервиса не всегда можно сделать вывод о всех жителях города.\n",
    "Проверки статистических гипотез покажут, насколько они достоверны, исходя из имеющихся данных. \n",
    "С методами проверок гипотез вы ещё познакомитесь в следующих темах."
   ]
  }
 ],
 "metadata": {
  "ExecuteTimeLog": [
   {
    "duration": 304,
    "start_time": "2021-12-29T20:45:43.143Z"
   },
   {
    "duration": 239,
    "start_time": "2021-12-29T20:46:09.239Z"
   },
   {
    "duration": 242,
    "start_time": "2021-12-29T20:46:30.708Z"
   },
   {
    "duration": 1802,
    "start_time": "2021-12-29T20:46:38.717Z"
   },
   {
    "duration": 131,
    "start_time": "2021-12-29T20:46:41.366Z"
   },
   {
    "duration": 8,
    "start_time": "2021-12-29T20:49:34.787Z"
   },
   {
    "duration": 6,
    "start_time": "2021-12-29T20:49:49.352Z"
   },
   {
    "duration": 6,
    "start_time": "2021-12-29T20:50:06.882Z"
   },
   {
    "duration": 15,
    "start_time": "2021-12-29T20:50:25.981Z"
   },
   {
    "duration": 8,
    "start_time": "2021-12-29T20:50:55.888Z"
   },
   {
    "duration": 24,
    "start_time": "2021-12-29T20:51:25.017Z"
   },
   {
    "duration": 23,
    "start_time": "2021-12-29T20:51:38.065Z"
   },
   {
    "duration": 23,
    "start_time": "2021-12-29T20:51:49.425Z"
   },
   {
    "duration": 24,
    "start_time": "2021-12-29T20:52:29.425Z"
   },
   {
    "duration": 21,
    "start_time": "2021-12-29T20:52:51.900Z"
   },
   {
    "duration": 2,
    "start_time": "2021-12-29T20:52:59.622Z"
   },
   {
    "duration": 2,
    "start_time": "2021-12-29T20:53:06.239Z"
   },
   {
    "duration": 613,
    "start_time": "2021-12-29T20:54:30.518Z"
   },
   {
    "duration": 130,
    "start_time": "2021-12-29T20:54:31.133Z"
   },
   {
    "duration": 16,
    "start_time": "2021-12-29T20:54:31.265Z"
   },
   {
    "duration": 33,
    "start_time": "2021-12-29T20:54:31.283Z"
   },
   {
    "duration": 6,
    "start_time": "2021-12-29T20:54:31.318Z"
   },
   {
    "duration": 13,
    "start_time": "2021-12-29T20:54:31.325Z"
   },
   {
    "duration": 10,
    "start_time": "2021-12-29T20:54:31.340Z"
   },
   {
    "duration": 15,
    "start_time": "2021-12-29T20:54:31.352Z"
   },
   {
    "duration": 6,
    "start_time": "2021-12-29T20:54:31.369Z"
   },
   {
    "duration": 12,
    "start_time": "2021-12-29T20:54:31.376Z"
   },
   {
    "duration": 16,
    "start_time": "2021-12-29T20:54:31.390Z"
   },
   {
    "duration": 8,
    "start_time": "2021-12-29T20:54:31.408Z"
   },
   {
    "duration": 12,
    "start_time": "2021-12-29T20:54:31.417Z"
   },
   {
    "duration": 9,
    "start_time": "2021-12-29T20:54:31.431Z"
   },
   {
    "duration": 17,
    "start_time": "2021-12-29T20:54:31.442Z"
   },
   {
    "duration": 7,
    "start_time": "2021-12-29T20:54:31.461Z"
   },
   {
    "duration": 9,
    "start_time": "2021-12-29T20:54:31.470Z"
   },
   {
    "duration": 9,
    "start_time": "2021-12-29T20:54:31.480Z"
   },
   {
    "duration": 10,
    "start_time": "2021-12-29T20:54:31.491Z"
   },
   {
    "duration": 13,
    "start_time": "2021-12-29T20:54:31.502Z"
   },
   {
    "duration": 11,
    "start_time": "2021-12-29T20:54:31.516Z"
   },
   {
    "duration": 13,
    "start_time": "2021-12-29T20:54:31.528Z"
   },
   {
    "duration": 8,
    "start_time": "2021-12-29T20:54:31.544Z"
   },
   {
    "duration": 20,
    "start_time": "2021-12-29T20:54:31.554Z"
   },
   {
    "duration": 15,
    "start_time": "2021-12-29T20:54:31.576Z"
   },
   {
    "duration": 16,
    "start_time": "2021-12-29T20:54:31.592Z"
   },
   {
    "duration": 17,
    "start_time": "2021-12-29T20:54:31.609Z"
   },
   {
    "duration": 14,
    "start_time": "2021-12-29T20:54:31.627Z"
   },
   {
    "duration": 7,
    "start_time": "2021-12-29T20:54:31.642Z"
   },
   {
    "duration": 15,
    "start_time": "2021-12-29T20:54:31.651Z"
   },
   {
    "duration": 19,
    "start_time": "2021-12-29T20:54:31.667Z"
   },
   {
    "duration": 21,
    "start_time": "2021-12-29T20:54:31.687Z"
   },
   {
    "duration": 19,
    "start_time": "2021-12-29T20:54:31.709Z"
   },
   {
    "duration": 14,
    "start_time": "2021-12-29T20:54:31.730Z"
   },
   {
    "duration": 13,
    "start_time": "2021-12-29T20:54:31.745Z"
   },
   {
    "duration": 24,
    "start_time": "2021-12-29T20:54:31.759Z"
   },
   {
    "duration": 22,
    "start_time": "2021-12-29T20:54:31.784Z"
   },
   {
    "duration": 9,
    "start_time": "2021-12-29T20:54:31.808Z"
   },
   {
    "duration": 510,
    "start_time": "2022-01-09T14:45:26.458Z"
   },
   {
    "duration": 259,
    "start_time": "2022-01-09T14:47:57.122Z"
   },
   {
    "duration": 754,
    "start_time": "2022-01-09T14:48:09.026Z"
   },
   {
    "duration": 187,
    "start_time": "2022-01-09T14:48:09.783Z"
   },
   {
    "duration": 25,
    "start_time": "2022-01-09T14:48:09.973Z"
   },
   {
    "duration": 49,
    "start_time": "2022-01-09T14:48:10.000Z"
   },
   {
    "duration": 5,
    "start_time": "2022-01-09T14:48:10.052Z"
   },
   {
    "duration": 18,
    "start_time": "2022-01-09T14:48:10.060Z"
   },
   {
    "duration": 6,
    "start_time": "2022-01-09T14:48:10.080Z"
   },
   {
    "duration": 28,
    "start_time": "2022-01-09T14:48:10.090Z"
   },
   {
    "duration": 7,
    "start_time": "2022-01-09T14:48:10.122Z"
   },
   {
    "duration": 6,
    "start_time": "2022-01-09T14:48:10.131Z"
   },
   {
    "duration": 7,
    "start_time": "2022-01-09T14:48:10.139Z"
   },
   {
    "duration": 5,
    "start_time": "2022-01-09T14:48:10.149Z"
   },
   {
    "duration": 8,
    "start_time": "2022-01-09T14:48:10.156Z"
   },
   {
    "duration": 5,
    "start_time": "2022-01-09T14:48:10.166Z"
   },
   {
    "duration": 6,
    "start_time": "2022-01-09T14:48:10.173Z"
   },
   {
    "duration": 35,
    "start_time": "2022-01-09T14:48:10.182Z"
   },
   {
    "duration": 4,
    "start_time": "2022-01-09T14:48:10.220Z"
   },
   {
    "duration": 5,
    "start_time": "2022-01-09T14:48:10.227Z"
   },
   {
    "duration": 5,
    "start_time": "2022-01-09T14:48:10.235Z"
   },
   {
    "duration": 8,
    "start_time": "2022-01-09T14:48:10.242Z"
   },
   {
    "duration": 13,
    "start_time": "2022-01-09T14:48:10.252Z"
   },
   {
    "duration": 7,
    "start_time": "2022-01-09T14:48:10.267Z"
   },
   {
    "duration": 6,
    "start_time": "2022-01-09T14:48:10.276Z"
   },
   {
    "duration": 3,
    "start_time": "2022-01-09T14:48:10.318Z"
   },
   {
    "duration": 7,
    "start_time": "2022-01-09T14:48:10.323Z"
   },
   {
    "duration": 7,
    "start_time": "2022-01-09T14:48:10.334Z"
   },
   {
    "duration": 8,
    "start_time": "2022-01-09T14:48:10.343Z"
   },
   {
    "duration": 9,
    "start_time": "2022-01-09T14:48:10.353Z"
   },
   {
    "duration": 6,
    "start_time": "2022-01-09T14:48:10.364Z"
   },
   {
    "duration": 5,
    "start_time": "2022-01-09T14:48:10.372Z"
   },
   {
    "duration": 37,
    "start_time": "2022-01-09T14:48:10.380Z"
   },
   {
    "duration": 5,
    "start_time": "2022-01-09T14:48:10.420Z"
   },
   {
    "duration": 9,
    "start_time": "2022-01-09T14:48:10.428Z"
   },
   {
    "duration": 7,
    "start_time": "2022-01-09T14:48:10.439Z"
   },
   {
    "duration": 5,
    "start_time": "2022-01-09T14:48:10.449Z"
   },
   {
    "duration": 5,
    "start_time": "2022-01-09T14:48:10.456Z"
   },
   {
    "duration": 6,
    "start_time": "2022-01-09T14:48:10.463Z"
   },
   {
    "duration": 5,
    "start_time": "2022-01-09T14:48:10.471Z"
   },
   {
    "duration": 5,
    "start_time": "2022-01-09T14:51:37.661Z"
   },
   {
    "duration": 755,
    "start_time": "2022-01-09T14:52:03.110Z"
   },
   {
    "duration": 186,
    "start_time": "2022-01-09T14:52:03.868Z"
   },
   {
    "duration": 25,
    "start_time": "2022-01-09T14:52:04.057Z"
   },
   {
    "duration": 49,
    "start_time": "2022-01-09T14:52:04.085Z"
   },
   {
    "duration": 4,
    "start_time": "2022-01-09T14:52:04.136Z"
   },
   {
    "duration": 29,
    "start_time": "2022-01-09T14:52:04.142Z"
   },
   {
    "duration": 4,
    "start_time": "2022-01-09T14:52:04.174Z"
   },
   {
    "duration": 37,
    "start_time": "2022-01-09T14:52:04.180Z"
   },
   {
    "duration": 5,
    "start_time": "2022-01-09T14:52:04.222Z"
   },
   {
    "duration": 4,
    "start_time": "2022-01-09T14:52:04.230Z"
   },
   {
    "duration": 5,
    "start_time": "2022-01-09T14:52:04.236Z"
   },
   {
    "duration": 5,
    "start_time": "2022-01-09T14:52:04.243Z"
   },
   {
    "duration": 4,
    "start_time": "2022-01-09T14:52:04.250Z"
   },
   {
    "duration": 5,
    "start_time": "2022-01-09T14:52:04.256Z"
   },
   {
    "duration": 5,
    "start_time": "2022-01-09T14:52:04.263Z"
   },
   {
    "duration": 47,
    "start_time": "2022-01-09T14:52:04.271Z"
   },
   {
    "duration": 5,
    "start_time": "2022-01-09T14:52:04.321Z"
   },
   {
    "duration": 4,
    "start_time": "2022-01-09T14:52:04.329Z"
   },
   {
    "duration": 4,
    "start_time": "2022-01-09T14:52:04.336Z"
   },
   {
    "duration": 4,
    "start_time": "2022-01-09T14:52:04.343Z"
   },
   {
    "duration": 6,
    "start_time": "2022-01-09T14:52:04.350Z"
   },
   {
    "duration": 5,
    "start_time": "2022-01-09T14:52:04.359Z"
   },
   {
    "duration": 52,
    "start_time": "2022-01-09T14:52:04.366Z"
   },
   {
    "duration": 5,
    "start_time": "2022-01-09T14:52:04.421Z"
   },
   {
    "duration": 4,
    "start_time": "2022-01-09T14:52:04.429Z"
   },
   {
    "duration": 8,
    "start_time": "2022-01-09T14:52:04.435Z"
   },
   {
    "duration": 3,
    "start_time": "2022-01-09T14:52:04.447Z"
   },
   {
    "duration": 8,
    "start_time": "2022-01-09T14:52:04.453Z"
   },
   {
    "duration": 8,
    "start_time": "2022-01-09T14:52:04.464Z"
   },
   {
    "duration": 43,
    "start_time": "2022-01-09T14:52:04.474Z"
   },
   {
    "duration": 3,
    "start_time": "2022-01-09T14:52:04.520Z"
   },
   {
    "duration": 5,
    "start_time": "2022-01-09T14:52:04.526Z"
   },
   {
    "duration": 8,
    "start_time": "2022-01-09T14:52:04.533Z"
   },
   {
    "duration": 4,
    "start_time": "2022-01-09T14:52:04.543Z"
   },
   {
    "duration": 5,
    "start_time": "2022-01-09T14:52:04.550Z"
   },
   {
    "duration": 5,
    "start_time": "2022-01-09T14:52:04.557Z"
   },
   {
    "duration": 4,
    "start_time": "2022-01-09T14:52:04.564Z"
   },
   {
    "duration": 48,
    "start_time": "2022-01-09T14:52:04.570Z"
   },
   {
    "duration": 4,
    "start_time": "2022-01-09T14:52:37.408Z"
   },
   {
    "duration": 29,
    "start_time": "2022-01-09T14:54:15.095Z"
   },
   {
    "duration": 22,
    "start_time": "2022-01-09T14:58:38.682Z"
   },
   {
    "duration": 28,
    "start_time": "2022-01-09T14:58:45.569Z"
   },
   {
    "duration": 109,
    "start_time": "2022-01-09T15:01:19.990Z"
   },
   {
    "duration": 99,
    "start_time": "2022-01-09T15:04:56.872Z"
   },
   {
    "duration": 75,
    "start_time": "2022-01-09T15:05:00.723Z"
   },
   {
    "duration": 516,
    "start_time": "2022-01-09T15:16:01.739Z"
   },
   {
    "duration": 82,
    "start_time": "2022-01-09T15:19:33.456Z"
   },
   {
    "duration": 73,
    "start_time": "2022-01-09T15:21:37.104Z"
   },
   {
    "duration": 776,
    "start_time": "2022-01-09T15:22:08.238Z"
   },
   {
    "duration": 195,
    "start_time": "2022-01-09T15:22:09.017Z"
   },
   {
    "duration": 27,
    "start_time": "2022-01-09T15:22:09.215Z"
   },
   {
    "duration": 37,
    "start_time": "2022-01-09T15:22:09.245Z"
   },
   {
    "duration": 33,
    "start_time": "2022-01-09T15:22:09.285Z"
   },
   {
    "duration": 29,
    "start_time": "2022-01-09T15:22:09.320Z"
   },
   {
    "duration": 7,
    "start_time": "2022-01-09T15:22:09.351Z"
   },
   {
    "duration": 58,
    "start_time": "2022-01-09T15:22:09.362Z"
   },
   {
    "duration": 22,
    "start_time": "2022-01-09T15:22:09.422Z"
   },
   {
    "duration": 34,
    "start_time": "2022-01-09T15:22:09.446Z"
   },
   {
    "duration": 116,
    "start_time": "2022-01-09T15:22:09.483Z"
   },
   {
    "duration": 138,
    "start_time": "2022-01-09T15:22:09.601Z"
   },
   {
    "duration": 84,
    "start_time": "2022-01-09T15:22:09.741Z"
   },
   {
    "duration": 71,
    "start_time": "2022-01-09T15:22:09.827Z"
   },
   {
    "duration": 17,
    "start_time": "2022-01-09T15:22:09.900Z"
   },
   {
    "duration": 10,
    "start_time": "2022-01-09T15:22:09.920Z"
   },
   {
    "duration": 6,
    "start_time": "2022-01-09T15:22:09.933Z"
   },
   {
    "duration": 9,
    "start_time": "2022-01-09T15:22:09.941Z"
   },
   {
    "duration": 20,
    "start_time": "2022-01-09T15:22:09.953Z"
   },
   {
    "duration": 8,
    "start_time": "2022-01-09T15:22:09.976Z"
   },
   {
    "duration": 15,
    "start_time": "2022-01-09T15:22:09.987Z"
   },
   {
    "duration": 17,
    "start_time": "2022-01-09T15:22:10.005Z"
   },
   {
    "duration": 5,
    "start_time": "2022-01-09T15:22:10.027Z"
   },
   {
    "duration": 9,
    "start_time": "2022-01-09T15:22:10.035Z"
   },
   {
    "duration": 16,
    "start_time": "2022-01-09T15:22:10.046Z"
   },
   {
    "duration": 29,
    "start_time": "2022-01-09T15:22:10.064Z"
   },
   {
    "duration": 47,
    "start_time": "2022-01-09T15:22:10.095Z"
   },
   {
    "duration": 8,
    "start_time": "2022-01-09T15:22:10.144Z"
   },
   {
    "duration": 5,
    "start_time": "2022-01-09T15:22:10.154Z"
   },
   {
    "duration": 10,
    "start_time": "2022-01-09T15:22:10.161Z"
   },
   {
    "duration": 17,
    "start_time": "2022-01-09T15:22:10.173Z"
   },
   {
    "duration": 6,
    "start_time": "2022-01-09T15:22:10.192Z"
   },
   {
    "duration": 8,
    "start_time": "2022-01-09T15:22:10.200Z"
   },
   {
    "duration": 10,
    "start_time": "2022-01-09T15:22:10.210Z"
   },
   {
    "duration": 4,
    "start_time": "2022-01-09T15:22:10.223Z"
   },
   {
    "duration": 5,
    "start_time": "2022-01-09T15:22:10.230Z"
   },
   {
    "duration": 6,
    "start_time": "2022-01-09T15:22:10.237Z"
   },
   {
    "duration": 5,
    "start_time": "2022-01-09T15:22:10.246Z"
   },
   {
    "duration": 4,
    "start_time": "2022-01-09T15:40:31.975Z"
   },
   {
    "duration": 85,
    "start_time": "2022-01-09T15:40:34.942Z"
   },
   {
    "duration": 593,
    "start_time": "2022-01-09T15:40:58.832Z"
   },
   {
    "duration": 502,
    "start_time": "2022-01-09T15:42:06.820Z"
   },
   {
    "duration": 4,
    "start_time": "2022-01-09T15:47:41.066Z"
   },
   {
    "duration": 21,
    "start_time": "2022-01-09T15:47:46.281Z"
   },
   {
    "duration": 21,
    "start_time": "2022-01-09T15:47:51.588Z"
   },
   {
    "duration": 54,
    "start_time": "2022-01-09T15:47:55.241Z"
   },
   {
    "duration": 65,
    "start_time": "2022-01-09T15:50:24.042Z"
   },
   {
    "duration": 26,
    "start_time": "2022-01-09T15:52:12.615Z"
   },
   {
    "duration": 60,
    "start_time": "2022-01-09T15:52:17.305Z"
   },
   {
    "duration": 7,
    "start_time": "2022-01-09T15:52:31.306Z"
   },
   {
    "duration": 60,
    "start_time": "2022-01-09T15:52:53.379Z"
   },
   {
    "duration": 751,
    "start_time": "2022-01-09T15:53:21.147Z"
   },
   {
    "duration": 213,
    "start_time": "2022-01-09T15:53:21.901Z"
   },
   {
    "duration": 28,
    "start_time": "2022-01-09T15:53:22.118Z"
   },
   {
    "duration": 34,
    "start_time": "2022-01-09T15:53:22.149Z"
   },
   {
    "duration": 4,
    "start_time": "2022-01-09T15:53:22.185Z"
   },
   {
    "duration": 32,
    "start_time": "2022-01-09T15:53:22.217Z"
   },
   {
    "duration": 8,
    "start_time": "2022-01-09T15:53:22.252Z"
   },
   {
    "duration": 62,
    "start_time": "2022-01-09T15:53:22.266Z"
   },
   {
    "duration": 23,
    "start_time": "2022-01-09T15:53:22.332Z"
   },
   {
    "duration": 29,
    "start_time": "2022-01-09T15:53:22.358Z"
   },
   {
    "duration": 83,
    "start_time": "2022-01-09T15:53:22.416Z"
   },
   {
    "duration": 124,
    "start_time": "2022-01-09T15:53:22.501Z"
   },
   {
    "duration": 74,
    "start_time": "2022-01-09T15:53:22.627Z"
   },
   {
    "duration": 80,
    "start_time": "2022-01-09T15:53:22.703Z"
   },
   {
    "duration": 4,
    "start_time": "2022-01-09T15:53:22.785Z"
   },
   {
    "duration": 47,
    "start_time": "2022-01-09T15:53:22.791Z"
   },
   {
    "duration": 77,
    "start_time": "2022-01-09T15:53:22.840Z"
   },
   {
    "duration": 3,
    "start_time": "2022-01-09T15:53:22.919Z"
   },
   {
    "duration": 7,
    "start_time": "2022-01-09T15:53:22.924Z"
   },
   {
    "duration": 5,
    "start_time": "2022-01-09T15:53:22.934Z"
   },
   {
    "duration": 6,
    "start_time": "2022-01-09T15:53:22.941Z"
   },
   {
    "duration": 5,
    "start_time": "2022-01-09T15:53:22.949Z"
   },
   {
    "duration": 3,
    "start_time": "2022-01-09T15:53:22.958Z"
   },
   {
    "duration": 11,
    "start_time": "2022-01-09T15:53:22.964Z"
   },
   {
    "duration": 40,
    "start_time": "2022-01-09T15:53:22.977Z"
   },
   {
    "duration": 4,
    "start_time": "2022-01-09T15:53:23.019Z"
   },
   {
    "duration": 5,
    "start_time": "2022-01-09T15:53:23.025Z"
   },
   {
    "duration": 10,
    "start_time": "2022-01-09T15:53:23.032Z"
   },
   {
    "duration": 14,
    "start_time": "2022-01-09T15:53:23.044Z"
   },
   {
    "duration": 10,
    "start_time": "2022-01-09T15:53:23.061Z"
   },
   {
    "duration": 14,
    "start_time": "2022-01-09T15:53:23.073Z"
   },
   {
    "duration": 9,
    "start_time": "2022-01-09T15:53:23.089Z"
   },
   {
    "duration": 10,
    "start_time": "2022-01-09T15:53:23.100Z"
   },
   {
    "duration": 13,
    "start_time": "2022-01-09T15:53:23.112Z"
   },
   {
    "duration": 10,
    "start_time": "2022-01-09T15:53:23.127Z"
   },
   {
    "duration": 8,
    "start_time": "2022-01-09T15:53:23.139Z"
   },
   {
    "duration": 8,
    "start_time": "2022-01-09T15:53:23.150Z"
   },
   {
    "duration": 7,
    "start_time": "2022-01-09T15:53:23.160Z"
   },
   {
    "duration": 49,
    "start_time": "2022-01-09T15:55:22.042Z"
   },
   {
    "duration": 16,
    "start_time": "2022-01-09T15:57:31.193Z"
   },
   {
    "duration": 12,
    "start_time": "2022-01-09T15:59:49.545Z"
   },
   {
    "duration": 75,
    "start_time": "2022-01-09T16:16:24.386Z"
   },
   {
    "duration": 88,
    "start_time": "2022-01-09T16:16:45.803Z"
   },
   {
    "duration": 652,
    "start_time": "2022-01-09T16:17:14.270Z"
   },
   {
    "duration": 410,
    "start_time": "2022-01-09T16:17:25.888Z"
   },
   {
    "duration": 5,
    "start_time": "2022-01-09T16:17:50.952Z"
   },
   {
    "duration": 21,
    "start_time": "2022-01-09T16:17:55.544Z"
   },
   {
    "duration": 19,
    "start_time": "2022-01-09T16:18:34.283Z"
   },
   {
    "duration": 21,
    "start_time": "2022-01-09T16:22:12.142Z"
   },
   {
    "duration": 21,
    "start_time": "2022-01-09T16:22:26.847Z"
   },
   {
    "duration": 22,
    "start_time": "2022-01-09T16:23:35.971Z"
   },
   {
    "duration": 19,
    "start_time": "2022-01-09T16:23:38.554Z"
   },
   {
    "duration": 7,
    "start_time": "2022-01-09T16:28:55.823Z"
   },
   {
    "duration": 9,
    "start_time": "2022-01-09T16:29:06.459Z"
   },
   {
    "duration": 12,
    "start_time": "2022-01-09T16:29:42.358Z"
   },
   {
    "duration": 760,
    "start_time": "2022-01-09T16:30:23.776Z"
   },
   {
    "duration": 187,
    "start_time": "2022-01-09T16:30:24.538Z"
   },
   {
    "duration": 25,
    "start_time": "2022-01-09T16:30:24.728Z"
   },
   {
    "duration": 50,
    "start_time": "2022-01-09T16:30:24.756Z"
   },
   {
    "duration": 15,
    "start_time": "2022-01-09T16:30:24.809Z"
   },
   {
    "duration": 50,
    "start_time": "2022-01-09T16:30:24.826Z"
   },
   {
    "duration": 24,
    "start_time": "2022-01-09T16:30:24.879Z"
   },
   {
    "duration": 56,
    "start_time": "2022-01-09T16:30:24.909Z"
   },
   {
    "duration": 30,
    "start_time": "2022-01-09T16:30:24.969Z"
   },
   {
    "duration": 37,
    "start_time": "2022-01-09T16:30:25.002Z"
   },
   {
    "duration": 94,
    "start_time": "2022-01-09T16:30:25.042Z"
   },
   {
    "duration": 108,
    "start_time": "2022-01-09T16:30:25.139Z"
   },
   {
    "duration": 83,
    "start_time": "2022-01-09T16:30:25.250Z"
   },
   {
    "duration": 71,
    "start_time": "2022-01-09T16:30:25.335Z"
   },
   {
    "duration": 4,
    "start_time": "2022-01-09T16:30:25.418Z"
   },
   {
    "duration": 27,
    "start_time": "2022-01-09T16:30:25.424Z"
   },
   {
    "duration": 80,
    "start_time": "2022-01-09T16:30:25.454Z"
   },
   {
    "duration": 12,
    "start_time": "2022-01-09T16:30:25.536Z"
   },
   {
    "duration": 13,
    "start_time": "2022-01-09T16:30:25.550Z"
   },
   {
    "duration": 5,
    "start_time": "2022-01-09T16:30:25.565Z"
   },
   {
    "duration": 55,
    "start_time": "2022-01-09T16:30:25.572Z"
   },
   {
    "duration": 18,
    "start_time": "2022-01-09T16:30:25.629Z"
   },
   {
    "duration": 20,
    "start_time": "2022-01-09T16:30:25.652Z"
   },
   {
    "duration": 50,
    "start_time": "2022-01-09T16:30:25.675Z"
   },
   {
    "duration": 21,
    "start_time": "2022-01-09T16:30:25.727Z"
   },
   {
    "duration": 20,
    "start_time": "2022-01-09T16:30:25.751Z"
   },
   {
    "duration": 50,
    "start_time": "2022-01-09T16:30:25.774Z"
   },
   {
    "duration": 7,
    "start_time": "2022-01-09T16:30:25.826Z"
   },
   {
    "duration": 9,
    "start_time": "2022-01-09T16:30:25.836Z"
   },
   {
    "duration": 8,
    "start_time": "2022-01-09T16:30:25.848Z"
   },
   {
    "duration": 11,
    "start_time": "2022-01-09T16:30:25.858Z"
   },
   {
    "duration": 6,
    "start_time": "2022-01-09T16:30:25.872Z"
   },
   {
    "duration": 10,
    "start_time": "2022-01-09T16:30:25.881Z"
   },
   {
    "duration": 24,
    "start_time": "2022-01-09T16:30:25.893Z"
   },
   {
    "duration": 4,
    "start_time": "2022-01-09T16:30:25.920Z"
   },
   {
    "duration": 9,
    "start_time": "2022-01-09T16:30:25.926Z"
   },
   {
    "duration": 9,
    "start_time": "2022-01-09T16:30:25.938Z"
   },
   {
    "duration": 9,
    "start_time": "2022-01-09T16:30:25.950Z"
   },
   {
    "duration": 16,
    "start_time": "2022-01-09T16:33:31.462Z"
   },
   {
    "duration": 97,
    "start_time": "2022-01-09T16:43:25.686Z"
   },
   {
    "duration": 464,
    "start_time": "2022-01-09T16:43:40.855Z"
   },
   {
    "duration": 502,
    "start_time": "2022-01-09T16:45:13.869Z"
   },
   {
    "duration": 6,
    "start_time": "2022-01-09T16:46:32.998Z"
   },
   {
    "duration": 6,
    "start_time": "2022-01-09T16:46:36.490Z"
   },
   {
    "duration": 6,
    "start_time": "2022-01-09T16:46:43.613Z"
   },
   {
    "duration": 711,
    "start_time": "2022-01-09T16:46:49.538Z"
   },
   {
    "duration": 189,
    "start_time": "2022-01-09T16:46:50.252Z"
   },
   {
    "duration": 29,
    "start_time": "2022-01-09T16:46:50.444Z"
   },
   {
    "duration": 44,
    "start_time": "2022-01-09T16:46:50.476Z"
   },
   {
    "duration": 4,
    "start_time": "2022-01-09T16:46:50.522Z"
   },
   {
    "duration": 36,
    "start_time": "2022-01-09T16:46:50.528Z"
   },
   {
    "duration": 5,
    "start_time": "2022-01-09T16:46:50.566Z"
   },
   {
    "duration": 55,
    "start_time": "2022-01-09T16:46:50.574Z"
   },
   {
    "duration": 26,
    "start_time": "2022-01-09T16:46:50.635Z"
   },
   {
    "duration": 53,
    "start_time": "2022-01-09T16:46:50.664Z"
   },
   {
    "duration": 82,
    "start_time": "2022-01-09T16:46:50.720Z"
   },
   {
    "duration": 121,
    "start_time": "2022-01-09T16:46:50.805Z"
   },
   {
    "duration": 88,
    "start_time": "2022-01-09T16:46:50.929Z"
   },
   {
    "duration": 73,
    "start_time": "2022-01-09T16:46:51.019Z"
   },
   {
    "duration": 4,
    "start_time": "2022-01-09T16:46:51.094Z"
   },
   {
    "duration": 25,
    "start_time": "2022-01-09T16:46:51.118Z"
   },
   {
    "duration": 80,
    "start_time": "2022-01-09T16:46:51.146Z"
   },
   {
    "duration": 13,
    "start_time": "2022-01-09T16:46:51.228Z"
   },
   {
    "duration": 14,
    "start_time": "2022-01-09T16:46:51.243Z"
   },
   {
    "duration": 5,
    "start_time": "2022-01-09T16:46:51.259Z"
   },
   {
    "duration": 62,
    "start_time": "2022-01-09T16:46:51.267Z"
   },
   {
    "duration": 18,
    "start_time": "2022-01-09T16:46:51.331Z"
   },
   {
    "duration": 19,
    "start_time": "2022-01-09T16:46:51.351Z"
   },
   {
    "duration": 51,
    "start_time": "2022-01-09T16:46:51.372Z"
   },
   {
    "duration": 22,
    "start_time": "2022-01-09T16:46:51.426Z"
   },
   {
    "duration": 19,
    "start_time": "2022-01-09T16:46:51.451Z"
   },
   {
    "duration": 12,
    "start_time": "2022-01-09T16:46:51.517Z"
   },
   {
    "duration": 17,
    "start_time": "2022-01-09T16:46:51.533Z"
   },
   {
    "duration": 14,
    "start_time": "2022-01-09T16:46:51.553Z"
   },
   {
    "duration": 6,
    "start_time": "2022-01-09T16:46:51.570Z"
   },
   {
    "duration": 4,
    "start_time": "2022-01-09T16:46:51.618Z"
   },
   {
    "duration": 9,
    "start_time": "2022-01-09T16:46:51.624Z"
   },
   {
    "duration": 6,
    "start_time": "2022-01-09T16:46:51.636Z"
   },
   {
    "duration": 5,
    "start_time": "2022-01-09T16:46:51.645Z"
   },
   {
    "duration": 5,
    "start_time": "2022-01-09T16:46:51.653Z"
   },
   {
    "duration": 6,
    "start_time": "2022-01-09T16:46:51.661Z"
   },
   {
    "duration": 7,
    "start_time": "2022-01-09T16:46:51.669Z"
   },
   {
    "duration": 39,
    "start_time": "2022-01-09T16:46:51.679Z"
   },
   {
    "duration": 90,
    "start_time": "2022-01-09T16:48:04.986Z"
   },
   {
    "duration": 603,
    "start_time": "2022-01-09T16:48:23.435Z"
   },
   {
    "duration": 623,
    "start_time": "2022-01-09T16:50:22.241Z"
   },
   {
    "duration": 6,
    "start_time": "2022-01-09T16:50:31.731Z"
   },
   {
    "duration": 25,
    "start_time": "2022-01-09T16:50:34.932Z"
   },
   {
    "duration": 20,
    "start_time": "2022-01-09T16:51:22.299Z"
   },
   {
    "duration": 23,
    "start_time": "2022-01-09T16:52:14.567Z"
   },
   {
    "duration": 17,
    "start_time": "2022-01-09T16:52:30.651Z"
   },
   {
    "duration": 808,
    "start_time": "2022-01-09T16:53:38.801Z"
   },
   {
    "duration": 194,
    "start_time": "2022-01-09T16:53:39.612Z"
   },
   {
    "duration": 26,
    "start_time": "2022-01-09T16:53:39.808Z"
   },
   {
    "duration": 33,
    "start_time": "2022-01-09T16:53:39.837Z"
   },
   {
    "duration": 4,
    "start_time": "2022-01-09T16:53:39.872Z"
   },
   {
    "duration": 64,
    "start_time": "2022-01-09T16:53:39.879Z"
   },
   {
    "duration": 5,
    "start_time": "2022-01-09T16:53:39.947Z"
   },
   {
    "duration": 82,
    "start_time": "2022-01-09T16:53:39.956Z"
   },
   {
    "duration": 36,
    "start_time": "2022-01-09T16:53:40.045Z"
   },
   {
    "duration": 57,
    "start_time": "2022-01-09T16:53:40.085Z"
   },
   {
    "duration": 139,
    "start_time": "2022-01-09T16:53:40.146Z"
   },
   {
    "duration": 125,
    "start_time": "2022-01-09T16:53:40.288Z"
   },
   {
    "duration": 78,
    "start_time": "2022-01-09T16:53:40.416Z"
   },
   {
    "duration": 122,
    "start_time": "2022-01-09T16:53:40.496Z"
   },
   {
    "duration": 5,
    "start_time": "2022-01-09T16:53:40.620Z"
   },
   {
    "duration": 46,
    "start_time": "2022-01-09T16:53:40.627Z"
   },
   {
    "duration": 89,
    "start_time": "2022-01-09T16:53:40.676Z"
   },
   {
    "duration": 13,
    "start_time": "2022-01-09T16:53:40.767Z"
   },
   {
    "duration": 14,
    "start_time": "2022-01-09T16:53:40.782Z"
   },
   {
    "duration": 5,
    "start_time": "2022-01-09T16:53:40.818Z"
   },
   {
    "duration": 28,
    "start_time": "2022-01-09T16:53:40.826Z"
   },
   {
    "duration": 20,
    "start_time": "2022-01-09T16:53:40.856Z"
   },
   {
    "duration": 53,
    "start_time": "2022-01-09T16:53:40.878Z"
   },
   {
    "duration": 21,
    "start_time": "2022-01-09T16:53:40.933Z"
   },
   {
    "duration": 22,
    "start_time": "2022-01-09T16:53:40.957Z"
   },
   {
    "duration": 52,
    "start_time": "2022-01-09T16:53:40.981Z"
   },
   {
    "duration": 13,
    "start_time": "2022-01-09T16:53:41.037Z"
   },
   {
    "duration": 15,
    "start_time": "2022-01-09T16:53:41.053Z"
   },
   {
    "duration": 49,
    "start_time": "2022-01-09T16:53:41.071Z"
   },
   {
    "duration": 5,
    "start_time": "2022-01-09T16:53:41.122Z"
   },
   {
    "duration": 28,
    "start_time": "2022-01-09T16:53:41.130Z"
   },
   {
    "duration": 21,
    "start_time": "2022-01-09T16:53:41.161Z"
   },
   {
    "duration": 57,
    "start_time": "2022-01-09T16:53:41.185Z"
   },
   {
    "duration": 18,
    "start_time": "2022-01-09T16:53:41.245Z"
   },
   {
    "duration": 2,
    "start_time": "2022-01-09T16:53:41.266Z"
   },
   {
    "duration": 5,
    "start_time": "2022-01-09T16:53:41.271Z"
   },
   {
    "duration": 3,
    "start_time": "2022-01-09T16:53:41.318Z"
   },
   {
    "duration": 9,
    "start_time": "2022-01-09T16:53:41.324Z"
   },
   {
    "duration": 412,
    "start_time": "2022-01-09T16:59:03.458Z"
   },
   {
    "duration": 726,
    "start_time": "2022-01-09T17:01:41.873Z"
   },
   {
    "duration": 187,
    "start_time": "2022-01-09T17:01:42.601Z"
   },
   {
    "duration": 30,
    "start_time": "2022-01-09T17:01:42.791Z"
   },
   {
    "duration": 34,
    "start_time": "2022-01-09T17:01:42.824Z"
   },
   {
    "duration": 4,
    "start_time": "2022-01-09T17:01:42.860Z"
   },
   {
    "duration": 57,
    "start_time": "2022-01-09T17:01:42.867Z"
   },
   {
    "duration": 4,
    "start_time": "2022-01-09T17:01:42.926Z"
   },
   {
    "duration": 33,
    "start_time": "2022-01-09T17:01:42.933Z"
   },
   {
    "duration": 47,
    "start_time": "2022-01-09T17:01:42.971Z"
   },
   {
    "duration": 28,
    "start_time": "2022-01-09T17:01:43.021Z"
   },
   {
    "duration": 101,
    "start_time": "2022-01-09T17:01:43.052Z"
   },
   {
    "duration": 110,
    "start_time": "2022-01-09T17:01:43.155Z"
   },
   {
    "duration": 91,
    "start_time": "2022-01-09T17:01:43.268Z"
   },
   {
    "duration": 85,
    "start_time": "2022-01-09T17:01:43.362Z"
   },
   {
    "duration": 5,
    "start_time": "2022-01-09T17:01:43.450Z"
   },
   {
    "duration": 28,
    "start_time": "2022-01-09T17:01:43.458Z"
   },
   {
    "duration": 80,
    "start_time": "2022-01-09T17:01:43.488Z"
   },
   {
    "duration": 15,
    "start_time": "2022-01-09T17:01:43.571Z"
   },
   {
    "duration": 37,
    "start_time": "2022-01-09T17:01:43.589Z"
   },
   {
    "duration": 6,
    "start_time": "2022-01-09T17:01:43.629Z"
   },
   {
    "duration": 27,
    "start_time": "2022-01-09T17:01:43.638Z"
   },
   {
    "duration": 52,
    "start_time": "2022-01-09T17:01:43.668Z"
   },
   {
    "duration": 21,
    "start_time": "2022-01-09T17:01:43.723Z"
   },
   {
    "duration": 17,
    "start_time": "2022-01-09T17:01:43.746Z"
   },
   {
    "duration": 59,
    "start_time": "2022-01-09T17:01:43.765Z"
   },
   {
    "duration": 22,
    "start_time": "2022-01-09T17:01:43.827Z"
   },
   {
    "duration": 12,
    "start_time": "2022-01-09T17:01:43.855Z"
   },
   {
    "duration": 47,
    "start_time": "2022-01-09T17:01:43.870Z"
   },
   {
    "duration": 12,
    "start_time": "2022-01-09T17:01:43.919Z"
   },
   {
    "duration": 6,
    "start_time": "2022-01-09T17:01:43.933Z"
   },
   {
    "duration": 29,
    "start_time": "2022-01-09T17:01:43.941Z"
   },
   {
    "duration": 21,
    "start_time": "2022-01-09T17:01:43.973Z"
   },
   {
    "duration": 22,
    "start_time": "2022-01-09T17:01:44.018Z"
   },
   {
    "duration": 16,
    "start_time": "2022-01-09T17:01:44.043Z"
   },
   {
    "duration": 398,
    "start_time": "2022-01-09T17:01:44.062Z"
   },
   {
    "duration": 64,
    "start_time": "2022-01-09T17:01:44.398Z"
   },
   {
    "duration": 62,
    "start_time": "2022-01-09T17:01:44.402Z"
   },
   {
    "duration": 60,
    "start_time": "2022-01-09T17:01:44.405Z"
   },
   {
    "duration": 296,
    "start_time": "2022-01-09T17:02:30.566Z"
   },
   {
    "duration": 10,
    "start_time": "2022-01-09T17:03:30.086Z"
   },
   {
    "duration": 6,
    "start_time": "2022-01-09T17:04:55.312Z"
   },
   {
    "duration": 6,
    "start_time": "2022-01-09T17:05:08.758Z"
   },
   {
    "duration": 5,
    "start_time": "2022-01-09T17:05:16.794Z"
   },
   {
    "duration": 5,
    "start_time": "2022-01-09T17:05:25.933Z"
   },
   {
    "duration": 5,
    "start_time": "2022-01-09T17:05:32.911Z"
   },
   {
    "duration": 5,
    "start_time": "2022-01-09T17:05:35.366Z"
   },
   {
    "duration": 26,
    "start_time": "2022-01-09T17:05:38.061Z"
   },
   {
    "duration": 19,
    "start_time": "2022-01-09T17:05:41.169Z"
   },
   {
    "duration": 27,
    "start_time": "2022-01-09T17:05:43.868Z"
   },
   {
    "duration": 21,
    "start_time": "2022-01-09T17:05:47.346Z"
   },
   {
    "duration": 6,
    "start_time": "2022-01-09T17:06:21.048Z"
   },
   {
    "duration": 10,
    "start_time": "2022-01-09T17:07:06.858Z"
   },
   {
    "duration": 7,
    "start_time": "2022-01-09T17:07:24.022Z"
   },
   {
    "duration": 729,
    "start_time": "2022-01-09T17:09:06.320Z"
   },
   {
    "duration": 186,
    "start_time": "2022-01-09T17:09:07.052Z"
   },
   {
    "duration": 24,
    "start_time": "2022-01-09T17:09:07.241Z"
   },
   {
    "duration": 50,
    "start_time": "2022-01-09T17:09:07.268Z"
   },
   {
    "duration": 5,
    "start_time": "2022-01-09T17:09:07.321Z"
   },
   {
    "duration": 35,
    "start_time": "2022-01-09T17:09:07.329Z"
   },
   {
    "duration": 5,
    "start_time": "2022-01-09T17:09:07.367Z"
   },
   {
    "duration": 62,
    "start_time": "2022-01-09T17:09:07.376Z"
   },
   {
    "duration": 22,
    "start_time": "2022-01-09T17:09:07.441Z"
   },
   {
    "duration": 52,
    "start_time": "2022-01-09T17:09:07.465Z"
   },
   {
    "duration": 97,
    "start_time": "2022-01-09T17:09:07.520Z"
   },
   {
    "duration": 107,
    "start_time": "2022-01-09T17:09:07.619Z"
   },
   {
    "duration": 74,
    "start_time": "2022-01-09T17:09:07.729Z"
   },
   {
    "duration": 71,
    "start_time": "2022-01-09T17:09:07.817Z"
   },
   {
    "duration": 4,
    "start_time": "2022-01-09T17:09:07.891Z"
   },
   {
    "duration": 42,
    "start_time": "2022-01-09T17:09:07.897Z"
   },
   {
    "duration": 57,
    "start_time": "2022-01-09T17:09:07.941Z"
   },
   {
    "duration": 16,
    "start_time": "2022-01-09T17:09:08.017Z"
   },
   {
    "duration": 15,
    "start_time": "2022-01-09T17:09:08.036Z"
   },
   {
    "duration": 6,
    "start_time": "2022-01-09T17:09:08.054Z"
   },
   {
    "duration": 63,
    "start_time": "2022-01-09T17:09:08.062Z"
   },
   {
    "duration": 18,
    "start_time": "2022-01-09T17:09:08.127Z"
   },
   {
    "duration": 20,
    "start_time": "2022-01-09T17:09:08.147Z"
   },
   {
    "duration": 52,
    "start_time": "2022-01-09T17:09:08.169Z"
   },
   {
    "duration": 22,
    "start_time": "2022-01-09T17:09:08.223Z"
   },
   {
    "duration": 19,
    "start_time": "2022-01-09T17:09:08.250Z"
   },
   {
    "duration": 11,
    "start_time": "2022-01-09T17:09:08.272Z"
   },
   {
    "duration": 45,
    "start_time": "2022-01-09T17:09:08.285Z"
   },
   {
    "duration": 14,
    "start_time": "2022-01-09T17:09:08.332Z"
   },
   {
    "duration": 6,
    "start_time": "2022-01-09T17:09:08.348Z"
   },
   {
    "duration": 72,
    "start_time": "2022-01-09T17:09:08.357Z"
   },
   {
    "duration": 23,
    "start_time": "2022-01-09T17:09:08.432Z"
   },
   {
    "duration": 25,
    "start_time": "2022-01-09T17:09:08.457Z"
   },
   {
    "duration": 49,
    "start_time": "2022-01-09T17:09:08.485Z"
   },
   {
    "duration": 10,
    "start_time": "2022-01-09T17:09:08.536Z"
   },
   {
    "duration": 8,
    "start_time": "2022-01-09T17:09:08.549Z"
   },
   {
    "duration": 11,
    "start_time": "2022-01-09T17:09:08.560Z"
   },
   {
    "duration": 48,
    "start_time": "2022-01-09T17:09:08.574Z"
   },
   {
    "duration": 741,
    "start_time": "2022-01-09T17:16:08.600Z"
   },
   {
    "duration": 323,
    "start_time": "2022-01-09T17:18:42.169Z"
   },
   {
    "duration": 289,
    "start_time": "2022-01-09T17:18:54.596Z"
   },
   {
    "duration": 238,
    "start_time": "2022-01-09T17:19:02.901Z"
   },
   {
    "duration": 697,
    "start_time": "2022-01-09T17:19:16.147Z"
   },
   {
    "duration": 206,
    "start_time": "2022-01-09T17:19:16.847Z"
   },
   {
    "duration": 27,
    "start_time": "2022-01-09T17:19:17.057Z"
   },
   {
    "duration": 58,
    "start_time": "2022-01-09T17:19:17.088Z"
   },
   {
    "duration": 5,
    "start_time": "2022-01-09T17:19:17.149Z"
   },
   {
    "duration": 29,
    "start_time": "2022-01-09T17:19:17.156Z"
   },
   {
    "duration": 4,
    "start_time": "2022-01-09T17:19:17.188Z"
   },
   {
    "duration": 32,
    "start_time": "2022-01-09T17:19:17.219Z"
   },
   {
    "duration": 22,
    "start_time": "2022-01-09T17:19:17.254Z"
   },
   {
    "duration": 52,
    "start_time": "2022-01-09T17:19:17.278Z"
   },
   {
    "duration": 106,
    "start_time": "2022-01-09T17:19:17.333Z"
   },
   {
    "duration": 107,
    "start_time": "2022-01-09T17:19:17.442Z"
   },
   {
    "duration": 81,
    "start_time": "2022-01-09T17:19:17.551Z"
   },
   {
    "duration": 70,
    "start_time": "2022-01-09T17:19:17.635Z"
   },
   {
    "duration": 4,
    "start_time": "2022-01-09T17:19:17.717Z"
   },
   {
    "duration": 25,
    "start_time": "2022-01-09T17:19:17.723Z"
   },
   {
    "duration": 80,
    "start_time": "2022-01-09T17:19:17.751Z"
   },
   {
    "duration": 14,
    "start_time": "2022-01-09T17:19:17.833Z"
   },
   {
    "duration": 13,
    "start_time": "2022-01-09T17:19:17.849Z"
   },
   {
    "duration": 5,
    "start_time": "2022-01-09T17:19:17.864Z"
   },
   {
    "duration": 54,
    "start_time": "2022-01-09T17:19:17.872Z"
   },
   {
    "duration": 17,
    "start_time": "2022-01-09T17:19:17.929Z"
   },
   {
    "duration": 22,
    "start_time": "2022-01-09T17:19:17.951Z"
   },
   {
    "duration": 48,
    "start_time": "2022-01-09T17:19:17.977Z"
   },
   {
    "duration": 21,
    "start_time": "2022-01-09T17:19:18.027Z"
   },
   {
    "duration": 18,
    "start_time": "2022-01-09T17:19:18.050Z"
   },
   {
    "duration": 46,
    "start_time": "2022-01-09T17:19:18.071Z"
   },
   {
    "duration": 14,
    "start_time": "2022-01-09T17:19:18.120Z"
   },
   {
    "duration": 12,
    "start_time": "2022-01-09T17:19:18.136Z"
   },
   {
    "duration": 6,
    "start_time": "2022-01-09T17:19:18.151Z"
   },
   {
    "duration": 60,
    "start_time": "2022-01-09T17:19:18.159Z"
   },
   {
    "duration": 18,
    "start_time": "2022-01-09T17:19:18.222Z"
   },
   {
    "duration": 25,
    "start_time": "2022-01-09T17:19:18.242Z"
   },
   {
    "duration": 52,
    "start_time": "2022-01-09T17:19:18.269Z"
   },
   {
    "duration": 10,
    "start_time": "2022-01-09T17:19:18.324Z"
   },
   {
    "duration": 7,
    "start_time": "2022-01-09T17:19:18.336Z"
   },
   {
    "duration": 8,
    "start_time": "2022-01-09T17:19:18.346Z"
   },
   {
    "duration": 6,
    "start_time": "2022-01-09T17:19:18.357Z"
   },
   {
    "duration": 514,
    "start_time": "2022-01-11T03:29:47.438Z"
   },
   {
    "duration": 138,
    "start_time": "2022-01-11T03:29:47.954Z"
   },
   {
    "duration": 16,
    "start_time": "2022-01-11T03:29:48.094Z"
   },
   {
    "duration": 26,
    "start_time": "2022-01-11T03:29:48.112Z"
   },
   {
    "duration": 4,
    "start_time": "2022-01-11T03:29:48.140Z"
   },
   {
    "duration": 54,
    "start_time": "2022-01-11T03:29:48.146Z"
   },
   {
    "duration": 5,
    "start_time": "2022-01-11T03:29:48.202Z"
   },
   {
    "duration": 25,
    "start_time": "2022-01-11T03:29:48.209Z"
   },
   {
    "duration": 18,
    "start_time": "2022-01-11T03:29:48.237Z"
   },
   {
    "duration": 59,
    "start_time": "2022-01-11T03:29:48.258Z"
   },
   {
    "duration": 78,
    "start_time": "2022-01-11T03:29:48.319Z"
   },
   {
    "duration": 114,
    "start_time": "2022-01-11T03:29:48.399Z"
   },
   {
    "duration": 107,
    "start_time": "2022-01-11T03:29:48.515Z"
   },
   {
    "duration": 100,
    "start_time": "2022-01-11T03:29:48.623Z"
   },
   {
    "duration": 3,
    "start_time": "2022-01-11T03:29:48.724Z"
   },
   {
    "duration": 71,
    "start_time": "2022-01-11T03:29:48.729Z"
   },
   {
    "duration": 92,
    "start_time": "2022-01-11T03:29:48.802Z"
   },
   {
    "duration": 10,
    "start_time": "2022-01-11T03:29:48.895Z"
   },
   {
    "duration": 10,
    "start_time": "2022-01-11T03:29:48.906Z"
   },
   {
    "duration": 3,
    "start_time": "2022-01-11T03:29:48.917Z"
   },
   {
    "duration": 72,
    "start_time": "2022-01-11T03:29:48.922Z"
   },
   {
    "duration": 15,
    "start_time": "2022-01-11T03:29:48.996Z"
   },
   {
    "duration": 15,
    "start_time": "2022-01-11T03:29:49.013Z"
   },
   {
    "duration": 13,
    "start_time": "2022-01-11T03:29:49.030Z"
   },
   {
    "duration": 48,
    "start_time": "2022-01-11T03:29:49.045Z"
   },
   {
    "duration": 15,
    "start_time": "2022-01-11T03:29:49.094Z"
   },
   {
    "duration": 7,
    "start_time": "2022-01-11T03:29:49.113Z"
   },
   {
    "duration": 13,
    "start_time": "2022-01-11T03:29:49.122Z"
   },
   {
    "duration": 9,
    "start_time": "2022-01-11T03:29:49.136Z"
   },
   {
    "duration": 4,
    "start_time": "2022-01-11T03:29:49.147Z"
   },
   {
    "duration": 57,
    "start_time": "2022-01-11T03:29:49.152Z"
   },
   {
    "duration": 18,
    "start_time": "2022-01-11T03:29:49.211Z"
   },
   {
    "duration": 24,
    "start_time": "2022-01-11T03:29:49.231Z"
   },
   {
    "duration": 39,
    "start_time": "2022-01-11T03:29:49.256Z"
   },
   {
    "duration": 7,
    "start_time": "2022-01-11T03:29:49.297Z"
   },
   {
    "duration": 5,
    "start_time": "2022-01-11T03:29:49.305Z"
   },
   {
    "duration": 8,
    "start_time": "2022-01-11T03:29:49.311Z"
   },
   {
    "duration": 4,
    "start_time": "2022-01-11T03:29:49.320Z"
   },
   {
    "duration": 10,
    "start_time": "2022-01-11T03:30:41.524Z"
   },
   {
    "duration": 15,
    "start_time": "2022-01-11T03:32:14.862Z"
   },
   {
    "duration": 7,
    "start_time": "2022-01-11T03:32:42.778Z"
   },
   {
    "duration": 371,
    "start_time": "2022-01-17T11:41:57.484Z"
   },
   {
    "duration": 974,
    "start_time": "2022-01-17T11:44:42.308Z"
   },
   {
    "duration": 1606,
    "start_time": "2022-01-17T11:44:43.284Z"
   },
   {
    "duration": 15,
    "start_time": "2022-01-17T11:44:44.892Z"
   },
   {
    "duration": 8,
    "start_time": "2022-01-17T11:44:44.909Z"
   },
   {
    "duration": 25,
    "start_time": "2022-01-17T11:44:44.918Z"
   },
   {
    "duration": 3,
    "start_time": "2022-01-17T11:44:44.944Z"
   },
   {
    "duration": 39,
    "start_time": "2022-01-17T11:44:44.949Z"
   },
   {
    "duration": 3,
    "start_time": "2022-01-17T11:44:44.990Z"
   },
   {
    "duration": 23,
    "start_time": "2022-01-17T11:44:44.995Z"
   },
   {
    "duration": 20,
    "start_time": "2022-01-17T11:44:45.020Z"
   },
   {
    "duration": 40,
    "start_time": "2022-01-17T11:44:45.041Z"
   },
   {
    "duration": 52,
    "start_time": "2022-01-17T11:44:45.083Z"
   },
   {
    "duration": 73,
    "start_time": "2022-01-17T11:44:45.137Z"
   },
   {
    "duration": 46,
    "start_time": "2022-01-17T11:44:45.212Z"
   },
   {
    "duration": 54,
    "start_time": "2022-01-17T11:44:45.259Z"
   },
   {
    "duration": 2,
    "start_time": "2022-01-17T11:44:45.315Z"
   },
   {
    "duration": 21,
    "start_time": "2022-01-17T11:44:45.319Z"
   },
   {
    "duration": 54,
    "start_time": "2022-01-17T11:44:45.342Z"
   },
   {
    "duration": 9,
    "start_time": "2022-01-17T11:44:45.397Z"
   },
   {
    "duration": 10,
    "start_time": "2022-01-17T11:44:45.408Z"
   },
   {
    "duration": 15,
    "start_time": "2022-01-17T11:44:45.419Z"
   },
   {
    "duration": 3,
    "start_time": "2022-01-17T11:44:45.436Z"
   },
   {
    "duration": 44,
    "start_time": "2022-01-17T11:44:45.441Z"
   },
   {
    "duration": 13,
    "start_time": "2022-01-17T11:44:45.486Z"
   },
   {
    "duration": 12,
    "start_time": "2022-01-17T11:44:45.500Z"
   },
   {
    "duration": 16,
    "start_time": "2022-01-17T11:44:45.513Z"
   },
   {
    "duration": 15,
    "start_time": "2022-01-17T11:44:45.530Z"
   },
   {
    "duration": 32,
    "start_time": "2022-01-17T11:44:45.546Z"
   },
   {
    "duration": 7,
    "start_time": "2022-01-17T11:44:45.580Z"
   },
   {
    "duration": 13,
    "start_time": "2022-01-17T11:44:45.588Z"
   },
   {
    "duration": 10,
    "start_time": "2022-01-17T11:44:45.602Z"
   },
   {
    "duration": 5,
    "start_time": "2022-01-17T11:44:45.613Z"
   },
   {
    "duration": 26,
    "start_time": "2022-01-17T11:44:45.620Z"
   },
   {
    "duration": 35,
    "start_time": "2022-01-17T11:44:45.647Z"
   },
   {
    "duration": 17,
    "start_time": "2022-01-17T11:44:45.683Z"
   },
   {
    "duration": 12,
    "start_time": "2022-01-17T11:44:45.702Z"
   },
   {
    "duration": 7,
    "start_time": "2022-01-17T11:44:45.715Z"
   },
   {
    "duration": 9,
    "start_time": "2022-01-17T11:44:45.724Z"
   },
   {
    "duration": 10,
    "start_time": "2022-01-17T11:44:45.735Z"
   },
   {
    "duration": 7,
    "start_time": "2022-01-17T11:44:45.772Z"
   },
   {
    "duration": 4,
    "start_time": "2022-01-17T11:44:45.781Z"
   },
   {
    "duration": 109,
    "start_time": "2022-01-17T12:00:32.109Z"
   },
   {
    "duration": 107,
    "start_time": "2022-01-17T12:00:35.349Z"
   },
   {
    "duration": 110,
    "start_time": "2022-01-17T12:00:53.022Z"
   },
   {
    "duration": 10,
    "start_time": "2022-01-17T12:04:26.126Z"
   },
   {
    "duration": 114,
    "start_time": "2022-01-17T12:31:41.490Z"
   },
   {
    "duration": 10,
    "start_time": "2022-01-17T12:31:49.858Z"
   },
   {
    "duration": 2,
    "start_time": "2022-01-17T12:39:52.630Z"
   },
   {
    "duration": 154,
    "start_time": "2022-01-17T12:39:52.634Z"
   },
   {
    "duration": 10,
    "start_time": "2022-01-17T12:39:52.790Z"
   },
   {
    "duration": 26,
    "start_time": "2022-01-17T12:39:52.801Z"
   },
   {
    "duration": 40,
    "start_time": "2022-01-17T12:39:52.829Z"
   },
   {
    "duration": 18,
    "start_time": "2022-01-17T12:39:52.870Z"
   },
   {
    "duration": 52,
    "start_time": "2022-01-17T12:39:52.890Z"
   },
   {
    "duration": 33,
    "start_time": "2022-01-17T12:39:52.944Z"
   },
   {
    "duration": 39,
    "start_time": "2022-01-17T12:39:52.978Z"
   },
   {
    "duration": 40,
    "start_time": "2022-01-17T12:39:53.018Z"
   },
   {
    "duration": 49,
    "start_time": "2022-01-17T12:39:53.059Z"
   },
   {
    "duration": 67,
    "start_time": "2022-01-17T12:39:53.109Z"
   },
   {
    "duration": 56,
    "start_time": "2022-01-17T12:39:53.178Z"
   },
   {
    "duration": 51,
    "start_time": "2022-01-17T12:39:53.236Z"
   },
   {
    "duration": 44,
    "start_time": "2022-01-17T12:39:53.288Z"
   },
   {
    "duration": 3,
    "start_time": "2022-01-17T12:39:53.333Z"
   },
   {
    "duration": 27,
    "start_time": "2022-01-17T12:39:53.337Z"
   },
   {
    "duration": 68,
    "start_time": "2022-01-17T12:39:53.366Z"
   },
   {
    "duration": 8,
    "start_time": "2022-01-17T12:39:53.438Z"
   },
   {
    "duration": 34,
    "start_time": "2022-01-17T12:39:53.448Z"
   },
   {
    "duration": 33,
    "start_time": "2022-01-17T12:39:53.484Z"
   },
   {
    "duration": 16,
    "start_time": "2022-01-17T12:39:53.519Z"
   },
   {
    "duration": 43,
    "start_time": "2022-01-17T12:39:53.537Z"
   },
   {
    "duration": 30,
    "start_time": "2022-01-17T12:39:53.582Z"
   },
   {
    "duration": 35,
    "start_time": "2022-01-17T12:39:53.614Z"
   },
   {
    "duration": 34,
    "start_time": "2022-01-17T12:39:53.650Z"
   },
   {
    "duration": 35,
    "start_time": "2022-01-17T12:39:53.686Z"
   },
   {
    "duration": 28,
    "start_time": "2022-01-17T12:39:53.722Z"
   },
   {
    "duration": 23,
    "start_time": "2022-01-17T12:39:53.751Z"
   },
   {
    "duration": 36,
    "start_time": "2022-01-17T12:39:53.776Z"
   },
   {
    "duration": 19,
    "start_time": "2022-01-17T12:39:53.813Z"
   },
   {
    "duration": 23,
    "start_time": "2022-01-17T12:39:53.833Z"
   },
   {
    "duration": 52,
    "start_time": "2022-01-17T12:39:53.858Z"
   },
   {
    "duration": 28,
    "start_time": "2022-01-17T12:39:53.912Z"
   },
   {
    "duration": 30,
    "start_time": "2022-01-17T12:39:53.941Z"
   },
   {
    "duration": 28,
    "start_time": "2022-01-17T12:39:53.972Z"
   },
   {
    "duration": 18,
    "start_time": "2022-01-17T12:39:54.002Z"
   },
   {
    "duration": 20,
    "start_time": "2022-01-17T12:39:54.022Z"
   },
   {
    "duration": 23,
    "start_time": "2022-01-17T12:39:54.044Z"
   },
   {
    "duration": 19,
    "start_time": "2022-01-17T12:39:54.069Z"
   },
   {
    "duration": 21,
    "start_time": "2022-01-17T12:39:54.090Z"
   },
   {
    "duration": 107,
    "start_time": "2022-01-17T12:40:34.213Z"
   },
   {
    "duration": 11,
    "start_time": "2022-01-17T12:40:41.085Z"
   },
   {
    "duration": 2,
    "start_time": "2022-01-17T12:47:19.560Z"
   },
   {
    "duration": 124,
    "start_time": "2022-01-17T12:47:19.566Z"
   },
   {
    "duration": 9,
    "start_time": "2022-01-17T12:47:19.692Z"
   },
   {
    "duration": 9,
    "start_time": "2022-01-17T12:47:19.703Z"
   },
   {
    "duration": 22,
    "start_time": "2022-01-17T12:47:19.714Z"
   },
   {
    "duration": 3,
    "start_time": "2022-01-17T12:47:19.738Z"
   },
   {
    "duration": 43,
    "start_time": "2022-01-17T12:47:19.742Z"
   },
   {
    "duration": 3,
    "start_time": "2022-01-17T12:47:19.786Z"
   },
   {
    "duration": 21,
    "start_time": "2022-01-17T12:47:19.792Z"
   },
   {
    "duration": 15,
    "start_time": "2022-01-17T12:47:19.814Z"
   },
   {
    "duration": 40,
    "start_time": "2022-01-17T12:47:19.831Z"
   },
   {
    "duration": 53,
    "start_time": "2022-01-17T12:47:19.873Z"
   },
   {
    "duration": 72,
    "start_time": "2022-01-17T12:47:19.928Z"
   },
   {
    "duration": 45,
    "start_time": "2022-01-17T12:47:20.002Z"
   },
   {
    "duration": 54,
    "start_time": "2022-01-17T12:47:20.048Z"
   },
   {
    "duration": 3,
    "start_time": "2022-01-17T12:47:20.104Z"
   },
   {
    "duration": 10,
    "start_time": "2022-01-17T12:47:20.109Z"
   },
   {
    "duration": 57,
    "start_time": "2022-01-17T12:47:20.120Z"
   },
   {
    "duration": 9,
    "start_time": "2022-01-17T12:47:20.178Z"
   },
   {
    "duration": 2,
    "start_time": "2022-01-17T12:47:46.097Z"
   },
   {
    "duration": 138,
    "start_time": "2022-01-17T12:47:46.101Z"
   },
   {
    "duration": 10,
    "start_time": "2022-01-17T12:47:46.240Z"
   },
   {
    "duration": 21,
    "start_time": "2022-01-17T12:47:46.252Z"
   },
   {
    "duration": 25,
    "start_time": "2022-01-17T12:47:46.275Z"
   },
   {
    "duration": 5,
    "start_time": "2022-01-17T12:47:46.302Z"
   },
   {
    "duration": 10,
    "start_time": "2022-01-17T12:47:46.309Z"
   },
   {
    "duration": 3,
    "start_time": "2022-01-17T12:47:46.321Z"
   },
   {
    "duration": 49,
    "start_time": "2022-01-17T12:47:46.326Z"
   },
   {
    "duration": 16,
    "start_time": "2022-01-17T12:47:46.377Z"
   },
   {
    "duration": 20,
    "start_time": "2022-01-17T12:47:46.394Z"
   },
   {
    "duration": 66,
    "start_time": "2022-01-17T12:47:46.416Z"
   },
   {
    "duration": 56,
    "start_time": "2022-01-17T12:47:46.484Z"
   },
   {
    "duration": 56,
    "start_time": "2022-01-17T12:47:46.541Z"
   },
   {
    "duration": 44,
    "start_time": "2022-01-17T12:47:46.599Z"
   },
   {
    "duration": 3,
    "start_time": "2022-01-17T12:47:46.644Z"
   },
   {
    "duration": 23,
    "start_time": "2022-01-17T12:47:46.648Z"
   },
   {
    "duration": 40,
    "start_time": "2022-01-17T12:47:46.673Z"
   },
   {
    "duration": 9,
    "start_time": "2022-01-17T12:47:46.715Z"
   },
   {
    "duration": 14,
    "start_time": "2022-01-17T12:47:46.726Z"
   },
   {
    "duration": 41,
    "start_time": "2022-01-17T12:47:46.742Z"
   },
   {
    "duration": 4,
    "start_time": "2022-01-17T12:47:46.784Z"
   },
   {
    "duration": 20,
    "start_time": "2022-01-17T12:47:46.789Z"
   },
   {
    "duration": 13,
    "start_time": "2022-01-17T12:47:46.810Z"
   },
   {
    "duration": 15,
    "start_time": "2022-01-17T12:47:46.824Z"
   },
   {
    "duration": 38,
    "start_time": "2022-01-17T12:47:46.841Z"
   },
   {
    "duration": 16,
    "start_time": "2022-01-17T12:47:46.880Z"
   },
   {
    "duration": 13,
    "start_time": "2022-01-17T12:47:46.897Z"
   },
   {
    "duration": 7,
    "start_time": "2022-01-17T12:47:46.912Z"
   },
   {
    "duration": 12,
    "start_time": "2022-01-17T12:47:46.921Z"
   },
   {
    "duration": 37,
    "start_time": "2022-01-17T12:47:46.935Z"
   },
   {
    "duration": 4,
    "start_time": "2022-01-17T12:47:46.973Z"
   },
   {
    "duration": 22,
    "start_time": "2022-01-17T12:47:46.978Z"
   },
   {
    "duration": 18,
    "start_time": "2022-01-17T12:47:47.001Z"
   },
   {
    "duration": 18,
    "start_time": "2022-01-17T12:47:47.020Z"
   },
   {
    "duration": 31,
    "start_time": "2022-01-17T12:47:47.040Z"
   },
   {
    "duration": 7,
    "start_time": "2022-01-17T12:47:47.073Z"
   },
   {
    "duration": 4,
    "start_time": "2022-01-17T12:47:47.081Z"
   },
   {
    "duration": 12,
    "start_time": "2022-01-17T12:47:47.087Z"
   },
   {
    "duration": 9,
    "start_time": "2022-01-17T12:47:47.101Z"
   },
   {
    "duration": 7,
    "start_time": "2022-01-17T12:47:47.112Z"
   },
   {
    "duration": 12,
    "start_time": "2022-01-17T12:48:20.692Z"
   },
   {
    "duration": 16,
    "start_time": "2022-01-17T12:48:31.211Z"
   },
   {
    "duration": 12,
    "start_time": "2022-01-17T12:48:43.410Z"
   },
   {
    "duration": 4,
    "start_time": "2022-01-17T13:04:53.061Z"
   },
   {
    "duration": 2,
    "start_time": "2022-01-17T13:06:10.952Z"
   },
   {
    "duration": 348,
    "start_time": "2022-01-17T13:06:10.956Z"
   },
   {
    "duration": 8,
    "start_time": "2022-01-17T13:06:11.306Z"
   },
   {
    "duration": 11,
    "start_time": "2022-01-17T13:06:11.316Z"
   },
   {
    "duration": 25,
    "start_time": "2022-01-17T13:06:11.328Z"
   },
   {
    "duration": 17,
    "start_time": "2022-01-17T13:06:11.355Z"
   },
   {
    "duration": 10,
    "start_time": "2022-01-17T13:06:11.374Z"
   },
   {
    "duration": 3,
    "start_time": "2022-01-17T13:06:11.386Z"
   },
   {
    "duration": 24,
    "start_time": "2022-01-17T13:06:11.390Z"
   },
   {
    "duration": 16,
    "start_time": "2022-01-17T13:06:11.416Z"
   },
   {
    "duration": 48,
    "start_time": "2022-01-17T13:06:11.434Z"
   },
   {
    "duration": 51,
    "start_time": "2022-01-17T13:06:11.483Z"
   },
   {
    "duration": 75,
    "start_time": "2022-01-17T13:06:11.536Z"
   },
   {
    "duration": 43,
    "start_time": "2022-01-17T13:06:11.613Z"
   },
   {
    "duration": 55,
    "start_time": "2022-01-17T13:06:11.658Z"
   },
   {
    "duration": 3,
    "start_time": "2022-01-17T13:06:11.715Z"
   },
   {
    "duration": 10,
    "start_time": "2022-01-17T13:06:11.719Z"
   },
   {
    "duration": 60,
    "start_time": "2022-01-17T13:06:11.731Z"
   },
   {
    "duration": 9,
    "start_time": "2022-01-17T13:06:11.794Z"
   },
   {
    "duration": 12,
    "start_time": "2022-01-17T13:06:11.805Z"
   },
   {
    "duration": 15,
    "start_time": "2022-01-17T13:06:11.818Z"
   },
   {
    "duration": 3,
    "start_time": "2022-01-17T13:06:11.834Z"
   },
   {
    "duration": 45,
    "start_time": "2022-01-17T13:06:11.839Z"
   },
   {
    "duration": 13,
    "start_time": "2022-01-17T13:06:11.886Z"
   },
   {
    "duration": 22,
    "start_time": "2022-01-17T13:06:11.901Z"
   },
   {
    "duration": 21,
    "start_time": "2022-01-17T13:06:11.925Z"
   },
   {
    "duration": 26,
    "start_time": "2022-01-17T13:06:11.973Z"
   },
   {
    "duration": 22,
    "start_time": "2022-01-17T13:06:12.000Z"
   },
   {
    "duration": 11,
    "start_time": "2022-01-17T13:06:12.024Z"
   },
   {
    "duration": 46,
    "start_time": "2022-01-17T13:06:12.037Z"
   },
   {
    "duration": 13,
    "start_time": "2022-01-17T13:06:12.086Z"
   },
   {
    "duration": 7,
    "start_time": "2022-01-17T13:06:12.101Z"
   },
   {
    "duration": 32,
    "start_time": "2022-01-17T13:06:12.110Z"
   },
   {
    "duration": 27,
    "start_time": "2022-01-17T13:06:12.143Z"
   },
   {
    "duration": 28,
    "start_time": "2022-01-17T13:06:12.171Z"
   },
   {
    "duration": 15,
    "start_time": "2022-01-17T13:06:12.201Z"
   },
   {
    "duration": 14,
    "start_time": "2022-01-17T13:06:12.218Z"
   },
   {
    "duration": 11,
    "start_time": "2022-01-17T13:06:12.234Z"
   },
   {
    "duration": 17,
    "start_time": "2022-01-17T13:06:12.247Z"
   },
   {
    "duration": 12,
    "start_time": "2022-01-17T13:06:12.265Z"
   },
   {
    "duration": 24,
    "start_time": "2022-01-17T13:06:12.280Z"
   },
   {
    "duration": 389,
    "start_time": "2022-01-17T13:09:37.764Z"
   },
   {
    "duration": 5,
    "start_time": "2022-01-17T13:09:46.853Z"
   },
   {
    "duration": 5,
    "start_time": "2022-01-17T13:10:06.313Z"
   },
   {
    "duration": 7,
    "start_time": "2022-01-17T13:10:30.700Z"
   },
   {
    "duration": 31,
    "start_time": "2022-01-17T13:17:22.866Z"
   },
   {
    "duration": 3,
    "start_time": "2022-01-17T13:17:27.531Z"
   },
   {
    "duration": 204,
    "start_time": "2022-01-17T13:17:27.536Z"
   },
   {
    "duration": 14,
    "start_time": "2022-01-17T13:17:27.743Z"
   },
   {
    "duration": 20,
    "start_time": "2022-01-17T13:17:27.759Z"
   },
   {
    "duration": 24,
    "start_time": "2022-01-17T13:17:27.781Z"
   },
   {
    "duration": 4,
    "start_time": "2022-01-17T13:17:27.806Z"
   },
   {
    "duration": 11,
    "start_time": "2022-01-17T13:17:27.812Z"
   },
   {
    "duration": 3,
    "start_time": "2022-01-17T13:17:27.825Z"
   },
   {
    "duration": 51,
    "start_time": "2022-01-17T13:17:27.829Z"
   },
   {
    "duration": 18,
    "start_time": "2022-01-17T13:17:27.882Z"
   },
   {
    "duration": 32,
    "start_time": "2022-01-17T13:17:27.901Z"
   },
   {
    "duration": 61,
    "start_time": "2022-01-17T13:17:27.935Z"
   },
   {
    "duration": 59,
    "start_time": "2022-01-17T13:17:27.997Z"
   },
   {
    "duration": 56,
    "start_time": "2022-01-17T13:17:28.057Z"
   },
   {
    "duration": 63,
    "start_time": "2022-01-17T13:17:28.114Z"
   },
   {
    "duration": 3,
    "start_time": "2022-01-17T13:17:28.179Z"
   },
   {
    "duration": 13,
    "start_time": "2022-01-17T13:17:28.183Z"
   },
   {
    "duration": 40,
    "start_time": "2022-01-17T13:17:28.198Z"
   },
   {
    "duration": 9,
    "start_time": "2022-01-17T13:17:28.241Z"
   },
   {
    "duration": 13,
    "start_time": "2022-01-17T13:17:28.272Z"
   },
   {
    "duration": 15,
    "start_time": "2022-01-17T13:17:28.287Z"
   },
   {
    "duration": 4,
    "start_time": "2022-01-17T13:17:28.304Z"
   },
   {
    "duration": 19,
    "start_time": "2022-01-17T13:17:28.310Z"
   },
   {
    "duration": 43,
    "start_time": "2022-01-17T13:17:28.330Z"
   },
   {
    "duration": 16,
    "start_time": "2022-01-17T13:17:28.375Z"
   },
   {
    "duration": 13,
    "start_time": "2022-01-17T13:17:28.392Z"
   },
   {
    "duration": 15,
    "start_time": "2022-01-17T13:17:28.406Z"
   },
   {
    "duration": 13,
    "start_time": "2022-01-17T13:17:28.422Z"
   },
   {
    "duration": 42,
    "start_time": "2022-01-17T13:17:28.436Z"
   },
   {
    "duration": 14,
    "start_time": "2022-01-17T13:17:28.479Z"
   },
   {
    "duration": 10,
    "start_time": "2022-01-17T13:17:28.494Z"
   },
   {
    "duration": 3,
    "start_time": "2022-01-17T13:17:28.506Z"
   },
   {
    "duration": 24,
    "start_time": "2022-01-17T13:17:28.511Z"
   },
   {
    "duration": 13,
    "start_time": "2022-01-17T13:17:28.536Z"
   },
   {
    "duration": 20,
    "start_time": "2022-01-17T13:17:28.571Z"
   },
   {
    "duration": 14,
    "start_time": "2022-01-17T13:17:28.593Z"
   },
   {
    "duration": 9,
    "start_time": "2022-01-17T13:17:28.608Z"
   },
   {
    "duration": 7,
    "start_time": "2022-01-17T13:17:28.619Z"
   },
   {
    "duration": 10,
    "start_time": "2022-01-17T13:17:28.628Z"
   },
   {
    "duration": 8,
    "start_time": "2022-01-17T13:17:28.673Z"
   },
   {
    "duration": 6,
    "start_time": "2022-01-17T13:17:28.682Z"
   },
   {
    "duration": 396,
    "start_time": "2022-01-17T13:21:40.136Z"
   },
   {
    "duration": 612,
    "start_time": "2022-01-17T13:21:51.760Z"
   },
   {
    "duration": 140,
    "start_time": "2022-01-17T13:21:52.373Z"
   },
   {
    "duration": 16,
    "start_time": "2022-01-17T13:21:52.515Z"
   },
   {
    "duration": 9,
    "start_time": "2022-01-17T13:21:52.532Z"
   },
   {
    "duration": 34,
    "start_time": "2022-01-17T13:21:52.543Z"
   },
   {
    "duration": 4,
    "start_time": "2022-01-17T13:21:52.579Z"
   },
   {
    "duration": 19,
    "start_time": "2022-01-17T13:21:52.585Z"
   },
   {
    "duration": 3,
    "start_time": "2022-01-17T13:21:52.605Z"
   },
   {
    "duration": 21,
    "start_time": "2022-01-17T13:21:52.611Z"
   },
   {
    "duration": 50,
    "start_time": "2022-01-17T13:21:52.634Z"
   },
   {
    "duration": 21,
    "start_time": "2022-01-17T13:21:52.685Z"
   },
   {
    "duration": 71,
    "start_time": "2022-01-17T13:21:52.708Z"
   },
   {
    "duration": 62,
    "start_time": "2022-01-17T13:21:52.781Z"
   },
   {
    "duration": 59,
    "start_time": "2022-01-17T13:21:52.845Z"
   },
   {
    "duration": 44,
    "start_time": "2022-01-17T13:21:52.906Z"
   },
   {
    "duration": 3,
    "start_time": "2022-01-17T13:21:52.952Z"
   },
   {
    "duration": 22,
    "start_time": "2022-01-17T13:21:52.956Z"
   },
   {
    "duration": 40,
    "start_time": "2022-01-17T13:21:52.980Z"
   },
   {
    "duration": 9,
    "start_time": "2022-01-17T13:21:53.022Z"
   },
   {
    "duration": 12,
    "start_time": "2022-01-17T13:21:53.033Z"
   },
   {
    "duration": 37,
    "start_time": "2022-01-17T13:21:53.047Z"
   },
   {
    "duration": 3,
    "start_time": "2022-01-17T13:21:53.086Z"
   },
   {
    "duration": 17,
    "start_time": "2022-01-17T13:21:53.090Z"
   },
   {
    "duration": 12,
    "start_time": "2022-01-17T13:21:53.108Z"
   },
   {
    "duration": 14,
    "start_time": "2022-01-17T13:21:53.121Z"
   },
   {
    "duration": 40,
    "start_time": "2022-01-17T13:21:53.137Z"
   },
   {
    "duration": 16,
    "start_time": "2022-01-17T13:21:53.180Z"
   },
   {
    "duration": 13,
    "start_time": "2022-01-17T13:21:53.198Z"
   },
   {
    "duration": 7,
    "start_time": "2022-01-17T13:21:53.213Z"
   },
   {
    "duration": 12,
    "start_time": "2022-01-17T13:21:53.221Z"
   },
   {
    "duration": 38,
    "start_time": "2022-01-17T13:21:53.234Z"
   },
   {
    "duration": 4,
    "start_time": "2022-01-17T13:21:53.274Z"
   },
   {
    "duration": 28,
    "start_time": "2022-01-17T13:21:53.280Z"
   },
   {
    "duration": 15,
    "start_time": "2022-01-17T13:21:53.310Z"
   },
   {
    "duration": 16,
    "start_time": "2022-01-17T13:21:53.327Z"
   },
   {
    "duration": 35,
    "start_time": "2022-01-17T13:21:53.345Z"
   },
   {
    "duration": 7,
    "start_time": "2022-01-17T13:21:53.382Z"
   },
   {
    "duration": 7,
    "start_time": "2022-01-17T13:21:53.391Z"
   },
   {
    "duration": 10,
    "start_time": "2022-01-17T13:21:53.399Z"
   },
   {
    "duration": 10,
    "start_time": "2022-01-17T13:21:53.411Z"
   },
   {
    "duration": 10,
    "start_time": "2022-01-17T13:21:53.423Z"
   },
   {
    "duration": 7,
    "start_time": "2022-01-17T13:23:13.697Z"
   },
   {
    "duration": 6,
    "start_time": "2022-01-17T13:29:20.610Z"
   },
   {
    "duration": 29,
    "start_time": "2022-01-17T13:37:32.782Z"
   },
   {
    "duration": 28,
    "start_time": "2022-01-17T13:37:49.094Z"
   },
   {
    "duration": 28,
    "start_time": "2022-01-17T13:39:45.459Z"
   },
   {
    "duration": 30,
    "start_time": "2022-01-17T13:40:12.816Z"
   },
   {
    "duration": 4,
    "start_time": "2022-01-17T14:01:17.669Z"
   },
   {
    "duration": 28,
    "start_time": "2022-01-17T14:02:14.269Z"
   },
   {
    "duration": 28,
    "start_time": "2022-01-17T14:02:27.724Z"
   },
   {
    "duration": 30,
    "start_time": "2022-01-17T14:03:33.382Z"
   },
   {
    "duration": 768,
    "start_time": "2022-01-17T14:15:15.853Z"
   },
   {
    "duration": 186,
    "start_time": "2022-01-17T14:15:16.624Z"
   },
   {
    "duration": 25,
    "start_time": "2022-01-17T14:15:16.813Z"
   },
   {
    "duration": 13,
    "start_time": "2022-01-17T14:15:16.840Z"
   },
   {
    "duration": 40,
    "start_time": "2022-01-17T14:15:16.854Z"
   },
   {
    "duration": 4,
    "start_time": "2022-01-17T14:15:16.896Z"
   },
   {
    "duration": 19,
    "start_time": "2022-01-17T14:15:16.901Z"
   },
   {
    "duration": 3,
    "start_time": "2022-01-17T14:15:16.923Z"
   },
   {
    "duration": 53,
    "start_time": "2022-01-17T14:15:16.928Z"
   },
   {
    "duration": 22,
    "start_time": "2022-01-17T14:15:16.983Z"
   },
   {
    "duration": 21,
    "start_time": "2022-01-17T14:15:17.006Z"
   },
   {
    "duration": 71,
    "start_time": "2022-01-17T14:15:17.028Z"
   },
   {
    "duration": 95,
    "start_time": "2022-01-17T14:15:17.101Z"
   },
   {
    "duration": 51,
    "start_time": "2022-01-17T14:15:17.199Z"
   },
   {
    "duration": 63,
    "start_time": "2022-01-17T14:15:17.251Z"
   },
   {
    "duration": 3,
    "start_time": "2022-01-17T14:15:17.315Z"
   },
   {
    "duration": 13,
    "start_time": "2022-01-17T14:15:17.320Z"
   },
   {
    "duration": 61,
    "start_time": "2022-01-17T14:15:17.334Z"
   },
   {
    "duration": 9,
    "start_time": "2022-01-17T14:15:17.397Z"
   },
   {
    "duration": 12,
    "start_time": "2022-01-17T14:15:17.408Z"
   },
   {
    "duration": 15,
    "start_time": "2022-01-17T14:15:17.422Z"
   },
   {
    "duration": 3,
    "start_time": "2022-01-17T14:15:17.439Z"
   },
   {
    "duration": 55,
    "start_time": "2022-01-17T14:15:17.446Z"
   },
   {
    "duration": 20,
    "start_time": "2022-01-17T14:15:17.504Z"
   },
   {
    "duration": 21,
    "start_time": "2022-01-17T14:15:17.526Z"
   },
   {
    "duration": 38,
    "start_time": "2022-01-17T14:15:17.549Z"
   },
   {
    "duration": 18,
    "start_time": "2022-01-17T14:15:17.589Z"
   },
   {
    "duration": 14,
    "start_time": "2022-01-17T14:15:17.609Z"
   },
   {
    "duration": 8,
    "start_time": "2022-01-17T14:15:17.625Z"
   },
   {
    "duration": 42,
    "start_time": "2022-01-17T14:15:17.634Z"
   },
   {
    "duration": 14,
    "start_time": "2022-01-17T14:15:17.677Z"
   },
   {
    "duration": 3,
    "start_time": "2022-01-17T14:15:17.693Z"
   },
   {
    "duration": 21,
    "start_time": "2022-01-17T14:15:17.698Z"
   },
   {
    "duration": 11,
    "start_time": "2022-01-17T14:15:17.720Z"
   },
   {
    "duration": 18,
    "start_time": "2022-01-17T14:15:17.733Z"
   },
   {
    "duration": 35,
    "start_time": "2022-01-17T14:15:17.752Z"
   },
   {
    "duration": 9,
    "start_time": "2022-01-17T14:15:17.789Z"
   },
   {
    "duration": 7,
    "start_time": "2022-01-17T14:15:17.799Z"
   },
   {
    "duration": 11,
    "start_time": "2022-01-17T14:15:17.808Z"
   },
   {
    "duration": 8,
    "start_time": "2022-01-17T14:15:17.821Z"
   },
   {
    "duration": 42,
    "start_time": "2022-01-17T14:15:17.830Z"
   },
   {
    "duration": 28,
    "start_time": "2022-01-17T14:15:57.722Z"
   },
   {
    "duration": 786,
    "start_time": "2022-01-17T14:16:05.377Z"
   },
   {
    "duration": 196,
    "start_time": "2022-01-17T14:16:06.165Z"
   },
   {
    "duration": 26,
    "start_time": "2022-01-17T14:16:06.363Z"
   },
   {
    "duration": 13,
    "start_time": "2022-01-17T14:16:06.391Z"
   },
   {
    "duration": 25,
    "start_time": "2022-01-17T14:16:06.406Z"
   },
   {
    "duration": 3,
    "start_time": "2022-01-17T14:16:06.433Z"
   },
   {
    "duration": 37,
    "start_time": "2022-01-17T14:16:06.438Z"
   },
   {
    "duration": 4,
    "start_time": "2022-01-17T14:16:06.478Z"
   },
   {
    "duration": 30,
    "start_time": "2022-01-17T14:16:06.484Z"
   },
   {
    "duration": 16,
    "start_time": "2022-01-17T14:16:06.516Z"
   },
   {
    "duration": 57,
    "start_time": "2022-01-17T14:16:06.534Z"
   },
   {
    "duration": 56,
    "start_time": "2022-01-17T14:16:06.592Z"
   },
   {
    "duration": 86,
    "start_time": "2022-01-17T14:16:06.650Z"
   },
   {
    "duration": 56,
    "start_time": "2022-01-17T14:16:06.738Z"
   },
   {
    "duration": 47,
    "start_time": "2022-01-17T14:16:06.796Z"
   },
   {
    "duration": 3,
    "start_time": "2022-01-17T14:16:06.845Z"
   },
   {
    "duration": 30,
    "start_time": "2022-01-17T14:16:06.849Z"
   },
   {
    "duration": 71,
    "start_time": "2022-01-17T14:16:06.881Z"
   },
   {
    "duration": 17,
    "start_time": "2022-01-17T14:16:06.954Z"
   },
   {
    "duration": 23,
    "start_time": "2022-01-17T14:16:06.973Z"
   },
   {
    "duration": 16,
    "start_time": "2022-01-17T14:16:06.998Z"
   },
   {
    "duration": 4,
    "start_time": "2022-01-17T14:16:07.015Z"
   },
   {
    "duration": 19,
    "start_time": "2022-01-17T14:16:07.023Z"
   },
   {
    "duration": 44,
    "start_time": "2022-01-17T14:16:07.045Z"
   },
   {
    "duration": 14,
    "start_time": "2022-01-17T14:16:07.090Z"
   },
   {
    "duration": 15,
    "start_time": "2022-01-17T14:16:07.105Z"
   },
   {
    "duration": 15,
    "start_time": "2022-01-17T14:16:07.122Z"
   },
   {
    "duration": 42,
    "start_time": "2022-01-17T14:16:07.139Z"
   },
   {
    "duration": 9,
    "start_time": "2022-01-17T14:16:07.190Z"
   },
   {
    "duration": 11,
    "start_time": "2022-01-17T14:16:07.201Z"
   },
   {
    "duration": 7,
    "start_time": "2022-01-17T14:16:07.214Z"
   },
   {
    "duration": 4,
    "start_time": "2022-01-17T14:16:07.223Z"
   },
   {
    "duration": 28,
    "start_time": "2022-01-17T14:16:07.228Z"
   },
   {
    "duration": 19,
    "start_time": "2022-01-17T14:16:07.272Z"
   },
   {
    "duration": 17,
    "start_time": "2022-01-17T14:16:07.293Z"
   },
   {
    "duration": 12,
    "start_time": "2022-01-17T14:16:07.312Z"
   },
   {
    "duration": 14,
    "start_time": "2022-01-17T14:16:07.326Z"
   },
   {
    "duration": 35,
    "start_time": "2022-01-17T14:16:07.341Z"
   },
   {
    "duration": 8,
    "start_time": "2022-01-17T14:16:07.378Z"
   },
   {
    "duration": 10,
    "start_time": "2022-01-17T14:16:07.389Z"
   },
   {
    "duration": 13,
    "start_time": "2022-01-17T14:16:07.400Z"
   },
   {
    "duration": 404,
    "start_time": "2022-01-17T14:20:16.390Z"
   },
   {
    "duration": 28,
    "start_time": "2022-01-17T14:20:32.041Z"
   },
   {
    "duration": 670,
    "start_time": "2022-01-17T14:20:39.809Z"
   },
   {
    "duration": 191,
    "start_time": "2022-01-17T14:20:40.481Z"
   },
   {
    "duration": 24,
    "start_time": "2022-01-17T14:20:40.675Z"
   },
   {
    "duration": 9,
    "start_time": "2022-01-17T14:20:40.701Z"
   },
   {
    "duration": 25,
    "start_time": "2022-01-17T14:20:40.712Z"
   },
   {
    "duration": 4,
    "start_time": "2022-01-17T14:20:40.739Z"
   },
   {
    "duration": 19,
    "start_time": "2022-01-17T14:20:40.778Z"
   },
   {
    "duration": 5,
    "start_time": "2022-01-17T14:20:40.798Z"
   },
   {
    "duration": 22,
    "start_time": "2022-01-17T14:20:40.806Z"
   },
   {
    "duration": 52,
    "start_time": "2022-01-17T14:20:40.831Z"
   },
   {
    "duration": 23,
    "start_time": "2022-01-17T14:20:40.887Z"
   },
   {
    "duration": 62,
    "start_time": "2022-01-17T14:20:40.912Z"
   },
   {
    "duration": 107,
    "start_time": "2022-01-17T14:20:40.976Z"
   },
   {
    "duration": 75,
    "start_time": "2022-01-17T14:20:41.086Z"
   },
   {
    "duration": 79,
    "start_time": "2022-01-17T14:20:41.171Z"
   },
   {
    "duration": 4,
    "start_time": "2022-01-17T14:20:41.252Z"
   },
   {
    "duration": 30,
    "start_time": "2022-01-17T14:20:41.258Z"
   },
   {
    "duration": 39,
    "start_time": "2022-01-17T14:20:41.290Z"
   },
   {
    "duration": 9,
    "start_time": "2022-01-17T14:20:41.331Z"
   },
   {
    "duration": 34,
    "start_time": "2022-01-17T14:20:41.341Z"
   },
   {
    "duration": 19,
    "start_time": "2022-01-17T14:20:41.378Z"
   },
   {
    "duration": 3,
    "start_time": "2022-01-17T14:20:41.399Z"
   },
   {
    "duration": 20,
    "start_time": "2022-01-17T14:20:41.403Z"
   },
   {
    "duration": 12,
    "start_time": "2022-01-17T14:20:41.425Z"
   },
   {
    "duration": 45,
    "start_time": "2022-01-17T14:20:41.438Z"
   },
   {
    "duration": 14,
    "start_time": "2022-01-17T14:20:41.485Z"
   },
   {
    "duration": 16,
    "start_time": "2022-01-17T14:20:41.503Z"
   },
   {
    "duration": 13,
    "start_time": "2022-01-17T14:20:41.521Z"
   },
   {
    "duration": 8,
    "start_time": "2022-01-17T14:20:41.536Z"
   },
   {
    "duration": 14,
    "start_time": "2022-01-17T14:20:41.572Z"
   },
   {
    "duration": 17,
    "start_time": "2022-01-17T14:20:41.589Z"
   },
   {
    "duration": 5,
    "start_time": "2022-01-17T14:20:41.608Z"
   },
   {
    "duration": 28,
    "start_time": "2022-01-17T14:20:41.615Z"
   },
   {
    "duration": 19,
    "start_time": "2022-01-17T14:20:41.645Z"
   },
   {
    "duration": 24,
    "start_time": "2022-01-17T14:20:41.666Z"
   },
   {
    "duration": 40,
    "start_time": "2022-01-17T14:20:41.692Z"
   },
   {
    "duration": 7,
    "start_time": "2022-01-17T14:20:41.733Z"
   },
   {
    "duration": 7,
    "start_time": "2022-01-17T14:20:41.742Z"
   },
   {
    "duration": 9,
    "start_time": "2022-01-17T14:20:41.751Z"
   },
   {
    "duration": 13,
    "start_time": "2022-01-17T14:20:41.761Z"
   },
   {
    "duration": 19,
    "start_time": "2022-01-17T14:20:41.775Z"
   },
   {
    "duration": 622,
    "start_time": "2022-01-17T14:22:35.257Z"
   },
   {
    "duration": 133,
    "start_time": "2022-01-17T14:22:35.882Z"
   },
   {
    "duration": 15,
    "start_time": "2022-01-17T14:22:36.017Z"
   },
   {
    "duration": 10,
    "start_time": "2022-01-17T14:22:36.033Z"
   },
   {
    "duration": 51,
    "start_time": "2022-01-17T14:22:36.045Z"
   },
   {
    "duration": 4,
    "start_time": "2022-01-17T14:22:36.098Z"
   },
   {
    "duration": 17,
    "start_time": "2022-01-17T14:22:36.103Z"
   },
   {
    "duration": 3,
    "start_time": "2022-01-17T14:22:36.122Z"
   },
   {
    "duration": 51,
    "start_time": "2022-01-17T14:22:36.127Z"
   },
   {
    "duration": 20,
    "start_time": "2022-01-17T14:22:36.182Z"
   },
   {
    "duration": 20,
    "start_time": "2022-01-17T14:22:36.204Z"
   },
   {
    "duration": 73,
    "start_time": "2022-01-17T14:22:36.225Z"
   },
   {
    "duration": 57,
    "start_time": "2022-01-17T14:22:36.300Z"
   },
   {
    "duration": 80,
    "start_time": "2022-01-17T14:22:36.359Z"
   },
   {
    "duration": 68,
    "start_time": "2022-01-17T14:22:36.441Z"
   },
   {
    "duration": 3,
    "start_time": "2022-01-17T14:22:36.511Z"
   },
   {
    "duration": 15,
    "start_time": "2022-01-17T14:22:36.516Z"
   },
   {
    "duration": 58,
    "start_time": "2022-01-17T14:22:36.533Z"
   },
   {
    "duration": 9,
    "start_time": "2022-01-17T14:22:36.592Z"
   },
   {
    "duration": 11,
    "start_time": "2022-01-17T14:22:36.603Z"
   },
   {
    "duration": 17,
    "start_time": "2022-01-17T14:22:36.616Z"
   },
   {
    "duration": 3,
    "start_time": "2022-01-17T14:22:36.634Z"
   },
   {
    "duration": 53,
    "start_time": "2022-01-17T14:22:36.640Z"
   },
   {
    "duration": 13,
    "start_time": "2022-01-17T14:22:36.696Z"
   },
   {
    "duration": 14,
    "start_time": "2022-01-17T14:22:36.711Z"
   },
   {
    "duration": 17,
    "start_time": "2022-01-17T14:22:36.727Z"
   },
   {
    "duration": 40,
    "start_time": "2022-01-17T14:22:36.746Z"
   },
   {
    "duration": 13,
    "start_time": "2022-01-17T14:22:36.788Z"
   },
   {
    "duration": 7,
    "start_time": "2022-01-17T14:22:36.803Z"
   },
   {
    "duration": 11,
    "start_time": "2022-01-17T14:22:36.812Z"
   },
   {
    "duration": 9,
    "start_time": "2022-01-17T14:22:36.824Z"
   },
   {
    "duration": 4,
    "start_time": "2022-01-17T14:22:36.834Z"
   },
   {
    "duration": 50,
    "start_time": "2022-01-17T14:22:36.839Z"
   },
   {
    "duration": 18,
    "start_time": "2022-01-17T14:22:36.892Z"
   },
   {
    "duration": 25,
    "start_time": "2022-01-17T14:22:36.912Z"
   },
   {
    "duration": 38,
    "start_time": "2022-01-17T14:22:36.939Z"
   },
   {
    "duration": 11,
    "start_time": "2022-01-17T14:22:36.978Z"
   },
   {
    "duration": 6,
    "start_time": "2022-01-17T14:22:36.991Z"
   },
   {
    "duration": 9,
    "start_time": "2022-01-17T14:22:36.999Z"
   },
   {
    "duration": 9,
    "start_time": "2022-01-17T14:22:37.009Z"
   },
   {
    "duration": 15,
    "start_time": "2022-01-17T14:22:37.019Z"
   },
   {
    "duration": 40,
    "start_time": "2022-01-17T14:23:47.707Z"
   },
   {
    "duration": 587,
    "start_time": "2022-01-17T14:23:56.479Z"
   },
   {
    "duration": 138,
    "start_time": "2022-01-17T14:23:57.068Z"
   },
   {
    "duration": 16,
    "start_time": "2022-01-17T14:23:57.209Z"
   },
   {
    "duration": 10,
    "start_time": "2022-01-17T14:23:57.227Z"
   },
   {
    "duration": 46,
    "start_time": "2022-01-17T14:23:57.238Z"
   },
   {
    "duration": 5,
    "start_time": "2022-01-17T14:23:57.286Z"
   },
   {
    "duration": 24,
    "start_time": "2022-01-17T14:23:57.293Z"
   },
   {
    "duration": 5,
    "start_time": "2022-01-17T14:23:57.320Z"
   },
   {
    "duration": 60,
    "start_time": "2022-01-17T14:23:57.329Z"
   },
   {
    "duration": 16,
    "start_time": "2022-01-17T14:23:57.392Z"
   },
   {
    "duration": 21,
    "start_time": "2022-01-17T14:23:57.410Z"
   },
   {
    "duration": 81,
    "start_time": "2022-01-17T14:23:57.432Z"
   },
   {
    "duration": 67,
    "start_time": "2022-01-17T14:23:57.515Z"
   },
   {
    "duration": 48,
    "start_time": "2022-01-17T14:23:57.583Z"
   },
   {
    "duration": 76,
    "start_time": "2022-01-17T14:23:57.632Z"
   },
   {
    "duration": 3,
    "start_time": "2022-01-17T14:23:57.709Z"
   },
   {
    "duration": 11,
    "start_time": "2022-01-17T14:23:57.714Z"
   },
   {
    "duration": 62,
    "start_time": "2022-01-17T14:23:57.726Z"
   },
   {
    "duration": 9,
    "start_time": "2022-01-17T14:23:57.789Z"
   },
   {
    "duration": 13,
    "start_time": "2022-01-17T14:23:57.800Z"
   },
   {
    "duration": 14,
    "start_time": "2022-01-17T14:23:57.814Z"
   },
   {
    "duration": 4,
    "start_time": "2022-01-17T14:23:57.830Z"
   },
   {
    "duration": 48,
    "start_time": "2022-01-17T14:23:57.836Z"
   },
   {
    "duration": 17,
    "start_time": "2022-01-17T14:23:57.886Z"
   },
   {
    "duration": 15,
    "start_time": "2022-01-17T14:23:57.905Z"
   },
   {
    "duration": 14,
    "start_time": "2022-01-17T14:23:57.922Z"
   },
   {
    "duration": 49,
    "start_time": "2022-01-17T14:23:57.940Z"
   },
   {
    "duration": 14,
    "start_time": "2022-01-17T14:23:57.991Z"
   },
   {
    "duration": 7,
    "start_time": "2022-01-17T14:23:58.007Z"
   },
   {
    "duration": 11,
    "start_time": "2022-01-17T14:23:58.015Z"
   },
   {
    "duration": 8,
    "start_time": "2022-01-17T14:23:58.028Z"
   },
   {
    "duration": 4,
    "start_time": "2022-01-17T14:23:58.038Z"
   },
   {
    "duration": 57,
    "start_time": "2022-01-17T14:23:58.043Z"
   },
   {
    "duration": 12,
    "start_time": "2022-01-17T14:23:58.101Z"
   },
   {
    "duration": 19,
    "start_time": "2022-01-17T14:23:58.114Z"
   },
   {
    "duration": 12,
    "start_time": "2022-01-17T14:23:58.134Z"
   },
   {
    "duration": 16,
    "start_time": "2022-01-17T14:23:58.172Z"
   },
   {
    "duration": 9,
    "start_time": "2022-01-17T14:23:58.190Z"
   },
   {
    "duration": 9,
    "start_time": "2022-01-17T14:23:58.200Z"
   },
   {
    "duration": 10,
    "start_time": "2022-01-17T14:23:58.211Z"
   },
   {
    "duration": 13,
    "start_time": "2022-01-17T14:23:58.223Z"
   },
   {
    "duration": 114,
    "start_time": "2022-01-17T14:24:46.563Z"
   },
   {
    "duration": 506,
    "start_time": "2022-01-17T14:24:50.667Z"
   },
   {
    "duration": 40,
    "start_time": "2022-01-17T14:24:57.507Z"
   },
   {
    "duration": 13,
    "start_time": "2022-01-17T14:26:46.585Z"
   },
   {
    "duration": 10,
    "start_time": "2022-01-17T14:27:43.659Z"
   },
   {
    "duration": 632,
    "start_time": "2022-01-17T14:28:44.083Z"
   },
   {
    "duration": 139,
    "start_time": "2022-01-17T14:28:44.717Z"
   },
   {
    "duration": 31,
    "start_time": "2022-01-17T14:28:44.858Z"
   },
   {
    "duration": 23,
    "start_time": "2022-01-17T14:28:44.891Z"
   },
   {
    "duration": 41,
    "start_time": "2022-01-17T14:28:44.915Z"
   },
   {
    "duration": 10,
    "start_time": "2022-01-17T14:28:44.958Z"
   },
   {
    "duration": 32,
    "start_time": "2022-01-17T14:28:44.969Z"
   },
   {
    "duration": 27,
    "start_time": "2022-01-17T14:28:45.003Z"
   },
   {
    "duration": 57,
    "start_time": "2022-01-17T14:28:45.032Z"
   },
   {
    "duration": 18,
    "start_time": "2022-01-17T14:28:45.092Z"
   },
   {
    "duration": 28,
    "start_time": "2022-01-17T14:28:45.112Z"
   },
   {
    "duration": 79,
    "start_time": "2022-01-17T14:28:45.141Z"
   },
   {
    "duration": 75,
    "start_time": "2022-01-17T14:28:45.222Z"
   },
   {
    "duration": 51,
    "start_time": "2022-01-17T14:28:45.299Z"
   },
   {
    "duration": 66,
    "start_time": "2022-01-17T14:28:45.352Z"
   },
   {
    "duration": 2,
    "start_time": "2022-01-17T14:28:45.420Z"
   },
   {
    "duration": 26,
    "start_time": "2022-01-17T14:28:45.424Z"
   },
   {
    "duration": 68,
    "start_time": "2022-01-17T14:28:45.451Z"
   },
   {
    "duration": 11,
    "start_time": "2022-01-17T14:28:45.521Z"
   },
   {
    "duration": 17,
    "start_time": "2022-01-17T14:28:45.534Z"
   },
   {
    "duration": 21,
    "start_time": "2022-01-17T14:28:45.553Z"
   },
   {
    "duration": 8,
    "start_time": "2022-01-17T14:28:45.576Z"
   },
   {
    "duration": 48,
    "start_time": "2022-01-17T14:28:45.586Z"
   },
   {
    "duration": 15,
    "start_time": "2022-01-17T14:28:45.636Z"
   },
   {
    "duration": 16,
    "start_time": "2022-01-17T14:28:45.652Z"
   },
   {
    "duration": 26,
    "start_time": "2022-01-17T14:28:45.670Z"
   },
   {
    "duration": 19,
    "start_time": "2022-01-17T14:28:45.699Z"
   },
   {
    "duration": 18,
    "start_time": "2022-01-17T14:28:45.719Z"
   },
   {
    "duration": 13,
    "start_time": "2022-01-17T14:28:45.739Z"
   },
   {
    "duration": 30,
    "start_time": "2022-01-17T14:28:45.753Z"
   },
   {
    "duration": 14,
    "start_time": "2022-01-17T14:28:45.785Z"
   },
   {
    "duration": 12,
    "start_time": "2022-01-17T14:28:45.801Z"
   },
   {
    "duration": 27,
    "start_time": "2022-01-17T14:28:45.815Z"
   },
   {
    "duration": 11,
    "start_time": "2022-01-17T14:28:45.844Z"
   },
   {
    "duration": 29,
    "start_time": "2022-01-17T14:28:45.856Z"
   },
   {
    "duration": 12,
    "start_time": "2022-01-17T14:28:45.887Z"
   },
   {
    "duration": 6,
    "start_time": "2022-01-17T14:28:45.901Z"
   },
   {
    "duration": 8,
    "start_time": "2022-01-17T14:28:45.908Z"
   },
   {
    "duration": 10,
    "start_time": "2022-01-17T14:28:45.918Z"
   },
   {
    "duration": 11,
    "start_time": "2022-01-17T14:28:45.929Z"
   },
   {
    "duration": 13,
    "start_time": "2022-01-17T14:28:45.941Z"
   }
  ],
  "colab": {
   "collapsed_sections": [
    "E0vqbgi9ay0H",
    "VUC88oWjTJw2"
   ],
   "name": "yandex_music_project_2021.2.ipynb",
   "provenance": []
  },
  "kernelspec": {
   "display_name": "Python 3 (ipykernel)",
   "language": "python",
   "name": "python3"
  },
  "language_info": {
   "codemirror_mode": {
    "name": "ipython",
    "version": 3
   },
   "file_extension": ".py",
   "mimetype": "text/x-python",
   "name": "python",
   "nbconvert_exporter": "python",
   "pygments_lexer": "ipython3",
   "version": "3.9.7"
  },
  "toc": {
   "base_numbering": 1,
   "nav_menu": {},
   "number_sections": true,
   "sideBar": true,
   "skip_h1_title": true,
   "title_cell": "Table of Contents",
   "title_sidebar": "Contents",
   "toc_cell": false,
   "toc_position": {
    "height": "calc(100% - 180px)",
    "left": "10px",
    "top": "150px",
    "width": "173px"
   },
   "toc_section_display": true,
   "toc_window_display": true
  }
 },
 "nbformat": 4,
 "nbformat_minor": 4
}

{
 "cells": [
  {
   "cell_type": "markdown",
   "metadata": {},
   "source": [
    "<a id='section_id'></a>"
   ]
  },
  {
   "cell_type": "markdown",
   "metadata": {},
   "source": [
    "<h1> <div align=\"center\"><a> Обучение модели классификации комментариев </a></div>    "
   ]
  },
  {
   "cell_type": "markdown",
   "metadata": {},
   "source": [
    "## Подготовка"
   ]
  },
  {
   "cell_type": "code",
   "execution_count": 1,
   "metadata": {},
   "outputs": [],
   "source": [
    "import pandas as pd\n",
    "import matplotlib.pyplot as plt\n",
    "import nltk\n",
    "import re \n",
    "\n",
    "from nltk import word_tokenize\n",
    "from nltk.stem import WordNetLemmatizer \n",
    "from nltk.corpus import stopwords as nltk_stopwords\n",
    "from sklearn.feature_extraction.text import CountVectorizer \n",
    "from sklearn.feature_extraction.text import TfidfVectorizer\n",
    "from sklearn.feature_extraction import DictVectorizer\n",
    "\n",
    "from sklearn.model_selection import train_test_split\n",
    "from sklearn.model_selection import GridSearchCV\n",
    "from sklearn.model_selection import RandomizedSearchCV\n",
    "from sklearn.experimental import enable_halving_search_cv\n",
    "from sklearn.model_selection import HalvingGridSearchCV\n",
    "from sklearn.pipeline import Pipeline\n",
    "\n",
    "from sklearn.linear_model import LogisticRegression\n",
    "from sklearn.tree import DecisionTreeClassifier \n",
    "from sklearn.ensemble import RandomForestClassifier\n",
    "from catboost import CatBoostClassifier\n",
    "from lightgbm import LGBMClassifier\n",
    "from xgboost import XGBClassifier\n",
    "from sklearn.dummy import DummyClassifier\n",
    "\n",
    "from sklearn.metrics import f1_score, plot_confusion_matrix, classification_report\n",
    "\n",
    "import warnings\n",
    "warnings.filterwarnings(\"ignore\", category=UserWarning)"
   ]
  },
  {
   "cell_type": "code",
   "execution_count": 2,
   "metadata": {},
   "outputs": [
    {
     "data": {
      "text/html": [
       "<div>\n",
       "<style scoped>\n",
       "    .dataframe tbody tr th:only-of-type {\n",
       "        vertical-align: middle;\n",
       "    }\n",
       "\n",
       "    .dataframe tbody tr th {\n",
       "        vertical-align: top;\n",
       "    }\n",
       "\n",
       "    .dataframe thead th {\n",
       "        text-align: right;\n",
       "    }\n",
       "</style>\n",
       "<table border=\"1\" class=\"dataframe\">\n",
       "  <thead>\n",
       "    <tr style=\"text-align: right;\">\n",
       "      <th></th>\n",
       "      <th>text</th>\n",
       "      <th>toxic</th>\n",
       "    </tr>\n",
       "  </thead>\n",
       "  <tbody>\n",
       "    <tr>\n",
       "      <th>0</th>\n",
       "      <td>Explanation\\nWhy the edits made under my usern...</td>\n",
       "      <td>0</td>\n",
       "    </tr>\n",
       "    <tr>\n",
       "      <th>1</th>\n",
       "      <td>D'aww! He matches this background colour I'm s...</td>\n",
       "      <td>0</td>\n",
       "    </tr>\n",
       "    <tr>\n",
       "      <th>2</th>\n",
       "      <td>Hey man, I'm really not trying to edit war. It...</td>\n",
       "      <td>0</td>\n",
       "    </tr>\n",
       "    <tr>\n",
       "      <th>3</th>\n",
       "      <td>\"\\nMore\\nI can't make any real suggestions on ...</td>\n",
       "      <td>0</td>\n",
       "    </tr>\n",
       "    <tr>\n",
       "      <th>4</th>\n",
       "      <td>You, sir, are my hero. Any chance you remember...</td>\n",
       "      <td>0</td>\n",
       "    </tr>\n",
       "  </tbody>\n",
       "</table>\n",
       "</div>"
      ],
      "text/plain": [
       "                                                text  toxic\n",
       "0  Explanation\\nWhy the edits made under my usern...      0\n",
       "1  D'aww! He matches this background colour I'm s...      0\n",
       "2  Hey man, I'm really not trying to edit war. It...      0\n",
       "3  \"\\nMore\\nI can't make any real suggestions on ...      0\n",
       "4  You, sir, are my hero. Any chance you remember...      0"
      ]
     },
     "metadata": {},
     "output_type": "display_data"
    },
    {
     "name": "stdout",
     "output_type": "stream",
     "text": [
      "<class 'pandas.core.frame.DataFrame'>\n",
      "RangeIndex: 159571 entries, 0 to 159570\n",
      "Data columns (total 2 columns):\n",
      " #   Column  Non-Null Count   Dtype \n",
      "---  ------  --------------   ----- \n",
      " 0   text    159571 non-null  object\n",
      " 1   toxic   159571 non-null  int64 \n",
      "dtypes: int64(1), object(1)\n",
      "memory usage: 2.4+ MB\n"
     ]
    }
   ],
   "source": [
    "data = pd.read_csv('/datasets/toxic_comments.csv')\n",
    "display(data.head())\n",
    "data.info()"
   ]
  },
  {
   "cell_type": "markdown",
   "metadata": {},
   "source": [
    "Выборка очень большая: таблица имеет почти 160 тысяч строк. Используемый язык - **английский**. Пропусков нет, перименовывать столбцы не нужно."
   ]
  },
  {
   "cell_type": "markdown",
   "metadata": {},
   "source": [
    "### Приведение к нижнему регистру\n",
    "Добавим столбец, где все буквы будут строчными."
   ]
  },
  {
   "cell_type": "code",
   "execution_count": 3,
   "metadata": {},
   "outputs": [
    {
     "name": "stdout",
     "output_type": "stream",
     "text": [
      "CPU times: user 224 ms, sys: 43.7 ms, total: 267 ms\n",
      "Wall time: 267 ms\n"
     ]
    },
    {
     "data": {
      "text/html": [
       "<div>\n",
       "<style scoped>\n",
       "    .dataframe tbody tr th:only-of-type {\n",
       "        vertical-align: middle;\n",
       "    }\n",
       "\n",
       "    .dataframe tbody tr th {\n",
       "        vertical-align: top;\n",
       "    }\n",
       "\n",
       "    .dataframe thead th {\n",
       "        text-align: right;\n",
       "    }\n",
       "</style>\n",
       "<table border=\"1\" class=\"dataframe\">\n",
       "  <thead>\n",
       "    <tr style=\"text-align: right;\">\n",
       "      <th></th>\n",
       "      <th>text</th>\n",
       "      <th>toxic</th>\n",
       "      <th>low_text</th>\n",
       "    </tr>\n",
       "  </thead>\n",
       "  <tbody>\n",
       "    <tr>\n",
       "      <th>0</th>\n",
       "      <td>Explanation\\nWhy the edits made under my usern...</td>\n",
       "      <td>0</td>\n",
       "      <td>explanation\\nwhy the edits made under my usern...</td>\n",
       "    </tr>\n",
       "    <tr>\n",
       "      <th>1</th>\n",
       "      <td>D'aww! He matches this background colour I'm s...</td>\n",
       "      <td>0</td>\n",
       "      <td>d'aww! he matches this background colour i'm s...</td>\n",
       "    </tr>\n",
       "    <tr>\n",
       "      <th>2</th>\n",
       "      <td>Hey man, I'm really not trying to edit war. It...</td>\n",
       "      <td>0</td>\n",
       "      <td>hey man, i'm really not trying to edit war. it...</td>\n",
       "    </tr>\n",
       "    <tr>\n",
       "      <th>3</th>\n",
       "      <td>\"\\nMore\\nI can't make any real suggestions on ...</td>\n",
       "      <td>0</td>\n",
       "      <td>\"\\nmore\\ni can't make any real suggestions on ...</td>\n",
       "    </tr>\n",
       "    <tr>\n",
       "      <th>4</th>\n",
       "      <td>You, sir, are my hero. Any chance you remember...</td>\n",
       "      <td>0</td>\n",
       "      <td>you, sir, are my hero. any chance you remember...</td>\n",
       "    </tr>\n",
       "  </tbody>\n",
       "</table>\n",
       "</div>"
      ],
      "text/plain": [
       "                                                text  toxic  \\\n",
       "0  Explanation\\nWhy the edits made under my usern...      0   \n",
       "1  D'aww! He matches this background colour I'm s...      0   \n",
       "2  Hey man, I'm really not trying to edit war. It...      0   \n",
       "3  \"\\nMore\\nI can't make any real suggestions on ...      0   \n",
       "4  You, sir, are my hero. Any chance you remember...      0   \n",
       "\n",
       "                                            low_text  \n",
       "0  explanation\\nwhy the edits made under my usern...  \n",
       "1  d'aww! he matches this background colour i'm s...  \n",
       "2  hey man, i'm really not trying to edit war. it...  \n",
       "3  \"\\nmore\\ni can't make any real suggestions on ...  \n",
       "4  you, sir, are my hero. any chance you remember...  "
      ]
     },
     "execution_count": 3,
     "metadata": {},
     "output_type": "execute_result"
    }
   ],
   "source": [
    "%%time\n",
    "data['low_text'] = data['text'].str.lower()\n",
    "data.head()"
   ]
  },
  {
   "cell_type": "markdown",
   "metadata": {},
   "source": [
    "### Лемматизация\n",
    "Напишем функцию, которая сначала проводит токенизацию, а затем лемматизацию текста с помощью **WordNetLemmatizer**."
   ]
  },
  {
   "cell_type": "code",
   "execution_count": 4,
   "metadata": {},
   "outputs": [
    {
     "name": "stdout",
     "output_type": "stream",
     "text": [
      "Исходный текст: Explanation\n",
      "Why the edits made under my username Hardcore Metallica Fan were reverted? They weren't vandalisms, just closure on some GAs after I voted at New York Dolls FAC. And please don't remove the template from the talk page since I'm retired now.89.205.38.27\n",
      "____________________________________________________________________________________________________\n",
      "Лемматизированный текст: explanation why the edit make under my username hardcore metallica fan be revert ? they be n't vandalisms , just closure on some gas after i vote at new york dolls fac . and please do n't remove the template from the talk page since i 'm retire now.89.205.38.27\n"
     ]
    }
   ],
   "source": [
    "def lemmatize(text):\n",
    "    word_list = nltk.word_tokenize(text)\n",
    "    wnl = WordNetLemmatizer()\n",
    "    lemmatized_output = ' '.join([wnl.lemmatize(w, pos='v') for w in word_list])\n",
    "    return lemmatized_output\n",
    "\n",
    "print(\"Исходный текст:\", data['text'][0])\n",
    "print(\"_\"*100)\n",
    "print(\"Лемматизированный текст:\", lemmatize(data['low_text'][0]))"
   ]
  },
  {
   "cell_type": "code",
   "execution_count": 5,
   "metadata": {},
   "outputs": [
    {
     "name": "stdout",
     "output_type": "stream",
     "text": [
      "CPU times: user 2min 10s, sys: 431 ms, total: 2min 11s\n",
      "Wall time: 2min 12s\n"
     ]
    },
    {
     "data": {
      "text/html": [
       "<div>\n",
       "<style scoped>\n",
       "    .dataframe tbody tr th:only-of-type {\n",
       "        vertical-align: middle;\n",
       "    }\n",
       "\n",
       "    .dataframe tbody tr th {\n",
       "        vertical-align: top;\n",
       "    }\n",
       "\n",
       "    .dataframe thead th {\n",
       "        text-align: right;\n",
       "    }\n",
       "</style>\n",
       "<table border=\"1\" class=\"dataframe\">\n",
       "  <thead>\n",
       "    <tr style=\"text-align: right;\">\n",
       "      <th></th>\n",
       "      <th>text</th>\n",
       "      <th>toxic</th>\n",
       "      <th>low_text</th>\n",
       "      <th>lemm_text</th>\n",
       "    </tr>\n",
       "  </thead>\n",
       "  <tbody>\n",
       "    <tr>\n",
       "      <th>0</th>\n",
       "      <td>Explanation\\nWhy the edits made under my usern...</td>\n",
       "      <td>0</td>\n",
       "      <td>explanation\\nwhy the edits made under my usern...</td>\n",
       "      <td>explanation why the edit make under my usernam...</td>\n",
       "    </tr>\n",
       "    <tr>\n",
       "      <th>1</th>\n",
       "      <td>D'aww! He matches this background colour I'm s...</td>\n",
       "      <td>0</td>\n",
       "      <td>d'aww! he matches this background colour i'm s...</td>\n",
       "      <td>d'aww ! he match this background colour i 'm s...</td>\n",
       "    </tr>\n",
       "    <tr>\n",
       "      <th>2</th>\n",
       "      <td>Hey man, I'm really not trying to edit war. It...</td>\n",
       "      <td>0</td>\n",
       "      <td>hey man, i'm really not trying to edit war. it...</td>\n",
       "      <td>hey man , i 'm really not try to edit war . it...</td>\n",
       "    </tr>\n",
       "    <tr>\n",
       "      <th>3</th>\n",
       "      <td>\"\\nMore\\nI can't make any real suggestions on ...</td>\n",
       "      <td>0</td>\n",
       "      <td>\"\\nmore\\ni can't make any real suggestions on ...</td>\n",
       "      <td>`` more i ca n't make any real suggestions on ...</td>\n",
       "    </tr>\n",
       "    <tr>\n",
       "      <th>4</th>\n",
       "      <td>You, sir, are my hero. Any chance you remember...</td>\n",
       "      <td>0</td>\n",
       "      <td>you, sir, are my hero. any chance you remember...</td>\n",
       "      <td>you , sir , be my hero . any chance you rememb...</td>\n",
       "    </tr>\n",
       "  </tbody>\n",
       "</table>\n",
       "</div>"
      ],
      "text/plain": [
       "                                                text  toxic  \\\n",
       "0  Explanation\\nWhy the edits made under my usern...      0   \n",
       "1  D'aww! He matches this background colour I'm s...      0   \n",
       "2  Hey man, I'm really not trying to edit war. It...      0   \n",
       "3  \"\\nMore\\nI can't make any real suggestions on ...      0   \n",
       "4  You, sir, are my hero. Any chance you remember...      0   \n",
       "\n",
       "                                            low_text  \\\n",
       "0  explanation\\nwhy the edits made under my usern...   \n",
       "1  d'aww! he matches this background colour i'm s...   \n",
       "2  hey man, i'm really not trying to edit war. it...   \n",
       "3  \"\\nmore\\ni can't make any real suggestions on ...   \n",
       "4  you, sir, are my hero. any chance you remember...   \n",
       "\n",
       "                                           lemm_text  \n",
       "0  explanation why the edit make under my usernam...  \n",
       "1  d'aww ! he match this background colour i 'm s...  \n",
       "2  hey man , i 'm really not try to edit war . it...  \n",
       "3  `` more i ca n't make any real suggestions on ...  \n",
       "4  you , sir , be my hero . any chance you rememb...  "
      ]
     },
     "execution_count": 5,
     "metadata": {},
     "output_type": "execute_result"
    }
   ],
   "source": [
    "%%time\n",
    "data['lemm_text'] = data['low_text'].apply(lemmatize)\n",
    "data.head()"
   ]
  },
  {
   "cell_type": "markdown",
   "metadata": {},
   "source": [
    "### Регуляризация\n",
    "В лемматизированном тексте нужно оставить только латинские символы и пробелы. Чтобы их найти, напишем регулярное выражение."
   ]
  },
  {
   "cell_type": "code",
   "execution_count": 6,
   "metadata": {},
   "outputs": [
    {
     "name": "stdout",
     "output_type": "stream",
     "text": [
      "Исходный текст: Explanation\n",
      "Why the edits made under my username Hardcore Metallica Fan were reverted? They weren't vandalisms, just closure on some GAs after I voted at New York Dolls FAC. And please don't remove the template from the talk page since I'm retired now.89.205.38.27\n",
      "____________________________________________________________________________________________________\n",
      "Лемматизированный и очищенный текст: explanation why the edit make under my username hardcore metallica fan be revert they be n t vandalisms just closure on some gas after i vote at new york dolls fac and please do n t remove the template from the talk page since i m retire now\n"
     ]
    }
   ],
   "source": [
    "def clear_text(text):\n",
    "    english_text = re.sub(r'[^a-zA-Z]', ' ', text)\n",
    "    clear_text = \" \".join(english_text.split())\n",
    "    return clear_text\n",
    "\n",
    "print(\"Исходный текст:\", data['text'][0])\n",
    "print(\"_\"*100)\n",
    "print(\"Лемматизированный и очищенный текст:\", clear_text(lemmatize(data['low_text'][0])))"
   ]
  },
  {
   "cell_type": "code",
   "execution_count": 7,
   "metadata": {},
   "outputs": [
    {
     "name": "stdout",
     "output_type": "stream",
     "text": [
      "CPU times: user 4.27 s, sys: 28 ms, total: 4.3 s\n",
      "Wall time: 4.31 s\n"
     ]
    },
    {
     "data": {
      "text/html": [
       "<div>\n",
       "<style scoped>\n",
       "    .dataframe tbody tr th:only-of-type {\n",
       "        vertical-align: middle;\n",
       "    }\n",
       "\n",
       "    .dataframe tbody tr th {\n",
       "        vertical-align: top;\n",
       "    }\n",
       "\n",
       "    .dataframe thead th {\n",
       "        text-align: right;\n",
       "    }\n",
       "</style>\n",
       "<table border=\"1\" class=\"dataframe\">\n",
       "  <thead>\n",
       "    <tr style=\"text-align: right;\">\n",
       "      <th></th>\n",
       "      <th>text</th>\n",
       "      <th>toxic</th>\n",
       "      <th>low_text</th>\n",
       "      <th>lemm_text</th>\n",
       "      <th>clear_text</th>\n",
       "    </tr>\n",
       "  </thead>\n",
       "  <tbody>\n",
       "    <tr>\n",
       "      <th>0</th>\n",
       "      <td>Explanation\\nWhy the edits made under my usern...</td>\n",
       "      <td>0</td>\n",
       "      <td>explanation\\nwhy the edits made under my usern...</td>\n",
       "      <td>explanation why the edit make under my usernam...</td>\n",
       "      <td>explanation why the edit make under my usernam...</td>\n",
       "    </tr>\n",
       "    <tr>\n",
       "      <th>1</th>\n",
       "      <td>D'aww! He matches this background colour I'm s...</td>\n",
       "      <td>0</td>\n",
       "      <td>d'aww! he matches this background colour i'm s...</td>\n",
       "      <td>d'aww ! he match this background colour i 'm s...</td>\n",
       "      <td>d aww he match this background colour i m seem...</td>\n",
       "    </tr>\n",
       "    <tr>\n",
       "      <th>2</th>\n",
       "      <td>Hey man, I'm really not trying to edit war. It...</td>\n",
       "      <td>0</td>\n",
       "      <td>hey man, i'm really not trying to edit war. it...</td>\n",
       "      <td>hey man , i 'm really not try to edit war . it...</td>\n",
       "      <td>hey man i m really not try to edit war it s ju...</td>\n",
       "    </tr>\n",
       "    <tr>\n",
       "      <th>3</th>\n",
       "      <td>\"\\nMore\\nI can't make any real suggestions on ...</td>\n",
       "      <td>0</td>\n",
       "      <td>\"\\nmore\\ni can't make any real suggestions on ...</td>\n",
       "      <td>`` more i ca n't make any real suggestions on ...</td>\n",
       "      <td>more i ca n t make any real suggestions on imp...</td>\n",
       "    </tr>\n",
       "    <tr>\n",
       "      <th>4</th>\n",
       "      <td>You, sir, are my hero. Any chance you remember...</td>\n",
       "      <td>0</td>\n",
       "      <td>you, sir, are my hero. any chance you remember...</td>\n",
       "      <td>you , sir , be my hero . any chance you rememb...</td>\n",
       "      <td>you sir be my hero any chance you remember wha...</td>\n",
       "    </tr>\n",
       "  </tbody>\n",
       "</table>\n",
       "</div>"
      ],
      "text/plain": [
       "                                                text  toxic  \\\n",
       "0  Explanation\\nWhy the edits made under my usern...      0   \n",
       "1  D'aww! He matches this background colour I'm s...      0   \n",
       "2  Hey man, I'm really not trying to edit war. It...      0   \n",
       "3  \"\\nMore\\nI can't make any real suggestions on ...      0   \n",
       "4  You, sir, are my hero. Any chance you remember...      0   \n",
       "\n",
       "                                            low_text  \\\n",
       "0  explanation\\nwhy the edits made under my usern...   \n",
       "1  d'aww! he matches this background colour i'm s...   \n",
       "2  hey man, i'm really not trying to edit war. it...   \n",
       "3  \"\\nmore\\ni can't make any real suggestions on ...   \n",
       "4  you, sir, are my hero. any chance you remember...   \n",
       "\n",
       "                                           lemm_text  \\\n",
       "0  explanation why the edit make under my usernam...   \n",
       "1  d'aww ! he match this background colour i 'm s...   \n",
       "2  hey man , i 'm really not try to edit war . it...   \n",
       "3  `` more i ca n't make any real suggestions on ...   \n",
       "4  you , sir , be my hero . any chance you rememb...   \n",
       "\n",
       "                                          clear_text  \n",
       "0  explanation why the edit make under my usernam...  \n",
       "1  d aww he match this background colour i m seem...  \n",
       "2  hey man i m really not try to edit war it s ju...  \n",
       "3  more i ca n t make any real suggestions on imp...  \n",
       "4  you sir be my hero any chance you remember wha...  "
      ]
     },
     "execution_count": 7,
     "metadata": {},
     "output_type": "execute_result"
    }
   ],
   "source": [
    "%%time\n",
    "data['clear_text'] = data['lemm_text'].apply(clear_text)\n",
    "data.head()"
   ]
  },
  {
   "cell_type": "markdown",
   "metadata": {},
   "source": [
    "## Обучение\n",
    "### Разделение выборок\n",
    "\n",
    "Сначала оценим долю целевого признака в общей выборке."
   ]
  },
  {
   "cell_type": "code",
   "execution_count": 8,
   "metadata": {
    "scrolled": true
   },
   "outputs": [
    {
     "data": {
      "text/plain": [
       "0    0.898321\n",
       "1    0.101679\n",
       "Name: toxic, dtype: float64"
      ]
     },
     "execution_count": 8,
     "metadata": {},
     "output_type": "execute_result"
    }
   ],
   "source": [
    "data[\"toxic\"].value_counts(normalize=True)"
   ]
  },
  {
   "cell_type": "markdown",
   "metadata": {},
   "source": [
    "Доля токсичных комментариев составила около 10% от общей выборки - налицо дисбаланс классов. **При разбиении на обучающую и тестовую выборки сохраним долю целевого признака в обеих выборках с помощью параметра stratify, а при обучении моделей используем class_weight=\"balanced\".** Разобьем данные на три части: обучающую, валидационную и тестовую. Размеры тестового и валидационного наборов обычно равны. Установим их согласно на уровне 10%."
   ]
  },
  {
   "cell_type": "code",
   "execution_count": 9,
   "metadata": {},
   "outputs": [
    {
     "name": "stdout",
     "output_type": "stream",
     "text": [
      "(127656, 5) (15957, 5) (15958, 5)\n"
     ]
    }
   ],
   "source": [
    "train, middle = train_test_split(data, test_size=0.2, random_state=12345, stratify=data['toxic'])\n",
    "valid, test = train_test_split(middle, test_size=0.5, random_state=12345, stratify=middle['toxic'])\n",
    "\n",
    "print(train.shape, valid.shape, test.shape)"
   ]
  },
  {
   "cell_type": "code",
   "execution_count": 10,
   "metadata": {},
   "outputs": [],
   "source": [
    "#  объявим переменные с признаками и целевым признаком для каждой из полученных выборок\n",
    "x_train = train['clear_text']\n",
    "y_train = train['toxic']\n",
    "x_valid = valid['clear_text']\n",
    "y_valid = valid['toxic']\n",
    "x_test = test['clear_text']\n",
    "y_test = test['toxic']"
   ]
  },
  {
   "cell_type": "markdown",
   "metadata": {},
   "source": [
    "### Создание признаков\n",
    "\n",
    "Создадим мешок слов, биграммы и TF-IDF с учетом стоп-слов.\n",
    "\n",
    "#### Мешок слов"
   ]
  },
  {
   "cell_type": "code",
   "execution_count": 11,
   "metadata": {},
   "outputs": [
    {
     "name": "stderr",
     "output_type": "stream",
     "text": [
      "[nltk_data] Downloading package stopwords to /home/jovyan/nltk_data...\n",
      "[nltk_data]   Package stopwords is already up-to-date!\n"
     ]
    },
    {
     "name": "stdout",
     "output_type": "stream",
     "text": [
      "Размеры матриц: (127656, 139822) (15957, 139822) (15958, 139822)\n"
     ]
    }
   ],
   "source": [
    "nltk.download('stopwords')\n",
    "stop_words = set(nltk_stopwords.words('english'))\n",
    "count_vect_bow = CountVectorizer(stop_words=stop_words)\n",
    "\n",
    "bow_train = count_vect_bow.fit_transform(x_train) \n",
    "bow_valid = count_vect_bow.transform(x_valid) \n",
    "bow_test = count_vect_bow.transform(x_test) \n",
    "\n",
    "print(\"Размеры матриц:\", bow_train.shape, bow_valid.shape, bow_test.shape)"
   ]
  },
  {
   "cell_type": "markdown",
   "metadata": {},
   "source": [
    "#### Биграммы"
   ]
  },
  {
   "cell_type": "code",
   "execution_count": 12,
   "metadata": {},
   "outputs": [
    {
     "name": "stderr",
     "output_type": "stream",
     "text": [
      "[nltk_data] Downloading package stopwords to /home/jovyan/nltk_data...\n",
      "[nltk_data]   Package stopwords is already up-to-date!\n"
     ]
    },
    {
     "name": "stdout",
     "output_type": "stream",
     "text": [
      "Размеры биграмм: (127656, 1981750) (15957, 1981750) (15958, 1981750)\n"
     ]
    }
   ],
   "source": [
    "nltk.download('stopwords')\n",
    "stop_words = set(nltk_stopwords.words('english'))\n",
    "count_vect_bi = CountVectorizer(stop_words=stop_words, ngram_range=(2, 2)) \n",
    "\n",
    "n_gramm_train = count_vect_bi.fit_transform(x_train) \n",
    "n_gramm_valid = count_vect_bi.transform(x_valid)\n",
    "n_gramm_test = count_vect_bi.transform(x_test)\n",
    "\n",
    "print(\"Размеры биграмм:\", n_gramm_train.shape, n_gramm_valid.shape, n_gramm_test.shape)"
   ]
  },
  {
   "cell_type": "markdown",
   "metadata": {},
   "source": [
    "Ожидаемо, количество биграмм в разы превышает количество самих слов."
   ]
  },
  {
   "cell_type": "markdown",
   "metadata": {},
   "source": [
    "#### TF-IDF"
   ]
  },
  {
   "cell_type": "code",
   "execution_count": 13,
   "metadata": {},
   "outputs": [
    {
     "name": "stderr",
     "output_type": "stream",
     "text": [
      "[nltk_data] Downloading package stopwords to /home/jovyan/nltk_data...\n",
      "[nltk_data]   Package stopwords is already up-to-date!\n"
     ]
    },
    {
     "name": "stdout",
     "output_type": "stream",
     "text": [
      "Размеры матриц: (127656, 139822) (15957, 139822) (15958, 139822)\n"
     ]
    }
   ],
   "source": [
    "nltk.download('stopwords')\n",
    "stopwords = set(nltk_stopwords.words('english'))\n",
    "count_tf_idf = TfidfVectorizer(stop_words=stopwords) \n",
    "\n",
    "tf_idf_train = count_tf_idf.fit_transform(x_train)\n",
    "tf_idf_valid = count_tf_idf.transform(x_valid)\n",
    "tf_idf_test = count_tf_idf.transform(x_test)\n",
    "\n",
    "print(\"Размеры матриц:\", tf_idf_train.shape, tf_idf_valid.shape, tf_idf_test.shape)"
   ]
  },
  {
   "cell_type": "markdown",
   "metadata": {},
   "source": [
    "Признаков столько же, сколько и у мешка слов, мы ничего не потеряли."
   ]
  },
  {
   "cell_type": "markdown",
   "metadata": {},
   "source": [
    "### Логистическая регрессия и выбор признаков\n",
    "**Опробуем все три вида признаков на модели логистической регрессии и все последующие модели будем обучать уже только на признаках, которые показали наилучший результат.**"
   ]
  },
  {
   "cell_type": "code",
   "execution_count": 14,
   "metadata": {},
   "outputs": [
    {
     "name": "stdout",
     "output_type": "stream",
     "text": [
      "F1-мера на валидационной выборке: 0.7788516202387721\n",
      "CPU times: user 25.5 s, sys: 25 s, total: 50.5 s\n",
      "Wall time: 52 s\n"
     ]
    }
   ],
   "source": [
    "%%time\n",
    "lr = LogisticRegression(max_iter=100, class_weight=\"balanced\", n_jobs=-1) \n",
    "lr.fit(bow_train, y_train)\n",
    "predicted_valid = lr.predict(bow_valid)\n",
    "result = f1_score(y_valid, predicted_valid)\n",
    "print(\"F1-мера на валидационной выборке:\", result)"
   ]
  },
  {
   "cell_type": "code",
   "execution_count": 15,
   "metadata": {},
   "outputs": [
    {
     "name": "stdout",
     "output_type": "stream",
     "text": [
      "F1-мера на валидационной выборке: 0.562187139006546\n",
      "CPU times: user 1min 19s, sys: 44.9 s, total: 2min 4s\n",
      "Wall time: 2min 4s\n"
     ]
    }
   ],
   "source": [
    "%%time\n",
    "lr = LogisticRegression(max_iter=100, class_weight=\"balanced\", n_jobs=-1) \n",
    "lr.fit(n_gramm_train, y_train)\n",
    "predicted_valid = lr.predict(n_gramm_valid)\n",
    "result = f1_score(y_valid, predicted_valid)\n",
    "print(\"F1-мера на валидационной выборке:\", result)"
   ]
  },
  {
   "cell_type": "code",
   "execution_count": 16,
   "metadata": {},
   "outputs": [
    {
     "name": "stdout",
     "output_type": "stream",
     "text": [
      "F1-мера на валидационной выборке: 0.7637153720803912\n",
      "CPU times: user 23.8 s, sys: 25.5 s, total: 49.3 s\n",
      "Wall time: 49.3 s\n"
     ]
    }
   ],
   "source": [
    "%%time\n",
    "lr = LogisticRegression(max_iter=100, class_weight=\"balanced\", n_jobs=-1) \n",
    "lr.fit(tf_idf_train, y_train)\n",
    "predicted_valid = lr.predict(tf_idf_valid)\n",
    "result = f1_score(y_valid, predicted_valid)\n",
    "print(\"F1-мера на валидационной выборке:\", result)"
   ]
  },
  {
   "cell_type": "markdown",
   "metadata": {},
   "source": [
    "Наилучший результат продемонстрировали признаки из мешка слов (f1 = 0.78), чуть хуже tf-idf (f1 = 0.76). Использование биграмм дало самый слабый результат: f1 = 0.56. В целом полученные результаты выглядят вполне логично, поскольку токсичность комментариев определяется употреблением конкретных слов и не так важно, насколько часто это слово упоминается в тексте или в каком соседстве. **Для последующего обучения моделей будем использовать мешок слов.**"
   ]
  },
  {
   "cell_type": "markdown",
   "metadata": {},
   "source": [
    "### Решающее дерево\n",
    "Подберем гиперпараметры с помощью **HalvingGridSearchCV**."
   ]
  },
  {
   "cell_type": "code",
   "execution_count": 18,
   "metadata": {},
   "outputs": [],
   "source": [
    "# ячейка с подбором гиперпараметров деактивирована специально, чтобы можно было быстро пересчитать весь проект \n",
    "# %%time\n",
    "# parametrs = {'max_depth': range (20, 51)}\n",
    "# dtr = DecisionTreeClassifier (random_state=12345, class_weight=\"balanced\")\n",
    "# grid = HalvingGridSearchCV(dtr, parametrs, scoring = 'f1', cv = 3, verbose = 2, random_state=12345)\n",
    "# grid.fit(bow_train, y_train) \n",
    "# grid.best_params_"
   ]
  },
  {
   "cell_type": "code",
   "execution_count": 19,
   "metadata": {},
   "outputs": [
    {
     "name": "stdout",
     "output_type": "stream",
     "text": [
      "F1-мера на валидационной выборке: 0.6866151866151866\n",
      "CPU times: user 40 s, sys: 0 ns, total: 40 s\n",
      "Wall time: 40 s\n"
     ]
    }
   ],
   "source": [
    "%%time\n",
    "dtr = DecisionTreeClassifier (random_state=12345, class_weight=\"balanced\", max_depth=49)\n",
    "dtr.fit(bow_train, y_train)\n",
    "predicted_valid = dtr.predict(bow_valid)\n",
    "result = f1_score(y_valid, predicted_valid)\n",
    "print(\"F1-мера на валидационной выборке:\", result)"
   ]
  },
  {
   "cell_type": "markdown",
   "metadata": {},
   "source": [
    "### Случайный лес\n",
    "Подберем гиперпараметры с помощью нескольких итерраций **HalvingGridSearchCV** (промежуточные итеррации пропущены для сокращения кода)."
   ]
  },
  {
   "cell_type": "code",
   "execution_count": 20,
   "metadata": {},
   "outputs": [],
   "source": [
    "# ячейка с подбором гиперпараметров деактивирована специально, чтобы можно было быстро пересчитать весь проект \n",
    "\n",
    "# %%time\n",
    "# parametrs = {'n_estimators': range (64, 69, 2),\n",
    "#             'max_depth': range (74, 79, 2)}\n",
    "# model = RandomForestClassifier (random_state=12345, class_weight=\"balanced\")\n",
    "# grid = HalvingGridSearchCV(model, parametrs, scoring = 'f1', cv = 3, verbose = 2, random_state=12345)\n",
    "# grid.fit(bow_train, y_train) \n",
    "# grid.best_params_"
   ]
  },
  {
   "cell_type": "code",
   "execution_count": 21,
   "metadata": {},
   "outputs": [
    {
     "name": "stdout",
     "output_type": "stream",
     "text": [
      "F1-мера на валидационной выборке: 0.509282700421941\n",
      "CPU times: user 1min 39s, sys: 0 ns, total: 1min 39s\n",
      "Wall time: 1min 39s\n"
     ]
    }
   ],
   "source": [
    "%%time\n",
    "rf = RandomForestClassifier (random_state=12345, \n",
    "                             n_estimators=68, \n",
    "                             max_depth=78, \n",
    "                             class_weight=\"balanced\", \n",
    "                             n_jobs=-1)\n",
    "\n",
    "rf.fit(bow_train, y_train)\n",
    "predicted_valid = rf.predict(bow_valid)\n",
    "\n",
    "result = f1_score(y_valid, predicted_valid)\n",
    "print(\"F1-мера на валидационной выборке:\", result)"
   ]
  },
  {
   "cell_type": "markdown",
   "metadata": {},
   "source": [
    "### Градиентный бустинг CatBoost"
   ]
  },
  {
   "cell_type": "code",
   "execution_count": 22,
   "metadata": {
    "scrolled": true
   },
   "outputs": [],
   "source": [
    "# библиотека CatBoost умеет работать с текстом напрямую, поэтому используем исходные выборки, добавивив в них название столбца\n",
    "x_train = pd.DataFrame(x_train, columns = ['clear_text'])\n",
    "x_valid = pd.DataFrame(x_valid, columns = ['clear_text'])\n",
    "x_test = pd.DataFrame(x_test, columns = ['clear_text'])"
   ]
  },
  {
   "cell_type": "code",
   "execution_count": 23,
   "metadata": {
    "scrolled": true
   },
   "outputs": [
    {
     "name": "stdout",
     "output_type": "stream",
     "text": [
      "Learning rate set to 0.5\n",
      "0:\tlearn: 0.6989814\ttotal: 541ms\tremaining: 53.5s\n",
      "2:\tlearn: 0.7094051\ttotal: 1.52s\tremaining: 49.2s\n",
      "4:\tlearn: 0.7203889\ttotal: 2.54s\tremaining: 48.4s\n",
      "6:\tlearn: 0.7243636\ttotal: 3.6s\tremaining: 47.9s\n",
      "8:\tlearn: 0.7297079\ttotal: 4.67s\tremaining: 47.2s\n",
      "10:\tlearn: 0.7336327\ttotal: 5.71s\tremaining: 46.2s\n",
      "12:\tlearn: 0.7408924\ttotal: 6.73s\tremaining: 45s\n",
      "14:\tlearn: 0.7446402\ttotal: 7.75s\tremaining: 43.9s\n",
      "16:\tlearn: 0.7493710\ttotal: 8.69s\tremaining: 42.4s\n",
      "18:\tlearn: 0.7526085\ttotal: 9.61s\tremaining: 41s\n",
      "20:\tlearn: 0.7550064\ttotal: 10.6s\tremaining: 39.7s\n",
      "22:\tlearn: 0.7573329\ttotal: 11.5s\tremaining: 38.6s\n",
      "24:\tlearn: 0.7604042\ttotal: 12.5s\tremaining: 37.5s\n",
      "26:\tlearn: 0.7625355\ttotal: 13.4s\tremaining: 36.3s\n",
      "28:\tlearn: 0.7633045\ttotal: 14.4s\tremaining: 35.2s\n",
      "30:\tlearn: 0.7656056\ttotal: 15.4s\tremaining: 34.2s\n",
      "32:\tlearn: 0.7674130\ttotal: 16.3s\tremaining: 33.1s\n",
      "34:\tlearn: 0.7678747\ttotal: 17.3s\tremaining: 32.2s\n",
      "36:\tlearn: 0.7701493\ttotal: 18.3s\tremaining: 31.2s\n",
      "38:\tlearn: 0.7706469\ttotal: 19.3s\tremaining: 30.1s\n",
      "40:\tlearn: 0.7724279\ttotal: 20.3s\tremaining: 29.2s\n",
      "42:\tlearn: 0.7728303\ttotal: 21.2s\tremaining: 28.1s\n",
      "44:\tlearn: 0.7730812\ttotal: 22.1s\tremaining: 27.1s\n",
      "46:\tlearn: 0.7730812\ttotal: 23s\tremaining: 25.9s\n",
      "48:\tlearn: 0.7730812\ttotal: 23.8s\tremaining: 24.8s\n",
      "50:\tlearn: 0.7730812\ttotal: 24.6s\tremaining: 23.7s\n",
      "52:\tlearn: 0.7730812\ttotal: 25.5s\tremaining: 22.6s\n",
      "54:\tlearn: 0.7732250\ttotal: 26.3s\tremaining: 21.5s\n",
      "56:\tlearn: 0.7741742\ttotal: 27.2s\tremaining: 20.5s\n",
      "58:\tlearn: 0.7741632\ttotal: 28.1s\tremaining: 19.5s\n",
      "60:\tlearn: 0.7742184\ttotal: 28.9s\tremaining: 18.5s\n",
      "62:\tlearn: 0.7744284\ttotal: 29.7s\tremaining: 17.5s\n",
      "64:\tlearn: 0.7743952\ttotal: 30.6s\tremaining: 16.5s\n",
      "66:\tlearn: 0.7744393\ttotal: 31.6s\tremaining: 15.6s\n",
      "68:\tlearn: 0.7745442\ttotal: 32.5s\tremaining: 14.6s\n",
      "70:\tlearn: 0.7762674\ttotal: 33.4s\tremaining: 13.7s\n",
      "72:\tlearn: 0.7765803\ttotal: 34.4s\tremaining: 12.7s\n",
      "74:\tlearn: 0.7767895\ttotal: 35.3s\tremaining: 11.8s\n",
      "76:\tlearn: 0.7771653\ttotal: 36.3s\tremaining: 10.8s\n",
      "78:\tlearn: 0.7779249\ttotal: 37.2s\tremaining: 9.89s\n",
      "80:\tlearn: 0.7782141\ttotal: 38.2s\tremaining: 8.96s\n",
      "82:\tlearn: 0.7779912\ttotal: 39.1s\tremaining: 8s\n",
      "84:\tlearn: 0.7790102\ttotal: 40.1s\tremaining: 7.07s\n",
      "86:\tlearn: 0.7792895\ttotal: 41s\tremaining: 6.12s\n",
      "88:\tlearn: 0.7801031\ttotal: 42s\tremaining: 5.19s\n",
      "90:\tlearn: 0.7806790\ttotal: 42.9s\tremaining: 4.25s\n",
      "92:\tlearn: 0.7816268\ttotal: 43.9s\tremaining: 3.3s\n",
      "94:\tlearn: 0.7819382\ttotal: 44.8s\tremaining: 2.36s\n",
      "96:\tlearn: 0.7821900\ttotal: 45.8s\tremaining: 1.42s\n",
      "98:\tlearn: 0.7814394\ttotal: 46.6s\tremaining: 471ms\n",
      "99:\tlearn: 0.7827014\ttotal: 47.1s\tremaining: 0us\n",
      "F1-мера на валидационной выборке: 0.7956551255940258\n",
      "CPU times: user 50.9 s, sys: 4.76 s, total: 55.7 s\n",
      "Wall time: 56.6 s\n"
     ]
    }
   ],
   "source": [
    "%%time\n",
    "cb = CatBoostClassifier(eval_metric = \"F1\",\n",
    "                        loss_function=\"Logloss\",\n",
    "                        iterations=100,\n",
    "                        verbose=2)\n",
    "\n",
    "text_features= ['clear_text']\n",
    "\n",
    "cb.fit(x_train, y_train, text_features=text_features) \n",
    "predicted_valid = cb.predict(x_valid)\n",
    "result = f1_score(y_valid, predicted_valid)\n",
    "print(\"F1-мера на валидационной выборке:\", result)"
   ]
  },
  {
   "cell_type": "markdown",
   "metadata": {},
   "source": [
    "### Градиентный бустинг LGBM"
   ]
  },
  {
   "cell_type": "code",
   "execution_count": 24,
   "metadata": {},
   "outputs": [],
   "source": [
    "# библиотека LightGBM требует обязательного присвоения количественным признакам типа float32/64 \n",
    "bow_train_float = bow_train.astype('float32')\n",
    "bow_valid_float = bow_valid.astype('float32')\n",
    "bow_test_float = bow_test.astype('float32')"
   ]
  },
  {
   "cell_type": "code",
   "execution_count": 25,
   "metadata": {},
   "outputs": [
    {
     "name": "stdout",
     "output_type": "stream",
     "text": [
      "F1-мера на валидационной выборке: 0.7906819716407831\n",
      "CPU times: user 1min 21s, sys: 0 ns, total: 1min 21s\n",
      "Wall time: 1min 21s\n"
     ]
    }
   ],
   "source": [
    "%%time\n",
    "lg = LGBMClassifier(max_depth=- 1, \n",
    "                    learning_rate=0.5, \n",
    "                    n_estimators=100,\n",
    "                    n_jobs=-1)\n",
    "\n",
    "lg .fit(bow_train_float, y_train)\n",
    "predicted_valid = lg.predict(bow_valid_float)\n",
    "\n",
    "result = f1_score(y_valid, predicted_valid)\n",
    "print(\"F1-мера на валидационной выборке:\", result)"
   ]
  },
  {
   "cell_type": "markdown",
   "metadata": {},
   "source": [
    "### Градиентный бустинг XGBoost"
   ]
  },
  {
   "cell_type": "code",
   "execution_count": 26,
   "metadata": {
    "scrolled": true
   },
   "outputs": [
    {
     "name": "stdout",
     "output_type": "stream",
     "text": [
      "[16:40:48] INFO: ../src/tree/updater_prune.cc:101: tree pruning end, 78 extra nodes, 0 pruned nodes, max_depth=6\n",
      "[16:40:48] INFO: ../src/tree/updater_prune.cc:101: tree pruning end, 74 extra nodes, 0 pruned nodes, max_depth=6\n",
      "[16:40:49] INFO: ../src/tree/updater_prune.cc:101: tree pruning end, 86 extra nodes, 0 pruned nodes, max_depth=6\n",
      "[16:40:50] INFO: ../src/tree/updater_prune.cc:101: tree pruning end, 76 extra nodes, 0 pruned nodes, max_depth=6\n",
      "[16:40:51] INFO: ../src/tree/updater_prune.cc:101: tree pruning end, 78 extra nodes, 0 pruned nodes, max_depth=6\n",
      "[16:40:51] INFO: ../src/tree/updater_prune.cc:101: tree pruning end, 84 extra nodes, 0 pruned nodes, max_depth=6\n",
      "[16:40:52] INFO: ../src/tree/updater_prune.cc:101: tree pruning end, 60 extra nodes, 0 pruned nodes, max_depth=6\n",
      "[16:40:53] INFO: ../src/tree/updater_prune.cc:101: tree pruning end, 90 extra nodes, 0 pruned nodes, max_depth=6\n",
      "[16:40:54] INFO: ../src/tree/updater_prune.cc:101: tree pruning end, 72 extra nodes, 0 pruned nodes, max_depth=6\n",
      "[16:40:55] INFO: ../src/tree/updater_prune.cc:101: tree pruning end, 82 extra nodes, 0 pruned nodes, max_depth=6\n",
      "[16:40:55] INFO: ../src/tree/updater_prune.cc:101: tree pruning end, 78 extra nodes, 0 pruned nodes, max_depth=6\n",
      "[16:40:56] INFO: ../src/tree/updater_prune.cc:101: tree pruning end, 80 extra nodes, 0 pruned nodes, max_depth=6\n",
      "[16:40:57] INFO: ../src/tree/updater_prune.cc:101: tree pruning end, 90 extra nodes, 0 pruned nodes, max_depth=6\n",
      "[16:40:58] INFO: ../src/tree/updater_prune.cc:101: tree pruning end, 62 extra nodes, 0 pruned nodes, max_depth=6\n",
      "[16:40:58] INFO: ../src/tree/updater_prune.cc:101: tree pruning end, 56 extra nodes, 0 pruned nodes, max_depth=6\n",
      "[16:40:59] INFO: ../src/tree/updater_prune.cc:101: tree pruning end, 46 extra nodes, 0 pruned nodes, max_depth=6\n",
      "[16:41:00] INFO: ../src/tree/updater_prune.cc:101: tree pruning end, 62 extra nodes, 0 pruned nodes, max_depth=6\n",
      "[16:41:01] INFO: ../src/tree/updater_prune.cc:101: tree pruning end, 54 extra nodes, 0 pruned nodes, max_depth=6\n",
      "[16:41:01] INFO: ../src/tree/updater_prune.cc:101: tree pruning end, 74 extra nodes, 0 pruned nodes, max_depth=6\n",
      "[16:41:02] INFO: ../src/tree/updater_prune.cc:101: tree pruning end, 62 extra nodes, 0 pruned nodes, max_depth=6\n",
      "[16:41:03] INFO: ../src/tree/updater_prune.cc:101: tree pruning end, 84 extra nodes, 0 pruned nodes, max_depth=6\n",
      "[16:41:03] INFO: ../src/tree/updater_prune.cc:101: tree pruning end, 54 extra nodes, 0 pruned nodes, max_depth=6\n",
      "[16:41:04] INFO: ../src/tree/updater_prune.cc:101: tree pruning end, 60 extra nodes, 0 pruned nodes, max_depth=6\n",
      "[16:41:05] INFO: ../src/tree/updater_prune.cc:101: tree pruning end, 52 extra nodes, 0 pruned nodes, max_depth=6\n",
      "[16:41:05] INFO: ../src/tree/updater_prune.cc:101: tree pruning end, 52 extra nodes, 0 pruned nodes, max_depth=6\n",
      "[16:41:06] INFO: ../src/tree/updater_prune.cc:101: tree pruning end, 50 extra nodes, 0 pruned nodes, max_depth=6\n",
      "[16:41:07] INFO: ../src/tree/updater_prune.cc:101: tree pruning end, 36 extra nodes, 0 pruned nodes, max_depth=6\n",
      "[16:41:08] INFO: ../src/tree/updater_prune.cc:101: tree pruning end, 50 extra nodes, 0 pruned nodes, max_depth=6\n",
      "[16:41:08] INFO: ../src/tree/updater_prune.cc:101: tree pruning end, 38 extra nodes, 0 pruned nodes, max_depth=6\n",
      "[16:41:09] INFO: ../src/tree/updater_prune.cc:101: tree pruning end, 50 extra nodes, 0 pruned nodes, max_depth=6\n",
      "[16:41:10] INFO: ../src/tree/updater_prune.cc:101: tree pruning end, 30 extra nodes, 0 pruned nodes, max_depth=6\n",
      "[16:41:11] INFO: ../src/tree/updater_prune.cc:101: tree pruning end, 48 extra nodes, 0 pruned nodes, max_depth=6\n",
      "[16:41:11] INFO: ../src/tree/updater_prune.cc:101: tree pruning end, 74 extra nodes, 0 pruned nodes, max_depth=6\n",
      "[16:41:12] INFO: ../src/tree/updater_prune.cc:101: tree pruning end, 48 extra nodes, 0 pruned nodes, max_depth=6\n",
      "[16:41:13] INFO: ../src/tree/updater_prune.cc:101: tree pruning end, 56 extra nodes, 0 pruned nodes, max_depth=6\n",
      "[16:41:14] INFO: ../src/tree/updater_prune.cc:101: tree pruning end, 66 extra nodes, 0 pruned nodes, max_depth=6\n",
      "[16:41:14] INFO: ../src/tree/updater_prune.cc:101: tree pruning end, 70 extra nodes, 0 pruned nodes, max_depth=6\n",
      "[16:41:15] INFO: ../src/tree/updater_prune.cc:101: tree pruning end, 38 extra nodes, 0 pruned nodes, max_depth=6\n",
      "[16:41:16] INFO: ../src/tree/updater_prune.cc:101: tree pruning end, 36 extra nodes, 0 pruned nodes, max_depth=6\n",
      "[16:41:16] INFO: ../src/tree/updater_prune.cc:101: tree pruning end, 50 extra nodes, 0 pruned nodes, max_depth=6\n",
      "[16:41:17] INFO: ../src/tree/updater_prune.cc:101: tree pruning end, 34 extra nodes, 0 pruned nodes, max_depth=6\n",
      "[16:41:18] INFO: ../src/tree/updater_prune.cc:101: tree pruning end, 60 extra nodes, 0 pruned nodes, max_depth=6\n",
      "[16:41:18] INFO: ../src/tree/updater_prune.cc:101: tree pruning end, 60 extra nodes, 0 pruned nodes, max_depth=6\n",
      "[16:41:19] INFO: ../src/tree/updater_prune.cc:101: tree pruning end, 48 extra nodes, 0 pruned nodes, max_depth=6\n",
      "[16:41:20] INFO: ../src/tree/updater_prune.cc:101: tree pruning end, 56 extra nodes, 0 pruned nodes, max_depth=6\n",
      "[16:41:21] INFO: ../src/tree/updater_prune.cc:101: tree pruning end, 48 extra nodes, 0 pruned nodes, max_depth=6\n",
      "[16:41:21] INFO: ../src/tree/updater_prune.cc:101: tree pruning end, 44 extra nodes, 0 pruned nodes, max_depth=6\n",
      "[16:41:22] INFO: ../src/tree/updater_prune.cc:101: tree pruning end, 46 extra nodes, 0 pruned nodes, max_depth=6\n",
      "[16:41:23] INFO: ../src/tree/updater_prune.cc:101: tree pruning end, 58 extra nodes, 0 pruned nodes, max_depth=6\n",
      "[16:41:23] INFO: ../src/tree/updater_prune.cc:101: tree pruning end, 42 extra nodes, 0 pruned nodes, max_depth=6\n",
      "[16:41:24] INFO: ../src/tree/updater_prune.cc:101: tree pruning end, 42 extra nodes, 0 pruned nodes, max_depth=6\n",
      "[16:41:25] INFO: ../src/tree/updater_prune.cc:101: tree pruning end, 44 extra nodes, 0 pruned nodes, max_depth=6\n",
      "[16:41:26] INFO: ../src/tree/updater_prune.cc:101: tree pruning end, 52 extra nodes, 0 pruned nodes, max_depth=6\n",
      "[16:41:26] INFO: ../src/tree/updater_prune.cc:101: tree pruning end, 64 extra nodes, 0 pruned nodes, max_depth=6\n",
      "[16:41:27] INFO: ../src/tree/updater_prune.cc:101: tree pruning end, 48 extra nodes, 0 pruned nodes, max_depth=6\n",
      "[16:41:28] INFO: ../src/tree/updater_prune.cc:101: tree pruning end, 52 extra nodes, 0 pruned nodes, max_depth=6\n",
      "[16:41:30] INFO: ../src/tree/updater_prune.cc:101: tree pruning end, 26 extra nodes, 0 pruned nodes, max_depth=6\n",
      "[16:41:30] INFO: ../src/tree/updater_prune.cc:101: tree pruning end, 72 extra nodes, 0 pruned nodes, max_depth=6\n",
      "[16:41:31] INFO: ../src/tree/updater_prune.cc:101: tree pruning end, 40 extra nodes, 0 pruned nodes, max_depth=6\n",
      "[16:41:32] INFO: ../src/tree/updater_prune.cc:101: tree pruning end, 56 extra nodes, 0 pruned nodes, max_depth=6\n",
      "[16:41:33] INFO: ../src/tree/updater_prune.cc:101: tree pruning end, 28 extra nodes, 0 pruned nodes, max_depth=6\n",
      "[16:41:34] INFO: ../src/tree/updater_prune.cc:101: tree pruning end, 60 extra nodes, 0 pruned nodes, max_depth=6\n",
      "[16:41:34] INFO: ../src/tree/updater_prune.cc:101: tree pruning end, 36 extra nodes, 0 pruned nodes, max_depth=6\n",
      "[16:41:35] INFO: ../src/tree/updater_prune.cc:101: tree pruning end, 48 extra nodes, 0 pruned nodes, max_depth=6\n",
      "[16:41:36] INFO: ../src/tree/updater_prune.cc:101: tree pruning end, 34 extra nodes, 0 pruned nodes, max_depth=6\n",
      "[16:41:37] INFO: ../src/tree/updater_prune.cc:101: tree pruning end, 60 extra nodes, 0 pruned nodes, max_depth=6\n",
      "[16:41:38] INFO: ../src/tree/updater_prune.cc:101: tree pruning end, 54 extra nodes, 0 pruned nodes, max_depth=6\n",
      "[16:41:39] INFO: ../src/tree/updater_prune.cc:101: tree pruning end, 24 extra nodes, 0 pruned nodes, max_depth=6\n",
      "[16:41:40] INFO: ../src/tree/updater_prune.cc:101: tree pruning end, 48 extra nodes, 0 pruned nodes, max_depth=6\n",
      "[16:41:40] INFO: ../src/tree/updater_prune.cc:101: tree pruning end, 64 extra nodes, 0 pruned nodes, max_depth=6\n",
      "[16:41:41] INFO: ../src/tree/updater_prune.cc:101: tree pruning end, 26 extra nodes, 0 pruned nodes, max_depth=6\n",
      "[16:41:42] INFO: ../src/tree/updater_prune.cc:101: tree pruning end, 54 extra nodes, 0 pruned nodes, max_depth=6\n",
      "[16:41:43] INFO: ../src/tree/updater_prune.cc:101: tree pruning end, 32 extra nodes, 0 pruned nodes, max_depth=6\n",
      "[16:41:44] INFO: ../src/tree/updater_prune.cc:101: tree pruning end, 32 extra nodes, 0 pruned nodes, max_depth=6\n",
      "[16:41:45] INFO: ../src/tree/updater_prune.cc:101: tree pruning end, 60 extra nodes, 0 pruned nodes, max_depth=6\n",
      "[16:41:46] INFO: ../src/tree/updater_prune.cc:101: tree pruning end, 32 extra nodes, 0 pruned nodes, max_depth=6\n",
      "[16:41:46] INFO: ../src/tree/updater_prune.cc:101: tree pruning end, 52 extra nodes, 0 pruned nodes, max_depth=6\n",
      "[16:41:47] INFO: ../src/tree/updater_prune.cc:101: tree pruning end, 60 extra nodes, 0 pruned nodes, max_depth=6\n",
      "[16:41:48] INFO: ../src/tree/updater_prune.cc:101: tree pruning end, 74 extra nodes, 0 pruned nodes, max_depth=6\n",
      "[16:41:49] INFO: ../src/tree/updater_prune.cc:101: tree pruning end, 40 extra nodes, 0 pruned nodes, max_depth=6\n",
      "[16:41:49] INFO: ../src/tree/updater_prune.cc:101: tree pruning end, 26 extra nodes, 0 pruned nodes, max_depth=6\n",
      "[16:41:50] INFO: ../src/tree/updater_prune.cc:101: tree pruning end, 50 extra nodes, 0 pruned nodes, max_depth=6\n",
      "[16:41:51] INFO: ../src/tree/updater_prune.cc:101: tree pruning end, 40 extra nodes, 0 pruned nodes, max_depth=6\n",
      "[16:41:51] INFO: ../src/tree/updater_prune.cc:101: tree pruning end, 50 extra nodes, 0 pruned nodes, max_depth=6\n",
      "[16:41:52] INFO: ../src/tree/updater_prune.cc:101: tree pruning end, 58 extra nodes, 0 pruned nodes, max_depth=6\n",
      "[16:41:53] INFO: ../src/tree/updater_prune.cc:101: tree pruning end, 42 extra nodes, 0 pruned nodes, max_depth=6\n",
      "[16:41:53] INFO: ../src/tree/updater_prune.cc:101: tree pruning end, 32 extra nodes, 0 pruned nodes, max_depth=6\n",
      "[16:41:55] INFO: ../src/tree/updater_prune.cc:101: tree pruning end, 42 extra nodes, 0 pruned nodes, max_depth=6\n",
      "[16:41:56] INFO: ../src/tree/updater_prune.cc:101: tree pruning end, 42 extra nodes, 0 pruned nodes, max_depth=6\n",
      "[16:41:57] INFO: ../src/tree/updater_prune.cc:101: tree pruning end, 42 extra nodes, 0 pruned nodes, max_depth=6\n",
      "[16:41:57] INFO: ../src/tree/updater_prune.cc:101: tree pruning end, 34 extra nodes, 0 pruned nodes, max_depth=6\n",
      "[16:41:58] INFO: ../src/tree/updater_prune.cc:101: tree pruning end, 46 extra nodes, 0 pruned nodes, max_depth=6\n",
      "[16:41:59] INFO: ../src/tree/updater_prune.cc:101: tree pruning end, 54 extra nodes, 0 pruned nodes, max_depth=6\n",
      "[16:41:59] INFO: ../src/tree/updater_prune.cc:101: tree pruning end, 54 extra nodes, 0 pruned nodes, max_depth=6\n",
      "[16:42:00] INFO: ../src/tree/updater_prune.cc:101: tree pruning end, 34 extra nodes, 0 pruned nodes, max_depth=6\n",
      "[16:42:01] INFO: ../src/tree/updater_prune.cc:101: tree pruning end, 48 extra nodes, 0 pruned nodes, max_depth=6\n",
      "[16:42:02] INFO: ../src/tree/updater_prune.cc:101: tree pruning end, 46 extra nodes, 0 pruned nodes, max_depth=6\n",
      "[16:42:03] INFO: ../src/tree/updater_prune.cc:101: tree pruning end, 40 extra nodes, 0 pruned nodes, max_depth=6\n",
      "[16:42:04] INFO: ../src/tree/updater_prune.cc:101: tree pruning end, 34 extra nodes, 0 pruned nodes, max_depth=6\n",
      "[16:42:04] INFO: ../src/tree/updater_prune.cc:101: tree pruning end, 38 extra nodes, 0 pruned nodes, max_depth=6\n",
      "F1-мера на валидационной выборке: 0.7328130806391676\n",
      "CPU times: user 1min 17s, sys: 0 ns, total: 1min 17s\n",
      "Wall time: 1min 17s\n"
     ]
    }
   ],
   "source": [
    "%%time\n",
    "xgb = XGBClassifier(verbosity  = 2, \n",
    "                    use_label_encoder=False, \n",
    "                    eval_metric='logloss',\n",
    "                    n_jobs=-1)\n",
    "\n",
    "xgb.fit(bow_train, y_train)\n",
    "predicted_valid = xgb.predict(bow_valid)\n",
    "\n",
    "result = f1_score(y_valid, predicted_valid)\n",
    "print(\"F1-мера на валидационной выборке:\", result)"
   ]
  },
  {
   "cell_type": "markdown",
   "metadata": {},
   "source": [
    "### Константная модель"
   ]
  },
  {
   "cell_type": "code",
   "execution_count": 27,
   "metadata": {},
   "outputs": [
    {
     "name": "stdout",
     "output_type": "stream",
     "text": [
      "F1-мера на валидационной выборке: 0.18453836964559986\n"
     ]
    }
   ],
   "source": [
    "dc = DummyClassifier(strategy='constant', random_state=12345, constant =1).fit(tf_idf_train, y_train) \n",
    "predicted_valid = dc.predict(tf_idf_valid)\n",
    "result = f1_score(y_valid, predicted_valid)\n",
    "print(\"F1-мера на валидационной выборке:\", result)"
   ]
  },
  {
   "cell_type": "markdown",
   "metadata": {},
   "source": [
    "## Выводы"
   ]
  },
  {
   "cell_type": "code",
   "execution_count": 28,
   "metadata": {},
   "outputs": [
    {
     "data": {
      "text/html": [
       "<div>\n",
       "<style scoped>\n",
       "    .dataframe tbody tr th:only-of-type {\n",
       "        vertical-align: middle;\n",
       "    }\n",
       "\n",
       "    .dataframe tbody tr th {\n",
       "        vertical-align: top;\n",
       "    }\n",
       "\n",
       "    .dataframe thead th {\n",
       "        text-align: right;\n",
       "    }\n",
       "</style>\n",
       "<table border=\"1\" class=\"dataframe\">\n",
       "  <thead>\n",
       "    <tr style=\"text-align: right;\">\n",
       "      <th></th>\n",
       "      <th>0</th>\n",
       "      <th>1</th>\n",
       "      <th>2</th>\n",
       "      <th>3</th>\n",
       "      <th>4</th>\n",
       "      <th>5</th>\n",
       "      <th>6</th>\n",
       "    </tr>\n",
       "  </thead>\n",
       "  <tbody>\n",
       "    <tr>\n",
       "      <th>Модель</th>\n",
       "      <td>Линейная регрессия</td>\n",
       "      <td>Решающее дерево</td>\n",
       "      <td>Случайный лес</td>\n",
       "      <td>CatBoost</td>\n",
       "      <td>LightGBM</td>\n",
       "      <td>XGBoost</td>\n",
       "      <td>Константная модель</td>\n",
       "    </tr>\n",
       "    <tr>\n",
       "      <th>F1</th>\n",
       "      <td>0.78</td>\n",
       "      <td>0.68</td>\n",
       "      <td>0.51</td>\n",
       "      <td>0.79</td>\n",
       "      <td>0.79</td>\n",
       "      <td>0.73</td>\n",
       "      <td>0.18</td>\n",
       "    </tr>\n",
       "  </tbody>\n",
       "</table>\n",
       "</div>"
      ],
      "text/plain": [
       "                         0                1              2         3  \\\n",
       "Модель  Линейная регрессия  Решающее дерево  Случайный лес  CatBoost   \n",
       "F1                    0.78             0.68           0.51      0.79   \n",
       "\n",
       "               4        5                   6  \n",
       "Модель  LightGBM  XGBoost  Константная модель  \n",
       "F1          0.79     0.73                0.18  "
      ]
     },
     "execution_count": 28,
     "metadata": {},
     "output_type": "execute_result"
    }
   ],
   "source": [
    "pd.DataFrame({'Модель': [\"Линейная регрессия\", \"Решающее дерево\", \"Случайный лес\", \"CatBoost\", \"LightGBM\", \"XGBoost\", \"Константная модель\"],\n",
    "              'F1': [0.78, 0.68, 0.51, 0.79, 0.79, 0.73, 0.18]}).T"
   ]
  },
  {
   "cell_type": "markdown",
   "metadata": {},
   "source": [
    "Наилучший результат F1 продемонстрировали модели градиентного бустинга Catboost и LightGBM (f1 = 0.79). Чуть хуже результат у линейной регрессии (f1 = 0.78). По скорости оубчения выигрывает **Catboost**, поэтому проверим результат на тестовой выборке и выведем основные влияющие факторы согласно этой модели."
   ]
  },
  {
   "cell_type": "code",
   "execution_count": 29,
   "metadata": {},
   "outputs": [
    {
     "name": "stdout",
     "output_type": "stream",
     "text": [
      "F1-мера на валидационной выборке: 0.7678145243777703\n",
      "CPU times: user 618 ms, sys: 0 ns, total: 618 ms\n",
      "Wall time: 631 ms\n"
     ]
    }
   ],
   "source": [
    "%%time\n",
    "predicted_valid = cb.predict(x_test)\n",
    "result = f1_score(y_test, predicted_valid)\n",
    "print(\"F1-мера на валидационной выборке:\", result)"
   ]
  },
  {
   "cell_type": "markdown",
   "metadata": {},
   "source": [
    "**Построим матрицу ошибок и выведем основные показатели классификации.**"
   ]
  },
  {
   "cell_type": "code",
   "execution_count": 30,
   "metadata": {},
   "outputs": [
    {
     "data": {
      "image/png": "[encoded data removed]",
      "text/plain": [
       "<Figure size 432x288 with 2 Axes>"
      ]
     },
     "metadata": {
      "needs_background": "light"
     },
     "output_type": "display_data"
    }
   ],
   "source": [
    "plot_confusion_matrix(estimator=cb, X=x_test, y_true=y_test,\n",
    "                      normalize=\"true\", cmap=\"Blues\")\n",
    "plt.show()"
   ]
  },
  {
   "cell_type": "code",
   "execution_count": 31,
   "metadata": {
    "scrolled": true
   },
   "outputs": [
    {
     "name": "stdout",
     "output_type": "stream",
     "text": [
      "              precision    recall  f1-score   support\n",
      "\n",
      "           0       0.97      0.99      0.98     14335\n",
      "           1       0.86      0.69      0.77      1623\n",
      "\n",
      "    accuracy                           0.96     15958\n",
      "   macro avg       0.91      0.84      0.87     15958\n",
      "weighted avg       0.96      0.96      0.96     15958\n",
      "\n"
     ]
    }
   ],
   "source": [
    "print(classification_report(y_test, cb.predict(x_test), target_names=['0', '1']))"
   ]
  },
  {
   "cell_type": "markdown",
   "metadata": {},
   "source": [
    "**Основные выводы:**\n",
    " * в первую очередь стоит отметить, что все обученные модели продемонстрировали точность в разы лучше, нежели константаная модель, которая все комментарии расценивала как токсичные;\n",
    " * **наибольшую точность продемонстрировала модель градиентного бустинга Catboost**, чуть хуже модели градиентного бустинга LightGBM и линейной регрессии;\n",
    " * На основании матрицы ошибок мы видим, что выбранная нами модель почти на 60% лучше в определении токсичности комментариев, нежели константная модель, для которой recall равен 10%.\n",
    " * Полученный результат на тестовой выборке F1-меры равен 0.77, что превышает необходимый уровень 0.75. "
   ]
  }
 ],
 "metadata": {
  "ExecuteTimeLog": [
   {
    "duration": 3681,
    "start_time": "2022-06-16T15:40:36.857Z"
   },
   {
    "duration": 3539,
    "start_time": "2022-06-16T15:42:13.000Z"
   },
   {
    "duration": 933,
    "start_time": "2022-06-16T15:42:32.964Z"
   },
   {
    "duration": 848,
    "start_time": "2022-06-16T15:42:39.930Z"
   },
   {
    "duration": 882,
    "start_time": "2022-06-16T15:42:55.741Z"
   },
   {
    "duration": 918,
    "start_time": "2022-06-16T15:43:27.910Z"
   },
   {
    "duration": 842,
    "start_time": "2022-06-16T15:44:18.542Z"
   },
   {
    "duration": 65,
    "start_time": "2022-06-16T16:07:41.745Z"
   },
   {
    "duration": 7,
    "start_time": "2022-06-16T16:07:49.289Z"
   },
   {
    "duration": 3738,
    "start_time": "2022-06-16T16:07:57.602Z"
   },
   {
    "duration": 3995,
    "start_time": "2022-06-16T16:08:01.342Z"
   },
   {
    "duration": 13,
    "start_time": "2022-06-16T16:08:08.081Z"
   },
   {
    "duration": 1305,
    "start_time": "2022-06-16T16:08:34.150Z"
   },
   {
    "duration": 976,
    "start_time": "2022-06-16T16:10:34.206Z"
   },
   {
    "duration": 988,
    "start_time": "2022-06-16T16:10:47.945Z"
   },
   {
    "duration": 4996,
    "start_time": "2022-06-17T08:05:43.991Z"
   },
   {
    "duration": 4295,
    "start_time": "2022-06-17T08:05:48.990Z"
   },
   {
    "duration": 17,
    "start_time": "2022-06-17T08:05:53.290Z"
   },
   {
    "duration": 1932,
    "start_time": "2022-06-17T08:05:53.310Z"
   },
   {
    "duration": 34284,
    "start_time": "2022-06-17T08:05:55.250Z"
   },
   {
    "duration": 4239,
    "start_time": "2022-06-17T08:07:24.320Z"
   },
   {
    "duration": 3877,
    "start_time": "2022-06-17T08:07:28.561Z"
   },
   {
    "duration": 10,
    "start_time": "2022-06-17T08:07:32.440Z"
   },
   {
    "duration": 1341,
    "start_time": "2022-06-17T08:07:32.459Z"
   },
   {
    "duration": 30457,
    "start_time": "2022-06-17T08:07:33.803Z"
   },
   {
    "duration": 5342,
    "start_time": "2022-06-17T08:10:20.888Z"
   },
   {
    "duration": 4076,
    "start_time": "2022-06-17T08:10:26.239Z"
   },
   {
    "duration": 13,
    "start_time": "2022-06-17T08:10:30.317Z"
   },
   {
    "duration": 1476,
    "start_time": "2022-06-17T08:10:30.333Z"
   },
   {
    "duration": 31757,
    "start_time": "2022-06-17T08:10:31.812Z"
   },
   {
    "duration": 3759,
    "start_time": "2022-06-17T09:45:52.326Z"
   },
   {
    "duration": 3431,
    "start_time": "2022-06-17T09:45:56.087Z"
   },
   {
    "duration": 2013,
    "start_time": "2022-06-17T09:45:59.520Z"
   },
   {
    "duration": 39,
    "start_time": "2022-06-17T09:46:01.535Z"
   },
   {
    "duration": 26,
    "start_time": "2022-06-17T09:46:01.577Z"
   },
   {
    "duration": 22,
    "start_time": "2022-06-17T09:46:01.605Z"
   },
   {
    "duration": 50,
    "start_time": "2022-06-17T09:46:01.629Z"
   },
   {
    "duration": 24,
    "start_time": "2022-06-17T09:46:01.682Z"
   },
   {
    "duration": 100,
    "start_time": "2022-06-17T09:46:01.709Z"
   },
   {
    "duration": 402,
    "start_time": "2022-06-17T09:46:01.812Z"
   },
   {
    "duration": 282,
    "start_time": "2022-06-17T09:47:11.273Z"
   },
   {
    "duration": 8,
    "start_time": "2022-06-17T09:48:04.737Z"
   },
   {
    "duration": 4,
    "start_time": "2022-06-17T09:48:19.216Z"
   },
   {
    "duration": 7,
    "start_time": "2022-06-17T09:48:44.849Z"
   },
   {
    "duration": 9,
    "start_time": "2022-06-17T09:49:49.067Z"
   },
   {
    "duration": 31,
    "start_time": "2022-06-17T09:54:57.894Z"
   },
   {
    "duration": 839,
    "start_time": "2022-06-17T09:54:57.927Z"
   },
   {
    "duration": 2,
    "start_time": "2022-06-17T09:54:58.768Z"
   },
   {
    "duration": 50,
    "start_time": "2022-06-17T09:54:58.772Z"
   },
   {
    "duration": 5,
    "start_time": "2022-06-17T09:55:26.126Z"
   },
   {
    "duration": 912,
    "start_time": "2022-06-17T09:55:26.134Z"
   },
   {
    "duration": 12,
    "start_time": "2022-06-17T09:55:27.048Z"
   },
   {
    "duration": 52,
    "start_time": "2022-06-17T09:55:27.062Z"
   },
   {
    "duration": 4,
    "start_time": "2022-06-17T09:56:27.395Z"
   },
   {
    "duration": 5,
    "start_time": "2022-06-17T09:57:04.142Z"
   },
   {
    "duration": 37,
    "start_time": "2022-06-17T11:03:49.596Z"
   },
   {
    "duration": 44,
    "start_time": "2022-06-17T11:04:21.785Z"
   },
   {
    "duration": 2,
    "start_time": "2022-06-17T11:08:20.518Z"
   },
   {
    "duration": 4,
    "start_time": "2022-06-17T11:08:26.790Z"
   },
   {
    "duration": 6,
    "start_time": "2022-06-17T11:09:23.693Z"
   },
   {
    "duration": 3974,
    "start_time": "2022-06-17T11:09:41.283Z"
   },
   {
    "duration": 3464,
    "start_time": "2022-06-17T11:09:45.259Z"
   },
   {
    "duration": 2,
    "start_time": "2022-06-17T11:09:48.725Z"
   },
   {
    "duration": 2041,
    "start_time": "2022-06-17T11:09:48.730Z"
   },
   {
    "duration": 844,
    "start_time": "2022-06-17T11:09:50.773Z"
   },
   {
    "duration": 8,
    "start_time": "2022-06-17T11:14:42.009Z"
   },
   {
    "duration": 6,
    "start_time": "2022-06-17T11:15:45.846Z"
   },
   {
    "duration": 1652,
    "start_time": "2022-06-17T11:16:06.018Z"
   },
   {
    "duration": 7,
    "start_time": "2022-06-17T11:16:22.056Z"
   },
   {
    "duration": 4539,
    "start_time": "2022-06-17T11:16:31.448Z"
   },
   {
    "duration": 3604,
    "start_time": "2022-06-17T11:16:35.990Z"
   },
   {
    "duration": 3,
    "start_time": "2022-06-17T11:16:39.597Z"
   },
   {
    "duration": 2135,
    "start_time": "2022-06-17T11:16:39.602Z"
   },
   {
    "duration": 1558,
    "start_time": "2022-06-17T11:16:48.591Z"
   },
   {
    "duration": 6,
    "start_time": "2022-06-17T11:18:47.921Z"
   },
   {
    "duration": 5,
    "start_time": "2022-06-17T11:19:51.624Z"
   },
   {
    "duration": 7,
    "start_time": "2022-06-17T11:20:36.913Z"
   },
   {
    "duration": 334,
    "start_time": "2022-06-17T11:22:02.322Z"
   },
   {
    "duration": 7,
    "start_time": "2022-06-17T11:22:25.630Z"
   },
   {
    "duration": 26,
    "start_time": "2022-06-17T11:22:29.886Z"
   },
   {
    "duration": 18,
    "start_time": "2022-06-17T11:24:38.219Z"
   },
   {
    "duration": 4,
    "start_time": "2022-06-17T11:24:46.737Z"
   },
   {
    "duration": 5,
    "start_time": "2022-06-17T11:26:23.390Z"
   },
   {
    "duration": 4,
    "start_time": "2022-06-17T11:26:27.100Z"
   },
   {
    "duration": 5,
    "start_time": "2022-06-17T11:27:02.297Z"
   },
   {
    "duration": 4,
    "start_time": "2022-06-17T11:27:09.634Z"
   },
   {
    "duration": 26,
    "start_time": "2022-06-17T11:27:17.474Z"
   },
   {
    "duration": 7,
    "start_time": "2022-06-17T11:27:30.782Z"
   },
   {
    "duration": 7,
    "start_time": "2022-06-17T11:27:47.815Z"
   },
   {
    "duration": 5,
    "start_time": "2022-06-17T11:28:53.081Z"
   },
   {
    "duration": 5,
    "start_time": "2022-06-17T11:31:09.798Z"
   },
   {
    "duration": 4,
    "start_time": "2022-06-17T11:32:21.706Z"
   },
   {
    "duration": 9,
    "start_time": "2022-06-17T11:32:47.399Z"
   },
   {
    "duration": 3605,
    "start_time": "2022-06-19T16:42:07.597Z"
   },
   {
    "duration": 2211,
    "start_time": "2022-06-19T16:42:11.204Z"
   },
   {
    "duration": 3,
    "start_time": "2022-06-19T16:42:13.417Z"
   },
   {
    "duration": 1924,
    "start_time": "2022-06-19T16:42:13.422Z"
   },
   {
    "duration": 334,
    "start_time": "2022-06-19T16:42:15.348Z"
   },
   {
    "duration": 0,
    "start_time": "2022-06-19T16:42:15.683Z"
   },
   {
    "duration": 1,
    "start_time": "2022-06-19T16:42:15.684Z"
   },
   {
    "duration": 0,
    "start_time": "2022-06-19T16:42:15.685Z"
   },
   {
    "duration": 0,
    "start_time": "2022-06-19T16:42:15.687Z"
   },
   {
    "duration": 0,
    "start_time": "2022-06-19T16:42:15.688Z"
   },
   {
    "duration": 0,
    "start_time": "2022-06-19T16:42:15.688Z"
   },
   {
    "duration": 0,
    "start_time": "2022-06-19T16:42:15.689Z"
   },
   {
    "duration": 0,
    "start_time": "2022-06-19T16:42:15.690Z"
   },
   {
    "duration": 0,
    "start_time": "2022-06-19T16:42:15.693Z"
   },
   {
    "duration": 0,
    "start_time": "2022-06-19T16:42:15.694Z"
   },
   {
    "duration": 0,
    "start_time": "2022-06-19T16:42:15.695Z"
   },
   {
    "duration": 0,
    "start_time": "2022-06-19T16:42:15.696Z"
   },
   {
    "duration": 0,
    "start_time": "2022-06-19T16:42:15.697Z"
   },
   {
    "duration": 0,
    "start_time": "2022-06-19T16:42:15.698Z"
   },
   {
    "duration": 3430,
    "start_time": "2022-06-19T16:42:55.345Z"
   },
   {
    "duration": 846,
    "start_time": "2022-06-19T16:42:58.777Z"
   },
   {
    "duration": 3,
    "start_time": "2022-06-19T16:42:59.625Z"
   },
   {
    "duration": 1882,
    "start_time": "2022-06-19T16:42:59.630Z"
   },
   {
    "duration": 18,
    "start_time": "2022-06-19T16:43:01.515Z"
   },
   {
    "duration": 316,
    "start_time": "2022-06-19T16:43:01.535Z"
   },
   {
    "duration": 0,
    "start_time": "2022-06-19T16:43:01.852Z"
   },
   {
    "duration": 0,
    "start_time": "2022-06-19T16:43:01.854Z"
   },
   {
    "duration": 0,
    "start_time": "2022-06-19T16:43:01.856Z"
   },
   {
    "duration": 0,
    "start_time": "2022-06-19T16:43:01.857Z"
   },
   {
    "duration": 0,
    "start_time": "2022-06-19T16:43:01.858Z"
   },
   {
    "duration": 0,
    "start_time": "2022-06-19T16:43:01.859Z"
   },
   {
    "duration": 0,
    "start_time": "2022-06-19T16:43:01.865Z"
   },
   {
    "duration": 0,
    "start_time": "2022-06-19T16:43:01.866Z"
   },
   {
    "duration": 0,
    "start_time": "2022-06-19T16:43:01.867Z"
   },
   {
    "duration": 0,
    "start_time": "2022-06-19T16:43:01.868Z"
   },
   {
    "duration": 0,
    "start_time": "2022-06-19T16:43:01.869Z"
   },
   {
    "duration": 0,
    "start_time": "2022-06-19T16:43:01.871Z"
   },
   {
    "duration": 1610,
    "start_time": "2022-06-19T16:43:40.844Z"
   },
   {
    "duration": 4,
    "start_time": "2022-06-19T16:43:58.117Z"
   },
   {
    "duration": 3,
    "start_time": "2022-06-19T16:44:51.255Z"
   },
   {
    "duration": 5,
    "start_time": "2022-06-19T16:45:10.085Z"
   },
   {
    "duration": 3539,
    "start_time": "2022-06-19T16:46:23.244Z"
   },
   {
    "duration": 2290,
    "start_time": "2022-06-19T16:46:26.785Z"
   },
   {
    "duration": 1974,
    "start_time": "2022-06-19T16:46:29.079Z"
   },
   {
    "duration": 3429,
    "start_time": "2022-06-19T16:47:15.095Z"
   },
   {
    "duration": 2223,
    "start_time": "2022-06-19T16:47:18.525Z"
   },
   {
    "duration": 1847,
    "start_time": "2022-06-19T16:47:20.750Z"
   },
   {
    "duration": 54,
    "start_time": "2022-06-19T16:47:42.796Z"
   },
   {
    "duration": 3619,
    "start_time": "2022-06-19T16:47:48.343Z"
   },
   {
    "duration": 2237,
    "start_time": "2022-06-19T16:47:51.964Z"
   },
   {
    "duration": 3,
    "start_time": "2022-06-19T16:47:54.203Z"
   },
   {
    "duration": 1910,
    "start_time": "2022-06-19T16:47:54.217Z"
   },
   {
    "duration": 33,
    "start_time": "2022-06-19T16:47:56.129Z"
   },
   {
    "duration": 1416,
    "start_time": "2022-06-19T16:47:56.164Z"
   },
   {
    "duration": 4,
    "start_time": "2022-06-19T16:47:57.581Z"
   },
   {
    "duration": 10,
    "start_time": "2022-06-19T16:47:57.587Z"
   },
   {
    "duration": 7,
    "start_time": "2022-06-19T16:47:57.598Z"
   },
   {
    "duration": 306,
    "start_time": "2022-06-19T16:47:57.607Z"
   },
   {
    "duration": 0,
    "start_time": "2022-06-19T16:47:57.914Z"
   },
   {
    "duration": 0,
    "start_time": "2022-06-19T16:47:57.916Z"
   },
   {
    "duration": 0,
    "start_time": "2022-06-19T16:47:57.917Z"
   },
   {
    "duration": 0,
    "start_time": "2022-06-19T16:47:57.918Z"
   },
   {
    "duration": 0,
    "start_time": "2022-06-19T16:47:57.920Z"
   },
   {
    "duration": 0,
    "start_time": "2022-06-19T16:47:57.921Z"
   },
   {
    "duration": 0,
    "start_time": "2022-06-19T16:47:57.922Z"
   },
   {
    "duration": 0,
    "start_time": "2022-06-19T16:47:57.923Z"
   },
   {
    "duration": 0,
    "start_time": "2022-06-19T16:47:57.924Z"
   },
   {
    "duration": 3,
    "start_time": "2022-06-19T16:48:21.793Z"
   },
   {
    "duration": 4,
    "start_time": "2022-06-19T16:50:04.967Z"
   },
   {
    "duration": 4,
    "start_time": "2022-06-19T16:50:36.064Z"
   },
   {
    "duration": 3,
    "start_time": "2022-06-19T16:55:07.724Z"
   },
   {
    "duration": 5,
    "start_time": "2022-06-19T16:55:14.876Z"
   },
   {
    "duration": 5,
    "start_time": "2022-06-19T16:55:20.262Z"
   },
   {
    "duration": 3655,
    "start_time": "2022-06-19T16:55:54.886Z"
   },
   {
    "duration": 830,
    "start_time": "2022-06-19T16:55:58.543Z"
   },
   {
    "duration": 2,
    "start_time": "2022-06-19T16:55:59.375Z"
   },
   {
    "duration": 8,
    "start_time": "2022-06-19T16:55:59.379Z"
   },
   {
    "duration": 11,
    "start_time": "2022-06-19T16:55:59.395Z"
   },
   {
    "duration": 310,
    "start_time": "2022-06-19T16:55:59.408Z"
   },
   {
    "duration": 0,
    "start_time": "2022-06-19T16:55:59.719Z"
   },
   {
    "duration": 0,
    "start_time": "2022-06-19T16:55:59.721Z"
   },
   {
    "duration": 0,
    "start_time": "2022-06-19T16:55:59.722Z"
   },
   {
    "duration": 1,
    "start_time": "2022-06-19T16:55:59.722Z"
   },
   {
    "duration": 0,
    "start_time": "2022-06-19T16:55:59.724Z"
   },
   {
    "duration": 0,
    "start_time": "2022-06-19T16:55:59.725Z"
   },
   {
    "duration": 0,
    "start_time": "2022-06-19T16:55:59.726Z"
   },
   {
    "duration": 0,
    "start_time": "2022-06-19T16:55:59.726Z"
   },
   {
    "duration": 0,
    "start_time": "2022-06-19T16:55:59.727Z"
   },
   {
    "duration": 1,
    "start_time": "2022-06-19T16:55:59.728Z"
   },
   {
    "duration": 0,
    "start_time": "2022-06-19T16:55:59.729Z"
   },
   {
    "duration": 0,
    "start_time": "2022-06-19T16:55:59.731Z"
   },
   {
    "duration": 0,
    "start_time": "2022-06-19T16:55:59.732Z"
   },
   {
    "duration": 0,
    "start_time": "2022-06-19T16:55:59.733Z"
   },
   {
    "duration": 0,
    "start_time": "2022-06-19T16:55:59.734Z"
   },
   {
    "duration": 2,
    "start_time": "2022-06-19T16:57:02.621Z"
   },
   {
    "duration": 6,
    "start_time": "2022-06-19T16:57:08.054Z"
   },
   {
    "duration": 6,
    "start_time": "2022-06-19T16:57:12.822Z"
   },
   {
    "duration": 5,
    "start_time": "2022-06-19T16:57:20.553Z"
   },
   {
    "duration": 1422,
    "start_time": "2022-06-19T16:59:06.559Z"
   },
   {
    "duration": 24,
    "start_time": "2022-06-19T17:00:01.914Z"
   },
   {
    "duration": 5,
    "start_time": "2022-06-19T17:00:22.088Z"
   },
   {
    "duration": 7,
    "start_time": "2022-06-19T17:00:49.657Z"
   },
   {
    "duration": 6,
    "start_time": "2022-06-19T17:01:01.776Z"
   },
   {
    "duration": 6,
    "start_time": "2022-06-19T17:01:29.145Z"
   },
   {
    "duration": 30,
    "start_time": "2022-06-19T17:05:05.692Z"
   },
   {
    "duration": 6,
    "start_time": "2022-06-19T17:06:05.044Z"
   },
   {
    "duration": 6,
    "start_time": "2022-06-19T17:06:25.092Z"
   },
   {
    "duration": 6,
    "start_time": "2022-06-19T17:06:36.717Z"
   },
   {
    "duration": 4,
    "start_time": "2022-06-19T17:10:40.767Z"
   },
   {
    "duration": 3,
    "start_time": "2022-06-19T17:10:51.319Z"
   },
   {
    "duration": 6,
    "start_time": "2022-06-19T17:10:59.456Z"
   },
   {
    "duration": 5,
    "start_time": "2022-06-19T17:15:16.578Z"
   },
   {
    "duration": 5,
    "start_time": "2022-06-19T17:15:32.700Z"
   },
   {
    "duration": 25,
    "start_time": "2022-06-19T17:16:40.262Z"
   },
   {
    "duration": 20,
    "start_time": "2022-06-19T17:17:13.972Z"
   },
   {
    "duration": 5,
    "start_time": "2022-06-19T17:17:28.181Z"
   },
   {
    "duration": 4,
    "start_time": "2022-06-19T17:18:29.244Z"
   },
   {
    "duration": 6,
    "start_time": "2022-06-19T17:19:16.270Z"
   },
   {
    "duration": 5,
    "start_time": "2022-06-19T17:22:58.777Z"
   },
   {
    "duration": 27,
    "start_time": "2022-06-19T17:24:11.181Z"
   },
   {
    "duration": 4,
    "start_time": "2022-06-19T17:24:27.780Z"
   },
   {
    "duration": 8,
    "start_time": "2022-06-19T17:25:41.138Z"
   },
   {
    "duration": 6,
    "start_time": "2022-06-19T17:25:44.042Z"
   },
   {
    "duration": 5,
    "start_time": "2022-06-19T17:26:28.339Z"
   },
   {
    "duration": 175,
    "start_time": "2022-06-19T17:35:37.108Z"
   },
   {
    "duration": 20,
    "start_time": "2022-06-19T17:36:20.827Z"
   },
   {
    "duration": 5,
    "start_time": "2022-06-19T17:36:42.827Z"
   },
   {
    "duration": 19,
    "start_time": "2022-06-19T17:36:48.509Z"
   },
   {
    "duration": 7983,
    "start_time": "2022-06-19T17:37:02.146Z"
   },
   {
    "duration": 8218,
    "start_time": "2022-06-19T17:41:20.583Z"
   },
   {
    "duration": 27,
    "start_time": "2022-06-19T17:42:28.198Z"
   },
   {
    "duration": 32,
    "start_time": "2022-06-19T17:42:35.374Z"
   },
   {
    "duration": 5,
    "start_time": "2022-06-19T17:42:40.623Z"
   },
   {
    "duration": 4,
    "start_time": "2022-06-19T17:42:54.529Z"
   },
   {
    "duration": 5,
    "start_time": "2022-06-19T17:45:19.735Z"
   },
   {
    "duration": 36,
    "start_time": "2022-06-19T17:56:28.930Z"
   },
   {
    "duration": 81,
    "start_time": "2022-06-19T18:04:13.007Z"
   },
   {
    "duration": 106,
    "start_time": "2022-06-19T18:23:23.451Z"
   },
   {
    "duration": 9795,
    "start_time": "2022-06-19T18:46:19.926Z"
   },
   {
    "duration": 8862,
    "start_time": "2022-06-19T18:47:04.661Z"
   },
   {
    "duration": 36,
    "start_time": "2022-06-19T18:48:54.127Z"
   },
   {
    "duration": 48988,
    "start_time": "2022-06-19T18:50:02.429Z"
   },
   {
    "duration": 106621,
    "start_time": "2022-06-19T19:16:15.114Z"
   },
   {
    "duration": 5,
    "start_time": "2022-06-19T19:27:58.266Z"
   },
   {
    "duration": 5,
    "start_time": "2022-06-19T19:33:07.662Z"
   },
   {
    "duration": 7,
    "start_time": "2022-06-19T19:33:15.673Z"
   },
   {
    "duration": 1144,
    "start_time": "2022-06-19T19:33:15.683Z"
   },
   {
    "duration": 8,
    "start_time": "2022-06-19T19:33:16.832Z"
   },
   {
    "duration": 9,
    "start_time": "2022-06-19T19:33:16.843Z"
   },
   {
    "duration": 8,
    "start_time": "2022-06-19T19:33:16.854Z"
   },
   {
    "duration": 7,
    "start_time": "2022-06-19T19:34:18.844Z"
   },
   {
    "duration": 1025,
    "start_time": "2022-06-19T19:34:18.853Z"
   },
   {
    "duration": 30,
    "start_time": "2022-06-19T19:34:19.880Z"
   },
   {
    "duration": 16,
    "start_time": "2022-06-19T19:34:19.912Z"
   },
   {
    "duration": 9,
    "start_time": "2022-06-19T19:34:19.929Z"
   },
   {
    "duration": 6,
    "start_time": "2022-06-19T19:37:17.320Z"
   },
   {
    "duration": 10,
    "start_time": "2022-06-19T19:37:49.114Z"
   },
   {
    "duration": 7,
    "start_time": "2022-06-19T19:37:55.142Z"
   },
   {
    "duration": 16,
    "start_time": "2022-06-19T19:38:01.691Z"
   },
   {
    "duration": 7,
    "start_time": "2022-06-19T19:38:54.466Z"
   },
   {
    "duration": 7,
    "start_time": "2022-06-19T19:39:04.642Z"
   },
   {
    "duration": 7,
    "start_time": "2022-06-19T19:39:29.447Z"
   },
   {
    "duration": 915,
    "start_time": "2022-06-19T19:39:29.457Z"
   },
   {
    "duration": 44,
    "start_time": "2022-06-19T19:39:30.375Z"
   },
   {
    "duration": 15,
    "start_time": "2022-06-19T19:39:30.424Z"
   },
   {
    "duration": 13,
    "start_time": "2022-06-19T19:39:30.441Z"
   },
   {
    "duration": 15,
    "start_time": "2022-06-19T19:39:30.457Z"
   },
   {
    "duration": 11,
    "start_time": "2022-06-19T19:39:30.474Z"
   },
   {
    "duration": 6,
    "start_time": "2022-06-19T19:40:21.130Z"
   },
   {
    "duration": 7,
    "start_time": "2022-06-19T19:40:41.253Z"
   },
   {
    "duration": 6,
    "start_time": "2022-06-19T19:42:25.240Z"
   },
   {
    "duration": 6,
    "start_time": "2022-06-19T19:44:31.351Z"
   },
   {
    "duration": 14,
    "start_time": "2022-06-19T19:44:44.208Z"
   },
   {
    "duration": 8,
    "start_time": "2022-06-19T19:44:58.145Z"
   },
   {
    "duration": 8,
    "start_time": "2022-06-19T19:45:49.316Z"
   },
   {
    "duration": 7,
    "start_time": "2022-06-19T19:45:56.153Z"
   },
   {
    "duration": 6,
    "start_time": "2022-06-19T19:46:16.429Z"
   },
   {
    "duration": 74,
    "start_time": "2022-06-19T19:49:24.778Z"
   },
   {
    "duration": 38,
    "start_time": "2022-06-19T19:49:54.225Z"
   },
   {
    "duration": 47,
    "start_time": "2022-06-19T19:50:21.167Z"
   },
   {
    "duration": 8,
    "start_time": "2022-06-19T19:50:30.878Z"
   },
   {
    "duration": 15,
    "start_time": "2022-06-19T19:50:35.494Z"
   },
   {
    "duration": 27040,
    "start_time": "2022-06-19T19:59:11.042Z"
   },
   {
    "duration": 138972,
    "start_time": "2022-06-19T19:59:43.004Z"
   },
   {
    "duration": 9,
    "start_time": "2022-06-19T20:13:11.893Z"
   },
   {
    "duration": 4379,
    "start_time": "2022-06-19T20:14:50.741Z"
   },
   {
    "duration": 7013,
    "start_time": "2022-06-19T20:16:07.265Z"
   },
   {
    "duration": 6781,
    "start_time": "2022-06-19T20:19:30.289Z"
   },
   {
    "duration": 103,
    "start_time": "2022-06-19T20:22:24.020Z"
   },
   {
    "duration": 210772,
    "start_time": "2022-06-19T20:26:05.825Z"
   },
   {
    "duration": 27,
    "start_time": "2022-06-19T21:21:34.965Z"
   },
   {
    "duration": 21,
    "start_time": "2022-06-19T21:21:45.524Z"
   },
   {
    "duration": 17,
    "start_time": "2022-06-19T21:21:50.345Z"
   },
   {
    "duration": 17,
    "start_time": "2022-06-19T21:22:10.477Z"
   },
   {
    "duration": 4,
    "start_time": "2022-06-19T21:22:23.286Z"
   },
   {
    "duration": 17,
    "start_time": "2022-06-19T21:23:19.560Z"
   },
   {
    "duration": 5,
    "start_time": "2022-06-19T21:23:29.056Z"
   },
   {
    "duration": 7,
    "start_time": "2022-06-19T21:28:22.673Z"
   },
   {
    "duration": 42,
    "start_time": "2022-06-19T21:29:31.981Z"
   },
   {
    "duration": 9,
    "start_time": "2022-06-19T21:29:44.297Z"
   },
   {
    "duration": 4,
    "start_time": "2022-06-19T21:29:50.991Z"
   },
   {
    "duration": 5,
    "start_time": "2022-06-19T21:35:09.506Z"
   },
   {
    "duration": 813,
    "start_time": "2022-06-19T21:35:09.513Z"
   },
   {
    "duration": 6,
    "start_time": "2022-06-19T21:35:10.328Z"
   },
   {
    "duration": 4,
    "start_time": "2022-06-19T21:35:10.336Z"
   },
   {
    "duration": 11,
    "start_time": "2022-06-19T21:35:10.342Z"
   },
   {
    "duration": 8,
    "start_time": "2022-06-19T21:35:10.354Z"
   },
   {
    "duration": 37,
    "start_time": "2022-06-19T21:35:10.363Z"
   },
   {
    "duration": 4758,
    "start_time": "2022-06-19T21:35:10.402Z"
   },
   {
    "duration": 6,
    "start_time": "2022-06-19T21:35:15.162Z"
   },
   {
    "duration": 204,
    "start_time": "2022-06-19T21:35:15.170Z"
   },
   {
    "duration": 427,
    "start_time": "2022-06-19T21:35:15.376Z"
   },
   {
    "duration": 323,
    "start_time": "2022-06-19T21:35:15.805Z"
   },
   {
    "duration": 26,
    "start_time": "2022-06-19T21:35:16.130Z"
   },
   {
    "duration": 0,
    "start_time": "2022-06-19T21:35:16.158Z"
   },
   {
    "duration": 0,
    "start_time": "2022-06-19T21:35:16.159Z"
   },
   {
    "duration": 0,
    "start_time": "2022-06-19T21:35:16.161Z"
   },
   {
    "duration": 8,
    "start_time": "2022-06-19T21:35:52.809Z"
   },
   {
    "duration": 5,
    "start_time": "2022-06-19T21:36:03.825Z"
   },
   {
    "duration": 5,
    "start_time": "2022-06-19T21:36:13.258Z"
   },
   {
    "duration": 6,
    "start_time": "2022-06-19T21:36:22.304Z"
   },
   {
    "duration": 7,
    "start_time": "2022-06-19T21:36:31.176Z"
   },
   {
    "duration": 6,
    "start_time": "2022-06-19T21:37:09.435Z"
   },
   {
    "duration": 18,
    "start_time": "2022-06-19T21:37:49.347Z"
   },
   {
    "duration": 7,
    "start_time": "2022-06-19T21:37:55.222Z"
   },
   {
    "duration": 792,
    "start_time": "2022-06-19T21:37:55.240Z"
   },
   {
    "duration": 10,
    "start_time": "2022-06-19T21:37:56.034Z"
   },
   {
    "duration": 8,
    "start_time": "2022-06-19T21:37:56.046Z"
   },
   {
    "duration": 14,
    "start_time": "2022-06-19T21:37:56.055Z"
   },
   {
    "duration": 3,
    "start_time": "2022-06-19T21:37:56.071Z"
   },
   {
    "duration": 5,
    "start_time": "2022-06-19T21:37:56.095Z"
   },
   {
    "duration": 4789,
    "start_time": "2022-06-19T21:37:56.101Z"
   },
   {
    "duration": 5,
    "start_time": "2022-06-19T21:38:00.891Z"
   },
   {
    "duration": 186,
    "start_time": "2022-06-19T21:38:00.898Z"
   },
   {
    "duration": 297,
    "start_time": "2022-06-19T21:38:01.086Z"
   },
   {
    "duration": 325,
    "start_time": "2022-06-19T21:38:01.386Z"
   },
   {
    "duration": 11,
    "start_time": "2022-06-19T21:38:01.713Z"
   },
   {
    "duration": 338,
    "start_time": "2022-06-19T21:38:01.726Z"
   },
   {
    "duration": 1327,
    "start_time": "2022-06-19T21:38:02.068Z"
   },
   {
    "duration": 11297,
    "start_time": "2022-06-19T21:38:03.398Z"
   },
   {
    "duration": 8,
    "start_time": "2022-06-19T21:39:24.707Z"
   },
   {
    "duration": 5,
    "start_time": "2022-06-19T21:39:36.445Z"
   },
   {
    "duration": 6,
    "start_time": "2022-06-19T21:40:36.653Z"
   },
   {
    "duration": 7,
    "start_time": "2022-06-19T21:40:58.892Z"
   },
   {
    "duration": 5,
    "start_time": "2022-06-19T21:41:04.076Z"
   },
   {
    "duration": 5,
    "start_time": "2022-06-19T21:41:12.752Z"
   },
   {
    "duration": 8,
    "start_time": "2022-06-19T21:46:14.927Z"
   },
   {
    "duration": 9,
    "start_time": "2022-06-19T21:46:28.761Z"
   },
   {
    "duration": 270,
    "start_time": "2022-06-19T21:46:36.507Z"
   },
   {
    "duration": 2715,
    "start_time": "2022-06-19T21:46:44.187Z"
   },
   {
    "duration": 12889,
    "start_time": "2022-06-19T21:46:52.713Z"
   },
   {
    "duration": 43,
    "start_time": "2022-06-19T21:50:43.501Z"
   },
   {
    "duration": 33,
    "start_time": "2022-06-19T21:51:24.277Z"
   },
   {
    "duration": 45,
    "start_time": "2022-06-19T21:51:33.469Z"
   },
   {
    "duration": 45,
    "start_time": "2022-06-19T21:52:03.447Z"
   },
   {
    "duration": 5,
    "start_time": "2022-06-19T21:52:31.216Z"
   },
   {
    "duration": 209,
    "start_time": "2022-06-19T21:52:39.909Z"
   },
   {
    "duration": 1071,
    "start_time": "2022-06-19T21:55:09.794Z"
   },
   {
    "duration": 1483,
    "start_time": "2022-06-19T21:55:24.530Z"
   },
   {
    "duration": 4875,
    "start_time": "2022-06-19T21:55:35.985Z"
   },
   {
    "duration": 5939,
    "start_time": "2022-06-19T21:55:59.005Z"
   },
   {
    "duration": 7624,
    "start_time": "2022-06-19T21:57:11.781Z"
   },
   {
    "duration": 1157,
    "start_time": "2022-06-19T21:57:29.459Z"
   },
   {
    "duration": 695304,
    "start_time": "2022-06-19T21:57:41.147Z"
   },
   {
    "duration": 121662,
    "start_time": "2022-06-19T22:09:21.911Z"
   },
   {
    "duration": 1409,
    "start_time": "2022-06-19T22:12:22.926Z"
   },
   {
    "duration": 57818,
    "start_time": "2022-06-20T08:19:49.109Z"
   },
   {
    "duration": 2718,
    "start_time": "2022-06-20T08:20:46.931Z"
   },
   {
    "duration": 9,
    "start_time": "2022-06-20T08:20:49.651Z"
   },
   {
    "duration": 11,
    "start_time": "2022-06-20T08:20:49.662Z"
   },
   {
    "duration": 14,
    "start_time": "2022-06-20T08:20:49.675Z"
   },
   {
    "duration": 4,
    "start_time": "2022-06-20T08:20:49.691Z"
   },
   {
    "duration": 1665,
    "start_time": "2022-06-20T08:20:49.696Z"
   },
   {
    "duration": 5639,
    "start_time": "2022-06-20T08:20:51.363Z"
   },
   {
    "duration": 6,
    "start_time": "2022-06-20T08:20:57.004Z"
   },
   {
    "duration": 230,
    "start_time": "2022-06-20T08:20:57.012Z"
   },
   {
    "duration": 487,
    "start_time": "2022-06-20T08:20:57.244Z"
   },
   {
    "duration": 323,
    "start_time": "2022-06-20T08:20:57.733Z"
   },
   {
    "duration": 9,
    "start_time": "2022-06-20T08:20:58.058Z"
   },
   {
    "duration": 319,
    "start_time": "2022-06-20T08:20:58.070Z"
   },
   {
    "duration": 10559,
    "start_time": "2022-06-20T08:20:58.391Z"
   },
   {
    "duration": 24905,
    "start_time": "2022-06-20T08:21:09.029Z"
   },
   {
    "duration": 139086,
    "start_time": "2022-06-20T08:21:33.936Z"
   },
   {
    "duration": 1661,
    "start_time": "2022-06-20T08:23:53.036Z"
   },
   {
    "duration": 327,
    "start_time": "2022-06-20T08:24:12.326Z"
   },
   {
    "duration": 4,
    "start_time": "2022-06-20T08:24:20.447Z"
   },
   {
    "duration": 4,
    "start_time": "2022-06-20T08:24:49.256Z"
   },
   {
    "duration": 3,
    "start_time": "2022-06-20T08:25:00.462Z"
   },
   {
    "duration": 4,
    "start_time": "2022-06-20T08:25:06.569Z"
   },
   {
    "duration": 5,
    "start_time": "2022-06-20T08:25:42.824Z"
   },
   {
    "duration": 4,
    "start_time": "2022-06-20T08:25:49.470Z"
   },
   {
    "duration": 4,
    "start_time": "2022-06-20T08:25:55.155Z"
   },
   {
    "duration": 5,
    "start_time": "2022-06-20T08:26:05.263Z"
   },
   {
    "duration": 58446,
    "start_time": "2022-06-20T08:29:16.094Z"
   },
   {
    "duration": 988,
    "start_time": "2022-06-20T08:30:14.545Z"
   },
   {
    "duration": 11,
    "start_time": "2022-06-20T08:30:15.536Z"
   },
   {
    "duration": 10,
    "start_time": "2022-06-20T08:30:15.550Z"
   },
   {
    "duration": 21,
    "start_time": "2022-06-20T08:30:15.561Z"
   },
   {
    "duration": 3,
    "start_time": "2022-06-20T08:30:15.585Z"
   },
   {
    "duration": 1759,
    "start_time": "2022-06-20T08:30:15.590Z"
   },
   {
    "duration": 9659,
    "start_time": "2022-06-20T08:30:17.351Z"
   },
   {
    "duration": 23,
    "start_time": "2022-06-20T08:30:27.013Z"
   },
   {
    "duration": 325,
    "start_time": "2022-06-20T08:30:27.042Z"
   },
   {
    "duration": 720,
    "start_time": "2022-06-20T08:30:27.369Z"
   },
   {
    "duration": 535,
    "start_time": "2022-06-20T08:30:28.091Z"
   },
   {
    "duration": 21,
    "start_time": "2022-06-20T08:30:28.628Z"
   },
   {
    "duration": 511,
    "start_time": "2022-06-20T08:30:28.651Z"
   },
   {
    "duration": 9784,
    "start_time": "2022-06-20T08:30:29.164Z"
   },
   {
    "duration": 51173,
    "start_time": "2022-06-20T08:30:38.955Z"
   },
   {
    "duration": 244848,
    "start_time": "2022-06-20T08:31:30.133Z"
   },
   {
    "duration": 2960,
    "start_time": "2022-06-20T08:35:34.983Z"
   },
   {
    "duration": 26819,
    "start_time": "2022-06-20T08:37:11.719Z"
   },
   {
    "duration": 3514,
    "start_time": "2022-06-20T08:38:00.209Z"
   },
   {
    "duration": 54839,
    "start_time": "2022-06-20T08:40:39.170Z"
   },
   {
    "duration": 962,
    "start_time": "2022-06-20T08:41:34.012Z"
   },
   {
    "duration": 10,
    "start_time": "2022-06-20T08:41:34.976Z"
   },
   {
    "duration": 13,
    "start_time": "2022-06-20T08:41:34.988Z"
   },
   {
    "duration": 36,
    "start_time": "2022-06-20T08:41:35.004Z"
   },
   {
    "duration": 7,
    "start_time": "2022-06-20T08:41:35.043Z"
   },
   {
    "duration": 1695,
    "start_time": "2022-06-20T08:41:35.052Z"
   },
   {
    "duration": 8916,
    "start_time": "2022-06-20T08:41:36.749Z"
   },
   {
    "duration": 6,
    "start_time": "2022-06-20T08:41:45.668Z"
   },
   {
    "duration": 318,
    "start_time": "2022-06-20T08:41:45.676Z"
   },
   {
    "duration": 693,
    "start_time": "2022-06-20T08:41:45.996Z"
   },
   {
    "duration": 502,
    "start_time": "2022-06-20T08:41:46.692Z"
   },
   {
    "duration": 11,
    "start_time": "2022-06-20T08:41:47.196Z"
   },
   {
    "duration": 493,
    "start_time": "2022-06-20T08:41:47.211Z"
   },
   {
    "duration": 8751,
    "start_time": "2022-06-20T08:41:47.706Z"
   },
   {
    "duration": 27694,
    "start_time": "2022-06-20T08:41:56.540Z"
   },
   {
    "duration": 183214,
    "start_time": "2022-06-20T08:42:24.237Z"
   },
   {
    "duration": 3696,
    "start_time": "2022-06-20T08:45:27.453Z"
   },
   {
    "duration": 418,
    "start_time": "2022-06-20T08:45:31.151Z"
   },
   {
    "duration": 3507,
    "start_time": "2022-06-20T08:48:09.576Z"
   },
   {
    "duration": 6,
    "start_time": "2022-06-20T08:49:00.086Z"
   },
   {
    "duration": 111,
    "start_time": "2022-06-20T08:49:35.497Z"
   },
   {
    "duration": 60457,
    "start_time": "2022-06-20T08:51:11.486Z"
   },
   {
    "duration": 451085,
    "start_time": "2022-06-20T09:14:45.897Z"
   },
   {
    "duration": 111972,
    "start_time": "2022-06-20T09:24:37.570Z"
   },
   {
    "duration": 32,
    "start_time": "2022-06-20T09:33:13.241Z"
   },
   {
    "duration": 30,
    "start_time": "2022-06-20T09:33:31.243Z"
   },
   {
    "duration": 1383117,
    "start_time": "2022-06-20T09:34:13.373Z"
   },
   {
    "duration": 60724,
    "start_time": "2022-06-20T09:57:38.354Z"
   },
   {
    "duration": 116825,
    "start_time": "2022-06-20T11:39:01.385Z"
   },
   {
    "duration": 25,
    "start_time": "2022-06-20T11:45:17.850Z"
   },
   {
    "duration": 5,
    "start_time": "2022-06-20T11:45:22.995Z"
   },
   {
    "duration": 6,
    "start_time": "2022-06-20T11:45:33.965Z"
   },
   {
    "duration": 118,
    "start_time": "2022-06-20T12:01:41.700Z"
   },
   {
    "duration": 27,
    "start_time": "2022-06-20T12:10:36.312Z"
   },
   {
    "duration": 22,
    "start_time": "2022-06-20T12:11:16.461Z"
   },
   {
    "duration": 23,
    "start_time": "2022-06-20T12:12:01.842Z"
   },
   {
    "duration": 6,
    "start_time": "2022-06-20T12:12:16.221Z"
   },
   {
    "duration": 255,
    "start_time": "2022-06-20T12:12:20.625Z"
   },
   {
    "duration": 253,
    "start_time": "2022-06-20T12:15:59.284Z"
   },
   {
    "duration": 45,
    "start_time": "2022-06-20T12:17:48.338Z"
   },
   {
    "duration": 248,
    "start_time": "2022-06-20T12:18:21.728Z"
   },
   {
    "duration": 256,
    "start_time": "2022-06-20T12:18:37.509Z"
   },
   {
    "duration": 6,
    "start_time": "2022-06-20T12:19:17.493Z"
   },
   {
    "duration": 23,
    "start_time": "2022-06-20T12:19:31.919Z"
   },
   {
    "duration": 6,
    "start_time": "2022-06-20T12:19:38.015Z"
   },
   {
    "duration": 4,
    "start_time": "2022-06-20T12:19:46.999Z"
   },
   {
    "duration": 267,
    "start_time": "2022-06-20T12:20:11.262Z"
   },
   {
    "duration": 276,
    "start_time": "2022-06-20T12:21:13.797Z"
   },
   {
    "duration": 40,
    "start_time": "2022-06-20T12:21:22.239Z"
   },
   {
    "duration": 286,
    "start_time": "2022-06-20T12:23:22.088Z"
   },
   {
    "duration": 253,
    "start_time": "2022-06-20T12:24:36.040Z"
   },
   {
    "duration": 33,
    "start_time": "2022-06-20T12:24:49.825Z"
   },
   {
    "duration": 43,
    "start_time": "2022-06-20T12:25:03.035Z"
   },
   {
    "duration": 4,
    "start_time": "2022-06-20T12:30:11.680Z"
   },
   {
    "duration": 4,
    "start_time": "2022-06-20T12:31:25.740Z"
   },
   {
    "duration": 27,
    "start_time": "2022-06-20T12:31:44.017Z"
   },
   {
    "duration": 6,
    "start_time": "2022-06-20T12:33:29.772Z"
   },
   {
    "duration": 9,
    "start_time": "2022-06-20T12:36:53.614Z"
   },
   {
    "duration": 6,
    "start_time": "2022-06-20T12:37:09.591Z"
   },
   {
    "duration": 5,
    "start_time": "2022-06-20T12:37:32.885Z"
   },
   {
    "duration": 287,
    "start_time": "2022-06-20T12:38:10.456Z"
   },
   {
    "duration": 269,
    "start_time": "2022-06-20T12:38:26.103Z"
   },
   {
    "duration": 287,
    "start_time": "2022-06-20T12:38:39.307Z"
   },
   {
    "duration": 5,
    "start_time": "2022-06-20T12:46:18.123Z"
   },
   {
    "duration": 11,
    "start_time": "2022-06-20T12:46:34.214Z"
   },
   {
    "duration": 288,
    "start_time": "2022-06-20T12:49:23.639Z"
   },
   {
    "duration": 273,
    "start_time": "2022-06-20T12:49:55.738Z"
   },
   {
    "duration": 248,
    "start_time": "2022-06-20T12:51:47.741Z"
   },
   {
    "duration": 25,
    "start_time": "2022-06-20T12:53:34.487Z"
   },
   {
    "duration": 262,
    "start_time": "2022-06-20T12:54:09.292Z"
   },
   {
    "duration": 48380,
    "start_time": "2022-06-20T12:58:15.424Z"
   },
   {
    "duration": 955,
    "start_time": "2022-06-20T12:59:03.807Z"
   },
   {
    "duration": 9,
    "start_time": "2022-06-20T12:59:04.764Z"
   },
   {
    "duration": 7,
    "start_time": "2022-06-20T12:59:04.774Z"
   },
   {
    "duration": 15,
    "start_time": "2022-06-20T12:59:04.784Z"
   },
   {
    "duration": 26,
    "start_time": "2022-06-20T12:59:04.800Z"
   },
   {
    "duration": 1687,
    "start_time": "2022-06-20T12:59:04.828Z"
   },
   {
    "duration": 8382,
    "start_time": "2022-06-20T12:59:06.517Z"
   },
   {
    "duration": 8,
    "start_time": "2022-06-20T12:59:14.901Z"
   },
   {
    "duration": 307,
    "start_time": "2022-06-20T12:59:14.911Z"
   },
   {
    "duration": 636,
    "start_time": "2022-06-20T12:59:15.225Z"
   },
   {
    "duration": 498,
    "start_time": "2022-06-20T12:59:15.862Z"
   },
   {
    "duration": 4,
    "start_time": "2022-06-20T12:59:16.362Z"
   },
   {
    "duration": 16,
    "start_time": "2022-06-20T12:59:16.369Z"
   },
   {
    "duration": 10,
    "start_time": "2022-06-20T12:59:16.387Z"
   },
   {
    "duration": 391,
    "start_time": "2022-06-20T12:59:16.399Z"
   },
   {
    "duration": 73,
    "start_time": "2022-06-20T12:59:16.792Z"
   },
   {
    "duration": 65,
    "start_time": "2022-06-20T12:59:16.867Z"
   },
   {
    "duration": 67,
    "start_time": "2022-06-20T12:59:16.933Z"
   },
   {
    "duration": 78,
    "start_time": "2022-06-20T12:59:17.002Z"
   },
   {
    "duration": 78,
    "start_time": "2022-06-20T12:59:17.082Z"
   },
   {
    "duration": 85,
    "start_time": "2022-06-20T12:59:17.162Z"
   },
   {
    "duration": 1745,
    "start_time": "2022-06-20T12:59:17.250Z"
   },
   {
    "duration": 0,
    "start_time": "2022-06-20T12:59:18.997Z"
   },
   {
    "duration": 0,
    "start_time": "2022-06-20T12:59:18.998Z"
   },
   {
    "duration": 52415,
    "start_time": "2022-06-20T13:02:01.935Z"
   },
   {
    "duration": 932,
    "start_time": "2022-06-20T13:02:54.352Z"
   },
   {
    "duration": 9,
    "start_time": "2022-06-20T13:02:55.286Z"
   },
   {
    "duration": 5,
    "start_time": "2022-06-20T13:02:55.297Z"
   },
   {
    "duration": 30,
    "start_time": "2022-06-20T13:02:55.305Z"
   },
   {
    "duration": 8,
    "start_time": "2022-06-20T13:02:55.337Z"
   },
   {
    "duration": 1638,
    "start_time": "2022-06-20T13:02:55.346Z"
   },
   {
    "duration": 8881,
    "start_time": "2022-06-20T13:02:56.985Z"
   },
   {
    "duration": 5,
    "start_time": "2022-06-20T13:03:05.869Z"
   },
   {
    "duration": 302,
    "start_time": "2022-06-20T13:03:05.875Z"
   },
   {
    "duration": 599,
    "start_time": "2022-06-20T13:03:06.180Z"
   },
   {
    "duration": 498,
    "start_time": "2022-06-20T13:03:06.781Z"
   },
   {
    "duration": 13,
    "start_time": "2022-06-20T13:03:07.281Z"
   },
   {
    "duration": 486,
    "start_time": "2022-06-20T13:03:07.297Z"
   },
   {
    "duration": 2952,
    "start_time": "2022-06-20T13:03:07.784Z"
   },
   {
    "duration": 17900,
    "start_time": "2022-06-20T13:03:10.827Z"
   },
   {
    "duration": 169506,
    "start_time": "2022-06-20T13:03:28.729Z"
   },
   {
    "duration": 3362,
    "start_time": "2022-06-20T13:06:18.237Z"
   },
   {
    "duration": 183377,
    "start_time": "2022-06-20T13:06:21.601Z"
   },
   {
    "duration": 53551,
    "start_time": "2022-06-20T13:09:45.413Z"
   },
   {
    "duration": 861,
    "start_time": "2022-06-20T13:10:38.966Z"
   },
   {
    "duration": 8,
    "start_time": "2022-06-20T13:10:39.829Z"
   },
   {
    "duration": 8,
    "start_time": "2022-06-20T13:10:39.838Z"
   },
   {
    "duration": 13,
    "start_time": "2022-06-20T13:10:39.848Z"
   },
   {
    "duration": 5,
    "start_time": "2022-06-20T13:10:39.863Z"
   },
   {
    "duration": 1588,
    "start_time": "2022-06-20T13:10:39.869Z"
   },
   {
    "duration": 7977,
    "start_time": "2022-06-20T13:10:41.459Z"
   },
   {
    "duration": 5,
    "start_time": "2022-06-20T13:10:49.438Z"
   },
   {
    "duration": 289,
    "start_time": "2022-06-20T13:10:49.445Z"
   },
   {
    "duration": 624,
    "start_time": "2022-06-20T13:10:49.735Z"
   },
   {
    "duration": 456,
    "start_time": "2022-06-20T13:10:50.361Z"
   },
   {
    "duration": 16,
    "start_time": "2022-06-20T13:10:50.818Z"
   },
   {
    "duration": 486,
    "start_time": "2022-06-20T13:10:50.836Z"
   },
   {
    "duration": 7711,
    "start_time": "2022-06-20T13:10:51.324Z"
   },
   {
    "duration": 13006,
    "start_time": "2022-06-20T13:10:59.127Z"
   },
   {
    "duration": 3,
    "start_time": "2022-06-20T13:11:12.225Z"
   },
   {
    "duration": 3374,
    "start_time": "2022-06-20T13:11:12.230Z"
   },
   {
    "duration": 3,
    "start_time": "2022-06-20T13:11:15.605Z"
   },
   {
    "duration": 106551,
    "start_time": "2022-06-20T13:11:15.610Z"
   },
   {
    "duration": 16,
    "start_time": "2022-06-20T13:13:02.163Z"
   },
   {
    "duration": 2316,
    "start_time": "2022-06-20T13:13:02.181Z"
   },
   {
    "duration": 0,
    "start_time": "2022-06-20T13:13:04.499Z"
   },
   {
    "duration": 0,
    "start_time": "2022-06-20T13:13:04.501Z"
   },
   {
    "duration": 22,
    "start_time": "2022-06-20T13:15:42.603Z"
   },
   {
    "duration": 23,
    "start_time": "2022-06-20T13:16:05.011Z"
   },
   {
    "duration": 2465,
    "start_time": "2022-06-20T13:16:59.926Z"
   },
   {
    "duration": 2358,
    "start_time": "2022-06-20T13:17:56.909Z"
   },
   {
    "duration": 4,
    "start_time": "2022-06-20T13:18:27.064Z"
   },
   {
    "duration": 4,
    "start_time": "2022-06-20T13:19:35.910Z"
   },
   {
    "duration": 2351,
    "start_time": "2022-06-20T13:19:38.553Z"
   },
   {
    "duration": 9,
    "start_time": "2022-06-20T13:19:57.206Z"
   },
   {
    "duration": 2064,
    "start_time": "2022-06-20T13:20:21.940Z"
   },
   {
    "duration": 15,
    "start_time": "2022-06-20T13:21:28.208Z"
   },
   {
    "duration": 21,
    "start_time": "2022-06-20T13:21:32.649Z"
   },
   {
    "duration": 50,
    "start_time": "2022-06-20T13:23:09.144Z"
   },
   {
    "duration": 3,
    "start_time": "2022-06-20T13:23:17.441Z"
   },
   {
    "duration": 11,
    "start_time": "2022-06-20T13:23:21.146Z"
   },
   {
    "duration": 21,
    "start_time": "2022-06-20T13:23:23.298Z"
   },
   {
    "duration": 4,
    "start_time": "2022-06-20T13:23:38.821Z"
   },
   {
    "duration": 11,
    "start_time": "2022-06-20T13:23:41.755Z"
   },
   {
    "duration": 442,
    "start_time": "2022-06-20T13:23:44.437Z"
   },
   {
    "duration": 5,
    "start_time": "2022-06-20T13:25:31.749Z"
   },
   {
    "duration": 509,
    "start_time": "2022-06-20T13:25:35.803Z"
   },
   {
    "duration": 4,
    "start_time": "2022-06-20T13:26:22.659Z"
   },
   {
    "duration": 473,
    "start_time": "2022-06-20T13:26:26.963Z"
   },
   {
    "duration": 561,
    "start_time": "2022-06-20T13:28:02.618Z"
   },
   {
    "duration": 1154,
    "start_time": "2022-06-20T13:31:16.123Z"
   },
   {
    "duration": 468,
    "start_time": "2022-06-20T13:31:44.063Z"
   },
   {
    "duration": 1221,
    "start_time": "2022-06-20T13:31:56.734Z"
   },
   {
    "duration": 1242,
    "start_time": "2022-06-20T13:33:04.042Z"
   },
   {
    "duration": 1831,
    "start_time": "2022-06-20T13:37:29.838Z"
   },
   {
    "duration": 44,
    "start_time": "2022-06-20T13:37:56.737Z"
   },
   {
    "duration": 252921,
    "start_time": "2022-06-20T13:38:11.799Z"
   },
   {
    "duration": 688252,
    "start_time": "2022-06-20T13:44:28.848Z"
   },
   {
    "duration": 2070,
    "start_time": "2022-06-20T13:56:33.313Z"
   },
   {
    "duration": 1883,
    "start_time": "2022-06-20T13:57:35.638Z"
   },
   {
    "duration": 259,
    "start_time": "2022-06-20T13:57:43.539Z"
   },
   {
    "duration": 247,
    "start_time": "2022-06-20T13:58:09.903Z"
   },
   {
    "duration": 4258,
    "start_time": "2022-06-20T13:58:38.801Z"
   },
   {
    "duration": 4259,
    "start_time": "2022-06-20T13:59:12.431Z"
   },
   {
    "duration": 2061,
    "start_time": "2022-06-20T13:59:49.013Z"
   },
   {
    "duration": 4013,
    "start_time": "2022-06-20T14:00:35.304Z"
   },
   {
    "duration": 10,
    "start_time": "2022-06-20T14:05:04.909Z"
   },
   {
    "duration": 47,
    "start_time": "2022-06-20T14:09:00.821Z"
   },
   {
    "duration": 52,
    "start_time": "2022-06-20T14:09:18.365Z"
   },
   {
    "duration": 2275,
    "start_time": "2022-06-20T14:09:48.337Z"
   },
   {
    "duration": 27,
    "start_time": "2022-06-20T14:10:10.504Z"
   },
   {
    "duration": 8065,
    "start_time": "2022-06-20T14:10:31.440Z"
   },
   {
    "duration": 1407,
    "start_time": "2022-06-20T14:15:57.904Z"
   },
   {
    "duration": 18283,
    "start_time": "2022-06-20T14:16:40.199Z"
   },
   {
    "duration": 17316,
    "start_time": "2022-06-20T14:17:48.205Z"
   },
   {
    "duration": 55,
    "start_time": "2022-06-20T14:20:29.544Z"
   },
   {
    "duration": 16048,
    "start_time": "2022-06-20T14:20:38.729Z"
   },
   {
    "duration": 687,
    "start_time": "2022-06-20T14:30:05.914Z"
   },
   {
    "duration": 97199,
    "start_time": "2022-06-20T14:30:13.341Z"
   },
   {
    "duration": 1768,
    "start_time": "2022-06-20T14:31:57.298Z"
   },
   {
    "duration": 17328,
    "start_time": "2022-06-20T14:34:19.220Z"
   },
   {
    "duration": 17876,
    "start_time": "2022-06-20T14:34:47.612Z"
   },
   {
    "duration": 9113,
    "start_time": "2022-06-20T14:35:25.518Z"
   },
   {
    "duration": 17772,
    "start_time": "2022-06-20T14:35:38.617Z"
   },
   {
    "duration": 17485,
    "start_time": "2022-06-20T14:36:34.483Z"
   },
   {
    "duration": 17042,
    "start_time": "2022-06-20T14:37:02.502Z"
   },
   {
    "duration": 25433,
    "start_time": "2022-06-20T14:37:37.902Z"
   },
   {
    "duration": 283651,
    "start_time": "2022-06-20T14:38:18.615Z"
   },
   {
    "duration": 3979,
    "start_time": "2022-06-20T14:43:09.138Z"
   },
   {
    "duration": 30200,
    "start_time": "2022-06-20T14:43:19.235Z"
   },
   {
    "duration": 0,
    "start_time": "2022-06-20T14:43:49.438Z"
   },
   {
    "duration": 0,
    "start_time": "2022-06-20T14:43:49.440Z"
   },
   {
    "duration": 0,
    "start_time": "2022-06-20T14:43:49.442Z"
   },
   {
    "duration": 0,
    "start_time": "2022-06-20T14:43:49.443Z"
   },
   {
    "duration": 0,
    "start_time": "2022-06-20T14:43:49.444Z"
   },
   {
    "duration": 0,
    "start_time": "2022-06-20T14:43:49.446Z"
   },
   {
    "duration": 0,
    "start_time": "2022-06-20T14:43:49.447Z"
   },
   {
    "duration": 0,
    "start_time": "2022-06-20T14:43:49.449Z"
   },
   {
    "duration": 0,
    "start_time": "2022-06-20T14:43:49.450Z"
   },
   {
    "duration": 1,
    "start_time": "2022-06-20T14:43:49.452Z"
   },
   {
    "duration": 0,
    "start_time": "2022-06-20T14:43:49.454Z"
   },
   {
    "duration": 0,
    "start_time": "2022-06-20T14:43:49.455Z"
   },
   {
    "duration": 0,
    "start_time": "2022-06-20T14:43:49.458Z"
   },
   {
    "duration": 0,
    "start_time": "2022-06-20T14:43:49.459Z"
   },
   {
    "duration": 0,
    "start_time": "2022-06-20T14:43:49.461Z"
   },
   {
    "duration": 0,
    "start_time": "2022-06-20T14:43:49.463Z"
   },
   {
    "duration": 0,
    "start_time": "2022-06-20T14:43:49.464Z"
   },
   {
    "duration": 0,
    "start_time": "2022-06-20T14:43:49.466Z"
   },
   {
    "duration": 0,
    "start_time": "2022-06-20T14:43:49.469Z"
   },
   {
    "duration": 0,
    "start_time": "2022-06-20T14:43:49.471Z"
   },
   {
    "duration": 0,
    "start_time": "2022-06-20T14:43:49.472Z"
   },
   {
    "duration": 0,
    "start_time": "2022-06-20T14:43:49.473Z"
   },
   {
    "duration": 0,
    "start_time": "2022-06-20T14:43:49.473Z"
   },
   {
    "duration": 0,
    "start_time": "2022-06-20T14:43:49.474Z"
   },
   {
    "duration": 57666,
    "start_time": "2022-06-20T14:43:56.267Z"
   },
   {
    "duration": 1011,
    "start_time": "2022-06-20T14:44:53.935Z"
   },
   {
    "duration": 13,
    "start_time": "2022-06-20T14:44:54.948Z"
   },
   {
    "duration": 12,
    "start_time": "2022-06-20T14:44:54.963Z"
   },
   {
    "duration": 19,
    "start_time": "2022-06-20T14:44:54.979Z"
   },
   {
    "duration": 28,
    "start_time": "2022-06-20T14:44:55.000Z"
   },
   {
    "duration": 1752,
    "start_time": "2022-06-20T14:44:55.030Z"
   },
   {
    "duration": 9751,
    "start_time": "2022-06-20T14:44:56.785Z"
   },
   {
    "duration": 12,
    "start_time": "2022-06-20T14:45:06.538Z"
   },
   {
    "duration": 393,
    "start_time": "2022-06-20T14:45:06.552Z"
   },
   {
    "duration": 700,
    "start_time": "2022-06-20T14:45:06.948Z"
   },
   {
    "duration": 577,
    "start_time": "2022-06-20T14:45:07.650Z"
   },
   {
    "duration": 18,
    "start_time": "2022-06-20T14:45:08.229Z"
   },
   {
    "duration": 546,
    "start_time": "2022-06-20T14:45:08.252Z"
   },
   {
    "duration": 7642,
    "start_time": "2022-06-20T14:45:08.801Z"
   },
   {
    "duration": 37203,
    "start_time": "2022-06-20T14:45:16.527Z"
   },
   {
    "duration": 5,
    "start_time": "2022-06-20T14:45:53.733Z"
   },
   {
    "duration": 4023,
    "start_time": "2022-06-20T14:45:53.741Z"
   },
   {
    "duration": 2,
    "start_time": "2022-06-20T14:45:57.766Z"
   },
   {
    "duration": 113317,
    "start_time": "2022-06-20T14:45:57.771Z"
   },
   {
    "duration": 37,
    "start_time": "2022-06-20T14:47:51.090Z"
   },
   {
    "duration": 5,
    "start_time": "2022-06-20T14:47:51.130Z"
   },
   {
    "duration": 79365,
    "start_time": "2022-06-20T14:47:51.137Z"
   },
   {
    "duration": 54344,
    "start_time": "2022-06-21T07:34:44.351Z"
   },
   {
    "duration": 2449,
    "start_time": "2022-06-21T07:35:38.697Z"
   },
   {
    "duration": 8,
    "start_time": "2022-06-21T07:35:41.148Z"
   },
   {
    "duration": 5,
    "start_time": "2022-06-21T07:35:41.158Z"
   },
   {
    "duration": 18,
    "start_time": "2022-06-21T07:35:41.166Z"
   },
   {
    "duration": 10,
    "start_time": "2022-06-21T07:35:41.186Z"
   },
   {
    "duration": 1409,
    "start_time": "2022-06-21T07:35:41.197Z"
   },
   {
    "duration": 134803,
    "start_time": "2022-06-21T07:35:42.608Z"
   },
   {
    "duration": 7,
    "start_time": "2022-06-21T07:37:57.413Z"
   },
   {
    "duration": 4475,
    "start_time": "2022-06-21T07:37:57.422Z"
   },
   {
    "duration": 7045,
    "start_time": "2022-06-21T07:38:01.899Z"
   },
   {
    "duration": 7230,
    "start_time": "2022-06-21T07:38:08.946Z"
   },
   {
    "duration": 79,
    "start_time": "2022-06-21T07:38:16.177Z"
   },
   {
    "duration": 7502,
    "start_time": "2022-06-21T07:38:16.258Z"
   },
   {
    "duration": 46404,
    "start_time": "2022-06-21T07:38:23.762Z"
   },
   {
    "duration": 232691,
    "start_time": "2022-06-21T07:39:10.169Z"
   },
   {
    "duration": 3,
    "start_time": "2022-06-21T07:43:02.862Z"
   },
   {
    "duration": 145933,
    "start_time": "2022-06-21T07:43:02.867Z"
   },
   {
    "duration": 3,
    "start_time": "2022-06-21T07:45:28.802Z"
   },
   {
    "duration": 473186,
    "start_time": "2022-06-21T07:45:28.806Z"
   },
   {
    "duration": 240673,
    "start_time": "2022-06-21T07:53:35.181Z"
   },
   {
    "duration": 5669,
    "start_time": "2022-06-21T07:59:02.871Z"
   },
   {
    "duration": 704360,
    "start_time": "2022-06-21T07:59:31.980Z"
   },
   {
    "duration": 30196,
    "start_time": "2022-06-21T08:11:29.408Z"
   },
   {
    "duration": 133,
    "start_time": "2022-06-21T08:16:01.162Z"
   },
   {
    "duration": 5,
    "start_time": "2022-06-21T08:16:18.655Z"
   },
   {
    "duration": 1046,
    "start_time": "2022-06-21T08:16:18.662Z"
   },
   {
    "duration": 6,
    "start_time": "2022-06-21T08:16:19.709Z"
   },
   {
    "duration": 8,
    "start_time": "2022-06-21T08:16:19.717Z"
   },
   {
    "duration": 13,
    "start_time": "2022-06-21T08:16:19.728Z"
   },
   {
    "duration": 9,
    "start_time": "2022-06-21T08:16:19.742Z"
   },
   {
    "duration": 8,
    "start_time": "2022-06-21T08:16:19.752Z"
   },
   {
    "duration": 129658,
    "start_time": "2022-06-21T08:16:19.761Z"
   },
   {
    "duration": 4,
    "start_time": "2022-06-21T08:18:29.421Z"
   },
   {
    "duration": 4406,
    "start_time": "2022-06-21T08:18:29.427Z"
   },
   {
    "duration": 6701,
    "start_time": "2022-06-21T08:18:33.834Z"
   },
   {
    "duration": 6578,
    "start_time": "2022-06-21T08:18:40.537Z"
   },
   {
    "duration": 137,
    "start_time": "2022-06-21T08:18:47.117Z"
   },
   {
    "duration": 111,
    "start_time": "2022-06-21T08:19:38.888Z"
   },
   {
    "duration": 51,
    "start_time": "2022-06-21T08:25:08.778Z"
   },
   {
    "duration": 24,
    "start_time": "2022-06-21T08:25:16.844Z"
   },
   {
    "duration": 7,
    "start_time": "2022-06-21T08:25:27.636Z"
   },
   {
    "duration": 5,
    "start_time": "2022-06-21T08:28:13.209Z"
   },
   {
    "duration": 735,
    "start_time": "2022-06-21T08:28:13.216Z"
   },
   {
    "duration": 6,
    "start_time": "2022-06-21T08:28:13.952Z"
   },
   {
    "duration": 3,
    "start_time": "2022-06-21T08:28:13.961Z"
   },
   {
    "duration": 12,
    "start_time": "2022-06-21T08:28:13.965Z"
   },
   {
    "duration": 238,
    "start_time": "2022-06-21T08:28:13.978Z"
   },
   {
    "duration": 9,
    "start_time": "2022-06-21T08:28:14.217Z"
   },
   {
    "duration": 8,
    "start_time": "2022-06-21T08:28:14.228Z"
   },
   {
    "duration": 123979,
    "start_time": "2022-06-21T08:28:14.239Z"
   },
   {
    "duration": 5,
    "start_time": "2022-06-21T08:30:18.220Z"
   },
   {
    "duration": 4484,
    "start_time": "2022-06-21T08:30:18.226Z"
   },
   {
    "duration": 6869,
    "start_time": "2022-06-21T08:30:22.712Z"
   },
   {
    "duration": 6604,
    "start_time": "2022-06-21T08:30:29.582Z"
   },
   {
    "duration": 147,
    "start_time": "2022-06-21T08:30:36.187Z"
   },
   {
    "duration": 28,
    "start_time": "2022-06-21T08:30:36.335Z"
   },
   {
    "duration": 14,
    "start_time": "2022-06-21T08:30:36.364Z"
   },
   {
    "duration": 220,
    "start_time": "2022-06-21T08:32:29.793Z"
   },
   {
    "duration": 9,
    "start_time": "2022-06-21T08:32:44.415Z"
   },
   {
    "duration": 742,
    "start_time": "2022-06-21T08:32:44.426Z"
   },
   {
    "duration": 7,
    "start_time": "2022-06-21T08:32:45.170Z"
   },
   {
    "duration": 11,
    "start_time": "2022-06-21T08:32:45.179Z"
   },
   {
    "duration": 3,
    "start_time": "2022-06-21T08:32:45.193Z"
   },
   {
    "duration": 245,
    "start_time": "2022-06-21T08:32:45.198Z"
   },
   {
    "duration": 2,
    "start_time": "2022-06-21T08:32:45.450Z"
   },
   {
    "duration": 9,
    "start_time": "2022-06-21T08:32:45.454Z"
   },
   {
    "duration": 100231,
    "start_time": "2022-06-21T08:32:45.465Z"
   },
   {
    "duration": 5,
    "start_time": "2022-06-21T08:34:25.697Z"
   },
   {
    "duration": 858,
    "start_time": "2022-06-21T08:34:25.703Z"
   },
   {
    "duration": 1014,
    "start_time": "2022-06-21T08:34:26.562Z"
   },
   {
    "duration": 0,
    "start_time": "2022-06-21T08:34:27.578Z"
   },
   {
    "duration": 0,
    "start_time": "2022-06-21T08:34:27.579Z"
   },
   {
    "duration": 0,
    "start_time": "2022-06-21T08:34:27.580Z"
   },
   {
    "duration": 6,
    "start_time": "2022-06-21T08:34:44.520Z"
   },
   {
    "duration": 709,
    "start_time": "2022-06-21T08:34:44.529Z"
   },
   {
    "duration": 11,
    "start_time": "2022-06-21T08:34:45.240Z"
   },
   {
    "duration": 3,
    "start_time": "2022-06-21T08:34:45.253Z"
   },
   {
    "duration": 4,
    "start_time": "2022-06-21T08:34:45.257Z"
   },
   {
    "duration": 242,
    "start_time": "2022-06-21T08:34:45.262Z"
   },
   {
    "duration": 2,
    "start_time": "2022-06-21T08:34:45.506Z"
   },
   {
    "duration": 7,
    "start_time": "2022-06-21T08:34:45.509Z"
   },
   {
    "duration": 48492,
    "start_time": "2022-06-21T08:34:45.518Z"
   },
   {
    "duration": 7,
    "start_time": "2022-06-21T08:35:34.013Z"
   },
   {
    "duration": 1014,
    "start_time": "2022-06-21T08:35:34.021Z"
   },
   {
    "duration": 1090,
    "start_time": "2022-06-21T08:35:35.037Z"
   },
   {
    "duration": 0,
    "start_time": "2022-06-21T08:35:36.128Z"
   },
   {
    "duration": 0,
    "start_time": "2022-06-21T08:35:36.129Z"
   },
   {
    "duration": 0,
    "start_time": "2022-06-21T08:35:36.130Z"
   },
   {
    "duration": 7,
    "start_time": "2022-06-21T08:36:35.423Z"
   },
   {
    "duration": 744,
    "start_time": "2022-06-21T08:36:35.432Z"
   },
   {
    "duration": 6,
    "start_time": "2022-06-21T08:36:36.177Z"
   },
   {
    "duration": 3,
    "start_time": "2022-06-21T08:36:36.185Z"
   },
   {
    "duration": 5,
    "start_time": "2022-06-21T08:36:36.190Z"
   },
   {
    "duration": 263,
    "start_time": "2022-06-21T08:36:36.196Z"
   },
   {
    "duration": 3,
    "start_time": "2022-06-21T08:36:36.460Z"
   },
   {
    "duration": 7,
    "start_time": "2022-06-21T08:36:36.464Z"
   },
   {
    "duration": 109911,
    "start_time": "2022-06-21T08:36:36.472Z"
   },
   {
    "duration": 7,
    "start_time": "2022-06-21T08:38:26.385Z"
   },
   {
    "duration": 863,
    "start_time": "2022-06-21T08:38:26.393Z"
   },
   {
    "duration": 952,
    "start_time": "2022-06-21T08:38:27.258Z"
   },
   {
    "duration": 0,
    "start_time": "2022-06-21T08:38:28.212Z"
   },
   {
    "duration": 0,
    "start_time": "2022-06-21T08:38:28.213Z"
   },
   {
    "duration": 0,
    "start_time": "2022-06-21T08:38:28.214Z"
   },
   {
    "duration": 6,
    "start_time": "2022-06-21T08:38:49.785Z"
   },
   {
    "duration": 752,
    "start_time": "2022-06-21T08:38:49.793Z"
   },
   {
    "duration": 6,
    "start_time": "2022-06-21T08:38:50.550Z"
   },
   {
    "duration": 3,
    "start_time": "2022-06-21T08:38:50.558Z"
   },
   {
    "duration": 12,
    "start_time": "2022-06-21T08:38:50.562Z"
   },
   {
    "duration": 238,
    "start_time": "2022-06-21T08:38:50.576Z"
   },
   {
    "duration": 3,
    "start_time": "2022-06-21T08:38:50.815Z"
   },
   {
    "duration": 7,
    "start_time": "2022-06-21T08:38:50.819Z"
   },
   {
    "duration": 123812,
    "start_time": "2022-06-21T08:38:50.828Z"
   },
   {
    "duration": 6,
    "start_time": "2022-06-21T08:40:54.651Z"
   },
   {
    "duration": 4065,
    "start_time": "2022-06-21T08:40:54.659Z"
   },
   {
    "duration": 6479,
    "start_time": "2022-06-21T08:40:58.725Z"
   },
   {
    "duration": 6697,
    "start_time": "2022-06-21T08:41:05.206Z"
   },
   {
    "duration": 167,
    "start_time": "2022-06-21T08:41:11.905Z"
   },
   {
    "duration": 28,
    "start_time": "2022-06-21T08:41:12.073Z"
   },
   {
    "duration": 22,
    "start_time": "2022-06-21T08:49:26.228Z"
   },
   {
    "duration": 21,
    "start_time": "2022-06-21T08:50:18.653Z"
   },
   {
    "duration": 6,
    "start_time": "2022-06-21T08:50:20.252Z"
   },
   {
    "duration": 7815,
    "start_time": "2022-06-21T08:50:24.095Z"
   },
   {
    "duration": 80155,
    "start_time": "2022-06-21T08:51:31.000Z"
   },
   {
    "duration": 298231,
    "start_time": "2022-06-21T08:56:06.836Z"
   },
   {
    "duration": 14083,
    "start_time": "2022-06-21T09:03:56.956Z"
   },
   {
    "duration": 14401,
    "start_time": "2022-06-21T09:04:25.085Z"
   },
   {
    "duration": 546643,
    "start_time": "2022-06-21T09:05:06.855Z"
   },
   {
    "duration": 27249,
    "start_time": "2022-06-21T09:14:39.544Z"
   },
   {
    "duration": 14139,
    "start_time": "2022-06-21T09:15:27.009Z"
   },
   {
    "duration": 51028,
    "start_time": "2022-06-21T09:15:51.405Z"
   },
   {
    "duration": 39318,
    "start_time": "2022-06-21T09:17:03.463Z"
   },
   {
    "duration": 34569,
    "start_time": "2022-06-21T09:18:17.836Z"
   },
   {
    "duration": 32958,
    "start_time": "2022-06-21T09:19:30.228Z"
   },
   {
    "duration": 34664,
    "start_time": "2022-06-21T09:20:11.210Z"
   },
   {
    "duration": 36457,
    "start_time": "2022-06-21T09:21:11.303Z"
   },
   {
    "duration": 38520,
    "start_time": "2022-06-21T09:21:58.407Z"
   },
   {
    "duration": 112760,
    "start_time": "2022-06-21T09:24:01.708Z"
   },
   {
    "duration": 1746,
    "start_time": "2022-06-21T09:26:08.124Z"
   },
   {
    "duration": 215792,
    "start_time": "2022-06-21T09:27:09.540Z"
   },
   {
    "duration": 2398,
    "start_time": "2022-06-21T09:31:07.884Z"
   },
   {
    "duration": 6390,
    "start_time": "2022-06-21T09:31:41.761Z"
   },
   {
    "duration": 15157,
    "start_time": "2022-06-21T09:31:54.940Z"
   },
   {
    "duration": 6700,
    "start_time": "2022-06-21T09:32:19.080Z"
   },
   {
    "duration": 13840,
    "start_time": "2022-06-21T09:32:30.610Z"
   },
   {
    "duration": 35913,
    "start_time": "2022-06-21T09:32:51.206Z"
   },
   {
    "duration": 66524,
    "start_time": "2022-06-21T09:33:34.649Z"
   },
   {
    "duration": 28,
    "start_time": "2022-06-21T09:34:56.412Z"
   },
   {
    "duration": 3,
    "start_time": "2022-06-21T09:35:37.194Z"
   },
   {
    "duration": 4,
    "start_time": "2022-06-21T09:35:57.141Z"
   },
   {
    "duration": 4,
    "start_time": "2022-06-21T09:36:11.239Z"
   },
   {
    "duration": 86833,
    "start_time": "2022-06-21T09:36:46.651Z"
   },
   {
    "duration": 15,
    "start_time": "2022-06-21T09:38:43.882Z"
   },
   {
    "duration": 5,
    "start_time": "2022-06-21T09:40:47.393Z"
   },
   {
    "duration": 12,
    "start_time": "2022-06-21T09:43:48.296Z"
   },
   {
    "duration": 2,
    "start_time": "2022-06-21T09:44:04.346Z"
   },
   {
    "duration": 27,
    "start_time": "2022-06-21T09:46:19.638Z"
   },
   {
    "duration": 175914,
    "start_time": "2022-06-21T09:47:32.776Z"
   },
   {
    "duration": 15191,
    "start_time": "2022-06-21T09:50:43.515Z"
   },
   {
    "duration": 47916,
    "start_time": "2022-06-21T09:51:16.206Z"
   },
   {
    "duration": 8,
    "start_time": "2022-06-21T09:52:42.107Z"
   },
   {
    "duration": 48239,
    "start_time": "2022-06-21T09:52:44.976Z"
   },
   {
    "duration": 86,
    "start_time": "2022-06-21T09:56:04.708Z"
   },
   {
    "duration": 606,
    "start_time": "2022-06-21T11:03:05.367Z"
   },
   {
    "duration": 20,
    "start_time": "2022-06-21T11:04:17.467Z"
   },
   {
    "duration": 7,
    "start_time": "2022-06-21T11:05:24.323Z"
   },
   {
    "duration": 12,
    "start_time": "2022-06-21T11:05:30.998Z"
   },
   {
    "duration": 13,
    "start_time": "2022-06-21T11:06:48.834Z"
   },
   {
    "duration": 5,
    "start_time": "2022-06-21T11:07:48.773Z"
   },
   {
    "duration": 5,
    "start_time": "2022-06-21T11:07:55.219Z"
   },
   {
    "duration": 12,
    "start_time": "2022-06-21T11:08:05.669Z"
   },
   {
    "duration": 18,
    "start_time": "2022-06-21T11:10:22.862Z"
   },
   {
    "duration": 13,
    "start_time": "2022-06-21T11:10:32.562Z"
   },
   {
    "duration": 13,
    "start_time": "2022-06-21T11:11:00.434Z"
   },
   {
    "duration": 12,
    "start_time": "2022-06-21T11:11:35.832Z"
   },
   {
    "duration": 13,
    "start_time": "2022-06-21T11:11:46.595Z"
   },
   {
    "duration": 15,
    "start_time": "2022-06-21T11:12:12.388Z"
   },
   {
    "duration": 12,
    "start_time": "2022-06-21T11:12:47.410Z"
   },
   {
    "duration": 13,
    "start_time": "2022-06-21T11:12:54.162Z"
   },
   {
    "duration": 12,
    "start_time": "2022-06-21T11:13:00.730Z"
   },
   {
    "duration": 13,
    "start_time": "2022-06-21T11:15:11.011Z"
   },
   {
    "duration": 4,
    "start_time": "2022-06-21T11:19:08.273Z"
   },
   {
    "duration": 49,
    "start_time": "2022-06-21T11:21:11.225Z"
   },
   {
    "duration": 2558,
    "start_time": "2022-06-21T11:22:20.033Z"
   },
   {
    "duration": 176176,
    "start_time": "2022-06-21T11:23:01.630Z"
   },
   {
    "duration": 112,
    "start_time": "2022-06-21T11:30:55.974Z"
   },
   {
    "duration": 262653,
    "start_time": "2022-06-21T11:33:37.625Z"
   },
   {
    "duration": 6,
    "start_time": "2022-06-21T12:07:13.721Z"
   },
   {
    "duration": 5,
    "start_time": "2022-06-21T12:09:53.476Z"
   },
   {
    "duration": 5,
    "start_time": "2022-06-21T12:10:01.489Z"
   },
   {
    "duration": 67,
    "start_time": "2022-06-21T12:10:21.506Z"
   },
   {
    "duration": 6,
    "start_time": "2022-06-21T12:10:25.294Z"
   },
   {
    "duration": 50,
    "start_time": "2022-06-21T12:30:57.786Z"
   },
   {
    "duration": 0,
    "start_time": "2022-06-21T12:30:57.838Z"
   },
   {
    "duration": 0,
    "start_time": "2022-06-21T12:30:57.839Z"
   },
   {
    "duration": 0,
    "start_time": "2022-06-21T12:30:57.840Z"
   },
   {
    "duration": 0,
    "start_time": "2022-06-21T12:30:57.841Z"
   },
   {
    "duration": 0,
    "start_time": "2022-06-21T12:30:57.842Z"
   },
   {
    "duration": 0,
    "start_time": "2022-06-21T12:30:57.842Z"
   },
   {
    "duration": 0,
    "start_time": "2022-06-21T12:30:57.843Z"
   },
   {
    "duration": 0,
    "start_time": "2022-06-21T12:30:57.844Z"
   },
   {
    "duration": 1454,
    "start_time": "2022-06-21T12:31:15.252Z"
   },
   {
    "duration": 2400,
    "start_time": "2022-06-21T12:31:16.708Z"
   },
   {
    "duration": 260,
    "start_time": "2022-06-21T12:31:19.110Z"
   },
   {
    "duration": 1265,
    "start_time": "2022-06-21T12:31:19.372Z"
   },
   {
    "duration": 173,
    "start_time": "2022-06-21T12:31:20.639Z"
   },
   {
    "duration": 4,
    "start_time": "2022-06-21T12:31:20.814Z"
   },
   {
    "duration": 71,
    "start_time": "2022-06-21T12:31:20.819Z"
   },
   {
    "duration": 211,
    "start_time": "2022-06-21T12:31:20.891Z"
   },
   {
    "duration": 0,
    "start_time": "2022-06-21T12:31:21.104Z"
   },
   {
    "duration": 0,
    "start_time": "2022-06-21T12:31:21.105Z"
   },
   {
    "duration": 4,
    "start_time": "2022-06-21T12:32:05.432Z"
   },
   {
    "duration": 717,
    "start_time": "2022-06-21T12:32:05.437Z"
   },
   {
    "duration": 229,
    "start_time": "2022-06-21T12:32:06.165Z"
   },
   {
    "duration": 6,
    "start_time": "2022-06-21T12:32:06.396Z"
   },
   {
    "duration": 106,
    "start_time": "2022-06-21T12:32:06.404Z"
   },
   {
    "duration": 5,
    "start_time": "2022-06-21T12:32:06.512Z"
   },
   {
    "duration": 946,
    "start_time": "2022-06-21T12:32:06.519Z"
   },
   {
    "duration": 903,
    "start_time": "2022-06-21T12:32:07.467Z"
   },
   {
    "duration": 0,
    "start_time": "2022-06-21T12:32:08.371Z"
   },
   {
    "duration": 0,
    "start_time": "2022-06-21T12:32:08.373Z"
   },
   {
    "duration": 4,
    "start_time": "2022-06-21T12:32:48.267Z"
   },
   {
    "duration": 688,
    "start_time": "2022-06-21T12:32:48.273Z"
   },
   {
    "duration": 230,
    "start_time": "2022-06-21T12:32:48.962Z"
   },
   {
    "duration": 6,
    "start_time": "2022-06-21T12:32:49.193Z"
   },
   {
    "duration": 118874,
    "start_time": "2022-06-21T12:32:49.200Z"
   },
   {
    "duration": 6,
    "start_time": "2022-06-21T12:34:48.076Z"
   },
   {
    "duration": 4008,
    "start_time": "2022-06-21T12:34:48.083Z"
   },
   {
    "duration": 5888,
    "start_time": "2022-06-21T12:34:52.093Z"
   },
   {
    "duration": 23,
    "start_time": "2022-06-21T12:34:57.983Z"
   },
   {
    "duration": 0,
    "start_time": "2022-06-21T12:34:58.007Z"
   },
   {
    "duration": 17185,
    "start_time": "2022-06-21T12:36:05.633Z"
   },
   {
    "duration": 7,
    "start_time": "2022-06-21T12:37:46.390Z"
   },
   {
    "duration": 257,
    "start_time": "2022-06-21T12:41:39.112Z"
   },
   {
    "duration": 13,
    "start_time": "2022-06-21T12:41:47.575Z"
   },
   {
    "duration": 9,
    "start_time": "2022-06-21T12:41:53.466Z"
   },
   {
    "duration": 118,
    "start_time": "2022-06-21T12:42:07.618Z"
   },
   {
    "duration": 3,
    "start_time": "2022-06-21T12:42:09.946Z"
   },
   {
    "duration": 6084,
    "start_time": "2022-06-21T12:42:14.127Z"
   },
   {
    "duration": 271725,
    "start_time": "2022-06-21T12:42:54.066Z"
   },
   {
    "duration": 3,
    "start_time": "2022-06-21T12:47:47.745Z"
   },
   {
    "duration": 3,
    "start_time": "2022-06-21T12:48:30.313Z"
   },
   {
    "duration": 144831,
    "start_time": "2022-06-21T12:48:47.544Z"
   },
   {
    "duration": 3841,
    "start_time": "2022-06-21T12:51:18.619Z"
   },
   {
    "duration": 4690,
    "start_time": "2022-06-21T12:51:50.766Z"
   },
   {
    "duration": 3,
    "start_time": "2022-06-21T12:52:12.536Z"
   },
   {
    "duration": 60,
    "start_time": "2022-06-21T13:13:09.602Z"
   },
   {
    "duration": 6421,
    "start_time": "2022-06-21T13:13:16.478Z"
   },
   {
    "duration": 102656,
    "start_time": "2022-06-21T13:13:31.184Z"
   },
   {
    "duration": 71029,
    "start_time": "2022-06-21T13:15:35.601Z"
   },
   {
    "duration": 397761,
    "start_time": "2022-06-21T13:16:53.790Z"
   },
   {
    "duration": 20810,
    "start_time": "2022-06-21T13:24:02.490Z"
   },
   {
    "duration": 33662,
    "start_time": "2022-06-21T13:24:37.822Z"
   },
   {
    "duration": 31698,
    "start_time": "2022-06-21T13:25:20.535Z"
   },
   {
    "duration": 347141,
    "start_time": "2022-06-21T13:26:48.331Z"
   },
   {
    "duration": 655208,
    "start_time": "2022-06-21T13:35:24.007Z"
   },
   {
    "duration": 29173,
    "start_time": "2022-06-21T13:46:48.748Z"
   },
   {
    "duration": 127,
    "start_time": "2022-06-21T13:47:58.586Z"
   },
   {
    "duration": 315764,
    "start_time": "2022-06-21T13:48:09.059Z"
   },
   {
    "duration": 369035,
    "start_time": "2022-06-21T13:55:36.531Z"
   },
   {
    "duration": 35595,
    "start_time": "2022-06-21T14:02:20.320Z"
   },
   {
    "duration": 29835,
    "start_time": "2022-06-21T14:03:43.213Z"
   },
   {
    "duration": 143510,
    "start_time": "2022-06-21T14:05:11.487Z"
   },
   {
    "duration": 301439,
    "start_time": "2022-06-21T14:07:47.371Z"
   },
   {
    "duration": 628679,
    "start_time": "2022-06-21T14:13:50.387Z"
   },
   {
    "duration": 28997,
    "start_time": "2022-06-21T14:24:32.715Z"
   },
   {
    "duration": 33813,
    "start_time": "2022-06-21T14:25:08.505Z"
   },
   {
    "duration": 216281,
    "start_time": "2022-06-21T14:26:36.749Z"
   },
   {
    "duration": 17252,
    "start_time": "2022-06-21T14:31:28.276Z"
   },
   {
    "duration": 61203,
    "start_time": "2022-06-21T14:33:23.721Z"
   },
   {
    "duration": 102716,
    "start_time": "2022-06-21T14:34:34.166Z"
   },
   {
    "duration": 186347,
    "start_time": "2022-06-21T14:36:47.681Z"
   },
   {
    "duration": 28908,
    "start_time": "2022-06-21T14:40:05.118Z"
   },
   {
    "duration": 32026,
    "start_time": "2022-06-21T14:40:43.997Z"
   },
   {
    "duration": 372925,
    "start_time": "2022-06-21T14:41:31.722Z"
   },
   {
    "duration": 63,
    "start_time": "2022-06-21T14:48:34.712Z"
   },
   {
    "duration": 214660,
    "start_time": "2022-06-21T14:48:43.971Z"
   },
   {
    "duration": 40110,
    "start_time": "2022-06-21T14:54:43.282Z"
   },
   {
    "duration": 28170,
    "start_time": "2022-06-21T14:55:53.075Z"
   },
   {
    "duration": 3624,
    "start_time": "2022-06-21T14:56:38.102Z"
   },
   {
    "duration": 364829,
    "start_time": "2022-06-21T14:56:44.281Z"
   },
   {
    "duration": 31535,
    "start_time": "2022-06-21T15:03:45.045Z"
   },
   {
    "duration": 236599,
    "start_time": "2022-06-21T15:05:12.994Z"
   },
   {
    "duration": 102,
    "start_time": "2022-06-21T15:10:24.424Z"
   },
   {
    "duration": 115231,
    "start_time": "2022-06-21T15:10:54.771Z"
   },
   {
    "duration": 15786,
    "start_time": "2022-06-21T15:13:41.400Z"
   },
   {
    "duration": 496273,
    "start_time": "2022-06-21T15:14:01.519Z"
   },
   {
    "duration": 902092,
    "start_time": "2022-06-21T15:24:02.490Z"
   },
   {
    "duration": 87281,
    "start_time": "2022-06-21T15:39:39.490Z"
   },
   {
    "duration": 74,
    "start_time": "2022-06-21T15:41:16.177Z"
   },
   {
    "duration": 2016976,
    "start_time": "2022-06-21T15:41:21.248Z"
   },
   {
    "duration": 1462,
    "start_time": "2022-06-22T07:31:05.413Z"
   },
   {
    "duration": 3232,
    "start_time": "2022-06-22T07:31:06.877Z"
   },
   {
    "duration": 265,
    "start_time": "2022-06-22T07:31:10.111Z"
   },
   {
    "duration": 1295,
    "start_time": "2022-06-22T07:31:10.378Z"
   },
   {
    "duration": 120076,
    "start_time": "2022-06-22T07:31:11.675Z"
   },
   {
    "duration": 7,
    "start_time": "2022-06-22T07:33:11.764Z"
   },
   {
    "duration": 4225,
    "start_time": "2022-06-22T07:33:11.772Z"
   },
   {
    "duration": 6652,
    "start_time": "2022-06-22T07:33:15.999Z"
   },
   {
    "duration": 20043,
    "start_time": "2022-06-22T07:33:22.657Z"
   },
   {
    "duration": 122,
    "start_time": "2022-06-22T07:33:42.702Z"
   },
   {
    "duration": 0,
    "start_time": "2022-06-22T07:33:42.826Z"
   },
   {
    "duration": 0,
    "start_time": "2022-06-22T07:33:42.827Z"
   },
   {
    "duration": 0,
    "start_time": "2022-06-22T07:33:42.828Z"
   },
   {
    "duration": 0,
    "start_time": "2022-06-22T07:33:42.829Z"
   },
   {
    "duration": 0,
    "start_time": "2022-06-22T07:33:42.830Z"
   },
   {
    "duration": 0,
    "start_time": "2022-06-22T07:33:42.831Z"
   },
   {
    "duration": 0,
    "start_time": "2022-06-22T07:33:42.832Z"
   },
   {
    "duration": 0,
    "start_time": "2022-06-22T07:33:42.832Z"
   },
   {
    "duration": 292,
    "start_time": "2022-06-22T07:49:37.617Z"
   },
   {
    "duration": 5,
    "start_time": "2022-06-22T07:49:48.992Z"
   },
   {
    "duration": 803,
    "start_time": "2022-06-22T07:49:49.000Z"
   },
   {
    "duration": 274,
    "start_time": "2022-06-22T07:49:49.804Z"
   },
   {
    "duration": 6,
    "start_time": "2022-06-22T07:49:50.081Z"
   },
   {
    "duration": 138353,
    "start_time": "2022-06-22T07:49:50.089Z"
   },
   {
    "duration": 19,
    "start_time": "2022-06-22T07:52:08.443Z"
   },
   {
    "duration": 4673,
    "start_time": "2022-06-22T07:52:08.470Z"
   },
   {
    "duration": 7161,
    "start_time": "2022-06-22T07:52:13.145Z"
   },
   {
    "duration": 22151,
    "start_time": "2022-06-22T07:52:20.308Z"
   },
   {
    "duration": 8618,
    "start_time": "2022-06-22T07:52:42.460Z"
   },
   {
    "duration": 11,
    "start_time": "2022-06-22T07:52:51.082Z"
   },
   {
    "duration": 237,
    "start_time": "2022-06-22T07:52:51.095Z"
   },
   {
    "duration": 5,
    "start_time": "2022-06-22T07:52:51.335Z"
   },
   {
    "duration": 7540,
    "start_time": "2022-06-22T07:52:51.342Z"
   },
   {
    "duration": 20839,
    "start_time": "2022-06-22T07:55:15.781Z"
   },
   {
    "duration": 20738,
    "start_time": "2022-06-22T07:56:22.848Z"
   },
   {
    "duration": 322817,
    "start_time": "2022-06-22T07:58:47.635Z"
   },
   {
    "duration": 100,
    "start_time": "2022-06-22T08:04:58.726Z"
   },
   {
    "duration": 294,
    "start_time": "2022-06-22T08:05:24.157Z"
   },
   {
    "duration": 474047,
    "start_time": "2022-06-22T08:05:49.584Z"
   },
   {
    "duration": 171,
    "start_time": "2022-06-22T08:14:52.280Z"
   },
   {
    "duration": 11335,
    "start_time": "2022-06-22T08:14:59.990Z"
   },
   {
    "duration": 69174,
    "start_time": "2022-06-22T08:15:16.693Z"
   },
   {
    "duration": 535202,
    "start_time": "2022-06-22T08:39:38.046Z"
   },
   {
    "duration": 56688,
    "start_time": "2022-06-22T08:49:33.757Z"
   },
   {
    "duration": 54451,
    "start_time": "2022-06-22T08:50:41.909Z"
   },
   {
    "duration": 278,
    "start_time": "2022-06-22T08:53:11.037Z"
   },
   {
    "duration": 233,
    "start_time": "2022-06-22T08:53:22.585Z"
   },
   {
    "duration": 4053407,
    "start_time": "2022-06-22T08:53:37.927Z"
   },
   {
    "duration": 18108,
    "start_time": "2022-06-22T10:03:05.530Z"
   },
   {
    "duration": 1325281,
    "start_time": "2022-06-22T10:03:40.847Z"
   },
   {
    "duration": 762668,
    "start_time": "2022-06-22T11:12:12.792Z"
   },
   {
    "duration": 1209422,
    "start_time": "2022-06-22T11:25:07.695Z"
   },
   {
    "duration": 97140,
    "start_time": "2022-06-22T11:46:35.791Z"
   },
   {
    "duration": 100116,
    "start_time": "2022-06-22T11:48:27.470Z"
   },
   {
    "duration": 113592,
    "start_time": "2022-06-22T11:50:17.640Z"
   },
   {
    "duration": 130,
    "start_time": "2022-06-22T11:54:14.582Z"
   },
   {
    "duration": 156231,
    "start_time": "2022-06-22T11:54:24.681Z"
   },
   {
    "duration": 105,
    "start_time": "2022-06-22T11:58:19.305Z"
   },
   {
    "duration": 16666,
    "start_time": "2022-06-22T11:58:30.972Z"
   },
   {
    "duration": 4042,
    "start_time": "2022-06-22T11:59:10.792Z"
   },
   {
    "duration": 9915,
    "start_time": "2022-06-22T11:59:27.899Z"
   },
   {
    "duration": 16725,
    "start_time": "2022-06-22T11:59:58.685Z"
   },
   {
    "duration": 78434,
    "start_time": "2022-06-22T12:00:21.386Z"
   },
   {
    "duration": 366900,
    "start_time": "2022-06-22T12:03:24.540Z"
   },
   {
    "duration": 5678,
    "start_time": "2022-06-22T12:09:55.402Z"
   },
   {
    "duration": 359266,
    "start_time": "2022-06-22T12:10:19.584Z"
   },
   {
    "duration": 1943,
    "start_time": "2022-06-22T12:17:47.477Z"
   },
   {
    "duration": 4625,
    "start_time": "2022-06-22T12:17:49.421Z"
   },
   {
    "duration": 358,
    "start_time": "2022-06-22T12:17:54.048Z"
   },
   {
    "duration": 1531,
    "start_time": "2022-06-22T12:17:54.409Z"
   },
   {
    "duration": 152962,
    "start_time": "2022-06-22T12:17:55.942Z"
   },
   {
    "duration": 8,
    "start_time": "2022-06-22T12:20:28.906Z"
   },
   {
    "duration": 2031,
    "start_time": "2022-06-22T12:20:35.707Z"
   },
   {
    "duration": 1687,
    "start_time": "2022-06-22T12:20:37.740Z"
   },
   {
    "duration": 413,
    "start_time": "2022-06-22T12:20:39.429Z"
   },
   {
    "duration": 1548,
    "start_time": "2022-06-22T12:20:39.845Z"
   },
   {
    "duration": 179345,
    "start_time": "2022-06-22T12:20:41.395Z"
   },
   {
    "duration": 11,
    "start_time": "2022-06-22T12:23:40.742Z"
   },
   {
    "duration": 6853,
    "start_time": "2022-06-22T12:23:40.756Z"
   },
   {
    "duration": 20,
    "start_time": "2022-06-22T12:23:47.612Z"
   },
   {
    "duration": 214,
    "start_time": "2022-06-22T12:23:47.634Z"
   },
   {
    "duration": 20,
    "start_time": "2022-06-22T12:23:47.850Z"
   },
   {
    "duration": 10359,
    "start_time": "2022-06-22T12:23:47.888Z"
   },
   {
    "duration": 25638,
    "start_time": "2022-06-22T12:23:58.253Z"
   },
   {
    "duration": 10937,
    "start_time": "2022-06-22T12:24:23.898Z"
   },
   {
    "duration": 355543,
    "start_time": "2022-06-22T12:24:34.836Z"
   },
   {
    "duration": 462059,
    "start_time": "2022-06-22T12:30:30.381Z"
   },
   {
    "duration": 75043,
    "start_time": "2022-06-22T12:38:12.442Z"
   },
   {
    "duration": 13,
    "start_time": "2022-06-22T12:39:27.488Z"
   },
   {
    "duration": 58363,
    "start_time": "2022-06-22T12:39:27.504Z"
   },
   {
    "duration": 13,
    "start_time": "2022-06-22T12:40:25.870Z"
   },
   {
    "duration": 157006,
    "start_time": "2022-06-22T12:40:25.885Z"
   },
   {
    "duration": 24,
    "start_time": "2022-06-22T12:43:02.894Z"
   },
   {
    "duration": 16,
    "start_time": "2022-06-22T12:43:02.921Z"
   },
   {
    "duration": 1766,
    "start_time": "2022-06-22T12:43:02.939Z"
   },
   {
    "duration": 3895,
    "start_time": "2022-06-22T12:47:59.052Z"
   },
   {
    "duration": 4286,
    "start_time": "2022-06-22T12:48:02.949Z"
   },
   {
    "duration": 628,
    "start_time": "2022-06-22T12:48:07.255Z"
   },
   {
    "duration": 3010,
    "start_time": "2022-06-22T12:48:07.885Z"
   },
   {
    "duration": 214762,
    "start_time": "2022-06-22T12:48:10.899Z"
   },
   {
    "duration": 15,
    "start_time": "2022-06-22T12:51:45.664Z"
   },
   {
    "duration": 7212,
    "start_time": "2022-06-22T12:51:45.681Z"
   },
   {
    "duration": 15,
    "start_time": "2022-06-22T12:51:52.895Z"
   },
   {
    "duration": 313,
    "start_time": "2022-06-22T12:51:52.912Z"
   },
   {
    "duration": 6,
    "start_time": "2022-06-22T12:51:53.226Z"
   },
   {
    "duration": 9829,
    "start_time": "2022-06-22T12:51:53.234Z"
   },
   {
    "duration": 26839,
    "start_time": "2022-06-22T12:52:03.065Z"
   },
   {
    "duration": 11233,
    "start_time": "2022-06-22T12:52:29.908Z"
   },
   {
    "duration": 3,
    "start_time": "2022-06-22T12:52:41.145Z"
   },
   {
    "duration": 25,
    "start_time": "2022-06-22T12:52:41.169Z"
   },
   {
    "duration": 26,
    "start_time": "2022-06-22T12:52:41.196Z"
   },
   {
    "duration": 17,
    "start_time": "2022-06-22T12:52:41.224Z"
   },
   {
    "duration": 52745,
    "start_time": "2022-06-22T12:52:41.243Z"
   },
   {
    "duration": 4,
    "start_time": "2022-06-22T12:53:33.990Z"
   },
   {
    "duration": 130907,
    "start_time": "2022-06-22T12:53:33.995Z"
   },
   {
    "duration": 49,
    "start_time": "2022-06-22T12:55:44.904Z"
   },
   {
    "duration": 49,
    "start_time": "2022-06-22T12:55:44.956Z"
   },
   {
    "duration": 63954,
    "start_time": "2022-06-22T12:55:45.008Z"
   },
   {
    "duration": 699695,
    "start_time": "2022-06-22T12:56:48.971Z"
   },
   {
    "duration": 2243,
    "start_time": "2022-06-22T13:12:17.941Z"
   },
   {
    "duration": 4244,
    "start_time": "2022-06-22T13:12:20.190Z"
   },
   {
    "duration": 379,
    "start_time": "2022-06-22T13:12:24.436Z"
   },
   {
    "duration": 1488,
    "start_time": "2022-06-22T13:12:24.817Z"
   },
   {
    "duration": 174260,
    "start_time": "2022-06-22T13:12:26.307Z"
   },
   {
    "duration": 10,
    "start_time": "2022-06-22T13:15:20.571Z"
   },
   {
    "duration": 6120,
    "start_time": "2022-06-22T13:15:20.584Z"
   },
   {
    "duration": 15,
    "start_time": "2022-06-22T13:15:26.706Z"
   },
   {
    "duration": 217,
    "start_time": "2022-06-22T13:15:26.729Z"
   },
   {
    "duration": 5,
    "start_time": "2022-06-22T13:15:26.948Z"
   },
   {
    "duration": 9789,
    "start_time": "2022-06-22T13:15:26.955Z"
   },
   {
    "duration": 21684,
    "start_time": "2022-06-22T13:15:36.745Z"
   },
   {
    "duration": 8786,
    "start_time": "2022-06-22T13:15:58.431Z"
   },
   {
    "duration": 2,
    "start_time": "2022-06-22T13:16:07.221Z"
   },
   {
    "duration": 10,
    "start_time": "2022-06-22T13:16:07.225Z"
   },
   {
    "duration": 7,
    "start_time": "2022-06-22T13:16:07.236Z"
   },
   {
    "duration": 57,
    "start_time": "2022-06-22T13:16:07.245Z"
   },
   {
    "duration": 44316,
    "start_time": "2022-06-22T13:16:07.304Z"
   },
   {
    "duration": 13,
    "start_time": "2022-06-22T13:16:51.631Z"
   },
   {
    "duration": 51,
    "start_time": "2022-06-22T13:16:51.648Z"
   },
   {
    "duration": 45,
    "start_time": "2022-06-22T13:16:51.701Z"
   },
   {
    "duration": 29,
    "start_time": "2022-06-22T13:16:51.747Z"
   },
   {
    "duration": 57816,
    "start_time": "2022-06-22T13:16:51.778Z"
   },
   {
    "duration": 185562,
    "start_time": "2022-06-22T13:17:49.596Z"
   },
   {
    "duration": 4,
    "start_time": "2022-06-22T13:20:55.159Z"
   },
   {
    "duration": 35,
    "start_time": "2022-06-22T13:20:55.164Z"
   },
   {
    "duration": 14,
    "start_time": "2022-06-22T13:20:55.201Z"
   },
   {
    "duration": 11,
    "start_time": "2022-06-22T13:20:55.218Z"
   },
   {
    "duration": 194,
    "start_time": "2022-06-22T13:20:55.231Z"
   },
   {
    "duration": 179,
    "start_time": "2022-06-22T13:20:55.427Z"
   },
   {
    "duration": 56,
    "start_time": "2022-06-22T13:21:08.401Z"
   },
   {
    "duration": 59392,
    "start_time": "2022-06-22T13:21:16.512Z"
   },
   {
    "duration": 7,
    "start_time": "2022-06-22T13:24:49.910Z"
   },
   {
    "duration": 1657,
    "start_time": "2022-06-22T13:27:03.154Z"
   },
   {
    "duration": 961,
    "start_time": "2022-06-22T13:27:04.813Z"
   },
   {
    "duration": 312,
    "start_time": "2022-06-22T13:27:05.779Z"
   },
   {
    "duration": 1432,
    "start_time": "2022-06-22T13:27:06.093Z"
   },
   {
    "duration": 151596,
    "start_time": "2022-06-22T13:27:07.528Z"
   },
   {
    "duration": 7,
    "start_time": "2022-06-22T13:29:39.125Z"
   },
   {
    "duration": 5601,
    "start_time": "2022-06-22T13:29:39.133Z"
   },
   {
    "duration": 8,
    "start_time": "2022-06-22T13:29:44.735Z"
   },
   {
    "duration": 178,
    "start_time": "2022-06-22T13:29:44.752Z"
   },
   {
    "duration": 4,
    "start_time": "2022-06-22T13:29:44.932Z"
   },
   {
    "duration": 8118,
    "start_time": "2022-06-22T13:29:44.937Z"
   },
   {
    "duration": 20635,
    "start_time": "2022-06-22T13:29:53.059Z"
   },
   {
    "duration": 8948,
    "start_time": "2022-06-22T13:30:13.703Z"
   },
   {
    "duration": 9,
    "start_time": "2022-06-22T13:30:22.656Z"
   },
   {
    "duration": 34,
    "start_time": "2022-06-22T13:30:22.670Z"
   },
   {
    "duration": 6,
    "start_time": "2022-06-22T13:30:22.706Z"
   },
   {
    "duration": 4,
    "start_time": "2022-06-22T13:30:22.714Z"
   },
   {
    "duration": 40878,
    "start_time": "2022-06-22T13:30:22.719Z"
   },
   {
    "duration": 8,
    "start_time": "2022-06-22T13:31:03.603Z"
   },
   {
    "duration": 12,
    "start_time": "2022-06-22T13:31:03.613Z"
   },
   {
    "duration": 19,
    "start_time": "2022-06-22T13:31:03.627Z"
   },
   {
    "duration": 3,
    "start_time": "2022-06-22T13:31:03.648Z"
   },
   {
    "duration": 801456,
    "start_time": "2022-06-22T13:31:03.656Z"
   },
   {
    "duration": 3,
    "start_time": "2022-06-22T13:44:25.115Z"
   },
   {
    "duration": 16,
    "start_time": "2022-06-22T13:44:25.120Z"
   },
   {
    "duration": 12,
    "start_time": "2022-06-22T13:44:25.138Z"
   },
   {
    "duration": 373,
    "start_time": "2022-06-22T13:44:25.152Z"
   },
   {
    "duration": 193,
    "start_time": "2022-06-22T13:44:25.527Z"
   },
   {
    "duration": 1082286,
    "start_time": "2022-06-22T13:45:36.480Z"
   },
   {
    "duration": 151,
    "start_time": "2022-06-22T14:04:41.390Z"
   },
   {
    "duration": 19,
    "start_time": "2022-06-22T14:05:07.339Z"
   },
   {
    "duration": 10,
    "start_time": "2022-06-22T14:05:16.029Z"
   },
   {
    "duration": 13,
    "start_time": "2022-06-22T14:05:21.484Z"
   },
   {
    "duration": 3,
    "start_time": "2022-06-22T14:05:32.017Z"
   },
   {
    "duration": 139,
    "start_time": "2022-06-22T14:05:44.439Z"
   },
   {
    "duration": 4,
    "start_time": "2022-06-22T14:06:37.995Z"
   },
   {
    "duration": 3,
    "start_time": "2022-06-22T14:06:54.144Z"
   },
   {
    "duration": 9,
    "start_time": "2022-06-22T14:08:26.584Z"
   },
   {
    "duration": 4,
    "start_time": "2022-06-22T14:08:48.435Z"
   },
   {
    "duration": 147,
    "start_time": "2022-06-22T14:08:51.349Z"
   },
   {
    "duration": 108,
    "start_time": "2022-06-22T14:09:11.098Z"
   },
   {
    "duration": 235,
    "start_time": "2022-06-22T14:09:24.500Z"
   },
   {
    "duration": 138,
    "start_time": "2022-06-22T14:09:28.368Z"
   },
   {
    "duration": 248,
    "start_time": "2022-06-22T14:10:02.988Z"
   },
   {
    "duration": 4,
    "start_time": "2022-06-22T14:10:27.626Z"
   },
   {
    "duration": 6,
    "start_time": "2022-06-22T14:10:43.690Z"
   },
   {
    "duration": 868,
    "start_time": "2022-06-22T14:10:43.698Z"
   },
   {
    "duration": 264,
    "start_time": "2022-06-22T14:10:44.570Z"
   },
   {
    "duration": 6,
    "start_time": "2022-06-22T14:10:44.836Z"
   },
   {
    "duration": 161951,
    "start_time": "2022-06-22T14:10:44.863Z"
   },
   {
    "duration": 5,
    "start_time": "2022-06-22T14:13:26.816Z"
   },
   {
    "duration": 5614,
    "start_time": "2022-06-22T14:13:26.823Z"
   },
   {
    "duration": 14,
    "start_time": "2022-06-22T14:13:32.439Z"
   },
   {
    "duration": 226,
    "start_time": "2022-06-22T14:13:32.454Z"
   },
   {
    "duration": 14,
    "start_time": "2022-06-22T14:13:32.682Z"
   },
   {
    "duration": 8637,
    "start_time": "2022-06-22T14:13:32.699Z"
   },
   {
    "duration": 21338,
    "start_time": "2022-06-22T14:13:41.338Z"
   },
   {
    "duration": 8526,
    "start_time": "2022-06-22T14:14:02.678Z"
   },
   {
    "duration": 3,
    "start_time": "2022-06-22T14:14:11.207Z"
   },
   {
    "duration": 6,
    "start_time": "2022-06-22T14:14:11.211Z"
   },
   {
    "duration": 4,
    "start_time": "2022-06-22T14:14:11.219Z"
   },
   {
    "duration": 7,
    "start_time": "2022-06-22T14:14:11.225Z"
   },
   {
    "duration": 41829,
    "start_time": "2022-06-22T14:14:11.233Z"
   },
   {
    "duration": 3,
    "start_time": "2022-06-22T14:14:53.064Z"
   },
   {
    "duration": 32,
    "start_time": "2022-06-22T14:14:53.069Z"
   },
   {
    "duration": 16,
    "start_time": "2022-06-22T14:14:53.103Z"
   },
   {
    "duration": 3,
    "start_time": "2022-06-22T14:14:53.120Z"
   },
   {
    "duration": 173,
    "start_time": "2022-06-22T14:14:53.124Z"
   },
   {
    "duration": 109,
    "start_time": "2022-06-22T14:18:52.296Z"
   },
   {
    "duration": 118,
    "start_time": "2022-06-22T14:18:57.320Z"
   },
   {
    "duration": 487270,
    "start_time": "2022-06-22T14:18:59.704Z"
   },
   {
    "duration": 430956,
    "start_time": "2022-06-22T14:28:04.019Z"
   },
   {
    "duration": 372094,
    "start_time": "2022-06-22T14:37:07.102Z"
   },
   {
    "duration": 167816,
    "start_time": "2022-06-22T14:44:46.673Z"
   },
   {
    "duration": 118270,
    "start_time": "2022-06-22T14:53:28.662Z"
   },
   {
    "duration": 5,
    "start_time": "2022-06-22T14:55:26.934Z"
   },
   {
    "duration": 61114,
    "start_time": "2022-06-22T14:56:01.478Z"
   },
   {
    "duration": 13,
    "start_time": "2022-06-22T14:57:47.900Z"
   },
   {
    "duration": 13396,
    "start_time": "2022-06-22T14:58:24.098Z"
   },
   {
    "duration": 55707,
    "start_time": "2022-06-22T14:58:41.783Z"
   },
   {
    "duration": 133789,
    "start_time": "2022-06-22T14:59:56.696Z"
   },
   {
    "duration": 60485,
    "start_time": "2022-06-22T15:02:22.077Z"
   },
   {
    "duration": 25,
    "start_time": "2022-06-22T15:05:39.046Z"
   },
   {
    "duration": 105,
    "start_time": "2022-06-22T15:08:07.680Z"
   },
   {
    "duration": 712,
    "start_time": "2022-06-22T15:09:10.446Z"
   },
   {
    "duration": 678,
    "start_time": "2022-06-22T15:09:25.015Z"
   },
   {
    "duration": 23,
    "start_time": "2022-06-22T15:10:48.582Z"
   },
   {
    "duration": 479,
    "start_time": "2022-06-22T15:11:09.058Z"
   },
   {
    "duration": 131,
    "start_time": "2022-06-22T15:11:14.279Z"
   },
   {
    "duration": 5,
    "start_time": "2022-06-22T15:11:28.595Z"
   },
   {
    "duration": 265,
    "start_time": "2022-06-22T15:11:34.921Z"
   },
   {
    "duration": 5,
    "start_time": "2022-06-22T15:11:55.381Z"
   },
   {
    "duration": 9,
    "start_time": "2022-06-22T15:12:27.994Z"
   },
   {
    "duration": 9,
    "start_time": "2022-06-22T15:13:36.525Z"
   },
   {
    "duration": 12,
    "start_time": "2022-06-22T15:24:01.993Z"
   },
   {
    "duration": 13,
    "start_time": "2022-06-22T15:24:08.170Z"
   },
   {
    "duration": 14,
    "start_time": "2022-06-22T15:25:17.510Z"
   },
   {
    "duration": 1341,
    "start_time": "2022-06-22T15:27:13.879Z"
   },
   {
    "duration": 5,
    "start_time": "2022-06-22T15:33:31.146Z"
   },
   {
    "duration": 10,
    "start_time": "2022-06-22T15:34:27.496Z"
   },
   {
    "duration": 4,
    "start_time": "2022-06-22T15:34:33.104Z"
   },
   {
    "duration": 11,
    "start_time": "2022-06-22T15:34:37.507Z"
   },
   {
    "duration": 5,
    "start_time": "2022-06-22T15:35:06.056Z"
   },
   {
    "duration": 720,
    "start_time": "2022-06-22T15:35:10.094Z"
   },
   {
    "duration": 13,
    "start_time": "2022-06-22T15:48:11.191Z"
   },
   {
    "duration": 52286,
    "start_time": "2022-06-22T15:48:44.876Z"
   },
   {
    "duration": 14,
    "start_time": "2022-06-22T15:50:10.447Z"
   },
   {
    "duration": 10,
    "start_time": "2022-06-22T15:51:42.508Z"
   },
   {
    "duration": 14,
    "start_time": "2022-06-22T15:52:32.663Z"
   },
   {
    "duration": 5,
    "start_time": "2022-06-22T15:52:45.437Z"
   },
   {
    "duration": 10,
    "start_time": "2022-06-22T15:53:11.220Z"
   },
   {
    "duration": 9,
    "start_time": "2022-06-22T15:53:16.875Z"
   },
   {
    "duration": 4,
    "start_time": "2022-06-22T15:53:29.905Z"
   },
   {
    "duration": 5,
    "start_time": "2022-06-22T15:53:55.080Z"
   },
   {
    "duration": 4,
    "start_time": "2022-06-22T15:55:16.184Z"
   },
   {
    "duration": 31,
    "start_time": "2022-06-22T16:02:12.178Z"
   },
   {
    "duration": 9,
    "start_time": "2022-06-22T16:02:31.127Z"
   },
   {
    "duration": 12,
    "start_time": "2022-06-22T16:02:51.289Z"
   },
   {
    "duration": 53,
    "start_time": "2022-06-23T12:28:13.286Z"
   },
   {
    "duration": 2091,
    "start_time": "2022-06-23T12:28:24.468Z"
   },
   {
    "duration": 3188,
    "start_time": "2022-06-23T12:28:26.561Z"
   },
   {
    "duration": 297,
    "start_time": "2022-06-23T12:28:29.751Z"
   },
   {
    "duration": 1441,
    "start_time": "2022-06-23T12:28:30.050Z"
   },
   {
    "duration": 144167,
    "start_time": "2022-06-23T12:28:31.493Z"
   },
   {
    "duration": 7,
    "start_time": "2022-06-23T12:30:55.662Z"
   },
   {
    "duration": 4656,
    "start_time": "2022-06-23T12:30:55.671Z"
   },
   {
    "duration": 18,
    "start_time": "2022-06-23T12:31:00.329Z"
   },
   {
    "duration": 174,
    "start_time": "2022-06-23T12:31:00.349Z"
   },
   {
    "duration": 5,
    "start_time": "2022-06-23T12:31:00.526Z"
   },
   {
    "duration": 7665,
    "start_time": "2022-06-23T12:31:00.543Z"
   },
   {
    "duration": 18715,
    "start_time": "2022-06-23T12:31:08.211Z"
   },
   {
    "duration": 8229,
    "start_time": "2022-06-23T12:31:26.929Z"
   },
   {
    "duration": 51493,
    "start_time": "2022-06-23T12:31:35.163Z"
   },
   {
    "duration": 135439,
    "start_time": "2022-06-23T12:32:26.744Z"
   },
   {
    "duration": 55302,
    "start_time": "2022-06-23T12:34:42.186Z"
   },
   {
    "duration": 3,
    "start_time": "2022-06-23T12:35:37.548Z"
   },
   {
    "duration": 47612,
    "start_time": "2022-06-23T12:35:37.554Z"
   },
   {
    "duration": 4,
    "start_time": "2022-06-23T12:36:25.170Z"
   },
   {
    "duration": 110170,
    "start_time": "2022-06-23T12:36:25.177Z"
   },
   {
    "duration": 14,
    "start_time": "2022-06-23T12:38:15.349Z"
   },
   {
    "duration": 62570,
    "start_time": "2022-06-23T12:38:15.365Z"
   },
   {
    "duration": 14,
    "start_time": "2022-06-23T12:39:17.937Z"
   },
   {
    "duration": 816295,
    "start_time": "2022-06-23T12:39:17.953Z"
   },
   {
    "duration": 177911,
    "start_time": "2022-06-23T12:52:54.250Z"
   },
   {
    "duration": 12,
    "start_time": "2022-06-23T12:55:52.164Z"
   },
   {
    "duration": 75,
    "start_time": "2022-06-23T12:55:52.178Z"
   },
   {
    "duration": 753,
    "start_time": "2022-06-23T12:55:52.255Z"
   },
   {
    "duration": 873,
    "start_time": "2022-06-23T12:55:53.009Z"
   },
   {
    "duration": 750,
    "start_time": "2022-06-23T12:55:53.884Z"
   },
   {
    "duration": 112,
    "start_time": "2022-06-23T13:06:27.011Z"
   },
   {
    "duration": 135,
    "start_time": "2022-06-23T13:06:34.857Z"
   },
   {
    "duration": 15,
    "start_time": "2022-06-23T13:08:39.148Z"
   },
   {
    "duration": 14,
    "start_time": "2022-06-23T13:09:06.690Z"
   },
   {
    "duration": 13,
    "start_time": "2022-06-23T13:09:13.992Z"
   },
   {
    "duration": 25,
    "start_time": "2022-06-23T13:11:08.468Z"
   },
   {
    "duration": 15,
    "start_time": "2022-06-23T13:11:58.800Z"
   },
   {
    "duration": 81,
    "start_time": "2022-06-23T13:19:27.819Z"
   },
   {
    "duration": 1288,
    "start_time": "2022-06-23T13:19:46.598Z"
   },
   {
    "duration": 20,
    "start_time": "2022-06-23T13:21:46.489Z"
   },
   {
    "duration": 15,
    "start_time": "2022-06-23T13:23:55.351Z"
   },
   {
    "duration": 13,
    "start_time": "2022-06-23T13:26:55.228Z"
   },
   {
    "duration": 19,
    "start_time": "2022-06-23T13:27:44.892Z"
   },
   {
    "duration": 18,
    "start_time": "2022-06-23T13:27:52.500Z"
   },
   {
    "duration": 87,
    "start_time": "2022-06-23T13:28:19.879Z"
   },
   {
    "duration": 13,
    "start_time": "2022-06-23T13:28:25.807Z"
   },
   {
    "duration": 9,
    "start_time": "2022-06-23T13:29:04.357Z"
   },
   {
    "duration": 6,
    "start_time": "2022-06-23T13:29:14.035Z"
   },
   {
    "duration": 13,
    "start_time": "2022-06-23T13:32:37.419Z"
   },
   {
    "duration": 15,
    "start_time": "2022-06-23T13:32:54.084Z"
   },
   {
    "duration": 11,
    "start_time": "2022-06-23T13:32:59.283Z"
   },
   {
    "duration": 8,
    "start_time": "2022-06-23T13:35:00.338Z"
   },
   {
    "duration": 7,
    "start_time": "2022-06-23T13:35:16.205Z"
   },
   {
    "duration": 130,
    "start_time": "2022-06-23T13:39:52.700Z"
   },
   {
    "duration": 16,
    "start_time": "2022-06-23T13:40:02.219Z"
   },
   {
    "duration": 5,
    "start_time": "2022-06-23T13:40:20.230Z"
   },
   {
    "duration": 5,
    "start_time": "2022-06-23T13:41:25.456Z"
   },
   {
    "duration": 4,
    "start_time": "2022-06-23T13:41:32.434Z"
   },
   {
    "duration": 6,
    "start_time": "2022-06-23T13:41:37.786Z"
   },
   {
    "duration": 15,
    "start_time": "2022-06-23T13:41:54.629Z"
   },
   {
    "duration": 14,
    "start_time": "2022-06-23T13:42:19.997Z"
   },
   {
    "duration": 76,
    "start_time": "2022-06-23T13:42:35.609Z"
   },
   {
    "duration": 7,
    "start_time": "2022-06-23T13:44:31.253Z"
   },
   {
    "duration": 46,
    "start_time": "2022-06-23T13:44:56.607Z"
   },
   {
    "duration": 47,
    "start_time": "2022-06-23T13:45:05.603Z"
   },
   {
    "duration": 12,
    "start_time": "2022-06-23T13:45:34.467Z"
   },
   {
    "duration": 12,
    "start_time": "2022-06-23T13:46:03.367Z"
   },
   {
    "duration": 13,
    "start_time": "2022-06-23T13:47:09.868Z"
   },
   {
    "duration": 11,
    "start_time": "2022-06-23T13:48:39.022Z"
   },
   {
    "duration": 14,
    "start_time": "2022-06-23T13:50:33.518Z"
   },
   {
    "duration": 12,
    "start_time": "2022-06-23T13:50:53.173Z"
   },
   {
    "duration": 12,
    "start_time": "2022-06-23T13:51:05.022Z"
   },
   {
    "duration": 14,
    "start_time": "2022-06-23T13:52:56.944Z"
   },
   {
    "duration": 12,
    "start_time": "2022-06-23T13:54:03.730Z"
   },
   {
    "duration": 3304,
    "start_time": "2022-06-23T13:54:09.370Z"
   },
   {
    "duration": 4345,
    "start_time": "2022-06-23T13:54:39.988Z"
   },
   {
    "duration": 4217,
    "start_time": "2022-06-23T13:54:55.567Z"
   },
   {
    "duration": 51823,
    "start_time": "2022-06-23T13:55:43.295Z"
   },
   {
    "duration": 51839,
    "start_time": "2022-06-23T13:57:39.208Z"
   },
   {
    "duration": 4130,
    "start_time": "2022-06-23T13:58:51.675Z"
   },
   {
    "duration": 26,
    "start_time": "2022-06-23T14:03:11.883Z"
   },
   {
    "duration": 4088,
    "start_time": "2022-06-23T14:03:20.164Z"
   },
   {
    "duration": 3370,
    "start_time": "2022-06-23T14:04:06.225Z"
   },
   {
    "duration": 5,
    "start_time": "2022-06-23T14:04:38.140Z"
   },
   {
    "duration": 3387,
    "start_time": "2022-06-23T14:07:53.483Z"
   },
   {
    "duration": 61,
    "start_time": "2022-06-23T14:10:19.773Z"
   },
   {
    "duration": 2501,
    "start_time": "2022-06-23T14:11:19.893Z"
   },
   {
    "duration": 3545,
    "start_time": "2022-06-23T14:11:22.397Z"
   },
   {
    "duration": 340,
    "start_time": "2022-06-23T14:11:25.945Z"
   },
   {
    "duration": 1560,
    "start_time": "2022-06-23T14:11:26.288Z"
   },
   {
    "duration": 142234,
    "start_time": "2022-06-23T14:11:27.851Z"
   },
   {
    "duration": 6,
    "start_time": "2022-06-23T14:13:50.087Z"
   },
   {
    "duration": 4638,
    "start_time": "2022-06-23T14:13:50.095Z"
   },
   {
    "duration": 10,
    "start_time": "2022-06-23T14:13:54.735Z"
   },
   {
    "duration": 199,
    "start_time": "2022-06-23T14:13:54.747Z"
   },
   {
    "duration": 5,
    "start_time": "2022-06-23T14:13:54.948Z"
   },
   {
    "duration": 7623,
    "start_time": "2022-06-23T14:13:54.955Z"
   },
   {
    "duration": 20560,
    "start_time": "2022-06-23T14:14:02.580Z"
   },
   {
    "duration": 8052,
    "start_time": "2022-06-23T14:14:23.142Z"
   },
   {
    "duration": 51554,
    "start_time": "2022-06-23T14:14:31.197Z"
   },
   {
    "duration": 3,
    "start_time": "2022-06-23T14:15:22.842Z"
   },
   {
    "duration": 52907,
    "start_time": "2022-06-23T14:15:22.846Z"
   },
   {
    "duration": 3,
    "start_time": "2022-06-23T14:16:15.756Z"
   },
   {
    "duration": 42948,
    "start_time": "2022-06-23T14:16:15.761Z"
   },
   {
    "duration": 4,
    "start_time": "2022-06-23T14:16:58.711Z"
   },
   {
    "duration": 113458,
    "start_time": "2022-06-23T14:16:58.716Z"
   },
   {
    "duration": 14,
    "start_time": "2022-06-23T14:18:52.177Z"
   },
   {
    "duration": 62693,
    "start_time": "2022-06-23T14:18:52.193Z"
   },
   {
    "duration": 16,
    "start_time": "2022-06-23T14:19:54.890Z"
   },
   {
    "duration": 3,
    "start_time": "2022-06-23T14:19:54.908Z"
   },
   {
    "duration": 10,
    "start_time": "2022-06-23T14:19:54.912Z"
   },
   {
    "duration": 29,
    "start_time": "2022-06-23T14:19:54.924Z"
   },
   {
    "duration": 14,
    "start_time": "2022-06-23T14:19:54.956Z"
   },
   {
    "duration": 706,
    "start_time": "2022-06-23T14:19:54.972Z"
   },
   {
    "duration": 855,
    "start_time": "2022-06-23T14:19:55.680Z"
   },
   {
    "duration": 800,
    "start_time": "2022-06-23T14:19:56.542Z"
   },
   {
    "duration": 50699,
    "start_time": "2022-06-23T14:19:57.344Z"
   },
   {
    "duration": 5147,
    "start_time": "2022-06-23T14:20:48.046Z"
   },
   {
    "duration": 904,
    "start_time": "2022-06-23T14:20:53.195Z"
   },
   {
    "duration": 944,
    "start_time": "2022-06-23T14:54:59.408Z"
   },
   {
    "duration": 5566,
    "start_time": "2022-06-23T14:55:26.423Z"
   },
   {
    "duration": 1714,
    "start_time": "2022-06-23T14:59:50.494Z"
   },
   {
    "duration": 150,
    "start_time": "2022-06-23T15:00:10.768Z"
   },
   {
    "duration": 29,
    "start_time": "2022-06-23T15:00:18.194Z"
   },
   {
    "duration": 15,
    "start_time": "2022-06-23T15:00:57.017Z"
   },
   {
    "duration": 5,
    "start_time": "2022-06-23T15:01:13.594Z"
   },
   {
    "duration": 11,
    "start_time": "2022-06-23T15:01:18.514Z"
   },
   {
    "duration": 10,
    "start_time": "2022-06-23T15:01:44.839Z"
   },
   {
    "duration": 12,
    "start_time": "2022-06-23T15:01:47.212Z"
   },
   {
    "duration": 7,
    "start_time": "2022-06-23T15:02:05.489Z"
   },
   {
    "duration": 4,
    "start_time": "2022-06-23T15:02:11.290Z"
   },
   {
    "duration": 4,
    "start_time": "2022-06-23T15:03:06.331Z"
   },
   {
    "duration": 6,
    "start_time": "2022-06-23T15:03:14.469Z"
   },
   {
    "duration": 15,
    "start_time": "2022-06-23T15:03:16.221Z"
   },
   {
    "duration": 13,
    "start_time": "2022-06-23T15:03:28.277Z"
   },
   {
    "duration": 12,
    "start_time": "2022-06-23T15:03:38.375Z"
   },
   {
    "duration": 16,
    "start_time": "2022-06-23T15:05:48.539Z"
   },
   {
    "duration": 2220,
    "start_time": "2022-06-23T15:06:00.630Z"
   },
   {
    "duration": 938,
    "start_time": "2022-06-23T15:06:02.852Z"
   },
   {
    "duration": 381,
    "start_time": "2022-06-23T15:06:03.792Z"
   },
   {
    "duration": 1602,
    "start_time": "2022-06-23T15:06:04.175Z"
   },
   {
    "duration": 165349,
    "start_time": "2022-06-23T15:06:05.779Z"
   },
   {
    "duration": 30,
    "start_time": "2022-06-23T15:08:51.130Z"
   },
   {
    "duration": 5642,
    "start_time": "2022-06-23T15:08:51.162Z"
   },
   {
    "duration": 12,
    "start_time": "2022-06-23T15:08:56.807Z"
   },
   {
    "duration": 269,
    "start_time": "2022-06-23T15:08:56.822Z"
   },
   {
    "duration": 6,
    "start_time": "2022-06-23T15:08:57.094Z"
   },
   {
    "duration": 8982,
    "start_time": "2022-06-23T15:08:57.102Z"
   },
   {
    "duration": 23178,
    "start_time": "2022-06-23T15:09:06.093Z"
   },
   {
    "duration": 9731,
    "start_time": "2022-06-23T15:09:29.272Z"
   },
   {
    "duration": 57901,
    "start_time": "2022-06-23T15:09:39.007Z"
   },
   {
    "duration": 13,
    "start_time": "2022-06-23T15:10:36.942Z"
   },
   {
    "duration": 58692,
    "start_time": "2022-06-23T15:10:36.966Z"
   },
   {
    "duration": 8,
    "start_time": "2022-06-23T15:11:35.662Z"
   },
   {
    "duration": 47333,
    "start_time": "2022-06-23T15:11:35.673Z"
   },
   {
    "duration": 3,
    "start_time": "2022-06-23T15:12:23.008Z"
   },
   {
    "duration": 126767,
    "start_time": "2022-06-23T15:12:23.012Z"
   },
   {
    "duration": 14,
    "start_time": "2022-06-23T15:14:29.781Z"
   },
   {
    "duration": 69686,
    "start_time": "2022-06-23T15:14:29.797Z"
   },
   {
    "duration": 15,
    "start_time": "2022-06-23T15:15:39.485Z"
   },
   {
    "duration": 3,
    "start_time": "2022-06-23T15:15:39.501Z"
   },
   {
    "duration": 5,
    "start_time": "2022-06-23T15:15:39.507Z"
   },
   {
    "duration": 40,
    "start_time": "2022-06-23T15:15:39.514Z"
   },
   {
    "duration": 31,
    "start_time": "2022-06-23T15:15:39.556Z"
   },
   {
    "duration": 778,
    "start_time": "2022-06-23T15:15:39.589Z"
   },
   {
    "duration": 999,
    "start_time": "2022-06-23T15:15:40.369Z"
   },
   {
    "duration": 823,
    "start_time": "2022-06-23T15:15:41.374Z"
   },
   {
    "duration": 57270,
    "start_time": "2022-06-23T15:15:42.198Z"
   },
   {
    "duration": 284,
    "start_time": "2022-06-23T15:16:39.471Z"
   },
   {
    "duration": 184,
    "start_time": "2022-06-23T15:16:39.763Z"
   },
   {
    "duration": 0,
    "start_time": "2022-06-23T15:16:39.952Z"
   },
   {
    "duration": 0,
    "start_time": "2022-06-23T15:16:39.953Z"
   },
   {
    "duration": 6,
    "start_time": "2022-06-23T15:17:22.036Z"
   },
   {
    "duration": 17,
    "start_time": "2022-06-23T15:17:39.165Z"
   },
   {
    "duration": 9,
    "start_time": "2022-06-23T15:17:44.961Z"
   },
   {
    "duration": 14,
    "start_time": "2022-06-23T15:17:55.098Z"
   },
   {
    "duration": 13,
    "start_time": "2022-06-23T15:18:55.195Z"
   },
   {
    "duration": 6,
    "start_time": "2022-06-23T15:19:35.128Z"
   },
   {
    "duration": 20,
    "start_time": "2022-06-23T15:20:38.517Z"
   },
   {
    "duration": 21,
    "start_time": "2022-06-23T15:20:42.405Z"
   },
   {
    "duration": 12,
    "start_time": "2022-06-23T15:20:46.836Z"
   },
   {
    "duration": 5,
    "start_time": "2022-06-23T15:20:57.629Z"
   },
   {
    "duration": 24,
    "start_time": "2022-06-23T15:21:03.135Z"
   },
   {
    "duration": 5,
    "start_time": "2022-06-23T15:21:11.903Z"
   },
   {
    "duration": 11,
    "start_time": "2022-06-23T15:21:52.969Z"
   },
   {
    "duration": 2162,
    "start_time": "2022-06-23T15:22:45.789Z"
   },
   {
    "duration": 1125,
    "start_time": "2022-06-23T15:22:47.954Z"
   },
   {
    "duration": 394,
    "start_time": "2022-06-23T15:22:49.089Z"
   },
   {
    "duration": 2132,
    "start_time": "2022-06-23T15:22:49.492Z"
   },
   {
    "duration": 183685,
    "start_time": "2022-06-23T15:22:51.628Z"
   },
   {
    "duration": 8,
    "start_time": "2022-06-23T15:25:55.315Z"
   },
   {
    "duration": 5748,
    "start_time": "2022-06-23T15:25:55.325Z"
   },
   {
    "duration": 38,
    "start_time": "2022-06-23T15:26:01.075Z"
   },
   {
    "duration": 208,
    "start_time": "2022-06-23T15:26:01.115Z"
   },
   {
    "duration": 4,
    "start_time": "2022-06-23T15:26:01.326Z"
   },
   {
    "duration": 9403,
    "start_time": "2022-06-23T15:26:01.332Z"
   },
   {
    "duration": 24516,
    "start_time": "2022-06-23T15:26:10.736Z"
   },
   {
    "duration": 9691,
    "start_time": "2022-06-23T15:26:35.254Z"
   },
   {
    "duration": 56498,
    "start_time": "2022-06-23T15:26:44.949Z"
   },
   {
    "duration": 4,
    "start_time": "2022-06-23T15:27:41.450Z"
   },
   {
    "duration": 54404,
    "start_time": "2022-06-23T15:27:41.456Z"
   },
   {
    "duration": 7,
    "start_time": "2022-06-23T15:28:35.862Z"
   },
   {
    "duration": 44700,
    "start_time": "2022-06-23T15:28:35.874Z"
   },
   {
    "duration": 4,
    "start_time": "2022-06-23T15:29:20.575Z"
   },
   {
    "duration": 6,
    "start_time": "2022-06-23T15:29:20.581Z"
   },
   {
    "duration": 17,
    "start_time": "2022-06-23T15:29:20.589Z"
   },
   {
    "duration": 4,
    "start_time": "2022-06-23T15:29:20.608Z"
   },
   {
    "duration": 34,
    "start_time": "2022-06-23T15:29:20.614Z"
   },
   {
    "duration": 2,
    "start_time": "2022-06-23T15:29:20.657Z"
   },
   {
    "duration": 19,
    "start_time": "2022-06-23T15:29:20.661Z"
   },
   {
    "duration": 16,
    "start_time": "2022-06-23T15:29:20.682Z"
   },
   {
    "duration": 12,
    "start_time": "2022-06-23T15:29:20.700Z"
   },
   {
    "duration": 252,
    "start_time": "2022-06-23T15:29:20.714Z"
   },
   {
    "duration": 17,
    "start_time": "2022-06-23T15:29:20.970Z"
   },
   {
    "duration": 0,
    "start_time": "2022-06-23T15:29:20.989Z"
   },
   {
    "duration": 0,
    "start_time": "2022-06-23T15:29:20.990Z"
   },
   {
    "duration": 0,
    "start_time": "2022-06-23T15:29:20.992Z"
   },
   {
    "duration": 0,
    "start_time": "2022-06-23T15:29:20.994Z"
   },
   {
    "duration": 0,
    "start_time": "2022-06-23T15:29:20.996Z"
   },
   {
    "duration": 0,
    "start_time": "2022-06-23T15:29:20.997Z"
   },
   {
    "duration": 0,
    "start_time": "2022-06-23T15:29:20.999Z"
   },
   {
    "duration": 0,
    "start_time": "2022-06-23T15:29:21.000Z"
   },
   {
    "duration": 0,
    "start_time": "2022-06-23T15:29:21.003Z"
   },
   {
    "duration": 54309,
    "start_time": "2022-06-23T15:30:28.370Z"
   },
   {
    "duration": 290,
    "start_time": "2022-06-23T15:31:28.538Z"
   },
   {
    "duration": 29,
    "start_time": "2022-06-23T15:32:38.538Z"
   },
   {
    "duration": 7,
    "start_time": "2022-06-23T15:32:58.174Z"
   },
   {
    "duration": 12,
    "start_time": "2022-06-23T15:33:21.699Z"
   },
   {
    "duration": 14,
    "start_time": "2022-06-23T15:33:53.572Z"
   },
   {
    "duration": 6,
    "start_time": "2022-06-23T15:34:14.005Z"
   },
   {
    "duration": 15,
    "start_time": "2022-06-23T15:34:35.421Z"
   },
   {
    "duration": 21,
    "start_time": "2022-06-23T15:34:50.672Z"
   },
   {
    "duration": 6770,
    "start_time": "2022-06-23T15:35:03.195Z"
   },
   {
    "duration": 18,
    "start_time": "2022-06-23T15:35:33.267Z"
   },
   {
    "duration": 409,
    "start_time": "2022-06-23T15:35:44.585Z"
   },
   {
    "duration": 1484,
    "start_time": "2022-06-23T15:37:09.895Z"
   },
   {
    "duration": 11,
    "start_time": "2022-06-23T15:37:21.140Z"
   },
   {
    "duration": 1595,
    "start_time": "2022-06-23T15:37:36.507Z"
   },
   {
    "duration": 9,
    "start_time": "2022-06-23T15:37:47.118Z"
   },
   {
    "duration": 1537,
    "start_time": "2022-06-23T15:37:56.653Z"
   },
   {
    "duration": 1698,
    "start_time": "2022-06-23T15:38:03.667Z"
   },
   {
    "duration": 1444,
    "start_time": "2022-06-23T15:38:12.151Z"
   },
   {
    "duration": 12,
    "start_time": "2022-06-23T15:38:26.251Z"
   },
   {
    "duration": 14,
    "start_time": "2022-06-23T15:38:29.893Z"
   },
   {
    "duration": 4,
    "start_time": "2022-06-23T15:38:39.532Z"
   },
   {
    "duration": 6,
    "start_time": "2022-06-23T15:39:27.058Z"
   },
   {
    "duration": 5,
    "start_time": "2022-06-23T15:39:32.621Z"
   },
   {
    "duration": 11,
    "start_time": "2022-06-23T15:39:43.215Z"
   },
   {
    "duration": 6,
    "start_time": "2022-06-23T15:39:59.096Z"
   },
   {
    "duration": 38,
    "start_time": "2022-06-23T15:40:16.842Z"
   },
   {
    "duration": 12,
    "start_time": "2022-06-23T15:40:47.798Z"
   },
   {
    "duration": 14,
    "start_time": "2022-06-23T15:41:22.033Z"
   },
   {
    "duration": 13,
    "start_time": "2022-06-23T15:42:07.209Z"
   },
   {
    "duration": 4,
    "start_time": "2022-06-23T15:42:13.971Z"
   },
   {
    "duration": 5,
    "start_time": "2022-06-23T15:42:21.801Z"
   },
   {
    "duration": 23,
    "start_time": "2022-06-23T15:42:48.533Z"
   },
   {
    "duration": 6,
    "start_time": "2022-06-23T15:42:55.702Z"
   },
   {
    "duration": 12,
    "start_time": "2022-06-23T15:44:09.790Z"
   },
   {
    "duration": 12,
    "start_time": "2022-06-23T15:44:24.326Z"
   },
   {
    "duration": 12,
    "start_time": "2022-06-23T15:44:30.204Z"
   },
   {
    "duration": 7,
    "start_time": "2022-06-23T15:45:26.167Z"
   },
   {
    "duration": 8,
    "start_time": "2022-06-23T15:46:40.669Z"
   },
   {
    "duration": 19,
    "start_time": "2022-06-23T15:47:07.000Z"
   },
   {
    "duration": 15,
    "start_time": "2022-06-23T15:47:18.194Z"
   },
   {
    "duration": 21,
    "start_time": "2022-06-23T15:47:36.811Z"
   },
   {
    "duration": 19,
    "start_time": "2022-06-23T15:47:45.445Z"
   },
   {
    "duration": 17,
    "start_time": "2022-06-23T15:47:53.475Z"
   },
   {
    "duration": 15,
    "start_time": "2022-06-23T15:48:03.820Z"
   },
   {
    "duration": 4,
    "start_time": "2022-06-23T15:56:59.298Z"
   },
   {
    "duration": 1704,
    "start_time": "2022-06-24T09:08:05.637Z"
   },
   {
    "duration": 713,
    "start_time": "2022-06-24T09:08:07.342Z"
   },
   {
    "duration": 227,
    "start_time": "2022-06-24T09:08:08.056Z"
   },
   {
    "duration": 1156,
    "start_time": "2022-06-24T09:08:08.284Z"
   },
   {
    "duration": 118461,
    "start_time": "2022-06-24T09:08:09.443Z"
   },
   {
    "duration": 5,
    "start_time": "2022-06-24T09:10:07.905Z"
   },
   {
    "duration": 4013,
    "start_time": "2022-06-24T09:10:07.911Z"
   },
   {
    "duration": 9,
    "start_time": "2022-06-24T09:10:11.926Z"
   },
   {
    "duration": 147,
    "start_time": "2022-06-24T09:10:11.937Z"
   },
   {
    "duration": 4,
    "start_time": "2022-06-24T09:10:12.085Z"
   },
   {
    "duration": 6278,
    "start_time": "2022-06-24T09:10:12.090Z"
   },
   {
    "duration": 16011,
    "start_time": "2022-06-24T09:10:18.370Z"
   },
   {
    "duration": 6925,
    "start_time": "2022-06-24T09:10:34.383Z"
   },
   {
    "duration": 41518,
    "start_time": "2022-06-24T09:10:41.311Z"
   },
   {
    "duration": 2,
    "start_time": "2022-06-24T09:11:22.831Z"
   },
   {
    "duration": 43698,
    "start_time": "2022-06-24T09:11:22.834Z"
   },
   {
    "duration": 3,
    "start_time": "2022-06-24T09:12:06.533Z"
   },
   {
    "duration": 33981,
    "start_time": "2022-06-24T09:12:06.538Z"
   },
   {
    "duration": 3,
    "start_time": "2022-06-24T09:12:40.520Z"
   },
   {
    "duration": 5,
    "start_time": "2022-06-24T09:12:40.529Z"
   },
   {
    "duration": 15,
    "start_time": "2022-06-24T09:12:40.535Z"
   },
   {
    "duration": 6,
    "start_time": "2022-06-24T09:12:40.552Z"
   },
   {
    "duration": 15,
    "start_time": "2022-06-24T09:12:40.560Z"
   },
   {
    "duration": 3,
    "start_time": "2022-06-24T09:12:40.576Z"
   },
   {
    "duration": 6,
    "start_time": "2022-06-24T09:12:40.580Z"
   },
   {
    "duration": 14,
    "start_time": "2022-06-24T09:12:40.587Z"
   },
   {
    "duration": 28,
    "start_time": "2022-06-24T09:12:40.603Z"
   },
   {
    "duration": 4,
    "start_time": "2022-06-24T09:12:40.632Z"
   },
   {
    "duration": 6,
    "start_time": "2022-06-24T09:12:40.637Z"
   },
   {
    "duration": 5,
    "start_time": "2022-06-24T09:12:40.644Z"
   },
   {
    "duration": 41281,
    "start_time": "2022-06-24T09:12:40.650Z"
   },
   {
    "duration": 3719,
    "start_time": "2022-06-24T09:13:21.933Z"
   },
   {
    "duration": 743,
    "start_time": "2022-06-24T09:13:25.654Z"
   },
   {
    "duration": 360,
    "start_time": "2022-06-24T09:16:57.282Z"
   },
   {
    "duration": 4,
    "start_time": "2022-06-24T09:17:22.169Z"
   },
   {
    "duration": 32,
    "start_time": "2022-06-24T09:17:25.212Z"
   },
   {
    "duration": 6,
    "start_time": "2022-06-24T09:18:17.099Z"
   },
   {
    "duration": 25,
    "start_time": "2022-06-24T09:18:52.373Z"
   },
   {
    "duration": 26,
    "start_time": "2022-06-24T09:19:05.280Z"
   },
   {
    "duration": 36,
    "start_time": "2022-06-24T09:19:26.852Z"
   },
   {
    "duration": 11,
    "start_time": "2022-06-24T09:19:38.021Z"
   },
   {
    "duration": 6,
    "start_time": "2022-06-24T09:22:50.703Z"
   },
   {
    "duration": 7,
    "start_time": "2022-06-24T09:23:00.686Z"
   },
   {
    "duration": 7,
    "start_time": "2022-06-24T09:23:54.727Z"
   },
   {
    "duration": 12,
    "start_time": "2022-06-24T09:24:05.893Z"
   },
   {
    "duration": 9,
    "start_time": "2022-06-24T09:24:16.025Z"
   },
   {
    "duration": 6,
    "start_time": "2022-06-24T09:25:16.539Z"
   },
   {
    "duration": 7,
    "start_time": "2022-06-24T09:30:29.809Z"
   },
   {
    "duration": 7,
    "start_time": "2022-06-24T09:30:52.811Z"
   },
   {
    "duration": 5,
    "start_time": "2022-06-24T09:34:46.929Z"
   },
   {
    "duration": 7,
    "start_time": "2022-06-24T09:35:35.040Z"
   },
   {
    "duration": 139,
    "start_time": "2022-06-24T09:37:34.756Z"
   },
   {
    "duration": 5,
    "start_time": "2022-06-24T09:37:42.975Z"
   },
   {
    "duration": 6282,
    "start_time": "2022-06-24T09:37:49.843Z"
   },
   {
    "duration": 161,
    "start_time": "2022-06-24T09:37:58.994Z"
   },
   {
    "duration": 214,
    "start_time": "2022-06-24T09:38:05.387Z"
   },
   {
    "duration": 1665,
    "start_time": "2022-06-24T09:44:25.260Z"
   },
   {
    "duration": 692,
    "start_time": "2022-06-24T09:44:26.927Z"
   },
   {
    "duration": 240,
    "start_time": "2022-06-24T09:44:27.621Z"
   },
   {
    "duration": 1188,
    "start_time": "2022-06-24T09:44:27.863Z"
   },
   {
    "duration": 120790,
    "start_time": "2022-06-24T09:44:29.053Z"
   },
   {
    "duration": 5,
    "start_time": "2022-06-24T09:46:29.844Z"
   },
   {
    "duration": 4056,
    "start_time": "2022-06-24T09:46:29.850Z"
   },
   {
    "duration": 22,
    "start_time": "2022-06-24T09:46:33.908Z"
   },
   {
    "duration": 162,
    "start_time": "2022-06-24T09:46:33.932Z"
   },
   {
    "duration": 4,
    "start_time": "2022-06-24T09:46:34.096Z"
   },
   {
    "duration": 7295,
    "start_time": "2022-06-24T09:46:34.102Z"
   },
   {
    "duration": 16307,
    "start_time": "2022-06-24T09:46:41.399Z"
   },
   {
    "duration": 6658,
    "start_time": "2022-06-24T09:46:57.708Z"
   },
   {
    "duration": 42165,
    "start_time": "2022-06-24T09:47:04.369Z"
   },
   {
    "duration": 3,
    "start_time": "2022-06-24T09:47:46.535Z"
   },
   {
    "duration": 40795,
    "start_time": "2022-06-24T09:47:46.539Z"
   },
   {
    "duration": 91,
    "start_time": "2022-06-24T09:48:27.339Z"
   },
   {
    "duration": 34666,
    "start_time": "2022-06-24T09:48:27.431Z"
   },
   {
    "duration": 2,
    "start_time": "2022-06-24T09:49:02.099Z"
   },
   {
    "duration": 12,
    "start_time": "2022-06-24T09:49:02.103Z"
   },
   {
    "duration": 32,
    "start_time": "2022-06-24T09:49:02.116Z"
   },
   {
    "duration": 13,
    "start_time": "2022-06-24T09:49:02.150Z"
   },
   {
    "duration": 30,
    "start_time": "2022-06-24T09:49:02.164Z"
   },
   {
    "duration": 3,
    "start_time": "2022-06-24T09:49:02.195Z"
   },
   {
    "duration": 14,
    "start_time": "2022-06-24T09:49:02.200Z"
   },
   {
    "duration": 14,
    "start_time": "2022-06-24T09:49:02.215Z"
   },
   {
    "duration": 11,
    "start_time": "2022-06-24T09:49:02.231Z"
   },
   {
    "duration": 12,
    "start_time": "2022-06-24T09:49:02.244Z"
   },
   {
    "duration": 14,
    "start_time": "2022-06-24T09:49:02.258Z"
   },
   {
    "duration": 15,
    "start_time": "2022-06-24T09:49:02.273Z"
   },
   {
    "duration": 13,
    "start_time": "2022-06-24T09:49:02.289Z"
   },
   {
    "duration": 22,
    "start_time": "2022-06-24T09:49:02.303Z"
   },
   {
    "duration": 2886,
    "start_time": "2022-06-24T09:49:02.327Z"
   },
   {
    "duration": 41516,
    "start_time": "2022-06-24T09:49:05.215Z"
   },
   {
    "duration": 3764,
    "start_time": "2022-06-24T09:49:46.732Z"
   },
   {
    "duration": 294,
    "start_time": "2022-06-24T10:57:41.207Z"
   },
   {
    "duration": 145,
    "start_time": "2022-06-24T10:57:50.124Z"
   },
   {
    "duration": 6794,
    "start_time": "2022-06-24T10:57:52.987Z"
   },
   {
    "duration": 165,
    "start_time": "2022-06-24T10:57:59.783Z"
   },
   {
    "duration": 300,
    "start_time": "2022-06-24T10:58:06.630Z"
   },
   {
    "duration": 1911,
    "start_time": "2022-06-24T10:59:31.891Z"
   },
   {
    "duration": 825,
    "start_time": "2022-06-24T10:59:33.804Z"
   },
   {
    "duration": 308,
    "start_time": "2022-06-24T10:59:34.631Z"
   },
   {
    "duration": 1411,
    "start_time": "2022-06-24T10:59:34.941Z"
   },
   {
    "duration": 127493,
    "start_time": "2022-06-24T10:59:36.354Z"
   },
   {
    "duration": 8,
    "start_time": "2022-06-24T11:01:43.849Z"
   },
   {
    "duration": 4329,
    "start_time": "2022-06-24T11:01:43.860Z"
   },
   {
    "duration": 7,
    "start_time": "2022-06-24T11:01:48.191Z"
   },
   {
    "duration": 169,
    "start_time": "2022-06-24T11:01:48.199Z"
   },
   {
    "duration": 4,
    "start_time": "2022-06-24T11:01:48.369Z"
   },
   {
    "duration": 7217,
    "start_time": "2022-06-24T11:01:48.375Z"
   },
   {
    "duration": 17731,
    "start_time": "2022-06-24T11:01:55.595Z"
   },
   {
    "duration": 7556,
    "start_time": "2022-06-24T11:02:13.330Z"
   },
   {
    "duration": 46054,
    "start_time": "2022-06-24T11:02:20.891Z"
   },
   {
    "duration": 83,
    "start_time": "2022-06-24T11:03:06.947Z"
   },
   {
    "duration": 46298,
    "start_time": "2022-06-24T11:03:07.032Z"
   },
   {
    "duration": 2,
    "start_time": "2022-06-24T11:03:53.332Z"
   },
   {
    "duration": 34657,
    "start_time": "2022-06-24T11:03:53.336Z"
   },
   {
    "duration": 2,
    "start_time": "2022-06-24T11:04:27.995Z"
   },
   {
    "duration": 6,
    "start_time": "2022-06-24T11:04:27.998Z"
   },
   {
    "duration": 23,
    "start_time": "2022-06-24T11:04:28.006Z"
   },
   {
    "duration": 2,
    "start_time": "2022-06-24T11:04:28.031Z"
   },
   {
    "duration": 16,
    "start_time": "2022-06-24T11:04:28.034Z"
   },
   {
    "duration": 2,
    "start_time": "2022-06-24T11:04:28.052Z"
   },
   {
    "duration": 5,
    "start_time": "2022-06-24T11:04:28.056Z"
   },
   {
    "duration": 14,
    "start_time": "2022-06-24T11:04:28.062Z"
   },
   {
    "duration": 11,
    "start_time": "2022-06-24T11:04:28.077Z"
   },
   {
    "duration": 6,
    "start_time": "2022-06-24T11:04:28.090Z"
   },
   {
    "duration": 4,
    "start_time": "2022-06-24T11:04:28.098Z"
   },
   {
    "duration": 4,
    "start_time": "2022-06-24T11:04:28.103Z"
   },
   {
    "duration": 6,
    "start_time": "2022-06-24T11:04:28.129Z"
   },
   {
    "duration": 5,
    "start_time": "2022-06-24T11:04:28.137Z"
   },
   {
    "duration": 125,
    "start_time": "2022-06-24T11:04:28.143Z"
   },
   {
    "duration": 0,
    "start_time": "2022-06-24T11:04:28.270Z"
   },
   {
    "duration": 0,
    "start_time": "2022-06-24T11:04:28.271Z"
   },
   {
    "duration": 142,
    "start_time": "2022-06-24T11:09:30.472Z"
   },
   {
    "duration": 204,
    "start_time": "2022-06-24T11:09:46.540Z"
   },
   {
    "duration": 177,
    "start_time": "2022-06-24T11:11:48.085Z"
   },
   {
    "duration": 220,
    "start_time": "2022-06-24T11:11:52.830Z"
   },
   {
    "duration": 200,
    "start_time": "2022-06-24T11:12:01.148Z"
   },
   {
    "duration": 182,
    "start_time": "2022-06-24T11:15:51.426Z"
   },
   {
    "duration": 194,
    "start_time": "2022-06-24T11:15:56.427Z"
   },
   {
    "duration": 183,
    "start_time": "2022-06-24T11:16:02.875Z"
   },
   {
    "duration": 204,
    "start_time": "2022-06-24T11:17:10.520Z"
   },
   {
    "duration": 182,
    "start_time": "2022-06-24T11:17:15.523Z"
   },
   {
    "duration": 178,
    "start_time": "2022-06-24T11:17:21.250Z"
   },
   {
    "duration": 192,
    "start_time": "2022-06-24T11:18:03.830Z"
   },
   {
    "duration": 193,
    "start_time": "2022-06-24T11:18:50.279Z"
   },
   {
    "duration": 1713,
    "start_time": "2022-06-24T11:31:58.509Z"
   },
   {
    "duration": 774,
    "start_time": "2022-06-24T11:32:00.224Z"
   },
   {
    "duration": 291,
    "start_time": "2022-06-24T11:32:01.000Z"
   },
   {
    "duration": 1230,
    "start_time": "2022-06-24T11:32:01.293Z"
   },
   {
    "duration": 125918,
    "start_time": "2022-06-24T11:32:02.524Z"
   },
   {
    "duration": 5,
    "start_time": "2022-06-24T11:34:08.444Z"
   },
   {
    "duration": 4332,
    "start_time": "2022-06-24T11:34:08.451Z"
   },
   {
    "duration": 9,
    "start_time": "2022-06-24T11:34:12.785Z"
   },
   {
    "duration": 179,
    "start_time": "2022-06-24T11:34:12.796Z"
   },
   {
    "duration": 4,
    "start_time": "2022-06-24T11:34:12.979Z"
   },
   {
    "duration": 6759,
    "start_time": "2022-06-24T11:34:12.985Z"
   },
   {
    "duration": 17557,
    "start_time": "2022-06-24T11:34:19.746Z"
   },
   {
    "duration": 6944,
    "start_time": "2022-06-24T11:34:37.305Z"
   },
   {
    "duration": 45690,
    "start_time": "2022-06-24T11:34:44.250Z"
   },
   {
    "duration": 5,
    "start_time": "2022-06-24T11:35:29.945Z"
   },
   {
    "duration": 7,
    "start_time": "2022-06-24T11:35:29.953Z"
   },
   {
    "duration": 5,
    "start_time": "2022-06-24T11:35:30.033Z"
   },
   {
    "duration": 34552,
    "start_time": "2022-06-24T11:35:30.040Z"
   },
   {
    "duration": 3,
    "start_time": "2022-06-24T11:36:04.594Z"
   },
   {
    "duration": 6,
    "start_time": "2022-06-24T11:36:04.598Z"
   },
   {
    "duration": 35,
    "start_time": "2022-06-24T11:36:04.605Z"
   },
   {
    "duration": 6,
    "start_time": "2022-06-24T11:36:04.642Z"
   },
   {
    "duration": 23,
    "start_time": "2022-06-24T11:36:04.650Z"
   },
   {
    "duration": 2,
    "start_time": "2022-06-24T11:36:04.675Z"
   },
   {
    "duration": 5,
    "start_time": "2022-06-24T11:36:04.678Z"
   },
   {
    "duration": 15,
    "start_time": "2022-06-24T11:36:04.685Z"
   },
   {
    "duration": 15,
    "start_time": "2022-06-24T11:36:04.701Z"
   },
   {
    "duration": 37,
    "start_time": "2022-06-24T11:36:04.719Z"
   },
   {
    "duration": 7,
    "start_time": "2022-06-24T11:36:04.758Z"
   },
   {
    "duration": 4,
    "start_time": "2022-06-24T11:36:04.766Z"
   },
   {
    "duration": 4,
    "start_time": "2022-06-24T11:36:04.772Z"
   },
   {
    "duration": 6,
    "start_time": "2022-06-24T11:36:04.778Z"
   },
   {
    "duration": 6,
    "start_time": "2022-06-24T11:36:04.785Z"
   },
   {
    "duration": 226,
    "start_time": "2022-06-24T11:36:04.793Z"
   },
   {
    "duration": 192,
    "start_time": "2022-06-24T11:39:47.248Z"
   },
   {
    "duration": 1745,
    "start_time": "2022-06-24T11:40:42.456Z"
   },
   {
    "duration": 787,
    "start_time": "2022-06-24T11:40:44.203Z"
   },
   {
    "duration": 307,
    "start_time": "2022-06-24T11:40:44.992Z"
   },
   {
    "duration": 1320,
    "start_time": "2022-06-24T11:40:45.301Z"
   },
   {
    "duration": 127147,
    "start_time": "2022-06-24T11:40:46.623Z"
   },
   {
    "duration": 6,
    "start_time": "2022-06-24T11:42:53.771Z"
   },
   {
    "duration": 4302,
    "start_time": "2022-06-24T11:42:53.779Z"
   },
   {
    "duration": 6,
    "start_time": "2022-06-24T11:42:58.083Z"
   },
   {
    "duration": 174,
    "start_time": "2022-06-24T11:42:58.091Z"
   },
   {
    "duration": 3,
    "start_time": "2022-06-24T11:42:58.266Z"
   },
   {
    "duration": 6794,
    "start_time": "2022-06-24T11:42:58.270Z"
   },
   {
    "duration": 17159,
    "start_time": "2022-06-24T11:43:05.066Z"
   },
   {
    "duration": 6930,
    "start_time": "2022-06-24T11:43:22.229Z"
   },
   {
    "duration": 45088,
    "start_time": "2022-06-24T11:43:29.161Z"
   },
   {
    "duration": 5,
    "start_time": "2022-06-24T11:44:14.329Z"
   },
   {
    "duration": 15,
    "start_time": "2022-06-24T11:44:14.336Z"
   },
   {
    "duration": 5,
    "start_time": "2022-06-24T11:44:14.353Z"
   },
   {
    "duration": 34200,
    "start_time": "2022-06-24T11:44:14.359Z"
   },
   {
    "duration": 3,
    "start_time": "2022-06-24T11:44:48.561Z"
   },
   {
    "duration": 8,
    "start_time": "2022-06-24T11:44:48.565Z"
   },
   {
    "duration": 15,
    "start_time": "2022-06-24T11:44:48.575Z"
   },
   {
    "duration": 55010,
    "start_time": "2022-06-24T11:44:48.592Z"
   },
   {
    "duration": 12,
    "start_time": "2022-06-24T11:45:43.604Z"
   },
   {
    "duration": 11,
    "start_time": "2022-06-24T11:45:43.629Z"
   },
   {
    "duration": 9,
    "start_time": "2022-06-24T11:45:43.644Z"
   },
   {
    "duration": 18,
    "start_time": "2022-06-24T11:45:43.655Z"
   },
   {
    "duration": 13,
    "start_time": "2022-06-24T11:45:43.675Z"
   },
   {
    "duration": 593,
    "start_time": "2022-06-24T11:45:43.689Z"
   },
   {
    "duration": 758,
    "start_time": "2022-06-24T11:45:44.283Z"
   },
   {
    "duration": 593,
    "start_time": "2022-06-24T11:45:45.043Z"
   },
   {
    "duration": 179,
    "start_time": "2022-06-24T11:45:45.637Z"
   },
   {
    "duration": 629,
    "start_time": "2022-06-24T11:49:27.875Z"
   },
   {
    "duration": 123,
    "start_time": "2022-06-24T11:53:59.201Z"
   },
   {
    "duration": 6,
    "start_time": "2022-06-24T11:54:10.085Z"
   },
   {
    "duration": 343,
    "start_time": "2022-06-24T11:58:34.887Z"
   },
   {
    "duration": 4,
    "start_time": "2022-06-24T12:03:23.608Z"
   },
   {
    "duration": 13,
    "start_time": "2022-06-24T12:04:25.519Z"
   },
   {
    "duration": 1139,
    "start_time": "2022-06-24T12:14:10.412Z"
   },
   {
    "duration": 9,
    "start_time": "2022-06-24T12:20:35.439Z"
   },
   {
    "duration": 53784,
    "start_time": "2022-06-24T12:33:39.918Z"
   },
   {
    "duration": 53983,
    "start_time": "2022-06-24T12:36:25.093Z"
   },
   {
    "duration": 2657,
    "start_time": "2022-06-27T16:28:22.910Z"
   },
   {
    "duration": 3053,
    "start_time": "2022-06-27T16:28:25.570Z"
   },
   {
    "duration": 275,
    "start_time": "2022-06-27T16:28:28.625Z"
   },
   {
    "duration": 1280,
    "start_time": "2022-06-27T16:28:28.901Z"
   },
   {
    "duration": 132680,
    "start_time": "2022-06-27T16:28:30.182Z"
   },
   {
    "duration": 6,
    "start_time": "2022-06-27T16:30:42.863Z"
   },
   {
    "duration": 4328,
    "start_time": "2022-06-27T16:30:42.870Z"
   },
   {
    "duration": 8,
    "start_time": "2022-06-27T16:30:47.200Z"
   },
   {
    "duration": 182,
    "start_time": "2022-06-27T16:30:47.210Z"
   },
   {
    "duration": 4,
    "start_time": "2022-06-27T16:30:47.394Z"
   },
   {
    "duration": 6939,
    "start_time": "2022-06-27T16:30:47.399Z"
   },
   {
    "duration": 17961,
    "start_time": "2022-06-27T16:30:54.340Z"
   },
   {
    "duration": 7450,
    "start_time": "2022-06-27T16:31:12.303Z"
   },
   {
    "duration": 52004,
    "start_time": "2022-06-27T16:31:19.755Z"
   },
   {
    "duration": 124694,
    "start_time": "2022-06-27T16:32:11.761Z"
   },
   {
    "duration": 49399,
    "start_time": "2022-06-27T16:34:16.456Z"
   },
   {
    "duration": 63384,
    "start_time": "2022-06-27T16:35:05.857Z"
   },
   {
    "duration": 3,
    "start_time": "2022-06-27T16:36:09.243Z"
   },
   {
    "duration": 39994,
    "start_time": "2022-06-27T16:36:09.253Z"
   },
   {
    "duration": 4,
    "start_time": "2022-06-27T16:36:49.249Z"
   },
   {
    "duration": 99432,
    "start_time": "2022-06-27T16:36:49.255Z"
   },
   {
    "duration": 14,
    "start_time": "2022-06-27T16:38:28.688Z"
   },
   {
    "duration": 56569,
    "start_time": "2022-06-27T16:38:28.704Z"
   },
   {
    "duration": 12,
    "start_time": "2022-06-27T16:39:25.274Z"
   },
   {
    "duration": 81788,
    "start_time": "2022-06-27T16:39:25.288Z"
   },
   {
    "duration": 77886,
    "start_time": "2022-06-27T16:40:47.079Z"
   },
   {
    "duration": 14,
    "start_time": "2022-06-27T16:42:04.967Z"
   },
   {
    "duration": 13,
    "start_time": "2022-06-27T16:42:05.055Z"
   },
   {
    "duration": 637,
    "start_time": "2022-06-27T16:42:05.070Z"
   },
   {
    "duration": 777,
    "start_time": "2022-06-27T16:42:05.709Z"
   },
   {
    "duration": 628,
    "start_time": "2022-06-27T16:42:06.487Z"
   },
   {
    "duration": 5,
    "start_time": "2022-06-27T16:42:07.117Z"
   },
   {
    "duration": 224,
    "start_time": "2022-06-27T16:42:07.123Z"
   }
  ],
  "kernelspec": {
   "display_name": "Python 3 (ipykernel)",
   "language": "python",
   "name": "python3"
  },
  "language_info": {
   "codemirror_mode": {
    "name": "ipython",
    "version": 3
   },
   "file_extension": ".py",
   "mimetype": "text/x-python",
   "name": "python",
   "nbconvert_exporter": "python",
   "pygments_lexer": "ipython3",
   "version": "3.9.7"
  },
  "toc": {
   "base_numbering": 1,
   "nav_menu": {},
   "number_sections": true,
   "sideBar": true,
   "skip_h1_title": true,
   "title_cell": "Содержание",
   "title_sidebar": "Contents",
   "toc_cell": false,
   "toc_position": {
    "height": "calc(100% - 180px)",
    "left": "10px",
    "top": "150px",
    "width": "302.372px"
   },
   "toc_section_display": true,
   "toc_window_display": true
  }
 },
 "nbformat": 4,
 "nbformat_minor": 4
}

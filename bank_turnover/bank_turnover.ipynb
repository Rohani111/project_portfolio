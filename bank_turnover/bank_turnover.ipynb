{
 "cells": [
  {
   "cell_type": "markdown",
   "metadata": {},
   "source": [
    "<a id='section_id'></a>"
   ]
  },
  {
   "cell_type": "markdown",
   "metadata": {},
   "source": [
    "# Отток клиентов банка"
   ]
  },
  {
   "cell_type": "markdown",
   "metadata": {},
   "source": [
    "## Подготовка данных"
   ]
  },
  {
   "cell_type": "code",
   "execution_count": 1,
   "metadata": {},
   "outputs": [],
   "source": [
    "import pandas as pd\n",
    "import numpy as np\n",
    "import matplotlib.pyplot as plt \n",
    "from sklearn.model_selection import train_test_split, GridSearchCV\n",
    "from sklearn.tree import DecisionTreeClassifier \n",
    "from sklearn.ensemble import RandomForestClassifier\n",
    "from sklearn.linear_model import LogisticRegression\n",
    "from sklearn.metrics import classification_report, confusion_matrix, f1_score, roc_auc_score\n",
    "from sklearn.preprocessing import StandardScaler\n",
    "from sklearn.utils import shuffle"
   ]
  },
  {
   "cell_type": "code",
   "execution_count": 2,
   "metadata": {
    "scrolled": true
   },
   "outputs": [
    {
     "data": {
      "text/html": [
       "<div>\n",
       "<style scoped>\n",
       "    .dataframe tbody tr th:only-of-type {\n",
       "        vertical-align: middle;\n",
       "    }\n",
       "\n",
       "    .dataframe tbody tr th {\n",
       "        vertical-align: top;\n",
       "    }\n",
       "\n",
       "    .dataframe thead th {\n",
       "        text-align: right;\n",
       "    }\n",
       "</style>\n",
       "<table border=\"1\" class=\"dataframe\">\n",
       "  <thead>\n",
       "    <tr style=\"text-align: right;\">\n",
       "      <th></th>\n",
       "      <th>RowNumber</th>\n",
       "      <th>CustomerId</th>\n",
       "      <th>Surname</th>\n",
       "      <th>CreditScore</th>\n",
       "      <th>Geography</th>\n",
       "      <th>Gender</th>\n",
       "      <th>Age</th>\n",
       "      <th>Tenure</th>\n",
       "      <th>Balance</th>\n",
       "      <th>NumOfProducts</th>\n",
       "      <th>HasCrCard</th>\n",
       "      <th>IsActiveMember</th>\n",
       "      <th>EstimatedSalary</th>\n",
       "      <th>Exited</th>\n",
       "    </tr>\n",
       "  </thead>\n",
       "  <tbody>\n",
       "    <tr>\n",
       "      <th>0</th>\n",
       "      <td>1</td>\n",
       "      <td>15634602</td>\n",
       "      <td>Hargrave</td>\n",
       "      <td>619</td>\n",
       "      <td>France</td>\n",
       "      <td>Female</td>\n",
       "      <td>42</td>\n",
       "      <td>2.0</td>\n",
       "      <td>0.00</td>\n",
       "      <td>1</td>\n",
       "      <td>1</td>\n",
       "      <td>1</td>\n",
       "      <td>101348.88</td>\n",
       "      <td>1</td>\n",
       "    </tr>\n",
       "    <tr>\n",
       "      <th>1</th>\n",
       "      <td>2</td>\n",
       "      <td>15647311</td>\n",
       "      <td>Hill</td>\n",
       "      <td>608</td>\n",
       "      <td>Spain</td>\n",
       "      <td>Female</td>\n",
       "      <td>41</td>\n",
       "      <td>1.0</td>\n",
       "      <td>83807.86</td>\n",
       "      <td>1</td>\n",
       "      <td>0</td>\n",
       "      <td>1</td>\n",
       "      <td>112542.58</td>\n",
       "      <td>0</td>\n",
       "    </tr>\n",
       "    <tr>\n",
       "      <th>2</th>\n",
       "      <td>3</td>\n",
       "      <td>15619304</td>\n",
       "      <td>Onio</td>\n",
       "      <td>502</td>\n",
       "      <td>France</td>\n",
       "      <td>Female</td>\n",
       "      <td>42</td>\n",
       "      <td>8.0</td>\n",
       "      <td>159660.80</td>\n",
       "      <td>3</td>\n",
       "      <td>1</td>\n",
       "      <td>0</td>\n",
       "      <td>113931.57</td>\n",
       "      <td>1</td>\n",
       "    </tr>\n",
       "  </tbody>\n",
       "</table>\n",
       "</div>"
      ],
      "text/plain": [
       "   RowNumber  CustomerId   Surname  CreditScore Geography  Gender  Age  \\\n",
       "0          1    15634602  Hargrave          619    France  Female   42   \n",
       "1          2    15647311      Hill          608     Spain  Female   41   \n",
       "2          3    15619304      Onio          502    France  Female   42   \n",
       "\n",
       "   Tenure    Balance  NumOfProducts  HasCrCard  IsActiveMember  \\\n",
       "0     2.0       0.00              1          1               1   \n",
       "1     1.0   83807.86              1          0               1   \n",
       "2     8.0  159660.80              3          1               0   \n",
       "\n",
       "   EstimatedSalary  Exited  \n",
       "0        101348.88       1  \n",
       "1        112542.58       0  \n",
       "2        113931.57       1  "
      ]
     },
     "execution_count": 2,
     "metadata": {},
     "output_type": "execute_result"
    }
   ],
   "source": [
    "df = pd.read_csv(\"/datasets/Churn.csv\")\n",
    "df.head(3)"
   ]
  },
  {
   "cell_type": "markdown",
   "metadata": {},
   "source": [
    "Сразу видим, что названия столбцов необходимо преобразовать, поскольку в их именах строчные буквы сочетаются с прописными."
   ]
  },
  {
   "cell_type": "code",
   "execution_count": 3,
   "metadata": {},
   "outputs": [
    {
     "data": {
      "text/plain": [
       "Index(['rownumber', 'customerid', 'surname', 'creditscore', 'geography',\n",
       "       'gender', 'age', 'tenure', 'balance', 'numofproducts', 'hascrcard',\n",
       "       'isactivemember', 'estimatedsalary', 'exited'],\n",
       "      dtype='object')"
      ]
     },
     "execution_count": 3,
     "metadata": {},
     "output_type": "execute_result"
    }
   ],
   "source": [
    "df.columns = df.columns.str.lower()\n",
    "df.columns"
   ]
  },
  {
   "cell_type": "code",
   "execution_count": 4,
   "metadata": {},
   "outputs": [],
   "source": [
    "df.columns = ['row_number', 'customer_id','surname', 'credit_score', 'geography', 'gender',\n",
    "                   'age', 'tenure', 'balance', 'number_of_products', 'has_credit_card',\n",
    "                   'is_active_member', 'estimated_salary', 'exited']"
   ]
  },
  {
   "cell_type": "code",
   "execution_count": 5,
   "metadata": {},
   "outputs": [
    {
     "name": "stdout",
     "output_type": "stream",
     "text": [
      "<class 'pandas.core.frame.DataFrame'>\n",
      "RangeIndex: 10000 entries, 0 to 9999\n",
      "Data columns (total 14 columns):\n",
      " #   Column              Non-Null Count  Dtype  \n",
      "---  ------              --------------  -----  \n",
      " 0   row_number          10000 non-null  int64  \n",
      " 1   customer_id         10000 non-null  int64  \n",
      " 2   surname             10000 non-null  object \n",
      " 3   credit_score        10000 non-null  int64  \n",
      " 4   geography           10000 non-null  object \n",
      " 5   gender              10000 non-null  object \n",
      " 6   age                 10000 non-null  int64  \n",
      " 7   tenure              9091 non-null   float64\n",
      " 8   balance             10000 non-null  float64\n",
      " 9   number_of_products  10000 non-null  int64  \n",
      " 10  has_credit_card     10000 non-null  int64  \n",
      " 11  is_active_member    10000 non-null  int64  \n",
      " 12  estimated_salary    10000 non-null  float64\n",
      " 13  exited              10000 non-null  int64  \n",
      "dtypes: float64(3), int64(8), object(3)\n",
      "memory usage: 1.1+ MB\n"
     ]
    }
   ],
   "source": [
    "#оценим общий массив данных\n",
    "df.info()"
   ]
  },
  {
   "cell_type": "markdown",
   "metadata": {},
   "source": [
    "Таблица имеет 10000 строк и 14 столбцов. Видим пропущенные значения только одном столбце tenure. **Восстановить пропуски невозможно, поэтому их лучше всего удалить (доля пропусков менее 10%).** \n",
    "В массиве представлены как категориальные (surname, geography, gender), так и количественные признаки. Для столбца tenure треубуется заменить тип данных с float на int, поскольку данные принимают только целочисленное значение."
   ]
  },
  {
   "cell_type": "code",
   "execution_count": 6,
   "metadata": {},
   "outputs": [
    {
     "data": {
      "text/plain": [
       "0"
      ]
     },
     "execution_count": 6,
     "metadata": {},
     "output_type": "execute_result"
    }
   ],
   "source": [
    "#проверим наличие явных дубликатов\n",
    "df.duplicated().sum()"
   ]
  },
  {
   "cell_type": "code",
   "execution_count": 7,
   "metadata": {},
   "outputs": [
    {
     "data": {
      "text/html": [
       "<div>\n",
       "<style scoped>\n",
       "    .dataframe tbody tr th:only-of-type {\n",
       "        vertical-align: middle;\n",
       "    }\n",
       "\n",
       "    .dataframe tbody tr th {\n",
       "        vertical-align: top;\n",
       "    }\n",
       "\n",
       "    .dataframe thead th {\n",
       "        text-align: right;\n",
       "    }\n",
       "</style>\n",
       "<table border=\"1\" class=\"dataframe\">\n",
       "  <thead>\n",
       "    <tr style=\"text-align: right;\">\n",
       "      <th></th>\n",
       "      <th>count</th>\n",
       "      <th>mean</th>\n",
       "      <th>std</th>\n",
       "      <th>min</th>\n",
       "      <th>25%</th>\n",
       "      <th>50%</th>\n",
       "      <th>75%</th>\n",
       "      <th>max</th>\n",
       "    </tr>\n",
       "  </thead>\n",
       "  <tbody>\n",
       "    <tr>\n",
       "      <th>row_number</th>\n",
       "      <td>10000.0</td>\n",
       "      <td>5.000500e+03</td>\n",
       "      <td>2886.895680</td>\n",
       "      <td>1.00</td>\n",
       "      <td>2500.75</td>\n",
       "      <td>5.000500e+03</td>\n",
       "      <td>7.500250e+03</td>\n",
       "      <td>10000.00</td>\n",
       "    </tr>\n",
       "    <tr>\n",
       "      <th>customer_id</th>\n",
       "      <td>10000.0</td>\n",
       "      <td>1.569094e+07</td>\n",
       "      <td>71936.186123</td>\n",
       "      <td>15565701.00</td>\n",
       "      <td>15628528.25</td>\n",
       "      <td>1.569074e+07</td>\n",
       "      <td>1.575323e+07</td>\n",
       "      <td>15815690.00</td>\n",
       "    </tr>\n",
       "    <tr>\n",
       "      <th>credit_score</th>\n",
       "      <td>10000.0</td>\n",
       "      <td>6.505288e+02</td>\n",
       "      <td>96.653299</td>\n",
       "      <td>350.00</td>\n",
       "      <td>584.00</td>\n",
       "      <td>6.520000e+02</td>\n",
       "      <td>7.180000e+02</td>\n",
       "      <td>850.00</td>\n",
       "    </tr>\n",
       "    <tr>\n",
       "      <th>age</th>\n",
       "      <td>10000.0</td>\n",
       "      <td>3.892180e+01</td>\n",
       "      <td>10.487806</td>\n",
       "      <td>18.00</td>\n",
       "      <td>32.00</td>\n",
       "      <td>3.700000e+01</td>\n",
       "      <td>4.400000e+01</td>\n",
       "      <td>92.00</td>\n",
       "    </tr>\n",
       "    <tr>\n",
       "      <th>tenure</th>\n",
       "      <td>9091.0</td>\n",
       "      <td>4.997690e+00</td>\n",
       "      <td>2.894723</td>\n",
       "      <td>0.00</td>\n",
       "      <td>2.00</td>\n",
       "      <td>5.000000e+00</td>\n",
       "      <td>7.000000e+00</td>\n",
       "      <td>10.00</td>\n",
       "    </tr>\n",
       "    <tr>\n",
       "      <th>balance</th>\n",
       "      <td>10000.0</td>\n",
       "      <td>7.648589e+04</td>\n",
       "      <td>62397.405202</td>\n",
       "      <td>0.00</td>\n",
       "      <td>0.00</td>\n",
       "      <td>9.719854e+04</td>\n",
       "      <td>1.276442e+05</td>\n",
       "      <td>250898.09</td>\n",
       "    </tr>\n",
       "    <tr>\n",
       "      <th>number_of_products</th>\n",
       "      <td>10000.0</td>\n",
       "      <td>1.530200e+00</td>\n",
       "      <td>0.581654</td>\n",
       "      <td>1.00</td>\n",
       "      <td>1.00</td>\n",
       "      <td>1.000000e+00</td>\n",
       "      <td>2.000000e+00</td>\n",
       "      <td>4.00</td>\n",
       "    </tr>\n",
       "    <tr>\n",
       "      <th>has_credit_card</th>\n",
       "      <td>10000.0</td>\n",
       "      <td>7.055000e-01</td>\n",
       "      <td>0.455840</td>\n",
       "      <td>0.00</td>\n",
       "      <td>0.00</td>\n",
       "      <td>1.000000e+00</td>\n",
       "      <td>1.000000e+00</td>\n",
       "      <td>1.00</td>\n",
       "    </tr>\n",
       "    <tr>\n",
       "      <th>is_active_member</th>\n",
       "      <td>10000.0</td>\n",
       "      <td>5.151000e-01</td>\n",
       "      <td>0.499797</td>\n",
       "      <td>0.00</td>\n",
       "      <td>0.00</td>\n",
       "      <td>1.000000e+00</td>\n",
       "      <td>1.000000e+00</td>\n",
       "      <td>1.00</td>\n",
       "    </tr>\n",
       "    <tr>\n",
       "      <th>estimated_salary</th>\n",
       "      <td>10000.0</td>\n",
       "      <td>1.000902e+05</td>\n",
       "      <td>57510.492818</td>\n",
       "      <td>11.58</td>\n",
       "      <td>51002.11</td>\n",
       "      <td>1.001939e+05</td>\n",
       "      <td>1.493882e+05</td>\n",
       "      <td>199992.48</td>\n",
       "    </tr>\n",
       "    <tr>\n",
       "      <th>exited</th>\n",
       "      <td>10000.0</td>\n",
       "      <td>2.037000e-01</td>\n",
       "      <td>0.402769</td>\n",
       "      <td>0.00</td>\n",
       "      <td>0.00</td>\n",
       "      <td>0.000000e+00</td>\n",
       "      <td>0.000000e+00</td>\n",
       "      <td>1.00</td>\n",
       "    </tr>\n",
       "  </tbody>\n",
       "</table>\n",
       "</div>"
      ],
      "text/plain": [
       "                      count          mean           std          min  \\\n",
       "row_number          10000.0  5.000500e+03   2886.895680         1.00   \n",
       "customer_id         10000.0  1.569094e+07  71936.186123  15565701.00   \n",
       "credit_score        10000.0  6.505288e+02     96.653299       350.00   \n",
       "age                 10000.0  3.892180e+01     10.487806        18.00   \n",
       "tenure               9091.0  4.997690e+00      2.894723         0.00   \n",
       "balance             10000.0  7.648589e+04  62397.405202         0.00   \n",
       "number_of_products  10000.0  1.530200e+00      0.581654         1.00   \n",
       "has_credit_card     10000.0  7.055000e-01      0.455840         0.00   \n",
       "is_active_member    10000.0  5.151000e-01      0.499797         0.00   \n",
       "estimated_salary    10000.0  1.000902e+05  57510.492818        11.58   \n",
       "exited              10000.0  2.037000e-01      0.402769         0.00   \n",
       "\n",
       "                            25%           50%           75%          max  \n",
       "row_number              2500.75  5.000500e+03  7.500250e+03     10000.00  \n",
       "customer_id         15628528.25  1.569074e+07  1.575323e+07  15815690.00  \n",
       "credit_score             584.00  6.520000e+02  7.180000e+02       850.00  \n",
       "age                       32.00  3.700000e+01  4.400000e+01        92.00  \n",
       "tenure                     2.00  5.000000e+00  7.000000e+00        10.00  \n",
       "balance                    0.00  9.719854e+04  1.276442e+05    250898.09  \n",
       "number_of_products         1.00  1.000000e+00  2.000000e+00         4.00  \n",
       "has_credit_card            0.00  1.000000e+00  1.000000e+00         1.00  \n",
       "is_active_member           0.00  1.000000e+00  1.000000e+00         1.00  \n",
       "estimated_salary       51002.11  1.001939e+05  1.493882e+05    199992.48  \n",
       "exited                     0.00  0.000000e+00  0.000000e+00         1.00  "
      ]
     },
     "execution_count": 7,
     "metadata": {},
     "output_type": "execute_result"
    }
   ],
   "source": [
    "#исследуем данные на наличие выбросов\n",
    "df.describe().T"
   ]
  },
  {
   "cell_type": "markdown",
   "metadata": {},
   "source": [
    "На первый взгляд мы не видим каких-либо серьезных выбросов. Например, минимальный возраст 18 лет, а максимальный 92, что вполне может быть правдой. Немного смущает минимальная зарплата на уровне 11.58. Построим ящик с усами для признака estimated_salary."
   ]
  },
  {
   "cell_type": "code",
   "execution_count": 8,
   "metadata": {
    "scrolled": true
   },
   "outputs": [
    {
     "data": {
      "text/plain": [
       "(-10000.0, 250000.0)"
      ]
     },
     "execution_count": 8,
     "metadata": {},
     "output_type": "execute_result"
    },
    {
     "data": {
      "image/png": "[encoded data removed]",
      "text/plain": [
       "<Figure size 432x288 with 1 Axes>"
      ]
     },
     "metadata": {
      "needs_background": "light"
     },
     "output_type": "display_data"
    }
   ],
   "source": [
    "df.boxplot(column='estimated_salary')\n",
    "plt.ylim(-10000, 250000)"
   ]
  },
  {
   "cell_type": "markdown",
   "metadata": {},
   "source": [
    "В размах «усов» попадают нормальные значения, а за пределами находятся выбросы. Таким образом, необходимости удалять строки с небольшими зарплатами нет."
   ]
  },
  {
   "cell_type": "markdown",
   "metadata": {},
   "source": [
    "Из представленных категориальных признаков нам могут быть интересны два: gender и geography. Посмотрим в разрезе двух этих признаков на всю выборку целиком и выборку положительных объектов ('exited' == 1)."
   ]
  },
  {
   "cell_type": "code",
   "execution_count": 9,
   "metadata": {},
   "outputs": [
    {
     "data": {
      "text/plain": [
       "'Общая выборка'"
      ]
     },
     "metadata": {},
     "output_type": "display_data"
    },
    {
     "data": {
      "text/plain": [
       "Male      0.5457\n",
       "Female    0.4543\n",
       "Name: gender, dtype: float64"
      ]
     },
     "metadata": {},
     "output_type": "display_data"
    },
    {
     "data": {
      "text/plain": [
       "'Положительная выборка'"
      ]
     },
     "metadata": {},
     "output_type": "display_data"
    },
    {
     "data": {
      "text/plain": [
       "Female    0.559156\n",
       "Male      0.440844\n",
       "Name: gender, dtype: float64"
      ]
     },
     "metadata": {},
     "output_type": "display_data"
    },
    {
     "data": {
      "text/plain": [
       "'Общая выборка'"
      ]
     },
     "metadata": {},
     "output_type": "display_data"
    },
    {
     "data": {
      "text/plain": [
       "France     0.5014\n",
       "Germany    0.2509\n",
       "Spain      0.2477\n",
       "Name: geography, dtype: float64"
      ]
     },
     "metadata": {},
     "output_type": "display_data"
    },
    {
     "data": {
      "text/plain": [
       "'Положительная выборка'"
      ]
     },
     "metadata": {},
     "output_type": "display_data"
    },
    {
     "data": {
      "text/plain": [
       "Germany    0.399607\n",
       "France     0.397644\n",
       "Spain      0.202749\n",
       "Name: geography, dtype: float64"
      ]
     },
     "metadata": {},
     "output_type": "display_data"
    }
   ],
   "source": [
    "df_target_ones = df.query('exited == 1')\n",
    "display(\"Общая выборка\", df['gender'].value_counts(normalize=True))\n",
    "display(\"Положительная выборка\", df_target_ones['gender'].value_counts(normalize=True))\n",
    "display(\"Общая выборка\", df['geography'].value_counts(normalize=True))\n",
    "display(\"Положительная выборка\", df_target_ones['geography'].value_counts(normalize=True))"
   ]
  },
  {
   "cell_type": "markdown",
   "metadata": {},
   "source": [
    "Мы видим, что в общей выборке мужчин больше чем женщин (55% vs 45%), а в положительной выборке пропорция сохранилась, только большинством уже стали женщины. Что касается стран, то здесь выделяется Германия, которая в общей выборке представляет 25% строк, а в положительной выборке уже почти 40%. Все это говорит нам, что оба признака могут влиять на обучение модели и их нужно оставить, преобразовав в количественные с помощью OHE. **Столбцы row_number, customer_id и surname мы можем удалить, поскольку они не несут полезной нагрузки.**"
   ]
  },
  {
   "cell_type": "code",
   "execution_count": 10,
   "metadata": {
    "scrolled": true
   },
   "outputs": [
    {
     "data": {
      "text/html": [
       "<div>\n",
       "<style scoped>\n",
       "    .dataframe tbody tr th:only-of-type {\n",
       "        vertical-align: middle;\n",
       "    }\n",
       "\n",
       "    .dataframe tbody tr th {\n",
       "        vertical-align: top;\n",
       "    }\n",
       "\n",
       "    .dataframe thead th {\n",
       "        text-align: right;\n",
       "    }\n",
       "</style>\n",
       "<table border=\"1\" class=\"dataframe\">\n",
       "  <thead>\n",
       "    <tr style=\"text-align: right;\">\n",
       "      <th></th>\n",
       "      <th>credit_score</th>\n",
       "      <th>gender</th>\n",
       "      <th>age</th>\n",
       "      <th>tenure</th>\n",
       "      <th>balance</th>\n",
       "      <th>number_of_products</th>\n",
       "      <th>has_credit_card</th>\n",
       "      <th>is_active_member</th>\n",
       "      <th>estimated_salary</th>\n",
       "      <th>exited</th>\n",
       "      <th>geography_France</th>\n",
       "      <th>geography_Germany</th>\n",
       "      <th>geography_Spain</th>\n",
       "    </tr>\n",
       "  </thead>\n",
       "  <tbody>\n",
       "    <tr>\n",
       "      <th>0</th>\n",
       "      <td>619</td>\n",
       "      <td>0</td>\n",
       "      <td>42</td>\n",
       "      <td>2.0</td>\n",
       "      <td>0.00</td>\n",
       "      <td>1</td>\n",
       "      <td>1</td>\n",
       "      <td>1</td>\n",
       "      <td>101348.88</td>\n",
       "      <td>1</td>\n",
       "      <td>1</td>\n",
       "      <td>0</td>\n",
       "      <td>0</td>\n",
       "    </tr>\n",
       "    <tr>\n",
       "      <th>1</th>\n",
       "      <td>608</td>\n",
       "      <td>0</td>\n",
       "      <td>41</td>\n",
       "      <td>1.0</td>\n",
       "      <td>83807.86</td>\n",
       "      <td>1</td>\n",
       "      <td>0</td>\n",
       "      <td>1</td>\n",
       "      <td>112542.58</td>\n",
       "      <td>0</td>\n",
       "      <td>0</td>\n",
       "      <td>0</td>\n",
       "      <td>1</td>\n",
       "    </tr>\n",
       "    <tr>\n",
       "      <th>2</th>\n",
       "      <td>502</td>\n",
       "      <td>0</td>\n",
       "      <td>42</td>\n",
       "      <td>8.0</td>\n",
       "      <td>159660.80</td>\n",
       "      <td>3</td>\n",
       "      <td>1</td>\n",
       "      <td>0</td>\n",
       "      <td>113931.57</td>\n",
       "      <td>1</td>\n",
       "      <td>1</td>\n",
       "      <td>0</td>\n",
       "      <td>0</td>\n",
       "    </tr>\n",
       "    <tr>\n",
       "      <th>3</th>\n",
       "      <td>699</td>\n",
       "      <td>0</td>\n",
       "      <td>39</td>\n",
       "      <td>1.0</td>\n",
       "      <td>0.00</td>\n",
       "      <td>2</td>\n",
       "      <td>0</td>\n",
       "      <td>0</td>\n",
       "      <td>93826.63</td>\n",
       "      <td>0</td>\n",
       "      <td>1</td>\n",
       "      <td>0</td>\n",
       "      <td>0</td>\n",
       "    </tr>\n",
       "    <tr>\n",
       "      <th>4</th>\n",
       "      <td>850</td>\n",
       "      <td>0</td>\n",
       "      <td>43</td>\n",
       "      <td>2.0</td>\n",
       "      <td>125510.82</td>\n",
       "      <td>1</td>\n",
       "      <td>1</td>\n",
       "      <td>1</td>\n",
       "      <td>79084.10</td>\n",
       "      <td>0</td>\n",
       "      <td>0</td>\n",
       "      <td>0</td>\n",
       "      <td>1</td>\n",
       "    </tr>\n",
       "  </tbody>\n",
       "</table>\n",
       "</div>"
      ],
      "text/plain": [
       "   credit_score  gender  age  tenure    balance  number_of_products  \\\n",
       "0           619       0   42     2.0       0.00                   1   \n",
       "1           608       0   41     1.0   83807.86                   1   \n",
       "2           502       0   42     8.0  159660.80                   3   \n",
       "3           699       0   39     1.0       0.00                   2   \n",
       "4           850       0   43     2.0  125510.82                   1   \n",
       "\n",
       "   has_credit_card  is_active_member  estimated_salary  exited  \\\n",
       "0                1                 1         101348.88       1   \n",
       "1                0                 1         112542.58       0   \n",
       "2                1                 0         113931.57       1   \n",
       "3                0                 0          93826.63       0   \n",
       "4                1                 1          79084.10       0   \n",
       "\n",
       "   geography_France  geography_Germany  geography_Spain  \n",
       "0                 1                  0                0  \n",
       "1                 0                  0                1  \n",
       "2                 1                  0                0  \n",
       "3                 1                  0                0  \n",
       "4                 0                  0                1  "
      ]
     },
     "execution_count": 10,
     "metadata": {},
     "output_type": "execute_result"
    }
   ],
   "source": [
    "df = df.drop(['row_number', 'customer_id', 'surname'], axis=1)\n",
    "#значения в столбце gender сильно связаны между собой, для избежания дамми-ловушки можно выбросить первый столбец. \n",
    "df[\"gender\"] = pd.get_dummies(df[\"gender\"],drop_first=True)\n",
    "#опытным путем было получено, что отбрасывание первого столбца при кодировании столбца geography ухудшает показатели метрик\n",
    "df = pd.get_dummies(df)\n",
    "df.head()"
   ]
  },
  {
   "cell_type": "markdown",
   "metadata": {},
   "source": [
    "Перед преобразованием типа данных в столбце tenure сначала заменим пропуски на медианное значение."
   ]
  },
  {
   "cell_type": "code",
   "execution_count": 11,
   "metadata": {
    "scrolled": true
   },
   "outputs": [
    {
     "name": "stdout",
     "output_type": "stream",
     "text": [
      "<class 'pandas.core.frame.DataFrame'>\n",
      "Int64Index: 9091 entries, 0 to 9998\n",
      "Data columns (total 13 columns):\n",
      " #   Column              Non-Null Count  Dtype  \n",
      "---  ------              --------------  -----  \n",
      " 0   credit_score        9091 non-null   int64  \n",
      " 1   gender              9091 non-null   uint8  \n",
      " 2   age                 9091 non-null   int64  \n",
      " 3   tenure              9091 non-null   int64  \n",
      " 4   balance             9091 non-null   float64\n",
      " 5   number_of_products  9091 non-null   int64  \n",
      " 6   has_credit_card     9091 non-null   int64  \n",
      " 7   is_active_member    9091 non-null   int64  \n",
      " 8   estimated_salary    9091 non-null   float64\n",
      " 9   exited              9091 non-null   int64  \n",
      " 10  geography_France    9091 non-null   uint8  \n",
      " 11  geography_Germany   9091 non-null   uint8  \n",
      " 12  geography_Spain     9091 non-null   uint8  \n",
      "dtypes: float64(2), int64(7), uint8(4)\n",
      "memory usage: 745.7 KB\n"
     ]
    }
   ],
   "source": [
    "df = df.dropna(subset = ['tenure'])\n",
    "#df['tenure'] = df['tenure'].fillna(df['tenure'].median()) - заполнение пропусков медианой имеет меньшие значения f1\n",
    "df['tenure'] = df['tenure'].astype(\"int\")\n",
    "df.info()"
   ]
  },
  {
   "cell_type": "markdown",
   "metadata": {},
   "source": [
    "**Данные подготовлены к дальнейшему анализу: столбцы перименованы, удалены лишние признаки, необходимые для анализа признаки имеют количественные значения, пропуски отсутствуют.**"
   ]
  },
  {
   "cell_type": "markdown",
   "metadata": {},
   "source": [
    "## Исследование задачи"
   ]
  },
  {
   "cell_type": "markdown",
   "metadata": {},
   "source": [
    "Проверим сбалансированность выборки по целевому признаку - как часто в целевом признаке встречается класс «1» или «0»."
   ]
  },
  {
   "cell_type": "code",
   "execution_count": 12,
   "metadata": {},
   "outputs": [
    {
     "data": {
      "text/plain": [
       "0    0.796062\n",
       "1    0.203938\n",
       "Name: exited, dtype: float64"
      ]
     },
     "execution_count": 12,
     "metadata": {},
     "output_type": "execute_result"
    }
   ],
   "source": [
    "df[\"exited\"].value_counts(normalize=True)"
   ]
  },
  {
   "cell_type": "markdown",
   "metadata": {},
   "source": [
    "Доля ушедших клиентов составляет всего 20% от общей выборки. Налицо несбалансированность данных. Сначала построим модели без учета дисбаланса, а затем попробуем разные инструменты для нивелирования дисбаланса и сравним полученные F1-метрику и AUC-ROC метрики. "
   ]
  },
  {
   "cell_type": "markdown",
   "metadata": {},
   "source": [
    "Спрятанной тестовой выборки нет. Значит, данные нужно разбить на три части: обучающую, валидационную и тестовую. Размеры тестового и валидационного наборов обычно равны. Исходные данные пошагово разобьем в соотношении 3:1:1."
   ]
  },
  {
   "cell_type": "code",
   "execution_count": 13,
   "metadata": {
    "scrolled": true
   },
   "outputs": [
    {
     "name": "stdout",
     "output_type": "stream",
     "text": [
      "Обучающая выборка: (5454, 13)\n",
      "Валидационная и тестовая выборки: (3637, 13)\n"
     ]
    }
   ],
   "source": [
    "df_train, df_middle = train_test_split(df, test_size=0.4, random_state=12345)\n",
    "print(\"Обучающая выборка:\", df_train.shape)\n",
    "print(\"Валидационная и тестовая выборки:\",df_middle.shape)"
   ]
  },
  {
   "cell_type": "code",
   "execution_count": 14,
   "metadata": {
    "scrolled": true
   },
   "outputs": [
    {
     "name": "stdout",
     "output_type": "stream",
     "text": [
      "Валидационная выборка: (1818, 13)\n",
      "Тестовая выборка: (1819, 13)\n"
     ]
    }
   ],
   "source": [
    "df_valid, df_test = train_test_split(df_middle, test_size=0.5, random_state=12345)\n",
    "print(\"Валидационная выборка:\",df_valid.shape)\n",
    "print(\"Тестовая выборка:\",df_test.shape)\n",
    "#, stratify=df_middle[\"exited\"]"
   ]
  },
  {
   "cell_type": "code",
   "execution_count": 15,
   "metadata": {},
   "outputs": [],
   "source": [
    "#объявим переменные с признаками и целевым признаком для каждой из полученных выборок\n",
    "features_train = df_train.drop([\"exited\"], axis = 1)\n",
    "target_train = df_train[\"exited\"]\n",
    "features_valid = df_valid.drop([\"exited\"], axis = 1)\n",
    "target_valid = df_valid[\"exited\"]\n",
    "features_test = df_test.drop([\"exited\"], axis = 1)\n",
    "target_test = df_test[\"exited\"]"
   ]
  },
  {
   "cell_type": "code",
   "execution_count": 16,
   "metadata": {},
   "outputs": [
    {
     "name": "stdout",
     "output_type": "stream",
     "text": [
      "F1-мера наилучшей модели на валидационной выборке: 0.5735449735449736 Максимальная глубина: 5 AUC-ROC: 0.7304701089907722\n"
     ]
    }
   ],
   "source": [
    "#сначала обучим модель с помощью алгоритма решающего дерева, варьируя гиперпараметр \"Максимальная глубина\"\n",
    "best_result = 0\n",
    "for depth in range(1, 11):\n",
    "    model_1 = DecisionTreeClassifier(random_state=12345, max_depth=depth, class_weight='balanced')\n",
    "    model_1.fit(features_train, target_train)\n",
    "    predicted_valid = model_1.predict(features_valid)\n",
    "    result = f1_score(target_valid, predicted_valid)\n",
    "    probabilities_valid = model_1.predict_proba(features_valid)\n",
    "    probabilities_one_valid = probabilities_valid[:, 1]\n",
    "    auc_roc= roc_auc_score(target_valid, probabilities_one_valid)\n",
    "    if result > best_result:\n",
    "        best_result = result\n",
    "        best_depth = depth        \n",
    "print(\"F1-мера наилучшей модели на валидационной выборке:\", best_result, \"Максимальная глубина:\", \n",
    "      best_depth, \"AUC-ROC:\", auc_roc)"
   ]
  },
  {
   "cell_type": "code",
   "execution_count": 17,
   "metadata": {},
   "outputs": [
    {
     "name": "stdout",
     "output_type": "stream",
     "text": [
      "F1-мера наилучшей модели на валидационной выборке: 0.6606683804627249 Количество деревьев: 80 Максимальная глубина: 9 AUC-ROC: 0.8613510732489411\n"
     ]
    }
   ],
   "source": [
    "#теперь построим модель с помощью алгоритма случайного леса, изменяя гиперпараметры \"Количество деревьев\" и \"Максимальная глубина\"\n",
    "best_result = 0\n",
    "for est in range(10, 101, 10):\n",
    "    for depth in range (1, 21):\n",
    "        model_2 = RandomForestClassifier(random_state=12345, n_estimators=est, max_depth=depth, class_weight='balanced')\n",
    "        model_2.fit(features_train, target_train) \n",
    "        predicted_valid = model_2.predict(features_valid)\n",
    "        result = f1_score(target_valid, predicted_valid)\n",
    "        probabilities_valid = model_2.predict_proba(features_valid)\n",
    "        probabilities_one_valid = probabilities_valid[:, 1]\n",
    "        auc_roc= roc_auc_score(target_valid, probabilities_one_valid)\n",
    "        if result > best_result:\n",
    "            best_result = result\n",
    "            best_est = est\n",
    "            best_depth = depth\n",
    "print(\"F1-мера наилучшей модели на валидационной выборке:\", best_result, \"Количество деревьев:\",best_est, \"Максимальная глубина:\", best_depth,\"AUC-ROC:\", auc_roc)"
   ]
  },
  {
   "cell_type": "code",
   "execution_count": 18,
   "metadata": {},
   "outputs": [
    {
     "data": {
      "text/plain": [
       "{'max_depth': 13, 'n_estimators': 80}"
      ]
     },
     "execution_count": 18,
     "metadata": {},
     "output_type": "execute_result"
    }
   ],
   "source": [
    "#справочно: пробую подбирать оптимальные параметры для валидационной выборки с помощью GridSearchCV(), \n",
    "#предварительно обучив модель на обучающей выборке\n",
    "parametrs = { 'n_estimators': range (10, 101, 10),\n",
    "              'max_depth': range (1, 21)}\n",
    "model_gs = RandomForestClassifier(random_state=12345, class_weight='balanced')\n",
    "model_gs.fit(features_train, target_train) \n",
    "grid = GridSearchCV(model_gs, parametrs)\n",
    "grid.fit(features_valid, target_valid)\n",
    "grid.best_params_"
   ]
  },
  {
   "cell_type": "code",
   "execution_count": 19,
   "metadata": {},
   "outputs": [
    {
     "name": "stdout",
     "output_type": "stream",
     "text": [
      "F1-мера на валидационной выборке: 0.3595667870036101 AUC-ROC: 0.5856749199734197\n"
     ]
    }
   ],
   "source": [
    "#наконец построим модель с помощью логистической регрессии\n",
    "model_3 = LogisticRegression(random_state=12345, solver='lbfgs', max_iter=100, class_weight='balanced') \n",
    "model_3.fit(features_train, target_train)\n",
    "predicted_valid = model_3.predict(features_valid)\n",
    "result = f1_score(target_valid, predicted_valid)\n",
    "probabilities_valid = model_3.predict_proba(features_valid)\n",
    "probabilities_one_valid = probabilities_valid[:, 1]\n",
    "auc_roc= roc_auc_score(target_valid, probabilities_one_valid)\n",
    "print(\"F1-мера на валидационной выборке:\", result,\"AUC-ROC:\", auc_roc)"
   ]
  },
  {
   "cell_type": "markdown",
   "metadata": {},
   "source": [
    "Мы видим, что наибольшое значение F1-меры на валидационной выборке (66%) нам дала модель, построенная с помощью алгоритма случайный лес со следующими гиперпараметрами: количество деревьев: 80, максимальная глубина: 9. Модель дерева решений с максимальной глубиной 5 дала F1 на уровне 57%. Наименьшую точность показала модель логистической регрессии - всего 36%."
   ]
  },
  {
   "cell_type": "markdown",
   "metadata": {},
   "source": [
    "## Борьба с дисбалансом"
   ]
  },
  {
   "cell_type": "code",
   "execution_count": 20,
   "metadata": {},
   "outputs": [],
   "source": [
    "#cтандартизируем численные признаки\n",
    "numeric =  ['credit_score','gender', 'age', 'tenure', 'balance',\n",
    "       'number_of_products', 'has_credit_card', 'is_active_member',\n",
    "       'estimated_salary', 'geography_Germany',\n",
    "       'geography_Spain','geography_France']\n",
    "scaler = StandardScaler()\n",
    "scaler.fit(features_train[numeric])\n",
    "features_train[numeric] = scaler.transform(features_train[numeric])\n",
    "features_valid[numeric] = scaler.transform(features_valid[numeric])\n",
    "features_test[numeric] = scaler.transform(features_test[numeric])\n",
    "pd.options.mode.chained_assignment = None"
   ]
  },
  {
   "cell_type": "code",
   "execution_count": 21,
   "metadata": {},
   "outputs": [],
   "source": [
    "#разделим обучающую выборку на отрицательные и положительные объекты\n",
    "features_zeros = features_train[target_train == 0] \n",
    "features_ones = features_train[target_train == 1] \n",
    "target_zeros = target_train[target_train == 0] \n",
    "target_ones = target_train[target_train == 1] "
   ]
  },
  {
   "cell_type": "code",
   "execution_count": 22,
   "metadata": {
    "scrolled": true
   },
   "outputs": [
    {
     "name": "stdout",
     "output_type": "stream",
     "text": [
      "F1-мера наилучшей модели на валидационной выборке: 0.640552995391705 Repeat: 10 AUC-ROC: 0.8716574291725647\n"
     ]
    }
   ],
   "source": [
    "#продублируем объекты положительного класса и объединим их с объектами отрицательного класса\n",
    "#для этого обучим выбранную модель, варьируя параметр repeat\n",
    "best_result = 0\n",
    "for repeat in np.arange(2, 21):\n",
    "    features_upsampled = pd.concat([features_zeros] + [features_ones] * repeat)\n",
    "    target_upsampled = pd.concat([target_zeros] + [target_ones] * repeat)\n",
    "    features_upsampled, target_upsampled = shuffle(features_upsampled, target_upsampled, random_state=12345)\n",
    "    model_us = RandomForestClassifier(random_state=12345, n_estimators=80, max_depth=9, class_weight='balanced')\n",
    "    model_us.fit(features_upsampled, target_upsampled)\n",
    "    predicted_valid = model_us.predict(features_valid)\n",
    "    result = f1_score(target_valid, predicted_valid)\n",
    "    probabilities_valid = model_us.predict_proba(features_valid)\n",
    "    probabilities_one_valid = probabilities_valid[:, 1]\n",
    "    auc_roc= roc_auc_score(target_valid, probabilities_one_valid)\n",
    "    if result > best_result:\n",
    "        best_result = result\n",
    "        best_repeat = repeat\n",
    "print(\"F1-мера наилучшей модели на валидационной выборке:\", best_result, \"Repeat:\", best_repeat,\"AUC-ROC:\", auc_roc)"
   ]
  },
  {
   "cell_type": "markdown",
   "metadata": {},
   "source": [
    "При использовании upsampling F1-мера уменьшилась на 2% с 66% до 64%.\n",
    "Теперь попробуем уменьшить отрицательную выборку."
   ]
  },
  {
   "cell_type": "code",
   "execution_count": 23,
   "metadata": {},
   "outputs": [
    {
     "name": "stdout",
     "output_type": "stream",
     "text": [
      "F1-мера наилучшей модели на валидационной выборке: 0.6472819216182047 Fraction: 0.9500000000000003 AUC-ROC: 0.8723108952116585\n"
     ]
    }
   ],
   "source": [
    "#случайным образом отбросим часть из отрицательных объектов и объединим их с объектами положительного класса\n",
    "#для этого обучим выбранную модель, варьируя параметр fraction\n",
    "best_result = 0\n",
    "for fraction in np.arange(0.1, 1, 0.05):\n",
    "    features_downsampled =  pd.concat([features_zeros.sample(frac=fraction, random_state=12345)] + [features_ones])\n",
    "    target_downsampled = pd.concat([target_zeros.sample(frac=fraction, random_state=12345)] + [target_ones])\n",
    "    features_downsampled, target_downsampled = shuffle(features_downsampled, target_downsampled, random_state=12345)\n",
    "    model_ds = RandomForestClassifier(random_state=12345, n_estimators=80, max_depth=9, class_weight='balanced')\n",
    "    model_ds.fit(features_downsampled, target_downsampled)\n",
    "    predicted_valid = model_ds.predict(features_valid)\n",
    "    result = f1_score(target_valid, predicted_valid)\n",
    "    probabilities_valid = model_ds.predict_proba(features_valid)\n",
    "    probabilities_one_valid = probabilities_valid[:, 1]\n",
    "    auc_roc= roc_auc_score(target_valid, probabilities_one_valid)\n",
    "    if result > best_result:\n",
    "        best_result = result\n",
    "        best_fraction = fraction\n",
    "print(\"F1-мера наилучшей модели на валидационной выборке:\", best_result, \"Fraction:\", best_fraction,\"AUC-ROC:\", auc_roc)"
   ]
  },
  {
   "cell_type": "markdown",
   "metadata": {},
   "source": [
    "При downsampling F1-мера уменьшилась на 1,3% с 66% до 64,7%.\n",
    "\n",
    "**Таким образом, ни upsampling, ни downsampling не привели к улучшению результата, поэтому в дальнейшем использоваться не будут**"
   ]
  },
  {
   "cell_type": "code",
   "execution_count": 24,
   "metadata": {
    "scrolled": true
   },
   "outputs": [
    {
     "name": "stdout",
     "output_type": "stream",
     "text": [
      "F1-мера наилучшей модели на валидационной выборке: 0.6606683804627249 Threshold: 0.5 AUC-ROC: 0.8723293027057176\n"
     ]
    }
   ],
   "source": [
    "#проверим, как влияет изменение порога классификации\n",
    "best_result = 0\n",
    "model_th= RandomForestClassifier(random_state=12345, n_estimators=80, max_depth=9, class_weight='balanced')\n",
    "model_th.fit(features_train, target_train) \n",
    "predicted_valid = model_th.predict(features_valid)\n",
    "for threshold in np.arange(0, 1, 0.02):\n",
    "    predicted_valid = model_th.predict(features_valid)\n",
    "    result = f1_score(target_valid, predicted_valid)\n",
    "    probabilities_valid = model_th.predict_proba(features_valid)\n",
    "    probabilities_one_valid = probabilities_valid[:, 1] \n",
    "    predicted_valid = probabilities_one_valid > threshold\n",
    "    result = f1_score(target_valid, predicted_valid)\n",
    "    probabilities_valid = model_th.predict_proba(features_valid)\n",
    "    probabilities_one_valid = probabilities_valid[:, 1]\n",
    "    auc_roc= roc_auc_score(target_valid, probabilities_one_valid)\n",
    "    if result > best_result:\n",
    "        best_result = result\n",
    "        best_threshold = threshold\n",
    "print(\"F1-мера наилучшей модели на валидационной выборке:\", best_result, \"Threshold:\", best_threshold,\"AUC-ROC:\", auc_roc)"
   ]
  },
  {
   "cell_type": "markdown",
   "metadata": {},
   "source": [
    "**Изменять порог классификации также нет необходимости**"
   ]
  },
  {
   "cell_type": "markdown",
   "metadata": {},
   "source": [
    "**Таким образом, наилучший результат продемонстировала модель и выборка со следующими параметрами:**\n",
    " - модель случайного леса, количество деревьев: 80, максимальная глубина: 9\n",
    " - сбалансированные классы\n",
    " - upsampling или downsampling не требуются\n",
    " - порог классификации: 0.5"
   ]
  },
  {
   "cell_type": "markdown",
   "metadata": {},
   "source": [
    "## Тестирование модели"
   ]
  },
  {
   "cell_type": "code",
   "execution_count": 25,
   "metadata": {},
   "outputs": [
    {
     "name": "stdout",
     "output_type": "stream",
     "text": [
      "F1-мера на тестовой выборке: 0.6185286103542235\n",
      "AUC-ROC на тестовой выборке: 0.8579457680275119\n"
     ]
    }
   ],
   "source": [
    "#проверим итоговую модель на тестовой выборке\n",
    "model_final = RandomForestClassifier(random_state=12345, n_estimators=80, max_depth=9, class_weight='balanced')\n",
    "model_final.fit(features_train, target_train) \n",
    "predicted_test = model_final.predict(features_test)\n",
    "result = f1_score(target_test, predicted_test)\n",
    "print(\"F1-мера на тестовой выборке:\", result)\n",
    "probabilities_test = model_final.predict_proba(features_test)\n",
    "probabilities_one_test = probabilities_test[:, 1]\n",
    "roc_auc = roc_auc_score(target_test, probabilities_one_test)\n",
    "print(\"AUC-ROC на тестовой выборке:\", roc_auc)"
   ]
  },
  {
   "cell_type": "code",
   "execution_count": 26,
   "metadata": {
    "scrolled": true
   },
   "outputs": [
    {
     "data": {
      "text/plain": [
       "array([[0.89373297, 0.10626703],\n",
       "       [0.35327635, 0.64672365]])"
      ]
     },
     "metadata": {},
     "output_type": "display_data"
    },
    {
     "name": "stdout",
     "output_type": "stream",
     "text": [
      "              precision    recall  f1-score   support\n",
      "\n",
      "           0       0.91      0.89      0.90      1468\n",
      "           1       0.59      0.65      0.62       351\n",
      "\n",
      "    accuracy                           0.85      1819\n",
      "   macro avg       0.75      0.77      0.76      1819\n",
      "weighted avg       0.85      0.85      0.85      1819\n",
      "\n"
     ]
    }
   ],
   "source": [
    "#построим матрицу ошибок и выведем основные показатели классификации\n",
    "#print(confusion_matrix(target_test, model_final.predict_proba(features_test), normalize='true')\n",
    "display(confusion_matrix(target_test, model_final.predict(features_test), normalize='true'))\n",
    "print(classification_report(target_test, model_final.predict(features_test), target_names=['0', '1']))"
   ]
  },
  {
   "cell_type": "markdown",
   "metadata": {},
   "source": [
    "**На основании матрицы ошибок мы видим, что выбранная нами модель на 45% лучше в предсказании ухода клиента, чем константная модель. Полученный результат на тестовой выборке F1-меры равен 0.62, что превышает необходимый уровень 0.59.** "
   ]
  },
  {
   "cell_type": "code",
   "execution_count": 27,
   "metadata": {},
   "outputs": [
    {
     "data": {
      "text/html": [
       "<div>\n",
       "<style scoped>\n",
       "    .dataframe tbody tr th:only-of-type {\n",
       "        vertical-align: middle;\n",
       "    }\n",
       "\n",
       "    .dataframe tbody tr th {\n",
       "        vertical-align: top;\n",
       "    }\n",
       "\n",
       "    .dataframe thead th {\n",
       "        text-align: right;\n",
       "    }\n",
       "</style>\n",
       "<table border=\"1\" class=\"dataframe\">\n",
       "  <thead>\n",
       "    <tr style=\"text-align: right;\">\n",
       "      <th></th>\n",
       "      <th>name</th>\n",
       "      <th>fi</th>\n",
       "    </tr>\n",
       "  </thead>\n",
       "  <tbody>\n",
       "    <tr>\n",
       "      <th>0</th>\n",
       "      <td>age</td>\n",
       "      <td>0.331386</td>\n",
       "    </tr>\n",
       "    <tr>\n",
       "      <th>1</th>\n",
       "      <td>number_of_products</td>\n",
       "      <td>0.196469</td>\n",
       "    </tr>\n",
       "    <tr>\n",
       "      <th>2</th>\n",
       "      <td>balance</td>\n",
       "      <td>0.116087</td>\n",
       "    </tr>\n",
       "    <tr>\n",
       "      <th>3</th>\n",
       "      <td>estimated_salary</td>\n",
       "      <td>0.081185</td>\n",
       "    </tr>\n",
       "    <tr>\n",
       "      <th>4</th>\n",
       "      <td>credit_score</td>\n",
       "      <td>0.078311</td>\n",
       "    </tr>\n",
       "  </tbody>\n",
       "</table>\n",
       "</div>"
      ],
      "text/plain": [
       "                 name        fi\n",
       "0                 age  0.331386\n",
       "1  number_of_products  0.196469\n",
       "2             balance  0.116087\n",
       "3    estimated_salary  0.081185\n",
       "4        credit_score  0.078311"
      ]
     },
     "execution_count": 27,
     "metadata": {},
     "output_type": "execute_result"
    }
   ],
   "source": [
    "#посмотрим, какие топ-5 факторов оказывают наибольшее влияние на нашу модель \n",
    "fi = pd.DataFrame({'name':features_test.columns,'fi':model_final.feature_importances_})\n",
    "fi.sort_values('fi',ascending=False).reset_index(drop=True).head()"
   ]
  },
  {
   "cell_type": "markdown",
   "metadata": {},
   "source": [
    "**Наиболее значимыми признаками стали возраст (33%), количество продуктов в банке (20%) и баланс на счете (12%).**"
   ]
  }
 ],
 "metadata": {
  "ExecuteTimeLog": [
   {
    "duration": 73,
    "start_time": "2022-03-25T08:04:15.341Z"
   },
   {
    "duration": 2223,
    "start_time": "2022-03-25T08:04:22.888Z"
   },
   {
    "duration": 65,
    "start_time": "2022-03-25T08:04:25.114Z"
   },
   {
    "duration": 20,
    "start_time": "2022-03-25T08:08:28.380Z"
   },
   {
    "duration": 58,
    "start_time": "2022-03-25T08:11:31.574Z"
   },
   {
    "duration": 11,
    "start_time": "2022-03-25T08:14:13.791Z"
   },
   {
    "duration": 14,
    "start_time": "2022-03-25T08:14:31.030Z"
   },
   {
    "duration": 18,
    "start_time": "2022-03-25T08:15:31.295Z"
   },
   {
    "duration": 6,
    "start_time": "2022-03-25T08:19:01.208Z"
   },
   {
    "duration": 6,
    "start_time": "2022-03-25T08:21:16.082Z"
   },
   {
    "duration": 181,
    "start_time": "2022-03-25T08:21:32.896Z"
   },
   {
    "duration": 19,
    "start_time": "2022-03-25T08:22:44.025Z"
   },
   {
    "duration": 1996,
    "start_time": "2022-03-25T08:23:02.693Z"
   },
   {
    "duration": 61,
    "start_time": "2022-03-25T08:23:04.691Z"
   },
   {
    "duration": 22,
    "start_time": "2022-03-25T08:23:04.754Z"
   },
   {
    "duration": 18,
    "start_time": "2022-03-25T08:23:04.779Z"
   },
   {
    "duration": 65,
    "start_time": "2022-03-25T08:23:04.800Z"
   },
   {
    "duration": 6,
    "start_time": "2022-03-25T08:23:04.867Z"
   },
   {
    "duration": 20,
    "start_time": "2022-03-25T08:23:04.875Z"
   },
   {
    "duration": 21,
    "start_time": "2022-03-25T08:24:37.106Z"
   },
   {
    "duration": 4,
    "start_time": "2022-03-25T08:24:58.057Z"
   },
   {
    "duration": 3409,
    "start_time": "2022-03-25T08:25:38.942Z"
   },
   {
    "duration": 2266,
    "start_time": "2022-03-25T08:25:49.391Z"
   },
   {
    "duration": 701,
    "start_time": "2022-03-25T08:25:51.660Z"
   },
   {
    "duration": 3,
    "start_time": "2022-03-25T08:25:52.364Z"
   },
   {
    "duration": 21,
    "start_time": "2022-03-25T08:25:52.369Z"
   },
   {
    "duration": 7,
    "start_time": "2022-03-25T08:25:52.393Z"
   },
   {
    "duration": 53,
    "start_time": "2022-03-25T08:25:52.403Z"
   },
   {
    "duration": 5,
    "start_time": "2022-03-25T08:25:52.458Z"
   },
   {
    "duration": 19,
    "start_time": "2022-03-25T08:25:52.465Z"
   },
   {
    "duration": 3996,
    "start_time": "2022-03-25T08:26:44.172Z"
   },
   {
    "duration": 5,
    "start_time": "2022-03-25T08:26:53.013Z"
   },
   {
    "duration": 62,
    "start_time": "2022-03-25T08:26:53.021Z"
   },
   {
    "duration": 3,
    "start_time": "2022-03-25T08:26:53.086Z"
   },
   {
    "duration": 25,
    "start_time": "2022-03-25T08:26:53.092Z"
   },
   {
    "duration": 11,
    "start_time": "2022-03-25T08:26:55.978Z"
   },
   {
    "duration": 9,
    "start_time": "2022-03-25T08:27:11.547Z"
   },
   {
    "duration": 8,
    "start_time": "2022-03-25T08:27:29.196Z"
   },
   {
    "duration": 9,
    "start_time": "2022-03-25T08:27:38.924Z"
   },
   {
    "duration": 5,
    "start_time": "2022-03-25T08:28:02.171Z"
   },
   {
    "duration": 7,
    "start_time": "2022-03-25T08:28:22.219Z"
   },
   {
    "duration": 9,
    "start_time": "2022-03-25T08:28:29.788Z"
   },
   {
    "duration": 33,
    "start_time": "2022-03-25T08:30:10.239Z"
   },
   {
    "duration": 60,
    "start_time": "2022-03-25T08:31:01.581Z"
   },
   {
    "duration": 4,
    "start_time": "2022-03-25T08:31:45.109Z"
   },
   {
    "duration": 6,
    "start_time": "2022-03-25T08:33:03.590Z"
   },
   {
    "duration": 8,
    "start_time": "2022-03-25T08:33:32.958Z"
   },
   {
    "duration": 5,
    "start_time": "2022-03-25T08:34:03.614Z"
   },
   {
    "duration": 22,
    "start_time": "2022-03-25T08:34:53.615Z"
   },
   {
    "duration": 26,
    "start_time": "2022-03-25T08:34:59.287Z"
   },
   {
    "duration": 9,
    "start_time": "2022-03-25T08:38:33.352Z"
   },
   {
    "duration": 39,
    "start_time": "2022-03-25T08:40:10.257Z"
   },
   {
    "duration": 29,
    "start_time": "2022-03-25T08:40:35.825Z"
   },
   {
    "duration": 24,
    "start_time": "2022-03-25T08:41:06.407Z"
   },
   {
    "duration": 10,
    "start_time": "2022-03-25T08:41:42.593Z"
   },
   {
    "duration": 12,
    "start_time": "2022-03-25T08:42:04.688Z"
   },
   {
    "duration": 25,
    "start_time": "2022-03-25T08:42:13.521Z"
   },
   {
    "duration": 15,
    "start_time": "2022-03-25T08:43:02.112Z"
   },
   {
    "duration": 33,
    "start_time": "2022-03-25T08:43:59.657Z"
   },
   {
    "duration": 5,
    "start_time": "2022-03-25T08:45:46.226Z"
   },
   {
    "duration": 5,
    "start_time": "2022-03-25T08:45:54.106Z"
   },
   {
    "duration": 5,
    "start_time": "2022-03-25T08:45:58.418Z"
   },
   {
    "duration": 15,
    "start_time": "2022-03-25T08:46:00.777Z"
   },
   {
    "duration": 11,
    "start_time": "2022-03-25T08:46:39.866Z"
   },
   {
    "duration": 13,
    "start_time": "2022-03-25T08:47:03.194Z"
   },
   {
    "duration": 10,
    "start_time": "2022-03-25T08:47:12.932Z"
   },
   {
    "duration": 13,
    "start_time": "2022-03-25T08:47:34.610Z"
   },
   {
    "duration": 15,
    "start_time": "2022-03-25T08:47:58.394Z"
   },
   {
    "duration": 11,
    "start_time": "2022-03-25T08:48:14.955Z"
   },
   {
    "duration": 14,
    "start_time": "2022-03-25T08:52:01.316Z"
   },
   {
    "duration": 39,
    "start_time": "2022-03-25T08:52:11.284Z"
   },
   {
    "duration": 12,
    "start_time": "2022-03-25T08:52:40.251Z"
   },
   {
    "duration": 11,
    "start_time": "2022-03-25T08:52:52.924Z"
   },
   {
    "duration": 11,
    "start_time": "2022-03-25T08:53:12.717Z"
   },
   {
    "duration": 10,
    "start_time": "2022-03-25T08:53:30.653Z"
   },
   {
    "duration": 55,
    "start_time": "2022-03-25T09:10:33.351Z"
   },
   {
    "duration": 12,
    "start_time": "2022-03-25T09:13:53.909Z"
   },
   {
    "duration": 14,
    "start_time": "2022-03-25T09:15:01.093Z"
   },
   {
    "duration": 10,
    "start_time": "2022-03-25T09:15:07.885Z"
   },
   {
    "duration": 10,
    "start_time": "2022-03-25T09:15:18.548Z"
   },
   {
    "duration": 11,
    "start_time": "2022-03-25T09:15:33.164Z"
   },
   {
    "duration": 39,
    "start_time": "2022-03-25T09:16:09.206Z"
   },
   {
    "duration": 53,
    "start_time": "2022-03-25T09:16:36.045Z"
   },
   {
    "duration": 205,
    "start_time": "2022-03-25T09:16:54.815Z"
   },
   {
    "duration": 222,
    "start_time": "2022-03-25T09:17:08.155Z"
   },
   {
    "duration": 24,
    "start_time": "2022-03-25T09:17:17.189Z"
   },
   {
    "duration": 54,
    "start_time": "2022-03-25T09:17:32.061Z"
   },
   {
    "duration": 30,
    "start_time": "2022-03-25T09:17:54.307Z"
   },
   {
    "duration": 11,
    "start_time": "2022-03-25T09:26:20.531Z"
   },
   {
    "duration": 12,
    "start_time": "2022-03-25T09:27:45.737Z"
   },
   {
    "duration": 11,
    "start_time": "2022-03-25T09:28:00.201Z"
   },
   {
    "duration": 11,
    "start_time": "2022-03-25T09:28:10.792Z"
   },
   {
    "duration": 5,
    "start_time": "2022-03-25T09:28:55.291Z"
   },
   {
    "duration": 5,
    "start_time": "2022-03-25T09:29:04.371Z"
   },
   {
    "duration": 10401,
    "start_time": "2022-03-25T09:49:03.301Z"
   },
   {
    "duration": 19,
    "start_time": "2022-03-25T10:59:49.866Z"
   },
   {
    "duration": 4,
    "start_time": "2022-03-25T11:00:07.802Z"
   },
   {
    "duration": 27,
    "start_time": "2022-03-25T12:16:06.806Z"
   },
   {
    "duration": 32,
    "start_time": "2022-03-25T12:20:15.801Z"
   },
   {
    "duration": 49,
    "start_time": "2022-03-25T12:20:51.049Z"
   },
   {
    "duration": 54,
    "start_time": "2022-03-25T12:21:10.391Z"
   },
   {
    "duration": 20,
    "start_time": "2022-03-25T12:21:40.130Z"
   },
   {
    "duration": 20,
    "start_time": "2022-03-25T12:22:33.035Z"
   },
   {
    "duration": 11,
    "start_time": "2022-03-25T12:22:38.025Z"
   },
   {
    "duration": 9,
    "start_time": "2022-03-25T14:38:25.831Z"
   },
   {
    "duration": 13,
    "start_time": "2022-03-25T14:43:52.101Z"
   },
   {
    "duration": 10,
    "start_time": "2022-03-25T14:44:05.321Z"
   },
   {
    "duration": 10,
    "start_time": "2022-03-25T14:46:22.369Z"
   },
   {
    "duration": 32,
    "start_time": "2022-03-25T14:50:44.555Z"
   },
   {
    "duration": 1532,
    "start_time": "2022-03-29T08:40:36.328Z"
   },
   {
    "duration": 40,
    "start_time": "2022-03-29T08:40:37.862Z"
   },
   {
    "duration": 5,
    "start_time": "2022-03-29T08:40:37.904Z"
   },
   {
    "duration": 42,
    "start_time": "2022-03-29T08:40:37.910Z"
   },
   {
    "duration": 13,
    "start_time": "2022-03-29T08:40:37.954Z"
   },
   {
    "duration": 39,
    "start_time": "2022-03-29T08:40:37.969Z"
   },
   {
    "duration": 17,
    "start_time": "2022-03-29T08:40:38.010Z"
   },
   {
    "duration": 25,
    "start_time": "2022-03-29T08:40:38.029Z"
   },
   {
    "duration": 25,
    "start_time": "2022-03-29T08:40:38.055Z"
   },
   {
    "duration": 10,
    "start_time": "2022-03-29T08:40:38.082Z"
   },
   {
    "duration": 30,
    "start_time": "2022-03-29T08:40:38.093Z"
   },
   {
    "duration": 25,
    "start_time": "2022-03-29T08:40:38.125Z"
   },
   {
    "duration": 14,
    "start_time": "2022-03-29T08:40:38.152Z"
   },
   {
    "duration": 32,
    "start_time": "2022-03-29T08:40:38.169Z"
   },
   {
    "duration": 116,
    "start_time": "2022-03-29T08:40:38.203Z"
   },
   {
    "duration": 0,
    "start_time": "2022-03-29T08:40:38.321Z"
   },
   {
    "duration": 0,
    "start_time": "2022-03-29T08:40:38.322Z"
   },
   {
    "duration": 0,
    "start_time": "2022-03-29T08:40:38.323Z"
   },
   {
    "duration": 0,
    "start_time": "2022-03-29T08:40:38.324Z"
   },
   {
    "duration": 0,
    "start_time": "2022-03-29T08:40:38.337Z"
   },
   {
    "duration": 0,
    "start_time": "2022-03-29T08:40:38.338Z"
   },
   {
    "duration": 0,
    "start_time": "2022-03-29T08:40:38.339Z"
   },
   {
    "duration": 0,
    "start_time": "2022-03-29T08:40:38.341Z"
   },
   {
    "duration": 1401,
    "start_time": "2022-03-29T08:40:59.962Z"
   },
   {
    "duration": 38,
    "start_time": "2022-03-29T08:41:01.365Z"
   },
   {
    "duration": 4,
    "start_time": "2022-03-29T08:41:01.405Z"
   },
   {
    "duration": 18,
    "start_time": "2022-03-29T08:41:01.410Z"
   },
   {
    "duration": 8,
    "start_time": "2022-03-29T08:41:01.430Z"
   },
   {
    "duration": 23,
    "start_time": "2022-03-29T08:41:01.440Z"
   },
   {
    "duration": 9,
    "start_time": "2022-03-29T08:41:01.465Z"
   },
   {
    "duration": 33,
    "start_time": "2022-03-29T08:41:01.475Z"
   },
   {
    "duration": 9,
    "start_time": "2022-03-29T08:41:01.510Z"
   },
   {
    "duration": 15,
    "start_time": "2022-03-29T08:41:01.521Z"
   },
   {
    "duration": 26,
    "start_time": "2022-03-29T08:41:01.538Z"
   },
   {
    "duration": 19,
    "start_time": "2022-03-29T08:41:01.566Z"
   },
   {
    "duration": 4,
    "start_time": "2022-03-29T08:41:01.587Z"
   },
   {
    "duration": 18,
    "start_time": "2022-03-29T08:41:01.593Z"
   },
   {
    "duration": 17,
    "start_time": "2022-03-29T08:41:01.613Z"
   },
   {
    "duration": 33,
    "start_time": "2022-03-29T08:41:01.631Z"
   },
   {
    "duration": 2,
    "start_time": "2022-03-29T08:41:01.666Z"
   },
   {
    "duration": 15,
    "start_time": "2022-03-29T08:41:01.669Z"
   },
   {
    "duration": 12,
    "start_time": "2022-03-29T08:41:01.686Z"
   },
   {
    "duration": 15,
    "start_time": "2022-03-29T08:41:01.700Z"
   },
   {
    "duration": 20,
    "start_time": "2022-03-29T08:41:01.717Z"
   },
   {
    "duration": 8,
    "start_time": "2022-03-29T08:41:01.739Z"
   },
   {
    "duration": 128,
    "start_time": "2022-03-29T08:41:01.749Z"
   },
   {
    "duration": 1795,
    "start_time": "2022-03-29T08:41:37.164Z"
   },
   {
    "duration": 1358,
    "start_time": "2022-03-29T08:41:53.888Z"
   },
   {
    "duration": 38,
    "start_time": "2022-03-29T08:41:55.248Z"
   },
   {
    "duration": 3,
    "start_time": "2022-03-29T08:41:55.288Z"
   },
   {
    "duration": 18,
    "start_time": "2022-03-29T08:41:55.293Z"
   },
   {
    "duration": 2,
    "start_time": "2022-03-29T08:41:55.313Z"
   },
   {
    "duration": 28,
    "start_time": "2022-03-29T08:41:55.317Z"
   },
   {
    "duration": 7,
    "start_time": "2022-03-29T08:41:55.347Z"
   },
   {
    "duration": 13,
    "start_time": "2022-03-29T08:41:55.356Z"
   },
   {
    "duration": 7,
    "start_time": "2022-03-29T08:41:55.371Z"
   },
   {
    "duration": 9,
    "start_time": "2022-03-29T08:41:55.379Z"
   },
   {
    "duration": 9,
    "start_time": "2022-03-29T08:41:55.390Z"
   },
   {
    "duration": 48,
    "start_time": "2022-03-29T08:41:55.400Z"
   },
   {
    "duration": 4,
    "start_time": "2022-03-29T08:41:55.450Z"
   },
   {
    "duration": 15,
    "start_time": "2022-03-29T08:41:55.457Z"
   },
   {
    "duration": 17,
    "start_time": "2022-03-29T08:41:55.473Z"
   },
   {
    "duration": 25,
    "start_time": "2022-03-29T08:41:55.492Z"
   },
   {
    "duration": 19,
    "start_time": "2022-03-29T08:41:55.519Z"
   },
   {
    "duration": 15,
    "start_time": "2022-03-29T08:41:55.540Z"
   },
   {
    "duration": 7,
    "start_time": "2022-03-29T08:41:55.557Z"
   },
   {
    "duration": 11,
    "start_time": "2022-03-29T08:41:55.565Z"
   },
   {
    "duration": 7,
    "start_time": "2022-03-29T08:41:55.578Z"
   },
   {
    "duration": 8,
    "start_time": "2022-03-29T08:41:55.587Z"
   },
   {
    "duration": 136,
    "start_time": "2022-03-29T08:41:55.597Z"
   },
   {
    "duration": 3,
    "start_time": "2022-03-29T08:42:02.394Z"
   },
   {
    "duration": 16,
    "start_time": "2022-03-29T08:42:11.265Z"
   },
   {
    "duration": 4902,
    "start_time": "2022-03-29T08:42:23.520Z"
   },
   {
    "duration": 0,
    "start_time": "2022-03-29T08:42:35.900Z"
   },
   {
    "duration": 0,
    "start_time": "2022-03-29T08:42:35.901Z"
   },
   {
    "duration": 0,
    "start_time": "2022-03-29T08:42:35.902Z"
   },
   {
    "duration": 0,
    "start_time": "2022-03-29T08:42:35.902Z"
   },
   {
    "duration": 0,
    "start_time": "2022-03-29T08:42:35.903Z"
   },
   {
    "duration": 0,
    "start_time": "2022-03-29T08:42:35.904Z"
   },
   {
    "duration": 0,
    "start_time": "2022-03-29T08:42:35.905Z"
   },
   {
    "duration": 0,
    "start_time": "2022-03-29T08:42:35.906Z"
   },
   {
    "duration": 0,
    "start_time": "2022-03-29T08:42:35.907Z"
   },
   {
    "duration": 0,
    "start_time": "2022-03-29T08:42:35.908Z"
   },
   {
    "duration": 0,
    "start_time": "2022-03-29T08:42:35.908Z"
   },
   {
    "duration": 0,
    "start_time": "2022-03-29T08:42:35.909Z"
   },
   {
    "duration": 0,
    "start_time": "2022-03-29T08:42:35.910Z"
   },
   {
    "duration": 0,
    "start_time": "2022-03-29T08:42:35.911Z"
   },
   {
    "duration": 1,
    "start_time": "2022-03-29T08:42:35.911Z"
   },
   {
    "duration": 0,
    "start_time": "2022-03-29T08:42:35.912Z"
   },
   {
    "duration": 0,
    "start_time": "2022-03-29T08:42:35.913Z"
   },
   {
    "duration": 0,
    "start_time": "2022-03-29T08:42:35.938Z"
   },
   {
    "duration": 0,
    "start_time": "2022-03-29T08:42:35.939Z"
   },
   {
    "duration": 0,
    "start_time": "2022-03-29T08:42:35.940Z"
   },
   {
    "duration": 0,
    "start_time": "2022-03-29T08:42:35.941Z"
   },
   {
    "duration": 0,
    "start_time": "2022-03-29T08:42:35.942Z"
   },
   {
    "duration": 0,
    "start_time": "2022-03-29T08:42:35.943Z"
   },
   {
    "duration": 1375,
    "start_time": "2022-03-29T08:43:12.583Z"
   },
   {
    "duration": 43,
    "start_time": "2022-03-29T08:43:13.960Z"
   },
   {
    "duration": 4,
    "start_time": "2022-03-29T08:43:14.004Z"
   },
   {
    "duration": 11,
    "start_time": "2022-03-29T08:43:14.009Z"
   },
   {
    "duration": 5,
    "start_time": "2022-03-29T08:43:14.023Z"
   },
   {
    "duration": 17,
    "start_time": "2022-03-29T08:43:14.029Z"
   },
   {
    "duration": 7,
    "start_time": "2022-03-29T08:43:14.048Z"
   },
   {
    "duration": 8,
    "start_time": "2022-03-29T08:43:14.057Z"
   },
   {
    "duration": 8,
    "start_time": "2022-03-29T08:43:14.066Z"
   },
   {
    "duration": 7,
    "start_time": "2022-03-29T08:43:14.075Z"
   },
   {
    "duration": 9,
    "start_time": "2022-03-29T08:43:14.084Z"
   },
   {
    "duration": 52,
    "start_time": "2022-03-29T08:43:14.095Z"
   },
   {
    "duration": 4,
    "start_time": "2022-03-29T08:43:14.149Z"
   },
   {
    "duration": 16,
    "start_time": "2022-03-29T08:43:14.157Z"
   },
   {
    "duration": 12,
    "start_time": "2022-03-29T08:43:14.176Z"
   },
   {
    "duration": 55,
    "start_time": "2022-03-29T08:43:14.190Z"
   },
   {
    "duration": 2,
    "start_time": "2022-03-29T08:43:14.247Z"
   },
   {
    "duration": 15,
    "start_time": "2022-03-29T08:43:14.251Z"
   },
   {
    "duration": 7,
    "start_time": "2022-03-29T08:43:14.268Z"
   },
   {
    "duration": 11,
    "start_time": "2022-03-29T08:43:14.276Z"
   },
   {
    "duration": 8,
    "start_time": "2022-03-29T08:43:14.289Z"
   },
   {
    "duration": 9,
    "start_time": "2022-03-29T08:43:14.298Z"
   },
   {
    "duration": 147,
    "start_time": "2022-03-29T08:43:14.309Z"
   },
   {
    "duration": 70,
    "start_time": "2022-03-29T10:26:36.616Z"
   },
   {
    "duration": 2312,
    "start_time": "2022-03-29T10:26:42.850Z"
   },
   {
    "duration": 56,
    "start_time": "2022-03-29T10:26:45.165Z"
   },
   {
    "duration": 7,
    "start_time": "2022-03-29T10:26:45.223Z"
   },
   {
    "duration": 6,
    "start_time": "2022-03-29T10:26:45.232Z"
   },
   {
    "duration": 7,
    "start_time": "2022-03-29T10:26:45.242Z"
   },
   {
    "duration": 57,
    "start_time": "2022-03-29T10:26:45.251Z"
   },
   {
    "duration": 14,
    "start_time": "2022-03-29T10:26:45.310Z"
   },
   {
    "duration": 15,
    "start_time": "2022-03-29T10:26:45.327Z"
   },
   {
    "duration": 11,
    "start_time": "2022-03-29T10:26:45.345Z"
   },
   {
    "duration": 35,
    "start_time": "2022-03-29T10:26:45.359Z"
   },
   {
    "duration": 27,
    "start_time": "2022-03-29T10:26:45.396Z"
   },
   {
    "duration": 24,
    "start_time": "2022-03-29T10:26:45.425Z"
   },
   {
    "duration": 5,
    "start_time": "2022-03-29T10:26:45.451Z"
   },
   {
    "duration": 23,
    "start_time": "2022-03-29T10:26:45.485Z"
   },
   {
    "duration": 3,
    "start_time": "2022-03-29T10:26:45.511Z"
   },
   {
    "duration": 36,
    "start_time": "2022-03-29T10:26:45.516Z"
   },
   {
    "duration": 29,
    "start_time": "2022-03-29T10:26:45.554Z"
   },
   {
    "duration": 22,
    "start_time": "2022-03-29T10:26:45.584Z"
   },
   {
    "duration": 10,
    "start_time": "2022-03-29T10:26:45.609Z"
   },
   {
    "duration": 16,
    "start_time": "2022-03-29T10:26:45.622Z"
   },
   {
    "duration": 63,
    "start_time": "2022-03-29T10:26:45.641Z"
   },
   {
    "duration": 10,
    "start_time": "2022-03-29T10:26:45.707Z"
   },
   {
    "duration": 262,
    "start_time": "2022-03-29T10:26:45.720Z"
   },
   {
    "duration": 44,
    "start_time": "2022-03-29T10:26:56.257Z"
   },
   {
    "duration": 27,
    "start_time": "2022-03-29T10:27:09.019Z"
   },
   {
    "duration": 40,
    "start_time": "2022-03-29T10:27:27.155Z"
   },
   {
    "duration": 1972,
    "start_time": "2022-03-29T10:27:40.504Z"
   },
   {
    "duration": 57,
    "start_time": "2022-03-29T10:27:42.479Z"
   },
   {
    "duration": 5,
    "start_time": "2022-03-29T10:27:42.539Z"
   },
   {
    "duration": 38,
    "start_time": "2022-03-29T10:27:42.548Z"
   },
   {
    "duration": 40,
    "start_time": "2022-03-29T10:27:42.588Z"
   },
   {
    "duration": 53,
    "start_time": "2022-03-29T10:27:42.630Z"
   },
   {
    "duration": 32,
    "start_time": "2022-03-29T10:27:42.688Z"
   },
   {
    "duration": 35,
    "start_time": "2022-03-29T10:27:42.722Z"
   },
   {
    "duration": 36,
    "start_time": "2022-03-29T10:27:42.759Z"
   },
   {
    "duration": 34,
    "start_time": "2022-03-29T10:27:42.799Z"
   },
   {
    "duration": 27,
    "start_time": "2022-03-29T10:27:42.835Z"
   },
   {
    "duration": 46,
    "start_time": "2022-03-29T10:27:42.865Z"
   },
   {
    "duration": 29,
    "start_time": "2022-03-29T10:27:42.913Z"
   },
   {
    "duration": 46,
    "start_time": "2022-03-29T10:27:42.944Z"
   },
   {
    "duration": 46,
    "start_time": "2022-03-29T10:27:42.992Z"
   },
   {
    "duration": 66,
    "start_time": "2022-03-29T10:27:43.040Z"
   },
   {
    "duration": 18,
    "start_time": "2022-03-29T10:27:43.108Z"
   },
   {
    "duration": 65,
    "start_time": "2022-03-29T10:27:43.129Z"
   },
   {
    "duration": 28,
    "start_time": "2022-03-29T10:27:43.197Z"
   },
   {
    "duration": 52,
    "start_time": "2022-03-29T10:27:43.228Z"
   },
   {
    "duration": 49,
    "start_time": "2022-03-29T10:27:43.283Z"
   },
   {
    "duration": 45,
    "start_time": "2022-03-29T10:27:43.335Z"
   },
   {
    "duration": 303,
    "start_time": "2022-03-29T10:27:43.382Z"
   },
   {
    "duration": 1963,
    "start_time": "2022-03-29T10:31:51.519Z"
   },
   {
    "duration": 58,
    "start_time": "2022-03-29T10:31:53.485Z"
   },
   {
    "duration": 6,
    "start_time": "2022-03-29T10:31:53.546Z"
   },
   {
    "duration": 20,
    "start_time": "2022-03-29T10:31:53.555Z"
   },
   {
    "duration": 18,
    "start_time": "2022-03-29T10:31:53.584Z"
   },
   {
    "duration": 55,
    "start_time": "2022-03-29T10:31:53.605Z"
   },
   {
    "duration": 27,
    "start_time": "2022-03-29T10:31:53.663Z"
   },
   {
    "duration": 29,
    "start_time": "2022-03-29T10:31:53.693Z"
   },
   {
    "duration": 31,
    "start_time": "2022-03-29T10:31:53.726Z"
   },
   {
    "duration": 28,
    "start_time": "2022-03-29T10:31:53.759Z"
   },
   {
    "duration": 40,
    "start_time": "2022-03-29T10:31:53.789Z"
   },
   {
    "duration": 16,
    "start_time": "2022-03-29T10:31:53.832Z"
   },
   {
    "duration": 19,
    "start_time": "2022-03-29T10:31:53.851Z"
   },
   {
    "duration": 43,
    "start_time": "2022-03-29T10:31:53.875Z"
   },
   {
    "duration": 19,
    "start_time": "2022-03-29T10:31:53.921Z"
   },
   {
    "duration": 60,
    "start_time": "2022-03-29T10:31:53.942Z"
   },
   {
    "duration": 21,
    "start_time": "2022-03-29T10:31:54.004Z"
   },
   {
    "duration": 50,
    "start_time": "2022-03-29T10:31:54.027Z"
   },
   {
    "duration": 49,
    "start_time": "2022-03-29T10:31:54.080Z"
   },
   {
    "duration": 40,
    "start_time": "2022-03-29T10:31:54.132Z"
   },
   {
    "duration": 46,
    "start_time": "2022-03-29T10:31:54.175Z"
   },
   {
    "duration": 35,
    "start_time": "2022-03-29T10:31:54.224Z"
   },
   {
    "duration": 222,
    "start_time": "2022-03-29T10:31:54.261Z"
   },
   {
    "duration": 46,
    "start_time": "2022-03-29T10:34:49.976Z"
   },
   {
    "duration": 59,
    "start_time": "2022-03-29T10:35:10.046Z"
   },
   {
    "duration": 49,
    "start_time": "2022-03-29T10:35:33.184Z"
   },
   {
    "duration": 6,
    "start_time": "2022-03-29T10:36:17.729Z"
   },
   {
    "duration": 6,
    "start_time": "2022-03-29T10:36:27.063Z"
   },
   {
    "duration": 14,
    "start_time": "2022-03-29T10:36:36.255Z"
   },
   {
    "duration": 2242,
    "start_time": "2022-03-29T10:37:00.970Z"
   },
   {
    "duration": 58,
    "start_time": "2022-03-29T10:37:03.215Z"
   },
   {
    "duration": 8,
    "start_time": "2022-03-29T10:37:03.282Z"
   },
   {
    "duration": 27,
    "start_time": "2022-03-29T10:37:03.294Z"
   },
   {
    "duration": 23,
    "start_time": "2022-03-29T10:37:03.323Z"
   },
   {
    "duration": 50,
    "start_time": "2022-03-29T10:37:03.348Z"
   },
   {
    "duration": 33,
    "start_time": "2022-03-29T10:37:03.403Z"
   },
   {
    "duration": 17,
    "start_time": "2022-03-29T10:37:03.438Z"
   },
   {
    "duration": 38,
    "start_time": "2022-03-29T10:37:03.457Z"
   },
   {
    "duration": 12,
    "start_time": "2022-03-29T10:37:03.500Z"
   },
   {
    "duration": 29,
    "start_time": "2022-03-29T10:37:03.515Z"
   },
   {
    "duration": 25,
    "start_time": "2022-03-29T10:37:03.547Z"
   },
   {
    "duration": 31,
    "start_time": "2022-03-29T10:37:03.575Z"
   },
   {
    "duration": 42,
    "start_time": "2022-03-29T10:37:03.609Z"
   },
   {
    "duration": 52,
    "start_time": "2022-03-29T10:37:03.654Z"
   },
   {
    "duration": 60,
    "start_time": "2022-03-29T10:37:03.708Z"
   },
   {
    "duration": 25,
    "start_time": "2022-03-29T10:37:03.770Z"
   },
   {
    "duration": 45,
    "start_time": "2022-03-29T10:37:03.798Z"
   },
   {
    "duration": 44,
    "start_time": "2022-03-29T10:37:03.846Z"
   },
   {
    "duration": 46,
    "start_time": "2022-03-29T10:37:03.894Z"
   },
   {
    "duration": 18,
    "start_time": "2022-03-29T10:37:03.943Z"
   },
   {
    "duration": 25,
    "start_time": "2022-03-29T10:37:03.965Z"
   },
   {
    "duration": 46,
    "start_time": "2022-03-29T10:37:03.993Z"
   },
   {
    "duration": 73,
    "start_time": "2022-03-29T10:37:04.042Z"
   },
   {
    "duration": 27,
    "start_time": "2022-03-29T10:37:22.873Z"
   },
   {
    "duration": 2179,
    "start_time": "2022-03-29T10:39:44.410Z"
   },
   {
    "duration": 49,
    "start_time": "2022-03-29T10:39:46.592Z"
   },
   {
    "duration": 5,
    "start_time": "2022-03-29T10:39:46.643Z"
   },
   {
    "duration": 6,
    "start_time": "2022-03-29T10:39:46.651Z"
   },
   {
    "duration": 3,
    "start_time": "2022-03-29T10:39:46.688Z"
   },
   {
    "duration": 35,
    "start_time": "2022-03-29T10:39:46.693Z"
   },
   {
    "duration": 12,
    "start_time": "2022-03-29T10:39:46.730Z"
   },
   {
    "duration": 11,
    "start_time": "2022-03-29T10:39:46.744Z"
   },
   {
    "duration": 35,
    "start_time": "2022-03-29T10:39:46.757Z"
   },
   {
    "duration": 12,
    "start_time": "2022-03-29T10:39:46.794Z"
   },
   {
    "duration": 11,
    "start_time": "2022-03-29T10:39:46.808Z"
   },
   {
    "duration": 10,
    "start_time": "2022-03-29T10:39:46.821Z"
   },
   {
    "duration": 8,
    "start_time": "2022-03-29T10:39:46.833Z"
   },
   {
    "duration": 22,
    "start_time": "2022-03-29T10:39:46.886Z"
   },
   {
    "duration": 15,
    "start_time": "2022-03-29T10:39:46.911Z"
   },
   {
    "duration": 62,
    "start_time": "2022-03-29T10:39:46.928Z"
   },
   {
    "duration": 4,
    "start_time": "2022-03-29T10:39:46.996Z"
   },
   {
    "duration": 35,
    "start_time": "2022-03-29T10:39:47.002Z"
   },
   {
    "duration": 8,
    "start_time": "2022-03-29T10:39:47.039Z"
   },
   {
    "duration": 16,
    "start_time": "2022-03-29T10:39:47.049Z"
   },
   {
    "duration": 11,
    "start_time": "2022-03-29T10:39:47.082Z"
   },
   {
    "duration": 30,
    "start_time": "2022-03-29T10:39:47.094Z"
   },
   {
    "duration": 32,
    "start_time": "2022-03-29T10:39:47.126Z"
   },
   {
    "duration": 87,
    "start_time": "2022-03-29T10:39:47.161Z"
   },
   {
    "duration": 91,
    "start_time": "2022-03-29T10:41:16.323Z"
   },
   {
    "duration": 234,
    "start_time": "2022-03-29T10:45:09.009Z"
   },
   {
    "duration": 90,
    "start_time": "2022-03-29T10:45:32.184Z"
   },
   {
    "duration": 603,
    "start_time": "2022-03-29T10:45:38.456Z"
   },
   {
    "duration": 236,
    "start_time": "2022-03-29T10:45:46.620Z"
   },
   {
    "duration": 31,
    "start_time": "2022-03-29T10:48:21.080Z"
   },
   {
    "duration": 11347,
    "start_time": "2022-03-29T10:49:15.586Z"
   },
   {
    "duration": 25562,
    "start_time": "2022-03-29T10:50:06.603Z"
   },
   {
    "duration": 29907,
    "start_time": "2022-03-29T10:50:50.121Z"
   },
   {
    "duration": 8405,
    "start_time": "2022-03-29T10:51:29.424Z"
   },
   {
    "duration": 1436,
    "start_time": "2022-03-29T10:52:01.354Z"
   },
   {
    "duration": 93,
    "start_time": "2022-03-29T10:59:10.788Z"
   },
   {
    "duration": 9,
    "start_time": "2022-03-29T11:01:02.959Z"
   },
   {
    "duration": 11,
    "start_time": "2022-03-29T11:01:45.591Z"
   },
   {
    "duration": 13,
    "start_time": "2022-03-29T11:02:02.527Z"
   },
   {
    "duration": 11,
    "start_time": "2022-03-29T11:02:09.543Z"
   },
   {
    "duration": 271,
    "start_time": "2022-03-29T11:02:49.232Z"
   },
   {
    "duration": 174,
    "start_time": "2022-03-29T11:13:10.179Z"
   },
   {
    "duration": 2087,
    "start_time": "2022-03-29T11:13:17.993Z"
   },
   {
    "duration": 58,
    "start_time": "2022-03-29T11:13:20.083Z"
   },
   {
    "duration": 7,
    "start_time": "2022-03-29T11:13:20.144Z"
   },
   {
    "duration": 33,
    "start_time": "2022-03-29T11:13:20.153Z"
   },
   {
    "duration": 34,
    "start_time": "2022-03-29T11:13:20.191Z"
   },
   {
    "duration": 38,
    "start_time": "2022-03-29T11:13:20.228Z"
   },
   {
    "duration": 27,
    "start_time": "2022-03-29T11:13:20.268Z"
   },
   {
    "duration": 34,
    "start_time": "2022-03-29T11:13:20.298Z"
   },
   {
    "duration": 19,
    "start_time": "2022-03-29T11:13:20.334Z"
   },
   {
    "duration": 19,
    "start_time": "2022-03-29T11:13:20.356Z"
   },
   {
    "duration": 44,
    "start_time": "2022-03-29T11:13:20.377Z"
   },
   {
    "duration": 20,
    "start_time": "2022-03-29T11:13:20.423Z"
   },
   {
    "duration": 29,
    "start_time": "2022-03-29T11:13:20.445Z"
   },
   {
    "duration": 50,
    "start_time": "2022-03-29T11:13:20.480Z"
   },
   {
    "duration": 19,
    "start_time": "2022-03-29T11:13:20.533Z"
   },
   {
    "duration": 55,
    "start_time": "2022-03-29T11:13:20.554Z"
   },
   {
    "duration": 3,
    "start_time": "2022-03-29T11:13:20.611Z"
   },
   {
    "duration": 40,
    "start_time": "2022-03-29T11:13:20.617Z"
   },
   {
    "duration": 9,
    "start_time": "2022-03-29T11:13:20.659Z"
   },
   {
    "duration": 45,
    "start_time": "2022-03-29T11:13:20.671Z"
   },
   {
    "duration": 10,
    "start_time": "2022-03-29T11:13:20.718Z"
   },
   {
    "duration": 13,
    "start_time": "2022-03-29T11:13:20.730Z"
   },
   {
    "duration": 45,
    "start_time": "2022-03-29T11:13:20.745Z"
   },
   {
    "duration": 246,
    "start_time": "2022-03-29T11:13:20.793Z"
   },
   {
    "duration": 8448,
    "start_time": "2022-03-29T11:13:21.041Z"
   },
   {
    "duration": 1415,
    "start_time": "2022-03-29T11:13:29.492Z"
   },
   {
    "duration": 194,
    "start_time": "2022-03-29T11:13:30.984Z"
   },
   {
    "duration": 18,
    "start_time": "2022-03-29T11:13:31.181Z"
   },
   {
    "duration": 52,
    "start_time": "2022-03-29T11:13:31.204Z"
   },
   {
    "duration": 257,
    "start_time": "2022-03-29T11:13:31.258Z"
   },
   {
    "duration": 186,
    "start_time": "2022-03-29T11:13:31.518Z"
   },
   {
    "duration": 21,
    "start_time": "2022-03-29T11:15:48.463Z"
   },
   {
    "duration": 17,
    "start_time": "2022-03-29T11:16:08.678Z"
   },
   {
    "duration": 187,
    "start_time": "2022-03-29T11:57:27.629Z"
   },
   {
    "duration": 1686,
    "start_time": "2022-03-29T11:57:32.546Z"
   },
   {
    "duration": 54,
    "start_time": "2022-03-29T11:57:34.235Z"
   },
   {
    "duration": 4,
    "start_time": "2022-03-29T11:57:34.291Z"
   },
   {
    "duration": 4,
    "start_time": "2022-03-29T11:57:34.297Z"
   },
   {
    "duration": 21,
    "start_time": "2022-03-29T11:57:34.303Z"
   },
   {
    "duration": 16,
    "start_time": "2022-03-29T11:57:34.326Z"
   },
   {
    "duration": 14,
    "start_time": "2022-03-29T11:57:34.344Z"
   },
   {
    "duration": 16,
    "start_time": "2022-03-29T11:57:34.359Z"
   },
   {
    "duration": 20,
    "start_time": "2022-03-29T11:57:34.377Z"
   },
   {
    "duration": 12,
    "start_time": "2022-03-29T11:57:34.399Z"
   },
   {
    "duration": 28,
    "start_time": "2022-03-29T11:57:34.413Z"
   },
   {
    "duration": 21,
    "start_time": "2022-03-29T11:57:34.442Z"
   },
   {
    "duration": 20,
    "start_time": "2022-03-29T11:57:34.464Z"
   },
   {
    "duration": 31,
    "start_time": "2022-03-29T11:57:34.486Z"
   },
   {
    "duration": 14,
    "start_time": "2022-03-29T11:57:34.518Z"
   },
   {
    "duration": 46,
    "start_time": "2022-03-29T11:57:34.533Z"
   },
   {
    "duration": 2,
    "start_time": "2022-03-29T11:57:34.581Z"
   },
   {
    "duration": 196,
    "start_time": "2022-03-29T11:57:34.584Z"
   },
   {
    "duration": 0,
    "start_time": "2022-03-29T11:57:34.782Z"
   },
   {
    "duration": 0,
    "start_time": "2022-03-29T11:57:34.783Z"
   },
   {
    "duration": 0,
    "start_time": "2022-03-29T11:57:34.784Z"
   },
   {
    "duration": 0,
    "start_time": "2022-03-29T11:57:34.785Z"
   },
   {
    "duration": 0,
    "start_time": "2022-03-29T11:57:34.786Z"
   },
   {
    "duration": 0,
    "start_time": "2022-03-29T11:57:34.787Z"
   },
   {
    "duration": 0,
    "start_time": "2022-03-29T11:57:34.788Z"
   },
   {
    "duration": 0,
    "start_time": "2022-03-29T11:57:34.789Z"
   },
   {
    "duration": 0,
    "start_time": "2022-03-29T11:57:34.790Z"
   },
   {
    "duration": 0,
    "start_time": "2022-03-29T11:57:34.791Z"
   },
   {
    "duration": 0,
    "start_time": "2022-03-29T11:57:34.792Z"
   },
   {
    "duration": 0,
    "start_time": "2022-03-29T11:57:34.793Z"
   },
   {
    "duration": 0,
    "start_time": "2022-03-29T11:57:34.794Z"
   },
   {
    "duration": 18,
    "start_time": "2022-03-29T11:57:59.252Z"
   },
   {
    "duration": 3666,
    "start_time": "2022-03-29T11:58:46.037Z"
   },
   {
    "duration": 3786,
    "start_time": "2022-03-29T11:58:57.355Z"
   },
   {
    "duration": 3284,
    "start_time": "2022-03-29T11:59:07.107Z"
   },
   {
    "duration": 3303,
    "start_time": "2022-03-29T11:59:44.114Z"
   },
   {
    "duration": 1755,
    "start_time": "2022-03-29T11:59:57.324Z"
   },
   {
    "duration": 56,
    "start_time": "2022-03-29T11:59:59.082Z"
   },
   {
    "duration": 4,
    "start_time": "2022-03-29T11:59:59.139Z"
   },
   {
    "duration": 24,
    "start_time": "2022-03-29T11:59:59.144Z"
   },
   {
    "duration": 32,
    "start_time": "2022-03-29T11:59:59.170Z"
   },
   {
    "duration": 37,
    "start_time": "2022-03-29T11:59:59.203Z"
   },
   {
    "duration": 36,
    "start_time": "2022-03-29T11:59:59.241Z"
   },
   {
    "duration": 31,
    "start_time": "2022-03-29T11:59:59.279Z"
   },
   {
    "duration": 25,
    "start_time": "2022-03-29T11:59:59.312Z"
   },
   {
    "duration": 15,
    "start_time": "2022-03-29T11:59:59.339Z"
   },
   {
    "duration": 21,
    "start_time": "2022-03-29T11:59:59.356Z"
   },
   {
    "duration": 15,
    "start_time": "2022-03-29T11:59:59.379Z"
   },
   {
    "duration": 17,
    "start_time": "2022-03-29T11:59:59.396Z"
   },
   {
    "duration": 20,
    "start_time": "2022-03-29T11:59:59.415Z"
   },
   {
    "duration": 7,
    "start_time": "2022-03-29T11:59:59.436Z"
   },
   {
    "duration": 24,
    "start_time": "2022-03-29T11:59:59.444Z"
   },
   {
    "duration": 2,
    "start_time": "2022-03-29T11:59:59.469Z"
   },
   {
    "duration": 14,
    "start_time": "2022-03-29T11:59:59.472Z"
   },
   {
    "duration": 6,
    "start_time": "2022-03-29T11:59:59.487Z"
   },
   {
    "duration": 17,
    "start_time": "2022-03-29T11:59:59.494Z"
   },
   {
    "duration": 11,
    "start_time": "2022-03-29T11:59:59.513Z"
   },
   {
    "duration": 8,
    "start_time": "2022-03-29T11:59:59.525Z"
   },
   {
    "duration": 16,
    "start_time": "2022-03-29T11:59:59.534Z"
   },
   {
    "duration": 124,
    "start_time": "2022-03-29T11:59:59.552Z"
   },
   {
    "duration": 0,
    "start_time": "2022-03-29T11:59:59.678Z"
   },
   {
    "duration": 1,
    "start_time": "2022-03-29T11:59:59.680Z"
   },
   {
    "duration": 0,
    "start_time": "2022-03-29T11:59:59.682Z"
   },
   {
    "duration": 0,
    "start_time": "2022-03-29T11:59:59.683Z"
   },
   {
    "duration": 0,
    "start_time": "2022-03-29T11:59:59.684Z"
   },
   {
    "duration": 0,
    "start_time": "2022-03-29T11:59:59.686Z"
   },
   {
    "duration": 0,
    "start_time": "2022-03-29T11:59:59.701Z"
   },
   {
    "duration": 11,
    "start_time": "2022-03-29T12:00:22.588Z"
   },
   {
    "duration": 8,
    "start_time": "2022-03-29T12:00:29.563Z"
   },
   {
    "duration": 7,
    "start_time": "2022-03-29T12:00:43.637Z"
   },
   {
    "duration": 8,
    "start_time": "2022-03-29T12:00:56.570Z"
   },
   {
    "duration": 9,
    "start_time": "2022-03-29T12:01:12.196Z"
   },
   {
    "duration": 5,
    "start_time": "2022-03-29T12:01:25.980Z"
   },
   {
    "duration": 12,
    "start_time": "2022-03-29T12:01:35.885Z"
   },
   {
    "duration": 17,
    "start_time": "2022-03-29T12:01:57.750Z"
   },
   {
    "duration": 25,
    "start_time": "2022-03-29T12:02:18.361Z"
   },
   {
    "duration": 19,
    "start_time": "2022-03-29T12:02:35.757Z"
   },
   {
    "duration": 1846,
    "start_time": "2022-03-29T12:02:41.994Z"
   },
   {
    "duration": 58,
    "start_time": "2022-03-29T12:02:43.842Z"
   },
   {
    "duration": 4,
    "start_time": "2022-03-29T12:02:43.902Z"
   },
   {
    "duration": 4,
    "start_time": "2022-03-29T12:02:43.908Z"
   },
   {
    "duration": 2,
    "start_time": "2022-03-29T12:02:43.915Z"
   },
   {
    "duration": 18,
    "start_time": "2022-03-29T12:02:43.919Z"
   },
   {
    "duration": 12,
    "start_time": "2022-03-29T12:02:43.939Z"
   },
   {
    "duration": 11,
    "start_time": "2022-03-29T12:02:43.953Z"
   },
   {
    "duration": 8,
    "start_time": "2022-03-29T12:02:43.966Z"
   },
   {
    "duration": 8,
    "start_time": "2022-03-29T12:02:43.976Z"
   },
   {
    "duration": 16,
    "start_time": "2022-03-29T12:02:43.986Z"
   },
   {
    "duration": 11,
    "start_time": "2022-03-29T12:02:44.004Z"
   },
   {
    "duration": 6,
    "start_time": "2022-03-29T12:02:44.017Z"
   },
   {
    "duration": 19,
    "start_time": "2022-03-29T12:02:44.026Z"
   },
   {
    "duration": 11,
    "start_time": "2022-03-29T12:02:44.046Z"
   },
   {
    "duration": 24,
    "start_time": "2022-03-29T12:02:44.059Z"
   },
   {
    "duration": 2,
    "start_time": "2022-03-29T12:02:44.085Z"
   },
   {
    "duration": 23,
    "start_time": "2022-03-29T12:02:44.089Z"
   },
   {
    "duration": 6,
    "start_time": "2022-03-29T12:02:44.113Z"
   },
   {
    "duration": 12,
    "start_time": "2022-03-29T12:02:44.120Z"
   },
   {
    "duration": 9,
    "start_time": "2022-03-29T12:02:44.134Z"
   },
   {
    "duration": 6,
    "start_time": "2022-03-29T12:02:44.145Z"
   },
   {
    "duration": 13,
    "start_time": "2022-03-29T12:02:44.153Z"
   },
   {
    "duration": 156,
    "start_time": "2022-03-29T12:02:44.168Z"
   },
   {
    "duration": 7836,
    "start_time": "2022-03-29T12:02:44.326Z"
   },
   {
    "duration": 540,
    "start_time": "2022-03-29T12:02:52.163Z"
   },
   {
    "duration": 148,
    "start_time": "2022-03-29T12:02:52.707Z"
   },
   {
    "duration": 6,
    "start_time": "2022-03-29T12:02:52.857Z"
   },
   {
    "duration": 7,
    "start_time": "2022-03-29T12:02:52.865Z"
   },
   {
    "duration": 180,
    "start_time": "2022-03-29T12:02:52.874Z"
   },
   {
    "duration": 12,
    "start_time": "2022-03-29T12:02:53.056Z"
   },
   {
    "duration": 1513,
    "start_time": "2022-03-29T12:04:18.794Z"
   },
   {
    "duration": 43,
    "start_time": "2022-03-29T12:04:20.308Z"
   },
   {
    "duration": 4,
    "start_time": "2022-03-29T12:04:20.353Z"
   },
   {
    "duration": 23,
    "start_time": "2022-03-29T12:04:20.358Z"
   },
   {
    "duration": 26,
    "start_time": "2022-03-29T12:04:20.384Z"
   },
   {
    "duration": 28,
    "start_time": "2022-03-29T12:04:20.411Z"
   },
   {
    "duration": 31,
    "start_time": "2022-03-29T12:04:20.440Z"
   },
   {
    "duration": 23,
    "start_time": "2022-03-29T12:04:20.473Z"
   },
   {
    "duration": 30,
    "start_time": "2022-03-29T12:04:20.498Z"
   },
   {
    "duration": 24,
    "start_time": "2022-03-29T12:04:20.529Z"
   },
   {
    "duration": 25,
    "start_time": "2022-03-29T12:04:20.555Z"
   },
   {
    "duration": 26,
    "start_time": "2022-03-29T12:04:20.581Z"
   },
   {
    "duration": 18,
    "start_time": "2022-03-29T12:04:20.608Z"
   },
   {
    "duration": 40,
    "start_time": "2022-03-29T12:04:20.628Z"
   },
   {
    "duration": 25,
    "start_time": "2022-03-29T12:04:20.669Z"
   },
   {
    "duration": 38,
    "start_time": "2022-03-29T12:04:20.696Z"
   },
   {
    "duration": 9,
    "start_time": "2022-03-29T12:04:20.736Z"
   },
   {
    "duration": 39,
    "start_time": "2022-03-29T12:04:20.746Z"
   },
   {
    "duration": 9,
    "start_time": "2022-03-29T12:04:20.786Z"
   },
   {
    "duration": 27,
    "start_time": "2022-03-29T12:04:20.797Z"
   },
   {
    "duration": 20,
    "start_time": "2022-03-29T12:04:20.826Z"
   },
   {
    "duration": 37,
    "start_time": "2022-03-29T12:04:20.847Z"
   },
   {
    "duration": 42,
    "start_time": "2022-03-29T12:04:20.886Z"
   },
   {
    "duration": 171,
    "start_time": "2022-03-29T12:04:20.930Z"
   },
   {
    "duration": 5770,
    "start_time": "2022-03-29T12:04:21.103Z"
   },
   {
    "duration": 429,
    "start_time": "2022-03-29T12:04:26.875Z"
   },
   {
    "duration": 237,
    "start_time": "2022-03-29T12:04:27.307Z"
   },
   {
    "duration": 7,
    "start_time": "2022-03-29T12:04:27.546Z"
   },
   {
    "duration": 21,
    "start_time": "2022-03-29T12:04:27.555Z"
   },
   {
    "duration": 156,
    "start_time": "2022-03-29T12:04:27.578Z"
   },
   {
    "duration": 11,
    "start_time": "2022-03-29T12:04:27.736Z"
   },
   {
    "duration": 105,
    "start_time": "2022-03-29T12:08:29.360Z"
   },
   {
    "duration": 8,
    "start_time": "2022-03-29T12:08:51.610Z"
   },
   {
    "duration": 13,
    "start_time": "2022-03-29T12:09:30.350Z"
   },
   {
    "duration": 1658,
    "start_time": "2022-03-29T12:09:36.567Z"
   },
   {
    "duration": 43,
    "start_time": "2022-03-29T12:09:38.228Z"
   },
   {
    "duration": 4,
    "start_time": "2022-03-29T12:09:38.272Z"
   },
   {
    "duration": 14,
    "start_time": "2022-03-29T12:09:38.278Z"
   },
   {
    "duration": 14,
    "start_time": "2022-03-29T12:09:38.294Z"
   },
   {
    "duration": 27,
    "start_time": "2022-03-29T12:09:38.310Z"
   },
   {
    "duration": 22,
    "start_time": "2022-03-29T12:09:38.338Z"
   },
   {
    "duration": 16,
    "start_time": "2022-03-29T12:09:38.362Z"
   },
   {
    "duration": 8,
    "start_time": "2022-03-29T12:09:38.379Z"
   },
   {
    "duration": 21,
    "start_time": "2022-03-29T12:09:38.390Z"
   },
   {
    "duration": 26,
    "start_time": "2022-03-29T12:09:38.413Z"
   },
   {
    "duration": 24,
    "start_time": "2022-03-29T12:09:38.441Z"
   },
   {
    "duration": 6,
    "start_time": "2022-03-29T12:09:38.466Z"
   },
   {
    "duration": 35,
    "start_time": "2022-03-29T12:09:38.473Z"
   },
   {
    "duration": 14,
    "start_time": "2022-03-29T12:09:38.509Z"
   },
   {
    "duration": 36,
    "start_time": "2022-03-29T12:09:38.524Z"
   },
   {
    "duration": 3,
    "start_time": "2022-03-29T12:09:38.562Z"
   },
   {
    "duration": 35,
    "start_time": "2022-03-29T12:09:38.566Z"
   },
   {
    "duration": 17,
    "start_time": "2022-03-29T12:09:38.603Z"
   },
   {
    "duration": 27,
    "start_time": "2022-03-29T12:09:38.622Z"
   },
   {
    "duration": 10,
    "start_time": "2022-03-29T12:09:38.651Z"
   },
   {
    "duration": 18,
    "start_time": "2022-03-29T12:09:38.664Z"
   },
   {
    "duration": 30,
    "start_time": "2022-03-29T12:09:38.684Z"
   },
   {
    "duration": 161,
    "start_time": "2022-03-29T12:09:38.716Z"
   },
   {
    "duration": 5074,
    "start_time": "2022-03-29T12:09:38.879Z"
   },
   {
    "duration": 451,
    "start_time": "2022-03-29T12:09:43.954Z"
   },
   {
    "duration": 240,
    "start_time": "2022-03-29T12:09:44.407Z"
   },
   {
    "duration": 6,
    "start_time": "2022-03-29T12:09:44.650Z"
   },
   {
    "duration": 8,
    "start_time": "2022-03-29T12:09:44.657Z"
   },
   {
    "duration": 172,
    "start_time": "2022-03-29T12:09:44.667Z"
   },
   {
    "duration": 12,
    "start_time": "2022-03-29T12:09:44.841Z"
   },
   {
    "duration": 133,
    "start_time": "2022-03-29T12:09:44.855Z"
   },
   {
    "duration": 9,
    "start_time": "2022-03-29T12:11:40.134Z"
   },
   {
    "duration": 5,
    "start_time": "2022-03-29T12:11:46.733Z"
   },
   {
    "duration": 8,
    "start_time": "2022-03-29T12:12:08.205Z"
   },
   {
    "duration": 9,
    "start_time": "2022-03-29T12:12:14.239Z"
   },
   {
    "duration": 1523,
    "start_time": "2022-03-29T12:12:21.226Z"
   },
   {
    "duration": 44,
    "start_time": "2022-03-29T12:12:22.752Z"
   },
   {
    "duration": 4,
    "start_time": "2022-03-29T12:12:22.798Z"
   },
   {
    "duration": 7,
    "start_time": "2022-03-29T12:12:22.803Z"
   },
   {
    "duration": 4,
    "start_time": "2022-03-29T12:12:22.813Z"
   },
   {
    "duration": 20,
    "start_time": "2022-03-29T12:12:22.818Z"
   },
   {
    "duration": 11,
    "start_time": "2022-03-29T12:12:22.839Z"
   },
   {
    "duration": 8,
    "start_time": "2022-03-29T12:12:22.852Z"
   },
   {
    "duration": 7,
    "start_time": "2022-03-29T12:12:22.862Z"
   },
   {
    "duration": 32,
    "start_time": "2022-03-29T12:12:22.870Z"
   },
   {
    "duration": 9,
    "start_time": "2022-03-29T12:12:22.904Z"
   },
   {
    "duration": 10,
    "start_time": "2022-03-29T12:12:22.915Z"
   },
   {
    "duration": 9,
    "start_time": "2022-03-29T12:12:22.927Z"
   },
   {
    "duration": 15,
    "start_time": "2022-03-29T12:12:22.939Z"
   },
   {
    "duration": 6,
    "start_time": "2022-03-29T12:12:22.955Z"
   },
   {
    "duration": 40,
    "start_time": "2022-03-29T12:12:22.962Z"
   },
   {
    "duration": 2,
    "start_time": "2022-03-29T12:12:23.004Z"
   },
   {
    "duration": 20,
    "start_time": "2022-03-29T12:12:23.008Z"
   },
   {
    "duration": 6,
    "start_time": "2022-03-29T12:12:23.029Z"
   },
   {
    "duration": 12,
    "start_time": "2022-03-29T12:12:23.036Z"
   },
   {
    "duration": 8,
    "start_time": "2022-03-29T12:12:23.050Z"
   },
   {
    "duration": 9,
    "start_time": "2022-03-29T12:12:23.060Z"
   },
   {
    "duration": 36,
    "start_time": "2022-03-29T12:12:23.070Z"
   },
   {
    "duration": 153,
    "start_time": "2022-03-29T12:12:23.108Z"
   },
   {
    "duration": 5187,
    "start_time": "2022-03-29T12:12:23.263Z"
   },
   {
    "duration": 549,
    "start_time": "2022-03-29T12:12:28.453Z"
   },
   {
    "duration": 148,
    "start_time": "2022-03-29T12:12:29.005Z"
   },
   {
    "duration": 7,
    "start_time": "2022-03-29T12:12:29.155Z"
   },
   {
    "duration": 16,
    "start_time": "2022-03-29T12:12:29.163Z"
   },
   {
    "duration": 160,
    "start_time": "2022-03-29T12:12:29.181Z"
   },
   {
    "duration": 11,
    "start_time": "2022-03-29T12:12:29.343Z"
   },
   {
    "duration": 10,
    "start_time": "2022-03-29T12:12:29.356Z"
   },
   {
    "duration": 100,
    "start_time": "2022-03-29T12:12:49.578Z"
   },
   {
    "duration": 14,
    "start_time": "2022-03-29T12:13:21.794Z"
   },
   {
    "duration": 11,
    "start_time": "2022-03-29T12:13:27.714Z"
   },
   {
    "duration": 11,
    "start_time": "2022-03-29T12:14:12.044Z"
   },
   {
    "duration": 12,
    "start_time": "2022-03-29T12:14:16.581Z"
   },
   {
    "duration": 1437,
    "start_time": "2022-03-29T12:14:21.850Z"
   },
   {
    "duration": 52,
    "start_time": "2022-03-29T12:14:23.289Z"
   },
   {
    "duration": 4,
    "start_time": "2022-03-29T12:14:23.342Z"
   },
   {
    "duration": 5,
    "start_time": "2022-03-29T12:14:23.348Z"
   },
   {
    "duration": 4,
    "start_time": "2022-03-29T12:14:23.354Z"
   },
   {
    "duration": 13,
    "start_time": "2022-03-29T12:14:23.360Z"
   },
   {
    "duration": 10,
    "start_time": "2022-03-29T12:14:23.374Z"
   },
   {
    "duration": 17,
    "start_time": "2022-03-29T12:14:23.385Z"
   },
   {
    "duration": 6,
    "start_time": "2022-03-29T12:14:23.403Z"
   },
   {
    "duration": 8,
    "start_time": "2022-03-29T12:14:23.411Z"
   },
   {
    "duration": 10,
    "start_time": "2022-03-29T12:14:23.421Z"
   },
   {
    "duration": 7,
    "start_time": "2022-03-29T12:14:23.432Z"
   },
   {
    "duration": 8,
    "start_time": "2022-03-29T12:14:23.441Z"
   },
   {
    "duration": 16,
    "start_time": "2022-03-29T12:14:23.451Z"
   },
   {
    "duration": 9,
    "start_time": "2022-03-29T12:14:23.468Z"
   },
   {
    "duration": 38,
    "start_time": "2022-03-29T12:14:23.478Z"
   },
   {
    "duration": 2,
    "start_time": "2022-03-29T12:14:23.518Z"
   },
   {
    "duration": 19,
    "start_time": "2022-03-29T12:14:23.522Z"
   },
   {
    "duration": 5,
    "start_time": "2022-03-29T12:14:23.543Z"
   },
   {
    "duration": 9,
    "start_time": "2022-03-29T12:14:23.549Z"
   },
   {
    "duration": 8,
    "start_time": "2022-03-29T12:14:23.559Z"
   },
   {
    "duration": 33,
    "start_time": "2022-03-29T12:14:23.568Z"
   },
   {
    "duration": 11,
    "start_time": "2022-03-29T12:14:23.603Z"
   },
   {
    "duration": 159,
    "start_time": "2022-03-29T12:14:23.616Z"
   },
   {
    "duration": 5137,
    "start_time": "2022-03-29T12:14:23.776Z"
   },
   {
    "duration": 388,
    "start_time": "2022-03-29T12:14:28.915Z"
   },
   {
    "duration": 147,
    "start_time": "2022-03-29T12:14:29.306Z"
   },
   {
    "duration": 7,
    "start_time": "2022-03-29T12:14:29.456Z"
   },
   {
    "duration": 6,
    "start_time": "2022-03-29T12:14:29.465Z"
   },
   {
    "duration": 167,
    "start_time": "2022-03-29T12:14:29.473Z"
   },
   {
    "duration": 11,
    "start_time": "2022-03-29T12:14:29.641Z"
   },
   {
    "duration": 118,
    "start_time": "2022-03-29T12:14:29.654Z"
   },
   {
    "duration": 6,
    "start_time": "2022-03-29T12:18:34.964Z"
   },
   {
    "duration": 6,
    "start_time": "2022-03-29T12:18:54.341Z"
   },
   {
    "duration": 12,
    "start_time": "2022-03-29T12:20:12.077Z"
   },
   {
    "duration": 10,
    "start_time": "2022-03-29T12:20:32.181Z"
   },
   {
    "duration": 1510,
    "start_time": "2022-03-29T12:20:37.947Z"
   },
   {
    "duration": 42,
    "start_time": "2022-03-29T12:20:39.459Z"
   },
   {
    "duration": 4,
    "start_time": "2022-03-29T12:20:39.503Z"
   },
   {
    "duration": 14,
    "start_time": "2022-03-29T12:20:39.508Z"
   },
   {
    "duration": 2,
    "start_time": "2022-03-29T12:20:39.524Z"
   },
   {
    "duration": 13,
    "start_time": "2022-03-29T12:20:39.528Z"
   },
   {
    "duration": 9,
    "start_time": "2022-03-29T12:20:39.542Z"
   },
   {
    "duration": 7,
    "start_time": "2022-03-29T12:20:39.553Z"
   },
   {
    "duration": 41,
    "start_time": "2022-03-29T12:20:39.561Z"
   },
   {
    "duration": 7,
    "start_time": "2022-03-29T12:20:39.603Z"
   },
   {
    "duration": 8,
    "start_time": "2022-03-29T12:20:39.612Z"
   },
   {
    "duration": 5,
    "start_time": "2022-03-29T12:20:39.622Z"
   },
   {
    "duration": 6,
    "start_time": "2022-03-29T12:20:39.629Z"
   },
   {
    "duration": 17,
    "start_time": "2022-03-29T12:20:39.638Z"
   },
   {
    "duration": 8,
    "start_time": "2022-03-29T12:20:39.656Z"
   },
   {
    "duration": 47,
    "start_time": "2022-03-29T12:20:39.666Z"
   },
   {
    "duration": 2,
    "start_time": "2022-03-29T12:20:39.714Z"
   },
   {
    "duration": 20,
    "start_time": "2022-03-29T12:20:39.717Z"
   },
   {
    "duration": 10,
    "start_time": "2022-03-29T12:20:39.739Z"
   },
   {
    "duration": 6,
    "start_time": "2022-03-29T12:20:39.751Z"
   },
   {
    "duration": 9,
    "start_time": "2022-03-29T12:20:39.759Z"
   },
   {
    "duration": 32,
    "start_time": "2022-03-29T12:20:39.769Z"
   },
   {
    "duration": 11,
    "start_time": "2022-03-29T12:20:39.803Z"
   },
   {
    "duration": 169,
    "start_time": "2022-03-29T12:20:39.816Z"
   },
   {
    "duration": 5721,
    "start_time": "2022-03-29T12:20:39.987Z"
   },
   {
    "duration": 295,
    "start_time": "2022-03-29T12:20:45.710Z"
   },
   {
    "duration": 154,
    "start_time": "2022-03-29T12:20:46.008Z"
   },
   {
    "duration": 6,
    "start_time": "2022-03-29T12:20:46.163Z"
   },
   {
    "duration": 6,
    "start_time": "2022-03-29T12:20:46.171Z"
   },
   {
    "duration": 186,
    "start_time": "2022-03-29T12:20:46.179Z"
   },
   {
    "duration": 11,
    "start_time": "2022-03-29T12:20:46.367Z"
   },
   {
    "duration": 10,
    "start_time": "2022-03-29T12:20:46.379Z"
   },
   {
    "duration": 7,
    "start_time": "2022-03-29T12:24:37.096Z"
   },
   {
    "duration": 11,
    "start_time": "2022-03-29T12:24:38.532Z"
   },
   {
    "duration": 1450,
    "start_time": "2022-03-29T12:24:44.856Z"
   },
   {
    "duration": 43,
    "start_time": "2022-03-29T12:24:46.309Z"
   },
   {
    "duration": 4,
    "start_time": "2022-03-29T12:24:46.354Z"
   },
   {
    "duration": 13,
    "start_time": "2022-03-29T12:24:46.359Z"
   },
   {
    "duration": 3,
    "start_time": "2022-03-29T12:24:46.374Z"
   },
   {
    "duration": 26,
    "start_time": "2022-03-29T12:24:46.378Z"
   },
   {
    "duration": 9,
    "start_time": "2022-03-29T12:24:46.405Z"
   },
   {
    "duration": 7,
    "start_time": "2022-03-29T12:24:46.415Z"
   },
   {
    "duration": 5,
    "start_time": "2022-03-29T12:24:46.424Z"
   },
   {
    "duration": 5,
    "start_time": "2022-03-29T12:24:46.431Z"
   },
   {
    "duration": 10,
    "start_time": "2022-03-29T12:24:46.438Z"
   },
   {
    "duration": 8,
    "start_time": "2022-03-29T12:24:46.449Z"
   },
   {
    "duration": 9,
    "start_time": "2022-03-29T12:24:46.458Z"
   },
   {
    "duration": 36,
    "start_time": "2022-03-29T12:24:46.470Z"
   },
   {
    "duration": 4,
    "start_time": "2022-03-29T12:24:46.507Z"
   },
   {
    "duration": 25,
    "start_time": "2022-03-29T12:24:46.513Z"
   },
   {
    "duration": 2,
    "start_time": "2022-03-29T12:24:46.540Z"
   },
   {
    "duration": 23,
    "start_time": "2022-03-29T12:24:46.543Z"
   },
   {
    "duration": 6,
    "start_time": "2022-03-29T12:24:46.568Z"
   },
   {
    "duration": 27,
    "start_time": "2022-03-29T12:24:46.575Z"
   },
   {
    "duration": 8,
    "start_time": "2022-03-29T12:24:46.604Z"
   },
   {
    "duration": 7,
    "start_time": "2022-03-29T12:24:46.613Z"
   },
   {
    "duration": 8,
    "start_time": "2022-03-29T12:24:46.621Z"
   },
   {
    "duration": 15,
    "start_time": "2022-03-29T12:24:46.630Z"
   },
   {
    "duration": 171,
    "start_time": "2022-03-29T12:24:46.647Z"
   },
   {
    "duration": 5131,
    "start_time": "2022-03-29T12:24:46.819Z"
   },
   {
    "duration": 553,
    "start_time": "2022-03-29T12:24:51.952Z"
   },
   {
    "duration": 143,
    "start_time": "2022-03-29T12:24:52.507Z"
   },
   {
    "duration": 6,
    "start_time": "2022-03-29T12:24:52.652Z"
   },
   {
    "duration": 7,
    "start_time": "2022-03-29T12:24:52.660Z"
   },
   {
    "duration": 173,
    "start_time": "2022-03-29T12:24:52.668Z"
   },
   {
    "duration": 11,
    "start_time": "2022-03-29T12:24:52.843Z"
   },
   {
    "duration": 10,
    "start_time": "2022-03-29T12:24:52.855Z"
   },
   {
    "duration": 110,
    "start_time": "2022-03-29T12:25:06.482Z"
   },
   {
    "duration": 181,
    "start_time": "2022-03-29T12:28:53.821Z"
   },
   {
    "duration": 10,
    "start_time": "2022-03-29T12:29:00.765Z"
   },
   {
    "duration": 1661,
    "start_time": "2022-03-29T12:29:15.852Z"
   },
   {
    "duration": 54,
    "start_time": "2022-03-29T12:29:17.516Z"
   },
   {
    "duration": 5,
    "start_time": "2022-03-29T12:29:17.571Z"
   },
   {
    "duration": 38,
    "start_time": "2022-03-29T12:29:17.577Z"
   },
   {
    "duration": 10,
    "start_time": "2022-03-29T12:29:17.617Z"
   },
   {
    "duration": 23,
    "start_time": "2022-03-29T12:29:17.629Z"
   },
   {
    "duration": 14,
    "start_time": "2022-03-29T12:29:17.654Z"
   },
   {
    "duration": 12,
    "start_time": "2022-03-29T12:29:17.669Z"
   },
   {
    "duration": 16,
    "start_time": "2022-03-29T12:29:17.683Z"
   },
   {
    "duration": 21,
    "start_time": "2022-03-29T12:29:17.701Z"
   },
   {
    "duration": 23,
    "start_time": "2022-03-29T12:29:17.723Z"
   },
   {
    "duration": 6,
    "start_time": "2022-03-29T12:29:17.748Z"
   },
   {
    "duration": 4,
    "start_time": "2022-03-29T12:29:17.755Z"
   },
   {
    "duration": 14,
    "start_time": "2022-03-29T12:29:17.762Z"
   },
   {
    "duration": 6,
    "start_time": "2022-03-29T12:29:17.778Z"
   },
   {
    "duration": 32,
    "start_time": "2022-03-29T12:29:17.785Z"
   },
   {
    "duration": 2,
    "start_time": "2022-03-29T12:29:17.819Z"
   },
   {
    "duration": 21,
    "start_time": "2022-03-29T12:29:17.823Z"
   },
   {
    "duration": 5,
    "start_time": "2022-03-29T12:29:17.846Z"
   },
   {
    "duration": 16,
    "start_time": "2022-03-29T12:29:17.853Z"
   },
   {
    "duration": 34,
    "start_time": "2022-03-29T12:29:17.871Z"
   },
   {
    "duration": 11,
    "start_time": "2022-03-29T12:29:17.906Z"
   },
   {
    "duration": 6,
    "start_time": "2022-03-29T12:29:17.918Z"
   },
   {
    "duration": 17,
    "start_time": "2022-03-29T12:29:17.926Z"
   },
   {
    "duration": 186,
    "start_time": "2022-03-29T12:29:17.945Z"
   },
   {
    "duration": 5566,
    "start_time": "2022-03-29T12:29:18.132Z"
   },
   {
    "duration": 307,
    "start_time": "2022-03-29T12:29:23.706Z"
   },
   {
    "duration": 242,
    "start_time": "2022-03-29T12:29:24.014Z"
   },
   {
    "duration": 5,
    "start_time": "2022-03-29T12:29:24.258Z"
   },
   {
    "duration": 7,
    "start_time": "2022-03-29T12:29:24.265Z"
   },
   {
    "duration": 172,
    "start_time": "2022-03-29T12:29:24.274Z"
   },
   {
    "duration": 11,
    "start_time": "2022-03-29T12:29:24.447Z"
   },
   {
    "duration": 24,
    "start_time": "2022-03-29T12:29:24.459Z"
   },
   {
    "duration": 25,
    "start_time": "2022-03-29T12:30:29.215Z"
   },
   {
    "duration": 4,
    "start_time": "2022-03-29T12:30:45.975Z"
   },
   {
    "duration": 39,
    "start_time": "2022-03-29T12:31:40.498Z"
   },
   {
    "duration": 23,
    "start_time": "2022-03-29T13:56:38.968Z"
   },
   {
    "duration": 1516,
    "start_time": "2022-03-29T13:57:53.597Z"
   },
   {
    "duration": 53,
    "start_time": "2022-03-29T13:57:55.115Z"
   },
   {
    "duration": 3,
    "start_time": "2022-03-29T13:57:55.170Z"
   },
   {
    "duration": 15,
    "start_time": "2022-03-29T13:57:55.175Z"
   },
   {
    "duration": 11,
    "start_time": "2022-03-29T13:57:55.192Z"
   },
   {
    "duration": 25,
    "start_time": "2022-03-29T13:57:55.205Z"
   },
   {
    "duration": 9,
    "start_time": "2022-03-29T13:57:55.231Z"
   },
   {
    "duration": 20,
    "start_time": "2022-03-29T13:57:55.242Z"
   },
   {
    "duration": 15,
    "start_time": "2022-03-29T13:57:55.264Z"
   },
   {
    "duration": 10,
    "start_time": "2022-03-29T13:57:55.281Z"
   },
   {
    "duration": 22,
    "start_time": "2022-03-29T13:57:55.293Z"
   },
   {
    "duration": 13,
    "start_time": "2022-03-29T13:57:55.316Z"
   },
   {
    "duration": 13,
    "start_time": "2022-03-29T13:57:55.331Z"
   },
   {
    "duration": 31,
    "start_time": "2022-03-29T13:57:55.346Z"
   },
   {
    "duration": 3,
    "start_time": "2022-03-29T13:57:55.379Z"
   },
   {
    "duration": 22,
    "start_time": "2022-03-29T13:57:55.384Z"
   },
   {
    "duration": 2,
    "start_time": "2022-03-29T13:57:55.407Z"
   },
   {
    "duration": 23,
    "start_time": "2022-03-29T13:57:55.411Z"
   },
   {
    "duration": 6,
    "start_time": "2022-03-29T13:57:55.435Z"
   },
   {
    "duration": 13,
    "start_time": "2022-03-29T13:57:55.442Z"
   },
   {
    "duration": 8,
    "start_time": "2022-03-29T13:57:55.456Z"
   },
   {
    "duration": 7,
    "start_time": "2022-03-29T13:57:55.466Z"
   },
   {
    "duration": 31,
    "start_time": "2022-03-29T13:57:55.475Z"
   },
   {
    "duration": 14,
    "start_time": "2022-03-29T13:57:55.507Z"
   },
   {
    "duration": 157,
    "start_time": "2022-03-29T13:57:55.523Z"
   },
   {
    "duration": 5096,
    "start_time": "2022-03-29T13:57:55.681Z"
   },
   {
    "duration": 422,
    "start_time": "2022-03-29T13:58:00.779Z"
   },
   {
    "duration": 146,
    "start_time": "2022-03-29T13:58:01.207Z"
   },
   {
    "duration": 6,
    "start_time": "2022-03-29T13:58:01.354Z"
   },
   {
    "duration": 9,
    "start_time": "2022-03-29T13:58:01.361Z"
   },
   {
    "duration": 161,
    "start_time": "2022-03-29T13:58:01.371Z"
   },
   {
    "duration": 11,
    "start_time": "2022-03-29T13:58:01.533Z"
   },
   {
    "duration": 4,
    "start_time": "2022-03-29T13:58:01.545Z"
   },
   {
    "duration": 128,
    "start_time": "2022-03-29T13:58:01.550Z"
   },
   {
    "duration": 0,
    "start_time": "2022-03-29T13:58:01.680Z"
   },
   {
    "duration": 7,
    "start_time": "2022-03-29T14:03:33.737Z"
   },
   {
    "duration": 54,
    "start_time": "2022-03-29T14:15:22.816Z"
   },
   {
    "duration": 1769,
    "start_time": "2022-03-29T14:15:29.146Z"
   },
   {
    "duration": 45,
    "start_time": "2022-03-29T14:15:30.917Z"
   },
   {
    "duration": 4,
    "start_time": "2022-03-29T14:15:30.964Z"
   },
   {
    "duration": 18,
    "start_time": "2022-03-29T14:15:30.970Z"
   },
   {
    "duration": 11,
    "start_time": "2022-03-29T14:15:30.991Z"
   },
   {
    "duration": 22,
    "start_time": "2022-03-29T14:15:31.004Z"
   },
   {
    "duration": 12,
    "start_time": "2022-03-29T14:15:31.028Z"
   },
   {
    "duration": 10,
    "start_time": "2022-03-29T14:15:31.042Z"
   },
   {
    "duration": 9,
    "start_time": "2022-03-29T14:15:31.054Z"
   },
   {
    "duration": 38,
    "start_time": "2022-03-29T14:15:31.065Z"
   },
   {
    "duration": 9,
    "start_time": "2022-03-29T14:15:31.106Z"
   },
   {
    "duration": 16,
    "start_time": "2022-03-29T14:15:31.117Z"
   },
   {
    "duration": 10,
    "start_time": "2022-03-29T14:15:31.135Z"
   },
   {
    "duration": 18,
    "start_time": "2022-03-29T14:15:31.148Z"
   },
   {
    "duration": 5,
    "start_time": "2022-03-29T14:15:31.168Z"
   },
   {
    "duration": 67,
    "start_time": "2022-03-29T14:15:31.174Z"
   },
   {
    "duration": 15,
    "start_time": "2022-03-29T14:15:31.244Z"
   },
   {
    "duration": 24,
    "start_time": "2022-03-29T14:15:31.261Z"
   },
   {
    "duration": 8,
    "start_time": "2022-03-29T14:15:31.286Z"
   },
   {
    "duration": 22,
    "start_time": "2022-03-29T14:15:31.296Z"
   },
   {
    "duration": 9,
    "start_time": "2022-03-29T14:15:31.320Z"
   },
   {
    "duration": 8,
    "start_time": "2022-03-29T14:15:31.331Z"
   },
   {
    "duration": 7,
    "start_time": "2022-03-29T14:15:31.341Z"
   },
   {
    "duration": 22,
    "start_time": "2022-03-29T14:15:31.350Z"
   },
   {
    "duration": 190,
    "start_time": "2022-03-29T14:15:31.374Z"
   },
   {
    "duration": 5687,
    "start_time": "2022-03-29T14:15:31.566Z"
   },
   {
    "duration": 552,
    "start_time": "2022-03-29T14:15:37.255Z"
   },
   {
    "duration": 244,
    "start_time": "2022-03-29T14:15:37.810Z"
   },
   {
    "duration": 7,
    "start_time": "2022-03-29T14:15:38.055Z"
   },
   {
    "duration": 7,
    "start_time": "2022-03-29T14:15:38.064Z"
   },
   {
    "duration": 176,
    "start_time": "2022-03-29T14:15:38.073Z"
   },
   {
    "duration": 12,
    "start_time": "2022-03-29T14:15:38.251Z"
   },
   {
    "duration": 6,
    "start_time": "2022-03-29T14:15:38.265Z"
   },
   {
    "duration": 137,
    "start_time": "2022-03-29T14:15:38.274Z"
   },
   {
    "duration": 0,
    "start_time": "2022-03-29T14:15:38.413Z"
   },
   {
    "duration": 6,
    "start_time": "2022-03-29T14:15:58.021Z"
   },
   {
    "duration": 15,
    "start_time": "2022-03-29T14:21:58.444Z"
   },
   {
    "duration": 1592,
    "start_time": "2022-03-29T14:22:04.837Z"
   },
   {
    "duration": 42,
    "start_time": "2022-03-29T14:22:06.432Z"
   },
   {
    "duration": 4,
    "start_time": "2022-03-29T14:22:06.476Z"
   },
   {
    "duration": 21,
    "start_time": "2022-03-29T14:22:06.482Z"
   },
   {
    "duration": 16,
    "start_time": "2022-03-29T14:22:06.506Z"
   },
   {
    "duration": 4,
    "start_time": "2022-03-29T14:22:06.524Z"
   },
   {
    "duration": 19,
    "start_time": "2022-03-29T14:22:06.530Z"
   },
   {
    "duration": 11,
    "start_time": "2022-03-29T14:22:06.551Z"
   },
   {
    "duration": 41,
    "start_time": "2022-03-29T14:22:06.564Z"
   },
   {
    "duration": 8,
    "start_time": "2022-03-29T14:22:06.606Z"
   },
   {
    "duration": 10,
    "start_time": "2022-03-29T14:22:06.616Z"
   },
   {
    "duration": 11,
    "start_time": "2022-03-29T14:22:06.629Z"
   },
   {
    "duration": 7,
    "start_time": "2022-03-29T14:22:06.642Z"
   },
   {
    "duration": 10,
    "start_time": "2022-03-29T14:22:06.653Z"
   },
   {
    "duration": 16,
    "start_time": "2022-03-29T14:22:06.702Z"
   },
   {
    "duration": 4,
    "start_time": "2022-03-29T14:22:06.721Z"
   },
   {
    "duration": 28,
    "start_time": "2022-03-29T14:22:06.727Z"
   },
   {
    "duration": 3,
    "start_time": "2022-03-29T14:22:06.756Z"
   },
   {
    "duration": 51,
    "start_time": "2022-03-29T14:22:06.761Z"
   },
   {
    "duration": 8,
    "start_time": "2022-03-29T14:22:06.814Z"
   },
   {
    "duration": 18,
    "start_time": "2022-03-29T14:22:06.823Z"
   },
   {
    "duration": 10,
    "start_time": "2022-03-29T14:22:06.843Z"
   },
   {
    "duration": 9,
    "start_time": "2022-03-29T14:22:06.854Z"
   },
   {
    "duration": 42,
    "start_time": "2022-03-29T14:22:06.865Z"
   },
   {
    "duration": 14,
    "start_time": "2022-03-29T14:22:06.909Z"
   },
   {
    "duration": 192,
    "start_time": "2022-03-29T14:22:06.925Z"
   },
   {
    "duration": 6097,
    "start_time": "2022-03-29T14:22:07.119Z"
   },
   {
    "duration": 990,
    "start_time": "2022-03-29T14:22:13.218Z"
   },
   {
    "duration": 196,
    "start_time": "2022-03-29T14:22:14.211Z"
   },
   {
    "duration": 7,
    "start_time": "2022-03-29T14:22:14.409Z"
   },
   {
    "duration": 12,
    "start_time": "2022-03-29T14:22:14.419Z"
   },
   {
    "duration": 181,
    "start_time": "2022-03-29T14:22:14.433Z"
   },
   {
    "duration": 13,
    "start_time": "2022-03-29T14:22:14.616Z"
   },
   {
    "duration": 5,
    "start_time": "2022-03-29T14:22:14.630Z"
   },
   {
    "duration": 4,
    "start_time": "2022-03-29T14:22:14.637Z"
   },
   {
    "duration": 79,
    "start_time": "2022-03-29T14:22:14.643Z"
   },
   {
    "duration": 1675,
    "start_time": "2022-03-29T14:23:19.512Z"
   },
   {
    "duration": 39,
    "start_time": "2022-03-29T14:23:21.189Z"
   },
   {
    "duration": 4,
    "start_time": "2022-03-29T14:23:21.230Z"
   },
   {
    "duration": 10,
    "start_time": "2022-03-29T14:23:21.236Z"
   },
   {
    "duration": 18,
    "start_time": "2022-03-29T14:23:21.248Z"
   },
   {
    "duration": 6,
    "start_time": "2022-03-29T14:23:21.267Z"
   },
   {
    "duration": 32,
    "start_time": "2022-03-29T14:23:21.275Z"
   },
   {
    "duration": 11,
    "start_time": "2022-03-29T14:23:21.309Z"
   },
   {
    "duration": 10,
    "start_time": "2022-03-29T14:23:21.322Z"
   },
   {
    "duration": 8,
    "start_time": "2022-03-29T14:23:21.335Z"
   },
   {
    "duration": 15,
    "start_time": "2022-03-29T14:23:21.344Z"
   },
   {
    "duration": 41,
    "start_time": "2022-03-29T14:23:21.361Z"
   },
   {
    "duration": 6,
    "start_time": "2022-03-29T14:23:21.404Z"
   },
   {
    "duration": 11,
    "start_time": "2022-03-29T14:23:21.412Z"
   },
   {
    "duration": 18,
    "start_time": "2022-03-29T14:23:21.424Z"
   },
   {
    "duration": 5,
    "start_time": "2022-03-29T14:23:21.445Z"
   },
   {
    "duration": 49,
    "start_time": "2022-03-29T14:23:21.453Z"
   },
   {
    "duration": 3,
    "start_time": "2022-03-29T14:23:21.504Z"
   },
   {
    "duration": 25,
    "start_time": "2022-03-29T14:23:21.509Z"
   },
   {
    "duration": 7,
    "start_time": "2022-03-29T14:23:21.536Z"
   },
   {
    "duration": 20,
    "start_time": "2022-03-29T14:23:21.544Z"
   },
   {
    "duration": 35,
    "start_time": "2022-03-29T14:23:21.566Z"
   },
   {
    "duration": 8,
    "start_time": "2022-03-29T14:23:21.603Z"
   },
   {
    "duration": 7,
    "start_time": "2022-03-29T14:23:21.613Z"
   },
   {
    "duration": 16,
    "start_time": "2022-03-29T14:23:21.623Z"
   },
   {
    "duration": 196,
    "start_time": "2022-03-29T14:23:21.641Z"
   },
   {
    "duration": 5720,
    "start_time": "2022-03-29T14:23:21.839Z"
   },
   {
    "duration": 947,
    "start_time": "2022-03-29T14:23:27.563Z"
   },
   {
    "duration": 157,
    "start_time": "2022-03-29T14:23:28.603Z"
   },
   {
    "duration": 7,
    "start_time": "2022-03-29T14:23:28.761Z"
   },
   {
    "duration": 14,
    "start_time": "2022-03-29T14:23:28.771Z"
   },
   {
    "duration": 184,
    "start_time": "2022-03-29T14:23:28.787Z"
   },
   {
    "duration": 12,
    "start_time": "2022-03-29T14:23:28.974Z"
   },
   {
    "duration": 5,
    "start_time": "2022-03-29T14:23:29.001Z"
   },
   {
    "duration": 6,
    "start_time": "2022-03-29T14:23:29.008Z"
   },
   {
    "duration": 24,
    "start_time": "2022-03-29T14:23:29.016Z"
   },
   {
    "duration": 60,
    "start_time": "2022-03-29T14:23:29.042Z"
   },
   {
    "duration": 117,
    "start_time": "2022-03-29T14:33:04.730Z"
   },
   {
    "duration": 1608,
    "start_time": "2022-03-29T14:33:10.947Z"
   },
   {
    "duration": 43,
    "start_time": "2022-03-29T14:33:12.557Z"
   },
   {
    "duration": 4,
    "start_time": "2022-03-29T14:33:12.603Z"
   },
   {
    "duration": 9,
    "start_time": "2022-03-29T14:33:12.608Z"
   },
   {
    "duration": 15,
    "start_time": "2022-03-29T14:33:12.618Z"
   },
   {
    "duration": 4,
    "start_time": "2022-03-29T14:33:12.636Z"
   },
   {
    "duration": 20,
    "start_time": "2022-03-29T14:33:12.642Z"
   },
   {
    "duration": 46,
    "start_time": "2022-03-29T14:33:12.664Z"
   },
   {
    "duration": 10,
    "start_time": "2022-03-29T14:33:12.714Z"
   },
   {
    "duration": 10,
    "start_time": "2022-03-29T14:33:12.727Z"
   },
   {
    "duration": 10,
    "start_time": "2022-03-29T14:33:12.739Z"
   },
   {
    "duration": 53,
    "start_time": "2022-03-29T14:33:12.752Z"
   },
   {
    "duration": 8,
    "start_time": "2022-03-29T14:33:12.808Z"
   },
   {
    "duration": 6,
    "start_time": "2022-03-29T14:33:12.818Z"
   },
   {
    "duration": 17,
    "start_time": "2022-03-29T14:33:12.826Z"
   },
   {
    "duration": 4,
    "start_time": "2022-03-29T14:33:12.845Z"
   },
   {
    "duration": 63,
    "start_time": "2022-03-29T14:33:12.851Z"
   },
   {
    "duration": 2,
    "start_time": "2022-03-29T14:33:12.916Z"
   },
   {
    "duration": 27,
    "start_time": "2022-03-29T14:33:12.920Z"
   },
   {
    "duration": 8,
    "start_time": "2022-03-29T14:33:12.949Z"
   },
   {
    "duration": 42,
    "start_time": "2022-03-29T14:33:12.959Z"
   },
   {
    "duration": 11,
    "start_time": "2022-03-29T14:33:13.003Z"
   },
   {
    "duration": 9,
    "start_time": "2022-03-29T14:33:13.015Z"
   },
   {
    "duration": 15,
    "start_time": "2022-03-29T14:33:13.026Z"
   },
   {
    "duration": 21,
    "start_time": "2022-03-29T14:33:13.043Z"
   },
   {
    "duration": 202,
    "start_time": "2022-03-29T14:33:13.066Z"
   },
   {
    "duration": 6504,
    "start_time": "2022-03-29T14:33:13.272Z"
   },
   {
    "duration": 1024,
    "start_time": "2022-03-29T14:33:19.779Z"
   },
   {
    "duration": 160,
    "start_time": "2022-03-29T14:33:20.806Z"
   },
   {
    "duration": 8,
    "start_time": "2022-03-29T14:33:20.969Z"
   },
   {
    "duration": 9,
    "start_time": "2022-03-29T14:33:21.002Z"
   },
   {
    "duration": 185,
    "start_time": "2022-03-29T14:33:21.013Z"
   },
   {
    "duration": 12,
    "start_time": "2022-03-29T14:33:21.201Z"
   },
   {
    "duration": 6,
    "start_time": "2022-03-29T14:33:21.215Z"
   },
   {
    "duration": 206,
    "start_time": "2022-03-29T14:33:21.224Z"
   },
   {
    "duration": 0,
    "start_time": "2022-03-29T14:33:21.432Z"
   },
   {
    "duration": 0,
    "start_time": "2022-03-29T14:33:21.434Z"
   },
   {
    "duration": 1855,
    "start_time": "2022-03-29T14:33:56.879Z"
   },
   {
    "duration": 59,
    "start_time": "2022-03-29T14:33:58.737Z"
   },
   {
    "duration": 5,
    "start_time": "2022-03-29T14:33:58.797Z"
   },
   {
    "duration": 7,
    "start_time": "2022-03-29T14:33:58.805Z"
   },
   {
    "duration": 15,
    "start_time": "2022-03-29T14:33:58.814Z"
   },
   {
    "duration": 3,
    "start_time": "2022-03-29T14:33:58.832Z"
   },
   {
    "duration": 16,
    "start_time": "2022-03-29T14:33:58.837Z"
   },
   {
    "duration": 10,
    "start_time": "2022-03-29T14:33:58.856Z"
   },
   {
    "duration": 40,
    "start_time": "2022-03-29T14:33:58.868Z"
   },
   {
    "duration": 9,
    "start_time": "2022-03-29T14:33:58.911Z"
   },
   {
    "duration": 9,
    "start_time": "2022-03-29T14:33:58.922Z"
   },
   {
    "duration": 10,
    "start_time": "2022-03-29T14:33:58.933Z"
   },
   {
    "duration": 12,
    "start_time": "2022-03-29T14:33:58.945Z"
   },
   {
    "duration": 9,
    "start_time": "2022-03-29T14:33:58.960Z"
   },
   {
    "duration": 45,
    "start_time": "2022-03-29T14:33:58.970Z"
   },
   {
    "duration": 7,
    "start_time": "2022-03-29T14:33:59.016Z"
   },
   {
    "duration": 29,
    "start_time": "2022-03-29T14:33:59.025Z"
   },
   {
    "duration": 3,
    "start_time": "2022-03-29T14:33:59.056Z"
   },
   {
    "duration": 62,
    "start_time": "2022-03-29T14:33:59.060Z"
   },
   {
    "duration": 11,
    "start_time": "2022-03-29T14:33:59.124Z"
   },
   {
    "duration": 17,
    "start_time": "2022-03-29T14:33:59.137Z"
   },
   {
    "duration": 10,
    "start_time": "2022-03-29T14:33:59.156Z"
   },
   {
    "duration": 37,
    "start_time": "2022-03-29T14:33:59.167Z"
   },
   {
    "duration": 12,
    "start_time": "2022-03-29T14:33:59.207Z"
   },
   {
    "duration": 32,
    "start_time": "2022-03-29T14:33:59.222Z"
   },
   {
    "duration": 200,
    "start_time": "2022-03-29T14:33:59.256Z"
   },
   {
    "duration": 6051,
    "start_time": "2022-03-29T14:33:59.458Z"
   },
   {
    "duration": 396,
    "start_time": "2022-03-29T14:34:05.513Z"
   },
   {
    "duration": 262,
    "start_time": "2022-03-29T14:34:05.911Z"
   },
   {
    "duration": 7,
    "start_time": "2022-03-29T14:34:06.175Z"
   },
   {
    "duration": 25,
    "start_time": "2022-03-29T14:34:06.183Z"
   },
   {
    "duration": 177,
    "start_time": "2022-03-29T14:34:06.210Z"
   },
   {
    "duration": 16,
    "start_time": "2022-03-29T14:34:06.389Z"
   },
   {
    "duration": 11,
    "start_time": "2022-03-29T14:34:06.407Z"
   },
   {
    "duration": 140,
    "start_time": "2022-03-29T14:34:06.420Z"
   },
   {
    "duration": 0,
    "start_time": "2022-03-29T14:34:06.562Z"
   },
   {
    "duration": 0,
    "start_time": "2022-03-29T14:34:06.563Z"
   },
   {
    "duration": 2073,
    "start_time": "2022-03-29T14:38:21.113Z"
   },
   {
    "duration": 45,
    "start_time": "2022-03-29T14:38:23.188Z"
   },
   {
    "duration": 5,
    "start_time": "2022-03-29T14:38:23.234Z"
   },
   {
    "duration": 10,
    "start_time": "2022-03-29T14:38:23.241Z"
   },
   {
    "duration": 20,
    "start_time": "2022-03-29T14:38:23.254Z"
   },
   {
    "duration": 25,
    "start_time": "2022-03-29T14:38:23.277Z"
   },
   {
    "duration": 16,
    "start_time": "2022-03-29T14:38:23.304Z"
   },
   {
    "duration": 11,
    "start_time": "2022-03-29T14:38:23.322Z"
   },
   {
    "duration": 9,
    "start_time": "2022-03-29T14:38:23.335Z"
   },
   {
    "duration": 7,
    "start_time": "2022-03-29T14:38:23.346Z"
   },
   {
    "duration": 11,
    "start_time": "2022-03-29T14:38:23.355Z"
   },
   {
    "duration": 40,
    "start_time": "2022-03-29T14:38:23.368Z"
   },
   {
    "duration": 9,
    "start_time": "2022-03-29T14:38:23.410Z"
   },
   {
    "duration": 4,
    "start_time": "2022-03-29T14:38:23.423Z"
   },
   {
    "duration": 18,
    "start_time": "2022-03-29T14:38:23.429Z"
   },
   {
    "duration": 8,
    "start_time": "2022-03-29T14:38:23.449Z"
   },
   {
    "duration": 56,
    "start_time": "2022-03-29T14:38:23.459Z"
   },
   {
    "duration": 3,
    "start_time": "2022-03-29T14:38:23.517Z"
   },
   {
    "duration": 25,
    "start_time": "2022-03-29T14:38:23.522Z"
   },
   {
    "duration": 7,
    "start_time": "2022-03-29T14:38:23.550Z"
   },
   {
    "duration": 13,
    "start_time": "2022-03-29T14:38:23.559Z"
   },
   {
    "duration": 10,
    "start_time": "2022-03-29T14:38:23.601Z"
   },
   {
    "duration": 7,
    "start_time": "2022-03-29T14:38:23.613Z"
   },
   {
    "duration": 7,
    "start_time": "2022-03-29T14:38:23.622Z"
   },
   {
    "duration": 21,
    "start_time": "2022-03-29T14:38:23.632Z"
   },
   {
    "duration": 266,
    "start_time": "2022-03-29T14:38:23.655Z"
   },
   {
    "duration": 5876,
    "start_time": "2022-03-29T14:38:23.924Z"
   },
   {
    "duration": 509,
    "start_time": "2022-03-29T14:38:29.802Z"
   },
   {
    "duration": 157,
    "start_time": "2022-03-29T14:38:30.402Z"
   },
   {
    "duration": 7,
    "start_time": "2022-03-29T14:38:30.561Z"
   },
   {
    "duration": 32,
    "start_time": "2022-03-29T14:38:30.569Z"
   },
   {
    "duration": 174,
    "start_time": "2022-03-29T14:38:30.603Z"
   },
   {
    "duration": 13,
    "start_time": "2022-03-29T14:38:30.778Z"
   },
   {
    "duration": 5,
    "start_time": "2022-03-29T14:38:30.802Z"
   },
   {
    "duration": 6,
    "start_time": "2022-03-29T14:38:30.808Z"
   },
   {
    "duration": 17,
    "start_time": "2022-03-29T14:38:30.816Z"
   },
   {
    "duration": 66,
    "start_time": "2022-03-29T14:38:30.836Z"
   },
   {
    "duration": 70,
    "start_time": "2022-03-29T14:44:41.273Z"
   },
   {
    "duration": 276,
    "start_time": "2022-03-29T14:45:28.273Z"
   },
   {
    "duration": 104,
    "start_time": "2022-03-29T14:45:46.362Z"
   },
   {
    "duration": 76,
    "start_time": "2022-03-29T14:46:26.652Z"
   },
   {
    "duration": 17,
    "start_time": "2022-03-29T15:05:35.360Z"
   },
   {
    "duration": 1786,
    "start_time": "2022-03-29T15:06:05.773Z"
   },
   {
    "duration": 50,
    "start_time": "2022-03-29T15:06:07.562Z"
   },
   {
    "duration": 5,
    "start_time": "2022-03-29T15:06:07.614Z"
   },
   {
    "duration": 22,
    "start_time": "2022-03-29T15:06:07.621Z"
   },
   {
    "duration": 22,
    "start_time": "2022-03-29T15:06:07.645Z"
   },
   {
    "duration": 2,
    "start_time": "2022-03-29T15:06:07.669Z"
   },
   {
    "duration": 17,
    "start_time": "2022-03-29T15:06:07.673Z"
   },
   {
    "duration": 17,
    "start_time": "2022-03-29T15:06:07.692Z"
   },
   {
    "duration": 12,
    "start_time": "2022-03-29T15:06:07.712Z"
   },
   {
    "duration": 15,
    "start_time": "2022-03-29T15:06:07.729Z"
   },
   {
    "duration": 10,
    "start_time": "2022-03-29T15:06:07.746Z"
   },
   {
    "duration": 9,
    "start_time": "2022-03-29T15:06:07.758Z"
   },
   {
    "duration": 8,
    "start_time": "2022-03-29T15:06:07.770Z"
   },
   {
    "duration": 10,
    "start_time": "2022-03-29T15:06:07.780Z"
   },
   {
    "duration": 26,
    "start_time": "2022-03-29T15:06:07.791Z"
   },
   {
    "duration": 18,
    "start_time": "2022-03-29T15:06:07.820Z"
   },
   {
    "duration": 34,
    "start_time": "2022-03-29T15:06:07.839Z"
   },
   {
    "duration": 2,
    "start_time": "2022-03-29T15:06:07.875Z"
   },
   {
    "duration": 39,
    "start_time": "2022-03-29T15:06:07.879Z"
   },
   {
    "duration": 10,
    "start_time": "2022-03-29T15:06:07.920Z"
   },
   {
    "duration": 21,
    "start_time": "2022-03-29T15:06:07.932Z"
   },
   {
    "duration": 9,
    "start_time": "2022-03-29T15:06:07.955Z"
   },
   {
    "duration": 8,
    "start_time": "2022-03-29T15:06:07.966Z"
   },
   {
    "duration": 8,
    "start_time": "2022-03-29T15:06:07.976Z"
   },
   {
    "duration": 22,
    "start_time": "2022-03-29T15:06:07.985Z"
   },
   {
    "duration": 211,
    "start_time": "2022-03-29T15:06:08.014Z"
   },
   {
    "duration": 6843,
    "start_time": "2022-03-29T15:06:08.227Z"
   },
   {
    "duration": 1548,
    "start_time": "2022-03-29T15:06:15.074Z"
   },
   {
    "duration": 223,
    "start_time": "2022-03-29T15:06:16.627Z"
   },
   {
    "duration": 7,
    "start_time": "2022-03-29T15:06:16.852Z"
   },
   {
    "duration": 11,
    "start_time": "2022-03-29T15:06:16.860Z"
   },
   {
    "duration": 264,
    "start_time": "2022-03-29T15:06:16.873Z"
   },
   {
    "duration": 14,
    "start_time": "2022-03-29T15:06:17.140Z"
   },
   {
    "duration": 8,
    "start_time": "2022-03-29T15:06:17.156Z"
   },
   {
    "duration": 8,
    "start_time": "2022-03-29T15:06:17.166Z"
   },
   {
    "duration": 43,
    "start_time": "2022-03-29T15:06:17.176Z"
   },
   {
    "duration": 72,
    "start_time": "2022-03-29T15:06:17.221Z"
   },
   {
    "duration": 105,
    "start_time": "2022-03-29T15:06:17.296Z"
   },
   {
    "duration": 18,
    "start_time": "2022-03-29T15:06:17.403Z"
   },
   {
    "duration": 311,
    "start_time": "2022-03-29T15:06:17.424Z"
   },
   {
    "duration": 114,
    "start_time": "2022-03-29T15:07:59.289Z"
   },
   {
    "duration": 126,
    "start_time": "2022-03-29T15:26:01.413Z"
   },
   {
    "duration": 123,
    "start_time": "2022-03-29T15:26:08.762Z"
   },
   {
    "duration": 1718,
    "start_time": "2022-03-29T15:26:14.457Z"
   },
   {
    "duration": 56,
    "start_time": "2022-03-29T15:26:16.177Z"
   },
   {
    "duration": 5,
    "start_time": "2022-03-29T15:26:16.235Z"
   },
   {
    "duration": 9,
    "start_time": "2022-03-29T15:26:16.243Z"
   },
   {
    "duration": 26,
    "start_time": "2022-03-29T15:26:16.254Z"
   },
   {
    "duration": 20,
    "start_time": "2022-03-29T15:26:16.282Z"
   },
   {
    "duration": 19,
    "start_time": "2022-03-29T15:26:16.304Z"
   },
   {
    "duration": 14,
    "start_time": "2022-03-29T15:26:16.326Z"
   },
   {
    "duration": 11,
    "start_time": "2022-03-29T15:26:16.342Z"
   },
   {
    "duration": 50,
    "start_time": "2022-03-29T15:26:16.356Z"
   },
   {
    "duration": 9,
    "start_time": "2022-03-29T15:26:16.409Z"
   },
   {
    "duration": 10,
    "start_time": "2022-03-29T15:26:16.421Z"
   },
   {
    "duration": 8,
    "start_time": "2022-03-29T15:26:16.433Z"
   },
   {
    "duration": 5,
    "start_time": "2022-03-29T15:26:16.443Z"
   },
   {
    "duration": 69,
    "start_time": "2022-03-29T15:26:16.450Z"
   },
   {
    "duration": 3,
    "start_time": "2022-03-29T15:26:16.522Z"
   },
   {
    "duration": 28,
    "start_time": "2022-03-29T15:26:16.527Z"
   },
   {
    "duration": 3,
    "start_time": "2022-03-29T15:26:16.557Z"
   },
   {
    "duration": 22,
    "start_time": "2022-03-29T15:26:16.562Z"
   },
   {
    "duration": 12,
    "start_time": "2022-03-29T15:26:16.602Z"
   },
   {
    "duration": 26,
    "start_time": "2022-03-29T15:26:16.616Z"
   },
   {
    "duration": 11,
    "start_time": "2022-03-29T15:26:16.644Z"
   },
   {
    "duration": 8,
    "start_time": "2022-03-29T15:26:16.657Z"
   },
   {
    "duration": 10,
    "start_time": "2022-03-29T15:26:16.666Z"
   },
   {
    "duration": 49,
    "start_time": "2022-03-29T15:26:16.678Z"
   },
   {
    "duration": 192,
    "start_time": "2022-03-29T15:26:16.729Z"
   },
   {
    "duration": 8459,
    "start_time": "2022-03-29T15:26:16.924Z"
   },
   {
    "duration": 1321,
    "start_time": "2022-03-29T15:26:25.387Z"
   },
   {
    "duration": 157,
    "start_time": "2022-03-29T15:26:26.716Z"
   },
   {
    "duration": 7,
    "start_time": "2022-03-29T15:26:26.875Z"
   },
   {
    "duration": 29,
    "start_time": "2022-03-29T15:26:26.884Z"
   },
   {
    "duration": 179,
    "start_time": "2022-03-29T15:26:26.915Z"
   },
   {
    "duration": 21,
    "start_time": "2022-03-29T15:26:27.096Z"
   },
   {
    "duration": 10,
    "start_time": "2022-03-29T15:26:27.119Z"
   },
   {
    "duration": 6,
    "start_time": "2022-03-29T15:26:27.131Z"
   },
   {
    "duration": 16,
    "start_time": "2022-03-29T15:26:27.139Z"
   },
   {
    "duration": 70,
    "start_time": "2022-03-29T15:26:27.156Z"
   },
   {
    "duration": 77,
    "start_time": "2022-03-29T15:26:27.229Z"
   },
   {
    "duration": 21,
    "start_time": "2022-03-29T15:26:27.309Z"
   },
   {
    "duration": 139,
    "start_time": "2022-03-29T15:26:27.333Z"
   },
   {
    "duration": 6,
    "start_time": "2022-03-29T15:26:27.474Z"
   },
   {
    "duration": 141,
    "start_time": "2022-03-29T15:26:27.482Z"
   },
   {
    "duration": 10,
    "start_time": "2022-03-29T15:26:35.415Z"
   },
   {
    "duration": 55,
    "start_time": "2022-03-29T15:26:54.006Z"
   },
   {
    "duration": 8,
    "start_time": "2022-03-29T15:26:58.686Z"
   },
   {
    "duration": 50,
    "start_time": "2022-03-29T15:27:00.502Z"
   },
   {
    "duration": 40,
    "start_time": "2022-03-29T15:27:10.315Z"
   },
   {
    "duration": 7,
    "start_time": "2022-03-29T15:27:12.246Z"
   },
   {
    "duration": 51,
    "start_time": "2022-03-29T15:27:14.357Z"
   },
   {
    "duration": 8,
    "start_time": "2022-03-29T15:27:20.267Z"
   },
   {
    "duration": 65,
    "start_time": "2022-03-29T15:27:22.380Z"
   },
   {
    "duration": 8,
    "start_time": "2022-03-29T15:27:25.136Z"
   },
   {
    "duration": 50,
    "start_time": "2022-03-29T15:27:27.213Z"
   },
   {
    "duration": 8,
    "start_time": "2022-03-29T15:27:32.135Z"
   },
   {
    "duration": 56,
    "start_time": "2022-03-29T15:27:34.715Z"
   },
   {
    "duration": 8,
    "start_time": "2022-03-29T15:27:41.485Z"
   },
   {
    "duration": 63,
    "start_time": "2022-03-29T15:27:43.324Z"
   },
   {
    "duration": 16,
    "start_time": "2022-03-29T15:27:48.696Z"
   },
   {
    "duration": 60,
    "start_time": "2022-03-29T15:27:51.245Z"
   },
   {
    "duration": 8,
    "start_time": "2022-03-29T15:27:57.257Z"
   },
   {
    "duration": 65,
    "start_time": "2022-03-29T15:27:59.590Z"
   },
   {
    "duration": 192,
    "start_time": "2022-03-29T15:39:42.296Z"
   },
   {
    "duration": 1940,
    "start_time": "2022-03-29T15:40:18.122Z"
   },
   {
    "duration": 65,
    "start_time": "2022-03-29T15:40:20.065Z"
   },
   {
    "duration": 8,
    "start_time": "2022-03-29T15:40:20.132Z"
   },
   {
    "duration": 10,
    "start_time": "2022-03-29T15:40:20.143Z"
   },
   {
    "duration": 18,
    "start_time": "2022-03-29T15:40:20.156Z"
   },
   {
    "duration": 3,
    "start_time": "2022-03-29T15:40:20.176Z"
   },
   {
    "duration": 62,
    "start_time": "2022-03-29T15:40:20.181Z"
   },
   {
    "duration": 14,
    "start_time": "2022-03-29T15:40:20.245Z"
   },
   {
    "duration": 13,
    "start_time": "2022-03-29T15:40:20.261Z"
   },
   {
    "duration": 10,
    "start_time": "2022-03-29T15:40:20.276Z"
   },
   {
    "duration": 31,
    "start_time": "2022-03-29T15:40:20.288Z"
   },
   {
    "duration": 16,
    "start_time": "2022-03-29T15:40:20.323Z"
   },
   {
    "duration": 8,
    "start_time": "2022-03-29T15:40:20.342Z"
   },
   {
    "duration": 14,
    "start_time": "2022-03-29T15:40:20.354Z"
   },
   {
    "duration": 54,
    "start_time": "2022-03-29T15:40:20.370Z"
   },
   {
    "duration": 20,
    "start_time": "2022-03-29T15:40:20.426Z"
   },
   {
    "duration": 48,
    "start_time": "2022-03-29T15:40:20.449Z"
   },
   {
    "duration": 7,
    "start_time": "2022-03-29T15:40:20.499Z"
   },
   {
    "duration": 60,
    "start_time": "2022-03-29T15:40:20.509Z"
   },
   {
    "duration": 10,
    "start_time": "2022-03-29T15:40:20.571Z"
   },
   {
    "duration": 35,
    "start_time": "2022-03-29T15:40:20.583Z"
   },
   {
    "duration": 15,
    "start_time": "2022-03-29T15:40:20.620Z"
   },
   {
    "duration": 26,
    "start_time": "2022-03-29T15:40:20.637Z"
   },
   {
    "duration": 13,
    "start_time": "2022-03-29T15:40:20.666Z"
   },
   {
    "duration": 42,
    "start_time": "2022-03-29T15:40:20.682Z"
   },
   {
    "duration": 283,
    "start_time": "2022-03-29T15:40:20.726Z"
   },
   {
    "duration": 8989,
    "start_time": "2022-03-29T15:40:21.013Z"
   },
   {
    "duration": 996,
    "start_time": "2022-03-29T15:40:30.005Z"
   },
   {
    "duration": 259,
    "start_time": "2022-03-29T15:40:31.010Z"
   },
   {
    "duration": 9,
    "start_time": "2022-03-29T15:40:31.273Z"
   },
   {
    "duration": 24,
    "start_time": "2022-03-29T15:40:31.285Z"
   },
   {
    "duration": 273,
    "start_time": "2022-03-29T15:40:31.311Z"
   },
   {
    "duration": 27,
    "start_time": "2022-03-29T15:40:31.586Z"
   },
   {
    "duration": 24,
    "start_time": "2022-03-29T15:40:31.617Z"
   },
   {
    "duration": 7,
    "start_time": "2022-03-29T15:40:31.644Z"
   },
   {
    "duration": 27,
    "start_time": "2022-03-29T15:40:31.653Z"
   },
   {
    "duration": 107,
    "start_time": "2022-03-29T15:40:31.683Z"
   },
   {
    "duration": 101,
    "start_time": "2022-03-29T15:40:31.792Z"
   },
   {
    "duration": 29,
    "start_time": "2022-03-29T15:40:31.895Z"
   },
   {
    "duration": 188,
    "start_time": "2022-03-29T15:40:31.927Z"
   },
   {
    "duration": 10,
    "start_time": "2022-03-29T15:40:32.121Z"
   },
   {
    "duration": 95,
    "start_time": "2022-03-29T15:40:32.134Z"
   },
   {
    "duration": 220,
    "start_time": "2022-03-29T15:40:32.231Z"
   },
   {
    "duration": 1842,
    "start_time": "2022-03-29T15:42:04.596Z"
   },
   {
    "duration": 42,
    "start_time": "2022-03-29T15:42:06.440Z"
   },
   {
    "duration": 6,
    "start_time": "2022-03-29T15:42:06.483Z"
   },
   {
    "duration": 19,
    "start_time": "2022-03-29T15:42:06.492Z"
   },
   {
    "duration": 35,
    "start_time": "2022-03-29T15:42:06.514Z"
   },
   {
    "duration": 2,
    "start_time": "2022-03-29T15:42:06.552Z"
   },
   {
    "duration": 21,
    "start_time": "2022-03-29T15:42:06.557Z"
   },
   {
    "duration": 24,
    "start_time": "2022-03-29T15:42:06.582Z"
   },
   {
    "duration": 11,
    "start_time": "2022-03-29T15:42:06.608Z"
   },
   {
    "duration": 15,
    "start_time": "2022-03-29T15:42:06.623Z"
   },
   {
    "duration": 10,
    "start_time": "2022-03-29T15:42:06.641Z"
   },
   {
    "duration": 13,
    "start_time": "2022-03-29T15:42:06.653Z"
   },
   {
    "duration": 8,
    "start_time": "2022-03-29T15:42:06.704Z"
   },
   {
    "duration": 18,
    "start_time": "2022-03-29T15:42:06.715Z"
   },
   {
    "duration": 22,
    "start_time": "2022-03-29T15:42:06.735Z"
   },
   {
    "duration": 11,
    "start_time": "2022-03-29T15:42:06.759Z"
   },
   {
    "duration": 53,
    "start_time": "2022-03-29T15:42:06.771Z"
   },
   {
    "duration": 3,
    "start_time": "2022-03-29T15:42:06.827Z"
   },
   {
    "duration": 32,
    "start_time": "2022-03-29T15:42:06.831Z"
   },
   {
    "duration": 9,
    "start_time": "2022-03-29T15:42:06.865Z"
   },
   {
    "duration": 40,
    "start_time": "2022-03-29T15:42:06.877Z"
   },
   {
    "duration": 12,
    "start_time": "2022-03-29T15:42:06.922Z"
   },
   {
    "duration": 9,
    "start_time": "2022-03-29T15:42:06.936Z"
   },
   {
    "duration": 9,
    "start_time": "2022-03-29T15:42:06.947Z"
   },
   {
    "duration": 55,
    "start_time": "2022-03-29T15:42:06.958Z"
   },
   {
    "duration": 207,
    "start_time": "2022-03-29T15:42:07.015Z"
   },
   {
    "duration": 6941,
    "start_time": "2022-03-29T15:42:07.225Z"
   },
   {
    "duration": 1054,
    "start_time": "2022-03-29T15:42:14.170Z"
   },
   {
    "duration": 227,
    "start_time": "2022-03-29T15:42:15.232Z"
   },
   {
    "duration": 7,
    "start_time": "2022-03-29T15:42:15.461Z"
   },
   {
    "duration": 11,
    "start_time": "2022-03-29T15:42:15.471Z"
   },
   {
    "duration": 194,
    "start_time": "2022-03-29T15:42:15.485Z"
   },
   {
    "duration": 22,
    "start_time": "2022-03-29T15:42:15.681Z"
   },
   {
    "duration": 5,
    "start_time": "2022-03-29T15:42:15.705Z"
   },
   {
    "duration": 21,
    "start_time": "2022-03-29T15:42:15.713Z"
   },
   {
    "duration": 18,
    "start_time": "2022-03-29T15:42:15.736Z"
   },
   {
    "duration": 61,
    "start_time": "2022-03-29T15:42:15.756Z"
   },
   {
    "duration": 81,
    "start_time": "2022-03-29T15:42:15.820Z"
   },
   {
    "duration": 17,
    "start_time": "2022-03-29T15:42:15.905Z"
   },
   {
    "duration": 149,
    "start_time": "2022-03-29T15:42:15.924Z"
   },
   {
    "duration": 8,
    "start_time": "2022-03-29T15:42:16.075Z"
   },
   {
    "duration": 83,
    "start_time": "2022-03-29T15:42:16.084Z"
   },
   {
    "duration": 227,
    "start_time": "2022-03-29T15:42:16.170Z"
   },
   {
    "duration": 383,
    "start_time": "2022-03-29T15:44:07.447Z"
   },
   {
    "duration": 1726,
    "start_time": "2022-03-29T15:56:50.133Z"
   },
   {
    "duration": 43,
    "start_time": "2022-03-29T15:56:51.862Z"
   },
   {
    "duration": 5,
    "start_time": "2022-03-29T15:56:51.908Z"
   },
   {
    "duration": 10,
    "start_time": "2022-03-29T15:56:51.916Z"
   },
   {
    "duration": 27,
    "start_time": "2022-03-29T15:56:51.930Z"
   },
   {
    "duration": 3,
    "start_time": "2022-03-29T15:56:51.959Z"
   },
   {
    "duration": 44,
    "start_time": "2022-03-29T15:56:51.964Z"
   },
   {
    "duration": 13,
    "start_time": "2022-03-29T15:56:52.010Z"
   },
   {
    "duration": 13,
    "start_time": "2022-03-29T15:56:52.025Z"
   },
   {
    "duration": 12,
    "start_time": "2022-03-29T15:56:52.040Z"
   },
   {
    "duration": 25,
    "start_time": "2022-03-29T15:56:52.054Z"
   },
   {
    "duration": 25,
    "start_time": "2022-03-29T15:56:52.081Z"
   },
   {
    "duration": 21,
    "start_time": "2022-03-29T15:56:52.108Z"
   },
   {
    "duration": 9,
    "start_time": "2022-03-29T15:56:52.134Z"
   },
   {
    "duration": 25,
    "start_time": "2022-03-29T15:56:52.145Z"
   },
   {
    "duration": 14,
    "start_time": "2022-03-29T15:56:52.172Z"
   },
   {
    "duration": 32,
    "start_time": "2022-03-29T15:56:52.188Z"
   },
   {
    "duration": 4,
    "start_time": "2022-03-29T15:56:52.222Z"
   },
   {
    "duration": 28,
    "start_time": "2022-03-29T15:56:52.228Z"
   },
   {
    "duration": 9,
    "start_time": "2022-03-29T15:56:52.258Z"
   },
   {
    "duration": 37,
    "start_time": "2022-03-29T15:56:52.270Z"
   },
   {
    "duration": 39,
    "start_time": "2022-03-29T15:56:52.309Z"
   },
   {
    "duration": 25,
    "start_time": "2022-03-29T15:56:52.350Z"
   },
   {
    "duration": 10,
    "start_time": "2022-03-29T15:56:52.377Z"
   },
   {
    "duration": 34,
    "start_time": "2022-03-29T15:56:52.389Z"
   },
   {
    "duration": 196,
    "start_time": "2022-03-29T15:56:52.425Z"
   },
   {
    "duration": 6367,
    "start_time": "2022-03-29T15:56:52.623Z"
   },
   {
    "duration": 1726,
    "start_time": "2022-03-29T15:56:58.992Z"
   },
   {
    "duration": 152,
    "start_time": "2022-03-29T15:57:00.721Z"
   },
   {
    "duration": 14,
    "start_time": "2022-03-29T15:57:00.900Z"
   },
   {
    "duration": 23,
    "start_time": "2022-03-29T15:57:00.917Z"
   },
   {
    "duration": 203,
    "start_time": "2022-03-29T15:57:00.943Z"
   },
   {
    "duration": 13,
    "start_time": "2022-03-29T15:57:01.148Z"
   },
   {
    "duration": 15,
    "start_time": "2022-03-29T15:57:01.163Z"
   },
   {
    "duration": 26,
    "start_time": "2022-03-29T15:57:01.180Z"
   },
   {
    "duration": 27,
    "start_time": "2022-03-29T15:57:01.212Z"
   },
   {
    "duration": 65,
    "start_time": "2022-03-29T15:57:01.241Z"
   },
   {
    "duration": 70,
    "start_time": "2022-03-29T15:57:01.309Z"
   },
   {
    "duration": 33,
    "start_time": "2022-03-29T15:57:01.381Z"
   },
   {
    "duration": 155,
    "start_time": "2022-03-29T15:57:01.418Z"
   },
   {
    "duration": 10,
    "start_time": "2022-03-29T15:57:01.577Z"
   },
   {
    "duration": 69,
    "start_time": "2022-03-29T15:57:01.589Z"
   },
   {
    "duration": 349,
    "start_time": "2022-03-29T15:57:01.661Z"
   },
   {
    "duration": 221,
    "start_time": "2022-03-29T15:57:02.013Z"
   },
   {
    "duration": 2156,
    "start_time": "2022-03-29T15:59:56.612Z"
   },
   {
    "duration": 44,
    "start_time": "2022-03-29T15:59:58.771Z"
   },
   {
    "duration": 5,
    "start_time": "2022-03-29T15:59:58.817Z"
   },
   {
    "duration": 24,
    "start_time": "2022-03-29T15:59:58.826Z"
   },
   {
    "duration": 31,
    "start_time": "2022-03-29T15:59:58.852Z"
   },
   {
    "duration": 2,
    "start_time": "2022-03-29T15:59:58.886Z"
   },
   {
    "duration": 27,
    "start_time": "2022-03-29T15:59:58.890Z"
   },
   {
    "duration": 14,
    "start_time": "2022-03-29T15:59:58.920Z"
   },
   {
    "duration": 16,
    "start_time": "2022-03-29T15:59:58.937Z"
   },
   {
    "duration": 11,
    "start_time": "2022-03-29T15:59:58.957Z"
   },
   {
    "duration": 35,
    "start_time": "2022-03-29T15:59:58.971Z"
   },
   {
    "duration": 13,
    "start_time": "2022-03-29T15:59:59.008Z"
   },
   {
    "duration": 14,
    "start_time": "2022-03-29T15:59:59.023Z"
   },
   {
    "duration": 6,
    "start_time": "2022-03-29T15:59:59.040Z"
   },
   {
    "duration": 54,
    "start_time": "2022-03-29T15:59:59.048Z"
   },
   {
    "duration": 3,
    "start_time": "2022-03-29T15:59:59.105Z"
   },
   {
    "duration": 45,
    "start_time": "2022-03-29T15:59:59.110Z"
   },
   {
    "duration": 3,
    "start_time": "2022-03-29T15:59:59.157Z"
   },
   {
    "duration": 51,
    "start_time": "2022-03-29T15:59:59.163Z"
   },
   {
    "duration": 10,
    "start_time": "2022-03-29T15:59:59.216Z"
   },
   {
    "duration": 22,
    "start_time": "2022-03-29T15:59:59.228Z"
   },
   {
    "duration": 20,
    "start_time": "2022-03-29T15:59:59.252Z"
   },
   {
    "duration": 31,
    "start_time": "2022-03-29T15:59:59.274Z"
   },
   {
    "duration": 10,
    "start_time": "2022-03-29T15:59:59.307Z"
   },
   {
    "duration": 34,
    "start_time": "2022-03-29T15:59:59.319Z"
   },
   {
    "duration": 249,
    "start_time": "2022-03-29T15:59:59.356Z"
   },
   {
    "duration": 6395,
    "start_time": "2022-03-29T15:59:59.607Z"
   },
   {
    "duration": 697,
    "start_time": "2022-03-29T16:00:06.008Z"
   },
   {
    "duration": 172,
    "start_time": "2022-03-29T16:00:06.708Z"
   },
   {
    "duration": 20,
    "start_time": "2022-03-29T16:00:06.882Z"
   },
   {
    "duration": 10,
    "start_time": "2022-03-29T16:00:06.905Z"
   },
   {
    "duration": 189,
    "start_time": "2022-03-29T16:00:06.917Z"
   },
   {
    "duration": 14,
    "start_time": "2022-03-29T16:00:07.108Z"
   },
   {
    "duration": 5,
    "start_time": "2022-03-29T16:00:07.124Z"
   },
   {
    "duration": 7,
    "start_time": "2022-03-29T16:00:07.131Z"
   },
   {
    "duration": 18,
    "start_time": "2022-03-29T16:00:07.140Z"
   },
   {
    "duration": 87,
    "start_time": "2022-03-29T16:00:07.160Z"
   },
   {
    "duration": 86,
    "start_time": "2022-03-29T16:00:07.249Z"
   },
   {
    "duration": 18,
    "start_time": "2022-03-29T16:00:07.337Z"
   },
   {
    "duration": 166,
    "start_time": "2022-03-29T16:00:07.358Z"
   },
   {
    "duration": 7,
    "start_time": "2022-03-29T16:00:07.526Z"
   },
   {
    "duration": 67,
    "start_time": "2022-03-29T16:00:07.535Z"
   },
   {
    "duration": 361,
    "start_time": "2022-03-29T16:00:07.604Z"
   },
   {
    "duration": 281,
    "start_time": "2022-03-29T16:00:07.968Z"
   },
   {
    "duration": 184,
    "start_time": "2022-03-29T16:01:49.722Z"
   },
   {
    "duration": 6,
    "start_time": "2022-03-30T08:10:18.565Z"
   },
   {
    "duration": 78,
    "start_time": "2022-03-30T08:10:18.574Z"
   },
   {
    "duration": 5,
    "start_time": "2022-03-30T08:10:18.654Z"
   },
   {
    "duration": 26,
    "start_time": "2022-03-30T08:10:18.664Z"
   },
   {
    "duration": 22,
    "start_time": "2022-03-30T08:10:18.693Z"
   },
   {
    "duration": 7,
    "start_time": "2022-03-30T08:10:18.718Z"
   },
   {
    "duration": 38,
    "start_time": "2022-03-30T08:10:18.727Z"
   },
   {
    "duration": 11,
    "start_time": "2022-03-30T08:10:18.768Z"
   },
   {
    "duration": 12,
    "start_time": "2022-03-30T08:10:22.254Z"
   },
   {
    "duration": 161,
    "start_time": "2022-03-30T08:11:26.293Z"
   },
   {
    "duration": 1911,
    "start_time": "2022-03-30T08:12:02.132Z"
   },
   {
    "duration": 50,
    "start_time": "2022-03-30T08:12:04.046Z"
   },
   {
    "duration": 5,
    "start_time": "2022-03-30T08:12:04.098Z"
   },
   {
    "duration": 13,
    "start_time": "2022-03-30T08:12:04.105Z"
   },
   {
    "duration": 28,
    "start_time": "2022-03-30T08:12:04.122Z"
   },
   {
    "duration": 4,
    "start_time": "2022-03-30T08:12:04.152Z"
   },
   {
    "duration": 16,
    "start_time": "2022-03-30T08:12:04.174Z"
   },
   {
    "duration": 12,
    "start_time": "2022-03-30T08:12:04.192Z"
   },
   {
    "duration": 12,
    "start_time": "2022-03-30T08:12:04.207Z"
   },
   {
    "duration": 55,
    "start_time": "2022-03-30T08:12:04.221Z"
   },
   {
    "duration": 185,
    "start_time": "2022-03-30T08:12:04.279Z"
   },
   {
    "duration": 0,
    "start_time": "2022-03-30T08:12:04.474Z"
   },
   {
    "duration": 0,
    "start_time": "2022-03-30T08:12:04.476Z"
   },
   {
    "duration": 0,
    "start_time": "2022-03-30T08:12:04.477Z"
   },
   {
    "duration": 0,
    "start_time": "2022-03-30T08:12:04.480Z"
   },
   {
    "duration": 0,
    "start_time": "2022-03-30T08:12:04.482Z"
   },
   {
    "duration": 0,
    "start_time": "2022-03-30T08:12:04.484Z"
   },
   {
    "duration": 0,
    "start_time": "2022-03-30T08:12:04.486Z"
   },
   {
    "duration": 0,
    "start_time": "2022-03-30T08:12:04.488Z"
   },
   {
    "duration": 0,
    "start_time": "2022-03-30T08:12:04.490Z"
   },
   {
    "duration": 0,
    "start_time": "2022-03-30T08:12:04.492Z"
   },
   {
    "duration": 0,
    "start_time": "2022-03-30T08:12:04.494Z"
   },
   {
    "duration": 0,
    "start_time": "2022-03-30T08:12:04.496Z"
   },
   {
    "duration": 1,
    "start_time": "2022-03-30T08:12:04.498Z"
   },
   {
    "duration": 0,
    "start_time": "2022-03-30T08:12:04.501Z"
   },
   {
    "duration": 0,
    "start_time": "2022-03-30T08:12:04.503Z"
   },
   {
    "duration": 0,
    "start_time": "2022-03-30T08:12:04.505Z"
   },
   {
    "duration": 0,
    "start_time": "2022-03-30T08:12:04.507Z"
   },
   {
    "duration": 0,
    "start_time": "2022-03-30T08:12:04.509Z"
   },
   {
    "duration": 0,
    "start_time": "2022-03-30T08:12:04.512Z"
   },
   {
    "duration": 0,
    "start_time": "2022-03-30T08:12:04.514Z"
   },
   {
    "duration": 0,
    "start_time": "2022-03-30T08:12:04.574Z"
   },
   {
    "duration": 0,
    "start_time": "2022-03-30T08:12:04.577Z"
   },
   {
    "duration": 0,
    "start_time": "2022-03-30T08:12:04.579Z"
   },
   {
    "duration": 0,
    "start_time": "2022-03-30T08:12:04.581Z"
   },
   {
    "duration": 0,
    "start_time": "2022-03-30T08:12:04.583Z"
   },
   {
    "duration": 0,
    "start_time": "2022-03-30T08:12:04.586Z"
   },
   {
    "duration": 0,
    "start_time": "2022-03-30T08:12:04.588Z"
   },
   {
    "duration": 0,
    "start_time": "2022-03-30T08:12:04.590Z"
   },
   {
    "duration": 0,
    "start_time": "2022-03-30T08:12:04.592Z"
   },
   {
    "duration": 0,
    "start_time": "2022-03-30T08:12:04.594Z"
   },
   {
    "duration": 0,
    "start_time": "2022-03-30T08:12:04.596Z"
   },
   {
    "duration": 0,
    "start_time": "2022-03-30T08:12:04.598Z"
   },
   {
    "duration": 0,
    "start_time": "2022-03-30T08:12:04.601Z"
   },
   {
    "duration": 14,
    "start_time": "2022-03-30T08:13:53.244Z"
   },
   {
    "duration": 15,
    "start_time": "2022-03-30T08:14:11.929Z"
   },
   {
    "duration": 20,
    "start_time": "2022-03-30T08:15:54.415Z"
   },
   {
    "duration": 7,
    "start_time": "2022-03-30T08:16:05.625Z"
   },
   {
    "duration": 54,
    "start_time": "2022-03-30T08:16:05.635Z"
   },
   {
    "duration": 18,
    "start_time": "2022-03-30T08:16:05.691Z"
   },
   {
    "duration": 19,
    "start_time": "2022-03-30T08:16:05.711Z"
   },
   {
    "duration": 40,
    "start_time": "2022-03-30T08:16:05.733Z"
   },
   {
    "duration": 11,
    "start_time": "2022-03-30T08:16:05.775Z"
   },
   {
    "duration": 20,
    "start_time": "2022-03-30T08:16:11.319Z"
   },
   {
    "duration": 13,
    "start_time": "2022-03-30T08:16:32.982Z"
   },
   {
    "duration": 36,
    "start_time": "2022-03-30T08:17:17.463Z"
   },
   {
    "duration": 7,
    "start_time": "2022-03-30T08:17:48.529Z"
   },
   {
    "duration": 37,
    "start_time": "2022-03-30T08:18:00.205Z"
   },
   {
    "duration": 92,
    "start_time": "2022-03-30T08:18:32.647Z"
   },
   {
    "duration": 13,
    "start_time": "2022-03-30T08:18:42.340Z"
   },
   {
    "duration": 1831,
    "start_time": "2022-03-30T08:18:53.995Z"
   },
   {
    "duration": 50,
    "start_time": "2022-03-30T08:18:55.828Z"
   },
   {
    "duration": 16,
    "start_time": "2022-03-30T08:18:55.880Z"
   },
   {
    "duration": 18,
    "start_time": "2022-03-30T08:18:55.898Z"
   },
   {
    "duration": 13,
    "start_time": "2022-03-30T08:18:55.919Z"
   },
   {
    "duration": 44,
    "start_time": "2022-03-30T08:18:55.934Z"
   },
   {
    "duration": 13,
    "start_time": "2022-03-30T08:18:55.981Z"
   },
   {
    "duration": 179,
    "start_time": "2022-03-30T08:18:55.996Z"
   },
   {
    "duration": 0,
    "start_time": "2022-03-30T08:18:56.178Z"
   },
   {
    "duration": 0,
    "start_time": "2022-03-30T08:18:56.180Z"
   },
   {
    "duration": 0,
    "start_time": "2022-03-30T08:18:56.181Z"
   },
   {
    "duration": 0,
    "start_time": "2022-03-30T08:18:56.183Z"
   },
   {
    "duration": 0,
    "start_time": "2022-03-30T08:18:56.184Z"
   },
   {
    "duration": 0,
    "start_time": "2022-03-30T08:18:56.186Z"
   },
   {
    "duration": 0,
    "start_time": "2022-03-30T08:18:56.187Z"
   },
   {
    "duration": 0,
    "start_time": "2022-03-30T08:18:56.189Z"
   },
   {
    "duration": 0,
    "start_time": "2022-03-30T08:18:56.190Z"
   },
   {
    "duration": 0,
    "start_time": "2022-03-30T08:18:56.191Z"
   },
   {
    "duration": 0,
    "start_time": "2022-03-30T08:18:56.193Z"
   },
   {
    "duration": 0,
    "start_time": "2022-03-30T08:18:56.194Z"
   },
   {
    "duration": 0,
    "start_time": "2022-03-30T08:18:56.196Z"
   },
   {
    "duration": 0,
    "start_time": "2022-03-30T08:18:56.197Z"
   },
   {
    "duration": 0,
    "start_time": "2022-03-30T08:18:56.198Z"
   },
   {
    "duration": 0,
    "start_time": "2022-03-30T08:18:56.199Z"
   },
   {
    "duration": 0,
    "start_time": "2022-03-30T08:18:56.201Z"
   },
   {
    "duration": 0,
    "start_time": "2022-03-30T08:18:56.202Z"
   },
   {
    "duration": 0,
    "start_time": "2022-03-30T08:18:56.204Z"
   },
   {
    "duration": 0,
    "start_time": "2022-03-30T08:18:56.205Z"
   },
   {
    "duration": 0,
    "start_time": "2022-03-30T08:18:56.207Z"
   },
   {
    "duration": 0,
    "start_time": "2022-03-30T08:18:56.208Z"
   },
   {
    "duration": 0,
    "start_time": "2022-03-30T08:18:56.210Z"
   },
   {
    "duration": 0,
    "start_time": "2022-03-30T08:18:56.211Z"
   },
   {
    "duration": 0,
    "start_time": "2022-03-30T08:18:56.212Z"
   },
   {
    "duration": 0,
    "start_time": "2022-03-30T08:18:56.213Z"
   },
   {
    "duration": 0,
    "start_time": "2022-03-30T08:18:56.215Z"
   },
   {
    "duration": 0,
    "start_time": "2022-03-30T08:18:56.273Z"
   },
   {
    "duration": 0,
    "start_time": "2022-03-30T08:18:56.275Z"
   },
   {
    "duration": 0,
    "start_time": "2022-03-30T08:18:56.277Z"
   },
   {
    "duration": 0,
    "start_time": "2022-03-30T08:18:56.278Z"
   },
   {
    "duration": 0,
    "start_time": "2022-03-30T08:18:56.280Z"
   },
   {
    "duration": 0,
    "start_time": "2022-03-30T08:18:56.282Z"
   },
   {
    "duration": 43,
    "start_time": "2022-03-30T08:20:24.741Z"
   },
   {
    "duration": 6,
    "start_time": "2022-03-30T08:20:34.471Z"
   },
   {
    "duration": 44,
    "start_time": "2022-03-30T08:20:36.719Z"
   },
   {
    "duration": 5,
    "start_time": "2022-03-30T08:23:47.532Z"
   },
   {
    "duration": 1595,
    "start_time": "2022-03-30T08:36:56.347Z"
   },
   {
    "duration": 48,
    "start_time": "2022-03-30T08:36:57.945Z"
   },
   {
    "duration": 67,
    "start_time": "2022-03-30T08:37:04.178Z"
   },
   {
    "duration": 62,
    "start_time": "2022-03-30T08:37:57.898Z"
   },
   {
    "duration": 96,
    "start_time": "2022-03-30T08:38:10.266Z"
   },
   {
    "duration": 5,
    "start_time": "2022-03-30T08:39:47.842Z"
   },
   {
    "duration": 73,
    "start_time": "2022-03-30T08:39:50.916Z"
   },
   {
    "duration": 14,
    "start_time": "2022-03-30T08:40:00.721Z"
   },
   {
    "duration": 23,
    "start_time": "2022-03-30T08:40:11.676Z"
   },
   {
    "duration": 5,
    "start_time": "2022-03-30T08:41:12.460Z"
   },
   {
    "duration": 376,
    "start_time": "2022-03-30T08:42:41.782Z"
   },
   {
    "duration": 5,
    "start_time": "2022-03-30T08:42:51.715Z"
   },
   {
    "duration": 7,
    "start_time": "2022-03-30T08:48:22.325Z"
   },
   {
    "duration": 34,
    "start_time": "2022-03-30T08:55:02.214Z"
   },
   {
    "duration": 14,
    "start_time": "2022-03-30T08:55:11.028Z"
   },
   {
    "duration": 17,
    "start_time": "2022-03-30T08:55:53.639Z"
   },
   {
    "duration": 28,
    "start_time": "2022-03-30T08:56:09.221Z"
   },
   {
    "duration": 18,
    "start_time": "2022-03-30T08:56:58.348Z"
   },
   {
    "duration": 22,
    "start_time": "2022-03-30T08:57:30.646Z"
   },
   {
    "duration": 24,
    "start_time": "2022-03-30T08:58:07.513Z"
   },
   {
    "duration": 15,
    "start_time": "2022-03-30T09:24:01.604Z"
   },
   {
    "duration": 25,
    "start_time": "2022-03-30T09:24:59.586Z"
   },
   {
    "duration": 16,
    "start_time": "2022-03-30T09:28:48.229Z"
   },
   {
    "duration": 10,
    "start_time": "2022-03-30T09:31:57.663Z"
   },
   {
    "duration": 21,
    "start_time": "2022-03-30T09:32:10.363Z"
   },
   {
    "duration": 32,
    "start_time": "2022-03-30T09:33:40.868Z"
   },
   {
    "duration": 4,
    "start_time": "2022-03-30T09:44:33.499Z"
   },
   {
    "duration": 40,
    "start_time": "2022-03-30T09:44:33.506Z"
   },
   {
    "duration": 4,
    "start_time": "2022-03-30T09:44:33.693Z"
   },
   {
    "duration": 20,
    "start_time": "2022-03-30T09:44:33.700Z"
   },
   {
    "duration": 14,
    "start_time": "2022-03-30T09:44:33.722Z"
   },
   {
    "duration": 24,
    "start_time": "2022-03-30T09:44:33.905Z"
   },
   {
    "duration": 20,
    "start_time": "2022-03-30T09:44:33.931Z"
   },
   {
    "duration": 15,
    "start_time": "2022-03-30T09:44:34.147Z"
   },
   {
    "duration": 10,
    "start_time": "2022-03-30T09:44:34.164Z"
   },
   {
    "duration": 8,
    "start_time": "2022-03-30T09:44:34.176Z"
   },
   {
    "duration": 6,
    "start_time": "2022-03-30T09:44:34.186Z"
   },
   {
    "duration": 9,
    "start_time": "2022-03-30T09:46:11.821Z"
   },
   {
    "duration": 4,
    "start_time": "2022-03-30T09:46:17.287Z"
   },
   {
    "duration": 35,
    "start_time": "2022-03-30T09:46:17.293Z"
   },
   {
    "duration": 4,
    "start_time": "2022-03-30T09:46:17.330Z"
   },
   {
    "duration": 17,
    "start_time": "2022-03-30T09:46:17.335Z"
   },
   {
    "duration": 11,
    "start_time": "2022-03-30T09:46:17.354Z"
   },
   {
    "duration": 53,
    "start_time": "2022-03-30T09:46:17.366Z"
   },
   {
    "duration": 21,
    "start_time": "2022-03-30T09:46:17.421Z"
   },
   {
    "duration": 16,
    "start_time": "2022-03-30T09:46:17.444Z"
   },
   {
    "duration": 46,
    "start_time": "2022-03-30T09:46:17.463Z"
   },
   {
    "duration": 9,
    "start_time": "2022-03-30T09:46:17.511Z"
   },
   {
    "duration": 9,
    "start_time": "2022-03-30T09:46:17.521Z"
   },
   {
    "duration": 16,
    "start_time": "2022-03-30T09:46:17.532Z"
   },
   {
    "duration": 17,
    "start_time": "2022-03-30T09:49:42.821Z"
   },
   {
    "duration": 20,
    "start_time": "2022-03-30T09:50:25.459Z"
   },
   {
    "duration": 17,
    "start_time": "2022-03-30T09:53:33.488Z"
   },
   {
    "duration": 12,
    "start_time": "2022-03-30T09:53:59.793Z"
   },
   {
    "duration": 20,
    "start_time": "2022-03-30T09:54:21.673Z"
   },
   {
    "duration": 18,
    "start_time": "2022-03-30T09:54:45.519Z"
   },
   {
    "duration": 21,
    "start_time": "2022-03-30T09:54:52.032Z"
   },
   {
    "duration": 152,
    "start_time": "2022-03-30T09:55:41.600Z"
   },
   {
    "duration": 5314,
    "start_time": "2022-03-30T09:57:23.114Z"
   },
   {
    "duration": 49833,
    "start_time": "2022-03-30T09:58:19.471Z"
   },
   {
    "duration": 514,
    "start_time": "2022-03-30T10:01:17.395Z"
   },
   {
    "duration": 520,
    "start_time": "2022-03-30T10:02:22.690Z"
   },
   {
    "duration": 5901,
    "start_time": "2022-03-30T10:03:06.409Z"
   },
   {
    "duration": 54644,
    "start_time": "2022-03-30T10:03:28.202Z"
   },
   {
    "duration": 525,
    "start_time": "2022-03-30T10:05:31.983Z"
   },
   {
    "duration": 467,
    "start_time": "2022-03-30T10:06:45.244Z"
   },
   {
    "duration": 660,
    "start_time": "2022-03-30T10:09:36.350Z"
   },
   {
    "duration": 426,
    "start_time": "2022-03-30T10:10:59.591Z"
   },
   {
    "duration": 144,
    "start_time": "2022-03-30T10:17:27.823Z"
   },
   {
    "duration": 134,
    "start_time": "2022-03-30T10:17:40.821Z"
   },
   {
    "duration": 1122,
    "start_time": "2022-03-30T10:17:58.584Z"
   },
   {
    "duration": 6,
    "start_time": "2022-03-30T10:18:05.778Z"
   },
   {
    "duration": 7,
    "start_time": "2022-03-30T10:18:14.690Z"
   },
   {
    "duration": 211,
    "start_time": "2022-03-30T10:18:31.023Z"
   },
   {
    "duration": 17,
    "start_time": "2022-03-30T10:19:49.009Z"
   },
   {
    "duration": 150,
    "start_time": "2022-03-30T10:24:20.475Z"
   },
   {
    "duration": 142,
    "start_time": "2022-03-30T10:24:38.929Z"
   },
   {
    "duration": 6,
    "start_time": "2022-03-30T10:26:17.659Z"
   },
   {
    "duration": 7,
    "start_time": "2022-03-30T10:26:43.044Z"
   },
   {
    "duration": 4,
    "start_time": "2022-03-30T10:31:17.629Z"
   },
   {
    "duration": 14,
    "start_time": "2022-03-30T10:31:31.384Z"
   },
   {
    "duration": 13,
    "start_time": "2022-03-30T10:31:39.648Z"
   },
   {
    "duration": 11,
    "start_time": "2022-03-30T10:32:50.397Z"
   },
   {
    "duration": 14,
    "start_time": "2022-03-30T10:36:18.424Z"
   },
   {
    "duration": 122,
    "start_time": "2022-03-30T10:36:36.337Z"
   },
   {
    "duration": 39,
    "start_time": "2022-03-30T10:41:59.734Z"
   },
   {
    "duration": 1411,
    "start_time": "2022-03-30T10:42:07.617Z"
   },
   {
    "duration": 37,
    "start_time": "2022-03-30T10:42:09.030Z"
   },
   {
    "duration": 5,
    "start_time": "2022-03-30T10:42:09.069Z"
   },
   {
    "duration": 18,
    "start_time": "2022-03-30T10:42:09.076Z"
   },
   {
    "duration": 23,
    "start_time": "2022-03-30T10:42:09.097Z"
   },
   {
    "duration": 34,
    "start_time": "2022-03-30T10:42:09.122Z"
   },
   {
    "duration": 71,
    "start_time": "2022-03-30T10:42:09.158Z"
   },
   {
    "duration": 21,
    "start_time": "2022-03-30T10:42:09.231Z"
   },
   {
    "duration": 7,
    "start_time": "2022-03-30T10:42:09.254Z"
   },
   {
    "duration": 17,
    "start_time": "2022-03-30T10:42:09.263Z"
   },
   {
    "duration": 30,
    "start_time": "2022-03-30T10:42:09.282Z"
   },
   {
    "duration": 180,
    "start_time": "2022-03-30T10:42:09.314Z"
   },
   {
    "duration": 15190,
    "start_time": "2022-03-30T10:42:09.496Z"
   },
   {
    "duration": 1019,
    "start_time": "2022-03-30T10:42:24.689Z"
   },
   {
    "duration": 157,
    "start_time": "2022-03-30T10:42:25.710Z"
   },
   {
    "duration": 6,
    "start_time": "2022-03-30T10:42:25.869Z"
   },
   {
    "duration": 7,
    "start_time": "2022-03-30T10:42:25.877Z"
   },
   {
    "duration": 182,
    "start_time": "2022-03-30T10:42:25.886Z"
   },
   {
    "duration": 6,
    "start_time": "2022-03-30T10:42:26.070Z"
   },
   {
    "duration": 58,
    "start_time": "2022-03-30T10:42:26.078Z"
   },
   {
    "duration": 72,
    "start_time": "2022-03-30T10:42:26.137Z"
   },
   {
    "duration": 11,
    "start_time": "2022-03-30T10:42:26.210Z"
   },
   {
    "duration": 118,
    "start_time": "2022-03-30T10:42:26.222Z"
   },
   {
    "duration": 6,
    "start_time": "2022-03-30T10:42:26.342Z"
   },
   {
    "duration": 70,
    "start_time": "2022-03-30T10:42:26.350Z"
   },
   {
    "duration": 265,
    "start_time": "2022-03-30T10:42:26.421Z"
   },
   {
    "duration": 190,
    "start_time": "2022-03-30T10:42:26.688Z"
   },
   {
    "duration": 1297,
    "start_time": "2022-03-30T10:50:53.468Z"
   },
   {
    "duration": 42,
    "start_time": "2022-03-30T10:50:54.767Z"
   },
   {
    "duration": 4,
    "start_time": "2022-03-30T10:50:54.811Z"
   },
   {
    "duration": 15,
    "start_time": "2022-03-30T10:50:54.816Z"
   },
   {
    "duration": 11,
    "start_time": "2022-03-30T10:50:54.833Z"
   },
   {
    "duration": 22,
    "start_time": "2022-03-30T10:50:54.846Z"
   },
   {
    "duration": 21,
    "start_time": "2022-03-30T10:50:54.908Z"
   },
   {
    "duration": 13,
    "start_time": "2022-03-30T10:50:54.931Z"
   },
   {
    "duration": 7,
    "start_time": "2022-03-30T10:50:54.945Z"
   },
   {
    "duration": 6,
    "start_time": "2022-03-30T10:50:54.954Z"
   },
   {
    "duration": 48,
    "start_time": "2022-03-30T10:50:54.961Z"
   },
   {
    "duration": 161,
    "start_time": "2022-03-30T10:50:55.010Z"
   },
   {
    "duration": 14710,
    "start_time": "2022-03-30T10:50:55.173Z"
   },
   {
    "duration": 628,
    "start_time": "2022-03-30T10:51:09.886Z"
   },
   {
    "duration": 304,
    "start_time": "2022-03-30T10:51:10.516Z"
   },
   {
    "duration": 7,
    "start_time": "2022-03-30T10:51:10.822Z"
   },
   {
    "duration": 8,
    "start_time": "2022-03-30T10:51:10.831Z"
   },
   {
    "duration": 195,
    "start_time": "2022-03-30T10:51:10.841Z"
   },
   {
    "duration": 6,
    "start_time": "2022-03-30T10:51:11.038Z"
   },
   {
    "duration": 60,
    "start_time": "2022-03-30T10:51:11.045Z"
   },
   {
    "duration": 66,
    "start_time": "2022-03-30T10:51:11.107Z"
   },
   {
    "duration": 11,
    "start_time": "2022-03-30T10:51:11.175Z"
   },
   {
    "duration": 121,
    "start_time": "2022-03-30T10:51:11.187Z"
   },
   {
    "duration": 6,
    "start_time": "2022-03-30T10:51:11.310Z"
   },
   {
    "duration": 51,
    "start_time": "2022-03-30T10:51:11.318Z"
   },
   {
    "duration": 296,
    "start_time": "2022-03-30T10:51:11.371Z"
   },
   {
    "duration": 186,
    "start_time": "2022-03-30T10:51:11.669Z"
   },
   {
    "duration": 78,
    "start_time": "2022-03-30T10:59:17.816Z"
   },
   {
    "duration": 1336,
    "start_time": "2022-03-30T10:59:32.213Z"
   },
   {
    "duration": 40,
    "start_time": "2022-03-30T10:59:33.551Z"
   },
   {
    "duration": 4,
    "start_time": "2022-03-30T10:59:33.592Z"
   },
   {
    "duration": 21,
    "start_time": "2022-03-30T10:59:33.598Z"
   },
   {
    "duration": 11,
    "start_time": "2022-03-30T10:59:33.620Z"
   },
   {
    "duration": 22,
    "start_time": "2022-03-30T10:59:33.632Z"
   },
   {
    "duration": 55,
    "start_time": "2022-03-30T10:59:33.655Z"
   },
   {
    "duration": 14,
    "start_time": "2022-03-30T10:59:33.711Z"
   },
   {
    "duration": 7,
    "start_time": "2022-03-30T10:59:33.726Z"
   },
   {
    "duration": 6,
    "start_time": "2022-03-30T10:59:33.736Z"
   },
   {
    "duration": 6,
    "start_time": "2022-03-30T10:59:33.743Z"
   },
   {
    "duration": 194,
    "start_time": "2022-03-30T10:59:33.751Z"
   },
   {
    "duration": 14487,
    "start_time": "2022-03-30T10:59:33.947Z"
   },
   {
    "duration": 376,
    "start_time": "2022-03-30T10:59:48.436Z"
   },
   {
    "duration": 239,
    "start_time": "2022-03-30T10:59:48.815Z"
   },
   {
    "duration": 6,
    "start_time": "2022-03-30T10:59:49.056Z"
   },
   {
    "duration": 7,
    "start_time": "2022-03-30T10:59:49.064Z"
   },
   {
    "duration": 191,
    "start_time": "2022-03-30T10:59:49.072Z"
   },
   {
    "duration": 6,
    "start_time": "2022-03-30T10:59:49.265Z"
   },
   {
    "duration": 61,
    "start_time": "2022-03-30T10:59:49.273Z"
   },
   {
    "duration": 142,
    "start_time": "2022-03-30T10:59:49.335Z"
   },
   {
    "duration": 73,
    "start_time": "2022-03-30T10:59:49.479Z"
   },
   {
    "duration": 11,
    "start_time": "2022-03-30T10:59:49.554Z"
   },
   {
    "duration": 127,
    "start_time": "2022-03-30T10:59:49.567Z"
   },
   {
    "duration": 14,
    "start_time": "2022-03-30T10:59:49.696Z"
   },
   {
    "duration": 51,
    "start_time": "2022-03-30T10:59:49.711Z"
   },
   {
    "duration": 292,
    "start_time": "2022-03-30T10:59:49.764Z"
   },
   {
    "duration": 201,
    "start_time": "2022-03-30T10:59:50.059Z"
   },
   {
    "duration": 1404,
    "start_time": "2022-03-30T11:11:01.180Z"
   },
   {
    "duration": 38,
    "start_time": "2022-03-30T11:11:02.587Z"
   },
   {
    "duration": 4,
    "start_time": "2022-03-30T11:11:02.627Z"
   },
   {
    "duration": 19,
    "start_time": "2022-03-30T11:11:02.633Z"
   },
   {
    "duration": 11,
    "start_time": "2022-03-30T11:11:02.654Z"
   },
   {
    "duration": 54,
    "start_time": "2022-03-30T11:11:02.667Z"
   },
   {
    "duration": 21,
    "start_time": "2022-03-30T11:11:02.722Z"
   },
   {
    "duration": 14,
    "start_time": "2022-03-30T11:11:02.745Z"
   },
   {
    "duration": 48,
    "start_time": "2022-03-30T11:11:02.761Z"
   },
   {
    "duration": 8,
    "start_time": "2022-03-30T11:11:02.810Z"
   },
   {
    "duration": 6,
    "start_time": "2022-03-30T11:11:02.820Z"
   },
   {
    "duration": 187,
    "start_time": "2022-03-30T11:11:02.828Z"
   },
   {
    "duration": 15355,
    "start_time": "2022-03-30T11:11:03.017Z"
   },
   {
    "duration": 933,
    "start_time": "2022-03-30T11:11:18.376Z"
   },
   {
    "duration": 246,
    "start_time": "2022-03-30T11:11:19.312Z"
   },
   {
    "duration": 7,
    "start_time": "2022-03-30T11:11:19.559Z"
   },
   {
    "duration": 13,
    "start_time": "2022-03-30T11:11:19.567Z"
   },
   {
    "duration": 187,
    "start_time": "2022-03-30T11:11:19.582Z"
   },
   {
    "duration": 6,
    "start_time": "2022-03-30T11:11:19.771Z"
   },
   {
    "duration": 66,
    "start_time": "2022-03-30T11:11:19.778Z"
   },
   {
    "duration": 150,
    "start_time": "2022-03-30T11:11:19.846Z"
   },
   {
    "duration": 73,
    "start_time": "2022-03-30T11:11:19.998Z"
   },
   {
    "duration": 14,
    "start_time": "2022-03-30T11:11:20.073Z"
   },
   {
    "duration": 132,
    "start_time": "2022-03-30T11:11:20.088Z"
   },
   {
    "duration": 6,
    "start_time": "2022-03-30T11:11:20.221Z"
   },
   {
    "duration": 55,
    "start_time": "2022-03-30T11:11:20.229Z"
   },
   {
    "duration": 295,
    "start_time": "2022-03-30T11:11:20.286Z"
   },
   {
    "duration": 187,
    "start_time": "2022-03-30T11:11:20.582Z"
   },
   {
    "duration": 76,
    "start_time": "2022-03-30T11:12:29.438Z"
   },
   {
    "duration": 1331,
    "start_time": "2022-03-30T11:12:41.066Z"
   },
   {
    "duration": 35,
    "start_time": "2022-03-30T11:12:42.399Z"
   },
   {
    "duration": 4,
    "start_time": "2022-03-30T11:12:42.436Z"
   },
   {
    "duration": 16,
    "start_time": "2022-03-30T11:12:42.442Z"
   },
   {
    "duration": 11,
    "start_time": "2022-03-30T11:12:42.459Z"
   },
   {
    "duration": 46,
    "start_time": "2022-03-30T11:12:42.471Z"
   },
   {
    "duration": 20,
    "start_time": "2022-03-30T11:12:42.519Z"
   },
   {
    "duration": 16,
    "start_time": "2022-03-30T11:12:42.540Z"
   },
   {
    "duration": 8,
    "start_time": "2022-03-30T11:12:42.557Z"
   },
   {
    "duration": 46,
    "start_time": "2022-03-30T11:12:42.568Z"
   },
   {
    "duration": 11,
    "start_time": "2022-03-30T11:12:42.615Z"
   },
   {
    "duration": 169,
    "start_time": "2022-03-30T11:12:42.627Z"
   },
   {
    "duration": 14875,
    "start_time": "2022-03-30T11:12:42.797Z"
   },
   {
    "duration": 536,
    "start_time": "2022-03-30T11:12:57.674Z"
   },
   {
    "duration": 245,
    "start_time": "2022-03-30T11:12:58.212Z"
   },
   {
    "duration": 7,
    "start_time": "2022-03-30T11:12:58.459Z"
   },
   {
    "duration": 8,
    "start_time": "2022-03-30T11:12:58.467Z"
   },
   {
    "duration": 182,
    "start_time": "2022-03-30T11:12:58.476Z"
   },
   {
    "duration": 6,
    "start_time": "2022-03-30T11:12:58.659Z"
   },
   {
    "duration": 48,
    "start_time": "2022-03-30T11:12:58.667Z"
   },
   {
    "duration": 148,
    "start_time": "2022-03-30T11:12:58.717Z"
   },
   {
    "duration": 71,
    "start_time": "2022-03-30T11:12:58.867Z"
   },
   {
    "duration": 12,
    "start_time": "2022-03-30T11:12:58.940Z"
   },
   {
    "duration": 122,
    "start_time": "2022-03-30T11:12:58.954Z"
   },
   {
    "duration": 6,
    "start_time": "2022-03-30T11:12:59.078Z"
   },
   {
    "duration": 60,
    "start_time": "2022-03-30T11:12:59.086Z"
   },
   {
    "duration": 272,
    "start_time": "2022-03-30T11:12:59.148Z"
   },
   {
    "duration": 188,
    "start_time": "2022-03-30T11:12:59.423Z"
   },
   {
    "duration": 4,
    "start_time": "2022-03-30T11:14:33.936Z"
   },
   {
    "duration": 35,
    "start_time": "2022-03-30T11:14:33.942Z"
   },
   {
    "duration": 4,
    "start_time": "2022-03-30T11:14:33.979Z"
   },
   {
    "duration": 15,
    "start_time": "2022-03-30T11:14:33.984Z"
   },
   {
    "duration": 11,
    "start_time": "2022-03-30T11:14:34.001Z"
   },
   {
    "duration": 21,
    "start_time": "2022-03-30T11:14:34.013Z"
   },
   {
    "duration": 18,
    "start_time": "2022-03-30T11:14:34.035Z"
   },
   {
    "duration": 13,
    "start_time": "2022-03-30T11:14:34.055Z"
   },
   {
    "duration": 39,
    "start_time": "2022-03-30T11:14:34.070Z"
   },
   {
    "duration": 7,
    "start_time": "2022-03-30T11:14:34.110Z"
   },
   {
    "duration": 6,
    "start_time": "2022-03-30T11:14:34.119Z"
   },
   {
    "duration": 176,
    "start_time": "2022-03-30T11:14:34.127Z"
   },
   {
    "duration": 14566,
    "start_time": "2022-03-30T11:14:34.308Z"
   },
   {
    "duration": 634,
    "start_time": "2022-03-30T11:14:48.876Z"
   },
   {
    "duration": 250,
    "start_time": "2022-03-30T11:14:49.513Z"
   },
   {
    "duration": 7,
    "start_time": "2022-03-30T11:14:49.764Z"
   },
   {
    "duration": 9,
    "start_time": "2022-03-30T11:14:49.772Z"
   },
   {
    "duration": 172,
    "start_time": "2022-03-30T11:14:49.782Z"
   },
   {
    "duration": 5,
    "start_time": "2022-03-30T11:14:49.956Z"
   },
   {
    "duration": 50,
    "start_time": "2022-03-30T11:14:49.963Z"
   },
   {
    "duration": 155,
    "start_time": "2022-03-30T11:14:50.015Z"
   },
   {
    "duration": 19,
    "start_time": "2022-03-30T11:15:16.363Z"
   },
   {
    "duration": 146,
    "start_time": "2022-03-30T11:19:08.396Z"
   },
   {
    "duration": 30,
    "start_time": "2022-03-30T11:19:33.726Z"
   },
   {
    "duration": 16,
    "start_time": "2022-03-30T11:19:49.648Z"
   },
   {
    "duration": 19,
    "start_time": "2022-03-30T11:21:45.444Z"
   },
   {
    "duration": 18,
    "start_time": "2022-03-30T11:22:29.247Z"
   },
   {
    "duration": 4,
    "start_time": "2022-03-30T11:22:50.262Z"
   },
   {
    "duration": 4,
    "start_time": "2022-03-30T11:23:01.138Z"
   },
   {
    "duration": 112,
    "start_time": "2022-03-30T11:43:30.302Z"
   },
   {
    "duration": 2282,
    "start_time": "2022-03-30T11:43:35.047Z"
   },
   {
    "duration": 61,
    "start_time": "2022-03-30T11:43:37.332Z"
   },
   {
    "duration": 6,
    "start_time": "2022-03-30T11:43:37.395Z"
   },
   {
    "duration": 30,
    "start_time": "2022-03-30T11:43:37.403Z"
   },
   {
    "duration": 16,
    "start_time": "2022-03-30T11:43:37.436Z"
   },
   {
    "duration": 44,
    "start_time": "2022-03-30T11:43:37.474Z"
   },
   {
    "duration": 62,
    "start_time": "2022-03-30T11:43:37.521Z"
   },
   {
    "duration": 23,
    "start_time": "2022-03-30T11:43:37.586Z"
   },
   {
    "duration": 13,
    "start_time": "2022-03-30T11:43:37.612Z"
   },
   {
    "duration": 57,
    "start_time": "2022-03-30T11:43:37.627Z"
   },
   {
    "duration": 10,
    "start_time": "2022-03-30T11:43:37.686Z"
   },
   {
    "duration": 323,
    "start_time": "2022-03-30T11:43:37.698Z"
   },
   {
    "duration": 23784,
    "start_time": "2022-03-30T11:43:38.024Z"
   },
   {
    "duration": 867,
    "start_time": "2022-03-30T11:44:01.811Z"
   },
   {
    "duration": 299,
    "start_time": "2022-03-30T11:44:02.681Z"
   },
   {
    "duration": 8,
    "start_time": "2022-03-30T11:44:02.983Z"
   },
   {
    "duration": 13,
    "start_time": "2022-03-30T11:44:02.993Z"
   },
   {
    "duration": 269,
    "start_time": "2022-03-30T11:44:03.008Z"
   },
   {
    "duration": 7,
    "start_time": "2022-03-30T11:44:03.280Z"
   },
   {
    "duration": 43,
    "start_time": "2022-03-30T11:44:03.289Z"
   },
   {
    "duration": 233,
    "start_time": "2022-03-30T11:44:03.334Z"
   },
   {
    "duration": 202,
    "start_time": "2022-03-30T11:44:48.053Z"
   },
   {
    "duration": 32,
    "start_time": "2022-03-30T11:46:16.525Z"
   },
   {
    "duration": 202,
    "start_time": "2022-03-30T11:46:18.589Z"
   },
   {
    "duration": 99,
    "start_time": "2022-03-30T11:50:31.289Z"
   },
   {
    "duration": 101,
    "start_time": "2022-03-30T11:50:58.850Z"
   },
   {
    "duration": 23,
    "start_time": "2022-03-30T11:56:48.709Z"
   },
   {
    "duration": 206,
    "start_time": "2022-03-30T11:56:50.763Z"
   },
   {
    "duration": 213,
    "start_time": "2022-03-30T12:07:46.152Z"
   },
   {
    "duration": 219,
    "start_time": "2022-03-30T12:07:55.983Z"
   },
   {
    "duration": 309,
    "start_time": "2022-03-30T12:08:28.390Z"
   },
   {
    "duration": 96,
    "start_time": "2022-03-30T12:09:38.820Z"
   },
   {
    "duration": 153,
    "start_time": "2022-03-30T12:09:48.047Z"
   },
   {
    "duration": 217,
    "start_time": "2022-03-30T12:09:54.447Z"
   },
   {
    "duration": 226,
    "start_time": "2022-03-30T12:11:55.911Z"
   },
   {
    "duration": 7,
    "start_time": "2022-03-30T12:12:11.699Z"
   },
   {
    "duration": 59,
    "start_time": "2022-03-30T12:12:11.709Z"
   },
   {
    "duration": 6,
    "start_time": "2022-03-30T12:12:11.770Z"
   },
   {
    "duration": 19,
    "start_time": "2022-03-30T12:12:11.778Z"
   },
   {
    "duration": 22,
    "start_time": "2022-03-30T12:12:11.801Z"
   },
   {
    "duration": 58,
    "start_time": "2022-03-30T12:12:11.825Z"
   },
   {
    "duration": 30,
    "start_time": "2022-03-30T12:12:11.885Z"
   },
   {
    "duration": 21,
    "start_time": "2022-03-30T12:12:11.917Z"
   },
   {
    "duration": 43,
    "start_time": "2022-03-30T12:12:11.940Z"
   },
   {
    "duration": 10,
    "start_time": "2022-03-30T12:12:11.986Z"
   },
   {
    "duration": 11,
    "start_time": "2022-03-30T12:12:11.998Z"
   },
   {
    "duration": 269,
    "start_time": "2022-03-30T12:12:12.011Z"
   },
   {
    "duration": 21907,
    "start_time": "2022-03-30T12:12:12.283Z"
   },
   {
    "duration": 690,
    "start_time": "2022-03-30T12:12:34.193Z"
   },
   {
    "duration": 293,
    "start_time": "2022-03-30T12:12:34.975Z"
   },
   {
    "duration": 9,
    "start_time": "2022-03-30T12:12:35.274Z"
   },
   {
    "duration": 27,
    "start_time": "2022-03-30T12:12:35.285Z"
   },
   {
    "duration": 237,
    "start_time": "2022-03-30T12:12:35.314Z"
   },
   {
    "duration": 20,
    "start_time": "2022-03-30T12:12:35.553Z"
   },
   {
    "duration": 55,
    "start_time": "2022-03-30T12:12:35.575Z"
   },
   {
    "duration": 246,
    "start_time": "2022-03-30T12:12:35.632Z"
   },
   {
    "duration": 206,
    "start_time": "2022-03-30T12:14:13.837Z"
   },
   {
    "duration": 178,
    "start_time": "2022-03-30T12:25:19.666Z"
   },
   {
    "duration": 17,
    "start_time": "2022-03-30T12:25:30.285Z"
   },
   {
    "duration": 188,
    "start_time": "2022-03-30T12:25:34.388Z"
   },
   {
    "duration": 113,
    "start_time": "2022-03-30T12:25:53.972Z"
   },
   {
    "duration": 176,
    "start_time": "2022-03-30T12:26:07.557Z"
   },
   {
    "duration": 192,
    "start_time": "2022-03-30T12:26:37.589Z"
   },
   {
    "duration": 195,
    "start_time": "2022-03-30T12:28:32.076Z"
   },
   {
    "duration": 195,
    "start_time": "2022-03-30T12:33:01.645Z"
   },
   {
    "duration": 10,
    "start_time": "2022-03-30T12:40:33.762Z"
   },
   {
    "duration": 53,
    "start_time": "2022-03-30T12:40:59.532Z"
   },
   {
    "duration": 62,
    "start_time": "2022-03-30T12:41:39.811Z"
   },
   {
    "duration": 11,
    "start_time": "2022-03-30T12:41:52.940Z"
   },
   {
    "duration": 67,
    "start_time": "2022-03-30T12:41:55.545Z"
   },
   {
    "duration": 10,
    "start_time": "2022-03-30T12:42:30.018Z"
   },
   {
    "duration": 105,
    "start_time": "2022-03-30T12:42:32.127Z"
   },
   {
    "duration": 11,
    "start_time": "2022-03-30T12:42:51.442Z"
   },
   {
    "duration": 136,
    "start_time": "2022-03-30T12:42:54.101Z"
   },
   {
    "duration": 197,
    "start_time": "2022-03-30T12:44:04.670Z"
   },
   {
    "duration": 97,
    "start_time": "2022-03-30T12:44:28.613Z"
   },
   {
    "duration": 12,
    "start_time": "2022-03-30T12:44:36.692Z"
   },
   {
    "duration": 100,
    "start_time": "2022-03-30T12:44:39.117Z"
   },
   {
    "duration": 10,
    "start_time": "2022-03-30T12:44:51.092Z"
   },
   {
    "duration": 66,
    "start_time": "2022-03-30T12:44:53.486Z"
   },
   {
    "duration": 638,
    "start_time": "2022-03-30T12:49:51.032Z"
   },
   {
    "duration": 710,
    "start_time": "2022-03-30T12:50:58.486Z"
   },
   {
    "duration": 648,
    "start_time": "2022-03-30T12:51:37.070Z"
   },
   {
    "duration": 310,
    "start_time": "2022-03-30T12:51:51.015Z"
   },
   {
    "duration": 672,
    "start_time": "2022-03-30T12:52:37.031Z"
   },
   {
    "duration": 209,
    "start_time": "2022-03-30T12:54:02.151Z"
   },
   {
    "duration": 392,
    "start_time": "2022-03-30T12:54:58.666Z"
   },
   {
    "duration": 403,
    "start_time": "2022-03-30T12:55:41.306Z"
   },
   {
    "duration": 2681,
    "start_time": "2022-03-30T12:55:52.547Z"
   },
   {
    "duration": 73,
    "start_time": "2022-03-30T12:55:55.232Z"
   },
   {
    "duration": 9,
    "start_time": "2022-03-30T12:55:55.308Z"
   },
   {
    "duration": 22,
    "start_time": "2022-03-30T12:55:55.320Z"
   },
   {
    "duration": 38,
    "start_time": "2022-03-30T12:55:55.345Z"
   },
   {
    "duration": 37,
    "start_time": "2022-03-30T12:55:55.385Z"
   },
   {
    "duration": 66,
    "start_time": "2022-03-30T12:55:55.424Z"
   },
   {
    "duration": 21,
    "start_time": "2022-03-30T12:55:55.492Z"
   },
   {
    "duration": 10,
    "start_time": "2022-03-30T12:55:55.516Z"
   },
   {
    "duration": 48,
    "start_time": "2022-03-30T12:55:55.530Z"
   },
   {
    "duration": 13,
    "start_time": "2022-03-30T12:55:55.581Z"
   },
   {
    "duration": 360,
    "start_time": "2022-03-30T12:55:55.598Z"
   },
   {
    "duration": 24695,
    "start_time": "2022-03-30T12:55:55.962Z"
   },
   {
    "duration": 1111,
    "start_time": "2022-03-30T12:56:20.662Z"
   },
   {
    "duration": 316,
    "start_time": "2022-03-30T12:56:21.776Z"
   },
   {
    "duration": 9,
    "start_time": "2022-03-30T12:56:22.095Z"
   },
   {
    "duration": 18,
    "start_time": "2022-03-30T12:56:22.106Z"
   },
   {
    "duration": 266,
    "start_time": "2022-03-30T12:56:22.126Z"
   },
   {
    "duration": 9,
    "start_time": "2022-03-30T12:56:22.394Z"
   },
   {
    "duration": 72,
    "start_time": "2022-03-30T12:56:22.405Z"
   },
   {
    "duration": 213,
    "start_time": "2022-03-30T12:56:22.479Z"
   },
   {
    "duration": 223,
    "start_time": "2022-03-30T12:56:22.694Z"
   },
   {
    "duration": 16,
    "start_time": "2022-03-30T12:56:22.920Z"
   },
   {
    "duration": 421,
    "start_time": "2022-03-30T12:56:22.938Z"
   },
   {
    "duration": 18,
    "start_time": "2022-03-30T12:56:23.361Z"
   },
   {
    "duration": 7,
    "start_time": "2022-03-30T12:56:23.382Z"
   },
   {
    "duration": 83,
    "start_time": "2022-03-30T12:56:23.391Z"
   },
   {
    "duration": 369,
    "start_time": "2022-03-30T12:56:23.476Z"
   },
   {
    "duration": 289,
    "start_time": "2022-03-30T12:56:23.847Z"
   },
   {
    "duration": 342,
    "start_time": "2022-03-30T12:59:02.504Z"
   },
   {
    "duration": 207,
    "start_time": "2022-03-30T12:59:39.679Z"
   },
   {
    "duration": 217,
    "start_time": "2022-03-30T13:02:02.767Z"
   },
   {
    "duration": 219,
    "start_time": "2022-03-30T13:02:19.175Z"
   },
   {
    "duration": 196,
    "start_time": "2022-03-30T13:03:17.915Z"
   },
   {
    "duration": 22744,
    "start_time": "2022-03-30T13:03:24.803Z"
   },
   {
    "duration": 1867,
    "start_time": "2022-03-30T13:04:11.589Z"
   },
   {
    "duration": 51,
    "start_time": "2022-03-30T13:04:13.460Z"
   },
   {
    "duration": 6,
    "start_time": "2022-03-30T13:04:13.513Z"
   },
   {
    "duration": 29,
    "start_time": "2022-03-30T13:04:13.522Z"
   },
   {
    "duration": 29,
    "start_time": "2022-03-30T13:04:13.555Z"
   },
   {
    "duration": 39,
    "start_time": "2022-03-30T13:04:13.586Z"
   },
   {
    "duration": 68,
    "start_time": "2022-03-30T13:04:13.627Z"
   },
   {
    "duration": 20,
    "start_time": "2022-03-30T13:04:13.698Z"
   },
   {
    "duration": 12,
    "start_time": "2022-03-30T13:04:13.721Z"
   },
   {
    "duration": 46,
    "start_time": "2022-03-30T13:04:13.735Z"
   },
   {
    "duration": 12,
    "start_time": "2022-03-30T13:04:13.783Z"
   },
   {
    "duration": 252,
    "start_time": "2022-03-30T13:04:13.797Z"
   },
   {
    "duration": 21681,
    "start_time": "2022-03-30T13:04:14.051Z"
   },
   {
    "duration": 538,
    "start_time": "2022-03-30T13:04:35.736Z"
   },
   {
    "duration": 283,
    "start_time": "2022-03-30T13:04:36.278Z"
   },
   {
    "duration": 12,
    "start_time": "2022-03-30T13:04:36.563Z"
   },
   {
    "duration": 19,
    "start_time": "2022-03-30T13:04:36.577Z"
   },
   {
    "duration": 262,
    "start_time": "2022-03-30T13:04:36.598Z"
   },
   {
    "duration": 18,
    "start_time": "2022-03-30T13:04:36.862Z"
   },
   {
    "duration": 52,
    "start_time": "2022-03-30T13:04:36.882Z"
   },
   {
    "duration": 221,
    "start_time": "2022-03-30T13:04:36.936Z"
   },
   {
    "duration": 214,
    "start_time": "2022-03-30T13:04:37.159Z"
   },
   {
    "duration": 16,
    "start_time": "2022-03-30T13:04:37.376Z"
   },
   {
    "duration": 425,
    "start_time": "2022-03-30T13:04:37.395Z"
   },
   {
    "duration": 10,
    "start_time": "2022-03-30T13:04:37.823Z"
   },
   {
    "duration": 8,
    "start_time": "2022-03-30T13:04:37.835Z"
   },
   {
    "duration": 88,
    "start_time": "2022-03-30T13:04:37.845Z"
   },
   {
    "duration": 408,
    "start_time": "2022-03-30T13:04:37.936Z"
   },
   {
    "duration": 291,
    "start_time": "2022-03-30T13:04:38.346Z"
   },
   {
    "duration": 242,
    "start_time": "2022-03-30T13:04:38.639Z"
   },
   {
    "duration": 35,
    "start_time": "2022-03-30T13:05:57.352Z"
   },
   {
    "duration": 208,
    "start_time": "2022-03-30T13:07:16.513Z"
   },
   {
    "duration": 418,
    "start_time": "2022-03-30T13:11:29.197Z"
   },
   {
    "duration": 262,
    "start_time": "2022-03-30T13:11:42.446Z"
   },
   {
    "duration": 285,
    "start_time": "2022-03-30T13:11:58.589Z"
   },
   {
    "duration": 271,
    "start_time": "2022-03-30T13:12:14.868Z"
   },
   {
    "duration": 149,
    "start_time": "2022-03-30T13:12:29.468Z"
   },
   {
    "duration": 88,
    "start_time": "2022-03-30T13:12:39.557Z"
   },
   {
    "duration": 286,
    "start_time": "2022-03-30T13:12:59.101Z"
   },
   {
    "duration": 89,
    "start_time": "2022-03-30T13:13:09.821Z"
   },
   {
    "duration": 289,
    "start_time": "2022-03-30T13:13:27.459Z"
   },
   {
    "duration": 282,
    "start_time": "2022-03-30T13:13:54.524Z"
   },
   {
    "duration": 304,
    "start_time": "2022-03-30T13:14:01.812Z"
   },
   {
    "duration": 25042,
    "start_time": "2022-03-30T13:14:45.288Z"
   },
   {
    "duration": 433,
    "start_time": "2022-03-30T13:16:00.246Z"
   },
   {
    "duration": 2003,
    "start_time": "2022-03-30T13:16:18.095Z"
   },
   {
    "duration": 50,
    "start_time": "2022-03-30T13:16:20.101Z"
   },
   {
    "duration": 21,
    "start_time": "2022-03-30T13:16:20.153Z"
   },
   {
    "duration": 24,
    "start_time": "2022-03-30T13:16:20.177Z"
   },
   {
    "duration": 25,
    "start_time": "2022-03-30T13:16:20.205Z"
   },
   {
    "duration": 69,
    "start_time": "2022-03-30T13:16:20.232Z"
   },
   {
    "duration": 31,
    "start_time": "2022-03-30T13:16:20.303Z"
   },
   {
    "duration": 54,
    "start_time": "2022-03-30T13:16:20.336Z"
   },
   {
    "duration": 13,
    "start_time": "2022-03-30T13:16:20.393Z"
   },
   {
    "duration": 14,
    "start_time": "2022-03-30T13:16:20.408Z"
   },
   {
    "duration": 17,
    "start_time": "2022-03-30T13:16:20.425Z"
   },
   {
    "duration": 308,
    "start_time": "2022-03-30T13:16:20.480Z"
   },
   {
    "duration": 25553,
    "start_time": "2022-03-30T13:16:20.791Z"
   },
   {
    "duration": 2346,
    "start_time": "2022-03-30T13:16:46.350Z"
   },
   {
    "duration": 79,
    "start_time": "2022-03-30T13:16:48.703Z"
   },
   {
    "duration": 18,
    "start_time": "2022-03-30T13:16:48.785Z"
   },
   {
    "duration": 201,
    "start_time": "2022-03-30T13:16:48.805Z"
   },
   {
    "duration": 0,
    "start_time": "2022-03-30T13:16:49.008Z"
   },
   {
    "duration": 0,
    "start_time": "2022-03-30T13:16:49.010Z"
   },
   {
    "duration": 0,
    "start_time": "2022-03-30T13:16:49.011Z"
   },
   {
    "duration": 0,
    "start_time": "2022-03-30T13:16:49.013Z"
   },
   {
    "duration": 0,
    "start_time": "2022-03-30T13:16:49.014Z"
   },
   {
    "duration": 0,
    "start_time": "2022-03-30T13:16:49.015Z"
   },
   {
    "duration": 0,
    "start_time": "2022-03-30T13:16:49.017Z"
   },
   {
    "duration": 0,
    "start_time": "2022-03-30T13:16:49.018Z"
   },
   {
    "duration": 0,
    "start_time": "2022-03-30T13:16:49.019Z"
   },
   {
    "duration": 0,
    "start_time": "2022-03-30T13:16:49.021Z"
   },
   {
    "duration": 1,
    "start_time": "2022-03-30T13:16:49.022Z"
   },
   {
    "duration": 0,
    "start_time": "2022-03-30T13:16:49.024Z"
   },
   {
    "duration": 2253,
    "start_time": "2022-03-30T13:18:20.656Z"
   },
   {
    "duration": 59,
    "start_time": "2022-03-30T13:18:22.911Z"
   },
   {
    "duration": 14,
    "start_time": "2022-03-30T13:18:22.972Z"
   },
   {
    "duration": 27,
    "start_time": "2022-03-30T13:18:22.990Z"
   },
   {
    "duration": 16,
    "start_time": "2022-03-30T13:18:23.020Z"
   },
   {
    "duration": 58,
    "start_time": "2022-03-30T13:18:23.039Z"
   },
   {
    "duration": 38,
    "start_time": "2022-03-30T13:18:23.099Z"
   },
   {
    "duration": 56,
    "start_time": "2022-03-30T13:18:23.139Z"
   },
   {
    "duration": 11,
    "start_time": "2022-03-30T13:18:23.198Z"
   },
   {
    "duration": 9,
    "start_time": "2022-03-30T13:18:23.213Z"
   },
   {
    "duration": 13,
    "start_time": "2022-03-30T13:18:23.225Z"
   },
   {
    "duration": 304,
    "start_time": "2022-03-30T13:18:23.279Z"
   },
   {
    "duration": 24632,
    "start_time": "2022-03-30T13:18:23.590Z"
   },
   {
    "duration": 1568,
    "start_time": "2022-03-30T13:18:48.224Z"
   },
   {
    "duration": 190,
    "start_time": "2022-03-30T13:18:49.797Z"
   },
   {
    "duration": 9,
    "start_time": "2022-03-30T13:18:49.990Z"
   },
   {
    "duration": 3,
    "start_time": "2022-03-30T13:18:50.001Z"
   },
   {
    "duration": 20,
    "start_time": "2022-03-30T13:18:50.006Z"
   },
   {
    "duration": 79,
    "start_time": "2022-03-30T13:18:50.028Z"
   },
   {
    "duration": 228,
    "start_time": "2022-03-30T13:18:50.109Z"
   },
   {
    "duration": 223,
    "start_time": "2022-03-30T13:18:50.339Z"
   },
   {
    "duration": 27,
    "start_time": "2022-03-30T13:18:50.564Z"
   },
   {
    "duration": 430,
    "start_time": "2022-03-30T13:18:50.594Z"
   },
   {
    "duration": 10,
    "start_time": "2022-03-30T13:18:51.026Z"
   },
   {
    "duration": 5,
    "start_time": "2022-03-30T13:18:51.038Z"
   },
   {
    "duration": 99,
    "start_time": "2022-03-30T13:18:51.045Z"
   },
   {
    "duration": 385,
    "start_time": "2022-03-30T13:18:51.146Z"
   },
   {
    "duration": 361,
    "start_time": "2022-03-30T13:18:51.535Z"
   },
   {
    "duration": 244,
    "start_time": "2022-03-30T13:18:51.898Z"
   },
   {
    "duration": 204,
    "start_time": "2022-03-30T13:26:00.370Z"
   },
   {
    "duration": 1830,
    "start_time": "2022-03-30T13:26:28.414Z"
   },
   {
    "duration": 52,
    "start_time": "2022-03-30T13:26:30.246Z"
   },
   {
    "duration": 6,
    "start_time": "2022-03-30T13:26:30.300Z"
   },
   {
    "duration": 41,
    "start_time": "2022-03-30T13:26:30.308Z"
   },
   {
    "duration": 18,
    "start_time": "2022-03-30T13:26:30.351Z"
   },
   {
    "duration": 35,
    "start_time": "2022-03-30T13:26:30.371Z"
   },
   {
    "duration": 31,
    "start_time": "2022-03-30T13:26:30.408Z"
   },
   {
    "duration": 23,
    "start_time": "2022-03-30T13:26:30.474Z"
   },
   {
    "duration": 11,
    "start_time": "2022-03-30T13:26:30.499Z"
   },
   {
    "duration": 10,
    "start_time": "2022-03-30T13:26:30.514Z"
   },
   {
    "duration": 48,
    "start_time": "2022-03-30T13:26:30.526Z"
   },
   {
    "duration": 288,
    "start_time": "2022-03-30T13:26:30.577Z"
   },
   {
    "duration": 23519,
    "start_time": "2022-03-30T13:26:30.868Z"
   },
   {
    "duration": 785,
    "start_time": "2022-03-30T13:26:54.389Z"
   },
   {
    "duration": 8,
    "start_time": "2022-03-30T13:26:55.176Z"
   },
   {
    "duration": 13,
    "start_time": "2022-03-30T13:26:55.187Z"
   },
   {
    "duration": 8,
    "start_time": "2022-03-30T13:26:55.202Z"
   },
   {
    "duration": 27,
    "start_time": "2022-03-30T13:26:55.212Z"
   },
   {
    "duration": 73,
    "start_time": "2022-03-30T13:26:55.242Z"
   },
   {
    "duration": 210,
    "start_time": "2022-03-30T13:26:55.317Z"
   },
   {
    "duration": 205,
    "start_time": "2022-03-30T13:26:55.529Z"
   },
   {
    "duration": 17,
    "start_time": "2022-03-30T13:26:55.737Z"
   },
   {
    "duration": 396,
    "start_time": "2022-03-30T13:26:55.773Z"
   },
   {
    "duration": 11,
    "start_time": "2022-03-30T13:26:56.173Z"
   },
   {
    "duration": 13,
    "start_time": "2022-03-30T13:26:56.187Z"
   },
   {
    "duration": 83,
    "start_time": "2022-03-30T13:26:56.202Z"
   },
   {
    "duration": 367,
    "start_time": "2022-03-30T13:26:56.287Z"
   },
   {
    "duration": 389,
    "start_time": "2022-03-30T13:26:56.658Z"
   },
   {
    "duration": 221,
    "start_time": "2022-03-30T13:26:57.049Z"
   },
   {
    "duration": 393,
    "start_time": "2022-03-30T13:30:02.422Z"
   },
   {
    "duration": 21,
    "start_time": "2022-03-30T13:30:36.958Z"
   },
   {
    "duration": 599,
    "start_time": "2022-03-30T13:30:38.908Z"
   },
   {
    "duration": 29,
    "start_time": "2022-03-30T13:30:48.971Z"
   },
   {
    "duration": 1272,
    "start_time": "2022-03-30T13:30:52.061Z"
   },
   {
    "duration": 49,
    "start_time": "2022-03-30T13:52:48.137Z"
   },
   {
    "duration": 1479,
    "start_time": "2022-03-30T13:52:54.513Z"
   },
   {
    "duration": 41,
    "start_time": "2022-03-30T13:52:55.994Z"
   },
   {
    "duration": 4,
    "start_time": "2022-03-30T13:52:56.037Z"
   },
   {
    "duration": 16,
    "start_time": "2022-03-30T13:52:56.043Z"
   },
   {
    "duration": 12,
    "start_time": "2022-03-30T13:52:56.060Z"
   },
   {
    "duration": 44,
    "start_time": "2022-03-30T13:52:56.074Z"
   },
   {
    "duration": 19,
    "start_time": "2022-03-30T13:52:56.120Z"
   },
   {
    "duration": 13,
    "start_time": "2022-03-30T13:52:56.141Z"
   },
   {
    "duration": 7,
    "start_time": "2022-03-30T13:52:56.155Z"
   },
   {
    "duration": 6,
    "start_time": "2022-03-30T13:52:56.165Z"
   },
   {
    "duration": 7,
    "start_time": "2022-03-30T13:52:56.208Z"
   },
   {
    "duration": 197,
    "start_time": "2022-03-30T13:52:56.217Z"
   },
   {
    "duration": 16485,
    "start_time": "2022-03-30T13:52:56.415Z"
   },
   {
    "duration": 612,
    "start_time": "2022-03-30T13:53:12.902Z"
   },
   {
    "duration": 96,
    "start_time": "2022-03-30T13:53:13.517Z"
   },
   {
    "duration": 8,
    "start_time": "2022-03-30T13:53:13.615Z"
   },
   {
    "duration": 3,
    "start_time": "2022-03-30T13:53:13.625Z"
   },
   {
    "duration": 82,
    "start_time": "2022-03-30T13:53:13.629Z"
   },
   {
    "duration": 38,
    "start_time": "2022-03-30T13:53:13.712Z"
   },
   {
    "duration": 163,
    "start_time": "2022-03-30T13:53:13.752Z"
   },
   {
    "duration": 152,
    "start_time": "2022-03-30T13:53:13.916Z"
   },
   {
    "duration": 14,
    "start_time": "2022-03-30T13:53:14.069Z"
   },
   {
    "duration": 257,
    "start_time": "2022-03-30T13:53:14.085Z"
   },
   {
    "duration": 8,
    "start_time": "2022-03-30T13:53:14.343Z"
   },
   {
    "duration": 3,
    "start_time": "2022-03-30T13:53:14.352Z"
   },
   {
    "duration": 64,
    "start_time": "2022-03-30T13:53:14.357Z"
   },
   {
    "duration": 275,
    "start_time": "2022-03-30T13:53:14.423Z"
   },
   {
    "duration": 189,
    "start_time": "2022-03-30T13:53:14.708Z"
   },
   {
    "duration": 166,
    "start_time": "2022-03-30T13:53:14.898Z"
   },
   {
    "duration": 3,
    "start_time": "2022-03-30T13:55:26.048Z"
   },
   {
    "duration": 5,
    "start_time": "2022-03-30T13:55:53.962Z"
   },
   {
    "duration": 4,
    "start_time": "2022-03-30T13:56:02.184Z"
   },
   {
    "duration": 3,
    "start_time": "2022-03-30T13:56:09.104Z"
   },
   {
    "duration": 3,
    "start_time": "2022-03-30T13:56:30.505Z"
   },
   {
    "duration": 10,
    "start_time": "2022-03-30T13:56:54.281Z"
   },
   {
    "duration": 183,
    "start_time": "2022-03-30T13:57:03.082Z"
   },
   {
    "duration": 13,
    "start_time": "2022-03-30T13:57:14.449Z"
   },
   {
    "duration": 240,
    "start_time": "2022-03-30T13:57:16.330Z"
   },
   {
    "duration": 36,
    "start_time": "2022-03-30T13:59:02.137Z"
   },
   {
    "duration": 1155,
    "start_time": "2022-03-30T13:59:05.649Z"
   },
   {
    "duration": 11,
    "start_time": "2022-03-30T13:59:40.925Z"
   },
   {
    "duration": 229,
    "start_time": "2022-03-30T13:59:43.497Z"
   },
   {
    "duration": 84,
    "start_time": "2022-03-30T14:01:44.723Z"
   },
   {
    "duration": 7,
    "start_time": "2022-03-30T14:01:57.188Z"
   },
   {
    "duration": 80,
    "start_time": "2022-03-30T14:02:02.354Z"
   },
   {
    "duration": 7,
    "start_time": "2022-03-30T14:02:34.067Z"
   },
   {
    "duration": 8,
    "start_time": "2022-03-30T14:03:07.675Z"
   },
   {
    "duration": 125,
    "start_time": "2022-03-30T14:03:13.363Z"
   },
   {
    "duration": 8,
    "start_time": "2022-03-30T14:04:14.430Z"
   },
   {
    "duration": 105,
    "start_time": "2022-03-30T14:04:18.021Z"
   },
   {
    "duration": 950,
    "start_time": "2022-03-30T14:07:24.021Z"
   },
   {
    "duration": 943,
    "start_time": "2022-03-30T14:08:08.158Z"
   },
   {
    "duration": 8,
    "start_time": "2022-03-30T14:08:31.304Z"
   },
   {
    "duration": 136,
    "start_time": "2022-03-30T14:08:36.527Z"
   },
   {
    "duration": 136,
    "start_time": "2022-03-30T14:08:45.552Z"
   },
   {
    "duration": 1385,
    "start_time": "2022-03-30T14:09:12.720Z"
   },
   {
    "duration": 38,
    "start_time": "2022-03-30T14:09:14.106Z"
   },
   {
    "duration": 4,
    "start_time": "2022-03-30T14:09:14.146Z"
   },
   {
    "duration": 16,
    "start_time": "2022-03-30T14:09:14.152Z"
   },
   {
    "duration": 13,
    "start_time": "2022-03-30T14:09:14.170Z"
   },
   {
    "duration": 43,
    "start_time": "2022-03-30T14:09:14.184Z"
   },
   {
    "duration": 22,
    "start_time": "2022-03-30T14:09:14.228Z"
   },
   {
    "duration": 15,
    "start_time": "2022-03-30T14:09:14.251Z"
   },
   {
    "duration": 44,
    "start_time": "2022-03-30T14:09:14.268Z"
   },
   {
    "duration": 10,
    "start_time": "2022-03-30T14:09:14.313Z"
   },
   {
    "duration": 8,
    "start_time": "2022-03-30T14:09:14.325Z"
   },
   {
    "duration": 218,
    "start_time": "2022-03-30T14:09:14.334Z"
   },
   {
    "duration": 16232,
    "start_time": "2022-03-30T14:09:14.555Z"
   },
   {
    "duration": 519,
    "start_time": "2022-03-30T14:09:30.791Z"
   },
   {
    "duration": 98,
    "start_time": "2022-03-30T14:09:31.314Z"
   },
   {
    "duration": 7,
    "start_time": "2022-03-30T14:09:31.414Z"
   },
   {
    "duration": 6,
    "start_time": "2022-03-30T14:09:31.422Z"
   },
   {
    "duration": 17,
    "start_time": "2022-03-30T14:09:31.429Z"
   },
   {
    "duration": 40,
    "start_time": "2022-03-30T14:09:31.448Z"
   },
   {
    "duration": 154,
    "start_time": "2022-03-30T14:09:31.489Z"
   },
   {
    "duration": 148,
    "start_time": "2022-03-30T14:09:31.645Z"
   },
   {
    "duration": 109,
    "start_time": "2022-03-30T14:09:31.794Z"
   },
   {
    "duration": 0,
    "start_time": "2022-03-30T14:09:31.904Z"
   },
   {
    "duration": 0,
    "start_time": "2022-03-30T14:09:31.908Z"
   },
   {
    "duration": 0,
    "start_time": "2022-03-30T14:09:31.908Z"
   },
   {
    "duration": 0,
    "start_time": "2022-03-30T14:09:31.910Z"
   },
   {
    "duration": 0,
    "start_time": "2022-03-30T14:09:31.911Z"
   },
   {
    "duration": 0,
    "start_time": "2022-03-30T14:09:31.912Z"
   },
   {
    "duration": 0,
    "start_time": "2022-03-30T14:09:31.912Z"
   },
   {
    "duration": 0,
    "start_time": "2022-03-30T14:09:31.913Z"
   },
   {
    "duration": 0,
    "start_time": "2022-03-30T14:09:31.914Z"
   },
   {
    "duration": 1314,
    "start_time": "2022-03-30T14:10:39.772Z"
   },
   {
    "duration": 40,
    "start_time": "2022-03-30T14:10:41.088Z"
   },
   {
    "duration": 3,
    "start_time": "2022-03-30T14:10:41.130Z"
   },
   {
    "duration": 17,
    "start_time": "2022-03-30T14:10:41.135Z"
   },
   {
    "duration": 10,
    "start_time": "2022-03-30T14:10:41.154Z"
   },
   {
    "duration": 46,
    "start_time": "2022-03-30T14:10:41.166Z"
   },
   {
    "duration": 21,
    "start_time": "2022-03-30T14:10:41.213Z"
   },
   {
    "duration": 13,
    "start_time": "2022-03-30T14:10:41.235Z"
   },
   {
    "duration": 7,
    "start_time": "2022-03-30T14:10:41.250Z"
   },
   {
    "duration": 6,
    "start_time": "2022-03-30T14:10:41.260Z"
   },
   {
    "duration": 43,
    "start_time": "2022-03-30T14:10:41.267Z"
   },
   {
    "duration": 188,
    "start_time": "2022-03-30T14:10:41.312Z"
   },
   {
    "duration": 15818,
    "start_time": "2022-03-30T14:10:41.502Z"
   },
   {
    "duration": 489,
    "start_time": "2022-03-30T14:10:57.321Z"
   },
   {
    "duration": 97,
    "start_time": "2022-03-30T14:10:57.813Z"
   },
   {
    "duration": 9,
    "start_time": "2022-03-30T14:10:57.912Z"
   },
   {
    "duration": 2,
    "start_time": "2022-03-30T14:10:57.922Z"
   },
   {
    "duration": 9,
    "start_time": "2022-03-30T14:10:57.926Z"
   },
   {
    "duration": 39,
    "start_time": "2022-03-30T14:10:57.936Z"
   },
   {
    "duration": 160,
    "start_time": "2022-03-30T14:10:57.977Z"
   },
   {
    "duration": 138,
    "start_time": "2022-03-30T14:10:58.138Z"
   },
   {
    "duration": 12,
    "start_time": "2022-03-30T14:10:58.277Z"
   },
   {
    "duration": 248,
    "start_time": "2022-03-30T14:10:58.291Z"
   },
   {
    "duration": 7,
    "start_time": "2022-03-30T14:10:58.540Z"
   },
   {
    "duration": 3,
    "start_time": "2022-03-30T14:10:58.548Z"
   },
   {
    "duration": 151,
    "start_time": "2022-03-30T14:10:58.552Z"
   },
   {
    "duration": 267,
    "start_time": "2022-03-30T14:10:58.705Z"
   },
   {
    "duration": 190,
    "start_time": "2022-03-30T14:10:58.976Z"
   },
   {
    "duration": 158,
    "start_time": "2022-03-30T14:10:59.168Z"
   },
   {
    "duration": 994,
    "start_time": "2022-03-30T14:12:10.604Z"
   },
   {
    "duration": 131,
    "start_time": "2022-03-30T14:14:17.370Z"
   },
   {
    "duration": 956,
    "start_time": "2022-03-30T14:15:18.379Z"
   },
   {
    "duration": 69,
    "start_time": "2022-03-30T14:15:29.767Z"
   },
   {
    "duration": 76,
    "start_time": "2022-03-30T14:15:35.797Z"
   },
   {
    "duration": 82,
    "start_time": "2022-03-30T14:15:42.336Z"
   },
   {
    "duration": 91,
    "start_time": "2022-03-30T14:15:49.114Z"
   },
   {
    "duration": 92,
    "start_time": "2022-03-30T14:15:55.374Z"
   },
   {
    "duration": 104,
    "start_time": "2022-03-30T14:16:01.882Z"
   },
   {
    "duration": 108,
    "start_time": "2022-03-30T14:16:07.625Z"
   },
   {
    "duration": 117,
    "start_time": "2022-03-30T14:16:18.473Z"
   },
   {
    "duration": 118,
    "start_time": "2022-03-30T14:16:24.167Z"
   },
   {
    "duration": 130,
    "start_time": "2022-03-30T14:16:30.577Z"
   },
   {
    "duration": 114,
    "start_time": "2022-03-30T14:16:36.618Z"
   },
   {
    "duration": 106,
    "start_time": "2022-03-30T14:16:42.010Z"
   },
   {
    "duration": 948,
    "start_time": "2022-03-30T14:20:48.803Z"
   },
   {
    "duration": 1012,
    "start_time": "2022-03-30T14:23:33.285Z"
   },
   {
    "duration": 287,
    "start_time": "2022-03-30T14:23:44.534Z"
   },
   {
    "duration": 86,
    "start_time": "2022-03-30T14:24:01.334Z"
   },
   {
    "duration": 803,
    "start_time": "2022-03-30T14:24:11.967Z"
   },
   {
    "duration": 127,
    "start_time": "2022-03-30T14:24:23.863Z"
   },
   {
    "duration": 112,
    "start_time": "2022-03-30T14:24:30.111Z"
   },
   {
    "duration": 1583,
    "start_time": "2022-03-30T14:24:40.792Z"
   },
   {
    "duration": 931,
    "start_time": "2022-03-30T14:24:54.876Z"
   },
   {
    "duration": 1062,
    "start_time": "2022-03-30T14:25:05.894Z"
   },
   {
    "duration": 1198,
    "start_time": "2022-03-30T14:25:15.420Z"
   },
   {
    "duration": 1321,
    "start_time": "2022-03-30T14:25:34.550Z"
   },
   {
    "duration": 36,
    "start_time": "2022-03-30T14:25:35.873Z"
   },
   {
    "duration": 5,
    "start_time": "2022-03-30T14:25:35.910Z"
   },
   {
    "duration": 18,
    "start_time": "2022-03-30T14:25:35.916Z"
   },
   {
    "duration": 10,
    "start_time": "2022-03-30T14:25:35.936Z"
   },
   {
    "duration": 23,
    "start_time": "2022-03-30T14:25:35.948Z"
   },
   {
    "duration": 50,
    "start_time": "2022-03-30T14:25:35.972Z"
   },
   {
    "duration": 14,
    "start_time": "2022-03-30T14:25:36.023Z"
   },
   {
    "duration": 7,
    "start_time": "2022-03-30T14:25:36.038Z"
   },
   {
    "duration": 10,
    "start_time": "2022-03-30T14:25:36.046Z"
   },
   {
    "duration": 5,
    "start_time": "2022-03-30T14:25:36.058Z"
   },
   {
    "duration": 211,
    "start_time": "2022-03-30T14:25:36.064Z"
   },
   {
    "duration": 15484,
    "start_time": "2022-03-30T14:25:36.277Z"
   },
   {
    "duration": 646,
    "start_time": "2022-03-30T14:25:51.764Z"
   },
   {
    "duration": 101,
    "start_time": "2022-03-30T14:25:52.412Z"
   },
   {
    "duration": 6,
    "start_time": "2022-03-30T14:25:52.515Z"
   },
   {
    "duration": 4,
    "start_time": "2022-03-30T14:25:52.522Z"
   },
   {
    "duration": 10,
    "start_time": "2022-03-30T14:25:52.528Z"
   },
   {
    "duration": 38,
    "start_time": "2022-03-30T14:25:52.539Z"
   },
   {
    "duration": 160,
    "start_time": "2022-03-30T14:25:52.578Z"
   },
   {
    "duration": 142,
    "start_time": "2022-03-30T14:25:52.740Z"
   },
   {
    "duration": 12,
    "start_time": "2022-03-30T14:25:52.884Z"
   },
   {
    "duration": 239,
    "start_time": "2022-03-30T14:25:52.898Z"
   },
   {
    "duration": 7,
    "start_time": "2022-03-30T14:25:53.139Z"
   },
   {
    "duration": 1167,
    "start_time": "2022-03-30T14:25:53.147Z"
   },
   {
    "duration": 118,
    "start_time": "2022-03-30T14:25:54.316Z"
   },
   {
    "duration": 121,
    "start_time": "2022-03-30T14:25:54.435Z"
   },
   {
    "duration": 259,
    "start_time": "2022-03-30T14:25:54.557Z"
   },
   {
    "duration": 175,
    "start_time": "2022-03-30T14:25:54.817Z"
   },
   {
    "duration": 155,
    "start_time": "2022-03-30T14:25:54.993Z"
   },
   {
    "duration": 1636,
    "start_time": "2022-03-30T14:29:22.367Z"
   },
   {
    "duration": 111,
    "start_time": "2022-03-30T14:34:19.499Z"
   },
   {
    "duration": 1646,
    "start_time": "2022-03-30T14:35:23.906Z"
   },
   {
    "duration": 1577,
    "start_time": "2022-03-30T14:35:56.011Z"
   },
   {
    "duration": 1869,
    "start_time": "2022-03-30T14:39:12.788Z"
   },
   {
    "duration": 1884,
    "start_time": "2022-03-30T14:39:59.038Z"
   },
   {
    "duration": 12,
    "start_time": "2022-03-30T14:49:42.029Z"
   },
   {
    "duration": 1741,
    "start_time": "2022-03-30T14:49:55.591Z"
   },
   {
    "duration": 11,
    "start_time": "2022-03-30T14:50:16.568Z"
   },
   {
    "duration": 212,
    "start_time": "2022-03-30T14:50:22.940Z"
   },
   {
    "duration": 1221,
    "start_time": "2022-03-30T14:51:32.765Z"
   },
   {
    "duration": 41,
    "start_time": "2022-03-30T14:51:33.988Z"
   },
   {
    "duration": 4,
    "start_time": "2022-03-30T14:51:34.030Z"
   },
   {
    "duration": 16,
    "start_time": "2022-03-30T14:51:34.036Z"
   },
   {
    "duration": 11,
    "start_time": "2022-03-30T14:51:34.055Z"
   },
   {
    "duration": 47,
    "start_time": "2022-03-30T14:51:34.067Z"
   },
   {
    "duration": 21,
    "start_time": "2022-03-30T14:51:34.115Z"
   },
   {
    "duration": 15,
    "start_time": "2022-03-30T14:51:34.137Z"
   },
   {
    "duration": 7,
    "start_time": "2022-03-30T14:51:34.153Z"
   },
   {
    "duration": 6,
    "start_time": "2022-03-30T14:51:34.162Z"
   },
   {
    "duration": 40,
    "start_time": "2022-03-30T14:51:34.169Z"
   },
   {
    "duration": 189,
    "start_time": "2022-03-30T14:51:34.211Z"
   },
   {
    "duration": 15735,
    "start_time": "2022-03-30T14:51:34.402Z"
   },
   {
    "duration": 1475,
    "start_time": "2022-03-30T14:51:50.139Z"
   },
   {
    "duration": 96,
    "start_time": "2022-03-30T14:51:51.616Z"
   },
   {
    "duration": 6,
    "start_time": "2022-03-30T14:51:51.714Z"
   },
   {
    "duration": 3,
    "start_time": "2022-03-30T14:51:51.721Z"
   },
   {
    "duration": 9,
    "start_time": "2022-03-30T14:51:51.725Z"
   },
   {
    "duration": 37,
    "start_time": "2022-03-30T14:51:51.736Z"
   },
   {
    "duration": 177,
    "start_time": "2022-03-30T14:51:51.775Z"
   },
   {
    "duration": 152,
    "start_time": "2022-03-30T14:51:51.954Z"
   },
   {
    "duration": 6,
    "start_time": "2022-03-30T14:51:52.109Z"
   },
   {
    "duration": 1762,
    "start_time": "2022-03-30T14:51:52.116Z"
   },
   {
    "duration": 1816,
    "start_time": "2022-03-30T14:51:53.880Z"
   },
   {
    "duration": 257,
    "start_time": "2022-03-30T14:51:55.697Z"
   },
   {
    "duration": 188,
    "start_time": "2022-03-30T14:51:55.955Z"
   },
   {
    "duration": 153,
    "start_time": "2022-03-30T14:51:56.144Z"
   },
   {
    "duration": 574,
    "start_time": "2022-03-30T15:07:40.377Z"
   },
   {
    "duration": 564,
    "start_time": "2022-03-30T15:08:43.515Z"
   },
   {
    "duration": 1091,
    "start_time": "2022-03-30T15:09:12.185Z"
   },
   {
    "duration": 5,
    "start_time": "2022-03-30T15:18:04.601Z"
   },
   {
    "duration": 202,
    "start_time": "2022-03-30T15:18:25.309Z"
   },
   {
    "duration": 101,
    "start_time": "2022-03-30T15:18:41.492Z"
   },
   {
    "duration": 108,
    "start_time": "2022-03-30T15:23:10.114Z"
   },
   {
    "duration": 105,
    "start_time": "2022-03-30T15:23:18.476Z"
   },
   {
    "duration": 107,
    "start_time": "2022-03-30T15:23:28.372Z"
   },
   {
    "duration": 109,
    "start_time": "2022-03-30T15:23:44.847Z"
   },
   {
    "duration": 107,
    "start_time": "2022-03-30T15:25:58.903Z"
   },
   {
    "duration": 178,
    "start_time": "2022-03-30T15:25:59.012Z"
   },
   {
    "duration": 126,
    "start_time": "2022-03-30T15:34:01.859Z"
   },
   {
    "duration": 113,
    "start_time": "2022-03-30T15:34:27.923Z"
   },
   {
    "duration": 72,
    "start_time": "2022-03-30T18:02:50.533Z"
   },
   {
    "duration": 2175,
    "start_time": "2022-03-30T18:02:56.529Z"
   },
   {
    "duration": 51,
    "start_time": "2022-03-30T18:02:58.707Z"
   },
   {
    "duration": 6,
    "start_time": "2022-03-30T18:02:58.760Z"
   },
   {
    "duration": 19,
    "start_time": "2022-03-30T18:02:58.783Z"
   },
   {
    "duration": 17,
    "start_time": "2022-03-30T18:02:58.805Z"
   },
   {
    "duration": 68,
    "start_time": "2022-03-30T18:02:58.824Z"
   },
   {
    "duration": 32,
    "start_time": "2022-03-30T18:02:58.894Z"
   },
   {
    "duration": 21,
    "start_time": "2022-03-30T18:02:58.928Z"
   },
   {
    "duration": 41,
    "start_time": "2022-03-30T18:02:58.951Z"
   },
   {
    "duration": 10,
    "start_time": "2022-03-30T18:02:58.994Z"
   },
   {
    "duration": 9,
    "start_time": "2022-03-30T18:02:59.007Z"
   },
   {
    "duration": 335,
    "start_time": "2022-03-30T18:02:59.018Z"
   },
   {
    "duration": 24069,
    "start_time": "2022-03-30T18:02:59.355Z"
   },
   {
    "duration": 856,
    "start_time": "2022-03-30T18:03:23.429Z"
   },
   {
    "duration": 99,
    "start_time": "2022-03-30T18:03:24.289Z"
   },
   {
    "duration": 8,
    "start_time": "2022-03-30T18:03:24.391Z"
   },
   {
    "duration": 14,
    "start_time": "2022-03-30T18:03:24.401Z"
   },
   {
    "duration": 19,
    "start_time": "2022-03-30T18:03:24.417Z"
   },
   {
    "duration": 81,
    "start_time": "2022-03-30T18:03:24.439Z"
   },
   {
    "duration": 227,
    "start_time": "2022-03-30T18:03:24.522Z"
   },
   {
    "duration": 227,
    "start_time": "2022-03-30T18:03:24.751Z"
   },
   {
    "duration": 10,
    "start_time": "2022-03-30T18:03:24.983Z"
   },
   {
    "duration": 2864,
    "start_time": "2022-03-30T18:03:24.996Z"
   },
   {
    "duration": 2652,
    "start_time": "2022-03-30T18:03:27.862Z"
   },
   {
    "duration": 1585,
    "start_time": "2022-03-30T18:03:30.517Z"
   },
   {
    "duration": 254,
    "start_time": "2022-03-30T18:03:32.104Z"
   },
   {
    "duration": 253,
    "start_time": "2022-03-30T18:03:32.360Z"
   },
   {
    "duration": 275,
    "start_time": "2022-03-30T18:03:32.615Z"
   },
   {
    "duration": 256,
    "start_time": "2022-03-30T18:07:58.400Z"
   },
   {
    "duration": 243,
    "start_time": "2022-03-30T18:08:13.342Z"
   },
   {
    "duration": 303,
    "start_time": "2022-03-30T18:08:30.598Z"
   },
   {
    "duration": 24,
    "start_time": "2022-03-30T18:08:34.320Z"
   },
   {
    "duration": 22,
    "start_time": "2022-03-30T18:10:24.831Z"
   },
   {
    "duration": 417,
    "start_time": "2022-03-30T18:23:40.231Z"
   },
   {
    "duration": 393,
    "start_time": "2022-03-30T18:25:34.191Z"
   },
   {
    "duration": 411,
    "start_time": "2022-03-30T18:26:31.549Z"
   },
   {
    "duration": 8,
    "start_time": "2022-03-30T18:27:26.541Z"
   },
   {
    "duration": 5,
    "start_time": "2022-03-30T18:27:34.483Z"
   },
   {
    "duration": 6,
    "start_time": "2022-03-30T18:27:43.561Z"
   },
   {
    "duration": 232,
    "start_time": "2022-03-30T18:27:43.593Z"
   },
   {
    "duration": 27,
    "start_time": "2022-03-30T18:27:49.973Z"
   },
   {
    "duration": 6,
    "start_time": "2022-03-30T18:28:06.116Z"
   },
   {
    "duration": 13,
    "start_time": "2022-03-30T18:30:28.263Z"
   },
   {
    "duration": 12,
    "start_time": "2022-03-30T18:30:50.550Z"
   },
   {
    "duration": 14,
    "start_time": "2022-03-30T18:30:57.773Z"
   },
   {
    "duration": 5,
    "start_time": "2022-03-30T18:31:17.949Z"
   },
   {
    "duration": 19,
    "start_time": "2022-03-30T18:31:27.499Z"
   },
   {
    "duration": 14,
    "start_time": "2022-03-30T18:31:40.462Z"
   },
   {
    "duration": 13,
    "start_time": "2022-03-30T18:31:51.478Z"
   },
   {
    "duration": 13,
    "start_time": "2022-03-30T18:33:24.954Z"
   },
   {
    "duration": 1696,
    "start_time": "2022-03-30T18:50:24.298Z"
   },
   {
    "duration": 53,
    "start_time": "2022-03-30T18:50:25.997Z"
   },
   {
    "duration": 4,
    "start_time": "2022-03-30T18:50:26.052Z"
   },
   {
    "duration": 29,
    "start_time": "2022-03-30T18:50:26.058Z"
   },
   {
    "duration": 19,
    "start_time": "2022-03-30T18:50:26.089Z"
   },
   {
    "duration": 36,
    "start_time": "2022-03-30T18:50:26.109Z"
   },
   {
    "duration": 21,
    "start_time": "2022-03-30T18:50:26.146Z"
   },
   {
    "duration": 14,
    "start_time": "2022-03-30T18:50:26.169Z"
   },
   {
    "duration": 9,
    "start_time": "2022-03-30T18:50:26.184Z"
   },
   {
    "duration": 47,
    "start_time": "2022-03-30T18:50:26.195Z"
   },
   {
    "duration": 21,
    "start_time": "2022-03-30T18:50:26.243Z"
   },
   {
    "duration": 224,
    "start_time": "2022-03-30T18:50:26.266Z"
   },
   {
    "duration": 17235,
    "start_time": "2022-03-30T18:50:26.492Z"
   },
   {
    "duration": 701,
    "start_time": "2022-03-30T18:50:43.732Z"
   },
   {
    "duration": 97,
    "start_time": "2022-03-30T18:50:44.435Z"
   },
   {
    "duration": 7,
    "start_time": "2022-03-30T18:50:44.533Z"
   },
   {
    "duration": 2,
    "start_time": "2022-03-30T18:50:44.542Z"
   },
   {
    "duration": 11,
    "start_time": "2022-03-30T18:50:44.546Z"
   },
   {
    "duration": 80,
    "start_time": "2022-03-30T18:50:44.559Z"
   },
   {
    "duration": 172,
    "start_time": "2022-03-30T18:50:44.641Z"
   },
   {
    "duration": 169,
    "start_time": "2022-03-30T18:50:44.814Z"
   },
   {
    "duration": 8,
    "start_time": "2022-03-30T18:50:44.986Z"
   },
   {
    "duration": 2081,
    "start_time": "2022-03-30T18:50:44.996Z"
   },
   {
    "duration": 1973,
    "start_time": "2022-03-30T18:50:47.079Z"
   },
   {
    "duration": 1212,
    "start_time": "2022-03-30T18:50:49.054Z"
   },
   {
    "duration": 126,
    "start_time": "2022-03-30T18:50:50.267Z"
   },
   {
    "duration": 138,
    "start_time": "2022-03-30T18:50:50.395Z"
   },
   {
    "duration": 11,
    "start_time": "2022-03-30T18:50:50.535Z"
   },
   {
    "duration": 14,
    "start_time": "2022-03-30T18:50:50.548Z"
   },
   {
    "duration": 11,
    "start_time": "2022-03-30T18:50:50.564Z"
   },
   {
    "duration": 203,
    "start_time": "2022-03-30T18:50:50.577Z"
   },
   {
    "duration": 18,
    "start_time": "2022-03-30T18:50:50.782Z"
   },
   {
    "duration": 12,
    "start_time": "2022-03-30T18:53:14.355Z"
   },
   {
    "duration": 17,
    "start_time": "2022-03-30T18:55:58.091Z"
   },
   {
    "duration": 152,
    "start_time": "2022-03-30T19:26:30.774Z"
   },
   {
    "duration": 128,
    "start_time": "2022-03-30T19:27:47.107Z"
   },
   {
    "duration": 17,
    "start_time": "2022-03-30T19:28:07.328Z"
   },
   {
    "duration": 24,
    "start_time": "2022-03-30T19:32:41.408Z"
   },
   {
    "duration": 156,
    "start_time": "2022-03-30T19:33:17.677Z"
   },
   {
    "duration": 19,
    "start_time": "2022-03-30T19:33:24.835Z"
   },
   {
    "duration": 19,
    "start_time": "2022-03-30T19:37:03.722Z"
   },
   {
    "duration": 231,
    "start_time": "2022-03-30T19:37:25.589Z"
   },
   {
    "duration": 18,
    "start_time": "2022-03-30T19:38:52.870Z"
   },
   {
    "duration": 17,
    "start_time": "2022-03-30T19:40:01.699Z"
   },
   {
    "duration": 9,
    "start_time": "2022-03-30T19:40:12.532Z"
   },
   {
    "duration": 4,
    "start_time": "2022-03-30T19:40:22.133Z"
   },
   {
    "duration": 12,
    "start_time": "2022-03-30T19:40:42.693Z"
   },
   {
    "duration": 196,
    "start_time": "2022-03-30T19:44:50.767Z"
   },
   {
    "duration": 14,
    "start_time": "2022-03-30T19:51:12.881Z"
   },
   {
    "duration": 162,
    "start_time": "2022-03-30T19:51:30.331Z"
   },
   {
    "duration": 13,
    "start_time": "2022-03-30T19:56:01.036Z"
   },
   {
    "duration": 11,
    "start_time": "2022-03-30T19:56:08.915Z"
   },
   {
    "duration": 23,
    "start_time": "2022-03-30T19:56:33.930Z"
   },
   {
    "duration": 6,
    "start_time": "2022-03-30T19:59:05.570Z"
   },
   {
    "duration": 5,
    "start_time": "2022-03-30T19:59:11.764Z"
   },
   {
    "duration": 14,
    "start_time": "2022-03-30T19:59:11.771Z"
   },
   {
    "duration": 12,
    "start_time": "2022-03-30T19:59:20.050Z"
   },
   {
    "duration": 12,
    "start_time": "2022-03-30T20:00:04.228Z"
   },
   {
    "duration": 10,
    "start_time": "2022-03-30T20:00:11.339Z"
   },
   {
    "duration": 18,
    "start_time": "2022-03-30T20:00:33.244Z"
   },
   {
    "duration": 1359,
    "start_time": "2022-03-30T20:01:53.876Z"
   },
   {
    "duration": 1369,
    "start_time": "2022-03-30T20:02:18.179Z"
   },
   {
    "duration": 1393,
    "start_time": "2022-03-30T20:02:36.780Z"
   },
   {
    "duration": 17,
    "start_time": "2022-03-30T20:03:03.750Z"
   },
   {
    "duration": 174,
    "start_time": "2022-03-30T20:03:30.459Z"
   },
   {
    "duration": 176,
    "start_time": "2022-03-30T20:04:03.819Z"
   },
   {
    "duration": 169,
    "start_time": "2022-03-30T20:04:32.812Z"
   },
   {
    "duration": 12,
    "start_time": "2022-03-30T20:05:49.853Z"
   },
   {
    "duration": 12,
    "start_time": "2022-03-30T20:06:02.491Z"
   },
   {
    "duration": 16,
    "start_time": "2022-03-30T20:06:12.495Z"
   },
   {
    "duration": 1351,
    "start_time": "2022-03-30T20:06:23.471Z"
   },
   {
    "duration": 12,
    "start_time": "2022-03-30T20:06:33.272Z"
   },
   {
    "duration": 13,
    "start_time": "2022-03-30T20:06:40.910Z"
   },
   {
    "duration": 12,
    "start_time": "2022-03-30T20:06:58.685Z"
   },
   {
    "duration": 17,
    "start_time": "2022-03-30T20:07:06.724Z"
   },
   {
    "duration": 14,
    "start_time": "2022-03-30T20:07:45.156Z"
   },
   {
    "duration": 14,
    "start_time": "2022-03-30T20:08:07.397Z"
   },
   {
    "duration": 14,
    "start_time": "2022-03-30T20:08:39.229Z"
   },
   {
    "duration": 13,
    "start_time": "2022-03-30T20:08:51.467Z"
   },
   {
    "duration": 173,
    "start_time": "2022-03-30T20:15:00.559Z"
   },
   {
    "duration": 30,
    "start_time": "2022-03-30T20:15:41.035Z"
   },
   {
    "duration": 13,
    "start_time": "2022-03-30T20:15:56.984Z"
   },
   {
    "duration": 16,
    "start_time": "2022-03-30T20:16:43.392Z"
   },
   {
    "duration": 27,
    "start_time": "2022-03-30T20:17:01.032Z"
   },
   {
    "duration": 26,
    "start_time": "2022-03-30T20:20:09.323Z"
   },
   {
    "duration": 1613,
    "start_time": "2022-03-30T20:21:25.941Z"
   },
   {
    "duration": 49,
    "start_time": "2022-03-30T20:21:27.557Z"
   },
   {
    "duration": 5,
    "start_time": "2022-03-30T20:21:27.607Z"
   },
   {
    "duration": 17,
    "start_time": "2022-03-30T20:21:27.613Z"
   },
   {
    "duration": 13,
    "start_time": "2022-03-30T20:21:27.633Z"
   },
   {
    "duration": 29,
    "start_time": "2022-03-30T20:21:27.648Z"
   },
   {
    "duration": 54,
    "start_time": "2022-03-30T20:21:27.679Z"
   },
   {
    "duration": 15,
    "start_time": "2022-03-30T20:21:27.735Z"
   },
   {
    "duration": 8,
    "start_time": "2022-03-30T20:21:27.752Z"
   },
   {
    "duration": 7,
    "start_time": "2022-03-30T20:21:27.762Z"
   },
   {
    "duration": 7,
    "start_time": "2022-03-30T20:21:27.771Z"
   },
   {
    "duration": 235,
    "start_time": "2022-03-30T20:21:27.780Z"
   },
   {
    "duration": 17439,
    "start_time": "2022-03-30T20:21:28.016Z"
   },
   {
    "duration": 475,
    "start_time": "2022-03-30T20:21:45.458Z"
   },
   {
    "duration": 98,
    "start_time": "2022-03-30T20:21:45.935Z"
   },
   {
    "duration": 12,
    "start_time": "2022-03-30T20:21:46.035Z"
   },
   {
    "duration": 6,
    "start_time": "2022-03-30T20:21:46.048Z"
   },
   {
    "duration": 13,
    "start_time": "2022-03-30T20:21:46.055Z"
   },
   {
    "duration": 42,
    "start_time": "2022-03-30T20:21:46.069Z"
   },
   {
    "duration": 179,
    "start_time": "2022-03-30T20:21:46.112Z"
   },
   {
    "duration": 164,
    "start_time": "2022-03-30T20:21:46.293Z"
   },
   {
    "duration": 6,
    "start_time": "2022-03-30T20:21:46.458Z"
   },
   {
    "duration": 1930,
    "start_time": "2022-03-30T20:21:46.466Z"
   },
   {
    "duration": 1996,
    "start_time": "2022-03-30T20:21:48.398Z"
   },
   {
    "duration": 1226,
    "start_time": "2022-03-30T20:21:50.396Z"
   },
   {
    "duration": 125,
    "start_time": "2022-03-30T20:21:51.623Z"
   },
   {
    "duration": 133,
    "start_time": "2022-03-30T20:21:51.749Z"
   },
   {
    "duration": 15,
    "start_time": "2022-03-30T20:21:51.883Z"
   },
   {
    "duration": 6,
    "start_time": "2022-03-30T20:21:51.899Z"
   },
   {
    "duration": 32,
    "start_time": "2022-03-30T20:21:51.907Z"
   },
   {
    "duration": 171,
    "start_time": "2022-03-30T20:21:51.941Z"
   },
   {
    "duration": 0,
    "start_time": "2022-03-30T20:21:52.113Z"
   },
   {
    "duration": 0,
    "start_time": "2022-03-30T20:21:52.115Z"
   },
   {
    "duration": 131,
    "start_time": "2022-03-30T20:22:44.714Z"
   },
   {
    "duration": 19,
    "start_time": "2022-03-30T20:23:00.344Z"
   },
   {
    "duration": 170,
    "start_time": "2022-03-30T20:24:45.236Z"
   },
   {
    "duration": 4,
    "start_time": "2022-03-30T20:25:48.063Z"
   },
   {
    "duration": 21,
    "start_time": "2022-03-30T20:31:39.732Z"
   },
   {
    "duration": 22,
    "start_time": "2022-03-30T20:32:22.839Z"
   },
   {
    "duration": 21,
    "start_time": "2022-03-30T20:32:34.212Z"
   },
   {
    "duration": 21,
    "start_time": "2022-03-30T20:32:45.062Z"
   },
   {
    "duration": 29,
    "start_time": "2022-03-30T20:33:18.053Z"
   },
   {
    "duration": 19,
    "start_time": "2022-03-30T20:35:28.886Z"
   },
   {
    "duration": 16,
    "start_time": "2022-03-30T20:47:23.933Z"
   },
   {
    "duration": 29,
    "start_time": "2022-03-30T20:53:20.966Z"
   },
   {
    "duration": 29,
    "start_time": "2022-03-30T20:54:13.040Z"
   },
   {
    "duration": 27,
    "start_time": "2022-03-30T20:54:43.787Z"
   },
   {
    "duration": 31,
    "start_time": "2022-03-30T20:55:01.578Z"
   },
   {
    "duration": 35,
    "start_time": "2022-03-30T20:55:20.010Z"
   },
   {
    "duration": 20,
    "start_time": "2022-03-30T20:57:38.759Z"
   },
   {
    "duration": 18,
    "start_time": "2022-03-30T20:57:49.659Z"
   },
   {
    "duration": 18,
    "start_time": "2022-03-30T20:58:09.852Z"
   },
   {
    "duration": 21,
    "start_time": "2022-03-30T20:58:17.630Z"
   },
   {
    "duration": 29,
    "start_time": "2022-03-30T21:01:40.413Z"
   },
   {
    "duration": 39,
    "start_time": "2022-03-30T21:01:52.590Z"
   },
   {
    "duration": 29,
    "start_time": "2022-03-30T21:02:06.818Z"
   },
   {
    "duration": 20,
    "start_time": "2022-03-30T21:02:18.420Z"
   },
   {
    "duration": 29,
    "start_time": "2022-03-30T21:02:45.997Z"
   },
   {
    "duration": 30,
    "start_time": "2022-03-30T21:03:01.441Z"
   },
   {
    "duration": 28,
    "start_time": "2022-03-30T21:03:10.432Z"
   },
   {
    "duration": 1654,
    "start_time": "2022-03-31T06:51:05.190Z"
   },
   {
    "duration": 50,
    "start_time": "2022-03-31T06:51:06.846Z"
   },
   {
    "duration": 4,
    "start_time": "2022-03-31T06:51:06.897Z"
   },
   {
    "duration": 14,
    "start_time": "2022-03-31T06:51:06.902Z"
   },
   {
    "duration": 11,
    "start_time": "2022-03-31T06:51:06.917Z"
   },
   {
    "duration": 21,
    "start_time": "2022-03-31T06:51:06.929Z"
   },
   {
    "duration": 38,
    "start_time": "2022-03-31T06:51:06.952Z"
   },
   {
    "duration": 12,
    "start_time": "2022-03-31T06:51:06.991Z"
   },
   {
    "duration": 7,
    "start_time": "2022-03-31T06:51:07.005Z"
   },
   {
    "duration": 7,
    "start_time": "2022-03-31T06:51:07.014Z"
   },
   {
    "duration": 6,
    "start_time": "2022-03-31T06:51:07.022Z"
   },
   {
    "duration": 206,
    "start_time": "2022-03-31T06:51:07.029Z"
   },
   {
    "duration": 14589,
    "start_time": "2022-03-31T06:51:07.236Z"
   },
   {
    "duration": 464,
    "start_time": "2022-03-31T06:51:21.827Z"
   },
   {
    "duration": 92,
    "start_time": "2022-03-31T06:51:22.293Z"
   },
   {
    "duration": 103,
    "start_time": "2022-03-31T06:51:22.387Z"
   },
   {
    "duration": 4,
    "start_time": "2022-03-31T06:51:22.492Z"
   },
   {
    "duration": 9,
    "start_time": "2022-03-31T06:51:22.497Z"
   },
   {
    "duration": 35,
    "start_time": "2022-03-31T06:51:22.507Z"
   },
   {
    "duration": 146,
    "start_time": "2022-03-31T06:51:22.544Z"
   },
   {
    "duration": 138,
    "start_time": "2022-03-31T06:51:22.691Z"
   },
   {
    "duration": 6,
    "start_time": "2022-03-31T06:51:22.831Z"
   },
   {
    "duration": 1590,
    "start_time": "2022-03-31T06:51:22.839Z"
   },
   {
    "duration": 1642,
    "start_time": "2022-03-31T06:51:24.431Z"
   },
   {
    "duration": 887,
    "start_time": "2022-03-31T06:51:26.081Z"
   },
   {
    "duration": 103,
    "start_time": "2022-03-31T06:51:26.969Z"
   },
   {
    "duration": 115,
    "start_time": "2022-03-31T06:51:27.073Z"
   },
   {
    "duration": 22,
    "start_time": "2022-03-31T06:51:27.191Z"
   },
   {
    "duration": 267,
    "start_time": "2022-03-31T07:20:18.656Z"
   },
   {
    "duration": 207,
    "start_time": "2022-03-31T07:39:42.216Z"
   },
   {
    "duration": 8,
    "start_time": "2022-03-31T07:39:50.256Z"
   },
   {
    "duration": 7,
    "start_time": "2022-03-31T07:40:01.580Z"
   },
   {
    "duration": 7,
    "start_time": "2022-03-31T07:40:47.738Z"
   },
   {
    "duration": 6,
    "start_time": "2022-03-31T07:41:17.930Z"
   },
   {
    "duration": 4,
    "start_time": "2022-03-31T07:42:26.891Z"
   },
   {
    "duration": 46,
    "start_time": "2022-03-31T07:42:26.897Z"
   },
   {
    "duration": 4,
    "start_time": "2022-03-31T07:42:26.944Z"
   },
   {
    "duration": 14,
    "start_time": "2022-03-31T07:42:26.950Z"
   },
   {
    "duration": 10,
    "start_time": "2022-03-31T07:42:26.966Z"
   },
   {
    "duration": 20,
    "start_time": "2022-03-31T07:42:26.977Z"
   },
   {
    "duration": 17,
    "start_time": "2022-03-31T07:42:30.619Z"
   },
   {
    "duration": 1521,
    "start_time": "2022-03-31T07:42:52.792Z"
   },
   {
    "duration": 40,
    "start_time": "2022-03-31T07:42:54.315Z"
   },
   {
    "duration": 5,
    "start_time": "2022-03-31T07:42:54.357Z"
   },
   {
    "duration": 15,
    "start_time": "2022-03-31T07:42:54.364Z"
   },
   {
    "duration": 10,
    "start_time": "2022-03-31T07:42:54.382Z"
   },
   {
    "duration": 22,
    "start_time": "2022-03-31T07:42:54.393Z"
   },
   {
    "duration": 17,
    "start_time": "2022-03-31T07:42:54.416Z"
   },
   {
    "duration": 12,
    "start_time": "2022-03-31T07:42:54.434Z"
   },
   {
    "duration": 36,
    "start_time": "2022-03-31T07:42:54.447Z"
   },
   {
    "duration": 6,
    "start_time": "2022-03-31T07:42:54.485Z"
   },
   {
    "duration": 6,
    "start_time": "2022-03-31T07:42:54.492Z"
   },
   {
    "duration": 182,
    "start_time": "2022-03-31T07:42:54.500Z"
   },
   {
    "duration": 14984,
    "start_time": "2022-03-31T07:42:54.683Z"
   },
   {
    "duration": 619,
    "start_time": "2022-03-31T07:43:09.669Z"
   },
   {
    "duration": 92,
    "start_time": "2022-03-31T07:43:10.290Z"
   },
   {
    "duration": 13,
    "start_time": "2022-03-31T07:43:10.384Z"
   },
   {
    "duration": 9,
    "start_time": "2022-03-31T07:43:10.399Z"
   },
   {
    "duration": 13,
    "start_time": "2022-03-31T07:43:10.410Z"
   },
   {
    "duration": 117,
    "start_time": "2022-03-31T07:43:10.425Z"
   },
   {
    "duration": 0,
    "start_time": "2022-03-31T07:43:10.544Z"
   },
   {
    "duration": 0,
    "start_time": "2022-03-31T07:43:10.545Z"
   },
   {
    "duration": 0,
    "start_time": "2022-03-31T07:43:10.546Z"
   },
   {
    "duration": 0,
    "start_time": "2022-03-31T07:43:10.547Z"
   },
   {
    "duration": 0,
    "start_time": "2022-03-31T07:43:10.548Z"
   },
   {
    "duration": 0,
    "start_time": "2022-03-31T07:43:10.549Z"
   },
   {
    "duration": 0,
    "start_time": "2022-03-31T07:43:10.550Z"
   },
   {
    "duration": 0,
    "start_time": "2022-03-31T07:43:10.552Z"
   },
   {
    "duration": 0,
    "start_time": "2022-03-31T07:43:10.553Z"
   },
   {
    "duration": 1462,
    "start_time": "2022-03-31T07:45:56.474Z"
   },
   {
    "duration": 40,
    "start_time": "2022-03-31T07:45:57.938Z"
   },
   {
    "duration": 4,
    "start_time": "2022-03-31T07:45:57.979Z"
   },
   {
    "duration": 17,
    "start_time": "2022-03-31T07:45:57.984Z"
   },
   {
    "duration": 10,
    "start_time": "2022-03-31T07:45:58.003Z"
   },
   {
    "duration": 24,
    "start_time": "2022-03-31T07:45:58.014Z"
   },
   {
    "duration": 17,
    "start_time": "2022-03-31T07:45:58.040Z"
   },
   {
    "duration": 12,
    "start_time": "2022-03-31T07:45:58.080Z"
   },
   {
    "duration": 6,
    "start_time": "2022-03-31T07:45:58.093Z"
   },
   {
    "duration": 5,
    "start_time": "2022-03-31T07:45:58.100Z"
   },
   {
    "duration": 5,
    "start_time": "2022-03-31T07:45:58.107Z"
   },
   {
    "duration": 193,
    "start_time": "2022-03-31T07:45:58.114Z"
   },
   {
    "duration": 14974,
    "start_time": "2022-03-31T07:45:58.309Z"
   },
   {
    "duration": 1001,
    "start_time": "2022-03-31T07:46:13.285Z"
   },
   {
    "duration": 95,
    "start_time": "2022-03-31T07:46:14.289Z"
   },
   {
    "duration": 5,
    "start_time": "2022-03-31T07:46:14.386Z"
   },
   {
    "duration": 8,
    "start_time": "2022-03-31T07:46:14.393Z"
   },
   {
    "duration": 20,
    "start_time": "2022-03-31T07:46:14.402Z"
   },
   {
    "duration": 104,
    "start_time": "2022-03-31T07:46:14.424Z"
   },
   {
    "duration": 0,
    "start_time": "2022-03-31T07:46:14.530Z"
   },
   {
    "duration": 0,
    "start_time": "2022-03-31T07:46:14.531Z"
   },
   {
    "duration": 0,
    "start_time": "2022-03-31T07:46:14.532Z"
   },
   {
    "duration": 0,
    "start_time": "2022-03-31T07:46:14.534Z"
   },
   {
    "duration": 0,
    "start_time": "2022-03-31T07:46:14.535Z"
   },
   {
    "duration": 0,
    "start_time": "2022-03-31T07:46:14.536Z"
   },
   {
    "duration": 0,
    "start_time": "2022-03-31T07:46:14.537Z"
   },
   {
    "duration": 0,
    "start_time": "2022-03-31T07:46:14.539Z"
   },
   {
    "duration": 0,
    "start_time": "2022-03-31T07:46:14.540Z"
   },
   {
    "duration": 1567,
    "start_time": "2022-03-31T07:47:52.681Z"
   },
   {
    "duration": 50,
    "start_time": "2022-03-31T07:47:54.249Z"
   },
   {
    "duration": 6,
    "start_time": "2022-03-31T07:47:54.301Z"
   },
   {
    "duration": 19,
    "start_time": "2022-03-31T07:47:54.309Z"
   },
   {
    "duration": 15,
    "start_time": "2022-03-31T07:47:54.331Z"
   },
   {
    "duration": 55,
    "start_time": "2022-03-31T07:47:54.348Z"
   },
   {
    "duration": 18,
    "start_time": "2022-03-31T07:47:54.404Z"
   },
   {
    "duration": 12,
    "start_time": "2022-03-31T07:47:54.423Z"
   },
   {
    "duration": 6,
    "start_time": "2022-03-31T07:47:54.437Z"
   },
   {
    "duration": 41,
    "start_time": "2022-03-31T07:47:54.444Z"
   },
   {
    "duration": 15,
    "start_time": "2022-03-31T07:47:54.487Z"
   },
   {
    "duration": 215,
    "start_time": "2022-03-31T07:47:54.504Z"
   },
   {
    "duration": 15695,
    "start_time": "2022-03-31T07:47:54.721Z"
   },
   {
    "duration": 869,
    "start_time": "2022-03-31T07:48:10.419Z"
   },
   {
    "duration": 103,
    "start_time": "2022-03-31T07:48:11.290Z"
   },
   {
    "duration": 7,
    "start_time": "2022-03-31T07:48:11.395Z"
   },
   {
    "duration": 2,
    "start_time": "2022-03-31T07:48:11.404Z"
   },
   {
    "duration": 12,
    "start_time": "2022-03-31T07:48:11.408Z"
   },
   {
    "duration": 30,
    "start_time": "2022-03-31T07:48:11.421Z"
   },
   {
    "duration": 167,
    "start_time": "2022-03-31T07:48:11.452Z"
   },
   {
    "duration": 130,
    "start_time": "2022-03-31T07:48:11.621Z"
   },
   {
    "duration": 6,
    "start_time": "2022-03-31T07:48:11.753Z"
   },
   {
    "duration": 1708,
    "start_time": "2022-03-31T07:48:11.761Z"
   },
   {
    "duration": 1745,
    "start_time": "2022-03-31T07:48:13.471Z"
   },
   {
    "duration": 935,
    "start_time": "2022-03-31T07:48:15.217Z"
   },
   {
    "duration": 111,
    "start_time": "2022-03-31T07:48:16.153Z"
   },
   {
    "duration": 128,
    "start_time": "2022-03-31T07:48:16.266Z"
   },
   {
    "duration": 21,
    "start_time": "2022-03-31T07:48:16.396Z"
   },
   {
    "duration": 4,
    "start_time": "2022-03-31T07:50:45.380Z"
   },
   {
    "duration": 58,
    "start_time": "2022-03-31T07:50:45.386Z"
   },
   {
    "duration": 4,
    "start_time": "2022-03-31T07:50:45.445Z"
   },
   {
    "duration": 17,
    "start_time": "2022-03-31T07:50:45.450Z"
   },
   {
    "duration": 16,
    "start_time": "2022-03-31T07:50:45.469Z"
   },
   {
    "duration": 21,
    "start_time": "2022-03-31T07:50:45.486Z"
   },
   {
    "duration": 19,
    "start_time": "2022-03-31T07:50:48.040Z"
   },
   {
    "duration": 1403,
    "start_time": "2022-03-31T07:51:52.736Z"
   },
   {
    "duration": 49,
    "start_time": "2022-03-31T07:51:54.141Z"
   },
   {
    "duration": 4,
    "start_time": "2022-03-31T07:51:54.192Z"
   },
   {
    "duration": 13,
    "start_time": "2022-03-31T07:51:54.198Z"
   },
   {
    "duration": 10,
    "start_time": "2022-03-31T07:51:54.213Z"
   },
   {
    "duration": 22,
    "start_time": "2022-03-31T07:51:54.224Z"
   },
   {
    "duration": 43,
    "start_time": "2022-03-31T07:51:54.247Z"
   },
   {
    "duration": 12,
    "start_time": "2022-03-31T07:51:54.291Z"
   },
   {
    "duration": 5,
    "start_time": "2022-03-31T07:51:54.304Z"
   },
   {
    "duration": 5,
    "start_time": "2022-03-31T07:51:54.311Z"
   },
   {
    "duration": 5,
    "start_time": "2022-03-31T07:51:54.317Z"
   },
   {
    "duration": 194,
    "start_time": "2022-03-31T07:51:54.324Z"
   },
   {
    "duration": 14052,
    "start_time": "2022-03-31T07:51:54.519Z"
   },
   {
    "duration": 508,
    "start_time": "2022-03-31T07:52:08.574Z"
   },
   {
    "duration": 98,
    "start_time": "2022-03-31T07:52:09.084Z"
   },
   {
    "duration": 6,
    "start_time": "2022-03-31T07:52:09.184Z"
   },
   {
    "duration": 3,
    "start_time": "2022-03-31T07:52:09.191Z"
   },
   {
    "duration": 10,
    "start_time": "2022-03-31T07:52:09.195Z"
   },
   {
    "duration": 38,
    "start_time": "2022-03-31T07:52:09.206Z"
   },
   {
    "duration": 150,
    "start_time": "2022-03-31T07:52:09.245Z"
   },
   {
    "duration": 130,
    "start_time": "2022-03-31T07:52:09.397Z"
   },
   {
    "duration": 6,
    "start_time": "2022-03-31T07:52:09.529Z"
   },
   {
    "duration": 1550,
    "start_time": "2022-03-31T07:52:09.536Z"
   },
   {
    "duration": 1579,
    "start_time": "2022-03-31T07:52:11.087Z"
   },
   {
    "duration": 864,
    "start_time": "2022-03-31T07:52:12.667Z"
   },
   {
    "duration": 97,
    "start_time": "2022-03-31T07:52:13.533Z"
   },
   {
    "duration": 106,
    "start_time": "2022-03-31T07:52:13.632Z"
   },
   {
    "duration": 21,
    "start_time": "2022-03-31T07:52:13.739Z"
   },
   {
    "duration": 4,
    "start_time": "2022-03-31T07:53:40.341Z"
   },
   {
    "duration": 40,
    "start_time": "2022-03-31T07:53:40.347Z"
   },
   {
    "duration": 4,
    "start_time": "2022-03-31T07:53:40.389Z"
   },
   {
    "duration": 20,
    "start_time": "2022-03-31T07:53:40.394Z"
   },
   {
    "duration": 9,
    "start_time": "2022-03-31T07:53:40.416Z"
   },
   {
    "duration": 20,
    "start_time": "2022-03-31T07:53:40.427Z"
   },
   {
    "duration": 20,
    "start_time": "2022-03-31T07:53:44.208Z"
   },
   {
    "duration": 1460,
    "start_time": "2022-03-31T07:55:12.323Z"
   },
   {
    "duration": 39,
    "start_time": "2022-03-31T07:55:13.785Z"
   },
   {
    "duration": 4,
    "start_time": "2022-03-31T07:55:13.825Z"
   },
   {
    "duration": 15,
    "start_time": "2022-03-31T07:55:13.831Z"
   },
   {
    "duration": 10,
    "start_time": "2022-03-31T07:55:13.848Z"
   },
   {
    "duration": 30,
    "start_time": "2022-03-31T07:55:13.860Z"
   },
   {
    "duration": 18,
    "start_time": "2022-03-31T07:55:13.892Z"
   },
   {
    "duration": 13,
    "start_time": "2022-03-31T07:55:13.911Z"
   },
   {
    "duration": 6,
    "start_time": "2022-03-31T07:55:13.925Z"
   },
   {
    "duration": 5,
    "start_time": "2022-03-31T07:55:13.933Z"
   },
   {
    "duration": 9,
    "start_time": "2022-03-31T07:55:13.939Z"
   },
   {
    "duration": 206,
    "start_time": "2022-03-31T07:55:13.949Z"
   },
   {
    "duration": 14862,
    "start_time": "2022-03-31T07:55:14.157Z"
   },
   {
    "duration": 461,
    "start_time": "2022-03-31T07:55:29.020Z"
   },
   {
    "duration": 97,
    "start_time": "2022-03-31T07:55:29.485Z"
   },
   {
    "duration": 6,
    "start_time": "2022-03-31T07:55:29.584Z"
   },
   {
    "duration": 4,
    "start_time": "2022-03-31T07:55:29.591Z"
   },
   {
    "duration": 10,
    "start_time": "2022-03-31T07:55:29.596Z"
   },
   {
    "duration": 34,
    "start_time": "2022-03-31T07:55:29.608Z"
   },
   {
    "duration": 149,
    "start_time": "2022-03-31T07:55:29.643Z"
   },
   {
    "duration": 131,
    "start_time": "2022-03-31T07:55:29.794Z"
   },
   {
    "duration": 6,
    "start_time": "2022-03-31T07:55:29.926Z"
   },
   {
    "duration": 1627,
    "start_time": "2022-03-31T07:55:29.933Z"
   },
   {
    "duration": 1657,
    "start_time": "2022-03-31T07:55:31.561Z"
   },
   {
    "duration": 873,
    "start_time": "2022-03-31T07:55:33.219Z"
   },
   {
    "duration": 102,
    "start_time": "2022-03-31T07:55:34.093Z"
   },
   {
    "duration": 115,
    "start_time": "2022-03-31T07:55:34.196Z"
   },
   {
    "duration": 23,
    "start_time": "2022-03-31T07:55:34.313Z"
   },
   {
    "duration": 10,
    "start_time": "2022-03-31T08:31:28.209Z"
   },
   {
    "duration": 10,
    "start_time": "2022-03-31T08:32:49.749Z"
   },
   {
    "duration": 10,
    "start_time": "2022-03-31T08:33:00.077Z"
   },
   {
    "duration": 97,
    "start_time": "2022-03-31T08:33:41.297Z"
   },
   {
    "duration": 8,
    "start_time": "2022-03-31T08:34:00.012Z"
   },
   {
    "duration": 5,
    "start_time": "2022-03-31T08:34:58.141Z"
   },
   {
    "duration": 10,
    "start_time": "2022-03-31T08:36:11.755Z"
   },
   {
    "duration": 11,
    "start_time": "2022-03-31T08:36:56.692Z"
   },
   {
    "duration": 10,
    "start_time": "2022-03-31T08:37:18.633Z"
   },
   {
    "duration": 10,
    "start_time": "2022-03-31T08:40:10.127Z"
   },
   {
    "duration": 13,
    "start_time": "2022-03-31T08:40:44.027Z"
   },
   {
    "duration": 9,
    "start_time": "2022-03-31T08:41:27.648Z"
   },
   {
    "duration": 10,
    "start_time": "2022-03-31T08:43:06.000Z"
   },
   {
    "duration": 11,
    "start_time": "2022-03-31T08:43:15.752Z"
   },
   {
    "duration": 12,
    "start_time": "2022-03-31T08:43:56.267Z"
   },
   {
    "duration": 10,
    "start_time": "2022-03-31T08:44:02.675Z"
   },
   {
    "duration": 10,
    "start_time": "2022-03-31T08:47:33.601Z"
   },
   {
    "duration": 2192,
    "start_time": "2022-03-31T10:08:23.487Z"
   },
   {
    "duration": 64,
    "start_time": "2022-03-31T10:08:25.682Z"
   },
   {
    "duration": 6,
    "start_time": "2022-03-31T10:08:25.748Z"
   },
   {
    "duration": 22,
    "start_time": "2022-03-31T10:08:25.756Z"
   },
   {
    "duration": 16,
    "start_time": "2022-03-31T10:08:25.781Z"
   },
   {
    "duration": 59,
    "start_time": "2022-03-31T10:08:25.799Z"
   },
   {
    "duration": 30,
    "start_time": "2022-03-31T10:08:25.860Z"
   },
   {
    "duration": 51,
    "start_time": "2022-03-31T10:08:25.892Z"
   },
   {
    "duration": 9,
    "start_time": "2022-03-31T10:08:25.945Z"
   },
   {
    "duration": 8,
    "start_time": "2022-03-31T10:08:25.956Z"
   },
   {
    "duration": 9,
    "start_time": "2022-03-31T10:08:25.966Z"
   },
   {
    "duration": 293,
    "start_time": "2022-03-31T10:08:25.977Z"
   },
   {
    "duration": 22243,
    "start_time": "2022-03-31T10:08:26.272Z"
   },
   {
    "duration": 626,
    "start_time": "2022-03-31T10:08:48.519Z"
   },
   {
    "duration": 97,
    "start_time": "2022-03-31T10:08:49.148Z"
   },
   {
    "duration": 10,
    "start_time": "2022-03-31T10:08:49.247Z"
   },
   {
    "duration": 3,
    "start_time": "2022-03-31T10:08:49.259Z"
   },
   {
    "duration": 11,
    "start_time": "2022-03-31T10:08:49.264Z"
   },
   {
    "duration": 94,
    "start_time": "2022-03-31T10:08:49.277Z"
   },
   {
    "duration": 206,
    "start_time": "2022-03-31T10:08:49.374Z"
   },
   {
    "duration": 208,
    "start_time": "2022-03-31T10:08:49.583Z"
   },
   {
    "duration": 9,
    "start_time": "2022-03-31T10:08:49.794Z"
   },
   {
    "duration": 2625,
    "start_time": "2022-03-31T10:08:49.806Z"
   },
   {
    "duration": 2848,
    "start_time": "2022-03-31T10:08:52.434Z"
   },
   {
    "duration": 1409,
    "start_time": "2022-03-31T10:08:55.284Z"
   },
   {
    "duration": 186,
    "start_time": "2022-03-31T10:08:56.696Z"
   },
   {
    "duration": 211,
    "start_time": "2022-03-31T10:08:56.886Z"
   },
   {
    "duration": 46,
    "start_time": "2022-03-31T10:08:57.100Z"
   },
   {
    "duration": 16,
    "start_time": "2022-03-31T10:08:57.148Z"
   },
   {
    "duration": 2163,
    "start_time": "2022-03-31T10:11:02.793Z"
   },
   {
    "duration": 73,
    "start_time": "2022-03-31T10:11:04.959Z"
   },
   {
    "duration": 5,
    "start_time": "2022-03-31T10:11:05.035Z"
   },
   {
    "duration": 29,
    "start_time": "2022-03-31T10:11:05.043Z"
   },
   {
    "duration": 21,
    "start_time": "2022-03-31T10:11:05.075Z"
   },
   {
    "duration": 67,
    "start_time": "2022-03-31T10:11:05.099Z"
   },
   {
    "duration": 32,
    "start_time": "2022-03-31T10:11:05.169Z"
   },
   {
    "duration": 54,
    "start_time": "2022-03-31T10:11:05.203Z"
   },
   {
    "duration": 9,
    "start_time": "2022-03-31T10:11:05.259Z"
   },
   {
    "duration": 8,
    "start_time": "2022-03-31T10:11:05.272Z"
   },
   {
    "duration": 13,
    "start_time": "2022-03-31T10:11:05.282Z"
   },
   {
    "duration": 346,
    "start_time": "2022-03-31T10:11:05.298Z"
   },
   {
    "duration": 23175,
    "start_time": "2022-03-31T10:11:05.647Z"
   },
   {
    "duration": 626,
    "start_time": "2022-03-31T10:11:28.824Z"
   },
   {
    "duration": 93,
    "start_time": "2022-03-31T10:11:29.454Z"
   },
   {
    "duration": 195,
    "start_time": "2022-03-31T10:11:29.549Z"
   },
   {
    "duration": 0,
    "start_time": "2022-03-31T10:11:29.746Z"
   },
   {
    "duration": 0,
    "start_time": "2022-03-31T10:11:29.748Z"
   },
   {
    "duration": 0,
    "start_time": "2022-03-31T10:11:29.750Z"
   },
   {
    "duration": 0,
    "start_time": "2022-03-31T10:11:29.751Z"
   },
   {
    "duration": 0,
    "start_time": "2022-03-31T10:11:29.752Z"
   },
   {
    "duration": 0,
    "start_time": "2022-03-31T10:11:29.754Z"
   },
   {
    "duration": 0,
    "start_time": "2022-03-31T10:11:29.755Z"
   },
   {
    "duration": 0,
    "start_time": "2022-03-31T10:11:29.756Z"
   },
   {
    "duration": 0,
    "start_time": "2022-03-31T10:11:29.757Z"
   },
   {
    "duration": 0,
    "start_time": "2022-03-31T10:11:29.759Z"
   },
   {
    "duration": 0,
    "start_time": "2022-03-31T10:11:29.760Z"
   },
   {
    "duration": 0,
    "start_time": "2022-03-31T10:11:29.761Z"
   },
   {
    "duration": 1,
    "start_time": "2022-03-31T10:11:29.762Z"
   },
   {
    "duration": 1622,
    "start_time": "2022-03-31T10:14:01.821Z"
   },
   {
    "duration": 71,
    "start_time": "2022-03-31T10:14:03.447Z"
   },
   {
    "duration": 8,
    "start_time": "2022-03-31T10:14:03.520Z"
   },
   {
    "duration": 20,
    "start_time": "2022-03-31T10:14:03.530Z"
   },
   {
    "duration": 19,
    "start_time": "2022-03-31T10:14:03.554Z"
   },
   {
    "duration": 82,
    "start_time": "2022-03-31T10:14:03.575Z"
   },
   {
    "duration": 31,
    "start_time": "2022-03-31T10:14:03.660Z"
   },
   {
    "duration": 63,
    "start_time": "2022-03-31T10:14:03.694Z"
   },
   {
    "duration": 12,
    "start_time": "2022-03-31T10:14:03.759Z"
   },
   {
    "duration": 12,
    "start_time": "2022-03-31T10:14:03.773Z"
   },
   {
    "duration": 12,
    "start_time": "2022-03-31T10:14:03.787Z"
   },
   {
    "duration": 295,
    "start_time": "2022-03-31T10:14:03.802Z"
   },
   {
    "duration": 21992,
    "start_time": "2022-03-31T10:14:04.100Z"
   },
   {
    "duration": 654,
    "start_time": "2022-03-31T10:14:26.096Z"
   },
   {
    "duration": 95,
    "start_time": "2022-03-31T10:14:26.752Z"
   },
   {
    "duration": 254,
    "start_time": "2022-03-31T10:14:26.850Z"
   },
   {
    "duration": 0,
    "start_time": "2022-03-31T10:14:27.107Z"
   },
   {
    "duration": 0,
    "start_time": "2022-03-31T10:14:27.108Z"
   },
   {
    "duration": 0,
    "start_time": "2022-03-31T10:14:27.110Z"
   },
   {
    "duration": 0,
    "start_time": "2022-03-31T10:14:27.111Z"
   },
   {
    "duration": 0,
    "start_time": "2022-03-31T10:14:27.113Z"
   },
   {
    "duration": 0,
    "start_time": "2022-03-31T10:14:27.115Z"
   },
   {
    "duration": 0,
    "start_time": "2022-03-31T10:14:27.116Z"
   },
   {
    "duration": 0,
    "start_time": "2022-03-31T10:14:27.118Z"
   },
   {
    "duration": 0,
    "start_time": "2022-03-31T10:14:27.143Z"
   },
   {
    "duration": 0,
    "start_time": "2022-03-31T10:14:27.145Z"
   },
   {
    "duration": 0,
    "start_time": "2022-03-31T10:14:27.146Z"
   },
   {
    "duration": 0,
    "start_time": "2022-03-31T10:14:27.148Z"
   },
   {
    "duration": 0,
    "start_time": "2022-03-31T10:14:27.150Z"
   },
   {
    "duration": 11,
    "start_time": "2022-03-31T10:18:03.603Z"
   },
   {
    "duration": 1616,
    "start_time": "2022-03-31T10:18:12.050Z"
   },
   {
    "duration": 71,
    "start_time": "2022-03-31T10:18:13.669Z"
   },
   {
    "duration": 8,
    "start_time": "2022-03-31T10:18:13.742Z"
   },
   {
    "duration": 20,
    "start_time": "2022-03-31T10:18:13.752Z"
   },
   {
    "duration": 17,
    "start_time": "2022-03-31T10:18:13.776Z"
   },
   {
    "duration": 75,
    "start_time": "2022-03-31T10:18:13.796Z"
   },
   {
    "duration": 70,
    "start_time": "2022-03-31T10:18:13.874Z"
   },
   {
    "duration": 22,
    "start_time": "2022-03-31T10:18:13.947Z"
   },
   {
    "duration": 10,
    "start_time": "2022-03-31T10:18:13.972Z"
   },
   {
    "duration": 9,
    "start_time": "2022-03-31T10:18:13.985Z"
   },
   {
    "duration": 53,
    "start_time": "2022-03-31T10:18:13.997Z"
   },
   {
    "duration": 277,
    "start_time": "2022-03-31T10:18:14.052Z"
   },
   {
    "duration": 23232,
    "start_time": "2022-03-31T10:18:14.332Z"
   },
   {
    "duration": 592,
    "start_time": "2022-03-31T10:18:37.568Z"
   },
   {
    "duration": 101,
    "start_time": "2022-03-31T10:18:38.247Z"
   },
   {
    "duration": 13,
    "start_time": "2022-03-31T10:18:38.350Z"
   },
   {
    "duration": 4,
    "start_time": "2022-03-31T10:18:38.365Z"
   },
   {
    "duration": 12,
    "start_time": "2022-03-31T10:18:38.371Z"
   },
   {
    "duration": 89,
    "start_time": "2022-03-31T10:18:38.385Z"
   },
   {
    "duration": 202,
    "start_time": "2022-03-31T10:18:38.476Z"
   },
   {
    "duration": 217,
    "start_time": "2022-03-31T10:18:38.681Z"
   },
   {
    "duration": 7,
    "start_time": "2022-03-31T10:18:38.901Z"
   },
   {
    "duration": 2726,
    "start_time": "2022-03-31T10:18:38.910Z"
   },
   {
    "duration": 2723,
    "start_time": "2022-03-31T10:18:41.642Z"
   },
   {
    "duration": 2136,
    "start_time": "2022-03-31T10:18:44.367Z"
   },
   {
    "duration": 222,
    "start_time": "2022-03-31T10:18:46.506Z"
   },
   {
    "duration": 291,
    "start_time": "2022-03-31T10:18:46.731Z"
   },
   {
    "duration": 63,
    "start_time": "2022-03-31T10:18:47.025Z"
   },
   {
    "duration": 22,
    "start_time": "2022-03-31T10:18:47.092Z"
   },
   {
    "duration": 4,
    "start_time": "2022-03-31T10:20:38.385Z"
   },
   {
    "duration": 8,
    "start_time": "2022-03-31T10:20:44.035Z"
   },
   {
    "duration": 75,
    "start_time": "2022-03-31T10:20:44.047Z"
   },
   {
    "duration": 5,
    "start_time": "2022-03-31T10:20:46.449Z"
   },
   {
    "duration": 8,
    "start_time": "2022-03-31T10:20:56.333Z"
   },
   {
    "duration": 7,
    "start_time": "2022-03-31T10:23:17.820Z"
   },
   {
    "duration": 54,
    "start_time": "2022-03-31T10:23:17.831Z"
   },
   {
    "duration": 5,
    "start_time": "2022-03-31T10:23:17.888Z"
   },
   {
    "duration": 4,
    "start_time": "2022-03-31T10:23:21.290Z"
   },
   {
    "duration": 19,
    "start_time": "2022-03-31T10:23:23.619Z"
   },
   {
    "duration": 1933,
    "start_time": "2022-03-31T10:23:41.696Z"
   },
   {
    "duration": 91,
    "start_time": "2022-03-31T10:23:43.632Z"
   },
   {
    "duration": 8,
    "start_time": "2022-03-31T10:23:43.726Z"
   },
   {
    "duration": 6,
    "start_time": "2022-03-31T10:23:43.745Z"
   },
   {
    "duration": 7,
    "start_time": "2022-03-31T10:23:43.754Z"
   },
   {
    "duration": 38,
    "start_time": "2022-03-31T10:23:43.764Z"
   },
   {
    "duration": 44,
    "start_time": "2022-03-31T10:23:43.805Z"
   },
   {
    "duration": 49,
    "start_time": "2022-03-31T10:23:43.851Z"
   },
   {
    "duration": 69,
    "start_time": "2022-03-31T10:23:43.903Z"
   },
   {
    "duration": 26,
    "start_time": "2022-03-31T10:23:43.976Z"
   },
   {
    "duration": 45,
    "start_time": "2022-03-31T10:23:44.006Z"
   },
   {
    "duration": 10,
    "start_time": "2022-03-31T10:23:44.066Z"
   },
   {
    "duration": 21,
    "start_time": "2022-03-31T10:23:44.079Z"
   },
   {
    "duration": 386,
    "start_time": "2022-03-31T10:23:44.103Z"
   },
   {
    "duration": 24466,
    "start_time": "2022-03-31T10:23:44.493Z"
   },
   {
    "duration": 293,
    "start_time": "2022-03-31T10:24:08.962Z"
   },
   {
    "duration": 90,
    "start_time": "2022-03-31T10:24:09.258Z"
   },
   {
    "duration": 104,
    "start_time": "2022-03-31T10:24:09.352Z"
   },
   {
    "duration": 3,
    "start_time": "2022-03-31T10:24:09.458Z"
   },
   {
    "duration": 20,
    "start_time": "2022-03-31T10:24:09.464Z"
   },
   {
    "duration": 94,
    "start_time": "2022-03-31T10:24:09.487Z"
   },
   {
    "duration": 321,
    "start_time": "2022-03-31T10:24:09.583Z"
   },
   {
    "duration": 217,
    "start_time": "2022-03-31T10:24:09.907Z"
   },
   {
    "duration": 19,
    "start_time": "2022-03-31T10:24:10.127Z"
   },
   {
    "duration": 3002,
    "start_time": "2022-03-31T10:24:10.152Z"
   },
   {
    "duration": 3294,
    "start_time": "2022-03-31T10:24:13.157Z"
   },
   {
    "duration": 1524,
    "start_time": "2022-03-31T10:24:16.453Z"
   },
   {
    "duration": 218,
    "start_time": "2022-03-31T10:24:17.981Z"
   },
   {
    "duration": 196,
    "start_time": "2022-03-31T10:24:18.201Z"
   },
   {
    "duration": 50,
    "start_time": "2022-03-31T10:24:18.399Z"
   },
   {
    "duration": 18,
    "start_time": "2022-03-31T10:24:18.453Z"
   },
   {
    "duration": 73,
    "start_time": "2022-03-31T10:32:07.805Z"
   },
   {
    "duration": 59,
    "start_time": "2022-03-31T10:32:16.647Z"
   },
   {
    "duration": 6,
    "start_time": "2022-03-31T10:33:20.601Z"
   },
   {
    "duration": 59,
    "start_time": "2022-03-31T10:33:20.611Z"
   },
   {
    "duration": 8,
    "start_time": "2022-03-31T10:33:20.673Z"
   },
   {
    "duration": 5,
    "start_time": "2022-03-31T10:33:20.683Z"
   },
   {
    "duration": 19,
    "start_time": "2022-03-31T10:33:20.691Z"
   },
   {
    "duration": 44,
    "start_time": "2022-03-31T10:33:20.712Z"
   },
   {
    "duration": 54,
    "start_time": "2022-03-31T10:33:20.758Z"
   },
   {
    "duration": 18,
    "start_time": "2022-03-31T10:36:29.636Z"
   },
   {
    "duration": 20,
    "start_time": "2022-03-31T10:37:08.618Z"
   },
   {
    "duration": 9,
    "start_time": "2022-03-31T10:37:37.863Z"
   },
   {
    "duration": 8,
    "start_time": "2022-03-31T10:37:42.676Z"
   },
   {
    "duration": 27,
    "start_time": "2022-03-31T10:37:55.560Z"
   },
   {
    "duration": 52,
    "start_time": "2022-03-31T10:38:37.163Z"
   },
   {
    "duration": 736,
    "start_time": "2022-03-31T10:42:22.154Z"
   },
   {
    "duration": 261,
    "start_time": "2022-03-31T10:42:42.739Z"
   },
   {
    "duration": 5,
    "start_time": "2022-03-31T10:42:53.802Z"
   },
   {
    "duration": 52,
    "start_time": "2022-03-31T10:42:53.810Z"
   },
   {
    "duration": 6,
    "start_time": "2022-03-31T10:42:53.864Z"
   },
   {
    "duration": 4,
    "start_time": "2022-03-31T10:42:53.872Z"
   },
   {
    "duration": 22,
    "start_time": "2022-03-31T10:42:53.879Z"
   },
   {
    "duration": 46,
    "start_time": "2022-03-31T10:42:53.903Z"
   },
   {
    "duration": 231,
    "start_time": "2022-03-31T10:42:57.412Z"
   },
   {
    "duration": 307,
    "start_time": "2022-03-31T10:43:33.028Z"
   },
   {
    "duration": 239,
    "start_time": "2022-03-31T10:43:41.312Z"
   },
   {
    "duration": 209,
    "start_time": "2022-03-31T10:43:53.987Z"
   },
   {
    "duration": 280,
    "start_time": "2022-03-31T10:46:31.181Z"
   },
   {
    "duration": 154,
    "start_time": "2022-03-31T10:46:40.261Z"
   },
   {
    "duration": 150,
    "start_time": "2022-03-31T10:47:28.994Z"
   },
   {
    "duration": 165,
    "start_time": "2022-03-31T10:47:57.055Z"
   },
   {
    "duration": 246,
    "start_time": "2022-03-31T10:48:16.657Z"
   },
   {
    "duration": 56,
    "start_time": "2022-03-31T10:49:13.266Z"
   },
   {
    "duration": 150,
    "start_time": "2022-03-31T10:51:58.579Z"
   },
   {
    "duration": 1914,
    "start_time": "2022-03-31T10:53:34.126Z"
   },
   {
    "duration": 62,
    "start_time": "2022-03-31T10:53:36.044Z"
   },
   {
    "duration": 6,
    "start_time": "2022-03-31T10:53:36.109Z"
   },
   {
    "duration": 6,
    "start_time": "2022-03-31T10:53:36.118Z"
   },
   {
    "duration": 28,
    "start_time": "2022-03-31T10:53:36.127Z"
   },
   {
    "duration": 16,
    "start_time": "2022-03-31T10:53:36.157Z"
   },
   {
    "duration": 75,
    "start_time": "2022-03-31T10:53:36.176Z"
   },
   {
    "duration": 181,
    "start_time": "2022-03-31T10:53:36.254Z"
   },
   {
    "duration": 36,
    "start_time": "2022-03-31T10:53:36.437Z"
   },
   {
    "duration": 30,
    "start_time": "2022-03-31T10:53:36.476Z"
   },
   {
    "duration": 20,
    "start_time": "2022-03-31T10:53:36.543Z"
   },
   {
    "duration": 10,
    "start_time": "2022-03-31T10:53:36.565Z"
   },
   {
    "duration": 8,
    "start_time": "2022-03-31T10:53:36.577Z"
   },
   {
    "duration": 9,
    "start_time": "2022-03-31T10:53:36.590Z"
   },
   {
    "duration": 297,
    "start_time": "2022-03-31T10:53:36.601Z"
   },
   {
    "duration": 21944,
    "start_time": "2022-03-31T10:53:36.901Z"
   },
   {
    "duration": 700,
    "start_time": "2022-03-31T10:53:58.847Z"
   },
   {
    "duration": 94,
    "start_time": "2022-03-31T10:53:59.553Z"
   },
   {
    "duration": 12,
    "start_time": "2022-03-31T10:53:59.650Z"
   },
   {
    "duration": 4,
    "start_time": "2022-03-31T10:53:59.664Z"
   },
   {
    "duration": 10,
    "start_time": "2022-03-31T10:53:59.671Z"
   },
   {
    "duration": 105,
    "start_time": "2022-03-31T10:53:59.683Z"
   },
   {
    "duration": 202,
    "start_time": "2022-03-31T10:53:59.790Z"
   },
   {
    "duration": 205,
    "start_time": "2022-03-31T10:53:59.995Z"
   },
   {
    "duration": 10,
    "start_time": "2022-03-31T10:54:00.202Z"
   },
   {
    "duration": 2664,
    "start_time": "2022-03-31T10:54:00.214Z"
   },
   {
    "duration": 2652,
    "start_time": "2022-03-31T10:54:02.881Z"
   },
   {
    "duration": 1350,
    "start_time": "2022-03-31T10:54:05.543Z"
   },
   {
    "duration": 192,
    "start_time": "2022-03-31T10:54:06.895Z"
   },
   {
    "duration": 198,
    "start_time": "2022-03-31T10:54:07.090Z"
   },
   {
    "duration": 55,
    "start_time": "2022-03-31T10:54:07.291Z"
   },
   {
    "duration": 17,
    "start_time": "2022-03-31T10:54:07.349Z"
   },
   {
    "duration": 226,
    "start_time": "2022-03-31T10:54:56.867Z"
   },
   {
    "duration": 15,
    "start_time": "2022-03-31T10:55:03.693Z"
   },
   {
    "duration": 8,
    "start_time": "2022-03-31T10:55:08.983Z"
   },
   {
    "duration": 81,
    "start_time": "2022-03-31T10:55:08.994Z"
   },
   {
    "duration": 7,
    "start_time": "2022-03-31T10:55:09.078Z"
   },
   {
    "duration": 14,
    "start_time": "2022-03-31T10:55:09.087Z"
   },
   {
    "duration": 27,
    "start_time": "2022-03-31T10:55:10.564Z"
   },
   {
    "duration": 25,
    "start_time": "2022-03-31T10:55:15.531Z"
   },
   {
    "duration": 27,
    "start_time": "2022-03-31T10:55:21.580Z"
   },
   {
    "duration": 14,
    "start_time": "2022-03-31T11:02:32.900Z"
   },
   {
    "duration": 13,
    "start_time": "2022-03-31T11:02:44.189Z"
   },
   {
    "duration": 13,
    "start_time": "2022-03-31T11:02:52.215Z"
   },
   {
    "duration": 9,
    "start_time": "2022-03-31T11:04:32.103Z"
   },
   {
    "duration": 2049,
    "start_time": "2022-03-31T11:08:44.712Z"
   },
   {
    "duration": 56,
    "start_time": "2022-03-31T11:08:46.764Z"
   },
   {
    "duration": 7,
    "start_time": "2022-03-31T11:08:46.823Z"
   },
   {
    "duration": 4,
    "start_time": "2022-03-31T11:08:46.845Z"
   },
   {
    "duration": 20,
    "start_time": "2022-03-31T11:08:46.852Z"
   },
   {
    "duration": 17,
    "start_time": "2022-03-31T11:08:46.875Z"
   },
   {
    "duration": 94,
    "start_time": "2022-03-31T11:08:46.895Z"
   },
   {
    "duration": 201,
    "start_time": "2022-03-31T11:08:46.992Z"
   },
   {
    "duration": 63,
    "start_time": "2022-03-31T11:08:47.196Z"
   },
   {
    "duration": 34,
    "start_time": "2022-03-31T11:08:47.265Z"
   },
   {
    "duration": 56,
    "start_time": "2022-03-31T11:08:47.302Z"
   },
   {
    "duration": 8,
    "start_time": "2022-03-31T11:08:47.361Z"
   },
   {
    "duration": 11,
    "start_time": "2022-03-31T11:08:47.371Z"
   },
   {
    "duration": 9,
    "start_time": "2022-03-31T11:08:47.384Z"
   },
   {
    "duration": 51,
    "start_time": "2022-03-31T11:08:47.395Z"
   },
   {
    "duration": 274,
    "start_time": "2022-03-31T11:08:47.448Z"
   },
   {
    "duration": 22774,
    "start_time": "2022-03-31T11:08:47.725Z"
   },
   {
    "duration": 649,
    "start_time": "2022-03-31T11:09:10.502Z"
   },
   {
    "duration": 4,
    "start_time": "2022-03-31T11:09:11.244Z"
   },
   {
    "duration": 150,
    "start_time": "2022-03-31T11:09:11.252Z"
   },
   {
    "duration": 211,
    "start_time": "2022-03-31T11:09:11.405Z"
   },
   {
    "duration": 209,
    "start_time": "2022-03-31T11:09:11.619Z"
   },
   {
    "duration": 15,
    "start_time": "2022-03-31T11:09:11.830Z"
   },
   {
    "duration": 2827,
    "start_time": "2022-03-31T11:09:11.848Z"
   },
   {
    "duration": 2656,
    "start_time": "2022-03-31T11:09:14.678Z"
   },
   {
    "duration": 1519,
    "start_time": "2022-03-31T11:09:17.336Z"
   },
   {
    "duration": 187,
    "start_time": "2022-03-31T11:09:18.858Z"
   },
   {
    "duration": 203,
    "start_time": "2022-03-31T11:09:19.049Z"
   },
   {
    "duration": 35,
    "start_time": "2022-03-31T11:09:19.254Z"
   },
   {
    "duration": 14,
    "start_time": "2022-03-31T11:09:19.291Z"
   },
   {
    "duration": 189,
    "start_time": "2022-03-31T11:12:55.729Z"
   },
   {
    "duration": 30,
    "start_time": "2022-03-31T11:18:49.726Z"
   },
   {
    "duration": 5,
    "start_time": "2022-03-31T11:18:56.228Z"
   },
   {
    "duration": 61,
    "start_time": "2022-03-31T11:18:56.236Z"
   },
   {
    "duration": 7,
    "start_time": "2022-03-31T11:18:56.299Z"
   },
   {
    "duration": 5,
    "start_time": "2022-03-31T11:18:56.308Z"
   },
   {
    "duration": 16,
    "start_time": "2022-03-31T11:18:56.317Z"
   },
   {
    "duration": 16,
    "start_time": "2022-03-31T11:18:56.335Z"
   },
   {
    "duration": 55,
    "start_time": "2022-03-31T11:18:56.353Z"
   },
   {
    "duration": 189,
    "start_time": "2022-03-31T11:18:56.410Z"
   },
   {
    "duration": 37,
    "start_time": "2022-03-31T11:19:01.429Z"
   },
   {
    "duration": 36,
    "start_time": "2022-03-31T11:20:08.847Z"
   },
   {
    "duration": 2123,
    "start_time": "2022-03-31T11:20:31.341Z"
   },
   {
    "duration": 54,
    "start_time": "2022-03-31T11:20:33.467Z"
   },
   {
    "duration": 6,
    "start_time": "2022-03-31T11:20:33.524Z"
   },
   {
    "duration": 13,
    "start_time": "2022-03-31T11:20:33.532Z"
   },
   {
    "duration": 20,
    "start_time": "2022-03-31T11:20:33.547Z"
   },
   {
    "duration": 16,
    "start_time": "2022-03-31T11:20:33.569Z"
   },
   {
    "duration": 90,
    "start_time": "2022-03-31T11:20:33.587Z"
   },
   {
    "duration": 178,
    "start_time": "2022-03-31T11:20:33.679Z"
   },
   {
    "duration": 38,
    "start_time": "2022-03-31T11:20:33.859Z"
   },
   {
    "duration": 59,
    "start_time": "2022-03-31T11:20:33.901Z"
   },
   {
    "duration": 30,
    "start_time": "2022-03-31T11:20:33.962Z"
   },
   {
    "duration": 53,
    "start_time": "2022-03-31T11:20:33.994Z"
   },
   {
    "duration": 8,
    "start_time": "2022-03-31T11:20:34.049Z"
   },
   {
    "duration": 11,
    "start_time": "2022-03-31T11:20:34.059Z"
   },
   {
    "duration": 7,
    "start_time": "2022-03-31T11:20:34.072Z"
   },
   {
    "duration": 9,
    "start_time": "2022-03-31T11:20:34.081Z"
   },
   {
    "duration": 295,
    "start_time": "2022-03-31T11:20:34.092Z"
   },
   {
    "duration": 21936,
    "start_time": "2022-03-31T11:20:34.389Z"
   },
   {
    "duration": 716,
    "start_time": "2022-03-31T11:20:56.328Z"
   },
   {
    "duration": 142,
    "start_time": "2022-03-31T11:20:57.048Z"
   },
   {
    "duration": 206,
    "start_time": "2022-03-31T11:20:57.192Z"
   },
   {
    "duration": 200,
    "start_time": "2022-03-31T11:20:57.400Z"
   },
   {
    "duration": 7,
    "start_time": "2022-03-31T11:20:57.602Z"
   },
   {
    "duration": 2595,
    "start_time": "2022-03-31T11:20:57.612Z"
   },
   {
    "duration": 2462,
    "start_time": "2022-03-31T11:21:00.209Z"
   },
   {
    "duration": 1345,
    "start_time": "2022-03-31T11:21:02.674Z"
   },
   {
    "duration": 180,
    "start_time": "2022-03-31T11:21:04.022Z"
   },
   {
    "duration": 196,
    "start_time": "2022-03-31T11:21:04.206Z"
   },
   {
    "duration": 46,
    "start_time": "2022-03-31T11:21:04.405Z"
   },
   {
    "duration": 17,
    "start_time": "2022-03-31T11:21:04.453Z"
   },
   {
    "duration": 33,
    "start_time": "2022-03-31T11:25:08.945Z"
   },
   {
    "duration": 2125,
    "start_time": "2022-03-31T11:29:59.158Z"
   },
   {
    "duration": 61,
    "start_time": "2022-03-31T11:30:01.287Z"
   },
   {
    "duration": 8,
    "start_time": "2022-03-31T11:30:01.351Z"
   },
   {
    "duration": 12,
    "start_time": "2022-03-31T11:30:01.362Z"
   },
   {
    "duration": 35,
    "start_time": "2022-03-31T11:30:01.378Z"
   },
   {
    "duration": 21,
    "start_time": "2022-03-31T11:30:01.415Z"
   },
   {
    "duration": 64,
    "start_time": "2022-03-31T11:30:01.451Z"
   },
   {
    "duration": 195,
    "start_time": "2022-03-31T11:30:01.517Z"
   },
   {
    "duration": 50,
    "start_time": "2022-03-31T11:30:01.715Z"
   },
   {
    "duration": 37,
    "start_time": "2022-03-31T11:30:01.767Z"
   },
   {
    "duration": 70,
    "start_time": "2022-03-31T11:30:01.806Z"
   },
   {
    "duration": 22,
    "start_time": "2022-03-31T11:30:01.878Z"
   },
   {
    "duration": 8,
    "start_time": "2022-03-31T11:30:01.902Z"
   },
   {
    "duration": 36,
    "start_time": "2022-03-31T11:30:01.915Z"
   },
   {
    "duration": 16,
    "start_time": "2022-03-31T11:30:01.956Z"
   },
   {
    "duration": 20,
    "start_time": "2022-03-31T11:30:01.975Z"
   },
   {
    "duration": 296,
    "start_time": "2022-03-31T11:30:01.997Z"
   },
   {
    "duration": 23703,
    "start_time": "2022-03-31T11:30:02.295Z"
   },
   {
    "duration": 1269,
    "start_time": "2022-03-31T11:30:26.000Z"
   },
   {
    "duration": 224,
    "start_time": "2022-03-31T11:30:27.344Z"
   },
   {
    "duration": 8,
    "start_time": "2022-03-31T11:30:27.571Z"
   },
   {
    "duration": 2812,
    "start_time": "2022-03-31T11:30:27.581Z"
   },
   {
    "duration": 2665,
    "start_time": "2022-03-31T11:30:30.396Z"
   },
   {
    "duration": 1420,
    "start_time": "2022-03-31T11:30:33.063Z"
   },
   {
    "duration": 191,
    "start_time": "2022-03-31T11:30:34.485Z"
   },
   {
    "duration": 196,
    "start_time": "2022-03-31T11:30:34.678Z"
   },
   {
    "duration": 33,
    "start_time": "2022-03-31T11:30:34.876Z"
   },
   {
    "duration": 41,
    "start_time": "2022-03-31T11:30:34.911Z"
   },
   {
    "duration": 2217,
    "start_time": "2022-03-31T11:36:10.166Z"
   },
   {
    "duration": 55,
    "start_time": "2022-03-31T11:36:12.385Z"
   },
   {
    "duration": 8,
    "start_time": "2022-03-31T11:36:12.442Z"
   },
   {
    "duration": 33,
    "start_time": "2022-03-31T11:36:12.452Z"
   },
   {
    "duration": 37,
    "start_time": "2022-03-31T11:36:12.488Z"
   },
   {
    "duration": 33,
    "start_time": "2022-03-31T11:36:12.527Z"
   },
   {
    "duration": 61,
    "start_time": "2022-03-31T11:36:12.562Z"
   },
   {
    "duration": 191,
    "start_time": "2022-03-31T11:36:12.625Z"
   },
   {
    "duration": 4,
    "start_time": "2022-03-31T11:36:12.818Z"
   },
   {
    "duration": 53,
    "start_time": "2022-03-31T11:36:12.824Z"
   },
   {
    "duration": 30,
    "start_time": "2022-03-31T11:36:12.879Z"
   },
   {
    "duration": 59,
    "start_time": "2022-03-31T11:36:12.911Z"
   },
   {
    "duration": 8,
    "start_time": "2022-03-31T11:36:12.972Z"
   },
   {
    "duration": 25,
    "start_time": "2022-03-31T11:36:12.984Z"
   },
   {
    "duration": 15,
    "start_time": "2022-03-31T11:36:13.012Z"
   },
   {
    "duration": 42,
    "start_time": "2022-03-31T11:36:13.030Z"
   },
   {
    "duration": 288,
    "start_time": "2022-03-31T11:36:13.074Z"
   },
   {
    "duration": 22919,
    "start_time": "2022-03-31T11:36:13.364Z"
   },
   {
    "duration": 1465,
    "start_time": "2022-03-31T11:36:36.285Z"
   },
   {
    "duration": 364,
    "start_time": "2022-03-31T11:36:37.755Z"
   },
   {
    "duration": 8,
    "start_time": "2022-03-31T11:36:38.122Z"
   },
   {
    "duration": 2884,
    "start_time": "2022-03-31T11:36:38.147Z"
   },
   {
    "duration": 2634,
    "start_time": "2022-03-31T11:36:41.034Z"
   },
   {
    "duration": 1399,
    "start_time": "2022-03-31T11:36:43.670Z"
   },
   {
    "duration": 190,
    "start_time": "2022-03-31T11:36:45.071Z"
   },
   {
    "duration": 197,
    "start_time": "2022-03-31T11:36:45.263Z"
   },
   {
    "duration": 33,
    "start_time": "2022-03-31T11:36:45.462Z"
   },
   {
    "duration": 15,
    "start_time": "2022-03-31T11:36:45.497Z"
   },
   {
    "duration": 204,
    "start_time": "2022-03-31T11:43:17.236Z"
   },
   {
    "duration": 220,
    "start_time": "2022-03-31T11:46:22.830Z"
   },
   {
    "duration": 1916,
    "start_time": "2022-03-31T12:04:05.764Z"
   },
   {
    "duration": 53,
    "start_time": "2022-03-31T12:04:07.683Z"
   },
   {
    "duration": 11,
    "start_time": "2022-03-31T12:04:07.742Z"
   },
   {
    "duration": 13,
    "start_time": "2022-03-31T12:04:07.756Z"
   },
   {
    "duration": 26,
    "start_time": "2022-03-31T12:04:07.772Z"
   },
   {
    "duration": 21,
    "start_time": "2022-03-31T12:04:07.801Z"
   },
   {
    "duration": 89,
    "start_time": "2022-03-31T12:04:07.848Z"
   },
   {
    "duration": 194,
    "start_time": "2022-03-31T12:04:07.942Z"
   },
   {
    "duration": 40,
    "start_time": "2022-03-31T12:04:08.138Z"
   },
   {
    "duration": 77,
    "start_time": "2022-03-31T12:04:08.181Z"
   },
   {
    "duration": 23,
    "start_time": "2022-03-31T12:04:08.260Z"
   },
   {
    "duration": 9,
    "start_time": "2022-03-31T12:04:08.285Z"
   },
   {
    "duration": 10,
    "start_time": "2022-03-31T12:04:08.297Z"
   },
   {
    "duration": 43,
    "start_time": "2022-03-31T12:04:08.312Z"
   },
   {
    "duration": 13,
    "start_time": "2022-03-31T12:04:08.358Z"
   },
   {
    "duration": 341,
    "start_time": "2022-03-31T12:04:08.373Z"
   },
   {
    "duration": 29045,
    "start_time": "2022-03-31T12:04:08.717Z"
   },
   {
    "duration": 1680,
    "start_time": "2022-03-31T12:04:37.765Z"
   },
   {
    "duration": 217,
    "start_time": "2022-03-31T12:04:39.448Z"
   },
   {
    "duration": 11,
    "start_time": "2022-03-31T12:04:39.667Z"
   },
   {
    "duration": 2885,
    "start_time": "2022-03-31T12:04:39.681Z"
   },
   {
    "duration": 2719,
    "start_time": "2022-03-31T12:04:42.568Z"
   },
   {
    "duration": 1516,
    "start_time": "2022-03-31T12:04:45.290Z"
   },
   {
    "duration": 195,
    "start_time": "2022-03-31T12:04:46.808Z"
   },
   {
    "duration": 202,
    "start_time": "2022-03-31T12:04:47.005Z"
   },
   {
    "duration": 55,
    "start_time": "2022-03-31T12:04:47.209Z"
   },
   {
    "duration": 16,
    "start_time": "2022-03-31T12:04:47.266Z"
   },
   {
    "duration": 187,
    "start_time": "2022-03-31T12:05:16.032Z"
   },
   {
    "duration": 195,
    "start_time": "2022-03-31T12:05:30.073Z"
   },
   {
    "duration": 2069,
    "start_time": "2022-03-31T12:08:36.125Z"
   },
   {
    "duration": 63,
    "start_time": "2022-03-31T12:08:38.196Z"
   },
   {
    "duration": 7,
    "start_time": "2022-03-31T12:08:38.262Z"
   },
   {
    "duration": 12,
    "start_time": "2022-03-31T12:08:38.271Z"
   },
   {
    "duration": 33,
    "start_time": "2022-03-31T12:08:38.286Z"
   },
   {
    "duration": 29,
    "start_time": "2022-03-31T12:08:38.321Z"
   },
   {
    "duration": 62,
    "start_time": "2022-03-31T12:08:38.353Z"
   },
   {
    "duration": 207,
    "start_time": "2022-03-31T12:08:38.417Z"
   },
   {
    "duration": 177,
    "start_time": "2022-03-31T12:08:38.626Z"
   },
   {
    "duration": 0,
    "start_time": "2022-03-31T12:08:38.807Z"
   },
   {
    "duration": 0,
    "start_time": "2022-03-31T12:08:38.808Z"
   },
   {
    "duration": 0,
    "start_time": "2022-03-31T12:08:38.810Z"
   },
   {
    "duration": 0,
    "start_time": "2022-03-31T12:08:38.812Z"
   },
   {
    "duration": 0,
    "start_time": "2022-03-31T12:08:38.813Z"
   },
   {
    "duration": 0,
    "start_time": "2022-03-31T12:08:38.815Z"
   },
   {
    "duration": 0,
    "start_time": "2022-03-31T12:08:38.817Z"
   },
   {
    "duration": 0,
    "start_time": "2022-03-31T12:08:38.818Z"
   },
   {
    "duration": 0,
    "start_time": "2022-03-31T12:08:38.846Z"
   },
   {
    "duration": 0,
    "start_time": "2022-03-31T12:08:38.847Z"
   },
   {
    "duration": 0,
    "start_time": "2022-03-31T12:08:38.849Z"
   },
   {
    "duration": 0,
    "start_time": "2022-03-31T12:08:38.853Z"
   },
   {
    "duration": 0,
    "start_time": "2022-03-31T12:08:38.854Z"
   },
   {
    "duration": 0,
    "start_time": "2022-03-31T12:08:38.858Z"
   },
   {
    "duration": 0,
    "start_time": "2022-03-31T12:08:38.864Z"
   },
   {
    "duration": 0,
    "start_time": "2022-03-31T12:08:38.866Z"
   },
   {
    "duration": 0,
    "start_time": "2022-03-31T12:08:38.867Z"
   },
   {
    "duration": 0,
    "start_time": "2022-03-31T12:08:38.869Z"
   },
   {
    "duration": 0,
    "start_time": "2022-03-31T12:08:38.870Z"
   },
   {
    "duration": 2433,
    "start_time": "2022-03-31T12:19:08.048Z"
   },
   {
    "duration": 58,
    "start_time": "2022-03-31T12:19:10.484Z"
   },
   {
    "duration": 7,
    "start_time": "2022-03-31T12:19:10.545Z"
   },
   {
    "duration": 19,
    "start_time": "2022-03-31T12:19:10.554Z"
   },
   {
    "duration": 20,
    "start_time": "2022-03-31T12:19:10.577Z"
   },
   {
    "duration": 17,
    "start_time": "2022-03-31T12:19:10.599Z"
   },
   {
    "duration": 106,
    "start_time": "2022-03-31T12:19:10.618Z"
   },
   {
    "duration": 195,
    "start_time": "2022-03-31T12:19:10.746Z"
   },
   {
    "duration": 193,
    "start_time": "2022-03-31T12:19:10.944Z"
   },
   {
    "duration": 0,
    "start_time": "2022-03-31T12:19:11.143Z"
   },
   {
    "duration": 0,
    "start_time": "2022-03-31T12:19:11.145Z"
   },
   {
    "duration": 0,
    "start_time": "2022-03-31T12:19:11.146Z"
   },
   {
    "duration": 0,
    "start_time": "2022-03-31T12:19:11.148Z"
   },
   {
    "duration": 0,
    "start_time": "2022-03-31T12:19:11.150Z"
   },
   {
    "duration": 0,
    "start_time": "2022-03-31T12:19:11.151Z"
   },
   {
    "duration": 0,
    "start_time": "2022-03-31T12:19:11.153Z"
   },
   {
    "duration": 0,
    "start_time": "2022-03-31T12:19:11.154Z"
   },
   {
    "duration": 0,
    "start_time": "2022-03-31T12:19:11.156Z"
   },
   {
    "duration": 0,
    "start_time": "2022-03-31T12:19:11.157Z"
   },
   {
    "duration": 0,
    "start_time": "2022-03-31T12:19:11.159Z"
   },
   {
    "duration": 0,
    "start_time": "2022-03-31T12:19:11.160Z"
   },
   {
    "duration": 0,
    "start_time": "2022-03-31T12:19:11.161Z"
   },
   {
    "duration": 0,
    "start_time": "2022-03-31T12:19:11.165Z"
   },
   {
    "duration": 0,
    "start_time": "2022-03-31T12:19:11.167Z"
   },
   {
    "duration": 0,
    "start_time": "2022-03-31T12:19:11.169Z"
   },
   {
    "duration": 0,
    "start_time": "2022-03-31T12:19:11.170Z"
   },
   {
    "duration": 0,
    "start_time": "2022-03-31T12:19:11.173Z"
   },
   {
    "duration": 0,
    "start_time": "2022-03-31T12:19:11.174Z"
   },
   {
    "duration": 2926,
    "start_time": "2022-03-31T12:20:43.713Z"
   },
   {
    "duration": 95,
    "start_time": "2022-03-31T12:20:46.645Z"
   },
   {
    "duration": 11,
    "start_time": "2022-03-31T12:20:46.743Z"
   },
   {
    "duration": 22,
    "start_time": "2022-03-31T12:20:46.756Z"
   },
   {
    "duration": 29,
    "start_time": "2022-03-31T12:20:46.783Z"
   },
   {
    "duration": 37,
    "start_time": "2022-03-31T12:20:46.816Z"
   },
   {
    "duration": 101,
    "start_time": "2022-03-31T12:20:46.856Z"
   },
   {
    "duration": 205,
    "start_time": "2022-03-31T12:20:46.959Z"
   },
   {
    "duration": 47,
    "start_time": "2022-03-31T12:20:47.167Z"
   },
   {
    "duration": 44,
    "start_time": "2022-03-31T12:20:47.244Z"
   },
   {
    "duration": 29,
    "start_time": "2022-03-31T12:20:47.291Z"
   },
   {
    "duration": 66,
    "start_time": "2022-03-31T12:20:47.348Z"
   },
   {
    "duration": 26,
    "start_time": "2022-03-31T12:20:47.417Z"
   },
   {
    "duration": 18,
    "start_time": "2022-03-31T12:20:47.452Z"
   },
   {
    "duration": 11,
    "start_time": "2022-03-31T12:20:47.473Z"
   },
   {
    "duration": 10,
    "start_time": "2022-03-31T12:20:47.488Z"
   },
   {
    "duration": 319,
    "start_time": "2022-03-31T12:20:47.500Z"
   },
   {
    "duration": 24414,
    "start_time": "2022-03-31T12:20:47.822Z"
   },
   {
    "duration": 417,
    "start_time": "2022-03-31T12:21:12.243Z"
   },
   {
    "duration": 291,
    "start_time": "2022-03-31T12:21:12.666Z"
   },
   {
    "duration": 8,
    "start_time": "2022-03-31T12:21:12.960Z"
   },
   {
    "duration": 3048,
    "start_time": "2022-03-31T12:21:12.971Z"
   },
   {
    "duration": 2675,
    "start_time": "2022-03-31T12:21:16.022Z"
   },
   {
    "duration": 1537,
    "start_time": "2022-03-31T12:21:18.699Z"
   },
   {
    "duration": 234,
    "start_time": "2022-03-31T12:21:20.239Z"
   },
   {
    "duration": 290,
    "start_time": "2022-03-31T12:21:20.476Z"
   },
   {
    "duration": 50,
    "start_time": "2022-03-31T12:21:20.768Z"
   },
   {
    "duration": 37,
    "start_time": "2022-03-31T12:21:20.821Z"
   },
   {
    "duration": 2120,
    "start_time": "2022-03-31T12:23:41.414Z"
   },
   {
    "duration": 72,
    "start_time": "2022-03-31T12:23:43.538Z"
   },
   {
    "duration": 8,
    "start_time": "2022-03-31T12:23:43.613Z"
   },
   {
    "duration": 9,
    "start_time": "2022-03-31T12:23:43.623Z"
   },
   {
    "duration": 26,
    "start_time": "2022-03-31T12:23:43.635Z"
   },
   {
    "duration": 18,
    "start_time": "2022-03-31T12:23:43.664Z"
   },
   {
    "duration": 84,
    "start_time": "2022-03-31T12:23:43.685Z"
   },
   {
    "duration": 214,
    "start_time": "2022-03-31T12:23:43.772Z"
   },
   {
    "duration": 69,
    "start_time": "2022-03-31T12:23:43.988Z"
   },
   {
    "duration": 32,
    "start_time": "2022-03-31T12:23:44.064Z"
   },
   {
    "duration": 21,
    "start_time": "2022-03-31T12:23:44.098Z"
   },
   {
    "duration": 26,
    "start_time": "2022-03-31T12:23:44.143Z"
   },
   {
    "duration": 9,
    "start_time": "2022-03-31T12:23:44.171Z"
   },
   {
    "duration": 9,
    "start_time": "2022-03-31T12:23:44.184Z"
   },
   {
    "duration": 8,
    "start_time": "2022-03-31T12:23:44.195Z"
   },
   {
    "duration": 53,
    "start_time": "2022-03-31T12:23:44.205Z"
   },
   {
    "duration": 392,
    "start_time": "2022-03-31T12:23:44.261Z"
   },
   {
    "duration": 23936,
    "start_time": "2022-03-31T12:23:44.656Z"
   },
   {
    "duration": 673,
    "start_time": "2022-03-31T12:24:08.594Z"
   },
   {
    "duration": 288,
    "start_time": "2022-03-31T12:24:09.362Z"
   },
   {
    "duration": 8,
    "start_time": "2022-03-31T12:24:09.652Z"
   },
   {
    "duration": 2889,
    "start_time": "2022-03-31T12:24:09.663Z"
   },
   {
    "duration": 2803,
    "start_time": "2022-03-31T12:24:12.555Z"
   },
   {
    "duration": 1858,
    "start_time": "2022-03-31T12:24:15.360Z"
   },
   {
    "duration": 240,
    "start_time": "2022-03-31T12:24:17.220Z"
   },
   {
    "duration": 196,
    "start_time": "2022-03-31T12:24:17.462Z"
   },
   {
    "duration": 36,
    "start_time": "2022-03-31T12:24:17.661Z"
   },
   {
    "duration": 16,
    "start_time": "2022-03-31T12:24:17.699Z"
   },
   {
    "duration": 36,
    "start_time": "2022-03-31T12:25:51.659Z"
   },
   {
    "duration": 204,
    "start_time": "2022-03-31T12:26:13.430Z"
   },
   {
    "duration": 2036,
    "start_time": "2022-03-31T12:27:02.078Z"
   },
   {
    "duration": 58,
    "start_time": "2022-03-31T12:27:04.117Z"
   },
   {
    "duration": 6,
    "start_time": "2022-03-31T12:27:04.178Z"
   },
   {
    "duration": 5,
    "start_time": "2022-03-31T12:27:04.187Z"
   },
   {
    "duration": 55,
    "start_time": "2022-03-31T12:27:04.197Z"
   },
   {
    "duration": 21,
    "start_time": "2022-03-31T12:27:04.255Z"
   },
   {
    "duration": 80,
    "start_time": "2022-03-31T12:27:04.278Z"
   },
   {
    "duration": 203,
    "start_time": "2022-03-31T12:27:04.361Z"
   },
   {
    "duration": 35,
    "start_time": "2022-03-31T12:27:04.566Z"
   },
   {
    "duration": 71,
    "start_time": "2022-03-31T12:27:04.603Z"
   },
   {
    "duration": 21,
    "start_time": "2022-03-31T12:27:04.676Z"
   },
   {
    "duration": 80,
    "start_time": "2022-03-31T12:27:04.699Z"
   },
   {
    "duration": 10,
    "start_time": "2022-03-31T12:27:04.781Z"
   },
   {
    "duration": 10,
    "start_time": "2022-03-31T12:27:04.797Z"
   },
   {
    "duration": 43,
    "start_time": "2022-03-31T12:27:04.809Z"
   },
   {
    "duration": 14,
    "start_time": "2022-03-31T12:27:04.856Z"
   },
   {
    "duration": 293,
    "start_time": "2022-03-31T12:27:04.873Z"
   },
   {
    "duration": 24679,
    "start_time": "2022-03-31T12:27:05.168Z"
   },
   {
    "duration": 502,
    "start_time": "2022-03-31T12:27:29.851Z"
   },
   {
    "duration": 292,
    "start_time": "2022-03-31T12:27:30.360Z"
   },
   {
    "duration": 12,
    "start_time": "2022-03-31T12:27:30.654Z"
   },
   {
    "duration": 2919,
    "start_time": "2022-03-31T12:27:30.671Z"
   },
   {
    "duration": 2799,
    "start_time": "2022-03-31T12:27:33.593Z"
   },
   {
    "duration": 1464,
    "start_time": "2022-03-31T12:27:36.395Z"
   },
   {
    "duration": 193,
    "start_time": "2022-03-31T12:27:37.861Z"
   },
   {
    "duration": 286,
    "start_time": "2022-03-31T12:27:38.057Z"
   },
   {
    "duration": 48,
    "start_time": "2022-03-31T12:27:38.346Z"
   },
   {
    "duration": 15,
    "start_time": "2022-03-31T12:27:38.396Z"
   },
   {
    "duration": 2022,
    "start_time": "2022-03-31T12:30:55.973Z"
   },
   {
    "duration": 68,
    "start_time": "2022-03-31T12:30:57.998Z"
   },
   {
    "duration": 6,
    "start_time": "2022-03-31T12:30:58.069Z"
   },
   {
    "duration": 8,
    "start_time": "2022-03-31T12:30:58.077Z"
   },
   {
    "duration": 19,
    "start_time": "2022-03-31T12:30:58.088Z"
   },
   {
    "duration": 58,
    "start_time": "2022-03-31T12:30:58.109Z"
   },
   {
    "duration": 56,
    "start_time": "2022-03-31T12:30:58.169Z"
   },
   {
    "duration": 205,
    "start_time": "2022-03-31T12:30:58.227Z"
   },
   {
    "duration": 43,
    "start_time": "2022-03-31T12:30:58.435Z"
   },
   {
    "duration": 70,
    "start_time": "2022-03-31T12:30:58.480Z"
   },
   {
    "duration": 24,
    "start_time": "2022-03-31T12:30:58.552Z"
   },
   {
    "duration": 8,
    "start_time": "2022-03-31T12:30:58.578Z"
   },
   {
    "duration": 11,
    "start_time": "2022-03-31T12:30:58.588Z"
   },
   {
    "duration": 47,
    "start_time": "2022-03-31T12:30:58.604Z"
   },
   {
    "duration": 11,
    "start_time": "2022-03-31T12:30:58.654Z"
   },
   {
    "duration": 291,
    "start_time": "2022-03-31T12:30:58.667Z"
   },
   {
    "duration": 26773,
    "start_time": "2022-03-31T12:30:58.960Z"
   },
   {
    "duration": 1326,
    "start_time": "2022-03-31T12:31:25.743Z"
   },
   {
    "duration": 137,
    "start_time": "2022-03-31T12:31:27.147Z"
   },
   {
    "duration": 220,
    "start_time": "2022-03-31T12:31:27.286Z"
   },
   {
    "duration": 9,
    "start_time": "2022-03-31T12:31:27.508Z"
   },
   {
    "duration": 2964,
    "start_time": "2022-03-31T12:31:27.519Z"
   },
   {
    "duration": 2864,
    "start_time": "2022-03-31T12:31:30.486Z"
   },
   {
    "duration": 1523,
    "start_time": "2022-03-31T12:31:33.353Z"
   },
   {
    "duration": 190,
    "start_time": "2022-03-31T12:31:34.879Z"
   },
   {
    "duration": 211,
    "start_time": "2022-03-31T12:31:35.074Z"
   },
   {
    "duration": 32,
    "start_time": "2022-03-31T12:31:35.288Z"
   },
   {
    "duration": 37,
    "start_time": "2022-03-31T12:31:35.323Z"
   },
   {
    "duration": 2597,
    "start_time": "2022-03-31T12:35:57.717Z"
   },
   {
    "duration": 68,
    "start_time": "2022-03-31T12:36:00.317Z"
   },
   {
    "duration": 6,
    "start_time": "2022-03-31T12:36:00.388Z"
   },
   {
    "duration": 23,
    "start_time": "2022-03-31T12:36:00.399Z"
   },
   {
    "duration": 57,
    "start_time": "2022-03-31T12:36:00.425Z"
   },
   {
    "duration": 18,
    "start_time": "2022-03-31T12:36:00.484Z"
   },
   {
    "duration": 76,
    "start_time": "2022-03-31T12:36:00.505Z"
   },
   {
    "duration": 242,
    "start_time": "2022-03-31T12:36:00.584Z"
   },
   {
    "duration": 59,
    "start_time": "2022-03-31T12:36:00.828Z"
   },
   {
    "duration": 62,
    "start_time": "2022-03-31T12:36:00.891Z"
   },
   {
    "duration": 27,
    "start_time": "2022-03-31T12:36:00.955Z"
   },
   {
    "duration": 20,
    "start_time": "2022-03-31T12:36:00.984Z"
   },
   {
    "duration": 29,
    "start_time": "2022-03-31T12:36:01.006Z"
   },
   {
    "duration": 37,
    "start_time": "2022-03-31T12:36:01.037Z"
   },
   {
    "duration": 32,
    "start_time": "2022-03-31T12:36:01.079Z"
   },
   {
    "duration": 304,
    "start_time": "2022-03-31T12:36:01.114Z"
   },
   {
    "duration": 27854,
    "start_time": "2022-03-31T12:36:01.421Z"
   },
   {
    "duration": 1578,
    "start_time": "2022-03-31T12:36:29.280Z"
   },
   {
    "duration": 118,
    "start_time": "2022-03-31T12:36:30.860Z"
   },
   {
    "duration": 232,
    "start_time": "2022-03-31T12:36:30.981Z"
   },
   {
    "duration": 9,
    "start_time": "2022-03-31T12:36:31.216Z"
   },
   {
    "duration": 2931,
    "start_time": "2022-03-31T12:36:31.227Z"
   },
   {
    "duration": 2729,
    "start_time": "2022-03-31T12:36:34.160Z"
   },
   {
    "duration": 1446,
    "start_time": "2022-03-31T12:36:36.892Z"
   },
   {
    "duration": 193,
    "start_time": "2022-03-31T12:36:38.346Z"
   },
   {
    "duration": 205,
    "start_time": "2022-03-31T12:36:38.544Z"
   },
   {
    "duration": 39,
    "start_time": "2022-03-31T12:36:38.752Z"
   },
   {
    "duration": 15,
    "start_time": "2022-03-31T12:36:38.797Z"
   },
   {
    "duration": 2142,
    "start_time": "2022-03-31T12:38:06.109Z"
   },
   {
    "duration": 74,
    "start_time": "2022-03-31T12:38:08.254Z"
   },
   {
    "duration": 7,
    "start_time": "2022-03-31T12:38:08.330Z"
   },
   {
    "duration": 39,
    "start_time": "2022-03-31T12:38:08.339Z"
   },
   {
    "duration": 18,
    "start_time": "2022-03-31T12:38:08.381Z"
   },
   {
    "duration": 16,
    "start_time": "2022-03-31T12:38:08.401Z"
   },
   {
    "duration": 64,
    "start_time": "2022-03-31T12:38:08.420Z"
   },
   {
    "duration": 186,
    "start_time": "2022-03-31T12:38:08.486Z"
   },
   {
    "duration": 43,
    "start_time": "2022-03-31T12:38:08.674Z"
   },
   {
    "duration": 34,
    "start_time": "2022-03-31T12:38:08.747Z"
   },
   {
    "duration": 23,
    "start_time": "2022-03-31T12:38:08.783Z"
   },
   {
    "duration": 36,
    "start_time": "2022-03-31T12:38:08.808Z"
   },
   {
    "duration": 16,
    "start_time": "2022-03-31T12:38:08.846Z"
   },
   {
    "duration": 9,
    "start_time": "2022-03-31T12:38:08.874Z"
   },
   {
    "duration": 11,
    "start_time": "2022-03-31T12:38:08.885Z"
   },
   {
    "duration": 314,
    "start_time": "2022-03-31T12:38:08.898Z"
   },
   {
    "duration": 24508,
    "start_time": "2022-03-31T12:38:09.215Z"
   },
   {
    "duration": 2123,
    "start_time": "2022-03-31T12:38:33.725Z"
   },
   {
    "duration": 149,
    "start_time": "2022-03-31T12:38:35.850Z"
   },
   {
    "duration": 210,
    "start_time": "2022-03-31T12:38:36.001Z"
   },
   {
    "duration": 10,
    "start_time": "2022-03-31T12:38:36.213Z"
   },
   {
    "duration": 2807,
    "start_time": "2022-03-31T12:38:36.225Z"
   },
   {
    "duration": 2713,
    "start_time": "2022-03-31T12:38:39.035Z"
   },
   {
    "duration": 1435,
    "start_time": "2022-03-31T12:38:41.756Z"
   },
   {
    "duration": 204,
    "start_time": "2022-03-31T12:38:43.193Z"
   },
   {
    "duration": 209,
    "start_time": "2022-03-31T12:38:43.399Z"
   },
   {
    "duration": 52,
    "start_time": "2022-03-31T12:38:43.610Z"
   },
   {
    "duration": 17,
    "start_time": "2022-03-31T12:38:43.664Z"
   },
   {
    "duration": 1975,
    "start_time": "2022-03-31T12:41:54.325Z"
   },
   {
    "duration": 60,
    "start_time": "2022-03-31T12:41:56.303Z"
   },
   {
    "duration": 6,
    "start_time": "2022-03-31T12:41:56.367Z"
   },
   {
    "duration": 10,
    "start_time": "2022-03-31T12:41:56.375Z"
   },
   {
    "duration": 18,
    "start_time": "2022-03-31T12:41:56.388Z"
   },
   {
    "duration": 47,
    "start_time": "2022-03-31T12:41:56.408Z"
   },
   {
    "duration": 59,
    "start_time": "2022-03-31T12:41:56.457Z"
   },
   {
    "duration": 197,
    "start_time": "2022-03-31T12:41:56.518Z"
   },
   {
    "duration": 59,
    "start_time": "2022-03-31T12:41:56.718Z"
   },
   {
    "duration": 29,
    "start_time": "2022-03-31T12:41:56.779Z"
   },
   {
    "duration": 54,
    "start_time": "2022-03-31T12:41:56.810Z"
   },
   {
    "duration": 8,
    "start_time": "2022-03-31T12:41:56.866Z"
   },
   {
    "duration": 10,
    "start_time": "2022-03-31T12:41:56.877Z"
   },
   {
    "duration": 8,
    "start_time": "2022-03-31T12:41:56.891Z"
   },
   {
    "duration": 9,
    "start_time": "2022-03-31T12:41:56.901Z"
   },
   {
    "duration": 281,
    "start_time": "2022-03-31T12:41:56.943Z"
   },
   {
    "duration": 24582,
    "start_time": "2022-03-31T12:41:57.226Z"
   },
   {
    "duration": 1145,
    "start_time": "2022-03-31T12:42:21.811Z"
   },
   {
    "duration": 117,
    "start_time": "2022-03-31T12:42:22.964Z"
   },
   {
    "duration": 223,
    "start_time": "2022-03-31T12:42:23.084Z"
   },
   {
    "duration": 8,
    "start_time": "2022-03-31T12:42:23.310Z"
   },
   {
    "duration": 3005,
    "start_time": "2022-03-31T12:42:23.320Z"
   },
   {
    "duration": 3137,
    "start_time": "2022-03-31T12:42:26.327Z"
   },
   {
    "duration": 2177,
    "start_time": "2022-03-31T12:42:29.467Z"
   },
   {
    "duration": 257,
    "start_time": "2022-03-31T12:42:31.651Z"
   },
   {
    "duration": 291,
    "start_time": "2022-03-31T12:42:31.911Z"
   },
   {
    "duration": 69,
    "start_time": "2022-03-31T12:42:32.205Z"
   },
   {
    "duration": 17,
    "start_time": "2022-03-31T12:42:32.277Z"
   },
   {
    "duration": 2345,
    "start_time": "2022-03-31T12:43:47.532Z"
   },
   {
    "duration": 56,
    "start_time": "2022-03-31T12:43:49.880Z"
   },
   {
    "duration": 14,
    "start_time": "2022-03-31T12:43:49.938Z"
   },
   {
    "duration": 39,
    "start_time": "2022-03-31T12:43:49.955Z"
   },
   {
    "duration": 21,
    "start_time": "2022-03-31T12:43:49.997Z"
   },
   {
    "duration": 16,
    "start_time": "2022-03-31T12:43:50.021Z"
   },
   {
    "duration": 70,
    "start_time": "2022-03-31T12:43:50.039Z"
   },
   {
    "duration": 209,
    "start_time": "2022-03-31T12:43:50.111Z"
   },
   {
    "duration": 73,
    "start_time": "2022-03-31T12:43:50.322Z"
   },
   {
    "duration": 29,
    "start_time": "2022-03-31T12:43:50.397Z"
   },
   {
    "duration": 51,
    "start_time": "2022-03-31T12:43:50.427Z"
   },
   {
    "duration": 15,
    "start_time": "2022-03-31T12:43:50.480Z"
   },
   {
    "duration": 13,
    "start_time": "2022-03-31T12:43:50.497Z"
   },
   {
    "duration": 34,
    "start_time": "2022-03-31T12:43:50.514Z"
   },
   {
    "duration": 31,
    "start_time": "2022-03-31T12:43:50.554Z"
   },
   {
    "duration": 307,
    "start_time": "2022-03-31T12:43:50.588Z"
   },
   {
    "duration": 26061,
    "start_time": "2022-03-31T12:43:50.898Z"
   },
   {
    "duration": 1298,
    "start_time": "2022-03-31T12:44:16.965Z"
   },
   {
    "duration": 143,
    "start_time": "2022-03-31T12:44:18.266Z"
   },
   {
    "duration": 212,
    "start_time": "2022-03-31T12:44:18.412Z"
   },
   {
    "duration": 17,
    "start_time": "2022-03-31T12:44:18.626Z"
   },
   {
    "duration": 2890,
    "start_time": "2022-03-31T12:44:18.645Z"
   },
   {
    "duration": 2690,
    "start_time": "2022-03-31T12:44:21.537Z"
   },
   {
    "duration": 1459,
    "start_time": "2022-03-31T12:44:24.229Z"
   },
   {
    "duration": 188,
    "start_time": "2022-03-31T12:44:25.690Z"
   },
   {
    "duration": 207,
    "start_time": "2022-03-31T12:44:25.880Z"
   },
   {
    "duration": 34,
    "start_time": "2022-03-31T12:44:26.089Z"
   },
   {
    "duration": 26,
    "start_time": "2022-03-31T12:44:26.144Z"
   },
   {
    "duration": 70,
    "start_time": "2022-04-01T17:52:13.290Z"
   },
   {
    "duration": 146,
    "start_time": "2022-04-01T17:52:19.970Z"
   },
   {
    "duration": 0,
    "start_time": "2022-04-01T17:52:20.120Z"
   },
   {
    "duration": 0,
    "start_time": "2022-04-01T17:52:20.122Z"
   },
   {
    "duration": 0,
    "start_time": "2022-04-01T17:52:20.124Z"
   },
   {
    "duration": 0,
    "start_time": "2022-04-01T17:52:20.126Z"
   },
   {
    "duration": 0,
    "start_time": "2022-04-01T17:52:20.128Z"
   },
   {
    "duration": 0,
    "start_time": "2022-04-01T17:52:20.130Z"
   },
   {
    "duration": 0,
    "start_time": "2022-04-01T17:52:20.132Z"
   },
   {
    "duration": 0,
    "start_time": "2022-04-01T17:52:20.133Z"
   },
   {
    "duration": 0,
    "start_time": "2022-04-01T17:52:20.135Z"
   },
   {
    "duration": 0,
    "start_time": "2022-04-01T17:52:20.137Z"
   },
   {
    "duration": 0,
    "start_time": "2022-04-01T17:52:20.139Z"
   },
   {
    "duration": 0,
    "start_time": "2022-04-01T17:52:20.140Z"
   },
   {
    "duration": 0,
    "start_time": "2022-04-01T17:52:20.142Z"
   },
   {
    "duration": 0,
    "start_time": "2022-04-01T17:52:20.144Z"
   },
   {
    "duration": 0,
    "start_time": "2022-04-01T17:52:20.145Z"
   },
   {
    "duration": 0,
    "start_time": "2022-04-01T17:52:20.147Z"
   },
   {
    "duration": 0,
    "start_time": "2022-04-01T17:52:20.149Z"
   },
   {
    "duration": 0,
    "start_time": "2022-04-01T17:52:20.151Z"
   },
   {
    "duration": 0,
    "start_time": "2022-04-01T17:52:20.153Z"
   },
   {
    "duration": 0,
    "start_time": "2022-04-01T17:52:20.154Z"
   },
   {
    "duration": 0,
    "start_time": "2022-04-01T17:52:20.156Z"
   },
   {
    "duration": 0,
    "start_time": "2022-04-01T17:52:20.174Z"
   },
   {
    "duration": 0,
    "start_time": "2022-04-01T17:52:20.176Z"
   },
   {
    "duration": 0,
    "start_time": "2022-04-01T17:52:20.178Z"
   },
   {
    "duration": 0,
    "start_time": "2022-04-01T17:52:20.180Z"
   },
   {
    "duration": 0,
    "start_time": "2022-04-01T17:52:20.182Z"
   },
   {
    "duration": 0,
    "start_time": "2022-04-01T17:52:20.183Z"
   },
   {
    "duration": 0,
    "start_time": "2022-04-01T17:52:20.185Z"
   },
   {
    "duration": 2263,
    "start_time": "2022-04-01T17:54:05.473Z"
   },
   {
    "duration": 61,
    "start_time": "2022-04-01T17:54:07.739Z"
   },
   {
    "duration": 7,
    "start_time": "2022-04-01T17:54:07.802Z"
   },
   {
    "duration": 7,
    "start_time": "2022-04-01T17:54:07.812Z"
   },
   {
    "duration": 24,
    "start_time": "2022-04-01T17:54:07.821Z"
   },
   {
    "duration": 54,
    "start_time": "2022-04-01T17:54:07.848Z"
   },
   {
    "duration": 8,
    "start_time": "2022-04-01T17:54:07.905Z"
   },
   {
    "duration": 88,
    "start_time": "2022-04-01T17:54:07.916Z"
   },
   {
    "duration": 201,
    "start_time": "2022-04-01T17:54:08.007Z"
   },
   {
    "duration": 33,
    "start_time": "2022-04-01T17:54:08.213Z"
   },
   {
    "duration": 37,
    "start_time": "2022-04-01T17:54:08.275Z"
   },
   {
    "duration": 21,
    "start_time": "2022-04-01T17:54:08.315Z"
   },
   {
    "duration": 39,
    "start_time": "2022-04-01T17:54:08.338Z"
   },
   {
    "duration": 19,
    "start_time": "2022-04-01T17:54:08.380Z"
   },
   {
    "duration": 9,
    "start_time": "2022-04-01T17:54:08.402Z"
   },
   {
    "duration": 10,
    "start_time": "2022-04-01T17:54:08.413Z"
   },
   {
    "duration": 338,
    "start_time": "2022-04-01T17:54:08.425Z"
   },
   {
    "duration": 27942,
    "start_time": "2022-04-01T17:54:08.765Z"
   },
   {
    "duration": 1070,
    "start_time": "2022-04-01T17:54:36.710Z"
   },
   {
    "duration": 171,
    "start_time": "2022-04-01T17:54:37.784Z"
   },
   {
    "duration": 267,
    "start_time": "2022-04-01T17:54:37.958Z"
   },
   {
    "duration": 9,
    "start_time": "2022-04-01T17:54:38.227Z"
   },
   {
    "duration": 3750,
    "start_time": "2022-04-01T17:54:38.239Z"
   },
   {
    "duration": 2858,
    "start_time": "2022-04-01T17:54:41.992Z"
   },
   {
    "duration": 1550,
    "start_time": "2022-04-01T17:54:44.853Z"
   },
   {
    "duration": 213,
    "start_time": "2022-04-01T17:54:46.406Z"
   },
   {
    "duration": 220,
    "start_time": "2022-04-01T17:54:46.622Z"
   },
   {
    "duration": 61,
    "start_time": "2022-04-01T17:54:46.847Z"
   },
   {
    "duration": 15,
    "start_time": "2022-04-01T17:54:46.910Z"
   },
   {
    "duration": 2156,
    "start_time": "2022-04-02T07:41:33.468Z"
   },
   {
    "duration": 64,
    "start_time": "2022-04-02T07:41:35.627Z"
   },
   {
    "duration": 6,
    "start_time": "2022-04-02T07:41:35.693Z"
   },
   {
    "duration": 5,
    "start_time": "2022-04-02T07:41:35.702Z"
   },
   {
    "duration": 21,
    "start_time": "2022-04-02T07:41:35.709Z"
   },
   {
    "duration": 24,
    "start_time": "2022-04-02T07:41:35.732Z"
   },
   {
    "duration": 7,
    "start_time": "2022-04-02T07:41:35.758Z"
   },
   {
    "duration": 81,
    "start_time": "2022-04-02T07:41:35.767Z"
   },
   {
    "duration": 185,
    "start_time": "2022-04-02T07:41:35.850Z"
   },
   {
    "duration": 33,
    "start_time": "2022-04-02T07:41:36.039Z"
   },
   {
    "duration": 30,
    "start_time": "2022-04-02T07:41:36.074Z"
   },
   {
    "duration": 55,
    "start_time": "2022-04-02T07:41:36.106Z"
   },
   {
    "duration": 8,
    "start_time": "2022-04-02T07:41:36.163Z"
   },
   {
    "duration": 10,
    "start_time": "2022-04-02T07:41:36.173Z"
   },
   {
    "duration": 7,
    "start_time": "2022-04-02T07:41:36.186Z"
   },
   {
    "duration": 50,
    "start_time": "2022-04-02T07:41:36.195Z"
   },
   {
    "duration": 268,
    "start_time": "2022-04-02T07:41:36.247Z"
   },
   {
    "duration": 21601,
    "start_time": "2022-04-02T07:41:36.517Z"
   },
   {
    "duration": 525,
    "start_time": "2022-04-02T07:41:58.120Z"
   },
   {
    "duration": 140,
    "start_time": "2022-04-02T07:41:58.648Z"
   },
   {
    "duration": 206,
    "start_time": "2022-04-02T07:41:58.790Z"
   },
   {
    "duration": 10,
    "start_time": "2022-04-02T07:41:58.999Z"
   },
   {
    "duration": 2604,
    "start_time": "2022-04-02T07:41:59.011Z"
   },
   {
    "duration": 2417,
    "start_time": "2022-04-02T07:42:01.617Z"
   },
   {
    "duration": 1343,
    "start_time": "2022-04-02T07:42:04.036Z"
   },
   {
    "duration": 176,
    "start_time": "2022-04-02T07:42:05.381Z"
   },
   {
    "duration": 179,
    "start_time": "2022-04-02T07:42:05.559Z"
   },
   {
    "duration": 32,
    "start_time": "2022-04-02T07:42:05.744Z"
   },
   {
    "duration": 13,
    "start_time": "2022-04-02T07:42:05.779Z"
   },
   {
    "duration": 6,
    "start_time": "2022-04-02T07:43:16.479Z"
   },
   {
    "duration": 15,
    "start_time": "2022-04-02T07:44:32.325Z"
   },
   {
    "duration": 60,
    "start_time": "2022-04-02T07:44:32.363Z"
   },
   {
    "duration": 5,
    "start_time": "2022-04-02T07:44:39.114Z"
   },
   {
    "duration": 62,
    "start_time": "2022-04-02T07:44:39.123Z"
   },
   {
    "duration": 7,
    "start_time": "2022-04-02T07:44:39.187Z"
   },
   {
    "duration": 4,
    "start_time": "2022-04-02T07:44:39.197Z"
   },
   {
    "duration": 19,
    "start_time": "2022-04-02T07:44:39.203Z"
   },
   {
    "duration": 17,
    "start_time": "2022-04-02T07:44:39.242Z"
   },
   {
    "duration": 24,
    "start_time": "2022-04-02T07:44:39.262Z"
   },
   {
    "duration": 97,
    "start_time": "2022-04-02T07:44:39.289Z"
   },
   {
    "duration": 22,
    "start_time": "2022-04-02T07:44:41.793Z"
   },
   {
    "duration": 266,
    "start_time": "2022-04-02T07:44:53.934Z"
   },
   {
    "duration": 12,
    "start_time": "2022-04-02T07:45:06.101Z"
   },
   {
    "duration": 14,
    "start_time": "2022-04-02T07:45:20.774Z"
   },
   {
    "duration": 60,
    "start_time": "2022-04-02T07:45:28.277Z"
   },
   {
    "duration": 213,
    "start_time": "2022-04-02T07:47:34.304Z"
   },
   {
    "duration": 254,
    "start_time": "2022-04-02T07:47:41.067Z"
   },
   {
    "duration": 220,
    "start_time": "2022-04-02T07:50:26.777Z"
   },
   {
    "duration": 1990,
    "start_time": "2022-04-02T07:55:59.821Z"
   },
   {
    "duration": 54,
    "start_time": "2022-04-02T07:56:01.814Z"
   },
   {
    "duration": 8,
    "start_time": "2022-04-02T07:56:01.871Z"
   },
   {
    "duration": 11,
    "start_time": "2022-04-02T07:56:01.881Z"
   },
   {
    "duration": 21,
    "start_time": "2022-04-02T07:56:01.896Z"
   },
   {
    "duration": 19,
    "start_time": "2022-04-02T07:56:01.944Z"
   },
   {
    "duration": 264,
    "start_time": "2022-04-02T07:56:01.966Z"
   },
   {
    "duration": 19,
    "start_time": "2022-04-02T07:56:02.233Z"
   },
   {
    "duration": 60,
    "start_time": "2022-04-02T07:56:02.256Z"
   },
   {
    "duration": 78,
    "start_time": "2022-04-02T07:56:02.318Z"
   },
   {
    "duration": 193,
    "start_time": "2022-04-02T07:56:02.399Z"
   },
   {
    "duration": 57,
    "start_time": "2022-04-02T07:56:02.594Z"
   },
   {
    "duration": 36,
    "start_time": "2022-04-02T07:56:02.653Z"
   },
   {
    "duration": 56,
    "start_time": "2022-04-02T07:56:02.695Z"
   },
   {
    "duration": 10,
    "start_time": "2022-04-02T07:56:02.753Z"
   },
   {
    "duration": 11,
    "start_time": "2022-04-02T07:56:02.766Z"
   },
   {
    "duration": 10,
    "start_time": "2022-04-02T07:56:02.779Z"
   },
   {
    "duration": 60,
    "start_time": "2022-04-02T07:56:02.792Z"
   },
   {
    "duration": 286,
    "start_time": "2022-04-02T07:56:02.854Z"
   },
   {
    "duration": 22679,
    "start_time": "2022-04-02T07:56:03.144Z"
   },
   {
    "duration": 626,
    "start_time": "2022-04-02T07:56:25.825Z"
   },
   {
    "duration": 141,
    "start_time": "2022-04-02T07:56:26.453Z"
   },
   {
    "duration": 216,
    "start_time": "2022-04-02T07:56:26.597Z"
   },
   {
    "duration": 9,
    "start_time": "2022-04-02T07:56:26.815Z"
   },
   {
    "duration": 2841,
    "start_time": "2022-04-02T07:56:26.826Z"
   },
   {
    "duration": 2716,
    "start_time": "2022-04-02T07:56:29.669Z"
   },
   {
    "duration": 1417,
    "start_time": "2022-04-02T07:56:32.388Z"
   },
   {
    "duration": 188,
    "start_time": "2022-04-02T07:56:33.807Z"
   },
   {
    "duration": 196,
    "start_time": "2022-04-02T07:56:33.997Z"
   },
   {
    "duration": 47,
    "start_time": "2022-04-02T07:56:34.196Z"
   },
   {
    "duration": 15,
    "start_time": "2022-04-02T07:56:34.245Z"
   },
   {
    "duration": 240,
    "start_time": "2022-04-02T08:00:03.413Z"
   },
   {
    "duration": 204,
    "start_time": "2022-04-02T08:00:17.777Z"
   },
   {
    "duration": 17,
    "start_time": "2022-04-02T08:00:37.538Z"
   },
   {
    "duration": 5,
    "start_time": "2022-04-02T08:01:03.902Z"
   },
   {
    "duration": 52,
    "start_time": "2022-04-02T08:01:03.910Z"
   },
   {
    "duration": 6,
    "start_time": "2022-04-02T08:01:03.965Z"
   },
   {
    "duration": 9,
    "start_time": "2022-04-02T08:01:03.975Z"
   },
   {
    "duration": 32,
    "start_time": "2022-04-02T08:01:03.986Z"
   },
   {
    "duration": 31,
    "start_time": "2022-04-02T08:01:04.020Z"
   },
   {
    "duration": 233,
    "start_time": "2022-04-02T08:01:04.054Z"
   },
   {
    "duration": 14,
    "start_time": "2022-04-02T08:01:04.290Z"
   },
   {
    "duration": 201,
    "start_time": "2022-04-02T08:01:08.169Z"
   },
   {
    "duration": 35,
    "start_time": "2022-04-02T08:01:18.810Z"
   },
   {
    "duration": 266,
    "start_time": "2022-04-02T08:01:43.201Z"
   },
   {
    "duration": 208,
    "start_time": "2022-04-02T08:01:59.033Z"
   },
   {
    "duration": 213,
    "start_time": "2022-04-02T08:02:29.906Z"
   },
   {
    "duration": 227,
    "start_time": "2022-04-02T08:02:39.352Z"
   },
   {
    "duration": 208,
    "start_time": "2022-04-02T08:03:41.742Z"
   },
   {
    "duration": 1877,
    "start_time": "2022-04-02T08:03:51.490Z"
   },
   {
    "duration": 53,
    "start_time": "2022-04-02T08:03:53.370Z"
   },
   {
    "duration": 6,
    "start_time": "2022-04-02T08:03:53.425Z"
   },
   {
    "duration": 10,
    "start_time": "2022-04-02T08:03:53.433Z"
   },
   {
    "duration": 23,
    "start_time": "2022-04-02T08:03:53.446Z"
   },
   {
    "duration": 15,
    "start_time": "2022-04-02T08:03:53.471Z"
   },
   {
    "duration": 270,
    "start_time": "2022-04-02T08:03:53.488Z"
   },
   {
    "duration": 14,
    "start_time": "2022-04-02T08:03:53.760Z"
   },
   {
    "duration": 204,
    "start_time": "2022-04-02T08:03:53.776Z"
   },
   {
    "duration": 0,
    "start_time": "2022-04-02T08:03:53.983Z"
   },
   {
    "duration": 0,
    "start_time": "2022-04-02T08:03:53.985Z"
   },
   {
    "duration": 0,
    "start_time": "2022-04-02T08:03:53.987Z"
   },
   {
    "duration": 0,
    "start_time": "2022-04-02T08:03:53.988Z"
   },
   {
    "duration": 0,
    "start_time": "2022-04-02T08:03:53.990Z"
   },
   {
    "duration": 0,
    "start_time": "2022-04-02T08:03:53.992Z"
   },
   {
    "duration": 0,
    "start_time": "2022-04-02T08:03:53.994Z"
   },
   {
    "duration": 0,
    "start_time": "2022-04-02T08:03:53.996Z"
   },
   {
    "duration": 0,
    "start_time": "2022-04-02T08:03:53.998Z"
   },
   {
    "duration": 0,
    "start_time": "2022-04-02T08:03:53.999Z"
   },
   {
    "duration": 0,
    "start_time": "2022-04-02T08:03:54.001Z"
   },
   {
    "duration": 0,
    "start_time": "2022-04-02T08:03:54.002Z"
   },
   {
    "duration": 0,
    "start_time": "2022-04-02T08:03:54.004Z"
   },
   {
    "duration": 0,
    "start_time": "2022-04-02T08:03:54.005Z"
   },
   {
    "duration": 0,
    "start_time": "2022-04-02T08:03:54.007Z"
   },
   {
    "duration": 0,
    "start_time": "2022-04-02T08:03:54.008Z"
   },
   {
    "duration": 0,
    "start_time": "2022-04-02T08:03:54.010Z"
   },
   {
    "duration": 0,
    "start_time": "2022-04-02T08:03:54.012Z"
   },
   {
    "duration": 0,
    "start_time": "2022-04-02T08:03:54.013Z"
   },
   {
    "duration": 0,
    "start_time": "2022-04-02T08:03:54.015Z"
   },
   {
    "duration": 0,
    "start_time": "2022-04-02T08:03:54.016Z"
   },
   {
    "duration": 0,
    "start_time": "2022-04-02T08:03:54.018Z"
   },
   {
    "duration": 0,
    "start_time": "2022-04-02T08:03:54.020Z"
   },
   {
    "duration": 210,
    "start_time": "2022-04-02T08:05:47.595Z"
   },
   {
    "duration": 23,
    "start_time": "2022-04-02T08:06:47.003Z"
   },
   {
    "duration": 19,
    "start_time": "2022-04-02T08:07:02.843Z"
   },
   {
    "duration": 18,
    "start_time": "2022-04-02T08:07:14.683Z"
   },
   {
    "duration": 18,
    "start_time": "2022-04-02T08:07:20.723Z"
   },
   {
    "duration": 19,
    "start_time": "2022-04-02T08:08:06.570Z"
   },
   {
    "duration": 11,
    "start_time": "2022-04-02T08:09:17.835Z"
   },
   {
    "duration": 32,
    "start_time": "2022-04-02T08:09:23.722Z"
   },
   {
    "duration": 41,
    "start_time": "2022-04-02T08:09:35.916Z"
   },
   {
    "duration": 59,
    "start_time": "2022-04-02T08:10:01.236Z"
   },
   {
    "duration": 1930,
    "start_time": "2022-04-02T08:12:10.333Z"
   },
   {
    "duration": 63,
    "start_time": "2022-04-02T08:12:12.266Z"
   },
   {
    "duration": 6,
    "start_time": "2022-04-02T08:12:12.331Z"
   },
   {
    "duration": 7,
    "start_time": "2022-04-02T08:12:12.339Z"
   },
   {
    "duration": 19,
    "start_time": "2022-04-02T08:12:12.348Z"
   },
   {
    "duration": 16,
    "start_time": "2022-04-02T08:12:12.369Z"
   },
   {
    "duration": 78,
    "start_time": "2022-04-02T08:12:12.387Z"
   },
   {
    "duration": 179,
    "start_time": "2022-04-02T08:12:12.467Z"
   },
   {
    "duration": 33,
    "start_time": "2022-04-02T08:12:12.648Z"
   },
   {
    "duration": 66,
    "start_time": "2022-04-02T08:12:12.685Z"
   },
   {
    "duration": 21,
    "start_time": "2022-04-02T08:12:12.753Z"
   },
   {
    "duration": 9,
    "start_time": "2022-04-02T08:12:12.776Z"
   },
   {
    "duration": 11,
    "start_time": "2022-04-02T08:12:12.788Z"
   },
   {
    "duration": 46,
    "start_time": "2022-04-02T08:12:12.801Z"
   },
   {
    "duration": 11,
    "start_time": "2022-04-02T08:12:12.850Z"
   },
   {
    "duration": 389,
    "start_time": "2022-04-02T08:12:12.864Z"
   },
   {
    "duration": 22037,
    "start_time": "2022-04-02T08:12:13.256Z"
   },
   {
    "duration": 655,
    "start_time": "2022-04-02T08:12:35.295Z"
   },
   {
    "duration": 228,
    "start_time": "2022-04-02T08:12:35.953Z"
   },
   {
    "duration": 205,
    "start_time": "2022-04-02T08:12:36.183Z"
   },
   {
    "duration": 9,
    "start_time": "2022-04-02T08:12:36.391Z"
   },
   {
    "duration": 2565,
    "start_time": "2022-04-02T08:12:36.402Z"
   },
   {
    "duration": 2401,
    "start_time": "2022-04-02T08:12:38.969Z"
   },
   {
    "duration": 1312,
    "start_time": "2022-04-02T08:12:41.373Z"
   },
   {
    "duration": 180,
    "start_time": "2022-04-02T08:12:42.687Z"
   },
   {
    "duration": 187,
    "start_time": "2022-04-02T08:12:42.870Z"
   },
   {
    "duration": 32,
    "start_time": "2022-04-02T08:12:43.060Z"
   },
   {
    "duration": 14,
    "start_time": "2022-04-02T08:12:43.096Z"
   },
   {
    "duration": 31,
    "start_time": "2022-04-02T08:29:32.812Z"
   },
   {
    "duration": 50,
    "start_time": "2022-04-02T08:29:32.845Z"
   },
   {
    "duration": 6,
    "start_time": "2022-04-02T08:29:32.897Z"
   },
   {
    "duration": 10,
    "start_time": "2022-04-02T08:29:32.905Z"
   },
   {
    "duration": 32,
    "start_time": "2022-04-02T08:29:32.917Z"
   },
   {
    "duration": 15,
    "start_time": "2022-04-02T08:29:32.951Z"
   },
   {
    "duration": 75,
    "start_time": "2022-04-02T08:29:32.969Z"
   },
   {
    "duration": 169,
    "start_time": "2022-04-02T08:29:33.046Z"
   },
   {
    "duration": 45,
    "start_time": "2022-04-02T08:29:33.217Z"
   },
   {
    "duration": 29,
    "start_time": "2022-04-02T08:29:33.264Z"
   },
   {
    "duration": 52,
    "start_time": "2022-04-02T08:29:33.296Z"
   },
   {
    "duration": 10,
    "start_time": "2022-04-02T08:29:33.350Z"
   },
   {
    "duration": 11,
    "start_time": "2022-04-02T08:29:33.363Z"
   },
   {
    "duration": 10,
    "start_time": "2022-04-02T08:29:33.376Z"
   },
   {
    "duration": 64,
    "start_time": "2022-04-02T08:29:33.388Z"
   },
   {
    "duration": 284,
    "start_time": "2022-04-02T08:29:33.454Z"
   },
   {
    "duration": 23425,
    "start_time": "2022-04-02T08:29:33.744Z"
   },
   {
    "duration": 681,
    "start_time": "2022-04-02T08:29:57.171Z"
   },
   {
    "duration": 146,
    "start_time": "2022-04-02T08:29:57.945Z"
   },
   {
    "duration": 222,
    "start_time": "2022-04-02T08:29:58.094Z"
   },
   {
    "duration": 24,
    "start_time": "2022-04-02T08:29:58.319Z"
   },
   {
    "duration": 2785,
    "start_time": "2022-04-02T08:29:58.345Z"
   },
   {
    "duration": 2746,
    "start_time": "2022-04-02T08:30:01.133Z"
   },
   {
    "duration": 1433,
    "start_time": "2022-04-02T08:30:03.881Z"
   },
   {
    "duration": 206,
    "start_time": "2022-04-02T08:30:05.316Z"
   },
   {
    "duration": 206,
    "start_time": "2022-04-02T08:30:05.525Z"
   },
   {
    "duration": 40,
    "start_time": "2022-04-02T08:30:05.733Z"
   },
   {
    "duration": 14,
    "start_time": "2022-04-02T08:30:05.776Z"
   },
   {
    "duration": 2388,
    "start_time": "2022-04-02T08:35:53.130Z"
   },
   {
    "duration": 57,
    "start_time": "2022-04-02T08:35:55.520Z"
   },
   {
    "duration": 6,
    "start_time": "2022-04-02T08:35:55.580Z"
   },
   {
    "duration": 4,
    "start_time": "2022-04-02T08:35:55.589Z"
   },
   {
    "duration": 20,
    "start_time": "2022-04-02T08:35:55.597Z"
   },
   {
    "duration": 17,
    "start_time": "2022-04-02T08:35:55.643Z"
   },
   {
    "duration": 57,
    "start_time": "2022-04-02T08:35:55.662Z"
   },
   {
    "duration": 210,
    "start_time": "2022-04-02T08:35:55.721Z"
   },
   {
    "duration": 41,
    "start_time": "2022-04-02T08:35:55.933Z"
   },
   {
    "duration": 69,
    "start_time": "2022-04-02T08:35:55.976Z"
   },
   {
    "duration": 22,
    "start_time": "2022-04-02T08:35:56.047Z"
   },
   {
    "duration": 9,
    "start_time": "2022-04-02T08:35:56.071Z"
   },
   {
    "duration": 13,
    "start_time": "2022-04-02T08:35:56.082Z"
   },
   {
    "duration": 49,
    "start_time": "2022-04-02T08:35:56.099Z"
   },
   {
    "duration": 10,
    "start_time": "2022-04-02T08:35:56.151Z"
   },
   {
    "duration": 285,
    "start_time": "2022-04-02T08:35:56.164Z"
   },
   {
    "duration": 22822,
    "start_time": "2022-04-02T08:35:56.451Z"
   },
   {
    "duration": 1373,
    "start_time": "2022-04-02T08:36:19.275Z"
   },
   {
    "duration": 137,
    "start_time": "2022-04-02T08:36:20.652Z"
   },
   {
    "duration": 208,
    "start_time": "2022-04-02T08:36:20.792Z"
   },
   {
    "duration": 8,
    "start_time": "2022-04-02T08:36:21.002Z"
   },
   {
    "duration": 2675,
    "start_time": "2022-04-02T08:36:21.012Z"
   },
   {
    "duration": 2507,
    "start_time": "2022-04-02T08:36:23.690Z"
   },
   {
    "duration": 1395,
    "start_time": "2022-04-02T08:36:26.199Z"
   },
   {
    "duration": 182,
    "start_time": "2022-04-02T08:36:27.596Z"
   },
   {
    "duration": 191,
    "start_time": "2022-04-02T08:36:27.781Z"
   },
   {
    "duration": 33,
    "start_time": "2022-04-02T08:36:27.974Z"
   },
   {
    "duration": 35,
    "start_time": "2022-04-02T08:36:28.010Z"
   },
   {
    "duration": 2027,
    "start_time": "2022-04-02T08:42:49.873Z"
   },
   {
    "duration": 64,
    "start_time": "2022-04-02T08:42:51.902Z"
   },
   {
    "duration": 6,
    "start_time": "2022-04-02T08:42:51.968Z"
   },
   {
    "duration": 5,
    "start_time": "2022-04-02T08:42:51.977Z"
   },
   {
    "duration": 24,
    "start_time": "2022-04-02T08:42:51.984Z"
   },
   {
    "duration": 45,
    "start_time": "2022-04-02T08:42:52.009Z"
   },
   {
    "duration": 57,
    "start_time": "2022-04-02T08:42:52.056Z"
   },
   {
    "duration": 211,
    "start_time": "2022-04-02T08:42:52.115Z"
   },
   {
    "duration": 46,
    "start_time": "2022-04-02T08:42:52.328Z"
   },
   {
    "duration": 67,
    "start_time": "2022-04-02T08:42:52.378Z"
   },
   {
    "duration": 23,
    "start_time": "2022-04-02T08:42:52.447Z"
   },
   {
    "duration": 7,
    "start_time": "2022-04-02T08:42:52.473Z"
   },
   {
    "duration": 7,
    "start_time": "2022-04-02T08:42:52.483Z"
   },
   {
    "duration": 0,
    "start_time": "2022-04-02T08:42:52.493Z"
   },
   {
    "duration": 0,
    "start_time": "2022-04-02T08:42:52.494Z"
   },
   {
    "duration": 0,
    "start_time": "2022-04-02T08:42:52.496Z"
   },
   {
    "duration": 0,
    "start_time": "2022-04-02T08:42:52.498Z"
   },
   {
    "duration": 0,
    "start_time": "2022-04-02T08:42:52.544Z"
   },
   {
    "duration": 0,
    "start_time": "2022-04-02T08:42:52.545Z"
   },
   {
    "duration": 0,
    "start_time": "2022-04-02T08:42:52.548Z"
   },
   {
    "duration": 0,
    "start_time": "2022-04-02T08:42:52.549Z"
   },
   {
    "duration": 0,
    "start_time": "2022-04-02T08:42:52.550Z"
   },
   {
    "duration": 0,
    "start_time": "2022-04-02T08:42:52.552Z"
   },
   {
    "duration": 0,
    "start_time": "2022-04-02T08:42:52.554Z"
   },
   {
    "duration": 1,
    "start_time": "2022-04-02T08:42:52.555Z"
   },
   {
    "duration": 0,
    "start_time": "2022-04-02T08:42:52.557Z"
   },
   {
    "duration": 0,
    "start_time": "2022-04-02T08:42:52.559Z"
   },
   {
    "duration": 0,
    "start_time": "2022-04-02T08:42:52.561Z"
   },
   {
    "duration": 2641,
    "start_time": "2022-04-02T08:45:06.041Z"
   },
   {
    "duration": 55,
    "start_time": "2022-04-02T08:45:08.685Z"
   },
   {
    "duration": 7,
    "start_time": "2022-04-02T08:45:08.742Z"
   },
   {
    "duration": 15,
    "start_time": "2022-04-02T08:45:08.752Z"
   },
   {
    "duration": 36,
    "start_time": "2022-04-02T08:45:08.769Z"
   },
   {
    "duration": 21,
    "start_time": "2022-04-02T08:45:08.807Z"
   },
   {
    "duration": 74,
    "start_time": "2022-04-02T08:45:08.830Z"
   },
   {
    "duration": 204,
    "start_time": "2022-04-02T08:45:08.907Z"
   },
   {
    "duration": 49,
    "start_time": "2022-04-02T08:45:09.114Z"
   },
   {
    "duration": 31,
    "start_time": "2022-04-02T08:45:09.167Z"
   },
   {
    "duration": 54,
    "start_time": "2022-04-02T08:45:09.200Z"
   },
   {
    "duration": 8,
    "start_time": "2022-04-02T08:45:09.256Z"
   },
   {
    "duration": 14,
    "start_time": "2022-04-02T08:45:09.266Z"
   },
   {
    "duration": 192,
    "start_time": "2022-04-02T08:45:09.282Z"
   },
   {
    "duration": 0,
    "start_time": "2022-04-02T08:45:09.476Z"
   },
   {
    "duration": 0,
    "start_time": "2022-04-02T08:45:09.478Z"
   },
   {
    "duration": 0,
    "start_time": "2022-04-02T08:45:09.479Z"
   },
   {
    "duration": 0,
    "start_time": "2022-04-02T08:45:09.480Z"
   },
   {
    "duration": 0,
    "start_time": "2022-04-02T08:45:09.481Z"
   },
   {
    "duration": 0,
    "start_time": "2022-04-02T08:45:09.483Z"
   },
   {
    "duration": 0,
    "start_time": "2022-04-02T08:45:09.484Z"
   },
   {
    "duration": 0,
    "start_time": "2022-04-02T08:45:09.485Z"
   },
   {
    "duration": 0,
    "start_time": "2022-04-02T08:45:09.487Z"
   },
   {
    "duration": 0,
    "start_time": "2022-04-02T08:45:09.488Z"
   },
   {
    "duration": 0,
    "start_time": "2022-04-02T08:45:09.489Z"
   },
   {
    "duration": 0,
    "start_time": "2022-04-02T08:45:09.490Z"
   },
   {
    "duration": 0,
    "start_time": "2022-04-02T08:45:09.491Z"
   },
   {
    "duration": 0,
    "start_time": "2022-04-02T08:45:09.493Z"
   },
   {
    "duration": 27,
    "start_time": "2022-04-02T08:48:44.659Z"
   },
   {
    "duration": 18,
    "start_time": "2022-04-02T08:49:52.409Z"
   },
   {
    "duration": 8,
    "start_time": "2022-04-02T08:50:06.388Z"
   },
   {
    "duration": 1969,
    "start_time": "2022-04-02T08:50:12.703Z"
   },
   {
    "duration": 53,
    "start_time": "2022-04-02T08:50:14.674Z"
   },
   {
    "duration": 7,
    "start_time": "2022-04-02T08:50:14.729Z"
   },
   {
    "duration": 5,
    "start_time": "2022-04-02T08:50:14.744Z"
   },
   {
    "duration": 19,
    "start_time": "2022-04-02T08:50:14.751Z"
   },
   {
    "duration": 17,
    "start_time": "2022-04-02T08:50:14.772Z"
   },
   {
    "duration": 92,
    "start_time": "2022-04-02T08:50:14.792Z"
   },
   {
    "duration": 190,
    "start_time": "2022-04-02T08:50:14.886Z"
   },
   {
    "duration": 33,
    "start_time": "2022-04-02T08:50:15.078Z"
   },
   {
    "duration": 31,
    "start_time": "2022-04-02T08:50:15.142Z"
   },
   {
    "duration": 20,
    "start_time": "2022-04-02T08:50:15.175Z"
   },
   {
    "duration": 8,
    "start_time": "2022-04-02T08:50:15.196Z"
   },
   {
    "duration": 45,
    "start_time": "2022-04-02T08:50:15.206Z"
   },
   {
    "duration": 8,
    "start_time": "2022-04-02T08:50:15.253Z"
   },
   {
    "duration": 9,
    "start_time": "2022-04-02T08:50:15.263Z"
   },
   {
    "duration": 290,
    "start_time": "2022-04-02T08:50:15.274Z"
   },
   {
    "duration": 22212,
    "start_time": "2022-04-02T08:50:15.566Z"
   },
   {
    "duration": 670,
    "start_time": "2022-04-02T08:50:37.780Z"
   },
   {
    "duration": 231,
    "start_time": "2022-04-02T08:50:38.453Z"
   },
   {
    "duration": 201,
    "start_time": "2022-04-02T08:50:38.687Z"
   },
   {
    "duration": 8,
    "start_time": "2022-04-02T08:50:38.890Z"
   },
   {
    "duration": 2635,
    "start_time": "2022-04-02T08:50:38.900Z"
   },
   {
    "duration": 2482,
    "start_time": "2022-04-02T08:50:41.537Z"
   },
   {
    "duration": 1540,
    "start_time": "2022-04-02T08:50:44.022Z"
   },
   {
    "duration": 202,
    "start_time": "2022-04-02T08:50:45.565Z"
   },
   {
    "duration": 201,
    "start_time": "2022-04-02T08:50:45.770Z"
   },
   {
    "duration": 35,
    "start_time": "2022-04-02T08:50:45.973Z"
   },
   {
    "duration": 42,
    "start_time": "2022-04-02T08:50:46.012Z"
   },
   {
    "duration": 160,
    "start_time": "2022-04-02T08:54:18.756Z"
   },
   {
    "duration": 9,
    "start_time": "2022-04-02T08:54:37.445Z"
   },
   {
    "duration": 28,
    "start_time": "2022-04-02T08:59:10.222Z"
   },
   {
    "duration": 16,
    "start_time": "2022-04-02T08:59:18.768Z"
   },
   {
    "duration": 24,
    "start_time": "2022-04-02T09:12:21.845Z"
   },
   {
    "duration": 12,
    "start_time": "2022-04-02T09:14:25.250Z"
   },
   {
    "duration": 19,
    "start_time": "2022-04-02T09:15:07.466Z"
   },
   {
    "duration": 17,
    "start_time": "2022-04-02T09:18:23.262Z"
   },
   {
    "duration": 19,
    "start_time": "2022-04-02T09:21:25.910Z"
   },
   {
    "duration": 1889,
    "start_time": "2022-04-02T09:28:21.565Z"
   },
   {
    "duration": 66,
    "start_time": "2022-04-02T09:28:23.457Z"
   },
   {
    "duration": 6,
    "start_time": "2022-04-02T09:28:23.526Z"
   },
   {
    "duration": 9,
    "start_time": "2022-04-02T09:28:23.534Z"
   },
   {
    "duration": 18,
    "start_time": "2022-04-02T09:28:23.546Z"
   },
   {
    "duration": 16,
    "start_time": "2022-04-02T09:28:23.566Z"
   },
   {
    "duration": 88,
    "start_time": "2022-04-02T09:28:23.585Z"
   },
   {
    "duration": 185,
    "start_time": "2022-04-02T09:28:23.675Z"
   },
   {
    "duration": 35,
    "start_time": "2022-04-02T09:28:23.862Z"
   },
   {
    "duration": 69,
    "start_time": "2022-04-02T09:28:23.899Z"
   },
   {
    "duration": 21,
    "start_time": "2022-04-02T09:28:23.970Z"
   },
   {
    "duration": 8,
    "start_time": "2022-04-02T09:28:23.993Z"
   },
   {
    "duration": 47,
    "start_time": "2022-04-02T09:28:24.003Z"
   },
   {
    "duration": 17,
    "start_time": "2022-04-02T09:28:24.054Z"
   },
   {
    "duration": 11,
    "start_time": "2022-04-02T09:28:24.073Z"
   },
   {
    "duration": 10,
    "start_time": "2022-04-02T09:28:24.087Z"
   },
   {
    "duration": 310,
    "start_time": "2022-04-02T09:28:24.099Z"
   },
   {
    "duration": 23606,
    "start_time": "2022-04-02T09:28:24.412Z"
   },
   {
    "duration": 731,
    "start_time": "2022-04-02T09:28:48.020Z"
   },
   {
    "duration": 148,
    "start_time": "2022-04-02T09:28:48.844Z"
   },
   {
    "duration": 213,
    "start_time": "2022-04-02T09:28:48.995Z"
   },
   {
    "duration": 8,
    "start_time": "2022-04-02T09:28:49.210Z"
   },
   {
    "duration": 2873,
    "start_time": "2022-04-02T09:28:49.220Z"
   },
   {
    "duration": 2880,
    "start_time": "2022-04-02T09:28:52.096Z"
   },
   {
    "duration": 1395,
    "start_time": "2022-04-02T09:28:54.978Z"
   },
   {
    "duration": 199,
    "start_time": "2022-04-02T09:28:56.375Z"
   },
   {
    "duration": 206,
    "start_time": "2022-04-02T09:28:56.576Z"
   },
   {
    "duration": 34,
    "start_time": "2022-04-02T09:28:56.784Z"
   },
   {
    "duration": 32,
    "start_time": "2022-04-02T09:28:56.820Z"
   },
   {
    "duration": 2046,
    "start_time": "2022-04-02T09:30:32.855Z"
   },
   {
    "duration": 55,
    "start_time": "2022-04-02T09:30:34.904Z"
   },
   {
    "duration": 6,
    "start_time": "2022-04-02T09:30:34.961Z"
   },
   {
    "duration": 11,
    "start_time": "2022-04-02T09:30:34.970Z"
   },
   {
    "duration": 31,
    "start_time": "2022-04-02T09:30:34.985Z"
   },
   {
    "duration": 39,
    "start_time": "2022-04-02T09:30:35.019Z"
   },
   {
    "duration": 61,
    "start_time": "2022-04-02T09:30:35.061Z"
   },
   {
    "duration": 209,
    "start_time": "2022-04-02T09:30:35.124Z"
   },
   {
    "duration": 40,
    "start_time": "2022-04-02T09:30:35.336Z"
   },
   {
    "duration": 72,
    "start_time": "2022-04-02T09:30:35.378Z"
   },
   {
    "duration": 20,
    "start_time": "2022-04-02T09:30:35.452Z"
   },
   {
    "duration": 8,
    "start_time": "2022-04-02T09:30:35.474Z"
   },
   {
    "duration": 12,
    "start_time": "2022-04-02T09:30:35.485Z"
   },
   {
    "duration": 198,
    "start_time": "2022-04-02T09:30:35.500Z"
   },
   {
    "duration": 0,
    "start_time": "2022-04-02T09:30:35.700Z"
   },
   {
    "duration": 0,
    "start_time": "2022-04-02T09:30:35.702Z"
   },
   {
    "duration": 0,
    "start_time": "2022-04-02T09:30:35.704Z"
   },
   {
    "duration": 0,
    "start_time": "2022-04-02T09:30:35.706Z"
   },
   {
    "duration": 0,
    "start_time": "2022-04-02T09:30:35.707Z"
   },
   {
    "duration": 0,
    "start_time": "2022-04-02T09:30:35.708Z"
   },
   {
    "duration": 0,
    "start_time": "2022-04-02T09:30:35.710Z"
   },
   {
    "duration": 0,
    "start_time": "2022-04-02T09:30:35.711Z"
   },
   {
    "duration": 0,
    "start_time": "2022-04-02T09:30:35.713Z"
   },
   {
    "duration": 0,
    "start_time": "2022-04-02T09:30:35.743Z"
   },
   {
    "duration": 0,
    "start_time": "2022-04-02T09:30:35.744Z"
   },
   {
    "duration": 0,
    "start_time": "2022-04-02T09:30:35.746Z"
   },
   {
    "duration": 0,
    "start_time": "2022-04-02T09:30:35.747Z"
   },
   {
    "duration": 0,
    "start_time": "2022-04-02T09:30:35.748Z"
   },
   {
    "duration": 18,
    "start_time": "2022-04-02T09:31:27.738Z"
   },
   {
    "duration": 18,
    "start_time": "2022-04-02T09:31:50.548Z"
   },
   {
    "duration": 18,
    "start_time": "2022-04-02T09:31:59.373Z"
   },
   {
    "duration": 19,
    "start_time": "2022-04-02T09:32:12.584Z"
   },
   {
    "duration": 19,
    "start_time": "2022-04-02T09:32:41.230Z"
   },
   {
    "duration": 8,
    "start_time": "2022-04-02T09:32:53.879Z"
   },
   {
    "duration": 2325,
    "start_time": "2022-04-02T09:33:15.181Z"
   },
   {
    "duration": 55,
    "start_time": "2022-04-02T09:33:17.508Z"
   },
   {
    "duration": 6,
    "start_time": "2022-04-02T09:33:17.565Z"
   },
   {
    "duration": 16,
    "start_time": "2022-04-02T09:33:17.573Z"
   },
   {
    "duration": 30,
    "start_time": "2022-04-02T09:33:17.591Z"
   },
   {
    "duration": 28,
    "start_time": "2022-04-02T09:33:17.623Z"
   },
   {
    "duration": 56,
    "start_time": "2022-04-02T09:33:17.653Z"
   },
   {
    "duration": 201,
    "start_time": "2022-04-02T09:33:17.711Z"
   },
   {
    "duration": 44,
    "start_time": "2022-04-02T09:33:17.914Z"
   },
   {
    "duration": 31,
    "start_time": "2022-04-02T09:33:17.960Z"
   },
   {
    "duration": 50,
    "start_time": "2022-04-02T09:33:17.993Z"
   },
   {
    "duration": 9,
    "start_time": "2022-04-02T09:33:18.045Z"
   },
   {
    "duration": 10,
    "start_time": "2022-04-02T09:33:18.056Z"
   },
   {
    "duration": 8,
    "start_time": "2022-04-02T09:33:18.070Z"
   },
   {
    "duration": 11,
    "start_time": "2022-04-02T09:33:18.081Z"
   },
   {
    "duration": 330,
    "start_time": "2022-04-02T09:33:18.094Z"
   },
   {
    "duration": 24817,
    "start_time": "2022-04-02T09:33:18.427Z"
   },
   {
    "duration": 799,
    "start_time": "2022-04-02T09:33:43.246Z"
   },
   {
    "duration": 142,
    "start_time": "2022-04-02T09:33:44.049Z"
   },
   {
    "duration": 216,
    "start_time": "2022-04-02T09:33:44.193Z"
   },
   {
    "duration": 8,
    "start_time": "2022-04-02T09:33:44.411Z"
   },
   {
    "duration": 2833,
    "start_time": "2022-04-02T09:33:44.421Z"
   },
   {
    "duration": 2645,
    "start_time": "2022-04-02T09:33:47.256Z"
   },
   {
    "duration": 1430,
    "start_time": "2022-04-02T09:33:49.904Z"
   },
   {
    "duration": 198,
    "start_time": "2022-04-02T09:33:51.337Z"
   },
   {
    "duration": 210,
    "start_time": "2022-04-02T09:33:51.538Z"
   },
   {
    "duration": 36,
    "start_time": "2022-04-02T09:33:51.751Z"
   },
   {
    "duration": 16,
    "start_time": "2022-04-02T09:33:51.789Z"
   },
   {
    "duration": 192,
    "start_time": "2022-04-02T09:35:28.184Z"
   },
   {
    "duration": 19,
    "start_time": "2022-04-02T09:36:25.544Z"
   },
   {
    "duration": 12,
    "start_time": "2022-04-02T09:37:30.771Z"
   },
   {
    "duration": 16,
    "start_time": "2022-04-02T09:38:08.354Z"
   },
   {
    "duration": 203,
    "start_time": "2022-04-02T09:39:17.140Z"
   },
   {
    "duration": 223,
    "start_time": "2022-04-02T09:39:30.629Z"
   },
   {
    "duration": 18,
    "start_time": "2022-04-02T09:39:39.114Z"
   },
   {
    "duration": 20,
    "start_time": "2022-04-02T09:40:33.283Z"
   },
   {
    "duration": 15,
    "start_time": "2022-04-02T09:41:18.081Z"
   },
   {
    "duration": 19,
    "start_time": "2022-04-02T09:41:23.797Z"
   },
   {
    "duration": 5,
    "start_time": "2022-04-02T09:41:27.162Z"
   },
   {
    "duration": 57,
    "start_time": "2022-04-02T09:41:27.170Z"
   },
   {
    "duration": 6,
    "start_time": "2022-04-02T09:41:27.229Z"
   },
   {
    "duration": 10,
    "start_time": "2022-04-02T09:41:27.238Z"
   },
   {
    "duration": 23,
    "start_time": "2022-04-02T09:41:27.251Z"
   },
   {
    "duration": 15,
    "start_time": "2022-04-02T09:41:27.276Z"
   },
   {
    "duration": 75,
    "start_time": "2022-04-02T09:41:27.293Z"
   },
   {
    "duration": 180,
    "start_time": "2022-04-02T09:41:27.370Z"
   },
   {
    "duration": 33,
    "start_time": "2022-04-02T09:41:27.552Z"
   },
   {
    "duration": 61,
    "start_time": "2022-04-02T09:41:27.589Z"
   },
   {
    "duration": 18,
    "start_time": "2022-04-02T09:41:27.653Z"
   },
   {
    "duration": 17,
    "start_time": "2022-04-02T09:41:27.674Z"
   },
   {
    "duration": 32,
    "start_time": "2022-04-02T09:41:27.693Z"
   },
   {
    "duration": 36,
    "start_time": "2022-04-02T09:41:27.728Z"
   },
   {
    "duration": 19,
    "start_time": "2022-04-02T09:41:29.725Z"
   },
   {
    "duration": 2078,
    "start_time": "2022-04-02T09:46:19.125Z"
   },
   {
    "duration": 66,
    "start_time": "2022-04-02T09:46:21.206Z"
   },
   {
    "duration": 7,
    "start_time": "2022-04-02T09:46:21.274Z"
   },
   {
    "duration": 5,
    "start_time": "2022-04-02T09:46:21.284Z"
   },
   {
    "duration": 23,
    "start_time": "2022-04-02T09:46:21.291Z"
   },
   {
    "duration": 19,
    "start_time": "2022-04-02T09:46:21.343Z"
   },
   {
    "duration": 81,
    "start_time": "2022-04-02T09:46:21.364Z"
   },
   {
    "duration": 184,
    "start_time": "2022-04-02T09:46:21.447Z"
   },
   {
    "duration": 44,
    "start_time": "2022-04-02T09:46:21.634Z"
   },
   {
    "duration": 69,
    "start_time": "2022-04-02T09:46:21.684Z"
   },
   {
    "duration": 24,
    "start_time": "2022-04-02T09:46:21.756Z"
   },
   {
    "duration": 11,
    "start_time": "2022-04-02T09:46:21.782Z"
   },
   {
    "duration": 49,
    "start_time": "2022-04-02T09:46:21.795Z"
   },
   {
    "duration": 9,
    "start_time": "2022-04-02T09:46:21.846Z"
   },
   {
    "duration": 10,
    "start_time": "2022-04-02T09:46:21.858Z"
   },
   {
    "duration": 317,
    "start_time": "2022-04-02T09:46:21.871Z"
   },
   {
    "duration": 24260,
    "start_time": "2022-04-02T09:46:22.190Z"
   },
   {
    "duration": 498,
    "start_time": "2022-04-02T09:46:46.453Z"
   },
   {
    "duration": 230,
    "start_time": "2022-04-02T09:46:46.954Z"
   },
   {
    "duration": 214,
    "start_time": "2022-04-02T09:46:47.186Z"
   },
   {
    "duration": 9,
    "start_time": "2022-04-02T09:46:47.402Z"
   },
   {
    "duration": 2864,
    "start_time": "2022-04-02T09:46:47.413Z"
   },
   {
    "duration": 2669,
    "start_time": "2022-04-02T09:46:50.279Z"
   },
   {
    "duration": 1437,
    "start_time": "2022-04-02T09:46:52.950Z"
   },
   {
    "duration": 200,
    "start_time": "2022-04-02T09:46:54.390Z"
   },
   {
    "duration": 208,
    "start_time": "2022-04-02T09:46:54.593Z"
   },
   {
    "duration": 51,
    "start_time": "2022-04-02T09:46:54.804Z"
   },
   {
    "duration": 16,
    "start_time": "2022-04-02T09:46:54.859Z"
   },
   {
    "duration": 1966,
    "start_time": "2022-04-02T09:47:39.205Z"
   },
   {
    "duration": 53,
    "start_time": "2022-04-02T09:47:41.173Z"
   },
   {
    "duration": 6,
    "start_time": "2022-04-02T09:47:41.228Z"
   },
   {
    "duration": 5,
    "start_time": "2022-04-02T09:47:41.243Z"
   },
   {
    "duration": 20,
    "start_time": "2022-04-02T09:47:41.251Z"
   },
   {
    "duration": 16,
    "start_time": "2022-04-02T09:47:41.273Z"
   },
   {
    "duration": 95,
    "start_time": "2022-04-02T09:47:41.291Z"
   },
   {
    "duration": 179,
    "start_time": "2022-04-02T09:47:41.388Z"
   },
   {
    "duration": 33,
    "start_time": "2022-04-02T09:47:41.569Z"
   },
   {
    "duration": 61,
    "start_time": "2022-04-02T09:47:41.604Z"
   },
   {
    "duration": 20,
    "start_time": "2022-04-02T09:47:41.667Z"
   },
   {
    "duration": 8,
    "start_time": "2022-04-02T09:47:41.689Z"
   },
   {
    "duration": 13,
    "start_time": "2022-04-02T09:47:41.699Z"
   },
   {
    "duration": 9,
    "start_time": "2022-04-02T09:47:41.746Z"
   },
   {
    "duration": 10,
    "start_time": "2022-04-02T09:47:41.758Z"
   },
   {
    "duration": 298,
    "start_time": "2022-04-02T09:47:41.771Z"
   },
   {
    "duration": 22199,
    "start_time": "2022-04-02T09:47:42.072Z"
   },
   {
    "duration": 778,
    "start_time": "2022-04-02T09:48:04.273Z"
   },
   {
    "duration": 106,
    "start_time": "2022-04-02T09:48:05.143Z"
   },
   {
    "duration": 205,
    "start_time": "2022-04-02T09:48:05.251Z"
   },
   {
    "duration": 8,
    "start_time": "2022-04-02T09:48:05.458Z"
   },
   {
    "duration": 2641,
    "start_time": "2022-04-02T09:48:05.468Z"
   },
   {
    "duration": 2564,
    "start_time": "2022-04-02T09:48:08.111Z"
   },
   {
    "duration": 1330,
    "start_time": "2022-04-02T09:48:10.677Z"
   },
   {
    "duration": 177,
    "start_time": "2022-04-02T09:48:12.009Z"
   },
   {
    "duration": 188,
    "start_time": "2022-04-02T09:48:12.188Z"
   },
   {
    "duration": 33,
    "start_time": "2022-04-02T09:48:12.378Z"
   },
   {
    "duration": 36,
    "start_time": "2022-04-02T09:48:12.413Z"
   },
   {
    "duration": 1974,
    "start_time": "2022-04-02T09:49:53.305Z"
   },
   {
    "duration": 55,
    "start_time": "2022-04-02T09:49:55.282Z"
   },
   {
    "duration": 6,
    "start_time": "2022-04-02T09:49:55.339Z"
   },
   {
    "duration": 13,
    "start_time": "2022-04-02T09:49:55.347Z"
   },
   {
    "duration": 26,
    "start_time": "2022-04-02T09:49:55.364Z"
   },
   {
    "duration": 22,
    "start_time": "2022-04-02T09:49:55.392Z"
   },
   {
    "duration": 72,
    "start_time": "2022-04-02T09:49:55.416Z"
   },
   {
    "duration": 183,
    "start_time": "2022-04-02T09:49:55.490Z"
   },
   {
    "duration": 34,
    "start_time": "2022-04-02T09:49:55.675Z"
   },
   {
    "duration": 58,
    "start_time": "2022-04-02T09:49:55.711Z"
   },
   {
    "duration": 19,
    "start_time": "2022-04-02T09:49:55.771Z"
   },
   {
    "duration": 7,
    "start_time": "2022-04-02T09:49:55.792Z"
   },
   {
    "duration": 47,
    "start_time": "2022-04-02T09:49:55.802Z"
   },
   {
    "duration": 12,
    "start_time": "2022-04-02T09:49:55.856Z"
   },
   {
    "duration": 11,
    "start_time": "2022-04-02T09:49:55.871Z"
   },
   {
    "duration": 305,
    "start_time": "2022-04-02T09:49:55.884Z"
   },
   {
    "duration": 23688,
    "start_time": "2022-04-02T09:49:56.191Z"
   },
   {
    "duration": 663,
    "start_time": "2022-04-02T09:50:19.881Z"
   },
   {
    "duration": 146,
    "start_time": "2022-04-02T09:50:20.547Z"
   },
   {
    "duration": 220,
    "start_time": "2022-04-02T09:50:20.695Z"
   },
   {
    "duration": 8,
    "start_time": "2022-04-02T09:50:20.917Z"
   },
   {
    "duration": 2840,
    "start_time": "2022-04-02T09:50:20.928Z"
   },
   {
    "duration": 2634,
    "start_time": "2022-04-02T09:50:23.770Z"
   },
   {
    "duration": 1470,
    "start_time": "2022-04-02T09:50:26.407Z"
   },
   {
    "duration": 210,
    "start_time": "2022-04-02T09:50:27.879Z"
   },
   {
    "duration": 302,
    "start_time": "2022-04-02T09:50:28.091Z"
   },
   {
    "duration": 60,
    "start_time": "2022-04-02T09:50:28.396Z"
   },
   {
    "duration": 15,
    "start_time": "2022-04-02T09:50:28.458Z"
   },
   {
    "duration": 1605,
    "start_time": "2022-04-03T09:39:31.103Z"
   },
   {
    "duration": 53,
    "start_time": "2022-04-03T09:39:32.710Z"
   },
   {
    "duration": 4,
    "start_time": "2022-04-03T09:39:32.764Z"
   },
   {
    "duration": 6,
    "start_time": "2022-04-03T09:39:32.770Z"
   },
   {
    "duration": 14,
    "start_time": "2022-04-03T09:39:32.777Z"
   },
   {
    "duration": 10,
    "start_time": "2022-04-03T09:39:32.792Z"
   },
   {
    "duration": 36,
    "start_time": "2022-04-03T09:39:32.803Z"
   },
   {
    "duration": 122,
    "start_time": "2022-04-03T09:39:32.841Z"
   },
   {
    "duration": 30,
    "start_time": "2022-04-03T09:39:32.964Z"
   },
   {
    "duration": 19,
    "start_time": "2022-04-03T09:39:32.996Z"
   },
   {
    "duration": 12,
    "start_time": "2022-04-03T09:39:33.017Z"
   },
   {
    "duration": 5,
    "start_time": "2022-04-03T09:39:33.030Z"
   },
   {
    "duration": 14,
    "start_time": "2022-04-03T09:39:33.036Z"
   },
   {
    "duration": 7,
    "start_time": "2022-04-03T09:39:33.081Z"
   },
   {
    "duration": 7,
    "start_time": "2022-04-03T09:39:33.089Z"
   },
   {
    "duration": 200,
    "start_time": "2022-04-03T09:39:33.097Z"
   },
   {
    "duration": 15989,
    "start_time": "2022-04-03T09:39:33.299Z"
   },
   {
    "duration": 592,
    "start_time": "2022-04-03T09:39:49.289Z"
   },
   {
    "duration": 129,
    "start_time": "2022-04-03T09:39:49.887Z"
   },
   {
    "duration": 149,
    "start_time": "2022-04-03T09:39:50.018Z"
   },
   {
    "duration": 14,
    "start_time": "2022-04-03T09:39:50.168Z"
   },
   {
    "duration": 2061,
    "start_time": "2022-04-03T09:39:50.184Z"
   },
   {
    "duration": 2290,
    "start_time": "2022-04-03T09:39:52.247Z"
   },
   {
    "duration": 953,
    "start_time": "2022-04-03T09:39:54.539Z"
   },
   {
    "duration": 119,
    "start_time": "2022-04-03T09:39:55.493Z"
   },
   {
    "duration": 130,
    "start_time": "2022-04-03T09:39:55.614Z"
   },
   {
    "duration": 38,
    "start_time": "2022-04-03T09:39:55.745Z"
   },
   {
    "duration": 11,
    "start_time": "2022-04-03T09:39:55.786Z"
   },
   {
    "duration": 1441,
    "start_time": "2022-04-03T09:44:10.837Z"
   },
   {
    "duration": 41,
    "start_time": "2022-04-03T09:44:12.280Z"
   },
   {
    "duration": 4,
    "start_time": "2022-04-03T09:44:12.322Z"
   },
   {
    "duration": 5,
    "start_time": "2022-04-03T09:44:12.328Z"
   },
   {
    "duration": 15,
    "start_time": "2022-04-03T09:44:12.334Z"
   },
   {
    "duration": 10,
    "start_time": "2022-04-03T09:44:12.350Z"
   },
   {
    "duration": 46,
    "start_time": "2022-04-03T09:44:12.362Z"
   },
   {
    "duration": 105,
    "start_time": "2022-04-03T09:44:12.409Z"
   },
   {
    "duration": 22,
    "start_time": "2022-04-03T09:44:12.515Z"
   },
   {
    "duration": 18,
    "start_time": "2022-04-03T09:44:12.539Z"
   },
   {
    "duration": 12,
    "start_time": "2022-04-03T09:44:12.581Z"
   },
   {
    "duration": 5,
    "start_time": "2022-04-03T09:44:12.594Z"
   },
   {
    "duration": 10,
    "start_time": "2022-04-03T09:44:12.601Z"
   },
   {
    "duration": 6,
    "start_time": "2022-04-03T09:44:12.612Z"
   },
   {
    "duration": 5,
    "start_time": "2022-04-03T09:44:12.619Z"
   },
   {
    "duration": 191,
    "start_time": "2022-04-03T09:44:12.626Z"
   },
   {
    "duration": 14525,
    "start_time": "2022-04-03T09:44:12.818Z"
   },
   {
    "duration": 536,
    "start_time": "2022-04-03T09:44:27.345Z"
   },
   {
    "duration": 125,
    "start_time": "2022-04-03T09:44:27.885Z"
   },
   {
    "duration": 136,
    "start_time": "2022-04-03T09:44:28.011Z"
   },
   {
    "duration": 6,
    "start_time": "2022-04-03T09:44:28.148Z"
   },
   {
    "duration": 1721,
    "start_time": "2022-04-03T09:44:28.155Z"
   },
   {
    "duration": 1670,
    "start_time": "2022-04-03T09:44:29.881Z"
   },
   {
    "duration": 887,
    "start_time": "2022-04-03T09:44:31.552Z"
   },
   {
    "duration": 109,
    "start_time": "2022-04-03T09:44:32.441Z"
   },
   {
    "duration": 121,
    "start_time": "2022-04-03T09:44:32.552Z"
   },
   {
    "duration": 25,
    "start_time": "2022-04-03T09:44:32.675Z"
   },
   {
    "duration": 8,
    "start_time": "2022-04-03T09:44:32.704Z"
   },
   {
    "duration": 1501,
    "start_time": "2022-04-03T09:45:13.518Z"
   },
   {
    "duration": 52,
    "start_time": "2022-04-03T09:45:15.021Z"
   },
   {
    "duration": 5,
    "start_time": "2022-04-03T09:45:15.074Z"
   },
   {
    "duration": 18,
    "start_time": "2022-04-03T09:45:15.080Z"
   },
   {
    "duration": 31,
    "start_time": "2022-04-03T09:45:15.100Z"
   },
   {
    "duration": 29,
    "start_time": "2022-04-03T09:45:15.132Z"
   },
   {
    "duration": 45,
    "start_time": "2022-04-03T09:45:15.162Z"
   },
   {
    "duration": 107,
    "start_time": "2022-04-03T09:45:15.208Z"
   },
   {
    "duration": 19,
    "start_time": "2022-04-03T09:45:15.317Z"
   },
   {
    "duration": 17,
    "start_time": "2022-04-03T09:45:15.338Z"
   },
   {
    "duration": 36,
    "start_time": "2022-04-03T09:45:15.356Z"
   },
   {
    "duration": 6,
    "start_time": "2022-04-03T09:45:15.393Z"
   },
   {
    "duration": 16,
    "start_time": "2022-04-03T09:45:15.400Z"
   },
   {
    "duration": 13,
    "start_time": "2022-04-03T09:45:15.419Z"
   },
   {
    "duration": 15,
    "start_time": "2022-04-03T09:45:15.433Z"
   },
   {
    "duration": 178,
    "start_time": "2022-04-03T09:45:15.449Z"
   },
   {
    "duration": 14883,
    "start_time": "2022-04-03T09:45:15.629Z"
   },
   {
    "duration": 182,
    "start_time": "2022-04-03T09:45:30.514Z"
   },
   {
    "duration": 130,
    "start_time": "2022-04-03T09:45:30.782Z"
   },
   {
    "duration": 145,
    "start_time": "2022-04-03T09:45:30.914Z"
   },
   {
    "duration": 6,
    "start_time": "2022-04-03T09:45:31.061Z"
   },
   {
    "duration": 1616,
    "start_time": "2022-04-03T09:45:31.080Z"
   },
   {
    "duration": 1609,
    "start_time": "2022-04-03T09:45:32.698Z"
   },
   {
    "duration": 959,
    "start_time": "2022-04-03T09:45:34.308Z"
   },
   {
    "duration": 101,
    "start_time": "2022-04-03T09:45:35.268Z"
   },
   {
    "duration": 111,
    "start_time": "2022-04-03T09:45:35.371Z"
   },
   {
    "duration": 21,
    "start_time": "2022-04-03T09:45:35.484Z"
   },
   {
    "duration": 9,
    "start_time": "2022-04-03T09:45:35.506Z"
   },
   {
    "duration": 1550,
    "start_time": "2022-04-03T09:46:59.652Z"
   },
   {
    "duration": 43,
    "start_time": "2022-04-03T09:47:01.204Z"
   },
   {
    "duration": 6,
    "start_time": "2022-04-03T09:47:01.249Z"
   },
   {
    "duration": 15,
    "start_time": "2022-04-03T09:47:01.257Z"
   },
   {
    "duration": 24,
    "start_time": "2022-04-03T09:47:01.274Z"
   },
   {
    "duration": 15,
    "start_time": "2022-04-03T09:47:01.301Z"
   },
   {
    "duration": 56,
    "start_time": "2022-04-03T09:47:01.318Z"
   },
   {
    "duration": 105,
    "start_time": "2022-04-03T09:47:01.377Z"
   },
   {
    "duration": 27,
    "start_time": "2022-04-03T09:47:01.484Z"
   },
   {
    "duration": 20,
    "start_time": "2022-04-03T09:47:01.515Z"
   },
   {
    "duration": 51,
    "start_time": "2022-04-03T09:47:01.537Z"
   },
   {
    "duration": 7,
    "start_time": "2022-04-03T09:47:01.589Z"
   },
   {
    "duration": 30,
    "start_time": "2022-04-03T09:47:01.598Z"
   },
   {
    "duration": 13,
    "start_time": "2022-04-03T09:47:01.629Z"
   },
   {
    "duration": 10,
    "start_time": "2022-04-03T09:47:01.643Z"
   },
   {
    "duration": 177,
    "start_time": "2022-04-03T09:47:01.655Z"
   },
   {
    "duration": 15692,
    "start_time": "2022-04-03T09:47:01.833Z"
   },
   {
    "duration": 560,
    "start_time": "2022-04-03T09:47:17.527Z"
   },
   {
    "duration": 208,
    "start_time": "2022-04-03T09:47:18.089Z"
   },
   {
    "duration": 143,
    "start_time": "2022-04-03T09:47:18.299Z"
   },
   {
    "duration": 6,
    "start_time": "2022-04-03T09:47:18.444Z"
   },
   {
    "duration": 1741,
    "start_time": "2022-04-03T09:47:18.452Z"
   },
   {
    "duration": 1761,
    "start_time": "2022-04-03T09:47:20.195Z"
   },
   {
    "duration": 1136,
    "start_time": "2022-04-03T09:47:21.958Z"
   },
   {
    "duration": 117,
    "start_time": "2022-04-03T09:47:23.095Z"
   },
   {
    "duration": 123,
    "start_time": "2022-04-03T09:47:23.214Z"
   },
   {
    "duration": 22,
    "start_time": "2022-04-03T09:47:23.339Z"
   },
   {
    "duration": 23,
    "start_time": "2022-04-03T09:47:23.364Z"
   },
   {
    "duration": 168,
    "start_time": "2022-04-03T10:41:51.676Z"
   },
   {
    "duration": 0,
    "start_time": "2022-04-03T10:41:51.846Z"
   },
   {
    "duration": 0,
    "start_time": "2022-04-03T10:41:51.848Z"
   },
   {
    "duration": 0,
    "start_time": "2022-04-03T10:41:51.849Z"
   },
   {
    "duration": 0,
    "start_time": "2022-04-03T10:41:51.850Z"
   },
   {
    "duration": 1,
    "start_time": "2022-04-03T10:41:51.851Z"
   },
   {
    "duration": 0,
    "start_time": "2022-04-03T10:41:51.853Z"
   },
   {
    "duration": 0,
    "start_time": "2022-04-03T10:41:51.855Z"
   },
   {
    "duration": 0,
    "start_time": "2022-04-03T10:41:51.856Z"
   },
   {
    "duration": 0,
    "start_time": "2022-04-03T10:41:51.857Z"
   },
   {
    "duration": 0,
    "start_time": "2022-04-03T10:41:51.858Z"
   },
   {
    "duration": 0,
    "start_time": "2022-04-03T10:41:51.859Z"
   },
   {
    "duration": 0,
    "start_time": "2022-04-03T10:41:51.881Z"
   },
   {
    "duration": 0,
    "start_time": "2022-04-03T10:41:51.881Z"
   },
   {
    "duration": 0,
    "start_time": "2022-04-03T10:41:51.883Z"
   },
   {
    "duration": 0,
    "start_time": "2022-04-03T10:41:51.885Z"
   },
   {
    "duration": 9,
    "start_time": "2022-04-03T10:41:54.671Z"
   },
   {
    "duration": 9,
    "start_time": "2022-04-03T10:42:15.704Z"
   },
   {
    "duration": 9,
    "start_time": "2022-04-03T10:42:39.501Z"
   },
   {
    "duration": 5,
    "start_time": "2022-04-03T10:43:02.487Z"
   },
   {
    "duration": 4,
    "start_time": "2022-04-03T10:43:06.695Z"
   },
   {
    "duration": 10,
    "start_time": "2022-04-03T10:43:18.399Z"
   },
   {
    "duration": 38,
    "start_time": "2022-04-03T10:44:24.273Z"
   },
   {
    "duration": 40,
    "start_time": "2022-04-03T10:45:17.544Z"
   },
   {
    "duration": 38,
    "start_time": "2022-04-03T10:48:26.083Z"
   },
   {
    "duration": 4,
    "start_time": "2022-04-03T10:51:24.021Z"
   },
   {
    "duration": 41,
    "start_time": "2022-04-03T10:51:24.026Z"
   },
   {
    "duration": 4,
    "start_time": "2022-04-03T10:51:24.069Z"
   },
   {
    "duration": 5,
    "start_time": "2022-04-03T10:51:24.074Z"
   },
   {
    "duration": 13,
    "start_time": "2022-04-03T10:51:24.080Z"
   },
   {
    "duration": 9,
    "start_time": "2022-04-03T10:51:24.095Z"
   },
   {
    "duration": 34,
    "start_time": "2022-04-03T10:51:24.106Z"
   },
   {
    "duration": 110,
    "start_time": "2022-04-03T10:51:24.141Z"
   },
   {
    "duration": 35,
    "start_time": "2022-04-03T10:51:24.252Z"
   },
   {
    "duration": 18,
    "start_time": "2022-04-03T10:51:24.290Z"
   },
   {
    "duration": 11,
    "start_time": "2022-04-03T10:51:24.309Z"
   },
   {
    "duration": 4,
    "start_time": "2022-04-03T10:51:24.322Z"
   },
   {
    "duration": 9,
    "start_time": "2022-04-03T10:51:24.328Z"
   },
   {
    "duration": 5,
    "start_time": "2022-04-03T10:51:24.338Z"
   },
   {
    "duration": 41,
    "start_time": "2022-04-03T10:51:24.344Z"
   },
   {
    "duration": 196,
    "start_time": "2022-04-03T10:51:24.387Z"
   },
   {
    "duration": 39,
    "start_time": "2022-04-03T10:51:24.584Z"
   },
   {
    "duration": 0,
    "start_time": "2022-04-03T10:51:24.624Z"
   },
   {
    "duration": 10,
    "start_time": "2022-04-03T10:51:26.824Z"
   },
   {
    "duration": 230463,
    "start_time": "2022-04-03T10:51:41.661Z"
   },
   {
    "duration": 60137,
    "start_time": "2022-04-03T10:55:52.163Z"
   },
   {
    "duration": 59629,
    "start_time": "2022-04-03T10:58:43.542Z"
   },
   {
    "duration": 31828,
    "start_time": "2022-04-03T11:07:34.897Z"
   },
   {
    "duration": 14,
    "start_time": "2022-04-03T11:27:27.753Z"
   },
   {
    "duration": 30184,
    "start_time": "2022-04-03T11:33:09.138Z"
   },
   {
    "duration": 59209,
    "start_time": "2022-04-03T11:34:33.026Z"
   },
   {
    "duration": 1551,
    "start_time": "2022-04-03T11:39:04.238Z"
   },
   {
    "duration": 42,
    "start_time": "2022-04-03T11:39:05.791Z"
   },
   {
    "duration": 5,
    "start_time": "2022-04-03T11:39:05.834Z"
   },
   {
    "duration": 6,
    "start_time": "2022-04-03T11:39:05.841Z"
   },
   {
    "duration": 16,
    "start_time": "2022-04-03T11:39:05.849Z"
   },
   {
    "duration": 19,
    "start_time": "2022-04-03T11:39:05.867Z"
   },
   {
    "duration": 38,
    "start_time": "2022-04-03T11:39:05.887Z"
   },
   {
    "duration": 133,
    "start_time": "2022-04-03T11:39:05.927Z"
   },
   {
    "duration": 30,
    "start_time": "2022-04-03T11:39:06.062Z"
   },
   {
    "duration": 19,
    "start_time": "2022-04-03T11:39:06.094Z"
   },
   {
    "duration": 12,
    "start_time": "2022-04-03T11:39:06.115Z"
   },
   {
    "duration": 5,
    "start_time": "2022-04-03T11:39:06.129Z"
   },
   {
    "duration": 12,
    "start_time": "2022-04-03T11:39:06.136Z"
   },
   {
    "duration": 6,
    "start_time": "2022-04-03T11:39:06.181Z"
   },
   {
    "duration": 8,
    "start_time": "2022-04-03T11:39:06.189Z"
   },
   {
    "duration": 198,
    "start_time": "2022-04-03T11:39:06.199Z"
   },
   {
    "duration": 2,
    "start_time": "2022-04-03T11:39:06.399Z"
   },
   {
    "duration": 15413,
    "start_time": "2022-04-03T11:39:06.403Z"
   },
   {
    "duration": 58467,
    "start_time": "2022-04-03T11:39:21.818Z"
   },
   {
    "duration": 403,
    "start_time": "2022-04-03T11:40:20.287Z"
   },
   {
    "duration": 214,
    "start_time": "2022-04-03T11:40:20.692Z"
   },
   {
    "duration": 150,
    "start_time": "2022-04-03T11:40:20.907Z"
   },
   {
    "duration": 6,
    "start_time": "2022-04-03T11:40:21.058Z"
   },
   {
    "duration": 1767,
    "start_time": "2022-04-03T11:40:21.066Z"
   },
   {
    "duration": 1743,
    "start_time": "2022-04-03T11:40:22.835Z"
   },
   {
    "duration": 928,
    "start_time": "2022-04-03T11:40:24.581Z"
   },
   {
    "duration": 117,
    "start_time": "2022-04-03T11:40:25.510Z"
   },
   {
    "duration": 122,
    "start_time": "2022-04-03T11:40:25.631Z"
   },
   {
    "duration": 36,
    "start_time": "2022-04-03T11:40:25.755Z"
   },
   {
    "duration": 10,
    "start_time": "2022-04-03T11:40:25.793Z"
   },
   {
    "duration": 1541,
    "start_time": "2022-04-03T11:46:09.538Z"
   },
   {
    "duration": 44,
    "start_time": "2022-04-03T11:46:11.081Z"
   },
   {
    "duration": 5,
    "start_time": "2022-04-03T11:46:11.126Z"
   },
   {
    "duration": 4,
    "start_time": "2022-04-03T11:46:11.133Z"
   },
   {
    "duration": 13,
    "start_time": "2022-04-03T11:46:11.139Z"
   },
   {
    "duration": 10,
    "start_time": "2022-04-03T11:46:11.154Z"
   },
   {
    "duration": 42,
    "start_time": "2022-04-03T11:46:11.165Z"
   },
   {
    "duration": 105,
    "start_time": "2022-04-03T11:46:11.208Z"
   },
   {
    "duration": 20,
    "start_time": "2022-04-03T11:46:11.315Z"
   },
   {
    "duration": 18,
    "start_time": "2022-04-03T11:46:11.336Z"
   },
   {
    "duration": 35,
    "start_time": "2022-04-03T11:46:11.355Z"
   },
   {
    "duration": 5,
    "start_time": "2022-04-03T11:46:11.392Z"
   },
   {
    "duration": 10,
    "start_time": "2022-04-03T11:46:11.398Z"
   },
   {
    "duration": 5,
    "start_time": "2022-04-03T11:46:11.410Z"
   },
   {
    "duration": 6,
    "start_time": "2022-04-03T11:46:11.417Z"
   },
   {
    "duration": 200,
    "start_time": "2022-04-03T11:46:11.424Z"
   },
   {
    "duration": 2,
    "start_time": "2022-04-03T11:46:11.626Z"
   },
   {
    "duration": 15151,
    "start_time": "2022-04-03T11:46:11.630Z"
   },
   {
    "duration": 59256,
    "start_time": "2022-04-03T11:46:26.782Z"
   },
   {
    "duration": 341,
    "start_time": "2022-04-03T11:47:26.040Z"
   },
   {
    "duration": 126,
    "start_time": "2022-04-03T11:47:26.383Z"
   },
   {
    "duration": 140,
    "start_time": "2022-04-03T11:47:26.510Z"
   },
   {
    "duration": 5,
    "start_time": "2022-04-03T11:47:26.652Z"
   },
   {
    "duration": 1696,
    "start_time": "2022-04-03T11:47:26.658Z"
   },
   {
    "duration": 1691,
    "start_time": "2022-04-03T11:47:28.356Z"
   },
   {
    "duration": 938,
    "start_time": "2022-04-03T11:47:30.048Z"
   },
   {
    "duration": 117,
    "start_time": "2022-04-03T11:47:30.988Z"
   },
   {
    "duration": 124,
    "start_time": "2022-04-03T11:47:31.106Z"
   },
   {
    "duration": 24,
    "start_time": "2022-04-03T11:47:31.231Z"
   },
   {
    "duration": 25,
    "start_time": "2022-04-03T11:47:31.257Z"
   },
   {
    "duration": 59852,
    "start_time": "2022-04-03T11:51:41.302Z"
   },
   {
    "duration": 304,
    "start_time": "2022-04-03T11:59:50.564Z"
   },
   {
    "duration": 314,
    "start_time": "2022-04-03T11:59:57.220Z"
   },
   {
    "duration": 307,
    "start_time": "2022-04-03T12:00:19.775Z"
   },
   {
    "duration": 315,
    "start_time": "2022-04-03T12:00:28.891Z"
   },
   {
    "duration": 304,
    "start_time": "2022-04-03T12:02:44.339Z"
   },
   {
    "duration": 15977,
    "start_time": "2022-04-03T12:02:51.078Z"
   },
   {
    "duration": 293,
    "start_time": "2022-04-03T12:03:31.511Z"
   },
   {
    "duration": 59506,
    "start_time": "2022-04-03T12:04:16.666Z"
   },
   {
    "duration": 298,
    "start_time": "2022-04-03T12:05:56.574Z"
   },
   {
    "duration": 1574,
    "start_time": "2022-04-03T12:06:07.366Z"
   },
   {
    "duration": 39,
    "start_time": "2022-04-03T12:06:08.942Z"
   },
   {
    "duration": 4,
    "start_time": "2022-04-03T12:06:08.982Z"
   },
   {
    "duration": 7,
    "start_time": "2022-04-03T12:06:08.988Z"
   },
   {
    "duration": 14,
    "start_time": "2022-04-03T12:06:08.997Z"
   },
   {
    "duration": 10,
    "start_time": "2022-04-03T12:06:09.013Z"
   },
   {
    "duration": 35,
    "start_time": "2022-04-03T12:06:09.025Z"
   },
   {
    "duration": 108,
    "start_time": "2022-04-03T12:06:09.081Z"
   },
   {
    "duration": 26,
    "start_time": "2022-04-03T12:06:09.191Z"
   },
   {
    "duration": 19,
    "start_time": "2022-04-03T12:06:09.219Z"
   },
   {
    "duration": 46,
    "start_time": "2022-04-03T12:06:09.240Z"
   },
   {
    "duration": 7,
    "start_time": "2022-04-03T12:06:09.288Z"
   },
   {
    "duration": 13,
    "start_time": "2022-04-03T12:06:09.297Z"
   },
   {
    "duration": 5,
    "start_time": "2022-04-03T12:06:09.313Z"
   },
   {
    "duration": 8,
    "start_time": "2022-04-03T12:06:09.320Z"
   },
   {
    "duration": 227,
    "start_time": "2022-04-03T12:06:09.329Z"
   },
   {
    "duration": 3,
    "start_time": "2022-04-03T12:06:09.557Z"
   },
   {
    "duration": 15382,
    "start_time": "2022-04-03T12:06:09.563Z"
   },
   {
    "duration": 59662,
    "start_time": "2022-04-03T12:06:24.947Z"
   },
   {
    "duration": 292,
    "start_time": "2022-04-03T12:07:24.612Z"
   },
   {
    "duration": 482,
    "start_time": "2022-04-03T12:07:24.905Z"
   },
   {
    "duration": 127,
    "start_time": "2022-04-03T12:07:25.480Z"
   },
   {
    "duration": 139,
    "start_time": "2022-04-03T12:07:25.609Z"
   },
   {
    "duration": 6,
    "start_time": "2022-04-03T12:07:25.749Z"
   },
   {
    "duration": 1719,
    "start_time": "2022-04-03T12:07:25.757Z"
   },
   {
    "duration": 1694,
    "start_time": "2022-04-03T12:07:27.481Z"
   },
   {
    "duration": 892,
    "start_time": "2022-04-03T12:07:29.181Z"
   },
   {
    "duration": 115,
    "start_time": "2022-04-03T12:07:30.074Z"
   },
   {
    "duration": 127,
    "start_time": "2022-04-03T12:07:30.191Z"
   },
   {
    "duration": 23,
    "start_time": "2022-04-03T12:07:30.319Z"
   },
   {
    "duration": 13,
    "start_time": "2022-04-03T12:07:30.343Z"
   },
   {
    "duration": 315,
    "start_time": "2022-04-03T12:08:13.874Z"
   },
   {
    "duration": 59973,
    "start_time": "2022-04-03T12:08:50.060Z"
   },
   {
    "duration": 60496,
    "start_time": "2022-04-03T12:10:04.377Z"
   },
   {
    "duration": 58824,
    "start_time": "2022-04-03T12:12:16.524Z"
   },
   {
    "duration": 293,
    "start_time": "2022-04-03T12:13:26.294Z"
   },
   {
    "duration": 303,
    "start_time": "2022-04-03T12:13:34.493Z"
   },
   {
    "duration": 307,
    "start_time": "2022-04-03T12:13:39.490Z"
   },
   {
    "duration": 321,
    "start_time": "2022-04-03T12:15:00.811Z"
   },
   {
    "duration": 362,
    "start_time": "2022-04-03T12:15:11.629Z"
   },
   {
    "duration": 30675,
    "start_time": "2022-04-03T12:15:26.857Z"
   },
   {
    "duration": 93,
    "start_time": "2022-04-03T12:19:26.623Z"
   },
   {
    "duration": 4,
    "start_time": "2022-04-03T12:20:27.809Z"
   },
   {
    "duration": 44,
    "start_time": "2022-04-03T12:20:27.814Z"
   },
   {
    "duration": 5,
    "start_time": "2022-04-03T12:20:27.860Z"
   },
   {
    "duration": 3,
    "start_time": "2022-04-03T12:20:27.868Z"
   },
   {
    "duration": 12,
    "start_time": "2022-04-03T12:20:27.873Z"
   },
   {
    "duration": 9,
    "start_time": "2022-04-03T12:20:27.886Z"
   },
   {
    "duration": 34,
    "start_time": "2022-04-03T12:20:27.896Z"
   },
   {
    "duration": 107,
    "start_time": "2022-04-03T12:20:27.931Z"
   },
   {
    "duration": 42,
    "start_time": "2022-04-03T12:20:28.040Z"
   },
   {
    "duration": 18,
    "start_time": "2022-04-03T12:20:28.084Z"
   },
   {
    "duration": 11,
    "start_time": "2022-04-03T12:20:28.104Z"
   },
   {
    "duration": 4,
    "start_time": "2022-04-03T12:20:28.117Z"
   },
   {
    "duration": 11,
    "start_time": "2022-04-03T12:20:28.123Z"
   },
   {
    "duration": 5,
    "start_time": "2022-04-03T12:20:28.135Z"
   },
   {
    "duration": 40,
    "start_time": "2022-04-03T12:20:28.141Z"
   },
   {
    "duration": 186,
    "start_time": "2022-04-03T12:20:28.183Z"
   },
   {
    "duration": 3,
    "start_time": "2022-04-03T12:20:28.370Z"
   },
   {
    "duration": 15519,
    "start_time": "2022-04-03T12:20:28.380Z"
   },
   {
    "duration": 10,
    "start_time": "2022-04-03T12:20:43.901Z"
   },
   {
    "duration": 10,
    "start_time": "2022-04-03T12:23:26.436Z"
   },
   {
    "duration": 38,
    "start_time": "2022-04-03T12:25:03.475Z"
   },
   {
    "duration": 13,
    "start_time": "2022-04-03T19:12:06.813Z"
   },
   {
    "duration": 11,
    "start_time": "2022-04-03T19:13:45.519Z"
   },
   {
    "duration": 734,
    "start_time": "2022-04-03T19:13:59.272Z"
   },
   {
    "duration": 745,
    "start_time": "2022-04-03T19:15:49.264Z"
   },
   {
    "duration": 14,
    "start_time": "2022-04-03T19:16:26.632Z"
   },
   {
    "duration": 14340,
    "start_time": "2022-04-03T19:16:32.072Z"
   },
   {
    "duration": 188,
    "start_time": "2022-04-03T19:20:02.315Z"
   },
   {
    "duration": 2026,
    "start_time": "2022-04-03T19:20:32.927Z"
   },
   {
    "duration": 42,
    "start_time": "2022-04-03T19:20:34.955Z"
   },
   {
    "duration": 5,
    "start_time": "2022-04-03T19:20:34.998Z"
   },
   {
    "duration": 15,
    "start_time": "2022-04-03T19:20:35.005Z"
   },
   {
    "duration": 15,
    "start_time": "2022-04-03T19:20:35.022Z"
   },
   {
    "duration": 10,
    "start_time": "2022-04-03T19:20:35.038Z"
   },
   {
    "duration": 32,
    "start_time": "2022-04-03T19:20:35.049Z"
   },
   {
    "duration": 95,
    "start_time": "2022-04-03T19:20:35.083Z"
   },
   {
    "duration": 23,
    "start_time": "2022-04-03T19:20:35.179Z"
   },
   {
    "duration": 19,
    "start_time": "2022-04-03T19:20:35.204Z"
   },
   {
    "duration": 11,
    "start_time": "2022-04-03T19:20:35.224Z"
   },
   {
    "duration": 5,
    "start_time": "2022-04-03T19:20:35.237Z"
   },
   {
    "duration": 11,
    "start_time": "2022-04-03T19:20:35.244Z"
   },
   {
    "duration": 5,
    "start_time": "2022-04-03T19:20:35.256Z"
   },
   {
    "duration": 11,
    "start_time": "2022-04-03T19:20:35.263Z"
   },
   {
    "duration": 204,
    "start_time": "2022-04-03T19:20:35.280Z"
   },
   {
    "duration": 3,
    "start_time": "2022-04-03T19:20:35.485Z"
   },
   {
    "duration": 15652,
    "start_time": "2022-04-03T19:20:35.490Z"
   },
   {
    "duration": 14121,
    "start_time": "2022-04-03T19:20:51.143Z"
   },
   {
    "duration": 191,
    "start_time": "2022-04-03T19:21:05.265Z"
   },
   {
    "duration": 533,
    "start_time": "2022-04-03T19:21:05.457Z"
   },
   {
    "duration": 130,
    "start_time": "2022-04-03T19:21:06.082Z"
   },
   {
    "duration": 144,
    "start_time": "2022-04-03T19:21:06.213Z"
   },
   {
    "duration": 6,
    "start_time": "2022-04-03T19:21:06.358Z"
   },
   {
    "duration": 1702,
    "start_time": "2022-04-03T19:21:06.365Z"
   },
   {
    "duration": 1735,
    "start_time": "2022-04-03T19:21:08.068Z"
   },
   {
    "duration": 913,
    "start_time": "2022-04-03T19:21:09.805Z"
   },
   {
    "duration": 120,
    "start_time": "2022-04-03T19:21:10.721Z"
   },
   {
    "duration": 127,
    "start_time": "2022-04-03T19:21:10.842Z"
   },
   {
    "duration": 28,
    "start_time": "2022-04-03T19:21:10.970Z"
   },
   {
    "duration": 11,
    "start_time": "2022-04-03T19:21:10.999Z"
   },
   {
    "duration": 102,
    "start_time": "2022-04-03T19:31:47.394Z"
   },
   {
    "duration": 11261,
    "start_time": "2022-04-03T19:53:34.774Z"
   },
   {
    "duration": 301,
    "start_time": "2022-04-03T20:03:40.207Z"
   },
   {
    "duration": 1567,
    "start_time": "2022-04-03T20:03:55.326Z"
   },
   {
    "duration": 176,
    "start_time": "2022-04-03T20:03:56.896Z"
   },
   {
    "duration": 5,
    "start_time": "2022-04-03T20:03:57.073Z"
   },
   {
    "duration": 7,
    "start_time": "2022-04-03T20:03:57.079Z"
   },
   {
    "duration": 19,
    "start_time": "2022-04-03T20:03:57.088Z"
   },
   {
    "duration": 10,
    "start_time": "2022-04-03T20:03:57.109Z"
   },
   {
    "duration": 35,
    "start_time": "2022-04-03T20:03:57.121Z"
   },
   {
    "duration": 139,
    "start_time": "2022-04-03T20:03:57.157Z"
   },
   {
    "duration": 29,
    "start_time": "2022-04-03T20:03:57.298Z"
   },
   {
    "duration": 53,
    "start_time": "2022-04-03T20:03:57.329Z"
   },
   {
    "duration": 14,
    "start_time": "2022-04-03T20:03:57.384Z"
   },
   {
    "duration": 6,
    "start_time": "2022-04-03T20:03:57.399Z"
   },
   {
    "duration": 13,
    "start_time": "2022-04-03T20:03:57.407Z"
   },
   {
    "duration": 5,
    "start_time": "2022-04-03T20:03:57.423Z"
   },
   {
    "duration": 9,
    "start_time": "2022-04-03T20:03:57.429Z"
   },
   {
    "duration": 323,
    "start_time": "2022-04-03T20:03:57.440Z"
   },
   {
    "duration": 3,
    "start_time": "2022-04-03T20:03:57.765Z"
   },
   {
    "duration": 15966,
    "start_time": "2022-04-03T20:03:57.780Z"
   },
   {
    "duration": 14394,
    "start_time": "2022-04-03T20:04:13.747Z"
   },
   {
    "duration": 211,
    "start_time": "2022-04-03T20:04:28.142Z"
   },
   {
    "duration": 531,
    "start_time": "2022-04-03T20:04:28.355Z"
   },
   {
    "duration": 222,
    "start_time": "2022-04-03T20:04:28.887Z"
   },
   {
    "duration": 209,
    "start_time": "2022-04-03T20:04:29.111Z"
   },
   {
    "duration": 7,
    "start_time": "2022-04-03T20:04:29.322Z"
   },
   {
    "duration": 1847,
    "start_time": "2022-04-03T20:04:29.331Z"
   },
   {
    "duration": 1814,
    "start_time": "2022-04-03T20:04:31.182Z"
   },
   {
    "duration": 976,
    "start_time": "2022-04-03T20:04:32.998Z"
   },
   {
    "duration": 117,
    "start_time": "2022-04-03T20:04:33.976Z"
   },
   {
    "duration": 129,
    "start_time": "2022-04-03T20:04:34.095Z"
   },
   {
    "duration": 24,
    "start_time": "2022-04-03T20:04:34.226Z"
   },
   {
    "duration": 13,
    "start_time": "2022-04-03T20:04:34.282Z"
   },
   {
    "duration": 185,
    "start_time": "2022-04-03T20:06:02.261Z"
   },
   {
    "duration": 131,
    "start_time": "2022-04-03T20:06:09.886Z"
   },
   {
    "duration": 126,
    "start_time": "2022-04-03T20:06:16.706Z"
   },
   {
    "duration": 32201,
    "start_time": "2022-04-03T20:09:16.294Z"
   },
   {
    "duration": 331,
    "start_time": "2022-04-03T20:11:01.713Z"
   },
   {
    "duration": 312,
    "start_time": "2022-04-03T20:11:08.821Z"
   },
   {
    "duration": 313,
    "start_time": "2022-04-03T20:11:16.725Z"
   },
   {
    "duration": 34052,
    "start_time": "2022-04-03T20:11:38.846Z"
   },
   {
    "duration": 191,
    "start_time": "2022-04-03T20:12:57.631Z"
   },
   {
    "duration": 1549,
    "start_time": "2022-04-03T20:15:53.192Z"
   },
   {
    "duration": 51,
    "start_time": "2022-04-03T20:15:54.743Z"
   },
   {
    "duration": 5,
    "start_time": "2022-04-03T20:15:54.796Z"
   },
   {
    "duration": 5,
    "start_time": "2022-04-03T20:15:54.803Z"
   },
   {
    "duration": 14,
    "start_time": "2022-04-03T20:15:54.809Z"
   },
   {
    "duration": 10,
    "start_time": "2022-04-03T20:15:54.824Z"
   },
   {
    "duration": 55,
    "start_time": "2022-04-03T20:15:54.835Z"
   },
   {
    "duration": 115,
    "start_time": "2022-04-03T20:15:54.891Z"
   },
   {
    "duration": 22,
    "start_time": "2022-04-03T20:15:55.007Z"
   },
   {
    "duration": 19,
    "start_time": "2022-04-03T20:15:55.032Z"
   },
   {
    "duration": 40,
    "start_time": "2022-04-03T20:15:55.052Z"
   },
   {
    "duration": 5,
    "start_time": "2022-04-03T20:15:55.094Z"
   },
   {
    "duration": 10,
    "start_time": "2022-04-03T20:15:55.100Z"
   },
   {
    "duration": 5,
    "start_time": "2022-04-03T20:15:55.111Z"
   },
   {
    "duration": 6,
    "start_time": "2022-04-03T20:15:55.118Z"
   },
   {
    "duration": 221,
    "start_time": "2022-04-03T20:15:55.125Z"
   },
   {
    "duration": 15905,
    "start_time": "2022-04-03T20:15:55.347Z"
   },
   {
    "duration": 14720,
    "start_time": "2022-04-03T20:16:11.254Z"
   },
   {
    "duration": 31876,
    "start_time": "2022-04-03T20:16:25.975Z"
   },
   {
    "duration": 191,
    "start_time": "2022-04-03T20:16:57.853Z"
   },
   {
    "duration": 540,
    "start_time": "2022-04-03T20:16:58.045Z"
   },
   {
    "duration": 124,
    "start_time": "2022-04-03T20:16:58.587Z"
   },
   {
    "duration": 149,
    "start_time": "2022-04-03T20:16:58.712Z"
   },
   {
    "duration": 18,
    "start_time": "2022-04-03T20:16:58.863Z"
   },
   {
    "duration": 1760,
    "start_time": "2022-04-03T20:16:58.882Z"
   },
   {
    "duration": 1848,
    "start_time": "2022-04-03T20:17:00.645Z"
   },
   {
    "duration": 964,
    "start_time": "2022-04-03T20:17:02.495Z"
   },
   {
    "duration": 125,
    "start_time": "2022-04-03T20:17:03.463Z"
   },
   {
    "duration": 123,
    "start_time": "2022-04-03T20:17:03.590Z"
   },
   {
    "duration": 22,
    "start_time": "2022-04-03T20:17:03.715Z"
   },
   {
    "duration": 9,
    "start_time": "2022-04-03T20:17:03.739Z"
   },
   {
    "duration": 32900,
    "start_time": "2022-04-03T20:17:45.909Z"
   },
   {
    "duration": 32457,
    "start_time": "2022-04-03T20:18:47.696Z"
   },
   {
    "duration": 15297,
    "start_time": "2022-04-03T20:20:40.393Z"
   },
   {
    "duration": 15544,
    "start_time": "2022-04-03T20:21:23.373Z"
   },
   {
    "duration": 310,
    "start_time": "2022-04-03T20:23:19.735Z"
   },
   {
    "duration": 316,
    "start_time": "2022-04-03T20:23:32.306Z"
   },
   {
    "duration": 310,
    "start_time": "2022-04-03T20:23:38.012Z"
   },
   {
    "duration": 320,
    "start_time": "2022-04-03T20:24:45.639Z"
   },
   {
    "duration": 15509,
    "start_time": "2022-04-03T20:24:50.873Z"
   },
   {
    "duration": 1430,
    "start_time": "2022-04-03T20:25:44.408Z"
   },
   {
    "duration": 41,
    "start_time": "2022-04-03T20:25:45.840Z"
   },
   {
    "duration": 4,
    "start_time": "2022-04-03T20:25:45.882Z"
   },
   {
    "duration": 4,
    "start_time": "2022-04-03T20:25:45.888Z"
   },
   {
    "duration": 15,
    "start_time": "2022-04-03T20:25:45.894Z"
   },
   {
    "duration": 9,
    "start_time": "2022-04-03T20:25:45.911Z"
   },
   {
    "duration": 33,
    "start_time": "2022-04-03T20:25:45.922Z"
   },
   {
    "duration": 127,
    "start_time": "2022-04-03T20:25:45.956Z"
   },
   {
    "duration": 22,
    "start_time": "2022-04-03T20:25:46.085Z"
   },
   {
    "duration": 19,
    "start_time": "2022-04-03T20:25:46.109Z"
   },
   {
    "duration": 12,
    "start_time": "2022-04-03T20:25:46.130Z"
   },
   {
    "duration": 38,
    "start_time": "2022-04-03T20:25:46.144Z"
   },
   {
    "duration": 10,
    "start_time": "2022-04-03T20:25:46.183Z"
   },
   {
    "duration": 5,
    "start_time": "2022-04-03T20:25:46.195Z"
   },
   {
    "duration": 7,
    "start_time": "2022-04-03T20:25:46.202Z"
   },
   {
    "duration": 197,
    "start_time": "2022-04-03T20:25:46.210Z"
   },
   {
    "duration": 15275,
    "start_time": "2022-04-03T20:25:46.408Z"
   },
   {
    "duration": 3,
    "start_time": "2022-04-03T20:26:01.685Z"
   },
   {
    "duration": 597,
    "start_time": "2022-04-03T20:26:01.689Z"
   },
   {
    "duration": 195,
    "start_time": "2022-04-03T20:26:02.289Z"
   },
   {
    "duration": 138,
    "start_time": "2022-04-03T20:26:02.486Z"
   },
   {
    "duration": 5,
    "start_time": "2022-04-03T20:26:02.626Z"
   },
   {
    "duration": 1733,
    "start_time": "2022-04-03T20:26:02.633Z"
   },
   {
    "duration": 1719,
    "start_time": "2022-04-03T20:26:04.368Z"
   },
   {
    "duration": 910,
    "start_time": "2022-04-03T20:26:06.088Z"
   },
   {
    "duration": 114,
    "start_time": "2022-04-03T20:26:06.999Z"
   },
   {
    "duration": 127,
    "start_time": "2022-04-03T20:26:07.114Z"
   },
   {
    "duration": 23,
    "start_time": "2022-04-03T20:26:07.243Z"
   },
   {
    "duration": 18,
    "start_time": "2022-04-03T20:26:07.267Z"
   },
   {
    "duration": 15,
    "start_time": "2022-04-03T20:39:08.453Z"
   },
   {
    "duration": 1485,
    "start_time": "2022-04-03T20:39:37.758Z"
   },
   {
    "duration": 40,
    "start_time": "2022-04-03T20:39:39.244Z"
   },
   {
    "duration": 4,
    "start_time": "2022-04-03T20:39:39.285Z"
   },
   {
    "duration": 5,
    "start_time": "2022-04-03T20:39:39.290Z"
   },
   {
    "duration": 13,
    "start_time": "2022-04-03T20:39:39.297Z"
   },
   {
    "duration": 10,
    "start_time": "2022-04-03T20:39:39.311Z"
   },
   {
    "duration": 33,
    "start_time": "2022-04-03T20:39:39.322Z"
   },
   {
    "duration": 120,
    "start_time": "2022-04-03T20:39:39.357Z"
   },
   {
    "duration": 20,
    "start_time": "2022-04-03T20:39:39.481Z"
   },
   {
    "duration": 18,
    "start_time": "2022-04-03T20:39:39.503Z"
   },
   {
    "duration": 12,
    "start_time": "2022-04-03T20:39:39.522Z"
   },
   {
    "duration": 4,
    "start_time": "2022-04-03T20:39:39.535Z"
   },
   {
    "duration": 42,
    "start_time": "2022-04-03T20:39:39.541Z"
   },
   {
    "duration": 5,
    "start_time": "2022-04-03T20:39:39.586Z"
   },
   {
    "duration": 7,
    "start_time": "2022-04-03T20:39:39.592Z"
   },
   {
    "duration": 188,
    "start_time": "2022-04-03T20:39:39.601Z"
   },
   {
    "duration": 15215,
    "start_time": "2022-04-03T20:39:39.791Z"
   },
   {
    "duration": 3,
    "start_time": "2022-04-03T20:39:55.007Z"
   },
   {
    "duration": 570,
    "start_time": "2022-04-03T20:39:55.011Z"
   },
   {
    "duration": 119,
    "start_time": "2022-04-03T20:39:55.584Z"
   },
   {
    "duration": 140,
    "start_time": "2022-04-03T20:39:55.705Z"
   },
   {
    "duration": 5,
    "start_time": "2022-04-03T20:39:55.847Z"
   },
   {
    "duration": 1751,
    "start_time": "2022-04-03T20:39:55.853Z"
   },
   {
    "duration": 1734,
    "start_time": "2022-04-03T20:39:57.605Z"
   },
   {
    "duration": 910,
    "start_time": "2022-04-03T20:39:59.340Z"
   },
   {
    "duration": 117,
    "start_time": "2022-04-03T20:40:00.251Z"
   },
   {
    "duration": 124,
    "start_time": "2022-04-03T20:40:00.370Z"
   },
   {
    "duration": 23,
    "start_time": "2022-04-03T20:40:00.495Z"
   },
   {
    "duration": 10,
    "start_time": "2022-04-03T20:40:00.519Z"
   },
   {
    "duration": 1418,
    "start_time": "2022-04-03T20:44:29.231Z"
   },
   {
    "duration": 40,
    "start_time": "2022-04-03T20:44:30.651Z"
   },
   {
    "duration": 5,
    "start_time": "2022-04-03T20:44:30.693Z"
   },
   {
    "duration": 12,
    "start_time": "2022-04-03T20:44:30.700Z"
   },
   {
    "duration": 15,
    "start_time": "2022-04-03T20:44:30.714Z"
   },
   {
    "duration": 15,
    "start_time": "2022-04-03T20:44:30.731Z"
   },
   {
    "duration": 46,
    "start_time": "2022-04-03T20:44:30.748Z"
   },
   {
    "duration": 117,
    "start_time": "2022-04-03T20:44:30.796Z"
   },
   {
    "duration": 26,
    "start_time": "2022-04-03T20:44:30.915Z"
   },
   {
    "duration": 47,
    "start_time": "2022-04-03T20:44:30.943Z"
   },
   {
    "duration": 14,
    "start_time": "2022-04-03T20:44:30.991Z"
   },
   {
    "duration": 7,
    "start_time": "2022-04-03T20:44:31.007Z"
   },
   {
    "duration": 22,
    "start_time": "2022-04-03T20:44:31.015Z"
   },
   {
    "duration": 12,
    "start_time": "2022-04-03T20:44:31.040Z"
   },
   {
    "duration": 12,
    "start_time": "2022-04-03T20:44:31.053Z"
   },
   {
    "duration": 191,
    "start_time": "2022-04-03T20:44:31.066Z"
   },
   {
    "duration": 14622,
    "start_time": "2022-04-03T20:44:31.259Z"
   },
   {
    "duration": 499,
    "start_time": "2022-04-03T20:44:45.882Z"
   },
   {
    "duration": 118,
    "start_time": "2022-04-03T20:44:46.384Z"
   },
   {
    "duration": 135,
    "start_time": "2022-04-03T20:44:46.504Z"
   },
   {
    "duration": 5,
    "start_time": "2022-04-03T20:44:46.641Z"
   },
   {
    "duration": 1607,
    "start_time": "2022-04-03T20:44:46.647Z"
   },
   {
    "duration": 1604,
    "start_time": "2022-04-03T20:44:48.256Z"
   },
   {
    "duration": 872,
    "start_time": "2022-04-03T20:44:49.862Z"
   },
   {
    "duration": 111,
    "start_time": "2022-04-03T20:44:50.735Z"
   },
   {
    "duration": 113,
    "start_time": "2022-04-03T20:44:50.848Z"
   },
   {
    "duration": 31,
    "start_time": "2022-04-03T20:44:50.962Z"
   },
   {
    "duration": 10,
    "start_time": "2022-04-03T20:44:50.994Z"
   },
   {
    "duration": 240,
    "start_time": "2022-04-03T20:48:20.320Z"
   },
   {
    "duration": 1502,
    "start_time": "2022-04-03T20:48:36.743Z"
   },
   {
    "duration": 38,
    "start_time": "2022-04-03T20:48:38.247Z"
   },
   {
    "duration": 3,
    "start_time": "2022-04-03T20:48:38.287Z"
   },
   {
    "duration": 3,
    "start_time": "2022-04-03T20:48:38.292Z"
   },
   {
    "duration": 13,
    "start_time": "2022-04-03T20:48:38.297Z"
   },
   {
    "duration": 9,
    "start_time": "2022-04-03T20:48:38.311Z"
   },
   {
    "duration": 34,
    "start_time": "2022-04-03T20:48:38.322Z"
   },
   {
    "duration": 127,
    "start_time": "2022-04-03T20:48:38.357Z"
   },
   {
    "duration": 24,
    "start_time": "2022-04-03T20:48:38.486Z"
   },
   {
    "duration": 20,
    "start_time": "2022-04-03T20:48:38.512Z"
   },
   {
    "duration": 48,
    "start_time": "2022-04-03T20:48:38.534Z"
   },
   {
    "duration": 5,
    "start_time": "2022-04-03T20:48:38.584Z"
   },
   {
    "duration": 10,
    "start_time": "2022-04-03T20:48:38.591Z"
   },
   {
    "duration": 5,
    "start_time": "2022-04-03T20:48:38.604Z"
   },
   {
    "duration": 8,
    "start_time": "2022-04-03T20:48:38.611Z"
   },
   {
    "duration": 196,
    "start_time": "2022-04-03T20:48:38.620Z"
   },
   {
    "duration": 14202,
    "start_time": "2022-04-03T20:48:38.818Z"
   },
   {
    "duration": 468,
    "start_time": "2022-04-03T20:48:53.022Z"
   },
   {
    "duration": 121,
    "start_time": "2022-04-03T20:48:53.582Z"
   },
   {
    "duration": 262,
    "start_time": "2022-04-03T20:48:53.705Z"
   },
   {
    "duration": 14,
    "start_time": "2022-04-03T20:48:53.969Z"
   },
   {
    "duration": 1589,
    "start_time": "2022-04-03T20:48:53.984Z"
   },
   {
    "duration": 1635,
    "start_time": "2022-04-03T20:48:55.575Z"
   },
   {
    "duration": 889,
    "start_time": "2022-04-03T20:48:57.212Z"
   },
   {
    "duration": 102,
    "start_time": "2022-04-03T20:48:58.102Z"
   },
   {
    "duration": 116,
    "start_time": "2022-04-03T20:48:58.205Z"
   },
   {
    "duration": 23,
    "start_time": "2022-04-03T20:48:58.323Z"
   },
   {
    "duration": 10,
    "start_time": "2022-04-03T20:48:58.348Z"
   },
   {
    "duration": 31,
    "start_time": "2022-04-03T20:50:01.025Z"
   },
   {
    "duration": 242,
    "start_time": "2022-04-03T20:50:06.614Z"
   },
   {
    "duration": 240,
    "start_time": "2022-04-03T20:50:28.823Z"
   },
   {
    "duration": 238,
    "start_time": "2022-04-03T20:50:56.229Z"
   },
   {
    "duration": 3284,
    "start_time": "2022-04-03T20:51:18.016Z"
   },
   {
    "duration": 3175,
    "start_time": "2022-04-03T20:51:34.127Z"
   },
   {
    "duration": 2840,
    "start_time": "2022-04-03T20:52:24.680Z"
   },
   {
    "duration": 413,
    "start_time": "2022-04-03T20:52:54.824Z"
   },
   {
    "duration": 401,
    "start_time": "2022-04-03T20:53:05.959Z"
   },
   {
    "duration": 442,
    "start_time": "2022-04-03T20:53:28.040Z"
   },
   {
    "duration": 46,
    "start_time": "2022-04-03T20:53:35.959Z"
   },
   {
    "duration": 1546,
    "start_time": "2022-04-03T21:01:29.629Z"
   },
   {
    "duration": 54,
    "start_time": "2022-04-03T21:01:31.177Z"
   },
   {
    "duration": 5,
    "start_time": "2022-04-03T21:01:31.232Z"
   },
   {
    "duration": 8,
    "start_time": "2022-04-03T21:01:31.238Z"
   },
   {
    "duration": 20,
    "start_time": "2022-04-03T21:01:31.248Z"
   },
   {
    "duration": 13,
    "start_time": "2022-04-03T21:01:31.269Z"
   },
   {
    "duration": 46,
    "start_time": "2022-04-03T21:01:31.284Z"
   },
   {
    "duration": 108,
    "start_time": "2022-04-03T21:01:31.331Z"
   },
   {
    "duration": 40,
    "start_time": "2022-04-03T21:01:31.441Z"
   },
   {
    "duration": 24,
    "start_time": "2022-04-03T21:01:31.482Z"
   },
   {
    "duration": 13,
    "start_time": "2022-04-03T21:01:31.508Z"
   },
   {
    "duration": 5,
    "start_time": "2022-04-03T21:01:31.522Z"
   },
   {
    "duration": 12,
    "start_time": "2022-04-03T21:01:31.528Z"
   },
   {
    "duration": 8,
    "start_time": "2022-04-03T21:01:31.542Z"
   },
   {
    "duration": 35,
    "start_time": "2022-04-03T21:01:31.552Z"
   },
   {
    "duration": 180,
    "start_time": "2022-04-03T21:01:31.589Z"
   },
   {
    "duration": 15486,
    "start_time": "2022-04-03T21:01:31.771Z"
   },
   {
    "duration": 535,
    "start_time": "2022-04-03T21:01:47.258Z"
   },
   {
    "duration": 129,
    "start_time": "2022-04-03T21:01:47.882Z"
   },
   {
    "duration": 262,
    "start_time": "2022-04-03T21:01:48.012Z"
   },
   {
    "duration": 7,
    "start_time": "2022-04-03T21:01:48.280Z"
   },
   {
    "duration": 3527,
    "start_time": "2022-04-03T21:01:48.289Z"
   },
   {
    "duration": 3653,
    "start_time": "2022-04-03T21:01:51.817Z"
   },
   {
    "duration": 1148,
    "start_time": "2022-04-03T21:01:55.472Z"
   },
   {
    "duration": 123,
    "start_time": "2022-04-03T21:01:56.622Z"
   },
   {
    "duration": 518,
    "start_time": "2022-04-03T21:01:56.747Z"
   },
   {
    "duration": 59,
    "start_time": "2022-04-03T21:01:57.267Z"
   },
   {
    "duration": 13,
    "start_time": "2022-04-03T21:01:57.328Z"
   },
   {
    "duration": 1527,
    "start_time": "2022-04-03T21:05:41.454Z"
   },
   {
    "duration": 41,
    "start_time": "2022-04-03T21:05:42.983Z"
   },
   {
    "duration": 5,
    "start_time": "2022-04-03T21:05:43.025Z"
   },
   {
    "duration": 7,
    "start_time": "2022-04-03T21:05:43.031Z"
   },
   {
    "duration": 16,
    "start_time": "2022-04-03T21:05:43.041Z"
   },
   {
    "duration": 14,
    "start_time": "2022-04-03T21:05:43.059Z"
   },
   {
    "duration": 46,
    "start_time": "2022-04-03T21:05:43.074Z"
   },
   {
    "duration": 123,
    "start_time": "2022-04-03T21:05:43.122Z"
   },
   {
    "duration": 35,
    "start_time": "2022-04-03T21:05:43.247Z"
   },
   {
    "duration": 29,
    "start_time": "2022-04-03T21:05:43.284Z"
   },
   {
    "duration": 12,
    "start_time": "2022-04-03T21:05:43.314Z"
   },
   {
    "duration": 5,
    "start_time": "2022-04-03T21:05:43.328Z"
   },
   {
    "duration": 8,
    "start_time": "2022-04-03T21:05:43.335Z"
   },
   {
    "duration": 36,
    "start_time": "2022-04-03T21:05:43.346Z"
   },
   {
    "duration": 9,
    "start_time": "2022-04-03T21:05:43.384Z"
   },
   {
    "duration": 181,
    "start_time": "2022-04-03T21:05:43.395Z"
   },
   {
    "duration": 18833,
    "start_time": "2022-04-03T21:05:43.578Z"
   },
   {
    "duration": 285,
    "start_time": "2022-04-03T21:06:02.413Z"
   },
   {
    "duration": 205,
    "start_time": "2022-04-03T21:06:02.700Z"
   },
   {
    "duration": 142,
    "start_time": "2022-04-03T21:06:02.907Z"
   },
   {
    "duration": 6,
    "start_time": "2022-04-03T21:06:03.050Z"
   },
   {
    "duration": 1750,
    "start_time": "2022-04-03T21:06:03.057Z"
   },
   {
    "duration": 1735,
    "start_time": "2022-04-03T21:06:04.809Z"
   },
   {
    "duration": 924,
    "start_time": "2022-04-03T21:06:06.546Z"
   },
   {
    "duration": 109,
    "start_time": "2022-04-03T21:06:07.472Z"
   },
   {
    "duration": 252,
    "start_time": "2022-04-03T21:06:07.583Z"
   },
   {
    "duration": 32,
    "start_time": "2022-04-03T21:06:07.837Z"
   },
   {
    "duration": 11,
    "start_time": "2022-04-03T21:06:07.881Z"
   },
   {
    "duration": 233,
    "start_time": "2022-04-03T21:08:22.122Z"
   },
   {
    "duration": 1432,
    "start_time": "2022-04-03T21:08:43.137Z"
   },
   {
    "duration": 48,
    "start_time": "2022-04-03T21:08:44.571Z"
   },
   {
    "duration": 5,
    "start_time": "2022-04-03T21:08:44.621Z"
   },
   {
    "duration": 5,
    "start_time": "2022-04-03T21:08:44.628Z"
   },
   {
    "duration": 16,
    "start_time": "2022-04-03T21:08:44.634Z"
   },
   {
    "duration": 13,
    "start_time": "2022-04-03T21:08:44.652Z"
   },
   {
    "duration": 56,
    "start_time": "2022-04-03T21:08:44.667Z"
   },
   {
    "duration": 171,
    "start_time": "2022-04-03T21:08:44.725Z"
   },
   {
    "duration": 30,
    "start_time": "2022-04-03T21:08:44.897Z"
   },
   {
    "duration": 19,
    "start_time": "2022-04-03T21:08:44.930Z"
   },
   {
    "duration": 45,
    "start_time": "2022-04-03T21:08:44.951Z"
   },
   {
    "duration": 14,
    "start_time": "2022-04-03T21:08:44.998Z"
   },
   {
    "duration": 14,
    "start_time": "2022-04-03T21:08:45.013Z"
   },
   {
    "duration": 7,
    "start_time": "2022-04-03T21:08:45.028Z"
   },
   {
    "duration": 9,
    "start_time": "2022-04-03T21:08:45.036Z"
   },
   {
    "duration": 212,
    "start_time": "2022-04-03T21:08:45.046Z"
   },
   {
    "duration": 15176,
    "start_time": "2022-04-03T21:08:45.260Z"
   },
   {
    "duration": 251,
    "start_time": "2022-04-03T21:09:00.438Z"
   },
   {
    "duration": 208,
    "start_time": "2022-04-03T21:09:00.691Z"
   },
   {
    "duration": 146,
    "start_time": "2022-04-03T21:09:00.901Z"
   },
   {
    "duration": 6,
    "start_time": "2022-04-03T21:09:01.049Z"
   },
   {
    "duration": 1741,
    "start_time": "2022-04-03T21:09:01.056Z"
   },
   {
    "duration": 1740,
    "start_time": "2022-04-03T21:09:02.799Z"
   },
   {
    "duration": 980,
    "start_time": "2022-04-03T21:09:04.541Z"
   },
   {
    "duration": 118,
    "start_time": "2022-04-03T21:09:05.522Z"
   },
   {
    "duration": 247,
    "start_time": "2022-04-03T21:09:05.642Z"
   },
   {
    "duration": 40,
    "start_time": "2022-04-03T21:09:05.891Z"
   },
   {
    "duration": 12,
    "start_time": "2022-04-03T21:09:05.935Z"
   },
   {
    "duration": 229,
    "start_time": "2022-04-03T21:15:29.622Z"
   },
   {
    "duration": 213,
    "start_time": "2022-04-03T21:16:36.342Z"
   },
   {
    "duration": 1450,
    "start_time": "2022-04-03T21:16:49.029Z"
   },
   {
    "duration": 44,
    "start_time": "2022-04-03T21:16:50.482Z"
   },
   {
    "duration": 5,
    "start_time": "2022-04-03T21:16:50.527Z"
   },
   {
    "duration": 9,
    "start_time": "2022-04-03T21:16:50.533Z"
   },
   {
    "duration": 15,
    "start_time": "2022-04-03T21:16:50.544Z"
   },
   {
    "duration": 10,
    "start_time": "2022-04-03T21:16:50.561Z"
   },
   {
    "duration": 43,
    "start_time": "2022-04-03T21:16:50.572Z"
   },
   {
    "duration": 119,
    "start_time": "2022-04-03T21:16:50.617Z"
   },
   {
    "duration": 23,
    "start_time": "2022-04-03T21:16:50.737Z"
   },
   {
    "duration": 23,
    "start_time": "2022-04-03T21:16:50.782Z"
   },
   {
    "duration": 14,
    "start_time": "2022-04-03T21:16:50.807Z"
   },
   {
    "duration": 5,
    "start_time": "2022-04-03T21:16:50.822Z"
   },
   {
    "duration": 7,
    "start_time": "2022-04-03T21:16:50.829Z"
   },
   {
    "duration": 6,
    "start_time": "2022-04-03T21:16:50.839Z"
   },
   {
    "duration": 10,
    "start_time": "2022-04-03T21:16:50.882Z"
   },
   {
    "duration": 187,
    "start_time": "2022-04-03T21:16:50.894Z"
   },
   {
    "duration": 14955,
    "start_time": "2022-04-03T21:16:51.083Z"
   },
   {
    "duration": 343,
    "start_time": "2022-04-03T21:17:06.040Z"
   },
   {
    "duration": 135,
    "start_time": "2022-04-03T21:17:06.385Z"
   },
   {
    "duration": 132,
    "start_time": "2022-04-03T21:17:06.522Z"
   },
   {
    "duration": 5,
    "start_time": "2022-04-03T21:17:06.656Z"
   },
   {
    "duration": 1738,
    "start_time": "2022-04-03T21:17:06.662Z"
   },
   {
    "duration": 1838,
    "start_time": "2022-04-03T21:17:08.402Z"
   },
   {
    "duration": 1864,
    "start_time": "2022-04-03T21:17:10.242Z"
   },
   {
    "duration": 232,
    "start_time": "2022-04-03T21:17:12.108Z"
   },
   {
    "duration": 236,
    "start_time": "2022-04-03T21:17:12.341Z"
   },
   {
    "duration": 42,
    "start_time": "2022-04-03T21:17:12.582Z"
   },
   {
    "duration": 10,
    "start_time": "2022-04-03T21:17:12.626Z"
   },
   {
    "duration": 1706,
    "start_time": "2022-04-04T07:24:52.403Z"
   },
   {
    "duration": 66,
    "start_time": "2022-04-04T07:24:54.112Z"
   },
   {
    "duration": 6,
    "start_time": "2022-04-04T07:24:54.180Z"
   },
   {
    "duration": 7,
    "start_time": "2022-04-04T07:24:54.188Z"
   },
   {
    "duration": 17,
    "start_time": "2022-04-04T07:24:54.197Z"
   },
   {
    "duration": 11,
    "start_time": "2022-04-04T07:24:54.215Z"
   },
   {
    "duration": 34,
    "start_time": "2022-04-04T07:24:54.227Z"
   },
   {
    "duration": 119,
    "start_time": "2022-04-04T07:24:54.263Z"
   },
   {
    "duration": 22,
    "start_time": "2022-04-04T07:24:54.383Z"
   },
   {
    "duration": 19,
    "start_time": "2022-04-04T07:24:54.406Z"
   },
   {
    "duration": 12,
    "start_time": "2022-04-04T07:24:54.427Z"
   },
   {
    "duration": 6,
    "start_time": "2022-04-04T07:24:54.440Z"
   },
   {
    "duration": 6,
    "start_time": "2022-04-04T07:24:54.481Z"
   },
   {
    "duration": 5,
    "start_time": "2022-04-04T07:24:54.490Z"
   },
   {
    "duration": 9,
    "start_time": "2022-04-04T07:24:54.496Z"
   },
   {
    "duration": 195,
    "start_time": "2022-04-04T07:24:54.506Z"
   },
   {
    "duration": 14628,
    "start_time": "2022-04-04T07:24:54.703Z"
   },
   {
    "duration": 452,
    "start_time": "2022-04-04T07:25:09.333Z"
   },
   {
    "duration": 127,
    "start_time": "2022-04-04T07:25:09.788Z"
   },
   {
    "duration": 153,
    "start_time": "2022-04-04T07:25:09.917Z"
   },
   {
    "duration": 11,
    "start_time": "2022-04-04T07:25:10.071Z"
   },
   {
    "duration": 1710,
    "start_time": "2022-04-04T07:25:10.084Z"
   },
   {
    "duration": 1633,
    "start_time": "2022-04-04T07:25:11.796Z"
   },
   {
    "duration": 1553,
    "start_time": "2022-04-04T07:25:13.431Z"
   },
   {
    "duration": 218,
    "start_time": "2022-04-04T07:25:14.986Z"
   },
   {
    "duration": 228,
    "start_time": "2022-04-04T07:25:15.205Z"
   },
   {
    "duration": 30,
    "start_time": "2022-04-04T07:25:15.435Z"
   },
   {
    "duration": 19,
    "start_time": "2022-04-04T07:25:15.467Z"
   },
   {
    "duration": 1504,
    "start_time": "2022-04-04T07:28:53.766Z"
   },
   {
    "duration": 40,
    "start_time": "2022-04-04T07:28:55.272Z"
   },
   {
    "duration": 5,
    "start_time": "2022-04-04T07:28:55.314Z"
   },
   {
    "duration": 4,
    "start_time": "2022-04-04T07:28:55.321Z"
   },
   {
    "duration": 32,
    "start_time": "2022-04-04T07:28:55.327Z"
   },
   {
    "duration": 11,
    "start_time": "2022-04-04T07:28:55.361Z"
   },
   {
    "duration": 38,
    "start_time": "2022-04-04T07:28:55.374Z"
   },
   {
    "duration": 111,
    "start_time": "2022-04-04T07:28:55.414Z"
   },
   {
    "duration": 26,
    "start_time": "2022-04-04T07:28:55.527Z"
   },
   {
    "duration": 42,
    "start_time": "2022-04-04T07:28:55.556Z"
   },
   {
    "duration": 14,
    "start_time": "2022-04-04T07:28:55.600Z"
   },
   {
    "duration": 6,
    "start_time": "2022-04-04T07:28:55.616Z"
   },
   {
    "duration": 10,
    "start_time": "2022-04-04T07:28:55.624Z"
   },
   {
    "duration": 6,
    "start_time": "2022-04-04T07:28:55.636Z"
   },
   {
    "duration": 7,
    "start_time": "2022-04-04T07:28:55.681Z"
   },
   {
    "duration": 191,
    "start_time": "2022-04-04T07:28:55.690Z"
   },
   {
    "duration": 14738,
    "start_time": "2022-04-04T07:28:55.883Z"
   },
   {
    "duration": 563,
    "start_time": "2022-04-04T07:29:10.623Z"
   },
   {
    "duration": 127,
    "start_time": "2022-04-04T07:29:11.190Z"
   },
   {
    "duration": 153,
    "start_time": "2022-04-04T07:29:11.318Z"
   },
   {
    "duration": 10,
    "start_time": "2022-04-04T07:29:11.473Z"
   },
   {
    "duration": 1688,
    "start_time": "2022-04-04T07:29:11.485Z"
   },
   {
    "duration": 1671,
    "start_time": "2022-04-04T07:29:13.174Z"
   },
   {
    "duration": 1594,
    "start_time": "2022-04-04T07:29:14.847Z"
   },
   {
    "duration": 219,
    "start_time": "2022-04-04T07:29:16.443Z"
   },
   {
    "duration": 225,
    "start_time": "2022-04-04T07:29:16.663Z"
   },
   {
    "duration": 29,
    "start_time": "2022-04-04T07:29:16.889Z"
   },
   {
    "duration": 11,
    "start_time": "2022-04-04T07:29:16.921Z"
   },
   {
    "duration": 1516,
    "start_time": "2022-04-04T07:32:53.177Z"
   },
   {
    "duration": 43,
    "start_time": "2022-04-04T07:32:54.695Z"
   },
   {
    "duration": 5,
    "start_time": "2022-04-04T07:32:54.739Z"
   },
   {
    "duration": 5,
    "start_time": "2022-04-04T07:32:54.745Z"
   },
   {
    "duration": 17,
    "start_time": "2022-04-04T07:32:54.753Z"
   },
   {
    "duration": 14,
    "start_time": "2022-04-04T07:32:54.771Z"
   },
   {
    "duration": 35,
    "start_time": "2022-04-04T07:32:54.787Z"
   },
   {
    "duration": 119,
    "start_time": "2022-04-04T07:32:54.824Z"
   },
   {
    "duration": 37,
    "start_time": "2022-04-04T07:32:54.945Z"
   },
   {
    "duration": 23,
    "start_time": "2022-04-04T07:32:54.983Z"
   },
   {
    "duration": 17,
    "start_time": "2022-04-04T07:32:55.008Z"
   },
   {
    "duration": 6,
    "start_time": "2022-04-04T07:32:55.026Z"
   },
   {
    "duration": 14,
    "start_time": "2022-04-04T07:32:55.034Z"
   },
   {
    "duration": 34,
    "start_time": "2022-04-04T07:32:55.051Z"
   },
   {
    "duration": 6,
    "start_time": "2022-04-04T07:32:55.086Z"
   },
   {
    "duration": 185,
    "start_time": "2022-04-04T07:32:55.094Z"
   },
   {
    "duration": 14871,
    "start_time": "2022-04-04T07:32:55.280Z"
   },
   {
    "duration": 339,
    "start_time": "2022-04-04T07:33:10.152Z"
   },
   {
    "duration": 214,
    "start_time": "2022-04-04T07:33:10.493Z"
   },
   {
    "duration": 376,
    "start_time": "2022-04-04T07:33:10.708Z"
   },
   {
    "duration": 6,
    "start_time": "2022-04-04T07:33:11.086Z"
   },
   {
    "duration": 3449,
    "start_time": "2022-04-04T07:33:11.093Z"
   },
   {
    "duration": 3433,
    "start_time": "2022-04-04T07:33:14.543Z"
   },
   {
    "duration": 2976,
    "start_time": "2022-04-04T07:33:17.981Z"
   },
   {
    "duration": 357,
    "start_time": "2022-04-04T07:33:20.959Z"
   },
   {
    "duration": 372,
    "start_time": "2022-04-04T07:33:21.318Z"
   },
   {
    "duration": 44,
    "start_time": "2022-04-04T07:33:21.691Z"
   },
   {
    "duration": 13,
    "start_time": "2022-04-04T07:33:21.736Z"
   },
   {
    "duration": 1449,
    "start_time": "2022-04-04T07:45:41.997Z"
   },
   {
    "duration": 39,
    "start_time": "2022-04-04T07:45:43.448Z"
   },
   {
    "duration": 4,
    "start_time": "2022-04-04T07:45:43.489Z"
   },
   {
    "duration": 5,
    "start_time": "2022-04-04T07:45:43.495Z"
   },
   {
    "duration": 13,
    "start_time": "2022-04-04T07:45:43.501Z"
   },
   {
    "duration": 10,
    "start_time": "2022-04-04T07:45:43.515Z"
   },
   {
    "duration": 34,
    "start_time": "2022-04-04T07:45:43.526Z"
   },
   {
    "duration": 103,
    "start_time": "2022-04-04T07:45:43.580Z"
   },
   {
    "duration": 22,
    "start_time": "2022-04-04T07:45:43.684Z"
   },
   {
    "duration": 18,
    "start_time": "2022-04-04T07:45:43.708Z"
   },
   {
    "duration": 13,
    "start_time": "2022-04-04T07:45:43.727Z"
   },
   {
    "duration": 5,
    "start_time": "2022-04-04T07:45:43.741Z"
   },
   {
    "duration": 41,
    "start_time": "2022-04-04T07:45:43.747Z"
   },
   {
    "duration": 4,
    "start_time": "2022-04-04T07:45:43.790Z"
   },
   {
    "duration": 6,
    "start_time": "2022-04-04T07:45:43.796Z"
   },
   {
    "duration": 192,
    "start_time": "2022-04-04T07:45:43.803Z"
   },
   {
    "duration": 14273,
    "start_time": "2022-04-04T07:45:43.996Z"
   },
   {
    "duration": 311,
    "start_time": "2022-04-04T07:45:58.271Z"
   },
   {
    "duration": 125,
    "start_time": "2022-04-04T07:45:58.583Z"
   },
   {
    "duration": 258,
    "start_time": "2022-04-04T07:45:58.710Z"
   },
   {
    "duration": 12,
    "start_time": "2022-04-04T07:45:58.970Z"
   },
   {
    "duration": 3269,
    "start_time": "2022-04-04T07:45:58.984Z"
   },
   {
    "duration": 3232,
    "start_time": "2022-04-04T07:46:02.254Z"
   },
   {
    "duration": 2870,
    "start_time": "2022-04-04T07:46:05.488Z"
   },
   {
    "duration": 358,
    "start_time": "2022-04-04T07:46:08.360Z"
   },
   {
    "duration": 376,
    "start_time": "2022-04-04T07:46:08.719Z"
   },
   {
    "duration": 44,
    "start_time": "2022-04-04T07:46:09.096Z"
   },
   {
    "duration": 12,
    "start_time": "2022-04-04T07:46:09.143Z"
   },
   {
    "duration": 243,
    "start_time": "2022-04-04T07:48:24.150Z"
   },
   {
    "duration": 248,
    "start_time": "2022-04-04T07:49:41.241Z"
   },
   {
    "duration": 1617,
    "start_time": "2022-04-04T07:50:30.792Z"
   },
   {
    "duration": 41,
    "start_time": "2022-04-04T07:50:32.411Z"
   },
   {
    "duration": 4,
    "start_time": "2022-04-04T07:50:32.454Z"
   },
   {
    "duration": 9,
    "start_time": "2022-04-04T07:50:32.459Z"
   },
   {
    "duration": 23,
    "start_time": "2022-04-04T07:50:32.470Z"
   },
   {
    "duration": 16,
    "start_time": "2022-04-04T07:50:32.495Z"
   },
   {
    "duration": 37,
    "start_time": "2022-04-04T07:50:32.513Z"
   },
   {
    "duration": 99,
    "start_time": "2022-04-04T07:50:32.552Z"
   },
   {
    "duration": 35,
    "start_time": "2022-04-04T07:50:32.652Z"
   },
   {
    "duration": 18,
    "start_time": "2022-04-04T07:50:32.689Z"
   },
   {
    "duration": 16,
    "start_time": "2022-04-04T07:50:32.709Z"
   },
   {
    "duration": 13,
    "start_time": "2022-04-04T07:50:32.727Z"
   },
   {
    "duration": 37,
    "start_time": "2022-04-04T07:50:32.741Z"
   },
   {
    "duration": 21,
    "start_time": "2022-04-04T07:50:32.780Z"
   },
   {
    "duration": 16,
    "start_time": "2022-04-04T07:50:32.803Z"
   },
   {
    "duration": 187,
    "start_time": "2022-04-04T07:50:32.820Z"
   },
   {
    "duration": 14287,
    "start_time": "2022-04-04T07:50:33.008Z"
   },
   {
    "duration": 485,
    "start_time": "2022-04-04T07:50:47.297Z"
   },
   {
    "duration": 122,
    "start_time": "2022-04-04T07:50:47.785Z"
   },
   {
    "duration": 254,
    "start_time": "2022-04-04T07:50:47.909Z"
   },
   {
    "duration": 6,
    "start_time": "2022-04-04T07:50:48.165Z"
   },
   {
    "duration": 3399,
    "start_time": "2022-04-04T07:50:48.180Z"
   },
   {
    "duration": 3270,
    "start_time": "2022-04-04T07:50:51.580Z"
   },
   {
    "duration": 2855,
    "start_time": "2022-04-04T07:50:54.852Z"
   },
   {
    "duration": 361,
    "start_time": "2022-04-04T07:50:57.709Z"
   },
   {
    "duration": 380,
    "start_time": "2022-04-04T07:50:58.072Z"
   },
   {
    "duration": 53,
    "start_time": "2022-04-04T07:50:58.453Z"
   },
   {
    "duration": 11,
    "start_time": "2022-04-04T07:50:58.508Z"
   },
   {
    "duration": 3106,
    "start_time": "2022-04-04T07:52:41.500Z"
   },
   {
    "duration": 242,
    "start_time": "2022-04-04T07:52:59.049Z"
   },
   {
    "duration": 2763,
    "start_time": "2022-04-04T07:53:33.223Z"
   },
   {
    "duration": 1498,
    "start_time": "2022-04-04T07:54:11.990Z"
   },
   {
    "duration": 699,
    "start_time": "2022-04-04T07:54:13.491Z"
   },
   {
    "duration": 4,
    "start_time": "2022-04-04T07:54:14.192Z"
   },
   {
    "duration": 6,
    "start_time": "2022-04-04T07:54:14.199Z"
   },
   {
    "duration": 16,
    "start_time": "2022-04-04T07:54:14.206Z"
   },
   {
    "duration": 10,
    "start_time": "2022-04-04T07:54:14.224Z"
   },
   {
    "duration": 62,
    "start_time": "2022-04-04T07:54:14.235Z"
   },
   {
    "duration": 108,
    "start_time": "2022-04-04T07:54:14.299Z"
   },
   {
    "duration": 25,
    "start_time": "2022-04-04T07:54:14.409Z"
   },
   {
    "duration": 49,
    "start_time": "2022-04-04T07:54:14.437Z"
   },
   {
    "duration": 14,
    "start_time": "2022-04-04T07:54:14.488Z"
   },
   {
    "duration": 6,
    "start_time": "2022-04-04T07:54:14.504Z"
   },
   {
    "duration": 10,
    "start_time": "2022-04-04T07:54:14.512Z"
   },
   {
    "duration": 7,
    "start_time": "2022-04-04T07:54:14.523Z"
   },
   {
    "duration": 6,
    "start_time": "2022-04-04T07:54:14.532Z"
   },
   {
    "duration": 222,
    "start_time": "2022-04-04T07:54:14.539Z"
   },
   {
    "duration": 14461,
    "start_time": "2022-04-04T07:54:14.763Z"
   },
   {
    "duration": 556,
    "start_time": "2022-04-04T07:54:29.226Z"
   },
   {
    "duration": 124,
    "start_time": "2022-04-04T07:54:29.787Z"
   },
   {
    "duration": 268,
    "start_time": "2022-04-04T07:54:29.913Z"
   },
   {
    "duration": 6,
    "start_time": "2022-04-04T07:54:30.182Z"
   },
   {
    "duration": 3247,
    "start_time": "2022-04-04T07:54:30.189Z"
   },
   {
    "duration": 3144,
    "start_time": "2022-04-04T07:54:33.437Z"
   },
   {
    "duration": 2800,
    "start_time": "2022-04-04T07:54:36.582Z"
   },
   {
    "duration": 357,
    "start_time": "2022-04-04T07:54:39.384Z"
   },
   {
    "duration": 372,
    "start_time": "2022-04-04T07:54:39.743Z"
   },
   {
    "duration": 45,
    "start_time": "2022-04-04T07:54:40.116Z"
   },
   {
    "duration": 12,
    "start_time": "2022-04-04T07:54:40.180Z"
   },
   {
    "duration": 253,
    "start_time": "2022-04-04T08:05:14.532Z"
   },
   {
    "duration": 240,
    "start_time": "2022-04-04T08:05:22.805Z"
   },
   {
    "duration": 259,
    "start_time": "2022-04-04T08:05:30.693Z"
   },
   {
    "duration": 243,
    "start_time": "2022-04-04T08:05:59.574Z"
   },
   {
    "duration": 104,
    "start_time": "2022-04-04T08:06:32.934Z"
   },
   {
    "duration": 3367,
    "start_time": "2022-04-04T08:06:49.246Z"
   },
   {
    "duration": 3227,
    "start_time": "2022-04-04T08:06:59.782Z"
   },
   {
    "duration": 2860,
    "start_time": "2022-04-04T08:09:02.550Z"
   },
   {
    "duration": 1494,
    "start_time": "2022-04-04T08:09:42.267Z"
   },
   {
    "duration": 40,
    "start_time": "2022-04-04T08:09:43.763Z"
   },
   {
    "duration": 4,
    "start_time": "2022-04-04T08:09:43.805Z"
   },
   {
    "duration": 5,
    "start_time": "2022-04-04T08:09:43.810Z"
   },
   {
    "duration": 15,
    "start_time": "2022-04-04T08:09:43.816Z"
   },
   {
    "duration": 10,
    "start_time": "2022-04-04T08:09:43.832Z"
   },
   {
    "duration": 60,
    "start_time": "2022-04-04T08:09:43.843Z"
   },
   {
    "duration": 107,
    "start_time": "2022-04-04T08:09:43.904Z"
   },
   {
    "duration": 25,
    "start_time": "2022-04-04T08:09:44.012Z"
   },
   {
    "duration": 44,
    "start_time": "2022-04-04T08:09:44.040Z"
   },
   {
    "duration": 13,
    "start_time": "2022-04-04T08:09:44.086Z"
   },
   {
    "duration": 6,
    "start_time": "2022-04-04T08:09:44.101Z"
   },
   {
    "duration": 9,
    "start_time": "2022-04-04T08:09:44.109Z"
   },
   {
    "duration": 6,
    "start_time": "2022-04-04T08:09:44.120Z"
   },
   {
    "duration": 8,
    "start_time": "2022-04-04T08:09:44.127Z"
   },
   {
    "duration": 207,
    "start_time": "2022-04-04T08:09:44.136Z"
   },
   {
    "duration": 15492,
    "start_time": "2022-04-04T08:09:44.345Z"
   },
   {
    "duration": 642,
    "start_time": "2022-04-04T08:09:59.839Z"
   },
   {
    "duration": 3,
    "start_time": "2022-04-04T08:10:00.484Z"
   },
   {
    "duration": 358,
    "start_time": "2022-04-04T08:10:00.489Z"
   },
   {
    "duration": 5,
    "start_time": "2022-04-04T08:10:00.849Z"
   },
   {
    "duration": 3347,
    "start_time": "2022-04-04T08:10:00.856Z"
   },
   {
    "duration": 3386,
    "start_time": "2022-04-04T08:10:04.204Z"
   },
   {
    "duration": 3035,
    "start_time": "2022-04-04T08:10:07.592Z"
   },
   {
    "duration": 385,
    "start_time": "2022-04-04T08:10:10.628Z"
   },
   {
    "duration": 394,
    "start_time": "2022-04-04T08:10:11.015Z"
   },
   {
    "duration": 48,
    "start_time": "2022-04-04T08:10:11.410Z"
   },
   {
    "duration": 29,
    "start_time": "2022-04-04T08:10:11.461Z"
   },
   {
    "duration": 2633,
    "start_time": "2022-04-04T08:11:07.511Z"
   },
   {
    "duration": 181,
    "start_time": "2022-04-04T08:11:31.399Z"
   },
   {
    "duration": 182,
    "start_time": "2022-04-04T08:11:39.054Z"
   },
   {
    "duration": 200,
    "start_time": "2022-04-04T08:12:24.822Z"
   },
   {
    "duration": 1475,
    "start_time": "2022-04-04T08:12:32.920Z"
   },
   {
    "duration": 51,
    "start_time": "2022-04-04T08:12:34.396Z"
   },
   {
    "duration": 4,
    "start_time": "2022-04-04T08:12:34.448Z"
   },
   {
    "duration": 4,
    "start_time": "2022-04-04T08:12:34.454Z"
   },
   {
    "duration": 14,
    "start_time": "2022-04-04T08:12:34.459Z"
   },
   {
    "duration": 10,
    "start_time": "2022-04-04T08:12:34.474Z"
   },
   {
    "duration": 35,
    "start_time": "2022-04-04T08:12:34.485Z"
   },
   {
    "duration": 116,
    "start_time": "2022-04-04T08:12:34.521Z"
   },
   {
    "duration": 21,
    "start_time": "2022-04-04T08:12:34.638Z"
   },
   {
    "duration": 20,
    "start_time": "2022-04-04T08:12:34.680Z"
   },
   {
    "duration": 13,
    "start_time": "2022-04-04T08:12:34.701Z"
   },
   {
    "duration": 6,
    "start_time": "2022-04-04T08:12:34.715Z"
   },
   {
    "duration": 10,
    "start_time": "2022-04-04T08:12:34.722Z"
   },
   {
    "duration": 5,
    "start_time": "2022-04-04T08:12:34.734Z"
   },
   {
    "duration": 41,
    "start_time": "2022-04-04T08:12:34.740Z"
   },
   {
    "duration": 174,
    "start_time": "2022-04-04T08:12:34.782Z"
   },
   {
    "duration": 14843,
    "start_time": "2022-04-04T08:12:34.957Z"
   },
   {
    "duration": 581,
    "start_time": "2022-04-04T08:12:49.801Z"
   },
   {
    "duration": 3,
    "start_time": "2022-04-04T08:12:50.386Z"
   },
   {
    "duration": 261,
    "start_time": "2022-04-04T08:12:50.480Z"
   },
   {
    "duration": 7,
    "start_time": "2022-04-04T08:12:50.743Z"
   },
   {
    "duration": 3659,
    "start_time": "2022-04-04T08:12:50.751Z"
   },
   {
    "duration": 3290,
    "start_time": "2022-04-04T08:12:54.411Z"
   },
   {
    "duration": 2514,
    "start_time": "2022-04-04T08:12:57.703Z"
   },
   {
    "duration": 192,
    "start_time": "2022-04-04T08:13:00.219Z"
   },
   {
    "duration": 292,
    "start_time": "2022-04-04T08:13:00.412Z"
   },
   {
    "duration": 0,
    "start_time": "2022-04-04T08:13:00.705Z"
   },
   {
    "duration": 0,
    "start_time": "2022-04-04T08:13:00.706Z"
   },
   {
    "duration": 197,
    "start_time": "2022-04-04T08:16:30.375Z"
   },
   {
    "duration": 199,
    "start_time": "2022-04-04T08:16:38.645Z"
   },
   {
    "duration": 1475,
    "start_time": "2022-04-04T08:16:52.498Z"
   },
   {
    "duration": 41,
    "start_time": "2022-04-04T08:16:53.975Z"
   },
   {
    "duration": 4,
    "start_time": "2022-04-04T08:16:54.017Z"
   },
   {
    "duration": 13,
    "start_time": "2022-04-04T08:16:54.023Z"
   },
   {
    "duration": 15,
    "start_time": "2022-04-04T08:16:54.037Z"
   },
   {
    "duration": 11,
    "start_time": "2022-04-04T08:16:54.053Z"
   },
   {
    "duration": 38,
    "start_time": "2022-04-04T08:16:54.065Z"
   },
   {
    "duration": 107,
    "start_time": "2022-04-04T08:16:54.104Z"
   },
   {
    "duration": 22,
    "start_time": "2022-04-04T08:16:54.213Z"
   },
   {
    "duration": 19,
    "start_time": "2022-04-04T08:16:54.238Z"
   },
   {
    "duration": 14,
    "start_time": "2022-04-04T08:16:54.280Z"
   },
   {
    "duration": 5,
    "start_time": "2022-04-04T08:16:54.296Z"
   },
   {
    "duration": 10,
    "start_time": "2022-04-04T08:16:54.302Z"
   },
   {
    "duration": 5,
    "start_time": "2022-04-04T08:16:54.314Z"
   },
   {
    "duration": 8,
    "start_time": "2022-04-04T08:16:54.320Z"
   },
   {
    "duration": 195,
    "start_time": "2022-04-04T08:16:54.330Z"
   },
   {
    "duration": 14825,
    "start_time": "2022-04-04T08:16:54.526Z"
   },
   {
    "duration": 535,
    "start_time": "2022-04-04T08:17:09.352Z"
   },
   {
    "duration": 93,
    "start_time": "2022-04-04T08:17:09.889Z"
   },
   {
    "duration": 406,
    "start_time": "2022-04-04T08:17:09.984Z"
   },
   {
    "duration": 7,
    "start_time": "2022-04-04T08:17:10.391Z"
   },
   {
    "duration": 3464,
    "start_time": "2022-04-04T08:17:10.400Z"
   },
   {
    "duration": 3402,
    "start_time": "2022-04-04T08:17:13.866Z"
   },
   {
    "duration": 2588,
    "start_time": "2022-04-04T08:17:17.269Z"
   },
   {
    "duration": 192,
    "start_time": "2022-04-04T08:17:19.859Z"
   },
   {
    "duration": 208,
    "start_time": "2022-04-04T08:17:20.053Z"
   },
   {
    "duration": 56,
    "start_time": "2022-04-04T08:17:20.263Z"
   },
   {
    "duration": 12,
    "start_time": "2022-04-04T08:17:20.322Z"
   },
   {
    "duration": 4,
    "start_time": "2022-04-04T08:18:23.325Z"
   },
   {
    "duration": 4,
    "start_time": "2022-04-04T08:24:07.337Z"
   },
   {
    "duration": 4,
    "start_time": "2022-04-04T08:24:37.700Z"
   },
   {
    "duration": 1481,
    "start_time": "2022-04-04T08:26:57.599Z"
   },
   {
    "duration": 52,
    "start_time": "2022-04-04T08:26:59.082Z"
   },
   {
    "duration": 4,
    "start_time": "2022-04-04T08:26:59.136Z"
   },
   {
    "duration": 5,
    "start_time": "2022-04-04T08:26:59.142Z"
   },
   {
    "duration": 12,
    "start_time": "2022-04-04T08:26:59.150Z"
   },
   {
    "duration": 11,
    "start_time": "2022-04-04T08:26:59.163Z"
   },
   {
    "duration": 36,
    "start_time": "2022-04-04T08:26:59.176Z"
   },
   {
    "duration": 119,
    "start_time": "2022-04-04T08:26:59.214Z"
   },
   {
    "duration": 23,
    "start_time": "2022-04-04T08:26:59.335Z"
   },
   {
    "duration": 37,
    "start_time": "2022-04-04T08:26:59.360Z"
   },
   {
    "duration": 13,
    "start_time": "2022-04-04T08:26:59.399Z"
   },
   {
    "duration": 5,
    "start_time": "2022-04-04T08:26:59.413Z"
   },
   {
    "duration": 9,
    "start_time": "2022-04-04T08:26:59.420Z"
   },
   {
    "duration": 5,
    "start_time": "2022-04-04T08:26:59.431Z"
   },
   {
    "duration": 7,
    "start_time": "2022-04-04T08:26:59.437Z"
   },
   {
    "duration": 218,
    "start_time": "2022-04-04T08:26:59.445Z"
   },
   {
    "duration": 15663,
    "start_time": "2022-04-04T08:26:59.664Z"
   },
   {
    "duration": 853,
    "start_time": "2022-04-04T08:27:15.329Z"
   },
   {
    "duration": 125,
    "start_time": "2022-04-04T08:27:16.185Z"
   },
   {
    "duration": 379,
    "start_time": "2022-04-04T08:27:16.312Z"
   },
   {
    "duration": 5,
    "start_time": "2022-04-04T08:27:16.693Z"
   },
   {
    "duration": 3397,
    "start_time": "2022-04-04T08:27:16.700Z"
   },
   {
    "duration": 3461,
    "start_time": "2022-04-04T08:27:20.098Z"
   },
   {
    "duration": 4,
    "start_time": "2022-04-04T08:27:23.560Z"
   },
   {
    "duration": 16,
    "start_time": "2022-04-04T08:27:23.565Z"
   },
   {
    "duration": 2526,
    "start_time": "2022-04-04T08:27:23.583Z"
   },
   {
    "duration": 193,
    "start_time": "2022-04-04T08:27:26.110Z"
   },
   {
    "duration": 212,
    "start_time": "2022-04-04T08:27:26.304Z"
   },
   {
    "duration": 3,
    "start_time": "2022-04-04T08:27:26.518Z"
   },
   {
    "duration": 45,
    "start_time": "2022-04-04T08:27:26.522Z"
   },
   {
    "duration": 12,
    "start_time": "2022-04-04T08:27:26.580Z"
   },
   {
    "duration": 198,
    "start_time": "2022-04-04T08:31:34.307Z"
   },
   {
    "duration": 194,
    "start_time": "2022-04-04T08:31:47.946Z"
   },
   {
    "duration": 248,
    "start_time": "2022-04-04T08:32:26.051Z"
   },
   {
    "duration": 243,
    "start_time": "2022-04-04T08:32:37.066Z"
   },
   {
    "duration": 4,
    "start_time": "2022-04-04T08:33:53.334Z"
   },
   {
    "duration": 42,
    "start_time": "2022-04-04T08:33:53.339Z"
   },
   {
    "duration": 4,
    "start_time": "2022-04-04T08:33:53.383Z"
   },
   {
    "duration": 5,
    "start_time": "2022-04-04T08:33:53.388Z"
   },
   {
    "duration": 13,
    "start_time": "2022-04-04T08:33:53.395Z"
   },
   {
    "duration": 10,
    "start_time": "2022-04-04T08:33:53.409Z"
   },
   {
    "duration": 34,
    "start_time": "2022-04-04T08:33:53.420Z"
   },
   {
    "duration": 110,
    "start_time": "2022-04-04T08:33:53.456Z"
   },
   {
    "duration": 34,
    "start_time": "2022-04-04T08:33:53.567Z"
   },
   {
    "duration": 18,
    "start_time": "2022-04-04T08:33:53.602Z"
   },
   {
    "duration": 13,
    "start_time": "2022-04-04T08:33:53.622Z"
   },
   {
    "duration": 5,
    "start_time": "2022-04-04T08:33:53.636Z"
   },
   {
    "duration": 42,
    "start_time": "2022-04-04T08:33:53.642Z"
   },
   {
    "duration": 5,
    "start_time": "2022-04-04T08:33:53.685Z"
   },
   {
    "duration": 7,
    "start_time": "2022-04-04T08:33:53.692Z"
   },
   {
    "duration": 188,
    "start_time": "2022-04-04T08:33:53.700Z"
   },
   {
    "duration": 15131,
    "start_time": "2022-04-04T08:33:53.889Z"
   },
   {
    "duration": 1963,
    "start_time": "2022-04-04T08:34:09.022Z"
   },
   {
    "duration": 122,
    "start_time": "2022-04-04T08:34:10.998Z"
   },
   {
    "duration": 281,
    "start_time": "2022-04-04T08:34:11.121Z"
   },
   {
    "duration": 7,
    "start_time": "2022-04-04T08:34:11.403Z"
   },
   {
    "duration": 3528,
    "start_time": "2022-04-04T08:34:11.411Z"
   },
   {
    "duration": 3377,
    "start_time": "2022-04-04T08:34:14.940Z"
   },
   {
    "duration": 4,
    "start_time": "2022-04-04T08:34:18.319Z"
   },
   {
    "duration": 8,
    "start_time": "2022-04-04T08:34:18.324Z"
   },
   {
    "duration": 2487,
    "start_time": "2022-04-04T08:34:18.333Z"
   },
   {
    "duration": 188,
    "start_time": "2022-04-04T08:34:20.822Z"
   },
   {
    "duration": 217,
    "start_time": "2022-04-04T08:34:21.011Z"
   },
   {
    "duration": 4,
    "start_time": "2022-04-04T08:34:21.229Z"
   },
   {
    "duration": 59,
    "start_time": "2022-04-04T08:34:21.234Z"
   },
   {
    "duration": 12,
    "start_time": "2022-04-04T08:34:21.295Z"
   },
   {
    "duration": 51669,
    "start_time": "2022-04-04T08:36:39.012Z"
   },
   {
    "duration": 2077,
    "start_time": "2022-04-04T08:40:38.630Z"
   },
   {
    "duration": 52,
    "start_time": "2022-04-04T08:40:40.709Z"
   },
   {
    "duration": 4,
    "start_time": "2022-04-04T08:40:40.763Z"
   },
   {
    "duration": 10,
    "start_time": "2022-04-04T08:40:40.768Z"
   },
   {
    "duration": 22,
    "start_time": "2022-04-04T08:40:40.780Z"
   },
   {
    "duration": 54,
    "start_time": "2022-04-04T08:40:40.804Z"
   },
   {
    "duration": 56,
    "start_time": "2022-04-04T08:40:40.860Z"
   },
   {
    "duration": 111,
    "start_time": "2022-04-04T08:40:40.918Z"
   },
   {
    "duration": 21,
    "start_time": "2022-04-04T08:40:41.031Z"
   },
   {
    "duration": 37,
    "start_time": "2022-04-04T08:40:41.053Z"
   },
   {
    "duration": 13,
    "start_time": "2022-04-04T08:40:41.091Z"
   },
   {
    "duration": 13,
    "start_time": "2022-04-04T08:40:41.105Z"
   },
   {
    "duration": 31,
    "start_time": "2022-04-04T08:40:41.119Z"
   },
   {
    "duration": 8,
    "start_time": "2022-04-04T08:40:41.152Z"
   },
   {
    "duration": 11,
    "start_time": "2022-04-04T08:40:41.162Z"
   },
   {
    "duration": 202,
    "start_time": "2022-04-04T08:40:41.175Z"
   },
   {
    "duration": 54239,
    "start_time": "2022-04-04T08:40:41.379Z"
   },
   {
    "duration": 166,
    "start_time": "2022-04-04T08:41:35.620Z"
   },
   {
    "duration": 216,
    "start_time": "2022-04-04T08:41:35.788Z"
   },
   {
    "duration": 263,
    "start_time": "2022-04-04T08:41:36.006Z"
   },
   {
    "duration": 11,
    "start_time": "2022-04-04T08:41:36.270Z"
   },
   {
    "duration": 3177,
    "start_time": "2022-04-04T08:41:36.282Z"
   },
   {
    "duration": 3149,
    "start_time": "2022-04-04T08:41:39.461Z"
   },
   {
    "duration": 3,
    "start_time": "2022-04-04T08:41:42.612Z"
   },
   {
    "duration": 6,
    "start_time": "2022-04-04T08:41:42.616Z"
   },
   {
    "duration": 2566,
    "start_time": "2022-04-04T08:41:42.623Z"
   },
   {
    "duration": 182,
    "start_time": "2022-04-04T08:41:45.191Z"
   },
   {
    "duration": 201,
    "start_time": "2022-04-04T08:41:45.380Z"
   },
   {
    "duration": 3,
    "start_time": "2022-04-04T08:41:45.583Z"
   },
   {
    "duration": 44,
    "start_time": "2022-04-04T08:41:45.588Z"
   },
   {
    "duration": 12,
    "start_time": "2022-04-04T08:41:45.634Z"
   },
   {
    "duration": 52591,
    "start_time": "2022-04-04T08:49:27.634Z"
   },
   {
    "duration": 3,
    "start_time": "2022-04-04T08:53:52.220Z"
   },
   {
    "duration": 40,
    "start_time": "2022-04-04T08:53:52.225Z"
   },
   {
    "duration": 5,
    "start_time": "2022-04-04T08:53:52.266Z"
   },
   {
    "duration": 4,
    "start_time": "2022-04-04T08:53:52.273Z"
   },
   {
    "duration": 13,
    "start_time": "2022-04-04T08:53:52.279Z"
   },
   {
    "duration": 10,
    "start_time": "2022-04-04T08:53:52.293Z"
   },
   {
    "duration": 36,
    "start_time": "2022-04-04T08:53:52.305Z"
   },
   {
    "duration": 108,
    "start_time": "2022-04-04T08:53:52.343Z"
   },
   {
    "duration": 36,
    "start_time": "2022-04-04T08:53:52.453Z"
   },
   {
    "duration": 19,
    "start_time": "2022-04-04T08:53:52.490Z"
   },
   {
    "duration": 12,
    "start_time": "2022-04-04T08:53:52.512Z"
   },
   {
    "duration": 5,
    "start_time": "2022-04-04T08:53:52.526Z"
   },
   {
    "duration": 9,
    "start_time": "2022-04-04T08:53:52.532Z"
   },
   {
    "duration": 39,
    "start_time": "2022-04-04T08:53:52.543Z"
   },
   {
    "duration": 6,
    "start_time": "2022-04-04T08:53:52.584Z"
   },
   {
    "duration": 190,
    "start_time": "2022-04-04T08:53:52.592Z"
   },
   {
    "duration": 52238,
    "start_time": "2022-04-04T08:53:55.532Z"
   },
   {
    "duration": 3,
    "start_time": "2022-04-04T08:55:17.013Z"
   },
   {
    "duration": 4,
    "start_time": "2022-04-04T08:55:45.572Z"
   },
   {
    "duration": 5,
    "start_time": "2022-04-04T08:56:01.973Z"
   },
   {
    "duration": 51945,
    "start_time": "2022-04-04T08:56:13.733Z"
   },
   {
    "duration": 8,
    "start_time": "2022-04-04T08:57:44.132Z"
   },
   {
    "duration": 51074,
    "start_time": "2022-04-04T08:57:51.294Z"
   },
   {
    "duration": 1582,
    "start_time": "2022-04-04T08:59:24.287Z"
   },
   {
    "duration": 55,
    "start_time": "2022-04-04T08:59:25.871Z"
   },
   {
    "duration": 5,
    "start_time": "2022-04-04T08:59:25.928Z"
   },
   {
    "duration": 4,
    "start_time": "2022-04-04T08:59:25.935Z"
   },
   {
    "duration": 17,
    "start_time": "2022-04-04T08:59:25.941Z"
   },
   {
    "duration": 21,
    "start_time": "2022-04-04T08:59:25.960Z"
   },
   {
    "duration": 35,
    "start_time": "2022-04-04T08:59:25.983Z"
   },
   {
    "duration": 116,
    "start_time": "2022-04-04T08:59:26.019Z"
   },
   {
    "duration": 21,
    "start_time": "2022-04-04T08:59:26.136Z"
   },
   {
    "duration": 36,
    "start_time": "2022-04-04T08:59:26.159Z"
   },
   {
    "duration": 14,
    "start_time": "2022-04-04T08:59:26.197Z"
   },
   {
    "duration": 6,
    "start_time": "2022-04-04T08:59:26.213Z"
   },
   {
    "duration": 11,
    "start_time": "2022-04-04T08:59:26.220Z"
   },
   {
    "duration": 6,
    "start_time": "2022-04-04T08:59:26.232Z"
   },
   {
    "duration": 42,
    "start_time": "2022-04-04T08:59:26.239Z"
   },
   {
    "duration": 182,
    "start_time": "2022-04-04T08:59:26.283Z"
   },
   {
    "duration": 51452,
    "start_time": "2022-04-04T08:59:26.466Z"
   },
   {
    "duration": 462,
    "start_time": "2022-04-04T09:00:17.919Z"
   },
   {
    "duration": 126,
    "start_time": "2022-04-04T09:00:18.383Z"
   },
   {
    "duration": 271,
    "start_time": "2022-04-04T09:00:18.510Z"
   },
   {
    "duration": 6,
    "start_time": "2022-04-04T09:00:18.783Z"
   },
   {
    "duration": 3347,
    "start_time": "2022-04-04T09:00:18.791Z"
   },
   {
    "duration": 3187,
    "start_time": "2022-04-04T09:00:22.140Z"
   },
   {
    "duration": 4,
    "start_time": "2022-04-04T09:00:25.329Z"
   },
   {
    "duration": 9,
    "start_time": "2022-04-04T09:00:25.335Z"
   },
   {
    "duration": 2784,
    "start_time": "2022-04-04T09:00:25.345Z"
   },
   {
    "duration": 197,
    "start_time": "2022-04-04T09:00:28.131Z"
   },
   {
    "duration": 214,
    "start_time": "2022-04-04T09:00:28.332Z"
   },
   {
    "duration": 4,
    "start_time": "2022-04-04T09:00:28.549Z"
   },
   {
    "duration": 65,
    "start_time": "2022-04-04T09:00:28.555Z"
   },
   {
    "duration": 14,
    "start_time": "2022-04-04T09:00:28.622Z"
   },
   {
    "duration": 1549,
    "start_time": "2022-04-04T09:05:04.122Z"
   },
   {
    "duration": 53,
    "start_time": "2022-04-04T09:05:05.673Z"
   },
   {
    "duration": 5,
    "start_time": "2022-04-04T09:05:05.727Z"
   },
   {
    "duration": 5,
    "start_time": "2022-04-04T09:05:05.733Z"
   },
   {
    "duration": 15,
    "start_time": "2022-04-04T09:05:05.740Z"
   },
   {
    "duration": 10,
    "start_time": "2022-04-04T09:05:05.757Z"
   },
   {
    "duration": 40,
    "start_time": "2022-04-04T09:05:05.769Z"
   },
   {
    "duration": 115,
    "start_time": "2022-04-04T09:05:05.810Z"
   },
   {
    "duration": 22,
    "start_time": "2022-04-04T09:05:05.926Z"
   },
   {
    "duration": 46,
    "start_time": "2022-04-04T09:05:05.950Z"
   },
   {
    "duration": 14,
    "start_time": "2022-04-04T09:05:05.997Z"
   },
   {
    "duration": 5,
    "start_time": "2022-04-04T09:05:06.012Z"
   },
   {
    "duration": 15,
    "start_time": "2022-04-04T09:05:06.019Z"
   },
   {
    "duration": 5,
    "start_time": "2022-04-04T09:05:06.038Z"
   },
   {
    "duration": 37,
    "start_time": "2022-04-04T09:05:06.045Z"
   },
   {
    "duration": 189,
    "start_time": "2022-04-04T09:05:06.084Z"
   },
   {
    "duration": 53973,
    "start_time": "2022-04-04T09:05:06.275Z"
   },
   {
    "duration": 532,
    "start_time": "2022-04-04T09:06:00.249Z"
   },
   {
    "duration": 129,
    "start_time": "2022-04-04T09:06:00.783Z"
   },
   {
    "duration": 273,
    "start_time": "2022-04-04T09:06:00.914Z"
   },
   {
    "duration": 6,
    "start_time": "2022-04-04T09:06:01.189Z"
   },
   {
    "duration": 3338,
    "start_time": "2022-04-04T09:06:01.197Z"
   },
   {
    "duration": 3249,
    "start_time": "2022-04-04T09:06:04.537Z"
   },
   {
    "duration": 4,
    "start_time": "2022-04-04T09:06:07.788Z"
   },
   {
    "duration": 35,
    "start_time": "2022-04-04T09:06:07.794Z"
   },
   {
    "duration": 2660,
    "start_time": "2022-04-04T09:06:07.831Z"
   },
   {
    "duration": 196,
    "start_time": "2022-04-04T09:06:10.493Z"
   },
   {
    "duration": 227,
    "start_time": "2022-04-04T09:06:10.691Z"
   },
   {
    "duration": 5,
    "start_time": "2022-04-04T09:06:10.920Z"
   },
   {
    "duration": 64,
    "start_time": "2022-04-04T09:06:10.926Z"
   },
   {
    "duration": 12,
    "start_time": "2022-04-04T09:06:10.992Z"
   },
   {
    "duration": 1718,
    "start_time": "2022-04-04T09:08:56.128Z"
   },
   {
    "duration": 41,
    "start_time": "2022-04-04T09:08:57.847Z"
   },
   {
    "duration": 4,
    "start_time": "2022-04-04T09:08:57.889Z"
   },
   {
    "duration": 4,
    "start_time": "2022-04-04T09:08:57.895Z"
   },
   {
    "duration": 13,
    "start_time": "2022-04-04T09:08:57.901Z"
   },
   {
    "duration": 11,
    "start_time": "2022-04-04T09:08:57.915Z"
   },
   {
    "duration": 59,
    "start_time": "2022-04-04T09:08:57.927Z"
   },
   {
    "duration": 110,
    "start_time": "2022-04-04T09:08:57.987Z"
   },
   {
    "duration": 20,
    "start_time": "2022-04-04T09:08:58.099Z"
   },
   {
    "duration": 18,
    "start_time": "2022-04-04T09:08:58.121Z"
   },
   {
    "duration": 13,
    "start_time": "2022-04-04T09:08:58.141Z"
   },
   {
    "duration": 6,
    "start_time": "2022-04-04T09:08:58.180Z"
   },
   {
    "duration": 9,
    "start_time": "2022-04-04T09:08:58.187Z"
   },
   {
    "duration": 8,
    "start_time": "2022-04-04T09:08:58.198Z"
   },
   {
    "duration": 11,
    "start_time": "2022-04-04T09:08:58.207Z"
   },
   {
    "duration": 210,
    "start_time": "2022-04-04T09:08:58.219Z"
   },
   {
    "duration": 51863,
    "start_time": "2022-04-04T09:08:58.431Z"
   },
   {
    "duration": 290,
    "start_time": "2022-04-04T09:09:50.296Z"
   },
   {
    "duration": 199,
    "start_time": "2022-04-04T09:09:50.589Z"
   },
   {
    "duration": 260,
    "start_time": "2022-04-04T09:09:50.789Z"
   },
   {
    "duration": 6,
    "start_time": "2022-04-04T09:09:51.050Z"
   },
   {
    "duration": 3238,
    "start_time": "2022-04-04T09:09:51.058Z"
   },
   {
    "duration": 3218,
    "start_time": "2022-04-04T09:09:54.298Z"
   },
   {
    "duration": 3,
    "start_time": "2022-04-04T09:09:57.518Z"
   },
   {
    "duration": 14,
    "start_time": "2022-04-04T09:09:57.522Z"
   },
   {
    "duration": 2564,
    "start_time": "2022-04-04T09:09:57.537Z"
   },
   {
    "duration": 193,
    "start_time": "2022-04-04T09:10:00.103Z"
   },
   {
    "duration": 207,
    "start_time": "2022-04-04T09:10:00.297Z"
   },
   {
    "duration": 3,
    "start_time": "2022-04-04T09:10:00.506Z"
   },
   {
    "duration": 51,
    "start_time": "2022-04-04T09:10:00.511Z"
   },
   {
    "duration": 26,
    "start_time": "2022-04-04T09:10:00.564Z"
   },
   {
    "duration": 381,
    "start_time": "2022-04-04T09:13:20.426Z"
   },
   {
    "duration": 387,
    "start_time": "2022-04-04T09:13:30.843Z"
   },
   {
    "duration": 128,
    "start_time": "2022-04-04T09:13:47.957Z"
   },
   {
    "duration": 398,
    "start_time": "2022-04-04T09:14:54.900Z"
   },
   {
    "duration": 379,
    "start_time": "2022-04-04T09:15:19.963Z"
   },
   {
    "duration": 3,
    "start_time": "2022-04-04T09:15:35.295Z"
   },
   {
    "duration": 375,
    "start_time": "2022-04-04T09:15:38.156Z"
   },
   {
    "duration": 1523,
    "start_time": "2022-04-04T09:16:31.082Z"
   },
   {
    "duration": 54,
    "start_time": "2022-04-04T09:16:32.607Z"
   },
   {
    "duration": 4,
    "start_time": "2022-04-04T09:16:32.663Z"
   },
   {
    "duration": 7,
    "start_time": "2022-04-04T09:16:32.669Z"
   },
   {
    "duration": 17,
    "start_time": "2022-04-04T09:16:32.678Z"
   },
   {
    "duration": 10,
    "start_time": "2022-04-04T09:16:32.697Z"
   },
   {
    "duration": 34,
    "start_time": "2022-04-04T09:16:32.709Z"
   },
   {
    "duration": 124,
    "start_time": "2022-04-04T09:16:32.745Z"
   },
   {
    "duration": 29,
    "start_time": "2022-04-04T09:16:32.871Z"
   },
   {
    "duration": 21,
    "start_time": "2022-04-04T09:16:32.901Z"
   },
   {
    "duration": 14,
    "start_time": "2022-04-04T09:16:32.923Z"
   },
   {
    "duration": 7,
    "start_time": "2022-04-04T09:16:32.939Z"
   },
   {
    "duration": 7,
    "start_time": "2022-04-04T09:16:32.981Z"
   },
   {
    "duration": 7,
    "start_time": "2022-04-04T09:16:32.991Z"
   },
   {
    "duration": 9,
    "start_time": "2022-04-04T09:16:33.000Z"
   },
   {
    "duration": 249,
    "start_time": "2022-04-04T09:16:33.011Z"
   },
   {
    "duration": 52758,
    "start_time": "2022-04-04T09:16:33.261Z"
   },
   {
    "duration": 260,
    "start_time": "2022-04-04T09:17:26.021Z"
   },
   {
    "duration": 3,
    "start_time": "2022-04-04T09:17:26.284Z"
   },
   {
    "duration": 476,
    "start_time": "2022-04-04T09:17:26.289Z"
   },
   {
    "duration": 6,
    "start_time": "2022-04-04T09:17:26.766Z"
   },
   {
    "duration": 5050,
    "start_time": "2022-04-04T09:17:26.773Z"
   },
   {
    "duration": 5198,
    "start_time": "2022-04-04T09:17:31.825Z"
   },
   {
    "duration": 4,
    "start_time": "2022-04-04T09:17:37.025Z"
   },
   {
    "duration": 5,
    "start_time": "2022-04-04T09:17:37.031Z"
   },
   {
    "duration": 2522,
    "start_time": "2022-04-04T09:17:37.038Z"
   },
   {
    "duration": 189,
    "start_time": "2022-04-04T09:17:39.562Z"
   },
   {
    "duration": 206,
    "start_time": "2022-04-04T09:17:39.753Z"
   },
   {
    "duration": 3,
    "start_time": "2022-04-04T09:17:39.961Z"
   },
   {
    "duration": 56,
    "start_time": "2022-04-04T09:17:39.966Z"
   },
   {
    "duration": 13,
    "start_time": "2022-04-04T09:17:40.024Z"
   },
   {
    "duration": 434,
    "start_time": "2022-04-04T09:21:05.097Z"
   },
   {
    "duration": 1504,
    "start_time": "2022-04-04T09:21:50.331Z"
   },
   {
    "duration": 41,
    "start_time": "2022-04-04T09:21:51.837Z"
   },
   {
    "duration": 5,
    "start_time": "2022-04-04T09:21:51.880Z"
   },
   {
    "duration": 4,
    "start_time": "2022-04-04T09:21:51.887Z"
   },
   {
    "duration": 14,
    "start_time": "2022-04-04T09:21:51.893Z"
   },
   {
    "duration": 14,
    "start_time": "2022-04-04T09:21:51.908Z"
   },
   {
    "duration": 78,
    "start_time": "2022-04-04T09:21:51.924Z"
   },
   {
    "duration": 182,
    "start_time": "2022-04-04T09:21:52.004Z"
   },
   {
    "duration": 27,
    "start_time": "2022-04-04T09:21:52.188Z"
   },
   {
    "duration": 20,
    "start_time": "2022-04-04T09:21:52.217Z"
   },
   {
    "duration": 47,
    "start_time": "2022-04-04T09:21:52.239Z"
   },
   {
    "duration": 7,
    "start_time": "2022-04-04T09:21:52.287Z"
   },
   {
    "duration": 11,
    "start_time": "2022-04-04T09:21:52.295Z"
   },
   {
    "duration": 6,
    "start_time": "2022-04-04T09:21:52.308Z"
   },
   {
    "duration": 8,
    "start_time": "2022-04-04T09:21:52.316Z"
   },
   {
    "duration": 213,
    "start_time": "2022-04-04T09:21:52.326Z"
   },
   {
    "duration": 63392,
    "start_time": "2022-04-04T09:21:52.540Z"
   },
   {
    "duration": 1155,
    "start_time": "2022-04-04T09:22:55.933Z"
   },
   {
    "duration": 91,
    "start_time": "2022-04-04T09:22:57.090Z"
   },
   {
    "duration": 491,
    "start_time": "2022-04-04T09:22:57.183Z"
   },
   {
    "duration": 8,
    "start_time": "2022-04-04T09:22:57.676Z"
   },
   {
    "duration": 5721,
    "start_time": "2022-04-04T09:22:57.685Z"
   },
   {
    "duration": 5243,
    "start_time": "2022-04-04T09:23:03.408Z"
   },
   {
    "duration": 4,
    "start_time": "2022-04-04T09:23:08.653Z"
   },
   {
    "duration": 6,
    "start_time": "2022-04-04T09:23:08.658Z"
   },
   {
    "duration": 4206,
    "start_time": "2022-04-04T09:23:08.666Z"
   },
   {
    "duration": 314,
    "start_time": "2022-04-04T09:23:12.874Z"
   },
   {
    "duration": 333,
    "start_time": "2022-04-04T09:23:13.190Z"
   },
   {
    "duration": 4,
    "start_time": "2022-04-04T09:23:13.525Z"
   },
   {
    "duration": 73,
    "start_time": "2022-04-04T09:23:13.531Z"
   },
   {
    "duration": 15,
    "start_time": "2022-04-04T09:23:13.605Z"
   },
   {
    "duration": 406,
    "start_time": "2022-04-04T09:24:14.847Z"
   },
   {
    "duration": 381,
    "start_time": "2022-04-04T09:24:27.373Z"
   },
   {
    "duration": 5165,
    "start_time": "2022-04-04T09:25:29.343Z"
   },
   {
    "duration": 13622,
    "start_time": "2022-04-04T09:25:41.839Z"
   },
   {
    "duration": 345,
    "start_time": "2022-04-04T09:28:27.856Z"
   },
   {
    "duration": 357,
    "start_time": "2022-04-04T09:29:22.712Z"
   },
   {
    "duration": 4066,
    "start_time": "2022-04-04T09:30:11.216Z"
   },
   {
    "duration": 1548,
    "start_time": "2022-04-04T09:30:44.643Z"
   },
   {
    "duration": 41,
    "start_time": "2022-04-04T09:30:46.193Z"
   },
   {
    "duration": 4,
    "start_time": "2022-04-04T09:30:46.236Z"
   },
   {
    "duration": 8,
    "start_time": "2022-04-04T09:30:46.241Z"
   },
   {
    "duration": 14,
    "start_time": "2022-04-04T09:30:46.250Z"
   },
   {
    "duration": 16,
    "start_time": "2022-04-04T09:30:46.265Z"
   },
   {
    "duration": 35,
    "start_time": "2022-04-04T09:30:46.282Z"
   },
   {
    "duration": 115,
    "start_time": "2022-04-04T09:30:46.318Z"
   },
   {
    "duration": 21,
    "start_time": "2022-04-04T09:30:46.435Z"
   },
   {
    "duration": 38,
    "start_time": "2022-04-04T09:30:46.457Z"
   },
   {
    "duration": 15,
    "start_time": "2022-04-04T09:30:46.497Z"
   },
   {
    "duration": 5,
    "start_time": "2022-04-04T09:30:46.514Z"
   },
   {
    "duration": 9,
    "start_time": "2022-04-04T09:30:46.521Z"
   },
   {
    "duration": 6,
    "start_time": "2022-04-04T09:30:46.534Z"
   },
   {
    "duration": 41,
    "start_time": "2022-04-04T09:30:46.542Z"
   },
   {
    "duration": 183,
    "start_time": "2022-04-04T09:30:46.585Z"
   },
   {
    "duration": 51573,
    "start_time": "2022-04-04T09:30:46.770Z"
   },
   {
    "duration": 243,
    "start_time": "2022-04-04T09:31:38.345Z"
   },
   {
    "duration": 93,
    "start_time": "2022-04-04T09:31:38.590Z"
   },
   {
    "duration": 471,
    "start_time": "2022-04-04T09:31:38.686Z"
   },
   {
    "duration": 5,
    "start_time": "2022-04-04T09:31:39.159Z"
   },
   {
    "duration": 14097,
    "start_time": "2022-04-04T09:31:39.165Z"
   },
   {
    "duration": 5234,
    "start_time": "2022-04-04T09:31:53.264Z"
   },
   {
    "duration": 371,
    "start_time": "2022-04-04T09:31:58.500Z"
   },
   {
    "duration": 364,
    "start_time": "2022-04-04T09:31:58.873Z"
   },
   {
    "duration": 4,
    "start_time": "2022-04-04T09:31:59.239Z"
   },
   {
    "duration": 6,
    "start_time": "2022-04-04T09:31:59.245Z"
   },
   {
    "duration": 4079,
    "start_time": "2022-04-04T09:31:59.253Z"
   },
   {
    "duration": 287,
    "start_time": "2022-04-04T09:32:03.334Z"
   },
   {
    "duration": 315,
    "start_time": "2022-04-04T09:32:03.623Z"
   },
   {
    "duration": 5,
    "start_time": "2022-04-04T09:32:03.940Z"
   },
   {
    "duration": 73,
    "start_time": "2022-04-04T09:32:03.946Z"
   },
   {
    "duration": 14,
    "start_time": "2022-04-04T09:32:04.021Z"
   },
   {
    "duration": 3990,
    "start_time": "2022-04-04T09:33:42.952Z"
   },
   {
    "duration": 296,
    "start_time": "2022-04-04T09:34:21.024Z"
   },
   {
    "duration": 374,
    "start_time": "2022-04-04T09:35:13.640Z"
   },
   {
    "duration": 361,
    "start_time": "2022-04-04T09:35:18.919Z"
   },
   {
    "duration": 356,
    "start_time": "2022-04-04T09:35:27.767Z"
   },
   {
    "duration": 4174,
    "start_time": "2022-04-04T09:36:31.095Z"
   },
   {
    "duration": 432,
    "start_time": "2022-04-04T09:37:35.079Z"
   },
   {
    "duration": 380,
    "start_time": "2022-04-04T09:37:41.776Z"
   },
   {
    "duration": 397,
    "start_time": "2022-04-04T09:37:57.257Z"
   },
   {
    "duration": 1487,
    "start_time": "2022-04-04T09:38:12.094Z"
   },
   {
    "duration": 51,
    "start_time": "2022-04-04T09:38:13.583Z"
   },
   {
    "duration": 4,
    "start_time": "2022-04-04T09:38:13.636Z"
   },
   {
    "duration": 16,
    "start_time": "2022-04-04T09:38:13.642Z"
   },
   {
    "duration": 36,
    "start_time": "2022-04-04T09:38:13.659Z"
   },
   {
    "duration": 12,
    "start_time": "2022-04-04T09:38:13.697Z"
   },
   {
    "duration": 38,
    "start_time": "2022-04-04T09:38:13.710Z"
   },
   {
    "duration": 122,
    "start_time": "2022-04-04T09:38:13.750Z"
   },
   {
    "duration": 29,
    "start_time": "2022-04-04T09:38:13.874Z"
   },
   {
    "duration": 20,
    "start_time": "2022-04-04T09:38:13.906Z"
   },
   {
    "duration": 15,
    "start_time": "2022-04-04T09:38:13.928Z"
   },
   {
    "duration": 7,
    "start_time": "2022-04-04T09:38:13.981Z"
   },
   {
    "duration": 14,
    "start_time": "2022-04-04T09:38:13.990Z"
   },
   {
    "duration": 7,
    "start_time": "2022-04-04T09:38:14.006Z"
   },
   {
    "duration": 8,
    "start_time": "2022-04-04T09:38:14.014Z"
   },
   {
    "duration": 203,
    "start_time": "2022-04-04T09:38:14.024Z"
   },
   {
    "duration": 53268,
    "start_time": "2022-04-04T09:38:14.229Z"
   },
   {
    "duration": 284,
    "start_time": "2022-04-04T09:39:07.499Z"
   },
   {
    "duration": 95,
    "start_time": "2022-04-04T09:39:07.786Z"
   },
   {
    "duration": 394,
    "start_time": "2022-04-04T09:39:07.883Z"
   },
   {
    "duration": 5,
    "start_time": "2022-04-04T09:39:08.281Z"
   },
   {
    "duration": 14000,
    "start_time": "2022-04-04T09:39:08.288Z"
   },
   {
    "duration": 5266,
    "start_time": "2022-04-04T09:39:22.290Z"
   },
   {
    "duration": 370,
    "start_time": "2022-04-04T09:39:27.557Z"
   },
   {
    "duration": 356,
    "start_time": "2022-04-04T09:39:27.928Z"
   },
   {
    "duration": 4,
    "start_time": "2022-04-04T09:39:28.286Z"
   },
   {
    "duration": 22,
    "start_time": "2022-04-04T09:39:28.292Z"
   },
   {
    "duration": 4064,
    "start_time": "2022-04-04T09:39:28.317Z"
   },
   {
    "duration": 384,
    "start_time": "2022-04-04T09:39:32.382Z"
   },
   {
    "duration": 403,
    "start_time": "2022-04-04T09:39:32.768Z"
   },
   {
    "duration": 9,
    "start_time": "2022-04-04T09:39:33.173Z"
   },
   {
    "duration": 68,
    "start_time": "2022-04-04T09:39:33.183Z"
   },
   {
    "duration": 31,
    "start_time": "2022-04-04T09:39:33.253Z"
   },
   {
    "duration": 13760,
    "start_time": "2022-04-04T09:43:24.313Z"
   },
   {
    "duration": 5270,
    "start_time": "2022-04-04T09:43:57.384Z"
   },
   {
    "duration": 345,
    "start_time": "2022-04-04T09:44:54.498Z"
   },
   {
    "duration": 1500,
    "start_time": "2022-04-04T09:45:04.095Z"
   },
   {
    "duration": 43,
    "start_time": "2022-04-04T09:45:05.598Z"
   },
   {
    "duration": 5,
    "start_time": "2022-04-04T09:45:05.643Z"
   },
   {
    "duration": 5,
    "start_time": "2022-04-04T09:45:05.650Z"
   },
   {
    "duration": 16,
    "start_time": "2022-04-04T09:45:05.658Z"
   },
   {
    "duration": 11,
    "start_time": "2022-04-04T09:45:05.681Z"
   },
   {
    "duration": 36,
    "start_time": "2022-04-04T09:45:05.694Z"
   },
   {
    "duration": 123,
    "start_time": "2022-04-04T09:45:05.732Z"
   },
   {
    "duration": 36,
    "start_time": "2022-04-04T09:45:05.857Z"
   },
   {
    "duration": 20,
    "start_time": "2022-04-04T09:45:05.895Z"
   },
   {
    "duration": 12,
    "start_time": "2022-04-04T09:45:05.917Z"
   },
   {
    "duration": 5,
    "start_time": "2022-04-04T09:45:05.931Z"
   },
   {
    "duration": 8,
    "start_time": "2022-04-04T09:45:05.937Z"
   },
   {
    "duration": 7,
    "start_time": "2022-04-04T09:45:05.980Z"
   },
   {
    "duration": 6,
    "start_time": "2022-04-04T09:45:05.989Z"
   },
   {
    "duration": 191,
    "start_time": "2022-04-04T09:45:05.997Z"
   },
   {
    "duration": 52457,
    "start_time": "2022-04-04T09:45:06.189Z"
   },
   {
    "duration": 338,
    "start_time": "2022-04-04T09:45:58.648Z"
   },
   {
    "duration": 94,
    "start_time": "2022-04-04T09:45:58.988Z"
   },
   {
    "duration": 467,
    "start_time": "2022-04-04T09:45:59.084Z"
   },
   {
    "duration": 5,
    "start_time": "2022-04-04T09:45:59.553Z"
   },
   {
    "duration": 14014,
    "start_time": "2022-04-04T09:45:59.559Z"
   },
   {
    "duration": 5256,
    "start_time": "2022-04-04T09:46:13.575Z"
   },
   {
    "duration": 361,
    "start_time": "2022-04-04T09:46:18.832Z"
   },
   {
    "duration": 355,
    "start_time": "2022-04-04T09:46:19.195Z"
   },
   {
    "duration": 3,
    "start_time": "2022-04-04T09:46:19.552Z"
   },
   {
    "duration": 16,
    "start_time": "2022-04-04T09:46:19.557Z"
   },
   {
    "duration": 3987,
    "start_time": "2022-04-04T09:46:19.574Z"
   },
   {
    "duration": 345,
    "start_time": "2022-04-04T09:46:23.563Z"
   },
   {
    "duration": 384,
    "start_time": "2022-04-04T09:46:23.910Z"
   },
   {
    "duration": 4,
    "start_time": "2022-04-04T09:46:24.295Z"
   },
   {
    "duration": 68,
    "start_time": "2022-04-04T09:46:24.300Z"
   },
   {
    "duration": 23,
    "start_time": "2022-04-04T09:46:24.370Z"
   },
   {
    "duration": 1479,
    "start_time": "2022-04-04T11:32:04.771Z"
   },
   {
    "duration": 40,
    "start_time": "2022-04-04T11:32:06.252Z"
   },
   {
    "duration": 5,
    "start_time": "2022-04-04T11:32:06.293Z"
   },
   {
    "duration": 6,
    "start_time": "2022-04-04T11:32:06.299Z"
   },
   {
    "duration": 13,
    "start_time": "2022-04-04T11:32:06.306Z"
   },
   {
    "duration": 10,
    "start_time": "2022-04-04T11:32:06.321Z"
   },
   {
    "duration": 55,
    "start_time": "2022-04-04T11:32:06.332Z"
   },
   {
    "duration": 105,
    "start_time": "2022-04-04T11:32:06.389Z"
   },
   {
    "duration": 22,
    "start_time": "2022-04-04T11:32:06.496Z"
   },
   {
    "duration": 19,
    "start_time": "2022-04-04T11:32:06.520Z"
   },
   {
    "duration": 41,
    "start_time": "2022-04-04T11:32:06.541Z"
   },
   {
    "duration": 6,
    "start_time": "2022-04-04T11:32:06.583Z"
   },
   {
    "duration": 8,
    "start_time": "2022-04-04T11:32:06.591Z"
   },
   {
    "duration": 5,
    "start_time": "2022-04-04T11:32:06.602Z"
   },
   {
    "duration": 9,
    "start_time": "2022-04-04T11:32:06.608Z"
   },
   {
    "duration": 204,
    "start_time": "2022-04-04T11:32:06.618Z"
   },
   {
    "duration": 52163,
    "start_time": "2022-04-04T11:32:06.823Z"
   },
   {
    "duration": 295,
    "start_time": "2022-04-04T11:32:58.988Z"
   },
   {
    "duration": 100,
    "start_time": "2022-04-04T11:32:59.285Z"
   },
   {
    "duration": 387,
    "start_time": "2022-04-04T11:32:59.387Z"
   },
   {
    "duration": 6,
    "start_time": "2022-04-04T11:32:59.780Z"
   },
   {
    "duration": 13710,
    "start_time": "2022-04-04T11:32:59.787Z"
   },
   {
    "duration": 5136,
    "start_time": "2022-04-04T11:33:13.499Z"
   },
   {
    "duration": 365,
    "start_time": "2022-04-04T11:33:18.636Z"
   },
   {
    "duration": 352,
    "start_time": "2022-04-04T11:33:19.002Z"
   },
   {
    "duration": 4,
    "start_time": "2022-04-04T11:33:19.355Z"
   },
   {
    "duration": 5,
    "start_time": "2022-04-04T11:33:19.361Z"
   },
   {
    "duration": 3936,
    "start_time": "2022-04-04T11:33:19.381Z"
   },
   {
    "duration": 344,
    "start_time": "2022-04-04T11:33:23.319Z"
   },
   {
    "duration": 395,
    "start_time": "2022-04-04T11:33:23.665Z"
   },
   {
    "duration": 4,
    "start_time": "2022-04-04T11:33:24.061Z"
   },
   {
    "duration": 74,
    "start_time": "2022-04-04T11:33:24.066Z"
   },
   {
    "duration": 16,
    "start_time": "2022-04-04T11:33:24.142Z"
   },
   {
    "duration": 5166,
    "start_time": "2022-04-04T11:42:38.117Z"
   },
   {
    "duration": 5373,
    "start_time": "2022-04-04T11:43:13.178Z"
   },
   {
    "duration": 5237,
    "start_time": "2022-04-04T11:43:27.460Z"
   },
   {
    "duration": 4096,
    "start_time": "2022-04-04T11:46:29.158Z"
   },
   {
    "duration": 379,
    "start_time": "2022-04-04T11:48:59.040Z"
   },
   {
    "duration": 189,
    "start_time": "2022-04-04T11:49:25.568Z"
   },
   {
    "duration": 205,
    "start_time": "2022-04-04T11:49:53.270Z"
   },
   {
    "duration": 1938,
    "start_time": "2022-04-04T11:50:04.934Z"
   },
   {
    "duration": 63,
    "start_time": "2022-04-04T11:51:45.111Z"
   },
   {
    "duration": 66,
    "start_time": "2022-04-04T11:52:07.493Z"
   },
   {
    "duration": 197,
    "start_time": "2022-04-04T11:52:56.792Z"
   },
   {
    "duration": 60,
    "start_time": "2022-04-04T11:53:06.216Z"
   },
   {
    "duration": 189,
    "start_time": "2022-04-04T11:53:23.528Z"
   },
   {
    "duration": 61,
    "start_time": "2022-04-04T11:53:30.369Z"
   },
   {
    "duration": 60,
    "start_time": "2022-04-04T11:53:39.463Z"
   },
   {
    "duration": 58,
    "start_time": "2022-04-04T11:53:55.568Z"
   },
   {
    "duration": 63,
    "start_time": "2022-04-04T11:54:01.247Z"
   },
   {
    "duration": 1482,
    "start_time": "2022-04-04T11:55:53.723Z"
   },
   {
    "duration": 40,
    "start_time": "2022-04-04T11:55:55.207Z"
   },
   {
    "duration": 4,
    "start_time": "2022-04-04T11:55:55.249Z"
   },
   {
    "duration": 6,
    "start_time": "2022-04-04T11:55:55.255Z"
   },
   {
    "duration": 21,
    "start_time": "2022-04-04T11:55:55.263Z"
   },
   {
    "duration": 14,
    "start_time": "2022-04-04T11:55:55.286Z"
   },
   {
    "duration": 50,
    "start_time": "2022-04-04T11:55:55.301Z"
   },
   {
    "duration": 185,
    "start_time": "2022-04-04T11:55:55.353Z"
   },
   {
    "duration": 44,
    "start_time": "2022-04-04T11:55:55.541Z"
   },
   {
    "duration": 21,
    "start_time": "2022-04-04T11:55:55.587Z"
   },
   {
    "duration": 12,
    "start_time": "2022-04-04T11:55:55.609Z"
   },
   {
    "duration": 6,
    "start_time": "2022-04-04T11:55:55.623Z"
   },
   {
    "duration": 15,
    "start_time": "2022-04-04T11:55:55.630Z"
   },
   {
    "duration": 38,
    "start_time": "2022-04-04T11:55:55.647Z"
   },
   {
    "duration": 6,
    "start_time": "2022-04-04T11:55:55.687Z"
   },
   {
    "duration": 196,
    "start_time": "2022-04-04T11:55:55.694Z"
   },
   {
    "duration": 52557,
    "start_time": "2022-04-04T11:55:55.892Z"
   },
   {
    "duration": 231,
    "start_time": "2022-04-04T11:56:48.451Z"
   },
   {
    "duration": 126,
    "start_time": "2022-04-04T11:56:48.685Z"
   },
   {
    "duration": 6,
    "start_time": "2022-04-04T11:56:48.812Z"
   },
   {
    "duration": 13764,
    "start_time": "2022-04-04T11:56:48.819Z"
   },
   {
    "duration": 5565,
    "start_time": "2022-04-04T11:57:02.585Z"
   },
   {
    "duration": 4142,
    "start_time": "2022-04-04T11:57:08.151Z"
   },
   {
    "duration": 463,
    "start_time": "2022-04-04T11:57:12.294Z"
   },
   {
    "duration": 0,
    "start_time": "2022-04-04T11:57:12.758Z"
   },
   {
    "duration": 0,
    "start_time": "2022-04-04T11:57:12.759Z"
   },
   {
    "duration": 379,
    "start_time": "2022-04-04T11:59:56.342Z"
   },
   {
    "duration": 66,
    "start_time": "2022-04-04T12:00:01.305Z"
   },
   {
    "duration": 1795,
    "start_time": "2022-04-04T12:00:09.285Z"
   },
   {
    "duration": 42,
    "start_time": "2022-04-04T12:00:11.081Z"
   },
   {
    "duration": 5,
    "start_time": "2022-04-04T12:00:11.124Z"
   },
   {
    "duration": 20,
    "start_time": "2022-04-04T12:00:11.130Z"
   },
   {
    "duration": 34,
    "start_time": "2022-04-04T12:00:11.153Z"
   },
   {
    "duration": 35,
    "start_time": "2022-04-04T12:00:11.189Z"
   },
   {
    "duration": 54,
    "start_time": "2022-04-04T12:00:11.226Z"
   },
   {
    "duration": 116,
    "start_time": "2022-04-04T12:00:11.283Z"
   },
   {
    "duration": 22,
    "start_time": "2022-04-04T12:00:11.400Z"
   },
   {
    "duration": 22,
    "start_time": "2022-04-04T12:00:11.423Z"
   },
   {
    "duration": 35,
    "start_time": "2022-04-04T12:00:11.447Z"
   },
   {
    "duration": 13,
    "start_time": "2022-04-04T12:00:11.484Z"
   },
   {
    "duration": 32,
    "start_time": "2022-04-04T12:00:11.499Z"
   },
   {
    "duration": 26,
    "start_time": "2022-04-04T12:00:11.533Z"
   },
   {
    "duration": 36,
    "start_time": "2022-04-04T12:00:11.561Z"
   },
   {
    "duration": 194,
    "start_time": "2022-04-04T12:00:11.598Z"
   },
   {
    "duration": 53611,
    "start_time": "2022-04-04T12:00:11.794Z"
   },
   {
    "duration": 279,
    "start_time": "2022-04-04T12:01:05.407Z"
   },
   {
    "duration": 201,
    "start_time": "2022-04-04T12:01:05.689Z"
   },
   {
    "duration": 6,
    "start_time": "2022-04-04T12:01:05.892Z"
   },
   {
    "duration": 14080,
    "start_time": "2022-04-04T12:01:05.901Z"
   },
   {
    "duration": 5170,
    "start_time": "2022-04-04T12:01:19.982Z"
   },
   {
    "duration": 4570,
    "start_time": "2022-04-04T12:01:25.154Z"
   },
   {
    "duration": 592,
    "start_time": "2022-04-04T12:01:29.726Z"
   },
   {
    "duration": 72,
    "start_time": "2022-04-04T12:01:30.320Z"
   },
   {
    "duration": 15,
    "start_time": "2022-04-04T12:01:30.394Z"
   },
   {
    "duration": 3,
    "start_time": "2022-04-04T12:16:12.233Z"
   },
   {
    "duration": 94,
    "start_time": "2022-04-04T12:16:38.143Z"
   },
   {
    "duration": 103573,
    "start_time": "2022-04-04T12:17:10.482Z"
   },
   {
    "duration": 104020,
    "start_time": "2022-04-04T12:19:08.471Z"
   },
   {
    "duration": 356,
    "start_time": "2022-04-04T12:25:42.859Z"
   },
   {
    "duration": 490,
    "start_time": "2022-04-04T12:25:59.273Z"
   },
   {
    "duration": 157163,
    "start_time": "2022-04-04T12:26:18.442Z"
   },
   {
    "duration": 345,
    "start_time": "2022-04-04T12:30:35.356Z"
   },
   {
    "duration": 107563,
    "start_time": "2022-04-04T12:35:56.480Z"
   },
   {
    "duration": 1916,
    "start_time": "2022-04-04T12:55:08.034Z"
   },
   {
    "duration": 67,
    "start_time": "2022-04-04T12:55:09.952Z"
   },
   {
    "duration": 6,
    "start_time": "2022-04-04T12:55:10.021Z"
   },
   {
    "duration": 5,
    "start_time": "2022-04-04T12:55:10.028Z"
   },
   {
    "duration": 18,
    "start_time": "2022-04-04T12:55:10.035Z"
   },
   {
    "duration": 12,
    "start_time": "2022-04-04T12:55:10.055Z"
   },
   {
    "duration": 41,
    "start_time": "2022-04-04T12:55:10.081Z"
   },
   {
    "duration": 125,
    "start_time": "2022-04-04T12:55:10.124Z"
   },
   {
    "duration": 43,
    "start_time": "2022-04-04T12:55:10.250Z"
   },
   {
    "duration": 32,
    "start_time": "2022-04-04T12:55:10.295Z"
   },
   {
    "duration": 21,
    "start_time": "2022-04-04T12:55:10.329Z"
   },
   {
    "duration": 33,
    "start_time": "2022-04-04T12:55:10.352Z"
   },
   {
    "duration": 9,
    "start_time": "2022-04-04T12:55:10.387Z"
   },
   {
    "duration": 6,
    "start_time": "2022-04-04T12:55:10.399Z"
   },
   {
    "duration": 10,
    "start_time": "2022-04-04T12:55:10.407Z"
   },
   {
    "duration": 218,
    "start_time": "2022-04-04T12:55:10.418Z"
   },
   {
    "duration": 51990,
    "start_time": "2022-04-04T12:55:10.638Z"
   },
   {
    "duration": 1592,
    "start_time": "2022-04-04T12:57:19.672Z"
   },
   {
    "duration": 42,
    "start_time": "2022-04-04T12:57:21.266Z"
   },
   {
    "duration": 5,
    "start_time": "2022-04-04T12:57:21.309Z"
   },
   {
    "duration": 20,
    "start_time": "2022-04-04T12:57:21.316Z"
   },
   {
    "duration": 23,
    "start_time": "2022-04-04T12:57:21.338Z"
   },
   {
    "duration": 20,
    "start_time": "2022-04-04T12:57:21.362Z"
   },
   {
    "duration": 54,
    "start_time": "2022-04-04T12:57:21.384Z"
   },
   {
    "duration": 150,
    "start_time": "2022-04-04T12:57:21.440Z"
   },
   {
    "duration": 29,
    "start_time": "2022-04-04T12:57:21.591Z"
   },
   {
    "duration": 26,
    "start_time": "2022-04-04T12:57:21.622Z"
   },
   {
    "duration": 17,
    "start_time": "2022-04-04T12:57:21.681Z"
   },
   {
    "duration": 7,
    "start_time": "2022-04-04T12:57:21.700Z"
   },
   {
    "duration": 9,
    "start_time": "2022-04-04T12:57:21.708Z"
   },
   {
    "duration": 12,
    "start_time": "2022-04-04T12:57:21.719Z"
   },
   {
    "duration": 27,
    "start_time": "2022-04-04T12:57:21.732Z"
   },
   {
    "duration": 192,
    "start_time": "2022-04-04T12:57:21.760Z"
   },
   {
    "duration": 52082,
    "start_time": "2022-04-04T12:57:21.953Z"
   },
   {
    "duration": 109994,
    "start_time": "2022-04-04T12:58:14.037Z"
   },
   {
    "duration": 960,
    "start_time": "2022-04-04T13:00:04.032Z"
   },
   {
    "duration": 34,
    "start_time": "2022-04-04T13:00:05.082Z"
   },
   {
    "duration": 5,
    "start_time": "2022-04-04T13:00:05.118Z"
   },
   {
    "duration": 13760,
    "start_time": "2022-04-04T13:00:05.125Z"
   },
   {
    "duration": 5286,
    "start_time": "2022-04-04T13:00:18.887Z"
   },
   {
    "duration": 5558,
    "start_time": "2022-04-04T13:00:24.174Z"
   },
   {
    "duration": 547,
    "start_time": "2022-04-04T13:00:29.734Z"
   },
   {
    "duration": 76,
    "start_time": "2022-04-04T13:00:30.283Z"
   },
   {
    "duration": 35,
    "start_time": "2022-04-04T13:00:30.361Z"
   },
   {
    "duration": 4,
    "start_time": "2022-04-04T13:01:04.300Z"
   },
   {
    "duration": 16,
    "start_time": "2022-04-04T13:05:30.262Z"
   },
   {
    "duration": 385,
    "start_time": "2022-04-04T13:05:46.188Z"
   },
   {
    "duration": 15,
    "start_time": "2022-04-04T13:06:31.363Z"
   },
   {
    "duration": 395,
    "start_time": "2022-04-04T13:06:36.491Z"
   },
   {
    "duration": 1790,
    "start_time": "2022-04-04T13:08:34.629Z"
   },
   {
    "duration": 41,
    "start_time": "2022-04-04T13:08:36.421Z"
   },
   {
    "duration": 5,
    "start_time": "2022-04-04T13:08:36.463Z"
   },
   {
    "duration": 4,
    "start_time": "2022-04-04T13:08:36.470Z"
   },
   {
    "duration": 14,
    "start_time": "2022-04-04T13:08:36.476Z"
   },
   {
    "duration": 11,
    "start_time": "2022-04-04T13:08:36.492Z"
   },
   {
    "duration": 36,
    "start_time": "2022-04-04T13:08:36.505Z"
   },
   {
    "duration": 125,
    "start_time": "2022-04-04T13:08:36.542Z"
   },
   {
    "duration": 32,
    "start_time": "2022-04-04T13:08:36.669Z"
   },
   {
    "duration": 18,
    "start_time": "2022-04-04T13:08:36.703Z"
   },
   {
    "duration": 13,
    "start_time": "2022-04-04T13:08:36.723Z"
   },
   {
    "duration": 6,
    "start_time": "2022-04-04T13:08:36.737Z"
   },
   {
    "duration": 37,
    "start_time": "2022-04-04T13:08:36.744Z"
   },
   {
    "duration": 7,
    "start_time": "2022-04-04T13:08:36.783Z"
   },
   {
    "duration": 13,
    "start_time": "2022-04-04T13:08:36.792Z"
   },
   {
    "duration": 188,
    "start_time": "2022-04-04T13:08:36.806Z"
   },
   {
    "duration": 53597,
    "start_time": "2022-04-04T13:08:36.995Z"
   },
   {
    "duration": 107195,
    "start_time": "2022-04-04T13:09:30.594Z"
   },
   {
    "duration": 292,
    "start_time": "2022-04-04T13:11:17.790Z"
   },
   {
    "duration": 120,
    "start_time": "2022-04-04T13:11:18.085Z"
   },
   {
    "duration": 5,
    "start_time": "2022-04-04T13:11:18.207Z"
   },
   {
    "duration": 13582,
    "start_time": "2022-04-04T13:11:18.214Z"
   },
   {
    "duration": 5119,
    "start_time": "2022-04-04T13:11:31.798Z"
   },
   {
    "duration": 3849,
    "start_time": "2022-04-04T13:11:36.919Z"
   },
   {
    "duration": 396,
    "start_time": "2022-04-04T13:11:40.770Z"
   },
   {
    "duration": 65,
    "start_time": "2022-04-04T13:11:41.169Z"
   },
   {
    "duration": 16,
    "start_time": "2022-04-04T13:11:41.236Z"
   },
   {
    "duration": 1807,
    "start_time": "2022-04-04T13:14:50.170Z"
   },
   {
    "duration": 43,
    "start_time": "2022-04-04T13:14:51.979Z"
   },
   {
    "duration": 5,
    "start_time": "2022-04-04T13:14:52.023Z"
   },
   {
    "duration": 10,
    "start_time": "2022-04-04T13:14:52.029Z"
   },
   {
    "duration": 16,
    "start_time": "2022-04-04T13:14:52.041Z"
   },
   {
    "duration": 9,
    "start_time": "2022-04-04T13:14:52.059Z"
   },
   {
    "duration": 36,
    "start_time": "2022-04-04T13:14:52.070Z"
   },
   {
    "duration": 100,
    "start_time": "2022-04-04T13:14:52.108Z"
   },
   {
    "duration": 23,
    "start_time": "2022-04-04T13:14:52.209Z"
   },
   {
    "duration": 27,
    "start_time": "2022-04-04T13:14:52.235Z"
   },
   {
    "duration": 26,
    "start_time": "2022-04-04T13:14:52.263Z"
   },
   {
    "duration": 5,
    "start_time": "2022-04-04T13:14:52.291Z"
   },
   {
    "duration": 8,
    "start_time": "2022-04-04T13:14:52.298Z"
   },
   {
    "duration": 6,
    "start_time": "2022-04-04T13:14:52.308Z"
   },
   {
    "duration": 9,
    "start_time": "2022-04-04T13:14:52.316Z"
   },
   {
    "duration": 246,
    "start_time": "2022-04-04T13:14:52.381Z"
   },
   {
    "duration": 54057,
    "start_time": "2022-04-04T13:14:52.628Z"
   },
   {
    "duration": 107435,
    "start_time": "2022-04-04T13:15:46.686Z"
   },
   {
    "duration": 459,
    "start_time": "2022-04-04T13:17:34.123Z"
   },
   {
    "duration": 114,
    "start_time": "2022-04-04T13:17:34.584Z"
   },
   {
    "duration": 7,
    "start_time": "2022-04-04T13:17:34.700Z"
   },
   {
    "duration": 20479,
    "start_time": "2022-04-04T13:17:34.709Z"
   },
   {
    "duration": 5304,
    "start_time": "2022-04-04T13:17:55.190Z"
   },
   {
    "duration": 4161,
    "start_time": "2022-04-04T13:18:00.496Z"
   },
   {
    "duration": 391,
    "start_time": "2022-04-04T13:18:04.658Z"
   },
   {
    "duration": 67,
    "start_time": "2022-04-04T13:18:05.050Z"
   },
   {
    "duration": 15,
    "start_time": "2022-04-04T13:18:05.118Z"
   }
  ],
  "kernelspec": {
   "display_name": "Python 3 (ipykernel)",
   "language": "python",
   "name": "python3"
  },
  "language_info": {
   "codemirror_mode": {
    "name": "ipython",
    "version": 3
   },
   "file_extension": ".py",
   "mimetype": "text/x-python",
   "name": "python",
   "nbconvert_exporter": "python",
   "pygments_lexer": "ipython3",
   "version": "3.9.7"
  },
  "toc": {
   "base_numbering": 1,
   "nav_menu": {},
   "number_sections": true,
   "sideBar": true,
   "skip_h1_title": true,
   "title_cell": "Содержание",
   "title_sidebar": "Contents",
   "toc_cell": true,
   "toc_position": {},
   "toc_section_display": true,
   "toc_window_display": false
  }
 },
 "nbformat": 4,
 "nbformat_minor": 4
}

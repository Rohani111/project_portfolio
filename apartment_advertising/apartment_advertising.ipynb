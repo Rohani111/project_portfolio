{
 "cells": [
  {
   "cell_type": "markdown",
   "metadata": {},
   "source": [
    "<a id='section_id'></a>"
   ]
  },
  {
   "cell_type": "markdown",
   "metadata": {},
   "source": [
    "# Исследование объявлений о продаже квартир\n",
    "\n",
    "В вашем распоряжении данные сервиса Яндекс.Недвижимость — архив объявлений о продаже квартир в Санкт-Петербурге и соседних населённых пунктах за несколько лет. Нужно научиться определять рыночную стоимость объектов недвижимости. Ваша задача — установить параметры. Это позволит построить автоматизированную систему: она отследит аномалии и мошенническую деятельность. \n",
    "\n",
    "По каждой квартире на продажу доступны два вида данных. Первые вписаны пользователем, вторые получены автоматически на основе картографических данных. Например, расстояние до центра, аэропорта, ближайшего парка и водоёма. "
   ]
  },
  {
   "cell_type": "markdown",
   "metadata": {},
   "source": [
    "## Изучение данных из файла"
   ]
  },
  {
   "cell_type": "code",
   "execution_count": 1,
   "metadata": {},
   "outputs": [],
   "source": [
    "import pandas as pd\n",
    "%matplotlib inline\n",
    "import matplotlib.pyplot as plt "
   ]
  },
  {
   "cell_type": "code",
   "execution_count": 2,
   "metadata": {
    "scrolled": true
   },
   "outputs": [
    {
     "data": {
      "text/html": [
       "<div>\n",
       "<style scoped>\n",
       "    .dataframe tbody tr th:only-of-type {\n",
       "        vertical-align: middle;\n",
       "    }\n",
       "\n",
       "    .dataframe tbody tr th {\n",
       "        vertical-align: top;\n",
       "    }\n",
       "\n",
       "    .dataframe thead th {\n",
       "        text-align: right;\n",
       "    }\n",
       "</style>\n",
       "<table border=\"1\" class=\"dataframe\">\n",
       "  <thead>\n",
       "    <tr style=\"text-align: right;\">\n",
       "      <th></th>\n",
       "      <th>total_images</th>\n",
       "      <th>last_price</th>\n",
       "      <th>total_area</th>\n",
       "      <th>first_day_exposition</th>\n",
       "      <th>rooms</th>\n",
       "      <th>ceiling_height</th>\n",
       "      <th>floors_total</th>\n",
       "      <th>living_area</th>\n",
       "      <th>floor</th>\n",
       "      <th>is_apartment</th>\n",
       "      <th>...</th>\n",
       "      <th>kitchen_area</th>\n",
       "      <th>balcony</th>\n",
       "      <th>locality_name</th>\n",
       "      <th>airports_nearest</th>\n",
       "      <th>cityCenters_nearest</th>\n",
       "      <th>parks_around3000</th>\n",
       "      <th>parks_nearest</th>\n",
       "      <th>ponds_around3000</th>\n",
       "      <th>ponds_nearest</th>\n",
       "      <th>days_exposition</th>\n",
       "    </tr>\n",
       "  </thead>\n",
       "  <tbody>\n",
       "    <tr>\n",
       "      <td>0</td>\n",
       "      <td>20</td>\n",
       "      <td>13000000.0</td>\n",
       "      <td>108.0</td>\n",
       "      <td>2019-03-07T00:00:00</td>\n",
       "      <td>3</td>\n",
       "      <td>2.70</td>\n",
       "      <td>16.0</td>\n",
       "      <td>51.0</td>\n",
       "      <td>8</td>\n",
       "      <td>NaN</td>\n",
       "      <td>...</td>\n",
       "      <td>25.0</td>\n",
       "      <td>NaN</td>\n",
       "      <td>Санкт-Петербург</td>\n",
       "      <td>18863.0</td>\n",
       "      <td>16028.0</td>\n",
       "      <td>1.0</td>\n",
       "      <td>482.0</td>\n",
       "      <td>2.0</td>\n",
       "      <td>755.0</td>\n",
       "      <td>NaN</td>\n",
       "    </tr>\n",
       "    <tr>\n",
       "      <td>1</td>\n",
       "      <td>7</td>\n",
       "      <td>3350000.0</td>\n",
       "      <td>40.4</td>\n",
       "      <td>2018-12-04T00:00:00</td>\n",
       "      <td>1</td>\n",
       "      <td>NaN</td>\n",
       "      <td>11.0</td>\n",
       "      <td>18.6</td>\n",
       "      <td>1</td>\n",
       "      <td>NaN</td>\n",
       "      <td>...</td>\n",
       "      <td>11.0</td>\n",
       "      <td>2.0</td>\n",
       "      <td>посёлок Шушары</td>\n",
       "      <td>12817.0</td>\n",
       "      <td>18603.0</td>\n",
       "      <td>0.0</td>\n",
       "      <td>NaN</td>\n",
       "      <td>0.0</td>\n",
       "      <td>NaN</td>\n",
       "      <td>81.0</td>\n",
       "    </tr>\n",
       "    <tr>\n",
       "      <td>2</td>\n",
       "      <td>10</td>\n",
       "      <td>5196000.0</td>\n",
       "      <td>56.0</td>\n",
       "      <td>2015-08-20T00:00:00</td>\n",
       "      <td>2</td>\n",
       "      <td>NaN</td>\n",
       "      <td>5.0</td>\n",
       "      <td>34.3</td>\n",
       "      <td>4</td>\n",
       "      <td>NaN</td>\n",
       "      <td>...</td>\n",
       "      <td>8.3</td>\n",
       "      <td>0.0</td>\n",
       "      <td>Санкт-Петербург</td>\n",
       "      <td>21741.0</td>\n",
       "      <td>13933.0</td>\n",
       "      <td>1.0</td>\n",
       "      <td>90.0</td>\n",
       "      <td>2.0</td>\n",
       "      <td>574.0</td>\n",
       "      <td>558.0</td>\n",
       "    </tr>\n",
       "    <tr>\n",
       "      <td>3</td>\n",
       "      <td>0</td>\n",
       "      <td>64900000.0</td>\n",
       "      <td>159.0</td>\n",
       "      <td>2015-07-24T00:00:00</td>\n",
       "      <td>3</td>\n",
       "      <td>NaN</td>\n",
       "      <td>14.0</td>\n",
       "      <td>NaN</td>\n",
       "      <td>9</td>\n",
       "      <td>NaN</td>\n",
       "      <td>...</td>\n",
       "      <td>NaN</td>\n",
       "      <td>0.0</td>\n",
       "      <td>Санкт-Петербург</td>\n",
       "      <td>28098.0</td>\n",
       "      <td>6800.0</td>\n",
       "      <td>2.0</td>\n",
       "      <td>84.0</td>\n",
       "      <td>3.0</td>\n",
       "      <td>234.0</td>\n",
       "      <td>424.0</td>\n",
       "    </tr>\n",
       "    <tr>\n",
       "      <td>4</td>\n",
       "      <td>2</td>\n",
       "      <td>10000000.0</td>\n",
       "      <td>100.0</td>\n",
       "      <td>2018-06-19T00:00:00</td>\n",
       "      <td>2</td>\n",
       "      <td>3.03</td>\n",
       "      <td>14.0</td>\n",
       "      <td>32.0</td>\n",
       "      <td>13</td>\n",
       "      <td>NaN</td>\n",
       "      <td>...</td>\n",
       "      <td>41.0</td>\n",
       "      <td>NaN</td>\n",
       "      <td>Санкт-Петербург</td>\n",
       "      <td>31856.0</td>\n",
       "      <td>8098.0</td>\n",
       "      <td>2.0</td>\n",
       "      <td>112.0</td>\n",
       "      <td>1.0</td>\n",
       "      <td>48.0</td>\n",
       "      <td>121.0</td>\n",
       "    </tr>\n",
       "  </tbody>\n",
       "</table>\n",
       "<p>5 rows × 22 columns</p>\n",
       "</div>"
      ],
      "text/plain": [
       "   total_images  last_price  total_area first_day_exposition  rooms  \\\n",
       "0            20  13000000.0       108.0  2019-03-07T00:00:00      3   \n",
       "1             7   3350000.0        40.4  2018-12-04T00:00:00      1   \n",
       "2            10   5196000.0        56.0  2015-08-20T00:00:00      2   \n",
       "3             0  64900000.0       159.0  2015-07-24T00:00:00      3   \n",
       "4             2  10000000.0       100.0  2018-06-19T00:00:00      2   \n",
       "\n",
       "   ceiling_height  floors_total  living_area  floor is_apartment  ...  \\\n",
       "0            2.70          16.0         51.0      8          NaN  ...   \n",
       "1             NaN          11.0         18.6      1          NaN  ...   \n",
       "2             NaN           5.0         34.3      4          NaN  ...   \n",
       "3             NaN          14.0          NaN      9          NaN  ...   \n",
       "4            3.03          14.0         32.0     13          NaN  ...   \n",
       "\n",
       "   kitchen_area  balcony    locality_name  airports_nearest  \\\n",
       "0          25.0      NaN  Санкт-Петербург           18863.0   \n",
       "1          11.0      2.0   посёлок Шушары           12817.0   \n",
       "2           8.3      0.0  Санкт-Петербург           21741.0   \n",
       "3           NaN      0.0  Санкт-Петербург           28098.0   \n",
       "4          41.0      NaN  Санкт-Петербург           31856.0   \n",
       "\n",
       "  cityCenters_nearest  parks_around3000  parks_nearest  ponds_around3000  \\\n",
       "0             16028.0               1.0          482.0               2.0   \n",
       "1             18603.0               0.0            NaN               0.0   \n",
       "2             13933.0               1.0           90.0               2.0   \n",
       "3              6800.0               2.0           84.0               3.0   \n",
       "4              8098.0               2.0          112.0               1.0   \n",
       "\n",
       "   ponds_nearest  days_exposition  \n",
       "0          755.0              NaN  \n",
       "1            NaN             81.0  \n",
       "2          574.0            558.0  \n",
       "3          234.0            424.0  \n",
       "4           48.0            121.0  \n",
       "\n",
       "[5 rows x 22 columns]"
      ]
     },
     "metadata": {},
     "output_type": "display_data"
    }
   ],
   "source": [
    "df = pd.read_csv(\"/datasets/real_estate_data.csv\", sep=\"\t\")\n",
    "display(df.head())"
   ]
  },
  {
   "cell_type": "markdown",
   "metadata": {},
   "source": [
    "Для удобства работы удалим столбцы, которые нам не понадобятся при решении поставленных задач."
   ]
  },
  {
   "cell_type": "code",
   "execution_count": 3,
   "metadata": {},
   "outputs": [],
   "source": [
    "df.drop([\"total_images\", \"open_plan\", \"is_apartment\", \"airports_nearest\", \"studio\",\n",
    "         \"parks_around3000\", \"parks_nearest\", \"ponds_around3000\", \"ponds_nearest\"], axis = 1, inplace=True)"
   ]
  },
  {
   "cell_type": "code",
   "execution_count": 4,
   "metadata": {},
   "outputs": [
    {
     "name": "stdout",
     "output_type": "stream",
     "text": [
      "<class 'pandas.core.frame.DataFrame'>\n",
      "RangeIndex: 23699 entries, 0 to 23698\n",
      "Data columns (total 13 columns):\n",
      "last_price              23699 non-null float64\n",
      "total_area              23699 non-null float64\n",
      "first_day_exposition    23699 non-null object\n",
      "rooms                   23699 non-null int64\n",
      "ceiling_height          14504 non-null float64\n",
      "floors_total            23613 non-null float64\n",
      "living_area             21796 non-null float64\n",
      "floor                   23699 non-null int64\n",
      "kitchen_area            21421 non-null float64\n",
      "balcony                 12180 non-null float64\n",
      "locality_name           23650 non-null object\n",
      "cityCenters_nearest     18180 non-null float64\n",
      "days_exposition         20518 non-null float64\n",
      "dtypes: float64(9), int64(2), object(2)\n",
      "memory usage: 6.2 MB\n"
     ]
    }
   ],
   "source": [
    "df.info(memory_usage='deep')"
   ]
  },
  {
   "cell_type": "markdown",
   "metadata": {},
   "source": [
    "Оценим общий массив данных.\n",
    "Обновленная таблица имеет 23699 строк и 13 столбцов. Преобразовывать названия столбцов нет необходимости.Видим пропущенные значения в большинстве столбцов c данными типа float.\n",
    "Для части столбцов после заполнения пропусков необходимо произвести преобразорвание типа данных из float в int. Теперь проанализируем основные характеристики нашей выборки."
   ]
  },
  {
   "cell_type": "code",
   "execution_count": 5,
   "metadata": {
    "scrolled": true
   },
   "outputs": [
    {
     "data": {
      "text/html": [
       "<div>\n",
       "<style scoped>\n",
       "    .dataframe tbody tr th:only-of-type {\n",
       "        vertical-align: middle;\n",
       "    }\n",
       "\n",
       "    .dataframe tbody tr th {\n",
       "        vertical-align: top;\n",
       "    }\n",
       "\n",
       "    .dataframe thead th {\n",
       "        text-align: right;\n",
       "    }\n",
       "</style>\n",
       "<table border=\"1\" class=\"dataframe\">\n",
       "  <thead>\n",
       "    <tr style=\"text-align: right;\">\n",
       "      <th></th>\n",
       "      <th>count</th>\n",
       "      <th>mean</th>\n",
       "      <th>std</th>\n",
       "      <th>min</th>\n",
       "      <th>25%</th>\n",
       "      <th>50%</th>\n",
       "      <th>75%</th>\n",
       "      <th>max</th>\n",
       "    </tr>\n",
       "  </thead>\n",
       "  <tbody>\n",
       "    <tr>\n",
       "      <td>last_price</td>\n",
       "      <td>23699.0</td>\n",
       "      <td>6.541549e+06</td>\n",
       "      <td>1.088701e+07</td>\n",
       "      <td>12190.0</td>\n",
       "      <td>3400000.00</td>\n",
       "      <td>4650000.00</td>\n",
       "      <td>6800000.0</td>\n",
       "      <td>763000000.0</td>\n",
       "    </tr>\n",
       "    <tr>\n",
       "      <td>total_area</td>\n",
       "      <td>23699.0</td>\n",
       "      <td>6.034865e+01</td>\n",
       "      <td>3.565408e+01</td>\n",
       "      <td>12.0</td>\n",
       "      <td>40.00</td>\n",
       "      <td>52.00</td>\n",
       "      <td>69.9</td>\n",
       "      <td>900.0</td>\n",
       "    </tr>\n",
       "    <tr>\n",
       "      <td>rooms</td>\n",
       "      <td>23699.0</td>\n",
       "      <td>2.070636e+00</td>\n",
       "      <td>1.078405e+00</td>\n",
       "      <td>0.0</td>\n",
       "      <td>1.00</td>\n",
       "      <td>2.00</td>\n",
       "      <td>3.0</td>\n",
       "      <td>19.0</td>\n",
       "    </tr>\n",
       "    <tr>\n",
       "      <td>ceiling_height</td>\n",
       "      <td>14504.0</td>\n",
       "      <td>2.771499e+00</td>\n",
       "      <td>1.261056e+00</td>\n",
       "      <td>1.0</td>\n",
       "      <td>2.52</td>\n",
       "      <td>2.65</td>\n",
       "      <td>2.8</td>\n",
       "      <td>100.0</td>\n",
       "    </tr>\n",
       "    <tr>\n",
       "      <td>floors_total</td>\n",
       "      <td>23613.0</td>\n",
       "      <td>1.067382e+01</td>\n",
       "      <td>6.597173e+00</td>\n",
       "      <td>1.0</td>\n",
       "      <td>5.00</td>\n",
       "      <td>9.00</td>\n",
       "      <td>16.0</td>\n",
       "      <td>60.0</td>\n",
       "    </tr>\n",
       "    <tr>\n",
       "      <td>living_area</td>\n",
       "      <td>21796.0</td>\n",
       "      <td>3.445785e+01</td>\n",
       "      <td>2.203045e+01</td>\n",
       "      <td>2.0</td>\n",
       "      <td>18.60</td>\n",
       "      <td>30.00</td>\n",
       "      <td>42.3</td>\n",
       "      <td>409.7</td>\n",
       "    </tr>\n",
       "    <tr>\n",
       "      <td>floor</td>\n",
       "      <td>23699.0</td>\n",
       "      <td>5.892358e+00</td>\n",
       "      <td>4.885249e+00</td>\n",
       "      <td>1.0</td>\n",
       "      <td>2.00</td>\n",
       "      <td>4.00</td>\n",
       "      <td>8.0</td>\n",
       "      <td>33.0</td>\n",
       "    </tr>\n",
       "    <tr>\n",
       "      <td>kitchen_area</td>\n",
       "      <td>21421.0</td>\n",
       "      <td>1.056981e+01</td>\n",
       "      <td>5.905438e+00</td>\n",
       "      <td>1.3</td>\n",
       "      <td>7.00</td>\n",
       "      <td>9.10</td>\n",
       "      <td>12.0</td>\n",
       "      <td>112.0</td>\n",
       "    </tr>\n",
       "    <tr>\n",
       "      <td>balcony</td>\n",
       "      <td>12180.0</td>\n",
       "      <td>1.150082e+00</td>\n",
       "      <td>1.071300e+00</td>\n",
       "      <td>0.0</td>\n",
       "      <td>0.00</td>\n",
       "      <td>1.00</td>\n",
       "      <td>2.0</td>\n",
       "      <td>5.0</td>\n",
       "    </tr>\n",
       "    <tr>\n",
       "      <td>cityCenters_nearest</td>\n",
       "      <td>18180.0</td>\n",
       "      <td>1.419128e+04</td>\n",
       "      <td>8.608386e+03</td>\n",
       "      <td>181.0</td>\n",
       "      <td>9238.00</td>\n",
       "      <td>13098.50</td>\n",
       "      <td>16293.0</td>\n",
       "      <td>65968.0</td>\n",
       "    </tr>\n",
       "    <tr>\n",
       "      <td>days_exposition</td>\n",
       "      <td>20518.0</td>\n",
       "      <td>1.808886e+02</td>\n",
       "      <td>2.197280e+02</td>\n",
       "      <td>1.0</td>\n",
       "      <td>45.00</td>\n",
       "      <td>95.00</td>\n",
       "      <td>232.0</td>\n",
       "      <td>1580.0</td>\n",
       "    </tr>\n",
       "  </tbody>\n",
       "</table>\n",
       "</div>"
      ],
      "text/plain": [
       "                       count          mean           std      min         25%  \\\n",
       "last_price           23699.0  6.541549e+06  1.088701e+07  12190.0  3400000.00   \n",
       "total_area           23699.0  6.034865e+01  3.565408e+01     12.0       40.00   \n",
       "rooms                23699.0  2.070636e+00  1.078405e+00      0.0        1.00   \n",
       "ceiling_height       14504.0  2.771499e+00  1.261056e+00      1.0        2.52   \n",
       "floors_total         23613.0  1.067382e+01  6.597173e+00      1.0        5.00   \n",
       "living_area          21796.0  3.445785e+01  2.203045e+01      2.0       18.60   \n",
       "floor                23699.0  5.892358e+00  4.885249e+00      1.0        2.00   \n",
       "kitchen_area         21421.0  1.056981e+01  5.905438e+00      1.3        7.00   \n",
       "balcony              12180.0  1.150082e+00  1.071300e+00      0.0        0.00   \n",
       "cityCenters_nearest  18180.0  1.419128e+04  8.608386e+03    181.0     9238.00   \n",
       "days_exposition      20518.0  1.808886e+02  2.197280e+02      1.0       45.00   \n",
       "\n",
       "                            50%        75%          max  \n",
       "last_price           4650000.00  6800000.0  763000000.0  \n",
       "total_area                52.00       69.9        900.0  \n",
       "rooms                      2.00        3.0         19.0  \n",
       "ceiling_height             2.65        2.8        100.0  \n",
       "floors_total               9.00       16.0         60.0  \n",
       "living_area               30.00       42.3        409.7  \n",
       "floor                      4.00        8.0         33.0  \n",
       "kitchen_area               9.10       12.0        112.0  \n",
       "balcony                    1.00        2.0          5.0  \n",
       "cityCenters_nearest    13098.50    16293.0      65968.0  \n",
       "days_exposition           95.00      232.0       1580.0  "
      ]
     },
     "execution_count": 5,
     "metadata": {},
     "output_type": "execute_result"
    }
   ],
   "source": [
    "df.describe().T"
   ]
  },
  {
   "cell_type": "markdown",
   "metadata": {},
   "source": [
    "Видим аномальные максимальные и минимальные значения в каждом столбце:\n",
    " - для части квартир количество комнат в квартире равно 0 (таких строк 197, что менее 1%, поэтому можно их удалить в процессе отсечения выбросов);\n",
    " - в столбце ceiling_height имеется как минимум одна квартира с высотой потолков 1 м (ее мы также отсечем при удалении выбросов); \n",
    " - квартира, а может дом, общей площадью 900 кв.м с кухней 112 кв.м и жилой площадью 409,7 кв.м;\n",
    " - квартира с площадью кухни 1,3 кв.м и жилой площадью 2 кв.м\n",
    " - квартира, в которой 19 комнат;\n",
    " - квартира с высотой потолков 100 м;\n",
    " - квартира, которую продавали в небоскребе в 60 этажей;\n",
    " - квартира/дом, в которой имеется 5 балконов."
   ]
  },
  {
   "cell_type": "markdown",
   "metadata": {},
   "source": [
    "### Вывод"
   ]
  },
  {
   "cell_type": "markdown",
   "metadata": {},
   "source": [
    "В процессе первичного анализа данных были выявлены следующие проблемы, мешающие обработке данных:\n",
    "- в большинстве столбцов имеются пропущенные данные: часть из них можно заменить (balcony, ceiling_height, kitchen_area, living_area), часть безболезненно удалить, поскольку доля пропусков мала (floors_total, locality_name), а часть придется оставить как есть, т.к. доля пропусков значительна (cityCenters_nearest, days_exposition);\n",
    "- также практически во всех столбцах были обнаружены аномальные максимальные и минимальные значения, которые мы сможем удалить в дальнейшем при отсечении выбросов.\n",
    "- для отдельных столбцов (last_price, floors_total, balcony) требуется произвести замену типа данных на int."
   ]
  },
  {
   "cell_type": "markdown",
   "metadata": {},
   "source": [
    "## Предобработка данных"
   ]
  },
  {
   "cell_type": "markdown",
   "metadata": {},
   "source": [
    "Мы обнаружили, что в столбцах last_price, floors_total, balcony, days_exposition данные имеют дробный тип float.\n",
    "При этом по факту они принимают целочисленные значения. Однако предварительно в этих столбцах необходимо заполнить пропуски. Там, где заполнить пропуски будет невозможно, придется оставить тип данных float. Сначала определим долю пропусков для каждого столбца."
   ]
  },
  {
   "cell_type": "code",
   "execution_count": 6,
   "metadata": {},
   "outputs": [
    {
     "data": {
      "text/plain": [
       "balcony                 0.486054\n",
       "ceiling_height          0.387991\n",
       "cityCenters_nearest     0.232879\n",
       "days_exposition         0.134225\n",
       "kitchen_area            0.096122\n",
       "living_area             0.080299\n",
       "floors_total            0.003629\n",
       "locality_name           0.002068\n",
       "floor                   0.000000\n",
       "rooms                   0.000000\n",
       "first_day_exposition    0.000000\n",
       "total_area              0.000000\n",
       "last_price              0.000000\n",
       "dtype: float64"
      ]
     },
     "execution_count": 6,
     "metadata": {},
     "output_type": "execute_result"
    }
   ],
   "source": [
    "df.isna().mean().sort_values(ascending = False)"
   ]
  },
  {
   "cell_type": "markdown",
   "metadata": {},
   "source": [
    "Часть данных могла быть пропущена, поскольку в объявлении нет жестких требований указывать, например, высоту потолков,площадь кухни или жилую площадь, общее количество этажей в доме.\n",
    "Отсутствие информации по длительности экспозиции может быть объяснено тем фактом, что на момент выгрузки квартира еще находилась в продаже и сделка была не закрыта.\n",
    "Наличие пропусков в столбце cityCenters_nearest может быть обяснено тем, что продавец не указал точный адрес дома,поэтому система не смогла вычислить расстояние до центра города."
   ]
  },
  {
   "cell_type": "markdown",
   "metadata": {},
   "source": [
    "Для отдельных столбцов мы можем произвести замену пропущенных значений (ниже список в порядке убывания общей доли пропусков):\n",
    " - для balcony пропуски можно заменить на 0, поскольку отсутствие данных говорит, скорее всего, говорит об отсутствии самого балкона;\n",
    " - для ceiling_height мы можем заменить пропуски на медианное значение, т.к. высота потолков принимает довольно узкий диапазон значений от 2,5 до 3,5;\n",
    " **- для cityCenters_nearest заполнить пропуски проблематично*;\n",
    " **- для days_exposition мы также никак не можем заполнить пропущенные данные*;\n",
    " - для kitchen_area также заполним медианным значением в зависимости от количества комнат в квартире;\n",
    " - для living_area заполним пропуски медианными значениями в зависимости от количества комнат в квартире;\n",
    " - для floors_total заполнить значения не предоставляется возможным, а поскольку доля таких строк менее 1% мы можем безболезненно удалить такие строки;\n",
    " - для locality_name заполнить пропуски не представляется возможным, но таких пропусков менее 1%, так что их тоже можно удалить."
   ]
  },
  {
   "cell_type": "code",
   "execution_count": 7,
   "metadata": {},
   "outputs": [],
   "source": [
    "#удалим строки с пропусками в столбцах locality_name и floors_total\n",
    "df = df.dropna(subset=[\"locality_name\", \"floors_total\"])\n",
    "#для столбца balcony заменим пропуски на 0\n",
    "df[\"balcony\"] = df[\"balcony\"].fillna(0)\n",
    "#заменим пропуски в столбцах ceiling_height на медианное значение\n",
    "df['ceiling_height'] = df['ceiling_height'].fillna(df['ceiling_height'].median())"
   ]
  },
  {
   "cell_type": "markdown",
   "metadata": {},
   "source": [
    "Заполним пропуски в столбцах kitchen_area и living_area медианным значением в зависимости от количества комнат от 1 до 5."
   ]
  },
  {
   "cell_type": "code",
   "execution_count": 8,
   "metadata": {},
   "outputs": [],
   "source": [
    "def fillna_kitchen_area(row):\n",
    "    kitchen_area = row['kitchen_area']\n",
    "    rooms = row['rooms']\n",
    "    if rooms == 1:\n",
    "        return df[df['rooms'] == 1]['kitchen_area'].median()\n",
    "    if rooms == 2:\n",
    "        return df[df['rooms'] == 2]['kitchen_area'].median()\n",
    "    if rooms == 3:\n",
    "        return df[df['rooms'] == 3]['kitchen_area'].median()\n",
    "    if rooms == 4:\n",
    "        return df[df['rooms'] == 4]['kitchen_area'].median()\n",
    "    if rooms == 5:\n",
    "        return df[df['rooms'] == 5]['kitchen_area'].median()\n",
    "    \n",
    "df.loc[df.kitchen_area.isna(), \"kitchen_area\"] = df[df.kitchen_area.isna()].apply(fillna_kitchen_area, axis=1)"
   ]
  },
  {
   "cell_type": "code",
   "execution_count": 9,
   "metadata": {},
   "outputs": [],
   "source": [
    "def fillna_living_area(row):\n",
    "    living_area = row['living_area']\n",
    "    rooms = row['rooms']\n",
    "    if rooms == 1:\n",
    "        return df[df['rooms'] == 1]['living_area'].median()\n",
    "    if rooms == 2:\n",
    "        return df[df['rooms'] == 2]['living_area'].median()\n",
    "    if rooms == 3:\n",
    "        return df[df['rooms'] == 3]['living_area'].median()\n",
    "    if rooms == 4:\n",
    "        return df[df['rooms'] == 4]['living_area'].median()\n",
    "    if rooms == 5:\n",
    "        return df[df['rooms'] == 5]['living_area'].median()\n",
    "    \n",
    "df.loc[df.living_area.isna(), \"living_area\"] = df[df.living_area.isna()].apply(fillna_living_area, axis=1)"
   ]
  },
  {
   "cell_type": "code",
   "execution_count": 10,
   "metadata": {
    "scrolled": true
   },
   "outputs": [
    {
     "data": {
      "text/plain": [
       "ok        22991\n",
       "ошибка      574\n",
       "Name: area_check, dtype: int64"
      ]
     },
     "execution_count": 10,
     "metadata": {},
     "output_type": "execute_result"
    }
   ],
   "source": [
    "def area_check(row):\n",
    "    if row['living_area'] + row['kitchen_area'] < row['total_area']:\n",
    "        return 'ok'\n",
    "    return 'ошибка' \n",
    "\n",
    "df['area_check'] = df.apply(area_check, axis=1)\n",
    "df['area_check'].value_counts()"
   ]
  },
  {
   "cell_type": "markdown",
   "metadata": {},
   "source": [
    "После заполнения пропусков медианными значениями для столбцов living_area и kitchen_area обнаружилось 574 строк, где сумма площади кухни и жилой площади превышает общую площадь квартиры. Поскольку помимо жилых комнат и площади кухни в общую площадь также входят коридор, санузел, лоджия/балкон (при наличии), можем удалить подобные строки, которые составляют порядка 2,5% от общего массива данных."
   ]
  },
  {
   "cell_type": "code",
   "execution_count": 11,
   "metadata": {},
   "outputs": [],
   "source": [
    "df = df.query('area_check != \"ошибка\"')"
   ]
  },
  {
   "cell_type": "code",
   "execution_count": 12,
   "metadata": {},
   "outputs": [
    {
     "data": {
      "text/plain": [
       "0"
      ]
     },
     "execution_count": 12,
     "metadata": {},
     "output_type": "execute_result"
    }
   ],
   "source": [
    "#Проверим наличие явных дубликатов\n",
    "df.duplicated().sum()\n",
    "#Первичный анализ дубликатов не выявил, но их может быть и больше из-за разных вариантов \n",
    "#написания названий в столбце locality_name  "
   ]
  },
  {
   "cell_type": "code",
   "execution_count": 13,
   "metadata": {},
   "outputs": [
    {
     "data": {
      "text/plain": [
       "0"
      ]
     },
     "execution_count": 13,
     "metadata": {},
     "output_type": "execute_result"
    }
   ],
   "source": [
    "#проверим наличие неявных дубликатов с помощью метода value_counts\n",
    "#df['locality_name'].value_counts().head(50)\n",
    "#были обнаружены неявные дубликаты в связи с разным написанием слова посёлок/поселок, а также дубликаты\n",
    "#\"поселок Мурино\" - \"Мурино\" и \"деревня Кудрово\" - \"Кудрово\"\n",
    "#предварительно заменим пропуски текстом \"unknown\", чтобы в дальнейшем можно было произвести замены\n",
    "df[\"locality_name\"] = df[\"locality_name\"].fillna(\"unknown\")\n",
    "#заменим слово \"посёлок\" на \"поселок\"\n",
    "df['locality_name'] = df['locality_name'].apply(lambda i: i.replace(\"посёлок\", \"поселок\"))\n",
    "#а теперь дубликаты для Мурино и Кудрово\n",
    "df['locality_name'] = df['locality_name'].apply(lambda i: i.replace(\"поселок Мурино\", \"Мурино\"))\n",
    "df['locality_name'] = df['locality_name'].apply(lambda i: i.replace(\"деревня Кудрово\", \"Кудрово\"))\n",
    "df.duplicated().sum()\n",
    "#после замены дубликатов в столбце locality_name новых дубликатов в датафрейме не выявлено"
   ]
  },
  {
   "cell_type": "markdown",
   "metadata": {},
   "source": [
    "Теперь можем изменить тип данных и провести их оптимизацию."
   ]
  },
  {
   "cell_type": "code",
   "execution_count": 14,
   "metadata": {},
   "outputs": [],
   "source": [
    "df[\"first_day_exposition\"] = pd.to_datetime(df[\"first_day_exposition\"])\n",
    "df['last_price'] = df['last_price'].astype(\"int\")\n",
    "df['floors_total'] = df['floors_total'].astype(\"int\")\n",
    "df['balcony'] = df['balcony'].astype(\"int\")"
   ]
  },
  {
   "cell_type": "code",
   "execution_count": 15,
   "metadata": {},
   "outputs": [],
   "source": [
    "#проведем оптимизацию типов данных, для этого сначала выделим столбцы с разными типами данных\n",
    "df_int = df.select_dtypes(include=['int'])\n",
    "df_float = df.select_dtypes(include=['float'])\n",
    "df_obj = df.select_dtypes(include=['object'])\n",
    "\n",
    "#проведем нисходящее преобразование типов числовых данных, а строковые данные к категориальному типу.\n",
    "converted_int = df_int.apply(pd.to_numeric,downcast='unsigned')\n",
    "converted_float = df_float.apply(pd.to_numeric,downcast='float')\n",
    "converted_obj = df_obj.astype('category')\n",
    "\n",
    "#создадим копию исходного объекта DataFrame, используя оптимизированные столбцы.\n",
    "\n",
    "optimized_df = df.copy()\n",
    "optimized_df[converted_int.columns] = converted_int\n",
    "optimized_df[converted_float.columns] = converted_float\n",
    "optimized_df[converted_obj.columns] = converted_obj"
   ]
  },
  {
   "cell_type": "code",
   "execution_count": 16,
   "metadata": {},
   "outputs": [
    {
     "name": "stdout",
     "output_type": "stream",
     "text": [
      "6.60 MB\n",
      "1.18 MB\n"
     ]
    }
   ],
   "source": [
    "#сравним использование памяти до и после оптимизации типов данных\n",
    "def mem_usage(pandas_obj):\n",
    "    if isinstance(pandas_obj,pd.DataFrame):\n",
    "        usage_b = pandas_obj.memory_usage(deep=True).sum()\n",
    "    else: # исходим из предположения о том, что если это не DataFrame, то это Series\n",
    "        usage_b = pandas_obj.memory_usage(deep=True)\n",
    "    usage_mb = usage_b / 1024 ** 2 # преобразуем байты в мегабайты\n",
    "    return \"{:03.2f} MB\".format(usage_mb)\n",
    "\n",
    "print(mem_usage(df))\n",
    "print(mem_usage(optimized_df))"
   ]
  },
  {
   "cell_type": "markdown",
   "metadata": {},
   "source": [
    "Благодаря оптимизации использования памяти нам удалось снизить потребление памяти с 861.6 Мбайт до 104.28 Мбайт, т.е. сэкономить 88% памяти. Сохраним оптимизированный датафрейм как основной."
   ]
  },
  {
   "cell_type": "code",
   "execution_count": 17,
   "metadata": {},
   "outputs": [
    {
     "name": "stdout",
     "output_type": "stream",
     "text": [
      "1.18 MB\n"
     ]
    }
   ],
   "source": [
    "df = optimized_df\n",
    "print(mem_usage(df))"
   ]
  },
  {
   "cell_type": "markdown",
   "metadata": {},
   "source": [
    "## Расчёты и добавление результатов в таблицу"
   ]
  },
  {
   "cell_type": "markdown",
   "metadata": {},
   "source": [
    "**Добавим новые столбцы:** \n",
    " -\tцена квадратного метра;\n",
    " - \tдень недели, месяц и год публикации объявления;\n",
    " -  этаж квартиры: первый, последний или другой;\n",
    " -  соотношение жилой и общей площади, а также отношение площади кухни к общей;\n",
    " -  расстояние до центра города в километрах, округленное до целого."
   ]
  },
  {
   "cell_type": "code",
   "execution_count": 18,
   "metadata": {
    "scrolled": true
   },
   "outputs": [],
   "source": [
    "df[\"price_per_meter\"] = df[\"last_price\"] / df[\"total_area\"]\n",
    "df[\"weekday\"] = df[\"first_day_exposition\"].dt.weekday\n",
    "df[\"month_exposition\"] = pd.DatetimeIndex(df[\"first_day_exposition\"]).month\n",
    "df[\"year_exposition\"] = pd.DatetimeIndex(df[\"first_day_exposition\"]).year\n",
    "df[\"living_to_total_area\"] = df[\"living_area\"] / df[\"total_area\"]\n",
    "df[\"kitchen_to_total_area\"] = df[\"kitchen_area\"] / df[\"total_area\"]\n",
    "df['cityCenters_nearest_km'] = (df['cityCenters_nearest'] / 1000).round(0)\n",
    "\n",
    "pd.set_option('display.float_format', '{:,.2f}'.format)"
   ]
  },
  {
   "cell_type": "code",
   "execution_count": 19,
   "metadata": {
    "scrolled": true
   },
   "outputs": [],
   "source": [
    "#теперь разобьем этажи на три группы: первый, последний и другой\n",
    "def floor_group(row):  \n",
    "    if row[\"floor\"] == 1:\n",
    "        return \"первый\"\n",
    "    if row[\"floor\"] == row[\"floors_total\"]:\n",
    "        return \"последний\"\n",
    "    return \"другой\" \n",
    "\n",
    "df['floor_group'] = df.apply(floor_group, axis=1)"
   ]
  },
  {
   "cell_type": "code",
   "execution_count": 20,
   "metadata": {},
   "outputs": [
    {
     "data": {
      "text/html": [
       "<div>\n",
       "<style scoped>\n",
       "    .dataframe tbody tr th:only-of-type {\n",
       "        vertical-align: middle;\n",
       "    }\n",
       "\n",
       "    .dataframe tbody tr th {\n",
       "        vertical-align: top;\n",
       "    }\n",
       "\n",
       "    .dataframe thead th {\n",
       "        text-align: right;\n",
       "    }\n",
       "</style>\n",
       "<table border=\"1\" class=\"dataframe\">\n",
       "  <thead>\n",
       "    <tr style=\"text-align: right;\">\n",
       "      <th></th>\n",
       "      <th>last_price</th>\n",
       "      <th>total_area</th>\n",
       "      <th>first_day_exposition</th>\n",
       "      <th>rooms</th>\n",
       "      <th>ceiling_height</th>\n",
       "      <th>floors_total</th>\n",
       "      <th>living_area</th>\n",
       "      <th>floor</th>\n",
       "      <th>kitchen_area</th>\n",
       "      <th>balcony</th>\n",
       "      <th>...</th>\n",
       "      <th>area_check</th>\n",
       "      <th>price_per_meter</th>\n",
       "      <th>weekday</th>\n",
       "      <th>month_exposition</th>\n",
       "      <th>year_exposition</th>\n",
       "      <th>living_to_total_area</th>\n",
       "      <th>kitchen_to_total_area</th>\n",
       "      <th>cityCenters_nearest_km</th>\n",
       "      <th>floor_group</th>\n",
       "      <th>floor_group_number</th>\n",
       "    </tr>\n",
       "  </thead>\n",
       "  <tbody>\n",
       "    <tr>\n",
       "      <td>0</td>\n",
       "      <td>13000000</td>\n",
       "      <td>108.00</td>\n",
       "      <td>2019-03-07</td>\n",
       "      <td>3</td>\n",
       "      <td>2.70</td>\n",
       "      <td>16</td>\n",
       "      <td>51.00</td>\n",
       "      <td>8</td>\n",
       "      <td>25.00</td>\n",
       "      <td>0</td>\n",
       "      <td>...</td>\n",
       "      <td>ok</td>\n",
       "      <td>120,370.37</td>\n",
       "      <td>3</td>\n",
       "      <td>3</td>\n",
       "      <td>2019</td>\n",
       "      <td>0.47</td>\n",
       "      <td>0.23</td>\n",
       "      <td>16.00</td>\n",
       "      <td>другой</td>\n",
       "      <td>2</td>\n",
       "    </tr>\n",
       "    <tr>\n",
       "      <td>1</td>\n",
       "      <td>3350000</td>\n",
       "      <td>40.40</td>\n",
       "      <td>2018-12-04</td>\n",
       "      <td>1</td>\n",
       "      <td>2.65</td>\n",
       "      <td>11</td>\n",
       "      <td>18.60</td>\n",
       "      <td>1</td>\n",
       "      <td>11.00</td>\n",
       "      <td>2</td>\n",
       "      <td>...</td>\n",
       "      <td>ok</td>\n",
       "      <td>82,920.79</td>\n",
       "      <td>1</td>\n",
       "      <td>12</td>\n",
       "      <td>2018</td>\n",
       "      <td>0.46</td>\n",
       "      <td>0.27</td>\n",
       "      <td>19.00</td>\n",
       "      <td>первый</td>\n",
       "      <td>1</td>\n",
       "    </tr>\n",
       "    <tr>\n",
       "      <td>2</td>\n",
       "      <td>5196000</td>\n",
       "      <td>56.00</td>\n",
       "      <td>2015-08-20</td>\n",
       "      <td>2</td>\n",
       "      <td>2.65</td>\n",
       "      <td>5</td>\n",
       "      <td>34.30</td>\n",
       "      <td>4</td>\n",
       "      <td>8.30</td>\n",
       "      <td>0</td>\n",
       "      <td>...</td>\n",
       "      <td>ok</td>\n",
       "      <td>92,785.71</td>\n",
       "      <td>3</td>\n",
       "      <td>8</td>\n",
       "      <td>2015</td>\n",
       "      <td>0.61</td>\n",
       "      <td>0.15</td>\n",
       "      <td>14.00</td>\n",
       "      <td>другой</td>\n",
       "      <td>2</td>\n",
       "    </tr>\n",
       "    <tr>\n",
       "      <td>3</td>\n",
       "      <td>64900000</td>\n",
       "      <td>159.00</td>\n",
       "      <td>2015-07-24</td>\n",
       "      <td>3</td>\n",
       "      <td>2.65</td>\n",
       "      <td>14</td>\n",
       "      <td>45.00</td>\n",
       "      <td>9</td>\n",
       "      <td>9.50</td>\n",
       "      <td>0</td>\n",
       "      <td>...</td>\n",
       "      <td>ok</td>\n",
       "      <td>408,176.10</td>\n",
       "      <td>4</td>\n",
       "      <td>7</td>\n",
       "      <td>2015</td>\n",
       "      <td>0.28</td>\n",
       "      <td>0.06</td>\n",
       "      <td>7.00</td>\n",
       "      <td>другой</td>\n",
       "      <td>2</td>\n",
       "    </tr>\n",
       "    <tr>\n",
       "      <td>4</td>\n",
       "      <td>10000000</td>\n",
       "      <td>100.00</td>\n",
       "      <td>2018-06-19</td>\n",
       "      <td>2</td>\n",
       "      <td>3.03</td>\n",
       "      <td>14</td>\n",
       "      <td>32.00</td>\n",
       "      <td>13</td>\n",
       "      <td>41.00</td>\n",
       "      <td>0</td>\n",
       "      <td>...</td>\n",
       "      <td>ok</td>\n",
       "      <td>100,000.00</td>\n",
       "      <td>1</td>\n",
       "      <td>6</td>\n",
       "      <td>2018</td>\n",
       "      <td>0.32</td>\n",
       "      <td>0.41</td>\n",
       "      <td>8.00</td>\n",
       "      <td>другой</td>\n",
       "      <td>2</td>\n",
       "    </tr>\n",
       "  </tbody>\n",
       "</table>\n",
       "<p>5 rows × 23 columns</p>\n",
       "</div>"
      ],
      "text/plain": [
       "   last_price  total_area first_day_exposition  rooms  ceiling_height  \\\n",
       "0    13000000      108.00           2019-03-07      3            2.70   \n",
       "1     3350000       40.40           2018-12-04      1            2.65   \n",
       "2     5196000       56.00           2015-08-20      2            2.65   \n",
       "3    64900000      159.00           2015-07-24      3            2.65   \n",
       "4    10000000      100.00           2018-06-19      2            3.03   \n",
       "\n",
       "   floors_total  living_area  floor  kitchen_area  balcony  ... area_check  \\\n",
       "0            16        51.00      8         25.00        0  ...         ok   \n",
       "1            11        18.60      1         11.00        2  ...         ok   \n",
       "2             5        34.30      4          8.30        0  ...         ok   \n",
       "3            14        45.00      9          9.50        0  ...         ok   \n",
       "4            14        32.00     13         41.00        0  ...         ok   \n",
       "\n",
       "   price_per_meter  weekday month_exposition  year_exposition  \\\n",
       "0       120,370.37        3                3             2019   \n",
       "1        82,920.79        1               12             2018   \n",
       "2        92,785.71        3                8             2015   \n",
       "3       408,176.10        4                7             2015   \n",
       "4       100,000.00        1                6             2018   \n",
       "\n",
       "   living_to_total_area  kitchen_to_total_area  cityCenters_nearest_km  \\\n",
       "0                  0.47                   0.23                   16.00   \n",
       "1                  0.46                   0.27                   19.00   \n",
       "2                  0.61                   0.15                   14.00   \n",
       "3                  0.28                   0.06                    7.00   \n",
       "4                  0.32                   0.41                    8.00   \n",
       "\n",
       "   floor_group  floor_group_number  \n",
       "0       другой                   2  \n",
       "1       первый                   1  \n",
       "2       другой                   2  \n",
       "3       другой                   2  \n",
       "4       другой                   2  \n",
       "\n",
       "[5 rows x 23 columns]"
      ]
     },
     "metadata": {},
     "output_type": "display_data"
    }
   ],
   "source": [
    "#чтобы изучить зависимость цены от того, на каком этаже расположена квартира: первом, последнем или\n",
    "#другом, присвоим каждой группе свой номер\n",
    "def floor_group_number(row):  \n",
    "    if row[\"floor_group\"] == 'первый':\n",
    "        return 1\n",
    "    if row[\"floor_group\"] == 'последний':\n",
    "        return 3\n",
    "    return 2 \n",
    "\n",
    "df['floor_group_number'] = df.apply(floor_group_number, axis=1)\n",
    "display(df.head())"
   ]
  },
  {
   "cell_type": "markdown",
   "metadata": {},
   "source": [
    "[В начало](#section_id)"
   ]
  },
  {
   "cell_type": "markdown",
   "metadata": {},
   "source": [
    "## Исследовательский анализ данных"
   ]
  },
  {
   "cell_type": "code",
   "execution_count": 21,
   "metadata": {},
   "outputs": [
    {
     "data": {
      "image/png": "[encoded data removed]",
      "text/plain": [
       "<Figure size 432x288 with 1 Axes>"
      ]
     },
     "metadata": {
      "needs_background": "light"
     },
     "output_type": "display_data"
    }
   ],
   "source": [
    "#построим гистограммы для всех столбцов, по которым мы хотим исключить выбросы\n",
    "df['total_area'].hist(bins=10,range=(0, 300))\n",
    "plt.xlabel('общая площадь, кв.м')\n",
    "plt.ylabel('частота появления, раз')\n",
    "plt.title(\"Частотное распределение общей площади квартир\")\n",
    "plt.show()\n",
    "#мы видим, что основная часть данных total_area лежит в диапазоне примерно до 120 кв.м"
   ]
  },
  {
   "cell_type": "code",
   "execution_count": 22,
   "metadata": {},
   "outputs": [
    {
     "data": {
      "text/plain": [
       "(0, 125)"
      ]
     },
     "execution_count": 22,
     "metadata": {},
     "output_type": "execute_result"
    },
    {
     "data": {
      "image/png": "[encoded data removed]",
      "text/plain": [
       "<Figure size 432x288 with 1 Axes>"
      ]
     },
     "metadata": {
      "needs_background": "light"
     },
     "output_type": "display_data"
    }
   ],
   "source": [
    "#для более глубокого анализа построим диаграмму размаха\n",
    "df.boxplot(column='total_area')\n",
    "plt.ylim(0, 125)\n",
    "#В размах «усов» попадают нормальные значения, а за пределами находятся выбросы.\n",
    "#Таким образом, мы можем удалить все строки, где в столбце total_area значения меньше 15 и больше 115 кв.м"
   ]
  },
  {
   "cell_type": "code",
   "execution_count": 23,
   "metadata": {
    "scrolled": true
   },
   "outputs": [
    {
     "data": {
      "image/png": "[encoded data removed]",
      "text/plain": [
       "<Figure size 432x288 with 1 Axes>"
      ]
     },
     "metadata": {
      "needs_background": "light"
     },
     "output_type": "display_data"
    }
   ],
   "source": [
    "df['last_price'].hist(bins=10, range=(0, 20000000))\n",
    "plt.xlabel('цена на момент снятия с публикации, руб.')\n",
    "plt.ylabel('частота появления, раз')\n",
    "plt.title(\"Частотное распределение стоимости квартир\")\n",
    "plt.show()\n",
    "#видим, что основная часть данных last_price лежит в диапазоне примерно до 12 млн.руб."
   ]
  },
  {
   "cell_type": "code",
   "execution_count": 24,
   "metadata": {},
   "outputs": [
    {
     "data": {
      "text/plain": [
       "(-1000000, 13000000)"
      ]
     },
     "execution_count": 24,
     "metadata": {},
     "output_type": "execute_result"
    },
    {
     "data": {
      "image/png": "[encoded data removed]",
      "text/plain": [
       "<Figure size 432x288 with 1 Axes>"
      ]
     },
     "metadata": {
      "needs_background": "light"
     },
     "output_type": "display_data"
    }
   ],
   "source": [
    "#построим диаграмму размаха для более глубокого анализа\n",
    "df.boxplot(column='last_price')\n",
    "plt.ylim(-1000000, 13000000)\n",
    "#Таким образом, наши выводы подтвердились, мы можем удалить все строки, \n",
    "#где в столбце last_price значения выше 12 млн.руб."
   ]
  },
  {
   "cell_type": "code",
   "execution_count": 25,
   "metadata": {},
   "outputs": [
    {
     "data": {
      "image/png": "[encoded data removed]",
      "text/plain": [
       "<Figure size 432x288 with 1 Axes>"
      ]
     },
     "metadata": {
      "needs_background": "light"
     },
     "output_type": "display_data"
    }
   ],
   "source": [
    "df['rooms'].hist(bins=10, range=(0, 10))\n",
    "plt.xlabel('количество комнат')\n",
    "plt.ylabel('частота появления, раз')\n",
    "plt.title(\"Частотное распределение количества комнат в квартирах\")\n",
    "plt.show()\n",
    "#ожидаемо, что основная часть данных rooms лежит в диапазоне от 1 до 5 комнат."
   ]
  },
  {
   "cell_type": "code",
   "execution_count": 26,
   "metadata": {},
   "outputs": [
    {
     "data": {
      "image/png": "[encoded data removed]",
      "text/plain": [
       "<Figure size 432x288 with 1 Axes>"
      ]
     },
     "metadata": {
      "needs_background": "light"
     },
     "output_type": "display_data"
    }
   ],
   "source": [
    "df['ceiling_height'].hist(bins=10, range=(0, 5))\n",
    "plt.xlabel('высота потолка, м.')\n",
    "plt.ylabel('частота появления, раз')\n",
    "plt.title(\"Частотное распределение высоты потолков в квартирах\")\n",
    "plt.show()\n",
    "#ожидаемо, основная часть данных ceiling_height лежит в диапазоне от 2,5 до 3,5 метров -\n",
    "# это и будет наш допустимый диапазон значений"
   ]
  },
  {
   "cell_type": "code",
   "execution_count": 27,
   "metadata": {},
   "outputs": [
    {
     "data": {
      "image/png": "[encoded data removed]",
      "text/plain": [
       "<Figure size 432x288 with 1 Axes>"
      ]
     },
     "metadata": {
      "needs_background": "light"
     },
     "output_type": "display_data"
    }
   ],
   "source": [
    "df['floors_total'].hist(bins=10, range=(0, 40))\n",
    "plt.xlabel('количество этажей в доме')\n",
    "plt.ylabel('частота появления, раз')\n",
    "plt.title(\"Частотное распределение количества этажей в доме\")\n",
    "plt.show()\n",
    "#оставим строки, в которых общая этажность укладывается в 28 этажей"
   ]
  },
  {
   "cell_type": "code",
   "execution_count": 28,
   "metadata": {},
   "outputs": [
    {
     "data": {
      "image/png": "[encoded data removed]",
      "text/plain": [
       "<Figure size 432x288 with 1 Axes>"
      ]
     },
     "metadata": {
      "needs_background": "light"
     },
     "output_type": "display_data"
    }
   ],
   "source": [
    "df['kitchen_area'].hist(bins=10, range=(0, 40))\n",
    "plt.xlabel('площадь кухни')\n",
    "plt.ylabel('частота появления, раз')\n",
    "plt.title(\"Частотное распределение площади кухни в квартирах\")\n",
    "plt.show()\n",
    "#оставим строки, в которых площадь кухни укладывается в 16 кв.м"
   ]
  },
  {
   "cell_type": "code",
   "execution_count": 29,
   "metadata": {},
   "outputs": [
    {
     "data": {
      "image/png": "[encoded data removed]",
      "text/plain": [
       "<Figure size 432x288 with 1 Axes>"
      ]
     },
     "metadata": {
      "needs_background": "light"
     },
     "output_type": "display_data"
    }
   ],
   "source": [
    "df['living_area'].hist(bins=10, range=(0, 100))\n",
    "plt.xlabel('жилая площадь, кв.м')\n",
    "plt.ylabel('частота появления, раз')\n",
    "plt.title(\"Частотное распределение жилой площади в квартирах\")\n",
    "plt.show()\n",
    "#оставим строки, в которых жилая площадь укладывается в 70 кв.м"
   ]
  },
  {
   "cell_type": "code",
   "execution_count": 30,
   "metadata": {},
   "outputs": [
    {
     "data": {
      "text/plain": [
       "182.26344"
      ]
     },
     "metadata": {},
     "output_type": "display_data"
    },
    {
     "data": {
      "text/plain": [
       "97.0"
      ]
     },
     "metadata": {},
     "output_type": "display_data"
    },
    {
     "data": {
      "image/png": "[encoded data removed]",
      "text/plain": [
       "<Figure size 432x288 with 1 Axes>"
      ]
     },
     "metadata": {
      "needs_background": "light"
     },
     "output_type": "display_data"
    }
   ],
   "source": [
    "#исследуем срок экспозиции\n",
    "df['days_exposition'].hist(bins=10, range=(0, 700))\n",
    "plt.xlabel('срок экспозиции, дней')\n",
    "plt.ylabel('частота появления, раз')\n",
    "plt.title(\"Частотное распределение сроков экспозиции при продаже квартиры\")\n",
    "display(df['days_exposition'].mean())\n",
    "display(df['days_exposition'].median())\n",
    "#мы видим почти двукратное превышение среднего над медианой, что указывает на присутствие аномально долгого времени продажи.\n",
    "#обычно продажа длится порядка 3 месяцев (95 дней) - значение медианы."
   ]
  },
  {
   "cell_type": "code",
   "execution_count": 31,
   "metadata": {},
   "outputs": [
    {
     "data": {
      "text/plain": [
       "(-50, 550)"
      ]
     },
     "execution_count": 31,
     "metadata": {},
     "output_type": "execute_result"
    },
    {
     "data": {
      "image/png": "[encoded data removed]",
      "text/plain": [
       "<Figure size 432x288 with 1 Axes>"
      ]
     },
     "metadata": {
      "needs_background": "light"
     },
     "output_type": "display_data"
    }
   ],
   "source": [
    "#построим диаграмму размаха для сроков экспозиции\n",
    "df.boxplot(column='days_exposition')\n",
    "plt.ylim(-50, 550)\n",
    "# Первый и третий квартили служат нам ориентиром для быстрых и долгих продаж: продажу можно считать быстрой, \n",
    "#если она заняла менее 50 дней и продажа становится долгой, если срок экспозиции превышает 225 дней"
   ]
  },
  {
   "cell_type": "code",
   "execution_count": 32,
   "metadata": {},
   "outputs": [
    {
     "data": {
      "image/png": "[encoded data removed]",
      "text/plain": [
       "<Figure size 432x288 with 1 Axes>"
      ]
     },
     "metadata": {
      "needs_background": "light"
     },
     "output_type": "display_data"
    }
   ],
   "source": [
    "#проверим наши предположения, построив гистограмму для объявлений со сроком менее 100 дней\n",
    "#мы видим пик для периода 40-50 дней, т.е. продажи меньше чем за 40 дней можно считать очень быстрыми. \n",
    "df['days_exposition'].hist(bins=10, range=(0, 100))\n",
    "plt.xlabel('срок экспозиции, дней')\n",
    "plt.ylabel('частота появления, шт.')\n",
    "plt.title(\"Частотное распределение сроков экспозиции при продаже квартиры менее 100 дней\")\n",
    "plt.show()"
   ]
  },
  {
   "cell_type": "code",
   "execution_count": 33,
   "metadata": {},
   "outputs": [
    {
     "name": "stdout",
     "output_type": "stream",
     "text": [
      "<class 'pandas.core.frame.DataFrame'>\n",
      "Int64Index: 19715 entries, 1 to 23698\n",
      "Data columns (total 23 columns):\n",
      "last_price                19715 non-null uint32\n",
      "total_area                19715 non-null float32\n",
      "first_day_exposition      19715 non-null datetime64[ns]\n",
      "rooms                     19715 non-null uint8\n",
      "ceiling_height            19715 non-null float32\n",
      "floors_total              19715 non-null uint8\n",
      "living_area               19715 non-null float32\n",
      "floor                     19715 non-null uint8\n",
      "kitchen_area              19715 non-null float32\n",
      "balcony                   19715 non-null uint8\n",
      "locality_name             19715 non-null category\n",
      "cityCenters_nearest       14690 non-null float32\n",
      "days_exposition           17317 non-null float32\n",
      "area_check                19715 non-null category\n",
      "price_per_meter           19715 non-null float64\n",
      "weekday                   19715 non-null int64\n",
      "month_exposition          19715 non-null int64\n",
      "year_exposition           19715 non-null int64\n",
      "living_to_total_area      19715 non-null float32\n",
      "kitchen_to_total_area     19715 non-null float32\n",
      "cityCenters_nearest_km    14690 non-null float32\n",
      "floor_group               19715 non-null object\n",
      "floor_group_number        19715 non-null int64\n",
      "dtypes: category(2), datetime64[ns](1), float32(9), float64(1), int64(4), object(1), uint32(1), uint8(4)\n",
      "memory usage: 2.1+ MB\n"
     ]
    }
   ],
   "source": [
    "#уберем обнаруженные выбросы для каждого из проанализированных столбцов\n",
    "df = df.query('total_area >= 15 and total_area <= 115 \\\n",
    "               and last_price <= 12000000 \\\n",
    "               and rooms >= 1 and rooms <= 5 \\\n",
    "               and ceiling_height >= 2.5 and ceiling_height <= 3.5 \\\n",
    "               and kitchen_area <= 16 \\\n",
    "               and living_area <= 70 \\\n",
    "               and floors_total <= 28')\n",
    "df.info()"
   ]
  },
  {
   "cell_type": "markdown",
   "metadata": {},
   "source": [
    "После удаления всех выбросов и строк с пропусками в столбцах locality_name и floors_total у нас остался массив в 20 013 строки\n",
    "что составляет 84% от первоначального размера данных.\n",
    "остались строки с пропущенными значениями в столбцах cityCenters_nearest и days_exposition."
   ]
  },
  {
   "cell_type": "code",
   "execution_count": 34,
   "metadata": {
    "scrolled": true
   },
   "outputs": [
    {
     "data": {
      "text/html": [
       "<div>\n",
       "<style scoped>\n",
       "    .dataframe tbody tr th:only-of-type {\n",
       "        vertical-align: middle;\n",
       "    }\n",
       "\n",
       "    .dataframe tbody tr th {\n",
       "        vertical-align: top;\n",
       "    }\n",
       "\n",
       "    .dataframe thead th {\n",
       "        text-align: right;\n",
       "    }\n",
       "</style>\n",
       "<table border=\"1\" class=\"dataframe\">\n",
       "  <thead>\n",
       "    <tr style=\"text-align: right;\">\n",
       "      <th></th>\n",
       "      <th>price_per_meter</th>\n",
       "    </tr>\n",
       "    <tr>\n",
       "      <th>rooms</th>\n",
       "      <th></th>\n",
       "    </tr>\n",
       "  </thead>\n",
       "  <tbody>\n",
       "    <tr>\n",
       "      <td>1</td>\n",
       "      <td>99,125.15</td>\n",
       "    </tr>\n",
       "    <tr>\n",
       "      <td>2</td>\n",
       "      <td>89,366.78</td>\n",
       "    </tr>\n",
       "    <tr>\n",
       "      <td>3</td>\n",
       "      <td>82,999.29</td>\n",
       "    </tr>\n",
       "    <tr>\n",
       "      <td>4</td>\n",
       "      <td>80,364.93</td>\n",
       "    </tr>\n",
       "    <tr>\n",
       "      <td>5</td>\n",
       "      <td>75,809.46</td>\n",
       "    </tr>\n",
       "  </tbody>\n",
       "</table>\n",
       "</div>"
      ],
      "text/plain": [
       "       price_per_meter\n",
       "rooms                 \n",
       "1            99,125.15\n",
       "2            89,366.78\n",
       "3            82,999.29\n",
       "4            80,364.93\n",
       "5            75,809.46"
      ]
     },
     "metadata": {},
     "output_type": "display_data"
    },
    {
     "data": {
      "text/plain": [
       "-0.22322852632725657"
      ]
     },
     "metadata": {},
     "output_type": "display_data"
    }
   ],
   "source": [
    "#определим, есть ли зависимость между ценой за кв.м и количеством комнат: выведем средние значения, а также определим коэффициент корреляции\n",
    "display(df.pivot_table(index='rooms', values='price_per_meter', aggfunc= 'mean'))\n",
    "display(df['price_per_meter'].corr(df['rooms']))\n",
    "#несмотря на кажущуюся взаимосвязь между ценой и количеством комнат, коэффициент корреляции верно показывает обратную зависимость,\n",
    "# но степень влияния незначительна"
   ]
  },
  {
   "cell_type": "code",
   "execution_count": 35,
   "metadata": {},
   "outputs": [
    {
     "data": {
      "text/html": [
       "<div>\n",
       "<style scoped>\n",
       "    .dataframe tbody tr th:only-of-type {\n",
       "        vertical-align: middle;\n",
       "    }\n",
       "\n",
       "    .dataframe tbody tr th {\n",
       "        vertical-align: top;\n",
       "    }\n",
       "\n",
       "    .dataframe thead tr th {\n",
       "        text-align: left;\n",
       "    }\n",
       "\n",
       "    .dataframe thead tr:last-of-type th {\n",
       "        text-align: right;\n",
       "    }\n",
       "</style>\n",
       "<table border=\"1\" class=\"dataframe\">\n",
       "  <thead>\n",
       "    <tr>\n",
       "      <th></th>\n",
       "      <th>count</th>\n",
       "      <th>min</th>\n",
       "      <th>max</th>\n",
       "      <th>std</th>\n",
       "      <th>mean</th>\n",
       "    </tr>\n",
       "    <tr>\n",
       "      <th></th>\n",
       "      <th>price_per_meter</th>\n",
       "      <th>price_per_meter</th>\n",
       "      <th>price_per_meter</th>\n",
       "      <th>price_per_meter</th>\n",
       "      <th>price_per_meter</th>\n",
       "    </tr>\n",
       "    <tr>\n",
       "      <th>rooms</th>\n",
       "      <th></th>\n",
       "      <th></th>\n",
       "      <th></th>\n",
       "      <th></th>\n",
       "      <th></th>\n",
       "    </tr>\n",
       "  </thead>\n",
       "  <tbody>\n",
       "    <tr>\n",
       "      <td>1</td>\n",
       "      <td>7468</td>\n",
       "      <td>11,000.00</td>\n",
       "      <td>387,096.77</td>\n",
       "      <td>29,094.73</td>\n",
       "      <td>99,125.15</td>\n",
       "    </tr>\n",
       "    <tr>\n",
       "      <td>2</td>\n",
       "      <td>7089</td>\n",
       "      <td>7,962.96</td>\n",
       "      <td>227,571.11</td>\n",
       "      <td>30,314.21</td>\n",
       "      <td>89,366.78</td>\n",
       "    </tr>\n",
       "    <tr>\n",
       "      <td>3</td>\n",
       "      <td>4531</td>\n",
       "      <td>10,897.44</td>\n",
       "      <td>215,439.85</td>\n",
       "      <td>25,287.62</td>\n",
       "      <td>82,999.29</td>\n",
       "    </tr>\n",
       "    <tr>\n",
       "      <td>4</td>\n",
       "      <td>588</td>\n",
       "      <td>13,483.15</td>\n",
       "      <td>149,664.43</td>\n",
       "      <td>21,166.98</td>\n",
       "      <td>80,364.93</td>\n",
       "    </tr>\n",
       "    <tr>\n",
       "      <td>5</td>\n",
       "      <td>39</td>\n",
       "      <td>22,458.63</td>\n",
       "      <td>117,848.97</td>\n",
       "      <td>22,230.15</td>\n",
       "      <td>75,809.46</td>\n",
       "    </tr>\n",
       "  </tbody>\n",
       "</table>\n",
       "</div>"
      ],
      "text/plain": [
       "                count             min             max             std  \\\n",
       "      price_per_meter price_per_meter price_per_meter price_per_meter   \n",
       "rooms                                                                   \n",
       "1                7468       11,000.00      387,096.77       29,094.73   \n",
       "2                7089        7,962.96      227,571.11       30,314.21   \n",
       "3                4531       10,897.44      215,439.85       25,287.62   \n",
       "4                 588       13,483.15      149,664.43       21,166.98   \n",
       "5                  39       22,458.63      117,848.97       22,230.15   \n",
       "\n",
       "                 mean  \n",
       "      price_per_meter  \n",
       "rooms                  \n",
       "1           99,125.15  \n",
       "2           89,366.78  \n",
       "3           82,999.29  \n",
       "4           80,364.93  \n",
       "5           75,809.46  "
      ]
     },
     "metadata": {},
     "output_type": "display_data"
    },
    {
     "data": {
      "image/png": "[encoded data removed]",
      "text/plain": [
       "<Figure size 432x288 with 1 Axes>"
      ]
     },
     "metadata": {
      "needs_background": "light"
     },
     "output_type": "display_data"
    }
   ],
   "source": [
    "#рассмотрим данные в этом срезе более внимательно\n",
    "display(df.pivot_table(index='rooms', values='price_per_meter', aggfunc= ['count', 'min', 'max', 'std', 'mean']))\n",
    "df.plot(x='rooms', y='price_per_meter', kind='scatter', grid=True)\n",
    "plt.show()"
   ]
  },
  {
   "cell_type": "markdown",
   "metadata": {},
   "source": [
    "Мы видим, что разброс цен внутри одной группы отличается в десятки раз, \n",
    "это подверждается стандартным отклонением, которое составляет порядка 30% от среднего\n",
    "за счет этого происходит перекрытие диапазонов цен, что видно диаграмме рассеивания\n",
    "этим и объясняется столь низкий коэффициент корреляции, поскольку в выборку попали квартиры с самыми разными характеристиками."
   ]
  },
  {
   "cell_type": "code",
   "execution_count": 36,
   "metadata": {
    "scrolled": true
   },
   "outputs": [
    {
     "data": {
      "text/html": [
       "<div>\n",
       "<style scoped>\n",
       "    .dataframe tbody tr th:only-of-type {\n",
       "        vertical-align: middle;\n",
       "    }\n",
       "\n",
       "    .dataframe tbody tr th {\n",
       "        vertical-align: top;\n",
       "    }\n",
       "\n",
       "    .dataframe thead th {\n",
       "        text-align: right;\n",
       "    }\n",
       "</style>\n",
       "<table border=\"1\" class=\"dataframe\">\n",
       "  <thead>\n",
       "    <tr style=\"text-align: right;\">\n",
       "      <th></th>\n",
       "      <th>last_price</th>\n",
       "      <th>total_area</th>\n",
       "      <th>rooms</th>\n",
       "      <th>ceiling_height</th>\n",
       "      <th>floors_total</th>\n",
       "      <th>living_area</th>\n",
       "      <th>floor</th>\n",
       "      <th>kitchen_area</th>\n",
       "      <th>balcony</th>\n",
       "      <th>cityCenters_nearest</th>\n",
       "      <th>days_exposition</th>\n",
       "      <th>price_per_meter</th>\n",
       "      <th>weekday</th>\n",
       "      <th>month_exposition</th>\n",
       "      <th>year_exposition</th>\n",
       "      <th>living_to_total_area</th>\n",
       "      <th>kitchen_to_total_area</th>\n",
       "      <th>cityCenters_nearest_km</th>\n",
       "      <th>floor_group_number</th>\n",
       "    </tr>\n",
       "  </thead>\n",
       "  <tbody>\n",
       "    <tr>\n",
       "      <td>last_price</td>\n",
       "      <td>1.00</td>\n",
       "      <td>0.68</td>\n",
       "      <td>0.42</td>\n",
       "      <td>0.35</td>\n",
       "      <td>0.24</td>\n",
       "      <td>0.54</td>\n",
       "      <td>0.16</td>\n",
       "      <td>0.45</td>\n",
       "      <td>0.08</td>\n",
       "      <td>-0.34</td>\n",
       "      <td>0.05</td>\n",
       "      <td>0.66</td>\n",
       "      <td>-0.01</td>\n",
       "      <td>0.00</td>\n",
       "      <td>0.02</td>\n",
       "      <td>0.04</td>\n",
       "      <td>-0.24</td>\n",
       "      <td>-0.34</td>\n",
       "      <td>0.03</td>\n",
       "    </tr>\n",
       "    <tr>\n",
       "      <td>total_area</td>\n",
       "      <td>0.68</td>\n",
       "      <td>1.00</td>\n",
       "      <td>0.81</td>\n",
       "      <td>0.25</td>\n",
       "      <td>-0.01</td>\n",
       "      <td>0.91</td>\n",
       "      <td>-0.02</td>\n",
       "      <td>0.39</td>\n",
       "      <td>0.07</td>\n",
       "      <td>-0.11</td>\n",
       "      <td>0.09</td>\n",
       "      <td>-0.07</td>\n",
       "      <td>-0.01</td>\n",
       "      <td>0.01</td>\n",
       "      <td>-0.05</td>\n",
       "      <td>0.32</td>\n",
       "      <td>-0.58</td>\n",
       "      <td>-0.11</td>\n",
       "      <td>0.00</td>\n",
       "    </tr>\n",
       "    <tr>\n",
       "      <td>rooms</td>\n",
       "      <td>0.42</td>\n",
       "      <td>0.81</td>\n",
       "      <td>1.00</td>\n",
       "      <td>0.07</td>\n",
       "      <td>-0.23</td>\n",
       "      <td>0.91</td>\n",
       "      <td>-0.17</td>\n",
       "      <td>-0.02</td>\n",
       "      <td>0.02</td>\n",
       "      <td>-0.07</td>\n",
       "      <td>0.07</td>\n",
       "      <td>-0.22</td>\n",
       "      <td>0.00</td>\n",
       "      <td>0.00</td>\n",
       "      <td>-0.03</td>\n",
       "      <td>0.67</td>\n",
       "      <td>-0.76</td>\n",
       "      <td>-0.07</td>\n",
       "      <td>-0.02</td>\n",
       "    </tr>\n",
       "    <tr>\n",
       "      <td>ceiling_height</td>\n",
       "      <td>0.35</td>\n",
       "      <td>0.25</td>\n",
       "      <td>0.07</td>\n",
       "      <td>1.00</td>\n",
       "      <td>0.02</td>\n",
       "      <td>0.18</td>\n",
       "      <td>0.01</td>\n",
       "      <td>0.29</td>\n",
       "      <td>-0.03</td>\n",
       "      <td>-0.23</td>\n",
       "      <td>0.05</td>\n",
       "      <td>0.21</td>\n",
       "      <td>-0.01</td>\n",
       "      <td>-0.00</td>\n",
       "      <td>-0.04</td>\n",
       "      <td>-0.08</td>\n",
       "      <td>0.03</td>\n",
       "      <td>-0.23</td>\n",
       "      <td>0.01</td>\n",
       "    </tr>\n",
       "    <tr>\n",
       "      <td>floors_total</td>\n",
       "      <td>0.24</td>\n",
       "      <td>-0.01</td>\n",
       "      <td>-0.23</td>\n",
       "      <td>0.02</td>\n",
       "      <td>1.00</td>\n",
       "      <td>-0.18</td>\n",
       "      <td>0.67</td>\n",
       "      <td>0.43</td>\n",
       "      <td>0.16</td>\n",
       "      <td>-0.05</td>\n",
       "      <td>-0.04</td>\n",
       "      <td>0.36</td>\n",
       "      <td>0.01</td>\n",
       "      <td>0.01</td>\n",
       "      <td>-0.00</td>\n",
       "      <td>-0.43</td>\n",
       "      <td>0.39</td>\n",
       "      <td>-0.05</td>\n",
       "      <td>0.00</td>\n",
       "    </tr>\n",
       "    <tr>\n",
       "      <td>living_area</td>\n",
       "      <td>0.54</td>\n",
       "      <td>0.91</td>\n",
       "      <td>0.91</td>\n",
       "      <td>0.18</td>\n",
       "      <td>-0.18</td>\n",
       "      <td>1.00</td>\n",
       "      <td>-0.14</td>\n",
       "      <td>0.12</td>\n",
       "      <td>0.03</td>\n",
       "      <td>-0.10</td>\n",
       "      <td>0.08</td>\n",
       "      <td>-0.17</td>\n",
       "      <td>-0.00</td>\n",
       "      <td>0.00</td>\n",
       "      <td>-0.04</td>\n",
       "      <td>0.66</td>\n",
       "      <td>-0.73</td>\n",
       "      <td>-0.10</td>\n",
       "      <td>-0.00</td>\n",
       "    </tr>\n",
       "    <tr>\n",
       "      <td>floor</td>\n",
       "      <td>0.16</td>\n",
       "      <td>-0.02</td>\n",
       "      <td>-0.17</td>\n",
       "      <td>0.01</td>\n",
       "      <td>0.67</td>\n",
       "      <td>-0.14</td>\n",
       "      <td>1.00</td>\n",
       "      <td>0.28</td>\n",
       "      <td>0.16</td>\n",
       "      <td>-0.02</td>\n",
       "      <td>-0.04</td>\n",
       "      <td>0.26</td>\n",
       "      <td>0.01</td>\n",
       "      <td>0.02</td>\n",
       "      <td>0.00</td>\n",
       "      <td>-0.30</td>\n",
       "      <td>0.28</td>\n",
       "      <td>-0.02</td>\n",
       "      <td>0.33</td>\n",
       "    </tr>\n",
       "    <tr>\n",
       "      <td>kitchen_area</td>\n",
       "      <td>0.45</td>\n",
       "      <td>0.39</td>\n",
       "      <td>-0.02</td>\n",
       "      <td>0.29</td>\n",
       "      <td>0.43</td>\n",
       "      <td>0.12</td>\n",
       "      <td>0.28</td>\n",
       "      <td>1.00</td>\n",
       "      <td>0.12</td>\n",
       "      <td>-0.10</td>\n",
       "      <td>0.04</td>\n",
       "      <td>0.23</td>\n",
       "      <td>-0.01</td>\n",
       "      <td>0.02</td>\n",
       "      <td>-0.03</td>\n",
       "      <td>-0.46</td>\n",
       "      <td>0.48</td>\n",
       "      <td>-0.10</td>\n",
       "      <td>0.01</td>\n",
       "    </tr>\n",
       "    <tr>\n",
       "      <td>balcony</td>\n",
       "      <td>0.08</td>\n",
       "      <td>0.07</td>\n",
       "      <td>0.02</td>\n",
       "      <td>-0.03</td>\n",
       "      <td>0.16</td>\n",
       "      <td>0.03</td>\n",
       "      <td>0.16</td>\n",
       "      <td>0.12</td>\n",
       "      <td>1.00</td>\n",
       "      <td>0.05</td>\n",
       "      <td>-0.02</td>\n",
       "      <td>0.04</td>\n",
       "      <td>-0.00</td>\n",
       "      <td>0.00</td>\n",
       "      <td>0.00</td>\n",
       "      <td>-0.07</td>\n",
       "      <td>0.03</td>\n",
       "      <td>0.05</td>\n",
       "      <td>0.08</td>\n",
       "    </tr>\n",
       "    <tr>\n",
       "      <td>cityCenters_nearest</td>\n",
       "      <td>-0.34</td>\n",
       "      <td>-0.11</td>\n",
       "      <td>-0.07</td>\n",
       "      <td>-0.23</td>\n",
       "      <td>-0.05</td>\n",
       "      <td>-0.10</td>\n",
       "      <td>-0.02</td>\n",
       "      <td>-0.10</td>\n",
       "      <td>0.05</td>\n",
       "      <td>1.00</td>\n",
       "      <td>-0.01</td>\n",
       "      <td>-0.40</td>\n",
       "      <td>0.01</td>\n",
       "      <td>-0.01</td>\n",
       "      <td>0.01</td>\n",
       "      <td>-0.01</td>\n",
       "      <td>0.01</td>\n",
       "      <td>1.00</td>\n",
       "      <td>-0.01</td>\n",
       "    </tr>\n",
       "    <tr>\n",
       "      <td>days_exposition</td>\n",
       "      <td>0.05</td>\n",
       "      <td>0.09</td>\n",
       "      <td>0.07</td>\n",
       "      <td>0.05</td>\n",
       "      <td>-0.04</td>\n",
       "      <td>0.08</td>\n",
       "      <td>-0.04</td>\n",
       "      <td>0.04</td>\n",
       "      <td>-0.02</td>\n",
       "      <td>-0.01</td>\n",
       "      <td>1.00</td>\n",
       "      <td>-0.02</td>\n",
       "      <td>-0.02</td>\n",
       "      <td>-0.04</td>\n",
       "      <td>-0.60</td>\n",
       "      <td>0.02</td>\n",
       "      <td>-0.05</td>\n",
       "      <td>-0.01</td>\n",
       "      <td>-0.02</td>\n",
       "    </tr>\n",
       "    <tr>\n",
       "      <td>price_per_meter</td>\n",
       "      <td>0.66</td>\n",
       "      <td>-0.07</td>\n",
       "      <td>-0.22</td>\n",
       "      <td>0.21</td>\n",
       "      <td>0.36</td>\n",
       "      <td>-0.17</td>\n",
       "      <td>0.26</td>\n",
       "      <td>0.23</td>\n",
       "      <td>0.04</td>\n",
       "      <td>-0.40</td>\n",
       "      <td>-0.02</td>\n",
       "      <td>1.00</td>\n",
       "      <td>-0.01</td>\n",
       "      <td>-0.00</td>\n",
       "      <td>0.07</td>\n",
       "      <td>-0.27</td>\n",
       "      <td>0.27</td>\n",
       "      <td>-0.40</td>\n",
       "      <td>0.03</td>\n",
       "    </tr>\n",
       "    <tr>\n",
       "      <td>weekday</td>\n",
       "      <td>-0.01</td>\n",
       "      <td>-0.01</td>\n",
       "      <td>0.00</td>\n",
       "      <td>-0.01</td>\n",
       "      <td>0.01</td>\n",
       "      <td>-0.00</td>\n",
       "      <td>0.01</td>\n",
       "      <td>-0.01</td>\n",
       "      <td>-0.00</td>\n",
       "      <td>0.01</td>\n",
       "      <td>-0.02</td>\n",
       "      <td>-0.01</td>\n",
       "      <td>1.00</td>\n",
       "      <td>0.01</td>\n",
       "      <td>-0.00</td>\n",
       "      <td>0.01</td>\n",
       "      <td>-0.00</td>\n",
       "      <td>0.01</td>\n",
       "      <td>0.00</td>\n",
       "    </tr>\n",
       "    <tr>\n",
       "      <td>month_exposition</td>\n",
       "      <td>0.00</td>\n",
       "      <td>0.01</td>\n",
       "      <td>0.00</td>\n",
       "      <td>-0.00</td>\n",
       "      <td>0.01</td>\n",
       "      <td>0.00</td>\n",
       "      <td>0.02</td>\n",
       "      <td>0.02</td>\n",
       "      <td>0.00</td>\n",
       "      <td>-0.01</td>\n",
       "      <td>-0.04</td>\n",
       "      <td>-0.00</td>\n",
       "      <td>0.01</td>\n",
       "      <td>1.00</td>\n",
       "      <td>-0.27</td>\n",
       "      <td>-0.01</td>\n",
       "      <td>0.01</td>\n",
       "      <td>-0.01</td>\n",
       "      <td>0.01</td>\n",
       "    </tr>\n",
       "    <tr>\n",
       "      <td>year_exposition</td>\n",
       "      <td>0.02</td>\n",
       "      <td>-0.05</td>\n",
       "      <td>-0.03</td>\n",
       "      <td>-0.04</td>\n",
       "      <td>-0.00</td>\n",
       "      <td>-0.04</td>\n",
       "      <td>0.00</td>\n",
       "      <td>-0.03</td>\n",
       "      <td>0.00</td>\n",
       "      <td>0.01</td>\n",
       "      <td>-0.60</td>\n",
       "      <td>0.07</td>\n",
       "      <td>-0.00</td>\n",
       "      <td>-0.27</td>\n",
       "      <td>1.00</td>\n",
       "      <td>0.00</td>\n",
       "      <td>0.01</td>\n",
       "      <td>0.01</td>\n",
       "      <td>0.01</td>\n",
       "    </tr>\n",
       "    <tr>\n",
       "      <td>living_to_total_area</td>\n",
       "      <td>0.04</td>\n",
       "      <td>0.32</td>\n",
       "      <td>0.67</td>\n",
       "      <td>-0.08</td>\n",
       "      <td>-0.43</td>\n",
       "      <td>0.66</td>\n",
       "      <td>-0.30</td>\n",
       "      <td>-0.46</td>\n",
       "      <td>-0.07</td>\n",
       "      <td>-0.01</td>\n",
       "      <td>0.02</td>\n",
       "      <td>-0.27</td>\n",
       "      <td>0.01</td>\n",
       "      <td>-0.01</td>\n",
       "      <td>0.00</td>\n",
       "      <td>1.00</td>\n",
       "      <td>-0.71</td>\n",
       "      <td>-0.01</td>\n",
       "      <td>-0.01</td>\n",
       "    </tr>\n",
       "    <tr>\n",
       "      <td>kitchen_to_total_area</td>\n",
       "      <td>-0.24</td>\n",
       "      <td>-0.58</td>\n",
       "      <td>-0.76</td>\n",
       "      <td>0.03</td>\n",
       "      <td>0.39</td>\n",
       "      <td>-0.73</td>\n",
       "      <td>0.28</td>\n",
       "      <td>0.48</td>\n",
       "      <td>0.03</td>\n",
       "      <td>0.01</td>\n",
       "      <td>-0.05</td>\n",
       "      <td>0.27</td>\n",
       "      <td>-0.00</td>\n",
       "      <td>0.01</td>\n",
       "      <td>0.01</td>\n",
       "      <td>-0.71</td>\n",
       "      <td>1.00</td>\n",
       "      <td>0.01</td>\n",
       "      <td>0.00</td>\n",
       "    </tr>\n",
       "    <tr>\n",
       "      <td>cityCenters_nearest_km</td>\n",
       "      <td>-0.34</td>\n",
       "      <td>-0.11</td>\n",
       "      <td>-0.07</td>\n",
       "      <td>-0.23</td>\n",
       "      <td>-0.05</td>\n",
       "      <td>-0.10</td>\n",
       "      <td>-0.02</td>\n",
       "      <td>-0.10</td>\n",
       "      <td>0.05</td>\n",
       "      <td>1.00</td>\n",
       "      <td>-0.01</td>\n",
       "      <td>-0.40</td>\n",
       "      <td>0.01</td>\n",
       "      <td>-0.01</td>\n",
       "      <td>0.01</td>\n",
       "      <td>-0.01</td>\n",
       "      <td>0.01</td>\n",
       "      <td>1.00</td>\n",
       "      <td>-0.01</td>\n",
       "    </tr>\n",
       "    <tr>\n",
       "      <td>floor_group_number</td>\n",
       "      <td>0.03</td>\n",
       "      <td>0.00</td>\n",
       "      <td>-0.02</td>\n",
       "      <td>0.01</td>\n",
       "      <td>0.00</td>\n",
       "      <td>-0.00</td>\n",
       "      <td>0.33</td>\n",
       "      <td>0.01</td>\n",
       "      <td>0.08</td>\n",
       "      <td>-0.01</td>\n",
       "      <td>-0.02</td>\n",
       "      <td>0.03</td>\n",
       "      <td>0.00</td>\n",
       "      <td>0.01</td>\n",
       "      <td>0.01</td>\n",
       "      <td>-0.01</td>\n",
       "      <td>0.00</td>\n",
       "      <td>-0.01</td>\n",
       "      <td>1.00</td>\n",
       "    </tr>\n",
       "  </tbody>\n",
       "</table>\n",
       "</div>"
      ],
      "text/plain": [
       "                        last_price  total_area  rooms  ceiling_height  \\\n",
       "last_price                    1.00        0.68   0.42            0.35   \n",
       "total_area                    0.68        1.00   0.81            0.25   \n",
       "rooms                         0.42        0.81   1.00            0.07   \n",
       "ceiling_height                0.35        0.25   0.07            1.00   \n",
       "floors_total                  0.24       -0.01  -0.23            0.02   \n",
       "living_area                   0.54        0.91   0.91            0.18   \n",
       "floor                         0.16       -0.02  -0.17            0.01   \n",
       "kitchen_area                  0.45        0.39  -0.02            0.29   \n",
       "balcony                       0.08        0.07   0.02           -0.03   \n",
       "cityCenters_nearest          -0.34       -0.11  -0.07           -0.23   \n",
       "days_exposition               0.05        0.09   0.07            0.05   \n",
       "price_per_meter               0.66       -0.07  -0.22            0.21   \n",
       "weekday                      -0.01       -0.01   0.00           -0.01   \n",
       "month_exposition              0.00        0.01   0.00           -0.00   \n",
       "year_exposition               0.02       -0.05  -0.03           -0.04   \n",
       "living_to_total_area          0.04        0.32   0.67           -0.08   \n",
       "kitchen_to_total_area        -0.24       -0.58  -0.76            0.03   \n",
       "cityCenters_nearest_km       -0.34       -0.11  -0.07           -0.23   \n",
       "floor_group_number            0.03        0.00  -0.02            0.01   \n",
       "\n",
       "                        floors_total  living_area  floor  kitchen_area  \\\n",
       "last_price                      0.24         0.54   0.16          0.45   \n",
       "total_area                     -0.01         0.91  -0.02          0.39   \n",
       "rooms                          -0.23         0.91  -0.17         -0.02   \n",
       "ceiling_height                  0.02         0.18   0.01          0.29   \n",
       "floors_total                    1.00        -0.18   0.67          0.43   \n",
       "living_area                    -0.18         1.00  -0.14          0.12   \n",
       "floor                           0.67        -0.14   1.00          0.28   \n",
       "kitchen_area                    0.43         0.12   0.28          1.00   \n",
       "balcony                         0.16         0.03   0.16          0.12   \n",
       "cityCenters_nearest            -0.05        -0.10  -0.02         -0.10   \n",
       "days_exposition                -0.04         0.08  -0.04          0.04   \n",
       "price_per_meter                 0.36        -0.17   0.26          0.23   \n",
       "weekday                         0.01        -0.00   0.01         -0.01   \n",
       "month_exposition                0.01         0.00   0.02          0.02   \n",
       "year_exposition                -0.00        -0.04   0.00         -0.03   \n",
       "living_to_total_area           -0.43         0.66  -0.30         -0.46   \n",
       "kitchen_to_total_area           0.39        -0.73   0.28          0.48   \n",
       "cityCenters_nearest_km         -0.05        -0.10  -0.02         -0.10   \n",
       "floor_group_number              0.00        -0.00   0.33          0.01   \n",
       "\n",
       "                        balcony  cityCenters_nearest  days_exposition  \\\n",
       "last_price                 0.08                -0.34             0.05   \n",
       "total_area                 0.07                -0.11             0.09   \n",
       "rooms                      0.02                -0.07             0.07   \n",
       "ceiling_height            -0.03                -0.23             0.05   \n",
       "floors_total               0.16                -0.05            -0.04   \n",
       "living_area                0.03                -0.10             0.08   \n",
       "floor                      0.16                -0.02            -0.04   \n",
       "kitchen_area               0.12                -0.10             0.04   \n",
       "balcony                    1.00                 0.05            -0.02   \n",
       "cityCenters_nearest        0.05                 1.00            -0.01   \n",
       "days_exposition           -0.02                -0.01             1.00   \n",
       "price_per_meter            0.04                -0.40            -0.02   \n",
       "weekday                   -0.00                 0.01            -0.02   \n",
       "month_exposition           0.00                -0.01            -0.04   \n",
       "year_exposition            0.00                 0.01            -0.60   \n",
       "living_to_total_area      -0.07                -0.01             0.02   \n",
       "kitchen_to_total_area      0.03                 0.01            -0.05   \n",
       "cityCenters_nearest_km     0.05                 1.00            -0.01   \n",
       "floor_group_number         0.08                -0.01            -0.02   \n",
       "\n",
       "                        price_per_meter  weekday  month_exposition  \\\n",
       "last_price                         0.66    -0.01              0.00   \n",
       "total_area                        -0.07    -0.01              0.01   \n",
       "rooms                             -0.22     0.00              0.00   \n",
       "ceiling_height                     0.21    -0.01             -0.00   \n",
       "floors_total                       0.36     0.01              0.01   \n",
       "living_area                       -0.17    -0.00              0.00   \n",
       "floor                              0.26     0.01              0.02   \n",
       "kitchen_area                       0.23    -0.01              0.02   \n",
       "balcony                            0.04    -0.00              0.00   \n",
       "cityCenters_nearest               -0.40     0.01             -0.01   \n",
       "days_exposition                   -0.02    -0.02             -0.04   \n",
       "price_per_meter                    1.00    -0.01             -0.00   \n",
       "weekday                           -0.01     1.00              0.01   \n",
       "month_exposition                  -0.00     0.01              1.00   \n",
       "year_exposition                    0.07    -0.00             -0.27   \n",
       "living_to_total_area              -0.27     0.01             -0.01   \n",
       "kitchen_to_total_area              0.27    -0.00              0.01   \n",
       "cityCenters_nearest_km            -0.40     0.01             -0.01   \n",
       "floor_group_number                 0.03     0.00              0.01   \n",
       "\n",
       "                        year_exposition  living_to_total_area  \\\n",
       "last_price                         0.02                  0.04   \n",
       "total_area                        -0.05                  0.32   \n",
       "rooms                             -0.03                  0.67   \n",
       "ceiling_height                    -0.04                 -0.08   \n",
       "floors_total                      -0.00                 -0.43   \n",
       "living_area                       -0.04                  0.66   \n",
       "floor                              0.00                 -0.30   \n",
       "kitchen_area                      -0.03                 -0.46   \n",
       "balcony                            0.00                 -0.07   \n",
       "cityCenters_nearest                0.01                 -0.01   \n",
       "days_exposition                   -0.60                  0.02   \n",
       "price_per_meter                    0.07                 -0.27   \n",
       "weekday                           -0.00                  0.01   \n",
       "month_exposition                  -0.27                 -0.01   \n",
       "year_exposition                    1.00                  0.00   \n",
       "living_to_total_area               0.00                  1.00   \n",
       "kitchen_to_total_area              0.01                 -0.71   \n",
       "cityCenters_nearest_km             0.01                 -0.01   \n",
       "floor_group_number                 0.01                 -0.01   \n",
       "\n",
       "                        kitchen_to_total_area  cityCenters_nearest_km  \\\n",
       "last_price                              -0.24                   -0.34   \n",
       "total_area                              -0.58                   -0.11   \n",
       "rooms                                   -0.76                   -0.07   \n",
       "ceiling_height                           0.03                   -0.23   \n",
       "floors_total                             0.39                   -0.05   \n",
       "living_area                             -0.73                   -0.10   \n",
       "floor                                    0.28                   -0.02   \n",
       "kitchen_area                             0.48                   -0.10   \n",
       "balcony                                  0.03                    0.05   \n",
       "cityCenters_nearest                      0.01                    1.00   \n",
       "days_exposition                         -0.05                   -0.01   \n",
       "price_per_meter                          0.27                   -0.40   \n",
       "weekday                                 -0.00                    0.01   \n",
       "month_exposition                         0.01                   -0.01   \n",
       "year_exposition                          0.01                    0.01   \n",
       "living_to_total_area                    -0.71                   -0.01   \n",
       "kitchen_to_total_area                    1.00                    0.01   \n",
       "cityCenters_nearest_km                   0.01                    1.00   \n",
       "floor_group_number                       0.00                   -0.01   \n",
       "\n",
       "                        floor_group_number  \n",
       "last_price                            0.03  \n",
       "total_area                            0.00  \n",
       "rooms                                -0.02  \n",
       "ceiling_height                        0.01  \n",
       "floors_total                          0.00  \n",
       "living_area                          -0.00  \n",
       "floor                                 0.33  \n",
       "kitchen_area                          0.01  \n",
       "balcony                               0.08  \n",
       "cityCenters_nearest                  -0.01  \n",
       "days_exposition                      -0.02  \n",
       "price_per_meter                       0.03  \n",
       "weekday                               0.00  \n",
       "month_exposition                      0.01  \n",
       "year_exposition                       0.01  \n",
       "living_to_total_area                 -0.01  \n",
       "kitchen_to_total_area                 0.00  \n",
       "cityCenters_nearest_km               -0.01  \n",
       "floor_group_number                    1.00  "
      ]
     },
     "execution_count": 36,
     "metadata": {},
     "output_type": "execute_result"
    }
   ],
   "source": [
    "#выведем матрицу корреляции для всего массива\n",
    "df.corr()"
   ]
  },
  {
   "cell_type": "markdown",
   "metadata": {},
   "source": [
    "Практически для всех факторов коэффициенты показывают слабый уровень корреляции (менее abs(0,3) зависимости цены за кв.м от выбранных факторов\n",
    "исключение составляют показатель \"общая стоимость - 0,65\" и рассотяние до центра (-0,4)"
   ]
  },
  {
   "cell_type": "markdown",
   "metadata": {},
   "source": [
    "**Слабая корреляция объясняется тем, что цена за кв.м зависит сразу от множества факторов: локации, тип дома, год постройки дома, ремонт, транспортная доступность, площади и десятков других. Этим и объясняется столь широкий разброс цен внутри каждого уровня нашей группирующей переменной (мы взяли число комнат). Однако если выборку сделать более однородной, скажем, выгрузить данные по одному району города, для домов одного периода постройки с обычным ремонтом, то корреляция может быть сильнее, поскольку при отсутствии влияния иных факторов стоимость квадратного метра обратно пропорциональна количеству комнат.**"
   ]
  },
  {
   "cell_type": "code",
   "execution_count": 37,
   "metadata": {},
   "outputs": [
    {
     "data": {
      "text/plain": [
       "Санкт-Петербург      12465\n",
       "Мурино                 505\n",
       "поселок Шушары         416\n",
       "Кудрово                383\n",
       "Всеволожск             362\n",
       "Колпино                318\n",
       "Пушкин                 312\n",
       "поселок Парголово      302\n",
       "Гатчина                292\n",
       "Выборг                 210\n",
       "Name: locality_name, dtype: int64"
      ]
     },
     "metadata": {},
     "output_type": "display_data"
    }
   ],
   "source": [
    "#Выберем 10 населённых пунктов с наибольшим числом объявлений\n",
    "display(df['locality_name'].value_counts().head(10))\n",
    "#создадим из них список \n",
    "top_10_locality_name = [\"Санкт-Петербург\", \"Мурино\", \"поселок Шушары\", \"Кудрово\", \"Всеволожск\", \"Колпино\", \"Пушкин\", \"поселок Парголово\", \"Гатчина\", \"Выборг\"]"
   ]
  },
  {
   "cell_type": "code",
   "execution_count": 38,
   "metadata": {
    "scrolled": true
   },
   "outputs": [
    {
     "data": {
      "text/html": [
       "<div>\n",
       "<style scoped>\n",
       "    .dataframe tbody tr th:only-of-type {\n",
       "        vertical-align: middle;\n",
       "    }\n",
       "\n",
       "    .dataframe tbody tr th {\n",
       "        vertical-align: top;\n",
       "    }\n",
       "\n",
       "    .dataframe thead th {\n",
       "        text-align: right;\n",
       "    }\n",
       "</style>\n",
       "<table border=\"1\" class=\"dataframe\">\n",
       "  <thead>\n",
       "    <tr style=\"text-align: right;\">\n",
       "      <th></th>\n",
       "      <th>price_per_meter</th>\n",
       "    </tr>\n",
       "    <tr>\n",
       "      <th>locality_name</th>\n",
       "      <th></th>\n",
       "    </tr>\n",
       "  </thead>\n",
       "  <tbody>\n",
       "    <tr>\n",
       "      <td>Санкт-Петербург</td>\n",
       "      <td>105,091.32</td>\n",
       "    </tr>\n",
       "    <tr>\n",
       "      <td>Пушкин</td>\n",
       "      <td>99,974.89</td>\n",
       "    </tr>\n",
       "    <tr>\n",
       "      <td>Кудрово</td>\n",
       "      <td>94,982.73</td>\n",
       "    </tr>\n",
       "    <tr>\n",
       "      <td>поселок Парголово</td>\n",
       "      <td>91,040.63</td>\n",
       "    </tr>\n",
       "    <tr>\n",
       "      <td>Мурино</td>\n",
       "      <td>85,268.80</td>\n",
       "    </tr>\n",
       "    <tr>\n",
       "      <td>поселок Шушары</td>\n",
       "      <td>78,022.40</td>\n",
       "    </tr>\n",
       "    <tr>\n",
       "      <td>Колпино</td>\n",
       "      <td>75,076.09</td>\n",
       "    </tr>\n",
       "    <tr>\n",
       "      <td>Гатчина</td>\n",
       "      <td>68,551.96</td>\n",
       "    </tr>\n",
       "    <tr>\n",
       "      <td>Всеволожск</td>\n",
       "      <td>66,916.52</td>\n",
       "    </tr>\n",
       "    <tr>\n",
       "      <td>Выборг</td>\n",
       "      <td>57,957.12</td>\n",
       "    </tr>\n",
       "  </tbody>\n",
       "</table>\n",
       "</div>"
      ],
      "text/plain": [
       "                   price_per_meter\n",
       "locality_name                     \n",
       "Санкт-Петербург         105,091.32\n",
       "Пушкин                   99,974.89\n",
       "Кудрово                  94,982.73\n",
       "поселок Парголово        91,040.63\n",
       "Мурино                   85,268.80\n",
       "поселок Шушары           78,022.40\n",
       "Колпино                  75,076.09\n",
       "Гатчина                  68,551.96\n",
       "Всеволожск               66,916.52\n",
       "Выборг                   57,957.12"
      ]
     },
     "execution_count": 38,
     "metadata": {},
     "output_type": "execute_result"
    }
   ],
   "source": [
    "#теперь созададим срез, который будет содержать строки только из нашего списка топ-10\n",
    "df_locality_name = df.query('locality_name in @top_10_locality_name')\n",
    "#а затем посчитаем среднюю цену для каждого населенного пункта\n",
    "df_locality_name.pivot_table(index='locality_name', values='price_per_meter', aggfunc= 'mean').sort_values(by='price_per_meter',ascending = False)\n",
    "#самая высокая цена за кв.м в нашем списке в Санкт-Петербурге, а самая низкая - в Выборге."
   ]
  },
  {
   "cell_type": "code",
   "execution_count": 39,
   "metadata": {},
   "outputs": [
    {
     "data": {
      "text/html": [
       "<div>\n",
       "<style scoped>\n",
       "    .dataframe tbody tr th:only-of-type {\n",
       "        vertical-align: middle;\n",
       "    }\n",
       "\n",
       "    .dataframe tbody tr th {\n",
       "        vertical-align: top;\n",
       "    }\n",
       "\n",
       "    .dataframe thead tr th {\n",
       "        text-align: left;\n",
       "    }\n",
       "\n",
       "    .dataframe thead tr:last-of-type th {\n",
       "        text-align: right;\n",
       "    }\n",
       "</style>\n",
       "<table border=\"1\" class=\"dataframe\">\n",
       "  <thead>\n",
       "    <tr>\n",
       "      <th></th>\n",
       "      <th>count</th>\n",
       "      <th>mean</th>\n",
       "    </tr>\n",
       "    <tr>\n",
       "      <th></th>\n",
       "      <th>price_per_meter</th>\n",
       "      <th>price_per_meter</th>\n",
       "    </tr>\n",
       "    <tr>\n",
       "      <th>locality_name</th>\n",
       "      <th></th>\n",
       "      <th></th>\n",
       "    </tr>\n",
       "  </thead>\n",
       "  <tbody>\n",
       "    <tr>\n",
       "      <td>Санкт-Петербург</td>\n",
       "      <td>12465</td>\n",
       "      <td>105,091.32</td>\n",
       "    </tr>\n",
       "    <tr>\n",
       "      <td>Мурино</td>\n",
       "      <td>505</td>\n",
       "      <td>85,268.80</td>\n",
       "    </tr>\n",
       "    <tr>\n",
       "      <td>поселок Шушары</td>\n",
       "      <td>416</td>\n",
       "      <td>78,022.40</td>\n",
       "    </tr>\n",
       "    <tr>\n",
       "      <td>Кудрово</td>\n",
       "      <td>383</td>\n",
       "      <td>94,982.73</td>\n",
       "    </tr>\n",
       "    <tr>\n",
       "      <td>Всеволожск</td>\n",
       "      <td>362</td>\n",
       "      <td>66,916.52</td>\n",
       "    </tr>\n",
       "    <tr>\n",
       "      <td>Колпино</td>\n",
       "      <td>318</td>\n",
       "      <td>75,076.09</td>\n",
       "    </tr>\n",
       "    <tr>\n",
       "      <td>Пушкин</td>\n",
       "      <td>312</td>\n",
       "      <td>99,974.89</td>\n",
       "    </tr>\n",
       "    <tr>\n",
       "      <td>поселок Парголово</td>\n",
       "      <td>302</td>\n",
       "      <td>91,040.63</td>\n",
       "    </tr>\n",
       "    <tr>\n",
       "      <td>Гатчина</td>\n",
       "      <td>292</td>\n",
       "      <td>68,551.96</td>\n",
       "    </tr>\n",
       "    <tr>\n",
       "      <td>Выборг</td>\n",
       "      <td>210</td>\n",
       "      <td>57,957.12</td>\n",
       "    </tr>\n",
       "  </tbody>\n",
       "</table>\n",
       "</div>"
      ],
      "text/plain": [
       "                            count            mean\n",
       "                  price_per_meter price_per_meter\n",
       "locality_name                                    \n",
       "Санкт-Петербург             12465      105,091.32\n",
       "Мурино                        505       85,268.80\n",
       "поселок Шушары                416       78,022.40\n",
       "Кудрово                       383       94,982.73\n",
       "Всеволожск                    362       66,916.52\n",
       "Колпино                       318       75,076.09\n",
       "Пушкин                        312       99,974.89\n",
       "поселок Парголово             302       91,040.63\n",
       "Гатчина                       292       68,551.96\n",
       "Выборг                        210       57,957.12"
      ]
     },
     "execution_count": 39,
     "metadata": {},
     "output_type": "execute_result"
    }
   ],
   "source": [
    "#найти среднюю цену для 10 населённых пунктов с наибольшим числом объявлений можно и с помощью сводной таблицы\n",
    "df.pivot_table(index='locality_name', values='price_per_meter', aggfunc= ['count', 'mean']).sort_values(by=('count', 'price_per_meter'), ascending=False).head(10)"
   ]
  },
  {
   "cell_type": "code",
   "execution_count": 40,
   "metadata": {
    "scrolled": true
   },
   "outputs": [
    {
     "data": {
      "image/png": "[encoded data removed]",
      "text/plain": [
       "<Figure size 432x288 with 1 Axes>"
      ]
     },
     "metadata": {
      "needs_background": "light"
     },
     "output_type": "display_data"
    }
   ],
   "source": [
    "#Определим, какая область является центром Санкт-Петербурга по стоимость квадратного метра жилья.\n",
    "df_spb = df.query('locality_name == \"Санкт-Петербург\"')\n",
    "df_spb = df_spb.dropna(subset=[\"cityCenters_nearest\"])\n",
    "#посчитаем среднюю цену для каждого километра и построим график как цена зависит от удалённости от центра.\n",
    "ax = df_spb.pivot_table(index='cityCenters_nearest_km', values='price_per_meter', aggfunc= 'mean').plot(xlim=(0, 30), grid=True, style=\"o-\")\n",
    "ax.set_title(\"Средняя стоимость жилья в СПБ в зависимости удаленности от центра\")\n",
    "ax.set_xlabel(\"удаленность от центра, км\")\n",
    "ax.set_ylabel(\"средняя стоимость жилья, руб. за кв.м\")\n",
    "plt.show()\n",
    "#по графику видим, что центральная зона ограничивается примерно 10 км., далее цена начинает сильно снижаться."
   ]
  },
  {
   "cell_type": "code",
   "execution_count": 41,
   "metadata": {},
   "outputs": [
    {
     "data": {
      "text/html": [
       "<div>\n",
       "<style scoped>\n",
       "    .dataframe tbody tr th:only-of-type {\n",
       "        vertical-align: middle;\n",
       "    }\n",
       "\n",
       "    .dataframe tbody tr th {\n",
       "        vertical-align: top;\n",
       "    }\n",
       "\n",
       "    .dataframe thead th {\n",
       "        text-align: right;\n",
       "    }\n",
       "</style>\n",
       "<table border=\"1\" class=\"dataframe\">\n",
       "  <thead>\n",
       "    <tr style=\"text-align: right;\">\n",
       "      <th></th>\n",
       "      <th>last_price</th>\n",
       "      <th>total_area</th>\n",
       "      <th>rooms</th>\n",
       "      <th>ceiling_height</th>\n",
       "      <th>floors_total</th>\n",
       "      <th>living_area</th>\n",
       "      <th>floor</th>\n",
       "      <th>kitchen_area</th>\n",
       "      <th>balcony</th>\n",
       "      <th>cityCenters_nearest</th>\n",
       "      <th>days_exposition</th>\n",
       "      <th>price_per_meter</th>\n",
       "      <th>weekday</th>\n",
       "      <th>month_exposition</th>\n",
       "      <th>year_exposition</th>\n",
       "      <th>living_to_total_area</th>\n",
       "      <th>kitchen_to_total_area</th>\n",
       "      <th>cityCenters_nearest_km</th>\n",
       "      <th>floor_group_number</th>\n",
       "    </tr>\n",
       "  </thead>\n",
       "  <tbody>\n",
       "    <tr>\n",
       "      <td>last_price</td>\n",
       "      <td>1.00</td>\n",
       "      <td>0.76</td>\n",
       "      <td>0.49</td>\n",
       "      <td>0.33</td>\n",
       "      <td>0.05</td>\n",
       "      <td>0.62</td>\n",
       "      <td>0.08</td>\n",
       "      <td>0.49</td>\n",
       "      <td>0.04</td>\n",
       "      <td>-0.36</td>\n",
       "      <td>0.13</td>\n",
       "      <td>0.40</td>\n",
       "      <td>0.02</td>\n",
       "      <td>0.01</td>\n",
       "      <td>0.01</td>\n",
       "      <td>0.04</td>\n",
       "      <td>-0.31</td>\n",
       "      <td>-0.36</td>\n",
       "      <td>0.07</td>\n",
       "    </tr>\n",
       "    <tr>\n",
       "      <td>total_area</td>\n",
       "      <td>0.76</td>\n",
       "      <td>1.00</td>\n",
       "      <td>0.81</td>\n",
       "      <td>0.35</td>\n",
       "      <td>-0.11</td>\n",
       "      <td>0.91</td>\n",
       "      <td>-0.06</td>\n",
       "      <td>0.41</td>\n",
       "      <td>-0.06</td>\n",
       "      <td>-0.32</td>\n",
       "      <td>0.12</td>\n",
       "      <td>-0.27</td>\n",
       "      <td>-0.01</td>\n",
       "      <td>0.02</td>\n",
       "      <td>-0.07</td>\n",
       "      <td>0.28</td>\n",
       "      <td>-0.59</td>\n",
       "      <td>-0.32</td>\n",
       "      <td>0.05</td>\n",
       "    </tr>\n",
       "    <tr>\n",
       "      <td>rooms</td>\n",
       "      <td>0.49</td>\n",
       "      <td>0.81</td>\n",
       "      <td>1.00</td>\n",
       "      <td>0.26</td>\n",
       "      <td>-0.29</td>\n",
       "      <td>0.89</td>\n",
       "      <td>-0.18</td>\n",
       "      <td>0.07</td>\n",
       "      <td>-0.14</td>\n",
       "      <td>-0.25</td>\n",
       "      <td>0.08</td>\n",
       "      <td>-0.40</td>\n",
       "      <td>-0.02</td>\n",
       "      <td>0.02</td>\n",
       "      <td>-0.05</td>\n",
       "      <td>0.59</td>\n",
       "      <td>-0.71</td>\n",
       "      <td>-0.24</td>\n",
       "      <td>0.05</td>\n",
       "    </tr>\n",
       "    <tr>\n",
       "      <td>ceiling_height</td>\n",
       "      <td>0.33</td>\n",
       "      <td>0.35</td>\n",
       "      <td>0.26</td>\n",
       "      <td>1.00</td>\n",
       "      <td>-0.22</td>\n",
       "      <td>0.33</td>\n",
       "      <td>-0.16</td>\n",
       "      <td>0.24</td>\n",
       "      <td>-0.12</td>\n",
       "      <td>-0.36</td>\n",
       "      <td>0.09</td>\n",
       "      <td>0.04</td>\n",
       "      <td>-0.02</td>\n",
       "      <td>0.01</td>\n",
       "      <td>0.02</td>\n",
       "      <td>0.09</td>\n",
       "      <td>-0.12</td>\n",
       "      <td>-0.35</td>\n",
       "      <td>0.00</td>\n",
       "    </tr>\n",
       "    <tr>\n",
       "      <td>floors_total</td>\n",
       "      <td>0.05</td>\n",
       "      <td>-0.11</td>\n",
       "      <td>-0.29</td>\n",
       "      <td>-0.22</td>\n",
       "      <td>1.00</td>\n",
       "      <td>-0.25</td>\n",
       "      <td>0.67</td>\n",
       "      <td>0.31</td>\n",
       "      <td>0.34</td>\n",
       "      <td>0.37</td>\n",
       "      <td>-0.03</td>\n",
       "      <td>0.24</td>\n",
       "      <td>0.00</td>\n",
       "      <td>-0.02</td>\n",
       "      <td>0.01</td>\n",
       "      <td>-0.42</td>\n",
       "      <td>0.39</td>\n",
       "      <td>0.36</td>\n",
       "      <td>-0.03</td>\n",
       "    </tr>\n",
       "    <tr>\n",
       "      <td>living_area</td>\n",
       "      <td>0.62</td>\n",
       "      <td>0.91</td>\n",
       "      <td>0.89</td>\n",
       "      <td>0.33</td>\n",
       "      <td>-0.25</td>\n",
       "      <td>1.00</td>\n",
       "      <td>-0.16</td>\n",
       "      <td>0.17</td>\n",
       "      <td>-0.12</td>\n",
       "      <td>-0.28</td>\n",
       "      <td>0.10</td>\n",
       "      <td>-0.35</td>\n",
       "      <td>-0.02</td>\n",
       "      <td>0.02</td>\n",
       "      <td>-0.06</td>\n",
       "      <td>0.63</td>\n",
       "      <td>-0.71</td>\n",
       "      <td>-0.28</td>\n",
       "      <td>0.06</td>\n",
       "    </tr>\n",
       "    <tr>\n",
       "      <td>floor</td>\n",
       "      <td>0.08</td>\n",
       "      <td>-0.06</td>\n",
       "      <td>-0.18</td>\n",
       "      <td>-0.16</td>\n",
       "      <td>0.67</td>\n",
       "      <td>-0.16</td>\n",
       "      <td>1.00</td>\n",
       "      <td>0.21</td>\n",
       "      <td>0.28</td>\n",
       "      <td>0.26</td>\n",
       "      <td>-0.04</td>\n",
       "      <td>0.20</td>\n",
       "      <td>0.02</td>\n",
       "      <td>-0.01</td>\n",
       "      <td>0.03</td>\n",
       "      <td>-0.27</td>\n",
       "      <td>0.25</td>\n",
       "      <td>0.25</td>\n",
       "      <td>0.33</td>\n",
       "    </tr>\n",
       "    <tr>\n",
       "      <td>kitchen_area</td>\n",
       "      <td>0.49</td>\n",
       "      <td>0.41</td>\n",
       "      <td>0.07</td>\n",
       "      <td>0.24</td>\n",
       "      <td>0.31</td>\n",
       "      <td>0.17</td>\n",
       "      <td>0.21</td>\n",
       "      <td>1.00</td>\n",
       "      <td>0.10</td>\n",
       "      <td>-0.20</td>\n",
       "      <td>0.13</td>\n",
       "      <td>0.17</td>\n",
       "      <td>0.01</td>\n",
       "      <td>0.02</td>\n",
       "      <td>-0.08</td>\n",
       "      <td>-0.41</td>\n",
       "      <td>0.45</td>\n",
       "      <td>-0.21</td>\n",
       "      <td>0.00</td>\n",
       "    </tr>\n",
       "    <tr>\n",
       "      <td>balcony</td>\n",
       "      <td>0.04</td>\n",
       "      <td>-0.06</td>\n",
       "      <td>-0.14</td>\n",
       "      <td>-0.12</td>\n",
       "      <td>0.34</td>\n",
       "      <td>-0.12</td>\n",
       "      <td>0.28</td>\n",
       "      <td>0.10</td>\n",
       "      <td>1.00</td>\n",
       "      <td>0.19</td>\n",
       "      <td>-0.04</td>\n",
       "      <td>0.13</td>\n",
       "      <td>0.01</td>\n",
       "      <td>0.00</td>\n",
       "      <td>-0.02</td>\n",
       "      <td>-0.17</td>\n",
       "      <td>0.14</td>\n",
       "      <td>0.18</td>\n",
       "      <td>0.06</td>\n",
       "    </tr>\n",
       "    <tr>\n",
       "      <td>cityCenters_nearest</td>\n",
       "      <td>-0.36</td>\n",
       "      <td>-0.32</td>\n",
       "      <td>-0.25</td>\n",
       "      <td>-0.36</td>\n",
       "      <td>0.37</td>\n",
       "      <td>-0.28</td>\n",
       "      <td>0.26</td>\n",
       "      <td>-0.20</td>\n",
       "      <td>0.19</td>\n",
       "      <td>1.00</td>\n",
       "      <td>-0.09</td>\n",
       "      <td>-0.14</td>\n",
       "      <td>0.00</td>\n",
       "      <td>-0.05</td>\n",
       "      <td>0.08</td>\n",
       "      <td>-0.06</td>\n",
       "      <td>0.12</td>\n",
       "      <td>0.99</td>\n",
       "      <td>-0.00</td>\n",
       "    </tr>\n",
       "    <tr>\n",
       "      <td>days_exposition</td>\n",
       "      <td>0.13</td>\n",
       "      <td>0.12</td>\n",
       "      <td>0.08</td>\n",
       "      <td>0.09</td>\n",
       "      <td>-0.03</td>\n",
       "      <td>0.10</td>\n",
       "      <td>-0.04</td>\n",
       "      <td>0.13</td>\n",
       "      <td>-0.04</td>\n",
       "      <td>-0.09</td>\n",
       "      <td>1.00</td>\n",
       "      <td>0.02</td>\n",
       "      <td>-0.03</td>\n",
       "      <td>-0.02</td>\n",
       "      <td>-0.62</td>\n",
       "      <td>-0.01</td>\n",
       "      <td>-0.01</td>\n",
       "      <td>-0.10</td>\n",
       "      <td>-0.03</td>\n",
       "    </tr>\n",
       "    <tr>\n",
       "      <td>price_per_meter</td>\n",
       "      <td>0.40</td>\n",
       "      <td>-0.27</td>\n",
       "      <td>-0.40</td>\n",
       "      <td>0.04</td>\n",
       "      <td>0.24</td>\n",
       "      <td>-0.35</td>\n",
       "      <td>0.20</td>\n",
       "      <td>0.17</td>\n",
       "      <td>0.13</td>\n",
       "      <td>-0.14</td>\n",
       "      <td>0.02</td>\n",
       "      <td>1.00</td>\n",
       "      <td>0.04</td>\n",
       "      <td>-0.03</td>\n",
       "      <td>0.11</td>\n",
       "      <td>-0.37</td>\n",
       "      <td>0.41</td>\n",
       "      <td>-0.14</td>\n",
       "      <td>0.03</td>\n",
       "    </tr>\n",
       "    <tr>\n",
       "      <td>weekday</td>\n",
       "      <td>0.02</td>\n",
       "      <td>-0.01</td>\n",
       "      <td>-0.02</td>\n",
       "      <td>-0.02</td>\n",
       "      <td>0.00</td>\n",
       "      <td>-0.02</td>\n",
       "      <td>0.02</td>\n",
       "      <td>0.01</td>\n",
       "      <td>0.01</td>\n",
       "      <td>0.00</td>\n",
       "      <td>-0.03</td>\n",
       "      <td>0.04</td>\n",
       "      <td>1.00</td>\n",
       "      <td>0.02</td>\n",
       "      <td>0.02</td>\n",
       "      <td>-0.02</td>\n",
       "      <td>0.01</td>\n",
       "      <td>0.00</td>\n",
       "      <td>0.02</td>\n",
       "    </tr>\n",
       "    <tr>\n",
       "      <td>month_exposition</td>\n",
       "      <td>0.01</td>\n",
       "      <td>0.02</td>\n",
       "      <td>0.02</td>\n",
       "      <td>0.01</td>\n",
       "      <td>-0.02</td>\n",
       "      <td>0.02</td>\n",
       "      <td>-0.01</td>\n",
       "      <td>0.02</td>\n",
       "      <td>0.00</td>\n",
       "      <td>-0.05</td>\n",
       "      <td>-0.02</td>\n",
       "      <td>-0.03</td>\n",
       "      <td>0.02</td>\n",
       "      <td>1.00</td>\n",
       "      <td>-0.27</td>\n",
       "      <td>0.01</td>\n",
       "      <td>-0.01</td>\n",
       "      <td>-0.05</td>\n",
       "      <td>0.00</td>\n",
       "    </tr>\n",
       "    <tr>\n",
       "      <td>year_exposition</td>\n",
       "      <td>0.01</td>\n",
       "      <td>-0.07</td>\n",
       "      <td>-0.05</td>\n",
       "      <td>0.02</td>\n",
       "      <td>0.01</td>\n",
       "      <td>-0.06</td>\n",
       "      <td>0.03</td>\n",
       "      <td>-0.08</td>\n",
       "      <td>-0.02</td>\n",
       "      <td>0.08</td>\n",
       "      <td>-0.62</td>\n",
       "      <td>0.11</td>\n",
       "      <td>0.02</td>\n",
       "      <td>-0.27</td>\n",
       "      <td>1.00</td>\n",
       "      <td>-0.00</td>\n",
       "      <td>-0.01</td>\n",
       "      <td>0.08</td>\n",
       "      <td>0.02</td>\n",
       "    </tr>\n",
       "    <tr>\n",
       "      <td>living_to_total_area</td>\n",
       "      <td>0.04</td>\n",
       "      <td>0.28</td>\n",
       "      <td>0.59</td>\n",
       "      <td>0.09</td>\n",
       "      <td>-0.42</td>\n",
       "      <td>0.63</td>\n",
       "      <td>-0.27</td>\n",
       "      <td>-0.41</td>\n",
       "      <td>-0.17</td>\n",
       "      <td>-0.06</td>\n",
       "      <td>-0.01</td>\n",
       "      <td>-0.37</td>\n",
       "      <td>-0.02</td>\n",
       "      <td>0.01</td>\n",
       "      <td>-0.00</td>\n",
       "      <td>1.00</td>\n",
       "      <td>-0.65</td>\n",
       "      <td>-0.05</td>\n",
       "      <td>0.06</td>\n",
       "    </tr>\n",
       "    <tr>\n",
       "      <td>kitchen_to_total_area</td>\n",
       "      <td>-0.31</td>\n",
       "      <td>-0.59</td>\n",
       "      <td>-0.71</td>\n",
       "      <td>-0.12</td>\n",
       "      <td>0.39</td>\n",
       "      <td>-0.71</td>\n",
       "      <td>0.25</td>\n",
       "      <td>0.45</td>\n",
       "      <td>0.14</td>\n",
       "      <td>0.12</td>\n",
       "      <td>-0.01</td>\n",
       "      <td>0.41</td>\n",
       "      <td>0.01</td>\n",
       "      <td>-0.01</td>\n",
       "      <td>-0.01</td>\n",
       "      <td>-0.65</td>\n",
       "      <td>1.00</td>\n",
       "      <td>0.12</td>\n",
       "      <td>-0.05</td>\n",
       "    </tr>\n",
       "    <tr>\n",
       "      <td>cityCenters_nearest_km</td>\n",
       "      <td>-0.36</td>\n",
       "      <td>-0.32</td>\n",
       "      <td>-0.24</td>\n",
       "      <td>-0.35</td>\n",
       "      <td>0.36</td>\n",
       "      <td>-0.28</td>\n",
       "      <td>0.25</td>\n",
       "      <td>-0.21</td>\n",
       "      <td>0.18</td>\n",
       "      <td>0.99</td>\n",
       "      <td>-0.10</td>\n",
       "      <td>-0.14</td>\n",
       "      <td>0.00</td>\n",
       "      <td>-0.05</td>\n",
       "      <td>0.08</td>\n",
       "      <td>-0.05</td>\n",
       "      <td>0.12</td>\n",
       "      <td>1.00</td>\n",
       "      <td>-0.01</td>\n",
       "    </tr>\n",
       "    <tr>\n",
       "      <td>floor_group_number</td>\n",
       "      <td>0.07</td>\n",
       "      <td>0.05</td>\n",
       "      <td>0.05</td>\n",
       "      <td>0.00</td>\n",
       "      <td>-0.03</td>\n",
       "      <td>0.06</td>\n",
       "      <td>0.33</td>\n",
       "      <td>0.00</td>\n",
       "      <td>0.06</td>\n",
       "      <td>-0.00</td>\n",
       "      <td>-0.03</td>\n",
       "      <td>0.03</td>\n",
       "      <td>0.02</td>\n",
       "      <td>0.00</td>\n",
       "      <td>0.02</td>\n",
       "      <td>0.06</td>\n",
       "      <td>-0.05</td>\n",
       "      <td>-0.01</td>\n",
       "      <td>1.00</td>\n",
       "    </tr>\n",
       "  </tbody>\n",
       "</table>\n",
       "</div>"
      ],
      "text/plain": [
       "                        last_price  total_area  rooms  ceiling_height  \\\n",
       "last_price                    1.00        0.76   0.49            0.33   \n",
       "total_area                    0.76        1.00   0.81            0.35   \n",
       "rooms                         0.49        0.81   1.00            0.26   \n",
       "ceiling_height                0.33        0.35   0.26            1.00   \n",
       "floors_total                  0.05       -0.11  -0.29           -0.22   \n",
       "living_area                   0.62        0.91   0.89            0.33   \n",
       "floor                         0.08       -0.06  -0.18           -0.16   \n",
       "kitchen_area                  0.49        0.41   0.07            0.24   \n",
       "balcony                       0.04       -0.06  -0.14           -0.12   \n",
       "cityCenters_nearest          -0.36       -0.32  -0.25           -0.36   \n",
       "days_exposition               0.13        0.12   0.08            0.09   \n",
       "price_per_meter               0.40       -0.27  -0.40            0.04   \n",
       "weekday                       0.02       -0.01  -0.02           -0.02   \n",
       "month_exposition              0.01        0.02   0.02            0.01   \n",
       "year_exposition               0.01       -0.07  -0.05            0.02   \n",
       "living_to_total_area          0.04        0.28   0.59            0.09   \n",
       "kitchen_to_total_area        -0.31       -0.59  -0.71           -0.12   \n",
       "cityCenters_nearest_km       -0.36       -0.32  -0.24           -0.35   \n",
       "floor_group_number            0.07        0.05   0.05            0.00   \n",
       "\n",
       "                        floors_total  living_area  floor  kitchen_area  \\\n",
       "last_price                      0.05         0.62   0.08          0.49   \n",
       "total_area                     -0.11         0.91  -0.06          0.41   \n",
       "rooms                          -0.29         0.89  -0.18          0.07   \n",
       "ceiling_height                 -0.22         0.33  -0.16          0.24   \n",
       "floors_total                    1.00        -0.25   0.67          0.31   \n",
       "living_area                    -0.25         1.00  -0.16          0.17   \n",
       "floor                           0.67        -0.16   1.00          0.21   \n",
       "kitchen_area                    0.31         0.17   0.21          1.00   \n",
       "balcony                         0.34        -0.12   0.28          0.10   \n",
       "cityCenters_nearest             0.37        -0.28   0.26         -0.20   \n",
       "days_exposition                -0.03         0.10  -0.04          0.13   \n",
       "price_per_meter                 0.24        -0.35   0.20          0.17   \n",
       "weekday                         0.00        -0.02   0.02          0.01   \n",
       "month_exposition               -0.02         0.02  -0.01          0.02   \n",
       "year_exposition                 0.01        -0.06   0.03         -0.08   \n",
       "living_to_total_area           -0.42         0.63  -0.27         -0.41   \n",
       "kitchen_to_total_area           0.39        -0.71   0.25          0.45   \n",
       "cityCenters_nearest_km          0.36        -0.28   0.25         -0.21   \n",
       "floor_group_number             -0.03         0.06   0.33          0.00   \n",
       "\n",
       "                        balcony  cityCenters_nearest  days_exposition  \\\n",
       "last_price                 0.04                -0.36             0.13   \n",
       "total_area                -0.06                -0.32             0.12   \n",
       "rooms                     -0.14                -0.25             0.08   \n",
       "ceiling_height            -0.12                -0.36             0.09   \n",
       "floors_total               0.34                 0.37            -0.03   \n",
       "living_area               -0.12                -0.28             0.10   \n",
       "floor                      0.28                 0.26            -0.04   \n",
       "kitchen_area               0.10                -0.20             0.13   \n",
       "balcony                    1.00                 0.19            -0.04   \n",
       "cityCenters_nearest        0.19                 1.00            -0.09   \n",
       "days_exposition           -0.04                -0.09             1.00   \n",
       "price_per_meter            0.13                -0.14             0.02   \n",
       "weekday                    0.01                 0.00            -0.03   \n",
       "month_exposition           0.00                -0.05            -0.02   \n",
       "year_exposition           -0.02                 0.08            -0.62   \n",
       "living_to_total_area      -0.17                -0.06            -0.01   \n",
       "kitchen_to_total_area      0.14                 0.12            -0.01   \n",
       "cityCenters_nearest_km     0.18                 0.99            -0.10   \n",
       "floor_group_number         0.06                -0.00            -0.03   \n",
       "\n",
       "                        price_per_meter  weekday  month_exposition  \\\n",
       "last_price                         0.40     0.02              0.01   \n",
       "total_area                        -0.27    -0.01              0.02   \n",
       "rooms                             -0.40    -0.02              0.02   \n",
       "ceiling_height                     0.04    -0.02              0.01   \n",
       "floors_total                       0.24     0.00             -0.02   \n",
       "living_area                       -0.35    -0.02              0.02   \n",
       "floor                              0.20     0.02             -0.01   \n",
       "kitchen_area                       0.17     0.01              0.02   \n",
       "balcony                            0.13     0.01              0.00   \n",
       "cityCenters_nearest               -0.14     0.00             -0.05   \n",
       "days_exposition                    0.02    -0.03             -0.02   \n",
       "price_per_meter                    1.00     0.04             -0.03   \n",
       "weekday                            0.04     1.00              0.02   \n",
       "month_exposition                  -0.03     0.02              1.00   \n",
       "year_exposition                    0.11     0.02             -0.27   \n",
       "living_to_total_area              -0.37    -0.02              0.01   \n",
       "kitchen_to_total_area              0.41     0.01             -0.01   \n",
       "cityCenters_nearest_km            -0.14     0.00             -0.05   \n",
       "floor_group_number                 0.03     0.02              0.00   \n",
       "\n",
       "                        year_exposition  living_to_total_area  \\\n",
       "last_price                         0.01                  0.04   \n",
       "total_area                        -0.07                  0.28   \n",
       "rooms                             -0.05                  0.59   \n",
       "ceiling_height                     0.02                  0.09   \n",
       "floors_total                       0.01                 -0.42   \n",
       "living_area                       -0.06                  0.63   \n",
       "floor                              0.03                 -0.27   \n",
       "kitchen_area                      -0.08                 -0.41   \n",
       "balcony                           -0.02                 -0.17   \n",
       "cityCenters_nearest                0.08                 -0.06   \n",
       "days_exposition                   -0.62                 -0.01   \n",
       "price_per_meter                    0.11                 -0.37   \n",
       "weekday                            0.02                 -0.02   \n",
       "month_exposition                  -0.27                  0.01   \n",
       "year_exposition                    1.00                 -0.00   \n",
       "living_to_total_area              -0.00                  1.00   \n",
       "kitchen_to_total_area             -0.01                 -0.65   \n",
       "cityCenters_nearest_km             0.08                 -0.05   \n",
       "floor_group_number                 0.02                  0.06   \n",
       "\n",
       "                        kitchen_to_total_area  cityCenters_nearest_km  \\\n",
       "last_price                              -0.31                   -0.36   \n",
       "total_area                              -0.59                   -0.32   \n",
       "rooms                                   -0.71                   -0.24   \n",
       "ceiling_height                          -0.12                   -0.35   \n",
       "floors_total                             0.39                    0.36   \n",
       "living_area                             -0.71                   -0.28   \n",
       "floor                                    0.25                    0.25   \n",
       "kitchen_area                             0.45                   -0.21   \n",
       "balcony                                  0.14                    0.18   \n",
       "cityCenters_nearest                      0.12                    0.99   \n",
       "days_exposition                         -0.01                   -0.10   \n",
       "price_per_meter                          0.41                   -0.14   \n",
       "weekday                                  0.01                    0.00   \n",
       "month_exposition                        -0.01                   -0.05   \n",
       "year_exposition                         -0.01                    0.08   \n",
       "living_to_total_area                    -0.65                   -0.05   \n",
       "kitchen_to_total_area                    1.00                    0.12   \n",
       "cityCenters_nearest_km                   0.12                    1.00   \n",
       "floor_group_number                      -0.05                   -0.01   \n",
       "\n",
       "                        floor_group_number  \n",
       "last_price                            0.07  \n",
       "total_area                            0.05  \n",
       "rooms                                 0.05  \n",
       "ceiling_height                        0.00  \n",
       "floors_total                         -0.03  \n",
       "living_area                           0.06  \n",
       "floor                                 0.33  \n",
       "kitchen_area                          0.00  \n",
       "balcony                               0.06  \n",
       "cityCenters_nearest                  -0.00  \n",
       "days_exposition                      -0.03  \n",
       "price_per_meter                       0.03  \n",
       "weekday                               0.02  \n",
       "month_exposition                      0.00  \n",
       "year_exposition                       0.02  \n",
       "living_to_total_area                  0.06  \n",
       "kitchen_to_total_area                -0.05  \n",
       "cityCenters_nearest_km               -0.01  \n",
       "floor_group_number                    1.00  "
      ]
     },
     "execution_count": 41,
     "metadata": {},
     "output_type": "execute_result"
    }
   ],
   "source": [
    "#теперь проанализируем сегмент квартир в центре города (cityCenters_nearest_km <= 10 км)\n",
    "df_spb_cityCenter = df.query('locality_name == \"Санкт-Петербург\" and cityCenters_nearest_km <=10')\n",
    "#сравним влияние факторов на стоимость жилья как для города в целом, так и только для центра\n",
    "df_spb_cityCenter.corr()"
   ]
  },
  {
   "cell_type": "code",
   "execution_count": null,
   "metadata": {},
   "outputs": [],
   "source": []
  },
  {
   "cell_type": "markdown",
   "metadata": {},
   "source": [
    "Как мы видим, по сравнению с данными по городу в целом коэффициенты корреляции для выборки по квартирам в центре города стали более чувствительны к таким факторам как количество комнат (-0.4 vs - 0.23). \n",
    "Зависимость цены от того, на каком этаже расположена квартира: первом, последнем или другом, по-прежнему стремится к нулю. Вляиние удаленности от центра наоборот снизилась (-0.14 vs -0.4), что объясняется однородностью выборки с точки зрения локации.\n",
    "Дата размещения объявления (день недели, месяц и год) по-прежнему никак не влияют на стоимость. Стоит отметить чуть большее влияние года (0,12) по сравнению с днем недели и месяцем (около 0).\n",
    "В данном случае мы можем говорить, что в рассмотренный период (2014-2019) не было сильного роста цен на недвижимость, как это произошло в 2020-2021 гг.\n",
    "\n",
    "Выпишем факторы, имеющие положительную и отрицательную корреляцию для цены за кв.м (для значений выше abs(0.1)\n",
    "Факторы с положительной корреляцией (чем больше показатель, тем выше цена за кв.м):\n",
    " - общая цена продажи\n",
    " - количество этажей в доме\n",
    " - этаж (без привязки к типу \"первый\", \"последний\" и \"другой\")\n",
    " - площадь кухни\n",
    " - наличие балкона\n",
    " - год публикации объявления (обычно недвижимость растет на уровень инфляции)\n",
    "\n",
    "Факторы с отрицательной корреляцией (чем меньше показатель, тем выше цена за кв.м):\n",
    " - общая площадь квартиры\n",
    " - количество комнат\n",
    " - жилая площадь\n",
    " - расстояние до центра\n"
   ]
  },
  {
   "cell_type": "markdown",
   "metadata": {},
   "source": [
    "## Общий вывод\n",
    "\n",
    "<!-- # столь низкий коэффициент корреляции объясняется тем, что цена за кв.м зависит от множества факторов: \n",
    "# локации, тип дома, год постройки дома, ремонт, траснпортная доступность, площади и десятков других факторов - этим и объяснятеся столь широкий разброс цен\n",
    "# поэтому если смотреть только зависимость между ценой и количеством комнат, степень корреляции столь низкая\n",
    "# однако если выборку сделать более однородной, скажем, выгрузить данные по одному району города, для домов одного периода постройки с обычным ремонтом,\n",
    "# то уровень корреляции окажется выше, поскольку квартиры меньшей площадью при отсутсвии иных факторов, стоят дороже квартир большей площади. -->"
   ]
  },
  {
   "cell_type": "markdown",
   "metadata": {},
   "source": [
    "На основании проведенного анализа можно сделать следующие выводы:\n",
    "    1) Как известно, стоимость недвижимости определяется тремя факторами «location, location, location». \n",
    "    Это в очередной раз продемонстировали резульаты нашего анализа - значения коэффициентов корреляции сильно зависят от однородности выборки.  Цена за кв.м зависит сразу от множества факторов: локации, тип дома, год постройки дома, ремонт, транспортная доступность, площади и десятков других. Этим и объясняется столь широкий разброс цен внутри каждого уровня нашей группирующей переменной (мы взяли число комнат). Но после того как мы сделали выборку более однородной (оставили квартиры в центре города), коэффициенты корреляции обозначились острее.\n",
    "\n",
    "    2) Мы выделили следующие факторы, которые в совокупности в той или иной мере влияют на стоимость квадратного метра:\n",
    "        \n",
    "Факторы с положительной корреляцией:\n",
    " - общая цена продажи;\n",
    " - количество этажей в доме;\n",
    " - этаж (без привязки к типу \"первый\", \"последний\" и \"другой\");\n",
    " - площадь кухни;\n",
    " - наличие балкона;\n",
    " - год публикации объявления.\n",
    "\n",
    "Факторы с отрицательной корреляцией:\n",
    " - общая площадь квартиры;\n",
    " - количество комнат;\n",
    " - жилая площадь;\n",
    " - расстояние до центра.\n",
    " \n",
    " 3) Дата размещения объявления (день недели и месяц) никак не влияют на стоимость. Стоит отметить чуть большее влияние года (0,12) по сравнению с днем недели и месяцем (около 0). В данном случае мы можем говорить, что в рассмотренный период (2014-2019) не было сильного роста цен на недвижимость, как это произошло в 2020-2021 гг."
   ]
  },
  {
   "cell_type": "markdown",
   "metadata": {},
   "source": [
    "- [x]  открыт файл\n",
    "- [ ]  файлы изучены (выведены первые строки, метод info())\n",
    "- [ ]  определены пропущенные значения\n",
    "- [ ]  заполнены пропущенные значения\n",
    "- [ ]  есть пояснение, какие пропущенные значения обнаружены\n",
    "- [ ]  изменены типы данных\n",
    "- [ ]  есть пояснение, в каких столбцах изменены типы и почему\n",
    "- [ ]  посчитано и добавлено в таблицу: цена квадратного метра\n",
    "- [ ]  посчитано и добавлено в таблицу: день недели, месяц и год публикации объявления\n",
    "- [ ]  посчитано и добавлено в таблицу: этаж квартиры; варианты — первый, последний, другой\n",
    "- [ ]  посчитано и добавлено в таблицу: соотношение жилой и общей площади, а также отношение площади кухни к общей\n",
    "- [ ]  изучены следующие параметры: площадь, цена, число комнат, высота потолков\n",
    "- [ ]  построены гистограммы для каждого параметра\n",
    "- [ ]  выполнено задание: \"Изучите время продажи квартиры. Постройте гистограмму. Посчитайте среднее и медиану. Опишите, сколько обычно занимает продажа. Когда можно считать, что продажи прошли очень быстро, а когда необычно долго?\"\n",
    "- [ ]  выполнено задание: \"Уберите редкие и выбивающиеся значения. Опишите, какие особенности обнаружили.\"\n",
    "- [ ]  выполнено задание: \"Какие факторы больше всего влияют на стоимость квартиры? Изучите, зависит ли цена от квадратного метра, числа комнат, этажа (первого или последнего), удалённости от центра. Также изучите зависимость от даты размещения: дня недели, месяца и года. \"Выберите 10 населённых пунктов с наибольшим числом объявлений. Посчитайте среднюю цену квадратного метра в этих населённых пунктах. Выделите населённые пункты с самой высокой и низкой стоимостью жилья. Эти данные можно найти по имени в столбце '*locality_name'*. \"\n",
    "- [ ]  выполнено задание: \"Изучите предложения квартир: для каждой квартиры есть информация о расстоянии до центра. Выделите квартиры в Санкт-Петербурге (*'locality_name'*). Ваша задача — выяснить, какая область входит в центр. Создайте столбец с расстоянием до центра в километрах: округлите до целых значений. После этого посчитайте среднюю цену для каждого километра. Постройте график: он должен показывать, как цена зависит от удалённости от центра. Определите границу, где график сильно меняется — это и будет центральная зона. \"\n",
    "- [ ]  выполнено задание: \"Выделите сегмент квартир в центре. Проанализируйте эту территорию и изучите следующие параметры: площадь, цена, число комнат, высота потолков. Также выделите факторы, которые влияют на стоимость квартиры (число комнат, этаж, удалённость от центра, дата размещения объявления). Сделайте выводы. Отличаются ли они от общих выводов по всему городу?\"\n",
    "- [ ]  в каждом этапе есть выводы\n",
    "- [ ]  есть общий вывод"
   ]
  },
  {
   "cell_type": "markdown",
   "metadata": {},
   "source": [
    "[В начало](#section_id)"
   ]
  }
 ],
 "metadata": {
  "ExecuteTimeLog": [
   {
    "duration": 633,
    "start_time": "2022-02-03T11:12:51.188Z"
   },
   {
    "duration": 61,
    "start_time": "2022-02-03T11:20:12.492Z"
   },
   {
    "duration": 60,
    "start_time": "2022-02-03T11:20:17.257Z"
   },
   {
    "duration": 77,
    "start_time": "2022-02-03T11:21:35.347Z"
   },
   {
    "duration": 63,
    "start_time": "2022-02-03T11:21:45.843Z"
   },
   {
    "duration": 62,
    "start_time": "2022-02-03T11:23:34.457Z"
   },
   {
    "duration": 56,
    "start_time": "2022-02-03T11:23:43.366Z"
   },
   {
    "duration": 84,
    "start_time": "2022-02-03T11:23:56.364Z"
   },
   {
    "duration": 73,
    "start_time": "2022-02-03T11:26:35.438Z"
   },
   {
    "duration": 60,
    "start_time": "2022-02-03T11:26:47.796Z"
   },
   {
    "duration": 58,
    "start_time": "2022-02-03T11:33:26.487Z"
   },
   {
    "duration": 86,
    "start_time": "2022-02-03T11:36:18.018Z"
   },
   {
    "duration": 3231,
    "start_time": "2022-02-03T11:36:24.466Z"
   },
   {
    "duration": 58,
    "start_time": "2022-02-03T11:36:35.890Z"
   },
   {
    "duration": 765,
    "start_time": "2022-02-03T11:36:54.805Z"
   },
   {
    "duration": 5510,
    "start_time": "2022-02-03T11:36:59.787Z"
   },
   {
    "duration": 85,
    "start_time": "2022-02-03T11:37:29.610Z"
   },
   {
    "duration": 11,
    "start_time": "2022-02-03T11:55:32.070Z"
   },
   {
    "duration": 72,
    "start_time": "2022-02-03T12:09:09.163Z"
   },
   {
    "duration": 79,
    "start_time": "2022-02-03T12:10:11.558Z"
   },
   {
    "duration": 9,
    "start_time": "2022-02-03T12:16:09.497Z"
   },
   {
    "duration": 7,
    "start_time": "2022-02-03T12:18:21.520Z"
   },
   {
    "duration": 74,
    "start_time": "2022-02-03T16:11:09.976Z"
   },
   {
    "duration": 67,
    "start_time": "2022-02-03T18:09:25.870Z"
   },
   {
    "duration": 64,
    "start_time": "2022-02-03T18:10:14.181Z"
   },
   {
    "duration": 6,
    "start_time": "2022-02-03T18:10:22.511Z"
   },
   {
    "duration": 9,
    "start_time": "2022-02-03T18:10:57.200Z"
   },
   {
    "duration": 186,
    "start_time": "2022-02-03T18:16:14.513Z"
   },
   {
    "duration": 63,
    "start_time": "2022-02-03T18:18:12.732Z"
   },
   {
    "duration": 9,
    "start_time": "2022-02-03T18:18:18.785Z"
   },
   {
    "duration": 10,
    "start_time": "2022-02-03T18:18:42.183Z"
   },
   {
    "duration": 100,
    "start_time": "2022-02-03T18:19:09.346Z"
   },
   {
    "duration": 189,
    "start_time": "2022-02-03T18:19:12.451Z"
   },
   {
    "duration": 9,
    "start_time": "2022-02-03T18:20:00.228Z"
   },
   {
    "duration": 10,
    "start_time": "2022-02-03T18:20:55.023Z"
   },
   {
    "duration": 387,
    "start_time": "2022-02-04T14:31:25.524Z"
   },
   {
    "duration": 813,
    "start_time": "2022-02-04T14:31:39.879Z"
   },
   {
    "duration": 18,
    "start_time": "2022-02-04T14:31:40.694Z"
   },
   {
    "duration": 136,
    "start_time": "2022-02-04T14:31:40.715Z"
   },
   {
    "duration": 11,
    "start_time": "2022-02-04T14:31:40.853Z"
   },
   {
    "duration": 43,
    "start_time": "2022-02-04T14:31:40.867Z"
   },
   {
    "duration": 25,
    "start_time": "2022-02-04T14:47:35.073Z"
   },
   {
    "duration": 31,
    "start_time": "2022-02-04T14:50:34.885Z"
   },
   {
    "duration": 361,
    "start_time": "2022-02-04T14:53:31.416Z"
   },
   {
    "duration": 300,
    "start_time": "2022-02-04T14:54:05.339Z"
   },
   {
    "duration": 290,
    "start_time": "2022-02-04T15:08:08.228Z"
   },
   {
    "duration": 805,
    "start_time": "2022-02-04T15:08:29.789Z"
   },
   {
    "duration": 19,
    "start_time": "2022-02-04T15:08:30.597Z"
   },
   {
    "duration": 126,
    "start_time": "2022-02-04T15:08:30.618Z"
   },
   {
    "duration": 34,
    "start_time": "2022-02-04T15:08:30.747Z"
   },
   {
    "duration": 21,
    "start_time": "2022-02-04T15:08:30.783Z"
   },
   {
    "duration": 6677,
    "start_time": "2022-02-04T15:08:30.807Z"
   },
   {
    "duration": 260,
    "start_time": "2022-02-04T15:10:25.056Z"
   },
   {
    "duration": 822,
    "start_time": "2022-02-04T15:10:30.589Z"
   },
   {
    "duration": 13,
    "start_time": "2022-02-04T15:10:31.414Z"
   },
   {
    "duration": 92,
    "start_time": "2022-02-04T15:10:31.430Z"
   },
   {
    "duration": 13,
    "start_time": "2022-02-04T15:10:31.525Z"
   },
   {
    "duration": 31,
    "start_time": "2022-02-04T15:10:31.540Z"
   },
   {
    "duration": 7184,
    "start_time": "2022-02-04T15:10:31.574Z"
   },
   {
    "duration": 736,
    "start_time": "2022-02-04T15:26:43.988Z"
   },
   {
    "duration": 17,
    "start_time": "2022-02-04T15:26:44.726Z"
   },
   {
    "duration": 86,
    "start_time": "2022-02-04T15:26:44.745Z"
   },
   {
    "duration": 10,
    "start_time": "2022-02-04T15:26:44.833Z"
   },
   {
    "duration": 16,
    "start_time": "2022-02-04T15:26:44.845Z"
   },
   {
    "duration": 7423,
    "start_time": "2022-02-04T15:26:44.862Z"
   },
   {
    "duration": 728,
    "start_time": "2022-02-04T16:13:00.951Z"
   },
   {
    "duration": 13,
    "start_time": "2022-02-04T16:13:01.681Z"
   },
   {
    "duration": 96,
    "start_time": "2022-02-04T16:13:01.697Z"
   },
   {
    "duration": 21,
    "start_time": "2022-02-04T16:13:01.795Z"
   },
   {
    "duration": 18,
    "start_time": "2022-02-04T16:13:01.818Z"
   },
   {
    "duration": 7115,
    "start_time": "2022-02-04T16:13:01.838Z"
   },
   {
    "duration": 262,
    "start_time": "2022-02-04T16:13:42.596Z"
   },
   {
    "duration": 743,
    "start_time": "2022-02-04T16:13:48.353Z"
   },
   {
    "duration": 12,
    "start_time": "2022-02-04T16:13:49.098Z"
   },
   {
    "duration": 74,
    "start_time": "2022-02-04T16:13:49.113Z"
   },
   {
    "duration": 29,
    "start_time": "2022-02-04T16:13:49.189Z"
   },
   {
    "duration": 19,
    "start_time": "2022-02-04T16:13:49.221Z"
   },
   {
    "duration": 356,
    "start_time": "2022-02-04T16:13:49.242Z"
   },
   {
    "duration": 19,
    "start_time": "2022-02-04T16:14:42.625Z"
   },
   {
    "duration": 83,
    "start_time": "2022-02-04T16:18:23.586Z"
   },
   {
    "duration": 1955,
    "start_time": "2022-02-04T16:18:46.898Z"
   },
   {
    "duration": 85,
    "start_time": "2022-02-04T16:19:42.636Z"
   },
   {
    "duration": 2074,
    "start_time": "2022-02-04T16:19:47.143Z"
   },
   {
    "duration": 9,
    "start_time": "2022-02-04T16:20:32.388Z"
   },
   {
    "duration": 5,
    "start_time": "2022-02-04T16:20:42.451Z"
   },
   {
    "duration": 731,
    "start_time": "2022-02-04T16:20:53.382Z"
   },
   {
    "duration": 13,
    "start_time": "2022-02-04T16:20:54.115Z"
   },
   {
    "duration": 97,
    "start_time": "2022-02-04T16:20:54.130Z"
   },
   {
    "duration": 11,
    "start_time": "2022-02-04T16:20:54.229Z"
   },
   {
    "duration": 21,
    "start_time": "2022-02-04T16:20:54.241Z"
   },
   {
    "duration": 14,
    "start_time": "2022-02-04T16:20:54.265Z"
   },
   {
    "duration": 44,
    "start_time": "2022-02-04T16:20:54.281Z"
   },
   {
    "duration": 20,
    "start_time": "2022-02-04T16:22:47.549Z"
   },
   {
    "duration": 17,
    "start_time": "2022-02-04T16:23:23.055Z"
   },
   {
    "duration": 24,
    "start_time": "2022-02-04T16:23:51.903Z"
   },
   {
    "duration": 19,
    "start_time": "2022-02-04T16:24:35.609Z"
   },
   {
    "duration": 687,
    "start_time": "2022-02-04T16:24:42.652Z"
   },
   {
    "duration": 12,
    "start_time": "2022-02-04T16:24:43.341Z"
   },
   {
    "duration": 90,
    "start_time": "2022-02-04T16:24:43.356Z"
   },
   {
    "duration": 11,
    "start_time": "2022-02-04T16:24:43.448Z"
   },
   {
    "duration": 18,
    "start_time": "2022-02-04T16:24:43.461Z"
   },
   {
    "duration": 2216,
    "start_time": "2022-02-04T16:24:43.480Z"
   },
   {
    "duration": 802,
    "start_time": "2022-02-04T16:24:44.897Z"
   },
   {
    "duration": 21,
    "start_time": "2022-02-04T16:25:07.124Z"
   },
   {
    "duration": 16,
    "start_time": "2022-02-04T16:25:17.373Z"
   },
   {
    "duration": 16,
    "start_time": "2022-02-04T16:25:19.956Z"
   },
   {
    "duration": 166,
    "start_time": "2022-02-04T16:25:31.011Z"
   },
   {
    "duration": 28,
    "start_time": "2022-02-04T16:25:31.179Z"
   },
   {
    "duration": 164,
    "start_time": "2022-02-04T16:25:31.217Z"
   },
   {
    "duration": 11,
    "start_time": "2022-02-04T16:25:31.383Z"
   },
   {
    "duration": 55,
    "start_time": "2022-02-04T16:25:31.396Z"
   },
   {
    "duration": 2080,
    "start_time": "2022-02-04T16:25:31.453Z"
   },
   {
    "duration": 101,
    "start_time": "2022-02-04T16:25:48.014Z"
   },
   {
    "duration": 13,
    "start_time": "2022-02-04T16:25:48.116Z"
   },
   {
    "duration": 97,
    "start_time": "2022-02-04T16:25:48.131Z"
   },
   {
    "duration": 12,
    "start_time": "2022-02-04T16:25:48.230Z"
   },
   {
    "duration": 37,
    "start_time": "2022-02-04T16:25:48.245Z"
   },
   {
    "duration": 20,
    "start_time": "2022-02-04T16:26:01.622Z"
   },
   {
    "duration": 699,
    "start_time": "2022-02-04T16:26:21.247Z"
   },
   {
    "duration": 14,
    "start_time": "2022-02-04T16:26:21.949Z"
   },
   {
    "duration": 93,
    "start_time": "2022-02-04T16:26:21.969Z"
   },
   {
    "duration": 11,
    "start_time": "2022-02-04T16:26:22.064Z"
   },
   {
    "duration": 32,
    "start_time": "2022-02-04T16:26:22.077Z"
   },
   {
    "duration": 1922,
    "start_time": "2022-02-04T16:26:22.111Z"
   },
   {
    "duration": 771,
    "start_time": "2022-02-04T16:26:23.264Z"
   },
   {
    "duration": 24,
    "start_time": "2022-02-04T16:26:53.580Z"
   },
   {
    "duration": 20,
    "start_time": "2022-02-04T16:27:09.291Z"
   },
   {
    "duration": 760,
    "start_time": "2022-02-04T16:27:17.214Z"
   },
   {
    "duration": 14,
    "start_time": "2022-02-04T16:27:17.977Z"
   },
   {
    "duration": 85,
    "start_time": "2022-02-04T16:27:17.994Z"
   },
   {
    "duration": 30,
    "start_time": "2022-02-04T16:27:18.082Z"
   },
   {
    "duration": 19,
    "start_time": "2022-02-04T16:27:18.114Z"
   },
   {
    "duration": 29,
    "start_time": "2022-02-04T16:27:18.136Z"
   },
   {
    "duration": 57,
    "start_time": "2022-02-04T16:27:18.167Z"
   },
   {
    "duration": 19,
    "start_time": "2022-02-04T16:30:30.646Z"
   },
   {
    "duration": 712,
    "start_time": "2022-02-04T16:30:38.121Z"
   },
   {
    "duration": 11,
    "start_time": "2022-02-04T16:30:38.836Z"
   },
   {
    "duration": 85,
    "start_time": "2022-02-04T16:30:38.850Z"
   },
   {
    "duration": 11,
    "start_time": "2022-02-04T16:30:38.937Z"
   },
   {
    "duration": 18,
    "start_time": "2022-02-04T16:30:38.950Z"
   },
   {
    "duration": 47,
    "start_time": "2022-02-04T16:30:38.970Z"
   },
   {
    "duration": 20,
    "start_time": "2022-02-04T16:30:39.019Z"
   },
   {
    "duration": 25,
    "start_time": "2022-02-04T16:31:03.799Z"
   },
   {
    "duration": 25,
    "start_time": "2022-02-04T16:32:14.841Z"
   },
   {
    "duration": 696,
    "start_time": "2022-02-04T16:32:24.166Z"
   },
   {
    "duration": 12,
    "start_time": "2022-02-04T16:32:24.864Z"
   },
   {
    "duration": 88,
    "start_time": "2022-02-04T16:32:24.878Z"
   },
   {
    "duration": 10,
    "start_time": "2022-02-04T16:32:24.968Z"
   },
   {
    "duration": 30,
    "start_time": "2022-02-04T16:32:24.979Z"
   },
   {
    "duration": 25,
    "start_time": "2022-02-04T16:32:25.011Z"
   },
   {
    "duration": 26,
    "start_time": "2022-02-04T16:32:25.038Z"
   },
   {
    "duration": 86,
    "start_time": "2022-02-04T16:39:52.945Z"
   },
   {
    "duration": 26,
    "start_time": "2022-02-04T16:40:26.192Z"
   },
   {
    "duration": 106,
    "start_time": "2022-02-04T16:53:24.487Z"
   },
   {
    "duration": 91,
    "start_time": "2022-02-04T16:53:41.511Z"
   },
   {
    "duration": 118,
    "start_time": "2022-02-04T16:54:21.511Z"
   },
   {
    "duration": 89,
    "start_time": "2022-02-04T16:54:36.919Z"
   },
   {
    "duration": 85,
    "start_time": "2022-02-04T16:55:39.008Z"
   },
   {
    "duration": 23,
    "start_time": "2022-02-04T16:56:25.729Z"
   },
   {
    "duration": 739,
    "start_time": "2022-02-04T16:56:42.185Z"
   },
   {
    "duration": 12,
    "start_time": "2022-02-04T16:56:42.926Z"
   },
   {
    "duration": 89,
    "start_time": "2022-02-04T16:56:42.940Z"
   },
   {
    "duration": 10,
    "start_time": "2022-02-04T16:56:43.032Z"
   },
   {
    "duration": 23,
    "start_time": "2022-02-04T16:56:43.044Z"
   },
   {
    "duration": 40,
    "start_time": "2022-02-04T16:56:43.069Z"
   },
   {
    "duration": 28,
    "start_time": "2022-02-04T16:56:43.111Z"
   },
   {
    "duration": 2,
    "start_time": "2022-02-04T16:56:43.141Z"
   },
   {
    "duration": 26,
    "start_time": "2022-02-04T16:56:43.146Z"
   },
   {
    "duration": 21,
    "start_time": "2022-02-04T16:56:59.344Z"
   },
   {
    "duration": 21,
    "start_time": "2022-02-04T16:57:08.294Z"
   },
   {
    "duration": 771,
    "start_time": "2022-02-04T16:57:19.462Z"
   },
   {
    "duration": 13,
    "start_time": "2022-02-04T16:57:20.235Z"
   },
   {
    "duration": 90,
    "start_time": "2022-02-04T16:57:20.251Z"
   },
   {
    "duration": 11,
    "start_time": "2022-02-04T16:57:20.343Z"
   },
   {
    "duration": 20,
    "start_time": "2022-02-04T16:57:20.356Z"
   },
   {
    "duration": 44,
    "start_time": "2022-02-04T16:57:20.377Z"
   },
   {
    "duration": 25,
    "start_time": "2022-02-04T16:57:20.423Z"
   },
   {
    "duration": 21,
    "start_time": "2022-02-04T16:57:20.450Z"
   },
   {
    "duration": 41,
    "start_time": "2022-02-04T16:57:20.473Z"
   },
   {
    "duration": 82,
    "start_time": "2022-02-04T17:02:16.393Z"
   },
   {
    "duration": 22,
    "start_time": "2022-02-04T17:03:42.640Z"
   },
   {
    "duration": 21,
    "start_time": "2022-02-04T17:03:56.434Z"
   },
   {
    "duration": 363,
    "start_time": "2022-02-04T17:11:41.538Z"
   },
   {
    "duration": 6,
    "start_time": "2022-02-04T17:15:26.104Z"
   },
   {
    "duration": 10,
    "start_time": "2022-02-04T17:15:53.103Z"
   },
   {
    "duration": 9,
    "start_time": "2022-02-04T17:16:09.927Z"
   },
   {
    "duration": 748,
    "start_time": "2022-02-04T17:16:54.290Z"
   },
   {
    "duration": 13,
    "start_time": "2022-02-04T17:16:55.043Z"
   },
   {
    "duration": 91,
    "start_time": "2022-02-04T17:16:55.059Z"
   },
   {
    "duration": 12,
    "start_time": "2022-02-04T17:16:55.152Z"
   },
   {
    "duration": 25,
    "start_time": "2022-02-04T17:16:55.166Z"
   },
   {
    "duration": 44,
    "start_time": "2022-02-04T17:16:55.193Z"
   },
   {
    "duration": 26,
    "start_time": "2022-02-04T17:16:55.239Z"
   },
   {
    "duration": 3,
    "start_time": "2022-02-04T17:16:55.268Z"
   },
   {
    "duration": 26,
    "start_time": "2022-02-04T17:16:55.272Z"
   },
   {
    "duration": 31,
    "start_time": "2022-02-04T17:27:52.145Z"
   },
   {
    "duration": 1288,
    "start_time": "2022-02-04T17:28:45.602Z"
   },
   {
    "duration": 779,
    "start_time": "2022-02-04T17:29:00.576Z"
   },
   {
    "duration": 15,
    "start_time": "2022-02-04T17:29:01.358Z"
   },
   {
    "duration": 97,
    "start_time": "2022-02-04T17:29:01.377Z"
   },
   {
    "duration": 11,
    "start_time": "2022-02-04T17:29:01.477Z"
   },
   {
    "duration": 34,
    "start_time": "2022-02-04T17:29:01.490Z"
   },
   {
    "duration": 36,
    "start_time": "2022-02-04T17:29:01.526Z"
   },
   {
    "duration": 33,
    "start_time": "2022-02-04T17:29:01.564Z"
   },
   {
    "duration": 8,
    "start_time": "2022-02-04T17:29:01.599Z"
   },
   {
    "duration": 18,
    "start_time": "2022-02-04T17:29:01.611Z"
   },
   {
    "duration": 40,
    "start_time": "2022-02-04T17:29:01.632Z"
   },
   {
    "duration": 38,
    "start_time": "2022-02-04T17:30:25.498Z"
   },
   {
    "duration": 40,
    "start_time": "2022-02-04T17:30:36.338Z"
   },
   {
    "duration": 1341,
    "start_time": "2022-02-04T17:31:21.900Z"
   },
   {
    "duration": 716,
    "start_time": "2022-02-04T17:31:29.842Z"
   },
   {
    "duration": 14,
    "start_time": "2022-02-04T17:31:30.561Z"
   },
   {
    "duration": 89,
    "start_time": "2022-02-04T17:31:30.581Z"
   },
   {
    "duration": 11,
    "start_time": "2022-02-04T17:31:30.672Z"
   },
   {
    "duration": 37,
    "start_time": "2022-02-04T17:31:30.685Z"
   },
   {
    "duration": 37,
    "start_time": "2022-02-04T17:31:30.724Z"
   },
   {
    "duration": 25,
    "start_time": "2022-02-04T17:31:30.764Z"
   },
   {
    "duration": 16,
    "start_time": "2022-02-04T17:31:30.792Z"
   },
   {
    "duration": 17,
    "start_time": "2022-02-04T17:31:30.810Z"
   },
   {
    "duration": 48,
    "start_time": "2022-02-04T17:31:30.829Z"
   },
   {
    "duration": 456,
    "start_time": "2022-02-04T21:37:51.065Z"
   },
   {
    "duration": 749,
    "start_time": "2022-02-04T21:37:58.392Z"
   },
   {
    "duration": 11,
    "start_time": "2022-02-04T21:37:59.143Z"
   },
   {
    "duration": 86,
    "start_time": "2022-02-04T21:37:59.157Z"
   },
   {
    "duration": 11,
    "start_time": "2022-02-04T21:37:59.245Z"
   },
   {
    "duration": 18,
    "start_time": "2022-02-04T21:37:59.258Z"
   },
   {
    "duration": 46,
    "start_time": "2022-02-04T21:37:59.278Z"
   },
   {
    "duration": 30,
    "start_time": "2022-02-04T21:37:59.326Z"
   },
   {
    "duration": 3,
    "start_time": "2022-02-04T21:37:59.358Z"
   },
   {
    "duration": 7,
    "start_time": "2022-02-04T21:37:59.363Z"
   },
   {
    "duration": 49,
    "start_time": "2022-02-04T21:37:59.372Z"
   },
   {
    "duration": 340,
    "start_time": "2022-02-04T21:37:59.423Z"
   },
   {
    "duration": 2018,
    "start_time": "2022-02-04T21:38:31.759Z"
   },
   {
    "duration": 747,
    "start_time": "2022-02-04T21:39:25.092Z"
   },
   {
    "duration": 12,
    "start_time": "2022-02-04T21:39:25.841Z"
   },
   {
    "duration": 96,
    "start_time": "2022-02-04T21:39:25.855Z"
   },
   {
    "duration": 12,
    "start_time": "2022-02-04T21:39:25.953Z"
   },
   {
    "duration": 41,
    "start_time": "2022-02-04T21:39:25.967Z"
   },
   {
    "duration": 23,
    "start_time": "2022-02-04T21:39:26.010Z"
   },
   {
    "duration": 28,
    "start_time": "2022-02-04T21:39:26.036Z"
   },
   {
    "duration": 2,
    "start_time": "2022-02-04T21:39:26.066Z"
   },
   {
    "duration": 36,
    "start_time": "2022-02-04T21:39:26.071Z"
   },
   {
    "duration": 6,
    "start_time": "2022-02-04T21:39:26.110Z"
   },
   {
    "duration": 1315,
    "start_time": "2022-02-04T21:39:26.118Z"
   },
   {
    "duration": 15,
    "start_time": "2022-02-04T21:42:27.262Z"
   },
   {
    "duration": 249,
    "start_time": "2022-02-04T21:43:08.594Z"
   },
   {
    "duration": 5,
    "start_time": "2022-02-04T21:43:19.678Z"
   },
   {
    "duration": 99,
    "start_time": "2022-02-04T21:43:45.596Z"
   },
   {
    "duration": 701,
    "start_time": "2022-02-04T21:44:00.556Z"
   },
   {
    "duration": 13,
    "start_time": "2022-02-04T21:44:01.259Z"
   },
   {
    "duration": 99,
    "start_time": "2022-02-04T21:44:01.275Z"
   },
   {
    "duration": 12,
    "start_time": "2022-02-04T21:44:01.376Z"
   },
   {
    "duration": 35,
    "start_time": "2022-02-04T21:44:01.391Z"
   },
   {
    "duration": 51,
    "start_time": "2022-02-04T21:44:01.429Z"
   },
   {
    "duration": 42,
    "start_time": "2022-02-04T21:44:01.482Z"
   },
   {
    "duration": 3,
    "start_time": "2022-02-04T21:44:01.526Z"
   },
   {
    "duration": 29,
    "start_time": "2022-02-04T21:44:01.531Z"
   },
   {
    "duration": 21,
    "start_time": "2022-02-04T21:44:01.562Z"
   },
   {
    "duration": 138,
    "start_time": "2022-02-04T21:44:01.585Z"
   },
   {
    "duration": 100,
    "start_time": "2022-02-04T21:44:28.821Z"
   },
   {
    "duration": 97,
    "start_time": "2022-02-04T21:44:40.510Z"
   },
   {
    "duration": 11,
    "start_time": "2022-02-04T21:44:40.610Z"
   },
   {
    "duration": 87,
    "start_time": "2022-02-04T21:44:40.624Z"
   },
   {
    "duration": 11,
    "start_time": "2022-02-04T21:44:40.713Z"
   },
   {
    "duration": 19,
    "start_time": "2022-02-04T21:44:40.726Z"
   },
   {
    "duration": 26,
    "start_time": "2022-02-04T21:44:40.747Z"
   },
   {
    "duration": 52,
    "start_time": "2022-02-04T21:44:40.775Z"
   },
   {
    "duration": 2,
    "start_time": "2022-02-04T21:44:40.829Z"
   },
   {
    "duration": 6,
    "start_time": "2022-02-04T21:44:40.834Z"
   },
   {
    "duration": 7,
    "start_time": "2022-02-04T21:44:40.842Z"
   },
   {
    "duration": 122,
    "start_time": "2022-02-04T21:44:42.791Z"
   },
   {
    "duration": 749,
    "start_time": "2022-02-04T21:45:07.574Z"
   },
   {
    "duration": 12,
    "start_time": "2022-02-04T21:45:08.326Z"
   },
   {
    "duration": 81,
    "start_time": "2022-02-04T21:45:08.340Z"
   },
   {
    "duration": 10,
    "start_time": "2022-02-04T21:45:08.424Z"
   },
   {
    "duration": 18,
    "start_time": "2022-02-04T21:45:08.436Z"
   },
   {
    "duration": 23,
    "start_time": "2022-02-04T21:45:08.456Z"
   },
   {
    "duration": 52,
    "start_time": "2022-02-04T21:45:08.481Z"
   },
   {
    "duration": 3,
    "start_time": "2022-02-04T21:45:08.535Z"
   },
   {
    "duration": 6,
    "start_time": "2022-02-04T21:45:08.541Z"
   },
   {
    "duration": 7,
    "start_time": "2022-02-04T21:45:08.550Z"
   },
   {
    "duration": 89,
    "start_time": "2022-02-04T21:45:08.559Z"
   },
   {
    "duration": 78,
    "start_time": "2022-02-04T21:45:26.312Z"
   },
   {
    "duration": 5,
    "start_time": "2022-02-04T21:46:07.855Z"
   },
   {
    "duration": 5,
    "start_time": "2022-02-04T21:46:13.600Z"
   },
   {
    "duration": 22,
    "start_time": "2022-02-04T21:46:52.304Z"
   },
   {
    "duration": 721,
    "start_time": "2022-02-04T21:47:57.555Z"
   },
   {
    "duration": 13,
    "start_time": "2022-02-04T21:47:58.278Z"
   },
   {
    "duration": 85,
    "start_time": "2022-02-04T21:47:58.293Z"
   },
   {
    "duration": 10,
    "start_time": "2022-02-04T21:47:58.380Z"
   },
   {
    "duration": 31,
    "start_time": "2022-02-04T21:47:58.391Z"
   },
   {
    "duration": 25,
    "start_time": "2022-02-04T21:47:58.425Z"
   },
   {
    "duration": 30,
    "start_time": "2022-02-04T21:47:58.451Z"
   },
   {
    "duration": 24,
    "start_time": "2022-02-04T21:47:58.483Z"
   },
   {
    "duration": 3,
    "start_time": "2022-02-04T21:47:58.509Z"
   },
   {
    "duration": 5,
    "start_time": "2022-02-04T21:47:58.514Z"
   },
   {
    "duration": 27,
    "start_time": "2022-02-04T21:47:58.521Z"
   },
   {
    "duration": 318,
    "start_time": "2022-02-04T21:49:37.346Z"
   },
   {
    "duration": 312,
    "start_time": "2022-02-04T21:49:43.318Z"
   },
   {
    "duration": 1214,
    "start_time": "2022-02-04T21:49:54.800Z"
   },
   {
    "duration": 758,
    "start_time": "2022-02-04T21:50:04.441Z"
   },
   {
    "duration": 13,
    "start_time": "2022-02-04T21:50:05.201Z"
   },
   {
    "duration": 101,
    "start_time": "2022-02-04T21:50:05.216Z"
   },
   {
    "duration": 11,
    "start_time": "2022-02-04T21:50:05.319Z"
   },
   {
    "duration": 58,
    "start_time": "2022-02-04T21:50:05.332Z"
   },
   {
    "duration": 38,
    "start_time": "2022-02-04T21:50:05.392Z"
   },
   {
    "duration": 28,
    "start_time": "2022-02-04T21:50:05.432Z"
   },
   {
    "duration": 2,
    "start_time": "2022-02-04T21:50:05.463Z"
   },
   {
    "duration": 10,
    "start_time": "2022-02-04T21:50:05.467Z"
   },
   {
    "duration": 20,
    "start_time": "2022-02-04T21:50:05.479Z"
   },
   {
    "duration": 36,
    "start_time": "2022-02-04T21:50:05.501Z"
   },
   {
    "duration": 732,
    "start_time": "2022-02-04T21:53:09.838Z"
   },
   {
    "duration": 14,
    "start_time": "2022-02-04T21:53:10.573Z"
   },
   {
    "duration": 90,
    "start_time": "2022-02-04T21:53:10.589Z"
   },
   {
    "duration": 26,
    "start_time": "2022-02-04T21:53:10.681Z"
   },
   {
    "duration": 19,
    "start_time": "2022-02-04T21:53:10.710Z"
   },
   {
    "duration": 28,
    "start_time": "2022-02-04T21:53:10.732Z"
   },
   {
    "duration": 50,
    "start_time": "2022-02-04T21:53:10.762Z"
   },
   {
    "duration": 3,
    "start_time": "2022-02-04T21:53:10.815Z"
   },
   {
    "duration": 6,
    "start_time": "2022-02-04T21:53:10.820Z"
   },
   {
    "duration": 32,
    "start_time": "2022-02-04T21:53:10.828Z"
   },
   {
    "duration": 3,
    "start_time": "2022-02-04T21:53:10.862Z"
   },
   {
    "duration": 87,
    "start_time": "2022-02-04T21:58:31.434Z"
   },
   {
    "duration": 94,
    "start_time": "2022-02-04T21:58:45.026Z"
   },
   {
    "duration": 21,
    "start_time": "2022-02-04T21:59:04.138Z"
   },
   {
    "duration": 710,
    "start_time": "2022-02-04T21:59:19.149Z"
   },
   {
    "duration": 13,
    "start_time": "2022-02-04T21:59:19.862Z"
   },
   {
    "duration": 85,
    "start_time": "2022-02-04T21:59:19.878Z"
   },
   {
    "duration": 11,
    "start_time": "2022-02-04T21:59:19.966Z"
   },
   {
    "duration": 35,
    "start_time": "2022-02-04T21:59:19.979Z"
   },
   {
    "duration": 27,
    "start_time": "2022-02-04T21:59:20.017Z"
   },
   {
    "duration": 32,
    "start_time": "2022-02-04T21:59:20.047Z"
   },
   {
    "duration": 3,
    "start_time": "2022-02-04T21:59:20.082Z"
   },
   {
    "duration": 22,
    "start_time": "2022-02-04T21:59:20.087Z"
   },
   {
    "duration": 32,
    "start_time": "2022-02-04T21:59:20.112Z"
   },
   {
    "duration": 3,
    "start_time": "2022-02-04T21:59:20.147Z"
   },
   {
    "duration": 21,
    "start_time": "2022-02-04T22:00:06.377Z"
   },
   {
    "duration": 21,
    "start_time": "2022-02-04T22:00:17.244Z"
   },
   {
    "duration": 20,
    "start_time": "2022-02-04T22:00:26.473Z"
   },
   {
    "duration": 848,
    "start_time": "2022-02-04T22:00:37.879Z"
   },
   {
    "duration": 13,
    "start_time": "2022-02-04T22:00:38.730Z"
   },
   {
    "duration": 91,
    "start_time": "2022-02-04T22:00:38.746Z"
   },
   {
    "duration": 11,
    "start_time": "2022-02-04T22:00:38.839Z"
   },
   {
    "duration": 18,
    "start_time": "2022-02-04T22:00:38.851Z"
   },
   {
    "duration": 48,
    "start_time": "2022-02-04T22:00:38.871Z"
   },
   {
    "duration": 29,
    "start_time": "2022-02-04T22:00:38.922Z"
   },
   {
    "duration": 2,
    "start_time": "2022-02-04T22:00:38.954Z"
   },
   {
    "duration": 9,
    "start_time": "2022-02-04T22:00:38.958Z"
   },
   {
    "duration": 45,
    "start_time": "2022-02-04T22:00:38.969Z"
   },
   {
    "duration": 2,
    "start_time": "2022-02-04T22:00:39.017Z"
   },
   {
    "duration": 15,
    "start_time": "2022-02-04T22:04:41.155Z"
   },
   {
    "duration": 1136,
    "start_time": "2022-02-04T22:10:08.854Z"
   },
   {
    "duration": 1154,
    "start_time": "2022-02-04T22:11:25.843Z"
   },
   {
    "duration": 155,
    "start_time": "2022-02-04T22:12:28.343Z"
   },
   {
    "duration": 23,
    "start_time": "2022-02-04T22:12:42.211Z"
   },
   {
    "duration": 310,
    "start_time": "2022-02-04T22:13:01.767Z"
   },
   {
    "duration": 30,
    "start_time": "2022-02-04T22:13:15.944Z"
   },
   {
    "duration": 27,
    "start_time": "2022-02-04T22:14:39.525Z"
   },
   {
    "duration": 1273,
    "start_time": "2022-02-04T22:18:13.305Z"
   },
   {
    "duration": 1231,
    "start_time": "2022-02-04T22:18:53.634Z"
   },
   {
    "duration": 714,
    "start_time": "2022-02-04T22:19:11.629Z"
   },
   {
    "duration": 13,
    "start_time": "2022-02-04T22:19:12.346Z"
   },
   {
    "duration": 97,
    "start_time": "2022-02-04T22:19:12.362Z"
   },
   {
    "duration": 12,
    "start_time": "2022-02-04T22:19:12.461Z"
   },
   {
    "duration": 40,
    "start_time": "2022-02-04T22:19:12.476Z"
   },
   {
    "duration": 44,
    "start_time": "2022-02-04T22:19:12.518Z"
   },
   {
    "duration": 1345,
    "start_time": "2022-02-04T22:19:12.564Z"
   },
   {
    "duration": -159,
    "start_time": "2022-02-04T22:19:14.070Z"
   },
   {
    "duration": -165,
    "start_time": "2022-02-04T22:19:14.078Z"
   },
   {
    "duration": -167,
    "start_time": "2022-02-04T22:19:14.081Z"
   },
   {
    "duration": -168,
    "start_time": "2022-02-04T22:19:14.083Z"
   },
   {
    "duration": -171,
    "start_time": "2022-02-04T22:19:14.087Z"
   },
   {
    "duration": 581,
    "start_time": "2022-02-04T22:23:54.638Z"
   },
   {
    "duration": 3746,
    "start_time": "2022-02-04T22:25:37.574Z"
   },
   {
    "duration": 710,
    "start_time": "2022-02-04T22:26:03.929Z"
   },
   {
    "duration": 12,
    "start_time": "2022-02-04T22:26:04.642Z"
   },
   {
    "duration": 87,
    "start_time": "2022-02-04T22:26:04.656Z"
   },
   {
    "duration": 11,
    "start_time": "2022-02-04T22:26:04.745Z"
   },
   {
    "duration": 18,
    "start_time": "2022-02-04T22:26:04.758Z"
   },
   {
    "duration": 53,
    "start_time": "2022-02-04T22:26:04.778Z"
   },
   {
    "duration": 3553,
    "start_time": "2022-02-04T22:26:04.833Z"
   },
   {
    "duration": -255,
    "start_time": "2022-02-04T22:26:08.644Z"
   },
   {
    "duration": -264,
    "start_time": "2022-02-04T22:26:08.655Z"
   },
   {
    "duration": -265,
    "start_time": "2022-02-04T22:26:08.658Z"
   },
   {
    "duration": -266,
    "start_time": "2022-02-04T22:26:08.660Z"
   },
   {
    "duration": -272,
    "start_time": "2022-02-04T22:26:08.668Z"
   },
   {
    "duration": 421,
    "start_time": "2022-02-04T22:27:56.884Z"
   },
   {
    "duration": 4043,
    "start_time": "2022-02-04T22:30:18.986Z"
   },
   {
    "duration": 3595,
    "start_time": "2022-02-04T22:31:18.954Z"
   },
   {
    "duration": 255,
    "start_time": "2022-02-04T22:38:16.364Z"
   },
   {
    "duration": 92,
    "start_time": "2022-02-04T22:39:41.909Z"
   },
   {
    "duration": 1234,
    "start_time": "2022-02-04T22:39:55.906Z"
   },
   {
    "duration": 1174,
    "start_time": "2022-02-04T22:43:27.682Z"
   },
   {
    "duration": 3681,
    "start_time": "2022-02-04T22:45:14.890Z"
   },
   {
    "duration": 513,
    "start_time": "2022-02-04T22:46:10.079Z"
   },
   {
    "duration": 631,
    "start_time": "2022-02-04T22:47:16.829Z"
   },
   {
    "duration": 650,
    "start_time": "2022-02-04T22:47:33.732Z"
   },
   {
    "duration": 589,
    "start_time": "2022-02-04T22:48:06.919Z"
   },
   {
    "duration": 613,
    "start_time": "2022-02-04T22:48:32.919Z"
   },
   {
    "duration": 604,
    "start_time": "2022-02-04T22:50:08.748Z"
   },
   {
    "duration": 615,
    "start_time": "2022-02-04T22:50:42.925Z"
   },
   {
    "duration": 601,
    "start_time": "2022-02-04T22:51:32.506Z"
   },
   {
    "duration": 579,
    "start_time": "2022-02-04T22:51:54.328Z"
   },
   {
    "duration": 589,
    "start_time": "2022-02-04T22:52:17.200Z"
   },
   {
    "duration": 627,
    "start_time": "2022-02-05T09:45:25.683Z"
   },
   {
    "duration": 9,
    "start_time": "2022-02-05T09:45:26.312Z"
   },
   {
    "duration": 15,
    "start_time": "2022-02-05T09:45:26.323Z"
   },
   {
    "duration": 62,
    "start_time": "2022-02-05T09:45:26.340Z"
   },
   {
    "duration": 8,
    "start_time": "2022-02-05T09:45:26.404Z"
   },
   {
    "duration": 24,
    "start_time": "2022-02-05T09:45:26.414Z"
   },
   {
    "duration": 572,
    "start_time": "2022-02-05T09:45:26.459Z"
   },
   {
    "duration": 33,
    "start_time": "2022-02-05T09:45:27.034Z"
   },
   {
    "duration": 2,
    "start_time": "2022-02-05T09:45:27.068Z"
   },
   {
    "duration": 8,
    "start_time": "2022-02-05T09:45:27.072Z"
   },
   {
    "duration": 30,
    "start_time": "2022-02-05T09:45:27.082Z"
   },
   {
    "duration": 2,
    "start_time": "2022-02-05T09:45:27.113Z"
   },
   {
    "duration": 62,
    "start_time": "2022-02-05T09:54:26.787Z"
   },
   {
    "duration": 4,
    "start_time": "2022-02-05T09:55:42.515Z"
   },
   {
    "duration": 59,
    "start_time": "2022-02-05T09:56:29.838Z"
   },
   {
    "duration": 60,
    "start_time": "2022-02-05T09:56:40.432Z"
   },
   {
    "duration": 4835,
    "start_time": "2022-02-05T09:56:56.027Z"
   },
   {
    "duration": 1076,
    "start_time": "2022-02-05T09:58:13.466Z"
   },
   {
    "duration": 3,
    "start_time": "2022-02-05T09:59:18.822Z"
   },
   {
    "duration": 4,
    "start_time": "2022-02-05T10:01:13.887Z"
   },
   {
    "duration": 16,
    "start_time": "2022-02-05T10:02:07.919Z"
   },
   {
    "duration": 63,
    "start_time": "2022-02-05T10:04:21.376Z"
   },
   {
    "duration": 57,
    "start_time": "2022-02-05T10:09:04.718Z"
   },
   {
    "duration": 201,
    "start_time": "2022-02-05T10:09:09.893Z"
   },
   {
    "duration": 170,
    "start_time": "2022-02-05T10:09:27.551Z"
   },
   {
    "duration": 376,
    "start_time": "2022-02-05T10:11:24.800Z"
   },
   {
    "duration": 192,
    "start_time": "2022-02-05T10:12:24.846Z"
   },
   {
    "duration": 56,
    "start_time": "2022-02-05T10:12:52.691Z"
   },
   {
    "duration": 186,
    "start_time": "2022-02-05T10:13:22.307Z"
   },
   {
    "duration": 33,
    "start_time": "2022-02-05T10:14:59.818Z"
   },
   {
    "duration": 191,
    "start_time": "2022-02-05T10:16:13.472Z"
   },
   {
    "duration": 27,
    "start_time": "2022-02-05T10:16:37.061Z"
   },
   {
    "duration": 58,
    "start_time": "2022-02-05T10:17:47.156Z"
   },
   {
    "duration": 187,
    "start_time": "2022-02-05T10:17:56.837Z"
   },
   {
    "duration": 85,
    "start_time": "2022-02-05T10:20:21.577Z"
   },
   {
    "duration": 33,
    "start_time": "2022-02-05T10:20:35.548Z"
   },
   {
    "duration": 21,
    "start_time": "2022-02-05T10:20:56.677Z"
   },
   {
    "duration": 190,
    "start_time": "2022-02-05T10:23:33.948Z"
   },
   {
    "duration": 25,
    "start_time": "2022-02-05T10:23:39.680Z"
   },
   {
    "duration": 14,
    "start_time": "2022-02-05T10:23:59.164Z"
   },
   {
    "duration": 69,
    "start_time": "2022-02-05T10:24:09.291Z"
   },
   {
    "duration": 629,
    "start_time": "2022-02-05T10:24:29.020Z"
   },
   {
    "duration": 11,
    "start_time": "2022-02-05T10:24:29.651Z"
   },
   {
    "duration": 59,
    "start_time": "2022-02-05T10:24:29.664Z"
   },
   {
    "duration": 50,
    "start_time": "2022-02-05T10:24:29.724Z"
   },
   {
    "duration": 47,
    "start_time": "2022-02-05T10:24:29.776Z"
   },
   {
    "duration": 589,
    "start_time": "2022-02-05T10:24:29.825Z"
   },
   {
    "duration": 24,
    "start_time": "2022-02-05T10:24:30.415Z"
   },
   {
    "duration": 424,
    "start_time": "2022-02-05T10:24:30.441Z"
   },
   {
    "duration": 74,
    "start_time": "2022-02-05T10:24:30.870Z"
   },
   {
    "duration": 4,
    "start_time": "2022-02-05T10:24:30.959Z"
   },
   {
    "duration": 23,
    "start_time": "2022-02-05T10:24:30.966Z"
   },
   {
    "duration": 36,
    "start_time": "2022-02-05T10:24:30.991Z"
   },
   {
    "duration": 3,
    "start_time": "2022-02-05T10:24:31.028Z"
   },
   {
    "duration": 24,
    "start_time": "2022-02-05T10:25:04.926Z"
   },
   {
    "duration": 321,
    "start_time": "2022-02-05T10:30:05.378Z"
   },
   {
    "duration": 230,
    "start_time": "2022-02-05T10:31:29.583Z"
   },
   {
    "duration": 46,
    "start_time": "2022-02-05T10:33:09.232Z"
   },
   {
    "duration": 662,
    "start_time": "2022-02-05T10:33:19.288Z"
   },
   {
    "duration": 9,
    "start_time": "2022-02-05T10:33:19.952Z"
   },
   {
    "duration": 15,
    "start_time": "2022-02-05T10:33:19.963Z"
   },
   {
    "duration": 16,
    "start_time": "2022-02-05T10:33:19.980Z"
   },
   {
    "duration": 27,
    "start_time": "2022-02-05T10:33:19.997Z"
   },
   {
    "duration": 544,
    "start_time": "2022-02-05T10:33:20.026Z"
   },
   {
    "duration": 423,
    "start_time": "2022-02-05T10:33:20.572Z"
   },
   {
    "duration": 28,
    "start_time": "2022-02-05T10:33:20.998Z"
   },
   {
    "duration": 86,
    "start_time": "2022-02-05T10:33:21.028Z"
   },
   {
    "duration": 2,
    "start_time": "2022-02-05T10:33:21.116Z"
   },
   {
    "duration": 7,
    "start_time": "2022-02-05T10:33:21.120Z"
   },
   {
    "duration": 38,
    "start_time": "2022-02-05T10:33:21.129Z"
   },
   {
    "duration": 2,
    "start_time": "2022-02-05T10:33:21.168Z"
   },
   {
    "duration": 28,
    "start_time": "2022-02-05T10:33:47.176Z"
   },
   {
    "duration": 26,
    "start_time": "2022-02-05T10:33:58.371Z"
   },
   {
    "duration": 250,
    "start_time": "2022-02-05T10:34:13.197Z"
   },
   {
    "duration": 185,
    "start_time": "2022-02-05T10:35:06.192Z"
   },
   {
    "duration": 14,
    "start_time": "2022-02-05T10:35:06.379Z"
   },
   {
    "duration": 67,
    "start_time": "2022-02-05T10:35:06.394Z"
   },
   {
    "duration": 9,
    "start_time": "2022-02-05T10:35:06.463Z"
   },
   {
    "duration": 26,
    "start_time": "2022-02-05T10:35:06.474Z"
   },
   {
    "duration": 1205,
    "start_time": "2022-02-05T10:35:06.501Z"
   },
   {
    "duration": 17982,
    "start_time": "2022-02-05T10:35:07.760Z"
   },
   {
    "duration": 23,
    "start_time": "2022-02-05T10:35:25.745Z"
   },
   {
    "duration": 198,
    "start_time": "2022-02-05T10:35:25.770Z"
   },
   {
    "duration": 2,
    "start_time": "2022-02-05T10:35:25.971Z"
   },
   {
    "duration": 6,
    "start_time": "2022-02-05T10:35:25.975Z"
   },
   {
    "duration": 81,
    "start_time": "2022-02-05T10:35:25.983Z"
   },
   {
    "duration": 1,
    "start_time": "2022-02-05T10:35:26.066Z"
   },
   {
    "duration": 27,
    "start_time": "2022-02-05T10:36:25.242Z"
   },
   {
    "duration": 28,
    "start_time": "2022-02-05T10:36:49.292Z"
   },
   {
    "duration": 15789,
    "start_time": "2022-02-05T10:38:50.554Z"
   },
   {
    "duration": 300,
    "start_time": "2022-02-05T10:41:04.296Z"
   },
   {
    "duration": 270,
    "start_time": "2022-02-05T10:46:20.056Z"
   },
   {
    "duration": 223,
    "start_time": "2022-02-05T10:46:38.568Z"
   },
   {
    "duration": 185,
    "start_time": "2022-02-05T10:47:01.975Z"
   },
   {
    "duration": 178,
    "start_time": "2022-02-05T10:49:52.552Z"
   },
   {
    "duration": 169,
    "start_time": "2022-02-05T10:50:32.355Z"
   },
   {
    "duration": 56,
    "start_time": "2022-02-05T10:50:56.577Z"
   },
   {
    "duration": 180,
    "start_time": "2022-02-05T10:51:44.779Z"
   },
   {
    "duration": 67,
    "start_time": "2022-02-05T10:56:15.946Z"
   },
   {
    "duration": 60,
    "start_time": "2022-02-05T10:57:08.709Z"
   },
   {
    "duration": 175,
    "start_time": "2022-02-05T10:57:44.044Z"
   },
   {
    "duration": 225,
    "start_time": "2022-02-05T10:58:32.068Z"
   },
   {
    "duration": 428,
    "start_time": "2022-02-05T10:58:39.045Z"
   },
   {
    "duration": 303,
    "start_time": "2022-02-05T10:59:14.843Z"
   },
   {
    "duration": 192,
    "start_time": "2022-02-05T10:59:46.357Z"
   },
   {
    "duration": 629,
    "start_time": "2022-02-05T10:59:54.825Z"
   },
   {
    "duration": 15,
    "start_time": "2022-02-05T10:59:55.456Z"
   },
   {
    "duration": 21,
    "start_time": "2022-02-05T10:59:55.474Z"
   },
   {
    "duration": 11,
    "start_time": "2022-02-05T10:59:55.497Z"
   },
   {
    "duration": 25,
    "start_time": "2022-02-05T10:59:55.510Z"
   },
   {
    "duration": 579,
    "start_time": "2022-02-05T10:59:55.536Z"
   },
   {
    "duration": 410,
    "start_time": "2022-02-05T10:59:56.117Z"
   },
   {
    "duration": 37,
    "start_time": "2022-02-05T10:59:56.530Z"
   },
   {
    "duration": 71,
    "start_time": "2022-02-05T10:59:56.570Z"
   },
   {
    "duration": 2,
    "start_time": "2022-02-05T10:59:56.643Z"
   },
   {
    "duration": 11,
    "start_time": "2022-02-05T10:59:56.662Z"
   },
   {
    "duration": 30,
    "start_time": "2022-02-05T10:59:56.675Z"
   },
   {
    "duration": 2,
    "start_time": "2022-02-05T10:59:56.706Z"
   },
   {
    "duration": 302,
    "start_time": "2022-02-05T11:00:21.930Z"
   },
   {
    "duration": 16313,
    "start_time": "2022-02-05T11:00:27.039Z"
   },
   {
    "duration": 197,
    "start_time": "2022-02-05T11:02:57.527Z"
   },
   {
    "duration": 273,
    "start_time": "2022-02-05T11:03:13.287Z"
   },
   {
    "duration": 198,
    "start_time": "2022-02-05T11:05:41.721Z"
   },
   {
    "duration": 21,
    "start_time": "2022-02-05T11:05:52.029Z"
   },
   {
    "duration": 19,
    "start_time": "2022-02-05T11:06:06.801Z"
   },
   {
    "duration": 18,
    "start_time": "2022-02-05T11:06:35.134Z"
   },
   {
    "duration": 19,
    "start_time": "2022-02-05T11:06:45.867Z"
   },
   {
    "duration": 50,
    "start_time": "2022-02-05T11:08:21.314Z"
   },
   {
    "duration": 97,
    "start_time": "2022-02-05T11:10:10.677Z"
   },
   {
    "duration": 662,
    "start_time": "2022-02-05T11:10:19.648Z"
   },
   {
    "duration": 11,
    "start_time": "2022-02-05T11:10:20.313Z"
   },
   {
    "duration": 32,
    "start_time": "2022-02-05T11:10:20.329Z"
   },
   {
    "duration": 12,
    "start_time": "2022-02-05T11:10:20.363Z"
   },
   {
    "duration": 32,
    "start_time": "2022-02-05T11:10:20.377Z"
   },
   {
    "duration": 554,
    "start_time": "2022-02-05T11:10:20.411Z"
   },
   {
    "duration": 404,
    "start_time": "2022-02-05T11:10:20.967Z"
   },
   {
    "duration": 29,
    "start_time": "2022-02-05T11:10:21.374Z"
   },
   {
    "duration": 99,
    "start_time": "2022-02-05T11:10:21.405Z"
   },
   {
    "duration": 2,
    "start_time": "2022-02-05T11:10:21.506Z"
   },
   {
    "duration": 6,
    "start_time": "2022-02-05T11:10:21.510Z"
   },
   {
    "duration": 28,
    "start_time": "2022-02-05T11:10:21.518Z"
   },
   {
    "duration": 11,
    "start_time": "2022-02-05T11:10:21.548Z"
   },
   {
    "duration": 15452,
    "start_time": "2022-02-05T11:10:53.300Z"
   },
   {
    "duration": 285,
    "start_time": "2022-02-05T11:11:59.957Z"
   },
   {
    "duration": 261,
    "start_time": "2022-02-05T11:12:29.789Z"
   },
   {
    "duration": 170,
    "start_time": "2022-02-05T11:13:33.728Z"
   },
   {
    "duration": 205,
    "start_time": "2022-02-05T11:13:47.682Z"
   },
   {
    "duration": -23,
    "start_time": "2022-02-05T11:13:47.912Z"
   },
   {
    "duration": 178,
    "start_time": "2022-02-05T11:14:04.121Z"
   },
   {
    "duration": 210,
    "start_time": "2022-02-05T11:14:57.084Z"
   },
   {
    "duration": 199,
    "start_time": "2022-02-05T11:15:28.147Z"
   },
   {
    "duration": 167,
    "start_time": "2022-02-05T11:15:48.878Z"
   },
   {
    "duration": 195,
    "start_time": "2022-02-05T11:16:44.236Z"
   },
   {
    "duration": 186,
    "start_time": "2022-02-05T11:18:53.344Z"
   },
   {
    "duration": 275,
    "start_time": "2022-02-05T11:20:00.390Z"
   },
   {
    "duration": 180,
    "start_time": "2022-02-05T11:20:10.662Z"
   },
   {
    "duration": 174,
    "start_time": "2022-02-05T11:22:23.816Z"
   },
   {
    "duration": 181,
    "start_time": "2022-02-05T11:22:42.935Z"
   },
   {
    "duration": 642,
    "start_time": "2022-02-05T11:22:54.085Z"
   },
   {
    "duration": 10,
    "start_time": "2022-02-05T11:22:54.729Z"
   },
   {
    "duration": 27,
    "start_time": "2022-02-05T11:22:54.741Z"
   },
   {
    "duration": 17,
    "start_time": "2022-02-05T11:22:54.770Z"
   },
   {
    "duration": 25,
    "start_time": "2022-02-05T11:22:54.789Z"
   },
   {
    "duration": 600,
    "start_time": "2022-02-05T11:22:54.816Z"
   },
   {
    "duration": 25,
    "start_time": "2022-02-05T11:22:55.418Z"
   },
   {
    "duration": 414,
    "start_time": "2022-02-05T11:22:55.445Z"
   },
   {
    "duration": 74,
    "start_time": "2022-02-05T11:22:55.862Z"
   },
   {
    "duration": 3,
    "start_time": "2022-02-05T11:22:55.937Z"
   },
   {
    "duration": 19,
    "start_time": "2022-02-05T11:22:55.942Z"
   },
   {
    "duration": 38,
    "start_time": "2022-02-05T11:22:55.963Z"
   },
   {
    "duration": 2,
    "start_time": "2022-02-05T11:22:56.003Z"
   },
   {
    "duration": 254,
    "start_time": "2022-02-05T11:25:08.680Z"
   },
   {
    "duration": 16354,
    "start_time": "2022-02-05T11:25:24.020Z"
   },
   {
    "duration": 720,
    "start_time": "2022-02-05T11:25:56.776Z"
   },
   {
    "duration": 10,
    "start_time": "2022-02-05T11:25:57.497Z"
   },
   {
    "duration": 17,
    "start_time": "2022-02-05T11:25:57.509Z"
   },
   {
    "duration": 30,
    "start_time": "2022-02-05T11:25:57.529Z"
   },
   {
    "duration": 30,
    "start_time": "2022-02-05T11:25:57.562Z"
   },
   {
    "duration": 584,
    "start_time": "2022-02-05T11:25:57.593Z"
   },
   {
    "duration": 23,
    "start_time": "2022-02-05T11:25:58.178Z"
   },
   {
    "duration": 635,
    "start_time": "2022-02-05T11:25:58.203Z"
   },
   {
    "duration": -129,
    "start_time": "2022-02-05T11:25:58.969Z"
   },
   {
    "duration": -138,
    "start_time": "2022-02-05T11:25:58.979Z"
   },
   {
    "duration": -151,
    "start_time": "2022-02-05T11:25:58.993Z"
   },
   {
    "duration": -165,
    "start_time": "2022-02-05T11:25:59.008Z"
   },
   {
    "duration": -180,
    "start_time": "2022-02-05T11:25:59.023Z"
   },
   {
    "duration": -193,
    "start_time": "2022-02-05T11:25:59.038Z"
   },
   {
    "duration": 193,
    "start_time": "2022-02-05T11:26:22.114Z"
   },
   {
    "duration": 173,
    "start_time": "2022-02-05T11:26:39.146Z"
   },
   {
    "duration": 173,
    "start_time": "2022-02-05T11:27:33.657Z"
   },
   {
    "duration": 233,
    "start_time": "2022-02-05T11:36:11.997Z"
   },
   {
    "duration": 187,
    "start_time": "2022-02-05T11:38:32.751Z"
   },
   {
    "duration": 206,
    "start_time": "2022-02-05T11:39:59.871Z"
   },
   {
    "duration": 665,
    "start_time": "2022-02-05T11:40:05.050Z"
   },
   {
    "duration": 10,
    "start_time": "2022-02-05T11:40:05.716Z"
   },
   {
    "duration": 15,
    "start_time": "2022-02-05T11:40:05.728Z"
   },
   {
    "duration": 8,
    "start_time": "2022-02-05T11:40:05.759Z"
   },
   {
    "duration": 34,
    "start_time": "2022-02-05T11:40:05.768Z"
   },
   {
    "duration": 576,
    "start_time": "2022-02-05T11:40:05.804Z"
   },
   {
    "duration": 23,
    "start_time": "2022-02-05T11:40:06.382Z"
   },
   {
    "duration": 15379,
    "start_time": "2022-02-05T11:40:06.407Z"
   },
   {
    "duration": 11,
    "start_time": "2022-02-05T11:40:21.788Z"
   },
   {
    "duration": 175,
    "start_time": "2022-02-05T11:40:21.801Z"
   },
   {
    "duration": 3,
    "start_time": "2022-02-05T11:40:21.981Z"
   },
   {
    "duration": 6,
    "start_time": "2022-02-05T11:40:21.985Z"
   },
   {
    "duration": 89,
    "start_time": "2022-02-05T11:40:21.992Z"
   },
   {
    "duration": 2,
    "start_time": "2022-02-05T11:40:22.082Z"
   },
   {
    "duration": 24,
    "start_time": "2022-02-05T11:40:52.299Z"
   },
   {
    "duration": 25,
    "start_time": "2022-02-05T11:41:28.320Z"
   },
   {
    "duration": 75,
    "start_time": "2022-02-05T11:42:59.000Z"
   },
   {
    "duration": 250,
    "start_time": "2022-02-05T11:43:13.208Z"
   },
   {
    "duration": 214,
    "start_time": "2022-02-05T11:43:26.566Z"
   },
   {
    "duration": 57,
    "start_time": "2022-02-05T11:44:43.331Z"
   },
   {
    "duration": 175,
    "start_time": "2022-02-05T11:44:56.401Z"
   },
   {
    "duration": 187,
    "start_time": "2022-02-05T11:45:16.432Z"
   },
   {
    "duration": 16371,
    "start_time": "2022-02-05T11:45:18.501Z"
   },
   {
    "duration": 22,
    "start_time": "2022-02-05T11:47:28.150Z"
   },
   {
    "duration": 693,
    "start_time": "2022-02-05T11:49:10.056Z"
   },
   {
    "duration": 14,
    "start_time": "2022-02-05T11:49:10.751Z"
   },
   {
    "duration": 18,
    "start_time": "2022-02-05T11:49:10.767Z"
   },
   {
    "duration": 10,
    "start_time": "2022-02-05T11:49:10.787Z"
   },
   {
    "duration": 27,
    "start_time": "2022-02-05T11:49:10.799Z"
   },
   {
    "duration": 567,
    "start_time": "2022-02-05T11:49:10.828Z"
   },
   {
    "duration": 15888,
    "start_time": "2022-02-05T11:49:11.396Z"
   },
   {
    "duration": 18825,
    "start_time": "2022-02-05T11:49:27.287Z"
   },
   {
    "duration": 12,
    "start_time": "2022-02-05T11:49:46.114Z"
   },
   {
    "duration": 200,
    "start_time": "2022-02-05T11:49:46.160Z"
   },
   {
    "duration": 2,
    "start_time": "2022-02-05T11:49:46.362Z"
   },
   {
    "duration": 20,
    "start_time": "2022-02-05T11:49:46.365Z"
   },
   {
    "duration": 28,
    "start_time": "2022-02-05T11:49:46.387Z"
   },
   {
    "duration": 2,
    "start_time": "2022-02-05T11:49:46.460Z"
   },
   {
    "duration": 17369,
    "start_time": "2022-02-05T11:53:00.908Z"
   },
   {
    "duration": 18807,
    "start_time": "2022-02-05T11:55:59.795Z"
   },
   {
    "duration": 683,
    "start_time": "2022-02-05T11:57:09.766Z"
   },
   {
    "duration": 11,
    "start_time": "2022-02-05T11:57:10.452Z"
   },
   {
    "duration": 21,
    "start_time": "2022-02-05T11:57:10.465Z"
   },
   {
    "duration": 10,
    "start_time": "2022-02-05T11:57:10.488Z"
   },
   {
    "duration": 27,
    "start_time": "2022-02-05T11:57:10.508Z"
   },
   {
    "duration": 538,
    "start_time": "2022-02-05T11:57:10.634Z"
   },
   {
    "duration": 15928,
    "start_time": "2022-02-05T11:57:11.505Z"
   },
   {
    "duration": 3,
    "start_time": "2022-02-05T11:57:27.435Z"
   },
   {
    "duration": 17,
    "start_time": "2022-02-05T11:57:27.460Z"
   },
   {
    "duration": 213,
    "start_time": "2022-02-05T11:57:27.480Z"
   },
   {
    "duration": 2,
    "start_time": "2022-02-05T11:57:27.695Z"
   },
   {
    "duration": 60,
    "start_time": "2022-02-05T11:57:27.699Z"
   },
   {
    "duration": 27,
    "start_time": "2022-02-05T11:57:27.761Z"
   },
   {
    "duration": 2,
    "start_time": "2022-02-05T11:57:27.790Z"
   },
   {
    "duration": 289,
    "start_time": "2022-02-05T11:58:36.021Z"
   },
   {
    "duration": 58,
    "start_time": "2022-02-05T11:58:55.333Z"
   },
   {
    "duration": 193,
    "start_time": "2022-02-05T12:00:29.088Z"
   },
   {
    "duration": 15,
    "start_time": "2022-02-05T12:00:58.586Z"
   },
   {
    "duration": 64,
    "start_time": "2022-02-05T12:01:33.675Z"
   },
   {
    "duration": 81,
    "start_time": "2022-02-06T08:17:58.799Z"
   },
   {
    "duration": 325,
    "start_time": "2022-02-06T08:18:19.151Z"
   },
   {
    "duration": 653,
    "start_time": "2022-02-06T08:18:36.449Z"
   },
   {
    "duration": 10,
    "start_time": "2022-02-06T08:18:37.104Z"
   },
   {
    "duration": 14,
    "start_time": "2022-02-06T08:18:37.116Z"
   },
   {
    "duration": 12,
    "start_time": "2022-02-06T08:18:37.132Z"
   },
   {
    "duration": 31,
    "start_time": "2022-02-06T08:18:37.146Z"
   },
   {
    "duration": 559,
    "start_time": "2022-02-06T08:18:37.179Z"
   },
   {
    "duration": 87,
    "start_time": "2022-02-06T08:18:37.739Z"
   },
   {
    "duration": -42,
    "start_time": "2022-02-06T08:18:37.869Z"
   },
   {
    "duration": -50,
    "start_time": "2022-02-06T08:18:37.878Z"
   },
   {
    "duration": -56,
    "start_time": "2022-02-06T08:18:37.885Z"
   },
   {
    "duration": -60,
    "start_time": "2022-02-06T08:18:37.890Z"
   },
   {
    "duration": -66,
    "start_time": "2022-02-06T08:18:37.897Z"
   },
   {
    "duration": -71,
    "start_time": "2022-02-06T08:18:37.903Z"
   },
   {
    "duration": -77,
    "start_time": "2022-02-06T08:18:37.909Z"
   },
   {
    "duration": 745,
    "start_time": "2022-02-06T08:19:00.631Z"
   },
   {
    "duration": 350,
    "start_time": "2022-02-06T08:19:35.907Z"
   },
   {
    "duration": 24,
    "start_time": "2022-02-06T08:20:58.389Z"
   },
   {
    "duration": 36,
    "start_time": "2022-02-06T08:21:09.563Z"
   },
   {
    "duration": 23,
    "start_time": "2022-02-06T08:21:26.950Z"
   },
   {
    "duration": 249,
    "start_time": "2022-02-06T08:21:34.070Z"
   },
   {
    "duration": 258,
    "start_time": "2022-02-06T08:23:13.825Z"
   },
   {
    "duration": 87,
    "start_time": "2022-02-06T08:23:33.541Z"
   },
   {
    "duration": 86,
    "start_time": "2022-02-06T08:23:47.020Z"
   },
   {
    "duration": 10,
    "start_time": "2022-02-06T08:23:58.577Z"
   },
   {
    "duration": 687,
    "start_time": "2022-02-06T08:27:27.841Z"
   },
   {
    "duration": 11,
    "start_time": "2022-02-06T08:27:28.530Z"
   },
   {
    "duration": 16,
    "start_time": "2022-02-06T08:27:28.545Z"
   },
   {
    "duration": 10,
    "start_time": "2022-02-06T08:27:28.563Z"
   },
   {
    "duration": 54,
    "start_time": "2022-02-06T08:27:28.575Z"
   },
   {
    "duration": 572,
    "start_time": "2022-02-06T08:27:28.631Z"
   },
   {
    "duration": 30,
    "start_time": "2022-02-06T08:27:29.206Z"
   },
   {
    "duration": 669,
    "start_time": "2022-02-06T08:27:29.238Z"
   },
   {
    "duration": 3,
    "start_time": "2022-02-06T08:27:29.910Z"
   },
   {
    "duration": 20,
    "start_time": "2022-02-06T08:27:29.915Z"
   },
   {
    "duration": 70,
    "start_time": "2022-02-06T08:27:29.937Z"
   },
   {
    "duration": 10,
    "start_time": "2022-02-06T08:27:30.009Z"
   },
   {
    "duration": 19,
    "start_time": "2022-02-06T08:27:30.021Z"
   },
   {
    "duration": 39,
    "start_time": "2022-02-06T08:27:30.042Z"
   },
   {
    "duration": 4,
    "start_time": "2022-02-06T08:27:30.083Z"
   },
   {
    "duration": 16,
    "start_time": "2022-02-06T08:28:18.776Z"
   },
   {
    "duration": 16,
    "start_time": "2022-02-06T08:28:46.637Z"
   },
   {
    "duration": 25,
    "start_time": "2022-02-06T08:30:00.198Z"
   },
   {
    "duration": 23,
    "start_time": "2022-02-06T08:30:28.750Z"
   },
   {
    "duration": 689,
    "start_time": "2022-02-06T08:30:40.126Z"
   },
   {
    "duration": 12,
    "start_time": "2022-02-06T08:30:40.817Z"
   },
   {
    "duration": 17,
    "start_time": "2022-02-06T08:30:40.831Z"
   },
   {
    "duration": 12,
    "start_time": "2022-02-06T08:30:40.850Z"
   },
   {
    "duration": 27,
    "start_time": "2022-02-06T08:30:40.864Z"
   },
   {
    "duration": 618,
    "start_time": "2022-02-06T08:30:40.893Z"
   },
   {
    "duration": 31,
    "start_time": "2022-02-06T08:30:41.512Z"
   },
   {
    "duration": 3,
    "start_time": "2022-02-06T08:30:41.545Z"
   },
   {
    "duration": 6,
    "start_time": "2022-02-06T08:30:41.550Z"
   },
   {
    "duration": 627,
    "start_time": "2022-02-06T08:30:41.558Z"
   },
   {
    "duration": 77,
    "start_time": "2022-02-06T08:30:42.187Z"
   },
   {
    "duration": 2,
    "start_time": "2022-02-06T08:30:42.266Z"
   },
   {
    "duration": 5,
    "start_time": "2022-02-06T08:30:42.270Z"
   },
   {
    "duration": 43,
    "start_time": "2022-02-06T08:30:42.276Z"
   },
   {
    "duration": 2,
    "start_time": "2022-02-06T08:30:42.321Z"
   },
   {
    "duration": 25,
    "start_time": "2022-02-06T08:31:13.807Z"
   },
   {
    "duration": 17,
    "start_time": "2022-02-06T08:31:58.424Z"
   },
   {
    "duration": 16,
    "start_time": "2022-02-06T08:32:31.366Z"
   },
   {
    "duration": 22,
    "start_time": "2022-02-06T08:33:21.471Z"
   },
   {
    "duration": 696,
    "start_time": "2022-02-06T08:33:28.292Z"
   },
   {
    "duration": 10,
    "start_time": "2022-02-06T08:33:28.990Z"
   },
   {
    "duration": 28,
    "start_time": "2022-02-06T08:33:29.003Z"
   },
   {
    "duration": 13,
    "start_time": "2022-02-06T08:33:29.032Z"
   },
   {
    "duration": 27,
    "start_time": "2022-02-06T08:33:29.046Z"
   },
   {
    "duration": 584,
    "start_time": "2022-02-06T08:33:29.075Z"
   },
   {
    "duration": 27,
    "start_time": "2022-02-06T08:33:29.661Z"
   },
   {
    "duration": 2,
    "start_time": "2022-02-06T08:33:29.690Z"
   },
   {
    "duration": 7,
    "start_time": "2022-02-06T08:33:29.694Z"
   },
   {
    "duration": 602,
    "start_time": "2022-02-06T08:33:29.702Z"
   },
   {
    "duration": 91,
    "start_time": "2022-02-06T08:33:30.306Z"
   },
   {
    "duration": 3,
    "start_time": "2022-02-06T08:33:30.399Z"
   },
   {
    "duration": 17,
    "start_time": "2022-02-06T08:33:30.404Z"
   },
   {
    "duration": 39,
    "start_time": "2022-02-06T08:33:30.422Z"
   },
   {
    "duration": 2,
    "start_time": "2022-02-06T08:33:30.463Z"
   },
   {
    "duration": 22,
    "start_time": "2022-02-06T08:33:45.856Z"
   },
   {
    "duration": 701,
    "start_time": "2022-02-06T08:34:02.342Z"
   },
   {
    "duration": 12,
    "start_time": "2022-02-06T08:34:03.045Z"
   },
   {
    "duration": 16,
    "start_time": "2022-02-06T08:34:03.060Z"
   },
   {
    "duration": 17,
    "start_time": "2022-02-06T08:34:03.078Z"
   },
   {
    "duration": 40,
    "start_time": "2022-02-06T08:34:03.097Z"
   },
   {
    "duration": 585,
    "start_time": "2022-02-06T08:34:03.139Z"
   },
   {
    "duration": 26,
    "start_time": "2022-02-06T08:34:03.725Z"
   },
   {
    "duration": 3,
    "start_time": "2022-02-06T08:34:03.754Z"
   },
   {
    "duration": 4,
    "start_time": "2022-02-06T08:34:03.760Z"
   },
   {
    "duration": 633,
    "start_time": "2022-02-06T08:34:03.766Z"
   },
   {
    "duration": 78,
    "start_time": "2022-02-06T08:34:04.402Z"
   },
   {
    "duration": 3,
    "start_time": "2022-02-06T08:34:04.482Z"
   },
   {
    "duration": 7,
    "start_time": "2022-02-06T08:34:04.486Z"
   },
   {
    "duration": 40,
    "start_time": "2022-02-06T08:34:04.495Z"
   },
   {
    "duration": 2,
    "start_time": "2022-02-06T08:34:04.538Z"
   },
   {
    "duration": 11,
    "start_time": "2022-02-06T08:34:39.749Z"
   },
   {
    "duration": 10,
    "start_time": "2022-02-06T08:35:10.533Z"
   },
   {
    "duration": 89,
    "start_time": "2022-02-06T08:35:53.183Z"
   },
   {
    "duration": 84,
    "start_time": "2022-02-06T08:36:07.066Z"
   },
   {
    "duration": 10,
    "start_time": "2022-02-06T08:36:14.706Z"
   },
   {
    "duration": 11,
    "start_time": "2022-02-06T08:37:34.314Z"
   },
   {
    "duration": 11,
    "start_time": "2022-02-06T08:37:53.399Z"
   },
   {
    "duration": 110,
    "start_time": "2022-02-06T08:40:17.091Z"
   },
   {
    "duration": 75,
    "start_time": "2022-02-06T08:40:47.955Z"
   },
   {
    "duration": 89,
    "start_time": "2022-02-06T08:41:01.187Z"
   },
   {
    "duration": 97,
    "start_time": "2022-02-06T08:41:19.063Z"
   },
   {
    "duration": 85,
    "start_time": "2022-02-06T08:41:42.980Z"
   },
   {
    "duration": 11,
    "start_time": "2022-02-06T08:42:01.204Z"
   },
   {
    "duration": 10,
    "start_time": "2022-02-06T08:44:22.668Z"
   },
   {
    "duration": 11,
    "start_time": "2022-02-06T08:44:31.599Z"
   },
   {
    "duration": 11,
    "start_time": "2022-02-06T08:44:53.090Z"
   },
   {
    "duration": 11,
    "start_time": "2022-02-06T08:45:04.076Z"
   },
   {
    "duration": 10,
    "start_time": "2022-02-06T08:45:14.648Z"
   },
   {
    "duration": 10,
    "start_time": "2022-02-06T08:45:36.419Z"
   },
   {
    "duration": 14,
    "start_time": "2022-02-06T08:45:42.488Z"
   },
   {
    "duration": 10,
    "start_time": "2022-02-06T08:45:47.401Z"
   },
   {
    "duration": 12,
    "start_time": "2022-02-06T08:45:52.589Z"
   },
   {
    "duration": 12,
    "start_time": "2022-02-06T08:46:03.506Z"
   },
   {
    "duration": 10,
    "start_time": "2022-02-06T08:47:02.475Z"
   },
   {
    "duration": 11,
    "start_time": "2022-02-06T08:47:13.620Z"
   },
   {
    "duration": 10,
    "start_time": "2022-02-06T08:48:22.034Z"
   },
   {
    "duration": 9,
    "start_time": "2022-02-06T08:48:40.416Z"
   },
   {
    "duration": 320,
    "start_time": "2022-02-06T08:54:25.789Z"
   },
   {
    "duration": 255,
    "start_time": "2022-02-06T08:56:23.938Z"
   },
   {
    "duration": 345,
    "start_time": "2022-02-06T08:56:56.379Z"
   },
   {
    "duration": 5,
    "start_time": "2022-02-06T08:57:29.513Z"
   },
   {
    "duration": 300,
    "start_time": "2022-02-06T08:57:36.949Z"
   },
   {
    "duration": 1603,
    "start_time": "2022-02-06T08:57:51.685Z"
   },
   {
    "duration": 9,
    "start_time": "2022-02-06T08:59:12.914Z"
   },
   {
    "duration": 1667,
    "start_time": "2022-02-06T09:00:38.944Z"
   },
   {
    "duration": 8,
    "start_time": "2022-02-06T09:01:44.067Z"
   },
   {
    "duration": 9,
    "start_time": "2022-02-06T09:07:42.484Z"
   },
   {
    "duration": 8,
    "start_time": "2022-02-06T09:08:43.032Z"
   },
   {
    "duration": 8,
    "start_time": "2022-02-06T09:10:07.674Z"
   },
   {
    "duration": 9,
    "start_time": "2022-02-06T09:11:28.002Z"
   },
   {
    "duration": 8,
    "start_time": "2022-02-06T09:11:33.662Z"
   },
   {
    "duration": 767,
    "start_time": "2022-02-06T09:11:39.414Z"
   },
   {
    "duration": 10,
    "start_time": "2022-02-06T09:11:40.183Z"
   },
   {
    "duration": 30,
    "start_time": "2022-02-06T09:11:40.195Z"
   },
   {
    "duration": 16,
    "start_time": "2022-02-06T09:11:40.227Z"
   },
   {
    "duration": 38,
    "start_time": "2022-02-06T09:11:40.245Z"
   },
   {
    "duration": 41,
    "start_time": "2022-02-06T09:11:40.285Z"
   },
   {
    "duration": 577,
    "start_time": "2022-02-06T09:11:40.328Z"
   },
   {
    "duration": 32,
    "start_time": "2022-02-06T09:11:40.907Z"
   },
   {
    "duration": 1095,
    "start_time": "2022-02-06T09:11:40.940Z"
   },
   {
    "duration": 3,
    "start_time": "2022-02-06T09:11:42.037Z"
   },
   {
    "duration": 57,
    "start_time": "2022-02-06T09:11:42.043Z"
   },
   {
    "duration": 88,
    "start_time": "2022-02-06T09:11:42.102Z"
   },
   {
    "duration": 2,
    "start_time": "2022-02-06T09:11:42.192Z"
   },
   {
    "duration": 35,
    "start_time": "2022-02-06T09:11:42.195Z"
   },
   {
    "duration": 49,
    "start_time": "2022-02-06T09:11:42.232Z"
   },
   {
    "duration": 23,
    "start_time": "2022-02-06T09:11:42.282Z"
   },
   {
    "duration": 687,
    "start_time": "2022-02-06T09:12:17.982Z"
   },
   {
    "duration": 8,
    "start_time": "2022-02-06T09:12:27.782Z"
   },
   {
    "duration": 693,
    "start_time": "2022-02-06T09:12:39.337Z"
   },
   {
    "duration": 13,
    "start_time": "2022-02-06T09:12:40.033Z"
   },
   {
    "duration": 18,
    "start_time": "2022-02-06T09:12:40.049Z"
   },
   {
    "duration": 13,
    "start_time": "2022-02-06T09:12:40.069Z"
   },
   {
    "duration": 36,
    "start_time": "2022-02-06T09:12:40.084Z"
   },
   {
    "duration": 28,
    "start_time": "2022-02-06T09:12:40.122Z"
   },
   {
    "duration": 723,
    "start_time": "2022-02-06T09:12:40.152Z"
   },
   {
    "duration": 28,
    "start_time": "2022-02-06T09:12:40.877Z"
   },
   {
    "duration": 598,
    "start_time": "2022-02-06T09:12:40.907Z"
   },
   {
    "duration": 3,
    "start_time": "2022-02-06T09:12:41.507Z"
   },
   {
    "duration": 17,
    "start_time": "2022-02-06T09:12:41.511Z"
   },
   {
    "duration": 72,
    "start_time": "2022-02-06T09:12:41.530Z"
   },
   {
    "duration": 13,
    "start_time": "2022-02-06T09:12:41.605Z"
   },
   {
    "duration": 2,
    "start_time": "2022-02-06T09:12:41.620Z"
   },
   {
    "duration": 33,
    "start_time": "2022-02-06T09:12:41.624Z"
   },
   {
    "duration": 2,
    "start_time": "2022-02-06T09:12:41.659Z"
   },
   {
    "duration": 12,
    "start_time": "2022-02-06T09:13:44.158Z"
   },
   {
    "duration": 700,
    "start_time": "2022-02-06T09:13:52.307Z"
   },
   {
    "duration": 11,
    "start_time": "2022-02-06T09:13:53.009Z"
   },
   {
    "duration": 18,
    "start_time": "2022-02-06T09:13:53.022Z"
   },
   {
    "duration": 27,
    "start_time": "2022-02-06T09:13:53.041Z"
   },
   {
    "duration": 17,
    "start_time": "2022-02-06T09:13:53.070Z"
   },
   {
    "duration": 37,
    "start_time": "2022-02-06T09:13:53.088Z"
   },
   {
    "duration": 586,
    "start_time": "2022-02-06T09:13:53.127Z"
   },
   {
    "duration": 27,
    "start_time": "2022-02-06T09:13:53.716Z"
   },
   {
    "duration": 684,
    "start_time": "2022-02-06T09:13:53.745Z"
   },
   {
    "duration": 2,
    "start_time": "2022-02-06T09:13:54.432Z"
   },
   {
    "duration": 21,
    "start_time": "2022-02-06T09:13:54.436Z"
   },
   {
    "duration": 89,
    "start_time": "2022-02-06T09:13:54.459Z"
   },
   {
    "duration": 2,
    "start_time": "2022-02-06T09:13:54.550Z"
   },
   {
    "duration": 5,
    "start_time": "2022-02-06T09:13:54.554Z"
   },
   {
    "duration": 32,
    "start_time": "2022-02-06T09:13:54.561Z"
   },
   {
    "duration": 2,
    "start_time": "2022-02-06T09:13:54.595Z"
   },
   {
    "duration": 667,
    "start_time": "2022-02-06T09:14:51.773Z"
   },
   {
    "duration": 10,
    "start_time": "2022-02-06T09:14:52.442Z"
   },
   {
    "duration": 15,
    "start_time": "2022-02-06T09:14:52.455Z"
   },
   {
    "duration": 12,
    "start_time": "2022-02-06T09:14:52.473Z"
   },
   {
    "duration": 13,
    "start_time": "2022-02-06T09:14:52.486Z"
   },
   {
    "duration": 20,
    "start_time": "2022-02-06T09:14:52.501Z"
   },
   {
    "duration": 26,
    "start_time": "2022-02-06T09:14:52.523Z"
   },
   {
    "duration": 579,
    "start_time": "2022-02-06T09:14:52.552Z"
   },
   {
    "duration": 28,
    "start_time": "2022-02-06T09:14:53.132Z"
   },
   {
    "duration": 609,
    "start_time": "2022-02-06T09:14:53.161Z"
   },
   {
    "duration": 2,
    "start_time": "2022-02-06T09:14:53.772Z"
   },
   {
    "duration": 17,
    "start_time": "2022-02-06T09:14:53.776Z"
   },
   {
    "duration": 82,
    "start_time": "2022-02-06T09:14:53.795Z"
   },
   {
    "duration": 2,
    "start_time": "2022-02-06T09:14:53.879Z"
   },
   {
    "duration": 17,
    "start_time": "2022-02-06T09:14:53.882Z"
   },
   {
    "duration": 35,
    "start_time": "2022-02-06T09:14:53.901Z"
   },
   {
    "duration": 3,
    "start_time": "2022-02-06T09:14:53.937Z"
   },
   {
    "duration": 5,
    "start_time": "2022-02-06T09:15:41.059Z"
   },
   {
    "duration": 22,
    "start_time": "2022-02-06T09:16:03.993Z"
   },
   {
    "duration": 23,
    "start_time": "2022-02-06T09:17:25.065Z"
   },
   {
    "duration": 3,
    "start_time": "2022-02-06T09:17:33.482Z"
   },
   {
    "duration": 6,
    "start_time": "2022-02-06T09:17:58.647Z"
   },
   {
    "duration": 21,
    "start_time": "2022-02-06T09:18:32.092Z"
   },
   {
    "duration": 22,
    "start_time": "2022-02-06T09:18:54.996Z"
   },
   {
    "duration": 28,
    "start_time": "2022-02-06T09:19:07.771Z"
   },
   {
    "duration": 40,
    "start_time": "2022-02-06T09:19:20.811Z"
   },
   {
    "duration": 22,
    "start_time": "2022-02-06T09:19:35.999Z"
   },
   {
    "duration": 324,
    "start_time": "2022-02-06T09:19:54.369Z"
   },
   {
    "duration": 8,
    "start_time": "2022-02-06T09:21:20.061Z"
   },
   {
    "duration": 3332,
    "start_time": "2022-02-06T09:21:43.759Z"
   },
   {
    "duration": 3702,
    "start_time": "2022-02-06T09:21:50.460Z"
   },
   {
    "duration": 3288,
    "start_time": "2022-02-06T09:22:14.642Z"
   },
   {
    "duration": 742,
    "start_time": "2022-02-06T09:22:25.201Z"
   },
   {
    "duration": 11,
    "start_time": "2022-02-06T09:22:25.945Z"
   },
   {
    "duration": 16,
    "start_time": "2022-02-06T09:22:25.959Z"
   },
   {
    "duration": 19,
    "start_time": "2022-02-06T09:22:25.977Z"
   },
   {
    "duration": 27,
    "start_time": "2022-02-06T09:22:25.998Z"
   },
   {
    "duration": 11,
    "start_time": "2022-02-06T09:22:26.026Z"
   },
   {
    "duration": 28,
    "start_time": "2022-02-06T09:22:26.039Z"
   },
   {
    "duration": 687,
    "start_time": "2022-02-06T09:22:26.070Z"
   },
   {
    "duration": 31,
    "start_time": "2022-02-06T09:22:26.759Z"
   },
   {
    "duration": 577,
    "start_time": "2022-02-06T09:22:26.791Z"
   },
   {
    "duration": 2,
    "start_time": "2022-02-06T09:22:27.370Z"
   },
   {
    "duration": 17,
    "start_time": "2022-02-06T09:22:27.374Z"
   },
   {
    "duration": 113,
    "start_time": "2022-02-06T09:22:27.393Z"
   },
   {
    "duration": 18,
    "start_time": "2022-02-06T09:22:27.508Z"
   },
   {
    "duration": 100,
    "start_time": "2022-02-06T09:22:27.529Z"
   },
   {
    "duration": 93,
    "start_time": "2022-02-06T09:22:27.632Z"
   },
   {
    "duration": 93,
    "start_time": "2022-02-06T09:22:27.728Z"
   },
   {
    "duration": 19,
    "start_time": "2022-02-06T09:22:46.658Z"
   },
   {
    "duration": 90,
    "start_time": "2022-02-06T09:27:20.212Z"
   },
   {
    "duration": 83,
    "start_time": "2022-02-06T09:27:33.439Z"
   },
   {
    "duration": 701,
    "start_time": "2022-02-06T09:28:30.691Z"
   },
   {
    "duration": 86,
    "start_time": "2022-02-06T09:30:25.652Z"
   },
   {
    "duration": 89,
    "start_time": "2022-02-06T09:34:22.404Z"
   },
   {
    "duration": 332,
    "start_time": "2022-02-06T09:34:33.939Z"
   },
   {
    "duration": 98,
    "start_time": "2022-02-06T09:34:46.268Z"
   },
   {
    "duration": 158,
    "start_time": "2022-02-06T09:35:41.060Z"
   },
   {
    "duration": 85,
    "start_time": "2022-02-06T09:37:35.026Z"
   },
   {
    "duration": 1203,
    "start_time": "2022-02-06T09:39:56.405Z"
   },
   {
    "duration": 742,
    "start_time": "2022-02-06T09:40:24.818Z"
   },
   {
    "duration": 12,
    "start_time": "2022-02-06T09:40:25.562Z"
   },
   {
    "duration": 17,
    "start_time": "2022-02-06T09:40:25.576Z"
   },
   {
    "duration": 1279,
    "start_time": "2022-02-06T09:40:25.596Z"
   },
   {
    "duration": -282,
    "start_time": "2022-02-06T09:40:27.159Z"
   },
   {
    "duration": -326,
    "start_time": "2022-02-06T09:40:27.204Z"
   },
   {
    "duration": -330,
    "start_time": "2022-02-06T09:40:27.209Z"
   },
   {
    "duration": -335,
    "start_time": "2022-02-06T09:40:27.215Z"
   },
   {
    "duration": -339,
    "start_time": "2022-02-06T09:40:27.220Z"
   },
   {
    "duration": -344,
    "start_time": "2022-02-06T09:40:27.226Z"
   },
   {
    "duration": -349,
    "start_time": "2022-02-06T09:40:27.232Z"
   },
   {
    "duration": -354,
    "start_time": "2022-02-06T09:40:27.238Z"
   },
   {
    "duration": -357,
    "start_time": "2022-02-06T09:40:27.242Z"
   },
   {
    "duration": -362,
    "start_time": "2022-02-06T09:40:27.248Z"
   },
   {
    "duration": -365,
    "start_time": "2022-02-06T09:40:27.252Z"
   },
   {
    "duration": -370,
    "start_time": "2022-02-06T09:40:27.258Z"
   },
   {
    "duration": -402,
    "start_time": "2022-02-06T09:40:27.291Z"
   },
   {
    "duration": 22,
    "start_time": "2022-02-06T09:41:37.140Z"
   },
   {
    "duration": 29,
    "start_time": "2022-02-06T09:43:00.216Z"
   },
   {
    "duration": 22,
    "start_time": "2022-02-06T09:43:08.580Z"
   },
   {
    "duration": 22,
    "start_time": "2022-02-06T09:48:27.573Z"
   },
   {
    "duration": 697,
    "start_time": "2022-02-06T09:48:42.819Z"
   },
   {
    "duration": 10,
    "start_time": "2022-02-06T09:48:43.518Z"
   },
   {
    "duration": 15,
    "start_time": "2022-02-06T09:48:43.530Z"
   },
   {
    "duration": 1287,
    "start_time": "2022-02-06T09:48:43.547Z"
   },
   {
    "duration": -66,
    "start_time": "2022-02-06T09:48:44.902Z"
   },
   {
    "duration": -70,
    "start_time": "2022-02-06T09:48:44.907Z"
   },
   {
    "duration": -74,
    "start_time": "2022-02-06T09:48:44.912Z"
   },
   {
    "duration": -77,
    "start_time": "2022-02-06T09:48:44.916Z"
   },
   {
    "duration": -81,
    "start_time": "2022-02-06T09:48:44.921Z"
   },
   {
    "duration": -84,
    "start_time": "2022-02-06T09:48:44.925Z"
   },
   {
    "duration": -88,
    "start_time": "2022-02-06T09:48:44.930Z"
   },
   {
    "duration": -91,
    "start_time": "2022-02-06T09:48:44.934Z"
   },
   {
    "duration": -95,
    "start_time": "2022-02-06T09:48:44.939Z"
   },
   {
    "duration": -98,
    "start_time": "2022-02-06T09:48:44.943Z"
   },
   {
    "duration": -102,
    "start_time": "2022-02-06T09:48:44.948Z"
   },
   {
    "duration": -105,
    "start_time": "2022-02-06T09:48:44.952Z"
   },
   {
    "duration": -109,
    "start_time": "2022-02-06T09:48:44.957Z"
   },
   {
    "duration": 84,
    "start_time": "2022-02-06T09:49:16.488Z"
   },
   {
    "duration": 25,
    "start_time": "2022-02-06T09:51:01.346Z"
   },
   {
    "duration": 21,
    "start_time": "2022-02-06T09:54:17.675Z"
   },
   {
    "duration": 24,
    "start_time": "2022-02-06T09:54:25.372Z"
   },
   {
    "duration": 753,
    "start_time": "2022-02-06T09:54:40.090Z"
   },
   {
    "duration": 16,
    "start_time": "2022-02-06T09:54:40.846Z"
   },
   {
    "duration": 29,
    "start_time": "2022-02-06T09:54:40.865Z"
   },
   {
    "duration": 1738,
    "start_time": "2022-02-06T09:54:40.897Z"
   },
   {
    "duration": -63,
    "start_time": "2022-02-06T09:54:42.701Z"
   },
   {
    "duration": -65,
    "start_time": "2022-02-06T09:54:42.704Z"
   },
   {
    "duration": -65,
    "start_time": "2022-02-06T09:54:42.706Z"
   },
   {
    "duration": -67,
    "start_time": "2022-02-06T09:54:42.709Z"
   },
   {
    "duration": -69,
    "start_time": "2022-02-06T09:54:42.712Z"
   },
   {
    "duration": -70,
    "start_time": "2022-02-06T09:54:42.714Z"
   },
   {
    "duration": -71,
    "start_time": "2022-02-06T09:54:42.716Z"
   },
   {
    "duration": -72,
    "start_time": "2022-02-06T09:54:42.718Z"
   },
   {
    "duration": -73,
    "start_time": "2022-02-06T09:54:42.720Z"
   },
   {
    "duration": -74,
    "start_time": "2022-02-06T09:54:42.722Z"
   },
   {
    "duration": -75,
    "start_time": "2022-02-06T09:54:42.724Z"
   },
   {
    "duration": -76,
    "start_time": "2022-02-06T09:54:42.726Z"
   },
   {
    "duration": -76,
    "start_time": "2022-02-06T09:54:42.727Z"
   },
   {
    "duration": 22,
    "start_time": "2022-02-06T09:54:53.533Z"
   },
   {
    "duration": 8,
    "start_time": "2022-02-06T09:56:36.551Z"
   },
   {
    "duration": 1583,
    "start_time": "2022-02-06T09:57:26.776Z"
   },
   {
    "duration": 112,
    "start_time": "2022-02-06T10:00:12.963Z"
   },
   {
    "duration": 23,
    "start_time": "2022-02-06T10:00:23.279Z"
   },
   {
    "duration": 789,
    "start_time": "2022-02-06T10:00:33.920Z"
   },
   {
    "duration": 11,
    "start_time": "2022-02-06T10:00:34.712Z"
   },
   {
    "duration": 16,
    "start_time": "2022-02-06T10:00:34.725Z"
   },
   {
    "duration": 19,
    "start_time": "2022-02-06T10:00:34.743Z"
   },
   {
    "duration": 9,
    "start_time": "2022-02-06T10:00:34.763Z"
   },
   {
    "duration": 13,
    "start_time": "2022-02-06T10:00:34.773Z"
   },
   {
    "duration": 47,
    "start_time": "2022-02-06T10:00:34.788Z"
   },
   {
    "duration": 601,
    "start_time": "2022-02-06T10:00:34.837Z"
   },
   {
    "duration": 28,
    "start_time": "2022-02-06T10:00:35.440Z"
   },
   {
    "duration": 609,
    "start_time": "2022-02-06T10:00:35.470Z"
   },
   {
    "duration": 3,
    "start_time": "2022-02-06T10:00:36.081Z"
   },
   {
    "duration": 18,
    "start_time": "2022-02-06T10:00:36.086Z"
   },
   {
    "duration": 80,
    "start_time": "2022-02-06T10:00:36.106Z"
   },
   {
    "duration": 2,
    "start_time": "2022-02-06T10:00:36.188Z"
   },
   {
    "duration": 7,
    "start_time": "2022-02-06T10:00:36.192Z"
   },
   {
    "duration": 44,
    "start_time": "2022-02-06T10:00:36.201Z"
   },
   {
    "duration": 6,
    "start_time": "2022-02-06T10:00:36.247Z"
   },
   {
    "duration": 27,
    "start_time": "2022-02-06T10:00:56.581Z"
   },
   {
    "duration": 103,
    "start_time": "2022-02-06T10:06:17.344Z"
   },
   {
    "duration": 84,
    "start_time": "2022-02-06T10:06:24.098Z"
   },
   {
    "duration": 114,
    "start_time": "2022-02-06T10:06:43.058Z"
   },
   {
    "duration": 129,
    "start_time": "2022-02-06T10:12:39.483Z"
   },
   {
    "duration": 83,
    "start_time": "2022-02-06T10:12:51.833Z"
   },
   {
    "duration": 83,
    "start_time": "2022-02-06T10:13:03.793Z"
   },
   {
    "duration": 109,
    "start_time": "2022-02-06T10:13:30.234Z"
   },
   {
    "duration": 648,
    "start_time": "2022-02-06T10:13:39.170Z"
   },
   {
    "duration": 4,
    "start_time": "2022-02-06T10:13:52.861Z"
   },
   {
    "duration": 809,
    "start_time": "2022-02-06T10:17:54.912Z"
   },
   {
    "duration": 11,
    "start_time": "2022-02-06T10:17:55.724Z"
   },
   {
    "duration": 16,
    "start_time": "2022-02-06T10:17:55.737Z"
   },
   {
    "duration": 21,
    "start_time": "2022-02-06T10:17:55.755Z"
   },
   {
    "duration": 9,
    "start_time": "2022-02-06T10:17:55.778Z"
   },
   {
    "duration": 32,
    "start_time": "2022-02-06T10:17:55.788Z"
   },
   {
    "duration": 30,
    "start_time": "2022-02-06T10:17:55.821Z"
   },
   {
    "duration": 592,
    "start_time": "2022-02-06T10:17:55.853Z"
   },
   {
    "duration": 26,
    "start_time": "2022-02-06T10:17:56.447Z"
   },
   {
    "duration": 602,
    "start_time": "2022-02-06T10:17:56.475Z"
   },
   {
    "duration": 2,
    "start_time": "2022-02-06T10:17:57.079Z"
   },
   {
    "duration": 16,
    "start_time": "2022-02-06T10:17:57.083Z"
   },
   {
    "duration": 79,
    "start_time": "2022-02-06T10:17:57.101Z"
   },
   {
    "duration": 2,
    "start_time": "2022-02-06T10:17:57.182Z"
   },
   {
    "duration": 5,
    "start_time": "2022-02-06T10:17:57.186Z"
   },
   {
    "duration": 51,
    "start_time": "2022-02-06T10:17:57.192Z"
   },
   {
    "duration": 3,
    "start_time": "2022-02-06T10:17:57.245Z"
   },
   {
    "duration": 333,
    "start_time": "2022-02-06T10:19:10.261Z"
   },
   {
    "duration": 321,
    "start_time": "2022-02-06T10:19:16.196Z"
   },
   {
    "duration": 688,
    "start_time": "2022-02-06T10:19:23.145Z"
   },
   {
    "duration": 9,
    "start_time": "2022-02-06T10:19:23.835Z"
   },
   {
    "duration": 17,
    "start_time": "2022-02-06T10:19:23.846Z"
   },
   {
    "duration": 30,
    "start_time": "2022-02-06T10:19:23.865Z"
   },
   {
    "duration": 19,
    "start_time": "2022-02-06T10:19:23.897Z"
   },
   {
    "duration": 13,
    "start_time": "2022-02-06T10:19:23.918Z"
   },
   {
    "duration": 42,
    "start_time": "2022-02-06T10:19:23.933Z"
   },
   {
    "duration": 576,
    "start_time": "2022-02-06T10:19:23.977Z"
   },
   {
    "duration": 29,
    "start_time": "2022-02-06T10:19:24.555Z"
   },
   {
    "duration": 598,
    "start_time": "2022-02-06T10:19:24.585Z"
   },
   {
    "duration": 3,
    "start_time": "2022-02-06T10:19:25.185Z"
   },
   {
    "duration": 30,
    "start_time": "2022-02-06T10:19:25.189Z"
   },
   {
    "duration": 72,
    "start_time": "2022-02-06T10:19:25.221Z"
   },
   {
    "duration": 2,
    "start_time": "2022-02-06T10:19:25.295Z"
   },
   {
    "duration": 18,
    "start_time": "2022-02-06T10:19:25.299Z"
   },
   {
    "duration": 35,
    "start_time": "2022-02-06T10:19:25.320Z"
   },
   {
    "duration": 2,
    "start_time": "2022-02-06T10:19:25.357Z"
   },
   {
    "duration": 320,
    "start_time": "2022-02-06T10:19:52.580Z"
   },
   {
    "duration": 703,
    "start_time": "2022-02-06T10:20:06.746Z"
   },
   {
    "duration": 11,
    "start_time": "2022-02-06T10:20:07.450Z"
   },
   {
    "duration": 16,
    "start_time": "2022-02-06T10:20:07.463Z"
   },
   {
    "duration": 37,
    "start_time": "2022-02-06T10:20:07.482Z"
   },
   {
    "duration": 2,
    "start_time": "2022-02-06T10:20:07.521Z"
   },
   {
    "duration": 13,
    "start_time": "2022-02-06T10:20:07.525Z"
   },
   {
    "duration": 28,
    "start_time": "2022-02-06T10:20:07.539Z"
   },
   {
    "duration": 593,
    "start_time": "2022-02-06T10:20:07.569Z"
   },
   {
    "duration": 25,
    "start_time": "2022-02-06T10:20:08.164Z"
   },
   {
    "duration": 608,
    "start_time": "2022-02-06T10:20:08.191Z"
   },
   {
    "duration": 3,
    "start_time": "2022-02-06T10:20:08.801Z"
   },
   {
    "duration": 28,
    "start_time": "2022-02-06T10:20:08.806Z"
   },
   {
    "duration": 67,
    "start_time": "2022-02-06T10:20:08.836Z"
   },
   {
    "duration": 2,
    "start_time": "2022-02-06T10:20:08.905Z"
   },
   {
    "duration": 17,
    "start_time": "2022-02-06T10:20:08.909Z"
   },
   {
    "duration": 36,
    "start_time": "2022-02-06T10:20:08.928Z"
   },
   {
    "duration": 2,
    "start_time": "2022-02-06T10:20:08.966Z"
   },
   {
    "duration": 318,
    "start_time": "2022-02-06T10:22:09.392Z"
   },
   {
    "duration": 806,
    "start_time": "2022-02-06T10:22:14.638Z"
   },
   {
    "duration": 16,
    "start_time": "2022-02-06T10:22:15.446Z"
   },
   {
    "duration": 13,
    "start_time": "2022-02-06T10:22:15.464Z"
   },
   {
    "duration": 20,
    "start_time": "2022-02-06T10:22:15.478Z"
   },
   {
    "duration": 20,
    "start_time": "2022-02-06T10:22:15.499Z"
   },
   {
    "duration": 14,
    "start_time": "2022-02-06T10:22:15.521Z"
   },
   {
    "duration": 27,
    "start_time": "2022-02-06T10:22:15.537Z"
   },
   {
    "duration": 597,
    "start_time": "2022-02-06T10:22:15.566Z"
   },
   {
    "duration": 30,
    "start_time": "2022-02-06T10:22:16.165Z"
   },
   {
    "duration": 585,
    "start_time": "2022-02-06T10:22:16.197Z"
   },
   {
    "duration": 3,
    "start_time": "2022-02-06T10:22:16.784Z"
   },
   {
    "duration": 16,
    "start_time": "2022-02-06T10:22:16.788Z"
   },
   {
    "duration": 78,
    "start_time": "2022-02-06T10:22:16.806Z"
   },
   {
    "duration": 3,
    "start_time": "2022-02-06T10:22:16.885Z"
   },
   {
    "duration": 5,
    "start_time": "2022-02-06T10:22:16.889Z"
   },
   {
    "duration": 45,
    "start_time": "2022-02-06T10:22:16.896Z"
   },
   {
    "duration": 2,
    "start_time": "2022-02-06T10:22:16.944Z"
   },
   {
    "duration": 13,
    "start_time": "2022-02-06T10:35:52.042Z"
   },
   {
    "duration": 729,
    "start_time": "2022-02-06T10:38:21.288Z"
   },
   {
    "duration": 17,
    "start_time": "2022-02-06T10:38:22.019Z"
   },
   {
    "duration": 29,
    "start_time": "2022-02-06T10:38:22.038Z"
   },
   {
    "duration": 12,
    "start_time": "2022-02-06T10:38:22.069Z"
   },
   {
    "duration": 21,
    "start_time": "2022-02-06T10:38:22.082Z"
   },
   {
    "duration": 33,
    "start_time": "2022-02-06T10:38:22.105Z"
   },
   {
    "duration": 11,
    "start_time": "2022-02-06T10:38:22.140Z"
   },
   {
    "duration": 40,
    "start_time": "2022-02-06T10:38:22.152Z"
   },
   {
    "duration": 567,
    "start_time": "2022-02-06T10:38:22.195Z"
   },
   {
    "duration": 26,
    "start_time": "2022-02-06T10:38:22.763Z"
   },
   {
    "duration": 606,
    "start_time": "2022-02-06T10:38:22.790Z"
   },
   {
    "duration": 2,
    "start_time": "2022-02-06T10:38:23.398Z"
   },
   {
    "duration": 19,
    "start_time": "2022-02-06T10:38:23.402Z"
   },
   {
    "duration": 69,
    "start_time": "2022-02-06T10:38:23.423Z"
   },
   {
    "duration": 3,
    "start_time": "2022-02-06T10:38:23.493Z"
   },
   {
    "duration": 9,
    "start_time": "2022-02-06T10:38:23.497Z"
   },
   {
    "duration": 26,
    "start_time": "2022-02-06T10:38:23.517Z"
   },
   {
    "duration": 2,
    "start_time": "2022-02-06T10:38:23.545Z"
   },
   {
    "duration": 13,
    "start_time": "2022-02-06T10:42:52.978Z"
   },
   {
    "duration": 687,
    "start_time": "2022-02-06T10:43:05.876Z"
   },
   {
    "duration": 17,
    "start_time": "2022-02-06T10:43:06.565Z"
   },
   {
    "duration": 15,
    "start_time": "2022-02-06T10:43:06.584Z"
   },
   {
    "duration": 18,
    "start_time": "2022-02-06T10:43:06.601Z"
   },
   {
    "duration": 21,
    "start_time": "2022-02-06T10:43:06.621Z"
   },
   {
    "duration": 4,
    "start_time": "2022-02-06T10:43:06.644Z"
   },
   {
    "duration": 27,
    "start_time": "2022-02-06T10:43:06.650Z"
   },
   {
    "duration": 7,
    "start_time": "2022-02-06T10:43:06.680Z"
   },
   {
    "duration": 54,
    "start_time": "2022-02-06T10:43:06.689Z"
   },
   {
    "duration": 611,
    "start_time": "2022-02-06T10:43:06.746Z"
   },
   {
    "duration": 27,
    "start_time": "2022-02-06T10:43:07.358Z"
   },
   {
    "duration": 598,
    "start_time": "2022-02-06T10:43:07.387Z"
   },
   {
    "duration": 3,
    "start_time": "2022-02-06T10:43:07.987Z"
   },
   {
    "duration": 16,
    "start_time": "2022-02-06T10:43:07.992Z"
   },
   {
    "duration": 81,
    "start_time": "2022-02-06T10:43:08.009Z"
   },
   {
    "duration": 3,
    "start_time": "2022-02-06T10:43:08.092Z"
   },
   {
    "duration": 7,
    "start_time": "2022-02-06T10:43:08.096Z"
   },
   {
    "duration": 27,
    "start_time": "2022-02-06T10:43:08.119Z"
   },
   {
    "duration": 2,
    "start_time": "2022-02-06T10:43:08.148Z"
   },
   {
    "duration": 80,
    "start_time": "2022-02-06T10:44:18.691Z"
   },
   {
    "duration": 711,
    "start_time": "2022-02-06T10:44:54.530Z"
   },
   {
    "duration": 17,
    "start_time": "2022-02-06T10:44:55.244Z"
   },
   {
    "duration": 13,
    "start_time": "2022-02-06T10:44:55.264Z"
   },
   {
    "duration": 10,
    "start_time": "2022-02-06T10:44:55.279Z"
   },
   {
    "duration": 89,
    "start_time": "2022-02-06T10:44:55.291Z"
   },
   {
    "duration": -122,
    "start_time": "2022-02-06T10:44:55.505Z"
   },
   {
    "duration": -126,
    "start_time": "2022-02-06T10:44:55.511Z"
   },
   {
    "duration": -129,
    "start_time": "2022-02-06T10:44:55.516Z"
   },
   {
    "duration": -135,
    "start_time": "2022-02-06T10:44:55.523Z"
   },
   {
    "duration": -140,
    "start_time": "2022-02-06T10:44:55.529Z"
   },
   {
    "duration": -144,
    "start_time": "2022-02-06T10:44:55.535Z"
   },
   {
    "duration": -149,
    "start_time": "2022-02-06T10:44:55.541Z"
   },
   {
    "duration": -154,
    "start_time": "2022-02-06T10:44:55.547Z"
   },
   {
    "duration": -159,
    "start_time": "2022-02-06T10:44:55.554Z"
   },
   {
    "duration": -164,
    "start_time": "2022-02-06T10:44:55.560Z"
   },
   {
    "duration": -168,
    "start_time": "2022-02-06T10:44:55.565Z"
   },
   {
    "duration": -186,
    "start_time": "2022-02-06T10:44:55.585Z"
   },
   {
    "duration": -191,
    "start_time": "2022-02-06T10:44:55.591Z"
   },
   {
    "duration": -197,
    "start_time": "2022-02-06T10:44:55.598Z"
   },
   {
    "duration": 132,
    "start_time": "2022-02-06T10:45:15.496Z"
   },
   {
    "duration": 6,
    "start_time": "2022-02-06T10:45:21.002Z"
   },
   {
    "duration": 28,
    "start_time": "2022-02-06T10:45:31.514Z"
   },
   {
    "duration": 6362,
    "start_time": "2022-02-06T10:47:52.869Z"
   },
   {
    "duration": 698,
    "start_time": "2022-02-06T10:48:07.926Z"
   },
   {
    "duration": 15,
    "start_time": "2022-02-06T10:48:08.627Z"
   },
   {
    "duration": 46,
    "start_time": "2022-02-06T10:48:08.644Z"
   },
   {
    "duration": 29,
    "start_time": "2022-02-06T10:48:08.692Z"
   },
   {
    "duration": 7243,
    "start_time": "2022-02-06T10:48:08.723Z"
   },
   {
    "duration": -68,
    "start_time": "2022-02-06T10:48:16.036Z"
   },
   {
    "duration": -85,
    "start_time": "2022-02-06T10:48:16.054Z"
   },
   {
    "duration": -92,
    "start_time": "2022-02-06T10:48:16.062Z"
   },
   {
    "duration": -92,
    "start_time": "2022-02-06T10:48:16.064Z"
   },
   {
    "duration": -94,
    "start_time": "2022-02-06T10:48:16.066Z"
   },
   {
    "duration": -95,
    "start_time": "2022-02-06T10:48:16.068Z"
   },
   {
    "duration": -103,
    "start_time": "2022-02-06T10:48:16.077Z"
   },
   {
    "duration": -103,
    "start_time": "2022-02-06T10:48:16.079Z"
   },
   {
    "duration": -105,
    "start_time": "2022-02-06T10:48:16.081Z"
   },
   {
    "duration": -106,
    "start_time": "2022-02-06T10:48:16.083Z"
   },
   {
    "duration": -107,
    "start_time": "2022-02-06T10:48:16.085Z"
   },
   {
    "duration": -109,
    "start_time": "2022-02-06T10:48:16.088Z"
   },
   {
    "duration": -111,
    "start_time": "2022-02-06T10:48:16.091Z"
   },
   {
    "duration": -112,
    "start_time": "2022-02-06T10:48:16.093Z"
   },
   {
    "duration": 17,
    "start_time": "2022-02-06T10:48:30.777Z"
   },
   {
    "duration": 19,
    "start_time": "2022-02-06T10:48:58.038Z"
   },
   {
    "duration": 19,
    "start_time": "2022-02-06T10:49:25.556Z"
   },
   {
    "duration": 17,
    "start_time": "2022-02-06T10:52:34.190Z"
   },
   {
    "duration": 19,
    "start_time": "2022-02-06T10:52:49.272Z"
   },
   {
    "duration": 18,
    "start_time": "2022-02-06T10:57:24.182Z"
   },
   {
    "duration": 17,
    "start_time": "2022-02-06T10:57:43.166Z"
   },
   {
    "duration": 11,
    "start_time": "2022-02-06T10:59:50.874Z"
   },
   {
    "duration": 17,
    "start_time": "2022-02-06T11:00:06.623Z"
   },
   {
    "duration": 10,
    "start_time": "2022-02-06T11:00:28.656Z"
   },
   {
    "duration": 25,
    "start_time": "2022-02-06T11:04:56.088Z"
   },
   {
    "duration": 111,
    "start_time": "2022-02-06T11:06:48.852Z"
   },
   {
    "duration": 114,
    "start_time": "2022-02-06T11:07:00.529Z"
   },
   {
    "duration": 98,
    "start_time": "2022-02-06T11:08:57.036Z"
   },
   {
    "duration": 21,
    "start_time": "2022-02-06T11:10:01.688Z"
   },
   {
    "duration": 15,
    "start_time": "2022-02-06T11:12:07.671Z"
   },
   {
    "duration": 49,
    "start_time": "2022-02-06T11:13:08.678Z"
   },
   {
    "duration": 234,
    "start_time": "2022-02-06T11:19:05.348Z"
   },
   {
    "duration": 267,
    "start_time": "2022-02-06T11:19:15.529Z"
   },
   {
    "duration": 161,
    "start_time": "2022-02-06T11:19:33.881Z"
   },
   {
    "duration": 165,
    "start_time": "2022-02-06T11:19:46.908Z"
   },
   {
    "duration": 285,
    "start_time": "2022-02-06T11:20:01.294Z"
   },
   {
    "duration": 167,
    "start_time": "2022-02-06T11:20:19.736Z"
   },
   {
    "duration": 472,
    "start_time": "2022-02-06T11:23:00.683Z"
   },
   {
    "duration": 336,
    "start_time": "2022-02-06T11:23:14.425Z"
   },
   {
    "duration": 125,
    "start_time": "2022-02-06T11:25:04.375Z"
   },
   {
    "duration": 196,
    "start_time": "2022-02-06T11:25:11.098Z"
   },
   {
    "duration": 140,
    "start_time": "2022-02-06T11:26:02.285Z"
   },
   {
    "duration": 233,
    "start_time": "2022-02-06T11:27:06.757Z"
   },
   {
    "duration": 237,
    "start_time": "2022-02-06T11:27:17.559Z"
   },
   {
    "duration": 142,
    "start_time": "2022-02-06T11:31:36.593Z"
   },
   {
    "duration": 149,
    "start_time": "2022-02-06T11:31:47.539Z"
   },
   {
    "duration": 139,
    "start_time": "2022-02-06T11:32:02.609Z"
   },
   {
    "duration": 140,
    "start_time": "2022-02-06T11:33:16.145Z"
   },
   {
    "duration": 224,
    "start_time": "2022-02-06T11:34:02.135Z"
   },
   {
    "duration": 148,
    "start_time": "2022-02-06T11:34:25.828Z"
   },
   {
    "duration": 163,
    "start_time": "2022-02-06T11:34:44.777Z"
   },
   {
    "duration": 166,
    "start_time": "2022-02-06T11:35:17.742Z"
   },
   {
    "duration": 160,
    "start_time": "2022-02-06T11:35:32.772Z"
   },
   {
    "duration": 176,
    "start_time": "2022-02-06T11:36:14.278Z"
   },
   {
    "duration": 192,
    "start_time": "2022-02-06T11:36:23.930Z"
   },
   {
    "duration": 180,
    "start_time": "2022-02-06T11:36:48.436Z"
   },
   {
    "duration": 193,
    "start_time": "2022-02-06T11:37:11.802Z"
   },
   {
    "duration": 180,
    "start_time": "2022-02-06T11:37:22.179Z"
   },
   {
    "duration": 186,
    "start_time": "2022-02-06T11:37:29.826Z"
   },
   {
    "duration": 351,
    "start_time": "2022-02-06T11:37:40.011Z"
   },
   {
    "duration": 323,
    "start_time": "2022-02-06T11:37:50.326Z"
   },
   {
    "duration": 217,
    "start_time": "2022-02-06T11:39:35.954Z"
   },
   {
    "duration": 193,
    "start_time": "2022-02-06T11:40:37.275Z"
   },
   {
    "duration": 381,
    "start_time": "2022-02-06T11:41:30.319Z"
   },
   {
    "duration": 317,
    "start_time": "2022-02-06T11:42:14.861Z"
   },
   {
    "duration": 147,
    "start_time": "2022-02-06T11:42:20.782Z"
   },
   {
    "duration": 133,
    "start_time": "2022-02-06T11:43:12.829Z"
   },
   {
    "duration": 159,
    "start_time": "2022-02-06T11:43:30.012Z"
   },
   {
    "duration": 124,
    "start_time": "2022-02-06T11:43:42.859Z"
   },
   {
    "duration": 136,
    "start_time": "2022-02-06T11:43:48.741Z"
   },
   {
    "duration": 422,
    "start_time": "2022-02-06T11:44:36.929Z"
   },
   {
    "duration": 176,
    "start_time": "2022-02-06T11:44:46.775Z"
   },
   {
    "duration": 308,
    "start_time": "2022-02-06T11:45:35.236Z"
   },
   {
    "duration": 403,
    "start_time": "2022-02-06T11:46:02.383Z"
   },
   {
    "duration": 198,
    "start_time": "2022-02-06T11:46:17.733Z"
   },
   {
    "duration": 184,
    "start_time": "2022-02-06T11:46:51.511Z"
   },
   {
    "duration": 190,
    "start_time": "2022-02-06T11:47:07.493Z"
   },
   {
    "duration": 182,
    "start_time": "2022-02-06T11:47:42.310Z"
   },
   {
    "duration": 163,
    "start_time": "2022-02-06T11:47:51.048Z"
   },
   {
    "duration": 195,
    "start_time": "2022-02-06T11:48:07.800Z"
   },
   {
    "duration": 147,
    "start_time": "2022-02-06T11:48:11.849Z"
   },
   {
    "duration": 318,
    "start_time": "2022-02-06T11:50:00.291Z"
   },
   {
    "duration": 189,
    "start_time": "2022-02-06T11:50:24.425Z"
   },
   {
    "duration": 146,
    "start_time": "2022-02-06T11:51:29.559Z"
   },
   {
    "duration": 190,
    "start_time": "2022-02-06T11:53:44.700Z"
   },
   {
    "duration": 133,
    "start_time": "2022-02-06T11:54:43.155Z"
   },
   {
    "duration": 159,
    "start_time": "2022-02-06T11:55:02.194Z"
   },
   {
    "duration": 54,
    "start_time": "2022-02-06T12:58:26.360Z"
   },
   {
    "duration": 141,
    "start_time": "2022-02-06T13:00:13.402Z"
   },
   {
    "duration": 139,
    "start_time": "2022-02-06T13:00:21.793Z"
   },
   {
    "duration": 105,
    "start_time": "2022-02-06T13:02:02.078Z"
   },
   {
    "duration": 126,
    "start_time": "2022-02-06T13:02:14.819Z"
   },
   {
    "duration": 81,
    "start_time": "2022-02-06T13:02:29.389Z"
   },
   {
    "duration": 48,
    "start_time": "2022-02-06T13:02:58.127Z"
   },
   {
    "duration": 144,
    "start_time": "2022-02-06T13:03:44.623Z"
   },
   {
    "duration": 96,
    "start_time": "2022-02-06T13:05:15.631Z"
   },
   {
    "duration": 50,
    "start_time": "2022-02-06T13:05:21.334Z"
   },
   {
    "duration": 86,
    "start_time": "2022-02-06T13:05:26.686Z"
   },
   {
    "duration": 129,
    "start_time": "2022-02-06T13:06:49.016Z"
   },
   {
    "duration": 123,
    "start_time": "2022-02-06T13:07:15.271Z"
   },
   {
    "duration": 117,
    "start_time": "2022-02-06T13:08:05.558Z"
   },
   {
    "duration": 85,
    "start_time": "2022-02-06T13:08:16.764Z"
   },
   {
    "duration": 46,
    "start_time": "2022-02-06T13:08:59.445Z"
   },
   {
    "duration": 94,
    "start_time": "2022-02-06T13:09:44.383Z"
   },
   {
    "duration": 88,
    "start_time": "2022-02-06T13:10:03.388Z"
   },
   {
    "duration": 85,
    "start_time": "2022-02-06T13:10:38.742Z"
   },
   {
    "duration": 57,
    "start_time": "2022-02-06T13:11:19.644Z"
   },
   {
    "duration": 50,
    "start_time": "2022-02-06T13:11:30.872Z"
   },
   {
    "duration": 186,
    "start_time": "2022-02-06T13:11:38.160Z"
   },
   {
    "duration": 88,
    "start_time": "2022-02-06T13:11:58.255Z"
   },
   {
    "duration": 48,
    "start_time": "2022-02-06T13:12:02.365Z"
   },
   {
    "duration": 168,
    "start_time": "2022-02-06T13:12:28.646Z"
   },
   {
    "duration": 140,
    "start_time": "2022-02-06T13:12:39.280Z"
   },
   {
    "duration": 46,
    "start_time": "2022-02-06T13:13:34.111Z"
   },
   {
    "duration": 141,
    "start_time": "2022-02-06T13:14:53.190Z"
   },
   {
    "duration": 135,
    "start_time": "2022-02-06T13:15:01.229Z"
   },
   {
    "duration": 136,
    "start_time": "2022-02-06T13:15:08.822Z"
   },
   {
    "duration": 143,
    "start_time": "2022-02-06T13:15:18.982Z"
   },
   {
    "duration": 86,
    "start_time": "2022-02-06T13:16:00.195Z"
   },
   {
    "duration": 42,
    "start_time": "2022-02-06T13:22:06.137Z"
   },
   {
    "duration": 41,
    "start_time": "2022-02-06T13:22:47.688Z"
   },
   {
    "duration": 247,
    "start_time": "2022-02-06T13:27:21.165Z"
   },
   {
    "duration": 137,
    "start_time": "2022-02-06T13:27:29.423Z"
   },
   {
    "duration": 51,
    "start_time": "2022-02-06T13:28:32.521Z"
   },
   {
    "duration": 402,
    "start_time": "2022-02-06T13:30:17.319Z"
   },
   {
    "duration": 184,
    "start_time": "2022-02-06T13:31:03.458Z"
   },
   {
    "duration": 175,
    "start_time": "2022-02-06T13:31:14.374Z"
   },
   {
    "duration": 741,
    "start_time": "2022-02-06T13:32:50.577Z"
   },
   {
    "duration": 17,
    "start_time": "2022-02-06T13:32:51.319Z"
   },
   {
    "duration": 14,
    "start_time": "2022-02-06T13:32:51.338Z"
   },
   {
    "duration": 9,
    "start_time": "2022-02-06T13:32:51.354Z"
   },
   {
    "duration": 76,
    "start_time": "2022-02-06T13:32:51.365Z"
   },
   {
    "duration": 277,
    "start_time": "2022-02-06T13:32:51.443Z"
   },
   {
    "duration": 145,
    "start_time": "2022-02-06T13:32:51.722Z"
   },
   {
    "duration": 214,
    "start_time": "2022-02-06T13:32:51.870Z"
   },
   {
    "duration": 203,
    "start_time": "2022-02-06T13:32:52.087Z"
   },
   {
    "duration": 208,
    "start_time": "2022-02-06T13:32:52.292Z"
   },
   {
    "duration": 226,
    "start_time": "2022-02-06T13:32:52.502Z"
   },
   {
    "duration": 332,
    "start_time": "2022-02-06T13:32:52.731Z"
   },
   {
    "duration": 184,
    "start_time": "2022-02-06T13:32:53.066Z"
   },
   {
    "duration": 158,
    "start_time": "2022-02-06T13:32:53.252Z"
   },
   {
    "duration": 177,
    "start_time": "2022-02-06T13:32:53.412Z"
   },
   {
    "duration": 164,
    "start_time": "2022-02-06T13:32:53.591Z"
   },
   {
    "duration": 206,
    "start_time": "2022-02-06T13:32:53.756Z"
   },
   {
    "duration": 152,
    "start_time": "2022-02-06T13:32:53.963Z"
   },
   {
    "duration": 151,
    "start_time": "2022-02-06T13:32:54.119Z"
   },
   {
    "duration": 61,
    "start_time": "2022-02-06T13:32:54.272Z"
   },
   {
    "duration": 2,
    "start_time": "2022-02-06T13:32:54.335Z"
   },
   {
    "duration": 16,
    "start_time": "2022-02-06T13:32:54.339Z"
   },
   {
    "duration": 8,
    "start_time": "2022-02-06T13:32:54.359Z"
   },
   {
    "duration": 21,
    "start_time": "2022-02-06T13:32:54.369Z"
   },
   {
    "duration": 3,
    "start_time": "2022-02-06T13:32:54.391Z"
   },
   {
    "duration": 36,
    "start_time": "2022-02-06T13:32:54.395Z"
   },
   {
    "duration": 242,
    "start_time": "2022-02-06T13:32:54.433Z"
   },
   {
    "duration": 23,
    "start_time": "2022-02-06T13:32:54.677Z"
   },
   {
    "duration": 655,
    "start_time": "2022-02-06T13:32:54.702Z"
   },
   {
    "duration": 3,
    "start_time": "2022-02-06T13:32:55.360Z"
   },
   {
    "duration": 16,
    "start_time": "2022-02-06T13:32:55.365Z"
   },
   {
    "duration": 6,
    "start_time": "2022-02-06T13:32:55.383Z"
   },
   {
    "duration": 12,
    "start_time": "2022-02-06T13:32:55.391Z"
   },
   {
    "duration": 57,
    "start_time": "2022-02-06T13:32:55.405Z"
   },
   {
    "duration": 2,
    "start_time": "2022-02-06T13:32:55.464Z"
   },
   {
    "duration": 366,
    "start_time": "2022-02-06T13:35:05.888Z"
   },
   {
    "duration": 807,
    "start_time": "2022-02-06T13:35:14.542Z"
   },
   {
    "duration": 31,
    "start_time": "2022-02-06T13:35:15.352Z"
   },
   {
    "duration": 12,
    "start_time": "2022-02-06T13:35:15.385Z"
   },
   {
    "duration": 28,
    "start_time": "2022-02-06T13:35:15.400Z"
   },
   {
    "duration": 54,
    "start_time": "2022-02-06T13:35:15.430Z"
   },
   {
    "duration": 295,
    "start_time": "2022-02-06T13:35:15.486Z"
   },
   {
    "duration": 148,
    "start_time": "2022-02-06T13:35:15.783Z"
   },
   {
    "duration": 217,
    "start_time": "2022-02-06T13:35:15.933Z"
   },
   {
    "duration": 218,
    "start_time": "2022-02-06T13:35:16.152Z"
   },
   {
    "duration": 201,
    "start_time": "2022-02-06T13:35:16.372Z"
   },
   {
    "duration": 158,
    "start_time": "2022-02-06T13:35:16.575Z"
   },
   {
    "duration": 202,
    "start_time": "2022-02-06T13:35:16.735Z"
   },
   {
    "duration": 165,
    "start_time": "2022-02-06T13:35:16.940Z"
   },
   {
    "duration": 152,
    "start_time": "2022-02-06T13:35:17.107Z"
   },
   {
    "duration": 164,
    "start_time": "2022-02-06T13:35:17.261Z"
   },
   {
    "duration": 157,
    "start_time": "2022-02-06T13:35:17.427Z"
   },
   {
    "duration": 237,
    "start_time": "2022-02-06T13:35:17.587Z"
   },
   {
    "duration": 158,
    "start_time": "2022-02-06T13:35:17.826Z"
   },
   {
    "duration": 160,
    "start_time": "2022-02-06T13:35:17.986Z"
   },
   {
    "duration": 52,
    "start_time": "2022-02-06T13:35:18.148Z"
   },
   {
    "duration": 16,
    "start_time": "2022-02-06T13:35:18.203Z"
   },
   {
    "duration": 12,
    "start_time": "2022-02-06T13:35:18.221Z"
   },
   {
    "duration": 6,
    "start_time": "2022-02-06T13:35:18.236Z"
   },
   {
    "duration": 142,
    "start_time": "2022-02-06T13:35:18.244Z"
   },
   {
    "duration": 2,
    "start_time": "2022-02-06T13:35:18.389Z"
   },
   {
    "duration": 47,
    "start_time": "2022-02-06T13:35:18.394Z"
   },
   {
    "duration": 208,
    "start_time": "2022-02-06T13:35:18.444Z"
   },
   {
    "duration": 25,
    "start_time": "2022-02-06T13:35:18.655Z"
   },
   {
    "duration": 800,
    "start_time": "2022-02-06T13:35:18.682Z"
   },
   {
    "duration": 5,
    "start_time": "2022-02-06T13:35:19.485Z"
   },
   {
    "duration": 32,
    "start_time": "2022-02-06T13:35:19.492Z"
   },
   {
    "duration": 3,
    "start_time": "2022-02-06T13:35:19.526Z"
   },
   {
    "duration": 8,
    "start_time": "2022-02-06T13:35:19.531Z"
   },
   {
    "duration": 38,
    "start_time": "2022-02-06T13:35:19.540Z"
   },
   {
    "duration": 2,
    "start_time": "2022-02-06T13:35:19.580Z"
   },
   {
    "duration": 151,
    "start_time": "2022-02-06T13:37:00.575Z"
   },
   {
    "duration": 190,
    "start_time": "2022-02-06T13:38:32.214Z"
   },
   {
    "duration": 742,
    "start_time": "2022-02-06T13:38:49.881Z"
   },
   {
    "duration": 17,
    "start_time": "2022-02-06T13:38:50.625Z"
   },
   {
    "duration": 22,
    "start_time": "2022-02-06T13:38:50.644Z"
   },
   {
    "duration": 14,
    "start_time": "2022-02-06T13:38:50.668Z"
   },
   {
    "duration": 63,
    "start_time": "2022-02-06T13:38:50.684Z"
   },
   {
    "duration": 290,
    "start_time": "2022-02-06T13:38:50.749Z"
   },
   {
    "duration": 159,
    "start_time": "2022-02-06T13:38:51.041Z"
   },
   {
    "duration": 221,
    "start_time": "2022-02-06T13:38:51.203Z"
   },
   {
    "duration": 208,
    "start_time": "2022-02-06T13:38:51.426Z"
   },
   {
    "duration": 204,
    "start_time": "2022-02-06T13:38:51.636Z"
   },
   {
    "duration": 148,
    "start_time": "2022-02-06T13:38:51.842Z"
   },
   {
    "duration": 200,
    "start_time": "2022-02-06T13:38:51.992Z"
   },
   {
    "duration": 156,
    "start_time": "2022-02-06T13:38:52.193Z"
   },
   {
    "duration": 142,
    "start_time": "2022-02-06T13:38:52.351Z"
   },
   {
    "duration": 247,
    "start_time": "2022-02-06T13:38:52.496Z"
   },
   {
    "duration": 242,
    "start_time": "2022-02-06T13:38:52.745Z"
   },
   {
    "duration": 348,
    "start_time": "2022-02-06T13:38:52.990Z"
   },
   {
    "duration": 247,
    "start_time": "2022-02-06T13:38:53.341Z"
   },
   {
    "duration": 240,
    "start_time": "2022-02-06T13:38:53.590Z"
   },
   {
    "duration": 54,
    "start_time": "2022-02-06T13:38:53.832Z"
   },
   {
    "duration": 3,
    "start_time": "2022-02-06T13:38:53.888Z"
   },
   {
    "duration": 28,
    "start_time": "2022-02-06T13:38:53.894Z"
   },
   {
    "duration": 10,
    "start_time": "2022-02-06T13:38:53.927Z"
   },
   {
    "duration": 27,
    "start_time": "2022-02-06T13:38:53.940Z"
   },
   {
    "duration": 3,
    "start_time": "2022-02-06T13:38:53.969Z"
   },
   {
    "duration": 51,
    "start_time": "2022-02-06T13:38:53.975Z"
   },
   {
    "duration": 395,
    "start_time": "2022-02-06T13:38:54.029Z"
   },
   {
    "duration": 36,
    "start_time": "2022-02-06T13:38:54.427Z"
   },
   {
    "duration": 826,
    "start_time": "2022-02-06T13:38:54.465Z"
   },
   {
    "duration": 2,
    "start_time": "2022-02-06T13:38:55.294Z"
   },
   {
    "duration": 22,
    "start_time": "2022-02-06T13:38:55.298Z"
   },
   {
    "duration": 3,
    "start_time": "2022-02-06T13:38:55.323Z"
   },
   {
    "duration": 10,
    "start_time": "2022-02-06T13:38:55.328Z"
   },
   {
    "duration": 34,
    "start_time": "2022-02-06T13:38:55.340Z"
   },
   {
    "duration": 3,
    "start_time": "2022-02-06T13:38:55.375Z"
   },
   {
    "duration": 511,
    "start_time": "2022-02-06T13:39:18.357Z"
   },
   {
    "duration": 832,
    "start_time": "2022-02-06T13:39:24.518Z"
   },
   {
    "duration": 6,
    "start_time": "2022-02-06T13:39:25.352Z"
   },
   {
    "duration": 20,
    "start_time": "2022-02-06T13:39:25.362Z"
   },
   {
    "duration": 10,
    "start_time": "2022-02-06T13:39:25.385Z"
   },
   {
    "duration": 74,
    "start_time": "2022-02-06T13:39:25.396Z"
   },
   {
    "duration": 302,
    "start_time": "2022-02-06T13:39:25.472Z"
   },
   {
    "duration": 144,
    "start_time": "2022-02-06T13:39:25.777Z"
   },
   {
    "duration": 221,
    "start_time": "2022-02-06T13:39:25.924Z"
   },
   {
    "duration": 202,
    "start_time": "2022-02-06T13:39:26.147Z"
   },
   {
    "duration": 204,
    "start_time": "2022-02-06T13:39:26.351Z"
   },
   {
    "duration": 149,
    "start_time": "2022-02-06T13:39:26.557Z"
   },
   {
    "duration": 183,
    "start_time": "2022-02-06T13:39:26.707Z"
   },
   {
    "duration": 154,
    "start_time": "2022-02-06T13:39:26.892Z"
   },
   {
    "duration": 142,
    "start_time": "2022-02-06T13:39:27.048Z"
   },
   {
    "duration": 163,
    "start_time": "2022-02-06T13:39:27.192Z"
   },
   {
    "duration": 155,
    "start_time": "2022-02-06T13:39:27.358Z"
   },
   {
    "duration": 204,
    "start_time": "2022-02-06T13:39:27.518Z"
   },
   {
    "duration": 154,
    "start_time": "2022-02-06T13:39:27.724Z"
   },
   {
    "duration": 149,
    "start_time": "2022-02-06T13:39:27.880Z"
   },
   {
    "duration": 53,
    "start_time": "2022-02-06T13:39:28.031Z"
   },
   {
    "duration": 2,
    "start_time": "2022-02-06T13:39:28.087Z"
   },
   {
    "duration": 50,
    "start_time": "2022-02-06T13:39:28.091Z"
   },
   {
    "duration": 18,
    "start_time": "2022-02-06T13:39:28.144Z"
   },
   {
    "duration": 27,
    "start_time": "2022-02-06T13:39:28.164Z"
   },
   {
    "duration": 5,
    "start_time": "2022-02-06T13:39:28.193Z"
   },
   {
    "duration": 27,
    "start_time": "2022-02-06T13:39:28.200Z"
   },
   {
    "duration": 241,
    "start_time": "2022-02-06T13:39:28.229Z"
   },
   {
    "duration": 21,
    "start_time": "2022-02-06T13:39:28.472Z"
   },
   {
    "duration": 498,
    "start_time": "2022-02-06T13:39:28.495Z"
   },
   {
    "duration": 2,
    "start_time": "2022-02-06T13:39:28.996Z"
   },
   {
    "duration": 19,
    "start_time": "2022-02-06T13:39:29.000Z"
   },
   {
    "duration": 2,
    "start_time": "2022-02-06T13:39:29.021Z"
   },
   {
    "duration": 9,
    "start_time": "2022-02-06T13:39:29.025Z"
   },
   {
    "duration": 51,
    "start_time": "2022-02-06T13:39:29.037Z"
   },
   {
    "duration": 3,
    "start_time": "2022-02-06T13:39:29.091Z"
   },
   {
    "duration": 807,
    "start_time": "2022-02-06T13:42:21.441Z"
   },
   {
    "duration": 6,
    "start_time": "2022-02-06T13:42:22.250Z"
   },
   {
    "duration": 22,
    "start_time": "2022-02-06T13:42:22.258Z"
   },
   {
    "duration": 10,
    "start_time": "2022-02-06T13:42:22.283Z"
   },
   {
    "duration": 12,
    "start_time": "2022-02-06T13:42:22.295Z"
   },
   {
    "duration": 295,
    "start_time": "2022-02-06T13:42:22.309Z"
   },
   {
    "duration": 163,
    "start_time": "2022-02-06T13:42:22.607Z"
   },
   {
    "duration": 213,
    "start_time": "2022-02-06T13:42:22.774Z"
   },
   {
    "duration": 209,
    "start_time": "2022-02-06T13:42:22.989Z"
   },
   {
    "duration": 205,
    "start_time": "2022-02-06T13:42:23.200Z"
   },
   {
    "duration": 145,
    "start_time": "2022-02-06T13:42:23.407Z"
   },
   {
    "duration": 200,
    "start_time": "2022-02-06T13:42:23.555Z"
   },
   {
    "duration": 155,
    "start_time": "2022-02-06T13:42:23.757Z"
   },
   {
    "duration": 159,
    "start_time": "2022-02-06T13:42:23.913Z"
   },
   {
    "duration": 160,
    "start_time": "2022-02-06T13:42:24.075Z"
   },
   {
    "duration": 162,
    "start_time": "2022-02-06T13:42:24.237Z"
   },
   {
    "duration": 206,
    "start_time": "2022-02-06T13:42:24.401Z"
   },
   {
    "duration": 159,
    "start_time": "2022-02-06T13:42:24.609Z"
   },
   {
    "duration": 154,
    "start_time": "2022-02-06T13:42:24.771Z"
   },
   {
    "duration": 134,
    "start_time": "2022-02-06T13:42:24.927Z"
   },
   {
    "duration": 3,
    "start_time": "2022-02-06T13:42:25.064Z"
   },
   {
    "duration": 19,
    "start_time": "2022-02-06T13:42:25.068Z"
   },
   {
    "duration": 7,
    "start_time": "2022-02-06T13:42:25.090Z"
   },
   {
    "duration": 28,
    "start_time": "2022-02-06T13:42:25.099Z"
   },
   {
    "duration": 8,
    "start_time": "2022-02-06T13:42:25.129Z"
   },
   {
    "duration": 24,
    "start_time": "2022-02-06T13:42:25.139Z"
   },
   {
    "duration": 185,
    "start_time": "2022-02-06T13:42:25.164Z"
   },
   {
    "duration": 25,
    "start_time": "2022-02-06T13:42:25.351Z"
   },
   {
    "duration": 508,
    "start_time": "2022-02-06T13:42:25.378Z"
   },
   {
    "duration": 3,
    "start_time": "2022-02-06T13:42:25.889Z"
   },
   {
    "duration": 24,
    "start_time": "2022-02-06T13:42:25.894Z"
   },
   {
    "duration": 3,
    "start_time": "2022-02-06T13:42:25.920Z"
   },
   {
    "duration": 10,
    "start_time": "2022-02-06T13:42:25.925Z"
   },
   {
    "duration": 29,
    "start_time": "2022-02-06T13:42:25.937Z"
   },
   {
    "duration": 3,
    "start_time": "2022-02-06T13:42:25.968Z"
   },
   {
    "duration": 6969,
    "start_time": "2022-02-06T13:43:03.575Z"
   },
   {
    "duration": 789,
    "start_time": "2022-02-06T13:43:23.932Z"
   },
   {
    "duration": 7,
    "start_time": "2022-02-06T13:43:24.724Z"
   },
   {
    "duration": 15,
    "start_time": "2022-02-06T13:43:24.734Z"
   },
   {
    "duration": 21,
    "start_time": "2022-02-06T13:43:24.752Z"
   },
   {
    "duration": 6,
    "start_time": "2022-02-06T13:43:24.775Z"
   },
   {
    "duration": 6697,
    "start_time": "2022-02-06T13:43:24.783Z"
   },
   {
    "duration": -9,
    "start_time": "2022-02-06T13:43:31.493Z"
   },
   {
    "duration": -16,
    "start_time": "2022-02-06T13:43:31.502Z"
   },
   {
    "duration": -22,
    "start_time": "2022-02-06T13:43:31.509Z"
   },
   {
    "duration": -26,
    "start_time": "2022-02-06T13:43:31.515Z"
   },
   {
    "duration": -31,
    "start_time": "2022-02-06T13:43:31.521Z"
   },
   {
    "duration": -36,
    "start_time": "2022-02-06T13:43:31.527Z"
   },
   {
    "duration": -40,
    "start_time": "2022-02-06T13:43:31.533Z"
   },
   {
    "duration": -44,
    "start_time": "2022-02-06T13:43:31.538Z"
   },
   {
    "duration": -48,
    "start_time": "2022-02-06T13:43:31.543Z"
   },
   {
    "duration": -51,
    "start_time": "2022-02-06T13:43:31.547Z"
   },
   {
    "duration": -53,
    "start_time": "2022-02-06T13:43:31.550Z"
   },
   {
    "duration": -58,
    "start_time": "2022-02-06T13:43:31.556Z"
   },
   {
    "duration": -62,
    "start_time": "2022-02-06T13:43:31.561Z"
   },
   {
    "duration": -65,
    "start_time": "2022-02-06T13:43:31.565Z"
   },
   {
    "duration": -67,
    "start_time": "2022-02-06T13:43:31.569Z"
   },
   {
    "duration": -68,
    "start_time": "2022-02-06T13:43:31.572Z"
   },
   {
    "duration": -71,
    "start_time": "2022-02-06T13:43:31.576Z"
   },
   {
    "duration": -87,
    "start_time": "2022-02-06T13:43:31.593Z"
   },
   {
    "duration": -101,
    "start_time": "2022-02-06T13:43:31.608Z"
   },
   {
    "duration": -105,
    "start_time": "2022-02-06T13:43:31.613Z"
   },
   {
    "duration": -109,
    "start_time": "2022-02-06T13:43:31.618Z"
   },
   {
    "duration": -113,
    "start_time": "2022-02-06T13:43:31.623Z"
   },
   {
    "duration": -132,
    "start_time": "2022-02-06T13:43:31.643Z"
   },
   {
    "duration": -145,
    "start_time": "2022-02-06T13:43:31.657Z"
   },
   {
    "duration": -164,
    "start_time": "2022-02-06T13:43:31.677Z"
   },
   {
    "duration": -186,
    "start_time": "2022-02-06T13:43:31.700Z"
   },
   {
    "duration": -202,
    "start_time": "2022-02-06T13:43:31.717Z"
   },
   {
    "duration": -214,
    "start_time": "2022-02-06T13:43:31.730Z"
   },
   {
    "duration": -219,
    "start_time": "2022-02-06T13:43:31.736Z"
   },
   {
    "duration": 291,
    "start_time": "2022-02-06T13:43:39.483Z"
   },
   {
    "duration": 1029,
    "start_time": "2022-02-06T13:49:10.989Z"
   },
   {
    "duration": 7,
    "start_time": "2022-02-06T13:49:12.021Z"
   },
   {
    "duration": 27,
    "start_time": "2022-02-06T13:49:12.031Z"
   },
   {
    "duration": 11,
    "start_time": "2022-02-06T13:49:12.060Z"
   },
   {
    "duration": 8,
    "start_time": "2022-02-06T13:49:12.073Z"
   },
   {
    "duration": 502,
    "start_time": "2022-02-06T13:49:12.084Z"
   },
   {
    "duration": 171,
    "start_time": "2022-02-06T13:49:12.588Z"
   },
   {
    "duration": 223,
    "start_time": "2022-02-06T13:49:12.761Z"
   },
   {
    "duration": 220,
    "start_time": "2022-02-06T13:49:12.988Z"
   },
   {
    "duration": 213,
    "start_time": "2022-02-06T13:49:13.219Z"
   },
   {
    "duration": 170,
    "start_time": "2022-02-06T13:49:13.434Z"
   },
   {
    "duration": 205,
    "start_time": "2022-02-06T13:49:13.606Z"
   },
   {
    "duration": 172,
    "start_time": "2022-02-06T13:49:13.817Z"
   },
   {
    "duration": 155,
    "start_time": "2022-02-06T13:49:13.991Z"
   },
   {
    "duration": 175,
    "start_time": "2022-02-06T13:49:14.148Z"
   },
   {
    "duration": 250,
    "start_time": "2022-02-06T13:49:14.325Z"
   },
   {
    "duration": 211,
    "start_time": "2022-02-06T13:49:14.578Z"
   },
   {
    "duration": 147,
    "start_time": "2022-02-06T13:49:14.791Z"
   },
   {
    "duration": 157,
    "start_time": "2022-02-06T13:49:14.939Z"
   },
   {
    "duration": 134,
    "start_time": "2022-02-06T13:49:15.098Z"
   },
   {
    "duration": 3,
    "start_time": "2022-02-06T13:49:15.234Z"
   },
   {
    "duration": 8,
    "start_time": "2022-02-06T13:49:15.239Z"
   },
   {
    "duration": 11,
    "start_time": "2022-02-06T13:49:15.249Z"
   },
   {
    "duration": 21,
    "start_time": "2022-02-06T13:49:15.262Z"
   },
   {
    "duration": 6,
    "start_time": "2022-02-06T13:49:15.285Z"
   },
   {
    "duration": 54,
    "start_time": "2022-02-06T13:49:15.293Z"
   },
   {
    "duration": 197,
    "start_time": "2022-02-06T13:49:15.350Z"
   },
   {
    "duration": 23,
    "start_time": "2022-02-06T13:49:15.549Z"
   },
   {
    "duration": 644,
    "start_time": "2022-02-06T13:49:15.574Z"
   },
   {
    "duration": 3,
    "start_time": "2022-02-06T13:49:16.220Z"
   },
   {
    "duration": 23,
    "start_time": "2022-02-06T13:49:16.225Z"
   },
   {
    "duration": 4,
    "start_time": "2022-02-06T13:49:16.250Z"
   },
   {
    "duration": 15,
    "start_time": "2022-02-06T13:49:16.256Z"
   },
   {
    "duration": 35,
    "start_time": "2022-02-06T13:49:16.273Z"
   },
   {
    "duration": 9,
    "start_time": "2022-02-06T13:49:16.309Z"
   },
   {
    "duration": 59,
    "start_time": "2022-02-06T13:50:15.601Z"
   },
   {
    "duration": 860,
    "start_time": "2022-02-06T13:50:28.193Z"
   },
   {
    "duration": 8,
    "start_time": "2022-02-06T13:50:29.056Z"
   },
   {
    "duration": 25,
    "start_time": "2022-02-06T13:50:29.067Z"
   },
   {
    "duration": 25,
    "start_time": "2022-02-06T13:50:29.095Z"
   },
   {
    "duration": 82,
    "start_time": "2022-02-06T13:50:29.122Z"
   },
   {
    "duration": 502,
    "start_time": "2022-02-06T13:50:29.206Z"
   },
   {
    "duration": 153,
    "start_time": "2022-02-06T13:50:29.717Z"
   },
   {
    "duration": 308,
    "start_time": "2022-02-06T13:50:29.874Z"
   },
   {
    "duration": 223,
    "start_time": "2022-02-06T13:50:30.184Z"
   },
   {
    "duration": 204,
    "start_time": "2022-02-06T13:50:30.418Z"
   },
   {
    "duration": 157,
    "start_time": "2022-02-06T13:50:30.624Z"
   },
   {
    "duration": 196,
    "start_time": "2022-02-06T13:50:30.783Z"
   },
   {
    "duration": 178,
    "start_time": "2022-02-06T13:50:30.982Z"
   },
   {
    "duration": 246,
    "start_time": "2022-02-06T13:50:31.163Z"
   },
   {
    "duration": 260,
    "start_time": "2022-02-06T13:50:31.419Z"
   },
   {
    "duration": 269,
    "start_time": "2022-02-06T13:50:31.681Z"
   },
   {
    "duration": 347,
    "start_time": "2022-02-06T13:50:31.952Z"
   },
   {
    "duration": 247,
    "start_time": "2022-02-06T13:50:32.302Z"
   },
   {
    "duration": 243,
    "start_time": "2022-02-06T13:50:32.551Z"
   },
   {
    "duration": 96,
    "start_time": "2022-02-06T13:50:32.797Z"
   },
   {
    "duration": 3,
    "start_time": "2022-02-06T13:50:32.896Z"
   },
   {
    "duration": 33,
    "start_time": "2022-02-06T13:50:32.901Z"
   },
   {
    "duration": 2,
    "start_time": "2022-02-06T13:50:32.940Z"
   },
   {
    "duration": 28,
    "start_time": "2022-02-06T13:50:32.945Z"
   },
   {
    "duration": 5,
    "start_time": "2022-02-06T13:50:32.975Z"
   },
   {
    "duration": 48,
    "start_time": "2022-02-06T13:50:32.982Z"
   },
   {
    "duration": 294,
    "start_time": "2022-02-06T13:50:33.032Z"
   },
   {
    "duration": 27,
    "start_time": "2022-02-06T13:50:33.328Z"
   },
   {
    "duration": 529,
    "start_time": "2022-02-06T13:50:33.357Z"
   },
   {
    "duration": 3,
    "start_time": "2022-02-06T13:50:33.888Z"
   },
   {
    "duration": 31,
    "start_time": "2022-02-06T13:50:33.893Z"
   },
   {
    "duration": 4,
    "start_time": "2022-02-06T13:50:33.926Z"
   },
   {
    "duration": 4,
    "start_time": "2022-02-06T13:50:33.932Z"
   },
   {
    "duration": 30,
    "start_time": "2022-02-06T13:50:33.938Z"
   },
   {
    "duration": 2,
    "start_time": "2022-02-06T13:50:33.970Z"
   },
   {
    "duration": 929,
    "start_time": "2022-02-06T13:52:42.165Z"
   },
   {
    "duration": 8,
    "start_time": "2022-02-06T13:52:43.096Z"
   },
   {
    "duration": 25,
    "start_time": "2022-02-06T13:52:43.107Z"
   },
   {
    "duration": 12,
    "start_time": "2022-02-06T13:52:43.135Z"
   },
   {
    "duration": 82,
    "start_time": "2022-02-06T13:52:43.150Z"
   },
   {
    "duration": -42,
    "start_time": "2022-02-06T13:52:43.278Z"
   },
   {
    "duration": -79,
    "start_time": "2022-02-06T13:52:43.317Z"
   },
   {
    "duration": -90,
    "start_time": "2022-02-06T13:52:43.330Z"
   },
   {
    "duration": -94,
    "start_time": "2022-02-06T13:52:43.335Z"
   },
   {
    "duration": -95,
    "start_time": "2022-02-06T13:52:43.338Z"
   },
   {
    "duration": -98,
    "start_time": "2022-02-06T13:52:43.342Z"
   },
   {
    "duration": -99,
    "start_time": "2022-02-06T13:52:43.345Z"
   },
   {
    "duration": -104,
    "start_time": "2022-02-06T13:52:43.351Z"
   },
   {
    "duration": -107,
    "start_time": "2022-02-06T13:52:43.355Z"
   },
   {
    "duration": -109,
    "start_time": "2022-02-06T13:52:43.359Z"
   },
   {
    "duration": -111,
    "start_time": "2022-02-06T13:52:43.363Z"
   },
   {
    "duration": -115,
    "start_time": "2022-02-06T13:52:43.368Z"
   },
   {
    "duration": -118,
    "start_time": "2022-02-06T13:52:43.372Z"
   },
   {
    "duration": -119,
    "start_time": "2022-02-06T13:52:43.375Z"
   },
   {
    "duration": -123,
    "start_time": "2022-02-06T13:52:43.380Z"
   },
   {
    "duration": -137,
    "start_time": "2022-02-06T13:52:43.396Z"
   },
   {
    "duration": -155,
    "start_time": "2022-02-06T13:52:43.416Z"
   },
   {
    "duration": -158,
    "start_time": "2022-02-06T13:52:43.420Z"
   },
   {
    "duration": -159,
    "start_time": "2022-02-06T13:52:43.423Z"
   },
   {
    "duration": -174,
    "start_time": "2022-02-06T13:52:43.439Z"
   },
   {
    "duration": -177,
    "start_time": "2022-02-06T13:52:43.443Z"
   },
   {
    "duration": -181,
    "start_time": "2022-02-06T13:52:43.449Z"
   },
   {
    "duration": -184,
    "start_time": "2022-02-06T13:52:43.453Z"
   },
   {
    "duration": -185,
    "start_time": "2022-02-06T13:52:43.456Z"
   },
   {
    "duration": -188,
    "start_time": "2022-02-06T13:52:43.460Z"
   },
   {
    "duration": -191,
    "start_time": "2022-02-06T13:52:43.465Z"
   },
   {
    "duration": -151,
    "start_time": "2022-02-06T13:52:43.468Z"
   },
   {
    "duration": -154,
    "start_time": "2022-02-06T13:52:43.473Z"
   },
   {
    "duration": -155,
    "start_time": "2022-02-06T13:52:43.476Z"
   },
   {
    "duration": -157,
    "start_time": "2022-02-06T13:52:43.480Z"
   },
   {
    "duration": 795,
    "start_time": "2022-02-06T13:53:01.107Z"
   },
   {
    "duration": 5,
    "start_time": "2022-02-06T13:53:01.904Z"
   },
   {
    "duration": 21,
    "start_time": "2022-02-06T13:53:01.911Z"
   },
   {
    "duration": 11,
    "start_time": "2022-02-06T13:53:01.934Z"
   },
   {
    "duration": 78,
    "start_time": "2022-02-06T13:53:01.946Z"
   },
   {
    "duration": 339,
    "start_time": "2022-02-06T13:53:02.026Z"
   },
   {
    "duration": 178,
    "start_time": "2022-02-06T13:53:02.368Z"
   },
   {
    "duration": 212,
    "start_time": "2022-02-06T13:53:02.549Z"
   },
   {
    "duration": 203,
    "start_time": "2022-02-06T13:53:02.763Z"
   },
   {
    "duration": 213,
    "start_time": "2022-02-06T13:53:02.968Z"
   },
   {
    "duration": 157,
    "start_time": "2022-02-06T13:53:03.183Z"
   },
   {
    "duration": 207,
    "start_time": "2022-02-06T13:53:03.342Z"
   },
   {
    "duration": 173,
    "start_time": "2022-02-06T13:53:03.552Z"
   },
   {
    "duration": 241,
    "start_time": "2022-02-06T13:53:03.727Z"
   },
   {
    "duration": 261,
    "start_time": "2022-02-06T13:53:03.971Z"
   },
   {
    "duration": 184,
    "start_time": "2022-02-06T13:53:04.234Z"
   },
   {
    "duration": 351,
    "start_time": "2022-02-06T13:53:04.420Z"
   },
   {
    "duration": 245,
    "start_time": "2022-02-06T13:53:04.773Z"
   },
   {
    "duration": 197,
    "start_time": "2022-02-06T13:53:05.021Z"
   },
   {
    "duration": 69,
    "start_time": "2022-02-06T13:53:05.220Z"
   },
   {
    "duration": 3,
    "start_time": "2022-02-06T13:53:05.291Z"
   },
   {
    "duration": 37,
    "start_time": "2022-02-06T13:53:05.296Z"
   },
   {
    "duration": 26,
    "start_time": "2022-02-06T13:53:05.337Z"
   },
   {
    "duration": 32,
    "start_time": "2022-02-06T13:53:05.366Z"
   },
   {
    "duration": 18,
    "start_time": "2022-02-06T13:53:05.401Z"
   },
   {
    "duration": 32,
    "start_time": "2022-02-06T13:53:05.421Z"
   },
   {
    "duration": 228,
    "start_time": "2022-02-06T13:53:05.455Z"
   },
   {
    "duration": 37,
    "start_time": "2022-02-06T13:53:05.685Z"
   },
   {
    "duration": 553,
    "start_time": "2022-02-06T13:53:05.724Z"
   },
   {
    "duration": 3,
    "start_time": "2022-02-06T13:53:06.279Z"
   },
   {
    "duration": 17,
    "start_time": "2022-02-06T13:53:06.284Z"
   },
   {
    "duration": 2,
    "start_time": "2022-02-06T13:53:06.303Z"
   },
   {
    "duration": 3,
    "start_time": "2022-02-06T13:53:06.318Z"
   },
   {
    "duration": 31,
    "start_time": "2022-02-06T13:53:06.322Z"
   },
   {
    "duration": 2,
    "start_time": "2022-02-06T13:53:06.355Z"
   },
   {
    "duration": 751,
    "start_time": "2022-02-06T13:53:56.180Z"
   },
   {
    "duration": 6,
    "start_time": "2022-02-06T13:53:56.933Z"
   },
   {
    "duration": 30,
    "start_time": "2022-02-06T13:53:56.942Z"
   },
   {
    "duration": 22,
    "start_time": "2022-02-06T13:53:56.975Z"
   },
   {
    "duration": 67,
    "start_time": "2022-02-06T13:53:57.000Z"
   },
   {
    "duration": 361,
    "start_time": "2022-02-06T13:53:57.069Z"
   },
   {
    "duration": 201,
    "start_time": "2022-02-06T13:53:57.437Z"
   },
   {
    "duration": 260,
    "start_time": "2022-02-06T13:53:57.643Z"
   },
   {
    "duration": 272,
    "start_time": "2022-02-06T13:53:57.906Z"
   },
   {
    "duration": 224,
    "start_time": "2022-02-06T13:53:58.180Z"
   },
   {
    "duration": 191,
    "start_time": "2022-02-06T13:53:58.408Z"
   },
   {
    "duration": 247,
    "start_time": "2022-02-06T13:53:58.602Z"
   },
   {
    "duration": 178,
    "start_time": "2022-02-06T13:53:58.851Z"
   },
   {
    "duration": 157,
    "start_time": "2022-02-06T13:53:59.031Z"
   },
   {
    "duration": 166,
    "start_time": "2022-02-06T13:53:59.190Z"
   },
   {
    "duration": 172,
    "start_time": "2022-02-06T13:53:59.358Z"
   },
   {
    "duration": 248,
    "start_time": "2022-02-06T13:53:59.532Z"
   },
   {
    "duration": 171,
    "start_time": "2022-02-06T13:53:59.782Z"
   },
   {
    "duration": 200,
    "start_time": "2022-02-06T13:53:59.956Z"
   },
   {
    "duration": 70,
    "start_time": "2022-02-06T13:54:00.158Z"
   },
   {
    "duration": 3,
    "start_time": "2022-02-06T13:54:00.230Z"
   },
   {
    "duration": 72,
    "start_time": "2022-02-06T13:54:00.235Z"
   },
   {
    "duration": 13,
    "start_time": "2022-02-06T13:54:00.310Z"
   },
   {
    "duration": 32,
    "start_time": "2022-02-06T13:54:00.326Z"
   },
   {
    "duration": 11,
    "start_time": "2022-02-06T13:54:00.361Z"
   },
   {
    "duration": 34,
    "start_time": "2022-02-06T13:54:00.375Z"
   },
   {
    "duration": 276,
    "start_time": "2022-02-06T13:54:00.412Z"
   },
   {
    "duration": 38,
    "start_time": "2022-02-06T13:54:00.690Z"
   },
   {
    "duration": 1090,
    "start_time": "2022-02-06T13:54:00.729Z"
   },
   {
    "duration": 3,
    "start_time": "2022-02-06T13:54:01.822Z"
   },
   {
    "duration": 34,
    "start_time": "2022-02-06T13:54:01.827Z"
   },
   {
    "duration": 8,
    "start_time": "2022-02-06T13:54:01.863Z"
   },
   {
    "duration": 12,
    "start_time": "2022-02-06T13:54:01.873Z"
   },
   {
    "duration": 31,
    "start_time": "2022-02-06T13:54:01.887Z"
   },
   {
    "duration": 17,
    "start_time": "2022-02-06T13:54:01.921Z"
   },
   {
    "duration": 709,
    "start_time": "2022-02-06T13:54:54.666Z"
   },
   {
    "duration": 6,
    "start_time": "2022-02-06T13:54:55.377Z"
   },
   {
    "duration": 14,
    "start_time": "2022-02-06T13:54:55.384Z"
   },
   {
    "duration": 9,
    "start_time": "2022-02-06T13:54:55.418Z"
   },
   {
    "duration": 50,
    "start_time": "2022-02-06T13:54:55.428Z"
   },
   {
    "duration": 302,
    "start_time": "2022-02-06T13:54:55.480Z"
   },
   {
    "duration": 176,
    "start_time": "2022-02-06T13:54:55.784Z"
   },
   {
    "duration": 240,
    "start_time": "2022-02-06T13:54:55.963Z"
   },
   {
    "duration": 220,
    "start_time": "2022-02-06T13:54:56.205Z"
   },
   {
    "duration": 199,
    "start_time": "2022-02-06T13:54:56.427Z"
   },
   {
    "duration": 142,
    "start_time": "2022-02-06T13:54:56.628Z"
   },
   {
    "duration": 186,
    "start_time": "2022-02-06T13:54:56.771Z"
   },
   {
    "duration": 148,
    "start_time": "2022-02-06T13:54:56.959Z"
   },
   {
    "duration": 152,
    "start_time": "2022-02-06T13:54:57.109Z"
   },
   {
    "duration": 151,
    "start_time": "2022-02-06T13:54:57.262Z"
   },
   {
    "duration": 144,
    "start_time": "2022-02-06T13:54:57.415Z"
   },
   {
    "duration": 205,
    "start_time": "2022-02-06T13:54:57.560Z"
   },
   {
    "duration": 153,
    "start_time": "2022-02-06T13:54:57.767Z"
   },
   {
    "duration": 149,
    "start_time": "2022-02-06T13:54:57.922Z"
   },
   {
    "duration": 56,
    "start_time": "2022-02-06T13:54:58.073Z"
   },
   {
    "duration": 2,
    "start_time": "2022-02-06T13:54:58.131Z"
   },
   {
    "duration": 12,
    "start_time": "2022-02-06T13:54:58.135Z"
   },
   {
    "duration": 2,
    "start_time": "2022-02-06T13:54:58.151Z"
   },
   {
    "duration": 20,
    "start_time": "2022-02-06T13:54:58.155Z"
   },
   {
    "duration": 6,
    "start_time": "2022-02-06T13:54:58.177Z"
   },
   {
    "duration": 25,
    "start_time": "2022-02-06T13:54:58.218Z"
   },
   {
    "duration": 248,
    "start_time": "2022-02-06T13:54:58.245Z"
   },
   {
    "duration": 35,
    "start_time": "2022-02-06T13:54:58.495Z"
   },
   {
    "duration": 466,
    "start_time": "2022-02-06T13:54:58.532Z"
   },
   {
    "duration": 4,
    "start_time": "2022-02-06T13:54:59.000Z"
   },
   {
    "duration": 15,
    "start_time": "2022-02-06T13:54:59.006Z"
   },
   {
    "duration": 3,
    "start_time": "2022-02-06T13:54:59.023Z"
   },
   {
    "duration": 8,
    "start_time": "2022-02-06T13:54:59.028Z"
   },
   {
    "duration": 29,
    "start_time": "2022-02-06T13:54:59.038Z"
   },
   {
    "duration": 3,
    "start_time": "2022-02-06T13:54:59.069Z"
   },
   {
    "duration": 733,
    "start_time": "2022-02-06T13:56:24.785Z"
   },
   {
    "duration": 5,
    "start_time": "2022-02-06T13:56:25.520Z"
   },
   {
    "duration": 13,
    "start_time": "2022-02-06T13:56:25.527Z"
   },
   {
    "duration": 8,
    "start_time": "2022-02-06T13:56:25.542Z"
   },
   {
    "duration": 71,
    "start_time": "2022-02-06T13:56:25.552Z"
   },
   {
    "duration": 271,
    "start_time": "2022-02-06T13:56:25.624Z"
   },
   {
    "duration": 148,
    "start_time": "2022-02-06T13:56:25.896Z"
   },
   {
    "duration": 216,
    "start_time": "2022-02-06T13:56:26.046Z"
   },
   {
    "duration": 212,
    "start_time": "2022-02-06T13:56:26.264Z"
   },
   {
    "duration": 190,
    "start_time": "2022-02-06T13:56:26.478Z"
   },
   {
    "duration": 143,
    "start_time": "2022-02-06T13:56:26.669Z"
   },
   {
    "duration": 196,
    "start_time": "2022-02-06T13:56:26.818Z"
   },
   {
    "duration": 157,
    "start_time": "2022-02-06T13:56:27.016Z"
   },
   {
    "duration": 146,
    "start_time": "2022-02-06T13:56:27.174Z"
   },
   {
    "duration": 158,
    "start_time": "2022-02-06T13:56:27.321Z"
   },
   {
    "duration": 156,
    "start_time": "2022-02-06T13:56:27.481Z"
   },
   {
    "duration": 220,
    "start_time": "2022-02-06T13:56:27.639Z"
   },
   {
    "duration": 150,
    "start_time": "2022-02-06T13:56:27.860Z"
   },
   {
    "duration": 165,
    "start_time": "2022-02-06T13:56:28.012Z"
   },
   {
    "duration": 63,
    "start_time": "2022-02-06T13:56:28.179Z"
   },
   {
    "duration": 2,
    "start_time": "2022-02-06T13:56:28.244Z"
   },
   {
    "duration": 13,
    "start_time": "2022-02-06T13:56:28.248Z"
   },
   {
    "duration": 16,
    "start_time": "2022-02-06T13:56:28.266Z"
   },
   {
    "duration": 33,
    "start_time": "2022-02-06T13:56:28.284Z"
   },
   {
    "duration": 3,
    "start_time": "2022-02-06T13:56:28.319Z"
   },
   {
    "duration": 27,
    "start_time": "2022-02-06T13:56:28.325Z"
   },
   {
    "duration": 266,
    "start_time": "2022-02-06T13:56:28.354Z"
   },
   {
    "duration": 26,
    "start_time": "2022-02-06T13:56:28.621Z"
   },
   {
    "duration": 580,
    "start_time": "2022-02-06T13:56:28.648Z"
   },
   {
    "duration": 3,
    "start_time": "2022-02-06T13:56:29.230Z"
   },
   {
    "duration": 15,
    "start_time": "2022-02-06T13:56:29.235Z"
   },
   {
    "duration": 2,
    "start_time": "2022-02-06T13:56:29.252Z"
   },
   {
    "duration": 5,
    "start_time": "2022-02-06T13:56:29.255Z"
   },
   {
    "duration": 27,
    "start_time": "2022-02-06T13:56:29.262Z"
   },
   {
    "duration": 2,
    "start_time": "2022-02-06T13:56:29.290Z"
   },
   {
    "duration": 806,
    "start_time": "2022-02-06T13:57:32.191Z"
   },
   {
    "duration": 6,
    "start_time": "2022-02-06T13:57:32.998Z"
   },
   {
    "duration": 27,
    "start_time": "2022-02-06T13:57:33.006Z"
   },
   {
    "duration": 17,
    "start_time": "2022-02-06T13:57:33.035Z"
   },
   {
    "duration": 56,
    "start_time": "2022-02-06T13:57:33.054Z"
   },
   {
    "duration": 264,
    "start_time": "2022-02-06T13:57:33.111Z"
   },
   {
    "duration": 144,
    "start_time": "2022-02-06T13:57:33.377Z"
   },
   {
    "duration": 208,
    "start_time": "2022-02-06T13:57:33.523Z"
   },
   {
    "duration": 197,
    "start_time": "2022-02-06T13:57:33.734Z"
   },
   {
    "duration": 199,
    "start_time": "2022-02-06T13:57:33.933Z"
   },
   {
    "duration": 142,
    "start_time": "2022-02-06T13:57:34.134Z"
   },
   {
    "duration": 258,
    "start_time": "2022-02-06T13:57:34.278Z"
   },
   {
    "duration": 162,
    "start_time": "2022-02-06T13:57:34.538Z"
   },
   {
    "duration": 152,
    "start_time": "2022-02-06T13:57:34.702Z"
   },
   {
    "duration": 155,
    "start_time": "2022-02-06T13:57:34.856Z"
   },
   {
    "duration": 186,
    "start_time": "2022-02-06T13:57:35.013Z"
   },
   {
    "duration": 264,
    "start_time": "2022-02-06T13:57:35.201Z"
   },
   {
    "duration": 145,
    "start_time": "2022-02-06T13:57:35.467Z"
   },
   {
    "duration": 144,
    "start_time": "2022-02-06T13:57:35.618Z"
   },
   {
    "duration": 59,
    "start_time": "2022-02-06T13:57:35.764Z"
   },
   {
    "duration": 3,
    "start_time": "2022-02-06T13:57:35.824Z"
   },
   {
    "duration": 13,
    "start_time": "2022-02-06T13:57:35.829Z"
   },
   {
    "duration": 5,
    "start_time": "2022-02-06T13:57:35.845Z"
   },
   {
    "duration": 22,
    "start_time": "2022-02-06T13:57:35.852Z"
   },
   {
    "duration": 12,
    "start_time": "2022-02-06T13:57:35.876Z"
   },
   {
    "duration": 44,
    "start_time": "2022-02-06T13:57:35.890Z"
   },
   {
    "duration": 243,
    "start_time": "2022-02-06T13:57:35.936Z"
   },
   {
    "duration": 21,
    "start_time": "2022-02-06T13:57:36.181Z"
   },
   {
    "duration": 467,
    "start_time": "2022-02-06T13:57:36.204Z"
   },
   {
    "duration": 3,
    "start_time": "2022-02-06T13:57:36.673Z"
   },
   {
    "duration": 14,
    "start_time": "2022-02-06T13:57:36.678Z"
   },
   {
    "duration": 24,
    "start_time": "2022-02-06T13:57:36.694Z"
   },
   {
    "duration": 2,
    "start_time": "2022-02-06T13:57:36.720Z"
   },
   {
    "duration": 29,
    "start_time": "2022-02-06T13:57:36.724Z"
   },
   {
    "duration": 2,
    "start_time": "2022-02-06T13:57:36.755Z"
   },
   {
    "duration": 705,
    "start_time": "2022-02-06T14:06:14.562Z"
   },
   {
    "duration": 6,
    "start_time": "2022-02-06T14:06:15.270Z"
   },
   {
    "duration": 47,
    "start_time": "2022-02-06T14:06:15.279Z"
   },
   {
    "duration": 14,
    "start_time": "2022-02-06T14:06:15.328Z"
   },
   {
    "duration": 11,
    "start_time": "2022-02-06T14:06:15.345Z"
   },
   {
    "duration": 89,
    "start_time": "2022-02-06T14:06:15.359Z"
   },
   {
    "duration": 273,
    "start_time": "2022-02-06T14:06:15.449Z"
   },
   {
    "duration": 154,
    "start_time": "2022-02-06T14:06:15.725Z"
   },
   {
    "duration": 206,
    "start_time": "2022-02-06T14:06:15.882Z"
   },
   {
    "duration": 200,
    "start_time": "2022-02-06T14:06:16.091Z"
   },
   {
    "duration": 197,
    "start_time": "2022-02-06T14:06:16.293Z"
   },
   {
    "duration": 150,
    "start_time": "2022-02-06T14:06:16.491Z"
   },
   {
    "duration": 189,
    "start_time": "2022-02-06T14:06:16.643Z"
   },
   {
    "duration": 153,
    "start_time": "2022-02-06T14:06:16.834Z"
   },
   {
    "duration": 142,
    "start_time": "2022-02-06T14:06:16.989Z"
   },
   {
    "duration": 162,
    "start_time": "2022-02-06T14:06:17.133Z"
   },
   {
    "duration": 160,
    "start_time": "2022-02-06T14:06:17.296Z"
   },
   {
    "duration": 210,
    "start_time": "2022-02-06T14:06:17.458Z"
   },
   {
    "duration": 154,
    "start_time": "2022-02-06T14:06:17.670Z"
   },
   {
    "duration": 149,
    "start_time": "2022-02-06T14:06:17.826Z"
   },
   {
    "duration": 55,
    "start_time": "2022-02-06T14:06:17.977Z"
   },
   {
    "duration": 3,
    "start_time": "2022-02-06T14:06:18.033Z"
   },
   {
    "duration": 17,
    "start_time": "2022-02-06T14:06:18.037Z"
   },
   {
    "duration": 9,
    "start_time": "2022-02-06T14:06:18.056Z"
   },
   {
    "duration": 93,
    "start_time": "2022-02-06T14:06:18.067Z"
   },
   {
    "duration": 3,
    "start_time": "2022-02-06T14:06:18.163Z"
   },
   {
    "duration": 22,
    "start_time": "2022-02-06T14:06:18.168Z"
   },
   {
    "duration": 184,
    "start_time": "2022-02-06T14:06:18.191Z"
   },
   {
    "duration": 41,
    "start_time": "2022-02-06T14:06:18.377Z"
   },
   {
    "duration": 481,
    "start_time": "2022-02-06T14:06:18.420Z"
   },
   {
    "duration": 2,
    "start_time": "2022-02-06T14:06:18.904Z"
   },
   {
    "duration": 21,
    "start_time": "2022-02-06T14:06:18.908Z"
   },
   {
    "duration": 3,
    "start_time": "2022-02-06T14:06:18.931Z"
   },
   {
    "duration": 5,
    "start_time": "2022-02-06T14:06:18.936Z"
   },
   {
    "duration": 41,
    "start_time": "2022-02-06T14:06:18.944Z"
   },
   {
    "duration": 31,
    "start_time": "2022-02-06T14:06:18.987Z"
   },
   {
    "duration": 762,
    "start_time": "2022-02-06T14:07:18.609Z"
   },
   {
    "duration": 7,
    "start_time": "2022-02-06T14:07:19.374Z"
   },
   {
    "duration": 32,
    "start_time": "2022-02-06T14:07:19.387Z"
   },
   {
    "duration": 18,
    "start_time": "2022-02-06T14:07:19.422Z"
   },
   {
    "duration": 9,
    "start_time": "2022-02-06T14:07:19.442Z"
   },
   {
    "duration": 79,
    "start_time": "2022-02-06T14:07:19.453Z"
   },
   {
    "duration": 292,
    "start_time": "2022-02-06T14:07:19.535Z"
   },
   {
    "duration": 171,
    "start_time": "2022-02-06T14:07:19.830Z"
   },
   {
    "duration": 231,
    "start_time": "2022-02-06T14:07:20.004Z"
   },
   {
    "duration": 236,
    "start_time": "2022-02-06T14:07:20.237Z"
   },
   {
    "duration": 262,
    "start_time": "2022-02-06T14:07:20.475Z"
   },
   {
    "duration": 224,
    "start_time": "2022-02-06T14:07:20.739Z"
   },
   {
    "duration": 294,
    "start_time": "2022-02-06T14:07:20.966Z"
   },
   {
    "duration": 264,
    "start_time": "2022-02-06T14:07:21.262Z"
   },
   {
    "duration": 204,
    "start_time": "2022-02-06T14:07:21.529Z"
   },
   {
    "duration": 168,
    "start_time": "2022-02-06T14:07:21.736Z"
   },
   {
    "duration": 186,
    "start_time": "2022-02-06T14:07:21.906Z"
   },
   {
    "duration": 308,
    "start_time": "2022-02-06T14:07:22.093Z"
   },
   {
    "duration": 232,
    "start_time": "2022-02-06T14:07:22.404Z"
   },
   {
    "duration": 161,
    "start_time": "2022-02-06T14:07:22.639Z"
   },
   {
    "duration": 66,
    "start_time": "2022-02-06T14:07:22.803Z"
   },
   {
    "duration": 2,
    "start_time": "2022-02-06T14:07:22.874Z"
   },
   {
    "duration": 13,
    "start_time": "2022-02-06T14:07:22.879Z"
   },
   {
    "duration": 12,
    "start_time": "2022-02-06T14:07:22.894Z"
   },
   {
    "duration": 19,
    "start_time": "2022-02-06T14:07:22.918Z"
   },
   {
    "duration": 6,
    "start_time": "2022-02-06T14:07:22.939Z"
   },
   {
    "duration": 35,
    "start_time": "2022-02-06T14:07:22.947Z"
   },
   {
    "duration": 260,
    "start_time": "2022-02-06T14:07:22.984Z"
   },
   {
    "duration": 24,
    "start_time": "2022-02-06T14:07:23.247Z"
   },
   {
    "duration": 541,
    "start_time": "2022-02-06T14:07:23.273Z"
   },
   {
    "duration": 3,
    "start_time": "2022-02-06T14:07:23.817Z"
   },
   {
    "duration": 18,
    "start_time": "2022-02-06T14:07:23.823Z"
   },
   {
    "duration": 3,
    "start_time": "2022-02-06T14:07:23.844Z"
   },
   {
    "duration": 10,
    "start_time": "2022-02-06T14:07:23.850Z"
   },
   {
    "duration": 31,
    "start_time": "2022-02-06T14:07:23.862Z"
   },
   {
    "duration": 7,
    "start_time": "2022-02-06T14:07:23.919Z"
   },
   {
    "duration": 45,
    "start_time": "2022-02-06T14:19:08.976Z"
   },
   {
    "duration": 18,
    "start_time": "2022-02-06T14:19:29.336Z"
   },
   {
    "duration": 8,
    "start_time": "2022-02-06T14:23:08.211Z"
   },
   {
    "duration": 97,
    "start_time": "2022-02-06T14:25:17.646Z"
   },
   {
    "duration": 12,
    "start_time": "2022-02-06T14:25:35.053Z"
   },
   {
    "duration": 19,
    "start_time": "2022-02-06T14:26:44.092Z"
   },
   {
    "duration": 14,
    "start_time": "2022-02-06T14:27:00.990Z"
   },
   {
    "duration": 14,
    "start_time": "2022-02-06T14:27:16.133Z"
   },
   {
    "duration": 42,
    "start_time": "2022-02-06T14:28:23.605Z"
   },
   {
    "duration": 108,
    "start_time": "2022-02-06T14:29:30.150Z"
   },
   {
    "duration": 36,
    "start_time": "2022-02-06T14:29:40.760Z"
   },
   {
    "duration": 22,
    "start_time": "2022-02-06T14:30:17.847Z"
   },
   {
    "duration": 21,
    "start_time": "2022-02-06T14:30:54.754Z"
   },
   {
    "duration": 10,
    "start_time": "2022-02-06T14:31:15.010Z"
   },
   {
    "duration": 692,
    "start_time": "2022-02-06T14:31:33.845Z"
   },
   {
    "duration": 6,
    "start_time": "2022-02-06T14:31:34.539Z"
   },
   {
    "duration": 7,
    "start_time": "2022-02-06T14:31:34.548Z"
   },
   {
    "duration": 12,
    "start_time": "2022-02-06T14:31:34.558Z"
   },
   {
    "duration": 8,
    "start_time": "2022-02-06T14:31:34.572Z"
   },
   {
    "duration": 79,
    "start_time": "2022-02-06T14:31:34.582Z"
   },
   {
    "duration": 3,
    "start_time": "2022-02-06T14:31:34.663Z"
   },
   {
    "duration": 278,
    "start_time": "2022-02-06T14:31:34.669Z"
   },
   {
    "duration": 169,
    "start_time": "2022-02-06T14:31:34.949Z"
   },
   {
    "duration": 283,
    "start_time": "2022-02-06T14:31:35.121Z"
   },
   {
    "duration": 240,
    "start_time": "2022-02-06T14:31:35.407Z"
   },
   {
    "duration": 200,
    "start_time": "2022-02-06T14:31:35.649Z"
   },
   {
    "duration": 151,
    "start_time": "2022-02-06T14:31:35.851Z"
   },
   {
    "duration": 196,
    "start_time": "2022-02-06T14:31:36.004Z"
   },
   {
    "duration": 170,
    "start_time": "2022-02-06T14:31:36.201Z"
   },
   {
    "duration": 158,
    "start_time": "2022-02-06T14:31:36.374Z"
   },
   {
    "duration": 159,
    "start_time": "2022-02-06T14:31:36.534Z"
   },
   {
    "duration": 174,
    "start_time": "2022-02-06T14:31:36.695Z"
   },
   {
    "duration": 194,
    "start_time": "2022-02-06T14:31:36.870Z"
   },
   {
    "duration": 154,
    "start_time": "2022-02-06T14:31:37.066Z"
   },
   {
    "duration": 159,
    "start_time": "2022-02-06T14:31:37.222Z"
   },
   {
    "duration": 136,
    "start_time": "2022-02-06T14:31:37.383Z"
   },
   {
    "duration": 4,
    "start_time": "2022-02-06T14:31:37.524Z"
   },
   {
    "duration": 7,
    "start_time": "2022-02-06T14:31:37.530Z"
   },
   {
    "duration": 27,
    "start_time": "2022-02-06T14:31:37.538Z"
   },
   {
    "duration": 24,
    "start_time": "2022-02-06T14:31:37.567Z"
   },
   {
    "duration": 10,
    "start_time": "2022-02-06T14:31:37.619Z"
   },
   {
    "duration": 19,
    "start_time": "2022-02-06T14:31:37.631Z"
   },
   {
    "duration": 19,
    "start_time": "2022-02-06T14:31:37.652Z"
   },
   {
    "duration": 6,
    "start_time": "2022-02-06T14:31:37.673Z"
   },
   {
    "duration": 58,
    "start_time": "2022-02-06T14:31:37.681Z"
   },
   {
    "duration": 188,
    "start_time": "2022-02-06T14:31:37.741Z"
   },
   {
    "duration": 21,
    "start_time": "2022-02-06T14:31:37.931Z"
   },
   {
    "duration": 506,
    "start_time": "2022-02-06T14:31:37.954Z"
   },
   {
    "duration": 2,
    "start_time": "2022-02-06T14:31:38.463Z"
   },
   {
    "duration": 14,
    "start_time": "2022-02-06T14:31:38.467Z"
   },
   {
    "duration": 2,
    "start_time": "2022-02-06T14:31:38.483Z"
   },
   {
    "duration": 31,
    "start_time": "2022-02-06T14:31:38.487Z"
   },
   {
    "duration": 28,
    "start_time": "2022-02-06T14:31:38.520Z"
   },
   {
    "duration": 3,
    "start_time": "2022-02-06T14:31:38.549Z"
   },
   {
    "duration": 10,
    "start_time": "2022-02-06T14:34:30.605Z"
   },
   {
    "duration": 666,
    "start_time": "2022-02-06T14:34:37.258Z"
   },
   {
    "duration": 5,
    "start_time": "2022-02-06T14:34:37.926Z"
   },
   {
    "duration": 6,
    "start_time": "2022-02-06T14:34:37.933Z"
   },
   {
    "duration": 10,
    "start_time": "2022-02-06T14:34:37.941Z"
   },
   {
    "duration": 9,
    "start_time": "2022-02-06T14:34:37.954Z"
   },
   {
    "duration": 96,
    "start_time": "2022-02-06T14:34:37.966Z"
   },
   {
    "duration": 4,
    "start_time": "2022-02-06T14:34:38.064Z"
   },
   {
    "duration": 283,
    "start_time": "2022-02-06T14:34:38.072Z"
   },
   {
    "duration": 148,
    "start_time": "2022-02-06T14:34:38.357Z"
   },
   {
    "duration": 230,
    "start_time": "2022-02-06T14:34:38.507Z"
   },
   {
    "duration": 209,
    "start_time": "2022-02-06T14:34:38.738Z"
   },
   {
    "duration": 206,
    "start_time": "2022-02-06T14:34:38.949Z"
   },
   {
    "duration": 149,
    "start_time": "2022-02-06T14:34:39.157Z"
   },
   {
    "duration": 190,
    "start_time": "2022-02-06T14:34:39.308Z"
   },
   {
    "duration": 161,
    "start_time": "2022-02-06T14:34:39.499Z"
   },
   {
    "duration": 150,
    "start_time": "2022-02-06T14:34:39.661Z"
   },
   {
    "duration": 174,
    "start_time": "2022-02-06T14:34:39.818Z"
   },
   {
    "duration": 167,
    "start_time": "2022-02-06T14:34:39.994Z"
   },
   {
    "duration": 334,
    "start_time": "2022-02-06T14:34:40.163Z"
   },
   {
    "duration": 225,
    "start_time": "2022-02-06T14:34:40.500Z"
   },
   {
    "duration": 246,
    "start_time": "2022-02-06T14:34:40.727Z"
   },
   {
    "duration": 10,
    "start_time": "2022-02-06T14:34:40.975Z"
   },
   {
    "duration": 8,
    "start_time": "2022-02-06T14:34:40.989Z"
   },
   {
    "duration": 23,
    "start_time": "2022-02-06T14:34:40.999Z"
   },
   {
    "duration": 7,
    "start_time": "2022-02-06T14:34:41.024Z"
   },
   {
    "duration": 24,
    "start_time": "2022-02-06T14:34:41.032Z"
   },
   {
    "duration": 21,
    "start_time": "2022-02-06T14:34:41.058Z"
   },
   {
    "duration": 38,
    "start_time": "2022-02-06T14:34:41.081Z"
   },
   {
    "duration": 114,
    "start_time": "2022-02-06T14:34:41.122Z"
   },
   {
    "duration": 34,
    "start_time": "2022-02-06T14:34:41.239Z"
   },
   {
    "duration": 2,
    "start_time": "2022-02-06T14:34:41.275Z"
   },
   {
    "duration": 52,
    "start_time": "2022-02-06T14:34:41.279Z"
   },
   {
    "duration": 602,
    "start_time": "2022-02-06T14:34:41.333Z"
   },
   {
    "duration": 28,
    "start_time": "2022-02-06T14:34:41.936Z"
   },
   {
    "duration": 587,
    "start_time": "2022-02-06T14:34:41.967Z"
   },
   {
    "duration": 3,
    "start_time": "2022-02-06T14:34:42.556Z"
   },
   {
    "duration": 25,
    "start_time": "2022-02-06T14:34:42.561Z"
   },
   {
    "duration": 2,
    "start_time": "2022-02-06T14:34:42.589Z"
   },
   {
    "duration": 27,
    "start_time": "2022-02-06T14:34:42.593Z"
   },
   {
    "duration": 34,
    "start_time": "2022-02-06T14:34:42.622Z"
   },
   {
    "duration": 3,
    "start_time": "2022-02-06T14:34:42.658Z"
   },
   {
    "duration": 93,
    "start_time": "2022-02-06T14:35:16.690Z"
   },
   {
    "duration": 8,
    "start_time": "2022-02-06T14:35:16.786Z"
   },
   {
    "duration": 8,
    "start_time": "2022-02-06T14:35:16.796Z"
   },
   {
    "duration": 11,
    "start_time": "2022-02-06T14:35:16.819Z"
   },
   {
    "duration": 19,
    "start_time": "2022-02-06T14:35:16.832Z"
   },
   {
    "duration": 68,
    "start_time": "2022-02-06T14:35:16.853Z"
   },
   {
    "duration": 2,
    "start_time": "2022-02-06T14:35:16.924Z"
   },
   {
    "duration": 224,
    "start_time": "2022-02-06T14:35:16.928Z"
   },
   {
    "duration": 149,
    "start_time": "2022-02-06T14:35:17.155Z"
   },
   {
    "duration": 225,
    "start_time": "2022-02-06T14:35:17.306Z"
   },
   {
    "duration": 160,
    "start_time": "2022-02-06T14:35:17.533Z"
   },
   {
    "duration": 201,
    "start_time": "2022-02-06T14:35:17.695Z"
   },
   {
    "duration": 212,
    "start_time": "2022-02-06T14:35:17.898Z"
   },
   {
    "duration": 188,
    "start_time": "2022-02-06T14:35:18.112Z"
   },
   {
    "duration": 166,
    "start_time": "2022-02-06T14:35:18.302Z"
   },
   {
    "duration": 145,
    "start_time": "2022-02-06T14:35:18.470Z"
   },
   {
    "duration": 162,
    "start_time": "2022-02-06T14:35:18.617Z"
   },
   {
    "duration": 168,
    "start_time": "2022-02-06T14:35:18.781Z"
   },
   {
    "duration": 214,
    "start_time": "2022-02-06T14:35:18.952Z"
   },
   {
    "duration": 165,
    "start_time": "2022-02-06T14:35:19.169Z"
   },
   {
    "duration": 175,
    "start_time": "2022-02-06T14:35:19.337Z"
   },
   {
    "duration": 14,
    "start_time": "2022-02-06T14:35:19.514Z"
   },
   {
    "duration": 121,
    "start_time": "2022-02-06T14:36:05.071Z"
   },
   {
    "duration": 9,
    "start_time": "2022-02-06T14:36:05.195Z"
   },
   {
    "duration": 28,
    "start_time": "2022-02-06T14:36:05.207Z"
   },
   {
    "duration": 19,
    "start_time": "2022-02-06T14:36:05.238Z"
   },
   {
    "duration": 13,
    "start_time": "2022-02-06T14:36:05.259Z"
   },
   {
    "duration": 86,
    "start_time": "2022-02-06T14:36:05.275Z"
   },
   {
    "duration": 3,
    "start_time": "2022-02-06T14:36:05.363Z"
   },
   {
    "duration": 244,
    "start_time": "2022-02-06T14:36:05.369Z"
   },
   {
    "duration": 190,
    "start_time": "2022-02-06T14:36:05.620Z"
   },
   {
    "duration": 362,
    "start_time": "2022-02-06T14:36:05.812Z"
   },
   {
    "duration": 228,
    "start_time": "2022-02-06T14:36:06.177Z"
   },
   {
    "duration": 253,
    "start_time": "2022-02-06T14:36:06.408Z"
   },
   {
    "duration": 164,
    "start_time": "2022-02-06T14:36:06.664Z"
   },
   {
    "duration": 201,
    "start_time": "2022-02-06T14:36:06.829Z"
   },
   {
    "duration": 173,
    "start_time": "2022-02-06T14:36:07.033Z"
   },
   {
    "duration": 230,
    "start_time": "2022-02-06T14:36:07.208Z"
   },
   {
    "duration": 236,
    "start_time": "2022-02-06T14:36:07.440Z"
   },
   {
    "duration": 198,
    "start_time": "2022-02-06T14:36:07.678Z"
   },
   {
    "duration": 339,
    "start_time": "2022-02-06T14:36:07.878Z"
   },
   {
    "duration": 218,
    "start_time": "2022-02-06T14:36:08.219Z"
   },
   {
    "duration": 262,
    "start_time": "2022-02-06T14:36:08.439Z"
   },
   {
    "duration": 66,
    "start_time": "2022-02-06T14:36:08.703Z"
   },
   {
    "duration": 671,
    "start_time": "2022-02-06T14:36:16.851Z"
   },
   {
    "duration": 6,
    "start_time": "2022-02-06T14:36:17.524Z"
   },
   {
    "duration": 9,
    "start_time": "2022-02-06T14:36:17.532Z"
   },
   {
    "duration": 12,
    "start_time": "2022-02-06T14:36:17.543Z"
   },
   {
    "duration": 8,
    "start_time": "2022-02-06T14:36:17.558Z"
   },
   {
    "duration": 79,
    "start_time": "2022-02-06T14:36:17.568Z"
   },
   {
    "duration": 4,
    "start_time": "2022-02-06T14:36:17.649Z"
   },
   {
    "duration": 284,
    "start_time": "2022-02-06T14:36:17.657Z"
   },
   {
    "duration": 165,
    "start_time": "2022-02-06T14:36:17.944Z"
   },
   {
    "duration": 213,
    "start_time": "2022-02-06T14:36:18.118Z"
   },
   {
    "duration": 211,
    "start_time": "2022-02-06T14:36:18.334Z"
   },
   {
    "duration": 201,
    "start_time": "2022-02-06T14:36:18.547Z"
   },
   {
    "duration": 144,
    "start_time": "2022-02-06T14:36:18.750Z"
   },
   {
    "duration": 217,
    "start_time": "2022-02-06T14:36:18.895Z"
   },
   {
    "duration": 264,
    "start_time": "2022-02-06T14:36:19.115Z"
   },
   {
    "duration": 224,
    "start_time": "2022-02-06T14:36:19.382Z"
   },
   {
    "duration": 168,
    "start_time": "2022-02-06T14:36:19.609Z"
   },
   {
    "duration": 163,
    "start_time": "2022-02-06T14:36:19.780Z"
   },
   {
    "duration": 206,
    "start_time": "2022-02-06T14:36:19.945Z"
   },
   {
    "duration": 153,
    "start_time": "2022-02-06T14:36:20.153Z"
   },
   {
    "duration": 161,
    "start_time": "2022-02-06T14:36:20.307Z"
   },
   {
    "duration": 10,
    "start_time": "2022-02-06T14:36:20.470Z"
   },
   {
    "duration": 89,
    "start_time": "2022-02-06T14:36:20.484Z"
   },
   {
    "duration": 116,
    "start_time": "2022-02-06T14:36:20.459Z"
   },
   {
    "duration": 100,
    "start_time": "2022-02-06T14:36:20.476Z"
   },
   {
    "duration": 85,
    "start_time": "2022-02-06T14:36:20.492Z"
   },
   {
    "duration": 85,
    "start_time": "2022-02-06T14:36:20.493Z"
   },
   {
    "duration": 76,
    "start_time": "2022-02-06T14:36:20.503Z"
   },
   {
    "duration": 76,
    "start_time": "2022-02-06T14:36:20.504Z"
   },
   {
    "duration": 74,
    "start_time": "2022-02-06T14:36:20.506Z"
   },
   {
    "duration": 74,
    "start_time": "2022-02-06T14:36:20.507Z"
   },
   {
    "duration": 73,
    "start_time": "2022-02-06T14:36:20.509Z"
   },
   {
    "duration": 72,
    "start_time": "2022-02-06T14:36:20.511Z"
   },
   {
    "duration": 64,
    "start_time": "2022-02-06T14:36:20.520Z"
   },
   {
    "duration": 62,
    "start_time": "2022-02-06T14:36:20.522Z"
   },
   {
    "duration": 61,
    "start_time": "2022-02-06T14:36:20.524Z"
   },
   {
    "duration": 61,
    "start_time": "2022-02-06T14:36:20.525Z"
   },
   {
    "duration": 61,
    "start_time": "2022-02-06T14:36:20.526Z"
   },
   {
    "duration": 61,
    "start_time": "2022-02-06T14:36:20.527Z"
   },
   {
    "duration": 55,
    "start_time": "2022-02-06T14:36:20.534Z"
   },
   {
    "duration": 53,
    "start_time": "2022-02-06T14:36:20.536Z"
   },
   {
    "duration": 98,
    "start_time": "2022-02-06T14:36:49.310Z"
   },
   {
    "duration": 12,
    "start_time": "2022-02-06T14:36:49.410Z"
   },
   {
    "duration": 11,
    "start_time": "2022-02-06T14:36:49.424Z"
   },
   {
    "duration": 20,
    "start_time": "2022-02-06T14:36:49.437Z"
   },
   {
    "duration": 11,
    "start_time": "2022-02-06T14:36:49.459Z"
   },
   {
    "duration": 147,
    "start_time": "2022-02-06T14:36:49.472Z"
   },
   {
    "duration": 3,
    "start_time": "2022-02-06T14:36:49.621Z"
   },
   {
    "duration": 214,
    "start_time": "2022-02-06T14:36:49.626Z"
   },
   {
    "duration": 148,
    "start_time": "2022-02-06T14:36:49.843Z"
   },
   {
    "duration": 212,
    "start_time": "2022-02-06T14:36:49.993Z"
   },
   {
    "duration": 175,
    "start_time": "2022-02-06T14:36:50.207Z"
   },
   {
    "duration": 214,
    "start_time": "2022-02-06T14:36:50.385Z"
   },
   {
    "duration": 191,
    "start_time": "2022-02-06T14:36:50.601Z"
   },
   {
    "duration": 249,
    "start_time": "2022-02-06T14:36:50.794Z"
   },
   {
    "duration": 162,
    "start_time": "2022-02-06T14:36:51.045Z"
   },
   {
    "duration": 155,
    "start_time": "2022-02-06T14:36:51.209Z"
   },
   {
    "duration": 162,
    "start_time": "2022-02-06T14:36:51.366Z"
   },
   {
    "duration": 162,
    "start_time": "2022-02-06T14:36:51.530Z"
   },
   {
    "duration": 297,
    "start_time": "2022-02-06T14:36:51.694Z"
   },
   {
    "duration": 160,
    "start_time": "2022-02-06T14:36:51.993Z"
   },
   {
    "duration": 156,
    "start_time": "2022-02-06T14:36:52.155Z"
   },
   {
    "duration": 14,
    "start_time": "2022-02-06T14:36:52.313Z"
   },
   {
    "duration": 804,
    "start_time": "2022-02-06T14:37:05.301Z"
   },
   {
    "duration": 6,
    "start_time": "2022-02-06T14:37:06.108Z"
   },
   {
    "duration": 7,
    "start_time": "2022-02-06T14:37:06.116Z"
   },
   {
    "duration": 14,
    "start_time": "2022-02-06T14:37:06.125Z"
   },
   {
    "duration": 10,
    "start_time": "2022-02-06T14:37:06.142Z"
   },
   {
    "duration": 89,
    "start_time": "2022-02-06T14:37:06.154Z"
   },
   {
    "duration": 3,
    "start_time": "2022-02-06T14:37:06.245Z"
   },
   {
    "duration": 311,
    "start_time": "2022-02-06T14:37:06.251Z"
   },
   {
    "duration": 226,
    "start_time": "2022-02-06T14:37:06.566Z"
   },
   {
    "duration": 285,
    "start_time": "2022-02-06T14:37:06.795Z"
   },
   {
    "duration": 270,
    "start_time": "2022-02-06T14:37:07.082Z"
   },
   {
    "duration": 274,
    "start_time": "2022-02-06T14:37:07.354Z"
   },
   {
    "duration": 159,
    "start_time": "2022-02-06T14:37:07.630Z"
   },
   {
    "duration": 213,
    "start_time": "2022-02-06T14:37:07.792Z"
   },
   {
    "duration": 214,
    "start_time": "2022-02-06T14:37:08.007Z"
   },
   {
    "duration": 219,
    "start_time": "2022-02-06T14:37:08.224Z"
   },
   {
    "duration": 223,
    "start_time": "2022-02-06T14:37:08.445Z"
   },
   {
    "duration": 169,
    "start_time": "2022-02-06T14:37:08.670Z"
   },
   {
    "duration": 215,
    "start_time": "2022-02-06T14:37:08.842Z"
   },
   {
    "duration": 151,
    "start_time": "2022-02-06T14:37:09.059Z"
   },
   {
    "duration": 165,
    "start_time": "2022-02-06T14:37:09.212Z"
   },
   {
    "duration": 11,
    "start_time": "2022-02-06T14:37:09.379Z"
   },
   {
    "duration": 34,
    "start_time": "2022-02-06T14:37:09.392Z"
   },
   {
    "duration": 4,
    "start_time": "2022-02-06T14:37:09.428Z"
   },
   {
    "duration": 9,
    "start_time": "2022-02-06T14:37:09.434Z"
   },
   {
    "duration": 114,
    "start_time": "2022-02-06T14:37:09.446Z"
   },
   {
    "duration": 21,
    "start_time": "2022-02-06T14:37:09.564Z"
   },
   {
    "duration": 35,
    "start_time": "2022-02-06T14:37:09.587Z"
   },
   {
    "duration": 24,
    "start_time": "2022-02-06T14:37:09.624Z"
   },
   {
    "duration": 23,
    "start_time": "2022-02-06T14:37:09.650Z"
   },
   {
    "duration": 4,
    "start_time": "2022-02-06T14:37:09.676Z"
   },
   {
    "duration": 62,
    "start_time": "2022-02-06T14:37:09.682Z"
   },
   {
    "duration": 685,
    "start_time": "2022-02-06T14:37:09.746Z"
   },
   {
    "duration": 24,
    "start_time": "2022-02-06T14:37:10.433Z"
   },
   {
    "duration": 499,
    "start_time": "2022-02-06T14:37:10.459Z"
   },
   {
    "duration": 3,
    "start_time": "2022-02-06T14:37:10.960Z"
   },
   {
    "duration": 16,
    "start_time": "2022-02-06T14:37:10.965Z"
   },
   {
    "duration": 2,
    "start_time": "2022-02-06T14:37:10.983Z"
   },
   {
    "duration": 6,
    "start_time": "2022-02-06T14:37:10.987Z"
   },
   {
    "duration": 32,
    "start_time": "2022-02-06T14:37:11.019Z"
   },
   {
    "duration": 2,
    "start_time": "2022-02-06T14:37:11.053Z"
   },
   {
    "duration": 739,
    "start_time": "2022-02-06T14:37:30.326Z"
   },
   {
    "duration": 6,
    "start_time": "2022-02-06T14:37:31.068Z"
   },
   {
    "duration": 12,
    "start_time": "2022-02-06T14:37:31.076Z"
   },
   {
    "duration": 33,
    "start_time": "2022-02-06T14:37:31.090Z"
   },
   {
    "duration": 35,
    "start_time": "2022-02-06T14:37:31.126Z"
   },
   {
    "duration": 61,
    "start_time": "2022-02-06T14:37:31.163Z"
   },
   {
    "duration": 2,
    "start_time": "2022-02-06T14:37:31.226Z"
   },
   {
    "duration": 293,
    "start_time": "2022-02-06T14:37:31.231Z"
   },
   {
    "duration": 144,
    "start_time": "2022-02-06T14:37:31.526Z"
   },
   {
    "duration": 211,
    "start_time": "2022-02-06T14:37:31.672Z"
   },
   {
    "duration": 209,
    "start_time": "2022-02-06T14:37:31.884Z"
   },
   {
    "duration": 194,
    "start_time": "2022-02-06T14:37:32.095Z"
   },
   {
    "duration": 148,
    "start_time": "2022-02-06T14:37:32.291Z"
   },
   {
    "duration": 191,
    "start_time": "2022-02-06T14:37:32.441Z"
   },
   {
    "duration": 152,
    "start_time": "2022-02-06T14:37:32.634Z"
   },
   {
    "duration": 134,
    "start_time": "2022-02-06T14:37:32.788Z"
   },
   {
    "duration": 162,
    "start_time": "2022-02-06T14:37:32.924Z"
   },
   {
    "duration": 151,
    "start_time": "2022-02-06T14:37:33.089Z"
   },
   {
    "duration": 202,
    "start_time": "2022-02-06T14:37:33.242Z"
   },
   {
    "duration": 147,
    "start_time": "2022-02-06T14:37:33.446Z"
   },
   {
    "duration": 149,
    "start_time": "2022-02-06T14:37:33.595Z"
   },
   {
    "duration": 10,
    "start_time": "2022-02-06T14:37:33.746Z"
   },
   {
    "duration": 450,
    "start_time": "2022-02-06T14:37:33.760Z"
   },
   {
    "duration": 50,
    "start_time": "2022-02-06T14:37:34.162Z"
   },
   {
    "duration": 48,
    "start_time": "2022-02-06T14:37:34.165Z"
   },
   {
    "duration": 41,
    "start_time": "2022-02-06T14:37:34.173Z"
   },
   {
    "duration": 39,
    "start_time": "2022-02-06T14:37:34.177Z"
   },
   {
    "duration": 37,
    "start_time": "2022-02-06T14:37:34.179Z"
   },
   {
    "duration": 36,
    "start_time": "2022-02-06T14:37:34.181Z"
   },
   {
    "duration": 31,
    "start_time": "2022-02-06T14:37:34.187Z"
   },
   {
    "duration": 29,
    "start_time": "2022-02-06T14:37:34.190Z"
   },
   {
    "duration": 29,
    "start_time": "2022-02-06T14:37:34.191Z"
   },
   {
    "duration": 28,
    "start_time": "2022-02-06T14:37:34.193Z"
   },
   {
    "duration": 28,
    "start_time": "2022-02-06T14:37:34.194Z"
   },
   {
    "duration": 28,
    "start_time": "2022-02-06T14:37:34.195Z"
   },
   {
    "duration": 28,
    "start_time": "2022-02-06T14:37:34.196Z"
   },
   {
    "duration": 27,
    "start_time": "2022-02-06T14:37:34.198Z"
   },
   {
    "duration": 20,
    "start_time": "2022-02-06T14:37:34.206Z"
   },
   {
    "duration": 19,
    "start_time": "2022-02-06T14:37:34.208Z"
   },
   {
    "duration": 19,
    "start_time": "2022-02-06T14:37:34.209Z"
   },
   {
    "duration": 18,
    "start_time": "2022-02-06T14:37:34.211Z"
   },
   {
    "duration": 759,
    "start_time": "2022-02-06T14:38:04.442Z"
   },
   {
    "duration": 5,
    "start_time": "2022-02-06T14:38:05.203Z"
   },
   {
    "duration": 20,
    "start_time": "2022-02-06T14:38:05.210Z"
   },
   {
    "duration": 13,
    "start_time": "2022-02-06T14:38:05.232Z"
   },
   {
    "duration": 18,
    "start_time": "2022-02-06T14:38:05.246Z"
   },
   {
    "duration": 58,
    "start_time": "2022-02-06T14:38:05.266Z"
   },
   {
    "duration": 3,
    "start_time": "2022-02-06T14:38:05.327Z"
   },
   {
    "duration": 279,
    "start_time": "2022-02-06T14:38:05.332Z"
   },
   {
    "duration": 162,
    "start_time": "2022-02-06T14:38:05.613Z"
   },
   {
    "duration": 342,
    "start_time": "2022-02-06T14:38:05.777Z"
   },
   {
    "duration": 327,
    "start_time": "2022-02-06T14:38:06.121Z"
   },
   {
    "duration": 338,
    "start_time": "2022-02-06T14:38:06.451Z"
   },
   {
    "duration": 221,
    "start_time": "2022-02-06T14:38:06.792Z"
   },
   {
    "duration": 311,
    "start_time": "2022-02-06T14:38:07.018Z"
   },
   {
    "duration": 252,
    "start_time": "2022-02-06T14:38:07.332Z"
   },
   {
    "duration": 157,
    "start_time": "2022-02-06T14:38:07.586Z"
   },
   {
    "duration": 153,
    "start_time": "2022-02-06T14:38:07.745Z"
   },
   {
    "duration": 161,
    "start_time": "2022-02-06T14:38:07.900Z"
   },
   {
    "duration": 205,
    "start_time": "2022-02-06T14:38:08.062Z"
   },
   {
    "duration": 163,
    "start_time": "2022-02-06T14:38:08.269Z"
   },
   {
    "duration": 151,
    "start_time": "2022-02-06T14:38:08.435Z"
   },
   {
    "duration": 10,
    "start_time": "2022-02-06T14:38:08.590Z"
   },
   {
    "duration": 37,
    "start_time": "2022-02-06T14:38:08.603Z"
   },
   {
    "duration": 4,
    "start_time": "2022-02-06T14:38:08.642Z"
   },
   {
    "duration": 17,
    "start_time": "2022-02-06T14:38:08.648Z"
   },
   {
    "duration": 101,
    "start_time": "2022-02-06T14:38:08.667Z"
   },
   {
    "duration": 19,
    "start_time": "2022-02-06T14:38:08.770Z"
   },
   {
    "duration": 28,
    "start_time": "2022-02-06T14:38:08.791Z"
   },
   {
    "duration": 23,
    "start_time": "2022-02-06T14:38:08.821Z"
   },
   {
    "duration": 29,
    "start_time": "2022-02-06T14:38:08.846Z"
   },
   {
    "duration": 93,
    "start_time": "2022-02-06T14:38:08.877Z"
   },
   {
    "duration": 184,
    "start_time": "2022-02-06T14:38:08.972Z"
   },
   {
    "duration": 768,
    "start_time": "2022-02-06T14:38:09.158Z"
   },
   {
    "duration": 26,
    "start_time": "2022-02-06T14:38:09.928Z"
   },
   {
    "duration": 613,
    "start_time": "2022-02-06T14:38:09.955Z"
   },
   {
    "duration": 3,
    "start_time": "2022-02-06T14:38:10.570Z"
   },
   {
    "duration": 25,
    "start_time": "2022-02-06T14:38:10.576Z"
   },
   {
    "duration": 15,
    "start_time": "2022-02-06T14:38:10.604Z"
   },
   {
    "duration": 8,
    "start_time": "2022-02-06T14:38:10.621Z"
   },
   {
    "duration": 34,
    "start_time": "2022-02-06T14:38:10.631Z"
   },
   {
    "duration": 3,
    "start_time": "2022-02-06T14:38:10.667Z"
   },
   {
    "duration": 687,
    "start_time": "2022-02-06T14:38:54.969Z"
   },
   {
    "duration": 6,
    "start_time": "2022-02-06T14:38:55.659Z"
   },
   {
    "duration": 16,
    "start_time": "2022-02-06T14:38:55.667Z"
   },
   {
    "duration": 23,
    "start_time": "2022-02-06T14:38:55.686Z"
   },
   {
    "duration": 32,
    "start_time": "2022-02-06T14:38:55.711Z"
   },
   {
    "duration": 54,
    "start_time": "2022-02-06T14:38:55.745Z"
   },
   {
    "duration": 2,
    "start_time": "2022-02-06T14:38:55.801Z"
   },
   {
    "duration": 269,
    "start_time": "2022-02-06T14:38:55.806Z"
   },
   {
    "duration": 151,
    "start_time": "2022-02-06T14:38:56.078Z"
   },
   {
    "duration": 218,
    "start_time": "2022-02-06T14:38:56.231Z"
   },
   {
    "duration": 206,
    "start_time": "2022-02-06T14:38:56.451Z"
   },
   {
    "duration": 335,
    "start_time": "2022-02-06T14:38:56.659Z"
   },
   {
    "duration": 145,
    "start_time": "2022-02-06T14:38:56.995Z"
   },
   {
    "duration": 191,
    "start_time": "2022-02-06T14:38:57.142Z"
   },
   {
    "duration": 173,
    "start_time": "2022-02-06T14:38:57.335Z"
   },
   {
    "duration": 159,
    "start_time": "2022-02-06T14:38:57.510Z"
   },
   {
    "duration": 168,
    "start_time": "2022-02-06T14:38:57.671Z"
   },
   {
    "duration": 154,
    "start_time": "2022-02-06T14:38:57.842Z"
   },
   {
    "duration": 212,
    "start_time": "2022-02-06T14:38:57.997Z"
   },
   {
    "duration": 161,
    "start_time": "2022-02-06T14:38:58.211Z"
   },
   {
    "duration": 175,
    "start_time": "2022-02-06T14:38:58.374Z"
   },
   {
    "duration": 10,
    "start_time": "2022-02-06T14:38:58.551Z"
   },
   {
    "duration": 21,
    "start_time": "2022-02-06T14:38:58.565Z"
   },
   {
    "duration": 4,
    "start_time": "2022-02-06T14:38:58.588Z"
   },
   {
    "duration": 25,
    "start_time": "2022-02-06T14:38:58.593Z"
   },
   {
    "duration": 22,
    "start_time": "2022-02-06T14:38:58.620Z"
   },
   {
    "duration": 112,
    "start_time": "2022-02-06T14:38:58.643Z"
   },
   {
    "duration": 8,
    "start_time": "2022-02-06T14:38:58.756Z"
   },
   {
    "duration": 24,
    "start_time": "2022-02-06T14:38:58.766Z"
   },
   {
    "duration": 47,
    "start_time": "2022-02-06T14:38:58.792Z"
   },
   {
    "duration": 3,
    "start_time": "2022-02-06T14:38:58.842Z"
   },
   {
    "duration": 32,
    "start_time": "2022-02-06T14:38:58.847Z"
   },
   {
    "duration": 572,
    "start_time": "2022-02-06T14:38:58.881Z"
   },
   {
    "duration": 29,
    "start_time": "2022-02-06T14:38:59.455Z"
   },
   {
    "duration": 597,
    "start_time": "2022-02-06T14:38:59.486Z"
   },
   {
    "duration": 3,
    "start_time": "2022-02-06T14:39:00.084Z"
   },
   {
    "duration": 47,
    "start_time": "2022-02-06T14:39:00.089Z"
   },
   {
    "duration": 5,
    "start_time": "2022-02-06T14:39:00.139Z"
   },
   {
    "duration": 19,
    "start_time": "2022-02-06T14:39:00.146Z"
   },
   {
    "duration": 63,
    "start_time": "2022-02-06T14:39:00.167Z"
   },
   {
    "duration": 3,
    "start_time": "2022-02-06T14:39:00.232Z"
   },
   {
    "duration": 785,
    "start_time": "2022-02-06T14:40:20.215Z"
   },
   {
    "duration": 15,
    "start_time": "2022-02-06T14:40:21.003Z"
   },
   {
    "duration": 4,
    "start_time": "2022-02-06T14:40:21.021Z"
   },
   {
    "duration": 13,
    "start_time": "2022-02-06T14:40:21.027Z"
   },
   {
    "duration": 12,
    "start_time": "2022-02-06T14:40:21.042Z"
   },
   {
    "duration": 88,
    "start_time": "2022-02-06T14:40:21.056Z"
   },
   {
    "duration": 2,
    "start_time": "2022-02-06T14:40:21.146Z"
   },
   {
    "duration": 300,
    "start_time": "2022-02-06T14:40:21.151Z"
   },
   {
    "duration": 164,
    "start_time": "2022-02-06T14:40:21.454Z"
   },
   {
    "duration": 355,
    "start_time": "2022-02-06T14:40:21.620Z"
   },
   {
    "duration": 334,
    "start_time": "2022-02-06T14:40:21.978Z"
   },
   {
    "duration": 331,
    "start_time": "2022-02-06T14:40:22.315Z"
   },
   {
    "duration": 236,
    "start_time": "2022-02-06T14:40:22.649Z"
   },
   {
    "duration": 311,
    "start_time": "2022-02-06T14:40:22.887Z"
   },
   {
    "duration": 156,
    "start_time": "2022-02-06T14:40:23.200Z"
   },
   {
    "duration": 150,
    "start_time": "2022-02-06T14:40:23.358Z"
   },
   {
    "duration": 159,
    "start_time": "2022-02-06T14:40:23.510Z"
   },
   {
    "duration": 163,
    "start_time": "2022-02-06T14:40:23.672Z"
   },
   {
    "duration": 211,
    "start_time": "2022-02-06T14:40:23.837Z"
   },
   {
    "duration": 155,
    "start_time": "2022-02-06T14:40:24.050Z"
   },
   {
    "duration": 155,
    "start_time": "2022-02-06T14:40:24.207Z"
   },
   {
    "duration": 12,
    "start_time": "2022-02-06T14:40:24.364Z"
   },
   {
    "duration": 55,
    "start_time": "2022-02-06T14:40:24.379Z"
   },
   {
    "duration": 3,
    "start_time": "2022-02-06T14:40:24.436Z"
   },
   {
    "duration": 16,
    "start_time": "2022-02-06T14:40:24.441Z"
   },
   {
    "duration": 26,
    "start_time": "2022-02-06T14:40:24.459Z"
   },
   {
    "duration": 106,
    "start_time": "2022-02-06T14:40:24.487Z"
   },
   {
    "duration": 25,
    "start_time": "2022-02-06T14:40:24.595Z"
   },
   {
    "duration": 18,
    "start_time": "2022-02-06T14:40:24.622Z"
   },
   {
    "duration": 22,
    "start_time": "2022-02-06T14:40:24.642Z"
   },
   {
    "duration": 5,
    "start_time": "2022-02-06T14:40:24.666Z"
   },
   {
    "duration": 57,
    "start_time": "2022-02-06T14:40:24.673Z"
   },
   {
    "duration": 174,
    "start_time": "2022-02-06T14:40:24.732Z"
   },
   {
    "duration": 23,
    "start_time": "2022-02-06T14:40:24.907Z"
   },
   {
    "duration": 497,
    "start_time": "2022-02-06T14:40:24.932Z"
   },
   {
    "duration": 3,
    "start_time": "2022-02-06T14:40:25.432Z"
   },
   {
    "duration": 23,
    "start_time": "2022-02-06T14:40:25.436Z"
   },
   {
    "duration": 7,
    "start_time": "2022-02-06T14:40:25.461Z"
   },
   {
    "duration": 10,
    "start_time": "2022-02-06T14:40:25.470Z"
   },
   {
    "duration": 56,
    "start_time": "2022-02-06T14:40:25.482Z"
   },
   {
    "duration": 6,
    "start_time": "2022-02-06T14:40:25.540Z"
   },
   {
    "duration": 722,
    "start_time": "2022-02-06T14:42:01.740Z"
   },
   {
    "duration": 6,
    "start_time": "2022-02-06T14:42:02.464Z"
   },
   {
    "duration": 5,
    "start_time": "2022-02-06T14:42:02.475Z"
   },
   {
    "duration": 36,
    "start_time": "2022-02-06T14:42:02.482Z"
   },
   {
    "duration": 9,
    "start_time": "2022-02-06T14:42:02.520Z"
   },
   {
    "duration": 51,
    "start_time": "2022-02-06T14:42:02.530Z"
   },
   {
    "duration": 3,
    "start_time": "2022-02-06T14:42:02.583Z"
   },
   {
    "duration": 314,
    "start_time": "2022-02-06T14:42:02.588Z"
   },
   {
    "duration": 163,
    "start_time": "2022-02-06T14:42:02.904Z"
   },
   {
    "duration": 220,
    "start_time": "2022-02-06T14:42:03.070Z"
   },
   {
    "duration": 213,
    "start_time": "2022-02-06T14:42:03.291Z"
   },
   {
    "duration": 215,
    "start_time": "2022-02-06T14:42:03.506Z"
   },
   {
    "duration": 151,
    "start_time": "2022-02-06T14:42:03.723Z"
   },
   {
    "duration": 198,
    "start_time": "2022-02-06T14:42:03.877Z"
   },
   {
    "duration": 162,
    "start_time": "2022-02-06T14:42:04.077Z"
   },
   {
    "duration": 154,
    "start_time": "2022-02-06T14:42:04.241Z"
   },
   {
    "duration": 183,
    "start_time": "2022-02-06T14:42:04.398Z"
   },
   {
    "duration": 164,
    "start_time": "2022-02-06T14:42:04.583Z"
   },
   {
    "duration": 201,
    "start_time": "2022-02-06T14:42:04.749Z"
   },
   {
    "duration": 159,
    "start_time": "2022-02-06T14:42:04.952Z"
   },
   {
    "duration": 165,
    "start_time": "2022-02-06T14:42:05.113Z"
   },
   {
    "duration": 36,
    "start_time": "2022-02-06T14:42:05.282Z"
   },
   {
    "duration": 4,
    "start_time": "2022-02-06T14:42:05.320Z"
   },
   {
    "duration": 10,
    "start_time": "2022-02-06T14:42:05.326Z"
   },
   {
    "duration": 31,
    "start_time": "2022-02-06T14:42:05.338Z"
   },
   {
    "duration": 117,
    "start_time": "2022-02-06T14:42:05.371Z"
   },
   {
    "duration": 8,
    "start_time": "2022-02-06T14:42:05.490Z"
   },
   {
    "duration": 29,
    "start_time": "2022-02-06T14:42:05.499Z"
   },
   {
    "duration": 20,
    "start_time": "2022-02-06T14:42:05.530Z"
   },
   {
    "duration": 9,
    "start_time": "2022-02-06T14:42:05.552Z"
   },
   {
    "duration": 59,
    "start_time": "2022-02-06T14:42:05.563Z"
   },
   {
    "duration": 175,
    "start_time": "2022-02-06T14:42:05.624Z"
   },
   {
    "duration": 33,
    "start_time": "2022-02-06T14:42:05.801Z"
   },
   {
    "duration": 489,
    "start_time": "2022-02-06T14:42:05.836Z"
   },
   {
    "duration": 3,
    "start_time": "2022-02-06T14:42:06.327Z"
   },
   {
    "duration": 21,
    "start_time": "2022-02-06T14:42:06.331Z"
   },
   {
    "duration": 2,
    "start_time": "2022-02-06T14:42:06.354Z"
   },
   {
    "duration": 5,
    "start_time": "2022-02-06T14:42:06.358Z"
   },
   {
    "duration": 29,
    "start_time": "2022-02-06T14:42:06.365Z"
   },
   {
    "duration": 3,
    "start_time": "2022-02-06T14:42:06.418Z"
   },
   {
    "duration": 19,
    "start_time": "2022-02-06T14:49:04.637Z"
   },
   {
    "duration": 682,
    "start_time": "2022-02-06T14:49:22.478Z"
   },
   {
    "duration": 6,
    "start_time": "2022-02-06T14:49:23.162Z"
   },
   {
    "duration": 7,
    "start_time": "2022-02-06T14:49:23.170Z"
   },
   {
    "duration": 14,
    "start_time": "2022-02-06T14:49:23.179Z"
   },
   {
    "duration": 9,
    "start_time": "2022-02-06T14:49:23.218Z"
   },
   {
    "duration": 55,
    "start_time": "2022-02-06T14:49:23.229Z"
   },
   {
    "duration": 2,
    "start_time": "2022-02-06T14:49:23.287Z"
   },
   {
    "duration": 308,
    "start_time": "2022-02-06T14:49:23.292Z"
   },
   {
    "duration": 154,
    "start_time": "2022-02-06T14:49:23.602Z"
   },
   {
    "duration": 207,
    "start_time": "2022-02-06T14:49:23.758Z"
   },
   {
    "duration": 207,
    "start_time": "2022-02-06T14:49:23.967Z"
   },
   {
    "duration": 202,
    "start_time": "2022-02-06T14:49:24.175Z"
   },
   {
    "duration": 133,
    "start_time": "2022-02-06T14:49:24.379Z"
   },
   {
    "duration": 195,
    "start_time": "2022-02-06T14:49:24.519Z"
   },
   {
    "duration": 233,
    "start_time": "2022-02-06T14:49:24.716Z"
   },
   {
    "duration": 174,
    "start_time": "2022-02-06T14:49:24.951Z"
   },
   {
    "duration": 154,
    "start_time": "2022-02-06T14:49:25.127Z"
   },
   {
    "duration": 156,
    "start_time": "2022-02-06T14:49:25.284Z"
   },
   {
    "duration": 208,
    "start_time": "2022-02-06T14:49:25.442Z"
   },
   {
    "duration": 144,
    "start_time": "2022-02-06T14:49:25.652Z"
   },
   {
    "duration": 151,
    "start_time": "2022-02-06T14:49:25.798Z"
   },
   {
    "duration": 26,
    "start_time": "2022-02-06T14:49:25.951Z"
   },
   {
    "duration": 37,
    "start_time": "2022-02-06T14:49:25.983Z"
   },
   {
    "duration": 4,
    "start_time": "2022-02-06T14:49:26.022Z"
   },
   {
    "duration": 7,
    "start_time": "2022-02-06T14:49:26.028Z"
   },
   {
    "duration": 24,
    "start_time": "2022-02-06T14:49:26.036Z"
   },
   {
    "duration": 61,
    "start_time": "2022-02-06T14:49:26.062Z"
   },
   {
    "duration": 77,
    "start_time": "2022-02-06T14:49:26.124Z"
   },
   {
    "duration": 28,
    "start_time": "2022-02-06T14:49:26.203Z"
   },
   {
    "duration": 18,
    "start_time": "2022-02-06T14:49:26.232Z"
   },
   {
    "duration": 4,
    "start_time": "2022-02-06T14:49:26.252Z"
   },
   {
    "duration": 63,
    "start_time": "2022-02-06T14:49:26.257Z"
   },
   {
    "duration": 182,
    "start_time": "2022-02-06T14:49:26.322Z"
   },
   {
    "duration": 27,
    "start_time": "2022-02-06T14:49:26.506Z"
   },
   {
    "duration": 480,
    "start_time": "2022-02-06T14:49:26.535Z"
   },
   {
    "duration": 2,
    "start_time": "2022-02-06T14:49:27.017Z"
   },
   {
    "duration": 14,
    "start_time": "2022-02-06T14:49:27.021Z"
   },
   {
    "duration": 2,
    "start_time": "2022-02-06T14:49:27.037Z"
   },
   {
    "duration": 12,
    "start_time": "2022-02-06T14:49:27.041Z"
   },
   {
    "duration": 64,
    "start_time": "2022-02-06T14:49:27.054Z"
   },
   {
    "duration": 3,
    "start_time": "2022-02-06T14:49:27.120Z"
   },
   {
    "duration": 668,
    "start_time": "2022-02-06T14:52:07.663Z"
   },
   {
    "duration": 6,
    "start_time": "2022-02-06T14:52:08.333Z"
   },
   {
    "duration": 6,
    "start_time": "2022-02-06T14:52:08.341Z"
   },
   {
    "duration": 12,
    "start_time": "2022-02-06T14:52:08.349Z"
   },
   {
    "duration": 11,
    "start_time": "2022-02-06T14:52:08.363Z"
   },
   {
    "duration": 80,
    "start_time": "2022-02-06T14:52:08.377Z"
   },
   {
    "duration": 3,
    "start_time": "2022-02-06T14:52:08.460Z"
   },
   {
    "duration": 19,
    "start_time": "2022-02-06T14:52:08.465Z"
   },
   {
    "duration": 277,
    "start_time": "2022-02-06T14:52:08.486Z"
   },
   {
    "duration": 154,
    "start_time": "2022-02-06T14:52:08.766Z"
   },
   {
    "duration": 209,
    "start_time": "2022-02-06T14:52:08.922Z"
   },
   {
    "duration": 213,
    "start_time": "2022-02-06T14:52:09.133Z"
   },
   {
    "duration": 201,
    "start_time": "2022-02-06T14:52:09.348Z"
   },
   {
    "duration": 147,
    "start_time": "2022-02-06T14:52:09.551Z"
   },
   {
    "duration": 202,
    "start_time": "2022-02-06T14:52:09.700Z"
   },
   {
    "duration": 173,
    "start_time": "2022-02-06T14:52:09.905Z"
   },
   {
    "duration": 151,
    "start_time": "2022-02-06T14:52:10.080Z"
   },
   {
    "duration": 166,
    "start_time": "2022-02-06T14:52:10.235Z"
   },
   {
    "duration": 153,
    "start_time": "2022-02-06T14:52:10.403Z"
   },
   {
    "duration": 203,
    "start_time": "2022-02-06T14:52:10.557Z"
   },
   {
    "duration": 148,
    "start_time": "2022-02-06T14:52:10.762Z"
   },
   {
    "duration": 155,
    "start_time": "2022-02-06T14:52:10.912Z"
   },
   {
    "duration": 28,
    "start_time": "2022-02-06T14:52:11.068Z"
   },
   {
    "duration": 28,
    "start_time": "2022-02-06T14:52:11.098Z"
   },
   {
    "duration": 4,
    "start_time": "2022-02-06T14:52:11.128Z"
   },
   {
    "duration": 5,
    "start_time": "2022-02-06T14:52:11.134Z"
   },
   {
    "duration": 111,
    "start_time": "2022-02-06T14:52:11.140Z"
   },
   {
    "duration": 19,
    "start_time": "2022-02-06T14:52:11.253Z"
   },
   {
    "duration": 8,
    "start_time": "2022-02-06T14:52:11.274Z"
   },
   {
    "duration": 42,
    "start_time": "2022-02-06T14:52:11.284Z"
   },
   {
    "duration": 19,
    "start_time": "2022-02-06T14:52:11.328Z"
   },
   {
    "duration": 11,
    "start_time": "2022-02-06T14:52:11.349Z"
   },
   {
    "duration": 25,
    "start_time": "2022-02-06T14:52:11.361Z"
   },
   {
    "duration": 171,
    "start_time": "2022-02-06T14:52:11.388Z"
   },
   {
    "duration": 24,
    "start_time": "2022-02-06T14:52:11.561Z"
   },
   {
    "duration": 505,
    "start_time": "2022-02-06T14:52:11.587Z"
   },
   {
    "duration": 2,
    "start_time": "2022-02-06T14:52:12.095Z"
   },
   {
    "duration": 13,
    "start_time": "2022-02-06T14:52:12.099Z"
   },
   {
    "duration": 3,
    "start_time": "2022-02-06T14:52:12.118Z"
   },
   {
    "duration": 9,
    "start_time": "2022-02-06T14:52:12.123Z"
   },
   {
    "duration": 33,
    "start_time": "2022-02-06T14:52:12.134Z"
   },
   {
    "duration": 2,
    "start_time": "2022-02-06T14:52:12.169Z"
   },
   {
    "duration": 715,
    "start_time": "2022-02-06T14:52:58.182Z"
   },
   {
    "duration": 6,
    "start_time": "2022-02-06T14:52:58.898Z"
   },
   {
    "duration": 17,
    "start_time": "2022-02-06T14:52:58.906Z"
   },
   {
    "duration": 13,
    "start_time": "2022-02-06T14:52:58.926Z"
   },
   {
    "duration": 15,
    "start_time": "2022-02-06T14:52:58.941Z"
   },
   {
    "duration": 67,
    "start_time": "2022-02-06T14:52:58.958Z"
   },
   {
    "duration": 3,
    "start_time": "2022-02-06T14:52:59.028Z"
   },
   {
    "duration": 19,
    "start_time": "2022-02-06T14:52:59.033Z"
   },
   {
    "duration": 301,
    "start_time": "2022-02-06T14:52:59.055Z"
   },
   {
    "duration": 160,
    "start_time": "2022-02-06T14:52:59.358Z"
   },
   {
    "duration": 215,
    "start_time": "2022-02-06T14:52:59.520Z"
   },
   {
    "duration": 207,
    "start_time": "2022-02-06T14:52:59.737Z"
   },
   {
    "duration": 222,
    "start_time": "2022-02-06T14:52:59.945Z"
   },
   {
    "duration": 162,
    "start_time": "2022-02-06T14:53:00.169Z"
   },
   {
    "duration": 209,
    "start_time": "2022-02-06T14:53:00.333Z"
   },
   {
    "duration": 174,
    "start_time": "2022-02-06T14:53:00.544Z"
   },
   {
    "duration": 152,
    "start_time": "2022-02-06T14:53:00.720Z"
   },
   {
    "duration": 159,
    "start_time": "2022-02-06T14:53:00.875Z"
   },
   {
    "duration": 162,
    "start_time": "2022-02-06T14:53:01.037Z"
   },
   {
    "duration": 219,
    "start_time": "2022-02-06T14:53:01.201Z"
   },
   {
    "duration": 147,
    "start_time": "2022-02-06T14:53:01.422Z"
   },
   {
    "duration": 160,
    "start_time": "2022-02-06T14:53:01.571Z"
   },
   {
    "duration": 20,
    "start_time": "2022-02-06T14:53:01.735Z"
   },
   {
    "duration": 21,
    "start_time": "2022-02-06T14:53:01.757Z"
   },
   {
    "duration": 47,
    "start_time": "2022-02-06T14:53:01.780Z"
   },
   {
    "duration": 32,
    "start_time": "2022-02-06T14:53:01.829Z"
   },
   {
    "duration": 35,
    "start_time": "2022-02-06T14:53:01.864Z"
   },
   {
    "duration": 86,
    "start_time": "2022-02-06T14:53:01.901Z"
   },
   {
    "duration": 8,
    "start_time": "2022-02-06T14:53:01.989Z"
   },
   {
    "duration": 36,
    "start_time": "2022-02-06T14:53:01.999Z"
   },
   {
    "duration": 22,
    "start_time": "2022-02-06T14:53:02.037Z"
   },
   {
    "duration": 7,
    "start_time": "2022-02-06T14:53:02.060Z"
   },
   {
    "duration": 51,
    "start_time": "2022-02-06T14:53:02.069Z"
   },
   {
    "duration": 559,
    "start_time": "2022-02-06T14:53:02.121Z"
   },
   {
    "duration": 38,
    "start_time": "2022-02-06T14:53:02.681Z"
   },
   {
    "duration": 478,
    "start_time": "2022-02-06T14:53:02.721Z"
   },
   {
    "duration": 3,
    "start_time": "2022-02-06T14:53:03.200Z"
   },
   {
    "duration": 20,
    "start_time": "2022-02-06T14:53:03.205Z"
   },
   {
    "duration": 2,
    "start_time": "2022-02-06T14:53:03.227Z"
   },
   {
    "duration": 7,
    "start_time": "2022-02-06T14:53:03.231Z"
   },
   {
    "duration": 33,
    "start_time": "2022-02-06T14:53:03.239Z"
   },
   {
    "duration": 2,
    "start_time": "2022-02-06T14:53:03.274Z"
   },
   {
    "duration": 762,
    "start_time": "2022-02-06T14:53:44.106Z"
   },
   {
    "duration": 6,
    "start_time": "2022-02-06T14:53:44.871Z"
   },
   {
    "duration": 12,
    "start_time": "2022-02-06T14:53:44.879Z"
   },
   {
    "duration": 12,
    "start_time": "2022-02-06T14:53:44.893Z"
   },
   {
    "duration": 18,
    "start_time": "2022-02-06T14:53:44.907Z"
   },
   {
    "duration": 49,
    "start_time": "2022-02-06T14:53:44.927Z"
   },
   {
    "duration": 3,
    "start_time": "2022-02-06T14:53:44.977Z"
   },
   {
    "duration": 45,
    "start_time": "2022-02-06T14:53:44.983Z"
   },
   {
    "duration": 306,
    "start_time": "2022-02-06T14:53:45.031Z"
   },
   {
    "duration": 161,
    "start_time": "2022-02-06T14:53:45.339Z"
   },
   {
    "duration": 225,
    "start_time": "2022-02-06T14:53:45.502Z"
   },
   {
    "duration": 220,
    "start_time": "2022-02-06T14:53:45.729Z"
   },
   {
    "duration": 206,
    "start_time": "2022-02-06T14:53:45.950Z"
   },
   {
    "duration": 142,
    "start_time": "2022-02-06T14:53:46.158Z"
   },
   {
    "duration": 197,
    "start_time": "2022-02-06T14:53:46.301Z"
   },
   {
    "duration": 164,
    "start_time": "2022-02-06T14:53:46.499Z"
   },
   {
    "duration": 140,
    "start_time": "2022-02-06T14:53:46.664Z"
   },
   {
    "duration": 147,
    "start_time": "2022-02-06T14:53:46.806Z"
   },
   {
    "duration": 150,
    "start_time": "2022-02-06T14:53:46.955Z"
   },
   {
    "duration": 204,
    "start_time": "2022-02-06T14:53:47.106Z"
   },
   {
    "duration": 144,
    "start_time": "2022-02-06T14:53:47.312Z"
   },
   {
    "duration": 152,
    "start_time": "2022-02-06T14:53:47.458Z"
   },
   {
    "duration": 29,
    "start_time": "2022-02-06T14:53:47.620Z"
   },
   {
    "duration": 14,
    "start_time": "2022-02-06T14:53:47.651Z"
   },
   {
    "duration": 7,
    "start_time": "2022-02-06T14:53:47.666Z"
   },
   {
    "duration": 9,
    "start_time": "2022-02-06T14:53:47.675Z"
   },
   {
    "duration": 49,
    "start_time": "2022-02-06T14:53:47.685Z"
   },
   {
    "duration": 96,
    "start_time": "2022-02-06T14:53:47.735Z"
   },
   {
    "duration": 8,
    "start_time": "2022-02-06T14:53:47.832Z"
   },
   {
    "duration": 26,
    "start_time": "2022-02-06T14:53:47.842Z"
   },
   {
    "duration": 60,
    "start_time": "2022-02-06T14:53:47.869Z"
   },
   {
    "duration": 2,
    "start_time": "2022-02-06T14:53:47.931Z"
   },
   {
    "duration": 31,
    "start_time": "2022-02-06T14:53:47.935Z"
   },
   {
    "duration": 544,
    "start_time": "2022-02-06T14:53:47.968Z"
   },
   {
    "duration": 24,
    "start_time": "2022-02-06T14:53:48.514Z"
   },
   {
    "duration": 465,
    "start_time": "2022-02-06T14:53:48.540Z"
   },
   {
    "duration": 3,
    "start_time": "2022-02-06T14:53:49.007Z"
   },
   {
    "duration": 19,
    "start_time": "2022-02-06T14:53:49.012Z"
   },
   {
    "duration": 2,
    "start_time": "2022-02-06T14:53:49.032Z"
   },
   {
    "duration": 8,
    "start_time": "2022-02-06T14:53:49.036Z"
   },
   {
    "duration": 32,
    "start_time": "2022-02-06T14:53:49.046Z"
   },
   {
    "duration": 2,
    "start_time": "2022-02-06T14:53:49.080Z"
   },
   {
    "duration": 754,
    "start_time": "2022-02-06T14:54:29.456Z"
   },
   {
    "duration": 8,
    "start_time": "2022-02-06T14:54:30.221Z"
   },
   {
    "duration": 24,
    "start_time": "2022-02-06T14:54:30.234Z"
   },
   {
    "duration": 19,
    "start_time": "2022-02-06T14:54:30.261Z"
   },
   {
    "duration": 27,
    "start_time": "2022-02-06T14:54:30.282Z"
   },
   {
    "duration": 71,
    "start_time": "2022-02-06T14:54:30.311Z"
   },
   {
    "duration": 3,
    "start_time": "2022-02-06T14:54:30.385Z"
   },
   {
    "duration": 34,
    "start_time": "2022-02-06T14:54:30.391Z"
   },
   {
    "duration": 282,
    "start_time": "2022-02-06T14:54:30.428Z"
   },
   {
    "duration": 156,
    "start_time": "2022-02-06T14:54:30.712Z"
   },
   {
    "duration": 218,
    "start_time": "2022-02-06T14:54:30.870Z"
   },
   {
    "duration": 215,
    "start_time": "2022-02-06T14:54:31.090Z"
   },
   {
    "duration": 204,
    "start_time": "2022-02-06T14:54:31.307Z"
   },
   {
    "duration": 147,
    "start_time": "2022-02-06T14:54:31.513Z"
   },
   {
    "duration": 192,
    "start_time": "2022-02-06T14:54:31.662Z"
   },
   {
    "duration": 165,
    "start_time": "2022-02-06T14:54:31.855Z"
   },
   {
    "duration": 153,
    "start_time": "2022-02-06T14:54:32.022Z"
   },
   {
    "duration": 156,
    "start_time": "2022-02-06T14:54:32.177Z"
   },
   {
    "duration": 168,
    "start_time": "2022-02-06T14:54:32.334Z"
   },
   {
    "duration": 211,
    "start_time": "2022-02-06T14:54:32.504Z"
   },
   {
    "duration": 153,
    "start_time": "2022-02-06T14:54:32.716Z"
   },
   {
    "duration": 154,
    "start_time": "2022-02-06T14:54:32.872Z"
   },
   {
    "duration": 34,
    "start_time": "2022-02-06T14:54:33.028Z"
   },
   {
    "duration": 15,
    "start_time": "2022-02-06T14:54:33.065Z"
   },
   {
    "duration": 6,
    "start_time": "2022-02-06T14:54:33.082Z"
   },
   {
    "duration": 33,
    "start_time": "2022-02-06T14:54:33.089Z"
   },
   {
    "duration": 111,
    "start_time": "2022-02-06T14:54:33.123Z"
   },
   {
    "duration": 21,
    "start_time": "2022-02-06T14:54:33.235Z"
   },
   {
    "duration": 8,
    "start_time": "2022-02-06T14:54:33.258Z"
   },
   {
    "duration": 57,
    "start_time": "2022-02-06T14:54:33.268Z"
   },
   {
    "duration": 22,
    "start_time": "2022-02-06T14:54:33.327Z"
   },
   {
    "duration": 2,
    "start_time": "2022-02-06T14:54:33.351Z"
   },
   {
    "duration": 30,
    "start_time": "2022-02-06T14:54:33.355Z"
   },
   {
    "duration": 567,
    "start_time": "2022-02-06T14:54:33.387Z"
   },
   {
    "duration": 23,
    "start_time": "2022-02-06T14:54:33.956Z"
   },
   {
    "duration": 525,
    "start_time": "2022-02-06T14:54:33.980Z"
   },
   {
    "duration": 2,
    "start_time": "2022-02-06T14:54:34.508Z"
   },
   {
    "duration": 27,
    "start_time": "2022-02-06T14:54:34.519Z"
   },
   {
    "duration": 3,
    "start_time": "2022-02-06T14:54:34.548Z"
   },
   {
    "duration": 16,
    "start_time": "2022-02-06T14:54:34.553Z"
   },
   {
    "duration": 38,
    "start_time": "2022-02-06T14:54:34.571Z"
   },
   {
    "duration": 2,
    "start_time": "2022-02-06T14:54:34.619Z"
   },
   {
    "duration": 736,
    "start_time": "2022-02-06T14:55:44.102Z"
   },
   {
    "duration": 6,
    "start_time": "2022-02-06T14:55:44.840Z"
   },
   {
    "duration": 5,
    "start_time": "2022-02-06T14:55:44.848Z"
   },
   {
    "duration": 16,
    "start_time": "2022-02-06T14:55:44.855Z"
   },
   {
    "duration": 26,
    "start_time": "2022-02-06T14:55:44.873Z"
   },
   {
    "duration": 63,
    "start_time": "2022-02-06T14:55:44.900Z"
   },
   {
    "duration": 2,
    "start_time": "2022-02-06T14:55:44.965Z"
   },
   {
    "duration": 27,
    "start_time": "2022-02-06T14:55:44.969Z"
   },
   {
    "duration": 274,
    "start_time": "2022-02-06T14:55:44.998Z"
   },
   {
    "duration": 156,
    "start_time": "2022-02-06T14:55:45.274Z"
   },
   {
    "duration": 206,
    "start_time": "2022-02-06T14:55:45.432Z"
   },
   {
    "duration": 205,
    "start_time": "2022-02-06T14:55:45.640Z"
   },
   {
    "duration": 207,
    "start_time": "2022-02-06T14:55:45.847Z"
   },
   {
    "duration": 145,
    "start_time": "2022-02-06T14:55:46.056Z"
   },
   {
    "duration": 203,
    "start_time": "2022-02-06T14:55:46.203Z"
   },
   {
    "duration": 163,
    "start_time": "2022-02-06T14:55:46.408Z"
   },
   {
    "duration": 155,
    "start_time": "2022-02-06T14:55:46.573Z"
   },
   {
    "duration": 160,
    "start_time": "2022-02-06T14:55:46.730Z"
   },
   {
    "duration": 158,
    "start_time": "2022-02-06T14:55:46.892Z"
   },
   {
    "duration": 205,
    "start_time": "2022-02-06T14:55:47.052Z"
   },
   {
    "duration": 161,
    "start_time": "2022-02-06T14:55:47.259Z"
   },
   {
    "duration": 161,
    "start_time": "2022-02-06T14:55:47.421Z"
   },
   {
    "duration": 51,
    "start_time": "2022-02-06T14:55:47.584Z"
   },
   {
    "duration": 15,
    "start_time": "2022-02-06T14:55:47.637Z"
   },
   {
    "duration": 5,
    "start_time": "2022-02-06T14:55:47.654Z"
   },
   {
    "duration": 9,
    "start_time": "2022-02-06T14:55:47.661Z"
   },
   {
    "duration": 23,
    "start_time": "2022-02-06T14:55:47.772Z"
   },
   {
    "duration": 37,
    "start_time": "2022-02-06T14:55:47.798Z"
   },
   {
    "duration": 10,
    "start_time": "2022-02-06T14:55:47.837Z"
   },
   {
    "duration": 34,
    "start_time": "2022-02-06T14:55:47.849Z"
   },
   {
    "duration": 47,
    "start_time": "2022-02-06T14:55:47.885Z"
   },
   {
    "duration": 2,
    "start_time": "2022-02-06T14:55:47.934Z"
   },
   {
    "duration": 43,
    "start_time": "2022-02-06T14:55:47.938Z"
   },
   {
    "duration": 320,
    "start_time": "2022-02-06T14:55:47.983Z"
   },
   {
    "duration": 33,
    "start_time": "2022-02-06T14:55:48.305Z"
   },
   {
    "duration": 483,
    "start_time": "2022-02-06T14:55:48.339Z"
   },
   {
    "duration": 2,
    "start_time": "2022-02-06T14:55:48.825Z"
   },
   {
    "duration": 24,
    "start_time": "2022-02-06T14:55:48.829Z"
   },
   {
    "duration": 4,
    "start_time": "2022-02-06T14:55:48.855Z"
   },
   {
    "duration": 18,
    "start_time": "2022-02-06T14:55:48.860Z"
   },
   {
    "duration": 40,
    "start_time": "2022-02-06T14:55:48.880Z"
   },
   {
    "duration": 3,
    "start_time": "2022-02-06T14:55:48.922Z"
   },
   {
    "duration": 776,
    "start_time": "2022-02-06T14:56:23.041Z"
   },
   {
    "duration": 6,
    "start_time": "2022-02-06T14:56:23.820Z"
   },
   {
    "duration": 16,
    "start_time": "2022-02-06T14:56:23.829Z"
   },
   {
    "duration": 15,
    "start_time": "2022-02-06T14:56:23.847Z"
   },
   {
    "duration": 10,
    "start_time": "2022-02-06T14:56:23.864Z"
   },
   {
    "duration": 77,
    "start_time": "2022-02-06T14:56:23.876Z"
   },
   {
    "duration": 3,
    "start_time": "2022-02-06T14:56:23.954Z"
   },
   {
    "duration": 30,
    "start_time": "2022-02-06T14:56:23.959Z"
   },
   {
    "duration": 281,
    "start_time": "2022-02-06T14:56:23.992Z"
   },
   {
    "duration": 161,
    "start_time": "2022-02-06T14:56:24.275Z"
   },
   {
    "duration": 330,
    "start_time": "2022-02-06T14:56:24.438Z"
   },
   {
    "duration": 213,
    "start_time": "2022-02-06T14:56:24.771Z"
   },
   {
    "duration": 210,
    "start_time": "2022-02-06T14:56:24.986Z"
   },
   {
    "duration": 156,
    "start_time": "2022-02-06T14:56:25.197Z"
   },
   {
    "duration": 208,
    "start_time": "2022-02-06T14:56:25.355Z"
   },
   {
    "duration": 161,
    "start_time": "2022-02-06T14:56:25.565Z"
   },
   {
    "duration": 147,
    "start_time": "2022-02-06T14:56:25.728Z"
   },
   {
    "duration": 165,
    "start_time": "2022-02-06T14:56:25.877Z"
   },
   {
    "duration": 160,
    "start_time": "2022-02-06T14:56:26.044Z"
   },
   {
    "duration": 307,
    "start_time": "2022-02-06T14:56:26.206Z"
   },
   {
    "duration": 224,
    "start_time": "2022-02-06T14:56:26.515Z"
   },
   {
    "duration": 226,
    "start_time": "2022-02-06T14:56:26.741Z"
   },
   {
    "duration": 60,
    "start_time": "2022-02-06T14:56:26.970Z"
   },
   {
    "duration": 21,
    "start_time": "2022-02-06T14:56:27.032Z"
   },
   {
    "duration": 7,
    "start_time": "2022-02-06T14:56:27.055Z"
   },
   {
    "duration": 13,
    "start_time": "2022-02-06T14:56:27.064Z"
   },
   {
    "duration": 46,
    "start_time": "2022-02-06T14:56:27.081Z"
   },
   {
    "duration": 105,
    "start_time": "2022-02-06T14:56:27.130Z"
   },
   {
    "duration": 9,
    "start_time": "2022-02-06T14:56:27.237Z"
   },
   {
    "duration": 25,
    "start_time": "2022-02-06T14:56:27.248Z"
   },
   {
    "duration": 44,
    "start_time": "2022-02-06T14:56:27.275Z"
   },
   {
    "duration": 5,
    "start_time": "2022-02-06T14:56:27.320Z"
   },
   {
    "duration": 37,
    "start_time": "2022-02-06T14:56:27.326Z"
   },
   {
    "duration": 559,
    "start_time": "2022-02-06T14:56:27.365Z"
   },
   {
    "duration": 23,
    "start_time": "2022-02-06T14:56:27.926Z"
   },
   {
    "duration": 502,
    "start_time": "2022-02-06T14:56:27.951Z"
   },
   {
    "duration": 2,
    "start_time": "2022-02-06T14:56:28.455Z"
   },
   {
    "duration": 18,
    "start_time": "2022-02-06T14:56:28.459Z"
   },
   {
    "duration": 3,
    "start_time": "2022-02-06T14:56:28.479Z"
   },
   {
    "duration": 8,
    "start_time": "2022-02-06T14:56:28.483Z"
   },
   {
    "duration": 48,
    "start_time": "2022-02-06T14:56:28.493Z"
   },
   {
    "duration": 3,
    "start_time": "2022-02-06T14:56:28.543Z"
   },
   {
    "duration": 6,
    "start_time": "2022-02-06T14:59:25.269Z"
   },
   {
    "duration": 5,
    "start_time": "2022-02-06T15:00:16.023Z"
   },
   {
    "duration": 25,
    "start_time": "2022-02-06T15:00:54.575Z"
   },
   {
    "duration": 722,
    "start_time": "2022-02-06T15:02:28.603Z"
   },
   {
    "duration": 5,
    "start_time": "2022-02-06T15:02:29.327Z"
   },
   {
    "duration": 6,
    "start_time": "2022-02-06T15:02:29.334Z"
   },
   {
    "duration": 11,
    "start_time": "2022-02-06T15:02:29.342Z"
   },
   {
    "duration": 8,
    "start_time": "2022-02-06T15:02:29.354Z"
   },
   {
    "duration": 79,
    "start_time": "2022-02-06T15:02:29.363Z"
   },
   {
    "duration": 3,
    "start_time": "2022-02-06T15:02:29.443Z"
   },
   {
    "duration": 19,
    "start_time": "2022-02-06T15:02:29.448Z"
   },
   {
    "duration": 290,
    "start_time": "2022-02-06T15:02:29.469Z"
   },
   {
    "duration": 143,
    "start_time": "2022-02-06T15:02:29.761Z"
   },
   {
    "duration": 222,
    "start_time": "2022-02-06T15:02:29.906Z"
   },
   {
    "duration": 220,
    "start_time": "2022-02-06T15:02:30.130Z"
   },
   {
    "duration": 202,
    "start_time": "2022-02-06T15:02:30.352Z"
   },
   {
    "duration": 151,
    "start_time": "2022-02-06T15:02:30.556Z"
   },
   {
    "duration": 193,
    "start_time": "2022-02-06T15:02:30.710Z"
   },
   {
    "duration": 168,
    "start_time": "2022-02-06T15:02:30.905Z"
   },
   {
    "duration": 156,
    "start_time": "2022-02-06T15:02:31.075Z"
   },
   {
    "duration": 158,
    "start_time": "2022-02-06T15:02:31.233Z"
   },
   {
    "duration": 156,
    "start_time": "2022-02-06T15:02:31.393Z"
   },
   {
    "duration": 208,
    "start_time": "2022-02-06T15:02:31.550Z"
   },
   {
    "duration": 151,
    "start_time": "2022-02-06T15:02:31.760Z"
   },
   {
    "duration": 151,
    "start_time": "2022-02-06T15:02:31.917Z"
   },
   {
    "duration": 3,
    "start_time": "2022-02-06T15:02:32.071Z"
   },
   {
    "duration": 22,
    "start_time": "2022-02-06T15:02:32.076Z"
   },
   {
    "duration": 19,
    "start_time": "2022-02-06T15:02:32.100Z"
   },
   {
    "duration": 31,
    "start_time": "2022-02-06T15:02:32.120Z"
   },
   {
    "duration": 21,
    "start_time": "2022-02-06T15:02:32.153Z"
   },
   {
    "duration": 113,
    "start_time": "2022-02-06T15:02:32.176Z"
   },
   {
    "duration": 12,
    "start_time": "2022-02-06T15:02:32.291Z"
   },
   {
    "duration": 47,
    "start_time": "2022-02-06T15:02:32.305Z"
   },
   {
    "duration": 24,
    "start_time": "2022-02-06T15:02:32.354Z"
   },
   {
    "duration": 3,
    "start_time": "2022-02-06T15:02:32.380Z"
   },
   {
    "duration": 55,
    "start_time": "2022-02-06T15:02:32.385Z"
   },
   {
    "duration": 597,
    "start_time": "2022-02-06T15:02:32.442Z"
   },
   {
    "duration": 30,
    "start_time": "2022-02-06T15:02:33.041Z"
   },
   {
    "duration": 535,
    "start_time": "2022-02-06T15:02:33.072Z"
   },
   {
    "duration": 3,
    "start_time": "2022-02-06T15:02:33.609Z"
   },
   {
    "duration": 22,
    "start_time": "2022-02-06T15:02:33.613Z"
   },
   {
    "duration": 2,
    "start_time": "2022-02-06T15:02:33.637Z"
   },
   {
    "duration": 11,
    "start_time": "2022-02-06T15:02:33.641Z"
   },
   {
    "duration": 33,
    "start_time": "2022-02-06T15:02:33.654Z"
   },
   {
    "duration": 2,
    "start_time": "2022-02-06T15:02:33.689Z"
   },
   {
    "duration": 695,
    "start_time": "2022-02-06T15:07:55.140Z"
   },
   {
    "duration": 5,
    "start_time": "2022-02-06T15:07:55.837Z"
   },
   {
    "duration": 9,
    "start_time": "2022-02-06T15:07:55.846Z"
   },
   {
    "duration": 16,
    "start_time": "2022-02-06T15:07:55.856Z"
   },
   {
    "duration": 8,
    "start_time": "2022-02-06T15:07:55.874Z"
   },
   {
    "duration": 73,
    "start_time": "2022-02-06T15:07:55.884Z"
   },
   {
    "duration": 2,
    "start_time": "2022-02-06T15:07:55.960Z"
   },
   {
    "duration": 16,
    "start_time": "2022-02-06T15:07:55.964Z"
   },
   {
    "duration": 294,
    "start_time": "2022-02-06T15:07:55.982Z"
   },
   {
    "duration": 142,
    "start_time": "2022-02-06T15:07:56.278Z"
   },
   {
    "duration": 218,
    "start_time": "2022-02-06T15:07:56.422Z"
   },
   {
    "duration": 204,
    "start_time": "2022-02-06T15:07:56.642Z"
   },
   {
    "duration": 193,
    "start_time": "2022-02-06T15:07:56.848Z"
   },
   {
    "duration": 143,
    "start_time": "2022-02-06T15:07:57.043Z"
   },
   {
    "duration": 203,
    "start_time": "2022-02-06T15:07:57.188Z"
   },
   {
    "duration": 161,
    "start_time": "2022-02-06T15:07:57.393Z"
   },
   {
    "duration": 147,
    "start_time": "2022-02-06T15:07:57.556Z"
   },
   {
    "duration": 154,
    "start_time": "2022-02-06T15:07:57.705Z"
   },
   {
    "duration": 142,
    "start_time": "2022-02-06T15:07:57.861Z"
   },
   {
    "duration": 208,
    "start_time": "2022-02-06T15:07:58.005Z"
   },
   {
    "duration": 156,
    "start_time": "2022-02-06T15:07:58.215Z"
   },
   {
    "duration": 150,
    "start_time": "2022-02-06T15:07:58.374Z"
   },
   {
    "duration": 3,
    "start_time": "2022-02-06T15:07:58.526Z"
   },
   {
    "duration": 17,
    "start_time": "2022-02-06T15:07:58.530Z"
   },
   {
    "duration": 13,
    "start_time": "2022-02-06T15:07:58.549Z"
   },
   {
    "duration": 33,
    "start_time": "2022-02-06T15:07:58.564Z"
   },
   {
    "duration": 107,
    "start_time": "2022-02-06T15:07:58.599Z"
   },
   {
    "duration": 16,
    "start_time": "2022-02-06T15:07:58.708Z"
   },
   {
    "duration": 23,
    "start_time": "2022-02-06T15:07:58.725Z"
   },
   {
    "duration": 21,
    "start_time": "2022-02-06T15:07:58.749Z"
   },
   {
    "duration": 13,
    "start_time": "2022-02-06T15:07:58.772Z"
   },
   {
    "duration": 59,
    "start_time": "2022-02-06T15:07:58.787Z"
   },
   {
    "duration": 614,
    "start_time": "2022-02-06T15:07:58.848Z"
   },
   {
    "duration": 29,
    "start_time": "2022-02-06T15:07:59.465Z"
   },
   {
    "duration": 605,
    "start_time": "2022-02-06T15:07:59.496Z"
   },
   {
    "duration": 4,
    "start_time": "2022-02-06T15:08:00.104Z"
   },
   {
    "duration": 29,
    "start_time": "2022-02-06T15:08:00.110Z"
   },
   {
    "duration": 11,
    "start_time": "2022-02-06T15:08:00.142Z"
   },
   {
    "duration": 20,
    "start_time": "2022-02-06T15:08:00.155Z"
   },
   {
    "duration": 105,
    "start_time": "2022-02-06T15:08:00.178Z"
   },
   {
    "duration": 4,
    "start_time": "2022-02-06T15:08:00.285Z"
   },
   {
    "duration": 125,
    "start_time": "2022-02-06T15:11:33.416Z"
   },
   {
    "duration": 332,
    "start_time": "2022-02-06T15:11:37.158Z"
   },
   {
    "duration": 430,
    "start_time": "2022-02-06T15:12:17.679Z"
   },
   {
    "duration": 7,
    "start_time": "2022-02-06T15:12:26.984Z"
   },
   {
    "duration": 103,
    "start_time": "2022-02-06T15:17:48.084Z"
   },
   {
    "duration": 104,
    "start_time": "2022-02-06T15:18:18.661Z"
   },
   {
    "duration": 336,
    "start_time": "2022-02-06T15:18:35.507Z"
   },
   {
    "duration": 257,
    "start_time": "2022-02-06T15:18:56.223Z"
   },
   {
    "duration": 238,
    "start_time": "2022-02-06T15:20:58.350Z"
   },
   {
    "duration": 8,
    "start_time": "2022-02-06T15:21:14.773Z"
   },
   {
    "duration": 705,
    "start_time": "2022-02-06T15:21:39.929Z"
   },
   {
    "duration": 5,
    "start_time": "2022-02-06T15:21:40.636Z"
   },
   {
    "duration": 361,
    "start_time": "2022-02-06T15:21:40.645Z"
   },
   {
    "duration": 129,
    "start_time": "2022-02-06T15:21:40.880Z"
   },
   {
    "duration": 122,
    "start_time": "2022-02-06T15:21:40.888Z"
   },
   {
    "duration": 121,
    "start_time": "2022-02-06T15:21:40.890Z"
   },
   {
    "duration": 122,
    "start_time": "2022-02-06T15:21:40.891Z"
   },
   {
    "duration": 121,
    "start_time": "2022-02-06T15:21:40.893Z"
   },
   {
    "duration": 111,
    "start_time": "2022-02-06T15:21:40.904Z"
   },
   {
    "duration": 110,
    "start_time": "2022-02-06T15:21:40.906Z"
   },
   {
    "duration": 109,
    "start_time": "2022-02-06T15:21:40.908Z"
   },
   {
    "duration": 107,
    "start_time": "2022-02-06T15:21:40.911Z"
   },
   {
    "duration": 104,
    "start_time": "2022-02-06T15:21:40.916Z"
   },
   {
    "duration": 97,
    "start_time": "2022-02-06T15:21:40.924Z"
   },
   {
    "duration": 98,
    "start_time": "2022-02-06T15:21:40.925Z"
   },
   {
    "duration": 97,
    "start_time": "2022-02-06T15:21:40.927Z"
   },
   {
    "duration": 96,
    "start_time": "2022-02-06T15:21:40.930Z"
   },
   {
    "duration": 90,
    "start_time": "2022-02-06T15:21:40.937Z"
   },
   {
    "duration": 90,
    "start_time": "2022-02-06T15:21:40.939Z"
   },
   {
    "duration": 90,
    "start_time": "2022-02-06T15:21:40.940Z"
   },
   {
    "duration": 90,
    "start_time": "2022-02-06T15:21:40.942Z"
   },
   {
    "duration": 88,
    "start_time": "2022-02-06T15:21:40.945Z"
   },
   {
    "duration": 87,
    "start_time": "2022-02-06T15:21:40.948Z"
   },
   {
    "duration": 80,
    "start_time": "2022-02-06T15:21:40.956Z"
   },
   {
    "duration": 80,
    "start_time": "2022-02-06T15:21:40.958Z"
   },
   {
    "duration": 79,
    "start_time": "2022-02-06T15:21:40.960Z"
   },
   {
    "duration": 65,
    "start_time": "2022-02-06T15:21:40.975Z"
   },
   {
    "duration": 65,
    "start_time": "2022-02-06T15:21:40.977Z"
   },
   {
    "duration": 39,
    "start_time": "2022-02-06T15:21:41.004Z"
   },
   {
    "duration": 38,
    "start_time": "2022-02-06T15:21:41.006Z"
   },
   {
    "duration": 38,
    "start_time": "2022-02-06T15:21:41.008Z"
   },
   {
    "duration": 22,
    "start_time": "2022-02-06T15:21:41.025Z"
   },
   {
    "duration": 23,
    "start_time": "2022-02-06T15:21:41.026Z"
   },
   {
    "duration": 23,
    "start_time": "2022-02-06T15:21:41.028Z"
   },
   {
    "duration": 20,
    "start_time": "2022-02-06T15:21:41.032Z"
   },
   {
    "duration": 13,
    "start_time": "2022-02-06T15:21:41.040Z"
   },
   {
    "duration": 14,
    "start_time": "2022-02-06T15:21:41.041Z"
   },
   {
    "duration": 13,
    "start_time": "2022-02-06T15:21:41.044Z"
   },
   {
    "duration": 11,
    "start_time": "2022-02-06T15:21:41.048Z"
   },
   {
    "duration": 10,
    "start_time": "2022-02-06T15:21:41.050Z"
   },
   {
    "duration": 67,
    "start_time": "2022-02-06T15:21:41.051Z"
   },
   {
    "duration": 67,
    "start_time": "2022-02-06T15:21:41.053Z"
   },
   {
    "duration": 8,
    "start_time": "2022-02-06T15:21:58.319Z"
   },
   {
    "duration": 657,
    "start_time": "2022-02-06T15:22:20.973Z"
   },
   {
    "duration": 7,
    "start_time": "2022-02-06T15:22:21.632Z"
   },
   {
    "duration": 21,
    "start_time": "2022-02-06T15:22:21.642Z"
   },
   {
    "duration": 8,
    "start_time": "2022-02-06T15:22:21.665Z"
   },
   {
    "duration": 66,
    "start_time": "2022-02-06T15:22:21.675Z"
   },
   {
    "duration": 2,
    "start_time": "2022-02-06T15:22:21.743Z"
   },
   {
    "duration": 22,
    "start_time": "2022-02-06T15:22:21.747Z"
   },
   {
    "duration": 291,
    "start_time": "2022-02-06T15:22:21.772Z"
   },
   {
    "duration": 150,
    "start_time": "2022-02-06T15:22:22.066Z"
   },
   {
    "duration": 212,
    "start_time": "2022-02-06T15:22:22.218Z"
   },
   {
    "duration": 208,
    "start_time": "2022-02-06T15:22:22.432Z"
   },
   {
    "duration": 207,
    "start_time": "2022-02-06T15:22:22.642Z"
   },
   {
    "duration": 152,
    "start_time": "2022-02-06T15:22:22.851Z"
   },
   {
    "duration": 298,
    "start_time": "2022-02-06T15:22:23.005Z"
   },
   {
    "duration": 232,
    "start_time": "2022-02-06T15:22:23.305Z"
   },
   {
    "duration": 196,
    "start_time": "2022-02-06T15:22:23.539Z"
   },
   {
    "duration": 166,
    "start_time": "2022-02-06T15:22:23.737Z"
   },
   {
    "duration": 162,
    "start_time": "2022-02-06T15:22:23.906Z"
   },
   {
    "duration": 199,
    "start_time": "2022-02-06T15:22:24.070Z"
   },
   {
    "duration": 149,
    "start_time": "2022-02-06T15:22:24.271Z"
   },
   {
    "duration": 159,
    "start_time": "2022-02-06T15:22:24.422Z"
   },
   {
    "duration": 2,
    "start_time": "2022-02-06T15:22:24.584Z"
   },
   {
    "duration": 30,
    "start_time": "2022-02-06T15:22:24.589Z"
   },
   {
    "duration": 36,
    "start_time": "2022-02-06T15:22:24.622Z"
   },
   {
    "duration": 68,
    "start_time": "2022-02-06T15:22:24.660Z"
   },
   {
    "duration": 42,
    "start_time": "2022-02-06T15:22:24.730Z"
   },
   {
    "duration": 9,
    "start_time": "2022-02-06T15:22:24.774Z"
   },
   {
    "duration": 96,
    "start_time": "2022-02-06T15:22:24.784Z"
   },
   {
    "duration": 36,
    "start_time": "2022-02-06T15:22:24.882Z"
   },
   {
    "duration": 3,
    "start_time": "2022-02-06T15:22:24.920Z"
   },
   {
    "duration": 41,
    "start_time": "2022-02-06T15:22:24.924Z"
   },
   {
    "duration": 603,
    "start_time": "2022-02-06T15:22:24.967Z"
   },
   {
    "duration": 30,
    "start_time": "2022-02-06T15:22:25.571Z"
   },
   {
    "duration": 487,
    "start_time": "2022-02-06T15:22:25.603Z"
   },
   {
    "duration": 3,
    "start_time": "2022-02-06T15:22:26.092Z"
   },
   {
    "duration": 26,
    "start_time": "2022-02-06T15:22:26.096Z"
   },
   {
    "duration": 14,
    "start_time": "2022-02-06T15:22:26.123Z"
   },
   {
    "duration": 26,
    "start_time": "2022-02-06T15:22:26.138Z"
   },
   {
    "duration": 49,
    "start_time": "2022-02-06T15:22:26.165Z"
   },
   {
    "duration": 2,
    "start_time": "2022-02-06T15:22:26.215Z"
   },
   {
    "duration": 9,
    "start_time": "2022-02-06T15:26:56.518Z"
   },
   {
    "duration": 7,
    "start_time": "2022-02-06T15:27:16.350Z"
   },
   {
    "duration": 8,
    "start_time": "2022-02-06T15:27:55.454Z"
   },
   {
    "duration": 322,
    "start_time": "2022-02-06T15:34:06.705Z"
   },
   {
    "duration": 3333,
    "start_time": "2022-02-06T15:34:19.482Z"
   },
   {
    "duration": 3429,
    "start_time": "2022-02-06T15:34:47.665Z"
   },
   {
    "duration": 696,
    "start_time": "2022-02-06T15:36:50.234Z"
   },
   {
    "duration": 77,
    "start_time": "2022-02-06T15:39:42.688Z"
   },
   {
    "duration": 89,
    "start_time": "2022-02-06T15:39:48.926Z"
   },
   {
    "duration": 10,
    "start_time": "2022-02-06T15:39:59.646Z"
   },
   {
    "duration": 9,
    "start_time": "2022-02-06T15:40:13.349Z"
   },
   {
    "duration": 3569,
    "start_time": "2022-02-06T15:41:39.851Z"
   },
   {
    "duration": 153,
    "start_time": "2022-02-06T15:42:06.888Z"
   },
   {
    "duration": 95,
    "start_time": "2022-02-06T15:42:37.887Z"
   },
   {
    "duration": 42,
    "start_time": "2022-02-06T15:43:02.669Z"
   },
   {
    "duration": 3259,
    "start_time": "2022-02-06T15:46:47.702Z"
   },
   {
    "duration": 662,
    "start_time": "2022-02-06T15:55:10.971Z"
   },
   {
    "duration": 5,
    "start_time": "2022-02-06T15:55:11.635Z"
   },
   {
    "duration": 14,
    "start_time": "2022-02-06T15:55:11.643Z"
   },
   {
    "duration": 60,
    "start_time": "2022-02-06T15:55:11.660Z"
   },
   {
    "duration": 8,
    "start_time": "2022-02-06T15:55:11.722Z"
   },
   {
    "duration": 12,
    "start_time": "2022-02-06T15:55:11.732Z"
   },
   {
    "duration": 3060,
    "start_time": "2022-02-06T15:55:11.745Z"
   },
   {
    "duration": 2712,
    "start_time": "2022-02-06T15:55:14.807Z"
   },
   {
    "duration": 272,
    "start_time": "2022-02-06T15:55:17.522Z"
   },
   {
    "duration": 153,
    "start_time": "2022-02-06T15:55:17.796Z"
   },
   {
    "duration": 209,
    "start_time": "2022-02-06T15:55:17.951Z"
   },
   {
    "duration": 211,
    "start_time": "2022-02-06T15:55:18.162Z"
   },
   {
    "duration": 198,
    "start_time": "2022-02-06T15:55:18.375Z"
   },
   {
    "duration": 157,
    "start_time": "2022-02-06T15:55:18.576Z"
   },
   {
    "duration": 203,
    "start_time": "2022-02-06T15:55:18.734Z"
   },
   {
    "duration": 166,
    "start_time": "2022-02-06T15:55:18.938Z"
   },
   {
    "duration": 163,
    "start_time": "2022-02-06T15:55:19.106Z"
   },
   {
    "duration": 163,
    "start_time": "2022-02-06T15:55:19.271Z"
   },
   {
    "duration": 194,
    "start_time": "2022-02-06T15:55:19.436Z"
   },
   {
    "duration": 220,
    "start_time": "2022-02-06T15:55:19.632Z"
   },
   {
    "duration": 151,
    "start_time": "2022-02-06T15:55:19.854Z"
   },
   {
    "duration": 159,
    "start_time": "2022-02-06T15:55:20.007Z"
   },
   {
    "duration": 3,
    "start_time": "2022-02-06T15:55:20.168Z"
   },
   {
    "duration": 25,
    "start_time": "2022-02-06T15:55:20.172Z"
   },
   {
    "duration": 20,
    "start_time": "2022-02-06T15:55:20.199Z"
   },
   {
    "duration": 3,
    "start_time": "2022-02-06T15:55:20.221Z"
   },
   {
    "duration": 11,
    "start_time": "2022-02-06T15:55:20.228Z"
   },
   {
    "duration": 29,
    "start_time": "2022-02-06T15:55:20.242Z"
   },
   {
    "duration": 4,
    "start_time": "2022-02-06T15:55:20.273Z"
   },
   {
    "duration": 61,
    "start_time": "2022-02-06T15:55:20.278Z"
   },
   {
    "duration": 928,
    "start_time": "2022-02-06T15:55:20.341Z"
   },
   {
    "duration": 34,
    "start_time": "2022-02-06T15:55:21.271Z"
   },
   {
    "duration": 493,
    "start_time": "2022-02-06T15:55:21.308Z"
   },
   {
    "duration": 3,
    "start_time": "2022-02-06T15:55:21.804Z"
   },
   {
    "duration": 22,
    "start_time": "2022-02-06T15:55:21.809Z"
   },
   {
    "duration": 3,
    "start_time": "2022-02-06T15:55:21.832Z"
   },
   {
    "duration": 12,
    "start_time": "2022-02-06T15:55:21.836Z"
   },
   {
    "duration": 33,
    "start_time": "2022-02-06T15:55:21.849Z"
   },
   {
    "duration": 2,
    "start_time": "2022-02-06T15:55:21.884Z"
   },
   {
    "duration": 80,
    "start_time": "2022-02-06T15:58:22.908Z"
   },
   {
    "duration": 828,
    "start_time": "2022-02-06T16:19:50.081Z"
   },
   {
    "duration": 9,
    "start_time": "2022-02-06T16:19:50.912Z"
   },
   {
    "duration": 19,
    "start_time": "2022-02-06T16:19:50.923Z"
   },
   {
    "duration": 25,
    "start_time": "2022-02-06T16:19:50.944Z"
   },
   {
    "duration": 72,
    "start_time": "2022-02-06T16:19:50.971Z"
   },
   {
    "duration": 9,
    "start_time": "2022-02-06T16:19:51.045Z"
   },
   {
    "duration": 12,
    "start_time": "2022-02-06T16:19:51.056Z"
   },
   {
    "duration": 3198,
    "start_time": "2022-02-06T16:19:51.071Z"
   },
   {
    "duration": 2836,
    "start_time": "2022-02-06T16:19:54.271Z"
   },
   {
    "duration": 275,
    "start_time": "2022-02-06T16:19:57.109Z"
   },
   {
    "duration": 152,
    "start_time": "2022-02-06T16:19:57.386Z"
   },
   {
    "duration": 233,
    "start_time": "2022-02-06T16:19:57.540Z"
   },
   {
    "duration": 276,
    "start_time": "2022-02-06T16:19:57.775Z"
   },
   {
    "duration": 216,
    "start_time": "2022-02-06T16:19:58.053Z"
   },
   {
    "duration": 142,
    "start_time": "2022-02-06T16:19:58.271Z"
   },
   {
    "duration": 206,
    "start_time": "2022-02-06T16:19:58.418Z"
   },
   {
    "duration": 166,
    "start_time": "2022-02-06T16:19:58.626Z"
   },
   {
    "duration": 144,
    "start_time": "2022-02-06T16:19:58.794Z"
   },
   {
    "duration": 255,
    "start_time": "2022-02-06T16:19:58.942Z"
   },
   {
    "duration": 257,
    "start_time": "2022-02-06T16:19:59.199Z"
   },
   {
    "duration": 229,
    "start_time": "2022-02-06T16:19:59.459Z"
   },
   {
    "duration": 156,
    "start_time": "2022-02-06T16:19:59.690Z"
   },
   {
    "duration": 164,
    "start_time": "2022-02-06T16:19:59.849Z"
   },
   {
    "duration": 3,
    "start_time": "2022-02-06T16:20:00.019Z"
   },
   {
    "duration": 29,
    "start_time": "2022-02-06T16:20:00.024Z"
   },
   {
    "duration": 7,
    "start_time": "2022-02-06T16:20:00.055Z"
   },
   {
    "duration": 17,
    "start_time": "2022-02-06T16:20:00.064Z"
   },
   {
    "duration": 24,
    "start_time": "2022-02-06T16:20:00.084Z"
   },
   {
    "duration": 26,
    "start_time": "2022-02-06T16:20:00.110Z"
   },
   {
    "duration": 17,
    "start_time": "2022-02-06T16:20:00.138Z"
   },
   {
    "duration": 71,
    "start_time": "2022-02-06T16:20:00.157Z"
   },
   {
    "duration": 729,
    "start_time": "2022-02-06T16:20:00.231Z"
   },
   {
    "duration": 34,
    "start_time": "2022-02-06T16:20:00.962Z"
   },
   {
    "duration": 665,
    "start_time": "2022-02-06T16:20:00.998Z"
   },
   {
    "duration": 4,
    "start_time": "2022-02-06T16:20:01.665Z"
   },
   {
    "duration": 33,
    "start_time": "2022-02-06T16:20:01.671Z"
   },
   {
    "duration": 12,
    "start_time": "2022-02-06T16:20:01.706Z"
   },
   {
    "duration": 3,
    "start_time": "2022-02-06T16:20:01.720Z"
   },
   {
    "duration": 40,
    "start_time": "2022-02-06T16:20:01.726Z"
   },
   {
    "duration": 2,
    "start_time": "2022-02-06T16:20:01.768Z"
   },
   {
    "duration": 436,
    "start_time": "2022-02-06T18:18:02.106Z"
   },
   {
    "duration": 873,
    "start_time": "2022-02-06T18:18:18.712Z"
   },
   {
    "duration": 8,
    "start_time": "2022-02-06T18:18:19.588Z"
   },
   {
    "duration": 14,
    "start_time": "2022-02-06T18:18:19.600Z"
   },
   {
    "duration": 56,
    "start_time": "2022-02-06T18:18:19.617Z"
   },
   {
    "duration": 83,
    "start_time": "2022-02-06T18:18:19.676Z"
   },
   {
    "duration": 11,
    "start_time": "2022-02-06T18:18:19.762Z"
   },
   {
    "duration": 14,
    "start_time": "2022-02-06T18:18:19.776Z"
   },
   {
    "duration": 4779,
    "start_time": "2022-02-06T18:18:19.793Z"
   },
   {
    "duration": 4753,
    "start_time": "2022-02-06T18:18:24.575Z"
   },
   {
    "duration": 633,
    "start_time": "2022-02-06T18:18:29.331Z"
   },
   {
    "duration": 232,
    "start_time": "2022-02-06T18:18:29.967Z"
   },
   {
    "duration": 344,
    "start_time": "2022-02-06T18:18:30.202Z"
   },
   {
    "duration": 298,
    "start_time": "2022-02-06T18:18:30.550Z"
   },
   {
    "duration": 344,
    "start_time": "2022-02-06T18:18:30.850Z"
   },
   {
    "duration": 230,
    "start_time": "2022-02-06T18:18:31.196Z"
   },
   {
    "duration": 325,
    "start_time": "2022-02-06T18:18:31.429Z"
   },
   {
    "duration": 248,
    "start_time": "2022-02-06T18:18:31.760Z"
   },
   {
    "duration": 255,
    "start_time": "2022-02-06T18:18:32.011Z"
   },
   {
    "duration": 248,
    "start_time": "2022-02-06T18:18:32.269Z"
   },
   {
    "duration": 240,
    "start_time": "2022-02-06T18:18:32.519Z"
   },
   {
    "duration": 314,
    "start_time": "2022-02-06T18:18:32.762Z"
   },
   {
    "duration": 234,
    "start_time": "2022-02-06T18:18:33.079Z"
   },
   {
    "duration": 238,
    "start_time": "2022-02-06T18:18:33.318Z"
   },
   {
    "duration": 4,
    "start_time": "2022-02-06T18:18:33.560Z"
   },
   {
    "duration": 35,
    "start_time": "2022-02-06T18:18:33.567Z"
   },
   {
    "duration": 6,
    "start_time": "2022-02-06T18:18:33.605Z"
   },
   {
    "duration": 4,
    "start_time": "2022-02-06T18:18:33.614Z"
   },
   {
    "duration": 50,
    "start_time": "2022-02-06T18:18:33.621Z"
   },
   {
    "duration": 34,
    "start_time": "2022-02-06T18:18:33.674Z"
   },
   {
    "duration": 4,
    "start_time": "2022-02-06T18:18:33.711Z"
   },
   {
    "duration": 75,
    "start_time": "2022-02-06T18:18:33.718Z"
   },
   {
    "duration": 1126,
    "start_time": "2022-02-06T18:18:33.796Z"
   },
   {
    "duration": 50,
    "start_time": "2022-02-06T18:18:34.924Z"
   },
   {
    "duration": 675,
    "start_time": "2022-02-06T18:18:34.976Z"
   },
   {
    "duration": 5,
    "start_time": "2022-02-06T18:18:35.655Z"
   },
   {
    "duration": 19,
    "start_time": "2022-02-06T18:18:35.663Z"
   },
   {
    "duration": 3,
    "start_time": "2022-02-06T18:18:35.684Z"
   },
   {
    "duration": 5,
    "start_time": "2022-02-06T18:18:35.689Z"
   },
   {
    "duration": 84,
    "start_time": "2022-02-06T18:18:35.696Z"
   },
   {
    "duration": 4,
    "start_time": "2022-02-06T18:18:35.783Z"
   },
   {
    "duration": 22,
    "start_time": "2022-02-06T18:26:29.832Z"
   },
   {
    "duration": 16,
    "start_time": "2022-02-06T18:27:04.983Z"
   },
   {
    "duration": 11,
    "start_time": "2022-02-06T18:27:22.677Z"
   },
   {
    "duration": 12,
    "start_time": "2022-02-06T18:27:53.632Z"
   },
   {
    "duration": 7,
    "start_time": "2022-02-06T18:38:28.260Z"
   },
   {
    "duration": 880,
    "start_time": "2022-02-06T18:38:40.590Z"
   },
   {
    "duration": 7,
    "start_time": "2022-02-06T18:38:41.474Z"
   },
   {
    "duration": 16,
    "start_time": "2022-02-06T18:38:41.484Z"
   },
   {
    "duration": 27,
    "start_time": "2022-02-06T18:38:41.503Z"
   },
   {
    "duration": 7,
    "start_time": "2022-02-06T18:38:41.560Z"
   },
   {
    "duration": 13,
    "start_time": "2022-02-06T18:38:41.570Z"
   },
   {
    "duration": 100,
    "start_time": "2022-02-06T18:38:41.586Z"
   },
   {
    "duration": 16,
    "start_time": "2022-02-06T18:38:41.692Z"
   },
   {
    "duration": 18,
    "start_time": "2022-02-06T18:38:41.712Z"
   },
   {
    "duration": 4771,
    "start_time": "2022-02-06T18:38:41.733Z"
   },
   {
    "duration": 4045,
    "start_time": "2022-02-06T18:38:46.506Z"
   },
   {
    "duration": 408,
    "start_time": "2022-02-06T18:38:50.559Z"
   },
   {
    "duration": 242,
    "start_time": "2022-02-06T18:38:50.969Z"
   },
   {
    "duration": 331,
    "start_time": "2022-02-06T18:38:51.213Z"
   },
   {
    "duration": 292,
    "start_time": "2022-02-06T18:38:51.548Z"
   },
   {
    "duration": 320,
    "start_time": "2022-02-06T18:38:51.843Z"
   },
   {
    "duration": 229,
    "start_time": "2022-02-06T18:38:52.165Z"
   },
   {
    "duration": 304,
    "start_time": "2022-02-06T18:38:52.397Z"
   },
   {
    "duration": 255,
    "start_time": "2022-02-06T18:38:52.704Z"
   },
   {
    "duration": 232,
    "start_time": "2022-02-06T18:38:52.961Z"
   },
   {
    "duration": 246,
    "start_time": "2022-02-06T18:38:53.196Z"
   },
   {
    "duration": 237,
    "start_time": "2022-02-06T18:38:53.445Z"
   },
   {
    "duration": 319,
    "start_time": "2022-02-06T18:38:53.685Z"
   },
   {
    "duration": 239,
    "start_time": "2022-02-06T18:38:54.006Z"
   },
   {
    "duration": 240,
    "start_time": "2022-02-06T18:38:54.247Z"
   },
   {
    "duration": 3,
    "start_time": "2022-02-06T18:38:54.491Z"
   },
   {
    "duration": 25,
    "start_time": "2022-02-06T18:38:54.497Z"
   },
   {
    "duration": 5,
    "start_time": "2022-02-06T18:38:54.524Z"
   },
   {
    "duration": 28,
    "start_time": "2022-02-06T18:38:54.531Z"
   },
   {
    "duration": 13,
    "start_time": "2022-02-06T18:38:54.561Z"
   },
   {
    "duration": 32,
    "start_time": "2022-02-06T18:38:54.577Z"
   },
   {
    "duration": 3,
    "start_time": "2022-02-06T18:38:54.612Z"
   },
   {
    "duration": 80,
    "start_time": "2022-02-06T18:38:54.618Z"
   },
   {
    "duration": 1031,
    "start_time": "2022-02-06T18:38:54.701Z"
   },
   {
    "duration": 44,
    "start_time": "2022-02-06T18:38:55.735Z"
   },
   {
    "duration": 1439,
    "start_time": "2022-02-06T18:38:55.782Z"
   },
   {
    "duration": 3,
    "start_time": "2022-02-06T18:38:57.223Z"
   },
   {
    "duration": 24,
    "start_time": "2022-02-06T18:38:57.229Z"
   },
   {
    "duration": 5,
    "start_time": "2022-02-06T18:38:57.255Z"
   },
   {
    "duration": 7,
    "start_time": "2022-02-06T18:38:57.263Z"
   },
   {
    "duration": 49,
    "start_time": "2022-02-06T18:38:57.272Z"
   },
   {
    "duration": 3,
    "start_time": "2022-02-06T18:38:57.324Z"
   },
   {
    "duration": 937,
    "start_time": "2022-02-06T19:02:45.462Z"
   },
   {
    "duration": 7,
    "start_time": "2022-02-06T19:02:46.402Z"
   },
   {
    "duration": 16,
    "start_time": "2022-02-06T19:02:46.413Z"
   },
   {
    "duration": 46,
    "start_time": "2022-02-06T19:02:46.432Z"
   },
   {
    "duration": 1920,
    "start_time": "2022-02-06T19:02:46.481Z"
   },
   {
    "duration": -89,
    "start_time": "2022-02-06T19:02:48.495Z"
   },
   {
    "duration": -91,
    "start_time": "2022-02-06T19:02:48.499Z"
   },
   {
    "duration": -94,
    "start_time": "2022-02-06T19:02:48.503Z"
   },
   {
    "duration": -96,
    "start_time": "2022-02-06T19:02:48.507Z"
   },
   {
    "duration": -98,
    "start_time": "2022-02-06T19:02:48.511Z"
   },
   {
    "duration": -100,
    "start_time": "2022-02-06T19:02:48.515Z"
   },
   {
    "duration": -102,
    "start_time": "2022-02-06T19:02:48.519Z"
   },
   {
    "duration": -106,
    "start_time": "2022-02-06T19:02:48.524Z"
   },
   {
    "duration": -108,
    "start_time": "2022-02-06T19:02:48.528Z"
   },
   {
    "duration": -112,
    "start_time": "2022-02-06T19:02:48.533Z"
   },
   {
    "duration": -113,
    "start_time": "2022-02-06T19:02:48.536Z"
   },
   {
    "duration": -119,
    "start_time": "2022-02-06T19:02:48.543Z"
   },
   {
    "duration": -130,
    "start_time": "2022-02-06T19:02:48.556Z"
   },
   {
    "duration": -133,
    "start_time": "2022-02-06T19:02:48.560Z"
   },
   {
    "duration": -136,
    "start_time": "2022-02-06T19:02:48.564Z"
   },
   {
    "duration": -138,
    "start_time": "2022-02-06T19:02:48.568Z"
   },
   {
    "duration": -139,
    "start_time": "2022-02-06T19:02:48.571Z"
   },
   {
    "duration": -142,
    "start_time": "2022-02-06T19:02:48.575Z"
   },
   {
    "duration": -143,
    "start_time": "2022-02-06T19:02:48.578Z"
   },
   {
    "duration": -145,
    "start_time": "2022-02-06T19:02:48.582Z"
   },
   {
    "duration": -146,
    "start_time": "2022-02-06T19:02:48.585Z"
   },
   {
    "duration": -149,
    "start_time": "2022-02-06T19:02:48.589Z"
   },
   {
    "duration": -135,
    "start_time": "2022-02-06T19:02:48.593Z"
   },
   {
    "duration": -137,
    "start_time": "2022-02-06T19:02:48.597Z"
   },
   {
    "duration": -138,
    "start_time": "2022-02-06T19:02:48.599Z"
   },
   {
    "duration": -139,
    "start_time": "2022-02-06T19:02:48.602Z"
   },
   {
    "duration": -148,
    "start_time": "2022-02-06T19:02:48.613Z"
   },
   {
    "duration": -149,
    "start_time": "2022-02-06T19:02:48.616Z"
   },
   {
    "duration": -151,
    "start_time": "2022-02-06T19:02:48.619Z"
   },
   {
    "duration": -152,
    "start_time": "2022-02-06T19:02:48.623Z"
   },
   {
    "duration": -153,
    "start_time": "2022-02-06T19:02:48.626Z"
   },
   {
    "duration": -155,
    "start_time": "2022-02-06T19:02:48.630Z"
   },
   {
    "duration": -157,
    "start_time": "2022-02-06T19:02:48.633Z"
   },
   {
    "duration": -158,
    "start_time": "2022-02-06T19:02:48.636Z"
   },
   {
    "duration": -160,
    "start_time": "2022-02-06T19:02:48.640Z"
   },
   {
    "duration": -161,
    "start_time": "2022-02-06T19:02:48.643Z"
   },
   {
    "duration": 1644,
    "start_time": "2022-02-06T19:03:56.468Z"
   },
   {
    "duration": 908,
    "start_time": "2022-02-06T19:04:08.833Z"
   },
   {
    "duration": 8,
    "start_time": "2022-02-06T19:04:09.744Z"
   },
   {
    "duration": 15,
    "start_time": "2022-02-06T19:04:09.760Z"
   },
   {
    "duration": 25,
    "start_time": "2022-02-06T19:04:09.778Z"
   },
   {
    "duration": 1965,
    "start_time": "2022-02-06T19:04:09.806Z"
   },
   {
    "duration": -95,
    "start_time": "2022-02-06T19:04:11.870Z"
   },
   {
    "duration": -100,
    "start_time": "2022-02-06T19:04:11.876Z"
   },
   {
    "duration": -103,
    "start_time": "2022-02-06T19:04:11.881Z"
   },
   {
    "duration": -105,
    "start_time": "2022-02-06T19:04:11.884Z"
   },
   {
    "duration": -107,
    "start_time": "2022-02-06T19:04:11.888Z"
   },
   {
    "duration": -128,
    "start_time": "2022-02-06T19:04:11.910Z"
   },
   {
    "duration": -131,
    "start_time": "2022-02-06T19:04:11.914Z"
   },
   {
    "duration": -132,
    "start_time": "2022-02-06T19:04:11.917Z"
   },
   {
    "duration": -134,
    "start_time": "2022-02-06T19:04:11.920Z"
   },
   {
    "duration": -138,
    "start_time": "2022-02-06T19:04:11.926Z"
   },
   {
    "duration": -142,
    "start_time": "2022-02-06T19:04:11.931Z"
   },
   {
    "duration": -151,
    "start_time": "2022-02-06T19:04:11.942Z"
   },
   {
    "duration": -155,
    "start_time": "2022-02-06T19:04:11.947Z"
   },
   {
    "duration": -158,
    "start_time": "2022-02-06T19:04:11.951Z"
   },
   {
    "duration": -161,
    "start_time": "2022-02-06T19:04:11.956Z"
   },
   {
    "duration": -170,
    "start_time": "2022-02-06T19:04:11.966Z"
   },
   {
    "duration": -183,
    "start_time": "2022-02-06T19:04:11.980Z"
   },
   {
    "duration": -186,
    "start_time": "2022-02-06T19:04:11.984Z"
   },
   {
    "duration": -189,
    "start_time": "2022-02-06T19:04:11.989Z"
   },
   {
    "duration": -195,
    "start_time": "2022-02-06T19:04:11.996Z"
   },
   {
    "duration": -222,
    "start_time": "2022-02-06T19:04:12.024Z"
   },
   {
    "duration": -223,
    "start_time": "2022-02-06T19:04:12.027Z"
   },
   {
    "duration": -226,
    "start_time": "2022-02-06T19:04:12.031Z"
   },
   {
    "duration": -228,
    "start_time": "2022-02-06T19:04:12.034Z"
   },
   {
    "duration": -243,
    "start_time": "2022-02-06T19:04:12.050Z"
   },
   {
    "duration": -251,
    "start_time": "2022-02-06T19:04:12.060Z"
   },
   {
    "duration": -255,
    "start_time": "2022-02-06T19:04:12.065Z"
   },
   {
    "duration": -238,
    "start_time": "2022-02-06T19:04:12.097Z"
   },
   {
    "duration": -241,
    "start_time": "2022-02-06T19:04:12.101Z"
   },
   {
    "duration": -242,
    "start_time": "2022-02-06T19:04:12.104Z"
   },
   {
    "duration": -246,
    "start_time": "2022-02-06T19:04:12.109Z"
   },
   {
    "duration": -248,
    "start_time": "2022-02-06T19:04:12.113Z"
   },
   {
    "duration": -252,
    "start_time": "2022-02-06T19:04:12.119Z"
   },
   {
    "duration": -257,
    "start_time": "2022-02-06T19:04:12.125Z"
   },
   {
    "duration": -259,
    "start_time": "2022-02-06T19:04:12.129Z"
   },
   {
    "duration": -261,
    "start_time": "2022-02-06T19:04:12.132Z"
   },
   {
    "duration": 1678,
    "start_time": "2022-02-06T19:05:16.279Z"
   },
   {
    "duration": 1065,
    "start_time": "2022-02-06T19:05:25.034Z"
   },
   {
    "duration": 7,
    "start_time": "2022-02-06T19:05:26.103Z"
   },
   {
    "duration": 15,
    "start_time": "2022-02-06T19:05:26.114Z"
   },
   {
    "duration": 29,
    "start_time": "2022-02-06T19:05:26.161Z"
   },
   {
    "duration": 1966,
    "start_time": "2022-02-06T19:05:26.193Z"
   },
   {
    "duration": -275,
    "start_time": "2022-02-06T19:05:28.438Z"
   },
   {
    "duration": -278,
    "start_time": "2022-02-06T19:05:28.442Z"
   },
   {
    "duration": -294,
    "start_time": "2022-02-06T19:05:28.459Z"
   },
   {
    "duration": -304,
    "start_time": "2022-02-06T19:05:28.471Z"
   },
   {
    "duration": -317,
    "start_time": "2022-02-06T19:05:28.485Z"
   },
   {
    "duration": -322,
    "start_time": "2022-02-06T19:05:28.491Z"
   },
   {
    "duration": -333,
    "start_time": "2022-02-06T19:05:28.504Z"
   },
   {
    "duration": -345,
    "start_time": "2022-02-06T19:05:28.517Z"
   },
   {
    "duration": -349,
    "start_time": "2022-02-06T19:05:28.522Z"
   },
   {
    "duration": -362,
    "start_time": "2022-02-06T19:05:28.537Z"
   },
   {
    "duration": -367,
    "start_time": "2022-02-06T19:05:28.543Z"
   },
   {
    "duration": -378,
    "start_time": "2022-02-06T19:05:28.555Z"
   },
   {
    "duration": -391,
    "start_time": "2022-02-06T19:05:28.570Z"
   },
   {
    "duration": -395,
    "start_time": "2022-02-06T19:05:28.575Z"
   },
   {
    "duration": -407,
    "start_time": "2022-02-06T19:05:28.588Z"
   },
   {
    "duration": -420,
    "start_time": "2022-02-06T19:05:28.603Z"
   },
   {
    "duration": -424,
    "start_time": "2022-02-06T19:05:28.608Z"
   },
   {
    "duration": -438,
    "start_time": "2022-02-06T19:05:28.623Z"
   },
   {
    "duration": -463,
    "start_time": "2022-02-06T19:05:28.650Z"
   },
   {
    "duration": -467,
    "start_time": "2022-02-06T19:05:28.655Z"
   },
   {
    "duration": -470,
    "start_time": "2022-02-06T19:05:28.660Z"
   },
   {
    "duration": -474,
    "start_time": "2022-02-06T19:05:28.665Z"
   },
   {
    "duration": -477,
    "start_time": "2022-02-06T19:05:28.670Z"
   },
   {
    "duration": -482,
    "start_time": "2022-02-06T19:05:28.676Z"
   },
   {
    "duration": -530,
    "start_time": "2022-02-06T19:05:28.725Z"
   },
   {
    "duration": -542,
    "start_time": "2022-02-06T19:05:28.739Z"
   },
   {
    "duration": -563,
    "start_time": "2022-02-06T19:05:28.762Z"
   },
   {
    "duration": -590,
    "start_time": "2022-02-06T19:05:28.790Z"
   },
   {
    "duration": -614,
    "start_time": "2022-02-06T19:05:28.815Z"
   },
   {
    "duration": -565,
    "start_time": "2022-02-06T19:05:28.824Z"
   },
   {
    "duration": -577,
    "start_time": "2022-02-06T19:05:28.837Z"
   },
   {
    "duration": -579,
    "start_time": "2022-02-06T19:05:28.841Z"
   },
   {
    "duration": -587,
    "start_time": "2022-02-06T19:05:28.850Z"
   },
   {
    "duration": -592,
    "start_time": "2022-02-06T19:05:28.856Z"
   },
   {
    "duration": -601,
    "start_time": "2022-02-06T19:05:28.867Z"
   },
   {
    "duration": -608,
    "start_time": "2022-02-06T19:05:28.875Z"
   },
   {
    "duration": 11,
    "start_time": "2022-02-06T19:06:22.888Z"
   },
   {
    "duration": 1623,
    "start_time": "2022-02-06T19:07:13.367Z"
   },
   {
    "duration": 1930,
    "start_time": "2022-02-06T19:08:29.976Z"
   },
   {
    "duration": 1601,
    "start_time": "2022-02-06T19:09:13.262Z"
   },
   {
    "duration": 14,
    "start_time": "2022-02-06T19:09:38.593Z"
   },
   {
    "duration": 875,
    "start_time": "2022-02-06T19:11:14.667Z"
   },
   {
    "duration": 14,
    "start_time": "2022-02-06T19:11:15.545Z"
   },
   {
    "duration": 14,
    "start_time": "2022-02-06T19:11:15.562Z"
   },
   {
    "duration": 25,
    "start_time": "2022-02-06T19:11:15.579Z"
   },
   {
    "duration": 74,
    "start_time": "2022-02-06T19:11:15.606Z"
   },
   {
    "duration": 14,
    "start_time": "2022-02-06T19:11:15.682Z"
   },
   {
    "duration": 91,
    "start_time": "2022-02-06T19:11:15.699Z"
   },
   {
    "duration": 11,
    "start_time": "2022-02-06T19:11:15.796Z"
   },
   {
    "duration": 13,
    "start_time": "2022-02-06T19:11:15.810Z"
   },
   {
    "duration": 4539,
    "start_time": "2022-02-06T19:11:15.825Z"
   },
   {
    "duration": 4683,
    "start_time": "2022-02-06T19:11:20.367Z"
   },
   {
    "duration": 541,
    "start_time": "2022-02-06T19:11:25.060Z"
   },
   {
    "duration": 240,
    "start_time": "2022-02-06T19:11:25.604Z"
   },
   {
    "duration": 334,
    "start_time": "2022-02-06T19:11:25.846Z"
   },
   {
    "duration": 277,
    "start_time": "2022-02-06T19:11:26.184Z"
   },
   {
    "duration": 300,
    "start_time": "2022-02-06T19:11:26.464Z"
   },
   {
    "duration": 221,
    "start_time": "2022-02-06T19:11:26.766Z"
   },
   {
    "duration": 305,
    "start_time": "2022-02-06T19:11:26.990Z"
   },
   {
    "duration": 262,
    "start_time": "2022-02-06T19:11:27.297Z"
   },
   {
    "duration": 335,
    "start_time": "2022-02-06T19:11:27.561Z"
   },
   {
    "duration": 328,
    "start_time": "2022-02-06T19:11:27.899Z"
   },
   {
    "duration": 237,
    "start_time": "2022-02-06T19:11:28.230Z"
   },
   {
    "duration": 329,
    "start_time": "2022-02-06T19:11:28.472Z"
   },
   {
    "duration": 246,
    "start_time": "2022-02-06T19:11:28.804Z"
   },
   {
    "duration": 239,
    "start_time": "2022-02-06T19:11:29.053Z"
   },
   {
    "duration": 4,
    "start_time": "2022-02-06T19:11:29.294Z"
   },
   {
    "duration": 24,
    "start_time": "2022-02-06T19:11:29.300Z"
   },
   {
    "duration": 5,
    "start_time": "2022-02-06T19:11:29.326Z"
   },
   {
    "duration": 29,
    "start_time": "2022-02-06T19:11:29.333Z"
   },
   {
    "duration": 14,
    "start_time": "2022-02-06T19:11:29.365Z"
   },
   {
    "duration": 31,
    "start_time": "2022-02-06T19:11:29.382Z"
   },
   {
    "duration": 3,
    "start_time": "2022-02-06T19:11:29.416Z"
   },
   {
    "duration": 119,
    "start_time": "2022-02-06T19:11:29.459Z"
   },
   {
    "duration": 1063,
    "start_time": "2022-02-06T19:11:29.581Z"
   },
   {
    "duration": 49,
    "start_time": "2022-02-06T19:11:30.647Z"
   },
   {
    "duration": 700,
    "start_time": "2022-02-06T19:11:30.699Z"
   },
   {
    "duration": 4,
    "start_time": "2022-02-06T19:11:31.402Z"
   },
   {
    "duration": 21,
    "start_time": "2022-02-06T19:11:31.409Z"
   },
   {
    "duration": 28,
    "start_time": "2022-02-06T19:11:31.433Z"
   },
   {
    "duration": 5,
    "start_time": "2022-02-06T19:11:31.464Z"
   },
   {
    "duration": 46,
    "start_time": "2022-02-06T19:11:31.472Z"
   },
   {
    "duration": 38,
    "start_time": "2022-02-06T19:11:31.521Z"
   },
   {
    "duration": 73,
    "start_time": "2022-02-06T19:13:13.036Z"
   },
   {
    "duration": 826,
    "start_time": "2022-02-07T12:53:39.759Z"
   },
   {
    "duration": 7,
    "start_time": "2022-02-07T12:53:40.588Z"
   },
   {
    "duration": 25,
    "start_time": "2022-02-07T12:53:40.598Z"
   },
   {
    "duration": 26,
    "start_time": "2022-02-07T12:53:40.627Z"
   },
   {
    "duration": 88,
    "start_time": "2022-02-07T12:53:40.656Z"
   },
   {
    "duration": 81,
    "start_time": "2022-02-07T12:53:40.746Z"
   },
   {
    "duration": 11,
    "start_time": "2022-02-07T12:53:40.830Z"
   },
   {
    "duration": 14,
    "start_time": "2022-02-07T12:53:40.843Z"
   },
   {
    "duration": 4292,
    "start_time": "2022-02-07T12:53:40.861Z"
   },
   {
    "duration": 4085,
    "start_time": "2022-02-07T12:53:45.156Z"
   },
   {
    "duration": 417,
    "start_time": "2022-02-07T12:53:49.243Z"
   },
   {
    "duration": 233,
    "start_time": "2022-02-07T12:53:49.662Z"
   },
   {
    "duration": 325,
    "start_time": "2022-02-07T12:53:49.898Z"
   },
   {
    "duration": 285,
    "start_time": "2022-02-07T12:53:50.225Z"
   },
   {
    "duration": 314,
    "start_time": "2022-02-07T12:53:50.512Z"
   },
   {
    "duration": 219,
    "start_time": "2022-02-07T12:53:50.828Z"
   },
   {
    "duration": 308,
    "start_time": "2022-02-07T12:53:51.050Z"
   },
   {
    "duration": 253,
    "start_time": "2022-02-07T12:53:51.361Z"
   },
   {
    "duration": 235,
    "start_time": "2022-02-07T12:53:51.616Z"
   },
   {
    "duration": 241,
    "start_time": "2022-02-07T12:53:51.853Z"
   },
   {
    "duration": 234,
    "start_time": "2022-02-07T12:53:52.096Z"
   },
   {
    "duration": 314,
    "start_time": "2022-02-07T12:53:52.332Z"
   },
   {
    "duration": 226,
    "start_time": "2022-02-07T12:53:52.648Z"
   },
   {
    "duration": 226,
    "start_time": "2022-02-07T12:53:52.876Z"
   },
   {
    "duration": 3,
    "start_time": "2022-02-07T12:53:53.105Z"
   },
   {
    "duration": 31,
    "start_time": "2022-02-07T12:53:53.110Z"
   },
   {
    "duration": 5,
    "start_time": "2022-02-07T12:53:53.148Z"
   },
   {
    "duration": 6,
    "start_time": "2022-02-07T12:53:53.156Z"
   },
   {
    "duration": 16,
    "start_time": "2022-02-07T12:53:53.165Z"
   },
   {
    "duration": 67,
    "start_time": "2022-02-07T12:53:53.184Z"
   },
   {
    "duration": 21,
    "start_time": "2022-02-07T12:53:53.254Z"
   },
   {
    "duration": 47,
    "start_time": "2022-02-07T12:53:53.278Z"
   },
   {
    "duration": 1403,
    "start_time": "2022-02-07T12:53:53.328Z"
   },
   {
    "duration": 62,
    "start_time": "2022-02-07T12:53:54.738Z"
   },
   {
    "duration": 1280,
    "start_time": "2022-02-07T12:53:54.803Z"
   },
   {
    "duration": 6,
    "start_time": "2022-02-07T12:53:56.086Z"
   },
   {
    "duration": 33,
    "start_time": "2022-02-07T12:53:56.095Z"
   },
   {
    "duration": 3,
    "start_time": "2022-02-07T12:53:56.131Z"
   },
   {
    "duration": 12,
    "start_time": "2022-02-07T12:53:56.137Z"
   },
   {
    "duration": 86,
    "start_time": "2022-02-07T12:53:56.151Z"
   },
   {
    "duration": 4,
    "start_time": "2022-02-07T12:53:56.239Z"
   },
   {
    "duration": 889,
    "start_time": "2022-02-07T12:58:01.509Z"
   },
   {
    "duration": 7,
    "start_time": "2022-02-07T12:58:02.401Z"
   },
   {
    "duration": 24,
    "start_time": "2022-02-07T12:58:02.411Z"
   },
   {
    "duration": 89,
    "start_time": "2022-02-07T12:58:02.438Z"
   },
   {
    "duration": 12,
    "start_time": "2022-02-07T12:58:02.530Z"
   },
   {
    "duration": 14,
    "start_time": "2022-02-07T12:58:02.544Z"
   },
   {
    "duration": 4645,
    "start_time": "2022-02-07T12:58:02.561Z"
   },
   {
    "duration": 4159,
    "start_time": "2022-02-07T12:58:07.210Z"
   },
   {
    "duration": 30,
    "start_time": "2022-02-07T12:58:11.372Z"
   },
   {
    "duration": 60,
    "start_time": "2022-02-07T12:58:11.424Z"
   },
   {
    "duration": 432,
    "start_time": "2022-02-07T12:58:11.487Z"
   },
   {
    "duration": 244,
    "start_time": "2022-02-07T12:58:11.924Z"
   },
   {
    "duration": 349,
    "start_time": "2022-02-07T12:58:12.170Z"
   },
   {
    "duration": 291,
    "start_time": "2022-02-07T12:58:12.522Z"
   },
   {
    "duration": 330,
    "start_time": "2022-02-07T12:58:12.816Z"
   },
   {
    "duration": 227,
    "start_time": "2022-02-07T12:58:13.149Z"
   },
   {
    "duration": 305,
    "start_time": "2022-02-07T12:58:13.379Z"
   },
   {
    "duration": 242,
    "start_time": "2022-02-07T12:58:13.686Z"
   },
   {
    "duration": 222,
    "start_time": "2022-02-07T12:58:13.930Z"
   },
   {
    "duration": 235,
    "start_time": "2022-02-07T12:58:14.155Z"
   },
   {
    "duration": 233,
    "start_time": "2022-02-07T12:58:14.393Z"
   },
   {
    "duration": 308,
    "start_time": "2022-02-07T12:58:14.629Z"
   },
   {
    "duration": 235,
    "start_time": "2022-02-07T12:58:14.943Z"
   },
   {
    "duration": 243,
    "start_time": "2022-02-07T12:58:15.182Z"
   },
   {
    "duration": 4,
    "start_time": "2022-02-07T12:58:15.428Z"
   },
   {
    "duration": 24,
    "start_time": "2022-02-07T12:58:15.435Z"
   },
   {
    "duration": 5,
    "start_time": "2022-02-07T12:58:15.462Z"
   },
   {
    "duration": 8,
    "start_time": "2022-02-07T12:58:15.469Z"
   },
   {
    "duration": 48,
    "start_time": "2022-02-07T12:58:15.479Z"
   },
   {
    "duration": 30,
    "start_time": "2022-02-07T12:58:15.529Z"
   },
   {
    "duration": 5,
    "start_time": "2022-02-07T12:58:15.561Z"
   },
   {
    "duration": 66,
    "start_time": "2022-02-07T12:58:15.568Z"
   },
   {
    "duration": 1002,
    "start_time": "2022-02-07T12:58:15.637Z"
   },
   {
    "duration": 42,
    "start_time": "2022-02-07T12:58:16.641Z"
   },
   {
    "duration": 852,
    "start_time": "2022-02-07T12:58:16.685Z"
   },
   {
    "duration": 3,
    "start_time": "2022-02-07T12:58:17.540Z"
   },
   {
    "duration": 26,
    "start_time": "2022-02-07T12:58:17.546Z"
   },
   {
    "duration": 4,
    "start_time": "2022-02-07T12:58:17.575Z"
   },
   {
    "duration": 7,
    "start_time": "2022-02-07T12:58:17.582Z"
   },
   {
    "duration": 92,
    "start_time": "2022-02-07T12:58:17.592Z"
   },
   {
    "duration": 3,
    "start_time": "2022-02-07T12:58:17.687Z"
   },
   {
    "duration": 226,
    "start_time": "2022-02-07T13:02:06.033Z"
   },
   {
    "duration": 815,
    "start_time": "2022-02-07T13:02:13.860Z"
   },
   {
    "duration": 7,
    "start_time": "2022-02-07T13:02:14.678Z"
   },
   {
    "duration": 18,
    "start_time": "2022-02-07T13:02:14.688Z"
   },
   {
    "duration": 72,
    "start_time": "2022-02-07T13:02:14.723Z"
   },
   {
    "duration": 26,
    "start_time": "2022-02-07T13:02:14.798Z"
   },
   {
    "duration": 14,
    "start_time": "2022-02-07T13:02:14.827Z"
   },
   {
    "duration": 4543,
    "start_time": "2022-02-07T13:02:14.843Z"
   },
   {
    "duration": 4136,
    "start_time": "2022-02-07T13:02:19.389Z"
   },
   {
    "duration": 30,
    "start_time": "2022-02-07T13:02:23.528Z"
   },
   {
    "duration": 87,
    "start_time": "2022-02-07T13:02:23.562Z"
   },
   {
    "duration": 418,
    "start_time": "2022-02-07T13:02:23.652Z"
   },
   {
    "duration": 225,
    "start_time": "2022-02-07T13:02:24.073Z"
   },
   {
    "duration": 327,
    "start_time": "2022-02-07T13:02:24.300Z"
   },
   {
    "duration": 294,
    "start_time": "2022-02-07T13:02:24.629Z"
   },
   {
    "duration": 303,
    "start_time": "2022-02-07T13:02:24.925Z"
   },
   {
    "duration": 219,
    "start_time": "2022-02-07T13:02:25.230Z"
   },
   {
    "duration": 316,
    "start_time": "2022-02-07T13:02:25.452Z"
   },
   {
    "duration": 237,
    "start_time": "2022-02-07T13:02:25.771Z"
   },
   {
    "duration": 239,
    "start_time": "2022-02-07T13:02:26.011Z"
   },
   {
    "duration": 245,
    "start_time": "2022-02-07T13:02:26.252Z"
   },
   {
    "duration": 241,
    "start_time": "2022-02-07T13:02:26.500Z"
   },
   {
    "duration": 307,
    "start_time": "2022-02-07T13:02:26.743Z"
   },
   {
    "duration": 237,
    "start_time": "2022-02-07T13:02:27.053Z"
   },
   {
    "duration": 235,
    "start_time": "2022-02-07T13:02:27.293Z"
   },
   {
    "duration": 4,
    "start_time": "2022-02-07T13:02:27.530Z"
   },
   {
    "duration": 24,
    "start_time": "2022-02-07T13:02:27.536Z"
   },
   {
    "duration": 4,
    "start_time": "2022-02-07T13:02:27.565Z"
   },
   {
    "duration": 11,
    "start_time": "2022-02-07T13:02:27.572Z"
   },
   {
    "duration": 45,
    "start_time": "2022-02-07T13:02:27.586Z"
   },
   {
    "duration": 30,
    "start_time": "2022-02-07T13:02:27.634Z"
   },
   {
    "duration": 5,
    "start_time": "2022-02-07T13:02:27.667Z"
   },
   {
    "duration": 68,
    "start_time": "2022-02-07T13:02:27.674Z"
   },
   {
    "duration": 1086,
    "start_time": "2022-02-07T13:02:27.744Z"
   },
   {
    "duration": 40,
    "start_time": "2022-02-07T13:02:28.832Z"
   },
   {
    "duration": 682,
    "start_time": "2022-02-07T13:02:28.874Z"
   },
   {
    "duration": 3,
    "start_time": "2022-02-07T13:02:29.558Z"
   },
   {
    "duration": 22,
    "start_time": "2022-02-07T13:02:29.564Z"
   },
   {
    "duration": 3,
    "start_time": "2022-02-07T13:02:29.588Z"
   },
   {
    "duration": 6,
    "start_time": "2022-02-07T13:02:29.593Z"
   },
   {
    "duration": 45,
    "start_time": "2022-02-07T13:02:29.622Z"
   },
   {
    "duration": 3,
    "start_time": "2022-02-07T13:02:29.669Z"
   },
   {
    "duration": 231,
    "start_time": "2022-02-07T13:04:17.229Z"
   },
   {
    "duration": 260,
    "start_time": "2022-02-07T13:04:30.446Z"
   },
   {
    "duration": 248,
    "start_time": "2022-02-07T13:04:40.045Z"
   },
   {
    "duration": 222,
    "start_time": "2022-02-07T13:05:12.342Z"
   },
   {
    "duration": 226,
    "start_time": "2022-02-07T13:07:49.176Z"
   },
   {
    "duration": 224,
    "start_time": "2022-02-07T13:08:12.167Z"
   },
   {
    "duration": 312,
    "start_time": "2022-02-07T13:08:21.330Z"
   },
   {
    "duration": 232,
    "start_time": "2022-02-07T13:09:08.077Z"
   },
   {
    "duration": 224,
    "start_time": "2022-02-07T13:09:14.363Z"
   },
   {
    "duration": 263,
    "start_time": "2022-02-07T13:09:22.384Z"
   },
   {
    "duration": 240,
    "start_time": "2022-02-07T13:09:29.456Z"
   },
   {
    "duration": 235,
    "start_time": "2022-02-07T13:09:41.712Z"
   },
   {
    "duration": 222,
    "start_time": "2022-02-07T13:09:58.288Z"
   },
   {
    "duration": 220,
    "start_time": "2022-02-07T13:10:04.744Z"
   },
   {
    "duration": 212,
    "start_time": "2022-02-07T13:10:13.552Z"
   },
   {
    "duration": 31,
    "start_time": "2022-02-07T13:12:27.962Z"
   },
   {
    "duration": 855,
    "start_time": "2022-02-07T13:12:40.190Z"
   },
   {
    "duration": 7,
    "start_time": "2022-02-07T13:12:41.048Z"
   },
   {
    "duration": 14,
    "start_time": "2022-02-07T13:12:41.058Z"
   },
   {
    "duration": 86,
    "start_time": "2022-02-07T13:12:41.075Z"
   },
   {
    "duration": 11,
    "start_time": "2022-02-07T13:12:41.164Z"
   },
   {
    "duration": 14,
    "start_time": "2022-02-07T13:12:41.177Z"
   },
   {
    "duration": 4395,
    "start_time": "2022-02-07T13:12:41.193Z"
   },
   {
    "duration": 4244,
    "start_time": "2022-02-07T13:12:45.592Z"
   },
   {
    "duration": 27,
    "start_time": "2022-02-07T13:12:49.839Z"
   },
   {
    "duration": 86,
    "start_time": "2022-02-07T13:12:49.868Z"
   },
   {
    "duration": 421,
    "start_time": "2022-02-07T13:12:49.957Z"
   },
   {
    "duration": 233,
    "start_time": "2022-02-07T13:12:50.380Z"
   },
   {
    "duration": 312,
    "start_time": "2022-02-07T13:12:50.615Z"
   },
   {
    "duration": 280,
    "start_time": "2022-02-07T13:12:50.930Z"
   },
   {
    "duration": 306,
    "start_time": "2022-02-07T13:12:51.213Z"
   },
   {
    "duration": 219,
    "start_time": "2022-02-07T13:12:51.524Z"
   },
   {
    "duration": 303,
    "start_time": "2022-02-07T13:12:51.746Z"
   },
   {
    "duration": 246,
    "start_time": "2022-02-07T13:12:52.052Z"
   },
   {
    "duration": 228,
    "start_time": "2022-02-07T13:12:52.300Z"
   },
   {
    "duration": 245,
    "start_time": "2022-02-07T13:12:52.530Z"
   },
   {
    "duration": 239,
    "start_time": "2022-02-07T13:12:52.778Z"
   },
   {
    "duration": 328,
    "start_time": "2022-02-07T13:12:53.024Z"
   },
   {
    "duration": 238,
    "start_time": "2022-02-07T13:12:53.357Z"
   },
   {
    "duration": 235,
    "start_time": "2022-02-07T13:12:53.597Z"
   },
   {
    "duration": 30,
    "start_time": "2022-02-07T13:12:53.834Z"
   },
   {
    "duration": 3,
    "start_time": "2022-02-07T13:12:53.867Z"
   },
   {
    "duration": 8,
    "start_time": "2022-02-07T13:12:53.873Z"
   },
   {
    "duration": 5,
    "start_time": "2022-02-07T13:12:53.884Z"
   },
   {
    "duration": 39,
    "start_time": "2022-02-07T13:12:53.891Z"
   },
   {
    "duration": 27,
    "start_time": "2022-02-07T13:12:53.932Z"
   },
   {
    "duration": 8,
    "start_time": "2022-02-07T13:12:53.961Z"
   },
   {
    "duration": 128,
    "start_time": "2022-02-07T13:12:53.972Z"
   },
   {
    "duration": 453,
    "start_time": "2022-02-07T13:12:54.103Z"
   },
   {
    "duration": 35,
    "start_time": "2022-02-07T13:12:54.559Z"
   },
   {
    "duration": 664,
    "start_time": "2022-02-07T13:12:54.596Z"
   },
   {
    "duration": 3,
    "start_time": "2022-02-07T13:12:55.263Z"
   },
   {
    "duration": 22,
    "start_time": "2022-02-07T13:12:55.269Z"
   },
   {
    "duration": 3,
    "start_time": "2022-02-07T13:12:55.293Z"
   },
   {
    "duration": 27,
    "start_time": "2022-02-07T13:12:55.298Z"
   },
   {
    "duration": 44,
    "start_time": "2022-02-07T13:12:55.327Z"
   },
   {
    "duration": 3,
    "start_time": "2022-02-07T13:12:55.373Z"
   },
   {
    "duration": 852,
    "start_time": "2022-02-07T13:14:56.718Z"
   },
   {
    "duration": 7,
    "start_time": "2022-02-07T13:14:57.573Z"
   },
   {
    "duration": 15,
    "start_time": "2022-02-07T13:14:57.583Z"
   },
   {
    "duration": 89,
    "start_time": "2022-02-07T13:14:57.601Z"
   },
   {
    "duration": 31,
    "start_time": "2022-02-07T13:14:57.693Z"
   },
   {
    "duration": 16,
    "start_time": "2022-02-07T13:14:57.726Z"
   },
   {
    "duration": 4685,
    "start_time": "2022-02-07T13:14:57.744Z"
   },
   {
    "duration": 4094,
    "start_time": "2022-02-07T13:15:02.432Z"
   },
   {
    "duration": 27,
    "start_time": "2022-02-07T13:15:06.531Z"
   },
   {
    "duration": 88,
    "start_time": "2022-02-07T13:15:06.561Z"
   },
   {
    "duration": 417,
    "start_time": "2022-02-07T13:15:06.651Z"
   },
   {
    "duration": 231,
    "start_time": "2022-02-07T13:15:07.070Z"
   },
   {
    "duration": 329,
    "start_time": "2022-02-07T13:15:07.304Z"
   },
   {
    "duration": 292,
    "start_time": "2022-02-07T13:15:07.635Z"
   },
   {
    "duration": 305,
    "start_time": "2022-02-07T13:15:07.930Z"
   },
   {
    "duration": 225,
    "start_time": "2022-02-07T13:15:08.237Z"
   },
   {
    "duration": 307,
    "start_time": "2022-02-07T13:15:08.465Z"
   },
   {
    "duration": 245,
    "start_time": "2022-02-07T13:15:08.774Z"
   },
   {
    "duration": 217,
    "start_time": "2022-02-07T13:15:09.023Z"
   },
   {
    "duration": 248,
    "start_time": "2022-02-07T13:15:09.242Z"
   },
   {
    "duration": 274,
    "start_time": "2022-02-07T13:15:09.493Z"
   },
   {
    "duration": 325,
    "start_time": "2022-02-07T13:15:09.769Z"
   },
   {
    "duration": 245,
    "start_time": "2022-02-07T13:15:10.097Z"
   },
   {
    "duration": 236,
    "start_time": "2022-02-07T13:15:10.344Z"
   },
   {
    "duration": 4,
    "start_time": "2022-02-07T13:15:10.582Z"
   },
   {
    "duration": 56,
    "start_time": "2022-02-07T13:15:10.589Z"
   },
   {
    "duration": 994,
    "start_time": "2022-02-07T13:15:10.650Z"
   },
   {
    "duration": 41,
    "start_time": "2022-02-07T13:15:11.646Z"
   },
   {
    "duration": 738,
    "start_time": "2022-02-07T13:15:11.690Z"
   },
   {
    "duration": 4,
    "start_time": "2022-02-07T13:15:12.432Z"
   },
   {
    "duration": 21,
    "start_time": "2022-02-07T13:15:12.440Z"
   },
   {
    "duration": 4,
    "start_time": "2022-02-07T13:15:12.464Z"
   },
   {
    "duration": 3,
    "start_time": "2022-02-07T13:15:12.472Z"
   },
   {
    "duration": 50,
    "start_time": "2022-02-07T13:15:12.523Z"
   },
   {
    "duration": 4,
    "start_time": "2022-02-07T13:15:12.576Z"
   },
   {
    "duration": 866,
    "start_time": "2022-02-07T13:18:52.050Z"
   },
   {
    "duration": 7,
    "start_time": "2022-02-07T13:18:52.919Z"
   },
   {
    "duration": 16,
    "start_time": "2022-02-07T13:18:52.929Z"
   },
   {
    "duration": 94,
    "start_time": "2022-02-07T13:18:52.948Z"
   },
   {
    "duration": 11,
    "start_time": "2022-02-07T13:18:53.045Z"
   },
   {
    "duration": 16,
    "start_time": "2022-02-07T13:18:53.058Z"
   },
   {
    "duration": 4453,
    "start_time": "2022-02-07T13:18:53.076Z"
   },
   {
    "duration": 4118,
    "start_time": "2022-02-07T13:18:57.532Z"
   },
   {
    "duration": 27,
    "start_time": "2022-02-07T13:19:01.654Z"
   },
   {
    "duration": 82,
    "start_time": "2022-02-07T13:19:01.684Z"
   },
   {
    "duration": 430,
    "start_time": "2022-02-07T13:19:01.769Z"
   },
   {
    "duration": 240,
    "start_time": "2022-02-07T13:19:02.202Z"
   },
   {
    "duration": 329,
    "start_time": "2022-02-07T13:19:02.445Z"
   },
   {
    "duration": 288,
    "start_time": "2022-02-07T13:19:02.776Z"
   },
   {
    "duration": 319,
    "start_time": "2022-02-07T13:19:03.067Z"
   },
   {
    "duration": 232,
    "start_time": "2022-02-07T13:19:03.388Z"
   },
   {
    "duration": 326,
    "start_time": "2022-02-07T13:19:03.624Z"
   },
   {
    "duration": 250,
    "start_time": "2022-02-07T13:19:03.953Z"
   },
   {
    "duration": 228,
    "start_time": "2022-02-07T13:19:04.205Z"
   },
   {
    "duration": 251,
    "start_time": "2022-02-07T13:19:04.436Z"
   },
   {
    "duration": 245,
    "start_time": "2022-02-07T13:19:04.690Z"
   },
   {
    "duration": 318,
    "start_time": "2022-02-07T13:19:04.937Z"
   },
   {
    "duration": 244,
    "start_time": "2022-02-07T13:19:05.257Z"
   },
   {
    "duration": 243,
    "start_time": "2022-02-07T13:19:05.504Z"
   },
   {
    "duration": 4,
    "start_time": "2022-02-07T13:19:05.749Z"
   },
   {
    "duration": 34,
    "start_time": "2022-02-07T13:19:05.755Z"
   },
   {
    "duration": 66,
    "start_time": "2022-02-07T13:19:05.794Z"
   },
   {
    "duration": 1086,
    "start_time": "2022-02-07T13:19:05.863Z"
   },
   {
    "duration": 31,
    "start_time": "2022-02-07T13:19:06.952Z"
   },
   {
    "duration": 675,
    "start_time": "2022-02-07T13:19:06.985Z"
   },
   {
    "duration": 4,
    "start_time": "2022-02-07T13:19:07.663Z"
   },
   {
    "duration": 25,
    "start_time": "2022-02-07T13:19:07.669Z"
   },
   {
    "duration": 3,
    "start_time": "2022-02-07T13:19:07.696Z"
   },
   {
    "duration": 22,
    "start_time": "2022-02-07T13:19:07.702Z"
   },
   {
    "duration": 48,
    "start_time": "2022-02-07T13:19:07.727Z"
   },
   {
    "duration": 3,
    "start_time": "2022-02-07T13:19:07.778Z"
   },
   {
    "duration": 857,
    "start_time": "2022-02-07T13:28:56.327Z"
   },
   {
    "duration": 7,
    "start_time": "2022-02-07T13:28:57.187Z"
   },
   {
    "duration": 26,
    "start_time": "2022-02-07T13:28:57.197Z"
   },
   {
    "duration": 80,
    "start_time": "2022-02-07T13:28:57.226Z"
   },
   {
    "duration": 11,
    "start_time": "2022-02-07T13:28:57.323Z"
   },
   {
    "duration": 16,
    "start_time": "2022-02-07T13:28:57.336Z"
   },
   {
    "duration": 4476,
    "start_time": "2022-02-07T13:28:57.354Z"
   },
   {
    "duration": 3986,
    "start_time": "2022-02-07T13:29:01.834Z"
   },
   {
    "duration": 26,
    "start_time": "2022-02-07T13:29:05.824Z"
   },
   {
    "duration": 87,
    "start_time": "2022-02-07T13:29:05.853Z"
   },
   {
    "duration": 414,
    "start_time": "2022-02-07T13:29:05.942Z"
   },
   {
    "duration": 229,
    "start_time": "2022-02-07T13:29:06.359Z"
   },
   {
    "duration": 314,
    "start_time": "2022-02-07T13:29:06.590Z"
   },
   {
    "duration": 276,
    "start_time": "2022-02-07T13:29:06.906Z"
   },
   {
    "duration": 305,
    "start_time": "2022-02-07T13:29:07.184Z"
   },
   {
    "duration": 204,
    "start_time": "2022-02-07T13:29:07.492Z"
   },
   {
    "duration": 310,
    "start_time": "2022-02-07T13:29:07.698Z"
   },
   {
    "duration": 247,
    "start_time": "2022-02-07T13:29:08.010Z"
   },
   {
    "duration": 230,
    "start_time": "2022-02-07T13:29:08.260Z"
   },
   {
    "duration": 238,
    "start_time": "2022-02-07T13:29:08.492Z"
   },
   {
    "duration": 231,
    "start_time": "2022-02-07T13:29:08.733Z"
   },
   {
    "duration": 305,
    "start_time": "2022-02-07T13:29:08.967Z"
   },
   {
    "duration": 228,
    "start_time": "2022-02-07T13:29:09.276Z"
   },
   {
    "duration": 237,
    "start_time": "2022-02-07T13:29:09.507Z"
   },
   {
    "duration": 3,
    "start_time": "2022-02-07T13:29:09.747Z"
   },
   {
    "duration": 30,
    "start_time": "2022-02-07T13:29:09.752Z"
   },
   {
    "duration": 52,
    "start_time": "2022-02-07T13:29:09.784Z"
   },
   {
    "duration": 22,
    "start_time": "2022-02-07T13:29:09.838Z"
   },
   {
    "duration": 1043,
    "start_time": "2022-02-07T13:29:09.863Z"
   },
   {
    "duration": 41,
    "start_time": "2022-02-07T13:29:10.909Z"
   },
   {
    "duration": 688,
    "start_time": "2022-02-07T13:29:10.952Z"
   },
   {
    "duration": 3,
    "start_time": "2022-02-07T13:29:11.643Z"
   },
   {
    "duration": 18,
    "start_time": "2022-02-07T13:29:11.649Z"
   },
   {
    "duration": 3,
    "start_time": "2022-02-07T13:29:11.669Z"
   },
   {
    "duration": 4,
    "start_time": "2022-02-07T13:29:11.674Z"
   },
   {
    "duration": 61,
    "start_time": "2022-02-07T13:29:11.680Z"
   },
   {
    "duration": 3,
    "start_time": "2022-02-07T13:29:11.744Z"
   },
   {
    "duration": 15,
    "start_time": "2022-02-07T13:31:07.096Z"
   },
   {
    "duration": 828,
    "start_time": "2022-02-07T13:32:51.565Z"
   },
   {
    "duration": 7,
    "start_time": "2022-02-07T13:32:52.396Z"
   },
   {
    "duration": 23,
    "start_time": "2022-02-07T13:32:52.406Z"
   },
   {
    "duration": 73,
    "start_time": "2022-02-07T13:32:52.431Z"
   },
   {
    "duration": 24,
    "start_time": "2022-02-07T13:32:52.506Z"
   },
   {
    "duration": 17,
    "start_time": "2022-02-07T13:32:52.533Z"
   },
   {
    "duration": 4434,
    "start_time": "2022-02-07T13:32:52.553Z"
   },
   {
    "duration": 4234,
    "start_time": "2022-02-07T13:32:56.990Z"
   },
   {
    "duration": 27,
    "start_time": "2022-02-07T13:33:01.229Z"
   },
   {
    "duration": 83,
    "start_time": "2022-02-07T13:33:01.260Z"
   },
   {
    "duration": 439,
    "start_time": "2022-02-07T13:33:01.345Z"
   },
   {
    "duration": 241,
    "start_time": "2022-02-07T13:33:01.788Z"
   },
   {
    "duration": 326,
    "start_time": "2022-02-07T13:33:02.031Z"
   },
   {
    "duration": 301,
    "start_time": "2022-02-07T13:33:02.360Z"
   },
   {
    "duration": 314,
    "start_time": "2022-02-07T13:33:02.664Z"
   },
   {
    "duration": 221,
    "start_time": "2022-02-07T13:33:02.981Z"
   },
   {
    "duration": 435,
    "start_time": "2022-02-07T13:33:03.205Z"
   },
   {
    "duration": 250,
    "start_time": "2022-02-07T13:33:03.643Z"
   },
   {
    "duration": 226,
    "start_time": "2022-02-07T13:33:03.897Z"
   },
   {
    "duration": 257,
    "start_time": "2022-02-07T13:33:04.126Z"
   },
   {
    "duration": 254,
    "start_time": "2022-02-07T13:33:04.386Z"
   },
   {
    "duration": 326,
    "start_time": "2022-02-07T13:33:04.643Z"
   },
   {
    "duration": 240,
    "start_time": "2022-02-07T13:33:04.972Z"
   },
   {
    "duration": 237,
    "start_time": "2022-02-07T13:33:05.215Z"
   },
   {
    "duration": 3,
    "start_time": "2022-02-07T13:33:05.455Z"
   },
   {
    "duration": 39,
    "start_time": "2022-02-07T13:33:05.460Z"
   },
   {
    "duration": 43,
    "start_time": "2022-02-07T13:33:05.506Z"
   },
   {
    "duration": 22,
    "start_time": "2022-02-07T13:33:05.552Z"
   },
   {
    "duration": 1149,
    "start_time": "2022-02-07T13:33:05.577Z"
   },
   {
    "duration": 690,
    "start_time": "2022-02-07T13:33:06.729Z"
   },
   {
    "duration": 23,
    "start_time": "2022-02-07T13:33:07.422Z"
   },
   {
    "duration": 6,
    "start_time": "2022-02-07T13:33:07.447Z"
   },
   {
    "duration": 17,
    "start_time": "2022-02-07T13:33:07.456Z"
   },
   {
    "duration": 3,
    "start_time": "2022-02-07T13:33:07.475Z"
   },
   {
    "duration": 6,
    "start_time": "2022-02-07T13:33:07.481Z"
   },
   {
    "duration": 23,
    "start_time": "2022-02-07T13:33:07.524Z"
   },
   {
    "duration": 4,
    "start_time": "2022-02-07T13:33:07.549Z"
   },
   {
    "duration": 958,
    "start_time": "2022-02-07T14:36:37.174Z"
   },
   {
    "duration": 1083,
    "start_time": "2022-02-07T14:39:18.418Z"
   },
   {
    "duration": 1050,
    "start_time": "2022-02-07T14:39:32.575Z"
   },
   {
    "duration": 1049,
    "start_time": "2022-02-07T14:43:14.327Z"
   },
   {
    "duration": 831,
    "start_time": "2022-02-07T14:43:40.557Z"
   },
   {
    "duration": 6,
    "start_time": "2022-02-07T14:43:41.391Z"
   },
   {
    "duration": 24,
    "start_time": "2022-02-07T14:43:41.400Z"
   },
   {
    "duration": 71,
    "start_time": "2022-02-07T14:43:41.426Z"
   },
   {
    "duration": 29,
    "start_time": "2022-02-07T14:43:41.500Z"
   },
   {
    "duration": 15,
    "start_time": "2022-02-07T14:43:41.532Z"
   },
   {
    "duration": 4330,
    "start_time": "2022-02-07T14:43:41.549Z"
   },
   {
    "duration": 3957,
    "start_time": "2022-02-07T14:43:45.882Z"
   },
   {
    "duration": 26,
    "start_time": "2022-02-07T14:43:49.843Z"
   },
   {
    "duration": 80,
    "start_time": "2022-02-07T14:43:49.872Z"
   },
   {
    "duration": 413,
    "start_time": "2022-02-07T14:43:49.954Z"
   },
   {
    "duration": 227,
    "start_time": "2022-02-07T14:43:50.369Z"
   },
   {
    "duration": 337,
    "start_time": "2022-02-07T14:43:50.598Z"
   },
   {
    "duration": 285,
    "start_time": "2022-02-07T14:43:50.938Z"
   },
   {
    "duration": 314,
    "start_time": "2022-02-07T14:43:51.225Z"
   },
   {
    "duration": 214,
    "start_time": "2022-02-07T14:43:51.542Z"
   },
   {
    "duration": 299,
    "start_time": "2022-02-07T14:43:51.759Z"
   },
   {
    "duration": 234,
    "start_time": "2022-02-07T14:43:52.060Z"
   },
   {
    "duration": 228,
    "start_time": "2022-02-07T14:43:52.297Z"
   },
   {
    "duration": 245,
    "start_time": "2022-02-07T14:43:52.528Z"
   },
   {
    "duration": 237,
    "start_time": "2022-02-07T14:43:52.777Z"
   },
   {
    "duration": 314,
    "start_time": "2022-02-07T14:43:53.016Z"
   },
   {
    "duration": 219,
    "start_time": "2022-02-07T14:43:53.332Z"
   },
   {
    "duration": 234,
    "start_time": "2022-02-07T14:43:53.554Z"
   },
   {
    "duration": 4,
    "start_time": "2022-02-07T14:43:53.790Z"
   },
   {
    "duration": 47,
    "start_time": "2022-02-07T14:43:53.796Z"
   },
   {
    "duration": 115,
    "start_time": "2022-02-07T14:43:53.848Z"
   },
   {
    "duration": 167,
    "start_time": "2022-02-07T14:43:53.799Z"
   },
   {
    "duration": 146,
    "start_time": "2022-02-07T14:43:53.822Z"
   },
   {
    "duration": 145,
    "start_time": "2022-02-07T14:43:53.824Z"
   },
   {
    "duration": 145,
    "start_time": "2022-02-07T14:43:53.826Z"
   },
   {
    "duration": 146,
    "start_time": "2022-02-07T14:43:53.827Z"
   },
   {
    "duration": 147,
    "start_time": "2022-02-07T14:43:53.828Z"
   },
   {
    "duration": 145,
    "start_time": "2022-02-07T14:43:53.831Z"
   },
   {
    "duration": 145,
    "start_time": "2022-02-07T14:43:53.833Z"
   },
   {
    "duration": 124,
    "start_time": "2022-02-07T14:43:53.855Z"
   },
   {
    "duration": 123,
    "start_time": "2022-02-07T14:43:53.858Z"
   },
   {
    "duration": 473,
    "start_time": "2022-02-07T14:46:25.050Z"
   },
   {
    "duration": 108,
    "start_time": "2022-02-07T14:47:32.970Z"
   },
   {
    "duration": 97,
    "start_time": "2022-02-07T14:47:48.580Z"
   },
   {
    "duration": 126,
    "start_time": "2022-02-07T14:48:01.808Z"
   },
   {
    "duration": 154,
    "start_time": "2022-02-07T14:48:14.911Z"
   },
   {
    "duration": 104,
    "start_time": "2022-02-07T14:48:21.976Z"
   },
   {
    "duration": 1005,
    "start_time": "2022-02-07T14:48:34.411Z"
   },
   {
    "duration": 1517,
    "start_time": "2022-02-07T14:51:30.650Z"
   },
   {
    "duration": 342,
    "start_time": "2022-02-07T14:53:30.108Z"
   },
   {
    "duration": 344,
    "start_time": "2022-02-07T14:53:44.827Z"
   },
   {
    "duration": 27,
    "start_time": "2022-02-07T14:53:52.565Z"
   },
   {
    "duration": 24,
    "start_time": "2022-02-07T14:54:05.658Z"
   },
   {
    "duration": 321,
    "start_time": "2022-02-07T14:54:34.229Z"
   },
   {
    "duration": 20,
    "start_time": "2022-02-07T14:56:15.533Z"
   },
   {
    "duration": 630,
    "start_time": "2022-02-07T14:59:52.510Z"
   },
   {
    "duration": 691,
    "start_time": "2022-02-07T15:01:07.702Z"
   },
   {
    "duration": 8,
    "start_time": "2022-02-07T15:01:30.943Z"
   },
   {
    "duration": 7,
    "start_time": "2022-02-07T15:01:40.510Z"
   },
   {
    "duration": 1200,
    "start_time": "2022-02-07T15:03:05.136Z"
   },
   {
    "duration": 17,
    "start_time": "2022-02-07T15:03:33.993Z"
   },
   {
    "duration": 17,
    "start_time": "2022-02-07T15:03:54.528Z"
   },
   {
    "duration": 856,
    "start_time": "2022-02-07T15:04:58.438Z"
   },
   {
    "duration": 7,
    "start_time": "2022-02-07T15:04:59.296Z"
   },
   {
    "duration": 22,
    "start_time": "2022-02-07T15:04:59.306Z"
   },
   {
    "duration": 96,
    "start_time": "2022-02-07T15:04:59.330Z"
   },
   {
    "duration": 12,
    "start_time": "2022-02-07T15:04:59.428Z"
   },
   {
    "duration": 15,
    "start_time": "2022-02-07T15:04:59.442Z"
   },
   {
    "duration": 4394,
    "start_time": "2022-02-07T15:04:59.460Z"
   },
   {
    "duration": 3985,
    "start_time": "2022-02-07T15:05:03.858Z"
   },
   {
    "duration": 27,
    "start_time": "2022-02-07T15:05:07.846Z"
   },
   {
    "duration": 84,
    "start_time": "2022-02-07T15:05:07.876Z"
   },
   {
    "duration": 420,
    "start_time": "2022-02-07T15:05:07.962Z"
   },
   {
    "duration": 249,
    "start_time": "2022-02-07T15:05:08.384Z"
   },
   {
    "duration": 332,
    "start_time": "2022-02-07T15:05:08.635Z"
   },
   {
    "duration": 296,
    "start_time": "2022-02-07T15:05:08.970Z"
   },
   {
    "duration": 423,
    "start_time": "2022-02-07T15:05:09.268Z"
   },
   {
    "duration": 218,
    "start_time": "2022-02-07T15:05:09.694Z"
   },
   {
    "duration": 313,
    "start_time": "2022-02-07T15:05:09.914Z"
   },
   {
    "duration": 246,
    "start_time": "2022-02-07T15:05:10.230Z"
   },
   {
    "duration": 228,
    "start_time": "2022-02-07T15:05:10.479Z"
   },
   {
    "duration": 246,
    "start_time": "2022-02-07T15:05:10.710Z"
   },
   {
    "duration": 242,
    "start_time": "2022-02-07T15:05:10.958Z"
   },
   {
    "duration": 341,
    "start_time": "2022-02-07T15:05:11.204Z"
   },
   {
    "duration": 234,
    "start_time": "2022-02-07T15:05:11.549Z"
   },
   {
    "duration": 232,
    "start_time": "2022-02-07T15:05:11.785Z"
   },
   {
    "duration": 32,
    "start_time": "2022-02-07T15:05:12.019Z"
   },
   {
    "duration": 25,
    "start_time": "2022-02-07T15:05:12.054Z"
   },
   {
    "duration": 107,
    "start_time": "2022-02-07T15:05:12.082Z"
   },
   {
    "duration": 12,
    "start_time": "2022-02-07T15:05:12.192Z"
   },
   {
    "duration": 448,
    "start_time": "2022-02-07T15:05:12.206Z"
   },
   {
    "duration": 15,
    "start_time": "2022-02-07T15:05:12.656Z"
   },
   {
    "duration": 20,
    "start_time": "2022-02-07T15:05:12.673Z"
   },
   {
    "duration": 24,
    "start_time": "2022-02-07T15:13:23.916Z"
   },
   {
    "duration": 32,
    "start_time": "2022-02-07T15:14:14.932Z"
   },
   {
    "duration": 23,
    "start_time": "2022-02-07T15:14:44.893Z"
   },
   {
    "duration": 2204,
    "start_time": "2022-02-07T15:15:37.533Z"
   },
   {
    "duration": 1965,
    "start_time": "2022-02-07T15:15:57.158Z"
   },
   {
    "duration": 28,
    "start_time": "2022-02-07T15:18:59.480Z"
   },
   {
    "duration": 436,
    "start_time": "2022-02-07T15:21:13.680Z"
   },
   {
    "duration": 30,
    "start_time": "2022-02-07T15:21:26.441Z"
   },
   {
    "duration": 20,
    "start_time": "2022-02-07T15:21:55.860Z"
   },
   {
    "duration": 1149,
    "start_time": "2022-02-07T15:26:16.564Z"
   },
   {
    "duration": 7,
    "start_time": "2022-02-07T15:26:17.725Z"
   },
   {
    "duration": 20,
    "start_time": "2022-02-07T15:26:17.736Z"
   },
   {
    "duration": 97,
    "start_time": "2022-02-07T15:26:17.759Z"
   },
   {
    "duration": 14,
    "start_time": "2022-02-07T15:26:17.860Z"
   },
   {
    "duration": 48,
    "start_time": "2022-02-07T15:26:17.878Z"
   },
   {
    "duration": 5035,
    "start_time": "2022-02-07T15:26:17.929Z"
   },
   {
    "duration": 4457,
    "start_time": "2022-02-07T15:26:22.967Z"
   },
   {
    "duration": 27,
    "start_time": "2022-02-07T15:26:27.429Z"
   },
   {
    "duration": 89,
    "start_time": "2022-02-07T15:26:27.461Z"
   },
   {
    "duration": 476,
    "start_time": "2022-02-07T15:26:27.553Z"
   },
   {
    "duration": 235,
    "start_time": "2022-02-07T15:26:28.032Z"
   },
   {
    "duration": 345,
    "start_time": "2022-02-07T15:26:28.270Z"
   },
   {
    "duration": 301,
    "start_time": "2022-02-07T15:26:28.617Z"
   },
   {
    "duration": 319,
    "start_time": "2022-02-07T15:26:28.921Z"
   },
   {
    "duration": 233,
    "start_time": "2022-02-07T15:26:29.242Z"
   },
   {
    "duration": 311,
    "start_time": "2022-02-07T15:26:29.478Z"
   },
   {
    "duration": 260,
    "start_time": "2022-02-07T15:26:29.792Z"
   },
   {
    "duration": 232,
    "start_time": "2022-02-07T15:26:30.055Z"
   },
   {
    "duration": 271,
    "start_time": "2022-02-07T15:26:30.289Z"
   },
   {
    "duration": 251,
    "start_time": "2022-02-07T15:26:30.563Z"
   },
   {
    "duration": 329,
    "start_time": "2022-02-07T15:26:30.817Z"
   },
   {
    "duration": 234,
    "start_time": "2022-02-07T15:26:31.148Z"
   },
   {
    "duration": 243,
    "start_time": "2022-02-07T15:26:31.385Z"
   },
   {
    "duration": 26,
    "start_time": "2022-02-07T15:26:31.631Z"
   },
   {
    "duration": 29,
    "start_time": "2022-02-07T15:26:31.659Z"
   },
   {
    "duration": 25,
    "start_time": "2022-02-07T15:26:31.724Z"
   },
   {
    "duration": 5,
    "start_time": "2022-02-07T15:26:31.752Z"
   },
   {
    "duration": 1037,
    "start_time": "2022-02-07T15:26:31.760Z"
   },
   {
    "duration": 30,
    "start_time": "2022-02-07T15:26:32.800Z"
   },
   {
    "duration": 4,
    "start_time": "2022-02-07T15:26:32.833Z"
   },
   {
    "duration": 37,
    "start_time": "2022-02-07T15:26:32.840Z"
   },
   {
    "duration": 53,
    "start_time": "2022-02-07T15:26:32.880Z"
   },
   {
    "duration": 13,
    "start_time": "2022-02-07T15:27:31.581Z"
   },
   {
    "duration": 21,
    "start_time": "2022-02-07T15:27:43.669Z"
   },
   {
    "duration": 26,
    "start_time": "2022-02-07T15:27:56.596Z"
   },
   {
    "duration": 35,
    "start_time": "2022-02-07T15:28:17.000Z"
   },
   {
    "duration": 106,
    "start_time": "2022-02-07T15:28:26.936Z"
   },
   {
    "duration": 8,
    "start_time": "2022-02-07T15:28:27.045Z"
   },
   {
    "duration": 17,
    "start_time": "2022-02-07T15:28:27.056Z"
   },
   {
    "duration": 102,
    "start_time": "2022-02-07T15:28:27.077Z"
   },
   {
    "duration": 13,
    "start_time": "2022-02-07T15:28:27.182Z"
   },
   {
    "duration": 36,
    "start_time": "2022-02-07T15:28:27.197Z"
   },
   {
    "duration": 4568,
    "start_time": "2022-02-07T15:28:27.235Z"
   },
   {
    "duration": 4271,
    "start_time": "2022-02-07T15:28:31.805Z"
   },
   {
    "duration": 27,
    "start_time": "2022-02-07T15:28:36.080Z"
   },
   {
    "duration": 73,
    "start_time": "2022-02-07T15:28:36.110Z"
   },
   {
    "duration": 352,
    "start_time": "2022-02-07T15:28:36.186Z"
   },
   {
    "duration": 240,
    "start_time": "2022-02-07T15:28:36.541Z"
   },
   {
    "duration": 335,
    "start_time": "2022-02-07T15:28:36.783Z"
   },
   {
    "duration": 358,
    "start_time": "2022-02-07T15:28:37.125Z"
   },
   {
    "duration": 459,
    "start_time": "2022-02-07T15:28:37.486Z"
   },
   {
    "duration": 232,
    "start_time": "2022-02-07T15:28:37.948Z"
   },
   {
    "duration": 329,
    "start_time": "2022-02-07T15:28:38.183Z"
   },
   {
    "duration": 249,
    "start_time": "2022-02-07T15:28:38.515Z"
   },
   {
    "duration": 385,
    "start_time": "2022-02-07T15:28:38.766Z"
   },
   {
    "duration": 247,
    "start_time": "2022-02-07T15:28:39.153Z"
   },
   {
    "duration": 240,
    "start_time": "2022-02-07T15:28:39.404Z"
   },
   {
    "duration": 423,
    "start_time": "2022-02-07T15:28:39.647Z"
   },
   {
    "duration": 231,
    "start_time": "2022-02-07T15:28:40.073Z"
   },
   {
    "duration": 366,
    "start_time": "2022-02-07T15:28:40.307Z"
   },
   {
    "duration": 36,
    "start_time": "2022-02-07T15:29:14.325Z"
   },
   {
    "duration": 111,
    "start_time": "2022-02-07T15:29:28.641Z"
   },
   {
    "duration": 9,
    "start_time": "2022-02-07T15:29:28.756Z"
   },
   {
    "duration": 15,
    "start_time": "2022-02-07T15:29:28.769Z"
   },
   {
    "duration": 99,
    "start_time": "2022-02-07T15:29:28.788Z"
   },
   {
    "duration": 36,
    "start_time": "2022-02-07T15:29:28.890Z"
   },
   {
    "duration": 17,
    "start_time": "2022-02-07T15:29:28.929Z"
   },
   {
    "duration": 4823,
    "start_time": "2022-02-07T15:29:28.948Z"
   },
   {
    "duration": 4102,
    "start_time": "2022-02-07T15:29:33.774Z"
   },
   {
    "duration": 27,
    "start_time": "2022-02-07T15:29:37.879Z"
   },
   {
    "duration": 76,
    "start_time": "2022-02-07T15:29:37.909Z"
   },
   {
    "duration": 399,
    "start_time": "2022-02-07T15:29:37.988Z"
   },
   {
    "duration": 239,
    "start_time": "2022-02-07T15:29:38.389Z"
   },
   {
    "duration": 527,
    "start_time": "2022-02-07T15:29:38.631Z"
   },
   {
    "duration": 250,
    "start_time": "2022-02-07T15:29:39.161Z"
   },
   {
    "duration": 318,
    "start_time": "2022-02-07T15:29:39.414Z"
   },
   {
    "duration": 410,
    "start_time": "2022-02-07T15:29:39.734Z"
   },
   {
    "duration": 311,
    "start_time": "2022-02-07T15:29:40.147Z"
   },
   {
    "duration": 252,
    "start_time": "2022-02-07T15:29:40.460Z"
   },
   {
    "duration": 239,
    "start_time": "2022-02-07T15:29:40.715Z"
   },
   {
    "duration": 246,
    "start_time": "2022-02-07T15:29:40.956Z"
   },
   {
    "duration": 244,
    "start_time": "2022-02-07T15:29:41.205Z"
   },
   {
    "duration": 359,
    "start_time": "2022-02-07T15:29:41.452Z"
   },
   {
    "duration": 231,
    "start_time": "2022-02-07T15:29:41.822Z"
   },
   {
    "duration": 261,
    "start_time": "2022-02-07T15:29:42.056Z"
   },
   {
    "duration": 847,
    "start_time": "2022-02-07T15:29:54.461Z"
   },
   {
    "duration": 8,
    "start_time": "2022-02-07T15:29:55.311Z"
   },
   {
    "duration": 15,
    "start_time": "2022-02-07T15:29:55.322Z"
   },
   {
    "duration": 90,
    "start_time": "2022-02-07T15:29:55.340Z"
   },
   {
    "duration": 12,
    "start_time": "2022-02-07T15:29:55.434Z"
   },
   {
    "duration": 16,
    "start_time": "2022-02-07T15:29:55.448Z"
   },
   {
    "duration": 4463,
    "start_time": "2022-02-07T15:29:55.467Z"
   },
   {
    "duration": 4232,
    "start_time": "2022-02-07T15:29:59.932Z"
   },
   {
    "duration": 29,
    "start_time": "2022-02-07T15:30:04.169Z"
   },
   {
    "duration": 100,
    "start_time": "2022-02-07T15:30:04.201Z"
   },
   {
    "duration": 456,
    "start_time": "2022-02-07T15:30:04.304Z"
   },
   {
    "duration": 234,
    "start_time": "2022-02-07T15:30:04.762Z"
   },
   {
    "duration": 343,
    "start_time": "2022-02-07T15:30:04.999Z"
   },
   {
    "duration": 280,
    "start_time": "2022-02-07T15:30:05.345Z"
   },
   {
    "duration": 313,
    "start_time": "2022-02-07T15:30:05.629Z"
   },
   {
    "duration": 216,
    "start_time": "2022-02-07T15:30:05.944Z"
   },
   {
    "duration": 311,
    "start_time": "2022-02-07T15:30:06.163Z"
   },
   {
    "duration": 239,
    "start_time": "2022-02-07T15:30:06.477Z"
   },
   {
    "duration": 224,
    "start_time": "2022-02-07T15:30:06.719Z"
   },
   {
    "duration": 248,
    "start_time": "2022-02-07T15:30:06.945Z"
   },
   {
    "duration": 239,
    "start_time": "2022-02-07T15:30:07.196Z"
   },
   {
    "duration": 309,
    "start_time": "2022-02-07T15:30:07.437Z"
   },
   {
    "duration": 234,
    "start_time": "2022-02-07T15:30:07.750Z"
   },
   {
    "duration": 254,
    "start_time": "2022-02-07T15:30:07.987Z"
   },
   {
    "duration": 29,
    "start_time": "2022-02-07T15:30:08.244Z"
   },
   {
    "duration": 48,
    "start_time": "2022-02-07T15:30:08.277Z"
   },
   {
    "duration": 22,
    "start_time": "2022-02-07T15:30:08.332Z"
   },
   {
    "duration": 4,
    "start_time": "2022-02-07T15:30:08.357Z"
   },
   {
    "duration": 1792,
    "start_time": "2022-02-07T15:30:08.364Z"
   },
   {
    "duration": 16,
    "start_time": "2022-02-07T15:30:10.160Z"
   },
   {
    "duration": 3,
    "start_time": "2022-02-07T15:30:10.179Z"
   },
   {
    "duration": 62,
    "start_time": "2022-02-07T15:30:10.184Z"
   },
   {
    "duration": 19,
    "start_time": "2022-02-07T15:30:10.249Z"
   },
   {
    "duration": 30,
    "start_time": "2022-02-07T15:30:34.511Z"
   },
   {
    "duration": 35,
    "start_time": "2022-02-07T15:30:46.577Z"
   },
   {
    "duration": 40,
    "start_time": "2022-02-07T15:31:11.734Z"
   },
   {
    "duration": 47,
    "start_time": "2022-02-07T15:31:31.311Z"
   },
   {
    "duration": 76,
    "start_time": "2022-02-07T15:31:51.704Z"
   },
   {
    "duration": 81,
    "start_time": "2022-02-07T15:32:04.744Z"
   },
   {
    "duration": 88,
    "start_time": "2022-02-07T15:32:38.191Z"
   },
   {
    "duration": 56,
    "start_time": "2022-02-07T15:33:30.544Z"
   },
   {
    "duration": 68,
    "start_time": "2022-02-07T15:33:43.560Z"
   },
   {
    "duration": 830,
    "start_time": "2022-02-07T15:33:52.272Z"
   },
   {
    "duration": 18,
    "start_time": "2022-02-07T15:33:53.105Z"
   },
   {
    "duration": 15,
    "start_time": "2022-02-07T15:33:53.126Z"
   },
   {
    "duration": 96,
    "start_time": "2022-02-07T15:33:53.143Z"
   },
   {
    "duration": 14,
    "start_time": "2022-02-07T15:33:53.242Z"
   },
   {
    "duration": 22,
    "start_time": "2022-02-07T15:33:53.261Z"
   },
   {
    "duration": 6676,
    "start_time": "2022-02-07T15:33:53.288Z"
   },
   {
    "duration": 6198,
    "start_time": "2022-02-07T15:33:59.967Z"
   },
   {
    "duration": 27,
    "start_time": "2022-02-07T15:34:06.168Z"
   },
   {
    "duration": 87,
    "start_time": "2022-02-07T15:34:06.197Z"
   },
   {
    "duration": 464,
    "start_time": "2022-02-07T15:34:06.287Z"
   },
   {
    "duration": 265,
    "start_time": "2022-02-07T15:34:06.755Z"
   },
   {
    "duration": 370,
    "start_time": "2022-02-07T15:34:07.024Z"
   },
   {
    "duration": 314,
    "start_time": "2022-02-07T15:34:07.397Z"
   },
   {
    "duration": 332,
    "start_time": "2022-02-07T15:34:07.714Z"
   },
   {
    "duration": 233,
    "start_time": "2022-02-07T15:34:08.048Z"
   },
   {
    "duration": 330,
    "start_time": "2022-02-07T15:34:08.285Z"
   },
   {
    "duration": 246,
    "start_time": "2022-02-07T15:34:08.625Z"
   },
   {
    "duration": 274,
    "start_time": "2022-02-07T15:34:08.875Z"
   },
   {
    "duration": 242,
    "start_time": "2022-02-07T15:34:09.151Z"
   },
   {
    "duration": 245,
    "start_time": "2022-02-07T15:34:09.395Z"
   },
   {
    "duration": 318,
    "start_time": "2022-02-07T15:34:09.643Z"
   },
   {
    "duration": 237,
    "start_time": "2022-02-07T15:34:09.964Z"
   },
   {
    "duration": 247,
    "start_time": "2022-02-07T15:34:10.204Z"
   },
   {
    "duration": 63,
    "start_time": "2022-02-07T15:34:10.453Z"
   },
   {
    "duration": 30,
    "start_time": "2022-02-07T15:34:10.519Z"
   },
   {
    "duration": 111,
    "start_time": "2022-02-07T15:34:10.552Z"
   },
   {
    "duration": 3,
    "start_time": "2022-02-07T15:34:10.666Z"
   },
   {
    "duration": 832,
    "start_time": "2022-02-07T15:34:10.672Z"
   },
   {
    "duration": 23,
    "start_time": "2022-02-07T15:34:11.507Z"
   },
   {
    "duration": 4,
    "start_time": "2022-02-07T15:34:11.533Z"
   },
   {
    "duration": 31,
    "start_time": "2022-02-07T15:34:11.539Z"
   },
   {
    "duration": 54,
    "start_time": "2022-02-07T15:34:11.572Z"
   },
   {
    "duration": 1006,
    "start_time": "2022-02-07T15:35:21.734Z"
   },
   {
    "duration": 8,
    "start_time": "2022-02-07T15:35:22.742Z"
   },
   {
    "duration": 17,
    "start_time": "2022-02-07T15:35:22.753Z"
   },
   {
    "duration": 76,
    "start_time": "2022-02-07T15:35:22.773Z"
   },
   {
    "duration": 12,
    "start_time": "2022-02-07T15:35:22.851Z"
   },
   {
    "duration": 17,
    "start_time": "2022-02-07T15:35:22.866Z"
   },
   {
    "duration": 4767,
    "start_time": "2022-02-07T15:35:22.886Z"
   },
   {
    "duration": 4198,
    "start_time": "2022-02-07T15:35:27.655Z"
   },
   {
    "duration": 28,
    "start_time": "2022-02-07T15:35:31.856Z"
   },
   {
    "duration": 83,
    "start_time": "2022-02-07T15:35:31.887Z"
   },
   {
    "duration": 431,
    "start_time": "2022-02-07T15:35:31.972Z"
   },
   {
    "duration": 228,
    "start_time": "2022-02-07T15:35:32.406Z"
   },
   {
    "duration": 416,
    "start_time": "2022-02-07T15:35:32.636Z"
   },
   {
    "duration": 394,
    "start_time": "2022-02-07T15:35:33.054Z"
   },
   {
    "duration": 325,
    "start_time": "2022-02-07T15:35:33.451Z"
   },
   {
    "duration": 229,
    "start_time": "2022-02-07T15:35:33.779Z"
   },
   {
    "duration": 314,
    "start_time": "2022-02-07T15:35:34.011Z"
   },
   {
    "duration": 255,
    "start_time": "2022-02-07T15:35:34.328Z"
   },
   {
    "duration": 238,
    "start_time": "2022-02-07T15:35:34.586Z"
   },
   {
    "duration": 244,
    "start_time": "2022-02-07T15:35:34.827Z"
   },
   {
    "duration": 243,
    "start_time": "2022-02-07T15:35:35.074Z"
   },
   {
    "duration": 309,
    "start_time": "2022-02-07T15:35:35.324Z"
   },
   {
    "duration": 224,
    "start_time": "2022-02-07T15:35:35.636Z"
   },
   {
    "duration": 247,
    "start_time": "2022-02-07T15:35:35.862Z"
   },
   {
    "duration": 37,
    "start_time": "2022-02-07T15:35:36.112Z"
   },
   {
    "duration": 28,
    "start_time": "2022-02-07T15:35:36.151Z"
   },
   {
    "duration": 41,
    "start_time": "2022-02-07T15:35:36.184Z"
   },
   {
    "duration": 4,
    "start_time": "2022-02-07T15:35:36.228Z"
   },
   {
    "duration": 863,
    "start_time": "2022-02-07T15:35:36.234Z"
   },
   {
    "duration": 27,
    "start_time": "2022-02-07T15:35:37.099Z"
   },
   {
    "duration": 3,
    "start_time": "2022-02-07T15:35:37.128Z"
   },
   {
    "duration": 36,
    "start_time": "2022-02-07T15:35:37.133Z"
   },
   {
    "duration": 55,
    "start_time": "2022-02-07T15:35:37.171Z"
   },
   {
    "duration": 1426,
    "start_time": "2022-02-07T15:40:11.876Z"
   },
   {
    "duration": 8,
    "start_time": "2022-02-07T15:40:13.304Z"
   },
   {
    "duration": 22,
    "start_time": "2022-02-07T15:40:13.326Z"
   },
   {
    "duration": 92,
    "start_time": "2022-02-07T15:40:13.352Z"
   },
   {
    "duration": 14,
    "start_time": "2022-02-07T15:40:13.447Z"
   },
   {
    "duration": 16,
    "start_time": "2022-02-07T15:40:13.463Z"
   },
   {
    "duration": 5045,
    "start_time": "2022-02-07T15:40:13.482Z"
   },
   {
    "duration": 4795,
    "start_time": "2022-02-07T15:40:18.530Z"
   },
   {
    "duration": 27,
    "start_time": "2022-02-07T15:40:23.329Z"
   },
   {
    "duration": 85,
    "start_time": "2022-02-07T15:40:23.359Z"
   },
   {
    "duration": 423,
    "start_time": "2022-02-07T15:40:23.447Z"
   },
   {
    "duration": 243,
    "start_time": "2022-02-07T15:40:23.872Z"
   },
   {
    "duration": 333,
    "start_time": "2022-02-07T15:40:24.122Z"
   },
   {
    "duration": 282,
    "start_time": "2022-02-07T15:40:24.458Z"
   },
   {
    "duration": 305,
    "start_time": "2022-02-07T15:40:24.743Z"
   },
   {
    "duration": 223,
    "start_time": "2022-02-07T15:40:25.051Z"
   },
   {
    "duration": 307,
    "start_time": "2022-02-07T15:40:25.276Z"
   },
   {
    "duration": 382,
    "start_time": "2022-02-07T15:40:25.586Z"
   },
   {
    "duration": 352,
    "start_time": "2022-02-07T15:40:25.971Z"
   },
   {
    "duration": 371,
    "start_time": "2022-02-07T15:40:26.327Z"
   },
   {
    "duration": 248,
    "start_time": "2022-02-07T15:40:26.702Z"
   },
   {
    "duration": 324,
    "start_time": "2022-02-07T15:40:26.953Z"
   },
   {
    "duration": 237,
    "start_time": "2022-02-07T15:40:27.280Z"
   },
   {
    "duration": 233,
    "start_time": "2022-02-07T15:40:27.519Z"
   },
   {
    "duration": 23,
    "start_time": "2022-02-07T15:40:27.755Z"
   },
   {
    "duration": 45,
    "start_time": "2022-02-07T15:40:27.781Z"
   },
   {
    "duration": 21,
    "start_time": "2022-02-07T15:40:27.831Z"
   },
   {
    "duration": 4,
    "start_time": "2022-02-07T15:40:27.855Z"
   },
   {
    "duration": 958,
    "start_time": "2022-02-07T15:40:27.861Z"
   },
   {
    "duration": 14,
    "start_time": "2022-02-07T15:40:28.821Z"
   },
   {
    "duration": 3,
    "start_time": "2022-02-07T15:40:28.837Z"
   },
   {
    "duration": 31,
    "start_time": "2022-02-07T15:40:28.842Z"
   },
   {
    "duration": 64,
    "start_time": "2022-02-07T15:40:28.875Z"
   },
   {
    "duration": 19,
    "start_time": "2022-02-07T15:42:07.868Z"
   },
   {
    "duration": 9215,
    "start_time": "2022-02-07T15:42:25.571Z"
   },
   {
    "duration": 19,
    "start_time": "2022-02-07T15:42:35.985Z"
   },
   {
    "duration": 4722,
    "start_time": "2022-02-07T15:53:20.127Z"
   },
   {
    "duration": 1330,
    "start_time": "2022-02-07T15:54:30.977Z"
   },
   {
    "duration": 2232,
    "start_time": "2022-02-07T15:54:58.559Z"
   },
   {
    "duration": 2164,
    "start_time": "2022-02-07T15:56:01.025Z"
   },
   {
    "duration": 1655,
    "start_time": "2022-02-07T15:59:53.482Z"
   },
   {
    "duration": 1751,
    "start_time": "2022-02-07T16:00:47.922Z"
   },
   {
    "duration": 21,
    "start_time": "2022-02-07T16:01:44.740Z"
   },
   {
    "duration": 19,
    "start_time": "2022-02-07T16:02:01.684Z"
   },
   {
    "duration": 393,
    "start_time": "2022-02-07T18:37:54.969Z"
   },
   {
    "duration": 1400,
    "start_time": "2022-02-07T18:38:30.006Z"
   },
   {
    "duration": 16,
    "start_time": "2022-02-07T18:38:31.409Z"
   },
   {
    "duration": 21,
    "start_time": "2022-02-07T18:38:31.428Z"
   },
   {
    "duration": 139,
    "start_time": "2022-02-07T18:38:31.452Z"
   },
   {
    "duration": 12,
    "start_time": "2022-02-07T18:38:31.594Z"
   },
   {
    "duration": 18,
    "start_time": "2022-02-07T18:38:31.625Z"
   },
   {
    "duration": 4883,
    "start_time": "2022-02-07T18:38:31.645Z"
   },
   {
    "duration": 4216,
    "start_time": "2022-02-07T18:38:36.530Z"
   },
   {
    "duration": 28,
    "start_time": "2022-02-07T18:38:40.750Z"
   },
   {
    "duration": 84,
    "start_time": "2022-02-07T18:38:40.781Z"
   },
   {
    "duration": 696,
    "start_time": "2022-02-07T18:38:40.868Z"
   },
   {
    "duration": 260,
    "start_time": "2022-02-07T18:38:41.567Z"
   },
   {
    "duration": 360,
    "start_time": "2022-02-07T18:38:41.830Z"
   },
   {
    "duration": 333,
    "start_time": "2022-02-07T18:38:42.192Z"
   },
   {
    "duration": 321,
    "start_time": "2022-02-07T18:38:42.528Z"
   },
   {
    "duration": 370,
    "start_time": "2022-02-07T18:38:42.851Z"
   },
   {
    "duration": -4042,
    "start_time": "2022-02-07T18:38:47.267Z"
   },
   {
    "duration": -4041,
    "start_time": "2022-02-07T18:38:47.269Z"
   },
   {
    "duration": -4041,
    "start_time": "2022-02-07T18:38:47.271Z"
   },
   {
    "duration": -4042,
    "start_time": "2022-02-07T18:38:47.274Z"
   },
   {
    "duration": -4042,
    "start_time": "2022-02-07T18:38:47.277Z"
   },
   {
    "duration": -4053,
    "start_time": "2022-02-07T18:38:47.290Z"
   },
   {
    "duration": -4054,
    "start_time": "2022-02-07T18:38:47.293Z"
   },
   {
    "duration": -4057,
    "start_time": "2022-02-07T18:38:47.298Z"
   },
   {
    "duration": -4057,
    "start_time": "2022-02-07T18:38:47.300Z"
   },
   {
    "duration": -4057,
    "start_time": "2022-02-07T18:38:47.302Z"
   },
   {
    "duration": -4057,
    "start_time": "2022-02-07T18:38:47.304Z"
   },
   {
    "duration": -4057,
    "start_time": "2022-02-07T18:38:47.307Z"
   },
   {
    "duration": -4057,
    "start_time": "2022-02-07T18:38:47.309Z"
   },
   {
    "duration": -4057,
    "start_time": "2022-02-07T18:38:47.311Z"
   },
   {
    "duration": -4057,
    "start_time": "2022-02-07T18:38:47.313Z"
   },
   {
    "duration": -4060,
    "start_time": "2022-02-07T18:38:47.318Z"
   },
   {
    "duration": -4060,
    "start_time": "2022-02-07T18:38:47.320Z"
   },
   {
    "duration": -4060,
    "start_time": "2022-02-07T18:38:47.322Z"
   },
   {
    "duration": -4001,
    "start_time": "2022-02-07T18:38:47.325Z"
   },
   {
    "duration": 10,
    "start_time": "2022-02-07T18:39:24.995Z"
   },
   {
    "duration": 37,
    "start_time": "2022-02-07T18:43:40.832Z"
   },
   {
    "duration": 1188,
    "start_time": "2022-02-07T18:44:02.704Z"
   },
   {
    "duration": 87,
    "start_time": "2022-02-07T18:44:03.895Z"
   },
   {
    "duration": 87,
    "start_time": "2022-02-07T18:44:03.985Z"
   },
   {
    "duration": 122,
    "start_time": "2022-02-07T18:44:04.074Z"
   },
   {
    "duration": 121,
    "start_time": "2022-02-07T18:44:04.200Z"
   },
   {
    "duration": 13,
    "start_time": "2022-02-07T18:44:04.324Z"
   },
   {
    "duration": 17,
    "start_time": "2022-02-07T18:44:04.340Z"
   },
   {
    "duration": 4517,
    "start_time": "2022-02-07T18:44:04.363Z"
   },
   {
    "duration": 4083,
    "start_time": "2022-02-07T18:44:08.884Z"
   },
   {
    "duration": 26,
    "start_time": "2022-02-07T18:44:12.970Z"
   },
   {
    "duration": 82,
    "start_time": "2022-02-07T18:44:12.998Z"
   },
   {
    "duration": 496,
    "start_time": "2022-02-07T18:44:13.082Z"
   },
   {
    "duration": 247,
    "start_time": "2022-02-07T18:44:13.581Z"
   },
   {
    "duration": 331,
    "start_time": "2022-02-07T18:44:13.830Z"
   },
   {
    "duration": 318,
    "start_time": "2022-02-07T18:44:14.163Z"
   },
   {
    "duration": 322,
    "start_time": "2022-02-07T18:44:14.484Z"
   },
   {
    "duration": 17,
    "start_time": "2022-02-07T18:44:14.808Z"
   },
   {
    "duration": 326,
    "start_time": "2022-02-07T18:44:14.828Z"
   },
   {
    "duration": 456,
    "start_time": "2022-02-07T18:44:15.157Z"
   },
   {
    "duration": 350,
    "start_time": "2022-02-07T18:44:15.624Z"
   },
   {
    "duration": 295,
    "start_time": "2022-02-07T18:44:15.977Z"
   },
   {
    "duration": 253,
    "start_time": "2022-02-07T18:44:16.274Z"
   },
   {
    "duration": 249,
    "start_time": "2022-02-07T18:44:16.531Z"
   },
   {
    "duration": 327,
    "start_time": "2022-02-07T18:44:16.783Z"
   },
   {
    "duration": 240,
    "start_time": "2022-02-07T18:44:17.113Z"
   },
   {
    "duration": 242,
    "start_time": "2022-02-07T18:44:17.355Z"
   },
   {
    "duration": 35,
    "start_time": "2022-02-07T18:44:17.600Z"
   },
   {
    "duration": 103,
    "start_time": "2022-02-07T18:44:17.638Z"
   },
   {
    "duration": -41,
    "start_time": "2022-02-07T18:44:17.784Z"
   },
   {
    "duration": -41,
    "start_time": "2022-02-07T18:44:17.786Z"
   },
   {
    "duration": -42,
    "start_time": "2022-02-07T18:44:17.788Z"
   },
   {
    "duration": -43,
    "start_time": "2022-02-07T18:44:17.791Z"
   },
   {
    "duration": -44,
    "start_time": "2022-02-07T18:44:17.793Z"
   },
   {
    "duration": -45,
    "start_time": "2022-02-07T18:44:17.796Z"
   },
   {
    "duration": -53,
    "start_time": "2022-02-07T18:44:17.805Z"
   },
   {
    "duration": -53,
    "start_time": "2022-02-07T18:44:17.807Z"
   },
   {
    "duration": 847,
    "start_time": "2022-02-07T18:45:50.973Z"
   },
   {
    "duration": 6,
    "start_time": "2022-02-07T18:45:51.823Z"
   },
   {
    "duration": 38,
    "start_time": "2022-02-07T18:45:51.832Z"
   },
   {
    "duration": 50,
    "start_time": "2022-02-07T18:45:51.873Z"
   },
   {
    "duration": 73,
    "start_time": "2022-02-07T18:45:51.926Z"
   },
   {
    "duration": 12,
    "start_time": "2022-02-07T18:45:52.023Z"
   },
   {
    "duration": 15,
    "start_time": "2022-02-07T18:45:52.038Z"
   },
   {
    "duration": 4736,
    "start_time": "2022-02-07T18:45:52.057Z"
   },
   {
    "duration": 4289,
    "start_time": "2022-02-07T18:45:56.796Z"
   },
   {
    "duration": 43,
    "start_time": "2022-02-07T18:46:01.087Z"
   },
   {
    "duration": 65,
    "start_time": "2022-02-07T18:46:01.132Z"
   },
   {
    "duration": 453,
    "start_time": "2022-02-07T18:46:01.200Z"
   },
   {
    "duration": 255,
    "start_time": "2022-02-07T18:46:01.656Z"
   },
   {
    "duration": 329,
    "start_time": "2022-02-07T18:46:01.922Z"
   },
   {
    "duration": 308,
    "start_time": "2022-02-07T18:46:02.254Z"
   },
   {
    "duration": 311,
    "start_time": "2022-02-07T18:46:02.565Z"
   },
   {
    "duration": 8,
    "start_time": "2022-02-07T18:46:02.878Z"
   },
   {
    "duration": 231,
    "start_time": "2022-02-07T18:46:02.889Z"
   },
   {
    "duration": 335,
    "start_time": "2022-02-07T18:46:03.124Z"
   },
   {
    "duration": 288,
    "start_time": "2022-02-07T18:46:03.462Z"
   },
   {
    "duration": 235,
    "start_time": "2022-02-07T18:46:03.752Z"
   },
   {
    "duration": 253,
    "start_time": "2022-02-07T18:46:03.990Z"
   },
   {
    "duration": 250,
    "start_time": "2022-02-07T18:46:04.247Z"
   },
   {
    "duration": 353,
    "start_time": "2022-02-07T18:46:04.500Z"
   },
   {
    "duration": 247,
    "start_time": "2022-02-07T18:46:04.856Z"
   },
   {
    "duration": 257,
    "start_time": "2022-02-07T18:46:05.106Z"
   },
   {
    "duration": 24,
    "start_time": "2022-02-07T18:46:05.366Z"
   },
   {
    "duration": 109,
    "start_time": "2022-02-07T18:46:05.392Z"
   },
   {
    "duration": -15,
    "start_time": "2022-02-07T18:46:05.520Z"
   },
   {
    "duration": -18,
    "start_time": "2022-02-07T18:46:05.525Z"
   },
   {
    "duration": -21,
    "start_time": "2022-02-07T18:46:05.529Z"
   },
   {
    "duration": -23,
    "start_time": "2022-02-07T18:46:05.533Z"
   },
   {
    "duration": -25,
    "start_time": "2022-02-07T18:46:05.537Z"
   },
   {
    "duration": -26,
    "start_time": "2022-02-07T18:46:05.540Z"
   },
   {
    "duration": -27,
    "start_time": "2022-02-07T18:46:05.543Z"
   },
   {
    "duration": -29,
    "start_time": "2022-02-07T18:46:05.546Z"
   },
   {
    "duration": 859,
    "start_time": "2022-02-07T18:54:36.028Z"
   },
   {
    "duration": 7,
    "start_time": "2022-02-07T18:54:36.891Z"
   },
   {
    "duration": 54,
    "start_time": "2022-02-07T18:54:36.905Z"
   },
   {
    "duration": 17,
    "start_time": "2022-02-07T18:54:36.961Z"
   },
   {
    "duration": 110,
    "start_time": "2022-02-07T18:54:36.981Z"
   },
   {
    "duration": 36,
    "start_time": "2022-02-07T18:54:37.094Z"
   },
   {
    "duration": 17,
    "start_time": "2022-02-07T18:54:37.132Z"
   },
   {
    "duration": 4846,
    "start_time": "2022-02-07T18:54:37.153Z"
   },
   {
    "duration": 4427,
    "start_time": "2022-02-07T18:54:42.002Z"
   },
   {
    "duration": 29,
    "start_time": "2022-02-07T18:54:46.431Z"
   },
   {
    "duration": 88,
    "start_time": "2022-02-07T18:54:46.462Z"
   },
   {
    "duration": 459,
    "start_time": "2022-02-07T18:54:46.552Z"
   },
   {
    "duration": 233,
    "start_time": "2022-02-07T18:54:47.014Z"
   },
   {
    "duration": 344,
    "start_time": "2022-02-07T18:54:47.249Z"
   },
   {
    "duration": 293,
    "start_time": "2022-02-07T18:54:47.596Z"
   },
   {
    "duration": 312,
    "start_time": "2022-02-07T18:54:47.892Z"
   },
   {
    "duration": 21,
    "start_time": "2022-02-07T18:54:48.206Z"
   },
   {
    "duration": 248,
    "start_time": "2022-02-07T18:54:48.231Z"
   },
   {
    "duration": 343,
    "start_time": "2022-02-07T18:54:48.482Z"
   },
   {
    "duration": 263,
    "start_time": "2022-02-07T18:54:48.828Z"
   },
   {
    "duration": 250,
    "start_time": "2022-02-07T18:54:49.094Z"
   },
   {
    "duration": 272,
    "start_time": "2022-02-07T18:54:49.346Z"
   },
   {
    "duration": 259,
    "start_time": "2022-02-07T18:54:49.620Z"
   },
   {
    "duration": 341,
    "start_time": "2022-02-07T18:54:49.882Z"
   },
   {
    "duration": 245,
    "start_time": "2022-02-07T18:54:50.225Z"
   },
   {
    "duration": 245,
    "start_time": "2022-02-07T18:54:50.478Z"
   },
   {
    "duration": 23,
    "start_time": "2022-02-07T18:54:50.725Z"
   },
   {
    "duration": 112,
    "start_time": "2022-02-07T18:54:50.750Z"
   },
   {
    "duration": -85,
    "start_time": "2022-02-07T18:54:50.949Z"
   },
   {
    "duration": -89,
    "start_time": "2022-02-07T18:54:50.955Z"
   },
   {
    "duration": -94,
    "start_time": "2022-02-07T18:54:50.961Z"
   },
   {
    "duration": -99,
    "start_time": "2022-02-07T18:54:50.967Z"
   },
   {
    "duration": -101,
    "start_time": "2022-02-07T18:54:50.971Z"
   },
   {
    "duration": -103,
    "start_time": "2022-02-07T18:54:50.974Z"
   },
   {
    "duration": -105,
    "start_time": "2022-02-07T18:54:50.977Z"
   },
   {
    "duration": -105,
    "start_time": "2022-02-07T18:54:50.979Z"
   },
   {
    "duration": 23,
    "start_time": "2022-02-07T18:59:26.708Z"
   },
   {
    "duration": 22,
    "start_time": "2022-02-07T18:59:49.954Z"
   },
   {
    "duration": 365,
    "start_time": "2022-02-07T19:01:48.758Z"
   },
   {
    "duration": 245,
    "start_time": "2022-02-07T19:02:06.780Z"
   },
   {
    "duration": 222,
    "start_time": "2022-02-07T19:03:56.419Z"
   },
   {
    "duration": 12,
    "start_time": "2022-02-07T19:06:47.439Z"
   },
   {
    "duration": 12,
    "start_time": "2022-02-07T19:07:17.110Z"
   },
   {
    "duration": 10,
    "start_time": "2022-02-07T19:08:03.790Z"
   },
   {
    "duration": 10,
    "start_time": "2022-02-07T19:08:17.434Z"
   },
   {
    "duration": 231,
    "start_time": "2022-02-07T19:11:16.949Z"
   },
   {
    "duration": 16,
    "start_time": "2022-02-07T19:12:11.972Z"
   },
   {
    "duration": 28,
    "start_time": "2022-02-07T19:13:21.032Z"
   },
   {
    "duration": 31,
    "start_time": "2022-02-07T19:13:48.260Z"
   },
   {
    "duration": 28,
    "start_time": "2022-02-07T19:13:58.851Z"
   },
   {
    "duration": 3,
    "start_time": "2022-02-07T19:14:05.539Z"
   },
   {
    "duration": 230,
    "start_time": "2022-02-07T19:14:51.011Z"
   },
   {
    "duration": 924,
    "start_time": "2022-02-07T19:15:01.898Z"
   },
   {
    "duration": 7,
    "start_time": "2022-02-07T19:15:02.824Z"
   },
   {
    "duration": 218,
    "start_time": "2022-02-07T19:15:02.834Z"
   },
   {
    "duration": 170,
    "start_time": "2022-02-07T19:15:03.055Z"
   },
   {
    "duration": 242,
    "start_time": "2022-02-07T19:15:03.228Z"
   },
   {
    "duration": 204,
    "start_time": "2022-02-07T19:15:03.473Z"
   },
   {
    "duration": 180,
    "start_time": "2022-02-07T19:15:03.680Z"
   },
   {
    "duration": 5034,
    "start_time": "2022-02-07T19:15:03.864Z"
   },
   {
    "duration": 4410,
    "start_time": "2022-02-07T19:15:08.901Z"
   },
   {
    "duration": 37,
    "start_time": "2022-02-07T19:15:13.313Z"
   },
   {
    "duration": 308,
    "start_time": "2022-02-07T19:15:13.353Z"
   },
   {
    "duration": 690,
    "start_time": "2022-02-07T19:15:13.664Z"
   },
   {
    "duration": 244,
    "start_time": "2022-02-07T19:15:14.357Z"
   },
   {
    "duration": 335,
    "start_time": "2022-02-07T19:15:14.603Z"
   },
   {
    "duration": 320,
    "start_time": "2022-02-07T19:15:14.940Z"
   },
   {
    "duration": 385,
    "start_time": "2022-02-07T19:15:15.262Z"
   },
   {
    "duration": 3,
    "start_time": "2022-02-07T19:15:15.649Z"
   },
   {
    "duration": 417,
    "start_time": "2022-02-07T19:15:15.655Z"
   },
   {
    "duration": 310,
    "start_time": "2022-02-07T19:15:16.074Z"
   },
   {
    "duration": 255,
    "start_time": "2022-02-07T19:15:16.387Z"
   },
   {
    "duration": 311,
    "start_time": "2022-02-07T19:15:16.644Z"
   },
   {
    "duration": 282,
    "start_time": "2022-02-07T19:15:16.957Z"
   },
   {
    "duration": 344,
    "start_time": "2022-02-07T19:15:17.243Z"
   },
   {
    "duration": 554,
    "start_time": "2022-02-07T19:15:17.590Z"
   },
   {
    "duration": 279,
    "start_time": "2022-02-07T19:15:18.147Z"
   },
   {
    "duration": 351,
    "start_time": "2022-02-07T19:15:18.429Z"
   },
   {
    "duration": 64,
    "start_time": "2022-02-07T19:15:18.783Z"
   },
   {
    "duration": 378,
    "start_time": "2022-02-07T19:15:18.850Z"
   },
   {
    "duration": -48,
    "start_time": "2022-02-07T19:15:19.279Z"
   },
   {
    "duration": -50,
    "start_time": "2022-02-07T19:15:19.282Z"
   },
   {
    "duration": -50,
    "start_time": "2022-02-07T19:15:19.284Z"
   },
   {
    "duration": -51,
    "start_time": "2022-02-07T19:15:19.286Z"
   },
   {
    "duration": -52,
    "start_time": "2022-02-07T19:15:19.288Z"
   },
   {
    "duration": -52,
    "start_time": "2022-02-07T19:15:19.290Z"
   },
   {
    "duration": -53,
    "start_time": "2022-02-07T19:15:19.293Z"
   },
   {
    "duration": -54,
    "start_time": "2022-02-07T19:15:19.295Z"
   },
   {
    "duration": 281,
    "start_time": "2022-02-07T19:17:14.515Z"
   },
   {
    "duration": 281,
    "start_time": "2022-02-07T19:19:24.596Z"
   },
   {
    "duration": 1051,
    "start_time": "2022-02-07T19:19:35.010Z"
   },
   {
    "duration": 7,
    "start_time": "2022-02-07T19:19:36.063Z"
   },
   {
    "duration": 391,
    "start_time": "2022-02-07T19:19:36.073Z"
   },
   {
    "duration": 276,
    "start_time": "2022-02-07T19:19:36.468Z"
   },
   {
    "duration": 292,
    "start_time": "2022-02-07T19:19:36.747Z"
   },
   {
    "duration": 197,
    "start_time": "2022-02-07T19:19:37.043Z"
   },
   {
    "duration": 258,
    "start_time": "2022-02-07T19:19:37.244Z"
   },
   {
    "duration": 5391,
    "start_time": "2022-02-07T19:19:37.508Z"
   },
   {
    "duration": 4948,
    "start_time": "2022-02-07T19:19:42.902Z"
   },
   {
    "duration": 28,
    "start_time": "2022-02-07T19:19:47.852Z"
   },
   {
    "duration": 443,
    "start_time": "2022-02-07T19:19:47.882Z"
   },
   {
    "duration": 617,
    "start_time": "2022-02-07T19:19:48.328Z"
   },
   {
    "duration": 261,
    "start_time": "2022-02-07T19:19:48.948Z"
   },
   {
    "duration": 689,
    "start_time": "2022-02-07T19:19:49.213Z"
   },
   {
    "duration": 449,
    "start_time": "2022-02-07T19:19:49.906Z"
   },
   {
    "duration": 335,
    "start_time": "2022-02-07T19:19:50.359Z"
   },
   {
    "duration": 3,
    "start_time": "2022-02-07T19:19:50.697Z"
   },
   {
    "duration": 727,
    "start_time": "2022-02-07T19:19:50.703Z"
   },
   {
    "duration": 353,
    "start_time": "2022-02-07T19:19:51.433Z"
   },
   {
    "duration": 271,
    "start_time": "2022-02-07T19:19:51.790Z"
   },
   {
    "duration": 425,
    "start_time": "2022-02-07T19:19:52.063Z"
   },
   {
    "duration": 383,
    "start_time": "2022-02-07T19:19:52.491Z"
   },
   {
    "duration": 245,
    "start_time": "2022-02-07T19:19:52.880Z"
   },
   {
    "duration": 342,
    "start_time": "2022-02-07T19:19:53.128Z"
   },
   {
    "duration": 108,
    "start_time": "2022-02-07T19:19:53.472Z"
   },
   {
    "duration": 511,
    "start_time": "2022-02-07T19:19:53.583Z"
   },
   {
    "duration": -22,
    "start_time": "2022-02-07T19:19:54.118Z"
   },
   {
    "duration": -24,
    "start_time": "2022-02-07T19:19:54.122Z"
   },
   {
    "duration": -24,
    "start_time": "2022-02-07T19:19:54.124Z"
   },
   {
    "duration": -23,
    "start_time": "2022-02-07T19:19:54.126Z"
   },
   {
    "duration": -24,
    "start_time": "2022-02-07T19:19:54.128Z"
   },
   {
    "duration": -23,
    "start_time": "2022-02-07T19:19:54.130Z"
   },
   {
    "duration": -25,
    "start_time": "2022-02-07T19:19:54.133Z"
   },
   {
    "duration": -25,
    "start_time": "2022-02-07T19:19:54.135Z"
   },
   {
    "duration": 350,
    "start_time": "2022-02-07T19:20:08.147Z"
   },
   {
    "duration": 7,
    "start_time": "2022-02-07T19:22:05.293Z"
   },
   {
    "duration": 4,
    "start_time": "2022-02-07T19:23:07.899Z"
   },
   {
    "duration": 303,
    "start_time": "2022-02-07T19:23:51.782Z"
   },
   {
    "duration": 416,
    "start_time": "2022-02-07T19:24:29.622Z"
   },
   {
    "duration": 248,
    "start_time": "2022-02-07T19:24:52.422Z"
   },
   {
    "duration": 1100,
    "start_time": "2022-02-07T19:25:18.706Z"
   },
   {
    "duration": 18,
    "start_time": "2022-02-07T19:25:19.810Z"
   },
   {
    "duration": 184,
    "start_time": "2022-02-07T19:25:19.833Z"
   },
   {
    "duration": 138,
    "start_time": "2022-02-07T19:25:20.021Z"
   },
   {
    "duration": 189,
    "start_time": "2022-02-07T19:25:20.162Z"
   },
   {
    "duration": 109,
    "start_time": "2022-02-07T19:25:20.354Z"
   },
   {
    "duration": 143,
    "start_time": "2022-02-07T19:25:20.466Z"
   },
   {
    "duration": 5722,
    "start_time": "2022-02-07T19:25:20.612Z"
   },
   {
    "duration": 4663,
    "start_time": "2022-02-07T19:25:26.341Z"
   },
   {
    "duration": 42,
    "start_time": "2022-02-07T19:25:31.008Z"
   },
   {
    "duration": 202,
    "start_time": "2022-02-07T19:25:31.052Z"
   },
   {
    "duration": 584,
    "start_time": "2022-02-07T19:25:31.257Z"
   },
   {
    "duration": 249,
    "start_time": "2022-02-07T19:25:31.844Z"
   },
   {
    "duration": 351,
    "start_time": "2022-02-07T19:25:32.096Z"
   },
   {
    "duration": 304,
    "start_time": "2022-02-07T19:25:32.450Z"
   },
   {
    "duration": 321,
    "start_time": "2022-02-07T19:25:32.756Z"
   },
   {
    "duration": 3,
    "start_time": "2022-02-07T19:25:33.080Z"
   },
   {
    "duration": 549,
    "start_time": "2022-02-07T19:25:33.085Z"
   },
   {
    "duration": 350,
    "start_time": "2022-02-07T19:25:33.637Z"
   },
   {
    "duration": 101,
    "start_time": "2022-02-07T19:25:33.990Z"
   },
   {
    "duration": -12,
    "start_time": "2022-02-07T19:25:34.106Z"
   },
   {
    "duration": -14,
    "start_time": "2022-02-07T19:25:34.109Z"
   },
   {
    "duration": -14,
    "start_time": "2022-02-07T19:25:34.111Z"
   },
   {
    "duration": -18,
    "start_time": "2022-02-07T19:25:34.116Z"
   },
   {
    "duration": -19,
    "start_time": "2022-02-07T19:25:34.119Z"
   },
   {
    "duration": -19,
    "start_time": "2022-02-07T19:25:34.121Z"
   },
   {
    "duration": -21,
    "start_time": "2022-02-07T19:25:34.124Z"
   },
   {
    "duration": -21,
    "start_time": "2022-02-07T19:25:34.126Z"
   },
   {
    "duration": -22,
    "start_time": "2022-02-07T19:25:34.128Z"
   },
   {
    "duration": -23,
    "start_time": "2022-02-07T19:25:34.130Z"
   },
   {
    "duration": -23,
    "start_time": "2022-02-07T19:25:34.132Z"
   },
   {
    "duration": -26,
    "start_time": "2022-02-07T19:25:34.136Z"
   },
   {
    "duration": -38,
    "start_time": "2022-02-07T19:25:34.149Z"
   },
   {
    "duration": -44,
    "start_time": "2022-02-07T19:25:34.156Z"
   },
   {
    "duration": 234,
    "start_time": "2022-02-07T19:25:53.712Z"
   },
   {
    "duration": 920,
    "start_time": "2022-02-07T19:26:51.988Z"
   },
   {
    "duration": 12,
    "start_time": "2022-02-07T19:26:52.911Z"
   },
   {
    "duration": 362,
    "start_time": "2022-02-07T19:26:52.926Z"
   },
   {
    "duration": 322,
    "start_time": "2022-02-07T19:26:53.291Z"
   },
   {
    "duration": 360,
    "start_time": "2022-02-07T19:26:53.616Z"
   },
   {
    "duration": 118,
    "start_time": "2022-02-07T19:26:53.979Z"
   },
   {
    "duration": 248,
    "start_time": "2022-02-07T19:26:54.100Z"
   },
   {
    "duration": 5478,
    "start_time": "2022-02-07T19:26:54.353Z"
   },
   {
    "duration": 5004,
    "start_time": "2022-02-07T19:26:59.834Z"
   },
   {
    "duration": 27,
    "start_time": "2022-02-07T19:27:04.841Z"
   },
   {
    "duration": 296,
    "start_time": "2022-02-07T19:27:04.870Z"
   },
   {
    "duration": 659,
    "start_time": "2022-02-07T19:27:05.168Z"
   },
   {
    "duration": 259,
    "start_time": "2022-02-07T19:27:05.829Z"
   },
   {
    "duration": 448,
    "start_time": "2022-02-07T19:27:06.091Z"
   },
   {
    "duration": 297,
    "start_time": "2022-02-07T19:27:06.542Z"
   },
   {
    "duration": 336,
    "start_time": "2022-02-07T19:27:06.842Z"
   },
   {
    "duration": 3,
    "start_time": "2022-02-07T19:27:07.180Z"
   },
   {
    "duration": 469,
    "start_time": "2022-02-07T19:27:07.185Z"
   },
   {
    "duration": 357,
    "start_time": "2022-02-07T19:27:07.656Z"
   },
   {
    "duration": 272,
    "start_time": "2022-02-07T19:27:08.024Z"
   },
   {
    "duration": 262,
    "start_time": "2022-02-07T19:27:08.299Z"
   },
   {
    "duration": 334,
    "start_time": "2022-02-07T19:27:08.564Z"
   },
   {
    "duration": 233,
    "start_time": "2022-02-07T19:27:08.903Z"
   },
   {
    "duration": 314,
    "start_time": "2022-02-07T19:27:09.138Z"
   },
   {
    "duration": 22,
    "start_time": "2022-02-07T19:27:09.455Z"
   },
   {
    "duration": 411,
    "start_time": "2022-02-07T19:27:09.479Z"
   },
   {
    "duration": -73,
    "start_time": "2022-02-07T19:27:09.965Z"
   },
   {
    "duration": -92,
    "start_time": "2022-02-07T19:27:09.986Z"
   },
   {
    "duration": -96,
    "start_time": "2022-02-07T19:27:09.991Z"
   },
   {
    "duration": -99,
    "start_time": "2022-02-07T19:27:09.995Z"
   },
   {
    "duration": -101,
    "start_time": "2022-02-07T19:27:09.998Z"
   },
   {
    "duration": -102,
    "start_time": "2022-02-07T19:27:10.002Z"
   },
   {
    "duration": -104,
    "start_time": "2022-02-07T19:27:10.005Z"
   },
   {
    "duration": -104,
    "start_time": "2022-02-07T19:27:10.007Z"
   },
   {
    "duration": 14,
    "start_time": "2022-02-07T19:27:53.334Z"
   },
   {
    "duration": 115,
    "start_time": "2022-02-07T19:28:04.244Z"
   },
   {
    "duration": 160,
    "start_time": "2022-02-07T19:28:04.362Z"
   },
   {
    "duration": 890,
    "start_time": "2022-02-07T19:28:12.778Z"
   },
   {
    "duration": 8,
    "start_time": "2022-02-07T19:28:13.671Z"
   },
   {
    "duration": 197,
    "start_time": "2022-02-07T19:28:13.681Z"
   },
   {
    "duration": 178,
    "start_time": "2022-02-07T19:28:13.881Z"
   },
   {
    "duration": 226,
    "start_time": "2022-02-07T19:28:14.062Z"
   },
   {
    "duration": 82,
    "start_time": "2022-02-07T19:28:14.290Z"
   },
   {
    "duration": 176,
    "start_time": "2022-02-07T19:28:14.374Z"
   },
   {
    "duration": 5044,
    "start_time": "2022-02-07T19:28:14.554Z"
   },
   {
    "duration": 4423,
    "start_time": "2022-02-07T19:28:19.602Z"
   },
   {
    "duration": 28,
    "start_time": "2022-02-07T19:28:24.027Z"
   },
   {
    "duration": 343,
    "start_time": "2022-02-07T19:28:24.058Z"
   },
   {
    "duration": 696,
    "start_time": "2022-02-07T19:28:24.404Z"
   },
   {
    "duration": 255,
    "start_time": "2022-02-07T19:28:25.102Z"
   },
   {
    "duration": 452,
    "start_time": "2022-02-07T19:28:25.360Z"
   },
   {
    "duration": 328,
    "start_time": "2022-02-07T19:28:25.815Z"
   },
   {
    "duration": 338,
    "start_time": "2022-02-07T19:28:26.146Z"
   },
   {
    "duration": 4,
    "start_time": "2022-02-07T19:28:26.487Z"
   },
   {
    "duration": 463,
    "start_time": "2022-02-07T19:28:26.494Z"
   },
   {
    "duration": 348,
    "start_time": "2022-02-07T19:28:26.960Z"
   },
   {
    "duration": 252,
    "start_time": "2022-02-07T19:28:27.311Z"
   },
   {
    "duration": 263,
    "start_time": "2022-02-07T19:28:27.565Z"
   },
   {
    "duration": 355,
    "start_time": "2022-02-07T19:28:27.831Z"
   },
   {
    "duration": 240,
    "start_time": "2022-02-07T19:28:28.193Z"
   },
   {
    "duration": 252,
    "start_time": "2022-02-07T19:28:28.436Z"
   },
   {
    "duration": 36,
    "start_time": "2022-02-07T19:28:28.690Z"
   },
   {
    "duration": 325,
    "start_time": "2022-02-07T19:28:28.728Z"
   },
   {
    "duration": -67,
    "start_time": "2022-02-07T19:28:29.122Z"
   },
   {
    "duration": -67,
    "start_time": "2022-02-07T19:28:29.124Z"
   },
   {
    "duration": -68,
    "start_time": "2022-02-07T19:28:29.126Z"
   },
   {
    "duration": -68,
    "start_time": "2022-02-07T19:28:29.128Z"
   },
   {
    "duration": -69,
    "start_time": "2022-02-07T19:28:29.130Z"
   },
   {
    "duration": -69,
    "start_time": "2022-02-07T19:28:29.132Z"
   },
   {
    "duration": -77,
    "start_time": "2022-02-07T19:28:29.141Z"
   },
   {
    "duration": -78,
    "start_time": "2022-02-07T19:28:29.144Z"
   },
   {
    "duration": 21,
    "start_time": "2022-02-07T19:33:04.021Z"
   },
   {
    "duration": 941,
    "start_time": "2022-02-07T19:33:20.236Z"
   },
   {
    "duration": 11,
    "start_time": "2022-02-07T19:33:21.179Z"
   },
   {
    "duration": 422,
    "start_time": "2022-02-07T19:33:21.195Z"
   },
   {
    "duration": 232,
    "start_time": "2022-02-07T19:33:21.620Z"
   },
   {
    "duration": 301,
    "start_time": "2022-02-07T19:33:21.855Z"
   },
   {
    "duration": 171,
    "start_time": "2022-02-07T19:33:22.159Z"
   },
   {
    "duration": 251,
    "start_time": "2022-02-07T19:33:22.333Z"
   },
   {
    "duration": 271,
    "start_time": "2022-02-07T19:33:22.589Z"
   },
   {
    "duration": 6722,
    "start_time": "2022-02-07T19:33:22.864Z"
   },
   {
    "duration": 4958,
    "start_time": "2022-02-07T19:33:29.589Z"
   },
   {
    "duration": 31,
    "start_time": "2022-02-07T19:33:34.550Z"
   },
   {
    "duration": 378,
    "start_time": "2022-02-07T19:33:34.584Z"
   },
   {
    "duration": 718,
    "start_time": "2022-02-07T19:33:34.964Z"
   },
   {
    "duration": 253,
    "start_time": "2022-02-07T19:33:35.686Z"
   },
   {
    "duration": 681,
    "start_time": "2022-02-07T19:33:35.942Z"
   },
   {
    "duration": 385,
    "start_time": "2022-02-07T19:33:36.626Z"
   },
   {
    "duration": 451,
    "start_time": "2022-02-07T19:33:37.013Z"
   },
   {
    "duration": 7,
    "start_time": "2022-02-07T19:33:37.467Z"
   },
   {
    "duration": 549,
    "start_time": "2022-02-07T19:33:37.476Z"
   },
   {
    "duration": 365,
    "start_time": "2022-02-07T19:33:38.028Z"
   },
   {
    "duration": 261,
    "start_time": "2022-02-07T19:33:38.395Z"
   },
   {
    "duration": 424,
    "start_time": "2022-02-07T19:33:38.659Z"
   },
   {
    "duration": 348,
    "start_time": "2022-02-07T19:33:39.087Z"
   },
   {
    "duration": 334,
    "start_time": "2022-02-07T19:33:39.439Z"
   },
   {
    "duration": 349,
    "start_time": "2022-02-07T19:33:39.776Z"
   },
   {
    "duration": 25,
    "start_time": "2022-02-07T19:33:40.129Z"
   },
   {
    "duration": 488,
    "start_time": "2022-02-07T19:33:40.156Z"
   },
   {
    "duration": -14,
    "start_time": "2022-02-07T19:33:40.661Z"
   },
   {
    "duration": -17,
    "start_time": "2022-02-07T19:33:40.665Z"
   },
   {
    "duration": -15,
    "start_time": "2022-02-07T19:33:40.666Z"
   },
   {
    "duration": -16,
    "start_time": "2022-02-07T19:33:40.668Z"
   },
   {
    "duration": -16,
    "start_time": "2022-02-07T19:33:40.670Z"
   },
   {
    "duration": -17,
    "start_time": "2022-02-07T19:33:40.672Z"
   },
   {
    "duration": -17,
    "start_time": "2022-02-07T19:33:40.674Z"
   },
   {
    "duration": -24,
    "start_time": "2022-02-07T19:33:40.682Z"
   },
   {
    "duration": 427,
    "start_time": "2022-02-07T19:37:05.014Z"
   },
   {
    "duration": 398,
    "start_time": "2022-02-07T19:37:29.864Z"
   },
   {
    "duration": 885,
    "start_time": "2022-02-07T19:37:37.329Z"
   },
   {
    "duration": 12,
    "start_time": "2022-02-07T19:37:38.217Z"
   },
   {
    "duration": 278,
    "start_time": "2022-02-07T19:37:38.232Z"
   },
   {
    "duration": 126,
    "start_time": "2022-02-07T19:37:38.513Z"
   },
   {
    "duration": 253,
    "start_time": "2022-02-07T19:37:38.642Z"
   },
   {
    "duration": 641,
    "start_time": "2022-02-07T19:37:38.898Z"
   },
   {
    "duration": -37,
    "start_time": "2022-02-07T19:37:39.582Z"
   },
   {
    "duration": -42,
    "start_time": "2022-02-07T19:37:39.588Z"
   },
   {
    "duration": -42,
    "start_time": "2022-02-07T19:37:39.590Z"
   },
   {
    "duration": -42,
    "start_time": "2022-02-07T19:37:39.592Z"
   },
   {
    "duration": -43,
    "start_time": "2022-02-07T19:37:39.595Z"
   },
   {
    "duration": -45,
    "start_time": "2022-02-07T19:37:39.598Z"
   },
   {
    "duration": -46,
    "start_time": "2022-02-07T19:37:39.600Z"
   },
   {
    "duration": -47,
    "start_time": "2022-02-07T19:37:39.602Z"
   },
   {
    "duration": -48,
    "start_time": "2022-02-07T19:37:39.605Z"
   },
   {
    "duration": -57,
    "start_time": "2022-02-07T19:37:39.615Z"
   },
   {
    "duration": -58,
    "start_time": "2022-02-07T19:37:39.618Z"
   },
   {
    "duration": -60,
    "start_time": "2022-02-07T19:37:39.621Z"
   },
   {
    "duration": -60,
    "start_time": "2022-02-07T19:37:39.623Z"
   },
   {
    "duration": -61,
    "start_time": "2022-02-07T19:37:39.625Z"
   },
   {
    "duration": -66,
    "start_time": "2022-02-07T19:37:39.632Z"
   },
   {
    "duration": -68,
    "start_time": "2022-02-07T19:37:39.636Z"
   },
   {
    "duration": -69,
    "start_time": "2022-02-07T19:37:39.639Z"
   },
   {
    "duration": -70,
    "start_time": "2022-02-07T19:37:39.642Z"
   },
   {
    "duration": -71,
    "start_time": "2022-02-07T19:37:39.644Z"
   },
   {
    "duration": -29,
    "start_time": "2022-02-07T19:37:39.653Z"
   },
   {
    "duration": -32,
    "start_time": "2022-02-07T19:37:39.658Z"
   },
   {
    "duration": -35,
    "start_time": "2022-02-07T19:37:39.664Z"
   },
   {
    "duration": -35,
    "start_time": "2022-02-07T19:37:39.666Z"
   },
   {
    "duration": -36,
    "start_time": "2022-02-07T19:37:39.669Z"
   },
   {
    "duration": -36,
    "start_time": "2022-02-07T19:37:39.671Z"
   },
   {
    "duration": -36,
    "start_time": "2022-02-07T19:37:39.673Z"
   },
   {
    "duration": -45,
    "start_time": "2022-02-07T19:37:39.684Z"
   },
   {
    "duration": -65,
    "start_time": "2022-02-07T19:37:39.706Z"
   },
   {
    "duration": -67,
    "start_time": "2022-02-07T19:37:39.710Z"
   },
   {
    "duration": 309,
    "start_time": "2022-02-07T19:38:50.054Z"
   },
   {
    "duration": 849,
    "start_time": "2022-02-07T19:39:18.352Z"
   },
   {
    "duration": 20,
    "start_time": "2022-02-07T19:39:19.205Z"
   },
   {
    "duration": 246,
    "start_time": "2022-02-07T19:39:19.228Z"
   },
   {
    "duration": 103,
    "start_time": "2022-02-07T19:39:19.477Z"
   },
   {
    "duration": 212,
    "start_time": "2022-02-07T19:39:19.583Z"
   },
   {
    "duration": 553,
    "start_time": "2022-02-07T19:39:19.798Z"
   },
   {
    "duration": -109,
    "start_time": "2022-02-07T19:39:20.466Z"
   },
   {
    "duration": -115,
    "start_time": "2022-02-07T19:39:20.475Z"
   },
   {
    "duration": -116,
    "start_time": "2022-02-07T19:39:20.478Z"
   },
   {
    "duration": -116,
    "start_time": "2022-02-07T19:39:20.480Z"
   },
   {
    "duration": -116,
    "start_time": "2022-02-07T19:39:20.482Z"
   },
   {
    "duration": -115,
    "start_time": "2022-02-07T19:39:20.484Z"
   },
   {
    "duration": -114,
    "start_time": "2022-02-07T19:39:20.485Z"
   },
   {
    "duration": -114,
    "start_time": "2022-02-07T19:39:20.487Z"
   },
   {
    "duration": -114,
    "start_time": "2022-02-07T19:39:20.490Z"
   },
   {
    "duration": -115,
    "start_time": "2022-02-07T19:39:20.493Z"
   },
   {
    "duration": -114,
    "start_time": "2022-02-07T19:39:20.495Z"
   },
   {
    "duration": -114,
    "start_time": "2022-02-07T19:39:20.497Z"
   },
   {
    "duration": -114,
    "start_time": "2022-02-07T19:39:20.499Z"
   },
   {
    "duration": -78,
    "start_time": "2022-02-07T19:39:20.501Z"
   },
   {
    "duration": -77,
    "start_time": "2022-02-07T19:39:20.502Z"
   },
   {
    "duration": -76,
    "start_time": "2022-02-07T19:39:20.504Z"
   },
   {
    "duration": -83,
    "start_time": "2022-02-07T19:39:20.513Z"
   },
   {
    "duration": -84,
    "start_time": "2022-02-07T19:39:20.516Z"
   },
   {
    "duration": -83,
    "start_time": "2022-02-07T19:39:20.518Z"
   },
   {
    "duration": -84,
    "start_time": "2022-02-07T19:39:20.521Z"
   },
   {
    "duration": -84,
    "start_time": "2022-02-07T19:39:20.523Z"
   },
   {
    "duration": -84,
    "start_time": "2022-02-07T19:39:20.525Z"
   },
   {
    "duration": -83,
    "start_time": "2022-02-07T19:39:20.527Z"
   },
   {
    "duration": -83,
    "start_time": "2022-02-07T19:39:20.529Z"
   },
   {
    "duration": -82,
    "start_time": "2022-02-07T19:39:20.531Z"
   },
   {
    "duration": -82,
    "start_time": "2022-02-07T19:39:20.533Z"
   },
   {
    "duration": -82,
    "start_time": "2022-02-07T19:39:20.535Z"
   },
   {
    "duration": -82,
    "start_time": "2022-02-07T19:39:20.537Z"
   },
   {
    "duration": -82,
    "start_time": "2022-02-07T19:39:20.539Z"
   },
   {
    "duration": 8,
    "start_time": "2022-02-07T19:40:14.515Z"
   },
   {
    "duration": 26,
    "start_time": "2022-02-07T19:40:36.338Z"
   },
   {
    "duration": 27,
    "start_time": "2022-02-07T19:41:56.900Z"
   },
   {
    "duration": 6,
    "start_time": "2022-02-07T19:44:37.677Z"
   },
   {
    "duration": 17,
    "start_time": "2022-02-07T19:44:52.792Z"
   },
   {
    "duration": 21,
    "start_time": "2022-02-07T19:47:38.959Z"
   },
   {
    "duration": 22,
    "start_time": "2022-02-07T19:48:31.127Z"
   },
   {
    "duration": 91,
    "start_time": "2022-02-07T19:49:24.873Z"
   },
   {
    "duration": 104,
    "start_time": "2022-02-07T19:49:42.536Z"
   },
   {
    "duration": 72,
    "start_time": "2022-02-07T19:49:49.766Z"
   },
   {
    "duration": 9,
    "start_time": "2022-02-07T19:52:12.467Z"
   },
   {
    "duration": 90,
    "start_time": "2022-02-07T19:55:04.584Z"
   },
   {
    "duration": 40,
    "start_time": "2022-02-07T19:55:10.822Z"
   },
   {
    "duration": 32,
    "start_time": "2022-02-07T19:55:33.460Z"
   },
   {
    "duration": 31,
    "start_time": "2022-02-07T19:55:44.125Z"
   },
   {
    "duration": 41,
    "start_time": "2022-02-07T19:56:00.973Z"
   },
   {
    "duration": 33,
    "start_time": "2022-02-07T19:56:18.253Z"
   },
   {
    "duration": 31,
    "start_time": "2022-02-07T19:58:08.168Z"
   },
   {
    "duration": 859,
    "start_time": "2022-02-07T20:02:41.145Z"
   },
   {
    "duration": 7,
    "start_time": "2022-02-07T20:02:42.007Z"
   },
   {
    "duration": 179,
    "start_time": "2022-02-07T20:02:42.024Z"
   },
   {
    "duration": 206,
    "start_time": "2022-02-07T20:02:42.206Z"
   },
   {
    "duration": 262,
    "start_time": "2022-02-07T20:02:42.415Z"
   },
   {
    "duration": 150,
    "start_time": "2022-02-07T20:02:42.679Z"
   },
   {
    "duration": 227,
    "start_time": "2022-02-07T20:02:42.832Z"
   },
   {
    "duration": 184,
    "start_time": "2022-02-07T20:02:43.063Z"
   },
   {
    "duration": 5523,
    "start_time": "2022-02-07T20:02:43.250Z"
   },
   {
    "duration": 5089,
    "start_time": "2022-02-07T20:02:48.776Z"
   },
   {
    "duration": 30,
    "start_time": "2022-02-07T20:02:53.867Z"
   },
   {
    "duration": 178,
    "start_time": "2022-02-07T20:02:53.923Z"
   },
   {
    "duration": 647,
    "start_time": "2022-02-07T20:02:54.104Z"
   },
   {
    "duration": 247,
    "start_time": "2022-02-07T20:02:54.754Z"
   },
   {
    "duration": 373,
    "start_time": "2022-02-07T20:02:55.004Z"
   },
   {
    "duration": 285,
    "start_time": "2022-02-07T20:02:55.380Z"
   },
   {
    "duration": 322,
    "start_time": "2022-02-07T20:02:55.668Z"
   },
   {
    "duration": 3,
    "start_time": "2022-02-07T20:02:55.992Z"
   },
   {
    "duration": 443,
    "start_time": "2022-02-07T20:02:55.998Z"
   },
   {
    "duration": 340,
    "start_time": "2022-02-07T20:02:56.443Z"
   },
   {
    "duration": 261,
    "start_time": "2022-02-07T20:02:56.786Z"
   },
   {
    "duration": 243,
    "start_time": "2022-02-07T20:02:57.049Z"
   },
   {
    "duration": 330,
    "start_time": "2022-02-07T20:02:57.297Z"
   },
   {
    "duration": 245,
    "start_time": "2022-02-07T20:02:57.631Z"
   },
   {
    "duration": 253,
    "start_time": "2022-02-07T20:02:57.878Z"
   },
   {
    "duration": 25,
    "start_time": "2022-02-07T20:02:58.133Z"
   },
   {
    "duration": 289,
    "start_time": "2022-02-07T20:02:58.161Z"
   },
   {
    "duration": -49,
    "start_time": "2022-02-07T20:02:58.502Z"
   },
   {
    "duration": -53,
    "start_time": "2022-02-07T20:02:58.508Z"
   },
   {
    "duration": -56,
    "start_time": "2022-02-07T20:02:58.513Z"
   },
   {
    "duration": -62,
    "start_time": "2022-02-07T20:02:58.520Z"
   },
   {
    "duration": -64,
    "start_time": "2022-02-07T20:02:58.524Z"
   },
   {
    "duration": -66,
    "start_time": "2022-02-07T20:02:58.527Z"
   },
   {
    "duration": -68,
    "start_time": "2022-02-07T20:02:58.530Z"
   },
   {
    "duration": -69,
    "start_time": "2022-02-07T20:02:58.532Z"
   },
   {
    "duration": 24,
    "start_time": "2022-02-07T20:03:10.208Z"
   },
   {
    "duration": 1006,
    "start_time": "2022-02-07T20:03:23.538Z"
   },
   {
    "duration": 7,
    "start_time": "2022-02-07T20:03:24.547Z"
   },
   {
    "duration": 284,
    "start_time": "2022-02-07T20:03:24.557Z"
   },
   {
    "duration": 291,
    "start_time": "2022-02-07T20:03:24.844Z"
   },
   {
    "duration": 338,
    "start_time": "2022-02-07T20:03:25.139Z"
   },
   {
    "duration": 257,
    "start_time": "2022-02-07T20:03:25.480Z"
   },
   {
    "duration": 335,
    "start_time": "2022-02-07T20:03:25.740Z"
   },
   {
    "duration": 284,
    "start_time": "2022-02-07T20:03:26.079Z"
   },
   {
    "duration": 5171,
    "start_time": "2022-02-07T20:03:26.367Z"
   },
   {
    "duration": 4400,
    "start_time": "2022-02-07T20:03:31.541Z"
   },
   {
    "duration": 29,
    "start_time": "2022-02-07T20:03:35.944Z"
   },
   {
    "duration": 226,
    "start_time": "2022-02-07T20:03:35.975Z"
   },
   {
    "duration": 654,
    "start_time": "2022-02-07T20:03:36.203Z"
   },
   {
    "duration": 247,
    "start_time": "2022-02-07T20:03:36.860Z"
   },
   {
    "duration": 345,
    "start_time": "2022-02-07T20:03:37.110Z"
   },
   {
    "duration": 298,
    "start_time": "2022-02-07T20:03:37.458Z"
   },
   {
    "duration": 322,
    "start_time": "2022-02-07T20:03:37.759Z"
   },
   {
    "duration": 3,
    "start_time": "2022-02-07T20:03:38.084Z"
   },
   {
    "duration": 488,
    "start_time": "2022-02-07T20:03:38.090Z"
   },
   {
    "duration": 345,
    "start_time": "2022-02-07T20:03:38.580Z"
   },
   {
    "duration": 252,
    "start_time": "2022-02-07T20:03:38.928Z"
   },
   {
    "duration": 283,
    "start_time": "2022-02-07T20:03:39.182Z"
   },
   {
    "duration": 361,
    "start_time": "2022-02-07T20:03:39.468Z"
   },
   {
    "duration": 245,
    "start_time": "2022-02-07T20:03:39.831Z"
   },
   {
    "duration": 255,
    "start_time": "2022-02-07T20:03:40.079Z"
   },
   {
    "duration": 31,
    "start_time": "2022-02-07T20:03:40.338Z"
   },
   {
    "duration": 345,
    "start_time": "2022-02-07T20:03:40.376Z"
   },
   {
    "duration": -30,
    "start_time": "2022-02-07T20:03:40.755Z"
   },
   {
    "duration": -31,
    "start_time": "2022-02-07T20:03:40.758Z"
   },
   {
    "duration": -31,
    "start_time": "2022-02-07T20:03:40.760Z"
   },
   {
    "duration": -32,
    "start_time": "2022-02-07T20:03:40.763Z"
   },
   {
    "duration": -33,
    "start_time": "2022-02-07T20:03:40.767Z"
   },
   {
    "duration": -34,
    "start_time": "2022-02-07T20:03:40.770Z"
   },
   {
    "duration": -34,
    "start_time": "2022-02-07T20:03:40.772Z"
   },
   {
    "duration": -33,
    "start_time": "2022-02-07T20:03:40.774Z"
   },
   {
    "duration": 31,
    "start_time": "2022-02-07T20:05:29.135Z"
   },
   {
    "duration": 29,
    "start_time": "2022-02-07T20:05:37.372Z"
   },
   {
    "duration": 864,
    "start_time": "2022-02-07T20:05:45.061Z"
   },
   {
    "duration": 8,
    "start_time": "2022-02-07T20:05:45.927Z"
   },
   {
    "duration": 146,
    "start_time": "2022-02-07T20:05:45.938Z"
   },
   {
    "duration": 160,
    "start_time": "2022-02-07T20:05:46.087Z"
   },
   {
    "duration": 231,
    "start_time": "2022-02-07T20:05:46.250Z"
   },
   {
    "duration": 126,
    "start_time": "2022-02-07T20:05:46.484Z"
   },
   {
    "duration": 185,
    "start_time": "2022-02-07T20:05:46.613Z"
   },
   {
    "duration": 129,
    "start_time": "2022-02-07T20:05:46.802Z"
   },
   {
    "duration": 5068,
    "start_time": "2022-02-07T20:05:46.934Z"
   },
   {
    "duration": 4422,
    "start_time": "2022-02-07T20:05:52.004Z"
   },
   {
    "duration": 27,
    "start_time": "2022-02-07T20:05:56.428Z"
   },
   {
    "duration": 194,
    "start_time": "2022-02-07T20:05:56.458Z"
   },
   {
    "duration": 624,
    "start_time": "2022-02-07T20:05:56.654Z"
   },
   {
    "duration": 252,
    "start_time": "2022-02-07T20:05:57.281Z"
   },
   {
    "duration": 335,
    "start_time": "2022-02-07T20:05:57.537Z"
   },
   {
    "duration": 306,
    "start_time": "2022-02-07T20:05:57.876Z"
   },
   {
    "duration": 337,
    "start_time": "2022-02-07T20:05:58.185Z"
   },
   {
    "duration": 3,
    "start_time": "2022-02-07T20:05:58.525Z"
   },
   {
    "duration": 492,
    "start_time": "2022-02-07T20:05:58.531Z"
   },
   {
    "duration": 346,
    "start_time": "2022-02-07T20:05:59.025Z"
   },
   {
    "duration": 259,
    "start_time": "2022-02-07T20:05:59.373Z"
   },
   {
    "duration": 252,
    "start_time": "2022-02-07T20:05:59.636Z"
   },
   {
    "duration": 365,
    "start_time": "2022-02-07T20:05:59.893Z"
   },
   {
    "duration": 329,
    "start_time": "2022-02-07T20:06:00.261Z"
   },
   {
    "duration": 259,
    "start_time": "2022-02-07T20:06:00.593Z"
   },
   {
    "duration": 69,
    "start_time": "2022-02-07T20:06:00.855Z"
   },
   {
    "duration": 307,
    "start_time": "2022-02-07T20:06:00.927Z"
   },
   {
    "duration": -41,
    "start_time": "2022-02-07T20:06:01.278Z"
   },
   {
    "duration": -41,
    "start_time": "2022-02-07T20:06:01.280Z"
   },
   {
    "duration": -41,
    "start_time": "2022-02-07T20:06:01.282Z"
   },
   {
    "duration": -43,
    "start_time": "2022-02-07T20:06:01.285Z"
   },
   {
    "duration": -47,
    "start_time": "2022-02-07T20:06:01.291Z"
   },
   {
    "duration": -48,
    "start_time": "2022-02-07T20:06:01.293Z"
   },
   {
    "duration": -48,
    "start_time": "2022-02-07T20:06:01.295Z"
   },
   {
    "duration": -48,
    "start_time": "2022-02-07T20:06:01.297Z"
   },
   {
    "duration": 439,
    "start_time": "2022-02-07T20:06:48.320Z"
   },
   {
    "duration": 8,
    "start_time": "2022-02-07T20:06:58.024Z"
   },
   {
    "duration": 11,
    "start_time": "2022-02-07T20:08:49.260Z"
   },
   {
    "duration": 942,
    "start_time": "2022-02-07T20:08:56.012Z"
   },
   {
    "duration": 8,
    "start_time": "2022-02-07T20:08:56.956Z"
   },
   {
    "duration": 256,
    "start_time": "2022-02-07T20:08:56.968Z"
   },
   {
    "duration": 184,
    "start_time": "2022-02-07T20:08:57.228Z"
   },
   {
    "duration": 249,
    "start_time": "2022-02-07T20:08:57.415Z"
   },
   {
    "duration": 186,
    "start_time": "2022-02-07T20:08:57.667Z"
   },
   {
    "duration": 124,
    "start_time": "2022-02-07T20:08:57.856Z"
   },
   {
    "duration": 211,
    "start_time": "2022-02-07T20:08:57.984Z"
   },
   {
    "duration": 5924,
    "start_time": "2022-02-07T20:08:58.199Z"
   },
   {
    "duration": 4697,
    "start_time": "2022-02-07T20:09:04.126Z"
   },
   {
    "duration": 28,
    "start_time": "2022-02-07T20:09:08.827Z"
   },
   {
    "duration": 377,
    "start_time": "2022-02-07T20:09:08.858Z"
   },
   {
    "duration": 586,
    "start_time": "2022-02-07T20:09:09.237Z"
   },
   {
    "duration": 256,
    "start_time": "2022-02-07T20:09:09.827Z"
   },
   {
    "duration": 486,
    "start_time": "2022-02-07T20:09:10.086Z"
   },
   {
    "duration": 331,
    "start_time": "2022-02-07T20:09:10.575Z"
   },
   {
    "duration": 335,
    "start_time": "2022-02-07T20:09:10.909Z"
   },
   {
    "duration": 5,
    "start_time": "2022-02-07T20:09:11.247Z"
   },
   {
    "duration": 512,
    "start_time": "2022-02-07T20:09:11.255Z"
   },
   {
    "duration": 373,
    "start_time": "2022-02-07T20:09:11.771Z"
   },
   {
    "duration": 263,
    "start_time": "2022-02-07T20:09:12.147Z"
   },
   {
    "duration": 259,
    "start_time": "2022-02-07T20:09:12.413Z"
   },
   {
    "duration": 356,
    "start_time": "2022-02-07T20:09:12.677Z"
   },
   {
    "duration": 277,
    "start_time": "2022-02-07T20:09:13.037Z"
   },
   {
    "duration": 268,
    "start_time": "2022-02-07T20:09:13.317Z"
   },
   {
    "duration": 53,
    "start_time": "2022-02-07T20:09:13.588Z"
   },
   {
    "duration": 246,
    "start_time": "2022-02-07T20:09:13.644Z"
   },
   {
    "duration": 304,
    "start_time": "2022-02-07T20:09:13.893Z"
   },
   {
    "duration": -55,
    "start_time": "2022-02-07T20:09:14.255Z"
   },
   {
    "duration": -57,
    "start_time": "2022-02-07T20:09:14.259Z"
   },
   {
    "duration": -58,
    "start_time": "2022-02-07T20:09:14.262Z"
   },
   {
    "duration": -59,
    "start_time": "2022-02-07T20:09:14.265Z"
   },
   {
    "duration": -59,
    "start_time": "2022-02-07T20:09:14.267Z"
   },
   {
    "duration": -60,
    "start_time": "2022-02-07T20:09:14.269Z"
   },
   {
    "duration": -60,
    "start_time": "2022-02-07T20:09:14.271Z"
   },
   {
    "duration": -60,
    "start_time": "2022-02-07T20:09:14.273Z"
   },
   {
    "duration": 93,
    "start_time": "2022-02-07T20:16:07.640Z"
   },
   {
    "duration": 28,
    "start_time": "2022-02-07T20:16:32.832Z"
   },
   {
    "duration": 962,
    "start_time": "2022-02-07T20:18:09.516Z"
   },
   {
    "duration": 8,
    "start_time": "2022-02-07T20:18:10.481Z"
   },
   {
    "duration": 189,
    "start_time": "2022-02-07T20:18:10.492Z"
   },
   {
    "duration": 145,
    "start_time": "2022-02-07T20:18:10.684Z"
   },
   {
    "duration": 287,
    "start_time": "2022-02-07T20:18:10.832Z"
   },
   {
    "duration": 134,
    "start_time": "2022-02-07T20:18:11.122Z"
   },
   {
    "duration": 213,
    "start_time": "2022-02-07T20:18:11.260Z"
   },
   {
    "duration": 209,
    "start_time": "2022-02-07T20:18:11.477Z"
   },
   {
    "duration": 4992,
    "start_time": "2022-02-07T20:18:11.689Z"
   },
   {
    "duration": 4182,
    "start_time": "2022-02-07T20:18:16.684Z"
   },
   {
    "duration": 26,
    "start_time": "2022-02-07T20:18:20.868Z"
   },
   {
    "duration": 212,
    "start_time": "2022-02-07T20:18:20.896Z"
   },
   {
    "duration": 710,
    "start_time": "2022-02-07T20:18:21.110Z"
   },
   {
    "duration": 232,
    "start_time": "2022-02-07T20:18:21.823Z"
   },
   {
    "duration": 365,
    "start_time": "2022-02-07T20:18:22.058Z"
   },
   {
    "duration": 286,
    "start_time": "2022-02-07T20:18:22.426Z"
   },
   {
    "duration": 322,
    "start_time": "2022-02-07T20:18:22.715Z"
   },
   {
    "duration": 3,
    "start_time": "2022-02-07T20:18:23.040Z"
   },
   {
    "duration": 532,
    "start_time": "2022-02-07T20:18:23.045Z"
   },
   {
    "duration": 347,
    "start_time": "2022-02-07T20:18:23.579Z"
   },
   {
    "duration": 261,
    "start_time": "2022-02-07T20:18:23.929Z"
   },
   {
    "duration": 342,
    "start_time": "2022-02-07T20:18:24.192Z"
   },
   {
    "duration": 343,
    "start_time": "2022-02-07T20:18:24.539Z"
   },
   {
    "duration": 300,
    "start_time": "2022-02-07T20:18:24.885Z"
   },
   {
    "duration": 262,
    "start_time": "2022-02-07T20:18:25.188Z"
   },
   {
    "duration": 30,
    "start_time": "2022-02-07T20:18:25.453Z"
   },
   {
    "duration": 304,
    "start_time": "2022-02-07T20:18:25.485Z"
   },
   {
    "duration": 249,
    "start_time": "2022-02-07T20:18:25.791Z"
   },
   {
    "duration": 5,
    "start_time": "2022-02-07T20:18:26.039Z"
   },
   {
    "duration": 1,
    "start_time": "2022-02-07T20:18:26.045Z"
   },
   {
    "duration": -4,
    "start_time": "2022-02-07T20:18:26.051Z"
   },
   {
    "duration": -11,
    "start_time": "2022-02-07T20:18:26.059Z"
   },
   {
    "duration": -16,
    "start_time": "2022-02-07T20:18:26.066Z"
   },
   {
    "duration": -19,
    "start_time": "2022-02-07T20:18:26.070Z"
   },
   {
    "duration": -23,
    "start_time": "2022-02-07T20:18:26.075Z"
   },
   {
    "duration": -26,
    "start_time": "2022-02-07T20:18:26.079Z"
   },
   {
    "duration": -27,
    "start_time": "2022-02-07T20:18:26.082Z"
   },
   {
    "duration": 8,
    "start_time": "2022-02-07T20:28:59.315Z"
   },
   {
    "duration": 876,
    "start_time": "2022-02-07T20:29:06.881Z"
   },
   {
    "duration": 7,
    "start_time": "2022-02-07T20:29:07.759Z"
   },
   {
    "duration": 252,
    "start_time": "2022-02-07T20:29:07.769Z"
   },
   {
    "duration": 212,
    "start_time": "2022-02-07T20:29:08.025Z"
   },
   {
    "duration": 248,
    "start_time": "2022-02-07T20:29:08.240Z"
   },
   {
    "duration": 113,
    "start_time": "2022-02-07T20:29:08.490Z"
   },
   {
    "duration": 166,
    "start_time": "2022-02-07T20:29:08.605Z"
   },
   {
    "duration": 195,
    "start_time": "2022-02-07T20:29:08.775Z"
   },
   {
    "duration": 4562,
    "start_time": "2022-02-07T20:29:08.973Z"
   },
   {
    "duration": 4470,
    "start_time": "2022-02-07T20:29:13.538Z"
   },
   {
    "duration": 33,
    "start_time": "2022-02-07T20:29:18.010Z"
   },
   {
    "duration": 290,
    "start_time": "2022-02-07T20:29:18.046Z"
   },
   {
    "duration": 573,
    "start_time": "2022-02-07T20:29:18.339Z"
   },
   {
    "duration": 250,
    "start_time": "2022-02-07T20:29:18.914Z"
   },
   {
    "duration": 415,
    "start_time": "2022-02-07T20:29:19.167Z"
   },
   {
    "duration": 292,
    "start_time": "2022-02-07T20:29:19.584Z"
   },
   {
    "duration": 318,
    "start_time": "2022-02-07T20:29:19.879Z"
   },
   {
    "duration": 3,
    "start_time": "2022-02-07T20:29:20.199Z"
   },
   {
    "duration": 498,
    "start_time": "2022-02-07T20:29:20.204Z"
   },
   {
    "duration": 345,
    "start_time": "2022-02-07T20:29:20.705Z"
   },
   {
    "duration": 256,
    "start_time": "2022-02-07T20:29:21.053Z"
   },
   {
    "duration": 379,
    "start_time": "2022-02-07T20:29:21.311Z"
   },
   {
    "duration": 314,
    "start_time": "2022-02-07T20:29:21.695Z"
   },
   {
    "duration": 241,
    "start_time": "2022-02-07T20:29:22.012Z"
   },
   {
    "duration": 308,
    "start_time": "2022-02-07T20:29:22.256Z"
   },
   {
    "duration": 90,
    "start_time": "2022-02-07T20:29:22.566Z"
   },
   {
    "duration": 330,
    "start_time": "2022-02-07T20:29:22.659Z"
   },
   {
    "duration": 405,
    "start_time": "2022-02-07T20:29:22.991Z"
   },
   {
    "duration": 17,
    "start_time": "2022-02-07T20:29:23.381Z"
   },
   {
    "duration": 12,
    "start_time": "2022-02-07T20:29:23.387Z"
   },
   {
    "duration": 12,
    "start_time": "2022-02-07T20:29:23.389Z"
   },
   {
    "duration": 9,
    "start_time": "2022-02-07T20:29:23.393Z"
   },
   {
    "duration": 6,
    "start_time": "2022-02-07T20:29:23.397Z"
   },
   {
    "duration": 5,
    "start_time": "2022-02-07T20:29:23.400Z"
   },
   {
    "duration": 3,
    "start_time": "2022-02-07T20:29:23.403Z"
   },
   {
    "duration": 1,
    "start_time": "2022-02-07T20:29:23.407Z"
   },
   {
    "duration": -1,
    "start_time": "2022-02-07T20:29:23.410Z"
   },
   {
    "duration": 922,
    "start_time": "2022-02-07T20:30:03.110Z"
   },
   {
    "duration": 9,
    "start_time": "2022-02-07T20:30:04.035Z"
   },
   {
    "duration": 299,
    "start_time": "2022-02-07T20:30:04.048Z"
   },
   {
    "duration": 239,
    "start_time": "2022-02-07T20:30:04.351Z"
   },
   {
    "duration": 239,
    "start_time": "2022-02-07T20:30:04.593Z"
   },
   {
    "duration": 159,
    "start_time": "2022-02-07T20:30:04.835Z"
   },
   {
    "duration": 209,
    "start_time": "2022-02-07T20:30:04.996Z"
   },
   {
    "duration": 197,
    "start_time": "2022-02-07T20:30:05.211Z"
   },
   {
    "duration": 4639,
    "start_time": "2022-02-07T20:30:05.412Z"
   },
   {
    "duration": 4080,
    "start_time": "2022-02-07T20:30:10.053Z"
   },
   {
    "duration": 30,
    "start_time": "2022-02-07T20:30:14.136Z"
   },
   {
    "duration": 325,
    "start_time": "2022-02-07T20:30:14.170Z"
   },
   {
    "duration": 882,
    "start_time": "2022-02-07T20:30:14.498Z"
   },
   {
    "duration": 249,
    "start_time": "2022-02-07T20:30:15.384Z"
   },
   {
    "duration": 479,
    "start_time": "2022-02-07T20:30:15.635Z"
   },
   {
    "duration": 302,
    "start_time": "2022-02-07T20:30:16.123Z"
   },
   {
    "duration": 330,
    "start_time": "2022-02-07T20:30:16.428Z"
   },
   {
    "duration": 4,
    "start_time": "2022-02-07T20:30:16.761Z"
   },
   {
    "duration": 496,
    "start_time": "2022-02-07T20:30:16.768Z"
   },
   {
    "duration": 337,
    "start_time": "2022-02-07T20:30:17.266Z"
   },
   {
    "duration": 295,
    "start_time": "2022-02-07T20:30:17.607Z"
   },
   {
    "duration": 259,
    "start_time": "2022-02-07T20:30:17.905Z"
   },
   {
    "duration": 426,
    "start_time": "2022-02-07T20:30:18.171Z"
   },
   {
    "duration": 251,
    "start_time": "2022-02-07T20:30:18.600Z"
   },
   {
    "duration": 236,
    "start_time": "2022-02-07T20:30:18.853Z"
   },
   {
    "duration": 45,
    "start_time": "2022-02-07T20:30:19.092Z"
   },
   {
    "duration": 269,
    "start_time": "2022-02-07T20:30:19.139Z"
   },
   {
    "duration": 355,
    "start_time": "2022-02-07T20:30:19.410Z"
   },
   {
    "duration": -35,
    "start_time": "2022-02-07T20:30:19.804Z"
   },
   {
    "duration": -38,
    "start_time": "2022-02-07T20:30:19.809Z"
   },
   {
    "duration": -40,
    "start_time": "2022-02-07T20:30:19.813Z"
   },
   {
    "duration": -40,
    "start_time": "2022-02-07T20:30:19.815Z"
   },
   {
    "duration": -40,
    "start_time": "2022-02-07T20:30:19.817Z"
   },
   {
    "duration": -39,
    "start_time": "2022-02-07T20:30:19.819Z"
   },
   {
    "duration": -37,
    "start_time": "2022-02-07T20:30:19.820Z"
   },
   {
    "duration": -37,
    "start_time": "2022-02-07T20:30:19.822Z"
   },
   {
    "duration": -37,
    "start_time": "2022-02-07T20:30:19.824Z"
   },
   {
    "duration": 23,
    "start_time": "2022-02-07T20:35:06.416Z"
   },
   {
    "duration": 294,
    "start_time": "2022-02-07T20:36:18.573Z"
   },
   {
    "duration": 889,
    "start_time": "2022-02-07T20:36:35.893Z"
   },
   {
    "duration": 7,
    "start_time": "2022-02-07T20:36:36.785Z"
   },
   {
    "duration": 216,
    "start_time": "2022-02-07T20:36:36.796Z"
   },
   {
    "duration": 192,
    "start_time": "2022-02-07T20:36:37.015Z"
   },
   {
    "duration": 244,
    "start_time": "2022-02-07T20:36:37.209Z"
   },
   {
    "duration": 125,
    "start_time": "2022-02-07T20:36:37.455Z"
   },
   {
    "duration": 222,
    "start_time": "2022-02-07T20:36:37.583Z"
   },
   {
    "duration": 220,
    "start_time": "2022-02-07T20:36:37.807Z"
   },
   {
    "duration": 4695,
    "start_time": "2022-02-07T20:36:38.031Z"
   },
   {
    "duration": 4241,
    "start_time": "2022-02-07T20:36:42.730Z"
   },
   {
    "duration": 29,
    "start_time": "2022-02-07T20:36:46.973Z"
   },
   {
    "duration": 231,
    "start_time": "2022-02-07T20:36:47.004Z"
   },
   {
    "duration": 670,
    "start_time": "2022-02-07T20:36:47.238Z"
   },
   {
    "duration": 241,
    "start_time": "2022-02-07T20:36:47.911Z"
   },
   {
    "duration": 541,
    "start_time": "2022-02-07T20:36:48.156Z"
   },
   {
    "duration": 311,
    "start_time": "2022-02-07T20:36:48.700Z"
   },
   {
    "duration": 332,
    "start_time": "2022-02-07T20:36:49.023Z"
   },
   {
    "duration": 4,
    "start_time": "2022-02-07T20:36:49.357Z"
   },
   {
    "duration": 519,
    "start_time": "2022-02-07T20:36:49.363Z"
   },
   {
    "duration": 345,
    "start_time": "2022-02-07T20:36:49.885Z"
   },
   {
    "duration": 266,
    "start_time": "2022-02-07T20:36:50.234Z"
   },
   {
    "duration": 363,
    "start_time": "2022-02-07T20:36:50.502Z"
   },
   {
    "duration": 354,
    "start_time": "2022-02-07T20:36:50.869Z"
   },
   {
    "duration": 243,
    "start_time": "2022-02-07T20:36:51.225Z"
   },
   {
    "duration": 254,
    "start_time": "2022-02-07T20:36:51.472Z"
   },
   {
    "duration": 37,
    "start_time": "2022-02-07T20:36:51.729Z"
   },
   {
    "duration": 239,
    "start_time": "2022-02-07T20:36:51.774Z"
   },
   {
    "duration": 268,
    "start_time": "2022-02-07T20:36:52.016Z"
   },
   {
    "duration": 7,
    "start_time": "2022-02-07T20:36:52.280Z"
   },
   {
    "duration": 5,
    "start_time": "2022-02-07T20:36:52.283Z"
   },
   {
    "duration": 4,
    "start_time": "2022-02-07T20:36:52.286Z"
   },
   {
    "duration": 3,
    "start_time": "2022-02-07T20:36:52.288Z"
   },
   {
    "duration": 2,
    "start_time": "2022-02-07T20:36:52.291Z"
   },
   {
    "duration": 0,
    "start_time": "2022-02-07T20:36:52.294Z"
   },
   {
    "duration": 0,
    "start_time": "2022-02-07T20:36:52.296Z"
   },
   {
    "duration": -4,
    "start_time": "2022-02-07T20:36:52.301Z"
   },
   {
    "duration": -6,
    "start_time": "2022-02-07T20:36:52.304Z"
   },
   {
    "duration": 277,
    "start_time": "2022-02-07T20:42:04.458Z"
   },
   {
    "duration": 353,
    "start_time": "2022-02-07T20:42:15.322Z"
   },
   {
    "duration": 279,
    "start_time": "2022-02-07T20:42:42.210Z"
   },
   {
    "duration": 240,
    "start_time": "2022-02-07T20:42:52.498Z"
   },
   {
    "duration": 1021,
    "start_time": "2022-02-07T20:43:04.839Z"
   },
   {
    "duration": 9,
    "start_time": "2022-02-07T20:43:05.864Z"
   },
   {
    "duration": 270,
    "start_time": "2022-02-07T20:43:05.876Z"
   },
   {
    "duration": 262,
    "start_time": "2022-02-07T20:43:06.149Z"
   },
   {
    "duration": 300,
    "start_time": "2022-02-07T20:43:06.414Z"
   },
   {
    "duration": 198,
    "start_time": "2022-02-07T20:43:06.717Z"
   },
   {
    "duration": 196,
    "start_time": "2022-02-07T20:43:06.918Z"
   },
   {
    "duration": 283,
    "start_time": "2022-02-07T20:43:07.120Z"
   },
   {
    "duration": 4746,
    "start_time": "2022-02-07T20:43:07.407Z"
   },
   {
    "duration": 4367,
    "start_time": "2022-02-07T20:43:12.156Z"
   },
   {
    "duration": 28,
    "start_time": "2022-02-07T20:43:16.526Z"
   },
   {
    "duration": 366,
    "start_time": "2022-02-07T20:43:16.557Z"
   },
   {
    "duration": 1038,
    "start_time": "2022-02-07T20:43:16.925Z"
   },
   {
    "duration": 275,
    "start_time": "2022-02-07T20:43:17.965Z"
   },
   {
    "duration": 412,
    "start_time": "2022-02-07T20:43:18.243Z"
   },
   {
    "duration": 316,
    "start_time": "2022-02-07T20:43:18.658Z"
   },
   {
    "duration": 334,
    "start_time": "2022-02-07T20:43:18.977Z"
   },
   {
    "duration": 356,
    "start_time": "2022-02-07T20:43:19.313Z"
   },
   {
    "duration": 364,
    "start_time": "2022-02-07T20:43:19.672Z"
   },
   {
    "duration": 283,
    "start_time": "2022-02-07T20:43:20.040Z"
   },
   {
    "duration": 351,
    "start_time": "2022-02-07T20:43:20.326Z"
   },
   {
    "duration": 447,
    "start_time": "2022-02-07T20:43:20.680Z"
   },
   {
    "duration": 251,
    "start_time": "2022-02-07T20:43:21.133Z"
   },
   {
    "duration": 257,
    "start_time": "2022-02-07T20:43:21.387Z"
   },
   {
    "duration": 33,
    "start_time": "2022-02-07T20:43:21.647Z"
   },
   {
    "duration": 269,
    "start_time": "2022-02-07T20:43:21.683Z"
   },
   {
    "duration": 293,
    "start_time": "2022-02-07T20:43:21.955Z"
   },
   {
    "duration": -15,
    "start_time": "2022-02-07T20:43:22.267Z"
   },
   {
    "duration": -17,
    "start_time": "2022-02-07T20:43:22.272Z"
   },
   {
    "duration": -20,
    "start_time": "2022-02-07T20:43:22.277Z"
   },
   {
    "duration": -22,
    "start_time": "2022-02-07T20:43:22.281Z"
   },
   {
    "duration": -24,
    "start_time": "2022-02-07T20:43:22.284Z"
   },
   {
    "duration": -25,
    "start_time": "2022-02-07T20:43:22.288Z"
   },
   {
    "duration": -26,
    "start_time": "2022-02-07T20:43:22.291Z"
   },
   {
    "duration": -27,
    "start_time": "2022-02-07T20:43:22.294Z"
   },
   {
    "duration": -27,
    "start_time": "2022-02-07T20:43:22.296Z"
   },
   {
    "duration": 400,
    "start_time": "2022-02-07T20:44:39.429Z"
   },
   {
    "duration": 366,
    "start_time": "2022-02-07T20:44:49.050Z"
   },
   {
    "duration": 940,
    "start_time": "2022-02-07T20:45:26.790Z"
   },
   {
    "duration": 7,
    "start_time": "2022-02-07T20:45:27.734Z"
   },
   {
    "duration": 268,
    "start_time": "2022-02-07T20:45:27.744Z"
   },
   {
    "duration": 301,
    "start_time": "2022-02-07T20:45:28.016Z"
   },
   {
    "duration": 371,
    "start_time": "2022-02-07T20:45:28.319Z"
   },
   {
    "duration": 237,
    "start_time": "2022-02-07T20:45:28.693Z"
   },
   {
    "duration": 441,
    "start_time": "2022-02-07T20:45:28.932Z"
   },
   {
    "duration": 356,
    "start_time": "2022-02-07T20:45:29.376Z"
   },
   {
    "duration": 5084,
    "start_time": "2022-02-07T20:45:29.736Z"
   },
   {
    "duration": 4406,
    "start_time": "2022-02-07T20:45:34.824Z"
   },
   {
    "duration": 27,
    "start_time": "2022-02-07T20:45:39.233Z"
   },
   {
    "duration": 376,
    "start_time": "2022-02-07T20:45:39.262Z"
   },
   {
    "duration": 963,
    "start_time": "2022-02-07T20:45:39.640Z"
   },
   {
    "duration": 238,
    "start_time": "2022-02-07T20:45:40.606Z"
   },
   {
    "duration": 504,
    "start_time": "2022-02-07T20:45:40.847Z"
   },
   {
    "duration": 329,
    "start_time": "2022-02-07T20:45:41.355Z"
   },
   {
    "duration": 350,
    "start_time": "2022-02-07T20:45:41.687Z"
   },
   {
    "duration": 343,
    "start_time": "2022-02-07T20:45:42.040Z"
   },
   {
    "duration": 361,
    "start_time": "2022-02-07T20:45:42.386Z"
   },
   {
    "duration": 269,
    "start_time": "2022-02-07T20:45:42.750Z"
   },
   {
    "duration": 280,
    "start_time": "2022-02-07T20:45:43.021Z"
   },
   {
    "duration": 363,
    "start_time": "2022-02-07T20:45:43.304Z"
   },
   {
    "duration": 298,
    "start_time": "2022-02-07T20:45:43.673Z"
   },
   {
    "duration": 263,
    "start_time": "2022-02-07T20:45:43.974Z"
   },
   {
    "duration": 35,
    "start_time": "2022-02-07T20:45:44.240Z"
   },
   {
    "duration": 218,
    "start_time": "2022-02-07T20:45:44.277Z"
   },
   {
    "duration": 280,
    "start_time": "2022-02-07T20:45:44.498Z"
   },
   {
    "duration": -30,
    "start_time": "2022-02-07T20:45:44.811Z"
   },
   {
    "duration": -32,
    "start_time": "2022-02-07T20:45:44.816Z"
   },
   {
    "duration": -34,
    "start_time": "2022-02-07T20:45:44.820Z"
   },
   {
    "duration": -35,
    "start_time": "2022-02-07T20:45:44.823Z"
   },
   {
    "duration": -35,
    "start_time": "2022-02-07T20:45:44.826Z"
   },
   {
    "duration": -35,
    "start_time": "2022-02-07T20:45:44.828Z"
   },
   {
    "duration": -35,
    "start_time": "2022-02-07T20:45:44.830Z"
   },
   {
    "duration": -34,
    "start_time": "2022-02-07T20:45:44.832Z"
   },
   {
    "duration": -33,
    "start_time": "2022-02-07T20:45:44.834Z"
   },
   {
    "duration": 921,
    "start_time": "2022-02-07T20:48:48.304Z"
   },
   {
    "duration": 8,
    "start_time": "2022-02-07T20:48:49.228Z"
   },
   {
    "duration": 325,
    "start_time": "2022-02-07T20:48:49.240Z"
   },
   {
    "duration": 200,
    "start_time": "2022-02-07T20:48:49.568Z"
   },
   {
    "duration": 265,
    "start_time": "2022-02-07T20:48:49.772Z"
   },
   {
    "duration": 110,
    "start_time": "2022-02-07T20:48:50.040Z"
   },
   {
    "duration": 229,
    "start_time": "2022-02-07T20:48:50.152Z"
   },
   {
    "duration": 224,
    "start_time": "2022-02-07T20:48:50.384Z"
   },
   {
    "duration": 4855,
    "start_time": "2022-02-07T20:48:50.611Z"
   },
   {
    "duration": 4266,
    "start_time": "2022-02-07T20:48:55.468Z"
   },
   {
    "duration": 40,
    "start_time": "2022-02-07T20:48:59.737Z"
   },
   {
    "duration": 248,
    "start_time": "2022-02-07T20:48:59.780Z"
   },
   {
    "duration": 872,
    "start_time": "2022-02-07T20:49:00.031Z"
   },
   {
    "duration": 266,
    "start_time": "2022-02-07T20:49:00.906Z"
   },
   {
    "duration": 666,
    "start_time": "2022-02-07T20:49:01.175Z"
   },
   {
    "duration": 321,
    "start_time": "2022-02-07T20:49:01.845Z"
   },
   {
    "duration": 380,
    "start_time": "2022-02-07T20:49:02.169Z"
   },
   {
    "duration": 520,
    "start_time": "2022-02-07T20:49:02.552Z"
   },
   {
    "duration": 400,
    "start_time": "2022-02-07T20:49:03.074Z"
   },
   {
    "duration": 346,
    "start_time": "2022-02-07T20:49:03.478Z"
   },
   {
    "duration": 358,
    "start_time": "2022-02-07T20:49:03.827Z"
   },
   {
    "duration": 546,
    "start_time": "2022-02-07T20:49:04.187Z"
   },
   {
    "duration": 353,
    "start_time": "2022-02-07T20:49:04.741Z"
   },
   {
    "duration": 350,
    "start_time": "2022-02-07T20:49:05.098Z"
   },
   {
    "duration": 81,
    "start_time": "2022-02-07T20:49:05.451Z"
   },
   {
    "duration": 368,
    "start_time": "2022-02-07T20:49:05.536Z"
   },
   {
    "duration": 366,
    "start_time": "2022-02-07T20:49:05.906Z"
   },
   {
    "duration": 39,
    "start_time": "2022-02-07T20:49:06.235Z"
   },
   {
    "duration": 38,
    "start_time": "2022-02-07T20:49:06.238Z"
   },
   {
    "duration": 38,
    "start_time": "2022-02-07T20:49:06.240Z"
   },
   {
    "duration": 36,
    "start_time": "2022-02-07T20:49:06.243Z"
   },
   {
    "duration": 35,
    "start_time": "2022-02-07T20:49:06.245Z"
   },
   {
    "duration": 33,
    "start_time": "2022-02-07T20:49:06.248Z"
   },
   {
    "duration": 32,
    "start_time": "2022-02-07T20:49:06.250Z"
   },
   {
    "duration": 31,
    "start_time": "2022-02-07T20:49:06.252Z"
   },
   {
    "duration": 31,
    "start_time": "2022-02-07T20:49:06.254Z"
   },
   {
    "duration": 1146,
    "start_time": "2022-02-07T20:50:15.562Z"
   },
   {
    "duration": 12,
    "start_time": "2022-02-07T20:50:16.711Z"
   },
   {
    "duration": 385,
    "start_time": "2022-02-07T20:50:16.726Z"
   },
   {
    "duration": 187,
    "start_time": "2022-02-07T20:50:17.114Z"
   },
   {
    "duration": 374,
    "start_time": "2022-02-07T20:50:17.304Z"
   },
   {
    "duration": 229,
    "start_time": "2022-02-07T20:50:17.680Z"
   },
   {
    "duration": 208,
    "start_time": "2022-02-07T20:50:17.911Z"
   },
   {
    "duration": 228,
    "start_time": "2022-02-07T20:50:18.123Z"
   },
   {
    "duration": 4778,
    "start_time": "2022-02-07T20:50:18.354Z"
   },
   {
    "duration": 4274,
    "start_time": "2022-02-07T20:50:23.134Z"
   },
   {
    "duration": 33,
    "start_time": "2022-02-07T20:50:27.411Z"
   },
   {
    "duration": 244,
    "start_time": "2022-02-07T20:50:27.447Z"
   },
   {
    "duration": 658,
    "start_time": "2022-02-07T20:50:27.694Z"
   },
   {
    "duration": 260,
    "start_time": "2022-02-07T20:50:28.355Z"
   },
   {
    "duration": 411,
    "start_time": "2022-02-07T20:50:28.622Z"
   },
   {
    "duration": 295,
    "start_time": "2022-02-07T20:50:29.036Z"
   },
   {
    "duration": 338,
    "start_time": "2022-02-07T20:50:29.334Z"
   },
   {
    "duration": 331,
    "start_time": "2022-02-07T20:50:29.674Z"
   },
   {
    "duration": 366,
    "start_time": "2022-02-07T20:50:30.007Z"
   },
   {
    "duration": 332,
    "start_time": "2022-02-07T20:50:30.376Z"
   },
   {
    "duration": 317,
    "start_time": "2022-02-07T20:50:30.711Z"
   },
   {
    "duration": -17,
    "start_time": "2022-02-07T20:50:31.049Z"
   },
   {
    "duration": -17,
    "start_time": "2022-02-07T20:50:31.051Z"
   },
   {
    "duration": -17,
    "start_time": "2022-02-07T20:50:31.053Z"
   },
   {
    "duration": -17,
    "start_time": "2022-02-07T20:50:31.055Z"
   },
   {
    "duration": -17,
    "start_time": "2022-02-07T20:50:31.057Z"
   },
   {
    "duration": -18,
    "start_time": "2022-02-07T20:50:31.059Z"
   },
   {
    "duration": -20,
    "start_time": "2022-02-07T20:50:31.062Z"
   },
   {
    "duration": -20,
    "start_time": "2022-02-07T20:50:31.064Z"
   },
   {
    "duration": -21,
    "start_time": "2022-02-07T20:50:31.066Z"
   },
   {
    "duration": -21,
    "start_time": "2022-02-07T20:50:31.068Z"
   },
   {
    "duration": -22,
    "start_time": "2022-02-07T20:50:31.070Z"
   },
   {
    "duration": -23,
    "start_time": "2022-02-07T20:50:31.072Z"
   },
   {
    "duration": -23,
    "start_time": "2022-02-07T20:50:31.074Z"
   },
   {
    "duration": -24,
    "start_time": "2022-02-07T20:50:31.076Z"
   },
   {
    "duration": -24,
    "start_time": "2022-02-07T20:50:31.078Z"
   },
   {
    "duration": 312,
    "start_time": "2022-02-07T20:50:43.343Z"
   },
   {
    "duration": 935,
    "start_time": "2022-02-07T20:51:26.019Z"
   },
   {
    "duration": 8,
    "start_time": "2022-02-07T20:51:26.956Z"
   },
   {
    "duration": 286,
    "start_time": "2022-02-07T20:51:26.967Z"
   },
   {
    "duration": 283,
    "start_time": "2022-02-07T20:51:27.256Z"
   },
   {
    "duration": 270,
    "start_time": "2022-02-07T20:51:27.542Z"
   },
   {
    "duration": 193,
    "start_time": "2022-02-07T20:51:27.815Z"
   },
   {
    "duration": 313,
    "start_time": "2022-02-07T20:51:28.011Z"
   },
   {
    "duration": 379,
    "start_time": "2022-02-07T20:51:28.327Z"
   },
   {
    "duration": 4940,
    "start_time": "2022-02-07T20:51:28.712Z"
   },
   {
    "duration": 4226,
    "start_time": "2022-02-07T20:51:33.655Z"
   },
   {
    "duration": 51,
    "start_time": "2022-02-07T20:51:37.884Z"
   },
   {
    "duration": 246,
    "start_time": "2022-02-07T20:51:37.938Z"
   },
   {
    "duration": 881,
    "start_time": "2022-02-07T20:51:38.187Z"
   },
   {
    "duration": 363,
    "start_time": "2022-02-07T20:51:39.071Z"
   },
   {
    "duration": 544,
    "start_time": "2022-02-07T20:51:39.438Z"
   },
   {
    "duration": 432,
    "start_time": "2022-02-07T20:51:39.985Z"
   },
   {
    "duration": 324,
    "start_time": "2022-02-07T20:51:40.424Z"
   },
   {
    "duration": 508,
    "start_time": "2022-02-07T20:51:40.752Z"
   },
   {
    "duration": 520,
    "start_time": "2022-02-07T20:51:41.263Z"
   },
   {
    "duration": 501,
    "start_time": "2022-02-07T20:51:41.786Z"
   },
   {
    "duration": 485,
    "start_time": "2022-02-07T20:51:42.290Z"
   },
   {
    "duration": 351,
    "start_time": "2022-02-07T20:51:42.778Z"
   },
   {
    "duration": 261,
    "start_time": "2022-02-07T20:51:43.132Z"
   },
   {
    "duration": 246,
    "start_time": "2022-02-07T20:51:43.396Z"
   },
   {
    "duration": 33,
    "start_time": "2022-02-07T20:51:43.645Z"
   },
   {
    "duration": 210,
    "start_time": "2022-02-07T20:51:43.681Z"
   },
   {
    "duration": 266,
    "start_time": "2022-02-07T20:51:43.897Z"
   },
   {
    "duration": 23,
    "start_time": "2022-02-07T20:51:44.144Z"
   },
   {
    "duration": 18,
    "start_time": "2022-02-07T20:51:44.151Z"
   },
   {
    "duration": 13,
    "start_time": "2022-02-07T20:51:44.157Z"
   },
   {
    "duration": 3,
    "start_time": "2022-02-07T20:51:44.169Z"
   },
   {
    "duration": -1,
    "start_time": "2022-02-07T20:51:44.174Z"
   },
   {
    "duration": -2,
    "start_time": "2022-02-07T20:51:44.177Z"
   },
   {
    "duration": -3,
    "start_time": "2022-02-07T20:51:44.180Z"
   },
   {
    "duration": -4,
    "start_time": "2022-02-07T20:51:44.182Z"
   },
   {
    "duration": -5,
    "start_time": "2022-02-07T20:51:44.185Z"
   },
   {
    "duration": 933,
    "start_time": "2022-02-07T20:53:02.186Z"
   },
   {
    "duration": 7,
    "start_time": "2022-02-07T20:53:03.124Z"
   },
   {
    "duration": 310,
    "start_time": "2022-02-07T20:53:03.134Z"
   },
   {
    "duration": 239,
    "start_time": "2022-02-07T20:53:03.448Z"
   },
   {
    "duration": 394,
    "start_time": "2022-02-07T20:53:03.690Z"
   },
   {
    "duration": 164,
    "start_time": "2022-02-07T20:53:04.087Z"
   },
   {
    "duration": 196,
    "start_time": "2022-02-07T20:53:04.254Z"
   },
   {
    "duration": 199,
    "start_time": "2022-02-07T20:53:04.456Z"
   },
   {
    "duration": 6975,
    "start_time": "2022-02-07T20:53:04.659Z"
   },
   {
    "duration": 5544,
    "start_time": "2022-02-07T20:53:11.637Z"
   },
   {
    "duration": 29,
    "start_time": "2022-02-07T20:53:17.183Z"
   },
   {
    "duration": 293,
    "start_time": "2022-02-07T20:53:17.214Z"
   },
   {
    "duration": 751,
    "start_time": "2022-02-07T20:53:17.509Z"
   },
   {
    "duration": 251,
    "start_time": "2022-02-07T20:53:18.263Z"
   },
   {
    "duration": 387,
    "start_time": "2022-02-07T20:53:18.517Z"
   },
   {
    "duration": 308,
    "start_time": "2022-02-07T20:53:18.907Z"
   },
   {
    "duration": 322,
    "start_time": "2022-02-07T20:53:19.224Z"
   },
   {
    "duration": 330,
    "start_time": "2022-02-07T20:53:19.549Z"
   },
   {
    "duration": 350,
    "start_time": "2022-02-07T20:53:19.882Z"
   },
   {
    "duration": 339,
    "start_time": "2022-02-07T20:53:20.234Z"
   },
   {
    "duration": 320,
    "start_time": "2022-02-07T20:53:20.576Z"
   },
   {
    "duration": 360,
    "start_time": "2022-02-07T20:53:20.898Z"
   },
   {
    "duration": 250,
    "start_time": "2022-02-07T20:53:21.266Z"
   },
   {
    "duration": 255,
    "start_time": "2022-02-07T20:53:21.519Z"
   },
   {
    "duration": 46,
    "start_time": "2022-02-07T20:53:21.777Z"
   },
   {
    "duration": 256,
    "start_time": "2022-02-07T20:53:21.826Z"
   },
   {
    "duration": 288,
    "start_time": "2022-02-07T20:53:22.085Z"
   },
   {
    "duration": 37,
    "start_time": "2022-02-07T20:53:22.339Z"
   },
   {
    "duration": 32,
    "start_time": "2022-02-07T20:53:22.345Z"
   },
   {
    "duration": 25,
    "start_time": "2022-02-07T20:53:22.354Z"
   },
   {
    "duration": 22,
    "start_time": "2022-02-07T20:53:22.359Z"
   },
   {
    "duration": 20,
    "start_time": "2022-02-07T20:53:22.362Z"
   },
   {
    "duration": 19,
    "start_time": "2022-02-07T20:53:22.365Z"
   },
   {
    "duration": 17,
    "start_time": "2022-02-07T20:53:22.368Z"
   },
   {
    "duration": 14,
    "start_time": "2022-02-07T20:53:22.372Z"
   },
   {
    "duration": -11,
    "start_time": "2022-02-07T20:53:22.399Z"
   },
   {
    "duration": 903,
    "start_time": "2022-02-07T20:55:14.880Z"
   },
   {
    "duration": 8,
    "start_time": "2022-02-07T20:55:15.786Z"
   },
   {
    "duration": 423,
    "start_time": "2022-02-07T20:55:15.796Z"
   },
   {
    "duration": 218,
    "start_time": "2022-02-07T20:55:16.222Z"
   },
   {
    "duration": 287,
    "start_time": "2022-02-07T20:55:16.443Z"
   },
   {
    "duration": 219,
    "start_time": "2022-02-07T20:55:16.733Z"
   },
   {
    "duration": 245,
    "start_time": "2022-02-07T20:55:16.954Z"
   },
   {
    "duration": 222,
    "start_time": "2022-02-07T20:55:17.203Z"
   },
   {
    "duration": 4727,
    "start_time": "2022-02-07T20:55:17.430Z"
   },
   {
    "duration": 4073,
    "start_time": "2022-02-07T20:55:22.159Z"
   },
   {
    "duration": 29,
    "start_time": "2022-02-07T20:55:26.234Z"
   },
   {
    "duration": 275,
    "start_time": "2022-02-07T20:55:26.266Z"
   },
   {
    "duration": 742,
    "start_time": "2022-02-07T20:55:26.544Z"
   },
   {
    "duration": 231,
    "start_time": "2022-02-07T20:55:27.289Z"
   },
   {
    "duration": 378,
    "start_time": "2022-02-07T20:55:27.522Z"
   },
   {
    "duration": 294,
    "start_time": "2022-02-07T20:55:27.902Z"
   },
   {
    "duration": 349,
    "start_time": "2022-02-07T20:55:28.199Z"
   },
   {
    "duration": 321,
    "start_time": "2022-02-07T20:55:28.551Z"
   },
   {
    "duration": 335,
    "start_time": "2022-02-07T20:55:28.874Z"
   },
   {
    "duration": 316,
    "start_time": "2022-02-07T20:55:29.212Z"
   },
   {
    "duration": 315,
    "start_time": "2022-02-07T20:55:29.532Z"
   },
   {
    "duration": 344,
    "start_time": "2022-02-07T20:55:29.850Z"
   },
   {
    "duration": 243,
    "start_time": "2022-02-07T20:55:30.199Z"
   },
   {
    "duration": 245,
    "start_time": "2022-02-07T20:55:30.446Z"
   },
   {
    "duration": 47,
    "start_time": "2022-02-07T20:55:30.694Z"
   },
   {
    "duration": 227,
    "start_time": "2022-02-07T20:55:30.743Z"
   },
   {
    "duration": 264,
    "start_time": "2022-02-07T20:55:30.973Z"
   },
   {
    "duration": -41,
    "start_time": "2022-02-07T20:55:31.281Z"
   },
   {
    "duration": -44,
    "start_time": "2022-02-07T20:55:31.285Z"
   },
   {
    "duration": -45,
    "start_time": "2022-02-07T20:55:31.288Z"
   },
   {
    "duration": -47,
    "start_time": "2022-02-07T20:55:31.291Z"
   },
   {
    "duration": -47,
    "start_time": "2022-02-07T20:55:31.293Z"
   },
   {
    "duration": -48,
    "start_time": "2022-02-07T20:55:31.295Z"
   },
   {
    "duration": -54,
    "start_time": "2022-02-07T20:55:31.302Z"
   },
   {
    "duration": -55,
    "start_time": "2022-02-07T20:55:31.305Z"
   },
   {
    "duration": -56,
    "start_time": "2022-02-07T20:55:31.307Z"
   },
   {
    "duration": 3,
    "start_time": "2022-02-07T20:56:45.476Z"
   },
   {
    "duration": 36,
    "start_time": "2022-02-07T20:58:18.101Z"
   },
   {
    "duration": 924,
    "start_time": "2022-02-07T20:58:32.752Z"
   },
   {
    "duration": 8,
    "start_time": "2022-02-07T20:58:33.679Z"
   },
   {
    "duration": 314,
    "start_time": "2022-02-07T20:58:33.689Z"
   },
   {
    "duration": 230,
    "start_time": "2022-02-07T20:58:34.006Z"
   },
   {
    "duration": 290,
    "start_time": "2022-02-07T20:58:34.239Z"
   },
   {
    "duration": 209,
    "start_time": "2022-02-07T20:58:34.533Z"
   },
   {
    "duration": 174,
    "start_time": "2022-02-07T20:58:34.745Z"
   },
   {
    "duration": 188,
    "start_time": "2022-02-07T20:58:34.921Z"
   },
   {
    "duration": 4598,
    "start_time": "2022-02-07T20:58:35.112Z"
   },
   {
    "duration": 4005,
    "start_time": "2022-02-07T20:58:39.713Z"
   },
   {
    "duration": 26,
    "start_time": "2022-02-07T20:58:43.723Z"
   },
   {
    "duration": 238,
    "start_time": "2022-02-07T20:58:43.752Z"
   },
   {
    "duration": 660,
    "start_time": "2022-02-07T20:58:43.993Z"
   },
   {
    "duration": 243,
    "start_time": "2022-02-07T20:58:44.656Z"
   },
   {
    "duration": 402,
    "start_time": "2022-02-07T20:58:44.901Z"
   },
   {
    "duration": 283,
    "start_time": "2022-02-07T20:58:45.306Z"
   },
   {
    "duration": 318,
    "start_time": "2022-02-07T20:58:45.591Z"
   },
   {
    "duration": 322,
    "start_time": "2022-02-07T20:58:45.925Z"
   },
   {
    "duration": 342,
    "start_time": "2022-02-07T20:58:46.250Z"
   },
   {
    "duration": 324,
    "start_time": "2022-02-07T20:58:46.595Z"
   },
   {
    "duration": 326,
    "start_time": "2022-02-07T20:58:46.923Z"
   },
   {
    "duration": 336,
    "start_time": "2022-02-07T20:58:47.251Z"
   },
   {
    "duration": 244,
    "start_time": "2022-02-07T20:58:47.589Z"
   },
   {
    "duration": 242,
    "start_time": "2022-02-07T20:58:47.835Z"
   },
   {
    "duration": 51,
    "start_time": "2022-02-07T20:58:48.079Z"
   },
   {
    "duration": 400,
    "start_time": "2022-02-07T20:58:48.132Z"
   },
   {
    "duration": 20,
    "start_time": "2022-02-07T20:58:48.514Z"
   },
   {
    "duration": 16,
    "start_time": "2022-02-07T20:58:48.519Z"
   },
   {
    "duration": 16,
    "start_time": "2022-02-07T20:58:48.521Z"
   },
   {
    "duration": 15,
    "start_time": "2022-02-07T20:58:48.523Z"
   },
   {
    "duration": 14,
    "start_time": "2022-02-07T20:58:48.525Z"
   },
   {
    "duration": 14,
    "start_time": "2022-02-07T20:58:48.527Z"
   },
   {
    "duration": 13,
    "start_time": "2022-02-07T20:58:48.529Z"
   },
   {
    "duration": 944,
    "start_time": "2022-02-07T21:00:17.104Z"
   },
   {
    "duration": 7,
    "start_time": "2022-02-07T21:00:18.051Z"
   },
   {
    "duration": 308,
    "start_time": "2022-02-07T21:00:18.061Z"
   },
   {
    "duration": 197,
    "start_time": "2022-02-07T21:00:18.372Z"
   },
   {
    "duration": 332,
    "start_time": "2022-02-07T21:00:18.571Z"
   },
   {
    "duration": 421,
    "start_time": "2022-02-07T21:00:18.906Z"
   },
   {
    "duration": 351,
    "start_time": "2022-02-07T21:00:19.329Z"
   },
   {
    "duration": 215,
    "start_time": "2022-02-07T21:00:19.684Z"
   },
   {
    "duration": 4865,
    "start_time": "2022-02-07T21:00:19.902Z"
   },
   {
    "duration": 4282,
    "start_time": "2022-02-07T21:00:24.770Z"
   },
   {
    "duration": 33,
    "start_time": "2022-02-07T21:00:29.055Z"
   },
   {
    "duration": 189,
    "start_time": "2022-02-07T21:00:29.090Z"
   },
   {
    "duration": 635,
    "start_time": "2022-02-07T21:00:29.281Z"
   },
   {
    "duration": 251,
    "start_time": "2022-02-07T21:00:29.923Z"
   },
   {
    "duration": 533,
    "start_time": "2022-02-07T21:00:30.178Z"
   },
   {
    "duration": 317,
    "start_time": "2022-02-07T21:00:30.713Z"
   },
   {
    "duration": 329,
    "start_time": "2022-02-07T21:00:31.033Z"
   },
   {
    "duration": 322,
    "start_time": "2022-02-07T21:00:31.365Z"
   },
   {
    "duration": 348,
    "start_time": "2022-02-07T21:00:31.690Z"
   },
   {
    "duration": 335,
    "start_time": "2022-02-07T21:00:32.041Z"
   },
   {
    "duration": 321,
    "start_time": "2022-02-07T21:00:32.378Z"
   },
   {
    "duration": 346,
    "start_time": "2022-02-07T21:00:32.701Z"
   },
   {
    "duration": 238,
    "start_time": "2022-02-07T21:00:33.051Z"
   },
   {
    "duration": 257,
    "start_time": "2022-02-07T21:00:33.292Z"
   },
   {
    "duration": 86,
    "start_time": "2022-02-07T21:00:33.552Z"
   },
   {
    "duration": 312,
    "start_time": "2022-02-07T21:00:33.642Z"
   },
   {
    "duration": -37,
    "start_time": "2022-02-07T21:00:33.994Z"
   },
   {
    "duration": -37,
    "start_time": "2022-02-07T21:00:33.996Z"
   },
   {
    "duration": -39,
    "start_time": "2022-02-07T21:00:34.000Z"
   },
   {
    "duration": -41,
    "start_time": "2022-02-07T21:00:34.004Z"
   },
   {
    "duration": -42,
    "start_time": "2022-02-07T21:00:34.006Z"
   },
   {
    "duration": -42,
    "start_time": "2022-02-07T21:00:34.008Z"
   },
   {
    "duration": -43,
    "start_time": "2022-02-07T21:00:34.010Z"
   },
   {
    "duration": 884,
    "start_time": "2022-02-07T21:23:31.257Z"
   },
   {
    "duration": 4,
    "start_time": "2022-02-07T21:23:32.144Z"
   },
   {
    "duration": 210,
    "start_time": "2022-02-07T21:23:32.152Z"
   },
   {
    "duration": 325,
    "start_time": "2022-02-07T21:23:32.366Z"
   },
   {
    "duration": 60,
    "start_time": "2022-02-07T21:23:32.695Z"
   },
   {
    "duration": 291,
    "start_time": "2022-02-07T21:23:32.758Z"
   },
   {
    "duration": 168,
    "start_time": "2022-02-07T21:23:33.051Z"
   },
   {
    "duration": 5495,
    "start_time": "2022-02-07T21:23:33.224Z"
   },
   {
    "duration": 4752,
    "start_time": "2022-02-07T21:23:38.724Z"
   },
   {
    "duration": 55,
    "start_time": "2022-02-07T21:23:43.479Z"
   },
   {
    "duration": 208,
    "start_time": "2022-02-07T21:23:43.537Z"
   },
   {
    "duration": 639,
    "start_time": "2022-02-07T21:23:43.748Z"
   },
   {
    "duration": 241,
    "start_time": "2022-02-07T21:23:44.389Z"
   },
   {
    "duration": 524,
    "start_time": "2022-02-07T21:23:44.633Z"
   },
   {
    "duration": 437,
    "start_time": "2022-02-07T21:23:45.160Z"
   },
   {
    "duration": 492,
    "start_time": "2022-02-07T21:23:45.601Z"
   },
   {
    "duration": 496,
    "start_time": "2022-02-07T21:23:46.096Z"
   },
   {
    "duration": 356,
    "start_time": "2022-02-07T21:23:46.595Z"
   },
   {
    "duration": 472,
    "start_time": "2022-02-07T21:23:46.954Z"
   },
   {
    "duration": 483,
    "start_time": "2022-02-07T21:23:47.429Z"
   },
   {
    "duration": 519,
    "start_time": "2022-02-07T21:23:47.915Z"
   },
   {
    "duration": 357,
    "start_time": "2022-02-07T21:23:48.437Z"
   },
   {
    "duration": 362,
    "start_time": "2022-02-07T21:23:48.801Z"
   },
   {
    "duration": 70,
    "start_time": "2022-02-07T21:23:49.167Z"
   },
   {
    "duration": 175,
    "start_time": "2022-02-07T21:23:49.241Z"
   },
   {
    "duration": 248,
    "start_time": "2022-02-07T21:23:49.419Z"
   },
   {
    "duration": 43,
    "start_time": "2022-02-07T21:23:49.627Z"
   },
   {
    "duration": 30,
    "start_time": "2022-02-07T21:23:49.642Z"
   },
   {
    "duration": 29,
    "start_time": "2022-02-07T21:23:49.645Z"
   },
   {
    "duration": 27,
    "start_time": "2022-02-07T21:23:49.648Z"
   },
   {
    "duration": 21,
    "start_time": "2022-02-07T21:23:49.656Z"
   },
   {
    "duration": 20,
    "start_time": "2022-02-07T21:23:49.658Z"
   },
   {
    "duration": 18,
    "start_time": "2022-02-07T21:23:49.661Z"
   },
   {
    "duration": 921,
    "start_time": "2022-02-07T21:24:11.707Z"
   },
   {
    "duration": 7,
    "start_time": "2022-02-07T21:24:12.631Z"
   },
   {
    "duration": 459,
    "start_time": "2022-02-07T21:24:12.642Z"
   },
   {
    "duration": 297,
    "start_time": "2022-02-07T21:24:13.105Z"
   },
   {
    "duration": 317,
    "start_time": "2022-02-07T21:24:13.405Z"
   },
   {
    "duration": 277,
    "start_time": "2022-02-07T21:24:13.724Z"
   },
   {
    "duration": 369,
    "start_time": "2022-02-07T21:24:14.004Z"
   },
   {
    "duration": 406,
    "start_time": "2022-02-07T21:24:14.375Z"
   },
   {
    "duration": 4822,
    "start_time": "2022-02-07T21:24:14.784Z"
   },
   {
    "duration": 4150,
    "start_time": "2022-02-07T21:24:19.609Z"
   },
   {
    "duration": 27,
    "start_time": "2022-02-07T21:24:23.761Z"
   },
   {
    "duration": 239,
    "start_time": "2022-02-07T21:24:23.790Z"
   },
   {
    "duration": 699,
    "start_time": "2022-02-07T21:24:24.032Z"
   },
   {
    "duration": 234,
    "start_time": "2022-02-07T21:24:24.733Z"
   },
   {
    "duration": 397,
    "start_time": "2022-02-07T21:24:24.970Z"
   },
   {
    "duration": 288,
    "start_time": "2022-02-07T21:24:25.370Z"
   },
   {
    "duration": 316,
    "start_time": "2022-02-07T21:24:25.661Z"
   },
   {
    "duration": 313,
    "start_time": "2022-02-07T21:24:25.980Z"
   },
   {
    "duration": 332,
    "start_time": "2022-02-07T21:24:26.296Z"
   },
   {
    "duration": 327,
    "start_time": "2022-02-07T21:24:26.630Z"
   },
   {
    "duration": 311,
    "start_time": "2022-02-07T21:24:26.960Z"
   },
   {
    "duration": 333,
    "start_time": "2022-02-07T21:24:27.273Z"
   },
   {
    "duration": 231,
    "start_time": "2022-02-07T21:24:27.609Z"
   },
   {
    "duration": 230,
    "start_time": "2022-02-07T21:24:27.842Z"
   },
   {
    "duration": 33,
    "start_time": "2022-02-07T21:24:28.075Z"
   },
   {
    "duration": 309,
    "start_time": "2022-02-07T21:24:28.123Z"
   },
   {
    "duration": 78,
    "start_time": "2022-02-07T21:24:28.357Z"
   },
   {
    "duration": 72,
    "start_time": "2022-02-07T21:24:28.365Z"
   },
   {
    "duration": 68,
    "start_time": "2022-02-07T21:24:28.371Z"
   },
   {
    "duration": 65,
    "start_time": "2022-02-07T21:24:28.375Z"
   },
   {
    "duration": 62,
    "start_time": "2022-02-07T21:24:28.380Z"
   },
   {
    "duration": 61,
    "start_time": "2022-02-07T21:24:28.382Z"
   },
   {
    "duration": 60,
    "start_time": "2022-02-07T21:24:28.385Z"
   },
   {
    "duration": 100,
    "start_time": "2022-02-07T21:26:23.359Z"
   },
   {
    "duration": 375,
    "start_time": "2022-02-07T21:26:37.649Z"
   },
   {
    "duration": 102,
    "start_time": "2022-02-07T21:26:46.617Z"
   },
   {
    "duration": 94,
    "start_time": "2022-02-07T21:27:01.208Z"
   },
   {
    "duration": 92,
    "start_time": "2022-02-07T21:27:42.561Z"
   },
   {
    "duration": 28,
    "start_time": "2022-02-07T21:28:39.721Z"
   },
   {
    "duration": 7389,
    "start_time": "2022-02-07T21:29:02.305Z"
   },
   {
    "duration": 910,
    "start_time": "2022-02-07T21:29:34.583Z"
   },
   {
    "duration": 7,
    "start_time": "2022-02-07T21:29:35.496Z"
   },
   {
    "duration": 174,
    "start_time": "2022-02-07T21:29:35.506Z"
   },
   {
    "duration": 198,
    "start_time": "2022-02-07T21:29:35.683Z"
   },
   {
    "duration": 227,
    "start_time": "2022-02-07T21:29:35.884Z"
   },
   {
    "duration": 175,
    "start_time": "2022-02-07T21:29:36.113Z"
   },
   {
    "duration": 169,
    "start_time": "2022-02-07T21:29:36.291Z"
   },
   {
    "duration": 237,
    "start_time": "2022-02-07T21:29:36.465Z"
   },
   {
    "duration": 4677,
    "start_time": "2022-02-07T21:29:36.705Z"
   },
   {
    "duration": 3950,
    "start_time": "2022-02-07T21:29:41.384Z"
   },
   {
    "duration": 26,
    "start_time": "2022-02-07T21:29:45.336Z"
   },
   {
    "duration": 165,
    "start_time": "2022-02-07T21:29:45.364Z"
   },
   {
    "duration": 585,
    "start_time": "2022-02-07T21:29:45.532Z"
   },
   {
    "duration": 224,
    "start_time": "2022-02-07T21:29:46.123Z"
   },
   {
    "duration": 328,
    "start_time": "2022-02-07T21:29:46.350Z"
   },
   {
    "duration": 286,
    "start_time": "2022-02-07T21:29:46.680Z"
   },
   {
    "duration": 308,
    "start_time": "2022-02-07T21:29:46.969Z"
   },
   {
    "duration": 312,
    "start_time": "2022-02-07T21:29:47.280Z"
   },
   {
    "duration": 331,
    "start_time": "2022-02-07T21:29:47.595Z"
   },
   {
    "duration": 347,
    "start_time": "2022-02-07T21:29:47.929Z"
   },
   {
    "duration": 321,
    "start_time": "2022-02-07T21:29:48.279Z"
   },
   {
    "duration": 345,
    "start_time": "2022-02-07T21:29:48.602Z"
   },
   {
    "duration": 235,
    "start_time": "2022-02-07T21:29:48.952Z"
   },
   {
    "duration": 227,
    "start_time": "2022-02-07T21:29:49.190Z"
   },
   {
    "duration": 33,
    "start_time": "2022-02-07T21:29:49.423Z"
   },
   {
    "duration": 223,
    "start_time": "2022-02-07T21:29:49.459Z"
   },
   {
    "duration": 173,
    "start_time": "2022-02-07T21:29:49.684Z"
   },
   {
    "duration": 217,
    "start_time": "2022-02-07T21:29:49.860Z"
   },
   {
    "duration": 1013,
    "start_time": "2022-02-07T21:29:50.079Z"
   },
   {
    "duration": 3,
    "start_time": "2022-02-07T21:29:51.094Z"
   },
   {
    "duration": 149,
    "start_time": "2022-02-07T21:29:51.099Z"
   },
   {
    "duration": 1818,
    "start_time": "2022-02-07T21:29:51.251Z"
   },
   {
    "duration": 18,
    "start_time": "2022-02-07T21:29:53.071Z"
   },
   {
    "duration": 14,
    "start_time": "2022-02-07T21:31:14.721Z"
   },
   {
    "duration": 20,
    "start_time": "2022-02-07T21:31:32.552Z"
   },
   {
    "duration": 24,
    "start_time": "2022-02-07T21:32:06.193Z"
   },
   {
    "duration": 89,
    "start_time": "2022-02-07T21:33:55.145Z"
   },
   {
    "duration": 8,
    "start_time": "2022-02-07T21:35:20.723Z"
   },
   {
    "duration": 18,
    "start_time": "2022-02-07T21:37:31.277Z"
   },
   {
    "duration": 17,
    "start_time": "2022-02-07T21:37:52.278Z"
   },
   {
    "duration": 1676,
    "start_time": "2022-02-07T21:38:20.607Z"
   },
   {
    "duration": 37,
    "start_time": "2022-02-07T21:39:26.702Z"
   },
   {
    "duration": 48,
    "start_time": "2022-02-07T21:40:04.995Z"
   },
   {
    "duration": 20,
    "start_time": "2022-02-07T21:42:17.271Z"
   },
   {
    "duration": 1219,
    "start_time": "2022-02-07T21:43:42.530Z"
   },
   {
    "duration": 324,
    "start_time": "2022-02-07T21:43:55.779Z"
   },
   {
    "duration": 300,
    "start_time": "2022-02-07T21:44:14.194Z"
   },
   {
    "duration": 23,
    "start_time": "2022-02-07T21:45:06.099Z"
   },
   {
    "duration": 22,
    "start_time": "2022-02-07T21:45:22.661Z"
   },
   {
    "duration": 6905,
    "start_time": "2022-02-07T21:45:40.747Z"
   },
   {
    "duration": 7460,
    "start_time": "2022-02-07T21:46:28.723Z"
   },
   {
    "duration": 21,
    "start_time": "2022-02-07T21:46:55.380Z"
   },
   {
    "duration": 22,
    "start_time": "2022-02-07T21:47:18.988Z"
   },
   {
    "duration": 64,
    "start_time": "2022-02-07T21:47:45.220Z"
   },
   {
    "duration": 25,
    "start_time": "2022-02-07T21:50:48.568Z"
   },
   {
    "duration": 547,
    "start_time": "2022-02-07T21:51:33.239Z"
   },
   {
    "duration": 28,
    "start_time": "2022-02-07T21:52:08.674Z"
   },
   {
    "duration": 104,
    "start_time": "2022-02-07T21:53:40.777Z"
   },
   {
    "duration": 177,
    "start_time": "2022-02-07T21:54:08.384Z"
   },
   {
    "duration": 104,
    "start_time": "2022-02-07T21:54:17.693Z"
   },
   {
    "duration": 19,
    "start_time": "2022-02-07T21:54:30.993Z"
   },
   {
    "duration": 21,
    "start_time": "2022-02-07T21:54:36.146Z"
   },
   {
    "duration": 39,
    "start_time": "2022-02-07T21:54:41.353Z"
   },
   {
    "duration": 58,
    "start_time": "2022-02-07T21:55:18.034Z"
   },
   {
    "duration": 20,
    "start_time": "2022-02-07T21:55:51.901Z"
   },
   {
    "duration": 311,
    "start_time": "2022-02-07T21:58:12.979Z"
   },
   {
    "duration": 86,
    "start_time": "2022-02-07T21:58:31.437Z"
   },
   {
    "duration": 85,
    "start_time": "2022-02-07T21:59:55.788Z"
   },
   {
    "duration": 283,
    "start_time": "2022-02-07T22:02:26.875Z"
   },
   {
    "duration": 22,
    "start_time": "2022-02-07T22:03:04.009Z"
   },
   {
    "duration": 20,
    "start_time": "2022-02-07T22:03:12.677Z"
   },
   {
    "duration": 295,
    "start_time": "2022-02-07T22:03:21.595Z"
   },
   {
    "duration": 20,
    "start_time": "2022-02-07T22:04:28.783Z"
   },
   {
    "duration": 6,
    "start_time": "2022-02-07T22:04:37.478Z"
   },
   {
    "duration": 22,
    "start_time": "2022-02-07T22:04:47.169Z"
   },
   {
    "duration": 19,
    "start_time": "2022-02-07T22:05:09.263Z"
   },
   {
    "duration": 19,
    "start_time": "2022-02-07T22:05:18.466Z"
   },
   {
    "duration": 7420,
    "start_time": "2022-02-07T22:05:43.414Z"
   },
   {
    "duration": 18,
    "start_time": "2022-02-07T22:06:58.185Z"
   },
   {
    "duration": 8,
    "start_time": "2022-02-07T22:07:02.163Z"
   },
   {
    "duration": 7720,
    "start_time": "2022-02-07T22:07:23.214Z"
   },
   {
    "duration": 9,
    "start_time": "2022-02-07T22:08:04.342Z"
   },
   {
    "duration": 7,
    "start_time": "2022-02-07T22:08:13.357Z"
   },
   {
    "duration": 7,
    "start_time": "2022-02-07T22:08:24.301Z"
   },
   {
    "duration": 7,
    "start_time": "2022-02-07T22:08:34.419Z"
   },
   {
    "duration": 8,
    "start_time": "2022-02-07T22:08:39.705Z"
   },
   {
    "duration": 8,
    "start_time": "2022-02-07T22:09:06.308Z"
   },
   {
    "duration": 323,
    "start_time": "2022-02-07T22:09:36.411Z"
   },
   {
    "duration": 292,
    "start_time": "2022-02-07T22:09:45.132Z"
   },
   {
    "duration": 18,
    "start_time": "2022-02-07T22:09:55.652Z"
   },
   {
    "duration": 17,
    "start_time": "2022-02-07T22:10:04.536Z"
   },
   {
    "duration": 485,
    "start_time": "2022-02-07T22:10:20.197Z"
   },
   {
    "duration": 940,
    "start_time": "2022-02-08T07:42:22.295Z"
   },
   {
    "duration": 9,
    "start_time": "2022-02-08T07:42:23.239Z"
   },
   {
    "duration": 5,
    "start_time": "2022-02-08T07:42:23.252Z"
   },
   {
    "duration": 21,
    "start_time": "2022-02-08T07:42:23.261Z"
   },
   {
    "duration": 138,
    "start_time": "2022-02-08T07:42:23.285Z"
   },
   {
    "duration": 3,
    "start_time": "2022-02-08T07:42:23.426Z"
   },
   {
    "duration": 15,
    "start_time": "2022-02-08T07:42:23.432Z"
   },
   {
    "duration": 15,
    "start_time": "2022-02-08T07:42:23.453Z"
   },
   {
    "duration": 4339,
    "start_time": "2022-02-08T07:42:23.471Z"
   },
   {
    "duration": 4137,
    "start_time": "2022-02-08T07:42:27.812Z"
   },
   {
    "duration": 28,
    "start_time": "2022-02-08T07:42:31.951Z"
   },
   {
    "duration": 78,
    "start_time": "2022-02-08T07:42:31.982Z"
   },
   {
    "duration": 415,
    "start_time": "2022-02-08T07:42:32.063Z"
   },
   {
    "duration": 232,
    "start_time": "2022-02-08T07:42:32.481Z"
   },
   {
    "duration": 325,
    "start_time": "2022-02-08T07:42:32.715Z"
   },
   {
    "duration": 285,
    "start_time": "2022-02-08T07:42:33.043Z"
   },
   {
    "duration": 315,
    "start_time": "2022-02-08T07:42:33.330Z"
   },
   {
    "duration": 304,
    "start_time": "2022-02-08T07:42:33.647Z"
   },
   {
    "duration": 324,
    "start_time": "2022-02-08T07:42:33.953Z"
   },
   {
    "duration": 320,
    "start_time": "2022-02-08T07:42:34.279Z"
   },
   {
    "duration": 310,
    "start_time": "2022-02-08T07:42:34.602Z"
   },
   {
    "duration": 312,
    "start_time": "2022-02-08T07:42:34.915Z"
   },
   {
    "duration": 223,
    "start_time": "2022-02-08T07:42:35.233Z"
   },
   {
    "duration": 245,
    "start_time": "2022-02-08T07:42:35.460Z"
   },
   {
    "duration": 37,
    "start_time": "2022-02-08T07:42:35.709Z"
   },
   {
    "duration": 27,
    "start_time": "2022-02-08T07:42:35.749Z"
   },
   {
    "duration": 55,
    "start_time": "2022-02-08T07:42:35.779Z"
   },
   {
    "duration": 3,
    "start_time": "2022-02-08T07:42:35.837Z"
   },
   {
    "duration": 1618,
    "start_time": "2022-02-08T07:42:35.843Z"
   },
   {
    "duration": 100,
    "start_time": "2022-02-08T07:42:37.464Z"
   },
   {
    "duration": 17,
    "start_time": "2022-02-08T07:45:07.724Z"
   },
   {
    "duration": 46,
    "start_time": "2022-02-08T07:45:07.744Z"
   },
   {
    "duration": 494,
    "start_time": "2022-02-08T07:45:07.793Z"
   },
   {
    "duration": -619,
    "start_time": "2022-02-08T07:45:08.909Z"
   },
   {
    "duration": -619,
    "start_time": "2022-02-08T07:45:08.911Z"
   },
   {
    "duration": -620,
    "start_time": "2022-02-08T07:45:08.913Z"
   },
   {
    "duration": 886,
    "start_time": "2022-02-08T07:47:15.089Z"
   },
   {
    "duration": 9,
    "start_time": "2022-02-08T07:47:15.978Z"
   },
   {
    "duration": 7,
    "start_time": "2022-02-08T07:47:15.990Z"
   },
   {
    "duration": 33,
    "start_time": "2022-02-08T07:47:16.000Z"
   },
   {
    "duration": 96,
    "start_time": "2022-02-08T07:47:16.036Z"
   },
   {
    "duration": 3,
    "start_time": "2022-02-08T07:47:16.135Z"
   },
   {
    "duration": 15,
    "start_time": "2022-02-08T07:47:16.141Z"
   },
   {
    "duration": 17,
    "start_time": "2022-02-08T07:47:16.160Z"
   },
   {
    "duration": 6478,
    "start_time": "2022-02-08T07:47:16.223Z"
   },
   {
    "duration": 6069,
    "start_time": "2022-02-08T07:47:22.706Z"
   },
   {
    "duration": 49,
    "start_time": "2022-02-08T07:47:28.778Z"
   },
   {
    "duration": 107,
    "start_time": "2022-02-08T07:47:28.831Z"
   },
   {
    "duration": 651,
    "start_time": "2022-02-08T07:47:28.941Z"
   },
   {
    "duration": 350,
    "start_time": "2022-02-08T07:47:29.595Z"
   },
   {
    "duration": 545,
    "start_time": "2022-02-08T07:47:29.949Z"
   },
   {
    "duration": 439,
    "start_time": "2022-02-08T07:47:30.498Z"
   },
   {
    "duration": 503,
    "start_time": "2022-02-08T07:47:30.941Z"
   },
   {
    "duration": 511,
    "start_time": "2022-02-08T07:47:31.448Z"
   },
   {
    "duration": 536,
    "start_time": "2022-02-08T07:47:31.962Z"
   },
   {
    "duration": 366,
    "start_time": "2022-02-08T07:47:32.501Z"
   },
   {
    "duration": 311,
    "start_time": "2022-02-08T07:47:32.870Z"
   },
   {
    "duration": 343,
    "start_time": "2022-02-08T07:47:33.183Z"
   },
   {
    "duration": 246,
    "start_time": "2022-02-08T07:47:33.529Z"
   },
   {
    "duration": 249,
    "start_time": "2022-02-08T07:47:33.778Z"
   },
   {
    "duration": 36,
    "start_time": "2022-02-08T07:47:34.029Z"
   },
   {
    "duration": 28,
    "start_time": "2022-02-08T07:47:34.067Z"
   },
   {
    "duration": 43,
    "start_time": "2022-02-08T07:47:34.100Z"
   },
   {
    "duration": 4,
    "start_time": "2022-02-08T07:47:34.147Z"
   },
   {
    "duration": 893,
    "start_time": "2022-02-08T07:47:34.153Z"
   },
   {
    "duration": 103,
    "start_time": "2022-02-08T07:47:35.049Z"
   },
   {
    "duration": 699,
    "start_time": "2022-02-08T07:47:35.154Z"
   },
   {
    "duration": 18,
    "start_time": "2022-02-08T07:47:35.855Z"
   },
   {
    "duration": 66,
    "start_time": "2022-02-08T07:47:35.876Z"
   },
   {
    "duration": 399,
    "start_time": "2022-02-08T07:47:35.944Z"
   },
   {
    "duration": -592,
    "start_time": "2022-02-08T07:47:36.937Z"
   },
   {
    "duration": -598,
    "start_time": "2022-02-08T07:47:36.945Z"
   },
   {
    "duration": 99,
    "start_time": "2022-02-08T07:49:00.378Z"
   },
   {
    "duration": 742,
    "start_time": "2022-02-08T07:49:14.768Z"
   },
   {
    "duration": 22,
    "start_time": "2022-02-08T07:54:39.524Z"
   },
   {
    "duration": 713,
    "start_time": "2022-02-08T07:57:14.032Z"
   },
   {
    "duration": 92,
    "start_time": "2022-02-08T08:13:14.405Z"
   },
   {
    "duration": 19,
    "start_time": "2022-02-08T08:13:43.222Z"
   },
   {
    "duration": 15,
    "start_time": "2022-02-08T08:14:20.110Z"
   },
   {
    "duration": 19,
    "start_time": "2022-02-08T08:14:52.671Z"
   },
   {
    "duration": 21,
    "start_time": "2022-02-08T08:15:35.495Z"
   },
   {
    "duration": 98,
    "start_time": "2022-02-08T08:20:46.554Z"
   },
   {
    "duration": 748,
    "start_time": "2022-02-08T08:21:11.330Z"
   },
   {
    "duration": 22,
    "start_time": "2022-02-08T08:21:53.642Z"
   },
   {
    "duration": 20,
    "start_time": "2022-02-08T08:28:01.619Z"
   },
   {
    "duration": 283,
    "start_time": "2022-02-08T08:28:20.210Z"
   },
   {
    "duration": 837,
    "start_time": "2022-02-08T08:28:32.669Z"
   },
   {
    "duration": 15,
    "start_time": "2022-02-08T08:28:33.509Z"
   },
   {
    "duration": 5,
    "start_time": "2022-02-08T08:28:33.527Z"
   },
   {
    "duration": 15,
    "start_time": "2022-02-08T08:28:33.535Z"
   },
   {
    "duration": 103,
    "start_time": "2022-02-08T08:28:33.552Z"
   },
   {
    "duration": 3,
    "start_time": "2022-02-08T08:28:33.658Z"
   },
   {
    "duration": 15,
    "start_time": "2022-02-08T08:28:33.664Z"
   },
   {
    "duration": 45,
    "start_time": "2022-02-08T08:28:33.684Z"
   },
   {
    "duration": 4372,
    "start_time": "2022-02-08T08:28:33.733Z"
   },
   {
    "duration": 4077,
    "start_time": "2022-02-08T08:28:38.108Z"
   },
   {
    "duration": 38,
    "start_time": "2022-02-08T08:28:42.187Z"
   },
   {
    "duration": 62,
    "start_time": "2022-02-08T08:28:42.227Z"
   },
   {
    "duration": 414,
    "start_time": "2022-02-08T08:28:42.292Z"
   },
   {
    "duration": 239,
    "start_time": "2022-02-08T08:28:42.709Z"
   },
   {
    "duration": 334,
    "start_time": "2022-02-08T08:28:42.951Z"
   },
   {
    "duration": 288,
    "start_time": "2022-02-08T08:28:43.288Z"
   },
   {
    "duration": 329,
    "start_time": "2022-02-08T08:28:43.579Z"
   },
   {
    "duration": 316,
    "start_time": "2022-02-08T08:28:43.912Z"
   },
   {
    "duration": 332,
    "start_time": "2022-02-08T08:28:44.230Z"
   },
   {
    "duration": 308,
    "start_time": "2022-02-08T08:28:44.565Z"
   },
   {
    "duration": 308,
    "start_time": "2022-02-08T08:28:44.876Z"
   },
   {
    "duration": 338,
    "start_time": "2022-02-08T08:28:45.188Z"
   },
   {
    "duration": 223,
    "start_time": "2022-02-08T08:28:45.530Z"
   },
   {
    "duration": 234,
    "start_time": "2022-02-08T08:28:45.756Z"
   },
   {
    "duration": 38,
    "start_time": "2022-02-08T08:28:45.992Z"
   },
   {
    "duration": 28,
    "start_time": "2022-02-08T08:28:46.032Z"
   },
   {
    "duration": 20,
    "start_time": "2022-02-08T08:28:46.063Z"
   },
   {
    "duration": 2,
    "start_time": "2022-02-08T08:28:46.086Z"
   },
   {
    "duration": 884,
    "start_time": "2022-02-08T08:28:46.091Z"
   },
   {
    "duration": 636,
    "start_time": "2022-02-08T08:28:46.977Z"
   },
   {
    "duration": 20,
    "start_time": "2022-02-08T08:28:47.623Z"
   },
   {
    "duration": 108,
    "start_time": "2022-02-08T08:28:47.646Z"
   },
   {
    "duration": -212,
    "start_time": "2022-02-08T08:28:47.968Z"
   },
   {
    "duration": -214,
    "start_time": "2022-02-08T08:28:47.971Z"
   },
   {
    "duration": -233,
    "start_time": "2022-02-08T08:28:47.992Z"
   },
   {
    "duration": -232,
    "start_time": "2022-02-08T08:28:47.993Z"
   },
   {
    "duration": 908,
    "start_time": "2022-02-08T08:29:23.995Z"
   },
   {
    "duration": 7,
    "start_time": "2022-02-08T08:29:24.905Z"
   },
   {
    "duration": 3,
    "start_time": "2022-02-08T08:29:24.924Z"
   },
   {
    "duration": 13,
    "start_time": "2022-02-08T08:29:24.930Z"
   },
   {
    "duration": 92,
    "start_time": "2022-02-08T08:29:24.945Z"
   },
   {
    "duration": 3,
    "start_time": "2022-02-08T08:29:25.039Z"
   },
   {
    "duration": 15,
    "start_time": "2022-02-08T08:29:25.044Z"
   },
   {
    "duration": 13,
    "start_time": "2022-02-08T08:29:25.061Z"
   },
   {
    "duration": 4436,
    "start_time": "2022-02-08T08:29:25.078Z"
   },
   {
    "duration": 3973,
    "start_time": "2022-02-08T08:29:29.517Z"
   },
   {
    "duration": 34,
    "start_time": "2022-02-08T08:29:33.493Z"
   },
   {
    "duration": 59,
    "start_time": "2022-02-08T08:29:33.529Z"
   },
   {
    "duration": 417,
    "start_time": "2022-02-08T08:29:33.591Z"
   },
   {
    "duration": 233,
    "start_time": "2022-02-08T08:29:34.011Z"
   },
   {
    "duration": 337,
    "start_time": "2022-02-08T08:29:34.247Z"
   },
   {
    "duration": 274,
    "start_time": "2022-02-08T08:29:34.586Z"
   },
   {
    "duration": 299,
    "start_time": "2022-02-08T08:29:34.862Z"
   },
   {
    "duration": 305,
    "start_time": "2022-02-08T08:29:35.164Z"
   },
   {
    "duration": 322,
    "start_time": "2022-02-08T08:29:35.471Z"
   },
   {
    "duration": 304,
    "start_time": "2022-02-08T08:29:35.795Z"
   },
   {
    "duration": 300,
    "start_time": "2022-02-08T08:29:36.101Z"
   },
   {
    "duration": 334,
    "start_time": "2022-02-08T08:29:36.404Z"
   },
   {
    "duration": 236,
    "start_time": "2022-02-08T08:29:36.741Z"
   },
   {
    "duration": 246,
    "start_time": "2022-02-08T08:29:36.980Z"
   },
   {
    "duration": 34,
    "start_time": "2022-02-08T08:29:37.229Z"
   },
   {
    "duration": 31,
    "start_time": "2022-02-08T08:29:37.266Z"
   },
   {
    "duration": 22,
    "start_time": "2022-02-08T08:29:37.328Z"
   },
   {
    "duration": 3,
    "start_time": "2022-02-08T08:29:37.354Z"
   },
   {
    "duration": 882,
    "start_time": "2022-02-08T08:29:37.359Z"
   },
   {
    "duration": 647,
    "start_time": "2022-02-08T08:29:38.243Z"
   },
   {
    "duration": 33,
    "start_time": "2022-02-08T08:29:38.893Z"
   },
   {
    "duration": 741,
    "start_time": "2022-02-08T08:29:38.928Z"
   },
   {
    "duration": 21,
    "start_time": "2022-02-08T08:29:39.672Z"
   },
   {
    "duration": 428,
    "start_time": "2022-02-08T08:29:39.695Z"
   },
   {
    "duration": -218,
    "start_time": "2022-02-08T08:29:40.343Z"
   },
   {
    "duration": -220,
    "start_time": "2022-02-08T08:29:40.347Z"
   },
   {
    "duration": 19,
    "start_time": "2022-02-08T08:30:06.164Z"
   },
   {
    "duration": 13,
    "start_time": "2022-02-08T08:30:35.436Z"
   },
   {
    "duration": 830,
    "start_time": "2022-02-08T08:31:03.957Z"
   },
   {
    "duration": 7,
    "start_time": "2022-02-08T08:31:04.790Z"
   },
   {
    "duration": 12,
    "start_time": "2022-02-08T08:31:04.800Z"
   },
   {
    "duration": 16,
    "start_time": "2022-02-08T08:31:04.822Z"
   },
   {
    "duration": 89,
    "start_time": "2022-02-08T08:31:04.841Z"
   },
   {
    "duration": 3,
    "start_time": "2022-02-08T08:31:04.932Z"
   },
   {
    "duration": 23,
    "start_time": "2022-02-08T08:31:04.937Z"
   },
   {
    "duration": 14,
    "start_time": "2022-02-08T08:31:04.965Z"
   },
   {
    "duration": 4463,
    "start_time": "2022-02-08T08:31:04.981Z"
   },
   {
    "duration": 4157,
    "start_time": "2022-02-08T08:31:09.447Z"
   },
   {
    "duration": 34,
    "start_time": "2022-02-08T08:31:13.607Z"
   },
   {
    "duration": 57,
    "start_time": "2022-02-08T08:31:13.643Z"
   },
   {
    "duration": 419,
    "start_time": "2022-02-08T08:31:13.703Z"
   },
   {
    "duration": 226,
    "start_time": "2022-02-08T08:31:14.124Z"
   },
   {
    "duration": 319,
    "start_time": "2022-02-08T08:31:14.353Z"
   },
   {
    "duration": 283,
    "start_time": "2022-02-08T08:31:14.675Z"
   },
   {
    "duration": 301,
    "start_time": "2022-02-08T08:31:14.961Z"
   },
   {
    "duration": 314,
    "start_time": "2022-02-08T08:31:15.264Z"
   },
   {
    "duration": 319,
    "start_time": "2022-02-08T08:31:15.580Z"
   },
   {
    "duration": 310,
    "start_time": "2022-02-08T08:31:15.902Z"
   },
   {
    "duration": 300,
    "start_time": "2022-02-08T08:31:16.214Z"
   },
   {
    "duration": 314,
    "start_time": "2022-02-08T08:31:16.523Z"
   },
   {
    "duration": 225,
    "start_time": "2022-02-08T08:31:16.842Z"
   },
   {
    "duration": 243,
    "start_time": "2022-02-08T08:31:17.070Z"
   },
   {
    "duration": 36,
    "start_time": "2022-02-08T08:31:17.315Z"
   },
   {
    "duration": 31,
    "start_time": "2022-02-08T08:31:17.354Z"
   },
   {
    "duration": 44,
    "start_time": "2022-02-08T08:31:17.387Z"
   },
   {
    "duration": 4,
    "start_time": "2022-02-08T08:31:17.433Z"
   },
   {
    "duration": 851,
    "start_time": "2022-02-08T08:31:17.439Z"
   },
   {
    "duration": 637,
    "start_time": "2022-02-08T08:31:18.292Z"
   },
   {
    "duration": 26,
    "start_time": "2022-02-08T08:31:18.932Z"
   },
   {
    "duration": 769,
    "start_time": "2022-02-08T08:31:18.960Z"
   },
   {
    "duration": 20,
    "start_time": "2022-02-08T08:31:19.732Z"
   },
   {
    "duration": 18,
    "start_time": "2022-02-08T08:31:19.755Z"
   },
   {
    "duration": 439,
    "start_time": "2022-02-08T08:31:19.775Z"
   },
   {
    "duration": -221,
    "start_time": "2022-02-08T08:31:20.437Z"
   },
   {
    "duration": 106,
    "start_time": "2022-02-08T08:34:42.722Z"
   },
   {
    "duration": 51,
    "start_time": "2022-02-08T08:34:49.242Z"
   },
   {
    "duration": 124,
    "start_time": "2022-02-08T08:36:08.500Z"
   },
   {
    "duration": 69,
    "start_time": "2022-02-08T08:36:13.851Z"
   },
   {
    "duration": 70,
    "start_time": "2022-02-08T08:36:24.812Z"
   },
   {
    "duration": 349,
    "start_time": "2022-02-08T08:37:33.965Z"
   },
   {
    "duration": 352,
    "start_time": "2022-02-08T08:39:11.925Z"
   },
   {
    "duration": 76,
    "start_time": "2022-02-08T08:40:03.232Z"
   },
   {
    "duration": 67,
    "start_time": "2022-02-08T08:40:17.205Z"
   },
   {
    "duration": 1306,
    "start_time": "2022-02-08T08:40:51.775Z"
   },
   {
    "duration": 323,
    "start_time": "2022-02-08T08:41:11.087Z"
   },
   {
    "duration": 434,
    "start_time": "2022-02-08T08:41:29.479Z"
   },
   {
    "duration": 11,
    "start_time": "2022-02-08T08:42:19.727Z"
   },
   {
    "duration": 313,
    "start_time": "2022-02-08T08:43:30.071Z"
   },
   {
    "duration": 299,
    "start_time": "2022-02-08T08:43:45.341Z"
   },
   {
    "duration": 281,
    "start_time": "2022-02-08T08:43:51.916Z"
   },
   {
    "duration": 74,
    "start_time": "2022-02-08T08:44:45.928Z"
   },
   {
    "duration": 315,
    "start_time": "2022-02-08T08:46:25.828Z"
   },
   {
    "duration": 70,
    "start_time": "2022-02-08T08:46:32.617Z"
   },
   {
    "duration": 6971,
    "start_time": "2022-02-08T08:48:48.419Z"
   },
   {
    "duration": 9441,
    "start_time": "2022-02-08T08:49:07.662Z"
   },
   {
    "duration": 8076,
    "start_time": "2022-02-08T08:50:26.452Z"
   },
   {
    "duration": 70,
    "start_time": "2022-02-08T08:51:55.214Z"
   },
   {
    "duration": 356,
    "start_time": "2022-02-08T08:54:10.695Z"
   },
   {
    "duration": 62,
    "start_time": "2022-02-08T08:54:30.868Z"
   },
   {
    "duration": 64,
    "start_time": "2022-02-08T08:54:52.999Z"
   },
   {
    "duration": 11,
    "start_time": "2022-02-08T08:57:00.983Z"
   },
   {
    "duration": 22,
    "start_time": "2022-02-08T09:01:25.516Z"
   },
   {
    "duration": 292,
    "start_time": "2022-02-08T09:01:55.054Z"
   },
   {
    "duration": 18,
    "start_time": "2022-02-08T09:02:10.246Z"
   },
   {
    "duration": 15,
    "start_time": "2022-02-08T09:02:30.902Z"
   },
   {
    "duration": 22,
    "start_time": "2022-02-08T09:04:18.063Z"
   },
   {
    "duration": 304,
    "start_time": "2022-02-08T09:04:35.798Z"
   },
   {
    "duration": 12,
    "start_time": "2022-02-08T09:06:50.096Z"
   },
   {
    "duration": 12,
    "start_time": "2022-02-08T09:07:05.625Z"
   },
   {
    "duration": 20,
    "start_time": "2022-02-08T09:17:16.365Z"
   },
   {
    "duration": 98,
    "start_time": "2022-02-08T09:19:24.108Z"
   },
   {
    "duration": 24,
    "start_time": "2022-02-08T09:19:35.844Z"
   },
   {
    "duration": 11,
    "start_time": "2022-02-08T09:19:59.389Z"
   },
   {
    "duration": 21,
    "start_time": "2022-02-08T09:20:16.247Z"
   },
   {
    "duration": 106,
    "start_time": "2022-02-08T09:23:33.991Z"
   },
   {
    "duration": 323,
    "start_time": "2022-02-08T09:24:39.838Z"
   },
   {
    "duration": 99,
    "start_time": "2022-02-08T09:26:31.034Z"
   },
   {
    "duration": 93,
    "start_time": "2022-02-08T09:26:49.547Z"
   },
   {
    "duration": 102,
    "start_time": "2022-02-08T09:26:53.689Z"
   },
   {
    "duration": 368,
    "start_time": "2022-02-08T09:27:25.283Z"
   },
   {
    "duration": 93,
    "start_time": "2022-02-08T09:28:20.443Z"
   },
   {
    "duration": 94,
    "start_time": "2022-02-08T09:29:08.983Z"
   },
   {
    "duration": 110,
    "start_time": "2022-02-08T09:30:59.979Z"
   },
   {
    "duration": 86,
    "start_time": "2022-02-08T09:31:58.484Z"
   },
   {
    "duration": 90,
    "start_time": "2022-02-08T09:32:12.884Z"
   },
   {
    "duration": 107,
    "start_time": "2022-02-08T09:32:38.740Z"
   },
   {
    "duration": 175,
    "start_time": "2022-02-08T09:33:11.373Z"
   },
   {
    "duration": 97,
    "start_time": "2022-02-08T09:33:41.015Z"
   },
   {
    "duration": 20,
    "start_time": "2022-02-08T09:33:47.292Z"
   },
   {
    "duration": 341,
    "start_time": "2022-02-08T09:34:21.876Z"
   },
   {
    "duration": 104,
    "start_time": "2022-02-08T09:42:41.953Z"
   },
   {
    "duration": 315,
    "start_time": "2022-02-08T09:43:20.881Z"
   },
   {
    "duration": 100,
    "start_time": "2022-02-08T09:43:43.683Z"
   },
   {
    "duration": 39,
    "start_time": "2022-02-08T09:44:16.179Z"
   },
   {
    "duration": 17,
    "start_time": "2022-02-08T09:44:52.084Z"
   },
   {
    "duration": 15,
    "start_time": "2022-02-08T09:45:38.052Z"
   },
   {
    "duration": 10,
    "start_time": "2022-02-08T09:46:30.867Z"
   },
   {
    "duration": 11,
    "start_time": "2022-02-08T09:46:43.149Z"
   },
   {
    "duration": 21,
    "start_time": "2022-02-08T09:47:29.141Z"
   },
   {
    "duration": 88,
    "start_time": "2022-02-08T09:47:37.306Z"
   },
   {
    "duration": 20,
    "start_time": "2022-02-08T09:47:45.285Z"
   },
   {
    "duration": 306,
    "start_time": "2022-02-08T09:48:08.644Z"
   },
   {
    "duration": 19,
    "start_time": "2022-02-08T09:48:37.907Z"
   },
   {
    "duration": 354,
    "start_time": "2022-02-08T09:51:34.701Z"
   },
   {
    "duration": 261,
    "start_time": "2022-02-08T09:51:54.543Z"
   },
   {
    "duration": 257,
    "start_time": "2022-02-08T09:52:05.982Z"
   },
   {
    "duration": 9,
    "start_time": "2022-02-08T09:52:12.653Z"
   },
   {
    "duration": 5,
    "start_time": "2022-02-08T09:52:16.295Z"
   },
   {
    "duration": 8,
    "start_time": "2022-02-08T09:52:33.712Z"
   },
   {
    "duration": 17,
    "start_time": "2022-02-08T09:52:35.953Z"
   },
   {
    "duration": 11,
    "start_time": "2022-02-08T09:55:22.718Z"
   },
   {
    "duration": 10,
    "start_time": "2022-02-08T09:55:49.415Z"
   },
   {
    "duration": 91,
    "start_time": "2022-02-08T09:58:25.569Z"
   },
   {
    "duration": 27,
    "start_time": "2022-02-08T09:58:29.448Z"
   },
   {
    "duration": 129,
    "start_time": "2022-02-08T11:03:00.023Z"
   },
   {
    "duration": 119,
    "start_time": "2022-02-08T11:03:10.670Z"
   },
   {
    "duration": 37,
    "start_time": "2022-02-08T11:03:17.718Z"
   },
   {
    "duration": 30,
    "start_time": "2022-02-08T12:41:12.132Z"
   },
   {
    "duration": 30,
    "start_time": "2022-02-08T12:43:52.405Z"
   },
   {
    "duration": 38,
    "start_time": "2022-02-08T12:45:07.015Z"
   },
   {
    "duration": 29,
    "start_time": "2022-02-08T12:46:03.005Z"
   },
   {
    "duration": 36,
    "start_time": "2022-02-08T12:46:30.083Z"
   },
   {
    "duration": 829,
    "start_time": "2022-02-08T12:46:36.469Z"
   },
   {
    "duration": 8,
    "start_time": "2022-02-08T12:46:37.301Z"
   },
   {
    "duration": 7,
    "start_time": "2022-02-08T12:46:37.312Z"
   },
   {
    "duration": 18,
    "start_time": "2022-02-08T12:46:37.324Z"
   },
   {
    "duration": 95,
    "start_time": "2022-02-08T12:46:37.345Z"
   },
   {
    "duration": 3,
    "start_time": "2022-02-08T12:46:37.443Z"
   },
   {
    "duration": 15,
    "start_time": "2022-02-08T12:46:37.448Z"
   },
   {
    "duration": 15,
    "start_time": "2022-02-08T12:46:37.465Z"
   },
   {
    "duration": 4377,
    "start_time": "2022-02-08T12:46:37.484Z"
   },
   {
    "duration": 4073,
    "start_time": "2022-02-08T12:46:41.864Z"
   },
   {
    "duration": 27,
    "start_time": "2022-02-08T12:46:45.940Z"
   },
   {
    "duration": 80,
    "start_time": "2022-02-08T12:46:45.969Z"
   },
   {
    "duration": 417,
    "start_time": "2022-02-08T12:46:46.051Z"
   },
   {
    "duration": 242,
    "start_time": "2022-02-08T12:46:46.470Z"
   },
   {
    "duration": 331,
    "start_time": "2022-02-08T12:46:46.714Z"
   },
   {
    "duration": 284,
    "start_time": "2022-02-08T12:46:47.048Z"
   },
   {
    "duration": 315,
    "start_time": "2022-02-08T12:46:47.335Z"
   },
   {
    "duration": 309,
    "start_time": "2022-02-08T12:46:47.653Z"
   },
   {
    "duration": 322,
    "start_time": "2022-02-08T12:46:47.965Z"
   },
   {
    "duration": 317,
    "start_time": "2022-02-08T12:46:48.289Z"
   },
   {
    "duration": 310,
    "start_time": "2022-02-08T12:46:48.608Z"
   },
   {
    "duration": 319,
    "start_time": "2022-02-08T12:46:48.924Z"
   },
   {
    "duration": 231,
    "start_time": "2022-02-08T12:46:49.246Z"
   },
   {
    "duration": 244,
    "start_time": "2022-02-08T12:46:49.481Z"
   },
   {
    "duration": 35,
    "start_time": "2022-02-08T12:46:49.728Z"
   },
   {
    "duration": 33,
    "start_time": "2022-02-08T12:46:49.766Z"
   },
   {
    "duration": 23,
    "start_time": "2022-02-08T12:46:49.829Z"
   },
   {
    "duration": 4,
    "start_time": "2022-02-08T12:46:49.855Z"
   },
   {
    "duration": 879,
    "start_time": "2022-02-08T12:46:49.863Z"
   },
   {
    "duration": 642,
    "start_time": "2022-02-08T12:46:50.745Z"
   },
   {
    "duration": 38,
    "start_time": "2022-02-08T12:46:51.390Z"
   },
   {
    "duration": 735,
    "start_time": "2022-02-08T12:46:51.430Z"
   },
   {
    "duration": 22,
    "start_time": "2022-02-08T12:46:52.168Z"
   },
   {
    "duration": 40,
    "start_time": "2022-02-08T12:46:52.192Z"
   },
   {
    "duration": 11,
    "start_time": "2022-02-08T12:46:52.235Z"
   },
   {
    "duration": 33,
    "start_time": "2022-02-08T12:46:52.248Z"
   },
   {
    "duration": 444,
    "start_time": "2022-02-08T12:46:52.284Z"
   },
   {
    "duration": 143,
    "start_time": "2022-02-08T12:46:52.587Z"
   },
   {
    "duration": 34,
    "start_time": "2022-02-08T12:48:27.945Z"
   },
   {
    "duration": 41,
    "start_time": "2022-02-08T12:49:05.016Z"
   },
   {
    "duration": 46,
    "start_time": "2022-02-08T12:50:20.314Z"
   },
   {
    "duration": 901,
    "start_time": "2022-02-08T12:51:47.147Z"
   },
   {
    "duration": 8,
    "start_time": "2022-02-08T12:51:48.052Z"
   },
   {
    "duration": 7,
    "start_time": "2022-02-08T12:51:48.064Z"
   },
   {
    "duration": 14,
    "start_time": "2022-02-08T12:51:48.074Z"
   },
   {
    "duration": 104,
    "start_time": "2022-02-08T12:51:48.091Z"
   },
   {
    "duration": 2,
    "start_time": "2022-02-08T12:51:48.198Z"
   },
   {
    "duration": 31,
    "start_time": "2022-02-08T12:51:48.202Z"
   },
   {
    "duration": 16,
    "start_time": "2022-02-08T12:51:48.235Z"
   },
   {
    "duration": 4786,
    "start_time": "2022-02-08T12:51:48.255Z"
   },
   {
    "duration": 4050,
    "start_time": "2022-02-08T12:51:53.044Z"
   },
   {
    "duration": 37,
    "start_time": "2022-02-08T12:51:57.096Z"
   },
   {
    "duration": 59,
    "start_time": "2022-02-08T12:51:57.135Z"
   },
   {
    "duration": 404,
    "start_time": "2022-02-08T12:51:57.196Z"
   },
   {
    "duration": 234,
    "start_time": "2022-02-08T12:51:57.602Z"
   },
   {
    "duration": 332,
    "start_time": "2022-02-08T12:51:57.839Z"
   },
   {
    "duration": 293,
    "start_time": "2022-02-08T12:51:58.173Z"
   },
   {
    "duration": 292,
    "start_time": "2022-02-08T12:51:58.468Z"
   },
   {
    "duration": 302,
    "start_time": "2022-02-08T12:51:58.763Z"
   },
   {
    "duration": 307,
    "start_time": "2022-02-08T12:51:59.067Z"
   },
   {
    "duration": 328,
    "start_time": "2022-02-08T12:51:59.376Z"
   },
   {
    "duration": 401,
    "start_time": "2022-02-08T12:51:59.706Z"
   },
   {
    "duration": 361,
    "start_time": "2022-02-08T12:52:00.109Z"
   },
   {
    "duration": 244,
    "start_time": "2022-02-08T12:52:00.473Z"
   },
   {
    "duration": 239,
    "start_time": "2022-02-08T12:52:00.719Z"
   },
   {
    "duration": 34,
    "start_time": "2022-02-08T12:52:00.961Z"
   },
   {
    "duration": 41,
    "start_time": "2022-02-08T12:52:00.998Z"
   },
   {
    "duration": 23,
    "start_time": "2022-02-08T12:52:01.046Z"
   },
   {
    "duration": 12,
    "start_time": "2022-02-08T12:52:01.072Z"
   },
   {
    "duration": 931,
    "start_time": "2022-02-08T12:52:01.087Z"
   },
   {
    "duration": 650,
    "start_time": "2022-02-08T12:52:02.023Z"
   },
   {
    "duration": 22,
    "start_time": "2022-02-08T12:52:02.676Z"
   },
   {
    "duration": 757,
    "start_time": "2022-02-08T12:52:02.701Z"
   },
   {
    "duration": 24,
    "start_time": "2022-02-08T12:52:03.461Z"
   },
   {
    "duration": 43,
    "start_time": "2022-02-08T12:52:03.487Z"
   },
   {
    "duration": 10,
    "start_time": "2022-02-08T12:52:03.533Z"
   },
   {
    "duration": 29,
    "start_time": "2022-02-08T12:52:03.545Z"
   },
   {
    "duration": 78,
    "start_time": "2022-02-08T12:52:03.577Z"
   },
   {
    "duration": 33,
    "start_time": "2022-02-08T12:52:26.897Z"
   },
   {
    "duration": 43,
    "start_time": "2022-02-08T12:53:10.633Z"
   },
   {
    "duration": 33,
    "start_time": "2022-02-08T12:53:44.940Z"
   },
   {
    "duration": 18,
    "start_time": "2022-02-08T12:54:24.531Z"
   },
   {
    "duration": 22,
    "start_time": "2022-02-08T12:55:22.506Z"
   },
   {
    "duration": 95,
    "start_time": "2022-02-08T12:57:54.648Z"
   },
   {
    "duration": 396,
    "start_time": "2022-02-08T12:58:03.908Z"
   },
   {
    "duration": 44,
    "start_time": "2022-02-08T12:58:17.923Z"
   },
   {
    "duration": 42,
    "start_time": "2022-02-08T12:58:27.331Z"
   },
   {
    "duration": 43,
    "start_time": "2022-02-08T12:58:35.844Z"
   },
   {
    "duration": 42,
    "start_time": "2022-02-08T12:59:47.383Z"
   },
   {
    "duration": 812,
    "start_time": "2022-02-08T12:59:55.773Z"
   },
   {
    "duration": 7,
    "start_time": "2022-02-08T12:59:56.587Z"
   },
   {
    "duration": 7,
    "start_time": "2022-02-08T12:59:56.597Z"
   },
   {
    "duration": 13,
    "start_time": "2022-02-08T12:59:56.622Z"
   },
   {
    "duration": 86,
    "start_time": "2022-02-08T12:59:56.638Z"
   },
   {
    "duration": 3,
    "start_time": "2022-02-08T12:59:56.728Z"
   },
   {
    "duration": 17,
    "start_time": "2022-02-08T12:59:56.734Z"
   },
   {
    "duration": 15,
    "start_time": "2022-02-08T12:59:56.756Z"
   },
   {
    "duration": 4409,
    "start_time": "2022-02-08T12:59:56.775Z"
   },
   {
    "duration": 4028,
    "start_time": "2022-02-08T13:00:01.187Z"
   },
   {
    "duration": 32,
    "start_time": "2022-02-08T13:00:05.217Z"
   },
   {
    "duration": 81,
    "start_time": "2022-02-08T13:00:05.251Z"
   },
   {
    "duration": 404,
    "start_time": "2022-02-08T13:00:05.335Z"
   },
   {
    "duration": 232,
    "start_time": "2022-02-08T13:00:05.741Z"
   },
   {
    "duration": 333,
    "start_time": "2022-02-08T13:00:05.975Z"
   },
   {
    "duration": 269,
    "start_time": "2022-02-08T13:00:06.311Z"
   },
   {
    "duration": 325,
    "start_time": "2022-02-08T13:00:06.583Z"
   },
   {
    "duration": 423,
    "start_time": "2022-02-08T13:00:06.911Z"
   },
   {
    "duration": 350,
    "start_time": "2022-02-08T13:00:07.337Z"
   },
   {
    "duration": 318,
    "start_time": "2022-02-08T13:00:07.690Z"
   },
   {
    "duration": 315,
    "start_time": "2022-02-08T13:00:08.010Z"
   },
   {
    "duration": 317,
    "start_time": "2022-02-08T13:00:08.328Z"
   },
   {
    "duration": 229,
    "start_time": "2022-02-08T13:00:08.650Z"
   },
   {
    "duration": 226,
    "start_time": "2022-02-08T13:00:08.882Z"
   },
   {
    "duration": 38,
    "start_time": "2022-02-08T13:00:09.111Z"
   },
   {
    "duration": 28,
    "start_time": "2022-02-08T13:00:09.151Z"
   },
   {
    "duration": 59,
    "start_time": "2022-02-08T13:00:09.182Z"
   },
   {
    "duration": 3,
    "start_time": "2022-02-08T13:00:09.243Z"
   },
   {
    "duration": 933,
    "start_time": "2022-02-08T13:00:09.249Z"
   },
   {
    "duration": 654,
    "start_time": "2022-02-08T13:00:10.185Z"
   },
   {
    "duration": 21,
    "start_time": "2022-02-08T13:00:10.841Z"
   },
   {
    "duration": 792,
    "start_time": "2022-02-08T13:00:10.865Z"
   },
   {
    "duration": 26,
    "start_time": "2022-02-08T13:00:11.659Z"
   },
   {
    "duration": 46,
    "start_time": "2022-02-08T13:00:11.688Z"
   },
   {
    "duration": 10,
    "start_time": "2022-02-08T13:00:11.736Z"
   },
   {
    "duration": 25,
    "start_time": "2022-02-08T13:00:11.749Z"
   },
   {
    "duration": 58,
    "start_time": "2022-02-08T13:00:11.776Z"
   },
   {
    "duration": 50,
    "start_time": "2022-02-08T13:02:18.136Z"
   },
   {
    "duration": 49,
    "start_time": "2022-02-08T13:02:38.125Z"
   },
   {
    "duration": 46,
    "start_time": "2022-02-08T13:02:49.544Z"
   },
   {
    "duration": 42,
    "start_time": "2022-02-08T13:04:18.727Z"
   },
   {
    "duration": 44,
    "start_time": "2022-02-08T13:04:33.799Z"
   },
   {
    "duration": 43,
    "start_time": "2022-02-08T13:04:41.942Z"
   },
   {
    "duration": 848,
    "start_time": "2022-02-08T13:06:00.076Z"
   },
   {
    "duration": 8,
    "start_time": "2022-02-08T13:06:00.926Z"
   },
   {
    "duration": 17,
    "start_time": "2022-02-08T13:06:00.937Z"
   },
   {
    "duration": 20,
    "start_time": "2022-02-08T13:06:00.957Z"
   },
   {
    "duration": 83,
    "start_time": "2022-02-08T13:06:00.979Z"
   },
   {
    "duration": 3,
    "start_time": "2022-02-08T13:06:01.065Z"
   },
   {
    "duration": 22,
    "start_time": "2022-02-08T13:06:01.070Z"
   },
   {
    "duration": 30,
    "start_time": "2022-02-08T13:06:01.095Z"
   },
   {
    "duration": 4399,
    "start_time": "2022-02-08T13:06:01.129Z"
   },
   {
    "duration": 4018,
    "start_time": "2022-02-08T13:06:05.531Z"
   },
   {
    "duration": 27,
    "start_time": "2022-02-08T13:06:09.551Z"
   },
   {
    "duration": 91,
    "start_time": "2022-02-08T13:06:09.580Z"
   },
   {
    "duration": 410,
    "start_time": "2022-02-08T13:06:09.674Z"
   },
   {
    "duration": 237,
    "start_time": "2022-02-08T13:06:10.086Z"
   },
   {
    "duration": 332,
    "start_time": "2022-02-08T13:06:10.326Z"
   },
   {
    "duration": 284,
    "start_time": "2022-02-08T13:06:10.661Z"
   },
   {
    "duration": 320,
    "start_time": "2022-02-08T13:06:10.948Z"
   },
   {
    "duration": 310,
    "start_time": "2022-02-08T13:06:11.270Z"
   },
   {
    "duration": 317,
    "start_time": "2022-02-08T13:06:11.583Z"
   },
   {
    "duration": 294,
    "start_time": "2022-02-08T13:06:11.902Z"
   },
   {
    "duration": 302,
    "start_time": "2022-02-08T13:06:12.198Z"
   },
   {
    "duration": 327,
    "start_time": "2022-02-08T13:06:12.502Z"
   },
   {
    "duration": 231,
    "start_time": "2022-02-08T13:06:12.832Z"
   },
   {
    "duration": 237,
    "start_time": "2022-02-08T13:06:13.065Z"
   },
   {
    "duration": 41,
    "start_time": "2022-02-08T13:06:13.304Z"
   },
   {
    "duration": 32,
    "start_time": "2022-02-08T13:06:13.347Z"
   },
   {
    "duration": 64,
    "start_time": "2022-02-08T13:06:13.384Z"
   },
   {
    "duration": 3,
    "start_time": "2022-02-08T13:06:13.451Z"
   },
   {
    "duration": 876,
    "start_time": "2022-02-08T13:06:13.456Z"
   },
   {
    "duration": 669,
    "start_time": "2022-02-08T13:06:14.335Z"
   },
   {
    "duration": 35,
    "start_time": "2022-02-08T13:06:15.007Z"
   },
   {
    "duration": 761,
    "start_time": "2022-02-08T13:06:15.045Z"
   },
   {
    "duration": 34,
    "start_time": "2022-02-08T13:06:15.808Z"
   },
   {
    "duration": 12,
    "start_time": "2022-02-08T13:06:15.844Z"
   },
   {
    "duration": 11,
    "start_time": "2022-02-08T13:06:15.858Z"
   },
   {
    "duration": 71,
    "start_time": "2022-02-08T13:06:15.871Z"
   },
   {
    "duration": 22,
    "start_time": "2022-02-08T13:06:15.944Z"
   },
   {
    "duration": 42,
    "start_time": "2022-02-08T13:06:56.488Z"
   },
   {
    "duration": 386,
    "start_time": "2022-02-08T13:09:34.966Z"
   },
   {
    "duration": 380,
    "start_time": "2022-02-08T13:10:13.886Z"
   },
   {
    "duration": 38,
    "start_time": "2022-02-08T13:10:38.998Z"
   },
   {
    "duration": 385,
    "start_time": "2022-02-08T13:11:52.060Z"
   },
   {
    "duration": 33,
    "start_time": "2022-02-08T13:12:02.235Z"
   },
   {
    "duration": 119,
    "start_time": "2022-02-08T13:12:39.622Z"
   },
   {
    "duration": 31,
    "start_time": "2022-02-08T13:13:17.439Z"
   },
   {
    "duration": 402,
    "start_time": "2022-02-08T13:13:47.296Z"
   },
   {
    "duration": 641,
    "start_time": "2022-02-08T13:15:29.802Z"
   },
   {
    "duration": 583,
    "start_time": "2022-02-08T13:16:37.233Z"
   },
   {
    "duration": 371,
    "start_time": "2022-02-08T13:17:12.691Z"
   },
   {
    "duration": 278,
    "start_time": "2022-02-08T13:17:26.065Z"
   },
   {
    "duration": 23,
    "start_time": "2022-02-08T13:17:36.660Z"
   },
   {
    "duration": 28,
    "start_time": "2022-02-08T13:18:35.785Z"
   },
   {
    "duration": 7083,
    "start_time": "2022-02-08T13:19:16.407Z"
   },
   {
    "duration": 365,
    "start_time": "2022-02-08T13:23:09.148Z"
   },
   {
    "duration": 296,
    "start_time": "2022-02-08T13:23:35.814Z"
   },
   {
    "duration": 318,
    "start_time": "2022-02-08T13:25:10.780Z"
   },
   {
    "duration": 515,
    "start_time": "2022-02-08T13:25:32.941Z"
   },
   {
    "duration": 346,
    "start_time": "2022-02-08T13:25:47.603Z"
   },
   {
    "duration": 328,
    "start_time": "2022-02-08T13:26:12.470Z"
   },
   {
    "duration": 304,
    "start_time": "2022-02-08T13:26:22.433Z"
   },
   {
    "duration": 309,
    "start_time": "2022-02-08T13:26:50.673Z"
   },
   {
    "duration": 114,
    "start_time": "2022-02-08T13:28:14.304Z"
   },
   {
    "duration": 334,
    "start_time": "2022-02-08T13:28:25.577Z"
   },
   {
    "duration": 111,
    "start_time": "2022-02-08T13:28:40.169Z"
   },
   {
    "duration": 340,
    "start_time": "2022-02-08T13:28:47.362Z"
   },
   {
    "duration": 8318,
    "start_time": "2022-02-08T13:29:10.754Z"
   },
   {
    "duration": 8306,
    "start_time": "2022-02-08T13:29:40.976Z"
   },
   {
    "duration": 584,
    "start_time": "2022-02-08T13:30:18.559Z"
   },
   {
    "duration": 627,
    "start_time": "2022-02-08T13:32:24.252Z"
   },
   {
    "duration": 144,
    "start_time": "2022-02-08T13:32:39.208Z"
   },
   {
    "duration": 822,
    "start_time": "2022-02-08T13:35:07.784Z"
   },
   {
    "duration": 852,
    "start_time": "2022-02-08T13:35:49.224Z"
   },
   {
    "duration": 330,
    "start_time": "2022-02-08T13:36:01.817Z"
   },
   {
    "duration": 152,
    "start_time": "2022-02-08T13:36:19.359Z"
   },
   {
    "duration": 764,
    "start_time": "2022-02-08T13:36:36.502Z"
   },
   {
    "duration": 316,
    "start_time": "2022-02-08T13:37:03.139Z"
   },
   {
    "duration": 624,
    "start_time": "2022-02-08T13:37:10.430Z"
   },
   {
    "duration": 379,
    "start_time": "2022-02-08T13:38:09.361Z"
   },
   {
    "duration": 764,
    "start_time": "2022-02-08T13:39:32.402Z"
   },
   {
    "duration": 99,
    "start_time": "2022-02-08T13:40:07.347Z"
   },
   {
    "duration": 754,
    "start_time": "2022-02-08T13:40:38.765Z"
   },
   {
    "duration": 94,
    "start_time": "2022-02-08T13:41:08.955Z"
   },
   {
    "duration": 730,
    "start_time": "2022-02-08T13:41:16.720Z"
   },
   {
    "duration": 162,
    "start_time": "2022-02-08T13:41:31.387Z"
   },
   {
    "duration": 996,
    "start_time": "2022-02-08T13:41:44.759Z"
   },
   {
    "duration": 615,
    "start_time": "2022-02-08T13:42:45.611Z"
   },
   {
    "duration": 635,
    "start_time": "2022-02-08T13:44:06.043Z"
   },
   {
    "duration": 562,
    "start_time": "2022-02-08T13:44:34.777Z"
   },
   {
    "duration": 93,
    "start_time": "2022-02-08T13:45:02.399Z"
   },
   {
    "duration": 620,
    "start_time": "2022-02-08T13:45:08.006Z"
   },
   {
    "duration": 296,
    "start_time": "2022-02-08T13:45:28.289Z"
   },
   {
    "duration": 1447,
    "start_time": "2022-02-08T13:45:44.940Z"
   },
   {
    "duration": 445,
    "start_time": "2022-02-08T13:46:44.136Z"
   },
   {
    "duration": 300,
    "start_time": "2022-02-08T13:47:11.077Z"
   },
   {
    "duration": 386,
    "start_time": "2022-02-08T13:48:00.451Z"
   },
   {
    "duration": 313,
    "start_time": "2022-02-08T13:48:11.644Z"
   },
   {
    "duration": 318,
    "start_time": "2022-02-08T13:48:40.980Z"
   },
   {
    "duration": 330,
    "start_time": "2022-02-08T13:49:52.965Z"
   },
   {
    "duration": 19,
    "start_time": "2022-02-08T13:50:22.195Z"
   },
   {
    "duration": 338,
    "start_time": "2022-02-08T13:51:05.190Z"
   },
   {
    "duration": 330,
    "start_time": "2022-02-08T13:51:38.176Z"
   },
   {
    "duration": 42,
    "start_time": "2022-02-08T13:52:28.357Z"
   },
   {
    "duration": 3,
    "start_time": "2022-02-08T13:52:58.807Z"
   },
   {
    "duration": 311,
    "start_time": "2022-02-08T13:54:19.148Z"
   },
   {
    "duration": 436,
    "start_time": "2022-02-08T13:54:26.045Z"
   },
   {
    "duration": 331,
    "start_time": "2022-02-08T13:55:16.107Z"
   },
   {
    "duration": 371,
    "start_time": "2022-02-08T13:55:31.066Z"
   },
   {
    "duration": 344,
    "start_time": "2022-02-08T13:56:12.887Z"
   },
   {
    "duration": 10,
    "start_time": "2022-02-08T13:59:42.757Z"
   },
   {
    "duration": 363,
    "start_time": "2022-02-08T14:00:04.993Z"
   },
   {
    "duration": 18,
    "start_time": "2022-02-08T14:00:13.361Z"
   },
   {
    "duration": 91,
    "start_time": "2022-02-08T14:00:36.144Z"
   },
   {
    "duration": 193,
    "start_time": "2022-02-08T14:01:36.945Z"
   },
   {
    "duration": 8,
    "start_time": "2022-02-08T14:03:55.475Z"
   },
   {
    "duration": 302,
    "start_time": "2022-02-08T14:05:49.786Z"
   },
   {
    "duration": 14,
    "start_time": "2022-02-08T14:06:07.108Z"
   },
   {
    "duration": 13,
    "start_time": "2022-02-08T14:06:58.475Z"
   },
   {
    "duration": 39,
    "start_time": "2022-02-08T14:07:16.908Z"
   },
   {
    "duration": 63,
    "start_time": "2022-02-08T14:07:59.732Z"
   },
   {
    "duration": 301,
    "start_time": "2022-02-08T14:17:49.968Z"
   },
   {
    "duration": 322,
    "start_time": "2022-02-08T14:17:58.474Z"
   },
   {
    "duration": 50,
    "start_time": "2022-02-08T14:18:53.163Z"
   },
   {
    "duration": 868,
    "start_time": "2022-02-08T15:26:18.923Z"
   },
   {
    "duration": 7,
    "start_time": "2022-02-08T15:26:19.793Z"
   },
   {
    "duration": 26,
    "start_time": "2022-02-08T15:26:19.803Z"
   },
   {
    "duration": 99,
    "start_time": "2022-02-08T15:26:19.831Z"
   },
   {
    "duration": 194,
    "start_time": "2022-02-08T15:26:19.741Z"
   },
   {
    "duration": 186,
    "start_time": "2022-02-08T15:26:19.750Z"
   },
   {
    "duration": 185,
    "start_time": "2022-02-08T15:26:19.752Z"
   },
   {
    "duration": 185,
    "start_time": "2022-02-08T15:26:19.754Z"
   },
   {
    "duration": 185,
    "start_time": "2022-02-08T15:26:19.756Z"
   },
   {
    "duration": 184,
    "start_time": "2022-02-08T15:26:19.758Z"
   },
   {
    "duration": 180,
    "start_time": "2022-02-08T15:26:19.763Z"
   },
   {
    "duration": 172,
    "start_time": "2022-02-08T15:26:19.773Z"
   },
   {
    "duration": 170,
    "start_time": "2022-02-08T15:26:19.776Z"
   },
   {
    "duration": 167,
    "start_time": "2022-02-08T15:26:19.780Z"
   },
   {
    "duration": 165,
    "start_time": "2022-02-08T15:26:19.784Z"
   },
   {
    "duration": 164,
    "start_time": "2022-02-08T15:26:19.786Z"
   },
   {
    "duration": 164,
    "start_time": "2022-02-08T15:26:19.788Z"
   },
   {
    "duration": 163,
    "start_time": "2022-02-08T15:26:19.790Z"
   },
   {
    "duration": 162,
    "start_time": "2022-02-08T15:26:19.792Z"
   },
   {
    "duration": 162,
    "start_time": "2022-02-08T15:26:19.794Z"
   },
   {
    "duration": 162,
    "start_time": "2022-02-08T15:26:19.795Z"
   },
   {
    "duration": 161,
    "start_time": "2022-02-08T15:26:19.797Z"
   },
   {
    "duration": 145,
    "start_time": "2022-02-08T15:26:19.815Z"
   },
   {
    "duration": 141,
    "start_time": "2022-02-08T15:26:19.820Z"
   },
   {
    "duration": 139,
    "start_time": "2022-02-08T15:26:19.823Z"
   },
   {
    "duration": 138,
    "start_time": "2022-02-08T15:26:19.826Z"
   },
   {
    "duration": 137,
    "start_time": "2022-02-08T15:26:19.828Z"
   },
   {
    "duration": 136,
    "start_time": "2022-02-08T15:26:19.830Z"
   },
   {
    "duration": 137,
    "start_time": "2022-02-08T15:26:19.831Z"
   },
   {
    "duration": 136,
    "start_time": "2022-02-08T15:26:19.833Z"
   },
   {
    "duration": 135,
    "start_time": "2022-02-08T15:26:19.835Z"
   },
   {
    "duration": 186,
    "start_time": "2022-02-08T15:26:19.837Z"
   },
   {
    "duration": 179,
    "start_time": "2022-02-08T15:26:19.846Z"
   },
   {
    "duration": 176,
    "start_time": "2022-02-08T15:26:19.850Z"
   },
   {
    "duration": 172,
    "start_time": "2022-02-08T15:26:19.855Z"
   },
   {
    "duration": 167,
    "start_time": "2022-02-08T15:26:19.862Z"
   },
   {
    "duration": 167,
    "start_time": "2022-02-08T15:26:19.863Z"
   },
   {
    "duration": 166,
    "start_time": "2022-02-08T15:26:19.865Z"
   },
   {
    "duration": 165,
    "start_time": "2022-02-08T15:26:19.867Z"
   },
   {
    "duration": 165,
    "start_time": "2022-02-08T15:26:19.869Z"
   },
   {
    "duration": 162,
    "start_time": "2022-02-08T15:26:19.873Z"
   },
   {
    "duration": 162,
    "start_time": "2022-02-08T15:26:19.875Z"
   },
   {
    "duration": 162,
    "start_time": "2022-02-08T15:26:19.876Z"
   },
   {
    "duration": 75,
    "start_time": "2022-02-08T15:29:22.717Z"
   },
   {
    "duration": 930,
    "start_time": "2022-02-08T15:38:21.188Z"
   },
   {
    "duration": 8,
    "start_time": "2022-02-08T15:38:22.124Z"
   },
   {
    "duration": 15,
    "start_time": "2022-02-08T15:38:22.135Z"
   },
   {
    "duration": 102,
    "start_time": "2022-02-08T15:38:22.153Z"
   },
   {
    "duration": 400,
    "start_time": "2022-02-08T15:38:22.259Z"
   },
   {
    "duration": 149,
    "start_time": "2022-02-08T15:38:22.514Z"
   },
   {
    "duration": 138,
    "start_time": "2022-02-08T15:38:22.526Z"
   },
   {
    "duration": 131,
    "start_time": "2022-02-08T15:38:22.535Z"
   },
   {
    "duration": 124,
    "start_time": "2022-02-08T15:38:22.544Z"
   },
   {
    "duration": 117,
    "start_time": "2022-02-08T15:38:22.552Z"
   },
   {
    "duration": 109,
    "start_time": "2022-02-08T15:38:22.561Z"
   },
   {
    "duration": 105,
    "start_time": "2022-02-08T15:38:22.567Z"
   },
   {
    "duration": 97,
    "start_time": "2022-02-08T15:38:22.576Z"
   },
   {
    "duration": 93,
    "start_time": "2022-02-08T15:38:22.581Z"
   },
   {
    "duration": 90,
    "start_time": "2022-02-08T15:38:22.585Z"
   },
   {
    "duration": 87,
    "start_time": "2022-02-08T15:38:22.589Z"
   },
   {
    "duration": 84,
    "start_time": "2022-02-08T15:38:22.594Z"
   },
   {
    "duration": 78,
    "start_time": "2022-02-08T15:38:22.601Z"
   },
   {
    "duration": 72,
    "start_time": "2022-02-08T15:38:22.608Z"
   },
   {
    "duration": 66,
    "start_time": "2022-02-08T15:38:22.615Z"
   },
   {
    "duration": 63,
    "start_time": "2022-02-08T15:38:22.620Z"
   },
   {
    "duration": 50,
    "start_time": "2022-02-08T15:38:22.634Z"
   },
   {
    "duration": 39,
    "start_time": "2022-02-08T15:38:22.646Z"
   },
   {
    "duration": 35,
    "start_time": "2022-02-08T15:38:22.652Z"
   },
   {
    "duration": 27,
    "start_time": "2022-02-08T15:38:22.661Z"
   },
   {
    "duration": 24,
    "start_time": "2022-02-08T15:38:22.665Z"
   },
   {
    "duration": 21,
    "start_time": "2022-02-08T15:38:22.670Z"
   },
   {
    "duration": 16,
    "start_time": "2022-02-08T15:38:22.677Z"
   },
   {
    "duration": 14,
    "start_time": "2022-02-08T15:38:22.680Z"
   },
   {
    "duration": 10,
    "start_time": "2022-02-08T15:38:22.685Z"
   },
   {
    "duration": 8,
    "start_time": "2022-02-08T15:38:22.689Z"
   },
   {
    "duration": 6,
    "start_time": "2022-02-08T15:38:22.692Z"
   },
   {
    "duration": 28,
    "start_time": "2022-02-08T15:38:22.695Z"
   },
   {
    "duration": 24,
    "start_time": "2022-02-08T15:38:22.700Z"
   },
   {
    "duration": 24,
    "start_time": "2022-02-08T15:38:22.702Z"
   },
   {
    "duration": 20,
    "start_time": "2022-02-08T15:38:22.708Z"
   },
   {
    "duration": 18,
    "start_time": "2022-02-08T15:38:22.711Z"
   },
   {
    "duration": 15,
    "start_time": "2022-02-08T15:38:22.715Z"
   },
   {
    "duration": 13,
    "start_time": "2022-02-08T15:38:22.719Z"
   },
   {
    "duration": 11,
    "start_time": "2022-02-08T15:38:22.722Z"
   },
   {
    "duration": 10,
    "start_time": "2022-02-08T15:38:22.725Z"
   },
   {
    "duration": 8,
    "start_time": "2022-02-08T15:38:22.728Z"
   },
   {
    "duration": 7,
    "start_time": "2022-02-08T15:38:22.731Z"
   },
   {
    "duration": 4,
    "start_time": "2022-02-08T15:38:22.735Z"
   },
   {
    "duration": 285,
    "start_time": "2022-02-08T15:44:19.074Z"
   },
   {
    "duration": 94,
    "start_time": "2022-02-08T15:45:27.739Z"
   },
   {
    "duration": 289,
    "start_time": "2022-02-08T15:46:44.715Z"
   },
   {
    "duration": 886,
    "start_time": "2022-02-08T15:48:27.896Z"
   },
   {
    "duration": 6,
    "start_time": "2022-02-08T15:48:28.785Z"
   },
   {
    "duration": 30,
    "start_time": "2022-02-08T15:48:28.795Z"
   },
   {
    "duration": 69,
    "start_time": "2022-02-08T15:48:28.827Z"
   },
   {
    "duration": 28,
    "start_time": "2022-02-08T15:48:28.898Z"
   },
   {
    "duration": 11,
    "start_time": "2022-02-08T15:48:28.928Z"
   },
   {
    "duration": 85,
    "start_time": "2022-02-08T15:48:28.942Z"
   },
   {
    "duration": 215,
    "start_time": "2022-02-08T15:48:28.816Z"
   },
   {
    "duration": 212,
    "start_time": "2022-02-08T15:48:28.820Z"
   },
   {
    "duration": 212,
    "start_time": "2022-02-08T15:48:28.822Z"
   },
   {
    "duration": 211,
    "start_time": "2022-02-08T15:48:28.824Z"
   },
   {
    "duration": 212,
    "start_time": "2022-02-08T15:48:28.825Z"
   },
   {
    "duration": 211,
    "start_time": "2022-02-08T15:48:28.827Z"
   },
   {
    "duration": 211,
    "start_time": "2022-02-08T15:48:28.829Z"
   },
   {
    "duration": 212,
    "start_time": "2022-02-08T15:48:28.830Z"
   },
   {
    "duration": 204,
    "start_time": "2022-02-08T15:48:28.839Z"
   },
   {
    "duration": 187,
    "start_time": "2022-02-08T15:48:28.858Z"
   },
   {
    "duration": 186,
    "start_time": "2022-02-08T15:48:28.861Z"
   },
   {
    "duration": 184,
    "start_time": "2022-02-08T15:48:28.864Z"
   },
   {
    "duration": 184,
    "start_time": "2022-02-08T15:48:28.866Z"
   },
   {
    "duration": 185,
    "start_time": "2022-02-08T15:48:28.867Z"
   },
   {
    "duration": 184,
    "start_time": "2022-02-08T15:48:28.869Z"
   },
   {
    "duration": 185,
    "start_time": "2022-02-08T15:48:28.870Z"
   },
   {
    "duration": 184,
    "start_time": "2022-02-08T15:48:28.872Z"
   },
   {
    "duration": 184,
    "start_time": "2022-02-08T15:48:28.873Z"
   },
   {
    "duration": 184,
    "start_time": "2022-02-08T15:48:28.875Z"
   },
   {
    "duration": 155,
    "start_time": "2022-02-08T15:48:28.905Z"
   },
   {
    "duration": 150,
    "start_time": "2022-02-08T15:48:28.912Z"
   },
   {
    "duration": 147,
    "start_time": "2022-02-08T15:48:28.916Z"
   },
   {
    "duration": 144,
    "start_time": "2022-02-08T15:48:28.920Z"
   },
   {
    "duration": 143,
    "start_time": "2022-02-08T15:48:28.923Z"
   },
   {
    "duration": 140,
    "start_time": "2022-02-08T15:48:28.927Z"
   },
   {
    "duration": 194,
    "start_time": "2022-02-08T15:48:28.929Z"
   },
   {
    "duration": 178,
    "start_time": "2022-02-08T15:48:28.946Z"
   },
   {
    "duration": 178,
    "start_time": "2022-02-08T15:48:28.948Z"
   },
   {
    "duration": 178,
    "start_time": "2022-02-08T15:48:28.950Z"
   },
   {
    "duration": 172,
    "start_time": "2022-02-08T15:48:28.957Z"
   },
   {
    "duration": 171,
    "start_time": "2022-02-08T15:48:28.960Z"
   },
   {
    "duration": 166,
    "start_time": "2022-02-08T15:48:28.966Z"
   },
   {
    "duration": 166,
    "start_time": "2022-02-08T15:48:28.967Z"
   },
   {
    "duration": 162,
    "start_time": "2022-02-08T15:48:28.972Z"
   },
   {
    "duration": 160,
    "start_time": "2022-02-08T15:48:28.975Z"
   },
   {
    "duration": 160,
    "start_time": "2022-02-08T15:48:28.977Z"
   },
   {
    "duration": 159,
    "start_time": "2022-02-08T15:48:28.979Z"
   },
   {
    "duration": 14,
    "start_time": "2022-02-08T15:57:28.112Z"
   },
   {
    "duration": 21,
    "start_time": "2022-02-08T15:57:31.416Z"
   },
   {
    "duration": 71,
    "start_time": "2022-02-08T15:57:49.737Z"
   },
   {
    "duration": 851,
    "start_time": "2022-02-08T15:59:56.072Z"
   },
   {
    "duration": 10,
    "start_time": "2022-02-08T15:59:56.926Z"
   },
   {
    "duration": 14,
    "start_time": "2022-02-08T15:59:56.940Z"
   },
   {
    "duration": 104,
    "start_time": "2022-02-08T15:59:56.958Z"
   },
   {
    "duration": 11,
    "start_time": "2022-02-08T15:59:57.065Z"
   },
   {
    "duration": 15,
    "start_time": "2022-02-08T15:59:57.079Z"
   },
   {
    "duration": 4357,
    "start_time": "2022-02-08T15:59:57.124Z"
   },
   {
    "duration": 4227,
    "start_time": "2022-02-08T16:00:01.487Z"
   },
   {
    "duration": 10,
    "start_time": "2022-02-08T16:00:05.717Z"
   },
   {
    "duration": 16,
    "start_time": "2022-02-08T16:00:05.730Z"
   },
   {
    "duration": 31,
    "start_time": "2022-02-08T16:00:05.748Z"
   },
   {
    "duration": 72,
    "start_time": "2022-02-08T16:00:05.782Z"
   },
   {
    "duration": 69,
    "start_time": "2022-02-08T16:00:05.857Z"
   },
   {
    "duration": 122,
    "start_time": "2022-02-08T16:00:05.929Z"
   },
   {
    "duration": 107,
    "start_time": "2022-02-08T16:00:06.053Z"
   },
   {
    "duration": 1685,
    "start_time": "2022-02-08T16:00:06.164Z"
   },
   {
    "duration": 724,
    "start_time": "2022-02-08T16:00:07.852Z"
   },
   {
    "duration": 30,
    "start_time": "2022-02-08T16:00:08.578Z"
   },
   {
    "duration": 433,
    "start_time": "2022-02-08T16:00:08.623Z"
   },
   {
    "duration": 220,
    "start_time": "2022-02-08T16:00:09.059Z"
   },
   {
    "duration": 327,
    "start_time": "2022-02-08T16:00:09.281Z"
   },
   {
    "duration": 256,
    "start_time": "2022-02-08T16:00:09.611Z"
   },
   {
    "duration": 311,
    "start_time": "2022-02-08T16:00:09.872Z"
   },
   {
    "duration": 300,
    "start_time": "2022-02-08T16:00:10.186Z"
   },
   {
    "duration": 319,
    "start_time": "2022-02-08T16:00:10.489Z"
   },
   {
    "duration": 307,
    "start_time": "2022-02-08T16:00:10.810Z"
   },
   {
    "duration": 315,
    "start_time": "2022-02-08T16:00:11.123Z"
   },
   {
    "duration": 370,
    "start_time": "2022-02-08T16:00:11.441Z"
   },
   {
    "duration": 224,
    "start_time": "2022-02-08T16:00:11.822Z"
   },
   {
    "duration": 223,
    "start_time": "2022-02-08T16:00:12.048Z"
   },
   {
    "duration": 32,
    "start_time": "2022-02-08T16:00:12.274Z"
   },
   {
    "duration": 32,
    "start_time": "2022-02-08T16:00:12.309Z"
   },
   {
    "duration": 761,
    "start_time": "2022-02-08T16:00:12.344Z"
   },
   {
    "duration": 29,
    "start_time": "2022-02-08T16:00:13.107Z"
   },
   {
    "duration": 50,
    "start_time": "2022-02-08T16:00:13.139Z"
   },
   {
    "duration": 13,
    "start_time": "2022-02-08T16:00:13.224Z"
   },
   {
    "duration": 36,
    "start_time": "2022-02-08T16:00:13.240Z"
   },
   {
    "duration": 56,
    "start_time": "2022-02-08T16:00:13.278Z"
   },
   {
    "duration": 17,
    "start_time": "2022-02-08T16:00:13.337Z"
   },
   {
    "duration": 356,
    "start_time": "2022-02-08T16:00:13.358Z"
   },
   {
    "duration": 191,
    "start_time": "2022-02-08T16:00:13.717Z"
   },
   {
    "duration": 46,
    "start_time": "2022-02-08T16:00:13.911Z"
   },
   {
    "duration": 297,
    "start_time": "2022-02-08T16:00:13.960Z"
   },
   {
    "duration": 13,
    "start_time": "2022-02-08T16:05:30.245Z"
   },
   {
    "duration": 448,
    "start_time": "2022-02-08T16:07:19.089Z"
   },
   {
    "duration": 7,
    "start_time": "2022-02-08T16:07:25.165Z"
   },
   {
    "duration": 52,
    "start_time": "2022-02-08T16:08:45.382Z"
   },
   {
    "duration": 43,
    "start_time": "2022-02-08T16:09:02.009Z"
   },
   {
    "duration": 30,
    "start_time": "2022-02-08T16:09:48.108Z"
   },
   {
    "duration": 388,
    "start_time": "2022-02-08T16:13:19.184Z"
   },
   {
    "duration": 209,
    "start_time": "2022-02-08T16:14:12.640Z"
   },
   {
    "duration": 246,
    "start_time": "2022-02-08T16:14:27.301Z"
   },
   {
    "duration": 231,
    "start_time": "2022-02-08T16:14:43.916Z"
   },
   {
    "duration": 237,
    "start_time": "2022-02-08T16:14:51.793Z"
   },
   {
    "duration": 15,
    "start_time": "2022-02-08T16:16:06.547Z"
   },
   {
    "duration": 13,
    "start_time": "2022-02-08T16:16:20.509Z"
   },
   {
    "duration": 11,
    "start_time": "2022-02-08T16:32:36.009Z"
   },
   {
    "duration": 27,
    "start_time": "2022-02-08T16:32:36.204Z"
   },
   {
    "duration": 863,
    "start_time": "2022-02-08T16:40:21.912Z"
   },
   {
    "duration": 7,
    "start_time": "2022-02-08T16:40:22.778Z"
   },
   {
    "duration": 19,
    "start_time": "2022-02-08T16:40:22.788Z"
   },
   {
    "duration": 72,
    "start_time": "2022-02-08T16:40:22.824Z"
   },
   {
    "duration": 27,
    "start_time": "2022-02-08T16:40:22.898Z"
   },
   {
    "duration": 16,
    "start_time": "2022-02-08T16:40:22.927Z"
   },
   {
    "duration": 4405,
    "start_time": "2022-02-08T16:40:22.945Z"
   },
   {
    "duration": 4225,
    "start_time": "2022-02-08T16:40:27.353Z"
   },
   {
    "duration": 8,
    "start_time": "2022-02-08T16:40:31.581Z"
   },
   {
    "duration": 35,
    "start_time": "2022-02-08T16:40:31.592Z"
   },
   {
    "duration": 30,
    "start_time": "2022-02-08T16:40:31.630Z"
   },
   {
    "duration": 85,
    "start_time": "2022-02-08T16:40:31.664Z"
   },
   {
    "duration": 41,
    "start_time": "2022-02-08T16:40:31.751Z"
   },
   {
    "duration": 954,
    "start_time": "2022-02-08T16:40:31.794Z"
   },
   {
    "duration": 829,
    "start_time": "2022-02-08T16:40:32.750Z"
   },
   {
    "duration": 44,
    "start_time": "2022-02-08T16:40:33.582Z"
   },
   {
    "duration": 445,
    "start_time": "2022-02-08T16:40:33.629Z"
   },
   {
    "duration": 236,
    "start_time": "2022-02-08T16:40:34.077Z"
   },
   {
    "duration": 318,
    "start_time": "2022-02-08T16:40:34.324Z"
   },
   {
    "duration": 243,
    "start_time": "2022-02-08T16:40:34.645Z"
   },
   {
    "duration": 301,
    "start_time": "2022-02-08T16:40:34.890Z"
   },
   {
    "duration": 311,
    "start_time": "2022-02-08T16:40:35.193Z"
   },
   {
    "duration": 341,
    "start_time": "2022-02-08T16:40:35.508Z"
   },
   {
    "duration": 317,
    "start_time": "2022-02-08T16:40:35.852Z"
   },
   {
    "duration": 313,
    "start_time": "2022-02-08T16:40:36.171Z"
   },
   {
    "duration": 387,
    "start_time": "2022-02-08T16:40:36.486Z"
   },
   {
    "duration": 255,
    "start_time": "2022-02-08T16:40:36.876Z"
   },
   {
    "duration": 32,
    "start_time": "2022-02-08T16:40:37.134Z"
   },
   {
    "duration": 20,
    "start_time": "2022-02-08T16:40:37.169Z"
   },
   {
    "duration": 759,
    "start_time": "2022-02-08T16:40:37.191Z"
   },
   {
    "duration": 52,
    "start_time": "2022-02-08T16:40:37.953Z"
   },
   {
    "duration": 12,
    "start_time": "2022-02-08T16:40:38.024Z"
   },
   {
    "duration": 27,
    "start_time": "2022-02-08T16:40:38.039Z"
   },
   {
    "duration": 374,
    "start_time": "2022-02-08T16:40:38.069Z"
   },
   {
    "duration": 37,
    "start_time": "2022-02-08T16:40:38.445Z"
   },
   {
    "duration": 909,
    "start_time": "2022-02-08T16:57:00.336Z"
   },
   {
    "duration": 8,
    "start_time": "2022-02-08T16:57:01.249Z"
   },
   {
    "duration": 19,
    "start_time": "2022-02-08T16:57:01.261Z"
   },
   {
    "duration": 99,
    "start_time": "2022-02-08T16:57:01.284Z"
   },
   {
    "duration": 14,
    "start_time": "2022-02-08T16:57:01.386Z"
   },
   {
    "duration": 19,
    "start_time": "2022-02-08T16:57:01.424Z"
   },
   {
    "duration": 4647,
    "start_time": "2022-02-08T16:57:01.445Z"
   },
   {
    "duration": 4002,
    "start_time": "2022-02-08T16:57:06.095Z"
   },
   {
    "duration": 7,
    "start_time": "2022-02-08T16:57:10.100Z"
   },
   {
    "duration": 19,
    "start_time": "2022-02-08T16:57:10.110Z"
   },
   {
    "duration": 27,
    "start_time": "2022-02-08T16:57:10.131Z"
   },
   {
    "duration": 82,
    "start_time": "2022-02-08T16:57:10.160Z"
   },
   {
    "duration": 30,
    "start_time": "2022-02-08T16:57:10.244Z"
   },
   {
    "duration": 940,
    "start_time": "2022-02-08T16:57:10.276Z"
   },
   {
    "duration": 730,
    "start_time": "2022-02-08T16:57:11.218Z"
   },
   {
    "duration": 31,
    "start_time": "2022-02-08T16:57:11.950Z"
   },
   {
    "duration": 468,
    "start_time": "2022-02-08T16:57:11.984Z"
   },
   {
    "duration": 220,
    "start_time": "2022-02-08T16:57:12.455Z"
   },
   {
    "duration": 326,
    "start_time": "2022-02-08T16:57:12.678Z"
   },
   {
    "duration": 240,
    "start_time": "2022-02-08T16:57:13.007Z"
   },
   {
    "duration": 306,
    "start_time": "2022-02-08T16:57:13.249Z"
   },
   {
    "duration": 329,
    "start_time": "2022-02-08T16:57:13.557Z"
   },
   {
    "duration": 356,
    "start_time": "2022-02-08T16:57:13.890Z"
   },
   {
    "duration": 340,
    "start_time": "2022-02-08T16:57:14.249Z"
   },
   {
    "duration": 339,
    "start_time": "2022-02-08T16:57:14.592Z"
   },
   {
    "duration": 410,
    "start_time": "2022-02-08T16:57:14.935Z"
   },
   {
    "duration": 225,
    "start_time": "2022-02-08T16:57:15.348Z"
   },
   {
    "duration": 47,
    "start_time": "2022-02-08T16:57:15.576Z"
   },
   {
    "duration": 20,
    "start_time": "2022-02-08T16:57:15.626Z"
   },
   {
    "duration": 753,
    "start_time": "2022-02-08T16:57:15.649Z"
   },
   {
    "duration": 55,
    "start_time": "2022-02-08T16:57:16.405Z"
   },
   {
    "duration": 10,
    "start_time": "2022-02-08T16:57:16.463Z"
   },
   {
    "duration": 49,
    "start_time": "2022-02-08T16:57:16.476Z"
   },
   {
    "duration": 348,
    "start_time": "2022-02-08T16:57:16.528Z"
   },
   {
    "duration": 47,
    "start_time": "2022-02-08T16:57:16.879Z"
   },
   {
    "duration": 331,
    "start_time": "2022-02-19T10:24:03.100Z"
   },
   {
    "duration": 634,
    "start_time": "2022-02-19T10:24:14.147Z"
   },
   {
    "duration": 85,
    "start_time": "2022-02-19T10:24:14.783Z"
   },
   {
    "duration": 5,
    "start_time": "2022-02-19T10:24:14.869Z"
   },
   {
    "duration": 10,
    "start_time": "2022-02-19T10:24:14.876Z"
   },
   {
    "duration": 51,
    "start_time": "2022-02-19T10:24:14.887Z"
   },
   {
    "duration": 7,
    "start_time": "2022-02-19T10:24:14.940Z"
   },
   {
    "duration": 10,
    "start_time": "2022-02-19T10:24:14.948Z"
   },
   {
    "duration": 2725,
    "start_time": "2022-02-19T10:24:14.959Z"
   },
   {
    "duration": 2504,
    "start_time": "2022-02-19T10:24:17.686Z"
   },
   {
    "duration": 5,
    "start_time": "2022-02-19T10:24:20.192Z"
   },
   {
    "duration": 7,
    "start_time": "2022-02-19T10:24:20.199Z"
   },
   {
    "duration": 31,
    "start_time": "2022-02-19T10:24:20.207Z"
   },
   {
    "duration": 33,
    "start_time": "2022-02-19T10:24:20.240Z"
   },
   {
    "duration": 20,
    "start_time": "2022-02-19T10:24:20.275Z"
   },
   {
    "duration": 525,
    "start_time": "2022-02-19T10:24:20.296Z"
   },
   {
    "duration": 446,
    "start_time": "2022-02-19T10:24:20.823Z"
   },
   {
    "duration": 18,
    "start_time": "2022-02-19T10:24:21.271Z"
   },
   {
    "duration": 187,
    "start_time": "2022-02-19T10:24:21.290Z"
   },
   {
    "duration": 128,
    "start_time": "2022-02-19T10:24:21.478Z"
   },
   {
    "duration": 184,
    "start_time": "2022-02-19T10:24:21.608Z"
   },
   {
    "duration": 130,
    "start_time": "2022-02-19T10:24:21.794Z"
   },
   {
    "duration": 177,
    "start_time": "2022-02-19T10:24:21.926Z"
   },
   {
    "duration": 183,
    "start_time": "2022-02-19T10:24:22.105Z"
   },
   {
    "duration": 180,
    "start_time": "2022-02-19T10:24:22.289Z"
   },
   {
    "duration": 175,
    "start_time": "2022-02-19T10:24:22.471Z"
   },
   {
    "duration": 169,
    "start_time": "2022-02-19T10:24:22.648Z"
   },
   {
    "duration": 250,
    "start_time": "2022-02-19T10:24:22.821Z"
   },
   {
    "duration": 137,
    "start_time": "2022-02-19T10:24:23.073Z"
   },
   {
    "duration": 29,
    "start_time": "2022-02-19T10:24:23.211Z"
   },
   {
    "duration": 13,
    "start_time": "2022-02-19T10:24:23.242Z"
   },
   {
    "duration": 519,
    "start_time": "2022-02-19T10:24:23.257Z"
   },
   {
    "duration": 32,
    "start_time": "2022-02-19T10:24:23.778Z"
   },
   {
    "duration": 21,
    "start_time": "2022-02-19T10:24:23.812Z"
   },
   {
    "duration": 15,
    "start_time": "2022-02-19T10:24:23.834Z"
   },
   {
    "duration": 210,
    "start_time": "2022-02-19T10:24:23.851Z"
   },
   {
    "duration": 21,
    "start_time": "2022-02-19T10:24:24.063Z"
   },
   {
    "duration": 58,
    "start_time": "2022-02-19T10:32:01.670Z"
   },
   {
    "duration": 633,
    "start_time": "2022-02-19T10:42:54.288Z"
   },
   {
    "duration": 84,
    "start_time": "2022-02-19T10:42:54.923Z"
   },
   {
    "duration": 4,
    "start_time": "2022-02-19T10:42:55.009Z"
   },
   {
    "duration": 17,
    "start_time": "2022-02-19T10:42:55.015Z"
   },
   {
    "duration": 43,
    "start_time": "2022-02-19T10:42:55.033Z"
   },
   {
    "duration": 7,
    "start_time": "2022-02-19T10:42:55.078Z"
   },
   {
    "duration": 14,
    "start_time": "2022-02-19T10:42:55.087Z"
   },
   {
    "duration": 2846,
    "start_time": "2022-02-19T10:42:55.103Z"
   },
   {
    "duration": 2496,
    "start_time": "2022-02-19T10:42:57.952Z"
   },
   {
    "duration": 373,
    "start_time": "2022-02-19T10:43:00.450Z"
   },
   {
    "duration": -228,
    "start_time": "2022-02-19T10:43:01.053Z"
   },
   {
    "duration": -237,
    "start_time": "2022-02-19T10:43:01.063Z"
   },
   {
    "duration": -246,
    "start_time": "2022-02-19T10:43:01.072Z"
   },
   {
    "duration": -253,
    "start_time": "2022-02-19T10:43:01.080Z"
   },
   {
    "duration": -259,
    "start_time": "2022-02-19T10:43:01.087Z"
   },
   {
    "duration": -267,
    "start_time": "2022-02-19T10:43:01.096Z"
   },
   {
    "duration": -273,
    "start_time": "2022-02-19T10:43:01.103Z"
   },
   {
    "duration": -279,
    "start_time": "2022-02-19T10:43:01.110Z"
   },
   {
    "duration": -283,
    "start_time": "2022-02-19T10:43:01.115Z"
   },
   {
    "duration": -286,
    "start_time": "2022-02-19T10:43:01.119Z"
   },
   {
    "duration": -289,
    "start_time": "2022-02-19T10:43:01.123Z"
   },
   {
    "duration": -293,
    "start_time": "2022-02-19T10:43:01.127Z"
   },
   {
    "duration": -294,
    "start_time": "2022-02-19T10:43:01.130Z"
   },
   {
    "duration": -296,
    "start_time": "2022-02-19T10:43:01.133Z"
   },
   {
    "duration": -303,
    "start_time": "2022-02-19T10:43:01.141Z"
   },
   {
    "duration": -307,
    "start_time": "2022-02-19T10:43:01.145Z"
   },
   {
    "duration": -309,
    "start_time": "2022-02-19T10:43:01.148Z"
   },
   {
    "duration": -311,
    "start_time": "2022-02-19T10:43:01.151Z"
   },
   {
    "duration": -312,
    "start_time": "2022-02-19T10:43:01.153Z"
   },
   {
    "duration": -314,
    "start_time": "2022-02-19T10:43:01.156Z"
   },
   {
    "duration": -315,
    "start_time": "2022-02-19T10:43:01.158Z"
   },
   {
    "duration": -316,
    "start_time": "2022-02-19T10:43:01.161Z"
   },
   {
    "duration": -319,
    "start_time": "2022-02-19T10:43:01.164Z"
   },
   {
    "duration": -320,
    "start_time": "2022-02-19T10:43:01.166Z"
   },
   {
    "duration": -322,
    "start_time": "2022-02-19T10:43:01.169Z"
   },
   {
    "duration": -324,
    "start_time": "2022-02-19T10:43:01.172Z"
   },
   {
    "duration": -325,
    "start_time": "2022-02-19T10:43:01.174Z"
   },
   {
    "duration": 556,
    "start_time": "2022-02-19T10:45:01.150Z"
   },
   {
    "duration": 996,
    "start_time": "2022-02-19T11:40:16.336Z"
   },
   {
    "duration": 472,
    "start_time": "2022-02-19T11:40:31.044Z"
   },
   {
    "duration": 501,
    "start_time": "2022-02-19T11:41:20.594Z"
   },
   {
    "duration": 516,
    "start_time": "2022-02-19T11:51:41.603Z"
   },
   {
    "duration": 531,
    "start_time": "2022-02-19T11:52:33.313Z"
   },
   {
    "duration": 689,
    "start_time": "2022-02-19T11:56:37.998Z"
   },
   {
    "duration": 87,
    "start_time": "2022-02-19T11:56:38.689Z"
   },
   {
    "duration": 4,
    "start_time": "2022-02-19T11:56:38.778Z"
   },
   {
    "duration": 11,
    "start_time": "2022-02-19T11:56:38.784Z"
   },
   {
    "duration": 59,
    "start_time": "2022-02-19T11:56:38.796Z"
   },
   {
    "duration": 7,
    "start_time": "2022-02-19T11:56:38.857Z"
   },
   {
    "duration": 11,
    "start_time": "2022-02-19T11:56:38.866Z"
   },
   {
    "duration": 2775,
    "start_time": "2022-02-19T11:56:38.879Z"
   },
   {
    "duration": 2526,
    "start_time": "2022-02-19T11:56:41.656Z"
   },
   {
    "duration": 534,
    "start_time": "2022-02-19T11:56:44.183Z"
   },
   {
    "duration": 12,
    "start_time": "2022-02-19T11:56:44.719Z"
   },
   {
    "duration": 32,
    "start_time": "2022-02-19T11:56:44.733Z"
   },
   {
    "duration": 36,
    "start_time": "2022-02-19T11:56:44.767Z"
   },
   {
    "duration": 56,
    "start_time": "2022-02-19T11:56:44.805Z"
   },
   {
    "duration": 18,
    "start_time": "2022-02-19T11:56:44.863Z"
   },
   {
    "duration": 531,
    "start_time": "2022-02-19T11:56:44.883Z"
   },
   {
    "duration": 458,
    "start_time": "2022-02-19T11:56:45.416Z"
   },
   {
    "duration": 18,
    "start_time": "2022-02-19T11:56:45.876Z"
   },
   {
    "duration": 186,
    "start_time": "2022-02-19T11:56:45.895Z"
   },
   {
    "duration": 129,
    "start_time": "2022-02-19T11:56:46.083Z"
   },
   {
    "duration": 183,
    "start_time": "2022-02-19T11:56:46.214Z"
   },
   {
    "duration": 127,
    "start_time": "2022-02-19T11:56:46.399Z"
   },
   {
    "duration": 170,
    "start_time": "2022-02-19T11:56:46.532Z"
   },
   {
    "duration": 172,
    "start_time": "2022-02-19T11:56:46.704Z"
   },
   {
    "duration": 180,
    "start_time": "2022-02-19T11:56:46.878Z"
   },
   {
    "duration": 171,
    "start_time": "2022-02-19T11:56:47.060Z"
   },
   {
    "duration": 175,
    "start_time": "2022-02-19T11:56:47.233Z"
   },
   {
    "duration": 223,
    "start_time": "2022-02-19T11:56:47.410Z"
   },
   {
    "duration": 130,
    "start_time": "2022-02-19T11:56:47.635Z"
   },
   {
    "duration": 20,
    "start_time": "2022-02-19T11:56:47.766Z"
   },
   {
    "duration": 12,
    "start_time": "2022-02-19T11:56:47.787Z"
   },
   {
    "duration": 486,
    "start_time": "2022-02-19T11:56:47.800Z"
   },
   {
    "duration": 30,
    "start_time": "2022-02-19T11:56:48.288Z"
   },
   {
    "duration": 8,
    "start_time": "2022-02-19T11:56:48.332Z"
   },
   {
    "duration": 16,
    "start_time": "2022-02-19T11:56:48.342Z"
   },
   {
    "duration": 215,
    "start_time": "2022-02-19T11:56:48.360Z"
   },
   {
    "duration": 21,
    "start_time": "2022-02-19T11:56:48.578Z"
   },
   {
    "duration": 2341,
    "start_time": "2022-02-19T12:00:45.467Z"
   },
   {
    "duration": 107,
    "start_time": "2022-02-19T12:01:17.870Z"
   },
   {
    "duration": 504,
    "start_time": "2022-02-19T12:01:34.127Z"
   },
   {
    "duration": 511,
    "start_time": "2022-02-19T12:02:47.507Z"
   },
   {
    "duration": 582,
    "start_time": "2022-02-19T12:02:59.488Z"
   },
   {
    "duration": 616,
    "start_time": "2022-02-19T12:03:23.983Z"
   },
   {
    "duration": 100,
    "start_time": "2022-02-19T12:03:24.600Z"
   },
   {
    "duration": 5,
    "start_time": "2022-02-19T12:03:24.702Z"
   },
   {
    "duration": 9,
    "start_time": "2022-02-19T12:03:24.709Z"
   },
   {
    "duration": 52,
    "start_time": "2022-02-19T12:03:24.720Z"
   },
   {
    "duration": 7,
    "start_time": "2022-02-19T12:03:24.773Z"
   },
   {
    "duration": 10,
    "start_time": "2022-02-19T12:03:24.782Z"
   },
   {
    "duration": 2779,
    "start_time": "2022-02-19T12:03:24.794Z"
   },
   {
    "duration": 2502,
    "start_time": "2022-02-19T12:03:27.575Z"
   },
   {
    "duration": 518,
    "start_time": "2022-02-19T12:03:30.079Z"
   },
   {
    "duration": 5,
    "start_time": "2022-02-19T12:03:30.598Z"
   },
   {
    "duration": 31,
    "start_time": "2022-02-19T12:03:30.605Z"
   },
   {
    "duration": 25,
    "start_time": "2022-02-19T12:03:30.638Z"
   },
   {
    "duration": 36,
    "start_time": "2022-02-19T12:03:30.665Z"
   },
   {
    "duration": 19,
    "start_time": "2022-02-19T12:03:30.703Z"
   },
   {
    "duration": 551,
    "start_time": "2022-02-19T12:03:30.724Z"
   },
   {
    "duration": 457,
    "start_time": "2022-02-19T12:03:31.276Z"
   },
   {
    "duration": 18,
    "start_time": "2022-02-19T12:03:31.735Z"
   },
   {
    "duration": 181,
    "start_time": "2022-02-19T12:03:31.755Z"
   },
   {
    "duration": 133,
    "start_time": "2022-02-19T12:03:31.938Z"
   },
   {
    "duration": 184,
    "start_time": "2022-02-19T12:03:32.072Z"
   },
   {
    "duration": 139,
    "start_time": "2022-02-19T12:03:32.257Z"
   },
   {
    "duration": 170,
    "start_time": "2022-02-19T12:03:32.399Z"
   },
   {
    "duration": 168,
    "start_time": "2022-02-19T12:03:32.570Z"
   },
   {
    "duration": 177,
    "start_time": "2022-02-19T12:03:32.740Z"
   },
   {
    "duration": 163,
    "start_time": "2022-02-19T12:03:32.918Z"
   },
   {
    "duration": 162,
    "start_time": "2022-02-19T12:03:33.083Z"
   },
   {
    "duration": 217,
    "start_time": "2022-02-19T12:03:33.246Z"
   },
   {
    "duration": 128,
    "start_time": "2022-02-19T12:03:33.465Z"
   },
   {
    "duration": 20,
    "start_time": "2022-02-19T12:03:33.594Z"
   },
   {
    "duration": 20,
    "start_time": "2022-02-19T12:03:33.616Z"
   },
   {
    "duration": 533,
    "start_time": "2022-02-19T12:03:33.638Z"
   },
   {
    "duration": 32,
    "start_time": "2022-02-19T12:03:34.172Z"
   },
   {
    "duration": 27,
    "start_time": "2022-02-19T12:03:34.205Z"
   },
   {
    "duration": 16,
    "start_time": "2022-02-19T12:03:34.234Z"
   },
   {
    "duration": 203,
    "start_time": "2022-02-19T12:03:34.251Z"
   },
   {
    "duration": 21,
    "start_time": "2022-02-19T12:03:34.455Z"
   },
   {
    "duration": 671,
    "start_time": "2022-02-19T12:04:40.119Z"
   },
   {
    "duration": 86,
    "start_time": "2022-02-19T12:04:40.792Z"
   },
   {
    "duration": 5,
    "start_time": "2022-02-19T12:04:40.880Z"
   },
   {
    "duration": 10,
    "start_time": "2022-02-19T12:04:40.887Z"
   },
   {
    "duration": 64,
    "start_time": "2022-02-19T12:04:40.899Z"
   },
   {
    "duration": 6,
    "start_time": "2022-02-19T12:04:40.965Z"
   },
   {
    "duration": 10,
    "start_time": "2022-02-19T12:04:40.973Z"
   },
   {
    "duration": 2828,
    "start_time": "2022-02-19T12:04:40.986Z"
   },
   {
    "duration": 2658,
    "start_time": "2022-02-19T12:04:43.817Z"
   },
   {
    "duration": 513,
    "start_time": "2022-02-19T12:04:46.477Z"
   },
   {
    "duration": 7,
    "start_time": "2022-02-19T12:04:46.992Z"
   },
   {
    "duration": 8,
    "start_time": "2022-02-19T12:04:47.000Z"
   },
   {
    "duration": 36,
    "start_time": "2022-02-19T12:04:47.010Z"
   },
   {
    "duration": 36,
    "start_time": "2022-02-19T12:04:47.047Z"
   },
   {
    "duration": 18,
    "start_time": "2022-02-19T12:04:47.085Z"
   },
   {
    "duration": 546,
    "start_time": "2022-02-19T12:04:47.105Z"
   },
   {
    "duration": 465,
    "start_time": "2022-02-19T12:04:47.653Z"
   },
   {
    "duration": 23,
    "start_time": "2022-02-19T12:04:48.120Z"
   },
   {
    "duration": 179,
    "start_time": "2022-02-19T12:04:48.144Z"
   },
   {
    "duration": 124,
    "start_time": "2022-02-19T12:04:48.324Z"
   },
   {
    "duration": 182,
    "start_time": "2022-02-19T12:04:48.450Z"
   },
   {
    "duration": 139,
    "start_time": "2022-02-19T12:04:48.634Z"
   },
   {
    "duration": 173,
    "start_time": "2022-02-19T12:04:48.776Z"
   },
   {
    "duration": 182,
    "start_time": "2022-02-19T12:04:48.951Z"
   },
   {
    "duration": 184,
    "start_time": "2022-02-19T12:04:49.135Z"
   },
   {
    "duration": 189,
    "start_time": "2022-02-19T12:04:49.321Z"
   },
   {
    "duration": 171,
    "start_time": "2022-02-19T12:04:49.512Z"
   },
   {
    "duration": 231,
    "start_time": "2022-02-19T12:04:49.684Z"
   },
   {
    "duration": 127,
    "start_time": "2022-02-19T12:04:49.917Z"
   },
   {
    "duration": 22,
    "start_time": "2022-02-19T12:04:50.045Z"
   },
   {
    "duration": 13,
    "start_time": "2022-02-19T12:04:50.069Z"
   },
   {
    "duration": 499,
    "start_time": "2022-02-19T12:04:50.083Z"
   },
   {
    "duration": 30,
    "start_time": "2022-02-19T12:04:50.583Z"
   },
   {
    "duration": 17,
    "start_time": "2022-02-19T12:04:50.615Z"
   },
   {
    "duration": 16,
    "start_time": "2022-02-19T12:04:50.634Z"
   },
   {
    "duration": 209,
    "start_time": "2022-02-19T12:04:50.652Z"
   },
   {
    "duration": 21,
    "start_time": "2022-02-19T12:04:50.862Z"
   },
   {
    "duration": 2,
    "start_time": "2022-02-19T12:05:22.703Z"
   },
   {
    "duration": 77,
    "start_time": "2022-02-19T12:05:22.709Z"
   },
   {
    "duration": 4,
    "start_time": "2022-02-19T12:05:22.788Z"
   },
   {
    "duration": 9,
    "start_time": "2022-02-19T12:05:22.794Z"
   },
   {
    "duration": 61,
    "start_time": "2022-02-19T12:05:22.805Z"
   },
   {
    "duration": 7,
    "start_time": "2022-02-19T12:05:22.868Z"
   },
   {
    "duration": 10,
    "start_time": "2022-02-19T12:05:22.876Z"
   },
   {
    "duration": 2849,
    "start_time": "2022-02-19T12:05:22.887Z"
   },
   {
    "duration": 2598,
    "start_time": "2022-02-19T12:05:25.737Z"
   },
   {
    "duration": 477,
    "start_time": "2022-02-19T12:05:28.895Z"
   },
   {
    "duration": 505,
    "start_time": "2022-02-19T12:06:33.934Z"
   },
   {
    "duration": 508,
    "start_time": "2022-02-19T12:17:00.699Z"
   },
   {
    "duration": 480,
    "start_time": "2022-02-19T12:20:06.835Z"
   },
   {
    "duration": 494,
    "start_time": "2022-02-19T12:31:01.431Z"
   },
   {
    "duration": 368,
    "start_time": "2022-02-19T12:32:33.228Z"
   },
   {
    "duration": 771,
    "start_time": "2022-02-19T12:35:45.382Z"
   },
   {
    "duration": 687,
    "start_time": "2022-02-19T12:35:53.970Z"
   },
   {
    "duration": 86,
    "start_time": "2022-02-19T12:35:54.659Z"
   },
   {
    "duration": 4,
    "start_time": "2022-02-19T12:35:54.747Z"
   },
   {
    "duration": 20,
    "start_time": "2022-02-19T12:35:54.753Z"
   },
   {
    "duration": 55,
    "start_time": "2022-02-19T12:35:54.774Z"
   },
   {
    "duration": 9,
    "start_time": "2022-02-19T12:35:54.830Z"
   },
   {
    "duration": 25,
    "start_time": "2022-02-19T12:35:54.841Z"
   },
   {
    "duration": 2808,
    "start_time": "2022-02-19T12:35:54.868Z"
   },
   {
    "duration": 2618,
    "start_time": "2022-02-19T12:35:57.678Z"
   },
   {
    "duration": 524,
    "start_time": "2022-02-19T12:36:00.298Z"
   },
   {
    "duration": 2139,
    "start_time": "2022-02-19T12:36:00.824Z"
   },
   {
    "duration": -70,
    "start_time": "2022-02-19T12:36:03.036Z"
   },
   {
    "duration": -76,
    "start_time": "2022-02-19T12:36:03.043Z"
   },
   {
    "duration": -79,
    "start_time": "2022-02-19T12:36:03.047Z"
   },
   {
    "duration": -84,
    "start_time": "2022-02-19T12:36:03.053Z"
   },
   {
    "duration": -131,
    "start_time": "2022-02-19T12:36:03.101Z"
   },
   {
    "duration": -134,
    "start_time": "2022-02-19T12:36:03.106Z"
   },
   {
    "duration": -137,
    "start_time": "2022-02-19T12:36:03.110Z"
   },
   {
    "duration": -139,
    "start_time": "2022-02-19T12:36:03.113Z"
   },
   {
    "duration": -141,
    "start_time": "2022-02-19T12:36:03.116Z"
   },
   {
    "duration": -144,
    "start_time": "2022-02-19T12:36:03.120Z"
   },
   {
    "duration": -146,
    "start_time": "2022-02-19T12:36:03.123Z"
   },
   {
    "duration": -148,
    "start_time": "2022-02-19T12:36:03.126Z"
   },
   {
    "duration": -150,
    "start_time": "2022-02-19T12:36:03.129Z"
   },
   {
    "duration": -152,
    "start_time": "2022-02-19T12:36:03.132Z"
   },
   {
    "duration": -154,
    "start_time": "2022-02-19T12:36:03.135Z"
   },
   {
    "duration": -157,
    "start_time": "2022-02-19T12:36:03.138Z"
   },
   {
    "duration": -159,
    "start_time": "2022-02-19T12:36:03.141Z"
   },
   {
    "duration": -161,
    "start_time": "2022-02-19T12:36:03.144Z"
   },
   {
    "duration": -163,
    "start_time": "2022-02-19T12:36:03.147Z"
   },
   {
    "duration": -165,
    "start_time": "2022-02-19T12:36:03.150Z"
   },
   {
    "duration": -167,
    "start_time": "2022-02-19T12:36:03.153Z"
   },
   {
    "duration": -171,
    "start_time": "2022-02-19T12:36:03.157Z"
   },
   {
    "duration": -173,
    "start_time": "2022-02-19T12:36:03.160Z"
   },
   {
    "duration": -175,
    "start_time": "2022-02-19T12:36:03.163Z"
   },
   {
    "duration": -177,
    "start_time": "2022-02-19T12:36:03.166Z"
   },
   {
    "duration": -180,
    "start_time": "2022-02-19T12:36:03.169Z"
   },
   {
    "duration": -183,
    "start_time": "2022-02-19T12:36:03.173Z"
   },
   {
    "duration": 348,
    "start_time": "2022-02-19T12:37:47.859Z"
   },
   {
    "duration": 340,
    "start_time": "2022-02-19T12:38:25.479Z"
   },
   {
    "duration": 454,
    "start_time": "2022-02-19T12:39:18.199Z"
   },
   {
    "duration": 379,
    "start_time": "2022-02-19T12:39:30.511Z"
   },
   {
    "duration": 12,
    "start_time": "2022-02-19T12:40:17.542Z"
   },
   {
    "duration": 673,
    "start_time": "2022-02-19T12:40:50.425Z"
   },
   {
    "duration": 83,
    "start_time": "2022-02-19T12:40:51.100Z"
   },
   {
    "duration": 4,
    "start_time": "2022-02-19T12:40:51.185Z"
   },
   {
    "duration": 27,
    "start_time": "2022-02-19T12:40:51.191Z"
   },
   {
    "duration": 55,
    "start_time": "2022-02-19T12:40:51.219Z"
   },
   {
    "duration": 8,
    "start_time": "2022-02-19T12:40:51.276Z"
   },
   {
    "duration": 22,
    "start_time": "2022-02-19T12:40:51.286Z"
   },
   {
    "duration": 2945,
    "start_time": "2022-02-19T12:40:51.310Z"
   },
   {
    "duration": 2565,
    "start_time": "2022-02-19T12:40:54.257Z"
   },
   {
    "duration": 503,
    "start_time": "2022-02-19T12:40:56.824Z"
   },
   {
    "duration": 11,
    "start_time": "2022-02-19T12:40:57.332Z"
   },
   {
    "duration": 15,
    "start_time": "2022-02-19T12:40:57.344Z"
   },
   {
    "duration": 17,
    "start_time": "2022-02-19T12:40:57.360Z"
   },
   {
    "duration": 20,
    "start_time": "2022-02-19T12:40:57.379Z"
   },
   {
    "duration": 36,
    "start_time": "2022-02-19T12:40:57.400Z"
   },
   {
    "duration": 19,
    "start_time": "2022-02-19T12:40:57.437Z"
   },
   {
    "duration": 510,
    "start_time": "2022-02-19T12:40:57.457Z"
   },
   {
    "duration": 439,
    "start_time": "2022-02-19T12:40:57.968Z"
   },
   {
    "duration": 29,
    "start_time": "2022-02-19T12:40:58.409Z"
   },
   {
    "duration": 204,
    "start_time": "2022-02-19T12:40:58.439Z"
   },
   {
    "duration": 136,
    "start_time": "2022-02-19T12:40:58.645Z"
   },
   {
    "duration": 198,
    "start_time": "2022-02-19T12:40:58.783Z"
   },
   {
    "duration": 137,
    "start_time": "2022-02-19T12:40:58.984Z"
   },
   {
    "duration": 180,
    "start_time": "2022-02-19T12:40:59.123Z"
   },
   {
    "duration": 182,
    "start_time": "2022-02-19T12:40:59.305Z"
   },
   {
    "duration": 187,
    "start_time": "2022-02-19T12:40:59.488Z"
   },
   {
    "duration": 171,
    "start_time": "2022-02-19T12:40:59.677Z"
   },
   {
    "duration": 160,
    "start_time": "2022-02-19T12:40:59.849Z"
   },
   {
    "duration": 236,
    "start_time": "2022-02-19T12:41:00.011Z"
   },
   {
    "duration": 131,
    "start_time": "2022-02-19T12:41:00.249Z"
   },
   {
    "duration": 21,
    "start_time": "2022-02-19T12:41:00.382Z"
   },
   {
    "duration": 31,
    "start_time": "2022-02-19T12:41:00.405Z"
   },
   {
    "duration": 521,
    "start_time": "2022-02-19T12:41:00.438Z"
   },
   {
    "duration": 32,
    "start_time": "2022-02-19T12:41:00.961Z"
   },
   {
    "duration": 8,
    "start_time": "2022-02-19T12:41:00.995Z"
   },
   {
    "duration": 40,
    "start_time": "2022-02-19T12:41:01.005Z"
   },
   {
    "duration": 215,
    "start_time": "2022-02-19T12:41:01.047Z"
   },
   {
    "duration": 22,
    "start_time": "2022-02-19T12:41:01.264Z"
   },
   {
    "duration": 32,
    "start_time": "2022-02-19T12:53:03.298Z"
   },
   {
    "duration": 689,
    "start_time": "2022-02-19T12:53:16.128Z"
   },
   {
    "duration": 84,
    "start_time": "2022-02-19T12:53:16.819Z"
   },
   {
    "duration": 5,
    "start_time": "2022-02-19T12:53:16.905Z"
   },
   {
    "duration": 38,
    "start_time": "2022-02-19T12:53:16.911Z"
   },
   {
    "duration": 44,
    "start_time": "2022-02-19T12:53:16.951Z"
   },
   {
    "duration": 9,
    "start_time": "2022-02-19T12:53:16.997Z"
   },
   {
    "duration": 30,
    "start_time": "2022-02-19T12:53:17.007Z"
   },
   {
    "duration": 2713,
    "start_time": "2022-02-19T12:53:17.038Z"
   },
   {
    "duration": 2466,
    "start_time": "2022-02-19T12:53:19.753Z"
   },
   {
    "duration": 507,
    "start_time": "2022-02-19T12:53:22.221Z"
   },
   {
    "duration": 9,
    "start_time": "2022-02-19T12:53:22.730Z"
   },
   {
    "duration": 6,
    "start_time": "2022-02-19T12:53:22.741Z"
   },
   {
    "duration": 8,
    "start_time": "2022-02-19T12:53:22.748Z"
   },
   {
    "duration": 17,
    "start_time": "2022-02-19T12:53:22.757Z"
   },
   {
    "duration": 58,
    "start_time": "2022-02-19T12:53:22.775Z"
   },
   {
    "duration": 18,
    "start_time": "2022-02-19T12:53:22.834Z"
   },
   {
    "duration": 538,
    "start_time": "2022-02-19T12:53:22.853Z"
   },
   {
    "duration": 457,
    "start_time": "2022-02-19T12:53:23.393Z"
   },
   {
    "duration": 17,
    "start_time": "2022-02-19T12:53:23.852Z"
   },
   {
    "duration": 178,
    "start_time": "2022-02-19T12:53:23.871Z"
   },
   {
    "duration": 123,
    "start_time": "2022-02-19T12:53:24.051Z"
   },
   {
    "duration": 182,
    "start_time": "2022-02-19T12:53:24.175Z"
   },
   {
    "duration": 140,
    "start_time": "2022-02-19T12:53:24.358Z"
   },
   {
    "duration": 178,
    "start_time": "2022-02-19T12:53:24.500Z"
   },
   {
    "duration": 179,
    "start_time": "2022-02-19T12:53:24.680Z"
   },
   {
    "duration": 181,
    "start_time": "2022-02-19T12:53:24.860Z"
   },
   {
    "duration": 189,
    "start_time": "2022-02-19T12:53:25.044Z"
   },
   {
    "duration": 174,
    "start_time": "2022-02-19T12:53:25.235Z"
   },
   {
    "duration": 237,
    "start_time": "2022-02-19T12:53:25.411Z"
   },
   {
    "duration": 132,
    "start_time": "2022-02-19T12:53:25.650Z"
   },
   {
    "duration": 23,
    "start_time": "2022-02-19T12:53:25.784Z"
   },
   {
    "duration": 34,
    "start_time": "2022-02-19T12:53:25.808Z"
   },
   {
    "duration": 523,
    "start_time": "2022-02-19T12:53:25.844Z"
   },
   {
    "duration": 35,
    "start_time": "2022-02-19T12:53:26.368Z"
   },
   {
    "duration": 27,
    "start_time": "2022-02-19T12:53:26.405Z"
   },
   {
    "duration": 18,
    "start_time": "2022-02-19T12:53:26.434Z"
   },
   {
    "duration": 213,
    "start_time": "2022-02-19T12:53:26.454Z"
   },
   {
    "duration": 20,
    "start_time": "2022-02-19T12:53:26.668Z"
   },
   {
    "duration": 33,
    "start_time": "2022-02-19T13:24:37.663Z"
   },
   {
    "duration": 3,
    "start_time": "2022-02-19T13:25:10.836Z"
   },
   {
    "duration": 89,
    "start_time": "2022-02-19T13:25:10.841Z"
   },
   {
    "duration": 5,
    "start_time": "2022-02-19T13:25:10.933Z"
   },
   {
    "duration": 28,
    "start_time": "2022-02-19T13:25:10.940Z"
   },
   {
    "duration": 40,
    "start_time": "2022-02-19T13:25:10.970Z"
   },
   {
    "duration": 25,
    "start_time": "2022-02-19T13:25:11.012Z"
   },
   {
    "duration": 11,
    "start_time": "2022-02-19T13:25:11.039Z"
   },
   {
    "duration": 2763,
    "start_time": "2022-02-19T13:25:11.052Z"
   },
   {
    "duration": 2504,
    "start_time": "2022-02-19T13:25:13.817Z"
   },
   {
    "duration": 483,
    "start_time": "2022-02-19T13:25:16.323Z"
   },
   {
    "duration": 8,
    "start_time": "2022-02-19T13:25:16.808Z"
   },
   {
    "duration": 44,
    "start_time": "2022-02-19T13:25:16.818Z"
   },
   {
    "duration": 8,
    "start_time": "2022-02-19T13:25:16.864Z"
   },
   {
    "duration": 33,
    "start_time": "2022-02-19T13:25:16.874Z"
   },
   {
    "duration": 641,
    "start_time": "2022-02-19T13:25:25.876Z"
   },
   {
    "duration": 84,
    "start_time": "2022-02-19T13:25:26.519Z"
   },
   {
    "duration": 4,
    "start_time": "2022-02-19T13:25:26.605Z"
   },
   {
    "duration": 37,
    "start_time": "2022-02-19T13:25:26.611Z"
   },
   {
    "duration": 42,
    "start_time": "2022-02-19T13:25:26.650Z"
   },
   {
    "duration": 7,
    "start_time": "2022-02-19T13:25:26.694Z"
   },
   {
    "duration": 13,
    "start_time": "2022-02-19T13:25:26.702Z"
   },
   {
    "duration": 2818,
    "start_time": "2022-02-19T13:25:26.732Z"
   },
   {
    "duration": 2480,
    "start_time": "2022-02-19T13:25:29.552Z"
   },
   {
    "duration": 482,
    "start_time": "2022-02-19T13:25:32.033Z"
   },
   {
    "duration": 15,
    "start_time": "2022-02-19T13:25:32.516Z"
   },
   {
    "duration": 33,
    "start_time": "2022-02-19T13:25:32.533Z"
   },
   {
    "duration": 6,
    "start_time": "2022-02-19T13:25:32.568Z"
   },
   {
    "duration": 32,
    "start_time": "2022-02-19T13:25:32.576Z"
   },
   {
    "duration": 26,
    "start_time": "2022-02-19T13:25:32.609Z"
   },
   {
    "duration": 16,
    "start_time": "2022-02-19T13:25:32.637Z"
   },
   {
    "duration": 34,
    "start_time": "2022-02-19T13:25:32.655Z"
   },
   {
    "duration": 14,
    "start_time": "2022-02-19T13:25:32.691Z"
   },
   {
    "duration": 508,
    "start_time": "2022-02-19T13:25:32.707Z"
   },
   {
    "duration": 445,
    "start_time": "2022-02-19T13:25:33.217Z"
   },
   {
    "duration": 18,
    "start_time": "2022-02-19T13:25:33.665Z"
   },
   {
    "duration": 180,
    "start_time": "2022-02-19T13:25:33.685Z"
   },
   {
    "duration": 129,
    "start_time": "2022-02-19T13:25:33.867Z"
   },
   {
    "duration": 172,
    "start_time": "2022-02-19T13:25:33.998Z"
   },
   {
    "duration": 131,
    "start_time": "2022-02-19T13:25:34.171Z"
   },
   {
    "duration": 177,
    "start_time": "2022-02-19T13:25:34.304Z"
   },
   {
    "duration": 175,
    "start_time": "2022-02-19T13:25:34.483Z"
   },
   {
    "duration": 176,
    "start_time": "2022-02-19T13:25:34.659Z"
   },
   {
    "duration": 187,
    "start_time": "2022-02-19T13:25:34.837Z"
   },
   {
    "duration": 178,
    "start_time": "2022-02-19T13:25:35.025Z"
   },
   {
    "duration": 231,
    "start_time": "2022-02-19T13:25:35.205Z"
   },
   {
    "duration": 128,
    "start_time": "2022-02-19T13:25:35.438Z"
   },
   {
    "duration": 22,
    "start_time": "2022-02-19T13:25:35.568Z"
   },
   {
    "duration": 13,
    "start_time": "2022-02-19T13:25:35.592Z"
   },
   {
    "duration": 494,
    "start_time": "2022-02-19T13:25:35.631Z"
   },
   {
    "duration": 32,
    "start_time": "2022-02-19T13:25:36.126Z"
   },
   {
    "duration": 7,
    "start_time": "2022-02-19T13:25:36.160Z"
   },
   {
    "duration": 16,
    "start_time": "2022-02-19T13:25:36.168Z"
   },
   {
    "duration": 211,
    "start_time": "2022-02-19T13:25:36.185Z"
   },
   {
    "duration": 20,
    "start_time": "2022-02-19T13:25:36.398Z"
   },
   {
    "duration": 1385,
    "start_time": "2022-02-19T13:28:27.077Z"
   },
   {
    "duration": 731,
    "start_time": "2022-02-19T13:28:42.817Z"
   },
   {
    "duration": 92,
    "start_time": "2022-02-19T13:28:43.550Z"
   },
   {
    "duration": 6,
    "start_time": "2022-02-19T13:28:43.644Z"
   },
   {
    "duration": 38,
    "start_time": "2022-02-19T13:28:43.652Z"
   },
   {
    "duration": 68,
    "start_time": "2022-02-19T13:28:43.692Z"
   },
   {
    "duration": 7,
    "start_time": "2022-02-19T13:28:43.762Z"
   },
   {
    "duration": 10,
    "start_time": "2022-02-19T13:28:43.771Z"
   },
   {
    "duration": 2974,
    "start_time": "2022-02-19T13:28:43.784Z"
   },
   {
    "duration": 2601,
    "start_time": "2022-02-19T13:28:46.760Z"
   },
   {
    "duration": 528,
    "start_time": "2022-02-19T13:28:49.363Z"
   },
   {
    "duration": 71,
    "start_time": "2022-02-19T13:28:49.893Z"
   },
   {
    "duration": 35,
    "start_time": "2022-02-19T13:28:49.966Z"
   },
   {
    "duration": 8,
    "start_time": "2022-02-19T13:28:50.002Z"
   },
   {
    "duration": 460,
    "start_time": "2022-02-19T13:28:50.011Z"
   },
   {
    "duration": 0,
    "start_time": "2022-02-19T13:28:50.473Z"
   },
   {
    "duration": -7,
    "start_time": "2022-02-19T13:28:50.482Z"
   },
   {
    "duration": -14,
    "start_time": "2022-02-19T13:28:50.490Z"
   },
   {
    "duration": -22,
    "start_time": "2022-02-19T13:28:50.499Z"
   },
   {
    "duration": -29,
    "start_time": "2022-02-19T13:28:50.506Z"
   },
   {
    "duration": -35,
    "start_time": "2022-02-19T13:28:50.513Z"
   },
   {
    "duration": -41,
    "start_time": "2022-02-19T13:28:50.520Z"
   },
   {
    "duration": -47,
    "start_time": "2022-02-19T13:28:50.527Z"
   },
   {
    "duration": -54,
    "start_time": "2022-02-19T13:28:50.535Z"
   },
   {
    "duration": -59,
    "start_time": "2022-02-19T13:28:50.541Z"
   },
   {
    "duration": -61,
    "start_time": "2022-02-19T13:28:50.545Z"
   },
   {
    "duration": -76,
    "start_time": "2022-02-19T13:28:50.560Z"
   },
   {
    "duration": -81,
    "start_time": "2022-02-19T13:28:50.566Z"
   },
   {
    "duration": -85,
    "start_time": "2022-02-19T13:28:50.571Z"
   },
   {
    "duration": -89,
    "start_time": "2022-02-19T13:28:50.576Z"
   },
   {
    "duration": -93,
    "start_time": "2022-02-19T13:28:50.581Z"
   },
   {
    "duration": -96,
    "start_time": "2022-02-19T13:28:50.585Z"
   },
   {
    "duration": -100,
    "start_time": "2022-02-19T13:28:50.590Z"
   },
   {
    "duration": -104,
    "start_time": "2022-02-19T13:28:50.595Z"
   },
   {
    "duration": -108,
    "start_time": "2022-02-19T13:28:50.600Z"
   },
   {
    "duration": -112,
    "start_time": "2022-02-19T13:28:50.605Z"
   },
   {
    "duration": -117,
    "start_time": "2022-02-19T13:28:50.611Z"
   },
   {
    "duration": -122,
    "start_time": "2022-02-19T13:28:50.617Z"
   },
   {
    "duration": -125,
    "start_time": "2022-02-19T13:28:50.621Z"
   },
   {
    "duration": -128,
    "start_time": "2022-02-19T13:28:50.625Z"
   },
   {
    "duration": -132,
    "start_time": "2022-02-19T13:28:50.629Z"
   },
   {
    "duration": -135,
    "start_time": "2022-02-19T13:28:50.633Z"
   },
   {
    "duration": 3013,
    "start_time": "2022-02-19T13:29:15.033Z"
   },
   {
    "duration": 1750,
    "start_time": "2022-02-19T13:35:18.974Z"
   },
   {
    "duration": 83,
    "start_time": "2022-02-19T13:35:20.726Z"
   },
   {
    "duration": 5,
    "start_time": "2022-02-19T13:35:20.811Z"
   },
   {
    "duration": 37,
    "start_time": "2022-02-19T13:35:20.818Z"
   },
   {
    "duration": 50,
    "start_time": "2022-02-19T13:35:20.857Z"
   },
   {
    "duration": 24,
    "start_time": "2022-02-19T13:35:20.909Z"
   },
   {
    "duration": 11,
    "start_time": "2022-02-19T13:35:20.934Z"
   },
   {
    "duration": 2800,
    "start_time": "2022-02-19T13:35:20.947Z"
   },
   {
    "duration": 2672,
    "start_time": "2022-02-19T13:35:23.750Z"
   },
   {
    "duration": 526,
    "start_time": "2022-02-19T13:35:26.425Z"
   },
   {
    "duration": 11,
    "start_time": "2022-02-19T13:35:26.952Z"
   },
   {
    "duration": 35,
    "start_time": "2022-02-19T13:35:26.965Z"
   },
   {
    "duration": 2,
    "start_time": "2022-02-19T13:35:27.002Z"
   },
   {
    "duration": 12295,
    "start_time": "2022-02-19T13:35:27.006Z"
   },
   {
    "duration": -158,
    "start_time": "2022-02-19T13:35:39.462Z"
   },
   {
    "duration": -166,
    "start_time": "2022-02-19T13:35:39.471Z"
   },
   {
    "duration": -174,
    "start_time": "2022-02-19T13:35:39.480Z"
   },
   {
    "duration": -183,
    "start_time": "2022-02-19T13:35:39.490Z"
   },
   {
    "duration": -190,
    "start_time": "2022-02-19T13:35:39.498Z"
   },
   {
    "duration": -196,
    "start_time": "2022-02-19T13:35:39.505Z"
   },
   {
    "duration": -202,
    "start_time": "2022-02-19T13:35:39.512Z"
   },
   {
    "duration": -208,
    "start_time": "2022-02-19T13:35:39.519Z"
   },
   {
    "duration": -213,
    "start_time": "2022-02-19T13:35:39.525Z"
   },
   {
    "duration": -219,
    "start_time": "2022-02-19T13:35:39.532Z"
   },
   {
    "duration": -224,
    "start_time": "2022-02-19T13:35:39.538Z"
   },
   {
    "duration": -231,
    "start_time": "2022-02-19T13:35:39.546Z"
   },
   {
    "duration": -243,
    "start_time": "2022-02-19T13:35:39.559Z"
   },
   {
    "duration": -247,
    "start_time": "2022-02-19T13:35:39.564Z"
   },
   {
    "duration": -249,
    "start_time": "2022-02-19T13:35:39.567Z"
   },
   {
    "duration": -252,
    "start_time": "2022-02-19T13:35:39.571Z"
   },
   {
    "duration": -253,
    "start_time": "2022-02-19T13:35:39.573Z"
   },
   {
    "duration": -255,
    "start_time": "2022-02-19T13:35:39.576Z"
   },
   {
    "duration": -257,
    "start_time": "2022-02-19T13:35:39.579Z"
   },
   {
    "duration": -258,
    "start_time": "2022-02-19T13:35:39.581Z"
   },
   {
    "duration": -260,
    "start_time": "2022-02-19T13:35:39.584Z"
   },
   {
    "duration": -261,
    "start_time": "2022-02-19T13:35:39.586Z"
   },
   {
    "duration": -263,
    "start_time": "2022-02-19T13:35:39.589Z"
   },
   {
    "duration": -266,
    "start_time": "2022-02-19T13:35:39.592Z"
   },
   {
    "duration": -266,
    "start_time": "2022-02-19T13:35:39.594Z"
   },
   {
    "duration": -268,
    "start_time": "2022-02-19T13:35:39.597Z"
   },
   {
    "duration": 2204,
    "start_time": "2022-02-19T13:37:18.699Z"
   },
   {
    "duration": 21,
    "start_time": "2022-02-19T13:47:15.086Z"
   },
   {
    "duration": 34,
    "start_time": "2022-02-19T13:50:07.248Z"
   },
   {
    "duration": 673,
    "start_time": "2022-02-19T13:50:17.596Z"
   },
   {
    "duration": 81,
    "start_time": "2022-02-19T13:50:18.270Z"
   },
   {
    "duration": 4,
    "start_time": "2022-02-19T13:50:18.353Z"
   },
   {
    "duration": 28,
    "start_time": "2022-02-19T13:50:18.359Z"
   },
   {
    "duration": 51,
    "start_time": "2022-02-19T13:50:18.388Z"
   },
   {
    "duration": 7,
    "start_time": "2022-02-19T13:50:18.441Z"
   },
   {
    "duration": 9,
    "start_time": "2022-02-19T13:50:18.450Z"
   },
   {
    "duration": 2733,
    "start_time": "2022-02-19T13:50:18.461Z"
   },
   {
    "duration": 2519,
    "start_time": "2022-02-19T13:50:21.196Z"
   },
   {
    "duration": 495,
    "start_time": "2022-02-19T13:50:23.717Z"
   },
   {
    "duration": 18,
    "start_time": "2022-02-19T13:50:24.214Z"
   },
   {
    "duration": 35,
    "start_time": "2022-02-19T13:50:24.233Z"
   },
   {
    "duration": 4,
    "start_time": "2022-02-19T13:50:24.270Z"
   },
   {
    "duration": 59,
    "start_time": "2022-02-19T13:50:24.276Z"
   },
   {
    "duration": 25,
    "start_time": "2022-02-19T13:50:24.337Z"
   },
   {
    "duration": 2333,
    "start_time": "2022-02-19T13:50:24.364Z"
   },
   {
    "duration": -43,
    "start_time": "2022-02-19T13:50:26.743Z"
   },
   {
    "duration": -52,
    "start_time": "2022-02-19T13:50:26.753Z"
   },
   {
    "duration": -59,
    "start_time": "2022-02-19T13:50:26.761Z"
   },
   {
    "duration": -65,
    "start_time": "2022-02-19T13:50:26.768Z"
   },
   {
    "duration": -72,
    "start_time": "2022-02-19T13:50:26.776Z"
   },
   {
    "duration": -77,
    "start_time": "2022-02-19T13:50:26.782Z"
   },
   {
    "duration": -85,
    "start_time": "2022-02-19T13:50:26.791Z"
   },
   {
    "duration": -91,
    "start_time": "2022-02-19T13:50:26.798Z"
   },
   {
    "duration": -96,
    "start_time": "2022-02-19T13:50:26.804Z"
   },
   {
    "duration": -100,
    "start_time": "2022-02-19T13:50:26.809Z"
   },
   {
    "duration": -103,
    "start_time": "2022-02-19T13:50:26.813Z"
   },
   {
    "duration": -106,
    "start_time": "2022-02-19T13:50:26.817Z"
   },
   {
    "duration": -108,
    "start_time": "2022-02-19T13:50:26.820Z"
   },
   {
    "duration": -110,
    "start_time": "2022-02-19T13:50:26.823Z"
   },
   {
    "duration": -113,
    "start_time": "2022-02-19T13:50:26.826Z"
   },
   {
    "duration": -121,
    "start_time": "2022-02-19T13:50:26.835Z"
   },
   {
    "duration": -124,
    "start_time": "2022-02-19T13:50:26.840Z"
   },
   {
    "duration": -127,
    "start_time": "2022-02-19T13:50:26.844Z"
   },
   {
    "duration": -129,
    "start_time": "2022-02-19T13:50:26.846Z"
   },
   {
    "duration": -131,
    "start_time": "2022-02-19T13:50:26.849Z"
   },
   {
    "duration": -133,
    "start_time": "2022-02-19T13:50:26.852Z"
   },
   {
    "duration": -134,
    "start_time": "2022-02-19T13:50:26.854Z"
   },
   {
    "duration": -136,
    "start_time": "2022-02-19T13:50:26.857Z"
   },
   {
    "duration": -138,
    "start_time": "2022-02-19T13:50:26.860Z"
   },
   {
    "duration": -139,
    "start_time": "2022-02-19T13:50:26.862Z"
   },
   {
    "duration": -141,
    "start_time": "2022-02-19T13:50:26.865Z"
   },
   {
    "duration": 4,
    "start_time": "2022-02-19T14:11:09.316Z"
   },
   {
    "duration": 332,
    "start_time": "2022-02-19T14:12:18.893Z"
   },
   {
    "duration": 398,
    "start_time": "2022-02-19T14:12:42.997Z"
   },
   {
    "duration": 22,
    "start_time": "2022-02-19T14:12:57.799Z"
   },
   {
    "duration": 43,
    "start_time": "2022-02-19T14:13:27.551Z"
   },
   {
    "duration": 1244,
    "start_time": "2022-02-19T14:20:19.160Z"
   },
   {
    "duration": 51,
    "start_time": "2022-02-19T14:20:27.696Z"
   },
   {
    "duration": 59,
    "start_time": "2022-02-19T14:21:08.367Z"
   },
   {
    "duration": 687,
    "start_time": "2022-02-19T14:21:19.797Z"
   },
   {
    "duration": 87,
    "start_time": "2022-02-19T14:21:20.486Z"
   },
   {
    "duration": 5,
    "start_time": "2022-02-19T14:21:20.575Z"
   },
   {
    "duration": 33,
    "start_time": "2022-02-19T14:21:20.582Z"
   },
   {
    "duration": 55,
    "start_time": "2022-02-19T14:21:20.617Z"
   },
   {
    "duration": 10,
    "start_time": "2022-02-19T14:21:20.673Z"
   },
   {
    "duration": 10,
    "start_time": "2022-02-19T14:21:20.685Z"
   },
   {
    "duration": 2803,
    "start_time": "2022-02-19T14:21:20.698Z"
   },
   {
    "duration": 2518,
    "start_time": "2022-02-19T14:21:23.503Z"
   },
   {
    "duration": 542,
    "start_time": "2022-02-19T14:21:26.023Z"
   },
   {
    "duration": 10,
    "start_time": "2022-02-19T14:21:26.567Z"
   },
   {
    "duration": 53,
    "start_time": "2022-02-19T14:21:26.579Z"
   },
   {
    "duration": 2,
    "start_time": "2022-02-19T14:21:26.634Z"
   },
   {
    "duration": 75,
    "start_time": "2022-02-19T14:21:26.637Z"
   },
   {
    "duration": 23,
    "start_time": "2022-02-19T14:21:26.714Z"
   },
   {
    "duration": 67,
    "start_time": "2022-02-19T14:21:26.739Z"
   },
   {
    "duration": 57,
    "start_time": "2022-02-19T14:21:26.809Z"
   },
   {
    "duration": 39,
    "start_time": "2022-02-19T14:21:26.868Z"
   },
   {
    "duration": 25,
    "start_time": "2022-02-19T14:21:26.908Z"
   },
   {
    "duration": 562,
    "start_time": "2022-02-19T14:21:26.934Z"
   },
   {
    "duration": 474,
    "start_time": "2022-02-19T14:21:27.498Z"
   },
   {
    "duration": 19,
    "start_time": "2022-02-19T14:21:27.974Z"
   },
   {
    "duration": 179,
    "start_time": "2022-02-19T14:21:27.996Z"
   },
   {
    "duration": 138,
    "start_time": "2022-02-19T14:21:28.177Z"
   },
   {
    "duration": 190,
    "start_time": "2022-02-19T14:21:28.317Z"
   },
   {
    "duration": 143,
    "start_time": "2022-02-19T14:21:28.509Z"
   },
   {
    "duration": 173,
    "start_time": "2022-02-19T14:21:28.654Z"
   },
   {
    "duration": 177,
    "start_time": "2022-02-19T14:21:28.829Z"
   },
   {
    "duration": 216,
    "start_time": "2022-02-19T14:21:29.008Z"
   },
   {
    "duration": 198,
    "start_time": "2022-02-19T14:21:29.226Z"
   },
   {
    "duration": 165,
    "start_time": "2022-02-19T14:21:29.425Z"
   },
   {
    "duration": 241,
    "start_time": "2022-02-19T14:21:29.591Z"
   },
   {
    "duration": 134,
    "start_time": "2022-02-19T14:21:29.834Z"
   },
   {
    "duration": 22,
    "start_time": "2022-02-19T14:21:29.969Z"
   },
   {
    "duration": 13,
    "start_time": "2022-02-19T14:21:29.992Z"
   },
   {
    "duration": 528,
    "start_time": "2022-02-19T14:21:30.007Z"
   },
   {
    "duration": 36,
    "start_time": "2022-02-19T14:21:30.537Z"
   },
   {
    "duration": 7,
    "start_time": "2022-02-19T14:21:30.575Z"
   },
   {
    "duration": 29,
    "start_time": "2022-02-19T14:21:30.584Z"
   },
   {
    "duration": 219,
    "start_time": "2022-02-19T14:21:30.615Z"
   },
   {
    "duration": 22,
    "start_time": "2022-02-19T14:21:30.835Z"
   },
   {
    "duration": 71,
    "start_time": "2022-02-19T14:47:06.825Z"
   },
   {
    "duration": 684,
    "start_time": "2022-02-19T14:49:37.218Z"
   },
   {
    "duration": 89,
    "start_time": "2022-02-19T14:49:37.904Z"
   },
   {
    "duration": 5,
    "start_time": "2022-02-19T14:49:37.996Z"
   },
   {
    "duration": 41,
    "start_time": "2022-02-19T14:49:38.002Z"
   },
   {
    "duration": 55,
    "start_time": "2022-02-19T14:49:38.045Z"
   },
   {
    "duration": 9,
    "start_time": "2022-02-19T14:49:38.101Z"
   },
   {
    "duration": 41,
    "start_time": "2022-02-19T14:49:38.132Z"
   },
   {
    "duration": 2814,
    "start_time": "2022-02-19T14:49:38.174Z"
   },
   {
    "duration": 4091,
    "start_time": "2022-02-19T14:49:40.991Z"
   },
   {
    "duration": 868,
    "start_time": "2022-02-19T14:49:45.085Z"
   },
   {
    "duration": 8,
    "start_time": "2022-02-19T14:49:45.956Z"
   },
   {
    "duration": 12,
    "start_time": "2022-02-19T14:49:45.966Z"
   },
   {
    "duration": 29,
    "start_time": "2022-02-19T14:49:45.980Z"
   },
   {
    "duration": 45,
    "start_time": "2022-02-19T14:49:46.011Z"
   },
   {
    "duration": 18,
    "start_time": "2022-02-19T14:49:46.058Z"
   },
   {
    "duration": 74,
    "start_time": "2022-02-19T14:49:46.078Z"
   },
   {
    "duration": 16,
    "start_time": "2022-02-19T14:49:46.154Z"
   },
   {
    "duration": 504,
    "start_time": "2022-02-19T14:49:46.172Z"
   },
   {
    "duration": 442,
    "start_time": "2022-02-19T14:49:46.678Z"
   },
   {
    "duration": 19,
    "start_time": "2022-02-19T14:49:47.122Z"
   },
   {
    "duration": 175,
    "start_time": "2022-02-19T14:49:47.143Z"
   },
   {
    "duration": 137,
    "start_time": "2022-02-19T14:49:47.319Z"
   },
   {
    "duration": 177,
    "start_time": "2022-02-19T14:49:47.458Z"
   },
   {
    "duration": 138,
    "start_time": "2022-02-19T14:49:47.636Z"
   },
   {
    "duration": 169,
    "start_time": "2022-02-19T14:49:47.776Z"
   },
   {
    "duration": 184,
    "start_time": "2022-02-19T14:49:47.947Z"
   },
   {
    "duration": 179,
    "start_time": "2022-02-19T14:49:48.134Z"
   },
   {
    "duration": 170,
    "start_time": "2022-02-19T14:49:48.314Z"
   },
   {
    "duration": 233,
    "start_time": "2022-02-19T14:49:48.485Z"
   },
   {
    "duration": 200,
    "start_time": "2022-02-19T14:49:48.720Z"
   },
   {
    "duration": 130,
    "start_time": "2022-02-19T14:49:48.921Z"
   },
   {
    "duration": 32,
    "start_time": "2022-02-19T14:49:49.053Z"
   },
   {
    "duration": 18,
    "start_time": "2022-02-19T14:49:49.087Z"
   },
   {
    "duration": 585,
    "start_time": "2022-02-19T14:49:49.106Z"
   },
   {
    "duration": 40,
    "start_time": "2022-02-19T14:49:49.693Z"
   },
   {
    "duration": 8,
    "start_time": "2022-02-19T14:49:49.734Z"
   },
   {
    "duration": 19,
    "start_time": "2022-02-19T14:49:49.744Z"
   },
   {
    "duration": 222,
    "start_time": "2022-02-19T14:49:49.764Z"
   },
   {
    "duration": 21,
    "start_time": "2022-02-19T14:49:49.988Z"
   },
   {
    "duration": 331,
    "start_time": "2022-02-19T20:04:45.798Z"
   },
   {
    "duration": 653,
    "start_time": "2022-02-19T20:04:53.248Z"
   },
   {
    "duration": 90,
    "start_time": "2022-02-19T20:04:53.902Z"
   },
   {
    "duration": 4,
    "start_time": "2022-02-19T20:04:53.994Z"
   },
   {
    "duration": 34,
    "start_time": "2022-02-19T20:04:54.000Z"
   },
   {
    "duration": 43,
    "start_time": "2022-02-19T20:04:54.035Z"
   },
   {
    "duration": 7,
    "start_time": "2022-02-19T20:04:54.080Z"
   },
   {
    "duration": 9,
    "start_time": "2022-02-19T20:04:54.088Z"
   },
   {
    "duration": 2725,
    "start_time": "2022-02-19T20:04:54.099Z"
   },
   {
    "duration": 2523,
    "start_time": "2022-02-19T20:04:56.826Z"
   },
   {
    "duration": 481,
    "start_time": "2022-02-19T20:04:59.351Z"
   },
   {
    "duration": 9,
    "start_time": "2022-02-19T20:04:59.834Z"
   },
   {
    "duration": 10,
    "start_time": "2022-02-19T20:04:59.845Z"
   },
   {
    "duration": 30,
    "start_time": "2022-02-19T20:04:59.856Z"
   },
   {
    "duration": 45,
    "start_time": "2022-02-19T20:04:59.888Z"
   },
   {
    "duration": 6,
    "start_time": "2022-02-19T20:04:59.935Z"
   },
   {
    "duration": 14,
    "start_time": "2022-02-19T20:04:59.943Z"
   },
   {
    "duration": 374,
    "start_time": "2022-02-19T20:04:59.958Z"
   },
   {
    "duration": 13,
    "start_time": "2022-02-19T20:05:00.323Z"
   },
   {
    "duration": 10,
    "start_time": "2022-02-19T20:05:00.327Z"
   },
   {
    "duration": 8,
    "start_time": "2022-02-19T20:05:00.330Z"
   },
   {
    "duration": 7,
    "start_time": "2022-02-19T20:05:00.333Z"
   },
   {
    "duration": 6,
    "start_time": "2022-02-19T20:05:00.335Z"
   },
   {
    "duration": 2,
    "start_time": "2022-02-19T20:05:00.340Z"
   },
   {
    "duration": 0,
    "start_time": "2022-02-19T20:05:00.344Z"
   },
   {
    "duration": -2,
    "start_time": "2022-02-19T20:05:00.347Z"
   },
   {
    "duration": -4,
    "start_time": "2022-02-19T20:05:00.350Z"
   },
   {
    "duration": -6,
    "start_time": "2022-02-19T20:05:00.353Z"
   },
   {
    "duration": -6,
    "start_time": "2022-02-19T20:05:00.355Z"
   },
   {
    "duration": -7,
    "start_time": "2022-02-19T20:05:00.357Z"
   },
   {
    "duration": -9,
    "start_time": "2022-02-19T20:05:00.360Z"
   },
   {
    "duration": -10,
    "start_time": "2022-02-19T20:05:00.363Z"
   },
   {
    "duration": -12,
    "start_time": "2022-02-19T20:05:00.366Z"
   },
   {
    "duration": -13,
    "start_time": "2022-02-19T20:05:00.368Z"
   },
   {
    "duration": -13,
    "start_time": "2022-02-19T20:05:00.370Z"
   },
   {
    "duration": -14,
    "start_time": "2022-02-19T20:05:00.372Z"
   },
   {
    "duration": -15,
    "start_time": "2022-02-19T20:05:00.374Z"
   },
   {
    "duration": -16,
    "start_time": "2022-02-19T20:05:00.377Z"
   },
   {
    "duration": -18,
    "start_time": "2022-02-19T20:05:00.380Z"
   },
   {
    "duration": -19,
    "start_time": "2022-02-19T20:05:00.382Z"
   },
   {
    "duration": -19,
    "start_time": "2022-02-19T20:05:00.384Z"
   },
   {
    "duration": 302,
    "start_time": "2022-02-19T20:07:09.042Z"
   },
   {
    "duration": 665,
    "start_time": "2022-02-19T20:12:30.421Z"
   },
   {
    "duration": 82,
    "start_time": "2022-02-19T20:12:31.087Z"
   },
   {
    "duration": 5,
    "start_time": "2022-02-19T20:12:31.170Z"
   },
   {
    "duration": 29,
    "start_time": "2022-02-19T20:12:31.176Z"
   },
   {
    "duration": 53,
    "start_time": "2022-02-19T20:12:31.207Z"
   },
   {
    "duration": 7,
    "start_time": "2022-02-19T20:12:31.262Z"
   },
   {
    "duration": 10,
    "start_time": "2022-02-19T20:12:31.271Z"
   },
   {
    "duration": 2765,
    "start_time": "2022-02-19T20:12:31.283Z"
   },
   {
    "duration": 2490,
    "start_time": "2022-02-19T20:12:34.050Z"
   },
   {
    "duration": 498,
    "start_time": "2022-02-19T20:12:36.542Z"
   },
   {
    "duration": 10,
    "start_time": "2022-02-19T20:12:37.042Z"
   },
   {
    "duration": 10,
    "start_time": "2022-02-19T20:12:37.054Z"
   },
   {
    "duration": 16,
    "start_time": "2022-02-19T20:12:37.066Z"
   },
   {
    "duration": 59,
    "start_time": "2022-02-19T20:12:37.084Z"
   },
   {
    "duration": 27,
    "start_time": "2022-02-19T20:12:37.144Z"
   },
   {
    "duration": 26,
    "start_time": "2022-02-19T20:12:37.172Z"
   },
   {
    "duration": 4,
    "start_time": "2022-02-19T20:12:37.199Z"
   },
   {
    "duration": 36,
    "start_time": "2022-02-19T20:12:37.204Z"
   },
   {
    "duration": 1990,
    "start_time": "2022-02-19T20:12:37.241Z"
   },
   {
    "duration": 1737,
    "start_time": "2022-02-19T20:12:39.233Z"
   },
   {
    "duration": 18,
    "start_time": "2022-02-19T20:12:40.971Z"
   },
   {
    "duration": 190,
    "start_time": "2022-02-19T20:12:40.991Z"
   },
   {
    "duration": 134,
    "start_time": "2022-02-19T20:12:41.184Z"
   },
   {
    "duration": 233,
    "start_time": "2022-02-19T20:12:41.320Z"
   },
   {
    "duration": 150,
    "start_time": "2022-02-19T20:12:41.555Z"
   },
   {
    "duration": 165,
    "start_time": "2022-02-19T20:12:41.707Z"
   },
   {
    "duration": 179,
    "start_time": "2022-02-19T20:12:41.874Z"
   },
   {
    "duration": 178,
    "start_time": "2022-02-19T20:12:42.055Z"
   },
   {
    "duration": 162,
    "start_time": "2022-02-19T20:12:42.235Z"
   },
   {
    "duration": 172,
    "start_time": "2022-02-19T20:12:42.399Z"
   },
   {
    "duration": 236,
    "start_time": "2022-02-19T20:12:42.572Z"
   },
   {
    "duration": 128,
    "start_time": "2022-02-19T20:12:42.810Z"
   },
   {
    "duration": 20,
    "start_time": "2022-02-19T20:12:42.939Z"
   },
   {
    "duration": 11,
    "start_time": "2022-02-19T20:12:42.961Z"
   },
   {
    "duration": 505,
    "start_time": "2022-02-19T20:12:42.974Z"
   },
   {
    "duration": 27,
    "start_time": "2022-02-19T20:12:43.481Z"
   },
   {
    "duration": 6,
    "start_time": "2022-02-19T20:12:43.510Z"
   },
   {
    "duration": 27,
    "start_time": "2022-02-19T20:12:43.532Z"
   },
   {
    "duration": 190,
    "start_time": "2022-02-19T20:12:43.561Z"
   },
   {
    "duration": 22,
    "start_time": "2022-02-19T20:12:43.752Z"
   },
   {
    "duration": 169,
    "start_time": "2022-02-19T20:24:33.197Z"
   },
   {
    "duration": 658,
    "start_time": "2022-02-19T20:27:52.523Z"
   },
   {
    "duration": 85,
    "start_time": "2022-02-19T20:27:53.183Z"
   },
   {
    "duration": 6,
    "start_time": "2022-02-19T20:27:53.270Z"
   },
   {
    "duration": 32,
    "start_time": "2022-02-19T20:27:53.278Z"
   },
   {
    "duration": 58,
    "start_time": "2022-02-19T20:27:53.312Z"
   },
   {
    "duration": 7,
    "start_time": "2022-02-19T20:27:53.371Z"
   },
   {
    "duration": 12,
    "start_time": "2022-02-19T20:27:53.380Z"
   },
   {
    "duration": 2730,
    "start_time": "2022-02-19T20:27:53.393Z"
   },
   {
    "duration": 2533,
    "start_time": "2022-02-19T20:27:56.126Z"
   },
   {
    "duration": 487,
    "start_time": "2022-02-19T20:27:58.661Z"
   },
   {
    "duration": 11,
    "start_time": "2022-02-19T20:27:59.150Z"
   },
   {
    "duration": 10,
    "start_time": "2022-02-19T20:27:59.163Z"
   },
   {
    "duration": 17,
    "start_time": "2022-02-19T20:27:59.174Z"
   },
   {
    "duration": 55,
    "start_time": "2022-02-19T20:27:59.192Z"
   },
   {
    "duration": 27,
    "start_time": "2022-02-19T20:27:59.249Z"
   },
   {
    "duration": 25,
    "start_time": "2022-02-19T20:27:59.278Z"
   },
   {
    "duration": 5,
    "start_time": "2022-02-19T20:27:59.305Z"
   },
   {
    "duration": 32,
    "start_time": "2022-02-19T20:27:59.312Z"
   },
   {
    "duration": 1880,
    "start_time": "2022-02-19T20:27:59.345Z"
   },
   {
    "duration": 1856,
    "start_time": "2022-02-19T20:28:01.227Z"
   },
   {
    "duration": 19,
    "start_time": "2022-02-19T20:28:03.084Z"
   },
   {
    "duration": 172,
    "start_time": "2022-02-19T20:28:03.105Z"
   },
   {
    "duration": 126,
    "start_time": "2022-02-19T20:28:03.278Z"
   },
   {
    "duration": 177,
    "start_time": "2022-02-19T20:28:03.405Z"
   },
   {
    "duration": 131,
    "start_time": "2022-02-19T20:28:03.584Z"
   },
   {
    "duration": 164,
    "start_time": "2022-02-19T20:28:03.717Z"
   },
   {
    "duration": 171,
    "start_time": "2022-02-19T20:28:03.884Z"
   },
   {
    "duration": 170,
    "start_time": "2022-02-19T20:28:04.057Z"
   },
   {
    "duration": 169,
    "start_time": "2022-02-19T20:28:04.228Z"
   },
   {
    "duration": 167,
    "start_time": "2022-02-19T20:28:04.398Z"
   },
   {
    "duration": 236,
    "start_time": "2022-02-19T20:28:04.566Z"
   },
   {
    "duration": 130,
    "start_time": "2022-02-19T20:28:04.804Z"
   },
   {
    "duration": 21,
    "start_time": "2022-02-19T20:28:04.935Z"
   },
   {
    "duration": 13,
    "start_time": "2022-02-19T20:28:04.957Z"
   },
   {
    "duration": 479,
    "start_time": "2022-02-19T20:28:04.971Z"
   },
   {
    "duration": 29,
    "start_time": "2022-02-19T20:28:05.452Z"
   },
   {
    "duration": 7,
    "start_time": "2022-02-19T20:28:05.482Z"
   },
   {
    "duration": 17,
    "start_time": "2022-02-19T20:28:05.490Z"
   },
   {
    "duration": 210,
    "start_time": "2022-02-19T20:28:05.533Z"
   },
   {
    "duration": 24,
    "start_time": "2022-02-19T20:28:05.745Z"
   },
   {
    "duration": 291,
    "start_time": "2022-02-19T20:34:42.053Z"
   },
   {
    "duration": 164,
    "start_time": "2022-02-19T20:34:50.967Z"
   },
   {
    "duration": 178,
    "start_time": "2022-02-19T20:44:01.239Z"
   },
   {
    "duration": 171,
    "start_time": "2022-02-19T20:44:36.923Z"
   },
   {
    "duration": 175,
    "start_time": "2022-02-19T20:44:45.843Z"
   },
   {
    "duration": 177,
    "start_time": "2022-02-19T20:52:11.028Z"
   },
   {
    "duration": 638,
    "start_time": "2022-02-19T20:53:34.663Z"
   },
   {
    "duration": 87,
    "start_time": "2022-02-19T20:53:35.303Z"
   },
   {
    "duration": 5,
    "start_time": "2022-02-19T20:53:35.394Z"
   },
   {
    "duration": 38,
    "start_time": "2022-02-19T20:53:35.400Z"
   },
   {
    "duration": 42,
    "start_time": "2022-02-19T20:53:35.440Z"
   },
   {
    "duration": 6,
    "start_time": "2022-02-19T20:53:35.484Z"
   },
   {
    "duration": 9,
    "start_time": "2022-02-19T20:53:35.492Z"
   },
   {
    "duration": 2791,
    "start_time": "2022-02-19T20:53:35.503Z"
   },
   {
    "duration": 2478,
    "start_time": "2022-02-19T20:53:38.296Z"
   },
   {
    "duration": 491,
    "start_time": "2022-02-19T20:53:40.776Z"
   },
   {
    "duration": 10,
    "start_time": "2022-02-19T20:53:41.269Z"
   },
   {
    "duration": 19,
    "start_time": "2022-02-19T20:53:41.280Z"
   },
   {
    "duration": 17,
    "start_time": "2022-02-19T20:53:41.301Z"
   },
   {
    "duration": 48,
    "start_time": "2022-02-19T20:53:41.320Z"
   },
   {
    "duration": 31,
    "start_time": "2022-02-19T20:53:41.369Z"
   },
   {
    "duration": 43,
    "start_time": "2022-02-19T20:53:41.402Z"
   },
   {
    "duration": 6,
    "start_time": "2022-02-19T20:53:41.446Z"
   },
   {
    "duration": 35,
    "start_time": "2022-02-19T20:53:41.453Z"
   },
   {
    "duration": 1813,
    "start_time": "2022-02-19T20:53:41.489Z"
   },
   {
    "duration": 1772,
    "start_time": "2022-02-19T20:53:43.303Z"
   },
   {
    "duration": 19,
    "start_time": "2022-02-19T20:53:45.076Z"
   },
   {
    "duration": 203,
    "start_time": "2022-02-19T20:53:45.097Z"
   },
   {
    "duration": 138,
    "start_time": "2022-02-19T20:53:45.302Z"
   },
   {
    "duration": 193,
    "start_time": "2022-02-19T20:53:45.441Z"
   },
   {
    "duration": 141,
    "start_time": "2022-02-19T20:53:45.636Z"
   },
   {
    "duration": 180,
    "start_time": "2022-02-19T20:53:45.780Z"
   },
   {
    "duration": 193,
    "start_time": "2022-02-19T20:53:45.962Z"
   },
   {
    "duration": 197,
    "start_time": "2022-02-19T20:53:46.156Z"
   },
   {
    "duration": 183,
    "start_time": "2022-02-19T20:53:46.355Z"
   },
   {
    "duration": 181,
    "start_time": "2022-02-19T20:53:46.540Z"
   },
   {
    "duration": 244,
    "start_time": "2022-02-19T20:53:46.723Z"
   },
   {
    "duration": 126,
    "start_time": "2022-02-19T20:53:46.969Z"
   },
   {
    "duration": 19,
    "start_time": "2022-02-19T20:53:47.097Z"
   },
   {
    "duration": 23,
    "start_time": "2022-02-19T20:53:47.117Z"
   },
   {
    "duration": 509,
    "start_time": "2022-02-19T20:53:47.141Z"
   },
   {
    "duration": 29,
    "start_time": "2022-02-19T20:53:47.651Z"
   },
   {
    "duration": 6,
    "start_time": "2022-02-19T20:53:47.682Z"
   },
   {
    "duration": 18,
    "start_time": "2022-02-19T20:53:47.689Z"
   },
   {
    "duration": 210,
    "start_time": "2022-02-19T20:53:47.708Z"
   },
   {
    "duration": 29,
    "start_time": "2022-02-19T20:53:47.920Z"
   },
   {
    "duration": 56,
    "start_time": "2022-02-19T20:55:12.166Z"
   },
   {
    "duration": 54,
    "start_time": "2022-02-19T20:55:21.350Z"
   },
   {
    "duration": 183,
    "start_time": "2022-02-19T21:04:14.688Z"
   },
   {
    "duration": 623,
    "start_time": "2022-02-19T21:04:28.857Z"
   },
   {
    "duration": 96,
    "start_time": "2022-02-19T21:04:29.482Z"
   },
   {
    "duration": 5,
    "start_time": "2022-02-19T21:04:29.580Z"
   },
   {
    "duration": 30,
    "start_time": "2022-02-19T21:04:29.586Z"
   },
   {
    "duration": 56,
    "start_time": "2022-02-19T21:04:29.618Z"
   },
   {
    "duration": 7,
    "start_time": "2022-02-19T21:04:29.675Z"
   },
   {
    "duration": 9,
    "start_time": "2022-02-19T21:04:29.684Z"
   },
   {
    "duration": 2867,
    "start_time": "2022-02-19T21:04:29.695Z"
   },
   {
    "duration": 2506,
    "start_time": "2022-02-19T21:04:32.564Z"
   },
   {
    "duration": 466,
    "start_time": "2022-02-19T21:04:35.072Z"
   },
   {
    "duration": 11,
    "start_time": "2022-02-19T21:04:35.540Z"
   },
   {
    "duration": 12,
    "start_time": "2022-02-19T21:04:35.552Z"
   },
   {
    "duration": 17,
    "start_time": "2022-02-19T21:04:35.565Z"
   },
   {
    "duration": 59,
    "start_time": "2022-02-19T21:04:35.584Z"
   },
   {
    "duration": 42,
    "start_time": "2022-02-19T21:04:35.645Z"
   },
   {
    "duration": 61,
    "start_time": "2022-02-19T21:04:35.689Z"
   },
   {
    "duration": 5,
    "start_time": "2022-02-19T21:04:35.752Z"
   },
   {
    "duration": 19,
    "start_time": "2022-02-19T21:04:35.759Z"
   },
   {
    "duration": 1978,
    "start_time": "2022-02-19T21:04:35.780Z"
   },
   {
    "duration": 1724,
    "start_time": "2022-02-19T21:04:37.759Z"
   },
   {
    "duration": 18,
    "start_time": "2022-02-19T21:04:39.485Z"
   },
   {
    "duration": 201,
    "start_time": "2022-02-19T21:04:39.505Z"
   },
   {
    "duration": 125,
    "start_time": "2022-02-19T21:04:39.708Z"
   },
   {
    "duration": 187,
    "start_time": "2022-02-19T21:04:39.834Z"
   },
   {
    "duration": 132,
    "start_time": "2022-02-19T21:04:40.022Z"
   },
   {
    "duration": 180,
    "start_time": "2022-02-19T21:04:40.156Z"
   },
   {
    "duration": 192,
    "start_time": "2022-02-19T21:04:40.339Z"
   },
   {
    "duration": 198,
    "start_time": "2022-02-19T21:04:40.533Z"
   },
   {
    "duration": 186,
    "start_time": "2022-02-19T21:04:40.733Z"
   },
   {
    "duration": 189,
    "start_time": "2022-02-19T21:04:40.920Z"
   },
   {
    "duration": 247,
    "start_time": "2022-02-19T21:04:41.110Z"
   },
   {
    "duration": 139,
    "start_time": "2022-02-19T21:04:41.359Z"
   },
   {
    "duration": 21,
    "start_time": "2022-02-19T21:04:41.499Z"
   },
   {
    "duration": 14,
    "start_time": "2022-02-19T21:04:41.531Z"
   },
   {
    "duration": 517,
    "start_time": "2022-02-19T21:04:41.546Z"
   },
   {
    "duration": 29,
    "start_time": "2022-02-19T21:04:42.064Z"
   },
   {
    "duration": 6,
    "start_time": "2022-02-19T21:04:42.095Z"
   },
   {
    "duration": 36,
    "start_time": "2022-02-19T21:04:42.102Z"
   },
   {
    "duration": 187,
    "start_time": "2022-02-19T21:04:42.139Z"
   },
   {
    "duration": 21,
    "start_time": "2022-02-19T21:04:42.331Z"
   },
   {
    "duration": 181,
    "start_time": "2022-02-19T21:05:16.360Z"
   },
   {
    "duration": 186,
    "start_time": "2022-02-19T21:31:56.792Z"
   },
   {
    "duration": 179,
    "start_time": "2022-02-19T21:32:28.872Z"
   },
   {
    "duration": 175,
    "start_time": "2022-02-19T21:32:42.287Z"
   },
   {
    "duration": 198,
    "start_time": "2022-02-19T21:32:50.533Z"
   },
   {
    "duration": 191,
    "start_time": "2022-02-19T21:33:27.986Z"
   },
   {
    "duration": 186,
    "start_time": "2022-02-19T21:33:43.340Z"
   },
   {
    "duration": 227,
    "start_time": "2022-02-19T21:34:52.377Z"
   },
   {
    "duration": 181,
    "start_time": "2022-02-19T21:35:34.288Z"
   },
   {
    "duration": 170,
    "start_time": "2022-02-19T21:35:52.536Z"
   },
   {
    "duration": 195,
    "start_time": "2022-02-19T21:36:03.753Z"
   },
   {
    "duration": 183,
    "start_time": "2022-02-19T21:36:15.443Z"
   },
   {
    "duration": 205,
    "start_time": "2022-02-19T21:38:30.971Z"
   },
   {
    "duration": 177,
    "start_time": "2022-02-19T21:42:43.059Z"
   },
   {
    "duration": 29,
    "start_time": "2022-02-19T21:50:42.398Z"
   },
   {
    "duration": 30,
    "start_time": "2022-02-19T21:52:55.716Z"
   },
   {
    "duration": 31,
    "start_time": "2022-02-19T21:53:42.201Z"
   },
   {
    "duration": 29,
    "start_time": "2022-02-19T21:54:06.440Z"
   },
   {
    "duration": 624,
    "start_time": "2022-02-20T07:23:41.463Z"
   },
   {
    "duration": 96,
    "start_time": "2022-02-20T07:23:42.088Z"
   },
   {
    "duration": 5,
    "start_time": "2022-02-20T07:23:42.186Z"
   },
   {
    "duration": 41,
    "start_time": "2022-02-20T07:23:42.193Z"
   },
   {
    "duration": 44,
    "start_time": "2022-02-20T07:23:42.235Z"
   },
   {
    "duration": 8,
    "start_time": "2022-02-20T07:23:42.281Z"
   },
   {
    "duration": 11,
    "start_time": "2022-02-20T07:23:42.291Z"
   },
   {
    "duration": 2873,
    "start_time": "2022-02-20T07:23:42.304Z"
   },
   {
    "duration": 2973,
    "start_time": "2022-02-20T07:23:45.179Z"
   },
   {
    "duration": 502,
    "start_time": "2022-02-20T07:23:48.154Z"
   },
   {
    "duration": 10,
    "start_time": "2022-02-20T07:23:48.658Z"
   },
   {
    "duration": 19,
    "start_time": "2022-02-20T07:23:48.669Z"
   },
   {
    "duration": 56,
    "start_time": "2022-02-20T07:23:48.689Z"
   },
   {
    "duration": 10,
    "start_time": "2022-02-20T07:23:48.747Z"
   },
   {
    "duration": 30,
    "start_time": "2022-02-20T07:23:48.759Z"
   },
   {
    "duration": 45,
    "start_time": "2022-02-20T07:23:48.790Z"
   },
   {
    "duration": 5,
    "start_time": "2022-02-20T07:23:48.837Z"
   },
   {
    "duration": 16,
    "start_time": "2022-02-20T07:23:48.844Z"
   },
   {
    "duration": 1939,
    "start_time": "2022-02-20T07:23:48.862Z"
   },
   {
    "duration": 1731,
    "start_time": "2022-02-20T07:23:50.802Z"
   },
   {
    "duration": 183,
    "start_time": "2022-02-20T07:23:52.535Z"
   },
   {
    "duration": 130,
    "start_time": "2022-02-20T07:23:52.720Z"
   },
   {
    "duration": 189,
    "start_time": "2022-02-20T07:23:52.854Z"
   },
   {
    "duration": 134,
    "start_time": "2022-02-20T07:23:53.045Z"
   },
   {
    "duration": 190,
    "start_time": "2022-02-20T07:23:53.181Z"
   },
   {
    "duration": 187,
    "start_time": "2022-02-20T07:23:53.372Z"
   },
   {
    "duration": 215,
    "start_time": "2022-02-20T07:23:53.561Z"
   },
   {
    "duration": 184,
    "start_time": "2022-02-20T07:23:53.778Z"
   },
   {
    "duration": 184,
    "start_time": "2022-02-20T07:23:53.964Z"
   },
   {
    "duration": 255,
    "start_time": "2022-02-20T07:23:54.150Z"
   },
   {
    "duration": 134,
    "start_time": "2022-02-20T07:23:54.406Z"
   },
   {
    "duration": 185,
    "start_time": "2022-02-20T07:23:54.542Z"
   },
   {
    "duration": 20,
    "start_time": "2022-02-20T07:23:54.729Z"
   },
   {
    "duration": 13,
    "start_time": "2022-02-20T07:23:54.751Z"
   },
   {
    "duration": 500,
    "start_time": "2022-02-20T07:23:54.766Z"
   },
   {
    "duration": 28,
    "start_time": "2022-02-20T07:23:55.268Z"
   },
   {
    "duration": 7,
    "start_time": "2022-02-20T07:23:55.298Z"
   },
   {
    "duration": 39,
    "start_time": "2022-02-20T07:23:55.307Z"
   },
   {
    "duration": 28,
    "start_time": "2022-02-20T07:23:55.347Z"
   },
   {
    "duration": 210,
    "start_time": "2022-02-20T07:23:55.377Z"
   },
   {
    "duration": 23,
    "start_time": "2022-02-20T07:23:55.589Z"
   },
   {
    "duration": 669,
    "start_time": "2022-02-20T07:38:19.722Z"
   },
   {
    "duration": 93,
    "start_time": "2022-02-20T07:38:20.393Z"
   },
   {
    "duration": 5,
    "start_time": "2022-02-20T07:38:20.488Z"
   },
   {
    "duration": 37,
    "start_time": "2022-02-20T07:38:20.495Z"
   },
   {
    "duration": 43,
    "start_time": "2022-02-20T07:38:20.533Z"
   },
   {
    "duration": 8,
    "start_time": "2022-02-20T07:38:20.578Z"
   },
   {
    "duration": 11,
    "start_time": "2022-02-20T07:38:20.588Z"
   },
   {
    "duration": 2774,
    "start_time": "2022-02-20T07:38:20.601Z"
   },
   {
    "duration": 2486,
    "start_time": "2022-02-20T07:38:23.377Z"
   },
   {
    "duration": 492,
    "start_time": "2022-02-20T07:38:25.864Z"
   },
   {
    "duration": 10,
    "start_time": "2022-02-20T07:38:26.357Z"
   },
   {
    "duration": 30,
    "start_time": "2022-02-20T07:38:26.368Z"
   },
   {
    "duration": 48,
    "start_time": "2022-02-20T07:38:26.400Z"
   },
   {
    "duration": 12,
    "start_time": "2022-02-20T07:38:26.450Z"
   },
   {
    "duration": 61,
    "start_time": "2022-02-20T07:38:26.464Z"
   },
   {
    "duration": 27,
    "start_time": "2022-02-20T07:38:26.527Z"
   },
   {
    "duration": 19,
    "start_time": "2022-02-20T07:38:26.556Z"
   },
   {
    "duration": 31,
    "start_time": "2022-02-20T07:38:26.577Z"
   },
   {
    "duration": 2011,
    "start_time": "2022-02-20T07:38:26.610Z"
   },
   {
    "duration": 1787,
    "start_time": "2022-02-20T07:38:28.623Z"
   },
   {
    "duration": 197,
    "start_time": "2022-02-20T07:38:30.412Z"
   },
   {
    "duration": 144,
    "start_time": "2022-02-20T07:38:30.611Z"
   },
   {
    "duration": 207,
    "start_time": "2022-02-20T07:38:30.759Z"
   },
   {
    "duration": 133,
    "start_time": "2022-02-20T07:38:30.969Z"
   },
   {
    "duration": 184,
    "start_time": "2022-02-20T07:38:31.104Z"
   },
   {
    "duration": 186,
    "start_time": "2022-02-20T07:38:31.290Z"
   },
   {
    "duration": 211,
    "start_time": "2022-02-20T07:38:31.478Z"
   },
   {
    "duration": 193,
    "start_time": "2022-02-20T07:38:31.691Z"
   },
   {
    "duration": 184,
    "start_time": "2022-02-20T07:38:31.886Z"
   },
   {
    "duration": 254,
    "start_time": "2022-02-20T07:38:32.072Z"
   },
   {
    "duration": 124,
    "start_time": "2022-02-20T07:38:32.331Z"
   },
   {
    "duration": 189,
    "start_time": "2022-02-20T07:38:32.457Z"
   },
   {
    "duration": 19,
    "start_time": "2022-02-20T07:38:32.648Z"
   },
   {
    "duration": 12,
    "start_time": "2022-02-20T07:38:32.668Z"
   },
   {
    "duration": 475,
    "start_time": "2022-02-20T07:38:32.682Z"
   },
   {
    "duration": 29,
    "start_time": "2022-02-20T07:38:33.159Z"
   },
   {
    "duration": 7,
    "start_time": "2022-02-20T07:38:33.189Z"
   },
   {
    "duration": 36,
    "start_time": "2022-02-20T07:38:33.197Z"
   },
   {
    "duration": 26,
    "start_time": "2022-02-20T07:38:33.235Z"
   },
   {
    "duration": 207,
    "start_time": "2022-02-20T07:38:33.262Z"
   },
   {
    "duration": 21,
    "start_time": "2022-02-20T07:38:33.471Z"
   },
   {
    "duration": 491,
    "start_time": "2022-02-20T07:42:23.154Z"
   },
   {
    "duration": 744,
    "start_time": "2022-02-20T07:42:37.976Z"
   },
   {
    "duration": 84,
    "start_time": "2022-02-20T07:42:38.722Z"
   },
   {
    "duration": 5,
    "start_time": "2022-02-20T07:42:38.808Z"
   },
   {
    "duration": 35,
    "start_time": "2022-02-20T07:42:38.815Z"
   },
   {
    "duration": 42,
    "start_time": "2022-02-20T07:42:38.852Z"
   },
   {
    "duration": 8,
    "start_time": "2022-02-20T07:42:38.895Z"
   },
   {
    "duration": 29,
    "start_time": "2022-02-20T07:42:38.904Z"
   },
   {
    "duration": 2757,
    "start_time": "2022-02-20T07:42:38.935Z"
   },
   {
    "duration": 2542,
    "start_time": "2022-02-20T07:42:41.694Z"
   },
   {
    "duration": 499,
    "start_time": "2022-02-20T07:42:44.237Z"
   },
   {
    "duration": 10,
    "start_time": "2022-02-20T07:42:44.737Z"
   },
   {
    "duration": 16,
    "start_time": "2022-02-20T07:42:44.749Z"
   },
   {
    "duration": 41,
    "start_time": "2022-02-20T07:42:44.766Z"
   },
   {
    "duration": 28,
    "start_time": "2022-02-20T07:42:44.808Z"
   },
   {
    "duration": 30,
    "start_time": "2022-02-20T07:42:44.838Z"
   },
   {
    "duration": 27,
    "start_time": "2022-02-20T07:42:44.870Z"
   },
   {
    "duration": 12,
    "start_time": "2022-02-20T07:42:44.898Z"
   },
   {
    "duration": 30,
    "start_time": "2022-02-20T07:42:44.911Z"
   },
   {
    "duration": 1814,
    "start_time": "2022-02-20T07:42:44.943Z"
   },
   {
    "duration": 1736,
    "start_time": "2022-02-20T07:42:46.758Z"
   },
   {
    "duration": 206,
    "start_time": "2022-02-20T07:42:48.496Z"
   },
   {
    "duration": 134,
    "start_time": "2022-02-20T07:42:48.704Z"
   },
   {
    "duration": 198,
    "start_time": "2022-02-20T07:42:48.841Z"
   },
   {
    "duration": 123,
    "start_time": "2022-02-20T07:42:49.041Z"
   },
   {
    "duration": 184,
    "start_time": "2022-02-20T07:42:49.166Z"
   },
   {
    "duration": 182,
    "start_time": "2022-02-20T07:42:49.351Z"
   },
   {
    "duration": 197,
    "start_time": "2022-02-20T07:42:49.534Z"
   },
   {
    "duration": 181,
    "start_time": "2022-02-20T07:42:49.733Z"
   },
   {
    "duration": 178,
    "start_time": "2022-02-20T07:42:49.915Z"
   },
   {
    "duration": 261,
    "start_time": "2022-02-20T07:42:50.095Z"
   },
   {
    "duration": 135,
    "start_time": "2022-02-20T07:42:50.358Z"
   },
   {
    "duration": 195,
    "start_time": "2022-02-20T07:42:50.495Z"
   },
   {
    "duration": 19,
    "start_time": "2022-02-20T07:42:50.692Z"
   },
   {
    "duration": 25,
    "start_time": "2022-02-20T07:42:50.712Z"
   },
   {
    "duration": 481,
    "start_time": "2022-02-20T07:42:50.738Z"
   },
   {
    "duration": 36,
    "start_time": "2022-02-20T07:42:51.220Z"
   },
   {
    "duration": 5,
    "start_time": "2022-02-20T07:42:51.258Z"
   },
   {
    "duration": 17,
    "start_time": "2022-02-20T07:42:51.264Z"
   },
   {
    "duration": 24,
    "start_time": "2022-02-20T07:42:51.282Z"
   },
   {
    "duration": 197,
    "start_time": "2022-02-20T07:42:51.308Z"
   },
   {
    "duration": 28,
    "start_time": "2022-02-20T07:42:51.506Z"
   },
   {
    "duration": 490,
    "start_time": "2022-02-20T07:44:16.033Z"
   },
   {
    "duration": 475,
    "start_time": "2022-02-20T07:44:36.473Z"
   },
   {
    "duration": 608,
    "start_time": "2022-02-20T07:47:03.793Z"
   },
   {
    "duration": 82,
    "start_time": "2022-02-20T07:47:04.403Z"
   },
   {
    "duration": 5,
    "start_time": "2022-02-20T07:47:04.486Z"
   },
   {
    "duration": 39,
    "start_time": "2022-02-20T07:47:04.492Z"
   },
   {
    "duration": 43,
    "start_time": "2022-02-20T07:47:04.533Z"
   },
   {
    "duration": 7,
    "start_time": "2022-02-20T07:47:04.578Z"
   },
   {
    "duration": 19,
    "start_time": "2022-02-20T07:47:04.586Z"
   },
   {
    "duration": 2765,
    "start_time": "2022-02-20T07:47:04.606Z"
   },
   {
    "duration": 2514,
    "start_time": "2022-02-20T07:47:07.374Z"
   },
   {
    "duration": 495,
    "start_time": "2022-02-20T07:47:09.890Z"
   },
   {
    "duration": 10,
    "start_time": "2022-02-20T07:47:10.387Z"
   },
   {
    "duration": 21,
    "start_time": "2022-02-20T07:47:10.398Z"
   },
   {
    "duration": 45,
    "start_time": "2022-02-20T07:47:10.420Z"
   },
   {
    "duration": 11,
    "start_time": "2022-02-20T07:47:10.467Z"
   },
   {
    "duration": 56,
    "start_time": "2022-02-20T07:47:10.480Z"
   },
   {
    "duration": 29,
    "start_time": "2022-02-20T07:47:10.538Z"
   },
   {
    "duration": 19,
    "start_time": "2022-02-20T07:47:10.569Z"
   },
   {
    "duration": 34,
    "start_time": "2022-02-20T07:47:10.590Z"
   },
   {
    "duration": 1917,
    "start_time": "2022-02-20T07:47:10.626Z"
   },
   {
    "duration": 1724,
    "start_time": "2022-02-20T07:47:12.545Z"
   },
   {
    "duration": 197,
    "start_time": "2022-02-20T07:47:14.270Z"
   },
   {
    "duration": 138,
    "start_time": "2022-02-20T07:47:14.469Z"
   },
   {
    "duration": 198,
    "start_time": "2022-02-20T07:47:14.608Z"
   },
   {
    "duration": 140,
    "start_time": "2022-02-20T07:47:14.808Z"
   },
   {
    "duration": 189,
    "start_time": "2022-02-20T07:47:14.949Z"
   },
   {
    "duration": 185,
    "start_time": "2022-02-20T07:47:15.139Z"
   },
   {
    "duration": 198,
    "start_time": "2022-02-20T07:47:15.327Z"
   },
   {
    "duration": 189,
    "start_time": "2022-02-20T07:47:15.526Z"
   },
   {
    "duration": 176,
    "start_time": "2022-02-20T07:47:15.717Z"
   },
   {
    "duration": 261,
    "start_time": "2022-02-20T07:47:15.894Z"
   },
   {
    "duration": 129,
    "start_time": "2022-02-20T07:47:16.157Z"
   },
   {
    "duration": 187,
    "start_time": "2022-02-20T07:47:16.288Z"
   },
   {
    "duration": 21,
    "start_time": "2022-02-20T07:47:16.477Z"
   },
   {
    "duration": 24,
    "start_time": "2022-02-20T07:47:16.499Z"
   },
   {
    "duration": 475,
    "start_time": "2022-02-20T07:47:16.532Z"
   },
   {
    "duration": 38,
    "start_time": "2022-02-20T07:47:17.008Z"
   },
   {
    "duration": 7,
    "start_time": "2022-02-20T07:47:17.048Z"
   },
   {
    "duration": 52,
    "start_time": "2022-02-20T07:47:17.056Z"
   },
   {
    "duration": 37,
    "start_time": "2022-02-20T07:47:17.110Z"
   },
   {
    "duration": 191,
    "start_time": "2022-02-20T07:47:17.148Z"
   },
   {
    "duration": 21,
    "start_time": "2022-02-20T07:47:17.341Z"
   },
   {
    "duration": 844,
    "start_time": "2022-02-20T07:53:46.823Z"
   },
   {
    "duration": 753,
    "start_time": "2022-02-20T07:54:08.292Z"
   },
   {
    "duration": 486,
    "start_time": "2022-02-20T07:55:39.775Z"
   },
   {
    "duration": 646,
    "start_time": "2022-02-20T07:55:49.854Z"
   },
   {
    "duration": 94,
    "start_time": "2022-02-20T07:55:50.501Z"
   },
   {
    "duration": 5,
    "start_time": "2022-02-20T07:55:50.598Z"
   },
   {
    "duration": 36,
    "start_time": "2022-02-20T07:55:50.605Z"
   },
   {
    "duration": 44,
    "start_time": "2022-02-20T07:55:50.643Z"
   },
   {
    "duration": 7,
    "start_time": "2022-02-20T07:55:50.688Z"
   },
   {
    "duration": 9,
    "start_time": "2022-02-20T07:55:50.697Z"
   },
   {
    "duration": 2784,
    "start_time": "2022-02-20T07:55:50.708Z"
   },
   {
    "duration": 2488,
    "start_time": "2022-02-20T07:55:53.495Z"
   },
   {
    "duration": 495,
    "start_time": "2022-02-20T07:55:55.986Z"
   },
   {
    "duration": 9,
    "start_time": "2022-02-20T07:55:56.483Z"
   },
   {
    "duration": 16,
    "start_time": "2022-02-20T07:55:56.493Z"
   },
   {
    "duration": 50,
    "start_time": "2022-02-20T07:55:56.511Z"
   },
   {
    "duration": 12,
    "start_time": "2022-02-20T07:55:56.562Z"
   },
   {
    "duration": 30,
    "start_time": "2022-02-20T07:55:56.575Z"
   },
   {
    "duration": 47,
    "start_time": "2022-02-20T07:55:56.606Z"
   },
   {
    "duration": 4,
    "start_time": "2022-02-20T07:55:56.655Z"
   },
   {
    "duration": 17,
    "start_time": "2022-02-20T07:55:56.660Z"
   },
   {
    "duration": 1822,
    "start_time": "2022-02-20T07:55:56.678Z"
   },
   {
    "duration": 1700,
    "start_time": "2022-02-20T07:55:58.501Z"
   },
   {
    "duration": 203,
    "start_time": "2022-02-20T07:56:00.202Z"
   },
   {
    "duration": 145,
    "start_time": "2022-02-20T07:56:00.407Z"
   },
   {
    "duration": 198,
    "start_time": "2022-02-20T07:56:00.554Z"
   },
   {
    "duration": 141,
    "start_time": "2022-02-20T07:56:00.754Z"
   },
   {
    "duration": 186,
    "start_time": "2022-02-20T07:56:00.896Z"
   },
   {
    "duration": 191,
    "start_time": "2022-02-20T07:56:01.084Z"
   },
   {
    "duration": 198,
    "start_time": "2022-02-20T07:56:01.279Z"
   },
   {
    "duration": 183,
    "start_time": "2022-02-20T07:56:01.479Z"
   },
   {
    "duration": 183,
    "start_time": "2022-02-20T07:56:01.664Z"
   },
   {
    "duration": 254,
    "start_time": "2022-02-20T07:56:01.849Z"
   },
   {
    "duration": 120,
    "start_time": "2022-02-20T07:56:02.104Z"
   },
   {
    "duration": 188,
    "start_time": "2022-02-20T07:56:02.226Z"
   },
   {
    "duration": 23,
    "start_time": "2022-02-20T07:56:02.415Z"
   },
   {
    "duration": 13,
    "start_time": "2022-02-20T07:56:02.439Z"
   },
   {
    "duration": 488,
    "start_time": "2022-02-20T07:56:02.453Z"
   },
   {
    "duration": 29,
    "start_time": "2022-02-20T07:56:02.943Z"
   },
   {
    "duration": 7,
    "start_time": "2022-02-20T07:56:02.973Z"
   },
   {
    "duration": 18,
    "start_time": "2022-02-20T07:56:02.981Z"
   },
   {
    "duration": 50,
    "start_time": "2022-02-20T07:56:03.001Z"
   },
   {
    "duration": 192,
    "start_time": "2022-02-20T07:56:03.052Z"
   },
   {
    "duration": 22,
    "start_time": "2022-02-20T07:56:03.246Z"
   },
   {
    "duration": 477,
    "start_time": "2022-02-20T07:56:34.401Z"
   },
   {
    "duration": 488,
    "start_time": "2022-02-20T07:57:59.961Z"
   },
   {
    "duration": 639,
    "start_time": "2022-02-20T07:58:08.731Z"
   },
   {
    "duration": 80,
    "start_time": "2022-02-20T07:58:09.371Z"
   },
   {
    "duration": 5,
    "start_time": "2022-02-20T07:58:09.453Z"
   },
   {
    "duration": 27,
    "start_time": "2022-02-20T07:58:09.460Z"
   },
   {
    "duration": 54,
    "start_time": "2022-02-20T07:58:09.489Z"
   },
   {
    "duration": 7,
    "start_time": "2022-02-20T07:58:09.545Z"
   },
   {
    "duration": 9,
    "start_time": "2022-02-20T07:58:09.554Z"
   },
   {
    "duration": 2834,
    "start_time": "2022-02-20T07:58:09.565Z"
   },
   {
    "duration": 2531,
    "start_time": "2022-02-20T07:58:12.402Z"
   },
   {
    "duration": 483,
    "start_time": "2022-02-20T07:58:14.936Z"
   },
   {
    "duration": 18,
    "start_time": "2022-02-20T07:58:15.421Z"
   },
   {
    "duration": 17,
    "start_time": "2022-02-20T07:58:15.440Z"
   },
   {
    "duration": 36,
    "start_time": "2022-02-20T07:58:15.458Z"
   },
   {
    "duration": 12,
    "start_time": "2022-02-20T07:58:15.496Z"
   },
   {
    "duration": 51,
    "start_time": "2022-02-20T07:58:15.510Z"
   },
   {
    "duration": 28,
    "start_time": "2022-02-20T07:58:15.563Z"
   },
   {
    "duration": 6,
    "start_time": "2022-02-20T07:58:15.593Z"
   },
   {
    "duration": 41,
    "start_time": "2022-02-20T07:58:15.600Z"
   },
   {
    "duration": 1794,
    "start_time": "2022-02-20T07:58:15.643Z"
   },
   {
    "duration": 1723,
    "start_time": "2022-02-20T07:58:17.438Z"
   },
   {
    "duration": 200,
    "start_time": "2022-02-20T07:58:19.162Z"
   },
   {
    "duration": 144,
    "start_time": "2022-02-20T07:58:19.364Z"
   },
   {
    "duration": 204,
    "start_time": "2022-02-20T07:58:19.509Z"
   },
   {
    "duration": 137,
    "start_time": "2022-02-20T07:58:19.715Z"
   },
   {
    "duration": 194,
    "start_time": "2022-02-20T07:58:19.854Z"
   },
   {
    "duration": 188,
    "start_time": "2022-02-20T07:58:20.050Z"
   },
   {
    "duration": 193,
    "start_time": "2022-02-20T07:58:20.241Z"
   },
   {
    "duration": 181,
    "start_time": "2022-02-20T07:58:20.435Z"
   },
   {
    "duration": 173,
    "start_time": "2022-02-20T07:58:20.617Z"
   },
   {
    "duration": 262,
    "start_time": "2022-02-20T07:58:20.791Z"
   },
   {
    "duration": 132,
    "start_time": "2022-02-20T07:58:21.054Z"
   },
   {
    "duration": 187,
    "start_time": "2022-02-20T07:58:21.187Z"
   },
   {
    "duration": 18,
    "start_time": "2022-02-20T07:58:21.376Z"
   },
   {
    "duration": 12,
    "start_time": "2022-02-20T07:58:21.396Z"
   },
   {
    "duration": 23,
    "start_time": "2022-02-20T07:58:21.409Z"
   },
   {
    "duration": 481,
    "start_time": "2022-02-20T07:58:21.433Z"
   },
   {
    "duration": 42,
    "start_time": "2022-02-20T07:58:21.916Z"
   },
   {
    "duration": 7,
    "start_time": "2022-02-20T07:58:21.960Z"
   },
   {
    "duration": 19,
    "start_time": "2022-02-20T07:58:21.969Z"
   },
   {
    "duration": 48,
    "start_time": "2022-02-20T07:58:21.989Z"
   },
   {
    "duration": 208,
    "start_time": "2022-02-20T07:58:22.039Z"
   },
   {
    "duration": 22,
    "start_time": "2022-02-20T07:58:22.249Z"
   },
   {
    "duration": 651,
    "start_time": "2022-02-20T07:59:19.963Z"
   },
   {
    "duration": 84,
    "start_time": "2022-02-20T07:59:20.615Z"
   },
   {
    "duration": 5,
    "start_time": "2022-02-20T07:59:20.703Z"
   },
   {
    "duration": 34,
    "start_time": "2022-02-20T07:59:20.709Z"
   },
   {
    "duration": 43,
    "start_time": "2022-02-20T07:59:20.744Z"
   },
   {
    "duration": 7,
    "start_time": "2022-02-20T07:59:20.788Z"
   },
   {
    "duration": 10,
    "start_time": "2022-02-20T07:59:20.797Z"
   },
   {
    "duration": 2699,
    "start_time": "2022-02-20T07:59:20.809Z"
   },
   {
    "duration": 2491,
    "start_time": "2022-02-20T07:59:23.509Z"
   },
   {
    "duration": 514,
    "start_time": "2022-02-20T07:59:26.002Z"
   },
   {
    "duration": 14,
    "start_time": "2022-02-20T07:59:26.517Z"
   },
   {
    "duration": 18,
    "start_time": "2022-02-20T07:59:26.533Z"
   },
   {
    "duration": 39,
    "start_time": "2022-02-20T07:59:26.553Z"
   },
   {
    "duration": 11,
    "start_time": "2022-02-20T07:59:26.594Z"
   },
   {
    "duration": 30,
    "start_time": "2022-02-20T07:59:26.631Z"
   },
   {
    "duration": 27,
    "start_time": "2022-02-20T07:59:26.663Z"
   },
   {
    "duration": 6,
    "start_time": "2022-02-20T07:59:26.691Z"
   },
   {
    "duration": 37,
    "start_time": "2022-02-20T07:59:26.698Z"
   },
   {
    "duration": 1880,
    "start_time": "2022-02-20T07:59:26.736Z"
   },
   {
    "duration": 1708,
    "start_time": "2022-02-20T07:59:28.618Z"
   },
   {
    "duration": 197,
    "start_time": "2022-02-20T07:59:30.328Z"
   },
   {
    "duration": 144,
    "start_time": "2022-02-20T07:59:30.532Z"
   },
   {
    "duration": 200,
    "start_time": "2022-02-20T07:59:30.678Z"
   },
   {
    "duration": 153,
    "start_time": "2022-02-20T07:59:30.880Z"
   },
   {
    "duration": 181,
    "start_time": "2022-02-20T07:59:31.035Z"
   },
   {
    "duration": 172,
    "start_time": "2022-02-20T07:59:31.217Z"
   },
   {
    "duration": 197,
    "start_time": "2022-02-20T07:59:31.391Z"
   },
   {
    "duration": 186,
    "start_time": "2022-02-20T07:59:31.590Z"
   },
   {
    "duration": 180,
    "start_time": "2022-02-20T07:59:31.778Z"
   },
   {
    "duration": 288,
    "start_time": "2022-02-20T07:59:31.960Z"
   },
   {
    "duration": 135,
    "start_time": "2022-02-20T07:59:32.250Z"
   },
   {
    "duration": 187,
    "start_time": "2022-02-20T07:59:32.387Z"
   },
   {
    "duration": 18,
    "start_time": "2022-02-20T07:59:32.576Z"
   },
   {
    "duration": 13,
    "start_time": "2022-02-20T07:59:32.596Z"
   },
   {
    "duration": 487,
    "start_time": "2022-02-20T07:59:32.611Z"
   },
   {
    "duration": 44,
    "start_time": "2022-02-20T07:59:33.100Z"
   },
   {
    "duration": 5,
    "start_time": "2022-02-20T07:59:33.146Z"
   },
   {
    "duration": 19,
    "start_time": "2022-02-20T07:59:33.153Z"
   },
   {
    "duration": 31,
    "start_time": "2022-02-20T07:59:33.174Z"
   },
   {
    "duration": 208,
    "start_time": "2022-02-20T07:59:33.206Z"
   },
   {
    "duration": 26,
    "start_time": "2022-02-20T07:59:33.416Z"
   },
   {
    "duration": 502,
    "start_time": "2022-02-20T08:00:04.456Z"
   },
   {
    "duration": 491,
    "start_time": "2022-02-20T08:00:28.958Z"
   },
   {
    "duration": 797,
    "start_time": "2022-02-20T08:02:21.552Z"
   },
   {
    "duration": 93,
    "start_time": "2022-02-20T08:02:22.351Z"
   },
   {
    "duration": 5,
    "start_time": "2022-02-20T08:02:22.446Z"
   },
   {
    "duration": 28,
    "start_time": "2022-02-20T08:02:22.453Z"
   },
   {
    "duration": 56,
    "start_time": "2022-02-20T08:02:22.483Z"
   },
   {
    "duration": 8,
    "start_time": "2022-02-20T08:02:22.541Z"
   },
   {
    "duration": 10,
    "start_time": "2022-02-20T08:02:22.551Z"
   },
   {
    "duration": 2777,
    "start_time": "2022-02-20T08:02:22.563Z"
   },
   {
    "duration": 2692,
    "start_time": "2022-02-20T08:02:25.343Z"
   },
   {
    "duration": 495,
    "start_time": "2022-02-20T08:02:28.037Z"
   },
   {
    "duration": 10,
    "start_time": "2022-02-20T08:02:28.534Z"
   },
   {
    "duration": 17,
    "start_time": "2022-02-20T08:02:28.545Z"
   },
   {
    "duration": 38,
    "start_time": "2022-02-20T08:02:28.563Z"
   },
   {
    "duration": 30,
    "start_time": "2022-02-20T08:02:28.602Z"
   },
   {
    "duration": 29,
    "start_time": "2022-02-20T08:02:28.634Z"
   },
   {
    "duration": 26,
    "start_time": "2022-02-20T08:02:28.664Z"
   },
   {
    "duration": 5,
    "start_time": "2022-02-20T08:02:28.692Z"
   },
   {
    "duration": 40,
    "start_time": "2022-02-20T08:02:28.699Z"
   },
   {
    "duration": 1887,
    "start_time": "2022-02-20T08:02:28.740Z"
   },
   {
    "duration": 1658,
    "start_time": "2022-02-20T08:02:30.632Z"
   },
   {
    "duration": 138,
    "start_time": "2022-02-20T08:02:32.291Z"
   },
   {
    "duration": 20,
    "start_time": "2022-02-20T08:02:32.431Z"
   },
   {
    "duration": 11,
    "start_time": "2022-02-20T08:02:32.453Z"
   },
   {
    "duration": 17,
    "start_time": "2022-02-20T08:02:32.465Z"
   },
   {
    "duration": 11,
    "start_time": "2022-02-20T08:02:32.483Z"
   },
   {
    "duration": 38,
    "start_time": "2022-02-20T08:02:32.495Z"
   },
   {
    "duration": 10,
    "start_time": "2022-02-20T08:02:32.536Z"
   },
   {
    "duration": 10,
    "start_time": "2022-02-20T08:02:32.548Z"
   },
   {
    "duration": 10,
    "start_time": "2022-02-20T08:02:32.560Z"
   },
   {
    "duration": 13,
    "start_time": "2022-02-20T08:02:32.571Z"
   },
   {
    "duration": 59,
    "start_time": "2022-02-20T08:02:32.586Z"
   },
   {
    "duration": 11,
    "start_time": "2022-02-20T08:02:32.646Z"
   },
   {
    "duration": 19,
    "start_time": "2022-02-20T08:02:32.658Z"
   },
   {
    "duration": 12,
    "start_time": "2022-02-20T08:02:32.679Z"
   },
   {
    "duration": 339,
    "start_time": "2022-02-20T08:02:32.692Z"
   },
   {
    "duration": 29,
    "start_time": "2022-02-20T08:02:33.033Z"
   },
   {
    "duration": 6,
    "start_time": "2022-02-20T08:02:33.064Z"
   },
   {
    "duration": 65,
    "start_time": "2022-02-20T08:02:33.072Z"
   },
   {
    "duration": 27,
    "start_time": "2022-02-20T08:02:33.138Z"
   },
   {
    "duration": 148,
    "start_time": "2022-02-20T08:02:33.166Z"
   },
   {
    "duration": 21,
    "start_time": "2022-02-20T08:02:33.316Z"
   },
   {
    "duration": 638,
    "start_time": "2022-02-20T08:04:02.030Z"
   },
   {
    "duration": 82,
    "start_time": "2022-02-20T08:04:02.670Z"
   },
   {
    "duration": 5,
    "start_time": "2022-02-20T08:04:02.753Z"
   },
   {
    "duration": 26,
    "start_time": "2022-02-20T08:04:02.759Z"
   },
   {
    "duration": 54,
    "start_time": "2022-02-20T08:04:02.787Z"
   },
   {
    "duration": 8,
    "start_time": "2022-02-20T08:04:02.842Z"
   },
   {
    "duration": 9,
    "start_time": "2022-02-20T08:04:02.851Z"
   },
   {
    "duration": 2696,
    "start_time": "2022-02-20T08:04:02.862Z"
   },
   {
    "duration": 2529,
    "start_time": "2022-02-20T08:04:05.561Z"
   },
   {
    "duration": 491,
    "start_time": "2022-02-20T08:04:08.091Z"
   },
   {
    "duration": 11,
    "start_time": "2022-02-20T08:04:08.583Z"
   },
   {
    "duration": 16,
    "start_time": "2022-02-20T08:04:08.595Z"
   },
   {
    "duration": 48,
    "start_time": "2022-02-20T08:04:08.613Z"
   },
   {
    "duration": 11,
    "start_time": "2022-02-20T08:04:08.663Z"
   },
   {
    "duration": 28,
    "start_time": "2022-02-20T08:04:08.676Z"
   },
   {
    "duration": 43,
    "start_time": "2022-02-20T08:04:08.705Z"
   },
   {
    "duration": 5,
    "start_time": "2022-02-20T08:04:08.749Z"
   },
   {
    "duration": 15,
    "start_time": "2022-02-20T08:04:08.756Z"
   },
   {
    "duration": 1813,
    "start_time": "2022-02-20T08:04:08.772Z"
   },
   {
    "duration": 1810,
    "start_time": "2022-02-20T08:04:10.587Z"
   },
   {
    "duration": 174,
    "start_time": "2022-02-20T08:04:12.399Z"
   },
   {
    "duration": 135,
    "start_time": "2022-02-20T08:04:12.575Z"
   },
   {
    "duration": 185,
    "start_time": "2022-02-20T08:04:12.711Z"
   },
   {
    "duration": 143,
    "start_time": "2022-02-20T08:04:12.898Z"
   },
   {
    "duration": 173,
    "start_time": "2022-02-20T08:04:13.043Z"
   },
   {
    "duration": 180,
    "start_time": "2022-02-20T08:04:13.218Z"
   },
   {
    "duration": 190,
    "start_time": "2022-02-20T08:04:13.401Z"
   },
   {
    "duration": 194,
    "start_time": "2022-02-20T08:04:13.593Z"
   },
   {
    "duration": 197,
    "start_time": "2022-02-20T08:04:13.789Z"
   },
   {
    "duration": 375,
    "start_time": "2022-02-20T08:04:13.988Z"
   },
   {
    "duration": 140,
    "start_time": "2022-02-20T08:04:14.365Z"
   },
   {
    "duration": 199,
    "start_time": "2022-02-20T08:04:14.507Z"
   },
   {
    "duration": 28,
    "start_time": "2022-02-20T08:04:14.708Z"
   },
   {
    "duration": 14,
    "start_time": "2022-02-20T08:04:14.737Z"
   },
   {
    "duration": 514,
    "start_time": "2022-02-20T08:04:14.752Z"
   },
   {
    "duration": 30,
    "start_time": "2022-02-20T08:04:15.268Z"
   },
   {
    "duration": 6,
    "start_time": "2022-02-20T08:04:15.300Z"
   },
   {
    "duration": 35,
    "start_time": "2022-02-20T08:04:15.308Z"
   },
   {
    "duration": 26,
    "start_time": "2022-02-20T08:04:15.345Z"
   },
   {
    "duration": 199,
    "start_time": "2022-02-20T08:04:15.373Z"
   },
   {
    "duration": 21,
    "start_time": "2022-02-20T08:04:15.574Z"
   }
  ],
  "kernelspec": {
   "display_name": "Python 3 (ipykernel)",
   "language": "python",
   "name": "python3"
  },
  "language_info": {
   "codemirror_mode": {
    "name": "ipython",
    "version": 3
   },
   "file_extension": ".py",
   "mimetype": "text/x-python",
   "name": "python",
   "nbconvert_exporter": "python",
   "pygments_lexer": "ipython3",
   "version": "3.9.7"
  },
  "toc": {
   "base_numbering": 1,
   "nav_menu": {},
   "number_sections": true,
   "sideBar": false,
   "skip_h1_title": true,
   "title_cell": "Содержание",
   "title_sidebar": "Contents",
   "toc_cell": true,
   "toc_position": {
    "height": "calc(100% - 180px)",
    "left": "10px",
    "top": "150px",
    "width": "165px"
   },
   "toc_section_display": true,
   "toc_window_display": false
  }
 },
 "nbformat": 4,
 "nbformat_minor": 4
}

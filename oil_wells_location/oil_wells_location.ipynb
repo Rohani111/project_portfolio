{
 "cells": [
  {
   "cell_type": "markdown",
   "metadata": {},
   "source": [
    "<h1> <div align=\"center\"><a> Проект «Выбор локации для скважины» </a></div>"
   ]
  },
  {
   "cell_type": "markdown",
   "metadata": {},
   "source": [
    "## Загрузка и подготовка данных"
   ]
  },
  {
   "cell_type": "code",
   "execution_count": 21,
   "metadata": {},
   "outputs": [],
   "source": [
    "import pandas as pd\n",
    "from sklearn.linear_model import LinearRegression\n",
    "from sklearn.model_selection import train_test_split\n",
    "from sklearn.metrics import mean_squared_error, accuracy_score, mean_absolute_error,r2_score\n",
    "import numpy as np"
   ]
  },
  {
   "cell_type": "code",
   "execution_count": 22,
   "metadata": {},
   "outputs": [
    {
     "data": {
      "text/html": [
       "<div>\n",
       "<style scoped>\n",
       "    .dataframe tbody tr th:only-of-type {\n",
       "        vertical-align: middle;\n",
       "    }\n",
       "\n",
       "    .dataframe tbody tr th {\n",
       "        vertical-align: top;\n",
       "    }\n",
       "\n",
       "    .dataframe thead th {\n",
       "        text-align: right;\n",
       "    }\n",
       "</style>\n",
       "<table border=\"1\" class=\"dataframe\">\n",
       "  <thead>\n",
       "    <tr style=\"text-align: right;\">\n",
       "      <th></th>\n",
       "      <th>id</th>\n",
       "      <th>f0</th>\n",
       "      <th>f1</th>\n",
       "      <th>f2</th>\n",
       "      <th>product</th>\n",
       "    </tr>\n",
       "  </thead>\n",
       "  <tbody>\n",
       "    <tr>\n",
       "      <th>0</th>\n",
       "      <td>txEyH</td>\n",
       "      <td>0.705745</td>\n",
       "      <td>-0.497823</td>\n",
       "      <td>1.221170</td>\n",
       "      <td>105.280062</td>\n",
       "    </tr>\n",
       "    <tr>\n",
       "      <th>1</th>\n",
       "      <td>2acmU</td>\n",
       "      <td>1.334711</td>\n",
       "      <td>-0.340164</td>\n",
       "      <td>4.365080</td>\n",
       "      <td>73.037750</td>\n",
       "    </tr>\n",
       "    <tr>\n",
       "      <th>2</th>\n",
       "      <td>409Wp</td>\n",
       "      <td>1.022732</td>\n",
       "      <td>0.151990</td>\n",
       "      <td>1.419926</td>\n",
       "      <td>85.265647</td>\n",
       "    </tr>\n",
       "  </tbody>\n",
       "</table>\n",
       "</div>"
      ],
      "text/plain": [
       "      id        f0        f1        f2     product\n",
       "0  txEyH  0.705745 -0.497823  1.221170  105.280062\n",
       "1  2acmU  1.334711 -0.340164  4.365080   73.037750\n",
       "2  409Wp  1.022732  0.151990  1.419926   85.265647"
      ]
     },
     "metadata": {},
     "output_type": "display_data"
    },
    {
     "data": {
      "text/html": [
       "<div>\n",
       "<style scoped>\n",
       "    .dataframe tbody tr th:only-of-type {\n",
       "        vertical-align: middle;\n",
       "    }\n",
       "\n",
       "    .dataframe tbody tr th {\n",
       "        vertical-align: top;\n",
       "    }\n",
       "\n",
       "    .dataframe thead th {\n",
       "        text-align: right;\n",
       "    }\n",
       "</style>\n",
       "<table border=\"1\" class=\"dataframe\">\n",
       "  <thead>\n",
       "    <tr style=\"text-align: right;\">\n",
       "      <th></th>\n",
       "      <th>id</th>\n",
       "      <th>f0</th>\n",
       "      <th>f1</th>\n",
       "      <th>f2</th>\n",
       "      <th>product</th>\n",
       "    </tr>\n",
       "  </thead>\n",
       "  <tbody>\n",
       "    <tr>\n",
       "      <th>0</th>\n",
       "      <td>kBEdx</td>\n",
       "      <td>-15.001348</td>\n",
       "      <td>-8.276000</td>\n",
       "      <td>-0.005876</td>\n",
       "      <td>3.179103</td>\n",
       "    </tr>\n",
       "    <tr>\n",
       "      <th>1</th>\n",
       "      <td>62mP7</td>\n",
       "      <td>14.272088</td>\n",
       "      <td>-3.475083</td>\n",
       "      <td>0.999183</td>\n",
       "      <td>26.953261</td>\n",
       "    </tr>\n",
       "    <tr>\n",
       "      <th>2</th>\n",
       "      <td>vyE1P</td>\n",
       "      <td>6.263187</td>\n",
       "      <td>-5.948386</td>\n",
       "      <td>5.001160</td>\n",
       "      <td>134.766305</td>\n",
       "    </tr>\n",
       "  </tbody>\n",
       "</table>\n",
       "</div>"
      ],
      "text/plain": [
       "      id         f0        f1        f2     product\n",
       "0  kBEdx -15.001348 -8.276000 -0.005876    3.179103\n",
       "1  62mP7  14.272088 -3.475083  0.999183   26.953261\n",
       "2  vyE1P   6.263187 -5.948386  5.001160  134.766305"
      ]
     },
     "metadata": {},
     "output_type": "display_data"
    },
    {
     "data": {
      "text/html": [
       "<div>\n",
       "<style scoped>\n",
       "    .dataframe tbody tr th:only-of-type {\n",
       "        vertical-align: middle;\n",
       "    }\n",
       "\n",
       "    .dataframe tbody tr th {\n",
       "        vertical-align: top;\n",
       "    }\n",
       "\n",
       "    .dataframe thead th {\n",
       "        text-align: right;\n",
       "    }\n",
       "</style>\n",
       "<table border=\"1\" class=\"dataframe\">\n",
       "  <thead>\n",
       "    <tr style=\"text-align: right;\">\n",
       "      <th></th>\n",
       "      <th>id</th>\n",
       "      <th>f0</th>\n",
       "      <th>f1</th>\n",
       "      <th>f2</th>\n",
       "      <th>product</th>\n",
       "    </tr>\n",
       "  </thead>\n",
       "  <tbody>\n",
       "    <tr>\n",
       "      <th>0</th>\n",
       "      <td>fwXo0</td>\n",
       "      <td>-1.146987</td>\n",
       "      <td>0.963328</td>\n",
       "      <td>-0.828965</td>\n",
       "      <td>27.758673</td>\n",
       "    </tr>\n",
       "    <tr>\n",
       "      <th>1</th>\n",
       "      <td>WJtFt</td>\n",
       "      <td>0.262778</td>\n",
       "      <td>0.269839</td>\n",
       "      <td>-2.530187</td>\n",
       "      <td>56.069697</td>\n",
       "    </tr>\n",
       "    <tr>\n",
       "      <th>2</th>\n",
       "      <td>ovLUW</td>\n",
       "      <td>0.194587</td>\n",
       "      <td>0.289035</td>\n",
       "      <td>-5.586433</td>\n",
       "      <td>62.871910</td>\n",
       "    </tr>\n",
       "  </tbody>\n",
       "</table>\n",
       "</div>"
      ],
      "text/plain": [
       "      id        f0        f1        f2    product\n",
       "0  fwXo0 -1.146987  0.963328 -0.828965  27.758673\n",
       "1  WJtFt  0.262778  0.269839 -2.530187  56.069697\n",
       "2  ovLUW  0.194587  0.289035 -5.586433  62.871910"
      ]
     },
     "metadata": {},
     "output_type": "display_data"
    }
   ],
   "source": [
    "df_0 = pd.read_csv(\"/datasets/geo_data_0.csv\")\n",
    "df_1 = pd.read_csv(\"/datasets/geo_data_1.csv\")\n",
    "df_2 = pd.read_csv(\"/datasets/geo_data_2.csv\")\n",
    "\n",
    "display(df_0.head(3), df_1.head(3), df_2.head(3))"
   ]
  },
  {
   "cell_type": "code",
   "execution_count": 23,
   "metadata": {
    "scrolled": true
   },
   "outputs": [
    {
     "name": "stdout",
     "output_type": "stream",
     "text": [
      "<class 'pandas.core.frame.DataFrame'>\n",
      "RangeIndex: 100000 entries, 0 to 99999\n",
      "Data columns (total 5 columns):\n",
      " #   Column   Non-Null Count   Dtype  \n",
      "---  ------   --------------   -----  \n",
      " 0   id       100000 non-null  object \n",
      " 1   f0       100000 non-null  float64\n",
      " 2   f1       100000 non-null  float64\n",
      " 3   f2       100000 non-null  float64\n",
      " 4   product  100000 non-null  float64\n",
      "dtypes: float64(4), object(1)\n",
      "memory usage: 3.8+ MB\n"
     ]
    },
    {
     "data": {
      "text/plain": [
       "None"
      ]
     },
     "metadata": {},
     "output_type": "display_data"
    },
    {
     "name": "stdout",
     "output_type": "stream",
     "text": [
      "<class 'pandas.core.frame.DataFrame'>\n",
      "RangeIndex: 100000 entries, 0 to 99999\n",
      "Data columns (total 5 columns):\n",
      " #   Column   Non-Null Count   Dtype  \n",
      "---  ------   --------------   -----  \n",
      " 0   id       100000 non-null  object \n",
      " 1   f0       100000 non-null  float64\n",
      " 2   f1       100000 non-null  float64\n",
      " 3   f2       100000 non-null  float64\n",
      " 4   product  100000 non-null  float64\n",
      "dtypes: float64(4), object(1)\n",
      "memory usage: 3.8+ MB\n"
     ]
    },
    {
     "data": {
      "text/plain": [
       "None"
      ]
     },
     "metadata": {},
     "output_type": "display_data"
    },
    {
     "name": "stdout",
     "output_type": "stream",
     "text": [
      "<class 'pandas.core.frame.DataFrame'>\n",
      "RangeIndex: 100000 entries, 0 to 99999\n",
      "Data columns (total 5 columns):\n",
      " #   Column   Non-Null Count   Dtype  \n",
      "---  ------   --------------   -----  \n",
      " 0   id       100000 non-null  object \n",
      " 1   f0       100000 non-null  float64\n",
      " 2   f1       100000 non-null  float64\n",
      " 3   f2       100000 non-null  float64\n",
      " 4   product  100000 non-null  float64\n",
      "dtypes: float64(4), object(1)\n",
      "memory usage: 3.8+ MB\n"
     ]
    },
    {
     "data": {
      "text/plain": [
       "None"
      ]
     },
     "metadata": {},
     "output_type": "display_data"
    }
   ],
   "source": [
    "display(df_0.info())\n",
    "display(df_1.info())\n",
    "display(df_2.info())"
   ]
  },
  {
   "cell_type": "markdown",
   "metadata": {},
   "source": [
    "Каждая таблица имеет 100 000 строк и 5 столбцов. Переименовывать столбцы нет необходимости. Пропущенных значений нет. В массиве представлены как категориальные (id), так и количественные признаки. Замена типов данных не требуется.\n",
    "**Столбец id мы можем удалить, поскольку они не несет полезной нагрузки.**"
   ]
  },
  {
   "cell_type": "code",
   "execution_count": 24,
   "metadata": {},
   "outputs": [],
   "source": [
    "df_0 = df_0.drop('id', axis=1)\n",
    "df_1 = df_1.drop('id', axis=1)\n",
    "df_2 = df_2.drop('id', axis=1)"
   ]
  },
  {
   "cell_type": "code",
   "execution_count": 25,
   "metadata": {},
   "outputs": [
    {
     "data": {
      "text/html": [
       "<div>\n",
       "<style scoped>\n",
       "    .dataframe tbody tr th:only-of-type {\n",
       "        vertical-align: middle;\n",
       "    }\n",
       "\n",
       "    .dataframe tbody tr th {\n",
       "        vertical-align: top;\n",
       "    }\n",
       "\n",
       "    .dataframe thead th {\n",
       "        text-align: right;\n",
       "    }\n",
       "</style>\n",
       "<table border=\"1\" class=\"dataframe\">\n",
       "  <thead>\n",
       "    <tr style=\"text-align: right;\">\n",
       "      <th></th>\n",
       "      <th>f0</th>\n",
       "      <th>f1</th>\n",
       "      <th>f2</th>\n",
       "      <th>product</th>\n",
       "    </tr>\n",
       "  </thead>\n",
       "  <tbody>\n",
       "    <tr>\n",
       "      <th>count</th>\n",
       "      <td>100000.000000</td>\n",
       "      <td>100000.000000</td>\n",
       "      <td>100000.000000</td>\n",
       "      <td>100000.000000</td>\n",
       "    </tr>\n",
       "    <tr>\n",
       "      <th>mean</th>\n",
       "      <td>0.500419</td>\n",
       "      <td>0.250143</td>\n",
       "      <td>2.502647</td>\n",
       "      <td>92.500000</td>\n",
       "    </tr>\n",
       "    <tr>\n",
       "      <th>std</th>\n",
       "      <td>0.871832</td>\n",
       "      <td>0.504433</td>\n",
       "      <td>3.248248</td>\n",
       "      <td>44.288691</td>\n",
       "    </tr>\n",
       "    <tr>\n",
       "      <th>min</th>\n",
       "      <td>-1.408605</td>\n",
       "      <td>-0.848218</td>\n",
       "      <td>-12.088328</td>\n",
       "      <td>0.000000</td>\n",
       "    </tr>\n",
       "    <tr>\n",
       "      <th>25%</th>\n",
       "      <td>-0.072580</td>\n",
       "      <td>-0.200881</td>\n",
       "      <td>0.287748</td>\n",
       "      <td>56.497507</td>\n",
       "    </tr>\n",
       "    <tr>\n",
       "      <th>50%</th>\n",
       "      <td>0.502360</td>\n",
       "      <td>0.250252</td>\n",
       "      <td>2.515969</td>\n",
       "      <td>91.849972</td>\n",
       "    </tr>\n",
       "    <tr>\n",
       "      <th>75%</th>\n",
       "      <td>1.073581</td>\n",
       "      <td>0.700646</td>\n",
       "      <td>4.715088</td>\n",
       "      <td>128.564089</td>\n",
       "    </tr>\n",
       "    <tr>\n",
       "      <th>max</th>\n",
       "      <td>2.362331</td>\n",
       "      <td>1.343769</td>\n",
       "      <td>16.003790</td>\n",
       "      <td>185.364347</td>\n",
       "    </tr>\n",
       "  </tbody>\n",
       "</table>\n",
       "</div>"
      ],
      "text/plain": [
       "                  f0             f1             f2        product\n",
       "count  100000.000000  100000.000000  100000.000000  100000.000000\n",
       "mean        0.500419       0.250143       2.502647      92.500000\n",
       "std         0.871832       0.504433       3.248248      44.288691\n",
       "min        -1.408605      -0.848218     -12.088328       0.000000\n",
       "25%        -0.072580      -0.200881       0.287748      56.497507\n",
       "50%         0.502360       0.250252       2.515969      91.849972\n",
       "75%         1.073581       0.700646       4.715088     128.564089\n",
       "max         2.362331       1.343769      16.003790     185.364347"
      ]
     },
     "metadata": {},
     "output_type": "display_data"
    },
    {
     "data": {
      "text/html": [
       "<div>\n",
       "<style scoped>\n",
       "    .dataframe tbody tr th:only-of-type {\n",
       "        vertical-align: middle;\n",
       "    }\n",
       "\n",
       "    .dataframe tbody tr th {\n",
       "        vertical-align: top;\n",
       "    }\n",
       "\n",
       "    .dataframe thead th {\n",
       "        text-align: right;\n",
       "    }\n",
       "</style>\n",
       "<table border=\"1\" class=\"dataframe\">\n",
       "  <thead>\n",
       "    <tr style=\"text-align: right;\">\n",
       "      <th></th>\n",
       "      <th>f0</th>\n",
       "      <th>f1</th>\n",
       "      <th>f2</th>\n",
       "      <th>product</th>\n",
       "    </tr>\n",
       "  </thead>\n",
       "  <tbody>\n",
       "    <tr>\n",
       "      <th>count</th>\n",
       "      <td>100000.000000</td>\n",
       "      <td>100000.000000</td>\n",
       "      <td>100000.000000</td>\n",
       "      <td>100000.000000</td>\n",
       "    </tr>\n",
       "    <tr>\n",
       "      <th>mean</th>\n",
       "      <td>1.141296</td>\n",
       "      <td>-4.796579</td>\n",
       "      <td>2.494541</td>\n",
       "      <td>68.825000</td>\n",
       "    </tr>\n",
       "    <tr>\n",
       "      <th>std</th>\n",
       "      <td>8.965932</td>\n",
       "      <td>5.119872</td>\n",
       "      <td>1.703572</td>\n",
       "      <td>45.944423</td>\n",
       "    </tr>\n",
       "    <tr>\n",
       "      <th>min</th>\n",
       "      <td>-31.609576</td>\n",
       "      <td>-26.358598</td>\n",
       "      <td>-0.018144</td>\n",
       "      <td>0.000000</td>\n",
       "    </tr>\n",
       "    <tr>\n",
       "      <th>25%</th>\n",
       "      <td>-6.298551</td>\n",
       "      <td>-8.267985</td>\n",
       "      <td>1.000021</td>\n",
       "      <td>26.953261</td>\n",
       "    </tr>\n",
       "    <tr>\n",
       "      <th>50%</th>\n",
       "      <td>1.153055</td>\n",
       "      <td>-4.813172</td>\n",
       "      <td>2.011479</td>\n",
       "      <td>57.085625</td>\n",
       "    </tr>\n",
       "    <tr>\n",
       "      <th>75%</th>\n",
       "      <td>8.621015</td>\n",
       "      <td>-1.332816</td>\n",
       "      <td>3.999904</td>\n",
       "      <td>107.813044</td>\n",
       "    </tr>\n",
       "    <tr>\n",
       "      <th>max</th>\n",
       "      <td>29.421755</td>\n",
       "      <td>18.734063</td>\n",
       "      <td>5.019721</td>\n",
       "      <td>137.945408</td>\n",
       "    </tr>\n",
       "  </tbody>\n",
       "</table>\n",
       "</div>"
      ],
      "text/plain": [
       "                  f0             f1             f2        product\n",
       "count  100000.000000  100000.000000  100000.000000  100000.000000\n",
       "mean        1.141296      -4.796579       2.494541      68.825000\n",
       "std         8.965932       5.119872       1.703572      45.944423\n",
       "min       -31.609576     -26.358598      -0.018144       0.000000\n",
       "25%        -6.298551      -8.267985       1.000021      26.953261\n",
       "50%         1.153055      -4.813172       2.011479      57.085625\n",
       "75%         8.621015      -1.332816       3.999904     107.813044\n",
       "max        29.421755      18.734063       5.019721     137.945408"
      ]
     },
     "metadata": {},
     "output_type": "display_data"
    },
    {
     "data": {
      "text/html": [
       "<div>\n",
       "<style scoped>\n",
       "    .dataframe tbody tr th:only-of-type {\n",
       "        vertical-align: middle;\n",
       "    }\n",
       "\n",
       "    .dataframe tbody tr th {\n",
       "        vertical-align: top;\n",
       "    }\n",
       "\n",
       "    .dataframe thead th {\n",
       "        text-align: right;\n",
       "    }\n",
       "</style>\n",
       "<table border=\"1\" class=\"dataframe\">\n",
       "  <thead>\n",
       "    <tr style=\"text-align: right;\">\n",
       "      <th></th>\n",
       "      <th>f0</th>\n",
       "      <th>f1</th>\n",
       "      <th>f2</th>\n",
       "      <th>product</th>\n",
       "    </tr>\n",
       "  </thead>\n",
       "  <tbody>\n",
       "    <tr>\n",
       "      <th>count</th>\n",
       "      <td>100000.000000</td>\n",
       "      <td>100000.000000</td>\n",
       "      <td>100000.000000</td>\n",
       "      <td>100000.000000</td>\n",
       "    </tr>\n",
       "    <tr>\n",
       "      <th>mean</th>\n",
       "      <td>0.002023</td>\n",
       "      <td>-0.002081</td>\n",
       "      <td>2.495128</td>\n",
       "      <td>95.000000</td>\n",
       "    </tr>\n",
       "    <tr>\n",
       "      <th>std</th>\n",
       "      <td>1.732045</td>\n",
       "      <td>1.730417</td>\n",
       "      <td>3.473445</td>\n",
       "      <td>44.749921</td>\n",
       "    </tr>\n",
       "    <tr>\n",
       "      <th>min</th>\n",
       "      <td>-8.760004</td>\n",
       "      <td>-7.084020</td>\n",
       "      <td>-11.970335</td>\n",
       "      <td>0.000000</td>\n",
       "    </tr>\n",
       "    <tr>\n",
       "      <th>25%</th>\n",
       "      <td>-1.162288</td>\n",
       "      <td>-1.174820</td>\n",
       "      <td>0.130359</td>\n",
       "      <td>59.450441</td>\n",
       "    </tr>\n",
       "    <tr>\n",
       "      <th>50%</th>\n",
       "      <td>0.009424</td>\n",
       "      <td>-0.009482</td>\n",
       "      <td>2.484236</td>\n",
       "      <td>94.925613</td>\n",
       "    </tr>\n",
       "    <tr>\n",
       "      <th>75%</th>\n",
       "      <td>1.158535</td>\n",
       "      <td>1.163678</td>\n",
       "      <td>4.858794</td>\n",
       "      <td>130.595027</td>\n",
       "    </tr>\n",
       "    <tr>\n",
       "      <th>max</th>\n",
       "      <td>7.238262</td>\n",
       "      <td>7.844801</td>\n",
       "      <td>16.739402</td>\n",
       "      <td>190.029838</td>\n",
       "    </tr>\n",
       "  </tbody>\n",
       "</table>\n",
       "</div>"
      ],
      "text/plain": [
       "                  f0             f1             f2        product\n",
       "count  100000.000000  100000.000000  100000.000000  100000.000000\n",
       "mean        0.002023      -0.002081       2.495128      95.000000\n",
       "std         1.732045       1.730417       3.473445      44.749921\n",
       "min        -8.760004      -7.084020     -11.970335       0.000000\n",
       "25%        -1.162288      -1.174820       0.130359      59.450441\n",
       "50%         0.009424      -0.009482       2.484236      94.925613\n",
       "75%         1.158535       1.163678       4.858794     130.595027\n",
       "max         7.238262       7.844801      16.739402     190.029838"
      ]
     },
     "metadata": {},
     "output_type": "display_data"
    }
   ],
   "source": [
    "#исследуем основные характеристики массивов\n",
    "display(df_0.describe(), df_1.describe(), df_2.describe())"
   ]
  },
  {
   "cell_type": "markdown",
   "metadata": {},
   "source": [
    "Все три признака f0, f1, f2 расположены в диапазоне от -32 до 29, поэтому их нормализация и/или стандартизация не требуются.\n",
    "Можно отметить, что наибольший средний запас сырья в третьем регионе (95 тыс. баррелей), а наименьшая средняя во втором (69 тыс.баррелей)."
   ]
  },
  {
   "cell_type": "markdown",
   "metadata": {},
   "source": [
    "## Обучение и проверка модели"
   ]
  },
  {
   "cell_type": "code",
   "execution_count": 26,
   "metadata": {},
   "outputs": [],
   "source": [
    "#объявим переменные с признаками и целевым признаком для каждой выборки\n",
    "x_0 = df_0.drop(['product'], axis = 1)\n",
    "y_0 = df_0['product']\n",
    "x_1 = df_1.drop(['product'], axis = 1)\n",
    "y_1 = df_1['product']\n",
    "x_2 = df_2.drop(['product'], axis = 1)\n",
    "y_2 = df_2['product']"
   ]
  },
  {
   "cell_type": "code",
   "execution_count": 27,
   "metadata": {},
   "outputs": [],
   "source": [
    "#теперь разобьем данные на обучающую и валидационную выборки в соотношении 75:25.\n",
    "x_0_train, x_0_valid, y_0_train, y_0_valid = train_test_split(x_0, y_0, test_size=0.25, random_state=12345)\n",
    "x_1_train, x_1_valid, y_1_train, y_1_valid = train_test_split(x_1, y_1, test_size=0.25, random_state=12345)\n",
    "x_2_train, x_2_valid, y_2_train, y_2_valid = train_test_split(x_2, y_2, test_size=0.25, random_state=12345)"
   ]
  },
  {
   "cell_type": "code",
   "execution_count": 28,
   "metadata": {},
   "outputs": [
    {
     "name": "stdout",
     "output_type": "stream",
     "text": [
      "Средний запас сырья для первого региона: 92.59\n",
      "RMSE = 37.58\n",
      "R2 на валидационной выборке: 0.28\n"
     ]
    }
   ],
   "source": [
    "#построим модель линейное регрессии для первого региона\n",
    "lr = LinearRegression()\n",
    "lr.fit(x_0_train, y_0_train)\n",
    "predicted_valid_0 = lr.predict(x_0_valid)\n",
    "mse = mean_squared_error(y_0_valid, predicted_valid_0)\n",
    "r2 = lr.score(x_0_valid, y_0_valid)\n",
    "print(\"Средний запас сырья для первого региона:\", \"{:,.2f}\".format(predicted_valid_0.mean()))\n",
    "print(\"RMSE =\", \"{:,.2f}\".format(mse ** 0.5))\n",
    "print(\"R2 на валидационной выборке:\", \"{:,.2f}\".format(r2))"
   ]
  },
  {
   "cell_type": "code",
   "execution_count": 29,
   "metadata": {},
   "outputs": [
    {
     "name": "stdout",
     "output_type": "stream",
     "text": [
      "Средний запас сырья для второго региона: 68.73\n",
      "RMSE = 0.89\n",
      "R2 на валидационной выборке: 1.00\n"
     ]
    }
   ],
   "source": [
    "#построим модель для второго региона\n",
    "lr = LinearRegression()\n",
    "lr.fit(x_1_train,y_1_train)\n",
    "predicted_valid_1 = lr.predict(x_1_valid)\n",
    "mse = mean_squared_error(y_1_valid, predicted_valid_1)\n",
    "r2 = lr.score(x_1_valid, y_1_valid)\n",
    "print(\"Средний запас сырья для второго региона:\", \"{:,.2f}\".format(predicted_valid_1.mean()))\n",
    "print(\"RMSE =\", \"{:,.2f}\".format(mse ** 0.5))\n",
    "print(\"R2 на валидационной выборке:\", \"{:,.2f}\".format(r2))"
   ]
  },
  {
   "cell_type": "code",
   "execution_count": 30,
   "metadata": {},
   "outputs": [
    {
     "name": "stdout",
     "output_type": "stream",
     "text": [
      "Средний запас сырья для третьего региона: 94.97\n",
      "RMSE = 40.03\n",
      "R2 на валидационной выборке: 0.21\n"
     ]
    }
   ],
   "source": [
    "#построим модель для третьего региона\n",
    "lr = LinearRegression()\n",
    "lr.fit(x_2_train,y_2_train)\n",
    "predicted_valid_2 = lr.predict(x_2_valid)\n",
    "mse = mean_squared_error(y_2_valid, predicted_valid_2)\n",
    "r2 = lr.score(x_2_valid, y_2_valid)\n",
    "print(\"Средний запас сырья для третьего региона:\", \"{:,.2f}\".format(predicted_valid_2.mean()))\n",
    "print(\"RMSE =\", \"{:,.2f}\".format(mse ** 0.5))\n",
    "print(\"R2 на валидационной выборке:\", \"{:,.2f}\".format(r2))"
   ]
  },
  {
   "cell_type": "markdown",
   "metadata": {},
   "source": [
    "Аналогично фактическим данным, наибольший средний запас сырья, предсказанный моделью, приходится на третий регион, а наименьший на второй. Однако стоит обратить на метрики RMSE и R2 по второму региону: первая меньше 1, а вторая равна 1. Это говорит о том, что модель линейной регрессии очень точно прогнозирует целевой признак во втором регионе, в то время как для первого и третьего регионов эти метрики значительно хуже."
   ]
  },
  {
   "cell_type": "code",
   "execution_count": 31,
   "metadata": {},
   "outputs": [
    {
     "name": "stdout",
     "output_type": "stream",
     "text": [
      "Показатели для первого региона Средний запас сырья: 92.59 RMSE = 37.58 R2 на валидационной выборке: 0.28\n",
      "Показатели для второго региона Средний запас сырья: 68.73 RMSE = 0.89 R2 на валидационной выборке: 1.00\n",
      "Показатели для третьего региона Средний запас сырья: 94.97 RMSE = 40.03 R2 на валидационной выборке: 0.21\n"
     ]
    }
   ],
   "source": [
    "##построим модель линейное регрессии для каждого региона\n",
    "x_train = [x_0_train, x_1_train, x_2_train]\n",
    "y_train = [y_0_train, y_1_train, y_2_train]\n",
    "x_valid = [x_0_valid, x_1_valid, x_2_valid]\n",
    "y_valid = [y_0_valid, y_1_valid, y_2_valid]\n",
    "region = [\"Показатели для первого региона\", \"Показатели для второго региона\", \"Показатели для третьего региона\"]\n",
    "\n",
    "def model(x_train, y_train, x_valid, y_valid):\n",
    "    for index in range(3):\n",
    "        lr = LinearRegression()\n",
    "        lr.fit(x_train[index],y_train[index])\n",
    "        predicted_valid = lr.predict(x_valid[index])\n",
    "        mse = mean_squared_error(y_valid[index], predicted_valid)\n",
    "        r2 = lr.score(x_valid[index], y_valid[index])\n",
    "        print(region[index],\n",
    "              \"Средний запас сырья:\", \"{:,.2f}\".format(predicted_valid.mean()),\n",
    "              \"RMSE =\", \"{:,.2f}\".format(mse ** 0.5),\n",
    "              \"R2 на валидационной выборке:\", \"{:,.2f}\".format(r2))        \n",
    "        \n",
    "model(x_train, y_train, x_valid, y_valid)"
   ]
  },
  {
   "cell_type": "markdown",
   "metadata": {},
   "source": [
    "## Подготовка к расчёту прибыли"
   ]
  },
  {
   "cell_type": "code",
   "execution_count": 32,
   "metadata": {},
   "outputs": [],
   "source": [
    "#сохраним все ключевые значения для расчётов в отдельных переменных\n",
    "BUDGET = 10000000  # бюджет на разработку скважин в регионе 10 млрд рублей, но поскольку объём запасов указан в тысячах баррелей,\n",
    "#то и бюджет переведем в тысяч рублей\n",
    "PRICE = 450  # цена за один баррель сырья\n",
    "RESEARCH = 500  # количество скважин для геолого-разведки\n",
    "QUANTITY = 200  # количество скважин для разработки"
   ]
  },
  {
   "cell_type": "code",
   "execution_count": 33,
   "metadata": {},
   "outputs": [
    {
     "name": "stdout",
     "output_type": "stream",
     "text": [
      "Достаточный объем сырья для разработки новой скважины: 111.11 \n",
      "Достаточный объем сырья для безубыточной разработки 200 скважин в регионе: 22,222.22 \n",
      "Средний запас сырья для первого региона: 92.08 \n",
      "Средний запас сырья для второго региона: 68.72 \n",
      "Средний запас сырья для третьего региона: 94.88\n"
     ]
    }
   ],
   "source": [
    "#рассчитаем достаточный объём сырья для безубыточной разработки новой скважины и всего региона в целом\n",
    "pbp = BUDGET/(QUANTITY * PRICE)\n",
    "print(\"Достаточный объем сырья для разработки новой скважины:\",\"{:,.2f}\".format(pbp), \"\\n\"\n",
    "      \"Достаточный объем сырья для безубыточной разработки 200 скважин в регионе:\", \"{:,.2f}\".format(pbp*QUANTITY), \"\\n\"\n",
    "      \"Средний запас сырья для первого региона:\", \"{:,.2f}\".format(y_0_valid.mean()), \"\\n\"\n",
    "      \"Средний запас сырья для второго региона:\", \"{:,.2f}\".format(y_1_valid.mean()), \"\\n\"\n",
    "      \"Средний запас сырья для третьего региона:\", \"{:,.2f}\".format(y_2_valid.mean()))"
   ]
  },
  {
   "cell_type": "markdown",
   "metadata": {},
   "source": [
    "Для достижения точки безубыточности нам необходимо иметь средний запас сырья не менее 111.11 тыс. баррелей на одну скважину. Мы видим, что фактические средние запасы во всех трех регионах ниже данного значения. Таким образом, для каждого региона нам нужно отобрать 200 скважин с максимальными запасами, чтобы их общий запас был не меньше 22 222 тыс. баррелей. Потенциально это возможно во всех трех регионах, поскольку максимальные значения запасов превышают порог в 111 тыс. И поскольку на данном этапе ни один регион не показал достаточно хороших результатов, продолжим анализировать их все."
   ]
  },
  {
   "cell_type": "markdown",
   "metadata": {},
   "source": [
    "## Расчёт прибыли и рисков "
   ]
  },
  {
   "cell_type": "code",
   "execution_count": 34,
   "metadata": {},
   "outputs": [
    {
     "name": "stdout",
     "output_type": "stream",
     "text": [
      "Запас сырья для 200 лучших скважин первого региона: 29,601.84\n",
      "Запас сырья для 200 лучших скважин второго региона: 27,589.08\n",
      "Запас сырья для 200 лучших скважин третьего региона: 28,245.22\n"
     ]
    }
   ],
   "source": [
    "#cохраним значения predictions_valid в series с индексами из target_valid\n",
    "predicted_valid_0 = pd.Series(predicted_valid_0, index = y_0_valid.index)\n",
    "predicted_valid_1 = pd.Series(predicted_valid_1, index = y_1_valid.index)\n",
    "predicted_valid_2 = pd.Series(predicted_valid_2, index = y_2_valid.index)\n",
    "\n",
    "#теперь оценим реальные запасы сырья по лучшим 200 предсказанным скважинам\n",
    "prob_sorted_0 = predicted_valid_0.sort_values(ascending = False)\n",
    "top_200_0 = y_0_valid[prob_sorted_0.index][:QUANTITY].sum()\n",
    "prob_sorted_1 = predicted_valid_1.sort_values(ascending = False)\n",
    "top_200_1 = y_1_valid[prob_sorted_1.index][:QUANTITY].sum()\n",
    "prob_sorted_2 = predicted_valid_2.sort_values(ascending = False)\n",
    "top_200_2 = y_2_valid[prob_sorted_2.index][:QUANTITY].sum()\n",
    "\n",
    "print(\"Запас сырья для 200 лучших скважин первого региона:\", \"{:,.2f}\".format(top_200_0))\n",
    "print(\"Запас сырья для 200 лучших скважин второго региона:\", \"{:,.2f}\".format(top_200_1))\n",
    "print(\"Запас сырья для 200 лучших скважин третьего региона:\", \"{:,.2f}\".format(top_200_2))"
   ]
  },
  {
   "cell_type": "markdown",
   "metadata": {},
   "source": [
    "Как мы видим, объем запасов лучших 200 скважин во всех трех регионах превышает необходимый порог в 22 222 тыс.баррелей., что говорит о потенциальной прибыли в каждом из них. Напишем функцию, которая **по предсказаниям модели отберет 200 самых продуктивных точек в регионе и посчитает прибыль по данным из объема реальных скважин**."
   ]
  },
  {
   "cell_type": "code",
   "execution_count": 35,
   "metadata": {},
   "outputs": [
    {
     "name": "stdout",
     "output_type": "stream",
     "text": [
      "3 320 826.04\n",
      "2 415 086.70\n",
      "2 710 349.96\n"
     ]
    }
   ],
   "source": [
    "def profit(y_valid, predicted_valid):\n",
    "    prob_sorted = predicted_valid.sort_values(ascending=False)\n",
    "    selected = y_valid[prob_sorted.index][:QUANTITY]\n",
    "    return selected.sum() * PRICE - BUDGET\n",
    "\n",
    "profit_0 = profit(y_0_valid, predicted_valid_0)\n",
    "profit_1 = profit(y_1_valid, predicted_valid_1)\n",
    "profit_2 = profit(y_2_valid, predicted_valid_2)\n",
    "print(\"{:,.2f}\".format(profit_0).replace(',', ' '))\n",
    "print(\"{:,.2f}\".format(profit_1).replace(',', ' '))\n",
    "print(\"{:,.2f}\".format(profit_2).replace(',', ' '))"
   ]
  },
  {
   "cell_type": "code",
   "execution_count": 42,
   "metadata": {},
   "outputs": [
    {
     "name": "stdout",
     "output_type": "stream",
     "text": [
      "Показатели для первого региона Максимальная прибыль: 3,320,826.04\n",
      "Показатели для второго региона Максимальная прибыль: 2,415,086.70\n",
      "Показатели для третьего региона Максимальная прибыль: 2,710,349.96\n"
     ]
    }
   ],
   "source": [
    "#посчитаем максимальную прибыль для каждого региона\n",
    "predicted_valid = [predicted_valid_0, predicted_valid_1, predicted_valid_2]\n",
    "y_valid = [y_0_valid, y_1_valid, y_2_valid]\n",
    "region = [\"Показатели для первого региона\", \"Показатели для второго региона\", \"Показатели для третьего региона\"]\n",
    "\n",
    "def prof(y_valid, predicted_valid):\n",
    "    for index in range(3):\n",
    "        prob_sorted = predicted_valid[index].sort_values(ascending=False)\n",
    "        selected = y_valid[index][prob_sorted.index][:QUANTITY]\n",
    "        result = selected.sum() * PRICE - BUDGET\n",
    "        print(region[index], \"Максимальная прибыль:\", \"{:,.2f}\".format(result))\n",
    "\n",
    "prof(y_valid, predicted_valid)"
   ]
  },
  {
   "cell_type": "markdown",
   "metadata": {},
   "source": [
    "Все три региона потенциально прибыльные, однако максимальную потенциальную прибыль продемонстрировал первый регион. Применим технику bootstrap с 1000 выборок по 500 строк каждая (количество скважин для геолого-разведки), из которых в разработку пойдут 200 с наибольшими запасами, чтобы найти распределение прибыли в 95% доверительном интервале и оценить уровень риска."
   ]
  },
  {
   "cell_type": "code",
   "execution_count": 37,
   "metadata": {},
   "outputs": [
    {
     "name": "stdout",
     "output_type": "stream",
     "text": [
      "Показатели для первого региона\n",
      "Средняя выручка: 425 938.53\n",
      "Нижняя граница диапазона прогнозной прибыли: -102 090.09\n",
      "Верхняя граница диапазона прогнозной прибыли: 947 976.35\n",
      "Вероятность убытков: 6.00%\n"
     ]
    }
   ],
   "source": [
    "state = np.random.RandomState(12345)\n",
    "profit_0 = []\n",
    "loss_0 = 0\n",
    "for i in range(1000):\n",
    "    x_subsample = predicted_valid_0.sample(n = RESEARCH, replace=True, random_state=state)\n",
    "    y_subsample = y_0_valid[x_subsample.index]\n",
    "    profit_0.append(profit(y_subsample, x_subsample))\n",
    "    if profit(y_subsample, x_subsample) < 0:\n",
    "        loss_0 += 1\n",
    "\n",
    "profit_0 = pd.Series(profit_0)\n",
    "profit_0_mean = profit_0.mean()\n",
    "lower_0 = profit_0.quantile(0.025)\n",
    "upper_0 = profit_0.quantile(0.975)\n",
    "print(\"Показатели для первого региона\")\n",
    "print(\"Средняя выручка:\", \"{:,.2f}\".format(profit_0_mean).replace(',', ' '))\n",
    "print(\"Нижняя граница диапазона прогнозной прибыли:\", \"{:,.2f}\".format(lower_0).replace(',', ' '))\n",
    "print(\"Верхняя граница диапазона прогнозной прибыли:\", \"{:,.2f}\".format(upper_0).replace(',', ' '))\n",
    "print(\"Вероятность убытков:\", \"{:.2%}\".format(loss_0/1000))"
   ]
  },
  {
   "cell_type": "code",
   "execution_count": 38,
   "metadata": {},
   "outputs": [
    {
     "name": "stdout",
     "output_type": "stream",
     "text": [
      "Показатели для второго региона\n",
      "Средняя выручка: 515 222.77\n",
      "Нижняя граница диапазона прогнозной прибыли: 68 873.23\n",
      "Верхняя граница диапазона прогнозной прибыли: 931 547.59\n",
      "Вероятность убытков: 1.00%\n"
     ]
    }
   ],
   "source": [
    "state = np.random.RandomState(12345)\n",
    "profit_1 = []\n",
    "loss_1 = 0\n",
    "for i in range(1000):\n",
    "    x_subsample = predicted_valid_1.sample(n = RESEARCH, replace=True, random_state=state)\n",
    "    y_subsample = y_1_valid[x_subsample.index]\n",
    "    profit_1.append(profit(y_subsample, x_subsample))\n",
    "    if profit(y_subsample, x_subsample) < 0:\n",
    "        loss_1 += 1\n",
    "\n",
    "profit_1 = pd.Series(profit_1)\n",
    "profit_1_mean = profit_1.mean()\n",
    "lower_1 = profit_1.quantile(0.025)\n",
    "upper_1 = profit_1.quantile(0.975)\n",
    "print(\"Показатели для второго региона\")\n",
    "print(\"Средняя выручка:\", \"{:,.2f}\".format(profit_1_mean).replace(',', ' '))\n",
    "print(\"Нижняя граница диапазона прогнозной прибыли:\", \"{:,.2f}\".format(lower_1).replace(',', ' '))\n",
    "print(\"Верхняя граница диапазона прогнозной прибыли:\", \"{:,.2f}\".format(upper_1).replace(',', ' '))\n",
    "print(\"Вероятность убытков:\", \"{:.2%}\".format(loss_1/1000))"
   ]
  },
  {
   "cell_type": "code",
   "execution_count": 39,
   "metadata": {},
   "outputs": [
    {
     "name": "stdout",
     "output_type": "stream",
     "text": [
      "Показатели для третьего региона\n",
      "Средняя выручка: 435 008.36\n",
      "Нижняя граница 95% доверительного интервала: -128 880.55\n",
      "Верхняя граница 95% доверительного интервала 969 706.95\n",
      "Вероятность убытков: 6.40%\n"
     ]
    }
   ],
   "source": [
    "state = np.random.RandomState(12345)\n",
    "profit_2 = []\n",
    "loss_2 = 0\n",
    "for i in range(1000):\n",
    "    x_subsample = predicted_valid_2.sample(n = RESEARCH, replace=True, random_state=state)\n",
    "    y_subsample = y_2_valid[x_subsample.index]\n",
    "    profit_2.append(profit(y_subsample, x_subsample))\n",
    "    if profit(y_subsample, x_subsample) < 0:\n",
    "        loss_2 += 1\n",
    "\n",
    "profit_2 = pd.Series(profit_2)       \n",
    "profit_2_mean = profit_2.mean()\n",
    "lower_2 = profit_2.quantile(0.025)\n",
    "upper_2 = profit_2.quantile(0.975)\n",
    "print(\"Показатели для третьего региона\")\n",
    "print(\"Средняя выручка:\", \"{:,.2f}\".format(profit_2_mean).replace(',', ' '))\n",
    "print(\"Нижняя граница 95% доверительного интервала:\", \"{:,.2f}\".format(lower_2).replace(',', ' '))\n",
    "print(\"Верхняя граница 95% доверительного интервала\", \"{:,.2f}\".format(upper_2).replace(',', ' '))\n",
    "print(\"Вероятность убытков:\", \"{:.2%}\".format(loss_2/1000))"
   ]
  },
  {
   "cell_type": "code",
   "execution_count": 40,
   "metadata": {
    "scrolled": true
   },
   "outputs": [
    {
     "name": "stdout",
     "output_type": "stream",
     "text": [
      "Показатели для первого региона \n",
      "Средняя выручка: 425 938.53 \n",
      "Нижняя граница 95% диапазона прогнозной прибыли: -102 090.09 \n",
      "Верхняя граница 95% диапазона прогнозной прибыли: 947 976.35 \n",
      "Вероятность убытков: 6.00% \n",
      "\n",
      "Показатели для второго региона \n",
      "Средняя выручка: 515 222.77 \n",
      "Нижняя граница 95% диапазона прогнозной прибыли: 68 873.23 \n",
      "Верхняя граница 95% диапазона прогнозной прибыли: 931 547.59 \n",
      "Вероятность убытков: 1.00% \n",
      "\n",
      "Показатели для третьего региона \n",
      "Средняя выручка: 435 008.36 \n",
      "Нижняя граница 95% диапазона прогнозной прибыли: -128 880.55 \n",
      "Верхняя граница 95% диапазона прогнозной прибыли: 969 706.95 \n",
      "Вероятность убытков: 6.40% \n",
      "\n"
     ]
    }
   ],
   "source": [
    "#bootstrap также можно вложить в цикл и функцию\n",
    "predicted_valid = [predicted_valid_0, predicted_valid_1, predicted_valid_2]\n",
    "y_valid = [y_0_valid, y_1_valid, y_2_valid]\n",
    "region = [\"Показатели для первого региона\", \"Показатели для второго региона\", \"Показатели для третьего региона\"]\n",
    "\n",
    "def bootstrap(predicted_valid, y_valid):\n",
    "    for index in range(3):\n",
    "        state = np.random.RandomState(12345)\n",
    "        prof = []\n",
    "        for i in range(1000):\n",
    "            x_subsample = predicted_valid[index].sample(n = RESEARCH, replace=True, random_state=state)\n",
    "            y_subsample = y_valid[index][x_subsample.index]\n",
    "            prof.append(profit(y_subsample, x_subsample))\n",
    "            \n",
    "        prof = pd.Series(prof)\n",
    "        prof_mean = prof.mean()\n",
    "        lower = prof.quantile(0.025)\n",
    "        upper = prof.quantile(0.975)\n",
    "        print(region[index], \"\\n\"\n",
    "              \"Средняя выручка:\", \"{:,.2f}\".format(prof_mean).replace(',', ' '), \"\\n\"\n",
    "              \"Нижняя граница 95% диапазона прогнозной прибыли:\", \"{:,.2f}\".format(lower).replace(',', ' '), \"\\n\"\n",
    "              \"Верхняя граница 95% диапазона прогнозной прибыли:\", \"{:,.2f}\".format(upper).replace(',', ' '), \"\\n\"\n",
    "              \"Вероятность убытков:\", \"{:.2%}\".format((prof < 0).mean()), \"\\n\"\n",
    "              \"\"\n",
    "             )\n",
    "        \n",
    "bootstrap(predicted_valid, y_valid)"
   ]
  },
  {
   "cell_type": "markdown",
   "metadata": {},
   "source": [
    "Для каждого региона с помощью метода bootstrap мы определили среднюю выручку, диапазон 95% доверительного интервала, а также риск убытков. Наибольшую среднюю прибыль продемонстрировал второй регион. Однако помимо прибыли необходимо принимать во внимание риск возникноваения убытков. Приемлемый уровень риска убытков установлен на уровне 2.5%. Этому показателю удовлетворяет также только второй регион. В связи с этим **можно рекомендовать для разработки скважин второй регион, который имеет как наибольшее значение средней выручки (515 млн.руб.), так и наименьший уровень риска (1%).** "
   ]
  }
 ],
 "metadata": {
  "ExecuteTimeLog": [
   {
    "duration": 523,
    "start_time": "2022-04-12T08:26:38.468Z"
   },
   {
    "duration": 188,
    "start_time": "2022-04-12T08:26:38.994Z"
   },
   {
    "duration": 495,
    "start_time": "2022-04-12T08:28:17.755Z"
   },
   {
    "duration": 467,
    "start_time": "2022-04-12T08:28:54.362Z"
   },
   {
    "duration": 461,
    "start_time": "2022-04-12T08:29:18.754Z"
   },
   {
    "duration": 543,
    "start_time": "2022-04-12T08:30:32.059Z"
   },
   {
    "duration": 24,
    "start_time": "2022-04-12T08:41:01.892Z"
   },
   {
    "duration": 542,
    "start_time": "2022-04-12T08:41:50.204Z"
   },
   {
    "duration": 456,
    "start_time": "2022-04-12T08:52:45.076Z"
   },
   {
    "duration": 263,
    "start_time": "2022-04-12T08:55:39.165Z"
   },
   {
    "duration": 456,
    "start_time": "2022-04-12T08:55:45.588Z"
   },
   {
    "duration": 1949,
    "start_time": "2022-04-12T09:29:47.379Z"
   },
   {
    "duration": 545,
    "start_time": "2022-04-12T09:29:49.331Z"
   },
   {
    "duration": 432,
    "start_time": "2022-04-12T09:29:49.878Z"
   },
   {
    "duration": 10000,
    "start_time": "2022-04-12T09:29:50.312Z"
   },
   {
    "duration": 172,
    "start_time": "2022-04-12T09:37:19.261Z"
   },
   {
    "duration": 2000,
    "start_time": "2022-04-12T09:37:32.425Z"
   },
   {
    "duration": 600,
    "start_time": "2022-04-12T09:37:34.427Z"
   },
   {
    "duration": 433,
    "start_time": "2022-04-12T09:37:35.030Z"
   },
   {
    "duration": 15,
    "start_time": "2022-04-12T09:37:35.465Z"
   },
   {
    "duration": 116,
    "start_time": "2022-04-12T09:37:35.494Z"
   },
   {
    "duration": 103,
    "start_time": "2022-04-12T09:38:05.084Z"
   },
   {
    "duration": 100,
    "start_time": "2022-04-12T09:38:24.228Z"
   },
   {
    "duration": 99,
    "start_time": "2022-04-12T09:38:30.326Z"
   },
   {
    "duration": 153,
    "start_time": "2022-04-12T09:39:17.821Z"
   },
   {
    "duration": 13,
    "start_time": "2022-04-12T09:39:22.462Z"
   },
   {
    "duration": 97,
    "start_time": "2022-04-12T09:39:24.653Z"
   },
   {
    "duration": 81,
    "start_time": "2022-04-12T09:45:38.358Z"
   },
   {
    "duration": 89,
    "start_time": "2022-04-12T09:55:03.330Z"
   },
   {
    "duration": 105,
    "start_time": "2022-04-12T09:56:25.325Z"
   },
   {
    "duration": 1991,
    "start_time": "2022-04-12T09:57:21.206Z"
   },
   {
    "duration": 545,
    "start_time": "2022-04-12T09:57:23.200Z"
   },
   {
    "duration": 406,
    "start_time": "2022-04-12T09:57:23.747Z"
   },
   {
    "duration": 97,
    "start_time": "2022-04-12T09:57:24.156Z"
   },
   {
    "duration": 13,
    "start_time": "2022-04-12T09:57:24.255Z"
   },
   {
    "duration": 78,
    "start_time": "2022-04-12T09:57:24.270Z"
   },
   {
    "duration": 271,
    "start_time": "2022-04-12T09:57:24.350Z"
   },
   {
    "duration": 1983,
    "start_time": "2022-04-12T10:01:05.212Z"
   },
   {
    "duration": 550,
    "start_time": "2022-04-12T10:01:07.201Z"
   },
   {
    "duration": 486,
    "start_time": "2022-04-12T10:01:07.753Z"
   },
   {
    "duration": 102,
    "start_time": "2022-04-12T10:01:08.241Z"
   },
   {
    "duration": 15,
    "start_time": "2022-04-12T10:01:08.346Z"
   },
   {
    "duration": 31,
    "start_time": "2022-04-12T10:01:08.363Z"
   },
   {
    "duration": 44,
    "start_time": "2022-04-12T10:01:08.401Z"
   },
   {
    "duration": 59,
    "start_time": "2022-04-12T10:01:08.447Z"
   },
   {
    "duration": 33,
    "start_time": "2022-04-12T10:01:27.225Z"
   },
   {
    "duration": 33,
    "start_time": "2022-04-12T10:01:55.128Z"
   },
   {
    "duration": 172,
    "start_time": "2022-04-12T10:04:03.604Z"
   },
   {
    "duration": 1870,
    "start_time": "2022-04-12T10:04:09.927Z"
   },
   {
    "duration": 553,
    "start_time": "2022-04-12T10:04:11.800Z"
   },
   {
    "duration": 394,
    "start_time": "2022-04-12T10:04:12.355Z"
   },
   {
    "duration": 99,
    "start_time": "2022-04-12T10:04:12.752Z"
   },
   {
    "duration": 13,
    "start_time": "2022-04-12T10:04:12.856Z"
   },
   {
    "duration": 31,
    "start_time": "2022-04-12T10:04:12.872Z"
   },
   {
    "duration": 39,
    "start_time": "2022-04-12T10:04:12.908Z"
   },
   {
    "duration": 196,
    "start_time": "2022-04-12T10:04:12.949Z"
   },
   {
    "duration": 193,
    "start_time": "2022-04-12T10:04:30.205Z"
   },
   {
    "duration": 2124,
    "start_time": "2022-04-12T11:25:40.614Z"
   },
   {
    "duration": 617,
    "start_time": "2022-04-12T11:25:42.742Z"
   },
   {
    "duration": 595,
    "start_time": "2022-04-12T11:25:43.361Z"
   },
   {
    "duration": 101,
    "start_time": "2022-04-12T11:25:43.959Z"
   },
   {
    "duration": 14,
    "start_time": "2022-04-12T11:25:44.063Z"
   },
   {
    "duration": 21,
    "start_time": "2022-04-12T11:25:44.079Z"
   },
   {
    "duration": 41,
    "start_time": "2022-04-12T11:25:44.103Z"
   },
   {
    "duration": 158,
    "start_time": "2022-04-12T11:25:44.146Z"
   },
   {
    "duration": 78,
    "start_time": "2022-04-12T11:32:10.624Z"
   },
   {
    "duration": 10,
    "start_time": "2022-04-12T11:34:34.666Z"
   },
   {
    "duration": 48,
    "start_time": "2022-04-12T11:35:10.889Z"
   },
   {
    "duration": 9,
    "start_time": "2022-04-12T11:35:38.320Z"
   },
   {
    "duration": 7,
    "start_time": "2022-04-12T11:35:47.576Z"
   },
   {
    "duration": 95,
    "start_time": "2022-04-12T11:40:07.400Z"
   },
   {
    "duration": 14,
    "start_time": "2022-04-12T11:40:39.883Z"
   },
   {
    "duration": 167,
    "start_time": "2022-04-12T11:42:31.437Z"
   },
   {
    "duration": 1902,
    "start_time": "2022-04-12T11:45:31.920Z"
   },
   {
    "duration": 508,
    "start_time": "2022-04-12T11:45:33.825Z"
   },
   {
    "duration": 342,
    "start_time": "2022-04-12T11:45:34.335Z"
   },
   {
    "duration": 89,
    "start_time": "2022-04-12T11:45:34.680Z"
   },
   {
    "duration": 30,
    "start_time": "2022-04-12T11:45:34.774Z"
   },
   {
    "duration": 11,
    "start_time": "2022-04-12T11:45:34.807Z"
   },
   {
    "duration": 36,
    "start_time": "2022-04-12T11:45:34.821Z"
   },
   {
    "duration": 138,
    "start_time": "2022-04-12T11:45:34.859Z"
   },
   {
    "duration": 104,
    "start_time": "2022-04-12T11:45:35.001Z"
   },
   {
    "duration": 187,
    "start_time": "2022-04-12T11:45:35.108Z"
   },
   {
    "duration": 363,
    "start_time": "2022-04-12T11:47:04.080Z"
   },
   {
    "duration": 30,
    "start_time": "2022-04-12T11:47:25.267Z"
   },
   {
    "duration": 156,
    "start_time": "2022-04-12T11:55:48.237Z"
   },
   {
    "duration": 2271,
    "start_time": "2022-04-12T11:56:19.565Z"
   },
   {
    "duration": 497,
    "start_time": "2022-04-12T11:56:21.839Z"
   },
   {
    "duration": 355,
    "start_time": "2022-04-12T11:56:22.338Z"
   },
   {
    "duration": 98,
    "start_time": "2022-04-12T11:56:22.696Z"
   },
   {
    "duration": 12,
    "start_time": "2022-04-12T11:56:22.797Z"
   },
   {
    "duration": 14,
    "start_time": "2022-04-12T11:56:22.811Z"
   },
   {
    "duration": 40,
    "start_time": "2022-04-12T11:56:22.827Z"
   },
   {
    "duration": 364,
    "start_time": "2022-04-12T11:56:22.870Z"
   },
   {
    "duration": 0,
    "start_time": "2022-04-12T11:56:23.236Z"
   },
   {
    "duration": 0,
    "start_time": "2022-04-12T11:56:23.238Z"
   },
   {
    "duration": 90,
    "start_time": "2022-04-12T11:56:40.105Z"
   },
   {
    "duration": 67,
    "start_time": "2022-04-12T11:56:54.928Z"
   },
   {
    "duration": 121,
    "start_time": "2022-04-12T11:57:30.273Z"
   },
   {
    "duration": 26,
    "start_time": "2022-04-12T11:57:34.576Z"
   },
   {
    "duration": 110,
    "start_time": "2022-04-12T11:57:44.585Z"
   },
   {
    "duration": 29,
    "start_time": "2022-04-12T12:01:05.066Z"
   },
   {
    "duration": 158,
    "start_time": "2022-04-12T12:02:07.940Z"
   },
   {
    "duration": 163,
    "start_time": "2022-04-12T12:02:33.731Z"
   },
   {
    "duration": 101,
    "start_time": "2022-04-12T12:02:33.898Z"
   },
   {
    "duration": 59,
    "start_time": "2022-04-12T12:04:20.836Z"
   },
   {
    "duration": 56,
    "start_time": "2022-04-12T12:04:25.241Z"
   },
   {
    "duration": 2220,
    "start_time": "2022-04-12T12:05:13.383Z"
   },
   {
    "duration": 552,
    "start_time": "2022-04-12T12:05:15.606Z"
   },
   {
    "duration": 417,
    "start_time": "2022-04-12T12:05:16.160Z"
   },
   {
    "duration": 94,
    "start_time": "2022-04-12T12:05:16.580Z"
   },
   {
    "duration": 26,
    "start_time": "2022-04-12T12:05:16.677Z"
   },
   {
    "duration": 24,
    "start_time": "2022-04-12T12:05:16.706Z"
   },
   {
    "duration": 43,
    "start_time": "2022-04-12T12:05:16.734Z"
   },
   {
    "duration": 116,
    "start_time": "2022-04-12T12:05:16.779Z"
   },
   {
    "duration": 99,
    "start_time": "2022-04-12T12:05:16.907Z"
   },
   {
    "duration": 201,
    "start_time": "2022-04-12T12:05:17.009Z"
   },
   {
    "duration": 18,
    "start_time": "2022-04-12T12:06:11.531Z"
   },
   {
    "duration": 16,
    "start_time": "2022-04-12T12:06:23.083Z"
   },
   {
    "duration": 21,
    "start_time": "2022-04-12T12:10:52.247Z"
   },
   {
    "duration": 17,
    "start_time": "2022-04-12T12:11:08.104Z"
   },
   {
    "duration": 44,
    "start_time": "2022-04-12T12:11:44.853Z"
   },
   {
    "duration": 27,
    "start_time": "2022-04-12T12:11:50.975Z"
   },
   {
    "duration": 12,
    "start_time": "2022-04-12T12:18:14.042Z"
   },
   {
    "duration": 49,
    "start_time": "2022-04-12T12:19:52.547Z"
   },
   {
    "duration": 89,
    "start_time": "2022-04-12T12:20:02.506Z"
   },
   {
    "duration": 99,
    "start_time": "2022-04-12T12:20:02.599Z"
   },
   {
    "duration": 12,
    "start_time": "2022-04-12T12:21:16.059Z"
   },
   {
    "duration": 16,
    "start_time": "2022-04-12T12:21:50.092Z"
   },
   {
    "duration": 21,
    "start_time": "2022-04-12T12:22:03.555Z"
   },
   {
    "duration": 154,
    "start_time": "2022-04-12T12:22:15.740Z"
   },
   {
    "duration": 124,
    "start_time": "2022-04-12T12:23:18.287Z"
   },
   {
    "duration": 7,
    "start_time": "2022-04-12T12:41:35.051Z"
   },
   {
    "duration": 6,
    "start_time": "2022-04-12T12:42:02.250Z"
   },
   {
    "duration": 142,
    "start_time": "2022-04-12T12:42:14.955Z"
   },
   {
    "duration": 225,
    "start_time": "2022-04-12T12:48:13.005Z"
   },
   {
    "duration": 2199,
    "start_time": "2022-04-12T12:48:20.109Z"
   },
   {
    "duration": 691,
    "start_time": "2022-04-12T12:48:22.311Z"
   },
   {
    "duration": 571,
    "start_time": "2022-04-12T12:48:23.005Z"
   },
   {
    "duration": 99,
    "start_time": "2022-04-12T12:48:23.579Z"
   },
   {
    "duration": 32,
    "start_time": "2022-04-12T12:48:23.692Z"
   },
   {
    "duration": 35,
    "start_time": "2022-04-12T12:48:23.727Z"
   },
   {
    "duration": 129,
    "start_time": "2022-04-12T12:48:23.764Z"
   },
   {
    "duration": 102,
    "start_time": "2022-04-12T12:48:23.895Z"
   },
   {
    "duration": 328,
    "start_time": "2022-04-12T12:48:24.004Z"
   },
   {
    "duration": 0,
    "start_time": "2022-04-12T12:48:24.335Z"
   },
   {
    "duration": 187,
    "start_time": "2022-04-12T12:51:38.612Z"
   },
   {
    "duration": 106,
    "start_time": "2022-04-12T12:51:44.987Z"
   },
   {
    "duration": 112,
    "start_time": "2022-04-12T12:52:23.492Z"
   },
   {
    "duration": 2774,
    "start_time": "2022-04-12T12:52:30.069Z"
   },
   {
    "duration": 892,
    "start_time": "2022-04-12T12:52:32.847Z"
   },
   {
    "duration": 556,
    "start_time": "2022-04-12T12:52:33.742Z"
   },
   {
    "duration": 128,
    "start_time": "2022-04-12T12:52:34.301Z"
   },
   {
    "duration": 33,
    "start_time": "2022-04-12T12:52:34.433Z"
   },
   {
    "duration": 49,
    "start_time": "2022-04-12T12:52:34.469Z"
   },
   {
    "duration": 168,
    "start_time": "2022-04-12T12:52:34.521Z"
   },
   {
    "duration": 120,
    "start_time": "2022-04-12T12:52:34.694Z"
   },
   {
    "duration": 101,
    "start_time": "2022-04-12T12:52:34.820Z"
   },
   {
    "duration": 174,
    "start_time": "2022-04-12T12:52:34.924Z"
   },
   {
    "duration": 22,
    "start_time": "2022-04-12T12:53:08.738Z"
   },
   {
    "duration": 21,
    "start_time": "2022-04-12T12:53:19.521Z"
   },
   {
    "duration": 2718,
    "start_time": "2022-04-12T12:53:47.205Z"
   },
   {
    "duration": 837,
    "start_time": "2022-04-12T12:53:49.927Z"
   },
   {
    "duration": 609,
    "start_time": "2022-04-12T12:53:50.767Z"
   },
   {
    "duration": 134,
    "start_time": "2022-04-12T12:53:51.379Z"
   },
   {
    "duration": 19,
    "start_time": "2022-04-12T12:53:51.518Z"
   },
   {
    "duration": 18,
    "start_time": "2022-04-12T12:53:51.539Z"
   },
   {
    "duration": 69,
    "start_time": "2022-04-12T12:53:51.561Z"
   },
   {
    "duration": 167,
    "start_time": "2022-04-12T12:53:51.632Z"
   },
   {
    "duration": 92,
    "start_time": "2022-04-12T12:53:51.802Z"
   },
   {
    "duration": 117,
    "start_time": "2022-04-12T12:53:51.897Z"
   },
   {
    "duration": 47,
    "start_time": "2022-04-12T13:00:42.823Z"
   },
   {
    "duration": 46,
    "start_time": "2022-04-12T13:01:04.407Z"
   },
   {
    "duration": 45,
    "start_time": "2022-04-12T13:01:45.015Z"
   },
   {
    "duration": 2936,
    "start_time": "2022-04-12T13:02:15.498Z"
   },
   {
    "duration": 885,
    "start_time": "2022-04-12T13:02:18.437Z"
   },
   {
    "duration": 28,
    "start_time": "2022-04-12T13:02:19.325Z"
   },
   {
    "duration": 39,
    "start_time": "2022-04-12T13:02:19.356Z"
   },
   {
    "duration": 43,
    "start_time": "2022-04-12T13:02:19.399Z"
   },
   {
    "duration": 53,
    "start_time": "2022-04-12T13:02:19.444Z"
   },
   {
    "duration": 106,
    "start_time": "2022-04-12T13:02:19.500Z"
   },
   {
    "duration": 96,
    "start_time": "2022-04-12T13:02:19.609Z"
   },
   {
    "duration": 250,
    "start_time": "2022-04-12T13:02:58.966Z"
   },
   {
    "duration": 114,
    "start_time": "2022-04-12T13:03:21.980Z"
   },
   {
    "duration": 26,
    "start_time": "2022-04-12T13:04:00.501Z"
   },
   {
    "duration": 146,
    "start_time": "2022-04-12T13:17:54.562Z"
   },
   {
    "duration": 4,
    "start_time": "2022-04-12T13:17:58.450Z"
   },
   {
    "duration": 3,
    "start_time": "2022-04-12T13:18:00.563Z"
   },
   {
    "duration": 4,
    "start_time": "2022-04-12T13:18:09.202Z"
   },
   {
    "duration": 6,
    "start_time": "2022-04-12T13:18:13.931Z"
   },
   {
    "duration": 6,
    "start_time": "2022-04-12T13:19:01.090Z"
   },
   {
    "duration": 4,
    "start_time": "2022-04-12T13:20:08.843Z"
   },
   {
    "duration": 5,
    "start_time": "2022-04-12T13:20:21.866Z"
   },
   {
    "duration": 4,
    "start_time": "2022-04-12T13:20:32.539Z"
   },
   {
    "duration": 44,
    "start_time": "2022-04-12T13:38:40.258Z"
   },
   {
    "duration": 50,
    "start_time": "2022-04-12T13:40:33.099Z"
   },
   {
    "duration": 2014,
    "start_time": "2022-04-12T13:50:59.566Z"
   },
   {
    "duration": 558,
    "start_time": "2022-04-12T13:51:01.583Z"
   },
   {
    "duration": 21,
    "start_time": "2022-04-12T13:51:02.143Z"
   },
   {
    "duration": 47,
    "start_time": "2022-04-12T13:51:02.193Z"
   },
   {
    "duration": 30,
    "start_time": "2022-04-12T13:51:02.245Z"
   },
   {
    "duration": 100,
    "start_time": "2022-04-12T13:51:02.278Z"
   },
   {
    "duration": 461,
    "start_time": "2022-04-12T13:51:02.381Z"
   },
   {
    "duration": 0,
    "start_time": "2022-04-12T13:51:02.844Z"
   },
   {
    "duration": 0,
    "start_time": "2022-04-12T13:51:02.846Z"
   },
   {
    "duration": 0,
    "start_time": "2022-04-12T13:51:02.848Z"
   },
   {
    "duration": 0,
    "start_time": "2022-04-12T13:51:02.849Z"
   },
   {
    "duration": 0,
    "start_time": "2022-04-12T13:51:02.851Z"
   },
   {
    "duration": 1840,
    "start_time": "2022-04-12T13:51:33.936Z"
   },
   {
    "duration": 538,
    "start_time": "2022-04-12T13:51:35.778Z"
   },
   {
    "duration": 21,
    "start_time": "2022-04-12T13:51:36.318Z"
   },
   {
    "duration": 72,
    "start_time": "2022-04-12T13:51:36.344Z"
   },
   {
    "duration": 12,
    "start_time": "2022-04-12T13:51:36.419Z"
   },
   {
    "duration": 60,
    "start_time": "2022-04-12T13:51:36.433Z"
   },
   {
    "duration": 100,
    "start_time": "2022-04-12T13:51:36.495Z"
   },
   {
    "duration": 197,
    "start_time": "2022-04-12T13:51:36.598Z"
   },
   {
    "duration": 191,
    "start_time": "2022-04-12T13:51:36.803Z"
   },
   {
    "duration": 96,
    "start_time": "2022-04-12T13:51:36.999Z"
   },
   {
    "duration": 10,
    "start_time": "2022-04-12T13:51:37.097Z"
   },
   {
    "duration": 11,
    "start_time": "2022-04-12T13:51:37.109Z"
   },
   {
    "duration": 6,
    "start_time": "2022-04-12T13:51:57.035Z"
   },
   {
    "duration": 152,
    "start_time": "2022-04-12T13:52:04.970Z"
   },
   {
    "duration": 12,
    "start_time": "2022-04-12T13:53:14.820Z"
   },
   {
    "duration": 8,
    "start_time": "2022-04-12T13:54:46.389Z"
   },
   {
    "duration": 15,
    "start_time": "2022-04-12T13:55:15.325Z"
   },
   {
    "duration": 11,
    "start_time": "2022-04-12T13:55:28.443Z"
   },
   {
    "duration": 12,
    "start_time": "2022-04-12T13:55:38.228Z"
   },
   {
    "duration": 10,
    "start_time": "2022-04-12T13:55:44.093Z"
   },
   {
    "duration": 13,
    "start_time": "2022-04-12T13:59:12.228Z"
   },
   {
    "duration": 12,
    "start_time": "2022-04-12T13:59:19.332Z"
   },
   {
    "duration": 30,
    "start_time": "2022-04-12T14:00:52.967Z"
   },
   {
    "duration": 23,
    "start_time": "2022-04-12T14:01:29.975Z"
   },
   {
    "duration": 23,
    "start_time": "2022-04-12T14:01:41.950Z"
   },
   {
    "duration": 25,
    "start_time": "2022-04-12T14:01:52.183Z"
   },
   {
    "duration": 5,
    "start_time": "2022-04-12T14:03:25.048Z"
   },
   {
    "duration": 6,
    "start_time": "2022-04-12T14:03:42.808Z"
   },
   {
    "duration": 5,
    "start_time": "2022-04-12T14:04:37.016Z"
   },
   {
    "duration": 6,
    "start_time": "2022-04-12T14:04:49.551Z"
   },
   {
    "duration": 6,
    "start_time": "2022-04-12T14:05:09.255Z"
   },
   {
    "duration": 7,
    "start_time": "2022-04-12T14:06:21.464Z"
   },
   {
    "duration": 24,
    "start_time": "2022-04-12T14:09:28.226Z"
   },
   {
    "duration": 8,
    "start_time": "2022-04-12T14:09:30.840Z"
   },
   {
    "duration": 22,
    "start_time": "2022-04-12T14:09:49.451Z"
   },
   {
    "duration": 23,
    "start_time": "2022-04-12T14:09:58.682Z"
   },
   {
    "duration": 29,
    "start_time": "2022-04-12T14:11:07.868Z"
   },
   {
    "duration": 7,
    "start_time": "2022-04-12T14:11:17.147Z"
   },
   {
    "duration": 5,
    "start_time": "2022-04-12T14:12:41.643Z"
   },
   {
    "duration": 7,
    "start_time": "2022-04-12T14:13:12.597Z"
   },
   {
    "duration": 12,
    "start_time": "2022-04-12T14:14:07.958Z"
   },
   {
    "duration": 6,
    "start_time": "2022-04-12T14:15:02.085Z"
   },
   {
    "duration": 6,
    "start_time": "2022-04-12T14:15:23.012Z"
   },
   {
    "duration": 10,
    "start_time": "2022-04-12T14:15:59.596Z"
   },
   {
    "duration": 13,
    "start_time": "2022-04-12T14:16:15.340Z"
   },
   {
    "duration": 12,
    "start_time": "2022-04-12T14:16:22.437Z"
   },
   {
    "duration": 6,
    "start_time": "2022-04-12T14:16:38.109Z"
   },
   {
    "duration": 6,
    "start_time": "2022-04-12T14:29:59.745Z"
   },
   {
    "duration": 5,
    "start_time": "2022-04-12T14:30:07.786Z"
   },
   {
    "duration": 5,
    "start_time": "2022-04-12T14:34:43.908Z"
   },
   {
    "duration": 5,
    "start_time": "2022-04-12T14:40:30.710Z"
   },
   {
    "duration": 5,
    "start_time": "2022-04-12T14:40:44.948Z"
   },
   {
    "duration": 7,
    "start_time": "2022-04-12T14:40:50.678Z"
   },
   {
    "duration": 13,
    "start_time": "2022-04-12T14:42:54.630Z"
   },
   {
    "duration": 2074,
    "start_time": "2022-04-12T14:43:23.848Z"
   },
   {
    "duration": 569,
    "start_time": "2022-04-12T14:43:25.925Z"
   },
   {
    "duration": 24,
    "start_time": "2022-04-12T14:43:26.497Z"
   },
   {
    "duration": 76,
    "start_time": "2022-04-12T14:43:26.524Z"
   },
   {
    "duration": 11,
    "start_time": "2022-04-12T14:43:26.604Z"
   },
   {
    "duration": 47,
    "start_time": "2022-04-12T14:43:26.618Z"
   },
   {
    "duration": 135,
    "start_time": "2022-04-12T14:43:26.668Z"
   },
   {
    "duration": 186,
    "start_time": "2022-04-12T14:43:26.806Z"
   },
   {
    "duration": 115,
    "start_time": "2022-04-12T14:43:26.996Z"
   },
   {
    "duration": 6,
    "start_time": "2022-04-12T14:43:27.195Z"
   },
   {
    "duration": 101,
    "start_time": "2022-04-12T14:43:27.204Z"
   },
   {
    "duration": 32,
    "start_time": "2022-04-12T14:43:27.308Z"
   },
   {
    "duration": 7,
    "start_time": "2022-04-12T14:43:27.342Z"
   },
   {
    "duration": 174,
    "start_time": "2022-04-12T14:43:27.353Z"
   },
   {
    "duration": 0,
    "start_time": "2022-04-12T14:43:27.529Z"
   },
   {
    "duration": 188,
    "start_time": "2022-04-12T14:43:45.866Z"
   },
   {
    "duration": 2604,
    "start_time": "2022-04-12T14:44:10.114Z"
   },
   {
    "duration": 144,
    "start_time": "2022-04-12T14:47:18.155Z"
   },
   {
    "duration": 515,
    "start_time": "2022-04-12T14:50:27.644Z"
   },
   {
    "duration": 750,
    "start_time": "2022-04-12T14:50:53.614Z"
   },
   {
    "duration": 802,
    "start_time": "2022-04-12T14:52:39.590Z"
   },
   {
    "duration": 660,
    "start_time": "2022-04-12T14:52:46.885Z"
   },
   {
    "duration": 566,
    "start_time": "2022-04-12T14:52:54.902Z"
   },
   {
    "duration": 559,
    "start_time": "2022-04-12T14:53:09.021Z"
   },
   {
    "duration": 569,
    "start_time": "2022-04-12T14:53:33.765Z"
   },
   {
    "duration": 581,
    "start_time": "2022-04-12T14:55:22.534Z"
   },
   {
    "duration": 32,
    "start_time": "2022-04-12T14:56:44.976Z"
   },
   {
    "duration": 21,
    "start_time": "2022-04-12T14:57:13.318Z"
   },
   {
    "duration": 210,
    "start_time": "2022-04-12T14:57:28.225Z"
   },
   {
    "duration": 24,
    "start_time": "2022-04-12T14:57:40.607Z"
   },
   {
    "duration": 24,
    "start_time": "2022-04-12T14:58:24.046Z"
   },
   {
    "duration": 19,
    "start_time": "2022-04-12T14:58:52.336Z"
   },
   {
    "duration": 21,
    "start_time": "2022-04-12T14:59:23.209Z"
   },
   {
    "duration": 23,
    "start_time": "2022-04-12T14:59:49.727Z"
   },
   {
    "duration": 20,
    "start_time": "2022-04-12T15:00:01.167Z"
   },
   {
    "duration": 17,
    "start_time": "2022-04-12T15:00:06.217Z"
   },
   {
    "duration": 16,
    "start_time": "2022-04-12T15:01:38.832Z"
   },
   {
    "duration": 17,
    "start_time": "2022-04-12T15:01:48.617Z"
   },
   {
    "duration": 18,
    "start_time": "2022-04-12T15:02:18.592Z"
   },
   {
    "duration": 24,
    "start_time": "2022-04-12T15:02:36.682Z"
   },
   {
    "duration": 20,
    "start_time": "2022-04-12T15:03:03.994Z"
   },
   {
    "duration": 19,
    "start_time": "2022-04-12T15:03:48.611Z"
   },
   {
    "duration": 16,
    "start_time": "2022-04-12T15:04:01.618Z"
   },
   {
    "duration": 325,
    "start_time": "2022-04-12T15:04:29.960Z"
   },
   {
    "duration": 280,
    "start_time": "2022-04-12T15:05:00.441Z"
   },
   {
    "duration": 276,
    "start_time": "2022-04-12T15:05:10.906Z"
   },
   {
    "duration": 289,
    "start_time": "2022-04-12T15:05:20.594Z"
   },
   {
    "duration": 300,
    "start_time": "2022-04-12T15:06:19.403Z"
   },
   {
    "duration": 278,
    "start_time": "2022-04-12T15:06:51.115Z"
   },
   {
    "duration": 295,
    "start_time": "2022-04-12T15:07:02.099Z"
   },
   {
    "duration": 5,
    "start_time": "2022-04-12T15:28:59.603Z"
   },
   {
    "duration": 5,
    "start_time": "2022-04-12T15:29:08.419Z"
   },
   {
    "duration": 12,
    "start_time": "2022-04-12T15:34:51.821Z"
   },
   {
    "duration": 7,
    "start_time": "2022-04-12T15:35:12.174Z"
   },
   {
    "duration": 8,
    "start_time": "2022-04-12T15:35:53.846Z"
   },
   {
    "duration": 8,
    "start_time": "2022-04-12T15:36:23.573Z"
   },
   {
    "duration": 15,
    "start_time": "2022-04-12T15:41:53.361Z"
   },
   {
    "duration": 2021,
    "start_time": "2022-04-12T15:41:59.926Z"
   },
   {
    "duration": 560,
    "start_time": "2022-04-12T15:42:01.950Z"
   },
   {
    "duration": 23,
    "start_time": "2022-04-12T15:42:02.512Z"
   },
   {
    "duration": 76,
    "start_time": "2022-04-12T15:42:02.537Z"
   },
   {
    "duration": 11,
    "start_time": "2022-04-12T15:42:02.616Z"
   },
   {
    "duration": 45,
    "start_time": "2022-04-12T15:42:02.630Z"
   },
   {
    "duration": 43,
    "start_time": "2022-04-12T15:42:02.677Z"
   },
   {
    "duration": 115,
    "start_time": "2022-04-12T15:42:02.797Z"
   },
   {
    "duration": 205,
    "start_time": "2022-04-12T15:42:02.995Z"
   },
   {
    "duration": 91,
    "start_time": "2022-04-12T15:42:03.203Z"
   },
   {
    "duration": 12,
    "start_time": "2022-04-12T15:42:03.298Z"
   },
   {
    "duration": 26,
    "start_time": "2022-04-12T15:42:03.395Z"
   },
   {
    "duration": 7,
    "start_time": "2022-04-12T15:42:03.423Z"
   },
   {
    "duration": 190,
    "start_time": "2022-04-12T15:42:03.433Z"
   },
   {
    "duration": 620,
    "start_time": "2022-04-12T15:42:03.625Z"
   },
   {
    "duration": 296,
    "start_time": "2022-04-12T15:42:04.247Z"
   },
   {
    "duration": 293,
    "start_time": "2022-04-12T15:42:04.545Z"
   },
   {
    "duration": 335,
    "start_time": "2022-04-12T15:42:34.286Z"
   },
   {
    "duration": 297,
    "start_time": "2022-04-12T15:42:53.766Z"
   },
   {
    "duration": 434,
    "start_time": "2022-04-12T15:43:41.051Z"
   },
   {
    "duration": 298,
    "start_time": "2022-04-12T15:43:55.758Z"
   },
   {
    "duration": 598,
    "start_time": "2022-04-12T15:44:20.966Z"
   },
   {
    "duration": 625,
    "start_time": "2022-04-12T15:44:38.198Z"
   },
   {
    "duration": 597,
    "start_time": "2022-04-12T15:44:51.971Z"
   },
   {
    "duration": 890,
    "start_time": "2022-04-12T15:57:39.850Z"
   },
   {
    "duration": 207,
    "start_time": "2022-04-12T15:57:50.729Z"
   },
   {
    "duration": 197,
    "start_time": "2022-04-12T15:57:58.170Z"
   },
   {
    "duration": 1068,
    "start_time": "2022-04-12T15:58:06.843Z"
   },
   {
    "duration": 215,
    "start_time": "2022-04-12T15:58:19.656Z"
   },
   {
    "duration": 196,
    "start_time": "2022-04-12T15:58:26.379Z"
   },
   {
    "duration": 640,
    "start_time": "2022-04-12T15:58:45.363Z"
   },
   {
    "duration": 627,
    "start_time": "2022-04-12T15:59:28.922Z"
   },
   {
    "duration": 189,
    "start_time": "2022-04-12T16:00:59.850Z"
   },
   {
    "duration": 198,
    "start_time": "2022-04-12T16:01:39.642Z"
   },
   {
    "duration": 196,
    "start_time": "2022-04-12T16:01:46.474Z"
   },
   {
    "duration": 181,
    "start_time": "2022-04-12T16:01:50.513Z"
   },
   {
    "duration": 201,
    "start_time": "2022-04-12T16:02:00.386Z"
   },
   {
    "duration": 594,
    "start_time": "2022-04-12T16:02:27.011Z"
   },
   {
    "duration": 592,
    "start_time": "2022-04-12T16:02:36.666Z"
   },
   {
    "duration": 630,
    "start_time": "2022-04-12T16:03:29.917Z"
   },
   {
    "duration": 593,
    "start_time": "2022-04-12T16:04:20.374Z"
   },
   {
    "duration": 600,
    "start_time": "2022-04-12T16:05:04.109Z"
   },
   {
    "duration": 610,
    "start_time": "2022-04-12T16:05:15.653Z"
   },
   {
    "duration": 610,
    "start_time": "2022-04-12T16:05:23.396Z"
   },
   {
    "duration": 158,
    "start_time": "2022-04-12T16:06:59.446Z"
   },
   {
    "duration": 594,
    "start_time": "2022-04-12T16:07:06.238Z"
   },
   {
    "duration": 886,
    "start_time": "2022-04-12T16:08:04.439Z"
   },
   {
    "duration": 868,
    "start_time": "2022-04-12T16:09:04.342Z"
   },
   {
    "duration": 887,
    "start_time": "2022-04-12T16:10:09.071Z"
   },
   {
    "duration": 2110,
    "start_time": "2022-04-12T16:10:15.102Z"
   },
   {
    "duration": 643,
    "start_time": "2022-04-12T16:10:17.215Z"
   },
   {
    "duration": 23,
    "start_time": "2022-04-12T16:10:17.892Z"
   },
   {
    "duration": 57,
    "start_time": "2022-04-12T16:10:17.917Z"
   },
   {
    "duration": 11,
    "start_time": "2022-04-12T16:10:17.992Z"
   },
   {
    "duration": 44,
    "start_time": "2022-04-12T16:10:18.006Z"
   },
   {
    "duration": 51,
    "start_time": "2022-04-12T16:10:18.053Z"
   },
   {
    "duration": 114,
    "start_time": "2022-04-12T16:10:18.194Z"
   },
   {
    "duration": 196,
    "start_time": "2022-04-12T16:10:18.311Z"
   },
   {
    "duration": 94,
    "start_time": "2022-04-12T16:10:18.509Z"
   },
   {
    "duration": 88,
    "start_time": "2022-04-12T16:10:18.607Z"
   },
   {
    "duration": 28,
    "start_time": "2022-04-12T16:10:18.698Z"
   },
   {
    "duration": 6,
    "start_time": "2022-04-12T16:10:18.728Z"
   },
   {
    "duration": 180,
    "start_time": "2022-04-12T16:10:18.739Z"
   },
   {
    "duration": 632,
    "start_time": "2022-04-12T16:10:18.922Z"
   },
   {
    "duration": 620,
    "start_time": "2022-04-12T16:10:19.556Z"
   },
   {
    "duration": 639,
    "start_time": "2022-04-12T16:10:20.178Z"
   },
   {
    "duration": 613,
    "start_time": "2022-04-12T16:10:20.819Z"
   },
   {
    "duration": 621,
    "start_time": "2022-04-12T16:11:25.358Z"
   },
   {
    "duration": 1476,
    "start_time": "2022-04-13T07:33:36.248Z"
   },
   {
    "duration": 399,
    "start_time": "2022-04-13T07:33:37.726Z"
   },
   {
    "duration": 15,
    "start_time": "2022-04-13T07:33:38.128Z"
   },
   {
    "duration": 63,
    "start_time": "2022-04-13T07:33:38.145Z"
   },
   {
    "duration": 8,
    "start_time": "2022-04-13T07:33:38.211Z"
   },
   {
    "duration": 39,
    "start_time": "2022-04-13T07:33:38.222Z"
   },
   {
    "duration": 146,
    "start_time": "2022-04-13T07:33:38.263Z"
   },
   {
    "duration": 111,
    "start_time": "2022-04-13T07:33:38.412Z"
   },
   {
    "duration": 107,
    "start_time": "2022-04-13T07:33:38.611Z"
   },
   {
    "duration": 88,
    "start_time": "2022-04-13T07:33:38.720Z"
   },
   {
    "duration": 96,
    "start_time": "2022-04-13T07:33:38.811Z"
   },
   {
    "duration": 17,
    "start_time": "2022-04-13T07:33:38.909Z"
   },
   {
    "duration": 3,
    "start_time": "2022-04-13T07:33:38.928Z"
   },
   {
    "duration": 113,
    "start_time": "2022-04-13T07:33:38.934Z"
   },
   {
    "duration": 426,
    "start_time": "2022-04-13T07:33:39.049Z"
   },
   {
    "duration": 442,
    "start_time": "2022-04-13T07:33:39.477Z"
   },
   {
    "duration": 411,
    "start_time": "2022-04-13T07:33:39.920Z"
   },
   {
    "duration": 419,
    "start_time": "2022-04-13T07:33:40.332Z"
   },
   {
    "duration": 1132,
    "start_time": "2022-04-13T07:34:47.895Z"
   },
   {
    "duration": 1296,
    "start_time": "2022-04-13T07:34:58.570Z"
   },
   {
    "duration": 394,
    "start_time": "2022-04-13T07:34:59.868Z"
   },
   {
    "duration": 85,
    "start_time": "2022-04-13T07:35:00.263Z"
   },
   {
    "duration": 17,
    "start_time": "2022-04-13T07:35:00.350Z"
   },
   {
    "duration": 59,
    "start_time": "2022-04-13T07:35:00.369Z"
   },
   {
    "duration": 10,
    "start_time": "2022-04-13T07:35:00.429Z"
   },
   {
    "duration": 39,
    "start_time": "2022-04-13T07:35:00.441Z"
   },
   {
    "duration": 36,
    "start_time": "2022-04-13T07:35:00.482Z"
   },
   {
    "duration": 118,
    "start_time": "2022-04-13T07:35:00.608Z"
   },
   {
    "duration": 183,
    "start_time": "2022-04-13T07:35:00.729Z"
   },
   {
    "duration": 92,
    "start_time": "2022-04-13T07:35:00.915Z"
   },
   {
    "duration": 11,
    "start_time": "2022-04-13T07:35:01.010Z"
   },
   {
    "duration": 23,
    "start_time": "2022-04-13T07:35:01.023Z"
   },
   {
    "duration": 61,
    "start_time": "2022-04-13T07:35:01.048Z"
   },
   {
    "duration": 75,
    "start_time": "2022-04-13T07:35:01.111Z"
   },
   {
    "duration": 440,
    "start_time": "2022-04-13T07:35:01.188Z"
   },
   {
    "duration": 408,
    "start_time": "2022-04-13T07:35:01.631Z"
   },
   {
    "duration": 385,
    "start_time": "2022-04-13T07:35:02.040Z"
   },
   {
    "duration": 405,
    "start_time": "2022-04-13T07:35:02.427Z"
   },
   {
    "duration": 1537,
    "start_time": "2022-04-13T07:35:22.785Z"
   },
   {
    "duration": 3,
    "start_time": "2022-04-13T07:35:28.985Z"
   },
   {
    "duration": 418,
    "start_time": "2022-04-13T07:35:28.990Z"
   },
   {
    "duration": 3,
    "start_time": "2022-04-13T07:35:43.173Z"
   },
   {
    "duration": 1965,
    "start_time": "2022-04-13T07:35:43.178Z"
   },
   {
    "duration": 17,
    "start_time": "2022-04-13T07:35:45.393Z"
   },
   {
    "duration": 15,
    "start_time": "2022-04-13T07:36:01.026Z"
   },
   {
    "duration": 3,
    "start_time": "2022-04-13T07:36:45.098Z"
   },
   {
    "duration": 58,
    "start_time": "2022-04-13T07:36:48.739Z"
   },
   {
    "duration": 64,
    "start_time": "2022-04-13T07:36:57.417Z"
   },
   {
    "duration": 50,
    "start_time": "2022-04-13T07:37:12.779Z"
   },
   {
    "duration": 36,
    "start_time": "2022-04-13T07:38:34.532Z"
   },
   {
    "duration": 52,
    "start_time": "2022-04-13T07:39:37.499Z"
   },
   {
    "duration": 37,
    "start_time": "2022-04-13T07:39:46.249Z"
   },
   {
    "duration": 2217,
    "start_time": "2022-04-13T07:39:55.402Z"
   },
   {
    "duration": 425,
    "start_time": "2022-04-13T07:39:57.622Z"
   },
   {
    "duration": 16,
    "start_time": "2022-04-13T07:39:58.048Z"
   },
   {
    "duration": 85,
    "start_time": "2022-04-13T07:39:58.066Z"
   },
   {
    "duration": 10,
    "start_time": "2022-04-13T07:39:58.155Z"
   },
   {
    "duration": 40,
    "start_time": "2022-04-13T07:39:58.167Z"
   },
   {
    "duration": 103,
    "start_time": "2022-04-13T07:39:58.209Z"
   },
   {
    "duration": 111,
    "start_time": "2022-04-13T07:39:58.314Z"
   },
   {
    "duration": 182,
    "start_time": "2022-04-13T07:39:58.427Z"
   },
   {
    "duration": 5,
    "start_time": "2022-04-13T07:39:58.611Z"
   },
   {
    "duration": 94,
    "start_time": "2022-04-13T07:39:58.619Z"
   },
   {
    "duration": 19,
    "start_time": "2022-04-13T07:39:58.716Z"
   },
   {
    "duration": 4,
    "start_time": "2022-04-13T07:39:58.737Z"
   },
   {
    "duration": 101,
    "start_time": "2022-04-13T07:39:58.744Z"
   },
   {
    "duration": 423,
    "start_time": "2022-04-13T07:39:58.847Z"
   },
   {
    "duration": 413,
    "start_time": "2022-04-13T07:39:59.271Z"
   },
   {
    "duration": 407,
    "start_time": "2022-04-13T07:39:59.686Z"
   },
   {
    "duration": 416,
    "start_time": "2022-04-13T07:40:00.095Z"
   },
   {
    "duration": 133,
    "start_time": "2022-04-13T07:40:25.943Z"
   },
   {
    "duration": 35,
    "start_time": "2022-04-13T07:40:46.040Z"
   },
   {
    "duration": 35,
    "start_time": "2022-04-13T07:40:49.272Z"
   },
   {
    "duration": 1413,
    "start_time": "2022-04-13T07:40:54.591Z"
   },
   {
    "duration": 379,
    "start_time": "2022-04-13T07:40:56.006Z"
   },
   {
    "duration": 23,
    "start_time": "2022-04-13T07:40:56.387Z"
   },
   {
    "duration": 37,
    "start_time": "2022-04-13T07:40:56.412Z"
   },
   {
    "duration": 8,
    "start_time": "2022-04-13T07:40:56.451Z"
   },
   {
    "duration": 53,
    "start_time": "2022-04-13T07:40:56.461Z"
   },
   {
    "duration": 92,
    "start_time": "2022-04-13T07:40:56.516Z"
   },
   {
    "duration": 110,
    "start_time": "2022-04-13T07:40:56.611Z"
   },
   {
    "duration": 192,
    "start_time": "2022-04-13T07:40:56.723Z"
   },
   {
    "duration": 91,
    "start_time": "2022-04-13T07:40:56.918Z"
   },
   {
    "duration": 95,
    "start_time": "2022-04-13T07:40:57.011Z"
   },
   {
    "duration": 17,
    "start_time": "2022-04-13T07:40:57.109Z"
   },
   {
    "duration": 5,
    "start_time": "2022-04-13T07:40:57.128Z"
   },
   {
    "duration": 101,
    "start_time": "2022-04-13T07:40:57.134Z"
   },
   {
    "duration": 399,
    "start_time": "2022-04-13T07:40:57.237Z"
   },
   {
    "duration": 398,
    "start_time": "2022-04-13T07:40:57.638Z"
   },
   {
    "duration": 395,
    "start_time": "2022-04-13T07:40:58.037Z"
   },
   {
    "duration": 383,
    "start_time": "2022-04-13T07:40:58.434Z"
   },
   {
    "duration": 68,
    "start_time": "2022-04-13T07:41:16.592Z"
   },
   {
    "duration": 159,
    "start_time": "2022-04-13T07:42:00.193Z"
   },
   {
    "duration": 62,
    "start_time": "2022-04-13T07:42:30.176Z"
   },
   {
    "duration": 63,
    "start_time": "2022-04-13T07:42:53.505Z"
   },
   {
    "duration": 82,
    "start_time": "2022-04-13T07:43:29.281Z"
   },
   {
    "duration": 66,
    "start_time": "2022-04-13T07:45:09.417Z"
   },
   {
    "duration": 64,
    "start_time": "2022-04-13T07:45:17.624Z"
   },
   {
    "duration": 1214,
    "start_time": "2022-04-13T07:45:32.054Z"
   },
   {
    "duration": 381,
    "start_time": "2022-04-13T07:45:33.270Z"
   },
   {
    "duration": 15,
    "start_time": "2022-04-13T07:45:33.653Z"
   },
   {
    "duration": 190,
    "start_time": "2022-04-13T07:45:33.669Z"
   },
   {
    "duration": 0,
    "start_time": "2022-04-13T07:45:33.861Z"
   },
   {
    "duration": 0,
    "start_time": "2022-04-13T07:45:33.862Z"
   },
   {
    "duration": 0,
    "start_time": "2022-04-13T07:45:33.863Z"
   },
   {
    "duration": 0,
    "start_time": "2022-04-13T07:45:33.864Z"
   },
   {
    "duration": 0,
    "start_time": "2022-04-13T07:45:33.865Z"
   },
   {
    "duration": 0,
    "start_time": "2022-04-13T07:45:33.866Z"
   },
   {
    "duration": 1,
    "start_time": "2022-04-13T07:45:33.867Z"
   },
   {
    "duration": 0,
    "start_time": "2022-04-13T07:45:33.869Z"
   },
   {
    "duration": 0,
    "start_time": "2022-04-13T07:45:33.870Z"
   },
   {
    "duration": 0,
    "start_time": "2022-04-13T07:45:33.871Z"
   },
   {
    "duration": 0,
    "start_time": "2022-04-13T07:45:33.872Z"
   },
   {
    "duration": 0,
    "start_time": "2022-04-13T07:45:33.873Z"
   },
   {
    "duration": 0,
    "start_time": "2022-04-13T07:45:33.874Z"
   },
   {
    "duration": 0,
    "start_time": "2022-04-13T07:45:33.875Z"
   },
   {
    "duration": 65,
    "start_time": "2022-04-13T07:45:44.978Z"
   },
   {
    "duration": 61,
    "start_time": "2022-04-13T07:45:52.250Z"
   },
   {
    "duration": 81,
    "start_time": "2022-04-13T07:45:58.152Z"
   },
   {
    "duration": 97,
    "start_time": "2022-04-13T07:46:14.233Z"
   },
   {
    "duration": 90,
    "start_time": "2022-04-13T07:46:25.067Z"
   },
   {
    "duration": 90,
    "start_time": "2022-04-13T07:46:38.458Z"
   },
   {
    "duration": 78,
    "start_time": "2022-04-13T07:46:54.418Z"
   },
   {
    "duration": 101,
    "start_time": "2022-04-13T07:47:03.850Z"
   },
   {
    "duration": 375,
    "start_time": "2022-04-13T07:48:46.475Z"
   },
   {
    "duration": 412,
    "start_time": "2022-04-13T07:49:05.651Z"
   },
   {
    "duration": 402,
    "start_time": "2022-04-13T07:49:35.044Z"
   },
   {
    "duration": 72,
    "start_time": "2022-04-13T07:50:28.604Z"
   },
   {
    "duration": 71,
    "start_time": "2022-04-13T07:50:59.810Z"
   },
   {
    "duration": 395,
    "start_time": "2022-04-13T07:51:05.164Z"
   },
   {
    "duration": 70,
    "start_time": "2022-04-13T07:51:24.692Z"
   },
   {
    "duration": 388,
    "start_time": "2022-04-13T07:51:31.684Z"
   },
   {
    "duration": 398,
    "start_time": "2022-04-13T07:51:55.642Z"
   },
   {
    "duration": 390,
    "start_time": "2022-04-13T07:52:28.363Z"
   },
   {
    "duration": 377,
    "start_time": "2022-04-13T07:53:25.263Z"
   },
   {
    "duration": 393,
    "start_time": "2022-04-13T07:53:39.029Z"
   },
   {
    "duration": 1371,
    "start_time": "2022-04-13T07:54:17.706Z"
   },
   {
    "duration": 402,
    "start_time": "2022-04-13T07:54:19.079Z"
   },
   {
    "duration": 16,
    "start_time": "2022-04-13T07:54:19.483Z"
   },
   {
    "duration": 108,
    "start_time": "2022-04-13T07:54:19.508Z"
   },
   {
    "duration": 8,
    "start_time": "2022-04-13T07:54:19.618Z"
   },
   {
    "duration": 34,
    "start_time": "2022-04-13T07:54:19.628Z"
   },
   {
    "duration": 50,
    "start_time": "2022-04-13T07:54:19.664Z"
   },
   {
    "duration": 202,
    "start_time": "2022-04-13T07:54:19.716Z"
   },
   {
    "duration": 195,
    "start_time": "2022-04-13T07:54:19.921Z"
   },
   {
    "duration": 4,
    "start_time": "2022-04-13T07:54:20.210Z"
   },
   {
    "duration": 105,
    "start_time": "2022-04-13T07:54:20.217Z"
   },
   {
    "duration": 17,
    "start_time": "2022-04-13T07:54:20.324Z"
   },
   {
    "duration": 5,
    "start_time": "2022-04-13T07:54:20.342Z"
   },
   {
    "duration": 89,
    "start_time": "2022-04-13T07:54:20.348Z"
   },
   {
    "duration": 422,
    "start_time": "2022-04-13T07:54:20.438Z"
   },
   {
    "duration": 417,
    "start_time": "2022-04-13T07:54:20.862Z"
   },
   {
    "duration": 422,
    "start_time": "2022-04-13T07:54:21.281Z"
   },
   {
    "duration": 407,
    "start_time": "2022-04-13T07:54:21.705Z"
   },
   {
    "duration": 403,
    "start_time": "2022-04-13T07:55:26.743Z"
   },
   {
    "duration": 370,
    "start_time": "2022-04-13T07:55:41.565Z"
   },
   {
    "duration": 38,
    "start_time": "2022-04-13T07:55:47.229Z"
   },
   {
    "duration": 4,
    "start_time": "2022-04-13T07:58:08.830Z"
   },
   {
    "duration": 5,
    "start_time": "2022-04-13T07:59:15.054Z"
   },
   {
    "duration": 59,
    "start_time": "2022-04-13T07:59:48.975Z"
   },
   {
    "duration": 4,
    "start_time": "2022-04-13T07:59:53.949Z"
   },
   {
    "duration": 40,
    "start_time": "2022-04-13T08:00:46.895Z"
   },
   {
    "duration": 42,
    "start_time": "2022-04-13T08:01:04.871Z"
   },
   {
    "duration": 105,
    "start_time": "2022-04-13T08:01:37.440Z"
   },
   {
    "duration": 9,
    "start_time": "2022-04-13T08:01:46.887Z"
   },
   {
    "duration": 12,
    "start_time": "2022-04-13T08:01:57.535Z"
   },
   {
    "duration": 67,
    "start_time": "2022-04-13T08:02:19.367Z"
   },
   {
    "duration": 12,
    "start_time": "2022-04-13T08:02:23.767Z"
   },
   {
    "duration": 5,
    "start_time": "2022-04-13T08:02:36.407Z"
   },
   {
    "duration": 6,
    "start_time": "2022-04-13T08:02:55.975Z"
   },
   {
    "duration": 6,
    "start_time": "2022-04-13T08:03:02.440Z"
   },
   {
    "duration": 7,
    "start_time": "2022-04-13T08:05:35.879Z"
   },
   {
    "duration": 5,
    "start_time": "2022-04-13T08:06:27.344Z"
   },
   {
    "duration": 5,
    "start_time": "2022-04-13T08:06:38.736Z"
   },
   {
    "duration": 37,
    "start_time": "2022-04-13T08:07:31.872Z"
   },
   {
    "duration": 0,
    "start_time": "2022-04-13T08:07:41.824Z"
   },
   {
    "duration": 0,
    "start_time": "2022-04-13T08:07:41.825Z"
   },
   {
    "duration": 0,
    "start_time": "2022-04-13T08:07:41.826Z"
   },
   {
    "duration": 0,
    "start_time": "2022-04-13T08:07:41.827Z"
   },
   {
    "duration": 0,
    "start_time": "2022-04-13T08:07:41.828Z"
   },
   {
    "duration": 0,
    "start_time": "2022-04-13T08:07:41.829Z"
   },
   {
    "duration": 1,
    "start_time": "2022-04-13T08:07:41.830Z"
   },
   {
    "duration": 0,
    "start_time": "2022-04-13T08:07:41.831Z"
   },
   {
    "duration": 0,
    "start_time": "2022-04-13T08:07:41.833Z"
   },
   {
    "duration": 0,
    "start_time": "2022-04-13T08:07:41.834Z"
   },
   {
    "duration": 0,
    "start_time": "2022-04-13T08:07:41.835Z"
   },
   {
    "duration": 0,
    "start_time": "2022-04-13T08:07:41.836Z"
   },
   {
    "duration": 0,
    "start_time": "2022-04-13T08:07:41.837Z"
   },
   {
    "duration": 0,
    "start_time": "2022-04-13T08:07:41.838Z"
   },
   {
    "duration": 0,
    "start_time": "2022-04-13T08:07:41.839Z"
   },
   {
    "duration": 0,
    "start_time": "2022-04-13T08:07:41.840Z"
   },
   {
    "duration": 0,
    "start_time": "2022-04-13T08:07:41.841Z"
   },
   {
    "duration": 0,
    "start_time": "2022-04-13T08:07:41.842Z"
   },
   {
    "duration": 0,
    "start_time": "2022-04-13T08:07:41.843Z"
   },
   {
    "duration": 0,
    "start_time": "2022-04-13T08:08:07.723Z"
   },
   {
    "duration": 0,
    "start_time": "2022-04-13T08:08:07.724Z"
   },
   {
    "duration": 0,
    "start_time": "2022-04-13T08:08:07.725Z"
   },
   {
    "duration": 0,
    "start_time": "2022-04-13T08:08:07.727Z"
   },
   {
    "duration": 0,
    "start_time": "2022-04-13T08:08:07.728Z"
   },
   {
    "duration": 0,
    "start_time": "2022-04-13T08:08:07.729Z"
   },
   {
    "duration": 0,
    "start_time": "2022-04-13T08:08:07.730Z"
   },
   {
    "duration": 0,
    "start_time": "2022-04-13T08:08:07.731Z"
   },
   {
    "duration": 0,
    "start_time": "2022-04-13T08:08:07.732Z"
   },
   {
    "duration": 0,
    "start_time": "2022-04-13T08:08:07.733Z"
   },
   {
    "duration": 0,
    "start_time": "2022-04-13T08:08:07.734Z"
   },
   {
    "duration": 0,
    "start_time": "2022-04-13T08:08:07.735Z"
   },
   {
    "duration": 0,
    "start_time": "2022-04-13T08:08:07.736Z"
   },
   {
    "duration": 0,
    "start_time": "2022-04-13T08:08:07.738Z"
   },
   {
    "duration": 0,
    "start_time": "2022-04-13T08:08:07.739Z"
   },
   {
    "duration": 0,
    "start_time": "2022-04-13T08:08:07.740Z"
   },
   {
    "duration": 0,
    "start_time": "2022-04-13T08:08:07.741Z"
   },
   {
    "duration": 0,
    "start_time": "2022-04-13T08:08:07.742Z"
   },
   {
    "duration": 0,
    "start_time": "2022-04-13T08:08:07.744Z"
   },
   {
    "duration": 26,
    "start_time": "2022-04-13T08:08:24.550Z"
   },
   {
    "duration": 366,
    "start_time": "2022-04-13T08:08:27.446Z"
   },
   {
    "duration": 83,
    "start_time": "2022-04-13T08:08:33.830Z"
   },
   {
    "duration": 1274,
    "start_time": "2022-04-13T08:08:45.255Z"
   },
   {
    "duration": 358,
    "start_time": "2022-04-13T08:08:46.531Z"
   },
   {
    "duration": 50,
    "start_time": "2022-04-13T08:08:46.892Z"
   },
   {
    "duration": 16,
    "start_time": "2022-04-13T08:08:46.944Z"
   },
   {
    "duration": 126,
    "start_time": "2022-04-13T08:08:46.963Z"
   },
   {
    "duration": 17,
    "start_time": "2022-04-13T08:08:47.091Z"
   },
   {
    "duration": 34,
    "start_time": "2022-04-13T08:08:47.110Z"
   },
   {
    "duration": 66,
    "start_time": "2022-04-13T08:08:47.146Z"
   },
   {
    "duration": 194,
    "start_time": "2022-04-13T08:08:47.215Z"
   },
   {
    "duration": 108,
    "start_time": "2022-04-13T08:08:47.411Z"
   },
   {
    "duration": 88,
    "start_time": "2022-04-13T08:08:47.521Z"
   },
   {
    "duration": 6,
    "start_time": "2022-04-13T08:08:47.611Z"
   },
   {
    "duration": 18,
    "start_time": "2022-04-13T08:08:47.709Z"
   },
   {
    "duration": 4,
    "start_time": "2022-04-13T08:08:47.730Z"
   },
   {
    "duration": 101,
    "start_time": "2022-04-13T08:08:47.736Z"
   },
   {
    "duration": 406,
    "start_time": "2022-04-13T08:08:47.839Z"
   },
   {
    "duration": 389,
    "start_time": "2022-04-13T08:08:48.247Z"
   },
   {
    "duration": 393,
    "start_time": "2022-04-13T08:08:48.638Z"
   },
   {
    "duration": 384,
    "start_time": "2022-04-13T08:08:49.032Z"
   },
   {
    "duration": 267,
    "start_time": "2022-04-13T08:09:11.322Z"
   },
   {
    "duration": 54,
    "start_time": "2022-04-13T08:09:32.555Z"
   },
   {
    "duration": 24,
    "start_time": "2022-04-13T08:09:47.690Z"
   },
   {
    "duration": 21,
    "start_time": "2022-04-13T08:09:56.986Z"
   },
   {
    "duration": 21,
    "start_time": "2022-04-13T08:11:10.163Z"
   },
   {
    "duration": 4,
    "start_time": "2022-04-13T08:18:56.881Z"
   },
   {
    "duration": 5,
    "start_time": "2022-04-13T08:20:43.465Z"
   },
   {
    "duration": 62,
    "start_time": "2022-04-13T08:21:10.000Z"
   },
   {
    "duration": 6,
    "start_time": "2022-04-13T08:21:13.817Z"
   },
   {
    "duration": 6,
    "start_time": "2022-04-13T08:21:31.145Z"
   },
   {
    "duration": 8,
    "start_time": "2022-04-13T08:38:57.937Z"
   },
   {
    "duration": 7,
    "start_time": "2022-04-13T08:39:04.387Z"
   },
   {
    "duration": 8,
    "start_time": "2022-04-13T08:39:09.785Z"
   },
   {
    "duration": 20,
    "start_time": "2022-04-13T08:41:56.814Z"
   },
   {
    "duration": 18,
    "start_time": "2022-04-13T08:42:11.516Z"
   },
   {
    "duration": 17,
    "start_time": "2022-04-13T08:42:16.970Z"
   },
   {
    "duration": 18,
    "start_time": "2022-04-13T08:43:08.685Z"
   },
   {
    "duration": 16,
    "start_time": "2022-04-13T08:43:19.949Z"
   },
   {
    "duration": 14,
    "start_time": "2022-04-13T08:43:33.003Z"
   },
   {
    "duration": 14,
    "start_time": "2022-04-13T08:43:57.871Z"
   },
   {
    "duration": 15,
    "start_time": "2022-04-13T08:44:24.198Z"
   },
   {
    "duration": 17,
    "start_time": "2022-04-13T09:01:31.024Z"
   },
   {
    "duration": 16,
    "start_time": "2022-04-13T09:02:20.958Z"
   },
   {
    "duration": 1648,
    "start_time": "2022-04-13T09:02:27.785Z"
   },
   {
    "duration": 390,
    "start_time": "2022-04-13T09:02:29.435Z"
   },
   {
    "duration": 42,
    "start_time": "2022-04-13T09:02:29.826Z"
   },
   {
    "duration": 15,
    "start_time": "2022-04-13T09:02:29.870Z"
   },
   {
    "duration": 113,
    "start_time": "2022-04-13T09:02:29.908Z"
   },
   {
    "duration": 7,
    "start_time": "2022-04-13T09:02:30.023Z"
   },
   {
    "duration": 54,
    "start_time": "2022-04-13T09:02:30.032Z"
   },
   {
    "duration": 24,
    "start_time": "2022-04-13T09:02:30.088Z"
   },
   {
    "duration": 203,
    "start_time": "2022-04-13T09:02:30.115Z"
   },
   {
    "duration": 108,
    "start_time": "2022-04-13T09:02:30.410Z"
   },
   {
    "duration": 188,
    "start_time": "2022-04-13T09:02:30.521Z"
   },
   {
    "duration": 22,
    "start_time": "2022-04-13T09:02:30.711Z"
   },
   {
    "duration": 29,
    "start_time": "2022-04-13T09:02:30.735Z"
   },
   {
    "duration": 13,
    "start_time": "2022-04-13T09:02:30.766Z"
   },
   {
    "duration": 120,
    "start_time": "2022-04-13T09:02:30.781Z"
   },
   {
    "duration": 0,
    "start_time": "2022-04-13T09:02:30.903Z"
   },
   {
    "duration": 0,
    "start_time": "2022-04-13T09:02:30.904Z"
   },
   {
    "duration": 1,
    "start_time": "2022-04-13T09:02:30.907Z"
   },
   {
    "duration": 0,
    "start_time": "2022-04-13T09:02:30.909Z"
   },
   {
    "duration": 13,
    "start_time": "2022-04-13T09:04:13.016Z"
   },
   {
    "duration": 12,
    "start_time": "2022-04-13T09:04:37.696Z"
   },
   {
    "duration": 3,
    "start_time": "2022-04-13T09:04:58.032Z"
   },
   {
    "duration": 3,
    "start_time": "2022-04-13T09:05:19.305Z"
   },
   {
    "duration": 8,
    "start_time": "2022-04-13T09:05:26.177Z"
   },
   {
    "duration": 8,
    "start_time": "2022-04-13T09:05:33.609Z"
   },
   {
    "duration": 8,
    "start_time": "2022-04-13T09:05:43.865Z"
   },
   {
    "duration": 21,
    "start_time": "2022-04-13T09:06:17.370Z"
   },
   {
    "duration": 19,
    "start_time": "2022-04-13T09:06:25.971Z"
   },
   {
    "duration": 8,
    "start_time": "2022-04-13T09:07:05.235Z"
   },
   {
    "duration": 3,
    "start_time": "2022-04-13T09:08:32.386Z"
   },
   {
    "duration": 4,
    "start_time": "2022-04-13T09:13:46.901Z"
   },
   {
    "duration": 3,
    "start_time": "2022-04-13T09:13:58.988Z"
   },
   {
    "duration": 8,
    "start_time": "2022-04-13T09:15:31.639Z"
   },
   {
    "duration": 8,
    "start_time": "2022-04-13T09:15:37.077Z"
   },
   {
    "duration": 8,
    "start_time": "2022-04-13T09:15:42.508Z"
   },
   {
    "duration": 17,
    "start_time": "2022-04-13T09:16:40.173Z"
   },
   {
    "duration": 68,
    "start_time": "2022-04-13T09:17:47.872Z"
   },
   {
    "duration": 6,
    "start_time": "2022-04-13T09:17:59.302Z"
   },
   {
    "duration": 14,
    "start_time": "2022-04-13T09:18:15.326Z"
   },
   {
    "duration": 76,
    "start_time": "2022-04-13T09:22:41.113Z"
   },
   {
    "duration": 82,
    "start_time": "2022-04-13T09:22:55.992Z"
   },
   {
    "duration": 3,
    "start_time": "2022-04-13T09:23:10.777Z"
   },
   {
    "duration": 3,
    "start_time": "2022-04-13T09:23:37.696Z"
   },
   {
    "duration": 3,
    "start_time": "2022-04-13T09:23:50.096Z"
   },
   {
    "duration": 889,
    "start_time": "2022-04-13T09:24:51.368Z"
   },
   {
    "duration": 6,
    "start_time": "2022-04-13T09:25:56.178Z"
   },
   {
    "duration": 131,
    "start_time": "2022-04-13T09:26:11.697Z"
   },
   {
    "duration": 6,
    "start_time": "2022-04-13T09:26:35.449Z"
   },
   {
    "duration": 11,
    "start_time": "2022-04-13T09:29:37.540Z"
   },
   {
    "duration": 156,
    "start_time": "2022-04-13T09:30:23.067Z"
   },
   {
    "duration": 10,
    "start_time": "2022-04-13T09:30:32.571Z"
   },
   {
    "duration": 11,
    "start_time": "2022-04-13T09:30:47.290Z"
   },
   {
    "duration": 64,
    "start_time": "2022-04-13T09:32:41.437Z"
   },
   {
    "duration": 8,
    "start_time": "2022-04-13T09:32:47.740Z"
   },
   {
    "duration": 2,
    "start_time": "2022-04-13T09:32:58.765Z"
   },
   {
    "duration": 12,
    "start_time": "2022-04-13T09:33:15.805Z"
   },
   {
    "duration": 14,
    "start_time": "2022-04-13T09:33:30.060Z"
   },
   {
    "duration": 8,
    "start_time": "2022-04-13T09:33:57.150Z"
   },
   {
    "duration": 5,
    "start_time": "2022-04-13T09:35:17.541Z"
   },
   {
    "duration": 9,
    "start_time": "2022-04-13T09:43:45.409Z"
   },
   {
    "duration": 15,
    "start_time": "2022-04-13T09:44:04.265Z"
   },
   {
    "duration": 2,
    "start_time": "2022-04-13T09:53:56.260Z"
   },
   {
    "duration": 2,
    "start_time": "2022-04-13T09:54:06.422Z"
   },
   {
    "duration": 395,
    "start_time": "2022-04-13T09:54:34.340Z"
   },
   {
    "duration": 383,
    "start_time": "2022-04-13T09:54:43.068Z"
   },
   {
    "duration": 1296,
    "start_time": "2022-04-13T09:54:50.364Z"
   },
   {
    "duration": 373,
    "start_time": "2022-04-13T09:54:51.662Z"
   },
   {
    "duration": 42,
    "start_time": "2022-04-13T09:54:52.036Z"
   },
   {
    "duration": 39,
    "start_time": "2022-04-13T09:54:52.080Z"
   },
   {
    "duration": 107,
    "start_time": "2022-04-13T09:54:52.120Z"
   },
   {
    "duration": 8,
    "start_time": "2022-04-13T09:54:52.229Z"
   },
   {
    "duration": 33,
    "start_time": "2022-04-13T09:54:52.239Z"
   },
   {
    "duration": 48,
    "start_time": "2022-04-13T09:54:52.274Z"
   },
   {
    "duration": 107,
    "start_time": "2022-04-13T09:54:52.410Z"
   },
   {
    "duration": 287,
    "start_time": "2022-04-13T09:54:52.520Z"
   },
   {
    "duration": 4,
    "start_time": "2022-04-13T09:54:52.810Z"
   },
   {
    "duration": 97,
    "start_time": "2022-04-13T09:54:52.817Z"
   },
   {
    "duration": 15,
    "start_time": "2022-04-13T09:54:52.916Z"
   },
   {
    "duration": 4,
    "start_time": "2022-04-13T09:54:52.933Z"
   },
   {
    "duration": 8,
    "start_time": "2022-04-13T09:54:52.938Z"
   },
   {
    "duration": 10,
    "start_time": "2022-04-13T09:54:52.947Z"
   },
   {
    "duration": 417,
    "start_time": "2022-04-13T09:54:52.959Z"
   },
   {
    "duration": 400,
    "start_time": "2022-04-13T09:54:53.378Z"
   },
   {
    "duration": 397,
    "start_time": "2022-04-13T09:54:53.780Z"
   },
   {
    "duration": 382,
    "start_time": "2022-04-13T09:54:54.178Z"
   },
   {
    "duration": 404,
    "start_time": "2022-04-13T10:00:39.209Z"
   },
   {
    "duration": 402,
    "start_time": "2022-04-13T10:01:02.527Z"
   },
   {
    "duration": 394,
    "start_time": "2022-04-13T10:01:11.678Z"
   },
   {
    "duration": 444,
    "start_time": "2022-04-13T10:01:21.438Z"
   },
   {
    "duration": 1400,
    "start_time": "2022-04-13T10:02:30.589Z"
   },
   {
    "duration": 388,
    "start_time": "2022-04-13T10:02:31.992Z"
   },
   {
    "duration": 53,
    "start_time": "2022-04-13T10:02:32.382Z"
   },
   {
    "duration": 16,
    "start_time": "2022-04-13T10:02:32.437Z"
   },
   {
    "duration": 119,
    "start_time": "2022-04-13T10:02:32.456Z"
   },
   {
    "duration": 7,
    "start_time": "2022-04-13T10:02:32.577Z"
   },
   {
    "duration": 45,
    "start_time": "2022-04-13T10:02:32.586Z"
   },
   {
    "duration": 77,
    "start_time": "2022-04-13T10:02:32.633Z"
   },
   {
    "duration": 110,
    "start_time": "2022-04-13T10:02:32.712Z"
   },
   {
    "duration": 199,
    "start_time": "2022-04-13T10:02:32.824Z"
   },
   {
    "duration": 92,
    "start_time": "2022-04-13T10:02:33.025Z"
   },
   {
    "duration": 10,
    "start_time": "2022-04-13T10:02:33.208Z"
   },
   {
    "duration": 14,
    "start_time": "2022-04-13T10:02:33.220Z"
   },
   {
    "duration": 26,
    "start_time": "2022-04-13T10:02:33.236Z"
   },
   {
    "duration": 21,
    "start_time": "2022-04-13T10:02:33.263Z"
   },
   {
    "duration": 7,
    "start_time": "2022-04-13T10:02:33.286Z"
   },
   {
    "duration": 392,
    "start_time": "2022-04-13T10:02:33.295Z"
   },
   {
    "duration": 408,
    "start_time": "2022-04-13T10:02:33.689Z"
   },
   {
    "duration": 405,
    "start_time": "2022-04-13T10:02:34.098Z"
   },
   {
    "duration": 397,
    "start_time": "2022-04-13T10:02:34.504Z"
   },
   {
    "duration": 400,
    "start_time": "2022-04-13T10:02:56.973Z"
   },
   {
    "duration": 405,
    "start_time": "2022-04-13T11:16:05.617Z"
   },
   {
    "duration": 453,
    "start_time": "2022-04-13T11:16:51.937Z"
   },
   {
    "duration": 414,
    "start_time": "2022-04-13T11:16:52.392Z"
   },
   {
    "duration": 410,
    "start_time": "2022-04-13T11:17:03.919Z"
   },
   {
    "duration": 395,
    "start_time": "2022-04-13T11:17:30.977Z"
   },
   {
    "duration": 407,
    "start_time": "2022-04-13T11:18:15.146Z"
   },
   {
    "duration": 402,
    "start_time": "2022-04-13T11:18:31.959Z"
   },
   {
    "duration": 388,
    "start_time": "2022-04-13T11:18:46.049Z"
   },
   {
    "duration": 409,
    "start_time": "2022-04-13T11:19:02.369Z"
   },
   {
    "duration": 443,
    "start_time": "2022-04-13T11:19:34.089Z"
   },
   {
    "duration": 403,
    "start_time": "2022-04-13T11:20:15.530Z"
   },
   {
    "duration": 5,
    "start_time": "2022-04-13T11:20:33.064Z"
   },
   {
    "duration": 6,
    "start_time": "2022-04-13T11:20:39.994Z"
   },
   {
    "duration": 5,
    "start_time": "2022-04-13T11:21:11.563Z"
   },
   {
    "duration": 4,
    "start_time": "2022-04-13T11:22:43.355Z"
   },
   {
    "duration": 4,
    "start_time": "2022-04-13T11:23:24.043Z"
   },
   {
    "duration": 4,
    "start_time": "2022-04-13T11:24:15.588Z"
   },
   {
    "duration": 4,
    "start_time": "2022-04-13T11:24:47.731Z"
   },
   {
    "duration": 100,
    "start_time": "2022-04-13T11:25:29.436Z"
   },
   {
    "duration": 8,
    "start_time": "2022-04-13T11:25:45.884Z"
   },
   {
    "duration": 9,
    "start_time": "2022-04-13T11:25:54.781Z"
   },
   {
    "duration": 5,
    "start_time": "2022-04-13T11:26:08.932Z"
   },
   {
    "duration": 8,
    "start_time": "2022-04-13T11:26:33.125Z"
   },
   {
    "duration": 6,
    "start_time": "2022-04-13T11:26:47.435Z"
   },
   {
    "duration": 4,
    "start_time": "2022-04-13T11:26:54.180Z"
   },
   {
    "duration": 398,
    "start_time": "2022-04-13T11:27:51.109Z"
   },
   {
    "duration": 387,
    "start_time": "2022-04-13T11:27:58.132Z"
   },
   {
    "duration": 386,
    "start_time": "2022-04-13T11:28:35.910Z"
   },
   {
    "duration": 397,
    "start_time": "2022-04-13T11:28:45.142Z"
   },
   {
    "duration": 391,
    "start_time": "2022-04-13T11:29:02.542Z"
   },
   {
    "duration": 408,
    "start_time": "2022-04-13T11:29:15.190Z"
   },
   {
    "duration": 392,
    "start_time": "2022-04-13T11:29:38.302Z"
   },
   {
    "duration": 383,
    "start_time": "2022-04-13T11:29:49.334Z"
   },
   {
    "duration": 69,
    "start_time": "2022-04-13T11:39:12.977Z"
   },
   {
    "duration": 419,
    "start_time": "2022-04-13T11:39:22.753Z"
   },
   {
    "duration": 397,
    "start_time": "2022-04-13T11:39:34.794Z"
   },
   {
    "duration": 379,
    "start_time": "2022-04-13T11:39:54.737Z"
   },
   {
    "duration": 400,
    "start_time": "2022-04-13T11:40:12.754Z"
   },
   {
    "duration": 389,
    "start_time": "2022-04-13T11:40:26.801Z"
   },
   {
    "duration": 69,
    "start_time": "2022-04-13T11:40:41.042Z"
   },
   {
    "duration": 91,
    "start_time": "2022-04-13T11:40:53.666Z"
   },
   {
    "duration": 396,
    "start_time": "2022-04-13T11:41:03.266Z"
   },
   {
    "duration": 412,
    "start_time": "2022-04-13T11:41:31.409Z"
   },
   {
    "duration": 396,
    "start_time": "2022-04-13T11:42:19.490Z"
   },
   {
    "duration": 378,
    "start_time": "2022-04-13T11:42:45.899Z"
   },
   {
    "duration": 439,
    "start_time": "2022-04-13T11:43:09.210Z"
   },
   {
    "duration": 400,
    "start_time": "2022-04-13T11:43:21.131Z"
   },
   {
    "duration": 384,
    "start_time": "2022-04-13T11:43:54.769Z"
   },
   {
    "duration": 428,
    "start_time": "2022-04-13T11:44:23.507Z"
   },
   {
    "duration": 416,
    "start_time": "2022-04-13T11:45:11.977Z"
   },
   {
    "duration": 405,
    "start_time": "2022-04-13T11:45:21.106Z"
   },
   {
    "duration": 1371,
    "start_time": "2022-04-13T11:53:04.677Z"
   },
   {
    "duration": 375,
    "start_time": "2022-04-13T11:53:06.051Z"
   },
   {
    "duration": 40,
    "start_time": "2022-04-13T11:53:06.428Z"
   },
   {
    "duration": 16,
    "start_time": "2022-04-13T11:53:06.470Z"
   },
   {
    "duration": 130,
    "start_time": "2022-04-13T11:53:06.488Z"
   },
   {
    "duration": 9,
    "start_time": "2022-04-13T11:53:06.620Z"
   },
   {
    "duration": 36,
    "start_time": "2022-04-13T11:53:06.630Z"
   },
   {
    "duration": 46,
    "start_time": "2022-04-13T11:53:06.668Z"
   },
   {
    "duration": 205,
    "start_time": "2022-04-13T11:53:06.716Z"
   },
   {
    "duration": 185,
    "start_time": "2022-04-13T11:53:06.924Z"
   },
   {
    "duration": 3,
    "start_time": "2022-04-13T11:53:07.112Z"
   },
   {
    "duration": 96,
    "start_time": "2022-04-13T11:53:07.118Z"
   },
   {
    "duration": 14,
    "start_time": "2022-04-13T11:53:07.216Z"
   },
   {
    "duration": 15,
    "start_time": "2022-04-13T11:53:07.233Z"
   },
   {
    "duration": 8,
    "start_time": "2022-04-13T11:53:07.249Z"
   },
   {
    "duration": 4,
    "start_time": "2022-04-13T11:53:07.258Z"
   },
   {
    "duration": 412,
    "start_time": "2022-04-13T11:53:07.264Z"
   },
   {
    "duration": 392,
    "start_time": "2022-04-13T11:53:07.677Z"
   },
   {
    "duration": 389,
    "start_time": "2022-04-13T11:53:08.070Z"
   },
   {
    "duration": 69,
    "start_time": "2022-04-13T12:22:20.728Z"
   },
   {
    "duration": 104,
    "start_time": "2022-04-13T12:22:31.222Z"
   },
   {
    "duration": 12,
    "start_time": "2022-04-13T12:22:47.255Z"
   },
   {
    "duration": 23,
    "start_time": "2022-04-13T12:23:47.695Z"
   },
   {
    "duration": 23,
    "start_time": "2022-04-13T12:24:13.616Z"
   },
   {
    "duration": 1369,
    "start_time": "2022-04-13T12:25:24.913Z"
   },
   {
    "duration": 373,
    "start_time": "2022-04-13T12:25:26.284Z"
   },
   {
    "duration": 58,
    "start_time": "2022-04-13T12:25:26.659Z"
   },
   {
    "duration": 17,
    "start_time": "2022-04-13T12:25:26.719Z"
   },
   {
    "duration": 118,
    "start_time": "2022-04-13T12:25:26.738Z"
   },
   {
    "duration": 9,
    "start_time": "2022-04-13T12:25:26.859Z"
   },
   {
    "duration": 54,
    "start_time": "2022-04-13T12:25:26.870Z"
   },
   {
    "duration": 86,
    "start_time": "2022-04-13T12:25:26.926Z"
   },
   {
    "duration": 105,
    "start_time": "2022-04-13T12:25:27.015Z"
   },
   {
    "duration": 188,
    "start_time": "2022-04-13T12:25:27.124Z"
   },
   {
    "duration": 4,
    "start_time": "2022-04-13T12:25:27.315Z"
   },
   {
    "duration": 6,
    "start_time": "2022-04-13T12:25:27.407Z"
   },
   {
    "duration": 16,
    "start_time": "2022-04-13T12:25:27.415Z"
   },
   {
    "duration": 3,
    "start_time": "2022-04-13T12:25:27.433Z"
   },
   {
    "duration": 8,
    "start_time": "2022-04-13T12:25:27.438Z"
   },
   {
    "duration": 7,
    "start_time": "2022-04-13T12:25:27.447Z"
   },
   {
    "duration": 8,
    "start_time": "2022-04-13T12:25:27.455Z"
   },
   {
    "duration": 62,
    "start_time": "2022-04-13T12:25:27.464Z"
   },
   {
    "duration": 0,
    "start_time": "2022-04-13T12:25:27.528Z"
   },
   {
    "duration": 0,
    "start_time": "2022-04-13T12:25:27.530Z"
   },
   {
    "duration": 0,
    "start_time": "2022-04-13T12:25:27.531Z"
   },
   {
    "duration": 0,
    "start_time": "2022-04-13T12:25:27.532Z"
   },
   {
    "duration": 0,
    "start_time": "2022-04-13T12:25:27.534Z"
   },
   {
    "duration": 1243,
    "start_time": "2022-04-13T12:25:43.454Z"
   },
   {
    "duration": 370,
    "start_time": "2022-04-13T12:25:44.699Z"
   },
   {
    "duration": 54,
    "start_time": "2022-04-13T12:25:45.071Z"
   },
   {
    "duration": 17,
    "start_time": "2022-04-13T12:25:45.127Z"
   },
   {
    "duration": 111,
    "start_time": "2022-04-13T12:25:45.146Z"
   },
   {
    "duration": 8,
    "start_time": "2022-04-13T12:25:45.258Z"
   },
   {
    "duration": 46,
    "start_time": "2022-04-13T12:25:45.268Z"
   },
   {
    "duration": 94,
    "start_time": "2022-04-13T12:25:45.315Z"
   },
   {
    "duration": 110,
    "start_time": "2022-04-13T12:25:45.411Z"
   },
   {
    "duration": 188,
    "start_time": "2022-04-13T12:25:45.524Z"
   },
   {
    "duration": 94,
    "start_time": "2022-04-13T12:25:45.714Z"
   },
   {
    "duration": 8,
    "start_time": "2022-04-13T12:25:45.810Z"
   },
   {
    "duration": 87,
    "start_time": "2022-04-13T12:25:45.820Z"
   },
   {
    "duration": 3,
    "start_time": "2022-04-13T12:25:45.909Z"
   },
   {
    "duration": 6,
    "start_time": "2022-04-13T12:25:45.913Z"
   },
   {
    "duration": 5,
    "start_time": "2022-04-13T12:25:45.920Z"
   },
   {
    "duration": 4,
    "start_time": "2022-04-13T12:25:45.926Z"
   },
   {
    "duration": 5,
    "start_time": "2022-04-13T12:25:45.931Z"
   },
   {
    "duration": 139,
    "start_time": "2022-04-13T12:25:45.937Z"
   },
   {
    "duration": 0,
    "start_time": "2022-04-13T12:25:46.078Z"
   },
   {
    "duration": 0,
    "start_time": "2022-04-13T12:25:46.079Z"
   },
   {
    "duration": 0,
    "start_time": "2022-04-13T12:25:46.081Z"
   },
   {
    "duration": 0,
    "start_time": "2022-04-13T12:25:46.082Z"
   },
   {
    "duration": 6,
    "start_time": "2022-04-13T12:26:25.462Z"
   },
   {
    "duration": 4,
    "start_time": "2022-04-13T12:26:33.221Z"
   },
   {
    "duration": 4,
    "start_time": "2022-04-13T12:26:55.998Z"
   },
   {
    "duration": 21,
    "start_time": "2022-04-13T12:28:31.023Z"
   },
   {
    "duration": 21,
    "start_time": "2022-04-13T12:28:45.463Z"
   },
   {
    "duration": 21,
    "start_time": "2022-04-13T12:29:37.551Z"
   },
   {
    "duration": 0,
    "start_time": "2022-04-13T12:41:44.665Z"
   },
   {
    "duration": 0,
    "start_time": "2022-04-13T12:41:44.666Z"
   },
   {
    "duration": 0,
    "start_time": "2022-04-13T12:41:44.666Z"
   },
   {
    "duration": 0,
    "start_time": "2022-04-13T12:41:44.667Z"
   },
   {
    "duration": 0,
    "start_time": "2022-04-13T12:41:44.668Z"
   },
   {
    "duration": 0,
    "start_time": "2022-04-13T12:41:44.669Z"
   },
   {
    "duration": 0,
    "start_time": "2022-04-13T12:41:44.670Z"
   },
   {
    "duration": 0,
    "start_time": "2022-04-13T12:41:44.671Z"
   },
   {
    "duration": 0,
    "start_time": "2022-04-13T12:41:44.708Z"
   },
   {
    "duration": 0,
    "start_time": "2022-04-13T12:41:44.709Z"
   },
   {
    "duration": 0,
    "start_time": "2022-04-13T12:41:44.710Z"
   },
   {
    "duration": 0,
    "start_time": "2022-04-13T12:41:44.711Z"
   },
   {
    "duration": 0,
    "start_time": "2022-04-13T12:41:44.712Z"
   },
   {
    "duration": 0,
    "start_time": "2022-04-13T12:41:44.713Z"
   },
   {
    "duration": 0,
    "start_time": "2022-04-13T12:41:44.714Z"
   },
   {
    "duration": 0,
    "start_time": "2022-04-13T12:41:44.715Z"
   },
   {
    "duration": 0,
    "start_time": "2022-04-13T12:41:44.716Z"
   },
   {
    "duration": 0,
    "start_time": "2022-04-13T12:41:44.717Z"
   },
   {
    "duration": 0,
    "start_time": "2022-04-13T12:41:44.718Z"
   },
   {
    "duration": 0,
    "start_time": "2022-04-13T12:41:44.719Z"
   },
   {
    "duration": 0,
    "start_time": "2022-04-13T12:41:44.720Z"
   },
   {
    "duration": 0,
    "start_time": "2022-04-13T12:41:44.721Z"
   },
   {
    "duration": 0,
    "start_time": "2022-04-13T12:41:44.722Z"
   },
   {
    "duration": 0,
    "start_time": "2022-04-13T12:41:44.723Z"
   },
   {
    "duration": 1267,
    "start_time": "2022-04-13T12:42:36.250Z"
   },
   {
    "duration": 432,
    "start_time": "2022-04-13T12:42:37.519Z"
   },
   {
    "duration": 0,
    "start_time": "2022-04-13T12:42:37.953Z"
   },
   {
    "duration": 0,
    "start_time": "2022-04-13T12:42:37.954Z"
   },
   {
    "duration": 0,
    "start_time": "2022-04-13T12:42:37.955Z"
   },
   {
    "duration": 0,
    "start_time": "2022-04-13T12:42:37.956Z"
   },
   {
    "duration": 0,
    "start_time": "2022-04-13T12:42:37.957Z"
   },
   {
    "duration": 0,
    "start_time": "2022-04-13T12:42:37.958Z"
   },
   {
    "duration": 0,
    "start_time": "2022-04-13T12:42:37.959Z"
   },
   {
    "duration": 0,
    "start_time": "2022-04-13T12:42:37.960Z"
   },
   {
    "duration": 0,
    "start_time": "2022-04-13T12:42:37.961Z"
   },
   {
    "duration": 0,
    "start_time": "2022-04-13T12:42:37.962Z"
   },
   {
    "duration": 0,
    "start_time": "2022-04-13T12:42:37.963Z"
   },
   {
    "duration": 0,
    "start_time": "2022-04-13T12:42:37.964Z"
   },
   {
    "duration": 0,
    "start_time": "2022-04-13T12:42:37.965Z"
   },
   {
    "duration": 0,
    "start_time": "2022-04-13T12:42:37.966Z"
   },
   {
    "duration": 0,
    "start_time": "2022-04-13T12:42:37.967Z"
   },
   {
    "duration": 0,
    "start_time": "2022-04-13T12:42:37.968Z"
   },
   {
    "duration": 0,
    "start_time": "2022-04-13T12:42:37.969Z"
   },
   {
    "duration": 0,
    "start_time": "2022-04-13T12:42:37.970Z"
   },
   {
    "duration": 0,
    "start_time": "2022-04-13T12:42:37.971Z"
   },
   {
    "duration": 0,
    "start_time": "2022-04-13T12:42:37.972Z"
   },
   {
    "duration": 0,
    "start_time": "2022-04-13T12:42:37.973Z"
   },
   {
    "duration": 0,
    "start_time": "2022-04-13T12:42:37.974Z"
   },
   {
    "duration": 1374,
    "start_time": "2022-04-13T12:42:59.975Z"
   },
   {
    "duration": 365,
    "start_time": "2022-04-13T12:43:01.351Z"
   },
   {
    "duration": 38,
    "start_time": "2022-04-13T12:43:01.717Z"
   },
   {
    "duration": 16,
    "start_time": "2022-04-13T12:43:01.757Z"
   },
   {
    "duration": 123,
    "start_time": "2022-04-13T12:43:01.774Z"
   },
   {
    "duration": 12,
    "start_time": "2022-04-13T12:43:01.899Z"
   },
   {
    "duration": 41,
    "start_time": "2022-04-13T12:43:01.913Z"
   },
   {
    "duration": 58,
    "start_time": "2022-04-13T12:43:01.955Z"
   },
   {
    "duration": 197,
    "start_time": "2022-04-13T12:43:02.015Z"
   },
   {
    "duration": 193,
    "start_time": "2022-04-13T12:43:02.216Z"
   },
   {
    "duration": 5,
    "start_time": "2022-04-13T12:43:02.411Z"
   },
   {
    "duration": 111,
    "start_time": "2022-04-13T12:43:02.508Z"
   },
   {
    "duration": 0,
    "start_time": "2022-04-13T12:43:02.621Z"
   },
   {
    "duration": 0,
    "start_time": "2022-04-13T12:43:02.622Z"
   },
   {
    "duration": 0,
    "start_time": "2022-04-13T12:43:02.623Z"
   },
   {
    "duration": 0,
    "start_time": "2022-04-13T12:43:02.624Z"
   },
   {
    "duration": 0,
    "start_time": "2022-04-13T12:43:02.625Z"
   },
   {
    "duration": 0,
    "start_time": "2022-04-13T12:43:02.626Z"
   },
   {
    "duration": 0,
    "start_time": "2022-04-13T12:43:02.627Z"
   },
   {
    "duration": 0,
    "start_time": "2022-04-13T12:43:02.628Z"
   },
   {
    "duration": 0,
    "start_time": "2022-04-13T12:43:02.630Z"
   },
   {
    "duration": 0,
    "start_time": "2022-04-13T12:43:02.630Z"
   },
   {
    "duration": 0,
    "start_time": "2022-04-13T12:43:02.631Z"
   },
   {
    "duration": 0,
    "start_time": "2022-04-13T12:43:02.632Z"
   },
   {
    "duration": 11,
    "start_time": "2022-04-13T12:43:32.091Z"
   },
   {
    "duration": 62,
    "start_time": "2022-04-13T12:44:22.922Z"
   },
   {
    "duration": 15,
    "start_time": "2022-04-13T12:44:34.555Z"
   },
   {
    "duration": 15,
    "start_time": "2022-04-13T12:46:23.789Z"
   },
   {
    "duration": 10,
    "start_time": "2022-04-13T12:46:27.924Z"
   },
   {
    "duration": 20,
    "start_time": "2022-04-13T12:47:37.436Z"
   },
   {
    "duration": 6,
    "start_time": "2022-04-13T12:49:53.158Z"
   },
   {
    "duration": 6,
    "start_time": "2022-04-13T12:50:10.790Z"
   },
   {
    "duration": 6,
    "start_time": "2022-04-13T12:50:32.255Z"
   },
   {
    "duration": 7,
    "start_time": "2022-04-13T12:50:46.126Z"
   },
   {
    "duration": 1389,
    "start_time": "2022-04-13T12:52:54.287Z"
   },
   {
    "duration": 356,
    "start_time": "2022-04-13T12:52:55.677Z"
   },
   {
    "duration": 37,
    "start_time": "2022-04-13T12:52:56.034Z"
   },
   {
    "duration": 34,
    "start_time": "2022-04-13T12:52:56.073Z"
   },
   {
    "duration": 99,
    "start_time": "2022-04-13T12:52:56.109Z"
   },
   {
    "duration": 8,
    "start_time": "2022-04-13T12:52:56.210Z"
   },
   {
    "duration": 32,
    "start_time": "2022-04-13T12:52:56.220Z"
   },
   {
    "duration": 60,
    "start_time": "2022-04-13T12:52:56.253Z"
   },
   {
    "duration": 201,
    "start_time": "2022-04-13T12:52:56.315Z"
   },
   {
    "duration": 196,
    "start_time": "2022-04-13T12:52:56.519Z"
   },
   {
    "duration": 90,
    "start_time": "2022-04-13T12:52:56.717Z"
   },
   {
    "duration": 142,
    "start_time": "2022-04-13T12:52:56.809Z"
   },
   {
    "duration": 0,
    "start_time": "2022-04-13T12:52:56.952Z"
   },
   {
    "duration": 0,
    "start_time": "2022-04-13T12:52:56.953Z"
   },
   {
    "duration": 0,
    "start_time": "2022-04-13T12:52:56.954Z"
   },
   {
    "duration": 0,
    "start_time": "2022-04-13T12:52:56.955Z"
   },
   {
    "duration": 0,
    "start_time": "2022-04-13T12:52:56.956Z"
   },
   {
    "duration": 0,
    "start_time": "2022-04-13T12:52:56.957Z"
   },
   {
    "duration": 0,
    "start_time": "2022-04-13T12:52:56.958Z"
   },
   {
    "duration": 0,
    "start_time": "2022-04-13T12:52:56.959Z"
   },
   {
    "duration": 0,
    "start_time": "2022-04-13T12:52:56.959Z"
   },
   {
    "duration": 0,
    "start_time": "2022-04-13T12:52:56.960Z"
   },
   {
    "duration": 0,
    "start_time": "2022-04-13T12:52:56.961Z"
   },
   {
    "duration": 0,
    "start_time": "2022-04-13T12:52:56.962Z"
   },
   {
    "duration": 1388,
    "start_time": "2022-04-13T12:54:03.202Z"
   },
   {
    "duration": 382,
    "start_time": "2022-04-13T12:54:04.591Z"
   },
   {
    "duration": 46,
    "start_time": "2022-04-13T12:54:04.974Z"
   },
   {
    "duration": 16,
    "start_time": "2022-04-13T12:54:05.022Z"
   },
   {
    "duration": 128,
    "start_time": "2022-04-13T12:54:05.040Z"
   },
   {
    "duration": 8,
    "start_time": "2022-04-13T12:54:05.169Z"
   },
   {
    "duration": 49,
    "start_time": "2022-04-13T12:54:05.179Z"
   },
   {
    "duration": 78,
    "start_time": "2022-04-13T12:54:05.230Z"
   },
   {
    "duration": 110,
    "start_time": "2022-04-13T12:54:05.311Z"
   },
   {
    "duration": 194,
    "start_time": "2022-04-13T12:54:05.423Z"
   },
   {
    "duration": 4,
    "start_time": "2022-04-13T12:54:05.709Z"
   },
   {
    "duration": 110,
    "start_time": "2022-04-13T12:54:05.715Z"
   },
   {
    "duration": 23,
    "start_time": "2022-04-13T12:54:05.827Z"
   },
   {
    "duration": 2,
    "start_time": "2022-04-13T12:54:05.853Z"
   },
   {
    "duration": 17,
    "start_time": "2022-04-13T12:54:05.857Z"
   },
   {
    "duration": 20,
    "start_time": "2022-04-13T12:54:05.876Z"
   },
   {
    "duration": 13,
    "start_time": "2022-04-13T12:54:05.897Z"
   },
   {
    "duration": 21,
    "start_time": "2022-04-13T12:54:05.912Z"
   },
   {
    "duration": 17,
    "start_time": "2022-04-13T12:54:05.934Z"
   },
   {
    "duration": 116,
    "start_time": "2022-04-13T12:54:05.953Z"
   },
   {
    "duration": 0,
    "start_time": "2022-04-13T12:54:06.071Z"
   },
   {
    "duration": 0,
    "start_time": "2022-04-13T12:54:06.073Z"
   },
   {
    "duration": 0,
    "start_time": "2022-04-13T12:54:06.074Z"
   },
   {
    "duration": 0,
    "start_time": "2022-04-13T12:54:06.075Z"
   },
   {
    "duration": 1319,
    "start_time": "2022-04-13T12:54:21.548Z"
   },
   {
    "duration": 380,
    "start_time": "2022-04-13T12:54:22.869Z"
   },
   {
    "duration": 56,
    "start_time": "2022-04-13T12:54:23.251Z"
   },
   {
    "duration": 17,
    "start_time": "2022-04-13T12:54:23.310Z"
   },
   {
    "duration": 112,
    "start_time": "2022-04-13T12:54:23.329Z"
   },
   {
    "duration": 8,
    "start_time": "2022-04-13T12:54:23.443Z"
   },
   {
    "duration": 36,
    "start_time": "2022-04-13T12:54:23.452Z"
   },
   {
    "duration": 101,
    "start_time": "2022-04-13T12:54:23.506Z"
   },
   {
    "duration": 108,
    "start_time": "2022-04-13T12:54:23.610Z"
   },
   {
    "duration": 193,
    "start_time": "2022-04-13T12:54:23.722Z"
   },
   {
    "duration": 92,
    "start_time": "2022-04-13T12:54:23.917Z"
   },
   {
    "duration": 98,
    "start_time": "2022-04-13T12:54:24.011Z"
   },
   {
    "duration": 20,
    "start_time": "2022-04-13T12:54:24.111Z"
   },
   {
    "duration": 3,
    "start_time": "2022-04-13T12:54:24.133Z"
   },
   {
    "duration": 8,
    "start_time": "2022-04-13T12:54:24.137Z"
   },
   {
    "duration": 5,
    "start_time": "2022-04-13T12:54:24.147Z"
   },
   {
    "duration": 6,
    "start_time": "2022-04-13T12:54:24.153Z"
   },
   {
    "duration": 6,
    "start_time": "2022-04-13T12:54:24.160Z"
   },
   {
    "duration": 5,
    "start_time": "2022-04-13T12:54:24.168Z"
   },
   {
    "duration": 4,
    "start_time": "2022-04-13T12:54:24.174Z"
   },
   {
    "duration": 134,
    "start_time": "2022-04-13T12:54:24.180Z"
   },
   {
    "duration": 0,
    "start_time": "2022-04-13T12:54:24.315Z"
   },
   {
    "duration": 1,
    "start_time": "2022-04-13T12:54:24.316Z"
   },
   {
    "duration": 0,
    "start_time": "2022-04-13T12:54:24.317Z"
   },
   {
    "duration": 10,
    "start_time": "2022-04-13T12:55:28.264Z"
   },
   {
    "duration": 15,
    "start_time": "2022-04-13T12:55:42.431Z"
   },
   {
    "duration": 9,
    "start_time": "2022-04-13T12:55:54.999Z"
   },
   {
    "duration": 9,
    "start_time": "2022-04-13T12:56:36.423Z"
   },
   {
    "duration": 10,
    "start_time": "2022-04-13T12:56:44.152Z"
   },
   {
    "duration": 17,
    "start_time": "2022-04-13T12:58:32.367Z"
   },
   {
    "duration": 15,
    "start_time": "2022-04-13T13:12:55.557Z"
   },
   {
    "duration": 1333,
    "start_time": "2022-04-13T13:13:22.262Z"
   },
   {
    "duration": 1296,
    "start_time": "2022-04-13T13:14:29.157Z"
   },
   {
    "duration": 1260,
    "start_time": "2022-04-13T13:14:44.117Z"
   },
   {
    "duration": 1306,
    "start_time": "2022-04-13T13:17:42.991Z"
   },
   {
    "duration": 1335,
    "start_time": "2022-04-13T13:18:01.135Z"
   },
   {
    "duration": 1406,
    "start_time": "2022-04-13T13:19:27.983Z"
   },
   {
    "duration": 1318,
    "start_time": "2022-04-13T13:19:36.937Z"
   },
   {
    "duration": 7,
    "start_time": "2022-04-13T13:20:56.830Z"
   },
   {
    "duration": 7,
    "start_time": "2022-04-13T13:21:11.624Z"
   },
   {
    "duration": 7,
    "start_time": "2022-04-13T13:21:42.974Z"
   },
   {
    "duration": 1287,
    "start_time": "2022-04-13T13:22:28.400Z"
   },
   {
    "duration": 1297,
    "start_time": "2022-04-13T13:22:58.488Z"
   },
   {
    "duration": 1308,
    "start_time": "2022-04-13T13:23:11.223Z"
   },
   {
    "duration": 1269,
    "start_time": "2022-04-13T13:23:34.184Z"
   },
   {
    "duration": 1295,
    "start_time": "2022-04-13T13:24:21.344Z"
   },
   {
    "duration": 14,
    "start_time": "2022-04-13T13:24:43.560Z"
   },
   {
    "duration": 13,
    "start_time": "2022-04-13T13:25:07.409Z"
   },
   {
    "duration": 13,
    "start_time": "2022-04-13T13:25:33.058Z"
   },
   {
    "duration": 7,
    "start_time": "2022-04-13T13:25:33.087Z"
   },
   {
    "duration": 1335,
    "start_time": "2022-04-13T13:25:48.624Z"
   },
   {
    "duration": 68,
    "start_time": "2022-04-13T13:46:53.568Z"
   },
   {
    "duration": 17,
    "start_time": "2022-04-13T13:47:05.724Z"
   },
   {
    "duration": 17,
    "start_time": "2022-04-13T13:47:28.728Z"
   },
   {
    "duration": 16,
    "start_time": "2022-04-13T13:48:19.287Z"
   },
   {
    "duration": 13,
    "start_time": "2022-04-13T13:49:14.079Z"
   },
   {
    "duration": 19,
    "start_time": "2022-04-13T13:50:37.209Z"
   },
   {
    "duration": 12,
    "start_time": "2022-04-13T13:50:52.488Z"
   },
   {
    "duration": 1498,
    "start_time": "2022-04-13T13:51:19.986Z"
   },
   {
    "duration": 891,
    "start_time": "2022-04-13T13:51:21.486Z"
   },
   {
    "duration": 58,
    "start_time": "2022-04-13T13:51:22.379Z"
   },
   {
    "duration": 18,
    "start_time": "2022-04-13T13:51:22.440Z"
   },
   {
    "duration": 137,
    "start_time": "2022-04-13T13:51:22.461Z"
   },
   {
    "duration": 15,
    "start_time": "2022-04-13T13:51:22.610Z"
   },
   {
    "duration": 39,
    "start_time": "2022-04-13T13:51:22.628Z"
   },
   {
    "duration": 141,
    "start_time": "2022-04-13T13:51:22.669Z"
   },
   {
    "duration": 205,
    "start_time": "2022-04-13T13:51:22.813Z"
   },
   {
    "duration": 108,
    "start_time": "2022-04-13T13:51:23.022Z"
   },
   {
    "duration": 3,
    "start_time": "2022-04-13T13:51:23.133Z"
   },
   {
    "duration": 12,
    "start_time": "2022-04-13T13:51:23.211Z"
   },
   {
    "duration": 30,
    "start_time": "2022-04-13T13:51:23.309Z"
   },
   {
    "duration": 17,
    "start_time": "2022-04-13T13:51:23.341Z"
   },
   {
    "duration": 3,
    "start_time": "2022-04-13T13:51:23.359Z"
   },
   {
    "duration": 6,
    "start_time": "2022-04-13T13:51:23.363Z"
   },
   {
    "duration": 161,
    "start_time": "2022-04-13T13:51:23.371Z"
   },
   {
    "duration": 0,
    "start_time": "2022-04-13T13:51:23.534Z"
   },
   {
    "duration": 0,
    "start_time": "2022-04-13T13:51:23.536Z"
   },
   {
    "duration": 0,
    "start_time": "2022-04-13T13:51:23.538Z"
   },
   {
    "duration": 0,
    "start_time": "2022-04-13T13:51:23.539Z"
   },
   {
    "duration": 0,
    "start_time": "2022-04-13T13:51:23.540Z"
   },
   {
    "duration": 1387,
    "start_time": "2022-04-13T13:51:52.703Z"
   },
   {
    "duration": 437,
    "start_time": "2022-04-13T13:51:54.092Z"
   },
   {
    "duration": 39,
    "start_time": "2022-04-13T13:51:54.531Z"
   },
   {
    "duration": 43,
    "start_time": "2022-04-13T13:51:54.572Z"
   },
   {
    "duration": 123,
    "start_time": "2022-04-13T13:51:54.619Z"
   },
   {
    "duration": 8,
    "start_time": "2022-04-13T13:51:54.744Z"
   },
   {
    "duration": 35,
    "start_time": "2022-04-13T13:51:54.754Z"
   },
   {
    "duration": 124,
    "start_time": "2022-04-13T13:51:54.791Z"
   },
   {
    "duration": 102,
    "start_time": "2022-04-13T13:51:54.923Z"
   },
   {
    "duration": 92,
    "start_time": "2022-04-13T13:51:55.029Z"
   },
   {
    "duration": 85,
    "start_time": "2022-04-13T13:51:55.123Z"
   },
   {
    "duration": 97,
    "start_time": "2022-04-13T13:51:55.211Z"
   },
   {
    "duration": 28,
    "start_time": "2022-04-13T13:51:55.311Z"
   },
   {
    "duration": 17,
    "start_time": "2022-04-13T13:51:55.340Z"
   },
   {
    "duration": 2,
    "start_time": "2022-04-13T13:51:55.358Z"
   },
   {
    "duration": 4,
    "start_time": "2022-04-13T13:51:55.362Z"
   },
   {
    "duration": 144,
    "start_time": "2022-04-13T13:51:55.367Z"
   },
   {
    "duration": 0,
    "start_time": "2022-04-13T13:51:55.513Z"
   },
   {
    "duration": 0,
    "start_time": "2022-04-13T13:51:55.515Z"
   },
   {
    "duration": 0,
    "start_time": "2022-04-13T13:51:55.517Z"
   },
   {
    "duration": 0,
    "start_time": "2022-04-13T13:51:55.519Z"
   },
   {
    "duration": 1324,
    "start_time": "2022-04-13T13:52:14.652Z"
   },
   {
    "duration": 389,
    "start_time": "2022-04-13T13:52:15.978Z"
   },
   {
    "duration": 60,
    "start_time": "2022-04-13T13:52:16.369Z"
   },
   {
    "duration": 20,
    "start_time": "2022-04-13T13:52:16.432Z"
   },
   {
    "duration": 121,
    "start_time": "2022-04-13T13:52:16.454Z"
   },
   {
    "duration": 8,
    "start_time": "2022-04-13T13:52:16.577Z"
   },
   {
    "duration": 50,
    "start_time": "2022-04-13T13:52:16.586Z"
   },
   {
    "duration": 82,
    "start_time": "2022-04-13T13:52:16.637Z"
   },
   {
    "duration": 101,
    "start_time": "2022-04-13T13:52:16.731Z"
   },
   {
    "duration": 202,
    "start_time": "2022-04-13T13:52:16.911Z"
   },
   {
    "duration": 14,
    "start_time": "2022-04-13T13:52:17.116Z"
   },
   {
    "duration": 9,
    "start_time": "2022-04-13T13:52:17.208Z"
   },
   {
    "duration": 26,
    "start_time": "2022-04-13T13:52:17.219Z"
   },
   {
    "duration": 19,
    "start_time": "2022-04-13T13:52:17.247Z"
   },
   {
    "duration": 2,
    "start_time": "2022-04-13T13:52:17.268Z"
   },
   {
    "duration": 41,
    "start_time": "2022-04-13T13:52:17.271Z"
   },
   {
    "duration": 1353,
    "start_time": "2022-04-13T13:52:17.316Z"
   },
   {
    "duration": 8,
    "start_time": "2022-04-13T13:52:18.671Z"
   },
   {
    "duration": 123,
    "start_time": "2022-04-13T13:52:18.681Z"
   },
   {
    "duration": 0,
    "start_time": "2022-04-13T13:52:18.805Z"
   },
   {
    "duration": 2134,
    "start_time": "2022-04-13T13:52:54.913Z"
   },
   {
    "duration": 2231,
    "start_time": "2022-04-13T13:53:09.057Z"
   },
   {
    "duration": 2424,
    "start_time": "2022-04-13T13:54:06.058Z"
   },
   {
    "duration": 2206,
    "start_time": "2022-04-13T13:54:50.881Z"
   },
   {
    "duration": 2441,
    "start_time": "2022-04-13T13:55:02.553Z"
   },
   {
    "duration": 3,
    "start_time": "2022-04-13T13:55:25.690Z"
   },
   {
    "duration": 2407,
    "start_time": "2022-04-13T13:55:34.153Z"
   },
   {
    "duration": 2412,
    "start_time": "2022-04-13T13:55:55.861Z"
   },
   {
    "duration": 72,
    "start_time": "2022-04-13T13:58:06.528Z"
   },
   {
    "duration": 2136,
    "start_time": "2022-04-13T13:58:29.970Z"
   },
   {
    "duration": 2149,
    "start_time": "2022-04-13T13:59:22.802Z"
   },
   {
    "duration": 2090,
    "start_time": "2022-04-13T13:59:51.723Z"
   },
   {
    "duration": 2119,
    "start_time": "2022-04-13T14:01:55.004Z"
   },
   {
    "duration": 2167,
    "start_time": "2022-04-13T14:03:13.532Z"
   },
   {
    "duration": 2137,
    "start_time": "2022-04-13T14:03:24.739Z"
   },
   {
    "duration": 2132,
    "start_time": "2022-04-13T14:04:06.173Z"
   },
   {
    "duration": 2171,
    "start_time": "2022-04-13T14:04:08.307Z"
   },
   {
    "duration": 2071,
    "start_time": "2022-04-13T14:04:43.060Z"
   },
   {
    "duration": 2155,
    "start_time": "2022-04-13T14:05:26.268Z"
   },
   {
    "duration": 1242,
    "start_time": "2022-04-13T14:05:33.051Z"
   },
   {
    "duration": 361,
    "start_time": "2022-04-13T14:05:34.294Z"
   },
   {
    "duration": 52,
    "start_time": "2022-04-13T14:05:34.656Z"
   },
   {
    "duration": 15,
    "start_time": "2022-04-13T14:05:34.710Z"
   },
   {
    "duration": 109,
    "start_time": "2022-04-13T14:05:34.727Z"
   },
   {
    "duration": 8,
    "start_time": "2022-04-13T14:05:34.838Z"
   },
   {
    "duration": 34,
    "start_time": "2022-04-13T14:05:34.848Z"
   },
   {
    "duration": 41,
    "start_time": "2022-04-13T14:05:34.884Z"
   },
   {
    "duration": 110,
    "start_time": "2022-04-13T14:05:35.010Z"
   },
   {
    "duration": 194,
    "start_time": "2022-04-13T14:05:35.122Z"
   },
   {
    "duration": 4,
    "start_time": "2022-04-13T14:05:35.409Z"
   },
   {
    "duration": 97,
    "start_time": "2022-04-13T14:05:35.415Z"
   },
   {
    "duration": 20,
    "start_time": "2022-04-13T14:05:35.513Z"
   },
   {
    "duration": 17,
    "start_time": "2022-04-13T14:05:35.535Z"
   },
   {
    "duration": 2,
    "start_time": "2022-04-13T14:05:35.554Z"
   },
   {
    "duration": 5,
    "start_time": "2022-04-13T14:05:35.557Z"
   },
   {
    "duration": 2130,
    "start_time": "2022-04-13T14:05:35.564Z"
   },
   {
    "duration": 2089,
    "start_time": "2022-04-13T14:05:37.696Z"
   },
   {
    "duration": 2114,
    "start_time": "2022-04-13T14:05:39.786Z"
   },
   {
    "duration": 2088,
    "start_time": "2022-04-13T14:06:05.446Z"
   },
   {
    "duration": 2148,
    "start_time": "2022-04-13T14:06:15.317Z"
   },
   {
    "duration": 2110,
    "start_time": "2022-04-13T14:17:42.785Z"
   },
   {
    "duration": 2454,
    "start_time": "2022-04-13T14:19:39.433Z"
   },
   {
    "duration": 2222,
    "start_time": "2022-04-13T14:24:33.827Z"
   },
   {
    "duration": 2457,
    "start_time": "2022-04-13T14:25:08.146Z"
   },
   {
    "duration": 2447,
    "start_time": "2022-04-13T14:25:10.607Z"
   },
   {
    "duration": 1395,
    "start_time": "2022-04-13T14:28:11.959Z"
   },
   {
    "duration": 383,
    "start_time": "2022-04-13T14:28:13.356Z"
   },
   {
    "duration": 46,
    "start_time": "2022-04-13T14:28:13.741Z"
   },
   {
    "duration": 47,
    "start_time": "2022-04-13T14:28:13.789Z"
   },
   {
    "duration": 129,
    "start_time": "2022-04-13T14:28:13.838Z"
   },
   {
    "duration": 8,
    "start_time": "2022-04-13T14:28:13.969Z"
   },
   {
    "duration": 59,
    "start_time": "2022-04-13T14:28:13.979Z"
   },
   {
    "duration": 75,
    "start_time": "2022-04-13T14:28:14.040Z"
   },
   {
    "duration": 184,
    "start_time": "2022-04-13T14:28:14.125Z"
   },
   {
    "duration": 124,
    "start_time": "2022-04-13T14:28:14.313Z"
   },
   {
    "duration": 10,
    "start_time": "2022-04-13T14:28:14.509Z"
   },
   {
    "duration": 80,
    "start_time": "2022-04-13T14:28:14.531Z"
   },
   {
    "duration": 31,
    "start_time": "2022-04-13T14:28:14.613Z"
   },
   {
    "duration": 18,
    "start_time": "2022-04-13T14:28:14.645Z"
   },
   {
    "duration": 3,
    "start_time": "2022-04-13T14:28:14.665Z"
   },
   {
    "duration": 5,
    "start_time": "2022-04-13T14:28:14.669Z"
   },
   {
    "duration": 2263,
    "start_time": "2022-04-13T14:28:14.709Z"
   },
   {
    "duration": 2465,
    "start_time": "2022-04-13T14:28:16.973Z"
   },
   {
    "duration": 2404,
    "start_time": "2022-04-13T14:28:19.440Z"
   },
   {
    "duration": 1138,
    "start_time": "2022-04-13T15:10:08.529Z"
   },
   {
    "duration": 431,
    "start_time": "2022-04-13T15:10:09.669Z"
   },
   {
    "duration": 49,
    "start_time": "2022-04-13T15:10:10.102Z"
   },
   {
    "duration": 15,
    "start_time": "2022-04-13T15:10:10.153Z"
   },
   {
    "duration": 123,
    "start_time": "2022-04-13T15:10:10.171Z"
   },
   {
    "duration": 11,
    "start_time": "2022-04-13T15:10:10.309Z"
   },
   {
    "duration": 33,
    "start_time": "2022-04-13T15:10:10.322Z"
   },
   {
    "duration": 58,
    "start_time": "2022-04-13T15:10:10.357Z"
   },
   {
    "duration": 105,
    "start_time": "2022-04-13T15:10:10.420Z"
   },
   {
    "duration": 200,
    "start_time": "2022-04-13T15:10:10.527Z"
   },
   {
    "duration": 84,
    "start_time": "2022-04-13T15:10:10.729Z"
   },
   {
    "duration": 94,
    "start_time": "2022-04-13T15:10:10.820Z"
   },
   {
    "duration": 22,
    "start_time": "2022-04-13T15:10:10.918Z"
   },
   {
    "duration": 18,
    "start_time": "2022-04-13T15:10:10.943Z"
   },
   {
    "duration": 2406,
    "start_time": "2022-04-13T15:10:10.962Z"
   },
   {
    "duration": 2399,
    "start_time": "2022-04-13T15:10:13.369Z"
   },
   {
    "duration": 2334,
    "start_time": "2022-04-13T15:10:15.770Z"
   },
   {
    "duration": 102,
    "start_time": "2022-04-13T15:33:14.425Z"
   },
   {
    "duration": 20,
    "start_time": "2022-04-13T15:33:31.649Z"
   },
   {
    "duration": 18,
    "start_time": "2022-04-13T15:33:45.602Z"
   },
   {
    "duration": 22,
    "start_time": "2022-04-13T15:33:51.673Z"
   },
   {
    "duration": 108,
    "start_time": "2022-04-13T15:34:20.001Z"
   },
   {
    "duration": 244,
    "start_time": "2022-04-13T15:34:40.041Z"
   },
   {
    "duration": 19,
    "start_time": "2022-04-13T15:34:54.744Z"
   },
   {
    "duration": 18,
    "start_time": "2022-04-13T15:36:39.442Z"
   },
   {
    "duration": 19,
    "start_time": "2022-04-13T15:37:08.843Z"
   },
   {
    "duration": 18,
    "start_time": "2022-04-13T15:37:33.906Z"
   },
   {
    "duration": 79,
    "start_time": "2022-04-13T15:38:09.930Z"
   },
   {
    "duration": 20,
    "start_time": "2022-04-13T15:38:34.363Z"
   },
   {
    "duration": 18,
    "start_time": "2022-04-13T15:38:59.354Z"
   },
   {
    "duration": 7,
    "start_time": "2022-04-13T15:50:48.550Z"
   },
   {
    "duration": 21,
    "start_time": "2022-04-13T16:02:23.058Z"
   },
   {
    "duration": 2270,
    "start_time": "2022-04-13T16:10:06.223Z"
   },
   {
    "duration": 24,
    "start_time": "2022-04-13T16:14:27.504Z"
   },
   {
    "duration": 22,
    "start_time": "2022-04-13T16:14:37.897Z"
   },
   {
    "duration": 23,
    "start_time": "2022-04-13T16:15:01.632Z"
   },
   {
    "duration": 12,
    "start_time": "2022-04-13T16:17:07.952Z"
   },
   {
    "duration": 6,
    "start_time": "2022-04-13T16:17:15.888Z"
   },
   {
    "duration": 6,
    "start_time": "2022-04-13T16:17:33.039Z"
   },
   {
    "duration": 2202,
    "start_time": "2022-04-13T16:17:51.855Z"
   },
   {
    "duration": 2102,
    "start_time": "2022-04-13T16:17:54.059Z"
   },
   {
    "duration": 1097,
    "start_time": "2022-04-13T16:18:22.747Z"
   },
   {
    "duration": 415,
    "start_time": "2022-04-13T16:18:23.847Z"
   },
   {
    "duration": 60,
    "start_time": "2022-04-13T16:18:24.264Z"
   },
   {
    "duration": 17,
    "start_time": "2022-04-13T16:18:24.326Z"
   },
   {
    "duration": 120,
    "start_time": "2022-04-13T16:18:24.345Z"
   },
   {
    "duration": 9,
    "start_time": "2022-04-13T16:18:24.466Z"
   },
   {
    "duration": 49,
    "start_time": "2022-04-13T16:18:24.476Z"
   },
   {
    "duration": 86,
    "start_time": "2022-04-13T16:18:24.527Z"
   },
   {
    "duration": 195,
    "start_time": "2022-04-13T16:18:24.616Z"
   },
   {
    "duration": 202,
    "start_time": "2022-04-13T16:18:24.813Z"
   },
   {
    "duration": 93,
    "start_time": "2022-04-13T16:18:25.018Z"
   },
   {
    "duration": 96,
    "start_time": "2022-04-13T16:18:25.114Z"
   },
   {
    "duration": 22,
    "start_time": "2022-04-13T16:18:25.212Z"
   },
   {
    "duration": 19,
    "start_time": "2022-04-13T16:18:25.237Z"
   },
   {
    "duration": 2349,
    "start_time": "2022-04-13T16:18:25.258Z"
   },
   {
    "duration": 2220,
    "start_time": "2022-04-13T16:18:27.609Z"
   },
   {
    "duration": 2148,
    "start_time": "2022-04-13T16:18:29.831Z"
   },
   {
    "duration": 2113,
    "start_time": "2022-04-13T16:18:31.980Z"
   },
   {
    "duration": 2343,
    "start_time": "2022-04-13T16:20:16.897Z"
   },
   {
    "duration": 6,
    "start_time": "2022-04-13T16:20:43.210Z"
   },
   {
    "duration": 5,
    "start_time": "2022-04-13T16:20:47.777Z"
   },
   {
    "duration": 8,
    "start_time": "2022-04-13T16:21:00.386Z"
   },
   {
    "duration": 12,
    "start_time": "2022-04-13T16:21:17.331Z"
   },
   {
    "duration": 8,
    "start_time": "2022-04-13T16:22:42.619Z"
   },
   {
    "duration": 2158,
    "start_time": "2022-04-13T16:23:50.802Z"
   },
   {
    "duration": 9,
    "start_time": "2022-04-13T16:24:15.620Z"
   },
   {
    "duration": 9,
    "start_time": "2022-04-13T16:25:23.341Z"
   },
   {
    "duration": 8,
    "start_time": "2022-04-13T16:26:47.092Z"
   },
   {
    "duration": 6,
    "start_time": "2022-04-13T16:27:18.973Z"
   },
   {
    "duration": 7,
    "start_time": "2022-04-13T16:27:32.642Z"
   },
   {
    "duration": 7,
    "start_time": "2022-04-13T16:28:18.197Z"
   },
   {
    "duration": 2124,
    "start_time": "2022-04-13T16:28:18.428Z"
   },
   {
    "duration": 2082,
    "start_time": "2022-04-13T16:29:33.510Z"
   },
   {
    "duration": 2190,
    "start_time": "2022-04-13T16:30:18.200Z"
   },
   {
    "duration": 2144,
    "start_time": "2022-04-13T16:30:38.581Z"
   },
   {
    "duration": 1127,
    "start_time": "2022-04-13T16:31:23.509Z"
   },
   {
    "duration": 371,
    "start_time": "2022-04-13T16:31:24.638Z"
   },
   {
    "duration": 39,
    "start_time": "2022-04-13T16:31:25.010Z"
   },
   {
    "duration": 16,
    "start_time": "2022-04-13T16:31:25.051Z"
   },
   {
    "duration": 121,
    "start_time": "2022-04-13T16:31:25.069Z"
   },
   {
    "duration": 17,
    "start_time": "2022-04-13T16:31:25.191Z"
   },
   {
    "duration": 44,
    "start_time": "2022-04-13T16:31:25.210Z"
   },
   {
    "duration": 57,
    "start_time": "2022-04-13T16:31:25.255Z"
   },
   {
    "duration": 110,
    "start_time": "2022-04-13T16:31:25.316Z"
   },
   {
    "duration": 112,
    "start_time": "2022-04-13T16:31:25.511Z"
   },
   {
    "duration": 85,
    "start_time": "2022-04-13T16:31:25.625Z"
   },
   {
    "duration": 100,
    "start_time": "2022-04-13T16:31:25.713Z"
   },
   {
    "duration": 22,
    "start_time": "2022-04-13T16:31:25.814Z"
   },
   {
    "duration": 18,
    "start_time": "2022-04-13T16:31:25.839Z"
   },
   {
    "duration": 2210,
    "start_time": "2022-04-13T16:31:25.859Z"
   },
   {
    "duration": 2194,
    "start_time": "2022-04-13T16:31:28.070Z"
   },
   {
    "duration": 2183,
    "start_time": "2022-04-13T16:31:30.265Z"
   },
   {
    "duration": 72,
    "start_time": "2022-04-14T15:06:32.653Z"
   },
   {
    "duration": 60,
    "start_time": "2022-04-14T15:06:48.125Z"
   },
   {
    "duration": 5,
    "start_time": "2022-04-14T15:07:37.158Z"
   },
   {
    "duration": 1143,
    "start_time": "2022-04-14T15:07:42.186Z"
   },
   {
    "duration": 907,
    "start_time": "2022-04-14T15:07:43.331Z"
   },
   {
    "duration": 77,
    "start_time": "2022-04-14T15:07:44.240Z"
   },
   {
    "duration": 22,
    "start_time": "2022-04-14T15:07:44.320Z"
   },
   {
    "duration": 135,
    "start_time": "2022-04-14T15:07:44.344Z"
   },
   {
    "duration": 9,
    "start_time": "2022-04-14T15:07:44.481Z"
   },
   {
    "duration": 44,
    "start_time": "2022-04-14T15:07:44.508Z"
   },
   {
    "duration": 70,
    "start_time": "2022-04-14T15:07:44.554Z"
   },
   {
    "duration": 203,
    "start_time": "2022-04-14T15:07:44.706Z"
   },
   {
    "duration": 120,
    "start_time": "2022-04-14T15:07:44.915Z"
   },
   {
    "duration": 171,
    "start_time": "2022-04-14T15:07:45.037Z"
   },
   {
    "duration": 122,
    "start_time": "2022-04-14T15:07:45.211Z"
   },
   {
    "duration": 0,
    "start_time": "2022-04-14T15:07:45.336Z"
   },
   {
    "duration": 0,
    "start_time": "2022-04-14T15:07:45.337Z"
   },
   {
    "duration": 0,
    "start_time": "2022-04-14T15:07:45.339Z"
   },
   {
    "duration": 0,
    "start_time": "2022-04-14T15:07:45.340Z"
   },
   {
    "duration": 0,
    "start_time": "2022-04-14T15:07:45.342Z"
   },
   {
    "duration": 0,
    "start_time": "2022-04-14T15:07:45.343Z"
   },
   {
    "duration": 0,
    "start_time": "2022-04-14T15:07:45.345Z"
   },
   {
    "duration": 13,
    "start_time": "2022-04-14T15:08:59.115Z"
   },
   {
    "duration": 4,
    "start_time": "2022-04-14T15:09:13.766Z"
   },
   {
    "duration": 6,
    "start_time": "2022-04-14T15:10:00.615Z"
   },
   {
    "duration": 5,
    "start_time": "2022-04-14T15:10:11.959Z"
   },
   {
    "duration": 59,
    "start_time": "2022-04-14T15:10:18.327Z"
   },
   {
    "duration": 11,
    "start_time": "2022-04-14T15:10:25.479Z"
   },
   {
    "duration": 67,
    "start_time": "2022-04-14T15:10:46.521Z"
   },
   {
    "duration": 4,
    "start_time": "2022-04-14T15:10:59.390Z"
   },
   {
    "duration": 7,
    "start_time": "2022-04-14T15:11:34.496Z"
   },
   {
    "duration": 1217,
    "start_time": "2022-04-15T07:24:04.474Z"
   },
   {
    "duration": 355,
    "start_time": "2022-04-15T07:24:05.693Z"
   },
   {
    "duration": 39,
    "start_time": "2022-04-15T07:24:06.050Z"
   },
   {
    "duration": 17,
    "start_time": "2022-04-15T07:24:06.091Z"
   },
   {
    "duration": 107,
    "start_time": "2022-04-15T07:24:06.110Z"
   },
   {
    "duration": 8,
    "start_time": "2022-04-15T07:24:06.219Z"
   },
   {
    "duration": 44,
    "start_time": "2022-04-15T07:24:06.228Z"
   },
   {
    "duration": 82,
    "start_time": "2022-04-15T07:24:06.274Z"
   },
   {
    "duration": 112,
    "start_time": "2022-04-15T07:24:06.358Z"
   },
   {
    "duration": 188,
    "start_time": "2022-04-15T07:24:06.474Z"
   },
   {
    "duration": 191,
    "start_time": "2022-04-15T07:24:06.664Z"
   },
   {
    "duration": 19,
    "start_time": "2022-04-15T07:24:06.857Z"
   },
   {
    "duration": 17,
    "start_time": "2022-04-15T07:24:06.878Z"
   },
   {
    "duration": 35,
    "start_time": "2022-04-15T07:24:06.896Z"
   },
   {
    "duration": 24,
    "start_time": "2022-04-15T07:24:06.933Z"
   },
   {
    "duration": 1815,
    "start_time": "2022-04-15T07:24:06.959Z"
   },
   {
    "duration": 1795,
    "start_time": "2022-04-15T07:24:08.776Z"
   },
   {
    "duration": 1797,
    "start_time": "2022-04-15T07:24:10.572Z"
   },
   {
    "duration": 92,
    "start_time": "2022-04-15T07:25:23.893Z"
   },
   {
    "duration": 3,
    "start_time": "2022-04-15T07:25:49.752Z"
   },
   {
    "duration": 3,
    "start_time": "2022-04-15T07:28:10.001Z"
   },
   {
    "duration": 5,
    "start_time": "2022-04-15T07:28:21.722Z"
   },
   {
    "duration": 4,
    "start_time": "2022-04-15T07:28:56.089Z"
   },
   {
    "duration": 4,
    "start_time": "2022-04-15T07:28:56.143Z"
   },
   {
    "duration": 4,
    "start_time": "2022-04-15T07:29:02.041Z"
   },
   {
    "duration": 4,
    "start_time": "2022-04-15T07:29:07.436Z"
   },
   {
    "duration": 345,
    "start_time": "2022-04-15T07:29:07.442Z"
   },
   {
    "duration": 36,
    "start_time": "2022-04-15T07:29:07.789Z"
   },
   {
    "duration": 33,
    "start_time": "2022-04-15T07:29:07.827Z"
   },
   {
    "duration": 97,
    "start_time": "2022-04-15T07:29:07.862Z"
   },
   {
    "duration": 8,
    "start_time": "2022-04-15T07:29:07.961Z"
   },
   {
    "duration": 27,
    "start_time": "2022-04-15T07:29:07.970Z"
   },
   {
    "duration": 65,
    "start_time": "2022-04-15T07:29:07.999Z"
   },
   {
    "duration": 110,
    "start_time": "2022-04-15T07:29:08.156Z"
   },
   {
    "duration": 190,
    "start_time": "2022-04-15T07:29:08.269Z"
   },
   {
    "duration": 192,
    "start_time": "2022-04-15T07:29:08.462Z"
   },
   {
    "duration": 3,
    "start_time": "2022-04-15T07:29:12.849Z"
   },
   {
    "duration": 1291,
    "start_time": "2022-04-15T07:29:18.921Z"
   },
   {
    "duration": 361,
    "start_time": "2022-04-15T07:29:20.215Z"
   },
   {
    "duration": 37,
    "start_time": "2022-04-15T07:29:20.578Z"
   },
   {
    "duration": 15,
    "start_time": "2022-04-15T07:29:20.617Z"
   },
   {
    "duration": 91,
    "start_time": "2022-04-15T07:29:20.655Z"
   },
   {
    "duration": 12,
    "start_time": "2022-04-15T07:29:20.748Z"
   },
   {
    "duration": 34,
    "start_time": "2022-04-15T07:29:20.762Z"
   },
   {
    "duration": 65,
    "start_time": "2022-04-15T07:29:20.798Z"
   },
   {
    "duration": 104,
    "start_time": "2022-04-15T07:29:20.864Z"
   },
   {
    "duration": 115,
    "start_time": "2022-04-15T07:29:21.057Z"
   },
   {
    "duration": 268,
    "start_time": "2022-04-15T07:29:21.174Z"
   },
   {
    "duration": 1,
    "start_time": "2022-04-15T07:29:21.443Z"
   },
   {
    "duration": 0,
    "start_time": "2022-04-15T07:29:21.445Z"
   },
   {
    "duration": 0,
    "start_time": "2022-04-15T07:29:21.454Z"
   },
   {
    "duration": 0,
    "start_time": "2022-04-15T07:29:21.456Z"
   },
   {
    "duration": 0,
    "start_time": "2022-04-15T07:29:21.456Z"
   },
   {
    "duration": 0,
    "start_time": "2022-04-15T07:29:21.458Z"
   },
   {
    "duration": 0,
    "start_time": "2022-04-15T07:29:21.459Z"
   },
   {
    "duration": 0,
    "start_time": "2022-04-15T07:29:21.459Z"
   },
   {
    "duration": 3,
    "start_time": "2022-04-15T07:31:37.988Z"
   },
   {
    "duration": 3,
    "start_time": "2022-04-15T07:31:45.894Z"
   },
   {
    "duration": 3,
    "start_time": "2022-04-15T07:36:56.168Z"
   },
   {
    "duration": 4,
    "start_time": "2022-04-15T07:37:06.615Z"
   },
   {
    "duration": 4,
    "start_time": "2022-04-15T07:37:47.183Z"
   },
   {
    "duration": 4,
    "start_time": "2022-04-15T07:38:01.312Z"
   },
   {
    "duration": 5,
    "start_time": "2022-04-15T07:38:01.361Z"
   },
   {
    "duration": 4,
    "start_time": "2022-04-15T07:50:03.123Z"
   },
   {
    "duration": 3,
    "start_time": "2022-04-15T07:54:24.486Z"
   },
   {
    "duration": 3,
    "start_time": "2022-04-15T07:54:34.933Z"
   },
   {
    "duration": 3,
    "start_time": "2022-04-15T07:55:42.670Z"
   },
   {
    "duration": 3,
    "start_time": "2022-04-15T07:56:16.830Z"
   },
   {
    "duration": 4,
    "start_time": "2022-04-15T08:03:38.681Z"
   },
   {
    "duration": 5,
    "start_time": "2022-04-15T08:04:48.010Z"
   },
   {
    "duration": 168,
    "start_time": "2022-04-15T08:05:42.562Z"
   },
   {
    "duration": 147,
    "start_time": "2022-04-15T08:06:44.475Z"
   },
   {
    "duration": 147,
    "start_time": "2022-04-15T08:07:04.540Z"
   },
   {
    "duration": 3,
    "start_time": "2022-04-15T08:08:44.579Z"
   },
   {
    "duration": 9,
    "start_time": "2022-04-15T08:08:55.075Z"
   },
   {
    "duration": 156,
    "start_time": "2022-04-15T08:08:55.137Z"
   },
   {
    "duration": 3,
    "start_time": "2022-04-15T08:09:09.234Z"
   },
   {
    "duration": 3,
    "start_time": "2022-04-15T08:09:19.299Z"
   },
   {
    "duration": 4,
    "start_time": "2022-04-15T08:10:47.489Z"
   },
   {
    "duration": 4,
    "start_time": "2022-04-15T08:10:53.836Z"
   },
   {
    "duration": 3,
    "start_time": "2022-04-15T08:11:33.692Z"
   },
   {
    "duration": 3,
    "start_time": "2022-04-15T08:11:50.421Z"
   },
   {
    "duration": 151,
    "start_time": "2022-04-15T08:11:50.506Z"
   },
   {
    "duration": 3,
    "start_time": "2022-04-15T08:12:30.788Z"
   },
   {
    "duration": 3,
    "start_time": "2022-04-15T08:12:41.682Z"
   },
   {
    "duration": 3,
    "start_time": "2022-04-15T08:14:52.119Z"
   },
   {
    "duration": 3,
    "start_time": "2022-04-15T08:15:02.741Z"
   },
   {
    "duration": 9,
    "start_time": "2022-04-15T08:15:08.718Z"
   },
   {
    "duration": 5,
    "start_time": "2022-04-15T08:15:21.157Z"
   },
   {
    "duration": 3,
    "start_time": "2022-04-15T08:15:25.629Z"
   },
   {
    "duration": 3,
    "start_time": "2022-04-15T08:15:28.124Z"
   },
   {
    "duration": 4,
    "start_time": "2022-04-15T08:15:31.067Z"
   },
   {
    "duration": 3,
    "start_time": "2022-04-15T08:16:27.294Z"
   },
   {
    "duration": 4,
    "start_time": "2022-04-15T08:16:38.374Z"
   },
   {
    "duration": 4,
    "start_time": "2022-04-15T08:16:48.805Z"
   },
   {
    "duration": 4,
    "start_time": "2022-04-15T08:16:51.844Z"
   },
   {
    "duration": 149,
    "start_time": "2022-04-15T08:16:51.891Z"
   },
   {
    "duration": 3,
    "start_time": "2022-04-15T08:16:55.381Z"
   },
   {
    "duration": 3,
    "start_time": "2022-04-15T08:17:28.750Z"
   },
   {
    "duration": 3,
    "start_time": "2022-04-15T08:17:39.263Z"
   },
   {
    "duration": 3,
    "start_time": "2022-04-15T08:17:51.365Z"
   },
   {
    "duration": 156,
    "start_time": "2022-04-15T08:18:01.591Z"
   },
   {
    "duration": 4,
    "start_time": "2022-04-15T08:18:11.782Z"
   },
   {
    "duration": 3,
    "start_time": "2022-04-15T08:20:25.213Z"
   },
   {
    "duration": 3,
    "start_time": "2022-04-15T08:21:05.383Z"
   },
   {
    "duration": 4,
    "start_time": "2022-04-15T08:21:19.735Z"
   },
   {
    "duration": 3,
    "start_time": "2022-04-15T08:21:33.256Z"
   },
   {
    "duration": 11,
    "start_time": "2022-04-15T08:22:26.552Z"
   },
   {
    "duration": 181,
    "start_time": "2022-04-15T08:22:48.352Z"
   },
   {
    "duration": 4,
    "start_time": "2022-04-15T08:23:10.479Z"
   },
   {
    "duration": 8,
    "start_time": "2022-04-15T08:23:25.367Z"
   },
   {
    "duration": 3,
    "start_time": "2022-04-15T08:23:49.327Z"
   },
   {
    "duration": 5,
    "start_time": "2022-04-15T08:23:56.238Z"
   },
   {
    "duration": 4,
    "start_time": "2022-04-15T08:24:11.935Z"
   },
   {
    "duration": 5,
    "start_time": "2022-04-15T08:25:08.049Z"
   },
   {
    "duration": 5,
    "start_time": "2022-04-15T08:25:25.704Z"
   },
   {
    "duration": 5,
    "start_time": "2022-04-15T08:26:14.969Z"
   },
   {
    "duration": 4,
    "start_time": "2022-04-15T08:26:27.953Z"
   },
   {
    "duration": 4,
    "start_time": "2022-04-15T08:28:22.001Z"
   },
   {
    "duration": 5,
    "start_time": "2022-04-15T08:28:22.034Z"
   },
   {
    "duration": 6,
    "start_time": "2022-04-15T08:28:42.164Z"
   },
   {
    "duration": 6,
    "start_time": "2022-04-15T08:28:53.978Z"
   },
   {
    "duration": 7,
    "start_time": "2022-04-15T08:28:54.007Z"
   },
   {
    "duration": 6,
    "start_time": "2022-04-15T08:29:08.305Z"
   },
   {
    "duration": 195,
    "start_time": "2022-04-15T08:30:24.274Z"
   },
   {
    "duration": 4,
    "start_time": "2022-04-15T08:30:33.442Z"
   },
   {
    "duration": 158,
    "start_time": "2022-04-15T08:31:34.738Z"
   },
   {
    "duration": 4,
    "start_time": "2022-04-15T08:31:41.968Z"
   },
   {
    "duration": 5,
    "start_time": "2022-04-15T08:31:46.682Z"
   },
   {
    "duration": 4,
    "start_time": "2022-04-15T08:32:11.370Z"
   },
   {
    "duration": 4,
    "start_time": "2022-04-15T08:32:19.843Z"
   },
   {
    "duration": 3,
    "start_time": "2022-04-15T08:32:57.931Z"
   },
   {
    "duration": 166,
    "start_time": "2022-04-15T08:33:14.139Z"
   },
   {
    "duration": 5,
    "start_time": "2022-04-15T08:33:29.908Z"
   },
   {
    "duration": 355,
    "start_time": "2022-04-15T08:33:29.939Z"
   },
   {
    "duration": 201,
    "start_time": "2022-04-15T08:34:07.619Z"
   },
   {
    "duration": 3,
    "start_time": "2022-04-15T08:34:15.340Z"
   },
   {
    "duration": 4,
    "start_time": "2022-04-15T08:49:49.722Z"
   },
   {
    "duration": 4,
    "start_time": "2022-04-15T08:50:10.906Z"
   },
   {
    "duration": 4,
    "start_time": "2022-04-15T08:50:35.707Z"
   },
   {
    "duration": 3,
    "start_time": "2022-04-15T08:50:38.180Z"
   },
   {
    "duration": 158,
    "start_time": "2022-04-15T08:50:38.272Z"
   },
   {
    "duration": 4,
    "start_time": "2022-04-15T08:51:29.066Z"
   },
   {
    "duration": 5,
    "start_time": "2022-04-15T08:52:31.523Z"
   },
   {
    "duration": 263,
    "start_time": "2022-04-15T08:54:33.796Z"
   },
   {
    "duration": 12,
    "start_time": "2022-04-15T09:08:51.529Z"
   },
   {
    "duration": 14,
    "start_time": "2022-04-15T11:01:12.759Z"
   },
   {
    "duration": 1578,
    "start_time": "2022-04-15T11:01:29.421Z"
   },
   {
    "duration": 430,
    "start_time": "2022-04-15T11:01:31.002Z"
   },
   {
    "duration": 68,
    "start_time": "2022-04-15T11:01:31.434Z"
   },
   {
    "duration": 16,
    "start_time": "2022-04-15T11:01:31.505Z"
   },
   {
    "duration": 105,
    "start_time": "2022-04-15T11:01:31.523Z"
   },
   {
    "duration": 7,
    "start_time": "2022-04-15T11:01:31.630Z"
   },
   {
    "duration": 44,
    "start_time": "2022-04-15T11:01:31.656Z"
   },
   {
    "duration": 153,
    "start_time": "2022-04-15T11:01:31.703Z"
   },
   {
    "duration": 133,
    "start_time": "2022-04-15T11:01:31.858Z"
   },
   {
    "duration": 134,
    "start_time": "2022-04-15T11:01:32.065Z"
   },
   {
    "duration": 158,
    "start_time": "2022-04-15T11:01:32.201Z"
   },
   {
    "duration": 29,
    "start_time": "2022-04-15T11:01:32.361Z"
   },
   {
    "duration": 266,
    "start_time": "2022-04-15T11:01:32.392Z"
   },
   {
    "duration": 13,
    "start_time": "2022-04-15T11:01:32.672Z"
   },
   {
    "duration": 34,
    "start_time": "2022-04-15T11:01:32.756Z"
   },
   {
    "duration": 26,
    "start_time": "2022-04-15T11:01:32.794Z"
   },
   {
    "duration": 19,
    "start_time": "2022-04-15T11:01:32.822Z"
   },
   {
    "duration": 2250,
    "start_time": "2022-04-15T11:01:32.843Z"
   },
   {
    "duration": 2329,
    "start_time": "2022-04-15T11:01:35.094Z"
   },
   {
    "duration": 2226,
    "start_time": "2022-04-15T11:01:37.425Z"
   },
   {
    "duration": 330,
    "start_time": "2022-04-15T11:03:21.455Z"
   },
   {
    "duration": 192,
    "start_time": "2022-04-15T11:03:43.780Z"
   },
   {
    "duration": 203,
    "start_time": "2022-04-15T11:04:54.287Z"
   },
   {
    "duration": 208,
    "start_time": "2022-04-15T11:05:02.943Z"
   },
   {
    "duration": 260,
    "start_time": "2022-04-15T11:05:09.799Z"
   },
   {
    "duration": 216,
    "start_time": "2022-04-15T11:05:45.360Z"
   },
   {
    "duration": 500,
    "start_time": "2022-04-15T11:05:57.256Z"
   },
   {
    "duration": 393,
    "start_time": "2022-04-15T11:06:14.863Z"
   },
   {
    "duration": 316,
    "start_time": "2022-04-15T11:06:22.642Z"
   },
   {
    "duration": 521,
    "start_time": "2022-04-15T11:07:50.240Z"
   },
   {
    "duration": 448,
    "start_time": "2022-04-15T11:08:07.401Z"
   },
   {
    "duration": 4,
    "start_time": "2022-04-15T11:08:26.361Z"
   },
   {
    "duration": 4,
    "start_time": "2022-04-15T11:08:36.504Z"
   },
   {
    "duration": 225,
    "start_time": "2022-04-15T11:10:26.633Z"
   },
   {
    "duration": 228,
    "start_time": "2022-04-15T11:10:49.329Z"
   },
   {
    "duration": 212,
    "start_time": "2022-04-15T11:11:29.464Z"
   },
   {
    "duration": 222,
    "start_time": "2022-04-15T11:11:36.936Z"
   },
   {
    "duration": 161,
    "start_time": "2022-04-15T11:12:22.297Z"
   },
   {
    "duration": 227,
    "start_time": "2022-04-15T11:13:17.250Z"
   },
   {
    "duration": 139,
    "start_time": "2022-04-15T11:14:26.823Z"
   },
   {
    "duration": 210,
    "start_time": "2022-04-15T11:25:56.119Z"
   },
   {
    "duration": 195,
    "start_time": "2022-04-15T11:34:57.971Z"
   },
   {
    "duration": 166,
    "start_time": "2022-04-15T11:36:09.532Z"
   },
   {
    "duration": 195,
    "start_time": "2022-04-15T11:36:26.386Z"
   },
   {
    "duration": 5,
    "start_time": "2022-04-15T11:36:36.268Z"
   },
   {
    "duration": 6,
    "start_time": "2022-04-15T11:36:44.722Z"
   },
   {
    "duration": 142,
    "start_time": "2022-04-15T11:36:56.769Z"
   },
   {
    "duration": 6,
    "start_time": "2022-04-15T11:37:10.075Z"
   },
   {
    "duration": 6,
    "start_time": "2022-04-15T11:37:56.075Z"
   },
   {
    "duration": 1590,
    "start_time": "2022-04-15T12:04:54.454Z"
   },
   {
    "duration": 1158,
    "start_time": "2022-04-15T12:04:56.046Z"
   },
   {
    "duration": 63,
    "start_time": "2022-04-15T12:04:57.207Z"
   },
   {
    "duration": 24,
    "start_time": "2022-04-15T12:04:57.272Z"
   },
   {
    "duration": 134,
    "start_time": "2022-04-15T12:04:57.299Z"
   },
   {
    "duration": 9,
    "start_time": "2022-04-15T12:04:57.435Z"
   },
   {
    "duration": 51,
    "start_time": "2022-04-15T12:04:57.446Z"
   },
   {
    "duration": 78,
    "start_time": "2022-04-15T12:04:57.499Z"
   },
   {
    "duration": 281,
    "start_time": "2022-04-15T12:04:57.578Z"
   },
   {
    "duration": 190,
    "start_time": "2022-04-15T12:04:57.864Z"
   },
   {
    "duration": 298,
    "start_time": "2022-04-15T12:04:58.058Z"
   },
   {
    "duration": 10,
    "start_time": "2022-04-15T12:04:58.362Z"
   },
   {
    "duration": 99,
    "start_time": "2022-04-15T12:04:58.376Z"
   },
   {
    "duration": 32,
    "start_time": "2022-04-15T12:04:58.478Z"
   },
   {
    "duration": 20,
    "start_time": "2022-04-15T12:04:58.512Z"
   },
   {
    "duration": 2678,
    "start_time": "2022-04-15T12:04:58.534Z"
   },
   {
    "duration": 3176,
    "start_time": "2022-04-15T12:05:01.214Z"
   },
   {
    "duration": 2350,
    "start_time": "2022-04-15T12:05:04.392Z"
   },
   {
    "duration": 2407,
    "start_time": "2022-04-15T12:32:16.409Z"
   },
   {
    "duration": 2669,
    "start_time": "2022-04-15T12:32:38.360Z"
   },
   {
    "duration": 2073,
    "start_time": "2022-04-15T12:34:00.848Z"
   },
   {
    "duration": 2354,
    "start_time": "2022-04-15T12:34:31.295Z"
   },
   {
    "duration": 13,
    "start_time": "2022-04-15T12:42:39.858Z"
   },
   {
    "duration": 242,
    "start_time": "2022-04-15T12:46:46.530Z"
   },
   {
    "duration": 7,
    "start_time": "2022-04-15T12:46:56.859Z"
   },
   {
    "duration": 8,
    "start_time": "2022-04-15T12:47:37.477Z"
   },
   {
    "duration": 22,
    "start_time": "2022-04-15T12:47:56.923Z"
   },
   {
    "duration": 16,
    "start_time": "2022-04-15T12:49:01.669Z"
   },
   {
    "duration": 349,
    "start_time": "2022-04-15T12:49:01.706Z"
   },
   {
    "duration": 339,
    "start_time": "2022-04-15T12:51:23.317Z"
   },
   {
    "duration": 25,
    "start_time": "2022-04-15T12:51:48.109Z"
   },
   {
    "duration": 0,
    "start_time": "2022-04-15T12:51:48.136Z"
   },
   {
    "duration": 22,
    "start_time": "2022-04-15T12:52:21.250Z"
   },
   {
    "duration": 0,
    "start_time": "2022-04-15T12:52:21.274Z"
   },
   {
    "duration": 22,
    "start_time": "2022-04-15T12:54:40.399Z"
   },
   {
    "duration": 23,
    "start_time": "2022-04-15T12:55:40.303Z"
   },
   {
    "duration": 238,
    "start_time": "2022-04-15T12:55:40.336Z"
   },
   {
    "duration": 24,
    "start_time": "2022-04-15T12:56:13.120Z"
   },
   {
    "duration": 17,
    "start_time": "2022-04-15T12:56:34.903Z"
   },
   {
    "duration": 243,
    "start_time": "2022-04-15T12:56:34.926Z"
   },
   {
    "duration": 20,
    "start_time": "2022-04-15T12:57:02.048Z"
   },
   {
    "duration": 16,
    "start_time": "2022-04-15T12:57:44.889Z"
   },
   {
    "duration": 23,
    "start_time": "2022-04-15T12:58:24.418Z"
   },
   {
    "duration": 20,
    "start_time": "2022-04-15T12:59:24.927Z"
   },
   {
    "duration": 215,
    "start_time": "2022-04-15T12:59:24.950Z"
   },
   {
    "duration": 12,
    "start_time": "2022-04-15T12:59:30.346Z"
   },
   {
    "duration": 18,
    "start_time": "2022-04-15T13:00:39.186Z"
   },
   {
    "duration": 28,
    "start_time": "2022-04-15T13:00:55.251Z"
   },
   {
    "duration": 9,
    "start_time": "2022-04-15T13:01:03.083Z"
   },
   {
    "duration": 11,
    "start_time": "2022-04-15T13:01:13.530Z"
   },
   {
    "duration": 13,
    "start_time": "2022-04-15T13:01:19.354Z"
   },
   {
    "duration": 13,
    "start_time": "2022-04-15T13:01:31.834Z"
   },
   {
    "duration": 17,
    "start_time": "2022-04-15T13:02:21.573Z"
   },
   {
    "duration": 19,
    "start_time": "2022-04-15T13:02:29.555Z"
   },
   {
    "duration": 1290,
    "start_time": "2022-04-15T13:02:37.618Z"
   },
   {
    "duration": 383,
    "start_time": "2022-04-15T13:02:38.911Z"
   },
   {
    "duration": 37,
    "start_time": "2022-04-15T13:02:39.296Z"
   },
   {
    "duration": 36,
    "start_time": "2022-04-15T13:02:39.334Z"
   },
   {
    "duration": 99,
    "start_time": "2022-04-15T13:02:39.375Z"
   },
   {
    "duration": 8,
    "start_time": "2022-04-15T13:02:39.476Z"
   },
   {
    "duration": 34,
    "start_time": "2022-04-15T13:02:39.486Z"
   },
   {
    "duration": 53,
    "start_time": "2022-04-15T13:02:39.522Z"
   },
   {
    "duration": 179,
    "start_time": "2022-04-15T13:02:39.577Z"
   },
   {
    "duration": 213,
    "start_time": "2022-04-15T13:02:39.759Z"
   },
   {
    "duration": 492,
    "start_time": "2022-04-15T13:02:39.983Z"
   },
   {
    "duration": 11,
    "start_time": "2022-04-15T13:02:40.477Z"
   },
   {
    "duration": 16,
    "start_time": "2022-04-15T13:02:40.557Z"
   },
   {
    "duration": 27,
    "start_time": "2022-04-15T13:02:40.575Z"
   },
   {
    "duration": 17,
    "start_time": "2022-04-15T13:02:40.603Z"
   },
   {
    "duration": 1992,
    "start_time": "2022-04-15T13:02:40.622Z"
   },
   {
    "duration": 1981,
    "start_time": "2022-04-15T13:02:42.616Z"
   },
   {
    "duration": 2052,
    "start_time": "2022-04-15T13:02:44.598Z"
   },
   {
    "duration": 12,
    "start_time": "2022-04-15T13:02:46.655Z"
   },
   {
    "duration": 299,
    "start_time": "2022-04-15T13:02:46.668Z"
   },
   {
    "duration": 1306,
    "start_time": "2022-04-15T13:03:29.078Z"
   },
   {
    "duration": 29,
    "start_time": "2022-04-15T13:04:42.798Z"
   },
   {
    "duration": 1242,
    "start_time": "2022-04-15T13:06:12.035Z"
   },
   {
    "duration": 5008,
    "start_time": "2022-04-15T13:06:42.070Z"
   },
   {
    "duration": 5064,
    "start_time": "2022-04-15T13:08:51.128Z"
   },
   {
    "duration": 1277,
    "start_time": "2022-04-15T13:12:02.231Z"
   },
   {
    "duration": 3685,
    "start_time": "2022-04-15T13:12:28.985Z"
   },
   {
    "duration": 3545,
    "start_time": "2022-04-15T13:12:51.767Z"
   },
   {
    "duration": 17,
    "start_time": "2022-04-15T13:13:15.230Z"
   },
   {
    "duration": 145,
    "start_time": "2022-04-15T13:13:15.295Z"
   },
   {
    "duration": 22,
    "start_time": "2022-04-15T13:14:54.650Z"
   },
   {
    "duration": 3710,
    "start_time": "2022-04-15T13:15:04.135Z"
   },
   {
    "duration": 1204,
    "start_time": "2022-04-15T13:15:41.426Z"
   },
   {
    "duration": 18,
    "start_time": "2022-04-15T13:16:06.315Z"
   },
   {
    "duration": 1282,
    "start_time": "2022-04-15T13:17:34.018Z"
   },
   {
    "duration": 1974,
    "start_time": "2022-04-15T13:18:22.828Z"
   },
   {
    "duration": 4665,
    "start_time": "2022-04-15T13:18:42.714Z"
   },
   {
    "duration": 4884,
    "start_time": "2022-04-15T13:20:46.067Z"
   },
   {
    "duration": 30,
    "start_time": "2022-04-15T13:22:00.308Z"
   },
   {
    "duration": 28,
    "start_time": "2022-04-15T13:22:07.887Z"
   },
   {
    "duration": 4881,
    "start_time": "2022-04-15T13:22:34.915Z"
   },
   {
    "duration": 5071,
    "start_time": "2022-04-15T13:23:35.414Z"
   },
   {
    "duration": 3935,
    "start_time": "2022-04-15T14:09:51.705Z"
   },
   {
    "duration": 209,
    "start_time": "2022-04-15T14:09:55.642Z"
   },
   {
    "duration": 4254,
    "start_time": "2022-04-15T14:10:16.574Z"
   },
   {
    "duration": 1862,
    "start_time": "2022-04-15T14:13:16.631Z"
   },
   {
    "duration": 1268,
    "start_time": "2022-04-15T14:18:04.229Z"
   },
   {
    "duration": 372,
    "start_time": "2022-04-15T14:18:05.499Z"
   },
   {
    "duration": 43,
    "start_time": "2022-04-15T14:18:05.873Z"
   },
   {
    "duration": 41,
    "start_time": "2022-04-15T14:18:05.918Z"
   },
   {
    "duration": 106,
    "start_time": "2022-04-15T14:18:05.962Z"
   },
   {
    "duration": 9,
    "start_time": "2022-04-15T14:18:06.070Z"
   },
   {
    "duration": 62,
    "start_time": "2022-04-15T14:18:06.081Z"
   },
   {
    "duration": 116,
    "start_time": "2022-04-15T14:18:06.145Z"
   },
   {
    "duration": 197,
    "start_time": "2022-04-15T14:18:06.264Z"
   },
   {
    "duration": 209,
    "start_time": "2022-04-15T14:18:06.464Z"
   },
   {
    "duration": 481,
    "start_time": "2022-04-15T14:18:06.675Z"
   },
   {
    "duration": 92,
    "start_time": "2022-04-15T14:18:07.163Z"
   },
   {
    "duration": 19,
    "start_time": "2022-04-15T14:18:07.257Z"
   },
   {
    "duration": 22,
    "start_time": "2022-04-15T14:18:07.279Z"
   },
   {
    "duration": 18,
    "start_time": "2022-04-15T14:18:07.303Z"
   },
   {
    "duration": 1926,
    "start_time": "2022-04-15T14:18:07.322Z"
   },
   {
    "duration": 2312,
    "start_time": "2022-04-15T14:18:09.250Z"
   },
   {
    "duration": 1894,
    "start_time": "2022-04-15T14:18:11.564Z"
   },
   {
    "duration": 3358,
    "start_time": "2022-04-15T14:18:13.461Z"
   },
   {
    "duration": 3947,
    "start_time": "2022-04-15T14:23:11.011Z"
   },
   {
    "duration": 4888,
    "start_time": "2022-04-15T14:24:42.635Z"
   },
   {
    "duration": 200,
    "start_time": "2022-04-15T14:32:03.790Z"
   },
   {
    "duration": 5,
    "start_time": "2022-04-15T14:33:19.327Z"
   },
   {
    "duration": 21,
    "start_time": "2022-04-15T14:33:30.887Z"
   },
   {
    "duration": 1456,
    "start_time": "2022-04-15T14:37:40.131Z"
   },
   {
    "duration": 437,
    "start_time": "2022-04-15T14:37:41.590Z"
   },
   {
    "duration": 55,
    "start_time": "2022-04-15T14:37:42.029Z"
   },
   {
    "duration": 16,
    "start_time": "2022-04-15T14:37:42.086Z"
   },
   {
    "duration": 135,
    "start_time": "2022-04-15T14:37:42.105Z"
   },
   {
    "duration": 18,
    "start_time": "2022-04-15T14:37:42.242Z"
   },
   {
    "duration": 52,
    "start_time": "2022-04-15T14:37:42.262Z"
   },
   {
    "duration": 157,
    "start_time": "2022-04-15T14:37:42.316Z"
   },
   {
    "duration": 284,
    "start_time": "2022-04-15T14:37:42.476Z"
   },
   {
    "duration": 115,
    "start_time": "2022-04-15T14:37:42.767Z"
   },
   {
    "duration": 669,
    "start_time": "2022-04-15T14:37:42.889Z"
   },
   {
    "duration": 5,
    "start_time": "2022-04-15T14:37:43.565Z"
   },
   {
    "duration": 93,
    "start_time": "2022-04-15T14:37:43.576Z"
   },
   {
    "duration": 27,
    "start_time": "2022-04-15T14:37:43.672Z"
   },
   {
    "duration": 21,
    "start_time": "2022-04-15T14:37:43.701Z"
   },
   {
    "duration": 39,
    "start_time": "2022-04-15T14:37:43.724Z"
   },
   {
    "duration": 313,
    "start_time": "2022-04-15T14:37:43.765Z"
   },
   {
    "duration": 3617,
    "start_time": "2022-04-15T14:37:44.082Z"
   },
   {
    "duration": 0,
    "start_time": "2022-04-15T14:37:47.701Z"
   },
   {
    "duration": 0,
    "start_time": "2022-04-15T14:37:47.703Z"
   },
   {
    "duration": 0,
    "start_time": "2022-04-15T14:37:47.704Z"
   },
   {
    "duration": 3115,
    "start_time": "2022-04-15T14:39:33.534Z"
   },
   {
    "duration": 1550,
    "start_time": "2022-04-15T14:39:51.248Z"
   },
   {
    "duration": 542,
    "start_time": "2022-04-15T14:39:52.800Z"
   },
   {
    "duration": 80,
    "start_time": "2022-04-15T14:39:53.344Z"
   },
   {
    "duration": 40,
    "start_time": "2022-04-15T14:39:53.427Z"
   },
   {
    "duration": 98,
    "start_time": "2022-04-15T14:39:53.469Z"
   },
   {
    "duration": 8,
    "start_time": "2022-04-15T14:39:53.569Z"
   },
   {
    "duration": 37,
    "start_time": "2022-04-15T14:39:53.579Z"
   },
   {
    "duration": 149,
    "start_time": "2022-04-15T14:39:53.618Z"
   },
   {
    "duration": 19,
    "start_time": "2022-04-15T14:39:53.855Z"
   },
   {
    "duration": 92,
    "start_time": "2022-04-15T14:39:53.877Z"
   },
   {
    "duration": 308,
    "start_time": "2022-04-15T14:39:54.056Z"
   },
   {
    "duration": 99,
    "start_time": "2022-04-15T14:39:54.369Z"
   },
   {
    "duration": 8,
    "start_time": "2022-04-15T14:39:54.555Z"
   },
   {
    "duration": 33,
    "start_time": "2022-04-15T14:39:54.565Z"
   },
   {
    "duration": 26,
    "start_time": "2022-04-15T14:39:54.600Z"
   },
   {
    "duration": 28,
    "start_time": "2022-04-15T14:39:54.655Z"
   },
   {
    "duration": 3306,
    "start_time": "2022-04-15T14:39:54.686Z"
   },
   {
    "duration": 0,
    "start_time": "2022-04-15T14:39:57.995Z"
   },
   {
    "duration": 0,
    "start_time": "2022-04-15T14:39:57.996Z"
   },
   {
    "duration": 0,
    "start_time": "2022-04-15T14:39:57.998Z"
   },
   {
    "duration": 23,
    "start_time": "2022-04-15T14:41:06.125Z"
   },
   {
    "duration": 3005,
    "start_time": "2022-04-15T14:41:10.375Z"
   },
   {
    "duration": 4,
    "start_time": "2022-04-15T14:41:37.961Z"
   },
   {
    "duration": 562,
    "start_time": "2022-04-15T14:41:37.968Z"
   },
   {
    "duration": 73,
    "start_time": "2022-04-15T14:41:38.532Z"
   },
   {
    "duration": 22,
    "start_time": "2022-04-15T14:41:38.607Z"
   },
   {
    "duration": 108,
    "start_time": "2022-04-15T14:41:38.654Z"
   },
   {
    "duration": 11,
    "start_time": "2022-04-15T14:41:38.764Z"
   },
   {
    "duration": 41,
    "start_time": "2022-04-15T14:41:38.777Z"
   },
   {
    "duration": 144,
    "start_time": "2022-04-15T14:41:38.823Z"
   },
   {
    "duration": 186,
    "start_time": "2022-04-15T14:41:38.971Z"
   },
   {
    "duration": 197,
    "start_time": "2022-04-15T14:41:39.159Z"
   },
   {
    "duration": 304,
    "start_time": "2022-04-15T14:41:39.358Z"
   },
   {
    "duration": 8,
    "start_time": "2022-04-15T14:41:39.665Z"
   },
   {
    "duration": 10,
    "start_time": "2022-04-15T14:41:39.757Z"
   },
   {
    "duration": 123,
    "start_time": "2022-04-15T14:41:39.770Z"
   },
   {
    "duration": 25,
    "start_time": "2022-04-15T14:41:39.896Z"
   },
   {
    "duration": 30,
    "start_time": "2022-04-15T14:41:39.924Z"
   },
   {
    "duration": 3289,
    "start_time": "2022-04-15T14:41:39.957Z"
   },
   {
    "duration": 2364,
    "start_time": "2022-04-15T14:41:43.248Z"
   },
   {
    "duration": 1977,
    "start_time": "2022-04-15T14:41:45.614Z"
   },
   {
    "duration": 3462,
    "start_time": "2022-04-15T14:41:47.593Z"
   },
   {
    "duration": 22,
    "start_time": "2022-04-15T14:44:39.607Z"
   },
   {
    "duration": 20,
    "start_time": "2022-04-15T14:44:51.832Z"
   }
  ],
  "kernelspec": {
   "display_name": "Python 3 (ipykernel)",
   "language": "python",
   "name": "python3"
  },
  "language_info": {
   "codemirror_mode": {
    "name": "ipython",
    "version": 3
   },
   "file_extension": ".py",
   "mimetype": "text/x-python",
   "name": "python",
   "nbconvert_exporter": "python",
   "pygments_lexer": "ipython3",
   "version": "3.9.7"
  },
  "toc": {
   "base_numbering": 1,
   "nav_menu": {},
   "number_sections": true,
   "sideBar": true,
   "skip_h1_title": true,
   "title_cell": "Table of Contents",
   "title_sidebar": "Contents",
   "toc_cell": false,
   "toc_position": {},
   "toc_section_display": true,
   "toc_window_display": false
  }
 },
 "nbformat": 4,
 "nbformat_minor": 4
}

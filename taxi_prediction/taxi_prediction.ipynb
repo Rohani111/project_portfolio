{
 "cells": [
  {
   "cell_type": "markdown",
   "metadata": {},
   "source": [
    "<a id='section_id'></a>"
   ]
  },
  {
   "cell_type": "markdown",
   "metadata": {},
   "source": [
    "<h1> <div align=\"center\"><a> Прогнозирование заказов такси. </a></div> "
   ]
  },
  {
   "cell_type": "markdown",
   "metadata": {},
   "source": [
    "## Подготовка"
   ]
  },
  {
   "cell_type": "code",
   "execution_count": 1,
   "metadata": {},
   "outputs": [],
   "source": [
    "import pandas as pd\n",
    "import matplotlib.pyplot as plt\n",
    "import seaborn as sns\n",
    "from statsmodels.tsa.seasonal import seasonal_decompose\n",
    "\n",
    "from sklearn.model_selection import train_test_split\n",
    "from sklearn.model_selection import TimeSeriesSplit\n",
    "from sklearn.model_selection import GridSearchCV\n",
    "from sklearn.model_selection import RandomizedSearchCV\n",
    "from sklearn.experimental import enable_halving_search_cv\n",
    "from sklearn.model_selection import HalvingGridSearchCV\n",
    "from sklearn.metrics import mean_squared_error\n",
    "from sklearn.metrics import mean_absolute_error\n",
    "\n",
    "from sklearn.linear_model import LinearRegression\n",
    "from sklearn.tree import DecisionTreeRegressor\n",
    "from sklearn.ensemble import RandomForestRegressor\n",
    "from catboost import CatBoostRegressor\n",
    "from lightgbm import LGBMRegressor\n",
    "from xgboost import XGBRegressor\n",
    "from sklearn.dummy import DummyRegressor"
   ]
  },
  {
   "cell_type": "code",
   "execution_count": 2,
   "metadata": {},
   "outputs": [
    {
     "data": {
      "text/html": [
       "<div>\n",
       "<style scoped>\n",
       "    .dataframe tbody tr th:only-of-type {\n",
       "        vertical-align: middle;\n",
       "    }\n",
       "\n",
       "    .dataframe tbody tr th {\n",
       "        vertical-align: top;\n",
       "    }\n",
       "\n",
       "    .dataframe thead th {\n",
       "        text-align: right;\n",
       "    }\n",
       "</style>\n",
       "<table border=\"1\" class=\"dataframe\">\n",
       "  <thead>\n",
       "    <tr style=\"text-align: right;\">\n",
       "      <th></th>\n",
       "      <th>num_orders</th>\n",
       "    </tr>\n",
       "    <tr>\n",
       "      <th>datetime</th>\n",
       "      <th></th>\n",
       "    </tr>\n",
       "  </thead>\n",
       "  <tbody>\n",
       "    <tr>\n",
       "      <th>2018-03-01 00:00:00</th>\n",
       "      <td>9</td>\n",
       "    </tr>\n",
       "    <tr>\n",
       "      <th>2018-03-01 00:10:00</th>\n",
       "      <td>14</td>\n",
       "    </tr>\n",
       "    <tr>\n",
       "      <th>2018-03-01 00:20:00</th>\n",
       "      <td>28</td>\n",
       "    </tr>\n",
       "    <tr>\n",
       "      <th>2018-03-01 00:30:00</th>\n",
       "      <td>20</td>\n",
       "    </tr>\n",
       "    <tr>\n",
       "      <th>2018-03-01 00:40:00</th>\n",
       "      <td>32</td>\n",
       "    </tr>\n",
       "  </tbody>\n",
       "</table>\n",
       "</div>"
      ],
      "text/plain": [
       "                     num_orders\n",
       "datetime                       \n",
       "2018-03-01 00:00:00           9\n",
       "2018-03-01 00:10:00          14\n",
       "2018-03-01 00:20:00          28\n",
       "2018-03-01 00:30:00          20\n",
       "2018-03-01 00:40:00          32"
      ]
     },
     "metadata": {},
     "output_type": "display_data"
    },
    {
     "name": "stdout",
     "output_type": "stream",
     "text": [
      "<class 'pandas.core.frame.DataFrame'>\n",
      "DatetimeIndex: 26496 entries, 2018-03-01 00:00:00 to 2018-08-31 23:50:00\n",
      "Data columns (total 1 columns):\n",
      " #   Column      Non-Null Count  Dtype\n",
      "---  ------      --------------  -----\n",
      " 0   num_orders  26496 non-null  int64\n",
      "dtypes: int64(1)\n",
      "memory usage: 414.0 KB\n"
     ]
    }
   ],
   "source": [
    "df = pd.read_csv(\"/datasets/taxi.csv\",  index_col=[0], parse_dates=[0])\n",
    "display(df.head())\n",
    "df.info()"
   ]
  },
  {
   "cell_type": "code",
   "execution_count": 3,
   "metadata": {},
   "outputs": [],
   "source": [
    "# данные представлены с 10-минутным интервалом, проведем ресепмлинг по одному часу\n",
    "df = df.resample('1H').sum()"
   ]
  },
  {
   "cell_type": "markdown",
   "metadata": {},
   "source": [
    "## Анализ"
   ]
  },
  {
   "cell_type": "code",
   "execution_count": 4,
   "metadata": {},
   "outputs": [
    {
     "data": {
      "text/html": [
       "<div>\n",
       "<style scoped>\n",
       "    .dataframe tbody tr th:only-of-type {\n",
       "        vertical-align: middle;\n",
       "    }\n",
       "\n",
       "    .dataframe tbody tr th {\n",
       "        vertical-align: top;\n",
       "    }\n",
       "\n",
       "    .dataframe thead th {\n",
       "        text-align: right;\n",
       "    }\n",
       "</style>\n",
       "<table border=\"1\" class=\"dataframe\">\n",
       "  <thead>\n",
       "    <tr style=\"text-align: right;\">\n",
       "      <th></th>\n",
       "      <th>num_orders</th>\n",
       "    </tr>\n",
       "    <tr>\n",
       "      <th>datetime</th>\n",
       "      <th></th>\n",
       "    </tr>\n",
       "  </thead>\n",
       "  <tbody>\n",
       "    <tr>\n",
       "      <th>2018-03-01 00:00:00</th>\n",
       "      <td>124</td>\n",
       "    </tr>\n",
       "    <tr>\n",
       "      <th>2018-03-01 01:00:00</th>\n",
       "      <td>85</td>\n",
       "    </tr>\n",
       "    <tr>\n",
       "      <th>2018-03-01 02:00:00</th>\n",
       "      <td>71</td>\n",
       "    </tr>\n",
       "    <tr>\n",
       "      <th>2018-03-01 03:00:00</th>\n",
       "      <td>66</td>\n",
       "    </tr>\n",
       "    <tr>\n",
       "      <th>2018-03-01 04:00:00</th>\n",
       "      <td>43</td>\n",
       "    </tr>\n",
       "  </tbody>\n",
       "</table>\n",
       "</div>"
      ],
      "text/plain": [
       "                     num_orders\n",
       "datetime                       \n",
       "2018-03-01 00:00:00         124\n",
       "2018-03-01 01:00:00          85\n",
       "2018-03-01 02:00:00          71\n",
       "2018-03-01 03:00:00          66\n",
       "2018-03-01 04:00:00          43"
      ]
     },
     "metadata": {},
     "output_type": "display_data"
    },
    {
     "name": "stdout",
     "output_type": "stream",
     "text": [
      "<class 'pandas.core.frame.DataFrame'>\n",
      "DatetimeIndex: 4416 entries, 2018-03-01 00:00:00 to 2018-08-31 23:00:00\n",
      "Freq: H\n",
      "Data columns (total 1 columns):\n",
      " #   Column      Non-Null Count  Dtype\n",
      "---  ------      --------------  -----\n",
      " 0   num_orders  4416 non-null   int64\n",
      "dtypes: int64(1)\n",
      "memory usage: 69.0 KB\n"
     ]
    }
   ],
   "source": [
    "display(df.head())\n",
    "df.info()"
   ]
  },
  {
   "cell_type": "code",
   "execution_count": 5,
   "metadata": {},
   "outputs": [
    {
     "name": "stdout",
     "output_type": "stream",
     "text": [
      "True\n"
     ]
    },
    {
     "data": {
      "text/html": [
       "<div>\n",
       "<style scoped>\n",
       "    .dataframe tbody tr th:only-of-type {\n",
       "        vertical-align: middle;\n",
       "    }\n",
       "\n",
       "    .dataframe tbody tr th {\n",
       "        vertical-align: top;\n",
       "    }\n",
       "\n",
       "    .dataframe thead th {\n",
       "        text-align: right;\n",
       "    }\n",
       "</style>\n",
       "<table border=\"1\" class=\"dataframe\">\n",
       "  <thead>\n",
       "    <tr style=\"text-align: right;\">\n",
       "      <th></th>\n",
       "      <th>count</th>\n",
       "      <th>mean</th>\n",
       "      <th>std</th>\n",
       "      <th>min</th>\n",
       "      <th>25%</th>\n",
       "      <th>50%</th>\n",
       "      <th>75%</th>\n",
       "      <th>max</th>\n",
       "    </tr>\n",
       "  </thead>\n",
       "  <tbody>\n",
       "    <tr>\n",
       "      <th>num_orders</th>\n",
       "      <td>4416.0</td>\n",
       "      <td>84.422781</td>\n",
       "      <td>45.023853</td>\n",
       "      <td>0.0</td>\n",
       "      <td>54.0</td>\n",
       "      <td>78.0</td>\n",
       "      <td>107.0</td>\n",
       "      <td>462.0</td>\n",
       "    </tr>\n",
       "  </tbody>\n",
       "</table>\n",
       "</div>"
      ],
      "text/plain": [
       "             count       mean        std  min   25%   50%    75%    max\n",
       "num_orders  4416.0  84.422781  45.023853  0.0  54.0  78.0  107.0  462.0"
      ]
     },
     "execution_count": 5,
     "metadata": {},
     "output_type": "execute_result"
    }
   ],
   "source": [
    "# проверим, в хронологическом ли порядке расположены даты и время\n",
    "print(df.index.is_monotonic)\n",
    "df.describe().T"
   ]
  },
  {
   "cell_type": "code",
   "execution_count": 6,
   "metadata": {},
   "outputs": [
    {
     "data": {
      "image/png": "[encoded data removed]",
      "text/plain": [
       "<Figure size 432x576 with 3 Axes>"
      ]
     },
     "metadata": {
      "needs_background": "light"
     },
     "output_type": "display_data"
    }
   ],
   "source": [
    "# проанализируем тренды и сезонность\n",
    "decomposed = seasonal_decompose(df)\n",
    "plt.figure(figsize=(6, 8))\n",
    "plt.subplot(311)\n",
    "\n",
    "decomposed.trend.plot(ax=plt.gca())\n",
    "plt.title('Trend')\n",
    "plt.subplot(312)\n",
    "decomposed.seasonal.plot(ax=plt.gca())\n",
    "plt.title('Seasonality')\n",
    "plt.subplot(313)\n",
    "decomposed.resid.plot(ax=plt.gca())\n",
    "plt.title('Residuals')\n",
    "plt.tight_layout()"
   ]
  },
  {
   "cell_type": "code",
   "execution_count": 7,
   "metadata": {},
   "outputs": [
    {
     "data": {
      "text/plain": [
       "<AxesSubplot:xlabel='datetime'>"
      ]
     },
     "execution_count": 7,
     "metadata": {},
     "output_type": "execute_result"
    },
    {
     "data": {
      "image/png": "[encoded data removed]",
      "text/plain": [
       "<Figure size 432x288 with 1 Axes>"
      ]
     },
     "metadata": {
      "needs_background": "light"
     },
     "output_type": "display_data"
    }
   ],
   "source": [
    "# исследуем сезонность на более коротком интервале \n",
    "decomposed.seasonal['2018-03-01':'2018-03-15'].plot()"
   ]
  },
  {
   "cell_type": "markdown",
   "metadata": {},
   "source": [
    "**Тренд связан со временем года: с конца весны и до конца лета число поездок в аэропорты неуклонно возрастает. Если эти данные анализировать в масштабе нескольких лет, то увеличение поездок в аэропорты летом это уже сезонные изменения.** Сезонность не определена - это просто периодиеские колебания значений. Остатки необъяснимы, это шум."
   ]
  },
  {
   "cell_type": "code",
   "execution_count": 8,
   "metadata": {},
   "outputs": [
    {
     "data": {
      "text/plain": [
       "<AxesSubplot:xlabel='datetime'>"
      ]
     },
     "execution_count": 8,
     "metadata": {},
     "output_type": "execute_result"
    },
    {
     "data": {
      "image/png": "[encoded data removed]",
      "text/plain": [
       "<Figure size 864x360 with 1 Axes>"
      ]
     },
     "metadata": {
      "needs_background": "light"
     },
     "output_type": "display_data"
    }
   ],
   "source": [
    "# построим скользящее среднее и стандартное отклонение для нашей выборки\n",
    "df_r = df.copy(deep=True)\n",
    "df_r['mean'] = df_r['num_orders'].rolling(15).mean()\n",
    "df_r['std'] = df_r['num_orders'].rolling(15).std()\n",
    "df_r.plot(figsize=(12, 5))"
   ]
  },
  {
   "cell_type": "markdown",
   "metadata": {},
   "source": [
    "   **Наш временной ряд нестационарный, поскольку со временем у него меняется среднее значение и стандартное отклонение. \n",
    "                  Вычислим разности временного ряда, чтобы сделать его стационарным.**"
   ]
  },
  {
   "cell_type": "code",
   "execution_count": 9,
   "metadata": {},
   "outputs": [
    {
     "data": {
      "text/plain": [
       "<AxesSubplot:xlabel='datetime'>"
      ]
     },
     "execution_count": 9,
     "metadata": {},
     "output_type": "execute_result"
    },
    {
     "data": {
      "image/png": "[encoded data removed]",
      "text/plain": [
       "<Figure size 864x360 with 1 Axes>"
      ]
     },
     "metadata": {
      "needs_background": "light"
     },
     "output_type": "display_data"
    }
   ],
   "source": [
    "sdf = df.shift()\n",
    "df_shift = df - sdf\n",
    "df_shift['mean'] = df_shift['num_orders'].rolling(15).mean()\n",
    "df_shift['std'] = df_shift['num_orders'].rolling(15).std()\n",
    "df_shift.plot(figsize=(12, 5))"
   ]
  },
  {
   "cell_type": "markdown",
   "metadata": {},
   "source": [
    "### Основные выводы анализа исходных данных:\n",
    " - после ресемплинга выборка имеет 4416 строк и один столбец с целевым признаком;\n",
    " - временной рад представлен данными за период с марта по август 2018 года;\n",
    " - данные расположены  в хронологическом порядке;\n",
    " - обнаружены возможные выбросы: 0 заказов и 462 заказа за час, но поскольку у нас нет уверенности, что это ошибки сбора данных, оставим их без изменений;\n",
    " - выявлен тренд, связанный со временем года: с конца весны и до конца лета число поездок в аэропорты неуклонно возрастает;\n",
    " - путем вычисления разности временной ряд стал более стационарным и его можно прогнозировать."
   ]
  },
  {
   "cell_type": "markdown",
   "metadata": {},
   "source": [
    "## Обучение\n",
    "### Создание признаков\n",
    "Создадим признаки для горизонта прогнозирования в один шаг. Поскольку наша выборка представлена периодом с марта по август 2018 года: имеет смысл выделить признаки month, day, hour и dayoweek. Также выделим предыдущие значения временного ряда и скользящее среднее."
   ]
  },
  {
   "cell_type": "code",
   "execution_count": 10,
   "metadata": {
    "scrolled": true
   },
   "outputs": [],
   "source": [
    "def  make_features(df, max_lag, rolling_mean_size):\n",
    "    df_f = df.copy(deep=True)\n",
    "    df_f['month'] = df_f.index.month\n",
    "    df_f['day'] = df_f.index.day\n",
    "    df_f['hour'] = df_f.index.hour\n",
    "    df_f['dayofweek'] = df_f.index.dayofweek\n",
    "    \n",
    "    for lag in range(1, max_lag + 1):\n",
    "        df_f['lag_{}'.format(lag)] = df_f['num_orders'].shift(lag) \n",
    "        \n",
    "    df_f['rolling_mean'] = df_f['num_orders'].shift(1).rolling(rolling_mean_size).mean()    \n",
    "    return df_f"
   ]
  },
  {
   "cell_type": "code",
   "execution_count": 11,
   "metadata": {},
   "outputs": [
    {
     "data": {
      "text/html": [
       "<div>\n",
       "<style scoped>\n",
       "    .dataframe tbody tr th:only-of-type {\n",
       "        vertical-align: middle;\n",
       "    }\n",
       "\n",
       "    .dataframe tbody tr th {\n",
       "        vertical-align: top;\n",
       "    }\n",
       "\n",
       "    .dataframe thead th {\n",
       "        text-align: right;\n",
       "    }\n",
       "</style>\n",
       "<table border=\"1\" class=\"dataframe\">\n",
       "  <thead>\n",
       "    <tr style=\"text-align: right;\">\n",
       "      <th></th>\n",
       "      <th>num_orders</th>\n",
       "      <th>month</th>\n",
       "      <th>day</th>\n",
       "      <th>hour</th>\n",
       "      <th>dayofweek</th>\n",
       "      <th>lag_1</th>\n",
       "      <th>lag_2</th>\n",
       "      <th>lag_3</th>\n",
       "      <th>lag_4</th>\n",
       "      <th>rolling_mean</th>\n",
       "    </tr>\n",
       "    <tr>\n",
       "      <th>datetime</th>\n",
       "      <th></th>\n",
       "      <th></th>\n",
       "      <th></th>\n",
       "      <th></th>\n",
       "      <th></th>\n",
       "      <th></th>\n",
       "      <th></th>\n",
       "      <th></th>\n",
       "      <th></th>\n",
       "      <th></th>\n",
       "    </tr>\n",
       "  </thead>\n",
       "  <tbody>\n",
       "    <tr>\n",
       "      <th>2018-03-01 00:00:00</th>\n",
       "      <td>124</td>\n",
       "      <td>3</td>\n",
       "      <td>1</td>\n",
       "      <td>0</td>\n",
       "      <td>3</td>\n",
       "      <td>NaN</td>\n",
       "      <td>NaN</td>\n",
       "      <td>NaN</td>\n",
       "      <td>NaN</td>\n",
       "      <td>NaN</td>\n",
       "    </tr>\n",
       "    <tr>\n",
       "      <th>2018-03-01 01:00:00</th>\n",
       "      <td>85</td>\n",
       "      <td>3</td>\n",
       "      <td>1</td>\n",
       "      <td>1</td>\n",
       "      <td>3</td>\n",
       "      <td>124.0</td>\n",
       "      <td>NaN</td>\n",
       "      <td>NaN</td>\n",
       "      <td>NaN</td>\n",
       "      <td>NaN</td>\n",
       "    </tr>\n",
       "    <tr>\n",
       "      <th>2018-03-01 02:00:00</th>\n",
       "      <td>71</td>\n",
       "      <td>3</td>\n",
       "      <td>1</td>\n",
       "      <td>2</td>\n",
       "      <td>3</td>\n",
       "      <td>85.0</td>\n",
       "      <td>124.0</td>\n",
       "      <td>NaN</td>\n",
       "      <td>NaN</td>\n",
       "      <td>NaN</td>\n",
       "    </tr>\n",
       "    <tr>\n",
       "      <th>2018-03-01 03:00:00</th>\n",
       "      <td>66</td>\n",
       "      <td>3</td>\n",
       "      <td>1</td>\n",
       "      <td>3</td>\n",
       "      <td>3</td>\n",
       "      <td>71.0</td>\n",
       "      <td>85.0</td>\n",
       "      <td>124.0</td>\n",
       "      <td>NaN</td>\n",
       "      <td>NaN</td>\n",
       "    </tr>\n",
       "    <tr>\n",
       "      <th>2018-03-01 04:00:00</th>\n",
       "      <td>43</td>\n",
       "      <td>3</td>\n",
       "      <td>1</td>\n",
       "      <td>4</td>\n",
       "      <td>3</td>\n",
       "      <td>66.0</td>\n",
       "      <td>71.0</td>\n",
       "      <td>85.0</td>\n",
       "      <td>124.0</td>\n",
       "      <td>86.5</td>\n",
       "    </tr>\n",
       "  </tbody>\n",
       "</table>\n",
       "</div>"
      ],
      "text/plain": [
       "                     num_orders  month  day  hour  dayofweek  lag_1  lag_2  \\\n",
       "datetime                                                                     \n",
       "2018-03-01 00:00:00         124      3    1     0          3    NaN    NaN   \n",
       "2018-03-01 01:00:00          85      3    1     1          3  124.0    NaN   \n",
       "2018-03-01 02:00:00          71      3    1     2          3   85.0  124.0   \n",
       "2018-03-01 03:00:00          66      3    1     3          3   71.0   85.0   \n",
       "2018-03-01 04:00:00          43      3    1     4          3   66.0   71.0   \n",
       "\n",
       "                     lag_3  lag_4  rolling_mean  \n",
       "datetime                                         \n",
       "2018-03-01 00:00:00    NaN    NaN           NaN  \n",
       "2018-03-01 01:00:00    NaN    NaN           NaN  \n",
       "2018-03-01 02:00:00    NaN    NaN           NaN  \n",
       "2018-03-01 03:00:00  124.0    NaN           NaN  \n",
       "2018-03-01 04:00:00   85.0  124.0          86.5  "
      ]
     },
     "execution_count": 11,
     "metadata": {},
     "output_type": "execute_result"
    }
   ],
   "source": [
    "# установим количество отстающих значений на уровне 4 \n",
    "df_f = make_features(df, 4, 4)\n",
    "df_f.head()"
   ]
  },
  {
   "cell_type": "markdown",
   "metadata": {},
   "source": [
    "### Разделение выборок\n",
    "\n",
    "Разобьем данные на три части: обучающую, валидационную и тестовую. Размеры тестового и валидационного наборов обычно равны, поэтому установим их согласно заданию на уровне 10%. **Во избежение утечки целевого признака отключим перемешивание данных с помощью shuffle=False**. Далее объявим переменные с признаками и целевым признаком для каждой из полученных выборок."
   ]
  },
  {
   "cell_type": "code",
   "execution_count": 12,
   "metadata": {},
   "outputs": [
    {
     "name": "stdout",
     "output_type": "stream",
     "text": [
      "2018-03-01 04:00:00 2018-07-26 03:00:00 \n",
      " 2018-07-26 04:00:00 2018-08-13 13:00:00 \n",
      " 2018-08-13 14:00:00 2018-08-31 23:00:00\n",
      "(3528, 10) (442, 10) (442, 10)\n"
     ]
    }
   ],
   "source": [
    "train, middle = train_test_split(df_f, shuffle=False, test_size=0.2, random_state=12345)\n",
    "valid, test = train_test_split(middle, shuffle=False, test_size=0.5, random_state=12345)\n",
    "\n",
    "train = train.dropna() # удалим пропуски в обучающей выборке для последующего обучения моделей\n",
    "\n",
    "print(train.index.min(), train.index.max(),\"\\n\",\n",
    "      valid.index.min(), valid.index.max(),\"\\n\",\n",
    "      test.index.min(), test.index.max())\n",
    "print(train.shape, valid.shape, test.shape)"
   ]
  },
  {
   "cell_type": "code",
   "execution_count": 13,
   "metadata": {},
   "outputs": [],
   "source": [
    "x_train = train.drop(['num_orders'], axis = 1)\n",
    "y_train = train['num_orders']\n",
    "x_valid = valid.drop(['num_orders'], axis = 1)\n",
    "y_valid = valid['num_orders']\n",
    "x_test = test.drop(['num_orders'], axis = 1)\n",
    "y_test = test['num_orders']"
   ]
  },
  {
   "cell_type": "markdown",
   "metadata": {},
   "source": [
    "### Линейная регрессия"
   ]
  },
  {
   "cell_type": "code",
   "execution_count": 14,
   "metadata": {},
   "outputs": [
    {
     "name": "stdout",
     "output_type": "stream",
     "text": [
      "RMSE валидационной выборки: 41\n",
      "CPU times: user 0 ns, sys: 7.39 ms, total: 7.39 ms\n",
      "Wall time: 4.7 ms\n"
     ]
    }
   ],
   "source": [
    "%%time\n",
    "lr = LinearRegression()\n",
    "lr.fit(x_train, y_train) \n",
    "predicted_valid = lr.predict(x_valid)\n",
    "rmse = mean_squared_error(y_valid, predicted_valid, squared=False)\n",
    "print(\"RMSE валидационной выборки:\",  \"{:,.0f}\".format(rmse))"
   ]
  },
  {
   "cell_type": "markdown",
   "metadata": {},
   "source": [
    "### Решающее дерево\n",
    "**Подберем гиперпараметры с помощью GridSearchCV, используя кросс-валидацию для временных рядов TimeSeriesSplit.**"
   ]
  },
  {
   "cell_type": "code",
   "execution_count": 15,
   "metadata": {},
   "outputs": [
    {
     "name": "stdout",
     "output_type": "stream",
     "text": [
      "CPU times: user 1.04 s, sys: 55.1 ms, total: 1.09 s\n",
      "Wall time: 1.11 s\n"
     ]
    },
    {
     "data": {
      "text/plain": [
       "{'max_depth': 6}"
      ]
     },
     "execution_count": 15,
     "metadata": {},
     "output_type": "execute_result"
    }
   ],
   "source": [
    "%%time\n",
    "parametrs = {'max_depth': range (1, 21)}\n",
    "dtr = DecisionTreeRegressor(random_state=12345)\n",
    "tscv = TimeSeriesSplit(n_splits = 5)\n",
    "grid = GridSearchCV(dtr, parametrs, scoring = 'neg_root_mean_squared_error', cv = tscv)\n",
    "grid.fit(x_train, y_train) \n",
    "grid.best_params_"
   ]
  },
  {
   "cell_type": "code",
   "execution_count": 16,
   "metadata": {},
   "outputs": [
    {
     "name": "stdout",
     "output_type": "stream",
     "text": [
      "RMSE валидационной выборки: 37\n",
      "CPU times: user 12.7 ms, sys: 81 µs, total: 12.7 ms\n",
      "Wall time: 11.4 ms\n"
     ]
    }
   ],
   "source": [
    "%%time\n",
    "dtr = DecisionTreeRegressor(random_state=12345, max_depth=6)\n",
    "dtr.fit(x_train, y_train)\n",
    "predicted_valid = dtr.predict(x_valid)\n",
    "rmse = mean_squared_error(y_valid, predicted_valid, squared=False)\n",
    "print(\"RMSE валидационной выборки:\",  \"{:,.0f}\".format(rmse))"
   ]
  },
  {
   "cell_type": "markdown",
   "metadata": {},
   "source": [
    "### Случайный лес"
   ]
  },
  {
   "cell_type": "code",
   "execution_count": 17,
   "metadata": {},
   "outputs": [
    {
     "name": "stdout",
     "output_type": "stream",
     "text": [
      "CPU times: user 55.5 s, sys: 175 ms, total: 55.7 s\n",
      "Wall time: 55.7 s\n"
     ]
    },
    {
     "data": {
      "text/plain": [
       "{'max_depth': 13, 'n_estimators': 19}"
      ]
     },
     "execution_count": 17,
     "metadata": {},
     "output_type": "execute_result"
    }
   ],
   "source": [
    "%%time\n",
    "parametrs = {'n_estimators': range (10, 21, 1),\n",
    "            'max_depth': range (11, 21)}\n",
    "rf = RandomForestRegressor(random_state=12345)\n",
    "tscv = TimeSeriesSplit(n_splits = 5)\n",
    "grid = GridSearchCV(rf, parametrs, scoring = 'neg_root_mean_squared_error', cv = tscv)\n",
    "grid.fit(x_train, y_train) \n",
    "grid.best_params_"
   ]
  },
  {
   "cell_type": "code",
   "execution_count": 18,
   "metadata": {},
   "outputs": [
    {
     "name": "stdout",
     "output_type": "stream",
     "text": [
      "RMSE валидационной выборки: 33\n",
      "CPU times: user 215 ms, sys: 31 µs, total: 215 ms\n",
      "Wall time: 222 ms\n"
     ]
    }
   ],
   "source": [
    "%%time\n",
    "rf = RandomForestRegressor(random_state=12345, n_estimators=19, max_depth=13)\n",
    "rf.fit(x_train, y_train)\n",
    "predicted_valid = rf.predict(x_valid)\n",
    "rmse = mean_squared_error(y_valid, predicted_valid, squared=False)\n",
    "print(\"RMSE валидационной выборки:\",  \"{:,.0f}\".format(rmse))"
   ]
  },
  {
   "cell_type": "markdown",
   "metadata": {},
   "source": [
    "### Градиентный бустинг CatBoost"
   ]
  },
  {
   "cell_type": "code",
   "execution_count": 19,
   "metadata": {},
   "outputs": [
    {
     "name": "stdout",
     "output_type": "stream",
     "text": [
      "0:\tlearn: 29.8519879\ttotal: 47.1ms\tremaining: 47.1s\n",
      "50:\tlearn: 18.1134853\ttotal: 87.2ms\tremaining: 1.62s\n",
      "100:\tlearn: 16.0594061\ttotal: 126ms\tremaining: 1.12s\n",
      "150:\tlearn: 14.5632539\ttotal: 166ms\tremaining: 932ms\n",
      "200:\tlearn: 13.5231457\ttotal: 204ms\tremaining: 811ms\n",
      "250:\tlearn: 12.6214879\ttotal: 243ms\tremaining: 725ms\n",
      "300:\tlearn: 11.7557991\ttotal: 283ms\tremaining: 656ms\n",
      "350:\tlearn: 11.0884776\ttotal: 324ms\tremaining: 599ms\n",
      "400:\tlearn: 10.4527154\ttotal: 364ms\tremaining: 544ms\n",
      "450:\tlearn: 9.8762421\ttotal: 404ms\tremaining: 492ms\n",
      "500:\tlearn: 9.3057080\ttotal: 442ms\tremaining: 441ms\n",
      "550:\tlearn: 8.8394293\ttotal: 481ms\tremaining: 392ms\n",
      "600:\tlearn: 8.4658162\ttotal: 521ms\tremaining: 346ms\n",
      "650:\tlearn: 8.1261732\ttotal: 561ms\tremaining: 301ms\n",
      "700:\tlearn: 7.8336017\ttotal: 606ms\tremaining: 258ms\n",
      "750:\tlearn: 7.4981905\ttotal: 645ms\tremaining: 214ms\n",
      "800:\tlearn: 7.1437180\ttotal: 684ms\tremaining: 170ms\n",
      "850:\tlearn: 6.8305059\ttotal: 722ms\tremaining: 126ms\n",
      "900:\tlearn: 6.5374991\ttotal: 760ms\tremaining: 83.5ms\n",
      "950:\tlearn: 6.3177805\ttotal: 799ms\tremaining: 41.2ms\n",
      "999:\tlearn: 6.0745444\ttotal: 839ms\tremaining: 0us\n",
      "RMSE валидационной выборки: 35\n",
      "CPU times: user 917 ms, sys: 67.9 ms, total: 985 ms\n",
      "Wall time: 1.81 s\n"
     ]
    }
   ],
   "source": [
    "%%time\n",
    "cb = CatBoostRegressor(loss_function=\"RMSE\", \n",
    "                          iterations=1000, \n",
    "                          learning_rate = 0.5, \n",
    "                          depth = 4, \n",
    "                          verbose=50)\n",
    "\n",
    "cb.fit(x_train, y_train) \n",
    "predicted_valid = cb.predict(x_valid)\n",
    "rmse = mean_squared_error(y_valid, predicted_valid, squared=False)\n",
    "print(\"RMSE валидационной выборки:\",  \"{:,.0f}\".format(rmse))"
   ]
  },
  {
   "cell_type": "markdown",
   "metadata": {},
   "source": [
    "### Градиентный бустинг LightGBM"
   ]
  },
  {
   "cell_type": "code",
   "execution_count": 29,
   "metadata": {},
   "outputs": [
    {
     "name": "stdout",
     "output_type": "stream",
     "text": [
      "[LightGBM] [Debug] Dataset::GetMultiBinFromAllFeatures: sparse rate 0.020629\n",
      "[LightGBM] [Debug] init for col-wise cost 0.009332 seconds, init for row-wise cost 0.096564 seconds\n",
      "[LightGBM] [Warning] Auto-choosing col-wise multi-threading, the overhead of testing was 0.190838 seconds.\n",
      "You can set `force_col_wise=true` to remove the overhead.\n",
      "[LightGBM] [Info] Total Bins 1028\n",
      "[LightGBM] [Info] Number of data points in the train set: 3528, number of used features: 9\n",
      "[LightGBM] [Info] Start training from score 74.293651\n",
      "[LightGBM] [Debug] Trained a tree with leaves = 31 and depth = 9\n",
      "[LightGBM] [Debug] Trained a tree with leaves = 31 and depth = 10\n",
      "[LightGBM] [Debug] Trained a tree with leaves = 31 and depth = 10\n",
      "[LightGBM] [Debug] Trained a tree with leaves = 31 and depth = 10\n",
      "[LightGBM] [Debug] Trained a tree with leaves = 31 and depth = 10\n",
      "[LightGBM] [Debug] Trained a tree with leaves = 31 and depth = 9\n",
      "[LightGBM] [Debug] Trained a tree with leaves = 31 and depth = 9\n",
      "[LightGBM] [Debug] Trained a tree with leaves = 31 and depth = 13\n",
      "[LightGBM] [Debug] Trained a tree with leaves = 31 and depth = 10\n",
      "[LightGBM] [Debug] Trained a tree with leaves = 31 and depth = 10\n",
      "[LightGBM] [Debug] Trained a tree with leaves = 31 and depth = 9\n",
      "[LightGBM] [Debug] Trained a tree with leaves = 31 and depth = 9\n",
      "[LightGBM] [Debug] Trained a tree with leaves = 31 and depth = 10\n",
      "[LightGBM] [Debug] Trained a tree with leaves = 31 and depth = 9\n",
      "[LightGBM] [Debug] Trained a tree with leaves = 31 and depth = 10\n",
      "[LightGBM] [Debug] Trained a tree with leaves = 31 and depth = 10\n",
      "[LightGBM] [Debug] Trained a tree with leaves = 31 and depth = 12\n",
      "[LightGBM] [Debug] Trained a tree with leaves = 31 and depth = 9\n",
      "[LightGBM] [Debug] Trained a tree with leaves = 31 and depth = 9\n",
      "[LightGBM] [Debug] Trained a tree with leaves = 31 and depth = 11\n",
      "[LightGBM] [Debug] Trained a tree with leaves = 31 and depth = 11\n",
      "[LightGBM] [Debug] Trained a tree with leaves = 31 and depth = 8\n",
      "[LightGBM] [Debug] Trained a tree with leaves = 31 and depth = 10\n",
      "[LightGBM] [Debug] Trained a tree with leaves = 31 and depth = 12\n",
      "[LightGBM] [Debug] Trained a tree with leaves = 31 and depth = 11\n",
      "[LightGBM] [Debug] Trained a tree with leaves = 31 and depth = 8\n",
      "[LightGBM] [Debug] Trained a tree with leaves = 31 and depth = 9\n",
      "[LightGBM] [Debug] Trained a tree with leaves = 31 and depth = 10\n",
      "[LightGBM] [Debug] Trained a tree with leaves = 31 and depth = 9\n",
      "[LightGBM] [Debug] Trained a tree with leaves = 31 and depth = 12\n",
      "[LightGBM] [Debug] Trained a tree with leaves = 31 and depth = 9\n",
      "[LightGBM] [Debug] Trained a tree with leaves = 31 and depth = 10\n",
      "[LightGBM] [Debug] Trained a tree with leaves = 31 and depth = 12\n",
      "[LightGBM] [Debug] Trained a tree with leaves = 31 and depth = 15\n",
      "[LightGBM] [Debug] Trained a tree with leaves = 31 and depth = 10\n",
      "[LightGBM] [Debug] Trained a tree with leaves = 31 and depth = 9\n",
      "[LightGBM] [Debug] Trained a tree with leaves = 31 and depth = 10\n",
      "[LightGBM] [Debug] Trained a tree with leaves = 31 and depth = 15\n",
      "[LightGBM] [Debug] Trained a tree with leaves = 31 and depth = 9\n",
      "[LightGBM] [Debug] Trained a tree with leaves = 31 and depth = 10\n",
      "[LightGBM] [Debug] Trained a tree with leaves = 31 and depth = 10\n",
      "[LightGBM] [Debug] Trained a tree with leaves = 31 and depth = 11\n",
      "[LightGBM] [Debug] Trained a tree with leaves = 31 and depth = 11\n",
      "[LightGBM] [Debug] Trained a tree with leaves = 31 and depth = 8\n",
      "[LightGBM] [Debug] Trained a tree with leaves = 31 and depth = 9\n",
      "[LightGBM] [Debug] Trained a tree with leaves = 31 and depth = 10\n",
      "[LightGBM] [Debug] Trained a tree with leaves = 31 and depth = 8\n",
      "[LightGBM] [Debug] Trained a tree with leaves = 31 and depth = 8\n",
      "[LightGBM] [Debug] Trained a tree with leaves = 31 and depth = 12\n",
      "[LightGBM] [Debug] Trained a tree with leaves = 31 and depth = 8\n",
      "[LightGBM] [Debug] Trained a tree with leaves = 31 and depth = 12\n",
      "[LightGBM] [Debug] Trained a tree with leaves = 31 and depth = 9\n",
      "[LightGBM] [Debug] Trained a tree with leaves = 31 and depth = 10\n",
      "[LightGBM] [Debug] Trained a tree with leaves = 31 and depth = 14\n",
      "[LightGBM] [Debug] Trained a tree with leaves = 31 and depth = 11\n",
      "[LightGBM] [Debug] Trained a tree with leaves = 31 and depth = 13\n",
      "[LightGBM] [Debug] Trained a tree with leaves = 31 and depth = 14\n",
      "[LightGBM] [Debug] Trained a tree with leaves = 31 and depth = 8\n",
      "[LightGBM] [Debug] Trained a tree with leaves = 31 and depth = 12\n",
      "[LightGBM] [Debug] Trained a tree with leaves = 31 and depth = 14\n",
      "[LightGBM] [Debug] Trained a tree with leaves = 31 and depth = 12\n",
      "[LightGBM] [Debug] Trained a tree with leaves = 31 and depth = 12\n",
      "[LightGBM] [Debug] Trained a tree with leaves = 31 and depth = 9\n",
      "[LightGBM] [Debug] Trained a tree with leaves = 31 and depth = 11\n",
      "[LightGBM] [Debug] Trained a tree with leaves = 31 and depth = 13\n",
      "[LightGBM] [Debug] Trained a tree with leaves = 31 and depth = 12\n",
      "[LightGBM] [Debug] Trained a tree with leaves = 31 and depth = 8\n",
      "[LightGBM] [Debug] Trained a tree with leaves = 31 and depth = 10\n",
      "[LightGBM] [Debug] Trained a tree with leaves = 31 and depth = 9\n",
      "[LightGBM] [Debug] Trained a tree with leaves = 31 and depth = 11\n",
      "[LightGBM] [Debug] Trained a tree with leaves = 31 and depth = 13\n",
      "[LightGBM] [Debug] Trained a tree with leaves = 31 and depth = 10\n",
      "[LightGBM] [Debug] Trained a tree with leaves = 31 and depth = 11\n",
      "[LightGBM] [Debug] Trained a tree with leaves = 31 and depth = 14\n",
      "[LightGBM] [Debug] Trained a tree with leaves = 31 and depth = 10\n",
      "[LightGBM] [Debug] Trained a tree with leaves = 31 and depth = 13\n",
      "[LightGBM] [Debug] Trained a tree with leaves = 31 and depth = 10\n",
      "[LightGBM] [Debug] Trained a tree with leaves = 31 and depth = 12\n",
      "[LightGBM] [Debug] Trained a tree with leaves = 31 and depth = 8\n",
      "[LightGBM] [Debug] Trained a tree with leaves = 31 and depth = 14\n",
      "[LightGBM] [Debug] Trained a tree with leaves = 31 and depth = 11\n",
      "[LightGBM] [Debug] Trained a tree with leaves = 31 and depth = 11\n",
      "[LightGBM] [Debug] Trained a tree with leaves = 31 and depth = 10\n",
      "[LightGBM] [Debug] Trained a tree with leaves = 31 and depth = 12\n",
      "[LightGBM] [Debug] Trained a tree with leaves = 31 and depth = 16\n",
      "[LightGBM] [Debug] Trained a tree with leaves = 31 and depth = 12\n",
      "[LightGBM] [Debug] Trained a tree with leaves = 31 and depth = 9\n",
      "[LightGBM] [Debug] Trained a tree with leaves = 31 and depth = 12\n",
      "[LightGBM] [Debug] Trained a tree with leaves = 31 and depth = 12\n",
      "[LightGBM] [Debug] Trained a tree with leaves = 31 and depth = 12\n",
      "[LightGBM] [Debug] Trained a tree with leaves = 31 and depth = 11\n",
      "[LightGBM] [Debug] Trained a tree with leaves = 31 and depth = 12\n",
      "[LightGBM] [Debug] Trained a tree with leaves = 31 and depth = 11\n",
      "[LightGBM] [Debug] Trained a tree with leaves = 31 and depth = 14\n",
      "[LightGBM] [Debug] Trained a tree with leaves = 31 and depth = 17\n",
      "[LightGBM] [Debug] Trained a tree with leaves = 31 and depth = 11\n",
      "[LightGBM] [Debug] Trained a tree with leaves = 31 and depth = 12\n",
      "[LightGBM] [Debug] Trained a tree with leaves = 31 and depth = 10\n",
      "[LightGBM] [Debug] Trained a tree with leaves = 31 and depth = 19\n",
      "[LightGBM] [Debug] Trained a tree with leaves = 31 and depth = 10\n",
      "RMSE валидационной выборки: 33\n",
      "CPU times: user 43 s, sys: 304 ms, total: 43.3 s\n",
      "Wall time: 43.6 s\n"
     ]
    }
   ],
   "source": [
    "%%time\n",
    "\n",
    "lg = LGBMRegressor(verbose=50)\n",
    "lg.fit(x_train, y_train)\n",
    "predicted_valid = lg.predict(x_valid)\n",
    "rmse = mean_squared_error(y_valid, predicted_valid, squared=False)\n",
    "print(\"RMSE валидационной выборки:\",  \"{:,.0f}\".format(rmse))"
   ]
  },
  {
   "cell_type": "markdown",
   "metadata": {},
   "source": [
    "### Градиентный бустинг XGBoost"
   ]
  },
  {
   "cell_type": "code",
   "execution_count": 21,
   "metadata": {
    "scrolled": true
   },
   "outputs": [
    {
     "name": "stdout",
     "output_type": "stream",
     "text": [
      "[09:17:22] INFO: ../src/tree/updater_prune.cc:101: tree pruning end, 80 extra nodes, 0 pruned nodes, max_depth=6\n",
      "[09:17:22] INFO: ../src/tree/updater_prune.cc:101: tree pruning end, 84 extra nodes, 0 pruned nodes, max_depth=6\n",
      "[09:17:22] INFO: ../src/tree/updater_prune.cc:101: tree pruning end, 86 extra nodes, 0 pruned nodes, max_depth=6\n",
      "[09:17:22] INFO: ../src/tree/updater_prune.cc:101: tree pruning end, 118 extra nodes, 0 pruned nodes, max_depth=6\n",
      "[09:17:22] INFO: ../src/tree/updater_prune.cc:101: tree pruning end, 112 extra nodes, 0 pruned nodes, max_depth=6\n",
      "[09:17:22] INFO: ../src/tree/updater_prune.cc:101: tree pruning end, 116 extra nodes, 0 pruned nodes, max_depth=6\n",
      "[09:17:23] INFO: ../src/tree/updater_prune.cc:101: tree pruning end, 114 extra nodes, 0 pruned nodes, max_depth=6\n",
      "[09:17:23] INFO: ../src/tree/updater_prune.cc:101: tree pruning end, 100 extra nodes, 0 pruned nodes, max_depth=6\n",
      "[09:17:23] INFO: ../src/tree/updater_prune.cc:101: tree pruning end, 98 extra nodes, 0 pruned nodes, max_depth=6\n",
      "[09:17:23] INFO: ../src/tree/updater_prune.cc:101: tree pruning end, 110 extra nodes, 0 pruned nodes, max_depth=6\n",
      "[09:17:23] INFO: ../src/tree/updater_prune.cc:101: tree pruning end, 98 extra nodes, 0 pruned nodes, max_depth=6\n",
      "[09:17:23] INFO: ../src/tree/updater_prune.cc:101: tree pruning end, 102 extra nodes, 0 pruned nodes, max_depth=6\n",
      "[09:17:23] INFO: ../src/tree/updater_prune.cc:101: tree pruning end, 120 extra nodes, 0 pruned nodes, max_depth=6\n",
      "[09:17:23] INFO: ../src/tree/updater_prune.cc:101: tree pruning end, 124 extra nodes, 0 pruned nodes, max_depth=6\n",
      "[09:17:23] INFO: ../src/tree/updater_prune.cc:101: tree pruning end, 80 extra nodes, 0 pruned nodes, max_depth=6\n",
      "[09:17:24] INFO: ../src/tree/updater_prune.cc:101: tree pruning end, 78 extra nodes, 0 pruned nodes, max_depth=6\n",
      "[09:17:24] INFO: ../src/tree/updater_prune.cc:101: tree pruning end, 118 extra nodes, 0 pruned nodes, max_depth=6\n",
      "[09:17:24] INFO: ../src/tree/updater_prune.cc:101: tree pruning end, 58 extra nodes, 0 pruned nodes, max_depth=6\n",
      "[09:17:24] INFO: ../src/tree/updater_prune.cc:101: tree pruning end, 118 extra nodes, 0 pruned nodes, max_depth=6\n",
      "[09:17:24] INFO: ../src/tree/updater_prune.cc:101: tree pruning end, 120 extra nodes, 0 pruned nodes, max_depth=6\n",
      "[09:17:24] INFO: ../src/tree/updater_prune.cc:101: tree pruning end, 122 extra nodes, 0 pruned nodes, max_depth=6\n",
      "[09:17:24] INFO: ../src/tree/updater_prune.cc:101: tree pruning end, 50 extra nodes, 0 pruned nodes, max_depth=6\n",
      "[09:17:25] INFO: ../src/tree/updater_prune.cc:101: tree pruning end, 112 extra nodes, 0 pruned nodes, max_depth=6\n",
      "[09:17:25] INFO: ../src/tree/updater_prune.cc:101: tree pruning end, 68 extra nodes, 0 pruned nodes, max_depth=6\n",
      "[09:17:25] INFO: ../src/tree/updater_prune.cc:101: tree pruning end, 116 extra nodes, 0 pruned nodes, max_depth=6\n",
      "[09:17:25] INFO: ../src/tree/updater_prune.cc:101: tree pruning end, 100 extra nodes, 0 pruned nodes, max_depth=6\n",
      "[09:17:25] INFO: ../src/tree/updater_prune.cc:101: tree pruning end, 56 extra nodes, 0 pruned nodes, max_depth=6\n",
      "[09:17:25] INFO: ../src/tree/updater_prune.cc:101: tree pruning end, 114 extra nodes, 0 pruned nodes, max_depth=6\n",
      "[09:17:25] INFO: ../src/tree/updater_prune.cc:101: tree pruning end, 48 extra nodes, 0 pruned nodes, max_depth=6\n",
      "[09:17:25] INFO: ../src/tree/updater_prune.cc:101: tree pruning end, 88 extra nodes, 0 pruned nodes, max_depth=6\n",
      "[09:17:25] INFO: ../src/tree/updater_prune.cc:101: tree pruning end, 86 extra nodes, 0 pruned nodes, max_depth=6\n",
      "[09:17:25] INFO: ../src/tree/updater_prune.cc:101: tree pruning end, 60 extra nodes, 0 pruned nodes, max_depth=6\n",
      "[09:17:25] INFO: ../src/tree/updater_prune.cc:101: tree pruning end, 90 extra nodes, 0 pruned nodes, max_depth=6\n",
      "[09:17:26] INFO: ../src/tree/updater_prune.cc:101: tree pruning end, 110 extra nodes, 0 pruned nodes, max_depth=6\n",
      "[09:17:27] INFO: ../src/tree/updater_prune.cc:101: tree pruning end, 110 extra nodes, 0 pruned nodes, max_depth=6\n",
      "[09:17:27] INFO: ../src/tree/updater_prune.cc:101: tree pruning end, 94 extra nodes, 0 pruned nodes, max_depth=6\n",
      "[09:17:27] INFO: ../src/tree/updater_prune.cc:101: tree pruning end, 90 extra nodes, 0 pruned nodes, max_depth=6\n",
      "[09:17:27] INFO: ../src/tree/updater_prune.cc:101: tree pruning end, 108 extra nodes, 0 pruned nodes, max_depth=6\n",
      "[09:17:28] INFO: ../src/tree/updater_prune.cc:101: tree pruning end, 40 extra nodes, 0 pruned nodes, max_depth=6\n",
      "[09:17:28] INFO: ../src/tree/updater_prune.cc:101: tree pruning end, 64 extra nodes, 0 pruned nodes, max_depth=6\n",
      "[09:17:28] INFO: ../src/tree/updater_prune.cc:101: tree pruning end, 94 extra nodes, 0 pruned nodes, max_depth=6\n",
      "[09:17:28] INFO: ../src/tree/updater_prune.cc:101: tree pruning end, 94 extra nodes, 0 pruned nodes, max_depth=6\n",
      "[09:17:28] INFO: ../src/tree/updater_prune.cc:101: tree pruning end, 102 extra nodes, 0 pruned nodes, max_depth=6\n",
      "[09:17:28] INFO: ../src/tree/updater_prune.cc:101: tree pruning end, 72 extra nodes, 0 pruned nodes, max_depth=6\n",
      "[09:17:29] INFO: ../src/tree/updater_prune.cc:101: tree pruning end, 78 extra nodes, 0 pruned nodes, max_depth=6\n",
      "[09:17:29] INFO: ../src/tree/updater_prune.cc:101: tree pruning end, 108 extra nodes, 0 pruned nodes, max_depth=6\n",
      "[09:17:29] INFO: ../src/tree/updater_prune.cc:101: tree pruning end, 64 extra nodes, 0 pruned nodes, max_depth=6\n",
      "[09:17:30] INFO: ../src/tree/updater_prune.cc:101: tree pruning end, 126 extra nodes, 0 pruned nodes, max_depth=6\n",
      "[09:17:30] INFO: ../src/tree/updater_prune.cc:101: tree pruning end, 122 extra nodes, 0 pruned nodes, max_depth=6\n",
      "[09:17:30] INFO: ../src/tree/updater_prune.cc:101: tree pruning end, 66 extra nodes, 0 pruned nodes, max_depth=6\n",
      "[09:17:31] INFO: ../src/tree/updater_prune.cc:101: tree pruning end, 82 extra nodes, 0 pruned nodes, max_depth=6\n",
      "[09:17:31] INFO: ../src/tree/updater_prune.cc:101: tree pruning end, 40 extra nodes, 0 pruned nodes, max_depth=6\n",
      "[09:17:31] INFO: ../src/tree/updater_prune.cc:101: tree pruning end, 54 extra nodes, 0 pruned nodes, max_depth=6\n",
      "[09:17:31] INFO: ../src/tree/updater_prune.cc:101: tree pruning end, 112 extra nodes, 0 pruned nodes, max_depth=6\n",
      "[09:17:31] INFO: ../src/tree/updater_prune.cc:101: tree pruning end, 106 extra nodes, 0 pruned nodes, max_depth=6\n",
      "[09:17:31] INFO: ../src/tree/updater_prune.cc:101: tree pruning end, 122 extra nodes, 0 pruned nodes, max_depth=6\n",
      "[09:17:31] INFO: ../src/tree/updater_prune.cc:101: tree pruning end, 94 extra nodes, 0 pruned nodes, max_depth=6\n",
      "[09:17:31] INFO: ../src/tree/updater_prune.cc:101: tree pruning end, 118 extra nodes, 0 pruned nodes, max_depth=6\n",
      "[09:17:31] INFO: ../src/tree/updater_prune.cc:101: tree pruning end, 90 extra nodes, 0 pruned nodes, max_depth=6\n",
      "[09:17:32] INFO: ../src/tree/updater_prune.cc:101: tree pruning end, 62 extra nodes, 0 pruned nodes, max_depth=6\n",
      "[09:17:32] INFO: ../src/tree/updater_prune.cc:101: tree pruning end, 48 extra nodes, 0 pruned nodes, max_depth=6\n",
      "[09:17:33] INFO: ../src/tree/updater_prune.cc:101: tree pruning end, 106 extra nodes, 0 pruned nodes, max_depth=6\n",
      "[09:17:33] INFO: ../src/tree/updater_prune.cc:101: tree pruning end, 114 extra nodes, 0 pruned nodes, max_depth=6\n",
      "[09:17:33] INFO: ../src/tree/updater_prune.cc:101: tree pruning end, 100 extra nodes, 0 pruned nodes, max_depth=6\n",
      "[09:17:34] INFO: ../src/tree/updater_prune.cc:101: tree pruning end, 64 extra nodes, 0 pruned nodes, max_depth=6\n",
      "[09:17:34] INFO: ../src/tree/updater_prune.cc:101: tree pruning end, 124 extra nodes, 0 pruned nodes, max_depth=6\n",
      "[09:17:34] INFO: ../src/tree/updater_prune.cc:101: tree pruning end, 100 extra nodes, 0 pruned nodes, max_depth=6\n",
      "[09:17:34] INFO: ../src/tree/updater_prune.cc:101: tree pruning end, 114 extra nodes, 0 pruned nodes, max_depth=6\n",
      "[09:17:34] INFO: ../src/tree/updater_prune.cc:101: tree pruning end, 90 extra nodes, 0 pruned nodes, max_depth=6\n",
      "[09:17:35] INFO: ../src/tree/updater_prune.cc:101: tree pruning end, 112 extra nodes, 0 pruned nodes, max_depth=6\n",
      "[09:17:35] INFO: ../src/tree/updater_prune.cc:101: tree pruning end, 104 extra nodes, 0 pruned nodes, max_depth=6\n",
      "[09:17:35] INFO: ../src/tree/updater_prune.cc:101: tree pruning end, 110 extra nodes, 0 pruned nodes, max_depth=6\n",
      "[09:17:35] INFO: ../src/tree/updater_prune.cc:101: tree pruning end, 120 extra nodes, 0 pruned nodes, max_depth=6\n",
      "[09:17:35] INFO: ../src/tree/updater_prune.cc:101: tree pruning end, 98 extra nodes, 0 pruned nodes, max_depth=6\n",
      "[09:17:36] INFO: ../src/tree/updater_prune.cc:101: tree pruning end, 40 extra nodes, 0 pruned nodes, max_depth=6\n",
      "[09:17:36] INFO: ../src/tree/updater_prune.cc:101: tree pruning end, 78 extra nodes, 0 pruned nodes, max_depth=6\n",
      "[09:17:36] INFO: ../src/tree/updater_prune.cc:101: tree pruning end, 112 extra nodes, 0 pruned nodes, max_depth=6\n",
      "[09:17:36] INFO: ../src/tree/updater_prune.cc:101: tree pruning end, 118 extra nodes, 0 pruned nodes, max_depth=6\n",
      "[09:17:36] INFO: ../src/tree/updater_prune.cc:101: tree pruning end, 108 extra nodes, 0 pruned nodes, max_depth=6\n",
      "[09:17:36] INFO: ../src/tree/updater_prune.cc:101: tree pruning end, 40 extra nodes, 0 pruned nodes, max_depth=6\n",
      "[09:17:36] INFO: ../src/tree/updater_prune.cc:101: tree pruning end, 98 extra nodes, 0 pruned nodes, max_depth=6\n",
      "[09:17:37] INFO: ../src/tree/updater_prune.cc:101: tree pruning end, 102 extra nodes, 0 pruned nodes, max_depth=6\n",
      "[09:17:37] INFO: ../src/tree/updater_prune.cc:101: tree pruning end, 114 extra nodes, 0 pruned nodes, max_depth=6\n",
      "[09:17:37] INFO: ../src/tree/updater_prune.cc:101: tree pruning end, 124 extra nodes, 0 pruned nodes, max_depth=6\n",
      "[09:17:37] INFO: ../src/tree/updater_prune.cc:101: tree pruning end, 90 extra nodes, 0 pruned nodes, max_depth=6\n",
      "[09:17:37] INFO: ../src/tree/updater_prune.cc:101: tree pruning end, 92 extra nodes, 0 pruned nodes, max_depth=6\n",
      "[09:17:37] INFO: ../src/tree/updater_prune.cc:101: tree pruning end, 84 extra nodes, 0 pruned nodes, max_depth=6\n",
      "[09:17:38] INFO: ../src/tree/updater_prune.cc:101: tree pruning end, 106 extra nodes, 0 pruned nodes, max_depth=6\n",
      "[09:17:38] INFO: ../src/tree/updater_prune.cc:101: tree pruning end, 106 extra nodes, 0 pruned nodes, max_depth=6\n",
      "[09:17:38] INFO: ../src/tree/updater_prune.cc:101: tree pruning end, 94 extra nodes, 0 pruned nodes, max_depth=6\n",
      "[09:17:38] INFO: ../src/tree/updater_prune.cc:101: tree pruning end, 102 extra nodes, 0 pruned nodes, max_depth=6\n",
      "[09:17:38] INFO: ../src/tree/updater_prune.cc:101: tree pruning end, 118 extra nodes, 0 pruned nodes, max_depth=6\n",
      "[09:17:38] INFO: ../src/tree/updater_prune.cc:101: tree pruning end, 62 extra nodes, 0 pruned nodes, max_depth=6\n",
      "[09:17:38] INFO: ../src/tree/updater_prune.cc:101: tree pruning end, 56 extra nodes, 0 pruned nodes, max_depth=6\n",
      "[09:17:38] INFO: ../src/tree/updater_prune.cc:101: tree pruning end, 88 extra nodes, 0 pruned nodes, max_depth=6\n",
      "[09:17:39] INFO: ../src/tree/updater_prune.cc:101: tree pruning end, 34 extra nodes, 0 pruned nodes, max_depth=6\n",
      "[09:17:39] INFO: ../src/tree/updater_prune.cc:101: tree pruning end, 110 extra nodes, 0 pruned nodes, max_depth=6\n",
      "[09:17:39] INFO: ../src/tree/updater_prune.cc:101: tree pruning end, 110 extra nodes, 0 pruned nodes, max_depth=6\n",
      "[09:17:39] INFO: ../src/tree/updater_prune.cc:101: tree pruning end, 64 extra nodes, 0 pruned nodes, max_depth=6\n",
      "[09:17:39] INFO: ../src/tree/updater_prune.cc:101: tree pruning end, 108 extra nodes, 0 pruned nodes, max_depth=6\n",
      "RMSE валидационной выборки: 34\n",
      "CPU times: user 17 s, sys: 72.6 ms, total: 17.1 s\n",
      "Wall time: 17.2 s\n"
     ]
    }
   ],
   "source": [
    "%%time\n",
    "\n",
    "xgb = XGBRegressor(verbosity  = 2)\n",
    "xgb.fit(x_train, y_train)\n",
    "predicted_valid = xgb.predict(x_valid)\n",
    "rmse = mean_squared_error(y_valid, predicted_valid, squared=False)\n",
    "print(\"RMSE валидационной выборки:\",  \"{:,.0f}\".format(rmse))"
   ]
  },
  {
   "cell_type": "markdown",
   "metadata": {},
   "source": [
    "### Константная модель"
   ]
  },
  {
   "cell_type": "code",
   "execution_count": 22,
   "metadata": {},
   "outputs": [
    {
     "name": "stdout",
     "output_type": "stream",
     "text": [
      "RMSE валидационной выборки: 58\n",
      "CPU times: user 1.26 ms, sys: 13 µs, total: 1.27 ms\n",
      "Wall time: 972 µs\n"
     ]
    }
   ],
   "source": [
    "%%time\n",
    "# построим константную модель, которая будет предсказывать одинаковое количество заказов, равное среднему значению по выборке\n",
    "dr = DummyRegressor(strategy='mean').fit(x_train, y_train) \n",
    "predicted_valid = dr.predict(x_valid)\n",
    "rmse = mean_squared_error(y_valid, predicted_valid, squared=False)\n",
    "print(\"RMSE валидационной выборки:\",  \"{:,.0f}\".format(rmse))"
   ]
  },
  {
   "cell_type": "markdown",
   "metadata": {},
   "source": [
    "[В начало](#section_id)"
   ]
  },
  {
   "cell_type": "markdown",
   "metadata": {},
   "source": [
    "## Тестирование\n",
    "Построим сводную таблицу с основными характеристиками обученных моделей."
   ]
  },
  {
   "cell_type": "code",
   "execution_count": 30,
   "metadata": {},
   "outputs": [
    {
     "data": {
      "text/html": [
       "<div>\n",
       "<style scoped>\n",
       "    .dataframe tbody tr th:only-of-type {\n",
       "        vertical-align: middle;\n",
       "    }\n",
       "\n",
       "    .dataframe tbody tr th {\n",
       "        vertical-align: top;\n",
       "    }\n",
       "\n",
       "    .dataframe thead th {\n",
       "        text-align: right;\n",
       "    }\n",
       "</style>\n",
       "<table border=\"1\" class=\"dataframe\">\n",
       "  <thead>\n",
       "    <tr style=\"text-align: right;\">\n",
       "      <th></th>\n",
       "      <th>0</th>\n",
       "      <th>1</th>\n",
       "      <th>2</th>\n",
       "      <th>3</th>\n",
       "      <th>4</th>\n",
       "      <th>5</th>\n",
       "      <th>6</th>\n",
       "    </tr>\n",
       "  </thead>\n",
       "  <tbody>\n",
       "    <tr>\n",
       "      <th>Модель</th>\n",
       "      <td>Линейная регрессия</td>\n",
       "      <td>Решающее дерево</td>\n",
       "      <td>Случайный лес</td>\n",
       "      <td>CatBoost</td>\n",
       "      <td>LightGBM</td>\n",
       "      <td>XGBoost</td>\n",
       "      <td>Константная модель</td>\n",
       "    </tr>\n",
       "    <tr>\n",
       "      <th>MAE</th>\n",
       "      <td>41</td>\n",
       "      <td>37</td>\n",
       "      <td>33</td>\n",
       "      <td>35</td>\n",
       "      <td>33</td>\n",
       "      <td>34</td>\n",
       "      <td>58</td>\n",
       "    </tr>\n",
       "  </tbody>\n",
       "</table>\n",
       "</div>"
      ],
      "text/plain": [
       "                         0                1              2         3  \\\n",
       "Модель  Линейная регрессия  Решающее дерево  Случайный лес  CatBoost   \n",
       "MAE                     41               37             33        35   \n",
       "\n",
       "               4        5                   6  \n",
       "Модель  LightGBM  XGBoost  Константная модель  \n",
       "MAE           33       34                  58  "
      ]
     },
     "execution_count": 30,
     "metadata": {},
     "output_type": "execute_result"
    }
   ],
   "source": [
    "pd.DataFrame({'Модель': [\"Линейная регрессия\", \"Решающее дерево\", \"Случайный лес\", \"CatBoost\", \"LightGBM\", \"XGBoost\", \"Константная модель\"],\n",
    "              'MAE': [41, 37, 33, 35, 33, 34, 58]}).T"
   ]
  },
  {
   "cell_type": "markdown",
   "metadata": {},
   "source": [
    "Наилучший результат RMSE продемонстрировали модель случайного леса и градиентного бустинга LightGBM (RMSE = 33). Однако по скорости обучения все же лидирует модель случайного леса, поэтому тестировать будем ее.**Перед этим объединим обучающую и валидационную выборку в одну и уже на основании ее будем предсказывать значения для тестовой выборки.**"
   ]
  },
  {
   "cell_type": "code",
   "execution_count": 24,
   "metadata": {},
   "outputs": [
    {
     "name": "stdout",
     "output_type": "stream",
     "text": [
      "2018-03-01 04:00:00 2018-07-26 03:00:00 \n",
      " 2018-03-01 04:00:00 2018-07-26 03:00:00 \n",
      " True \n",
      " True\n"
     ]
    }
   ],
   "source": [
    "# объединим обучающую и валидационную выборку \n",
    "x_fact = pd.concat([x_train, x_valid]) \n",
    "y_fact = pd.concat([y_train, y_valid]) \n",
    "print(x_fact.index.min(), train.index.max(),\"\\n\",\n",
    "      y_fact.index.min(), train.index.max(), \"\\n\",\n",
    "      x_fact.index.is_monotonic,\"\\n\",\n",
    "      y_fact.index.is_monotonic)"
   ]
  },
  {
   "cell_type": "code",
   "execution_count": 25,
   "metadata": {},
   "outputs": [
    {
     "name": "stdout",
     "output_type": "stream",
     "text": [
      "RMSE валидационной выборки: 47\n",
      "CPU times: user 1.08 s, sys: 7.99 ms, total: 1.09 s\n",
      "Wall time: 1.09 s\n"
     ]
    }
   ],
   "source": [
    "%%time\n",
    "rf_final = RandomForestRegressor(random_state=12345, n_estimators=80, max_depth=16)\n",
    "rf_final.fit(x_fact, y_fact)\n",
    "predicted_valid = rf_final.predict(x_test)\n",
    "rmse = mean_squared_error(y_test, predicted_valid, squared=False)\n",
    "print(\"RMSE валидационной выборки:\",  \"{:,.0f}\".format(rmse))\n",
    "# mae = mean_absolute_error(y_test, predicted_valid)\n",
    "# print(\"MAE тестовой выборки:\", \"{:,.0f}\".format(mae))"
   ]
  },
  {
   "cell_type": "markdown",
   "metadata": {},
   "source": [
    "**Сравним точность предсказания на тестовой выборке.**"
   ]
  },
  {
   "cell_type": "code",
   "execution_count": 26,
   "metadata": {},
   "outputs": [
    {
     "data": {
      "text/plain": [
       "Text(0.5, 1.0, 'predict')"
      ]
     },
     "execution_count": 26,
     "metadata": {},
     "output_type": "execute_result"
    },
    {
     "data": {
      "image/png": "[encoded data removed]",
      "text/plain": [
       "<Figure size 864x360 with 1 Axes>"
      ]
     },
     "metadata": {
      "needs_background": "light"
     },
     "output_type": "display_data"
    }
   ],
   "source": [
    "y_predict = pd.DataFrame(predicted_valid).set_index(y_test.index)\n",
    "pd.DataFrame(y_test).plot(ax=plt.gca(), figsize=(12, 5))\n",
    "plt.title('fact')\n",
    "pd.DataFrame(y_predict).plot(ax=plt.gca(), figsize=(12, 5))\n",
    "plt.title('predict')\n",
    "\n"
   ]
  },
  {
   "cell_type": "markdown",
   "metadata": {},
   "source": [
    "На графике можно видеть, что наши предсказания достаточно близки к фактическим. Выведем основные влияющие факторы согласно нашей модели."
   ]
  },
  {
   "cell_type": "code",
   "execution_count": 27,
   "metadata": {},
   "outputs": [
    {
     "data": {
      "text/html": [
       "<div>\n",
       "<style scoped>\n",
       "    .dataframe tbody tr th:only-of-type {\n",
       "        vertical-align: middle;\n",
       "    }\n",
       "\n",
       "    .dataframe tbody tr th {\n",
       "        vertical-align: top;\n",
       "    }\n",
       "\n",
       "    .dataframe thead th {\n",
       "        text-align: right;\n",
       "    }\n",
       "</style>\n",
       "<table border=\"1\" class=\"dataframe\">\n",
       "  <thead>\n",
       "    <tr style=\"text-align: right;\">\n",
       "      <th></th>\n",
       "      <th>Feature</th>\n",
       "      <th>Value</th>\n",
       "    </tr>\n",
       "  </thead>\n",
       "  <tbody>\n",
       "    <tr>\n",
       "      <th>0</th>\n",
       "      <td>hour</td>\n",
       "      <td>0.299757</td>\n",
       "    </tr>\n",
       "    <tr>\n",
       "      <th>1</th>\n",
       "      <td>lag_1</td>\n",
       "      <td>0.284634</td>\n",
       "    </tr>\n",
       "    <tr>\n",
       "      <th>2</th>\n",
       "      <td>month</td>\n",
       "      <td>0.106459</td>\n",
       "    </tr>\n",
       "    <tr>\n",
       "      <th>3</th>\n",
       "      <td>rolling_mean</td>\n",
       "      <td>0.070807</td>\n",
       "    </tr>\n",
       "    <tr>\n",
       "      <th>4</th>\n",
       "      <td>lag_2</td>\n",
       "      <td>0.059593</td>\n",
       "    </tr>\n",
       "  </tbody>\n",
       "</table>\n",
       "</div>"
      ],
      "text/plain": [
       "        Feature     Value\n",
       "0          hour  0.299757\n",
       "1         lag_1  0.284634\n",
       "2         month  0.106459\n",
       "3  rolling_mean  0.070807\n",
       "4         lag_2  0.059593"
      ]
     },
     "metadata": {},
     "output_type": "display_data"
    },
    {
     "data": {
      "image/png": "[encoded data removed]",
      "text/plain": [
       "<Figure size 432x288 with 1 Axes>"
      ]
     },
     "metadata": {
      "needs_background": "light"
     },
     "output_type": "display_data"
    }
   ],
   "source": [
    "fi = pd.DataFrame({'Feature':x_train.columns,'Value':rf_final.feature_importances_})\n",
    "display(fi.sort_values('Value',ascending=False).reset_index(drop=True).head())\n",
    "\n",
    "fi = pd.Series(rf_final.feature_importances_, index=x_train.columns)\n",
    "sns.barplot(x=x_train.columns, y=rf_final.feature_importances_)\n",
    "plt.xticks(rotation=30)\n",
    "plt.tight_layout()"
   ]
  },
  {
   "cell_type": "markdown",
   "metadata": {},
   "source": [
    "**Основные выводы:**\n",
    " * в первую очередь стоит отметить, что все построенные модели продемонстрировали точность в разы лучше, нежели константаная модель, которая количество заказов оценивала средним значением по всей выборке;\n",
    " * **наибольшую точность продемонстрировали модель случайного леса и градиентного бустинга LightGBM** (у обеих MAE = 23), чуть хуже модель решающего дерева и градиентного бустинга CatBoost (МАЕ = 26);\n",
    " * наибольший вклад в количество заказов вносят признаки hour (в каком часу делается заказ), lag_1 (количество заказов в предыдущем часу) и dayofweek (день недели)."
   ]
  }
 ],
 "metadata": {
  "ExecuteTimeLog": [
   {
    "duration": 1509,
    "start_time": "2022-06-08T09:50:10.657Z"
   },
   {
    "duration": 136,
    "start_time": "2022-06-08T09:50:13.871Z"
   },
   {
    "duration": 153,
    "start_time": "2022-06-08T09:50:32.962Z"
   },
   {
    "duration": 77,
    "start_time": "2022-06-08T09:55:32.804Z"
   },
   {
    "duration": 79,
    "start_time": "2022-06-08T09:56:06.211Z"
   },
   {
    "duration": 61,
    "start_time": "2022-06-08T09:56:15.792Z"
   },
   {
    "duration": 63,
    "start_time": "2022-06-08T09:57:23.850Z"
   },
   {
    "duration": 69,
    "start_time": "2022-06-08T09:57:47.201Z"
   },
   {
    "duration": 57,
    "start_time": "2022-06-08T09:57:58.875Z"
   },
   {
    "duration": 57,
    "start_time": "2022-06-08T09:58:14.244Z"
   },
   {
    "duration": 1348,
    "start_time": "2022-06-08T09:58:22.014Z"
   },
   {
    "duration": 60,
    "start_time": "2022-06-08T09:58:23.364Z"
   },
   {
    "duration": 60,
    "start_time": "2022-06-08T09:58:42.496Z"
   },
   {
    "duration": 18,
    "start_time": "2022-06-08T10:00:25.297Z"
   },
   {
    "duration": 68,
    "start_time": "2022-06-08T10:00:56.996Z"
   },
   {
    "duration": 668,
    "start_time": "2022-06-08T11:09:54.031Z"
   },
   {
    "duration": 4,
    "start_time": "2022-06-08T11:11:06.193Z"
   },
   {
    "duration": 1334,
    "start_time": "2022-06-08T11:11:24.723Z"
   },
   {
    "duration": 60,
    "start_time": "2022-06-08T11:11:26.059Z"
   },
   {
    "duration": 3,
    "start_time": "2022-06-08T11:11:26.121Z"
   },
   {
    "duration": 34,
    "start_time": "2022-06-08T11:11:26.125Z"
   },
   {
    "duration": 290,
    "start_time": "2022-06-08T11:11:26.160Z"
   },
   {
    "duration": 58,
    "start_time": "2022-06-08T11:11:33.966Z"
   },
   {
    "duration": 801,
    "start_time": "2022-06-08T11:20:51.671Z"
   },
   {
    "duration": 90,
    "start_time": "2022-06-08T11:25:06.582Z"
   },
   {
    "duration": 118,
    "start_time": "2022-06-08T11:26:34.878Z"
   },
   {
    "duration": 15,
    "start_time": "2022-06-08T11:26:48.497Z"
   },
   {
    "duration": 4,
    "start_time": "2022-06-08T11:27:14.093Z"
   },
   {
    "duration": 16,
    "start_time": "2022-06-08T11:27:18.566Z"
   },
   {
    "duration": 10,
    "start_time": "2022-06-08T11:27:39.897Z"
   },
   {
    "duration": 12,
    "start_time": "2022-06-08T11:27:45.657Z"
   },
   {
    "duration": 8,
    "start_time": "2022-06-08T11:27:53.995Z"
   },
   {
    "duration": 1320,
    "start_time": "2022-06-08T11:28:20.887Z"
   },
   {
    "duration": 69,
    "start_time": "2022-06-08T11:28:22.209Z"
   },
   {
    "duration": 3,
    "start_time": "2022-06-08T11:28:22.280Z"
   },
   {
    "duration": 20,
    "start_time": "2022-06-08T11:28:22.285Z"
   },
   {
    "duration": 222,
    "start_time": "2022-06-08T11:28:22.307Z"
   },
   {
    "duration": 6,
    "start_time": "2022-06-08T11:28:22.531Z"
   },
   {
    "duration": 230,
    "start_time": "2022-06-08T11:28:22.539Z"
   },
   {
    "duration": 659,
    "start_time": "2022-06-08T11:28:32.068Z"
   },
   {
    "duration": 1431,
    "start_time": "2022-06-08T11:33:46.641Z"
   },
   {
    "duration": 67,
    "start_time": "2022-06-08T11:33:48.075Z"
   },
   {
    "duration": 6,
    "start_time": "2022-06-08T11:33:48.144Z"
   },
   {
    "duration": 32,
    "start_time": "2022-06-08T11:33:48.152Z"
   },
   {
    "duration": 136,
    "start_time": "2022-06-08T11:33:48.186Z"
   },
   {
    "duration": 20,
    "start_time": "2022-06-08T11:33:48.324Z"
   },
   {
    "duration": 131,
    "start_time": "2022-06-08T11:33:48.348Z"
   },
   {
    "duration": 1375,
    "start_time": "2022-06-08T11:35:02.651Z"
   },
   {
    "duration": 65,
    "start_time": "2022-06-08T11:35:04.030Z"
   },
   {
    "duration": 4,
    "start_time": "2022-06-08T11:35:04.096Z"
   },
   {
    "duration": 29,
    "start_time": "2022-06-08T11:35:04.101Z"
   },
   {
    "duration": 218,
    "start_time": "2022-06-08T11:35:04.136Z"
   },
   {
    "duration": 7,
    "start_time": "2022-06-08T11:35:04.355Z"
   },
   {
    "duration": 680,
    "start_time": "2022-06-08T11:35:04.363Z"
   },
   {
    "duration": 1400,
    "start_time": "2022-06-08T11:47:35.879Z"
   },
   {
    "duration": 66,
    "start_time": "2022-06-08T11:47:37.281Z"
   },
   {
    "duration": 3,
    "start_time": "2022-06-08T11:47:37.348Z"
   },
   {
    "duration": 22,
    "start_time": "2022-06-08T11:47:37.353Z"
   },
   {
    "duration": 222,
    "start_time": "2022-06-08T11:47:37.376Z"
   },
   {
    "duration": 7,
    "start_time": "2022-06-08T11:47:37.599Z"
   },
   {
    "duration": 694,
    "start_time": "2022-06-08T11:47:37.607Z"
   },
   {
    "duration": 361,
    "start_time": "2022-06-08T11:49:48.816Z"
   },
   {
    "duration": 291,
    "start_time": "2022-06-08T11:50:44.764Z"
   },
   {
    "duration": 254,
    "start_time": "2022-06-08T11:50:58.462Z"
   },
   {
    "duration": 555,
    "start_time": "2022-06-08T11:56:06.207Z"
   },
   {
    "duration": 317,
    "start_time": "2022-06-08T11:56:19.803Z"
   },
   {
    "duration": 8,
    "start_time": "2022-06-08T12:04:23.292Z"
   },
   {
    "duration": 6,
    "start_time": "2022-06-08T12:04:59.342Z"
   },
   {
    "duration": 6,
    "start_time": "2022-06-08T12:05:06.192Z"
   },
   {
    "duration": 30,
    "start_time": "2022-06-08T12:05:09.443Z"
   },
   {
    "duration": 22,
    "start_time": "2022-06-08T12:05:15.453Z"
   },
   {
    "duration": 48,
    "start_time": "2022-06-08T12:05:43.374Z"
   },
   {
    "duration": 6,
    "start_time": "2022-06-08T12:05:50.543Z"
   },
   {
    "duration": 7,
    "start_time": "2022-06-08T12:06:03.385Z"
   },
   {
    "duration": 6,
    "start_time": "2022-06-08T12:06:07.069Z"
   },
   {
    "duration": 6,
    "start_time": "2022-06-08T12:06:21.457Z"
   },
   {
    "duration": 10,
    "start_time": "2022-06-08T12:06:39.390Z"
   },
   {
    "duration": 11,
    "start_time": "2022-06-08T12:06:44.711Z"
   },
   {
    "duration": 6,
    "start_time": "2022-06-08T12:06:51.743Z"
   },
   {
    "duration": 16,
    "start_time": "2022-06-08T12:09:21.317Z"
   },
   {
    "duration": 6,
    "start_time": "2022-06-08T12:09:36.740Z"
   },
   {
    "duration": 19,
    "start_time": "2022-06-08T12:09:41.157Z"
   },
   {
    "duration": 10,
    "start_time": "2022-06-08T12:10:12.848Z"
   },
   {
    "duration": 1407,
    "start_time": "2022-06-08T12:11:23.214Z"
   },
   {
    "duration": 70,
    "start_time": "2022-06-08T12:11:24.623Z"
   },
   {
    "duration": 3,
    "start_time": "2022-06-08T12:11:24.695Z"
   },
   {
    "duration": 23,
    "start_time": "2022-06-08T12:11:24.700Z"
   },
   {
    "duration": 246,
    "start_time": "2022-06-08T12:11:24.725Z"
   },
   {
    "duration": 7,
    "start_time": "2022-06-08T12:11:24.973Z"
   },
   {
    "duration": 708,
    "start_time": "2022-06-08T12:11:24.981Z"
   },
   {
    "duration": 375,
    "start_time": "2022-06-08T12:11:25.691Z"
   },
   {
    "duration": 361,
    "start_time": "2022-06-08T12:11:26.068Z"
   },
   {
    "duration": 11,
    "start_time": "2022-06-08T12:11:26.432Z"
   },
   {
    "duration": 172,
    "start_time": "2022-06-08T12:11:26.447Z"
   },
   {
    "duration": 7,
    "start_time": "2022-06-08T12:12:52.477Z"
   },
   {
    "duration": 7,
    "start_time": "2022-06-08T12:13:34.282Z"
   },
   {
    "duration": 4,
    "start_time": "2022-06-08T12:14:09.088Z"
   },
   {
    "duration": 10,
    "start_time": "2022-06-08T12:14:16.930Z"
   },
   {
    "duration": 9,
    "start_time": "2022-06-08T12:14:47.864Z"
   },
   {
    "duration": 1368,
    "start_time": "2022-06-08T12:15:21.703Z"
   },
   {
    "duration": 70,
    "start_time": "2022-06-08T12:15:23.072Z"
   },
   {
    "duration": 3,
    "start_time": "2022-06-08T12:15:23.145Z"
   },
   {
    "duration": 20,
    "start_time": "2022-06-08T12:15:23.149Z"
   },
   {
    "duration": 242,
    "start_time": "2022-06-08T12:15:23.171Z"
   },
   {
    "duration": 15,
    "start_time": "2022-06-08T12:15:23.414Z"
   },
   {
    "duration": 680,
    "start_time": "2022-06-08T12:15:23.430Z"
   },
   {
    "duration": 2,
    "start_time": "2022-06-08T12:15:24.112Z"
   },
   {
    "duration": 378,
    "start_time": "2022-06-08T12:15:24.116Z"
   },
   {
    "duration": 5,
    "start_time": "2022-06-08T12:15:24.496Z"
   },
   {
    "duration": 157,
    "start_time": "2022-06-08T12:15:24.503Z"
   },
   {
    "duration": 8,
    "start_time": "2022-06-08T12:15:36.643Z"
   },
   {
    "duration": 5,
    "start_time": "2022-06-08T12:16:14.951Z"
   },
   {
    "duration": 8,
    "start_time": "2022-06-08T12:17:07.823Z"
   },
   {
    "duration": 10,
    "start_time": "2022-06-08T12:21:32.947Z"
   },
   {
    "duration": 12,
    "start_time": "2022-06-08T12:21:44.284Z"
   },
   {
    "duration": 11,
    "start_time": "2022-06-08T12:23:10.314Z"
   },
   {
    "duration": 11,
    "start_time": "2022-06-08T12:24:52.977Z"
   },
   {
    "duration": 19,
    "start_time": "2022-06-08T12:25:15.091Z"
   },
   {
    "duration": 27,
    "start_time": "2022-06-08T12:25:21.013Z"
   },
   {
    "duration": 22,
    "start_time": "2022-06-08T12:25:26.826Z"
   },
   {
    "duration": 16,
    "start_time": "2022-06-08T12:26:41.028Z"
   },
   {
    "duration": 12,
    "start_time": "2022-06-08T12:26:58.141Z"
   },
   {
    "duration": 18,
    "start_time": "2022-06-08T12:28:05.494Z"
   },
   {
    "duration": 16,
    "start_time": "2022-06-08T12:28:31.834Z"
   },
   {
    "duration": 21,
    "start_time": "2022-06-08T12:28:34.893Z"
   },
   {
    "duration": 1295,
    "start_time": "2022-06-08T12:32:41.559Z"
   },
   {
    "duration": 1318,
    "start_time": "2022-06-08T12:33:59.805Z"
   },
   {
    "duration": 1459,
    "start_time": "2022-06-08T12:34:56.593Z"
   },
   {
    "duration": 25,
    "start_time": "2022-06-08T12:35:52.288Z"
   },
   {
    "duration": 22,
    "start_time": "2022-06-08T12:35:58.041Z"
   },
   {
    "duration": 18,
    "start_time": "2022-06-08T12:36:03.121Z"
   },
   {
    "duration": 20,
    "start_time": "2022-06-08T12:36:08.192Z"
   },
   {
    "duration": 13,
    "start_time": "2022-06-08T12:36:12.561Z"
   },
   {
    "duration": 24,
    "start_time": "2022-06-08T12:37:18.316Z"
   },
   {
    "duration": 1662,
    "start_time": "2022-06-08T12:37:21.076Z"
   },
   {
    "duration": 15,
    "start_time": "2022-06-08T12:37:27.957Z"
   },
   {
    "duration": 276803,
    "start_time": "2022-06-08T12:39:04.401Z"
   },
   {
    "duration": 14,
    "start_time": "2022-06-08T12:44:06.848Z"
   },
   {
    "duration": 30,
    "start_time": "2022-06-08T12:44:52.717Z"
   },
   {
    "duration": 11,
    "start_time": "2022-06-08T12:44:56.941Z"
   },
   {
    "duration": 12,
    "start_time": "2022-06-08T12:45:15.774Z"
   },
   {
    "duration": 37,
    "start_time": "2022-06-08T12:46:35.015Z"
   },
   {
    "duration": 4,
    "start_time": "2022-06-08T12:46:55.648Z"
   },
   {
    "duration": 72754,
    "start_time": "2022-06-08T12:47:01.856Z"
   },
   {
    "duration": 72259,
    "start_time": "2022-06-08T12:49:07.897Z"
   },
   {
    "duration": 28187,
    "start_time": "2022-06-08T12:51:15.635Z"
   },
   {
    "duration": 1355,
    "start_time": "2022-06-08T12:52:25.468Z"
   },
   {
    "duration": 78,
    "start_time": "2022-06-08T12:52:26.826Z"
   },
   {
    "duration": 4,
    "start_time": "2022-06-08T12:52:26.907Z"
   },
   {
    "duration": 23,
    "start_time": "2022-06-08T12:52:26.912Z"
   },
   {
    "duration": 230,
    "start_time": "2022-06-08T12:52:26.937Z"
   },
   {
    "duration": 8,
    "start_time": "2022-06-08T12:52:27.169Z"
   },
   {
    "duration": 720,
    "start_time": "2022-06-08T12:52:27.178Z"
   },
   {
    "duration": 2,
    "start_time": "2022-06-08T12:52:27.900Z"
   },
   {
    "duration": 387,
    "start_time": "2022-06-08T12:52:27.904Z"
   },
   {
    "duration": 127,
    "start_time": "2022-06-08T12:52:28.293Z"
   },
   {
    "duration": 0,
    "start_time": "2022-06-08T12:52:28.422Z"
   },
   {
    "duration": 0,
    "start_time": "2022-06-08T12:52:28.423Z"
   },
   {
    "duration": 0,
    "start_time": "2022-06-08T12:52:28.424Z"
   },
   {
    "duration": 0,
    "start_time": "2022-06-08T12:52:28.426Z"
   },
   {
    "duration": 0,
    "start_time": "2022-06-08T12:52:28.427Z"
   },
   {
    "duration": 0,
    "start_time": "2022-06-08T12:52:28.429Z"
   },
   {
    "duration": 0,
    "start_time": "2022-06-08T12:52:28.430Z"
   },
   {
    "duration": 0,
    "start_time": "2022-06-08T12:52:28.431Z"
   },
   {
    "duration": 0,
    "start_time": "2022-06-08T12:52:28.432Z"
   },
   {
    "duration": 0,
    "start_time": "2022-06-08T12:52:28.433Z"
   },
   {
    "duration": 1271,
    "start_time": "2022-06-08T12:53:43.580Z"
   },
   {
    "duration": 63,
    "start_time": "2022-06-08T12:53:44.853Z"
   },
   {
    "duration": 3,
    "start_time": "2022-06-08T12:53:44.917Z"
   },
   {
    "duration": 22,
    "start_time": "2022-06-08T12:53:44.922Z"
   },
   {
    "duration": 218,
    "start_time": "2022-06-08T12:53:44.946Z"
   },
   {
    "duration": 6,
    "start_time": "2022-06-08T12:53:45.166Z"
   },
   {
    "duration": 622,
    "start_time": "2022-06-08T12:53:45.173Z"
   },
   {
    "duration": 3,
    "start_time": "2022-06-08T12:53:45.796Z"
   },
   {
    "duration": 369,
    "start_time": "2022-06-08T12:53:45.800Z"
   },
   {
    "duration": 28,
    "start_time": "2022-06-08T12:53:46.171Z"
   },
   {
    "duration": 27,
    "start_time": "2022-06-08T12:53:46.201Z"
   },
   {
    "duration": 23,
    "start_time": "2022-06-08T12:53:46.231Z"
   },
   {
    "duration": 1563,
    "start_time": "2022-06-08T12:53:46.330Z"
   },
   {
    "duration": 13,
    "start_time": "2022-06-08T12:53:47.896Z"
   },
   {
    "duration": 273242,
    "start_time": "2022-06-08T12:53:47.910Z"
   },
   {
    "duration": 22746,
    "start_time": "2022-06-08T12:58:21.153Z"
   },
   {
    "duration": 73503,
    "start_time": "2022-06-08T12:58:43.901Z"
   },
   {
    "duration": 153,
    "start_time": "2022-06-08T12:59:57.405Z"
   },
   {
    "duration": 0,
    "start_time": "2022-06-08T12:59:57.559Z"
   },
   {
    "duration": 0,
    "start_time": "2022-06-08T12:59:57.561Z"
   },
   {
    "duration": 1373,
    "start_time": "2022-06-08T13:00:06.262Z"
   },
   {
    "duration": 16,
    "start_time": "2022-06-08T13:00:12.965Z"
   },
   {
    "duration": 9,
    "start_time": "2022-06-08T13:00:32.440Z"
   },
   {
    "duration": 17,
    "start_time": "2022-06-08T13:00:56.435Z"
   },
   {
    "duration": 17,
    "start_time": "2022-06-08T13:01:29.784Z"
   },
   {
    "duration": 5,
    "start_time": "2022-06-08T13:02:28.687Z"
   },
   {
    "duration": 68,
    "start_time": "2022-06-08T13:02:28.694Z"
   },
   {
    "duration": 3,
    "start_time": "2022-06-08T13:02:28.764Z"
   },
   {
    "duration": 24,
    "start_time": "2022-06-08T13:02:28.769Z"
   },
   {
    "duration": 198,
    "start_time": "2022-06-08T13:02:28.794Z"
   },
   {
    "duration": 7,
    "start_time": "2022-06-08T13:02:28.993Z"
   },
   {
    "duration": 690,
    "start_time": "2022-06-08T13:02:29.001Z"
   },
   {
    "duration": 2,
    "start_time": "2022-06-08T13:02:29.693Z"
   },
   {
    "duration": 281,
    "start_time": "2022-06-08T13:02:29.697Z"
   },
   {
    "duration": 20,
    "start_time": "2022-06-08T13:02:29.979Z"
   },
   {
    "duration": 11,
    "start_time": "2022-06-08T13:02:30.001Z"
   },
   {
    "duration": 20,
    "start_time": "2022-06-08T13:02:30.027Z"
   },
   {
    "duration": 1482,
    "start_time": "2022-06-08T13:02:30.128Z"
   },
   {
    "duration": 23,
    "start_time": "2022-06-08T13:02:31.612Z"
   },
   {
    "duration": 2609,
    "start_time": "2022-06-08T13:02:31.636Z"
   },
   {
    "duration": 3826,
    "start_time": "2022-06-08T13:02:34.247Z"
   },
   {
    "duration": 1307,
    "start_time": "2022-06-08T13:03:02.663Z"
   },
   {
    "duration": 62,
    "start_time": "2022-06-08T13:03:03.972Z"
   },
   {
    "duration": 3,
    "start_time": "2022-06-08T13:03:04.036Z"
   },
   {
    "duration": 22,
    "start_time": "2022-06-08T13:03:04.040Z"
   },
   {
    "duration": 222,
    "start_time": "2022-06-08T13:03:04.063Z"
   },
   {
    "duration": 7,
    "start_time": "2022-06-08T13:03:04.287Z"
   },
   {
    "duration": 661,
    "start_time": "2022-06-08T13:03:04.295Z"
   },
   {
    "duration": 2,
    "start_time": "2022-06-08T13:03:04.958Z"
   },
   {
    "duration": 393,
    "start_time": "2022-06-08T13:03:04.961Z"
   },
   {
    "duration": 22,
    "start_time": "2022-06-08T13:03:05.356Z"
   },
   {
    "duration": 14,
    "start_time": "2022-06-08T13:03:05.381Z"
   },
   {
    "duration": 141,
    "start_time": "2022-06-08T13:03:05.397Z"
   },
   {
    "duration": 1634,
    "start_time": "2022-06-08T13:03:05.541Z"
   },
   {
    "duration": 14,
    "start_time": "2022-06-08T13:03:07.177Z"
   },
   {
    "duration": 2,
    "start_time": "2022-06-08T13:03:07.193Z"
   },
   {
    "duration": 7,
    "start_time": "2022-06-08T13:03:07.196Z"
   },
   {
    "duration": 8,
    "start_time": "2022-06-08T13:03:07.205Z"
   },
   {
    "duration": 987,
    "start_time": "2022-06-08T13:03:07.214Z"
   },
   {
    "duration": 958,
    "start_time": "2022-06-08T13:03:08.203Z"
   },
   {
    "duration": 856,
    "start_time": "2022-06-08T13:03:09.163Z"
   },
   {
    "duration": 132,
    "start_time": "2022-06-08T13:03:10.020Z"
   },
   {
    "duration": 0,
    "start_time": "2022-06-08T13:03:10.154Z"
   },
   {
    "duration": 5,
    "start_time": "2022-06-08T13:07:29.654Z"
   },
   {
    "duration": 87,
    "start_time": "2022-06-08T13:07:29.661Z"
   },
   {
    "duration": 3,
    "start_time": "2022-06-08T13:07:29.749Z"
   },
   {
    "duration": 31,
    "start_time": "2022-06-08T13:07:29.754Z"
   },
   {
    "duration": 207,
    "start_time": "2022-06-08T13:07:29.787Z"
   },
   {
    "duration": 6,
    "start_time": "2022-06-08T13:07:29.995Z"
   },
   {
    "duration": 701,
    "start_time": "2022-06-08T13:07:30.003Z"
   },
   {
    "duration": 3,
    "start_time": "2022-06-08T13:07:30.705Z"
   },
   {
    "duration": 299,
    "start_time": "2022-06-08T13:07:30.709Z"
   },
   {
    "duration": 27,
    "start_time": "2022-06-08T13:07:31.009Z"
   },
   {
    "duration": 37,
    "start_time": "2022-06-08T13:07:31.037Z"
   },
   {
    "duration": 16,
    "start_time": "2022-06-08T13:07:31.075Z"
   },
   {
    "duration": 38,
    "start_time": "2022-06-08T13:07:31.092Z"
   },
   {
    "duration": 1707,
    "start_time": "2022-06-08T13:07:31.133Z"
   },
   {
    "duration": 14,
    "start_time": "2022-06-08T13:07:32.841Z"
   },
   {
    "duration": 24,
    "start_time": "2022-06-08T13:07:32.856Z"
   },
   {
    "duration": 16,
    "start_time": "2022-06-08T13:07:32.882Z"
   },
   {
    "duration": 37,
    "start_time": "2022-06-08T13:07:32.899Z"
   },
   {
    "duration": 979,
    "start_time": "2022-06-08T13:07:32.937Z"
   },
   {
    "duration": 908,
    "start_time": "2022-06-08T13:07:33.919Z"
   },
   {
    "duration": 828,
    "start_time": "2022-06-08T13:07:34.829Z"
   },
   {
    "duration": 110,
    "start_time": "2022-06-08T13:09:24.492Z"
   },
   {
    "duration": 6610,
    "start_time": "2022-06-08T13:09:35.437Z"
   },
   {
    "duration": 9536,
    "start_time": "2022-06-08T13:09:47.086Z"
   },
   {
    "duration": 644337,
    "start_time": "2022-06-08T13:09:58.448Z"
   },
   {
    "duration": 40,
    "start_time": "2022-06-08T13:21:46.846Z"
   },
   {
    "duration": 204067,
    "start_time": "2022-06-08T13:22:22.127Z"
   },
   {
    "duration": 4608,
    "start_time": "2022-06-08T13:26:29.655Z"
   },
   {
    "duration": 5601,
    "start_time": "2022-06-08T13:26:49.771Z"
   },
   {
    "duration": 5812,
    "start_time": "2022-06-08T13:27:05.330Z"
   },
   {
    "duration": 7,
    "start_time": "2022-06-08T13:30:16.432Z"
   },
   {
    "duration": 206,
    "start_time": "2022-06-08T13:34:14.551Z"
   },
   {
    "duration": 26,
    "start_time": "2022-06-08T13:43:34.977Z"
   },
   {
    "duration": 12,
    "start_time": "2022-06-08T13:44:56.590Z"
   },
   {
    "duration": 11,
    "start_time": "2022-06-08T13:46:32.120Z"
   },
   {
    "duration": 10,
    "start_time": "2022-06-08T13:46:57.360Z"
   },
   {
    "duration": 25,
    "start_time": "2022-06-08T13:48:05.049Z"
   },
   {
    "duration": 15,
    "start_time": "2022-06-08T13:48:08.738Z"
   },
   {
    "duration": 23,
    "start_time": "2022-06-08T13:48:55.556Z"
   },
   {
    "duration": 19,
    "start_time": "2022-06-08T13:48:57.593Z"
   },
   {
    "duration": 6041,
    "start_time": "2022-06-08T13:58:49.691Z"
   },
   {
    "duration": 1496,
    "start_time": "2022-06-08T15:57:11.494Z"
   },
   {
    "duration": 159,
    "start_time": "2022-06-08T15:57:12.991Z"
   },
   {
    "duration": 2,
    "start_time": "2022-06-08T15:57:13.152Z"
   },
   {
    "duration": 33,
    "start_time": "2022-06-08T15:57:13.156Z"
   },
   {
    "duration": 312,
    "start_time": "2022-06-08T15:57:13.191Z"
   },
   {
    "duration": 7,
    "start_time": "2022-06-08T15:57:13.504Z"
   },
   {
    "duration": 691,
    "start_time": "2022-06-08T15:57:13.512Z"
   },
   {
    "duration": 2,
    "start_time": "2022-06-08T15:57:14.205Z"
   },
   {
    "duration": 321,
    "start_time": "2022-06-08T15:57:14.208Z"
   },
   {
    "duration": 18,
    "start_time": "2022-06-08T15:57:14.531Z"
   },
   {
    "duration": 11,
    "start_time": "2022-06-08T15:57:14.550Z"
   },
   {
    "duration": 30,
    "start_time": "2022-06-08T15:57:14.562Z"
   },
   {
    "duration": 15,
    "start_time": "2022-06-08T15:57:14.593Z"
   },
   {
    "duration": 1486,
    "start_time": "2022-06-08T15:57:14.610Z"
   },
   {
    "duration": 13,
    "start_time": "2022-06-08T15:57:16.098Z"
   },
   {
    "duration": 2,
    "start_time": "2022-06-08T15:57:16.112Z"
   },
   {
    "duration": 6,
    "start_time": "2022-06-08T15:57:16.115Z"
   },
   {
    "duration": 8,
    "start_time": "2022-06-08T15:57:16.122Z"
   },
   {
    "duration": 931,
    "start_time": "2022-06-08T15:57:16.131Z"
   },
   {
    "duration": 916,
    "start_time": "2022-06-08T15:57:17.064Z"
   },
   {
    "duration": 805,
    "start_time": "2022-06-08T15:57:17.982Z"
   },
   {
    "duration": 8,
    "start_time": "2022-06-08T15:57:18.788Z"
   },
   {
    "duration": 6,
    "start_time": "2022-06-08T15:57:18.798Z"
   },
   {
    "duration": 26484,
    "start_time": "2022-06-08T15:57:18.806Z"
   },
   {
    "duration": 174,
    "start_time": "2022-06-08T15:57:45.294Z"
   },
   {
    "duration": 1678,
    "start_time": "2022-06-09T07:28:37.166Z"
   },
   {
    "duration": 228,
    "start_time": "2022-06-09T07:28:38.846Z"
   },
   {
    "duration": 4,
    "start_time": "2022-06-09T07:28:39.076Z"
   },
   {
    "duration": 26,
    "start_time": "2022-06-09T07:28:39.083Z"
   },
   {
    "duration": 323,
    "start_time": "2022-06-09T07:28:39.111Z"
   },
   {
    "duration": 7,
    "start_time": "2022-06-09T07:28:39.435Z"
   },
   {
    "duration": 814,
    "start_time": "2022-06-09T07:28:39.443Z"
   },
   {
    "duration": 7,
    "start_time": "2022-06-09T07:28:40.259Z"
   },
   {
    "duration": 404,
    "start_time": "2022-06-09T07:28:40.272Z"
   },
   {
    "duration": 34,
    "start_time": "2022-06-09T07:28:40.678Z"
   },
   {
    "duration": 12,
    "start_time": "2022-06-09T07:28:40.713Z"
   },
   {
    "duration": 5,
    "start_time": "2022-06-09T07:28:40.727Z"
   },
   {
    "duration": 52,
    "start_time": "2022-06-09T07:28:40.758Z"
   },
   {
    "duration": 1713,
    "start_time": "2022-06-09T07:28:40.817Z"
   },
   {
    "duration": 30,
    "start_time": "2022-06-09T07:28:42.532Z"
   },
   {
    "duration": 13,
    "start_time": "2022-06-09T07:28:42.564Z"
   },
   {
    "duration": 11,
    "start_time": "2022-06-09T07:28:42.585Z"
   },
   {
    "duration": 12,
    "start_time": "2022-06-09T07:28:42.598Z"
   },
   {
    "duration": 1150,
    "start_time": "2022-06-09T07:28:42.612Z"
   },
   {
    "duration": 1061,
    "start_time": "2022-06-09T07:28:43.767Z"
   },
   {
    "duration": 941,
    "start_time": "2022-06-09T07:28:44.829Z"
   },
   {
    "duration": 6,
    "start_time": "2022-06-09T07:28:45.771Z"
   },
   {
    "duration": 15,
    "start_time": "2022-06-09T07:28:45.780Z"
   },
   {
    "duration": 1746922,
    "start_time": "2022-06-09T07:28:45.797Z"
   },
   {
    "duration": 3,
    "start_time": "2022-06-09T07:57:52.721Z"
   },
   {
    "duration": 1584,
    "start_time": "2022-06-09T08:00:04.946Z"
   },
   {
    "duration": 78,
    "start_time": "2022-06-09T08:00:06.532Z"
   },
   {
    "duration": 4,
    "start_time": "2022-06-09T08:00:06.613Z"
   },
   {
    "duration": 55,
    "start_time": "2022-06-09T08:00:06.619Z"
   },
   {
    "duration": 365,
    "start_time": "2022-06-09T08:00:06.684Z"
   },
   {
    "duration": 40,
    "start_time": "2022-06-09T08:00:07.051Z"
   },
   {
    "duration": 901,
    "start_time": "2022-06-09T08:00:07.093Z"
   },
   {
    "duration": 5,
    "start_time": "2022-06-09T08:00:07.996Z"
   },
   {
    "duration": 339,
    "start_time": "2022-06-09T08:00:08.003Z"
   },
   {
    "duration": 35,
    "start_time": "2022-06-09T08:00:08.344Z"
   },
   {
    "duration": 16,
    "start_time": "2022-06-09T08:00:08.381Z"
   },
   {
    "duration": 6,
    "start_time": "2022-06-09T08:00:08.400Z"
   },
   {
    "duration": 84,
    "start_time": "2022-06-09T08:00:08.408Z"
   },
   {
    "duration": 1730,
    "start_time": "2022-06-09T08:00:08.559Z"
   },
   {
    "duration": 18,
    "start_time": "2022-06-09T08:00:10.292Z"
   },
   {
    "duration": 2,
    "start_time": "2022-06-09T08:00:10.312Z"
   },
   {
    "duration": 13,
    "start_time": "2022-06-09T08:00:10.316Z"
   },
   {
    "duration": 12,
    "start_time": "2022-06-09T08:00:10.331Z"
   },
   {
    "duration": 1199,
    "start_time": "2022-06-09T08:00:10.345Z"
   },
   {
    "duration": 1081,
    "start_time": "2022-06-09T08:00:11.546Z"
   },
   {
    "duration": 1014,
    "start_time": "2022-06-09T08:00:12.629Z"
   },
   {
    "duration": 4,
    "start_time": "2022-06-09T08:00:13.645Z"
   },
   {
    "duration": 260537,
    "start_time": "2022-06-09T08:00:13.659Z"
   },
   {
    "duration": 2037,
    "start_time": "2022-06-09T08:20:27.119Z"
   },
   {
    "duration": 75,
    "start_time": "2022-06-09T08:20:29.158Z"
   },
   {
    "duration": 3,
    "start_time": "2022-06-09T08:20:29.235Z"
   },
   {
    "duration": 65,
    "start_time": "2022-06-09T08:20:29.240Z"
   },
   {
    "duration": 418,
    "start_time": "2022-06-09T08:20:29.307Z"
   },
   {
    "duration": 10,
    "start_time": "2022-06-09T08:20:29.728Z"
   },
   {
    "duration": 877,
    "start_time": "2022-06-09T08:20:29.740Z"
   },
   {
    "duration": 3,
    "start_time": "2022-06-09T08:20:30.619Z"
   },
   {
    "duration": 405,
    "start_time": "2022-06-09T08:20:30.624Z"
   },
   {
    "duration": 31,
    "start_time": "2022-06-09T08:20:31.031Z"
   },
   {
    "duration": 33,
    "start_time": "2022-06-09T08:20:31.064Z"
   },
   {
    "duration": 18,
    "start_time": "2022-06-09T08:20:31.099Z"
   },
   {
    "duration": 168,
    "start_time": "2022-06-09T08:20:31.119Z"
   },
   {
    "duration": 1930,
    "start_time": "2022-06-09T08:20:31.299Z"
   },
   {
    "duration": 38,
    "start_time": "2022-06-09T08:20:33.231Z"
   },
   {
    "duration": 15,
    "start_time": "2022-06-09T08:20:33.283Z"
   },
   {
    "duration": 12,
    "start_time": "2022-06-09T08:20:33.300Z"
   },
   {
    "duration": 5,
    "start_time": "2022-06-09T08:20:33.314Z"
   },
   {
    "duration": 1230,
    "start_time": "2022-06-09T08:20:33.321Z"
   },
   {
    "duration": 1167,
    "start_time": "2022-06-09T08:20:34.552Z"
   },
   {
    "duration": 1036,
    "start_time": "2022-06-09T08:20:35.720Z"
   },
   {
    "duration": 19,
    "start_time": "2022-06-09T08:20:36.758Z"
   },
   {
    "duration": 250855,
    "start_time": "2022-06-09T08:20:36.780Z"
   },
   {
    "duration": 2154,
    "start_time": "2022-06-09T08:42:51.853Z"
   },
   {
    "duration": 149,
    "start_time": "2022-06-09T08:42:54.010Z"
   },
   {
    "duration": 14,
    "start_time": "2022-06-09T08:42:54.162Z"
   },
   {
    "duration": 89,
    "start_time": "2022-06-09T08:42:54.185Z"
   },
   {
    "duration": 930,
    "start_time": "2022-06-09T08:42:54.277Z"
   },
   {
    "duration": 9,
    "start_time": "2022-06-09T08:42:55.210Z"
   },
   {
    "duration": 1776,
    "start_time": "2022-06-09T08:42:55.221Z"
   },
   {
    "duration": 4,
    "start_time": "2022-06-09T08:42:57.005Z"
   },
   {
    "duration": 569,
    "start_time": "2022-06-09T08:42:57.012Z"
   },
   {
    "duration": 37,
    "start_time": "2022-06-09T08:42:57.583Z"
   },
   {
    "duration": 19,
    "start_time": "2022-06-09T08:42:57.622Z"
   },
   {
    "duration": 36,
    "start_time": "2022-06-09T08:42:57.670Z"
   },
   {
    "duration": 271,
    "start_time": "2022-06-09T08:42:57.709Z"
   },
   {
    "duration": 2501,
    "start_time": "2022-06-09T08:42:57.996Z"
   },
   {
    "duration": 26,
    "start_time": "2022-06-09T08:43:00.504Z"
   },
   {
    "duration": 58,
    "start_time": "2022-06-09T08:43:00.532Z"
   },
   {
    "duration": 16,
    "start_time": "2022-06-09T08:43:00.593Z"
   },
   {
    "duration": 8,
    "start_time": "2022-06-09T08:43:00.612Z"
   },
   {
    "duration": 1459,
    "start_time": "2022-06-09T08:43:00.623Z"
   },
   {
    "duration": 1352,
    "start_time": "2022-06-09T08:43:02.085Z"
   },
   {
    "duration": 1354,
    "start_time": "2022-06-09T08:43:03.440Z"
   },
   {
    "duration": 5,
    "start_time": "2022-06-09T08:43:04.799Z"
   },
   {
    "duration": 282953,
    "start_time": "2022-06-09T08:43:04.807Z"
   },
   {
    "duration": 1833,
    "start_time": "2022-06-09T08:54:55.411Z"
   },
   {
    "duration": 102,
    "start_time": "2022-06-09T08:54:57.246Z"
   },
   {
    "duration": 5,
    "start_time": "2022-06-09T08:54:57.351Z"
   },
   {
    "duration": 63,
    "start_time": "2022-06-09T08:54:57.357Z"
   },
   {
    "duration": 33,
    "start_time": "2022-06-09T08:54:57.423Z"
   },
   {
    "duration": 835,
    "start_time": "2022-06-09T08:54:57.470Z"
   },
   {
    "duration": 66,
    "start_time": "2022-06-09T08:54:58.307Z"
   },
   {
    "duration": 1722,
    "start_time": "2022-06-09T08:54:58.377Z"
   },
   {
    "duration": 3,
    "start_time": "2022-06-09T08:55:00.100Z"
   },
   {
    "duration": 687,
    "start_time": "2022-06-09T08:55:00.105Z"
   },
   {
    "duration": 36,
    "start_time": "2022-06-09T08:55:00.795Z"
   },
   {
    "duration": 34,
    "start_time": "2022-06-09T08:55:00.833Z"
   },
   {
    "duration": 9,
    "start_time": "2022-06-09T08:55:00.870Z"
   },
   {
    "duration": 80,
    "start_time": "2022-06-09T08:55:00.883Z"
   },
   {
    "duration": 2310,
    "start_time": "2022-06-09T08:55:00.965Z"
   },
   {
    "duration": 21,
    "start_time": "2022-06-09T08:55:03.278Z"
   },
   {
    "duration": 38,
    "start_time": "2022-06-09T08:55:03.301Z"
   },
   {
    "duration": 17,
    "start_time": "2022-06-09T08:55:03.341Z"
   },
   {
    "duration": 43,
    "start_time": "2022-06-09T08:55:03.360Z"
   },
   {
    "duration": 1510,
    "start_time": "2022-06-09T08:55:03.405Z"
   },
   {
    "duration": 1318,
    "start_time": "2022-06-09T08:55:04.917Z"
   },
   {
    "duration": 1219,
    "start_time": "2022-06-09T08:55:06.237Z"
   },
   {
    "duration": 23,
    "start_time": "2022-06-09T08:55:07.463Z"
   },
   {
    "duration": 253998,
    "start_time": "2022-06-09T08:55:07.491Z"
   },
   {
    "duration": 3,
    "start_time": "2022-06-09T08:59:21.490Z"
   },
   {
    "duration": 17,
    "start_time": "2022-06-09T08:59:21.494Z"
   },
   {
    "duration": 141,
    "start_time": "2022-06-09T08:59:21.513Z"
   },
   {
    "duration": 23,
    "start_time": "2022-06-09T08:59:21.656Z"
   },
   {
    "duration": 10,
    "start_time": "2022-06-09T08:59:21.682Z"
   },
   {
    "duration": 13,
    "start_time": "2022-06-09T08:59:21.693Z"
   },
   {
    "duration": 7,
    "start_time": "2022-06-09T08:59:21.707Z"
   },
   {
    "duration": 7,
    "start_time": "2022-06-09T08:59:21.715Z"
   },
   {
    "duration": 11,
    "start_time": "2022-06-09T09:05:23.501Z"
   },
   {
    "duration": 28382,
    "start_time": "2022-06-09T09:05:55.740Z"
   },
   {
    "duration": 196405,
    "start_time": "2022-06-09T09:07:20.803Z"
   },
   {
    "duration": 6052481,
    "start_time": "2022-06-09T09:10:43.055Z"
   },
   {
    "duration": 6,
    "start_time": "2022-06-09T10:51:35.538Z"
   },
   {
    "duration": 33,
    "start_time": "2022-06-09T11:23:15.608Z"
   },
   {
    "duration": 1212,
    "start_time": "2022-06-09T11:24:05.081Z"
   },
   {
    "duration": 1226,
    "start_time": "2022-06-09T11:25:21.516Z"
   },
   {
    "duration": 13,
    "start_time": "2022-06-09T11:37:04.410Z"
   },
   {
    "duration": 25,
    "start_time": "2022-06-09T11:37:14.759Z"
   },
   {
    "duration": 10,
    "start_time": "2022-06-09T11:37:17.557Z"
   },
   {
    "duration": 6,
    "start_time": "2022-06-09T11:37:55.703Z"
   },
   {
    "duration": 1318,
    "start_time": "2022-06-09T11:38:12.744Z"
   },
   {
    "duration": 1291,
    "start_time": "2022-06-09T11:38:25.699Z"
   },
   {
    "duration": 6,
    "start_time": "2022-06-09T11:38:44.099Z"
   },
   {
    "duration": 201,
    "start_time": "2022-06-09T11:38:44.107Z"
   },
   {
    "duration": 4,
    "start_time": "2022-06-09T11:38:44.310Z"
   },
   {
    "duration": 22,
    "start_time": "2022-06-09T11:38:44.315Z"
   },
   {
    "duration": 17,
    "start_time": "2022-06-09T11:38:44.339Z"
   },
   {
    "duration": 238,
    "start_time": "2022-06-09T11:38:44.357Z"
   },
   {
    "duration": 8,
    "start_time": "2022-06-09T11:38:44.597Z"
   },
   {
    "duration": 875,
    "start_time": "2022-06-09T11:38:44.607Z"
   },
   {
    "duration": 4,
    "start_time": "2022-06-09T11:38:45.486Z"
   },
   {
    "duration": 338,
    "start_time": "2022-06-09T11:38:45.492Z"
   },
   {
    "duration": 46,
    "start_time": "2022-06-09T11:38:45.832Z"
   },
   {
    "duration": 14,
    "start_time": "2022-06-09T11:38:45.882Z"
   },
   {
    "duration": 6,
    "start_time": "2022-06-09T11:38:45.899Z"
   },
   {
    "duration": 54,
    "start_time": "2022-06-09T11:38:45.907Z"
   },
   {
    "duration": 4,
    "start_time": "2022-06-09T11:38:45.963Z"
   },
   {
    "duration": 24,
    "start_time": "2022-06-09T11:41:54.380Z"
   },
   {
    "duration": 21,
    "start_time": "2022-06-09T11:41:59.993Z"
   },
   {
    "duration": 30,
    "start_time": "2022-06-09T11:42:04.548Z"
   },
   {
    "duration": 25,
    "start_time": "2022-06-09T11:42:11.170Z"
   },
   {
    "duration": 25,
    "start_time": "2022-06-09T11:42:16.890Z"
   },
   {
    "duration": 32,
    "start_time": "2022-06-09T11:42:21.780Z"
   },
   {
    "duration": 40,
    "start_time": "2022-06-09T11:42:27.653Z"
   },
   {
    "duration": 46,
    "start_time": "2022-06-09T11:43:02.159Z"
   },
   {
    "duration": 30,
    "start_time": "2022-06-09T11:43:19.946Z"
   },
   {
    "duration": 33,
    "start_time": "2022-06-09T11:43:25.557Z"
   },
   {
    "duration": 16,
    "start_time": "2022-06-09T11:43:32.009Z"
   },
   {
    "duration": 32,
    "start_time": "2022-06-09T11:43:37.010Z"
   },
   {
    "duration": 6,
    "start_time": "2022-06-09T11:52:36.404Z"
   },
   {
    "duration": 68,
    "start_time": "2022-06-09T11:52:36.412Z"
   },
   {
    "duration": 5,
    "start_time": "2022-06-09T11:52:36.482Z"
   },
   {
    "duration": 39,
    "start_time": "2022-06-09T11:52:36.490Z"
   },
   {
    "duration": 14,
    "start_time": "2022-06-09T11:52:36.530Z"
   },
   {
    "duration": 264,
    "start_time": "2022-06-09T11:52:36.546Z"
   },
   {
    "duration": 6,
    "start_time": "2022-06-09T11:52:36.812Z"
   },
   {
    "duration": 921,
    "start_time": "2022-06-09T11:52:36.820Z"
   },
   {
    "duration": 2,
    "start_time": "2022-06-09T11:52:37.743Z"
   },
   {
    "duration": 322,
    "start_time": "2022-06-09T11:52:37.747Z"
   },
   {
    "duration": 25,
    "start_time": "2022-06-09T11:52:38.071Z"
   },
   {
    "duration": 18,
    "start_time": "2022-06-09T11:52:38.101Z"
   },
   {
    "duration": 26,
    "start_time": "2022-06-09T11:52:46.559Z"
   },
   {
    "duration": 35,
    "start_time": "2022-06-09T11:57:07.446Z"
   },
   {
    "duration": 20,
    "start_time": "2022-06-09T11:57:17.087Z"
   },
   {
    "duration": 7,
    "start_time": "2022-06-09T11:57:26.529Z"
   },
   {
    "duration": 12,
    "start_time": "2022-06-09T11:57:28.954Z"
   },
   {
    "duration": 38,
    "start_time": "2022-06-09T11:59:02.812Z"
   },
   {
    "duration": 22,
    "start_time": "2022-06-09T11:59:12.805Z"
   },
   {
    "duration": 16,
    "start_time": "2022-06-09T11:59:19.544Z"
   },
   {
    "duration": 18,
    "start_time": "2022-06-09T11:59:24.234Z"
   },
   {
    "duration": 14,
    "start_time": "2022-06-09T11:59:29.729Z"
   },
   {
    "duration": 15,
    "start_time": "2022-06-09T11:59:33.304Z"
   },
   {
    "duration": 17,
    "start_time": "2022-06-09T11:59:36.547Z"
   },
   {
    "duration": 19,
    "start_time": "2022-06-09T11:59:39.628Z"
   },
   {
    "duration": 21,
    "start_time": "2022-06-09T11:59:46.315Z"
   },
   {
    "duration": 24,
    "start_time": "2022-06-09T11:59:50.372Z"
   },
   {
    "duration": 546,
    "start_time": "2022-06-09T12:00:03.081Z"
   },
   {
    "duration": 19,
    "start_time": "2022-06-09T12:00:10.134Z"
   },
   {
    "duration": 886,
    "start_time": "2022-06-09T12:00:15.073Z"
   },
   {
    "duration": 1122,
    "start_time": "2022-06-09T12:00:20.808Z"
   },
   {
    "duration": 22,
    "start_time": "2022-06-09T12:00:28.875Z"
   },
   {
    "duration": 1435,
    "start_time": "2022-06-09T12:00:34.202Z"
   },
   {
    "duration": 18,
    "start_time": "2022-06-09T12:00:49.621Z"
   },
   {
    "duration": 188151,
    "start_time": "2022-06-09T12:03:55.088Z"
   },
   {
    "duration": 21780,
    "start_time": "2022-06-09T12:10:47.447Z"
   },
   {
    "duration": 76749,
    "start_time": "2022-06-09T12:16:54.445Z"
   },
   {
    "duration": 1048,
    "start_time": "2022-06-09T12:19:17.701Z"
   },
   {
    "duration": 1081,
    "start_time": "2022-06-09T12:19:20.649Z"
   },
   {
    "duration": 1328,
    "start_time": "2022-06-09T12:19:25.181Z"
   },
   {
    "duration": 779,
    "start_time": "2022-06-09T12:19:41.461Z"
   },
   {
    "duration": 248,
    "start_time": "2022-06-09T12:19:56.945Z"
   },
   {
    "duration": 486,
    "start_time": "2022-06-09T12:21:07.564Z"
   },
   {
    "duration": 1093,
    "start_time": "2022-06-09T12:21:10.112Z"
   },
   {
    "duration": 1088,
    "start_time": "2022-06-09T12:21:14.002Z"
   },
   {
    "duration": 1111,
    "start_time": "2022-06-09T12:21:26.312Z"
   },
   {
    "duration": 640155,
    "start_time": "2022-06-09T12:25:26.020Z"
   },
   {
    "duration": 2334,
    "start_time": "2022-06-09T12:39:50.379Z"
   },
   {
    "duration": 1149470,
    "start_time": "2022-06-09T12:44:18.547Z"
   },
   {
    "duration": 19643,
    "start_time": "2022-06-09T13:04:20.650Z"
   },
   {
    "duration": 250686,
    "start_time": "2022-06-09T13:05:36.147Z"
   },
   {
    "duration": 87835,
    "start_time": "2022-06-09T13:10:35.198Z"
   },
   {
    "duration": 285559,
    "start_time": "2022-06-09T13:12:31.952Z"
   },
   {
    "duration": 893858,
    "start_time": "2022-06-09T13:17:26.563Z"
   },
   {
    "duration": 1532,
    "start_time": "2022-06-09T13:44:14.506Z"
   },
   {
    "duration": 61,
    "start_time": "2022-06-09T13:44:16.040Z"
   },
   {
    "duration": 4,
    "start_time": "2022-06-09T13:44:16.103Z"
   },
   {
    "duration": 27,
    "start_time": "2022-06-09T13:44:16.108Z"
   },
   {
    "duration": 32,
    "start_time": "2022-06-09T13:44:16.137Z"
   },
   {
    "duration": 303,
    "start_time": "2022-06-09T13:44:16.172Z"
   },
   {
    "duration": 7,
    "start_time": "2022-06-09T13:44:16.478Z"
   },
   {
    "duration": 687,
    "start_time": "2022-06-09T13:44:16.487Z"
   },
   {
    "duration": 3,
    "start_time": "2022-06-09T13:44:17.176Z"
   },
   {
    "duration": 388,
    "start_time": "2022-06-09T13:44:17.181Z"
   },
   {
    "duration": 23,
    "start_time": "2022-06-09T13:44:17.571Z"
   },
   {
    "duration": 15,
    "start_time": "2022-06-09T13:44:17.595Z"
   },
   {
    "duration": 6,
    "start_time": "2022-06-09T13:44:17.611Z"
   },
   {
    "duration": 42,
    "start_time": "2022-06-09T13:44:17.620Z"
   },
   {
    "duration": 1140,
    "start_time": "2022-06-09T13:44:17.665Z"
   },
   {
    "duration": 16,
    "start_time": "2022-06-09T13:44:18.807Z"
   },
   {
    "duration": 3,
    "start_time": "2022-06-09T13:44:18.824Z"
   },
   {
    "duration": 8,
    "start_time": "2022-06-09T13:44:18.828Z"
   },
   {
    "duration": 21,
    "start_time": "2022-06-09T13:44:18.837Z"
   },
   {
    "duration": 1011,
    "start_time": "2022-06-09T13:44:18.860Z"
   },
   {
    "duration": 3,
    "start_time": "2022-06-09T13:44:19.873Z"
   },
   {
    "duration": 2939,
    "start_time": "2022-06-09T13:44:19.878Z"
   },
   {
    "duration": 3,
    "start_time": "2022-06-09T13:44:22.818Z"
   },
   {
    "duration": 1629,
    "start_time": "2022-06-09T13:52:25.890Z"
   },
   {
    "duration": 79,
    "start_time": "2022-06-09T13:52:27.521Z"
   },
   {
    "duration": 5,
    "start_time": "2022-06-09T13:52:27.603Z"
   },
   {
    "duration": 37,
    "start_time": "2022-06-09T13:52:27.611Z"
   },
   {
    "duration": 58,
    "start_time": "2022-06-09T13:52:27.650Z"
   },
   {
    "duration": 375,
    "start_time": "2022-06-09T13:52:27.710Z"
   },
   {
    "duration": 7,
    "start_time": "2022-06-09T13:52:28.087Z"
   },
   {
    "duration": 772,
    "start_time": "2022-06-09T13:52:28.096Z"
   },
   {
    "duration": 5,
    "start_time": "2022-06-09T13:52:28.870Z"
   },
   {
    "duration": 358,
    "start_time": "2022-06-09T13:52:28.884Z"
   },
   {
    "duration": 40,
    "start_time": "2022-06-09T13:52:29.243Z"
   },
   {
    "duration": 20,
    "start_time": "2022-06-09T13:52:29.285Z"
   },
   {
    "duration": 22,
    "start_time": "2022-06-09T13:52:29.307Z"
   },
   {
    "duration": 49,
    "start_time": "2022-06-09T13:52:29.331Z"
   },
   {
    "duration": 1323,
    "start_time": "2022-06-09T13:52:29.385Z"
   },
   {
    "duration": 21,
    "start_time": "2022-06-09T13:52:30.710Z"
   },
   {
    "duration": 5,
    "start_time": "2022-06-09T13:52:30.734Z"
   },
   {
    "duration": 68,
    "start_time": "2022-06-09T13:52:30.740Z"
   },
   {
    "duration": 18,
    "start_time": "2022-06-09T13:52:30.810Z"
   },
   {
    "duration": 1185,
    "start_time": "2022-06-09T13:52:30.829Z"
   },
   {
    "duration": 2,
    "start_time": "2022-06-09T13:52:32.016Z"
   },
   {
    "duration": 2211,
    "start_time": "2022-06-09T13:52:32.020Z"
   },
   {
    "duration": 2,
    "start_time": "2022-06-09T13:52:34.233Z"
   },
   {
    "duration": 67,
    "start_time": "2022-06-09T13:52:34.237Z"
   },
   {
    "duration": 23,
    "start_time": "2022-06-09T13:52:34.306Z"
   },
   {
    "duration": 1531,
    "start_time": "2022-06-09T13:56:22.003Z"
   },
   {
    "duration": 66,
    "start_time": "2022-06-09T13:56:23.536Z"
   },
   {
    "duration": 4,
    "start_time": "2022-06-09T13:56:23.604Z"
   },
   {
    "duration": 31,
    "start_time": "2022-06-09T13:56:23.609Z"
   },
   {
    "duration": 40,
    "start_time": "2022-06-09T13:56:23.642Z"
   },
   {
    "duration": 372,
    "start_time": "2022-06-09T13:56:23.684Z"
   },
   {
    "duration": 20,
    "start_time": "2022-06-09T13:56:24.058Z"
   },
   {
    "duration": 816,
    "start_time": "2022-06-09T13:56:24.086Z"
   },
   {
    "duration": 3,
    "start_time": "2022-06-09T13:56:24.904Z"
   },
   {
    "duration": 331,
    "start_time": "2022-06-09T13:56:24.909Z"
   },
   {
    "duration": 41,
    "start_time": "2022-06-09T13:56:25.241Z"
   },
   {
    "duration": 15,
    "start_time": "2022-06-09T13:56:25.285Z"
   },
   {
    "duration": 8,
    "start_time": "2022-06-09T13:56:25.302Z"
   },
   {
    "duration": 12,
    "start_time": "2022-06-09T13:56:25.313Z"
   },
   {
    "duration": 1216,
    "start_time": "2022-06-09T13:56:25.326Z"
   },
   {
    "duration": 33,
    "start_time": "2022-06-09T13:56:26.543Z"
   },
   {
    "duration": 3,
    "start_time": "2022-06-09T13:56:26.582Z"
   },
   {
    "duration": 15,
    "start_time": "2022-06-09T13:56:26.586Z"
   },
   {
    "duration": 7,
    "start_time": "2022-06-09T13:56:26.604Z"
   },
   {
    "duration": 1134,
    "start_time": "2022-06-09T13:56:26.613Z"
   },
   {
    "duration": 15,
    "start_time": "2022-06-09T13:56:27.749Z"
   },
   {
    "duration": 2180,
    "start_time": "2022-06-09T13:56:27.765Z"
   },
   {
    "duration": 2,
    "start_time": "2022-06-09T13:56:29.947Z"
   },
   {
    "duration": 33,
    "start_time": "2022-06-09T13:56:29.950Z"
   },
   {
    "duration": 7,
    "start_time": "2022-06-09T13:56:29.985Z"
   },
   {
    "duration": 86906,
    "start_time": "2022-06-09T13:56:29.994Z"
   },
   {
    "duration": 7,
    "start_time": "2022-06-09T13:57:56.902Z"
   },
   {
    "duration": 12,
    "start_time": "2022-06-09T13:57:56.911Z"
   },
   {
    "duration": 20,
    "start_time": "2022-06-09T13:57:56.924Z"
   },
   {
    "duration": 9,
    "start_time": "2022-06-09T13:57:56.945Z"
   },
   {
    "duration": 26,
    "start_time": "2022-06-09T13:57:56.956Z"
   },
   {
    "duration": 99621,
    "start_time": "2022-06-09T13:58:00.945Z"
   },
   {
    "duration": 17,
    "start_time": "2022-06-09T14:51:49.704Z"
   },
   {
    "duration": 6,
    "start_time": "2022-06-09T14:52:44.366Z"
   },
   {
    "duration": 8,
    "start_time": "2022-06-09T14:52:51.843Z"
   },
   {
    "duration": 11,
    "start_time": "2022-06-09T14:52:59.317Z"
   },
   {
    "duration": 1074,
    "start_time": "2022-06-09T14:57:43.434Z"
   },
   {
    "duration": 11,
    "start_time": "2022-06-09T14:58:58.007Z"
   },
   {
    "duration": 1059,
    "start_time": "2022-06-09T14:59:02.844Z"
   },
   {
    "duration": 529,
    "start_time": "2022-06-09T14:59:07.193Z"
   },
   {
    "duration": 368,
    "start_time": "2022-06-09T14:59:58.274Z"
   },
   {
    "duration": 293,
    "start_time": "2022-06-09T15:00:08.192Z"
   },
   {
    "duration": 61,
    "start_time": "2022-06-09T15:06:37.326Z"
   },
   {
    "duration": 4,
    "start_time": "2022-06-09T15:06:57.330Z"
   },
   {
    "duration": 76,
    "start_time": "2022-06-09T15:06:57.336Z"
   },
   {
    "duration": 14,
    "start_time": "2022-06-09T15:06:57.414Z"
   },
   {
    "duration": 15,
    "start_time": "2022-06-09T15:06:57.430Z"
   },
   {
    "duration": 6,
    "start_time": "2022-06-09T15:09:00.781Z"
   },
   {
    "duration": 89,
    "start_time": "2022-06-09T15:09:00.789Z"
   },
   {
    "duration": 15,
    "start_time": "2022-06-09T15:09:00.881Z"
   },
   {
    "duration": 20,
    "start_time": "2022-06-09T15:09:00.899Z"
   },
   {
    "duration": 49,
    "start_time": "2022-06-09T15:09:00.922Z"
   },
   {
    "duration": 18,
    "start_time": "2022-06-09T15:10:29.439Z"
   },
   {
    "duration": 5,
    "start_time": "2022-06-09T15:13:22.812Z"
   },
   {
    "duration": 538,
    "start_time": "2022-06-09T15:15:19.416Z"
   },
   {
    "duration": 688,
    "start_time": "2022-06-09T15:15:31.809Z"
   },
   {
    "duration": 188,
    "start_time": "2022-06-09T15:19:29.005Z"
   },
   {
    "duration": 190,
    "start_time": "2022-06-09T15:19:53.929Z"
   },
   {
    "duration": 15,
    "start_time": "2022-06-09T15:20:31.964Z"
   },
   {
    "duration": 222,
    "start_time": "2022-06-09T15:21:47.197Z"
   },
   {
    "duration": 171,
    "start_time": "2022-06-09T15:21:52.814Z"
   },
   {
    "duration": 262,
    "start_time": "2022-06-09T15:24:37.509Z"
   },
   {
    "duration": 5,
    "start_time": "2022-06-09T15:26:40.684Z"
   },
   {
    "duration": 76,
    "start_time": "2022-06-09T15:26:40.692Z"
   },
   {
    "duration": 6,
    "start_time": "2022-06-09T15:26:40.770Z"
   },
   {
    "duration": 33,
    "start_time": "2022-06-09T15:26:40.778Z"
   },
   {
    "duration": 21,
    "start_time": "2022-06-09T15:26:40.813Z"
   },
   {
    "duration": 229,
    "start_time": "2022-06-09T15:26:40.836Z"
   },
   {
    "duration": 704,
    "start_time": "2022-06-09T15:26:41.067Z"
   },
   {
    "duration": 174,
    "start_time": "2022-06-09T15:26:41.775Z"
   },
   {
    "duration": 279,
    "start_time": "2022-06-09T15:26:41.959Z"
   },
   {
    "duration": 421,
    "start_time": "2022-06-09T15:26:42.240Z"
   },
   {
    "duration": 250,
    "start_time": "2022-06-09T15:27:05.019Z"
   },
   {
    "duration": 246,
    "start_time": "2022-06-09T15:29:04.497Z"
   },
   {
    "duration": 373,
    "start_time": "2022-06-09T15:29:12.763Z"
   },
   {
    "duration": 245,
    "start_time": "2022-06-09T15:29:21.426Z"
   },
   {
    "duration": 270,
    "start_time": "2022-06-09T15:29:29.638Z"
   },
   {
    "duration": 4,
    "start_time": "2022-06-09T15:31:26.326Z"
   },
   {
    "duration": 63,
    "start_time": "2022-06-09T15:31:26.332Z"
   },
   {
    "duration": 6,
    "start_time": "2022-06-09T15:31:26.397Z"
   },
   {
    "duration": 19,
    "start_time": "2022-06-09T15:31:26.404Z"
   },
   {
    "duration": 14,
    "start_time": "2022-06-09T15:31:26.425Z"
   },
   {
    "duration": 213,
    "start_time": "2022-06-09T15:31:26.440Z"
   },
   {
    "duration": 701,
    "start_time": "2022-06-09T15:31:26.658Z"
   },
   {
    "duration": 190,
    "start_time": "2022-06-09T15:31:27.360Z"
   },
   {
    "duration": 367,
    "start_time": "2022-06-09T15:31:27.558Z"
   },
   {
    "duration": 276,
    "start_time": "2022-06-09T15:31:27.927Z"
   },
   {
    "duration": 7,
    "start_time": "2022-06-09T15:32:08.627Z"
   },
   {
    "duration": 252,
    "start_time": "2022-06-09T15:47:26.503Z"
   },
   {
    "duration": 271,
    "start_time": "2022-06-09T15:47:31.661Z"
   },
   {
    "duration": 236,
    "start_time": "2022-06-09T15:47:39.088Z"
   },
   {
    "duration": 391,
    "start_time": "2022-06-09T15:47:43.318Z"
   },
   {
    "duration": 259,
    "start_time": "2022-06-09T15:47:49.150Z"
   },
   {
    "duration": 247,
    "start_time": "2022-06-09T15:47:55.300Z"
   },
   {
    "duration": 266,
    "start_time": "2022-06-09T15:48:24.609Z"
   },
   {
    "duration": 258,
    "start_time": "2022-06-09T15:48:29.662Z"
   },
   {
    "duration": 519,
    "start_time": "2022-06-09T15:49:05.009Z"
   },
   {
    "duration": 288,
    "start_time": "2022-06-09T15:49:12.480Z"
   },
   {
    "duration": 412,
    "start_time": "2022-06-09T15:49:24.716Z"
   },
   {
    "duration": 243,
    "start_time": "2022-06-09T15:49:32.110Z"
   },
   {
    "duration": 285,
    "start_time": "2022-06-09T15:49:40.719Z"
   },
   {
    "duration": 278,
    "start_time": "2022-06-09T15:49:51.112Z"
   },
   {
    "duration": 285,
    "start_time": "2022-06-09T15:50:14.620Z"
   },
   {
    "duration": 31,
    "start_time": "2022-06-09T15:50:22.300Z"
   },
   {
    "duration": 334,
    "start_time": "2022-06-09T15:50:27.116Z"
   },
   {
    "duration": 4,
    "start_time": "2022-06-09T16:01:23.192Z"
   },
   {
    "duration": 63,
    "start_time": "2022-06-09T16:01:23.198Z"
   },
   {
    "duration": 9,
    "start_time": "2022-06-09T16:01:23.264Z"
   },
   {
    "duration": 20,
    "start_time": "2022-06-09T16:01:23.275Z"
   },
   {
    "duration": 16,
    "start_time": "2022-06-09T16:01:23.297Z"
   },
   {
    "duration": 781,
    "start_time": "2022-06-09T16:01:23.314Z"
   },
   {
    "duration": 187,
    "start_time": "2022-06-09T16:01:24.097Z"
   },
   {
    "duration": 502,
    "start_time": "2022-06-09T16:01:24.286Z"
   },
   {
    "duration": 320,
    "start_time": "2022-06-09T16:01:24.790Z"
   },
   {
    "duration": 4,
    "start_time": "2022-06-09T16:01:25.112Z"
   },
   {
    "duration": 25,
    "start_time": "2022-06-09T16:01:25.117Z"
   },
   {
    "duration": 19,
    "start_time": "2022-06-09T16:01:41.199Z"
   },
   {
    "duration": 4,
    "start_time": "2022-06-09T16:01:48.255Z"
   },
   {
    "duration": 58,
    "start_time": "2022-06-09T16:01:48.260Z"
   },
   {
    "duration": 6,
    "start_time": "2022-06-09T16:01:48.320Z"
   },
   {
    "duration": 20,
    "start_time": "2022-06-09T16:01:48.328Z"
   },
   {
    "duration": 15,
    "start_time": "2022-06-09T16:01:48.349Z"
   },
   {
    "duration": 676,
    "start_time": "2022-06-09T16:01:48.365Z"
   },
   {
    "duration": 202,
    "start_time": "2022-06-09T16:01:49.043Z"
   },
   {
    "duration": 287,
    "start_time": "2022-06-09T16:01:49.247Z"
   },
   {
    "duration": 306,
    "start_time": "2022-06-09T16:01:49.537Z"
   },
   {
    "duration": 4,
    "start_time": "2022-06-09T16:01:49.844Z"
   },
   {
    "duration": 20,
    "start_time": "2022-06-09T16:02:05.117Z"
   },
   {
    "duration": 10,
    "start_time": "2022-06-09T16:11:42.041Z"
   },
   {
    "duration": 10,
    "start_time": "2022-06-09T16:11:51.089Z"
   },
   {
    "duration": 11,
    "start_time": "2022-06-09T16:12:16.889Z"
   },
   {
    "duration": 11,
    "start_time": "2022-06-09T16:13:39.341Z"
   },
   {
    "duration": 18,
    "start_time": "2022-06-09T16:15:52.728Z"
   },
   {
    "duration": 975,
    "start_time": "2022-06-09T16:15:57.788Z"
   },
   {
    "duration": 175228,
    "start_time": "2022-06-09T16:16:25.141Z"
   },
   {
    "duration": 1628,
    "start_time": "2022-06-09T16:20:18.645Z"
   },
   {
    "duration": 266663,
    "start_time": "2022-06-09T16:20:50.818Z"
   },
   {
    "duration": 66,
    "start_time": "2022-06-09T16:26:03.831Z"
   },
   {
    "duration": 101661,
    "start_time": "2022-06-09T16:26:23.006Z"
   },
   {
    "duration": 957,
    "start_time": "2022-06-09T16:28:50.297Z"
   },
   {
    "duration": 957,
    "start_time": "2022-06-09T16:29:23.802Z"
   },
   {
    "duration": 8,
    "start_time": "2022-06-09T16:30:17.310Z"
   },
   {
    "duration": 11,
    "start_time": "2022-06-09T16:30:36.808Z"
   },
   {
    "duration": 1955,
    "start_time": "2022-06-10T08:24:03.787Z"
   },
   {
    "duration": 183,
    "start_time": "2022-06-10T08:24:05.745Z"
   },
   {
    "duration": 19,
    "start_time": "2022-06-10T08:24:05.930Z"
   },
   {
    "duration": 46,
    "start_time": "2022-06-10T08:24:05.951Z"
   },
   {
    "duration": 25,
    "start_time": "2022-06-10T08:24:06.001Z"
   },
   {
    "duration": 997,
    "start_time": "2022-06-10T08:24:06.028Z"
   },
   {
    "duration": 218,
    "start_time": "2022-06-10T08:24:07.026Z"
   },
   {
    "duration": 408,
    "start_time": "2022-06-10T08:24:07.246Z"
   },
   {
    "duration": 404,
    "start_time": "2022-06-10T08:24:07.656Z"
   },
   {
    "duration": 9,
    "start_time": "2022-06-10T08:24:08.066Z"
   },
   {
    "duration": 154,
    "start_time": "2022-06-10T08:24:08.083Z"
   },
   {
    "duration": 0,
    "start_time": "2022-06-10T08:24:08.239Z"
   },
   {
    "duration": 8,
    "start_time": "2022-06-10T08:25:26.600Z"
   },
   {
    "duration": 10,
    "start_time": "2022-06-10T08:25:34.294Z"
   },
   {
    "duration": 27,
    "start_time": "2022-06-10T08:25:42.051Z"
   },
   {
    "duration": 13,
    "start_time": "2022-06-10T08:25:56.118Z"
   },
   {
    "duration": 33,
    "start_time": "2022-06-10T08:26:23.504Z"
   },
   {
    "duration": 13,
    "start_time": "2022-06-10T08:26:28.329Z"
   },
   {
    "duration": 14,
    "start_time": "2022-06-10T08:27:02.499Z"
   },
   {
    "duration": 19,
    "start_time": "2022-06-10T08:27:12.206Z"
   },
   {
    "duration": 21,
    "start_time": "2022-06-10T08:27:32.146Z"
   },
   {
    "duration": 8,
    "start_time": "2022-06-10T08:33:21.459Z"
   },
   {
    "duration": 15,
    "start_time": "2022-06-10T08:33:24.075Z"
   },
   {
    "duration": 14,
    "start_time": "2022-06-10T08:33:40.592Z"
   },
   {
    "duration": 5,
    "start_time": "2022-06-10T08:33:47.793Z"
   },
   {
    "duration": 83,
    "start_time": "2022-06-10T08:33:47.799Z"
   },
   {
    "duration": 7,
    "start_time": "2022-06-10T08:33:47.883Z"
   },
   {
    "duration": 13,
    "start_time": "2022-06-10T08:33:47.891Z"
   },
   {
    "duration": 17,
    "start_time": "2022-06-10T08:33:47.906Z"
   },
   {
    "duration": 857,
    "start_time": "2022-06-10T08:33:47.924Z"
   },
   {
    "duration": 204,
    "start_time": "2022-06-10T08:33:48.782Z"
   },
   {
    "duration": 336,
    "start_time": "2022-06-10T08:33:48.988Z"
   },
   {
    "duration": 357,
    "start_time": "2022-06-10T08:33:49.326Z"
   },
   {
    "duration": 6,
    "start_time": "2022-06-10T08:33:49.684Z"
   },
   {
    "duration": 21,
    "start_time": "2022-06-10T08:33:49.691Z"
   },
   {
    "duration": 14,
    "start_time": "2022-06-10T08:35:27.300Z"
   },
   {
    "duration": 13,
    "start_time": "2022-06-10T08:36:17.638Z"
   },
   {
    "duration": 4,
    "start_time": "2022-06-10T08:37:00.095Z"
   },
   {
    "duration": 21,
    "start_time": "2022-06-10T08:37:03.234Z"
   },
   {
    "duration": 13,
    "start_time": "2022-06-10T08:37:51.315Z"
   },
   {
    "duration": 4,
    "start_time": "2022-06-10T08:37:57.013Z"
   },
   {
    "duration": 14,
    "start_time": "2022-06-10T08:38:06.378Z"
   },
   {
    "duration": 6,
    "start_time": "2022-06-10T08:38:13.379Z"
   },
   {
    "duration": 22,
    "start_time": "2022-06-10T08:38:15.447Z"
   },
   {
    "duration": 19,
    "start_time": "2022-06-10T08:39:01.910Z"
   },
   {
    "duration": 5,
    "start_time": "2022-06-10T08:39:29.074Z"
   },
   {
    "duration": 13,
    "start_time": "2022-06-10T08:39:31.332Z"
   },
   {
    "duration": 4,
    "start_time": "2022-06-10T08:40:06.744Z"
   },
   {
    "duration": 29,
    "start_time": "2022-06-10T08:40:09.008Z"
   },
   {
    "duration": 17,
    "start_time": "2022-06-10T08:40:19.780Z"
   },
   {
    "duration": 4,
    "start_time": "2022-06-10T08:40:28.239Z"
   },
   {
    "duration": 17,
    "start_time": "2022-06-10T08:40:30.578Z"
   },
   {
    "duration": 6,
    "start_time": "2022-06-10T08:40:48.315Z"
   },
   {
    "duration": 18,
    "start_time": "2022-06-10T08:41:00.437Z"
   },
   {
    "duration": 31,
    "start_time": "2022-06-10T08:41:06.044Z"
   },
   {
    "duration": 8,
    "start_time": "2022-06-10T08:41:14.956Z"
   },
   {
    "duration": 82,
    "start_time": "2022-06-10T08:41:14.967Z"
   },
   {
    "duration": 6,
    "start_time": "2022-06-10T08:41:15.051Z"
   },
   {
    "duration": 36,
    "start_time": "2022-06-10T08:41:15.066Z"
   },
   {
    "duration": 17,
    "start_time": "2022-06-10T08:41:15.103Z"
   },
   {
    "duration": 883,
    "start_time": "2022-06-10T08:41:15.121Z"
   },
   {
    "duration": 217,
    "start_time": "2022-06-10T08:41:16.005Z"
   },
   {
    "duration": 371,
    "start_time": "2022-06-10T08:41:16.224Z"
   },
   {
    "duration": 350,
    "start_time": "2022-06-10T08:41:16.597Z"
   },
   {
    "duration": 12,
    "start_time": "2022-06-10T08:41:16.949Z"
   },
   {
    "duration": 60,
    "start_time": "2022-06-10T08:41:16.962Z"
   },
   {
    "duration": 17,
    "start_time": "2022-06-10T08:41:44.327Z"
   },
   {
    "duration": 17,
    "start_time": "2022-06-10T08:41:50.149Z"
   },
   {
    "duration": 17,
    "start_time": "2022-06-10T08:41:56.620Z"
   },
   {
    "duration": 19,
    "start_time": "2022-06-10T08:42:08.618Z"
   },
   {
    "duration": 19,
    "start_time": "2022-06-10T08:42:18.533Z"
   },
   {
    "duration": 4,
    "start_time": "2022-06-10T08:42:23.712Z"
   },
   {
    "duration": 86,
    "start_time": "2022-06-10T08:42:23.719Z"
   },
   {
    "duration": 6,
    "start_time": "2022-06-10T08:42:23.807Z"
   },
   {
    "duration": 18,
    "start_time": "2022-06-10T08:42:23.815Z"
   },
   {
    "duration": 31,
    "start_time": "2022-06-10T08:42:23.835Z"
   },
   {
    "duration": 875,
    "start_time": "2022-06-10T08:42:23.868Z"
   },
   {
    "duration": 232,
    "start_time": "2022-06-10T08:42:24.745Z"
   },
   {
    "duration": 346,
    "start_time": "2022-06-10T08:42:24.981Z"
   },
   {
    "duration": 361,
    "start_time": "2022-06-10T08:42:25.329Z"
   },
   {
    "duration": 4,
    "start_time": "2022-06-10T08:42:25.691Z"
   },
   {
    "duration": 45,
    "start_time": "2022-06-10T08:42:25.697Z"
   },
   {
    "duration": 5,
    "start_time": "2022-06-10T08:49:33.289Z"
   },
   {
    "duration": 4,
    "start_time": "2022-06-10T08:49:43.444Z"
   },
   {
    "duration": 24,
    "start_time": "2022-06-10T08:49:45.451Z"
   },
   {
    "duration": 4,
    "start_time": "2022-06-10T08:49:53.116Z"
   },
   {
    "duration": 74,
    "start_time": "2022-06-10T08:49:53.121Z"
   },
   {
    "duration": 8,
    "start_time": "2022-06-10T08:49:53.197Z"
   },
   {
    "duration": 20,
    "start_time": "2022-06-10T08:49:53.207Z"
   },
   {
    "duration": 45,
    "start_time": "2022-06-10T08:49:53.230Z"
   },
   {
    "duration": 935,
    "start_time": "2022-06-10T08:49:53.283Z"
   },
   {
    "duration": 207,
    "start_time": "2022-06-10T08:49:54.219Z"
   },
   {
    "duration": 355,
    "start_time": "2022-06-10T08:49:54.427Z"
   },
   {
    "duration": 392,
    "start_time": "2022-06-10T08:49:54.786Z"
   },
   {
    "duration": 7,
    "start_time": "2022-06-10T08:49:55.180Z"
   },
   {
    "duration": 28,
    "start_time": "2022-06-10T08:49:55.189Z"
   },
   {
    "duration": 22,
    "start_time": "2022-06-10T08:50:04.682Z"
   },
   {
    "duration": 5,
    "start_time": "2022-06-10T08:51:32.050Z"
   },
   {
    "duration": 17,
    "start_time": "2022-06-10T08:51:35.482Z"
   },
   {
    "duration": 28,
    "start_time": "2022-06-10T08:51:49.206Z"
   },
   {
    "duration": 339,
    "start_time": "2022-06-10T08:53:18.953Z"
   },
   {
    "duration": 355,
    "start_time": "2022-06-10T08:53:36.647Z"
   },
   {
    "duration": 4,
    "start_time": "2022-06-10T08:53:46.604Z"
   },
   {
    "duration": 85,
    "start_time": "2022-06-10T08:53:46.610Z"
   },
   {
    "duration": 7,
    "start_time": "2022-06-10T08:53:46.697Z"
   },
   {
    "duration": 16,
    "start_time": "2022-06-10T08:53:46.706Z"
   },
   {
    "duration": 38,
    "start_time": "2022-06-10T08:53:46.725Z"
   },
   {
    "duration": 925,
    "start_time": "2022-06-10T08:53:46.764Z"
   },
   {
    "duration": 209,
    "start_time": "2022-06-10T08:53:47.691Z"
   },
   {
    "duration": 345,
    "start_time": "2022-06-10T08:53:47.901Z"
   },
   {
    "duration": 377,
    "start_time": "2022-06-10T08:53:48.248Z"
   },
   {
    "duration": 4,
    "start_time": "2022-06-10T08:53:48.626Z"
   },
   {
    "duration": 32,
    "start_time": "2022-06-10T08:53:53.239Z"
   },
   {
    "duration": 15,
    "start_time": "2022-06-10T08:54:10.683Z"
   },
   {
    "duration": 16,
    "start_time": "2022-06-10T08:54:17.084Z"
   },
   {
    "duration": 33,
    "start_time": "2022-06-10T08:55:33.549Z"
   },
   {
    "duration": 11,
    "start_time": "2022-06-10T08:55:49.594Z"
   },
   {
    "duration": 29,
    "start_time": "2022-06-10T08:55:57.350Z"
   },
   {
    "duration": 28,
    "start_time": "2022-06-10T09:06:09.844Z"
   },
   {
    "duration": 22,
    "start_time": "2022-06-10T09:06:15.370Z"
   },
   {
    "duration": 21,
    "start_time": "2022-06-10T09:06:20.391Z"
   },
   {
    "duration": 5,
    "start_time": "2022-06-10T09:06:25.885Z"
   },
   {
    "duration": 58,
    "start_time": "2022-06-10T09:06:25.893Z"
   },
   {
    "duration": 10,
    "start_time": "2022-06-10T09:06:25.953Z"
   },
   {
    "duration": 23,
    "start_time": "2022-06-10T09:06:25.965Z"
   },
   {
    "duration": 17,
    "start_time": "2022-06-10T09:06:25.990Z"
   },
   {
    "duration": 772,
    "start_time": "2022-06-10T09:06:26.009Z"
   },
   {
    "duration": 215,
    "start_time": "2022-06-10T09:06:26.782Z"
   },
   {
    "duration": 321,
    "start_time": "2022-06-10T09:06:26.999Z"
   },
   {
    "duration": 470,
    "start_time": "2022-06-10T09:06:27.322Z"
   },
   {
    "duration": 4,
    "start_time": "2022-06-10T09:06:27.794Z"
   },
   {
    "duration": 24,
    "start_time": "2022-06-10T09:06:27.799Z"
   },
   {
    "duration": 15,
    "start_time": "2022-06-10T09:06:35.211Z"
   },
   {
    "duration": 31,
    "start_time": "2022-06-10T09:06:40.858Z"
   },
   {
    "duration": 4,
    "start_time": "2022-06-10T09:07:13.011Z"
   },
   {
    "duration": 18,
    "start_time": "2022-06-10T09:07:16.302Z"
   },
   {
    "duration": 21,
    "start_time": "2022-06-10T09:07:20.300Z"
   },
   {
    "duration": 20,
    "start_time": "2022-06-10T09:07:27.389Z"
   },
   {
    "duration": 14,
    "start_time": "2022-06-10T09:07:38.523Z"
   },
   {
    "duration": 24,
    "start_time": "2022-06-10T09:07:43.735Z"
   },
   {
    "duration": 4,
    "start_time": "2022-06-10T09:19:45.315Z"
   },
   {
    "duration": 11,
    "start_time": "2022-06-10T09:21:03.985Z"
   },
   {
    "duration": 5,
    "start_time": "2022-06-10T09:21:10.918Z"
   },
   {
    "duration": 65,
    "start_time": "2022-06-10T09:21:10.925Z"
   },
   {
    "duration": 8,
    "start_time": "2022-06-10T09:21:10.992Z"
   },
   {
    "duration": 14,
    "start_time": "2022-06-10T09:21:11.002Z"
   },
   {
    "duration": 49,
    "start_time": "2022-06-10T09:21:11.018Z"
   },
   {
    "duration": 723,
    "start_time": "2022-06-10T09:21:11.070Z"
   },
   {
    "duration": 238,
    "start_time": "2022-06-10T09:21:11.795Z"
   },
   {
    "duration": 354,
    "start_time": "2022-06-10T09:21:12.035Z"
   },
   {
    "duration": 337,
    "start_time": "2022-06-10T09:21:12.391Z"
   },
   {
    "duration": 5,
    "start_time": "2022-06-10T09:21:12.729Z"
   },
   {
    "duration": 41,
    "start_time": "2022-06-10T09:21:12.735Z"
   },
   {
    "duration": 10,
    "start_time": "2022-06-10T09:21:12.778Z"
   },
   {
    "duration": 0,
    "start_time": "2022-06-10T09:21:12.790Z"
   },
   {
    "duration": 0,
    "start_time": "2022-06-10T09:21:12.792Z"
   },
   {
    "duration": 1888,
    "start_time": "2022-06-10T11:29:56.031Z"
   },
   {
    "duration": 147,
    "start_time": "2022-06-10T11:29:57.921Z"
   },
   {
    "duration": 11,
    "start_time": "2022-06-10T11:29:58.070Z"
   },
   {
    "duration": 14,
    "start_time": "2022-06-10T11:29:58.083Z"
   },
   {
    "duration": 18,
    "start_time": "2022-06-10T11:29:58.100Z"
   },
   {
    "duration": 898,
    "start_time": "2022-06-10T11:29:58.119Z"
   },
   {
    "duration": 223,
    "start_time": "2022-06-10T11:29:59.019Z"
   },
   {
    "duration": 358,
    "start_time": "2022-06-10T11:29:59.245Z"
   },
   {
    "duration": 346,
    "start_time": "2022-06-10T11:29:59.606Z"
   },
   {
    "duration": 5,
    "start_time": "2022-06-10T11:29:59.953Z"
   },
   {
    "duration": 150,
    "start_time": "2022-06-10T11:29:59.961Z"
   },
   {
    "duration": 0,
    "start_time": "2022-06-10T11:30:00.113Z"
   },
   {
    "duration": 0,
    "start_time": "2022-06-10T11:30:00.114Z"
   },
   {
    "duration": 0,
    "start_time": "2022-06-10T11:30:00.115Z"
   },
   {
    "duration": 0,
    "start_time": "2022-06-10T11:30:00.116Z"
   },
   {
    "duration": 0,
    "start_time": "2022-06-10T11:30:00.118Z"
   },
   {
    "duration": 0,
    "start_time": "2022-06-10T11:30:00.119Z"
   },
   {
    "duration": 0,
    "start_time": "2022-06-10T11:30:00.120Z"
   },
   {
    "duration": 0,
    "start_time": "2022-06-10T11:30:00.122Z"
   },
   {
    "duration": 0,
    "start_time": "2022-06-10T11:30:00.123Z"
   },
   {
    "duration": 0,
    "start_time": "2022-06-10T11:30:00.124Z"
   },
   {
    "duration": 0,
    "start_time": "2022-06-10T11:30:00.126Z"
   },
   {
    "duration": 0,
    "start_time": "2022-06-10T11:30:00.127Z"
   },
   {
    "duration": 0,
    "start_time": "2022-06-10T11:30:00.129Z"
   },
   {
    "duration": 0,
    "start_time": "2022-06-10T11:30:00.130Z"
   },
   {
    "duration": 44,
    "start_time": "2022-06-10T11:31:01.788Z"
   },
   {
    "duration": 5,
    "start_time": "2022-06-10T11:31:10.293Z"
   },
   {
    "duration": 74,
    "start_time": "2022-06-10T11:31:10.300Z"
   },
   {
    "duration": 8,
    "start_time": "2022-06-10T11:31:10.376Z"
   },
   {
    "duration": 24,
    "start_time": "2022-06-10T11:31:10.386Z"
   },
   {
    "duration": 18,
    "start_time": "2022-06-10T11:31:10.412Z"
   },
   {
    "duration": 935,
    "start_time": "2022-06-10T11:31:10.432Z"
   },
   {
    "duration": 249,
    "start_time": "2022-06-10T11:31:11.370Z"
   },
   {
    "duration": 440,
    "start_time": "2022-06-10T11:31:11.621Z"
   },
   {
    "duration": 461,
    "start_time": "2022-06-10T11:31:12.065Z"
   },
   {
    "duration": 5,
    "start_time": "2022-06-10T11:31:12.529Z"
   },
   {
    "duration": 43,
    "start_time": "2022-06-10T11:31:12.536Z"
   },
   {
    "duration": 5,
    "start_time": "2022-06-10T11:32:20.711Z"
   },
   {
    "duration": 23,
    "start_time": "2022-06-10T11:32:23.247Z"
   },
   {
    "duration": 26,
    "start_time": "2022-06-10T11:32:33.171Z"
   },
   {
    "duration": 1605,
    "start_time": "2022-06-10T11:32:59.819Z"
   },
   {
    "duration": 76,
    "start_time": "2022-06-10T11:33:01.426Z"
   },
   {
    "duration": 9,
    "start_time": "2022-06-10T11:33:01.503Z"
   },
   {
    "duration": 35,
    "start_time": "2022-06-10T11:33:01.513Z"
   },
   {
    "duration": 40,
    "start_time": "2022-06-10T11:33:01.551Z"
   },
   {
    "duration": 999,
    "start_time": "2022-06-10T11:33:01.593Z"
   },
   {
    "duration": 211,
    "start_time": "2022-06-10T11:33:02.594Z"
   },
   {
    "duration": 350,
    "start_time": "2022-06-10T11:33:02.807Z"
   },
   {
    "duration": 359,
    "start_time": "2022-06-10T11:33:03.160Z"
   },
   {
    "duration": 5,
    "start_time": "2022-06-10T11:33:03.521Z"
   },
   {
    "duration": 162,
    "start_time": "2022-06-10T11:33:03.527Z"
   },
   {
    "duration": 0,
    "start_time": "2022-06-10T11:33:03.691Z"
   },
   {
    "duration": 0,
    "start_time": "2022-06-10T11:33:03.692Z"
   },
   {
    "duration": 0,
    "start_time": "2022-06-10T11:33:03.693Z"
   },
   {
    "duration": 0,
    "start_time": "2022-06-10T11:33:03.694Z"
   },
   {
    "duration": 0,
    "start_time": "2022-06-10T11:33:03.695Z"
   },
   {
    "duration": 0,
    "start_time": "2022-06-10T11:33:03.696Z"
   },
   {
    "duration": 0,
    "start_time": "2022-06-10T11:33:03.698Z"
   },
   {
    "duration": 0,
    "start_time": "2022-06-10T11:33:03.698Z"
   },
   {
    "duration": 0,
    "start_time": "2022-06-10T11:33:03.700Z"
   },
   {
    "duration": 0,
    "start_time": "2022-06-10T11:33:03.701Z"
   },
   {
    "duration": 0,
    "start_time": "2022-06-10T11:33:03.703Z"
   },
   {
    "duration": 0,
    "start_time": "2022-06-10T11:33:03.703Z"
   },
   {
    "duration": 0,
    "start_time": "2022-06-10T11:33:03.705Z"
   },
   {
    "duration": 0,
    "start_time": "2022-06-10T11:33:03.706Z"
   },
   {
    "duration": 1592,
    "start_time": "2022-06-10T11:33:18.896Z"
   },
   {
    "duration": 63,
    "start_time": "2022-06-10T11:33:20.490Z"
   },
   {
    "duration": 13,
    "start_time": "2022-06-10T11:33:20.555Z"
   },
   {
    "duration": 28,
    "start_time": "2022-06-10T11:33:20.570Z"
   },
   {
    "duration": 25,
    "start_time": "2022-06-10T11:33:20.602Z"
   },
   {
    "duration": 952,
    "start_time": "2022-06-10T11:33:20.629Z"
   },
   {
    "duration": 261,
    "start_time": "2022-06-10T11:33:21.583Z"
   },
   {
    "duration": 443,
    "start_time": "2022-06-10T11:33:21.846Z"
   },
   {
    "duration": 365,
    "start_time": "2022-06-10T11:33:22.291Z"
   },
   {
    "duration": 6,
    "start_time": "2022-06-10T11:33:22.659Z"
   },
   {
    "duration": 34,
    "start_time": "2022-06-10T11:33:22.668Z"
   },
   {
    "duration": 11,
    "start_time": "2022-06-10T11:33:22.705Z"
   },
   {
    "duration": 6,
    "start_time": "2022-06-10T11:33:22.718Z"
   },
   {
    "duration": 38,
    "start_time": "2022-06-10T11:33:22.727Z"
   },
   {
    "duration": 1400,
    "start_time": "2022-06-10T11:33:22.774Z"
   },
   {
    "duration": 17,
    "start_time": "2022-06-10T11:33:24.176Z"
   },
   {
    "duration": 218661,
    "start_time": "2022-06-10T11:33:24.195Z"
   },
   {
    "duration": 1257,
    "start_time": "2022-06-10T11:37:02.859Z"
   },
   {
    "duration": 2119,
    "start_time": "2022-06-10T11:37:04.118Z"
   },
   {
    "duration": 145126,
    "start_time": "2022-06-10T11:37:06.238Z"
   },
   {
    "duration": 79744,
    "start_time": "2022-06-10T11:39:31.366Z"
   },
   {
    "duration": 5,
    "start_time": "2022-06-10T11:40:51.159Z"
   },
   {
    "duration": 18,
    "start_time": "2022-06-10T11:40:51.166Z"
   },
   {
    "duration": 1141,
    "start_time": "2022-06-10T11:40:51.186Z"
   },
   {
    "duration": 287,
    "start_time": "2022-06-10T11:40:52.329Z"
   },
   {
    "duration": 18,
    "start_time": "2022-06-10T12:12:51.565Z"
   },
   {
    "duration": 206422,
    "start_time": "2022-06-10T12:14:41.162Z"
   },
   {
    "duration": 1323,
    "start_time": "2022-06-10T12:18:36.567Z"
   },
   {
    "duration": 17,
    "start_time": "2022-06-10T12:18:41.218Z"
   },
   {
    "duration": 301535,
    "start_time": "2022-06-10T12:18:44.412Z"
   },
   {
    "duration": 1906,
    "start_time": "2022-06-10T12:24:50.196Z"
   },
   {
    "duration": 1579,
    "start_time": "2022-06-10T12:25:00.265Z"
   },
   {
    "duration": 732,
    "start_time": "2022-06-10T12:25:08.439Z"
   },
   {
    "duration": 689,
    "start_time": "2022-06-10T12:27:45.311Z"
   },
   {
    "duration": 16,
    "start_time": "2022-06-10T12:28:18.488Z"
   },
   {
    "duration": 41,
    "start_time": "2022-06-10T12:28:27.146Z"
   },
   {
    "duration": 39,
    "start_time": "2022-06-10T12:28:32.983Z"
   },
   {
    "duration": 311,
    "start_time": "2022-06-10T12:28:36.988Z"
   },
   {
    "duration": 175,
    "start_time": "2022-06-10T12:28:45.748Z"
   },
   {
    "duration": 262,
    "start_time": "2022-06-10T12:28:51.126Z"
   },
   {
    "duration": 279,
    "start_time": "2022-06-10T12:29:00.042Z"
   },
   {
    "duration": 415,
    "start_time": "2022-06-10T12:29:52.418Z"
   },
   {
    "duration": 351,
    "start_time": "2022-06-10T12:30:22.895Z"
   },
   {
    "duration": 320,
    "start_time": "2022-06-10T12:30:34.586Z"
   },
   {
    "duration": 68468,
    "start_time": "2022-06-10T12:30:42.141Z"
   },
   {
    "duration": 263,
    "start_time": "2022-06-10T12:36:15.494Z"
   },
   {
    "duration": 250,
    "start_time": "2022-06-10T12:36:40.312Z"
   },
   {
    "duration": 277,
    "start_time": "2022-06-10T12:38:31.376Z"
   },
   {
    "duration": 2312,
    "start_time": "2022-06-10T12:38:37.287Z"
   },
   {
    "duration": 153,
    "start_time": "2022-06-10T12:38:39.601Z"
   },
   {
    "duration": 14,
    "start_time": "2022-06-10T12:38:39.756Z"
   },
   {
    "duration": 16,
    "start_time": "2022-06-10T12:38:39.772Z"
   },
   {
    "duration": 19,
    "start_time": "2022-06-10T12:38:39.791Z"
   },
   {
    "duration": 932,
    "start_time": "2022-06-10T12:38:39.811Z"
   },
   {
    "duration": 301,
    "start_time": "2022-06-10T12:38:40.744Z"
   },
   {
    "duration": 344,
    "start_time": "2022-06-10T12:38:41.047Z"
   },
   {
    "duration": 341,
    "start_time": "2022-06-10T12:38:41.392Z"
   },
   {
    "duration": 6,
    "start_time": "2022-06-10T12:38:41.735Z"
   },
   {
    "duration": 41,
    "start_time": "2022-06-10T12:38:41.743Z"
   },
   {
    "duration": 12,
    "start_time": "2022-06-10T12:38:41.786Z"
   },
   {
    "duration": 17,
    "start_time": "2022-06-10T12:38:41.800Z"
   },
   {
    "duration": 22,
    "start_time": "2022-06-10T12:38:41.819Z"
   },
   {
    "duration": 1504,
    "start_time": "2022-06-10T12:38:41.844Z"
   },
   {
    "duration": 30,
    "start_time": "2022-06-10T12:38:43.350Z"
   },
   {
    "duration": 67242,
    "start_time": "2022-06-10T12:38:43.383Z"
   },
   {
    "duration": 287,
    "start_time": "2022-06-10T12:39:50.626Z"
   },
   {
    "duration": 2388,
    "start_time": "2022-06-10T12:39:50.915Z"
   },
   {
    "duration": 351671,
    "start_time": "2022-06-10T12:39:53.305Z"
   },
   {
    "duration": 84087,
    "start_time": "2022-06-10T12:45:44.978Z"
   },
   {
    "duration": 9,
    "start_time": "2022-06-10T12:47:09.067Z"
   },
   {
    "duration": 27,
    "start_time": "2022-06-10T12:47:09.079Z"
   },
   {
    "duration": 278,
    "start_time": "2022-06-10T12:47:09.109Z"
   },
   {
    "duration": 323,
    "start_time": "2022-06-10T12:47:09.390Z"
   },
   {
    "duration": 13,
    "start_time": "2022-06-10T12:47:54.628Z"
   },
   {
    "duration": 290,
    "start_time": "2022-06-10T12:48:10.627Z"
   },
   {
    "duration": 2373,
    "start_time": "2022-06-10T12:54:14.878Z"
   },
   {
    "duration": 102151,
    "start_time": "2022-06-10T12:54:22.318Z"
   },
   {
    "duration": 96298,
    "start_time": "2022-06-10T12:56:23.387Z"
   },
   {
    "duration": 20,
    "start_time": "2022-06-10T13:02:05.310Z"
   },
   {
    "duration": 20,
    "start_time": "2022-06-10T13:02:29.414Z"
   },
   {
    "duration": 6,
    "start_time": "2022-06-10T13:02:59.791Z"
   },
   {
    "duration": 5,
    "start_time": "2022-06-10T13:03:10.086Z"
   },
   {
    "duration": 47,
    "start_time": "2022-06-11T08:12:30.543Z"
   },
   {
    "duration": 1809,
    "start_time": "2022-06-11T08:12:40.557Z"
   },
   {
    "duration": 245,
    "start_time": "2022-06-11T08:12:42.368Z"
   },
   {
    "duration": 11,
    "start_time": "2022-06-11T08:12:42.615Z"
   },
   {
    "duration": 15,
    "start_time": "2022-06-11T08:12:42.628Z"
   },
   {
    "duration": 26,
    "start_time": "2022-06-11T08:12:42.645Z"
   },
   {
    "duration": 809,
    "start_time": "2022-06-11T08:12:42.672Z"
   },
   {
    "duration": 189,
    "start_time": "2022-06-11T08:12:43.483Z"
   },
   {
    "duration": 322,
    "start_time": "2022-06-11T08:12:43.673Z"
   },
   {
    "duration": 296,
    "start_time": "2022-06-11T08:12:43.997Z"
   },
   {
    "duration": 4,
    "start_time": "2022-06-11T08:12:44.296Z"
   },
   {
    "duration": 42,
    "start_time": "2022-06-11T08:12:44.302Z"
   },
   {
    "duration": 11,
    "start_time": "2022-06-11T08:12:44.348Z"
   },
   {
    "duration": 9,
    "start_time": "2022-06-11T08:12:44.361Z"
   },
   {
    "duration": 15,
    "start_time": "2022-06-11T08:12:44.371Z"
   },
   {
    "duration": 1190,
    "start_time": "2022-06-11T08:12:44.387Z"
   },
   {
    "duration": 16,
    "start_time": "2022-06-11T08:12:45.579Z"
   },
   {
    "duration": 57026,
    "start_time": "2022-06-11T08:12:45.597Z"
   },
   {
    "duration": 229,
    "start_time": "2022-06-11T08:13:42.624Z"
   },
   {
    "duration": 1969,
    "start_time": "2022-06-11T08:13:42.855Z"
   },
   {
    "duration": 255522,
    "start_time": "2022-06-11T08:13:44.826Z"
   },
   {
    "duration": 98542,
    "start_time": "2022-06-11T08:18:00.351Z"
   },
   {
    "duration": 6,
    "start_time": "2022-06-11T08:19:38.895Z"
   },
   {
    "duration": 19,
    "start_time": "2022-06-11T08:19:38.927Z"
   },
   {
    "duration": 357,
    "start_time": "2022-06-11T08:19:38.947Z"
   },
   {
    "duration": 1850,
    "start_time": "2022-06-11T08:19:39.306Z"
   },
   {
    "duration": 41583,
    "start_time": "2022-06-11T08:19:41.158Z"
   },
   {
    "duration": 53418,
    "start_time": "2022-06-11T08:20:22.745Z"
   },
   {
    "duration": 311,
    "start_time": "2022-06-11T08:21:16.166Z"
   },
   {
    "duration": 8,
    "start_time": "2022-06-11T08:21:16.479Z"
   },
   {
    "duration": 244,
    "start_time": "2022-06-11T08:21:16.489Z"
   },
   {
    "duration": 221,
    "start_time": "2022-06-11T08:22:15.275Z"
   },
   {
    "duration": 974,
    "start_time": "2022-06-11T08:22:31.976Z"
   },
   {
    "duration": 11,
    "start_time": "2022-06-11T08:23:22.419Z"
   },
   {
    "duration": 8,
    "start_time": "2022-06-11T08:23:51.647Z"
   },
   {
    "duration": 9,
    "start_time": "2022-06-11T08:24:09.723Z"
   },
   {
    "duration": 11,
    "start_time": "2022-06-11T08:24:26.943Z"
   },
   {
    "duration": 14,
    "start_time": "2022-06-11T08:26:28.074Z"
   },
   {
    "duration": 15,
    "start_time": "2022-06-11T08:27:12.582Z"
   },
   {
    "duration": 17,
    "start_time": "2022-06-11T08:28:00.274Z"
   },
   {
    "duration": 7,
    "start_time": "2022-06-11T08:28:07.283Z"
   },
   {
    "duration": 6,
    "start_time": "2022-06-11T08:28:37.106Z"
   },
   {
    "duration": 7,
    "start_time": "2022-06-11T08:30:03.504Z"
   },
   {
    "duration": 8,
    "start_time": "2022-06-11T08:30:42.242Z"
   },
   {
    "duration": 8,
    "start_time": "2022-06-11T08:30:51.680Z"
   },
   {
    "duration": 1120,
    "start_time": "2022-06-11T08:31:17.068Z"
   },
   {
    "duration": 169924,
    "start_time": "2022-06-11T08:35:45.619Z"
   },
   {
    "duration": 9,
    "start_time": "2022-06-11T08:38:35.545Z"
   },
   {
    "duration": 8,
    "start_time": "2022-06-11T08:38:37.385Z"
   },
   {
    "duration": 244,
    "start_time": "2022-06-11T08:39:06.247Z"
   },
   {
    "duration": 16,
    "start_time": "2022-06-11T08:40:50.339Z"
   },
   {
    "duration": 7,
    "start_time": "2022-06-11T08:42:58.575Z"
   },
   {
    "duration": 10,
    "start_time": "2022-06-11T08:43:11.157Z"
   },
   {
    "duration": 135,
    "start_time": "2022-06-11T08:43:19.906Z"
   },
   {
    "duration": 262,
    "start_time": "2022-06-11T08:44:00.150Z"
   },
   {
    "duration": 8,
    "start_time": "2022-06-11T08:44:31.881Z"
   },
   {
    "duration": 275,
    "start_time": "2022-06-11T08:44:58.877Z"
   },
   {
    "duration": 194,
    "start_time": "2022-06-11T08:45:11.287Z"
   },
   {
    "duration": 6,
    "start_time": "2022-06-11T08:45:27.569Z"
   },
   {
    "duration": 5,
    "start_time": "2022-06-11T08:46:04.101Z"
   },
   {
    "duration": 17,
    "start_time": "2022-06-11T08:46:34.122Z"
   },
   {
    "duration": 4,
    "start_time": "2022-06-11T08:46:39.940Z"
   },
   {
    "duration": 7,
    "start_time": "2022-06-11T08:46:50.318Z"
   },
   {
    "duration": 315,
    "start_time": "2022-06-11T08:47:22.792Z"
   },
   {
    "duration": 199,
    "start_time": "2022-06-11T08:48:06.687Z"
   },
   {
    "duration": 4,
    "start_time": "2022-06-11T08:49:05.514Z"
   },
   {
    "duration": 11,
    "start_time": "2022-06-11T08:49:13.087Z"
   },
   {
    "duration": 14,
    "start_time": "2022-06-11T08:50:54.127Z"
   },
   {
    "duration": 8,
    "start_time": "2022-06-11T08:51:10.850Z"
   },
   {
    "duration": 8,
    "start_time": "2022-06-11T08:51:23.740Z"
   },
   {
    "duration": 6,
    "start_time": "2022-06-11T08:51:32.496Z"
   },
   {
    "duration": 7,
    "start_time": "2022-06-11T08:51:44.812Z"
   },
   {
    "duration": 11,
    "start_time": "2022-06-11T08:53:15.977Z"
   },
   {
    "duration": 4,
    "start_time": "2022-06-11T08:54:04.002Z"
   },
   {
    "duration": 14,
    "start_time": "2022-06-11T08:54:18.112Z"
   },
   {
    "duration": 10,
    "start_time": "2022-06-11T08:57:27.561Z"
   },
   {
    "duration": 13,
    "start_time": "2022-06-11T08:59:02.802Z"
   },
   {
    "duration": 13,
    "start_time": "2022-06-11T09:00:00.058Z"
   },
   {
    "duration": 10,
    "start_time": "2022-06-11T09:00:05.985Z"
   },
   {
    "duration": 9,
    "start_time": "2022-06-11T09:02:32.982Z"
   },
   {
    "duration": 10,
    "start_time": "2022-06-11T09:02:55.682Z"
   },
   {
    "duration": 4,
    "start_time": "2022-06-11T09:04:23.299Z"
   },
   {
    "duration": 11,
    "start_time": "2022-06-11T09:04:34.768Z"
   },
   {
    "duration": 4,
    "start_time": "2022-06-11T09:04:52.143Z"
   },
   {
    "duration": 3,
    "start_time": "2022-06-11T09:05:21.108Z"
   },
   {
    "duration": 1330,
    "start_time": "2022-06-11T09:05:57.751Z"
   },
   {
    "duration": 62,
    "start_time": "2022-06-11T09:05:59.082Z"
   },
   {
    "duration": 7,
    "start_time": "2022-06-11T09:05:59.146Z"
   },
   {
    "duration": 13,
    "start_time": "2022-06-11T09:05:59.154Z"
   },
   {
    "duration": 14,
    "start_time": "2022-06-11T09:05:59.168Z"
   },
   {
    "duration": 731,
    "start_time": "2022-06-11T09:05:59.184Z"
   },
   {
    "duration": 177,
    "start_time": "2022-06-11T09:05:59.917Z"
   },
   {
    "duration": 303,
    "start_time": "2022-06-11T09:06:00.096Z"
   },
   {
    "duration": 280,
    "start_time": "2022-06-11T09:06:00.400Z"
   },
   {
    "duration": 4,
    "start_time": "2022-06-11T09:06:00.681Z"
   },
   {
    "duration": 59,
    "start_time": "2022-06-11T09:06:00.687Z"
   },
   {
    "duration": 12,
    "start_time": "2022-06-11T09:06:00.749Z"
   },
   {
    "duration": 29,
    "start_time": "2022-06-11T09:06:00.763Z"
   },
   {
    "duration": 19,
    "start_time": "2022-06-11T09:06:00.795Z"
   },
   {
    "duration": 1135,
    "start_time": "2022-06-11T09:06:00.816Z"
   },
   {
    "duration": 17,
    "start_time": "2022-06-11T09:06:01.954Z"
   },
   {
    "duration": 54966,
    "start_time": "2022-06-11T09:06:01.974Z"
   },
   {
    "duration": 221,
    "start_time": "2022-06-11T09:06:56.942Z"
   },
   {
    "duration": 3,
    "start_time": "2022-06-11T09:06:57.165Z"
   },
   {
    "duration": 7,
    "start_time": "2022-06-11T09:06:57.169Z"
   },
   {
    "duration": 4,
    "start_time": "2022-06-11T09:06:57.177Z"
   },
   {
    "duration": 7,
    "start_time": "2022-06-11T09:06:57.183Z"
   },
   {
    "duration": 13,
    "start_time": "2022-06-11T09:06:57.191Z"
   },
   {
    "duration": 29,
    "start_time": "2022-06-11T09:06:57.205Z"
   },
   {
    "duration": 1183,
    "start_time": "2022-06-11T09:06:57.237Z"
   },
   {
    "duration": 7,
    "start_time": "2022-06-11T09:06:58.421Z"
   },
   {
    "duration": 41,
    "start_time": "2022-06-11T09:06:58.429Z"
   },
   {
    "duration": 0,
    "start_time": "2022-06-11T09:06:58.472Z"
   },
   {
    "duration": 0,
    "start_time": "2022-06-11T09:06:58.473Z"
   },
   {
    "duration": 9,
    "start_time": "2022-06-11T09:07:51.859Z"
   },
   {
    "duration": 3,
    "start_time": "2022-06-11T09:08:08.827Z"
   },
   {
    "duration": 3,
    "start_time": "2022-06-11T09:08:12.114Z"
   },
   {
    "duration": 9,
    "start_time": "2022-06-11T09:08:16.586Z"
   },
   {
    "duration": 8,
    "start_time": "2022-06-11T09:08:29.034Z"
   },
   {
    "duration": 1335,
    "start_time": "2022-06-11T09:08:43.881Z"
   },
   {
    "duration": 65,
    "start_time": "2022-06-11T09:08:45.218Z"
   },
   {
    "duration": 7,
    "start_time": "2022-06-11T09:08:45.285Z"
   },
   {
    "duration": 12,
    "start_time": "2022-06-11T09:08:45.294Z"
   },
   {
    "duration": 14,
    "start_time": "2022-06-11T09:08:45.307Z"
   },
   {
    "duration": 712,
    "start_time": "2022-06-11T09:08:45.322Z"
   },
   {
    "duration": 167,
    "start_time": "2022-06-11T09:08:46.036Z"
   },
   {
    "duration": 342,
    "start_time": "2022-06-11T09:08:46.205Z"
   },
   {
    "duration": 301,
    "start_time": "2022-06-11T09:08:46.550Z"
   },
   {
    "duration": 4,
    "start_time": "2022-06-11T09:08:46.853Z"
   },
   {
    "duration": 22,
    "start_time": "2022-06-11T09:08:46.858Z"
   },
   {
    "duration": 10,
    "start_time": "2022-06-11T09:08:46.882Z"
   },
   {
    "duration": 7,
    "start_time": "2022-06-11T09:08:46.893Z"
   },
   {
    "duration": 38,
    "start_time": "2022-06-11T09:08:46.901Z"
   },
   {
    "duration": 1079,
    "start_time": "2022-06-11T09:08:46.940Z"
   },
   {
    "duration": 33,
    "start_time": "2022-06-11T09:08:48.020Z"
   },
   {
    "duration": 54615,
    "start_time": "2022-06-11T09:08:48.054Z"
   },
   {
    "duration": 220,
    "start_time": "2022-06-11T09:09:42.671Z"
   },
   {
    "duration": 2,
    "start_time": "2022-06-11T09:09:42.893Z"
   },
   {
    "duration": 12,
    "start_time": "2022-06-11T09:09:42.897Z"
   },
   {
    "duration": 36,
    "start_time": "2022-06-11T09:09:42.910Z"
   },
   {
    "duration": 25,
    "start_time": "2022-06-11T09:09:42.948Z"
   },
   {
    "duration": 23,
    "start_time": "2022-06-11T09:09:42.975Z"
   },
   {
    "duration": 19,
    "start_time": "2022-06-11T09:09:43.000Z"
   },
   {
    "duration": 1145,
    "start_time": "2022-06-11T09:09:43.021Z"
   },
   {
    "duration": 5,
    "start_time": "2022-06-11T09:09:44.168Z"
   },
   {
    "duration": 14,
    "start_time": "2022-06-11T09:09:44.174Z"
   },
   {
    "duration": 15,
    "start_time": "2022-06-11T09:09:44.191Z"
   },
   {
    "duration": 318,
    "start_time": "2022-06-11T09:09:44.208Z"
   },
   {
    "duration": 0,
    "start_time": "2022-06-11T09:09:44.538Z"
   },
   {
    "duration": 3,
    "start_time": "2022-06-11T09:10:12.475Z"
   },
   {
    "duration": 229,
    "start_time": "2022-06-11T09:10:20.846Z"
   },
   {
    "duration": 205,
    "start_time": "2022-06-11T09:11:30.664Z"
   },
   {
    "duration": 256,
    "start_time": "2022-06-11T09:12:14.717Z"
   },
   {
    "duration": 286,
    "start_time": "2022-06-11T09:13:29.485Z"
   },
   {
    "duration": 1416,
    "start_time": "2022-06-11T09:16:08.237Z"
   },
   {
    "duration": 62,
    "start_time": "2022-06-11T09:16:09.655Z"
   },
   {
    "duration": 7,
    "start_time": "2022-06-11T09:16:09.719Z"
   },
   {
    "duration": 22,
    "start_time": "2022-06-11T09:16:09.728Z"
   },
   {
    "duration": 17,
    "start_time": "2022-06-11T09:16:09.755Z"
   },
   {
    "duration": 776,
    "start_time": "2022-06-11T09:16:09.774Z"
   },
   {
    "duration": 195,
    "start_time": "2022-06-11T09:16:10.552Z"
   },
   {
    "duration": 347,
    "start_time": "2022-06-11T09:16:10.748Z"
   },
   {
    "duration": 301,
    "start_time": "2022-06-11T09:16:11.097Z"
   },
   {
    "duration": 4,
    "start_time": "2022-06-11T09:16:11.400Z"
   },
   {
    "duration": 35,
    "start_time": "2022-06-11T09:16:11.406Z"
   },
   {
    "duration": 9,
    "start_time": "2022-06-11T09:16:11.445Z"
   },
   {
    "duration": 5,
    "start_time": "2022-06-11T09:16:11.456Z"
   },
   {
    "duration": 12,
    "start_time": "2022-06-11T09:16:11.463Z"
   },
   {
    "duration": 1121,
    "start_time": "2022-06-11T09:16:11.477Z"
   },
   {
    "duration": 15,
    "start_time": "2022-06-11T09:16:12.599Z"
   },
   {
    "duration": 55753,
    "start_time": "2022-06-11T09:16:12.616Z"
   },
   {
    "duration": 227,
    "start_time": "2022-06-11T09:17:08.371Z"
   },
   {
    "duration": 1817,
    "start_time": "2022-06-11T09:17:08.600Z"
   },
   {
    "duration": 12031,
    "start_time": "2022-06-11T09:17:10.419Z"
   },
   {
    "duration": 17228,
    "start_time": "2022-06-11T09:17:22.539Z"
   },
   {
    "duration": 4,
    "start_time": "2022-06-11T09:17:39.769Z"
   },
   {
    "duration": 26,
    "start_time": "2022-06-11T09:17:39.775Z"
   },
   {
    "duration": 7,
    "start_time": "2022-06-11T09:17:39.838Z"
   },
   {
    "duration": 1106,
    "start_time": "2022-06-11T09:17:39.847Z"
   },
   {
    "duration": 227,
    "start_time": "2022-06-11T09:17:40.955Z"
   },
   {
    "duration": 285,
    "start_time": "2022-06-11T09:17:41.184Z"
   },
   {
    "duration": 11,
    "start_time": "2022-06-11T09:27:42.840Z"
   },
   {
    "duration": 43588,
    "start_time": "2022-06-11T09:28:50.246Z"
   },
   {
    "duration": 21,
    "start_time": "2022-06-11T09:30:26.412Z"
   }
  ],
  "kernelspec": {
   "display_name": "Python 3 (ipykernel)",
   "language": "python",
   "name": "python3"
  },
  "language_info": {
   "codemirror_mode": {
    "name": "ipython",
    "version": 3
   },
   "file_extension": ".py",
   "mimetype": "text/x-python",
   "name": "python",
   "nbconvert_exporter": "python",
   "pygments_lexer": "ipython3",
   "version": "3.9.7"
  },
  "toc": {
   "base_numbering": 1,
   "nav_menu": {},
   "number_sections": true,
   "sideBar": true,
   "skip_h1_title": true,
   "title_cell": "Содержание",
   "title_sidebar": "Contents",
   "toc_cell": false,
   "toc_position": {
    "height": "calc(100% - 180px)",
    "left": "10px",
    "top": "150px",
    "width": "165px"
   },
   "toc_section_display": true,
   "toc_window_display": true
  }
 },
 "nbformat": 4,
 "nbformat_minor": 4
}

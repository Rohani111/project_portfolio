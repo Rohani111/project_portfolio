{
 "cells": [
  {
   "cell_type": "markdown",
   "metadata": {},
   "source": [
    "<h1> <div align=\"center\"><a> Проект «Рекомендация тарифов для телеком-компании» </a></div>"
   ]
  },
  {
   "cell_type": "markdown",
   "metadata": {},
   "source": [
    "## Откройте и изучите файл"
   ]
  },
  {
   "cell_type": "code",
   "execution_count": 1,
   "metadata": {},
   "outputs": [],
   "source": [
    "import pandas as pd\n",
    "import matplotlib.pyplot as plt\n",
    "from sklearn.model_selection import train_test_split\n",
    "from sklearn.tree import DecisionTreeClassifier \n",
    "from sklearn.ensemble import RandomForestClassifier\n",
    "from sklearn.linear_model import LogisticRegression\n",
    "from sklearn.metrics import classification_report\n",
    "from sklearn.metrics import confusion_matrix\n",
    "from sklearn.dummy import DummyClassifier\n",
    "from sklearn.metrics import plot_confusion_matrix"
   ]
  },
  {
   "cell_type": "code",
   "execution_count": 2,
   "metadata": {
    "scrolled": true
   },
   "outputs": [
    {
     "data": {
      "text/html": [
       "<div>\n",
       "<style scoped>\n",
       "    .dataframe tbody tr th:only-of-type {\n",
       "        vertical-align: middle;\n",
       "    }\n",
       "\n",
       "    .dataframe tbody tr th {\n",
       "        vertical-align: top;\n",
       "    }\n",
       "\n",
       "    .dataframe thead th {\n",
       "        text-align: right;\n",
       "    }\n",
       "</style>\n",
       "<table border=\"1\" class=\"dataframe\">\n",
       "  <thead>\n",
       "    <tr style=\"text-align: right;\">\n",
       "      <th></th>\n",
       "      <th>calls</th>\n",
       "      <th>minutes</th>\n",
       "      <th>messages</th>\n",
       "      <th>mb_used</th>\n",
       "      <th>is_ultra</th>\n",
       "    </tr>\n",
       "  </thead>\n",
       "  <tbody>\n",
       "    <tr>\n",
       "      <th>0</th>\n",
       "      <td>40.0</td>\n",
       "      <td>311.90</td>\n",
       "      <td>83.0</td>\n",
       "      <td>19915.42</td>\n",
       "      <td>0</td>\n",
       "    </tr>\n",
       "    <tr>\n",
       "      <th>1</th>\n",
       "      <td>85.0</td>\n",
       "      <td>516.75</td>\n",
       "      <td>56.0</td>\n",
       "      <td>22696.96</td>\n",
       "      <td>0</td>\n",
       "    </tr>\n",
       "    <tr>\n",
       "      <th>2</th>\n",
       "      <td>77.0</td>\n",
       "      <td>467.66</td>\n",
       "      <td>86.0</td>\n",
       "      <td>21060.45</td>\n",
       "      <td>0</td>\n",
       "    </tr>\n",
       "    <tr>\n",
       "      <th>3</th>\n",
       "      <td>106.0</td>\n",
       "      <td>745.53</td>\n",
       "      <td>81.0</td>\n",
       "      <td>8437.39</td>\n",
       "      <td>1</td>\n",
       "    </tr>\n",
       "    <tr>\n",
       "      <th>4</th>\n",
       "      <td>66.0</td>\n",
       "      <td>418.74</td>\n",
       "      <td>1.0</td>\n",
       "      <td>14502.75</td>\n",
       "      <td>0</td>\n",
       "    </tr>\n",
       "  </tbody>\n",
       "</table>\n",
       "</div>"
      ],
      "text/plain": [
       "   calls  minutes  messages   mb_used  is_ultra\n",
       "0   40.0   311.90      83.0  19915.42         0\n",
       "1   85.0   516.75      56.0  22696.96         0\n",
       "2   77.0   467.66      86.0  21060.45         0\n",
       "3  106.0   745.53      81.0   8437.39         1\n",
       "4   66.0   418.74       1.0  14502.75         0"
      ]
     },
     "metadata": {},
     "output_type": "display_data"
    }
   ],
   "source": [
    "df = pd.read_csv(\"/datasets/users_behavior.csv\")\n",
    "display(df.head())"
   ]
  },
  {
   "cell_type": "code",
   "execution_count": 3,
   "metadata": {
    "scrolled": true
   },
   "outputs": [
    {
     "name": "stdout",
     "output_type": "stream",
     "text": [
      "<class 'pandas.core.frame.DataFrame'>\n",
      "RangeIndex: 3214 entries, 0 to 3213\n",
      "Data columns (total 5 columns):\n",
      " #   Column    Non-Null Count  Dtype  \n",
      "---  ------    --------------  -----  \n",
      " 0   calls     3214 non-null   float64\n",
      " 1   minutes   3214 non-null   float64\n",
      " 2   messages  3214 non-null   float64\n",
      " 3   mb_used   3214 non-null   float64\n",
      " 4   is_ultra  3214 non-null   int64  \n",
      "dtypes: float64(4), int64(1)\n",
      "memory usage: 125.7 KB\n"
     ]
    }
   ],
   "source": [
    "#оценим общий массив данных\n",
    "df.info()"
   ]
  },
  {
   "cell_type": "markdown",
   "metadata": {},
   "source": [
    "Общая выборка имеет 3214 строк и 5 столбцов. Пропущенных значений нет, изменять тип данных необходимости нет."
   ]
  },
  {
   "cell_type": "code",
   "execution_count": 4,
   "metadata": {},
   "outputs": [
    {
     "data": {
      "text/plain": [
       "0    2229\n",
       "1     985\n",
       "Name: is_ultra, dtype: int64"
      ]
     },
     "execution_count": 4,
     "metadata": {},
     "output_type": "execute_result"
    }
   ],
   "source": [
    "#проверим сбалансированность выборки по целевому признаку\n",
    "df[\"is_ultra\"].value_counts()"
   ]
  },
  {
   "cell_type": "markdown",
   "metadata": {},
   "source": [
    "Количество пользователей тарифом \"Смарт\" более чем в 2 раза превышает количество пользователей \"Ультра\". Налицо несбалансированность данных. Однако поскольку на данный момент у нас нет инструментов работы с несбалансированными выборками, пока просто отметим этот факт как особенность."
   ]
  },
  {
   "cell_type": "code",
   "execution_count": 5,
   "metadata": {},
   "outputs": [
    {
     "name": "stdout",
     "output_type": "stream",
     "text": [
      "             calls   minutes  messages   mb_used\n",
      "calls     1.000000  0.982083  0.177385  0.286442\n",
      "minutes   0.982083  1.000000  0.173110  0.280967\n",
      "messages  0.177385  0.173110  1.000000  0.195721\n",
      "mb_used   0.286442  0.280967  0.195721  1.000000\n"
     ]
    },
    {
     "data": {
      "image/png": "[encoded data removed]",
      "text/plain": [
       "<Figure size 720x720 with 16 Axes>"
      ]
     },
     "metadata": {
      "needs_background": "light"
     },
     "output_type": "display_data"
    }
   ],
   "source": [
    "#построим корреляционную матрицу признаков и диграммы рассеивания для них\n",
    "features = df.drop('is_ultra', axis=1)\n",
    "print(features.corr()) \n",
    "pd.plotting.scatter_matrix(features, figsize=(10, 10))\n",
    "plt.show()"
   ]
  },
  {
   "cell_type": "markdown",
   "metadata": {},
   "source": [
    "**Налицо полная коллинеарность количества звонков и использованных минут.  Чтобы избежать неопределенности значений параметров, мы можем исключить один из признаков для дальнейшего анализа. Поскольку правила тарифов привязаны к количеству минут, то лучше исключить звонки.**"
   ]
  },
  {
   "cell_type": "code",
   "execution_count": 6,
   "metadata": {},
   "outputs": [],
   "source": [
    "df = df.drop('calls', axis=1)"
   ]
  },
  {
   "cell_type": "markdown",
   "metadata": {},
   "source": [
    "## Разбейте данные на выборки"
   ]
  },
  {
   "cell_type": "markdown",
   "metadata": {},
   "source": [
    "Спрятанной тестовой выборки нет. Значит, данные нужно разбить на три части: обучающую, валидационную и тестовую. Размеры тестового и валидационного наборов обычно равны. Исходные данные пошагово разобьем в соотношении 3:1:1."
   ]
  },
  {
   "cell_type": "code",
   "execution_count": 7,
   "metadata": {},
   "outputs": [
    {
     "data": {
      "text/plain": [
       "(1928, 4)"
      ]
     },
     "metadata": {},
     "output_type": "display_data"
    },
    {
     "data": {
      "text/plain": [
       "(1286, 4)"
      ]
     },
     "metadata": {},
     "output_type": "display_data"
    }
   ],
   "source": [
    "df_train, df_middle = train_test_split(df, test_size=0.4, random_state=12345)\n",
    "display(df_train.shape)\n",
    "display(df_middle.shape)"
   ]
  },
  {
   "cell_type": "code",
   "execution_count": 8,
   "metadata": {},
   "outputs": [
    {
     "data": {
      "text/plain": [
       "(643, 4)"
      ]
     },
     "metadata": {},
     "output_type": "display_data"
    },
    {
     "data": {
      "text/plain": [
       "(643, 4)"
      ]
     },
     "metadata": {},
     "output_type": "display_data"
    }
   ],
   "source": [
    "df_valid, df_test = train_test_split(df_middle, test_size=0.5, random_state=12345)\n",
    "display(df_valid.shape)\n",
    "display(df_test.shape)"
   ]
  },
  {
   "cell_type": "markdown",
   "metadata": {},
   "source": [
    "## Исследуйте модели"
   ]
  },
  {
   "cell_type": "code",
   "execution_count": 9,
   "metadata": {},
   "outputs": [],
   "source": [
    "#объявим переменные с признаками и целевым признаком для каждой из полученных выборок\n",
    "features_train = df_train.drop(['is_ultra'], axis = 1)\n",
    "target_train = df_train['is_ultra']\n",
    "features_valid = df_valid.drop(['is_ultra'], axis = 1)\n",
    "target_valid = df_valid['is_ultra']\n",
    "features_test = df_test.drop(['is_ultra'], axis = 1)\n",
    "target_test = df_test['is_ultra']"
   ]
  },
  {
   "cell_type": "code",
   "execution_count": 10,
   "metadata": {},
   "outputs": [
    {
     "name": "stdout",
     "output_type": "stream",
     "text": [
      "Accuracy наилучшей модели на валидационной выборке: 0.7884914463452566 Максимальная глубина: 4\n"
     ]
    }
   ],
   "source": [
    "#сначала обучим модель с помощью алгоритма решающего дерева, варьируя гиперпараметр \"Максимальная глубина\"\n",
    "best_result = 0\n",
    "for depth in range(1, 6):\n",
    "    model_1 = DecisionTreeClassifier(random_state=12345, max_depth=depth)\n",
    "    model_1.fit(features_train, target_train)\n",
    "    result = model_1.score(features_valid, target_valid)\n",
    "    if result > best_result:\n",
    "        best_result = result\n",
    "        best_depth = depth\n",
    "print(\"Accuracy наилучшей модели на валидационной выборке:\", best_result, \"Максимальная глубина:\", best_depth)"
   ]
  },
  {
   "cell_type": "code",
   "execution_count": 11,
   "metadata": {},
   "outputs": [
    {
     "name": "stdout",
     "output_type": "stream",
     "text": [
      "Accuracy наилучшей модели на валидационной выборке: 0.7993779160186625 Количество деревьев: 20 Максимальная глубина: 8\n"
     ]
    }
   ],
   "source": [
    "#теперь построим модель с помощью алгоритма случайного леса, изменяя гиперпараметры \"Количество деревьев\" и \"Максимальная глубина\"\n",
    "best_result = 0\n",
    "for est in range(10, 51, 10):\n",
    "    for depth in range (1, 11):\n",
    "        model_2 = RandomForestClassifier(random_state=12345, n_estimators=est, max_depth=depth)\n",
    "        model_2.fit(features_train, target_train) \n",
    "        result = model_2.score(features_valid, target_valid)\n",
    "        if result > best_result:\n",
    "            best_result = result\n",
    "            best_est = est\n",
    "            best_depth = depth\n",
    "print(\"Accuracy наилучшей модели на валидационной выборке:\", best_result, \"Количество деревьев:\", best_est, \"Максимальная глубина:\", best_depth)"
   ]
  },
  {
   "cell_type": "code",
   "execution_count": 12,
   "metadata": {
    "scrolled": true
   },
   "outputs": [
    {
     "name": "stdout",
     "output_type": "stream",
     "text": [
      "Accuracy на валидационной выборке: 0.7076205287713841\n"
     ]
    }
   ],
   "source": [
    "#наконец построим модель с помощью логистической регрессии\n",
    "model_3 = LogisticRegression(random_state=12345, solver='lbfgs', max_iter=100) \n",
    "model_3.fit(features_train, target_train)\n",
    "result = model_3.score(features_valid, target_valid)\n",
    "print(\"Accuracy на валидационной выборке:\", result)"
   ]
  },
  {
   "cell_type": "markdown",
   "metadata": {},
   "source": [
    "**Мы видим, что наибольшую точность на валидационной выборке (почти 80%) нам дала модель, построенная с помощью алгоритма случайный лес со следующими гиперпараметрами: количество деревьев: 20, максимальная глубина: 8.** Немного хуже проявила себя модель дерева решений с максимальной глубиной 4 - accuracy 79%, что, однако, превышает требуемые 75% точности. Наименьшую точность показала модель логистической регрессии - 71%."
   ]
  },
  {
   "cell_type": "markdown",
   "metadata": {},
   "source": [
    "## Проверьте модель на тестовой выборке"
   ]
  },
  {
   "cell_type": "code",
   "execution_count": 13,
   "metadata": {},
   "outputs": [
    {
     "data": {
      "text/plain": [
       "0.80248833592535"
      ]
     },
     "execution_count": 13,
     "metadata": {},
     "output_type": "execute_result"
    }
   ],
   "source": [
    "#проверим модель случайного леса с найденными гиперпараметрами на тестовой выборке\n",
    "model_final = RandomForestClassifier(random_state=12345, n_estimators=20, max_depth=8)\n",
    "model_final.fit(features_train, target_train) \n",
    "model_final.score(features_test, target_test)"
   ]
  },
  {
   "cell_type": "markdown",
   "metadata": {},
   "source": [
    "👍"
   ]
  },
  {
   "cell_type": "markdown",
   "metadata": {},
   "source": [
    "**По итогам проверки выбранной модели на тестовой выборке мы получили высокий уровень accuracy (80%)**, что практически не отличается от результатов для валидационной выборки и превышает необходимый уровень accuracy 75%."
   ]
  },
  {
   "cell_type": "markdown",
   "metadata": {},
   "source": [
    "## Проверка модели на адекватность"
   ]
  },
  {
   "cell_type": "markdown",
   "metadata": {},
   "source": [
    "Чтобы оценить адекватность модели, проверим, как часто в целевом признаке встречается класс «1» или «0»."
   ]
  },
  {
   "cell_type": "code",
   "execution_count": 14,
   "metadata": {
    "scrolled": true
   },
   "outputs": [
    {
     "data": {
      "text/plain": [
       "0    0.693528\n",
       "1    0.306472\n",
       "Name: is_ultra, dtype: float64"
      ]
     },
     "execution_count": 14,
     "metadata": {},
     "output_type": "execute_result"
    }
   ],
   "source": [
    "df['is_ultra'].value_counts() / df.shape[0]"
   ]
  },
  {
   "cell_type": "markdown",
   "metadata": {},
   "source": [
    "Почти в 70% случаев мы получаем 0. Аналогичный результат мы получим, если бы будем использовать константную модель, которая любому объекту прогнозирует класс «0»."
   ]
  },
  {
   "cell_type": "code",
   "execution_count": 24,
   "metadata": {},
   "outputs": [
    {
     "data": {
      "text/plain": [
       "0.6842923794712286"
      ]
     },
     "execution_count": 24,
     "metadata": {},
     "output_type": "execute_result"
    }
   ],
   "source": [
    "dc = DummyClassifier(strategy='most_frequent', random_state=12345).fit(features_train, target_train) \n",
    "#dc.fit(features_train, target_train) \n",
    "y_pred = dc.predict(features_test)\n",
    "dc.score(features_test, target_test)"
   ]
  },
  {
   "cell_type": "markdown",
   "metadata": {},
   "source": [
    "Таким образом, **если обученная модель сможет ПРАВИЛЬНО предсказать 0 и 1 лучше, чем константная модель, ее можно считать адекватной для последующего использования**. Построим матрицу ошибок для выбранной модели."
   ]
  },
  {
   "cell_type": "code",
   "execution_count": 15,
   "metadata": {
    "scrolled": true
   },
   "outputs": [
    {
     "data": {
      "text/plain": [
       "array([[405,  35],\n",
       "       [ 92, 111]])"
      ]
     },
     "metadata": {},
     "output_type": "display_data"
    },
    {
     "data": {
      "image/png": "[encoded data removed]",
      "text/plain": [
       "<Figure size 432x288 with 2 Axes>"
      ]
     },
     "metadata": {
      "needs_background": "light"
     },
     "output_type": "display_data"
    }
   ],
   "source": [
    "display(confusion_matrix(target_test, model_final.predict(features_test)))\n",
    "plot_confusion_matrix(estimator=model_final, X=features_test, y_true=target_test,\n",
    "                      normalize=\"true\", cmap=\"Blues\")\n",
    "plt.show()"
   ]
  },
  {
   "cell_type": "markdown",
   "metadata": {},
   "source": [
    "**На основании матрицы ошибок мы видим, что выбранная нами модель на 23% лучше в предсказании тарифа Смарт и на 24% лучше в предсказании тарифа Ультра. Таким образом, наша модель прошла тест на адекватность и ее можно использовать для прогнозирования.**"
   ]
  }
 ],
 "metadata": {
  "ExecuteTimeLog": [
   {
    "duration": 85,
    "start_time": "2022-03-20T19:14:22.977Z"
   },
   {
    "duration": 1731,
    "start_time": "2022-03-20T19:14:32.574Z"
   },
   {
    "duration": 15,
    "start_time": "2022-03-20T19:14:34.308Z"
   },
   {
    "duration": 38,
    "start_time": "2022-03-20T19:14:44.776Z"
   },
   {
    "duration": 24,
    "start_time": "2022-03-20T19:15:36.695Z"
   },
   {
    "duration": 42,
    "start_time": "2022-03-20T19:17:31.952Z"
   },
   {
    "duration": 8,
    "start_time": "2022-03-20T19:19:59.120Z"
   },
   {
    "duration": 49,
    "start_time": "2022-03-20T19:21:51.097Z"
   },
   {
    "duration": 131,
    "start_time": "2022-03-20T19:26:10.444Z"
   },
   {
    "duration": 2152,
    "start_time": "2022-03-20T19:26:18.084Z"
   },
   {
    "duration": 56,
    "start_time": "2022-03-20T19:26:20.239Z"
   },
   {
    "duration": 8,
    "start_time": "2022-03-20T19:26:20.298Z"
   },
   {
    "duration": 9,
    "start_time": "2022-03-20T19:26:20.309Z"
   },
   {
    "duration": 29,
    "start_time": "2022-03-20T19:26:51.982Z"
   },
   {
    "duration": 50,
    "start_time": "2022-03-21T07:53:41.140Z"
   },
   {
    "duration": 1937,
    "start_time": "2022-03-21T07:53:46.372Z"
   },
   {
    "duration": 37,
    "start_time": "2022-03-21T07:53:48.311Z"
   },
   {
    "duration": 4,
    "start_time": "2022-03-21T07:53:48.350Z"
   },
   {
    "duration": 100,
    "start_time": "2022-03-21T07:53:48.356Z"
   },
   {
    "duration": 6,
    "start_time": "2022-03-21T07:54:16.562Z"
   },
   {
    "duration": 7,
    "start_time": "2022-03-21T07:54:35.569Z"
   },
   {
    "duration": 7,
    "start_time": "2022-03-21T08:12:09.559Z"
   },
   {
    "duration": 8,
    "start_time": "2022-03-21T08:12:42.287Z"
   },
   {
    "duration": 8,
    "start_time": "2022-03-21T08:13:05.863Z"
   },
   {
    "duration": 9,
    "start_time": "2022-03-21T09:07:18.936Z"
   },
   {
    "duration": 1261,
    "start_time": "2022-03-21T09:07:25.452Z"
   },
   {
    "duration": 43,
    "start_time": "2022-03-21T09:07:26.715Z"
   },
   {
    "duration": 5,
    "start_time": "2022-03-21T09:07:26.762Z"
   },
   {
    "duration": 11,
    "start_time": "2022-03-21T09:07:26.769Z"
   },
   {
    "duration": 8,
    "start_time": "2022-03-21T09:07:26.782Z"
   },
   {
    "duration": 123,
    "start_time": "2022-03-21T09:07:26.792Z"
   },
   {
    "duration": 0,
    "start_time": "2022-03-21T09:07:26.917Z"
   },
   {
    "duration": 0,
    "start_time": "2022-03-21T09:07:26.918Z"
   },
   {
    "duration": 5,
    "start_time": "2022-03-21T09:07:34.496Z"
   },
   {
    "duration": 1220,
    "start_time": "2022-03-21T09:07:39.720Z"
   },
   {
    "duration": 36,
    "start_time": "2022-03-21T09:07:40.942Z"
   },
   {
    "duration": 5,
    "start_time": "2022-03-21T09:07:40.979Z"
   },
   {
    "duration": 8,
    "start_time": "2022-03-21T09:07:40.986Z"
   },
   {
    "duration": 6,
    "start_time": "2022-03-21T09:07:40.997Z"
   },
   {
    "duration": 4,
    "start_time": "2022-03-21T09:07:41.004Z"
   },
   {
    "duration": 19,
    "start_time": "2022-03-21T09:07:41.009Z"
   },
   {
    "duration": 52,
    "start_time": "2022-03-21T09:07:41.029Z"
   },
   {
    "duration": 96,
    "start_time": "2022-03-21T09:10:44.769Z"
   },
   {
    "duration": 1280,
    "start_time": "2022-03-21T09:10:51.310Z"
   },
   {
    "duration": 38,
    "start_time": "2022-03-21T09:10:52.592Z"
   },
   {
    "duration": 6,
    "start_time": "2022-03-21T09:10:52.632Z"
   },
   {
    "duration": 22,
    "start_time": "2022-03-21T09:10:52.641Z"
   },
   {
    "duration": 8,
    "start_time": "2022-03-21T09:10:52.664Z"
   },
   {
    "duration": 5,
    "start_time": "2022-03-21T09:10:52.673Z"
   },
   {
    "duration": 17,
    "start_time": "2022-03-21T09:10:52.680Z"
   },
   {
    "duration": 21,
    "start_time": "2022-03-21T09:10:52.699Z"
   },
   {
    "duration": 54,
    "start_time": "2022-03-21T09:10:52.721Z"
   },
   {
    "duration": 97,
    "start_time": "2022-03-21T09:14:24.980Z"
   },
   {
    "duration": 1247,
    "start_time": "2022-03-21T09:14:33.115Z"
   },
   {
    "duration": 37,
    "start_time": "2022-03-21T09:14:34.364Z"
   },
   {
    "duration": 5,
    "start_time": "2022-03-21T09:14:34.403Z"
   },
   {
    "duration": 10,
    "start_time": "2022-03-21T09:14:34.409Z"
   },
   {
    "duration": 6,
    "start_time": "2022-03-21T09:14:34.421Z"
   },
   {
    "duration": 5,
    "start_time": "2022-03-21T09:14:34.429Z"
   },
   {
    "duration": 42,
    "start_time": "2022-03-21T09:14:34.435Z"
   },
   {
    "duration": 22,
    "start_time": "2022-03-21T09:14:34.479Z"
   },
   {
    "duration": 21,
    "start_time": "2022-03-21T09:14:34.503Z"
   },
   {
    "duration": 11,
    "start_time": "2022-03-21T09:16:01.632Z"
   },
   {
    "duration": 195,
    "start_time": "2022-03-21T09:16:12.497Z"
   },
   {
    "duration": 255,
    "start_time": "2022-03-21T09:16:28.938Z"
   },
   {
    "duration": 145,
    "start_time": "2022-03-21T09:16:40.816Z"
   },
   {
    "duration": 15,
    "start_time": "2022-03-21T09:17:05.664Z"
   },
   {
    "duration": 15,
    "start_time": "2022-03-21T09:22:15.758Z"
   },
   {
    "duration": 104,
    "start_time": "2022-03-21T09:39:32.743Z"
   },
   {
    "duration": 1268,
    "start_time": "2022-03-21T09:39:54.956Z"
   },
   {
    "duration": 42,
    "start_time": "2022-03-21T09:39:56.226Z"
   },
   {
    "duration": 5,
    "start_time": "2022-03-21T09:39:56.270Z"
   },
   {
    "duration": 11,
    "start_time": "2022-03-21T09:39:56.277Z"
   },
   {
    "duration": 6,
    "start_time": "2022-03-21T09:39:56.289Z"
   },
   {
    "duration": 6,
    "start_time": "2022-03-21T09:39:56.297Z"
   },
   {
    "duration": 23,
    "start_time": "2022-03-21T09:39:56.304Z"
   },
   {
    "duration": 131,
    "start_time": "2022-03-21T09:39:56.329Z"
   },
   {
    "duration": 0,
    "start_time": "2022-03-21T09:39:56.463Z"
   },
   {
    "duration": 0,
    "start_time": "2022-03-21T09:39:56.464Z"
   },
   {
    "duration": 0,
    "start_time": "2022-03-21T09:39:56.466Z"
   },
   {
    "duration": 240,
    "start_time": "2022-03-21T09:40:21.331Z"
   },
   {
    "duration": 237,
    "start_time": "2022-03-21T09:41:51.316Z"
   },
   {
    "duration": 248,
    "start_time": "2022-03-21T09:42:02.315Z"
   },
   {
    "duration": 235,
    "start_time": "2022-03-21T09:43:27.099Z"
   },
   {
    "duration": 832,
    "start_time": "2022-03-21T09:43:37.564Z"
   },
   {
    "duration": 1781,
    "start_time": "2022-03-21T09:43:49.867Z"
   },
   {
    "duration": 5309,
    "start_time": "2022-03-21T09:44:04.468Z"
   },
   {
    "duration": 1167,
    "start_time": "2022-03-21T09:45:12.924Z"
   },
   {
    "duration": 1157,
    "start_time": "2022-03-21T09:51:34.374Z"
   },
   {
    "duration": 1172,
    "start_time": "2022-03-21T09:51:42.039Z"
   },
   {
    "duration": 1169,
    "start_time": "2022-03-21T09:52:00.342Z"
   },
   {
    "duration": 1227,
    "start_time": "2022-03-21T09:52:37.118Z"
   },
   {
    "duration": 41,
    "start_time": "2022-03-21T09:52:38.348Z"
   },
   {
    "duration": 5,
    "start_time": "2022-03-21T09:52:38.391Z"
   },
   {
    "duration": 9,
    "start_time": "2022-03-21T09:52:38.397Z"
   },
   {
    "duration": 6,
    "start_time": "2022-03-21T09:52:38.408Z"
   },
   {
    "duration": 6,
    "start_time": "2022-03-21T09:52:38.416Z"
   },
   {
    "duration": 44,
    "start_time": "2022-03-21T09:52:38.423Z"
   },
   {
    "duration": 115,
    "start_time": "2022-03-21T09:52:38.469Z"
   },
   {
    "duration": 0,
    "start_time": "2022-03-21T09:52:38.586Z"
   },
   {
    "duration": 0,
    "start_time": "2022-03-21T09:52:38.587Z"
   },
   {
    "duration": 0,
    "start_time": "2022-03-21T09:52:38.588Z"
   },
   {
    "duration": 1171,
    "start_time": "2022-03-21T09:52:53.580Z"
   },
   {
    "duration": 1257,
    "start_time": "2022-03-21T09:53:03.082Z"
   },
   {
    "duration": 36,
    "start_time": "2022-03-21T09:53:04.341Z"
   },
   {
    "duration": 6,
    "start_time": "2022-03-21T09:53:04.378Z"
   },
   {
    "duration": 10,
    "start_time": "2022-03-21T09:53:04.385Z"
   },
   {
    "duration": 6,
    "start_time": "2022-03-21T09:53:04.398Z"
   },
   {
    "duration": 6,
    "start_time": "2022-03-21T09:53:04.405Z"
   },
   {
    "duration": 16,
    "start_time": "2022-03-21T09:53:04.413Z"
   },
   {
    "duration": 1215,
    "start_time": "2022-03-21T09:53:04.430Z"
   },
   {
    "duration": 421,
    "start_time": "2022-03-21T09:53:05.647Z"
   },
   {
    "duration": 17,
    "start_time": "2022-03-21T09:53:06.070Z"
   },
   {
    "duration": 16,
    "start_time": "2022-03-21T09:53:06.088Z"
   },
   {
    "duration": 1176,
    "start_time": "2022-03-21T09:53:53.765Z"
   },
   {
    "duration": 1313,
    "start_time": "2022-03-21T09:54:00.984Z"
   },
   {
    "duration": 38,
    "start_time": "2022-03-21T09:54:02.299Z"
   },
   {
    "duration": 6,
    "start_time": "2022-03-21T09:54:02.338Z"
   },
   {
    "duration": 17,
    "start_time": "2022-03-21T09:54:02.347Z"
   },
   {
    "duration": 7,
    "start_time": "2022-03-21T09:54:02.366Z"
   },
   {
    "duration": 7,
    "start_time": "2022-03-21T09:54:02.375Z"
   },
   {
    "duration": 29,
    "start_time": "2022-03-21T09:54:02.383Z"
   },
   {
    "duration": 1214,
    "start_time": "2022-03-21T09:54:02.414Z"
   },
   {
    "duration": 408,
    "start_time": "2022-03-21T09:54:03.629Z"
   },
   {
    "duration": 29,
    "start_time": "2022-03-21T09:54:04.040Z"
   },
   {
    "duration": 16,
    "start_time": "2022-03-21T09:54:04.070Z"
   },
   {
    "duration": 1344,
    "start_time": "2022-03-21T09:57:37.160Z"
   },
   {
    "duration": 39,
    "start_time": "2022-03-21T09:57:38.506Z"
   },
   {
    "duration": 16,
    "start_time": "2022-03-21T09:57:38.547Z"
   },
   {
    "duration": 8,
    "start_time": "2022-03-21T09:57:38.565Z"
   },
   {
    "duration": 11,
    "start_time": "2022-03-21T09:57:38.575Z"
   },
   {
    "duration": 10,
    "start_time": "2022-03-21T09:57:38.588Z"
   },
   {
    "duration": 21,
    "start_time": "2022-03-21T09:57:38.600Z"
   },
   {
    "duration": 1301,
    "start_time": "2022-03-21T09:57:38.623Z"
   },
   {
    "duration": 1874,
    "start_time": "2022-03-21T09:57:39.926Z"
   },
   {
    "duration": 26,
    "start_time": "2022-03-21T09:57:41.802Z"
   },
   {
    "duration": 40,
    "start_time": "2022-03-21T09:57:41.830Z"
   },
   {
    "duration": 1800,
    "start_time": "2022-03-21T09:58:17.686Z"
   },
   {
    "duration": 13,
    "start_time": "2022-03-21T09:58:57.488Z"
   },
   {
    "duration": 14,
    "start_time": "2022-03-21T10:01:08.367Z"
   },
   {
    "duration": 24,
    "start_time": "2022-03-21T10:01:14.703Z"
   },
   {
    "duration": 25,
    "start_time": "2022-03-21T10:01:29.135Z"
   },
   {
    "duration": 12,
    "start_time": "2022-03-21T10:01:34.880Z"
   },
   {
    "duration": 94,
    "start_time": "2022-03-21T10:05:27.758Z"
   },
   {
    "duration": 15,
    "start_time": "2022-03-21T10:05:37.961Z"
   },
   {
    "duration": 1325,
    "start_time": "2022-03-21T10:06:02.234Z"
   },
   {
    "duration": 40,
    "start_time": "2022-03-21T10:06:03.561Z"
   },
   {
    "duration": 6,
    "start_time": "2022-03-21T10:06:03.602Z"
   },
   {
    "duration": 8,
    "start_time": "2022-03-21T10:06:03.609Z"
   },
   {
    "duration": 7,
    "start_time": "2022-03-21T10:06:03.619Z"
   },
   {
    "duration": 8,
    "start_time": "2022-03-21T10:06:03.627Z"
   },
   {
    "duration": 47,
    "start_time": "2022-03-21T10:06:03.636Z"
   },
   {
    "duration": 1194,
    "start_time": "2022-03-21T10:06:03.685Z"
   },
   {
    "duration": 13,
    "start_time": "2022-03-21T10:06:04.882Z"
   },
   {
    "duration": 1675,
    "start_time": "2022-03-21T10:06:04.897Z"
   },
   {
    "duration": 17,
    "start_time": "2022-03-21T10:06:06.575Z"
   },
   {
    "duration": 17,
    "start_time": "2022-03-21T10:06:06.593Z"
   },
   {
    "duration": 72,
    "start_time": "2022-03-21T10:08:54.128Z"
   },
   {
    "duration": 30,
    "start_time": "2022-03-21T10:09:03.585Z"
   },
   {
    "duration": 478,
    "start_time": "2022-03-21T10:11:08.171Z"
   },
   {
    "duration": 2444,
    "start_time": "2022-03-21T10:11:18.820Z"
   },
   {
    "duration": 1199,
    "start_time": "2022-03-21T10:12:54.964Z"
   },
   {
    "duration": 1197,
    "start_time": "2022-03-21T10:13:21.996Z"
   },
   {
    "duration": 30,
    "start_time": "2022-03-21T10:24:00.071Z"
   },
   {
    "duration": 25,
    "start_time": "2022-03-21T10:25:22.239Z"
   },
   {
    "duration": 28,
    "start_time": "2022-03-21T10:26:37.864Z"
   },
   {
    "duration": 94,
    "start_time": "2022-03-21T10:35:19.873Z"
   },
   {
    "duration": 0,
    "start_time": "2022-03-21T10:36:16.046Z"
   },
   {
    "duration": 0,
    "start_time": "2022-03-21T10:36:16.046Z"
   },
   {
    "duration": 0,
    "start_time": "2022-03-21T10:36:16.047Z"
   },
   {
    "duration": 0,
    "start_time": "2022-03-21T10:36:16.062Z"
   },
   {
    "duration": 0,
    "start_time": "2022-03-21T10:36:16.063Z"
   },
   {
    "duration": 0,
    "start_time": "2022-03-21T10:36:16.064Z"
   },
   {
    "duration": 0,
    "start_time": "2022-03-21T10:36:16.065Z"
   },
   {
    "duration": 0,
    "start_time": "2022-03-21T10:36:16.066Z"
   },
   {
    "duration": 0,
    "start_time": "2022-03-21T10:36:16.067Z"
   },
   {
    "duration": 0,
    "start_time": "2022-03-21T10:36:16.068Z"
   },
   {
    "duration": 0,
    "start_time": "2022-03-21T10:36:16.069Z"
   },
   {
    "duration": 0,
    "start_time": "2022-03-21T10:36:16.070Z"
   },
   {
    "duration": 10,
    "start_time": "2022-03-21T10:36:58.082Z"
   },
   {
    "duration": 12,
    "start_time": "2022-03-21T10:37:16.075Z"
   },
   {
    "duration": 10,
    "start_time": "2022-03-21T10:38:40.477Z"
   },
   {
    "duration": 11,
    "start_time": "2022-03-21T10:39:06.947Z"
   },
   {
    "duration": 9433,
    "start_time": "2022-03-21T10:39:34.172Z"
   },
   {
    "duration": 29,
    "start_time": "2022-03-21T10:41:46.366Z"
   },
   {
    "duration": 30,
    "start_time": "2022-03-21T10:41:56.380Z"
   },
   {
    "duration": 22,
    "start_time": "2022-03-21T10:42:43.564Z"
   },
   {
    "duration": 27,
    "start_time": "2022-03-21T10:43:21.668Z"
   },
   {
    "duration": 28,
    "start_time": "2022-03-21T10:43:47.261Z"
   },
   {
    "duration": 31,
    "start_time": "2022-03-21T10:44:13.309Z"
   },
   {
    "duration": 11,
    "start_time": "2022-03-21T10:44:20.773Z"
   },
   {
    "duration": 33,
    "start_time": "2022-03-21T10:44:30.519Z"
   },
   {
    "duration": 24,
    "start_time": "2022-03-21T10:44:35.805Z"
   },
   {
    "duration": 33,
    "start_time": "2022-03-21T10:44:44.446Z"
   },
   {
    "duration": 11,
    "start_time": "2022-03-21T10:47:26.446Z"
   },
   {
    "duration": 23,
    "start_time": "2022-03-21T10:47:43.479Z"
   },
   {
    "duration": 196,
    "start_time": "2022-03-21T10:47:49.535Z"
   },
   {
    "duration": 191,
    "start_time": "2022-03-21T10:48:05.311Z"
   },
   {
    "duration": 20,
    "start_time": "2022-03-21T10:48:12.991Z"
   },
   {
    "duration": 18,
    "start_time": "2022-03-21T10:48:32.574Z"
   },
   {
    "duration": 1297,
    "start_time": "2022-03-21T10:50:34.154Z"
   },
   {
    "duration": 36,
    "start_time": "2022-03-21T10:50:35.453Z"
   },
   {
    "duration": 5,
    "start_time": "2022-03-21T10:50:35.491Z"
   },
   {
    "duration": 17,
    "start_time": "2022-03-21T10:50:35.497Z"
   },
   {
    "duration": 14,
    "start_time": "2022-03-21T10:50:35.516Z"
   },
   {
    "duration": 7,
    "start_time": "2022-03-21T10:50:35.532Z"
   },
   {
    "duration": 39,
    "start_time": "2022-03-21T10:50:35.541Z"
   },
   {
    "duration": 1194,
    "start_time": "2022-03-21T10:50:35.582Z"
   },
   {
    "duration": 24,
    "start_time": "2022-03-21T10:50:36.778Z"
   },
   {
    "duration": 30,
    "start_time": "2022-03-21T10:50:36.803Z"
   },
   {
    "duration": 224,
    "start_time": "2022-03-21T10:50:36.835Z"
   },
   {
    "duration": 17,
    "start_time": "2022-03-21T10:50:37.061Z"
   },
   {
    "duration": 20,
    "start_time": "2022-03-21T10:50:37.079Z"
   },
   {
    "duration": 202,
    "start_time": "2022-03-21T10:51:40.912Z"
   },
   {
    "duration": 31,
    "start_time": "2022-03-21T10:57:28.019Z"
   },
   {
    "duration": 1187,
    "start_time": "2022-03-21T10:58:54.812Z"
   },
   {
    "duration": 7396,
    "start_time": "2022-03-21T11:01:29.084Z"
   },
   {
    "duration": 18451,
    "start_time": "2022-03-21T11:02:03.671Z"
   },
   {
    "duration": 7447,
    "start_time": "2022-03-21T11:02:56.942Z"
   },
   {
    "duration": 3660,
    "start_time": "2022-03-21T11:03:37.926Z"
   },
   {
    "duration": 27837,
    "start_time": "2022-03-21T11:04:00.454Z"
   },
   {
    "duration": 8579,
    "start_time": "2022-03-21T11:04:52.701Z"
   },
   {
    "duration": 3479,
    "start_time": "2022-03-21T11:05:42.617Z"
   },
   {
    "duration": 22,
    "start_time": "2022-03-21T11:07:07.813Z"
   },
   {
    "duration": 22,
    "start_time": "2022-03-21T11:07:48.382Z"
   },
   {
    "duration": 1283,
    "start_time": "2022-03-21T11:08:39.347Z"
   },
   {
    "duration": 43,
    "start_time": "2022-03-21T11:08:40.633Z"
   },
   {
    "duration": 5,
    "start_time": "2022-03-21T11:08:40.678Z"
   },
   {
    "duration": 30,
    "start_time": "2022-03-21T11:08:40.685Z"
   },
   {
    "duration": 12,
    "start_time": "2022-03-21T11:08:40.717Z"
   },
   {
    "duration": 7,
    "start_time": "2022-03-21T11:08:40.730Z"
   },
   {
    "duration": 34,
    "start_time": "2022-03-21T11:08:40.738Z"
   },
   {
    "duration": 3504,
    "start_time": "2022-03-21T11:08:40.774Z"
   },
   {
    "duration": 21,
    "start_time": "2022-03-21T11:08:44.280Z"
   },
   {
    "duration": 19,
    "start_time": "2022-03-21T11:08:44.303Z"
   },
   {
    "duration": 19,
    "start_time": "2022-03-21T11:08:44.323Z"
   },
   {
    "duration": 124,
    "start_time": "2022-03-21T11:13:08.933Z"
   },
   {
    "duration": 97,
    "start_time": "2022-03-21T11:13:37.132Z"
   },
   {
    "duration": 123,
    "start_time": "2022-03-21T11:13:46.717Z"
   },
   {
    "duration": 123,
    "start_time": "2022-03-21T11:14:58.503Z"
   },
   {
    "duration": 1247,
    "start_time": "2022-03-21T11:15:03.411Z"
   },
   {
    "duration": 38,
    "start_time": "2022-03-21T11:15:04.660Z"
   },
   {
    "duration": 5,
    "start_time": "2022-03-21T11:15:04.700Z"
   },
   {
    "duration": 10,
    "start_time": "2022-03-21T11:15:04.706Z"
   },
   {
    "duration": 7,
    "start_time": "2022-03-21T11:15:04.719Z"
   },
   {
    "duration": 6,
    "start_time": "2022-03-21T11:15:04.727Z"
   },
   {
    "duration": 51,
    "start_time": "2022-03-21T11:15:04.735Z"
   },
   {
    "duration": 3487,
    "start_time": "2022-03-21T11:15:04.788Z"
   },
   {
    "duration": 139,
    "start_time": "2022-03-21T11:15:08.276Z"
   },
   {
    "duration": 24,
    "start_time": "2022-03-21T11:15:08.417Z"
   },
   {
    "duration": 145,
    "start_time": "2022-03-21T11:15:08.442Z"
   },
   {
    "duration": 184,
    "start_time": "2022-03-21T11:17:33.118Z"
   },
   {
    "duration": 101,
    "start_time": "2022-03-21T11:17:40.677Z"
   },
   {
    "duration": 132,
    "start_time": "2022-03-21T11:17:46.183Z"
   },
   {
    "duration": 141,
    "start_time": "2022-03-21T11:17:50.974Z"
   },
   {
    "duration": 124,
    "start_time": "2022-03-21T11:17:57.766Z"
   },
   {
    "duration": 129,
    "start_time": "2022-03-21T11:18:03.246Z"
   },
   {
    "duration": 3527,
    "start_time": "2022-03-21T11:20:24.289Z"
   },
   {
    "duration": 3603,
    "start_time": "2022-03-21T11:20:35.976Z"
   },
   {
    "duration": 1453,
    "start_time": "2022-03-21T11:21:25.559Z"
   },
   {
    "duration": 44,
    "start_time": "2022-03-21T11:21:27.015Z"
   },
   {
    "duration": 6,
    "start_time": "2022-03-21T11:21:27.062Z"
   },
   {
    "duration": 12,
    "start_time": "2022-03-21T11:21:27.069Z"
   },
   {
    "duration": 12,
    "start_time": "2022-03-21T11:21:27.083Z"
   },
   {
    "duration": 6,
    "start_time": "2022-03-21T11:21:27.096Z"
   },
   {
    "duration": 32,
    "start_time": "2022-03-21T11:21:27.104Z"
   },
   {
    "duration": 3732,
    "start_time": "2022-03-21T11:21:27.138Z"
   },
   {
    "duration": 128,
    "start_time": "2022-03-21T11:21:30.872Z"
   },
   {
    "duration": 25,
    "start_time": "2022-03-21T11:21:31.002Z"
   },
   {
    "duration": 145,
    "start_time": "2022-03-21T11:21:31.029Z"
   },
   {
    "duration": 30,
    "start_time": "2022-03-21T11:22:48.817Z"
   },
   {
    "duration": 1443,
    "start_time": "2022-03-21T11:23:00.585Z"
   },
   {
    "duration": 40,
    "start_time": "2022-03-21T11:23:02.031Z"
   },
   {
    "duration": 6,
    "start_time": "2022-03-21T11:23:02.073Z"
   },
   {
    "duration": 12,
    "start_time": "2022-03-21T11:23:02.082Z"
   },
   {
    "duration": 13,
    "start_time": "2022-03-21T11:23:02.096Z"
   },
   {
    "duration": 10,
    "start_time": "2022-03-21T11:23:02.111Z"
   },
   {
    "duration": 52,
    "start_time": "2022-03-21T11:23:02.122Z"
   },
   {
    "duration": 3472,
    "start_time": "2022-03-21T11:23:02.175Z"
   },
   {
    "duration": 140,
    "start_time": "2022-03-21T11:23:05.649Z"
   },
   {
    "duration": 22,
    "start_time": "2022-03-21T11:23:05.792Z"
   },
   {
    "duration": 142,
    "start_time": "2022-03-21T11:23:05.816Z"
   },
   {
    "duration": 11,
    "start_time": "2022-03-21T11:23:59.860Z"
   },
   {
    "duration": 12,
    "start_time": "2022-03-21T11:24:07.428Z"
   },
   {
    "duration": 29,
    "start_time": "2022-03-21T11:24:16.852Z"
   },
   {
    "duration": 1236,
    "start_time": "2022-03-21T11:24:26.799Z"
   },
   {
    "duration": 39,
    "start_time": "2022-03-21T11:24:28.036Z"
   },
   {
    "duration": 6,
    "start_time": "2022-03-21T11:24:28.076Z"
   },
   {
    "duration": 9,
    "start_time": "2022-03-21T11:24:28.084Z"
   },
   {
    "duration": 7,
    "start_time": "2022-03-21T11:24:28.095Z"
   },
   {
    "duration": 6,
    "start_time": "2022-03-21T11:24:28.104Z"
   },
   {
    "duration": 62,
    "start_time": "2022-03-21T11:24:28.112Z"
   },
   {
    "duration": 12,
    "start_time": "2022-03-21T11:24:28.176Z"
   },
   {
    "duration": 3532,
    "start_time": "2022-03-21T11:24:28.189Z"
   },
   {
    "duration": 130,
    "start_time": "2022-03-21T11:24:31.724Z"
   },
   {
    "duration": 30,
    "start_time": "2022-03-21T11:24:31.856Z"
   },
   {
    "duration": 143,
    "start_time": "2022-03-21T11:24:31.888Z"
   },
   {
    "duration": 28,
    "start_time": "2022-03-21T11:24:46.602Z"
   },
   {
    "duration": 11,
    "start_time": "2022-03-21T11:24:54.173Z"
   },
   {
    "duration": 3404,
    "start_time": "2022-03-21T11:25:44.861Z"
   },
   {
    "duration": 3592,
    "start_time": "2022-03-21T11:26:26.725Z"
   },
   {
    "duration": 3694,
    "start_time": "2022-03-21T11:26:45.478Z"
   },
   {
    "duration": 3784,
    "start_time": "2022-03-21T11:27:13.566Z"
   },
   {
    "duration": 108,
    "start_time": "2022-03-21T11:27:33.270Z"
   },
   {
    "duration": 119,
    "start_time": "2022-03-21T11:30:51.735Z"
   },
   {
    "duration": 124,
    "start_time": "2022-03-21T11:31:02.592Z"
   },
   {
    "duration": 110,
    "start_time": "2022-03-21T11:31:07.647Z"
   },
   {
    "duration": 113,
    "start_time": "2022-03-21T11:31:13.343Z"
   },
   {
    "duration": 30,
    "start_time": "2022-03-21T11:32:09.128Z"
   },
   {
    "duration": 3436,
    "start_time": "2022-03-21T11:32:34.496Z"
   },
   {
    "duration": 111,
    "start_time": "2022-03-21T12:54:48.631Z"
   },
   {
    "duration": 34,
    "start_time": "2022-03-21T12:55:24.465Z"
   },
   {
    "duration": 30,
    "start_time": "2022-03-21T12:55:30.775Z"
   },
   {
    "duration": 137,
    "start_time": "2022-03-21T12:55:50.851Z"
   },
   {
    "duration": 170,
    "start_time": "2022-03-21T12:56:04.623Z"
   },
   {
    "duration": 32,
    "start_time": "2022-03-21T12:56:23.639Z"
   },
   {
    "duration": 29492,
    "start_time": "2022-03-21T12:58:14.410Z"
   },
   {
    "duration": 3375,
    "start_time": "2022-03-21T12:58:51.201Z"
   },
   {
    "duration": 22,
    "start_time": "2022-03-21T12:59:28.249Z"
   },
   {
    "duration": 25,
    "start_time": "2022-03-21T12:59:37.337Z"
   },
   {
    "duration": 14,
    "start_time": "2022-03-21T12:59:49.194Z"
   },
   {
    "duration": 22,
    "start_time": "2022-03-21T12:59:53.914Z"
   },
   {
    "duration": 116,
    "start_time": "2022-03-21T13:00:31.188Z"
   },
   {
    "duration": 12,
    "start_time": "2022-03-21T13:01:06.955Z"
   },
   {
    "duration": 17,
    "start_time": "2022-03-21T13:01:44.619Z"
   },
   {
    "duration": 16,
    "start_time": "2022-03-21T13:01:59.994Z"
   },
   {
    "duration": 34,
    "start_time": "2022-03-21T13:06:16.779Z"
   },
   {
    "duration": 31,
    "start_time": "2022-03-21T13:07:08.995Z"
   },
   {
    "duration": 19,
    "start_time": "2022-03-21T13:19:13.813Z"
   },
   {
    "duration": 15,
    "start_time": "2022-03-21T13:19:29.805Z"
   },
   {
    "duration": 10,
    "start_time": "2022-03-21T13:19:38.632Z"
   },
   {
    "duration": 30,
    "start_time": "2022-03-21T13:21:05.287Z"
   },
   {
    "duration": 20,
    "start_time": "2022-03-21T13:21:14.247Z"
   },
   {
    "duration": 41,
    "start_time": "2022-03-21T13:54:58.143Z"
   },
   {
    "duration": 3577,
    "start_time": "2022-03-21T13:55:08.862Z"
   },
   {
    "duration": 115,
    "start_time": "2022-03-21T14:02:08.547Z"
   },
   {
    "duration": 118,
    "start_time": "2022-03-21T14:02:31.209Z"
   },
   {
    "duration": 1351,
    "start_time": "2022-03-21T14:02:38.131Z"
   },
   {
    "duration": 32,
    "start_time": "2022-03-21T14:02:39.484Z"
   },
   {
    "duration": 11,
    "start_time": "2022-03-21T14:02:39.517Z"
   },
   {
    "duration": 11,
    "start_time": "2022-03-21T14:02:39.530Z"
   },
   {
    "duration": 13,
    "start_time": "2022-03-21T14:02:39.542Z"
   },
   {
    "duration": 11,
    "start_time": "2022-03-21T14:02:39.557Z"
   },
   {
    "duration": 18,
    "start_time": "2022-03-21T14:02:39.569Z"
   },
   {
    "duration": 33,
    "start_time": "2022-03-21T14:02:39.588Z"
   },
   {
    "duration": 3528,
    "start_time": "2022-03-21T14:02:39.623Z"
   },
   {
    "duration": 28,
    "start_time": "2022-03-21T14:02:43.153Z"
   },
   {
    "duration": 126,
    "start_time": "2022-03-21T14:02:43.183Z"
   },
   {
    "duration": 68,
    "start_time": "2022-03-21T14:03:18.277Z"
   },
   {
    "duration": 175,
    "start_time": "2022-03-21T14:03:25.373Z"
   },
   {
    "duration": 121,
    "start_time": "2022-03-21T14:04:05.598Z"
   },
   {
    "duration": 1294,
    "start_time": "2022-03-21T14:04:27.082Z"
   },
   {
    "duration": 27,
    "start_time": "2022-03-21T14:04:28.378Z"
   },
   {
    "duration": 12,
    "start_time": "2022-03-21T14:04:28.406Z"
   },
   {
    "duration": 8,
    "start_time": "2022-03-21T14:04:28.419Z"
   },
   {
    "duration": 7,
    "start_time": "2022-03-21T14:04:28.430Z"
   },
   {
    "duration": 27,
    "start_time": "2022-03-21T14:04:28.439Z"
   },
   {
    "duration": 6,
    "start_time": "2022-03-21T14:04:28.467Z"
   },
   {
    "duration": 33,
    "start_time": "2022-03-21T14:04:28.475Z"
   },
   {
    "duration": 3468,
    "start_time": "2022-03-21T14:04:28.510Z"
   },
   {
    "duration": 26,
    "start_time": "2022-03-21T14:04:31.980Z"
   },
   {
    "duration": 148,
    "start_time": "2022-03-21T14:04:32.008Z"
   },
   {
    "duration": 113,
    "start_time": "2022-03-21T14:05:02.312Z"
   },
   {
    "duration": 117,
    "start_time": "2022-03-21T14:05:16.245Z"
   },
   {
    "duration": 94,
    "start_time": "2022-03-21T14:05:22.655Z"
   },
   {
    "duration": 117,
    "start_time": "2022-03-21T14:05:28.959Z"
   },
   {
    "duration": 114,
    "start_time": "2022-03-21T14:05:43.701Z"
   },
   {
    "duration": 10,
    "start_time": "2022-03-21T14:25:00.345Z"
   },
   {
    "duration": 9,
    "start_time": "2022-03-21T14:28:58.195Z"
   },
   {
    "duration": 1299,
    "start_time": "2022-03-21T14:29:04.167Z"
   },
   {
    "duration": 26,
    "start_time": "2022-03-21T14:29:05.468Z"
   },
   {
    "duration": 12,
    "start_time": "2022-03-21T14:29:05.496Z"
   },
   {
    "duration": 10,
    "start_time": "2022-03-21T14:29:05.510Z"
   },
   {
    "duration": 10,
    "start_time": "2022-03-21T14:29:05.522Z"
   },
   {
    "duration": 6,
    "start_time": "2022-03-21T14:29:05.533Z"
   },
   {
    "duration": 26,
    "start_time": "2022-03-21T14:29:05.541Z"
   },
   {
    "duration": 34,
    "start_time": "2022-03-21T14:29:05.569Z"
   },
   {
    "duration": 3469,
    "start_time": "2022-03-21T14:29:05.605Z"
   },
   {
    "duration": 97,
    "start_time": "2022-03-21T14:29:09.077Z"
   },
   {
    "duration": 0,
    "start_time": "2022-03-21T14:29:09.176Z"
   },
   {
    "duration": 0,
    "start_time": "2022-03-21T14:29:09.177Z"
   },
   {
    "duration": 1226,
    "start_time": "2022-03-21T14:30:27.408Z"
   },
   {
    "duration": 26,
    "start_time": "2022-03-21T14:30:28.637Z"
   },
   {
    "duration": 11,
    "start_time": "2022-03-21T14:30:28.665Z"
   },
   {
    "duration": 8,
    "start_time": "2022-03-21T14:30:28.678Z"
   },
   {
    "duration": 7,
    "start_time": "2022-03-21T14:30:28.688Z"
   },
   {
    "duration": 9,
    "start_time": "2022-03-21T14:30:28.697Z"
   },
   {
    "duration": 7,
    "start_time": "2022-03-21T14:30:28.707Z"
   },
   {
    "duration": 61,
    "start_time": "2022-03-21T14:30:28.716Z"
   },
   {
    "duration": 3447,
    "start_time": "2022-03-21T14:30:28.779Z"
   },
   {
    "duration": 23,
    "start_time": "2022-03-21T14:30:32.228Z"
   },
   {
    "duration": 122,
    "start_time": "2022-03-21T14:30:32.263Z"
   },
   {
    "duration": 100,
    "start_time": "2022-03-21T14:30:32.387Z"
   },
   {
    "duration": 16,
    "start_time": "2022-03-21T14:32:13.317Z"
   },
   {
    "duration": 15,
    "start_time": "2022-03-21T14:32:57.717Z"
   },
   {
    "duration": 17,
    "start_time": "2022-03-21T14:33:12.147Z"
   },
   {
    "duration": 16,
    "start_time": "2022-03-21T14:33:20.716Z"
   },
   {
    "duration": 17,
    "start_time": "2022-03-21T14:33:26.821Z"
   },
   {
    "duration": 6,
    "start_time": "2022-03-21T14:34:00.044Z"
   },
   {
    "duration": 15,
    "start_time": "2022-03-21T14:38:32.903Z"
   },
   {
    "duration": 16,
    "start_time": "2022-03-21T14:38:51.679Z"
   },
   {
    "duration": 1254,
    "start_time": "2022-03-21T14:58:11.007Z"
   },
   {
    "duration": 31,
    "start_time": "2022-03-21T14:58:12.263Z"
   },
   {
    "duration": 10,
    "start_time": "2022-03-21T14:58:12.296Z"
   },
   {
    "duration": 7,
    "start_time": "2022-03-21T14:58:12.308Z"
   },
   {
    "duration": 8,
    "start_time": "2022-03-21T14:58:12.316Z"
   },
   {
    "duration": 8,
    "start_time": "2022-03-21T14:58:12.326Z"
   },
   {
    "duration": 6,
    "start_time": "2022-03-21T14:58:12.363Z"
   },
   {
    "duration": 37,
    "start_time": "2022-03-21T14:58:12.371Z"
   },
   {
    "duration": 3434,
    "start_time": "2022-03-21T14:58:12.411Z"
   },
   {
    "duration": 33,
    "start_time": "2022-03-21T14:58:15.848Z"
   },
   {
    "duration": 120,
    "start_time": "2022-03-21T14:58:15.883Z"
   },
   {
    "duration": 15,
    "start_time": "2022-03-21T14:58:16.005Z"
   },
   {
    "duration": 1520,
    "start_time": "2022-03-22T10:30:41.203Z"
   },
   {
    "duration": 29,
    "start_time": "2022-03-22T10:30:42.725Z"
   },
   {
    "duration": 10,
    "start_time": "2022-03-22T10:30:42.755Z"
   },
   {
    "duration": 10,
    "start_time": "2022-03-22T10:30:42.766Z"
   },
   {
    "duration": 6,
    "start_time": "2022-03-22T10:31:52.689Z"
   },
   {
    "duration": 7,
    "start_time": "2022-03-22T10:31:53.344Z"
   },
   {
    "duration": 5,
    "start_time": "2022-03-22T10:32:17.241Z"
   },
   {
    "duration": 40,
    "start_time": "2022-03-22T10:32:18.832Z"
   },
   {
    "duration": 3637,
    "start_time": "2022-03-22T10:32:19.307Z"
   },
   {
    "duration": 22,
    "start_time": "2022-03-22T10:32:22.946Z"
   },
   {
    "duration": 126,
    "start_time": "2022-03-22T10:32:22.970Z"
   },
   {
    "duration": 16,
    "start_time": "2022-03-22T10:32:23.801Z"
   },
   {
    "duration": 1116,
    "start_time": "2022-03-22T14:43:37.018Z"
   },
   {
    "duration": 9,
    "start_time": "2022-03-22T14:43:48.015Z"
   },
   {
    "duration": 4,
    "start_time": "2022-03-22T14:44:05.615Z"
   },
   {
    "duration": 4,
    "start_time": "2022-03-22T14:44:17.487Z"
   },
   {
    "duration": 8,
    "start_time": "2022-03-22T15:17:17.455Z"
   },
   {
    "duration": 1325,
    "start_time": "2022-03-22T15:17:23.854Z"
   },
   {
    "duration": 26,
    "start_time": "2022-03-22T15:17:25.182Z"
   },
   {
    "duration": 11,
    "start_time": "2022-03-22T15:17:25.209Z"
   },
   {
    "duration": 12,
    "start_time": "2022-03-22T15:17:25.222Z"
   },
   {
    "duration": 9,
    "start_time": "2022-03-22T15:17:25.235Z"
   },
   {
    "duration": 7,
    "start_time": "2022-03-22T15:17:25.246Z"
   },
   {
    "duration": 8,
    "start_time": "2022-03-22T15:17:25.254Z"
   },
   {
    "duration": 5,
    "start_time": "2022-03-22T15:17:25.264Z"
   },
   {
    "duration": 30,
    "start_time": "2022-03-22T15:17:25.271Z"
   },
   {
    "duration": 3391,
    "start_time": "2022-03-22T15:17:25.334Z"
   },
   {
    "duration": 27,
    "start_time": "2022-03-22T15:17:28.726Z"
   },
   {
    "duration": 121,
    "start_time": "2022-03-22T15:17:28.755Z"
   },
   {
    "duration": 4,
    "start_time": "2022-03-22T15:17:28.878Z"
   },
   {
    "duration": 15,
    "start_time": "2022-03-22T15:17:28.883Z"
   },
   {
    "duration": 7,
    "start_time": "2022-03-22T15:18:29.984Z"
   },
   {
    "duration": 1475,
    "start_time": "2022-03-22T15:25:13.732Z"
   },
   {
    "duration": 1076,
    "start_time": "2022-03-22T15:25:43.567Z"
   },
   {
    "duration": 21,
    "start_time": "2022-03-22T15:27:01.646Z"
   },
   {
    "duration": 14,
    "start_time": "2022-03-22T15:28:49.229Z"
   },
   {
    "duration": 1239,
    "start_time": "2022-03-22T15:33:24.498Z"
   },
   {
    "duration": 1251,
    "start_time": "2022-03-22T15:36:30.604Z"
   },
   {
    "duration": 1395,
    "start_time": "2022-03-22T15:36:48.610Z"
   },
   {
    "duration": 1388,
    "start_time": "2022-03-22T15:37:06.476Z"
   },
   {
    "duration": 1586,
    "start_time": "2022-03-22T15:37:52.145Z"
   },
   {
    "duration": 1578,
    "start_time": "2022-03-22T15:38:14.410Z"
   },
   {
    "duration": 1440,
    "start_time": "2022-03-22T15:39:39.005Z"
   },
   {
    "duration": 3084,
    "start_time": "2022-03-22T15:40:29.785Z"
   },
   {
    "duration": 28,
    "start_time": "2022-03-22T15:40:32.871Z"
   },
   {
    "duration": 10,
    "start_time": "2022-03-22T15:40:32.901Z"
   },
   {
    "duration": 7,
    "start_time": "2022-03-22T15:40:32.914Z"
   },
   {
    "duration": 1479,
    "start_time": "2022-03-22T15:40:32.922Z"
   },
   {
    "duration": 8,
    "start_time": "2022-03-22T15:40:34.403Z"
   },
   {
    "duration": 8,
    "start_time": "2022-03-22T15:40:34.412Z"
   },
   {
    "duration": 11,
    "start_time": "2022-03-22T15:40:34.421Z"
   },
   {
    "duration": 33,
    "start_time": "2022-03-22T15:40:34.434Z"
   },
   {
    "duration": 3420,
    "start_time": "2022-03-22T15:40:34.470Z"
   },
   {
    "duration": 23,
    "start_time": "2022-03-22T15:40:37.891Z"
   },
   {
    "duration": 134,
    "start_time": "2022-03-22T15:40:37.916Z"
   },
   {
    "duration": 5,
    "start_time": "2022-03-22T15:40:38.052Z"
   },
   {
    "duration": 18,
    "start_time": "2022-03-22T15:40:38.058Z"
   },
   {
    "duration": 1424,
    "start_time": "2022-03-22T15:40:43.186Z"
   },
   {
    "duration": 1370,
    "start_time": "2022-03-22T15:40:48.016Z"
   },
   {
    "duration": 1389,
    "start_time": "2022-03-22T15:42:12.530Z"
   },
   {
    "duration": 1172,
    "start_time": "2022-03-22T15:44:18.651Z"
   },
   {
    "duration": 1487,
    "start_time": "2022-03-22T15:58:37.846Z"
   },
   {
    "duration": 28,
    "start_time": "2022-03-22T15:58:39.335Z"
   },
   {
    "duration": 12,
    "start_time": "2022-03-22T15:58:39.364Z"
   },
   {
    "duration": 8,
    "start_time": "2022-03-22T15:58:39.379Z"
   },
   {
    "duration": 988,
    "start_time": "2022-03-22T15:58:39.389Z"
   },
   {
    "duration": 5,
    "start_time": "2022-03-22T15:58:40.379Z"
   },
   {
    "duration": 9,
    "start_time": "2022-03-22T15:58:40.385Z"
   },
   {
    "duration": 10,
    "start_time": "2022-03-22T15:58:40.395Z"
   },
   {
    "duration": 6,
    "start_time": "2022-03-22T15:58:40.406Z"
   },
   {
    "duration": 134,
    "start_time": "2022-03-22T15:58:40.414Z"
   },
   {
    "duration": 2884,
    "start_time": "2022-03-22T15:58:40.550Z"
   },
   {
    "duration": 17,
    "start_time": "2022-03-22T15:58:43.436Z"
   },
   {
    "duration": 109,
    "start_time": "2022-03-22T15:58:43.455Z"
   },
   {
    "duration": 4,
    "start_time": "2022-03-22T15:58:43.566Z"
   },
   {
    "duration": 19,
    "start_time": "2022-03-22T15:58:43.571Z"
   },
   {
    "duration": 1948,
    "start_time": "2022-03-23T15:27:12.984Z"
   },
   {
    "duration": 35,
    "start_time": "2022-03-23T15:27:14.935Z"
   },
   {
    "duration": 118,
    "start_time": "2022-03-23T15:27:14.972Z"
   },
   {
    "duration": 8,
    "start_time": "2022-03-23T15:27:15.092Z"
   },
   {
    "duration": 1128,
    "start_time": "2022-03-23T15:27:15.102Z"
   },
   {
    "duration": 3,
    "start_time": "2022-03-23T15:27:16.232Z"
   },
   {
    "duration": 13,
    "start_time": "2022-03-23T15:27:16.237Z"
   },
   {
    "duration": 8,
    "start_time": "2022-03-23T15:27:16.253Z"
   },
   {
    "duration": 7,
    "start_time": "2022-03-23T15:27:16.262Z"
   },
   {
    "duration": 61,
    "start_time": "2022-03-23T15:27:16.271Z"
   },
   {
    "duration": 3287,
    "start_time": "2022-03-23T15:27:16.334Z"
   },
   {
    "duration": 15,
    "start_time": "2022-03-23T15:27:19.623Z"
   },
   {
    "duration": 113,
    "start_time": "2022-03-23T15:27:19.640Z"
   },
   {
    "duration": 4,
    "start_time": "2022-03-23T15:27:19.756Z"
   },
   {
    "duration": 15,
    "start_time": "2022-03-23T15:27:19.762Z"
   },
   {
    "duration": 53,
    "start_time": "2022-03-23T15:30:17.705Z"
   },
   {
    "duration": 190,
    "start_time": "2022-03-23T15:31:44.697Z"
   },
   {
    "duration": 13,
    "start_time": "2022-03-23T15:34:41.161Z"
   },
   {
    "duration": 9,
    "start_time": "2022-03-23T15:35:40.361Z"
   },
   {
    "duration": 5,
    "start_time": "2022-03-23T15:36:17.474Z"
   },
   {
    "duration": 6,
    "start_time": "2022-03-23T15:38:32.995Z"
   },
   {
    "duration": 187,
    "start_time": "2022-03-23T15:46:34.093Z"
   },
   {
    "duration": 195,
    "start_time": "2022-03-23T15:47:06.154Z"
   },
   {
    "duration": 282,
    "start_time": "2022-03-23T15:47:13.422Z"
   },
   {
    "duration": 102,
    "start_time": "2022-03-23T15:47:18.805Z"
   },
   {
    "duration": 1471,
    "start_time": "2022-03-23T15:47:26.002Z"
   },
   {
    "duration": 29,
    "start_time": "2022-03-23T15:47:27.475Z"
   },
   {
    "duration": 10,
    "start_time": "2022-03-23T15:47:27.505Z"
   },
   {
    "duration": 7,
    "start_time": "2022-03-23T15:47:27.517Z"
   },
   {
    "duration": 988,
    "start_time": "2022-03-23T15:47:27.526Z"
   },
   {
    "duration": 4,
    "start_time": "2022-03-23T15:47:28.515Z"
   },
   {
    "duration": 8,
    "start_time": "2022-03-23T15:47:28.521Z"
   },
   {
    "duration": 6,
    "start_time": "2022-03-23T15:47:28.531Z"
   },
   {
    "duration": 5,
    "start_time": "2022-03-23T15:47:28.538Z"
   },
   {
    "duration": 26,
    "start_time": "2022-03-23T15:47:28.545Z"
   },
   {
    "duration": 2992,
    "start_time": "2022-03-23T15:47:28.572Z"
   },
   {
    "duration": 17,
    "start_time": "2022-03-23T15:47:31.566Z"
   },
   {
    "duration": 116,
    "start_time": "2022-03-23T15:47:31.585Z"
   },
   {
    "duration": 0,
    "start_time": "2022-03-23T15:47:31.702Z"
   },
   {
    "duration": 0,
    "start_time": "2022-03-23T15:47:31.703Z"
   },
   {
    "duration": 0,
    "start_time": "2022-03-23T15:47:31.705Z"
   },
   {
    "duration": 1476,
    "start_time": "2022-03-23T15:48:30.311Z"
   },
   {
    "duration": 39,
    "start_time": "2022-03-23T15:48:31.790Z"
   },
   {
    "duration": 10,
    "start_time": "2022-03-23T15:48:31.830Z"
   },
   {
    "duration": 21,
    "start_time": "2022-03-23T15:48:31.842Z"
   },
   {
    "duration": 1113,
    "start_time": "2022-03-23T15:48:31.865Z"
   },
   {
    "duration": 4,
    "start_time": "2022-03-23T15:48:32.980Z"
   },
   {
    "duration": 14,
    "start_time": "2022-03-23T15:48:32.986Z"
   },
   {
    "duration": 14,
    "start_time": "2022-03-23T15:48:33.001Z"
   },
   {
    "duration": 7,
    "start_time": "2022-03-23T15:48:33.016Z"
   },
   {
    "duration": 33,
    "start_time": "2022-03-23T15:48:33.025Z"
   },
   {
    "duration": 3012,
    "start_time": "2022-03-23T15:48:33.060Z"
   },
   {
    "duration": 16,
    "start_time": "2022-03-23T15:48:36.074Z"
   },
   {
    "duration": 49,
    "start_time": "2022-03-23T15:48:36.100Z"
   },
   {
    "duration": 11,
    "start_time": "2022-03-23T15:48:36.150Z"
   },
   {
    "duration": 11,
    "start_time": "2022-03-23T15:48:36.162Z"
   },
   {
    "duration": 30,
    "start_time": "2022-03-23T15:48:36.174Z"
   },
   {
    "duration": 2258,
    "start_time": "2022-03-24T09:02:04.523Z"
   },
   {
    "duration": 32,
    "start_time": "2022-03-24T09:02:06.784Z"
   },
   {
    "duration": 18,
    "start_time": "2022-03-24T09:02:06.818Z"
   },
   {
    "duration": 8,
    "start_time": "2022-03-24T09:02:06.838Z"
   },
   {
    "duration": 1726,
    "start_time": "2022-03-24T09:02:06.849Z"
   },
   {
    "duration": 7,
    "start_time": "2022-03-24T09:02:08.577Z"
   },
   {
    "duration": 13,
    "start_time": "2022-03-24T09:02:08.586Z"
   },
   {
    "duration": 11,
    "start_time": "2022-03-24T09:02:08.602Z"
   },
   {
    "duration": 8,
    "start_time": "2022-03-24T09:02:08.615Z"
   },
   {
    "duration": 90,
    "start_time": "2022-03-24T09:02:08.627Z"
   },
   {
    "duration": 7295,
    "start_time": "2022-03-24T09:02:08.719Z"
   },
   {
    "duration": 39,
    "start_time": "2022-03-24T09:02:16.017Z"
   },
   {
    "duration": 80,
    "start_time": "2022-03-24T09:02:16.074Z"
   },
   {
    "duration": 31,
    "start_time": "2022-03-24T09:02:16.156Z"
   },
   {
    "duration": 16,
    "start_time": "2022-03-24T09:02:16.189Z"
   },
   {
    "duration": 7,
    "start_time": "2022-03-24T09:02:16.208Z"
   },
   {
    "duration": 18,
    "start_time": "2022-03-24T09:02:16.217Z"
   },
   {
    "duration": 164,
    "start_time": "2022-03-24T09:03:01.389Z"
   },
   {
    "duration": 8,
    "start_time": "2022-03-24T09:03:08.240Z"
   },
   {
    "duration": 1903,
    "start_time": "2022-03-24T09:18:59.558Z"
   },
   {
    "duration": 35,
    "start_time": "2022-03-24T09:19:01.464Z"
   },
   {
    "duration": 22,
    "start_time": "2022-03-24T09:19:01.502Z"
   },
   {
    "duration": 19,
    "start_time": "2022-03-24T09:19:01.528Z"
   },
   {
    "duration": 1649,
    "start_time": "2022-03-24T09:19:01.549Z"
   },
   {
    "duration": 5,
    "start_time": "2022-03-24T09:19:03.201Z"
   },
   {
    "duration": 12,
    "start_time": "2022-03-24T09:19:03.209Z"
   },
   {
    "duration": 10,
    "start_time": "2022-03-24T09:19:03.224Z"
   },
   {
    "duration": 37,
    "start_time": "2022-03-24T09:19:03.237Z"
   },
   {
    "duration": 42,
    "start_time": "2022-03-24T09:19:03.277Z"
   },
   {
    "duration": 4677,
    "start_time": "2022-03-24T09:19:03.321Z"
   },
   {
    "duration": 26,
    "start_time": "2022-03-24T09:19:08.000Z"
   },
   {
    "duration": 120,
    "start_time": "2022-03-24T09:19:08.029Z"
   },
   {
    "duration": 50,
    "start_time": "2022-03-24T09:19:08.152Z"
   },
   {
    "duration": 19,
    "start_time": "2022-03-24T09:19:08.204Z"
   },
   {
    "duration": 101,
    "start_time": "2022-03-24T09:19:08.226Z"
   },
   {
    "duration": 0,
    "start_time": "2022-03-24T09:19:08.330Z"
   },
   {
    "duration": 0,
    "start_time": "2022-03-24T09:19:08.332Z"
   },
   {
    "duration": 170,
    "start_time": "2022-03-24T09:19:14.840Z"
   },
   {
    "duration": 0,
    "start_time": "2022-03-24T09:19:15.012Z"
   },
   {
    "duration": 16,
    "start_time": "2022-03-24T09:23:19.178Z"
   },
   {
    "duration": 5,
    "start_time": "2022-03-24T09:30:39.915Z"
   },
   {
    "duration": 2668,
    "start_time": "2022-03-24T09:30:49.866Z"
   },
   {
    "duration": 47,
    "start_time": "2022-03-24T09:30:52.537Z"
   },
   {
    "duration": 24,
    "start_time": "2022-03-24T09:30:52.587Z"
   },
   {
    "duration": 9,
    "start_time": "2022-03-24T09:30:52.615Z"
   },
   {
    "duration": 1676,
    "start_time": "2022-03-24T09:30:52.626Z"
   },
   {
    "duration": 6,
    "start_time": "2022-03-24T09:30:54.304Z"
   },
   {
    "duration": 14,
    "start_time": "2022-03-24T09:30:54.312Z"
   },
   {
    "duration": 11,
    "start_time": "2022-03-24T09:30:54.328Z"
   },
   {
    "duration": 9,
    "start_time": "2022-03-24T09:30:54.373Z"
   },
   {
    "duration": 42,
    "start_time": "2022-03-24T09:30:54.386Z"
   },
   {
    "duration": 4610,
    "start_time": "2022-03-24T09:30:54.431Z"
   },
   {
    "duration": 32,
    "start_time": "2022-03-24T09:30:59.043Z"
   },
   {
    "duration": 78,
    "start_time": "2022-03-24T09:30:59.078Z"
   },
   {
    "duration": 20,
    "start_time": "2022-03-24T09:30:59.174Z"
   },
   {
    "duration": 14,
    "start_time": "2022-03-24T09:30:59.197Z"
   },
   {
    "duration": 6,
    "start_time": "2022-03-24T09:30:59.213Z"
   },
   {
    "duration": 0,
    "start_time": "2022-03-24T09:30:59.221Z"
   },
   {
    "duration": 0,
    "start_time": "2022-03-24T09:30:59.223Z"
   },
   {
    "duration": 368,
    "start_time": "2022-03-24T09:31:14.832Z"
   },
   {
    "duration": 324,
    "start_time": "2022-03-24T09:35:49.264Z"
   },
   {
    "duration": 519,
    "start_time": "2022-03-24T09:38:24.131Z"
   },
   {
    "duration": 8,
    "start_time": "2022-03-24T09:43:03.680Z"
   },
   {
    "duration": 14,
    "start_time": "2022-03-24T09:43:06.627Z"
   },
   {
    "duration": 315,
    "start_time": "2022-03-24T09:44:39.886Z"
   },
   {
    "duration": 309,
    "start_time": "2022-03-24T09:45:01.455Z"
   },
   {
    "duration": 242,
    "start_time": "2022-03-24T09:45:19.148Z"
   },
   {
    "duration": 256,
    "start_time": "2022-03-24T09:45:27.564Z"
   },
   {
    "duration": 244,
    "start_time": "2022-03-24T09:46:04.155Z"
   },
   {
    "duration": 214,
    "start_time": "2022-03-24T11:01:31.109Z"
   },
   {
    "duration": 207,
    "start_time": "2022-03-24T11:02:46.717Z"
   },
   {
    "duration": 207,
    "start_time": "2022-03-24T11:03:02.981Z"
   },
   {
    "duration": 329,
    "start_time": "2022-03-24T11:03:17.029Z"
   },
   {
    "duration": 1933,
    "start_time": "2022-03-24T11:03:26.832Z"
   },
   {
    "duration": 32,
    "start_time": "2022-03-24T11:03:28.767Z"
   },
   {
    "duration": 16,
    "start_time": "2022-03-24T11:03:28.801Z"
   },
   {
    "duration": 21,
    "start_time": "2022-03-24T11:03:28.819Z"
   },
   {
    "duration": 1795,
    "start_time": "2022-03-24T11:03:28.843Z"
   },
   {
    "duration": 5,
    "start_time": "2022-03-24T11:03:30.641Z"
   },
   {
    "duration": 27,
    "start_time": "2022-03-24T11:03:30.648Z"
   },
   {
    "duration": 28,
    "start_time": "2022-03-24T11:03:30.677Z"
   },
   {
    "duration": 28,
    "start_time": "2022-03-24T11:03:30.707Z"
   },
   {
    "duration": 93,
    "start_time": "2022-03-24T11:03:30.737Z"
   },
   {
    "duration": 4614,
    "start_time": "2022-03-24T11:03:30.832Z"
   },
   {
    "duration": 36,
    "start_time": "2022-03-24T11:03:35.448Z"
   },
   {
    "duration": 89,
    "start_time": "2022-03-24T11:03:35.486Z"
   },
   {
    "duration": 18,
    "start_time": "2022-03-24T11:03:35.579Z"
   },
   {
    "duration": 20,
    "start_time": "2022-03-24T11:03:35.599Z"
   },
   {
    "duration": 275,
    "start_time": "2022-03-24T11:03:35.621Z"
   },
   {
    "duration": 221,
    "start_time": "2022-03-24T11:03:35.898Z"
   },
   {
    "duration": 14,
    "start_time": "2022-03-24T11:03:36.121Z"
   },
   {
    "duration": 215,
    "start_time": "2022-03-24T11:04:22.390Z"
   },
   {
    "duration": 225,
    "start_time": "2022-03-24T11:05:35.703Z"
   },
   {
    "duration": 6,
    "start_time": "2022-03-24T11:11:09.010Z"
   },
   {
    "duration": 157,
    "start_time": "2022-03-24T11:11:23.280Z"
   },
   {
    "duration": 221,
    "start_time": "2022-03-24T11:11:44.056Z"
   },
   {
    "duration": 1902,
    "start_time": "2022-03-24T11:12:11.339Z"
   },
   {
    "duration": 35,
    "start_time": "2022-03-24T11:12:13.244Z"
   },
   {
    "duration": 17,
    "start_time": "2022-03-24T11:12:13.281Z"
   },
   {
    "duration": 32,
    "start_time": "2022-03-24T11:12:13.300Z"
   },
   {
    "duration": 1786,
    "start_time": "2022-03-24T11:12:13.336Z"
   },
   {
    "duration": 5,
    "start_time": "2022-03-24T11:12:15.124Z"
   },
   {
    "duration": 31,
    "start_time": "2022-03-24T11:12:15.132Z"
   },
   {
    "duration": 37,
    "start_time": "2022-03-24T11:12:15.166Z"
   },
   {
    "duration": 23,
    "start_time": "2022-03-24T11:12:15.205Z"
   },
   {
    "duration": 80,
    "start_time": "2022-03-24T11:12:15.230Z"
   },
   {
    "duration": 4540,
    "start_time": "2022-03-24T11:12:15.312Z"
   },
   {
    "duration": 37,
    "start_time": "2022-03-24T11:12:19.854Z"
   },
   {
    "duration": 87,
    "start_time": "2022-03-24T11:12:19.894Z"
   },
   {
    "duration": 19,
    "start_time": "2022-03-24T11:12:19.985Z"
   },
   {
    "duration": 12,
    "start_time": "2022-03-24T11:12:20.006Z"
   },
   {
    "duration": 288,
    "start_time": "2022-03-24T11:12:20.021Z"
   },
   {
    "duration": 235,
    "start_time": "2022-03-24T11:12:20.311Z"
   },
   {
    "duration": 3,
    "start_time": "2022-03-24T11:12:20.549Z"
   },
   {
    "duration": 1366,
    "start_time": "2022-03-24T11:15:29.937Z"
   },
   {
    "duration": 8,
    "start_time": "2022-03-24T11:15:44.954Z"
   },
   {
    "duration": 8,
    "start_time": "2022-03-24T11:15:57.417Z"
   },
   {
    "duration": 8,
    "start_time": "2022-03-24T11:17:17.538Z"
   },
   {
    "duration": 226,
    "start_time": "2022-03-24T11:18:03.171Z"
   },
   {
    "duration": 223,
    "start_time": "2022-03-24T11:20:13.277Z"
   },
   {
    "duration": 8,
    "start_time": "2022-03-24T11:21:05.540Z"
   },
   {
    "duration": 230,
    "start_time": "2022-03-24T11:22:53.428Z"
   },
   {
    "duration": 7,
    "start_time": "2022-03-24T11:22:56.884Z"
   },
   {
    "duration": 13,
    "start_time": "2022-03-24T11:23:14.565Z"
   },
   {
    "duration": 222,
    "start_time": "2022-03-24T11:24:22.885Z"
   },
   {
    "duration": 234,
    "start_time": "2022-03-24T11:25:51.342Z"
   },
   {
    "duration": 229,
    "start_time": "2022-03-24T11:53:24.294Z"
   },
   {
    "duration": 241,
    "start_time": "2022-03-24T11:57:19.339Z"
   },
   {
    "duration": 231,
    "start_time": "2022-03-24T12:04:32.509Z"
   },
   {
    "duration": 12,
    "start_time": "2022-03-24T12:05:37.293Z"
   },
   {
    "duration": 16,
    "start_time": "2022-03-24T12:06:26.550Z"
   },
   {
    "duration": 14,
    "start_time": "2022-03-24T12:06:34.934Z"
   },
   {
    "duration": 15,
    "start_time": "2022-03-24T12:06:50.565Z"
   },
   {
    "duration": 13,
    "start_time": "2022-03-24T12:07:10.861Z"
   },
   {
    "duration": 14,
    "start_time": "2022-03-24T12:07:33.750Z"
   },
   {
    "duration": 14,
    "start_time": "2022-03-24T12:08:34.829Z"
   },
   {
    "duration": 11,
    "start_time": "2022-03-24T12:10:18.388Z"
   },
   {
    "duration": 10,
    "start_time": "2022-03-24T12:10:48.270Z"
   },
   {
    "duration": 11,
    "start_time": "2022-03-24T12:10:57.276Z"
   },
   {
    "duration": 12,
    "start_time": "2022-03-24T12:11:06.980Z"
   },
   {
    "duration": 13,
    "start_time": "2022-03-24T12:11:25.032Z"
   },
   {
    "duration": 12,
    "start_time": "2022-03-24T12:11:52.295Z"
   },
   {
    "duration": 9,
    "start_time": "2022-03-24T12:12:04.569Z"
   },
   {
    "duration": 8,
    "start_time": "2022-03-24T12:28:55.663Z"
   },
   {
    "duration": 8,
    "start_time": "2022-03-24T12:29:20.206Z"
   },
   {
    "duration": 1845,
    "start_time": "2022-03-24T12:29:32.692Z"
   },
   {
    "duration": 35,
    "start_time": "2022-03-24T12:29:34.540Z"
   },
   {
    "duration": 17,
    "start_time": "2022-03-24T12:29:34.577Z"
   },
   {
    "duration": 21,
    "start_time": "2022-03-24T12:29:34.598Z"
   },
   {
    "duration": 1685,
    "start_time": "2022-03-24T12:29:34.621Z"
   },
   {
    "duration": 5,
    "start_time": "2022-03-24T12:29:36.308Z"
   },
   {
    "duration": 13,
    "start_time": "2022-03-24T12:29:36.315Z"
   },
   {
    "duration": 46,
    "start_time": "2022-03-24T12:29:36.331Z"
   },
   {
    "duration": 12,
    "start_time": "2022-03-24T12:29:36.380Z"
   },
   {
    "duration": 45,
    "start_time": "2022-03-24T12:29:36.396Z"
   },
   {
    "duration": 4633,
    "start_time": "2022-03-24T12:29:36.443Z"
   },
   {
    "duration": 30,
    "start_time": "2022-03-24T12:29:41.081Z"
   },
   {
    "duration": 106,
    "start_time": "2022-03-24T12:29:41.113Z"
   },
   {
    "duration": 22,
    "start_time": "2022-03-24T12:29:41.221Z"
   },
   {
    "duration": 33,
    "start_time": "2022-03-24T12:29:41.245Z"
   },
   {
    "duration": 12,
    "start_time": "2022-03-24T12:29:41.281Z"
   },
   {
    "duration": 309,
    "start_time": "2022-03-24T12:29:41.296Z"
   },
   {
    "duration": 7,
    "start_time": "2022-03-24T12:29:41.607Z"
   },
   {
    "duration": 16,
    "start_time": "2022-03-24T12:29:41.616Z"
   },
   {
    "duration": 12,
    "start_time": "2022-03-24T12:29:41.635Z"
   },
   {
    "duration": 10,
    "start_time": "2022-03-24T12:40:35.053Z"
   },
   {
    "duration": 1935,
    "start_time": "2022-03-24T12:40:46.363Z"
   },
   {
    "duration": 31,
    "start_time": "2022-03-24T12:40:48.300Z"
   },
   {
    "duration": 15,
    "start_time": "2022-03-24T12:40:48.333Z"
   },
   {
    "duration": 23,
    "start_time": "2022-03-24T12:40:48.353Z"
   },
   {
    "duration": 1773,
    "start_time": "2022-03-24T12:40:48.378Z"
   },
   {
    "duration": 5,
    "start_time": "2022-03-24T12:40:50.154Z"
   },
   {
    "duration": 19,
    "start_time": "2022-03-24T12:40:50.162Z"
   },
   {
    "duration": 10,
    "start_time": "2022-03-24T12:40:50.184Z"
   },
   {
    "duration": 9,
    "start_time": "2022-03-24T12:40:50.196Z"
   },
   {
    "duration": 89,
    "start_time": "2022-03-24T12:40:50.209Z"
   },
   {
    "duration": 4543,
    "start_time": "2022-03-24T12:40:50.301Z"
   },
   {
    "duration": 38,
    "start_time": "2022-03-24T12:40:54.847Z"
   },
   {
    "duration": 91,
    "start_time": "2022-03-24T12:40:54.887Z"
   },
   {
    "duration": 12,
    "start_time": "2022-03-24T12:40:54.981Z"
   },
   {
    "duration": 277,
    "start_time": "2022-03-24T12:40:54.995Z"
   },
   {
    "duration": 8,
    "start_time": "2022-03-24T12:40:55.274Z"
   },
   {
    "duration": 13,
    "start_time": "2022-03-24T12:40:55.284Z"
   },
   {
    "duration": 13,
    "start_time": "2022-03-24T12:40:55.299Z"
   },
   {
    "duration": 8,
    "start_time": "2022-03-24T13:04:21.101Z"
   },
   {
    "duration": 10,
    "start_time": "2022-03-24T13:08:28.343Z"
   },
   {
    "duration": 9,
    "start_time": "2022-03-24T13:08:44.128Z"
   },
   {
    "duration": 9,
    "start_time": "2022-03-24T13:09:02.142Z"
   },
   {
    "duration": 165,
    "start_time": "2022-03-24T13:09:59.112Z"
   },
   {
    "duration": 10,
    "start_time": "2022-03-24T13:10:28.393Z"
   }
  ],
  "kernelspec": {
   "display_name": "Python 3 (ipykernel)",
   "language": "python",
   "name": "python3"
  },
  "language_info": {
   "codemirror_mode": {
    "name": "ipython",
    "version": 3
   },
   "file_extension": ".py",
   "mimetype": "text/x-python",
   "name": "python",
   "nbconvert_exporter": "python",
   "pygments_lexer": "ipython3",
   "version": "3.9.7"
  },
  "toc": {
   "base_numbering": 1,
   "nav_menu": {},
   "number_sections": true,
   "sideBar": true,
   "skip_h1_title": true,
   "title_cell": "Table of Contents",
   "title_sidebar": "Contents",
   "toc_cell": false,
   "toc_position": {},
   "toc_section_display": true,
   "toc_window_display": false
  }
 },
 "nbformat": 4,
 "nbformat_minor": 4
}
